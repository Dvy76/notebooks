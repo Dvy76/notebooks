{
 "cells": [
  {
   "cell_type": "markdown",
   "id": "a1bb615f",
   "metadata": {
    "papermill": {
     "duration": 0.00352,
     "end_time": "2023-04-10T09:59:39.447461",
     "exception": false,
     "start_time": "2023-04-10T09:59:39.443941",
     "status": "completed"
    },
    "tags": []
   },
   "source": [
    "# FX Carry\n",
    "\n",
    "This notebook analyses the FX carry trade (aka forward premium anomaly) where we long high-yielding currencies against low-yielding ones. The uncovered interest rate parity (UIP) suggests that higher-yielding currencies should depreciate on average to offset the benefit of higher interest rates. Empirically however that those currencies tended to weaken much less (or even appreciate) than what the UIP predicts. The FX carry strategy tries to exploit this phenomenon by creating a long-short portfolio in the FX market."
   ]
  },
  {
   "cell_type": "code",
   "execution_count": 1,
   "id": "314d1b4f",
   "metadata": {
    "ExecuteTime": {
     "end_time": "2020-09-02T20:45:34.675713Z",
     "start_time": "2020-09-02T20:45:33.872425Z"
    },
    "execution": {
     "iopub.execute_input": "2023-04-10T09:59:39.454213Z",
     "iopub.status.busy": "2023-04-10T09:59:39.453973Z",
     "iopub.status.idle": "2023-04-10T09:59:41.921227Z",
     "shell.execute_reply": "2023-04-10T09:59:41.920503Z"
    },
    "papermill": {
     "duration": 2.47259,
     "end_time": "2023-04-10T09:59:41.922980",
     "exception": false,
     "start_time": "2023-04-10T09:59:39.450390",
     "status": "completed"
    },
    "tags": []
   },
   "outputs": [],
   "source": [
    "%matplotlib inline\n",
    "from datetime import datetime\n",
    "import logging\n",
    "import warnings\n",
    "warnings.simplefilter(action='ignore', category=FutureWarning)\n",
    "\n",
    "import pandas as pd\n",
    "import matplotlib.pyplot as plt\n",
    "import matplotlib.ticker as mticker\n",
    "plt.style.use('bmh')\n",
    "\n",
    "from vivace.backtest import signal\n",
    "from vivace.backtest import processing\n",
    "from vivace.backtest.engine import BacktestEngine\n",
    "from vivace.backtest.enums import Strategy\n",
    "from vivace.backtest.stats import Performance"
   ]
  },
  {
   "cell_type": "markdown",
   "id": "e8698673",
   "metadata": {
    "papermill": {
     "duration": 0.002667,
     "end_time": "2023-04-10T09:59:41.928523",
     "exception": false,
     "start_time": "2023-04-10T09:59:41.925856",
     "status": "completed"
    },
    "tags": []
   },
   "source": [
    "# Performance\n",
    "## Run backtest\n",
    "\n",
    "The `engine` instance below implements a FX carry backtest using FX futures listed on CME. Currencies used in the backtest are EUR, JPY, GBP, CAD, AUD and NZD. Carry is defined as\n",
    "$$\n",
    "Carry_t = {\\rm log} \\left( \\frac{F_{1, t}}{F_{2, t}} \\right) \\cdot annualisationFactor\n",
    "$$\n",
    "where $F_{1, t}$ is the 1st contract price, $F_{2, t}$ is the 2nd contract price and $annualisationFactor$ is  4 as futures contracts are rolled quarterly to make sure we have prices for both 1st and 2nd contracts on a given day.\n",
    "\n",
    "The backtest always invests in the front contract and hence the formula above is not technically measuring the carry associated with invested contracts. On the other hand, this can alleviate the issue of potentially using asynchronous prices (settle prices are used to calculate carry) and as long as futures curve is close to linear, it should provide a gooe approximation of carry.\n",
    "\n",
    "Once instruments are ranked by the $Carry$, it goes long top 33% (i.e., 2 instruments at max) and short bottom 33%. Positions are adjusted on a monthly basis."
   ]
  },
  {
   "cell_type": "code",
   "execution_count": null,
   "id": "4303d7a2",
   "metadata": {
    "ExecuteTime": {
     "end_time": "2020-09-02T20:46:27.102769Z",
     "start_time": "2020-09-02T20:45:34.676982Z"
    },
    "execution": {
     "iopub.execute_input": "2020-11-26T05:45:08.247716Z",
     "iopub.status.busy": "2020-11-26T05:45:08.247584Z",
     "iopub.status.idle": "2020-11-26T05:46:09.040687Z",
     "shell.execute_reply": "2020-11-26T05:46:09.040119Z",
     "shell.execute_reply.started": "2020-11-26T05:45:08.247699Z"
    },
    "papermill": {
     "duration": null,
     "end_time": null,
     "exception": false,
     "start_time": "2023-04-10T09:59:41.931122",
     "status": "running"
    },
    "tags": []
   },
   "outputs": [],
   "source": [
    "engine = BacktestEngine(\n",
    "    strategy=Strategy.DELTA_ONE.value,\n",
    "    instrument=['EC', 'JY', 'BP', 'CD', 'AD', 'ZB'],\n",
    "    signal=signal.XSCarryFutureFuture(),\n",
    "    log_level=logging.WARN,\n",
    ")\n",
    "engine.run()"
   ]
  },
  {
   "cell_type": "code",
   "execution_count": null,
   "id": "ba39923a",
   "metadata": {
    "ExecuteTime": {
     "end_time": "2020-09-02T20:46:34.857104Z",
     "start_time": "2020-09-02T20:46:27.104071Z"
    },
    "execution": {
     "iopub.execute_input": "2020-11-26T05:46:09.041780Z",
     "iopub.status.busy": "2020-11-26T05:46:09.041639Z",
     "iopub.status.idle": "2020-11-26T05:46:17.213937Z",
     "shell.execute_reply": "2020-11-26T05:46:17.213366Z",
     "shell.execute_reply.started": "2020-11-26T05:46:09.041762Z"
    },
    "papermill": {
     "duration": null,
     "end_time": null,
     "exception": null,
     "start_time": null,
     "status": "pending"
    },
    "tags": []
   },
   "outputs": [],
   "source": [
    "portfolio_return = (engine.calculate_equity_curve(calculate_net=False)\n",
    "                    .rename('FX carry portfoliot'))"
   ]
  },
  {
   "cell_type": "code",
   "execution_count": null,
   "id": "0ad10510",
   "metadata": {
    "ExecuteTime": {
     "end_time": "2020-09-02T20:46:35.174240Z",
     "start_time": "2020-09-02T20:46:34.858204Z"
    },
    "execution": {
     "iopub.execute_input": "2020-11-26T05:46:17.214847Z",
     "iopub.status.busy": "2020-11-26T05:46:17.214709Z",
     "iopub.status.idle": "2020-11-26T05:46:17.655922Z",
     "shell.execute_reply": "2020-11-26T05:46:17.655263Z",
     "shell.execute_reply.started": "2020-11-26T05:46:17.214830Z"
    },
    "papermill": {
     "duration": null,
     "end_time": null,
     "exception": null,
     "start_time": null,
     "status": "pending"
    },
    "tags": []
   },
   "outputs": [],
   "source": [
    "fig, ax = plt.subplots(figsize=(8, 4.5))\n",
    "portfolio_return.plot(ax=ax, logy=True);\n",
    "ax.set_title('FX carry portfolio')\n",
    "ax.set_ylabel('Cumulative returns');"
   ]
  },
  {
   "cell_type": "code",
   "execution_count": null,
   "id": "aa855e35",
   "metadata": {
    "ExecuteTime": {
     "end_time": "2020-09-02T20:34:29.709612Z",
     "start_time": "2020-09-02T20:34:29.435887Z"
    },
    "execution": {
     "iopub.execute_input": "2020-11-26T05:46:17.657145Z",
     "iopub.status.busy": "2020-11-26T05:46:17.656817Z",
     "iopub.status.idle": "2020-11-26T05:46:17.880627Z",
     "shell.execute_reply": "2020-11-26T05:46:17.880200Z",
     "shell.execute_reply.started": "2020-11-26T05:46:17.657114Z"
    },
    "papermill": {
     "duration": null,
     "end_time": null,
     "exception": null,
     "start_time": null,
     "status": "pending"
    },
    "tags": []
   },
   "outputs": [],
   "source": [
    "portfolio_return.pipe(Performance).summary()"
   ]
  },
  {
   "cell_type": "markdown",
   "id": "dfdb8aab",
   "metadata": {
    "papermill": {
     "duration": null,
     "end_time": null,
     "exception": null,
     "start_time": null,
     "status": "pending"
    },
    "tags": []
   },
   "source": [
    "## Recent performance"
   ]
  },
  {
   "cell_type": "code",
   "execution_count": null,
   "id": "cad2a7c3",
   "metadata": {
    "ExecuteTime": {
     "end_time": "2020-09-02T20:50:28.774469Z",
     "start_time": "2020-09-02T20:50:28.508223Z"
    },
    "execution": {
     "iopub.execute_input": "2020-11-26T05:46:17.881376Z",
     "iopub.status.busy": "2020-11-26T05:46:17.881240Z",
     "iopub.status.idle": "2020-11-26T05:46:18.174711Z",
     "shell.execute_reply": "2020-11-26T05:46:18.174132Z",
     "shell.execute_reply.started": "2020-11-26T05:46:17.881358Z"
    },
    "papermill": {
     "duration": null,
     "end_time": null,
     "exception": null,
     "start_time": null,
     "status": "pending"
    },
    "tags": []
   },
   "outputs": [],
   "source": [
    "fig, ax = plt.subplots(figsize=(8, 4.5))\n",
    "portfolio_return.tail(252 * 2).plot(ax=ax, logy=True);\n",
    "ax.set_title('FX carry portfolio')\n",
    "ax.set_ylabel('Cumulative returns');"
   ]
  },
  {
   "cell_type": "markdown",
   "id": "3da5e77b",
   "metadata": {
    "papermill": {
     "duration": null,
     "end_time": null,
     "exception": null,
     "start_time": null,
     "status": "pending"
    },
    "tags": []
   },
   "source": [
    "## Carry\n",
    "As can be seen below, carry dispersion in developed market is shrunk significantly recently which explains the weak performance of fx carry trade."
   ]
  },
  {
   "cell_type": "code",
   "execution_count": null,
   "id": "e9f99497",
   "metadata": {
    "ExecuteTime": {
     "end_time": "2020-09-02T20:51:09.416976Z",
     "start_time": "2020-09-02T20:51:09.113780Z"
    },
    "execution": {
     "iopub.execute_input": "2020-11-26T05:46:18.175592Z",
     "iopub.status.busy": "2020-11-26T05:46:18.175425Z",
     "iopub.status.idle": "2020-11-26T05:46:18.505656Z",
     "shell.execute_reply": "2020-11-26T05:46:18.505085Z",
     "shell.execute_reply.started": "2020-11-26T05:46:18.175573Z"
    },
    "papermill": {
     "duration": null,
     "end_time": null,
     "exception": null,
     "start_time": null,
     "status": "pending"
    },
    "tags": []
   },
   "outputs": [],
   "source": [
    "fig, ax = plt.subplots(figsize=(14, 5))\n",
    "engine.pipeline.pipeline[0].carry.asfreq('m', method='pad').plot(ax=ax)\n",
    "ax.yaxis.set_major_formatter(mticker.PercentFormatter(1, decimals=0))\n",
    "ax.axhline(0, color='black', lw=1, ls='--')\n",
    "ax.set_ylabel('Annualised carry')\n",
    "ax.set_title('Annualised carry vs USD');"
   ]
  },
  {
   "cell_type": "markdown",
   "id": "7b72a61a",
   "metadata": {
    "papermill": {
     "duration": null,
     "end_time": null,
     "exception": null,
     "start_time": null,
     "status": "pending"
    },
    "tags": []
   },
   "source": [
    "# Reference\n",
    "\n",
    "- Deutsche Bank, 2009, db Currency Return.\n",
    "- Koijen, R.S., Moskowitz, T.J., Pedersen, L.H. and Vrugt, E.B., 2018. Carry. Journal of Financial Economics, 127(2), pp.197-225."
   ]
  },
  {
   "cell_type": "code",
   "execution_count": null,
   "id": "41d05803",
   "metadata": {
    "ExecuteTime": {
     "end_time": "2020-08-30T21:10:44.739545Z",
     "start_time": "2020-08-30T21:10:44.736784Z"
    },
    "execution": {
     "iopub.execute_input": "2020-11-26T05:46:18.506442Z",
     "iopub.status.busy": "2020-11-26T05:46:18.506311Z",
     "iopub.status.idle": "2020-11-26T05:46:18.509509Z",
     "shell.execute_reply": "2020-11-26T05:46:18.508995Z",
     "shell.execute_reply.started": "2020-11-26T05:46:18.506425Z"
    },
    "papermill": {
     "duration": null,
     "end_time": null,
     "exception": null,
     "start_time": null,
     "status": "pending"
    },
    "tags": []
   },
   "outputs": [],
   "source": [
    "print(f'Updated: {datetime.utcnow().strftime(\"%d-%b-%Y %H:%M\")}')"
   ]
  }
 ],
 "metadata": {
  "kernelspec": {
   "display_name": "Python 3",
   "language": "python",
   "name": "python3"
  },
  "language_info": {
   "codemirror_mode": {
    "name": "ipython",
    "version": 3
   },
   "file_extension": ".py",
   "mimetype": "text/x-python",
   "name": "python",
   "nbconvert_exporter": "python",
   "pygments_lexer": "ipython3",
   "version": "3.8.1"
  },
  "papermill": {
   "default_parameters": {},
   "duration": null,
   "end_time": null,
   "environment_variables": {},
   "exception": null,
   "input_path": "notebooks/papermill/fx_carry.ipynb",
   "output_path": "notebooks/fx_carry.ipynb",
   "parameters": {},
   "start_time": "2023-04-10T09:59:38.070173",
   "version": "2.4.0"
  },
  "toc": {
   "base_numbering": 1,
   "nav_menu": {},
   "number_sections": true,
   "sideBar": true,
   "skip_h1_title": false,
   "title_cell": "Table of Contents",
   "title_sidebar": "Contents",
   "toc_cell": true,
   "toc_position": {
    "height": "calc(100% - 180px)",
    "left": "10px",
    "top": "150px",
    "width": "165px"
   },
   "toc_section_display": true,
   "toc_window_display": true
  }
 },
 "nbformat": 4,
 "nbformat_minor": 5
}