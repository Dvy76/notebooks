{
 "cells": [
  {
   "cell_type": "markdown",
   "id": "2bab9438",
   "metadata": {
    "tags": [
     "papermill-error-cell-tag"
    ]
   },
   "source": [
    "<span style=\"color:red; font-family:Helvetica Neue, Helvetica, Arial, sans-serif; font-size:2em;\">An Exception was encountered at '<a href=\"#papermill-error-cell\">In [3]</a>'.</span>"
   ]
  },
  {
   "cell_type": "markdown",
   "id": "eb5d92a2",
   "metadata": {
    "papermill": {
     "duration": 0.005795,
     "end_time": "2022-05-13T06:00:08.143032",
     "exception": false,
     "start_time": "2022-05-13T06:00:08.137237",
     "status": "completed"
    },
    "tags": []
   },
   "source": [
    "# Futures long-only performance summary\n",
    "\n",
    "This notebook summarises long-only performance statistics for major futures contracts provided by various data sources. Daily returns are computed by rolling the front contract before either the first notice day or the last trade day to avoid deliveries. Concretely, a daily return on a given day is written as follows:\n",
    "\n",
    "$$\n",
    "r_{t, i} = \\frac{F_{t, i} - F_{t-1, t}}{F_{rolldate, i}}\n",
    "$$\n",
    "\n",
    "where $F_{t, i}$ is the futures price at time $t$ for an instrument $i$, $F_{rolldate, i}$ is the futures price when we roll into the contract. All functionalities as well as underlying data are provided by a private library `vivace`."
   ]
  },
  {
   "cell_type": "code",
   "execution_count": 1,
   "id": "71cf7bee",
   "metadata": {
    "ExecuteTime": {
     "end_time": "2020-08-22T16:45:06.161148Z",
     "start_time": "2020-08-22T16:45:05.357848Z"
    },
    "execution": {
     "iopub.execute_input": "2022-05-13T06:00:08.155473Z",
     "iopub.status.busy": "2022-05-13T06:00:08.154709Z",
     "iopub.status.idle": "2022-05-13T06:00:14.186783Z",
     "shell.execute_reply": "2022-05-13T06:00:14.186022Z"
    },
    "papermill": {
     "duration": 6.040547,
     "end_time": "2022-05-13T06:00:14.189019",
     "exception": false,
     "start_time": "2022-05-13T06:00:08.148472",
     "status": "completed"
    },
    "run_control": {
     "frozen": false,
     "read_only": false
    },
    "tags": []
   },
   "outputs": [],
   "source": [
    "%matplotlib inline\n",
    "from datetime import datetime\n",
    "import logging\n",
    "import warnings\n",
    "warnings.simplefilter(action='ignore', category=FutureWarning)\n",
    "\n",
    "import pandas as pd\n",
    "import matplotlib.pyplot as plt\n",
    "plt.style.use('bmh')\n",
    "\n",
    "from vivace.backtest.contract import all_futures_lo_map\n",
    "from vivace.backtest.engine import BacktestEngine\n",
    "from vivace.backtest.enums import Strategy\n",
    "from vivace.backtest.stats import Performance, PerfStats"
   ]
  },
  {
   "cell_type": "markdown",
   "id": "4721aae5",
   "metadata": {
    "papermill": {
     "duration": 0.003935,
     "end_time": "2022-05-13T06:00:14.197179",
     "exception": false,
     "start_time": "2022-05-13T06:00:14.193244",
     "status": "completed"
    },
    "tags": []
   },
   "source": [
    "`all_futures_lo_map` contains the list of all available futures contracts for long-only calculation."
   ]
  },
  {
   "cell_type": "code",
   "execution_count": 2,
   "id": "913abbdc",
   "metadata": {
    "ExecuteTime": {
     "end_time": "2020-08-22T16:45:08.533484Z",
     "start_time": "2020-08-22T16:45:08.516240Z"
    },
    "execution": {
     "iopub.execute_input": "2022-05-13T06:00:14.207937Z",
     "iopub.status.busy": "2022-05-13T06:00:14.207272Z",
     "iopub.status.idle": "2022-05-13T06:00:14.217810Z",
     "shell.execute_reply": "2022-05-13T06:00:14.217067Z"
    },
    "papermill": {
     "duration": 0.018417,
     "end_time": "2022-05-13T06:00:14.220101",
     "exception": false,
     "start_time": "2022-05-13T06:00:14.201684",
     "status": "completed"
    },
    "tags": []
   },
   "outputs": [
    {
     "data": {
      "text/plain": [
       "ticker\n",
       "AC                   MSCI World\n",
       "AD            Australian Dollar\n",
       "AE                          AEX\n",
       "AP                      SPI 200\n",
       "BO                  Soybean Oil\n",
       "                ...            \n",
       "YE        3-month Euroyen TIBOR\n",
       "YM    Australia 3-year Treasury\n",
       "Z                      FTSE 100\n",
       "ZB           New Zealand Dollar\n",
       "ZO                         Oats\n",
       "Name: name, Length: 134, dtype: object"
      ]
     },
     "execution_count": 2,
     "metadata": {},
     "output_type": "execute_result"
    }
   ],
   "source": [
    "all_futures_lo_map"
   ]
  },
  {
   "cell_type": "markdown",
   "id": "922a530f",
   "metadata": {
    "papermill": {
     "duration": 0.005939,
     "end_time": "2022-05-13T06:00:14.232800",
     "exception": false,
     "start_time": "2022-05-13T06:00:14.226861",
     "status": "completed"
    },
    "tags": []
   },
   "source": [
    "Without any signals, `BacktestEngine` calculates simple long-only strategies by default. `Performance` computes typical performance metrics such as Sharpe ratio."
   ]
  },
  {
   "cell_type": "markdown",
   "id": "5f907303",
   "metadata": {
    "tags": [
     "papermill-error-cell-tag"
    ]
   },
   "source": [
    "<span id=\"papermill-error-cell\" style=\"color:red; font-family:Helvetica Neue, Helvetica, Arial, sans-serif; font-size:2em;\">Execution using papermill encountered an exception here and stopped:</span>"
   ]
  },
  {
   "cell_type": "code",
   "execution_count": 3,
   "id": "72140a45",
   "metadata": {
    "ExecuteTime": {
     "end_time": "2020-08-22T16:52:59.328899Z",
     "start_time": "2020-08-22T16:45:17.699927Z"
    },
    "execution": {
     "iopub.execute_input": "2022-05-13T06:00:14.248501Z",
     "iopub.status.busy": "2022-05-13T06:00:14.247797Z",
     "iopub.status.idle": "2022-05-13T06:14:25.736647Z",
     "shell.execute_reply": "2022-05-13T06:14:25.735676Z"
    },
    "papermill": {
     "duration": 851.502254,
     "end_time": "2022-05-13T06:14:25.741886",
     "exception": true,
     "start_time": "2022-05-13T06:00:14.239632",
     "status": "failed"
    },
    "tags": []
   },
   "outputs": [
    {
     "name": "stderr",
     "output_type": "stream",
     "text": [
      "Traceback (most recent call last):\n",
      "  File \"/usr/local/lib/python3.9/site-packages/pymongo/pool.py\", line 1079, in connect\n",
      "    sock = _configured_socket(self.address, self.opts)\n",
      "  File \"/usr/local/lib/python3.9/site-packages/pymongo/pool.py\", line 895, in _configured_socket\n",
      "    sock = _create_connection(address, options)\n",
      "  File \"/usr/local/lib/python3.9/site-packages/pymongo/pool.py\", line 876, in _create_connection\n",
      "    raise err\n",
      "  File \"/usr/local/lib/python3.9/site-packages/pymongo/pool.py\", line 869, in _create_connection\n",
      "    sock.connect(sa)\n",
      "socket.timeout: timed out\n",
      "\n",
      "During handling of the above exception, another exception occurred:\n",
      "\n",
      "Traceback (most recent call last):\n",
      "  File \"/usr/local/lib/python3.9/site-packages/pymongo/mongo_client.py\", line 1746, in _process_periodic_tasks\n",
      "    self._topology.update_pool()\n",
      "  File \"/usr/local/lib/python3.9/site-packages/pymongo/topology.py\", line 430, in update_pool\n",
      "    server._pool.remove_stale_sockets()\n",
      "  File \"/usr/local/lib/python3.9/site-packages/pymongo/pool.py\", line 1055, in remove_stale_sockets\n",
      "    sock_info = self.connect()\n",
      "  File \"/usr/local/lib/python3.9/site-packages/pymongo/pool.py\", line 1088, in connect\n",
      "    _raise_connection_failure(self.address, error)\n",
      "  File \"/usr/local/lib/python3.9/site-packages/pymongo/pool.py\", line 281, in _raise_connection_failure\n",
      "    raise NetworkTimeout(msg)\n",
      "pymongo.errors.NetworkTimeout: 192.168.1.163:27017: timed out\n"
     ]
    },
    {
     "ename": "ServerSelectionTimeoutError",
     "evalue": "192.168.1.163:27017: timed out",
     "output_type": "error",
     "traceback": [
      "\u001b[0;31m---------------------------------------------------------------------------\u001b[0m",
      "\u001b[0;31mServerSelectionTimeoutError\u001b[0m               Traceback (most recent call last)",
      "Input \u001b[0;32mIn [3]\u001b[0m, in \u001b[0;36m<cell line: 3>\u001b[0;34m()\u001b[0m\n\u001b[1;32m      3\u001b[0m \u001b[38;5;28;01mfor\u001b[39;00m ticker, name \u001b[38;5;129;01min\u001b[39;00m all_futures_lo_map\u001b[38;5;241m.\u001b[39mitems():\n\u001b[1;32m      4\u001b[0m     engine \u001b[38;5;241m=\u001b[39m BacktestEngine(\n\u001b[1;32m      5\u001b[0m         instrument\u001b[38;5;241m=\u001b[39mticker,\n\u001b[1;32m      6\u001b[0m         strategy\u001b[38;5;241m=\u001b[39mStrategy\u001b[38;5;241m.\u001b[39mDELTA_ONE\u001b[38;5;241m.\u001b[39mvalue,\n\u001b[1;32m      7\u001b[0m         log_level\u001b[38;5;241m=\u001b[39mlogging\u001b[38;5;241m.\u001b[39mWARNING,\n\u001b[1;32m      8\u001b[0m     )\n\u001b[0;32m----> 9\u001b[0m     \u001b[43mengine\u001b[49m\u001b[38;5;241;43m.\u001b[39;49m\u001b[43mrun\u001b[49m\u001b[43m(\u001b[49m\u001b[43m)\u001b[49m\n\u001b[1;32m     10\u001b[0m     equity_curve \u001b[38;5;241m=\u001b[39m engine\u001b[38;5;241m.\u001b[39mcalculate_equity_curve(calculate_net\u001b[38;5;241m=\u001b[39m\u001b[38;5;28;01mFalse\u001b[39;00m)\n\u001b[1;32m     11\u001b[0m     stats \u001b[38;5;241m=\u001b[39m Performance(equity_curve)\u001b[38;5;241m.\u001b[39msummary()\u001b[38;5;241m.\u001b[39msqueeze()\n",
      "File \u001b[0;32m/usr/local/lib/python3.9/site-packages/vivace/backtest/engine.py:81\u001b[0m, in \u001b[0;36mBacktestEngine.run\u001b[0;34m(self)\u001b[0m\n\u001b[1;32m     79\u001b[0m \u001b[38;5;28;01mdef\u001b[39;00m \u001b[38;5;21mrun\u001b[39m(\u001b[38;5;28mself\u001b[39m):\n\u001b[1;32m     80\u001b[0m     logger\u001b[38;5;241m.\u001b[39minfo(\u001b[38;5;124m'\u001b[39m\u001b[38;5;124mLoading contract data\u001b[39m\u001b[38;5;124m'\u001b[39m)\n\u001b[0;32m---> 81\u001b[0m     \u001b[38;5;28mself\u001b[39m\u001b[38;5;241m.\u001b[39mcontracts \u001b[38;5;241m=\u001b[39m \u001b[43mload_contracts\u001b[49m\u001b[43m(\u001b[49m\u001b[38;5;28;43mself\u001b[39;49m\u001b[43m)\u001b[49m\n\u001b[1;32m     82\u001b[0m     \u001b[38;5;28mself\u001b[39m\u001b[38;5;241m.\u001b[39m_contract_tree \u001b[38;5;241m=\u001b[39m to_contract_tree(\u001b[38;5;28mself\u001b[39m\u001b[38;5;241m.\u001b[39mcontracts)\n\u001b[1;32m     84\u001b[0m     \u001b[38;5;28;01mfor\u001b[39;00m c \u001b[38;5;129;01min\u001b[39;00m \u001b[38;5;28mself\u001b[39m\u001b[38;5;241m.\u001b[39mcontracts:\n",
      "File \u001b[0;32m/usr/local/lib/python3.9/site-packages/vivace/backtest/contract.py:998\u001b[0m, in \u001b[0;36mload_contracts\u001b[0;34m(engine)\u001b[0m\n\u001b[1;32m    995\u001b[0m \u001b[38;5;28;01mif\u001b[39;00m instrument_def\u001b[38;5;241m.\u001b[39mis_futures \u001b[38;5;129;01mis\u001b[39;00m \u001b[38;5;28;01mNone\u001b[39;00m \u001b[38;5;129;01mor\u001b[39;00m instrument_def\u001b[38;5;241m.\u001b[39mis_futures:\n\u001b[1;32m    996\u001b[0m     \u001b[38;5;66;03m# Loading futures is prioritised.\u001b[39;00m\n\u001b[1;32m    997\u001b[0m     \u001b[38;5;28;01mif\u001b[39;00m instrument_def\u001b[38;5;241m.\u001b[39mname \u001b[38;5;129;01min\u001b[39;00m all_futures:\n\u001b[0;32m--> 998\u001b[0m         contracts\u001b[38;5;241m.\u001b[39mappend(\u001b[43mload_futures_contract\u001b[49m\u001b[43m(\u001b[49m\u001b[43mstart_date\u001b[49m\u001b[43m,\u001b[49m\u001b[43m \u001b[49m\u001b[43mend_date\u001b[49m\u001b[43m,\u001b[49m\u001b[43m \u001b[49m\u001b[43minstrument_def\u001b[49m\u001b[43m)\u001b[49m)\n\u001b[1;32m    999\u001b[0m     \u001b[38;5;28;01melse\u001b[39;00m:\n\u001b[1;32m   1001\u001b[0m         \u001b[38;5;28;01mif\u001b[39;00m instrument_def\u001b[38;5;241m.\u001b[39mis_futures:\n",
      "File \u001b[0;32m/usr/local/lib/python3.9/site-packages/vivace/backtest/contract.py:1136\u001b[0m, in \u001b[0;36mload_futures_contract\u001b[0;34m(start_date, end_date, instrument_def)\u001b[0m\n\u001b[1;32m   1133\u001b[0m     contracts \u001b[38;5;241m+\u001b[39m\u001b[38;5;241m=\u001b[39m create_contracts(PRICE_DATA_FUTURES_TS, start_date, end_date, instrument_def)\n\u001b[1;32m   1135\u001b[0m \u001b[38;5;28;01mif\u001b[39;00m instrument_def\u001b[38;5;241m.\u001b[39mname \u001b[38;5;129;01min\u001b[39;00m barchart_tickers:\n\u001b[0;32m-> 1136\u001b[0m     contracts \u001b[38;5;241m+\u001b[39m\u001b[38;5;241m=\u001b[39m \u001b[43mcreate_contracts\u001b[49m\u001b[43m(\u001b[49m\u001b[43mBARCHART_FUTURES_TS\u001b[49m\u001b[43m,\u001b[49m\u001b[43m \u001b[49m\u001b[43mstart_date\u001b[49m\u001b[43m,\u001b[49m\u001b[43m \u001b[49m\u001b[43mend_date\u001b[49m\u001b[43m,\u001b[49m\u001b[43m \u001b[49m\u001b[43minstrument_def\u001b[49m\u001b[43m)\u001b[49m\n\u001b[1;32m   1137\u001b[0m \u001b[38;5;28;01melif\u001b[39;00m instrument_def\u001b[38;5;241m.\u001b[39mname \u001b[38;5;129;01min\u001b[39;00m quandl_tickers:\n\u001b[1;32m   1138\u001b[0m     contracts \u001b[38;5;241m+\u001b[39m\u001b[38;5;241m=\u001b[39m create_contracts(QUANDL_FUTURES_TS, start_date, end_date, instrument_def)\n",
      "File \u001b[0;32m/usr/local/lib/python3.9/site-packages/vivace/backtest/contract.py:1101\u001b[0m, in \u001b[0;36mload_futures_contract.<locals>.create_contracts\u001b[0;34m(library_name, start_date, end_date, instrument_def)\u001b[0m\n\u001b[1;32m   1097\u001b[0m     symbols \u001b[38;5;241m=\u001b[39m list_symbols_sorted(library_name, \u001b[38;5;124m'\u001b[39m\u001b[38;5;124mdummy_last_trade\u001b[39m\u001b[38;5;124m'\u001b[39m, ticker_prefix\u001b[38;5;241m=\u001b[39minstrument_def\u001b[38;5;241m.\u001b[39mname,\n\u001b[1;32m   1098\u001b[0m                                   first_trade\u001b[38;5;241m=\u001b[39m{\u001b[38;5;124m'\u001b[39m\u001b[38;5;124m$lt\u001b[39m\u001b[38;5;124m'\u001b[39m: end_date},\n\u001b[1;32m   1099\u001b[0m                                   contract_month\u001b[38;5;241m=\u001b[39m{\u001b[38;5;124m'\u001b[39m\u001b[38;5;124m$in\u001b[39m\u001b[38;5;124m'\u001b[39m: instrument_def\u001b[38;5;241m.\u001b[39mcontract_months})\n\u001b[1;32m   1100\u001b[0m \u001b[38;5;28;01melse\u001b[39;00m:\n\u001b[0;32m-> 1101\u001b[0m     symbols \u001b[38;5;241m=\u001b[39m \u001b[43mlist_symbols_sorted\u001b[49m\u001b[43m(\u001b[49m\u001b[43mlibrary_name\u001b[49m\u001b[43m,\u001b[49m\u001b[43m \u001b[49m\u001b[38;5;124;43m'\u001b[39;49m\u001b[38;5;124;43mlast_trade\u001b[39;49m\u001b[38;5;124;43m'\u001b[39;49m\u001b[43m,\u001b[49m\u001b[43m \u001b[49m\u001b[43mticker_prefix\u001b[49m\u001b[38;5;241;43m=\u001b[39;49m\u001b[43minstrument_def\u001b[49m\u001b[38;5;241;43m.\u001b[39;49m\u001b[43mname\u001b[49m\u001b[43m,\u001b[49m\n\u001b[1;32m   1102\u001b[0m \u001b[43m                                  \u001b[49m\u001b[43mlast_trade\u001b[49m\u001b[38;5;241;43m=\u001b[39;49m\u001b[43m{\u001b[49m\u001b[38;5;124;43m'\u001b[39;49m\u001b[38;5;124;43m$gt\u001b[39;49m\u001b[38;5;124;43m'\u001b[39;49m\u001b[43m:\u001b[49m\u001b[43m \u001b[49m\u001b[43mstart_date\u001b[49m\u001b[43m}\u001b[49m\u001b[43m,\u001b[49m\u001b[43m \u001b[49m\u001b[43mfirst_trade\u001b[49m\u001b[38;5;241;43m=\u001b[39;49m\u001b[43m{\u001b[49m\u001b[38;5;124;43m'\u001b[39;49m\u001b[38;5;124;43m$lt\u001b[39;49m\u001b[38;5;124;43m'\u001b[39;49m\u001b[43m:\u001b[49m\u001b[43m \u001b[49m\u001b[43mend_date\u001b[49m\u001b[43m}\u001b[49m\u001b[43m,\u001b[49m\n\u001b[1;32m   1103\u001b[0m \u001b[43m                                  \u001b[49m\u001b[43mcontract_month\u001b[49m\u001b[38;5;241;43m=\u001b[39;49m\u001b[43m{\u001b[49m\u001b[38;5;124;43m'\u001b[39;49m\u001b[38;5;124;43m$in\u001b[39;49m\u001b[38;5;124;43m'\u001b[39;49m\u001b[43m:\u001b[49m\u001b[43m \u001b[49m\u001b[43minstrument_def\u001b[49m\u001b[38;5;241;43m.\u001b[39;49m\u001b[43mcontract_months\u001b[49m\u001b[43m}\u001b[49m\u001b[43m)\u001b[49m\n\u001b[1;32m   1104\u001b[0m symbols \u001b[38;5;241m=\u001b[39m remove_bad_symbols(instrument_def\u001b[38;5;241m.\u001b[39mname, symbols, library_name)\n\u001b[1;32m   1105\u001b[0m expiry_count \u001b[38;5;241m=\u001b[39m \u001b[38;5;241m0\u001b[39m\n",
      "File \u001b[0;32m/usr/local/lib/python3.9/site-packages/vivace/io.py:263\u001b[0m, in \u001b[0;36mlist_symbols_sorted\u001b[0;34m(library_name, sort_key, **kwargs)\u001b[0m\n\u001b[1;32m    261\u001b[0m \u001b[38;5;124;03m\"\"\" Get a list of symbols sorted by the `sort_key` \"\"\"\u001b[39;00m\n\u001b[1;32m    262\u001b[0m library \u001b[38;5;241m=\u001b[39m store[library_name]\n\u001b[0;32m--> 263\u001b[0m symbols \u001b[38;5;241m=\u001b[39m \u001b[43mlibrary\u001b[49m\u001b[38;5;241;43m.\u001b[39;49m\u001b[43mlist_symbols\u001b[49m\u001b[43m(\u001b[49m\u001b[38;5;241;43m*\u001b[39;49m\u001b[38;5;241;43m*\u001b[39;49m\u001b[43mkwargs\u001b[49m\u001b[43m)\u001b[49m\n\u001b[1;32m    264\u001b[0m symbols \u001b[38;5;241m=\u001b[39m \u001b[38;5;28msorted\u001b[39m(symbols, key\u001b[38;5;241m=\u001b[39m\u001b[38;5;28;01mlambda\u001b[39;00m x: library\u001b[38;5;241m.\u001b[39mread_metadata(x)\u001b[38;5;241m.\u001b[39mmetadata[sort_key])\n\u001b[1;32m    265\u001b[0m \u001b[38;5;28;01mreturn\u001b[39;00m symbols\n",
      "File \u001b[0;32m/usr/local/lib/python3.9/site-packages/arctic/decorators.py:50\u001b[0m, in \u001b[0;36mmongo_retry.<locals>.f_retry\u001b[0;34m(*args, **kwargs)\u001b[0m\n\u001b[1;32m     48\u001b[0m \u001b[38;5;28;01mwhile\u001b[39;00m \u001b[38;5;28;01mTrue\u001b[39;00m:\n\u001b[1;32m     49\u001b[0m     \u001b[38;5;28;01mtry\u001b[39;00m:\n\u001b[0;32m---> 50\u001b[0m         \u001b[38;5;28;01mreturn\u001b[39;00m \u001b[43mf\u001b[49m\u001b[43m(\u001b[49m\u001b[38;5;241;43m*\u001b[39;49m\u001b[43margs\u001b[49m\u001b[43m,\u001b[49m\u001b[43m \u001b[49m\u001b[38;5;241;43m*\u001b[39;49m\u001b[38;5;241;43m*\u001b[39;49m\u001b[43mkwargs\u001b[49m\u001b[43m)\u001b[49m\n\u001b[1;32m     51\u001b[0m     \u001b[38;5;28;01mexcept\u001b[39;00m (DuplicateKeyError, ServerSelectionTimeoutError, BulkWriteError) \u001b[38;5;28;01mas\u001b[39;00m e:\n\u001b[1;32m     52\u001b[0m         \u001b[38;5;66;03m# Re-raise errors that won't go away.\u001b[39;00m\n\u001b[1;32m     53\u001b[0m         _handle_error(f, e, _retry_count, \u001b[38;5;241m*\u001b[39m\u001b[38;5;241m*\u001b[39m_get_host(args))\n",
      "File \u001b[0;32m/usr/local/lib/python3.9/site-packages/arctic/store/version_store.py:186\u001b[0m, in \u001b[0;36mVersionStore.list_symbols\u001b[0;34m(self, all_symbols, snapshot, regex, **kwargs)\u001b[0m\n\u001b[1;32m    176\u001b[0m pipeline\u001b[38;5;241m.\u001b[39mextend([\n\u001b[1;32m    177\u001b[0m     {\u001b[38;5;124m'\u001b[39m\u001b[38;5;124m$sort\u001b[39m\u001b[38;5;124m'\u001b[39m: bson\u001b[38;5;241m.\u001b[39mSON([(\u001b[38;5;124m'\u001b[39m\u001b[38;5;124msymbol\u001b[39m\u001b[38;5;124m'\u001b[39m, pymongo\u001b[38;5;241m.\u001b[39mASCENDING), (\u001b[38;5;124m'\u001b[39m\u001b[38;5;124mversion\u001b[39m\u001b[38;5;124m'\u001b[39m, pymongo\u001b[38;5;241m.\u001b[39mDESCENDING)])},\n\u001b[1;32m    178\u001b[0m     {\u001b[38;5;124m'\u001b[39m\u001b[38;5;124m$group\u001b[39m\u001b[38;5;124m'\u001b[39m: {\n\u001b[0;32m   (...)\u001b[0m\n\u001b[1;32m    182\u001b[0m     {\u001b[38;5;124m'\u001b[39m\u001b[38;5;124m$match\u001b[39m\u001b[38;5;124m'\u001b[39m: {\u001b[38;5;124m'\u001b[39m\u001b[38;5;124mdeleted\u001b[39m\u001b[38;5;124m'\u001b[39m: {\u001b[38;5;124m'\u001b[39m\u001b[38;5;124m$ne\u001b[39m\u001b[38;5;124m'\u001b[39m: \u001b[38;5;28;01mTrue\u001b[39;00m}}}\n\u001b[1;32m    183\u001b[0m ])\n\u001b[1;32m    184\u001b[0m \u001b[38;5;66;03m# We may hit the group memory limit (100MB), so use allowDiskUse to circumvent this\u001b[39;00m\n\u001b[1;32m    185\u001b[0m \u001b[38;5;66;03m#  - https://docs.mongodb.com/manual/reference/operator/aggregation/group/#group-memory-limit\u001b[39;00m\n\u001b[0;32m--> 186\u001b[0m \u001b[38;5;28;01mreturn\u001b[39;00m \u001b[38;5;28msorted\u001b[39m([x[\u001b[38;5;124m'\u001b[39m\u001b[38;5;124m_id\u001b[39m\u001b[38;5;124m'\u001b[39m] \u001b[38;5;28;01mfor\u001b[39;00m x \u001b[38;5;129;01min\u001b[39;00m \u001b[38;5;28;43mself\u001b[39;49m\u001b[38;5;241;43m.\u001b[39;49m\u001b[43m_versions\u001b[49m\u001b[38;5;241;43m.\u001b[39;49m\u001b[43maggregate\u001b[49m\u001b[43m(\u001b[49m\u001b[43mpipeline\u001b[49m\u001b[43m,\u001b[49m\u001b[43m \u001b[49m\u001b[43mallowDiskUse\u001b[49m\u001b[38;5;241;43m=\u001b[39;49m\u001b[38;5;28;43;01mTrue\u001b[39;49;00m\u001b[43m)\u001b[49m])\n",
      "File \u001b[0;32m/usr/local/lib/python3.9/site-packages/pymongo/collection.py:2374\u001b[0m, in \u001b[0;36mCollection.aggregate\u001b[0;34m(self, pipeline, session, **kwargs)\u001b[0m\n\u001b[1;32m   2301\u001b[0m \u001b[38;5;28;01mdef\u001b[39;00m \u001b[38;5;21maggregate\u001b[39m(\u001b[38;5;28mself\u001b[39m, pipeline, session\u001b[38;5;241m=\u001b[39m\u001b[38;5;28;01mNone\u001b[39;00m, \u001b[38;5;241m*\u001b[39m\u001b[38;5;241m*\u001b[39mkwargs):\n\u001b[1;32m   2302\u001b[0m     \u001b[38;5;124;03m\"\"\"Perform an aggregation using the aggregation framework on this\u001b[39;00m\n\u001b[1;32m   2303\u001b[0m \u001b[38;5;124;03m    collection.\u001b[39;00m\n\u001b[1;32m   2304\u001b[0m \n\u001b[0;32m   (...)\u001b[0m\n\u001b[1;32m   2372\u001b[0m \u001b[38;5;124;03m        https://docs.mongodb.com/manual/reference/command/aggregate\u001b[39;00m\n\u001b[1;32m   2373\u001b[0m \u001b[38;5;124;03m    \"\"\"\u001b[39;00m\n\u001b[0;32m-> 2374\u001b[0m     \u001b[38;5;28;01mwith\u001b[39;00m \u001b[38;5;28mself\u001b[39m\u001b[38;5;241m.\u001b[39m__database\u001b[38;5;241m.\u001b[39mclient\u001b[38;5;241m.\u001b[39m_tmp_session(session, close\u001b[38;5;241m=\u001b[39m\u001b[38;5;28;01mFalse\u001b[39;00m) \u001b[38;5;28;01mas\u001b[39;00m s:\n\u001b[1;32m   2375\u001b[0m         \u001b[38;5;28;01mreturn\u001b[39;00m \u001b[38;5;28mself\u001b[39m\u001b[38;5;241m.\u001b[39m_aggregate(_CollectionAggregationCommand,\n\u001b[1;32m   2376\u001b[0m                                pipeline,\n\u001b[1;32m   2377\u001b[0m                                CommandCursor,\n\u001b[1;32m   2378\u001b[0m                                session\u001b[38;5;241m=\u001b[39ms,\n\u001b[1;32m   2379\u001b[0m                                explicit_session\u001b[38;5;241m=\u001b[39msession \u001b[38;5;129;01mis\u001b[39;00m \u001b[38;5;129;01mnot\u001b[39;00m \u001b[38;5;28;01mNone\u001b[39;00m,\n\u001b[1;32m   2380\u001b[0m                                \u001b[38;5;241m*\u001b[39m\u001b[38;5;241m*\u001b[39mkwargs)\n",
      "File \u001b[0;32m/usr/local/lib/python3.9/contextlib.py:117\u001b[0m, in \u001b[0;36m_GeneratorContextManager.__enter__\u001b[0;34m(self)\u001b[0m\n\u001b[1;32m    115\u001b[0m \u001b[38;5;28;01mdel\u001b[39;00m \u001b[38;5;28mself\u001b[39m\u001b[38;5;241m.\u001b[39margs, \u001b[38;5;28mself\u001b[39m\u001b[38;5;241m.\u001b[39mkwds, \u001b[38;5;28mself\u001b[39m\u001b[38;5;241m.\u001b[39mfunc\n\u001b[1;32m    116\u001b[0m \u001b[38;5;28;01mtry\u001b[39;00m:\n\u001b[0;32m--> 117\u001b[0m     \u001b[38;5;28;01mreturn\u001b[39;00m \u001b[38;5;28;43mnext\u001b[39;49m\u001b[43m(\u001b[49m\u001b[38;5;28;43mself\u001b[39;49m\u001b[38;5;241;43m.\u001b[39;49m\u001b[43mgen\u001b[49m\u001b[43m)\u001b[49m\n\u001b[1;32m    118\u001b[0m \u001b[38;5;28;01mexcept\u001b[39;00m \u001b[38;5;167;01mStopIteration\u001b[39;00m:\n\u001b[1;32m    119\u001b[0m     \u001b[38;5;28;01mraise\u001b[39;00m \u001b[38;5;167;01mRuntimeError\u001b[39;00m(\u001b[38;5;124m\"\u001b[39m\u001b[38;5;124mgenerator didn\u001b[39m\u001b[38;5;124m'\u001b[39m\u001b[38;5;124mt yield\u001b[39m\u001b[38;5;124m\"\u001b[39m) \u001b[38;5;28;01mfrom\u001b[39;00m \u001b[38;5;28mNone\u001b[39m\n",
      "File \u001b[0;32m/usr/local/lib/python3.9/site-packages/pymongo/mongo_client.py:1820\u001b[0m, in \u001b[0;36mMongoClient._tmp_session\u001b[0;34m(self, session, close)\u001b[0m\n\u001b[1;32m   1817\u001b[0m     \u001b[38;5;28;01myield\u001b[39;00m session\n\u001b[1;32m   1818\u001b[0m     \u001b[38;5;28;01mreturn\u001b[39;00m\n\u001b[0;32m-> 1820\u001b[0m s \u001b[38;5;241m=\u001b[39m \u001b[38;5;28;43mself\u001b[39;49m\u001b[38;5;241;43m.\u001b[39;49m\u001b[43m_ensure_session\u001b[49m\u001b[43m(\u001b[49m\u001b[43msession\u001b[49m\u001b[43m)\u001b[49m\n\u001b[1;32m   1821\u001b[0m \u001b[38;5;28;01mif\u001b[39;00m s \u001b[38;5;129;01mand\u001b[39;00m close:\n\u001b[1;32m   1822\u001b[0m     \u001b[38;5;28;01mwith\u001b[39;00m s:\n\u001b[1;32m   1823\u001b[0m         \u001b[38;5;66;03m# Call end_session when we exit this scope.\u001b[39;00m\n",
      "File \u001b[0;32m/usr/local/lib/python3.9/site-packages/pymongo/mongo_client.py:1807\u001b[0m, in \u001b[0;36mMongoClient._ensure_session\u001b[0;34m(self, session)\u001b[0m\n\u001b[1;32m   1802\u001b[0m     \u001b[38;5;28;01mreturn\u001b[39;00m session\n\u001b[1;32m   1804\u001b[0m \u001b[38;5;28;01mtry\u001b[39;00m:\n\u001b[1;32m   1805\u001b[0m     \u001b[38;5;66;03m# Don't make implicit sessions causally consistent. Applications\u001b[39;00m\n\u001b[1;32m   1806\u001b[0m     \u001b[38;5;66;03m# should always opt-in.\u001b[39;00m\n\u001b[0;32m-> 1807\u001b[0m     \u001b[38;5;28;01mreturn\u001b[39;00m \u001b[38;5;28;43mself\u001b[39;49m\u001b[38;5;241;43m.\u001b[39;49m\u001b[43m__start_session\u001b[49m\u001b[43m(\u001b[49m\u001b[38;5;28;43;01mTrue\u001b[39;49;00m\u001b[43m,\u001b[49m\u001b[43m \u001b[49m\u001b[43mcausal_consistency\u001b[49m\u001b[38;5;241;43m=\u001b[39;49m\u001b[38;5;28;43;01mFalse\u001b[39;49;00m\u001b[43m)\u001b[49m\n\u001b[1;32m   1808\u001b[0m \u001b[38;5;28;01mexcept\u001b[39;00m (ConfigurationError, InvalidOperation):\n\u001b[1;32m   1809\u001b[0m     \u001b[38;5;66;03m# Sessions not supported, or multiple users authenticated.\u001b[39;00m\n\u001b[1;32m   1810\u001b[0m     \u001b[38;5;28;01mreturn\u001b[39;00m \u001b[38;5;28;01mNone\u001b[39;00m\n",
      "File \u001b[0;32m/usr/local/lib/python3.9/site-packages/pymongo/mongo_client.py:1760\u001b[0m, in \u001b[0;36mMongoClient.__start_session\u001b[0;34m(self, implicit, **kwargs)\u001b[0m\n\u001b[1;32m   1756\u001b[0m     \u001b[38;5;28;01mraise\u001b[39;00m InvalidOperation(\u001b[38;5;124m\"\u001b[39m\u001b[38;5;124mCannot call start_session when\u001b[39m\u001b[38;5;124m\"\u001b[39m\n\u001b[1;32m   1757\u001b[0m                            \u001b[38;5;124m\"\u001b[39m\u001b[38;5;124m multiple users are authenticated\u001b[39m\u001b[38;5;124m\"\u001b[39m)\n\u001b[1;32m   1759\u001b[0m \u001b[38;5;66;03m# Raises ConfigurationError if sessions are not supported.\u001b[39;00m\n\u001b[0;32m-> 1760\u001b[0m server_session \u001b[38;5;241m=\u001b[39m \u001b[38;5;28;43mself\u001b[39;49m\u001b[38;5;241;43m.\u001b[39;49m\u001b[43m_get_server_session\u001b[49m\u001b[43m(\u001b[49m\u001b[43m)\u001b[49m\n\u001b[1;32m   1761\u001b[0m opts \u001b[38;5;241m=\u001b[39m client_session\u001b[38;5;241m.\u001b[39mSessionOptions(\u001b[38;5;241m*\u001b[39m\u001b[38;5;241m*\u001b[39mkwargs)\n\u001b[1;32m   1762\u001b[0m \u001b[38;5;28;01mreturn\u001b[39;00m client_session\u001b[38;5;241m.\u001b[39mClientSession(\n\u001b[1;32m   1763\u001b[0m     \u001b[38;5;28mself\u001b[39m, server_session, opts, authset, implicit)\n",
      "File \u001b[0;32m/usr/local/lib/python3.9/site-packages/pymongo/mongo_client.py:1793\u001b[0m, in \u001b[0;36mMongoClient._get_server_session\u001b[0;34m(self)\u001b[0m\n\u001b[1;32m   1791\u001b[0m \u001b[38;5;28;01mdef\u001b[39;00m \u001b[38;5;21m_get_server_session\u001b[39m(\u001b[38;5;28mself\u001b[39m):\n\u001b[1;32m   1792\u001b[0m     \u001b[38;5;124;03m\"\"\"Internal: start or resume a _ServerSession.\"\"\"\u001b[39;00m\n\u001b[0;32m-> 1793\u001b[0m     \u001b[38;5;28;01mreturn\u001b[39;00m \u001b[38;5;28;43mself\u001b[39;49m\u001b[38;5;241;43m.\u001b[39;49m\u001b[43m_topology\u001b[49m\u001b[38;5;241;43m.\u001b[39;49m\u001b[43mget_server_session\u001b[49m\u001b[43m(\u001b[49m\u001b[43m)\u001b[49m\n",
      "File \u001b[0;32m/usr/local/lib/python3.9/site-packages/pymongo/topology.py:474\u001b[0m, in \u001b[0;36mTopology.get_server_session\u001b[0;34m(self)\u001b[0m\n\u001b[1;32m    472\u001b[0m \u001b[38;5;28;01mif\u001b[39;00m \u001b[38;5;28mself\u001b[39m\u001b[38;5;241m.\u001b[39m_description\u001b[38;5;241m.\u001b[39mtopology_type \u001b[38;5;241m==\u001b[39m TOPOLOGY_TYPE\u001b[38;5;241m.\u001b[39mSingle:\n\u001b[1;32m    473\u001b[0m     \u001b[38;5;28;01mif\u001b[39;00m \u001b[38;5;129;01mnot\u001b[39;00m \u001b[38;5;28mself\u001b[39m\u001b[38;5;241m.\u001b[39m_description\u001b[38;5;241m.\u001b[39mhas_known_servers:\n\u001b[0;32m--> 474\u001b[0m         \u001b[38;5;28;43mself\u001b[39;49m\u001b[38;5;241;43m.\u001b[39;49m\u001b[43m_select_servers_loop\u001b[49m\u001b[43m(\u001b[49m\n\u001b[1;32m    475\u001b[0m \u001b[43m            \u001b[49m\u001b[43many_server_selector\u001b[49m\u001b[43m,\u001b[49m\n\u001b[1;32m    476\u001b[0m \u001b[43m            \u001b[49m\u001b[38;5;28;43mself\u001b[39;49m\u001b[38;5;241;43m.\u001b[39;49m\u001b[43m_settings\u001b[49m\u001b[38;5;241;43m.\u001b[39;49m\u001b[43mserver_selection_timeout\u001b[49m\u001b[43m,\u001b[49m\n\u001b[1;32m    477\u001b[0m \u001b[43m            \u001b[49m\u001b[38;5;28;43;01mNone\u001b[39;49;00m\u001b[43m)\u001b[49m\n\u001b[1;32m    478\u001b[0m \u001b[38;5;28;01melif\u001b[39;00m \u001b[38;5;129;01mnot\u001b[39;00m \u001b[38;5;28mself\u001b[39m\u001b[38;5;241m.\u001b[39m_description\u001b[38;5;241m.\u001b[39mreadable_servers:\n\u001b[1;32m    479\u001b[0m     \u001b[38;5;28mself\u001b[39m\u001b[38;5;241m.\u001b[39m_select_servers_loop(\n\u001b[1;32m    480\u001b[0m         readable_server_selector,\n\u001b[1;32m    481\u001b[0m         \u001b[38;5;28mself\u001b[39m\u001b[38;5;241m.\u001b[39m_settings\u001b[38;5;241m.\u001b[39mserver_selection_timeout,\n\u001b[1;32m    482\u001b[0m         \u001b[38;5;28;01mNone\u001b[39;00m)\n",
      "File \u001b[0;32m/usr/local/lib/python3.9/site-packages/pymongo/topology.py:204\u001b[0m, in \u001b[0;36mTopology._select_servers_loop\u001b[0;34m(self, selector, timeout, address)\u001b[0m\n\u001b[1;32m    201\u001b[0m \u001b[38;5;28;01mwhile\u001b[39;00m \u001b[38;5;129;01mnot\u001b[39;00m server_descriptions:\n\u001b[1;32m    202\u001b[0m     \u001b[38;5;66;03m# No suitable servers.\u001b[39;00m\n\u001b[1;32m    203\u001b[0m     \u001b[38;5;28;01mif\u001b[39;00m timeout \u001b[38;5;241m==\u001b[39m \u001b[38;5;241m0\u001b[39m \u001b[38;5;129;01mor\u001b[39;00m now \u001b[38;5;241m>\u001b[39m end_time:\n\u001b[0;32m--> 204\u001b[0m         \u001b[38;5;28;01mraise\u001b[39;00m ServerSelectionTimeoutError(\n\u001b[1;32m    205\u001b[0m             \u001b[38;5;28mself\u001b[39m\u001b[38;5;241m.\u001b[39m_error_message(selector))\n\u001b[1;32m    207\u001b[0m     \u001b[38;5;28mself\u001b[39m\u001b[38;5;241m.\u001b[39m_ensure_opened()\n\u001b[1;32m    208\u001b[0m     \u001b[38;5;28mself\u001b[39m\u001b[38;5;241m.\u001b[39m_request_check_all()\n",
      "\u001b[0;31mServerSelectionTimeoutError\u001b[0m: 192.168.1.163:27017: timed out"
     ]
    }
   ],
   "source": [
    "results = []\n",
    "\n",
    "for ticker, name in all_futures_lo_map.items():\n",
    "    engine = BacktestEngine(\n",
    "        instrument=ticker,\n",
    "        strategy=Strategy.DELTA_ONE.value,\n",
    "        log_level=logging.WARNING,\n",
    "    )\n",
    "    engine.run()\n",
    "    equity_curve = engine.calculate_equity_curve(calculate_net=False)\n",
    "    stats = Performance(equity_curve).summary().squeeze()\n",
    "    \n",
    "    results.append([\n",
    "        name,\n",
    "        equity_curve.index[0].strftime('%d-%b-%Y'),\n",
    "        equity_curve.index[-1].strftime('%d-%b-%Y'),\n",
    "        stats[PerfStats.CAGR.value],\n",
    "        stats[PerfStats.ANN_VOL.value],\n",
    "        stats[PerfStats.SHARPE.value],\n",
    "        stats[PerfStats.SKEWNESS.value],\n",
    "    ])\n",
    "    \n",
    "result = pd.DataFrame(results, columns=[\n",
    "    'contract', 'start_end', 'end_date',\n",
    "    PerfStats.CAGR.value, \n",
    "    PerfStats.ANN_VOL.value,\n",
    "    PerfStats.SHARPE.value,\n",
    "    PerfStats.SKEWNESS.value,\n",
    "]).set_index('contract')"
   ]
  },
  {
   "cell_type": "code",
   "execution_count": null,
   "id": "2d907f5b",
   "metadata": {
    "ExecuteTime": {
     "end_time": "2020-08-22T16:53:00.656748Z",
     "start_time": "2020-08-22T16:53:00.652561Z"
    },
    "papermill": {
     "duration": null,
     "end_time": null,
     "exception": null,
     "start_time": null,
     "status": "pending"
    },
    "tags": []
   },
   "outputs": [],
   "source": [
    "result.shape"
   ]
  },
  {
   "cell_type": "markdown",
   "id": "28bde402",
   "metadata": {
    "papermill": {
     "duration": null,
     "end_time": null,
     "exception": null,
     "start_time": null,
     "status": "pending"
    },
    "tags": []
   },
   "source": [
    "# Performance summary\n",
    "\n",
    "This table displays contract information such as the contract name as well as performance statistics. Bar charts are superimposed for annualised returns and Sharpe ratios based on its value.   Statistics are in contracts' local currencies.\n",
    "Note that some start dates do not match the exact inception of the futures contract because of limited data availability."
   ]
  },
  {
   "cell_type": "code",
   "execution_count": null,
   "id": "bf09c86c",
   "metadata": {
    "ExecuteTime": {
     "end_time": "2020-08-22T16:53:01.994912Z",
     "start_time": "2020-08-22T16:53:01.840515Z"
    },
    "papermill": {
     "duration": null,
     "end_time": null,
     "exception": null,
     "start_time": null,
     "status": "pending"
    },
    "tags": []
   },
   "outputs": [],
   "source": [
    "(result\n",
    " .style.format({\n",
    "        PerfStats.CAGR.value: \"{:.1%}\",\n",
    "        PerfStats.ANN_VOL.value: \"{:.1%}\",\n",
    "        PerfStats.SHARPE.value: \"{:.2f}\",\n",
    "        PerfStats.SKEWNESS.value: \"{:.2f}\",\n",
    "    })\n",
    " .bar(subset=PerfStats.CAGR.value)\n",
    " .bar(subset=PerfStats.SHARPE.value))"
   ]
  },
  {
   "cell_type": "code",
   "execution_count": null,
   "id": "935303e7",
   "metadata": {
    "ExecuteTime": {
     "end_time": "2020-08-22T16:53:08.780579Z",
     "start_time": "2020-08-22T16:53:07.582051Z"
    },
    "papermill": {
     "duration": null,
     "end_time": null,
     "exception": null,
     "start_time": null,
     "status": "pending"
    },
    "run_control": {
     "frozen": false,
     "read_only": false
    },
    "tags": []
   },
   "outputs": [],
   "source": [
    "fig, ax = plt.subplots(figsize=(8, 20))\n",
    "ax.set_title(\"Long-only Sharpe ratio\")\n",
    "ax.set_ylabel(\"Sharpe ratio\")\n",
    "result[PerfStats.SHARPE.value].loc[::-1].plot(kind=\"barh\", ax=ax, grid=True);  # reverse the plot order\n",
    "ax.axvline(0, lw=1);"
   ]
  },
  {
   "cell_type": "markdown",
   "id": "8a6810b6",
   "metadata": {
    "papermill": {
     "duration": null,
     "end_time": null,
     "exception": null,
     "start_time": null,
     "status": "pending"
    },
    "tags": []
   },
   "source": [
    "# Plot cumulative return series\n",
    "\n",
    "Here only the E-mini S&P 500 futures is shown as an example."
   ]
  },
  {
   "cell_type": "code",
   "execution_count": null,
   "id": "653bcada",
   "metadata": {
    "ExecuteTime": {
     "end_time": "2020-08-22T16:53:23.509045Z",
     "start_time": "2020-08-22T16:53:21.245532Z"
    },
    "papermill": {
     "duration": null,
     "end_time": null,
     "exception": null,
     "start_time": null,
     "status": "pending"
    },
    "tags": []
   },
   "outputs": [],
   "source": [
    "fig, ax = plt.subplots(figsize=(8, 5))\n",
    "engine = BacktestEngine(\n",
    "    instrument='ES',\n",
    "    strategy=Strategy.DELTA_ONE.value,\n",
    "    log_level=logging.WARNING,\n",
    ")\n",
    "engine.run()\n",
    "engine.calculate_equity_curve(calculate_net=False).plot(ax=ax, logy=True)\n",
    "ax.set_ylabel('Cumulative returns');"
   ]
  },
  {
   "cell_type": "code",
   "execution_count": null,
   "id": "29abd726",
   "metadata": {
    "ExecuteTime": {
     "end_time": "2020-08-29T04:25:21.960879Z",
     "start_time": "2020-08-29T04:25:21.957555Z"
    },
    "papermill": {
     "duration": null,
     "end_time": null,
     "exception": null,
     "start_time": null,
     "status": "pending"
    },
    "tags": []
   },
   "outputs": [],
   "source": [
    "print(f'Updated: {datetime.utcnow().strftime(\"%d-%b-%Y %H:%M\")}')"
   ]
  }
 ],
 "metadata": {
  "kernelspec": {
   "display_name": "Python 3",
   "language": "python",
   "name": "python3"
  },
  "language_info": {
   "codemirror_mode": {
    "name": "ipython",
    "version": 3
   },
   "file_extension": ".py",
   "mimetype": "text/x-python",
   "name": "python",
   "nbconvert_exporter": "python",
   "pygments_lexer": "ipython3",
   "version": "3.9.6"
  },
  "nav_menu": {},
  "papermill": {
   "default_parameters": {},
   "duration": 861.083834,
   "end_time": "2022-05-13T06:14:26.966097",
   "environment_variables": {},
   "exception": true,
   "input_path": "notebooks/papermill/futures_long_only.ipynb",
   "output_path": "notebooks/futures_long_only.ipynb",
   "parameters": {},
   "start_time": "2022-05-13T06:00:05.882263",
   "version": "2.3.4"
  },
  "toc": {
   "base_numbering": 1,
   "nav_menu": {},
   "number_sections": true,
   "sideBar": true,
   "skip_h1_title": false,
   "title_cell": "Table of Contents",
   "title_sidebar": "Contents",
   "toc_cell": true,
   "toc_position": {
    "height": "calc(100% - 180px)",
    "left": "10px",
    "top": "150px",
    "width": "165px"
   },
   "toc_section_display": "block",
   "toc_window_display": true
  }
 },
 "nbformat": 4,
 "nbformat_minor": 5
}