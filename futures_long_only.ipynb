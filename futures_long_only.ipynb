{
 "cells": [
  {
   "cell_type": "markdown",
   "id": "459766a8",
   "metadata": {
    "tags": [
     "papermill-error-cell-tag"
    ]
   },
   "source": [
    "<span style=\"color:red; font-family:Helvetica Neue, Helvetica, Arial, sans-serif; font-size:2em;\">An Exception was encountered at '<a href=\"#papermill-error-cell\">In [3]</a>'.</span>"
   ]
  },
  {
   "cell_type": "markdown",
   "id": "2235b26b",
   "metadata": {
    "papermill": {
     "duration": 0.004038,
     "end_time": "2023-01-04T06:45:21.753085",
     "exception": false,
     "start_time": "2023-01-04T06:45:21.749047",
     "status": "completed"
    },
    "tags": []
   },
   "source": [
    "# Futures long-only performance summary\n",
    "\n",
    "This notebook summarises long-only performance statistics for major futures contracts provided by various data sources. Daily returns are computed by rolling the front contract before either the first notice day or the last trade day to avoid deliveries. Concretely, a daily return on a given day is written as follows:\n",
    "\n",
    "$$\n",
    "r_{t, i} = \\frac{F_{t, i} - F_{t-1, t}}{F_{rolldate, i}}\n",
    "$$\n",
    "\n",
    "where $F_{t, i}$ is the futures price at time $t$ for an instrument $i$, $F_{rolldate, i}$ is the futures price when we roll into the contract. All functionalities as well as underlying data are provided by a private library `vivace`."
   ]
  },
  {
   "cell_type": "code",
   "execution_count": 1,
   "id": "b1f4856e",
   "metadata": {
    "ExecuteTime": {
     "end_time": "2020-08-22T16:45:06.161148Z",
     "start_time": "2020-08-22T16:45:05.357848Z"
    },
    "execution": {
     "iopub.execute_input": "2023-01-04T06:45:21.760577Z",
     "iopub.status.busy": "2023-01-04T06:45:21.760256Z",
     "iopub.status.idle": "2023-01-04T06:45:24.718599Z",
     "shell.execute_reply": "2023-01-04T06:45:24.717853Z"
    },
    "papermill": {
     "duration": 2.965427,
     "end_time": "2023-01-04T06:45:24.721592",
     "exception": false,
     "start_time": "2023-01-04T06:45:21.756165",
     "status": "completed"
    },
    "run_control": {
     "frozen": false,
     "read_only": false
    },
    "tags": []
   },
   "outputs": [],
   "source": [
    "%matplotlib inline\n",
    "from datetime import datetime\n",
    "import logging\n",
    "import warnings\n",
    "warnings.simplefilter(action='ignore', category=FutureWarning)\n",
    "\n",
    "import pandas as pd\n",
    "import matplotlib.pyplot as plt\n",
    "plt.style.use('bmh')\n",
    "\n",
    "from vivace.backtest.contract import all_futures_lo_map\n",
    "from vivace.backtest.engine import BacktestEngine\n",
    "from vivace.backtest.enums import Strategy\n",
    "from vivace.backtest.stats import Performance, PerfStats"
   ]
  },
  {
   "cell_type": "markdown",
   "id": "8e8054f4",
   "metadata": {
    "papermill": {
     "duration": 0.002782,
     "end_time": "2023-01-04T06:45:24.728696",
     "exception": false,
     "start_time": "2023-01-04T06:45:24.725914",
     "status": "completed"
    },
    "tags": []
   },
   "source": [
    "`all_futures_lo_map` contains the list of all available futures contracts for long-only calculation."
   ]
  },
  {
   "cell_type": "code",
   "execution_count": 2,
   "id": "44d604c2",
   "metadata": {
    "ExecuteTime": {
     "end_time": "2020-08-22T16:45:08.533484Z",
     "start_time": "2020-08-22T16:45:08.516240Z"
    },
    "execution": {
     "iopub.execute_input": "2023-01-04T06:45:24.735706Z",
     "iopub.status.busy": "2023-01-04T06:45:24.735271Z",
     "iopub.status.idle": "2023-01-04T06:45:24.744539Z",
     "shell.execute_reply": "2023-01-04T06:45:24.743684Z"
    },
    "papermill": {
     "duration": 0.01672,
     "end_time": "2023-01-04T06:45:24.748113",
     "exception": false,
     "start_time": "2023-01-04T06:45:24.731393",
     "status": "completed"
    },
    "tags": []
   },
   "outputs": [
    {
     "data": {
      "text/plain": [
       "ticker\n",
       "AC                   MSCI World\n",
       "AD            Australian Dollar\n",
       "AE                          AEX\n",
       "AP                      SPI 200\n",
       "BO                  Soybean Oil\n",
       "                ...            \n",
       "YE        3-month Euroyen TIBOR\n",
       "YM    Australia 3-year Treasury\n",
       "Z                      FTSE 100\n",
       "ZB           New Zealand Dollar\n",
       "ZO                         Oats\n",
       "Name: name, Length: 134, dtype: object"
      ]
     },
     "execution_count": 2,
     "metadata": {},
     "output_type": "execute_result"
    }
   ],
   "source": [
    "all_futures_lo_map"
   ]
  },
  {
   "cell_type": "markdown",
   "id": "2a437534",
   "metadata": {
    "papermill": {
     "duration": 0.002741,
     "end_time": "2023-01-04T06:45:24.753617",
     "exception": false,
     "start_time": "2023-01-04T06:45:24.750876",
     "status": "completed"
    },
    "tags": []
   },
   "source": [
    "Without any signals, `BacktestEngine` calculates simple long-only strategies by default. `Performance` computes typical performance metrics such as Sharpe ratio."
   ]
  },
  {
   "cell_type": "markdown",
   "id": "bb7c8924",
   "metadata": {
    "tags": [
     "papermill-error-cell-tag"
    ]
   },
   "source": [
    "<span id=\"papermill-error-cell\" style=\"color:red; font-family:Helvetica Neue, Helvetica, Arial, sans-serif; font-size:2em;\">Execution using papermill encountered an exception here and stopped:</span>"
   ]
  },
  {
   "cell_type": "code",
   "execution_count": 3,
   "id": "9e5a57ae",
   "metadata": {
    "ExecuteTime": {
     "end_time": "2020-08-22T16:52:59.328899Z",
     "start_time": "2020-08-22T16:45:17.699927Z"
    },
    "execution": {
     "iopub.execute_input": "2023-01-04T06:45:24.760584Z",
     "iopub.status.busy": "2023-01-04T06:45:24.760312Z",
     "iopub.status.idle": "2023-01-04T06:48:02.707774Z",
     "shell.execute_reply": "2023-01-04T06:48:02.706101Z"
    },
    "papermill": {
     "duration": 157.955536,
     "end_time": "2023-01-04T06:48:02.711997",
     "exception": true,
     "start_time": "2023-01-04T06:45:24.756461",
     "status": "failed"
    },
    "tags": []
   },
   "outputs": [
    {
     "ename": "ValueError",
     "evalue": "Shape of passed values is (2207, 37), indices imply (2204, 37)",
     "output_type": "error",
     "traceback": [
      "\u001b[0;31m---------------------------------------------------------------------------\u001b[0m",
      "\u001b[0;31mValueError\u001b[0m                                Traceback (most recent call last)",
      "Cell \u001b[0;32mIn [3], line 10\u001b[0m\n\u001b[1;32m      4\u001b[0m engine \u001b[38;5;241m=\u001b[39m BacktestEngine(\n\u001b[1;32m      5\u001b[0m     instrument\u001b[38;5;241m=\u001b[39mticker,\n\u001b[1;32m      6\u001b[0m     strategy\u001b[38;5;241m=\u001b[39mStrategy\u001b[38;5;241m.\u001b[39mDELTA_ONE\u001b[38;5;241m.\u001b[39mvalue,\n\u001b[1;32m      7\u001b[0m     log_level\u001b[38;5;241m=\u001b[39mlogging\u001b[38;5;241m.\u001b[39mWARNING,\n\u001b[1;32m      8\u001b[0m )\n\u001b[1;32m      9\u001b[0m engine\u001b[38;5;241m.\u001b[39mrun()\n\u001b[0;32m---> 10\u001b[0m equity_curve \u001b[38;5;241m=\u001b[39m \u001b[43mengine\u001b[49m\u001b[38;5;241;43m.\u001b[39;49m\u001b[43mcalculate_equity_curve\u001b[49m\u001b[43m(\u001b[49m\u001b[43mcalculate_net\u001b[49m\u001b[38;5;241;43m=\u001b[39;49m\u001b[38;5;28;43;01mFalse\u001b[39;49;00m\u001b[43m)\u001b[49m\n\u001b[1;32m     11\u001b[0m stats \u001b[38;5;241m=\u001b[39m Performance(equity_curve)\u001b[38;5;241m.\u001b[39msummary()\u001b[38;5;241m.\u001b[39msqueeze()\n\u001b[1;32m     13\u001b[0m results\u001b[38;5;241m.\u001b[39mappend([\n\u001b[1;32m     14\u001b[0m     name,\n\u001b[1;32m     15\u001b[0m     equity_curve\u001b[38;5;241m.\u001b[39mindex[\u001b[38;5;241m0\u001b[39m]\u001b[38;5;241m.\u001b[39mstrftime(\u001b[38;5;124m'\u001b[39m\u001b[38;5;132;01m%d\u001b[39;00m\u001b[38;5;124m-\u001b[39m\u001b[38;5;124m%\u001b[39m\u001b[38;5;124mb-\u001b[39m\u001b[38;5;124m%\u001b[39m\u001b[38;5;124mY\u001b[39m\u001b[38;5;124m'\u001b[39m),\n\u001b[0;32m   (...)\u001b[0m\n\u001b[1;32m     20\u001b[0m     stats[PerfStats\u001b[38;5;241m.\u001b[39mSKEWNESS\u001b[38;5;241m.\u001b[39mvalue],\n\u001b[1;32m     21\u001b[0m ])\n",
      "File \u001b[0;32m/usr/local/lib/python3.9/site-packages/vivace/backtest/engine.py:303\u001b[0m, in \u001b[0;36mBacktestEngine.calculate_equity_curve\u001b[0;34m(self, calculate_net, rebalance_freq)\u001b[0m\n\u001b[1;32m    301\u001b[0m \u001b[38;5;28;01melse\u001b[39;00m:\n\u001b[1;32m    302\u001b[0m     col_name_suffix \u001b[38;5;241m=\u001b[39m \u001b[38;5;124m'\u001b[39m\u001b[38;5;124mstrategy\u001b[39m\u001b[38;5;124m'\u001b[39m\n\u001b[0;32m--> 303\u001b[0m ret \u001b[38;5;241m=\u001b[39m \u001b[38;5;28;43mself\u001b[39;49m\u001b[38;5;241;43m.\u001b[39;49m\u001b[43mget_return\u001b[49m\u001b[43m(\u001b[49m\u001b[43mcol_name_suffix\u001b[49m\u001b[38;5;241;43m=\u001b[39;49m\u001b[43mcol_name_suffix\u001b[49m\u001b[43m,\u001b[49m\u001b[43m \u001b[49m\u001b[43mcalculate_net\u001b[49m\u001b[38;5;241;43m=\u001b[39;49m\u001b[43mcalculate_net\u001b[49m\u001b[43m)\u001b[49m\n\u001b[1;32m    305\u001b[0m \u001b[38;5;28;01mif\u001b[39;00m rebalance_freq \u001b[38;5;129;01mis\u001b[39;00m \u001b[38;5;28;01mNone\u001b[39;00m:\n\u001b[1;32m    306\u001b[0m     \u001b[38;5;66;03m# Rebalance dates are defined as when the base prices change\u001b[39;00m\n\u001b[1;32m    307\u001b[0m     \u001b[38;5;66;03m# There is shift(-1) to represent the actual rebalance dates\u001b[39;00m\n\u001b[1;32m    308\u001b[0m     rebalance_dates \u001b[38;5;241m=\u001b[39m (\u001b[38;5;28mself\u001b[39m\u001b[38;5;241m.\u001b[39mconcat_contract_column(\u001b[38;5;124mf\u001b[39m\u001b[38;5;124m'\u001b[39m\u001b[38;5;124mbase_price__\u001b[39m\u001b[38;5;132;01m{\u001b[39;00mcol_name_suffix\u001b[38;5;132;01m}\u001b[39;00m\u001b[38;5;124m'\u001b[39m)\u001b[38;5;241m.\u001b[39mdiff()\u001b[38;5;241m.\u001b[39mabs()\u001b[38;5;241m.\u001b[39mpipe(np\u001b[38;5;241m.\u001b[39msign)\n\u001b[1;32m    309\u001b[0m                        \u001b[38;5;241m.\u001b[39msum(axis\u001b[38;5;241m=\u001b[39m\u001b[38;5;241m1\u001b[39m)\u001b[38;5;241m.\u001b[39mclip(\u001b[38;5;241m0\u001b[39m, \u001b[38;5;241m1\u001b[39m)\n\u001b[1;32m    310\u001b[0m                        \u001b[38;5;241m.\u001b[39mshift(\u001b[38;5;241m-\u001b[39m\u001b[38;5;241m1\u001b[39m))\n",
      "File \u001b[0;32m/usr/local/lib/python3.9/site-packages/vivace/backtest/engine.py:281\u001b[0m, in \u001b[0;36mBacktestEngine.get_return\u001b[0;34m(self, col_name_suffix, calculate_net)\u001b[0m\n\u001b[1;32m    279\u001b[0m \u001b[38;5;28;01melse\u001b[39;00m:\n\u001b[1;32m    280\u001b[0m     col_name \u001b[38;5;241m=\u001b[39m \u001b[38;5;124mf\u001b[39m\u001b[38;5;124m'\u001b[39m\u001b[38;5;132;01m{\u001b[39;00mContractColName\u001b[38;5;241m.\u001b[39mRETURN\u001b[38;5;241m.\u001b[39mvalue\u001b[38;5;132;01m}\u001b[39;00m\u001b[38;5;124m__\u001b[39m\u001b[38;5;132;01m{\u001b[39;00mcol_name_suffix\u001b[38;5;132;01m}\u001b[39;00m\u001b[38;5;124m_gross\u001b[39m\u001b[38;5;124m'\u001b[39m\n\u001b[0;32m--> 281\u001b[0m \u001b[38;5;28;01mreturn\u001b[39;00m \u001b[38;5;28;43mself\u001b[39;49m\u001b[38;5;241;43m.\u001b[39;49m\u001b[43mconcat_contract_column\u001b[49m\u001b[43m(\u001b[49m\u001b[43mcol_name\u001b[49m\u001b[43m)\u001b[49m\u001b[38;5;241m.\u001b[39msum(axis\u001b[38;5;241m=\u001b[39m\u001b[38;5;241m1\u001b[39m)\n",
      "File \u001b[0;32m/usr/local/lib/python3.9/site-packages/vivace/backtest/engine.py:225\u001b[0m, in \u001b[0;36mBacktestEngine.concat_contract_column\u001b[0;34m(self, col_name)\u001b[0m\n\u001b[1;32m    223\u001b[0m \u001b[38;5;28;01mdef\u001b[39;00m \u001b[38;5;21mconcat_contract_column\u001b[39m(\u001b[38;5;28mself\u001b[39m, col_name: \u001b[38;5;28mstr\u001b[39m) \u001b[38;5;241m-\u001b[39m\u001b[38;5;241m>\u001b[39m pd\u001b[38;5;241m.\u001b[39mDataFrame:\n\u001b[1;32m    224\u001b[0m     \u001b[38;5;124;03m\"\"\" Concatenate the column of each contract into one dataframe \"\"\"\u001b[39;00m\n\u001b[0;32m--> 225\u001b[0m     \u001b[38;5;28;01mreturn\u001b[39;00m \u001b[43mconcat_contract_column\u001b[49m\u001b[43m(\u001b[49m\u001b[38;5;28;43mself\u001b[39;49m\u001b[38;5;241;43m.\u001b[39;49m\u001b[43m_contract_tree\u001b[49m\u001b[43m,\u001b[49m\u001b[43m \u001b[49m\u001b[43mcol_name\u001b[49m\u001b[43m)\u001b[49m\n",
      "File \u001b[0;32m/usr/local/lib/python3.9/site-packages/vivace/backtest/contract.py:1311\u001b[0m, in \u001b[0;36mconcat_contract_column\u001b[0;34m(contract_tree, col_name)\u001b[0m\n\u001b[1;32m   1308\u001b[0m             \u001b[38;5;28;01mraise\u001b[39;00m \u001b[38;5;167;01mNotImplementedError\u001b[39;00m()\n\u001b[1;32m   1310\u001b[0m         data\u001b[38;5;241m.\u001b[39mappend(c_data)\n\u001b[0;32m-> 1311\u001b[0m data \u001b[38;5;241m=\u001b[39m \u001b[43mpd\u001b[49m\u001b[38;5;241;43m.\u001b[39;49m\u001b[43mconcat\u001b[49m\u001b[43m(\u001b[49m\u001b[43mdata\u001b[49m\u001b[43m,\u001b[49m\u001b[43m \u001b[49m\u001b[43maxis\u001b[49m\u001b[38;5;241;43m=\u001b[39;49m\u001b[38;5;241;43m1\u001b[39;49m\u001b[43m)\u001b[49m\n\u001b[1;32m   1312\u001b[0m \u001b[38;5;28;01mreturn\u001b[39;00m data\n",
      "File \u001b[0;32m/usr/local/lib/python3.9/site-packages/pandas/core/reshape/concat.py:287\u001b[0m, in \u001b[0;36mconcat\u001b[0;34m(objs, axis, join, ignore_index, keys, levels, names, verify_integrity, sort, copy)\u001b[0m\n\u001b[1;32m     82\u001b[0m \u001b[38;5;124;03m\"\"\"\u001b[39;00m\n\u001b[1;32m     83\u001b[0m \u001b[38;5;124;03mConcatenate pandas objects along a particular axis with optional set logic\u001b[39;00m\n\u001b[1;32m     84\u001b[0m \u001b[38;5;124;03malong the other axes.\u001b[39;00m\n\u001b[0;32m   (...)\u001b[0m\n\u001b[1;32m    272\u001b[0m \u001b[38;5;124;03mValueError: Indexes have overlapping values: ['a']\u001b[39;00m\n\u001b[1;32m    273\u001b[0m \u001b[38;5;124;03m\"\"\"\u001b[39;00m\n\u001b[1;32m    274\u001b[0m op \u001b[38;5;241m=\u001b[39m _Concatenator(\n\u001b[1;32m    275\u001b[0m     objs,\n\u001b[1;32m    276\u001b[0m     axis\u001b[38;5;241m=\u001b[39maxis,\n\u001b[0;32m   (...)\u001b[0m\n\u001b[1;32m    284\u001b[0m     sort\u001b[38;5;241m=\u001b[39msort,\n\u001b[1;32m    285\u001b[0m )\n\u001b[0;32m--> 287\u001b[0m \u001b[38;5;28;01mreturn\u001b[39;00m \u001b[43mop\u001b[49m\u001b[38;5;241;43m.\u001b[39;49m\u001b[43mget_result\u001b[49m\u001b[43m(\u001b[49m\u001b[43m)\u001b[49m\n",
      "File \u001b[0;32m/usr/local/lib/python3.9/site-packages/pandas/core/reshape/concat.py:502\u001b[0m, in \u001b[0;36m_Concatenator.get_result\u001b[0;34m(self)\u001b[0m\n\u001b[1;32m    498\u001b[0m             indexers[ax] \u001b[38;5;241m=\u001b[39m obj_labels\u001b[38;5;241m.\u001b[39mreindex(new_labels)[\u001b[38;5;241m1\u001b[39m]\n\u001b[1;32m    500\u001b[0m     mgrs_indexers\u001b[38;5;241m.\u001b[39mappend((obj\u001b[38;5;241m.\u001b[39m_mgr, indexers))\n\u001b[0;32m--> 502\u001b[0m new_data \u001b[38;5;241m=\u001b[39m \u001b[43mconcatenate_block_managers\u001b[49m\u001b[43m(\u001b[49m\n\u001b[1;32m    503\u001b[0m \u001b[43m    \u001b[49m\u001b[43mmgrs_indexers\u001b[49m\u001b[43m,\u001b[49m\u001b[43m \u001b[49m\u001b[38;5;28;43mself\u001b[39;49m\u001b[38;5;241;43m.\u001b[39;49m\u001b[43mnew_axes\u001b[49m\u001b[43m,\u001b[49m\u001b[43m \u001b[49m\u001b[43mconcat_axis\u001b[49m\u001b[38;5;241;43m=\u001b[39;49m\u001b[38;5;28;43mself\u001b[39;49m\u001b[38;5;241;43m.\u001b[39;49m\u001b[43mbm_axis\u001b[49m\u001b[43m,\u001b[49m\u001b[43m \u001b[49m\u001b[43mcopy\u001b[49m\u001b[38;5;241;43m=\u001b[39;49m\u001b[38;5;28;43mself\u001b[39;49m\u001b[38;5;241;43m.\u001b[39;49m\u001b[43mcopy\u001b[49m\u001b[43m,\u001b[49m\n\u001b[1;32m    504\u001b[0m \u001b[43m\u001b[49m\u001b[43m)\u001b[49m\n\u001b[1;32m    505\u001b[0m \u001b[38;5;28;01mif\u001b[39;00m \u001b[38;5;129;01mnot\u001b[39;00m \u001b[38;5;28mself\u001b[39m\u001b[38;5;241m.\u001b[39mcopy:\n\u001b[1;32m    506\u001b[0m     new_data\u001b[38;5;241m.\u001b[39m_consolidate_inplace()\n",
      "File \u001b[0;32m/usr/local/lib/python3.9/site-packages/pandas/core/internals/concat.py:84\u001b[0m, in \u001b[0;36mconcatenate_block_managers\u001b[0;34m(mgrs_indexers, axes, concat_axis, copy)\u001b[0m\n\u001b[1;32m     78\u001b[0m         b \u001b[38;5;241m=\u001b[39m make_block(\n\u001b[1;32m     79\u001b[0m             _concatenate_join_units(join_units, concat_axis, copy\u001b[38;5;241m=\u001b[39mcopy,),\n\u001b[1;32m     80\u001b[0m             placement\u001b[38;5;241m=\u001b[39mplacement,\n\u001b[1;32m     81\u001b[0m         )\n\u001b[1;32m     82\u001b[0m     blocks\u001b[38;5;241m.\u001b[39mappend(b)\n\u001b[0;32m---> 84\u001b[0m \u001b[38;5;28;01mreturn\u001b[39;00m \u001b[43mBlockManager\u001b[49m\u001b[43m(\u001b[49m\u001b[43mblocks\u001b[49m\u001b[43m,\u001b[49m\u001b[43m \u001b[49m\u001b[43maxes\u001b[49m\u001b[43m)\u001b[49m\n",
      "File \u001b[0;32m/usr/local/lib/python3.9/site-packages/pandas/core/internals/managers.py:149\u001b[0m, in \u001b[0;36mBlockManager.__init__\u001b[0;34m(self, blocks, axes, do_integrity_check)\u001b[0m\n\u001b[1;32m    143\u001b[0m         \u001b[38;5;28;01mraise\u001b[39;00m \u001b[38;5;167;01mAssertionError\u001b[39;00m(\n\u001b[1;32m    144\u001b[0m             \u001b[38;5;124mf\u001b[39m\u001b[38;5;124m\"\u001b[39m\u001b[38;5;124mNumber of Block dimensions (\u001b[39m\u001b[38;5;132;01m{\u001b[39;00mblock\u001b[38;5;241m.\u001b[39mndim\u001b[38;5;132;01m}\u001b[39;00m\u001b[38;5;124m) must equal \u001b[39m\u001b[38;5;124m\"\u001b[39m\n\u001b[1;32m    145\u001b[0m             \u001b[38;5;124mf\u001b[39m\u001b[38;5;124m\"\u001b[39m\u001b[38;5;124mnumber of axes (\u001b[39m\u001b[38;5;132;01m{\u001b[39;00m\u001b[38;5;28mself\u001b[39m\u001b[38;5;241m.\u001b[39mndim\u001b[38;5;132;01m}\u001b[39;00m\u001b[38;5;124m)\u001b[39m\u001b[38;5;124m\"\u001b[39m\n\u001b[1;32m    146\u001b[0m         )\n\u001b[1;32m    148\u001b[0m \u001b[38;5;28;01mif\u001b[39;00m do_integrity_check:\n\u001b[0;32m--> 149\u001b[0m     \u001b[38;5;28;43mself\u001b[39;49m\u001b[38;5;241;43m.\u001b[39;49m\u001b[43m_verify_integrity\u001b[49m\u001b[43m(\u001b[49m\u001b[43m)\u001b[49m\n\u001b[1;32m    151\u001b[0m \u001b[38;5;66;03m# Populate known_consolidate, blknos, and blklocs lazily\u001b[39;00m\n\u001b[1;32m    152\u001b[0m \u001b[38;5;28mself\u001b[39m\u001b[38;5;241m.\u001b[39m_known_consolidated \u001b[38;5;241m=\u001b[39m \u001b[38;5;28;01mFalse\u001b[39;00m\n",
      "File \u001b[0;32m/usr/local/lib/python3.9/site-packages/pandas/core/internals/managers.py:326\u001b[0m, in \u001b[0;36mBlockManager._verify_integrity\u001b[0;34m(self)\u001b[0m\n\u001b[1;32m    324\u001b[0m \u001b[38;5;28;01mfor\u001b[39;00m block \u001b[38;5;129;01min\u001b[39;00m \u001b[38;5;28mself\u001b[39m\u001b[38;5;241m.\u001b[39mblocks:\n\u001b[1;32m    325\u001b[0m     \u001b[38;5;28;01mif\u001b[39;00m block\u001b[38;5;241m.\u001b[39mshape[\u001b[38;5;241m1\u001b[39m:] \u001b[38;5;241m!=\u001b[39m mgr_shape[\u001b[38;5;241m1\u001b[39m:]:\n\u001b[0;32m--> 326\u001b[0m         \u001b[38;5;28;01mraise\u001b[39;00m construction_error(tot_items, block\u001b[38;5;241m.\u001b[39mshape[\u001b[38;5;241m1\u001b[39m:], \u001b[38;5;28mself\u001b[39m\u001b[38;5;241m.\u001b[39maxes)\n\u001b[1;32m    327\u001b[0m \u001b[38;5;28;01mif\u001b[39;00m \u001b[38;5;28mlen\u001b[39m(\u001b[38;5;28mself\u001b[39m\u001b[38;5;241m.\u001b[39mitems) \u001b[38;5;241m!=\u001b[39m tot_items:\n\u001b[1;32m    328\u001b[0m     \u001b[38;5;28;01mraise\u001b[39;00m \u001b[38;5;167;01mAssertionError\u001b[39;00m(\n\u001b[1;32m    329\u001b[0m         \u001b[38;5;124m\"\u001b[39m\u001b[38;5;124mNumber of manager items must equal union of \u001b[39m\u001b[38;5;124m\"\u001b[39m\n\u001b[1;32m    330\u001b[0m         \u001b[38;5;124mf\u001b[39m\u001b[38;5;124m\"\u001b[39m\u001b[38;5;124mblock items\u001b[39m\u001b[38;5;130;01m\\n\u001b[39;00m\u001b[38;5;124m# manager items: \u001b[39m\u001b[38;5;132;01m{\u001b[39;00m\u001b[38;5;28mlen\u001b[39m(\u001b[38;5;28mself\u001b[39m\u001b[38;5;241m.\u001b[39mitems)\u001b[38;5;132;01m}\u001b[39;00m\u001b[38;5;124m, # \u001b[39m\u001b[38;5;124m\"\u001b[39m\n\u001b[1;32m    331\u001b[0m         \u001b[38;5;124mf\u001b[39m\u001b[38;5;124m\"\u001b[39m\u001b[38;5;124mtot_items: \u001b[39m\u001b[38;5;132;01m{\u001b[39;00mtot_items\u001b[38;5;132;01m}\u001b[39;00m\u001b[38;5;124m\"\u001b[39m\n\u001b[1;32m    332\u001b[0m     )\n",
      "\u001b[0;31mValueError\u001b[0m: Shape of passed values is (2207, 37), indices imply (2204, 37)"
     ]
    }
   ],
   "source": [
    "results = []\n",
    "\n",
    "for ticker, name in all_futures_lo_map.items():\n",
    "    engine = BacktestEngine(\n",
    "        instrument=ticker,\n",
    "        strategy=Strategy.DELTA_ONE.value,\n",
    "        log_level=logging.WARNING,\n",
    "    )\n",
    "    engine.run()\n",
    "    equity_curve = engine.calculate_equity_curve(calculate_net=False)\n",
    "    stats = Performance(equity_curve).summary().squeeze()\n",
    "    \n",
    "    results.append([\n",
    "        name,\n",
    "        equity_curve.index[0].strftime('%d-%b-%Y'),\n",
    "        equity_curve.index[-1].strftime('%d-%b-%Y'),\n",
    "        stats[PerfStats.CAGR.value],\n",
    "        stats[PerfStats.ANN_VOL.value],\n",
    "        stats[PerfStats.SHARPE.value],\n",
    "        stats[PerfStats.SKEWNESS.value],\n",
    "    ])\n",
    "    \n",
    "result = pd.DataFrame(results, columns=[\n",
    "    'contract', 'start_end', 'end_date',\n",
    "    PerfStats.CAGR.value, \n",
    "    PerfStats.ANN_VOL.value,\n",
    "    PerfStats.SHARPE.value,\n",
    "    PerfStats.SKEWNESS.value,\n",
    "]).set_index('contract')"
   ]
  },
  {
   "cell_type": "code",
   "execution_count": null,
   "id": "ebf92f3a",
   "metadata": {
    "ExecuteTime": {
     "end_time": "2020-08-22T16:53:00.656748Z",
     "start_time": "2020-08-22T16:53:00.652561Z"
    },
    "papermill": {
     "duration": null,
     "end_time": null,
     "exception": null,
     "start_time": null,
     "status": "pending"
    },
    "tags": []
   },
   "outputs": [],
   "source": [
    "result.shape"
   ]
  },
  {
   "cell_type": "markdown",
   "id": "276dfb97",
   "metadata": {
    "papermill": {
     "duration": null,
     "end_time": null,
     "exception": null,
     "start_time": null,
     "status": "pending"
    },
    "tags": []
   },
   "source": [
    "# Performance summary\n",
    "\n",
    "This table displays contract information such as the contract name as well as performance statistics. Bar charts are superimposed for annualised returns and Sharpe ratios based on its value.   Statistics are in contracts' local currencies.\n",
    "Note that some start dates do not match the exact inception of the futures contract because of limited data availability."
   ]
  },
  {
   "cell_type": "code",
   "execution_count": null,
   "id": "8bdc19f5",
   "metadata": {
    "ExecuteTime": {
     "end_time": "2020-08-22T16:53:01.994912Z",
     "start_time": "2020-08-22T16:53:01.840515Z"
    },
    "papermill": {
     "duration": null,
     "end_time": null,
     "exception": null,
     "start_time": null,
     "status": "pending"
    },
    "tags": []
   },
   "outputs": [],
   "source": [
    "(result\n",
    " .style.format({\n",
    "        PerfStats.CAGR.value: \"{:.1%}\",\n",
    "        PerfStats.ANN_VOL.value: \"{:.1%}\",\n",
    "        PerfStats.SHARPE.value: \"{:.2f}\",\n",
    "        PerfStats.SKEWNESS.value: \"{:.2f}\",\n",
    "    })\n",
    " .bar(subset=PerfStats.CAGR.value)\n",
    " .bar(subset=PerfStats.SHARPE.value))"
   ]
  },
  {
   "cell_type": "code",
   "execution_count": null,
   "id": "f2921a49",
   "metadata": {
    "ExecuteTime": {
     "end_time": "2020-08-22T16:53:08.780579Z",
     "start_time": "2020-08-22T16:53:07.582051Z"
    },
    "papermill": {
     "duration": null,
     "end_time": null,
     "exception": null,
     "start_time": null,
     "status": "pending"
    },
    "run_control": {
     "frozen": false,
     "read_only": false
    },
    "tags": []
   },
   "outputs": [],
   "source": [
    "fig, ax = plt.subplots(figsize=(8, 20))\n",
    "ax.set_title(\"Long-only Sharpe ratio\")\n",
    "ax.set_ylabel(\"Sharpe ratio\")\n",
    "result[PerfStats.SHARPE.value].loc[::-1].plot(kind=\"barh\", ax=ax, grid=True);  # reverse the plot order\n",
    "ax.axvline(0, lw=1);"
   ]
  },
  {
   "cell_type": "markdown",
   "id": "5a513c47",
   "metadata": {
    "papermill": {
     "duration": null,
     "end_time": null,
     "exception": null,
     "start_time": null,
     "status": "pending"
    },
    "tags": []
   },
   "source": [
    "# Plot cumulative return series\n",
    "\n",
    "Here only the E-mini S&P 500 futures is shown as an example."
   ]
  },
  {
   "cell_type": "code",
   "execution_count": null,
   "id": "57fb6baf",
   "metadata": {
    "ExecuteTime": {
     "end_time": "2020-08-22T16:53:23.509045Z",
     "start_time": "2020-08-22T16:53:21.245532Z"
    },
    "papermill": {
     "duration": null,
     "end_time": null,
     "exception": null,
     "start_time": null,
     "status": "pending"
    },
    "tags": []
   },
   "outputs": [],
   "source": [
    "fig, ax = plt.subplots(figsize=(8, 5))\n",
    "engine = BacktestEngine(\n",
    "    instrument='ES',\n",
    "    strategy=Strategy.DELTA_ONE.value,\n",
    "    log_level=logging.WARNING,\n",
    ")\n",
    "engine.run()\n",
    "engine.calculate_equity_curve(calculate_net=False).plot(ax=ax, logy=True)\n",
    "ax.set_ylabel('Cumulative returns');"
   ]
  },
  {
   "cell_type": "code",
   "execution_count": null,
   "id": "25071e11",
   "metadata": {
    "ExecuteTime": {
     "end_time": "2020-08-29T04:25:21.960879Z",
     "start_time": "2020-08-29T04:25:21.957555Z"
    },
    "papermill": {
     "duration": null,
     "end_time": null,
     "exception": null,
     "start_time": null,
     "status": "pending"
    },
    "tags": []
   },
   "outputs": [],
   "source": [
    "print(f'Updated: {datetime.utcnow().strftime(\"%d-%b-%Y %H:%M\")}')"
   ]
  }
 ],
 "metadata": {
  "kernelspec": {
   "display_name": "Python 3",
   "language": "python",
   "name": "python3"
  },
  "language_info": {
   "codemirror_mode": {
    "name": "ipython",
    "version": 3
   },
   "file_extension": ".py",
   "mimetype": "text/x-python",
   "name": "python",
   "nbconvert_exporter": "python",
   "pygments_lexer": "ipython3",
   "version": "3.9.6"
  },
  "nav_menu": {},
  "papermill": {
   "default_parameters": {},
   "duration": 163.75307,
   "end_time": "2023-01-04T06:48:04.037640",
   "environment_variables": {},
   "exception": true,
   "input_path": "notebooks/papermill/futures_long_only.ipynb",
   "output_path": "notebooks/futures_long_only.ipynb",
   "parameters": {},
   "start_time": "2023-01-04T06:45:20.284570",
   "version": "2.4.0"
  },
  "toc": {
   "base_numbering": 1,
   "nav_menu": {},
   "number_sections": true,
   "sideBar": true,
   "skip_h1_title": false,
   "title_cell": "Table of Contents",
   "title_sidebar": "Contents",
   "toc_cell": true,
   "toc_position": {
    "height": "calc(100% - 180px)",
    "left": "10px",
    "top": "150px",
    "width": "165px"
   },
   "toc_section_display": "block",
   "toc_window_display": true
  }
 },
 "nbformat": 4,
 "nbformat_minor": 5
}