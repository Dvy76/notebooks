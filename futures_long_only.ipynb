{
 "cells": [
  {
   "cell_type": "markdown",
   "id": "c15f7cb0",
   "metadata": {
    "papermill": {
     "duration": 0.004257,
     "end_time": "2022-06-25T09:58:20.964377",
     "exception": false,
     "start_time": "2022-06-25T09:58:20.960120",
     "status": "completed"
    },
    "tags": []
   },
   "source": [
    "# Futures long-only performance summary\n",
    "\n",
    "This notebook summarises long-only performance statistics for major futures contracts provided by various data sources. Daily returns are computed by rolling the front contract before either the first notice day or the last trade day to avoid deliveries. Concretely, a daily return on a given day is written as follows:\n",
    "\n",
    "$$\n",
    "r_{t, i} = \\frac{F_{t, i} - F_{t-1, t}}{F_{rolldate, i}}\n",
    "$$\n",
    "\n",
    "where $F_{t, i}$ is the futures price at time $t$ for an instrument $i$, $F_{rolldate, i}$ is the futures price when we roll into the contract. All functionalities as well as underlying data are provided by a private library `vivace`."
   ]
  },
  {
   "cell_type": "code",
   "execution_count": 1,
   "id": "e71d8bff",
   "metadata": {
    "ExecuteTime": {
     "end_time": "2020-08-22T16:45:06.161148Z",
     "start_time": "2020-08-22T16:45:05.357848Z"
    },
    "execution": {
     "iopub.execute_input": "2022-06-25T09:58:20.973575Z",
     "iopub.status.busy": "2022-06-25T09:58:20.973219Z",
     "iopub.status.idle": "2022-06-25T09:58:24.688205Z",
     "shell.execute_reply": "2022-06-25T09:58:24.687562Z"
    },
    "papermill": {
     "duration": 3.722358,
     "end_time": "2022-06-25T09:58:24.690636",
     "exception": false,
     "start_time": "2022-06-25T09:58:20.968278",
     "status": "completed"
    },
    "run_control": {
     "frozen": false,
     "read_only": false
    },
    "tags": []
   },
   "outputs": [],
   "source": [
    "%matplotlib inline\n",
    "from datetime import datetime\n",
    "import logging\n",
    "import warnings\n",
    "warnings.simplefilter(action='ignore', category=FutureWarning)\n",
    "\n",
    "import pandas as pd\n",
    "import matplotlib.pyplot as plt\n",
    "plt.style.use('bmh')\n",
    "\n",
    "from vivace.backtest.contract import all_futures_lo_map\n",
    "from vivace.backtest.engine import BacktestEngine\n",
    "from vivace.backtest.enums import Strategy\n",
    "from vivace.backtest.stats import Performance, PerfStats"
   ]
  },
  {
   "cell_type": "markdown",
   "id": "ed6dfa76",
   "metadata": {
    "papermill": {
     "duration": 0.005183,
     "end_time": "2022-06-25T09:58:24.701276",
     "exception": false,
     "start_time": "2022-06-25T09:58:24.696093",
     "status": "completed"
    },
    "tags": []
   },
   "source": [
    "`all_futures_lo_map` contains the list of all available futures contracts for long-only calculation."
   ]
  },
  {
   "cell_type": "code",
   "execution_count": 2,
   "id": "201c5ec2",
   "metadata": {
    "ExecuteTime": {
     "end_time": "2020-08-22T16:45:08.533484Z",
     "start_time": "2020-08-22T16:45:08.516240Z"
    },
    "execution": {
     "iopub.execute_input": "2022-06-25T09:58:24.713374Z",
     "iopub.status.busy": "2022-06-25T09:58:24.713110Z",
     "iopub.status.idle": "2022-06-25T09:58:24.723543Z",
     "shell.execute_reply": "2022-06-25T09:58:24.722884Z"
    },
    "papermill": {
     "duration": 0.019989,
     "end_time": "2022-06-25T09:58:24.726542",
     "exception": false,
     "start_time": "2022-06-25T09:58:24.706553",
     "status": "completed"
    },
    "tags": []
   },
   "outputs": [
    {
     "data": {
      "text/plain": [
       "ticker\n",
       "AC                   MSCI World\n",
       "AD            Australian Dollar\n",
       "AE                          AEX\n",
       "AP                      SPI 200\n",
       "BO                  Soybean Oil\n",
       "                ...            \n",
       "YE        3-month Euroyen TIBOR\n",
       "YM    Australia 3-year Treasury\n",
       "Z                      FTSE 100\n",
       "ZB           New Zealand Dollar\n",
       "ZO                         Oats\n",
       "Name: name, Length: 134, dtype: object"
      ]
     },
     "execution_count": 2,
     "metadata": {},
     "output_type": "execute_result"
    }
   ],
   "source": [
    "all_futures_lo_map"
   ]
  },
  {
   "cell_type": "markdown",
   "id": "fe9249a8",
   "metadata": {
    "papermill": {
     "duration": 0.005334,
     "end_time": "2022-06-25T09:58:24.737386",
     "exception": false,
     "start_time": "2022-06-25T09:58:24.732052",
     "status": "completed"
    },
    "tags": []
   },
   "source": [
    "Without any signals, `BacktestEngine` calculates simple long-only strategies by default. `Performance` computes typical performance metrics such as Sharpe ratio."
   ]
  },
  {
   "cell_type": "code",
   "execution_count": null,
   "id": "087e140e",
   "metadata": {
    "ExecuteTime": {
     "end_time": "2020-08-22T16:52:59.328899Z",
     "start_time": "2020-08-22T16:45:17.699927Z"
    },
    "papermill": {
     "duration": null,
     "end_time": null,
     "exception": false,
     "start_time": "2022-06-25T09:58:24.742884",
     "status": "running"
    },
    "tags": []
   },
   "outputs": [],
   "source": [
    "results = []\n",
    "\n",
    "for ticker, name in all_futures_lo_map.items():\n",
    "    engine = BacktestEngine(\n",
    "        instrument=ticker,\n",
    "        strategy=Strategy.DELTA_ONE.value,\n",
    "        log_level=logging.WARNING,\n",
    "    )\n",
    "    engine.run()\n",
    "    equity_curve = engine.calculate_equity_curve(calculate_net=False)\n",
    "    stats = Performance(equity_curve).summary().squeeze()\n",
    "    \n",
    "    results.append([\n",
    "        name,\n",
    "        equity_curve.index[0].strftime('%d-%b-%Y'),\n",
    "        equity_curve.index[-1].strftime('%d-%b-%Y'),\n",
    "        stats[PerfStats.CAGR.value],\n",
    "        stats[PerfStats.ANN_VOL.value],\n",
    "        stats[PerfStats.SHARPE.value],\n",
    "        stats[PerfStats.SKEWNESS.value],\n",
    "    ])\n",
    "    \n",
    "result = pd.DataFrame(results, columns=[\n",
    "    'contract', 'start_end', 'end_date',\n",
    "    PerfStats.CAGR.value, \n",
    "    PerfStats.ANN_VOL.value,\n",
    "    PerfStats.SHARPE.value,\n",
    "    PerfStats.SKEWNESS.value,\n",
    "]).set_index('contract')"
   ]
  },
  {
   "cell_type": "code",
   "execution_count": null,
   "id": "bd962cae",
   "metadata": {
    "ExecuteTime": {
     "end_time": "2020-08-22T16:53:00.656748Z",
     "start_time": "2020-08-22T16:53:00.652561Z"
    },
    "papermill": {
     "duration": null,
     "end_time": null,
     "exception": null,
     "start_time": null,
     "status": "pending"
    },
    "tags": []
   },
   "outputs": [],
   "source": [
    "result.shape"
   ]
  },
  {
   "cell_type": "markdown",
   "id": "e00476dd",
   "metadata": {
    "papermill": {
     "duration": null,
     "end_time": null,
     "exception": null,
     "start_time": null,
     "status": "pending"
    },
    "tags": []
   },
   "source": [
    "# Performance summary\n",
    "\n",
    "This table displays contract information such as the contract name as well as performance statistics. Bar charts are superimposed for annualised returns and Sharpe ratios based on its value.   Statistics are in contracts' local currencies.\n",
    "Note that some start dates do not match the exact inception of the futures contract because of limited data availability."
   ]
  },
  {
   "cell_type": "code",
   "execution_count": null,
   "id": "feda8848",
   "metadata": {
    "ExecuteTime": {
     "end_time": "2020-08-22T16:53:01.994912Z",
     "start_time": "2020-08-22T16:53:01.840515Z"
    },
    "papermill": {
     "duration": null,
     "end_time": null,
     "exception": null,
     "start_time": null,
     "status": "pending"
    },
    "tags": []
   },
   "outputs": [],
   "source": [
    "(result\n",
    " .style.format({\n",
    "        PerfStats.CAGR.value: \"{:.1%}\",\n",
    "        PerfStats.ANN_VOL.value: \"{:.1%}\",\n",
    "        PerfStats.SHARPE.value: \"{:.2f}\",\n",
    "        PerfStats.SKEWNESS.value: \"{:.2f}\",\n",
    "    })\n",
    " .bar(subset=PerfStats.CAGR.value)\n",
    " .bar(subset=PerfStats.SHARPE.value))"
   ]
  },
  {
   "cell_type": "code",
   "execution_count": null,
   "id": "cf877971",
   "metadata": {
    "ExecuteTime": {
     "end_time": "2020-08-22T16:53:08.780579Z",
     "start_time": "2020-08-22T16:53:07.582051Z"
    },
    "papermill": {
     "duration": null,
     "end_time": null,
     "exception": null,
     "start_time": null,
     "status": "pending"
    },
    "run_control": {
     "frozen": false,
     "read_only": false
    },
    "tags": []
   },
   "outputs": [],
   "source": [
    "fig, ax = plt.subplots(figsize=(8, 20))\n",
    "ax.set_title(\"Long-only Sharpe ratio\")\n",
    "ax.set_ylabel(\"Sharpe ratio\")\n",
    "result[PerfStats.SHARPE.value].loc[::-1].plot(kind=\"barh\", ax=ax, grid=True);  # reverse the plot order\n",
    "ax.axvline(0, lw=1);"
   ]
  },
  {
   "cell_type": "markdown",
   "id": "675f0e45",
   "metadata": {
    "papermill": {
     "duration": null,
     "end_time": null,
     "exception": null,
     "start_time": null,
     "status": "pending"
    },
    "tags": []
   },
   "source": [
    "# Plot cumulative return series\n",
    "\n",
    "Here only the E-mini S&P 500 futures is shown as an example."
   ]
  },
  {
   "cell_type": "code",
   "execution_count": null,
   "id": "2cf6c325",
   "metadata": {
    "ExecuteTime": {
     "end_time": "2020-08-22T16:53:23.509045Z",
     "start_time": "2020-08-22T16:53:21.245532Z"
    },
    "papermill": {
     "duration": null,
     "end_time": null,
     "exception": null,
     "start_time": null,
     "status": "pending"
    },
    "tags": []
   },
   "outputs": [],
   "source": [
    "fig, ax = plt.subplots(figsize=(8, 5))\n",
    "engine = BacktestEngine(\n",
    "    instrument='ES',\n",
    "    strategy=Strategy.DELTA_ONE.value,\n",
    "    log_level=logging.WARNING,\n",
    ")\n",
    "engine.run()\n",
    "engine.calculate_equity_curve(calculate_net=False).plot(ax=ax, logy=True)\n",
    "ax.set_ylabel('Cumulative returns');"
   ]
  },
  {
   "cell_type": "code",
   "execution_count": null,
   "id": "480d78b4",
   "metadata": {
    "ExecuteTime": {
     "end_time": "2020-08-29T04:25:21.960879Z",
     "start_time": "2020-08-29T04:25:21.957555Z"
    },
    "papermill": {
     "duration": null,
     "end_time": null,
     "exception": null,
     "start_time": null,
     "status": "pending"
    },
    "tags": []
   },
   "outputs": [],
   "source": [
    "print(f'Updated: {datetime.utcnow().strftime(\"%d-%b-%Y %H:%M\")}')"
   ]
  }
 ],
 "metadata": {
  "kernelspec": {
   "display_name": "Python 3",
   "language": "python",
   "name": "python3"
  },
  "language_info": {
   "codemirror_mode": {
    "name": "ipython",
    "version": 3
   },
   "file_extension": ".py",
   "mimetype": "text/x-python",
   "name": "python",
   "nbconvert_exporter": "python",
   "pygments_lexer": "ipython3",
   "version": "3.8.1"
  },
  "nav_menu": {},
  "papermill": {
   "default_parameters": {},
   "duration": null,
   "end_time": null,
   "environment_variables": {},
   "exception": null,
   "input_path": "notebooks/papermill/futures_long_only.ipynb",
   "output_path": "notebooks/futures_long_only.ipynb",
   "parameters": {},
   "start_time": "2022-06-25T09:58:19.306456",
   "version": "2.3.4"
  },
  "toc": {
   "base_numbering": 1,
   "nav_menu": {},
   "number_sections": true,
   "sideBar": true,
   "skip_h1_title": false,
   "title_cell": "Table of Contents",
   "title_sidebar": "Contents",
   "toc_cell": true,
   "toc_position": {
    "height": "calc(100% - 180px)",
    "left": "10px",
    "top": "150px",
    "width": "165px"
   },
   "toc_section_display": "block",
   "toc_window_display": true
  }
 },
 "nbformat": 4,
 "nbformat_minor": 5
}