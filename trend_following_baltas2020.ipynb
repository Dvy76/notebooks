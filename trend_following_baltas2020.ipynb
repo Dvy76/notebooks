{
 "cells": [
  {
   "cell_type": "markdown",
   "id": "b490faf7",
   "metadata": {
    "papermill": {
     "duration": 0.011168,
     "end_time": "2022-06-23T09:42:25.395425",
     "exception": false,
     "start_time": "2022-06-23T09:42:25.384257",
     "status": "completed"
    },
    "tags": []
   },
   "source": [
    "# Trend-following\n",
    "\n",
    "This notebook implements a few improvements that Baltas and Kosowski (2020) (BK2020, hereafter) propose to the time-series momentum strategy which originally appeared in Moskowitz et al (2012).\n",
    "\n",
    "Note that like other notebooks, all backtests are performed by using a private library called `vivace`."
   ]
  },
  {
   "cell_type": "code",
   "execution_count": 1,
   "id": "962e6f93",
   "metadata": {
    "ExecuteTime": {
     "end_time": "2020-08-30T21:08:49.524262Z",
     "start_time": "2020-08-30T21:08:48.720115Z"
    },
    "execution": {
     "iopub.execute_input": "2022-06-23T09:42:25.418548Z",
     "iopub.status.busy": "2022-06-23T09:42:25.418013Z",
     "iopub.status.idle": "2022-06-23T09:42:29.052615Z",
     "shell.execute_reply": "2022-06-23T09:42:29.052014Z"
    },
    "papermill": {
     "duration": 3.64819,
     "end_time": "2022-06-23T09:42:29.054443",
     "exception": false,
     "start_time": "2022-06-23T09:42:25.406253",
     "status": "completed"
    },
    "tags": []
   },
   "outputs": [],
   "source": [
    "%matplotlib inline\n",
    "from datetime import datetime\n",
    "import logging\n",
    "import warnings\n",
    "warnings.simplefilter(action='ignore', category=FutureWarning)\n",
    "\n",
    "import pandas as pd\n",
    "import matplotlib.pyplot as plt\n",
    "import matplotlib.ticker as mticker\n",
    "plt.style.use('bmh')\n",
    "\n",
    "from vivace.backtest import signal\n",
    "from vivace.backtest import processing\n",
    "from vivace.backtest.contract import all_futures_baltas2020\n",
    "from vivace.backtest.engine import BacktestEngine\n",
    "from vivace.backtest.enums import Strategy, Weighting, RealisedVolatility\n",
    "from vivace.backtest.stats import Performance"
   ]
  },
  {
   "cell_type": "markdown",
   "id": "fc04e322",
   "metadata": {
    "papermill": {
     "duration": 0.010666,
     "end_time": "2022-06-23T09:42:29.075853",
     "exception": false,
     "start_time": "2022-06-23T09:42:29.065187",
     "status": "completed"
    },
    "tags": []
   },
   "source": [
    "# Data"
   ]
  },
  {
   "cell_type": "code",
   "execution_count": 2,
   "id": "29ea0295",
   "metadata": {
    "ExecuteTime": {
     "end_time": "2020-08-30T21:08:49.529214Z",
     "start_time": "2020-08-30T21:08:49.525465Z"
    },
    "execution": {
     "iopub.execute_input": "2022-06-23T09:42:29.103255Z",
     "iopub.status.busy": "2022-06-23T09:42:29.102972Z",
     "iopub.status.idle": "2022-06-23T09:42:29.111577Z",
     "shell.execute_reply": "2022-06-23T09:42:29.110893Z"
    },
    "papermill": {
     "duration": 0.027903,
     "end_time": "2022-06-23T09:42:29.114448",
     "exception": false,
     "start_time": "2022-06-23T09:42:29.086545",
     "status": "completed"
    },
    "tags": []
   },
   "outputs": [
    {
     "data": {
      "text/plain": [
       "array(['WTI Crude Oil', 'Brent Crude Oil', 'Heating Oil', 'Natural Gas',\n",
       "       'Gasoline', 'Copper', 'Gold', 'Palladium', 'Platinum', 'Silver',\n",
       "       'Feeder Cattle', 'Live Cattle', 'Lean Hog', 'Corn', 'Oats',\n",
       "       'Soybean Oil', 'Soybean Meal', 'Soybean', 'Wheat', 'Cocoa',\n",
       "       'Coffee', 'Cotton', 'Lumber', 'Orange Juice', 'Sugar',\n",
       "       'Australian Dollar', 'Canadian Dollar', 'Swiss Franc', 'Euro',\n",
       "       'British Pound', 'Japanese Yen', 'E-Mini Nasdaq 100',\n",
       "       'E-mini S&P 500', 'E-mini Russell 2000', 'FTSE 100', 'DAX',\n",
       "       'CAC 40', 'IBEX 35', 'AEX', 'Swiss Market Index', 'SPI 200',\n",
       "       'Topix', 'Hang Seng', 'US 2-year Treasury', 'US 5-year Treasury',\n",
       "       'US 10-year Treasury', 'US treasury Bond', 'Germany Schatz',\n",
       "       'Germany Bobl', 'Germany Bund', 'Germany Buxl', 'Gilt',\n",
       "       'Canada 10-year Treasury', 'JGB'], dtype=object)"
      ]
     },
     "execution_count": 2,
     "metadata": {},
     "output_type": "execute_result"
    }
   ],
   "source": [
    "all_futures_baltas2020['name'].values"
   ]
  },
  {
   "cell_type": "code",
   "execution_count": 3,
   "id": "c50d5ce9",
   "metadata": {
    "ExecuteTime": {
     "end_time": "2020-08-30T21:08:49.542477Z",
     "start_time": "2020-08-30T21:08:49.530487Z"
    },
    "execution": {
     "iopub.execute_input": "2022-06-23T09:42:29.144336Z",
     "iopub.status.busy": "2022-06-23T09:42:29.143770Z",
     "iopub.status.idle": "2022-06-23T09:42:29.147960Z",
     "shell.execute_reply": "2022-06-23T09:42:29.147354Z"
    },
    "papermill": {
     "duration": 0.021313,
     "end_time": "2022-06-23T09:42:29.149945",
     "exception": false,
     "start_time": "2022-06-23T09:42:29.128632",
     "status": "completed"
    },
    "tags": []
   },
   "outputs": [
    {
     "name": "stdout",
     "output_type": "stream",
     "text": [
      "54\n"
     ]
    }
   ],
   "source": [
    "print(len(all_futures_baltas2020))"
   ]
  },
  {
   "cell_type": "markdown",
   "id": "bea8af88",
   "metadata": {
    "papermill": {
     "duration": 0.014251,
     "end_time": "2022-06-23T09:42:29.178475",
     "exception": false,
     "start_time": "2022-06-23T09:42:29.164224",
     "status": "completed"
    },
    "tags": []
   },
   "source": [
    "We try to use the same contract as the original paper where possible, resulting 54 futures contracts to analyse. The trading universe covers a wide range of asset classes and regions, and is made up of following instruments:\n",
    "- Equity index futures\n",
    "- Government bond futures\n",
    "- FX futures\n",
    "- Commodity futures\n",
    "\n",
    "where the same trend detection method is applied."
   ]
  },
  {
   "cell_type": "markdown",
   "id": "ae2873dd",
   "metadata": {
    "papermill": {
     "duration": 0.014177,
     "end_time": "2022-06-23T09:42:29.207044",
     "exception": false,
     "start_time": "2022-06-23T09:42:29.192867",
     "status": "completed"
    },
    "tags": []
   },
   "source": [
    "# Performance\n"
   ]
  },
  {
   "cell_type": "markdown",
   "id": "dc9f3b49",
   "metadata": {
    "papermill": {
     "duration": 0.010271,
     "end_time": "2022-06-23T09:42:29.228821",
     "exception": false,
     "start_time": "2022-06-23T09:42:29.218550",
     "status": "completed"
    },
    "tags": []
   },
   "source": [
    "## Moskowitz et al\n",
    "\n",
    "First we calculate the original trend-following portfolio with a more traditional close-to-close realised volatility estimator. Although Moskowitz et al uses the exponentially weighted standard deviation, BK2020 appears to compare against the rolling standard deviation."
   ]
  },
  {
   "cell_type": "code",
   "execution_count": 4,
   "id": "4b0b3948",
   "metadata": {
    "execution": {
     "iopub.execute_input": "2022-06-23T09:42:29.251187Z",
     "iopub.status.busy": "2022-06-23T09:42:29.250921Z",
     "iopub.status.idle": "2022-06-23T09:53:28.041673Z",
     "shell.execute_reply": "2022-06-23T09:53:28.041010Z"
    },
    "papermill": {
     "duration": 658.805227,
     "end_time": "2022-06-23T09:53:28.044253",
     "exception": false,
     "start_time": "2022-06-23T09:42:29.239026",
     "status": "completed"
    },
    "tags": []
   },
   "outputs": [],
   "source": [
    "engine_original = BacktestEngine(\n",
    "    strategy=Strategy.DELTA_ONE.value,\n",
    "    instrument=all_futures_baltas2020.index,\n",
    "    signal=signal.ParallelSignal([\n",
    "        signal.VolatilityScale(agg_method='rolling', window=21, ann_factor=261, \n",
    "                               target_volatility=0.4, signal_cap=0.95),\n",
    "        signal.TSMOMMoskowitz2012(post_process=processing.AsFreq(freq='m', method='pad'))\n",
    "    ], weighting='product'),\n",
    "    weighting=Weighting.EQUAL_WEIGHT.value,\n",
    "    log_level=logging.WARN,\n",
    ")\n",
    "engine_original.run()"
   ]
  },
  {
   "cell_type": "code",
   "execution_count": 5,
   "id": "7dac6d68",
   "metadata": {
    "execution": {
     "iopub.execute_input": "2022-06-23T09:53:28.111400Z",
     "iopub.status.busy": "2022-06-23T09:53:28.110783Z",
     "iopub.status.idle": "2022-06-23T09:54:54.723649Z",
     "shell.execute_reply": "2022-06-23T09:54:54.723042Z"
    },
    "papermill": {
     "duration": 86.665147,
     "end_time": "2022-06-23T09:54:54.725557",
     "exception": false,
     "start_time": "2022-06-23T09:53:28.060410",
     "status": "completed"
    },
    "tags": []
   },
   "outputs": [],
   "source": [
    "engine_original_eq = (engine_original.calculate_equity_curve(calculate_net=False, rebalance_freq='m')\n",
    "                      .rename('Trend-following portfolio (Moskowitz 2012)'))"
   ]
  },
  {
   "cell_type": "code",
   "execution_count": 6,
   "id": "cdd946cc",
   "metadata": {
    "execution": {
     "iopub.execute_input": "2022-06-23T09:54:54.759479Z",
     "iopub.status.busy": "2022-06-23T09:54:54.759047Z",
     "iopub.status.idle": "2022-06-23T09:54:55.550879Z",
     "shell.execute_reply": "2022-06-23T09:54:55.550288Z"
    },
    "papermill": {
     "duration": 0.815472,
     "end_time": "2022-06-23T09:54:55.552577",
     "exception": false,
     "start_time": "2022-06-23T09:54:54.737105",
     "status": "completed"
    },
    "tags": []
   },
   "outputs": [
    {
     "data": {
      "image/png": "[encoded data removed]",
      "text/plain": [
       "<Figure size 576x324 with 1 Axes>"
      ]
     },
     "metadata": {
      "needs_background": "light"
     },
     "output_type": "display_data"
    }
   ],
   "source": [
    "fig, ax = plt.subplots(figsize=(8, 4.5))\n",
    "engine_original_eq.plot(ax=ax, logy=True)\n",
    "ax.set_title('Trend-following portfolio (Moskowitz 2012)')\n",
    "ax.set_ylabel('Cumulative returns');"
   ]
  },
  {
   "cell_type": "code",
   "execution_count": 7,
   "id": "5c9f9693",
   "metadata": {
    "execution": {
     "iopub.execute_input": "2022-06-23T09:54:55.574953Z",
     "iopub.status.busy": "2022-06-23T09:54:55.574703Z",
     "iopub.status.idle": "2022-06-23T09:54:55.655472Z",
     "shell.execute_reply": "2022-06-23T09:54:55.654888Z"
    },
    "papermill": {
     "duration": 0.09379,
     "end_time": "2022-06-23T09:54:55.657035",
     "exception": false,
     "start_time": "2022-06-23T09:54:55.563245",
     "status": "completed"
    },
    "tags": []
   },
   "outputs": [
    {
     "data": {
      "text/html": [
       "<div>\n",
       "<style scoped>\n",
       "    .dataframe tbody tr th:only-of-type {\n",
       "        vertical-align: middle;\n",
       "    }\n",
       "\n",
       "    .dataframe tbody tr th {\n",
       "        vertical-align: top;\n",
       "    }\n",
       "\n",
       "    .dataframe thead th {\n",
       "        text-align: right;\n",
       "    }\n",
       "</style>\n",
       "<table border=\"1\" class=\"dataframe\">\n",
       "  <thead>\n",
       "    <tr style=\"text-align: right;\">\n",
       "      <th></th>\n",
       "      <th>Trend-following portfolio (Moskowitz 2012)</th>\n",
       "    </tr>\n",
       "  </thead>\n",
       "  <tbody>\n",
       "    <tr>\n",
       "      <th>CAGR</th>\n",
       "      <td>0.148261</td>\n",
       "    </tr>\n",
       "    <tr>\n",
       "      <th>Annualised vol</th>\n",
       "      <td>0.124946</td>\n",
       "    </tr>\n",
       "    <tr>\n",
       "      <th>Sharpe ratio</th>\n",
       "      <td>1.186593</td>\n",
       "    </tr>\n",
       "    <tr>\n",
       "      <th>Max drawdown</th>\n",
       "      <td>0.259239</td>\n",
       "    </tr>\n",
       "    <tr>\n",
       "      <th>Calmar ratio</th>\n",
       "      <td>0.571907</td>\n",
       "    </tr>\n",
       "    <tr>\n",
       "      <th>Skewness</th>\n",
       "      <td>0.074010</td>\n",
       "    </tr>\n",
       "    <tr>\n",
       "      <th>Kurtosis</th>\n",
       "      <td>19.411539</td>\n",
       "    </tr>\n",
       "    <tr>\n",
       "      <th>Worst return</th>\n",
       "      <td>-0.126276</td>\n",
       "    </tr>\n",
       "    <tr>\n",
       "      <th>Worst 1d return</th>\n",
       "      <td>-0.126276</td>\n",
       "    </tr>\n",
       "    <tr>\n",
       "      <th>Worst 1w return</th>\n",
       "      <td>-0.107725</td>\n",
       "    </tr>\n",
       "    <tr>\n",
       "      <th>Worst 1m return</th>\n",
       "      <td>-0.152667</td>\n",
       "    </tr>\n",
       "  </tbody>\n",
       "</table>\n",
       "</div>"
      ],
      "text/plain": [
       "                 Trend-following portfolio (Moskowitz 2012)\n",
       "CAGR                                               0.148261\n",
       "Annualised vol                                     0.124946\n",
       "Sharpe ratio                                       1.186593\n",
       "Max drawdown                                       0.259239\n",
       "Calmar ratio                                       0.571907\n",
       "Skewness                                           0.074010\n",
       "Kurtosis                                          19.411539\n",
       "Worst return                                      -0.126276\n",
       "Worst 1d return                                   -0.126276\n",
       "Worst 1w return                                   -0.107725\n",
       "Worst 1m return                                   -0.152667"
      ]
     },
     "execution_count": 7,
     "metadata": {},
     "output_type": "execute_result"
    }
   ],
   "source": [
    "engine_original_eq.pipe(Performance).summary()"
   ]
  },
  {
   "cell_type": "markdown",
   "id": "59b91ce9",
   "metadata": {
    "papermill": {
     "duration": 0.01034,
     "end_time": "2022-06-23T09:54:55.678179",
     "exception": false,
     "start_time": "2022-06-23T09:54:55.667839",
     "status": "completed"
    },
    "tags": []
   },
   "source": [
    "\n",
    "## Volatility estimator\n",
    "BK2020 proposes a few changes in order to enhance the original trend-following strategy Moskowitz et al reported. The first thing is to use a more sophisticated realised volatility estimators for volatility scaling. Moskowitz used the exponentially weighted standard deviation with close-to-close. On the other hand, BK2020 suggests to use Yang-Zhang estimator as it is much more efficient."
   ]
  },
  {
   "cell_type": "code",
   "execution_count": null,
   "id": "c6b04b14",
   "metadata": {
    "ExecuteTime": {
     "end_time": "2020-08-30T21:18:24.661167Z",
     "start_time": "2020-08-30T21:08:49.544232Z"
    },
    "execution": {
     "iopub.execute_input": "2020-11-29T13:18:54.469883Z",
     "iopub.status.busy": "2020-11-29T13:18:54.469751Z",
     "iopub.status.idle": "2020-11-29T13:31:00.557774Z",
     "shell.execute_reply": "2020-11-29T13:31:00.557320Z",
     "shell.execute_reply.started": "2020-11-29T13:18:54.469866Z"
    },
    "papermill": {
     "duration": null,
     "end_time": null,
     "exception": false,
     "start_time": "2022-06-23T09:54:55.688804",
     "status": "running"
    },
    "tags": []
   },
   "outputs": [],
   "source": [
    "engine_vol = BacktestEngine(\n",
    "    strategy=Strategy.DELTA_ONE.value,\n",
    "    instrument=all_futures_baltas2020.index,\n",
    "    signal=signal.ParallelSignal([\n",
    "        signal.VolatilityScale(volatility_type=RealisedVolatility.YZ.value,\n",
    "                               agg_method='rolling', window=21, min_periods=10,\n",
    "                               target_volatility=0.4, signal_cap=0.95, ann_factor=261),\n",
    "        signal.TSMOMMoskowitz2012(post_process=processing.AsFreq(freq='m', method='pad'))\n",
    "    ], weighting='product'),\n",
    "    weighting=Weighting.EQUAL_WEIGHT.value,\n",
    "    log_level=logging.WARN,\n",
    ")\n",
    "engine_vol.run()"
   ]
  },
  {
   "cell_type": "code",
   "execution_count": null,
   "id": "2c485225",
   "metadata": {
    "execution": {
     "iopub.execute_input": "2020-11-29T13:31:00.559325Z",
     "iopub.status.busy": "2020-11-29T13:31:00.559173Z",
     "iopub.status.idle": "2020-11-29T13:31:47.912566Z",
     "shell.execute_reply": "2020-11-29T13:31:47.912169Z",
     "shell.execute_reply.started": "2020-11-29T13:31:00.559296Z"
    },
    "papermill": {
     "duration": null,
     "end_time": null,
     "exception": null,
     "start_time": null,
     "status": "pending"
    },
    "tags": []
   },
   "outputs": [],
   "source": [
    "engine_vol_eq = (engine_vol.calculate_equity_curve(calculate_net=False, rebalance_freq='m')\n",
    "                 .rename('Trend-following portfolio (YZ estimator)'))"
   ]
  },
  {
   "cell_type": "code",
   "execution_count": null,
   "id": "bf81eb38",
   "metadata": {
    "execution": {
     "iopub.execute_input": "2020-11-29T13:31:47.913432Z",
     "iopub.status.busy": "2020-11-29T13:31:47.913330Z",
     "iopub.status.idle": "2020-11-29T13:31:48.171798Z",
     "shell.execute_reply": "2020-11-29T13:31:48.171437Z",
     "shell.execute_reply.started": "2020-11-29T13:31:47.913420Z"
    },
    "papermill": {
     "duration": null,
     "end_time": null,
     "exception": null,
     "start_time": null,
     "status": "pending"
    },
    "tags": []
   },
   "outputs": [],
   "source": [
    "fig, ax = plt.subplots(figsize=(8, 4.5))\n",
    "engine_vol_eq.plot(ax=ax, logy=True);\n",
    "ax.set_title('Trend-following portfolio (YZ estimator)')\n",
    "ax.set_ylabel('Cumulative returns');"
   ]
  },
  {
   "cell_type": "code",
   "execution_count": null,
   "id": "13cda17d",
   "metadata": {
    "execution": {
     "iopub.execute_input": "2020-11-29T13:31:48.172351Z",
     "iopub.status.busy": "2020-11-29T13:31:48.172257Z",
     "iopub.status.idle": "2020-11-29T13:31:48.356055Z",
     "shell.execute_reply": "2020-11-29T13:31:48.355595Z",
     "shell.execute_reply.started": "2020-11-29T13:31:48.172339Z"
    },
    "papermill": {
     "duration": null,
     "end_time": null,
     "exception": null,
     "start_time": null,
     "status": "pending"
    },
    "tags": []
   },
   "outputs": [],
   "source": [
    "engine_vol_eq.pipe(Performance).summary()"
   ]
  },
  {
   "cell_type": "markdown",
   "id": "e5a8ec03",
   "metadata": {
    "papermill": {
     "duration": null,
     "end_time": null,
     "exception": null,
     "start_time": null,
     "status": "pending"
    },
    "tags": []
   },
   "source": [
    "## TREND signal\n",
    "\n",
    "Another improvement BK2020 proposes is to use a continuous signal rather than a binary one in order to reduce the turnover when signals are weak. Specifically they used the t-values with the Newey-West standard error as the signal. They further capped and floored the signal between -1 and +1 to avoid extreme positions.\n",
    "\n",
    "`statsmodels`'s `OLS` class provides a method to compute the Newey-West standard error. https://www.statsmodels.org/stable/generated/statsmodels.regression.linear_model.OLS.html"
   ]
  },
  {
   "cell_type": "code",
   "execution_count": null,
   "id": "94d74b82",
   "metadata": {
    "execution": {
     "iopub.execute_input": "2020-11-29T13:31:48.356730Z",
     "iopub.status.busy": "2020-11-29T13:31:48.356602Z",
     "iopub.status.idle": "2020-11-29T13:43:37.546906Z",
     "shell.execute_reply": "2020-11-29T13:43:37.546504Z",
     "shell.execute_reply.started": "2020-11-29T13:31:48.356714Z"
    },
    "papermill": {
     "duration": null,
     "end_time": null,
     "exception": null,
     "start_time": null,
     "status": "pending"
    },
    "tags": []
   },
   "outputs": [],
   "source": [
    "engine_trend = BacktestEngine(\n",
    "    strategy=Strategy.DELTA_ONE.value,\n",
    "    instrument=all_futures_baltas2020.index,\n",
    "    signal=signal.ParallelSignal([\n",
    "        signal.VolatilityScale(agg_method='rolling', window=21, ann_factor=261, \n",
    "                               target_volatility=0.4, signal_cap=0.95),\n",
    "        signal.TSMOMBaltas2020()\n",
    "    ], weighting='product'),\n",
    "    weighting=Weighting.EQUAL_WEIGHT.value,\n",
    "    log_level=logging.WARN,\n",
    ")\n",
    "engine_trend.run()"
   ]
  },
  {
   "cell_type": "code",
   "execution_count": null,
   "id": "b48a714e",
   "metadata": {
    "execution": {
     "iopub.execute_input": "2020-11-29T13:43:37.547465Z",
     "iopub.status.busy": "2020-11-29T13:43:37.547352Z",
     "iopub.status.idle": "2020-11-29T13:44:27.099491Z",
     "shell.execute_reply": "2020-11-29T13:44:27.099088Z",
     "shell.execute_reply.started": "2020-11-29T13:43:37.547435Z"
    },
    "papermill": {
     "duration": null,
     "end_time": null,
     "exception": null,
     "start_time": null,
     "status": "pending"
    },
    "tags": []
   },
   "outputs": [],
   "source": [
    "engine_trend_eq = (engine_trend.calculate_equity_curve(calculate_net=False, rebalance_freq='m')\n",
    "                   .rename('Trend-following portfolio (TREND signal)'))"
   ]
  },
  {
   "cell_type": "code",
   "execution_count": null,
   "id": "d0f6025e",
   "metadata": {
    "execution": {
     "iopub.execute_input": "2020-11-29T13:44:27.100049Z",
     "iopub.status.busy": "2020-11-29T13:44:27.099952Z",
     "iopub.status.idle": "2020-11-29T13:44:28.328924Z",
     "shell.execute_reply": "2020-11-29T13:44:28.328456Z",
     "shell.execute_reply.started": "2020-11-29T13:44:27.100036Z"
    },
    "papermill": {
     "duration": null,
     "end_time": null,
     "exception": null,
     "start_time": null,
     "status": "pending"
    },
    "tags": []
   },
   "outputs": [],
   "source": [
    "fig, ax = plt.subplots(figsize=(8, 4.5))\n",
    "engine_trend_eq.plot(ax=ax, logy=True);\n",
    "ax.set_title('Trend-following portfolio (TREND signal)')\n",
    "ax.set_ylabel('Cumulative returns');"
   ]
  },
  {
   "cell_type": "code",
   "execution_count": null,
   "id": "ceb37721",
   "metadata": {
    "execution": {
     "iopub.execute_input": "2020-11-29T13:44:28.329636Z",
     "iopub.status.busy": "2020-11-29T13:44:28.329504Z",
     "iopub.status.idle": "2020-11-29T13:44:28.515713Z",
     "shell.execute_reply": "2020-11-29T13:44:28.515351Z",
     "shell.execute_reply.started": "2020-11-29T13:44:28.329619Z"
    },
    "papermill": {
     "duration": null,
     "end_time": null,
     "exception": null,
     "start_time": null,
     "status": "pending"
    },
    "tags": []
   },
   "outputs": [],
   "source": [
    "engine_trend_eq.pipe(Performance).summary()"
   ]
  },
  {
   "cell_type": "markdown",
   "id": "a30873d5",
   "metadata": {
    "papermill": {
     "duration": null,
     "end_time": null,
     "exception": null,
     "start_time": null,
     "status": "pending"
    },
    "tags": []
   },
   "source": [
    "## Combined\n",
    "\n",
    "Finally we run a backtest by using both the Yang-Zhang volatility estimator and the TREND signal."
   ]
  },
  {
   "cell_type": "code",
   "execution_count": null,
   "id": "60f1d8d0",
   "metadata": {
    "execution": {
     "iopub.execute_input": "2020-11-29T13:44:28.516292Z",
     "iopub.status.busy": "2020-11-29T13:44:28.516169Z",
     "iopub.status.idle": "2020-11-29T14:02:02.911995Z",
     "shell.execute_reply": "2020-11-29T14:02:02.911601Z",
     "shell.execute_reply.started": "2020-11-29T13:44:28.516275Z"
    },
    "papermill": {
     "duration": null,
     "end_time": null,
     "exception": null,
     "start_time": null,
     "status": "pending"
    },
    "tags": []
   },
   "outputs": [],
   "source": [
    "engine_combined = BacktestEngine(\n",
    "    strategy=Strategy.DELTA_ONE.value,\n",
    "    instrument=all_futures_baltas2020.index,\n",
    "    signal=signal.ParallelSignal([\n",
    "        signal.VolatilityScale(volatility_type=RealisedVolatility.YZ.value,\n",
    "                               agg_method='rolling', window=21, min_periods=10,\n",
    "                               target_volatility=0.4, signal_cap=0.95, ann_factor=261),\n",
    "        signal.TSMOMBaltas2020()\n",
    "    ], weighting='product'),\n",
    "    weighting=Weighting.EQUAL_WEIGHT.value,\n",
    "    log_level=logging.WARN,\n",
    ")\n",
    "engine_combined.run()"
   ]
  },
  {
   "cell_type": "code",
   "execution_count": null,
   "id": "8649aae0",
   "metadata": {
    "execution": {
     "iopub.execute_input": "2020-11-29T14:02:02.912539Z",
     "iopub.status.busy": "2020-11-29T14:02:02.912445Z",
     "iopub.status.idle": "2020-11-29T14:02:50.358639Z",
     "shell.execute_reply": "2020-11-29T14:02:50.358144Z",
     "shell.execute_reply.started": "2020-11-29T14:02:02.912527Z"
    },
    "papermill": {
     "duration": null,
     "end_time": null,
     "exception": null,
     "start_time": null,
     "status": "pending"
    },
    "tags": []
   },
   "outputs": [],
   "source": [
    "engine_combined_eq = (engine_combined.calculate_equity_curve(calculate_net=False, rebalance_freq='m')\n",
    "                      .rename('Trend-following portfolio (YZ estimator + TREND signal)'))"
   ]
  },
  {
   "cell_type": "code",
   "execution_count": null,
   "id": "df21a83d",
   "metadata": {
    "execution": {
     "iopub.execute_input": "2020-11-29T14:02:50.359419Z",
     "iopub.status.busy": "2020-11-29T14:02:50.359216Z",
     "iopub.status.idle": "2020-11-29T14:02:50.674332Z",
     "shell.execute_reply": "2020-11-29T14:02:50.673964Z",
     "shell.execute_reply.started": "2020-11-29T14:02:50.359402Z"
    },
    "papermill": {
     "duration": null,
     "end_time": null,
     "exception": null,
     "start_time": null,
     "status": "pending"
    },
    "tags": []
   },
   "outputs": [],
   "source": [
    "fig, ax = plt.subplots(figsize=(8, 4.5))\n",
    "engine_combined_eq.plot(ax=ax, logy=True)\n",
    "ax.set_title('Trend-following portfolio (YZ estimator + TREND signal)')\n",
    "ax.set_ylabel('Cumulative returns');"
   ]
  },
  {
   "cell_type": "code",
   "execution_count": null,
   "id": "5c3bb712",
   "metadata": {
    "execution": {
     "iopub.execute_input": "2020-11-29T14:02:50.674937Z",
     "iopub.status.busy": "2020-11-29T14:02:50.674843Z",
     "iopub.status.idle": "2020-11-29T14:02:50.858104Z",
     "shell.execute_reply": "2020-11-29T14:02:50.857652Z",
     "shell.execute_reply.started": "2020-11-29T14:02:50.674925Z"
    },
    "papermill": {
     "duration": null,
     "end_time": null,
     "exception": null,
     "start_time": null,
     "status": "pending"
    },
    "tags": []
   },
   "outputs": [],
   "source": [
    "engine_combined_eq.pipe(Performance).summary()"
   ]
  },
  {
   "cell_type": "markdown",
   "id": "3d8996a5",
   "metadata": {
    "papermill": {
     "duration": null,
     "end_time": null,
     "exception": null,
     "start_time": null,
     "status": "pending"
    },
    "tags": []
   },
   "source": [
    "# Comparison\n",
    "\n",
    "In this section we compare the above 4 backtests."
   ]
  },
  {
   "cell_type": "markdown",
   "id": "85cd3b77",
   "metadata": {
    "papermill": {
     "duration": null,
     "end_time": null,
     "exception": null,
     "start_time": null,
     "status": "pending"
    },
    "tags": []
   },
   "source": [
    "## Performance\n",
    "\n",
    "As reported in BK2020, using the YZ estimator and TREND signal does not alter the performance characteristics. Rather, the TREND signal somewhat improves the Sharpe ratio. Also the TREND signal lowers the annualised volatility from 12.5% to 10.8% with the close-to-close realised volatility."
   ]
  },
  {
   "cell_type": "code",
   "execution_count": null,
   "id": "3f498db2",
   "metadata": {
    "execution": {
     "iopub.execute_input": "2020-11-29T14:02:50.858783Z",
     "iopub.status.busy": "2020-11-29T14:02:50.858638Z",
     "iopub.status.idle": "2020-11-29T14:02:50.868734Z",
     "shell.execute_reply": "2020-11-29T14:02:50.868323Z",
     "shell.execute_reply.started": "2020-11-29T14:02:50.858766Z"
    },
    "papermill": {
     "duration": null,
     "end_time": null,
     "exception": null,
     "start_time": null,
     "status": "pending"
    },
    "tags": []
   },
   "outputs": [],
   "source": [
    "performance_comp = pd.concat((engine_original_eq, engine_vol_eq, \n",
    "                              engine_trend_eq, engine_combined_eq), axis=1)"
   ]
  },
  {
   "cell_type": "code",
   "execution_count": null,
   "id": "160f1912",
   "metadata": {
    "execution": {
     "iopub.execute_input": "2020-11-29T14:02:50.869384Z",
     "iopub.status.busy": "2020-11-29T14:02:50.869257Z",
     "iopub.status.idle": "2020-11-29T14:02:51.254848Z",
     "shell.execute_reply": "2020-11-29T14:02:51.254347Z",
     "shell.execute_reply.started": "2020-11-29T14:02:50.869368Z"
    },
    "papermill": {
     "duration": null,
     "end_time": null,
     "exception": null,
     "start_time": null,
     "status": "pending"
    },
    "tags": []
   },
   "outputs": [],
   "source": [
    "fig, ax = plt.subplots(figsize=(8, 4.5))\n",
    "performance_comp.plot(ax=ax, logy=True);\n",
    "ax.set_title('Trend-following portfolio')\n",
    "ax.set_ylabel('Cumulative returns');"
   ]
  },
  {
   "cell_type": "code",
   "execution_count": null,
   "id": "507d0651",
   "metadata": {
    "execution": {
     "iopub.execute_input": "2020-11-29T14:02:51.255611Z",
     "iopub.status.busy": "2020-11-29T14:02:51.255463Z",
     "iopub.status.idle": "2020-11-29T14:02:51.466310Z",
     "shell.execute_reply": "2020-11-29T14:02:51.465842Z",
     "shell.execute_reply.started": "2020-11-29T14:02:51.255594Z"
    },
    "papermill": {
     "duration": null,
     "end_time": null,
     "exception": null,
     "start_time": null,
     "status": "pending"
    },
    "tags": []
   },
   "outputs": [],
   "source": [
    "performance_comp.pipe(Performance).summary()"
   ]
  },
  {
   "cell_type": "markdown",
   "id": "cb8cdc64",
   "metadata": {
    "papermill": {
     "duration": null,
     "end_time": null,
     "exception": null,
     "start_time": null,
     "status": "pending"
    },
    "tags": []
   },
   "source": [
    "## Turnover reduction\n",
    "\n",
    "Again, as reported in BK2020, both enhancements reduce the turnover significantly while not affecting the performance. The chart below shows the reduction in turnover for each futures contract. By utilising the YZ realised volatility and the TREND signal, overall the turnover is reduced by more than 30%."
   ]
  },
  {
   "cell_type": "code",
   "execution_count": null,
   "id": "5f56789d",
   "metadata": {
    "execution": {
     "iopub.execute_input": "2020-11-29T14:02:51.467010Z",
     "iopub.status.busy": "2020-11-29T14:02:51.466881Z",
     "iopub.status.idle": "2020-11-29T14:05:55.467518Z",
     "shell.execute_reply": "2020-11-29T14:05:55.467015Z",
     "shell.execute_reply.started": "2020-11-29T14:02:51.466993Z"
    },
    "papermill": {
     "duration": null,
     "end_time": null,
     "exception": null,
     "start_time": null,
     "status": "pending"
    },
    "tags": []
   },
   "outputs": [],
   "source": [
    "engine_original_pos = engine_original.get_position_by_instrument()\n",
    "engine_vol_pos = engine_vol.get_position_by_instrument()\n",
    "engine_trend_pos = engine_trend.get_position_by_instrument()\n",
    "engine_combined_pos = engine_combined.get_position_by_instrument()"
   ]
  },
  {
   "cell_type": "code",
   "execution_count": null,
   "id": "e45bc394",
   "metadata": {
    "execution": {
     "iopub.execute_input": "2020-11-29T14:05:55.468286Z",
     "iopub.status.busy": "2020-11-29T14:05:55.468155Z",
     "iopub.status.idle": "2020-11-29T14:05:55.484346Z",
     "shell.execute_reply": "2020-11-29T14:05:55.483841Z",
     "shell.execute_reply.started": "2020-11-29T14:05:55.468269Z"
    },
    "papermill": {
     "duration": null,
     "end_time": null,
     "exception": null,
     "start_time": null,
     "status": "pending"
    },
    "tags": []
   },
   "outputs": [],
   "source": [
    "engine_original_turnover = (engine_original_pos.diff().abs().mean().mul(261)\n",
    "                            .rename('Trend-following portfolio (Moskowitz 2012)'))\n",
    "engine_vol_turnover = (engine_vol_pos.diff().abs().mean().mul(261)\n",
    "                       .rename('Trend-following portfolio (YZ estimator)'))\n",
    "engine_trend_turnover = (engine_trend_pos.diff().abs().mean().mul(261)\n",
    "                         .rename('Trend-following portfolio (TREND signal)'))\n",
    "engine_combined_turnover = (engine_combined_pos.diff().abs().mean().mul(261)\n",
    "                            .rename('Trend-following portfolio (YZ estimator + TREND signal)'))"
   ]
  },
  {
   "cell_type": "code",
   "execution_count": null,
   "id": "a8edbd17",
   "metadata": {
    "execution": {
     "iopub.execute_input": "2020-11-29T14:05:55.485055Z",
     "iopub.status.busy": "2020-11-29T14:05:55.484919Z",
     "iopub.status.idle": "2020-11-29T14:05:55.495065Z",
     "shell.execute_reply": "2020-11-29T14:05:55.494584Z",
     "shell.execute_reply.started": "2020-11-29T14:05:55.485032Z"
    },
    "papermill": {
     "duration": null,
     "end_time": null,
     "exception": null,
     "start_time": null,
     "status": "pending"
    },
    "tags": []
   },
   "outputs": [],
   "source": [
    "turnover_reduction = (\n",
    "    pd.concat((engine_vol_turnover, engine_trend_turnover, engine_combined_turnover), axis=1)\n",
    "    .div(engine_original_turnover, axis=0)\n",
    "    .sub(1)\n",
    "    .reindex(index=all_futures_baltas2020.index)\n",
    "    .rename(index=all_futures_baltas2020['name'])\n",
    ")"
   ]
  },
  {
   "cell_type": "code",
   "execution_count": null,
   "id": "b74e04fe",
   "metadata": {
    "execution": {
     "iopub.execute_input": "2020-11-29T14:05:55.495740Z",
     "iopub.status.busy": "2020-11-29T14:05:55.495610Z",
     "iopub.status.idle": "2020-11-29T14:05:55.514631Z",
     "shell.execute_reply": "2020-11-29T14:05:55.514250Z",
     "shell.execute_reply.started": "2020-11-29T14:05:55.495723Z"
    },
    "papermill": {
     "duration": null,
     "end_time": null,
     "exception": null,
     "start_time": null,
     "status": "pending"
    },
    "tags": []
   },
   "outputs": [],
   "source": [
    "turnover_reduction.mean()"
   ]
  },
  {
   "cell_type": "code",
   "execution_count": null,
   "id": "46a9039a",
   "metadata": {
    "execution": {
     "iopub.execute_input": "2020-11-29T14:05:55.516218Z",
     "iopub.status.busy": "2020-11-29T14:05:55.516087Z",
     "iopub.status.idle": "2020-11-29T14:05:56.351004Z",
     "shell.execute_reply": "2020-11-29T14:05:56.350641Z",
     "shell.execute_reply.started": "2020-11-29T14:05:55.516201Z"
    },
    "papermill": {
     "duration": null,
     "end_time": null,
     "exception": null,
     "start_time": null,
     "status": "pending"
    },
    "tags": []
   },
   "outputs": [],
   "source": [
    "ax = turnover_reduction.plot(kind='bar', figsize=(14, 4))\n",
    "ax.yaxis.set_major_formatter(mticker.PercentFormatter(1))\n",
    "ax.axhline(0, color='black', lw=1)\n",
    "ax.axvline(24.5, color='black', lw=1)\n",
    "ax.axvline(30.5, color='black', lw=1)\n",
    "ax.axvline(42.5, color='black', lw=1)\n",
    "ax.set_xlabel('Contract')\n",
    "ax.set_ylabel('Turnover reduction');"
   ]
  },
  {
   "cell_type": "markdown",
   "id": "c66e5054",
   "metadata": {
    "papermill": {
     "duration": null,
     "end_time": null,
     "exception": null,
     "start_time": null,
     "status": "pending"
    },
    "tags": []
   },
   "source": [
    "# Recent performance"
   ]
  },
  {
   "cell_type": "code",
   "execution_count": null,
   "id": "e76492fc",
   "metadata": {
    "execution": {
     "iopub.execute_input": "2020-11-29T14:05:56.351727Z",
     "iopub.status.busy": "2020-11-29T14:05:56.351580Z",
     "iopub.status.idle": "2020-11-29T14:05:56.638686Z",
     "shell.execute_reply": "2020-11-29T14:05:56.638230Z",
     "shell.execute_reply.started": "2020-11-29T14:05:56.351710Z"
    },
    "papermill": {
     "duration": null,
     "end_time": null,
     "exception": null,
     "start_time": null,
     "status": "pending"
    },
    "tags": []
   },
   "outputs": [],
   "source": [
    "fig, ax = plt.subplots(figsize=(8, 4.5))\n",
    "performance_comp.tail(252 * 2).pct_change().fillna(0).add(1).cumprod().plot(ax=ax, logy=True);\n",
    "ax.set_title('Trend-following portfolio')\n",
    "ax.set_ylabel('Cumulative returns');"
   ]
  },
  {
   "cell_type": "markdown",
   "id": "1689e562",
   "metadata": {
    "papermill": {
     "duration": null,
     "end_time": null,
     "exception": null,
     "start_time": null,
     "status": "pending"
    },
    "tags": []
   },
   "source": [
    "# Reference\n",
    "\n",
    "- Baltas, N. and Kosowski, R., 2020. Demystifying time-series momentum strategies: Volatility estimators, trading rules and pairwise correlations. Market Momentum: Theory and Practice\", Wiley.\n",
    "- Moskowitz, T.J., Ooi, Y.H. and Pedersen, L.H., 2012. Time series momentum. Journal of financial economics, 104(2), pp.228-250."
   ]
  },
  {
   "cell_type": "code",
   "execution_count": null,
   "id": "5d5e3a88",
   "metadata": {
    "ExecuteTime": {
     "end_time": "2020-08-30T21:20:32.431574Z",
     "start_time": "2020-08-30T21:20:32.429370Z"
    },
    "execution": {
     "iopub.execute_input": "2020-11-29T14:05:56.639493Z",
     "iopub.status.busy": "2020-11-29T14:05:56.639306Z",
     "iopub.status.idle": "2020-11-29T14:05:56.642004Z",
     "shell.execute_reply": "2020-11-29T14:05:56.641537Z",
     "shell.execute_reply.started": "2020-11-29T14:05:56.639476Z"
    },
    "papermill": {
     "duration": null,
     "end_time": null,
     "exception": null,
     "start_time": null,
     "status": "pending"
    },
    "tags": []
   },
   "outputs": [],
   "source": [
    "print(f'Updated: {datetime.utcnow():%d-%b-%Y %H:%M}')"
   ]
  }
 ],
 "metadata": {
  "hide_input": false,
  "kernelspec": {
   "display_name": "Python 3",
   "language": "python",
   "name": "python3"
  },
  "language_info": {
   "codemirror_mode": {
    "name": "ipython",
    "version": 3
   },
   "file_extension": ".py",
   "mimetype": "text/x-python",
   "name": "python",
   "nbconvert_exporter": "python",
   "pygments_lexer": "ipython3",
   "version": "3.8.1"
  },
  "nav_menu": {},
  "papermill": {
   "duration": null,
   "end_time": null,
   "environment_variables": {},
   "exception": null,
   "input_path": "notebooks/papermill/trend_following_baltas2020.ipynb",
   "output_path": "notebooks/trend_following_baltas2020.ipynb",
   "parameters": {},
   "start_time": "2022-06-23T09:42:23.762376",
   "version": "2.1.3"
  },
  "toc": {
   "base_numbering": 1,
   "nav_menu": {},
   "number_sections": true,
   "sideBar": true,
   "skip_h1_title": false,
   "title_cell": "Table of Contents",
   "title_sidebar": "Contents",
   "toc_cell": true,
   "toc_position": {
    "height": "calc(100% - 180px)",
    "left": "10px",
    "top": "150px",
    "width": "165px"
   },
   "toc_section_display": "block",
   "toc_window_display": true
  }
 },
 "nbformat": 4,
 "nbformat_minor": 5
}