{
 "cells": [
  {
   "cell_type": "markdown",
   "id": "c563968b",
   "metadata": {
    "papermill": {
     "duration": 0.017111,
     "end_time": "2022-08-28T06:24:31.820495",
     "exception": false,
     "start_time": "2022-08-28T06:24:31.803384",
     "status": "completed"
    },
    "tags": []
   },
   "source": [
    "# Trend-following\n",
    "\n",
    "This notebook implements a few improvements that Baltas and Kosowski (2020) (BK2020, hereafter) propose to the time-series momentum strategy which originally appeared in Moskowitz et al (2012).\n",
    "\n",
    "Note that like other notebooks, all backtests are performed by using a private library called `vivace`."
   ]
  },
  {
   "cell_type": "code",
   "execution_count": 1,
   "id": "23a63d6c",
   "metadata": {
    "ExecuteTime": {
     "end_time": "2020-08-30T21:08:49.524262Z",
     "start_time": "2020-08-30T21:08:48.720115Z"
    },
    "execution": {
     "iopub.execute_input": "2022-08-28T06:24:31.853731Z",
     "iopub.status.busy": "2022-08-28T06:24:31.853346Z",
     "iopub.status.idle": "2022-08-28T06:24:35.417461Z",
     "shell.execute_reply": "2022-08-28T06:24:35.416584Z"
    },
    "papermill": {
     "duration": 3.583023,
     "end_time": "2022-08-28T06:24:35.419590",
     "exception": false,
     "start_time": "2022-08-28T06:24:31.836567",
     "status": "completed"
    },
    "tags": []
   },
   "outputs": [],
   "source": [
    "%matplotlib inline\n",
    "from datetime import datetime\n",
    "import logging\n",
    "import warnings\n",
    "warnings.simplefilter(action='ignore', category=FutureWarning)\n",
    "\n",
    "import pandas as pd\n",
    "import matplotlib.pyplot as plt\n",
    "import matplotlib.ticker as mticker\n",
    "plt.style.use('bmh')\n",
    "\n",
    "from vivace.backtest import signal\n",
    "from vivace.backtest import processing\n",
    "from vivace.backtest.contract import all_futures_baltas2020\n",
    "from vivace.backtest.engine import BacktestEngine\n",
    "from vivace.backtest.enums import Strategy, Weighting, RealisedVolatility\n",
    "from vivace.backtest.stats import Performance"
   ]
  },
  {
   "cell_type": "markdown",
   "id": "88633685",
   "metadata": {
    "papermill": {
     "duration": 0.016097,
     "end_time": "2022-08-28T06:24:35.447162",
     "exception": false,
     "start_time": "2022-08-28T06:24:35.431065",
     "status": "completed"
    },
    "tags": []
   },
   "source": [
    "# Data"
   ]
  },
  {
   "cell_type": "code",
   "execution_count": 2,
   "id": "158be1a6",
   "metadata": {
    "ExecuteTime": {
     "end_time": "2020-08-30T21:08:49.529214Z",
     "start_time": "2020-08-30T21:08:49.525465Z"
    },
    "execution": {
     "iopub.execute_input": "2022-08-28T06:24:35.480408Z",
     "iopub.status.busy": "2022-08-28T06:24:35.479634Z",
     "iopub.status.idle": "2022-08-28T06:24:35.488008Z",
     "shell.execute_reply": "2022-08-28T06:24:35.487279Z"
    },
    "papermill": {
     "duration": 0.027336,
     "end_time": "2022-08-28T06:24:35.490796",
     "exception": false,
     "start_time": "2022-08-28T06:24:35.463460",
     "status": "completed"
    },
    "tags": []
   },
   "outputs": [
    {
     "data": {
      "text/plain": [
       "array(['WTI Crude Oil', 'Brent Crude Oil', 'Heating Oil', 'Natural Gas',\n",
       "       'Gasoline', 'Copper', 'Gold', 'Palladium', 'Platinum', 'Silver',\n",
       "       'Feeder Cattle', 'Live Cattle', 'Lean Hog', 'Corn', 'Oats',\n",
       "       'Soybean Oil', 'Soybean Meal', 'Soybean', 'Wheat', 'Cocoa',\n",
       "       'Coffee', 'Cotton', 'Lumber', 'Orange Juice', 'Sugar',\n",
       "       'Australian Dollar', 'Canadian Dollar', 'Swiss Franc', 'Euro',\n",
       "       'British Pound', 'Japanese Yen', 'E-Mini Nasdaq 100',\n",
       "       'E-mini S&P 500', 'E-mini Russell 2000', 'FTSE 100', 'DAX',\n",
       "       'CAC 40', 'IBEX 35', 'AEX', 'Swiss Market Index', 'SPI 200',\n",
       "       'Topix', 'Hang Seng', 'US 2-year Treasury', 'US 5-year Treasury',\n",
       "       'US 10-year Treasury', 'US treasury Bond', 'Germany Schatz',\n",
       "       'Germany Bobl', 'Germany Bund', 'Germany Buxl', 'Gilt',\n",
       "       'Canada 10-year Treasury', 'JGB'], dtype=object)"
      ]
     },
     "execution_count": 2,
     "metadata": {},
     "output_type": "execute_result"
    }
   ],
   "source": [
    "all_futures_baltas2020['name'].values"
   ]
  },
  {
   "cell_type": "code",
   "execution_count": 3,
   "id": "ce9687b3",
   "metadata": {
    "ExecuteTime": {
     "end_time": "2020-08-30T21:08:49.542477Z",
     "start_time": "2020-08-30T21:08:49.530487Z"
    },
    "execution": {
     "iopub.execute_input": "2022-08-28T06:24:35.560580Z",
     "iopub.status.busy": "2022-08-28T06:24:35.559772Z",
     "iopub.status.idle": "2022-08-28T06:24:35.564421Z",
     "shell.execute_reply": "2022-08-28T06:24:35.563661Z"
    },
    "papermill": {
     "duration": 0.060568,
     "end_time": "2022-08-28T06:24:35.567397",
     "exception": false,
     "start_time": "2022-08-28T06:24:35.506829",
     "status": "completed"
    },
    "tags": []
   },
   "outputs": [
    {
     "name": "stdout",
     "output_type": "stream",
     "text": [
      "54\n"
     ]
    }
   ],
   "source": [
    "print(len(all_futures_baltas2020))"
   ]
  },
  {
   "cell_type": "markdown",
   "id": "c995c72a",
   "metadata": {
    "papermill": {
     "duration": 0.01066,
     "end_time": "2022-08-28T06:24:35.592131",
     "exception": false,
     "start_time": "2022-08-28T06:24:35.581471",
     "status": "completed"
    },
    "tags": []
   },
   "source": [
    "We try to use the same contract as the original paper where possible, resulting 54 futures contracts to analyse. The trading universe covers a wide range of asset classes and regions, and is made up of following instruments:\n",
    "- Equity index futures\n",
    "- Government bond futures\n",
    "- FX futures\n",
    "- Commodity futures\n",
    "\n",
    "where the same trend detection method is applied."
   ]
  },
  {
   "cell_type": "markdown",
   "id": "9f591457",
   "metadata": {
    "papermill": {
     "duration": 0.010724,
     "end_time": "2022-08-28T06:24:35.613554",
     "exception": false,
     "start_time": "2022-08-28T06:24:35.602830",
     "status": "completed"
    },
    "tags": []
   },
   "source": [
    "# Performance\n"
   ]
  },
  {
   "cell_type": "markdown",
   "id": "74a9e842",
   "metadata": {
    "papermill": {
     "duration": 0.010709,
     "end_time": "2022-08-28T06:24:35.634904",
     "exception": false,
     "start_time": "2022-08-28T06:24:35.624195",
     "status": "completed"
    },
    "tags": []
   },
   "source": [
    "## Moskowitz et al\n",
    "\n",
    "First we calculate the original trend-following portfolio with a more traditional close-to-close realised volatility estimator. Although Moskowitz et al uses the exponentially weighted standard deviation, BK2020 appears to compare against the rolling standard deviation."
   ]
  },
  {
   "cell_type": "code",
   "execution_count": 4,
   "id": "fe5df5ba",
   "metadata": {
    "execution": {
     "iopub.execute_input": "2022-08-28T06:24:35.658074Z",
     "iopub.status.busy": "2022-08-28T06:24:35.657423Z",
     "iopub.status.idle": "2022-08-28T06:35:52.829651Z",
     "shell.execute_reply": "2022-08-28T06:35:52.828752Z"
    },
    "papermill": {
     "duration": 677.186747,
     "end_time": "2022-08-28T06:35:52.832288",
     "exception": false,
     "start_time": "2022-08-28T06:24:35.645541",
     "status": "completed"
    },
    "tags": []
   },
   "outputs": [],
   "source": [
    "engine_original = BacktestEngine(\n",
    "    strategy=Strategy.DELTA_ONE.value,\n",
    "    instrument=all_futures_baltas2020.index,\n",
    "    signal=signal.ParallelSignal([\n",
    "        signal.VolatilityScale(agg_method='rolling', window=21, ann_factor=261, \n",
    "                               target_volatility=0.4, signal_cap=0.95),\n",
    "        signal.TSMOMMoskowitz2012(post_process=processing.AsFreq(freq='m', method='pad'))\n",
    "    ], weighting='product'),\n",
    "    weighting=Weighting.EQUAL_WEIGHT.value,\n",
    "    log_level=logging.WARN,\n",
    ")\n",
    "engine_original.run()"
   ]
  },
  {
   "cell_type": "code",
   "execution_count": 5,
   "id": "edc2b5fb",
   "metadata": {
    "execution": {
     "iopub.execute_input": "2022-08-28T06:35:52.858705Z",
     "iopub.status.busy": "2022-08-28T06:35:52.857885Z",
     "iopub.status.idle": "2022-08-28T06:37:23.316254Z",
     "shell.execute_reply": "2022-08-28T06:37:23.315503Z"
    },
    "papermill": {
     "duration": 90.471768,
     "end_time": "2022-08-28T06:37:23.318271",
     "exception": false,
     "start_time": "2022-08-28T06:35:52.846503",
     "status": "completed"
    },
    "tags": []
   },
   "outputs": [],
   "source": [
    "engine_original_eq = (engine_original.calculate_equity_curve(calculate_net=False, rebalance_freq='m')\n",
    "                      .rename('Trend-following portfolio (Moskowitz 2012)'))"
   ]
  },
  {
   "cell_type": "code",
   "execution_count": 6,
   "id": "bdd1c2ad",
   "metadata": {
    "execution": {
     "iopub.execute_input": "2022-08-28T06:37:23.342062Z",
     "iopub.status.busy": "2022-08-28T06:37:23.341645Z",
     "iopub.status.idle": "2022-08-28T06:37:24.120250Z",
     "shell.execute_reply": "2022-08-28T06:37:24.119337Z"
    },
    "papermill": {
     "duration": 0.792295,
     "end_time": "2022-08-28T06:37:24.122132",
     "exception": false,
     "start_time": "2022-08-28T06:37:23.329837",
     "status": "completed"
    },
    "tags": []
   },
   "outputs": [
    {
     "data": {
      "image/png": "[encoded data removed]",
      "text/plain": [
       "<Figure size 576x324 with 1 Axes>"
      ]
     },
     "metadata": {
      "needs_background": "light"
     },
     "output_type": "display_data"
    }
   ],
   "source": [
    "fig, ax = plt.subplots(figsize=(8, 4.5))\n",
    "engine_original_eq.plot(ax=ax, logy=True)\n",
    "ax.set_title('Trend-following portfolio (Moskowitz 2012)')\n",
    "ax.set_ylabel('Cumulative returns');"
   ]
  },
  {
   "cell_type": "code",
   "execution_count": 7,
   "id": "beee5669",
   "metadata": {
    "execution": {
     "iopub.execute_input": "2022-08-28T06:37:24.148739Z",
     "iopub.status.busy": "2022-08-28T06:37:24.148273Z",
     "iopub.status.idle": "2022-08-28T06:37:24.256903Z",
     "shell.execute_reply": "2022-08-28T06:37:24.256170Z"
    },
    "papermill": {
     "duration": 0.124714,
     "end_time": "2022-08-28T06:37:24.259060",
     "exception": false,
     "start_time": "2022-08-28T06:37:24.134346",
     "status": "completed"
    },
    "tags": []
   },
   "outputs": [
    {
     "data": {
      "text/html": [
       "<div>\n",
       "<style scoped>\n",
       "    .dataframe tbody tr th:only-of-type {\n",
       "        vertical-align: middle;\n",
       "    }\n",
       "\n",
       "    .dataframe tbody tr th {\n",
       "        vertical-align: top;\n",
       "    }\n",
       "\n",
       "    .dataframe thead th {\n",
       "        text-align: right;\n",
       "    }\n",
       "</style>\n",
       "<table border=\"1\" class=\"dataframe\">\n",
       "  <thead>\n",
       "    <tr style=\"text-align: right;\">\n",
       "      <th></th>\n",
       "      <th>Trend-following portfolio (Moskowitz 2012)</th>\n",
       "    </tr>\n",
       "  </thead>\n",
       "  <tbody>\n",
       "    <tr>\n",
       "      <th>CAGR</th>\n",
       "      <td>0.147960</td>\n",
       "    </tr>\n",
       "    <tr>\n",
       "      <th>Annualised vol</th>\n",
       "      <td>0.124997</td>\n",
       "    </tr>\n",
       "    <tr>\n",
       "      <th>Sharpe ratio</th>\n",
       "      <td>1.183713</td>\n",
       "    </tr>\n",
       "    <tr>\n",
       "      <th>Max drawdown</th>\n",
       "      <td>0.259239</td>\n",
       "    </tr>\n",
       "    <tr>\n",
       "      <th>Calmar ratio</th>\n",
       "      <td>0.570749</td>\n",
       "    </tr>\n",
       "    <tr>\n",
       "      <th>Skewness</th>\n",
       "      <td>0.073521</td>\n",
       "    </tr>\n",
       "    <tr>\n",
       "      <th>Kurtosis</th>\n",
       "      <td>19.320638</td>\n",
       "    </tr>\n",
       "    <tr>\n",
       "      <th>Worst return</th>\n",
       "      <td>-0.126276</td>\n",
       "    </tr>\n",
       "    <tr>\n",
       "      <th>Worst 1d return</th>\n",
       "      <td>-0.126276</td>\n",
       "    </tr>\n",
       "    <tr>\n",
       "      <th>Worst 1w return</th>\n",
       "      <td>-0.107725</td>\n",
       "    </tr>\n",
       "    <tr>\n",
       "      <th>Worst 1m return</th>\n",
       "      <td>-0.152667</td>\n",
       "    </tr>\n",
       "  </tbody>\n",
       "</table>\n",
       "</div>"
      ],
      "text/plain": [
       "                 Trend-following portfolio (Moskowitz 2012)\n",
       "CAGR                                               0.147960\n",
       "Annualised vol                                     0.124997\n",
       "Sharpe ratio                                       1.183713\n",
       "Max drawdown                                       0.259239\n",
       "Calmar ratio                                       0.570749\n",
       "Skewness                                           0.073521\n",
       "Kurtosis                                          19.320638\n",
       "Worst return                                      -0.126276\n",
       "Worst 1d return                                   -0.126276\n",
       "Worst 1w return                                   -0.107725\n",
       "Worst 1m return                                   -0.152667"
      ]
     },
     "execution_count": 7,
     "metadata": {},
     "output_type": "execute_result"
    }
   ],
   "source": [
    "engine_original_eq.pipe(Performance).summary()"
   ]
  },
  {
   "cell_type": "markdown",
   "id": "e9941052",
   "metadata": {
    "papermill": {
     "duration": 0.013228,
     "end_time": "2022-08-28T06:37:24.286017",
     "exception": false,
     "start_time": "2022-08-28T06:37:24.272789",
     "status": "completed"
    },
    "tags": []
   },
   "source": [
    "\n",
    "## Volatility estimator\n",
    "BK2020 proposes a few changes in order to enhance the original trend-following strategy Moskowitz et al reported. The first thing is to use a more sophisticated realised volatility estimators for volatility scaling. Moskowitz used the exponentially weighted standard deviation with close-to-close. On the other hand, BK2020 suggests to use Yang-Zhang estimator as it is much more efficient."
   ]
  },
  {
   "cell_type": "code",
   "execution_count": 8,
   "id": "18338aad",
   "metadata": {
    "ExecuteTime": {
     "end_time": "2020-08-30T21:18:24.661167Z",
     "start_time": "2020-08-30T21:08:49.544232Z"
    },
    "execution": {
     "iopub.execute_input": "2022-08-28T06:37:24.308729Z",
     "iopub.status.busy": "2022-08-28T06:37:24.308465Z",
     "iopub.status.idle": "2022-08-28T06:58:05.971355Z",
     "shell.execute_reply": "2022-08-28T06:58:05.970424Z"
    },
    "papermill": {
     "duration": 1241.676709,
     "end_time": "2022-08-28T06:58:05.973341",
     "exception": false,
     "start_time": "2022-08-28T06:37:24.296632",
     "status": "completed"
    },
    "tags": []
   },
   "outputs": [],
   "source": [
    "engine_vol = BacktestEngine(\n",
    "    strategy=Strategy.DELTA_ONE.value,\n",
    "    instrument=all_futures_baltas2020.index,\n",
    "    signal=signal.ParallelSignal([\n",
    "        signal.VolatilityScale(volatility_type=RealisedVolatility.YZ.value,\n",
    "                               agg_method='rolling', window=21, min_periods=10,\n",
    "                               target_volatility=0.4, signal_cap=0.95, ann_factor=261),\n",
    "        signal.TSMOMMoskowitz2012(post_process=processing.AsFreq(freq='m', method='pad'))\n",
    "    ], weighting='product'),\n",
    "    weighting=Weighting.EQUAL_WEIGHT.value,\n",
    "    log_level=logging.WARN,\n",
    ")\n",
    "engine_vol.run()"
   ]
  },
  {
   "cell_type": "code",
   "execution_count": 9,
   "id": "77c7fa83",
   "metadata": {
    "execution": {
     "iopub.execute_input": "2022-08-28T06:58:05.996056Z",
     "iopub.status.busy": "2022-08-28T06:58:05.995781Z",
     "iopub.status.idle": "2022-08-28T06:59:31.240034Z",
     "shell.execute_reply": "2022-08-28T06:59:31.239152Z"
    },
    "papermill": {
     "duration": 85.258332,
     "end_time": "2022-08-28T06:59:31.242505",
     "exception": false,
     "start_time": "2022-08-28T06:58:05.984173",
     "status": "completed"
    },
    "tags": []
   },
   "outputs": [],
   "source": [
    "engine_vol_eq = (engine_vol.calculate_equity_curve(calculate_net=False, rebalance_freq='m')\n",
    "                 .rename('Trend-following portfolio (YZ estimator)'))"
   ]
  },
  {
   "cell_type": "code",
   "execution_count": 10,
   "id": "c92e4a53",
   "metadata": {
    "execution": {
     "iopub.execute_input": "2022-08-28T06:59:31.275293Z",
     "iopub.status.busy": "2022-08-28T06:59:31.275022Z",
     "iopub.status.idle": "2022-08-28T06:59:31.864025Z",
     "shell.execute_reply": "2022-08-28T06:59:31.863299Z"
    },
    "papermill": {
     "duration": 0.607607,
     "end_time": "2022-08-28T06:59:31.866181",
     "exception": false,
     "start_time": "2022-08-28T06:59:31.258574",
     "status": "completed"
    },
    "tags": []
   },
   "outputs": [
    {
     "data": {
      "image/png": "[encoded data removed]",
      "text/plain": [
       "<Figure size 576x324 with 1 Axes>"
      ]
     },
     "metadata": {
      "needs_background": "light"
     },
     "output_type": "display_data"
    }
   ],
   "source": [
    "fig, ax = plt.subplots(figsize=(8, 4.5))\n",
    "engine_vol_eq.plot(ax=ax, logy=True);\n",
    "ax.set_title('Trend-following portfolio (YZ estimator)')\n",
    "ax.set_ylabel('Cumulative returns');"
   ]
  },
  {
   "cell_type": "code",
   "execution_count": 11,
   "id": "35139c13",
   "metadata": {
    "execution": {
     "iopub.execute_input": "2022-08-28T06:59:31.891473Z",
     "iopub.status.busy": "2022-08-28T06:59:31.891194Z",
     "iopub.status.idle": "2022-08-28T06:59:31.981386Z",
     "shell.execute_reply": "2022-08-28T06:59:31.980645Z"
    },
    "papermill": {
     "duration": 0.104633,
     "end_time": "2022-08-28T06:59:31.983220",
     "exception": false,
     "start_time": "2022-08-28T06:59:31.878587",
     "status": "completed"
    },
    "tags": []
   },
   "outputs": [
    {
     "data": {
      "text/html": [
       "<div>\n",
       "<style scoped>\n",
       "    .dataframe tbody tr th:only-of-type {\n",
       "        vertical-align: middle;\n",
       "    }\n",
       "\n",
       "    .dataframe tbody tr th {\n",
       "        vertical-align: top;\n",
       "    }\n",
       "\n",
       "    .dataframe thead th {\n",
       "        text-align: right;\n",
       "    }\n",
       "</style>\n",
       "<table border=\"1\" class=\"dataframe\">\n",
       "  <thead>\n",
       "    <tr style=\"text-align: right;\">\n",
       "      <th></th>\n",
       "      <th>Trend-following portfolio (YZ estimator)</th>\n",
       "    </tr>\n",
       "  </thead>\n",
       "  <tbody>\n",
       "    <tr>\n",
       "      <th>CAGR</th>\n",
       "      <td>0.149602</td>\n",
       "    </tr>\n",
       "    <tr>\n",
       "      <th>Annualised vol</th>\n",
       "      <td>0.127283</td>\n",
       "    </tr>\n",
       "    <tr>\n",
       "      <th>Sharpe ratio</th>\n",
       "      <td>1.175352</td>\n",
       "    </tr>\n",
       "    <tr>\n",
       "      <th>Max drawdown</th>\n",
       "      <td>0.305877</td>\n",
       "    </tr>\n",
       "    <tr>\n",
       "      <th>Calmar ratio</th>\n",
       "      <td>0.489092</td>\n",
       "    </tr>\n",
       "    <tr>\n",
       "      <th>Skewness</th>\n",
       "      <td>0.280465</td>\n",
       "    </tr>\n",
       "    <tr>\n",
       "      <th>Kurtosis</th>\n",
       "      <td>22.101988</td>\n",
       "    </tr>\n",
       "    <tr>\n",
       "      <th>Worst return</th>\n",
       "      <td>-0.137043</td>\n",
       "    </tr>\n",
       "    <tr>\n",
       "      <th>Worst 1d return</th>\n",
       "      <td>-0.137043</td>\n",
       "    </tr>\n",
       "    <tr>\n",
       "      <th>Worst 1w return</th>\n",
       "      <td>-0.098542</td>\n",
       "    </tr>\n",
       "    <tr>\n",
       "      <th>Worst 1m return</th>\n",
       "      <td>-0.169177</td>\n",
       "    </tr>\n",
       "  </tbody>\n",
       "</table>\n",
       "</div>"
      ],
      "text/plain": [
       "                 Trend-following portfolio (YZ estimator)\n",
       "CAGR                                             0.149602\n",
       "Annualised vol                                   0.127283\n",
       "Sharpe ratio                                     1.175352\n",
       "Max drawdown                                     0.305877\n",
       "Calmar ratio                                     0.489092\n",
       "Skewness                                         0.280465\n",
       "Kurtosis                                        22.101988\n",
       "Worst return                                    -0.137043\n",
       "Worst 1d return                                 -0.137043\n",
       "Worst 1w return                                 -0.098542\n",
       "Worst 1m return                                 -0.169177"
      ]
     },
     "execution_count": 11,
     "metadata": {},
     "output_type": "execute_result"
    }
   ],
   "source": [
    "engine_vol_eq.pipe(Performance).summary()"
   ]
  },
  {
   "cell_type": "markdown",
   "id": "ebb41425",
   "metadata": {
    "papermill": {
     "duration": 0.01136,
     "end_time": "2022-08-28T06:59:32.005946",
     "exception": false,
     "start_time": "2022-08-28T06:59:31.994586",
     "status": "completed"
    },
    "tags": []
   },
   "source": [
    "## TREND signal\n",
    "\n",
    "Another improvement BK2020 proposes is to use a continuous signal rather than a binary one in order to reduce the turnover when signals are weak. Specifically they used the t-values with the Newey-West standard error as the signal. They further capped and floored the signal between -1 and +1 to avoid extreme positions.\n",
    "\n",
    "`statsmodels`'s `OLS` class provides a method to compute the Newey-West standard error. https://www.statsmodels.org/stable/generated/statsmodels.regression.linear_model.OLS.html"
   ]
  },
  {
   "cell_type": "code",
   "execution_count": 12,
   "id": "361f7f5f",
   "metadata": {
    "execution": {
     "iopub.execute_input": "2022-08-28T06:59:32.030308Z",
     "iopub.status.busy": "2022-08-28T06:59:32.029739Z",
     "iopub.status.idle": "2022-08-28T07:17:05.586044Z",
     "shell.execute_reply": "2022-08-28T07:17:05.585314Z"
    },
    "papermill": {
     "duration": 1053.570667,
     "end_time": "2022-08-28T07:17:05.587949",
     "exception": false,
     "start_time": "2022-08-28T06:59:32.017282",
     "status": "completed"
    },
    "tags": []
   },
   "outputs": [],
   "source": [
    "engine_trend = BacktestEngine(\n",
    "    strategy=Strategy.DELTA_ONE.value,\n",
    "    instrument=all_futures_baltas2020.index,\n",
    "    signal=signal.ParallelSignal([\n",
    "        signal.VolatilityScale(agg_method='rolling', window=21, ann_factor=261, \n",
    "                               target_volatility=0.4, signal_cap=0.95),\n",
    "        signal.TSMOMBaltas2020()\n",
    "    ], weighting='product'),\n",
    "    weighting=Weighting.EQUAL_WEIGHT.value,\n",
    "    log_level=logging.WARN,\n",
    ")\n",
    "engine_trend.run()"
   ]
  },
  {
   "cell_type": "code",
   "execution_count": 13,
   "id": "280ef09e",
   "metadata": {
    "execution": {
     "iopub.execute_input": "2022-08-28T07:17:05.612108Z",
     "iopub.status.busy": "2022-08-28T07:17:05.611817Z",
     "iopub.status.idle": "2022-08-28T07:18:31.950986Z",
     "shell.execute_reply": "2022-08-28T07:18:31.950236Z"
    },
    "papermill": {
     "duration": 86.353907,
     "end_time": "2022-08-28T07:18:31.953130",
     "exception": false,
     "start_time": "2022-08-28T07:17:05.599223",
     "status": "completed"
    },
    "tags": []
   },
   "outputs": [],
   "source": [
    "engine_trend_eq = (engine_trend.calculate_equity_curve(calculate_net=False, rebalance_freq='m')\n",
    "                   .rename('Trend-following portfolio (TREND signal)'))"
   ]
  },
  {
   "cell_type": "code",
   "execution_count": 14,
   "id": "bce7d230",
   "metadata": {
    "execution": {
     "iopub.execute_input": "2022-08-28T07:18:31.978544Z",
     "iopub.status.busy": "2022-08-28T07:18:31.977968Z",
     "iopub.status.idle": "2022-08-28T07:18:32.619726Z",
     "shell.execute_reply": "2022-08-28T07:18:32.619073Z"
    },
    "papermill": {
     "duration": 0.656604,
     "end_time": "2022-08-28T07:18:32.622077",
     "exception": false,
     "start_time": "2022-08-28T07:18:31.965473",
     "status": "completed"
    },
    "tags": []
   },
   "outputs": [
    {
     "data": {
      "image/png": "[encoded data removed]",
      "text/plain": [
       "<Figure size 576x324 with 1 Axes>"
      ]
     },
     "metadata": {
      "needs_background": "light"
     },
     "output_type": "display_data"
    }
   ],
   "source": [
    "fig, ax = plt.subplots(figsize=(8, 4.5))\n",
    "engine_trend_eq.plot(ax=ax, logy=True);\n",
    "ax.set_title('Trend-following portfolio (TREND signal)')\n",
    "ax.set_ylabel('Cumulative returns');"
   ]
  },
  {
   "cell_type": "code",
   "execution_count": 15,
   "id": "35090644",
   "metadata": {
    "execution": {
     "iopub.execute_input": "2022-08-28T07:18:32.657880Z",
     "iopub.status.busy": "2022-08-28T07:18:32.657607Z",
     "iopub.status.idle": "2022-08-28T07:18:32.747055Z",
     "shell.execute_reply": "2022-08-28T07:18:32.746315Z"
    },
    "papermill": {
     "duration": 0.110037,
     "end_time": "2022-08-28T07:18:32.749362",
     "exception": false,
     "start_time": "2022-08-28T07:18:32.639325",
     "status": "completed"
    },
    "tags": []
   },
   "outputs": [
    {
     "data": {
      "text/html": [
       "<div>\n",
       "<style scoped>\n",
       "    .dataframe tbody tr th:only-of-type {\n",
       "        vertical-align: middle;\n",
       "    }\n",
       "\n",
       "    .dataframe tbody tr th {\n",
       "        vertical-align: top;\n",
       "    }\n",
       "\n",
       "    .dataframe thead th {\n",
       "        text-align: right;\n",
       "    }\n",
       "</style>\n",
       "<table border=\"1\" class=\"dataframe\">\n",
       "  <thead>\n",
       "    <tr style=\"text-align: right;\">\n",
       "      <th></th>\n",
       "      <th>Trend-following portfolio (TREND signal)</th>\n",
       "    </tr>\n",
       "  </thead>\n",
       "  <tbody>\n",
       "    <tr>\n",
       "      <th>CAGR</th>\n",
       "      <td>0.139868</td>\n",
       "    </tr>\n",
       "    <tr>\n",
       "      <th>Annualised vol</th>\n",
       "      <td>0.107939</td>\n",
       "    </tr>\n",
       "    <tr>\n",
       "      <th>Sharpe ratio</th>\n",
       "      <td>1.295803</td>\n",
       "    </tr>\n",
       "    <tr>\n",
       "      <th>Max drawdown</th>\n",
       "      <td>0.294584</td>\n",
       "    </tr>\n",
       "    <tr>\n",
       "      <th>Calmar ratio</th>\n",
       "      <td>0.474797</td>\n",
       "    </tr>\n",
       "    <tr>\n",
       "      <th>Skewness</th>\n",
       "      <td>0.158837</td>\n",
       "    </tr>\n",
       "    <tr>\n",
       "      <th>Kurtosis</th>\n",
       "      <td>27.990986</td>\n",
       "    </tr>\n",
       "    <tr>\n",
       "      <th>Worst return</th>\n",
       "      <td>-0.121269</td>\n",
       "    </tr>\n",
       "    <tr>\n",
       "      <th>Worst 1d return</th>\n",
       "      <td>-0.121269</td>\n",
       "    </tr>\n",
       "    <tr>\n",
       "      <th>Worst 1w return</th>\n",
       "      <td>-0.110077</td>\n",
       "    </tr>\n",
       "    <tr>\n",
       "      <th>Worst 1m return</th>\n",
       "      <td>-0.171789</td>\n",
       "    </tr>\n",
       "  </tbody>\n",
       "</table>\n",
       "</div>"
      ],
      "text/plain": [
       "                 Trend-following portfolio (TREND signal)\n",
       "CAGR                                             0.139868\n",
       "Annualised vol                                   0.107939\n",
       "Sharpe ratio                                     1.295803\n",
       "Max drawdown                                     0.294584\n",
       "Calmar ratio                                     0.474797\n",
       "Skewness                                         0.158837\n",
       "Kurtosis                                        27.990986\n",
       "Worst return                                    -0.121269\n",
       "Worst 1d return                                 -0.121269\n",
       "Worst 1w return                                 -0.110077\n",
       "Worst 1m return                                 -0.171789"
      ]
     },
     "execution_count": 15,
     "metadata": {},
     "output_type": "execute_result"
    }
   ],
   "source": [
    "engine_trend_eq.pipe(Performance).summary()"
   ]
  },
  {
   "cell_type": "markdown",
   "id": "7a4ba141",
   "metadata": {
    "papermill": {
     "duration": 0.017524,
     "end_time": "2022-08-28T07:18:32.784330",
     "exception": false,
     "start_time": "2022-08-28T07:18:32.766806",
     "status": "completed"
    },
    "tags": []
   },
   "source": [
    "## Combined\n",
    "\n",
    "Finally we run a backtest by using both the Yang-Zhang volatility estimator and the TREND signal."
   ]
  },
  {
   "cell_type": "code",
   "execution_count": 16,
   "id": "c87dd9e8",
   "metadata": {
    "execution": {
     "iopub.execute_input": "2022-08-28T07:18:32.821244Z",
     "iopub.status.busy": "2022-08-28T07:18:32.820935Z",
     "iopub.status.idle": "2022-08-28T07:44:17.079650Z",
     "shell.execute_reply": "2022-08-28T07:44:17.076340Z"
    },
    "papermill": {
     "duration": 1544.279459,
     "end_time": "2022-08-28T07:44:17.081663",
     "exception": false,
     "start_time": "2022-08-28T07:18:32.802204",
     "status": "completed"
    },
    "tags": []
   },
   "outputs": [],
   "source": [
    "engine_combined = BacktestEngine(\n",
    "    strategy=Strategy.DELTA_ONE.value,\n",
    "    instrument=all_futures_baltas2020.index,\n",
    "    signal=signal.ParallelSignal([\n",
    "        signal.VolatilityScale(volatility_type=RealisedVolatility.YZ.value,\n",
    "                               agg_method='rolling', window=21, min_periods=10,\n",
    "                               target_volatility=0.4, signal_cap=0.95, ann_factor=261),\n",
    "        signal.TSMOMBaltas2020()\n",
    "    ], weighting='product'),\n",
    "    weighting=Weighting.EQUAL_WEIGHT.value,\n",
    "    log_level=logging.WARN,\n",
    ")\n",
    "engine_combined.run()"
   ]
  },
  {
   "cell_type": "code",
   "execution_count": 17,
   "id": "1b2a6f7f",
   "metadata": {
    "execution": {
     "iopub.execute_input": "2022-08-28T07:44:17.106114Z",
     "iopub.status.busy": "2022-08-28T07:44:17.105855Z",
     "iopub.status.idle": "2022-08-28T07:45:35.918640Z",
     "shell.execute_reply": "2022-08-28T07:45:35.917907Z"
    },
    "papermill": {
     "duration": 78.827064,
     "end_time": "2022-08-28T07:45:35.920432",
     "exception": false,
     "start_time": "2022-08-28T07:44:17.093368",
     "status": "completed"
    },
    "tags": []
   },
   "outputs": [],
   "source": [
    "engine_combined_eq = (engine_combined.calculate_equity_curve(calculate_net=False, rebalance_freq='m')\n",
    "                      .rename('Trend-following portfolio (YZ estimator + TREND signal)'))"
   ]
  },
  {
   "cell_type": "code",
   "execution_count": 18,
   "id": "76fe80fb",
   "metadata": {
    "execution": {
     "iopub.execute_input": "2022-08-28T07:45:35.944045Z",
     "iopub.status.busy": "2022-08-28T07:45:35.943814Z",
     "iopub.status.idle": "2022-08-28T07:45:36.470311Z",
     "shell.execute_reply": "2022-08-28T07:45:36.469644Z"
    },
    "papermill": {
     "duration": 0.540041,
     "end_time": "2022-08-28T07:45:36.471887",
     "exception": false,
     "start_time": "2022-08-28T07:45:35.931846",
     "status": "completed"
    },
    "tags": []
   },
   "outputs": [
    {
     "data": {
      "image/png": "[encoded data removed]",
      "text/plain": [
       "<Figure size 576x324 with 1 Axes>"
      ]
     },
     "metadata": {
      "needs_background": "light"
     },
     "output_type": "display_data"
    }
   ],
   "source": [
    "fig, ax = plt.subplots(figsize=(8, 4.5))\n",
    "engine_combined_eq.plot(ax=ax, logy=True)\n",
    "ax.set_title('Trend-following portfolio (YZ estimator + TREND signal)')\n",
    "ax.set_ylabel('Cumulative returns');"
   ]
  },
  {
   "cell_type": "code",
   "execution_count": 19,
   "id": "c62d2852",
   "metadata": {
    "execution": {
     "iopub.execute_input": "2022-08-28T07:45:36.521421Z",
     "iopub.status.busy": "2022-08-28T07:45:36.521171Z",
     "iopub.status.idle": "2022-08-28T07:45:36.598470Z",
     "shell.execute_reply": "2022-08-28T07:45:36.597822Z"
    },
    "papermill": {
     "duration": 0.116354,
     "end_time": "2022-08-28T07:45:36.600055",
     "exception": false,
     "start_time": "2022-08-28T07:45:36.483701",
     "status": "completed"
    },
    "tags": []
   },
   "outputs": [
    {
     "data": {
      "text/html": [
       "<div>\n",
       "<style scoped>\n",
       "    .dataframe tbody tr th:only-of-type {\n",
       "        vertical-align: middle;\n",
       "    }\n",
       "\n",
       "    .dataframe tbody tr th {\n",
       "        vertical-align: top;\n",
       "    }\n",
       "\n",
       "    .dataframe thead th {\n",
       "        text-align: right;\n",
       "    }\n",
       "</style>\n",
       "<table border=\"1\" class=\"dataframe\">\n",
       "  <thead>\n",
       "    <tr style=\"text-align: right;\">\n",
       "      <th></th>\n",
       "      <th>Trend-following portfolio (YZ estimator + TREND signal)</th>\n",
       "    </tr>\n",
       "  </thead>\n",
       "  <tbody>\n",
       "    <tr>\n",
       "      <th>CAGR</th>\n",
       "      <td>0.140319</td>\n",
       "    </tr>\n",
       "    <tr>\n",
       "      <th>Annualised vol</th>\n",
       "      <td>0.110672</td>\n",
       "    </tr>\n",
       "    <tr>\n",
       "      <th>Sharpe ratio</th>\n",
       "      <td>1.267876</td>\n",
       "    </tr>\n",
       "    <tr>\n",
       "      <th>Max drawdown</th>\n",
       "      <td>0.313945</td>\n",
       "    </tr>\n",
       "    <tr>\n",
       "      <th>Calmar ratio</th>\n",
       "      <td>0.446953</td>\n",
       "    </tr>\n",
       "    <tr>\n",
       "      <th>Skewness</th>\n",
       "      <td>0.292293</td>\n",
       "    </tr>\n",
       "    <tr>\n",
       "      <th>Kurtosis</th>\n",
       "      <td>32.511163</td>\n",
       "    </tr>\n",
       "    <tr>\n",
       "      <th>Worst return</th>\n",
       "      <td>-0.130152</td>\n",
       "    </tr>\n",
       "    <tr>\n",
       "      <th>Worst 1d return</th>\n",
       "      <td>-0.130152</td>\n",
       "    </tr>\n",
       "    <tr>\n",
       "      <th>Worst 1w return</th>\n",
       "      <td>-0.112097</td>\n",
       "    </tr>\n",
       "    <tr>\n",
       "      <th>Worst 1m return</th>\n",
       "      <td>-0.186272</td>\n",
       "    </tr>\n",
       "  </tbody>\n",
       "</table>\n",
       "</div>"
      ],
      "text/plain": [
       "                 Trend-following portfolio (YZ estimator + TREND signal)\n",
       "CAGR                                                      0.140319      \n",
       "Annualised vol                                            0.110672      \n",
       "Sharpe ratio                                              1.267876      \n",
       "Max drawdown                                              0.313945      \n",
       "Calmar ratio                                              0.446953      \n",
       "Skewness                                                  0.292293      \n",
       "Kurtosis                                                 32.511163      \n",
       "Worst return                                             -0.130152      \n",
       "Worst 1d return                                          -0.130152      \n",
       "Worst 1w return                                          -0.112097      \n",
       "Worst 1m return                                          -0.186272      "
      ]
     },
     "execution_count": 19,
     "metadata": {},
     "output_type": "execute_result"
    }
   ],
   "source": [
    "engine_combined_eq.pipe(Performance).summary()"
   ]
  },
  {
   "cell_type": "markdown",
   "id": "4b29574b",
   "metadata": {
    "papermill": {
     "duration": 0.011645,
     "end_time": "2022-08-28T07:45:36.623600",
     "exception": false,
     "start_time": "2022-08-28T07:45:36.611955",
     "status": "completed"
    },
    "tags": []
   },
   "source": [
    "# Comparison\n",
    "\n",
    "In this section we compare the above 4 backtests."
   ]
  },
  {
   "cell_type": "markdown",
   "id": "c8a6ca43",
   "metadata": {
    "papermill": {
     "duration": 0.011862,
     "end_time": "2022-08-28T07:45:36.647124",
     "exception": false,
     "start_time": "2022-08-28T07:45:36.635262",
     "status": "completed"
    },
    "tags": []
   },
   "source": [
    "## Performance\n",
    "\n",
    "As reported in BK2020, using the YZ estimator and TREND signal does not alter the performance characteristics. Rather, the TREND signal somewhat improves the Sharpe ratio. Also the TREND signal lowers the annualised volatility from 12.5% to 10.8% with the close-to-close realised volatility."
   ]
  },
  {
   "cell_type": "code",
   "execution_count": 20,
   "id": "bfc2103f",
   "metadata": {
    "execution": {
     "iopub.execute_input": "2022-08-28T07:45:36.671583Z",
     "iopub.status.busy": "2022-08-28T07:45:36.671330Z",
     "iopub.status.idle": "2022-08-28T07:45:36.683752Z",
     "shell.execute_reply": "2022-08-28T07:45:36.683121Z"
    },
    "papermill": {
     "duration": 0.026633,
     "end_time": "2022-08-28T07:45:36.685407",
     "exception": false,
     "start_time": "2022-08-28T07:45:36.658774",
     "status": "completed"
    },
    "tags": []
   },
   "outputs": [],
   "source": [
    "performance_comp = pd.concat((engine_original_eq, engine_vol_eq, \n",
    "                              engine_trend_eq, engine_combined_eq), axis=1)"
   ]
  },
  {
   "cell_type": "code",
   "execution_count": 21,
   "id": "1141b5cd",
   "metadata": {
    "execution": {
     "iopub.execute_input": "2022-08-28T07:45:36.709995Z",
     "iopub.status.busy": "2022-08-28T07:45:36.709743Z",
     "iopub.status.idle": "2022-08-28T07:45:37.349774Z",
     "shell.execute_reply": "2022-08-28T07:45:37.349078Z"
    },
    "papermill": {
     "duration": 0.654187,
     "end_time": "2022-08-28T07:45:37.351360",
     "exception": false,
     "start_time": "2022-08-28T07:45:36.697173",
     "status": "completed"
    },
    "tags": []
   },
   "outputs": [
    {
     "data": {
      "image/png": "[encoded data removed]",
      "text/plain": [
       "<Figure size 576x324 with 1 Axes>"
      ]
     },
     "metadata": {
      "needs_background": "light"
     },
     "output_type": "display_data"
    }
   ],
   "source": [
    "fig, ax = plt.subplots(figsize=(8, 4.5))\n",
    "performance_comp.plot(ax=ax, logy=True);\n",
    "ax.set_title('Trend-following portfolio')\n",
    "ax.set_ylabel('Cumulative returns');"
   ]
  },
  {
   "cell_type": "code",
   "execution_count": 22,
   "id": "6beb29f1",
   "metadata": {
    "execution": {
     "iopub.execute_input": "2022-08-28T07:45:37.371291Z",
     "iopub.status.busy": "2022-08-28T07:45:37.371112Z",
     "iopub.status.idle": "2022-08-28T07:45:37.458316Z",
     "shell.execute_reply": "2022-08-28T07:45:37.457602Z"
    },
    "papermill": {
     "duration": 0.098566,
     "end_time": "2022-08-28T07:45:37.459898",
     "exception": false,
     "start_time": "2022-08-28T07:45:37.361332",
     "status": "completed"
    },
    "tags": []
   },
   "outputs": [
    {
     "data": {
      "text/html": [
       "<div>\n",
       "<style scoped>\n",
       "    .dataframe tbody tr th:only-of-type {\n",
       "        vertical-align: middle;\n",
       "    }\n",
       "\n",
       "    .dataframe tbody tr th {\n",
       "        vertical-align: top;\n",
       "    }\n",
       "\n",
       "    .dataframe thead th {\n",
       "        text-align: right;\n",
       "    }\n",
       "</style>\n",
       "<table border=\"1\" class=\"dataframe\">\n",
       "  <thead>\n",
       "    <tr style=\"text-align: right;\">\n",
       "      <th></th>\n",
       "      <th>Trend-following portfolio (Moskowitz 2012)</th>\n",
       "      <th>Trend-following portfolio (YZ estimator)</th>\n",
       "      <th>Trend-following portfolio (TREND signal)</th>\n",
       "      <th>Trend-following portfolio (YZ estimator + TREND signal)</th>\n",
       "    </tr>\n",
       "  </thead>\n",
       "  <tbody>\n",
       "    <tr>\n",
       "      <th>CAGR</th>\n",
       "      <td>0.147960</td>\n",
       "      <td>0.149234</td>\n",
       "      <td>0.139868</td>\n",
       "      <td>0.139974</td>\n",
       "    </tr>\n",
       "    <tr>\n",
       "      <th>Annualised vol</th>\n",
       "      <td>0.124997</td>\n",
       "      <td>0.127127</td>\n",
       "      <td>0.107939</td>\n",
       "      <td>0.110537</td>\n",
       "    </tr>\n",
       "    <tr>\n",
       "      <th>Sharpe ratio</th>\n",
       "      <td>1.183713</td>\n",
       "      <td>1.173898</td>\n",
       "      <td>1.295803</td>\n",
       "      <td>1.266307</td>\n",
       "    </tr>\n",
       "    <tr>\n",
       "      <th>Max drawdown</th>\n",
       "      <td>0.259239</td>\n",
       "      <td>0.305877</td>\n",
       "      <td>0.294584</td>\n",
       "      <td>0.313945</td>\n",
       "    </tr>\n",
       "    <tr>\n",
       "      <th>Calmar ratio</th>\n",
       "      <td>0.570749</td>\n",
       "      <td>0.487890</td>\n",
       "      <td>0.474797</td>\n",
       "      <td>0.445855</td>\n",
       "    </tr>\n",
       "    <tr>\n",
       "      <th>Skewness</th>\n",
       "      <td>0.073521</td>\n",
       "      <td>0.281378</td>\n",
       "      <td>0.158837</td>\n",
       "      <td>0.293259</td>\n",
       "    </tr>\n",
       "    <tr>\n",
       "      <th>Kurtosis</th>\n",
       "      <td>19.320638</td>\n",
       "      <td>22.163243</td>\n",
       "      <td>27.990986</td>\n",
       "      <td>32.597603</td>\n",
       "    </tr>\n",
       "    <tr>\n",
       "      <th>Worst return</th>\n",
       "      <td>-0.126276</td>\n",
       "      <td>-0.137043</td>\n",
       "      <td>-0.121269</td>\n",
       "      <td>-0.130152</td>\n",
       "    </tr>\n",
       "    <tr>\n",
       "      <th>Worst 1d return</th>\n",
       "      <td>-0.126276</td>\n",
       "      <td>-0.137043</td>\n",
       "      <td>-0.121269</td>\n",
       "      <td>-0.130152</td>\n",
       "    </tr>\n",
       "    <tr>\n",
       "      <th>Worst 1w return</th>\n",
       "      <td>-0.107725</td>\n",
       "      <td>-0.098542</td>\n",
       "      <td>-0.110077</td>\n",
       "      <td>-0.112097</td>\n",
       "    </tr>\n",
       "    <tr>\n",
       "      <th>Worst 1m return</th>\n",
       "      <td>-0.152667</td>\n",
       "      <td>-0.169177</td>\n",
       "      <td>-0.171789</td>\n",
       "      <td>-0.186272</td>\n",
       "    </tr>\n",
       "  </tbody>\n",
       "</table>\n",
       "</div>"
      ],
      "text/plain": [
       "                 Trend-following portfolio (Moskowitz 2012)  \\\n",
       "CAGR                                               0.147960   \n",
       "Annualised vol                                     0.124997   \n",
       "Sharpe ratio                                       1.183713   \n",
       "Max drawdown                                       0.259239   \n",
       "Calmar ratio                                       0.570749   \n",
       "Skewness                                           0.073521   \n",
       "Kurtosis                                          19.320638   \n",
       "Worst return                                      -0.126276   \n",
       "Worst 1d return                                   -0.126276   \n",
       "Worst 1w return                                   -0.107725   \n",
       "Worst 1m return                                   -0.152667   \n",
       "\n",
       "                 Trend-following portfolio (YZ estimator)  \\\n",
       "CAGR                                             0.149234   \n",
       "Annualised vol                                   0.127127   \n",
       "Sharpe ratio                                     1.173898   \n",
       "Max drawdown                                     0.305877   \n",
       "Calmar ratio                                     0.487890   \n",
       "Skewness                                         0.281378   \n",
       "Kurtosis                                        22.163243   \n",
       "Worst return                                    -0.137043   \n",
       "Worst 1d return                                 -0.137043   \n",
       "Worst 1w return                                 -0.098542   \n",
       "Worst 1m return                                 -0.169177   \n",
       "\n",
       "                 Trend-following portfolio (TREND signal)  \\\n",
       "CAGR                                             0.139868   \n",
       "Annualised vol                                   0.107939   \n",
       "Sharpe ratio                                     1.295803   \n",
       "Max drawdown                                     0.294584   \n",
       "Calmar ratio                                     0.474797   \n",
       "Skewness                                         0.158837   \n",
       "Kurtosis                                        27.990986   \n",
       "Worst return                                    -0.121269   \n",
       "Worst 1d return                                 -0.121269   \n",
       "Worst 1w return                                 -0.110077   \n",
       "Worst 1m return                                 -0.171789   \n",
       "\n",
       "                 Trend-following portfolio (YZ estimator + TREND signal)  \n",
       "CAGR                                                      0.139974        \n",
       "Annualised vol                                            0.110537        \n",
       "Sharpe ratio                                              1.266307        \n",
       "Max drawdown                                              0.313945        \n",
       "Calmar ratio                                              0.445855        \n",
       "Skewness                                                  0.293259        \n",
       "Kurtosis                                                 32.597603        \n",
       "Worst return                                             -0.130152        \n",
       "Worst 1d return                                          -0.130152        \n",
       "Worst 1w return                                          -0.112097        \n",
       "Worst 1m return                                          -0.186272        "
      ]
     },
     "execution_count": 22,
     "metadata": {},
     "output_type": "execute_result"
    }
   ],
   "source": [
    "performance_comp.pipe(Performance).summary()"
   ]
  },
  {
   "cell_type": "markdown",
   "id": "49f1a8c3",
   "metadata": {
    "papermill": {
     "duration": 0.01244,
     "end_time": "2022-08-28T07:45:37.485016",
     "exception": false,
     "start_time": "2022-08-28T07:45:37.472576",
     "status": "completed"
    },
    "tags": []
   },
   "source": [
    "## Turnover reduction\n",
    "\n",
    "Again, as reported in BK2020, both enhancements reduce the turnover significantly while not affecting the performance. The chart below shows the reduction in turnover for each futures contract. By utilising the YZ realised volatility and the TREND signal, overall the turnover is reduced by more than 30%."
   ]
  },
  {
   "cell_type": "code",
   "execution_count": 23,
   "id": "724ad8b9",
   "metadata": {
    "execution": {
     "iopub.execute_input": "2022-08-28T07:45:37.510899Z",
     "iopub.status.busy": "2022-08-28T07:45:37.510656Z",
     "iopub.status.idle": "2022-08-28T07:50:35.586869Z",
     "shell.execute_reply": "2022-08-28T07:50:35.586304Z"
    },
    "papermill": {
     "duration": 298.091321,
     "end_time": "2022-08-28T07:50:35.588688",
     "exception": false,
     "start_time": "2022-08-28T07:45:37.497367",
     "status": "completed"
    },
    "tags": []
   },
   "outputs": [],
   "source": [
    "engine_original_pos = engine_original.get_position_by_instrument()\n",
    "engine_vol_pos = engine_vol.get_position_by_instrument()\n",
    "engine_trend_pos = engine_trend.get_position_by_instrument()\n",
    "engine_combined_pos = engine_combined.get_position_by_instrument()"
   ]
  },
  {
   "cell_type": "code",
   "execution_count": 24,
   "id": "47062284",
   "metadata": {
    "execution": {
     "iopub.execute_input": "2022-08-28T07:50:35.609426Z",
     "iopub.status.busy": "2022-08-28T07:50:35.609155Z",
     "iopub.status.idle": "2022-08-28T07:50:35.634944Z",
     "shell.execute_reply": "2022-08-28T07:50:35.634197Z"
    },
    "papermill": {
     "duration": 0.037524,
     "end_time": "2022-08-28T07:50:35.636653",
     "exception": false,
     "start_time": "2022-08-28T07:50:35.599129",
     "status": "completed"
    },
    "tags": []
   },
   "outputs": [],
   "source": [
    "engine_original_turnover = (engine_original_pos.diff().abs().mean().mul(261)\n",
    "                            .rename('Trend-following portfolio (Moskowitz 2012)'))\n",
    "engine_vol_turnover = (engine_vol_pos.diff().abs().mean().mul(261)\n",
    "                       .rename('Trend-following portfolio (YZ estimator)'))\n",
    "engine_trend_turnover = (engine_trend_pos.diff().abs().mean().mul(261)\n",
    "                         .rename('Trend-following portfolio (TREND signal)'))\n",
    "engine_combined_turnover = (engine_combined_pos.diff().abs().mean().mul(261)\n",
    "                            .rename('Trend-following portfolio (YZ estimator + TREND signal)'))"
   ]
  },
  {
   "cell_type": "code",
   "execution_count": 25,
   "id": "4a89babf",
   "metadata": {
    "execution": {
     "iopub.execute_input": "2022-08-28T07:50:35.659506Z",
     "iopub.status.busy": "2022-08-28T07:50:35.659275Z",
     "iopub.status.idle": "2022-08-28T07:50:35.665128Z",
     "shell.execute_reply": "2022-08-28T07:50:35.664542Z"
    },
    "papermill": {
     "duration": 0.017922,
     "end_time": "2022-08-28T07:50:35.666702",
     "exception": false,
     "start_time": "2022-08-28T07:50:35.648780",
     "status": "completed"
    },
    "tags": []
   },
   "outputs": [],
   "source": [
    "turnover_reduction = (\n",
    "    pd.concat((engine_vol_turnover, engine_trend_turnover, engine_combined_turnover), axis=1)\n",
    "    .div(engine_original_turnover, axis=0)\n",
    "    .sub(1)\n",
    "    .reindex(index=all_futures_baltas2020.index)\n",
    "    .rename(index=all_futures_baltas2020['name'])\n",
    ")"
   ]
  },
  {
   "cell_type": "code",
   "execution_count": 26,
   "id": "44c73c51",
   "metadata": {
    "execution": {
     "iopub.execute_input": "2022-08-28T07:50:35.690823Z",
     "iopub.status.busy": "2022-08-28T07:50:35.690592Z",
     "iopub.status.idle": "2022-08-28T07:50:35.696242Z",
     "shell.execute_reply": "2022-08-28T07:50:35.695668Z"
    },
    "papermill": {
     "duration": 0.019398,
     "end_time": "2022-08-28T07:50:35.697784",
     "exception": false,
     "start_time": "2022-08-28T07:50:35.678386",
     "status": "completed"
    },
    "tags": []
   },
   "outputs": [
    {
     "data": {
      "text/plain": [
       "Trend-following portfolio (YZ estimator)                  -0.181320\n",
       "Trend-following portfolio (TREND signal)                  -0.207458\n",
       "Trend-following portfolio (YZ estimator + TREND signal)   -0.330933\n",
       "dtype: float64"
      ]
     },
     "execution_count": 26,
     "metadata": {},
     "output_type": "execute_result"
    }
   ],
   "source": [
    "turnover_reduction.mean()"
   ]
  },
  {
   "cell_type": "code",
   "execution_count": 27,
   "id": "dbf58da4",
   "metadata": {
    "execution": {
     "iopub.execute_input": "2022-08-28T07:50:35.724639Z",
     "iopub.status.busy": "2022-08-28T07:50:35.724396Z",
     "iopub.status.idle": "2022-08-28T07:50:37.046193Z",
     "shell.execute_reply": "2022-08-28T07:50:37.045397Z"
    },
    "papermill": {
     "duration": 1.337517,
     "end_time": "2022-08-28T07:50:37.047982",
     "exception": false,
     "start_time": "2022-08-28T07:50:35.710465",
     "status": "completed"
    },
    "tags": []
   },
   "outputs": [
    {
     "data": {
      "image/png": "[encoded data removed]",
      "text/plain": [
       "<Figure size 1008x288 with 1 Axes>"
      ]
     },
     "metadata": {
      "needs_background": "light"
     },
     "output_type": "display_data"
    }
   ],
   "source": [
    "ax = turnover_reduction.plot(kind='bar', figsize=(14, 4))\n",
    "ax.yaxis.set_major_formatter(mticker.PercentFormatter(1))\n",
    "ax.axhline(0, color='black', lw=1)\n",
    "ax.axvline(24.5, color='black', lw=1)\n",
    "ax.axvline(30.5, color='black', lw=1)\n",
    "ax.axvline(42.5, color='black', lw=1)\n",
    "ax.set_xlabel('Contract')\n",
    "ax.set_ylabel('Turnover reduction');"
   ]
  },
  {
   "cell_type": "markdown",
   "id": "e3c66ba8",
   "metadata": {
    "papermill": {
     "duration": 0.013468,
     "end_time": "2022-08-28T07:50:37.074918",
     "exception": false,
     "start_time": "2022-08-28T07:50:37.061450",
     "status": "completed"
    },
    "tags": []
   },
   "source": [
    "# Recent performance"
   ]
  },
  {
   "cell_type": "code",
   "execution_count": 28,
   "id": "11cb608b",
   "metadata": {
    "execution": {
     "iopub.execute_input": "2022-08-28T07:50:37.102760Z",
     "iopub.status.busy": "2022-08-28T07:50:37.102500Z",
     "iopub.status.idle": "2022-08-28T07:50:37.544610Z",
     "shell.execute_reply": "2022-08-28T07:50:37.543786Z"
    },
    "papermill": {
     "duration": 0.458092,
     "end_time": "2022-08-28T07:50:37.546395",
     "exception": false,
     "start_time": "2022-08-28T07:50:37.088303",
     "status": "completed"
    },
    "tags": []
   },
   "outputs": [
    {
     "data": {
      "image/png": "[encoded data removed]",
      "text/plain": [
       "<Figure size 576x324 with 1 Axes>"
      ]
     },
     "metadata": {
      "needs_background": "light"
     },
     "output_type": "display_data"
    }
   ],
   "source": [
    "fig, ax = plt.subplots(figsize=(8, 4.5))\n",
    "performance_comp.tail(252 * 2).pct_change().fillna(0).add(1).cumprod().plot(ax=ax, logy=True);\n",
    "ax.set_title('Trend-following portfolio')\n",
    "ax.set_ylabel('Cumulative returns');"
   ]
  },
  {
   "cell_type": "markdown",
   "id": "92e9ef6b",
   "metadata": {
    "papermill": {
     "duration": 0.014492,
     "end_time": "2022-08-28T07:50:37.575270",
     "exception": false,
     "start_time": "2022-08-28T07:50:37.560778",
     "status": "completed"
    },
    "tags": []
   },
   "source": [
    "# Reference\n",
    "\n",
    "- Baltas, N. and Kosowski, R., 2020. Demystifying time-series momentum strategies: Volatility estimators, trading rules and pairwise correlations. Market Momentum: Theory and Practice\", Wiley.\n",
    "- Moskowitz, T.J., Ooi, Y.H. and Pedersen, L.H., 2012. Time series momentum. Journal of financial economics, 104(2), pp.228-250."
   ]
  },
  {
   "cell_type": "code",
   "execution_count": 29,
   "id": "726aa9c6",
   "metadata": {
    "ExecuteTime": {
     "end_time": "2020-08-30T21:20:32.431574Z",
     "start_time": "2020-08-30T21:20:32.429370Z"
    },
    "execution": {
     "iopub.execute_input": "2022-08-28T07:50:37.605571Z",
     "iopub.status.busy": "2022-08-28T07:50:37.604998Z",
     "iopub.status.idle": "2022-08-28T07:50:37.609114Z",
     "shell.execute_reply": "2022-08-28T07:50:37.608399Z"
    },
    "papermill": {
     "duration": 0.021106,
     "end_time": "2022-08-28T07:50:37.610861",
     "exception": false,
     "start_time": "2022-08-28T07:50:37.589755",
     "status": "completed"
    },
    "tags": []
   },
   "outputs": [
    {
     "name": "stdout",
     "output_type": "stream",
     "text": [
      "Updated: 28-Aug-2022 07:50\n"
     ]
    }
   ],
   "source": [
    "print(f'Updated: {datetime.utcnow():%d-%b-%Y %H:%M}')"
   ]
  }
 ],
 "metadata": {
  "hide_input": false,
  "kernelspec": {
   "display_name": "Python 3",
   "language": "python",
   "name": "python3"
  },
  "language_info": {
   "codemirror_mode": {
    "name": "ipython",
    "version": 3
   },
   "file_extension": ".py",
   "mimetype": "text/x-python",
   "name": "python",
   "nbconvert_exporter": "python",
   "pygments_lexer": "ipython3",
   "version": "3.9.6"
  },
  "nav_menu": {},
  "papermill": {
   "duration": 5170.599657,
   "end_time": "2022-08-28T07:50:40.550828",
   "environment_variables": {},
   "exception": null,
   "input_path": "notebooks/papermill/trend_following_baltas2020.ipynb",
   "output_path": "notebooks/trend_following_baltas2020.ipynb",
   "parameters": {},
   "start_time": "2022-08-28T06:24:29.951171",
   "version": "2.1.3"
  },
  "toc": {
   "base_numbering": 1,
   "nav_menu": {},
   "number_sections": true,
   "sideBar": true,
   "skip_h1_title": false,
   "title_cell": "Table of Contents",
   "title_sidebar": "Contents",
   "toc_cell": true,
   "toc_position": {
    "height": "calc(100% - 180px)",
    "left": "10px",
    "top": "150px",
    "width": "165px"
   },
   "toc_section_display": "block",
   "toc_window_display": true
  }
 },
 "nbformat": 4,
 "nbformat_minor": 5
}