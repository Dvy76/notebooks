{
 "cells": [
  {
   "cell_type": "markdown",
   "id": "ff74268d",
   "metadata": {
    "papermill": {
     "duration": 0.018617,
     "end_time": "2022-08-17T06:27:13.434135",
     "exception": false,
     "start_time": "2022-08-17T06:27:13.415518",
     "status": "completed"
    },
    "tags": []
   },
   "source": [
    "# Trend-following\n",
    "\n",
    "This notebook implements a few improvements that Baltas and Kosowski (2020) (BK2020, hereafter) propose to the time-series momentum strategy which originally appeared in Moskowitz et al (2012).\n",
    "\n",
    "Note that like other notebooks, all backtests are performed by using a private library called `vivace`."
   ]
  },
  {
   "cell_type": "code",
   "execution_count": 1,
   "id": "e3f9ec53",
   "metadata": {
    "ExecuteTime": {
     "end_time": "2020-08-30T21:08:49.524262Z",
     "start_time": "2020-08-30T21:08:48.720115Z"
    },
    "execution": {
     "iopub.execute_input": "2022-08-17T06:27:13.472227Z",
     "iopub.status.busy": "2022-08-17T06:27:13.471731Z",
     "iopub.status.idle": "2022-08-17T06:27:17.817404Z",
     "shell.execute_reply": "2022-08-17T06:27:17.816347Z"
    },
    "papermill": {
     "duration": 4.368033,
     "end_time": "2022-08-17T06:27:17.819760",
     "exception": false,
     "start_time": "2022-08-17T06:27:13.451727",
     "status": "completed"
    },
    "tags": []
   },
   "outputs": [],
   "source": [
    "%matplotlib inline\n",
    "from datetime import datetime\n",
    "import logging\n",
    "import warnings\n",
    "warnings.simplefilter(action='ignore', category=FutureWarning)\n",
    "\n",
    "import pandas as pd\n",
    "import matplotlib.pyplot as plt\n",
    "import matplotlib.ticker as mticker\n",
    "plt.style.use('bmh')\n",
    "\n",
    "from vivace.backtest import signal\n",
    "from vivace.backtest import processing\n",
    "from vivace.backtest.contract import all_futures_baltas2020\n",
    "from vivace.backtest.engine import BacktestEngine\n",
    "from vivace.backtest.enums import Strategy, Weighting, RealisedVolatility\n",
    "from vivace.backtest.stats import Performance"
   ]
  },
  {
   "cell_type": "markdown",
   "id": "80d1ad7e",
   "metadata": {
    "papermill": {
     "duration": 0.012516,
     "end_time": "2022-08-17T06:27:17.843537",
     "exception": false,
     "start_time": "2022-08-17T06:27:17.831021",
     "status": "completed"
    },
    "tags": []
   },
   "source": [
    "# Data"
   ]
  },
  {
   "cell_type": "code",
   "execution_count": 2,
   "id": "f030bca2",
   "metadata": {
    "ExecuteTime": {
     "end_time": "2020-08-30T21:08:49.529214Z",
     "start_time": "2020-08-30T21:08:49.525465Z"
    },
    "execution": {
     "iopub.execute_input": "2022-08-17T06:27:17.868227Z",
     "iopub.status.busy": "2022-08-17T06:27:17.867090Z",
     "iopub.status.idle": "2022-08-17T06:27:17.881816Z",
     "shell.execute_reply": "2022-08-17T06:27:17.880961Z"
    },
    "papermill": {
     "duration": 0.029923,
     "end_time": "2022-08-17T06:27:17.883980",
     "exception": false,
     "start_time": "2022-08-17T06:27:17.854057",
     "status": "completed"
    },
    "tags": []
   },
   "outputs": [
    {
     "data": {
      "text/plain": [
       "array(['WTI Crude Oil', 'Brent Crude Oil', 'Heating Oil', 'Natural Gas',\n",
       "       'Gasoline', 'Copper', 'Gold', 'Palladium', 'Platinum', 'Silver',\n",
       "       'Feeder Cattle', 'Live Cattle', 'Lean Hog', 'Corn', 'Oats',\n",
       "       'Soybean Oil', 'Soybean Meal', 'Soybean', 'Wheat', 'Cocoa',\n",
       "       'Coffee', 'Cotton', 'Lumber', 'Orange Juice', 'Sugar',\n",
       "       'Australian Dollar', 'Canadian Dollar', 'Swiss Franc', 'Euro',\n",
       "       'British Pound', 'Japanese Yen', 'E-Mini Nasdaq 100',\n",
       "       'E-mini S&P 500', 'E-mini Russell 2000', 'FTSE 100', 'DAX',\n",
       "       'CAC 40', 'IBEX 35', 'AEX', 'Swiss Market Index', 'SPI 200',\n",
       "       'Topix', 'Hang Seng', 'US 2-year Treasury', 'US 5-year Treasury',\n",
       "       'US 10-year Treasury', 'US treasury Bond', 'Germany Schatz',\n",
       "       'Germany Bobl', 'Germany Bund', 'Germany Buxl', 'Gilt',\n",
       "       'Canada 10-year Treasury', 'JGB'], dtype=object)"
      ]
     },
     "execution_count": 2,
     "metadata": {},
     "output_type": "execute_result"
    }
   ],
   "source": [
    "all_futures_baltas2020['name'].values"
   ]
  },
  {
   "cell_type": "code",
   "execution_count": 3,
   "id": "604fb4ae",
   "metadata": {
    "ExecuteTime": {
     "end_time": "2020-08-30T21:08:49.542477Z",
     "start_time": "2020-08-30T21:08:49.530487Z"
    },
    "execution": {
     "iopub.execute_input": "2022-08-17T06:27:17.951175Z",
     "iopub.status.busy": "2022-08-17T06:27:17.950606Z",
     "iopub.status.idle": "2022-08-17T06:27:17.955737Z",
     "shell.execute_reply": "2022-08-17T06:27:17.954961Z"
    },
    "papermill": {
     "duration": 0.062683,
     "end_time": "2022-08-17T06:27:17.957816",
     "exception": false,
     "start_time": "2022-08-17T06:27:17.895133",
     "status": "completed"
    },
    "tags": []
   },
   "outputs": [
    {
     "name": "stdout",
     "output_type": "stream",
     "text": [
      "54\n"
     ]
    }
   ],
   "source": [
    "print(len(all_futures_baltas2020))"
   ]
  },
  {
   "cell_type": "markdown",
   "id": "fa01f09b",
   "metadata": {
    "papermill": {
     "duration": 0.015411,
     "end_time": "2022-08-17T06:27:17.987475",
     "exception": false,
     "start_time": "2022-08-17T06:27:17.972064",
     "status": "completed"
    },
    "tags": []
   },
   "source": [
    "We try to use the same contract as the original paper where possible, resulting 54 futures contracts to analyse. The trading universe covers a wide range of asset classes and regions, and is made up of following instruments:\n",
    "- Equity index futures\n",
    "- Government bond futures\n",
    "- FX futures\n",
    "- Commodity futures\n",
    "\n",
    "where the same trend detection method is applied."
   ]
  },
  {
   "cell_type": "markdown",
   "id": "f547ff39",
   "metadata": {
    "papermill": {
     "duration": 0.012104,
     "end_time": "2022-08-17T06:27:18.013834",
     "exception": false,
     "start_time": "2022-08-17T06:27:18.001730",
     "status": "completed"
    },
    "tags": []
   },
   "source": [
    "# Performance\n"
   ]
  },
  {
   "cell_type": "markdown",
   "id": "fd0c6771",
   "metadata": {
    "papermill": {
     "duration": 0.013201,
     "end_time": "2022-08-17T06:27:18.037815",
     "exception": false,
     "start_time": "2022-08-17T06:27:18.024614",
     "status": "completed"
    },
    "tags": []
   },
   "source": [
    "## Moskowitz et al\n",
    "\n",
    "First we calculate the original trend-following portfolio with a more traditional close-to-close realised volatility estimator. Although Moskowitz et al uses the exponentially weighted standard deviation, BK2020 appears to compare against the rolling standard deviation."
   ]
  },
  {
   "cell_type": "code",
   "execution_count": 4,
   "id": "9a9f31ad",
   "metadata": {
    "execution": {
     "iopub.execute_input": "2022-08-17T06:27:18.062800Z",
     "iopub.status.busy": "2022-08-17T06:27:18.062390Z",
     "iopub.status.idle": "2022-08-17T06:39:42.607145Z",
     "shell.execute_reply": "2022-08-17T06:39:42.606399Z"
    },
    "papermill": {
     "duration": 744.55912,
     "end_time": "2022-08-17T06:39:42.609855",
     "exception": false,
     "start_time": "2022-08-17T06:27:18.050735",
     "status": "completed"
    },
    "tags": []
   },
   "outputs": [],
   "source": [
    "engine_original = BacktestEngine(\n",
    "    strategy=Strategy.DELTA_ONE.value,\n",
    "    instrument=all_futures_baltas2020.index,\n",
    "    signal=signal.ParallelSignal([\n",
    "        signal.VolatilityScale(agg_method='rolling', window=21, ann_factor=261, \n",
    "                               target_volatility=0.4, signal_cap=0.95),\n",
    "        signal.TSMOMMoskowitz2012(post_process=processing.AsFreq(freq='m', method='pad'))\n",
    "    ], weighting='product'),\n",
    "    weighting=Weighting.EQUAL_WEIGHT.value,\n",
    "    log_level=logging.WARN,\n",
    ")\n",
    "engine_original.run()"
   ]
  },
  {
   "cell_type": "code",
   "execution_count": 5,
   "id": "c56c0de7",
   "metadata": {
    "execution": {
     "iopub.execute_input": "2022-08-17T06:39:42.651843Z",
     "iopub.status.busy": "2022-08-17T06:39:42.651162Z",
     "iopub.status.idle": "2022-08-17T06:41:18.506106Z",
     "shell.execute_reply": "2022-08-17T06:41:18.505384Z"
    },
    "papermill": {
     "duration": 95.873403,
     "end_time": "2022-08-17T06:41:18.509237",
     "exception": false,
     "start_time": "2022-08-17T06:39:42.635834",
     "status": "completed"
    },
    "tags": []
   },
   "outputs": [],
   "source": [
    "engine_original_eq = (engine_original.calculate_equity_curve(calculate_net=False, rebalance_freq='m')\n",
    "                      .rename('Trend-following portfolio (Moskowitz 2012)'))"
   ]
  },
  {
   "cell_type": "code",
   "execution_count": 6,
   "id": "cdd04b7c",
   "metadata": {
    "execution": {
     "iopub.execute_input": "2022-08-17T06:41:18.544593Z",
     "iopub.status.busy": "2022-08-17T06:41:18.543901Z",
     "iopub.status.idle": "2022-08-17T06:41:19.844888Z",
     "shell.execute_reply": "2022-08-17T06:41:19.843961Z"
    },
    "papermill": {
     "duration": 1.320644,
     "end_time": "2022-08-17T06:41:19.846888",
     "exception": false,
     "start_time": "2022-08-17T06:41:18.526244",
     "status": "completed"
    },
    "tags": []
   },
   "outputs": [
    {
     "data": {
      "image/png": "[encoded data removed]",
      "text/plain": [
       "<Figure size 576x324 with 1 Axes>"
      ]
     },
     "metadata": {
      "needs_background": "light"
     },
     "output_type": "display_data"
    }
   ],
   "source": [
    "fig, ax = plt.subplots(figsize=(8, 4.5))\n",
    "engine_original_eq.plot(ax=ax, logy=True)\n",
    "ax.set_title('Trend-following portfolio (Moskowitz 2012)')\n",
    "ax.set_ylabel('Cumulative returns');"
   ]
  },
  {
   "cell_type": "code",
   "execution_count": 7,
   "id": "5a2c56d3",
   "metadata": {
    "execution": {
     "iopub.execute_input": "2022-08-17T06:41:19.871188Z",
     "iopub.status.busy": "2022-08-17T06:41:19.870776Z",
     "iopub.status.idle": "2022-08-17T06:41:20.000735Z",
     "shell.execute_reply": "2022-08-17T06:41:19.999818Z"
    },
    "papermill": {
     "duration": 0.144361,
     "end_time": "2022-08-17T06:41:20.002779",
     "exception": false,
     "start_time": "2022-08-17T06:41:19.858418",
     "status": "completed"
    },
    "tags": []
   },
   "outputs": [
    {
     "data": {
      "text/html": [
       "<div>\n",
       "<style scoped>\n",
       "    .dataframe tbody tr th:only-of-type {\n",
       "        vertical-align: middle;\n",
       "    }\n",
       "\n",
       "    .dataframe tbody tr th {\n",
       "        vertical-align: top;\n",
       "    }\n",
       "\n",
       "    .dataframe thead th {\n",
       "        text-align: right;\n",
       "    }\n",
       "</style>\n",
       "<table border=\"1\" class=\"dataframe\">\n",
       "  <thead>\n",
       "    <tr style=\"text-align: right;\">\n",
       "      <th></th>\n",
       "      <th>Trend-following portfolio (Moskowitz 2012)</th>\n",
       "    </tr>\n",
       "  </thead>\n",
       "  <tbody>\n",
       "    <tr>\n",
       "      <th>CAGR</th>\n",
       "      <td>0.147070</td>\n",
       "    </tr>\n",
       "    <tr>\n",
       "      <th>Annualised vol</th>\n",
       "      <td>0.124964</td>\n",
       "    </tr>\n",
       "    <tr>\n",
       "      <th>Sharpe ratio</th>\n",
       "      <td>1.176896</td>\n",
       "    </tr>\n",
       "    <tr>\n",
       "      <th>Max drawdown</th>\n",
       "      <td>0.259239</td>\n",
       "    </tr>\n",
       "    <tr>\n",
       "      <th>Calmar ratio</th>\n",
       "      <td>0.567313</td>\n",
       "    </tr>\n",
       "    <tr>\n",
       "      <th>Skewness</th>\n",
       "      <td>0.073429</td>\n",
       "    </tr>\n",
       "    <tr>\n",
       "      <th>Kurtosis</th>\n",
       "      <td>19.351525</td>\n",
       "    </tr>\n",
       "    <tr>\n",
       "      <th>Worst return</th>\n",
       "      <td>-0.126276</td>\n",
       "    </tr>\n",
       "    <tr>\n",
       "      <th>Worst 1d return</th>\n",
       "      <td>-0.126276</td>\n",
       "    </tr>\n",
       "    <tr>\n",
       "      <th>Worst 1w return</th>\n",
       "      <td>-0.107725</td>\n",
       "    </tr>\n",
       "    <tr>\n",
       "      <th>Worst 1m return</th>\n",
       "      <td>-0.152667</td>\n",
       "    </tr>\n",
       "  </tbody>\n",
       "</table>\n",
       "</div>"
      ],
      "text/plain": [
       "                 Trend-following portfolio (Moskowitz 2012)\n",
       "CAGR                                               0.147070\n",
       "Annualised vol                                     0.124964\n",
       "Sharpe ratio                                       1.176896\n",
       "Max drawdown                                       0.259239\n",
       "Calmar ratio                                       0.567313\n",
       "Skewness                                           0.073429\n",
       "Kurtosis                                          19.351525\n",
       "Worst return                                      -0.126276\n",
       "Worst 1d return                                   -0.126276\n",
       "Worst 1w return                                   -0.107725\n",
       "Worst 1m return                                   -0.152667"
      ]
     },
     "execution_count": 7,
     "metadata": {},
     "output_type": "execute_result"
    }
   ],
   "source": [
    "engine_original_eq.pipe(Performance).summary()"
   ]
  },
  {
   "cell_type": "markdown",
   "id": "5a85c0e8",
   "metadata": {
    "papermill": {
     "duration": 0.010949,
     "end_time": "2022-08-17T06:41:20.024702",
     "exception": false,
     "start_time": "2022-08-17T06:41:20.013753",
     "status": "completed"
    },
    "tags": []
   },
   "source": [
    "\n",
    "## Volatility estimator\n",
    "BK2020 proposes a few changes in order to enhance the original trend-following strategy Moskowitz et al reported. The first thing is to use a more sophisticated realised volatility estimators for volatility scaling. Moskowitz used the exponentially weighted standard deviation with close-to-close. On the other hand, BK2020 suggests to use Yang-Zhang estimator as it is much more efficient."
   ]
  },
  {
   "cell_type": "code",
   "execution_count": 8,
   "id": "791e2169",
   "metadata": {
    "ExecuteTime": {
     "end_time": "2020-08-30T21:18:24.661167Z",
     "start_time": "2020-08-30T21:08:49.544232Z"
    },
    "execution": {
     "iopub.execute_input": "2022-08-17T06:41:20.048418Z",
     "iopub.status.busy": "2022-08-17T06:41:20.047950Z",
     "iopub.status.idle": "2022-08-17T07:03:04.329369Z",
     "shell.execute_reply": "2022-08-17T07:03:04.328440Z"
    },
    "papermill": {
     "duration": 1304.296082,
     "end_time": "2022-08-17T07:03:04.331726",
     "exception": false,
     "start_time": "2022-08-17T06:41:20.035644",
     "status": "completed"
    },
    "tags": []
   },
   "outputs": [],
   "source": [
    "engine_vol = BacktestEngine(\n",
    "    strategy=Strategy.DELTA_ONE.value,\n",
    "    instrument=all_futures_baltas2020.index,\n",
    "    signal=signal.ParallelSignal([\n",
    "        signal.VolatilityScale(volatility_type=RealisedVolatility.YZ.value,\n",
    "                               agg_method='rolling', window=21, min_periods=10,\n",
    "                               target_volatility=0.4, signal_cap=0.95, ann_factor=261),\n",
    "        signal.TSMOMMoskowitz2012(post_process=processing.AsFreq(freq='m', method='pad'))\n",
    "    ], weighting='product'),\n",
    "    weighting=Weighting.EQUAL_WEIGHT.value,\n",
    "    log_level=logging.WARN,\n",
    ")\n",
    "engine_vol.run()"
   ]
  },
  {
   "cell_type": "code",
   "execution_count": 9,
   "id": "8eab4306",
   "metadata": {
    "execution": {
     "iopub.execute_input": "2022-08-17T07:03:04.364391Z",
     "iopub.status.busy": "2022-08-17T07:03:04.363895Z",
     "iopub.status.idle": "2022-08-17T07:04:31.934089Z",
     "shell.execute_reply": "2022-08-17T07:04:31.933441Z"
    },
    "papermill": {
     "duration": 87.589072,
     "end_time": "2022-08-17T07:04:31.935947",
     "exception": false,
     "start_time": "2022-08-17T07:03:04.346875",
     "status": "completed"
    },
    "tags": []
   },
   "outputs": [],
   "source": [
    "engine_vol_eq = (engine_vol.calculate_equity_curve(calculate_net=False, rebalance_freq='m')\n",
    "                 .rename('Trend-following portfolio (YZ estimator)'))"
   ]
  },
  {
   "cell_type": "code",
   "execution_count": 10,
   "id": "a9b08d76",
   "metadata": {
    "execution": {
     "iopub.execute_input": "2022-08-17T07:04:31.960579Z",
     "iopub.status.busy": "2022-08-17T07:04:31.960282Z",
     "iopub.status.idle": "2022-08-17T07:04:32.556662Z",
     "shell.execute_reply": "2022-08-17T07:04:32.555905Z"
    },
    "papermill": {
     "duration": 0.610908,
     "end_time": "2022-08-17T07:04:32.558435",
     "exception": false,
     "start_time": "2022-08-17T07:04:31.947527",
     "status": "completed"
    },
    "tags": []
   },
   "outputs": [
    {
     "data": {
      "image/png": "[encoded data removed]",
      "text/plain": [
       "<Figure size 576x324 with 1 Axes>"
      ]
     },
     "metadata": {
      "needs_background": "light"
     },
     "output_type": "display_data"
    }
   ],
   "source": [
    "fig, ax = plt.subplots(figsize=(8, 4.5))\n",
    "engine_vol_eq.plot(ax=ax, logy=True);\n",
    "ax.set_title('Trend-following portfolio (YZ estimator)')\n",
    "ax.set_ylabel('Cumulative returns');"
   ]
  },
  {
   "cell_type": "code",
   "execution_count": 11,
   "id": "39b48817",
   "metadata": {
    "execution": {
     "iopub.execute_input": "2022-08-17T07:04:32.581558Z",
     "iopub.status.busy": "2022-08-17T07:04:32.581280Z",
     "iopub.status.idle": "2022-08-17T07:04:32.661674Z",
     "shell.execute_reply": "2022-08-17T07:04:32.660951Z"
    },
    "papermill": {
     "duration": 0.093911,
     "end_time": "2022-08-17T07:04:32.663339",
     "exception": false,
     "start_time": "2022-08-17T07:04:32.569428",
     "status": "completed"
    },
    "tags": []
   },
   "outputs": [
    {
     "data": {
      "text/html": [
       "<div>\n",
       "<style scoped>\n",
       "    .dataframe tbody tr th:only-of-type {\n",
       "        vertical-align: middle;\n",
       "    }\n",
       "\n",
       "    .dataframe tbody tr th {\n",
       "        vertical-align: top;\n",
       "    }\n",
       "\n",
       "    .dataframe thead th {\n",
       "        text-align: right;\n",
       "    }\n",
       "</style>\n",
       "<table border=\"1\" class=\"dataframe\">\n",
       "  <thead>\n",
       "    <tr style=\"text-align: right;\">\n",
       "      <th></th>\n",
       "      <th>Trend-following portfolio (YZ estimator)</th>\n",
       "    </tr>\n",
       "  </thead>\n",
       "  <tbody>\n",
       "    <tr>\n",
       "      <th>CAGR</th>\n",
       "      <td>0.148731</td>\n",
       "    </tr>\n",
       "    <tr>\n",
       "      <th>Annualised vol</th>\n",
       "      <td>0.127254</td>\n",
       "    </tr>\n",
       "    <tr>\n",
       "      <th>Sharpe ratio</th>\n",
       "      <td>1.168778</td>\n",
       "    </tr>\n",
       "    <tr>\n",
       "      <th>Max drawdown</th>\n",
       "      <td>0.305877</td>\n",
       "    </tr>\n",
       "    <tr>\n",
       "      <th>Calmar ratio</th>\n",
       "      <td>0.486245</td>\n",
       "    </tr>\n",
       "    <tr>\n",
       "      <th>Skewness</th>\n",
       "      <td>0.280677</td>\n",
       "    </tr>\n",
       "    <tr>\n",
       "      <th>Kurtosis</th>\n",
       "      <td>22.134455</td>\n",
       "    </tr>\n",
       "    <tr>\n",
       "      <th>Worst return</th>\n",
       "      <td>-0.137043</td>\n",
       "    </tr>\n",
       "    <tr>\n",
       "      <th>Worst 1d return</th>\n",
       "      <td>-0.137043</td>\n",
       "    </tr>\n",
       "    <tr>\n",
       "      <th>Worst 1w return</th>\n",
       "      <td>-0.098542</td>\n",
       "    </tr>\n",
       "    <tr>\n",
       "      <th>Worst 1m return</th>\n",
       "      <td>-0.169177</td>\n",
       "    </tr>\n",
       "  </tbody>\n",
       "</table>\n",
       "</div>"
      ],
      "text/plain": [
       "                 Trend-following portfolio (YZ estimator)\n",
       "CAGR                                             0.148731\n",
       "Annualised vol                                   0.127254\n",
       "Sharpe ratio                                     1.168778\n",
       "Max drawdown                                     0.305877\n",
       "Calmar ratio                                     0.486245\n",
       "Skewness                                         0.280677\n",
       "Kurtosis                                        22.134455\n",
       "Worst return                                    -0.137043\n",
       "Worst 1d return                                 -0.137043\n",
       "Worst 1w return                                 -0.098542\n",
       "Worst 1m return                                 -0.169177"
      ]
     },
     "execution_count": 11,
     "metadata": {},
     "output_type": "execute_result"
    }
   ],
   "source": [
    "engine_vol_eq.pipe(Performance).summary()"
   ]
  },
  {
   "cell_type": "markdown",
   "id": "59a016e8",
   "metadata": {
    "papermill": {
     "duration": 0.011074,
     "end_time": "2022-08-17T07:04:32.685508",
     "exception": false,
     "start_time": "2022-08-17T07:04:32.674434",
     "status": "completed"
    },
    "tags": []
   },
   "source": [
    "## TREND signal\n",
    "\n",
    "Another improvement BK2020 proposes is to use a continuous signal rather than a binary one in order to reduce the turnover when signals are weak. Specifically they used the t-values with the Newey-West standard error as the signal. They further capped and floored the signal between -1 and +1 to avoid extreme positions.\n",
    "\n",
    "`statsmodels`'s `OLS` class provides a method to compute the Newey-West standard error. https://www.statsmodels.org/stable/generated/statsmodels.regression.linear_model.OLS.html"
   ]
  },
  {
   "cell_type": "code",
   "execution_count": 12,
   "id": "0e6b2e5e",
   "metadata": {
    "execution": {
     "iopub.execute_input": "2022-08-17T07:04:32.709237Z",
     "iopub.status.busy": "2022-08-17T07:04:32.708809Z",
     "iopub.status.idle": "2022-08-17T07:22:37.823008Z",
     "shell.execute_reply": "2022-08-17T07:22:37.822260Z"
    },
    "papermill": {
     "duration": 1085.128591,
     "end_time": "2022-08-17T07:22:37.825135",
     "exception": false,
     "start_time": "2022-08-17T07:04:32.696544",
     "status": "completed"
    },
    "tags": []
   },
   "outputs": [],
   "source": [
    "engine_trend = BacktestEngine(\n",
    "    strategy=Strategy.DELTA_ONE.value,\n",
    "    instrument=all_futures_baltas2020.index,\n",
    "    signal=signal.ParallelSignal([\n",
    "        signal.VolatilityScale(agg_method='rolling', window=21, ann_factor=261, \n",
    "                               target_volatility=0.4, signal_cap=0.95),\n",
    "        signal.TSMOMBaltas2020()\n",
    "    ], weighting='product'),\n",
    "    weighting=Weighting.EQUAL_WEIGHT.value,\n",
    "    log_level=logging.WARN,\n",
    ")\n",
    "engine_trend.run()"
   ]
  },
  {
   "cell_type": "code",
   "execution_count": 13,
   "id": "2ba45a2e",
   "metadata": {
    "execution": {
     "iopub.execute_input": "2022-08-17T07:22:37.850555Z",
     "iopub.status.busy": "2022-08-17T07:22:37.850287Z",
     "iopub.status.idle": "2022-08-17T07:24:01.394244Z",
     "shell.execute_reply": "2022-08-17T07:24:01.393524Z"
    },
    "papermill": {
     "duration": 83.558841,
     "end_time": "2022-08-17T07:24:01.396254",
     "exception": false,
     "start_time": "2022-08-17T07:22:37.837413",
     "status": "completed"
    },
    "tags": []
   },
   "outputs": [],
   "source": [
    "engine_trend_eq = (engine_trend.calculate_equity_curve(calculate_net=False, rebalance_freq='m')\n",
    "                   .rename('Trend-following portfolio (TREND signal)'))"
   ]
  },
  {
   "cell_type": "code",
   "execution_count": 14,
   "id": "5f617b93",
   "metadata": {
    "execution": {
     "iopub.execute_input": "2022-08-17T07:24:01.420383Z",
     "iopub.status.busy": "2022-08-17T07:24:01.420009Z",
     "iopub.status.idle": "2022-08-17T07:24:02.085210Z",
     "shell.execute_reply": "2022-08-17T07:24:02.084457Z"
    },
    "papermill": {
     "duration": 0.679423,
     "end_time": "2022-08-17T07:24:02.087090",
     "exception": false,
     "start_time": "2022-08-17T07:24:01.407667",
     "status": "completed"
    },
    "tags": []
   },
   "outputs": [
    {
     "data": {
      "image/png": "[encoded data removed]",
      "text/plain": [
       "<Figure size 576x324 with 1 Axes>"
      ]
     },
     "metadata": {
      "needs_background": "light"
     },
     "output_type": "display_data"
    }
   ],
   "source": [
    "fig, ax = plt.subplots(figsize=(8, 4.5))\n",
    "engine_trend_eq.plot(ax=ax, logy=True);\n",
    "ax.set_title('Trend-following portfolio (TREND signal)')\n",
    "ax.set_ylabel('Cumulative returns');"
   ]
  },
  {
   "cell_type": "code",
   "execution_count": 15,
   "id": "7cdfc4e5",
   "metadata": {
    "execution": {
     "iopub.execute_input": "2022-08-17T07:24:02.114223Z",
     "iopub.status.busy": "2022-08-17T07:24:02.113579Z",
     "iopub.status.idle": "2022-08-17T07:24:02.196220Z",
     "shell.execute_reply": "2022-08-17T07:24:02.195536Z"
    },
    "papermill": {
     "duration": 0.098598,
     "end_time": "2022-08-17T07:24:02.198518",
     "exception": false,
     "start_time": "2022-08-17T07:24:02.099920",
     "status": "completed"
    },
    "tags": []
   },
   "outputs": [
    {
     "data": {
      "text/html": [
       "<div>\n",
       "<style scoped>\n",
       "    .dataframe tbody tr th:only-of-type {\n",
       "        vertical-align: middle;\n",
       "    }\n",
       "\n",
       "    .dataframe tbody tr th {\n",
       "        vertical-align: top;\n",
       "    }\n",
       "\n",
       "    .dataframe thead th {\n",
       "        text-align: right;\n",
       "    }\n",
       "</style>\n",
       "<table border=\"1\" class=\"dataframe\">\n",
       "  <thead>\n",
       "    <tr style=\"text-align: right;\">\n",
       "      <th></th>\n",
       "      <th>Trend-following portfolio (TREND signal)</th>\n",
       "    </tr>\n",
       "  </thead>\n",
       "  <tbody>\n",
       "    <tr>\n",
       "      <th>CAGR</th>\n",
       "      <td>0.139224</td>\n",
       "    </tr>\n",
       "    <tr>\n",
       "      <th>Annualised vol</th>\n",
       "      <td>0.107930</td>\n",
       "    </tr>\n",
       "    <tr>\n",
       "      <th>Sharpe ratio</th>\n",
       "      <td>1.289955</td>\n",
       "    </tr>\n",
       "    <tr>\n",
       "      <th>Max drawdown</th>\n",
       "      <td>0.294584</td>\n",
       "    </tr>\n",
       "    <tr>\n",
       "      <th>Calmar ratio</th>\n",
       "      <td>0.472613</td>\n",
       "    </tr>\n",
       "    <tr>\n",
       "      <th>Skewness</th>\n",
       "      <td>0.159414</td>\n",
       "    </tr>\n",
       "    <tr>\n",
       "      <th>Kurtosis</th>\n",
       "      <td>28.015897</td>\n",
       "    </tr>\n",
       "    <tr>\n",
       "      <th>Worst return</th>\n",
       "      <td>-0.121269</td>\n",
       "    </tr>\n",
       "    <tr>\n",
       "      <th>Worst 1d return</th>\n",
       "      <td>-0.121269</td>\n",
       "    </tr>\n",
       "    <tr>\n",
       "      <th>Worst 1w return</th>\n",
       "      <td>-0.110077</td>\n",
       "    </tr>\n",
       "    <tr>\n",
       "      <th>Worst 1m return</th>\n",
       "      <td>-0.171789</td>\n",
       "    </tr>\n",
       "  </tbody>\n",
       "</table>\n",
       "</div>"
      ],
      "text/plain": [
       "                 Trend-following portfolio (TREND signal)\n",
       "CAGR                                             0.139224\n",
       "Annualised vol                                   0.107930\n",
       "Sharpe ratio                                     1.289955\n",
       "Max drawdown                                     0.294584\n",
       "Calmar ratio                                     0.472613\n",
       "Skewness                                         0.159414\n",
       "Kurtosis                                        28.015897\n",
       "Worst return                                    -0.121269\n",
       "Worst 1d return                                 -0.121269\n",
       "Worst 1w return                                 -0.110077\n",
       "Worst 1m return                                 -0.171789"
      ]
     },
     "execution_count": 15,
     "metadata": {},
     "output_type": "execute_result"
    }
   ],
   "source": [
    "engine_trend_eq.pipe(Performance).summary()"
   ]
  },
  {
   "cell_type": "markdown",
   "id": "28bf07af",
   "metadata": {
    "papermill": {
     "duration": 0.017074,
     "end_time": "2022-08-17T07:24:02.232555",
     "exception": false,
     "start_time": "2022-08-17T07:24:02.215481",
     "status": "completed"
    },
    "tags": []
   },
   "source": [
    "## Combined\n",
    "\n",
    "Finally we run a backtest by using both the Yang-Zhang volatility estimator and the TREND signal."
   ]
  },
  {
   "cell_type": "code",
   "execution_count": 16,
   "id": "610cfe5a",
   "metadata": {
    "execution": {
     "iopub.execute_input": "2022-08-17T07:24:02.260104Z",
     "iopub.status.busy": "2022-08-17T07:24:02.259470Z",
     "iopub.status.idle": "2022-08-17T07:50:28.466999Z",
     "shell.execute_reply": "2022-08-17T07:50:28.466221Z"
    },
    "papermill": {
     "duration": 1586.222371,
     "end_time": "2022-08-17T07:50:28.469275",
     "exception": false,
     "start_time": "2022-08-17T07:24:02.246904",
     "status": "completed"
    },
    "tags": []
   },
   "outputs": [],
   "source": [
    "engine_combined = BacktestEngine(\n",
    "    strategy=Strategy.DELTA_ONE.value,\n",
    "    instrument=all_futures_baltas2020.index,\n",
    "    signal=signal.ParallelSignal([\n",
    "        signal.VolatilityScale(volatility_type=RealisedVolatility.YZ.value,\n",
    "                               agg_method='rolling', window=21, min_periods=10,\n",
    "                               target_volatility=0.4, signal_cap=0.95, ann_factor=261),\n",
    "        signal.TSMOMBaltas2020()\n",
    "    ], weighting='product'),\n",
    "    weighting=Weighting.EQUAL_WEIGHT.value,\n",
    "    log_level=logging.WARN,\n",
    ")\n",
    "engine_combined.run()"
   ]
  },
  {
   "cell_type": "code",
   "execution_count": 17,
   "id": "0cedd57f",
   "metadata": {
    "execution": {
     "iopub.execute_input": "2022-08-17T07:50:28.496852Z",
     "iopub.status.busy": "2022-08-17T07:50:28.496590Z",
     "iopub.status.idle": "2022-08-17T07:51:50.983293Z",
     "shell.execute_reply": "2022-08-17T07:51:50.982402Z"
    },
    "papermill": {
     "duration": 82.502365,
     "end_time": "2022-08-17T07:51:50.986065",
     "exception": false,
     "start_time": "2022-08-17T07:50:28.483700",
     "status": "completed"
    },
    "tags": []
   },
   "outputs": [],
   "source": [
    "engine_combined_eq = (engine_combined.calculate_equity_curve(calculate_net=False, rebalance_freq='m')\n",
    "                      .rename('Trend-following portfolio (YZ estimator + TREND signal)'))"
   ]
  },
  {
   "cell_type": "code",
   "execution_count": 18,
   "id": "6b130144",
   "metadata": {
    "execution": {
     "iopub.execute_input": "2022-08-17T07:51:51.022196Z",
     "iopub.status.busy": "2022-08-17T07:51:51.021852Z",
     "iopub.status.idle": "2022-08-17T07:51:51.646241Z",
     "shell.execute_reply": "2022-08-17T07:51:51.645464Z"
    },
    "papermill": {
     "duration": 0.64485,
     "end_time": "2022-08-17T07:51:51.648402",
     "exception": false,
     "start_time": "2022-08-17T07:51:51.003552",
     "status": "completed"
    },
    "tags": []
   },
   "outputs": [
    {
     "data": {
      "image/png": "[encoded data removed]",
      "text/plain": [
       "<Figure size 576x324 with 1 Axes>"
      ]
     },
     "metadata": {
      "needs_background": "light"
     },
     "output_type": "display_data"
    }
   ],
   "source": [
    "fig, ax = plt.subplots(figsize=(8, 4.5))\n",
    "engine_combined_eq.plot(ax=ax, logy=True)\n",
    "ax.set_title('Trend-following portfolio (YZ estimator + TREND signal)')\n",
    "ax.set_ylabel('Cumulative returns');"
   ]
  },
  {
   "cell_type": "code",
   "execution_count": 19,
   "id": "259467c3",
   "metadata": {
    "execution": {
     "iopub.execute_input": "2022-08-17T07:51:51.721705Z",
     "iopub.status.busy": "2022-08-17T07:51:51.721421Z",
     "iopub.status.idle": "2022-08-17T07:51:51.804261Z",
     "shell.execute_reply": "2022-08-17T07:51:51.803565Z"
    },
    "papermill": {
     "duration": 0.145396,
     "end_time": "2022-08-17T07:51:51.806046",
     "exception": false,
     "start_time": "2022-08-17T07:51:51.660650",
     "status": "completed"
    },
    "tags": []
   },
   "outputs": [
    {
     "data": {
      "text/html": [
       "<div>\n",
       "<style scoped>\n",
       "    .dataframe tbody tr th:only-of-type {\n",
       "        vertical-align: middle;\n",
       "    }\n",
       "\n",
       "    .dataframe tbody tr th {\n",
       "        vertical-align: top;\n",
       "    }\n",
       "\n",
       "    .dataframe thead th {\n",
       "        text-align: right;\n",
       "    }\n",
       "</style>\n",
       "<table border=\"1\" class=\"dataframe\">\n",
       "  <thead>\n",
       "    <tr style=\"text-align: right;\">\n",
       "      <th></th>\n",
       "      <th>Trend-following portfolio (YZ estimator + TREND signal)</th>\n",
       "    </tr>\n",
       "  </thead>\n",
       "  <tbody>\n",
       "    <tr>\n",
       "      <th>CAGR</th>\n",
       "      <td>0.139678</td>\n",
       "    </tr>\n",
       "    <tr>\n",
       "      <th>Annualised vol</th>\n",
       "      <td>0.110665</td>\n",
       "    </tr>\n",
       "    <tr>\n",
       "      <th>Sharpe ratio</th>\n",
       "      <td>1.262175</td>\n",
       "    </tr>\n",
       "    <tr>\n",
       "      <th>Max drawdown</th>\n",
       "      <td>0.313945</td>\n",
       "    </tr>\n",
       "    <tr>\n",
       "      <th>Calmar ratio</th>\n",
       "      <td>0.444913</td>\n",
       "    </tr>\n",
       "    <tr>\n",
       "      <th>Skewness</th>\n",
       "      <td>0.292964</td>\n",
       "    </tr>\n",
       "    <tr>\n",
       "      <th>Kurtosis</th>\n",
       "      <td>32.537653</td>\n",
       "    </tr>\n",
       "    <tr>\n",
       "      <th>Worst return</th>\n",
       "      <td>-0.130152</td>\n",
       "    </tr>\n",
       "    <tr>\n",
       "      <th>Worst 1d return</th>\n",
       "      <td>-0.130152</td>\n",
       "    </tr>\n",
       "    <tr>\n",
       "      <th>Worst 1w return</th>\n",
       "      <td>-0.112097</td>\n",
       "    </tr>\n",
       "    <tr>\n",
       "      <th>Worst 1m return</th>\n",
       "      <td>-0.186272</td>\n",
       "    </tr>\n",
       "  </tbody>\n",
       "</table>\n",
       "</div>"
      ],
      "text/plain": [
       "                 Trend-following portfolio (YZ estimator + TREND signal)\n",
       "CAGR                                                      0.139678      \n",
       "Annualised vol                                            0.110665      \n",
       "Sharpe ratio                                              1.262175      \n",
       "Max drawdown                                              0.313945      \n",
       "Calmar ratio                                              0.444913      \n",
       "Skewness                                                  0.292964      \n",
       "Kurtosis                                                 32.537653      \n",
       "Worst return                                             -0.130152      \n",
       "Worst 1d return                                          -0.130152      \n",
       "Worst 1w return                                          -0.112097      \n",
       "Worst 1m return                                          -0.186272      "
      ]
     },
     "execution_count": 19,
     "metadata": {},
     "output_type": "execute_result"
    }
   ],
   "source": [
    "engine_combined_eq.pipe(Performance).summary()"
   ]
  },
  {
   "cell_type": "markdown",
   "id": "bb1cf17e",
   "metadata": {
    "papermill": {
     "duration": 0.01231,
     "end_time": "2022-08-17T07:51:51.830822",
     "exception": false,
     "start_time": "2022-08-17T07:51:51.818512",
     "status": "completed"
    },
    "tags": []
   },
   "source": [
    "# Comparison\n",
    "\n",
    "In this section we compare the above 4 backtests."
   ]
  },
  {
   "cell_type": "markdown",
   "id": "2af9e3b6",
   "metadata": {
    "papermill": {
     "duration": 0.012574,
     "end_time": "2022-08-17T07:51:51.855718",
     "exception": false,
     "start_time": "2022-08-17T07:51:51.843144",
     "status": "completed"
    },
    "tags": []
   },
   "source": [
    "## Performance\n",
    "\n",
    "As reported in BK2020, using the YZ estimator and TREND signal does not alter the performance characteristics. Rather, the TREND signal somewhat improves the Sharpe ratio. Also the TREND signal lowers the annualised volatility from 12.5% to 10.8% with the close-to-close realised volatility."
   ]
  },
  {
   "cell_type": "code",
   "execution_count": 20,
   "id": "4dd4a2b7",
   "metadata": {
    "execution": {
     "iopub.execute_input": "2022-08-17T07:51:51.881814Z",
     "iopub.status.busy": "2022-08-17T07:51:51.881537Z",
     "iopub.status.idle": "2022-08-17T07:51:51.894640Z",
     "shell.execute_reply": "2022-08-17T07:51:51.893934Z"
    },
    "papermill": {
     "duration": 0.028635,
     "end_time": "2022-08-17T07:51:51.896572",
     "exception": false,
     "start_time": "2022-08-17T07:51:51.867937",
     "status": "completed"
    },
    "tags": []
   },
   "outputs": [],
   "source": [
    "performance_comp = pd.concat((engine_original_eq, engine_vol_eq, \n",
    "                              engine_trend_eq, engine_combined_eq), axis=1)"
   ]
  },
  {
   "cell_type": "code",
   "execution_count": 21,
   "id": "682d0d0d",
   "metadata": {
    "execution": {
     "iopub.execute_input": "2022-08-17T07:51:51.923953Z",
     "iopub.status.busy": "2022-08-17T07:51:51.923622Z",
     "iopub.status.idle": "2022-08-17T07:51:52.688476Z",
     "shell.execute_reply": "2022-08-17T07:51:52.687762Z"
    },
    "papermill": {
     "duration": 0.781576,
     "end_time": "2022-08-17T07:51:52.690507",
     "exception": false,
     "start_time": "2022-08-17T07:51:51.908931",
     "status": "completed"
    },
    "tags": []
   },
   "outputs": [
    {
     "data": {
      "image/png": "[encoded data removed]",
      "text/plain": [
       "<Figure size 576x324 with 1 Axes>"
      ]
     },
     "metadata": {
      "needs_background": "light"
     },
     "output_type": "display_data"
    }
   ],
   "source": [
    "fig, ax = plt.subplots(figsize=(8, 4.5))\n",
    "performance_comp.plot(ax=ax, logy=True);\n",
    "ax.set_title('Trend-following portfolio')\n",
    "ax.set_ylabel('Cumulative returns');"
   ]
  },
  {
   "cell_type": "code",
   "execution_count": 22,
   "id": "89928b57",
   "metadata": {
    "execution": {
     "iopub.execute_input": "2022-08-17T07:51:52.717723Z",
     "iopub.status.busy": "2022-08-17T07:51:52.717371Z",
     "iopub.status.idle": "2022-08-17T07:51:52.834826Z",
     "shell.execute_reply": "2022-08-17T07:51:52.834051Z"
    },
    "papermill": {
     "duration": 0.133955,
     "end_time": "2022-08-17T07:51:52.837267",
     "exception": false,
     "start_time": "2022-08-17T07:51:52.703312",
     "status": "completed"
    },
    "tags": []
   },
   "outputs": [
    {
     "data": {
      "text/html": [
       "<div>\n",
       "<style scoped>\n",
       "    .dataframe tbody tr th:only-of-type {\n",
       "        vertical-align: middle;\n",
       "    }\n",
       "\n",
       "    .dataframe tbody tr th {\n",
       "        vertical-align: top;\n",
       "    }\n",
       "\n",
       "    .dataframe thead th {\n",
       "        text-align: right;\n",
       "    }\n",
       "</style>\n",
       "<table border=\"1\" class=\"dataframe\">\n",
       "  <thead>\n",
       "    <tr style=\"text-align: right;\">\n",
       "      <th></th>\n",
       "      <th>Trend-following portfolio (Moskowitz 2012)</th>\n",
       "      <th>Trend-following portfolio (YZ estimator)</th>\n",
       "      <th>Trend-following portfolio (TREND signal)</th>\n",
       "      <th>Trend-following portfolio (YZ estimator + TREND signal)</th>\n",
       "    </tr>\n",
       "  </thead>\n",
       "  <tbody>\n",
       "    <tr>\n",
       "      <th>CAGR</th>\n",
       "      <td>0.147070</td>\n",
       "      <td>0.148365</td>\n",
       "      <td>0.139224</td>\n",
       "      <td>0.139335</td>\n",
       "    </tr>\n",
       "    <tr>\n",
       "      <th>Annualised vol</th>\n",
       "      <td>0.124964</td>\n",
       "      <td>0.127098</td>\n",
       "      <td>0.107930</td>\n",
       "      <td>0.110530</td>\n",
       "    </tr>\n",
       "    <tr>\n",
       "      <th>Sharpe ratio</th>\n",
       "      <td>1.176896</td>\n",
       "      <td>1.167331</td>\n",
       "      <td>1.289955</td>\n",
       "      <td>1.260612</td>\n",
       "    </tr>\n",
       "    <tr>\n",
       "      <th>Max drawdown</th>\n",
       "      <td>0.259239</td>\n",
       "      <td>0.305877</td>\n",
       "      <td>0.294584</td>\n",
       "      <td>0.313945</td>\n",
       "    </tr>\n",
       "    <tr>\n",
       "      <th>Calmar ratio</th>\n",
       "      <td>0.567313</td>\n",
       "      <td>0.485050</td>\n",
       "      <td>0.472613</td>\n",
       "      <td>0.443819</td>\n",
       "    </tr>\n",
       "    <tr>\n",
       "      <th>Skewness</th>\n",
       "      <td>0.073429</td>\n",
       "      <td>0.281588</td>\n",
       "      <td>0.159414</td>\n",
       "      <td>0.293928</td>\n",
       "    </tr>\n",
       "    <tr>\n",
       "      <th>Kurtosis</th>\n",
       "      <td>19.351525</td>\n",
       "      <td>22.195826</td>\n",
       "      <td>28.015897</td>\n",
       "      <td>32.624210</td>\n",
       "    </tr>\n",
       "    <tr>\n",
       "      <th>Worst return</th>\n",
       "      <td>-0.126276</td>\n",
       "      <td>-0.137043</td>\n",
       "      <td>-0.121269</td>\n",
       "      <td>-0.130152</td>\n",
       "    </tr>\n",
       "    <tr>\n",
       "      <th>Worst 1d return</th>\n",
       "      <td>-0.126276</td>\n",
       "      <td>-0.137043</td>\n",
       "      <td>-0.121269</td>\n",
       "      <td>-0.130152</td>\n",
       "    </tr>\n",
       "    <tr>\n",
       "      <th>Worst 1w return</th>\n",
       "      <td>-0.107725</td>\n",
       "      <td>-0.098542</td>\n",
       "      <td>-0.110077</td>\n",
       "      <td>-0.112097</td>\n",
       "    </tr>\n",
       "    <tr>\n",
       "      <th>Worst 1m return</th>\n",
       "      <td>-0.152667</td>\n",
       "      <td>-0.169177</td>\n",
       "      <td>-0.171789</td>\n",
       "      <td>-0.186272</td>\n",
       "    </tr>\n",
       "  </tbody>\n",
       "</table>\n",
       "</div>"
      ],
      "text/plain": [
       "                 Trend-following portfolio (Moskowitz 2012)  \\\n",
       "CAGR                                               0.147070   \n",
       "Annualised vol                                     0.124964   \n",
       "Sharpe ratio                                       1.176896   \n",
       "Max drawdown                                       0.259239   \n",
       "Calmar ratio                                       0.567313   \n",
       "Skewness                                           0.073429   \n",
       "Kurtosis                                          19.351525   \n",
       "Worst return                                      -0.126276   \n",
       "Worst 1d return                                   -0.126276   \n",
       "Worst 1w return                                   -0.107725   \n",
       "Worst 1m return                                   -0.152667   \n",
       "\n",
       "                 Trend-following portfolio (YZ estimator)  \\\n",
       "CAGR                                             0.148365   \n",
       "Annualised vol                                   0.127098   \n",
       "Sharpe ratio                                     1.167331   \n",
       "Max drawdown                                     0.305877   \n",
       "Calmar ratio                                     0.485050   \n",
       "Skewness                                         0.281588   \n",
       "Kurtosis                                        22.195826   \n",
       "Worst return                                    -0.137043   \n",
       "Worst 1d return                                 -0.137043   \n",
       "Worst 1w return                                 -0.098542   \n",
       "Worst 1m return                                 -0.169177   \n",
       "\n",
       "                 Trend-following portfolio (TREND signal)  \\\n",
       "CAGR                                             0.139224   \n",
       "Annualised vol                                   0.107930   \n",
       "Sharpe ratio                                     1.289955   \n",
       "Max drawdown                                     0.294584   \n",
       "Calmar ratio                                     0.472613   \n",
       "Skewness                                         0.159414   \n",
       "Kurtosis                                        28.015897   \n",
       "Worst return                                    -0.121269   \n",
       "Worst 1d return                                 -0.121269   \n",
       "Worst 1w return                                 -0.110077   \n",
       "Worst 1m return                                 -0.171789   \n",
       "\n",
       "                 Trend-following portfolio (YZ estimator + TREND signal)  \n",
       "CAGR                                                      0.139335        \n",
       "Annualised vol                                            0.110530        \n",
       "Sharpe ratio                                              1.260612        \n",
       "Max drawdown                                              0.313945        \n",
       "Calmar ratio                                              0.443819        \n",
       "Skewness                                                  0.293928        \n",
       "Kurtosis                                                 32.624210        \n",
       "Worst return                                             -0.130152        \n",
       "Worst 1d return                                          -0.130152        \n",
       "Worst 1w return                                          -0.112097        \n",
       "Worst 1m return                                          -0.186272        "
      ]
     },
     "execution_count": 22,
     "metadata": {},
     "output_type": "execute_result"
    }
   ],
   "source": [
    "performance_comp.pipe(Performance).summary()"
   ]
  },
  {
   "cell_type": "markdown",
   "id": "254c2586",
   "metadata": {
    "papermill": {
     "duration": 0.020519,
     "end_time": "2022-08-17T07:51:52.877795",
     "exception": false,
     "start_time": "2022-08-17T07:51:52.857276",
     "status": "completed"
    },
    "tags": []
   },
   "source": [
    "## Turnover reduction\n",
    "\n",
    "Again, as reported in BK2020, both enhancements reduce the turnover significantly while not affecting the performance. The chart below shows the reduction in turnover for each futures contract. By utilising the YZ realised volatility and the TREND signal, overall the turnover is reduced by more than 30%."
   ]
  },
  {
   "cell_type": "code",
   "execution_count": 23,
   "id": "d87b1e2f",
   "metadata": {
    "execution": {
     "iopub.execute_input": "2022-08-17T07:51:52.909370Z",
     "iopub.status.busy": "2022-08-17T07:51:52.908918Z",
     "iopub.status.idle": "2022-08-17T07:57:03.605355Z",
     "shell.execute_reply": "2022-08-17T07:57:03.604650Z"
    },
    "papermill": {
     "duration": 310.712901,
     "end_time": "2022-08-17T07:57:03.607141",
     "exception": false,
     "start_time": "2022-08-17T07:51:52.894240",
     "status": "completed"
    },
    "tags": []
   },
   "outputs": [],
   "source": [
    "engine_original_pos = engine_original.get_position_by_instrument()\n",
    "engine_vol_pos = engine_vol.get_position_by_instrument()\n",
    "engine_trend_pos = engine_trend.get_position_by_instrument()\n",
    "engine_combined_pos = engine_combined.get_position_by_instrument()"
   ]
  },
  {
   "cell_type": "code",
   "execution_count": 24,
   "id": "bf853bfa",
   "metadata": {
    "execution": {
     "iopub.execute_input": "2022-08-17T07:57:03.633797Z",
     "iopub.status.busy": "2022-08-17T07:57:03.633537Z",
     "iopub.status.idle": "2022-08-17T07:57:03.664882Z",
     "shell.execute_reply": "2022-08-17T07:57:03.664159Z"
    },
    "papermill": {
     "duration": 0.046659,
     "end_time": "2022-08-17T07:57:03.666708",
     "exception": false,
     "start_time": "2022-08-17T07:57:03.620049",
     "status": "completed"
    },
    "tags": []
   },
   "outputs": [],
   "source": [
    "engine_original_turnover = (engine_original_pos.diff().abs().mean().mul(261)\n",
    "                            .rename('Trend-following portfolio (Moskowitz 2012)'))\n",
    "engine_vol_turnover = (engine_vol_pos.diff().abs().mean().mul(261)\n",
    "                       .rename('Trend-following portfolio (YZ estimator)'))\n",
    "engine_trend_turnover = (engine_trend_pos.diff().abs().mean().mul(261)\n",
    "                         .rename('Trend-following portfolio (TREND signal)'))\n",
    "engine_combined_turnover = (engine_combined_pos.diff().abs().mean().mul(261)\n",
    "                            .rename('Trend-following portfolio (YZ estimator + TREND signal)'))"
   ]
  },
  {
   "cell_type": "code",
   "execution_count": 25,
   "id": "a6f59131",
   "metadata": {
    "execution": {
     "iopub.execute_input": "2022-08-17T07:57:03.694671Z",
     "iopub.status.busy": "2022-08-17T07:57:03.694410Z",
     "iopub.status.idle": "2022-08-17T07:57:03.701716Z",
     "shell.execute_reply": "2022-08-17T07:57:03.700974Z"
    },
    "papermill": {
     "duration": 0.023721,
     "end_time": "2022-08-17T07:57:03.703525",
     "exception": false,
     "start_time": "2022-08-17T07:57:03.679804",
     "status": "completed"
    },
    "tags": []
   },
   "outputs": [],
   "source": [
    "turnover_reduction = (\n",
    "    pd.concat((engine_vol_turnover, engine_trend_turnover, engine_combined_turnover), axis=1)\n",
    "    .div(engine_original_turnover, axis=0)\n",
    "    .sub(1)\n",
    "    .reindex(index=all_futures_baltas2020.index)\n",
    "    .rename(index=all_futures_baltas2020['name'])\n",
    ")"
   ]
  },
  {
   "cell_type": "code",
   "execution_count": 26,
   "id": "175198e6",
   "metadata": {
    "execution": {
     "iopub.execute_input": "2022-08-17T07:57:03.735022Z",
     "iopub.status.busy": "2022-08-17T07:57:03.734758Z",
     "iopub.status.idle": "2022-08-17T07:57:03.741056Z",
     "shell.execute_reply": "2022-08-17T07:57:03.740418Z"
    },
    "papermill": {
     "duration": 0.025718,
     "end_time": "2022-08-17T07:57:03.742699",
     "exception": false,
     "start_time": "2022-08-17T07:57:03.716981",
     "status": "completed"
    },
    "tags": []
   },
   "outputs": [
    {
     "data": {
      "text/plain": [
       "Trend-following portfolio (YZ estimator)                  -0.181286\n",
       "Trend-following portfolio (TREND signal)                  -0.207289\n",
       "Trend-following portfolio (YZ estimator + TREND signal)   -0.330764\n",
       "dtype: float64"
      ]
     },
     "execution_count": 26,
     "metadata": {},
     "output_type": "execute_result"
    }
   ],
   "source": [
    "turnover_reduction.mean()"
   ]
  },
  {
   "cell_type": "code",
   "execution_count": 27,
   "id": "be0f7b2d",
   "metadata": {
    "execution": {
     "iopub.execute_input": "2022-08-17T07:57:03.769574Z",
     "iopub.status.busy": "2022-08-17T07:57:03.769313Z",
     "iopub.status.idle": "2022-08-17T07:57:05.418265Z",
     "shell.execute_reply": "2022-08-17T07:57:05.417511Z"
    },
    "papermill": {
     "duration": 1.664331,
     "end_time": "2022-08-17T07:57:05.419913",
     "exception": false,
     "start_time": "2022-08-17T07:57:03.755582",
     "status": "completed"
    },
    "tags": []
   },
   "outputs": [
    {
     "data": {
      "image/png": "[encoded data removed]",
      "text/plain": [
       "<Figure size 1008x288 with 1 Axes>"
      ]
     },
     "metadata": {
      "needs_background": "light"
     },
     "output_type": "display_data"
    }
   ],
   "source": [
    "ax = turnover_reduction.plot(kind='bar', figsize=(14, 4))\n",
    "ax.yaxis.set_major_formatter(mticker.PercentFormatter(1))\n",
    "ax.axhline(0, color='black', lw=1)\n",
    "ax.axvline(24.5, color='black', lw=1)\n",
    "ax.axvline(30.5, color='black', lw=1)\n",
    "ax.axvline(42.5, color='black', lw=1)\n",
    "ax.set_xlabel('Contract')\n",
    "ax.set_ylabel('Turnover reduction');"
   ]
  },
  {
   "cell_type": "markdown",
   "id": "5663dacc",
   "metadata": {
    "papermill": {
     "duration": 0.013808,
     "end_time": "2022-08-17T07:57:05.447778",
     "exception": false,
     "start_time": "2022-08-17T07:57:05.433970",
     "status": "completed"
    },
    "tags": []
   },
   "source": [
    "# Recent performance"
   ]
  },
  {
   "cell_type": "code",
   "execution_count": 28,
   "id": "29678da8",
   "metadata": {
    "execution": {
     "iopub.execute_input": "2022-08-17T07:57:05.476920Z",
     "iopub.status.busy": "2022-08-17T07:57:05.476653Z",
     "iopub.status.idle": "2022-08-17T07:57:05.928921Z",
     "shell.execute_reply": "2022-08-17T07:57:05.928199Z"
    },
    "papermill": {
     "duration": 0.468877,
     "end_time": "2022-08-17T07:57:05.930656",
     "exception": false,
     "start_time": "2022-08-17T07:57:05.461779",
     "status": "completed"
    },
    "tags": []
   },
   "outputs": [
    {
     "data": {
      "image/png": "[encoded data removed]",
      "text/plain": [
       "<Figure size 576x324 with 1 Axes>"
      ]
     },
     "metadata": {
      "needs_background": "light"
     },
     "output_type": "display_data"
    }
   ],
   "source": [
    "fig, ax = plt.subplots(figsize=(8, 4.5))\n",
    "performance_comp.tail(252 * 2).pct_change().fillna(0).add(1).cumprod().plot(ax=ax, logy=True);\n",
    "ax.set_title('Trend-following portfolio')\n",
    "ax.set_ylabel('Cumulative returns');"
   ]
  },
  {
   "cell_type": "markdown",
   "id": "a3cd35a2",
   "metadata": {
    "papermill": {
     "duration": 0.014206,
     "end_time": "2022-08-17T07:57:05.959354",
     "exception": false,
     "start_time": "2022-08-17T07:57:05.945148",
     "status": "completed"
    },
    "tags": []
   },
   "source": [
    "# Reference\n",
    "\n",
    "- Baltas, N. and Kosowski, R., 2020. Demystifying time-series momentum strategies: Volatility estimators, trading rules and pairwise correlations. Market Momentum: Theory and Practice\", Wiley.\n",
    "- Moskowitz, T.J., Ooi, Y.H. and Pedersen, L.H., 2012. Time series momentum. Journal of financial economics, 104(2), pp.228-250."
   ]
  },
  {
   "cell_type": "code",
   "execution_count": 29,
   "id": "a3a6aff4",
   "metadata": {
    "ExecuteTime": {
     "end_time": "2020-08-30T21:20:32.431574Z",
     "start_time": "2020-08-30T21:20:32.429370Z"
    },
    "execution": {
     "iopub.execute_input": "2022-08-17T07:57:05.989632Z",
     "iopub.status.busy": "2022-08-17T07:57:05.989353Z",
     "iopub.status.idle": "2022-08-17T07:57:05.993375Z",
     "shell.execute_reply": "2022-08-17T07:57:05.992710Z"
    },
    "papermill": {
     "duration": 0.021146,
     "end_time": "2022-08-17T07:57:05.995021",
     "exception": false,
     "start_time": "2022-08-17T07:57:05.973875",
     "status": "completed"
    },
    "tags": []
   },
   "outputs": [
    {
     "name": "stdout",
     "output_type": "stream",
     "text": [
      "Updated: 17-Aug-2022 07:57\n"
     ]
    }
   ],
   "source": [
    "print(f'Updated: {datetime.utcnow():%d-%b-%Y %H:%M}')"
   ]
  }
 ],
 "metadata": {
  "hide_input": false,
  "kernelspec": {
   "display_name": "Python 3",
   "language": "python",
   "name": "python3"
  },
  "language_info": {
   "codemirror_mode": {
    "name": "ipython",
    "version": 3
   },
   "file_extension": ".py",
   "mimetype": "text/x-python",
   "name": "python",
   "nbconvert_exporter": "python",
   "pygments_lexer": "ipython3",
   "version": "3.9.6"
  },
  "nav_menu": {},
  "papermill": {
   "duration": 5397.509845,
   "end_time": "2022-08-17T07:57:09.054447",
   "environment_variables": {},
   "exception": null,
   "input_path": "notebooks/papermill/trend_following_baltas2020.ipynb",
   "output_path": "notebooks/trend_following_baltas2020.ipynb",
   "parameters": {},
   "start_time": "2022-08-17T06:27:11.544602",
   "version": "2.1.3"
  },
  "toc": {
   "base_numbering": 1,
   "nav_menu": {},
   "number_sections": true,
   "sideBar": true,
   "skip_h1_title": false,
   "title_cell": "Table of Contents",
   "title_sidebar": "Contents",
   "toc_cell": true,
   "toc_position": {
    "height": "calc(100% - 180px)",
    "left": "10px",
    "top": "150px",
    "width": "165px"
   },
   "toc_section_display": "block",
   "toc_window_display": true
  }
 },
 "nbformat": 4,
 "nbformat_minor": 5
}