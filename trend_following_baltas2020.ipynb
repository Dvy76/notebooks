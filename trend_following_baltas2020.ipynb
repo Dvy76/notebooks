{
 "cells": [
  {
   "cell_type": "markdown",
   "id": "51ef78d9",
   "metadata": {
    "papermill": {
     "duration": 0.011626,
     "end_time": "2022-08-14T06:25:44.286966",
     "exception": false,
     "start_time": "2022-08-14T06:25:44.275340",
     "status": "completed"
    },
    "tags": []
   },
   "source": [
    "# Trend-following\n",
    "\n",
    "This notebook implements a few improvements that Baltas and Kosowski (2020) (BK2020, hereafter) propose to the time-series momentum strategy which originally appeared in Moskowitz et al (2012).\n",
    "\n",
    "Note that like other notebooks, all backtests are performed by using a private library called `vivace`."
   ]
  },
  {
   "cell_type": "code",
   "execution_count": 1,
   "id": "746cb07b",
   "metadata": {
    "ExecuteTime": {
     "end_time": "2020-08-30T21:08:49.524262Z",
     "start_time": "2020-08-30T21:08:48.720115Z"
    },
    "execution": {
     "iopub.execute_input": "2022-08-14T06:25:44.313275Z",
     "iopub.status.busy": "2022-08-14T06:25:44.312870Z",
     "iopub.status.idle": "2022-08-14T06:25:47.854833Z",
     "shell.execute_reply": "2022-08-14T06:25:47.853973Z"
    },
    "papermill": {
     "duration": 3.557968,
     "end_time": "2022-08-14T06:25:47.857405",
     "exception": false,
     "start_time": "2022-08-14T06:25:44.299437",
     "status": "completed"
    },
    "tags": []
   },
   "outputs": [],
   "source": [
    "%matplotlib inline\n",
    "from datetime import datetime\n",
    "import logging\n",
    "import warnings\n",
    "warnings.simplefilter(action='ignore', category=FutureWarning)\n",
    "\n",
    "import pandas as pd\n",
    "import matplotlib.pyplot as plt\n",
    "import matplotlib.ticker as mticker\n",
    "plt.style.use('bmh')\n",
    "\n",
    "from vivace.backtest import signal\n",
    "from vivace.backtest import processing\n",
    "from vivace.backtest.contract import all_futures_baltas2020\n",
    "from vivace.backtest.engine import BacktestEngine\n",
    "from vivace.backtest.enums import Strategy, Weighting, RealisedVolatility\n",
    "from vivace.backtest.stats import Performance"
   ]
  },
  {
   "cell_type": "markdown",
   "id": "3367323d",
   "metadata": {
    "papermill": {
     "duration": 0.011909,
     "end_time": "2022-08-14T06:25:47.882234",
     "exception": false,
     "start_time": "2022-08-14T06:25:47.870325",
     "status": "completed"
    },
    "tags": []
   },
   "source": [
    "# Data"
   ]
  },
  {
   "cell_type": "code",
   "execution_count": 2,
   "id": "0d37648f",
   "metadata": {
    "ExecuteTime": {
     "end_time": "2020-08-30T21:08:49.529214Z",
     "start_time": "2020-08-30T21:08:49.525465Z"
    },
    "execution": {
     "iopub.execute_input": "2022-08-14T06:25:47.909122Z",
     "iopub.status.busy": "2022-08-14T06:25:47.908575Z",
     "iopub.status.idle": "2022-08-14T06:25:47.917123Z",
     "shell.execute_reply": "2022-08-14T06:25:47.916387Z"
    },
    "papermill": {
     "duration": 0.023642,
     "end_time": "2022-08-14T06:25:47.918837",
     "exception": false,
     "start_time": "2022-08-14T06:25:47.895195",
     "status": "completed"
    },
    "tags": []
   },
   "outputs": [
    {
     "data": {
      "text/plain": [
       "array(['WTI Crude Oil', 'Brent Crude Oil', 'Heating Oil', 'Natural Gas',\n",
       "       'Gasoline', 'Copper', 'Gold', 'Palladium', 'Platinum', 'Silver',\n",
       "       'Feeder Cattle', 'Live Cattle', 'Lean Hog', 'Corn', 'Oats',\n",
       "       'Soybean Oil', 'Soybean Meal', 'Soybean', 'Wheat', 'Cocoa',\n",
       "       'Coffee', 'Cotton', 'Lumber', 'Orange Juice', 'Sugar',\n",
       "       'Australian Dollar', 'Canadian Dollar', 'Swiss Franc', 'Euro',\n",
       "       'British Pound', 'Japanese Yen', 'E-Mini Nasdaq 100',\n",
       "       'E-mini S&P 500', 'E-mini Russell 2000', 'FTSE 100', 'DAX',\n",
       "       'CAC 40', 'IBEX 35', 'AEX', 'Swiss Market Index', 'SPI 200',\n",
       "       'Topix', 'Hang Seng', 'US 2-year Treasury', 'US 5-year Treasury',\n",
       "       'US 10-year Treasury', 'US treasury Bond', 'Germany Schatz',\n",
       "       'Germany Bobl', 'Germany Bund', 'Germany Buxl', 'Gilt',\n",
       "       'Canada 10-year Treasury', 'JGB'], dtype=object)"
      ]
     },
     "execution_count": 2,
     "metadata": {},
     "output_type": "execute_result"
    }
   ],
   "source": [
    "all_futures_baltas2020['name'].values"
   ]
  },
  {
   "cell_type": "code",
   "execution_count": 3,
   "id": "85c98b46",
   "metadata": {
    "ExecuteTime": {
     "end_time": "2020-08-30T21:08:49.542477Z",
     "start_time": "2020-08-30T21:08:49.530487Z"
    },
    "execution": {
     "iopub.execute_input": "2022-08-14T06:25:47.986695Z",
     "iopub.status.busy": "2022-08-14T06:25:47.985768Z",
     "iopub.status.idle": "2022-08-14T06:25:47.991059Z",
     "shell.execute_reply": "2022-08-14T06:25:47.990241Z"
    },
    "papermill": {
     "duration": 0.060769,
     "end_time": "2022-08-14T06:25:47.992806",
     "exception": false,
     "start_time": "2022-08-14T06:25:47.932037",
     "status": "completed"
    },
    "tags": []
   },
   "outputs": [
    {
     "name": "stdout",
     "output_type": "stream",
     "text": [
      "54\n"
     ]
    }
   ],
   "source": [
    "print(len(all_futures_baltas2020))"
   ]
  },
  {
   "cell_type": "markdown",
   "id": "9324fc31",
   "metadata": {
    "papermill": {
     "duration": 0.011392,
     "end_time": "2022-08-14T06:25:48.016960",
     "exception": false,
     "start_time": "2022-08-14T06:25:48.005568",
     "status": "completed"
    },
    "tags": []
   },
   "source": [
    "We try to use the same contract as the original paper where possible, resulting 54 futures contracts to analyse. The trading universe covers a wide range of asset classes and regions, and is made up of following instruments:\n",
    "- Equity index futures\n",
    "- Government bond futures\n",
    "- FX futures\n",
    "- Commodity futures\n",
    "\n",
    "where the same trend detection method is applied."
   ]
  },
  {
   "cell_type": "markdown",
   "id": "5ba0945a",
   "metadata": {
    "papermill": {
     "duration": 0.012013,
     "end_time": "2022-08-14T06:25:48.040355",
     "exception": false,
     "start_time": "2022-08-14T06:25:48.028342",
     "status": "completed"
    },
    "tags": []
   },
   "source": [
    "# Performance\n"
   ]
  },
  {
   "cell_type": "markdown",
   "id": "47c1c412",
   "metadata": {
    "papermill": {
     "duration": 0.012021,
     "end_time": "2022-08-14T06:25:48.063615",
     "exception": false,
     "start_time": "2022-08-14T06:25:48.051594",
     "status": "completed"
    },
    "tags": []
   },
   "source": [
    "## Moskowitz et al\n",
    "\n",
    "First we calculate the original trend-following portfolio with a more traditional close-to-close realised volatility estimator. Although Moskowitz et al uses the exponentially weighted standard deviation, BK2020 appears to compare against the rolling standard deviation."
   ]
  },
  {
   "cell_type": "code",
   "execution_count": 4,
   "id": "6ab9e487",
   "metadata": {
    "execution": {
     "iopub.execute_input": "2022-08-14T06:25:48.088519Z",
     "iopub.status.busy": "2022-08-14T06:25:48.088130Z",
     "iopub.status.idle": "2022-08-14T06:37:07.631122Z",
     "shell.execute_reply": "2022-08-14T06:37:07.630319Z"
    },
    "papermill": {
     "duration": 679.558893,
     "end_time": "2022-08-14T06:37:07.633382",
     "exception": false,
     "start_time": "2022-08-14T06:25:48.074489",
     "status": "completed"
    },
    "tags": []
   },
   "outputs": [],
   "source": [
    "engine_original = BacktestEngine(\n",
    "    strategy=Strategy.DELTA_ONE.value,\n",
    "    instrument=all_futures_baltas2020.index,\n",
    "    signal=signal.ParallelSignal([\n",
    "        signal.VolatilityScale(agg_method='rolling', window=21, ann_factor=261, \n",
    "                               target_volatility=0.4, signal_cap=0.95),\n",
    "        signal.TSMOMMoskowitz2012(post_process=processing.AsFreq(freq='m', method='pad'))\n",
    "    ], weighting='product'),\n",
    "    weighting=Weighting.EQUAL_WEIGHT.value,\n",
    "    log_level=logging.WARN,\n",
    ")\n",
    "engine_original.run()"
   ]
  },
  {
   "cell_type": "code",
   "execution_count": 5,
   "id": "524cc337",
   "metadata": {
    "execution": {
     "iopub.execute_input": "2022-08-14T06:37:07.658809Z",
     "iopub.status.busy": "2022-08-14T06:37:07.658463Z",
     "iopub.status.idle": "2022-08-14T06:38:35.686389Z",
     "shell.execute_reply": "2022-08-14T06:38:35.685586Z"
    },
    "papermill": {
     "duration": 88.042696,
     "end_time": "2022-08-14T06:38:35.688615",
     "exception": false,
     "start_time": "2022-08-14T06:37:07.645919",
     "status": "completed"
    },
    "tags": []
   },
   "outputs": [],
   "source": [
    "engine_original_eq = (engine_original.calculate_equity_curve(calculate_net=False, rebalance_freq='m')\n",
    "                      .rename('Trend-following portfolio (Moskowitz 2012)'))"
   ]
  },
  {
   "cell_type": "code",
   "execution_count": 6,
   "id": "5f1c7097",
   "metadata": {
    "execution": {
     "iopub.execute_input": "2022-08-14T06:38:35.715515Z",
     "iopub.status.busy": "2022-08-14T06:38:35.715205Z",
     "iopub.status.idle": "2022-08-14T06:38:37.005620Z",
     "shell.execute_reply": "2022-08-14T06:38:37.004742Z"
    },
    "papermill": {
     "duration": 1.305338,
     "end_time": "2022-08-14T06:38:37.007384",
     "exception": false,
     "start_time": "2022-08-14T06:38:35.702046",
     "status": "completed"
    },
    "tags": []
   },
   "outputs": [
    {
     "data": {
      "image/png": "[encoded data removed]",
      "text/plain": [
       "<Figure size 576x324 with 1 Axes>"
      ]
     },
     "metadata": {
      "needs_background": "light"
     },
     "output_type": "display_data"
    }
   ],
   "source": [
    "fig, ax = plt.subplots(figsize=(8, 4.5))\n",
    "engine_original_eq.plot(ax=ax, logy=True)\n",
    "ax.set_title('Trend-following portfolio (Moskowitz 2012)')\n",
    "ax.set_ylabel('Cumulative returns');"
   ]
  },
  {
   "cell_type": "code",
   "execution_count": 7,
   "id": "996665f8",
   "metadata": {
    "execution": {
     "iopub.execute_input": "2022-08-14T06:38:37.037822Z",
     "iopub.status.busy": "2022-08-14T06:38:37.037537Z",
     "iopub.status.idle": "2022-08-14T06:38:37.150530Z",
     "shell.execute_reply": "2022-08-14T06:38:37.149781Z"
    },
    "papermill": {
     "duration": 0.131745,
     "end_time": "2022-08-14T06:38:37.153032",
     "exception": false,
     "start_time": "2022-08-14T06:38:37.021287",
     "status": "completed"
    },
    "tags": []
   },
   "outputs": [
    {
     "data": {
      "text/html": [
       "<div>\n",
       "<style scoped>\n",
       "    .dataframe tbody tr th:only-of-type {\n",
       "        vertical-align: middle;\n",
       "    }\n",
       "\n",
       "    .dataframe tbody tr th {\n",
       "        vertical-align: top;\n",
       "    }\n",
       "\n",
       "    .dataframe thead th {\n",
       "        text-align: right;\n",
       "    }\n",
       "</style>\n",
       "<table border=\"1\" class=\"dataframe\">\n",
       "  <thead>\n",
       "    <tr style=\"text-align: right;\">\n",
       "      <th></th>\n",
       "      <th>Trend-following portfolio (Moskowitz 2012)</th>\n",
       "    </tr>\n",
       "  </thead>\n",
       "  <tbody>\n",
       "    <tr>\n",
       "      <th>CAGR</th>\n",
       "      <td>0.147206</td>\n",
       "    </tr>\n",
       "    <tr>\n",
       "      <th>Annualised vol</th>\n",
       "      <td>0.124969</td>\n",
       "    </tr>\n",
       "    <tr>\n",
       "      <th>Sharpe ratio</th>\n",
       "      <td>1.177943</td>\n",
       "    </tr>\n",
       "    <tr>\n",
       "      <th>Max drawdown</th>\n",
       "      <td>0.259239</td>\n",
       "    </tr>\n",
       "    <tr>\n",
       "      <th>Calmar ratio</th>\n",
       "      <td>0.567840</td>\n",
       "    </tr>\n",
       "    <tr>\n",
       "      <th>Skewness</th>\n",
       "      <td>0.073253</td>\n",
       "    </tr>\n",
       "    <tr>\n",
       "      <th>Kurtosis</th>\n",
       "      <td>19.350716</td>\n",
       "    </tr>\n",
       "    <tr>\n",
       "      <th>Worst return</th>\n",
       "      <td>-0.126276</td>\n",
       "    </tr>\n",
       "    <tr>\n",
       "      <th>Worst 1d return</th>\n",
       "      <td>-0.126276</td>\n",
       "    </tr>\n",
       "    <tr>\n",
       "      <th>Worst 1w return</th>\n",
       "      <td>-0.107725</td>\n",
       "    </tr>\n",
       "    <tr>\n",
       "      <th>Worst 1m return</th>\n",
       "      <td>-0.152667</td>\n",
       "    </tr>\n",
       "  </tbody>\n",
       "</table>\n",
       "</div>"
      ],
      "text/plain": [
       "                 Trend-following portfolio (Moskowitz 2012)\n",
       "CAGR                                               0.147206\n",
       "Annualised vol                                     0.124969\n",
       "Sharpe ratio                                       1.177943\n",
       "Max drawdown                                       0.259239\n",
       "Calmar ratio                                       0.567840\n",
       "Skewness                                           0.073253\n",
       "Kurtosis                                          19.350716\n",
       "Worst return                                      -0.126276\n",
       "Worst 1d return                                   -0.126276\n",
       "Worst 1w return                                   -0.107725\n",
       "Worst 1m return                                   -0.152667"
      ]
     },
     "execution_count": 7,
     "metadata": {},
     "output_type": "execute_result"
    }
   ],
   "source": [
    "engine_original_eq.pipe(Performance).summary()"
   ]
  },
  {
   "cell_type": "markdown",
   "id": "edfc6bc3",
   "metadata": {
    "papermill": {
     "duration": 0.014926,
     "end_time": "2022-08-14T06:38:37.183724",
     "exception": false,
     "start_time": "2022-08-14T06:38:37.168798",
     "status": "completed"
    },
    "tags": []
   },
   "source": [
    "\n",
    "## Volatility estimator\n",
    "BK2020 proposes a few changes in order to enhance the original trend-following strategy Moskowitz et al reported. The first thing is to use a more sophisticated realised volatility estimators for volatility scaling. Moskowitz used the exponentially weighted standard deviation with close-to-close. On the other hand, BK2020 suggests to use Yang-Zhang estimator as it is much more efficient."
   ]
  },
  {
   "cell_type": "code",
   "execution_count": 8,
   "id": "e0d9fac8",
   "metadata": {
    "ExecuteTime": {
     "end_time": "2020-08-30T21:18:24.661167Z",
     "start_time": "2020-08-30T21:08:49.544232Z"
    },
    "execution": {
     "iopub.execute_input": "2022-08-14T06:38:37.214571Z",
     "iopub.status.busy": "2022-08-14T06:38:37.214264Z",
     "iopub.status.idle": "2022-08-14T06:59:20.651711Z",
     "shell.execute_reply": "2022-08-14T06:59:20.650975Z"
    },
    "papermill": {
     "duration": 1243.454838,
     "end_time": "2022-08-14T06:59:20.653662",
     "exception": false,
     "start_time": "2022-08-14T06:38:37.198824",
     "status": "completed"
    },
    "tags": []
   },
   "outputs": [],
   "source": [
    "engine_vol = BacktestEngine(\n",
    "    strategy=Strategy.DELTA_ONE.value,\n",
    "    instrument=all_futures_baltas2020.index,\n",
    "    signal=signal.ParallelSignal([\n",
    "        signal.VolatilityScale(volatility_type=RealisedVolatility.YZ.value,\n",
    "                               agg_method='rolling', window=21, min_periods=10,\n",
    "                               target_volatility=0.4, signal_cap=0.95, ann_factor=261),\n",
    "        signal.TSMOMMoskowitz2012(post_process=processing.AsFreq(freq='m', method='pad'))\n",
    "    ], weighting='product'),\n",
    "    weighting=Weighting.EQUAL_WEIGHT.value,\n",
    "    log_level=logging.WARN,\n",
    ")\n",
    "engine_vol.run()"
   ]
  },
  {
   "cell_type": "code",
   "execution_count": 9,
   "id": "59dd9d81",
   "metadata": {
    "execution": {
     "iopub.execute_input": "2022-08-14T06:59:20.679480Z",
     "iopub.status.busy": "2022-08-14T06:59:20.679222Z",
     "iopub.status.idle": "2022-08-14T07:00:45.269213Z",
     "shell.execute_reply": "2022-08-14T07:00:45.268478Z"
    },
    "papermill": {
     "duration": 84.603992,
     "end_time": "2022-08-14T07:00:45.271123",
     "exception": false,
     "start_time": "2022-08-14T06:59:20.667131",
     "status": "completed"
    },
    "tags": []
   },
   "outputs": [],
   "source": [
    "engine_vol_eq = (engine_vol.calculate_equity_curve(calculate_net=False, rebalance_freq='m')\n",
    "                 .rename('Trend-following portfolio (YZ estimator)'))"
   ]
  },
  {
   "cell_type": "code",
   "execution_count": 10,
   "id": "9078d0ac",
   "metadata": {
    "execution": {
     "iopub.execute_input": "2022-08-14T07:00:45.293981Z",
     "iopub.status.busy": "2022-08-14T07:00:45.293715Z",
     "iopub.status.idle": "2022-08-14T07:00:45.878580Z",
     "shell.execute_reply": "2022-08-14T07:00:45.877810Z"
    },
    "papermill": {
     "duration": 0.598002,
     "end_time": "2022-08-14T07:00:45.880268",
     "exception": false,
     "start_time": "2022-08-14T07:00:45.282266",
     "status": "completed"
    },
    "tags": []
   },
   "outputs": [
    {
     "data": {
      "image/png": "[encoded data removed]",
      "text/plain": [
       "<Figure size 576x324 with 1 Axes>"
      ]
     },
     "metadata": {
      "needs_background": "light"
     },
     "output_type": "display_data"
    }
   ],
   "source": [
    "fig, ax = plt.subplots(figsize=(8, 4.5))\n",
    "engine_vol_eq.plot(ax=ax, logy=True);\n",
    "ax.set_title('Trend-following portfolio (YZ estimator)')\n",
    "ax.set_ylabel('Cumulative returns');"
   ]
  },
  {
   "cell_type": "code",
   "execution_count": 11,
   "id": "69373c4e",
   "metadata": {
    "execution": {
     "iopub.execute_input": "2022-08-14T07:00:45.903334Z",
     "iopub.status.busy": "2022-08-14T07:00:45.903067Z",
     "iopub.status.idle": "2022-08-14T07:00:45.981371Z",
     "shell.execute_reply": "2022-08-14T07:00:45.980721Z"
    },
    "papermill": {
     "duration": 0.091862,
     "end_time": "2022-08-14T07:00:45.982954",
     "exception": false,
     "start_time": "2022-08-14T07:00:45.891092",
     "status": "completed"
    },
    "tags": []
   },
   "outputs": [
    {
     "data": {
      "text/html": [
       "<div>\n",
       "<style scoped>\n",
       "    .dataframe tbody tr th:only-of-type {\n",
       "        vertical-align: middle;\n",
       "    }\n",
       "\n",
       "    .dataframe tbody tr th {\n",
       "        vertical-align: top;\n",
       "    }\n",
       "\n",
       "    .dataframe thead th {\n",
       "        text-align: right;\n",
       "    }\n",
       "</style>\n",
       "<table border=\"1\" class=\"dataframe\">\n",
       "  <thead>\n",
       "    <tr style=\"text-align: right;\">\n",
       "      <th></th>\n",
       "      <th>Trend-following portfolio (YZ estimator)</th>\n",
       "    </tr>\n",
       "  </thead>\n",
       "  <tbody>\n",
       "    <tr>\n",
       "      <th>CAGR</th>\n",
       "      <td>0.148872</td>\n",
       "    </tr>\n",
       "    <tr>\n",
       "      <th>Annualised vol</th>\n",
       "      <td>0.127259</td>\n",
       "    </tr>\n",
       "    <tr>\n",
       "      <th>Sharpe ratio</th>\n",
       "      <td>1.169838</td>\n",
       "    </tr>\n",
       "    <tr>\n",
       "      <th>Max drawdown</th>\n",
       "      <td>0.305877</td>\n",
       "    </tr>\n",
       "    <tr>\n",
       "      <th>Calmar ratio</th>\n",
       "      <td>0.486706</td>\n",
       "    </tr>\n",
       "    <tr>\n",
       "      <th>Skewness</th>\n",
       "      <td>0.280493</td>\n",
       "    </tr>\n",
       "    <tr>\n",
       "      <th>Kurtosis</th>\n",
       "      <td>22.133377</td>\n",
       "    </tr>\n",
       "    <tr>\n",
       "      <th>Worst return</th>\n",
       "      <td>-0.137043</td>\n",
       "    </tr>\n",
       "    <tr>\n",
       "      <th>Worst 1d return</th>\n",
       "      <td>-0.137043</td>\n",
       "    </tr>\n",
       "    <tr>\n",
       "      <th>Worst 1w return</th>\n",
       "      <td>-0.098542</td>\n",
       "    </tr>\n",
       "    <tr>\n",
       "      <th>Worst 1m return</th>\n",
       "      <td>-0.169177</td>\n",
       "    </tr>\n",
       "  </tbody>\n",
       "</table>\n",
       "</div>"
      ],
      "text/plain": [
       "                 Trend-following portfolio (YZ estimator)\n",
       "CAGR                                             0.148872\n",
       "Annualised vol                                   0.127259\n",
       "Sharpe ratio                                     1.169838\n",
       "Max drawdown                                     0.305877\n",
       "Calmar ratio                                     0.486706\n",
       "Skewness                                         0.280493\n",
       "Kurtosis                                        22.133377\n",
       "Worst return                                    -0.137043\n",
       "Worst 1d return                                 -0.137043\n",
       "Worst 1w return                                 -0.098542\n",
       "Worst 1m return                                 -0.169177"
      ]
     },
     "execution_count": 11,
     "metadata": {},
     "output_type": "execute_result"
    }
   ],
   "source": [
    "engine_vol_eq.pipe(Performance).summary()"
   ]
  },
  {
   "cell_type": "markdown",
   "id": "6b569de3",
   "metadata": {
    "papermill": {
     "duration": 0.010974,
     "end_time": "2022-08-14T07:00:46.004940",
     "exception": false,
     "start_time": "2022-08-14T07:00:45.993966",
     "status": "completed"
    },
    "tags": []
   },
   "source": [
    "## TREND signal\n",
    "\n",
    "Another improvement BK2020 proposes is to use a continuous signal rather than a binary one in order to reduce the turnover when signals are weak. Specifically they used the t-values with the Newey-West standard error as the signal. They further capped and floored the signal between -1 and +1 to avoid extreme positions.\n",
    "\n",
    "`statsmodels`'s `OLS` class provides a method to compute the Newey-West standard error. https://www.statsmodels.org/stable/generated/statsmodels.regression.linear_model.OLS.html"
   ]
  },
  {
   "cell_type": "code",
   "execution_count": 12,
   "id": "7a865bfe",
   "metadata": {
    "execution": {
     "iopub.execute_input": "2022-08-14T07:00:46.028060Z",
     "iopub.status.busy": "2022-08-14T07:00:46.027794Z",
     "iopub.status.idle": "2022-08-14T07:17:55.589931Z",
     "shell.execute_reply": "2022-08-14T07:17:55.589167Z"
    },
    "papermill": {
     "duration": 1029.57603,
     "end_time": "2022-08-14T07:17:55.591854",
     "exception": false,
     "start_time": "2022-08-14T07:00:46.015824",
     "status": "completed"
    },
    "tags": []
   },
   "outputs": [],
   "source": [
    "engine_trend = BacktestEngine(\n",
    "    strategy=Strategy.DELTA_ONE.value,\n",
    "    instrument=all_futures_baltas2020.index,\n",
    "    signal=signal.ParallelSignal([\n",
    "        signal.VolatilityScale(agg_method='rolling', window=21, ann_factor=261, \n",
    "                               target_volatility=0.4, signal_cap=0.95),\n",
    "        signal.TSMOMBaltas2020()\n",
    "    ], weighting='product'),\n",
    "    weighting=Weighting.EQUAL_WEIGHT.value,\n",
    "    log_level=logging.WARN,\n",
    ")\n",
    "engine_trend.run()"
   ]
  },
  {
   "cell_type": "code",
   "execution_count": 13,
   "id": "e6adc6bc",
   "metadata": {
    "execution": {
     "iopub.execute_input": "2022-08-14T07:17:55.614918Z",
     "iopub.status.busy": "2022-08-14T07:17:55.614658Z",
     "iopub.status.idle": "2022-08-14T07:19:20.040852Z",
     "shell.execute_reply": "2022-08-14T07:19:20.040109Z"
    },
    "papermill": {
     "duration": 84.439832,
     "end_time": "2022-08-14T07:19:20.042749",
     "exception": false,
     "start_time": "2022-08-14T07:17:55.602917",
     "status": "completed"
    },
    "tags": []
   },
   "outputs": [],
   "source": [
    "engine_trend_eq = (engine_trend.calculate_equity_curve(calculate_net=False, rebalance_freq='m')\n",
    "                   .rename('Trend-following portfolio (TREND signal)'))"
   ]
  },
  {
   "cell_type": "code",
   "execution_count": 14,
   "id": "d7d2bf54",
   "metadata": {
    "execution": {
     "iopub.execute_input": "2022-08-14T07:19:20.065691Z",
     "iopub.status.busy": "2022-08-14T07:19:20.065432Z",
     "iopub.status.idle": "2022-08-14T07:19:20.625893Z",
     "shell.execute_reply": "2022-08-14T07:19:20.625205Z"
    },
    "papermill": {
     "duration": 0.573793,
     "end_time": "2022-08-14T07:19:20.627481",
     "exception": false,
     "start_time": "2022-08-14T07:19:20.053688",
     "status": "completed"
    },
    "tags": []
   },
   "outputs": [
    {
     "data": {
      "image/png": "[encoded data removed]",
      "text/plain": [
       "<Figure size 576x324 with 1 Axes>"
      ]
     },
     "metadata": {
      "needs_background": "light"
     },
     "output_type": "display_data"
    }
   ],
   "source": [
    "fig, ax = plt.subplots(figsize=(8, 4.5))\n",
    "engine_trend_eq.plot(ax=ax, logy=True);\n",
    "ax.set_title('Trend-following portfolio (TREND signal)')\n",
    "ax.set_ylabel('Cumulative returns');"
   ]
  },
  {
   "cell_type": "code",
   "execution_count": 15,
   "id": "c1042de6",
   "metadata": {
    "execution": {
     "iopub.execute_input": "2022-08-14T07:19:20.651501Z",
     "iopub.status.busy": "2022-08-14T07:19:20.651236Z",
     "iopub.status.idle": "2022-08-14T07:19:20.731264Z",
     "shell.execute_reply": "2022-08-14T07:19:20.730631Z"
    },
    "papermill": {
     "duration": 0.093941,
     "end_time": "2022-08-14T07:19:20.732869",
     "exception": false,
     "start_time": "2022-08-14T07:19:20.638928",
     "status": "completed"
    },
    "tags": []
   },
   "outputs": [
    {
     "data": {
      "text/html": [
       "<div>\n",
       "<style scoped>\n",
       "    .dataframe tbody tr th:only-of-type {\n",
       "        vertical-align: middle;\n",
       "    }\n",
       "\n",
       "    .dataframe tbody tr th {\n",
       "        vertical-align: top;\n",
       "    }\n",
       "\n",
       "    .dataframe thead th {\n",
       "        text-align: right;\n",
       "    }\n",
       "</style>\n",
       "<table border=\"1\" class=\"dataframe\">\n",
       "  <thead>\n",
       "    <tr style=\"text-align: right;\">\n",
       "      <th></th>\n",
       "      <th>Trend-following portfolio (TREND signal)</th>\n",
       "    </tr>\n",
       "  </thead>\n",
       "  <tbody>\n",
       "    <tr>\n",
       "      <th>CAGR</th>\n",
       "      <td>0.139330</td>\n",
       "    </tr>\n",
       "    <tr>\n",
       "      <th>Annualised vol</th>\n",
       "      <td>0.107934</td>\n",
       "    </tr>\n",
       "    <tr>\n",
       "      <th>Sharpe ratio</th>\n",
       "      <td>1.290882</td>\n",
       "    </tr>\n",
       "    <tr>\n",
       "      <th>Max drawdown</th>\n",
       "      <td>0.294584</td>\n",
       "    </tr>\n",
       "    <tr>\n",
       "      <th>Calmar ratio</th>\n",
       "      <td>0.472974</td>\n",
       "    </tr>\n",
       "    <tr>\n",
       "      <th>Skewness</th>\n",
       "      <td>0.159246</td>\n",
       "    </tr>\n",
       "    <tr>\n",
       "      <th>Kurtosis</th>\n",
       "      <td>28.014176</td>\n",
       "    </tr>\n",
       "    <tr>\n",
       "      <th>Worst return</th>\n",
       "      <td>-0.121269</td>\n",
       "    </tr>\n",
       "    <tr>\n",
       "      <th>Worst 1d return</th>\n",
       "      <td>-0.121269</td>\n",
       "    </tr>\n",
       "    <tr>\n",
       "      <th>Worst 1w return</th>\n",
       "      <td>-0.110077</td>\n",
       "    </tr>\n",
       "    <tr>\n",
       "      <th>Worst 1m return</th>\n",
       "      <td>-0.171789</td>\n",
       "    </tr>\n",
       "  </tbody>\n",
       "</table>\n",
       "</div>"
      ],
      "text/plain": [
       "                 Trend-following portfolio (TREND signal)\n",
       "CAGR                                             0.139330\n",
       "Annualised vol                                   0.107934\n",
       "Sharpe ratio                                     1.290882\n",
       "Max drawdown                                     0.294584\n",
       "Calmar ratio                                     0.472974\n",
       "Skewness                                         0.159246\n",
       "Kurtosis                                        28.014176\n",
       "Worst return                                    -0.121269\n",
       "Worst 1d return                                 -0.121269\n",
       "Worst 1w return                                 -0.110077\n",
       "Worst 1m return                                 -0.171789"
      ]
     },
     "execution_count": 15,
     "metadata": {},
     "output_type": "execute_result"
    }
   ],
   "source": [
    "engine_trend_eq.pipe(Performance).summary()"
   ]
  },
  {
   "cell_type": "markdown",
   "id": "515eab50",
   "metadata": {
    "papermill": {
     "duration": 0.011223,
     "end_time": "2022-08-14T07:19:20.755531",
     "exception": false,
     "start_time": "2022-08-14T07:19:20.744308",
     "status": "completed"
    },
    "tags": []
   },
   "source": [
    "## Combined\n",
    "\n",
    "Finally we run a backtest by using both the Yang-Zhang volatility estimator and the TREND signal."
   ]
  },
  {
   "cell_type": "code",
   "execution_count": 16,
   "id": "f8ba62bb",
   "metadata": {
    "execution": {
     "iopub.execute_input": "2022-08-14T07:19:20.779654Z",
     "iopub.status.busy": "2022-08-14T07:19:20.779392Z",
     "iopub.status.idle": "2022-08-14T07:45:07.737848Z",
     "shell.execute_reply": "2022-08-14T07:45:07.737271Z"
    },
    "papermill": {
     "duration": 1546.972648,
     "end_time": "2022-08-14T07:45:07.739724",
     "exception": false,
     "start_time": "2022-08-14T07:19:20.767076",
     "status": "completed"
    },
    "tags": []
   },
   "outputs": [],
   "source": [
    "engine_combined = BacktestEngine(\n",
    "    strategy=Strategy.DELTA_ONE.value,\n",
    "    instrument=all_futures_baltas2020.index,\n",
    "    signal=signal.ParallelSignal([\n",
    "        signal.VolatilityScale(volatility_type=RealisedVolatility.YZ.value,\n",
    "                               agg_method='rolling', window=21, min_periods=10,\n",
    "                               target_volatility=0.4, signal_cap=0.95, ann_factor=261),\n",
    "        signal.TSMOMBaltas2020()\n",
    "    ], weighting='product'),\n",
    "    weighting=Weighting.EQUAL_WEIGHT.value,\n",
    "    log_level=logging.WARN,\n",
    ")\n",
    "engine_combined.run()"
   ]
  },
  {
   "cell_type": "code",
   "execution_count": 17,
   "id": "c146863c",
   "metadata": {
    "execution": {
     "iopub.execute_input": "2022-08-14T07:45:07.762467Z",
     "iopub.status.busy": "2022-08-14T07:45:07.762193Z",
     "iopub.status.idle": "2022-08-14T07:46:21.122581Z",
     "shell.execute_reply": "2022-08-14T07:46:21.121969Z"
    },
    "papermill": {
     "duration": 73.37332,
     "end_time": "2022-08-14T07:46:21.124466",
     "exception": false,
     "start_time": "2022-08-14T07:45:07.751146",
     "status": "completed"
    },
    "tags": []
   },
   "outputs": [],
   "source": [
    "engine_combined_eq = (engine_combined.calculate_equity_curve(calculate_net=False, rebalance_freq='m')\n",
    "                      .rename('Trend-following portfolio (YZ estimator + TREND signal)'))"
   ]
  },
  {
   "cell_type": "code",
   "execution_count": 18,
   "id": "afef77b3",
   "metadata": {
    "execution": {
     "iopub.execute_input": "2022-08-14T07:46:21.148780Z",
     "iopub.status.busy": "2022-08-14T07:46:21.148456Z",
     "iopub.status.idle": "2022-08-14T07:46:21.700140Z",
     "shell.execute_reply": "2022-08-14T07:46:21.699413Z"
    },
    "papermill": {
     "duration": 0.56577,
     "end_time": "2022-08-14T07:46:21.701822",
     "exception": false,
     "start_time": "2022-08-14T07:46:21.136052",
     "status": "completed"
    },
    "tags": []
   },
   "outputs": [
    {
     "data": {
      "image/png": "[encoded data removed]",
      "text/plain": [
       "<Figure size 576x324 with 1 Axes>"
      ]
     },
     "metadata": {
      "needs_background": "light"
     },
     "output_type": "display_data"
    }
   ],
   "source": [
    "fig, ax = plt.subplots(figsize=(8, 4.5))\n",
    "engine_combined_eq.plot(ax=ax, logy=True)\n",
    "ax.set_title('Trend-following portfolio (YZ estimator + TREND signal)')\n",
    "ax.set_ylabel('Cumulative returns');"
   ]
  },
  {
   "cell_type": "code",
   "execution_count": 19,
   "id": "f2bf4c79",
   "metadata": {
    "execution": {
     "iopub.execute_input": "2022-08-14T07:46:21.754073Z",
     "iopub.status.busy": "2022-08-14T07:46:21.753354Z",
     "iopub.status.idle": "2022-08-14T07:46:21.830931Z",
     "shell.execute_reply": "2022-08-14T07:46:21.830281Z"
    },
    "papermill": {
     "duration": 0.118943,
     "end_time": "2022-08-14T07:46:21.832534",
     "exception": false,
     "start_time": "2022-08-14T07:46:21.713591",
     "status": "completed"
    },
    "tags": []
   },
   "outputs": [
    {
     "data": {
      "text/html": [
       "<div>\n",
       "<style scoped>\n",
       "    .dataframe tbody tr th:only-of-type {\n",
       "        vertical-align: middle;\n",
       "    }\n",
       "\n",
       "    .dataframe tbody tr th {\n",
       "        vertical-align: top;\n",
       "    }\n",
       "\n",
       "    .dataframe thead th {\n",
       "        text-align: right;\n",
       "    }\n",
       "</style>\n",
       "<table border=\"1\" class=\"dataframe\">\n",
       "  <thead>\n",
       "    <tr style=\"text-align: right;\">\n",
       "      <th></th>\n",
       "      <th>Trend-following portfolio (YZ estimator + TREND signal)</th>\n",
       "    </tr>\n",
       "  </thead>\n",
       "  <tbody>\n",
       "    <tr>\n",
       "      <th>CAGR</th>\n",
       "      <td>0.139787</td>\n",
       "    </tr>\n",
       "    <tr>\n",
       "      <th>Annualised vol</th>\n",
       "      <td>0.110669</td>\n",
       "    </tr>\n",
       "    <tr>\n",
       "      <th>Sharpe ratio</th>\n",
       "      <td>1.263101</td>\n",
       "    </tr>\n",
       "    <tr>\n",
       "      <th>Max drawdown</th>\n",
       "      <td>0.313945</td>\n",
       "    </tr>\n",
       "    <tr>\n",
       "      <th>Calmar ratio</th>\n",
       "      <td>0.445258</td>\n",
       "    </tr>\n",
       "    <tr>\n",
       "      <th>Skewness</th>\n",
       "      <td>0.292800</td>\n",
       "    </tr>\n",
       "    <tr>\n",
       "      <th>Kurtosis</th>\n",
       "      <td>32.535817</td>\n",
       "    </tr>\n",
       "    <tr>\n",
       "      <th>Worst return</th>\n",
       "      <td>-0.130152</td>\n",
       "    </tr>\n",
       "    <tr>\n",
       "      <th>Worst 1d return</th>\n",
       "      <td>-0.130152</td>\n",
       "    </tr>\n",
       "    <tr>\n",
       "      <th>Worst 1w return</th>\n",
       "      <td>-0.112097</td>\n",
       "    </tr>\n",
       "    <tr>\n",
       "      <th>Worst 1m return</th>\n",
       "      <td>-0.186272</td>\n",
       "    </tr>\n",
       "  </tbody>\n",
       "</table>\n",
       "</div>"
      ],
      "text/plain": [
       "                 Trend-following portfolio (YZ estimator + TREND signal)\n",
       "CAGR                                                      0.139787      \n",
       "Annualised vol                                            0.110669      \n",
       "Sharpe ratio                                              1.263101      \n",
       "Max drawdown                                              0.313945      \n",
       "Calmar ratio                                              0.445258      \n",
       "Skewness                                                  0.292800      \n",
       "Kurtosis                                                 32.535817      \n",
       "Worst return                                             -0.130152      \n",
       "Worst 1d return                                          -0.130152      \n",
       "Worst 1w return                                          -0.112097      \n",
       "Worst 1m return                                          -0.186272      "
      ]
     },
     "execution_count": 19,
     "metadata": {},
     "output_type": "execute_result"
    }
   ],
   "source": [
    "engine_combined_eq.pipe(Performance).summary()"
   ]
  },
  {
   "cell_type": "markdown",
   "id": "7f2ed2dd",
   "metadata": {
    "papermill": {
     "duration": 0.011776,
     "end_time": "2022-08-14T07:46:21.856457",
     "exception": false,
     "start_time": "2022-08-14T07:46:21.844681",
     "status": "completed"
    },
    "tags": []
   },
   "source": [
    "# Comparison\n",
    "\n",
    "In this section we compare the above 4 backtests."
   ]
  },
  {
   "cell_type": "markdown",
   "id": "607d8069",
   "metadata": {
    "papermill": {
     "duration": 0.011994,
     "end_time": "2022-08-14T07:46:21.880406",
     "exception": false,
     "start_time": "2022-08-14T07:46:21.868412",
     "status": "completed"
    },
    "tags": []
   },
   "source": [
    "## Performance\n",
    "\n",
    "As reported in BK2020, using the YZ estimator and TREND signal does not alter the performance characteristics. Rather, the TREND signal somewhat improves the Sharpe ratio. Also the TREND signal lowers the annualised volatility from 12.5% to 10.8% with the close-to-close realised volatility."
   ]
  },
  {
   "cell_type": "code",
   "execution_count": 20,
   "id": "47a5121a",
   "metadata": {
    "execution": {
     "iopub.execute_input": "2022-08-14T07:46:21.905546Z",
     "iopub.status.busy": "2022-08-14T07:46:21.905221Z",
     "iopub.status.idle": "2022-08-14T07:46:21.917989Z",
     "shell.execute_reply": "2022-08-14T07:46:21.917253Z"
    },
    "papermill": {
     "duration": 0.02746,
     "end_time": "2022-08-14T07:46:21.919850",
     "exception": false,
     "start_time": "2022-08-14T07:46:21.892390",
     "status": "completed"
    },
    "tags": []
   },
   "outputs": [],
   "source": [
    "performance_comp = pd.concat((engine_original_eq, engine_vol_eq, \n",
    "                              engine_trend_eq, engine_combined_eq), axis=1)"
   ]
  },
  {
   "cell_type": "code",
   "execution_count": 21,
   "id": "579b5799",
   "metadata": {
    "execution": {
     "iopub.execute_input": "2022-08-14T07:46:21.945177Z",
     "iopub.status.busy": "2022-08-14T07:46:21.944851Z",
     "iopub.status.idle": "2022-08-14T07:46:22.599615Z",
     "shell.execute_reply": "2022-08-14T07:46:22.598936Z"
    },
    "papermill": {
     "duration": 0.669304,
     "end_time": "2022-08-14T07:46:22.601225",
     "exception": false,
     "start_time": "2022-08-14T07:46:21.931921",
     "status": "completed"
    },
    "tags": []
   },
   "outputs": [
    {
     "data": {
      "image/png": "[encoded data removed]",
      "text/plain": [
       "<Figure size 576x324 with 1 Axes>"
      ]
     },
     "metadata": {
      "needs_background": "light"
     },
     "output_type": "display_data"
    }
   ],
   "source": [
    "fig, ax = plt.subplots(figsize=(8, 4.5))\n",
    "performance_comp.plot(ax=ax, logy=True);\n",
    "ax.set_title('Trend-following portfolio')\n",
    "ax.set_ylabel('Cumulative returns');"
   ]
  },
  {
   "cell_type": "code",
   "execution_count": 22,
   "id": "412a4f98",
   "metadata": {
    "execution": {
     "iopub.execute_input": "2022-08-14T07:46:22.622974Z",
     "iopub.status.busy": "2022-08-14T07:46:22.622346Z",
     "iopub.status.idle": "2022-08-14T07:46:22.708622Z",
     "shell.execute_reply": "2022-08-14T07:46:22.707880Z"
    },
    "papermill": {
     "duration": 0.097882,
     "end_time": "2022-08-14T07:46:22.710329",
     "exception": false,
     "start_time": "2022-08-14T07:46:22.612447",
     "status": "completed"
    },
    "tags": []
   },
   "outputs": [
    {
     "data": {
      "text/html": [
       "<div>\n",
       "<style scoped>\n",
       "    .dataframe tbody tr th:only-of-type {\n",
       "        vertical-align: middle;\n",
       "    }\n",
       "\n",
       "    .dataframe tbody tr th {\n",
       "        vertical-align: top;\n",
       "    }\n",
       "\n",
       "    .dataframe thead th {\n",
       "        text-align: right;\n",
       "    }\n",
       "</style>\n",
       "<table border=\"1\" class=\"dataframe\">\n",
       "  <thead>\n",
       "    <tr style=\"text-align: right;\">\n",
       "      <th></th>\n",
       "      <th>Trend-following portfolio (Moskowitz 2012)</th>\n",
       "      <th>Trend-following portfolio (YZ estimator)</th>\n",
       "      <th>Trend-following portfolio (TREND signal)</th>\n",
       "      <th>Trend-following portfolio (YZ estimator + TREND signal)</th>\n",
       "    </tr>\n",
       "  </thead>\n",
       "  <tbody>\n",
       "    <tr>\n",
       "      <th>CAGR</th>\n",
       "      <td>0.147206</td>\n",
       "      <td>0.148506</td>\n",
       "      <td>0.139330</td>\n",
       "      <td>0.139443</td>\n",
       "    </tr>\n",
       "    <tr>\n",
       "      <th>Annualised vol</th>\n",
       "      <td>0.124969</td>\n",
       "      <td>0.127103</td>\n",
       "      <td>0.107934</td>\n",
       "      <td>0.110534</td>\n",
       "    </tr>\n",
       "    <tr>\n",
       "      <th>Sharpe ratio</th>\n",
       "      <td>1.177943</td>\n",
       "      <td>1.168390</td>\n",
       "      <td>1.290882</td>\n",
       "      <td>1.261536</td>\n",
       "    </tr>\n",
       "    <tr>\n",
       "      <th>Max drawdown</th>\n",
       "      <td>0.259239</td>\n",
       "      <td>0.305877</td>\n",
       "      <td>0.294584</td>\n",
       "      <td>0.313945</td>\n",
       "    </tr>\n",
       "    <tr>\n",
       "      <th>Calmar ratio</th>\n",
       "      <td>0.567840</td>\n",
       "      <td>0.485510</td>\n",
       "      <td>0.472974</td>\n",
       "      <td>0.444164</td>\n",
       "    </tr>\n",
       "    <tr>\n",
       "      <th>Skewness</th>\n",
       "      <td>0.073253</td>\n",
       "      <td>0.281405</td>\n",
       "      <td>0.159246</td>\n",
       "      <td>0.293765</td>\n",
       "    </tr>\n",
       "    <tr>\n",
       "      <th>Kurtosis</th>\n",
       "      <td>19.350716</td>\n",
       "      <td>22.194752</td>\n",
       "      <td>28.014176</td>\n",
       "      <td>32.622379</td>\n",
       "    </tr>\n",
       "    <tr>\n",
       "      <th>Worst return</th>\n",
       "      <td>-0.126276</td>\n",
       "      <td>-0.137043</td>\n",
       "      <td>-0.121269</td>\n",
       "      <td>-0.130152</td>\n",
       "    </tr>\n",
       "    <tr>\n",
       "      <th>Worst 1d return</th>\n",
       "      <td>-0.126276</td>\n",
       "      <td>-0.137043</td>\n",
       "      <td>-0.121269</td>\n",
       "      <td>-0.130152</td>\n",
       "    </tr>\n",
       "    <tr>\n",
       "      <th>Worst 1w return</th>\n",
       "      <td>-0.107725</td>\n",
       "      <td>-0.098542</td>\n",
       "      <td>-0.110077</td>\n",
       "      <td>-0.112097</td>\n",
       "    </tr>\n",
       "    <tr>\n",
       "      <th>Worst 1m return</th>\n",
       "      <td>-0.152667</td>\n",
       "      <td>-0.169177</td>\n",
       "      <td>-0.171789</td>\n",
       "      <td>-0.186272</td>\n",
       "    </tr>\n",
       "  </tbody>\n",
       "</table>\n",
       "</div>"
      ],
      "text/plain": [
       "                 Trend-following portfolio (Moskowitz 2012)  \\\n",
       "CAGR                                               0.147206   \n",
       "Annualised vol                                     0.124969   \n",
       "Sharpe ratio                                       1.177943   \n",
       "Max drawdown                                       0.259239   \n",
       "Calmar ratio                                       0.567840   \n",
       "Skewness                                           0.073253   \n",
       "Kurtosis                                          19.350716   \n",
       "Worst return                                      -0.126276   \n",
       "Worst 1d return                                   -0.126276   \n",
       "Worst 1w return                                   -0.107725   \n",
       "Worst 1m return                                   -0.152667   \n",
       "\n",
       "                 Trend-following portfolio (YZ estimator)  \\\n",
       "CAGR                                             0.148506   \n",
       "Annualised vol                                   0.127103   \n",
       "Sharpe ratio                                     1.168390   \n",
       "Max drawdown                                     0.305877   \n",
       "Calmar ratio                                     0.485510   \n",
       "Skewness                                         0.281405   \n",
       "Kurtosis                                        22.194752   \n",
       "Worst return                                    -0.137043   \n",
       "Worst 1d return                                 -0.137043   \n",
       "Worst 1w return                                 -0.098542   \n",
       "Worst 1m return                                 -0.169177   \n",
       "\n",
       "                 Trend-following portfolio (TREND signal)  \\\n",
       "CAGR                                             0.139330   \n",
       "Annualised vol                                   0.107934   \n",
       "Sharpe ratio                                     1.290882   \n",
       "Max drawdown                                     0.294584   \n",
       "Calmar ratio                                     0.472974   \n",
       "Skewness                                         0.159246   \n",
       "Kurtosis                                        28.014176   \n",
       "Worst return                                    -0.121269   \n",
       "Worst 1d return                                 -0.121269   \n",
       "Worst 1w return                                 -0.110077   \n",
       "Worst 1m return                                 -0.171789   \n",
       "\n",
       "                 Trend-following portfolio (YZ estimator + TREND signal)  \n",
       "CAGR                                                      0.139443        \n",
       "Annualised vol                                            0.110534        \n",
       "Sharpe ratio                                              1.261536        \n",
       "Max drawdown                                              0.313945        \n",
       "Calmar ratio                                              0.444164        \n",
       "Skewness                                                  0.293765        \n",
       "Kurtosis                                                 32.622379        \n",
       "Worst return                                             -0.130152        \n",
       "Worst 1d return                                          -0.130152        \n",
       "Worst 1w return                                          -0.112097        \n",
       "Worst 1m return                                          -0.186272        "
      ]
     },
     "execution_count": 22,
     "metadata": {},
     "output_type": "execute_result"
    }
   ],
   "source": [
    "performance_comp.pipe(Performance).summary()"
   ]
  },
  {
   "cell_type": "markdown",
   "id": "89914945",
   "metadata": {
    "papermill": {
     "duration": 0.012514,
     "end_time": "2022-08-14T07:46:22.735590",
     "exception": false,
     "start_time": "2022-08-14T07:46:22.723076",
     "status": "completed"
    },
    "tags": []
   },
   "source": [
    "## Turnover reduction\n",
    "\n",
    "Again, as reported in BK2020, both enhancements reduce the turnover significantly while not affecting the performance. The chart below shows the reduction in turnover for each futures contract. By utilising the YZ realised volatility and the TREND signal, overall the turnover is reduced by more than 30%."
   ]
  },
  {
   "cell_type": "code",
   "execution_count": 23,
   "id": "60ae37e6",
   "metadata": {
    "execution": {
     "iopub.execute_input": "2022-08-14T07:46:22.761980Z",
     "iopub.status.busy": "2022-08-14T07:46:22.761652Z",
     "iopub.status.idle": "2022-08-14T07:51:18.242882Z",
     "shell.execute_reply": "2022-08-14T07:51:18.240332Z"
    },
    "papermill": {
     "duration": 295.496639,
     "end_time": "2022-08-14T07:51:18.244789",
     "exception": false,
     "start_time": "2022-08-14T07:46:22.748150",
     "status": "completed"
    },
    "tags": []
   },
   "outputs": [],
   "source": [
    "engine_original_pos = engine_original.get_position_by_instrument()\n",
    "engine_vol_pos = engine_vol.get_position_by_instrument()\n",
    "engine_trend_pos = engine_trend.get_position_by_instrument()\n",
    "engine_combined_pos = engine_combined.get_position_by_instrument()"
   ]
  },
  {
   "cell_type": "code",
   "execution_count": 24,
   "id": "82063cb1",
   "metadata": {
    "execution": {
     "iopub.execute_input": "2022-08-14T07:51:18.272024Z",
     "iopub.status.busy": "2022-08-14T07:51:18.271696Z",
     "iopub.status.idle": "2022-08-14T07:51:18.308504Z",
     "shell.execute_reply": "2022-08-14T07:51:18.307775Z"
    },
    "papermill": {
     "duration": 0.052602,
     "end_time": "2022-08-14T07:51:18.310340",
     "exception": false,
     "start_time": "2022-08-14T07:51:18.257738",
     "status": "completed"
    },
    "tags": []
   },
   "outputs": [],
   "source": [
    "engine_original_turnover = (engine_original_pos.diff().abs().mean().mul(261)\n",
    "                            .rename('Trend-following portfolio (Moskowitz 2012)'))\n",
    "engine_vol_turnover = (engine_vol_pos.diff().abs().mean().mul(261)\n",
    "                       .rename('Trend-following portfolio (YZ estimator)'))\n",
    "engine_trend_turnover = (engine_trend_pos.diff().abs().mean().mul(261)\n",
    "                         .rename('Trend-following portfolio (TREND signal)'))\n",
    "engine_combined_turnover = (engine_combined_pos.diff().abs().mean().mul(261)\n",
    "                            .rename('Trend-following portfolio (YZ estimator + TREND signal)'))"
   ]
  },
  {
   "cell_type": "code",
   "execution_count": 25,
   "id": "07dc2bbb",
   "metadata": {
    "execution": {
     "iopub.execute_input": "2022-08-14T07:51:18.340470Z",
     "iopub.status.busy": "2022-08-14T07:51:18.340199Z",
     "iopub.status.idle": "2022-08-14T07:51:18.347515Z",
     "shell.execute_reply": "2022-08-14T07:51:18.346733Z"
    },
    "papermill": {
     "duration": 0.02438,
     "end_time": "2022-08-14T07:51:18.349350",
     "exception": false,
     "start_time": "2022-08-14T07:51:18.324970",
     "status": "completed"
    },
    "tags": []
   },
   "outputs": [],
   "source": [
    "turnover_reduction = (\n",
    "    pd.concat((engine_vol_turnover, engine_trend_turnover, engine_combined_turnover), axis=1)\n",
    "    .div(engine_original_turnover, axis=0)\n",
    "    .sub(1)\n",
    "    .reindex(index=all_futures_baltas2020.index)\n",
    "    .rename(index=all_futures_baltas2020['name'])\n",
    ")"
   ]
  },
  {
   "cell_type": "code",
   "execution_count": 26,
   "id": "16cc8870",
   "metadata": {
    "execution": {
     "iopub.execute_input": "2022-08-14T07:51:18.376600Z",
     "iopub.status.busy": "2022-08-14T07:51:18.376329Z",
     "iopub.status.idle": "2022-08-14T07:51:18.383352Z",
     "shell.execute_reply": "2022-08-14T07:51:18.382683Z"
    },
    "papermill": {
     "duration": 0.022646,
     "end_time": "2022-08-14T07:51:18.385019",
     "exception": false,
     "start_time": "2022-08-14T07:51:18.362373",
     "status": "completed"
    },
    "tags": []
   },
   "outputs": [
    {
     "data": {
      "text/plain": [
       "Trend-following portfolio (YZ estimator)                  -0.181258\n",
       "Trend-following portfolio (TREND signal)                  -0.207246\n",
       "Trend-following portfolio (YZ estimator + TREND signal)   -0.330684\n",
       "dtype: float64"
      ]
     },
     "execution_count": 26,
     "metadata": {},
     "output_type": "execute_result"
    }
   ],
   "source": [
    "turnover_reduction.mean()"
   ]
  },
  {
   "cell_type": "code",
   "execution_count": 27,
   "id": "bf86a98b",
   "metadata": {
    "execution": {
     "iopub.execute_input": "2022-08-14T07:51:18.412172Z",
     "iopub.status.busy": "2022-08-14T07:51:18.411893Z",
     "iopub.status.idle": "2022-08-14T07:51:20.070236Z",
     "shell.execute_reply": "2022-08-14T07:51:20.069484Z"
    },
    "papermill": {
     "duration": 1.673951,
     "end_time": "2022-08-14T07:51:20.071903",
     "exception": false,
     "start_time": "2022-08-14T07:51:18.397952",
     "status": "completed"
    },
    "tags": []
   },
   "outputs": [
    {
     "data": {
      "image/png": "[encoded data removed]",
      "text/plain": [
       "<Figure size 1008x288 with 1 Axes>"
      ]
     },
     "metadata": {
      "needs_background": "light"
     },
     "output_type": "display_data"
    }
   ],
   "source": [
    "ax = turnover_reduction.plot(kind='bar', figsize=(14, 4))\n",
    "ax.yaxis.set_major_formatter(mticker.PercentFormatter(1))\n",
    "ax.axhline(0, color='black', lw=1)\n",
    "ax.axvline(24.5, color='black', lw=1)\n",
    "ax.axvline(30.5, color='black', lw=1)\n",
    "ax.axvline(42.5, color='black', lw=1)\n",
    "ax.set_xlabel('Contract')\n",
    "ax.set_ylabel('Turnover reduction');"
   ]
  },
  {
   "cell_type": "markdown",
   "id": "0ac46b4f",
   "metadata": {
    "papermill": {
     "duration": 0.013525,
     "end_time": "2022-08-14T07:51:20.099248",
     "exception": false,
     "start_time": "2022-08-14T07:51:20.085723",
     "status": "completed"
    },
    "tags": []
   },
   "source": [
    "# Recent performance"
   ]
  },
  {
   "cell_type": "code",
   "execution_count": 28,
   "id": "89dbbae6",
   "metadata": {
    "execution": {
     "iopub.execute_input": "2022-08-14T07:51:20.127609Z",
     "iopub.status.busy": "2022-08-14T07:51:20.127342Z",
     "iopub.status.idle": "2022-08-14T07:51:20.574597Z",
     "shell.execute_reply": "2022-08-14T07:51:20.573816Z"
    },
    "papermill": {
     "duration": 0.463583,
     "end_time": "2022-08-14T07:51:20.576388",
     "exception": false,
     "start_time": "2022-08-14T07:51:20.112805",
     "status": "completed"
    },
    "tags": []
   },
   "outputs": [
    {
     "data": {
      "image/png": "[encoded data removed]",
      "text/plain": [
       "<Figure size 576x324 with 1 Axes>"
      ]
     },
     "metadata": {
      "needs_background": "light"
     },
     "output_type": "display_data"
    }
   ],
   "source": [
    "fig, ax = plt.subplots(figsize=(8, 4.5))\n",
    "performance_comp.tail(252 * 2).pct_change().fillna(0).add(1).cumprod().plot(ax=ax, logy=True);\n",
    "ax.set_title('Trend-following portfolio')\n",
    "ax.set_ylabel('Cumulative returns');"
   ]
  },
  {
   "cell_type": "markdown",
   "id": "643fd338",
   "metadata": {
    "papermill": {
     "duration": 0.014331,
     "end_time": "2022-08-14T07:51:20.605168",
     "exception": false,
     "start_time": "2022-08-14T07:51:20.590837",
     "status": "completed"
    },
    "tags": []
   },
   "source": [
    "# Reference\n",
    "\n",
    "- Baltas, N. and Kosowski, R., 2020. Demystifying time-series momentum strategies: Volatility estimators, trading rules and pairwise correlations. Market Momentum: Theory and Practice\", Wiley.\n",
    "- Moskowitz, T.J., Ooi, Y.H. and Pedersen, L.H., 2012. Time series momentum. Journal of financial economics, 104(2), pp.228-250."
   ]
  },
  {
   "cell_type": "code",
   "execution_count": 29,
   "id": "96e2c167",
   "metadata": {
    "ExecuteTime": {
     "end_time": "2020-08-30T21:20:32.431574Z",
     "start_time": "2020-08-30T21:20:32.429370Z"
    },
    "execution": {
     "iopub.execute_input": "2022-08-14T07:51:20.635343Z",
     "iopub.status.busy": "2022-08-14T07:51:20.635017Z",
     "iopub.status.idle": "2022-08-14T07:51:20.639454Z",
     "shell.execute_reply": "2022-08-14T07:51:20.638679Z"
    },
    "papermill": {
     "duration": 0.021597,
     "end_time": "2022-08-14T07:51:20.641254",
     "exception": false,
     "start_time": "2022-08-14T07:51:20.619657",
     "status": "completed"
    },
    "tags": []
   },
   "outputs": [
    {
     "name": "stdout",
     "output_type": "stream",
     "text": [
      "Updated: 14-Aug-2022 07:51\n"
     ]
    }
   ],
   "source": [
    "print(f'Updated: {datetime.utcnow():%d-%b-%Y %H:%M}')"
   ]
  }
 ],
 "metadata": {
  "hide_input": false,
  "kernelspec": {
   "display_name": "Python 3",
   "language": "python",
   "name": "python3"
  },
  "language_info": {
   "codemirror_mode": {
    "name": "ipython",
    "version": 3
   },
   "file_extension": ".py",
   "mimetype": "text/x-python",
   "name": "python",
   "nbconvert_exporter": "python",
   "pygments_lexer": "ipython3",
   "version": "3.9.6"
  },
  "nav_menu": {},
  "papermill": {
   "duration": 5141.169265,
   "end_time": "2022-08-14T07:51:23.686913",
   "environment_variables": {},
   "exception": null,
   "input_path": "notebooks/papermill/trend_following_baltas2020.ipynb",
   "output_path": "notebooks/trend_following_baltas2020.ipynb",
   "parameters": {},
   "start_time": "2022-08-14T06:25:42.517648",
   "version": "2.1.3"
  },
  "toc": {
   "base_numbering": 1,
   "nav_menu": {},
   "number_sections": true,
   "sideBar": true,
   "skip_h1_title": false,
   "title_cell": "Table of Contents",
   "title_sidebar": "Contents",
   "toc_cell": true,
   "toc_position": {
    "height": "calc(100% - 180px)",
    "left": "10px",
    "top": "150px",
    "width": "165px"
   },
   "toc_section_display": "block",
   "toc_window_display": true
  }
 },
 "nbformat": 4,
 "nbformat_minor": 5
}