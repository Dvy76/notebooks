{
 "cells": [
  {
   "cell_type": "markdown",
   "id": "26858dd2",
   "metadata": {
    "papermill": {
     "duration": 0.016325,
     "end_time": "2022-08-04T06:26:00.044794",
     "exception": false,
     "start_time": "2022-08-04T06:26:00.028469",
     "status": "completed"
    },
    "tags": []
   },
   "source": [
    "# Trend-following\n",
    "\n",
    "This notebook implements a few improvements that Baltas and Kosowski (2020) (BK2020, hereafter) propose to the time-series momentum strategy which originally appeared in Moskowitz et al (2012).\n",
    "\n",
    "Note that like other notebooks, all backtests are performed by using a private library called `vivace`."
   ]
  },
  {
   "cell_type": "code",
   "execution_count": 1,
   "id": "40b84430",
   "metadata": {
    "ExecuteTime": {
     "end_time": "2020-08-30T21:08:49.524262Z",
     "start_time": "2020-08-30T21:08:48.720115Z"
    },
    "execution": {
     "iopub.execute_input": "2022-08-04T06:26:00.078027Z",
     "iopub.status.busy": "2022-08-04T06:26:00.077227Z",
     "iopub.status.idle": "2022-08-04T06:26:03.743765Z",
     "shell.execute_reply": "2022-08-04T06:26:03.742918Z"
    },
    "papermill": {
     "duration": 3.686207,
     "end_time": "2022-08-04T06:26:03.746506",
     "exception": false,
     "start_time": "2022-08-04T06:26:00.060299",
     "status": "completed"
    },
    "tags": []
   },
   "outputs": [],
   "source": [
    "%matplotlib inline\n",
    "from datetime import datetime\n",
    "import logging\n",
    "import warnings\n",
    "warnings.simplefilter(action='ignore', category=FutureWarning)\n",
    "\n",
    "import pandas as pd\n",
    "import matplotlib.pyplot as plt\n",
    "import matplotlib.ticker as mticker\n",
    "plt.style.use('bmh')\n",
    "\n",
    "from vivace.backtest import signal\n",
    "from vivace.backtest import processing\n",
    "from vivace.backtest.contract import all_futures_baltas2020\n",
    "from vivace.backtest.engine import BacktestEngine\n",
    "from vivace.backtest.enums import Strategy, Weighting, RealisedVolatility\n",
    "from vivace.backtest.stats import Performance"
   ]
  },
  {
   "cell_type": "markdown",
   "id": "eea9b694",
   "metadata": {
    "papermill": {
     "duration": 0.015349,
     "end_time": "2022-08-04T06:26:03.777353",
     "exception": false,
     "start_time": "2022-08-04T06:26:03.762004",
     "status": "completed"
    },
    "tags": []
   },
   "source": [
    "# Data"
   ]
  },
  {
   "cell_type": "code",
   "execution_count": 2,
   "id": "22b70b18",
   "metadata": {
    "ExecuteTime": {
     "end_time": "2020-08-30T21:08:49.529214Z",
     "start_time": "2020-08-30T21:08:49.525465Z"
    },
    "execution": {
     "iopub.execute_input": "2022-08-04T06:26:03.808371Z",
     "iopub.status.busy": "2022-08-04T06:26:03.807744Z",
     "iopub.status.idle": "2022-08-04T06:26:03.817944Z",
     "shell.execute_reply": "2022-08-04T06:26:03.817059Z"
    },
    "papermill": {
     "duration": 0.028315,
     "end_time": "2022-08-04T06:26:03.820840",
     "exception": false,
     "start_time": "2022-08-04T06:26:03.792525",
     "status": "completed"
    },
    "tags": []
   },
   "outputs": [
    {
     "data": {
      "text/plain": [
       "array(['WTI Crude Oil', 'Brent Crude Oil', 'Heating Oil', 'Natural Gas',\n",
       "       'Gasoline', 'Copper', 'Gold', 'Palladium', 'Platinum', 'Silver',\n",
       "       'Feeder Cattle', 'Live Cattle', 'Lean Hog', 'Corn', 'Oats',\n",
       "       'Soybean Oil', 'Soybean Meal', 'Soybean', 'Wheat', 'Cocoa',\n",
       "       'Coffee', 'Cotton', 'Lumber', 'Orange Juice', 'Sugar',\n",
       "       'Australian Dollar', 'Canadian Dollar', 'Swiss Franc', 'Euro',\n",
       "       'British Pound', 'Japanese Yen', 'E-Mini Nasdaq 100',\n",
       "       'E-mini S&P 500', 'E-mini Russell 2000', 'FTSE 100', 'DAX',\n",
       "       'CAC 40', 'IBEX 35', 'AEX', 'Swiss Market Index', 'SPI 200',\n",
       "       'Topix', 'Hang Seng', 'US 2-year Treasury', 'US 5-year Treasury',\n",
       "       'US 10-year Treasury', 'US treasury Bond', 'Germany Schatz',\n",
       "       'Germany Bobl', 'Germany Bund', 'Germany Buxl', 'Gilt',\n",
       "       'Canada 10-year Treasury', 'JGB'], dtype=object)"
      ]
     },
     "execution_count": 2,
     "metadata": {},
     "output_type": "execute_result"
    }
   ],
   "source": [
    "all_futures_baltas2020['name'].values"
   ]
  },
  {
   "cell_type": "code",
   "execution_count": 3,
   "id": "960055c3",
   "metadata": {
    "ExecuteTime": {
     "end_time": "2020-08-30T21:08:49.542477Z",
     "start_time": "2020-08-30T21:08:49.530487Z"
    },
    "execution": {
     "iopub.execute_input": "2022-08-04T06:26:03.884046Z",
     "iopub.status.busy": "2022-08-04T06:26:03.883758Z",
     "iopub.status.idle": "2022-08-04T06:26:03.888161Z",
     "shell.execute_reply": "2022-08-04T06:26:03.887438Z"
    },
    "papermill": {
     "duration": 0.056647,
     "end_time": "2022-08-04T06:26:03.891119",
     "exception": false,
     "start_time": "2022-08-04T06:26:03.834472",
     "status": "completed"
    },
    "tags": []
   },
   "outputs": [
    {
     "name": "stdout",
     "output_type": "stream",
     "text": [
      "54\n"
     ]
    }
   ],
   "source": [
    "print(len(all_futures_baltas2020))"
   ]
  },
  {
   "cell_type": "markdown",
   "id": "b80ee163",
   "metadata": {
    "papermill": {
     "duration": 0.015687,
     "end_time": "2022-08-04T06:26:03.922822",
     "exception": false,
     "start_time": "2022-08-04T06:26:03.907135",
     "status": "completed"
    },
    "tags": []
   },
   "source": [
    "We try to use the same contract as the original paper where possible, resulting 54 futures contracts to analyse. The trading universe covers a wide range of asset classes and regions, and is made up of following instruments:\n",
    "- Equity index futures\n",
    "- Government bond futures\n",
    "- FX futures\n",
    "- Commodity futures\n",
    "\n",
    "where the same trend detection method is applied."
   ]
  },
  {
   "cell_type": "markdown",
   "id": "08fcc887",
   "metadata": {
    "papermill": {
     "duration": 0.015726,
     "end_time": "2022-08-04T06:26:03.954057",
     "exception": false,
     "start_time": "2022-08-04T06:26:03.938331",
     "status": "completed"
    },
    "tags": []
   },
   "source": [
    "# Performance\n"
   ]
  },
  {
   "cell_type": "markdown",
   "id": "f8319e18",
   "metadata": {
    "papermill": {
     "duration": 0.016063,
     "end_time": "2022-08-04T06:26:03.985459",
     "exception": false,
     "start_time": "2022-08-04T06:26:03.969396",
     "status": "completed"
    },
    "tags": []
   },
   "source": [
    "## Moskowitz et al\n",
    "\n",
    "First we calculate the original trend-following portfolio with a more traditional close-to-close realised volatility estimator. Although Moskowitz et al uses the exponentially weighted standard deviation, BK2020 appears to compare against the rolling standard deviation."
   ]
  },
  {
   "cell_type": "code",
   "execution_count": 4,
   "id": "fd93bb70",
   "metadata": {
    "execution": {
     "iopub.execute_input": "2022-08-04T06:26:04.017937Z",
     "iopub.status.busy": "2022-08-04T06:26:04.017470Z",
     "iopub.status.idle": "2022-08-04T06:37:45.864910Z",
     "shell.execute_reply": "2022-08-04T06:37:45.864055Z"
    },
    "papermill": {
     "duration": 701.867165,
     "end_time": "2022-08-04T06:37:45.867904",
     "exception": false,
     "start_time": "2022-08-04T06:26:04.000739",
     "status": "completed"
    },
    "tags": []
   },
   "outputs": [],
   "source": [
    "engine_original = BacktestEngine(\n",
    "    strategy=Strategy.DELTA_ONE.value,\n",
    "    instrument=all_futures_baltas2020.index,\n",
    "    signal=signal.ParallelSignal([\n",
    "        signal.VolatilityScale(agg_method='rolling', window=21, ann_factor=261, \n",
    "                               target_volatility=0.4, signal_cap=0.95),\n",
    "        signal.TSMOMMoskowitz2012(post_process=processing.AsFreq(freq='m', method='pad'))\n",
    "    ], weighting='product'),\n",
    "    weighting=Weighting.EQUAL_WEIGHT.value,\n",
    "    log_level=logging.WARN,\n",
    ")\n",
    "engine_original.run()"
   ]
  },
  {
   "cell_type": "code",
   "execution_count": 5,
   "id": "1c2ab805",
   "metadata": {
    "execution": {
     "iopub.execute_input": "2022-08-04T06:37:45.902192Z",
     "iopub.status.busy": "2022-08-04T06:37:45.901252Z",
     "iopub.status.idle": "2022-08-04T06:39:13.709929Z",
     "shell.execute_reply": "2022-08-04T06:39:13.709082Z"
    },
    "papermill": {
     "duration": 87.82862,
     "end_time": "2022-08-04T06:39:13.712664",
     "exception": false,
     "start_time": "2022-08-04T06:37:45.884044",
     "status": "completed"
    },
    "tags": []
   },
   "outputs": [],
   "source": [
    "engine_original_eq = (engine_original.calculate_equity_curve(calculate_net=False, rebalance_freq='m')\n",
    "                      .rename('Trend-following portfolio (Moskowitz 2012)'))"
   ]
  },
  {
   "cell_type": "code",
   "execution_count": 6,
   "id": "b4b99b1d",
   "metadata": {
    "execution": {
     "iopub.execute_input": "2022-08-04T06:39:13.745083Z",
     "iopub.status.busy": "2022-08-04T06:39:13.744654Z",
     "iopub.status.idle": "2022-08-04T06:39:14.616015Z",
     "shell.execute_reply": "2022-08-04T06:39:14.615003Z"
    },
    "papermill": {
     "duration": 0.890713,
     "end_time": "2022-08-04T06:39:14.618811",
     "exception": false,
     "start_time": "2022-08-04T06:39:13.728098",
     "status": "completed"
    },
    "tags": []
   },
   "outputs": [
    {
     "data": {
      "image/png": "[encoded data removed]",
      "text/plain": [
       "<Figure size 576x324 with 1 Axes>"
      ]
     },
     "metadata": {
      "needs_background": "light"
     },
     "output_type": "display_data"
    }
   ],
   "source": [
    "fig, ax = plt.subplots(figsize=(8, 4.5))\n",
    "engine_original_eq.plot(ax=ax, logy=True)\n",
    "ax.set_title('Trend-following portfolio (Moskowitz 2012)')\n",
    "ax.set_ylabel('Cumulative returns');"
   ]
  },
  {
   "cell_type": "code",
   "execution_count": 7,
   "id": "a83bfc7c",
   "metadata": {
    "execution": {
     "iopub.execute_input": "2022-08-04T06:39:14.645973Z",
     "iopub.status.busy": "2022-08-04T06:39:14.645668Z",
     "iopub.status.idle": "2022-08-04T06:39:14.736931Z",
     "shell.execute_reply": "2022-08-04T06:39:14.736133Z"
    },
    "papermill": {
     "duration": 0.107003,
     "end_time": "2022-08-04T06:39:14.739391",
     "exception": false,
     "start_time": "2022-08-04T06:39:14.632388",
     "status": "completed"
    },
    "tags": []
   },
   "outputs": [
    {
     "data": {
      "text/html": [
       "<div>\n",
       "<style scoped>\n",
       "    .dataframe tbody tr th:only-of-type {\n",
       "        vertical-align: middle;\n",
       "    }\n",
       "\n",
       "    .dataframe tbody tr th {\n",
       "        vertical-align: top;\n",
       "    }\n",
       "\n",
       "    .dataframe thead th {\n",
       "        text-align: right;\n",
       "    }\n",
       "</style>\n",
       "<table border=\"1\" class=\"dataframe\">\n",
       "  <thead>\n",
       "    <tr style=\"text-align: right;\">\n",
       "      <th></th>\n",
       "      <th>Trend-following portfolio (Moskowitz 2012)</th>\n",
       "    </tr>\n",
       "  </thead>\n",
       "  <tbody>\n",
       "    <tr>\n",
       "      <th>CAGR</th>\n",
       "      <td>0.147169</td>\n",
       "    </tr>\n",
       "    <tr>\n",
       "      <th>Annualised vol</th>\n",
       "      <td>0.124965</td>\n",
       "    </tr>\n",
       "    <tr>\n",
       "      <th>Sharpe ratio</th>\n",
       "      <td>1.177677</td>\n",
       "    </tr>\n",
       "    <tr>\n",
       "      <th>Max drawdown</th>\n",
       "      <td>0.259239</td>\n",
       "    </tr>\n",
       "    <tr>\n",
       "      <th>Calmar ratio</th>\n",
       "      <td>0.567694</td>\n",
       "    </tr>\n",
       "    <tr>\n",
       "      <th>Skewness</th>\n",
       "      <td>0.073257</td>\n",
       "    </tr>\n",
       "    <tr>\n",
       "      <th>Kurtosis</th>\n",
       "      <td>19.362326</td>\n",
       "    </tr>\n",
       "    <tr>\n",
       "      <th>Worst return</th>\n",
       "      <td>-0.126276</td>\n",
       "    </tr>\n",
       "    <tr>\n",
       "      <th>Worst 1d return</th>\n",
       "      <td>-0.126276</td>\n",
       "    </tr>\n",
       "    <tr>\n",
       "      <th>Worst 1w return</th>\n",
       "      <td>-0.107725</td>\n",
       "    </tr>\n",
       "    <tr>\n",
       "      <th>Worst 1m return</th>\n",
       "      <td>-0.152667</td>\n",
       "    </tr>\n",
       "  </tbody>\n",
       "</table>\n",
       "</div>"
      ],
      "text/plain": [
       "                 Trend-following portfolio (Moskowitz 2012)\n",
       "CAGR                                               0.147169\n",
       "Annualised vol                                     0.124965\n",
       "Sharpe ratio                                       1.177677\n",
       "Max drawdown                                       0.259239\n",
       "Calmar ratio                                       0.567694\n",
       "Skewness                                           0.073257\n",
       "Kurtosis                                          19.362326\n",
       "Worst return                                      -0.126276\n",
       "Worst 1d return                                   -0.126276\n",
       "Worst 1w return                                   -0.107725\n",
       "Worst 1m return                                   -0.152667"
      ]
     },
     "execution_count": 7,
     "metadata": {},
     "output_type": "execute_result"
    }
   ],
   "source": [
    "engine_original_eq.pipe(Performance).summary()"
   ]
  },
  {
   "cell_type": "markdown",
   "id": "710f330a",
   "metadata": {
    "papermill": {
     "duration": 0.016166,
     "end_time": "2022-08-04T06:39:14.771883",
     "exception": false,
     "start_time": "2022-08-04T06:39:14.755717",
     "status": "completed"
    },
    "tags": []
   },
   "source": [
    "\n",
    "## Volatility estimator\n",
    "BK2020 proposes a few changes in order to enhance the original trend-following strategy Moskowitz et al reported. The first thing is to use a more sophisticated realised volatility estimators for volatility scaling. Moskowitz used the exponentially weighted standard deviation with close-to-close. On the other hand, BK2020 suggests to use Yang-Zhang estimator as it is much more efficient."
   ]
  },
  {
   "cell_type": "code",
   "execution_count": 8,
   "id": "8e6d58be",
   "metadata": {
    "ExecuteTime": {
     "end_time": "2020-08-30T21:18:24.661167Z",
     "start_time": "2020-08-30T21:08:49.544232Z"
    },
    "execution": {
     "iopub.execute_input": "2022-08-04T06:39:14.803150Z",
     "iopub.status.busy": "2022-08-04T06:39:14.802667Z",
     "iopub.status.idle": "2022-08-04T07:00:10.903113Z",
     "shell.execute_reply": "2022-08-04T07:00:10.902328Z"
    },
    "papermill": {
     "duration": 1256.117932,
     "end_time": "2022-08-04T07:00:10.905870",
     "exception": false,
     "start_time": "2022-08-04T06:39:14.787938",
     "status": "completed"
    },
    "tags": []
   },
   "outputs": [],
   "source": [
    "engine_vol = BacktestEngine(\n",
    "    strategy=Strategy.DELTA_ONE.value,\n",
    "    instrument=all_futures_baltas2020.index,\n",
    "    signal=signal.ParallelSignal([\n",
    "        signal.VolatilityScale(volatility_type=RealisedVolatility.YZ.value,\n",
    "                               agg_method='rolling', window=21, min_periods=10,\n",
    "                               target_volatility=0.4, signal_cap=0.95, ann_factor=261),\n",
    "        signal.TSMOMMoskowitz2012(post_process=processing.AsFreq(freq='m', method='pad'))\n",
    "    ], weighting='product'),\n",
    "    weighting=Weighting.EQUAL_WEIGHT.value,\n",
    "    log_level=logging.WARN,\n",
    ")\n",
    "engine_vol.run()"
   ]
  },
  {
   "cell_type": "code",
   "execution_count": 9,
   "id": "de77f374",
   "metadata": {
    "execution": {
     "iopub.execute_input": "2022-08-04T07:00:10.940961Z",
     "iopub.status.busy": "2022-08-04T07:00:10.940685Z",
     "iopub.status.idle": "2022-08-04T07:01:30.693346Z",
     "shell.execute_reply": "2022-08-04T07:01:30.692620Z"
    },
    "papermill": {
     "duration": 79.772442,
     "end_time": "2022-08-04T07:01:30.695221",
     "exception": false,
     "start_time": "2022-08-04T07:00:10.922779",
     "status": "completed"
    },
    "tags": []
   },
   "outputs": [],
   "source": [
    "engine_vol_eq = (engine_vol.calculate_equity_curve(calculate_net=False, rebalance_freq='m')\n",
    "                 .rename('Trend-following portfolio (YZ estimator)'))"
   ]
  },
  {
   "cell_type": "code",
   "execution_count": 10,
   "id": "6f728042",
   "metadata": {
    "execution": {
     "iopub.execute_input": "2022-08-04T07:01:30.718422Z",
     "iopub.status.busy": "2022-08-04T07:01:30.718147Z",
     "iopub.status.idle": "2022-08-04T07:01:31.382749Z",
     "shell.execute_reply": "2022-08-04T07:01:31.381903Z"
    },
    "papermill": {
     "duration": 0.678226,
     "end_time": "2022-08-04T07:01:31.384769",
     "exception": false,
     "start_time": "2022-08-04T07:01:30.706543",
     "status": "completed"
    },
    "tags": []
   },
   "outputs": [
    {
     "data": {
      "image/png": "[encoded data removed]",
      "text/plain": [
       "<Figure size 576x324 with 1 Axes>"
      ]
     },
     "metadata": {
      "needs_background": "light"
     },
     "output_type": "display_data"
    }
   ],
   "source": [
    "fig, ax = plt.subplots(figsize=(8, 4.5))\n",
    "engine_vol_eq.plot(ax=ax, logy=True);\n",
    "ax.set_title('Trend-following portfolio (YZ estimator)')\n",
    "ax.set_ylabel('Cumulative returns');"
   ]
  },
  {
   "cell_type": "code",
   "execution_count": 11,
   "id": "0f41e3c5",
   "metadata": {
    "execution": {
     "iopub.execute_input": "2022-08-04T07:01:31.409088Z",
     "iopub.status.busy": "2022-08-04T07:01:31.408703Z",
     "iopub.status.idle": "2022-08-04T07:01:31.516782Z",
     "shell.execute_reply": "2022-08-04T07:01:31.515974Z"
    },
    "papermill": {
     "duration": 0.122347,
     "end_time": "2022-08-04T07:01:31.518619",
     "exception": false,
     "start_time": "2022-08-04T07:01:31.396272",
     "status": "completed"
    },
    "tags": []
   },
   "outputs": [
    {
     "data": {
      "text/html": [
       "<div>\n",
       "<style scoped>\n",
       "    .dataframe tbody tr th:only-of-type {\n",
       "        vertical-align: middle;\n",
       "    }\n",
       "\n",
       "    .dataframe tbody tr th {\n",
       "        vertical-align: top;\n",
       "    }\n",
       "\n",
       "    .dataframe thead th {\n",
       "        text-align: right;\n",
       "    }\n",
       "</style>\n",
       "<table border=\"1\" class=\"dataframe\">\n",
       "  <thead>\n",
       "    <tr style=\"text-align: right;\">\n",
       "      <th></th>\n",
       "      <th>Trend-following portfolio (YZ estimator)</th>\n",
       "    </tr>\n",
       "  </thead>\n",
       "  <tbody>\n",
       "    <tr>\n",
       "      <th>CAGR</th>\n",
       "      <td>0.148811</td>\n",
       "    </tr>\n",
       "    <tr>\n",
       "      <th>Annualised vol</th>\n",
       "      <td>0.127258</td>\n",
       "    </tr>\n",
       "    <tr>\n",
       "      <th>Sharpe ratio</th>\n",
       "      <td>1.169364</td>\n",
       "    </tr>\n",
       "    <tr>\n",
       "      <th>Max drawdown</th>\n",
       "      <td>0.305877</td>\n",
       "    </tr>\n",
       "    <tr>\n",
       "      <th>Calmar ratio</th>\n",
       "      <td>0.486507</td>\n",
       "    </tr>\n",
       "    <tr>\n",
       "      <th>Skewness</th>\n",
       "      <td>0.280601</td>\n",
       "    </tr>\n",
       "    <tr>\n",
       "      <th>Kurtosis</th>\n",
       "      <td>22.143964</td>\n",
       "    </tr>\n",
       "    <tr>\n",
       "      <th>Worst return</th>\n",
       "      <td>-0.137043</td>\n",
       "    </tr>\n",
       "    <tr>\n",
       "      <th>Worst 1d return</th>\n",
       "      <td>-0.137043</td>\n",
       "    </tr>\n",
       "    <tr>\n",
       "      <th>Worst 1w return</th>\n",
       "      <td>-0.098542</td>\n",
       "    </tr>\n",
       "    <tr>\n",
       "      <th>Worst 1m return</th>\n",
       "      <td>-0.169177</td>\n",
       "    </tr>\n",
       "  </tbody>\n",
       "</table>\n",
       "</div>"
      ],
      "text/plain": [
       "                 Trend-following portfolio (YZ estimator)\n",
       "CAGR                                             0.148811\n",
       "Annualised vol                                   0.127258\n",
       "Sharpe ratio                                     1.169364\n",
       "Max drawdown                                     0.305877\n",
       "Calmar ratio                                     0.486507\n",
       "Skewness                                         0.280601\n",
       "Kurtosis                                        22.143964\n",
       "Worst return                                    -0.137043\n",
       "Worst 1d return                                 -0.137043\n",
       "Worst 1w return                                 -0.098542\n",
       "Worst 1m return                                 -0.169177"
      ]
     },
     "execution_count": 11,
     "metadata": {},
     "output_type": "execute_result"
    }
   ],
   "source": [
    "engine_vol_eq.pipe(Performance).summary()"
   ]
  },
  {
   "cell_type": "markdown",
   "id": "e64de21d",
   "metadata": {
    "papermill": {
     "duration": 0.011652,
     "end_time": "2022-08-04T07:01:31.541672",
     "exception": false,
     "start_time": "2022-08-04T07:01:31.530020",
     "status": "completed"
    },
    "tags": []
   },
   "source": [
    "## TREND signal\n",
    "\n",
    "Another improvement BK2020 proposes is to use a continuous signal rather than a binary one in order to reduce the turnover when signals are weak. Specifically they used the t-values with the Newey-West standard error as the signal. They further capped and floored the signal between -1 and +1 to avoid extreme positions.\n",
    "\n",
    "`statsmodels`'s `OLS` class provides a method to compute the Newey-West standard error. https://www.statsmodels.org/stable/generated/statsmodels.regression.linear_model.OLS.html"
   ]
  },
  {
   "cell_type": "code",
   "execution_count": 12,
   "id": "20ad85c9",
   "metadata": {
    "execution": {
     "iopub.execute_input": "2022-08-04T07:01:31.565941Z",
     "iopub.status.busy": "2022-08-04T07:01:31.565673Z",
     "iopub.status.idle": "2022-08-04T07:19:24.451487Z",
     "shell.execute_reply": "2022-08-04T07:19:24.450727Z"
    },
    "papermill": {
     "duration": 1072.900903,
     "end_time": "2022-08-04T07:19:24.453931",
     "exception": false,
     "start_time": "2022-08-04T07:01:31.553028",
     "status": "completed"
    },
    "tags": []
   },
   "outputs": [],
   "source": [
    "engine_trend = BacktestEngine(\n",
    "    strategy=Strategy.DELTA_ONE.value,\n",
    "    instrument=all_futures_baltas2020.index,\n",
    "    signal=signal.ParallelSignal([\n",
    "        signal.VolatilityScale(agg_method='rolling', window=21, ann_factor=261, \n",
    "                               target_volatility=0.4, signal_cap=0.95),\n",
    "        signal.TSMOMBaltas2020()\n",
    "    ], weighting='product'),\n",
    "    weighting=Weighting.EQUAL_WEIGHT.value,\n",
    "    log_level=logging.WARN,\n",
    ")\n",
    "engine_trend.run()"
   ]
  },
  {
   "cell_type": "code",
   "execution_count": 13,
   "id": "8cad616b",
   "metadata": {
    "execution": {
     "iopub.execute_input": "2022-08-04T07:19:24.487427Z",
     "iopub.status.busy": "2022-08-04T07:19:24.487146Z",
     "iopub.status.idle": "2022-08-04T07:20:53.289769Z",
     "shell.execute_reply": "2022-08-04T07:20:53.288549Z"
    },
    "papermill": {
     "duration": 88.822585,
     "end_time": "2022-08-04T07:20:53.292696",
     "exception": false,
     "start_time": "2022-08-04T07:19:24.470111",
     "status": "completed"
    },
    "tags": []
   },
   "outputs": [],
   "source": [
    "engine_trend_eq = (engine_trend.calculate_equity_curve(calculate_net=False, rebalance_freq='m')\n",
    "                   .rename('Trend-following portfolio (TREND signal)'))"
   ]
  },
  {
   "cell_type": "code",
   "execution_count": 14,
   "id": "58da86cf",
   "metadata": {
    "execution": {
     "iopub.execute_input": "2022-08-04T07:20:53.343485Z",
     "iopub.status.busy": "2022-08-04T07:20:53.343128Z",
     "iopub.status.idle": "2022-08-04T07:20:53.990080Z",
     "shell.execute_reply": "2022-08-04T07:20:53.989189Z"
    },
    "papermill": {
     "duration": 0.667487,
     "end_time": "2022-08-04T07:20:53.992402",
     "exception": false,
     "start_time": "2022-08-04T07:20:53.324915",
     "status": "completed"
    },
    "tags": []
   },
   "outputs": [
    {
     "data": {
      "image/png": "[encoded data removed]",
      "text/plain": [
       "<Figure size 576x324 with 1 Axes>"
      ]
     },
     "metadata": {
      "needs_background": "light"
     },
     "output_type": "display_data"
    }
   ],
   "source": [
    "fig, ax = plt.subplots(figsize=(8, 4.5))\n",
    "engine_trend_eq.plot(ax=ax, logy=True);\n",
    "ax.set_title('Trend-following portfolio (TREND signal)')\n",
    "ax.set_ylabel('Cumulative returns');"
   ]
  },
  {
   "cell_type": "code",
   "execution_count": 15,
   "id": "a4f2e0e3",
   "metadata": {
    "execution": {
     "iopub.execute_input": "2022-08-04T07:20:54.026547Z",
     "iopub.status.busy": "2022-08-04T07:20:54.026089Z",
     "iopub.status.idle": "2022-08-04T07:20:54.118147Z",
     "shell.execute_reply": "2022-08-04T07:20:54.117401Z"
    },
    "papermill": {
     "duration": 0.111889,
     "end_time": "2022-08-04T07:20:54.120548",
     "exception": false,
     "start_time": "2022-08-04T07:20:54.008659",
     "status": "completed"
    },
    "tags": []
   },
   "outputs": [
    {
     "data": {
      "text/html": [
       "<div>\n",
       "<style scoped>\n",
       "    .dataframe tbody tr th:only-of-type {\n",
       "        vertical-align: middle;\n",
       "    }\n",
       "\n",
       "    .dataframe tbody tr th {\n",
       "        vertical-align: top;\n",
       "    }\n",
       "\n",
       "    .dataframe thead th {\n",
       "        text-align: right;\n",
       "    }\n",
       "</style>\n",
       "<table border=\"1\" class=\"dataframe\">\n",
       "  <thead>\n",
       "    <tr style=\"text-align: right;\">\n",
       "      <th></th>\n",
       "      <th>Trend-following portfolio (TREND signal)</th>\n",
       "    </tr>\n",
       "  </thead>\n",
       "  <tbody>\n",
       "    <tr>\n",
       "      <th>CAGR</th>\n",
       "      <td>0.139226</td>\n",
       "    </tr>\n",
       "    <tr>\n",
       "      <th>Annualised vol</th>\n",
       "      <td>0.107930</td>\n",
       "    </tr>\n",
       "    <tr>\n",
       "      <th>Sharpe ratio</th>\n",
       "      <td>1.289965</td>\n",
       "    </tr>\n",
       "    <tr>\n",
       "      <th>Max drawdown</th>\n",
       "      <td>0.294584</td>\n",
       "    </tr>\n",
       "    <tr>\n",
       "      <th>Calmar ratio</th>\n",
       "      <td>0.472620</td>\n",
       "    </tr>\n",
       "    <tr>\n",
       "      <th>Skewness</th>\n",
       "      <td>0.159258</td>\n",
       "    </tr>\n",
       "    <tr>\n",
       "      <th>Kurtosis</th>\n",
       "      <td>28.031377</td>\n",
       "    </tr>\n",
       "    <tr>\n",
       "      <th>Worst return</th>\n",
       "      <td>-0.121269</td>\n",
       "    </tr>\n",
       "    <tr>\n",
       "      <th>Worst 1d return</th>\n",
       "      <td>-0.121269</td>\n",
       "    </tr>\n",
       "    <tr>\n",
       "      <th>Worst 1w return</th>\n",
       "      <td>-0.110077</td>\n",
       "    </tr>\n",
       "    <tr>\n",
       "      <th>Worst 1m return</th>\n",
       "      <td>-0.171789</td>\n",
       "    </tr>\n",
       "  </tbody>\n",
       "</table>\n",
       "</div>"
      ],
      "text/plain": [
       "                 Trend-following portfolio (TREND signal)\n",
       "CAGR                                             0.139226\n",
       "Annualised vol                                   0.107930\n",
       "Sharpe ratio                                     1.289965\n",
       "Max drawdown                                     0.294584\n",
       "Calmar ratio                                     0.472620\n",
       "Skewness                                         0.159258\n",
       "Kurtosis                                        28.031377\n",
       "Worst return                                    -0.121269\n",
       "Worst 1d return                                 -0.121269\n",
       "Worst 1w return                                 -0.110077\n",
       "Worst 1m return                                 -0.171789"
      ]
     },
     "execution_count": 15,
     "metadata": {},
     "output_type": "execute_result"
    }
   ],
   "source": [
    "engine_trend_eq.pipe(Performance).summary()"
   ]
  },
  {
   "cell_type": "markdown",
   "id": "46f3992c",
   "metadata": {
    "papermill": {
     "duration": 0.016324,
     "end_time": "2022-08-04T07:20:54.153417",
     "exception": false,
     "start_time": "2022-08-04T07:20:54.137093",
     "status": "completed"
    },
    "tags": []
   },
   "source": [
    "## Combined\n",
    "\n",
    "Finally we run a backtest by using both the Yang-Zhang volatility estimator and the TREND signal."
   ]
  },
  {
   "cell_type": "code",
   "execution_count": 16,
   "id": "c75d9204",
   "metadata": {
    "execution": {
     "iopub.execute_input": "2022-08-04T07:20:54.188163Z",
     "iopub.status.busy": "2022-08-04T07:20:54.187797Z",
     "iopub.status.idle": "2022-08-04T07:47:08.481791Z",
     "shell.execute_reply": "2022-08-04T07:47:08.481062Z"
    },
    "papermill": {
     "duration": 1574.313706,
     "end_time": "2022-08-04T07:47:08.483707",
     "exception": false,
     "start_time": "2022-08-04T07:20:54.170001",
     "status": "completed"
    },
    "tags": []
   },
   "outputs": [],
   "source": [
    "engine_combined = BacktestEngine(\n",
    "    strategy=Strategy.DELTA_ONE.value,\n",
    "    instrument=all_futures_baltas2020.index,\n",
    "    signal=signal.ParallelSignal([\n",
    "        signal.VolatilityScale(volatility_type=RealisedVolatility.YZ.value,\n",
    "                               agg_method='rolling', window=21, min_periods=10,\n",
    "                               target_volatility=0.4, signal_cap=0.95, ann_factor=261),\n",
    "        signal.TSMOMBaltas2020()\n",
    "    ], weighting='product'),\n",
    "    weighting=Weighting.EQUAL_WEIGHT.value,\n",
    "    log_level=logging.WARN,\n",
    ")\n",
    "engine_combined.run()"
   ]
  },
  {
   "cell_type": "code",
   "execution_count": 17,
   "id": "75bd05f7",
   "metadata": {
    "execution": {
     "iopub.execute_input": "2022-08-04T07:47:08.508482Z",
     "iopub.status.busy": "2022-08-04T07:47:08.508206Z",
     "iopub.status.idle": "2022-08-04T07:48:22.358181Z",
     "shell.execute_reply": "2022-08-04T07:48:22.357466Z"
    },
    "papermill": {
     "duration": 73.864543,
     "end_time": "2022-08-04T07:48:22.360107",
     "exception": false,
     "start_time": "2022-08-04T07:47:08.495564",
     "status": "completed"
    },
    "tags": []
   },
   "outputs": [],
   "source": [
    "engine_combined_eq = (engine_combined.calculate_equity_curve(calculate_net=False, rebalance_freq='m')\n",
    "                      .rename('Trend-following portfolio (YZ estimator + TREND signal)'))"
   ]
  },
  {
   "cell_type": "code",
   "execution_count": 18,
   "id": "0e560a61",
   "metadata": {
    "execution": {
     "iopub.execute_input": "2022-08-04T07:48:22.387473Z",
     "iopub.status.busy": "2022-08-04T07:48:22.387200Z",
     "iopub.status.idle": "2022-08-04T07:48:22.975269Z",
     "shell.execute_reply": "2022-08-04T07:48:22.974506Z"
    },
    "papermill": {
     "duration": 0.604383,
     "end_time": "2022-08-04T07:48:22.976892",
     "exception": false,
     "start_time": "2022-08-04T07:48:22.372509",
     "status": "completed"
    },
    "tags": []
   },
   "outputs": [
    {
     "data": {
      "image/png": "[encoded data removed]",
      "text/plain": [
       "<Figure size 576x324 with 1 Axes>"
      ]
     },
     "metadata": {
      "needs_background": "light"
     },
     "output_type": "display_data"
    }
   ],
   "source": [
    "fig, ax = plt.subplots(figsize=(8, 4.5))\n",
    "engine_combined_eq.plot(ax=ax, logy=True)\n",
    "ax.set_title('Trend-following portfolio (YZ estimator + TREND signal)')\n",
    "ax.set_ylabel('Cumulative returns');"
   ]
  },
  {
   "cell_type": "code",
   "execution_count": 19,
   "id": "22c12741",
   "metadata": {
    "execution": {
     "iopub.execute_input": "2022-08-04T07:48:23.025842Z",
     "iopub.status.busy": "2022-08-04T07:48:23.025559Z",
     "iopub.status.idle": "2022-08-04T07:48:23.105702Z",
     "shell.execute_reply": "2022-08-04T07:48:23.105014Z"
    },
    "papermill": {
     "duration": 0.118306,
     "end_time": "2022-08-04T07:48:23.107389",
     "exception": false,
     "start_time": "2022-08-04T07:48:22.989083",
     "status": "completed"
    },
    "tags": []
   },
   "outputs": [
    {
     "data": {
      "text/html": [
       "<div>\n",
       "<style scoped>\n",
       "    .dataframe tbody tr th:only-of-type {\n",
       "        vertical-align: middle;\n",
       "    }\n",
       "\n",
       "    .dataframe tbody tr th {\n",
       "        vertical-align: top;\n",
       "    }\n",
       "\n",
       "    .dataframe thead th {\n",
       "        text-align: right;\n",
       "    }\n",
       "</style>\n",
       "<table border=\"1\" class=\"dataframe\">\n",
       "  <thead>\n",
       "    <tr style=\"text-align: right;\">\n",
       "      <th></th>\n",
       "      <th>Trend-following portfolio (YZ estimator + TREND signal)</th>\n",
       "    </tr>\n",
       "  </thead>\n",
       "  <tbody>\n",
       "    <tr>\n",
       "      <th>CAGR</th>\n",
       "      <td>0.139669</td>\n",
       "    </tr>\n",
       "    <tr>\n",
       "      <th>Annualised vol</th>\n",
       "      <td>0.110668</td>\n",
       "    </tr>\n",
       "    <tr>\n",
       "      <th>Sharpe ratio</th>\n",
       "      <td>1.262054</td>\n",
       "    </tr>\n",
       "    <tr>\n",
       "      <th>Max drawdown</th>\n",
       "      <td>0.313945</td>\n",
       "    </tr>\n",
       "    <tr>\n",
       "      <th>Calmar ratio</th>\n",
       "      <td>0.444882</td>\n",
       "    </tr>\n",
       "    <tr>\n",
       "      <th>Skewness</th>\n",
       "      <td>0.292878</td>\n",
       "    </tr>\n",
       "    <tr>\n",
       "      <th>Kurtosis</th>\n",
       "      <td>32.552850</td>\n",
       "    </tr>\n",
       "    <tr>\n",
       "      <th>Worst return</th>\n",
       "      <td>-0.130152</td>\n",
       "    </tr>\n",
       "    <tr>\n",
       "      <th>Worst 1d return</th>\n",
       "      <td>-0.130152</td>\n",
       "    </tr>\n",
       "    <tr>\n",
       "      <th>Worst 1w return</th>\n",
       "      <td>-0.112097</td>\n",
       "    </tr>\n",
       "    <tr>\n",
       "      <th>Worst 1m return</th>\n",
       "      <td>-0.186272</td>\n",
       "    </tr>\n",
       "  </tbody>\n",
       "</table>\n",
       "</div>"
      ],
      "text/plain": [
       "                 Trend-following portfolio (YZ estimator + TREND signal)\n",
       "CAGR                                                      0.139669      \n",
       "Annualised vol                                            0.110668      \n",
       "Sharpe ratio                                              1.262054      \n",
       "Max drawdown                                              0.313945      \n",
       "Calmar ratio                                              0.444882      \n",
       "Skewness                                                  0.292878      \n",
       "Kurtosis                                                 32.552850      \n",
       "Worst return                                             -0.130152      \n",
       "Worst 1d return                                          -0.130152      \n",
       "Worst 1w return                                          -0.112097      \n",
       "Worst 1m return                                          -0.186272      "
      ]
     },
     "execution_count": 19,
     "metadata": {},
     "output_type": "execute_result"
    }
   ],
   "source": [
    "engine_combined_eq.pipe(Performance).summary()"
   ]
  },
  {
   "cell_type": "markdown",
   "id": "4fde027f",
   "metadata": {
    "papermill": {
     "duration": 0.012058,
     "end_time": "2022-08-04T07:48:23.131768",
     "exception": false,
     "start_time": "2022-08-04T07:48:23.119710",
     "status": "completed"
    },
    "tags": []
   },
   "source": [
    "# Comparison\n",
    "\n",
    "In this section we compare the above 4 backtests."
   ]
  },
  {
   "cell_type": "markdown",
   "id": "08aefd19",
   "metadata": {
    "papermill": {
     "duration": 0.012448,
     "end_time": "2022-08-04T07:48:23.160369",
     "exception": false,
     "start_time": "2022-08-04T07:48:23.147921",
     "status": "completed"
    },
    "tags": []
   },
   "source": [
    "## Performance\n",
    "\n",
    "As reported in BK2020, using the YZ estimator and TREND signal does not alter the performance characteristics. Rather, the TREND signal somewhat improves the Sharpe ratio. Also the TREND signal lowers the annualised volatility from 12.5% to 10.8% with the close-to-close realised volatility."
   ]
  },
  {
   "cell_type": "code",
   "execution_count": 20,
   "id": "c75984a4",
   "metadata": {
    "execution": {
     "iopub.execute_input": "2022-08-04T07:48:23.186744Z",
     "iopub.status.busy": "2022-08-04T07:48:23.186469Z",
     "iopub.status.idle": "2022-08-04T07:48:23.199391Z",
     "shell.execute_reply": "2022-08-04T07:48:23.198682Z"
    },
    "papermill": {
     "duration": 0.0279,
     "end_time": "2022-08-04T07:48:23.201253",
     "exception": false,
     "start_time": "2022-08-04T07:48:23.173353",
     "status": "completed"
    },
    "tags": []
   },
   "outputs": [],
   "source": [
    "performance_comp = pd.concat((engine_original_eq, engine_vol_eq, \n",
    "                              engine_trend_eq, engine_combined_eq), axis=1)"
   ]
  },
  {
   "cell_type": "code",
   "execution_count": 21,
   "id": "71a34f6a",
   "metadata": {
    "execution": {
     "iopub.execute_input": "2022-08-04T07:48:23.233112Z",
     "iopub.status.busy": "2022-08-04T07:48:23.232841Z",
     "iopub.status.idle": "2022-08-04T07:48:24.009916Z",
     "shell.execute_reply": "2022-08-04T07:48:24.009116Z"
    },
    "papermill": {
     "duration": 0.796056,
     "end_time": "2022-08-04T07:48:24.012452",
     "exception": false,
     "start_time": "2022-08-04T07:48:23.216396",
     "status": "completed"
    },
    "tags": []
   },
   "outputs": [
    {
     "data": {
      "image/png": "[encoded data removed]",
      "text/plain": [
       "<Figure size 576x324 with 1 Axes>"
      ]
     },
     "metadata": {
      "needs_background": "light"
     },
     "output_type": "display_data"
    }
   ],
   "source": [
    "fig, ax = plt.subplots(figsize=(8, 4.5))\n",
    "performance_comp.plot(ax=ax, logy=True);\n",
    "ax.set_title('Trend-following portfolio')\n",
    "ax.set_ylabel('Cumulative returns');"
   ]
  },
  {
   "cell_type": "code",
   "execution_count": 22,
   "id": "447a156b",
   "metadata": {
    "execution": {
     "iopub.execute_input": "2022-08-04T07:48:24.041915Z",
     "iopub.status.busy": "2022-08-04T07:48:24.041415Z",
     "iopub.status.idle": "2022-08-04T07:48:24.150692Z",
     "shell.execute_reply": "2022-08-04T07:48:24.150020Z"
    },
    "papermill": {
     "duration": 0.125882,
     "end_time": "2022-08-04T07:48:24.152266",
     "exception": false,
     "start_time": "2022-08-04T07:48:24.026384",
     "status": "completed"
    },
    "tags": []
   },
   "outputs": [
    {
     "data": {
      "text/html": [
       "<div>\n",
       "<style scoped>\n",
       "    .dataframe tbody tr th:only-of-type {\n",
       "        vertical-align: middle;\n",
       "    }\n",
       "\n",
       "    .dataframe tbody tr th {\n",
       "        vertical-align: top;\n",
       "    }\n",
       "\n",
       "    .dataframe thead th {\n",
       "        text-align: right;\n",
       "    }\n",
       "</style>\n",
       "<table border=\"1\" class=\"dataframe\">\n",
       "  <thead>\n",
       "    <tr style=\"text-align: right;\">\n",
       "      <th></th>\n",
       "      <th>Trend-following portfolio (Moskowitz 2012)</th>\n",
       "      <th>Trend-following portfolio (YZ estimator)</th>\n",
       "      <th>Trend-following portfolio (TREND signal)</th>\n",
       "      <th>Trend-following portfolio (YZ estimator + TREND signal)</th>\n",
       "    </tr>\n",
       "  </thead>\n",
       "  <tbody>\n",
       "    <tr>\n",
       "      <th>CAGR</th>\n",
       "      <td>0.147169</td>\n",
       "      <td>0.148445</td>\n",
       "      <td>0.139226</td>\n",
       "      <td>0.139325</td>\n",
       "    </tr>\n",
       "    <tr>\n",
       "      <th>Annualised vol</th>\n",
       "      <td>0.124965</td>\n",
       "      <td>0.127103</td>\n",
       "      <td>0.107930</td>\n",
       "      <td>0.110532</td>\n",
       "    </tr>\n",
       "    <tr>\n",
       "      <th>Sharpe ratio</th>\n",
       "      <td>1.177677</td>\n",
       "      <td>1.167916</td>\n",
       "      <td>1.289965</td>\n",
       "      <td>1.260490</td>\n",
       "    </tr>\n",
       "    <tr>\n",
       "      <th>Max drawdown</th>\n",
       "      <td>0.259239</td>\n",
       "      <td>0.305877</td>\n",
       "      <td>0.294584</td>\n",
       "      <td>0.313945</td>\n",
       "    </tr>\n",
       "    <tr>\n",
       "      <th>Calmar ratio</th>\n",
       "      <td>0.567694</td>\n",
       "      <td>0.485311</td>\n",
       "      <td>0.472620</td>\n",
       "      <td>0.443788</td>\n",
       "    </tr>\n",
       "    <tr>\n",
       "      <th>Skewness</th>\n",
       "      <td>0.073257</td>\n",
       "      <td>0.281513</td>\n",
       "      <td>0.159258</td>\n",
       "      <td>0.293843</td>\n",
       "    </tr>\n",
       "    <tr>\n",
       "      <th>Kurtosis</th>\n",
       "      <td>19.362326</td>\n",
       "      <td>22.205392</td>\n",
       "      <td>28.031377</td>\n",
       "      <td>32.639492</td>\n",
       "    </tr>\n",
       "    <tr>\n",
       "      <th>Worst return</th>\n",
       "      <td>-0.126276</td>\n",
       "      <td>-0.137043</td>\n",
       "      <td>-0.121269</td>\n",
       "      <td>-0.130152</td>\n",
       "    </tr>\n",
       "    <tr>\n",
       "      <th>Worst 1d return</th>\n",
       "      <td>-0.126276</td>\n",
       "      <td>-0.137043</td>\n",
       "      <td>-0.121269</td>\n",
       "      <td>-0.130152</td>\n",
       "    </tr>\n",
       "    <tr>\n",
       "      <th>Worst 1w return</th>\n",
       "      <td>-0.107725</td>\n",
       "      <td>-0.098542</td>\n",
       "      <td>-0.110077</td>\n",
       "      <td>-0.112097</td>\n",
       "    </tr>\n",
       "    <tr>\n",
       "      <th>Worst 1m return</th>\n",
       "      <td>-0.152667</td>\n",
       "      <td>-0.169177</td>\n",
       "      <td>-0.171789</td>\n",
       "      <td>-0.186272</td>\n",
       "    </tr>\n",
       "  </tbody>\n",
       "</table>\n",
       "</div>"
      ],
      "text/plain": [
       "                 Trend-following portfolio (Moskowitz 2012)  \\\n",
       "CAGR                                               0.147169   \n",
       "Annualised vol                                     0.124965   \n",
       "Sharpe ratio                                       1.177677   \n",
       "Max drawdown                                       0.259239   \n",
       "Calmar ratio                                       0.567694   \n",
       "Skewness                                           0.073257   \n",
       "Kurtosis                                          19.362326   \n",
       "Worst return                                      -0.126276   \n",
       "Worst 1d return                                   -0.126276   \n",
       "Worst 1w return                                   -0.107725   \n",
       "Worst 1m return                                   -0.152667   \n",
       "\n",
       "                 Trend-following portfolio (YZ estimator)  \\\n",
       "CAGR                                             0.148445   \n",
       "Annualised vol                                   0.127103   \n",
       "Sharpe ratio                                     1.167916   \n",
       "Max drawdown                                     0.305877   \n",
       "Calmar ratio                                     0.485311   \n",
       "Skewness                                         0.281513   \n",
       "Kurtosis                                        22.205392   \n",
       "Worst return                                    -0.137043   \n",
       "Worst 1d return                                 -0.137043   \n",
       "Worst 1w return                                 -0.098542   \n",
       "Worst 1m return                                 -0.169177   \n",
       "\n",
       "                 Trend-following portfolio (TREND signal)  \\\n",
       "CAGR                                             0.139226   \n",
       "Annualised vol                                   0.107930   \n",
       "Sharpe ratio                                     1.289965   \n",
       "Max drawdown                                     0.294584   \n",
       "Calmar ratio                                     0.472620   \n",
       "Skewness                                         0.159258   \n",
       "Kurtosis                                        28.031377   \n",
       "Worst return                                    -0.121269   \n",
       "Worst 1d return                                 -0.121269   \n",
       "Worst 1w return                                 -0.110077   \n",
       "Worst 1m return                                 -0.171789   \n",
       "\n",
       "                 Trend-following portfolio (YZ estimator + TREND signal)  \n",
       "CAGR                                                      0.139325        \n",
       "Annualised vol                                            0.110532        \n",
       "Sharpe ratio                                              1.260490        \n",
       "Max drawdown                                              0.313945        \n",
       "Calmar ratio                                              0.443788        \n",
       "Skewness                                                  0.293843        \n",
       "Kurtosis                                                 32.639492        \n",
       "Worst return                                             -0.130152        \n",
       "Worst 1d return                                          -0.130152        \n",
       "Worst 1w return                                          -0.112097        \n",
       "Worst 1m return                                          -0.186272        "
      ]
     },
     "execution_count": 22,
     "metadata": {},
     "output_type": "execute_result"
    }
   ],
   "source": [
    "performance_comp.pipe(Performance).summary()"
   ]
  },
  {
   "cell_type": "markdown",
   "id": "8568fdca",
   "metadata": {
    "papermill": {
     "duration": 0.012865,
     "end_time": "2022-08-04T07:48:24.178231",
     "exception": false,
     "start_time": "2022-08-04T07:48:24.165366",
     "status": "completed"
    },
    "tags": []
   },
   "source": [
    "## Turnover reduction\n",
    "\n",
    "Again, as reported in BK2020, both enhancements reduce the turnover significantly while not affecting the performance. The chart below shows the reduction in turnover for each futures contract. By utilising the YZ realised volatility and the TREND signal, overall the turnover is reduced by more than 30%."
   ]
  },
  {
   "cell_type": "code",
   "execution_count": 23,
   "id": "48fcc64b",
   "metadata": {
    "execution": {
     "iopub.execute_input": "2022-08-04T07:48:24.209901Z",
     "iopub.status.busy": "2022-08-04T07:48:24.209240Z",
     "iopub.status.idle": "2022-08-04T07:53:17.524900Z",
     "shell.execute_reply": "2022-08-04T07:53:17.524191Z"
    },
    "papermill": {
     "duration": 293.334304,
     "end_time": "2022-08-04T07:53:17.526815",
     "exception": false,
     "start_time": "2022-08-04T07:48:24.192511",
     "status": "completed"
    },
    "tags": []
   },
   "outputs": [],
   "source": [
    "engine_original_pos = engine_original.get_position_by_instrument()\n",
    "engine_vol_pos = engine_vol.get_position_by_instrument()\n",
    "engine_trend_pos = engine_trend.get_position_by_instrument()\n",
    "engine_combined_pos = engine_combined.get_position_by_instrument()"
   ]
  },
  {
   "cell_type": "code",
   "execution_count": 24,
   "id": "d95588b7",
   "metadata": {
    "execution": {
     "iopub.execute_input": "2022-08-04T07:53:17.554021Z",
     "iopub.status.busy": "2022-08-04T07:53:17.553753Z",
     "iopub.status.idle": "2022-08-04T07:53:17.585843Z",
     "shell.execute_reply": "2022-08-04T07:53:17.585140Z"
    },
    "papermill": {
     "duration": 0.0479,
     "end_time": "2022-08-04T07:53:17.587784",
     "exception": false,
     "start_time": "2022-08-04T07:53:17.539884",
     "status": "completed"
    },
    "tags": []
   },
   "outputs": [],
   "source": [
    "engine_original_turnover = (engine_original_pos.diff().abs().mean().mul(261)\n",
    "                            .rename('Trend-following portfolio (Moskowitz 2012)'))\n",
    "engine_vol_turnover = (engine_vol_pos.diff().abs().mean().mul(261)\n",
    "                       .rename('Trend-following portfolio (YZ estimator)'))\n",
    "engine_trend_turnover = (engine_trend_pos.diff().abs().mean().mul(261)\n",
    "                         .rename('Trend-following portfolio (TREND signal)'))\n",
    "engine_combined_turnover = (engine_combined_pos.diff().abs().mean().mul(261)\n",
    "                            .rename('Trend-following portfolio (YZ estimator + TREND signal)'))"
   ]
  },
  {
   "cell_type": "code",
   "execution_count": 25,
   "id": "099585cf",
   "metadata": {
    "execution": {
     "iopub.execute_input": "2022-08-04T07:53:17.614630Z",
     "iopub.status.busy": "2022-08-04T07:53:17.614380Z",
     "iopub.status.idle": "2022-08-04T07:53:17.621110Z",
     "shell.execute_reply": "2022-08-04T07:53:17.620473Z"
    },
    "papermill": {
     "duration": 0.021849,
     "end_time": "2022-08-04T07:53:17.622703",
     "exception": false,
     "start_time": "2022-08-04T07:53:17.600854",
     "status": "completed"
    },
    "tags": []
   },
   "outputs": [],
   "source": [
    "turnover_reduction = (\n",
    "    pd.concat((engine_vol_turnover, engine_trend_turnover, engine_combined_turnover), axis=1)\n",
    "    .div(engine_original_turnover, axis=0)\n",
    "    .sub(1)\n",
    "    .reindex(index=all_futures_baltas2020.index)\n",
    "    .rename(index=all_futures_baltas2020['name'])\n",
    ")"
   ]
  },
  {
   "cell_type": "code",
   "execution_count": 26,
   "id": "6c76688e",
   "metadata": {
    "execution": {
     "iopub.execute_input": "2022-08-04T07:53:17.648892Z",
     "iopub.status.busy": "2022-08-04T07:53:17.648643Z",
     "iopub.status.idle": "2022-08-04T07:53:17.654444Z",
     "shell.execute_reply": "2022-08-04T07:53:17.653842Z"
    },
    "papermill": {
     "duration": 0.020893,
     "end_time": "2022-08-04T07:53:17.656118",
     "exception": false,
     "start_time": "2022-08-04T07:53:17.635225",
     "status": "completed"
    },
    "tags": []
   },
   "outputs": [
    {
     "data": {
      "text/plain": [
       "Trend-following portfolio (YZ estimator)                  -0.181129\n",
       "Trend-following portfolio (TREND signal)                  -0.207160\n",
       "Trend-following portfolio (YZ estimator + TREND signal)   -0.330512\n",
       "dtype: float64"
      ]
     },
     "execution_count": 26,
     "metadata": {},
     "output_type": "execute_result"
    }
   ],
   "source": [
    "turnover_reduction.mean()"
   ]
  },
  {
   "cell_type": "code",
   "execution_count": 27,
   "id": "34524c99",
   "metadata": {
    "execution": {
     "iopub.execute_input": "2022-08-04T07:53:17.682932Z",
     "iopub.status.busy": "2022-08-04T07:53:17.682683Z",
     "iopub.status.idle": "2022-08-04T07:53:19.254028Z",
     "shell.execute_reply": "2022-08-04T07:53:19.253385Z"
    },
    "papermill": {
     "duration": 1.586747,
     "end_time": "2022-08-04T07:53:19.255717",
     "exception": false,
     "start_time": "2022-08-04T07:53:17.668970",
     "status": "completed"
    },
    "tags": []
   },
   "outputs": [
    {
     "data": {
      "image/png": "[encoded data removed]",
      "text/plain": [
       "<Figure size 1008x288 with 1 Axes>"
      ]
     },
     "metadata": {
      "needs_background": "light"
     },
     "output_type": "display_data"
    }
   ],
   "source": [
    "ax = turnover_reduction.plot(kind='bar', figsize=(14, 4))\n",
    "ax.yaxis.set_major_formatter(mticker.PercentFormatter(1))\n",
    "ax.axhline(0, color='black', lw=1)\n",
    "ax.axvline(24.5, color='black', lw=1)\n",
    "ax.axvline(30.5, color='black', lw=1)\n",
    "ax.axvline(42.5, color='black', lw=1)\n",
    "ax.set_xlabel('Contract')\n",
    "ax.set_ylabel('Turnover reduction');"
   ]
  },
  {
   "cell_type": "markdown",
   "id": "6914d641",
   "metadata": {
    "papermill": {
     "duration": 0.013588,
     "end_time": "2022-08-04T07:53:19.283176",
     "exception": false,
     "start_time": "2022-08-04T07:53:19.269588",
     "status": "completed"
    },
    "tags": []
   },
   "source": [
    "# Recent performance"
   ]
  },
  {
   "cell_type": "code",
   "execution_count": 28,
   "id": "40d3180c",
   "metadata": {
    "execution": {
     "iopub.execute_input": "2022-08-04T07:53:19.312461Z",
     "iopub.status.busy": "2022-08-04T07:53:19.312078Z",
     "iopub.status.idle": "2022-08-04T07:53:19.801861Z",
     "shell.execute_reply": "2022-08-04T07:53:19.801143Z"
    },
    "papermill": {
     "duration": 0.506684,
     "end_time": "2022-08-04T07:53:19.803744",
     "exception": false,
     "start_time": "2022-08-04T07:53:19.297060",
     "status": "completed"
    },
    "tags": []
   },
   "outputs": [
    {
     "data": {
      "image/png": "[encoded data removed]",
      "text/plain": [
       "<Figure size 576x324 with 1 Axes>"
      ]
     },
     "metadata": {
      "needs_background": "light"
     },
     "output_type": "display_data"
    }
   ],
   "source": [
    "fig, ax = plt.subplots(figsize=(8, 4.5))\n",
    "performance_comp.tail(252 * 2).pct_change().fillna(0).add(1).cumprod().plot(ax=ax, logy=True);\n",
    "ax.set_title('Trend-following portfolio')\n",
    "ax.set_ylabel('Cumulative returns');"
   ]
  },
  {
   "cell_type": "markdown",
   "id": "09c0df94",
   "metadata": {
    "papermill": {
     "duration": 0.015547,
     "end_time": "2022-08-04T07:53:19.835384",
     "exception": false,
     "start_time": "2022-08-04T07:53:19.819837",
     "status": "completed"
    },
    "tags": []
   },
   "source": [
    "# Reference\n",
    "\n",
    "- Baltas, N. and Kosowski, R., 2020. Demystifying time-series momentum strategies: Volatility estimators, trading rules and pairwise correlations. Market Momentum: Theory and Practice\", Wiley.\n",
    "- Moskowitz, T.J., Ooi, Y.H. and Pedersen, L.H., 2012. Time series momentum. Journal of financial economics, 104(2), pp.228-250."
   ]
  },
  {
   "cell_type": "code",
   "execution_count": 29,
   "id": "e54e76c8",
   "metadata": {
    "ExecuteTime": {
     "end_time": "2020-08-30T21:20:32.431574Z",
     "start_time": "2020-08-30T21:20:32.429370Z"
    },
    "execution": {
     "iopub.execute_input": "2022-08-04T07:53:19.867815Z",
     "iopub.status.busy": "2022-08-04T07:53:19.867551Z",
     "iopub.status.idle": "2022-08-04T07:53:19.871290Z",
     "shell.execute_reply": "2022-08-04T07:53:19.870704Z"
    },
    "papermill": {
     "duration": 0.021911,
     "end_time": "2022-08-04T07:53:19.872951",
     "exception": false,
     "start_time": "2022-08-04T07:53:19.851040",
     "status": "completed"
    },
    "tags": []
   },
   "outputs": [
    {
     "name": "stdout",
     "output_type": "stream",
     "text": [
      "Updated: 04-Aug-2022 07:53\n"
     ]
    }
   ],
   "source": [
    "print(f'Updated: {datetime.utcnow():%d-%b-%Y %H:%M}')"
   ]
  }
 ],
 "metadata": {
  "hide_input": false,
  "kernelspec": {
   "display_name": "Python 3",
   "language": "python",
   "name": "python3"
  },
  "language_info": {
   "codemirror_mode": {
    "name": "ipython",
    "version": 3
   },
   "file_extension": ".py",
   "mimetype": "text/x-python",
   "name": "python",
   "nbconvert_exporter": "python",
   "pygments_lexer": "ipython3",
   "version": "3.9.6"
  },
  "nav_menu": {},
  "papermill": {
   "duration": 5244.671348,
   "end_time": "2022-08-04T07:53:22.925208",
   "environment_variables": {},
   "exception": null,
   "input_path": "notebooks/papermill/trend_following_baltas2020.ipynb",
   "output_path": "notebooks/trend_following_baltas2020.ipynb",
   "parameters": {},
   "start_time": "2022-08-04T06:25:58.253860",
   "version": "2.1.3"
  },
  "toc": {
   "base_numbering": 1,
   "nav_menu": {},
   "number_sections": true,
   "sideBar": true,
   "skip_h1_title": false,
   "title_cell": "Table of Contents",
   "title_sidebar": "Contents",
   "toc_cell": true,
   "toc_position": {
    "height": "calc(100% - 180px)",
    "left": "10px",
    "top": "150px",
    "width": "165px"
   },
   "toc_section_display": "block",
   "toc_window_display": true
  }
 },
 "nbformat": 4,
 "nbformat_minor": 5
}