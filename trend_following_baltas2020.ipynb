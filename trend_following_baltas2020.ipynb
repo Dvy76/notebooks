{
 "cells": [
  {
   "cell_type": "markdown",
   "id": "bbd6d6a3",
   "metadata": {
    "papermill": {
     "duration": 0.007768,
     "end_time": "2023-01-20T09:17:17.153495",
     "exception": false,
     "start_time": "2023-01-20T09:17:17.145727",
     "status": "completed"
    },
    "tags": []
   },
   "source": [
    "# Trend-following\n",
    "\n",
    "This notebook implements a few improvements that Baltas and Kosowski (2020) (BK2020, hereafter) propose to the time-series momentum strategy which originally appeared in Moskowitz et al (2012).\n",
    "\n",
    "Note that like other notebooks, all backtests are performed by using a private library called `vivace`."
   ]
  },
  {
   "cell_type": "code",
   "execution_count": 1,
   "id": "043659bd",
   "metadata": {
    "ExecuteTime": {
     "end_time": "2020-08-30T21:08:49.524262Z",
     "start_time": "2020-08-30T21:08:48.720115Z"
    },
    "execution": {
     "iopub.execute_input": "2023-01-20T09:17:17.168818Z",
     "iopub.status.busy": "2023-01-20T09:17:17.168525Z",
     "iopub.status.idle": "2023-01-20T09:17:19.779798Z",
     "shell.execute_reply": "2023-01-20T09:17:19.778767Z"
    },
    "papermill": {
     "duration": 2.621299,
     "end_time": "2023-01-20T09:17:19.781787",
     "exception": false,
     "start_time": "2023-01-20T09:17:17.160488",
     "status": "completed"
    },
    "tags": []
   },
   "outputs": [],
   "source": [
    "%matplotlib inline\n",
    "from datetime import datetime\n",
    "import logging\n",
    "import warnings\n",
    "warnings.simplefilter(action='ignore', category=FutureWarning)\n",
    "\n",
    "import pandas as pd\n",
    "import matplotlib.pyplot as plt\n",
    "import matplotlib.ticker as mticker\n",
    "plt.style.use('bmh')\n",
    "\n",
    "from vivace.backtest import signal\n",
    "from vivace.backtest import processing\n",
    "from vivace.backtest.contract import all_futures_baltas2020\n",
    "from vivace.backtest.engine import BacktestEngine\n",
    "from vivace.backtest.enums import Strategy, Weighting, RealisedVolatility\n",
    "from vivace.backtest.stats import Performance"
   ]
  },
  {
   "cell_type": "markdown",
   "id": "79396876",
   "metadata": {
    "papermill": {
     "duration": 0.006724,
     "end_time": "2023-01-20T09:17:19.795575",
     "exception": false,
     "start_time": "2023-01-20T09:17:19.788851",
     "status": "completed"
    },
    "tags": []
   },
   "source": [
    "# Data"
   ]
  },
  {
   "cell_type": "code",
   "execution_count": 2,
   "id": "0765653b",
   "metadata": {
    "ExecuteTime": {
     "end_time": "2020-08-30T21:08:49.529214Z",
     "start_time": "2020-08-30T21:08:49.525465Z"
    },
    "execution": {
     "iopub.execute_input": "2023-01-20T09:17:19.837452Z",
     "iopub.status.busy": "2023-01-20T09:17:19.837081Z",
     "iopub.status.idle": "2023-01-20T09:17:19.844640Z",
     "shell.execute_reply": "2023-01-20T09:17:19.843697Z"
    },
    "papermill": {
     "duration": 0.043049,
     "end_time": "2023-01-20T09:17:19.846317",
     "exception": false,
     "start_time": "2023-01-20T09:17:19.803268",
     "status": "completed"
    },
    "tags": []
   },
   "outputs": [
    {
     "data": {
      "text/plain": [
       "array(['WTI Crude Oil', 'Brent Crude Oil', 'Heating Oil', 'Natural Gas',\n",
       "       'Gasoline', 'Copper', 'Gold', 'Palladium', 'Platinum', 'Silver',\n",
       "       'Feeder Cattle', 'Live Cattle', 'Lean Hog', 'Corn', 'Oats',\n",
       "       'Soybean Oil', 'Soybean Meal', 'Soybean', 'Wheat', 'Cocoa',\n",
       "       'Coffee', 'Cotton', 'Lumber', 'Orange Juice', 'Sugar',\n",
       "       'Australian Dollar', 'Canadian Dollar', 'Swiss Franc', 'Euro',\n",
       "       'British Pound', 'Japanese Yen', 'E-Mini Nasdaq 100',\n",
       "       'E-mini S&P 500', 'E-mini Russell 2000', 'FTSE 100', 'DAX',\n",
       "       'CAC 40', 'IBEX 35', 'AEX', 'Swiss Market Index', 'SPI 200',\n",
       "       'Topix', 'Hang Seng', 'US 2-year Treasury', 'US 5-year Treasury',\n",
       "       'US 10-year Treasury', 'US treasury Bond', 'Germany Schatz',\n",
       "       'Germany Bobl', 'Germany Bund', 'Germany Buxl', 'Gilt',\n",
       "       'Canada 10-year Treasury', 'JGB'], dtype=object)"
      ]
     },
     "execution_count": 2,
     "metadata": {},
     "output_type": "execute_result"
    }
   ],
   "source": [
    "all_futures_baltas2020['name'].values"
   ]
  },
  {
   "cell_type": "code",
   "execution_count": 3,
   "id": "3a1d606f",
   "metadata": {
    "ExecuteTime": {
     "end_time": "2020-08-30T21:08:49.542477Z",
     "start_time": "2020-08-30T21:08:49.530487Z"
    },
    "execution": {
     "iopub.execute_input": "2023-01-20T09:17:19.861443Z",
     "iopub.status.busy": "2023-01-20T09:17:19.861178Z",
     "iopub.status.idle": "2023-01-20T09:17:19.865698Z",
     "shell.execute_reply": "2023-01-20T09:17:19.864754Z"
    },
    "papermill": {
     "duration": 0.014289,
     "end_time": "2023-01-20T09:17:19.867631",
     "exception": false,
     "start_time": "2023-01-20T09:17:19.853342",
     "status": "completed"
    },
    "tags": []
   },
   "outputs": [
    {
     "name": "stdout",
     "output_type": "stream",
     "text": [
      "54\n"
     ]
    }
   ],
   "source": [
    "print(len(all_futures_baltas2020))"
   ]
  },
  {
   "cell_type": "markdown",
   "id": "c06eeb19",
   "metadata": {
    "papermill": {
     "duration": 0.006769,
     "end_time": "2023-01-20T09:17:19.881232",
     "exception": false,
     "start_time": "2023-01-20T09:17:19.874463",
     "status": "completed"
    },
    "tags": []
   },
   "source": [
    "We try to use the same contract as the original paper where possible, resulting 54 futures contracts to analyse. The trading universe covers a wide range of asset classes and regions, and is made up of following instruments:\n",
    "- Equity index futures\n",
    "- Government bond futures\n",
    "- FX futures\n",
    "- Commodity futures\n",
    "\n",
    "where the same trend detection method is applied."
   ]
  },
  {
   "cell_type": "markdown",
   "id": "8952b51b",
   "metadata": {
    "papermill": {
     "duration": 0.006774,
     "end_time": "2023-01-20T09:17:19.894981",
     "exception": false,
     "start_time": "2023-01-20T09:17:19.888207",
     "status": "completed"
    },
    "tags": []
   },
   "source": [
    "# Performance\n"
   ]
  },
  {
   "cell_type": "markdown",
   "id": "79537574",
   "metadata": {
    "papermill": {
     "duration": 0.006747,
     "end_time": "2023-01-20T09:17:19.908724",
     "exception": false,
     "start_time": "2023-01-20T09:17:19.901977",
     "status": "completed"
    },
    "tags": []
   },
   "source": [
    "## Moskowitz et al\n",
    "\n",
    "First we calculate the original trend-following portfolio with a more traditional close-to-close realised volatility estimator. Although Moskowitz et al uses the exponentially weighted standard deviation, BK2020 appears to compare against the rolling standard deviation."
   ]
  },
  {
   "cell_type": "code",
   "execution_count": 4,
   "id": "e4636bea",
   "metadata": {
    "execution": {
     "iopub.execute_input": "2023-01-20T09:17:19.923575Z",
     "iopub.status.busy": "2023-01-20T09:17:19.923304Z",
     "iopub.status.idle": "2023-01-20T09:26:57.614274Z",
     "shell.execute_reply": "2023-01-20T09:26:57.613548Z"
    },
    "papermill": {
     "duration": 577.701681,
     "end_time": "2023-01-20T09:26:57.617104",
     "exception": false,
     "start_time": "2023-01-20T09:17:19.915423",
     "status": "completed"
    },
    "tags": []
   },
   "outputs": [],
   "source": [
    "engine_original = BacktestEngine(\n",
    "    strategy=Strategy.DELTA_ONE.value,\n",
    "    instrument=all_futures_baltas2020.index,\n",
    "    signal=signal.ParallelSignal([\n",
    "        signal.VolatilityScale(agg_method='rolling', window=21, ann_factor=261, \n",
    "                               target_volatility=0.4, signal_cap=0.95),\n",
    "        signal.TSMOMMoskowitz2012(post_process=processing.AsFreq(freq='m', method='pad'))\n",
    "    ], weighting='product'),\n",
    "    weighting=Weighting.EQUAL_WEIGHT.value,\n",
    "    log_level=logging.WARN,\n",
    ")\n",
    "engine_original.run()"
   ]
  },
  {
   "cell_type": "code",
   "execution_count": 5,
   "id": "6a54c52a",
   "metadata": {
    "execution": {
     "iopub.execute_input": "2023-01-20T09:26:57.636217Z",
     "iopub.status.busy": "2023-01-20T09:26:57.635972Z",
     "iopub.status.idle": "2023-01-20T09:28:21.189079Z",
     "shell.execute_reply": "2023-01-20T09:28:21.188275Z"
    },
    "papermill": {
     "duration": 83.564663,
     "end_time": "2023-01-20T09:28:21.192694",
     "exception": false,
     "start_time": "2023-01-20T09:26:57.628031",
     "status": "completed"
    },
    "tags": []
   },
   "outputs": [],
   "source": [
    "engine_original_eq = (engine_original.calculate_equity_curve(calculate_net=False, rebalance_freq='m')\n",
    "                      .rename('Trend-following portfolio (Moskowitz 2012)'))"
   ]
  },
  {
   "cell_type": "code",
   "execution_count": 6,
   "id": "2ba8545a",
   "metadata": {
    "execution": {
     "iopub.execute_input": "2023-01-20T09:28:21.209825Z",
     "iopub.status.busy": "2023-01-20T09:28:21.209485Z",
     "iopub.status.idle": "2023-01-20T09:28:21.855687Z",
     "shell.execute_reply": "2023-01-20T09:28:21.854824Z"
    },
    "papermill": {
     "duration": 0.656284,
     "end_time": "2023-01-20T09:28:21.857677",
     "exception": false,
     "start_time": "2023-01-20T09:28:21.201393",
     "status": "completed"
    },
    "tags": []
   },
   "outputs": [
    {
     "data": {
      "image/png": "[encoded data removed]",
      "text/plain": [
       "<Figure size 800x450 with 1 Axes>"
      ]
     },
     "metadata": {},
     "output_type": "display_data"
    }
   ],
   "source": [
    "fig, ax = plt.subplots(figsize=(8, 4.5))\n",
    "engine_original_eq.plot(ax=ax, logy=True)\n",
    "ax.set_title('Trend-following portfolio (Moskowitz 2012)')\n",
    "ax.set_ylabel('Cumulative returns');"
   ]
  },
  {
   "cell_type": "code",
   "execution_count": 7,
   "id": "3bdcd861",
   "metadata": {
    "execution": {
     "iopub.execute_input": "2023-01-20T09:28:21.882207Z",
     "iopub.status.busy": "2023-01-20T09:28:21.881893Z",
     "iopub.status.idle": "2023-01-20T09:28:21.952525Z",
     "shell.execute_reply": "2023-01-20T09:28:21.951774Z"
    },
    "papermill": {
     "duration": 0.087157,
     "end_time": "2023-01-20T09:28:21.955133",
     "exception": false,
     "start_time": "2023-01-20T09:28:21.867976",
     "status": "completed"
    },
    "tags": []
   },
   "outputs": [
    {
     "data": {
      "text/html": [
       "<div>\n",
       "<style scoped>\n",
       "    .dataframe tbody tr th:only-of-type {\n",
       "        vertical-align: middle;\n",
       "    }\n",
       "\n",
       "    .dataframe tbody tr th {\n",
       "        vertical-align: top;\n",
       "    }\n",
       "\n",
       "    .dataframe thead th {\n",
       "        text-align: right;\n",
       "    }\n",
       "</style>\n",
       "<table border=\"1\" class=\"dataframe\">\n",
       "  <thead>\n",
       "    <tr style=\"text-align: right;\">\n",
       "      <th></th>\n",
       "      <th>Trend-following portfolio (Moskowitz 2012)</th>\n",
       "    </tr>\n",
       "  </thead>\n",
       "  <tbody>\n",
       "    <tr>\n",
       "      <th>CAGR</th>\n",
       "      <td>0.146354</td>\n",
       "    </tr>\n",
       "    <tr>\n",
       "      <th>Annualised vol</th>\n",
       "      <td>0.125033</td>\n",
       "    </tr>\n",
       "    <tr>\n",
       "      <th>Sharpe ratio</th>\n",
       "      <td>1.170521</td>\n",
       "    </tr>\n",
       "    <tr>\n",
       "      <th>Max drawdown</th>\n",
       "      <td>0.259239</td>\n",
       "    </tr>\n",
       "    <tr>\n",
       "      <th>Calmar ratio</th>\n",
       "      <td>0.564553</td>\n",
       "    </tr>\n",
       "    <tr>\n",
       "      <th>Skewness</th>\n",
       "      <td>0.067128</td>\n",
       "    </tr>\n",
       "    <tr>\n",
       "      <th>Kurtosis</th>\n",
       "      <td>19.199308</td>\n",
       "    </tr>\n",
       "    <tr>\n",
       "      <th>Worst return</th>\n",
       "      <td>-0.126276</td>\n",
       "    </tr>\n",
       "    <tr>\n",
       "      <th>Worst 1d return</th>\n",
       "      <td>-0.126276</td>\n",
       "    </tr>\n",
       "    <tr>\n",
       "      <th>Worst 1w return</th>\n",
       "      <td>-0.107725</td>\n",
       "    </tr>\n",
       "    <tr>\n",
       "      <th>Worst 1m return</th>\n",
       "      <td>-0.152667</td>\n",
       "    </tr>\n",
       "  </tbody>\n",
       "</table>\n",
       "</div>"
      ],
      "text/plain": [
       "                 Trend-following portfolio (Moskowitz 2012)\n",
       "CAGR                                               0.146354\n",
       "Annualised vol                                     0.125033\n",
       "Sharpe ratio                                       1.170521\n",
       "Max drawdown                                       0.259239\n",
       "Calmar ratio                                       0.564553\n",
       "Skewness                                           0.067128\n",
       "Kurtosis                                          19.199308\n",
       "Worst return                                      -0.126276\n",
       "Worst 1d return                                   -0.126276\n",
       "Worst 1w return                                   -0.107725\n",
       "Worst 1m return                                   -0.152667"
      ]
     },
     "execution_count": 7,
     "metadata": {},
     "output_type": "execute_result"
    }
   ],
   "source": [
    "engine_original_eq.pipe(Performance).summary()"
   ]
  },
  {
   "cell_type": "markdown",
   "id": "29f28e7d",
   "metadata": {
    "papermill": {
     "duration": 0.007489,
     "end_time": "2023-01-20T09:28:21.974871",
     "exception": false,
     "start_time": "2023-01-20T09:28:21.967382",
     "status": "completed"
    },
    "tags": []
   },
   "source": [
    "\n",
    "## Volatility estimator\n",
    "BK2020 proposes a few changes in order to enhance the original trend-following strategy Moskowitz et al reported. The first thing is to use a more sophisticated realised volatility estimators for volatility scaling. Moskowitz used the exponentially weighted standard deviation with close-to-close. On the other hand, BK2020 suggests to use Yang-Zhang estimator as it is much more efficient."
   ]
  },
  {
   "cell_type": "code",
   "execution_count": 8,
   "id": "aca499ab",
   "metadata": {
    "ExecuteTime": {
     "end_time": "2020-08-30T21:18:24.661167Z",
     "start_time": "2020-08-30T21:08:49.544232Z"
    },
    "execution": {
     "iopub.execute_input": "2023-01-20T09:28:21.991322Z",
     "iopub.status.busy": "2023-01-20T09:28:21.991013Z",
     "iopub.status.idle": "2023-01-20T09:47:04.054919Z",
     "shell.execute_reply": "2023-01-20T09:47:04.054201Z"
    },
    "papermill": {
     "duration": 1122.074228,
     "end_time": "2023-01-20T09:47:04.056697",
     "exception": false,
     "start_time": "2023-01-20T09:28:21.982469",
     "status": "completed"
    },
    "tags": []
   },
   "outputs": [],
   "source": [
    "engine_vol = BacktestEngine(\n",
    "    strategy=Strategy.DELTA_ONE.value,\n",
    "    instrument=all_futures_baltas2020.index,\n",
    "    signal=signal.ParallelSignal([\n",
    "        signal.VolatilityScale(volatility_type=RealisedVolatility.YZ.value,\n",
    "                               agg_method='rolling', window=21, min_periods=10,\n",
    "                               target_volatility=0.4, signal_cap=0.95, ann_factor=261),\n",
    "        signal.TSMOMMoskowitz2012(post_process=processing.AsFreq(freq='m', method='pad'))\n",
    "    ], weighting='product'),\n",
    "    weighting=Weighting.EQUAL_WEIGHT.value,\n",
    "    log_level=logging.WARN,\n",
    ")\n",
    "engine_vol.run()"
   ]
  },
  {
   "cell_type": "code",
   "execution_count": 9,
   "id": "51823576",
   "metadata": {
    "execution": {
     "iopub.execute_input": "2023-01-20T09:47:04.072999Z",
     "iopub.status.busy": "2023-01-20T09:47:04.072755Z",
     "iopub.status.idle": "2023-01-20T09:48:22.852546Z",
     "shell.execute_reply": "2023-01-20T09:48:22.851861Z"
    },
    "papermill": {
     "duration": 78.789771,
     "end_time": "2023-01-20T09:48:22.854164",
     "exception": false,
     "start_time": "2023-01-20T09:47:04.064393",
     "status": "completed"
    },
    "tags": []
   },
   "outputs": [],
   "source": [
    "engine_vol_eq = (engine_vol.calculate_equity_curve(calculate_net=False, rebalance_freq='m')\n",
    "                 .rename('Trend-following portfolio (YZ estimator)'))"
   ]
  },
  {
   "cell_type": "code",
   "execution_count": 10,
   "id": "0afd7122",
   "metadata": {
    "execution": {
     "iopub.execute_input": "2023-01-20T09:48:22.870453Z",
     "iopub.status.busy": "2023-01-20T09:48:22.870198Z",
     "iopub.status.idle": "2023-01-20T09:48:23.364393Z",
     "shell.execute_reply": "2023-01-20T09:48:23.363739Z"
    },
    "papermill": {
     "duration": 0.50391,
     "end_time": "2023-01-20T09:48:23.365811",
     "exception": false,
     "start_time": "2023-01-20T09:48:22.861901",
     "status": "completed"
    },
    "tags": []
   },
   "outputs": [
    {
     "data": {
      "image/png": "[encoded data removed]",
      "text/plain": [
       "<Figure size 800x450 with 1 Axes>"
      ]
     },
     "metadata": {},
     "output_type": "display_data"
    }
   ],
   "source": [
    "fig, ax = plt.subplots(figsize=(8, 4.5))\n",
    "engine_vol_eq.plot(ax=ax, logy=True);\n",
    "ax.set_title('Trend-following portfolio (YZ estimator)')\n",
    "ax.set_ylabel('Cumulative returns');"
   ]
  },
  {
   "cell_type": "code",
   "execution_count": 11,
   "id": "2f5c2087",
   "metadata": {
    "execution": {
     "iopub.execute_input": "2023-01-20T09:48:23.383478Z",
     "iopub.status.busy": "2023-01-20T09:48:23.383232Z",
     "iopub.status.idle": "2023-01-20T09:48:23.450622Z",
     "shell.execute_reply": "2023-01-20T09:48:23.449954Z"
    },
    "papermill": {
     "duration": 0.077733,
     "end_time": "2023-01-20T09:48:23.452121",
     "exception": false,
     "start_time": "2023-01-20T09:48:23.374388",
     "status": "completed"
    },
    "tags": []
   },
   "outputs": [
    {
     "data": {
      "text/html": [
       "<div>\n",
       "<style scoped>\n",
       "    .dataframe tbody tr th:only-of-type {\n",
       "        vertical-align: middle;\n",
       "    }\n",
       "\n",
       "    .dataframe tbody tr th {\n",
       "        vertical-align: top;\n",
       "    }\n",
       "\n",
       "    .dataframe thead th {\n",
       "        text-align: right;\n",
       "    }\n",
       "</style>\n",
       "<table border=\"1\" class=\"dataframe\">\n",
       "  <thead>\n",
       "    <tr style=\"text-align: right;\">\n",
       "      <th></th>\n",
       "      <th>Trend-following portfolio (YZ estimator)</th>\n",
       "    </tr>\n",
       "  </thead>\n",
       "  <tbody>\n",
       "    <tr>\n",
       "      <th>CAGR</th>\n",
       "      <td>0.148189</td>\n",
       "    </tr>\n",
       "    <tr>\n",
       "      <th>Annualised vol</th>\n",
       "      <td>0.127288</td>\n",
       "    </tr>\n",
       "    <tr>\n",
       "      <th>Sharpe ratio</th>\n",
       "      <td>1.164206</td>\n",
       "    </tr>\n",
       "    <tr>\n",
       "      <th>Max drawdown</th>\n",
       "      <td>0.305877</td>\n",
       "    </tr>\n",
       "    <tr>\n",
       "      <th>Calmar ratio</th>\n",
       "      <td>0.484474</td>\n",
       "    </tr>\n",
       "    <tr>\n",
       "      <th>Skewness</th>\n",
       "      <td>0.274687</td>\n",
       "    </tr>\n",
       "    <tr>\n",
       "      <th>Kurtosis</th>\n",
       "      <td>21.969560</td>\n",
       "    </tr>\n",
       "    <tr>\n",
       "      <th>Worst return</th>\n",
       "      <td>-0.137043</td>\n",
       "    </tr>\n",
       "    <tr>\n",
       "      <th>Worst 1d return</th>\n",
       "      <td>-0.137043</td>\n",
       "    </tr>\n",
       "    <tr>\n",
       "      <th>Worst 1w return</th>\n",
       "      <td>-0.098542</td>\n",
       "    </tr>\n",
       "    <tr>\n",
       "      <th>Worst 1m return</th>\n",
       "      <td>-0.169177</td>\n",
       "    </tr>\n",
       "  </tbody>\n",
       "</table>\n",
       "</div>"
      ],
      "text/plain": [
       "                 Trend-following portfolio (YZ estimator)\n",
       "CAGR                                             0.148189\n",
       "Annualised vol                                   0.127288\n",
       "Sharpe ratio                                     1.164206\n",
       "Max drawdown                                     0.305877\n",
       "Calmar ratio                                     0.484474\n",
       "Skewness                                         0.274687\n",
       "Kurtosis                                        21.969560\n",
       "Worst return                                    -0.137043\n",
       "Worst 1d return                                 -0.137043\n",
       "Worst 1w return                                 -0.098542\n",
       "Worst 1m return                                 -0.169177"
      ]
     },
     "execution_count": 11,
     "metadata": {},
     "output_type": "execute_result"
    }
   ],
   "source": [
    "engine_vol_eq.pipe(Performance).summary()"
   ]
  },
  {
   "cell_type": "markdown",
   "id": "66e90c6e",
   "metadata": {
    "papermill": {
     "duration": 0.008107,
     "end_time": "2023-01-20T09:48:23.468396",
     "exception": false,
     "start_time": "2023-01-20T09:48:23.460289",
     "status": "completed"
    },
    "tags": []
   },
   "source": [
    "## TREND signal\n",
    "\n",
    "Another improvement BK2020 proposes is to use a continuous signal rather than a binary one in order to reduce the turnover when signals are weak. Specifically they used the t-values with the Newey-West standard error as the signal. They further capped and floored the signal between -1 and +1 to avoid extreme positions.\n",
    "\n",
    "`statsmodels`'s `OLS` class provides a method to compute the Newey-West standard error. https://www.statsmodels.org/stable/generated/statsmodels.regression.linear_model.OLS.html"
   ]
  },
  {
   "cell_type": "code",
   "execution_count": null,
   "id": "5962c167",
   "metadata": {
    "execution": {
     "iopub.execute_input": "2020-11-29T13:31:48.356730Z",
     "iopub.status.busy": "2020-11-29T13:31:48.356602Z",
     "iopub.status.idle": "2020-11-29T13:43:37.546906Z",
     "shell.execute_reply": "2020-11-29T13:43:37.546504Z",
     "shell.execute_reply.started": "2020-11-29T13:31:48.356714Z"
    },
    "papermill": {
     "duration": null,
     "end_time": null,
     "exception": false,
     "start_time": "2023-01-20T09:48:23.476534",
     "status": "running"
    },
    "tags": []
   },
   "outputs": [],
   "source": [
    "engine_trend = BacktestEngine(\n",
    "    strategy=Strategy.DELTA_ONE.value,\n",
    "    instrument=all_futures_baltas2020.index,\n",
    "    signal=signal.ParallelSignal([\n",
    "        signal.VolatilityScale(agg_method='rolling', window=21, ann_factor=261, \n",
    "                               target_volatility=0.4, signal_cap=0.95),\n",
    "        signal.TSMOMBaltas2020()\n",
    "    ], weighting='product'),\n",
    "    weighting=Weighting.EQUAL_WEIGHT.value,\n",
    "    log_level=logging.WARN,\n",
    ")\n",
    "engine_trend.run()"
   ]
  },
  {
   "cell_type": "code",
   "execution_count": null,
   "id": "d4cd6625",
   "metadata": {
    "execution": {
     "iopub.execute_input": "2020-11-29T13:43:37.547465Z",
     "iopub.status.busy": "2020-11-29T13:43:37.547352Z",
     "iopub.status.idle": "2020-11-29T13:44:27.099491Z",
     "shell.execute_reply": "2020-11-29T13:44:27.099088Z",
     "shell.execute_reply.started": "2020-11-29T13:43:37.547435Z"
    },
    "papermill": {
     "duration": null,
     "end_time": null,
     "exception": null,
     "start_time": null,
     "status": "pending"
    },
    "tags": []
   },
   "outputs": [],
   "source": [
    "engine_trend_eq = (engine_trend.calculate_equity_curve(calculate_net=False, rebalance_freq='m')\n",
    "                   .rename('Trend-following portfolio (TREND signal)'))"
   ]
  },
  {
   "cell_type": "code",
   "execution_count": null,
   "id": "dc81650d",
   "metadata": {
    "execution": {
     "iopub.execute_input": "2020-11-29T13:44:27.100049Z",
     "iopub.status.busy": "2020-11-29T13:44:27.099952Z",
     "iopub.status.idle": "2020-11-29T13:44:28.328924Z",
     "shell.execute_reply": "2020-11-29T13:44:28.328456Z",
     "shell.execute_reply.started": "2020-11-29T13:44:27.100036Z"
    },
    "papermill": {
     "duration": null,
     "end_time": null,
     "exception": null,
     "start_time": null,
     "status": "pending"
    },
    "tags": []
   },
   "outputs": [],
   "source": [
    "fig, ax = plt.subplots(figsize=(8, 4.5))\n",
    "engine_trend_eq.plot(ax=ax, logy=True);\n",
    "ax.set_title('Trend-following portfolio (TREND signal)')\n",
    "ax.set_ylabel('Cumulative returns');"
   ]
  },
  {
   "cell_type": "code",
   "execution_count": null,
   "id": "26bed32a",
   "metadata": {
    "execution": {
     "iopub.execute_input": "2020-11-29T13:44:28.329636Z",
     "iopub.status.busy": "2020-11-29T13:44:28.329504Z",
     "iopub.status.idle": "2020-11-29T13:44:28.515713Z",
     "shell.execute_reply": "2020-11-29T13:44:28.515351Z",
     "shell.execute_reply.started": "2020-11-29T13:44:28.329619Z"
    },
    "papermill": {
     "duration": null,
     "end_time": null,
     "exception": null,
     "start_time": null,
     "status": "pending"
    },
    "tags": []
   },
   "outputs": [],
   "source": [
    "engine_trend_eq.pipe(Performance).summary()"
   ]
  },
  {
   "cell_type": "markdown",
   "id": "a58045ec",
   "metadata": {
    "papermill": {
     "duration": null,
     "end_time": null,
     "exception": null,
     "start_time": null,
     "status": "pending"
    },
    "tags": []
   },
   "source": [
    "## Combined\n",
    "\n",
    "Finally we run a backtest by using both the Yang-Zhang volatility estimator and the TREND signal."
   ]
  },
  {
   "cell_type": "code",
   "execution_count": null,
   "id": "f95ee665",
   "metadata": {
    "execution": {
     "iopub.execute_input": "2020-11-29T13:44:28.516292Z",
     "iopub.status.busy": "2020-11-29T13:44:28.516169Z",
     "iopub.status.idle": "2020-11-29T14:02:02.911995Z",
     "shell.execute_reply": "2020-11-29T14:02:02.911601Z",
     "shell.execute_reply.started": "2020-11-29T13:44:28.516275Z"
    },
    "papermill": {
     "duration": null,
     "end_time": null,
     "exception": null,
     "start_time": null,
     "status": "pending"
    },
    "tags": []
   },
   "outputs": [],
   "source": [
    "engine_combined = BacktestEngine(\n",
    "    strategy=Strategy.DELTA_ONE.value,\n",
    "    instrument=all_futures_baltas2020.index,\n",
    "    signal=signal.ParallelSignal([\n",
    "        signal.VolatilityScale(volatility_type=RealisedVolatility.YZ.value,\n",
    "                               agg_method='rolling', window=21, min_periods=10,\n",
    "                               target_volatility=0.4, signal_cap=0.95, ann_factor=261),\n",
    "        signal.TSMOMBaltas2020()\n",
    "    ], weighting='product'),\n",
    "    weighting=Weighting.EQUAL_WEIGHT.value,\n",
    "    log_level=logging.WARN,\n",
    ")\n",
    "engine_combined.run()"
   ]
  },
  {
   "cell_type": "code",
   "execution_count": null,
   "id": "6409d382",
   "metadata": {
    "execution": {
     "iopub.execute_input": "2020-11-29T14:02:02.912539Z",
     "iopub.status.busy": "2020-11-29T14:02:02.912445Z",
     "iopub.status.idle": "2020-11-29T14:02:50.358639Z",
     "shell.execute_reply": "2020-11-29T14:02:50.358144Z",
     "shell.execute_reply.started": "2020-11-29T14:02:02.912527Z"
    },
    "papermill": {
     "duration": null,
     "end_time": null,
     "exception": null,
     "start_time": null,
     "status": "pending"
    },
    "tags": []
   },
   "outputs": [],
   "source": [
    "engine_combined_eq = (engine_combined.calculate_equity_curve(calculate_net=False, rebalance_freq='m')\n",
    "                      .rename('Trend-following portfolio (YZ estimator + TREND signal)'))"
   ]
  },
  {
   "cell_type": "code",
   "execution_count": null,
   "id": "48c59d4f",
   "metadata": {
    "execution": {
     "iopub.execute_input": "2020-11-29T14:02:50.359419Z",
     "iopub.status.busy": "2020-11-29T14:02:50.359216Z",
     "iopub.status.idle": "2020-11-29T14:02:50.674332Z",
     "shell.execute_reply": "2020-11-29T14:02:50.673964Z",
     "shell.execute_reply.started": "2020-11-29T14:02:50.359402Z"
    },
    "papermill": {
     "duration": null,
     "end_time": null,
     "exception": null,
     "start_time": null,
     "status": "pending"
    },
    "tags": []
   },
   "outputs": [],
   "source": [
    "fig, ax = plt.subplots(figsize=(8, 4.5))\n",
    "engine_combined_eq.plot(ax=ax, logy=True)\n",
    "ax.set_title('Trend-following portfolio (YZ estimator + TREND signal)')\n",
    "ax.set_ylabel('Cumulative returns');"
   ]
  },
  {
   "cell_type": "code",
   "execution_count": null,
   "id": "f3715139",
   "metadata": {
    "execution": {
     "iopub.execute_input": "2020-11-29T14:02:50.674937Z",
     "iopub.status.busy": "2020-11-29T14:02:50.674843Z",
     "iopub.status.idle": "2020-11-29T14:02:50.858104Z",
     "shell.execute_reply": "2020-11-29T14:02:50.857652Z",
     "shell.execute_reply.started": "2020-11-29T14:02:50.674925Z"
    },
    "papermill": {
     "duration": null,
     "end_time": null,
     "exception": null,
     "start_time": null,
     "status": "pending"
    },
    "tags": []
   },
   "outputs": [],
   "source": [
    "engine_combined_eq.pipe(Performance).summary()"
   ]
  },
  {
   "cell_type": "markdown",
   "id": "47fe5112",
   "metadata": {
    "papermill": {
     "duration": null,
     "end_time": null,
     "exception": null,
     "start_time": null,
     "status": "pending"
    },
    "tags": []
   },
   "source": [
    "# Comparison\n",
    "\n",
    "In this section we compare the above 4 backtests."
   ]
  },
  {
   "cell_type": "markdown",
   "id": "0d2eaabf",
   "metadata": {
    "papermill": {
     "duration": null,
     "end_time": null,
     "exception": null,
     "start_time": null,
     "status": "pending"
    },
    "tags": []
   },
   "source": [
    "## Performance\n",
    "\n",
    "As reported in BK2020, using the YZ estimator and TREND signal does not alter the performance characteristics. Rather, the TREND signal somewhat improves the Sharpe ratio. Also the TREND signal lowers the annualised volatility from 12.5% to 10.8% with the close-to-close realised volatility."
   ]
  },
  {
   "cell_type": "code",
   "execution_count": null,
   "id": "04eaf3e3",
   "metadata": {
    "execution": {
     "iopub.execute_input": "2020-11-29T14:02:50.858783Z",
     "iopub.status.busy": "2020-11-29T14:02:50.858638Z",
     "iopub.status.idle": "2020-11-29T14:02:50.868734Z",
     "shell.execute_reply": "2020-11-29T14:02:50.868323Z",
     "shell.execute_reply.started": "2020-11-29T14:02:50.858766Z"
    },
    "papermill": {
     "duration": null,
     "end_time": null,
     "exception": null,
     "start_time": null,
     "status": "pending"
    },
    "tags": []
   },
   "outputs": [],
   "source": [
    "performance_comp = pd.concat((engine_original_eq, engine_vol_eq, \n",
    "                              engine_trend_eq, engine_combined_eq), axis=1)"
   ]
  },
  {
   "cell_type": "code",
   "execution_count": null,
   "id": "8fb08cf1",
   "metadata": {
    "execution": {
     "iopub.execute_input": "2020-11-29T14:02:50.869384Z",
     "iopub.status.busy": "2020-11-29T14:02:50.869257Z",
     "iopub.status.idle": "2020-11-29T14:02:51.254848Z",
     "shell.execute_reply": "2020-11-29T14:02:51.254347Z",
     "shell.execute_reply.started": "2020-11-29T14:02:50.869368Z"
    },
    "papermill": {
     "duration": null,
     "end_time": null,
     "exception": null,
     "start_time": null,
     "status": "pending"
    },
    "tags": []
   },
   "outputs": [],
   "source": [
    "fig, ax = plt.subplots(figsize=(8, 4.5))\n",
    "performance_comp.plot(ax=ax, logy=True);\n",
    "ax.set_title('Trend-following portfolio')\n",
    "ax.set_ylabel('Cumulative returns');"
   ]
  },
  {
   "cell_type": "code",
   "execution_count": null,
   "id": "8a25e893",
   "metadata": {
    "execution": {
     "iopub.execute_input": "2020-11-29T14:02:51.255611Z",
     "iopub.status.busy": "2020-11-29T14:02:51.255463Z",
     "iopub.status.idle": "2020-11-29T14:02:51.466310Z",
     "shell.execute_reply": "2020-11-29T14:02:51.465842Z",
     "shell.execute_reply.started": "2020-11-29T14:02:51.255594Z"
    },
    "papermill": {
     "duration": null,
     "end_time": null,
     "exception": null,
     "start_time": null,
     "status": "pending"
    },
    "tags": []
   },
   "outputs": [],
   "source": [
    "performance_comp.pipe(Performance).summary()"
   ]
  },
  {
   "cell_type": "markdown",
   "id": "98e4aa60",
   "metadata": {
    "papermill": {
     "duration": null,
     "end_time": null,
     "exception": null,
     "start_time": null,
     "status": "pending"
    },
    "tags": []
   },
   "source": [
    "## Turnover reduction\n",
    "\n",
    "Again, as reported in BK2020, both enhancements reduce the turnover significantly while not affecting the performance. The chart below shows the reduction in turnover for each futures contract. By utilising the YZ realised volatility and the TREND signal, overall the turnover is reduced by more than 30%."
   ]
  },
  {
   "cell_type": "code",
   "execution_count": null,
   "id": "120c8612",
   "metadata": {
    "execution": {
     "iopub.execute_input": "2020-11-29T14:02:51.467010Z",
     "iopub.status.busy": "2020-11-29T14:02:51.466881Z",
     "iopub.status.idle": "2020-11-29T14:05:55.467518Z",
     "shell.execute_reply": "2020-11-29T14:05:55.467015Z",
     "shell.execute_reply.started": "2020-11-29T14:02:51.466993Z"
    },
    "papermill": {
     "duration": null,
     "end_time": null,
     "exception": null,
     "start_time": null,
     "status": "pending"
    },
    "tags": []
   },
   "outputs": [],
   "source": [
    "engine_original_pos = engine_original.get_position_by_instrument()\n",
    "engine_vol_pos = engine_vol.get_position_by_instrument()\n",
    "engine_trend_pos = engine_trend.get_position_by_instrument()\n",
    "engine_combined_pos = engine_combined.get_position_by_instrument()"
   ]
  },
  {
   "cell_type": "code",
   "execution_count": null,
   "id": "d2502923",
   "metadata": {
    "execution": {
     "iopub.execute_input": "2020-11-29T14:05:55.468286Z",
     "iopub.status.busy": "2020-11-29T14:05:55.468155Z",
     "iopub.status.idle": "2020-11-29T14:05:55.484346Z",
     "shell.execute_reply": "2020-11-29T14:05:55.483841Z",
     "shell.execute_reply.started": "2020-11-29T14:05:55.468269Z"
    },
    "papermill": {
     "duration": null,
     "end_time": null,
     "exception": null,
     "start_time": null,
     "status": "pending"
    },
    "tags": []
   },
   "outputs": [],
   "source": [
    "engine_original_turnover = (engine_original_pos.diff().abs().mean().mul(261)\n",
    "                            .rename('Trend-following portfolio (Moskowitz 2012)'))\n",
    "engine_vol_turnover = (engine_vol_pos.diff().abs().mean().mul(261)\n",
    "                       .rename('Trend-following portfolio (YZ estimator)'))\n",
    "engine_trend_turnover = (engine_trend_pos.diff().abs().mean().mul(261)\n",
    "                         .rename('Trend-following portfolio (TREND signal)'))\n",
    "engine_combined_turnover = (engine_combined_pos.diff().abs().mean().mul(261)\n",
    "                            .rename('Trend-following portfolio (YZ estimator + TREND signal)'))"
   ]
  },
  {
   "cell_type": "code",
   "execution_count": null,
   "id": "5e90b617",
   "metadata": {
    "execution": {
     "iopub.execute_input": "2020-11-29T14:05:55.485055Z",
     "iopub.status.busy": "2020-11-29T14:05:55.484919Z",
     "iopub.status.idle": "2020-11-29T14:05:55.495065Z",
     "shell.execute_reply": "2020-11-29T14:05:55.494584Z",
     "shell.execute_reply.started": "2020-11-29T14:05:55.485032Z"
    },
    "papermill": {
     "duration": null,
     "end_time": null,
     "exception": null,
     "start_time": null,
     "status": "pending"
    },
    "tags": []
   },
   "outputs": [],
   "source": [
    "turnover_reduction = (\n",
    "    pd.concat((engine_vol_turnover, engine_trend_turnover, engine_combined_turnover), axis=1)\n",
    "    .div(engine_original_turnover, axis=0)\n",
    "    .sub(1)\n",
    "    .reindex(index=all_futures_baltas2020.index)\n",
    "    .rename(index=all_futures_baltas2020['name'])\n",
    ")"
   ]
  },
  {
   "cell_type": "code",
   "execution_count": null,
   "id": "adc5053f",
   "metadata": {
    "execution": {
     "iopub.execute_input": "2020-11-29T14:05:55.495740Z",
     "iopub.status.busy": "2020-11-29T14:05:55.495610Z",
     "iopub.status.idle": "2020-11-29T14:05:55.514631Z",
     "shell.execute_reply": "2020-11-29T14:05:55.514250Z",
     "shell.execute_reply.started": "2020-11-29T14:05:55.495723Z"
    },
    "papermill": {
     "duration": null,
     "end_time": null,
     "exception": null,
     "start_time": null,
     "status": "pending"
    },
    "tags": []
   },
   "outputs": [],
   "source": [
    "turnover_reduction.mean()"
   ]
  },
  {
   "cell_type": "code",
   "execution_count": null,
   "id": "eb80faa6",
   "metadata": {
    "execution": {
     "iopub.execute_input": "2020-11-29T14:05:55.516218Z",
     "iopub.status.busy": "2020-11-29T14:05:55.516087Z",
     "iopub.status.idle": "2020-11-29T14:05:56.351004Z",
     "shell.execute_reply": "2020-11-29T14:05:56.350641Z",
     "shell.execute_reply.started": "2020-11-29T14:05:55.516201Z"
    },
    "papermill": {
     "duration": null,
     "end_time": null,
     "exception": null,
     "start_time": null,
     "status": "pending"
    },
    "tags": []
   },
   "outputs": [],
   "source": [
    "ax = turnover_reduction.plot(kind='bar', figsize=(14, 4))\n",
    "ax.yaxis.set_major_formatter(mticker.PercentFormatter(1))\n",
    "ax.axhline(0, color='black', lw=1)\n",
    "ax.axvline(24.5, color='black', lw=1)\n",
    "ax.axvline(30.5, color='black', lw=1)\n",
    "ax.axvline(42.5, color='black', lw=1)\n",
    "ax.set_xlabel('Contract')\n",
    "ax.set_ylabel('Turnover reduction');"
   ]
  },
  {
   "cell_type": "markdown",
   "id": "27ec007d",
   "metadata": {
    "papermill": {
     "duration": null,
     "end_time": null,
     "exception": null,
     "start_time": null,
     "status": "pending"
    },
    "tags": []
   },
   "source": [
    "# Recent performance"
   ]
  },
  {
   "cell_type": "code",
   "execution_count": null,
   "id": "3938e875",
   "metadata": {
    "execution": {
     "iopub.execute_input": "2020-11-29T14:05:56.351727Z",
     "iopub.status.busy": "2020-11-29T14:05:56.351580Z",
     "iopub.status.idle": "2020-11-29T14:05:56.638686Z",
     "shell.execute_reply": "2020-11-29T14:05:56.638230Z",
     "shell.execute_reply.started": "2020-11-29T14:05:56.351710Z"
    },
    "papermill": {
     "duration": null,
     "end_time": null,
     "exception": null,
     "start_time": null,
     "status": "pending"
    },
    "tags": []
   },
   "outputs": [],
   "source": [
    "fig, ax = plt.subplots(figsize=(8, 4.5))\n",
    "performance_comp.tail(252 * 2).pct_change().fillna(0).add(1).cumprod().plot(ax=ax, logy=True);\n",
    "ax.set_title('Trend-following portfolio')\n",
    "ax.set_ylabel('Cumulative returns');"
   ]
  },
  {
   "cell_type": "markdown",
   "id": "6cd99e4d",
   "metadata": {
    "papermill": {
     "duration": null,
     "end_time": null,
     "exception": null,
     "start_time": null,
     "status": "pending"
    },
    "tags": []
   },
   "source": [
    "# Reference\n",
    "\n",
    "- Baltas, N. and Kosowski, R., 2020. Demystifying time-series momentum strategies: Volatility estimators, trading rules and pairwise correlations. Market Momentum: Theory and Practice\", Wiley.\n",
    "- Moskowitz, T.J., Ooi, Y.H. and Pedersen, L.H., 2012. Time series momentum. Journal of financial economics, 104(2), pp.228-250."
   ]
  },
  {
   "cell_type": "code",
   "execution_count": null,
   "id": "7f8ab88a",
   "metadata": {
    "ExecuteTime": {
     "end_time": "2020-08-30T21:20:32.431574Z",
     "start_time": "2020-08-30T21:20:32.429370Z"
    },
    "execution": {
     "iopub.execute_input": "2020-11-29T14:05:56.639493Z",
     "iopub.status.busy": "2020-11-29T14:05:56.639306Z",
     "iopub.status.idle": "2020-11-29T14:05:56.642004Z",
     "shell.execute_reply": "2020-11-29T14:05:56.641537Z",
     "shell.execute_reply.started": "2020-11-29T14:05:56.639476Z"
    },
    "papermill": {
     "duration": null,
     "end_time": null,
     "exception": null,
     "start_time": null,
     "status": "pending"
    },
    "tags": []
   },
   "outputs": [],
   "source": [
    "print(f'Updated: {datetime.utcnow():%d-%b-%Y %H:%M}')"
   ]
  }
 ],
 "metadata": {
  "hide_input": false,
  "kernelspec": {
   "display_name": "Python 3",
   "language": "python",
   "name": "python3"
  },
  "language_info": {
   "codemirror_mode": {
    "name": "ipython",
    "version": 3
   },
   "file_extension": ".py",
   "mimetype": "text/x-python",
   "name": "python",
   "nbconvert_exporter": "python",
   "pygments_lexer": "ipython3",
   "version": "3.8.1"
  },
  "nav_menu": {},
  "papermill": {
   "duration": null,
   "end_time": null,
   "environment_variables": {},
   "exception": null,
   "input_path": "notebooks/papermill/trend_following_baltas2020.ipynb",
   "output_path": "notebooks/trend_following_baltas2020.ipynb",
   "parameters": {},
   "start_time": "2023-01-20T09:17:15.711439",
   "version": "2.1.3"
  },
  "toc": {
   "base_numbering": 1,
   "nav_menu": {},
   "number_sections": true,
   "sideBar": true,
   "skip_h1_title": false,
   "title_cell": "Table of Contents",
   "title_sidebar": "Contents",
   "toc_cell": true,
   "toc_position": {
    "height": "calc(100% - 180px)",
    "left": "10px",
    "top": "150px",
    "width": "165px"
   },
   "toc_section_display": "block",
   "toc_window_display": true
  }
 },
 "nbformat": 4,
 "nbformat_minor": 5
}