{
 "cells": [
  {
   "cell_type": "markdown",
   "id": "52443507",
   "metadata": {
    "papermill": {
     "duration": 0.010683,
     "end_time": "2022-09-04T10:39:52.957162",
     "exception": false,
     "start_time": "2022-09-04T10:39:52.946479",
     "status": "completed"
    },
    "tags": []
   },
   "source": [
    "# Trend-following\n",
    "\n",
    "This notebook implements a few improvements that Baltas and Kosowski (2020) (BK2020, hereafter) propose to the time-series momentum strategy which originally appeared in Moskowitz et al (2012).\n",
    "\n",
    "Note that like other notebooks, all backtests are performed by using a private library called `vivace`."
   ]
  },
  {
   "cell_type": "code",
   "execution_count": 1,
   "id": "0b6d9d19",
   "metadata": {
    "ExecuteTime": {
     "end_time": "2020-08-30T21:08:49.524262Z",
     "start_time": "2020-08-30T21:08:48.720115Z"
    },
    "execution": {
     "iopub.execute_input": "2022-09-04T10:39:52.978422Z",
     "iopub.status.busy": "2022-09-04T10:39:52.977815Z",
     "iopub.status.idle": "2022-09-04T10:39:55.786438Z",
     "shell.execute_reply": "2022-09-04T10:39:55.785574Z"
    },
    "papermill": {
     "duration": 2.822121,
     "end_time": "2022-09-04T10:39:55.789158",
     "exception": false,
     "start_time": "2022-09-04T10:39:52.967037",
     "status": "completed"
    },
    "tags": []
   },
   "outputs": [],
   "source": [
    "%matplotlib inline\n",
    "from datetime import datetime\n",
    "import logging\n",
    "import warnings\n",
    "warnings.simplefilter(action='ignore', category=FutureWarning)\n",
    "\n",
    "import pandas as pd\n",
    "import matplotlib.pyplot as plt\n",
    "import matplotlib.ticker as mticker\n",
    "plt.style.use('bmh')\n",
    "\n",
    "from vivace.backtest import signal\n",
    "from vivace.backtest import processing\n",
    "from vivace.backtest.contract import all_futures_baltas2020\n",
    "from vivace.backtest.engine import BacktestEngine\n",
    "from vivace.backtest.enums import Strategy, Weighting, RealisedVolatility\n",
    "from vivace.backtest.stats import Performance"
   ]
  },
  {
   "cell_type": "markdown",
   "id": "e11ec5d4",
   "metadata": {
    "papermill": {
     "duration": 0.015639,
     "end_time": "2022-09-04T10:39:55.819886",
     "exception": false,
     "start_time": "2022-09-04T10:39:55.804247",
     "status": "completed"
    },
    "tags": []
   },
   "source": [
    "# Data"
   ]
  },
  {
   "cell_type": "code",
   "execution_count": 2,
   "id": "70df171f",
   "metadata": {
    "ExecuteTime": {
     "end_time": "2020-08-30T21:08:49.529214Z",
     "start_time": "2020-08-30T21:08:49.525465Z"
    },
    "execution": {
     "iopub.execute_input": "2022-09-04T10:39:55.841772Z",
     "iopub.status.busy": "2022-09-04T10:39:55.841024Z",
     "iopub.status.idle": "2022-09-04T10:39:55.848640Z",
     "shell.execute_reply": "2022-09-04T10:39:55.847994Z"
    },
    "papermill": {
     "duration": 0.020423,
     "end_time": "2022-09-04T10:39:55.850247",
     "exception": false,
     "start_time": "2022-09-04T10:39:55.829824",
     "status": "completed"
    },
    "tags": []
   },
   "outputs": [
    {
     "data": {
      "text/plain": [
       "array(['WTI Crude Oil', 'Brent Crude Oil', 'Heating Oil', 'Natural Gas',\n",
       "       'Gasoline', 'Copper', 'Gold', 'Palladium', 'Platinum', 'Silver',\n",
       "       'Feeder Cattle', 'Live Cattle', 'Lean Hog', 'Corn', 'Oats',\n",
       "       'Soybean Oil', 'Soybean Meal', 'Soybean', 'Wheat', 'Cocoa',\n",
       "       'Coffee', 'Cotton', 'Lumber', 'Orange Juice', 'Sugar',\n",
       "       'Australian Dollar', 'Canadian Dollar', 'Swiss Franc', 'Euro',\n",
       "       'British Pound', 'Japanese Yen', 'E-Mini Nasdaq 100',\n",
       "       'E-mini S&P 500', 'E-mini Russell 2000', 'FTSE 100', 'DAX',\n",
       "       'CAC 40', 'IBEX 35', 'AEX', 'Swiss Market Index', 'SPI 200',\n",
       "       'Topix', 'Hang Seng', 'US 2-year Treasury', 'US 5-year Treasury',\n",
       "       'US 10-year Treasury', 'US treasury Bond', 'Germany Schatz',\n",
       "       'Germany Bobl', 'Germany Bund', 'Germany Buxl', 'Gilt',\n",
       "       'Canada 10-year Treasury', 'JGB'], dtype=object)"
      ]
     },
     "execution_count": 2,
     "metadata": {},
     "output_type": "execute_result"
    }
   ],
   "source": [
    "all_futures_baltas2020['name'].values"
   ]
  },
  {
   "cell_type": "code",
   "execution_count": 3,
   "id": "d7dffbc0",
   "metadata": {
    "ExecuteTime": {
     "end_time": "2020-08-30T21:08:49.542477Z",
     "start_time": "2020-08-30T21:08:49.530487Z"
    },
    "execution": {
     "iopub.execute_input": "2022-09-04T10:39:55.895757Z",
     "iopub.status.busy": "2022-09-04T10:39:55.895024Z",
     "iopub.status.idle": "2022-09-04T10:39:55.899119Z",
     "shell.execute_reply": "2022-09-04T10:39:55.898463Z"
    },
    "papermill": {
     "duration": 0.040176,
     "end_time": "2022-09-04T10:39:55.900706",
     "exception": false,
     "start_time": "2022-09-04T10:39:55.860530",
     "status": "completed"
    },
    "tags": []
   },
   "outputs": [
    {
     "name": "stdout",
     "output_type": "stream",
     "text": [
      "54\n"
     ]
    }
   ],
   "source": [
    "print(len(all_futures_baltas2020))"
   ]
  },
  {
   "cell_type": "markdown",
   "id": "e4b54161",
   "metadata": {
    "papermill": {
     "duration": 0.010245,
     "end_time": "2022-09-04T10:39:55.920745",
     "exception": false,
     "start_time": "2022-09-04T10:39:55.910500",
     "status": "completed"
    },
    "tags": []
   },
   "source": [
    "We try to use the same contract as the original paper where possible, resulting 54 futures contracts to analyse. The trading universe covers a wide range of asset classes and regions, and is made up of following instruments:\n",
    "- Equity index futures\n",
    "- Government bond futures\n",
    "- FX futures\n",
    "- Commodity futures\n",
    "\n",
    "where the same trend detection method is applied."
   ]
  },
  {
   "cell_type": "markdown",
   "id": "7302164a",
   "metadata": {
    "papermill": {
     "duration": 0.009572,
     "end_time": "2022-09-04T10:39:55.939956",
     "exception": false,
     "start_time": "2022-09-04T10:39:55.930384",
     "status": "completed"
    },
    "tags": []
   },
   "source": [
    "# Performance\n"
   ]
  },
  {
   "cell_type": "markdown",
   "id": "86b261d5",
   "metadata": {
    "papermill": {
     "duration": 0.009628,
     "end_time": "2022-09-04T10:39:55.959220",
     "exception": false,
     "start_time": "2022-09-04T10:39:55.949592",
     "status": "completed"
    },
    "tags": []
   },
   "source": [
    "## Moskowitz et al\n",
    "\n",
    "First we calculate the original trend-following portfolio with a more traditional close-to-close realised volatility estimator. Although Moskowitz et al uses the exponentially weighted standard deviation, BK2020 appears to compare against the rolling standard deviation."
   ]
  },
  {
   "cell_type": "code",
   "execution_count": 4,
   "id": "ac05fb24",
   "metadata": {
    "execution": {
     "iopub.execute_input": "2022-09-04T10:39:55.979944Z",
     "iopub.status.busy": "2022-09-04T10:39:55.979616Z",
     "iopub.status.idle": "2022-09-04T10:49:52.068725Z",
     "shell.execute_reply": "2022-09-04T10:49:52.067879Z"
    },
    "papermill": {
     "duration": 596.102616,
     "end_time": "2022-09-04T10:49:52.071451",
     "exception": false,
     "start_time": "2022-09-04T10:39:55.968835",
     "status": "completed"
    },
    "tags": []
   },
   "outputs": [],
   "source": [
    "engine_original = BacktestEngine(\n",
    "    strategy=Strategy.DELTA_ONE.value,\n",
    "    instrument=all_futures_baltas2020.index,\n",
    "    signal=signal.ParallelSignal([\n",
    "        signal.VolatilityScale(agg_method='rolling', window=21, ann_factor=261, \n",
    "                               target_volatility=0.4, signal_cap=0.95),\n",
    "        signal.TSMOMMoskowitz2012(post_process=processing.AsFreq(freq='m', method='pad'))\n",
    "    ], weighting='product'),\n",
    "    weighting=Weighting.EQUAL_WEIGHT.value,\n",
    "    log_level=logging.WARN,\n",
    ")\n",
    "engine_original.run()"
   ]
  },
  {
   "cell_type": "code",
   "execution_count": 5,
   "id": "0a1863a2",
   "metadata": {
    "execution": {
     "iopub.execute_input": "2022-09-04T10:49:52.104159Z",
     "iopub.status.busy": "2022-09-04T10:49:52.103870Z",
     "iopub.status.idle": "2022-09-04T10:51:19.647474Z",
     "shell.execute_reply": "2022-09-04T10:51:19.646428Z"
    },
    "papermill": {
     "duration": 87.562339,
     "end_time": "2022-09-04T10:51:19.649524",
     "exception": false,
     "start_time": "2022-09-04T10:49:52.087185",
     "status": "completed"
    },
    "tags": []
   },
   "outputs": [],
   "source": [
    "engine_original_eq = (engine_original.calculate_equity_curve(calculate_net=False, rebalance_freq='m')\n",
    "                      .rename('Trend-following portfolio (Moskowitz 2012)'))"
   ]
  },
  {
   "cell_type": "code",
   "execution_count": 6,
   "id": "923bf81a",
   "metadata": {
    "execution": {
     "iopub.execute_input": "2022-09-04T10:51:19.670656Z",
     "iopub.status.busy": "2022-09-04T10:51:19.670392Z",
     "iopub.status.idle": "2022-09-04T10:51:20.408225Z",
     "shell.execute_reply": "2022-09-04T10:51:20.407410Z"
    },
    "papermill": {
     "duration": 0.750322,
     "end_time": "2022-09-04T10:51:20.409852",
     "exception": false,
     "start_time": "2022-09-04T10:51:19.659530",
     "status": "completed"
    },
    "tags": []
   },
   "outputs": [
    {
     "data": {
      "image/png": "[encoded data removed]",
      "text/plain": [
       "<Figure size 576x324 with 1 Axes>"
      ]
     },
     "metadata": {
      "needs_background": "light"
     },
     "output_type": "display_data"
    }
   ],
   "source": [
    "fig, ax = plt.subplots(figsize=(8, 4.5))\n",
    "engine_original_eq.plot(ax=ax, logy=True)\n",
    "ax.set_title('Trend-following portfolio (Moskowitz 2012)')\n",
    "ax.set_ylabel('Cumulative returns');"
   ]
  },
  {
   "cell_type": "code",
   "execution_count": 7,
   "id": "14e2ab12",
   "metadata": {
    "execution": {
     "iopub.execute_input": "2022-09-04T10:51:20.432813Z",
     "iopub.status.busy": "2022-09-04T10:51:20.432379Z",
     "iopub.status.idle": "2022-09-04T10:51:20.523677Z",
     "shell.execute_reply": "2022-09-04T10:51:20.522764Z"
    },
    "papermill": {
     "duration": 0.105325,
     "end_time": "2022-09-04T10:51:20.525615",
     "exception": false,
     "start_time": "2022-09-04T10:51:20.420290",
     "status": "completed"
    },
    "tags": []
   },
   "outputs": [
    {
     "data": {
      "text/html": [
       "<div>\n",
       "<style scoped>\n",
       "    .dataframe tbody tr th:only-of-type {\n",
       "        vertical-align: middle;\n",
       "    }\n",
       "\n",
       "    .dataframe tbody tr th {\n",
       "        vertical-align: top;\n",
       "    }\n",
       "\n",
       "    .dataframe thead th {\n",
       "        text-align: right;\n",
       "    }\n",
       "</style>\n",
       "<table border=\"1\" class=\"dataframe\">\n",
       "  <thead>\n",
       "    <tr style=\"text-align: right;\">\n",
       "      <th></th>\n",
       "      <th>Trend-following portfolio (Moskowitz 2012)</th>\n",
       "    </tr>\n",
       "  </thead>\n",
       "  <tbody>\n",
       "    <tr>\n",
       "      <th>CAGR</th>\n",
       "      <td>0.148105</td>\n",
       "    </tr>\n",
       "    <tr>\n",
       "      <th>Annualised vol</th>\n",
       "      <td>0.125000</td>\n",
       "    </tr>\n",
       "    <tr>\n",
       "      <th>Sharpe ratio</th>\n",
       "      <td>1.184838</td>\n",
       "    </tr>\n",
       "    <tr>\n",
       "      <th>Max drawdown</th>\n",
       "      <td>0.259239</td>\n",
       "    </tr>\n",
       "    <tr>\n",
       "      <th>Calmar ratio</th>\n",
       "      <td>0.571306</td>\n",
       "    </tr>\n",
       "    <tr>\n",
       "      <th>Skewness</th>\n",
       "      <td>0.073350</td>\n",
       "    </tr>\n",
       "    <tr>\n",
       "      <th>Kurtosis</th>\n",
       "      <td>19.312284</td>\n",
       "    </tr>\n",
       "    <tr>\n",
       "      <th>Worst return</th>\n",
       "      <td>-0.126276</td>\n",
       "    </tr>\n",
       "    <tr>\n",
       "      <th>Worst 1d return</th>\n",
       "      <td>-0.126276</td>\n",
       "    </tr>\n",
       "    <tr>\n",
       "      <th>Worst 1w return</th>\n",
       "      <td>-0.107725</td>\n",
       "    </tr>\n",
       "    <tr>\n",
       "      <th>Worst 1m return</th>\n",
       "      <td>-0.152667</td>\n",
       "    </tr>\n",
       "  </tbody>\n",
       "</table>\n",
       "</div>"
      ],
      "text/plain": [
       "                 Trend-following portfolio (Moskowitz 2012)\n",
       "CAGR                                               0.148105\n",
       "Annualised vol                                     0.125000\n",
       "Sharpe ratio                                       1.184838\n",
       "Max drawdown                                       0.259239\n",
       "Calmar ratio                                       0.571306\n",
       "Skewness                                           0.073350\n",
       "Kurtosis                                          19.312284\n",
       "Worst return                                      -0.126276\n",
       "Worst 1d return                                   -0.126276\n",
       "Worst 1w return                                   -0.107725\n",
       "Worst 1m return                                   -0.152667"
      ]
     },
     "execution_count": 7,
     "metadata": {},
     "output_type": "execute_result"
    }
   ],
   "source": [
    "engine_original_eq.pipe(Performance).summary()"
   ]
  },
  {
   "cell_type": "markdown",
   "id": "38e4c329",
   "metadata": {
    "papermill": {
     "duration": 0.010389,
     "end_time": "2022-09-04T10:51:20.546438",
     "exception": false,
     "start_time": "2022-09-04T10:51:20.536049",
     "status": "completed"
    },
    "tags": []
   },
   "source": [
    "\n",
    "## Volatility estimator\n",
    "BK2020 proposes a few changes in order to enhance the original trend-following strategy Moskowitz et al reported. The first thing is to use a more sophisticated realised volatility estimators for volatility scaling. Moskowitz used the exponentially weighted standard deviation with close-to-close. On the other hand, BK2020 suggests to use Yang-Zhang estimator as it is much more efficient."
   ]
  },
  {
   "cell_type": "code",
   "execution_count": 8,
   "id": "847ddbf3",
   "metadata": {
    "ExecuteTime": {
     "end_time": "2020-08-30T21:18:24.661167Z",
     "start_time": "2020-08-30T21:08:49.544232Z"
    },
    "execution": {
     "iopub.execute_input": "2022-09-04T10:51:20.568415Z",
     "iopub.status.busy": "2022-09-04T10:51:20.568153Z",
     "iopub.status.idle": "2022-09-04T11:10:34.105659Z",
     "shell.execute_reply": "2022-09-04T11:10:34.104798Z"
    },
    "papermill": {
     "duration": 1153.550814,
     "end_time": "2022-09-04T11:10:34.107605",
     "exception": false,
     "start_time": "2022-09-04T10:51:20.556791",
     "status": "completed"
    },
    "tags": []
   },
   "outputs": [],
   "source": [
    "engine_vol = BacktestEngine(\n",
    "    strategy=Strategy.DELTA_ONE.value,\n",
    "    instrument=all_futures_baltas2020.index,\n",
    "    signal=signal.ParallelSignal([\n",
    "        signal.VolatilityScale(volatility_type=RealisedVolatility.YZ.value,\n",
    "                               agg_method='rolling', window=21, min_periods=10,\n",
    "                               target_volatility=0.4, signal_cap=0.95, ann_factor=261),\n",
    "        signal.TSMOMMoskowitz2012(post_process=processing.AsFreq(freq='m', method='pad'))\n",
    "    ], weighting='product'),\n",
    "    weighting=Weighting.EQUAL_WEIGHT.value,\n",
    "    log_level=logging.WARN,\n",
    ")\n",
    "engine_vol.run()"
   ]
  },
  {
   "cell_type": "code",
   "execution_count": 9,
   "id": "f42a3c87",
   "metadata": {
    "execution": {
     "iopub.execute_input": "2022-09-04T11:10:34.129935Z",
     "iopub.status.busy": "2022-09-04T11:10:34.129691Z",
     "iopub.status.idle": "2022-09-04T11:11:55.440014Z",
     "shell.execute_reply": "2022-09-04T11:11:55.439255Z"
    },
    "papermill": {
     "duration": 81.323454,
     "end_time": "2022-09-04T11:11:55.441826",
     "exception": false,
     "start_time": "2022-09-04T11:10:34.118372",
     "status": "completed"
    },
    "tags": []
   },
   "outputs": [],
   "source": [
    "engine_vol_eq = (engine_vol.calculate_equity_curve(calculate_net=False, rebalance_freq='m')\n",
    "                 .rename('Trend-following portfolio (YZ estimator)'))"
   ]
  },
  {
   "cell_type": "code",
   "execution_count": 10,
   "id": "14850d1b",
   "metadata": {
    "execution": {
     "iopub.execute_input": "2022-09-04T11:11:55.465185Z",
     "iopub.status.busy": "2022-09-04T11:11:55.464844Z",
     "iopub.status.idle": "2022-09-04T11:11:56.041958Z",
     "shell.execute_reply": "2022-09-04T11:11:56.041308Z"
    },
    "papermill": {
     "duration": 0.590688,
     "end_time": "2022-09-04T11:11:56.043627",
     "exception": false,
     "start_time": "2022-09-04T11:11:55.452939",
     "status": "completed"
    },
    "tags": []
   },
   "outputs": [
    {
     "data": {
      "image/png": "[encoded data removed]",
      "text/plain": [
       "<Figure size 576x324 with 1 Axes>"
      ]
     },
     "metadata": {
      "needs_background": "light"
     },
     "output_type": "display_data"
    }
   ],
   "source": [
    "fig, ax = plt.subplots(figsize=(8, 4.5))\n",
    "engine_vol_eq.plot(ax=ax, logy=True);\n",
    "ax.set_title('Trend-following portfolio (YZ estimator)')\n",
    "ax.set_ylabel('Cumulative returns');"
   ]
  },
  {
   "cell_type": "code",
   "execution_count": 11,
   "id": "8af4cc18",
   "metadata": {
    "execution": {
     "iopub.execute_input": "2022-09-04T11:11:56.066588Z",
     "iopub.status.busy": "2022-09-04T11:11:56.066277Z",
     "iopub.status.idle": "2022-09-04T11:11:56.141693Z",
     "shell.execute_reply": "2022-09-04T11:11:56.140976Z"
    },
    "papermill": {
     "duration": 0.088393,
     "end_time": "2022-09-04T11:11:56.143264",
     "exception": false,
     "start_time": "2022-09-04T11:11:56.054871",
     "status": "completed"
    },
    "tags": []
   },
   "outputs": [
    {
     "data": {
      "text/html": [
       "<div>\n",
       "<style scoped>\n",
       "    .dataframe tbody tr th:only-of-type {\n",
       "        vertical-align: middle;\n",
       "    }\n",
       "\n",
       "    .dataframe tbody tr th {\n",
       "        vertical-align: top;\n",
       "    }\n",
       "\n",
       "    .dataframe thead th {\n",
       "        text-align: right;\n",
       "    }\n",
       "</style>\n",
       "<table border=\"1\" class=\"dataframe\">\n",
       "  <thead>\n",
       "    <tr style=\"text-align: right;\">\n",
       "      <th></th>\n",
       "      <th>Trend-following portfolio (YZ estimator)</th>\n",
       "    </tr>\n",
       "  </thead>\n",
       "  <tbody>\n",
       "    <tr>\n",
       "      <th>CAGR</th>\n",
       "      <td>0.149790</td>\n",
       "    </tr>\n",
       "    <tr>\n",
       "      <th>Annualised vol</th>\n",
       "      <td>0.127287</td>\n",
       "    </tr>\n",
       "    <tr>\n",
       "      <th>Sharpe ratio</th>\n",
       "      <td>1.176789</td>\n",
       "    </tr>\n",
       "    <tr>\n",
       "      <th>Max drawdown</th>\n",
       "      <td>0.305877</td>\n",
       "    </tr>\n",
       "    <tr>\n",
       "      <th>Calmar ratio</th>\n",
       "      <td>0.489709</td>\n",
       "    </tr>\n",
       "    <tr>\n",
       "      <th>Skewness</th>\n",
       "      <td>0.280150</td>\n",
       "    </tr>\n",
       "    <tr>\n",
       "      <th>Kurtosis</th>\n",
       "      <td>22.091206</td>\n",
       "    </tr>\n",
       "    <tr>\n",
       "      <th>Worst return</th>\n",
       "      <td>-0.137043</td>\n",
       "    </tr>\n",
       "    <tr>\n",
       "      <th>Worst 1d return</th>\n",
       "      <td>-0.137043</td>\n",
       "    </tr>\n",
       "    <tr>\n",
       "      <th>Worst 1w return</th>\n",
       "      <td>-0.098542</td>\n",
       "    </tr>\n",
       "    <tr>\n",
       "      <th>Worst 1m return</th>\n",
       "      <td>-0.169177</td>\n",
       "    </tr>\n",
       "  </tbody>\n",
       "</table>\n",
       "</div>"
      ],
      "text/plain": [
       "                 Trend-following portfolio (YZ estimator)\n",
       "CAGR                                             0.149790\n",
       "Annualised vol                                   0.127287\n",
       "Sharpe ratio                                     1.176789\n",
       "Max drawdown                                     0.305877\n",
       "Calmar ratio                                     0.489709\n",
       "Skewness                                         0.280150\n",
       "Kurtosis                                        22.091206\n",
       "Worst return                                    -0.137043\n",
       "Worst 1d return                                 -0.137043\n",
       "Worst 1w return                                 -0.098542\n",
       "Worst 1m return                                 -0.169177"
      ]
     },
     "execution_count": 11,
     "metadata": {},
     "output_type": "execute_result"
    }
   ],
   "source": [
    "engine_vol_eq.pipe(Performance).summary()"
   ]
  },
  {
   "cell_type": "markdown",
   "id": "66a21baa",
   "metadata": {
    "papermill": {
     "duration": 0.010558,
     "end_time": "2022-09-04T11:11:56.164511",
     "exception": false,
     "start_time": "2022-09-04T11:11:56.153953",
     "status": "completed"
    },
    "tags": []
   },
   "source": [
    "## TREND signal\n",
    "\n",
    "Another improvement BK2020 proposes is to use a continuous signal rather than a binary one in order to reduce the turnover when signals are weak. Specifically they used the t-values with the Newey-West standard error as the signal. They further capped and floored the signal between -1 and +1 to avoid extreme positions.\n",
    "\n",
    "`statsmodels`'s `OLS` class provides a method to compute the Newey-West standard error. https://www.statsmodels.org/stable/generated/statsmodels.regression.linear_model.OLS.html"
   ]
  },
  {
   "cell_type": "code",
   "execution_count": 12,
   "id": "eadef3c7",
   "metadata": {
    "execution": {
     "iopub.execute_input": "2022-09-04T11:11:56.187104Z",
     "iopub.status.busy": "2022-09-04T11:11:56.186789Z",
     "iopub.status.idle": "2022-09-04T11:28:42.504267Z",
     "shell.execute_reply": "2022-09-04T11:28:42.503573Z"
    },
    "papermill": {
     "duration": 1006.330863,
     "end_time": "2022-09-04T11:28:42.506049",
     "exception": false,
     "start_time": "2022-09-04T11:11:56.175186",
     "status": "completed"
    },
    "tags": []
   },
   "outputs": [],
   "source": [
    "engine_trend = BacktestEngine(\n",
    "    strategy=Strategy.DELTA_ONE.value,\n",
    "    instrument=all_futures_baltas2020.index,\n",
    "    signal=signal.ParallelSignal([\n",
    "        signal.VolatilityScale(agg_method='rolling', window=21, ann_factor=261, \n",
    "                               target_volatility=0.4, signal_cap=0.95),\n",
    "        signal.TSMOMBaltas2020()\n",
    "    ], weighting='product'),\n",
    "    weighting=Weighting.EQUAL_WEIGHT.value,\n",
    "    log_level=logging.WARN,\n",
    ")\n",
    "engine_trend.run()"
   ]
  },
  {
   "cell_type": "code",
   "execution_count": 13,
   "id": "2fdb204a",
   "metadata": {
    "execution": {
     "iopub.execute_input": "2022-09-04T11:28:42.530722Z",
     "iopub.status.busy": "2022-09-04T11:28:42.530245Z",
     "iopub.status.idle": "2022-09-04T11:30:08.534496Z",
     "shell.execute_reply": "2022-09-04T11:30:08.533453Z"
    },
    "papermill": {
     "duration": 86.018989,
     "end_time": "2022-09-04T11:30:08.537164",
     "exception": false,
     "start_time": "2022-09-04T11:28:42.518175",
     "status": "completed"
    },
    "tags": []
   },
   "outputs": [],
   "source": [
    "engine_trend_eq = (engine_trend.calculate_equity_curve(calculate_net=False, rebalance_freq='m')\n",
    "                   .rename('Trend-following portfolio (TREND signal)'))"
   ]
  },
  {
   "cell_type": "code",
   "execution_count": 14,
   "id": "23fe2f24",
   "metadata": {
    "execution": {
     "iopub.execute_input": "2022-09-04T11:30:08.563891Z",
     "iopub.status.busy": "2022-09-04T11:30:08.563551Z",
     "iopub.status.idle": "2022-09-04T11:30:09.212937Z",
     "shell.execute_reply": "2022-09-04T11:30:09.212062Z"
    },
    "papermill": {
     "duration": 0.664131,
     "end_time": "2022-09-04T11:30:09.214770",
     "exception": false,
     "start_time": "2022-09-04T11:30:08.550639",
     "status": "completed"
    },
    "tags": []
   },
   "outputs": [
    {
     "data": {
      "image/png": "[encoded data removed]",
      "text/plain": [
       "<Figure size 576x324 with 1 Axes>"
      ]
     },
     "metadata": {
      "needs_background": "light"
     },
     "output_type": "display_data"
    }
   ],
   "source": [
    "fig, ax = plt.subplots(figsize=(8, 4.5))\n",
    "engine_trend_eq.plot(ax=ax, logy=True);\n",
    "ax.set_title('Trend-following portfolio (TREND signal)')\n",
    "ax.set_ylabel('Cumulative returns');"
   ]
  },
  {
   "cell_type": "code",
   "execution_count": 15,
   "id": "e3f4d240",
   "metadata": {
    "execution": {
     "iopub.execute_input": "2022-09-04T11:30:09.243229Z",
     "iopub.status.busy": "2022-09-04T11:30:09.242945Z",
     "iopub.status.idle": "2022-09-04T11:30:09.330011Z",
     "shell.execute_reply": "2022-09-04T11:30:09.329213Z"
    },
    "papermill": {
     "duration": 0.103992,
     "end_time": "2022-09-04T11:30:09.332147",
     "exception": false,
     "start_time": "2022-09-04T11:30:09.228155",
     "status": "completed"
    },
    "tags": []
   },
   "outputs": [
    {
     "data": {
      "text/html": [
       "<div>\n",
       "<style scoped>\n",
       "    .dataframe tbody tr th:only-of-type {\n",
       "        vertical-align: middle;\n",
       "    }\n",
       "\n",
       "    .dataframe tbody tr th {\n",
       "        vertical-align: top;\n",
       "    }\n",
       "\n",
       "    .dataframe thead th {\n",
       "        text-align: right;\n",
       "    }\n",
       "</style>\n",
       "<table border=\"1\" class=\"dataframe\">\n",
       "  <thead>\n",
       "    <tr style=\"text-align: right;\">\n",
       "      <th></th>\n",
       "      <th>Trend-following portfolio (TREND signal)</th>\n",
       "    </tr>\n",
       "  </thead>\n",
       "  <tbody>\n",
       "    <tr>\n",
       "      <th>CAGR</th>\n",
       "      <td>0.139943</td>\n",
       "    </tr>\n",
       "    <tr>\n",
       "      <th>Annualised vol</th>\n",
       "      <td>0.107936</td>\n",
       "    </tr>\n",
       "    <tr>\n",
       "      <th>Sharpe ratio</th>\n",
       "      <td>1.296533</td>\n",
       "    </tr>\n",
       "    <tr>\n",
       "      <th>Max drawdown</th>\n",
       "      <td>0.294584</td>\n",
       "    </tr>\n",
       "    <tr>\n",
       "      <th>Calmar ratio</th>\n",
       "      <td>0.475054</td>\n",
       "    </tr>\n",
       "    <tr>\n",
       "      <th>Skewness</th>\n",
       "      <td>0.158714</td>\n",
       "    </tr>\n",
       "    <tr>\n",
       "      <th>Kurtosis</th>\n",
       "      <td>27.984678</td>\n",
       "    </tr>\n",
       "    <tr>\n",
       "      <th>Worst return</th>\n",
       "      <td>-0.121269</td>\n",
       "    </tr>\n",
       "    <tr>\n",
       "      <th>Worst 1d return</th>\n",
       "      <td>-0.121269</td>\n",
       "    </tr>\n",
       "    <tr>\n",
       "      <th>Worst 1w return</th>\n",
       "      <td>-0.110077</td>\n",
       "    </tr>\n",
       "    <tr>\n",
       "      <th>Worst 1m return</th>\n",
       "      <td>-0.171789</td>\n",
       "    </tr>\n",
       "  </tbody>\n",
       "</table>\n",
       "</div>"
      ],
      "text/plain": [
       "                 Trend-following portfolio (TREND signal)\n",
       "CAGR                                             0.139943\n",
       "Annualised vol                                   0.107936\n",
       "Sharpe ratio                                     1.296533\n",
       "Max drawdown                                     0.294584\n",
       "Calmar ratio                                     0.475054\n",
       "Skewness                                         0.158714\n",
       "Kurtosis                                        27.984678\n",
       "Worst return                                    -0.121269\n",
       "Worst 1d return                                 -0.121269\n",
       "Worst 1w return                                 -0.110077\n",
       "Worst 1m return                                 -0.171789"
      ]
     },
     "execution_count": 15,
     "metadata": {},
     "output_type": "execute_result"
    }
   ],
   "source": [
    "engine_trend_eq.pipe(Performance).summary()"
   ]
  },
  {
   "cell_type": "markdown",
   "id": "7d27b7ed",
   "metadata": {
    "papermill": {
     "duration": 0.013187,
     "end_time": "2022-09-04T11:30:09.358120",
     "exception": false,
     "start_time": "2022-09-04T11:30:09.344933",
     "status": "completed"
    },
    "tags": []
   },
   "source": [
    "## Combined\n",
    "\n",
    "Finally we run a backtest by using both the Yang-Zhang volatility estimator and the TREND signal."
   ]
  },
  {
   "cell_type": "code",
   "execution_count": 16,
   "id": "650f1d41",
   "metadata": {
    "execution": {
     "iopub.execute_input": "2022-09-04T11:30:09.384453Z",
     "iopub.status.busy": "2022-09-04T11:30:09.384173Z",
     "iopub.status.idle": "2022-09-04T11:54:56.956404Z",
     "shell.execute_reply": "2022-09-04T11:54:56.955583Z"
    },
    "papermill": {
     "duration": 1487.587191,
     "end_time": "2022-09-04T11:54:56.958521",
     "exception": false,
     "start_time": "2022-09-04T11:30:09.371330",
     "status": "completed"
    },
    "tags": []
   },
   "outputs": [],
   "source": [
    "engine_combined = BacktestEngine(\n",
    "    strategy=Strategy.DELTA_ONE.value,\n",
    "    instrument=all_futures_baltas2020.index,\n",
    "    signal=signal.ParallelSignal([\n",
    "        signal.VolatilityScale(volatility_type=RealisedVolatility.YZ.value,\n",
    "                               agg_method='rolling', window=21, min_periods=10,\n",
    "                               target_volatility=0.4, signal_cap=0.95, ann_factor=261),\n",
    "        signal.TSMOMBaltas2020()\n",
    "    ], weighting='product'),\n",
    "    weighting=Weighting.EQUAL_WEIGHT.value,\n",
    "    log_level=logging.WARN,\n",
    ")\n",
    "engine_combined.run()"
   ]
  },
  {
   "cell_type": "code",
   "execution_count": 17,
   "id": "5bb68a31",
   "metadata": {
    "execution": {
     "iopub.execute_input": "2022-09-04T11:54:56.983528Z",
     "iopub.status.busy": "2022-09-04T11:54:56.983205Z",
     "iopub.status.idle": "2022-09-04T11:56:18.674199Z",
     "shell.execute_reply": "2022-09-04T11:56:18.673579Z"
    },
    "papermill": {
     "duration": 81.705826,
     "end_time": "2022-09-04T11:56:18.675999",
     "exception": false,
     "start_time": "2022-09-04T11:54:56.970173",
     "status": "completed"
    },
    "tags": []
   },
   "outputs": [],
   "source": [
    "engine_combined_eq = (engine_combined.calculate_equity_curve(calculate_net=False, rebalance_freq='m')\n",
    "                      .rename('Trend-following portfolio (YZ estimator + TREND signal)'))"
   ]
  },
  {
   "cell_type": "code",
   "execution_count": 18,
   "id": "a98ed863",
   "metadata": {
    "execution": {
     "iopub.execute_input": "2022-09-04T11:56:18.700217Z",
     "iopub.status.busy": "2022-09-04T11:56:18.699947Z",
     "iopub.status.idle": "2022-09-04T11:56:19.329255Z",
     "shell.execute_reply": "2022-09-04T11:56:19.328563Z"
    },
    "papermill": {
     "duration": 0.643294,
     "end_time": "2022-09-04T11:56:19.330864",
     "exception": false,
     "start_time": "2022-09-04T11:56:18.687570",
     "status": "completed"
    },
    "tags": []
   },
   "outputs": [
    {
     "data": {
      "image/png": "[encoded data removed]",
      "text/plain": [
       "<Figure size 576x324 with 1 Axes>"
      ]
     },
     "metadata": {
      "needs_background": "light"
     },
     "output_type": "display_data"
    }
   ],
   "source": [
    "fig, ax = plt.subplots(figsize=(8, 4.5))\n",
    "engine_combined_eq.plot(ax=ax, logy=True)\n",
    "ax.set_title('Trend-following portfolio (YZ estimator + TREND signal)')\n",
    "ax.set_ylabel('Cumulative returns');"
   ]
  },
  {
   "cell_type": "code",
   "execution_count": 19,
   "id": "e2e0e4d9",
   "metadata": {
    "execution": {
     "iopub.execute_input": "2022-09-04T11:56:19.355694Z",
     "iopub.status.busy": "2022-09-04T11:56:19.355422Z",
     "iopub.status.idle": "2022-09-04T11:56:19.437572Z",
     "shell.execute_reply": "2022-09-04T11:56:19.436728Z"
    },
    "papermill": {
     "duration": 0.096703,
     "end_time": "2022-09-04T11:56:19.439438",
     "exception": false,
     "start_time": "2022-09-04T11:56:19.342735",
     "status": "completed"
    },
    "tags": []
   },
   "outputs": [
    {
     "data": {
      "text/html": [
       "<div>\n",
       "<style scoped>\n",
       "    .dataframe tbody tr th:only-of-type {\n",
       "        vertical-align: middle;\n",
       "    }\n",
       "\n",
       "    .dataframe tbody tr th {\n",
       "        vertical-align: top;\n",
       "    }\n",
       "\n",
       "    .dataframe thead th {\n",
       "        text-align: right;\n",
       "    }\n",
       "</style>\n",
       "<table border=\"1\" class=\"dataframe\">\n",
       "  <thead>\n",
       "    <tr style=\"text-align: right;\">\n",
       "      <th></th>\n",
       "      <th>Trend-following portfolio (YZ estimator + TREND signal)</th>\n",
       "    </tr>\n",
       "  </thead>\n",
       "  <tbody>\n",
       "    <tr>\n",
       "      <th>CAGR</th>\n",
       "      <td>0.140438</td>\n",
       "    </tr>\n",
       "    <tr>\n",
       "      <th>Annualised vol</th>\n",
       "      <td>0.110671</td>\n",
       "    </tr>\n",
       "    <tr>\n",
       "      <th>Sharpe ratio</th>\n",
       "      <td>1.268970</td>\n",
       "    </tr>\n",
       "    <tr>\n",
       "      <th>Max drawdown</th>\n",
       "      <td>0.313945</td>\n",
       "    </tr>\n",
       "    <tr>\n",
       "      <th>Calmar ratio</th>\n",
       "      <td>0.447332</td>\n",
       "    </tr>\n",
       "    <tr>\n",
       "      <th>Skewness</th>\n",
       "      <td>0.292072</td>\n",
       "    </tr>\n",
       "    <tr>\n",
       "      <th>Kurtosis</th>\n",
       "      <td>32.502697</td>\n",
       "    </tr>\n",
       "    <tr>\n",
       "      <th>Worst return</th>\n",
       "      <td>-0.130152</td>\n",
       "    </tr>\n",
       "    <tr>\n",
       "      <th>Worst 1d return</th>\n",
       "      <td>-0.130152</td>\n",
       "    </tr>\n",
       "    <tr>\n",
       "      <th>Worst 1w return</th>\n",
       "      <td>-0.112097</td>\n",
       "    </tr>\n",
       "    <tr>\n",
       "      <th>Worst 1m return</th>\n",
       "      <td>-0.186272</td>\n",
       "    </tr>\n",
       "  </tbody>\n",
       "</table>\n",
       "</div>"
      ],
      "text/plain": [
       "                 Trend-following portfolio (YZ estimator + TREND signal)\n",
       "CAGR                                                      0.140438      \n",
       "Annualised vol                                            0.110671      \n",
       "Sharpe ratio                                              1.268970      \n",
       "Max drawdown                                              0.313945      \n",
       "Calmar ratio                                              0.447332      \n",
       "Skewness                                                  0.292072      \n",
       "Kurtosis                                                 32.502697      \n",
       "Worst return                                             -0.130152      \n",
       "Worst 1d return                                          -0.130152      \n",
       "Worst 1w return                                          -0.112097      \n",
       "Worst 1m return                                          -0.186272      "
      ]
     },
     "execution_count": 19,
     "metadata": {},
     "output_type": "execute_result"
    }
   ],
   "source": [
    "engine_combined_eq.pipe(Performance).summary()"
   ]
  },
  {
   "cell_type": "markdown",
   "id": "f8eb01be",
   "metadata": {
    "papermill": {
     "duration": 0.011875,
     "end_time": "2022-09-04T11:56:19.463313",
     "exception": false,
     "start_time": "2022-09-04T11:56:19.451438",
     "status": "completed"
    },
    "tags": []
   },
   "source": [
    "# Comparison\n",
    "\n",
    "In this section we compare the above 4 backtests."
   ]
  },
  {
   "cell_type": "markdown",
   "id": "52529a32",
   "metadata": {
    "papermill": {
     "duration": 0.053206,
     "end_time": "2022-09-04T11:56:19.528339",
     "exception": false,
     "start_time": "2022-09-04T11:56:19.475133",
     "status": "completed"
    },
    "tags": []
   },
   "source": [
    "## Performance\n",
    "\n",
    "As reported in BK2020, using the YZ estimator and TREND signal does not alter the performance characteristics. Rather, the TREND signal somewhat improves the Sharpe ratio. Also the TREND signal lowers the annualised volatility from 12.5% to 10.8% with the close-to-close realised volatility."
   ]
  },
  {
   "cell_type": "code",
   "execution_count": 20,
   "id": "b2ec9506",
   "metadata": {
    "execution": {
     "iopub.execute_input": "2022-09-04T11:56:19.555277Z",
     "iopub.status.busy": "2022-09-04T11:56:19.554767Z",
     "iopub.status.idle": "2022-09-04T11:56:19.567570Z",
     "shell.execute_reply": "2022-09-04T11:56:19.566901Z"
    },
    "papermill": {
     "duration": 0.028776,
     "end_time": "2022-09-04T11:56:19.569227",
     "exception": false,
     "start_time": "2022-09-04T11:56:19.540451",
     "status": "completed"
    },
    "tags": []
   },
   "outputs": [],
   "source": [
    "performance_comp = pd.concat((engine_original_eq, engine_vol_eq, \n",
    "                              engine_trend_eq, engine_combined_eq), axis=1)"
   ]
  },
  {
   "cell_type": "code",
   "execution_count": 21,
   "id": "221d4dec",
   "metadata": {
    "execution": {
     "iopub.execute_input": "2022-09-04T11:56:19.594014Z",
     "iopub.status.busy": "2022-09-04T11:56:19.593751Z",
     "iopub.status.idle": "2022-09-04T11:56:20.347966Z",
     "shell.execute_reply": "2022-09-04T11:56:20.347281Z"
    },
    "papermill": {
     "duration": 0.768487,
     "end_time": "2022-09-04T11:56:20.349579",
     "exception": false,
     "start_time": "2022-09-04T11:56:19.581092",
     "status": "completed"
    },
    "tags": []
   },
   "outputs": [
    {
     "data": {
      "image/png": "[encoded data removed]",
      "text/plain": [
       "<Figure size 576x324 with 1 Axes>"
      ]
     },
     "metadata": {
      "needs_background": "light"
     },
     "output_type": "display_data"
    }
   ],
   "source": [
    "fig, ax = plt.subplots(figsize=(8, 4.5))\n",
    "performance_comp.plot(ax=ax, logy=True);\n",
    "ax.set_title('Trend-following portfolio')\n",
    "ax.set_ylabel('Cumulative returns');"
   ]
  },
  {
   "cell_type": "code",
   "execution_count": 22,
   "id": "1f8c2cf9",
   "metadata": {
    "execution": {
     "iopub.execute_input": "2022-09-04T11:56:20.375412Z",
     "iopub.status.busy": "2022-09-04T11:56:20.375156Z",
     "iopub.status.idle": "2022-09-04T11:56:20.464441Z",
     "shell.execute_reply": "2022-09-04T11:56:20.463721Z"
    },
    "papermill": {
     "duration": 0.104116,
     "end_time": "2022-09-04T11:56:20.466004",
     "exception": false,
     "start_time": "2022-09-04T11:56:20.361888",
     "status": "completed"
    },
    "tags": []
   },
   "outputs": [
    {
     "data": {
      "text/html": [
       "<div>\n",
       "<style scoped>\n",
       "    .dataframe tbody tr th:only-of-type {\n",
       "        vertical-align: middle;\n",
       "    }\n",
       "\n",
       "    .dataframe tbody tr th {\n",
       "        vertical-align: top;\n",
       "    }\n",
       "\n",
       "    .dataframe thead th {\n",
       "        text-align: right;\n",
       "    }\n",
       "</style>\n",
       "<table border=\"1\" class=\"dataframe\">\n",
       "  <thead>\n",
       "    <tr style=\"text-align: right;\">\n",
       "      <th></th>\n",
       "      <th>Trend-following portfolio (Moskowitz 2012)</th>\n",
       "      <th>Trend-following portfolio (YZ estimator)</th>\n",
       "      <th>Trend-following portfolio (TREND signal)</th>\n",
       "      <th>Trend-following portfolio (YZ estimator + TREND signal)</th>\n",
       "    </tr>\n",
       "  </thead>\n",
       "  <tbody>\n",
       "    <tr>\n",
       "      <th>CAGR</th>\n",
       "      <td>0.148105</td>\n",
       "      <td>0.149423</td>\n",
       "      <td>0.139943</td>\n",
       "      <td>0.140093</td>\n",
       "    </tr>\n",
       "    <tr>\n",
       "      <th>Annualised vol</th>\n",
       "      <td>0.125000</td>\n",
       "      <td>0.127132</td>\n",
       "      <td>0.107936</td>\n",
       "      <td>0.110536</td>\n",
       "    </tr>\n",
       "    <tr>\n",
       "      <th>Sharpe ratio</th>\n",
       "      <td>1.184838</td>\n",
       "      <td>1.175334</td>\n",
       "      <td>1.296533</td>\n",
       "      <td>1.267400</td>\n",
       "    </tr>\n",
       "    <tr>\n",
       "      <th>Max drawdown</th>\n",
       "      <td>0.259239</td>\n",
       "      <td>0.305877</td>\n",
       "      <td>0.294584</td>\n",
       "      <td>0.313945</td>\n",
       "    </tr>\n",
       "    <tr>\n",
       "      <th>Calmar ratio</th>\n",
       "      <td>0.571306</td>\n",
       "      <td>0.488506</td>\n",
       "      <td>0.475054</td>\n",
       "      <td>0.446233</td>\n",
       "    </tr>\n",
       "    <tr>\n",
       "      <th>Skewness</th>\n",
       "      <td>0.073350</td>\n",
       "      <td>0.281064</td>\n",
       "      <td>0.158714</td>\n",
       "      <td>0.293037</td>\n",
       "    </tr>\n",
       "    <tr>\n",
       "      <th>Kurtosis</th>\n",
       "      <td>19.312284</td>\n",
       "      <td>22.152415</td>\n",
       "      <td>27.984678</td>\n",
       "      <td>32.589088</td>\n",
       "    </tr>\n",
       "    <tr>\n",
       "      <th>Worst return</th>\n",
       "      <td>-0.126276</td>\n",
       "      <td>-0.137043</td>\n",
       "      <td>-0.121269</td>\n",
       "      <td>-0.130152</td>\n",
       "    </tr>\n",
       "    <tr>\n",
       "      <th>Worst 1d return</th>\n",
       "      <td>-0.126276</td>\n",
       "      <td>-0.137043</td>\n",
       "      <td>-0.121269</td>\n",
       "      <td>-0.130152</td>\n",
       "    </tr>\n",
       "    <tr>\n",
       "      <th>Worst 1w return</th>\n",
       "      <td>-0.107725</td>\n",
       "      <td>-0.098542</td>\n",
       "      <td>-0.110077</td>\n",
       "      <td>-0.112097</td>\n",
       "    </tr>\n",
       "    <tr>\n",
       "      <th>Worst 1m return</th>\n",
       "      <td>-0.152667</td>\n",
       "      <td>-0.169177</td>\n",
       "      <td>-0.171789</td>\n",
       "      <td>-0.186272</td>\n",
       "    </tr>\n",
       "  </tbody>\n",
       "</table>\n",
       "</div>"
      ],
      "text/plain": [
       "                 Trend-following portfolio (Moskowitz 2012)  \\\n",
       "CAGR                                               0.148105   \n",
       "Annualised vol                                     0.125000   \n",
       "Sharpe ratio                                       1.184838   \n",
       "Max drawdown                                       0.259239   \n",
       "Calmar ratio                                       0.571306   \n",
       "Skewness                                           0.073350   \n",
       "Kurtosis                                          19.312284   \n",
       "Worst return                                      -0.126276   \n",
       "Worst 1d return                                   -0.126276   \n",
       "Worst 1w return                                   -0.107725   \n",
       "Worst 1m return                                   -0.152667   \n",
       "\n",
       "                 Trend-following portfolio (YZ estimator)  \\\n",
       "CAGR                                             0.149423   \n",
       "Annualised vol                                   0.127132   \n",
       "Sharpe ratio                                     1.175334   \n",
       "Max drawdown                                     0.305877   \n",
       "Calmar ratio                                     0.488506   \n",
       "Skewness                                         0.281064   \n",
       "Kurtosis                                        22.152415   \n",
       "Worst return                                    -0.137043   \n",
       "Worst 1d return                                 -0.137043   \n",
       "Worst 1w return                                 -0.098542   \n",
       "Worst 1m return                                 -0.169177   \n",
       "\n",
       "                 Trend-following portfolio (TREND signal)  \\\n",
       "CAGR                                             0.139943   \n",
       "Annualised vol                                   0.107936   \n",
       "Sharpe ratio                                     1.296533   \n",
       "Max drawdown                                     0.294584   \n",
       "Calmar ratio                                     0.475054   \n",
       "Skewness                                         0.158714   \n",
       "Kurtosis                                        27.984678   \n",
       "Worst return                                    -0.121269   \n",
       "Worst 1d return                                 -0.121269   \n",
       "Worst 1w return                                 -0.110077   \n",
       "Worst 1m return                                 -0.171789   \n",
       "\n",
       "                 Trend-following portfolio (YZ estimator + TREND signal)  \n",
       "CAGR                                                      0.140093        \n",
       "Annualised vol                                            0.110536        \n",
       "Sharpe ratio                                              1.267400        \n",
       "Max drawdown                                              0.313945        \n",
       "Calmar ratio                                              0.446233        \n",
       "Skewness                                                  0.293037        \n",
       "Kurtosis                                                 32.589088        \n",
       "Worst return                                             -0.130152        \n",
       "Worst 1d return                                          -0.130152        \n",
       "Worst 1w return                                          -0.112097        \n",
       "Worst 1m return                                          -0.186272        "
      ]
     },
     "execution_count": 22,
     "metadata": {},
     "output_type": "execute_result"
    }
   ],
   "source": [
    "performance_comp.pipe(Performance).summary()"
   ]
  },
  {
   "cell_type": "markdown",
   "id": "8f616a86",
   "metadata": {
    "papermill": {
     "duration": 0.012545,
     "end_time": "2022-09-04T11:56:20.491519",
     "exception": false,
     "start_time": "2022-09-04T11:56:20.478974",
     "status": "completed"
    },
    "tags": []
   },
   "source": [
    "## Turnover reduction\n",
    "\n",
    "Again, as reported in BK2020, both enhancements reduce the turnover significantly while not affecting the performance. The chart below shows the reduction in turnover for each futures contract. By utilising the YZ realised volatility and the TREND signal, overall the turnover is reduced by more than 30%."
   ]
  },
  {
   "cell_type": "code",
   "execution_count": 23,
   "id": "37351a15",
   "metadata": {
    "execution": {
     "iopub.execute_input": "2022-09-04T11:56:20.517856Z",
     "iopub.status.busy": "2022-09-04T11:56:20.517584Z",
     "iopub.status.idle": "2022-09-04T12:01:23.209639Z",
     "shell.execute_reply": "2022-09-04T12:01:23.208910Z"
    },
    "papermill": {
     "duration": 302.7074,
     "end_time": "2022-09-04T12:01:23.211476",
     "exception": false,
     "start_time": "2022-09-04T11:56:20.504076",
     "status": "completed"
    },
    "tags": []
   },
   "outputs": [],
   "source": [
    "engine_original_pos = engine_original.get_position_by_instrument()\n",
    "engine_vol_pos = engine_vol.get_position_by_instrument()\n",
    "engine_trend_pos = engine_trend.get_position_by_instrument()\n",
    "engine_combined_pos = engine_combined.get_position_by_instrument()"
   ]
  },
  {
   "cell_type": "code",
   "execution_count": 24,
   "id": "fdcc1ab6",
   "metadata": {
    "execution": {
     "iopub.execute_input": "2022-09-04T12:01:23.238473Z",
     "iopub.status.busy": "2022-09-04T12:01:23.238202Z",
     "iopub.status.idle": "2022-09-04T12:01:23.275406Z",
     "shell.execute_reply": "2022-09-04T12:01:23.274544Z"
    },
    "papermill": {
     "duration": 0.053141,
     "end_time": "2022-09-04T12:01:23.277508",
     "exception": false,
     "start_time": "2022-09-04T12:01:23.224367",
     "status": "completed"
    },
    "tags": []
   },
   "outputs": [],
   "source": [
    "engine_original_turnover = (engine_original_pos.diff().abs().mean().mul(261)\n",
    "                            .rename('Trend-following portfolio (Moskowitz 2012)'))\n",
    "engine_vol_turnover = (engine_vol_pos.diff().abs().mean().mul(261)\n",
    "                       .rename('Trend-following portfolio (YZ estimator)'))\n",
    "engine_trend_turnover = (engine_trend_pos.diff().abs().mean().mul(261)\n",
    "                         .rename('Trend-following portfolio (TREND signal)'))\n",
    "engine_combined_turnover = (engine_combined_pos.diff().abs().mean().mul(261)\n",
    "                            .rename('Trend-following portfolio (YZ estimator + TREND signal)'))"
   ]
  },
  {
   "cell_type": "code",
   "execution_count": 25,
   "id": "b1c44c32",
   "metadata": {
    "execution": {
     "iopub.execute_input": "2022-09-04T12:01:23.304564Z",
     "iopub.status.busy": "2022-09-04T12:01:23.304290Z",
     "iopub.status.idle": "2022-09-04T12:01:23.311474Z",
     "shell.execute_reply": "2022-09-04T12:01:23.310780Z"
    },
    "papermill": {
     "duration": 0.022734,
     "end_time": "2022-09-04T12:01:23.313103",
     "exception": false,
     "start_time": "2022-09-04T12:01:23.290369",
     "status": "completed"
    },
    "tags": []
   },
   "outputs": [],
   "source": [
    "turnover_reduction = (\n",
    "    pd.concat((engine_vol_turnover, engine_trend_turnover, engine_combined_turnover), axis=1)\n",
    "    .div(engine_original_turnover, axis=0)\n",
    "    .sub(1)\n",
    "    .reindex(index=all_futures_baltas2020.index)\n",
    "    .rename(index=all_futures_baltas2020['name'])\n",
    ")"
   ]
  },
  {
   "cell_type": "code",
   "execution_count": 26,
   "id": "2ace4deb",
   "metadata": {
    "execution": {
     "iopub.execute_input": "2022-09-04T12:01:23.339873Z",
     "iopub.status.busy": "2022-09-04T12:01:23.339560Z",
     "iopub.status.idle": "2022-09-04T12:01:23.345337Z",
     "shell.execute_reply": "2022-09-04T12:01:23.344733Z"
    },
    "papermill": {
     "duration": 0.021068,
     "end_time": "2022-09-04T12:01:23.346888",
     "exception": false,
     "start_time": "2022-09-04T12:01:23.325820",
     "status": "completed"
    },
    "tags": []
   },
   "outputs": [
    {
     "data": {
      "text/plain": [
       "Trend-following portfolio (YZ estimator)                  -0.181349\n",
       "Trend-following portfolio (TREND signal)                  -0.207289\n",
       "Trend-following portfolio (YZ estimator + TREND signal)   -0.330757\n",
       "dtype: float64"
      ]
     },
     "execution_count": 26,
     "metadata": {},
     "output_type": "execute_result"
    }
   ],
   "source": [
    "turnover_reduction.mean()"
   ]
  },
  {
   "cell_type": "code",
   "execution_count": 27,
   "id": "42d4307f",
   "metadata": {
    "execution": {
     "iopub.execute_input": "2022-09-04T12:01:23.374036Z",
     "iopub.status.busy": "2022-09-04T12:01:23.373770Z",
     "iopub.status.idle": "2022-09-04T12:01:24.894124Z",
     "shell.execute_reply": "2022-09-04T12:01:24.893403Z"
    },
    "papermill": {
     "duration": 1.53594,
     "end_time": "2022-09-04T12:01:24.895832",
     "exception": false,
     "start_time": "2022-09-04T12:01:23.359892",
     "status": "completed"
    },
    "tags": []
   },
   "outputs": [
    {
     "data": {
      "image/png": "[encoded data removed]",
      "text/plain": [
       "<Figure size 1008x288 with 1 Axes>"
      ]
     },
     "metadata": {
      "needs_background": "light"
     },
     "output_type": "display_data"
    }
   ],
   "source": [
    "ax = turnover_reduction.plot(kind='bar', figsize=(14, 4))\n",
    "ax.yaxis.set_major_formatter(mticker.PercentFormatter(1))\n",
    "ax.axhline(0, color='black', lw=1)\n",
    "ax.axvline(24.5, color='black', lw=1)\n",
    "ax.axvline(30.5, color='black', lw=1)\n",
    "ax.axvline(42.5, color='black', lw=1)\n",
    "ax.set_xlabel('Contract')\n",
    "ax.set_ylabel('Turnover reduction');"
   ]
  },
  {
   "cell_type": "markdown",
   "id": "b038825e",
   "metadata": {
    "papermill": {
     "duration": 0.013375,
     "end_time": "2022-09-04T12:01:24.922825",
     "exception": false,
     "start_time": "2022-09-04T12:01:24.909450",
     "status": "completed"
    },
    "tags": []
   },
   "source": [
    "# Recent performance"
   ]
  },
  {
   "cell_type": "code",
   "execution_count": 28,
   "id": "2ddf9160",
   "metadata": {
    "execution": {
     "iopub.execute_input": "2022-09-04T12:01:24.950889Z",
     "iopub.status.busy": "2022-09-04T12:01:24.950615Z",
     "iopub.status.idle": "2022-09-04T12:01:25.408841Z",
     "shell.execute_reply": "2022-09-04T12:01:25.408109Z"
    },
    "papermill": {
     "duration": 0.474157,
     "end_time": "2022-09-04T12:01:25.410379",
     "exception": false,
     "start_time": "2022-09-04T12:01:24.936222",
     "status": "completed"
    },
    "tags": []
   },
   "outputs": [
    {
     "data": {
      "image/png": "[encoded data removed]",
      "text/plain": [
       "<Figure size 576x324 with 1 Axes>"
      ]
     },
     "metadata": {
      "needs_background": "light"
     },
     "output_type": "display_data"
    }
   ],
   "source": [
    "fig, ax = plt.subplots(figsize=(8, 4.5))\n",
    "performance_comp.tail(252 * 2).pct_change().fillna(0).add(1).cumprod().plot(ax=ax, logy=True);\n",
    "ax.set_title('Trend-following portfolio')\n",
    "ax.set_ylabel('Cumulative returns');"
   ]
  },
  {
   "cell_type": "markdown",
   "id": "4ca85ad1",
   "metadata": {
    "papermill": {
     "duration": 0.013918,
     "end_time": "2022-09-04T12:01:25.438474",
     "exception": false,
     "start_time": "2022-09-04T12:01:25.424556",
     "status": "completed"
    },
    "tags": []
   },
   "source": [
    "# Reference\n",
    "\n",
    "- Baltas, N. and Kosowski, R., 2020. Demystifying time-series momentum strategies: Volatility estimators, trading rules and pairwise correlations. Market Momentum: Theory and Practice\", Wiley.\n",
    "- Moskowitz, T.J., Ooi, Y.H. and Pedersen, L.H., 2012. Time series momentum. Journal of financial economics, 104(2), pp.228-250."
   ]
  },
  {
   "cell_type": "code",
   "execution_count": 29,
   "id": "be19b250",
   "metadata": {
    "ExecuteTime": {
     "end_time": "2020-08-30T21:20:32.431574Z",
     "start_time": "2020-08-30T21:20:32.429370Z"
    },
    "execution": {
     "iopub.execute_input": "2022-09-04T12:01:25.467850Z",
     "iopub.status.busy": "2022-09-04T12:01:25.467572Z",
     "iopub.status.idle": "2022-09-04T12:01:25.471593Z",
     "shell.execute_reply": "2022-09-04T12:01:25.470812Z"
    },
    "papermill": {
     "duration": 0.021113,
     "end_time": "2022-09-04T12:01:25.473505",
     "exception": false,
     "start_time": "2022-09-04T12:01:25.452392",
     "status": "completed"
    },
    "tags": []
   },
   "outputs": [
    {
     "name": "stdout",
     "output_type": "stream",
     "text": [
      "Updated: 04-Sep-2022 12:01\n"
     ]
    }
   ],
   "source": [
    "print(f'Updated: {datetime.utcnow():%d-%b-%Y %H:%M}')"
   ]
  }
 ],
 "metadata": {
  "hide_input": false,
  "kernelspec": {
   "display_name": "Python 3",
   "language": "python",
   "name": "python3"
  },
  "language_info": {
   "codemirror_mode": {
    "name": "ipython",
    "version": 3
   },
   "file_extension": ".py",
   "mimetype": "text/x-python",
   "name": "python",
   "nbconvert_exporter": "python",
   "pygments_lexer": "ipython3",
   "version": "3.9.6"
  },
  "nav_menu": {},
  "papermill": {
   "duration": 4896.965652,
   "end_time": "2022-09-04T12:01:28.515806",
   "environment_variables": {},
   "exception": null,
   "input_path": "notebooks/papermill/trend_following_baltas2020.ipynb",
   "output_path": "notebooks/trend_following_baltas2020.ipynb",
   "parameters": {},
   "start_time": "2022-09-04T10:39:51.550154",
   "version": "2.1.3"
  },
  "toc": {
   "base_numbering": 1,
   "nav_menu": {},
   "number_sections": true,
   "sideBar": true,
   "skip_h1_title": false,
   "title_cell": "Table of Contents",
   "title_sidebar": "Contents",
   "toc_cell": true,
   "toc_position": {
    "height": "calc(100% - 180px)",
    "left": "10px",
    "top": "150px",
    "width": "165px"
   },
   "toc_section_display": "block",
   "toc_window_display": true
  }
 },
 "nbformat": 4,
 "nbformat_minor": 5
}