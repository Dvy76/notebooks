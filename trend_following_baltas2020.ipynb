{
 "cells": [
  {
   "cell_type": "markdown",
   "id": "69426dbd",
   "metadata": {
    "papermill": {
     "duration": 0.016208,
     "end_time": "2022-07-23T06:32:00.605476",
     "exception": false,
     "start_time": "2022-07-23T06:32:00.589268",
     "status": "completed"
    },
    "tags": []
   },
   "source": [
    "# Trend-following\n",
    "\n",
    "This notebook implements a few improvements that Baltas and Kosowski (2020) (BK2020, hereafter) propose to the time-series momentum strategy which originally appeared in Moskowitz et al (2012).\n",
    "\n",
    "Note that like other notebooks, all backtests are performed by using a private library called `vivace`."
   ]
  },
  {
   "cell_type": "code",
   "execution_count": 1,
   "id": "eae1b5b1",
   "metadata": {
    "ExecuteTime": {
     "end_time": "2020-08-30T21:08:49.524262Z",
     "start_time": "2020-08-30T21:08:48.720115Z"
    },
    "execution": {
     "iopub.execute_input": "2022-07-23T06:32:00.637530Z",
     "iopub.status.busy": "2022-07-23T06:32:00.637133Z",
     "iopub.status.idle": "2022-07-23T06:32:05.493915Z",
     "shell.execute_reply": "2022-07-23T06:32:05.492767Z"
    },
    "papermill": {
     "duration": 4.875338,
     "end_time": "2022-07-23T06:32:05.496149",
     "exception": false,
     "start_time": "2022-07-23T06:32:00.620811",
     "status": "completed"
    },
    "tags": []
   },
   "outputs": [],
   "source": [
    "%matplotlib inline\n",
    "from datetime import datetime\n",
    "import logging\n",
    "import warnings\n",
    "warnings.simplefilter(action='ignore', category=FutureWarning)\n",
    "\n",
    "import pandas as pd\n",
    "import matplotlib.pyplot as plt\n",
    "import matplotlib.ticker as mticker\n",
    "plt.style.use('bmh')\n",
    "\n",
    "from vivace.backtest import signal\n",
    "from vivace.backtest import processing\n",
    "from vivace.backtest.contract import all_futures_baltas2020\n",
    "from vivace.backtest.engine import BacktestEngine\n",
    "from vivace.backtest.enums import Strategy, Weighting, RealisedVolatility\n",
    "from vivace.backtest.stats import Performance"
   ]
  },
  {
   "cell_type": "markdown",
   "id": "9ba5ee84",
   "metadata": {
    "papermill": {
     "duration": 0.010244,
     "end_time": "2022-07-23T06:32:05.516948",
     "exception": false,
     "start_time": "2022-07-23T06:32:05.506704",
     "status": "completed"
    },
    "tags": []
   },
   "source": [
    "# Data"
   ]
  },
  {
   "cell_type": "code",
   "execution_count": 2,
   "id": "d80f1399",
   "metadata": {
    "ExecuteTime": {
     "end_time": "2020-08-30T21:08:49.529214Z",
     "start_time": "2020-08-30T21:08:49.525465Z"
    },
    "execution": {
     "iopub.execute_input": "2022-07-23T06:32:05.549555Z",
     "iopub.status.busy": "2022-07-23T06:32:05.548882Z",
     "iopub.status.idle": "2022-07-23T06:32:05.559810Z",
     "shell.execute_reply": "2022-07-23T06:32:05.558678Z"
    },
    "papermill": {
     "duration": 0.030175,
     "end_time": "2022-07-23T06:32:05.562687",
     "exception": false,
     "start_time": "2022-07-23T06:32:05.532512",
     "status": "completed"
    },
    "tags": []
   },
   "outputs": [
    {
     "data": {
      "text/plain": [
       "array(['WTI Crude Oil', 'Brent Crude Oil', 'Heating Oil', 'Natural Gas',\n",
       "       'Gasoline', 'Copper', 'Gold', 'Palladium', 'Platinum', 'Silver',\n",
       "       'Feeder Cattle', 'Live Cattle', 'Lean Hog', 'Corn', 'Oats',\n",
       "       'Soybean Oil', 'Soybean Meal', 'Soybean', 'Wheat', 'Cocoa',\n",
       "       'Coffee', 'Cotton', 'Lumber', 'Orange Juice', 'Sugar',\n",
       "       'Australian Dollar', 'Canadian Dollar', 'Swiss Franc', 'Euro',\n",
       "       'British Pound', 'Japanese Yen', 'E-Mini Nasdaq 100',\n",
       "       'E-mini S&P 500', 'E-mini Russell 2000', 'FTSE 100', 'DAX',\n",
       "       'CAC 40', 'IBEX 35', 'AEX', 'Swiss Market Index', 'SPI 200',\n",
       "       'Topix', 'Hang Seng', 'US 2-year Treasury', 'US 5-year Treasury',\n",
       "       'US 10-year Treasury', 'US treasury Bond', 'Germany Schatz',\n",
       "       'Germany Bobl', 'Germany Bund', 'Germany Buxl', 'Gilt',\n",
       "       'Canada 10-year Treasury', 'JGB'], dtype=object)"
      ]
     },
     "execution_count": 2,
     "metadata": {},
     "output_type": "execute_result"
    }
   ],
   "source": [
    "all_futures_baltas2020['name'].values"
   ]
  },
  {
   "cell_type": "code",
   "execution_count": 3,
   "id": "bdd37bff",
   "metadata": {
    "ExecuteTime": {
     "end_time": "2020-08-30T21:08:49.542477Z",
     "start_time": "2020-08-30T21:08:49.530487Z"
    },
    "execution": {
     "iopub.execute_input": "2022-07-23T06:32:05.635302Z",
     "iopub.status.busy": "2022-07-23T06:32:05.634854Z",
     "iopub.status.idle": "2022-07-23T06:32:05.640494Z",
     "shell.execute_reply": "2022-07-23T06:32:05.639470Z"
    },
    "papermill": {
     "duration": 0.06426,
     "end_time": "2022-07-23T06:32:05.643052",
     "exception": false,
     "start_time": "2022-07-23T06:32:05.578792",
     "status": "completed"
    },
    "tags": []
   },
   "outputs": [
    {
     "name": "stdout",
     "output_type": "stream",
     "text": [
      "54\n"
     ]
    }
   ],
   "source": [
    "print(len(all_futures_baltas2020))"
   ]
  },
  {
   "cell_type": "markdown",
   "id": "807dfa16",
   "metadata": {
    "papermill": {
     "duration": 0.012186,
     "end_time": "2022-07-23T06:32:05.669770",
     "exception": false,
     "start_time": "2022-07-23T06:32:05.657584",
     "status": "completed"
    },
    "tags": []
   },
   "source": [
    "We try to use the same contract as the original paper where possible, resulting 54 futures contracts to analyse. The trading universe covers a wide range of asset classes and regions, and is made up of following instruments:\n",
    "- Equity index futures\n",
    "- Government bond futures\n",
    "- FX futures\n",
    "- Commodity futures\n",
    "\n",
    "where the same trend detection method is applied."
   ]
  },
  {
   "cell_type": "markdown",
   "id": "7b9bc431",
   "metadata": {
    "papermill": {
     "duration": 0.011108,
     "end_time": "2022-07-23T06:32:05.694748",
     "exception": false,
     "start_time": "2022-07-23T06:32:05.683640",
     "status": "completed"
    },
    "tags": []
   },
   "source": [
    "# Performance\n"
   ]
  },
  {
   "cell_type": "markdown",
   "id": "056eb50c",
   "metadata": {
    "papermill": {
     "duration": 0.010316,
     "end_time": "2022-07-23T06:32:05.716763",
     "exception": false,
     "start_time": "2022-07-23T06:32:05.706447",
     "status": "completed"
    },
    "tags": []
   },
   "source": [
    "## Moskowitz et al\n",
    "\n",
    "First we calculate the original trend-following portfolio with a more traditional close-to-close realised volatility estimator. Although Moskowitz et al uses the exponentially weighted standard deviation, BK2020 appears to compare against the rolling standard deviation."
   ]
  },
  {
   "cell_type": "code",
   "execution_count": 4,
   "id": "e0544908",
   "metadata": {
    "execution": {
     "iopub.execute_input": "2022-07-23T06:32:05.742035Z",
     "iopub.status.busy": "2022-07-23T06:32:05.741369Z",
     "iopub.status.idle": "2022-07-23T06:46:18.805816Z",
     "shell.execute_reply": "2022-07-23T06:46:18.804770Z"
    },
    "papermill": {
     "duration": 853.080119,
     "end_time": "2022-07-23T06:46:18.808072",
     "exception": false,
     "start_time": "2022-07-23T06:32:05.727953",
     "status": "completed"
    },
    "tags": []
   },
   "outputs": [],
   "source": [
    "engine_original = BacktestEngine(\n",
    "    strategy=Strategy.DELTA_ONE.value,\n",
    "    instrument=all_futures_baltas2020.index,\n",
    "    signal=signal.ParallelSignal([\n",
    "        signal.VolatilityScale(agg_method='rolling', window=21, ann_factor=261, \n",
    "                               target_volatility=0.4, signal_cap=0.95),\n",
    "        signal.TSMOMMoskowitz2012(post_process=processing.AsFreq(freq='m', method='pad'))\n",
    "    ], weighting='product'),\n",
    "    weighting=Weighting.EQUAL_WEIGHT.value,\n",
    "    log_level=logging.WARN,\n",
    ")\n",
    "engine_original.run()"
   ]
  },
  {
   "cell_type": "code",
   "execution_count": 5,
   "id": "7933c4be",
   "metadata": {
    "execution": {
     "iopub.execute_input": "2022-07-23T06:46:19.091163Z",
     "iopub.status.busy": "2022-07-23T06:46:19.090672Z",
     "iopub.status.idle": "2022-07-23T06:48:08.143115Z",
     "shell.execute_reply": "2022-07-23T06:48:08.142185Z"
    },
    "papermill": {
     "duration": 109.326138,
     "end_time": "2022-07-23T06:48:08.146020",
     "exception": false,
     "start_time": "2022-07-23T06:46:18.819882",
     "status": "completed"
    },
    "tags": []
   },
   "outputs": [],
   "source": [
    "engine_original_eq = (engine_original.calculate_equity_curve(calculate_net=False, rebalance_freq='m')\n",
    "                      .rename('Trend-following portfolio (Moskowitz 2012)'))"
   ]
  },
  {
   "cell_type": "code",
   "execution_count": 6,
   "id": "1d0b2738",
   "metadata": {
    "execution": {
     "iopub.execute_input": "2022-07-23T06:48:08.179150Z",
     "iopub.status.busy": "2022-07-23T06:48:08.178768Z",
     "iopub.status.idle": "2022-07-23T06:48:09.324782Z",
     "shell.execute_reply": "2022-07-23T06:48:09.324082Z"
    },
    "papermill": {
     "duration": 1.164321,
     "end_time": "2022-07-23T06:48:09.326556",
     "exception": false,
     "start_time": "2022-07-23T06:48:08.162235",
     "status": "completed"
    },
    "tags": []
   },
   "outputs": [
    {
     "data": {
      "image/png": "[encoded data removed]",
      "text/plain": [
       "<Figure size 576x324 with 1 Axes>"
      ]
     },
     "metadata": {
      "needs_background": "light"
     },
     "output_type": "display_data"
    }
   ],
   "source": [
    "fig, ax = plt.subplots(figsize=(8, 4.5))\n",
    "engine_original_eq.plot(ax=ax, logy=True)\n",
    "ax.set_title('Trend-following portfolio (Moskowitz 2012)')\n",
    "ax.set_ylabel('Cumulative returns');"
   ]
  },
  {
   "cell_type": "code",
   "execution_count": 7,
   "id": "74fc5560",
   "metadata": {
    "execution": {
     "iopub.execute_input": "2022-07-23T06:48:09.351707Z",
     "iopub.status.busy": "2022-07-23T06:48:09.351266Z",
     "iopub.status.idle": "2022-07-23T06:48:09.481469Z",
     "shell.execute_reply": "2022-07-23T06:48:09.480485Z"
    },
    "papermill": {
     "duration": 0.146579,
     "end_time": "2022-07-23T06:48:09.483899",
     "exception": false,
     "start_time": "2022-07-23T06:48:09.337320",
     "status": "completed"
    },
    "tags": []
   },
   "outputs": [
    {
     "data": {
      "text/html": [
       "<div>\n",
       "<style scoped>\n",
       "    .dataframe tbody tr th:only-of-type {\n",
       "        vertical-align: middle;\n",
       "    }\n",
       "\n",
       "    .dataframe tbody tr th {\n",
       "        vertical-align: top;\n",
       "    }\n",
       "\n",
       "    .dataframe thead th {\n",
       "        text-align: right;\n",
       "    }\n",
       "</style>\n",
       "<table border=\"1\" class=\"dataframe\">\n",
       "  <thead>\n",
       "    <tr style=\"text-align: right;\">\n",
       "      <th></th>\n",
       "      <th>Trend-following portfolio (Moskowitz 2012)</th>\n",
       "    </tr>\n",
       "  </thead>\n",
       "  <tbody>\n",
       "    <tr>\n",
       "      <th>CAGR</th>\n",
       "      <td>0.147409</td>\n",
       "    </tr>\n",
       "    <tr>\n",
       "      <th>Annualised vol</th>\n",
       "      <td>0.124979</td>\n",
       "    </tr>\n",
       "    <tr>\n",
       "      <th>Sharpe ratio</th>\n",
       "      <td>1.179470</td>\n",
       "    </tr>\n",
       "    <tr>\n",
       "      <th>Max drawdown</th>\n",
       "      <td>0.259239</td>\n",
       "    </tr>\n",
       "    <tr>\n",
       "      <th>Calmar ratio</th>\n",
       "      <td>0.568622</td>\n",
       "    </tr>\n",
       "    <tr>\n",
       "      <th>Skewness</th>\n",
       "      <td>0.073082</td>\n",
       "    </tr>\n",
       "    <tr>\n",
       "      <th>Kurtosis</th>\n",
       "      <td>19.362998</td>\n",
       "    </tr>\n",
       "    <tr>\n",
       "      <th>Worst return</th>\n",
       "      <td>-0.126276</td>\n",
       "    </tr>\n",
       "    <tr>\n",
       "      <th>Worst 1d return</th>\n",
       "      <td>-0.126276</td>\n",
       "    </tr>\n",
       "    <tr>\n",
       "      <th>Worst 1w return</th>\n",
       "      <td>-0.107725</td>\n",
       "    </tr>\n",
       "    <tr>\n",
       "      <th>Worst 1m return</th>\n",
       "      <td>-0.152667</td>\n",
       "    </tr>\n",
       "  </tbody>\n",
       "</table>\n",
       "</div>"
      ],
      "text/plain": [
       "                 Trend-following portfolio (Moskowitz 2012)\n",
       "CAGR                                               0.147409\n",
       "Annualised vol                                     0.124979\n",
       "Sharpe ratio                                       1.179470\n",
       "Max drawdown                                       0.259239\n",
       "Calmar ratio                                       0.568622\n",
       "Skewness                                           0.073082\n",
       "Kurtosis                                          19.362998\n",
       "Worst return                                      -0.126276\n",
       "Worst 1d return                                   -0.126276\n",
       "Worst 1w return                                   -0.107725\n",
       "Worst 1m return                                   -0.152667"
      ]
     },
     "execution_count": 7,
     "metadata": {},
     "output_type": "execute_result"
    }
   ],
   "source": [
    "engine_original_eq.pipe(Performance).summary()"
   ]
  },
  {
   "cell_type": "markdown",
   "id": "b449a312",
   "metadata": {
    "papermill": {
     "duration": 0.015682,
     "end_time": "2022-07-23T06:48:09.515848",
     "exception": false,
     "start_time": "2022-07-23T06:48:09.500166",
     "status": "completed"
    },
    "tags": []
   },
   "source": [
    "\n",
    "## Volatility estimator\n",
    "BK2020 proposes a few changes in order to enhance the original trend-following strategy Moskowitz et al reported. The first thing is to use a more sophisticated realised volatility estimators for volatility scaling. Moskowitz used the exponentially weighted standard deviation with close-to-close. On the other hand, BK2020 suggests to use Yang-Zhang estimator as it is much more efficient."
   ]
  },
  {
   "cell_type": "code",
   "execution_count": 8,
   "id": "0a64b635",
   "metadata": {
    "ExecuteTime": {
     "end_time": "2020-08-30T21:18:24.661167Z",
     "start_time": "2020-08-30T21:08:49.544232Z"
    },
    "execution": {
     "iopub.execute_input": "2022-07-23T06:48:09.541556Z",
     "iopub.status.busy": "2022-07-23T06:48:09.541067Z",
     "iopub.status.idle": "2022-07-23T07:15:02.840057Z",
     "shell.execute_reply": "2022-07-23T07:15:02.838976Z"
    },
    "papermill": {
     "duration": 1613.313514,
     "end_time": "2022-07-23T07:15:02.842502",
     "exception": false,
     "start_time": "2022-07-23T06:48:09.528988",
     "status": "completed"
    },
    "tags": []
   },
   "outputs": [],
   "source": [
    "engine_vol = BacktestEngine(\n",
    "    strategy=Strategy.DELTA_ONE.value,\n",
    "    instrument=all_futures_baltas2020.index,\n",
    "    signal=signal.ParallelSignal([\n",
    "        signal.VolatilityScale(volatility_type=RealisedVolatility.YZ.value,\n",
    "                               agg_method='rolling', window=21, min_periods=10,\n",
    "                               target_volatility=0.4, signal_cap=0.95, ann_factor=261),\n",
    "        signal.TSMOMMoskowitz2012(post_process=processing.AsFreq(freq='m', method='pad'))\n",
    "    ], weighting='product'),\n",
    "    weighting=Weighting.EQUAL_WEIGHT.value,\n",
    "    log_level=logging.WARN,\n",
    ")\n",
    "engine_vol.run()"
   ]
  },
  {
   "cell_type": "code",
   "execution_count": 9,
   "id": "86f6a00f",
   "metadata": {
    "execution": {
     "iopub.execute_input": "2022-07-23T07:15:02.868397Z",
     "iopub.status.busy": "2022-07-23T07:15:02.868127Z",
     "iopub.status.idle": "2022-07-23T07:16:37.113121Z",
     "shell.execute_reply": "2022-07-23T07:16:37.112159Z"
    },
    "papermill": {
     "duration": 94.260521,
     "end_time": "2022-07-23T07:16:37.115087",
     "exception": false,
     "start_time": "2022-07-23T07:15:02.854566",
     "status": "completed"
    },
    "tags": []
   },
   "outputs": [],
   "source": [
    "engine_vol_eq = (engine_vol.calculate_equity_curve(calculate_net=False, rebalance_freq='m')\n",
    "                 .rename('Trend-following portfolio (YZ estimator)'))"
   ]
  },
  {
   "cell_type": "code",
   "execution_count": 10,
   "id": "165d9da6",
   "metadata": {
    "execution": {
     "iopub.execute_input": "2022-07-23T07:16:37.140229Z",
     "iopub.status.busy": "2022-07-23T07:16:37.139568Z",
     "iopub.status.idle": "2022-07-23T07:16:37.816061Z",
     "shell.execute_reply": "2022-07-23T07:16:37.815010Z"
    },
    "papermill": {
     "duration": 0.690795,
     "end_time": "2022-07-23T07:16:37.818132",
     "exception": false,
     "start_time": "2022-07-23T07:16:37.127337",
     "status": "completed"
    },
    "tags": []
   },
   "outputs": [
    {
     "data": {
      "image/png": "[encoded data removed]",
      "text/plain": [
       "<Figure size 576x324 with 1 Axes>"
      ]
     },
     "metadata": {
      "needs_background": "light"
     },
     "output_type": "display_data"
    }
   ],
   "source": [
    "fig, ax = plt.subplots(figsize=(8, 4.5))\n",
    "engine_vol_eq.plot(ax=ax, logy=True);\n",
    "ax.set_title('Trend-following portfolio (YZ estimator)')\n",
    "ax.set_ylabel('Cumulative returns');"
   ]
  },
  {
   "cell_type": "code",
   "execution_count": 11,
   "id": "da1b7351",
   "metadata": {
    "execution": {
     "iopub.execute_input": "2022-07-23T07:16:37.845728Z",
     "iopub.status.busy": "2022-07-23T07:16:37.845164Z",
     "iopub.status.idle": "2022-07-23T07:16:37.960618Z",
     "shell.execute_reply": "2022-07-23T07:16:37.959807Z"
    },
    "papermill": {
     "duration": 0.133884,
     "end_time": "2022-07-23T07:16:37.963680",
     "exception": false,
     "start_time": "2022-07-23T07:16:37.829796",
     "status": "completed"
    },
    "tags": []
   },
   "outputs": [
    {
     "data": {
      "text/html": [
       "<div>\n",
       "<style scoped>\n",
       "    .dataframe tbody tr th:only-of-type {\n",
       "        vertical-align: middle;\n",
       "    }\n",
       "\n",
       "    .dataframe tbody tr th {\n",
       "        vertical-align: top;\n",
       "    }\n",
       "\n",
       "    .dataframe thead th {\n",
       "        text-align: right;\n",
       "    }\n",
       "</style>\n",
       "<table border=\"1\" class=\"dataframe\">\n",
       "  <thead>\n",
       "    <tr style=\"text-align: right;\">\n",
       "      <th></th>\n",
       "      <th>Trend-following portfolio (YZ estimator)</th>\n",
       "    </tr>\n",
       "  </thead>\n",
       "  <tbody>\n",
       "    <tr>\n",
       "      <th>CAGR</th>\n",
       "      <td>0.149057</td>\n",
       "    </tr>\n",
       "    <tr>\n",
       "      <th>Annualised vol</th>\n",
       "      <td>0.127274</td>\n",
       "    </tr>\n",
       "    <tr>\n",
       "      <th>Sharpe ratio</th>\n",
       "      <td>1.171148</td>\n",
       "    </tr>\n",
       "    <tr>\n",
       "      <th>Max drawdown</th>\n",
       "      <td>0.305877</td>\n",
       "    </tr>\n",
       "    <tr>\n",
       "      <th>Calmar ratio</th>\n",
       "      <td>0.487311</td>\n",
       "    </tr>\n",
       "    <tr>\n",
       "      <th>Skewness</th>\n",
       "      <td>0.280469</td>\n",
       "    </tr>\n",
       "    <tr>\n",
       "      <th>Kurtosis</th>\n",
       "      <td>22.143261</td>\n",
       "    </tr>\n",
       "    <tr>\n",
       "      <th>Worst return</th>\n",
       "      <td>-0.137043</td>\n",
       "    </tr>\n",
       "    <tr>\n",
       "      <th>Worst 1d return</th>\n",
       "      <td>-0.137043</td>\n",
       "    </tr>\n",
       "    <tr>\n",
       "      <th>Worst 1w return</th>\n",
       "      <td>-0.098542</td>\n",
       "    </tr>\n",
       "    <tr>\n",
       "      <th>Worst 1m return</th>\n",
       "      <td>-0.169177</td>\n",
       "    </tr>\n",
       "  </tbody>\n",
       "</table>\n",
       "</div>"
      ],
      "text/plain": [
       "                 Trend-following portfolio (YZ estimator)\n",
       "CAGR                                             0.149057\n",
       "Annualised vol                                   0.127274\n",
       "Sharpe ratio                                     1.171148\n",
       "Max drawdown                                     0.305877\n",
       "Calmar ratio                                     0.487311\n",
       "Skewness                                         0.280469\n",
       "Kurtosis                                        22.143261\n",
       "Worst return                                    -0.137043\n",
       "Worst 1d return                                 -0.137043\n",
       "Worst 1w return                                 -0.098542\n",
       "Worst 1m return                                 -0.169177"
      ]
     },
     "execution_count": 11,
     "metadata": {},
     "output_type": "execute_result"
    }
   ],
   "source": [
    "engine_vol_eq.pipe(Performance).summary()"
   ]
  },
  {
   "cell_type": "markdown",
   "id": "2cc30f0e",
   "metadata": {
    "papermill": {
     "duration": 0.017723,
     "end_time": "2022-07-23T07:16:38.000113",
     "exception": false,
     "start_time": "2022-07-23T07:16:37.982390",
     "status": "completed"
    },
    "tags": []
   },
   "source": [
    "## TREND signal\n",
    "\n",
    "Another improvement BK2020 proposes is to use a continuous signal rather than a binary one in order to reduce the turnover when signals are weak. Specifically they used the t-values with the Newey-West standard error as the signal. They further capped and floored the signal between -1 and +1 to avoid extreme positions.\n",
    "\n",
    "`statsmodels`'s `OLS` class provides a method to compute the Newey-West standard error. https://www.statsmodels.org/stable/generated/statsmodels.regression.linear_model.OLS.html"
   ]
  },
  {
   "cell_type": "code",
   "execution_count": 12,
   "id": "33b5b5f5",
   "metadata": {
    "execution": {
     "iopub.execute_input": "2022-07-23T07:16:38.036794Z",
     "iopub.status.busy": "2022-07-23T07:16:38.036384Z",
     "iopub.status.idle": "2022-07-23T07:39:27.680262Z",
     "shell.execute_reply": "2022-07-23T07:39:27.679363Z"
    },
    "papermill": {
     "duration": 1369.668178,
     "end_time": "2022-07-23T07:39:27.683014",
     "exception": false,
     "start_time": "2022-07-23T07:16:38.014836",
     "status": "completed"
    },
    "tags": []
   },
   "outputs": [],
   "source": [
    "engine_trend = BacktestEngine(\n",
    "    strategy=Strategy.DELTA_ONE.value,\n",
    "    instrument=all_futures_baltas2020.index,\n",
    "    signal=signal.ParallelSignal([\n",
    "        signal.VolatilityScale(agg_method='rolling', window=21, ann_factor=261, \n",
    "                               target_volatility=0.4, signal_cap=0.95),\n",
    "        signal.TSMOMBaltas2020()\n",
    "    ], weighting='product'),\n",
    "    weighting=Weighting.EQUAL_WEIGHT.value,\n",
    "    log_level=logging.WARN,\n",
    ")\n",
    "engine_trend.run()"
   ]
  },
  {
   "cell_type": "code",
   "execution_count": 13,
   "id": "953171d1",
   "metadata": {
    "execution": {
     "iopub.execute_input": "2022-07-23T07:39:27.717176Z",
     "iopub.status.busy": "2022-07-23T07:39:27.716678Z",
     "iopub.status.idle": "2022-07-23T07:41:10.941059Z",
     "shell.execute_reply": "2022-07-23T07:41:10.939985Z"
    },
    "papermill": {
     "duration": 103.242945,
     "end_time": "2022-07-23T07:41:10.944047",
     "exception": false,
     "start_time": "2022-07-23T07:39:27.701102",
     "status": "completed"
    },
    "tags": []
   },
   "outputs": [],
   "source": [
    "engine_trend_eq = (engine_trend.calculate_equity_curve(calculate_net=False, rebalance_freq='m')\n",
    "                   .rename('Trend-following portfolio (TREND signal)'))"
   ]
  },
  {
   "cell_type": "code",
   "execution_count": 14,
   "id": "b9cd3ef8",
   "metadata": {
    "execution": {
     "iopub.execute_input": "2022-07-23T07:41:10.972936Z",
     "iopub.status.busy": "2022-07-23T07:41:10.972385Z",
     "iopub.status.idle": "2022-07-23T07:41:11.753245Z",
     "shell.execute_reply": "2022-07-23T07:41:11.752436Z"
    },
    "papermill": {
     "duration": 0.799921,
     "end_time": "2022-07-23T07:41:11.755977",
     "exception": false,
     "start_time": "2022-07-23T07:41:10.956056",
     "status": "completed"
    },
    "tags": []
   },
   "outputs": [
    {
     "data": {
      "image/png": "[encoded data removed]",
      "text/plain": [
       "<Figure size 576x324 with 1 Axes>"
      ]
     },
     "metadata": {
      "needs_background": "light"
     },
     "output_type": "display_data"
    }
   ],
   "source": [
    "fig, ax = plt.subplots(figsize=(8, 4.5))\n",
    "engine_trend_eq.plot(ax=ax, logy=True);\n",
    "ax.set_title('Trend-following portfolio (TREND signal)')\n",
    "ax.set_ylabel('Cumulative returns');"
   ]
  },
  {
   "cell_type": "code",
   "execution_count": 15,
   "id": "9ac48df2",
   "metadata": {
    "execution": {
     "iopub.execute_input": "2022-07-23T07:41:11.818731Z",
     "iopub.status.busy": "2022-07-23T07:41:11.818181Z",
     "iopub.status.idle": "2022-07-23T07:41:11.906440Z",
     "shell.execute_reply": "2022-07-23T07:41:11.905586Z"
    },
    "papermill": {
     "duration": 0.135324,
     "end_time": "2022-07-23T07:41:11.908378",
     "exception": false,
     "start_time": "2022-07-23T07:41:11.773054",
     "status": "completed"
    },
    "tags": []
   },
   "outputs": [
    {
     "data": {
      "text/html": [
       "<div>\n",
       "<style scoped>\n",
       "    .dataframe tbody tr th:only-of-type {\n",
       "        vertical-align: middle;\n",
       "    }\n",
       "\n",
       "    .dataframe tbody tr th {\n",
       "        vertical-align: top;\n",
       "    }\n",
       "\n",
       "    .dataframe thead th {\n",
       "        text-align: right;\n",
       "    }\n",
       "</style>\n",
       "<table border=\"1\" class=\"dataframe\">\n",
       "  <thead>\n",
       "    <tr style=\"text-align: right;\">\n",
       "      <th></th>\n",
       "      <th>Trend-following portfolio (TREND signal)</th>\n",
       "    </tr>\n",
       "  </thead>\n",
       "  <tbody>\n",
       "    <tr>\n",
       "      <th>CAGR</th>\n",
       "      <td>0.139359</td>\n",
       "    </tr>\n",
       "    <tr>\n",
       "      <th>Annualised vol</th>\n",
       "      <td>0.107940</td>\n",
       "    </tr>\n",
       "    <tr>\n",
       "      <th>Sharpe ratio</th>\n",
       "      <td>1.291076</td>\n",
       "    </tr>\n",
       "    <tr>\n",
       "      <th>Max drawdown</th>\n",
       "      <td>0.294584</td>\n",
       "    </tr>\n",
       "    <tr>\n",
       "      <th>Calmar ratio</th>\n",
       "      <td>0.473070</td>\n",
       "    </tr>\n",
       "    <tr>\n",
       "      <th>Skewness</th>\n",
       "      <td>0.159249</td>\n",
       "    </tr>\n",
       "    <tr>\n",
       "      <th>Kurtosis</th>\n",
       "      <td>28.035027</td>\n",
       "    </tr>\n",
       "    <tr>\n",
       "      <th>Worst return</th>\n",
       "      <td>-0.121269</td>\n",
       "    </tr>\n",
       "    <tr>\n",
       "      <th>Worst 1d return</th>\n",
       "      <td>-0.121269</td>\n",
       "    </tr>\n",
       "    <tr>\n",
       "      <th>Worst 1w return</th>\n",
       "      <td>-0.110077</td>\n",
       "    </tr>\n",
       "    <tr>\n",
       "      <th>Worst 1m return</th>\n",
       "      <td>-0.171789</td>\n",
       "    </tr>\n",
       "  </tbody>\n",
       "</table>\n",
       "</div>"
      ],
      "text/plain": [
       "                 Trend-following portfolio (TREND signal)\n",
       "CAGR                                             0.139359\n",
       "Annualised vol                                   0.107940\n",
       "Sharpe ratio                                     1.291076\n",
       "Max drawdown                                     0.294584\n",
       "Calmar ratio                                     0.473070\n",
       "Skewness                                         0.159249\n",
       "Kurtosis                                        28.035027\n",
       "Worst return                                    -0.121269\n",
       "Worst 1d return                                 -0.121269\n",
       "Worst 1w return                                 -0.110077\n",
       "Worst 1m return                                 -0.171789"
      ]
     },
     "execution_count": 15,
     "metadata": {},
     "output_type": "execute_result"
    }
   ],
   "source": [
    "engine_trend_eq.pipe(Performance).summary()"
   ]
  },
  {
   "cell_type": "markdown",
   "id": "41d83667",
   "metadata": {
    "papermill": {
     "duration": 0.016646,
     "end_time": "2022-07-23T07:41:11.938607",
     "exception": false,
     "start_time": "2022-07-23T07:41:11.921961",
     "status": "completed"
    },
    "tags": []
   },
   "source": [
    "## Combined\n",
    "\n",
    "Finally we run a backtest by using both the Yang-Zhang volatility estimator and the TREND signal."
   ]
  },
  {
   "cell_type": "code",
   "execution_count": 16,
   "id": "9403c8bf",
   "metadata": {
    "execution": {
     "iopub.execute_input": "2022-07-23T07:41:11.965941Z",
     "iopub.status.busy": "2022-07-23T07:41:11.965494Z",
     "iopub.status.idle": "2022-07-23T08:11:18.979779Z",
     "shell.execute_reply": "2022-07-23T08:11:18.979057Z"
    },
    "papermill": {
     "duration": 1807.031884,
     "end_time": "2022-07-23T08:11:18.982313",
     "exception": false,
     "start_time": "2022-07-23T07:41:11.950429",
     "status": "completed"
    },
    "tags": []
   },
   "outputs": [],
   "source": [
    "engine_combined = BacktestEngine(\n",
    "    strategy=Strategy.DELTA_ONE.value,\n",
    "    instrument=all_futures_baltas2020.index,\n",
    "    signal=signal.ParallelSignal([\n",
    "        signal.VolatilityScale(volatility_type=RealisedVolatility.YZ.value,\n",
    "                               agg_method='rolling', window=21, min_periods=10,\n",
    "                               target_volatility=0.4, signal_cap=0.95, ann_factor=261),\n",
    "        signal.TSMOMBaltas2020()\n",
    "    ], weighting='product'),\n",
    "    weighting=Weighting.EQUAL_WEIGHT.value,\n",
    "    log_level=logging.WARN,\n",
    ")\n",
    "engine_combined.run()"
   ]
  },
  {
   "cell_type": "code",
   "execution_count": 17,
   "id": "a2d9f10b",
   "metadata": {
    "execution": {
     "iopub.execute_input": "2022-07-23T08:11:19.019156Z",
     "iopub.status.busy": "2022-07-23T08:11:19.018790Z",
     "iopub.status.idle": "2022-07-23T08:12:38.460743Z",
     "shell.execute_reply": "2022-07-23T08:12:38.459983Z"
    },
    "papermill": {
     "duration": 79.462877,
     "end_time": "2022-07-23T08:12:38.463204",
     "exception": false,
     "start_time": "2022-07-23T08:11:19.000327",
     "status": "completed"
    },
    "tags": []
   },
   "outputs": [],
   "source": [
    "engine_combined_eq = (engine_combined.calculate_equity_curve(calculate_net=False, rebalance_freq='m')\n",
    "                      .rename('Trend-following portfolio (YZ estimator + TREND signal)'))"
   ]
  },
  {
   "cell_type": "code",
   "execution_count": 18,
   "id": "0a1a15a8",
   "metadata": {
    "execution": {
     "iopub.execute_input": "2022-07-23T08:12:38.493331Z",
     "iopub.status.busy": "2022-07-23T08:12:38.493054Z",
     "iopub.status.idle": "2022-07-23T08:12:39.076164Z",
     "shell.execute_reply": "2022-07-23T08:12:39.075448Z"
    },
    "papermill": {
     "duration": 0.598302,
     "end_time": "2022-07-23T08:12:39.078410",
     "exception": false,
     "start_time": "2022-07-23T08:12:38.480108",
     "status": "completed"
    },
    "tags": []
   },
   "outputs": [
    {
     "data": {
      "image/png": "[encoded data removed]",
      "text/plain": [
       "<Figure size 576x324 with 1 Axes>"
      ]
     },
     "metadata": {
      "needs_background": "light"
     },
     "output_type": "display_data"
    }
   ],
   "source": [
    "fig, ax = plt.subplots(figsize=(8, 4.5))\n",
    "engine_combined_eq.plot(ax=ax, logy=True)\n",
    "ax.set_title('Trend-following portfolio (YZ estimator + TREND signal)')\n",
    "ax.set_ylabel('Cumulative returns');"
   ]
  },
  {
   "cell_type": "code",
   "execution_count": 19,
   "id": "99dfacd5",
   "metadata": {
    "execution": {
     "iopub.execute_input": "2022-07-23T08:12:39.114470Z",
     "iopub.status.busy": "2022-07-23T08:12:39.114156Z",
     "iopub.status.idle": "2022-07-23T08:12:39.195162Z",
     "shell.execute_reply": "2022-07-23T08:12:39.194386Z"
    },
    "papermill": {
     "duration": 0.101261,
     "end_time": "2022-07-23T08:12:39.197261",
     "exception": false,
     "start_time": "2022-07-23T08:12:39.096000",
     "status": "completed"
    },
    "tags": []
   },
   "outputs": [
    {
     "data": {
      "text/html": [
       "<div>\n",
       "<style scoped>\n",
       "    .dataframe tbody tr th:only-of-type {\n",
       "        vertical-align: middle;\n",
       "    }\n",
       "\n",
       "    .dataframe tbody tr th {\n",
       "        vertical-align: top;\n",
       "    }\n",
       "\n",
       "    .dataframe thead th {\n",
       "        text-align: right;\n",
       "    }\n",
       "</style>\n",
       "<table border=\"1\" class=\"dataframe\">\n",
       "  <thead>\n",
       "    <tr style=\"text-align: right;\">\n",
       "      <th></th>\n",
       "      <th>Trend-following portfolio (YZ estimator + TREND signal)</th>\n",
       "    </tr>\n",
       "  </thead>\n",
       "  <tbody>\n",
       "    <tr>\n",
       "      <th>CAGR</th>\n",
       "      <td>0.139804</td>\n",
       "    </tr>\n",
       "    <tr>\n",
       "      <th>Annualised vol</th>\n",
       "      <td>0.110679</td>\n",
       "    </tr>\n",
       "    <tr>\n",
       "      <th>Sharpe ratio</th>\n",
       "      <td>1.263140</td>\n",
       "    </tr>\n",
       "    <tr>\n",
       "      <th>Max drawdown</th>\n",
       "      <td>0.313945</td>\n",
       "    </tr>\n",
       "    <tr>\n",
       "      <th>Calmar ratio</th>\n",
       "      <td>0.445312</td>\n",
       "    </tr>\n",
       "    <tr>\n",
       "      <th>Skewness</th>\n",
       "      <td>0.292911</td>\n",
       "    </tr>\n",
       "    <tr>\n",
       "      <th>Kurtosis</th>\n",
       "      <td>32.554811</td>\n",
       "    </tr>\n",
       "    <tr>\n",
       "      <th>Worst return</th>\n",
       "      <td>-0.130152</td>\n",
       "    </tr>\n",
       "    <tr>\n",
       "      <th>Worst 1d return</th>\n",
       "      <td>-0.130152</td>\n",
       "    </tr>\n",
       "    <tr>\n",
       "      <th>Worst 1w return</th>\n",
       "      <td>-0.112097</td>\n",
       "    </tr>\n",
       "    <tr>\n",
       "      <th>Worst 1m return</th>\n",
       "      <td>-0.186272</td>\n",
       "    </tr>\n",
       "  </tbody>\n",
       "</table>\n",
       "</div>"
      ],
      "text/plain": [
       "                 Trend-following portfolio (YZ estimator + TREND signal)\n",
       "CAGR                                                      0.139804      \n",
       "Annualised vol                                            0.110679      \n",
       "Sharpe ratio                                              1.263140      \n",
       "Max drawdown                                              0.313945      \n",
       "Calmar ratio                                              0.445312      \n",
       "Skewness                                                  0.292911      \n",
       "Kurtosis                                                 32.554811      \n",
       "Worst return                                             -0.130152      \n",
       "Worst 1d return                                          -0.130152      \n",
       "Worst 1w return                                          -0.112097      \n",
       "Worst 1m return                                          -0.186272      "
      ]
     },
     "execution_count": 19,
     "metadata": {},
     "output_type": "execute_result"
    }
   ],
   "source": [
    "engine_combined_eq.pipe(Performance).summary()"
   ]
  },
  {
   "cell_type": "markdown",
   "id": "28916305",
   "metadata": {
    "papermill": {
     "duration": 0.017294,
     "end_time": "2022-07-23T08:12:39.232530",
     "exception": false,
     "start_time": "2022-07-23T08:12:39.215236",
     "status": "completed"
    },
    "tags": []
   },
   "source": [
    "# Comparison\n",
    "\n",
    "In this section we compare the above 4 backtests."
   ]
  },
  {
   "cell_type": "markdown",
   "id": "ba407c93",
   "metadata": {
    "papermill": {
     "duration": 0.017119,
     "end_time": "2022-07-23T08:12:39.267402",
     "exception": false,
     "start_time": "2022-07-23T08:12:39.250283",
     "status": "completed"
    },
    "tags": []
   },
   "source": [
    "## Performance\n",
    "\n",
    "As reported in BK2020, using the YZ estimator and TREND signal does not alter the performance characteristics. Rather, the TREND signal somewhat improves the Sharpe ratio. Also the TREND signal lowers the annualised volatility from 12.5% to 10.8% with the close-to-close realised volatility."
   ]
  },
  {
   "cell_type": "code",
   "execution_count": 20,
   "id": "d5079ca7",
   "metadata": {
    "execution": {
     "iopub.execute_input": "2022-07-23T08:12:39.293772Z",
     "iopub.status.busy": "2022-07-23T08:12:39.293504Z",
     "iopub.status.idle": "2022-07-23T08:12:39.307075Z",
     "shell.execute_reply": "2022-07-23T08:12:39.306371Z"
    },
    "papermill": {
     "duration": 0.028815,
     "end_time": "2022-07-23T08:12:39.308984",
     "exception": false,
     "start_time": "2022-07-23T08:12:39.280169",
     "status": "completed"
    },
    "tags": []
   },
   "outputs": [],
   "source": [
    "performance_comp = pd.concat((engine_original_eq, engine_vol_eq, \n",
    "                              engine_trend_eq, engine_combined_eq), axis=1)"
   ]
  },
  {
   "cell_type": "code",
   "execution_count": 21,
   "id": "1e14ed2a",
   "metadata": {
    "execution": {
     "iopub.execute_input": "2022-07-23T08:12:39.334780Z",
     "iopub.status.busy": "2022-07-23T08:12:39.334519Z",
     "iopub.status.idle": "2022-07-23T08:12:40.130453Z",
     "shell.execute_reply": "2022-07-23T08:12:40.129592Z"
    },
    "papermill": {
     "duration": 0.810886,
     "end_time": "2022-07-23T08:12:40.132285",
     "exception": false,
     "start_time": "2022-07-23T08:12:39.321399",
     "status": "completed"
    },
    "tags": []
   },
   "outputs": [
    {
     "data": {
      "image/png": "[encoded data removed]",
      "text/plain": [
       "<Figure size 576x324 with 1 Axes>"
      ]
     },
     "metadata": {
      "needs_background": "light"
     },
     "output_type": "display_data"
    }
   ],
   "source": [
    "fig, ax = plt.subplots(figsize=(8, 4.5))\n",
    "performance_comp.plot(ax=ax, logy=True);\n",
    "ax.set_title('Trend-following portfolio')\n",
    "ax.set_ylabel('Cumulative returns');"
   ]
  },
  {
   "cell_type": "code",
   "execution_count": 22,
   "id": "bc1a4d9b",
   "metadata": {
    "execution": {
     "iopub.execute_input": "2022-07-23T08:12:40.158531Z",
     "iopub.status.busy": "2022-07-23T08:12:40.158266Z",
     "iopub.status.idle": "2022-07-23T08:12:40.252587Z",
     "shell.execute_reply": "2022-07-23T08:12:40.251997Z"
    },
    "papermill": {
     "duration": 0.109874,
     "end_time": "2022-07-23T08:12:40.254624",
     "exception": false,
     "start_time": "2022-07-23T08:12:40.144750",
     "status": "completed"
    },
    "tags": []
   },
   "outputs": [
    {
     "data": {
      "text/html": [
       "<div>\n",
       "<style scoped>\n",
       "    .dataframe tbody tr th:only-of-type {\n",
       "        vertical-align: middle;\n",
       "    }\n",
       "\n",
       "    .dataframe tbody tr th {\n",
       "        vertical-align: top;\n",
       "    }\n",
       "\n",
       "    .dataframe thead th {\n",
       "        text-align: right;\n",
       "    }\n",
       "</style>\n",
       "<table border=\"1\" class=\"dataframe\">\n",
       "  <thead>\n",
       "    <tr style=\"text-align: right;\">\n",
       "      <th></th>\n",
       "      <th>Trend-following portfolio (Moskowitz 2012)</th>\n",
       "      <th>Trend-following portfolio (YZ estimator)</th>\n",
       "      <th>Trend-following portfolio (TREND signal)</th>\n",
       "      <th>Trend-following portfolio (YZ estimator + TREND signal)</th>\n",
       "    </tr>\n",
       "  </thead>\n",
       "  <tbody>\n",
       "    <tr>\n",
       "      <th>CAGR</th>\n",
       "      <td>0.147409</td>\n",
       "      <td>0.148690</td>\n",
       "      <td>0.139359</td>\n",
       "      <td>0.139460</td>\n",
       "    </tr>\n",
       "    <tr>\n",
       "      <th>Annualised vol</th>\n",
       "      <td>0.124979</td>\n",
       "      <td>0.127119</td>\n",
       "      <td>0.107940</td>\n",
       "      <td>0.110544</td>\n",
       "    </tr>\n",
       "    <tr>\n",
       "      <th>Sharpe ratio</th>\n",
       "      <td>1.179470</td>\n",
       "      <td>1.169697</td>\n",
       "      <td>1.291076</td>\n",
       "      <td>1.261574</td>\n",
       "    </tr>\n",
       "    <tr>\n",
       "      <th>Max drawdown</th>\n",
       "      <td>0.259239</td>\n",
       "      <td>0.305877</td>\n",
       "      <td>0.294584</td>\n",
       "      <td>0.313945</td>\n",
       "    </tr>\n",
       "    <tr>\n",
       "      <th>Calmar ratio</th>\n",
       "      <td>0.568622</td>\n",
       "      <td>0.486112</td>\n",
       "      <td>0.473070</td>\n",
       "      <td>0.444216</td>\n",
       "    </tr>\n",
       "    <tr>\n",
       "      <th>Skewness</th>\n",
       "      <td>0.073082</td>\n",
       "      <td>0.281382</td>\n",
       "      <td>0.159249</td>\n",
       "      <td>0.293877</td>\n",
       "    </tr>\n",
       "    <tr>\n",
       "      <th>Kurtosis</th>\n",
       "      <td>19.362998</td>\n",
       "      <td>22.204715</td>\n",
       "      <td>28.035027</td>\n",
       "      <td>32.641499</td>\n",
       "    </tr>\n",
       "    <tr>\n",
       "      <th>Worst return</th>\n",
       "      <td>-0.126276</td>\n",
       "      <td>-0.137043</td>\n",
       "      <td>-0.121269</td>\n",
       "      <td>-0.130152</td>\n",
       "    </tr>\n",
       "    <tr>\n",
       "      <th>Worst 1d return</th>\n",
       "      <td>-0.126276</td>\n",
       "      <td>-0.137043</td>\n",
       "      <td>-0.121269</td>\n",
       "      <td>-0.130152</td>\n",
       "    </tr>\n",
       "    <tr>\n",
       "      <th>Worst 1w return</th>\n",
       "      <td>-0.107725</td>\n",
       "      <td>-0.098542</td>\n",
       "      <td>-0.110077</td>\n",
       "      <td>-0.112097</td>\n",
       "    </tr>\n",
       "    <tr>\n",
       "      <th>Worst 1m return</th>\n",
       "      <td>-0.152667</td>\n",
       "      <td>-0.169177</td>\n",
       "      <td>-0.171789</td>\n",
       "      <td>-0.186272</td>\n",
       "    </tr>\n",
       "  </tbody>\n",
       "</table>\n",
       "</div>"
      ],
      "text/plain": [
       "                 Trend-following portfolio (Moskowitz 2012)  \\\n",
       "CAGR                                               0.147409   \n",
       "Annualised vol                                     0.124979   \n",
       "Sharpe ratio                                       1.179470   \n",
       "Max drawdown                                       0.259239   \n",
       "Calmar ratio                                       0.568622   \n",
       "Skewness                                           0.073082   \n",
       "Kurtosis                                          19.362998   \n",
       "Worst return                                      -0.126276   \n",
       "Worst 1d return                                   -0.126276   \n",
       "Worst 1w return                                   -0.107725   \n",
       "Worst 1m return                                   -0.152667   \n",
       "\n",
       "                 Trend-following portfolio (YZ estimator)  \\\n",
       "CAGR                                             0.148690   \n",
       "Annualised vol                                   0.127119   \n",
       "Sharpe ratio                                     1.169697   \n",
       "Max drawdown                                     0.305877   \n",
       "Calmar ratio                                     0.486112   \n",
       "Skewness                                         0.281382   \n",
       "Kurtosis                                        22.204715   \n",
       "Worst return                                    -0.137043   \n",
       "Worst 1d return                                 -0.137043   \n",
       "Worst 1w return                                 -0.098542   \n",
       "Worst 1m return                                 -0.169177   \n",
       "\n",
       "                 Trend-following portfolio (TREND signal)  \\\n",
       "CAGR                                             0.139359   \n",
       "Annualised vol                                   0.107940   \n",
       "Sharpe ratio                                     1.291076   \n",
       "Max drawdown                                     0.294584   \n",
       "Calmar ratio                                     0.473070   \n",
       "Skewness                                         0.159249   \n",
       "Kurtosis                                        28.035027   \n",
       "Worst return                                    -0.121269   \n",
       "Worst 1d return                                 -0.121269   \n",
       "Worst 1w return                                 -0.110077   \n",
       "Worst 1m return                                 -0.171789   \n",
       "\n",
       "                 Trend-following portfolio (YZ estimator + TREND signal)  \n",
       "CAGR                                                      0.139460        \n",
       "Annualised vol                                            0.110544        \n",
       "Sharpe ratio                                              1.261574        \n",
       "Max drawdown                                              0.313945        \n",
       "Calmar ratio                                              0.444216        \n",
       "Skewness                                                  0.293877        \n",
       "Kurtosis                                                 32.641499        \n",
       "Worst return                                             -0.130152        \n",
       "Worst 1d return                                          -0.130152        \n",
       "Worst 1w return                                          -0.112097        \n",
       "Worst 1m return                                          -0.186272        "
      ]
     },
     "execution_count": 22,
     "metadata": {},
     "output_type": "execute_result"
    }
   ],
   "source": [
    "performance_comp.pipe(Performance).summary()"
   ]
  },
  {
   "cell_type": "markdown",
   "id": "2af90668",
   "metadata": {
    "papermill": {
     "duration": 0.018977,
     "end_time": "2022-07-23T08:12:40.293109",
     "exception": false,
     "start_time": "2022-07-23T08:12:40.274132",
     "status": "completed"
    },
    "tags": []
   },
   "source": [
    "## Turnover reduction\n",
    "\n",
    "Again, as reported in BK2020, both enhancements reduce the turnover significantly while not affecting the performance. The chart below shows the reduction in turnover for each futures contract. By utilising the YZ realised volatility and the TREND signal, overall the turnover is reduced by more than 30%."
   ]
  },
  {
   "cell_type": "code",
   "execution_count": 23,
   "id": "86264767",
   "metadata": {
    "execution": {
     "iopub.execute_input": "2022-07-23T08:12:40.328360Z",
     "iopub.status.busy": "2022-07-23T08:12:40.328091Z",
     "iopub.status.idle": "2022-07-23T08:17:52.075021Z",
     "shell.execute_reply": "2022-07-23T08:17:52.074327Z"
    },
    "papermill": {
     "duration": 311.765133,
     "end_time": "2022-07-23T08:17:52.077566",
     "exception": false,
     "start_time": "2022-07-23T08:12:40.312433",
     "status": "completed"
    },
    "tags": []
   },
   "outputs": [],
   "source": [
    "engine_original_pos = engine_original.get_position_by_instrument()\n",
    "engine_vol_pos = engine_vol.get_position_by_instrument()\n",
    "engine_trend_pos = engine_trend.get_position_by_instrument()\n",
    "engine_combined_pos = engine_combined.get_position_by_instrument()"
   ]
  },
  {
   "cell_type": "code",
   "execution_count": 24,
   "id": "2fcf299a",
   "metadata": {
    "execution": {
     "iopub.execute_input": "2022-07-23T08:17:52.118861Z",
     "iopub.status.busy": "2022-07-23T08:17:52.118600Z",
     "iopub.status.idle": "2022-07-23T08:17:52.158454Z",
     "shell.execute_reply": "2022-07-23T08:17:52.157705Z"
    },
    "papermill": {
     "duration": 0.063239,
     "end_time": "2022-07-23T08:17:52.160971",
     "exception": false,
     "start_time": "2022-07-23T08:17:52.097732",
     "status": "completed"
    },
    "tags": []
   },
   "outputs": [],
   "source": [
    "engine_original_turnover = (engine_original_pos.diff().abs().mean().mul(261)\n",
    "                            .rename('Trend-following portfolio (Moskowitz 2012)'))\n",
    "engine_vol_turnover = (engine_vol_pos.diff().abs().mean().mul(261)\n",
    "                       .rename('Trend-following portfolio (YZ estimator)'))\n",
    "engine_trend_turnover = (engine_trend_pos.diff().abs().mean().mul(261)\n",
    "                         .rename('Trend-following portfolio (TREND signal)'))\n",
    "engine_combined_turnover = (engine_combined_pos.diff().abs().mean().mul(261)\n",
    "                            .rename('Trend-following portfolio (YZ estimator + TREND signal)'))"
   ]
  },
  {
   "cell_type": "code",
   "execution_count": 25,
   "id": "315c2fe6",
   "metadata": {
    "execution": {
     "iopub.execute_input": "2022-07-23T08:17:52.201881Z",
     "iopub.status.busy": "2022-07-23T08:17:52.201616Z",
     "iopub.status.idle": "2022-07-23T08:17:52.209252Z",
     "shell.execute_reply": "2022-07-23T08:17:52.208473Z"
    },
    "papermill": {
     "duration": 0.030529,
     "end_time": "2022-07-23T08:17:52.211522",
     "exception": false,
     "start_time": "2022-07-23T08:17:52.180993",
     "status": "completed"
    },
    "tags": []
   },
   "outputs": [],
   "source": [
    "turnover_reduction = (\n",
    "    pd.concat((engine_vol_turnover, engine_trend_turnover, engine_combined_turnover), axis=1)\n",
    "    .div(engine_original_turnover, axis=0)\n",
    "    .sub(1)\n",
    "    .reindex(index=all_futures_baltas2020.index)\n",
    "    .rename(index=all_futures_baltas2020['name'])\n",
    ")"
   ]
  },
  {
   "cell_type": "code",
   "execution_count": 26,
   "id": "5b557908",
   "metadata": {
    "execution": {
     "iopub.execute_input": "2022-07-23T08:17:52.239816Z",
     "iopub.status.busy": "2022-07-23T08:17:52.239548Z",
     "iopub.status.idle": "2022-07-23T08:17:52.246352Z",
     "shell.execute_reply": "2022-07-23T08:17:52.245646Z"
    },
    "papermill": {
     "duration": 0.022833,
     "end_time": "2022-07-23T08:17:52.248302",
     "exception": false,
     "start_time": "2022-07-23T08:17:52.225469",
     "status": "completed"
    },
    "tags": []
   },
   "outputs": [
    {
     "data": {
      "text/plain": [
       "Trend-following portfolio (YZ estimator)                  -0.181173\n",
       "Trend-following portfolio (TREND signal)                  -0.207281\n",
       "Trend-following portfolio (YZ estimator + TREND signal)   -0.330718\n",
       "dtype: float64"
      ]
     },
     "execution_count": 26,
     "metadata": {},
     "output_type": "execute_result"
    }
   ],
   "source": [
    "turnover_reduction.mean()"
   ]
  },
  {
   "cell_type": "code",
   "execution_count": 27,
   "id": "e8c87e41",
   "metadata": {
    "execution": {
     "iopub.execute_input": "2022-07-23T08:17:52.276380Z",
     "iopub.status.busy": "2022-07-23T08:17:52.276114Z",
     "iopub.status.idle": "2022-07-23T08:17:54.111038Z",
     "shell.execute_reply": "2022-07-23T08:17:54.110345Z"
    },
    "papermill": {
     "duration": 1.85064,
     "end_time": "2022-07-23T08:17:54.112781",
     "exception": false,
     "start_time": "2022-07-23T08:17:52.262141",
     "status": "completed"
    },
    "tags": []
   },
   "outputs": [
    {
     "data": {
      "image/png": "[encoded data removed]",
      "text/plain": [
       "<Figure size 1008x288 with 1 Axes>"
      ]
     },
     "metadata": {
      "needs_background": "light"
     },
     "output_type": "display_data"
    }
   ],
   "source": [
    "ax = turnover_reduction.plot(kind='bar', figsize=(14, 4))\n",
    "ax.yaxis.set_major_formatter(mticker.PercentFormatter(1))\n",
    "ax.axhline(0, color='black', lw=1)\n",
    "ax.axvline(24.5, color='black', lw=1)\n",
    "ax.axvline(30.5, color='black', lw=1)\n",
    "ax.axvline(42.5, color='black', lw=1)\n",
    "ax.set_xlabel('Contract')\n",
    "ax.set_ylabel('Turnover reduction');"
   ]
  },
  {
   "cell_type": "markdown",
   "id": "07f0a8d6",
   "metadata": {
    "papermill": {
     "duration": 0.01382,
     "end_time": "2022-07-23T08:17:54.140554",
     "exception": false,
     "start_time": "2022-07-23T08:17:54.126734",
     "status": "completed"
    },
    "tags": []
   },
   "source": [
    "# Recent performance"
   ]
  },
  {
   "cell_type": "code",
   "execution_count": 28,
   "id": "5ed53892",
   "metadata": {
    "execution": {
     "iopub.execute_input": "2022-07-23T08:17:54.169318Z",
     "iopub.status.busy": "2022-07-23T08:17:54.169051Z",
     "iopub.status.idle": "2022-07-23T08:17:54.641378Z",
     "shell.execute_reply": "2022-07-23T08:17:54.640496Z"
    },
    "papermill": {
     "duration": 0.488802,
     "end_time": "2022-07-23T08:17:54.643174",
     "exception": false,
     "start_time": "2022-07-23T08:17:54.154372",
     "status": "completed"
    },
    "tags": []
   },
   "outputs": [
    {
     "data": {
      "image/png": "[encoded data removed]",
      "text/plain": [
       "<Figure size 576x324 with 1 Axes>"
      ]
     },
     "metadata": {
      "needs_background": "light"
     },
     "output_type": "display_data"
    }
   ],
   "source": [
    "fig, ax = plt.subplots(figsize=(8, 4.5))\n",
    "performance_comp.tail(252 * 2).pct_change().fillna(0).add(1).cumprod().plot(ax=ax, logy=True);\n",
    "ax.set_title('Trend-following portfolio')\n",
    "ax.set_ylabel('Cumulative returns');"
   ]
  },
  {
   "cell_type": "markdown",
   "id": "0457333d",
   "metadata": {
    "papermill": {
     "duration": 0.014759,
     "end_time": "2022-07-23T08:17:54.673732",
     "exception": false,
     "start_time": "2022-07-23T08:17:54.658973",
     "status": "completed"
    },
    "tags": []
   },
   "source": [
    "# Reference\n",
    "\n",
    "- Baltas, N. and Kosowski, R., 2020. Demystifying time-series momentum strategies: Volatility estimators, trading rules and pairwise correlations. Market Momentum: Theory and Practice\", Wiley.\n",
    "- Moskowitz, T.J., Ooi, Y.H. and Pedersen, L.H., 2012. Time series momentum. Journal of financial economics, 104(2), pp.228-250."
   ]
  },
  {
   "cell_type": "code",
   "execution_count": 29,
   "id": "156d2c8a",
   "metadata": {
    "ExecuteTime": {
     "end_time": "2020-08-30T21:20:32.431574Z",
     "start_time": "2020-08-30T21:20:32.429370Z"
    },
    "execution": {
     "iopub.execute_input": "2022-07-23T08:17:54.706445Z",
     "iopub.status.busy": "2022-07-23T08:17:54.706010Z",
     "iopub.status.idle": "2022-07-23T08:17:54.711072Z",
     "shell.execute_reply": "2022-07-23T08:17:54.710297Z"
    },
    "papermill": {
     "duration": 0.02427,
     "end_time": "2022-07-23T08:17:54.712854",
     "exception": false,
     "start_time": "2022-07-23T08:17:54.688584",
     "status": "completed"
    },
    "tags": []
   },
   "outputs": [
    {
     "name": "stdout",
     "output_type": "stream",
     "text": [
      "Updated: 23-Jul-2022 08:17\n"
     ]
    }
   ],
   "source": [
    "print(f'Updated: {datetime.utcnow():%d-%b-%Y %H:%M}')"
   ]
  }
 ],
 "metadata": {
  "hide_input": false,
  "kernelspec": {
   "display_name": "Python 3",
   "language": "python",
   "name": "python3"
  },
  "language_info": {
   "codemirror_mode": {
    "name": "ipython",
    "version": 3
   },
   "file_extension": ".py",
   "mimetype": "text/x-python",
   "name": "python",
   "nbconvert_exporter": "python",
   "pygments_lexer": "ipython3",
   "version": "3.9.6"
  },
  "nav_menu": {},
  "papermill": {
   "duration": 6359.668338,
   "end_time": "2022-07-23T08:17:57.761065",
   "environment_variables": {},
   "exception": null,
   "input_path": "notebooks/papermill/trend_following_baltas2020.ipynb",
   "output_path": "notebooks/trend_following_baltas2020.ipynb",
   "parameters": {},
   "start_time": "2022-07-23T06:31:58.092727",
   "version": "2.1.3"
  },
  "toc": {
   "base_numbering": 1,
   "nav_menu": {},
   "number_sections": true,
   "sideBar": true,
   "skip_h1_title": false,
   "title_cell": "Table of Contents",
   "title_sidebar": "Contents",
   "toc_cell": true,
   "toc_position": {
    "height": "calc(100% - 180px)",
    "left": "10px",
    "top": "150px",
    "width": "165px"
   },
   "toc_section_display": "block",
   "toc_window_display": true
  }
 },
 "nbformat": 4,
 "nbformat_minor": 5
}