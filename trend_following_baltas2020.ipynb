{
 "cells": [
  {
   "cell_type": "markdown",
   "id": "1322dff4",
   "metadata": {
    "papermill": {
     "duration": 0.010917,
     "end_time": "2022-08-19T06:26:28.784109",
     "exception": false,
     "start_time": "2022-08-19T06:26:28.773192",
     "status": "completed"
    },
    "tags": []
   },
   "source": [
    "# Trend-following\n",
    "\n",
    "This notebook implements a few improvements that Baltas and Kosowski (2020) (BK2020, hereafter) propose to the time-series momentum strategy which originally appeared in Moskowitz et al (2012).\n",
    "\n",
    "Note that like other notebooks, all backtests are performed by using a private library called `vivace`."
   ]
  },
  {
   "cell_type": "code",
   "execution_count": 1,
   "id": "194f6646",
   "metadata": {
    "ExecuteTime": {
     "end_time": "2020-08-30T21:08:49.524262Z",
     "start_time": "2020-08-30T21:08:48.720115Z"
    },
    "execution": {
     "iopub.execute_input": "2022-08-19T06:26:28.807861Z",
     "iopub.status.busy": "2022-08-19T06:26:28.807466Z",
     "iopub.status.idle": "2022-08-19T06:26:32.181462Z",
     "shell.execute_reply": "2022-08-19T06:26:32.180642Z"
    },
    "papermill": {
     "duration": 3.388654,
     "end_time": "2022-08-19T06:26:32.184000",
     "exception": false,
     "start_time": "2022-08-19T06:26:28.795346",
     "status": "completed"
    },
    "tags": []
   },
   "outputs": [],
   "source": [
    "%matplotlib inline\n",
    "from datetime import datetime\n",
    "import logging\n",
    "import warnings\n",
    "warnings.simplefilter(action='ignore', category=FutureWarning)\n",
    "\n",
    "import pandas as pd\n",
    "import matplotlib.pyplot as plt\n",
    "import matplotlib.ticker as mticker\n",
    "plt.style.use('bmh')\n",
    "\n",
    "from vivace.backtest import signal\n",
    "from vivace.backtest import processing\n",
    "from vivace.backtest.contract import all_futures_baltas2020\n",
    "from vivace.backtest.engine import BacktestEngine\n",
    "from vivace.backtest.enums import Strategy, Weighting, RealisedVolatility\n",
    "from vivace.backtest.stats import Performance"
   ]
  },
  {
   "cell_type": "markdown",
   "id": "79668f13",
   "metadata": {
    "papermill": {
     "duration": 0.014702,
     "end_time": "2022-08-19T06:26:32.213743",
     "exception": false,
     "start_time": "2022-08-19T06:26:32.199041",
     "status": "completed"
    },
    "tags": []
   },
   "source": [
    "# Data"
   ]
  },
  {
   "cell_type": "code",
   "execution_count": 2,
   "id": "fc08278f",
   "metadata": {
    "ExecuteTime": {
     "end_time": "2020-08-30T21:08:49.529214Z",
     "start_time": "2020-08-30T21:08:49.525465Z"
    },
    "execution": {
     "iopub.execute_input": "2022-08-19T06:26:32.236753Z",
     "iopub.status.busy": "2022-08-19T06:26:32.236162Z",
     "iopub.status.idle": "2022-08-19T06:26:32.245601Z",
     "shell.execute_reply": "2022-08-19T06:26:32.244890Z"
    },
    "papermill": {
     "duration": 0.023258,
     "end_time": "2022-08-19T06:26:32.247521",
     "exception": false,
     "start_time": "2022-08-19T06:26:32.224263",
     "status": "completed"
    },
    "tags": []
   },
   "outputs": [
    {
     "data": {
      "text/plain": [
       "array(['WTI Crude Oil', 'Brent Crude Oil', 'Heating Oil', 'Natural Gas',\n",
       "       'Gasoline', 'Copper', 'Gold', 'Palladium', 'Platinum', 'Silver',\n",
       "       'Feeder Cattle', 'Live Cattle', 'Lean Hog', 'Corn', 'Oats',\n",
       "       'Soybean Oil', 'Soybean Meal', 'Soybean', 'Wheat', 'Cocoa',\n",
       "       'Coffee', 'Cotton', 'Lumber', 'Orange Juice', 'Sugar',\n",
       "       'Australian Dollar', 'Canadian Dollar', 'Swiss Franc', 'Euro',\n",
       "       'British Pound', 'Japanese Yen', 'E-Mini Nasdaq 100',\n",
       "       'E-mini S&P 500', 'E-mini Russell 2000', 'FTSE 100', 'DAX',\n",
       "       'CAC 40', 'IBEX 35', 'AEX', 'Swiss Market Index', 'SPI 200',\n",
       "       'Topix', 'Hang Seng', 'US 2-year Treasury', 'US 5-year Treasury',\n",
       "       'US 10-year Treasury', 'US treasury Bond', 'Germany Schatz',\n",
       "       'Germany Bobl', 'Germany Bund', 'Germany Buxl', 'Gilt',\n",
       "       'Canada 10-year Treasury', 'JGB'], dtype=object)"
      ]
     },
     "execution_count": 2,
     "metadata": {},
     "output_type": "execute_result"
    }
   ],
   "source": [
    "all_futures_baltas2020['name'].values"
   ]
  },
  {
   "cell_type": "code",
   "execution_count": 3,
   "id": "de65b3f1",
   "metadata": {
    "ExecuteTime": {
     "end_time": "2020-08-30T21:08:49.542477Z",
     "start_time": "2020-08-30T21:08:49.530487Z"
    },
    "execution": {
     "iopub.execute_input": "2022-08-19T06:26:32.304712Z",
     "iopub.status.busy": "2022-08-19T06:26:32.304268Z",
     "iopub.status.idle": "2022-08-19T06:26:32.309621Z",
     "shell.execute_reply": "2022-08-19T06:26:32.308728Z"
    },
    "papermill": {
     "duration": 0.052886,
     "end_time": "2022-08-19T06:26:32.311934",
     "exception": false,
     "start_time": "2022-08-19T06:26:32.259048",
     "status": "completed"
    },
    "tags": []
   },
   "outputs": [
    {
     "name": "stdout",
     "output_type": "stream",
     "text": [
      "54\n"
     ]
    }
   ],
   "source": [
    "print(len(all_futures_baltas2020))"
   ]
  },
  {
   "cell_type": "markdown",
   "id": "14a211a2",
   "metadata": {
    "papermill": {
     "duration": 0.010374,
     "end_time": "2022-08-19T06:26:32.336037",
     "exception": false,
     "start_time": "2022-08-19T06:26:32.325663",
     "status": "completed"
    },
    "tags": []
   },
   "source": [
    "We try to use the same contract as the original paper where possible, resulting 54 futures contracts to analyse. The trading universe covers a wide range of asset classes and regions, and is made up of following instruments:\n",
    "- Equity index futures\n",
    "- Government bond futures\n",
    "- FX futures\n",
    "- Commodity futures\n",
    "\n",
    "where the same trend detection method is applied."
   ]
  },
  {
   "cell_type": "markdown",
   "id": "a9506b09",
   "metadata": {
    "papermill": {
     "duration": 0.011131,
     "end_time": "2022-08-19T06:26:32.357858",
     "exception": false,
     "start_time": "2022-08-19T06:26:32.346727",
     "status": "completed"
    },
    "tags": []
   },
   "source": [
    "# Performance\n"
   ]
  },
  {
   "cell_type": "markdown",
   "id": "e35f4f55",
   "metadata": {
    "papermill": {
     "duration": 0.01113,
     "end_time": "2022-08-19T06:26:32.380361",
     "exception": false,
     "start_time": "2022-08-19T06:26:32.369231",
     "status": "completed"
    },
    "tags": []
   },
   "source": [
    "## Moskowitz et al\n",
    "\n",
    "First we calculate the original trend-following portfolio with a more traditional close-to-close realised volatility estimator. Although Moskowitz et al uses the exponentially weighted standard deviation, BK2020 appears to compare against the rolling standard deviation."
   ]
  },
  {
   "cell_type": "code",
   "execution_count": 4,
   "id": "ef394a4d",
   "metadata": {
    "execution": {
     "iopub.execute_input": "2022-08-19T06:26:32.404077Z",
     "iopub.status.busy": "2022-08-19T06:26:32.403774Z",
     "iopub.status.idle": "2022-08-19T06:38:16.228514Z",
     "shell.execute_reply": "2022-08-19T06:38:16.227645Z"
    },
    "papermill": {
     "duration": 703.839579,
     "end_time": "2022-08-19T06:38:16.231008",
     "exception": false,
     "start_time": "2022-08-19T06:26:32.391429",
     "status": "completed"
    },
    "tags": []
   },
   "outputs": [],
   "source": [
    "engine_original = BacktestEngine(\n",
    "    strategy=Strategy.DELTA_ONE.value,\n",
    "    instrument=all_futures_baltas2020.index,\n",
    "    signal=signal.ParallelSignal([\n",
    "        signal.VolatilityScale(agg_method='rolling', window=21, ann_factor=261, \n",
    "                               target_volatility=0.4, signal_cap=0.95),\n",
    "        signal.TSMOMMoskowitz2012(post_process=processing.AsFreq(freq='m', method='pad'))\n",
    "    ], weighting='product'),\n",
    "    weighting=Weighting.EQUAL_WEIGHT.value,\n",
    "    log_level=logging.WARN,\n",
    ")\n",
    "engine_original.run()"
   ]
  },
  {
   "cell_type": "code",
   "execution_count": 5,
   "id": "f289a535",
   "metadata": {
    "execution": {
     "iopub.execute_input": "2022-08-19T06:38:16.261899Z",
     "iopub.status.busy": "2022-08-19T06:38:16.261619Z",
     "iopub.status.idle": "2022-08-19T06:39:50.559883Z",
     "shell.execute_reply": "2022-08-19T06:39:50.559034Z"
    },
    "papermill": {
     "duration": 94.317549,
     "end_time": "2022-08-19T06:39:50.562361",
     "exception": false,
     "start_time": "2022-08-19T06:38:16.244812",
     "status": "completed"
    },
    "tags": []
   },
   "outputs": [],
   "source": [
    "engine_original_eq = (engine_original.calculate_equity_curve(calculate_net=False, rebalance_freq='m')\n",
    "                      .rename('Trend-following portfolio (Moskowitz 2012)'))"
   ]
  },
  {
   "cell_type": "code",
   "execution_count": 6,
   "id": "28fbbec2",
   "metadata": {
    "execution": {
     "iopub.execute_input": "2022-08-19T06:39:50.586752Z",
     "iopub.status.busy": "2022-08-19T06:39:50.586398Z",
     "iopub.status.idle": "2022-08-19T06:39:52.023335Z",
     "shell.execute_reply": "2022-08-19T06:39:52.022423Z"
    },
    "papermill": {
     "duration": 1.451218,
     "end_time": "2022-08-19T06:39:52.025279",
     "exception": false,
     "start_time": "2022-08-19T06:39:50.574061",
     "status": "completed"
    },
    "tags": []
   },
   "outputs": [
    {
     "data": {
      "image/png": "[encoded data removed]",
      "text/plain": [
       "<Figure size 576x324 with 1 Axes>"
      ]
     },
     "metadata": {
      "needs_background": "light"
     },
     "output_type": "display_data"
    }
   ],
   "source": [
    "fig, ax = plt.subplots(figsize=(8, 4.5))\n",
    "engine_original_eq.plot(ax=ax, logy=True)\n",
    "ax.set_title('Trend-following portfolio (Moskowitz 2012)')\n",
    "ax.set_ylabel('Cumulative returns');"
   ]
  },
  {
   "cell_type": "code",
   "execution_count": 7,
   "id": "c7cb9903",
   "metadata": {
    "execution": {
     "iopub.execute_input": "2022-08-19T06:39:52.050202Z",
     "iopub.status.busy": "2022-08-19T06:39:52.049926Z",
     "iopub.status.idle": "2022-08-19T06:39:52.134869Z",
     "shell.execute_reply": "2022-08-19T06:39:52.133995Z"
    },
    "papermill": {
     "duration": 0.099907,
     "end_time": "2022-08-19T06:39:52.137343",
     "exception": false,
     "start_time": "2022-08-19T06:39:52.037436",
     "status": "completed"
    },
    "tags": []
   },
   "outputs": [
    {
     "data": {
      "text/html": [
       "<div>\n",
       "<style scoped>\n",
       "    .dataframe tbody tr th:only-of-type {\n",
       "        vertical-align: middle;\n",
       "    }\n",
       "\n",
       "    .dataframe tbody tr th {\n",
       "        vertical-align: top;\n",
       "    }\n",
       "\n",
       "    .dataframe thead th {\n",
       "        text-align: right;\n",
       "    }\n",
       "</style>\n",
       "<table border=\"1\" class=\"dataframe\">\n",
       "  <thead>\n",
       "    <tr style=\"text-align: right;\">\n",
       "      <th></th>\n",
       "      <th>Trend-following portfolio (Moskowitz 2012)</th>\n",
       "    </tr>\n",
       "  </thead>\n",
       "  <tbody>\n",
       "    <tr>\n",
       "      <th>CAGR</th>\n",
       "      <td>0.147288</td>\n",
       "    </tr>\n",
       "    <tr>\n",
       "      <th>Annualised vol</th>\n",
       "      <td>0.124962</td>\n",
       "    </tr>\n",
       "    <tr>\n",
       "      <th>Sharpe ratio</th>\n",
       "      <td>1.178657</td>\n",
       "    </tr>\n",
       "    <tr>\n",
       "      <th>Max drawdown</th>\n",
       "      <td>0.259239</td>\n",
       "    </tr>\n",
       "    <tr>\n",
       "      <th>Calmar ratio</th>\n",
       "      <td>0.568155</td>\n",
       "    </tr>\n",
       "    <tr>\n",
       "      <th>Skewness</th>\n",
       "      <td>0.073283</td>\n",
       "    </tr>\n",
       "    <tr>\n",
       "      <th>Kurtosis</th>\n",
       "      <td>19.350096</td>\n",
       "    </tr>\n",
       "    <tr>\n",
       "      <th>Worst return</th>\n",
       "      <td>-0.126276</td>\n",
       "    </tr>\n",
       "    <tr>\n",
       "      <th>Worst 1d return</th>\n",
       "      <td>-0.126276</td>\n",
       "    </tr>\n",
       "    <tr>\n",
       "      <th>Worst 1w return</th>\n",
       "      <td>-0.107725</td>\n",
       "    </tr>\n",
       "    <tr>\n",
       "      <th>Worst 1m return</th>\n",
       "      <td>-0.152667</td>\n",
       "    </tr>\n",
       "  </tbody>\n",
       "</table>\n",
       "</div>"
      ],
      "text/plain": [
       "                 Trend-following portfolio (Moskowitz 2012)\n",
       "CAGR                                               0.147288\n",
       "Annualised vol                                     0.124962\n",
       "Sharpe ratio                                       1.178657\n",
       "Max drawdown                                       0.259239\n",
       "Calmar ratio                                       0.568155\n",
       "Skewness                                           0.073283\n",
       "Kurtosis                                          19.350096\n",
       "Worst return                                      -0.126276\n",
       "Worst 1d return                                   -0.126276\n",
       "Worst 1w return                                   -0.107725\n",
       "Worst 1m return                                   -0.152667"
      ]
     },
     "execution_count": 7,
     "metadata": {},
     "output_type": "execute_result"
    }
   ],
   "source": [
    "engine_original_eq.pipe(Performance).summary()"
   ]
  },
  {
   "cell_type": "markdown",
   "id": "2aac0814",
   "metadata": {
    "papermill": {
     "duration": 0.014972,
     "end_time": "2022-08-19T06:39:52.167817",
     "exception": false,
     "start_time": "2022-08-19T06:39:52.152845",
     "status": "completed"
    },
    "tags": []
   },
   "source": [
    "\n",
    "## Volatility estimator\n",
    "BK2020 proposes a few changes in order to enhance the original trend-following strategy Moskowitz et al reported. The first thing is to use a more sophisticated realised volatility estimators for volatility scaling. Moskowitz used the exponentially weighted standard deviation with close-to-close. On the other hand, BK2020 suggests to use Yang-Zhang estimator as it is much more efficient."
   ]
  },
  {
   "cell_type": "code",
   "execution_count": 8,
   "id": "b363a9e2",
   "metadata": {
    "ExecuteTime": {
     "end_time": "2020-08-30T21:18:24.661167Z",
     "start_time": "2020-08-30T21:08:49.544232Z"
    },
    "execution": {
     "iopub.execute_input": "2022-08-19T06:39:52.199548Z",
     "iopub.status.busy": "2022-08-19T06:39:52.199068Z",
     "iopub.status.idle": "2022-08-19T07:01:49.320825Z",
     "shell.execute_reply": "2022-08-19T07:01:49.320049Z"
    },
    "papermill": {
     "duration": 1317.140707,
     "end_time": "2022-08-19T07:01:49.323457",
     "exception": false,
     "start_time": "2022-08-19T06:39:52.182750",
     "status": "completed"
    },
    "tags": []
   },
   "outputs": [],
   "source": [
    "engine_vol = BacktestEngine(\n",
    "    strategy=Strategy.DELTA_ONE.value,\n",
    "    instrument=all_futures_baltas2020.index,\n",
    "    signal=signal.ParallelSignal([\n",
    "        signal.VolatilityScale(volatility_type=RealisedVolatility.YZ.value,\n",
    "                               agg_method='rolling', window=21, min_periods=10,\n",
    "                               target_volatility=0.4, signal_cap=0.95, ann_factor=261),\n",
    "        signal.TSMOMMoskowitz2012(post_process=processing.AsFreq(freq='m', method='pad'))\n",
    "    ], weighting='product'),\n",
    "    weighting=Weighting.EQUAL_WEIGHT.value,\n",
    "    log_level=logging.WARN,\n",
    ")\n",
    "engine_vol.run()"
   ]
  },
  {
   "cell_type": "code",
   "execution_count": 9,
   "id": "11984061",
   "metadata": {
    "execution": {
     "iopub.execute_input": "2022-08-19T07:01:49.356034Z",
     "iopub.status.busy": "2022-08-19T07:01:49.355576Z",
     "iopub.status.idle": "2022-08-19T07:03:17.658593Z",
     "shell.execute_reply": "2022-08-19T07:03:17.657848Z"
    },
    "papermill": {
     "duration": 88.320849,
     "end_time": "2022-08-19T07:03:17.660540",
     "exception": false,
     "start_time": "2022-08-19T07:01:49.339691",
     "status": "completed"
    },
    "tags": []
   },
   "outputs": [],
   "source": [
    "engine_vol_eq = (engine_vol.calculate_equity_curve(calculate_net=False, rebalance_freq='m')\n",
    "                 .rename('Trend-following portfolio (YZ estimator)'))"
   ]
  },
  {
   "cell_type": "code",
   "execution_count": 10,
   "id": "73e572c4",
   "metadata": {
    "execution": {
     "iopub.execute_input": "2022-08-19T07:03:17.682848Z",
     "iopub.status.busy": "2022-08-19T07:03:17.682529Z",
     "iopub.status.idle": "2022-08-19T07:03:18.298286Z",
     "shell.execute_reply": "2022-08-19T07:03:18.297514Z"
    },
    "papermill": {
     "duration": 0.629047,
     "end_time": "2022-08-19T07:03:18.300133",
     "exception": false,
     "start_time": "2022-08-19T07:03:17.671086",
     "status": "completed"
    },
    "tags": []
   },
   "outputs": [
    {
     "data": {
      "image/png": "[encoded data removed]",
      "text/plain": [
       "<Figure size 576x324 with 1 Axes>"
      ]
     },
     "metadata": {
      "needs_background": "light"
     },
     "output_type": "display_data"
    }
   ],
   "source": [
    "fig, ax = plt.subplots(figsize=(8, 4.5))\n",
    "engine_vol_eq.plot(ax=ax, logy=True);\n",
    "ax.set_title('Trend-following portfolio (YZ estimator)')\n",
    "ax.set_ylabel('Cumulative returns');"
   ]
  },
  {
   "cell_type": "code",
   "execution_count": 11,
   "id": "023d9ff9",
   "metadata": {
    "execution": {
     "iopub.execute_input": "2022-08-19T07:03:18.325058Z",
     "iopub.status.busy": "2022-08-19T07:03:18.323642Z",
     "iopub.status.idle": "2022-08-19T07:03:18.413597Z",
     "shell.execute_reply": "2022-08-19T07:03:18.412910Z"
    },
    "papermill": {
     "duration": 0.104263,
     "end_time": "2022-08-19T07:03:18.415345",
     "exception": false,
     "start_time": "2022-08-19T07:03:18.311082",
     "status": "completed"
    },
    "tags": []
   },
   "outputs": [
    {
     "data": {
      "text/html": [
       "<div>\n",
       "<style scoped>\n",
       "    .dataframe tbody tr th:only-of-type {\n",
       "        vertical-align: middle;\n",
       "    }\n",
       "\n",
       "    .dataframe tbody tr th {\n",
       "        vertical-align: top;\n",
       "    }\n",
       "\n",
       "    .dataframe thead th {\n",
       "        text-align: right;\n",
       "    }\n",
       "</style>\n",
       "<table border=\"1\" class=\"dataframe\">\n",
       "  <thead>\n",
       "    <tr style=\"text-align: right;\">\n",
       "      <th></th>\n",
       "      <th>Trend-following portfolio (YZ estimator)</th>\n",
       "    </tr>\n",
       "  </thead>\n",
       "  <tbody>\n",
       "    <tr>\n",
       "      <th>CAGR</th>\n",
       "      <td>0.148940</td>\n",
       "    </tr>\n",
       "    <tr>\n",
       "      <th>Annualised vol</th>\n",
       "      <td>0.127251</td>\n",
       "    </tr>\n",
       "    <tr>\n",
       "      <th>Sharpe ratio</th>\n",
       "      <td>1.170445</td>\n",
       "    </tr>\n",
       "    <tr>\n",
       "      <th>Max drawdown</th>\n",
       "      <td>0.305877</td>\n",
       "    </tr>\n",
       "    <tr>\n",
       "      <th>Calmar ratio</th>\n",
       "      <td>0.486928</td>\n",
       "    </tr>\n",
       "    <tr>\n",
       "      <th>Skewness</th>\n",
       "      <td>0.280498</td>\n",
       "    </tr>\n",
       "    <tr>\n",
       "      <th>Kurtosis</th>\n",
       "      <td>22.133667</td>\n",
       "    </tr>\n",
       "    <tr>\n",
       "      <th>Worst return</th>\n",
       "      <td>-0.137043</td>\n",
       "    </tr>\n",
       "    <tr>\n",
       "      <th>Worst 1d return</th>\n",
       "      <td>-0.137043</td>\n",
       "    </tr>\n",
       "    <tr>\n",
       "      <th>Worst 1w return</th>\n",
       "      <td>-0.098542</td>\n",
       "    </tr>\n",
       "    <tr>\n",
       "      <th>Worst 1m return</th>\n",
       "      <td>-0.169177</td>\n",
       "    </tr>\n",
       "  </tbody>\n",
       "</table>\n",
       "</div>"
      ],
      "text/plain": [
       "                 Trend-following portfolio (YZ estimator)\n",
       "CAGR                                             0.148940\n",
       "Annualised vol                                   0.127251\n",
       "Sharpe ratio                                     1.170445\n",
       "Max drawdown                                     0.305877\n",
       "Calmar ratio                                     0.486928\n",
       "Skewness                                         0.280498\n",
       "Kurtosis                                        22.133667\n",
       "Worst return                                    -0.137043\n",
       "Worst 1d return                                 -0.137043\n",
       "Worst 1w return                                 -0.098542\n",
       "Worst 1m return                                 -0.169177"
      ]
     },
     "execution_count": 11,
     "metadata": {},
     "output_type": "execute_result"
    }
   ],
   "source": [
    "engine_vol_eq.pipe(Performance).summary()"
   ]
  },
  {
   "cell_type": "markdown",
   "id": "bc58efc2",
   "metadata": {
    "papermill": {
     "duration": 0.011011,
     "end_time": "2022-08-19T07:03:18.438573",
     "exception": false,
     "start_time": "2022-08-19T07:03:18.427562",
     "status": "completed"
    },
    "tags": []
   },
   "source": [
    "## TREND signal\n",
    "\n",
    "Another improvement BK2020 proposes is to use a continuous signal rather than a binary one in order to reduce the turnover when signals are weak. Specifically they used the t-values with the Newey-West standard error as the signal. They further capped and floored the signal between -1 and +1 to avoid extreme positions.\n",
    "\n",
    "`statsmodels`'s `OLS` class provides a method to compute the Newey-West standard error. https://www.statsmodels.org/stable/generated/statsmodels.regression.linear_model.OLS.html"
   ]
  },
  {
   "cell_type": "code",
   "execution_count": 12,
   "id": "1b939221",
   "metadata": {
    "execution": {
     "iopub.execute_input": "2022-08-19T07:03:18.461739Z",
     "iopub.status.busy": "2022-08-19T07:03:18.461454Z",
     "iopub.status.idle": "2022-08-19T07:22:05.876253Z",
     "shell.execute_reply": "2022-08-19T07:22:05.875480Z"
    },
    "papermill": {
     "duration": 1127.429611,
     "end_time": "2022-08-19T07:22:05.879039",
     "exception": false,
     "start_time": "2022-08-19T07:03:18.449428",
     "status": "completed"
    },
    "tags": []
   },
   "outputs": [],
   "source": [
    "engine_trend = BacktestEngine(\n",
    "    strategy=Strategy.DELTA_ONE.value,\n",
    "    instrument=all_futures_baltas2020.index,\n",
    "    signal=signal.ParallelSignal([\n",
    "        signal.VolatilityScale(agg_method='rolling', window=21, ann_factor=261, \n",
    "                               target_volatility=0.4, signal_cap=0.95),\n",
    "        signal.TSMOMBaltas2020()\n",
    "    ], weighting='product'),\n",
    "    weighting=Weighting.EQUAL_WEIGHT.value,\n",
    "    log_level=logging.WARN,\n",
    ")\n",
    "engine_trend.run()"
   ]
  },
  {
   "cell_type": "code",
   "execution_count": 13,
   "id": "8718595e",
   "metadata": {
    "execution": {
     "iopub.execute_input": "2022-08-19T07:22:05.914492Z",
     "iopub.status.busy": "2022-08-19T07:22:05.914192Z",
     "iopub.status.idle": "2022-08-19T07:23:36.154744Z",
     "shell.execute_reply": "2022-08-19T07:23:36.153909Z"
    },
    "papermill": {
     "duration": 90.260523,
     "end_time": "2022-08-19T07:23:36.156771",
     "exception": false,
     "start_time": "2022-08-19T07:22:05.896248",
     "status": "completed"
    },
    "tags": []
   },
   "outputs": [],
   "source": [
    "engine_trend_eq = (engine_trend.calculate_equity_curve(calculate_net=False, rebalance_freq='m')\n",
    "                   .rename('Trend-following portfolio (TREND signal)'))"
   ]
  },
  {
   "cell_type": "code",
   "execution_count": 14,
   "id": "c2df13f2",
   "metadata": {
    "execution": {
     "iopub.execute_input": "2022-08-19T07:23:36.180803Z",
     "iopub.status.busy": "2022-08-19T07:23:36.180529Z",
     "iopub.status.idle": "2022-08-19T07:23:36.763454Z",
     "shell.execute_reply": "2022-08-19T07:23:36.762724Z"
    },
    "papermill": {
     "duration": 0.596826,
     "end_time": "2022-08-19T07:23:36.765106",
     "exception": false,
     "start_time": "2022-08-19T07:23:36.168280",
     "status": "completed"
    },
    "tags": []
   },
   "outputs": [
    {
     "data": {
      "image/png": "[encoded data removed]",
      "text/plain": [
       "<Figure size 576x324 with 1 Axes>"
      ]
     },
     "metadata": {
      "needs_background": "light"
     },
     "output_type": "display_data"
    }
   ],
   "source": [
    "fig, ax = plt.subplots(figsize=(8, 4.5))\n",
    "engine_trend_eq.plot(ax=ax, logy=True);\n",
    "ax.set_title('Trend-following portfolio (TREND signal)')\n",
    "ax.set_ylabel('Cumulative returns');"
   ]
  },
  {
   "cell_type": "code",
   "execution_count": 15,
   "id": "e5cacdd0",
   "metadata": {
    "execution": {
     "iopub.execute_input": "2022-08-19T07:23:36.792188Z",
     "iopub.status.busy": "2022-08-19T07:23:36.791892Z",
     "iopub.status.idle": "2022-08-19T07:23:36.875455Z",
     "shell.execute_reply": "2022-08-19T07:23:36.874743Z"
    },
    "papermill": {
     "duration": 0.100069,
     "end_time": "2022-08-19T07:23:36.877113",
     "exception": false,
     "start_time": "2022-08-19T07:23:36.777044",
     "status": "completed"
    },
    "tags": []
   },
   "outputs": [
    {
     "data": {
      "text/html": [
       "<div>\n",
       "<style scoped>\n",
       "    .dataframe tbody tr th:only-of-type {\n",
       "        vertical-align: middle;\n",
       "    }\n",
       "\n",
       "    .dataframe tbody tr th {\n",
       "        vertical-align: top;\n",
       "    }\n",
       "\n",
       "    .dataframe thead th {\n",
       "        text-align: right;\n",
       "    }\n",
       "</style>\n",
       "<table border=\"1\" class=\"dataframe\">\n",
       "  <thead>\n",
       "    <tr style=\"text-align: right;\">\n",
       "      <th></th>\n",
       "      <th>Trend-following portfolio (TREND signal)</th>\n",
       "    </tr>\n",
       "  </thead>\n",
       "  <tbody>\n",
       "    <tr>\n",
       "      <th>CAGR</th>\n",
       "      <td>0.139421</td>\n",
       "    </tr>\n",
       "    <tr>\n",
       "      <th>Annualised vol</th>\n",
       "      <td>0.107928</td>\n",
       "    </tr>\n",
       "    <tr>\n",
       "      <th>Sharpe ratio</th>\n",
       "      <td>1.291795</td>\n",
       "    </tr>\n",
       "    <tr>\n",
       "      <th>Max drawdown</th>\n",
       "      <td>0.294584</td>\n",
       "    </tr>\n",
       "    <tr>\n",
       "      <th>Calmar ratio</th>\n",
       "      <td>0.473282</td>\n",
       "    </tr>\n",
       "    <tr>\n",
       "      <th>Skewness</th>\n",
       "      <td>0.159192</td>\n",
       "    </tr>\n",
       "    <tr>\n",
       "      <th>Kurtosis</th>\n",
       "      <td>28.013643</td>\n",
       "    </tr>\n",
       "    <tr>\n",
       "      <th>Worst return</th>\n",
       "      <td>-0.121269</td>\n",
       "    </tr>\n",
       "    <tr>\n",
       "      <th>Worst 1d return</th>\n",
       "      <td>-0.121269</td>\n",
       "    </tr>\n",
       "    <tr>\n",
       "      <th>Worst 1w return</th>\n",
       "      <td>-0.110077</td>\n",
       "    </tr>\n",
       "    <tr>\n",
       "      <th>Worst 1m return</th>\n",
       "      <td>-0.171789</td>\n",
       "    </tr>\n",
       "  </tbody>\n",
       "</table>\n",
       "</div>"
      ],
      "text/plain": [
       "                 Trend-following portfolio (TREND signal)\n",
       "CAGR                                             0.139421\n",
       "Annualised vol                                   0.107928\n",
       "Sharpe ratio                                     1.291795\n",
       "Max drawdown                                     0.294584\n",
       "Calmar ratio                                     0.473282\n",
       "Skewness                                         0.159192\n",
       "Kurtosis                                        28.013643\n",
       "Worst return                                    -0.121269\n",
       "Worst 1d return                                 -0.121269\n",
       "Worst 1w return                                 -0.110077\n",
       "Worst 1m return                                 -0.171789"
      ]
     },
     "execution_count": 15,
     "metadata": {},
     "output_type": "execute_result"
    }
   ],
   "source": [
    "engine_trend_eq.pipe(Performance).summary()"
   ]
  },
  {
   "cell_type": "markdown",
   "id": "2cd6d6a5",
   "metadata": {
    "papermill": {
     "duration": 0.011633,
     "end_time": "2022-08-19T07:23:36.900895",
     "exception": false,
     "start_time": "2022-08-19T07:23:36.889262",
     "status": "completed"
    },
    "tags": []
   },
   "source": [
    "## Combined\n",
    "\n",
    "Finally we run a backtest by using both the Yang-Zhang volatility estimator and the TREND signal."
   ]
  },
  {
   "cell_type": "code",
   "execution_count": 16,
   "id": "685ceef7",
   "metadata": {
    "execution": {
     "iopub.execute_input": "2022-08-19T07:23:36.934020Z",
     "iopub.status.busy": "2022-08-19T07:23:36.933356Z",
     "iopub.status.idle": "2022-08-19T07:50:15.644783Z",
     "shell.execute_reply": "2022-08-19T07:50:15.643867Z"
    },
    "papermill": {
     "duration": 1598.732418,
     "end_time": "2022-08-19T07:50:15.646841",
     "exception": false,
     "start_time": "2022-08-19T07:23:36.914423",
     "status": "completed"
    },
    "tags": []
   },
   "outputs": [],
   "source": [
    "engine_combined = BacktestEngine(\n",
    "    strategy=Strategy.DELTA_ONE.value,\n",
    "    instrument=all_futures_baltas2020.index,\n",
    "    signal=signal.ParallelSignal([\n",
    "        signal.VolatilityScale(volatility_type=RealisedVolatility.YZ.value,\n",
    "                               agg_method='rolling', window=21, min_periods=10,\n",
    "                               target_volatility=0.4, signal_cap=0.95, ann_factor=261),\n",
    "        signal.TSMOMBaltas2020()\n",
    "    ], weighting='product'),\n",
    "    weighting=Weighting.EQUAL_WEIGHT.value,\n",
    "    log_level=logging.WARN,\n",
    ")\n",
    "engine_combined.run()"
   ]
  },
  {
   "cell_type": "code",
   "execution_count": 17,
   "id": "385d06cd",
   "metadata": {
    "execution": {
     "iopub.execute_input": "2022-08-19T07:50:15.678656Z",
     "iopub.status.busy": "2022-08-19T07:50:15.678382Z",
     "iopub.status.idle": "2022-08-19T07:51:36.502968Z",
     "shell.execute_reply": "2022-08-19T07:51:36.502245Z"
    },
    "papermill": {
     "duration": 80.842413,
     "end_time": "2022-08-19T07:51:36.504782",
     "exception": false,
     "start_time": "2022-08-19T07:50:15.662369",
     "status": "completed"
    },
    "tags": []
   },
   "outputs": [],
   "source": [
    "engine_combined_eq = (engine_combined.calculate_equity_curve(calculate_net=False, rebalance_freq='m')\n",
    "                      .rename('Trend-following portfolio (YZ estimator + TREND signal)'))"
   ]
  },
  {
   "cell_type": "code",
   "execution_count": 18,
   "id": "28adb3f1",
   "metadata": {
    "execution": {
     "iopub.execute_input": "2022-08-19T07:51:36.529070Z",
     "iopub.status.busy": "2022-08-19T07:51:36.528753Z",
     "iopub.status.idle": "2022-08-19T07:51:37.107379Z",
     "shell.execute_reply": "2022-08-19T07:51:37.106615Z"
    },
    "papermill": {
     "duration": 0.592677,
     "end_time": "2022-08-19T07:51:37.109177",
     "exception": false,
     "start_time": "2022-08-19T07:51:36.516500",
     "status": "completed"
    },
    "tags": []
   },
   "outputs": [
    {
     "data": {
      "image/png": "[encoded data removed]",
      "text/plain": [
       "<Figure size 576x324 with 1 Axes>"
      ]
     },
     "metadata": {
      "needs_background": "light"
     },
     "output_type": "display_data"
    }
   ],
   "source": [
    "fig, ax = plt.subplots(figsize=(8, 4.5))\n",
    "engine_combined_eq.plot(ax=ax, logy=True)\n",
    "ax.set_title('Trend-following portfolio (YZ estimator + TREND signal)')\n",
    "ax.set_ylabel('Cumulative returns');"
   ]
  },
  {
   "cell_type": "code",
   "execution_count": 19,
   "id": "da080d5d",
   "metadata": {
    "execution": {
     "iopub.execute_input": "2022-08-19T07:51:37.134398Z",
     "iopub.status.busy": "2022-08-19T07:51:37.134072Z",
     "iopub.status.idle": "2022-08-19T07:51:37.213917Z",
     "shell.execute_reply": "2022-08-19T07:51:37.213154Z"
    },
    "papermill": {
     "duration": 0.094512,
     "end_time": "2022-08-19T07:51:37.215536",
     "exception": false,
     "start_time": "2022-08-19T07:51:37.121024",
     "status": "completed"
    },
    "tags": []
   },
   "outputs": [
    {
     "data": {
      "text/html": [
       "<div>\n",
       "<style scoped>\n",
       "    .dataframe tbody tr th:only-of-type {\n",
       "        vertical-align: middle;\n",
       "    }\n",
       "\n",
       "    .dataframe tbody tr th {\n",
       "        vertical-align: top;\n",
       "    }\n",
       "\n",
       "    .dataframe thead th {\n",
       "        text-align: right;\n",
       "    }\n",
       "</style>\n",
       "<table border=\"1\" class=\"dataframe\">\n",
       "  <thead>\n",
       "    <tr style=\"text-align: right;\">\n",
       "      <th></th>\n",
       "      <th>Trend-following portfolio (YZ estimator + TREND signal)</th>\n",
       "    </tr>\n",
       "  </thead>\n",
       "  <tbody>\n",
       "    <tr>\n",
       "      <th>CAGR</th>\n",
       "      <td>0.139866</td>\n",
       "    </tr>\n",
       "    <tr>\n",
       "      <th>Annualised vol</th>\n",
       "      <td>0.110663</td>\n",
       "    </tr>\n",
       "    <tr>\n",
       "      <th>Sharpe ratio</th>\n",
       "      <td>1.263900</td>\n",
       "    </tr>\n",
       "    <tr>\n",
       "      <th>Max drawdown</th>\n",
       "      <td>0.313945</td>\n",
       "    </tr>\n",
       "    <tr>\n",
       "      <th>Calmar ratio</th>\n",
       "      <td>0.445512</td>\n",
       "    </tr>\n",
       "    <tr>\n",
       "      <th>Skewness</th>\n",
       "      <td>0.292727</td>\n",
       "    </tr>\n",
       "    <tr>\n",
       "      <th>Kurtosis</th>\n",
       "      <td>32.536118</td>\n",
       "    </tr>\n",
       "    <tr>\n",
       "      <th>Worst return</th>\n",
       "      <td>-0.130152</td>\n",
       "    </tr>\n",
       "    <tr>\n",
       "      <th>Worst 1d return</th>\n",
       "      <td>-0.130152</td>\n",
       "    </tr>\n",
       "    <tr>\n",
       "      <th>Worst 1w return</th>\n",
       "      <td>-0.112097</td>\n",
       "    </tr>\n",
       "    <tr>\n",
       "      <th>Worst 1m return</th>\n",
       "      <td>-0.186272</td>\n",
       "    </tr>\n",
       "  </tbody>\n",
       "</table>\n",
       "</div>"
      ],
      "text/plain": [
       "                 Trend-following portfolio (YZ estimator + TREND signal)\n",
       "CAGR                                                      0.139866      \n",
       "Annualised vol                                            0.110663      \n",
       "Sharpe ratio                                              1.263900      \n",
       "Max drawdown                                              0.313945      \n",
       "Calmar ratio                                              0.445512      \n",
       "Skewness                                                  0.292727      \n",
       "Kurtosis                                                 32.536118      \n",
       "Worst return                                             -0.130152      \n",
       "Worst 1d return                                          -0.130152      \n",
       "Worst 1w return                                          -0.112097      \n",
       "Worst 1m return                                          -0.186272      "
      ]
     },
     "execution_count": 19,
     "metadata": {},
     "output_type": "execute_result"
    }
   ],
   "source": [
    "engine_combined_eq.pipe(Performance).summary()"
   ]
  },
  {
   "cell_type": "markdown",
   "id": "1b1ab4f8",
   "metadata": {
    "papermill": {
     "duration": 0.012178,
     "end_time": "2022-08-19T07:51:37.239674",
     "exception": false,
     "start_time": "2022-08-19T07:51:37.227496",
     "status": "completed"
    },
    "tags": []
   },
   "source": [
    "# Comparison\n",
    "\n",
    "In this section we compare the above 4 backtests."
   ]
  },
  {
   "cell_type": "markdown",
   "id": "e8ff18f7",
   "metadata": {
    "papermill": {
     "duration": 0.011855,
     "end_time": "2022-08-19T07:51:37.263274",
     "exception": false,
     "start_time": "2022-08-19T07:51:37.251419",
     "status": "completed"
    },
    "tags": []
   },
   "source": [
    "## Performance\n",
    "\n",
    "As reported in BK2020, using the YZ estimator and TREND signal does not alter the performance characteristics. Rather, the TREND signal somewhat improves the Sharpe ratio. Also the TREND signal lowers the annualised volatility from 12.5% to 10.8% with the close-to-close realised volatility."
   ]
  },
  {
   "cell_type": "code",
   "execution_count": 20,
   "id": "4c81ff29",
   "metadata": {
    "execution": {
     "iopub.execute_input": "2022-08-19T07:51:37.288072Z",
     "iopub.status.busy": "2022-08-19T07:51:37.287753Z",
     "iopub.status.idle": "2022-08-19T07:51:37.301169Z",
     "shell.execute_reply": "2022-08-19T07:51:37.300435Z"
    },
    "papermill": {
     "duration": 0.027926,
     "end_time": "2022-08-19T07:51:37.302892",
     "exception": false,
     "start_time": "2022-08-19T07:51:37.274966",
     "status": "completed"
    },
    "tags": []
   },
   "outputs": [],
   "source": [
    "performance_comp = pd.concat((engine_original_eq, engine_vol_eq, \n",
    "                              engine_trend_eq, engine_combined_eq), axis=1)"
   ]
  },
  {
   "cell_type": "code",
   "execution_count": 21,
   "id": "a3db78e9",
   "metadata": {
    "execution": {
     "iopub.execute_input": "2022-08-19T07:51:37.345617Z",
     "iopub.status.busy": "2022-08-19T07:51:37.345359Z",
     "iopub.status.idle": "2022-08-19T07:51:38.097219Z",
     "shell.execute_reply": "2022-08-19T07:51:38.096440Z"
    },
    "papermill": {
     "duration": 0.784221,
     "end_time": "2022-08-19T07:51:38.098981",
     "exception": false,
     "start_time": "2022-08-19T07:51:37.314760",
     "status": "completed"
    },
    "tags": []
   },
   "outputs": [
    {
     "data": {
      "image/png": "[encoded data removed]",
      "text/plain": [
       "<Figure size 576x324 with 1 Axes>"
      ]
     },
     "metadata": {
      "needs_background": "light"
     },
     "output_type": "display_data"
    }
   ],
   "source": [
    "fig, ax = plt.subplots(figsize=(8, 4.5))\n",
    "performance_comp.plot(ax=ax, logy=True);\n",
    "ax.set_title('Trend-following portfolio')\n",
    "ax.set_ylabel('Cumulative returns');"
   ]
  },
  {
   "cell_type": "code",
   "execution_count": 22,
   "id": "32157459",
   "metadata": {
    "execution": {
     "iopub.execute_input": "2022-08-19T07:51:38.125224Z",
     "iopub.status.busy": "2022-08-19T07:51:38.124964Z",
     "iopub.status.idle": "2022-08-19T07:51:38.216791Z",
     "shell.execute_reply": "2022-08-19T07:51:38.215917Z"
    },
    "papermill": {
     "duration": 0.106942,
     "end_time": "2022-08-19T07:51:38.218552",
     "exception": false,
     "start_time": "2022-08-19T07:51:38.111610",
     "status": "completed"
    },
    "tags": []
   },
   "outputs": [
    {
     "data": {
      "text/html": [
       "<div>\n",
       "<style scoped>\n",
       "    .dataframe tbody tr th:only-of-type {\n",
       "        vertical-align: middle;\n",
       "    }\n",
       "\n",
       "    .dataframe tbody tr th {\n",
       "        vertical-align: top;\n",
       "    }\n",
       "\n",
       "    .dataframe thead th {\n",
       "        text-align: right;\n",
       "    }\n",
       "</style>\n",
       "<table border=\"1\" class=\"dataframe\">\n",
       "  <thead>\n",
       "    <tr style=\"text-align: right;\">\n",
       "      <th></th>\n",
       "      <th>Trend-following portfolio (Moskowitz 2012)</th>\n",
       "      <th>Trend-following portfolio (YZ estimator)</th>\n",
       "      <th>Trend-following portfolio (TREND signal)</th>\n",
       "      <th>Trend-following portfolio (YZ estimator + TREND signal)</th>\n",
       "    </tr>\n",
       "  </thead>\n",
       "  <tbody>\n",
       "    <tr>\n",
       "      <th>CAGR</th>\n",
       "      <td>0.147288</td>\n",
       "      <td>0.148574</td>\n",
       "      <td>0.139421</td>\n",
       "      <td>0.139523</td>\n",
       "    </tr>\n",
       "    <tr>\n",
       "      <th>Annualised vol</th>\n",
       "      <td>0.124962</td>\n",
       "      <td>0.127095</td>\n",
       "      <td>0.107928</td>\n",
       "      <td>0.110527</td>\n",
       "    </tr>\n",
       "    <tr>\n",
       "      <th>Sharpe ratio</th>\n",
       "      <td>1.178657</td>\n",
       "      <td>1.168997</td>\n",
       "      <td>1.291795</td>\n",
       "      <td>1.262335</td>\n",
       "    </tr>\n",
       "    <tr>\n",
       "      <th>Max drawdown</th>\n",
       "      <td>0.259239</td>\n",
       "      <td>0.305877</td>\n",
       "      <td>0.294584</td>\n",
       "      <td>0.313945</td>\n",
       "    </tr>\n",
       "    <tr>\n",
       "      <th>Calmar ratio</th>\n",
       "      <td>0.568155</td>\n",
       "      <td>0.485731</td>\n",
       "      <td>0.473282</td>\n",
       "      <td>0.444417</td>\n",
       "    </tr>\n",
       "    <tr>\n",
       "      <th>Skewness</th>\n",
       "      <td>0.073283</td>\n",
       "      <td>0.281410</td>\n",
       "      <td>0.159192</td>\n",
       "      <td>0.293692</td>\n",
       "    </tr>\n",
       "    <tr>\n",
       "      <th>Kurtosis</th>\n",
       "      <td>19.350096</td>\n",
       "      <td>22.195027</td>\n",
       "      <td>28.013643</td>\n",
       "      <td>32.622657</td>\n",
       "    </tr>\n",
       "    <tr>\n",
       "      <th>Worst return</th>\n",
       "      <td>-0.126276</td>\n",
       "      <td>-0.137043</td>\n",
       "      <td>-0.121269</td>\n",
       "      <td>-0.130152</td>\n",
       "    </tr>\n",
       "    <tr>\n",
       "      <th>Worst 1d return</th>\n",
       "      <td>-0.126276</td>\n",
       "      <td>-0.137043</td>\n",
       "      <td>-0.121269</td>\n",
       "      <td>-0.130152</td>\n",
       "    </tr>\n",
       "    <tr>\n",
       "      <th>Worst 1w return</th>\n",
       "      <td>-0.107725</td>\n",
       "      <td>-0.098542</td>\n",
       "      <td>-0.110077</td>\n",
       "      <td>-0.112097</td>\n",
       "    </tr>\n",
       "    <tr>\n",
       "      <th>Worst 1m return</th>\n",
       "      <td>-0.152667</td>\n",
       "      <td>-0.169177</td>\n",
       "      <td>-0.171789</td>\n",
       "      <td>-0.186272</td>\n",
       "    </tr>\n",
       "  </tbody>\n",
       "</table>\n",
       "</div>"
      ],
      "text/plain": [
       "                 Trend-following portfolio (Moskowitz 2012)  \\\n",
       "CAGR                                               0.147288   \n",
       "Annualised vol                                     0.124962   \n",
       "Sharpe ratio                                       1.178657   \n",
       "Max drawdown                                       0.259239   \n",
       "Calmar ratio                                       0.568155   \n",
       "Skewness                                           0.073283   \n",
       "Kurtosis                                          19.350096   \n",
       "Worst return                                      -0.126276   \n",
       "Worst 1d return                                   -0.126276   \n",
       "Worst 1w return                                   -0.107725   \n",
       "Worst 1m return                                   -0.152667   \n",
       "\n",
       "                 Trend-following portfolio (YZ estimator)  \\\n",
       "CAGR                                             0.148574   \n",
       "Annualised vol                                   0.127095   \n",
       "Sharpe ratio                                     1.168997   \n",
       "Max drawdown                                     0.305877   \n",
       "Calmar ratio                                     0.485731   \n",
       "Skewness                                         0.281410   \n",
       "Kurtosis                                        22.195027   \n",
       "Worst return                                    -0.137043   \n",
       "Worst 1d return                                 -0.137043   \n",
       "Worst 1w return                                 -0.098542   \n",
       "Worst 1m return                                 -0.169177   \n",
       "\n",
       "                 Trend-following portfolio (TREND signal)  \\\n",
       "CAGR                                             0.139421   \n",
       "Annualised vol                                   0.107928   \n",
       "Sharpe ratio                                     1.291795   \n",
       "Max drawdown                                     0.294584   \n",
       "Calmar ratio                                     0.473282   \n",
       "Skewness                                         0.159192   \n",
       "Kurtosis                                        28.013643   \n",
       "Worst return                                    -0.121269   \n",
       "Worst 1d return                                 -0.121269   \n",
       "Worst 1w return                                 -0.110077   \n",
       "Worst 1m return                                 -0.171789   \n",
       "\n",
       "                 Trend-following portfolio (YZ estimator + TREND signal)  \n",
       "CAGR                                                      0.139523        \n",
       "Annualised vol                                            0.110527        \n",
       "Sharpe ratio                                              1.262335        \n",
       "Max drawdown                                              0.313945        \n",
       "Calmar ratio                                              0.444417        \n",
       "Skewness                                                  0.293692        \n",
       "Kurtosis                                                 32.622657        \n",
       "Worst return                                             -0.130152        \n",
       "Worst 1d return                                          -0.130152        \n",
       "Worst 1w return                                          -0.112097        \n",
       "Worst 1m return                                          -0.186272        "
      ]
     },
     "execution_count": 22,
     "metadata": {},
     "output_type": "execute_result"
    }
   ],
   "source": [
    "performance_comp.pipe(Performance).summary()"
   ]
  },
  {
   "cell_type": "markdown",
   "id": "d0b22176",
   "metadata": {
    "papermill": {
     "duration": 0.012912,
     "end_time": "2022-08-19T07:51:38.244447",
     "exception": false,
     "start_time": "2022-08-19T07:51:38.231535",
     "status": "completed"
    },
    "tags": []
   },
   "source": [
    "## Turnover reduction\n",
    "\n",
    "Again, as reported in BK2020, both enhancements reduce the turnover significantly while not affecting the performance. The chart below shows the reduction in turnover for each futures contract. By utilising the YZ realised volatility and the TREND signal, overall the turnover is reduced by more than 30%."
   ]
  },
  {
   "cell_type": "code",
   "execution_count": 23,
   "id": "c90171ed",
   "metadata": {
    "execution": {
     "iopub.execute_input": "2022-08-19T07:51:38.271045Z",
     "iopub.status.busy": "2022-08-19T07:51:38.270788Z",
     "iopub.status.idle": "2022-08-19T07:56:42.076007Z",
     "shell.execute_reply": "2022-08-19T07:56:42.075268Z"
    },
    "papermill": {
     "duration": 303.820795,
     "end_time": "2022-08-19T07:56:42.077977",
     "exception": false,
     "start_time": "2022-08-19T07:51:38.257182",
     "status": "completed"
    },
    "tags": []
   },
   "outputs": [],
   "source": [
    "engine_original_pos = engine_original.get_position_by_instrument()\n",
    "engine_vol_pos = engine_vol.get_position_by_instrument()\n",
    "engine_trend_pos = engine_trend.get_position_by_instrument()\n",
    "engine_combined_pos = engine_combined.get_position_by_instrument()"
   ]
  },
  {
   "cell_type": "code",
   "execution_count": 24,
   "id": "d1278f75",
   "metadata": {
    "execution": {
     "iopub.execute_input": "2022-08-19T07:56:42.105949Z",
     "iopub.status.busy": "2022-08-19T07:56:42.105626Z",
     "iopub.status.idle": "2022-08-19T07:56:42.142487Z",
     "shell.execute_reply": "2022-08-19T07:56:42.141807Z"
    },
    "papermill": {
     "duration": 0.052994,
     "end_time": "2022-08-19T07:56:42.144321",
     "exception": false,
     "start_time": "2022-08-19T07:56:42.091327",
     "status": "completed"
    },
    "tags": []
   },
   "outputs": [],
   "source": [
    "engine_original_turnover = (engine_original_pos.diff().abs().mean().mul(261)\n",
    "                            .rename('Trend-following portfolio (Moskowitz 2012)'))\n",
    "engine_vol_turnover = (engine_vol_pos.diff().abs().mean().mul(261)\n",
    "                       .rename('Trend-following portfolio (YZ estimator)'))\n",
    "engine_trend_turnover = (engine_trend_pos.diff().abs().mean().mul(261)\n",
    "                         .rename('Trend-following portfolio (TREND signal)'))\n",
    "engine_combined_turnover = (engine_combined_pos.diff().abs().mean().mul(261)\n",
    "                            .rename('Trend-following portfolio (YZ estimator + TREND signal)'))"
   ]
  },
  {
   "cell_type": "code",
   "execution_count": 25,
   "id": "10a7cd90",
   "metadata": {
    "execution": {
     "iopub.execute_input": "2022-08-19T07:56:42.174501Z",
     "iopub.status.busy": "2022-08-19T07:56:42.174234Z",
     "iopub.status.idle": "2022-08-19T07:56:42.181305Z",
     "shell.execute_reply": "2022-08-19T07:56:42.180541Z"
    },
    "papermill": {
     "duration": 0.025807,
     "end_time": "2022-08-19T07:56:42.182853",
     "exception": false,
     "start_time": "2022-08-19T07:56:42.157046",
     "status": "completed"
    },
    "tags": []
   },
   "outputs": [],
   "source": [
    "turnover_reduction = (\n",
    "    pd.concat((engine_vol_turnover, engine_trend_turnover, engine_combined_turnover), axis=1)\n",
    "    .div(engine_original_turnover, axis=0)\n",
    "    .sub(1)\n",
    "    .reindex(index=all_futures_baltas2020.index)\n",
    "    .rename(index=all_futures_baltas2020['name'])\n",
    ")"
   ]
  },
  {
   "cell_type": "code",
   "execution_count": 26,
   "id": "25ba1713",
   "metadata": {
    "execution": {
     "iopub.execute_input": "2022-08-19T07:56:42.209219Z",
     "iopub.status.busy": "2022-08-19T07:56:42.208962Z",
     "iopub.status.idle": "2022-08-19T07:56:42.214853Z",
     "shell.execute_reply": "2022-08-19T07:56:42.214224Z"
    },
    "papermill": {
     "duration": 0.020976,
     "end_time": "2022-08-19T07:56:42.216460",
     "exception": false,
     "start_time": "2022-08-19T07:56:42.195484",
     "status": "completed"
    },
    "tags": []
   },
   "outputs": [
    {
     "data": {
      "text/plain": [
       "Trend-following portfolio (YZ estimator)                  -0.181280\n",
       "Trend-following portfolio (TREND signal)                  -0.207356\n",
       "Trend-following portfolio (YZ estimator + TREND signal)   -0.330818\n",
       "dtype: float64"
      ]
     },
     "execution_count": 26,
     "metadata": {},
     "output_type": "execute_result"
    }
   ],
   "source": [
    "turnover_reduction.mean()"
   ]
  },
  {
   "cell_type": "code",
   "execution_count": 27,
   "id": "14c2544b",
   "metadata": {
    "execution": {
     "iopub.execute_input": "2022-08-19T07:56:42.243229Z",
     "iopub.status.busy": "2022-08-19T07:56:42.242912Z",
     "iopub.status.idle": "2022-08-19T07:56:43.862264Z",
     "shell.execute_reply": "2022-08-19T07:56:43.861537Z"
    },
    "papermill": {
     "duration": 1.634683,
     "end_time": "2022-08-19T07:56:43.863891",
     "exception": false,
     "start_time": "2022-08-19T07:56:42.229208",
     "status": "completed"
    },
    "tags": []
   },
   "outputs": [
    {
     "data": {
      "image/png": "[encoded data removed]",
      "text/plain": [
       "<Figure size 1008x288 with 1 Axes>"
      ]
     },
     "metadata": {
      "needs_background": "light"
     },
     "output_type": "display_data"
    }
   ],
   "source": [
    "ax = turnover_reduction.plot(kind='bar', figsize=(14, 4))\n",
    "ax.yaxis.set_major_formatter(mticker.PercentFormatter(1))\n",
    "ax.axhline(0, color='black', lw=1)\n",
    "ax.axvline(24.5, color='black', lw=1)\n",
    "ax.axvline(30.5, color='black', lw=1)\n",
    "ax.axvline(42.5, color='black', lw=1)\n",
    "ax.set_xlabel('Contract')\n",
    "ax.set_ylabel('Turnover reduction');"
   ]
  },
  {
   "cell_type": "markdown",
   "id": "4739d114",
   "metadata": {
    "papermill": {
     "duration": 0.013473,
     "end_time": "2022-08-19T07:56:43.891478",
     "exception": false,
     "start_time": "2022-08-19T07:56:43.878005",
     "status": "completed"
    },
    "tags": []
   },
   "source": [
    "# Recent performance"
   ]
  },
  {
   "cell_type": "code",
   "execution_count": 28,
   "id": "febb0820",
   "metadata": {
    "execution": {
     "iopub.execute_input": "2022-08-19T07:56:43.920031Z",
     "iopub.status.busy": "2022-08-19T07:56:43.919716Z",
     "iopub.status.idle": "2022-08-19T07:56:44.399131Z",
     "shell.execute_reply": "2022-08-19T07:56:44.398384Z"
    },
    "papermill": {
     "duration": 0.495822,
     "end_time": "2022-08-19T07:56:44.400870",
     "exception": false,
     "start_time": "2022-08-19T07:56:43.905048",
     "status": "completed"
    },
    "tags": []
   },
   "outputs": [
    {
     "data": {
      "image/png": "[encoded data removed]",
      "text/plain": [
       "<Figure size 576x324 with 1 Axes>"
      ]
     },
     "metadata": {
      "needs_background": "light"
     },
     "output_type": "display_data"
    }
   ],
   "source": [
    "fig, ax = plt.subplots(figsize=(8, 4.5))\n",
    "performance_comp.tail(252 * 2).pct_change().fillna(0).add(1).cumprod().plot(ax=ax, logy=True);\n",
    "ax.set_title('Trend-following portfolio')\n",
    "ax.set_ylabel('Cumulative returns');"
   ]
  },
  {
   "cell_type": "markdown",
   "id": "e63eac87",
   "metadata": {
    "papermill": {
     "duration": 0.014679,
     "end_time": "2022-08-19T07:56:44.433352",
     "exception": false,
     "start_time": "2022-08-19T07:56:44.418673",
     "status": "completed"
    },
    "tags": []
   },
   "source": [
    "# Reference\n",
    "\n",
    "- Baltas, N. and Kosowski, R., 2020. Demystifying time-series momentum strategies: Volatility estimators, trading rules and pairwise correlations. Market Momentum: Theory and Practice\", Wiley.\n",
    "- Moskowitz, T.J., Ooi, Y.H. and Pedersen, L.H., 2012. Time series momentum. Journal of financial economics, 104(2), pp.228-250."
   ]
  },
  {
   "cell_type": "code",
   "execution_count": 29,
   "id": "b0d51542",
   "metadata": {
    "ExecuteTime": {
     "end_time": "2020-08-30T21:20:32.431574Z",
     "start_time": "2020-08-30T21:20:32.429370Z"
    },
    "execution": {
     "iopub.execute_input": "2022-08-19T07:56:44.463917Z",
     "iopub.status.busy": "2022-08-19T07:56:44.463265Z",
     "iopub.status.idle": "2022-08-19T07:56:44.467386Z",
     "shell.execute_reply": "2022-08-19T07:56:44.466667Z"
    },
    "papermill": {
     "duration": 0.021562,
     "end_time": "2022-08-19T07:56:44.469092",
     "exception": false,
     "start_time": "2022-08-19T07:56:44.447530",
     "status": "completed"
    },
    "tags": []
   },
   "outputs": [
    {
     "name": "stdout",
     "output_type": "stream",
     "text": [
      "Updated: 19-Aug-2022 07:56\n"
     ]
    }
   ],
   "source": [
    "print(f'Updated: {datetime.utcnow():%d-%b-%Y %H:%M}')"
   ]
  }
 ],
 "metadata": {
  "hide_input": false,
  "kernelspec": {
   "display_name": "Python 3",
   "language": "python",
   "name": "python3"
  },
  "language_info": {
   "codemirror_mode": {
    "name": "ipython",
    "version": 3
   },
   "file_extension": ".py",
   "mimetype": "text/x-python",
   "name": "python",
   "nbconvert_exporter": "python",
   "pygments_lexer": "ipython3",
   "version": "3.9.6"
  },
  "nav_menu": {},
  "papermill": {
   "duration": 5420.651402,
   "end_time": "2022-08-19T07:56:47.540847",
   "environment_variables": {},
   "exception": null,
   "input_path": "notebooks/papermill/trend_following_baltas2020.ipynb",
   "output_path": "notebooks/trend_following_baltas2020.ipynb",
   "parameters": {},
   "start_time": "2022-08-19T06:26:26.889445",
   "version": "2.1.3"
  },
  "toc": {
   "base_numbering": 1,
   "nav_menu": {},
   "number_sections": true,
   "sideBar": true,
   "skip_h1_title": false,
   "title_cell": "Table of Contents",
   "title_sidebar": "Contents",
   "toc_cell": true,
   "toc_position": {
    "height": "calc(100% - 180px)",
    "left": "10px",
    "top": "150px",
    "width": "165px"
   },
   "toc_section_display": "block",
   "toc_window_display": true
  }
 },
 "nbformat": 4,
 "nbformat_minor": 5
}