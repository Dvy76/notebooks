{
 "cells": [
  {
   "cell_type": "markdown",
   "id": "4c5e89db",
   "metadata": {
    "papermill": {
     "duration": 0.016749,
     "end_time": "2022-08-24T06:27:14.873682",
     "exception": false,
     "start_time": "2022-08-24T06:27:14.856933",
     "status": "completed"
    },
    "tags": []
   },
   "source": [
    "# Trend-following\n",
    "\n",
    "This notebook implements a few improvements that Baltas and Kosowski (2020) (BK2020, hereafter) propose to the time-series momentum strategy which originally appeared in Moskowitz et al (2012).\n",
    "\n",
    "Note that like other notebooks, all backtests are performed by using a private library called `vivace`."
   ]
  },
  {
   "cell_type": "code",
   "execution_count": 1,
   "id": "4e633921",
   "metadata": {
    "ExecuteTime": {
     "end_time": "2020-08-30T21:08:49.524262Z",
     "start_time": "2020-08-30T21:08:48.720115Z"
    },
    "execution": {
     "iopub.execute_input": "2022-08-24T06:27:14.909102Z",
     "iopub.status.busy": "2022-08-24T06:27:14.908046Z",
     "iopub.status.idle": "2022-08-24T06:27:19.254170Z",
     "shell.execute_reply": "2022-08-24T06:27:19.252953Z"
    },
    "papermill": {
     "duration": 4.366618,
     "end_time": "2022-08-24T06:27:19.256369",
     "exception": false,
     "start_time": "2022-08-24T06:27:14.889751",
     "status": "completed"
    },
    "tags": []
   },
   "outputs": [],
   "source": [
    "%matplotlib inline\n",
    "from datetime import datetime\n",
    "import logging\n",
    "import warnings\n",
    "warnings.simplefilter(action='ignore', category=FutureWarning)\n",
    "\n",
    "import pandas as pd\n",
    "import matplotlib.pyplot as plt\n",
    "import matplotlib.ticker as mticker\n",
    "plt.style.use('bmh')\n",
    "\n",
    "from vivace.backtest import signal\n",
    "from vivace.backtest import processing\n",
    "from vivace.backtest.contract import all_futures_baltas2020\n",
    "from vivace.backtest.engine import BacktestEngine\n",
    "from vivace.backtest.enums import Strategy, Weighting, RealisedVolatility\n",
    "from vivace.backtest.stats import Performance"
   ]
  },
  {
   "cell_type": "markdown",
   "id": "85016688",
   "metadata": {
    "papermill": {
     "duration": 0.010413,
     "end_time": "2022-08-24T06:27:19.277437",
     "exception": false,
     "start_time": "2022-08-24T06:27:19.267024",
     "status": "completed"
    },
    "tags": []
   },
   "source": [
    "# Data"
   ]
  },
  {
   "cell_type": "code",
   "execution_count": 2,
   "id": "de35fa25",
   "metadata": {
    "ExecuteTime": {
     "end_time": "2020-08-30T21:08:49.529214Z",
     "start_time": "2020-08-30T21:08:49.525465Z"
    },
    "execution": {
     "iopub.execute_input": "2022-08-24T06:27:19.301022Z",
     "iopub.status.busy": "2022-08-24T06:27:19.300613Z",
     "iopub.status.idle": "2022-08-24T06:27:19.308909Z",
     "shell.execute_reply": "2022-08-24T06:27:19.307958Z"
    },
    "papermill": {
     "duration": 0.022123,
     "end_time": "2022-08-24T06:27:19.310783",
     "exception": false,
     "start_time": "2022-08-24T06:27:19.288660",
     "status": "completed"
    },
    "tags": []
   },
   "outputs": [
    {
     "data": {
      "text/plain": [
       "array(['WTI Crude Oil', 'Brent Crude Oil', 'Heating Oil', 'Natural Gas',\n",
       "       'Gasoline', 'Copper', 'Gold', 'Palladium', 'Platinum', 'Silver',\n",
       "       'Feeder Cattle', 'Live Cattle', 'Lean Hog', 'Corn', 'Oats',\n",
       "       'Soybean Oil', 'Soybean Meal', 'Soybean', 'Wheat', 'Cocoa',\n",
       "       'Coffee', 'Cotton', 'Lumber', 'Orange Juice', 'Sugar',\n",
       "       'Australian Dollar', 'Canadian Dollar', 'Swiss Franc', 'Euro',\n",
       "       'British Pound', 'Japanese Yen', 'E-Mini Nasdaq 100',\n",
       "       'E-mini S&P 500', 'E-mini Russell 2000', 'FTSE 100', 'DAX',\n",
       "       'CAC 40', 'IBEX 35', 'AEX', 'Swiss Market Index', 'SPI 200',\n",
       "       'Topix', 'Hang Seng', 'US 2-year Treasury', 'US 5-year Treasury',\n",
       "       'US 10-year Treasury', 'US treasury Bond', 'Germany Schatz',\n",
       "       'Germany Bobl', 'Germany Bund', 'Germany Buxl', 'Gilt',\n",
       "       'Canada 10-year Treasury', 'JGB'], dtype=object)"
      ]
     },
     "execution_count": 2,
     "metadata": {},
     "output_type": "execute_result"
    }
   ],
   "source": [
    "all_futures_baltas2020['name'].values"
   ]
  },
  {
   "cell_type": "code",
   "execution_count": 3,
   "id": "1ff30a8d",
   "metadata": {
    "ExecuteTime": {
     "end_time": "2020-08-30T21:08:49.542477Z",
     "start_time": "2020-08-30T21:08:49.530487Z"
    },
    "execution": {
     "iopub.execute_input": "2022-08-24T06:27:19.368477Z",
     "iopub.status.busy": "2022-08-24T06:27:19.368107Z",
     "iopub.status.idle": "2022-08-24T06:27:19.373553Z",
     "shell.execute_reply": "2022-08-24T06:27:19.372353Z"
    },
    "papermill": {
     "duration": 0.053989,
     "end_time": "2022-08-24T06:27:19.375963",
     "exception": false,
     "start_time": "2022-08-24T06:27:19.321974",
     "status": "completed"
    },
    "tags": []
   },
   "outputs": [
    {
     "name": "stdout",
     "output_type": "stream",
     "text": [
      "54\n"
     ]
    }
   ],
   "source": [
    "print(len(all_futures_baltas2020))"
   ]
  },
  {
   "cell_type": "markdown",
   "id": "f0e2dcba",
   "metadata": {
    "papermill": {
     "duration": 0.010574,
     "end_time": "2022-08-24T06:27:19.398321",
     "exception": false,
     "start_time": "2022-08-24T06:27:19.387747",
     "status": "completed"
    },
    "tags": []
   },
   "source": [
    "We try to use the same contract as the original paper where possible, resulting 54 futures contracts to analyse. The trading universe covers a wide range of asset classes and regions, and is made up of following instruments:\n",
    "- Equity index futures\n",
    "- Government bond futures\n",
    "- FX futures\n",
    "- Commodity futures\n",
    "\n",
    "where the same trend detection method is applied."
   ]
  },
  {
   "cell_type": "markdown",
   "id": "36aa4fea",
   "metadata": {
    "papermill": {
     "duration": 0.010728,
     "end_time": "2022-08-24T06:27:19.420261",
     "exception": false,
     "start_time": "2022-08-24T06:27:19.409533",
     "status": "completed"
    },
    "tags": []
   },
   "source": [
    "# Performance\n"
   ]
  },
  {
   "cell_type": "markdown",
   "id": "e9e67efb",
   "metadata": {
    "papermill": {
     "duration": 0.017119,
     "end_time": "2022-08-24T06:27:19.449513",
     "exception": false,
     "start_time": "2022-08-24T06:27:19.432394",
     "status": "completed"
    },
    "tags": []
   },
   "source": [
    "## Moskowitz et al\n",
    "\n",
    "First we calculate the original trend-following portfolio with a more traditional close-to-close realised volatility estimator. Although Moskowitz et al uses the exponentially weighted standard deviation, BK2020 appears to compare against the rolling standard deviation."
   ]
  },
  {
   "cell_type": "code",
   "execution_count": 4,
   "id": "6750e760",
   "metadata": {
    "execution": {
     "iopub.execute_input": "2022-08-24T06:27:19.485253Z",
     "iopub.status.busy": "2022-08-24T06:27:19.484808Z",
     "iopub.status.idle": "2022-08-24T06:39:11.354586Z",
     "shell.execute_reply": "2022-08-24T06:39:11.353679Z"
    },
    "papermill": {
     "duration": 711.890093,
     "end_time": "2022-08-24T06:39:11.356886",
     "exception": false,
     "start_time": "2022-08-24T06:27:19.466793",
     "status": "completed"
    },
    "tags": []
   },
   "outputs": [],
   "source": [
    "engine_original = BacktestEngine(\n",
    "    strategy=Strategy.DELTA_ONE.value,\n",
    "    instrument=all_futures_baltas2020.index,\n",
    "    signal=signal.ParallelSignal([\n",
    "        signal.VolatilityScale(agg_method='rolling', window=21, ann_factor=261, \n",
    "                               target_volatility=0.4, signal_cap=0.95),\n",
    "        signal.TSMOMMoskowitz2012(post_process=processing.AsFreq(freq='m', method='pad'))\n",
    "    ], weighting='product'),\n",
    "    weighting=Weighting.EQUAL_WEIGHT.value,\n",
    "    log_level=logging.WARN,\n",
    ")\n",
    "engine_original.run()"
   ]
  },
  {
   "cell_type": "code",
   "execution_count": 5,
   "id": "19270d1e",
   "metadata": {
    "execution": {
     "iopub.execute_input": "2022-08-24T06:39:11.379035Z",
     "iopub.status.busy": "2022-08-24T06:39:11.378734Z",
     "iopub.status.idle": "2022-08-24T06:40:44.469614Z",
     "shell.execute_reply": "2022-08-24T06:40:44.468751Z"
    },
    "papermill": {
     "duration": 93.1043,
     "end_time": "2022-08-24T06:40:44.471639",
     "exception": false,
     "start_time": "2022-08-24T06:39:11.367339",
     "status": "completed"
    },
    "tags": []
   },
   "outputs": [],
   "source": [
    "engine_original_eq = (engine_original.calculate_equity_curve(calculate_net=False, rebalance_freq='m')\n",
    "                      .rename('Trend-following portfolio (Moskowitz 2012)'))"
   ]
  },
  {
   "cell_type": "code",
   "execution_count": 6,
   "id": "3e3e9a02",
   "metadata": {
    "execution": {
     "iopub.execute_input": "2022-08-24T06:40:44.496171Z",
     "iopub.status.busy": "2022-08-24T06:40:44.495700Z",
     "iopub.status.idle": "2022-08-24T06:40:45.332900Z",
     "shell.execute_reply": "2022-08-24T06:40:45.332040Z"
    },
    "papermill": {
     "duration": 0.852595,
     "end_time": "2022-08-24T06:40:45.334761",
     "exception": false,
     "start_time": "2022-08-24T06:40:44.482166",
     "status": "completed"
    },
    "tags": []
   },
   "outputs": [
    {
     "data": {
      "image/png": "[encoded data removed]",
      "text/plain": [
       "<Figure size 576x324 with 1 Axes>"
      ]
     },
     "metadata": {
      "needs_background": "light"
     },
     "output_type": "display_data"
    }
   ],
   "source": [
    "fig, ax = plt.subplots(figsize=(8, 4.5))\n",
    "engine_original_eq.plot(ax=ax, logy=True)\n",
    "ax.set_title('Trend-following portfolio (Moskowitz 2012)')\n",
    "ax.set_ylabel('Cumulative returns');"
   ]
  },
  {
   "cell_type": "code",
   "execution_count": 7,
   "id": "583d5c8b",
   "metadata": {
    "execution": {
     "iopub.execute_input": "2022-08-24T06:40:45.358599Z",
     "iopub.status.busy": "2022-08-24T06:40:45.358324Z",
     "iopub.status.idle": "2022-08-24T06:40:45.449681Z",
     "shell.execute_reply": "2022-08-24T06:40:45.448882Z"
    },
    "papermill": {
     "duration": 0.105578,
     "end_time": "2022-08-24T06:40:45.451539",
     "exception": false,
     "start_time": "2022-08-24T06:40:45.345961",
     "status": "completed"
    },
    "tags": []
   },
   "outputs": [
    {
     "data": {
      "text/html": [
       "<div>\n",
       "<style scoped>\n",
       "    .dataframe tbody tr th:only-of-type {\n",
       "        vertical-align: middle;\n",
       "    }\n",
       "\n",
       "    .dataframe tbody tr th {\n",
       "        vertical-align: top;\n",
       "    }\n",
       "\n",
       "    .dataframe thead th {\n",
       "        text-align: right;\n",
       "    }\n",
       "</style>\n",
       "<table border=\"1\" class=\"dataframe\">\n",
       "  <thead>\n",
       "    <tr style=\"text-align: right;\">\n",
       "      <th></th>\n",
       "      <th>Trend-following portfolio (Moskowitz 2012)</th>\n",
       "    </tr>\n",
       "  </thead>\n",
       "  <tbody>\n",
       "    <tr>\n",
       "      <th>CAGR</th>\n",
       "      <td>0.147827</td>\n",
       "    </tr>\n",
       "    <tr>\n",
       "      <th>Annualised vol</th>\n",
       "      <td>0.124983</td>\n",
       "    </tr>\n",
       "    <tr>\n",
       "      <th>Sharpe ratio</th>\n",
       "      <td>1.182774</td>\n",
       "    </tr>\n",
       "    <tr>\n",
       "      <th>Max drawdown</th>\n",
       "      <td>0.259239</td>\n",
       "    </tr>\n",
       "    <tr>\n",
       "      <th>Calmar ratio</th>\n",
       "      <td>0.570232</td>\n",
       "    </tr>\n",
       "    <tr>\n",
       "      <th>Skewness</th>\n",
       "      <td>0.073450</td>\n",
       "    </tr>\n",
       "    <tr>\n",
       "      <th>Kurtosis</th>\n",
       "      <td>19.333427</td>\n",
       "    </tr>\n",
       "    <tr>\n",
       "      <th>Worst return</th>\n",
       "      <td>-0.126276</td>\n",
       "    </tr>\n",
       "    <tr>\n",
       "      <th>Worst 1d return</th>\n",
       "      <td>-0.126276</td>\n",
       "    </tr>\n",
       "    <tr>\n",
       "      <th>Worst 1w return</th>\n",
       "      <td>-0.107725</td>\n",
       "    </tr>\n",
       "    <tr>\n",
       "      <th>Worst 1m return</th>\n",
       "      <td>-0.152667</td>\n",
       "    </tr>\n",
       "  </tbody>\n",
       "</table>\n",
       "</div>"
      ],
      "text/plain": [
       "                 Trend-following portfolio (Moskowitz 2012)\n",
       "CAGR                                               0.147827\n",
       "Annualised vol                                     0.124983\n",
       "Sharpe ratio                                       1.182774\n",
       "Max drawdown                                       0.259239\n",
       "Calmar ratio                                       0.570232\n",
       "Skewness                                           0.073450\n",
       "Kurtosis                                          19.333427\n",
       "Worst return                                      -0.126276\n",
       "Worst 1d return                                   -0.126276\n",
       "Worst 1w return                                   -0.107725\n",
       "Worst 1m return                                   -0.152667"
      ]
     },
     "execution_count": 7,
     "metadata": {},
     "output_type": "execute_result"
    }
   ],
   "source": [
    "engine_original_eq.pipe(Performance).summary()"
   ]
  },
  {
   "cell_type": "markdown",
   "id": "a8b6b549",
   "metadata": {
    "papermill": {
     "duration": 0.010563,
     "end_time": "2022-08-24T06:40:45.472895",
     "exception": false,
     "start_time": "2022-08-24T06:40:45.462332",
     "status": "completed"
    },
    "tags": []
   },
   "source": [
    "\n",
    "## Volatility estimator\n",
    "BK2020 proposes a few changes in order to enhance the original trend-following strategy Moskowitz et al reported. The first thing is to use a more sophisticated realised volatility estimators for volatility scaling. Moskowitz used the exponentially weighted standard deviation with close-to-close. On the other hand, BK2020 suggests to use Yang-Zhang estimator as it is much more efficient."
   ]
  },
  {
   "cell_type": "code",
   "execution_count": 8,
   "id": "f132f0fa",
   "metadata": {
    "ExecuteTime": {
     "end_time": "2020-08-30T21:18:24.661167Z",
     "start_time": "2020-08-30T21:08:49.544232Z"
    },
    "execution": {
     "iopub.execute_input": "2022-08-24T06:40:45.497132Z",
     "iopub.status.busy": "2022-08-24T06:40:45.496853Z",
     "iopub.status.idle": "2022-08-24T07:02:09.480822Z",
     "shell.execute_reply": "2022-08-24T07:02:09.479690Z"
    },
    "papermill": {
     "duration": 1283.999425,
     "end_time": "2022-08-24T07:02:09.482913",
     "exception": false,
     "start_time": "2022-08-24T06:40:45.483488",
     "status": "completed"
    },
    "tags": []
   },
   "outputs": [],
   "source": [
    "engine_vol = BacktestEngine(\n",
    "    strategy=Strategy.DELTA_ONE.value,\n",
    "    instrument=all_futures_baltas2020.index,\n",
    "    signal=signal.ParallelSignal([\n",
    "        signal.VolatilityScale(volatility_type=RealisedVolatility.YZ.value,\n",
    "                               agg_method='rolling', window=21, min_periods=10,\n",
    "                               target_volatility=0.4, signal_cap=0.95, ann_factor=261),\n",
    "        signal.TSMOMMoskowitz2012(post_process=processing.AsFreq(freq='m', method='pad'))\n",
    "    ], weighting='product'),\n",
    "    weighting=Weighting.EQUAL_WEIGHT.value,\n",
    "    log_level=logging.WARN,\n",
    ")\n",
    "engine_vol.run()"
   ]
  },
  {
   "cell_type": "code",
   "execution_count": 9,
   "id": "565b6962",
   "metadata": {
    "execution": {
     "iopub.execute_input": "2022-08-24T07:02:09.508313Z",
     "iopub.status.busy": "2022-08-24T07:02:09.507944Z",
     "iopub.status.idle": "2022-08-24T07:03:39.435542Z",
     "shell.execute_reply": "2022-08-24T07:03:39.434850Z"
    },
    "papermill": {
     "duration": 89.94253,
     "end_time": "2022-08-24T07:03:39.437492",
     "exception": false,
     "start_time": "2022-08-24T07:02:09.494962",
     "status": "completed"
    },
    "tags": []
   },
   "outputs": [],
   "source": [
    "engine_vol_eq = (engine_vol.calculate_equity_curve(calculate_net=False, rebalance_freq='m')\n",
    "                 .rename('Trend-following portfolio (YZ estimator)'))"
   ]
  },
  {
   "cell_type": "code",
   "execution_count": 10,
   "id": "d5014205",
   "metadata": {
    "execution": {
     "iopub.execute_input": "2022-08-24T07:03:39.465296Z",
     "iopub.status.busy": "2022-08-24T07:03:39.464811Z",
     "iopub.status.idle": "2022-08-24T07:03:40.192307Z",
     "shell.execute_reply": "2022-08-24T07:03:40.191574Z"
    },
    "papermill": {
     "duration": 0.743719,
     "end_time": "2022-08-24T07:03:40.194124",
     "exception": false,
     "start_time": "2022-08-24T07:03:39.450405",
     "status": "completed"
    },
    "tags": []
   },
   "outputs": [
    {
     "data": {
      "image/png": "[encoded data removed]",
      "text/plain": [
       "<Figure size 576x324 with 1 Axes>"
      ]
     },
     "metadata": {
      "needs_background": "light"
     },
     "output_type": "display_data"
    }
   ],
   "source": [
    "fig, ax = plt.subplots(figsize=(8, 4.5))\n",
    "engine_vol_eq.plot(ax=ax, logy=True);\n",
    "ax.set_title('Trend-following portfolio (YZ estimator)')\n",
    "ax.set_ylabel('Cumulative returns');"
   ]
  },
  {
   "cell_type": "code",
   "execution_count": 11,
   "id": "7d7b798d",
   "metadata": {
    "execution": {
     "iopub.execute_input": "2022-08-24T07:03:40.221703Z",
     "iopub.status.busy": "2022-08-24T07:03:40.221341Z",
     "iopub.status.idle": "2022-08-24T07:03:40.346678Z",
     "shell.execute_reply": "2022-08-24T07:03:40.345875Z"
    },
    "papermill": {
     "duration": 0.141673,
     "end_time": "2022-08-24T07:03:40.349082",
     "exception": false,
     "start_time": "2022-08-24T07:03:40.207409",
     "status": "completed"
    },
    "tags": []
   },
   "outputs": [
    {
     "data": {
      "text/html": [
       "<div>\n",
       "<style scoped>\n",
       "    .dataframe tbody tr th:only-of-type {\n",
       "        vertical-align: middle;\n",
       "    }\n",
       "\n",
       "    .dataframe tbody tr th {\n",
       "        vertical-align: top;\n",
       "    }\n",
       "\n",
       "    .dataframe thead th {\n",
       "        text-align: right;\n",
       "    }\n",
       "</style>\n",
       "<table border=\"1\" class=\"dataframe\">\n",
       "  <thead>\n",
       "    <tr style=\"text-align: right;\">\n",
       "      <th></th>\n",
       "      <th>Trend-following portfolio (YZ estimator)</th>\n",
       "    </tr>\n",
       "  </thead>\n",
       "  <tbody>\n",
       "    <tr>\n",
       "      <th>CAGR</th>\n",
       "      <td>0.149468</td>\n",
       "    </tr>\n",
       "    <tr>\n",
       "      <th>Annualised vol</th>\n",
       "      <td>0.127270</td>\n",
       "    </tr>\n",
       "    <tr>\n",
       "      <th>Sharpe ratio</th>\n",
       "      <td>1.174414</td>\n",
       "    </tr>\n",
       "    <tr>\n",
       "      <th>Max drawdown</th>\n",
       "      <td>0.305877</td>\n",
       "    </tr>\n",
       "    <tr>\n",
       "      <th>Calmar ratio</th>\n",
       "      <td>0.488655</td>\n",
       "    </tr>\n",
       "    <tr>\n",
       "      <th>Skewness</th>\n",
       "      <td>0.280530</td>\n",
       "    </tr>\n",
       "    <tr>\n",
       "      <th>Kurtosis</th>\n",
       "      <td>22.115106</td>\n",
       "    </tr>\n",
       "    <tr>\n",
       "      <th>Worst return</th>\n",
       "      <td>-0.137043</td>\n",
       "    </tr>\n",
       "    <tr>\n",
       "      <th>Worst 1d return</th>\n",
       "      <td>-0.137043</td>\n",
       "    </tr>\n",
       "    <tr>\n",
       "      <th>Worst 1w return</th>\n",
       "      <td>-0.098542</td>\n",
       "    </tr>\n",
       "    <tr>\n",
       "      <th>Worst 1m return</th>\n",
       "      <td>-0.169177</td>\n",
       "    </tr>\n",
       "  </tbody>\n",
       "</table>\n",
       "</div>"
      ],
      "text/plain": [
       "                 Trend-following portfolio (YZ estimator)\n",
       "CAGR                                             0.149468\n",
       "Annualised vol                                   0.127270\n",
       "Sharpe ratio                                     1.174414\n",
       "Max drawdown                                     0.305877\n",
       "Calmar ratio                                     0.488655\n",
       "Skewness                                         0.280530\n",
       "Kurtosis                                        22.115106\n",
       "Worst return                                    -0.137043\n",
       "Worst 1d return                                 -0.137043\n",
       "Worst 1w return                                 -0.098542\n",
       "Worst 1m return                                 -0.169177"
      ]
     },
     "execution_count": 11,
     "metadata": {},
     "output_type": "execute_result"
    }
   ],
   "source": [
    "engine_vol_eq.pipe(Performance).summary()"
   ]
  },
  {
   "cell_type": "markdown",
   "id": "b922e6ad",
   "metadata": {
    "papermill": {
     "duration": 0.011858,
     "end_time": "2022-08-24T07:03:40.373457",
     "exception": false,
     "start_time": "2022-08-24T07:03:40.361599",
     "status": "completed"
    },
    "tags": []
   },
   "source": [
    "## TREND signal\n",
    "\n",
    "Another improvement BK2020 proposes is to use a continuous signal rather than a binary one in order to reduce the turnover when signals are weak. Specifically they used the t-values with the Newey-West standard error as the signal. They further capped and floored the signal between -1 and +1 to avoid extreme positions.\n",
    "\n",
    "`statsmodels`'s `OLS` class provides a method to compute the Newey-West standard error. https://www.statsmodels.org/stable/generated/statsmodels.regression.linear_model.OLS.html"
   ]
  },
  {
   "cell_type": "code",
   "execution_count": 12,
   "id": "684d097d",
   "metadata": {
    "execution": {
     "iopub.execute_input": "2022-08-24T07:03:40.404390Z",
     "iopub.status.busy": "2022-08-24T07:03:40.404002Z",
     "iopub.status.idle": "2022-08-24T07:22:36.496056Z",
     "shell.execute_reply": "2022-08-24T07:22:36.495386Z"
    },
    "papermill": {
     "duration": 1136.111601,
     "end_time": "2022-08-24T07:22:36.497990",
     "exception": false,
     "start_time": "2022-08-24T07:03:40.386389",
     "status": "completed"
    },
    "tags": []
   },
   "outputs": [],
   "source": [
    "engine_trend = BacktestEngine(\n",
    "    strategy=Strategy.DELTA_ONE.value,\n",
    "    instrument=all_futures_baltas2020.index,\n",
    "    signal=signal.ParallelSignal([\n",
    "        signal.VolatilityScale(agg_method='rolling', window=21, ann_factor=261, \n",
    "                               target_volatility=0.4, signal_cap=0.95),\n",
    "        signal.TSMOMBaltas2020()\n",
    "    ], weighting='product'),\n",
    "    weighting=Weighting.EQUAL_WEIGHT.value,\n",
    "    log_level=logging.WARN,\n",
    ")\n",
    "engine_trend.run()"
   ]
  },
  {
   "cell_type": "code",
   "execution_count": 13,
   "id": "525fd49b",
   "metadata": {
    "execution": {
     "iopub.execute_input": "2022-08-24T07:22:36.522569Z",
     "iopub.status.busy": "2022-08-24T07:22:36.522209Z",
     "iopub.status.idle": "2022-08-24T07:24:05.729641Z",
     "shell.execute_reply": "2022-08-24T07:24:05.728826Z"
    },
    "papermill": {
     "duration": 89.222059,
     "end_time": "2022-08-24T07:24:05.731531",
     "exception": false,
     "start_time": "2022-08-24T07:22:36.509472",
     "status": "completed"
    },
    "tags": []
   },
   "outputs": [],
   "source": [
    "engine_trend_eq = (engine_trend.calculate_equity_curve(calculate_net=False, rebalance_freq='m')\n",
    "                   .rename('Trend-following portfolio (TREND signal)'))"
   ]
  },
  {
   "cell_type": "code",
   "execution_count": 14,
   "id": "de8809c9",
   "metadata": {
    "execution": {
     "iopub.execute_input": "2022-08-24T07:24:05.756174Z",
     "iopub.status.busy": "2022-08-24T07:24:05.755767Z",
     "iopub.status.idle": "2022-08-24T07:24:06.337170Z",
     "shell.execute_reply": "2022-08-24T07:24:06.336439Z"
    },
    "papermill": {
     "duration": 0.595704,
     "end_time": "2022-08-24T07:24:06.338853",
     "exception": false,
     "start_time": "2022-08-24T07:24:05.743149",
     "status": "completed"
    },
    "tags": []
   },
   "outputs": [
    {
     "data": {
      "image/png": "[encoded data removed]",
      "text/plain": [
       "<Figure size 576x324 with 1 Axes>"
      ]
     },
     "metadata": {
      "needs_background": "light"
     },
     "output_type": "display_data"
    }
   ],
   "source": [
    "fig, ax = plt.subplots(figsize=(8, 4.5))\n",
    "engine_trend_eq.plot(ax=ax, logy=True);\n",
    "ax.set_title('Trend-following portfolio (TREND signal)')\n",
    "ax.set_ylabel('Cumulative returns');"
   ]
  },
  {
   "cell_type": "code",
   "execution_count": 15,
   "id": "ee8cc421",
   "metadata": {
    "execution": {
     "iopub.execute_input": "2022-08-24T07:24:06.362918Z",
     "iopub.status.busy": "2022-08-24T07:24:06.362646Z",
     "iopub.status.idle": "2022-08-24T07:24:06.440784Z",
     "shell.execute_reply": "2022-08-24T07:24:06.440105Z"
    },
    "papermill": {
     "duration": 0.092131,
     "end_time": "2022-08-24T07:24:06.442394",
     "exception": false,
     "start_time": "2022-08-24T07:24:06.350263",
     "status": "completed"
    },
    "tags": []
   },
   "outputs": [
    {
     "data": {
      "text/html": [
       "<div>\n",
       "<style scoped>\n",
       "    .dataframe tbody tr th:only-of-type {\n",
       "        vertical-align: middle;\n",
       "    }\n",
       "\n",
       "    .dataframe tbody tr th {\n",
       "        vertical-align: top;\n",
       "    }\n",
       "\n",
       "    .dataframe thead th {\n",
       "        text-align: right;\n",
       "    }\n",
       "</style>\n",
       "<table border=\"1\" class=\"dataframe\">\n",
       "  <thead>\n",
       "    <tr style=\"text-align: right;\">\n",
       "      <th></th>\n",
       "      <th>Trend-following portfolio (TREND signal)</th>\n",
       "    </tr>\n",
       "  </thead>\n",
       "  <tbody>\n",
       "    <tr>\n",
       "      <th>CAGR</th>\n",
       "      <td>0.139769</td>\n",
       "    </tr>\n",
       "    <tr>\n",
       "      <th>Annualised vol</th>\n",
       "      <td>0.107934</td>\n",
       "    </tr>\n",
       "    <tr>\n",
       "      <th>Sharpe ratio</th>\n",
       "      <td>1.294952</td>\n",
       "    </tr>\n",
       "    <tr>\n",
       "      <th>Max drawdown</th>\n",
       "      <td>0.294584</td>\n",
       "    </tr>\n",
       "    <tr>\n",
       "      <th>Calmar ratio</th>\n",
       "      <td>0.474462</td>\n",
       "    </tr>\n",
       "    <tr>\n",
       "      <th>Skewness</th>\n",
       "      <td>0.158951</td>\n",
       "    </tr>\n",
       "    <tr>\n",
       "      <th>Kurtosis</th>\n",
       "      <td>28.002254</td>\n",
       "    </tr>\n",
       "    <tr>\n",
       "      <th>Worst return</th>\n",
       "      <td>-0.121269</td>\n",
       "    </tr>\n",
       "    <tr>\n",
       "      <th>Worst 1d return</th>\n",
       "      <td>-0.121269</td>\n",
       "    </tr>\n",
       "    <tr>\n",
       "      <th>Worst 1w return</th>\n",
       "      <td>-0.110077</td>\n",
       "    </tr>\n",
       "    <tr>\n",
       "      <th>Worst 1m return</th>\n",
       "      <td>-0.171789</td>\n",
       "    </tr>\n",
       "  </tbody>\n",
       "</table>\n",
       "</div>"
      ],
      "text/plain": [
       "                 Trend-following portfolio (TREND signal)\n",
       "CAGR                                             0.139769\n",
       "Annualised vol                                   0.107934\n",
       "Sharpe ratio                                     1.294952\n",
       "Max drawdown                                     0.294584\n",
       "Calmar ratio                                     0.474462\n",
       "Skewness                                         0.158951\n",
       "Kurtosis                                        28.002254\n",
       "Worst return                                    -0.121269\n",
       "Worst 1d return                                 -0.121269\n",
       "Worst 1w return                                 -0.110077\n",
       "Worst 1m return                                 -0.171789"
      ]
     },
     "execution_count": 15,
     "metadata": {},
     "output_type": "execute_result"
    }
   ],
   "source": [
    "engine_trend_eq.pipe(Performance).summary()"
   ]
  },
  {
   "cell_type": "markdown",
   "id": "3a233d2f",
   "metadata": {
    "papermill": {
     "duration": 0.011831,
     "end_time": "2022-08-24T07:24:06.465893",
     "exception": false,
     "start_time": "2022-08-24T07:24:06.454062",
     "status": "completed"
    },
    "tags": []
   },
   "source": [
    "## Combined\n",
    "\n",
    "Finally we run a backtest by using both the Yang-Zhang volatility estimator and the TREND signal."
   ]
  },
  {
   "cell_type": "code",
   "execution_count": 16,
   "id": "50b9754b",
   "metadata": {
    "execution": {
     "iopub.execute_input": "2022-08-24T07:24:06.490166Z",
     "iopub.status.busy": "2022-08-24T07:24:06.489894Z",
     "iopub.status.idle": "2022-08-24T07:50:03.908196Z",
     "shell.execute_reply": "2022-08-24T07:50:03.907398Z"
    },
    "papermill": {
     "duration": 1557.432816,
     "end_time": "2022-08-24T07:50:03.910138",
     "exception": false,
     "start_time": "2022-08-24T07:24:06.477322",
     "status": "completed"
    },
    "tags": []
   },
   "outputs": [],
   "source": [
    "engine_combined = BacktestEngine(\n",
    "    strategy=Strategy.DELTA_ONE.value,\n",
    "    instrument=all_futures_baltas2020.index,\n",
    "    signal=signal.ParallelSignal([\n",
    "        signal.VolatilityScale(volatility_type=RealisedVolatility.YZ.value,\n",
    "                               agg_method='rolling', window=21, min_periods=10,\n",
    "                               target_volatility=0.4, signal_cap=0.95, ann_factor=261),\n",
    "        signal.TSMOMBaltas2020()\n",
    "    ], weighting='product'),\n",
    "    weighting=Weighting.EQUAL_WEIGHT.value,\n",
    "    log_level=logging.WARN,\n",
    ")\n",
    "engine_combined.run()"
   ]
  },
  {
   "cell_type": "code",
   "execution_count": 17,
   "id": "fe9c037e",
   "metadata": {
    "execution": {
     "iopub.execute_input": "2022-08-24T07:50:03.935393Z",
     "iopub.status.busy": "2022-08-24T07:50:03.935125Z",
     "iopub.status.idle": "2022-08-24T07:51:26.586535Z",
     "shell.execute_reply": "2022-08-24T07:51:26.585522Z"
    },
    "papermill": {
     "duration": 82.666468,
     "end_time": "2022-08-24T07:51:26.588872",
     "exception": false,
     "start_time": "2022-08-24T07:50:03.922404",
     "status": "completed"
    },
    "tags": []
   },
   "outputs": [],
   "source": [
    "engine_combined_eq = (engine_combined.calculate_equity_curve(calculate_net=False, rebalance_freq='m')\n",
    "                      .rename('Trend-following portfolio (YZ estimator + TREND signal)'))"
   ]
  },
  {
   "cell_type": "code",
   "execution_count": 18,
   "id": "62e8f8ee",
   "metadata": {
    "execution": {
     "iopub.execute_input": "2022-08-24T07:51:26.613787Z",
     "iopub.status.busy": "2022-08-24T07:51:26.613502Z",
     "iopub.status.idle": "2022-08-24T07:51:27.167675Z",
     "shell.execute_reply": "2022-08-24T07:51:27.166986Z"
    },
    "papermill": {
     "duration": 0.568578,
     "end_time": "2022-08-24T07:51:27.169292",
     "exception": false,
     "start_time": "2022-08-24T07:51:26.600714",
     "status": "completed"
    },
    "tags": []
   },
   "outputs": [
    {
     "data": {
      "image/png": "[encoded data removed]",
      "text/plain": [
       "<Figure size 576x324 with 1 Axes>"
      ]
     },
     "metadata": {
      "needs_background": "light"
     },
     "output_type": "display_data"
    }
   ],
   "source": [
    "fig, ax = plt.subplots(figsize=(8, 4.5))\n",
    "engine_combined_eq.plot(ax=ax, logy=True)\n",
    "ax.set_title('Trend-following portfolio (YZ estimator + TREND signal)')\n",
    "ax.set_ylabel('Cumulative returns');"
   ]
  },
  {
   "cell_type": "code",
   "execution_count": 19,
   "id": "a5ea4cd2",
   "metadata": {
    "execution": {
     "iopub.execute_input": "2022-08-24T07:51:27.196049Z",
     "iopub.status.busy": "2022-08-24T07:51:27.195763Z",
     "iopub.status.idle": "2022-08-24T07:51:27.273940Z",
     "shell.execute_reply": "2022-08-24T07:51:27.273266Z"
    },
    "papermill": {
     "duration": 0.093539,
     "end_time": "2022-08-24T07:51:27.275620",
     "exception": false,
     "start_time": "2022-08-24T07:51:27.182081",
     "status": "completed"
    },
    "tags": []
   },
   "outputs": [
    {
     "data": {
      "text/html": [
       "<div>\n",
       "<style scoped>\n",
       "    .dataframe tbody tr th:only-of-type {\n",
       "        vertical-align: middle;\n",
       "    }\n",
       "\n",
       "    .dataframe tbody tr th {\n",
       "        vertical-align: top;\n",
       "    }\n",
       "\n",
       "    .dataframe thead th {\n",
       "        text-align: right;\n",
       "    }\n",
       "</style>\n",
       "<table border=\"1\" class=\"dataframe\">\n",
       "  <thead>\n",
       "    <tr style=\"text-align: right;\">\n",
       "      <th></th>\n",
       "      <th>Trend-following portfolio (YZ estimator + TREND signal)</th>\n",
       "    </tr>\n",
       "  </thead>\n",
       "  <tbody>\n",
       "    <tr>\n",
       "      <th>CAGR</th>\n",
       "      <td>0.140218</td>\n",
       "    </tr>\n",
       "    <tr>\n",
       "      <th>Annualised vol</th>\n",
       "      <td>0.110668</td>\n",
       "    </tr>\n",
       "    <tr>\n",
       "      <th>Sharpe ratio</th>\n",
       "      <td>1.267015</td>\n",
       "    </tr>\n",
       "    <tr>\n",
       "      <th>Max drawdown</th>\n",
       "      <td>0.313945</td>\n",
       "    </tr>\n",
       "    <tr>\n",
       "      <th>Calmar ratio</th>\n",
       "      <td>0.446632</td>\n",
       "    </tr>\n",
       "    <tr>\n",
       "      <th>Skewness</th>\n",
       "      <td>0.292453</td>\n",
       "    </tr>\n",
       "    <tr>\n",
       "      <th>Kurtosis</th>\n",
       "      <td>32.522899</td>\n",
       "    </tr>\n",
       "    <tr>\n",
       "      <th>Worst return</th>\n",
       "      <td>-0.130152</td>\n",
       "    </tr>\n",
       "    <tr>\n",
       "      <th>Worst 1d return</th>\n",
       "      <td>-0.130152</td>\n",
       "    </tr>\n",
       "    <tr>\n",
       "      <th>Worst 1w return</th>\n",
       "      <td>-0.112097</td>\n",
       "    </tr>\n",
       "    <tr>\n",
       "      <th>Worst 1m return</th>\n",
       "      <td>-0.186272</td>\n",
       "    </tr>\n",
       "  </tbody>\n",
       "</table>\n",
       "</div>"
      ],
      "text/plain": [
       "                 Trend-following portfolio (YZ estimator + TREND signal)\n",
       "CAGR                                                      0.140218      \n",
       "Annualised vol                                            0.110668      \n",
       "Sharpe ratio                                              1.267015      \n",
       "Max drawdown                                              0.313945      \n",
       "Calmar ratio                                              0.446632      \n",
       "Skewness                                                  0.292453      \n",
       "Kurtosis                                                 32.522899      \n",
       "Worst return                                             -0.130152      \n",
       "Worst 1d return                                          -0.130152      \n",
       "Worst 1w return                                          -0.112097      \n",
       "Worst 1m return                                          -0.186272      "
      ]
     },
     "execution_count": 19,
     "metadata": {},
     "output_type": "execute_result"
    }
   ],
   "source": [
    "engine_combined_eq.pipe(Performance).summary()"
   ]
  },
  {
   "cell_type": "markdown",
   "id": "58189c44",
   "metadata": {
    "papermill": {
     "duration": 0.051783,
     "end_time": "2022-08-24T07:51:27.340325",
     "exception": false,
     "start_time": "2022-08-24T07:51:27.288542",
     "status": "completed"
    },
    "tags": []
   },
   "source": [
    "# Comparison\n",
    "\n",
    "In this section we compare the above 4 backtests."
   ]
  },
  {
   "cell_type": "markdown",
   "id": "f326b9b5",
   "metadata": {
    "papermill": {
     "duration": 0.013086,
     "end_time": "2022-08-24T07:51:27.366631",
     "exception": false,
     "start_time": "2022-08-24T07:51:27.353545",
     "status": "completed"
    },
    "tags": []
   },
   "source": [
    "## Performance\n",
    "\n",
    "As reported in BK2020, using the YZ estimator and TREND signal does not alter the performance characteristics. Rather, the TREND signal somewhat improves the Sharpe ratio. Also the TREND signal lowers the annualised volatility from 12.5% to 10.8% with the close-to-close realised volatility."
   ]
  },
  {
   "cell_type": "code",
   "execution_count": 20,
   "id": "85cab190",
   "metadata": {
    "execution": {
     "iopub.execute_input": "2022-08-24T07:51:27.393761Z",
     "iopub.status.busy": "2022-08-24T07:51:27.393502Z",
     "iopub.status.idle": "2022-08-24T07:51:27.406406Z",
     "shell.execute_reply": "2022-08-24T07:51:27.405583Z"
    },
    "papermill": {
     "duration": 0.028631,
     "end_time": "2022-08-24T07:51:27.408279",
     "exception": false,
     "start_time": "2022-08-24T07:51:27.379648",
     "status": "completed"
    },
    "tags": []
   },
   "outputs": [],
   "source": [
    "performance_comp = pd.concat((engine_original_eq, engine_vol_eq, \n",
    "                              engine_trend_eq, engine_combined_eq), axis=1)"
   ]
  },
  {
   "cell_type": "code",
   "execution_count": 21,
   "id": "07aac4e6",
   "metadata": {
    "execution": {
     "iopub.execute_input": "2022-08-24T07:51:27.435062Z",
     "iopub.status.busy": "2022-08-24T07:51:27.434803Z",
     "iopub.status.idle": "2022-08-24T07:51:28.178265Z",
     "shell.execute_reply": "2022-08-24T07:51:28.177576Z"
    },
    "papermill": {
     "duration": 0.758668,
     "end_time": "2022-08-24T07:51:28.179846",
     "exception": false,
     "start_time": "2022-08-24T07:51:27.421178",
     "status": "completed"
    },
    "tags": []
   },
   "outputs": [
    {
     "data": {
      "image/png": "[encoded data removed]",
      "text/plain": [
       "<Figure size 576x324 with 1 Axes>"
      ]
     },
     "metadata": {
      "needs_background": "light"
     },
     "output_type": "display_data"
    }
   ],
   "source": [
    "fig, ax = plt.subplots(figsize=(8, 4.5))\n",
    "performance_comp.plot(ax=ax, logy=True);\n",
    "ax.set_title('Trend-following portfolio')\n",
    "ax.set_ylabel('Cumulative returns');"
   ]
  },
  {
   "cell_type": "code",
   "execution_count": 22,
   "id": "a35a88df",
   "metadata": {
    "execution": {
     "iopub.execute_input": "2022-08-24T07:51:28.206045Z",
     "iopub.status.busy": "2022-08-24T07:51:28.205788Z",
     "iopub.status.idle": "2022-08-24T07:51:28.299323Z",
     "shell.execute_reply": "2022-08-24T07:51:28.298701Z"
    },
    "papermill": {
     "duration": 0.108405,
     "end_time": "2022-08-24T07:51:28.300920",
     "exception": false,
     "start_time": "2022-08-24T07:51:28.192515",
     "status": "completed"
    },
    "tags": []
   },
   "outputs": [
    {
     "data": {
      "text/html": [
       "<div>\n",
       "<style scoped>\n",
       "    .dataframe tbody tr th:only-of-type {\n",
       "        vertical-align: middle;\n",
       "    }\n",
       "\n",
       "    .dataframe tbody tr th {\n",
       "        vertical-align: top;\n",
       "    }\n",
       "\n",
       "    .dataframe thead th {\n",
       "        text-align: right;\n",
       "    }\n",
       "</style>\n",
       "<table border=\"1\" class=\"dataframe\">\n",
       "  <thead>\n",
       "    <tr style=\"text-align: right;\">\n",
       "      <th></th>\n",
       "      <th>Trend-following portfolio (Moskowitz 2012)</th>\n",
       "      <th>Trend-following portfolio (YZ estimator)</th>\n",
       "      <th>Trend-following portfolio (TREND signal)</th>\n",
       "      <th>Trend-following portfolio (YZ estimator + TREND signal)</th>\n",
       "    </tr>\n",
       "  </thead>\n",
       "  <tbody>\n",
       "    <tr>\n",
       "      <th>CAGR</th>\n",
       "      <td>0.147827</td>\n",
       "      <td>0.149101</td>\n",
       "      <td>0.139769</td>\n",
       "      <td>0.139873</td>\n",
       "    </tr>\n",
       "    <tr>\n",
       "      <th>Annualised vol</th>\n",
       "      <td>0.124983</td>\n",
       "      <td>0.127115</td>\n",
       "      <td>0.107934</td>\n",
       "      <td>0.110533</td>\n",
       "    </tr>\n",
       "    <tr>\n",
       "      <th>Sharpe ratio</th>\n",
       "      <td>1.182774</td>\n",
       "      <td>1.172961</td>\n",
       "      <td>1.294952</td>\n",
       "      <td>1.265446</td>\n",
       "    </tr>\n",
       "    <tr>\n",
       "      <th>Max drawdown</th>\n",
       "      <td>0.259239</td>\n",
       "      <td>0.305877</td>\n",
       "      <td>0.294584</td>\n",
       "      <td>0.313945</td>\n",
       "    </tr>\n",
       "    <tr>\n",
       "      <th>Calmar ratio</th>\n",
       "      <td>0.570232</td>\n",
       "      <td>0.487455</td>\n",
       "      <td>0.474462</td>\n",
       "      <td>0.445534</td>\n",
       "    </tr>\n",
       "    <tr>\n",
       "      <th>Skewness</th>\n",
       "      <td>0.073450</td>\n",
       "      <td>0.281443</td>\n",
       "      <td>0.158951</td>\n",
       "      <td>0.293419</td>\n",
       "    </tr>\n",
       "    <tr>\n",
       "      <th>Kurtosis</th>\n",
       "      <td>19.333427</td>\n",
       "      <td>22.176406</td>\n",
       "      <td>28.002254</td>\n",
       "      <td>32.609385</td>\n",
       "    </tr>\n",
       "    <tr>\n",
       "      <th>Worst return</th>\n",
       "      <td>-0.126276</td>\n",
       "      <td>-0.137043</td>\n",
       "      <td>-0.121269</td>\n",
       "      <td>-0.130152</td>\n",
       "    </tr>\n",
       "    <tr>\n",
       "      <th>Worst 1d return</th>\n",
       "      <td>-0.126276</td>\n",
       "      <td>-0.137043</td>\n",
       "      <td>-0.121269</td>\n",
       "      <td>-0.130152</td>\n",
       "    </tr>\n",
       "    <tr>\n",
       "      <th>Worst 1w return</th>\n",
       "      <td>-0.107725</td>\n",
       "      <td>-0.098542</td>\n",
       "      <td>-0.110077</td>\n",
       "      <td>-0.112097</td>\n",
       "    </tr>\n",
       "    <tr>\n",
       "      <th>Worst 1m return</th>\n",
       "      <td>-0.152667</td>\n",
       "      <td>-0.169177</td>\n",
       "      <td>-0.171789</td>\n",
       "      <td>-0.186272</td>\n",
       "    </tr>\n",
       "  </tbody>\n",
       "</table>\n",
       "</div>"
      ],
      "text/plain": [
       "                 Trend-following portfolio (Moskowitz 2012)  \\\n",
       "CAGR                                               0.147827   \n",
       "Annualised vol                                     0.124983   \n",
       "Sharpe ratio                                       1.182774   \n",
       "Max drawdown                                       0.259239   \n",
       "Calmar ratio                                       0.570232   \n",
       "Skewness                                           0.073450   \n",
       "Kurtosis                                          19.333427   \n",
       "Worst return                                      -0.126276   \n",
       "Worst 1d return                                   -0.126276   \n",
       "Worst 1w return                                   -0.107725   \n",
       "Worst 1m return                                   -0.152667   \n",
       "\n",
       "                 Trend-following portfolio (YZ estimator)  \\\n",
       "CAGR                                             0.149101   \n",
       "Annualised vol                                   0.127115   \n",
       "Sharpe ratio                                     1.172961   \n",
       "Max drawdown                                     0.305877   \n",
       "Calmar ratio                                     0.487455   \n",
       "Skewness                                         0.281443   \n",
       "Kurtosis                                        22.176406   \n",
       "Worst return                                    -0.137043   \n",
       "Worst 1d return                                 -0.137043   \n",
       "Worst 1w return                                 -0.098542   \n",
       "Worst 1m return                                 -0.169177   \n",
       "\n",
       "                 Trend-following portfolio (TREND signal)  \\\n",
       "CAGR                                             0.139769   \n",
       "Annualised vol                                   0.107934   \n",
       "Sharpe ratio                                     1.294952   \n",
       "Max drawdown                                     0.294584   \n",
       "Calmar ratio                                     0.474462   \n",
       "Skewness                                         0.158951   \n",
       "Kurtosis                                        28.002254   \n",
       "Worst return                                    -0.121269   \n",
       "Worst 1d return                                 -0.121269   \n",
       "Worst 1w return                                 -0.110077   \n",
       "Worst 1m return                                 -0.171789   \n",
       "\n",
       "                 Trend-following portfolio (YZ estimator + TREND signal)  \n",
       "CAGR                                                      0.139873        \n",
       "Annualised vol                                            0.110533        \n",
       "Sharpe ratio                                              1.265446        \n",
       "Max drawdown                                              0.313945        \n",
       "Calmar ratio                                              0.445534        \n",
       "Skewness                                                  0.293419        \n",
       "Kurtosis                                                 32.609385        \n",
       "Worst return                                             -0.130152        \n",
       "Worst 1d return                                          -0.130152        \n",
       "Worst 1w return                                          -0.112097        \n",
       "Worst 1m return                                          -0.186272        "
      ]
     },
     "execution_count": 22,
     "metadata": {},
     "output_type": "execute_result"
    }
   ],
   "source": [
    "performance_comp.pipe(Performance).summary()"
   ]
  },
  {
   "cell_type": "markdown",
   "id": "9257538b",
   "metadata": {
    "papermill": {
     "duration": 0.012636,
     "end_time": "2022-08-24T07:51:28.326762",
     "exception": false,
     "start_time": "2022-08-24T07:51:28.314126",
     "status": "completed"
    },
    "tags": []
   },
   "source": [
    "## Turnover reduction\n",
    "\n",
    "Again, as reported in BK2020, both enhancements reduce the turnover significantly while not affecting the performance. The chart below shows the reduction in turnover for each futures contract. By utilising the YZ realised volatility and the TREND signal, overall the turnover is reduced by more than 30%."
   ]
  },
  {
   "cell_type": "code",
   "execution_count": 23,
   "id": "3bc519bf",
   "metadata": {
    "execution": {
     "iopub.execute_input": "2022-08-24T07:51:28.352970Z",
     "iopub.status.busy": "2022-08-24T07:51:28.352719Z",
     "iopub.status.idle": "2022-08-24T07:56:31.059579Z",
     "shell.execute_reply": "2022-08-24T07:56:31.058858Z"
    },
    "papermill": {
     "duration": 302.722743,
     "end_time": "2022-08-24T07:56:31.062013",
     "exception": false,
     "start_time": "2022-08-24T07:51:28.339270",
     "status": "completed"
    },
    "tags": []
   },
   "outputs": [],
   "source": [
    "engine_original_pos = engine_original.get_position_by_instrument()\n",
    "engine_vol_pos = engine_vol.get_position_by_instrument()\n",
    "engine_trend_pos = engine_trend.get_position_by_instrument()\n",
    "engine_combined_pos = engine_combined.get_position_by_instrument()"
   ]
  },
  {
   "cell_type": "code",
   "execution_count": 24,
   "id": "c55f6863",
   "metadata": {
    "execution": {
     "iopub.execute_input": "2022-08-24T07:56:31.091215Z",
     "iopub.status.busy": "2022-08-24T07:56:31.090945Z",
     "iopub.status.idle": "2022-08-24T07:56:31.124055Z",
     "shell.execute_reply": "2022-08-24T07:56:31.123341Z"
    },
    "papermill": {
     "duration": 0.049978,
     "end_time": "2022-08-24T07:56:31.125921",
     "exception": false,
     "start_time": "2022-08-24T07:56:31.075943",
     "status": "completed"
    },
    "tags": []
   },
   "outputs": [],
   "source": [
    "engine_original_turnover = (engine_original_pos.diff().abs().mean().mul(261)\n",
    "                            .rename('Trend-following portfolio (Moskowitz 2012)'))\n",
    "engine_vol_turnover = (engine_vol_pos.diff().abs().mean().mul(261)\n",
    "                       .rename('Trend-following portfolio (YZ estimator)'))\n",
    "engine_trend_turnover = (engine_trend_pos.diff().abs().mean().mul(261)\n",
    "                         .rename('Trend-following portfolio (TREND signal)'))\n",
    "engine_combined_turnover = (engine_combined_pos.diff().abs().mean().mul(261)\n",
    "                            .rename('Trend-following portfolio (YZ estimator + TREND signal)'))"
   ]
  },
  {
   "cell_type": "code",
   "execution_count": 25,
   "id": "7ed2544c",
   "metadata": {
    "execution": {
     "iopub.execute_input": "2022-08-24T07:56:31.153025Z",
     "iopub.status.busy": "2022-08-24T07:56:31.152759Z",
     "iopub.status.idle": "2022-08-24T07:56:31.159559Z",
     "shell.execute_reply": "2022-08-24T07:56:31.158971Z"
    },
    "papermill": {
     "duration": 0.022186,
     "end_time": "2022-08-24T07:56:31.161201",
     "exception": false,
     "start_time": "2022-08-24T07:56:31.139015",
     "status": "completed"
    },
    "tags": []
   },
   "outputs": [],
   "source": [
    "turnover_reduction = (\n",
    "    pd.concat((engine_vol_turnover, engine_trend_turnover, engine_combined_turnover), axis=1)\n",
    "    .div(engine_original_turnover, axis=0)\n",
    "    .sub(1)\n",
    "    .reindex(index=all_futures_baltas2020.index)\n",
    "    .rename(index=all_futures_baltas2020['name'])\n",
    ")"
   ]
  },
  {
   "cell_type": "code",
   "execution_count": 26,
   "id": "35f29b11",
   "metadata": {
    "execution": {
     "iopub.execute_input": "2022-08-24T07:56:31.188677Z",
     "iopub.status.busy": "2022-08-24T07:56:31.188388Z",
     "iopub.status.idle": "2022-08-24T07:56:31.194479Z",
     "shell.execute_reply": "2022-08-24T07:56:31.193811Z"
    },
    "papermill": {
     "duration": 0.021864,
     "end_time": "2022-08-24T07:56:31.196153",
     "exception": false,
     "start_time": "2022-08-24T07:56:31.174289",
     "status": "completed"
    },
    "tags": []
   },
   "outputs": [
    {
     "data": {
      "text/plain": [
       "Trend-following portfolio (YZ estimator)                  -0.181304\n",
       "Trend-following portfolio (TREND signal)                  -0.207447\n",
       "Trend-following portfolio (YZ estimator + TREND signal)   -0.330909\n",
       "dtype: float64"
      ]
     },
     "execution_count": 26,
     "metadata": {},
     "output_type": "execute_result"
    }
   ],
   "source": [
    "turnover_reduction.mean()"
   ]
  },
  {
   "cell_type": "code",
   "execution_count": 27,
   "id": "9e1fb212",
   "metadata": {
    "execution": {
     "iopub.execute_input": "2022-08-24T07:56:31.224825Z",
     "iopub.status.busy": "2022-08-24T07:56:31.224563Z",
     "iopub.status.idle": "2022-08-24T07:56:32.910175Z",
     "shell.execute_reply": "2022-08-24T07:56:32.909436Z"
    },
    "papermill": {
     "duration": 1.702644,
     "end_time": "2022-08-24T07:56:32.911805",
     "exception": false,
     "start_time": "2022-08-24T07:56:31.209161",
     "status": "completed"
    },
    "tags": []
   },
   "outputs": [
    {
     "data": {
      "image/png": "[encoded data removed]",
      "text/plain": [
       "<Figure size 1008x288 with 1 Axes>"
      ]
     },
     "metadata": {
      "needs_background": "light"
     },
     "output_type": "display_data"
    }
   ],
   "source": [
    "ax = turnover_reduction.plot(kind='bar', figsize=(14, 4))\n",
    "ax.yaxis.set_major_formatter(mticker.PercentFormatter(1))\n",
    "ax.axhline(0, color='black', lw=1)\n",
    "ax.axvline(24.5, color='black', lw=1)\n",
    "ax.axvline(30.5, color='black', lw=1)\n",
    "ax.axvline(42.5, color='black', lw=1)\n",
    "ax.set_xlabel('Contract')\n",
    "ax.set_ylabel('Turnover reduction');"
   ]
  },
  {
   "cell_type": "markdown",
   "id": "1bf4cdbe",
   "metadata": {
    "papermill": {
     "duration": 0.013539,
     "end_time": "2022-08-24T07:56:32.939206",
     "exception": false,
     "start_time": "2022-08-24T07:56:32.925667",
     "status": "completed"
    },
    "tags": []
   },
   "source": [
    "# Recent performance"
   ]
  },
  {
   "cell_type": "code",
   "execution_count": 28,
   "id": "005b2c5c",
   "metadata": {
    "execution": {
     "iopub.execute_input": "2022-08-24T07:56:32.967900Z",
     "iopub.status.busy": "2022-08-24T07:56:32.967554Z",
     "iopub.status.idle": "2022-08-24T07:56:33.428217Z",
     "shell.execute_reply": "2022-08-24T07:56:33.427505Z"
    },
    "papermill": {
     "duration": 0.477013,
     "end_time": "2022-08-24T07:56:33.429930",
     "exception": false,
     "start_time": "2022-08-24T07:56:32.952917",
     "status": "completed"
    },
    "tags": []
   },
   "outputs": [
    {
     "data": {
      "image/png": "[encoded data removed]",
      "text/plain": [
       "<Figure size 576x324 with 1 Axes>"
      ]
     },
     "metadata": {
      "needs_background": "light"
     },
     "output_type": "display_data"
    }
   ],
   "source": [
    "fig, ax = plt.subplots(figsize=(8, 4.5))\n",
    "performance_comp.tail(252 * 2).pct_change().fillna(0).add(1).cumprod().plot(ax=ax, logy=True);\n",
    "ax.set_title('Trend-following portfolio')\n",
    "ax.set_ylabel('Cumulative returns');"
   ]
  },
  {
   "cell_type": "markdown",
   "id": "3e3709d8",
   "metadata": {
    "papermill": {
     "duration": 0.014902,
     "end_time": "2022-08-24T07:56:33.459388",
     "exception": false,
     "start_time": "2022-08-24T07:56:33.444486",
     "status": "completed"
    },
    "tags": []
   },
   "source": [
    "# Reference\n",
    "\n",
    "- Baltas, N. and Kosowski, R., 2020. Demystifying time-series momentum strategies: Volatility estimators, trading rules and pairwise correlations. Market Momentum: Theory and Practice\", Wiley.\n",
    "- Moskowitz, T.J., Ooi, Y.H. and Pedersen, L.H., 2012. Time series momentum. Journal of financial economics, 104(2), pp.228-250."
   ]
  },
  {
   "cell_type": "code",
   "execution_count": 29,
   "id": "bac22ee0",
   "metadata": {
    "ExecuteTime": {
     "end_time": "2020-08-30T21:20:32.431574Z",
     "start_time": "2020-08-30T21:20:32.429370Z"
    },
    "execution": {
     "iopub.execute_input": "2022-08-24T07:56:33.489550Z",
     "iopub.status.busy": "2022-08-24T07:56:33.489277Z",
     "iopub.status.idle": "2022-08-24T07:56:33.493254Z",
     "shell.execute_reply": "2022-08-24T07:56:33.492467Z"
    },
    "papermill": {
     "duration": 0.021049,
     "end_time": "2022-08-24T07:56:33.494912",
     "exception": false,
     "start_time": "2022-08-24T07:56:33.473863",
     "status": "completed"
    },
    "tags": []
   },
   "outputs": [
    {
     "name": "stdout",
     "output_type": "stream",
     "text": [
      "Updated: 24-Aug-2022 07:56\n"
     ]
    }
   ],
   "source": [
    "print(f'Updated: {datetime.utcnow():%d-%b-%Y %H:%M}')"
   ]
  }
 ],
 "metadata": {
  "hide_input": false,
  "kernelspec": {
   "display_name": "Python 3",
   "language": "python",
   "name": "python3"
  },
  "language_info": {
   "codemirror_mode": {
    "name": "ipython",
    "version": 3
   },
   "file_extension": ".py",
   "mimetype": "text/x-python",
   "name": "python",
   "nbconvert_exporter": "python",
   "pygments_lexer": "ipython3",
   "version": "3.9.6"
  },
  "nav_menu": {},
  "papermill": {
   "duration": 5363.819699,
   "end_time": "2022-08-24T07:56:36.539758",
   "environment_variables": {},
   "exception": null,
   "input_path": "notebooks/papermill/trend_following_baltas2020.ipynb",
   "output_path": "notebooks/trend_following_baltas2020.ipynb",
   "parameters": {},
   "start_time": "2022-08-24T06:27:12.720059",
   "version": "2.1.3"
  },
  "toc": {
   "base_numbering": 1,
   "nav_menu": {},
   "number_sections": true,
   "sideBar": true,
   "skip_h1_title": false,
   "title_cell": "Table of Contents",
   "title_sidebar": "Contents",
   "toc_cell": true,
   "toc_position": {
    "height": "calc(100% - 180px)",
    "left": "10px",
    "top": "150px",
    "width": "165px"
   },
   "toc_section_display": "block",
   "toc_window_display": true
  }
 },
 "nbformat": 4,
 "nbformat_minor": 5
}