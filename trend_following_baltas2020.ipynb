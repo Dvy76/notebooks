{
 "cells": [
  {
   "cell_type": "markdown",
   "id": "4b538ade",
   "metadata": {
    "papermill": {
     "duration": 0.016058,
     "end_time": "2022-08-30T06:26:32.520014",
     "exception": false,
     "start_time": "2022-08-30T06:26:32.503956",
     "status": "completed"
    },
    "tags": []
   },
   "source": [
    "# Trend-following\n",
    "\n",
    "This notebook implements a few improvements that Baltas and Kosowski (2020) (BK2020, hereafter) propose to the time-series momentum strategy which originally appeared in Moskowitz et al (2012).\n",
    "\n",
    "Note that like other notebooks, all backtests are performed by using a private library called `vivace`."
   ]
  },
  {
   "cell_type": "code",
   "execution_count": 1,
   "id": "d3e0856a",
   "metadata": {
    "ExecuteTime": {
     "end_time": "2020-08-30T21:08:49.524262Z",
     "start_time": "2020-08-30T21:08:48.720115Z"
    },
    "execution": {
     "iopub.execute_input": "2022-08-30T06:26:32.553619Z",
     "iopub.status.busy": "2022-08-30T06:26:32.552739Z",
     "iopub.status.idle": "2022-08-30T06:26:36.596292Z",
     "shell.execute_reply": "2022-08-30T06:26:36.595403Z"
    },
    "papermill": {
     "duration": 4.063398,
     "end_time": "2022-08-30T06:26:36.598652",
     "exception": false,
     "start_time": "2022-08-30T06:26:32.535254",
     "status": "completed"
    },
    "tags": []
   },
   "outputs": [],
   "source": [
    "%matplotlib inline\n",
    "from datetime import datetime\n",
    "import logging\n",
    "import warnings\n",
    "warnings.simplefilter(action='ignore', category=FutureWarning)\n",
    "\n",
    "import pandas as pd\n",
    "import matplotlib.pyplot as plt\n",
    "import matplotlib.ticker as mticker\n",
    "plt.style.use('bmh')\n",
    "\n",
    "from vivace.backtest import signal\n",
    "from vivace.backtest import processing\n",
    "from vivace.backtest.contract import all_futures_baltas2020\n",
    "from vivace.backtest.engine import BacktestEngine\n",
    "from vivace.backtest.enums import Strategy, Weighting, RealisedVolatility\n",
    "from vivace.backtest.stats import Performance"
   ]
  },
  {
   "cell_type": "markdown",
   "id": "de281e6c",
   "metadata": {
    "papermill": {
     "duration": 0.01045,
     "end_time": "2022-08-30T06:26:36.620990",
     "exception": false,
     "start_time": "2022-08-30T06:26:36.610540",
     "status": "completed"
    },
    "tags": []
   },
   "source": [
    "# Data"
   ]
  },
  {
   "cell_type": "code",
   "execution_count": 2,
   "id": "801c11e6",
   "metadata": {
    "ExecuteTime": {
     "end_time": "2020-08-30T21:08:49.529214Z",
     "start_time": "2020-08-30T21:08:49.525465Z"
    },
    "execution": {
     "iopub.execute_input": "2022-08-30T06:26:36.644266Z",
     "iopub.status.busy": "2022-08-30T06:26:36.643360Z",
     "iopub.status.idle": "2022-08-30T06:26:36.654358Z",
     "shell.execute_reply": "2022-08-30T06:26:36.653614Z"
    },
    "papermill": {
     "duration": 0.024517,
     "end_time": "2022-08-30T06:26:36.656141",
     "exception": false,
     "start_time": "2022-08-30T06:26:36.631624",
     "status": "completed"
    },
    "tags": []
   },
   "outputs": [
    {
     "data": {
      "text/plain": [
       "array(['WTI Crude Oil', 'Brent Crude Oil', 'Heating Oil', 'Natural Gas',\n",
       "       'Gasoline', 'Copper', 'Gold', 'Palladium', 'Platinum', 'Silver',\n",
       "       'Feeder Cattle', 'Live Cattle', 'Lean Hog', 'Corn', 'Oats',\n",
       "       'Soybean Oil', 'Soybean Meal', 'Soybean', 'Wheat', 'Cocoa',\n",
       "       'Coffee', 'Cotton', 'Lumber', 'Orange Juice', 'Sugar',\n",
       "       'Australian Dollar', 'Canadian Dollar', 'Swiss Franc', 'Euro',\n",
       "       'British Pound', 'Japanese Yen', 'E-Mini Nasdaq 100',\n",
       "       'E-mini S&P 500', 'E-mini Russell 2000', 'FTSE 100', 'DAX',\n",
       "       'CAC 40', 'IBEX 35', 'AEX', 'Swiss Market Index', 'SPI 200',\n",
       "       'Topix', 'Hang Seng', 'US 2-year Treasury', 'US 5-year Treasury',\n",
       "       'US 10-year Treasury', 'US treasury Bond', 'Germany Schatz',\n",
       "       'Germany Bobl', 'Germany Bund', 'Germany Buxl', 'Gilt',\n",
       "       'Canada 10-year Treasury', 'JGB'], dtype=object)"
      ]
     },
     "execution_count": 2,
     "metadata": {},
     "output_type": "execute_result"
    }
   ],
   "source": [
    "all_futures_baltas2020['name'].values"
   ]
  },
  {
   "cell_type": "code",
   "execution_count": 3,
   "id": "4afe24f0",
   "metadata": {
    "ExecuteTime": {
     "end_time": "2020-08-30T21:08:49.542477Z",
     "start_time": "2020-08-30T21:08:49.530487Z"
    },
    "execution": {
     "iopub.execute_input": "2022-08-30T06:26:36.718056Z",
     "iopub.status.busy": "2022-08-30T06:26:36.717585Z",
     "iopub.status.idle": "2022-08-30T06:26:36.722627Z",
     "shell.execute_reply": "2022-08-30T06:26:36.721762Z"
    },
    "papermill": {
     "duration": 0.056792,
     "end_time": "2022-08-30T06:26:36.724566",
     "exception": false,
     "start_time": "2022-08-30T06:26:36.667774",
     "status": "completed"
    },
    "tags": []
   },
   "outputs": [
    {
     "name": "stdout",
     "output_type": "stream",
     "text": [
      "54\n"
     ]
    }
   ],
   "source": [
    "print(len(all_futures_baltas2020))"
   ]
  },
  {
   "cell_type": "markdown",
   "id": "f0dc58fd",
   "metadata": {
    "papermill": {
     "duration": 0.010231,
     "end_time": "2022-08-30T06:26:36.745784",
     "exception": false,
     "start_time": "2022-08-30T06:26:36.735553",
     "status": "completed"
    },
    "tags": []
   },
   "source": [
    "We try to use the same contract as the original paper where possible, resulting 54 futures contracts to analyse. The trading universe covers a wide range of asset classes and regions, and is made up of following instruments:\n",
    "- Equity index futures\n",
    "- Government bond futures\n",
    "- FX futures\n",
    "- Commodity futures\n",
    "\n",
    "where the same trend detection method is applied."
   ]
  },
  {
   "cell_type": "markdown",
   "id": "333c30ee",
   "metadata": {
    "papermill": {
     "duration": 0.010314,
     "end_time": "2022-08-30T06:26:36.767244",
     "exception": false,
     "start_time": "2022-08-30T06:26:36.756930",
     "status": "completed"
    },
    "tags": []
   },
   "source": [
    "# Performance\n"
   ]
  },
  {
   "cell_type": "markdown",
   "id": "6754f951",
   "metadata": {
    "papermill": {
     "duration": 0.011145,
     "end_time": "2022-08-30T06:26:36.789028",
     "exception": false,
     "start_time": "2022-08-30T06:26:36.777883",
     "status": "completed"
    },
    "tags": []
   },
   "source": [
    "## Moskowitz et al\n",
    "\n",
    "First we calculate the original trend-following portfolio with a more traditional close-to-close realised volatility estimator. Although Moskowitz et al uses the exponentially weighted standard deviation, BK2020 appears to compare against the rolling standard deviation."
   ]
  },
  {
   "cell_type": "code",
   "execution_count": 4,
   "id": "e09dec38",
   "metadata": {
    "execution": {
     "iopub.execute_input": "2022-08-30T06:26:36.812465Z",
     "iopub.status.busy": "2022-08-30T06:26:36.812040Z",
     "iopub.status.idle": "2022-08-30T06:38:30.221092Z",
     "shell.execute_reply": "2022-08-30T06:38:30.220329Z"
    },
    "papermill": {
     "duration": 713.423552,
     "end_time": "2022-08-30T06:38:30.223620",
     "exception": false,
     "start_time": "2022-08-30T06:26:36.800068",
     "status": "completed"
    },
    "tags": []
   },
   "outputs": [],
   "source": [
    "engine_original = BacktestEngine(\n",
    "    strategy=Strategy.DELTA_ONE.value,\n",
    "    instrument=all_futures_baltas2020.index,\n",
    "    signal=signal.ParallelSignal([\n",
    "        signal.VolatilityScale(agg_method='rolling', window=21, ann_factor=261, \n",
    "                               target_volatility=0.4, signal_cap=0.95),\n",
    "        signal.TSMOMMoskowitz2012(post_process=processing.AsFreq(freq='m', method='pad'))\n",
    "    ], weighting='product'),\n",
    "    weighting=Weighting.EQUAL_WEIGHT.value,\n",
    "    log_level=logging.WARN,\n",
    ")\n",
    "engine_original.run()"
   ]
  },
  {
   "cell_type": "code",
   "execution_count": 5,
   "id": "31da3fad",
   "metadata": {
    "execution": {
     "iopub.execute_input": "2022-08-30T06:38:30.254346Z",
     "iopub.status.busy": "2022-08-30T06:38:30.253721Z",
     "iopub.status.idle": "2022-08-30T06:40:02.496122Z",
     "shell.execute_reply": "2022-08-30T06:40:02.495237Z"
    },
    "papermill": {
     "duration": 92.260663,
     "end_time": "2022-08-30T06:40:02.498859",
     "exception": false,
     "start_time": "2022-08-30T06:38:30.238196",
     "status": "completed"
    },
    "tags": []
   },
   "outputs": [],
   "source": [
    "engine_original_eq = (engine_original.calculate_equity_curve(calculate_net=False, rebalance_freq='m')\n",
    "                      .rename('Trend-following portfolio (Moskowitz 2012)'))"
   ]
  },
  {
   "cell_type": "code",
   "execution_count": 6,
   "id": "07170688",
   "metadata": {
    "execution": {
     "iopub.execute_input": "2022-08-30T06:40:02.534361Z",
     "iopub.status.busy": "2022-08-30T06:40:02.533944Z",
     "iopub.status.idle": "2022-08-30T06:40:03.475197Z",
     "shell.execute_reply": "2022-08-30T06:40:03.473908Z"
    },
    "papermill": {
     "duration": 0.962175,
     "end_time": "2022-08-30T06:40:03.477410",
     "exception": false,
     "start_time": "2022-08-30T06:40:02.515235",
     "status": "completed"
    },
    "tags": []
   },
   "outputs": [
    {
     "data": {
      "image/png": "[encoded data removed]",
      "text/plain": [
       "<Figure size 576x324 with 1 Axes>"
      ]
     },
     "metadata": {
      "needs_background": "light"
     },
     "output_type": "display_data"
    }
   ],
   "source": [
    "fig, ax = plt.subplots(figsize=(8, 4.5))\n",
    "engine_original_eq.plot(ax=ax, logy=True)\n",
    "ax.set_title('Trend-following portfolio (Moskowitz 2012)')\n",
    "ax.set_ylabel('Cumulative returns');"
   ]
  },
  {
   "cell_type": "code",
   "execution_count": 7,
   "id": "3fd644bc",
   "metadata": {
    "execution": {
     "iopub.execute_input": "2022-08-30T06:40:03.509509Z",
     "iopub.status.busy": "2022-08-30T06:40:03.509108Z",
     "iopub.status.idle": "2022-08-30T06:40:03.643626Z",
     "shell.execute_reply": "2022-08-30T06:40:03.642048Z"
    },
    "papermill": {
     "duration": 0.154258,
     "end_time": "2022-08-30T06:40:03.645983",
     "exception": false,
     "start_time": "2022-08-30T06:40:03.491725",
     "status": "completed"
    },
    "tags": []
   },
   "outputs": [
    {
     "data": {
      "text/html": [
       "<div>\n",
       "<style scoped>\n",
       "    .dataframe tbody tr th:only-of-type {\n",
       "        vertical-align: middle;\n",
       "    }\n",
       "\n",
       "    .dataframe tbody tr th {\n",
       "        vertical-align: top;\n",
       "    }\n",
       "\n",
       "    .dataframe thead th {\n",
       "        text-align: right;\n",
       "    }\n",
       "</style>\n",
       "<table border=\"1\" class=\"dataframe\">\n",
       "  <thead>\n",
       "    <tr style=\"text-align: right;\">\n",
       "      <th></th>\n",
       "      <th>Trend-following portfolio (Moskowitz 2012)</th>\n",
       "    </tr>\n",
       "  </thead>\n",
       "  <tbody>\n",
       "    <tr>\n",
       "      <th>CAGR</th>\n",
       "      <td>0.148159</td>\n",
       "    </tr>\n",
       "    <tr>\n",
       "      <th>Annualised vol</th>\n",
       "      <td>0.125003</td>\n",
       "    </tr>\n",
       "    <tr>\n",
       "      <th>Sharpe ratio</th>\n",
       "      <td>1.185241</td>\n",
       "    </tr>\n",
       "    <tr>\n",
       "      <th>Max drawdown</th>\n",
       "      <td>0.259239</td>\n",
       "    </tr>\n",
       "    <tr>\n",
       "      <th>Calmar ratio</th>\n",
       "      <td>0.571515</td>\n",
       "    </tr>\n",
       "    <tr>\n",
       "      <th>Skewness</th>\n",
       "      <td>0.073477</td>\n",
       "    </tr>\n",
       "    <tr>\n",
       "      <th>Kurtosis</th>\n",
       "      <td>19.315061</td>\n",
       "    </tr>\n",
       "    <tr>\n",
       "      <th>Worst return</th>\n",
       "      <td>-0.126276</td>\n",
       "    </tr>\n",
       "    <tr>\n",
       "      <th>Worst 1d return</th>\n",
       "      <td>-0.126276</td>\n",
       "    </tr>\n",
       "    <tr>\n",
       "      <th>Worst 1w return</th>\n",
       "      <td>-0.107725</td>\n",
       "    </tr>\n",
       "    <tr>\n",
       "      <th>Worst 1m return</th>\n",
       "      <td>-0.152667</td>\n",
       "    </tr>\n",
       "  </tbody>\n",
       "</table>\n",
       "</div>"
      ],
      "text/plain": [
       "                 Trend-following portfolio (Moskowitz 2012)\n",
       "CAGR                                               0.148159\n",
       "Annualised vol                                     0.125003\n",
       "Sharpe ratio                                       1.185241\n",
       "Max drawdown                                       0.259239\n",
       "Calmar ratio                                       0.571515\n",
       "Skewness                                           0.073477\n",
       "Kurtosis                                          19.315061\n",
       "Worst return                                      -0.126276\n",
       "Worst 1d return                                   -0.126276\n",
       "Worst 1w return                                   -0.107725\n",
       "Worst 1m return                                   -0.152667"
      ]
     },
     "execution_count": 7,
     "metadata": {},
     "output_type": "execute_result"
    }
   ],
   "source": [
    "engine_original_eq.pipe(Performance).summary()"
   ]
  },
  {
   "cell_type": "markdown",
   "id": "466137ee",
   "metadata": {
    "papermill": {
     "duration": 0.012413,
     "end_time": "2022-08-30T06:40:03.671112",
     "exception": false,
     "start_time": "2022-08-30T06:40:03.658699",
     "status": "completed"
    },
    "tags": []
   },
   "source": [
    "\n",
    "## Volatility estimator\n",
    "BK2020 proposes a few changes in order to enhance the original trend-following strategy Moskowitz et al reported. The first thing is to use a more sophisticated realised volatility estimators for volatility scaling. Moskowitz used the exponentially weighted standard deviation with close-to-close. On the other hand, BK2020 suggests to use Yang-Zhang estimator as it is much more efficient."
   ]
  },
  {
   "cell_type": "code",
   "execution_count": 8,
   "id": "6cf44ca3",
   "metadata": {
    "ExecuteTime": {
     "end_time": "2020-08-30T21:18:24.661167Z",
     "start_time": "2020-08-30T21:08:49.544232Z"
    },
    "execution": {
     "iopub.execute_input": "2022-08-30T06:40:03.705074Z",
     "iopub.status.busy": "2022-08-30T06:40:03.704590Z",
     "iopub.status.idle": "2022-08-30T07:02:12.062969Z",
     "shell.execute_reply": "2022-08-30T07:02:12.062272Z"
    },
    "papermill": {
     "duration": 1328.378772,
     "end_time": "2022-08-30T07:02:12.065704",
     "exception": false,
     "start_time": "2022-08-30T06:40:03.686932",
     "status": "completed"
    },
    "tags": []
   },
   "outputs": [],
   "source": [
    "engine_vol = BacktestEngine(\n",
    "    strategy=Strategy.DELTA_ONE.value,\n",
    "    instrument=all_futures_baltas2020.index,\n",
    "    signal=signal.ParallelSignal([\n",
    "        signal.VolatilityScale(volatility_type=RealisedVolatility.YZ.value,\n",
    "                               agg_method='rolling', window=21, min_periods=10,\n",
    "                               target_volatility=0.4, signal_cap=0.95, ann_factor=261),\n",
    "        signal.TSMOMMoskowitz2012(post_process=processing.AsFreq(freq='m', method='pad'))\n",
    "    ], weighting='product'),\n",
    "    weighting=Weighting.EQUAL_WEIGHT.value,\n",
    "    log_level=logging.WARN,\n",
    ")\n",
    "engine_vol.run()"
   ]
  },
  {
   "cell_type": "code",
   "execution_count": 9,
   "id": "ea5139df",
   "metadata": {
    "execution": {
     "iopub.execute_input": "2022-08-30T07:02:12.100573Z",
     "iopub.status.busy": "2022-08-30T07:02:12.100304Z",
     "iopub.status.idle": "2022-08-30T07:03:36.015504Z",
     "shell.execute_reply": "2022-08-30T07:03:36.014697Z"
    },
    "papermill": {
     "duration": 83.93524,
     "end_time": "2022-08-30T07:03:36.017534",
     "exception": false,
     "start_time": "2022-08-30T07:02:12.082294",
     "status": "completed"
    },
    "tags": []
   },
   "outputs": [],
   "source": [
    "engine_vol_eq = (engine_vol.calculate_equity_curve(calculate_net=False, rebalance_freq='m')\n",
    "                 .rename('Trend-following portfolio (YZ estimator)'))"
   ]
  },
  {
   "cell_type": "code",
   "execution_count": 10,
   "id": "259e775b",
   "metadata": {
    "execution": {
     "iopub.execute_input": "2022-08-30T07:03:36.041810Z",
     "iopub.status.busy": "2022-08-30T07:03:36.041144Z",
     "iopub.status.idle": "2022-08-30T07:03:36.666711Z",
     "shell.execute_reply": "2022-08-30T07:03:36.665868Z"
    },
    "papermill": {
     "duration": 0.640003,
     "end_time": "2022-08-30T07:03:36.668749",
     "exception": false,
     "start_time": "2022-08-30T07:03:36.028746",
     "status": "completed"
    },
    "tags": []
   },
   "outputs": [
    {
     "data": {
      "image/png": "[encoded data removed]",
      "text/plain": [
       "<Figure size 576x324 with 1 Axes>"
      ]
     },
     "metadata": {
      "needs_background": "light"
     },
     "output_type": "display_data"
    }
   ],
   "source": [
    "fig, ax = plt.subplots(figsize=(8, 4.5))\n",
    "engine_vol_eq.plot(ax=ax, logy=True);\n",
    "ax.set_title('Trend-following portfolio (YZ estimator)')\n",
    "ax.set_ylabel('Cumulative returns');"
   ]
  },
  {
   "cell_type": "code",
   "execution_count": 11,
   "id": "77440c52",
   "metadata": {
    "execution": {
     "iopub.execute_input": "2022-08-30T07:03:36.692163Z",
     "iopub.status.busy": "2022-08-30T07:03:36.691880Z",
     "iopub.status.idle": "2022-08-30T07:03:36.800433Z",
     "shell.execute_reply": "2022-08-30T07:03:36.799708Z"
    },
    "papermill": {
     "duration": 0.122315,
     "end_time": "2022-08-30T07:03:36.802172",
     "exception": false,
     "start_time": "2022-08-30T07:03:36.679857",
     "status": "completed"
    },
    "tags": []
   },
   "outputs": [
    {
     "data": {
      "text/html": [
       "<div>\n",
       "<style scoped>\n",
       "    .dataframe tbody tr th:only-of-type {\n",
       "        vertical-align: middle;\n",
       "    }\n",
       "\n",
       "    .dataframe tbody tr th {\n",
       "        vertical-align: top;\n",
       "    }\n",
       "\n",
       "    .dataframe thead th {\n",
       "        text-align: right;\n",
       "    }\n",
       "</style>\n",
       "<table border=\"1\" class=\"dataframe\">\n",
       "  <thead>\n",
       "    <tr style=\"text-align: right;\">\n",
       "      <th></th>\n",
       "      <th>Trend-following portfolio (YZ estimator)</th>\n",
       "    </tr>\n",
       "  </thead>\n",
       "  <tbody>\n",
       "    <tr>\n",
       "      <th>CAGR</th>\n",
       "      <td>0.149806</td>\n",
       "    </tr>\n",
       "    <tr>\n",
       "      <th>Annualised vol</th>\n",
       "      <td>0.127289</td>\n",
       "    </tr>\n",
       "    <tr>\n",
       "      <th>Sharpe ratio</th>\n",
       "      <td>1.176896</td>\n",
       "    </tr>\n",
       "    <tr>\n",
       "      <th>Max drawdown</th>\n",
       "      <td>0.305877</td>\n",
       "    </tr>\n",
       "    <tr>\n",
       "      <th>Calmar ratio</th>\n",
       "      <td>0.489761</td>\n",
       "    </tr>\n",
       "    <tr>\n",
       "      <th>Skewness</th>\n",
       "      <td>0.280378</td>\n",
       "    </tr>\n",
       "    <tr>\n",
       "      <th>Kurtosis</th>\n",
       "      <td>22.095434</td>\n",
       "    </tr>\n",
       "    <tr>\n",
       "      <th>Worst return</th>\n",
       "      <td>-0.137043</td>\n",
       "    </tr>\n",
       "    <tr>\n",
       "      <th>Worst 1d return</th>\n",
       "      <td>-0.137043</td>\n",
       "    </tr>\n",
       "    <tr>\n",
       "      <th>Worst 1w return</th>\n",
       "      <td>-0.098542</td>\n",
       "    </tr>\n",
       "    <tr>\n",
       "      <th>Worst 1m return</th>\n",
       "      <td>-0.169177</td>\n",
       "    </tr>\n",
       "  </tbody>\n",
       "</table>\n",
       "</div>"
      ],
      "text/plain": [
       "                 Trend-following portfolio (YZ estimator)\n",
       "CAGR                                             0.149806\n",
       "Annualised vol                                   0.127289\n",
       "Sharpe ratio                                     1.176896\n",
       "Max drawdown                                     0.305877\n",
       "Calmar ratio                                     0.489761\n",
       "Skewness                                         0.280378\n",
       "Kurtosis                                        22.095434\n",
       "Worst return                                    -0.137043\n",
       "Worst 1d return                                 -0.137043\n",
       "Worst 1w return                                 -0.098542\n",
       "Worst 1m return                                 -0.169177"
      ]
     },
     "execution_count": 11,
     "metadata": {},
     "output_type": "execute_result"
    }
   ],
   "source": [
    "engine_vol_eq.pipe(Performance).summary()"
   ]
  },
  {
   "cell_type": "markdown",
   "id": "b3e5e253",
   "metadata": {
    "papermill": {
     "duration": 0.013909,
     "end_time": "2022-08-30T07:03:36.827274",
     "exception": false,
     "start_time": "2022-08-30T07:03:36.813365",
     "status": "completed"
    },
    "tags": []
   },
   "source": [
    "## TREND signal\n",
    "\n",
    "Another improvement BK2020 proposes is to use a continuous signal rather than a binary one in order to reduce the turnover when signals are weak. Specifically they used the t-values with the Newey-West standard error as the signal. They further capped and floored the signal between -1 and +1 to avoid extreme positions.\n",
    "\n",
    "`statsmodels`'s `OLS` class provides a method to compute the Newey-West standard error. https://www.statsmodels.org/stable/generated/statsmodels.regression.linear_model.OLS.html"
   ]
  },
  {
   "cell_type": "code",
   "execution_count": 12,
   "id": "df1d68db",
   "metadata": {
    "execution": {
     "iopub.execute_input": "2022-08-30T07:03:36.850956Z",
     "iopub.status.busy": "2022-08-30T07:03:36.850671Z",
     "iopub.status.idle": "2022-08-30T07:21:32.792518Z",
     "shell.execute_reply": "2022-08-30T07:21:32.791759Z"
    },
    "papermill": {
     "duration": 1075.956486,
     "end_time": "2022-08-30T07:21:32.794896",
     "exception": false,
     "start_time": "2022-08-30T07:03:36.838410",
     "status": "completed"
    },
    "tags": []
   },
   "outputs": [],
   "source": [
    "engine_trend = BacktestEngine(\n",
    "    strategy=Strategy.DELTA_ONE.value,\n",
    "    instrument=all_futures_baltas2020.index,\n",
    "    signal=signal.ParallelSignal([\n",
    "        signal.VolatilityScale(agg_method='rolling', window=21, ann_factor=261, \n",
    "                               target_volatility=0.4, signal_cap=0.95),\n",
    "        signal.TSMOMBaltas2020()\n",
    "    ], weighting='product'),\n",
    "    weighting=Weighting.EQUAL_WEIGHT.value,\n",
    "    log_level=logging.WARN,\n",
    ")\n",
    "engine_trend.run()"
   ]
  },
  {
   "cell_type": "code",
   "execution_count": 13,
   "id": "13ae2628",
   "metadata": {
    "execution": {
     "iopub.execute_input": "2022-08-30T07:21:32.828266Z",
     "iopub.status.busy": "2022-08-30T07:21:32.827957Z",
     "iopub.status.idle": "2022-08-30T07:23:00.917430Z",
     "shell.execute_reply": "2022-08-30T07:23:00.916200Z"
    },
    "papermill": {
     "duration": 88.108461,
     "end_time": "2022-08-30T07:23:00.919404",
     "exception": false,
     "start_time": "2022-08-30T07:21:32.810943",
     "status": "completed"
    },
    "tags": []
   },
   "outputs": [],
   "source": [
    "engine_trend_eq = (engine_trend.calculate_equity_curve(calculate_net=False, rebalance_freq='m')\n",
    "                   .rename('Trend-following portfolio (TREND signal)'))"
   ]
  },
  {
   "cell_type": "code",
   "execution_count": 14,
   "id": "1aeca740",
   "metadata": {
    "execution": {
     "iopub.execute_input": "2022-08-30T07:23:00.942713Z",
     "iopub.status.busy": "2022-08-30T07:23:00.942447Z",
     "iopub.status.idle": "2022-08-30T07:23:01.505345Z",
     "shell.execute_reply": "2022-08-30T07:23:01.504546Z"
    },
    "papermill": {
     "duration": 0.576575,
     "end_time": "2022-08-30T07:23:01.507022",
     "exception": false,
     "start_time": "2022-08-30T07:23:00.930447",
     "status": "completed"
    },
    "tags": []
   },
   "outputs": [
    {
     "data": {
      "image/png": "[encoded data removed]",
      "text/plain": [
       "<Figure size 576x324 with 1 Axes>"
      ]
     },
     "metadata": {
      "needs_background": "light"
     },
     "output_type": "display_data"
    }
   ],
   "source": [
    "fig, ax = plt.subplots(figsize=(8, 4.5))\n",
    "engine_trend_eq.plot(ax=ax, logy=True);\n",
    "ax.set_title('Trend-following portfolio (TREND signal)')\n",
    "ax.set_ylabel('Cumulative returns');"
   ]
  },
  {
   "cell_type": "code",
   "execution_count": 15,
   "id": "0abddddf",
   "metadata": {
    "execution": {
     "iopub.execute_input": "2022-08-30T07:23:01.530941Z",
     "iopub.status.busy": "2022-08-30T07:23:01.530680Z",
     "iopub.status.idle": "2022-08-30T07:23:01.610439Z",
     "shell.execute_reply": "2022-08-30T07:23:01.609620Z"
    },
    "papermill": {
     "duration": 0.093744,
     "end_time": "2022-08-30T07:23:01.612131",
     "exception": false,
     "start_time": "2022-08-30T07:23:01.518387",
     "status": "completed"
    },
    "tags": []
   },
   "outputs": [
    {
     "data": {
      "text/html": [
       "<div>\n",
       "<style scoped>\n",
       "    .dataframe tbody tr th:only-of-type {\n",
       "        vertical-align: middle;\n",
       "    }\n",
       "\n",
       "    .dataframe tbody tr th {\n",
       "        vertical-align: top;\n",
       "    }\n",
       "\n",
       "    .dataframe thead th {\n",
       "        text-align: right;\n",
       "    }\n",
       "</style>\n",
       "<table border=\"1\" class=\"dataframe\">\n",
       "  <thead>\n",
       "    <tr style=\"text-align: right;\">\n",
       "      <th></th>\n",
       "      <th>Trend-following portfolio (TREND signal)</th>\n",
       "    </tr>\n",
       "  </thead>\n",
       "  <tbody>\n",
       "    <tr>\n",
       "      <th>CAGR</th>\n",
       "      <td>0.140011</td>\n",
       "    </tr>\n",
       "    <tr>\n",
       "      <th>Annualised vol</th>\n",
       "      <td>0.107942</td>\n",
       "    </tr>\n",
       "    <tr>\n",
       "      <th>Sharpe ratio</th>\n",
       "      <td>1.297098</td>\n",
       "    </tr>\n",
       "    <tr>\n",
       "      <th>Max drawdown</th>\n",
       "      <td>0.294584</td>\n",
       "    </tr>\n",
       "    <tr>\n",
       "      <th>Calmar ratio</th>\n",
       "      <td>0.475284</td>\n",
       "    </tr>\n",
       "    <tr>\n",
       "      <th>Skewness</th>\n",
       "      <td>0.158721</td>\n",
       "    </tr>\n",
       "    <tr>\n",
       "      <th>Kurtosis</th>\n",
       "      <td>27.985919</td>\n",
       "    </tr>\n",
       "    <tr>\n",
       "      <th>Worst return</th>\n",
       "      <td>-0.121269</td>\n",
       "    </tr>\n",
       "    <tr>\n",
       "      <th>Worst 1d return</th>\n",
       "      <td>-0.121269</td>\n",
       "    </tr>\n",
       "    <tr>\n",
       "      <th>Worst 1w return</th>\n",
       "      <td>-0.110077</td>\n",
       "    </tr>\n",
       "    <tr>\n",
       "      <th>Worst 1m return</th>\n",
       "      <td>-0.171789</td>\n",
       "    </tr>\n",
       "  </tbody>\n",
       "</table>\n",
       "</div>"
      ],
      "text/plain": [
       "                 Trend-following portfolio (TREND signal)\n",
       "CAGR                                             0.140011\n",
       "Annualised vol                                   0.107942\n",
       "Sharpe ratio                                     1.297098\n",
       "Max drawdown                                     0.294584\n",
       "Calmar ratio                                     0.475284\n",
       "Skewness                                         0.158721\n",
       "Kurtosis                                        27.985919\n",
       "Worst return                                    -0.121269\n",
       "Worst 1d return                                 -0.121269\n",
       "Worst 1w return                                 -0.110077\n",
       "Worst 1m return                                 -0.171789"
      ]
     },
     "execution_count": 15,
     "metadata": {},
     "output_type": "execute_result"
    }
   ],
   "source": [
    "engine_trend_eq.pipe(Performance).summary()"
   ]
  },
  {
   "cell_type": "markdown",
   "id": "9cd31596",
   "metadata": {
    "papermill": {
     "duration": 0.011862,
     "end_time": "2022-08-30T07:23:01.635622",
     "exception": false,
     "start_time": "2022-08-30T07:23:01.623760",
     "status": "completed"
    },
    "tags": []
   },
   "source": [
    "## Combined\n",
    "\n",
    "Finally we run a backtest by using both the Yang-Zhang volatility estimator and the TREND signal."
   ]
  },
  {
   "cell_type": "code",
   "execution_count": 16,
   "id": "0eceaa32",
   "metadata": {
    "execution": {
     "iopub.execute_input": "2022-08-30T07:23:01.659773Z",
     "iopub.status.busy": "2022-08-30T07:23:01.659514Z",
     "iopub.status.idle": "2022-08-30T07:49:33.237768Z",
     "shell.execute_reply": "2022-08-30T07:49:33.237074Z"
    },
    "papermill": {
     "duration": 1591.593228,
     "end_time": "2022-08-30T07:49:33.240280",
     "exception": false,
     "start_time": "2022-08-30T07:23:01.647052",
     "status": "completed"
    },
    "tags": []
   },
   "outputs": [],
   "source": [
    "engine_combined = BacktestEngine(\n",
    "    strategy=Strategy.DELTA_ONE.value,\n",
    "    instrument=all_futures_baltas2020.index,\n",
    "    signal=signal.ParallelSignal([\n",
    "        signal.VolatilityScale(volatility_type=RealisedVolatility.YZ.value,\n",
    "                               agg_method='rolling', window=21, min_periods=10,\n",
    "                               target_volatility=0.4, signal_cap=0.95, ann_factor=261),\n",
    "        signal.TSMOMBaltas2020()\n",
    "    ], weighting='product'),\n",
    "    weighting=Weighting.EQUAL_WEIGHT.value,\n",
    "    log_level=logging.WARN,\n",
    ")\n",
    "engine_combined.run()"
   ]
  },
  {
   "cell_type": "code",
   "execution_count": 17,
   "id": "30047ed5",
   "metadata": {
    "execution": {
     "iopub.execute_input": "2022-08-30T07:49:33.270719Z",
     "iopub.status.busy": "2022-08-30T07:49:33.270158Z",
     "iopub.status.idle": "2022-08-30T07:50:56.851562Z",
     "shell.execute_reply": "2022-08-30T07:50:56.850576Z"
    },
    "papermill": {
     "duration": 83.597198,
     "end_time": "2022-08-30T07:50:56.853449",
     "exception": false,
     "start_time": "2022-08-30T07:49:33.256251",
     "status": "completed"
    },
    "tags": []
   },
   "outputs": [],
   "source": [
    "engine_combined_eq = (engine_combined.calculate_equity_curve(calculate_net=False, rebalance_freq='m')\n",
    "                      .rename('Trend-following portfolio (YZ estimator + TREND signal)'))"
   ]
  },
  {
   "cell_type": "code",
   "execution_count": 18,
   "id": "7e883730",
   "metadata": {
    "execution": {
     "iopub.execute_input": "2022-08-30T07:50:56.878158Z",
     "iopub.status.busy": "2022-08-30T07:50:56.877903Z",
     "iopub.status.idle": "2022-08-30T07:50:57.430583Z",
     "shell.execute_reply": "2022-08-30T07:50:57.429839Z"
    },
    "papermill": {
     "duration": 0.566653,
     "end_time": "2022-08-30T07:50:57.432372",
     "exception": false,
     "start_time": "2022-08-30T07:50:56.865719",
     "status": "completed"
    },
    "tags": []
   },
   "outputs": [
    {
     "data": {
      "image/png": "[encoded data removed]",
      "text/plain": [
       "<Figure size 576x324 with 1 Axes>"
      ]
     },
     "metadata": {
      "needs_background": "light"
     },
     "output_type": "display_data"
    }
   ],
   "source": [
    "fig, ax = plt.subplots(figsize=(8, 4.5))\n",
    "engine_combined_eq.plot(ax=ax, logy=True)\n",
    "ax.set_title('Trend-following portfolio (YZ estimator + TREND signal)')\n",
    "ax.set_ylabel('Cumulative returns');"
   ]
  },
  {
   "cell_type": "code",
   "execution_count": 19,
   "id": "c5f7274a",
   "metadata": {
    "execution": {
     "iopub.execute_input": "2022-08-30T07:50:57.457169Z",
     "iopub.status.busy": "2022-08-30T07:50:57.456910Z",
     "iopub.status.idle": "2022-08-30T07:50:57.535390Z",
     "shell.execute_reply": "2022-08-30T07:50:57.534613Z"
    },
    "papermill": {
     "duration": 0.092856,
     "end_time": "2022-08-30T07:50:57.537087",
     "exception": false,
     "start_time": "2022-08-30T07:50:57.444231",
     "status": "completed"
    },
    "tags": []
   },
   "outputs": [
    {
     "data": {
      "text/html": [
       "<div>\n",
       "<style scoped>\n",
       "    .dataframe tbody tr th:only-of-type {\n",
       "        vertical-align: middle;\n",
       "    }\n",
       "\n",
       "    .dataframe tbody tr th {\n",
       "        vertical-align: top;\n",
       "    }\n",
       "\n",
       "    .dataframe thead th {\n",
       "        text-align: right;\n",
       "    }\n",
       "</style>\n",
       "<table border=\"1\" class=\"dataframe\">\n",
       "  <thead>\n",
       "    <tr style=\"text-align: right;\">\n",
       "      <th></th>\n",
       "      <th>Trend-following portfolio (YZ estimator + TREND signal)</th>\n",
       "    </tr>\n",
       "  </thead>\n",
       "  <tbody>\n",
       "    <tr>\n",
       "      <th>CAGR</th>\n",
       "      <td>0.140466</td>\n",
       "    </tr>\n",
       "    <tr>\n",
       "      <th>Annualised vol</th>\n",
       "      <td>0.110675</td>\n",
       "    </tr>\n",
       "    <tr>\n",
       "      <th>Sharpe ratio</th>\n",
       "      <td>1.269175</td>\n",
       "    </tr>\n",
       "    <tr>\n",
       "      <th>Max drawdown</th>\n",
       "      <td>0.313945</td>\n",
       "    </tr>\n",
       "    <tr>\n",
       "      <th>Calmar ratio</th>\n",
       "      <td>0.447423</td>\n",
       "    </tr>\n",
       "    <tr>\n",
       "      <th>Skewness</th>\n",
       "      <td>0.292158</td>\n",
       "    </tr>\n",
       "    <tr>\n",
       "      <th>Kurtosis</th>\n",
       "      <td>32.505275</td>\n",
       "    </tr>\n",
       "    <tr>\n",
       "      <th>Worst return</th>\n",
       "      <td>-0.130152</td>\n",
       "    </tr>\n",
       "    <tr>\n",
       "      <th>Worst 1d return</th>\n",
       "      <td>-0.130152</td>\n",
       "    </tr>\n",
       "    <tr>\n",
       "      <th>Worst 1w return</th>\n",
       "      <td>-0.112097</td>\n",
       "    </tr>\n",
       "    <tr>\n",
       "      <th>Worst 1m return</th>\n",
       "      <td>-0.186272</td>\n",
       "    </tr>\n",
       "  </tbody>\n",
       "</table>\n",
       "</div>"
      ],
      "text/plain": [
       "                 Trend-following portfolio (YZ estimator + TREND signal)\n",
       "CAGR                                                      0.140466      \n",
       "Annualised vol                                            0.110675      \n",
       "Sharpe ratio                                              1.269175      \n",
       "Max drawdown                                              0.313945      \n",
       "Calmar ratio                                              0.447423      \n",
       "Skewness                                                  0.292158      \n",
       "Kurtosis                                                 32.505275      \n",
       "Worst return                                             -0.130152      \n",
       "Worst 1d return                                          -0.130152      \n",
       "Worst 1w return                                          -0.112097      \n",
       "Worst 1m return                                          -0.186272      "
      ]
     },
     "execution_count": 19,
     "metadata": {},
     "output_type": "execute_result"
    }
   ],
   "source": [
    "engine_combined_eq.pipe(Performance).summary()"
   ]
  },
  {
   "cell_type": "markdown",
   "id": "4327575a",
   "metadata": {
    "papermill": {
     "duration": 0.011793,
     "end_time": "2022-08-30T07:50:57.560870",
     "exception": false,
     "start_time": "2022-08-30T07:50:57.549077",
     "status": "completed"
    },
    "tags": []
   },
   "source": [
    "# Comparison\n",
    "\n",
    "In this section we compare the above 4 backtests."
   ]
  },
  {
   "cell_type": "markdown",
   "id": "2627a40b",
   "metadata": {
    "papermill": {
     "duration": 0.01168,
     "end_time": "2022-08-30T07:50:57.584515",
     "exception": false,
     "start_time": "2022-08-30T07:50:57.572835",
     "status": "completed"
    },
    "tags": []
   },
   "source": [
    "## Performance\n",
    "\n",
    "As reported in BK2020, using the YZ estimator and TREND signal does not alter the performance characteristics. Rather, the TREND signal somewhat improves the Sharpe ratio. Also the TREND signal lowers the annualised volatility from 12.5% to 10.8% with the close-to-close realised volatility."
   ]
  },
  {
   "cell_type": "code",
   "execution_count": 20,
   "id": "e94f4060",
   "metadata": {
    "execution": {
     "iopub.execute_input": "2022-08-30T07:50:57.609257Z",
     "iopub.status.busy": "2022-08-30T07:50:57.609000Z",
     "iopub.status.idle": "2022-08-30T07:50:57.622116Z",
     "shell.execute_reply": "2022-08-30T07:50:57.621421Z"
    },
    "papermill": {
     "duration": 0.027674,
     "end_time": "2022-08-30T07:50:57.623901",
     "exception": false,
     "start_time": "2022-08-30T07:50:57.596227",
     "status": "completed"
    },
    "tags": []
   },
   "outputs": [],
   "source": [
    "performance_comp = pd.concat((engine_original_eq, engine_vol_eq, \n",
    "                              engine_trend_eq, engine_combined_eq), axis=1)"
   ]
  },
  {
   "cell_type": "code",
   "execution_count": 21,
   "id": "95203ad7",
   "metadata": {
    "execution": {
     "iopub.execute_input": "2022-08-30T07:50:57.677652Z",
     "iopub.status.busy": "2022-08-30T07:50:57.677393Z",
     "iopub.status.idle": "2022-08-30T07:50:58.423791Z",
     "shell.execute_reply": "2022-08-30T07:50:58.423015Z"
    },
    "papermill": {
     "duration": 0.789914,
     "end_time": "2022-08-30T07:50:58.425573",
     "exception": false,
     "start_time": "2022-08-30T07:50:57.635659",
     "status": "completed"
    },
    "tags": []
   },
   "outputs": [
    {
     "data": {
      "image/png": "[encoded data removed]",
      "text/plain": [
       "<Figure size 576x324 with 1 Axes>"
      ]
     },
     "metadata": {
      "needs_background": "light"
     },
     "output_type": "display_data"
    }
   ],
   "source": [
    "fig, ax = plt.subplots(figsize=(8, 4.5))\n",
    "performance_comp.plot(ax=ax, logy=True);\n",
    "ax.set_title('Trend-following portfolio')\n",
    "ax.set_ylabel('Cumulative returns');"
   ]
  },
  {
   "cell_type": "code",
   "execution_count": 22,
   "id": "56c48fb7",
   "metadata": {
    "execution": {
     "iopub.execute_input": "2022-08-30T07:50:58.451588Z",
     "iopub.status.busy": "2022-08-30T07:50:58.451330Z",
     "iopub.status.idle": "2022-08-30T07:50:58.555001Z",
     "shell.execute_reply": "2022-08-30T07:50:58.554243Z"
    },
    "papermill": {
     "duration": 0.118675,
     "end_time": "2022-08-30T07:50:58.556749",
     "exception": false,
     "start_time": "2022-08-30T07:50:58.438074",
     "status": "completed"
    },
    "tags": []
   },
   "outputs": [
    {
     "data": {
      "text/html": [
       "<div>\n",
       "<style scoped>\n",
       "    .dataframe tbody tr th:only-of-type {\n",
       "        vertical-align: middle;\n",
       "    }\n",
       "\n",
       "    .dataframe tbody tr th {\n",
       "        vertical-align: top;\n",
       "    }\n",
       "\n",
       "    .dataframe thead th {\n",
       "        text-align: right;\n",
       "    }\n",
       "</style>\n",
       "<table border=\"1\" class=\"dataframe\">\n",
       "  <thead>\n",
       "    <tr style=\"text-align: right;\">\n",
       "      <th></th>\n",
       "      <th>Trend-following portfolio (Moskowitz 2012)</th>\n",
       "      <th>Trend-following portfolio (YZ estimator)</th>\n",
       "      <th>Trend-following portfolio (TREND signal)</th>\n",
       "      <th>Trend-following portfolio (YZ estimator + TREND signal)</th>\n",
       "    </tr>\n",
       "  </thead>\n",
       "  <tbody>\n",
       "    <tr>\n",
       "      <th>CAGR</th>\n",
       "      <td>0.148159</td>\n",
       "      <td>0.149438</td>\n",
       "      <td>0.140011</td>\n",
       "      <td>0.140121</td>\n",
       "    </tr>\n",
       "    <tr>\n",
       "      <th>Annualised vol</th>\n",
       "      <td>0.125003</td>\n",
       "      <td>0.127134</td>\n",
       "      <td>0.107942</td>\n",
       "      <td>0.110540</td>\n",
       "    </tr>\n",
       "    <tr>\n",
       "      <th>Sharpe ratio</th>\n",
       "      <td>1.185241</td>\n",
       "      <td>1.175440</td>\n",
       "      <td>1.297098</td>\n",
       "      <td>1.267604</td>\n",
       "    </tr>\n",
       "    <tr>\n",
       "      <th>Max drawdown</th>\n",
       "      <td>0.259239</td>\n",
       "      <td>0.305877</td>\n",
       "      <td>0.294584</td>\n",
       "      <td>0.313945</td>\n",
       "    </tr>\n",
       "    <tr>\n",
       "      <th>Calmar ratio</th>\n",
       "      <td>0.571515</td>\n",
       "      <td>0.488557</td>\n",
       "      <td>0.475284</td>\n",
       "      <td>0.446324</td>\n",
       "    </tr>\n",
       "    <tr>\n",
       "      <th>Skewness</th>\n",
       "      <td>0.073477</td>\n",
       "      <td>0.281292</td>\n",
       "      <td>0.158721</td>\n",
       "      <td>0.293124</td>\n",
       "    </tr>\n",
       "    <tr>\n",
       "      <th>Kurtosis</th>\n",
       "      <td>19.315061</td>\n",
       "      <td>22.156668</td>\n",
       "      <td>27.985919</td>\n",
       "      <td>32.591693</td>\n",
       "    </tr>\n",
       "    <tr>\n",
       "      <th>Worst return</th>\n",
       "      <td>-0.126276</td>\n",
       "      <td>-0.137043</td>\n",
       "      <td>-0.121269</td>\n",
       "      <td>-0.130152</td>\n",
       "    </tr>\n",
       "    <tr>\n",
       "      <th>Worst 1d return</th>\n",
       "      <td>-0.126276</td>\n",
       "      <td>-0.137043</td>\n",
       "      <td>-0.121269</td>\n",
       "      <td>-0.130152</td>\n",
       "    </tr>\n",
       "    <tr>\n",
       "      <th>Worst 1w return</th>\n",
       "      <td>-0.107725</td>\n",
       "      <td>-0.098542</td>\n",
       "      <td>-0.110077</td>\n",
       "      <td>-0.112097</td>\n",
       "    </tr>\n",
       "    <tr>\n",
       "      <th>Worst 1m return</th>\n",
       "      <td>-0.152667</td>\n",
       "      <td>-0.169177</td>\n",
       "      <td>-0.171789</td>\n",
       "      <td>-0.186272</td>\n",
       "    </tr>\n",
       "  </tbody>\n",
       "</table>\n",
       "</div>"
      ],
      "text/plain": [
       "                 Trend-following portfolio (Moskowitz 2012)  \\\n",
       "CAGR                                               0.148159   \n",
       "Annualised vol                                     0.125003   \n",
       "Sharpe ratio                                       1.185241   \n",
       "Max drawdown                                       0.259239   \n",
       "Calmar ratio                                       0.571515   \n",
       "Skewness                                           0.073477   \n",
       "Kurtosis                                          19.315061   \n",
       "Worst return                                      -0.126276   \n",
       "Worst 1d return                                   -0.126276   \n",
       "Worst 1w return                                   -0.107725   \n",
       "Worst 1m return                                   -0.152667   \n",
       "\n",
       "                 Trend-following portfolio (YZ estimator)  \\\n",
       "CAGR                                             0.149438   \n",
       "Annualised vol                                   0.127134   \n",
       "Sharpe ratio                                     1.175440   \n",
       "Max drawdown                                     0.305877   \n",
       "Calmar ratio                                     0.488557   \n",
       "Skewness                                         0.281292   \n",
       "Kurtosis                                        22.156668   \n",
       "Worst return                                    -0.137043   \n",
       "Worst 1d return                                 -0.137043   \n",
       "Worst 1w return                                 -0.098542   \n",
       "Worst 1m return                                 -0.169177   \n",
       "\n",
       "                 Trend-following portfolio (TREND signal)  \\\n",
       "CAGR                                             0.140011   \n",
       "Annualised vol                                   0.107942   \n",
       "Sharpe ratio                                     1.297098   \n",
       "Max drawdown                                     0.294584   \n",
       "Calmar ratio                                     0.475284   \n",
       "Skewness                                         0.158721   \n",
       "Kurtosis                                        27.985919   \n",
       "Worst return                                    -0.121269   \n",
       "Worst 1d return                                 -0.121269   \n",
       "Worst 1w return                                 -0.110077   \n",
       "Worst 1m return                                 -0.171789   \n",
       "\n",
       "                 Trend-following portfolio (YZ estimator + TREND signal)  \n",
       "CAGR                                                      0.140121        \n",
       "Annualised vol                                            0.110540        \n",
       "Sharpe ratio                                              1.267604        \n",
       "Max drawdown                                              0.313945        \n",
       "Calmar ratio                                              0.446324        \n",
       "Skewness                                                  0.293124        \n",
       "Kurtosis                                                 32.591693        \n",
       "Worst return                                             -0.130152        \n",
       "Worst 1d return                                          -0.130152        \n",
       "Worst 1w return                                          -0.112097        \n",
       "Worst 1m return                                          -0.186272        "
      ]
     },
     "execution_count": 22,
     "metadata": {},
     "output_type": "execute_result"
    }
   ],
   "source": [
    "performance_comp.pipe(Performance).summary()"
   ]
  },
  {
   "cell_type": "markdown",
   "id": "4ab864fb",
   "metadata": {
    "papermill": {
     "duration": 0.012499,
     "end_time": "2022-08-30T07:50:58.581911",
     "exception": false,
     "start_time": "2022-08-30T07:50:58.569412",
     "status": "completed"
    },
    "tags": []
   },
   "source": [
    "## Turnover reduction\n",
    "\n",
    "Again, as reported in BK2020, both enhancements reduce the turnover significantly while not affecting the performance. The chart below shows the reduction in turnover for each futures contract. By utilising the YZ realised volatility and the TREND signal, overall the turnover is reduced by more than 30%."
   ]
  },
  {
   "cell_type": "code",
   "execution_count": 23,
   "id": "70e470ce",
   "metadata": {
    "execution": {
     "iopub.execute_input": "2022-08-30T07:50:58.608863Z",
     "iopub.status.busy": "2022-08-30T07:50:58.608595Z",
     "iopub.status.idle": "2022-08-30T07:56:09.948006Z",
     "shell.execute_reply": "2022-08-30T07:56:09.947018Z"
    },
    "papermill": {
     "duration": 311.356042,
     "end_time": "2022-08-30T07:56:09.950585",
     "exception": false,
     "start_time": "2022-08-30T07:50:58.594543",
     "status": "completed"
    },
    "tags": []
   },
   "outputs": [],
   "source": [
    "engine_original_pos = engine_original.get_position_by_instrument()\n",
    "engine_vol_pos = engine_vol.get_position_by_instrument()\n",
    "engine_trend_pos = engine_trend.get_position_by_instrument()\n",
    "engine_combined_pos = engine_combined.get_position_by_instrument()"
   ]
  },
  {
   "cell_type": "code",
   "execution_count": 24,
   "id": "99be2cb5",
   "metadata": {
    "execution": {
     "iopub.execute_input": "2022-08-30T07:56:09.982282Z",
     "iopub.status.busy": "2022-08-30T07:56:09.981958Z",
     "iopub.status.idle": "2022-08-30T07:56:10.018756Z",
     "shell.execute_reply": "2022-08-30T07:56:10.017972Z"
    },
    "papermill": {
     "duration": 0.054807,
     "end_time": "2022-08-30T07:56:10.020694",
     "exception": false,
     "start_time": "2022-08-30T07:56:09.965887",
     "status": "completed"
    },
    "tags": []
   },
   "outputs": [],
   "source": [
    "engine_original_turnover = (engine_original_pos.diff().abs().mean().mul(261)\n",
    "                            .rename('Trend-following portfolio (Moskowitz 2012)'))\n",
    "engine_vol_turnover = (engine_vol_pos.diff().abs().mean().mul(261)\n",
    "                       .rename('Trend-following portfolio (YZ estimator)'))\n",
    "engine_trend_turnover = (engine_trend_pos.diff().abs().mean().mul(261)\n",
    "                         .rename('Trend-following portfolio (TREND signal)'))\n",
    "engine_combined_turnover = (engine_combined_pos.diff().abs().mean().mul(261)\n",
    "                            .rename('Trend-following portfolio (YZ estimator + TREND signal)'))"
   ]
  },
  {
   "cell_type": "code",
   "execution_count": 25,
   "id": "c3d8f295",
   "metadata": {
    "execution": {
     "iopub.execute_input": "2022-08-30T07:56:10.047343Z",
     "iopub.status.busy": "2022-08-30T07:56:10.046995Z",
     "iopub.status.idle": "2022-08-30T07:56:10.054483Z",
     "shell.execute_reply": "2022-08-30T07:56:10.053756Z"
    },
    "papermill": {
     "duration": 0.022792,
     "end_time": "2022-08-30T07:56:10.056077",
     "exception": false,
     "start_time": "2022-08-30T07:56:10.033285",
     "status": "completed"
    },
    "tags": []
   },
   "outputs": [],
   "source": [
    "turnover_reduction = (\n",
    "    pd.concat((engine_vol_turnover, engine_trend_turnover, engine_combined_turnover), axis=1)\n",
    "    .div(engine_original_turnover, axis=0)\n",
    "    .sub(1)\n",
    "    .reindex(index=all_futures_baltas2020.index)\n",
    "    .rename(index=all_futures_baltas2020['name'])\n",
    ")"
   ]
  },
  {
   "cell_type": "code",
   "execution_count": 26,
   "id": "3e31bd5b",
   "metadata": {
    "execution": {
     "iopub.execute_input": "2022-08-30T07:56:10.083343Z",
     "iopub.status.busy": "2022-08-30T07:56:10.082963Z",
     "iopub.status.idle": "2022-08-30T07:56:10.091327Z",
     "shell.execute_reply": "2022-08-30T07:56:10.090513Z"
    },
    "papermill": {
     "duration": 0.02403,
     "end_time": "2022-08-30T07:56:10.093013",
     "exception": false,
     "start_time": "2022-08-30T07:56:10.068983",
     "status": "completed"
    },
    "tags": []
   },
   "outputs": [
    {
     "data": {
      "text/plain": [
       "Trend-following portfolio (YZ estimator)                  -0.181342\n",
       "Trend-following portfolio (TREND signal)                  -0.207503\n",
       "Trend-following portfolio (YZ estimator + TREND signal)   -0.330995\n",
       "dtype: float64"
      ]
     },
     "execution_count": 26,
     "metadata": {},
     "output_type": "execute_result"
    }
   ],
   "source": [
    "turnover_reduction.mean()"
   ]
  },
  {
   "cell_type": "code",
   "execution_count": 27,
   "id": "65676d93",
   "metadata": {
    "execution": {
     "iopub.execute_input": "2022-08-30T07:56:10.120408Z",
     "iopub.status.busy": "2022-08-30T07:56:10.120140Z",
     "iopub.status.idle": "2022-08-30T07:56:11.790373Z",
     "shell.execute_reply": "2022-08-30T07:56:11.789654Z"
    },
    "papermill": {
     "duration": 1.686097,
     "end_time": "2022-08-30T07:56:11.791971",
     "exception": false,
     "start_time": "2022-08-30T07:56:10.105874",
     "status": "completed"
    },
    "tags": []
   },
   "outputs": [
    {
     "data": {
      "image/png": "[encoded data removed]",
      "text/plain": [
       "<Figure size 1008x288 with 1 Axes>"
      ]
     },
     "metadata": {
      "needs_background": "light"
     },
     "output_type": "display_data"
    }
   ],
   "source": [
    "ax = turnover_reduction.plot(kind='bar', figsize=(14, 4))\n",
    "ax.yaxis.set_major_formatter(mticker.PercentFormatter(1))\n",
    "ax.axhline(0, color='black', lw=1)\n",
    "ax.axvline(24.5, color='black', lw=1)\n",
    "ax.axvline(30.5, color='black', lw=1)\n",
    "ax.axvline(42.5, color='black', lw=1)\n",
    "ax.set_xlabel('Contract')\n",
    "ax.set_ylabel('Turnover reduction');"
   ]
  },
  {
   "cell_type": "markdown",
   "id": "a60b17ba",
   "metadata": {
    "papermill": {
     "duration": 0.013704,
     "end_time": "2022-08-30T07:56:11.820912",
     "exception": false,
     "start_time": "2022-08-30T07:56:11.807208",
     "status": "completed"
    },
    "tags": []
   },
   "source": [
    "# Recent performance"
   ]
  },
  {
   "cell_type": "code",
   "execution_count": 28,
   "id": "dbde2b6e",
   "metadata": {
    "execution": {
     "iopub.execute_input": "2022-08-30T07:56:11.850586Z",
     "iopub.status.busy": "2022-08-30T07:56:11.850318Z",
     "iopub.status.idle": "2022-08-30T07:56:12.320348Z",
     "shell.execute_reply": "2022-08-30T07:56:12.319569Z"
    },
    "papermill": {
     "duration": 0.487339,
     "end_time": "2022-08-30T07:56:12.322007",
     "exception": false,
     "start_time": "2022-08-30T07:56:11.834668",
     "status": "completed"
    },
    "tags": []
   },
   "outputs": [
    {
     "data": {
      "image/png": "[encoded data removed]",
      "text/plain": [
       "<Figure size 576x324 with 1 Axes>"
      ]
     },
     "metadata": {
      "needs_background": "light"
     },
     "output_type": "display_data"
    }
   ],
   "source": [
    "fig, ax = plt.subplots(figsize=(8, 4.5))\n",
    "performance_comp.tail(252 * 2).pct_change().fillna(0).add(1).cumprod().plot(ax=ax, logy=True);\n",
    "ax.set_title('Trend-following portfolio')\n",
    "ax.set_ylabel('Cumulative returns');"
   ]
  },
  {
   "cell_type": "markdown",
   "id": "7148da55",
   "metadata": {
    "papermill": {
     "duration": 0.014425,
     "end_time": "2022-08-30T07:56:12.350854",
     "exception": false,
     "start_time": "2022-08-30T07:56:12.336429",
     "status": "completed"
    },
    "tags": []
   },
   "source": [
    "# Reference\n",
    "\n",
    "- Baltas, N. and Kosowski, R., 2020. Demystifying time-series momentum strategies: Volatility estimators, trading rules and pairwise correlations. Market Momentum: Theory and Practice\", Wiley.\n",
    "- Moskowitz, T.J., Ooi, Y.H. and Pedersen, L.H., 2012. Time series momentum. Journal of financial economics, 104(2), pp.228-250."
   ]
  },
  {
   "cell_type": "code",
   "execution_count": 29,
   "id": "53493b74",
   "metadata": {
    "ExecuteTime": {
     "end_time": "2020-08-30T21:20:32.431574Z",
     "start_time": "2020-08-30T21:20:32.429370Z"
    },
    "execution": {
     "iopub.execute_input": "2022-08-30T07:56:12.381224Z",
     "iopub.status.busy": "2022-08-30T07:56:12.380944Z",
     "iopub.status.idle": "2022-08-30T07:56:12.386453Z",
     "shell.execute_reply": "2022-08-30T07:56:12.385899Z"
    },
    "papermill": {
     "duration": 0.022748,
     "end_time": "2022-08-30T07:56:12.388069",
     "exception": false,
     "start_time": "2022-08-30T07:56:12.365321",
     "status": "completed"
    },
    "tags": []
   },
   "outputs": [
    {
     "name": "stdout",
     "output_type": "stream",
     "text": [
      "Updated: 30-Aug-2022 07:56\n"
     ]
    }
   ],
   "source": [
    "print(f'Updated: {datetime.utcnow():%d-%b-%Y %H:%M}')"
   ]
  }
 ],
 "metadata": {
  "hide_input": false,
  "kernelspec": {
   "display_name": "Python 3",
   "language": "python",
   "name": "python3"
  },
  "language_info": {
   "codemirror_mode": {
    "name": "ipython",
    "version": 3
   },
   "file_extension": ".py",
   "mimetype": "text/x-python",
   "name": "python",
   "nbconvert_exporter": "python",
   "pygments_lexer": "ipython3",
   "version": "3.9.6"
  },
  "nav_menu": {},
  "papermill": {
   "duration": 5385.242536,
   "end_time": "2022-08-30T07:56:15.435706",
   "environment_variables": {},
   "exception": null,
   "input_path": "notebooks/papermill/trend_following_baltas2020.ipynb",
   "output_path": "notebooks/trend_following_baltas2020.ipynb",
   "parameters": {},
   "start_time": "2022-08-30T06:26:30.193170",
   "version": "2.1.3"
  },
  "toc": {
   "base_numbering": 1,
   "nav_menu": {},
   "number_sections": true,
   "sideBar": true,
   "skip_h1_title": false,
   "title_cell": "Table of Contents",
   "title_sidebar": "Contents",
   "toc_cell": true,
   "toc_position": {
    "height": "calc(100% - 180px)",
    "left": "10px",
    "top": "150px",
    "width": "165px"
   },
   "toc_section_display": "block",
   "toc_window_display": true
  }
 },
 "nbformat": 4,
 "nbformat_minor": 5
}