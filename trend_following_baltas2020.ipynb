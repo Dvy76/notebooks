{
 "cells": [
  {
   "cell_type": "markdown",
   "id": "1f9cb2e1",
   "metadata": {
    "papermill": {
     "duration": 0.016224,
     "end_time": "2022-08-05T07:22:04.335881",
     "exception": false,
     "start_time": "2022-08-05T07:22:04.319657",
     "status": "completed"
    },
    "tags": []
   },
   "source": [
    "# Trend-following\n",
    "\n",
    "This notebook implements a few improvements that Baltas and Kosowski (2020) (BK2020, hereafter) propose to the time-series momentum strategy which originally appeared in Moskowitz et al (2012).\n",
    "\n",
    "Note that like other notebooks, all backtests are performed by using a private library called `vivace`."
   ]
  },
  {
   "cell_type": "code",
   "execution_count": 1,
   "id": "2eace1e4",
   "metadata": {
    "ExecuteTime": {
     "end_time": "2020-08-30T21:08:49.524262Z",
     "start_time": "2020-08-30T21:08:48.720115Z"
    },
    "execution": {
     "iopub.execute_input": "2022-08-05T07:22:04.368553Z",
     "iopub.status.busy": "2022-08-05T07:22:04.367678Z",
     "iopub.status.idle": "2022-08-05T07:22:08.207709Z",
     "shell.execute_reply": "2022-08-05T07:22:08.206853Z"
    },
    "papermill": {
     "duration": 3.858663,
     "end_time": "2022-08-05T07:22:08.209912",
     "exception": false,
     "start_time": "2022-08-05T07:22:04.351249",
     "status": "completed"
    },
    "tags": []
   },
   "outputs": [],
   "source": [
    "%matplotlib inline\n",
    "from datetime import datetime\n",
    "import logging\n",
    "import warnings\n",
    "warnings.simplefilter(action='ignore', category=FutureWarning)\n",
    "\n",
    "import pandas as pd\n",
    "import matplotlib.pyplot as plt\n",
    "import matplotlib.ticker as mticker\n",
    "plt.style.use('bmh')\n",
    "\n",
    "from vivace.backtest import signal\n",
    "from vivace.backtest import processing\n",
    "from vivace.backtest.contract import all_futures_baltas2020\n",
    "from vivace.backtest.engine import BacktestEngine\n",
    "from vivace.backtest.enums import Strategy, Weighting, RealisedVolatility\n",
    "from vivace.backtest.stats import Performance"
   ]
  },
  {
   "cell_type": "markdown",
   "id": "57bc0840",
   "metadata": {
    "papermill": {
     "duration": 0.00996,
     "end_time": "2022-08-05T07:22:08.229924",
     "exception": false,
     "start_time": "2022-08-05T07:22:08.219964",
     "status": "completed"
    },
    "tags": []
   },
   "source": [
    "# Data"
   ]
  },
  {
   "cell_type": "code",
   "execution_count": 2,
   "id": "fe849078",
   "metadata": {
    "ExecuteTime": {
     "end_time": "2020-08-30T21:08:49.529214Z",
     "start_time": "2020-08-30T21:08:49.525465Z"
    },
    "execution": {
     "iopub.execute_input": "2022-08-05T07:22:08.252962Z",
     "iopub.status.busy": "2022-08-05T07:22:08.252570Z",
     "iopub.status.idle": "2022-08-05T07:22:08.260703Z",
     "shell.execute_reply": "2022-08-05T07:22:08.259858Z"
    },
    "papermill": {
     "duration": 0.023115,
     "end_time": "2022-08-05T07:22:08.262938",
     "exception": false,
     "start_time": "2022-08-05T07:22:08.239823",
     "status": "completed"
    },
    "tags": []
   },
   "outputs": [
    {
     "data": {
      "text/plain": [
       "array(['WTI Crude Oil', 'Brent Crude Oil', 'Heating Oil', 'Natural Gas',\n",
       "       'Gasoline', 'Copper', 'Gold', 'Palladium', 'Platinum', 'Silver',\n",
       "       'Feeder Cattle', 'Live Cattle', 'Lean Hog', 'Corn', 'Oats',\n",
       "       'Soybean Oil', 'Soybean Meal', 'Soybean', 'Wheat', 'Cocoa',\n",
       "       'Coffee', 'Cotton', 'Lumber', 'Orange Juice', 'Sugar',\n",
       "       'Australian Dollar', 'Canadian Dollar', 'Swiss Franc', 'Euro',\n",
       "       'British Pound', 'Japanese Yen', 'E-Mini Nasdaq 100',\n",
       "       'E-mini S&P 500', 'E-mini Russell 2000', 'FTSE 100', 'DAX',\n",
       "       'CAC 40', 'IBEX 35', 'AEX', 'Swiss Market Index', 'SPI 200',\n",
       "       'Topix', 'Hang Seng', 'US 2-year Treasury', 'US 5-year Treasury',\n",
       "       'US 10-year Treasury', 'US treasury Bond', 'Germany Schatz',\n",
       "       'Germany Bobl', 'Germany Bund', 'Germany Buxl', 'Gilt',\n",
       "       'Canada 10-year Treasury', 'JGB'], dtype=object)"
      ]
     },
     "execution_count": 2,
     "metadata": {},
     "output_type": "execute_result"
    }
   ],
   "source": [
    "all_futures_baltas2020['name'].values"
   ]
  },
  {
   "cell_type": "code",
   "execution_count": 3,
   "id": "276729c5",
   "metadata": {
    "ExecuteTime": {
     "end_time": "2020-08-30T21:08:49.542477Z",
     "start_time": "2020-08-30T21:08:49.530487Z"
    },
    "execution": {
     "iopub.execute_input": "2022-08-05T07:22:08.319758Z",
     "iopub.status.busy": "2022-08-05T07:22:08.319379Z",
     "iopub.status.idle": "2022-08-05T07:22:08.324370Z",
     "shell.execute_reply": "2022-08-05T07:22:08.323616Z"
    },
    "papermill": {
     "duration": 0.048691,
     "end_time": "2022-08-05T07:22:08.326107",
     "exception": false,
     "start_time": "2022-08-05T07:22:08.277416",
     "status": "completed"
    },
    "tags": []
   },
   "outputs": [
    {
     "name": "stdout",
     "output_type": "stream",
     "text": [
      "54\n"
     ]
    }
   ],
   "source": [
    "print(len(all_futures_baltas2020))"
   ]
  },
  {
   "cell_type": "markdown",
   "id": "80a5d37a",
   "metadata": {
    "papermill": {
     "duration": 0.010381,
     "end_time": "2022-08-05T07:22:08.346748",
     "exception": false,
     "start_time": "2022-08-05T07:22:08.336367",
     "status": "completed"
    },
    "tags": []
   },
   "source": [
    "We try to use the same contract as the original paper where possible, resulting 54 futures contracts to analyse. The trading universe covers a wide range of asset classes and regions, and is made up of following instruments:\n",
    "- Equity index futures\n",
    "- Government bond futures\n",
    "- FX futures\n",
    "- Commodity futures\n",
    "\n",
    "where the same trend detection method is applied."
   ]
  },
  {
   "cell_type": "markdown",
   "id": "fcf01532",
   "metadata": {
    "papermill": {
     "duration": 0.010149,
     "end_time": "2022-08-05T07:22:08.367026",
     "exception": false,
     "start_time": "2022-08-05T07:22:08.356877",
     "status": "completed"
    },
    "tags": []
   },
   "source": [
    "# Performance\n"
   ]
  },
  {
   "cell_type": "markdown",
   "id": "a8752831",
   "metadata": {
    "papermill": {
     "duration": 0.010125,
     "end_time": "2022-08-05T07:22:08.387267",
     "exception": false,
     "start_time": "2022-08-05T07:22:08.377142",
     "status": "completed"
    },
    "tags": []
   },
   "source": [
    "## Moskowitz et al\n",
    "\n",
    "First we calculate the original trend-following portfolio with a more traditional close-to-close realised volatility estimator. Although Moskowitz et al uses the exponentially weighted standard deviation, BK2020 appears to compare against the rolling standard deviation."
   ]
  },
  {
   "cell_type": "code",
   "execution_count": 4,
   "id": "ebf4f861",
   "metadata": {
    "execution": {
     "iopub.execute_input": "2022-08-05T07:22:08.409090Z",
     "iopub.status.busy": "2022-08-05T07:22:08.408531Z",
     "iopub.status.idle": "2022-08-05T07:32:55.377315Z",
     "shell.execute_reply": "2022-08-05T07:32:55.376566Z"
    },
    "papermill": {
     "duration": 646.982656,
     "end_time": "2022-08-05T07:32:55.380070",
     "exception": false,
     "start_time": "2022-08-05T07:22:08.397414",
     "status": "completed"
    },
    "tags": []
   },
   "outputs": [],
   "source": [
    "engine_original = BacktestEngine(\n",
    "    strategy=Strategy.DELTA_ONE.value,\n",
    "    instrument=all_futures_baltas2020.index,\n",
    "    signal=signal.ParallelSignal([\n",
    "        signal.VolatilityScale(agg_method='rolling', window=21, ann_factor=261, \n",
    "                               target_volatility=0.4, signal_cap=0.95),\n",
    "        signal.TSMOMMoskowitz2012(post_process=processing.AsFreq(freq='m', method='pad'))\n",
    "    ], weighting='product'),\n",
    "    weighting=Weighting.EQUAL_WEIGHT.value,\n",
    "    log_level=logging.WARN,\n",
    ")\n",
    "engine_original.run()"
   ]
  },
  {
   "cell_type": "code",
   "execution_count": 5,
   "id": "27a6f825",
   "metadata": {
    "execution": {
     "iopub.execute_input": "2022-08-05T07:32:55.409282Z",
     "iopub.status.busy": "2022-08-05T07:32:55.409021Z",
     "iopub.status.idle": "2022-08-05T07:34:23.401462Z",
     "shell.execute_reply": "2022-08-05T07:34:23.400719Z"
    },
    "papermill": {
     "duration": 88.009046,
     "end_time": "2022-08-05T07:34:23.403743",
     "exception": false,
     "start_time": "2022-08-05T07:32:55.394697",
     "status": "completed"
    },
    "tags": []
   },
   "outputs": [],
   "source": [
    "engine_original_eq = (engine_original.calculate_equity_curve(calculate_net=False, rebalance_freq='m')\n",
    "                      .rename('Trend-following portfolio (Moskowitz 2012)'))"
   ]
  },
  {
   "cell_type": "code",
   "execution_count": 6,
   "id": "519950bd",
   "metadata": {
    "execution": {
     "iopub.execute_input": "2022-08-05T07:34:23.433491Z",
     "iopub.status.busy": "2022-08-05T07:34:23.433126Z",
     "iopub.status.idle": "2022-08-05T07:34:24.211656Z",
     "shell.execute_reply": "2022-08-05T07:34:24.210940Z"
    },
    "papermill": {
     "duration": 0.795272,
     "end_time": "2022-08-05T07:34:24.213244",
     "exception": false,
     "start_time": "2022-08-05T07:34:23.417972",
     "status": "completed"
    },
    "tags": []
   },
   "outputs": [
    {
     "data": {
      "image/png": "[encoded data removed]",
      "text/plain": [
       "<Figure size 576x324 with 1 Axes>"
      ]
     },
     "metadata": {
      "needs_background": "light"
     },
     "output_type": "display_data"
    }
   ],
   "source": [
    "fig, ax = plt.subplots(figsize=(8, 4.5))\n",
    "engine_original_eq.plot(ax=ax, logy=True)\n",
    "ax.set_title('Trend-following portfolio (Moskowitz 2012)')\n",
    "ax.set_ylabel('Cumulative returns');"
   ]
  },
  {
   "cell_type": "code",
   "execution_count": 7,
   "id": "93412be6",
   "metadata": {
    "execution": {
     "iopub.execute_input": "2022-08-05T07:34:24.235917Z",
     "iopub.status.busy": "2022-08-05T07:34:24.235044Z",
     "iopub.status.idle": "2022-08-05T07:34:24.319857Z",
     "shell.execute_reply": "2022-08-05T07:34:24.318923Z"
    },
    "papermill": {
     "duration": 0.097997,
     "end_time": "2022-08-05T07:34:24.321713",
     "exception": false,
     "start_time": "2022-08-05T07:34:24.223716",
     "status": "completed"
    },
    "tags": []
   },
   "outputs": [
    {
     "data": {
      "text/html": [
       "<div>\n",
       "<style scoped>\n",
       "    .dataframe tbody tr th:only-of-type {\n",
       "        vertical-align: middle;\n",
       "    }\n",
       "\n",
       "    .dataframe tbody tr th {\n",
       "        vertical-align: top;\n",
       "    }\n",
       "\n",
       "    .dataframe thead th {\n",
       "        text-align: right;\n",
       "    }\n",
       "</style>\n",
       "<table border=\"1\" class=\"dataframe\">\n",
       "  <thead>\n",
       "    <tr style=\"text-align: right;\">\n",
       "      <th></th>\n",
       "      <th>Trend-following portfolio (Moskowitz 2012)</th>\n",
       "    </tr>\n",
       "  </thead>\n",
       "  <tbody>\n",
       "    <tr>\n",
       "      <th>CAGR</th>\n",
       "      <td>0.147037</td>\n",
       "    </tr>\n",
       "    <tr>\n",
       "      <th>Annualised vol</th>\n",
       "      <td>0.124966</td>\n",
       "    </tr>\n",
       "    <tr>\n",
       "      <th>Sharpe ratio</th>\n",
       "      <td>1.176617</td>\n",
       "    </tr>\n",
       "    <tr>\n",
       "      <th>Max drawdown</th>\n",
       "      <td>0.259239</td>\n",
       "    </tr>\n",
       "    <tr>\n",
       "      <th>Calmar ratio</th>\n",
       "      <td>0.567186</td>\n",
       "    </tr>\n",
       "    <tr>\n",
       "      <th>Skewness</th>\n",
       "      <td>0.073373</td>\n",
       "    </tr>\n",
       "    <tr>\n",
       "      <th>Kurtosis</th>\n",
       "      <td>19.360599</td>\n",
       "    </tr>\n",
       "    <tr>\n",
       "      <th>Worst return</th>\n",
       "      <td>-0.126276</td>\n",
       "    </tr>\n",
       "    <tr>\n",
       "      <th>Worst 1d return</th>\n",
       "      <td>-0.126276</td>\n",
       "    </tr>\n",
       "    <tr>\n",
       "      <th>Worst 1w return</th>\n",
       "      <td>-0.107725</td>\n",
       "    </tr>\n",
       "    <tr>\n",
       "      <th>Worst 1m return</th>\n",
       "      <td>-0.152667</td>\n",
       "    </tr>\n",
       "  </tbody>\n",
       "</table>\n",
       "</div>"
      ],
      "text/plain": [
       "                 Trend-following portfolio (Moskowitz 2012)\n",
       "CAGR                                               0.147037\n",
       "Annualised vol                                     0.124966\n",
       "Sharpe ratio                                       1.176617\n",
       "Max drawdown                                       0.259239\n",
       "Calmar ratio                                       0.567186\n",
       "Skewness                                           0.073373\n",
       "Kurtosis                                          19.360599\n",
       "Worst return                                      -0.126276\n",
       "Worst 1d return                                   -0.126276\n",
       "Worst 1w return                                   -0.107725\n",
       "Worst 1m return                                   -0.152667"
      ]
     },
     "execution_count": 7,
     "metadata": {},
     "output_type": "execute_result"
    }
   ],
   "source": [
    "engine_original_eq.pipe(Performance).summary()"
   ]
  },
  {
   "cell_type": "markdown",
   "id": "1b4c6c48",
   "metadata": {
    "papermill": {
     "duration": 0.012203,
     "end_time": "2022-08-05T07:34:24.344761",
     "exception": false,
     "start_time": "2022-08-05T07:34:24.332558",
     "status": "completed"
    },
    "tags": []
   },
   "source": [
    "\n",
    "## Volatility estimator\n",
    "BK2020 proposes a few changes in order to enhance the original trend-following strategy Moskowitz et al reported. The first thing is to use a more sophisticated realised volatility estimators for volatility scaling. Moskowitz used the exponentially weighted standard deviation with close-to-close. On the other hand, BK2020 suggests to use Yang-Zhang estimator as it is much more efficient."
   ]
  },
  {
   "cell_type": "code",
   "execution_count": 8,
   "id": "4060f8af",
   "metadata": {
    "ExecuteTime": {
     "end_time": "2020-08-30T21:18:24.661167Z",
     "start_time": "2020-08-30T21:08:49.544232Z"
    },
    "execution": {
     "iopub.execute_input": "2022-08-05T07:34:24.367569Z",
     "iopub.status.busy": "2022-08-05T07:34:24.366995Z",
     "iopub.status.idle": "2022-08-05T07:54:33.213048Z",
     "shell.execute_reply": "2022-08-05T07:54:33.212389Z"
    },
    "papermill": {
     "duration": 1208.859728,
     "end_time": "2022-08-05T07:54:33.215006",
     "exception": false,
     "start_time": "2022-08-05T07:34:24.355278",
     "status": "completed"
    },
    "tags": []
   },
   "outputs": [],
   "source": [
    "engine_vol = BacktestEngine(\n",
    "    strategy=Strategy.DELTA_ONE.value,\n",
    "    instrument=all_futures_baltas2020.index,\n",
    "    signal=signal.ParallelSignal([\n",
    "        signal.VolatilityScale(volatility_type=RealisedVolatility.YZ.value,\n",
    "                               agg_method='rolling', window=21, min_periods=10,\n",
    "                               target_volatility=0.4, signal_cap=0.95, ann_factor=261),\n",
    "        signal.TSMOMMoskowitz2012(post_process=processing.AsFreq(freq='m', method='pad'))\n",
    "    ], weighting='product'),\n",
    "    weighting=Weighting.EQUAL_WEIGHT.value,\n",
    "    log_level=logging.WARN,\n",
    ")\n",
    "engine_vol.run()"
   ]
  },
  {
   "cell_type": "code",
   "execution_count": 9,
   "id": "c94aadee",
   "metadata": {
    "execution": {
     "iopub.execute_input": "2022-08-05T07:54:33.239496Z",
     "iopub.status.busy": "2022-08-05T07:54:33.239117Z",
     "iopub.status.idle": "2022-08-05T07:55:56.628906Z",
     "shell.execute_reply": "2022-08-05T07:55:56.628244Z"
    },
    "papermill": {
     "duration": 83.40407,
     "end_time": "2022-08-05T07:55:56.630823",
     "exception": false,
     "start_time": "2022-08-05T07:54:33.226753",
     "status": "completed"
    },
    "tags": []
   },
   "outputs": [],
   "source": [
    "engine_vol_eq = (engine_vol.calculate_equity_curve(calculate_net=False, rebalance_freq='m')\n",
    "                 .rename('Trend-following portfolio (YZ estimator)'))"
   ]
  },
  {
   "cell_type": "code",
   "execution_count": 10,
   "id": "e958c8e5",
   "metadata": {
    "execution": {
     "iopub.execute_input": "2022-08-05T07:55:56.654744Z",
     "iopub.status.busy": "2022-08-05T07:55:56.654304Z",
     "iopub.status.idle": "2022-08-05T07:55:57.244348Z",
     "shell.execute_reply": "2022-08-05T07:55:57.243654Z"
    },
    "papermill": {
     "duration": 0.604443,
     "end_time": "2022-08-05T07:55:57.246096",
     "exception": false,
     "start_time": "2022-08-05T07:55:56.641653",
     "status": "completed"
    },
    "tags": []
   },
   "outputs": [
    {
     "data": {
      "image/png": "[encoded data removed]",
      "text/plain": [
       "<Figure size 576x324 with 1 Axes>"
      ]
     },
     "metadata": {
      "needs_background": "light"
     },
     "output_type": "display_data"
    }
   ],
   "source": [
    "fig, ax = plt.subplots(figsize=(8, 4.5))\n",
    "engine_vol_eq.plot(ax=ax, logy=True);\n",
    "ax.set_title('Trend-following portfolio (YZ estimator)')\n",
    "ax.set_ylabel('Cumulative returns');"
   ]
  },
  {
   "cell_type": "code",
   "execution_count": 11,
   "id": "68edc5ca",
   "metadata": {
    "execution": {
     "iopub.execute_input": "2022-08-05T07:55:57.270561Z",
     "iopub.status.busy": "2022-08-05T07:55:57.269981Z",
     "iopub.status.idle": "2022-08-05T07:55:57.351652Z",
     "shell.execute_reply": "2022-08-05T07:55:57.350985Z"
    },
    "papermill": {
     "duration": 0.095575,
     "end_time": "2022-08-05T07:55:57.353392",
     "exception": false,
     "start_time": "2022-08-05T07:55:57.257817",
     "status": "completed"
    },
    "tags": []
   },
   "outputs": [
    {
     "data": {
      "text/html": [
       "<div>\n",
       "<style scoped>\n",
       "    .dataframe tbody tr th:only-of-type {\n",
       "        vertical-align: middle;\n",
       "    }\n",
       "\n",
       "    .dataframe tbody tr th {\n",
       "        vertical-align: top;\n",
       "    }\n",
       "\n",
       "    .dataframe thead th {\n",
       "        text-align: right;\n",
       "    }\n",
       "</style>\n",
       "<table border=\"1\" class=\"dataframe\">\n",
       "  <thead>\n",
       "    <tr style=\"text-align: right;\">\n",
       "      <th></th>\n",
       "      <th>Trend-following portfolio (YZ estimator)</th>\n",
       "    </tr>\n",
       "  </thead>\n",
       "  <tbody>\n",
       "    <tr>\n",
       "      <th>CAGR</th>\n",
       "      <td>0.148708</td>\n",
       "    </tr>\n",
       "    <tr>\n",
       "      <th>Annualised vol</th>\n",
       "      <td>0.127257</td>\n",
       "    </tr>\n",
       "    <tr>\n",
       "      <th>Sharpe ratio</th>\n",
       "      <td>1.168566</td>\n",
       "    </tr>\n",
       "    <tr>\n",
       "      <th>Max drawdown</th>\n",
       "      <td>0.305877</td>\n",
       "    </tr>\n",
       "    <tr>\n",
       "      <th>Calmar ratio</th>\n",
       "      <td>0.486171</td>\n",
       "    </tr>\n",
       "    <tr>\n",
       "      <th>Skewness</th>\n",
       "      <td>0.280710</td>\n",
       "    </tr>\n",
       "    <tr>\n",
       "      <th>Kurtosis</th>\n",
       "      <td>22.143470</td>\n",
       "    </tr>\n",
       "    <tr>\n",
       "      <th>Worst return</th>\n",
       "      <td>-0.137043</td>\n",
       "    </tr>\n",
       "    <tr>\n",
       "      <th>Worst 1d return</th>\n",
       "      <td>-0.137043</td>\n",
       "    </tr>\n",
       "    <tr>\n",
       "      <th>Worst 1w return</th>\n",
       "      <td>-0.098542</td>\n",
       "    </tr>\n",
       "    <tr>\n",
       "      <th>Worst 1m return</th>\n",
       "      <td>-0.169177</td>\n",
       "    </tr>\n",
       "  </tbody>\n",
       "</table>\n",
       "</div>"
      ],
      "text/plain": [
       "                 Trend-following portfolio (YZ estimator)\n",
       "CAGR                                             0.148708\n",
       "Annualised vol                                   0.127257\n",
       "Sharpe ratio                                     1.168566\n",
       "Max drawdown                                     0.305877\n",
       "Calmar ratio                                     0.486171\n",
       "Skewness                                         0.280710\n",
       "Kurtosis                                        22.143470\n",
       "Worst return                                    -0.137043\n",
       "Worst 1d return                                 -0.137043\n",
       "Worst 1w return                                 -0.098542\n",
       "Worst 1m return                                 -0.169177"
      ]
     },
     "execution_count": 11,
     "metadata": {},
     "output_type": "execute_result"
    }
   ],
   "source": [
    "engine_vol_eq.pipe(Performance).summary()"
   ]
  },
  {
   "cell_type": "markdown",
   "id": "d7ec9b61",
   "metadata": {
    "papermill": {
     "duration": 0.011271,
     "end_time": "2022-08-05T07:55:57.376129",
     "exception": false,
     "start_time": "2022-08-05T07:55:57.364858",
     "status": "completed"
    },
    "tags": []
   },
   "source": [
    "## TREND signal\n",
    "\n",
    "Another improvement BK2020 proposes is to use a continuous signal rather than a binary one in order to reduce the turnover when signals are weak. Specifically they used the t-values with the Newey-West standard error as the signal. They further capped and floored the signal between -1 and +1 to avoid extreme positions.\n",
    "\n",
    "`statsmodels`'s `OLS` class provides a method to compute the Newey-West standard error. https://www.statsmodels.org/stable/generated/statsmodels.regression.linear_model.OLS.html"
   ]
  },
  {
   "cell_type": "code",
   "execution_count": 12,
   "id": "9256b219",
   "metadata": {
    "execution": {
     "iopub.execute_input": "2022-08-05T07:55:57.399804Z",
     "iopub.status.busy": "2022-08-05T07:55:57.399529Z",
     "iopub.status.idle": "2022-08-05T08:13:29.035979Z",
     "shell.execute_reply": "2022-08-05T08:13:29.035160Z"
    },
    "papermill": {
     "duration": 1051.651377,
     "end_time": "2022-08-05T08:13:29.038528",
     "exception": false,
     "start_time": "2022-08-05T07:55:57.387151",
     "status": "completed"
    },
    "tags": []
   },
   "outputs": [],
   "source": [
    "engine_trend = BacktestEngine(\n",
    "    strategy=Strategy.DELTA_ONE.value,\n",
    "    instrument=all_futures_baltas2020.index,\n",
    "    signal=signal.ParallelSignal([\n",
    "        signal.VolatilityScale(agg_method='rolling', window=21, ann_factor=261, \n",
    "                               target_volatility=0.4, signal_cap=0.95),\n",
    "        signal.TSMOMBaltas2020()\n",
    "    ], weighting='product'),\n",
    "    weighting=Weighting.EQUAL_WEIGHT.value,\n",
    "    log_level=logging.WARN,\n",
    ")\n",
    "engine_trend.run()"
   ]
  },
  {
   "cell_type": "code",
   "execution_count": 13,
   "id": "dce667ef",
   "metadata": {
    "execution": {
     "iopub.execute_input": "2022-08-05T08:13:29.074198Z",
     "iopub.status.busy": "2022-08-05T08:13:29.073930Z",
     "iopub.status.idle": "2022-08-05T08:14:55.291081Z",
     "shell.execute_reply": "2022-08-05T08:14:55.290366Z"
    },
    "papermill": {
     "duration": 86.237289,
     "end_time": "2022-08-05T08:14:55.293057",
     "exception": false,
     "start_time": "2022-08-05T08:13:29.055768",
     "status": "completed"
    },
    "tags": []
   },
   "outputs": [],
   "source": [
    "engine_trend_eq = (engine_trend.calculate_equity_curve(calculate_net=False, rebalance_freq='m')\n",
    "                   .rename('Trend-following portfolio (TREND signal)'))"
   ]
  },
  {
   "cell_type": "code",
   "execution_count": 14,
   "id": "736986cd",
   "metadata": {
    "execution": {
     "iopub.execute_input": "2022-08-05T08:14:55.317132Z",
     "iopub.status.busy": "2022-08-05T08:14:55.316794Z",
     "iopub.status.idle": "2022-08-05T08:14:55.942493Z",
     "shell.execute_reply": "2022-08-05T08:14:55.941675Z"
    },
    "papermill": {
     "duration": 0.63991,
     "end_time": "2022-08-05T08:14:55.944268",
     "exception": false,
     "start_time": "2022-08-05T08:14:55.304358",
     "status": "completed"
    },
    "tags": []
   },
   "outputs": [
    {
     "data": {
      "image/png": "[encoded data removed]",
      "text/plain": [
       "<Figure size 576x324 with 1 Axes>"
      ]
     },
     "metadata": {
      "needs_background": "light"
     },
     "output_type": "display_data"
    }
   ],
   "source": [
    "fig, ax = plt.subplots(figsize=(8, 4.5))\n",
    "engine_trend_eq.plot(ax=ax, logy=True);\n",
    "ax.set_title('Trend-following portfolio (TREND signal)')\n",
    "ax.set_ylabel('Cumulative returns');"
   ]
  },
  {
   "cell_type": "code",
   "execution_count": 15,
   "id": "b06d5aeb",
   "metadata": {
    "execution": {
     "iopub.execute_input": "2022-08-05T08:14:55.969427Z",
     "iopub.status.busy": "2022-08-05T08:14:55.969107Z",
     "iopub.status.idle": "2022-08-05T08:14:56.050322Z",
     "shell.execute_reply": "2022-08-05T08:14:56.049581Z"
    },
    "papermill": {
     "duration": 0.096011,
     "end_time": "2022-08-05T08:14:56.052182",
     "exception": false,
     "start_time": "2022-08-05T08:14:55.956171",
     "status": "completed"
    },
    "tags": []
   },
   "outputs": [
    {
     "data": {
      "text/html": [
       "<div>\n",
       "<style scoped>\n",
       "    .dataframe tbody tr th:only-of-type {\n",
       "        vertical-align: middle;\n",
       "    }\n",
       "\n",
       "    .dataframe tbody tr th {\n",
       "        vertical-align: top;\n",
       "    }\n",
       "\n",
       "    .dataframe thead th {\n",
       "        text-align: right;\n",
       "    }\n",
       "</style>\n",
       "<table border=\"1\" class=\"dataframe\">\n",
       "  <thead>\n",
       "    <tr style=\"text-align: right;\">\n",
       "      <th></th>\n",
       "      <th>Trend-following portfolio (TREND signal)</th>\n",
       "    </tr>\n",
       "  </thead>\n",
       "  <tbody>\n",
       "    <tr>\n",
       "      <th>CAGR</th>\n",
       "      <td>0.139125</td>\n",
       "    </tr>\n",
       "    <tr>\n",
       "      <th>Annualised vol</th>\n",
       "      <td>0.107930</td>\n",
       "    </tr>\n",
       "    <tr>\n",
       "      <th>Sharpe ratio</th>\n",
       "      <td>1.289028</td>\n",
       "    </tr>\n",
       "    <tr>\n",
       "      <th>Max drawdown</th>\n",
       "      <td>0.294584</td>\n",
       "    </tr>\n",
       "    <tr>\n",
       "      <th>Calmar ratio</th>\n",
       "      <td>0.472276</td>\n",
       "    </tr>\n",
       "    <tr>\n",
       "      <th>Skewness</th>\n",
       "      <td>0.159372</td>\n",
       "    </tr>\n",
       "    <tr>\n",
       "      <th>Kurtosis</th>\n",
       "      <td>28.029831</td>\n",
       "    </tr>\n",
       "    <tr>\n",
       "      <th>Worst return</th>\n",
       "      <td>-0.121269</td>\n",
       "    </tr>\n",
       "    <tr>\n",
       "      <th>Worst 1d return</th>\n",
       "      <td>-0.121269</td>\n",
       "    </tr>\n",
       "    <tr>\n",
       "      <th>Worst 1w return</th>\n",
       "      <td>-0.110077</td>\n",
       "    </tr>\n",
       "    <tr>\n",
       "      <th>Worst 1m return</th>\n",
       "      <td>-0.171789</td>\n",
       "    </tr>\n",
       "  </tbody>\n",
       "</table>\n",
       "</div>"
      ],
      "text/plain": [
       "                 Trend-following portfolio (TREND signal)\n",
       "CAGR                                             0.139125\n",
       "Annualised vol                                   0.107930\n",
       "Sharpe ratio                                     1.289028\n",
       "Max drawdown                                     0.294584\n",
       "Calmar ratio                                     0.472276\n",
       "Skewness                                         0.159372\n",
       "Kurtosis                                        28.029831\n",
       "Worst return                                    -0.121269\n",
       "Worst 1d return                                 -0.121269\n",
       "Worst 1w return                                 -0.110077\n",
       "Worst 1m return                                 -0.171789"
      ]
     },
     "execution_count": 15,
     "metadata": {},
     "output_type": "execute_result"
    }
   ],
   "source": [
    "engine_trend_eq.pipe(Performance).summary()"
   ]
  },
  {
   "cell_type": "markdown",
   "id": "a5616f53",
   "metadata": {
    "papermill": {
     "duration": 0.011823,
     "end_time": "2022-08-05T08:14:56.075791",
     "exception": false,
     "start_time": "2022-08-05T08:14:56.063968",
     "status": "completed"
    },
    "tags": []
   },
   "source": [
    "## Combined\n",
    "\n",
    "Finally we run a backtest by using both the Yang-Zhang volatility estimator and the TREND signal."
   ]
  },
  {
   "cell_type": "code",
   "execution_count": 16,
   "id": "cc1d6ed9",
   "metadata": {
    "execution": {
     "iopub.execute_input": "2022-08-05T08:14:56.100881Z",
     "iopub.status.busy": "2022-08-05T08:14:56.100542Z",
     "iopub.status.idle": "2022-08-05T08:41:28.795179Z",
     "shell.execute_reply": "2022-08-05T08:41:28.794416Z"
    },
    "papermill": {
     "duration": 1592.709576,
     "end_time": "2022-08-05T08:41:28.797156",
     "exception": false,
     "start_time": "2022-08-05T08:14:56.087580",
     "status": "completed"
    },
    "tags": []
   },
   "outputs": [],
   "source": [
    "engine_combined = BacktestEngine(\n",
    "    strategy=Strategy.DELTA_ONE.value,\n",
    "    instrument=all_futures_baltas2020.index,\n",
    "    signal=signal.ParallelSignal([\n",
    "        signal.VolatilityScale(volatility_type=RealisedVolatility.YZ.value,\n",
    "                               agg_method='rolling', window=21, min_periods=10,\n",
    "                               target_volatility=0.4, signal_cap=0.95, ann_factor=261),\n",
    "        signal.TSMOMBaltas2020()\n",
    "    ], weighting='product'),\n",
    "    weighting=Weighting.EQUAL_WEIGHT.value,\n",
    "    log_level=logging.WARN,\n",
    ")\n",
    "engine_combined.run()"
   ]
  },
  {
   "cell_type": "code",
   "execution_count": 17,
   "id": "81bc8cad",
   "metadata": {
    "execution": {
     "iopub.execute_input": "2022-08-05T08:41:28.822674Z",
     "iopub.status.busy": "2022-08-05T08:41:28.822403Z",
     "iopub.status.idle": "2022-08-05T08:42:51.334402Z",
     "shell.execute_reply": "2022-08-05T08:42:51.333717Z"
    },
    "papermill": {
     "duration": 82.526907,
     "end_time": "2022-08-05T08:42:51.336254",
     "exception": false,
     "start_time": "2022-08-05T08:41:28.809347",
     "status": "completed"
    },
    "tags": []
   },
   "outputs": [],
   "source": [
    "engine_combined_eq = (engine_combined.calculate_equity_curve(calculate_net=False, rebalance_freq='m')\n",
    "                      .rename('Trend-following portfolio (YZ estimator + TREND signal)'))"
   ]
  },
  {
   "cell_type": "code",
   "execution_count": 18,
   "id": "a709a1db",
   "metadata": {
    "execution": {
     "iopub.execute_input": "2022-08-05T08:42:51.360479Z",
     "iopub.status.busy": "2022-08-05T08:42:51.360215Z",
     "iopub.status.idle": "2022-08-05T08:42:51.912022Z",
     "shell.execute_reply": "2022-08-05T08:42:51.911374Z"
    },
    "papermill": {
     "duration": 0.565949,
     "end_time": "2022-08-05T08:42:51.913665",
     "exception": false,
     "start_time": "2022-08-05T08:42:51.347716",
     "status": "completed"
    },
    "tags": []
   },
   "outputs": [
    {
     "data": {
      "image/png": "[encoded data removed]",
      "text/plain": [
       "<Figure size 576x324 with 1 Axes>"
      ]
     },
     "metadata": {
      "needs_background": "light"
     },
     "output_type": "display_data"
    }
   ],
   "source": [
    "fig, ax = plt.subplots(figsize=(8, 4.5))\n",
    "engine_combined_eq.plot(ax=ax, logy=True)\n",
    "ax.set_title('Trend-following portfolio (YZ estimator + TREND signal)')\n",
    "ax.set_ylabel('Cumulative returns');"
   ]
  },
  {
   "cell_type": "code",
   "execution_count": 19,
   "id": "251125c3",
   "metadata": {
    "execution": {
     "iopub.execute_input": "2022-08-05T08:42:51.944467Z",
     "iopub.status.busy": "2022-08-05T08:42:51.944210Z",
     "iopub.status.idle": "2022-08-05T08:42:52.022655Z",
     "shell.execute_reply": "2022-08-05T08:42:52.021955Z"
    },
    "papermill": {
     "duration": 0.098257,
     "end_time": "2022-08-05T08:42:52.024298",
     "exception": false,
     "start_time": "2022-08-05T08:42:51.926041",
     "status": "completed"
    },
    "tags": []
   },
   "outputs": [
    {
     "data": {
      "text/html": [
       "<div>\n",
       "<style scoped>\n",
       "    .dataframe tbody tr th:only-of-type {\n",
       "        vertical-align: middle;\n",
       "    }\n",
       "\n",
       "    .dataframe tbody tr th {\n",
       "        vertical-align: top;\n",
       "    }\n",
       "\n",
       "    .dataframe thead th {\n",
       "        text-align: right;\n",
       "    }\n",
       "</style>\n",
       "<table border=\"1\" class=\"dataframe\">\n",
       "  <thead>\n",
       "    <tr style=\"text-align: right;\">\n",
       "      <th></th>\n",
       "      <th>Trend-following portfolio (YZ estimator + TREND signal)</th>\n",
       "    </tr>\n",
       "  </thead>\n",
       "  <tbody>\n",
       "    <tr>\n",
       "      <th>CAGR</th>\n",
       "      <td>0.139588</td>\n",
       "    </tr>\n",
       "    <tr>\n",
       "      <th>Annualised vol</th>\n",
       "      <td>0.110666</td>\n",
       "    </tr>\n",
       "    <tr>\n",
       "      <th>Sharpe ratio</th>\n",
       "      <td>1.261347</td>\n",
       "    </tr>\n",
       "    <tr>\n",
       "      <th>Max drawdown</th>\n",
       "      <td>0.313945</td>\n",
       "    </tr>\n",
       "    <tr>\n",
       "      <th>Calmar ratio</th>\n",
       "      <td>0.444626</td>\n",
       "    </tr>\n",
       "    <tr>\n",
       "      <th>Skewness</th>\n",
       "      <td>0.292985</td>\n",
       "    </tr>\n",
       "    <tr>\n",
       "      <th>Kurtosis</th>\n",
       "      <td>32.552701</td>\n",
       "    </tr>\n",
       "    <tr>\n",
       "      <th>Worst return</th>\n",
       "      <td>-0.130152</td>\n",
       "    </tr>\n",
       "    <tr>\n",
       "      <th>Worst 1d return</th>\n",
       "      <td>-0.130152</td>\n",
       "    </tr>\n",
       "    <tr>\n",
       "      <th>Worst 1w return</th>\n",
       "      <td>-0.112097</td>\n",
       "    </tr>\n",
       "    <tr>\n",
       "      <th>Worst 1m return</th>\n",
       "      <td>-0.186272</td>\n",
       "    </tr>\n",
       "  </tbody>\n",
       "</table>\n",
       "</div>"
      ],
      "text/plain": [
       "                 Trend-following portfolio (YZ estimator + TREND signal)\n",
       "CAGR                                                      0.139588      \n",
       "Annualised vol                                            0.110666      \n",
       "Sharpe ratio                                              1.261347      \n",
       "Max drawdown                                              0.313945      \n",
       "Calmar ratio                                              0.444626      \n",
       "Skewness                                                  0.292985      \n",
       "Kurtosis                                                 32.552701      \n",
       "Worst return                                             -0.130152      \n",
       "Worst 1d return                                          -0.130152      \n",
       "Worst 1w return                                          -0.112097      \n",
       "Worst 1m return                                          -0.186272      "
      ]
     },
     "execution_count": 19,
     "metadata": {},
     "output_type": "execute_result"
    }
   ],
   "source": [
    "engine_combined_eq.pipe(Performance).summary()"
   ]
  },
  {
   "cell_type": "markdown",
   "id": "bfab45a9",
   "metadata": {
    "papermill": {
     "duration": 0.012244,
     "end_time": "2022-08-05T08:42:52.049291",
     "exception": false,
     "start_time": "2022-08-05T08:42:52.037047",
     "status": "completed"
    },
    "tags": []
   },
   "source": [
    "# Comparison\n",
    "\n",
    "In this section we compare the above 4 backtests."
   ]
  },
  {
   "cell_type": "markdown",
   "id": "9d51c7da",
   "metadata": {
    "papermill": {
     "duration": 0.043267,
     "end_time": "2022-08-05T08:42:52.104337",
     "exception": false,
     "start_time": "2022-08-05T08:42:52.061070",
     "status": "completed"
    },
    "tags": []
   },
   "source": [
    "## Performance\n",
    "\n",
    "As reported in BK2020, using the YZ estimator and TREND signal does not alter the performance characteristics. Rather, the TREND signal somewhat improves the Sharpe ratio. Also the TREND signal lowers the annualised volatility from 12.5% to 10.8% with the close-to-close realised volatility."
   ]
  },
  {
   "cell_type": "code",
   "execution_count": 20,
   "id": "d8229362",
   "metadata": {
    "execution": {
     "iopub.execute_input": "2022-08-05T08:42:52.129394Z",
     "iopub.status.busy": "2022-08-05T08:42:52.129132Z",
     "iopub.status.idle": "2022-08-05T08:42:52.141841Z",
     "shell.execute_reply": "2022-08-05T08:42:52.141176Z"
    },
    "papermill": {
     "duration": 0.027368,
     "end_time": "2022-08-05T08:42:52.143708",
     "exception": false,
     "start_time": "2022-08-05T08:42:52.116340",
     "status": "completed"
    },
    "tags": []
   },
   "outputs": [],
   "source": [
    "performance_comp = pd.concat((engine_original_eq, engine_vol_eq, \n",
    "                              engine_trend_eq, engine_combined_eq), axis=1)"
   ]
  },
  {
   "cell_type": "code",
   "execution_count": 21,
   "id": "d39bd7e9",
   "metadata": {
    "execution": {
     "iopub.execute_input": "2022-08-05T08:42:52.169251Z",
     "iopub.status.busy": "2022-08-05T08:42:52.168998Z",
     "iopub.status.idle": "2022-08-05T08:42:52.930252Z",
     "shell.execute_reply": "2022-08-05T08:42:52.929548Z"
    },
    "papermill": {
     "duration": 0.775666,
     "end_time": "2022-08-05T08:42:52.931888",
     "exception": false,
     "start_time": "2022-08-05T08:42:52.156222",
     "status": "completed"
    },
    "tags": []
   },
   "outputs": [
    {
     "data": {
      "image/png": "[encoded data removed]",
      "text/plain": [
       "<Figure size 576x324 with 1 Axes>"
      ]
     },
     "metadata": {
      "needs_background": "light"
     },
     "output_type": "display_data"
    }
   ],
   "source": [
    "fig, ax = plt.subplots(figsize=(8, 4.5))\n",
    "performance_comp.plot(ax=ax, logy=True);\n",
    "ax.set_title('Trend-following portfolio')\n",
    "ax.set_ylabel('Cumulative returns');"
   ]
  },
  {
   "cell_type": "code",
   "execution_count": 22,
   "id": "11ac2c1d",
   "metadata": {
    "execution": {
     "iopub.execute_input": "2022-08-05T08:42:52.958651Z",
     "iopub.status.busy": "2022-08-05T08:42:52.958398Z",
     "iopub.status.idle": "2022-08-05T08:42:53.059430Z",
     "shell.execute_reply": "2022-08-05T08:42:53.058766Z"
    },
    "papermill": {
     "duration": 0.116797,
     "end_time": "2022-08-05T08:42:53.061095",
     "exception": false,
     "start_time": "2022-08-05T08:42:52.944298",
     "status": "completed"
    },
    "tags": []
   },
   "outputs": [
    {
     "data": {
      "text/html": [
       "<div>\n",
       "<style scoped>\n",
       "    .dataframe tbody tr th:only-of-type {\n",
       "        vertical-align: middle;\n",
       "    }\n",
       "\n",
       "    .dataframe tbody tr th {\n",
       "        vertical-align: top;\n",
       "    }\n",
       "\n",
       "    .dataframe thead th {\n",
       "        text-align: right;\n",
       "    }\n",
       "</style>\n",
       "<table border=\"1\" class=\"dataframe\">\n",
       "  <thead>\n",
       "    <tr style=\"text-align: right;\">\n",
       "      <th></th>\n",
       "      <th>Trend-following portfolio (Moskowitz 2012)</th>\n",
       "      <th>Trend-following portfolio (YZ estimator)</th>\n",
       "      <th>Trend-following portfolio (TREND signal)</th>\n",
       "      <th>Trend-following portfolio (YZ estimator + TREND signal)</th>\n",
       "    </tr>\n",
       "  </thead>\n",
       "  <tbody>\n",
       "    <tr>\n",
       "      <th>CAGR</th>\n",
       "      <td>0.147037</td>\n",
       "      <td>0.148343</td>\n",
       "      <td>0.139125</td>\n",
       "      <td>0.139245</td>\n",
       "    </tr>\n",
       "    <tr>\n",
       "      <th>Annualised vol</th>\n",
       "      <td>0.124966</td>\n",
       "      <td>0.127101</td>\n",
       "      <td>0.107930</td>\n",
       "      <td>0.110531</td>\n",
       "    </tr>\n",
       "    <tr>\n",
       "      <th>Sharpe ratio</th>\n",
       "      <td>1.176617</td>\n",
       "      <td>1.167119</td>\n",
       "      <td>1.289028</td>\n",
       "      <td>1.259784</td>\n",
       "    </tr>\n",
       "    <tr>\n",
       "      <th>Max drawdown</th>\n",
       "      <td>0.259239</td>\n",
       "      <td>0.305877</td>\n",
       "      <td>0.294584</td>\n",
       "      <td>0.313945</td>\n",
       "    </tr>\n",
       "    <tr>\n",
       "      <th>Calmar ratio</th>\n",
       "      <td>0.567186</td>\n",
       "      <td>0.484975</td>\n",
       "      <td>0.472276</td>\n",
       "      <td>0.443533</td>\n",
       "    </tr>\n",
       "    <tr>\n",
       "      <th>Skewness</th>\n",
       "      <td>0.073373</td>\n",
       "      <td>0.281622</td>\n",
       "      <td>0.159372</td>\n",
       "      <td>0.293949</td>\n",
       "    </tr>\n",
       "    <tr>\n",
       "      <th>Kurtosis</th>\n",
       "      <td>19.360599</td>\n",
       "      <td>22.204894</td>\n",
       "      <td>28.029831</td>\n",
       "      <td>32.639339</td>\n",
       "    </tr>\n",
       "    <tr>\n",
       "      <th>Worst return</th>\n",
       "      <td>-0.126276</td>\n",
       "      <td>-0.137043</td>\n",
       "      <td>-0.121269</td>\n",
       "      <td>-0.130152</td>\n",
       "    </tr>\n",
       "    <tr>\n",
       "      <th>Worst 1d return</th>\n",
       "      <td>-0.126276</td>\n",
       "      <td>-0.137043</td>\n",
       "      <td>-0.121269</td>\n",
       "      <td>-0.130152</td>\n",
       "    </tr>\n",
       "    <tr>\n",
       "      <th>Worst 1w return</th>\n",
       "      <td>-0.107725</td>\n",
       "      <td>-0.098542</td>\n",
       "      <td>-0.110077</td>\n",
       "      <td>-0.112097</td>\n",
       "    </tr>\n",
       "    <tr>\n",
       "      <th>Worst 1m return</th>\n",
       "      <td>-0.152667</td>\n",
       "      <td>-0.169177</td>\n",
       "      <td>-0.171789</td>\n",
       "      <td>-0.186272</td>\n",
       "    </tr>\n",
       "  </tbody>\n",
       "</table>\n",
       "</div>"
      ],
      "text/plain": [
       "                 Trend-following portfolio (Moskowitz 2012)  \\\n",
       "CAGR                                               0.147037   \n",
       "Annualised vol                                     0.124966   \n",
       "Sharpe ratio                                       1.176617   \n",
       "Max drawdown                                       0.259239   \n",
       "Calmar ratio                                       0.567186   \n",
       "Skewness                                           0.073373   \n",
       "Kurtosis                                          19.360599   \n",
       "Worst return                                      -0.126276   \n",
       "Worst 1d return                                   -0.126276   \n",
       "Worst 1w return                                   -0.107725   \n",
       "Worst 1m return                                   -0.152667   \n",
       "\n",
       "                 Trend-following portfolio (YZ estimator)  \\\n",
       "CAGR                                             0.148343   \n",
       "Annualised vol                                   0.127101   \n",
       "Sharpe ratio                                     1.167119   \n",
       "Max drawdown                                     0.305877   \n",
       "Calmar ratio                                     0.484975   \n",
       "Skewness                                         0.281622   \n",
       "Kurtosis                                        22.204894   \n",
       "Worst return                                    -0.137043   \n",
       "Worst 1d return                                 -0.137043   \n",
       "Worst 1w return                                 -0.098542   \n",
       "Worst 1m return                                 -0.169177   \n",
       "\n",
       "                 Trend-following portfolio (TREND signal)  \\\n",
       "CAGR                                             0.139125   \n",
       "Annualised vol                                   0.107930   \n",
       "Sharpe ratio                                     1.289028   \n",
       "Max drawdown                                     0.294584   \n",
       "Calmar ratio                                     0.472276   \n",
       "Skewness                                         0.159372   \n",
       "Kurtosis                                        28.029831   \n",
       "Worst return                                    -0.121269   \n",
       "Worst 1d return                                 -0.121269   \n",
       "Worst 1w return                                 -0.110077   \n",
       "Worst 1m return                                 -0.171789   \n",
       "\n",
       "                 Trend-following portfolio (YZ estimator + TREND signal)  \n",
       "CAGR                                                      0.139245        \n",
       "Annualised vol                                            0.110531        \n",
       "Sharpe ratio                                              1.259784        \n",
       "Max drawdown                                              0.313945        \n",
       "Calmar ratio                                              0.443533        \n",
       "Skewness                                                  0.293949        \n",
       "Kurtosis                                                 32.639339        \n",
       "Worst return                                             -0.130152        \n",
       "Worst 1d return                                          -0.130152        \n",
       "Worst 1w return                                          -0.112097        \n",
       "Worst 1m return                                          -0.186272        "
      ]
     },
     "execution_count": 22,
     "metadata": {},
     "output_type": "execute_result"
    }
   ],
   "source": [
    "performance_comp.pipe(Performance).summary()"
   ]
  },
  {
   "cell_type": "markdown",
   "id": "72731a3b",
   "metadata": {
    "papermill": {
     "duration": 0.01294,
     "end_time": "2022-08-05T08:42:53.087343",
     "exception": false,
     "start_time": "2022-08-05T08:42:53.074403",
     "status": "completed"
    },
    "tags": []
   },
   "source": [
    "## Turnover reduction\n",
    "\n",
    "Again, as reported in BK2020, both enhancements reduce the turnover significantly while not affecting the performance. The chart below shows the reduction in turnover for each futures contract. By utilising the YZ realised volatility and the TREND signal, overall the turnover is reduced by more than 30%."
   ]
  },
  {
   "cell_type": "code",
   "execution_count": 23,
   "id": "97a1da6f",
   "metadata": {
    "execution": {
     "iopub.execute_input": "2022-08-05T08:42:53.114466Z",
     "iopub.status.busy": "2022-08-05T08:42:53.114202Z",
     "iopub.status.idle": "2022-08-05T08:48:04.633507Z",
     "shell.execute_reply": "2022-08-05T08:48:04.632821Z"
    },
    "papermill": {
     "duration": 311.535076,
     "end_time": "2022-08-05T08:48:04.635273",
     "exception": false,
     "start_time": "2022-08-05T08:42:53.100197",
     "status": "completed"
    },
    "tags": []
   },
   "outputs": [],
   "source": [
    "engine_original_pos = engine_original.get_position_by_instrument()\n",
    "engine_vol_pos = engine_vol.get_position_by_instrument()\n",
    "engine_trend_pos = engine_trend.get_position_by_instrument()\n",
    "engine_combined_pos = engine_combined.get_position_by_instrument()"
   ]
  },
  {
   "cell_type": "code",
   "execution_count": 24,
   "id": "d09db691",
   "metadata": {
    "execution": {
     "iopub.execute_input": "2022-08-05T08:48:04.664109Z",
     "iopub.status.busy": "2022-08-05T08:48:04.663835Z",
     "iopub.status.idle": "2022-08-05T08:48:04.695500Z",
     "shell.execute_reply": "2022-08-05T08:48:04.694729Z"
    },
    "papermill": {
     "duration": 0.0476,
     "end_time": "2022-08-05T08:48:04.697477",
     "exception": false,
     "start_time": "2022-08-05T08:48:04.649877",
     "status": "completed"
    },
    "tags": []
   },
   "outputs": [],
   "source": [
    "engine_original_turnover = (engine_original_pos.diff().abs().mean().mul(261)\n",
    "                            .rename('Trend-following portfolio (Moskowitz 2012)'))\n",
    "engine_vol_turnover = (engine_vol_pos.diff().abs().mean().mul(261)\n",
    "                       .rename('Trend-following portfolio (YZ estimator)'))\n",
    "engine_trend_turnover = (engine_trend_pos.diff().abs().mean().mul(261)\n",
    "                         .rename('Trend-following portfolio (TREND signal)'))\n",
    "engine_combined_turnover = (engine_combined_pos.diff().abs().mean().mul(261)\n",
    "                            .rename('Trend-following portfolio (YZ estimator + TREND signal)'))"
   ]
  },
  {
   "cell_type": "code",
   "execution_count": 25,
   "id": "232639c4",
   "metadata": {
    "execution": {
     "iopub.execute_input": "2022-08-05T08:48:04.723795Z",
     "iopub.status.busy": "2022-08-05T08:48:04.723527Z",
     "iopub.status.idle": "2022-08-05T08:48:04.730463Z",
     "shell.execute_reply": "2022-08-05T08:48:04.729769Z"
    },
    "papermill": {
     "duration": 0.02208,
     "end_time": "2022-08-05T08:48:04.732097",
     "exception": false,
     "start_time": "2022-08-05T08:48:04.710017",
     "status": "completed"
    },
    "tags": []
   },
   "outputs": [],
   "source": [
    "turnover_reduction = (\n",
    "    pd.concat((engine_vol_turnover, engine_trend_turnover, engine_combined_turnover), axis=1)\n",
    "    .div(engine_original_turnover, axis=0)\n",
    "    .sub(1)\n",
    "    .reindex(index=all_futures_baltas2020.index)\n",
    "    .rename(index=all_futures_baltas2020['name'])\n",
    ")"
   ]
  },
  {
   "cell_type": "code",
   "execution_count": 26,
   "id": "8268d269",
   "metadata": {
    "execution": {
     "iopub.execute_input": "2022-08-05T08:48:04.759062Z",
     "iopub.status.busy": "2022-08-05T08:48:04.758632Z",
     "iopub.status.idle": "2022-08-05T08:48:04.764564Z",
     "shell.execute_reply": "2022-08-05T08:48:04.763948Z"
    },
    "papermill": {
     "duration": 0.021082,
     "end_time": "2022-08-05T08:48:04.766215",
     "exception": false,
     "start_time": "2022-08-05T08:48:04.745133",
     "status": "completed"
    },
    "tags": []
   },
   "outputs": [
    {
     "data": {
      "text/plain": [
       "Trend-following portfolio (YZ estimator)                  -0.181134\n",
       "Trend-following portfolio (TREND signal)                  -0.207163\n",
       "Trend-following portfolio (YZ estimator + TREND signal)   -0.330519\n",
       "dtype: float64"
      ]
     },
     "execution_count": 26,
     "metadata": {},
     "output_type": "execute_result"
    }
   ],
   "source": [
    "turnover_reduction.mean()"
   ]
  },
  {
   "cell_type": "code",
   "execution_count": 27,
   "id": "d7fcae76",
   "metadata": {
    "execution": {
     "iopub.execute_input": "2022-08-05T08:48:04.795257Z",
     "iopub.status.busy": "2022-08-05T08:48:04.794989Z",
     "iopub.status.idle": "2022-08-05T08:48:06.454411Z",
     "shell.execute_reply": "2022-08-05T08:48:06.453631Z"
    },
    "papermill": {
     "duration": 1.677085,
     "end_time": "2022-08-05T08:48:06.456178",
     "exception": false,
     "start_time": "2022-08-05T08:48:04.779093",
     "status": "completed"
    },
    "tags": []
   },
   "outputs": [
    {
     "data": {
      "image/png": "[encoded data removed]",
      "text/plain": [
       "<Figure size 1008x288 with 1 Axes>"
      ]
     },
     "metadata": {
      "needs_background": "light"
     },
     "output_type": "display_data"
    }
   ],
   "source": [
    "ax = turnover_reduction.plot(kind='bar', figsize=(14, 4))\n",
    "ax.yaxis.set_major_formatter(mticker.PercentFormatter(1))\n",
    "ax.axhline(0, color='black', lw=1)\n",
    "ax.axvline(24.5, color='black', lw=1)\n",
    "ax.axvline(30.5, color='black', lw=1)\n",
    "ax.axvline(42.5, color='black', lw=1)\n",
    "ax.set_xlabel('Contract')\n",
    "ax.set_ylabel('Turnover reduction');"
   ]
  },
  {
   "cell_type": "markdown",
   "id": "685e9273",
   "metadata": {
    "papermill": {
     "duration": 0.013608,
     "end_time": "2022-08-05T08:48:06.483472",
     "exception": false,
     "start_time": "2022-08-05T08:48:06.469864",
     "status": "completed"
    },
    "tags": []
   },
   "source": [
    "# Recent performance"
   ]
  },
  {
   "cell_type": "code",
   "execution_count": 28,
   "id": "0b689e15",
   "metadata": {
    "execution": {
     "iopub.execute_input": "2022-08-05T08:48:06.512052Z",
     "iopub.status.busy": "2022-08-05T08:48:06.511782Z",
     "iopub.status.idle": "2022-08-05T08:48:06.967336Z",
     "shell.execute_reply": "2022-08-05T08:48:06.966603Z"
    },
    "papermill": {
     "duration": 0.471972,
     "end_time": "2022-08-05T08:48:06.969075",
     "exception": false,
     "start_time": "2022-08-05T08:48:06.497103",
     "status": "completed"
    },
    "tags": []
   },
   "outputs": [
    {
     "data": {
      "image/png": "[encoded data removed]",
      "text/plain": [
       "<Figure size 576x324 with 1 Axes>"
      ]
     },
     "metadata": {
      "needs_background": "light"
     },
     "output_type": "display_data"
    }
   ],
   "source": [
    "fig, ax = plt.subplots(figsize=(8, 4.5))\n",
    "performance_comp.tail(252 * 2).pct_change().fillna(0).add(1).cumprod().plot(ax=ax, logy=True);\n",
    "ax.set_title('Trend-following portfolio')\n",
    "ax.set_ylabel('Cumulative returns');"
   ]
  },
  {
   "cell_type": "markdown",
   "id": "554f2fb9",
   "metadata": {
    "papermill": {
     "duration": 0.014569,
     "end_time": "2022-08-05T08:48:06.998489",
     "exception": false,
     "start_time": "2022-08-05T08:48:06.983920",
     "status": "completed"
    },
    "tags": []
   },
   "source": [
    "# Reference\n",
    "\n",
    "- Baltas, N. and Kosowski, R., 2020. Demystifying time-series momentum strategies: Volatility estimators, trading rules and pairwise correlations. Market Momentum: Theory and Practice\", Wiley.\n",
    "- Moskowitz, T.J., Ooi, Y.H. and Pedersen, L.H., 2012. Time series momentum. Journal of financial economics, 104(2), pp.228-250."
   ]
  },
  {
   "cell_type": "code",
   "execution_count": 29,
   "id": "186a03a8",
   "metadata": {
    "ExecuteTime": {
     "end_time": "2020-08-30T21:20:32.431574Z",
     "start_time": "2020-08-30T21:20:32.429370Z"
    },
    "execution": {
     "iopub.execute_input": "2022-08-05T08:48:07.028483Z",
     "iopub.status.busy": "2022-08-05T08:48:07.028217Z",
     "iopub.status.idle": "2022-08-05T08:48:07.031947Z",
     "shell.execute_reply": "2022-08-05T08:48:07.031374Z"
    },
    "papermill": {
     "duration": 0.020809,
     "end_time": "2022-08-05T08:48:07.033691",
     "exception": false,
     "start_time": "2022-08-05T08:48:07.012882",
     "status": "completed"
    },
    "tags": []
   },
   "outputs": [
    {
     "name": "stdout",
     "output_type": "stream",
     "text": [
      "Updated: 05-Aug-2022 08:48\n"
     ]
    }
   ],
   "source": [
    "print(f'Updated: {datetime.utcnow():%d-%b-%Y %H:%M}')"
   ]
  }
 ],
 "metadata": {
  "hide_input": false,
  "kernelspec": {
   "display_name": "Python 3",
   "language": "python",
   "name": "python3"
  },
  "language_info": {
   "codemirror_mode": {
    "name": "ipython",
    "version": 3
   },
   "file_extension": ".py",
   "mimetype": "text/x-python",
   "name": "python",
   "nbconvert_exporter": "python",
   "pygments_lexer": "ipython3",
   "version": "3.9.6"
  },
  "nav_menu": {},
  "papermill": {
   "duration": 5167.82859,
   "end_time": "2022-08-05T08:48:10.202338",
   "environment_variables": {},
   "exception": null,
   "input_path": "notebooks/papermill/trend_following_baltas2020.ipynb",
   "output_path": "notebooks/trend_following_baltas2020.ipynb",
   "parameters": {},
   "start_time": "2022-08-05T07:22:02.373748",
   "version": "2.1.3"
  },
  "toc": {
   "base_numbering": 1,
   "nav_menu": {},
   "number_sections": true,
   "sideBar": true,
   "skip_h1_title": false,
   "title_cell": "Table of Contents",
   "title_sidebar": "Contents",
   "toc_cell": true,
   "toc_position": {
    "height": "calc(100% - 180px)",
    "left": "10px",
    "top": "150px",
    "width": "165px"
   },
   "toc_section_display": "block",
   "toc_window_display": true
  }
 },
 "nbformat": 4,
 "nbformat_minor": 5
}