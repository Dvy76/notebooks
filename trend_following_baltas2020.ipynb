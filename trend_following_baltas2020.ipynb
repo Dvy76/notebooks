{
 "cells": [
  {
   "cell_type": "markdown",
   "id": "9f470adf",
   "metadata": {
    "papermill": {
     "duration": 0.012759,
     "end_time": "2022-08-21T06:25:32.009827",
     "exception": false,
     "start_time": "2022-08-21T06:25:31.997068",
     "status": "completed"
    },
    "tags": []
   },
   "source": [
    "# Trend-following\n",
    "\n",
    "This notebook implements a few improvements that Baltas and Kosowski (2020) (BK2020, hereafter) propose to the time-series momentum strategy which originally appeared in Moskowitz et al (2012).\n",
    "\n",
    "Note that like other notebooks, all backtests are performed by using a private library called `vivace`."
   ]
  },
  {
   "cell_type": "code",
   "execution_count": 1,
   "id": "98386a75",
   "metadata": {
    "ExecuteTime": {
     "end_time": "2020-08-30T21:08:49.524262Z",
     "start_time": "2020-08-30T21:08:48.720115Z"
    },
    "execution": {
     "iopub.execute_input": "2022-08-21T06:25:32.031315Z",
     "iopub.status.busy": "2022-08-21T06:25:32.031017Z",
     "iopub.status.idle": "2022-08-21T06:25:35.819832Z",
     "shell.execute_reply": "2022-08-21T06:25:35.819054Z"
    },
    "papermill": {
     "duration": 3.802408,
     "end_time": "2022-08-21T06:25:35.822297",
     "exception": false,
     "start_time": "2022-08-21T06:25:32.019889",
     "status": "completed"
    },
    "tags": []
   },
   "outputs": [],
   "source": [
    "%matplotlib inline\n",
    "from datetime import datetime\n",
    "import logging\n",
    "import warnings\n",
    "warnings.simplefilter(action='ignore', category=FutureWarning)\n",
    "\n",
    "import pandas as pd\n",
    "import matplotlib.pyplot as plt\n",
    "import matplotlib.ticker as mticker\n",
    "plt.style.use('bmh')\n",
    "\n",
    "from vivace.backtest import signal\n",
    "from vivace.backtest import processing\n",
    "from vivace.backtest.contract import all_futures_baltas2020\n",
    "from vivace.backtest.engine import BacktestEngine\n",
    "from vivace.backtest.enums import Strategy, Weighting, RealisedVolatility\n",
    "from vivace.backtest.stats import Performance"
   ]
  },
  {
   "cell_type": "markdown",
   "id": "83480e39",
   "metadata": {
    "papermill": {
     "duration": 0.015981,
     "end_time": "2022-08-21T06:25:35.852241",
     "exception": false,
     "start_time": "2022-08-21T06:25:35.836260",
     "status": "completed"
    },
    "tags": []
   },
   "source": [
    "# Data"
   ]
  },
  {
   "cell_type": "code",
   "execution_count": 2,
   "id": "89a3231d",
   "metadata": {
    "ExecuteTime": {
     "end_time": "2020-08-30T21:08:49.529214Z",
     "start_time": "2020-08-30T21:08:49.525465Z"
    },
    "execution": {
     "iopub.execute_input": "2022-08-21T06:25:35.883891Z",
     "iopub.status.busy": "2022-08-21T06:25:35.883446Z",
     "iopub.status.idle": "2022-08-21T06:25:35.892037Z",
     "shell.execute_reply": "2022-08-21T06:25:35.891044Z"
    },
    "papermill": {
     "duration": 0.028408,
     "end_time": "2022-08-21T06:25:35.894207",
     "exception": false,
     "start_time": "2022-08-21T06:25:35.865799",
     "status": "completed"
    },
    "tags": []
   },
   "outputs": [
    {
     "data": {
      "text/plain": [
       "array(['WTI Crude Oil', 'Brent Crude Oil', 'Heating Oil', 'Natural Gas',\n",
       "       'Gasoline', 'Copper', 'Gold', 'Palladium', 'Platinum', 'Silver',\n",
       "       'Feeder Cattle', 'Live Cattle', 'Lean Hog', 'Corn', 'Oats',\n",
       "       'Soybean Oil', 'Soybean Meal', 'Soybean', 'Wheat', 'Cocoa',\n",
       "       'Coffee', 'Cotton', 'Lumber', 'Orange Juice', 'Sugar',\n",
       "       'Australian Dollar', 'Canadian Dollar', 'Swiss Franc', 'Euro',\n",
       "       'British Pound', 'Japanese Yen', 'E-Mini Nasdaq 100',\n",
       "       'E-mini S&P 500', 'E-mini Russell 2000', 'FTSE 100', 'DAX',\n",
       "       'CAC 40', 'IBEX 35', 'AEX', 'Swiss Market Index', 'SPI 200',\n",
       "       'Topix', 'Hang Seng', 'US 2-year Treasury', 'US 5-year Treasury',\n",
       "       'US 10-year Treasury', 'US treasury Bond', 'Germany Schatz',\n",
       "       'Germany Bobl', 'Germany Bund', 'Germany Buxl', 'Gilt',\n",
       "       'Canada 10-year Treasury', 'JGB'], dtype=object)"
      ]
     },
     "execution_count": 2,
     "metadata": {},
     "output_type": "execute_result"
    }
   ],
   "source": [
    "all_futures_baltas2020['name'].values"
   ]
  },
  {
   "cell_type": "code",
   "execution_count": 3,
   "id": "17664de9",
   "metadata": {
    "ExecuteTime": {
     "end_time": "2020-08-30T21:08:49.542477Z",
     "start_time": "2020-08-30T21:08:49.530487Z"
    },
    "execution": {
     "iopub.execute_input": "2022-08-21T06:25:35.958587Z",
     "iopub.status.busy": "2022-08-21T06:25:35.958178Z",
     "iopub.status.idle": "2022-08-21T06:25:35.963379Z",
     "shell.execute_reply": "2022-08-21T06:25:35.962453Z"
    },
    "papermill": {
     "duration": 0.059322,
     "end_time": "2022-08-21T06:25:35.965520",
     "exception": false,
     "start_time": "2022-08-21T06:25:35.906198",
     "status": "completed"
    },
    "tags": []
   },
   "outputs": [
    {
     "name": "stdout",
     "output_type": "stream",
     "text": [
      "54\n"
     ]
    }
   ],
   "source": [
    "print(len(all_futures_baltas2020))"
   ]
  },
  {
   "cell_type": "markdown",
   "id": "f0a95e8e",
   "metadata": {
    "papermill": {
     "duration": 0.011403,
     "end_time": "2022-08-21T06:25:35.989640",
     "exception": false,
     "start_time": "2022-08-21T06:25:35.978237",
     "status": "completed"
    },
    "tags": []
   },
   "source": [
    "We try to use the same contract as the original paper where possible, resulting 54 futures contracts to analyse. The trading universe covers a wide range of asset classes and regions, and is made up of following instruments:\n",
    "- Equity index futures\n",
    "- Government bond futures\n",
    "- FX futures\n",
    "- Commodity futures\n",
    "\n",
    "where the same trend detection method is applied."
   ]
  },
  {
   "cell_type": "markdown",
   "id": "6c728799",
   "metadata": {
    "papermill": {
     "duration": 0.012287,
     "end_time": "2022-08-21T06:25:36.013324",
     "exception": false,
     "start_time": "2022-08-21T06:25:36.001037",
     "status": "completed"
    },
    "tags": []
   },
   "source": [
    "# Performance\n"
   ]
  },
  {
   "cell_type": "markdown",
   "id": "758ed00f",
   "metadata": {
    "papermill": {
     "duration": 0.014051,
     "end_time": "2022-08-21T06:25:36.040999",
     "exception": false,
     "start_time": "2022-08-21T06:25:36.026948",
     "status": "completed"
    },
    "tags": []
   },
   "source": [
    "## Moskowitz et al\n",
    "\n",
    "First we calculate the original trend-following portfolio with a more traditional close-to-close realised volatility estimator. Although Moskowitz et al uses the exponentially weighted standard deviation, BK2020 appears to compare against the rolling standard deviation."
   ]
  },
  {
   "cell_type": "code",
   "execution_count": 4,
   "id": "9355f16a",
   "metadata": {
    "execution": {
     "iopub.execute_input": "2022-08-21T06:25:36.067075Z",
     "iopub.status.busy": "2022-08-21T06:25:36.066539Z",
     "iopub.status.idle": "2022-08-21T06:37:03.503838Z",
     "shell.execute_reply": "2022-08-21T06:37:03.503067Z"
    },
    "papermill": {
     "duration": 687.45434,
     "end_time": "2022-08-21T06:37:03.506570",
     "exception": false,
     "start_time": "2022-08-21T06:25:36.052230",
     "status": "completed"
    },
    "tags": []
   },
   "outputs": [],
   "source": [
    "engine_original = BacktestEngine(\n",
    "    strategy=Strategy.DELTA_ONE.value,\n",
    "    instrument=all_futures_baltas2020.index,\n",
    "    signal=signal.ParallelSignal([\n",
    "        signal.VolatilityScale(agg_method='rolling', window=21, ann_factor=261, \n",
    "                               target_volatility=0.4, signal_cap=0.95),\n",
    "        signal.TSMOMMoskowitz2012(post_process=processing.AsFreq(freq='m', method='pad'))\n",
    "    ], weighting='product'),\n",
    "    weighting=Weighting.EQUAL_WEIGHT.value,\n",
    "    log_level=logging.WARN,\n",
    ")\n",
    "engine_original.run()"
   ]
  },
  {
   "cell_type": "code",
   "execution_count": 5,
   "id": "ad825f82",
   "metadata": {
    "execution": {
     "iopub.execute_input": "2022-08-21T06:37:03.534553Z",
     "iopub.status.busy": "2022-08-21T06:37:03.533934Z",
     "iopub.status.idle": "2022-08-21T06:38:31.912642Z",
     "shell.execute_reply": "2022-08-21T06:38:31.911934Z"
    },
    "papermill": {
     "duration": 88.392687,
     "end_time": "2022-08-21T06:38:31.915079",
     "exception": false,
     "start_time": "2022-08-21T06:37:03.522392",
     "status": "completed"
    },
    "tags": []
   },
   "outputs": [],
   "source": [
    "engine_original_eq = (engine_original.calculate_equity_curve(calculate_net=False, rebalance_freq='m')\n",
    "                      .rename('Trend-following portfolio (Moskowitz 2012)'))"
   ]
  },
  {
   "cell_type": "code",
   "execution_count": 6,
   "id": "d6e086a9",
   "metadata": {
    "execution": {
     "iopub.execute_input": "2022-08-21T06:38:31.945794Z",
     "iopub.status.busy": "2022-08-21T06:38:31.945446Z",
     "iopub.status.idle": "2022-08-21T06:38:33.233992Z",
     "shell.execute_reply": "2022-08-21T06:38:33.233248Z"
    },
    "papermill": {
     "duration": 1.307641,
     "end_time": "2022-08-21T06:38:33.236390",
     "exception": false,
     "start_time": "2022-08-21T06:38:31.928749",
     "status": "completed"
    },
    "tags": []
   },
   "outputs": [
    {
     "data": {
      "image/png": "[encoded data removed]",
      "text/plain": [
       "<Figure size 576x324 with 1 Axes>"
      ]
     },
     "metadata": {
      "needs_background": "light"
     },
     "output_type": "display_data"
    }
   ],
   "source": [
    "fig, ax = plt.subplots(figsize=(8, 4.5))\n",
    "engine_original_eq.plot(ax=ax, logy=True)\n",
    "ax.set_title('Trend-following portfolio (Moskowitz 2012)')\n",
    "ax.set_ylabel('Cumulative returns');"
   ]
  },
  {
   "cell_type": "code",
   "execution_count": 7,
   "id": "5d44bc0d",
   "metadata": {
    "execution": {
     "iopub.execute_input": "2022-08-21T06:38:33.268460Z",
     "iopub.status.busy": "2022-08-21T06:38:33.268074Z",
     "iopub.status.idle": "2022-08-21T06:38:33.355479Z",
     "shell.execute_reply": "2022-08-21T06:38:33.354751Z"
    },
    "papermill": {
     "duration": 0.105105,
     "end_time": "2022-08-21T06:38:33.357264",
     "exception": false,
     "start_time": "2022-08-21T06:38:33.252159",
     "status": "completed"
    },
    "tags": []
   },
   "outputs": [
    {
     "data": {
      "text/html": [
       "<div>\n",
       "<style scoped>\n",
       "    .dataframe tbody tr th:only-of-type {\n",
       "        vertical-align: middle;\n",
       "    }\n",
       "\n",
       "    .dataframe tbody tr th {\n",
       "        vertical-align: top;\n",
       "    }\n",
       "\n",
       "    .dataframe thead th {\n",
       "        text-align: right;\n",
       "    }\n",
       "</style>\n",
       "<table border=\"1\" class=\"dataframe\">\n",
       "  <thead>\n",
       "    <tr style=\"text-align: right;\">\n",
       "      <th></th>\n",
       "      <th>Trend-following portfolio (Moskowitz 2012)</th>\n",
       "    </tr>\n",
       "  </thead>\n",
       "  <tbody>\n",
       "    <tr>\n",
       "      <th>CAGR</th>\n",
       "      <td>0.147519</td>\n",
       "    </tr>\n",
       "    <tr>\n",
       "      <th>Annualised vol</th>\n",
       "      <td>0.124971</td>\n",
       "    </tr>\n",
       "    <tr>\n",
       "      <th>Sharpe ratio</th>\n",
       "      <td>1.180420</td>\n",
       "    </tr>\n",
       "    <tr>\n",
       "      <th>Max drawdown</th>\n",
       "      <td>0.259239</td>\n",
       "    </tr>\n",
       "    <tr>\n",
       "      <th>Calmar ratio</th>\n",
       "      <td>0.569045</td>\n",
       "    </tr>\n",
       "    <tr>\n",
       "      <th>Skewness</th>\n",
       "      <td>0.073282</td>\n",
       "    </tr>\n",
       "    <tr>\n",
       "      <th>Kurtosis</th>\n",
       "      <td>19.342970</td>\n",
       "    </tr>\n",
       "    <tr>\n",
       "      <th>Worst return</th>\n",
       "      <td>-0.126276</td>\n",
       "    </tr>\n",
       "    <tr>\n",
       "      <th>Worst 1d return</th>\n",
       "      <td>-0.126276</td>\n",
       "    </tr>\n",
       "    <tr>\n",
       "      <th>Worst 1w return</th>\n",
       "      <td>-0.107725</td>\n",
       "    </tr>\n",
       "    <tr>\n",
       "      <th>Worst 1m return</th>\n",
       "      <td>-0.152667</td>\n",
       "    </tr>\n",
       "  </tbody>\n",
       "</table>\n",
       "</div>"
      ],
      "text/plain": [
       "                 Trend-following portfolio (Moskowitz 2012)\n",
       "CAGR                                               0.147519\n",
       "Annualised vol                                     0.124971\n",
       "Sharpe ratio                                       1.180420\n",
       "Max drawdown                                       0.259239\n",
       "Calmar ratio                                       0.569045\n",
       "Skewness                                           0.073282\n",
       "Kurtosis                                          19.342970\n",
       "Worst return                                      -0.126276\n",
       "Worst 1d return                                   -0.126276\n",
       "Worst 1w return                                   -0.107725\n",
       "Worst 1m return                                   -0.152667"
      ]
     },
     "execution_count": 7,
     "metadata": {},
     "output_type": "execute_result"
    }
   ],
   "source": [
    "engine_original_eq.pipe(Performance).summary()"
   ]
  },
  {
   "cell_type": "markdown",
   "id": "3336bfc6",
   "metadata": {
    "papermill": {
     "duration": 0.010625,
     "end_time": "2022-08-21T06:38:33.378665",
     "exception": false,
     "start_time": "2022-08-21T06:38:33.368040",
     "status": "completed"
    },
    "tags": []
   },
   "source": [
    "\n",
    "## Volatility estimator\n",
    "BK2020 proposes a few changes in order to enhance the original trend-following strategy Moskowitz et al reported. The first thing is to use a more sophisticated realised volatility estimators for volatility scaling. Moskowitz used the exponentially weighted standard deviation with close-to-close. On the other hand, BK2020 suggests to use Yang-Zhang estimator as it is much more efficient."
   ]
  },
  {
   "cell_type": "code",
   "execution_count": 8,
   "id": "408e2e8d",
   "metadata": {
    "ExecuteTime": {
     "end_time": "2020-08-30T21:18:24.661167Z",
     "start_time": "2020-08-30T21:08:49.544232Z"
    },
    "execution": {
     "iopub.execute_input": "2022-08-21T06:38:33.401032Z",
     "iopub.status.busy": "2022-08-21T06:38:33.400770Z",
     "iopub.status.idle": "2022-08-21T06:58:57.016194Z",
     "shell.execute_reply": "2022-08-21T06:58:57.015436Z"
    },
    "papermill": {
     "duration": 1223.629013,
     "end_time": "2022-08-21T06:58:57.018199",
     "exception": false,
     "start_time": "2022-08-21T06:38:33.389186",
     "status": "completed"
    },
    "tags": []
   },
   "outputs": [],
   "source": [
    "engine_vol = BacktestEngine(\n",
    "    strategy=Strategy.DELTA_ONE.value,\n",
    "    instrument=all_futures_baltas2020.index,\n",
    "    signal=signal.ParallelSignal([\n",
    "        signal.VolatilityScale(volatility_type=RealisedVolatility.YZ.value,\n",
    "                               agg_method='rolling', window=21, min_periods=10,\n",
    "                               target_volatility=0.4, signal_cap=0.95, ann_factor=261),\n",
    "        signal.TSMOMMoskowitz2012(post_process=processing.AsFreq(freq='m', method='pad'))\n",
    "    ], weighting='product'),\n",
    "    weighting=Weighting.EQUAL_WEIGHT.value,\n",
    "    log_level=logging.WARN,\n",
    ")\n",
    "engine_vol.run()"
   ]
  },
  {
   "cell_type": "code",
   "execution_count": 9,
   "id": "066e14ed",
   "metadata": {
    "execution": {
     "iopub.execute_input": "2022-08-21T06:58:57.042082Z",
     "iopub.status.busy": "2022-08-21T06:58:57.041801Z",
     "iopub.status.idle": "2022-08-21T07:00:19.649348Z",
     "shell.execute_reply": "2022-08-21T07:00:19.648547Z"
    },
    "papermill": {
     "duration": 82.621858,
     "end_time": "2022-08-21T07:00:19.651267",
     "exception": false,
     "start_time": "2022-08-21T06:58:57.029409",
     "status": "completed"
    },
    "tags": []
   },
   "outputs": [],
   "source": [
    "engine_vol_eq = (engine_vol.calculate_equity_curve(calculate_net=False, rebalance_freq='m')\n",
    "                 .rename('Trend-following portfolio (YZ estimator)'))"
   ]
  },
  {
   "cell_type": "code",
   "execution_count": 10,
   "id": "2595e6c5",
   "metadata": {
    "execution": {
     "iopub.execute_input": "2022-08-21T07:00:19.677918Z",
     "iopub.status.busy": "2022-08-21T07:00:19.677433Z",
     "iopub.status.idle": "2022-08-21T07:00:20.300015Z",
     "shell.execute_reply": "2022-08-21T07:00:20.299126Z"
    },
    "papermill": {
     "duration": 0.636227,
     "end_time": "2022-08-21T07:00:20.301773",
     "exception": false,
     "start_time": "2022-08-21T07:00:19.665546",
     "status": "completed"
    },
    "tags": []
   },
   "outputs": [
    {
     "data": {
      "image/png": "[encoded data removed]",
      "text/plain": [
       "<Figure size 576x324 with 1 Axes>"
      ]
     },
     "metadata": {
      "needs_background": "light"
     },
     "output_type": "display_data"
    }
   ],
   "source": [
    "fig, ax = plt.subplots(figsize=(8, 4.5))\n",
    "engine_vol_eq.plot(ax=ax, logy=True);\n",
    "ax.set_title('Trend-following portfolio (YZ estimator)')\n",
    "ax.set_ylabel('Cumulative returns');"
   ]
  },
  {
   "cell_type": "code",
   "execution_count": 11,
   "id": "43edf28f",
   "metadata": {
    "execution": {
     "iopub.execute_input": "2022-08-21T07:00:20.325053Z",
     "iopub.status.busy": "2022-08-21T07:00:20.324694Z",
     "iopub.status.idle": "2022-08-21T07:00:20.405731Z",
     "shell.execute_reply": "2022-08-21T07:00:20.404904Z"
    },
    "papermill": {
     "duration": 0.094689,
     "end_time": "2022-08-21T07:00:20.407520",
     "exception": false,
     "start_time": "2022-08-21T07:00:20.312831",
     "status": "completed"
    },
    "tags": []
   },
   "outputs": [
    {
     "data": {
      "text/html": [
       "<div>\n",
       "<style scoped>\n",
       "    .dataframe tbody tr th:only-of-type {\n",
       "        vertical-align: middle;\n",
       "    }\n",
       "\n",
       "    .dataframe tbody tr th {\n",
       "        vertical-align: top;\n",
       "    }\n",
       "\n",
       "    .dataframe thead th {\n",
       "        text-align: right;\n",
       "    }\n",
       "</style>\n",
       "<table border=\"1\" class=\"dataframe\">\n",
       "  <thead>\n",
       "    <tr style=\"text-align: right;\">\n",
       "      <th></th>\n",
       "      <th>Trend-following portfolio (YZ estimator)</th>\n",
       "    </tr>\n",
       "  </thead>\n",
       "  <tbody>\n",
       "    <tr>\n",
       "      <th>CAGR</th>\n",
       "      <td>0.149168</td>\n",
       "    </tr>\n",
       "    <tr>\n",
       "      <th>Annualised vol</th>\n",
       "      <td>0.127259</td>\n",
       "    </tr>\n",
       "    <tr>\n",
       "      <th>Sharpe ratio</th>\n",
       "      <td>1.172156</td>\n",
       "    </tr>\n",
       "    <tr>\n",
       "      <th>Max drawdown</th>\n",
       "      <td>0.305877</td>\n",
       "    </tr>\n",
       "    <tr>\n",
       "      <th>Calmar ratio</th>\n",
       "      <td>0.487672</td>\n",
       "    </tr>\n",
       "    <tr>\n",
       "      <th>Skewness</th>\n",
       "      <td>0.280430</td>\n",
       "    </tr>\n",
       "    <tr>\n",
       "      <th>Kurtosis</th>\n",
       "      <td>22.125913</td>\n",
       "    </tr>\n",
       "    <tr>\n",
       "      <th>Worst return</th>\n",
       "      <td>-0.137043</td>\n",
       "    </tr>\n",
       "    <tr>\n",
       "      <th>Worst 1d return</th>\n",
       "      <td>-0.137043</td>\n",
       "    </tr>\n",
       "    <tr>\n",
       "      <th>Worst 1w return</th>\n",
       "      <td>-0.098542</td>\n",
       "    </tr>\n",
       "    <tr>\n",
       "      <th>Worst 1m return</th>\n",
       "      <td>-0.169177</td>\n",
       "    </tr>\n",
       "  </tbody>\n",
       "</table>\n",
       "</div>"
      ],
      "text/plain": [
       "                 Trend-following portfolio (YZ estimator)\n",
       "CAGR                                             0.149168\n",
       "Annualised vol                                   0.127259\n",
       "Sharpe ratio                                     1.172156\n",
       "Max drawdown                                     0.305877\n",
       "Calmar ratio                                     0.487672\n",
       "Skewness                                         0.280430\n",
       "Kurtosis                                        22.125913\n",
       "Worst return                                    -0.137043\n",
       "Worst 1d return                                 -0.137043\n",
       "Worst 1w return                                 -0.098542\n",
       "Worst 1m return                                 -0.169177"
      ]
     },
     "execution_count": 11,
     "metadata": {},
     "output_type": "execute_result"
    }
   ],
   "source": [
    "engine_vol_eq.pipe(Performance).summary()"
   ]
  },
  {
   "cell_type": "markdown",
   "id": "fb51caca",
   "metadata": {
    "papermill": {
     "duration": 0.013189,
     "end_time": "2022-08-21T07:00:20.431799",
     "exception": false,
     "start_time": "2022-08-21T07:00:20.418610",
     "status": "completed"
    },
    "tags": []
   },
   "source": [
    "## TREND signal\n",
    "\n",
    "Another improvement BK2020 proposes is to use a continuous signal rather than a binary one in order to reduce the turnover when signals are weak. Specifically they used the t-values with the Newey-West standard error as the signal. They further capped and floored the signal between -1 and +1 to avoid extreme positions.\n",
    "\n",
    "`statsmodels`'s `OLS` class provides a method to compute the Newey-West standard error. https://www.statsmodels.org/stable/generated/statsmodels.regression.linear_model.OLS.html"
   ]
  },
  {
   "cell_type": "code",
   "execution_count": 12,
   "id": "69649f3f",
   "metadata": {
    "execution": {
     "iopub.execute_input": "2022-08-21T07:00:20.462435Z",
     "iopub.status.busy": "2022-08-21T07:00:20.462065Z",
     "iopub.status.idle": "2022-08-21T07:17:53.365864Z",
     "shell.execute_reply": "2022-08-21T07:17:53.365145Z"
    },
    "papermill": {
     "duration": 1052.920772,
     "end_time": "2022-08-21T07:17:53.368178",
     "exception": false,
     "start_time": "2022-08-21T07:00:20.447406",
     "status": "completed"
    },
    "tags": []
   },
   "outputs": [],
   "source": [
    "engine_trend = BacktestEngine(\n",
    "    strategy=Strategy.DELTA_ONE.value,\n",
    "    instrument=all_futures_baltas2020.index,\n",
    "    signal=signal.ParallelSignal([\n",
    "        signal.VolatilityScale(agg_method='rolling', window=21, ann_factor=261, \n",
    "                               target_volatility=0.4, signal_cap=0.95),\n",
    "        signal.TSMOMBaltas2020()\n",
    "    ], weighting='product'),\n",
    "    weighting=Weighting.EQUAL_WEIGHT.value,\n",
    "    log_level=logging.WARN,\n",
    ")\n",
    "engine_trend.run()"
   ]
  },
  {
   "cell_type": "code",
   "execution_count": 13,
   "id": "019c55f1",
   "metadata": {
    "execution": {
     "iopub.execute_input": "2022-08-21T07:17:53.400046Z",
     "iopub.status.busy": "2022-08-21T07:17:53.399725Z",
     "iopub.status.idle": "2022-08-21T07:19:19.911118Z",
     "shell.execute_reply": "2022-08-21T07:19:19.910336Z"
    },
    "papermill": {
     "duration": 86.52861,
     "end_time": "2022-08-21T07:19:19.913009",
     "exception": false,
     "start_time": "2022-08-21T07:17:53.384399",
     "status": "completed"
    },
    "tags": []
   },
   "outputs": [],
   "source": [
    "engine_trend_eq = (engine_trend.calculate_equity_curve(calculate_net=False, rebalance_freq='m')\n",
    "                   .rename('Trend-following portfolio (TREND signal)'))"
   ]
  },
  {
   "cell_type": "code",
   "execution_count": 14,
   "id": "b7378137",
   "metadata": {
    "execution": {
     "iopub.execute_input": "2022-08-21T07:19:19.936678Z",
     "iopub.status.busy": "2022-08-21T07:19:19.936396Z",
     "iopub.status.idle": "2022-08-21T07:19:20.517874Z",
     "shell.execute_reply": "2022-08-21T07:19:20.517155Z"
    },
    "papermill": {
     "duration": 0.595344,
     "end_time": "2022-08-21T07:19:20.519506",
     "exception": false,
     "start_time": "2022-08-21T07:19:19.924162",
     "status": "completed"
    },
    "tags": []
   },
   "outputs": [
    {
     "data": {
      "image/png": "[encoded data removed]",
      "text/plain": [
       "<Figure size 576x324 with 1 Axes>"
      ]
     },
     "metadata": {
      "needs_background": "light"
     },
     "output_type": "display_data"
    }
   ],
   "source": [
    "fig, ax = plt.subplots(figsize=(8, 4.5))\n",
    "engine_trend_eq.plot(ax=ax, logy=True);\n",
    "ax.set_title('Trend-following portfolio (TREND signal)')\n",
    "ax.set_ylabel('Cumulative returns');"
   ]
  },
  {
   "cell_type": "code",
   "execution_count": 15,
   "id": "86ae406e",
   "metadata": {
    "execution": {
     "iopub.execute_input": "2022-08-21T07:19:20.543870Z",
     "iopub.status.busy": "2022-08-21T07:19:20.543603Z",
     "iopub.status.idle": "2022-08-21T07:19:20.623729Z",
     "shell.execute_reply": "2022-08-21T07:19:20.623054Z"
    },
    "papermill": {
     "duration": 0.094405,
     "end_time": "2022-08-21T07:19:20.625398",
     "exception": false,
     "start_time": "2022-08-21T07:19:20.530993",
     "status": "completed"
    },
    "tags": []
   },
   "outputs": [
    {
     "data": {
      "text/html": [
       "<div>\n",
       "<style scoped>\n",
       "    .dataframe tbody tr th:only-of-type {\n",
       "        vertical-align: middle;\n",
       "    }\n",
       "\n",
       "    .dataframe tbody tr th {\n",
       "        vertical-align: top;\n",
       "    }\n",
       "\n",
       "    .dataframe thead th {\n",
       "        text-align: right;\n",
       "    }\n",
       "</style>\n",
       "<table border=\"1\" class=\"dataframe\">\n",
       "  <thead>\n",
       "    <tr style=\"text-align: right;\">\n",
       "      <th></th>\n",
       "      <th>Trend-following portfolio (TREND signal)</th>\n",
       "    </tr>\n",
       "  </thead>\n",
       "  <tbody>\n",
       "    <tr>\n",
       "      <th>CAGR</th>\n",
       "      <td>0.139597</td>\n",
       "    </tr>\n",
       "    <tr>\n",
       "      <th>Annualised vol</th>\n",
       "      <td>0.107933</td>\n",
       "    </tr>\n",
       "    <tr>\n",
       "      <th>Sharpe ratio</th>\n",
       "      <td>1.293363</td>\n",
       "    </tr>\n",
       "    <tr>\n",
       "      <th>Max drawdown</th>\n",
       "      <td>0.294584</td>\n",
       "    </tr>\n",
       "    <tr>\n",
       "      <th>Calmar ratio</th>\n",
       "      <td>0.473879</td>\n",
       "    </tr>\n",
       "    <tr>\n",
       "      <th>Skewness</th>\n",
       "      <td>0.159098</td>\n",
       "    </tr>\n",
       "    <tr>\n",
       "      <th>Kurtosis</th>\n",
       "      <td>28.006057</td>\n",
       "    </tr>\n",
       "    <tr>\n",
       "      <th>Worst return</th>\n",
       "      <td>-0.121269</td>\n",
       "    </tr>\n",
       "    <tr>\n",
       "      <th>Worst 1d return</th>\n",
       "      <td>-0.121269</td>\n",
       "    </tr>\n",
       "    <tr>\n",
       "      <th>Worst 1w return</th>\n",
       "      <td>-0.110077</td>\n",
       "    </tr>\n",
       "    <tr>\n",
       "      <th>Worst 1m return</th>\n",
       "      <td>-0.171789</td>\n",
       "    </tr>\n",
       "  </tbody>\n",
       "</table>\n",
       "</div>"
      ],
      "text/plain": [
       "                 Trend-following portfolio (TREND signal)\n",
       "CAGR                                             0.139597\n",
       "Annualised vol                                   0.107933\n",
       "Sharpe ratio                                     1.293363\n",
       "Max drawdown                                     0.294584\n",
       "Calmar ratio                                     0.473879\n",
       "Skewness                                         0.159098\n",
       "Kurtosis                                        28.006057\n",
       "Worst return                                    -0.121269\n",
       "Worst 1d return                                 -0.121269\n",
       "Worst 1w return                                 -0.110077\n",
       "Worst 1m return                                 -0.171789"
      ]
     },
     "execution_count": 15,
     "metadata": {},
     "output_type": "execute_result"
    }
   ],
   "source": [
    "engine_trend_eq.pipe(Performance).summary()"
   ]
  },
  {
   "cell_type": "markdown",
   "id": "b2a19676",
   "metadata": {
    "papermill": {
     "duration": 0.011648,
     "end_time": "2022-08-21T07:19:20.648617",
     "exception": false,
     "start_time": "2022-08-21T07:19:20.636969",
     "status": "completed"
    },
    "tags": []
   },
   "source": [
    "## Combined\n",
    "\n",
    "Finally we run a backtest by using both the Yang-Zhang volatility estimator and the TREND signal."
   ]
  },
  {
   "cell_type": "code",
   "execution_count": 16,
   "id": "622436b4",
   "metadata": {
    "execution": {
     "iopub.execute_input": "2022-08-21T07:19:20.673332Z",
     "iopub.status.busy": "2022-08-21T07:19:20.673043Z",
     "iopub.status.idle": "2022-08-21T07:45:33.213220Z",
     "shell.execute_reply": "2022-08-21T07:45:33.212495Z"
    },
    "papermill": {
     "duration": 1572.554902,
     "end_time": "2022-08-21T07:45:33.215315",
     "exception": false,
     "start_time": "2022-08-21T07:19:20.660413",
     "status": "completed"
    },
    "tags": []
   },
   "outputs": [],
   "source": [
    "engine_combined = BacktestEngine(\n",
    "    strategy=Strategy.DELTA_ONE.value,\n",
    "    instrument=all_futures_baltas2020.index,\n",
    "    signal=signal.ParallelSignal([\n",
    "        signal.VolatilityScale(volatility_type=RealisedVolatility.YZ.value,\n",
    "                               agg_method='rolling', window=21, min_periods=10,\n",
    "                               target_volatility=0.4, signal_cap=0.95, ann_factor=261),\n",
    "        signal.TSMOMBaltas2020()\n",
    "    ], weighting='product'),\n",
    "    weighting=Weighting.EQUAL_WEIGHT.value,\n",
    "    log_level=logging.WARN,\n",
    ")\n",
    "engine_combined.run()"
   ]
  },
  {
   "cell_type": "code",
   "execution_count": 17,
   "id": "e7918484",
   "metadata": {
    "execution": {
     "iopub.execute_input": "2022-08-21T07:45:33.241868Z",
     "iopub.status.busy": "2022-08-21T07:45:33.241603Z",
     "iopub.status.idle": "2022-08-21T07:46:59.782294Z",
     "shell.execute_reply": "2022-08-21T07:46:59.781437Z"
    },
    "papermill": {
     "duration": 86.556202,
     "end_time": "2022-08-21T07:46:59.784705",
     "exception": false,
     "start_time": "2022-08-21T07:45:33.228503",
     "status": "completed"
    },
    "tags": []
   },
   "outputs": [],
   "source": [
    "engine_combined_eq = (engine_combined.calculate_equity_curve(calculate_net=False, rebalance_freq='m')\n",
    "                      .rename('Trend-following portfolio (YZ estimator + TREND signal)'))"
   ]
  },
  {
   "cell_type": "code",
   "execution_count": 18,
   "id": "d9b86d84",
   "metadata": {
    "execution": {
     "iopub.execute_input": "2022-08-21T07:46:59.811425Z",
     "iopub.status.busy": "2022-08-21T07:46:59.811133Z",
     "iopub.status.idle": "2022-08-21T07:47:00.445652Z",
     "shell.execute_reply": "2022-08-21T07:47:00.444946Z"
    },
    "papermill": {
     "duration": 0.649109,
     "end_time": "2022-08-21T07:47:00.447273",
     "exception": false,
     "start_time": "2022-08-21T07:46:59.798164",
     "status": "completed"
    },
    "tags": []
   },
   "outputs": [
    {
     "data": {
      "image/png": "[encoded data removed]",
      "text/plain": [
       "<Figure size 576x324 with 1 Axes>"
      ]
     },
     "metadata": {
      "needs_background": "light"
     },
     "output_type": "display_data"
    }
   ],
   "source": [
    "fig, ax = plt.subplots(figsize=(8, 4.5))\n",
    "engine_combined_eq.plot(ax=ax, logy=True)\n",
    "ax.set_title('Trend-following portfolio (YZ estimator + TREND signal)')\n",
    "ax.set_ylabel('Cumulative returns');"
   ]
  },
  {
   "cell_type": "code",
   "execution_count": 19,
   "id": "40560dee",
   "metadata": {
    "execution": {
     "iopub.execute_input": "2022-08-21T07:47:00.506275Z",
     "iopub.status.busy": "2022-08-21T07:47:00.505865Z",
     "iopub.status.idle": "2022-08-21T07:47:00.588719Z",
     "shell.execute_reply": "2022-08-21T07:47:00.588018Z"
    },
    "papermill": {
     "duration": 0.130392,
     "end_time": "2022-08-21T07:47:00.590226",
     "exception": false,
     "start_time": "2022-08-21T07:47:00.459834",
     "status": "completed"
    },
    "tags": []
   },
   "outputs": [
    {
     "data": {
      "text/html": [
       "<div>\n",
       "<style scoped>\n",
       "    .dataframe tbody tr th:only-of-type {\n",
       "        vertical-align: middle;\n",
       "    }\n",
       "\n",
       "    .dataframe tbody tr th {\n",
       "        vertical-align: top;\n",
       "    }\n",
       "\n",
       "    .dataframe thead th {\n",
       "        text-align: right;\n",
       "    }\n",
       "</style>\n",
       "<table border=\"1\" class=\"dataframe\">\n",
       "  <thead>\n",
       "    <tr style=\"text-align: right;\">\n",
       "      <th></th>\n",
       "      <th>Trend-following portfolio (YZ estimator + TREND signal)</th>\n",
       "    </tr>\n",
       "  </thead>\n",
       "  <tbody>\n",
       "    <tr>\n",
       "      <th>CAGR</th>\n",
       "      <td>0.140043</td>\n",
       "    </tr>\n",
       "    <tr>\n",
       "      <th>Annualised vol</th>\n",
       "      <td>0.110668</td>\n",
       "    </tr>\n",
       "    <tr>\n",
       "      <th>Sharpe ratio</th>\n",
       "      <td>1.265435</td>\n",
       "    </tr>\n",
       "    <tr>\n",
       "      <th>Max drawdown</th>\n",
       "      <td>0.313945</td>\n",
       "    </tr>\n",
       "    <tr>\n",
       "      <th>Calmar ratio</th>\n",
       "      <td>0.446073</td>\n",
       "    </tr>\n",
       "    <tr>\n",
       "      <th>Skewness</th>\n",
       "      <td>0.292605</td>\n",
       "    </tr>\n",
       "    <tr>\n",
       "      <th>Kurtosis</th>\n",
       "      <td>32.527672</td>\n",
       "    </tr>\n",
       "    <tr>\n",
       "      <th>Worst return</th>\n",
       "      <td>-0.130152</td>\n",
       "    </tr>\n",
       "    <tr>\n",
       "      <th>Worst 1d return</th>\n",
       "      <td>-0.130152</td>\n",
       "    </tr>\n",
       "    <tr>\n",
       "      <th>Worst 1w return</th>\n",
       "      <td>-0.112097</td>\n",
       "    </tr>\n",
       "    <tr>\n",
       "      <th>Worst 1m return</th>\n",
       "      <td>-0.186272</td>\n",
       "    </tr>\n",
       "  </tbody>\n",
       "</table>\n",
       "</div>"
      ],
      "text/plain": [
       "                 Trend-following portfolio (YZ estimator + TREND signal)\n",
       "CAGR                                                      0.140043      \n",
       "Annualised vol                                            0.110668      \n",
       "Sharpe ratio                                              1.265435      \n",
       "Max drawdown                                              0.313945      \n",
       "Calmar ratio                                              0.446073      \n",
       "Skewness                                                  0.292605      \n",
       "Kurtosis                                                 32.527672      \n",
       "Worst return                                             -0.130152      \n",
       "Worst 1d return                                          -0.130152      \n",
       "Worst 1w return                                          -0.112097      \n",
       "Worst 1m return                                          -0.186272      "
      ]
     },
     "execution_count": 19,
     "metadata": {},
     "output_type": "execute_result"
    }
   ],
   "source": [
    "engine_combined_eq.pipe(Performance).summary()"
   ]
  },
  {
   "cell_type": "markdown",
   "id": "01a0da11",
   "metadata": {
    "papermill": {
     "duration": 0.012716,
     "end_time": "2022-08-21T07:47:00.616259",
     "exception": false,
     "start_time": "2022-08-21T07:47:00.603543",
     "status": "completed"
    },
    "tags": []
   },
   "source": [
    "# Comparison\n",
    "\n",
    "In this section we compare the above 4 backtests."
   ]
  },
  {
   "cell_type": "markdown",
   "id": "eebd239d",
   "metadata": {
    "papermill": {
     "duration": 0.012582,
     "end_time": "2022-08-21T07:47:00.641287",
     "exception": false,
     "start_time": "2022-08-21T07:47:00.628705",
     "status": "completed"
    },
    "tags": []
   },
   "source": [
    "## Performance\n",
    "\n",
    "As reported in BK2020, using the YZ estimator and TREND signal does not alter the performance characteristics. Rather, the TREND signal somewhat improves the Sharpe ratio. Also the TREND signal lowers the annualised volatility from 12.5% to 10.8% with the close-to-close realised volatility."
   ]
  },
  {
   "cell_type": "code",
   "execution_count": 20,
   "id": "6323c4c2",
   "metadata": {
    "execution": {
     "iopub.execute_input": "2022-08-21T07:47:00.667283Z",
     "iopub.status.busy": "2022-08-21T07:47:00.667011Z",
     "iopub.status.idle": "2022-08-21T07:47:00.681184Z",
     "shell.execute_reply": "2022-08-21T07:47:00.680371Z"
    },
    "papermill": {
     "duration": 0.029445,
     "end_time": "2022-08-21T07:47:00.683077",
     "exception": false,
     "start_time": "2022-08-21T07:47:00.653632",
     "status": "completed"
    },
    "tags": []
   },
   "outputs": [],
   "source": [
    "performance_comp = pd.concat((engine_original_eq, engine_vol_eq, \n",
    "                              engine_trend_eq, engine_combined_eq), axis=1)"
   ]
  },
  {
   "cell_type": "code",
   "execution_count": 21,
   "id": "437c4486",
   "metadata": {
    "execution": {
     "iopub.execute_input": "2022-08-21T07:47:00.709346Z",
     "iopub.status.busy": "2022-08-21T07:47:00.708942Z",
     "iopub.status.idle": "2022-08-21T07:47:01.545313Z",
     "shell.execute_reply": "2022-08-21T07:47:01.544104Z"
    },
    "papermill": {
     "duration": 0.851779,
     "end_time": "2022-08-21T07:47:01.547376",
     "exception": false,
     "start_time": "2022-08-21T07:47:00.695597",
     "status": "completed"
    },
    "tags": []
   },
   "outputs": [
    {
     "data": {
      "image/png": "[encoded data removed]",
      "text/plain": [
       "<Figure size 576x324 with 1 Axes>"
      ]
     },
     "metadata": {
      "needs_background": "light"
     },
     "output_type": "display_data"
    }
   ],
   "source": [
    "fig, ax = plt.subplots(figsize=(8, 4.5))\n",
    "performance_comp.plot(ax=ax, logy=True);\n",
    "ax.set_title('Trend-following portfolio')\n",
    "ax.set_ylabel('Cumulative returns');"
   ]
  },
  {
   "cell_type": "code",
   "execution_count": 22,
   "id": "ab62556f",
   "metadata": {
    "execution": {
     "iopub.execute_input": "2022-08-21T07:47:01.574930Z",
     "iopub.status.busy": "2022-08-21T07:47:01.574630Z",
     "iopub.status.idle": "2022-08-21T07:47:01.706169Z",
     "shell.execute_reply": "2022-08-21T07:47:01.705440Z"
    },
    "papermill": {
     "duration": 0.147525,
     "end_time": "2022-08-21T07:47:01.708039",
     "exception": false,
     "start_time": "2022-08-21T07:47:01.560514",
     "status": "completed"
    },
    "tags": []
   },
   "outputs": [
    {
     "data": {
      "text/html": [
       "<div>\n",
       "<style scoped>\n",
       "    .dataframe tbody tr th:only-of-type {\n",
       "        vertical-align: middle;\n",
       "    }\n",
       "\n",
       "    .dataframe tbody tr th {\n",
       "        vertical-align: top;\n",
       "    }\n",
       "\n",
       "    .dataframe thead th {\n",
       "        text-align: right;\n",
       "    }\n",
       "</style>\n",
       "<table border=\"1\" class=\"dataframe\">\n",
       "  <thead>\n",
       "    <tr style=\"text-align: right;\">\n",
       "      <th></th>\n",
       "      <th>Trend-following portfolio (Moskowitz 2012)</th>\n",
       "      <th>Trend-following portfolio (YZ estimator)</th>\n",
       "      <th>Trend-following portfolio (TREND signal)</th>\n",
       "      <th>Trend-following portfolio (YZ estimator + TREND signal)</th>\n",
       "    </tr>\n",
       "  </thead>\n",
       "  <tbody>\n",
       "    <tr>\n",
       "      <th>CAGR</th>\n",
       "      <td>0.147519</td>\n",
       "      <td>0.148801</td>\n",
       "      <td>0.139597</td>\n",
       "      <td>0.139698</td>\n",
       "    </tr>\n",
       "    <tr>\n",
       "      <th>Annualised vol</th>\n",
       "      <td>0.124971</td>\n",
       "      <td>0.127104</td>\n",
       "      <td>0.107933</td>\n",
       "      <td>0.110532</td>\n",
       "    </tr>\n",
       "    <tr>\n",
       "      <th>Sharpe ratio</th>\n",
       "      <td>1.180420</td>\n",
       "      <td>1.170706</td>\n",
       "      <td>1.293363</td>\n",
       "      <td>1.263868</td>\n",
       "    </tr>\n",
       "    <tr>\n",
       "      <th>Max drawdown</th>\n",
       "      <td>0.259239</td>\n",
       "      <td>0.305877</td>\n",
       "      <td>0.294584</td>\n",
       "      <td>0.313945</td>\n",
       "    </tr>\n",
       "    <tr>\n",
       "      <th>Calmar ratio</th>\n",
       "      <td>0.569045</td>\n",
       "      <td>0.486474</td>\n",
       "      <td>0.473879</td>\n",
       "      <td>0.444977</td>\n",
       "    </tr>\n",
       "    <tr>\n",
       "      <th>Skewness</th>\n",
       "      <td>0.073282</td>\n",
       "      <td>0.281342</td>\n",
       "      <td>0.159098</td>\n",
       "      <td>0.293570</td>\n",
       "    </tr>\n",
       "    <tr>\n",
       "      <th>Kurtosis</th>\n",
       "      <td>19.342970</td>\n",
       "      <td>22.187248</td>\n",
       "      <td>28.006057</td>\n",
       "      <td>32.614183</td>\n",
       "    </tr>\n",
       "    <tr>\n",
       "      <th>Worst return</th>\n",
       "      <td>-0.126276</td>\n",
       "      <td>-0.137043</td>\n",
       "      <td>-0.121269</td>\n",
       "      <td>-0.130152</td>\n",
       "    </tr>\n",
       "    <tr>\n",
       "      <th>Worst 1d return</th>\n",
       "      <td>-0.126276</td>\n",
       "      <td>-0.137043</td>\n",
       "      <td>-0.121269</td>\n",
       "      <td>-0.130152</td>\n",
       "    </tr>\n",
       "    <tr>\n",
       "      <th>Worst 1w return</th>\n",
       "      <td>-0.107725</td>\n",
       "      <td>-0.098542</td>\n",
       "      <td>-0.110077</td>\n",
       "      <td>-0.112097</td>\n",
       "    </tr>\n",
       "    <tr>\n",
       "      <th>Worst 1m return</th>\n",
       "      <td>-0.152667</td>\n",
       "      <td>-0.169177</td>\n",
       "      <td>-0.171789</td>\n",
       "      <td>-0.186272</td>\n",
       "    </tr>\n",
       "  </tbody>\n",
       "</table>\n",
       "</div>"
      ],
      "text/plain": [
       "                 Trend-following portfolio (Moskowitz 2012)  \\\n",
       "CAGR                                               0.147519   \n",
       "Annualised vol                                     0.124971   \n",
       "Sharpe ratio                                       1.180420   \n",
       "Max drawdown                                       0.259239   \n",
       "Calmar ratio                                       0.569045   \n",
       "Skewness                                           0.073282   \n",
       "Kurtosis                                          19.342970   \n",
       "Worst return                                      -0.126276   \n",
       "Worst 1d return                                   -0.126276   \n",
       "Worst 1w return                                   -0.107725   \n",
       "Worst 1m return                                   -0.152667   \n",
       "\n",
       "                 Trend-following portfolio (YZ estimator)  \\\n",
       "CAGR                                             0.148801   \n",
       "Annualised vol                                   0.127104   \n",
       "Sharpe ratio                                     1.170706   \n",
       "Max drawdown                                     0.305877   \n",
       "Calmar ratio                                     0.486474   \n",
       "Skewness                                         0.281342   \n",
       "Kurtosis                                        22.187248   \n",
       "Worst return                                    -0.137043   \n",
       "Worst 1d return                                 -0.137043   \n",
       "Worst 1w return                                 -0.098542   \n",
       "Worst 1m return                                 -0.169177   \n",
       "\n",
       "                 Trend-following portfolio (TREND signal)  \\\n",
       "CAGR                                             0.139597   \n",
       "Annualised vol                                   0.107933   \n",
       "Sharpe ratio                                     1.293363   \n",
       "Max drawdown                                     0.294584   \n",
       "Calmar ratio                                     0.473879   \n",
       "Skewness                                         0.159098   \n",
       "Kurtosis                                        28.006057   \n",
       "Worst return                                    -0.121269   \n",
       "Worst 1d return                                 -0.121269   \n",
       "Worst 1w return                                 -0.110077   \n",
       "Worst 1m return                                 -0.171789   \n",
       "\n",
       "                 Trend-following portfolio (YZ estimator + TREND signal)  \n",
       "CAGR                                                      0.139698        \n",
       "Annualised vol                                            0.110532        \n",
       "Sharpe ratio                                              1.263868        \n",
       "Max drawdown                                              0.313945        \n",
       "Calmar ratio                                              0.444977        \n",
       "Skewness                                                  0.293570        \n",
       "Kurtosis                                                 32.614183        \n",
       "Worst return                                             -0.130152        \n",
       "Worst 1d return                                          -0.130152        \n",
       "Worst 1w return                                          -0.112097        \n",
       "Worst 1m return                                          -0.186272        "
      ]
     },
     "execution_count": 22,
     "metadata": {},
     "output_type": "execute_result"
    }
   ],
   "source": [
    "performance_comp.pipe(Performance).summary()"
   ]
  },
  {
   "cell_type": "markdown",
   "id": "d176e77d",
   "metadata": {
    "papermill": {
     "duration": 0.013016,
     "end_time": "2022-08-21T07:47:01.734287",
     "exception": false,
     "start_time": "2022-08-21T07:47:01.721271",
     "status": "completed"
    },
    "tags": []
   },
   "source": [
    "## Turnover reduction\n",
    "\n",
    "Again, as reported in BK2020, both enhancements reduce the turnover significantly while not affecting the performance. The chart below shows the reduction in turnover for each futures contract. By utilising the YZ realised volatility and the TREND signal, overall the turnover is reduced by more than 30%."
   ]
  },
  {
   "cell_type": "code",
   "execution_count": 23,
   "id": "4b656900",
   "metadata": {
    "execution": {
     "iopub.execute_input": "2022-08-21T07:47:01.762130Z",
     "iopub.status.busy": "2022-08-21T07:47:01.761602Z",
     "iopub.status.idle": "2022-08-21T07:52:27.880434Z",
     "shell.execute_reply": "2022-08-21T07:52:27.879773Z"
    },
    "papermill": {
     "duration": 326.134899,
     "end_time": "2022-08-21T07:52:27.882254",
     "exception": false,
     "start_time": "2022-08-21T07:47:01.747355",
     "status": "completed"
    },
    "tags": []
   },
   "outputs": [],
   "source": [
    "engine_original_pos = engine_original.get_position_by_instrument()\n",
    "engine_vol_pos = engine_vol.get_position_by_instrument()\n",
    "engine_trend_pos = engine_trend.get_position_by_instrument()\n",
    "engine_combined_pos = engine_combined.get_position_by_instrument()"
   ]
  },
  {
   "cell_type": "code",
   "execution_count": 24,
   "id": "62e40393",
   "metadata": {
    "execution": {
     "iopub.execute_input": "2022-08-21T07:52:27.910177Z",
     "iopub.status.busy": "2022-08-21T07:52:27.909902Z",
     "iopub.status.idle": "2022-08-21T07:52:27.946083Z",
     "shell.execute_reply": "2022-08-21T07:52:27.945432Z"
    },
    "papermill": {
     "duration": 0.052164,
     "end_time": "2022-08-21T07:52:27.947879",
     "exception": false,
     "start_time": "2022-08-21T07:52:27.895715",
     "status": "completed"
    },
    "tags": []
   },
   "outputs": [],
   "source": [
    "engine_original_turnover = (engine_original_pos.diff().abs().mean().mul(261)\n",
    "                            .rename('Trend-following portfolio (Moskowitz 2012)'))\n",
    "engine_vol_turnover = (engine_vol_pos.diff().abs().mean().mul(261)\n",
    "                       .rename('Trend-following portfolio (YZ estimator)'))\n",
    "engine_trend_turnover = (engine_trend_pos.diff().abs().mean().mul(261)\n",
    "                         .rename('Trend-following portfolio (TREND signal)'))\n",
    "engine_combined_turnover = (engine_combined_pos.diff().abs().mean().mul(261)\n",
    "                            .rename('Trend-following portfolio (YZ estimator + TREND signal)'))"
   ]
  },
  {
   "cell_type": "code",
   "execution_count": 25,
   "id": "441fdcb4",
   "metadata": {
    "execution": {
     "iopub.execute_input": "2022-08-21T07:52:27.976197Z",
     "iopub.status.busy": "2022-08-21T07:52:27.975654Z",
     "iopub.status.idle": "2022-08-21T07:52:27.982900Z",
     "shell.execute_reply": "2022-08-21T07:52:27.982240Z"
    },
    "papermill": {
     "duration": 0.023067,
     "end_time": "2022-08-21T07:52:27.984506",
     "exception": false,
     "start_time": "2022-08-21T07:52:27.961439",
     "status": "completed"
    },
    "tags": []
   },
   "outputs": [],
   "source": [
    "turnover_reduction = (\n",
    "    pd.concat((engine_vol_turnover, engine_trend_turnover, engine_combined_turnover), axis=1)\n",
    "    .div(engine_original_turnover, axis=0)\n",
    "    .sub(1)\n",
    "    .reindex(index=all_futures_baltas2020.index)\n",
    "    .rename(index=all_futures_baltas2020['name'])\n",
    ")"
   ]
  },
  {
   "cell_type": "code",
   "execution_count": 26,
   "id": "bb4e4f98",
   "metadata": {
    "execution": {
     "iopub.execute_input": "2022-08-21T07:52:28.012731Z",
     "iopub.status.busy": "2022-08-21T07:52:28.012443Z",
     "iopub.status.idle": "2022-08-21T07:52:28.018617Z",
     "shell.execute_reply": "2022-08-21T07:52:28.018054Z"
    },
    "papermill": {
     "duration": 0.022482,
     "end_time": "2022-08-21T07:52:28.020185",
     "exception": false,
     "start_time": "2022-08-21T07:52:27.997703",
     "status": "completed"
    },
    "tags": []
   },
   "outputs": [
    {
     "data": {
      "text/plain": [
       "Trend-following portfolio (YZ estimator)                  -0.181286\n",
       "Trend-following portfolio (TREND signal)                  -0.207359\n",
       "Trend-following portfolio (YZ estimator + TREND signal)   -0.330826\n",
       "dtype: float64"
      ]
     },
     "execution_count": 26,
     "metadata": {},
     "output_type": "execute_result"
    }
   ],
   "source": [
    "turnover_reduction.mean()"
   ]
  },
  {
   "cell_type": "code",
   "execution_count": 27,
   "id": "1642f3ab",
   "metadata": {
    "execution": {
     "iopub.execute_input": "2022-08-21T07:52:28.049282Z",
     "iopub.status.busy": "2022-08-21T07:52:28.049012Z",
     "iopub.status.idle": "2022-08-21T07:52:29.723000Z",
     "shell.execute_reply": "2022-08-21T07:52:29.722189Z"
    },
    "papermill": {
     "duration": 1.690784,
     "end_time": "2022-08-21T07:52:29.724743",
     "exception": false,
     "start_time": "2022-08-21T07:52:28.033959",
     "status": "completed"
    },
    "tags": []
   },
   "outputs": [
    {
     "data": {
      "image/png": "[encoded data removed]",
      "text/plain": [
       "<Figure size 1008x288 with 1 Axes>"
      ]
     },
     "metadata": {
      "needs_background": "light"
     },
     "output_type": "display_data"
    }
   ],
   "source": [
    "ax = turnover_reduction.plot(kind='bar', figsize=(14, 4))\n",
    "ax.yaxis.set_major_formatter(mticker.PercentFormatter(1))\n",
    "ax.axhline(0, color='black', lw=1)\n",
    "ax.axvline(24.5, color='black', lw=1)\n",
    "ax.axvline(30.5, color='black', lw=1)\n",
    "ax.axvline(42.5, color='black', lw=1)\n",
    "ax.set_xlabel('Contract')\n",
    "ax.set_ylabel('Turnover reduction');"
   ]
  },
  {
   "cell_type": "markdown",
   "id": "9ef80750",
   "metadata": {
    "papermill": {
     "duration": 0.014097,
     "end_time": "2022-08-21T07:52:29.752966",
     "exception": false,
     "start_time": "2022-08-21T07:52:29.738869",
     "status": "completed"
    },
    "tags": []
   },
   "source": [
    "# Recent performance"
   ]
  },
  {
   "cell_type": "code",
   "execution_count": 28,
   "id": "9c976e18",
   "metadata": {
    "execution": {
     "iopub.execute_input": "2022-08-21T07:52:29.782515Z",
     "iopub.status.busy": "2022-08-21T07:52:29.782244Z",
     "iopub.status.idle": "2022-08-21T07:52:30.259512Z",
     "shell.execute_reply": "2022-08-21T07:52:30.258811Z"
    },
    "papermill": {
     "duration": 0.494227,
     "end_time": "2022-08-21T07:52:30.261255",
     "exception": false,
     "start_time": "2022-08-21T07:52:29.767028",
     "status": "completed"
    },
    "tags": []
   },
   "outputs": [
    {
     "data": {
      "image/png": "[encoded data removed]",
      "text/plain": [
       "<Figure size 576x324 with 1 Axes>"
      ]
     },
     "metadata": {
      "needs_background": "light"
     },
     "output_type": "display_data"
    }
   ],
   "source": [
    "fig, ax = plt.subplots(figsize=(8, 4.5))\n",
    "performance_comp.tail(252 * 2).pct_change().fillna(0).add(1).cumprod().plot(ax=ax, logy=True);\n",
    "ax.set_title('Trend-following portfolio')\n",
    "ax.set_ylabel('Cumulative returns');"
   ]
  },
  {
   "cell_type": "markdown",
   "id": "4154cbd0",
   "metadata": {
    "papermill": {
     "duration": 0.015398,
     "end_time": "2022-08-21T07:52:30.292989",
     "exception": false,
     "start_time": "2022-08-21T07:52:30.277591",
     "status": "completed"
    },
    "tags": []
   },
   "source": [
    "# Reference\n",
    "\n",
    "- Baltas, N. and Kosowski, R., 2020. Demystifying time-series momentum strategies: Volatility estimators, trading rules and pairwise correlations. Market Momentum: Theory and Practice\", Wiley.\n",
    "- Moskowitz, T.J., Ooi, Y.H. and Pedersen, L.H., 2012. Time series momentum. Journal of financial economics, 104(2), pp.228-250."
   ]
  },
  {
   "cell_type": "code",
   "execution_count": 29,
   "id": "4a08a51a",
   "metadata": {
    "ExecuteTime": {
     "end_time": "2020-08-30T21:20:32.431574Z",
     "start_time": "2020-08-30T21:20:32.429370Z"
    },
    "execution": {
     "iopub.execute_input": "2022-08-21T07:52:30.328124Z",
     "iopub.status.busy": "2022-08-21T07:52:30.327775Z",
     "iopub.status.idle": "2022-08-21T07:52:30.331696Z",
     "shell.execute_reply": "2022-08-21T07:52:30.331051Z"
    },
    "papermill": {
     "duration": 0.023647,
     "end_time": "2022-08-21T07:52:30.333288",
     "exception": false,
     "start_time": "2022-08-21T07:52:30.309641",
     "status": "completed"
    },
    "tags": []
   },
   "outputs": [
    {
     "name": "stdout",
     "output_type": "stream",
     "text": [
      "Updated: 21-Aug-2022 07:52\n"
     ]
    }
   ],
   "source": [
    "print(f'Updated: {datetime.utcnow():%d-%b-%Y %H:%M}')"
   ]
  }
 ],
 "metadata": {
  "hide_input": false,
  "kernelspec": {
   "display_name": "Python 3",
   "language": "python",
   "name": "python3"
  },
  "language_info": {
   "codemirror_mode": {
    "name": "ipython",
    "version": 3
   },
   "file_extension": ".py",
   "mimetype": "text/x-python",
   "name": "python",
   "nbconvert_exporter": "python",
   "pygments_lexer": "ipython3",
   "version": "3.9.6"
  },
  "nav_menu": {},
  "papermill": {
   "duration": 5223.110893,
   "end_time": "2022-08-21T07:52:33.379455",
   "environment_variables": {},
   "exception": null,
   "input_path": "notebooks/papermill/trend_following_baltas2020.ipynb",
   "output_path": "notebooks/trend_following_baltas2020.ipynb",
   "parameters": {},
   "start_time": "2022-08-21T06:25:30.268562",
   "version": "2.1.3"
  },
  "toc": {
   "base_numbering": 1,
   "nav_menu": {},
   "number_sections": true,
   "sideBar": true,
   "skip_h1_title": false,
   "title_cell": "Table of Contents",
   "title_sidebar": "Contents",
   "toc_cell": true,
   "toc_position": {
    "height": "calc(100% - 180px)",
    "left": "10px",
    "top": "150px",
    "width": "165px"
   },
   "toc_section_display": "block",
   "toc_window_display": true
  }
 },
 "nbformat": 4,
 "nbformat_minor": 5
}