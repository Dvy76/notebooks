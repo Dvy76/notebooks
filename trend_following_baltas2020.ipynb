{
 "cells": [
  {
   "cell_type": "markdown",
   "id": "f6530b53",
   "metadata": {
    "papermill": {
     "duration": 0.0178,
     "end_time": "2022-08-31T06:26:42.869433",
     "exception": false,
     "start_time": "2022-08-31T06:26:42.851633",
     "status": "completed"
    },
    "tags": []
   },
   "source": [
    "# Trend-following\n",
    "\n",
    "This notebook implements a few improvements that Baltas and Kosowski (2020) (BK2020, hereafter) propose to the time-series momentum strategy which originally appeared in Moskowitz et al (2012).\n",
    "\n",
    "Note that like other notebooks, all backtests are performed by using a private library called `vivace`."
   ]
  },
  {
   "cell_type": "code",
   "execution_count": 1,
   "id": "e6e336d0",
   "metadata": {
    "ExecuteTime": {
     "end_time": "2020-08-30T21:08:49.524262Z",
     "start_time": "2020-08-30T21:08:48.720115Z"
    },
    "execution": {
     "iopub.execute_input": "2022-08-31T06:26:42.904349Z",
     "iopub.status.busy": "2022-08-31T06:26:42.903831Z",
     "iopub.status.idle": "2022-08-31T06:26:46.948843Z",
     "shell.execute_reply": "2022-08-31T06:26:46.947960Z"
    },
    "papermill": {
     "duration": 4.064806,
     "end_time": "2022-08-31T06:26:46.950914",
     "exception": false,
     "start_time": "2022-08-31T06:26:42.886108",
     "status": "completed"
    },
    "tags": []
   },
   "outputs": [],
   "source": [
    "%matplotlib inline\n",
    "from datetime import datetime\n",
    "import logging\n",
    "import warnings\n",
    "warnings.simplefilter(action='ignore', category=FutureWarning)\n",
    "\n",
    "import pandas as pd\n",
    "import matplotlib.pyplot as plt\n",
    "import matplotlib.ticker as mticker\n",
    "plt.style.use('bmh')\n",
    "\n",
    "from vivace.backtest import signal\n",
    "from vivace.backtest import processing\n",
    "from vivace.backtest.contract import all_futures_baltas2020\n",
    "from vivace.backtest.engine import BacktestEngine\n",
    "from vivace.backtest.enums import Strategy, Weighting, RealisedVolatility\n",
    "from vivace.backtest.stats import Performance"
   ]
  },
  {
   "cell_type": "markdown",
   "id": "3bb6b88d",
   "metadata": {
    "papermill": {
     "duration": 0.01359,
     "end_time": "2022-08-31T06:26:46.975136",
     "exception": false,
     "start_time": "2022-08-31T06:26:46.961546",
     "status": "completed"
    },
    "tags": []
   },
   "source": [
    "# Data"
   ]
  },
  {
   "cell_type": "code",
   "execution_count": 2,
   "id": "5d7b8b82",
   "metadata": {
    "ExecuteTime": {
     "end_time": "2020-08-30T21:08:49.529214Z",
     "start_time": "2020-08-30T21:08:49.525465Z"
    },
    "execution": {
     "iopub.execute_input": "2022-08-31T06:26:47.000518Z",
     "iopub.status.busy": "2022-08-31T06:26:46.999937Z",
     "iopub.status.idle": "2022-08-31T06:26:47.011143Z",
     "shell.execute_reply": "2022-08-31T06:26:47.010316Z"
    },
    "papermill": {
     "duration": 0.026257,
     "end_time": "2022-08-31T06:26:47.012938",
     "exception": false,
     "start_time": "2022-08-31T06:26:46.986681",
     "status": "completed"
    },
    "tags": []
   },
   "outputs": [
    {
     "data": {
      "text/plain": [
       "array(['WTI Crude Oil', 'Brent Crude Oil', 'Heating Oil', 'Natural Gas',\n",
       "       'Gasoline', 'Copper', 'Gold', 'Palladium', 'Platinum', 'Silver',\n",
       "       'Feeder Cattle', 'Live Cattle', 'Lean Hog', 'Corn', 'Oats',\n",
       "       'Soybean Oil', 'Soybean Meal', 'Soybean', 'Wheat', 'Cocoa',\n",
       "       'Coffee', 'Cotton', 'Lumber', 'Orange Juice', 'Sugar',\n",
       "       'Australian Dollar', 'Canadian Dollar', 'Swiss Franc', 'Euro',\n",
       "       'British Pound', 'Japanese Yen', 'E-Mini Nasdaq 100',\n",
       "       'E-mini S&P 500', 'E-mini Russell 2000', 'FTSE 100', 'DAX',\n",
       "       'CAC 40', 'IBEX 35', 'AEX', 'Swiss Market Index', 'SPI 200',\n",
       "       'Topix', 'Hang Seng', 'US 2-year Treasury', 'US 5-year Treasury',\n",
       "       'US 10-year Treasury', 'US treasury Bond', 'Germany Schatz',\n",
       "       'Germany Bobl', 'Germany Bund', 'Germany Buxl', 'Gilt',\n",
       "       'Canada 10-year Treasury', 'JGB'], dtype=object)"
      ]
     },
     "execution_count": 2,
     "metadata": {},
     "output_type": "execute_result"
    }
   ],
   "source": [
    "all_futures_baltas2020['name'].values"
   ]
  },
  {
   "cell_type": "code",
   "execution_count": 3,
   "id": "aa715326",
   "metadata": {
    "ExecuteTime": {
     "end_time": "2020-08-30T21:08:49.542477Z",
     "start_time": "2020-08-30T21:08:49.530487Z"
    },
    "execution": {
     "iopub.execute_input": "2022-08-31T06:26:47.071366Z",
     "iopub.status.busy": "2022-08-31T06:26:47.070915Z",
     "iopub.status.idle": "2022-08-31T06:26:47.075828Z",
     "shell.execute_reply": "2022-08-31T06:26:47.074934Z"
    },
    "papermill": {
     "duration": 0.053621,
     "end_time": "2022-08-31T06:26:47.078784",
     "exception": false,
     "start_time": "2022-08-31T06:26:47.025163",
     "status": "completed"
    },
    "tags": []
   },
   "outputs": [
    {
     "name": "stdout",
     "output_type": "stream",
     "text": [
      "54\n"
     ]
    }
   ],
   "source": [
    "print(len(all_futures_baltas2020))"
   ]
  },
  {
   "cell_type": "markdown",
   "id": "cc47bf99",
   "metadata": {
    "papermill": {
     "duration": 0.015944,
     "end_time": "2022-08-31T06:26:47.111041",
     "exception": false,
     "start_time": "2022-08-31T06:26:47.095097",
     "status": "completed"
    },
    "tags": []
   },
   "source": [
    "We try to use the same contract as the original paper where possible, resulting 54 futures contracts to analyse. The trading universe covers a wide range of asset classes and regions, and is made up of following instruments:\n",
    "- Equity index futures\n",
    "- Government bond futures\n",
    "- FX futures\n",
    "- Commodity futures\n",
    "\n",
    "where the same trend detection method is applied."
   ]
  },
  {
   "cell_type": "markdown",
   "id": "0fbf88ae",
   "metadata": {
    "papermill": {
     "duration": 0.016105,
     "end_time": "2022-08-31T06:26:47.143331",
     "exception": false,
     "start_time": "2022-08-31T06:26:47.127226",
     "status": "completed"
    },
    "tags": []
   },
   "source": [
    "# Performance\n"
   ]
  },
  {
   "cell_type": "markdown",
   "id": "c35ac276",
   "metadata": {
    "papermill": {
     "duration": 0.016132,
     "end_time": "2022-08-31T06:26:47.175440",
     "exception": false,
     "start_time": "2022-08-31T06:26:47.159308",
     "status": "completed"
    },
    "tags": []
   },
   "source": [
    "## Moskowitz et al\n",
    "\n",
    "First we calculate the original trend-following portfolio with a more traditional close-to-close realised volatility estimator. Although Moskowitz et al uses the exponentially weighted standard deviation, BK2020 appears to compare against the rolling standard deviation."
   ]
  },
  {
   "cell_type": "code",
   "execution_count": 4,
   "id": "f8a6c0a1",
   "metadata": {
    "execution": {
     "iopub.execute_input": "2022-08-31T06:26:47.209531Z",
     "iopub.status.busy": "2022-08-31T06:26:47.209268Z",
     "iopub.status.idle": "2022-08-31T06:38:40.185191Z",
     "shell.execute_reply": "2022-08-31T06:38:40.184406Z"
    },
    "papermill": {
     "duration": 712.995931,
     "end_time": "2022-08-31T06:38:40.187910",
     "exception": false,
     "start_time": "2022-08-31T06:26:47.191979",
     "status": "completed"
    },
    "tags": []
   },
   "outputs": [],
   "source": [
    "engine_original = BacktestEngine(\n",
    "    strategy=Strategy.DELTA_ONE.value,\n",
    "    instrument=all_futures_baltas2020.index,\n",
    "    signal=signal.ParallelSignal([\n",
    "        signal.VolatilityScale(agg_method='rolling', window=21, ann_factor=261, \n",
    "                               target_volatility=0.4, signal_cap=0.95),\n",
    "        signal.TSMOMMoskowitz2012(post_process=processing.AsFreq(freq='m', method='pad'))\n",
    "    ], weighting='product'),\n",
    "    weighting=Weighting.EQUAL_WEIGHT.value,\n",
    "    log_level=logging.WARN,\n",
    ")\n",
    "engine_original.run()"
   ]
  },
  {
   "cell_type": "code",
   "execution_count": 5,
   "id": "b3ca8170",
   "metadata": {
    "execution": {
     "iopub.execute_input": "2022-08-31T06:38:40.223693Z",
     "iopub.status.busy": "2022-08-31T06:38:40.223026Z",
     "iopub.status.idle": "2022-08-31T06:40:13.421036Z",
     "shell.execute_reply": "2022-08-31T06:40:13.420233Z"
    },
    "papermill": {
     "duration": 93.218298,
     "end_time": "2022-08-31T06:40:13.423478",
     "exception": false,
     "start_time": "2022-08-31T06:38:40.205180",
     "status": "completed"
    },
    "tags": []
   },
   "outputs": [],
   "source": [
    "engine_original_eq = (engine_original.calculate_equity_curve(calculate_net=False, rebalance_freq='m')\n",
    "                      .rename('Trend-following portfolio (Moskowitz 2012)'))"
   ]
  },
  {
   "cell_type": "code",
   "execution_count": 6,
   "id": "db002d69",
   "metadata": {
    "execution": {
     "iopub.execute_input": "2022-08-31T06:40:13.454658Z",
     "iopub.status.busy": "2022-08-31T06:40:13.454369Z",
     "iopub.status.idle": "2022-08-31T06:40:14.314902Z",
     "shell.execute_reply": "2022-08-31T06:40:14.313824Z"
    },
    "papermill": {
     "duration": 0.878836,
     "end_time": "2022-08-31T06:40:14.317001",
     "exception": false,
     "start_time": "2022-08-31T06:40:13.438165",
     "status": "completed"
    },
    "tags": []
   },
   "outputs": [
    {
     "data": {
      "image/png": "[encoded data removed]",
      "text/plain": [
       "<Figure size 576x324 with 1 Axes>"
      ]
     },
     "metadata": {
      "needs_background": "light"
     },
     "output_type": "display_data"
    }
   ],
   "source": [
    "fig, ax = plt.subplots(figsize=(8, 4.5))\n",
    "engine_original_eq.plot(ax=ax, logy=True)\n",
    "ax.set_title('Trend-following portfolio (Moskowitz 2012)')\n",
    "ax.set_ylabel('Cumulative returns');"
   ]
  },
  {
   "cell_type": "code",
   "execution_count": 7,
   "id": "79e624a1",
   "metadata": {
    "execution": {
     "iopub.execute_input": "2022-08-31T06:40:14.344506Z",
     "iopub.status.busy": "2022-08-31T06:40:14.344018Z",
     "iopub.status.idle": "2022-08-31T06:40:14.481442Z",
     "shell.execute_reply": "2022-08-31T06:40:14.480529Z"
    },
    "papermill": {
     "duration": 0.152669,
     "end_time": "2022-08-31T06:40:14.483451",
     "exception": false,
     "start_time": "2022-08-31T06:40:14.330782",
     "status": "completed"
    },
    "tags": []
   },
   "outputs": [
    {
     "data": {
      "text/html": [
       "<div>\n",
       "<style scoped>\n",
       "    .dataframe tbody tr th:only-of-type {\n",
       "        vertical-align: middle;\n",
       "    }\n",
       "\n",
       "    .dataframe tbody tr th {\n",
       "        vertical-align: top;\n",
       "    }\n",
       "\n",
       "    .dataframe thead th {\n",
       "        text-align: right;\n",
       "    }\n",
       "</style>\n",
       "<table border=\"1\" class=\"dataframe\">\n",
       "  <thead>\n",
       "    <tr style=\"text-align: right;\">\n",
       "      <th></th>\n",
       "      <th>Trend-following portfolio (Moskowitz 2012)</th>\n",
       "    </tr>\n",
       "  </thead>\n",
       "  <tbody>\n",
       "    <tr>\n",
       "      <th>CAGR</th>\n",
       "      <td>0.148173</td>\n",
       "    </tr>\n",
       "    <tr>\n",
       "      <th>Annualised vol</th>\n",
       "      <td>0.125000</td>\n",
       "    </tr>\n",
       "    <tr>\n",
       "      <th>Sharpe ratio</th>\n",
       "      <td>1.185387</td>\n",
       "    </tr>\n",
       "    <tr>\n",
       "      <th>Max drawdown</th>\n",
       "      <td>0.259239</td>\n",
       "    </tr>\n",
       "    <tr>\n",
       "      <th>Calmar ratio</th>\n",
       "      <td>0.571568</td>\n",
       "    </tr>\n",
       "    <tr>\n",
       "      <th>Skewness</th>\n",
       "      <td>0.073459</td>\n",
       "    </tr>\n",
       "    <tr>\n",
       "      <th>Kurtosis</th>\n",
       "      <td>19.316397</td>\n",
       "    </tr>\n",
       "    <tr>\n",
       "      <th>Worst return</th>\n",
       "      <td>-0.126276</td>\n",
       "    </tr>\n",
       "    <tr>\n",
       "      <th>Worst 1d return</th>\n",
       "      <td>-0.126276</td>\n",
       "    </tr>\n",
       "    <tr>\n",
       "      <th>Worst 1w return</th>\n",
       "      <td>-0.107725</td>\n",
       "    </tr>\n",
       "    <tr>\n",
       "      <th>Worst 1m return</th>\n",
       "      <td>-0.152667</td>\n",
       "    </tr>\n",
       "  </tbody>\n",
       "</table>\n",
       "</div>"
      ],
      "text/plain": [
       "                 Trend-following portfolio (Moskowitz 2012)\n",
       "CAGR                                               0.148173\n",
       "Annualised vol                                     0.125000\n",
       "Sharpe ratio                                       1.185387\n",
       "Max drawdown                                       0.259239\n",
       "Calmar ratio                                       0.571568\n",
       "Skewness                                           0.073459\n",
       "Kurtosis                                          19.316397\n",
       "Worst return                                      -0.126276\n",
       "Worst 1d return                                   -0.126276\n",
       "Worst 1w return                                   -0.107725\n",
       "Worst 1m return                                   -0.152667"
      ]
     },
     "execution_count": 7,
     "metadata": {},
     "output_type": "execute_result"
    }
   ],
   "source": [
    "engine_original_eq.pipe(Performance).summary()"
   ]
  },
  {
   "cell_type": "markdown",
   "id": "fb7fe6b4",
   "metadata": {
    "papermill": {
     "duration": 0.013395,
     "end_time": "2022-08-31T06:40:14.508613",
     "exception": false,
     "start_time": "2022-08-31T06:40:14.495218",
     "status": "completed"
    },
    "tags": []
   },
   "source": [
    "\n",
    "## Volatility estimator\n",
    "BK2020 proposes a few changes in order to enhance the original trend-following strategy Moskowitz et al reported. The first thing is to use a more sophisticated realised volatility estimators for volatility scaling. Moskowitz used the exponentially weighted standard deviation with close-to-close. On the other hand, BK2020 suggests to use Yang-Zhang estimator as it is much more efficient."
   ]
  },
  {
   "cell_type": "code",
   "execution_count": 8,
   "id": "c4a018e3",
   "metadata": {
    "ExecuteTime": {
     "end_time": "2020-08-30T21:18:24.661167Z",
     "start_time": "2020-08-30T21:08:49.544232Z"
    },
    "execution": {
     "iopub.execute_input": "2022-08-31T06:40:14.533125Z",
     "iopub.status.busy": "2022-08-31T06:40:14.532749Z",
     "iopub.status.idle": "2022-08-31T07:01:47.670999Z",
     "shell.execute_reply": "2022-08-31T07:01:47.670229Z"
    },
    "papermill": {
     "duration": 1293.153983,
     "end_time": "2022-08-31T07:01:47.673396",
     "exception": false,
     "start_time": "2022-08-31T06:40:14.519413",
     "status": "completed"
    },
    "tags": []
   },
   "outputs": [],
   "source": [
    "engine_vol = BacktestEngine(\n",
    "    strategy=Strategy.DELTA_ONE.value,\n",
    "    instrument=all_futures_baltas2020.index,\n",
    "    signal=signal.ParallelSignal([\n",
    "        signal.VolatilityScale(volatility_type=RealisedVolatility.YZ.value,\n",
    "                               agg_method='rolling', window=21, min_periods=10,\n",
    "                               target_volatility=0.4, signal_cap=0.95, ann_factor=261),\n",
    "        signal.TSMOMMoskowitz2012(post_process=processing.AsFreq(freq='m', method='pad'))\n",
    "    ], weighting='product'),\n",
    "    weighting=Weighting.EQUAL_WEIGHT.value,\n",
    "    log_level=logging.WARN,\n",
    ")\n",
    "engine_vol.run()"
   ]
  },
  {
   "cell_type": "code",
   "execution_count": 9,
   "id": "a521ebfb",
   "metadata": {
    "execution": {
     "iopub.execute_input": "2022-08-31T07:01:47.699733Z",
     "iopub.status.busy": "2022-08-31T07:01:47.699472Z",
     "iopub.status.idle": "2022-08-31T07:03:13.663982Z",
     "shell.execute_reply": "2022-08-31T07:03:13.663034Z"
    },
    "papermill": {
     "duration": 85.978391,
     "end_time": "2022-08-31T07:03:13.666290",
     "exception": false,
     "start_time": "2022-08-31T07:01:47.687899",
     "status": "completed"
    },
    "tags": []
   },
   "outputs": [],
   "source": [
    "engine_vol_eq = (engine_vol.calculate_equity_curve(calculate_net=False, rebalance_freq='m')\n",
    "                 .rename('Trend-following portfolio (YZ estimator)'))"
   ]
  },
  {
   "cell_type": "code",
   "execution_count": 10,
   "id": "301f9fc8",
   "metadata": {
    "execution": {
     "iopub.execute_input": "2022-08-31T07:03:13.695632Z",
     "iopub.status.busy": "2022-08-31T07:03:13.694874Z",
     "iopub.status.idle": "2022-08-31T07:03:14.293089Z",
     "shell.execute_reply": "2022-08-31T07:03:14.292256Z"
    },
    "papermill": {
     "duration": 0.613446,
     "end_time": "2022-08-31T07:03:14.294932",
     "exception": false,
     "start_time": "2022-08-31T07:03:13.681486",
     "status": "completed"
    },
    "tags": []
   },
   "outputs": [
    {
     "data": {
      "image/png": "[encoded data removed]",
      "text/plain": [
       "<Figure size 576x324 with 1 Axes>"
      ]
     },
     "metadata": {
      "needs_background": "light"
     },
     "output_type": "display_data"
    }
   ],
   "source": [
    "fig, ax = plt.subplots(figsize=(8, 4.5))\n",
    "engine_vol_eq.plot(ax=ax, logy=True);\n",
    "ax.set_title('Trend-following portfolio (YZ estimator)')\n",
    "ax.set_ylabel('Cumulative returns');"
   ]
  },
  {
   "cell_type": "code",
   "execution_count": 11,
   "id": "6ab20312",
   "metadata": {
    "execution": {
     "iopub.execute_input": "2022-08-31T07:03:14.318473Z",
     "iopub.status.busy": "2022-08-31T07:03:14.317874Z",
     "iopub.status.idle": "2022-08-31T07:03:14.400208Z",
     "shell.execute_reply": "2022-08-31T07:03:14.399423Z"
    },
    "papermill": {
     "duration": 0.096195,
     "end_time": "2022-08-31T07:03:14.402011",
     "exception": false,
     "start_time": "2022-08-31T07:03:14.305816",
     "status": "completed"
    },
    "tags": []
   },
   "outputs": [
    {
     "data": {
      "text/html": [
       "<div>\n",
       "<style scoped>\n",
       "    .dataframe tbody tr th:only-of-type {\n",
       "        vertical-align: middle;\n",
       "    }\n",
       "\n",
       "    .dataframe tbody tr th {\n",
       "        vertical-align: top;\n",
       "    }\n",
       "\n",
       "    .dataframe thead th {\n",
       "        text-align: right;\n",
       "    }\n",
       "</style>\n",
       "<table border=\"1\" class=\"dataframe\">\n",
       "  <thead>\n",
       "    <tr style=\"text-align: right;\">\n",
       "      <th></th>\n",
       "      <th>Trend-following portfolio (YZ estimator)</th>\n",
       "    </tr>\n",
       "  </thead>\n",
       "  <tbody>\n",
       "    <tr>\n",
       "      <th>CAGR</th>\n",
       "      <td>0.149828</td>\n",
       "    </tr>\n",
       "    <tr>\n",
       "      <th>Annualised vol</th>\n",
       "      <td>0.127286</td>\n",
       "    </tr>\n",
       "    <tr>\n",
       "      <th>Sharpe ratio</th>\n",
       "      <td>1.177104</td>\n",
       "    </tr>\n",
       "    <tr>\n",
       "      <th>Max drawdown</th>\n",
       "      <td>0.305877</td>\n",
       "    </tr>\n",
       "    <tr>\n",
       "      <th>Calmar ratio</th>\n",
       "      <td>0.489833</td>\n",
       "    </tr>\n",
       "    <tr>\n",
       "      <th>Skewness</th>\n",
       "      <td>0.280354</td>\n",
       "    </tr>\n",
       "    <tr>\n",
       "      <th>Kurtosis</th>\n",
       "      <td>22.096874</td>\n",
       "    </tr>\n",
       "    <tr>\n",
       "      <th>Worst return</th>\n",
       "      <td>-0.137043</td>\n",
       "    </tr>\n",
       "    <tr>\n",
       "      <th>Worst 1d return</th>\n",
       "      <td>-0.137043</td>\n",
       "    </tr>\n",
       "    <tr>\n",
       "      <th>Worst 1w return</th>\n",
       "      <td>-0.098542</td>\n",
       "    </tr>\n",
       "    <tr>\n",
       "      <th>Worst 1m return</th>\n",
       "      <td>-0.169177</td>\n",
       "    </tr>\n",
       "  </tbody>\n",
       "</table>\n",
       "</div>"
      ],
      "text/plain": [
       "                 Trend-following portfolio (YZ estimator)\n",
       "CAGR                                             0.149828\n",
       "Annualised vol                                   0.127286\n",
       "Sharpe ratio                                     1.177104\n",
       "Max drawdown                                     0.305877\n",
       "Calmar ratio                                     0.489833\n",
       "Skewness                                         0.280354\n",
       "Kurtosis                                        22.096874\n",
       "Worst return                                    -0.137043\n",
       "Worst 1d return                                 -0.137043\n",
       "Worst 1w return                                 -0.098542\n",
       "Worst 1m return                                 -0.169177"
      ]
     },
     "execution_count": 11,
     "metadata": {},
     "output_type": "execute_result"
    }
   ],
   "source": [
    "engine_vol_eq.pipe(Performance).summary()"
   ]
  },
  {
   "cell_type": "markdown",
   "id": "0af426f8",
   "metadata": {
    "papermill": {
     "duration": 0.011052,
     "end_time": "2022-08-31T07:03:14.424608",
     "exception": false,
     "start_time": "2022-08-31T07:03:14.413556",
     "status": "completed"
    },
    "tags": []
   },
   "source": [
    "## TREND signal\n",
    "\n",
    "Another improvement BK2020 proposes is to use a continuous signal rather than a binary one in order to reduce the turnover when signals are weak. Specifically they used the t-values with the Newey-West standard error as the signal. They further capped and floored the signal between -1 and +1 to avoid extreme positions.\n",
    "\n",
    "`statsmodels`'s `OLS` class provides a method to compute the Newey-West standard error. https://www.statsmodels.org/stable/generated/statsmodels.regression.linear_model.OLS.html"
   ]
  },
  {
   "cell_type": "code",
   "execution_count": 12,
   "id": "c3662ba6",
   "metadata": {
    "execution": {
     "iopub.execute_input": "2022-08-31T07:03:14.449066Z",
     "iopub.status.busy": "2022-08-31T07:03:14.448621Z",
     "iopub.status.idle": "2022-08-31T07:22:24.360042Z",
     "shell.execute_reply": "2022-08-31T07:22:24.359380Z"
    },
    "papermill": {
     "duration": 1149.926026,
     "end_time": "2022-08-31T07:22:24.361943",
     "exception": false,
     "start_time": "2022-08-31T07:03:14.435917",
     "status": "completed"
    },
    "tags": []
   },
   "outputs": [],
   "source": [
    "engine_trend = BacktestEngine(\n",
    "    strategy=Strategy.DELTA_ONE.value,\n",
    "    instrument=all_futures_baltas2020.index,\n",
    "    signal=signal.ParallelSignal([\n",
    "        signal.VolatilityScale(agg_method='rolling', window=21, ann_factor=261, \n",
    "                               target_volatility=0.4, signal_cap=0.95),\n",
    "        signal.TSMOMBaltas2020()\n",
    "    ], weighting='product'),\n",
    "    weighting=Weighting.EQUAL_WEIGHT.value,\n",
    "    log_level=logging.WARN,\n",
    ")\n",
    "engine_trend.run()"
   ]
  },
  {
   "cell_type": "code",
   "execution_count": 13,
   "id": "19406fa9",
   "metadata": {
    "execution": {
     "iopub.execute_input": "2022-08-31T07:22:24.388003Z",
     "iopub.status.busy": "2022-08-31T07:22:24.387702Z",
     "iopub.status.idle": "2022-08-31T07:23:51.249696Z",
     "shell.execute_reply": "2022-08-31T07:23:51.248721Z"
    },
    "papermill": {
     "duration": 86.87751,
     "end_time": "2022-08-31T07:23:51.251858",
     "exception": false,
     "start_time": "2022-08-31T07:22:24.374348",
     "status": "completed"
    },
    "tags": []
   },
   "outputs": [],
   "source": [
    "engine_trend_eq = (engine_trend.calculate_equity_curve(calculate_net=False, rebalance_freq='m')\n",
    "                   .rename('Trend-following portfolio (TREND signal)'))"
   ]
  },
  {
   "cell_type": "code",
   "execution_count": 14,
   "id": "5eefc992",
   "metadata": {
    "execution": {
     "iopub.execute_input": "2022-08-31T07:23:51.275097Z",
     "iopub.status.busy": "2022-08-31T07:23:51.274835Z",
     "iopub.status.idle": "2022-08-31T07:23:51.850208Z",
     "shell.execute_reply": "2022-08-31T07:23:51.849450Z"
    },
    "papermill": {
     "duration": 0.58985,
     "end_time": "2022-08-31T07:23:51.852778",
     "exception": false,
     "start_time": "2022-08-31T07:23:51.262928",
     "status": "completed"
    },
    "tags": []
   },
   "outputs": [
    {
     "data": {
      "image/png": "[encoded data removed]",
      "text/plain": [
       "<Figure size 576x324 with 1 Axes>"
      ]
     },
     "metadata": {
      "needs_background": "light"
     },
     "output_type": "display_data"
    }
   ],
   "source": [
    "fig, ax = plt.subplots(figsize=(8, 4.5))\n",
    "engine_trend_eq.plot(ax=ax, logy=True);\n",
    "ax.set_title('Trend-following portfolio (TREND signal)')\n",
    "ax.set_ylabel('Cumulative returns');"
   ]
  },
  {
   "cell_type": "code",
   "execution_count": 15,
   "id": "36cbd85c",
   "metadata": {
    "execution": {
     "iopub.execute_input": "2022-08-31T07:23:51.878197Z",
     "iopub.status.busy": "2022-08-31T07:23:51.877937Z",
     "iopub.status.idle": "2022-08-31T07:23:51.957563Z",
     "shell.execute_reply": "2022-08-31T07:23:51.956688Z"
    },
    "papermill": {
     "duration": 0.093901,
     "end_time": "2022-08-31T07:23:51.959418",
     "exception": false,
     "start_time": "2022-08-31T07:23:51.865517",
     "status": "completed"
    },
    "tags": []
   },
   "outputs": [
    {
     "data": {
      "text/html": [
       "<div>\n",
       "<style scoped>\n",
       "    .dataframe tbody tr th:only-of-type {\n",
       "        vertical-align: middle;\n",
       "    }\n",
       "\n",
       "    .dataframe tbody tr th {\n",
       "        vertical-align: top;\n",
       "    }\n",
       "\n",
       "    .dataframe thead th {\n",
       "        text-align: right;\n",
       "    }\n",
       "</style>\n",
       "<table border=\"1\" class=\"dataframe\">\n",
       "  <thead>\n",
       "    <tr style=\"text-align: right;\">\n",
       "      <th></th>\n",
       "      <th>Trend-following portfolio (TREND signal)</th>\n",
       "    </tr>\n",
       "  </thead>\n",
       "  <tbody>\n",
       "    <tr>\n",
       "      <th>CAGR</th>\n",
       "      <td>0.139995</td>\n",
       "    </tr>\n",
       "    <tr>\n",
       "      <th>Annualised vol</th>\n",
       "      <td>0.107939</td>\n",
       "    </tr>\n",
       "    <tr>\n",
       "      <th>Sharpe ratio</th>\n",
       "      <td>1.296985</td>\n",
       "    </tr>\n",
       "    <tr>\n",
       "      <th>Max drawdown</th>\n",
       "      <td>0.294584</td>\n",
       "    </tr>\n",
       "    <tr>\n",
       "      <th>Calmar ratio</th>\n",
       "      <td>0.475229</td>\n",
       "    </tr>\n",
       "    <tr>\n",
       "      <th>Skewness</th>\n",
       "      <td>0.158754</td>\n",
       "    </tr>\n",
       "    <tr>\n",
       "      <th>Kurtosis</th>\n",
       "      <td>27.987731</td>\n",
       "    </tr>\n",
       "    <tr>\n",
       "      <th>Worst return</th>\n",
       "      <td>-0.121269</td>\n",
       "    </tr>\n",
       "    <tr>\n",
       "      <th>Worst 1d return</th>\n",
       "      <td>-0.121269</td>\n",
       "    </tr>\n",
       "    <tr>\n",
       "      <th>Worst 1w return</th>\n",
       "      <td>-0.110077</td>\n",
       "    </tr>\n",
       "    <tr>\n",
       "      <th>Worst 1m return</th>\n",
       "      <td>-0.171789</td>\n",
       "    </tr>\n",
       "  </tbody>\n",
       "</table>\n",
       "</div>"
      ],
      "text/plain": [
       "                 Trend-following portfolio (TREND signal)\n",
       "CAGR                                             0.139995\n",
       "Annualised vol                                   0.107939\n",
       "Sharpe ratio                                     1.296985\n",
       "Max drawdown                                     0.294584\n",
       "Calmar ratio                                     0.475229\n",
       "Skewness                                         0.158754\n",
       "Kurtosis                                        27.987731\n",
       "Worst return                                    -0.121269\n",
       "Worst 1d return                                 -0.121269\n",
       "Worst 1w return                                 -0.110077\n",
       "Worst 1m return                                 -0.171789"
      ]
     },
     "execution_count": 15,
     "metadata": {},
     "output_type": "execute_result"
    }
   ],
   "source": [
    "engine_trend_eq.pipe(Performance).summary()"
   ]
  },
  {
   "cell_type": "markdown",
   "id": "65fb83cc",
   "metadata": {
    "papermill": {
     "duration": 0.011954,
     "end_time": "2022-08-31T07:23:51.982875",
     "exception": false,
     "start_time": "2022-08-31T07:23:51.970921",
     "status": "completed"
    },
    "tags": []
   },
   "source": [
    "## Combined\n",
    "\n",
    "Finally we run a backtest by using both the Yang-Zhang volatility estimator and the TREND signal."
   ]
  },
  {
   "cell_type": "code",
   "execution_count": 16,
   "id": "e2be0c0f",
   "metadata": {
    "execution": {
     "iopub.execute_input": "2022-08-31T07:23:52.007591Z",
     "iopub.status.busy": "2022-08-31T07:23:52.007331Z",
     "iopub.status.idle": "2022-08-31T07:50:00.534845Z",
     "shell.execute_reply": "2022-08-31T07:50:00.534205Z"
    },
    "papermill": {
     "duration": 1568.544295,
     "end_time": "2022-08-31T07:50:00.538756",
     "exception": false,
     "start_time": "2022-08-31T07:23:51.994461",
     "status": "completed"
    },
    "tags": []
   },
   "outputs": [],
   "source": [
    "engine_combined = BacktestEngine(\n",
    "    strategy=Strategy.DELTA_ONE.value,\n",
    "    instrument=all_futures_baltas2020.index,\n",
    "    signal=signal.ParallelSignal([\n",
    "        signal.VolatilityScale(volatility_type=RealisedVolatility.YZ.value,\n",
    "                               agg_method='rolling', window=21, min_periods=10,\n",
    "                               target_volatility=0.4, signal_cap=0.95, ann_factor=261),\n",
    "        signal.TSMOMBaltas2020()\n",
    "    ], weighting='product'),\n",
    "    weighting=Weighting.EQUAL_WEIGHT.value,\n",
    "    log_level=logging.WARN,\n",
    ")\n",
    "engine_combined.run()"
   ]
  },
  {
   "cell_type": "code",
   "execution_count": 17,
   "id": "7bce9c95",
   "metadata": {
    "execution": {
     "iopub.execute_input": "2022-08-31T07:50:00.573617Z",
     "iopub.status.busy": "2022-08-31T07:50:00.573273Z",
     "iopub.status.idle": "2022-08-31T07:51:24.339645Z",
     "shell.execute_reply": "2022-08-31T07:51:24.338919Z"
    },
    "papermill": {
     "duration": 83.784636,
     "end_time": "2022-08-31T07:51:24.341438",
     "exception": false,
     "start_time": "2022-08-31T07:50:00.556802",
     "status": "completed"
    },
    "tags": []
   },
   "outputs": [],
   "source": [
    "engine_combined_eq = (engine_combined.calculate_equity_curve(calculate_net=False, rebalance_freq='m')\n",
    "                      .rename('Trend-following portfolio (YZ estimator + TREND signal)'))"
   ]
  },
  {
   "cell_type": "code",
   "execution_count": 18,
   "id": "e457c885",
   "metadata": {
    "execution": {
     "iopub.execute_input": "2022-08-31T07:51:24.365751Z",
     "iopub.status.busy": "2022-08-31T07:51:24.365485Z",
     "iopub.status.idle": "2022-08-31T07:51:24.928472Z",
     "shell.execute_reply": "2022-08-31T07:51:24.927851Z"
    },
    "papermill": {
     "duration": 0.577097,
     "end_time": "2022-08-31T07:51:24.930064",
     "exception": false,
     "start_time": "2022-08-31T07:51:24.352967",
     "status": "completed"
    },
    "tags": []
   },
   "outputs": [
    {
     "data": {
      "image/png": "[encoded data removed]",
      "text/plain": [
       "<Figure size 576x324 with 1 Axes>"
      ]
     },
     "metadata": {
      "needs_background": "light"
     },
     "output_type": "display_data"
    }
   ],
   "source": [
    "fig, ax = plt.subplots(figsize=(8, 4.5))\n",
    "engine_combined_eq.plot(ax=ax, logy=True)\n",
    "ax.set_title('Trend-following portfolio (YZ estimator + TREND signal)')\n",
    "ax.set_ylabel('Cumulative returns');"
   ]
  },
  {
   "cell_type": "code",
   "execution_count": 19,
   "id": "81594aca",
   "metadata": {
    "execution": {
     "iopub.execute_input": "2022-08-31T07:51:24.955040Z",
     "iopub.status.busy": "2022-08-31T07:51:24.954768Z",
     "iopub.status.idle": "2022-08-31T07:51:25.033796Z",
     "shell.execute_reply": "2022-08-31T07:51:25.033045Z"
    },
    "papermill": {
     "duration": 0.093448,
     "end_time": "2022-08-31T07:51:25.035440",
     "exception": false,
     "start_time": "2022-08-31T07:51:24.941992",
     "status": "completed"
    },
    "tags": []
   },
   "outputs": [
    {
     "data": {
      "text/html": [
       "<div>\n",
       "<style scoped>\n",
       "    .dataframe tbody tr th:only-of-type {\n",
       "        vertical-align: middle;\n",
       "    }\n",
       "\n",
       "    .dataframe tbody tr th {\n",
       "        vertical-align: top;\n",
       "    }\n",
       "\n",
       "    .dataframe thead th {\n",
       "        text-align: right;\n",
       "    }\n",
       "</style>\n",
       "<table border=\"1\" class=\"dataframe\">\n",
       "  <thead>\n",
       "    <tr style=\"text-align: right;\">\n",
       "      <th></th>\n",
       "      <th>Trend-following portfolio (YZ estimator + TREND signal)</th>\n",
       "    </tr>\n",
       "  </thead>\n",
       "  <tbody>\n",
       "    <tr>\n",
       "      <th>CAGR</th>\n",
       "      <td>0.140458</td>\n",
       "    </tr>\n",
       "    <tr>\n",
       "      <th>Annualised vol</th>\n",
       "      <td>0.110672</td>\n",
       "    </tr>\n",
       "    <tr>\n",
       "      <th>Sharpe ratio</th>\n",
       "      <td>1.269133</td>\n",
       "    </tr>\n",
       "    <tr>\n",
       "      <th>Max drawdown</th>\n",
       "      <td>0.313945</td>\n",
       "    </tr>\n",
       "    <tr>\n",
       "      <th>Calmar ratio</th>\n",
       "      <td>0.447395</td>\n",
       "    </tr>\n",
       "    <tr>\n",
       "      <th>Skewness</th>\n",
       "      <td>0.292183</td>\n",
       "    </tr>\n",
       "    <tr>\n",
       "      <th>Kurtosis</th>\n",
       "      <td>32.507434</td>\n",
       "    </tr>\n",
       "    <tr>\n",
       "      <th>Worst return</th>\n",
       "      <td>-0.130152</td>\n",
       "    </tr>\n",
       "    <tr>\n",
       "      <th>Worst 1d return</th>\n",
       "      <td>-0.130152</td>\n",
       "    </tr>\n",
       "    <tr>\n",
       "      <th>Worst 1w return</th>\n",
       "      <td>-0.112097</td>\n",
       "    </tr>\n",
       "    <tr>\n",
       "      <th>Worst 1m return</th>\n",
       "      <td>-0.186272</td>\n",
       "    </tr>\n",
       "  </tbody>\n",
       "</table>\n",
       "</div>"
      ],
      "text/plain": [
       "                 Trend-following portfolio (YZ estimator + TREND signal)\n",
       "CAGR                                                      0.140458      \n",
       "Annualised vol                                            0.110672      \n",
       "Sharpe ratio                                              1.269133      \n",
       "Max drawdown                                              0.313945      \n",
       "Calmar ratio                                              0.447395      \n",
       "Skewness                                                  0.292183      \n",
       "Kurtosis                                                 32.507434      \n",
       "Worst return                                             -0.130152      \n",
       "Worst 1d return                                          -0.130152      \n",
       "Worst 1w return                                          -0.112097      \n",
       "Worst 1m return                                          -0.186272      "
      ]
     },
     "execution_count": 19,
     "metadata": {},
     "output_type": "execute_result"
    }
   ],
   "source": [
    "engine_combined_eq.pipe(Performance).summary()"
   ]
  },
  {
   "cell_type": "markdown",
   "id": "ad4c6fa5",
   "metadata": {
    "papermill": {
     "duration": 0.044916,
     "end_time": "2022-08-31T07:51:25.092367",
     "exception": false,
     "start_time": "2022-08-31T07:51:25.047451",
     "status": "completed"
    },
    "tags": []
   },
   "source": [
    "# Comparison\n",
    "\n",
    "In this section we compare the above 4 backtests."
   ]
  },
  {
   "cell_type": "markdown",
   "id": "477dc4a1",
   "metadata": {
    "papermill": {
     "duration": 0.012166,
     "end_time": "2022-08-31T07:51:25.118419",
     "exception": false,
     "start_time": "2022-08-31T07:51:25.106253",
     "status": "completed"
    },
    "tags": []
   },
   "source": [
    "## Performance\n",
    "\n",
    "As reported in BK2020, using the YZ estimator and TREND signal does not alter the performance characteristics. Rather, the TREND signal somewhat improves the Sharpe ratio. Also the TREND signal lowers the annualised volatility from 12.5% to 10.8% with the close-to-close realised volatility."
   ]
  },
  {
   "cell_type": "code",
   "execution_count": 20,
   "id": "50e05e33",
   "metadata": {
    "execution": {
     "iopub.execute_input": "2022-08-31T07:51:25.146706Z",
     "iopub.status.busy": "2022-08-31T07:51:25.146426Z",
     "iopub.status.idle": "2022-08-31T07:51:25.159995Z",
     "shell.execute_reply": "2022-08-31T07:51:25.159242Z"
    },
    "papermill": {
     "duration": 0.030666,
     "end_time": "2022-08-31T07:51:25.162428",
     "exception": false,
     "start_time": "2022-08-31T07:51:25.131762",
     "status": "completed"
    },
    "tags": []
   },
   "outputs": [],
   "source": [
    "performance_comp = pd.concat((engine_original_eq, engine_vol_eq, \n",
    "                              engine_trend_eq, engine_combined_eq), axis=1)"
   ]
  },
  {
   "cell_type": "code",
   "execution_count": 21,
   "id": "ca25f49d",
   "metadata": {
    "execution": {
     "iopub.execute_input": "2022-08-31T07:51:25.200331Z",
     "iopub.status.busy": "2022-08-31T07:51:25.199996Z",
     "iopub.status.idle": "2022-08-31T07:51:25.970926Z",
     "shell.execute_reply": "2022-08-31T07:51:25.970201Z"
    },
    "papermill": {
     "duration": 0.791759,
     "end_time": "2022-08-31T07:51:25.972744",
     "exception": false,
     "start_time": "2022-08-31T07:51:25.180985",
     "status": "completed"
    },
    "tags": []
   },
   "outputs": [
    {
     "data": {
      "image/png": "[encoded data removed]",
      "text/plain": [
       "<Figure size 576x324 with 1 Axes>"
      ]
     },
     "metadata": {
      "needs_background": "light"
     },
     "output_type": "display_data"
    }
   ],
   "source": [
    "fig, ax = plt.subplots(figsize=(8, 4.5))\n",
    "performance_comp.plot(ax=ax, logy=True);\n",
    "ax.set_title('Trend-following portfolio')\n",
    "ax.set_ylabel('Cumulative returns');"
   ]
  },
  {
   "cell_type": "code",
   "execution_count": 22,
   "id": "dd46ce7b",
   "metadata": {
    "execution": {
     "iopub.execute_input": "2022-08-31T07:51:25.999545Z",
     "iopub.status.busy": "2022-08-31T07:51:25.999282Z",
     "iopub.status.idle": "2022-08-31T07:51:26.098237Z",
     "shell.execute_reply": "2022-08-31T07:51:26.097413Z"
    },
    "papermill": {
     "duration": 0.114351,
     "end_time": "2022-08-31T07:51:26.099905",
     "exception": false,
     "start_time": "2022-08-31T07:51:25.985554",
     "status": "completed"
    },
    "tags": []
   },
   "outputs": [
    {
     "data": {
      "text/html": [
       "<div>\n",
       "<style scoped>\n",
       "    .dataframe tbody tr th:only-of-type {\n",
       "        vertical-align: middle;\n",
       "    }\n",
       "\n",
       "    .dataframe tbody tr th {\n",
       "        vertical-align: top;\n",
       "    }\n",
       "\n",
       "    .dataframe thead th {\n",
       "        text-align: right;\n",
       "    }\n",
       "</style>\n",
       "<table border=\"1\" class=\"dataframe\">\n",
       "  <thead>\n",
       "    <tr style=\"text-align: right;\">\n",
       "      <th></th>\n",
       "      <th>Trend-following portfolio (Moskowitz 2012)</th>\n",
       "      <th>Trend-following portfolio (YZ estimator)</th>\n",
       "      <th>Trend-following portfolio (TREND signal)</th>\n",
       "      <th>Trend-following portfolio (YZ estimator + TREND signal)</th>\n",
       "    </tr>\n",
       "  </thead>\n",
       "  <tbody>\n",
       "    <tr>\n",
       "      <th>CAGR</th>\n",
       "      <td>0.148173</td>\n",
       "      <td>0.149460</td>\n",
       "      <td>0.139995</td>\n",
       "      <td>0.140112</td>\n",
       "    </tr>\n",
       "    <tr>\n",
       "      <th>Annualised vol</th>\n",
       "      <td>0.125000</td>\n",
       "      <td>0.127130</td>\n",
       "      <td>0.107939</td>\n",
       "      <td>0.110537</td>\n",
       "    </tr>\n",
       "    <tr>\n",
       "      <th>Sharpe ratio</th>\n",
       "      <td>1.185387</td>\n",
       "      <td>1.175648</td>\n",
       "      <td>1.296985</td>\n",
       "      <td>1.267562</td>\n",
       "    </tr>\n",
       "    <tr>\n",
       "      <th>Max drawdown</th>\n",
       "      <td>0.259239</td>\n",
       "      <td>0.305877</td>\n",
       "      <td>0.294584</td>\n",
       "      <td>0.313945</td>\n",
       "    </tr>\n",
       "    <tr>\n",
       "      <th>Calmar ratio</th>\n",
       "      <td>0.571568</td>\n",
       "      <td>0.488629</td>\n",
       "      <td>0.475229</td>\n",
       "      <td>0.446296</td>\n",
       "    </tr>\n",
       "    <tr>\n",
       "      <th>Skewness</th>\n",
       "      <td>0.073459</td>\n",
       "      <td>0.281268</td>\n",
       "      <td>0.158754</td>\n",
       "      <td>0.293149</td>\n",
       "    </tr>\n",
       "    <tr>\n",
       "      <th>Kurtosis</th>\n",
       "      <td>19.316397</td>\n",
       "      <td>22.158107</td>\n",
       "      <td>27.987731</td>\n",
       "      <td>32.593852</td>\n",
       "    </tr>\n",
       "    <tr>\n",
       "      <th>Worst return</th>\n",
       "      <td>-0.126276</td>\n",
       "      <td>-0.137043</td>\n",
       "      <td>-0.121269</td>\n",
       "      <td>-0.130152</td>\n",
       "    </tr>\n",
       "    <tr>\n",
       "      <th>Worst 1d return</th>\n",
       "      <td>-0.126276</td>\n",
       "      <td>-0.137043</td>\n",
       "      <td>-0.121269</td>\n",
       "      <td>-0.130152</td>\n",
       "    </tr>\n",
       "    <tr>\n",
       "      <th>Worst 1w return</th>\n",
       "      <td>-0.107725</td>\n",
       "      <td>-0.098542</td>\n",
       "      <td>-0.110077</td>\n",
       "      <td>-0.112097</td>\n",
       "    </tr>\n",
       "    <tr>\n",
       "      <th>Worst 1m return</th>\n",
       "      <td>-0.152667</td>\n",
       "      <td>-0.169177</td>\n",
       "      <td>-0.171789</td>\n",
       "      <td>-0.186272</td>\n",
       "    </tr>\n",
       "  </tbody>\n",
       "</table>\n",
       "</div>"
      ],
      "text/plain": [
       "                 Trend-following portfolio (Moskowitz 2012)  \\\n",
       "CAGR                                               0.148173   \n",
       "Annualised vol                                     0.125000   \n",
       "Sharpe ratio                                       1.185387   \n",
       "Max drawdown                                       0.259239   \n",
       "Calmar ratio                                       0.571568   \n",
       "Skewness                                           0.073459   \n",
       "Kurtosis                                          19.316397   \n",
       "Worst return                                      -0.126276   \n",
       "Worst 1d return                                   -0.126276   \n",
       "Worst 1w return                                   -0.107725   \n",
       "Worst 1m return                                   -0.152667   \n",
       "\n",
       "                 Trend-following portfolio (YZ estimator)  \\\n",
       "CAGR                                             0.149460   \n",
       "Annualised vol                                   0.127130   \n",
       "Sharpe ratio                                     1.175648   \n",
       "Max drawdown                                     0.305877   \n",
       "Calmar ratio                                     0.488629   \n",
       "Skewness                                         0.281268   \n",
       "Kurtosis                                        22.158107   \n",
       "Worst return                                    -0.137043   \n",
       "Worst 1d return                                 -0.137043   \n",
       "Worst 1w return                                 -0.098542   \n",
       "Worst 1m return                                 -0.169177   \n",
       "\n",
       "                 Trend-following portfolio (TREND signal)  \\\n",
       "CAGR                                             0.139995   \n",
       "Annualised vol                                   0.107939   \n",
       "Sharpe ratio                                     1.296985   \n",
       "Max drawdown                                     0.294584   \n",
       "Calmar ratio                                     0.475229   \n",
       "Skewness                                         0.158754   \n",
       "Kurtosis                                        27.987731   \n",
       "Worst return                                    -0.121269   \n",
       "Worst 1d return                                 -0.121269   \n",
       "Worst 1w return                                 -0.110077   \n",
       "Worst 1m return                                 -0.171789   \n",
       "\n",
       "                 Trend-following portfolio (YZ estimator + TREND signal)  \n",
       "CAGR                                                      0.140112        \n",
       "Annualised vol                                            0.110537        \n",
       "Sharpe ratio                                              1.267562        \n",
       "Max drawdown                                              0.313945        \n",
       "Calmar ratio                                              0.446296        \n",
       "Skewness                                                  0.293149        \n",
       "Kurtosis                                                 32.593852        \n",
       "Worst return                                             -0.130152        \n",
       "Worst 1d return                                          -0.130152        \n",
       "Worst 1w return                                          -0.112097        \n",
       "Worst 1m return                                          -0.186272        "
      ]
     },
     "execution_count": 22,
     "metadata": {},
     "output_type": "execute_result"
    }
   ],
   "source": [
    "performance_comp.pipe(Performance).summary()"
   ]
  },
  {
   "cell_type": "markdown",
   "id": "27b7fd94",
   "metadata": {
    "papermill": {
     "duration": 0.013079,
     "end_time": "2022-08-31T07:51:26.126076",
     "exception": false,
     "start_time": "2022-08-31T07:51:26.112997",
     "status": "completed"
    },
    "tags": []
   },
   "source": [
    "## Turnover reduction\n",
    "\n",
    "Again, as reported in BK2020, both enhancements reduce the turnover significantly while not affecting the performance. The chart below shows the reduction in turnover for each futures contract. By utilising the YZ realised volatility and the TREND signal, overall the turnover is reduced by more than 30%."
   ]
  },
  {
   "cell_type": "code",
   "execution_count": 23,
   "id": "1580d805",
   "metadata": {
    "execution": {
     "iopub.execute_input": "2022-08-31T07:51:26.154228Z",
     "iopub.status.busy": "2022-08-31T07:51:26.153966Z",
     "iopub.status.idle": "2022-08-31T07:56:39.226642Z",
     "shell.execute_reply": "2022-08-31T07:56:39.225674Z"
    },
    "papermill": {
     "duration": 313.090538,
     "end_time": "2022-08-31T07:56:39.229617",
     "exception": false,
     "start_time": "2022-08-31T07:51:26.139079",
     "status": "completed"
    },
    "tags": []
   },
   "outputs": [],
   "source": [
    "engine_original_pos = engine_original.get_position_by_instrument()\n",
    "engine_vol_pos = engine_vol.get_position_by_instrument()\n",
    "engine_trend_pos = engine_trend.get_position_by_instrument()\n",
    "engine_combined_pos = engine_combined.get_position_by_instrument()"
   ]
  },
  {
   "cell_type": "code",
   "execution_count": 24,
   "id": "4095fb30",
   "metadata": {
    "execution": {
     "iopub.execute_input": "2022-08-31T07:56:39.258091Z",
     "iopub.status.busy": "2022-08-31T07:56:39.257428Z",
     "iopub.status.idle": "2022-08-31T07:56:39.292168Z",
     "shell.execute_reply": "2022-08-31T07:56:39.291480Z"
    },
    "papermill": {
     "duration": 0.051452,
     "end_time": "2022-08-31T07:56:39.294044",
     "exception": false,
     "start_time": "2022-08-31T07:56:39.242592",
     "status": "completed"
    },
    "tags": []
   },
   "outputs": [],
   "source": [
    "engine_original_turnover = (engine_original_pos.diff().abs().mean().mul(261)\n",
    "                            .rename('Trend-following portfolio (Moskowitz 2012)'))\n",
    "engine_vol_turnover = (engine_vol_pos.diff().abs().mean().mul(261)\n",
    "                       .rename('Trend-following portfolio (YZ estimator)'))\n",
    "engine_trend_turnover = (engine_trend_pos.diff().abs().mean().mul(261)\n",
    "                         .rename('Trend-following portfolio (TREND signal)'))\n",
    "engine_combined_turnover = (engine_combined_pos.diff().abs().mean().mul(261)\n",
    "                            .rename('Trend-following portfolio (YZ estimator + TREND signal)'))"
   ]
  },
  {
   "cell_type": "code",
   "execution_count": 25,
   "id": "00f271ca",
   "metadata": {
    "execution": {
     "iopub.execute_input": "2022-08-31T07:56:39.321193Z",
     "iopub.status.busy": "2022-08-31T07:56:39.320745Z",
     "iopub.status.idle": "2022-08-31T07:56:39.328758Z",
     "shell.execute_reply": "2022-08-31T07:56:39.327884Z"
    },
    "papermill": {
     "duration": 0.024277,
     "end_time": "2022-08-31T07:56:39.331195",
     "exception": false,
     "start_time": "2022-08-31T07:56:39.306918",
     "status": "completed"
    },
    "tags": []
   },
   "outputs": [],
   "source": [
    "turnover_reduction = (\n",
    "    pd.concat((engine_vol_turnover, engine_trend_turnover, engine_combined_turnover), axis=1)\n",
    "    .div(engine_original_turnover, axis=0)\n",
    "    .sub(1)\n",
    "    .reindex(index=all_futures_baltas2020.index)\n",
    "    .rename(index=all_futures_baltas2020['name'])\n",
    ")"
   ]
  },
  {
   "cell_type": "code",
   "execution_count": 26,
   "id": "1c22aa60",
   "metadata": {
    "execution": {
     "iopub.execute_input": "2022-08-31T07:56:39.373012Z",
     "iopub.status.busy": "2022-08-31T07:56:39.372298Z",
     "iopub.status.idle": "2022-08-31T07:56:39.380779Z",
     "shell.execute_reply": "2022-08-31T07:56:39.379919Z"
    },
    "papermill": {
     "duration": 0.031529,
     "end_time": "2022-08-31T07:56:39.383080",
     "exception": false,
     "start_time": "2022-08-31T07:56:39.351551",
     "status": "completed"
    },
    "tags": []
   },
   "outputs": [
    {
     "data": {
      "text/plain": [
       "Trend-following portfolio (YZ estimator)                  -0.181348\n",
       "Trend-following portfolio (TREND signal)                  -0.207506\n",
       "Trend-following portfolio (YZ estimator + TREND signal)   -0.331003\n",
       "dtype: float64"
      ]
     },
     "execution_count": 26,
     "metadata": {},
     "output_type": "execute_result"
    }
   ],
   "source": [
    "turnover_reduction.mean()"
   ]
  },
  {
   "cell_type": "code",
   "execution_count": 27,
   "id": "99ae8f86",
   "metadata": {
    "execution": {
     "iopub.execute_input": "2022-08-31T07:56:39.422004Z",
     "iopub.status.busy": "2022-08-31T07:56:39.421445Z",
     "iopub.status.idle": "2022-08-31T07:56:41.054473Z",
     "shell.execute_reply": "2022-08-31T07:56:41.053598Z"
    },
    "papermill": {
     "duration": 1.654274,
     "end_time": "2022-08-31T07:56:41.056971",
     "exception": false,
     "start_time": "2022-08-31T07:56:39.402697",
     "status": "completed"
    },
    "tags": []
   },
   "outputs": [
    {
     "data": {
      "image/png": "[encoded data removed]",
      "text/plain": [
       "<Figure size 1008x288 with 1 Axes>"
      ]
     },
     "metadata": {
      "needs_background": "light"
     },
     "output_type": "display_data"
    }
   ],
   "source": [
    "ax = turnover_reduction.plot(kind='bar', figsize=(14, 4))\n",
    "ax.yaxis.set_major_formatter(mticker.PercentFormatter(1))\n",
    "ax.axhline(0, color='black', lw=1)\n",
    "ax.axvline(24.5, color='black', lw=1)\n",
    "ax.axvline(30.5, color='black', lw=1)\n",
    "ax.axvline(42.5, color='black', lw=1)\n",
    "ax.set_xlabel('Contract')\n",
    "ax.set_ylabel('Turnover reduction');"
   ]
  },
  {
   "cell_type": "markdown",
   "id": "7cc47b31",
   "metadata": {
    "papermill": {
     "duration": 0.013938,
     "end_time": "2022-08-31T07:56:41.086734",
     "exception": false,
     "start_time": "2022-08-31T07:56:41.072796",
     "status": "completed"
    },
    "tags": []
   },
   "source": [
    "# Recent performance"
   ]
  },
  {
   "cell_type": "code",
   "execution_count": 28,
   "id": "79ceba62",
   "metadata": {
    "execution": {
     "iopub.execute_input": "2022-08-31T07:56:41.125212Z",
     "iopub.status.busy": "2022-08-31T07:56:41.124155Z",
     "iopub.status.idle": "2022-08-31T07:56:41.599211Z",
     "shell.execute_reply": "2022-08-31T07:56:41.598423Z"
    },
    "papermill": {
     "duration": 0.500232,
     "end_time": "2022-08-31T07:56:41.601162",
     "exception": false,
     "start_time": "2022-08-31T07:56:41.100930",
     "status": "completed"
    },
    "tags": []
   },
   "outputs": [
    {
     "data": {
      "image/png": "[encoded data removed]",
      "text/plain": [
       "<Figure size 576x324 with 1 Axes>"
      ]
     },
     "metadata": {
      "needs_background": "light"
     },
     "output_type": "display_data"
    }
   ],
   "source": [
    "fig, ax = plt.subplots(figsize=(8, 4.5))\n",
    "performance_comp.tail(252 * 2).pct_change().fillna(0).add(1).cumprod().plot(ax=ax, logy=True);\n",
    "ax.set_title('Trend-following portfolio')\n",
    "ax.set_ylabel('Cumulative returns');"
   ]
  },
  {
   "cell_type": "markdown",
   "id": "7dc75492",
   "metadata": {
    "papermill": {
     "duration": 0.014488,
     "end_time": "2022-08-31T07:56:41.629969",
     "exception": false,
     "start_time": "2022-08-31T07:56:41.615481",
     "status": "completed"
    },
    "tags": []
   },
   "source": [
    "# Reference\n",
    "\n",
    "- Baltas, N. and Kosowski, R., 2020. Demystifying time-series momentum strategies: Volatility estimators, trading rules and pairwise correlations. Market Momentum: Theory and Practice\", Wiley.\n",
    "- Moskowitz, T.J., Ooi, Y.H. and Pedersen, L.H., 2012. Time series momentum. Journal of financial economics, 104(2), pp.228-250."
   ]
  },
  {
   "cell_type": "code",
   "execution_count": 29,
   "id": "583166d6",
   "metadata": {
    "ExecuteTime": {
     "end_time": "2020-08-30T21:20:32.431574Z",
     "start_time": "2020-08-30T21:20:32.429370Z"
    },
    "execution": {
     "iopub.execute_input": "2022-08-31T07:56:41.660170Z",
     "iopub.status.busy": "2022-08-31T07:56:41.659823Z",
     "iopub.status.idle": "2022-08-31T07:56:41.664732Z",
     "shell.execute_reply": "2022-08-31T07:56:41.663922Z"
    },
    "papermill": {
     "duration": 0.022144,
     "end_time": "2022-08-31T07:56:41.666516",
     "exception": false,
     "start_time": "2022-08-31T07:56:41.644372",
     "status": "completed"
    },
    "tags": []
   },
   "outputs": [
    {
     "name": "stdout",
     "output_type": "stream",
     "text": [
      "Updated: 31-Aug-2022 07:56\n"
     ]
    }
   ],
   "source": [
    "print(f'Updated: {datetime.utcnow():%d-%b-%Y %H:%M}')"
   ]
  }
 ],
 "metadata": {
  "hide_input": false,
  "kernelspec": {
   "display_name": "Python 3",
   "language": "python",
   "name": "python3"
  },
  "language_info": {
   "codemirror_mode": {
    "name": "ipython",
    "version": 3
   },
   "file_extension": ".py",
   "mimetype": "text/x-python",
   "name": "python",
   "nbconvert_exporter": "python",
   "pygments_lexer": "ipython3",
   "version": "3.9.6"
  },
  "nav_menu": {},
  "papermill": {
   "duration": 5403.752833,
   "end_time": "2022-08-31T07:56:44.709537",
   "environment_variables": {},
   "exception": null,
   "input_path": "notebooks/papermill/trend_following_baltas2020.ipynb",
   "output_path": "notebooks/trend_following_baltas2020.ipynb",
   "parameters": {},
   "start_time": "2022-08-31T06:26:40.956704",
   "version": "2.1.3"
  },
  "toc": {
   "base_numbering": 1,
   "nav_menu": {},
   "number_sections": true,
   "sideBar": true,
   "skip_h1_title": false,
   "title_cell": "Table of Contents",
   "title_sidebar": "Contents",
   "toc_cell": true,
   "toc_position": {
    "height": "calc(100% - 180px)",
    "left": "10px",
    "top": "150px",
    "width": "165px"
   },
   "toc_section_display": "block",
   "toc_window_display": true
  }
 },
 "nbformat": 4,
 "nbformat_minor": 5
}