{
 "cells": [
  {
   "cell_type": "markdown",
   "id": "5ddfe06a",
   "metadata": {
    "papermill": {
     "duration": 0.010779,
     "end_time": "2022-08-25T07:46:13.052838",
     "exception": false,
     "start_time": "2022-08-25T07:46:13.042059",
     "status": "completed"
    },
    "tags": []
   },
   "source": [
    "# Trend-following\n",
    "\n",
    "This notebook implements a few improvements that Baltas and Kosowski (2020) (BK2020, hereafter) propose to the time-series momentum strategy which originally appeared in Moskowitz et al (2012).\n",
    "\n",
    "Note that like other notebooks, all backtests are performed by using a private library called `vivace`."
   ]
  },
  {
   "cell_type": "code",
   "execution_count": 1,
   "id": "8bf23270",
   "metadata": {
    "ExecuteTime": {
     "end_time": "2020-08-30T21:08:49.524262Z",
     "start_time": "2020-08-30T21:08:48.720115Z"
    },
    "execution": {
     "iopub.execute_input": "2022-08-25T07:46:13.074245Z",
     "iopub.status.busy": "2022-08-25T07:46:13.073897Z",
     "iopub.status.idle": "2022-08-25T07:46:16.214654Z",
     "shell.execute_reply": "2022-08-25T07:46:16.213896Z"
    },
    "papermill": {
     "duration": 3.154395,
     "end_time": "2022-08-25T07:46:16.217229",
     "exception": false,
     "start_time": "2022-08-25T07:46:13.062834",
     "status": "completed"
    },
    "tags": []
   },
   "outputs": [],
   "source": [
    "%matplotlib inline\n",
    "from datetime import datetime\n",
    "import logging\n",
    "import warnings\n",
    "warnings.simplefilter(action='ignore', category=FutureWarning)\n",
    "\n",
    "import pandas as pd\n",
    "import matplotlib.pyplot as plt\n",
    "import matplotlib.ticker as mticker\n",
    "plt.style.use('bmh')\n",
    "\n",
    "from vivace.backtest import signal\n",
    "from vivace.backtest import processing\n",
    "from vivace.backtest.contract import all_futures_baltas2020\n",
    "from vivace.backtest.engine import BacktestEngine\n",
    "from vivace.backtest.enums import Strategy, Weighting, RealisedVolatility\n",
    "from vivace.backtest.stats import Performance"
   ]
  },
  {
   "cell_type": "markdown",
   "id": "717e3054",
   "metadata": {
    "papermill": {
     "duration": 0.014778,
     "end_time": "2022-08-25T07:46:16.246776",
     "exception": false,
     "start_time": "2022-08-25T07:46:16.231998",
     "status": "completed"
    },
    "tags": []
   },
   "source": [
    "# Data"
   ]
  },
  {
   "cell_type": "code",
   "execution_count": 2,
   "id": "9bedab9a",
   "metadata": {
    "ExecuteTime": {
     "end_time": "2020-08-30T21:08:49.529214Z",
     "start_time": "2020-08-30T21:08:49.525465Z"
    },
    "execution": {
     "iopub.execute_input": "2022-08-25T07:46:16.274449Z",
     "iopub.status.busy": "2022-08-25T07:46:16.274057Z",
     "iopub.status.idle": "2022-08-25T07:46:16.281641Z",
     "shell.execute_reply": "2022-08-25T07:46:16.280840Z"
    },
    "papermill": {
     "duration": 0.021421,
     "end_time": "2022-08-25T07:46:16.283754",
     "exception": false,
     "start_time": "2022-08-25T07:46:16.262333",
     "status": "completed"
    },
    "tags": []
   },
   "outputs": [
    {
     "data": {
      "text/plain": [
       "array(['WTI Crude Oil', 'Brent Crude Oil', 'Heating Oil', 'Natural Gas',\n",
       "       'Gasoline', 'Copper', 'Gold', 'Palladium', 'Platinum', 'Silver',\n",
       "       'Feeder Cattle', 'Live Cattle', 'Lean Hog', 'Corn', 'Oats',\n",
       "       'Soybean Oil', 'Soybean Meal', 'Soybean', 'Wheat', 'Cocoa',\n",
       "       'Coffee', 'Cotton', 'Lumber', 'Orange Juice', 'Sugar',\n",
       "       'Australian Dollar', 'Canadian Dollar', 'Swiss Franc', 'Euro',\n",
       "       'British Pound', 'Japanese Yen', 'E-Mini Nasdaq 100',\n",
       "       'E-mini S&P 500', 'E-mini Russell 2000', 'FTSE 100', 'DAX',\n",
       "       'CAC 40', 'IBEX 35', 'AEX', 'Swiss Market Index', 'SPI 200',\n",
       "       'Topix', 'Hang Seng', 'US 2-year Treasury', 'US 5-year Treasury',\n",
       "       'US 10-year Treasury', 'US treasury Bond', 'Germany Schatz',\n",
       "       'Germany Bobl', 'Germany Bund', 'Germany Buxl', 'Gilt',\n",
       "       'Canada 10-year Treasury', 'JGB'], dtype=object)"
      ]
     },
     "execution_count": 2,
     "metadata": {},
     "output_type": "execute_result"
    }
   ],
   "source": [
    "all_futures_baltas2020['name'].values"
   ]
  },
  {
   "cell_type": "code",
   "execution_count": 3,
   "id": "13c342a5",
   "metadata": {
    "ExecuteTime": {
     "end_time": "2020-08-30T21:08:49.542477Z",
     "start_time": "2020-08-30T21:08:49.530487Z"
    },
    "execution": {
     "iopub.execute_input": "2022-08-25T07:46:16.334118Z",
     "iopub.status.busy": "2022-08-25T07:46:16.333847Z",
     "iopub.status.idle": "2022-08-25T07:46:16.337790Z",
     "shell.execute_reply": "2022-08-25T07:46:16.337093Z"
    },
    "papermill": {
     "duration": 0.044767,
     "end_time": "2022-08-25T07:46:16.339510",
     "exception": false,
     "start_time": "2022-08-25T07:46:16.294743",
     "status": "completed"
    },
    "tags": []
   },
   "outputs": [
    {
     "name": "stdout",
     "output_type": "stream",
     "text": [
      "54\n"
     ]
    }
   ],
   "source": [
    "print(len(all_futures_baltas2020))"
   ]
  },
  {
   "cell_type": "markdown",
   "id": "b45bf4f0",
   "metadata": {
    "papermill": {
     "duration": 0.00998,
     "end_time": "2022-08-25T07:46:16.359945",
     "exception": false,
     "start_time": "2022-08-25T07:46:16.349965",
     "status": "completed"
    },
    "tags": []
   },
   "source": [
    "We try to use the same contract as the original paper where possible, resulting 54 futures contracts to analyse. The trading universe covers a wide range of asset classes and regions, and is made up of following instruments:\n",
    "- Equity index futures\n",
    "- Government bond futures\n",
    "- FX futures\n",
    "- Commodity futures\n",
    "\n",
    "where the same trend detection method is applied."
   ]
  },
  {
   "cell_type": "markdown",
   "id": "f88eacea",
   "metadata": {
    "papermill": {
     "duration": 0.00999,
     "end_time": "2022-08-25T07:46:16.380350",
     "exception": false,
     "start_time": "2022-08-25T07:46:16.370360",
     "status": "completed"
    },
    "tags": []
   },
   "source": [
    "# Performance\n"
   ]
  },
  {
   "cell_type": "markdown",
   "id": "9d51a1f0",
   "metadata": {
    "papermill": {
     "duration": 0.010057,
     "end_time": "2022-08-25T07:46:16.400901",
     "exception": false,
     "start_time": "2022-08-25T07:46:16.390844",
     "status": "completed"
    },
    "tags": []
   },
   "source": [
    "## Moskowitz et al\n",
    "\n",
    "First we calculate the original trend-following portfolio with a more traditional close-to-close realised volatility estimator. Although Moskowitz et al uses the exponentially weighted standard deviation, BK2020 appears to compare against the rolling standard deviation."
   ]
  },
  {
   "cell_type": "code",
   "execution_count": 4,
   "id": "ee011929",
   "metadata": {
    "execution": {
     "iopub.execute_input": "2022-08-25T07:46:16.422697Z",
     "iopub.status.busy": "2022-08-25T07:46:16.422433Z",
     "iopub.status.idle": "2022-08-25T07:56:31.333050Z",
     "shell.execute_reply": "2022-08-25T07:56:31.332209Z"
    },
    "papermill": {
     "duration": 614.924014,
     "end_time": "2022-08-25T07:56:31.335308",
     "exception": false,
     "start_time": "2022-08-25T07:46:16.411294",
     "status": "completed"
    },
    "tags": []
   },
   "outputs": [],
   "source": [
    "engine_original = BacktestEngine(\n",
    "    strategy=Strategy.DELTA_ONE.value,\n",
    "    instrument=all_futures_baltas2020.index,\n",
    "    signal=signal.ParallelSignal([\n",
    "        signal.VolatilityScale(agg_method='rolling', window=21, ann_factor=261, \n",
    "                               target_volatility=0.4, signal_cap=0.95),\n",
    "        signal.TSMOMMoskowitz2012(post_process=processing.AsFreq(freq='m', method='pad'))\n",
    "    ], weighting='product'),\n",
    "    weighting=Weighting.EQUAL_WEIGHT.value,\n",
    "    log_level=logging.WARN,\n",
    ")\n",
    "engine_original.run()"
   ]
  },
  {
   "cell_type": "code",
   "execution_count": 5,
   "id": "0b116747",
   "metadata": {
    "execution": {
     "iopub.execute_input": "2022-08-25T07:56:31.358843Z",
     "iopub.status.busy": "2022-08-25T07:56:31.358223Z",
     "iopub.status.idle": "2022-08-25T07:57:57.967866Z",
     "shell.execute_reply": "2022-08-25T07:57:57.966870Z"
    },
    "papermill": {
     "duration": 86.624215,
     "end_time": "2022-08-25T07:57:57.970420",
     "exception": false,
     "start_time": "2022-08-25T07:56:31.346205",
     "status": "completed"
    },
    "tags": []
   },
   "outputs": [],
   "source": [
    "engine_original_eq = (engine_original.calculate_equity_curve(calculate_net=False, rebalance_freq='m')\n",
    "                      .rename('Trend-following portfolio (Moskowitz 2012)'))"
   ]
  },
  {
   "cell_type": "code",
   "execution_count": 6,
   "id": "e92a42d0",
   "metadata": {
    "execution": {
     "iopub.execute_input": "2022-08-25T07:57:58.002993Z",
     "iopub.status.busy": "2022-08-25T07:57:58.002378Z",
     "iopub.status.idle": "2022-08-25T07:57:58.737454Z",
     "shell.execute_reply": "2022-08-25T07:57:58.736786Z"
    },
    "papermill": {
     "duration": 0.75413,
     "end_time": "2022-08-25T07:57:58.740006",
     "exception": false,
     "start_time": "2022-08-25T07:57:57.985876",
     "status": "completed"
    },
    "tags": []
   },
   "outputs": [
    {
     "data": {
      "image/png": "[encoded data removed]",
      "text/plain": [
       "<Figure size 576x324 with 1 Axes>"
      ]
     },
     "metadata": {
      "needs_background": "light"
     },
     "output_type": "display_data"
    }
   ],
   "source": [
    "fig, ax = plt.subplots(figsize=(8, 4.5))\n",
    "engine_original_eq.plot(ax=ax, logy=True)\n",
    "ax.set_title('Trend-following portfolio (Moskowitz 2012)')\n",
    "ax.set_ylabel('Cumulative returns');"
   ]
  },
  {
   "cell_type": "code",
   "execution_count": 7,
   "id": "826398ae",
   "metadata": {
    "execution": {
     "iopub.execute_input": "2022-08-25T07:57:58.774122Z",
     "iopub.status.busy": "2022-08-25T07:57:58.773571Z",
     "iopub.status.idle": "2022-08-25T07:57:58.857408Z",
     "shell.execute_reply": "2022-08-25T07:57:58.856739Z"
    },
    "papermill": {
     "duration": 0.103635,
     "end_time": "2022-08-25T07:57:58.859526",
     "exception": false,
     "start_time": "2022-08-25T07:57:58.755891",
     "status": "completed"
    },
    "tags": []
   },
   "outputs": [
    {
     "data": {
      "text/html": [
       "<div>\n",
       "<style scoped>\n",
       "    .dataframe tbody tr th:only-of-type {\n",
       "        vertical-align: middle;\n",
       "    }\n",
       "\n",
       "    .dataframe tbody tr th {\n",
       "        vertical-align: top;\n",
       "    }\n",
       "\n",
       "    .dataframe thead th {\n",
       "        text-align: right;\n",
       "    }\n",
       "</style>\n",
       "<table border=\"1\" class=\"dataframe\">\n",
       "  <thead>\n",
       "    <tr style=\"text-align: right;\">\n",
       "      <th></th>\n",
       "      <th>Trend-following portfolio (Moskowitz 2012)</th>\n",
       "    </tr>\n",
       "  </thead>\n",
       "  <tbody>\n",
       "    <tr>\n",
       "      <th>CAGR</th>\n",
       "      <td>0.147898</td>\n",
       "    </tr>\n",
       "    <tr>\n",
       "      <th>Annualised vol</th>\n",
       "      <td>0.124980</td>\n",
       "    </tr>\n",
       "    <tr>\n",
       "      <th>Sharpe ratio</th>\n",
       "      <td>1.183370</td>\n",
       "    </tr>\n",
       "    <tr>\n",
       "      <th>Max drawdown</th>\n",
       "      <td>0.259239</td>\n",
       "    </tr>\n",
       "    <tr>\n",
       "      <th>Calmar ratio</th>\n",
       "      <td>0.570508</td>\n",
       "    </tr>\n",
       "    <tr>\n",
       "      <th>Skewness</th>\n",
       "      <td>0.073353</td>\n",
       "    </tr>\n",
       "    <tr>\n",
       "      <th>Kurtosis</th>\n",
       "      <td>19.333897</td>\n",
       "    </tr>\n",
       "    <tr>\n",
       "      <th>Worst return</th>\n",
       "      <td>-0.126276</td>\n",
       "    </tr>\n",
       "    <tr>\n",
       "      <th>Worst 1d return</th>\n",
       "      <td>-0.126276</td>\n",
       "    </tr>\n",
       "    <tr>\n",
       "      <th>Worst 1w return</th>\n",
       "      <td>-0.107725</td>\n",
       "    </tr>\n",
       "    <tr>\n",
       "      <th>Worst 1m return</th>\n",
       "      <td>-0.152667</td>\n",
       "    </tr>\n",
       "  </tbody>\n",
       "</table>\n",
       "</div>"
      ],
      "text/plain": [
       "                 Trend-following portfolio (Moskowitz 2012)\n",
       "CAGR                                               0.147898\n",
       "Annualised vol                                     0.124980\n",
       "Sharpe ratio                                       1.183370\n",
       "Max drawdown                                       0.259239\n",
       "Calmar ratio                                       0.570508\n",
       "Skewness                                           0.073353\n",
       "Kurtosis                                          19.333897\n",
       "Worst return                                      -0.126276\n",
       "Worst 1d return                                   -0.126276\n",
       "Worst 1w return                                   -0.107725\n",
       "Worst 1m return                                   -0.152667"
      ]
     },
     "execution_count": 7,
     "metadata": {},
     "output_type": "execute_result"
    }
   ],
   "source": [
    "engine_original_eq.pipe(Performance).summary()"
   ]
  },
  {
   "cell_type": "markdown",
   "id": "54582c48",
   "metadata": {
    "papermill": {
     "duration": 0.015796,
     "end_time": "2022-08-25T07:57:58.891354",
     "exception": false,
     "start_time": "2022-08-25T07:57:58.875558",
     "status": "completed"
    },
    "tags": []
   },
   "source": [
    "\n",
    "## Volatility estimator\n",
    "BK2020 proposes a few changes in order to enhance the original trend-following strategy Moskowitz et al reported. The first thing is to use a more sophisticated realised volatility estimators for volatility scaling. Moskowitz used the exponentially weighted standard deviation with close-to-close. On the other hand, BK2020 suggests to use Yang-Zhang estimator as it is much more efficient."
   ]
  },
  {
   "cell_type": "code",
   "execution_count": 8,
   "id": "eb8a67f0",
   "metadata": {
    "ExecuteTime": {
     "end_time": "2020-08-30T21:18:24.661167Z",
     "start_time": "2020-08-30T21:08:49.544232Z"
    },
    "execution": {
     "iopub.execute_input": "2022-08-25T07:57:58.924430Z",
     "iopub.status.busy": "2022-08-25T07:57:58.924165Z",
     "iopub.status.idle": "2022-08-25T08:18:24.430101Z",
     "shell.execute_reply": "2022-08-25T08:18:24.429351Z"
    },
    "papermill": {
     "duration": 1225.525101,
     "end_time": "2022-08-25T08:18:24.432262",
     "exception": false,
     "start_time": "2022-08-25T07:57:58.907161",
     "status": "completed"
    },
    "tags": []
   },
   "outputs": [],
   "source": [
    "engine_vol = BacktestEngine(\n",
    "    strategy=Strategy.DELTA_ONE.value,\n",
    "    instrument=all_futures_baltas2020.index,\n",
    "    signal=signal.ParallelSignal([\n",
    "        signal.VolatilityScale(volatility_type=RealisedVolatility.YZ.value,\n",
    "                               agg_method='rolling', window=21, min_periods=10,\n",
    "                               target_volatility=0.4, signal_cap=0.95, ann_factor=261),\n",
    "        signal.TSMOMMoskowitz2012(post_process=processing.AsFreq(freq='m', method='pad'))\n",
    "    ], weighting='product'),\n",
    "    weighting=Weighting.EQUAL_WEIGHT.value,\n",
    "    log_level=logging.WARN,\n",
    ")\n",
    "engine_vol.run()"
   ]
  },
  {
   "cell_type": "code",
   "execution_count": 9,
   "id": "1b67acc7",
   "metadata": {
    "execution": {
     "iopub.execute_input": "2022-08-25T08:18:24.454481Z",
     "iopub.status.busy": "2022-08-25T08:18:24.454224Z",
     "iopub.status.idle": "2022-08-25T08:19:47.936572Z",
     "shell.execute_reply": "2022-08-25T08:19:47.935680Z"
    },
    "papermill": {
     "duration": 83.495484,
     "end_time": "2022-08-25T08:19:47.938462",
     "exception": false,
     "start_time": "2022-08-25T08:18:24.442978",
     "status": "completed"
    },
    "tags": []
   },
   "outputs": [],
   "source": [
    "engine_vol_eq = (engine_vol.calculate_equity_curve(calculate_net=False, rebalance_freq='m')\n",
    "                 .rename('Trend-following portfolio (YZ estimator)'))"
   ]
  },
  {
   "cell_type": "code",
   "execution_count": 10,
   "id": "ae583044",
   "metadata": {
    "execution": {
     "iopub.execute_input": "2022-08-25T08:19:47.961003Z",
     "iopub.status.busy": "2022-08-25T08:19:47.960721Z",
     "iopub.status.idle": "2022-08-25T08:19:48.548031Z",
     "shell.execute_reply": "2022-08-25T08:19:48.547374Z"
    },
    "papermill": {
     "duration": 0.600468,
     "end_time": "2022-08-25T08:19:48.549621",
     "exception": false,
     "start_time": "2022-08-25T08:19:47.949153",
     "status": "completed"
    },
    "tags": []
   },
   "outputs": [
    {
     "data": {
      "image/png": "[encoded data removed]",
      "text/plain": [
       "<Figure size 576x324 with 1 Axes>"
      ]
     },
     "metadata": {
      "needs_background": "light"
     },
     "output_type": "display_data"
    }
   ],
   "source": [
    "fig, ax = plt.subplots(figsize=(8, 4.5))\n",
    "engine_vol_eq.plot(ax=ax, logy=True);\n",
    "ax.set_title('Trend-following portfolio (YZ estimator)')\n",
    "ax.set_ylabel('Cumulative returns');"
   ]
  },
  {
   "cell_type": "code",
   "execution_count": 11,
   "id": "2aea5b8a",
   "metadata": {
    "execution": {
     "iopub.execute_input": "2022-08-25T08:19:48.573087Z",
     "iopub.status.busy": "2022-08-25T08:19:48.572766Z",
     "iopub.status.idle": "2022-08-25T08:19:48.650774Z",
     "shell.execute_reply": "2022-08-25T08:19:48.650055Z"
    },
    "papermill": {
     "duration": 0.091421,
     "end_time": "2022-08-25T08:19:48.652534",
     "exception": false,
     "start_time": "2022-08-25T08:19:48.561113",
     "status": "completed"
    },
    "tags": []
   },
   "outputs": [
    {
     "data": {
      "text/html": [
       "<div>\n",
       "<style scoped>\n",
       "    .dataframe tbody tr th:only-of-type {\n",
       "        vertical-align: middle;\n",
       "    }\n",
       "\n",
       "    .dataframe tbody tr th {\n",
       "        vertical-align: top;\n",
       "    }\n",
       "\n",
       "    .dataframe thead th {\n",
       "        text-align: right;\n",
       "    }\n",
       "</style>\n",
       "<table border=\"1\" class=\"dataframe\">\n",
       "  <thead>\n",
       "    <tr style=\"text-align: right;\">\n",
       "      <th></th>\n",
       "      <th>Trend-following portfolio (YZ estimator)</th>\n",
       "    </tr>\n",
       "  </thead>\n",
       "  <tbody>\n",
       "    <tr>\n",
       "      <th>CAGR</th>\n",
       "      <td>0.149543</td>\n",
       "    </tr>\n",
       "    <tr>\n",
       "      <th>Annualised vol</th>\n",
       "      <td>0.127268</td>\n",
       "    </tr>\n",
       "    <tr>\n",
       "      <th>Sharpe ratio</th>\n",
       "      <td>1.175024</td>\n",
       "    </tr>\n",
       "    <tr>\n",
       "      <th>Max drawdown</th>\n",
       "      <td>0.305877</td>\n",
       "    </tr>\n",
       "    <tr>\n",
       "      <th>Calmar ratio</th>\n",
       "      <td>0.488899</td>\n",
       "    </tr>\n",
       "    <tr>\n",
       "      <th>Skewness</th>\n",
       "      <td>0.280430</td>\n",
       "    </tr>\n",
       "    <tr>\n",
       "      <th>Kurtosis</th>\n",
       "      <td>22.115707</td>\n",
       "    </tr>\n",
       "    <tr>\n",
       "      <th>Worst return</th>\n",
       "      <td>-0.137043</td>\n",
       "    </tr>\n",
       "    <tr>\n",
       "      <th>Worst 1d return</th>\n",
       "      <td>-0.137043</td>\n",
       "    </tr>\n",
       "    <tr>\n",
       "      <th>Worst 1w return</th>\n",
       "      <td>-0.098542</td>\n",
       "    </tr>\n",
       "    <tr>\n",
       "      <th>Worst 1m return</th>\n",
       "      <td>-0.169177</td>\n",
       "    </tr>\n",
       "  </tbody>\n",
       "</table>\n",
       "</div>"
      ],
      "text/plain": [
       "                 Trend-following portfolio (YZ estimator)\n",
       "CAGR                                             0.149543\n",
       "Annualised vol                                   0.127268\n",
       "Sharpe ratio                                     1.175024\n",
       "Max drawdown                                     0.305877\n",
       "Calmar ratio                                     0.488899\n",
       "Skewness                                         0.280430\n",
       "Kurtosis                                        22.115707\n",
       "Worst return                                    -0.137043\n",
       "Worst 1d return                                 -0.137043\n",
       "Worst 1w return                                 -0.098542\n",
       "Worst 1m return                                 -0.169177"
      ]
     },
     "execution_count": 11,
     "metadata": {},
     "output_type": "execute_result"
    }
   ],
   "source": [
    "engine_vol_eq.pipe(Performance).summary()"
   ]
  },
  {
   "cell_type": "markdown",
   "id": "6d2d006d",
   "metadata": {
    "papermill": {
     "duration": 0.010828,
     "end_time": "2022-08-25T08:19:48.674349",
     "exception": false,
     "start_time": "2022-08-25T08:19:48.663521",
     "status": "completed"
    },
    "tags": []
   },
   "source": [
    "## TREND signal\n",
    "\n",
    "Another improvement BK2020 proposes is to use a continuous signal rather than a binary one in order to reduce the turnover when signals are weak. Specifically they used the t-values with the Newey-West standard error as the signal. They further capped and floored the signal between -1 and +1 to avoid extreme positions.\n",
    "\n",
    "`statsmodels`'s `OLS` class provides a method to compute the Newey-West standard error. https://www.statsmodels.org/stable/generated/statsmodels.regression.linear_model.OLS.html"
   ]
  },
  {
   "cell_type": "code",
   "execution_count": 12,
   "id": "d84dbe51",
   "metadata": {
    "execution": {
     "iopub.execute_input": "2022-08-25T08:19:48.697789Z",
     "iopub.status.busy": "2022-08-25T08:19:48.697393Z",
     "iopub.status.idle": "2022-08-25T08:37:06.804373Z",
     "shell.execute_reply": "2022-08-25T08:37:06.803634Z"
    },
    "papermill": {
     "duration": 1038.120969,
     "end_time": "2022-08-25T08:37:06.806260",
     "exception": false,
     "start_time": "2022-08-25T08:19:48.685291",
     "status": "completed"
    },
    "tags": []
   },
   "outputs": [],
   "source": [
    "engine_trend = BacktestEngine(\n",
    "    strategy=Strategy.DELTA_ONE.value,\n",
    "    instrument=all_futures_baltas2020.index,\n",
    "    signal=signal.ParallelSignal([\n",
    "        signal.VolatilityScale(agg_method='rolling', window=21, ann_factor=261, \n",
    "                               target_volatility=0.4, signal_cap=0.95),\n",
    "        signal.TSMOMBaltas2020()\n",
    "    ], weighting='product'),\n",
    "    weighting=Weighting.EQUAL_WEIGHT.value,\n",
    "    log_level=logging.WARN,\n",
    ")\n",
    "engine_trend.run()"
   ]
  },
  {
   "cell_type": "code",
   "execution_count": 13,
   "id": "a8e78bc7",
   "metadata": {
    "execution": {
     "iopub.execute_input": "2022-08-25T08:37:06.829892Z",
     "iopub.status.busy": "2022-08-25T08:37:06.829620Z",
     "iopub.status.idle": "2022-08-25T08:38:34.275836Z",
     "shell.execute_reply": "2022-08-25T08:38:34.274711Z"
    },
    "papermill": {
     "duration": 87.460865,
     "end_time": "2022-08-25T08:38:34.278354",
     "exception": false,
     "start_time": "2022-08-25T08:37:06.817489",
     "status": "completed"
    },
    "tags": []
   },
   "outputs": [],
   "source": [
    "engine_trend_eq = (engine_trend.calculate_equity_curve(calculate_net=False, rebalance_freq='m')\n",
    "                   .rename('Trend-following portfolio (TREND signal)'))"
   ]
  },
  {
   "cell_type": "code",
   "execution_count": 14,
   "id": "2d99418a",
   "metadata": {
    "execution": {
     "iopub.execute_input": "2022-08-25T08:38:34.313314Z",
     "iopub.status.busy": "2022-08-25T08:38:34.312777Z",
     "iopub.status.idle": "2022-08-25T08:38:34.899725Z",
     "shell.execute_reply": "2022-08-25T08:38:34.898979Z"
    },
    "papermill": {
     "duration": 0.606873,
     "end_time": "2022-08-25T08:38:34.901987",
     "exception": false,
     "start_time": "2022-08-25T08:38:34.295114",
     "status": "completed"
    },
    "tags": []
   },
   "outputs": [
    {
     "data": {
      "image/png": "[encoded data removed]",
      "text/plain": [
       "<Figure size 576x324 with 1 Axes>"
      ]
     },
     "metadata": {
      "needs_background": "light"
     },
     "output_type": "display_data"
    }
   ],
   "source": [
    "fig, ax = plt.subplots(figsize=(8, 4.5))\n",
    "engine_trend_eq.plot(ax=ax, logy=True);\n",
    "ax.set_title('Trend-following portfolio (TREND signal)')\n",
    "ax.set_ylabel('Cumulative returns');"
   ]
  },
  {
   "cell_type": "code",
   "execution_count": 15,
   "id": "ded0af9d",
   "metadata": {
    "execution": {
     "iopub.execute_input": "2022-08-25T08:38:34.937880Z",
     "iopub.status.busy": "2022-08-25T08:38:34.937325Z",
     "iopub.status.idle": "2022-08-25T08:38:35.025568Z",
     "shell.execute_reply": "2022-08-25T08:38:35.024957Z"
    },
    "papermill": {
     "duration": 0.10798,
     "end_time": "2022-08-25T08:38:35.027184",
     "exception": false,
     "start_time": "2022-08-25T08:38:34.919204",
     "status": "completed"
    },
    "tags": []
   },
   "outputs": [
    {
     "data": {
      "text/html": [
       "<div>\n",
       "<style scoped>\n",
       "    .dataframe tbody tr th:only-of-type {\n",
       "        vertical-align: middle;\n",
       "    }\n",
       "\n",
       "    .dataframe tbody tr th {\n",
       "        vertical-align: top;\n",
       "    }\n",
       "\n",
       "    .dataframe thead th {\n",
       "        text-align: right;\n",
       "    }\n",
       "</style>\n",
       "<table border=\"1\" class=\"dataframe\">\n",
       "  <thead>\n",
       "    <tr style=\"text-align: right;\">\n",
       "      <th></th>\n",
       "      <th>Trend-following portfolio (TREND signal)</th>\n",
       "    </tr>\n",
       "  </thead>\n",
       "  <tbody>\n",
       "    <tr>\n",
       "      <th>CAGR</th>\n",
       "      <td>0.139841</td>\n",
       "    </tr>\n",
       "    <tr>\n",
       "      <th>Annualised vol</th>\n",
       "      <td>0.107932</td>\n",
       "    </tr>\n",
       "    <tr>\n",
       "      <th>Sharpe ratio</th>\n",
       "      <td>1.295645</td>\n",
       "    </tr>\n",
       "    <tr>\n",
       "      <th>Max drawdown</th>\n",
       "      <td>0.294584</td>\n",
       "    </tr>\n",
       "    <tr>\n",
       "      <th>Calmar ratio</th>\n",
       "      <td>0.474707</td>\n",
       "    </tr>\n",
       "    <tr>\n",
       "      <th>Skewness</th>\n",
       "      <td>0.158836</td>\n",
       "    </tr>\n",
       "    <tr>\n",
       "      <th>Kurtosis</th>\n",
       "      <td>28.002768</td>\n",
       "    </tr>\n",
       "    <tr>\n",
       "      <th>Worst return</th>\n",
       "      <td>-0.121269</td>\n",
       "    </tr>\n",
       "    <tr>\n",
       "      <th>Worst 1d return</th>\n",
       "      <td>-0.121269</td>\n",
       "    </tr>\n",
       "    <tr>\n",
       "      <th>Worst 1w return</th>\n",
       "      <td>-0.110077</td>\n",
       "    </tr>\n",
       "    <tr>\n",
       "      <th>Worst 1m return</th>\n",
       "      <td>-0.171789</td>\n",
       "    </tr>\n",
       "  </tbody>\n",
       "</table>\n",
       "</div>"
      ],
      "text/plain": [
       "                 Trend-following portfolio (TREND signal)\n",
       "CAGR                                             0.139841\n",
       "Annualised vol                                   0.107932\n",
       "Sharpe ratio                                     1.295645\n",
       "Max drawdown                                     0.294584\n",
       "Calmar ratio                                     0.474707\n",
       "Skewness                                         0.158836\n",
       "Kurtosis                                        28.002768\n",
       "Worst return                                    -0.121269\n",
       "Worst 1d return                                 -0.121269\n",
       "Worst 1w return                                 -0.110077\n",
       "Worst 1m return                                 -0.171789"
      ]
     },
     "execution_count": 15,
     "metadata": {},
     "output_type": "execute_result"
    }
   ],
   "source": [
    "engine_trend_eq.pipe(Performance).summary()"
   ]
  },
  {
   "cell_type": "markdown",
   "id": "8690d2a3",
   "metadata": {
    "papermill": {
     "duration": 0.011842,
     "end_time": "2022-08-25T08:38:35.051029",
     "exception": false,
     "start_time": "2022-08-25T08:38:35.039187",
     "status": "completed"
    },
    "tags": []
   },
   "source": [
    "## Combined\n",
    "\n",
    "Finally we run a backtest by using both the Yang-Zhang volatility estimator and the TREND signal."
   ]
  },
  {
   "cell_type": "code",
   "execution_count": 16,
   "id": "1bb9d5db",
   "metadata": {
    "execution": {
     "iopub.execute_input": "2022-08-25T08:38:35.076133Z",
     "iopub.status.busy": "2022-08-25T08:38:35.075651Z",
     "iopub.status.idle": "2022-08-25T09:04:56.949253Z",
     "shell.execute_reply": "2022-08-25T09:04:56.948502Z"
    },
    "papermill": {
     "duration": 1581.888567,
     "end_time": "2022-08-25T09:04:56.951392",
     "exception": false,
     "start_time": "2022-08-25T08:38:35.062825",
     "status": "completed"
    },
    "tags": []
   },
   "outputs": [],
   "source": [
    "engine_combined = BacktestEngine(\n",
    "    strategy=Strategy.DELTA_ONE.value,\n",
    "    instrument=all_futures_baltas2020.index,\n",
    "    signal=signal.ParallelSignal([\n",
    "        signal.VolatilityScale(volatility_type=RealisedVolatility.YZ.value,\n",
    "                               agg_method='rolling', window=21, min_periods=10,\n",
    "                               target_volatility=0.4, signal_cap=0.95, ann_factor=261),\n",
    "        signal.TSMOMBaltas2020()\n",
    "    ], weighting='product'),\n",
    "    weighting=Weighting.EQUAL_WEIGHT.value,\n",
    "    log_level=logging.WARN,\n",
    ")\n",
    "engine_combined.run()"
   ]
  },
  {
   "cell_type": "code",
   "execution_count": 17,
   "id": "358fb529",
   "metadata": {
    "execution": {
     "iopub.execute_input": "2022-08-25T09:04:56.976680Z",
     "iopub.status.busy": "2022-08-25T09:04:56.976408Z",
     "iopub.status.idle": "2022-08-25T09:06:17.156884Z",
     "shell.execute_reply": "2022-08-25T09:06:17.155902Z"
    },
    "papermill": {
     "duration": 80.194934,
     "end_time": "2022-08-25T09:06:17.158710",
     "exception": false,
     "start_time": "2022-08-25T09:04:56.963776",
     "status": "completed"
    },
    "tags": []
   },
   "outputs": [],
   "source": [
    "engine_combined_eq = (engine_combined.calculate_equity_curve(calculate_net=False, rebalance_freq='m')\n",
    "                      .rename('Trend-following portfolio (YZ estimator + TREND signal)'))"
   ]
  },
  {
   "cell_type": "code",
   "execution_count": 18,
   "id": "0d795246",
   "metadata": {
    "execution": {
     "iopub.execute_input": "2022-08-25T09:06:17.183574Z",
     "iopub.status.busy": "2022-08-25T09:06:17.183316Z",
     "iopub.status.idle": "2022-08-25T09:06:17.740007Z",
     "shell.execute_reply": "2022-08-25T09:06:17.739290Z"
    },
    "papermill": {
     "duration": 0.570755,
     "end_time": "2022-08-25T09:06:17.741762",
     "exception": false,
     "start_time": "2022-08-25T09:06:17.171007",
     "status": "completed"
    },
    "tags": []
   },
   "outputs": [
    {
     "data": {
      "image/png": "[encoded data removed]",
      "text/plain": [
       "<Figure size 576x324 with 1 Axes>"
      ]
     },
     "metadata": {
      "needs_background": "light"
     },
     "output_type": "display_data"
    }
   ],
   "source": [
    "fig, ax = plt.subplots(figsize=(8, 4.5))\n",
    "engine_combined_eq.plot(ax=ax, logy=True)\n",
    "ax.set_title('Trend-following portfolio (YZ estimator + TREND signal)')\n",
    "ax.set_ylabel('Cumulative returns');"
   ]
  },
  {
   "cell_type": "code",
   "execution_count": 19,
   "id": "312e0d9e",
   "metadata": {
    "execution": {
     "iopub.execute_input": "2022-08-25T09:06:17.766926Z",
     "iopub.status.busy": "2022-08-25T09:06:17.766653Z",
     "iopub.status.idle": "2022-08-25T09:06:17.843666Z",
     "shell.execute_reply": "2022-08-25T09:06:17.843003Z"
    },
    "papermill": {
     "duration": 0.091484,
     "end_time": "2022-08-25T09:06:17.845297",
     "exception": false,
     "start_time": "2022-08-25T09:06:17.753813",
     "status": "completed"
    },
    "tags": []
   },
   "outputs": [
    {
     "data": {
      "text/html": [
       "<div>\n",
       "<style scoped>\n",
       "    .dataframe tbody tr th:only-of-type {\n",
       "        vertical-align: middle;\n",
       "    }\n",
       "\n",
       "    .dataframe tbody tr th {\n",
       "        vertical-align: top;\n",
       "    }\n",
       "\n",
       "    .dataframe thead th {\n",
       "        text-align: right;\n",
       "    }\n",
       "</style>\n",
       "<table border=\"1\" class=\"dataframe\">\n",
       "  <thead>\n",
       "    <tr style=\"text-align: right;\">\n",
       "      <th></th>\n",
       "      <th>Trend-following portfolio (YZ estimator + TREND signal)</th>\n",
       "    </tr>\n",
       "  </thead>\n",
       "  <tbody>\n",
       "    <tr>\n",
       "      <th>CAGR</th>\n",
       "      <td>0.140292</td>\n",
       "    </tr>\n",
       "    <tr>\n",
       "      <th>Annualised vol</th>\n",
       "      <td>0.110666</td>\n",
       "    </tr>\n",
       "    <tr>\n",
       "      <th>Sharpe ratio</th>\n",
       "      <td>1.267709</td>\n",
       "    </tr>\n",
       "    <tr>\n",
       "      <th>Max drawdown</th>\n",
       "      <td>0.313945</td>\n",
       "    </tr>\n",
       "    <tr>\n",
       "      <th>Calmar ratio</th>\n",
       "      <td>0.446867</td>\n",
       "    </tr>\n",
       "    <tr>\n",
       "      <th>Skewness</th>\n",
       "      <td>0.292336</td>\n",
       "    </tr>\n",
       "    <tr>\n",
       "      <th>Kurtosis</th>\n",
       "      <td>32.523564</td>\n",
       "    </tr>\n",
       "    <tr>\n",
       "      <th>Worst return</th>\n",
       "      <td>-0.130152</td>\n",
       "    </tr>\n",
       "    <tr>\n",
       "      <th>Worst 1d return</th>\n",
       "      <td>-0.130152</td>\n",
       "    </tr>\n",
       "    <tr>\n",
       "      <th>Worst 1w return</th>\n",
       "      <td>-0.112097</td>\n",
       "    </tr>\n",
       "    <tr>\n",
       "      <th>Worst 1m return</th>\n",
       "      <td>-0.186272</td>\n",
       "    </tr>\n",
       "  </tbody>\n",
       "</table>\n",
       "</div>"
      ],
      "text/plain": [
       "                 Trend-following portfolio (YZ estimator + TREND signal)\n",
       "CAGR                                                      0.140292      \n",
       "Annualised vol                                            0.110666      \n",
       "Sharpe ratio                                              1.267709      \n",
       "Max drawdown                                              0.313945      \n",
       "Calmar ratio                                              0.446867      \n",
       "Skewness                                                  0.292336      \n",
       "Kurtosis                                                 32.523564      \n",
       "Worst return                                             -0.130152      \n",
       "Worst 1d return                                          -0.130152      \n",
       "Worst 1w return                                          -0.112097      \n",
       "Worst 1m return                                          -0.186272      "
      ]
     },
     "execution_count": 19,
     "metadata": {},
     "output_type": "execute_result"
    }
   ],
   "source": [
    "engine_combined_eq.pipe(Performance).summary()"
   ]
  },
  {
   "cell_type": "markdown",
   "id": "c1ac8007",
   "metadata": {
    "papermill": {
     "duration": 0.011909,
     "end_time": "2022-08-25T09:06:17.869200",
     "exception": false,
     "start_time": "2022-08-25T09:06:17.857291",
     "status": "completed"
    },
    "tags": []
   },
   "source": [
    "# Comparison\n",
    "\n",
    "In this section we compare the above 4 backtests."
   ]
  },
  {
   "cell_type": "markdown",
   "id": "628f04a0",
   "metadata": {
    "papermill": {
     "duration": 0.02721,
     "end_time": "2022-08-25T09:06:17.908243",
     "exception": false,
     "start_time": "2022-08-25T09:06:17.881033",
     "status": "completed"
    },
    "tags": []
   },
   "source": [
    "## Performance\n",
    "\n",
    "As reported in BK2020, using the YZ estimator and TREND signal does not alter the performance characteristics. Rather, the TREND signal somewhat improves the Sharpe ratio. Also the TREND signal lowers the annualised volatility from 12.5% to 10.8% with the close-to-close realised volatility."
   ]
  },
  {
   "cell_type": "code",
   "execution_count": 20,
   "id": "5beb9574",
   "metadata": {
    "execution": {
     "iopub.execute_input": "2022-08-25T09:06:17.933032Z",
     "iopub.status.busy": "2022-08-25T09:06:17.932765Z",
     "iopub.status.idle": "2022-08-25T09:06:17.945206Z",
     "shell.execute_reply": "2022-08-25T09:06:17.944511Z"
    },
    "papermill": {
     "duration": 0.02701,
     "end_time": "2022-08-25T09:06:17.947011",
     "exception": false,
     "start_time": "2022-08-25T09:06:17.920001",
     "status": "completed"
    },
    "tags": []
   },
   "outputs": [],
   "source": [
    "performance_comp = pd.concat((engine_original_eq, engine_vol_eq, \n",
    "                              engine_trend_eq, engine_combined_eq), axis=1)"
   ]
  },
  {
   "cell_type": "code",
   "execution_count": 21,
   "id": "a94b915e",
   "metadata": {
    "execution": {
     "iopub.execute_input": "2022-08-25T09:06:17.972812Z",
     "iopub.status.busy": "2022-08-25T09:06:17.972547Z",
     "iopub.status.idle": "2022-08-25T09:06:18.714326Z",
     "shell.execute_reply": "2022-08-25T09:06:18.713611Z"
    },
    "papermill": {
     "duration": 0.756579,
     "end_time": "2022-08-25T09:06:18.715986",
     "exception": false,
     "start_time": "2022-08-25T09:06:17.959407",
     "status": "completed"
    },
    "tags": []
   },
   "outputs": [
    {
     "data": {
      "image/png": "[encoded data removed]",
      "text/plain": [
       "<Figure size 576x324 with 1 Axes>"
      ]
     },
     "metadata": {
      "needs_background": "light"
     },
     "output_type": "display_data"
    }
   ],
   "source": [
    "fig, ax = plt.subplots(figsize=(8, 4.5))\n",
    "performance_comp.plot(ax=ax, logy=True);\n",
    "ax.set_title('Trend-following portfolio')\n",
    "ax.set_ylabel('Cumulative returns');"
   ]
  },
  {
   "cell_type": "code",
   "execution_count": 22,
   "id": "a0897ae8",
   "metadata": {
    "execution": {
     "iopub.execute_input": "2022-08-25T09:06:18.742478Z",
     "iopub.status.busy": "2022-08-25T09:06:18.742216Z",
     "iopub.status.idle": "2022-08-25T09:06:18.841890Z",
     "shell.execute_reply": "2022-08-25T09:06:18.841152Z"
    },
    "papermill": {
     "duration": 0.114919,
     "end_time": "2022-08-25T09:06:18.843540",
     "exception": false,
     "start_time": "2022-08-25T09:06:18.728621",
     "status": "completed"
    },
    "tags": []
   },
   "outputs": [
    {
     "data": {
      "text/html": [
       "<div>\n",
       "<style scoped>\n",
       "    .dataframe tbody tr th:only-of-type {\n",
       "        vertical-align: middle;\n",
       "    }\n",
       "\n",
       "    .dataframe tbody tr th {\n",
       "        vertical-align: top;\n",
       "    }\n",
       "\n",
       "    .dataframe thead th {\n",
       "        text-align: right;\n",
       "    }\n",
       "</style>\n",
       "<table border=\"1\" class=\"dataframe\">\n",
       "  <thead>\n",
       "    <tr style=\"text-align: right;\">\n",
       "      <th></th>\n",
       "      <th>Trend-following portfolio (Moskowitz 2012)</th>\n",
       "      <th>Trend-following portfolio (YZ estimator)</th>\n",
       "      <th>Trend-following portfolio (TREND signal)</th>\n",
       "      <th>Trend-following portfolio (YZ estimator + TREND signal)</th>\n",
       "    </tr>\n",
       "  </thead>\n",
       "  <tbody>\n",
       "    <tr>\n",
       "      <th>CAGR</th>\n",
       "      <td>0.147898</td>\n",
       "      <td>0.149175</td>\n",
       "      <td>0.139841</td>\n",
       "      <td>0.139947</td>\n",
       "    </tr>\n",
       "    <tr>\n",
       "      <th>Annualised vol</th>\n",
       "      <td>0.124980</td>\n",
       "      <td>0.127112</td>\n",
       "      <td>0.107932</td>\n",
       "      <td>0.110531</td>\n",
       "    </tr>\n",
       "    <tr>\n",
       "      <th>Sharpe ratio</th>\n",
       "      <td>1.183370</td>\n",
       "      <td>1.173570</td>\n",
       "      <td>1.295645</td>\n",
       "      <td>1.266139</td>\n",
       "    </tr>\n",
       "    <tr>\n",
       "      <th>Max drawdown</th>\n",
       "      <td>0.259239</td>\n",
       "      <td>0.305877</td>\n",
       "      <td>0.294584</td>\n",
       "      <td>0.313945</td>\n",
       "    </tr>\n",
       "    <tr>\n",
       "      <th>Calmar ratio</th>\n",
       "      <td>0.570508</td>\n",
       "      <td>0.487697</td>\n",
       "      <td>0.474707</td>\n",
       "      <td>0.445769</td>\n",
       "    </tr>\n",
       "    <tr>\n",
       "      <th>Skewness</th>\n",
       "      <td>0.073353</td>\n",
       "      <td>0.281343</td>\n",
       "      <td>0.158836</td>\n",
       "      <td>0.293302</td>\n",
       "    </tr>\n",
       "    <tr>\n",
       "      <th>Kurtosis</th>\n",
       "      <td>19.333897</td>\n",
       "      <td>22.177003</td>\n",
       "      <td>28.002768</td>\n",
       "      <td>32.610045</td>\n",
       "    </tr>\n",
       "    <tr>\n",
       "      <th>Worst return</th>\n",
       "      <td>-0.126276</td>\n",
       "      <td>-0.137043</td>\n",
       "      <td>-0.121269</td>\n",
       "      <td>-0.130152</td>\n",
       "    </tr>\n",
       "    <tr>\n",
       "      <th>Worst 1d return</th>\n",
       "      <td>-0.126276</td>\n",
       "      <td>-0.137043</td>\n",
       "      <td>-0.121269</td>\n",
       "      <td>-0.130152</td>\n",
       "    </tr>\n",
       "    <tr>\n",
       "      <th>Worst 1w return</th>\n",
       "      <td>-0.107725</td>\n",
       "      <td>-0.098542</td>\n",
       "      <td>-0.110077</td>\n",
       "      <td>-0.112097</td>\n",
       "    </tr>\n",
       "    <tr>\n",
       "      <th>Worst 1m return</th>\n",
       "      <td>-0.152667</td>\n",
       "      <td>-0.169177</td>\n",
       "      <td>-0.171789</td>\n",
       "      <td>-0.186272</td>\n",
       "    </tr>\n",
       "  </tbody>\n",
       "</table>\n",
       "</div>"
      ],
      "text/plain": [
       "                 Trend-following portfolio (Moskowitz 2012)  \\\n",
       "CAGR                                               0.147898   \n",
       "Annualised vol                                     0.124980   \n",
       "Sharpe ratio                                       1.183370   \n",
       "Max drawdown                                       0.259239   \n",
       "Calmar ratio                                       0.570508   \n",
       "Skewness                                           0.073353   \n",
       "Kurtosis                                          19.333897   \n",
       "Worst return                                      -0.126276   \n",
       "Worst 1d return                                   -0.126276   \n",
       "Worst 1w return                                   -0.107725   \n",
       "Worst 1m return                                   -0.152667   \n",
       "\n",
       "                 Trend-following portfolio (YZ estimator)  \\\n",
       "CAGR                                             0.149175   \n",
       "Annualised vol                                   0.127112   \n",
       "Sharpe ratio                                     1.173570   \n",
       "Max drawdown                                     0.305877   \n",
       "Calmar ratio                                     0.487697   \n",
       "Skewness                                         0.281343   \n",
       "Kurtosis                                        22.177003   \n",
       "Worst return                                    -0.137043   \n",
       "Worst 1d return                                 -0.137043   \n",
       "Worst 1w return                                 -0.098542   \n",
       "Worst 1m return                                 -0.169177   \n",
       "\n",
       "                 Trend-following portfolio (TREND signal)  \\\n",
       "CAGR                                             0.139841   \n",
       "Annualised vol                                   0.107932   \n",
       "Sharpe ratio                                     1.295645   \n",
       "Max drawdown                                     0.294584   \n",
       "Calmar ratio                                     0.474707   \n",
       "Skewness                                         0.158836   \n",
       "Kurtosis                                        28.002768   \n",
       "Worst return                                    -0.121269   \n",
       "Worst 1d return                                 -0.121269   \n",
       "Worst 1w return                                 -0.110077   \n",
       "Worst 1m return                                 -0.171789   \n",
       "\n",
       "                 Trend-following portfolio (YZ estimator + TREND signal)  \n",
       "CAGR                                                      0.139947        \n",
       "Annualised vol                                            0.110531        \n",
       "Sharpe ratio                                              1.266139        \n",
       "Max drawdown                                              0.313945        \n",
       "Calmar ratio                                              0.445769        \n",
       "Skewness                                                  0.293302        \n",
       "Kurtosis                                                 32.610045        \n",
       "Worst return                                             -0.130152        \n",
       "Worst 1d return                                          -0.130152        \n",
       "Worst 1w return                                          -0.112097        \n",
       "Worst 1m return                                          -0.186272        "
      ]
     },
     "execution_count": 22,
     "metadata": {},
     "output_type": "execute_result"
    }
   ],
   "source": [
    "performance_comp.pipe(Performance).summary()"
   ]
  },
  {
   "cell_type": "markdown",
   "id": "f4cff838",
   "metadata": {
    "papermill": {
     "duration": 0.012738,
     "end_time": "2022-08-25T09:06:18.869157",
     "exception": false,
     "start_time": "2022-08-25T09:06:18.856419",
     "status": "completed"
    },
    "tags": []
   },
   "source": [
    "## Turnover reduction\n",
    "\n",
    "Again, as reported in BK2020, both enhancements reduce the turnover significantly while not affecting the performance. The chart below shows the reduction in turnover for each futures contract. By utilising the YZ realised volatility and the TREND signal, overall the turnover is reduced by more than 30%."
   ]
  },
  {
   "cell_type": "code",
   "execution_count": 23,
   "id": "3ee4720b",
   "metadata": {
    "execution": {
     "iopub.execute_input": "2022-08-25T09:06:18.895792Z",
     "iopub.status.busy": "2022-08-25T09:06:18.895471Z",
     "iopub.status.idle": "2022-08-25T09:11:25.195274Z",
     "shell.execute_reply": "2022-08-25T09:11:25.194521Z"
    },
    "papermill": {
     "duration": 306.316283,
     "end_time": "2022-08-25T09:11:25.198056",
     "exception": false,
     "start_time": "2022-08-25T09:06:18.881773",
     "status": "completed"
    },
    "tags": []
   },
   "outputs": [],
   "source": [
    "engine_original_pos = engine_original.get_position_by_instrument()\n",
    "engine_vol_pos = engine_vol.get_position_by_instrument()\n",
    "engine_trend_pos = engine_trend.get_position_by_instrument()\n",
    "engine_combined_pos = engine_combined.get_position_by_instrument()"
   ]
  },
  {
   "cell_type": "code",
   "execution_count": 24,
   "id": "463afa8e",
   "metadata": {
    "execution": {
     "iopub.execute_input": "2022-08-25T09:11:25.226731Z",
     "iopub.status.busy": "2022-08-25T09:11:25.226112Z",
     "iopub.status.idle": "2022-08-25T09:11:25.262014Z",
     "shell.execute_reply": "2022-08-25T09:11:25.261287Z"
    },
    "papermill": {
     "duration": 0.052462,
     "end_time": "2022-08-25T09:11:25.263888",
     "exception": false,
     "start_time": "2022-08-25T09:11:25.211426",
     "status": "completed"
    },
    "tags": []
   },
   "outputs": [],
   "source": [
    "engine_original_turnover = (engine_original_pos.diff().abs().mean().mul(261)\n",
    "                            .rename('Trend-following portfolio (Moskowitz 2012)'))\n",
    "engine_vol_turnover = (engine_vol_pos.diff().abs().mean().mul(261)\n",
    "                       .rename('Trend-following portfolio (YZ estimator)'))\n",
    "engine_trend_turnover = (engine_trend_pos.diff().abs().mean().mul(261)\n",
    "                         .rename('Trend-following portfolio (TREND signal)'))\n",
    "engine_combined_turnover = (engine_combined_pos.diff().abs().mean().mul(261)\n",
    "                            .rename('Trend-following portfolio (YZ estimator + TREND signal)'))"
   ]
  },
  {
   "cell_type": "code",
   "execution_count": 25,
   "id": "ae1395a1",
   "metadata": {
    "execution": {
     "iopub.execute_input": "2022-08-25T09:11:25.290897Z",
     "iopub.status.busy": "2022-08-25T09:11:25.290578Z",
     "iopub.status.idle": "2022-08-25T09:11:25.297687Z",
     "shell.execute_reply": "2022-08-25T09:11:25.297058Z"
    },
    "papermill": {
     "duration": 0.022623,
     "end_time": "2022-08-25T09:11:25.299329",
     "exception": false,
     "start_time": "2022-08-25T09:11:25.276706",
     "status": "completed"
    },
    "tags": []
   },
   "outputs": [],
   "source": [
    "turnover_reduction = (\n",
    "    pd.concat((engine_vol_turnover, engine_trend_turnover, engine_combined_turnover), axis=1)\n",
    "    .div(engine_original_turnover, axis=0)\n",
    "    .sub(1)\n",
    "    .reindex(index=all_futures_baltas2020.index)\n",
    "    .rename(index=all_futures_baltas2020['name'])\n",
    ")"
   ]
  },
  {
   "cell_type": "code",
   "execution_count": 26,
   "id": "7b426ef6",
   "metadata": {
    "execution": {
     "iopub.execute_input": "2022-08-25T09:11:25.326702Z",
     "iopub.status.busy": "2022-08-25T09:11:25.326383Z",
     "iopub.status.idle": "2022-08-25T09:11:25.332315Z",
     "shell.execute_reply": "2022-08-25T09:11:25.331727Z"
    },
    "papermill": {
     "duration": 0.021217,
     "end_time": "2022-08-25T09:11:25.333885",
     "exception": false,
     "start_time": "2022-08-25T09:11:25.312668",
     "status": "completed"
    },
    "tags": []
   },
   "outputs": [
    {
     "data": {
      "text/plain": [
       "Trend-following portfolio (YZ estimator)                  -0.181309\n",
       "Trend-following portfolio (TREND signal)                  -0.207451\n",
       "Trend-following portfolio (YZ estimator + TREND signal)   -0.330917\n",
       "dtype: float64"
      ]
     },
     "execution_count": 26,
     "metadata": {},
     "output_type": "execute_result"
    }
   ],
   "source": [
    "turnover_reduction.mean()"
   ]
  },
  {
   "cell_type": "code",
   "execution_count": 27,
   "id": "97d296c3",
   "metadata": {
    "execution": {
     "iopub.execute_input": "2022-08-25T09:11:25.361158Z",
     "iopub.status.busy": "2022-08-25T09:11:25.360838Z",
     "iopub.status.idle": "2022-08-25T09:11:26.942159Z",
     "shell.execute_reply": "2022-08-25T09:11:26.941397Z"
    },
    "papermill": {
     "duration": 1.596735,
     "end_time": "2022-08-25T09:11:26.943781",
     "exception": false,
     "start_time": "2022-08-25T09:11:25.347046",
     "status": "completed"
    },
    "tags": []
   },
   "outputs": [
    {
     "data": {
      "image/png": "[encoded data removed]",
      "text/plain": [
       "<Figure size 1008x288 with 1 Axes>"
      ]
     },
     "metadata": {
      "needs_background": "light"
     },
     "output_type": "display_data"
    }
   ],
   "source": [
    "ax = turnover_reduction.plot(kind='bar', figsize=(14, 4))\n",
    "ax.yaxis.set_major_formatter(mticker.PercentFormatter(1))\n",
    "ax.axhline(0, color='black', lw=1)\n",
    "ax.axvline(24.5, color='black', lw=1)\n",
    "ax.axvline(30.5, color='black', lw=1)\n",
    "ax.axvline(42.5, color='black', lw=1)\n",
    "ax.set_xlabel('Contract')\n",
    "ax.set_ylabel('Turnover reduction');"
   ]
  },
  {
   "cell_type": "markdown",
   "id": "50358313",
   "metadata": {
    "papermill": {
     "duration": 0.01358,
     "end_time": "2022-08-25T09:11:26.971036",
     "exception": false,
     "start_time": "2022-08-25T09:11:26.957456",
     "status": "completed"
    },
    "tags": []
   },
   "source": [
    "# Recent performance"
   ]
  },
  {
   "cell_type": "code",
   "execution_count": 28,
   "id": "c778c642",
   "metadata": {
    "execution": {
     "iopub.execute_input": "2022-08-25T09:11:26.999354Z",
     "iopub.status.busy": "2022-08-25T09:11:26.999079Z",
     "iopub.status.idle": "2022-08-25T09:11:27.440116Z",
     "shell.execute_reply": "2022-08-25T09:11:27.439449Z"
    },
    "papermill": {
     "duration": 0.457039,
     "end_time": "2022-08-25T09:11:27.441725",
     "exception": false,
     "start_time": "2022-08-25T09:11:26.984686",
     "status": "completed"
    },
    "tags": []
   },
   "outputs": [
    {
     "data": {
      "image/png": "[encoded data removed]",
      "text/plain": [
       "<Figure size 576x324 with 1 Axes>"
      ]
     },
     "metadata": {
      "needs_background": "light"
     },
     "output_type": "display_data"
    }
   ],
   "source": [
    "fig, ax = plt.subplots(figsize=(8, 4.5))\n",
    "performance_comp.tail(252 * 2).pct_change().fillna(0).add(1).cumprod().plot(ax=ax, logy=True);\n",
    "ax.set_title('Trend-following portfolio')\n",
    "ax.set_ylabel('Cumulative returns');"
   ]
  },
  {
   "cell_type": "markdown",
   "id": "849ffeac",
   "metadata": {
    "papermill": {
     "duration": 0.014051,
     "end_time": "2022-08-25T09:11:27.470043",
     "exception": false,
     "start_time": "2022-08-25T09:11:27.455992",
     "status": "completed"
    },
    "tags": []
   },
   "source": [
    "# Reference\n",
    "\n",
    "- Baltas, N. and Kosowski, R., 2020. Demystifying time-series momentum strategies: Volatility estimators, trading rules and pairwise correlations. Market Momentum: Theory and Practice\", Wiley.\n",
    "- Moskowitz, T.J., Ooi, Y.H. and Pedersen, L.H., 2012. Time series momentum. Journal of financial economics, 104(2), pp.228-250."
   ]
  },
  {
   "cell_type": "code",
   "execution_count": 29,
   "id": "21bebb0c",
   "metadata": {
    "ExecuteTime": {
     "end_time": "2020-08-30T21:20:32.431574Z",
     "start_time": "2020-08-30T21:20:32.429370Z"
    },
    "execution": {
     "iopub.execute_input": "2022-08-25T09:11:27.499302Z",
     "iopub.status.busy": "2022-08-25T09:11:27.499028Z",
     "iopub.status.idle": "2022-08-25T09:11:27.502933Z",
     "shell.execute_reply": "2022-08-25T09:11:27.502233Z"
    },
    "papermill": {
     "duration": 0.020495,
     "end_time": "2022-08-25T09:11:27.504519",
     "exception": false,
     "start_time": "2022-08-25T09:11:27.484024",
     "status": "completed"
    },
    "tags": []
   },
   "outputs": [
    {
     "name": "stdout",
     "output_type": "stream",
     "text": [
      "Updated: 25-Aug-2022 09:11\n"
     ]
    }
   ],
   "source": [
    "print(f'Updated: {datetime.utcnow():%d-%b-%Y %H:%M}')"
   ]
  }
 ],
 "metadata": {
  "hide_input": false,
  "kernelspec": {
   "display_name": "Python 3",
   "language": "python",
   "name": "python3"
  },
  "language_info": {
   "codemirror_mode": {
    "name": "ipython",
    "version": 3
   },
   "file_extension": ".py",
   "mimetype": "text/x-python",
   "name": "python",
   "nbconvert_exporter": "python",
   "pygments_lexer": "ipython3",
   "version": "3.9.6"
  },
  "nav_menu": {},
  "papermill": {
   "duration": 5119.07537,
   "end_time": "2022-08-25T09:11:30.552418",
   "environment_variables": {},
   "exception": null,
   "input_path": "notebooks/papermill/trend_following_baltas2020.ipynb",
   "output_path": "notebooks/trend_following_baltas2020.ipynb",
   "parameters": {},
   "start_time": "2022-08-25T07:46:11.477048",
   "version": "2.1.3"
  },
  "toc": {
   "base_numbering": 1,
   "nav_menu": {},
   "number_sections": true,
   "sideBar": true,
   "skip_h1_title": false,
   "title_cell": "Table of Contents",
   "title_sidebar": "Contents",
   "toc_cell": true,
   "toc_position": {
    "height": "calc(100% - 180px)",
    "left": "10px",
    "top": "150px",
    "width": "165px"
   },
   "toc_section_display": "block",
   "toc_window_display": true
  }
 },
 "nbformat": 4,
 "nbformat_minor": 5
}