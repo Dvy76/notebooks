{
 "cells": [
  {
   "cell_type": "markdown",
   "id": "b41ff18e",
   "metadata": {
    "papermill": {
     "duration": 0.017247,
     "end_time": "2022-08-18T06:26:38.306152",
     "exception": false,
     "start_time": "2022-08-18T06:26:38.288905",
     "status": "completed"
    },
    "tags": []
   },
   "source": [
    "# Trend-following\n",
    "\n",
    "This notebook implements a few improvements that Baltas and Kosowski (2020) (BK2020, hereafter) propose to the time-series momentum strategy which originally appeared in Moskowitz et al (2012).\n",
    "\n",
    "Note that like other notebooks, all backtests are performed by using a private library called `vivace`."
   ]
  },
  {
   "cell_type": "code",
   "execution_count": 1,
   "id": "b3bd2194",
   "metadata": {
    "ExecuteTime": {
     "end_time": "2020-08-30T21:08:49.524262Z",
     "start_time": "2020-08-30T21:08:48.720115Z"
    },
    "execution": {
     "iopub.execute_input": "2022-08-18T06:26:38.339821Z",
     "iopub.status.busy": "2022-08-18T06:26:38.339074Z",
     "iopub.status.idle": "2022-08-18T06:26:42.264509Z",
     "shell.execute_reply": "2022-08-18T06:26:42.263583Z"
    },
    "papermill": {
     "duration": 3.945591,
     "end_time": "2022-08-18T06:26:42.267309",
     "exception": false,
     "start_time": "2022-08-18T06:26:38.321718",
     "status": "completed"
    },
    "tags": []
   },
   "outputs": [],
   "source": [
    "%matplotlib inline\n",
    "from datetime import datetime\n",
    "import logging\n",
    "import warnings\n",
    "warnings.simplefilter(action='ignore', category=FutureWarning)\n",
    "\n",
    "import pandas as pd\n",
    "import matplotlib.pyplot as plt\n",
    "import matplotlib.ticker as mticker\n",
    "plt.style.use('bmh')\n",
    "\n",
    "from vivace.backtest import signal\n",
    "from vivace.backtest import processing\n",
    "from vivace.backtest.contract import all_futures_baltas2020\n",
    "from vivace.backtest.engine import BacktestEngine\n",
    "from vivace.backtest.enums import Strategy, Weighting, RealisedVolatility\n",
    "from vivace.backtest.stats import Performance"
   ]
  },
  {
   "cell_type": "markdown",
   "id": "bf7aeb70",
   "metadata": {
    "papermill": {
     "duration": 0.015669,
     "end_time": "2022-08-18T06:26:42.298073",
     "exception": false,
     "start_time": "2022-08-18T06:26:42.282404",
     "status": "completed"
    },
    "tags": []
   },
   "source": [
    "# Data"
   ]
  },
  {
   "cell_type": "code",
   "execution_count": 2,
   "id": "e066cfe9",
   "metadata": {
    "ExecuteTime": {
     "end_time": "2020-08-30T21:08:49.529214Z",
     "start_time": "2020-08-30T21:08:49.525465Z"
    },
    "execution": {
     "iopub.execute_input": "2022-08-18T06:26:42.331604Z",
     "iopub.status.busy": "2022-08-18T06:26:42.331068Z",
     "iopub.status.idle": "2022-08-18T06:26:42.341414Z",
     "shell.execute_reply": "2022-08-18T06:26:42.340654Z"
    },
    "papermill": {
     "duration": 0.030691,
     "end_time": "2022-08-18T06:26:42.344484",
     "exception": false,
     "start_time": "2022-08-18T06:26:42.313793",
     "status": "completed"
    },
    "tags": []
   },
   "outputs": [
    {
     "data": {
      "text/plain": [
       "array(['WTI Crude Oil', 'Brent Crude Oil', 'Heating Oil', 'Natural Gas',\n",
       "       'Gasoline', 'Copper', 'Gold', 'Palladium', 'Platinum', 'Silver',\n",
       "       'Feeder Cattle', 'Live Cattle', 'Lean Hog', 'Corn', 'Oats',\n",
       "       'Soybean Oil', 'Soybean Meal', 'Soybean', 'Wheat', 'Cocoa',\n",
       "       'Coffee', 'Cotton', 'Lumber', 'Orange Juice', 'Sugar',\n",
       "       'Australian Dollar', 'Canadian Dollar', 'Swiss Franc', 'Euro',\n",
       "       'British Pound', 'Japanese Yen', 'E-Mini Nasdaq 100',\n",
       "       'E-mini S&P 500', 'E-mini Russell 2000', 'FTSE 100', 'DAX',\n",
       "       'CAC 40', 'IBEX 35', 'AEX', 'Swiss Market Index', 'SPI 200',\n",
       "       'Topix', 'Hang Seng', 'US 2-year Treasury', 'US 5-year Treasury',\n",
       "       'US 10-year Treasury', 'US treasury Bond', 'Germany Schatz',\n",
       "       'Germany Bobl', 'Germany Bund', 'Germany Buxl', 'Gilt',\n",
       "       'Canada 10-year Treasury', 'JGB'], dtype=object)"
      ]
     },
     "execution_count": 2,
     "metadata": {},
     "output_type": "execute_result"
    }
   ],
   "source": [
    "all_futures_baltas2020['name'].values"
   ]
  },
  {
   "cell_type": "code",
   "execution_count": 3,
   "id": "cbd17de7",
   "metadata": {
    "ExecuteTime": {
     "end_time": "2020-08-30T21:08:49.542477Z",
     "start_time": "2020-08-30T21:08:49.530487Z"
    },
    "execution": {
     "iopub.execute_input": "2022-08-18T06:26:42.415991Z",
     "iopub.status.busy": "2022-08-18T06:26:42.415712Z",
     "iopub.status.idle": "2022-08-18T06:26:42.420013Z",
     "shell.execute_reply": "2022-08-18T06:26:42.419370Z"
    },
    "papermill": {
     "duration": 0.061529,
     "end_time": "2022-08-18T06:26:42.422784",
     "exception": false,
     "start_time": "2022-08-18T06:26:42.361255",
     "status": "completed"
    },
    "tags": []
   },
   "outputs": [
    {
     "name": "stdout",
     "output_type": "stream",
     "text": [
      "54\n"
     ]
    }
   ],
   "source": [
    "print(len(all_futures_baltas2020))"
   ]
  },
  {
   "cell_type": "markdown",
   "id": "8161b599",
   "metadata": {
    "papermill": {
     "duration": 0.016091,
     "end_time": "2022-08-18T06:26:42.455230",
     "exception": false,
     "start_time": "2022-08-18T06:26:42.439139",
     "status": "completed"
    },
    "tags": []
   },
   "source": [
    "We try to use the same contract as the original paper where possible, resulting 54 futures contracts to analyse. The trading universe covers a wide range of asset classes and regions, and is made up of following instruments:\n",
    "- Equity index futures\n",
    "- Government bond futures\n",
    "- FX futures\n",
    "- Commodity futures\n",
    "\n",
    "where the same trend detection method is applied."
   ]
  },
  {
   "cell_type": "markdown",
   "id": "e7d047c6",
   "metadata": {
    "papermill": {
     "duration": 0.016095,
     "end_time": "2022-08-18T06:26:42.487695",
     "exception": false,
     "start_time": "2022-08-18T06:26:42.471600",
     "status": "completed"
    },
    "tags": []
   },
   "source": [
    "# Performance\n"
   ]
  },
  {
   "cell_type": "markdown",
   "id": "edae65ee",
   "metadata": {
    "papermill": {
     "duration": 0.016168,
     "end_time": "2022-08-18T06:26:42.519982",
     "exception": false,
     "start_time": "2022-08-18T06:26:42.503814",
     "status": "completed"
    },
    "tags": []
   },
   "source": [
    "## Moskowitz et al\n",
    "\n",
    "First we calculate the original trend-following portfolio with a more traditional close-to-close realised volatility estimator. Although Moskowitz et al uses the exponentially weighted standard deviation, BK2020 appears to compare against the rolling standard deviation."
   ]
  },
  {
   "cell_type": "code",
   "execution_count": 4,
   "id": "a37c6a4a",
   "metadata": {
    "execution": {
     "iopub.execute_input": "2022-08-18T06:26:42.553612Z",
     "iopub.status.busy": "2022-08-18T06:26:42.553293Z",
     "iopub.status.idle": "2022-08-18T06:38:26.004540Z",
     "shell.execute_reply": "2022-08-18T06:38:26.003632Z"
    },
    "papermill": {
     "duration": 703.470598,
     "end_time": "2022-08-18T06:38:26.006642",
     "exception": false,
     "start_time": "2022-08-18T06:26:42.536044",
     "status": "completed"
    },
    "tags": []
   },
   "outputs": [],
   "source": [
    "engine_original = BacktestEngine(\n",
    "    strategy=Strategy.DELTA_ONE.value,\n",
    "    instrument=all_futures_baltas2020.index,\n",
    "    signal=signal.ParallelSignal([\n",
    "        signal.VolatilityScale(agg_method='rolling', window=21, ann_factor=261, \n",
    "                               target_volatility=0.4, signal_cap=0.95),\n",
    "        signal.TSMOMMoskowitz2012(post_process=processing.AsFreq(freq='m', method='pad'))\n",
    "    ], weighting='product'),\n",
    "    weighting=Weighting.EQUAL_WEIGHT.value,\n",
    "    log_level=logging.WARN,\n",
    ")\n",
    "engine_original.run()"
   ]
  },
  {
   "cell_type": "code",
   "execution_count": 5,
   "id": "e02d6b9e",
   "metadata": {
    "execution": {
     "iopub.execute_input": "2022-08-18T06:38:26.030038Z",
     "iopub.status.busy": "2022-08-18T06:38:26.029482Z",
     "iopub.status.idle": "2022-08-18T06:39:58.398298Z",
     "shell.execute_reply": "2022-08-18T06:39:58.397478Z"
    },
    "papermill": {
     "duration": 92.382383,
     "end_time": "2022-08-18T06:39:58.400281",
     "exception": false,
     "start_time": "2022-08-18T06:38:26.017898",
     "status": "completed"
    },
    "tags": []
   },
   "outputs": [],
   "source": [
    "engine_original_eq = (engine_original.calculate_equity_curve(calculate_net=False, rebalance_freq='m')\n",
    "                      .rename('Trend-following portfolio (Moskowitz 2012)'))"
   ]
  },
  {
   "cell_type": "code",
   "execution_count": 6,
   "id": "b5585798",
   "metadata": {
    "execution": {
     "iopub.execute_input": "2022-08-18T06:39:58.423379Z",
     "iopub.status.busy": "2022-08-18T06:39:58.422799Z",
     "iopub.status.idle": "2022-08-18T06:39:59.687083Z",
     "shell.execute_reply": "2022-08-18T06:39:59.686252Z"
    },
    "papermill": {
     "duration": 1.277722,
     "end_time": "2022-08-18T06:39:59.688897",
     "exception": false,
     "start_time": "2022-08-18T06:39:58.411175",
     "status": "completed"
    },
    "tags": []
   },
   "outputs": [
    {
     "data": {
      "image/png": "[encoded data removed]",
      "text/plain": [
       "<Figure size 576x324 with 1 Axes>"
      ]
     },
     "metadata": {
      "needs_background": "light"
     },
     "output_type": "display_data"
    }
   ],
   "source": [
    "fig, ax = plt.subplots(figsize=(8, 4.5))\n",
    "engine_original_eq.plot(ax=ax, logy=True)\n",
    "ax.set_title('Trend-following portfolio (Moskowitz 2012)')\n",
    "ax.set_ylabel('Cumulative returns');"
   ]
  },
  {
   "cell_type": "code",
   "execution_count": 7,
   "id": "32d8251d",
   "metadata": {
    "execution": {
     "iopub.execute_input": "2022-08-18T06:39:59.712234Z",
     "iopub.status.busy": "2022-08-18T06:39:59.711955Z",
     "iopub.status.idle": "2022-08-18T06:39:59.800563Z",
     "shell.execute_reply": "2022-08-18T06:39:59.799603Z"
    },
    "papermill": {
     "duration": 0.10263,
     "end_time": "2022-08-18T06:39:59.802678",
     "exception": false,
     "start_time": "2022-08-18T06:39:59.700048",
     "status": "completed"
    },
    "tags": []
   },
   "outputs": [
    {
     "data": {
      "text/html": [
       "<div>\n",
       "<style scoped>\n",
       "    .dataframe tbody tr th:only-of-type {\n",
       "        vertical-align: middle;\n",
       "    }\n",
       "\n",
       "    .dataframe tbody tr th {\n",
       "        vertical-align: top;\n",
       "    }\n",
       "\n",
       "    .dataframe thead th {\n",
       "        text-align: right;\n",
       "    }\n",
       "</style>\n",
       "<table border=\"1\" class=\"dataframe\">\n",
       "  <thead>\n",
       "    <tr style=\"text-align: right;\">\n",
       "      <th></th>\n",
       "      <th>Trend-following portfolio (Moskowitz 2012)</th>\n",
       "    </tr>\n",
       "  </thead>\n",
       "  <tbody>\n",
       "    <tr>\n",
       "      <th>CAGR</th>\n",
       "      <td>0.147279</td>\n",
       "    </tr>\n",
       "    <tr>\n",
       "      <th>Annualised vol</th>\n",
       "      <td>0.124966</td>\n",
       "    </tr>\n",
       "    <tr>\n",
       "      <th>Sharpe ratio</th>\n",
       "      <td>1.178552</td>\n",
       "    </tr>\n",
       "    <tr>\n",
       "      <th>Max drawdown</th>\n",
       "      <td>0.259239</td>\n",
       "    </tr>\n",
       "    <tr>\n",
       "      <th>Calmar ratio</th>\n",
       "      <td>0.568122</td>\n",
       "    </tr>\n",
       "    <tr>\n",
       "      <th>Skewness</th>\n",
       "      <td>0.073299</td>\n",
       "    </tr>\n",
       "    <tr>\n",
       "      <th>Kurtosis</th>\n",
       "      <td>19.348627</td>\n",
       "    </tr>\n",
       "    <tr>\n",
       "      <th>Worst return</th>\n",
       "      <td>-0.126276</td>\n",
       "    </tr>\n",
       "    <tr>\n",
       "      <th>Worst 1d return</th>\n",
       "      <td>-0.126276</td>\n",
       "    </tr>\n",
       "    <tr>\n",
       "      <th>Worst 1w return</th>\n",
       "      <td>-0.107725</td>\n",
       "    </tr>\n",
       "    <tr>\n",
       "      <th>Worst 1m return</th>\n",
       "      <td>-0.152667</td>\n",
       "    </tr>\n",
       "  </tbody>\n",
       "</table>\n",
       "</div>"
      ],
      "text/plain": [
       "                 Trend-following portfolio (Moskowitz 2012)\n",
       "CAGR                                               0.147279\n",
       "Annualised vol                                     0.124966\n",
       "Sharpe ratio                                       1.178552\n",
       "Max drawdown                                       0.259239\n",
       "Calmar ratio                                       0.568122\n",
       "Skewness                                           0.073299\n",
       "Kurtosis                                          19.348627\n",
       "Worst return                                      -0.126276\n",
       "Worst 1d return                                   -0.126276\n",
       "Worst 1w return                                   -0.107725\n",
       "Worst 1m return                                   -0.152667"
      ]
     },
     "execution_count": 7,
     "metadata": {},
     "output_type": "execute_result"
    }
   ],
   "source": [
    "engine_original_eq.pipe(Performance).summary()"
   ]
  },
  {
   "cell_type": "markdown",
   "id": "c5eac2de",
   "metadata": {
    "papermill": {
     "duration": 0.011644,
     "end_time": "2022-08-18T06:39:59.825769",
     "exception": false,
     "start_time": "2022-08-18T06:39:59.814125",
     "status": "completed"
    },
    "tags": []
   },
   "source": [
    "\n",
    "## Volatility estimator\n",
    "BK2020 proposes a few changes in order to enhance the original trend-following strategy Moskowitz et al reported. The first thing is to use a more sophisticated realised volatility estimators for volatility scaling. Moskowitz used the exponentially weighted standard deviation with close-to-close. On the other hand, BK2020 suggests to use Yang-Zhang estimator as it is much more efficient."
   ]
  },
  {
   "cell_type": "code",
   "execution_count": 8,
   "id": "53315389",
   "metadata": {
    "ExecuteTime": {
     "end_time": "2020-08-30T21:18:24.661167Z",
     "start_time": "2020-08-30T21:08:49.544232Z"
    },
    "execution": {
     "iopub.execute_input": "2022-08-18T06:39:59.850734Z",
     "iopub.status.busy": "2022-08-18T06:39:59.850459Z",
     "iopub.status.idle": "2022-08-18T07:01:27.302105Z",
     "shell.execute_reply": "2022-08-18T07:01:27.300975Z"
    },
    "papermill": {
     "duration": 1287.467951,
     "end_time": "2022-08-18T07:01:27.305106",
     "exception": false,
     "start_time": "2022-08-18T06:39:59.837155",
     "status": "completed"
    },
    "tags": []
   },
   "outputs": [],
   "source": [
    "engine_vol = BacktestEngine(\n",
    "    strategy=Strategy.DELTA_ONE.value,\n",
    "    instrument=all_futures_baltas2020.index,\n",
    "    signal=signal.ParallelSignal([\n",
    "        signal.VolatilityScale(volatility_type=RealisedVolatility.YZ.value,\n",
    "                               agg_method='rolling', window=21, min_periods=10,\n",
    "                               target_volatility=0.4, signal_cap=0.95, ann_factor=261),\n",
    "        signal.TSMOMMoskowitz2012(post_process=processing.AsFreq(freq='m', method='pad'))\n",
    "    ], weighting='product'),\n",
    "    weighting=Weighting.EQUAL_WEIGHT.value,\n",
    "    log_level=logging.WARN,\n",
    ")\n",
    "engine_vol.run()"
   ]
  },
  {
   "cell_type": "code",
   "execution_count": 9,
   "id": "5f5abeaa",
   "metadata": {
    "execution": {
     "iopub.execute_input": "2022-08-18T07:01:27.339397Z",
     "iopub.status.busy": "2022-08-18T07:01:27.339128Z",
     "iopub.status.idle": "2022-08-18T07:02:55.134173Z",
     "shell.execute_reply": "2022-08-18T07:02:55.133180Z"
    },
    "papermill": {
     "duration": 87.814804,
     "end_time": "2022-08-18T07:02:55.136488",
     "exception": false,
     "start_time": "2022-08-18T07:01:27.321684",
     "status": "completed"
    },
    "tags": []
   },
   "outputs": [],
   "source": [
    "engine_vol_eq = (engine_vol.calculate_equity_curve(calculate_net=False, rebalance_freq='m')\n",
    "                 .rename('Trend-following portfolio (YZ estimator)'))"
   ]
  },
  {
   "cell_type": "code",
   "execution_count": 10,
   "id": "e39a09eb",
   "metadata": {
    "execution": {
     "iopub.execute_input": "2022-08-18T07:02:55.160263Z",
     "iopub.status.busy": "2022-08-18T07:02:55.159956Z",
     "iopub.status.idle": "2022-08-18T07:02:55.792974Z",
     "shell.execute_reply": "2022-08-18T07:02:55.792097Z"
    },
    "papermill": {
     "duration": 0.646778,
     "end_time": "2022-08-18T07:02:55.794815",
     "exception": false,
     "start_time": "2022-08-18T07:02:55.148037",
     "status": "completed"
    },
    "tags": []
   },
   "outputs": [
    {
     "data": {
      "image/png": "[encoded data removed]",
      "text/plain": [
       "<Figure size 576x324 with 1 Axes>"
      ]
     },
     "metadata": {
      "needs_background": "light"
     },
     "output_type": "display_data"
    }
   ],
   "source": [
    "fig, ax = plt.subplots(figsize=(8, 4.5))\n",
    "engine_vol_eq.plot(ax=ax, logy=True);\n",
    "ax.set_title('Trend-following portfolio (YZ estimator)')\n",
    "ax.set_ylabel('Cumulative returns');"
   ]
  },
  {
   "cell_type": "code",
   "execution_count": 11,
   "id": "93092ac2",
   "metadata": {
    "execution": {
     "iopub.execute_input": "2022-08-18T07:02:55.818352Z",
     "iopub.status.busy": "2022-08-18T07:02:55.818086Z",
     "iopub.status.idle": "2022-08-18T07:02:55.901585Z",
     "shell.execute_reply": "2022-08-18T07:02:55.900940Z"
    },
    "papermill": {
     "duration": 0.097593,
     "end_time": "2022-08-18T07:02:55.903531",
     "exception": false,
     "start_time": "2022-08-18T07:02:55.805938",
     "status": "completed"
    },
    "tags": []
   },
   "outputs": [
    {
     "data": {
      "text/html": [
       "<div>\n",
       "<style scoped>\n",
       "    .dataframe tbody tr th:only-of-type {\n",
       "        vertical-align: middle;\n",
       "    }\n",
       "\n",
       "    .dataframe tbody tr th {\n",
       "        vertical-align: top;\n",
       "    }\n",
       "\n",
       "    .dataframe thead th {\n",
       "        text-align: right;\n",
       "    }\n",
       "</style>\n",
       "<table border=\"1\" class=\"dataframe\">\n",
       "  <thead>\n",
       "    <tr style=\"text-align: right;\">\n",
       "      <th></th>\n",
       "      <th>Trend-following portfolio (YZ estimator)</th>\n",
       "    </tr>\n",
       "  </thead>\n",
       "  <tbody>\n",
       "    <tr>\n",
       "      <th>CAGR</th>\n",
       "      <td>0.148936</td>\n",
       "    </tr>\n",
       "    <tr>\n",
       "      <th>Annualised vol</th>\n",
       "      <td>0.127255</td>\n",
       "    </tr>\n",
       "    <tr>\n",
       "      <th>Sharpe ratio</th>\n",
       "      <td>1.170378</td>\n",
       "    </tr>\n",
       "    <tr>\n",
       "      <th>Max drawdown</th>\n",
       "      <td>0.305877</td>\n",
       "    </tr>\n",
       "    <tr>\n",
       "      <th>Calmar ratio</th>\n",
       "      <td>0.486915</td>\n",
       "    </tr>\n",
       "    <tr>\n",
       "      <th>Skewness</th>\n",
       "      <td>0.280499</td>\n",
       "    </tr>\n",
       "    <tr>\n",
       "      <th>Kurtosis</th>\n",
       "      <td>22.131999</td>\n",
       "    </tr>\n",
       "    <tr>\n",
       "      <th>Worst return</th>\n",
       "      <td>-0.137043</td>\n",
       "    </tr>\n",
       "    <tr>\n",
       "      <th>Worst 1d return</th>\n",
       "      <td>-0.137043</td>\n",
       "    </tr>\n",
       "    <tr>\n",
       "      <th>Worst 1w return</th>\n",
       "      <td>-0.098542</td>\n",
       "    </tr>\n",
       "    <tr>\n",
       "      <th>Worst 1m return</th>\n",
       "      <td>-0.169177</td>\n",
       "    </tr>\n",
       "  </tbody>\n",
       "</table>\n",
       "</div>"
      ],
      "text/plain": [
       "                 Trend-following portfolio (YZ estimator)\n",
       "CAGR                                             0.148936\n",
       "Annualised vol                                   0.127255\n",
       "Sharpe ratio                                     1.170378\n",
       "Max drawdown                                     0.305877\n",
       "Calmar ratio                                     0.486915\n",
       "Skewness                                         0.280499\n",
       "Kurtosis                                        22.131999\n",
       "Worst return                                    -0.137043\n",
       "Worst 1d return                                 -0.137043\n",
       "Worst 1w return                                 -0.098542\n",
       "Worst 1m return                                 -0.169177"
      ]
     },
     "execution_count": 11,
     "metadata": {},
     "output_type": "execute_result"
    }
   ],
   "source": [
    "engine_vol_eq.pipe(Performance).summary()"
   ]
  },
  {
   "cell_type": "markdown",
   "id": "e82f43be",
   "metadata": {
    "papermill": {
     "duration": 0.011246,
     "end_time": "2022-08-18T07:02:55.926306",
     "exception": false,
     "start_time": "2022-08-18T07:02:55.915060",
     "status": "completed"
    },
    "tags": []
   },
   "source": [
    "## TREND signal\n",
    "\n",
    "Another improvement BK2020 proposes is to use a continuous signal rather than a binary one in order to reduce the turnover when signals are weak. Specifically they used the t-values with the Newey-West standard error as the signal. They further capped and floored the signal between -1 and +1 to avoid extreme positions.\n",
    "\n",
    "`statsmodels`'s `OLS` class provides a method to compute the Newey-West standard error. https://www.statsmodels.org/stable/generated/statsmodels.regression.linear_model.OLS.html"
   ]
  },
  {
   "cell_type": "code",
   "execution_count": 12,
   "id": "027316bd",
   "metadata": {
    "execution": {
     "iopub.execute_input": "2022-08-18T07:02:55.951049Z",
     "iopub.status.busy": "2022-08-18T07:02:55.950384Z",
     "iopub.status.idle": "2022-08-18T07:21:28.041042Z",
     "shell.execute_reply": "2022-08-18T07:21:28.040198Z"
    },
    "papermill": {
     "duration": 1112.105868,
     "end_time": "2022-08-18T07:21:28.043647",
     "exception": false,
     "start_time": "2022-08-18T07:02:55.937779",
     "status": "completed"
    },
    "tags": []
   },
   "outputs": [],
   "source": [
    "engine_trend = BacktestEngine(\n",
    "    strategy=Strategy.DELTA_ONE.value,\n",
    "    instrument=all_futures_baltas2020.index,\n",
    "    signal=signal.ParallelSignal([\n",
    "        signal.VolatilityScale(agg_method='rolling', window=21, ann_factor=261, \n",
    "                               target_volatility=0.4, signal_cap=0.95),\n",
    "        signal.TSMOMBaltas2020()\n",
    "    ], weighting='product'),\n",
    "    weighting=Weighting.EQUAL_WEIGHT.value,\n",
    "    log_level=logging.WARN,\n",
    ")\n",
    "engine_trend.run()"
   ]
  },
  {
   "cell_type": "code",
   "execution_count": 13,
   "id": "b27eeb1c",
   "metadata": {
    "execution": {
     "iopub.execute_input": "2022-08-18T07:21:28.080864Z",
     "iopub.status.busy": "2022-08-18T07:21:28.080401Z",
     "iopub.status.idle": "2022-08-18T07:23:05.653916Z",
     "shell.execute_reply": "2022-08-18T07:23:05.653156Z"
    },
    "papermill": {
     "duration": 97.594205,
     "end_time": "2022-08-18T07:23:05.655787",
     "exception": false,
     "start_time": "2022-08-18T07:21:28.061582",
     "status": "completed"
    },
    "tags": []
   },
   "outputs": [],
   "source": [
    "engine_trend_eq = (engine_trend.calculate_equity_curve(calculate_net=False, rebalance_freq='m')\n",
    "                   .rename('Trend-following portfolio (TREND signal)'))"
   ]
  },
  {
   "cell_type": "code",
   "execution_count": 14,
   "id": "811d18f3",
   "metadata": {
    "execution": {
     "iopub.execute_input": "2022-08-18T07:23:05.680238Z",
     "iopub.status.busy": "2022-08-18T07:23:05.679858Z",
     "iopub.status.idle": "2022-08-18T07:23:06.309525Z",
     "shell.execute_reply": "2022-08-18T07:23:06.308886Z"
    },
    "papermill": {
     "duration": 0.643829,
     "end_time": "2022-08-18T07:23:06.311351",
     "exception": false,
     "start_time": "2022-08-18T07:23:05.667522",
     "status": "completed"
    },
    "tags": []
   },
   "outputs": [
    {
     "data": {
      "image/png": "[encoded data removed]",
      "text/plain": [
       "<Figure size 576x324 with 1 Axes>"
      ]
     },
     "metadata": {
      "needs_background": "light"
     },
     "output_type": "display_data"
    }
   ],
   "source": [
    "fig, ax = plt.subplots(figsize=(8, 4.5))\n",
    "engine_trend_eq.plot(ax=ax, logy=True);\n",
    "ax.set_title('Trend-following portfolio (TREND signal)')\n",
    "ax.set_ylabel('Cumulative returns');"
   ]
  },
  {
   "cell_type": "code",
   "execution_count": 15,
   "id": "f3db6b7f",
   "metadata": {
    "execution": {
     "iopub.execute_input": "2022-08-18T07:23:06.336450Z",
     "iopub.status.busy": "2022-08-18T07:23:06.336131Z",
     "iopub.status.idle": "2022-08-18T07:23:06.421117Z",
     "shell.execute_reply": "2022-08-18T07:23:06.420438Z"
    },
    "papermill": {
     "duration": 0.099509,
     "end_time": "2022-08-18T07:23:06.422811",
     "exception": false,
     "start_time": "2022-08-18T07:23:06.323302",
     "status": "completed"
    },
    "tags": []
   },
   "outputs": [
    {
     "data": {
      "text/html": [
       "<div>\n",
       "<style scoped>\n",
       "    .dataframe tbody tr th:only-of-type {\n",
       "        vertical-align: middle;\n",
       "    }\n",
       "\n",
       "    .dataframe tbody tr th {\n",
       "        vertical-align: top;\n",
       "    }\n",
       "\n",
       "    .dataframe thead th {\n",
       "        text-align: right;\n",
       "    }\n",
       "</style>\n",
       "<table border=\"1\" class=\"dataframe\">\n",
       "  <thead>\n",
       "    <tr style=\"text-align: right;\">\n",
       "      <th></th>\n",
       "      <th>Trend-following portfolio (TREND signal)</th>\n",
       "    </tr>\n",
       "  </thead>\n",
       "  <tbody>\n",
       "    <tr>\n",
       "      <th>CAGR</th>\n",
       "      <td>0.139395</td>\n",
       "    </tr>\n",
       "    <tr>\n",
       "      <th>Annualised vol</th>\n",
       "      <td>0.107931</td>\n",
       "    </tr>\n",
       "    <tr>\n",
       "      <th>Sharpe ratio</th>\n",
       "      <td>1.291513</td>\n",
       "    </tr>\n",
       "    <tr>\n",
       "      <th>Max drawdown</th>\n",
       "      <td>0.294584</td>\n",
       "    </tr>\n",
       "    <tr>\n",
       "      <th>Calmar ratio</th>\n",
       "      <td>0.473192</td>\n",
       "    </tr>\n",
       "    <tr>\n",
       "      <th>Skewness</th>\n",
       "      <td>0.159235</td>\n",
       "    </tr>\n",
       "    <tr>\n",
       "      <th>Kurtosis</th>\n",
       "      <td>28.011930</td>\n",
       "    </tr>\n",
       "    <tr>\n",
       "      <th>Worst return</th>\n",
       "      <td>-0.121269</td>\n",
       "    </tr>\n",
       "    <tr>\n",
       "      <th>Worst 1d return</th>\n",
       "      <td>-0.121269</td>\n",
       "    </tr>\n",
       "    <tr>\n",
       "      <th>Worst 1w return</th>\n",
       "      <td>-0.110077</td>\n",
       "    </tr>\n",
       "    <tr>\n",
       "      <th>Worst 1m return</th>\n",
       "      <td>-0.171789</td>\n",
       "    </tr>\n",
       "  </tbody>\n",
       "</table>\n",
       "</div>"
      ],
      "text/plain": [
       "                 Trend-following portfolio (TREND signal)\n",
       "CAGR                                             0.139395\n",
       "Annualised vol                                   0.107931\n",
       "Sharpe ratio                                     1.291513\n",
       "Max drawdown                                     0.294584\n",
       "Calmar ratio                                     0.473192\n",
       "Skewness                                         0.159235\n",
       "Kurtosis                                        28.011930\n",
       "Worst return                                    -0.121269\n",
       "Worst 1d return                                 -0.121269\n",
       "Worst 1w return                                 -0.110077\n",
       "Worst 1m return                                 -0.171789"
      ]
     },
     "execution_count": 15,
     "metadata": {},
     "output_type": "execute_result"
    }
   ],
   "source": [
    "engine_trend_eq.pipe(Performance).summary()"
   ]
  },
  {
   "cell_type": "markdown",
   "id": "f8d9629a",
   "metadata": {
    "papermill": {
     "duration": 0.012076,
     "end_time": "2022-08-18T07:23:06.447027",
     "exception": false,
     "start_time": "2022-08-18T07:23:06.434951",
     "status": "completed"
    },
    "tags": []
   },
   "source": [
    "## Combined\n",
    "\n",
    "Finally we run a backtest by using both the Yang-Zhang volatility estimator and the TREND signal."
   ]
  },
  {
   "cell_type": "code",
   "execution_count": 16,
   "id": "34a0ca78",
   "metadata": {
    "execution": {
     "iopub.execute_input": "2022-08-18T07:23:06.474917Z",
     "iopub.status.busy": "2022-08-18T07:23:06.474588Z",
     "iopub.status.idle": "2022-08-18T07:49:52.615055Z",
     "shell.execute_reply": "2022-08-18T07:49:52.614283Z"
    },
    "papermill": {
     "duration": 1606.156486,
     "end_time": "2022-08-18T07:49:52.616999",
     "exception": false,
     "start_time": "2022-08-18T07:23:06.460513",
     "status": "completed"
    },
    "tags": []
   },
   "outputs": [],
   "source": [
    "engine_combined = BacktestEngine(\n",
    "    strategy=Strategy.DELTA_ONE.value,\n",
    "    instrument=all_futures_baltas2020.index,\n",
    "    signal=signal.ParallelSignal([\n",
    "        signal.VolatilityScale(volatility_type=RealisedVolatility.YZ.value,\n",
    "                               agg_method='rolling', window=21, min_periods=10,\n",
    "                               target_volatility=0.4, signal_cap=0.95, ann_factor=261),\n",
    "        signal.TSMOMBaltas2020()\n",
    "    ], weighting='product'),\n",
    "    weighting=Weighting.EQUAL_WEIGHT.value,\n",
    "    log_level=logging.WARN,\n",
    ")\n",
    "engine_combined.run()"
   ]
  },
  {
   "cell_type": "code",
   "execution_count": 17,
   "id": "af8de89b",
   "metadata": {
    "execution": {
     "iopub.execute_input": "2022-08-18T07:49:52.644688Z",
     "iopub.status.busy": "2022-08-18T07:49:52.644424Z",
     "iopub.status.idle": "2022-08-18T07:51:16.828404Z",
     "shell.execute_reply": "2022-08-18T07:51:16.827698Z"
    },
    "papermill": {
     "duration": 84.199092,
     "end_time": "2022-08-18T07:51:16.830267",
     "exception": false,
     "start_time": "2022-08-18T07:49:52.631175",
     "status": "completed"
    },
    "tags": []
   },
   "outputs": [],
   "source": [
    "engine_combined_eq = (engine_combined.calculate_equity_curve(calculate_net=False, rebalance_freq='m')\n",
    "                      .rename('Trend-following portfolio (YZ estimator + TREND signal)'))"
   ]
  },
  {
   "cell_type": "code",
   "execution_count": 18,
   "id": "aa351b8d",
   "metadata": {
    "execution": {
     "iopub.execute_input": "2022-08-18T07:51:16.854841Z",
     "iopub.status.busy": "2022-08-18T07:51:16.854174Z",
     "iopub.status.idle": "2022-08-18T07:51:17.418824Z",
     "shell.execute_reply": "2022-08-18T07:51:17.418122Z"
    },
    "papermill": {
     "duration": 0.578631,
     "end_time": "2022-08-18T07:51:17.420427",
     "exception": false,
     "start_time": "2022-08-18T07:51:16.841796",
     "status": "completed"
    },
    "tags": []
   },
   "outputs": [
    {
     "data": {
      "image/png": "[encoded data removed]",
      "text/plain": [
       "<Figure size 576x324 with 1 Axes>"
      ]
     },
     "metadata": {
      "needs_background": "light"
     },
     "output_type": "display_data"
    }
   ],
   "source": [
    "fig, ax = plt.subplots(figsize=(8, 4.5))\n",
    "engine_combined_eq.plot(ax=ax, logy=True)\n",
    "ax.set_title('Trend-following portfolio (YZ estimator + TREND signal)')\n",
    "ax.set_ylabel('Cumulative returns');"
   ]
  },
  {
   "cell_type": "code",
   "execution_count": 19,
   "id": "a36c0fb1",
   "metadata": {
    "execution": {
     "iopub.execute_input": "2022-08-18T07:51:17.469963Z",
     "iopub.status.busy": "2022-08-18T07:51:17.469598Z",
     "iopub.status.idle": "2022-08-18T07:51:17.550363Z",
     "shell.execute_reply": "2022-08-18T07:51:17.549691Z"
    },
    "papermill": {
     "duration": 0.119576,
     "end_time": "2022-08-18T07:51:17.551936",
     "exception": false,
     "start_time": "2022-08-18T07:51:17.432360",
     "status": "completed"
    },
    "tags": []
   },
   "outputs": [
    {
     "data": {
      "text/html": [
       "<div>\n",
       "<style scoped>\n",
       "    .dataframe tbody tr th:only-of-type {\n",
       "        vertical-align: middle;\n",
       "    }\n",
       "\n",
       "    .dataframe tbody tr th {\n",
       "        vertical-align: top;\n",
       "    }\n",
       "\n",
       "    .dataframe thead th {\n",
       "        text-align: right;\n",
       "    }\n",
       "</style>\n",
       "<table border=\"1\" class=\"dataframe\">\n",
       "  <thead>\n",
       "    <tr style=\"text-align: right;\">\n",
       "      <th></th>\n",
       "      <th>Trend-following portfolio (YZ estimator + TREND signal)</th>\n",
       "    </tr>\n",
       "  </thead>\n",
       "  <tbody>\n",
       "    <tr>\n",
       "      <th>CAGR</th>\n",
       "      <td>0.139847</td>\n",
       "    </tr>\n",
       "    <tr>\n",
       "      <th>Annualised vol</th>\n",
       "      <td>0.110666</td>\n",
       "    </tr>\n",
       "    <tr>\n",
       "      <th>Sharpe ratio</th>\n",
       "      <td>1.263688</td>\n",
       "    </tr>\n",
       "    <tr>\n",
       "      <th>Max drawdown</th>\n",
       "      <td>0.313945</td>\n",
       "    </tr>\n",
       "    <tr>\n",
       "      <th>Calmar ratio</th>\n",
       "      <td>0.445451</td>\n",
       "    </tr>\n",
       "    <tr>\n",
       "      <th>Skewness</th>\n",
       "      <td>0.292752</td>\n",
       "    </tr>\n",
       "    <tr>\n",
       "      <th>Kurtosis</th>\n",
       "      <td>32.534016</td>\n",
       "    </tr>\n",
       "    <tr>\n",
       "      <th>Worst return</th>\n",
       "      <td>-0.130152</td>\n",
       "    </tr>\n",
       "    <tr>\n",
       "      <th>Worst 1d return</th>\n",
       "      <td>-0.130152</td>\n",
       "    </tr>\n",
       "    <tr>\n",
       "      <th>Worst 1w return</th>\n",
       "      <td>-0.112097</td>\n",
       "    </tr>\n",
       "    <tr>\n",
       "      <th>Worst 1m return</th>\n",
       "      <td>-0.186272</td>\n",
       "    </tr>\n",
       "  </tbody>\n",
       "</table>\n",
       "</div>"
      ],
      "text/plain": [
       "                 Trend-following portfolio (YZ estimator + TREND signal)\n",
       "CAGR                                                      0.139847      \n",
       "Annualised vol                                            0.110666      \n",
       "Sharpe ratio                                              1.263688      \n",
       "Max drawdown                                              0.313945      \n",
       "Calmar ratio                                              0.445451      \n",
       "Skewness                                                  0.292752      \n",
       "Kurtosis                                                 32.534016      \n",
       "Worst return                                             -0.130152      \n",
       "Worst 1d return                                          -0.130152      \n",
       "Worst 1w return                                          -0.112097      \n",
       "Worst 1m return                                          -0.186272      "
      ]
     },
     "execution_count": 19,
     "metadata": {},
     "output_type": "execute_result"
    }
   ],
   "source": [
    "engine_combined_eq.pipe(Performance).summary()"
   ]
  },
  {
   "cell_type": "markdown",
   "id": "47fb5457",
   "metadata": {
    "papermill": {
     "duration": 0.012072,
     "end_time": "2022-08-18T07:51:17.577291",
     "exception": false,
     "start_time": "2022-08-18T07:51:17.565219",
     "status": "completed"
    },
    "tags": []
   },
   "source": [
    "# Comparison\n",
    "\n",
    "In this section we compare the above 4 backtests."
   ]
  },
  {
   "cell_type": "markdown",
   "id": "8baf631c",
   "metadata": {
    "papermill": {
     "duration": 0.013329,
     "end_time": "2022-08-18T07:51:17.603365",
     "exception": false,
     "start_time": "2022-08-18T07:51:17.590036",
     "status": "completed"
    },
    "tags": []
   },
   "source": [
    "## Performance\n",
    "\n",
    "As reported in BK2020, using the YZ estimator and TREND signal does not alter the performance characteristics. Rather, the TREND signal somewhat improves the Sharpe ratio. Also the TREND signal lowers the annualised volatility from 12.5% to 10.8% with the close-to-close realised volatility."
   ]
  },
  {
   "cell_type": "code",
   "execution_count": 20,
   "id": "eb88bd9c",
   "metadata": {
    "execution": {
     "iopub.execute_input": "2022-08-18T07:51:17.628735Z",
     "iopub.status.busy": "2022-08-18T07:51:17.628473Z",
     "iopub.status.idle": "2022-08-18T07:51:17.641222Z",
     "shell.execute_reply": "2022-08-18T07:51:17.640517Z"
    },
    "papermill": {
     "duration": 0.027716,
     "end_time": "2022-08-18T07:51:17.643050",
     "exception": false,
     "start_time": "2022-08-18T07:51:17.615334",
     "status": "completed"
    },
    "tags": []
   },
   "outputs": [],
   "source": [
    "performance_comp = pd.concat((engine_original_eq, engine_vol_eq, \n",
    "                              engine_trend_eq, engine_combined_eq), axis=1)"
   ]
  },
  {
   "cell_type": "code",
   "execution_count": 21,
   "id": "888458c9",
   "metadata": {
    "execution": {
     "iopub.execute_input": "2022-08-18T07:51:17.668223Z",
     "iopub.status.busy": "2022-08-18T07:51:17.667938Z",
     "iopub.status.idle": "2022-08-18T07:51:18.459758Z",
     "shell.execute_reply": "2022-08-18T07:51:18.459052Z"
    },
    "papermill": {
     "duration": 0.806471,
     "end_time": "2022-08-18T07:51:18.461470",
     "exception": false,
     "start_time": "2022-08-18T07:51:17.654999",
     "status": "completed"
    },
    "tags": []
   },
   "outputs": [
    {
     "data": {
      "image/png": "[encoded data removed]",
      "text/plain": [
       "<Figure size 576x324 with 1 Axes>"
      ]
     },
     "metadata": {
      "needs_background": "light"
     },
     "output_type": "display_data"
    }
   ],
   "source": [
    "fig, ax = plt.subplots(figsize=(8, 4.5))\n",
    "performance_comp.plot(ax=ax, logy=True);\n",
    "ax.set_title('Trend-following portfolio')\n",
    "ax.set_ylabel('Cumulative returns');"
   ]
  },
  {
   "cell_type": "code",
   "execution_count": 22,
   "id": "40e34ee9",
   "metadata": {
    "execution": {
     "iopub.execute_input": "2022-08-18T07:51:18.488004Z",
     "iopub.status.busy": "2022-08-18T07:51:18.487729Z",
     "iopub.status.idle": "2022-08-18T07:51:18.593839Z",
     "shell.execute_reply": "2022-08-18T07:51:18.593148Z"
    },
    "papermill": {
     "duration": 0.121347,
     "end_time": "2022-08-18T07:51:18.595664",
     "exception": false,
     "start_time": "2022-08-18T07:51:18.474317",
     "status": "completed"
    },
    "tags": []
   },
   "outputs": [
    {
     "data": {
      "text/html": [
       "<div>\n",
       "<style scoped>\n",
       "    .dataframe tbody tr th:only-of-type {\n",
       "        vertical-align: middle;\n",
       "    }\n",
       "\n",
       "    .dataframe tbody tr th {\n",
       "        vertical-align: top;\n",
       "    }\n",
       "\n",
       "    .dataframe thead th {\n",
       "        text-align: right;\n",
       "    }\n",
       "</style>\n",
       "<table border=\"1\" class=\"dataframe\">\n",
       "  <thead>\n",
       "    <tr style=\"text-align: right;\">\n",
       "      <th></th>\n",
       "      <th>Trend-following portfolio (Moskowitz 2012)</th>\n",
       "      <th>Trend-following portfolio (YZ estimator)</th>\n",
       "      <th>Trend-following portfolio (TREND signal)</th>\n",
       "      <th>Trend-following portfolio (YZ estimator + TREND signal)</th>\n",
       "    </tr>\n",
       "  </thead>\n",
       "  <tbody>\n",
       "    <tr>\n",
       "      <th>CAGR</th>\n",
       "      <td>0.147279</td>\n",
       "      <td>0.148570</td>\n",
       "      <td>0.139395</td>\n",
       "      <td>0.139503</td>\n",
       "    </tr>\n",
       "    <tr>\n",
       "      <th>Annualised vol</th>\n",
       "      <td>0.124966</td>\n",
       "      <td>0.127099</td>\n",
       "      <td>0.107931</td>\n",
       "      <td>0.110531</td>\n",
       "    </tr>\n",
       "    <tr>\n",
       "      <th>Sharpe ratio</th>\n",
       "      <td>1.178552</td>\n",
       "      <td>1.168929</td>\n",
       "      <td>1.291513</td>\n",
       "      <td>1.262123</td>\n",
       "    </tr>\n",
       "    <tr>\n",
       "      <th>Max drawdown</th>\n",
       "      <td>0.259239</td>\n",
       "      <td>0.305877</td>\n",
       "      <td>0.294584</td>\n",
       "      <td>0.313945</td>\n",
       "    </tr>\n",
       "    <tr>\n",
       "      <th>Calmar ratio</th>\n",
       "      <td>0.568122</td>\n",
       "      <td>0.485719</td>\n",
       "      <td>0.473192</td>\n",
       "      <td>0.444356</td>\n",
       "    </tr>\n",
       "    <tr>\n",
       "      <th>Skewness</th>\n",
       "      <td>0.073299</td>\n",
       "      <td>0.281411</td>\n",
       "      <td>0.159235</td>\n",
       "      <td>0.293717</td>\n",
       "    </tr>\n",
       "    <tr>\n",
       "      <th>Kurtosis</th>\n",
       "      <td>19.348627</td>\n",
       "      <td>22.193359</td>\n",
       "      <td>28.011930</td>\n",
       "      <td>32.620557</td>\n",
       "    </tr>\n",
       "    <tr>\n",
       "      <th>Worst return</th>\n",
       "      <td>-0.126276</td>\n",
       "      <td>-0.137043</td>\n",
       "      <td>-0.121269</td>\n",
       "      <td>-0.130152</td>\n",
       "    </tr>\n",
       "    <tr>\n",
       "      <th>Worst 1d return</th>\n",
       "      <td>-0.126276</td>\n",
       "      <td>-0.137043</td>\n",
       "      <td>-0.121269</td>\n",
       "      <td>-0.130152</td>\n",
       "    </tr>\n",
       "    <tr>\n",
       "      <th>Worst 1w return</th>\n",
       "      <td>-0.107725</td>\n",
       "      <td>-0.098542</td>\n",
       "      <td>-0.110077</td>\n",
       "      <td>-0.112097</td>\n",
       "    </tr>\n",
       "    <tr>\n",
       "      <th>Worst 1m return</th>\n",
       "      <td>-0.152667</td>\n",
       "      <td>-0.169177</td>\n",
       "      <td>-0.171789</td>\n",
       "      <td>-0.186272</td>\n",
       "    </tr>\n",
       "  </tbody>\n",
       "</table>\n",
       "</div>"
      ],
      "text/plain": [
       "                 Trend-following portfolio (Moskowitz 2012)  \\\n",
       "CAGR                                               0.147279   \n",
       "Annualised vol                                     0.124966   \n",
       "Sharpe ratio                                       1.178552   \n",
       "Max drawdown                                       0.259239   \n",
       "Calmar ratio                                       0.568122   \n",
       "Skewness                                           0.073299   \n",
       "Kurtosis                                          19.348627   \n",
       "Worst return                                      -0.126276   \n",
       "Worst 1d return                                   -0.126276   \n",
       "Worst 1w return                                   -0.107725   \n",
       "Worst 1m return                                   -0.152667   \n",
       "\n",
       "                 Trend-following portfolio (YZ estimator)  \\\n",
       "CAGR                                             0.148570   \n",
       "Annualised vol                                   0.127099   \n",
       "Sharpe ratio                                     1.168929   \n",
       "Max drawdown                                     0.305877   \n",
       "Calmar ratio                                     0.485719   \n",
       "Skewness                                         0.281411   \n",
       "Kurtosis                                        22.193359   \n",
       "Worst return                                    -0.137043   \n",
       "Worst 1d return                                 -0.137043   \n",
       "Worst 1w return                                 -0.098542   \n",
       "Worst 1m return                                 -0.169177   \n",
       "\n",
       "                 Trend-following portfolio (TREND signal)  \\\n",
       "CAGR                                             0.139395   \n",
       "Annualised vol                                   0.107931   \n",
       "Sharpe ratio                                     1.291513   \n",
       "Max drawdown                                     0.294584   \n",
       "Calmar ratio                                     0.473192   \n",
       "Skewness                                         0.159235   \n",
       "Kurtosis                                        28.011930   \n",
       "Worst return                                    -0.121269   \n",
       "Worst 1d return                                 -0.121269   \n",
       "Worst 1w return                                 -0.110077   \n",
       "Worst 1m return                                 -0.171789   \n",
       "\n",
       "                 Trend-following portfolio (YZ estimator + TREND signal)  \n",
       "CAGR                                                      0.139503        \n",
       "Annualised vol                                            0.110531        \n",
       "Sharpe ratio                                              1.262123        \n",
       "Max drawdown                                              0.313945        \n",
       "Calmar ratio                                              0.444356        \n",
       "Skewness                                                  0.293717        \n",
       "Kurtosis                                                 32.620557        \n",
       "Worst return                                             -0.130152        \n",
       "Worst 1d return                                          -0.130152        \n",
       "Worst 1w return                                          -0.112097        \n",
       "Worst 1m return                                          -0.186272        "
      ]
     },
     "execution_count": 22,
     "metadata": {},
     "output_type": "execute_result"
    }
   ],
   "source": [
    "performance_comp.pipe(Performance).summary()"
   ]
  },
  {
   "cell_type": "markdown",
   "id": "22358a85",
   "metadata": {
    "papermill": {
     "duration": 0.013774,
     "end_time": "2022-08-18T07:51:18.623348",
     "exception": false,
     "start_time": "2022-08-18T07:51:18.609574",
     "status": "completed"
    },
    "tags": []
   },
   "source": [
    "## Turnover reduction\n",
    "\n",
    "Again, as reported in BK2020, both enhancements reduce the turnover significantly while not affecting the performance. The chart below shows the reduction in turnover for each futures contract. By utilising the YZ realised volatility and the TREND signal, overall the turnover is reduced by more than 30%."
   ]
  },
  {
   "cell_type": "code",
   "execution_count": 23,
   "id": "feba4bfd",
   "metadata": {
    "execution": {
     "iopub.execute_input": "2022-08-18T07:51:18.652217Z",
     "iopub.status.busy": "2022-08-18T07:51:18.651930Z",
     "iopub.status.idle": "2022-08-18T07:56:26.487533Z",
     "shell.execute_reply": "2022-08-18T07:56:26.486797Z"
    },
    "papermill": {
     "duration": 307.852058,
     "end_time": "2022-08-18T07:56:26.489333",
     "exception": false,
     "start_time": "2022-08-18T07:51:18.637275",
     "status": "completed"
    },
    "tags": []
   },
   "outputs": [],
   "source": [
    "engine_original_pos = engine_original.get_position_by_instrument()\n",
    "engine_vol_pos = engine_vol.get_position_by_instrument()\n",
    "engine_trend_pos = engine_trend.get_position_by_instrument()\n",
    "engine_combined_pos = engine_combined.get_position_by_instrument()"
   ]
  },
  {
   "cell_type": "code",
   "execution_count": 24,
   "id": "c9c52357",
   "metadata": {
    "execution": {
     "iopub.execute_input": "2022-08-18T07:56:26.515804Z",
     "iopub.status.busy": "2022-08-18T07:56:26.515549Z",
     "iopub.status.idle": "2022-08-18T07:56:26.546216Z",
     "shell.execute_reply": "2022-08-18T07:56:26.545465Z"
    },
    "papermill": {
     "duration": 0.045901,
     "end_time": "2022-08-18T07:56:26.547996",
     "exception": false,
     "start_time": "2022-08-18T07:56:26.502095",
     "status": "completed"
    },
    "tags": []
   },
   "outputs": [],
   "source": [
    "engine_original_turnover = (engine_original_pos.diff().abs().mean().mul(261)\n",
    "                            .rename('Trend-following portfolio (Moskowitz 2012)'))\n",
    "engine_vol_turnover = (engine_vol_pos.diff().abs().mean().mul(261)\n",
    "                       .rename('Trend-following portfolio (YZ estimator)'))\n",
    "engine_trend_turnover = (engine_trend_pos.diff().abs().mean().mul(261)\n",
    "                         .rename('Trend-following portfolio (TREND signal)'))\n",
    "engine_combined_turnover = (engine_combined_pos.diff().abs().mean().mul(261)\n",
    "                            .rename('Trend-following portfolio (YZ estimator + TREND signal)'))"
   ]
  },
  {
   "cell_type": "code",
   "execution_count": 25,
   "id": "22909134",
   "metadata": {
    "execution": {
     "iopub.execute_input": "2022-08-18T07:56:26.574824Z",
     "iopub.status.busy": "2022-08-18T07:56:26.574574Z",
     "iopub.status.idle": "2022-08-18T07:56:26.581426Z",
     "shell.execute_reply": "2022-08-18T07:56:26.580827Z"
    },
    "papermill": {
     "duration": 0.021896,
     "end_time": "2022-08-18T07:56:26.583095",
     "exception": false,
     "start_time": "2022-08-18T07:56:26.561199",
     "status": "completed"
    },
    "tags": []
   },
   "outputs": [],
   "source": [
    "turnover_reduction = (\n",
    "    pd.concat((engine_vol_turnover, engine_trend_turnover, engine_combined_turnover), axis=1)\n",
    "    .div(engine_original_turnover, axis=0)\n",
    "    .sub(1)\n",
    "    .reindex(index=all_futures_baltas2020.index)\n",
    "    .rename(index=all_futures_baltas2020['name'])\n",
    ")"
   ]
  },
  {
   "cell_type": "code",
   "execution_count": 26,
   "id": "3de7a402",
   "metadata": {
    "execution": {
     "iopub.execute_input": "2022-08-18T07:56:26.614817Z",
     "iopub.status.busy": "2022-08-18T07:56:26.614535Z",
     "iopub.status.idle": "2022-08-18T07:56:26.620879Z",
     "shell.execute_reply": "2022-08-18T07:56:26.620208Z"
    },
    "papermill": {
     "duration": 0.025213,
     "end_time": "2022-08-18T07:56:26.622573",
     "exception": false,
     "start_time": "2022-08-18T07:56:26.597360",
     "status": "completed"
    },
    "tags": []
   },
   "outputs": [
    {
     "data": {
      "text/plain": [
       "Trend-following portfolio (YZ estimator)                  -0.181292\n",
       "Trend-following portfolio (TREND signal)                  -0.207293\n",
       "Trend-following portfolio (YZ estimator + TREND signal)   -0.330772\n",
       "dtype: float64"
      ]
     },
     "execution_count": 26,
     "metadata": {},
     "output_type": "execute_result"
    }
   ],
   "source": [
    "turnover_reduction.mean()"
   ]
  },
  {
   "cell_type": "code",
   "execution_count": 27,
   "id": "a1dc03f4",
   "metadata": {
    "execution": {
     "iopub.execute_input": "2022-08-18T07:56:26.649599Z",
     "iopub.status.busy": "2022-08-18T07:56:26.649326Z",
     "iopub.status.idle": "2022-08-18T07:56:28.258198Z",
     "shell.execute_reply": "2022-08-18T07:56:28.257477Z"
    },
    "papermill": {
     "duration": 1.624268,
     "end_time": "2022-08-18T07:56:28.259914",
     "exception": false,
     "start_time": "2022-08-18T07:56:26.635646",
     "status": "completed"
    },
    "tags": []
   },
   "outputs": [
    {
     "data": {
      "image/png": "[encoded data removed]",
      "text/plain": [
       "<Figure size 1008x288 with 1 Axes>"
      ]
     },
     "metadata": {
      "needs_background": "light"
     },
     "output_type": "display_data"
    }
   ],
   "source": [
    "ax = turnover_reduction.plot(kind='bar', figsize=(14, 4))\n",
    "ax.yaxis.set_major_formatter(mticker.PercentFormatter(1))\n",
    "ax.axhline(0, color='black', lw=1)\n",
    "ax.axvline(24.5, color='black', lw=1)\n",
    "ax.axvline(30.5, color='black', lw=1)\n",
    "ax.axvline(42.5, color='black', lw=1)\n",
    "ax.set_xlabel('Contract')\n",
    "ax.set_ylabel('Turnover reduction');"
   ]
  },
  {
   "cell_type": "markdown",
   "id": "da18f48d",
   "metadata": {
    "papermill": {
     "duration": 0.013727,
     "end_time": "2022-08-18T07:56:28.287498",
     "exception": false,
     "start_time": "2022-08-18T07:56:28.273771",
     "status": "completed"
    },
    "tags": []
   },
   "source": [
    "# Recent performance"
   ]
  },
  {
   "cell_type": "code",
   "execution_count": 28,
   "id": "53ce859f",
   "metadata": {
    "execution": {
     "iopub.execute_input": "2022-08-18T07:56:28.316635Z",
     "iopub.status.busy": "2022-08-18T07:56:28.316359Z",
     "iopub.status.idle": "2022-08-18T07:56:28.775627Z",
     "shell.execute_reply": "2022-08-18T07:56:28.774940Z"
    },
    "papermill": {
     "duration": 0.475824,
     "end_time": "2022-08-18T07:56:28.777320",
     "exception": false,
     "start_time": "2022-08-18T07:56:28.301496",
     "status": "completed"
    },
    "tags": []
   },
   "outputs": [
    {
     "data": {
      "image/png": "[encoded data removed]",
      "text/plain": [
       "<Figure size 576x324 with 1 Axes>"
      ]
     },
     "metadata": {
      "needs_background": "light"
     },
     "output_type": "display_data"
    }
   ],
   "source": [
    "fig, ax = plt.subplots(figsize=(8, 4.5))\n",
    "performance_comp.tail(252 * 2).pct_change().fillna(0).add(1).cumprod().plot(ax=ax, logy=True);\n",
    "ax.set_title('Trend-following portfolio')\n",
    "ax.set_ylabel('Cumulative returns');"
   ]
  },
  {
   "cell_type": "markdown",
   "id": "821b56c3",
   "metadata": {
    "papermill": {
     "duration": 0.014184,
     "end_time": "2022-08-18T07:56:28.806042",
     "exception": false,
     "start_time": "2022-08-18T07:56:28.791858",
     "status": "completed"
    },
    "tags": []
   },
   "source": [
    "# Reference\n",
    "\n",
    "- Baltas, N. and Kosowski, R., 2020. Demystifying time-series momentum strategies: Volatility estimators, trading rules and pairwise correlations. Market Momentum: Theory and Practice\", Wiley.\n",
    "- Moskowitz, T.J., Ooi, Y.H. and Pedersen, L.H., 2012. Time series momentum. Journal of financial economics, 104(2), pp.228-250."
   ]
  },
  {
   "cell_type": "code",
   "execution_count": 29,
   "id": "ad59e605",
   "metadata": {
    "ExecuteTime": {
     "end_time": "2020-08-30T21:20:32.431574Z",
     "start_time": "2020-08-30T21:20:32.429370Z"
    },
    "execution": {
     "iopub.execute_input": "2022-08-18T07:56:28.835956Z",
     "iopub.status.busy": "2022-08-18T07:56:28.835674Z",
     "iopub.status.idle": "2022-08-18T07:56:28.839662Z",
     "shell.execute_reply": "2022-08-18T07:56:28.839014Z"
    },
    "papermill": {
     "duration": 0.02105,
     "end_time": "2022-08-18T07:56:28.841346",
     "exception": false,
     "start_time": "2022-08-18T07:56:28.820296",
     "status": "completed"
    },
    "tags": []
   },
   "outputs": [
    {
     "name": "stdout",
     "output_type": "stream",
     "text": [
      "Updated: 18-Aug-2022 07:56\n"
     ]
    }
   ],
   "source": [
    "print(f'Updated: {datetime.utcnow():%d-%b-%Y %H:%M}')"
   ]
  }
 ],
 "metadata": {
  "hide_input": false,
  "kernelspec": {
   "display_name": "Python 3",
   "language": "python",
   "name": "python3"
  },
  "language_info": {
   "codemirror_mode": {
    "name": "ipython",
    "version": 3
   },
   "file_extension": ".py",
   "mimetype": "text/x-python",
   "name": "python",
   "nbconvert_exporter": "python",
   "pygments_lexer": "ipython3",
   "version": "3.9.6"
  },
  "nav_menu": {},
  "papermill": {
   "duration": 5395.427935,
   "end_time": "2022-08-18T07:56:31.886681",
   "environment_variables": {},
   "exception": null,
   "input_path": "notebooks/papermill/trend_following_baltas2020.ipynb",
   "output_path": "notebooks/trend_following_baltas2020.ipynb",
   "parameters": {},
   "start_time": "2022-08-18T06:26:36.458746",
   "version": "2.1.3"
  },
  "toc": {
   "base_numbering": 1,
   "nav_menu": {},
   "number_sections": true,
   "sideBar": true,
   "skip_h1_title": false,
   "title_cell": "Table of Contents",
   "title_sidebar": "Contents",
   "toc_cell": true,
   "toc_position": {
    "height": "calc(100% - 180px)",
    "left": "10px",
    "top": "150px",
    "width": "165px"
   },
   "toc_section_display": "block",
   "toc_window_display": true
  }
 },
 "nbformat": 4,
 "nbformat_minor": 5
}