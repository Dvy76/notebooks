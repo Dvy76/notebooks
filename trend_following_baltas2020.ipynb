{
 "cells": [
  {
   "cell_type": "markdown",
   "id": "6973e508",
   "metadata": {
    "papermill": {
     "duration": 0.011305,
     "end_time": "2022-08-07T06:27:40.883569",
     "exception": false,
     "start_time": "2022-08-07T06:27:40.872264",
     "status": "completed"
    },
    "tags": []
   },
   "source": [
    "# Trend-following\n",
    "\n",
    "This notebook implements a few improvements that Baltas and Kosowski (2020) (BK2020, hereafter) propose to the time-series momentum strategy which originally appeared in Moskowitz et al (2012).\n",
    "\n",
    "Note that like other notebooks, all backtests are performed by using a private library called `vivace`."
   ]
  },
  {
   "cell_type": "code",
   "execution_count": 1,
   "id": "11e1aa7c",
   "metadata": {
    "ExecuteTime": {
     "end_time": "2020-08-30T21:08:49.524262Z",
     "start_time": "2020-08-30T21:08:48.720115Z"
    },
    "execution": {
     "iopub.execute_input": "2022-08-07T06:27:40.907371Z",
     "iopub.status.busy": "2022-08-07T06:27:40.906732Z",
     "iopub.status.idle": "2022-08-07T06:27:45.293512Z",
     "shell.execute_reply": "2022-08-07T06:27:45.292626Z"
    },
    "papermill": {
     "duration": 4.401393,
     "end_time": "2022-08-07T06:27:45.295692",
     "exception": false,
     "start_time": "2022-08-07T06:27:40.894299",
     "status": "completed"
    },
    "tags": []
   },
   "outputs": [],
   "source": [
    "%matplotlib inline\n",
    "from datetime import datetime\n",
    "import logging\n",
    "import warnings\n",
    "warnings.simplefilter(action='ignore', category=FutureWarning)\n",
    "\n",
    "import pandas as pd\n",
    "import matplotlib.pyplot as plt\n",
    "import matplotlib.ticker as mticker\n",
    "plt.style.use('bmh')\n",
    "\n",
    "from vivace.backtest import signal\n",
    "from vivace.backtest import processing\n",
    "from vivace.backtest.contract import all_futures_baltas2020\n",
    "from vivace.backtest.engine import BacktestEngine\n",
    "from vivace.backtest.enums import Strategy, Weighting, RealisedVolatility\n",
    "from vivace.backtest.stats import Performance"
   ]
  },
  {
   "cell_type": "markdown",
   "id": "d89a6322",
   "metadata": {
    "papermill": {
     "duration": 0.012001,
     "end_time": "2022-08-07T06:27:45.317542",
     "exception": false,
     "start_time": "2022-08-07T06:27:45.305541",
     "status": "completed"
    },
    "tags": []
   },
   "source": [
    "# Data"
   ]
  },
  {
   "cell_type": "code",
   "execution_count": 2,
   "id": "b38941d7",
   "metadata": {
    "ExecuteTime": {
     "end_time": "2020-08-30T21:08:49.529214Z",
     "start_time": "2020-08-30T21:08:49.525465Z"
    },
    "execution": {
     "iopub.execute_input": "2022-08-07T06:27:45.338642Z",
     "iopub.status.busy": "2022-08-07T06:27:45.338242Z",
     "iopub.status.idle": "2022-08-07T06:27:45.346601Z",
     "shell.execute_reply": "2022-08-07T06:27:45.345865Z"
    },
    "papermill": {
     "duration": 0.021563,
     "end_time": "2022-08-07T06:27:45.348920",
     "exception": false,
     "start_time": "2022-08-07T06:27:45.327357",
     "status": "completed"
    },
    "tags": []
   },
   "outputs": [
    {
     "data": {
      "text/plain": [
       "array(['WTI Crude Oil', 'Brent Crude Oil', 'Heating Oil', 'Natural Gas',\n",
       "       'Gasoline', 'Copper', 'Gold', 'Palladium', 'Platinum', 'Silver',\n",
       "       'Feeder Cattle', 'Live Cattle', 'Lean Hog', 'Corn', 'Oats',\n",
       "       'Soybean Oil', 'Soybean Meal', 'Soybean', 'Wheat', 'Cocoa',\n",
       "       'Coffee', 'Cotton', 'Lumber', 'Orange Juice', 'Sugar',\n",
       "       'Australian Dollar', 'Canadian Dollar', 'Swiss Franc', 'Euro',\n",
       "       'British Pound', 'Japanese Yen', 'E-Mini Nasdaq 100',\n",
       "       'E-mini S&P 500', 'E-mini Russell 2000', 'FTSE 100', 'DAX',\n",
       "       'CAC 40', 'IBEX 35', 'AEX', 'Swiss Market Index', 'SPI 200',\n",
       "       'Topix', 'Hang Seng', 'US 2-year Treasury', 'US 5-year Treasury',\n",
       "       'US 10-year Treasury', 'US treasury Bond', 'Germany Schatz',\n",
       "       'Germany Bobl', 'Germany Bund', 'Germany Buxl', 'Gilt',\n",
       "       'Canada 10-year Treasury', 'JGB'], dtype=object)"
      ]
     },
     "execution_count": 2,
     "metadata": {},
     "output_type": "execute_result"
    }
   ],
   "source": [
    "all_futures_baltas2020['name'].values"
   ]
  },
  {
   "cell_type": "code",
   "execution_count": 3,
   "id": "f6cda4c6",
   "metadata": {
    "ExecuteTime": {
     "end_time": "2020-08-30T21:08:49.542477Z",
     "start_time": "2020-08-30T21:08:49.530487Z"
    },
    "execution": {
     "iopub.execute_input": "2022-08-07T06:27:45.404059Z",
     "iopub.status.busy": "2022-08-07T06:27:45.403692Z",
     "iopub.status.idle": "2022-08-07T06:27:45.408475Z",
     "shell.execute_reply": "2022-08-07T06:27:45.407615Z"
    },
    "papermill": {
     "duration": 0.050756,
     "end_time": "2022-08-07T06:27:45.411100",
     "exception": false,
     "start_time": "2022-08-07T06:27:45.360344",
     "status": "completed"
    },
    "tags": []
   },
   "outputs": [
    {
     "name": "stdout",
     "output_type": "stream",
     "text": [
      "54\n"
     ]
    }
   ],
   "source": [
    "print(len(all_futures_baltas2020))"
   ]
  },
  {
   "cell_type": "markdown",
   "id": "45cee3f3",
   "metadata": {
    "papermill": {
     "duration": 0.010249,
     "end_time": "2022-08-07T06:27:45.433652",
     "exception": false,
     "start_time": "2022-08-07T06:27:45.423403",
     "status": "completed"
    },
    "tags": []
   },
   "source": [
    "We try to use the same contract as the original paper where possible, resulting 54 futures contracts to analyse. The trading universe covers a wide range of asset classes and regions, and is made up of following instruments:\n",
    "- Equity index futures\n",
    "- Government bond futures\n",
    "- FX futures\n",
    "- Commodity futures\n",
    "\n",
    "where the same trend detection method is applied."
   ]
  },
  {
   "cell_type": "markdown",
   "id": "2a92795a",
   "metadata": {
    "papermill": {
     "duration": 0.010952,
     "end_time": "2022-08-07T06:27:45.455116",
     "exception": false,
     "start_time": "2022-08-07T06:27:45.444164",
     "status": "completed"
    },
    "tags": []
   },
   "source": [
    "# Performance\n"
   ]
  },
  {
   "cell_type": "markdown",
   "id": "9517ff98",
   "metadata": {
    "papermill": {
     "duration": 0.010142,
     "end_time": "2022-08-07T06:27:45.476794",
     "exception": false,
     "start_time": "2022-08-07T06:27:45.466652",
     "status": "completed"
    },
    "tags": []
   },
   "source": [
    "## Moskowitz et al\n",
    "\n",
    "First we calculate the original trend-following portfolio with a more traditional close-to-close realised volatility estimator. Although Moskowitz et al uses the exponentially weighted standard deviation, BK2020 appears to compare against the rolling standard deviation."
   ]
  },
  {
   "cell_type": "code",
   "execution_count": 4,
   "id": "50fadf5f",
   "metadata": {
    "execution": {
     "iopub.execute_input": "2022-08-07T06:27:45.498322Z",
     "iopub.status.busy": "2022-08-07T06:27:45.498028Z",
     "iopub.status.idle": "2022-08-07T06:39:58.552669Z",
     "shell.execute_reply": "2022-08-07T06:39:58.551761Z"
    },
    "papermill": {
     "duration": 733.067682,
     "end_time": "2022-08-07T06:39:58.554581",
     "exception": false,
     "start_time": "2022-08-07T06:27:45.486899",
     "status": "completed"
    },
    "tags": []
   },
   "outputs": [],
   "source": [
    "engine_original = BacktestEngine(\n",
    "    strategy=Strategy.DELTA_ONE.value,\n",
    "    instrument=all_futures_baltas2020.index,\n",
    "    signal=signal.ParallelSignal([\n",
    "        signal.VolatilityScale(agg_method='rolling', window=21, ann_factor=261, \n",
    "                               target_volatility=0.4, signal_cap=0.95),\n",
    "        signal.TSMOMMoskowitz2012(post_process=processing.AsFreq(freq='m', method='pad'))\n",
    "    ], weighting='product'),\n",
    "    weighting=Weighting.EQUAL_WEIGHT.value,\n",
    "    log_level=logging.WARN,\n",
    ")\n",
    "engine_original.run()"
   ]
  },
  {
   "cell_type": "code",
   "execution_count": 5,
   "id": "f4625bda",
   "metadata": {
    "execution": {
     "iopub.execute_input": "2022-08-07T06:39:58.579794Z",
     "iopub.status.busy": "2022-08-07T06:39:58.579485Z",
     "iopub.status.idle": "2022-08-07T06:41:42.673797Z",
     "shell.execute_reply": "2022-08-07T06:41:42.672982Z"
    },
    "papermill": {
     "duration": 104.110406,
     "end_time": "2022-08-07T06:41:42.676401",
     "exception": false,
     "start_time": "2022-08-07T06:39:58.565995",
     "status": "completed"
    },
    "tags": []
   },
   "outputs": [],
   "source": [
    "engine_original_eq = (engine_original.calculate_equity_curve(calculate_net=False, rebalance_freq='m')\n",
    "                      .rename('Trend-following portfolio (Moskowitz 2012)'))"
   ]
  },
  {
   "cell_type": "code",
   "execution_count": 6,
   "id": "0bd17717",
   "metadata": {
    "execution": {
     "iopub.execute_input": "2022-08-07T06:41:42.708922Z",
     "iopub.status.busy": "2022-08-07T06:41:42.708480Z",
     "iopub.status.idle": "2022-08-07T06:41:43.657444Z",
     "shell.execute_reply": "2022-08-07T06:41:43.656582Z"
    },
    "papermill": {
     "duration": 0.968092,
     "end_time": "2022-08-07T06:41:43.660212",
     "exception": false,
     "start_time": "2022-08-07T06:41:42.692120",
     "status": "completed"
    },
    "tags": []
   },
   "outputs": [
    {
     "data": {
      "image/png": "[encoded data removed]",
      "text/plain": [
       "<Figure size 576x324 with 1 Axes>"
      ]
     },
     "metadata": {
      "needs_background": "light"
     },
     "output_type": "display_data"
    }
   ],
   "source": [
    "fig, ax = plt.subplots(figsize=(8, 4.5))\n",
    "engine_original_eq.plot(ax=ax, logy=True)\n",
    "ax.set_title('Trend-following portfolio (Moskowitz 2012)')\n",
    "ax.set_ylabel('Cumulative returns');"
   ]
  },
  {
   "cell_type": "code",
   "execution_count": 7,
   "id": "115626e0",
   "metadata": {
    "execution": {
     "iopub.execute_input": "2022-08-07T06:41:43.689682Z",
     "iopub.status.busy": "2022-08-07T06:41:43.689338Z",
     "iopub.status.idle": "2022-08-07T06:41:43.805308Z",
     "shell.execute_reply": "2022-08-07T06:41:43.803402Z"
    },
    "papermill": {
     "duration": 0.13118,
     "end_time": "2022-08-07T06:41:43.807662",
     "exception": false,
     "start_time": "2022-08-07T06:41:43.676482",
     "status": "completed"
    },
    "tags": []
   },
   "outputs": [
    {
     "data": {
      "text/html": [
       "<div>\n",
       "<style scoped>\n",
       "    .dataframe tbody tr th:only-of-type {\n",
       "        vertical-align: middle;\n",
       "    }\n",
       "\n",
       "    .dataframe tbody tr th {\n",
       "        vertical-align: top;\n",
       "    }\n",
       "\n",
       "    .dataframe thead th {\n",
       "        text-align: right;\n",
       "    }\n",
       "</style>\n",
       "<table border=\"1\" class=\"dataframe\">\n",
       "  <thead>\n",
       "    <tr style=\"text-align: right;\">\n",
       "      <th></th>\n",
       "      <th>Trend-following portfolio (Moskowitz 2012)</th>\n",
       "    </tr>\n",
       "  </thead>\n",
       "  <tbody>\n",
       "    <tr>\n",
       "      <th>CAGR</th>\n",
       "      <td>0.147204</td>\n",
       "    </tr>\n",
       "    <tr>\n",
       "      <th>Annualised vol</th>\n",
       "      <td>0.124973</td>\n",
       "    </tr>\n",
       "    <tr>\n",
       "      <th>Sharpe ratio</th>\n",
       "      <td>1.177886</td>\n",
       "    </tr>\n",
       "    <tr>\n",
       "      <th>Max drawdown</th>\n",
       "      <td>0.259239</td>\n",
       "    </tr>\n",
       "    <tr>\n",
       "      <th>Calmar ratio</th>\n",
       "      <td>0.567831</td>\n",
       "    </tr>\n",
       "    <tr>\n",
       "      <th>Skewness</th>\n",
       "      <td>0.073290</td>\n",
       "    </tr>\n",
       "    <tr>\n",
       "      <th>Kurtosis</th>\n",
       "      <td>19.354457</td>\n",
       "    </tr>\n",
       "    <tr>\n",
       "      <th>Worst return</th>\n",
       "      <td>-0.126276</td>\n",
       "    </tr>\n",
       "    <tr>\n",
       "      <th>Worst 1d return</th>\n",
       "      <td>-0.126276</td>\n",
       "    </tr>\n",
       "    <tr>\n",
       "      <th>Worst 1w return</th>\n",
       "      <td>-0.107725</td>\n",
       "    </tr>\n",
       "    <tr>\n",
       "      <th>Worst 1m return</th>\n",
       "      <td>-0.152667</td>\n",
       "    </tr>\n",
       "  </tbody>\n",
       "</table>\n",
       "</div>"
      ],
      "text/plain": [
       "                 Trend-following portfolio (Moskowitz 2012)\n",
       "CAGR                                               0.147204\n",
       "Annualised vol                                     0.124973\n",
       "Sharpe ratio                                       1.177886\n",
       "Max drawdown                                       0.259239\n",
       "Calmar ratio                                       0.567831\n",
       "Skewness                                           0.073290\n",
       "Kurtosis                                          19.354457\n",
       "Worst return                                      -0.126276\n",
       "Worst 1d return                                   -0.126276\n",
       "Worst 1w return                                   -0.107725\n",
       "Worst 1m return                                   -0.152667"
      ]
     },
     "execution_count": 7,
     "metadata": {},
     "output_type": "execute_result"
    }
   ],
   "source": [
    "engine_original_eq.pipe(Performance).summary()"
   ]
  },
  {
   "cell_type": "markdown",
   "id": "03ea3d3c",
   "metadata": {
    "papermill": {
     "duration": 0.011868,
     "end_time": "2022-08-07T06:41:43.831085",
     "exception": false,
     "start_time": "2022-08-07T06:41:43.819217",
     "status": "completed"
    },
    "tags": []
   },
   "source": [
    "\n",
    "## Volatility estimator\n",
    "BK2020 proposes a few changes in order to enhance the original trend-following strategy Moskowitz et al reported. The first thing is to use a more sophisticated realised volatility estimators for volatility scaling. Moskowitz used the exponentially weighted standard deviation with close-to-close. On the other hand, BK2020 suggests to use Yang-Zhang estimator as it is much more efficient."
   ]
  },
  {
   "cell_type": "code",
   "execution_count": 8,
   "id": "be111548",
   "metadata": {
    "ExecuteTime": {
     "end_time": "2020-08-30T21:18:24.661167Z",
     "start_time": "2020-08-30T21:08:49.544232Z"
    },
    "execution": {
     "iopub.execute_input": "2022-08-07T06:41:43.856134Z",
     "iopub.status.busy": "2022-08-07T06:41:43.855763Z",
     "iopub.status.idle": "2022-08-07T07:05:48.650455Z",
     "shell.execute_reply": "2022-08-07T07:05:48.649749Z"
    },
    "papermill": {
     "duration": 1444.809989,
     "end_time": "2022-08-07T07:05:48.652498",
     "exception": false,
     "start_time": "2022-08-07T06:41:43.842509",
     "status": "completed"
    },
    "tags": []
   },
   "outputs": [],
   "source": [
    "engine_vol = BacktestEngine(\n",
    "    strategy=Strategy.DELTA_ONE.value,\n",
    "    instrument=all_futures_baltas2020.index,\n",
    "    signal=signal.ParallelSignal([\n",
    "        signal.VolatilityScale(volatility_type=RealisedVolatility.YZ.value,\n",
    "                               agg_method='rolling', window=21, min_periods=10,\n",
    "                               target_volatility=0.4, signal_cap=0.95, ann_factor=261),\n",
    "        signal.TSMOMMoskowitz2012(post_process=processing.AsFreq(freq='m', method='pad'))\n",
    "    ], weighting='product'),\n",
    "    weighting=Weighting.EQUAL_WEIGHT.value,\n",
    "    log_level=logging.WARN,\n",
    ")\n",
    "engine_vol.run()"
   ]
  },
  {
   "cell_type": "code",
   "execution_count": 9,
   "id": "8c5d30a3",
   "metadata": {
    "execution": {
     "iopub.execute_input": "2022-08-07T07:05:48.683354Z",
     "iopub.status.busy": "2022-08-07T07:05:48.682784Z",
     "iopub.status.idle": "2022-08-07T07:07:20.374391Z",
     "shell.execute_reply": "2022-08-07T07:07:20.373560Z"
    },
    "papermill": {
     "duration": 91.710467,
     "end_time": "2022-08-07T07:07:20.376378",
     "exception": false,
     "start_time": "2022-08-07T07:05:48.665911",
     "status": "completed"
    },
    "tags": []
   },
   "outputs": [],
   "source": [
    "engine_vol_eq = (engine_vol.calculate_equity_curve(calculate_net=False, rebalance_freq='m')\n",
    "                 .rename('Trend-following portfolio (YZ estimator)'))"
   ]
  },
  {
   "cell_type": "code",
   "execution_count": 10,
   "id": "0e93ad87",
   "metadata": {
    "execution": {
     "iopub.execute_input": "2022-08-07T07:07:20.402456Z",
     "iopub.status.busy": "2022-08-07T07:07:20.402036Z",
     "iopub.status.idle": "2022-08-07T07:07:21.054500Z",
     "shell.execute_reply": "2022-08-07T07:07:21.053728Z"
    },
    "papermill": {
     "duration": 0.667615,
     "end_time": "2022-08-07T07:07:21.056230",
     "exception": false,
     "start_time": "2022-08-07T07:07:20.388615",
     "status": "completed"
    },
    "tags": []
   },
   "outputs": [
    {
     "data": {
      "image/png": "[encoded data removed]",
      "text/plain": [
       "<Figure size 576x324 with 1 Axes>"
      ]
     },
     "metadata": {
      "needs_background": "light"
     },
     "output_type": "display_data"
    }
   ],
   "source": [
    "fig, ax = plt.subplots(figsize=(8, 4.5))\n",
    "engine_vol_eq.plot(ax=ax, logy=True);\n",
    "ax.set_title('Trend-following portfolio (YZ estimator)')\n",
    "ax.set_ylabel('Cumulative returns');"
   ]
  },
  {
   "cell_type": "code",
   "execution_count": 11,
   "id": "9babc8d5",
   "metadata": {
    "execution": {
     "iopub.execute_input": "2022-08-07T07:07:21.084077Z",
     "iopub.status.busy": "2022-08-07T07:07:21.083720Z",
     "iopub.status.idle": "2022-08-07T07:07:21.174733Z",
     "shell.execute_reply": "2022-08-07T07:07:21.172905Z"
    },
    "papermill": {
     "duration": 0.106523,
     "end_time": "2022-08-07T07:07:21.177114",
     "exception": false,
     "start_time": "2022-08-07T07:07:21.070591",
     "status": "completed"
    },
    "tags": []
   },
   "outputs": [
    {
     "data": {
      "text/html": [
       "<div>\n",
       "<style scoped>\n",
       "    .dataframe tbody tr th:only-of-type {\n",
       "        vertical-align: middle;\n",
       "    }\n",
       "\n",
       "    .dataframe tbody tr th {\n",
       "        vertical-align: top;\n",
       "    }\n",
       "\n",
       "    .dataframe thead th {\n",
       "        text-align: right;\n",
       "    }\n",
       "</style>\n",
       "<table border=\"1\" class=\"dataframe\">\n",
       "  <thead>\n",
       "    <tr style=\"text-align: right;\">\n",
       "      <th></th>\n",
       "      <th>Trend-following portfolio (YZ estimator)</th>\n",
       "    </tr>\n",
       "  </thead>\n",
       "  <tbody>\n",
       "    <tr>\n",
       "      <th>CAGR</th>\n",
       "      <td>0.148865</td>\n",
       "    </tr>\n",
       "    <tr>\n",
       "      <th>Annualised vol</th>\n",
       "      <td>0.127263</td>\n",
       "    </tr>\n",
       "    <tr>\n",
       "      <th>Sharpe ratio</th>\n",
       "      <td>1.169739</td>\n",
       "    </tr>\n",
       "    <tr>\n",
       "      <th>Max drawdown</th>\n",
       "      <td>0.305877</td>\n",
       "    </tr>\n",
       "    <tr>\n",
       "      <th>Calmar ratio</th>\n",
       "      <td>0.486682</td>\n",
       "    </tr>\n",
       "    <tr>\n",
       "      <th>Skewness</th>\n",
       "      <td>0.280581</td>\n",
       "    </tr>\n",
       "    <tr>\n",
       "      <th>Kurtosis</th>\n",
       "      <td>22.137399</td>\n",
       "    </tr>\n",
       "    <tr>\n",
       "      <th>Worst return</th>\n",
       "      <td>-0.137043</td>\n",
       "    </tr>\n",
       "    <tr>\n",
       "      <th>Worst 1d return</th>\n",
       "      <td>-0.137043</td>\n",
       "    </tr>\n",
       "    <tr>\n",
       "      <th>Worst 1w return</th>\n",
       "      <td>-0.098542</td>\n",
       "    </tr>\n",
       "    <tr>\n",
       "      <th>Worst 1m return</th>\n",
       "      <td>-0.169177</td>\n",
       "    </tr>\n",
       "  </tbody>\n",
       "</table>\n",
       "</div>"
      ],
      "text/plain": [
       "                 Trend-following portfolio (YZ estimator)\n",
       "CAGR                                             0.148865\n",
       "Annualised vol                                   0.127263\n",
       "Sharpe ratio                                     1.169739\n",
       "Max drawdown                                     0.305877\n",
       "Calmar ratio                                     0.486682\n",
       "Skewness                                         0.280581\n",
       "Kurtosis                                        22.137399\n",
       "Worst return                                    -0.137043\n",
       "Worst 1d return                                 -0.137043\n",
       "Worst 1w return                                 -0.098542\n",
       "Worst 1m return                                 -0.169177"
      ]
     },
     "execution_count": 11,
     "metadata": {},
     "output_type": "execute_result"
    }
   ],
   "source": [
    "engine_vol_eq.pipe(Performance).summary()"
   ]
  },
  {
   "cell_type": "markdown",
   "id": "72d20f89",
   "metadata": {
    "papermill": {
     "duration": 0.011857,
     "end_time": "2022-08-07T07:07:21.201098",
     "exception": false,
     "start_time": "2022-08-07T07:07:21.189241",
     "status": "completed"
    },
    "tags": []
   },
   "source": [
    "## TREND signal\n",
    "\n",
    "Another improvement BK2020 proposes is to use a continuous signal rather than a binary one in order to reduce the turnover when signals are weak. Specifically they used the t-values with the Newey-West standard error as the signal. They further capped and floored the signal between -1 and +1 to avoid extreme positions.\n",
    "\n",
    "`statsmodels`'s `OLS` class provides a method to compute the Newey-West standard error. https://www.statsmodels.org/stable/generated/statsmodels.regression.linear_model.OLS.html"
   ]
  },
  {
   "cell_type": "code",
   "execution_count": 12,
   "id": "d5edc267",
   "metadata": {
    "execution": {
     "iopub.execute_input": "2022-08-07T07:07:21.225344Z",
     "iopub.status.busy": "2022-08-07T07:07:21.225039Z",
     "iopub.status.idle": "2022-08-07T07:26:59.488935Z",
     "shell.execute_reply": "2022-08-07T07:26:59.488025Z"
    },
    "papermill": {
     "duration": 1178.278552,
     "end_time": "2022-08-07T07:26:59.490907",
     "exception": false,
     "start_time": "2022-08-07T07:07:21.212355",
     "status": "completed"
    },
    "tags": []
   },
   "outputs": [],
   "source": [
    "engine_trend = BacktestEngine(\n",
    "    strategy=Strategy.DELTA_ONE.value,\n",
    "    instrument=all_futures_baltas2020.index,\n",
    "    signal=signal.ParallelSignal([\n",
    "        signal.VolatilityScale(agg_method='rolling', window=21, ann_factor=261, \n",
    "                               target_volatility=0.4, signal_cap=0.95),\n",
    "        signal.TSMOMBaltas2020()\n",
    "    ], weighting='product'),\n",
    "    weighting=Weighting.EQUAL_WEIGHT.value,\n",
    "    log_level=logging.WARN,\n",
    ")\n",
    "engine_trend.run()"
   ]
  },
  {
   "cell_type": "code",
   "execution_count": 13,
   "id": "962078d6",
   "metadata": {
    "execution": {
     "iopub.execute_input": "2022-08-07T07:26:59.517463Z",
     "iopub.status.busy": "2022-08-07T07:26:59.517126Z",
     "iopub.status.idle": "2022-08-07T07:28:34.908694Z",
     "shell.execute_reply": "2022-08-07T07:28:34.907658Z"
    },
    "papermill": {
     "duration": 95.406746,
     "end_time": "2022-08-07T07:28:34.910777",
     "exception": false,
     "start_time": "2022-08-07T07:26:59.504031",
     "status": "completed"
    },
    "tags": []
   },
   "outputs": [],
   "source": [
    "engine_trend_eq = (engine_trend.calculate_equity_curve(calculate_net=False, rebalance_freq='m')\n",
    "                   .rename('Trend-following portfolio (TREND signal)'))"
   ]
  },
  {
   "cell_type": "code",
   "execution_count": 14,
   "id": "66faf257",
   "metadata": {
    "execution": {
     "iopub.execute_input": "2022-08-07T07:28:34.938788Z",
     "iopub.status.busy": "2022-08-07T07:28:34.938318Z",
     "iopub.status.idle": "2022-08-07T07:28:35.633770Z",
     "shell.execute_reply": "2022-08-07T07:28:35.633064Z"
    },
    "papermill": {
     "duration": 0.710814,
     "end_time": "2022-08-07T07:28:35.635489",
     "exception": false,
     "start_time": "2022-08-07T07:28:34.924675",
     "status": "completed"
    },
    "tags": []
   },
   "outputs": [
    {
     "data": {
      "image/png": "[encoded data removed]",
      "text/plain": [
       "<Figure size 576x324 with 1 Axes>"
      ]
     },
     "metadata": {
      "needs_background": "light"
     },
     "output_type": "display_data"
    }
   ],
   "source": [
    "fig, ax = plt.subplots(figsize=(8, 4.5))\n",
    "engine_trend_eq.plot(ax=ax, logy=True);\n",
    "ax.set_title('Trend-following portfolio (TREND signal)')\n",
    "ax.set_ylabel('Cumulative returns');"
   ]
  },
  {
   "cell_type": "code",
   "execution_count": 15,
   "id": "778d65aa",
   "metadata": {
    "execution": {
     "iopub.execute_input": "2022-08-07T07:28:35.661506Z",
     "iopub.status.busy": "2022-08-07T07:28:35.661219Z",
     "iopub.status.idle": "2022-08-07T07:28:35.752402Z",
     "shell.execute_reply": "2022-08-07T07:28:35.751381Z"
    },
    "papermill": {
     "duration": 0.106682,
     "end_time": "2022-08-07T07:28:35.754315",
     "exception": false,
     "start_time": "2022-08-07T07:28:35.647633",
     "status": "completed"
    },
    "tags": []
   },
   "outputs": [
    {
     "data": {
      "text/html": [
       "<div>\n",
       "<style scoped>\n",
       "    .dataframe tbody tr th:only-of-type {\n",
       "        vertical-align: middle;\n",
       "    }\n",
       "\n",
       "    .dataframe tbody tr th {\n",
       "        vertical-align: top;\n",
       "    }\n",
       "\n",
       "    .dataframe thead th {\n",
       "        text-align: right;\n",
       "    }\n",
       "</style>\n",
       "<table border=\"1\" class=\"dataframe\">\n",
       "  <thead>\n",
       "    <tr style=\"text-align: right;\">\n",
       "      <th></th>\n",
       "      <th>Trend-following portfolio (TREND signal)</th>\n",
       "    </tr>\n",
       "  </thead>\n",
       "  <tbody>\n",
       "    <tr>\n",
       "      <th>CAGR</th>\n",
       "      <td>0.139277</td>\n",
       "    </tr>\n",
       "    <tr>\n",
       "      <th>Annualised vol</th>\n",
       "      <td>0.107937</td>\n",
       "    </tr>\n",
       "    <tr>\n",
       "      <th>Sharpe ratio</th>\n",
       "      <td>1.290346</td>\n",
       "    </tr>\n",
       "    <tr>\n",
       "      <th>Max drawdown</th>\n",
       "      <td>0.294584</td>\n",
       "    </tr>\n",
       "    <tr>\n",
       "      <th>Calmar ratio</th>\n",
       "      <td>0.472791</td>\n",
       "    </tr>\n",
       "    <tr>\n",
       "      <th>Skewness</th>\n",
       "      <td>0.159299</td>\n",
       "    </tr>\n",
       "    <tr>\n",
       "      <th>Kurtosis</th>\n",
       "      <td>28.019966</td>\n",
       "    </tr>\n",
       "    <tr>\n",
       "      <th>Worst return</th>\n",
       "      <td>-0.121269</td>\n",
       "    </tr>\n",
       "    <tr>\n",
       "      <th>Worst 1d return</th>\n",
       "      <td>-0.121269</td>\n",
       "    </tr>\n",
       "    <tr>\n",
       "      <th>Worst 1w return</th>\n",
       "      <td>-0.110077</td>\n",
       "    </tr>\n",
       "    <tr>\n",
       "      <th>Worst 1m return</th>\n",
       "      <td>-0.171789</td>\n",
       "    </tr>\n",
       "  </tbody>\n",
       "</table>\n",
       "</div>"
      ],
      "text/plain": [
       "                 Trend-following portfolio (TREND signal)\n",
       "CAGR                                             0.139277\n",
       "Annualised vol                                   0.107937\n",
       "Sharpe ratio                                     1.290346\n",
       "Max drawdown                                     0.294584\n",
       "Calmar ratio                                     0.472791\n",
       "Skewness                                         0.159299\n",
       "Kurtosis                                        28.019966\n",
       "Worst return                                    -0.121269\n",
       "Worst 1d return                                 -0.121269\n",
       "Worst 1w return                                 -0.110077\n",
       "Worst 1m return                                 -0.171789"
      ]
     },
     "execution_count": 15,
     "metadata": {},
     "output_type": "execute_result"
    }
   ],
   "source": [
    "engine_trend_eq.pipe(Performance).summary()"
   ]
  },
  {
   "cell_type": "markdown",
   "id": "f0bebdf9",
   "metadata": {
    "papermill": {
     "duration": 0.011979,
     "end_time": "2022-08-07T07:28:35.779785",
     "exception": false,
     "start_time": "2022-08-07T07:28:35.767806",
     "status": "completed"
    },
    "tags": []
   },
   "source": [
    "## Combined\n",
    "\n",
    "Finally we run a backtest by using both the Yang-Zhang volatility estimator and the TREND signal."
   ]
  },
  {
   "cell_type": "code",
   "execution_count": 16,
   "id": "90349021",
   "metadata": {
    "execution": {
     "iopub.execute_input": "2022-08-07T07:28:35.809194Z",
     "iopub.status.busy": "2022-08-07T07:28:35.808925Z",
     "iopub.status.idle": "2022-08-07T07:56:28.187332Z",
     "shell.execute_reply": "2022-08-07T07:56:28.186583Z"
    },
    "papermill": {
     "duration": 1672.395118,
     "end_time": "2022-08-07T07:56:28.189756",
     "exception": false,
     "start_time": "2022-08-07T07:28:35.794638",
     "status": "completed"
    },
    "tags": []
   },
   "outputs": [],
   "source": [
    "engine_combined = BacktestEngine(\n",
    "    strategy=Strategy.DELTA_ONE.value,\n",
    "    instrument=all_futures_baltas2020.index,\n",
    "    signal=signal.ParallelSignal([\n",
    "        signal.VolatilityScale(volatility_type=RealisedVolatility.YZ.value,\n",
    "                               agg_method='rolling', window=21, min_periods=10,\n",
    "                               target_volatility=0.4, signal_cap=0.95, ann_factor=261),\n",
    "        signal.TSMOMBaltas2020()\n",
    "    ], weighting='product'),\n",
    "    weighting=Weighting.EQUAL_WEIGHT.value,\n",
    "    log_level=logging.WARN,\n",
    ")\n",
    "engine_combined.run()"
   ]
  },
  {
   "cell_type": "code",
   "execution_count": 17,
   "id": "c327f3a5",
   "metadata": {
    "execution": {
     "iopub.execute_input": "2022-08-07T07:56:28.225976Z",
     "iopub.status.busy": "2022-08-07T07:56:28.225388Z",
     "iopub.status.idle": "2022-08-07T07:57:51.496512Z",
     "shell.execute_reply": "2022-08-07T07:57:51.495727Z"
    },
    "papermill": {
     "duration": 83.291216,
     "end_time": "2022-08-07T07:57:51.498369",
     "exception": false,
     "start_time": "2022-08-07T07:56:28.207153",
     "status": "completed"
    },
    "tags": []
   },
   "outputs": [],
   "source": [
    "engine_combined_eq = (engine_combined.calculate_equity_curve(calculate_net=False, rebalance_freq='m')\n",
    "                      .rename('Trend-following portfolio (YZ estimator + TREND signal)'))"
   ]
  },
  {
   "cell_type": "code",
   "execution_count": 18,
   "id": "c5c2a842",
   "metadata": {
    "execution": {
     "iopub.execute_input": "2022-08-07T07:57:51.524681Z",
     "iopub.status.busy": "2022-08-07T07:57:51.524351Z",
     "iopub.status.idle": "2022-08-07T07:57:52.168010Z",
     "shell.execute_reply": "2022-08-07T07:57:52.167150Z"
    },
    "papermill": {
     "duration": 0.659176,
     "end_time": "2022-08-07T07:57:52.169614",
     "exception": false,
     "start_time": "2022-08-07T07:57:51.510438",
     "status": "completed"
    },
    "tags": []
   },
   "outputs": [
    {
     "data": {
      "image/png": "[encoded data removed]",
      "text/plain": [
       "<Figure size 576x324 with 1 Axes>"
      ]
     },
     "metadata": {
      "needs_background": "light"
     },
     "output_type": "display_data"
    }
   ],
   "source": [
    "fig, ax = plt.subplots(figsize=(8, 4.5))\n",
    "engine_combined_eq.plot(ax=ax, logy=True)\n",
    "ax.set_title('Trend-following portfolio (YZ estimator + TREND signal)')\n",
    "ax.set_ylabel('Cumulative returns');"
   ]
  },
  {
   "cell_type": "code",
   "execution_count": 19,
   "id": "db1d9761",
   "metadata": {
    "execution": {
     "iopub.execute_input": "2022-08-07T07:57:52.196399Z",
     "iopub.status.busy": "2022-08-07T07:57:52.196134Z",
     "iopub.status.idle": "2022-08-07T07:57:52.281724Z",
     "shell.execute_reply": "2022-08-07T07:57:52.280553Z"
    },
    "papermill": {
     "duration": 0.102421,
     "end_time": "2022-08-07T07:57:52.284264",
     "exception": false,
     "start_time": "2022-08-07T07:57:52.181843",
     "status": "completed"
    },
    "tags": []
   },
   "outputs": [
    {
     "data": {
      "text/html": [
       "<div>\n",
       "<style scoped>\n",
       "    .dataframe tbody tr th:only-of-type {\n",
       "        vertical-align: middle;\n",
       "    }\n",
       "\n",
       "    .dataframe tbody tr th {\n",
       "        vertical-align: top;\n",
       "    }\n",
       "\n",
       "    .dataframe thead th {\n",
       "        text-align: right;\n",
       "    }\n",
       "</style>\n",
       "<table border=\"1\" class=\"dataframe\">\n",
       "  <thead>\n",
       "    <tr style=\"text-align: right;\">\n",
       "      <th></th>\n",
       "      <th>Trend-following portfolio (YZ estimator + TREND signal)</th>\n",
       "    </tr>\n",
       "  </thead>\n",
       "  <tbody>\n",
       "    <tr>\n",
       "      <th>CAGR</th>\n",
       "      <td>0.139736</td>\n",
       "    </tr>\n",
       "    <tr>\n",
       "      <th>Annualised vol</th>\n",
       "      <td>0.110673</td>\n",
       "    </tr>\n",
       "    <tr>\n",
       "      <th>Sharpe ratio</th>\n",
       "      <td>1.262601</td>\n",
       "    </tr>\n",
       "    <tr>\n",
       "      <th>Max drawdown</th>\n",
       "      <td>0.313945</td>\n",
       "    </tr>\n",
       "    <tr>\n",
       "      <th>Calmar ratio</th>\n",
       "      <td>0.445095</td>\n",
       "    </tr>\n",
       "    <tr>\n",
       "      <th>Skewness</th>\n",
       "      <td>0.292881</td>\n",
       "    </tr>\n",
       "    <tr>\n",
       "      <th>Kurtosis</th>\n",
       "      <td>32.542269</td>\n",
       "    </tr>\n",
       "    <tr>\n",
       "      <th>Worst return</th>\n",
       "      <td>-0.130152</td>\n",
       "    </tr>\n",
       "    <tr>\n",
       "      <th>Worst 1d return</th>\n",
       "      <td>-0.130152</td>\n",
       "    </tr>\n",
       "    <tr>\n",
       "      <th>Worst 1w return</th>\n",
       "      <td>-0.112097</td>\n",
       "    </tr>\n",
       "    <tr>\n",
       "      <th>Worst 1m return</th>\n",
       "      <td>-0.186272</td>\n",
       "    </tr>\n",
       "  </tbody>\n",
       "</table>\n",
       "</div>"
      ],
      "text/plain": [
       "                 Trend-following portfolio (YZ estimator + TREND signal)\n",
       "CAGR                                                      0.139736      \n",
       "Annualised vol                                            0.110673      \n",
       "Sharpe ratio                                              1.262601      \n",
       "Max drawdown                                              0.313945      \n",
       "Calmar ratio                                              0.445095      \n",
       "Skewness                                                  0.292881      \n",
       "Kurtosis                                                 32.542269      \n",
       "Worst return                                             -0.130152      \n",
       "Worst 1d return                                          -0.130152      \n",
       "Worst 1w return                                          -0.112097      \n",
       "Worst 1m return                                          -0.186272      "
      ]
     },
     "execution_count": 19,
     "metadata": {},
     "output_type": "execute_result"
    }
   ],
   "source": [
    "engine_combined_eq.pipe(Performance).summary()"
   ]
  },
  {
   "cell_type": "markdown",
   "id": "2d1ab972",
   "metadata": {
    "papermill": {
     "duration": 0.018019,
     "end_time": "2022-08-07T07:57:52.320370",
     "exception": false,
     "start_time": "2022-08-07T07:57:52.302351",
     "status": "completed"
    },
    "tags": []
   },
   "source": [
    "# Comparison\n",
    "\n",
    "In this section we compare the above 4 backtests."
   ]
  },
  {
   "cell_type": "markdown",
   "id": "c82e99e9",
   "metadata": {
    "papermill": {
     "duration": 0.018082,
     "end_time": "2022-08-07T07:57:52.355551",
     "exception": false,
     "start_time": "2022-08-07T07:57:52.337469",
     "status": "completed"
    },
    "tags": []
   },
   "source": [
    "## Performance\n",
    "\n",
    "As reported in BK2020, using the YZ estimator and TREND signal does not alter the performance characteristics. Rather, the TREND signal somewhat improves the Sharpe ratio. Also the TREND signal lowers the annualised volatility from 12.5% to 10.8% with the close-to-close realised volatility."
   ]
  },
  {
   "cell_type": "code",
   "execution_count": 20,
   "id": "0b4b9063",
   "metadata": {
    "execution": {
     "iopub.execute_input": "2022-08-07T07:57:52.421963Z",
     "iopub.status.busy": "2022-08-07T07:57:52.421536Z",
     "iopub.status.idle": "2022-08-07T07:57:52.438945Z",
     "shell.execute_reply": "2022-08-07T07:57:52.438132Z"
    },
    "papermill": {
     "duration": 0.067995,
     "end_time": "2022-08-07T07:57:52.441088",
     "exception": false,
     "start_time": "2022-08-07T07:57:52.373093",
     "status": "completed"
    },
    "tags": []
   },
   "outputs": [],
   "source": [
    "performance_comp = pd.concat((engine_original_eq, engine_vol_eq, \n",
    "                              engine_trend_eq, engine_combined_eq), axis=1)"
   ]
  },
  {
   "cell_type": "code",
   "execution_count": 21,
   "id": "c10e1be6",
   "metadata": {
    "execution": {
     "iopub.execute_input": "2022-08-07T07:57:52.467408Z",
     "iopub.status.busy": "2022-08-07T07:57:52.467138Z",
     "iopub.status.idle": "2022-08-07T07:57:53.332809Z",
     "shell.execute_reply": "2022-08-07T07:57:53.331982Z"
    },
    "papermill": {
     "duration": 0.881664,
     "end_time": "2022-08-07T07:57:53.335292",
     "exception": false,
     "start_time": "2022-08-07T07:57:52.453628",
     "status": "completed"
    },
    "tags": []
   },
   "outputs": [
    {
     "data": {
      "image/png": "[encoded data removed]",
      "text/plain": [
       "<Figure size 576x324 with 1 Axes>"
      ]
     },
     "metadata": {
      "needs_background": "light"
     },
     "output_type": "display_data"
    }
   ],
   "source": [
    "fig, ax = plt.subplots(figsize=(8, 4.5))\n",
    "performance_comp.plot(ax=ax, logy=True);\n",
    "ax.set_title('Trend-following portfolio')\n",
    "ax.set_ylabel('Cumulative returns');"
   ]
  },
  {
   "cell_type": "code",
   "execution_count": 22,
   "id": "cdeb901b",
   "metadata": {
    "execution": {
     "iopub.execute_input": "2022-08-07T07:57:53.374540Z",
     "iopub.status.busy": "2022-08-07T07:57:53.374169Z",
     "iopub.status.idle": "2022-08-07T07:57:53.479873Z",
     "shell.execute_reply": "2022-08-07T07:57:53.479127Z"
    },
    "papermill": {
     "duration": 0.126843,
     "end_time": "2022-08-07T07:57:53.481498",
     "exception": false,
     "start_time": "2022-08-07T07:57:53.354655",
     "status": "completed"
    },
    "tags": []
   },
   "outputs": [
    {
     "data": {
      "text/html": [
       "<div>\n",
       "<style scoped>\n",
       "    .dataframe tbody tr th:only-of-type {\n",
       "        vertical-align: middle;\n",
       "    }\n",
       "\n",
       "    .dataframe tbody tr th {\n",
       "        vertical-align: top;\n",
       "    }\n",
       "\n",
       "    .dataframe thead th {\n",
       "        text-align: right;\n",
       "    }\n",
       "</style>\n",
       "<table border=\"1\" class=\"dataframe\">\n",
       "  <thead>\n",
       "    <tr style=\"text-align: right;\">\n",
       "      <th></th>\n",
       "      <th>Trend-following portfolio (Moskowitz 2012)</th>\n",
       "      <th>Trend-following portfolio (YZ estimator)</th>\n",
       "      <th>Trend-following portfolio (TREND signal)</th>\n",
       "      <th>Trend-following portfolio (YZ estimator + TREND signal)</th>\n",
       "    </tr>\n",
       "  </thead>\n",
       "  <tbody>\n",
       "    <tr>\n",
       "      <th>CAGR</th>\n",
       "      <td>0.147204</td>\n",
       "      <td>0.148499</td>\n",
       "      <td>0.139277</td>\n",
       "      <td>0.139392</td>\n",
       "    </tr>\n",
       "    <tr>\n",
       "      <th>Annualised vol</th>\n",
       "      <td>0.124973</td>\n",
       "      <td>0.127108</td>\n",
       "      <td>0.107937</td>\n",
       "      <td>0.110538</td>\n",
       "    </tr>\n",
       "    <tr>\n",
       "      <th>Sharpe ratio</th>\n",
       "      <td>1.177886</td>\n",
       "      <td>1.168291</td>\n",
       "      <td>1.290346</td>\n",
       "      <td>1.261036</td>\n",
       "    </tr>\n",
       "    <tr>\n",
       "      <th>Max drawdown</th>\n",
       "      <td>0.259239</td>\n",
       "      <td>0.305877</td>\n",
       "      <td>0.294584</td>\n",
       "      <td>0.313945</td>\n",
       "    </tr>\n",
       "    <tr>\n",
       "      <th>Calmar ratio</th>\n",
       "      <td>0.567831</td>\n",
       "      <td>0.485485</td>\n",
       "      <td>0.472791</td>\n",
       "      <td>0.444001</td>\n",
       "    </tr>\n",
       "    <tr>\n",
       "      <th>Skewness</th>\n",
       "      <td>0.073290</td>\n",
       "      <td>0.281493</td>\n",
       "      <td>0.159299</td>\n",
       "      <td>0.293846</td>\n",
       "    </tr>\n",
       "    <tr>\n",
       "      <th>Kurtosis</th>\n",
       "      <td>19.354457</td>\n",
       "      <td>22.198803</td>\n",
       "      <td>28.019966</td>\n",
       "      <td>32.628873</td>\n",
       "    </tr>\n",
       "    <tr>\n",
       "      <th>Worst return</th>\n",
       "      <td>-0.126276</td>\n",
       "      <td>-0.137043</td>\n",
       "      <td>-0.121269</td>\n",
       "      <td>-0.130152</td>\n",
       "    </tr>\n",
       "    <tr>\n",
       "      <th>Worst 1d return</th>\n",
       "      <td>-0.126276</td>\n",
       "      <td>-0.137043</td>\n",
       "      <td>-0.121269</td>\n",
       "      <td>-0.130152</td>\n",
       "    </tr>\n",
       "    <tr>\n",
       "      <th>Worst 1w return</th>\n",
       "      <td>-0.107725</td>\n",
       "      <td>-0.098542</td>\n",
       "      <td>-0.110077</td>\n",
       "      <td>-0.112097</td>\n",
       "    </tr>\n",
       "    <tr>\n",
       "      <th>Worst 1m return</th>\n",
       "      <td>-0.152667</td>\n",
       "      <td>-0.169177</td>\n",
       "      <td>-0.171789</td>\n",
       "      <td>-0.186272</td>\n",
       "    </tr>\n",
       "  </tbody>\n",
       "</table>\n",
       "</div>"
      ],
      "text/plain": [
       "                 Trend-following portfolio (Moskowitz 2012)  \\\n",
       "CAGR                                               0.147204   \n",
       "Annualised vol                                     0.124973   \n",
       "Sharpe ratio                                       1.177886   \n",
       "Max drawdown                                       0.259239   \n",
       "Calmar ratio                                       0.567831   \n",
       "Skewness                                           0.073290   \n",
       "Kurtosis                                          19.354457   \n",
       "Worst return                                      -0.126276   \n",
       "Worst 1d return                                   -0.126276   \n",
       "Worst 1w return                                   -0.107725   \n",
       "Worst 1m return                                   -0.152667   \n",
       "\n",
       "                 Trend-following portfolio (YZ estimator)  \\\n",
       "CAGR                                             0.148499   \n",
       "Annualised vol                                   0.127108   \n",
       "Sharpe ratio                                     1.168291   \n",
       "Max drawdown                                     0.305877   \n",
       "Calmar ratio                                     0.485485   \n",
       "Skewness                                         0.281493   \n",
       "Kurtosis                                        22.198803   \n",
       "Worst return                                    -0.137043   \n",
       "Worst 1d return                                 -0.137043   \n",
       "Worst 1w return                                 -0.098542   \n",
       "Worst 1m return                                 -0.169177   \n",
       "\n",
       "                 Trend-following portfolio (TREND signal)  \\\n",
       "CAGR                                             0.139277   \n",
       "Annualised vol                                   0.107937   \n",
       "Sharpe ratio                                     1.290346   \n",
       "Max drawdown                                     0.294584   \n",
       "Calmar ratio                                     0.472791   \n",
       "Skewness                                         0.159299   \n",
       "Kurtosis                                        28.019966   \n",
       "Worst return                                    -0.121269   \n",
       "Worst 1d return                                 -0.121269   \n",
       "Worst 1w return                                 -0.110077   \n",
       "Worst 1m return                                 -0.171789   \n",
       "\n",
       "                 Trend-following portfolio (YZ estimator + TREND signal)  \n",
       "CAGR                                                      0.139392        \n",
       "Annualised vol                                            0.110538        \n",
       "Sharpe ratio                                              1.261036        \n",
       "Max drawdown                                              0.313945        \n",
       "Calmar ratio                                              0.444001        \n",
       "Skewness                                                  0.293846        \n",
       "Kurtosis                                                 32.628873        \n",
       "Worst return                                             -0.130152        \n",
       "Worst 1d return                                          -0.130152        \n",
       "Worst 1w return                                          -0.112097        \n",
       "Worst 1m return                                          -0.186272        "
      ]
     },
     "execution_count": 22,
     "metadata": {},
     "output_type": "execute_result"
    }
   ],
   "source": [
    "performance_comp.pipe(Performance).summary()"
   ]
  },
  {
   "cell_type": "markdown",
   "id": "65ea2b68",
   "metadata": {
    "papermill": {
     "duration": 0.013554,
     "end_time": "2022-08-07T07:57:53.508874",
     "exception": false,
     "start_time": "2022-08-07T07:57:53.495320",
     "status": "completed"
    },
    "tags": []
   },
   "source": [
    "## Turnover reduction\n",
    "\n",
    "Again, as reported in BK2020, both enhancements reduce the turnover significantly while not affecting the performance. The chart below shows the reduction in turnover for each futures contract. By utilising the YZ realised volatility and the TREND signal, overall the turnover is reduced by more than 30%."
   ]
  },
  {
   "cell_type": "code",
   "execution_count": 23,
   "id": "fd3cfa89",
   "metadata": {
    "execution": {
     "iopub.execute_input": "2022-08-07T07:57:53.540801Z",
     "iopub.status.busy": "2022-08-07T07:57:53.540226Z",
     "iopub.status.idle": "2022-08-07T08:03:02.646401Z",
     "shell.execute_reply": "2022-08-07T08:03:02.645725Z"
    },
    "papermill": {
     "duration": 309.123764,
     "end_time": "2022-08-07T08:03:02.648801",
     "exception": false,
     "start_time": "2022-08-07T07:57:53.525037",
     "status": "completed"
    },
    "tags": []
   },
   "outputs": [],
   "source": [
    "engine_original_pos = engine_original.get_position_by_instrument()\n",
    "engine_vol_pos = engine_vol.get_position_by_instrument()\n",
    "engine_trend_pos = engine_trend.get_position_by_instrument()\n",
    "engine_combined_pos = engine_combined.get_position_by_instrument()"
   ]
  },
  {
   "cell_type": "code",
   "execution_count": 24,
   "id": "e65e278a",
   "metadata": {
    "execution": {
     "iopub.execute_input": "2022-08-07T08:03:02.688372Z",
     "iopub.status.busy": "2022-08-07T08:03:02.688097Z",
     "iopub.status.idle": "2022-08-07T08:03:02.723013Z",
     "shell.execute_reply": "2022-08-07T08:03:02.722299Z"
    },
    "papermill": {
     "duration": 0.05716,
     "end_time": "2022-08-07T08:03:02.725490",
     "exception": false,
     "start_time": "2022-08-07T08:03:02.668330",
     "status": "completed"
    },
    "tags": []
   },
   "outputs": [],
   "source": [
    "engine_original_turnover = (engine_original_pos.diff().abs().mean().mul(261)\n",
    "                            .rename('Trend-following portfolio (Moskowitz 2012)'))\n",
    "engine_vol_turnover = (engine_vol_pos.diff().abs().mean().mul(261)\n",
    "                       .rename('Trend-following portfolio (YZ estimator)'))\n",
    "engine_trend_turnover = (engine_trend_pos.diff().abs().mean().mul(261)\n",
    "                         .rename('Trend-following portfolio (TREND signal)'))\n",
    "engine_combined_turnover = (engine_combined_pos.diff().abs().mean().mul(261)\n",
    "                            .rename('Trend-following portfolio (YZ estimator + TREND signal)'))"
   ]
  },
  {
   "cell_type": "code",
   "execution_count": 25,
   "id": "b6245f74",
   "metadata": {
    "execution": {
     "iopub.execute_input": "2022-08-07T08:03:02.757356Z",
     "iopub.status.busy": "2022-08-07T08:03:02.757042Z",
     "iopub.status.idle": "2022-08-07T08:03:02.764220Z",
     "shell.execute_reply": "2022-08-07T08:03:02.763472Z"
    },
    "papermill": {
     "duration": 0.023182,
     "end_time": "2022-08-07T08:03:02.766457",
     "exception": false,
     "start_time": "2022-08-07T08:03:02.743275",
     "status": "completed"
    },
    "tags": []
   },
   "outputs": [],
   "source": [
    "turnover_reduction = (\n",
    "    pd.concat((engine_vol_turnover, engine_trend_turnover, engine_combined_turnover), axis=1)\n",
    "    .div(engine_original_turnover, axis=0)\n",
    "    .sub(1)\n",
    "    .reindex(index=all_futures_baltas2020.index)\n",
    "    .rename(index=all_futures_baltas2020['name'])\n",
    ")"
   ]
  },
  {
   "cell_type": "code",
   "execution_count": 26,
   "id": "170a207d",
   "metadata": {
    "execution": {
     "iopub.execute_input": "2022-08-07T08:03:02.805205Z",
     "iopub.status.busy": "2022-08-07T08:03:02.804592Z",
     "iopub.status.idle": "2022-08-07T08:03:02.810891Z",
     "shell.execute_reply": "2022-08-07T08:03:02.810165Z"
    },
    "papermill": {
     "duration": 0.028083,
     "end_time": "2022-08-07T08:03:02.812999",
     "exception": false,
     "start_time": "2022-08-07T08:03:02.784916",
     "status": "completed"
    },
    "tags": []
   },
   "outputs": [
    {
     "data": {
      "text/plain": [
       "Trend-following portfolio (YZ estimator)                  -0.181139\n",
       "Trend-following portfolio (TREND signal)                  -0.207167\n",
       "Trend-following portfolio (YZ estimator + TREND signal)   -0.330527\n",
       "dtype: float64"
      ]
     },
     "execution_count": 26,
     "metadata": {},
     "output_type": "execute_result"
    }
   ],
   "source": [
    "turnover_reduction.mean()"
   ]
  },
  {
   "cell_type": "code",
   "execution_count": 27,
   "id": "ed6962e8",
   "metadata": {
    "execution": {
     "iopub.execute_input": "2022-08-07T08:03:02.842324Z",
     "iopub.status.busy": "2022-08-07T08:03:02.841985Z",
     "iopub.status.idle": "2022-08-07T08:03:04.490299Z",
     "shell.execute_reply": "2022-08-07T08:03:04.489567Z"
    },
    "papermill": {
     "duration": 1.663815,
     "end_time": "2022-08-07T08:03:04.491928",
     "exception": false,
     "start_time": "2022-08-07T08:03:02.828113",
     "status": "completed"
    },
    "tags": []
   },
   "outputs": [
    {
     "data": {
      "image/png": "[encoded data removed]",
      "text/plain": [
       "<Figure size 1008x288 with 1 Axes>"
      ]
     },
     "metadata": {
      "needs_background": "light"
     },
     "output_type": "display_data"
    }
   ],
   "source": [
    "ax = turnover_reduction.plot(kind='bar', figsize=(14, 4))\n",
    "ax.yaxis.set_major_formatter(mticker.PercentFormatter(1))\n",
    "ax.axhline(0, color='black', lw=1)\n",
    "ax.axvline(24.5, color='black', lw=1)\n",
    "ax.axvline(30.5, color='black', lw=1)\n",
    "ax.axvline(42.5, color='black', lw=1)\n",
    "ax.set_xlabel('Contract')\n",
    "ax.set_ylabel('Turnover reduction');"
   ]
  },
  {
   "cell_type": "markdown",
   "id": "990401e0",
   "metadata": {
    "papermill": {
     "duration": 0.014713,
     "end_time": "2022-08-07T08:03:04.520203",
     "exception": false,
     "start_time": "2022-08-07T08:03:04.505490",
     "status": "completed"
    },
    "tags": []
   },
   "source": [
    "# Recent performance"
   ]
  },
  {
   "cell_type": "code",
   "execution_count": 28,
   "id": "8fb3f69e",
   "metadata": {
    "execution": {
     "iopub.execute_input": "2022-08-07T08:03:04.550252Z",
     "iopub.status.busy": "2022-08-07T08:03:04.549873Z",
     "iopub.status.idle": "2022-08-07T08:03:04.998648Z",
     "shell.execute_reply": "2022-08-07T08:03:04.997898Z"
    },
    "papermill": {
     "duration": 0.466422,
     "end_time": "2022-08-07T08:03:05.000374",
     "exception": false,
     "start_time": "2022-08-07T08:03:04.533952",
     "status": "completed"
    },
    "tags": []
   },
   "outputs": [
    {
     "data": {
      "image/png": "[encoded data removed]",
      "text/plain": [
       "<Figure size 576x324 with 1 Axes>"
      ]
     },
     "metadata": {
      "needs_background": "light"
     },
     "output_type": "display_data"
    }
   ],
   "source": [
    "fig, ax = plt.subplots(figsize=(8, 4.5))\n",
    "performance_comp.tail(252 * 2).pct_change().fillna(0).add(1).cumprod().plot(ax=ax, logy=True);\n",
    "ax.set_title('Trend-following portfolio')\n",
    "ax.set_ylabel('Cumulative returns');"
   ]
  },
  {
   "cell_type": "markdown",
   "id": "b1d5ee30",
   "metadata": {
    "papermill": {
     "duration": 0.015428,
     "end_time": "2022-08-07T08:03:05.030094",
     "exception": false,
     "start_time": "2022-08-07T08:03:05.014666",
     "status": "completed"
    },
    "tags": []
   },
   "source": [
    "# Reference\n",
    "\n",
    "- Baltas, N. and Kosowski, R., 2020. Demystifying time-series momentum strategies: Volatility estimators, trading rules and pairwise correlations. Market Momentum: Theory and Practice\", Wiley.\n",
    "- Moskowitz, T.J., Ooi, Y.H. and Pedersen, L.H., 2012. Time series momentum. Journal of financial economics, 104(2), pp.228-250."
   ]
  },
  {
   "cell_type": "code",
   "execution_count": 29,
   "id": "1c657ea8",
   "metadata": {
    "ExecuteTime": {
     "end_time": "2020-08-30T21:20:32.431574Z",
     "start_time": "2020-08-30T21:20:32.429370Z"
    },
    "execution": {
     "iopub.execute_input": "2022-08-07T08:03:05.060657Z",
     "iopub.status.busy": "2022-08-07T08:03:05.060382Z",
     "iopub.status.idle": "2022-08-07T08:03:05.064780Z",
     "shell.execute_reply": "2022-08-07T08:03:05.064011Z"
    },
    "papermill": {
     "duration": 0.022266,
     "end_time": "2022-08-07T08:03:05.066379",
     "exception": false,
     "start_time": "2022-08-07T08:03:05.044113",
     "status": "completed"
    },
    "tags": []
   },
   "outputs": [
    {
     "name": "stdout",
     "output_type": "stream",
     "text": [
      "Updated: 07-Aug-2022 08:03\n"
     ]
    }
   ],
   "source": [
    "print(f'Updated: {datetime.utcnow():%d-%b-%Y %H:%M}')"
   ]
  }
 ],
 "metadata": {
  "hide_input": false,
  "kernelspec": {
   "display_name": "Python 3",
   "language": "python",
   "name": "python3"
  },
  "language_info": {
   "codemirror_mode": {
    "name": "ipython",
    "version": 3
   },
   "file_extension": ".py",
   "mimetype": "text/x-python",
   "name": "python",
   "nbconvert_exporter": "python",
   "pygments_lexer": "ipython3",
   "version": "3.9.6"
  },
  "nav_menu": {},
  "papermill": {
   "duration": 5729.568309,
   "end_time": "2022-08-07T08:03:08.111170",
   "environment_variables": {},
   "exception": null,
   "input_path": "notebooks/papermill/trend_following_baltas2020.ipynb",
   "output_path": "notebooks/trend_following_baltas2020.ipynb",
   "parameters": {},
   "start_time": "2022-08-07T06:27:38.542861",
   "version": "2.1.3"
  },
  "toc": {
   "base_numbering": 1,
   "nav_menu": {},
   "number_sections": true,
   "sideBar": true,
   "skip_h1_title": false,
   "title_cell": "Table of Contents",
   "title_sidebar": "Contents",
   "toc_cell": true,
   "toc_position": {
    "height": "calc(100% - 180px)",
    "left": "10px",
    "top": "150px",
    "width": "165px"
   },
   "toc_section_display": "block",
   "toc_window_display": true
  }
 },
 "nbformat": 4,
 "nbformat_minor": 5
}