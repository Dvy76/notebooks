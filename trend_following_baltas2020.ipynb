{
 "cells": [
  {
   "cell_type": "markdown",
   "id": "1cc41875",
   "metadata": {
    "papermill": {
     "duration": 0.028611,
     "end_time": "2022-09-01T06:26:39.976289",
     "exception": false,
     "start_time": "2022-09-01T06:26:39.947678",
     "status": "completed"
    },
    "tags": []
   },
   "source": [
    "# Trend-following\n",
    "\n",
    "This notebook implements a few improvements that Baltas and Kosowski (2020) (BK2020, hereafter) propose to the time-series momentum strategy which originally appeared in Moskowitz et al (2012).\n",
    "\n",
    "Note that like other notebooks, all backtests are performed by using a private library called `vivace`."
   ]
  },
  {
   "cell_type": "code",
   "execution_count": 1,
   "id": "f1ce7bed",
   "metadata": {
    "ExecuteTime": {
     "end_time": "2020-08-30T21:08:49.524262Z",
     "start_time": "2020-08-30T21:08:48.720115Z"
    },
    "execution": {
     "iopub.execute_input": "2022-09-01T06:26:40.018599Z",
     "iopub.status.busy": "2022-09-01T06:26:40.018272Z",
     "iopub.status.idle": "2022-09-01T06:26:43.788993Z",
     "shell.execute_reply": "2022-09-01T06:26:43.788200Z"
    },
    "papermill": {
     "duration": 3.787977,
     "end_time": "2022-09-01T06:26:43.791202",
     "exception": false,
     "start_time": "2022-09-01T06:26:40.003225",
     "status": "completed"
    },
    "tags": []
   },
   "outputs": [],
   "source": [
    "%matplotlib inline\n",
    "from datetime import datetime\n",
    "import logging\n",
    "import warnings\n",
    "warnings.simplefilter(action='ignore', category=FutureWarning)\n",
    "\n",
    "import pandas as pd\n",
    "import matplotlib.pyplot as plt\n",
    "import matplotlib.ticker as mticker\n",
    "plt.style.use('bmh')\n",
    "\n",
    "from vivace.backtest import signal\n",
    "from vivace.backtest import processing\n",
    "from vivace.backtest.contract import all_futures_baltas2020\n",
    "from vivace.backtest.engine import BacktestEngine\n",
    "from vivace.backtest.enums import Strategy, Weighting, RealisedVolatility\n",
    "from vivace.backtest.stats import Performance"
   ]
  },
  {
   "cell_type": "markdown",
   "id": "a0bf5a79",
   "metadata": {
    "papermill": {
     "duration": 0.010929,
     "end_time": "2022-09-01T06:26:43.812805",
     "exception": false,
     "start_time": "2022-09-01T06:26:43.801876",
     "status": "completed"
    },
    "tags": []
   },
   "source": [
    "# Data"
   ]
  },
  {
   "cell_type": "code",
   "execution_count": 2,
   "id": "45c61a3c",
   "metadata": {
    "ExecuteTime": {
     "end_time": "2020-08-30T21:08:49.529214Z",
     "start_time": "2020-08-30T21:08:49.525465Z"
    },
    "execution": {
     "iopub.execute_input": "2022-09-01T06:26:43.839908Z",
     "iopub.status.busy": "2022-09-01T06:26:43.839458Z",
     "iopub.status.idle": "2022-09-01T06:26:43.847177Z",
     "shell.execute_reply": "2022-09-01T06:26:43.846442Z"
    },
    "papermill": {
     "duration": 0.024439,
     "end_time": "2022-09-01T06:26:43.849809",
     "exception": false,
     "start_time": "2022-09-01T06:26:43.825370",
     "status": "completed"
    },
    "tags": []
   },
   "outputs": [
    {
     "data": {
      "text/plain": [
       "array(['WTI Crude Oil', 'Brent Crude Oil', 'Heating Oil', 'Natural Gas',\n",
       "       'Gasoline', 'Copper', 'Gold', 'Palladium', 'Platinum', 'Silver',\n",
       "       'Feeder Cattle', 'Live Cattle', 'Lean Hog', 'Corn', 'Oats',\n",
       "       'Soybean Oil', 'Soybean Meal', 'Soybean', 'Wheat', 'Cocoa',\n",
       "       'Coffee', 'Cotton', 'Lumber', 'Orange Juice', 'Sugar',\n",
       "       'Australian Dollar', 'Canadian Dollar', 'Swiss Franc', 'Euro',\n",
       "       'British Pound', 'Japanese Yen', 'E-Mini Nasdaq 100',\n",
       "       'E-mini S&P 500', 'E-mini Russell 2000', 'FTSE 100', 'DAX',\n",
       "       'CAC 40', 'IBEX 35', 'AEX', 'Swiss Market Index', 'SPI 200',\n",
       "       'Topix', 'Hang Seng', 'US 2-year Treasury', 'US 5-year Treasury',\n",
       "       'US 10-year Treasury', 'US treasury Bond', 'Germany Schatz',\n",
       "       'Germany Bobl', 'Germany Bund', 'Germany Buxl', 'Gilt',\n",
       "       'Canada 10-year Treasury', 'JGB'], dtype=object)"
      ]
     },
     "execution_count": 2,
     "metadata": {},
     "output_type": "execute_result"
    }
   ],
   "source": [
    "all_futures_baltas2020['name'].values"
   ]
  },
  {
   "cell_type": "code",
   "execution_count": 3,
   "id": "016d75c2",
   "metadata": {
    "ExecuteTime": {
     "end_time": "2020-08-30T21:08:49.542477Z",
     "start_time": "2020-08-30T21:08:49.530487Z"
    },
    "execution": {
     "iopub.execute_input": "2022-09-01T06:26:43.914473Z",
     "iopub.status.busy": "2022-09-01T06:26:43.913778Z",
     "iopub.status.idle": "2022-09-01T06:26:43.918503Z",
     "shell.execute_reply": "2022-09-01T06:26:43.917587Z"
    },
    "papermill": {
     "duration": 0.05481,
     "end_time": "2022-09-01T06:26:43.920241",
     "exception": false,
     "start_time": "2022-09-01T06:26:43.865431",
     "status": "completed"
    },
    "tags": []
   },
   "outputs": [
    {
     "name": "stdout",
     "output_type": "stream",
     "text": [
      "54\n"
     ]
    }
   ],
   "source": [
    "print(len(all_futures_baltas2020))"
   ]
  },
  {
   "cell_type": "markdown",
   "id": "fcba6bee",
   "metadata": {
    "papermill": {
     "duration": 0.015034,
     "end_time": "2022-09-01T06:26:43.947565",
     "exception": false,
     "start_time": "2022-09-01T06:26:43.932531",
     "status": "completed"
    },
    "tags": []
   },
   "source": [
    "We try to use the same contract as the original paper where possible, resulting 54 futures contracts to analyse. The trading universe covers a wide range of asset classes and regions, and is made up of following instruments:\n",
    "- Equity index futures\n",
    "- Government bond futures\n",
    "- FX futures\n",
    "- Commodity futures\n",
    "\n",
    "where the same trend detection method is applied."
   ]
  },
  {
   "cell_type": "markdown",
   "id": "e7608da5",
   "metadata": {
    "papermill": {
     "duration": 0.01402,
     "end_time": "2022-09-01T06:26:43.976853",
     "exception": false,
     "start_time": "2022-09-01T06:26:43.962833",
     "status": "completed"
    },
    "tags": []
   },
   "source": [
    "# Performance\n"
   ]
  },
  {
   "cell_type": "markdown",
   "id": "dbc29f8d",
   "metadata": {
    "papermill": {
     "duration": 0.015148,
     "end_time": "2022-09-01T06:26:44.005784",
     "exception": false,
     "start_time": "2022-09-01T06:26:43.990636",
     "status": "completed"
    },
    "tags": []
   },
   "source": [
    "## Moskowitz et al\n",
    "\n",
    "First we calculate the original trend-following portfolio with a more traditional close-to-close realised volatility estimator. Although Moskowitz et al uses the exponentially weighted standard deviation, BK2020 appears to compare against the rolling standard deviation."
   ]
  },
  {
   "cell_type": "code",
   "execution_count": 4,
   "id": "730f9b82",
   "metadata": {
    "execution": {
     "iopub.execute_input": "2022-09-01T06:26:44.037447Z",
     "iopub.status.busy": "2022-09-01T06:26:44.036813Z",
     "iopub.status.idle": "2022-09-01T06:38:34.420268Z",
     "shell.execute_reply": "2022-09-01T06:38:34.419383Z"
    },
    "papermill": {
     "duration": 710.401592,
     "end_time": "2022-09-01T06:38:34.422689",
     "exception": false,
     "start_time": "2022-09-01T06:26:44.021097",
     "status": "completed"
    },
    "tags": []
   },
   "outputs": [],
   "source": [
    "engine_original = BacktestEngine(\n",
    "    strategy=Strategy.DELTA_ONE.value,\n",
    "    instrument=all_futures_baltas2020.index,\n",
    "    signal=signal.ParallelSignal([\n",
    "        signal.VolatilityScale(agg_method='rolling', window=21, ann_factor=261, \n",
    "                               target_volatility=0.4, signal_cap=0.95),\n",
    "        signal.TSMOMMoskowitz2012(post_process=processing.AsFreq(freq='m', method='pad'))\n",
    "    ], weighting='product'),\n",
    "    weighting=Weighting.EQUAL_WEIGHT.value,\n",
    "    log_level=logging.WARN,\n",
    ")\n",
    "engine_original.run()"
   ]
  },
  {
   "cell_type": "code",
   "execution_count": 5,
   "id": "40012ff3",
   "metadata": {
    "execution": {
     "iopub.execute_input": "2022-09-01T06:38:34.447040Z",
     "iopub.status.busy": "2022-09-01T06:38:34.446772Z",
     "iopub.status.idle": "2022-09-01T06:40:05.873288Z",
     "shell.execute_reply": "2022-09-01T06:40:05.872467Z"
    },
    "papermill": {
     "duration": 91.4409,
     "end_time": "2022-09-01T06:40:05.875250",
     "exception": false,
     "start_time": "2022-09-01T06:38:34.434350",
     "status": "completed"
    },
    "tags": []
   },
   "outputs": [],
   "source": [
    "engine_original_eq = (engine_original.calculate_equity_curve(calculate_net=False, rebalance_freq='m')\n",
    "                      .rename('Trend-following portfolio (Moskowitz 2012)'))"
   ]
  },
  {
   "cell_type": "code",
   "execution_count": 6,
   "id": "526aec56",
   "metadata": {
    "execution": {
     "iopub.execute_input": "2022-09-01T06:40:05.899711Z",
     "iopub.status.busy": "2022-09-01T06:40:05.898932Z",
     "iopub.status.idle": "2022-09-01T06:40:06.815534Z",
     "shell.execute_reply": "2022-09-01T06:40:06.814646Z"
    },
    "papermill": {
     "duration": 0.931564,
     "end_time": "2022-09-01T06:40:06.818087",
     "exception": false,
     "start_time": "2022-09-01T06:40:05.886523",
     "status": "completed"
    },
    "tags": []
   },
   "outputs": [
    {
     "data": {
      "image/png": "[encoded data removed]",
      "text/plain": [
       "<Figure size 576x324 with 1 Axes>"
      ]
     },
     "metadata": {
      "needs_background": "light"
     },
     "output_type": "display_data"
    }
   ],
   "source": [
    "fig, ax = plt.subplots(figsize=(8, 4.5))\n",
    "engine_original_eq.plot(ax=ax, logy=True)\n",
    "ax.set_title('Trend-following portfolio (Moskowitz 2012)')\n",
    "ax.set_ylabel('Cumulative returns');"
   ]
  },
  {
   "cell_type": "code",
   "execution_count": 7,
   "id": "ae9b526c",
   "metadata": {
    "execution": {
     "iopub.execute_input": "2022-09-01T06:40:06.854167Z",
     "iopub.status.busy": "2022-09-01T06:40:06.853661Z",
     "iopub.status.idle": "2022-09-01T06:40:06.986935Z",
     "shell.execute_reply": "2022-09-01T06:40:06.986199Z"
    },
    "papermill": {
     "duration": 0.153206,
     "end_time": "2022-09-01T06:40:06.988737",
     "exception": false,
     "start_time": "2022-09-01T06:40:06.835531",
     "status": "completed"
    },
    "tags": []
   },
   "outputs": [
    {
     "data": {
      "text/html": [
       "<div>\n",
       "<style scoped>\n",
       "    .dataframe tbody tr th:only-of-type {\n",
       "        vertical-align: middle;\n",
       "    }\n",
       "\n",
       "    .dataframe tbody tr th {\n",
       "        vertical-align: top;\n",
       "    }\n",
       "\n",
       "    .dataframe thead th {\n",
       "        text-align: right;\n",
       "    }\n",
       "</style>\n",
       "<table border=\"1\" class=\"dataframe\">\n",
       "  <thead>\n",
       "    <tr style=\"text-align: right;\">\n",
       "      <th></th>\n",
       "      <th>Trend-following portfolio (Moskowitz 2012)</th>\n",
       "    </tr>\n",
       "  </thead>\n",
       "  <tbody>\n",
       "    <tr>\n",
       "      <th>CAGR</th>\n",
       "      <td>0.148207</td>\n",
       "    </tr>\n",
       "    <tr>\n",
       "      <th>Annualised vol</th>\n",
       "      <td>0.124997</td>\n",
       "    </tr>\n",
       "    <tr>\n",
       "      <th>Sharpe ratio</th>\n",
       "      <td>1.185687</td>\n",
       "    </tr>\n",
       "    <tr>\n",
       "      <th>Max drawdown</th>\n",
       "      <td>0.259239</td>\n",
       "    </tr>\n",
       "    <tr>\n",
       "      <th>Calmar ratio</th>\n",
       "      <td>0.571699</td>\n",
       "    </tr>\n",
       "    <tr>\n",
       "      <th>Skewness</th>\n",
       "      <td>0.073416</td>\n",
       "    </tr>\n",
       "    <tr>\n",
       "      <th>Kurtosis</th>\n",
       "      <td>19.317092</td>\n",
       "    </tr>\n",
       "    <tr>\n",
       "      <th>Worst return</th>\n",
       "      <td>-0.126276</td>\n",
       "    </tr>\n",
       "    <tr>\n",
       "      <th>Worst 1d return</th>\n",
       "      <td>-0.126276</td>\n",
       "    </tr>\n",
       "    <tr>\n",
       "      <th>Worst 1w return</th>\n",
       "      <td>-0.107725</td>\n",
       "    </tr>\n",
       "    <tr>\n",
       "      <th>Worst 1m return</th>\n",
       "      <td>-0.152667</td>\n",
       "    </tr>\n",
       "  </tbody>\n",
       "</table>\n",
       "</div>"
      ],
      "text/plain": [
       "                 Trend-following portfolio (Moskowitz 2012)\n",
       "CAGR                                               0.148207\n",
       "Annualised vol                                     0.124997\n",
       "Sharpe ratio                                       1.185687\n",
       "Max drawdown                                       0.259239\n",
       "Calmar ratio                                       0.571699\n",
       "Skewness                                           0.073416\n",
       "Kurtosis                                          19.317092\n",
       "Worst return                                      -0.126276\n",
       "Worst 1d return                                   -0.126276\n",
       "Worst 1w return                                   -0.107725\n",
       "Worst 1m return                                   -0.152667"
      ]
     },
     "execution_count": 7,
     "metadata": {},
     "output_type": "execute_result"
    }
   ],
   "source": [
    "engine_original_eq.pipe(Performance).summary()"
   ]
  },
  {
   "cell_type": "markdown",
   "id": "c0512c56",
   "metadata": {
    "papermill": {
     "duration": 0.010953,
     "end_time": "2022-09-01T06:40:07.010201",
     "exception": false,
     "start_time": "2022-09-01T06:40:06.999248",
     "status": "completed"
    },
    "tags": []
   },
   "source": [
    "\n",
    "## Volatility estimator\n",
    "BK2020 proposes a few changes in order to enhance the original trend-following strategy Moskowitz et al reported. The first thing is to use a more sophisticated realised volatility estimators for volatility scaling. Moskowitz used the exponentially weighted standard deviation with close-to-close. On the other hand, BK2020 suggests to use Yang-Zhang estimator as it is much more efficient."
   ]
  },
  {
   "cell_type": "code",
   "execution_count": 8,
   "id": "6f654ab1",
   "metadata": {
    "ExecuteTime": {
     "end_time": "2020-08-30T21:18:24.661167Z",
     "start_time": "2020-08-30T21:08:49.544232Z"
    },
    "execution": {
     "iopub.execute_input": "2022-09-01T06:40:07.033979Z",
     "iopub.status.busy": "2022-09-01T06:40:07.033590Z",
     "iopub.status.idle": "2022-09-01T07:01:27.707917Z",
     "shell.execute_reply": "2022-09-01T07:01:27.707153Z"
    },
    "papermill": {
     "duration": 1280.688299,
     "end_time": "2022-09-01T07:01:27.709866",
     "exception": false,
     "start_time": "2022-09-01T06:40:07.021567",
     "status": "completed"
    },
    "tags": []
   },
   "outputs": [],
   "source": [
    "engine_vol = BacktestEngine(\n",
    "    strategy=Strategy.DELTA_ONE.value,\n",
    "    instrument=all_futures_baltas2020.index,\n",
    "    signal=signal.ParallelSignal([\n",
    "        signal.VolatilityScale(volatility_type=RealisedVolatility.YZ.value,\n",
    "                               agg_method='rolling', window=21, min_periods=10,\n",
    "                               target_volatility=0.4, signal_cap=0.95, ann_factor=261),\n",
    "        signal.TSMOMMoskowitz2012(post_process=processing.AsFreq(freq='m', method='pad'))\n",
    "    ], weighting='product'),\n",
    "    weighting=Weighting.EQUAL_WEIGHT.value,\n",
    "    log_level=logging.WARN,\n",
    ")\n",
    "engine_vol.run()"
   ]
  },
  {
   "cell_type": "code",
   "execution_count": 9,
   "id": "c0425b70",
   "metadata": {
    "execution": {
     "iopub.execute_input": "2022-09-01T07:01:27.732696Z",
     "iopub.status.busy": "2022-09-01T07:01:27.732388Z",
     "iopub.status.idle": "2022-09-01T07:02:54.811829Z",
     "shell.execute_reply": "2022-09-01T07:02:54.811001Z"
    },
    "papermill": {
     "duration": 87.093146,
     "end_time": "2022-09-01T07:02:54.813859",
     "exception": false,
     "start_time": "2022-09-01T07:01:27.720713",
     "status": "completed"
    },
    "tags": []
   },
   "outputs": [],
   "source": [
    "engine_vol_eq = (engine_vol.calculate_equity_curve(calculate_net=False, rebalance_freq='m')\n",
    "                 .rename('Trend-following portfolio (YZ estimator)'))"
   ]
  },
  {
   "cell_type": "code",
   "execution_count": 10,
   "id": "0eb6764e",
   "metadata": {
    "execution": {
     "iopub.execute_input": "2022-09-01T07:02:54.837806Z",
     "iopub.status.busy": "2022-09-01T07:02:54.837308Z",
     "iopub.status.idle": "2022-09-01T07:02:55.490827Z",
     "shell.execute_reply": "2022-09-01T07:02:55.489987Z"
    },
    "papermill": {
     "duration": 0.667312,
     "end_time": "2022-09-01T07:02:55.492594",
     "exception": false,
     "start_time": "2022-09-01T07:02:54.825282",
     "status": "completed"
    },
    "tags": []
   },
   "outputs": [
    {
     "data": {
      "image/png": "[encoded data removed]",
      "text/plain": [
       "<Figure size 576x324 with 1 Axes>"
      ]
     },
     "metadata": {
      "needs_background": "light"
     },
     "output_type": "display_data"
    }
   ],
   "source": [
    "fig, ax = plt.subplots(figsize=(8, 4.5))\n",
    "engine_vol_eq.plot(ax=ax, logy=True);\n",
    "ax.set_title('Trend-following portfolio (YZ estimator)')\n",
    "ax.set_ylabel('Cumulative returns');"
   ]
  },
  {
   "cell_type": "code",
   "execution_count": 11,
   "id": "381c9d9c",
   "metadata": {
    "execution": {
     "iopub.execute_input": "2022-09-01T07:02:55.517526Z",
     "iopub.status.busy": "2022-09-01T07:02:55.517214Z",
     "iopub.status.idle": "2022-09-01T07:02:55.607222Z",
     "shell.execute_reply": "2022-09-01T07:02:55.606417Z"
    },
    "papermill": {
     "duration": 0.1054,
     "end_time": "2022-09-01T07:02:55.609377",
     "exception": false,
     "start_time": "2022-09-01T07:02:55.503977",
     "status": "completed"
    },
    "tags": []
   },
   "outputs": [
    {
     "data": {
      "text/html": [
       "<div>\n",
       "<style scoped>\n",
       "    .dataframe tbody tr th:only-of-type {\n",
       "        vertical-align: middle;\n",
       "    }\n",
       "\n",
       "    .dataframe tbody tr th {\n",
       "        vertical-align: top;\n",
       "    }\n",
       "\n",
       "    .dataframe thead th {\n",
       "        text-align: right;\n",
       "    }\n",
       "</style>\n",
       "<table border=\"1\" class=\"dataframe\">\n",
       "  <thead>\n",
       "    <tr style=\"text-align: right;\">\n",
       "      <th></th>\n",
       "      <th>Trend-following portfolio (YZ estimator)</th>\n",
       "    </tr>\n",
       "  </thead>\n",
       "  <tbody>\n",
       "    <tr>\n",
       "      <th>CAGR</th>\n",
       "      <td>0.149884</td>\n",
       "    </tr>\n",
       "    <tr>\n",
       "      <th>Annualised vol</th>\n",
       "      <td>0.127283</td>\n",
       "    </tr>\n",
       "    <tr>\n",
       "      <th>Sharpe ratio</th>\n",
       "      <td>1.177568</td>\n",
       "    </tr>\n",
       "    <tr>\n",
       "      <th>Max drawdown</th>\n",
       "      <td>0.305877</td>\n",
       "    </tr>\n",
       "    <tr>\n",
       "      <th>Calmar ratio</th>\n",
       "      <td>0.490015</td>\n",
       "    </tr>\n",
       "    <tr>\n",
       "      <th>Skewness</th>\n",
       "      <td>0.280284</td>\n",
       "    </tr>\n",
       "    <tr>\n",
       "      <th>Kurtosis</th>\n",
       "      <td>22.097468</td>\n",
       "    </tr>\n",
       "    <tr>\n",
       "      <th>Worst return</th>\n",
       "      <td>-0.137043</td>\n",
       "    </tr>\n",
       "    <tr>\n",
       "      <th>Worst 1d return</th>\n",
       "      <td>-0.137043</td>\n",
       "    </tr>\n",
       "    <tr>\n",
       "      <th>Worst 1w return</th>\n",
       "      <td>-0.098542</td>\n",
       "    </tr>\n",
       "    <tr>\n",
       "      <th>Worst 1m return</th>\n",
       "      <td>-0.169177</td>\n",
       "    </tr>\n",
       "  </tbody>\n",
       "</table>\n",
       "</div>"
      ],
      "text/plain": [
       "                 Trend-following portfolio (YZ estimator)\n",
       "CAGR                                             0.149884\n",
       "Annualised vol                                   0.127283\n",
       "Sharpe ratio                                     1.177568\n",
       "Max drawdown                                     0.305877\n",
       "Calmar ratio                                     0.490015\n",
       "Skewness                                         0.280284\n",
       "Kurtosis                                        22.097468\n",
       "Worst return                                    -0.137043\n",
       "Worst 1d return                                 -0.137043\n",
       "Worst 1w return                                 -0.098542\n",
       "Worst 1m return                                 -0.169177"
      ]
     },
     "execution_count": 11,
     "metadata": {},
     "output_type": "execute_result"
    }
   ],
   "source": [
    "engine_vol_eq.pipe(Performance).summary()"
   ]
  },
  {
   "cell_type": "markdown",
   "id": "caf7c19f",
   "metadata": {
    "papermill": {
     "duration": 0.011827,
     "end_time": "2022-09-01T07:02:55.633128",
     "exception": false,
     "start_time": "2022-09-01T07:02:55.621301",
     "status": "completed"
    },
    "tags": []
   },
   "source": [
    "## TREND signal\n",
    "\n",
    "Another improvement BK2020 proposes is to use a continuous signal rather than a binary one in order to reduce the turnover when signals are weak. Specifically they used the t-values with the Newey-West standard error as the signal. They further capped and floored the signal between -1 and +1 to avoid extreme positions.\n",
    "\n",
    "`statsmodels`'s `OLS` class provides a method to compute the Newey-West standard error. https://www.statsmodels.org/stable/generated/statsmodels.regression.linear_model.OLS.html"
   ]
  },
  {
   "cell_type": "code",
   "execution_count": 12,
   "id": "56a15461",
   "metadata": {
    "execution": {
     "iopub.execute_input": "2022-09-01T07:02:55.657942Z",
     "iopub.status.busy": "2022-09-01T07:02:55.657605Z",
     "iopub.status.idle": "2022-09-01T07:20:51.715412Z",
     "shell.execute_reply": "2022-09-01T07:20:51.714583Z"
    },
    "papermill": {
     "duration": 1076.073004,
     "end_time": "2022-09-01T07:20:51.718089",
     "exception": false,
     "start_time": "2022-09-01T07:02:55.645085",
     "status": "completed"
    },
    "tags": []
   },
   "outputs": [],
   "source": [
    "engine_trend = BacktestEngine(\n",
    "    strategy=Strategy.DELTA_ONE.value,\n",
    "    instrument=all_futures_baltas2020.index,\n",
    "    signal=signal.ParallelSignal([\n",
    "        signal.VolatilityScale(agg_method='rolling', window=21, ann_factor=261, \n",
    "                               target_volatility=0.4, signal_cap=0.95),\n",
    "        signal.TSMOMBaltas2020()\n",
    "    ], weighting='product'),\n",
    "    weighting=Weighting.EQUAL_WEIGHT.value,\n",
    "    log_level=logging.WARN,\n",
    ")\n",
    "engine_trend.run()"
   ]
  },
  {
   "cell_type": "code",
   "execution_count": 13,
   "id": "fb30f0d9",
   "metadata": {
    "execution": {
     "iopub.execute_input": "2022-09-01T07:20:51.751961Z",
     "iopub.status.busy": "2022-09-01T07:20:51.751694Z",
     "iopub.status.idle": "2022-09-01T07:22:17.286637Z",
     "shell.execute_reply": "2022-09-01T07:22:17.285910Z"
    },
    "papermill": {
     "duration": 85.553454,
     "end_time": "2022-09-01T07:22:17.288514",
     "exception": false,
     "start_time": "2022-09-01T07:20:51.735060",
     "status": "completed"
    },
    "tags": []
   },
   "outputs": [],
   "source": [
    "engine_trend_eq = (engine_trend.calculate_equity_curve(calculate_net=False, rebalance_freq='m')\n",
    "                   .rename('Trend-following portfolio (TREND signal)'))"
   ]
  },
  {
   "cell_type": "code",
   "execution_count": 14,
   "id": "159a5899",
   "metadata": {
    "execution": {
     "iopub.execute_input": "2022-09-01T07:22:17.313291Z",
     "iopub.status.busy": "2022-09-01T07:22:17.313030Z",
     "iopub.status.idle": "2022-09-01T07:22:17.867203Z",
     "shell.execute_reply": "2022-09-01T07:22:17.866535Z"
    },
    "papermill": {
     "duration": 0.568,
     "end_time": "2022-09-01T07:22:17.868875",
     "exception": false,
     "start_time": "2022-09-01T07:22:17.300875",
     "status": "completed"
    },
    "tags": []
   },
   "outputs": [
    {
     "data": {
      "image/png": "[encoded data removed]",
      "text/plain": [
       "<Figure size 576x324 with 1 Axes>"
      ]
     },
     "metadata": {
      "needs_background": "light"
     },
     "output_type": "display_data"
    }
   ],
   "source": [
    "fig, ax = plt.subplots(figsize=(8, 4.5))\n",
    "engine_trend_eq.plot(ax=ax, logy=True);\n",
    "ax.set_title('Trend-following portfolio (TREND signal)')\n",
    "ax.set_ylabel('Cumulative returns');"
   ]
  },
  {
   "cell_type": "code",
   "execution_count": 15,
   "id": "022a9517",
   "metadata": {
    "execution": {
     "iopub.execute_input": "2022-09-01T07:22:17.892631Z",
     "iopub.status.busy": "2022-09-01T07:22:17.892358Z",
     "iopub.status.idle": "2022-09-01T07:22:17.972200Z",
     "shell.execute_reply": "2022-09-01T07:22:17.971542Z"
    },
    "papermill": {
     "duration": 0.093726,
     "end_time": "2022-09-01T07:22:17.973889",
     "exception": false,
     "start_time": "2022-09-01T07:22:17.880163",
     "status": "completed"
    },
    "tags": []
   },
   "outputs": [
    {
     "data": {
      "text/html": [
       "<div>\n",
       "<style scoped>\n",
       "    .dataframe tbody tr th:only-of-type {\n",
       "        vertical-align: middle;\n",
       "    }\n",
       "\n",
       "    .dataframe tbody tr th {\n",
       "        vertical-align: top;\n",
       "    }\n",
       "\n",
       "    .dataframe thead th {\n",
       "        text-align: right;\n",
       "    }\n",
       "</style>\n",
       "<table border=\"1\" class=\"dataframe\">\n",
       "  <thead>\n",
       "    <tr style=\"text-align: right;\">\n",
       "      <th></th>\n",
       "      <th>Trend-following portfolio (TREND signal)</th>\n",
       "    </tr>\n",
       "  </thead>\n",
       "  <tbody>\n",
       "    <tr>\n",
       "      <th>CAGR</th>\n",
       "      <td>0.140004</td>\n",
       "    </tr>\n",
       "    <tr>\n",
       "      <th>Annualised vol</th>\n",
       "      <td>0.107936</td>\n",
       "    </tr>\n",
       "    <tr>\n",
       "      <th>Sharpe ratio</th>\n",
       "      <td>1.297103</td>\n",
       "    </tr>\n",
       "    <tr>\n",
       "      <th>Max drawdown</th>\n",
       "      <td>0.294584</td>\n",
       "    </tr>\n",
       "    <tr>\n",
       "      <th>Calmar ratio</th>\n",
       "      <td>0.475260</td>\n",
       "    </tr>\n",
       "    <tr>\n",
       "      <th>Skewness</th>\n",
       "      <td>0.158740</td>\n",
       "    </tr>\n",
       "    <tr>\n",
       "      <th>Kurtosis</th>\n",
       "      <td>27.988954</td>\n",
       "    </tr>\n",
       "    <tr>\n",
       "      <th>Worst return</th>\n",
       "      <td>-0.121269</td>\n",
       "    </tr>\n",
       "    <tr>\n",
       "      <th>Worst 1d return</th>\n",
       "      <td>-0.121269</td>\n",
       "    </tr>\n",
       "    <tr>\n",
       "      <th>Worst 1w return</th>\n",
       "      <td>-0.110077</td>\n",
       "    </tr>\n",
       "    <tr>\n",
       "      <th>Worst 1m return</th>\n",
       "      <td>-0.171789</td>\n",
       "    </tr>\n",
       "  </tbody>\n",
       "</table>\n",
       "</div>"
      ],
      "text/plain": [
       "                 Trend-following portfolio (TREND signal)\n",
       "CAGR                                             0.140004\n",
       "Annualised vol                                   0.107936\n",
       "Sharpe ratio                                     1.297103\n",
       "Max drawdown                                     0.294584\n",
       "Calmar ratio                                     0.475260\n",
       "Skewness                                         0.158740\n",
       "Kurtosis                                        27.988954\n",
       "Worst return                                    -0.121269\n",
       "Worst 1d return                                 -0.121269\n",
       "Worst 1w return                                 -0.110077\n",
       "Worst 1m return                                 -0.171789"
      ]
     },
     "execution_count": 15,
     "metadata": {},
     "output_type": "execute_result"
    }
   ],
   "source": [
    "engine_trend_eq.pipe(Performance).summary()"
   ]
  },
  {
   "cell_type": "markdown",
   "id": "2f893dae",
   "metadata": {
    "papermill": {
     "duration": 0.01152,
     "end_time": "2022-09-01T07:22:17.996857",
     "exception": false,
     "start_time": "2022-09-01T07:22:17.985337",
     "status": "completed"
    },
    "tags": []
   },
   "source": [
    "## Combined\n",
    "\n",
    "Finally we run a backtest by using both the Yang-Zhang volatility estimator and the TREND signal."
   ]
  },
  {
   "cell_type": "code",
   "execution_count": 16,
   "id": "6cf2ec19",
   "metadata": {
    "execution": {
     "iopub.execute_input": "2022-09-01T07:22:18.021800Z",
     "iopub.status.busy": "2022-09-01T07:22:18.021531Z",
     "iopub.status.idle": "2022-09-01T07:48:14.574119Z",
     "shell.execute_reply": "2022-09-01T07:48:14.573288Z"
    },
    "papermill": {
     "duration": 1556.567142,
     "end_time": "2022-09-01T07:48:14.576149",
     "exception": false,
     "start_time": "2022-09-01T07:22:18.009007",
     "status": "completed"
    },
    "tags": []
   },
   "outputs": [],
   "source": [
    "engine_combined = BacktestEngine(\n",
    "    strategy=Strategy.DELTA_ONE.value,\n",
    "    instrument=all_futures_baltas2020.index,\n",
    "    signal=signal.ParallelSignal([\n",
    "        signal.VolatilityScale(volatility_type=RealisedVolatility.YZ.value,\n",
    "                               agg_method='rolling', window=21, min_periods=10,\n",
    "                               target_volatility=0.4, signal_cap=0.95, ann_factor=261),\n",
    "        signal.TSMOMBaltas2020()\n",
    "    ], weighting='product'),\n",
    "    weighting=Weighting.EQUAL_WEIGHT.value,\n",
    "    log_level=logging.WARN,\n",
    ")\n",
    "engine_combined.run()"
   ]
  },
  {
   "cell_type": "code",
   "execution_count": 17,
   "id": "53934237",
   "metadata": {
    "execution": {
     "iopub.execute_input": "2022-09-01T07:48:14.601330Z",
     "iopub.status.busy": "2022-09-01T07:48:14.601067Z",
     "iopub.status.idle": "2022-09-01T07:49:36.270011Z",
     "shell.execute_reply": "2022-09-01T07:49:36.268994Z"
    },
    "papermill": {
     "duration": 81.683255,
     "end_time": "2022-09-01T07:49:36.271903",
     "exception": false,
     "start_time": "2022-09-01T07:48:14.588648",
     "status": "completed"
    },
    "tags": []
   },
   "outputs": [],
   "source": [
    "engine_combined_eq = (engine_combined.calculate_equity_curve(calculate_net=False, rebalance_freq='m')\n",
    "                      .rename('Trend-following portfolio (YZ estimator + TREND signal)'))"
   ]
  },
  {
   "cell_type": "code",
   "execution_count": 18,
   "id": "3f7edabe",
   "metadata": {
    "execution": {
     "iopub.execute_input": "2022-09-01T07:49:36.296385Z",
     "iopub.status.busy": "2022-09-01T07:49:36.296129Z",
     "iopub.status.idle": "2022-09-01T07:49:36.874355Z",
     "shell.execute_reply": "2022-09-01T07:49:36.873604Z"
    },
    "papermill": {
     "duration": 0.592447,
     "end_time": "2022-09-01T07:49:36.876141",
     "exception": false,
     "start_time": "2022-09-01T07:49:36.283694",
     "status": "completed"
    },
    "tags": []
   },
   "outputs": [
    {
     "data": {
      "image/png": "[encoded data removed]",
      "text/plain": [
       "<Figure size 576x324 with 1 Axes>"
      ]
     },
     "metadata": {
      "needs_background": "light"
     },
     "output_type": "display_data"
    }
   ],
   "source": [
    "fig, ax = plt.subplots(figsize=(8, 4.5))\n",
    "engine_combined_eq.plot(ax=ax, logy=True)\n",
    "ax.set_title('Trend-following portfolio (YZ estimator + TREND signal)')\n",
    "ax.set_ylabel('Cumulative returns');"
   ]
  },
  {
   "cell_type": "code",
   "execution_count": 19,
   "id": "3aae84b5",
   "metadata": {
    "execution": {
     "iopub.execute_input": "2022-09-01T07:49:36.917652Z",
     "iopub.status.busy": "2022-09-01T07:49:36.917336Z",
     "iopub.status.idle": "2022-09-01T07:49:36.998051Z",
     "shell.execute_reply": "2022-09-01T07:49:36.997307Z"
    },
    "papermill": {
     "duration": 0.111533,
     "end_time": "2022-09-01T07:49:36.999690",
     "exception": false,
     "start_time": "2022-09-01T07:49:36.888157",
     "status": "completed"
    },
    "tags": []
   },
   "outputs": [
    {
     "data": {
      "text/html": [
       "<div>\n",
       "<style scoped>\n",
       "    .dataframe tbody tr th:only-of-type {\n",
       "        vertical-align: middle;\n",
       "    }\n",
       "\n",
       "    .dataframe tbody tr th {\n",
       "        vertical-align: top;\n",
       "    }\n",
       "\n",
       "    .dataframe thead th {\n",
       "        text-align: right;\n",
       "    }\n",
       "</style>\n",
       "<table border=\"1\" class=\"dataframe\">\n",
       "  <thead>\n",
       "    <tr style=\"text-align: right;\">\n",
       "      <th></th>\n",
       "      <th>Trend-following portfolio (YZ estimator + TREND signal)</th>\n",
       "    </tr>\n",
       "  </thead>\n",
       "  <tbody>\n",
       "    <tr>\n",
       "      <th>CAGR</th>\n",
       "      <td>0.140489</td>\n",
       "    </tr>\n",
       "    <tr>\n",
       "      <th>Annualised vol</th>\n",
       "      <td>0.110669</td>\n",
       "    </tr>\n",
       "    <tr>\n",
       "      <th>Sharpe ratio</th>\n",
       "      <td>1.269450</td>\n",
       "    </tr>\n",
       "    <tr>\n",
       "      <th>Max drawdown</th>\n",
       "      <td>0.313945</td>\n",
       "    </tr>\n",
       "    <tr>\n",
       "      <th>Calmar ratio</th>\n",
       "      <td>0.447495</td>\n",
       "    </tr>\n",
       "    <tr>\n",
       "      <th>Skewness</th>\n",
       "      <td>0.292137</td>\n",
       "    </tr>\n",
       "    <tr>\n",
       "      <th>Kurtosis</th>\n",
       "      <td>32.508822</td>\n",
       "    </tr>\n",
       "    <tr>\n",
       "      <th>Worst return</th>\n",
       "      <td>-0.130152</td>\n",
       "    </tr>\n",
       "    <tr>\n",
       "      <th>Worst 1d return</th>\n",
       "      <td>-0.130152</td>\n",
       "    </tr>\n",
       "    <tr>\n",
       "      <th>Worst 1w return</th>\n",
       "      <td>-0.112097</td>\n",
       "    </tr>\n",
       "    <tr>\n",
       "      <th>Worst 1m return</th>\n",
       "      <td>-0.186272</td>\n",
       "    </tr>\n",
       "  </tbody>\n",
       "</table>\n",
       "</div>"
      ],
      "text/plain": [
       "                 Trend-following portfolio (YZ estimator + TREND signal)\n",
       "CAGR                                                      0.140489      \n",
       "Annualised vol                                            0.110669      \n",
       "Sharpe ratio                                              1.269450      \n",
       "Max drawdown                                              0.313945      \n",
       "Calmar ratio                                              0.447495      \n",
       "Skewness                                                  0.292137      \n",
       "Kurtosis                                                 32.508822      \n",
       "Worst return                                             -0.130152      \n",
       "Worst 1d return                                          -0.130152      \n",
       "Worst 1w return                                          -0.112097      \n",
       "Worst 1m return                                          -0.186272      "
      ]
     },
     "execution_count": 19,
     "metadata": {},
     "output_type": "execute_result"
    }
   ],
   "source": [
    "engine_combined_eq.pipe(Performance).summary()"
   ]
  },
  {
   "cell_type": "markdown",
   "id": "94f37e6e",
   "metadata": {
    "papermill": {
     "duration": 0.012019,
     "end_time": "2022-09-01T07:49:37.024592",
     "exception": false,
     "start_time": "2022-09-01T07:49:37.012573",
     "status": "completed"
    },
    "tags": []
   },
   "source": [
    "# Comparison\n",
    "\n",
    "In this section we compare the above 4 backtests."
   ]
  },
  {
   "cell_type": "markdown",
   "id": "aaa7645c",
   "metadata": {
    "papermill": {
     "duration": 0.012359,
     "end_time": "2022-09-01T07:49:37.048898",
     "exception": false,
     "start_time": "2022-09-01T07:49:37.036539",
     "status": "completed"
    },
    "tags": []
   },
   "source": [
    "## Performance\n",
    "\n",
    "As reported in BK2020, using the YZ estimator and TREND signal does not alter the performance characteristics. Rather, the TREND signal somewhat improves the Sharpe ratio. Also the TREND signal lowers the annualised volatility from 12.5% to 10.8% with the close-to-close realised volatility."
   ]
  },
  {
   "cell_type": "code",
   "execution_count": 20,
   "id": "31e2abb0",
   "metadata": {
    "execution": {
     "iopub.execute_input": "2022-09-01T07:49:37.074211Z",
     "iopub.status.busy": "2022-09-01T07:49:37.073892Z",
     "iopub.status.idle": "2022-09-01T07:49:37.086596Z",
     "shell.execute_reply": "2022-09-01T07:49:37.085963Z"
    },
    "papermill": {
     "duration": 0.027604,
     "end_time": "2022-09-01T07:49:37.088436",
     "exception": false,
     "start_time": "2022-09-01T07:49:37.060832",
     "status": "completed"
    },
    "tags": []
   },
   "outputs": [],
   "source": [
    "performance_comp = pd.concat((engine_original_eq, engine_vol_eq, \n",
    "                              engine_trend_eq, engine_combined_eq), axis=1)"
   ]
  },
  {
   "cell_type": "code",
   "execution_count": 21,
   "id": "4a404772",
   "metadata": {
    "execution": {
     "iopub.execute_input": "2022-09-01T07:49:37.113824Z",
     "iopub.status.busy": "2022-09-01T07:49:37.113514Z",
     "iopub.status.idle": "2022-09-01T07:49:37.880183Z",
     "shell.execute_reply": "2022-09-01T07:49:37.879470Z"
    },
    "papermill": {
     "duration": 0.781508,
     "end_time": "2022-09-01T07:49:37.881937",
     "exception": false,
     "start_time": "2022-09-01T07:49:37.100429",
     "status": "completed"
    },
    "tags": []
   },
   "outputs": [
    {
     "data": {
      "image/png": "[encoded data removed]",
      "text/plain": [
       "<Figure size 576x324 with 1 Axes>"
      ]
     },
     "metadata": {
      "needs_background": "light"
     },
     "output_type": "display_data"
    }
   ],
   "source": [
    "fig, ax = plt.subplots(figsize=(8, 4.5))\n",
    "performance_comp.plot(ax=ax, logy=True);\n",
    "ax.set_title('Trend-following portfolio')\n",
    "ax.set_ylabel('Cumulative returns');"
   ]
  },
  {
   "cell_type": "code",
   "execution_count": 22,
   "id": "82ae107c",
   "metadata": {
    "execution": {
     "iopub.execute_input": "2022-09-01T07:49:37.910382Z",
     "iopub.status.busy": "2022-09-01T07:49:37.910066Z",
     "iopub.status.idle": "2022-09-01T07:49:38.005000Z",
     "shell.execute_reply": "2022-09-01T07:49:38.004318Z"
    },
    "papermill": {
     "duration": 0.111561,
     "end_time": "2022-09-01T07:49:38.006611",
     "exception": false,
     "start_time": "2022-09-01T07:49:37.895050",
     "status": "completed"
    },
    "tags": []
   },
   "outputs": [
    {
     "data": {
      "text/html": [
       "<div>\n",
       "<style scoped>\n",
       "    .dataframe tbody tr th:only-of-type {\n",
       "        vertical-align: middle;\n",
       "    }\n",
       "\n",
       "    .dataframe tbody tr th {\n",
       "        vertical-align: top;\n",
       "    }\n",
       "\n",
       "    .dataframe thead th {\n",
       "        text-align: right;\n",
       "    }\n",
       "</style>\n",
       "<table border=\"1\" class=\"dataframe\">\n",
       "  <thead>\n",
       "    <tr style=\"text-align: right;\">\n",
       "      <th></th>\n",
       "      <th>Trend-following portfolio (Moskowitz 2012)</th>\n",
       "      <th>Trend-following portfolio (YZ estimator)</th>\n",
       "      <th>Trend-following portfolio (TREND signal)</th>\n",
       "      <th>Trend-following portfolio (YZ estimator + TREND signal)</th>\n",
       "    </tr>\n",
       "  </thead>\n",
       "  <tbody>\n",
       "    <tr>\n",
       "      <th>CAGR</th>\n",
       "      <td>0.148207</td>\n",
       "      <td>0.149516</td>\n",
       "      <td>0.140004</td>\n",
       "      <td>0.140144</td>\n",
       "    </tr>\n",
       "    <tr>\n",
       "      <th>Annualised vol</th>\n",
       "      <td>0.124997</td>\n",
       "      <td>0.127127</td>\n",
       "      <td>0.107936</td>\n",
       "      <td>0.110534</td>\n",
       "    </tr>\n",
       "    <tr>\n",
       "      <th>Sharpe ratio</th>\n",
       "      <td>1.185687</td>\n",
       "      <td>1.176112</td>\n",
       "      <td>1.297103</td>\n",
       "      <td>1.267878</td>\n",
       "    </tr>\n",
       "    <tr>\n",
       "      <th>Max drawdown</th>\n",
       "      <td>0.259239</td>\n",
       "      <td>0.305877</td>\n",
       "      <td>0.294584</td>\n",
       "      <td>0.313945</td>\n",
       "    </tr>\n",
       "    <tr>\n",
       "      <th>Calmar ratio</th>\n",
       "      <td>0.571699</td>\n",
       "      <td>0.488811</td>\n",
       "      <td>0.475260</td>\n",
       "      <td>0.446396</td>\n",
       "    </tr>\n",
       "    <tr>\n",
       "      <th>Skewness</th>\n",
       "      <td>0.073416</td>\n",
       "      <td>0.281198</td>\n",
       "      <td>0.158740</td>\n",
       "      <td>0.293103</td>\n",
       "    </tr>\n",
       "    <tr>\n",
       "      <th>Kurtosis</th>\n",
       "      <td>19.317092</td>\n",
       "      <td>22.158698</td>\n",
       "      <td>27.988954</td>\n",
       "      <td>32.595238</td>\n",
       "    </tr>\n",
       "    <tr>\n",
       "      <th>Worst return</th>\n",
       "      <td>-0.126276</td>\n",
       "      <td>-0.137043</td>\n",
       "      <td>-0.121269</td>\n",
       "      <td>-0.130152</td>\n",
       "    </tr>\n",
       "    <tr>\n",
       "      <th>Worst 1d return</th>\n",
       "      <td>-0.126276</td>\n",
       "      <td>-0.137043</td>\n",
       "      <td>-0.121269</td>\n",
       "      <td>-0.130152</td>\n",
       "    </tr>\n",
       "    <tr>\n",
       "      <th>Worst 1w return</th>\n",
       "      <td>-0.107725</td>\n",
       "      <td>-0.098542</td>\n",
       "      <td>-0.110077</td>\n",
       "      <td>-0.112097</td>\n",
       "    </tr>\n",
       "    <tr>\n",
       "      <th>Worst 1m return</th>\n",
       "      <td>-0.152667</td>\n",
       "      <td>-0.169177</td>\n",
       "      <td>-0.171789</td>\n",
       "      <td>-0.186272</td>\n",
       "    </tr>\n",
       "  </tbody>\n",
       "</table>\n",
       "</div>"
      ],
      "text/plain": [
       "                 Trend-following portfolio (Moskowitz 2012)  \\\n",
       "CAGR                                               0.148207   \n",
       "Annualised vol                                     0.124997   \n",
       "Sharpe ratio                                       1.185687   \n",
       "Max drawdown                                       0.259239   \n",
       "Calmar ratio                                       0.571699   \n",
       "Skewness                                           0.073416   \n",
       "Kurtosis                                          19.317092   \n",
       "Worst return                                      -0.126276   \n",
       "Worst 1d return                                   -0.126276   \n",
       "Worst 1w return                                   -0.107725   \n",
       "Worst 1m return                                   -0.152667   \n",
       "\n",
       "                 Trend-following portfolio (YZ estimator)  \\\n",
       "CAGR                                             0.149516   \n",
       "Annualised vol                                   0.127127   \n",
       "Sharpe ratio                                     1.176112   \n",
       "Max drawdown                                     0.305877   \n",
       "Calmar ratio                                     0.488811   \n",
       "Skewness                                         0.281198   \n",
       "Kurtosis                                        22.158698   \n",
       "Worst return                                    -0.137043   \n",
       "Worst 1d return                                 -0.137043   \n",
       "Worst 1w return                                 -0.098542   \n",
       "Worst 1m return                                 -0.169177   \n",
       "\n",
       "                 Trend-following portfolio (TREND signal)  \\\n",
       "CAGR                                             0.140004   \n",
       "Annualised vol                                   0.107936   \n",
       "Sharpe ratio                                     1.297103   \n",
       "Max drawdown                                     0.294584   \n",
       "Calmar ratio                                     0.475260   \n",
       "Skewness                                         0.158740   \n",
       "Kurtosis                                        27.988954   \n",
       "Worst return                                    -0.121269   \n",
       "Worst 1d return                                 -0.121269   \n",
       "Worst 1w return                                 -0.110077   \n",
       "Worst 1m return                                 -0.171789   \n",
       "\n",
       "                 Trend-following portfolio (YZ estimator + TREND signal)  \n",
       "CAGR                                                      0.140144        \n",
       "Annualised vol                                            0.110534        \n",
       "Sharpe ratio                                              1.267878        \n",
       "Max drawdown                                              0.313945        \n",
       "Calmar ratio                                              0.446396        \n",
       "Skewness                                                  0.293103        \n",
       "Kurtosis                                                 32.595238        \n",
       "Worst return                                             -0.130152        \n",
       "Worst 1d return                                          -0.130152        \n",
       "Worst 1w return                                          -0.112097        \n",
       "Worst 1m return                                          -0.186272        "
      ]
     },
     "execution_count": 22,
     "metadata": {},
     "output_type": "execute_result"
    }
   ],
   "source": [
    "performance_comp.pipe(Performance).summary()"
   ]
  },
  {
   "cell_type": "markdown",
   "id": "e2b77322",
   "metadata": {
    "papermill": {
     "duration": 0.015034,
     "end_time": "2022-09-01T07:49:38.034513",
     "exception": false,
     "start_time": "2022-09-01T07:49:38.019479",
     "status": "completed"
    },
    "tags": []
   },
   "source": [
    "## Turnover reduction\n",
    "\n",
    "Again, as reported in BK2020, both enhancements reduce the turnover significantly while not affecting the performance. The chart below shows the reduction in turnover for each futures contract. By utilising the YZ realised volatility and the TREND signal, overall the turnover is reduced by more than 30%."
   ]
  },
  {
   "cell_type": "code",
   "execution_count": 23,
   "id": "689c590e",
   "metadata": {
    "execution": {
     "iopub.execute_input": "2022-09-01T07:49:38.065055Z",
     "iopub.status.busy": "2022-09-01T07:49:38.064718Z",
     "iopub.status.idle": "2022-09-01T07:54:54.157248Z",
     "shell.execute_reply": "2022-09-01T07:54:54.156450Z"
    },
    "papermill": {
     "duration": 316.108238,
     "end_time": "2022-09-01T07:54:54.159218",
     "exception": false,
     "start_time": "2022-09-01T07:49:38.050980",
     "status": "completed"
    },
    "tags": []
   },
   "outputs": [],
   "source": [
    "engine_original_pos = engine_original.get_position_by_instrument()\n",
    "engine_vol_pos = engine_vol.get_position_by_instrument()\n",
    "engine_trend_pos = engine_trend.get_position_by_instrument()\n",
    "engine_combined_pos = engine_combined.get_position_by_instrument()"
   ]
  },
  {
   "cell_type": "code",
   "execution_count": 24,
   "id": "e113cf50",
   "metadata": {
    "execution": {
     "iopub.execute_input": "2022-09-01T07:54:54.190710Z",
     "iopub.status.busy": "2022-09-01T07:54:54.190411Z",
     "iopub.status.idle": "2022-09-01T07:54:54.231665Z",
     "shell.execute_reply": "2022-09-01T07:54:54.230873Z"
    },
    "papermill": {
     "duration": 0.060554,
     "end_time": "2022-09-01T07:54:54.233535",
     "exception": false,
     "start_time": "2022-09-01T07:54:54.172981",
     "status": "completed"
    },
    "tags": []
   },
   "outputs": [],
   "source": [
    "engine_original_turnover = (engine_original_pos.diff().abs().mean().mul(261)\n",
    "                            .rename('Trend-following portfolio (Moskowitz 2012)'))\n",
    "engine_vol_turnover = (engine_vol_pos.diff().abs().mean().mul(261)\n",
    "                       .rename('Trend-following portfolio (YZ estimator)'))\n",
    "engine_trend_turnover = (engine_trend_pos.diff().abs().mean().mul(261)\n",
    "                         .rename('Trend-following portfolio (TREND signal)'))\n",
    "engine_combined_turnover = (engine_combined_pos.diff().abs().mean().mul(261)\n",
    "                            .rename('Trend-following portfolio (YZ estimator + TREND signal)'))"
   ]
  },
  {
   "cell_type": "code",
   "execution_count": 25,
   "id": "1e2e56cb",
   "metadata": {
    "execution": {
     "iopub.execute_input": "2022-09-01T07:54:54.261012Z",
     "iopub.status.busy": "2022-09-01T07:54:54.260747Z",
     "iopub.status.idle": "2022-09-01T07:54:54.268109Z",
     "shell.execute_reply": "2022-09-01T07:54:54.267385Z"
    },
    "papermill": {
     "duration": 0.023133,
     "end_time": "2022-09-01T07:54:54.269834",
     "exception": false,
     "start_time": "2022-09-01T07:54:54.246701",
     "status": "completed"
    },
    "tags": []
   },
   "outputs": [],
   "source": [
    "turnover_reduction = (\n",
    "    pd.concat((engine_vol_turnover, engine_trend_turnover, engine_combined_turnover), axis=1)\n",
    "    .div(engine_original_turnover, axis=0)\n",
    "    .sub(1)\n",
    "    .reindex(index=all_futures_baltas2020.index)\n",
    "    .rename(index=all_futures_baltas2020['name'])\n",
    ")"
   ]
  },
  {
   "cell_type": "code",
   "execution_count": 26,
   "id": "03309d2d",
   "metadata": {
    "execution": {
     "iopub.execute_input": "2022-09-01T07:54:54.297004Z",
     "iopub.status.busy": "2022-09-01T07:54:54.296642Z",
     "iopub.status.idle": "2022-09-01T07:54:54.303175Z",
     "shell.execute_reply": "2022-09-01T07:54:54.302453Z"
    },
    "papermill": {
     "duration": 0.022034,
     "end_time": "2022-09-01T07:54:54.304814",
     "exception": false,
     "start_time": "2022-09-01T07:54:54.282780",
     "status": "completed"
    },
    "tags": []
   },
   "outputs": [
    {
     "data": {
      "text/plain": [
       "Trend-following portfolio (YZ estimator)                  -0.181338\n",
       "Trend-following portfolio (TREND signal)                  -0.207282\n",
       "Trend-following portfolio (YZ estimator + TREND signal)   -0.330742\n",
       "dtype: float64"
      ]
     },
     "execution_count": 26,
     "metadata": {},
     "output_type": "execute_result"
    }
   ],
   "source": [
    "turnover_reduction.mean()"
   ]
  },
  {
   "cell_type": "code",
   "execution_count": 27,
   "id": "55fe7aa2",
   "metadata": {
    "execution": {
     "iopub.execute_input": "2022-09-01T07:54:54.332147Z",
     "iopub.status.busy": "2022-09-01T07:54:54.331822Z",
     "iopub.status.idle": "2022-09-01T07:54:55.946215Z",
     "shell.execute_reply": "2022-09-01T07:54:55.945467Z"
    },
    "papermill": {
     "duration": 1.630422,
     "end_time": "2022-09-01T07:54:55.948037",
     "exception": false,
     "start_time": "2022-09-01T07:54:54.317615",
     "status": "completed"
    },
    "tags": []
   },
   "outputs": [
    {
     "data": {
      "image/png": "[encoded data removed]",
      "text/plain": [
       "<Figure size 1008x288 with 1 Axes>"
      ]
     },
     "metadata": {
      "needs_background": "light"
     },
     "output_type": "display_data"
    }
   ],
   "source": [
    "ax = turnover_reduction.plot(kind='bar', figsize=(14, 4))\n",
    "ax.yaxis.set_major_formatter(mticker.PercentFormatter(1))\n",
    "ax.axhline(0, color='black', lw=1)\n",
    "ax.axvline(24.5, color='black', lw=1)\n",
    "ax.axvline(30.5, color='black', lw=1)\n",
    "ax.axvline(42.5, color='black', lw=1)\n",
    "ax.set_xlabel('Contract')\n",
    "ax.set_ylabel('Turnover reduction');"
   ]
  },
  {
   "cell_type": "markdown",
   "id": "b2458e61",
   "metadata": {
    "papermill": {
     "duration": 0.01615,
     "end_time": "2022-09-01T07:54:55.978007",
     "exception": false,
     "start_time": "2022-09-01T07:54:55.961857",
     "status": "completed"
    },
    "tags": []
   },
   "source": [
    "# Recent performance"
   ]
  },
  {
   "cell_type": "code",
   "execution_count": 28,
   "id": "8eb179e0",
   "metadata": {
    "execution": {
     "iopub.execute_input": "2022-09-01T07:54:56.008849Z",
     "iopub.status.busy": "2022-09-01T07:54:56.008453Z",
     "iopub.status.idle": "2022-09-01T07:54:56.483256Z",
     "shell.execute_reply": "2022-09-01T07:54:56.482535Z"
    },
    "papermill": {
     "duration": 0.49167,
     "end_time": "2022-09-01T07:54:56.484806",
     "exception": false,
     "start_time": "2022-09-01T07:54:55.993136",
     "status": "completed"
    },
    "tags": []
   },
   "outputs": [
    {
     "data": {
      "image/png": "[encoded data removed]",
      "text/plain": [
       "<Figure size 576x324 with 1 Axes>"
      ]
     },
     "metadata": {
      "needs_background": "light"
     },
     "output_type": "display_data"
    }
   ],
   "source": [
    "fig, ax = plt.subplots(figsize=(8, 4.5))\n",
    "performance_comp.tail(252 * 2).pct_change().fillna(0).add(1).cumprod().plot(ax=ax, logy=True);\n",
    "ax.set_title('Trend-following portfolio')\n",
    "ax.set_ylabel('Cumulative returns');"
   ]
  },
  {
   "cell_type": "markdown",
   "id": "f5ab0abc",
   "metadata": {
    "papermill": {
     "duration": 0.014249,
     "end_time": "2022-09-01T07:54:56.513471",
     "exception": false,
     "start_time": "2022-09-01T07:54:56.499222",
     "status": "completed"
    },
    "tags": []
   },
   "source": [
    "# Reference\n",
    "\n",
    "- Baltas, N. and Kosowski, R., 2020. Demystifying time-series momentum strategies: Volatility estimators, trading rules and pairwise correlations. Market Momentum: Theory and Practice\", Wiley.\n",
    "- Moskowitz, T.J., Ooi, Y.H. and Pedersen, L.H., 2012. Time series momentum. Journal of financial economics, 104(2), pp.228-250."
   ]
  },
  {
   "cell_type": "code",
   "execution_count": 29,
   "id": "d83070b3",
   "metadata": {
    "ExecuteTime": {
     "end_time": "2020-08-30T21:20:32.431574Z",
     "start_time": "2020-08-30T21:20:32.429370Z"
    },
    "execution": {
     "iopub.execute_input": "2022-09-01T07:54:56.543585Z",
     "iopub.status.busy": "2022-09-01T07:54:56.543309Z",
     "iopub.status.idle": "2022-09-01T07:54:56.547167Z",
     "shell.execute_reply": "2022-09-01T07:54:56.546495Z"
    },
    "papermill": {
     "duration": 0.020823,
     "end_time": "2022-09-01T07:54:56.548756",
     "exception": false,
     "start_time": "2022-09-01T07:54:56.527933",
     "status": "completed"
    },
    "tags": []
   },
   "outputs": [
    {
     "name": "stdout",
     "output_type": "stream",
     "text": [
      "Updated: 01-Sep-2022 07:54\n"
     ]
    }
   ],
   "source": [
    "print(f'Updated: {datetime.utcnow():%d-%b-%Y %H:%M}')"
   ]
  }
 ],
 "metadata": {
  "hide_input": false,
  "kernelspec": {
   "display_name": "Python 3",
   "language": "python",
   "name": "python3"
  },
  "language_info": {
   "codemirror_mode": {
    "name": "ipython",
    "version": 3
   },
   "file_extension": ".py",
   "mimetype": "text/x-python",
   "name": "python",
   "nbconvert_exporter": "python",
   "pygments_lexer": "ipython3",
   "version": "3.9.6"
  },
  "nav_menu": {},
  "papermill": {
   "duration": 5301.576586,
   "end_time": "2022-09-01T07:54:59.592833",
   "environment_variables": {},
   "exception": null,
   "input_path": "notebooks/papermill/trend_following_baltas2020.ipynb",
   "output_path": "notebooks/trend_following_baltas2020.ipynb",
   "parameters": {},
   "start_time": "2022-09-01T06:26:38.016247",
   "version": "2.1.3"
  },
  "toc": {
   "base_numbering": 1,
   "nav_menu": {},
   "number_sections": true,
   "sideBar": true,
   "skip_h1_title": false,
   "title_cell": "Table of Contents",
   "title_sidebar": "Contents",
   "toc_cell": true,
   "toc_position": {
    "height": "calc(100% - 180px)",
    "left": "10px",
    "top": "150px",
    "width": "165px"
   },
   "toc_section_display": "block",
   "toc_window_display": true
  }
 },
 "nbformat": 4,
 "nbformat_minor": 5
}