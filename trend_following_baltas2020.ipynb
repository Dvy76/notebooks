{
 "cells": [
  {
   "cell_type": "markdown",
   "id": "44da4ba4",
   "metadata": {
    "papermill": {
     "duration": 0.011562,
     "end_time": "2022-08-23T06:48:12.805198",
     "exception": false,
     "start_time": "2022-08-23T06:48:12.793636",
     "status": "completed"
    },
    "tags": []
   },
   "source": [
    "# Trend-following\n",
    "\n",
    "This notebook implements a few improvements that Baltas and Kosowski (2020) (BK2020, hereafter) propose to the time-series momentum strategy which originally appeared in Moskowitz et al (2012).\n",
    "\n",
    "Note that like other notebooks, all backtests are performed by using a private library called `vivace`."
   ]
  },
  {
   "cell_type": "code",
   "execution_count": 1,
   "id": "0919ec4b",
   "metadata": {
    "ExecuteTime": {
     "end_time": "2020-08-30T21:08:49.524262Z",
     "start_time": "2020-08-30T21:08:48.720115Z"
    },
    "execution": {
     "iopub.execute_input": "2022-08-23T06:48:12.830761Z",
     "iopub.status.busy": "2022-08-23T06:48:12.830144Z",
     "iopub.status.idle": "2022-08-23T06:48:16.758897Z",
     "shell.execute_reply": "2022-08-23T06:48:16.758019Z"
    },
    "papermill": {
     "duration": 3.945761,
     "end_time": "2022-08-23T06:48:16.761722",
     "exception": false,
     "start_time": "2022-08-23T06:48:12.815961",
     "status": "completed"
    },
    "tags": []
   },
   "outputs": [],
   "source": [
    "%matplotlib inline\n",
    "from datetime import datetime\n",
    "import logging\n",
    "import warnings\n",
    "warnings.simplefilter(action='ignore', category=FutureWarning)\n",
    "\n",
    "import pandas as pd\n",
    "import matplotlib.pyplot as plt\n",
    "import matplotlib.ticker as mticker\n",
    "plt.style.use('bmh')\n",
    "\n",
    "from vivace.backtest import signal\n",
    "from vivace.backtest import processing\n",
    "from vivace.backtest.contract import all_futures_baltas2020\n",
    "from vivace.backtest.engine import BacktestEngine\n",
    "from vivace.backtest.enums import Strategy, Weighting, RealisedVolatility\n",
    "from vivace.backtest.stats import Performance"
   ]
  },
  {
   "cell_type": "markdown",
   "id": "6e4b4fab",
   "metadata": {
    "papermill": {
     "duration": 0.010679,
     "end_time": "2022-08-23T06:48:16.782829",
     "exception": false,
     "start_time": "2022-08-23T06:48:16.772150",
     "status": "completed"
    },
    "tags": []
   },
   "source": [
    "# Data"
   ]
  },
  {
   "cell_type": "code",
   "execution_count": 2,
   "id": "850f8d10",
   "metadata": {
    "ExecuteTime": {
     "end_time": "2020-08-30T21:08:49.529214Z",
     "start_time": "2020-08-30T21:08:49.525465Z"
    },
    "execution": {
     "iopub.execute_input": "2022-08-23T06:48:16.805928Z",
     "iopub.status.busy": "2022-08-23T06:48:16.805299Z",
     "iopub.status.idle": "2022-08-23T06:48:16.817317Z",
     "shell.execute_reply": "2022-08-23T06:48:16.816000Z"
    },
    "papermill": {
     "duration": 0.026623,
     "end_time": "2022-08-23T06:48:16.819521",
     "exception": false,
     "start_time": "2022-08-23T06:48:16.792898",
     "status": "completed"
    },
    "tags": []
   },
   "outputs": [
    {
     "data": {
      "text/plain": [
       "array(['WTI Crude Oil', 'Brent Crude Oil', 'Heating Oil', 'Natural Gas',\n",
       "       'Gasoline', 'Copper', 'Gold', 'Palladium', 'Platinum', 'Silver',\n",
       "       'Feeder Cattle', 'Live Cattle', 'Lean Hog', 'Corn', 'Oats',\n",
       "       'Soybean Oil', 'Soybean Meal', 'Soybean', 'Wheat', 'Cocoa',\n",
       "       'Coffee', 'Cotton', 'Lumber', 'Orange Juice', 'Sugar',\n",
       "       'Australian Dollar', 'Canadian Dollar', 'Swiss Franc', 'Euro',\n",
       "       'British Pound', 'Japanese Yen', 'E-Mini Nasdaq 100',\n",
       "       'E-mini S&P 500', 'E-mini Russell 2000', 'FTSE 100', 'DAX',\n",
       "       'CAC 40', 'IBEX 35', 'AEX', 'Swiss Market Index', 'SPI 200',\n",
       "       'Topix', 'Hang Seng', 'US 2-year Treasury', 'US 5-year Treasury',\n",
       "       'US 10-year Treasury', 'US treasury Bond', 'Germany Schatz',\n",
       "       'Germany Bobl', 'Germany Bund', 'Germany Buxl', 'Gilt',\n",
       "       'Canada 10-year Treasury', 'JGB'], dtype=object)"
      ]
     },
     "execution_count": 2,
     "metadata": {},
     "output_type": "execute_result"
    }
   ],
   "source": [
    "all_futures_baltas2020['name'].values"
   ]
  },
  {
   "cell_type": "code",
   "execution_count": 3,
   "id": "be3f85f0",
   "metadata": {
    "ExecuteTime": {
     "end_time": "2020-08-30T21:08:49.542477Z",
     "start_time": "2020-08-30T21:08:49.530487Z"
    },
    "execution": {
     "iopub.execute_input": "2022-08-23T06:48:16.883419Z",
     "iopub.status.busy": "2022-08-23T06:48:16.882963Z",
     "iopub.status.idle": "2022-08-23T06:48:16.889423Z",
     "shell.execute_reply": "2022-08-23T06:48:16.888583Z"
    },
    "papermill": {
     "duration": 0.06068,
     "end_time": "2022-08-23T06:48:16.891891",
     "exception": false,
     "start_time": "2022-08-23T06:48:16.831211",
     "status": "completed"
    },
    "tags": []
   },
   "outputs": [
    {
     "name": "stdout",
     "output_type": "stream",
     "text": [
      "54\n"
     ]
    }
   ],
   "source": [
    "print(len(all_futures_baltas2020))"
   ]
  },
  {
   "cell_type": "markdown",
   "id": "3ab3a5c3",
   "metadata": {
    "papermill": {
     "duration": 0.016249,
     "end_time": "2022-08-23T06:48:16.924553",
     "exception": false,
     "start_time": "2022-08-23T06:48:16.908304",
     "status": "completed"
    },
    "tags": []
   },
   "source": [
    "We try to use the same contract as the original paper where possible, resulting 54 futures contracts to analyse. The trading universe covers a wide range of asset classes and regions, and is made up of following instruments:\n",
    "- Equity index futures\n",
    "- Government bond futures\n",
    "- FX futures\n",
    "- Commodity futures\n",
    "\n",
    "where the same trend detection method is applied."
   ]
  },
  {
   "cell_type": "markdown",
   "id": "fbcbd9bf",
   "metadata": {
    "papermill": {
     "duration": 0.011178,
     "end_time": "2022-08-23T06:48:16.949234",
     "exception": false,
     "start_time": "2022-08-23T06:48:16.938056",
     "status": "completed"
    },
    "tags": []
   },
   "source": [
    "# Performance\n"
   ]
  },
  {
   "cell_type": "markdown",
   "id": "6f892821",
   "metadata": {
    "papermill": {
     "duration": 0.010708,
     "end_time": "2022-08-23T06:48:16.970478",
     "exception": false,
     "start_time": "2022-08-23T06:48:16.959770",
     "status": "completed"
    },
    "tags": []
   },
   "source": [
    "## Moskowitz et al\n",
    "\n",
    "First we calculate the original trend-following portfolio with a more traditional close-to-close realised volatility estimator. Although Moskowitz et al uses the exponentially weighted standard deviation, BK2020 appears to compare against the rolling standard deviation."
   ]
  },
  {
   "cell_type": "code",
   "execution_count": 4,
   "id": "591ef573",
   "metadata": {
    "execution": {
     "iopub.execute_input": "2022-08-23T06:48:16.999504Z",
     "iopub.status.busy": "2022-08-23T06:48:16.999190Z",
     "iopub.status.idle": "2022-08-23T06:59:26.503399Z",
     "shell.execute_reply": "2022-08-23T06:59:26.502755Z"
    },
    "papermill": {
     "duration": 669.522438,
     "end_time": "2022-08-23T06:59:26.505324",
     "exception": false,
     "start_time": "2022-08-23T06:48:16.982886",
     "status": "completed"
    },
    "tags": []
   },
   "outputs": [],
   "source": [
    "engine_original = BacktestEngine(\n",
    "    strategy=Strategy.DELTA_ONE.value,\n",
    "    instrument=all_futures_baltas2020.index,\n",
    "    signal=signal.ParallelSignal([\n",
    "        signal.VolatilityScale(agg_method='rolling', window=21, ann_factor=261, \n",
    "                               target_volatility=0.4, signal_cap=0.95),\n",
    "        signal.TSMOMMoskowitz2012(post_process=processing.AsFreq(freq='m', method='pad'))\n",
    "    ], weighting='product'),\n",
    "    weighting=Weighting.EQUAL_WEIGHT.value,\n",
    "    log_level=logging.WARN,\n",
    ")\n",
    "engine_original.run()"
   ]
  },
  {
   "cell_type": "code",
   "execution_count": 5,
   "id": "b5beea2b",
   "metadata": {
    "execution": {
     "iopub.execute_input": "2022-08-23T06:59:26.527962Z",
     "iopub.status.busy": "2022-08-23T06:59:26.527659Z",
     "iopub.status.idle": "2022-08-23T07:00:58.693949Z",
     "shell.execute_reply": "2022-08-23T07:00:58.693180Z"
    },
    "papermill": {
     "duration": 92.180665,
     "end_time": "2022-08-23T07:00:58.696783",
     "exception": false,
     "start_time": "2022-08-23T06:59:26.516118",
     "status": "completed"
    },
    "tags": []
   },
   "outputs": [],
   "source": [
    "engine_original_eq = (engine_original.calculate_equity_curve(calculate_net=False, rebalance_freq='m')\n",
    "                      .rename('Trend-following portfolio (Moskowitz 2012)'))"
   ]
  },
  {
   "cell_type": "code",
   "execution_count": 6,
   "id": "b8e9f288",
   "metadata": {
    "execution": {
     "iopub.execute_input": "2022-08-23T07:00:58.725603Z",
     "iopub.status.busy": "2022-08-23T07:00:58.725288Z",
     "iopub.status.idle": "2022-08-23T07:00:59.479415Z",
     "shell.execute_reply": "2022-08-23T07:00:59.478583Z"
    },
    "papermill": {
     "duration": 0.771277,
     "end_time": "2022-08-23T07:00:59.481335",
     "exception": false,
     "start_time": "2022-08-23T07:00:58.710058",
     "status": "completed"
    },
    "tags": []
   },
   "outputs": [
    {
     "data": {
      "image/png": "[encoded data removed]",
      "text/plain": [
       "<Figure size 576x324 with 1 Axes>"
      ]
     },
     "metadata": {
      "needs_background": "light"
     },
     "output_type": "display_data"
    }
   ],
   "source": [
    "fig, ax = plt.subplots(figsize=(8, 4.5))\n",
    "engine_original_eq.plot(ax=ax, logy=True)\n",
    "ax.set_title('Trend-following portfolio (Moskowitz 2012)')\n",
    "ax.set_ylabel('Cumulative returns');"
   ]
  },
  {
   "cell_type": "code",
   "execution_count": 7,
   "id": "5ecb2898",
   "metadata": {
    "execution": {
     "iopub.execute_input": "2022-08-23T07:00:59.505263Z",
     "iopub.status.busy": "2022-08-23T07:00:59.504947Z",
     "iopub.status.idle": "2022-08-23T07:00:59.595546Z",
     "shell.execute_reply": "2022-08-23T07:00:59.594590Z"
    },
    "papermill": {
     "duration": 0.104154,
     "end_time": "2022-08-23T07:00:59.597527",
     "exception": false,
     "start_time": "2022-08-23T07:00:59.493373",
     "status": "completed"
    },
    "tags": []
   },
   "outputs": [
    {
     "data": {
      "text/html": [
       "<div>\n",
       "<style scoped>\n",
       "    .dataframe tbody tr th:only-of-type {\n",
       "        vertical-align: middle;\n",
       "    }\n",
       "\n",
       "    .dataframe tbody tr th {\n",
       "        vertical-align: top;\n",
       "    }\n",
       "\n",
       "    .dataframe thead th {\n",
       "        text-align: right;\n",
       "    }\n",
       "</style>\n",
       "<table border=\"1\" class=\"dataframe\">\n",
       "  <thead>\n",
       "    <tr style=\"text-align: right;\">\n",
       "      <th></th>\n",
       "      <th>Trend-following portfolio (Moskowitz 2012)</th>\n",
       "    </tr>\n",
       "  </thead>\n",
       "  <tbody>\n",
       "    <tr>\n",
       "      <th>CAGR</th>\n",
       "      <td>0.147786</td>\n",
       "    </tr>\n",
       "    <tr>\n",
       "      <th>Annualised vol</th>\n",
       "      <td>0.124986</td>\n",
       "    </tr>\n",
       "    <tr>\n",
       "      <th>Sharpe ratio</th>\n",
       "      <td>1.182421</td>\n",
       "    </tr>\n",
       "    <tr>\n",
       "      <th>Max drawdown</th>\n",
       "      <td>0.259239</td>\n",
       "    </tr>\n",
       "    <tr>\n",
       "      <th>Calmar ratio</th>\n",
       "      <td>0.570078</td>\n",
       "    </tr>\n",
       "    <tr>\n",
       "      <th>Skewness</th>\n",
       "      <td>0.073506</td>\n",
       "    </tr>\n",
       "    <tr>\n",
       "      <th>Kurtosis</th>\n",
       "      <td>19.332351</td>\n",
       "    </tr>\n",
       "    <tr>\n",
       "      <th>Worst return</th>\n",
       "      <td>-0.126276</td>\n",
       "    </tr>\n",
       "    <tr>\n",
       "      <th>Worst 1d return</th>\n",
       "      <td>-0.126276</td>\n",
       "    </tr>\n",
       "    <tr>\n",
       "      <th>Worst 1w return</th>\n",
       "      <td>-0.107725</td>\n",
       "    </tr>\n",
       "    <tr>\n",
       "      <th>Worst 1m return</th>\n",
       "      <td>-0.152667</td>\n",
       "    </tr>\n",
       "  </tbody>\n",
       "</table>\n",
       "</div>"
      ],
      "text/plain": [
       "                 Trend-following portfolio (Moskowitz 2012)\n",
       "CAGR                                               0.147786\n",
       "Annualised vol                                     0.124986\n",
       "Sharpe ratio                                       1.182421\n",
       "Max drawdown                                       0.259239\n",
       "Calmar ratio                                       0.570078\n",
       "Skewness                                           0.073506\n",
       "Kurtosis                                          19.332351\n",
       "Worst return                                      -0.126276\n",
       "Worst 1d return                                   -0.126276\n",
       "Worst 1w return                                   -0.107725\n",
       "Worst 1m return                                   -0.152667"
      ]
     },
     "execution_count": 7,
     "metadata": {},
     "output_type": "execute_result"
    }
   ],
   "source": [
    "engine_original_eq.pipe(Performance).summary()"
   ]
  },
  {
   "cell_type": "markdown",
   "id": "b04ab0cf",
   "metadata": {
    "papermill": {
     "duration": 0.010587,
     "end_time": "2022-08-23T07:00:59.619545",
     "exception": false,
     "start_time": "2022-08-23T07:00:59.608958",
     "status": "completed"
    },
    "tags": []
   },
   "source": [
    "\n",
    "## Volatility estimator\n",
    "BK2020 proposes a few changes in order to enhance the original trend-following strategy Moskowitz et al reported. The first thing is to use a more sophisticated realised volatility estimators for volatility scaling. Moskowitz used the exponentially weighted standard deviation with close-to-close. On the other hand, BK2020 suggests to use Yang-Zhang estimator as it is much more efficient."
   ]
  },
  {
   "cell_type": "code",
   "execution_count": 8,
   "id": "f221992f",
   "metadata": {
    "ExecuteTime": {
     "end_time": "2020-08-30T21:18:24.661167Z",
     "start_time": "2020-08-30T21:08:49.544232Z"
    },
    "execution": {
     "iopub.execute_input": "2022-08-23T07:00:59.642569Z",
     "iopub.status.busy": "2022-08-23T07:00:59.642247Z",
     "iopub.status.idle": "2022-08-23T07:22:37.154703Z",
     "shell.execute_reply": "2022-08-23T07:22:37.153948Z"
    },
    "papermill": {
     "duration": 1297.527434,
     "end_time": "2022-08-23T07:22:37.157752",
     "exception": false,
     "start_time": "2022-08-23T07:00:59.630318",
     "status": "completed"
    },
    "tags": []
   },
   "outputs": [],
   "source": [
    "engine_vol = BacktestEngine(\n",
    "    strategy=Strategy.DELTA_ONE.value,\n",
    "    instrument=all_futures_baltas2020.index,\n",
    "    signal=signal.ParallelSignal([\n",
    "        signal.VolatilityScale(volatility_type=RealisedVolatility.YZ.value,\n",
    "                               agg_method='rolling', window=21, min_periods=10,\n",
    "                               target_volatility=0.4, signal_cap=0.95, ann_factor=261),\n",
    "        signal.TSMOMMoskowitz2012(post_process=processing.AsFreq(freq='m', method='pad'))\n",
    "    ], weighting='product'),\n",
    "    weighting=Weighting.EQUAL_WEIGHT.value,\n",
    "    log_level=logging.WARN,\n",
    ")\n",
    "engine_vol.run()"
   ]
  },
  {
   "cell_type": "code",
   "execution_count": 9,
   "id": "a6af7bec",
   "metadata": {
    "execution": {
     "iopub.execute_input": "2022-08-23T07:22:37.191747Z",
     "iopub.status.busy": "2022-08-23T07:22:37.191481Z",
     "iopub.status.idle": "2022-08-23T07:24:08.896929Z",
     "shell.execute_reply": "2022-08-23T07:24:08.896062Z"
    },
    "papermill": {
     "duration": 91.72482,
     "end_time": "2022-08-23T07:24:08.899225",
     "exception": false,
     "start_time": "2022-08-23T07:22:37.174405",
     "status": "completed"
    },
    "tags": []
   },
   "outputs": [],
   "source": [
    "engine_vol_eq = (engine_vol.calculate_equity_curve(calculate_net=False, rebalance_freq='m')\n",
    "                 .rename('Trend-following portfolio (YZ estimator)'))"
   ]
  },
  {
   "cell_type": "code",
   "execution_count": 10,
   "id": "a26f0070",
   "metadata": {
    "execution": {
     "iopub.execute_input": "2022-08-23T07:24:08.925666Z",
     "iopub.status.busy": "2022-08-23T07:24:08.925321Z",
     "iopub.status.idle": "2022-08-23T07:24:09.590485Z",
     "shell.execute_reply": "2022-08-23T07:24:09.589503Z"
    },
    "papermill": {
     "duration": 0.680615,
     "end_time": "2022-08-23T07:24:09.592536",
     "exception": false,
     "start_time": "2022-08-23T07:24:08.911921",
     "status": "completed"
    },
    "tags": []
   },
   "outputs": [
    {
     "data": {
      "image/png": "[encoded data removed]",
      "text/plain": [
       "<Figure size 576x324 with 1 Axes>"
      ]
     },
     "metadata": {
      "needs_background": "light"
     },
     "output_type": "display_data"
    }
   ],
   "source": [
    "fig, ax = plt.subplots(figsize=(8, 4.5))\n",
    "engine_vol_eq.plot(ax=ax, logy=True);\n",
    "ax.set_title('Trend-following portfolio (YZ estimator)')\n",
    "ax.set_ylabel('Cumulative returns');"
   ]
  },
  {
   "cell_type": "code",
   "execution_count": 11,
   "id": "1397b4ea",
   "metadata": {
    "execution": {
     "iopub.execute_input": "2022-08-23T07:24:09.620000Z",
     "iopub.status.busy": "2022-08-23T07:24:09.618979Z",
     "iopub.status.idle": "2022-08-23T07:24:09.742758Z",
     "shell.execute_reply": "2022-08-23T07:24:09.741826Z"
    },
    "papermill": {
     "duration": 0.139322,
     "end_time": "2022-08-23T07:24:09.744969",
     "exception": false,
     "start_time": "2022-08-23T07:24:09.605647",
     "status": "completed"
    },
    "tags": []
   },
   "outputs": [
    {
     "data": {
      "text/html": [
       "<div>\n",
       "<style scoped>\n",
       "    .dataframe tbody tr th:only-of-type {\n",
       "        vertical-align: middle;\n",
       "    }\n",
       "\n",
       "    .dataframe tbody tr th {\n",
       "        vertical-align: top;\n",
       "    }\n",
       "\n",
       "    .dataframe thead th {\n",
       "        text-align: right;\n",
       "    }\n",
       "</style>\n",
       "<table border=\"1\" class=\"dataframe\">\n",
       "  <thead>\n",
       "    <tr style=\"text-align: right;\">\n",
       "      <th></th>\n",
       "      <th>Trend-following portfolio (YZ estimator)</th>\n",
       "    </tr>\n",
       "  </thead>\n",
       "  <tbody>\n",
       "    <tr>\n",
       "      <th>CAGR</th>\n",
       "      <td>0.149440</td>\n",
       "    </tr>\n",
       "    <tr>\n",
       "      <th>Annualised vol</th>\n",
       "      <td>0.127274</td>\n",
       "    </tr>\n",
       "    <tr>\n",
       "      <th>Sharpe ratio</th>\n",
       "      <td>1.174157</td>\n",
       "    </tr>\n",
       "    <tr>\n",
       "      <th>Max drawdown</th>\n",
       "      <td>0.305877</td>\n",
       "    </tr>\n",
       "    <tr>\n",
       "      <th>Calmar ratio</th>\n",
       "      <td>0.488563</td>\n",
       "    </tr>\n",
       "    <tr>\n",
       "      <th>Skewness</th>\n",
       "      <td>0.280563</td>\n",
       "    </tr>\n",
       "    <tr>\n",
       "      <th>Kurtosis</th>\n",
       "      <td>22.113731</td>\n",
       "    </tr>\n",
       "    <tr>\n",
       "      <th>Worst return</th>\n",
       "      <td>-0.137043</td>\n",
       "    </tr>\n",
       "    <tr>\n",
       "      <th>Worst 1d return</th>\n",
       "      <td>-0.137043</td>\n",
       "    </tr>\n",
       "    <tr>\n",
       "      <th>Worst 1w return</th>\n",
       "      <td>-0.098542</td>\n",
       "    </tr>\n",
       "    <tr>\n",
       "      <th>Worst 1m return</th>\n",
       "      <td>-0.169177</td>\n",
       "    </tr>\n",
       "  </tbody>\n",
       "</table>\n",
       "</div>"
      ],
      "text/plain": [
       "                 Trend-following portfolio (YZ estimator)\n",
       "CAGR                                             0.149440\n",
       "Annualised vol                                   0.127274\n",
       "Sharpe ratio                                     1.174157\n",
       "Max drawdown                                     0.305877\n",
       "Calmar ratio                                     0.488563\n",
       "Skewness                                         0.280563\n",
       "Kurtosis                                        22.113731\n",
       "Worst return                                    -0.137043\n",
       "Worst 1d return                                 -0.137043\n",
       "Worst 1w return                                 -0.098542\n",
       "Worst 1m return                                 -0.169177"
      ]
     },
     "execution_count": 11,
     "metadata": {},
     "output_type": "execute_result"
    }
   ],
   "source": [
    "engine_vol_eq.pipe(Performance).summary()"
   ]
  },
  {
   "cell_type": "markdown",
   "id": "f1d13410",
   "metadata": {
    "papermill": {
     "duration": 0.012616,
     "end_time": "2022-08-23T07:24:09.771362",
     "exception": false,
     "start_time": "2022-08-23T07:24:09.758746",
     "status": "completed"
    },
    "tags": []
   },
   "source": [
    "## TREND signal\n",
    "\n",
    "Another improvement BK2020 proposes is to use a continuous signal rather than a binary one in order to reduce the turnover when signals are weak. Specifically they used the t-values with the Newey-West standard error as the signal. They further capped and floored the signal between -1 and +1 to avoid extreme positions.\n",
    "\n",
    "`statsmodels`'s `OLS` class provides a method to compute the Newey-West standard error. https://www.statsmodels.org/stable/generated/statsmodels.regression.linear_model.OLS.html"
   ]
  },
  {
   "cell_type": "code",
   "execution_count": 12,
   "id": "d820c64e",
   "metadata": {
    "execution": {
     "iopub.execute_input": "2022-08-23T07:24:09.799886Z",
     "iopub.status.busy": "2022-08-23T07:24:09.799611Z",
     "iopub.status.idle": "2022-08-23T07:41:20.098709Z",
     "shell.execute_reply": "2022-08-23T07:41:20.097937Z"
    },
    "papermill": {
     "duration": 1030.315955,
     "end_time": "2022-08-23T07:41:20.100633",
     "exception": false,
     "start_time": "2022-08-23T07:24:09.784678",
     "status": "completed"
    },
    "tags": []
   },
   "outputs": [],
   "source": [
    "engine_trend = BacktestEngine(\n",
    "    strategy=Strategy.DELTA_ONE.value,\n",
    "    instrument=all_futures_baltas2020.index,\n",
    "    signal=signal.ParallelSignal([\n",
    "        signal.VolatilityScale(agg_method='rolling', window=21, ann_factor=261, \n",
    "                               target_volatility=0.4, signal_cap=0.95),\n",
    "        signal.TSMOMBaltas2020()\n",
    "    ], weighting='product'),\n",
    "    weighting=Weighting.EQUAL_WEIGHT.value,\n",
    "    log_level=logging.WARN,\n",
    ")\n",
    "engine_trend.run()"
   ]
  },
  {
   "cell_type": "code",
   "execution_count": 13,
   "id": "8795f721",
   "metadata": {
    "execution": {
     "iopub.execute_input": "2022-08-23T07:41:20.124172Z",
     "iopub.status.busy": "2022-08-23T07:41:20.123894Z",
     "iopub.status.idle": "2022-08-23T07:42:44.329156Z",
     "shell.execute_reply": "2022-08-23T07:42:44.328410Z"
    },
    "papermill": {
     "duration": 84.219717,
     "end_time": "2022-08-23T07:42:44.331687",
     "exception": false,
     "start_time": "2022-08-23T07:41:20.111970",
     "status": "completed"
    },
    "tags": []
   },
   "outputs": [],
   "source": [
    "engine_trend_eq = (engine_trend.calculate_equity_curve(calculate_net=False, rebalance_freq='m')\n",
    "                   .rename('Trend-following portfolio (TREND signal)'))"
   ]
  },
  {
   "cell_type": "code",
   "execution_count": 14,
   "id": "2c23d5f7",
   "metadata": {
    "execution": {
     "iopub.execute_input": "2022-08-23T07:42:44.367351Z",
     "iopub.status.busy": "2022-08-23T07:42:44.367040Z",
     "iopub.status.idle": "2022-08-23T07:42:44.910591Z",
     "shell.execute_reply": "2022-08-23T07:42:44.909922Z"
    },
    "papermill": {
     "duration": 0.564091,
     "end_time": "2022-08-23T07:42:44.913019",
     "exception": false,
     "start_time": "2022-08-23T07:42:44.348928",
     "status": "completed"
    },
    "tags": []
   },
   "outputs": [
    {
     "data": {
      "image/png": "[encoded data removed]",
      "text/plain": [
       "<Figure size 576x324 with 1 Axes>"
      ]
     },
     "metadata": {
      "needs_background": "light"
     },
     "output_type": "display_data"
    }
   ],
   "source": [
    "fig, ax = plt.subplots(figsize=(8, 4.5))\n",
    "engine_trend_eq.plot(ax=ax, logy=True);\n",
    "ax.set_title('Trend-following portfolio (TREND signal)')\n",
    "ax.set_ylabel('Cumulative returns');"
   ]
  },
  {
   "cell_type": "code",
   "execution_count": 15,
   "id": "2eb0f008",
   "metadata": {
    "execution": {
     "iopub.execute_input": "2022-08-23T07:42:44.950076Z",
     "iopub.status.busy": "2022-08-23T07:42:44.949761Z",
     "iopub.status.idle": "2022-08-23T07:42:45.026850Z",
     "shell.execute_reply": "2022-08-23T07:42:45.026185Z"
    },
    "papermill": {
     "duration": 0.097887,
     "end_time": "2022-08-23T07:42:45.029038",
     "exception": false,
     "start_time": "2022-08-23T07:42:44.931151",
     "status": "completed"
    },
    "tags": []
   },
   "outputs": [
    {
     "data": {
      "text/html": [
       "<div>\n",
       "<style scoped>\n",
       "    .dataframe tbody tr th:only-of-type {\n",
       "        vertical-align: middle;\n",
       "    }\n",
       "\n",
       "    .dataframe tbody tr th {\n",
       "        vertical-align: top;\n",
       "    }\n",
       "\n",
       "    .dataframe thead th {\n",
       "        text-align: right;\n",
       "    }\n",
       "</style>\n",
       "<table border=\"1\" class=\"dataframe\">\n",
       "  <thead>\n",
       "    <tr style=\"text-align: right;\">\n",
       "      <th></th>\n",
       "      <th>Trend-following portfolio (TREND signal)</th>\n",
       "    </tr>\n",
       "  </thead>\n",
       "  <tbody>\n",
       "    <tr>\n",
       "      <th>CAGR</th>\n",
       "      <td>0.139746</td>\n",
       "    </tr>\n",
       "    <tr>\n",
       "      <th>Annualised vol</th>\n",
       "      <td>0.107937</td>\n",
       "    </tr>\n",
       "    <tr>\n",
       "      <th>Sharpe ratio</th>\n",
       "      <td>1.294698</td>\n",
       "    </tr>\n",
       "    <tr>\n",
       "      <th>Max drawdown</th>\n",
       "      <td>0.294584</td>\n",
       "    </tr>\n",
       "    <tr>\n",
       "      <th>Calmar ratio</th>\n",
       "      <td>0.474383</td>\n",
       "    </tr>\n",
       "    <tr>\n",
       "      <th>Skewness</th>\n",
       "      <td>0.158987</td>\n",
       "    </tr>\n",
       "    <tr>\n",
       "      <th>Kurtosis</th>\n",
       "      <td>28.000541</td>\n",
       "    </tr>\n",
       "    <tr>\n",
       "      <th>Worst return</th>\n",
       "      <td>-0.121269</td>\n",
       "    </tr>\n",
       "    <tr>\n",
       "      <th>Worst 1d return</th>\n",
       "      <td>-0.121269</td>\n",
       "    </tr>\n",
       "    <tr>\n",
       "      <th>Worst 1w return</th>\n",
       "      <td>-0.110077</td>\n",
       "    </tr>\n",
       "    <tr>\n",
       "      <th>Worst 1m return</th>\n",
       "      <td>-0.171789</td>\n",
       "    </tr>\n",
       "  </tbody>\n",
       "</table>\n",
       "</div>"
      ],
      "text/plain": [
       "                 Trend-following portfolio (TREND signal)\n",
       "CAGR                                             0.139746\n",
       "Annualised vol                                   0.107937\n",
       "Sharpe ratio                                     1.294698\n",
       "Max drawdown                                     0.294584\n",
       "Calmar ratio                                     0.474383\n",
       "Skewness                                         0.158987\n",
       "Kurtosis                                        28.000541\n",
       "Worst return                                    -0.121269\n",
       "Worst 1d return                                 -0.121269\n",
       "Worst 1w return                                 -0.110077\n",
       "Worst 1m return                                 -0.171789"
      ]
     },
     "execution_count": 15,
     "metadata": {},
     "output_type": "execute_result"
    }
   ],
   "source": [
    "engine_trend_eq.pipe(Performance).summary()"
   ]
  },
  {
   "cell_type": "markdown",
   "id": "36ec3f2d",
   "metadata": {
    "papermill": {
     "duration": 0.017781,
     "end_time": "2022-08-23T07:42:45.064787",
     "exception": false,
     "start_time": "2022-08-23T07:42:45.047006",
     "status": "completed"
    },
    "tags": []
   },
   "source": [
    "## Combined\n",
    "\n",
    "Finally we run a backtest by using both the Yang-Zhang volatility estimator and the TREND signal."
   ]
  },
  {
   "cell_type": "code",
   "execution_count": 16,
   "id": "977646b1",
   "metadata": {
    "execution": {
     "iopub.execute_input": "2022-08-23T07:42:45.096208Z",
     "iopub.status.busy": "2022-08-23T07:42:45.095886Z",
     "iopub.status.idle": "2022-08-23T08:08:57.372990Z",
     "shell.execute_reply": "2022-08-23T08:08:57.372207Z"
    },
    "papermill": {
     "duration": 1572.292426,
     "end_time": "2022-08-23T08:08:57.374935",
     "exception": false,
     "start_time": "2022-08-23T07:42:45.082509",
     "status": "completed"
    },
    "tags": []
   },
   "outputs": [],
   "source": [
    "engine_combined = BacktestEngine(\n",
    "    strategy=Strategy.DELTA_ONE.value,\n",
    "    instrument=all_futures_baltas2020.index,\n",
    "    signal=signal.ParallelSignal([\n",
    "        signal.VolatilityScale(volatility_type=RealisedVolatility.YZ.value,\n",
    "                               agg_method='rolling', window=21, min_periods=10,\n",
    "                               target_volatility=0.4, signal_cap=0.95, ann_factor=261),\n",
    "        signal.TSMOMBaltas2020()\n",
    "    ], weighting='product'),\n",
    "    weighting=Weighting.EQUAL_WEIGHT.value,\n",
    "    log_level=logging.WARN,\n",
    ")\n",
    "engine_combined.run()"
   ]
  },
  {
   "cell_type": "code",
   "execution_count": 17,
   "id": "5ac25add",
   "metadata": {
    "execution": {
     "iopub.execute_input": "2022-08-23T08:08:57.399717Z",
     "iopub.status.busy": "2022-08-23T08:08:57.399453Z",
     "iopub.status.idle": "2022-08-23T08:10:18.023325Z",
     "shell.execute_reply": "2022-08-23T08:10:18.022261Z"
    },
    "papermill": {
     "duration": 80.638582,
     "end_time": "2022-08-23T08:10:18.025526",
     "exception": false,
     "start_time": "2022-08-23T08:08:57.386944",
     "status": "completed"
    },
    "tags": []
   },
   "outputs": [],
   "source": [
    "engine_combined_eq = (engine_combined.calculate_equity_curve(calculate_net=False, rebalance_freq='m')\n",
    "                      .rename('Trend-following portfolio (YZ estimator + TREND signal)'))"
   ]
  },
  {
   "cell_type": "code",
   "execution_count": 18,
   "id": "5f12d731",
   "metadata": {
    "execution": {
     "iopub.execute_input": "2022-08-23T08:10:18.053367Z",
     "iopub.status.busy": "2022-08-23T08:10:18.052909Z",
     "iopub.status.idle": "2022-08-23T08:10:18.715947Z",
     "shell.execute_reply": "2022-08-23T08:10:18.715108Z"
    },
    "papermill": {
     "duration": 0.679191,
     "end_time": "2022-08-23T08:10:18.717769",
     "exception": false,
     "start_time": "2022-08-23T08:10:18.038578",
     "status": "completed"
    },
    "tags": []
   },
   "outputs": [
    {
     "data": {
      "image/png": "[encoded data removed]",
      "text/plain": [
       "<Figure size 576x324 with 1 Axes>"
      ]
     },
     "metadata": {
      "needs_background": "light"
     },
     "output_type": "display_data"
    }
   ],
   "source": [
    "fig, ax = plt.subplots(figsize=(8, 4.5))\n",
    "engine_combined_eq.plot(ax=ax, logy=True)\n",
    "ax.set_title('Trend-following portfolio (YZ estimator + TREND signal)')\n",
    "ax.set_ylabel('Cumulative returns');"
   ]
  },
  {
   "cell_type": "code",
   "execution_count": 19,
   "id": "087e41d3",
   "metadata": {
    "execution": {
     "iopub.execute_input": "2022-08-23T08:10:18.786312Z",
     "iopub.status.busy": "2022-08-23T08:10:18.785844Z",
     "iopub.status.idle": "2022-08-23T08:10:18.869978Z",
     "shell.execute_reply": "2022-08-23T08:10:18.869307Z"
    },
    "papermill": {
     "duration": 0.142156,
     "end_time": "2022-08-23T08:10:18.872264",
     "exception": false,
     "start_time": "2022-08-23T08:10:18.730108",
     "status": "completed"
    },
    "tags": []
   },
   "outputs": [
    {
     "data": {
      "text/html": [
       "<div>\n",
       "<style scoped>\n",
       "    .dataframe tbody tr th:only-of-type {\n",
       "        vertical-align: middle;\n",
       "    }\n",
       "\n",
       "    .dataframe tbody tr th {\n",
       "        vertical-align: top;\n",
       "    }\n",
       "\n",
       "    .dataframe thead th {\n",
       "        text-align: right;\n",
       "    }\n",
       "</style>\n",
       "<table border=\"1\" class=\"dataframe\">\n",
       "  <thead>\n",
       "    <tr style=\"text-align: right;\">\n",
       "      <th></th>\n",
       "      <th>Trend-following portfolio (YZ estimator + TREND signal)</th>\n",
       "    </tr>\n",
       "  </thead>\n",
       "  <tbody>\n",
       "    <tr>\n",
       "      <th>CAGR</th>\n",
       "      <td>0.140199</td>\n",
       "    </tr>\n",
       "    <tr>\n",
       "      <th>Annualised vol</th>\n",
       "      <td>0.110671</td>\n",
       "    </tr>\n",
       "    <tr>\n",
       "      <th>Sharpe ratio</th>\n",
       "      <td>1.266803</td>\n",
       "    </tr>\n",
       "    <tr>\n",
       "      <th>Max drawdown</th>\n",
       "      <td>0.313945</td>\n",
       "    </tr>\n",
       "    <tr>\n",
       "      <th>Calmar ratio</th>\n",
       "      <td>0.446571</td>\n",
       "    </tr>\n",
       "    <tr>\n",
       "      <th>Skewness</th>\n",
       "      <td>0.292477</td>\n",
       "    </tr>\n",
       "    <tr>\n",
       "      <th>Kurtosis</th>\n",
       "      <td>32.520858</td>\n",
       "    </tr>\n",
       "    <tr>\n",
       "      <th>Worst return</th>\n",
       "      <td>-0.130152</td>\n",
       "    </tr>\n",
       "    <tr>\n",
       "      <th>Worst 1d return</th>\n",
       "      <td>-0.130152</td>\n",
       "    </tr>\n",
       "    <tr>\n",
       "      <th>Worst 1w return</th>\n",
       "      <td>-0.112097</td>\n",
       "    </tr>\n",
       "    <tr>\n",
       "      <th>Worst 1m return</th>\n",
       "      <td>-0.186272</td>\n",
       "    </tr>\n",
       "  </tbody>\n",
       "</table>\n",
       "</div>"
      ],
      "text/plain": [
       "                 Trend-following portfolio (YZ estimator + TREND signal)\n",
       "CAGR                                                      0.140199      \n",
       "Annualised vol                                            0.110671      \n",
       "Sharpe ratio                                              1.266803      \n",
       "Max drawdown                                              0.313945      \n",
       "Calmar ratio                                              0.446571      \n",
       "Skewness                                                  0.292477      \n",
       "Kurtosis                                                 32.520858      \n",
       "Worst return                                             -0.130152      \n",
       "Worst 1d return                                          -0.130152      \n",
       "Worst 1w return                                          -0.112097      \n",
       "Worst 1m return                                          -0.186272      "
      ]
     },
     "execution_count": 19,
     "metadata": {},
     "output_type": "execute_result"
    }
   ],
   "source": [
    "engine_combined_eq.pipe(Performance).summary()"
   ]
  },
  {
   "cell_type": "markdown",
   "id": "af962591",
   "metadata": {
    "papermill": {
     "duration": 0.018969,
     "end_time": "2022-08-23T08:10:18.910549",
     "exception": false,
     "start_time": "2022-08-23T08:10:18.891580",
     "status": "completed"
    },
    "tags": []
   },
   "source": [
    "# Comparison\n",
    "\n",
    "In this section we compare the above 4 backtests."
   ]
  },
  {
   "cell_type": "markdown",
   "id": "d195fddf",
   "metadata": {
    "papermill": {
     "duration": 0.014767,
     "end_time": "2022-08-23T08:10:18.944320",
     "exception": false,
     "start_time": "2022-08-23T08:10:18.929553",
     "status": "completed"
    },
    "tags": []
   },
   "source": [
    "## Performance\n",
    "\n",
    "As reported in BK2020, using the YZ estimator and TREND signal does not alter the performance characteristics. Rather, the TREND signal somewhat improves the Sharpe ratio. Also the TREND signal lowers the annualised volatility from 12.5% to 10.8% with the close-to-close realised volatility."
   ]
  },
  {
   "cell_type": "code",
   "execution_count": 20,
   "id": "b7a7a288",
   "metadata": {
    "execution": {
     "iopub.execute_input": "2022-08-23T08:10:18.970284Z",
     "iopub.status.busy": "2022-08-23T08:10:18.969959Z",
     "iopub.status.idle": "2022-08-23T08:10:18.984202Z",
     "shell.execute_reply": "2022-08-23T08:10:18.983503Z"
    },
    "papermill": {
     "duration": 0.02935,
     "end_time": "2022-08-23T08:10:18.986055",
     "exception": false,
     "start_time": "2022-08-23T08:10:18.956705",
     "status": "completed"
    },
    "tags": []
   },
   "outputs": [],
   "source": [
    "performance_comp = pd.concat((engine_original_eq, engine_vol_eq, \n",
    "                              engine_trend_eq, engine_combined_eq), axis=1)"
   ]
  },
  {
   "cell_type": "code",
   "execution_count": 21,
   "id": "4d40dfc5",
   "metadata": {
    "execution": {
     "iopub.execute_input": "2022-08-23T08:10:19.013934Z",
     "iopub.status.busy": "2022-08-23T08:10:19.013304Z",
     "iopub.status.idle": "2022-08-23T08:10:19.935107Z",
     "shell.execute_reply": "2022-08-23T08:10:19.934414Z"
    },
    "papermill": {
     "duration": 0.938545,
     "end_time": "2022-08-23T08:10:19.936829",
     "exception": false,
     "start_time": "2022-08-23T08:10:18.998284",
     "status": "completed"
    },
    "tags": []
   },
   "outputs": [
    {
     "data": {
      "image/png": "[encoded data removed]",
      "text/plain": [
       "<Figure size 576x324 with 1 Axes>"
      ]
     },
     "metadata": {
      "needs_background": "light"
     },
     "output_type": "display_data"
    }
   ],
   "source": [
    "fig, ax = plt.subplots(figsize=(8, 4.5))\n",
    "performance_comp.plot(ax=ax, logy=True);\n",
    "ax.set_title('Trend-following portfolio')\n",
    "ax.set_ylabel('Cumulative returns');"
   ]
  },
  {
   "cell_type": "code",
   "execution_count": 22,
   "id": "51787368",
   "metadata": {
    "execution": {
     "iopub.execute_input": "2022-08-23T08:10:19.964092Z",
     "iopub.status.busy": "2022-08-23T08:10:19.963763Z",
     "iopub.status.idle": "2022-08-23T08:10:20.098410Z",
     "shell.execute_reply": "2022-08-23T08:10:20.097721Z"
    },
    "papermill": {
     "duration": 0.149933,
     "end_time": "2022-08-23T08:10:20.100135",
     "exception": false,
     "start_time": "2022-08-23T08:10:19.950202",
     "status": "completed"
    },
    "tags": []
   },
   "outputs": [
    {
     "data": {
      "text/html": [
       "<div>\n",
       "<style scoped>\n",
       "    .dataframe tbody tr th:only-of-type {\n",
       "        vertical-align: middle;\n",
       "    }\n",
       "\n",
       "    .dataframe tbody tr th {\n",
       "        vertical-align: top;\n",
       "    }\n",
       "\n",
       "    .dataframe thead th {\n",
       "        text-align: right;\n",
       "    }\n",
       "</style>\n",
       "<table border=\"1\" class=\"dataframe\">\n",
       "  <thead>\n",
       "    <tr style=\"text-align: right;\">\n",
       "      <th></th>\n",
       "      <th>Trend-following portfolio (Moskowitz 2012)</th>\n",
       "      <th>Trend-following portfolio (YZ estimator)</th>\n",
       "      <th>Trend-following portfolio (TREND signal)</th>\n",
       "      <th>Trend-following portfolio (YZ estimator + TREND signal)</th>\n",
       "    </tr>\n",
       "  </thead>\n",
       "  <tbody>\n",
       "    <tr>\n",
       "      <th>CAGR</th>\n",
       "      <td>0.147786</td>\n",
       "      <td>0.149073</td>\n",
       "      <td>0.139746</td>\n",
       "      <td>0.139854</td>\n",
       "    </tr>\n",
       "    <tr>\n",
       "      <th>Annualised vol</th>\n",
       "      <td>0.124986</td>\n",
       "      <td>0.127119</td>\n",
       "      <td>0.107937</td>\n",
       "      <td>0.110536</td>\n",
       "    </tr>\n",
       "    <tr>\n",
       "      <th>Sharpe ratio</th>\n",
       "      <td>1.182421</td>\n",
       "      <td>1.172705</td>\n",
       "      <td>1.294698</td>\n",
       "      <td>1.265235</td>\n",
       "    </tr>\n",
       "    <tr>\n",
       "      <th>Max drawdown</th>\n",
       "      <td>0.259239</td>\n",
       "      <td>0.305877</td>\n",
       "      <td>0.294584</td>\n",
       "      <td>0.313945</td>\n",
       "    </tr>\n",
       "    <tr>\n",
       "      <th>Calmar ratio</th>\n",
       "      <td>0.570078</td>\n",
       "      <td>0.487362</td>\n",
       "      <td>0.474383</td>\n",
       "      <td>0.445473</td>\n",
       "    </tr>\n",
       "    <tr>\n",
       "      <th>Skewness</th>\n",
       "      <td>0.073506</td>\n",
       "      <td>0.281477</td>\n",
       "      <td>0.158987</td>\n",
       "      <td>0.293442</td>\n",
       "    </tr>\n",
       "    <tr>\n",
       "      <th>Kurtosis</th>\n",
       "      <td>19.332351</td>\n",
       "      <td>22.175031</td>\n",
       "      <td>28.000541</td>\n",
       "      <td>32.607345</td>\n",
       "    </tr>\n",
       "    <tr>\n",
       "      <th>Worst return</th>\n",
       "      <td>-0.126276</td>\n",
       "      <td>-0.137043</td>\n",
       "      <td>-0.121269</td>\n",
       "      <td>-0.130152</td>\n",
       "    </tr>\n",
       "    <tr>\n",
       "      <th>Worst 1d return</th>\n",
       "      <td>-0.126276</td>\n",
       "      <td>-0.137043</td>\n",
       "      <td>-0.121269</td>\n",
       "      <td>-0.130152</td>\n",
       "    </tr>\n",
       "    <tr>\n",
       "      <th>Worst 1w return</th>\n",
       "      <td>-0.107725</td>\n",
       "      <td>-0.098542</td>\n",
       "      <td>-0.110077</td>\n",
       "      <td>-0.112097</td>\n",
       "    </tr>\n",
       "    <tr>\n",
       "      <th>Worst 1m return</th>\n",
       "      <td>-0.152667</td>\n",
       "      <td>-0.169177</td>\n",
       "      <td>-0.171789</td>\n",
       "      <td>-0.186272</td>\n",
       "    </tr>\n",
       "  </tbody>\n",
       "</table>\n",
       "</div>"
      ],
      "text/plain": [
       "                 Trend-following portfolio (Moskowitz 2012)  \\\n",
       "CAGR                                               0.147786   \n",
       "Annualised vol                                     0.124986   \n",
       "Sharpe ratio                                       1.182421   \n",
       "Max drawdown                                       0.259239   \n",
       "Calmar ratio                                       0.570078   \n",
       "Skewness                                           0.073506   \n",
       "Kurtosis                                          19.332351   \n",
       "Worst return                                      -0.126276   \n",
       "Worst 1d return                                   -0.126276   \n",
       "Worst 1w return                                   -0.107725   \n",
       "Worst 1m return                                   -0.152667   \n",
       "\n",
       "                 Trend-following portfolio (YZ estimator)  \\\n",
       "CAGR                                             0.149073   \n",
       "Annualised vol                                   0.127119   \n",
       "Sharpe ratio                                     1.172705   \n",
       "Max drawdown                                     0.305877   \n",
       "Calmar ratio                                     0.487362   \n",
       "Skewness                                         0.281477   \n",
       "Kurtosis                                        22.175031   \n",
       "Worst return                                    -0.137043   \n",
       "Worst 1d return                                 -0.137043   \n",
       "Worst 1w return                                 -0.098542   \n",
       "Worst 1m return                                 -0.169177   \n",
       "\n",
       "                 Trend-following portfolio (TREND signal)  \\\n",
       "CAGR                                             0.139746   \n",
       "Annualised vol                                   0.107937   \n",
       "Sharpe ratio                                     1.294698   \n",
       "Max drawdown                                     0.294584   \n",
       "Calmar ratio                                     0.474383   \n",
       "Skewness                                         0.158987   \n",
       "Kurtosis                                        28.000541   \n",
       "Worst return                                    -0.121269   \n",
       "Worst 1d return                                 -0.121269   \n",
       "Worst 1w return                                 -0.110077   \n",
       "Worst 1m return                                 -0.171789   \n",
       "\n",
       "                 Trend-following portfolio (YZ estimator + TREND signal)  \n",
       "CAGR                                                      0.139854        \n",
       "Annualised vol                                            0.110536        \n",
       "Sharpe ratio                                              1.265235        \n",
       "Max drawdown                                              0.313945        \n",
       "Calmar ratio                                              0.445473        \n",
       "Skewness                                                  0.293442        \n",
       "Kurtosis                                                 32.607345        \n",
       "Worst return                                             -0.130152        \n",
       "Worst 1d return                                          -0.130152        \n",
       "Worst 1w return                                          -0.112097        \n",
       "Worst 1m return                                          -0.186272        "
      ]
     },
     "execution_count": 22,
     "metadata": {},
     "output_type": "execute_result"
    }
   ],
   "source": [
    "performance_comp.pipe(Performance).summary()"
   ]
  },
  {
   "cell_type": "markdown",
   "id": "b527aa9f",
   "metadata": {
    "papermill": {
     "duration": 0.014263,
     "end_time": "2022-08-23T08:10:20.127708",
     "exception": false,
     "start_time": "2022-08-23T08:10:20.113445",
     "status": "completed"
    },
    "tags": []
   },
   "source": [
    "## Turnover reduction\n",
    "\n",
    "Again, as reported in BK2020, both enhancements reduce the turnover significantly while not affecting the performance. The chart below shows the reduction in turnover for each futures contract. By utilising the YZ realised volatility and the TREND signal, overall the turnover is reduced by more than 30%."
   ]
  },
  {
   "cell_type": "code",
   "execution_count": 23,
   "id": "d854a1ff",
   "metadata": {
    "execution": {
     "iopub.execute_input": "2022-08-23T08:10:20.163291Z",
     "iopub.status.busy": "2022-08-23T08:10:20.162642Z",
     "iopub.status.idle": "2022-08-23T08:15:28.351248Z",
     "shell.execute_reply": "2022-08-23T08:15:28.350449Z"
    },
    "papermill": {
     "duration": 308.205826,
     "end_time": "2022-08-23T08:15:28.353875",
     "exception": false,
     "start_time": "2022-08-23T08:10:20.148049",
     "status": "completed"
    },
    "tags": []
   },
   "outputs": [],
   "source": [
    "engine_original_pos = engine_original.get_position_by_instrument()\n",
    "engine_vol_pos = engine_vol.get_position_by_instrument()\n",
    "engine_trend_pos = engine_trend.get_position_by_instrument()\n",
    "engine_combined_pos = engine_combined.get_position_by_instrument()"
   ]
  },
  {
   "cell_type": "code",
   "execution_count": 24,
   "id": "c1647f11",
   "metadata": {
    "execution": {
     "iopub.execute_input": "2022-08-23T08:15:28.395153Z",
     "iopub.status.busy": "2022-08-23T08:15:28.394798Z",
     "iopub.status.idle": "2022-08-23T08:15:28.432346Z",
     "shell.execute_reply": "2022-08-23T08:15:28.431578Z"
    },
    "papermill": {
     "duration": 0.060921,
     "end_time": "2022-08-23T08:15:28.434879",
     "exception": false,
     "start_time": "2022-08-23T08:15:28.373958",
     "status": "completed"
    },
    "tags": []
   },
   "outputs": [],
   "source": [
    "engine_original_turnover = (engine_original_pos.diff().abs().mean().mul(261)\n",
    "                            .rename('Trend-following portfolio (Moskowitz 2012)'))\n",
    "engine_vol_turnover = (engine_vol_pos.diff().abs().mean().mul(261)\n",
    "                       .rename('Trend-following portfolio (YZ estimator)'))\n",
    "engine_trend_turnover = (engine_trend_pos.diff().abs().mean().mul(261)\n",
    "                         .rename('Trend-following portfolio (TREND signal)'))\n",
    "engine_combined_turnover = (engine_combined_pos.diff().abs().mean().mul(261)\n",
    "                            .rename('Trend-following portfolio (YZ estimator + TREND signal)'))"
   ]
  },
  {
   "cell_type": "code",
   "execution_count": 25,
   "id": "b239b6df",
   "metadata": {
    "execution": {
     "iopub.execute_input": "2022-08-23T08:15:28.476290Z",
     "iopub.status.busy": "2022-08-23T08:15:28.475980Z",
     "iopub.status.idle": "2022-08-23T08:15:28.483306Z",
     "shell.execute_reply": "2022-08-23T08:15:28.482690Z"
    },
    "papermill": {
     "duration": 0.0308,
     "end_time": "2022-08-23T08:15:28.485466",
     "exception": false,
     "start_time": "2022-08-23T08:15:28.454666",
     "status": "completed"
    },
    "tags": []
   },
   "outputs": [],
   "source": [
    "turnover_reduction = (\n",
    "    pd.concat((engine_vol_turnover, engine_trend_turnover, engine_combined_turnover), axis=1)\n",
    "    .div(engine_original_turnover, axis=0)\n",
    "    .sub(1)\n",
    "    .reindex(index=all_futures_baltas2020.index)\n",
    "    .rename(index=all_futures_baltas2020['name'])\n",
    ")"
   ]
  },
  {
   "cell_type": "code",
   "execution_count": 26,
   "id": "9ff20f0a",
   "metadata": {
    "execution": {
     "iopub.execute_input": "2022-08-23T08:15:28.519187Z",
     "iopub.status.busy": "2022-08-23T08:15:28.518919Z",
     "iopub.status.idle": "2022-08-23T08:15:28.525917Z",
     "shell.execute_reply": "2022-08-23T08:15:28.525188Z"
    },
    "papermill": {
     "duration": 0.024515,
     "end_time": "2022-08-23T08:15:28.528176",
     "exception": false,
     "start_time": "2022-08-23T08:15:28.503661",
     "status": "completed"
    },
    "tags": []
   },
   "outputs": [
    {
     "data": {
      "text/plain": [
       "Trend-following portfolio (YZ estimator)                  -0.181299\n",
       "Trend-following portfolio (TREND signal)                  -0.207444\n",
       "Trend-following portfolio (YZ estimator + TREND signal)   -0.330901\n",
       "dtype: float64"
      ]
     },
     "execution_count": 26,
     "metadata": {},
     "output_type": "execute_result"
    }
   ],
   "source": [
    "turnover_reduction.mean()"
   ]
  },
  {
   "cell_type": "code",
   "execution_count": 27,
   "id": "389590ac",
   "metadata": {
    "execution": {
     "iopub.execute_input": "2022-08-23T08:15:28.566505Z",
     "iopub.status.busy": "2022-08-23T08:15:28.566137Z",
     "iopub.status.idle": "2022-08-23T08:15:30.202176Z",
     "shell.execute_reply": "2022-08-23T08:15:30.201378Z"
    },
    "papermill": {
     "duration": 1.658029,
     "end_time": "2022-08-23T08:15:30.204638",
     "exception": false,
     "start_time": "2022-08-23T08:15:28.546609",
     "status": "completed"
    },
    "tags": []
   },
   "outputs": [
    {
     "data": {
      "image/png": "[encoded data removed]",
      "text/plain": [
       "<Figure size 1008x288 with 1 Axes>"
      ]
     },
     "metadata": {
      "needs_background": "light"
     },
     "output_type": "display_data"
    }
   ],
   "source": [
    "ax = turnover_reduction.plot(kind='bar', figsize=(14, 4))\n",
    "ax.yaxis.set_major_formatter(mticker.PercentFormatter(1))\n",
    "ax.axhline(0, color='black', lw=1)\n",
    "ax.axvline(24.5, color='black', lw=1)\n",
    "ax.axvline(30.5, color='black', lw=1)\n",
    "ax.axvline(42.5, color='black', lw=1)\n",
    "ax.set_xlabel('Contract')\n",
    "ax.set_ylabel('Turnover reduction');"
   ]
  },
  {
   "cell_type": "markdown",
   "id": "e2cc332b",
   "metadata": {
    "papermill": {
     "duration": 0.014157,
     "end_time": "2022-08-23T08:15:30.234584",
     "exception": false,
     "start_time": "2022-08-23T08:15:30.220427",
     "status": "completed"
    },
    "tags": []
   },
   "source": [
    "# Recent performance"
   ]
  },
  {
   "cell_type": "code",
   "execution_count": 28,
   "id": "341c5d7e",
   "metadata": {
    "execution": {
     "iopub.execute_input": "2022-08-23T08:15:30.264159Z",
     "iopub.status.busy": "2022-08-23T08:15:30.263471Z",
     "iopub.status.idle": "2022-08-23T08:15:30.707071Z",
     "shell.execute_reply": "2022-08-23T08:15:30.706305Z"
    },
    "papermill": {
     "duration": 0.46081,
     "end_time": "2022-08-23T08:15:30.709123",
     "exception": false,
     "start_time": "2022-08-23T08:15:30.248313",
     "status": "completed"
    },
    "tags": []
   },
   "outputs": [
    {
     "data": {
      "image/png": "[encoded data removed]",
      "text/plain": [
       "<Figure size 576x324 with 1 Axes>"
      ]
     },
     "metadata": {
      "needs_background": "light"
     },
     "output_type": "display_data"
    }
   ],
   "source": [
    "fig, ax = plt.subplots(figsize=(8, 4.5))\n",
    "performance_comp.tail(252 * 2).pct_change().fillna(0).add(1).cumprod().plot(ax=ax, logy=True);\n",
    "ax.set_title('Trend-following portfolio')\n",
    "ax.set_ylabel('Cumulative returns');"
   ]
  },
  {
   "cell_type": "markdown",
   "id": "b9798b07",
   "metadata": {
    "papermill": {
     "duration": 0.015594,
     "end_time": "2022-08-23T08:15:30.740584",
     "exception": false,
     "start_time": "2022-08-23T08:15:30.724990",
     "status": "completed"
    },
    "tags": []
   },
   "source": [
    "# Reference\n",
    "\n",
    "- Baltas, N. and Kosowski, R., 2020. Demystifying time-series momentum strategies: Volatility estimators, trading rules and pairwise correlations. Market Momentum: Theory and Practice\", Wiley.\n",
    "- Moskowitz, T.J., Ooi, Y.H. and Pedersen, L.H., 2012. Time series momentum. Journal of financial economics, 104(2), pp.228-250."
   ]
  },
  {
   "cell_type": "code",
   "execution_count": 29,
   "id": "0585adc4",
   "metadata": {
    "ExecuteTime": {
     "end_time": "2020-08-30T21:20:32.431574Z",
     "start_time": "2020-08-30T21:20:32.429370Z"
    },
    "execution": {
     "iopub.execute_input": "2022-08-23T08:15:30.774021Z",
     "iopub.status.busy": "2022-08-23T08:15:30.773384Z",
     "iopub.status.idle": "2022-08-23T08:15:30.777811Z",
     "shell.execute_reply": "2022-08-23T08:15:30.777097Z"
    },
    "papermill": {
     "duration": 0.023223,
     "end_time": "2022-08-23T08:15:30.779465",
     "exception": false,
     "start_time": "2022-08-23T08:15:30.756242",
     "status": "completed"
    },
    "tags": []
   },
   "outputs": [
    {
     "name": "stdout",
     "output_type": "stream",
     "text": [
      "Updated: 23-Aug-2022 08:15\n"
     ]
    }
   ],
   "source": [
    "print(f'Updated: {datetime.utcnow():%d-%b-%Y %H:%M}')"
   ]
  }
 ],
 "metadata": {
  "hide_input": false,
  "kernelspec": {
   "display_name": "Python 3",
   "language": "python",
   "name": "python3"
  },
  "language_info": {
   "codemirror_mode": {
    "name": "ipython",
    "version": 3
   },
   "file_extension": ".py",
   "mimetype": "text/x-python",
   "name": "python",
   "nbconvert_exporter": "python",
   "pygments_lexer": "ipython3",
   "version": "3.9.6"
  },
  "nav_menu": {},
  "papermill": {
   "duration": 5242.935399,
   "end_time": "2022-08-23T08:15:33.925774",
   "environment_variables": {},
   "exception": null,
   "input_path": "notebooks/papermill/trend_following_baltas2020.ipynb",
   "output_path": "notebooks/trend_following_baltas2020.ipynb",
   "parameters": {},
   "start_time": "2022-08-23T06:48:10.990375",
   "version": "2.1.3"
  },
  "toc": {
   "base_numbering": 1,
   "nav_menu": {},
   "number_sections": true,
   "sideBar": true,
   "skip_h1_title": false,
   "title_cell": "Table of Contents",
   "title_sidebar": "Contents",
   "toc_cell": true,
   "toc_position": {
    "height": "calc(100% - 180px)",
    "left": "10px",
    "top": "150px",
    "width": "165px"
   },
   "toc_section_display": "block",
   "toc_window_display": true
  }
 },
 "nbformat": 4,
 "nbformat_minor": 5
}