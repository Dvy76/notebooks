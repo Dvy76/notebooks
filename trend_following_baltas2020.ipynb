{
 "cells": [
  {
   "cell_type": "markdown",
   "id": "9c775535",
   "metadata": {
    "papermill": {
     "duration": 0.021221,
     "end_time": "2022-08-16T06:26:40.777983",
     "exception": false,
     "start_time": "2022-08-16T06:26:40.756762",
     "status": "completed"
    },
    "tags": []
   },
   "source": [
    "# Trend-following\n",
    "\n",
    "This notebook implements a few improvements that Baltas and Kosowski (2020) (BK2020, hereafter) propose to the time-series momentum strategy which originally appeared in Moskowitz et al (2012).\n",
    "\n",
    "Note that like other notebooks, all backtests are performed by using a private library called `vivace`."
   ]
  },
  {
   "cell_type": "code",
   "execution_count": 1,
   "id": "a5a4b6d2",
   "metadata": {
    "ExecuteTime": {
     "end_time": "2020-08-30T21:08:49.524262Z",
     "start_time": "2020-08-30T21:08:48.720115Z"
    },
    "execution": {
     "iopub.execute_input": "2022-08-16T06:26:40.823222Z",
     "iopub.status.busy": "2022-08-16T06:26:40.822763Z",
     "iopub.status.idle": "2022-08-16T06:26:44.597122Z",
     "shell.execute_reply": "2022-08-16T06:26:44.596357Z"
    },
    "papermill": {
     "duration": 3.800038,
     "end_time": "2022-08-16T06:26:44.599846",
     "exception": false,
     "start_time": "2022-08-16T06:26:40.799808",
     "status": "completed"
    },
    "tags": []
   },
   "outputs": [],
   "source": [
    "%matplotlib inline\n",
    "from datetime import datetime\n",
    "import logging\n",
    "import warnings\n",
    "warnings.simplefilter(action='ignore', category=FutureWarning)\n",
    "\n",
    "import pandas as pd\n",
    "import matplotlib.pyplot as plt\n",
    "import matplotlib.ticker as mticker\n",
    "plt.style.use('bmh')\n",
    "\n",
    "from vivace.backtest import signal\n",
    "from vivace.backtest import processing\n",
    "from vivace.backtest.contract import all_futures_baltas2020\n",
    "from vivace.backtest.engine import BacktestEngine\n",
    "from vivace.backtest.enums import Strategy, Weighting, RealisedVolatility\n",
    "from vivace.backtest.stats import Performance"
   ]
  },
  {
   "cell_type": "markdown",
   "id": "0dbfa668",
   "metadata": {
    "papermill": {
     "duration": 0.01529,
     "end_time": "2022-08-16T06:26:44.630639",
     "exception": false,
     "start_time": "2022-08-16T06:26:44.615349",
     "status": "completed"
    },
    "tags": []
   },
   "source": [
    "# Data"
   ]
  },
  {
   "cell_type": "code",
   "execution_count": 2,
   "id": "a4a7aded",
   "metadata": {
    "ExecuteTime": {
     "end_time": "2020-08-30T21:08:49.529214Z",
     "start_time": "2020-08-30T21:08:49.525465Z"
    },
    "execution": {
     "iopub.execute_input": "2022-08-16T06:26:44.663492Z",
     "iopub.status.busy": "2022-08-16T06:26:44.662898Z",
     "iopub.status.idle": "2022-08-16T06:26:44.672852Z",
     "shell.execute_reply": "2022-08-16T06:26:44.671952Z"
    },
    "papermill": {
     "duration": 0.029953,
     "end_time": "2022-08-16T06:26:44.675975",
     "exception": false,
     "start_time": "2022-08-16T06:26:44.646022",
     "status": "completed"
    },
    "tags": []
   },
   "outputs": [
    {
     "data": {
      "text/plain": [
       "array(['WTI Crude Oil', 'Brent Crude Oil', 'Heating Oil', 'Natural Gas',\n",
       "       'Gasoline', 'Copper', 'Gold', 'Palladium', 'Platinum', 'Silver',\n",
       "       'Feeder Cattle', 'Live Cattle', 'Lean Hog', 'Corn', 'Oats',\n",
       "       'Soybean Oil', 'Soybean Meal', 'Soybean', 'Wheat', 'Cocoa',\n",
       "       'Coffee', 'Cotton', 'Lumber', 'Orange Juice', 'Sugar',\n",
       "       'Australian Dollar', 'Canadian Dollar', 'Swiss Franc', 'Euro',\n",
       "       'British Pound', 'Japanese Yen', 'E-Mini Nasdaq 100',\n",
       "       'E-mini S&P 500', 'E-mini Russell 2000', 'FTSE 100', 'DAX',\n",
       "       'CAC 40', 'IBEX 35', 'AEX', 'Swiss Market Index', 'SPI 200',\n",
       "       'Topix', 'Hang Seng', 'US 2-year Treasury', 'US 5-year Treasury',\n",
       "       'US 10-year Treasury', 'US treasury Bond', 'Germany Schatz',\n",
       "       'Germany Bobl', 'Germany Bund', 'Germany Buxl', 'Gilt',\n",
       "       'Canada 10-year Treasury', 'JGB'], dtype=object)"
      ]
     },
     "execution_count": 2,
     "metadata": {},
     "output_type": "execute_result"
    }
   ],
   "source": [
    "all_futures_baltas2020['name'].values"
   ]
  },
  {
   "cell_type": "code",
   "execution_count": 3,
   "id": "5d587eaa",
   "metadata": {
    "ExecuteTime": {
     "end_time": "2020-08-30T21:08:49.542477Z",
     "start_time": "2020-08-30T21:08:49.530487Z"
    },
    "execution": {
     "iopub.execute_input": "2022-08-16T06:26:44.743205Z",
     "iopub.status.busy": "2022-08-16T06:26:44.742928Z",
     "iopub.status.idle": "2022-08-16T06:26:44.747654Z",
     "shell.execute_reply": "2022-08-16T06:26:44.746925Z"
    },
    "papermill": {
     "duration": 0.056738,
     "end_time": "2022-08-16T06:26:44.749409",
     "exception": false,
     "start_time": "2022-08-16T06:26:44.692671",
     "status": "completed"
    },
    "tags": []
   },
   "outputs": [
    {
     "name": "stdout",
     "output_type": "stream",
     "text": [
      "54\n"
     ]
    }
   ],
   "source": [
    "print(len(all_futures_baltas2020))"
   ]
  },
  {
   "cell_type": "markdown",
   "id": "81a19bbe",
   "metadata": {
    "papermill": {
     "duration": 0.011285,
     "end_time": "2022-08-16T06:26:44.771065",
     "exception": false,
     "start_time": "2022-08-16T06:26:44.759780",
     "status": "completed"
    },
    "tags": []
   },
   "source": [
    "We try to use the same contract as the original paper where possible, resulting 54 futures contracts to analyse. The trading universe covers a wide range of asset classes and regions, and is made up of following instruments:\n",
    "- Equity index futures\n",
    "- Government bond futures\n",
    "- FX futures\n",
    "- Commodity futures\n",
    "\n",
    "where the same trend detection method is applied."
   ]
  },
  {
   "cell_type": "markdown",
   "id": "1da23b17",
   "metadata": {
    "papermill": {
     "duration": 0.011213,
     "end_time": "2022-08-16T06:26:44.793586",
     "exception": false,
     "start_time": "2022-08-16T06:26:44.782373",
     "status": "completed"
    },
    "tags": []
   },
   "source": [
    "# Performance\n"
   ]
  },
  {
   "cell_type": "markdown",
   "id": "6fc5431f",
   "metadata": {
    "papermill": {
     "duration": 0.011054,
     "end_time": "2022-08-16T06:26:44.815795",
     "exception": false,
     "start_time": "2022-08-16T06:26:44.804741",
     "status": "completed"
    },
    "tags": []
   },
   "source": [
    "## Moskowitz et al\n",
    "\n",
    "First we calculate the original trend-following portfolio with a more traditional close-to-close realised volatility estimator. Although Moskowitz et al uses the exponentially weighted standard deviation, BK2020 appears to compare against the rolling standard deviation."
   ]
  },
  {
   "cell_type": "code",
   "execution_count": 4,
   "id": "5b014595",
   "metadata": {
    "execution": {
     "iopub.execute_input": "2022-08-16T06:26:44.841487Z",
     "iopub.status.busy": "2022-08-16T06:26:44.841188Z",
     "iopub.status.idle": "2022-08-16T06:38:49.537921Z",
     "shell.execute_reply": "2022-08-16T06:38:49.537257Z"
    },
    "papermill": {
     "duration": 724.712479,
     "end_time": "2022-08-16T06:38:49.540022",
     "exception": false,
     "start_time": "2022-08-16T06:26:44.827543",
     "status": "completed"
    },
    "tags": []
   },
   "outputs": [],
   "source": [
    "engine_original = BacktestEngine(\n",
    "    strategy=Strategy.DELTA_ONE.value,\n",
    "    instrument=all_futures_baltas2020.index,\n",
    "    signal=signal.ParallelSignal([\n",
    "        signal.VolatilityScale(agg_method='rolling', window=21, ann_factor=261, \n",
    "                               target_volatility=0.4, signal_cap=0.95),\n",
    "        signal.TSMOMMoskowitz2012(post_process=processing.AsFreq(freq='m', method='pad'))\n",
    "    ], weighting='product'),\n",
    "    weighting=Weighting.EQUAL_WEIGHT.value,\n",
    "    log_level=logging.WARN,\n",
    ")\n",
    "engine_original.run()"
   ]
  },
  {
   "cell_type": "code",
   "execution_count": 5,
   "id": "5888072d",
   "metadata": {
    "execution": {
     "iopub.execute_input": "2022-08-16T06:38:49.570054Z",
     "iopub.status.busy": "2022-08-16T06:38:49.569680Z",
     "iopub.status.idle": "2022-08-16T06:40:23.327912Z",
     "shell.execute_reply": "2022-08-16T06:40:23.327234Z"
    },
    "papermill": {
     "duration": 93.77553,
     "end_time": "2022-08-16T06:40:23.329858",
     "exception": false,
     "start_time": "2022-08-16T06:38:49.554328",
     "status": "completed"
    },
    "tags": []
   },
   "outputs": [],
   "source": [
    "engine_original_eq = (engine_original.calculate_equity_curve(calculate_net=False, rebalance_freq='m')\n",
    "                      .rename('Trend-following portfolio (Moskowitz 2012)'))"
   ]
  },
  {
   "cell_type": "code",
   "execution_count": 6,
   "id": "34f6ef34",
   "metadata": {
    "execution": {
     "iopub.execute_input": "2022-08-16T06:40:23.358804Z",
     "iopub.status.busy": "2022-08-16T06:40:23.358444Z",
     "iopub.status.idle": "2022-08-16T06:40:24.811317Z",
     "shell.execute_reply": "2022-08-16T06:40:24.810512Z"
    },
    "papermill": {
     "duration": 1.469759,
     "end_time": "2022-08-16T06:40:24.813686",
     "exception": false,
     "start_time": "2022-08-16T06:40:23.343927",
     "status": "completed"
    },
    "tags": []
   },
   "outputs": [
    {
     "data": {
      "image/png": "[encoded data removed]",
      "text/plain": [
       "<Figure size 576x324 with 1 Axes>"
      ]
     },
     "metadata": {
      "needs_background": "light"
     },
     "output_type": "display_data"
    }
   ],
   "source": [
    "fig, ax = plt.subplots(figsize=(8, 4.5))\n",
    "engine_original_eq.plot(ax=ax, logy=True)\n",
    "ax.set_title('Trend-following portfolio (Moskowitz 2012)')\n",
    "ax.set_ylabel('Cumulative returns');"
   ]
  },
  {
   "cell_type": "code",
   "execution_count": 7,
   "id": "8a629a1b",
   "metadata": {
    "execution": {
     "iopub.execute_input": "2022-08-16T06:40:24.851403Z",
     "iopub.status.busy": "2022-08-16T06:40:24.850667Z",
     "iopub.status.idle": "2022-08-16T06:40:24.935474Z",
     "shell.execute_reply": "2022-08-16T06:40:24.934599Z"
    },
    "papermill": {
     "duration": 0.106467,
     "end_time": "2022-08-16T06:40:24.937992",
     "exception": false,
     "start_time": "2022-08-16T06:40:24.831525",
     "status": "completed"
    },
    "tags": []
   },
   "outputs": [
    {
     "data": {
      "text/html": [
       "<div>\n",
       "<style scoped>\n",
       "    .dataframe tbody tr th:only-of-type {\n",
       "        vertical-align: middle;\n",
       "    }\n",
       "\n",
       "    .dataframe tbody tr th {\n",
       "        vertical-align: top;\n",
       "    }\n",
       "\n",
       "    .dataframe thead th {\n",
       "        text-align: right;\n",
       "    }\n",
       "</style>\n",
       "<table border=\"1\" class=\"dataframe\">\n",
       "  <thead>\n",
       "    <tr style=\"text-align: right;\">\n",
       "      <th></th>\n",
       "      <th>Trend-following portfolio (Moskowitz 2012)</th>\n",
       "    </tr>\n",
       "  </thead>\n",
       "  <tbody>\n",
       "    <tr>\n",
       "      <th>CAGR</th>\n",
       "      <td>0.147163</td>\n",
       "    </tr>\n",
       "    <tr>\n",
       "      <th>Annualised vol</th>\n",
       "      <td>0.124966</td>\n",
       "    </tr>\n",
       "    <tr>\n",
       "      <th>Sharpe ratio</th>\n",
       "      <td>1.177631</td>\n",
       "    </tr>\n",
       "    <tr>\n",
       "      <th>Max drawdown</th>\n",
       "      <td>0.259239</td>\n",
       "    </tr>\n",
       "    <tr>\n",
       "      <th>Calmar ratio</th>\n",
       "      <td>0.567674</td>\n",
       "    </tr>\n",
       "    <tr>\n",
       "      <th>Skewness</th>\n",
       "      <td>0.073317</td>\n",
       "    </tr>\n",
       "    <tr>\n",
       "      <th>Kurtosis</th>\n",
       "      <td>19.351748</td>\n",
       "    </tr>\n",
       "    <tr>\n",
       "      <th>Worst return</th>\n",
       "      <td>-0.126276</td>\n",
       "    </tr>\n",
       "    <tr>\n",
       "      <th>Worst 1d return</th>\n",
       "      <td>-0.126276</td>\n",
       "    </tr>\n",
       "    <tr>\n",
       "      <th>Worst 1w return</th>\n",
       "      <td>-0.107725</td>\n",
       "    </tr>\n",
       "    <tr>\n",
       "      <th>Worst 1m return</th>\n",
       "      <td>-0.152667</td>\n",
       "    </tr>\n",
       "  </tbody>\n",
       "</table>\n",
       "</div>"
      ],
      "text/plain": [
       "                 Trend-following portfolio (Moskowitz 2012)\n",
       "CAGR                                               0.147163\n",
       "Annualised vol                                     0.124966\n",
       "Sharpe ratio                                       1.177631\n",
       "Max drawdown                                       0.259239\n",
       "Calmar ratio                                       0.567674\n",
       "Skewness                                           0.073317\n",
       "Kurtosis                                          19.351748\n",
       "Worst return                                      -0.126276\n",
       "Worst 1d return                                   -0.126276\n",
       "Worst 1w return                                   -0.107725\n",
       "Worst 1m return                                   -0.152667"
      ]
     },
     "execution_count": 7,
     "metadata": {},
     "output_type": "execute_result"
    }
   ],
   "source": [
    "engine_original_eq.pipe(Performance).summary()"
   ]
  },
  {
   "cell_type": "markdown",
   "id": "442e4823",
   "metadata": {
    "papermill": {
     "duration": 0.016104,
     "end_time": "2022-08-16T06:40:24.970658",
     "exception": false,
     "start_time": "2022-08-16T06:40:24.954554",
     "status": "completed"
    },
    "tags": []
   },
   "source": [
    "\n",
    "## Volatility estimator\n",
    "BK2020 proposes a few changes in order to enhance the original trend-following strategy Moskowitz et al reported. The first thing is to use a more sophisticated realised volatility estimators for volatility scaling. Moskowitz used the exponentially weighted standard deviation with close-to-close. On the other hand, BK2020 suggests to use Yang-Zhang estimator as it is much more efficient."
   ]
  },
  {
   "cell_type": "code",
   "execution_count": 8,
   "id": "1281d732",
   "metadata": {
    "ExecuteTime": {
     "end_time": "2020-08-30T21:18:24.661167Z",
     "start_time": "2020-08-30T21:08:49.544232Z"
    },
    "execution": {
     "iopub.execute_input": "2022-08-16T06:40:25.005191Z",
     "iopub.status.busy": "2022-08-16T06:40:25.004715Z",
     "iopub.status.idle": "2022-08-16T07:01:47.110165Z",
     "shell.execute_reply": "2022-08-16T07:01:47.109376Z"
    },
    "papermill": {
     "duration": 1282.125384,
     "end_time": "2022-08-16T07:01:47.112283",
     "exception": false,
     "start_time": "2022-08-16T06:40:24.986899",
     "status": "completed"
    },
    "tags": []
   },
   "outputs": [],
   "source": [
    "engine_vol = BacktestEngine(\n",
    "    strategy=Strategy.DELTA_ONE.value,\n",
    "    instrument=all_futures_baltas2020.index,\n",
    "    signal=signal.ParallelSignal([\n",
    "        signal.VolatilityScale(volatility_type=RealisedVolatility.YZ.value,\n",
    "                               agg_method='rolling', window=21, min_periods=10,\n",
    "                               target_volatility=0.4, signal_cap=0.95, ann_factor=261),\n",
    "        signal.TSMOMMoskowitz2012(post_process=processing.AsFreq(freq='m', method='pad'))\n",
    "    ], weighting='product'),\n",
    "    weighting=Weighting.EQUAL_WEIGHT.value,\n",
    "    log_level=logging.WARN,\n",
    ")\n",
    "engine_vol.run()"
   ]
  },
  {
   "cell_type": "code",
   "execution_count": 9,
   "id": "67b8ed09",
   "metadata": {
    "execution": {
     "iopub.execute_input": "2022-08-16T07:01:47.135995Z",
     "iopub.status.busy": "2022-08-16T07:01:47.135373Z",
     "iopub.status.idle": "2022-08-16T07:03:08.518023Z",
     "shell.execute_reply": "2022-08-16T07:03:08.517168Z"
    },
    "papermill": {
     "duration": 81.396455,
     "end_time": "2022-08-16T07:03:08.519966",
     "exception": false,
     "start_time": "2022-08-16T07:01:47.123511",
     "status": "completed"
    },
    "tags": []
   },
   "outputs": [],
   "source": [
    "engine_vol_eq = (engine_vol.calculate_equity_curve(calculate_net=False, rebalance_freq='m')\n",
    "                 .rename('Trend-following portfolio (YZ estimator)'))"
   ]
  },
  {
   "cell_type": "code",
   "execution_count": 10,
   "id": "9e43bb4f",
   "metadata": {
    "execution": {
     "iopub.execute_input": "2022-08-16T07:03:08.550463Z",
     "iopub.status.busy": "2022-08-16T07:03:08.549966Z",
     "iopub.status.idle": "2022-08-16T07:03:09.138463Z",
     "shell.execute_reply": "2022-08-16T07:03:09.137560Z"
    },
    "papermill": {
     "duration": 0.604225,
     "end_time": "2022-08-16T07:03:09.140325",
     "exception": false,
     "start_time": "2022-08-16T07:03:08.536100",
     "status": "completed"
    },
    "tags": []
   },
   "outputs": [
    {
     "data": {
      "image/png": "[encoded data removed]",
      "text/plain": [
       "<Figure size 576x324 with 1 Axes>"
      ]
     },
     "metadata": {
      "needs_background": "light"
     },
     "output_type": "display_data"
    }
   ],
   "source": [
    "fig, ax = plt.subplots(figsize=(8, 4.5))\n",
    "engine_vol_eq.plot(ax=ax, logy=True);\n",
    "ax.set_title('Trend-following portfolio (YZ estimator)')\n",
    "ax.set_ylabel('Cumulative returns');"
   ]
  },
  {
   "cell_type": "code",
   "execution_count": 11,
   "id": "1e80e351",
   "metadata": {
    "execution": {
     "iopub.execute_input": "2022-08-16T07:03:09.163489Z",
     "iopub.status.busy": "2022-08-16T07:03:09.163226Z",
     "iopub.status.idle": "2022-08-16T07:03:09.242288Z",
     "shell.execute_reply": "2022-08-16T07:03:09.241482Z"
    },
    "papermill": {
     "duration": 0.092803,
     "end_time": "2022-08-16T07:03:09.244110",
     "exception": false,
     "start_time": "2022-08-16T07:03:09.151307",
     "status": "completed"
    },
    "tags": []
   },
   "outputs": [
    {
     "data": {
      "text/html": [
       "<div>\n",
       "<style scoped>\n",
       "    .dataframe tbody tr th:only-of-type {\n",
       "        vertical-align: middle;\n",
       "    }\n",
       "\n",
       "    .dataframe tbody tr th {\n",
       "        vertical-align: top;\n",
       "    }\n",
       "\n",
       "    .dataframe thead th {\n",
       "        text-align: right;\n",
       "    }\n",
       "</style>\n",
       "<table border=\"1\" class=\"dataframe\">\n",
       "  <thead>\n",
       "    <tr style=\"text-align: right;\">\n",
       "      <th></th>\n",
       "      <th>Trend-following portfolio (YZ estimator)</th>\n",
       "    </tr>\n",
       "  </thead>\n",
       "  <tbody>\n",
       "    <tr>\n",
       "      <th>CAGR</th>\n",
       "      <td>0.148818</td>\n",
       "    </tr>\n",
       "    <tr>\n",
       "      <th>Annualised vol</th>\n",
       "      <td>0.127256</td>\n",
       "    </tr>\n",
       "    <tr>\n",
       "      <th>Sharpe ratio</th>\n",
       "      <td>1.169442</td>\n",
       "    </tr>\n",
       "    <tr>\n",
       "      <th>Max drawdown</th>\n",
       "      <td>0.305877</td>\n",
       "    </tr>\n",
       "    <tr>\n",
       "      <th>Calmar ratio</th>\n",
       "      <td>0.486529</td>\n",
       "    </tr>\n",
       "    <tr>\n",
       "      <th>Skewness</th>\n",
       "      <td>0.280573</td>\n",
       "    </tr>\n",
       "    <tr>\n",
       "      <th>Kurtosis</th>\n",
       "      <td>22.134361</td>\n",
       "    </tr>\n",
       "    <tr>\n",
       "      <th>Worst return</th>\n",
       "      <td>-0.137043</td>\n",
       "    </tr>\n",
       "    <tr>\n",
       "      <th>Worst 1d return</th>\n",
       "      <td>-0.137043</td>\n",
       "    </tr>\n",
       "    <tr>\n",
       "      <th>Worst 1w return</th>\n",
       "      <td>-0.098542</td>\n",
       "    </tr>\n",
       "    <tr>\n",
       "      <th>Worst 1m return</th>\n",
       "      <td>-0.169177</td>\n",
       "    </tr>\n",
       "  </tbody>\n",
       "</table>\n",
       "</div>"
      ],
      "text/plain": [
       "                 Trend-following portfolio (YZ estimator)\n",
       "CAGR                                             0.148818\n",
       "Annualised vol                                   0.127256\n",
       "Sharpe ratio                                     1.169442\n",
       "Max drawdown                                     0.305877\n",
       "Calmar ratio                                     0.486529\n",
       "Skewness                                         0.280573\n",
       "Kurtosis                                        22.134361\n",
       "Worst return                                    -0.137043\n",
       "Worst 1d return                                 -0.137043\n",
       "Worst 1w return                                 -0.098542\n",
       "Worst 1m return                                 -0.169177"
      ]
     },
     "execution_count": 11,
     "metadata": {},
     "output_type": "execute_result"
    }
   ],
   "source": [
    "engine_vol_eq.pipe(Performance).summary()"
   ]
  },
  {
   "cell_type": "markdown",
   "id": "25545653",
   "metadata": {
    "papermill": {
     "duration": 0.011138,
     "end_time": "2022-08-16T07:03:09.266351",
     "exception": false,
     "start_time": "2022-08-16T07:03:09.255213",
     "status": "completed"
    },
    "tags": []
   },
   "source": [
    "## TREND signal\n",
    "\n",
    "Another improvement BK2020 proposes is to use a continuous signal rather than a binary one in order to reduce the turnover when signals are weak. Specifically they used the t-values with the Newey-West standard error as the signal. They further capped and floored the signal between -1 and +1 to avoid extreme positions.\n",
    "\n",
    "`statsmodels`'s `OLS` class provides a method to compute the Newey-West standard error. https://www.statsmodels.org/stable/generated/statsmodels.regression.linear_model.OLS.html"
   ]
  },
  {
   "cell_type": "code",
   "execution_count": 12,
   "id": "1bdbdae9",
   "metadata": {
    "execution": {
     "iopub.execute_input": "2022-08-16T07:03:09.289657Z",
     "iopub.status.busy": "2022-08-16T07:03:09.289388Z",
     "iopub.status.idle": "2022-08-16T07:21:04.315901Z",
     "shell.execute_reply": "2022-08-16T07:21:04.315164Z"
    },
    "papermill": {
     "duration": 1075.040515,
     "end_time": "2022-08-16T07:21:04.317814",
     "exception": false,
     "start_time": "2022-08-16T07:03:09.277299",
     "status": "completed"
    },
    "tags": []
   },
   "outputs": [],
   "source": [
    "engine_trend = BacktestEngine(\n",
    "    strategy=Strategy.DELTA_ONE.value,\n",
    "    instrument=all_futures_baltas2020.index,\n",
    "    signal=signal.ParallelSignal([\n",
    "        signal.VolatilityScale(agg_method='rolling', window=21, ann_factor=261, \n",
    "                               target_volatility=0.4, signal_cap=0.95),\n",
    "        signal.TSMOMBaltas2020()\n",
    "    ], weighting='product'),\n",
    "    weighting=Weighting.EQUAL_WEIGHT.value,\n",
    "    log_level=logging.WARN,\n",
    ")\n",
    "engine_trend.run()"
   ]
  },
  {
   "cell_type": "code",
   "execution_count": 13,
   "id": "e24245d6",
   "metadata": {
    "execution": {
     "iopub.execute_input": "2022-08-16T07:21:04.341693Z",
     "iopub.status.busy": "2022-08-16T07:21:04.341412Z",
     "iopub.status.idle": "2022-08-16T07:22:28.851168Z",
     "shell.execute_reply": "2022-08-16T07:22:28.850346Z"
    },
    "papermill": {
     "duration": 84.524141,
     "end_time": "2022-08-16T07:22:28.853424",
     "exception": false,
     "start_time": "2022-08-16T07:21:04.329283",
     "status": "completed"
    },
    "tags": []
   },
   "outputs": [],
   "source": [
    "engine_trend_eq = (engine_trend.calculate_equity_curve(calculate_net=False, rebalance_freq='m')\n",
    "                   .rename('Trend-following portfolio (TREND signal)'))"
   ]
  },
  {
   "cell_type": "code",
   "execution_count": 14,
   "id": "35fa627d",
   "metadata": {
    "execution": {
     "iopub.execute_input": "2022-08-16T07:22:28.878593Z",
     "iopub.status.busy": "2022-08-16T07:22:28.878230Z",
     "iopub.status.idle": "2022-08-16T07:22:29.469346Z",
     "shell.execute_reply": "2022-08-16T07:22:29.468624Z"
    },
    "papermill": {
     "duration": 0.605266,
     "end_time": "2022-08-16T07:22:29.471081",
     "exception": false,
     "start_time": "2022-08-16T07:22:28.865815",
     "status": "completed"
    },
    "tags": []
   },
   "outputs": [
    {
     "data": {
      "image/png": "[encoded data removed]",
      "text/plain": [
       "<Figure size 576x324 with 1 Axes>"
      ]
     },
     "metadata": {
      "needs_background": "light"
     },
     "output_type": "display_data"
    }
   ],
   "source": [
    "fig, ax = plt.subplots(figsize=(8, 4.5))\n",
    "engine_trend_eq.plot(ax=ax, logy=True);\n",
    "ax.set_title('Trend-following portfolio (TREND signal)')\n",
    "ax.set_ylabel('Cumulative returns');"
   ]
  },
  {
   "cell_type": "code",
   "execution_count": 15,
   "id": "8dce40a5",
   "metadata": {
    "execution": {
     "iopub.execute_input": "2022-08-16T07:22:29.495657Z",
     "iopub.status.busy": "2022-08-16T07:22:29.495381Z",
     "iopub.status.idle": "2022-08-16T07:22:29.576240Z",
     "shell.execute_reply": "2022-08-16T07:22:29.575535Z"
    },
    "papermill": {
     "duration": 0.095245,
     "end_time": "2022-08-16T07:22:29.578016",
     "exception": false,
     "start_time": "2022-08-16T07:22:29.482771",
     "status": "completed"
    },
    "tags": []
   },
   "outputs": [
    {
     "data": {
      "text/html": [
       "<div>\n",
       "<style scoped>\n",
       "    .dataframe tbody tr th:only-of-type {\n",
       "        vertical-align: middle;\n",
       "    }\n",
       "\n",
       "    .dataframe tbody tr th {\n",
       "        vertical-align: top;\n",
       "    }\n",
       "\n",
       "    .dataframe thead th {\n",
       "        text-align: right;\n",
       "    }\n",
       "</style>\n",
       "<table border=\"1\" class=\"dataframe\">\n",
       "  <thead>\n",
       "    <tr style=\"text-align: right;\">\n",
       "      <th></th>\n",
       "      <th>Trend-following portfolio (TREND signal)</th>\n",
       "    </tr>\n",
       "  </thead>\n",
       "  <tbody>\n",
       "    <tr>\n",
       "      <th>CAGR</th>\n",
       "      <td>0.139261</td>\n",
       "    </tr>\n",
       "    <tr>\n",
       "      <th>Annualised vol</th>\n",
       "      <td>0.107932</td>\n",
       "    </tr>\n",
       "    <tr>\n",
       "      <th>Sharpe ratio</th>\n",
       "      <td>1.290260</td>\n",
       "    </tr>\n",
       "    <tr>\n",
       "      <th>Max drawdown</th>\n",
       "      <td>0.294584</td>\n",
       "    </tr>\n",
       "    <tr>\n",
       "      <th>Calmar ratio</th>\n",
       "      <td>0.472738</td>\n",
       "    </tr>\n",
       "    <tr>\n",
       "      <th>Skewness</th>\n",
       "      <td>0.159349</td>\n",
       "    </tr>\n",
       "    <tr>\n",
       "      <th>Kurtosis</th>\n",
       "      <td>28.014446</td>\n",
       "    </tr>\n",
       "    <tr>\n",
       "      <th>Worst return</th>\n",
       "      <td>-0.121269</td>\n",
       "    </tr>\n",
       "    <tr>\n",
       "      <th>Worst 1d return</th>\n",
       "      <td>-0.121269</td>\n",
       "    </tr>\n",
       "    <tr>\n",
       "      <th>Worst 1w return</th>\n",
       "      <td>-0.110077</td>\n",
       "    </tr>\n",
       "    <tr>\n",
       "      <th>Worst 1m return</th>\n",
       "      <td>-0.171789</td>\n",
       "    </tr>\n",
       "  </tbody>\n",
       "</table>\n",
       "</div>"
      ],
      "text/plain": [
       "                 Trend-following portfolio (TREND signal)\n",
       "CAGR                                             0.139261\n",
       "Annualised vol                                   0.107932\n",
       "Sharpe ratio                                     1.290260\n",
       "Max drawdown                                     0.294584\n",
       "Calmar ratio                                     0.472738\n",
       "Skewness                                         0.159349\n",
       "Kurtosis                                        28.014446\n",
       "Worst return                                    -0.121269\n",
       "Worst 1d return                                 -0.121269\n",
       "Worst 1w return                                 -0.110077\n",
       "Worst 1m return                                 -0.171789"
      ]
     },
     "execution_count": 15,
     "metadata": {},
     "output_type": "execute_result"
    }
   ],
   "source": [
    "engine_trend_eq.pipe(Performance).summary()"
   ]
  },
  {
   "cell_type": "markdown",
   "id": "78fdb057",
   "metadata": {
    "papermill": {
     "duration": 0.011709,
     "end_time": "2022-08-16T07:22:29.601504",
     "exception": false,
     "start_time": "2022-08-16T07:22:29.589795",
     "status": "completed"
    },
    "tags": []
   },
   "source": [
    "## Combined\n",
    "\n",
    "Finally we run a backtest by using both the Yang-Zhang volatility estimator and the TREND signal."
   ]
  },
  {
   "cell_type": "code",
   "execution_count": 16,
   "id": "076a32f6",
   "metadata": {
    "execution": {
     "iopub.execute_input": "2022-08-16T07:22:29.626320Z",
     "iopub.status.busy": "2022-08-16T07:22:29.626017Z",
     "iopub.status.idle": "2022-08-16T07:48:46.708232Z",
     "shell.execute_reply": "2022-08-16T07:48:46.707472Z"
    },
    "papermill": {
     "duration": 1577.096825,
     "end_time": "2022-08-16T07:48:46.710214",
     "exception": false,
     "start_time": "2022-08-16T07:22:29.613389",
     "status": "completed"
    },
    "tags": []
   },
   "outputs": [],
   "source": [
    "engine_combined = BacktestEngine(\n",
    "    strategy=Strategy.DELTA_ONE.value,\n",
    "    instrument=all_futures_baltas2020.index,\n",
    "    signal=signal.ParallelSignal([\n",
    "        signal.VolatilityScale(volatility_type=RealisedVolatility.YZ.value,\n",
    "                               agg_method='rolling', window=21, min_periods=10,\n",
    "                               target_volatility=0.4, signal_cap=0.95, ann_factor=261),\n",
    "        signal.TSMOMBaltas2020()\n",
    "    ], weighting='product'),\n",
    "    weighting=Weighting.EQUAL_WEIGHT.value,\n",
    "    log_level=logging.WARN,\n",
    ")\n",
    "engine_combined.run()"
   ]
  },
  {
   "cell_type": "code",
   "execution_count": 17,
   "id": "7e90261d",
   "metadata": {
    "execution": {
     "iopub.execute_input": "2022-08-16T07:48:46.734918Z",
     "iopub.status.busy": "2022-08-16T07:48:46.734357Z",
     "iopub.status.idle": "2022-08-16T07:50:03.472145Z",
     "shell.execute_reply": "2022-08-16T07:50:03.471336Z"
    },
    "papermill": {
     "duration": 76.752456,
     "end_time": "2022-08-16T07:50:03.474384",
     "exception": false,
     "start_time": "2022-08-16T07:48:46.721928",
     "status": "completed"
    },
    "tags": []
   },
   "outputs": [],
   "source": [
    "engine_combined_eq = (engine_combined.calculate_equity_curve(calculate_net=False, rebalance_freq='m')\n",
    "                      .rename('Trend-following portfolio (YZ estimator + TREND signal)'))"
   ]
  },
  {
   "cell_type": "code",
   "execution_count": 18,
   "id": "356f2fa9",
   "metadata": {
    "execution": {
     "iopub.execute_input": "2022-08-16T07:50:03.501106Z",
     "iopub.status.busy": "2022-08-16T07:50:03.500475Z",
     "iopub.status.idle": "2022-08-16T07:50:04.268109Z",
     "shell.execute_reply": "2022-08-16T07:50:04.267134Z"
    },
    "papermill": {
     "duration": 0.783581,
     "end_time": "2022-08-16T07:50:04.270463",
     "exception": false,
     "start_time": "2022-08-16T07:50:03.486882",
     "status": "completed"
    },
    "tags": []
   },
   "outputs": [
    {
     "data": {
      "image/png": "[encoded data removed]",
      "text/plain": [
       "<Figure size 576x324 with 1 Axes>"
      ]
     },
     "metadata": {
      "needs_background": "light"
     },
     "output_type": "display_data"
    }
   ],
   "source": [
    "fig, ax = plt.subplots(figsize=(8, 4.5))\n",
    "engine_combined_eq.plot(ax=ax, logy=True)\n",
    "ax.set_title('Trend-following portfolio (YZ estimator + TREND signal)')\n",
    "ax.set_ylabel('Cumulative returns');"
   ]
  },
  {
   "cell_type": "code",
   "execution_count": 19,
   "id": "8abdec52",
   "metadata": {
    "execution": {
     "iopub.execute_input": "2022-08-16T07:50:04.329652Z",
     "iopub.status.busy": "2022-08-16T07:50:04.329368Z",
     "iopub.status.idle": "2022-08-16T07:50:04.413218Z",
     "shell.execute_reply": "2022-08-16T07:50:04.412488Z"
    },
    "papermill": {
     "duration": 0.132256,
     "end_time": "2022-08-16T07:50:04.414951",
     "exception": false,
     "start_time": "2022-08-16T07:50:04.282695",
     "status": "completed"
    },
    "tags": []
   },
   "outputs": [
    {
     "data": {
      "text/html": [
       "<div>\n",
       "<style scoped>\n",
       "    .dataframe tbody tr th:only-of-type {\n",
       "        vertical-align: middle;\n",
       "    }\n",
       "\n",
       "    .dataframe tbody tr th {\n",
       "        vertical-align: top;\n",
       "    }\n",
       "\n",
       "    .dataframe thead th {\n",
       "        text-align: right;\n",
       "    }\n",
       "</style>\n",
       "<table border=\"1\" class=\"dataframe\">\n",
       "  <thead>\n",
       "    <tr style=\"text-align: right;\">\n",
       "      <th></th>\n",
       "      <th>Trend-following portfolio (YZ estimator + TREND signal)</th>\n",
       "    </tr>\n",
       "  </thead>\n",
       "  <tbody>\n",
       "    <tr>\n",
       "      <th>CAGR</th>\n",
       "      <td>0.139709</td>\n",
       "    </tr>\n",
       "    <tr>\n",
       "      <th>Annualised vol</th>\n",
       "      <td>0.110668</td>\n",
       "    </tr>\n",
       "    <tr>\n",
       "      <th>Sharpe ratio</th>\n",
       "      <td>1.262418</td>\n",
       "    </tr>\n",
       "    <tr>\n",
       "      <th>Max drawdown</th>\n",
       "      <td>0.313945</td>\n",
       "    </tr>\n",
       "    <tr>\n",
       "      <th>Calmar ratio</th>\n",
       "      <td>0.445011</td>\n",
       "    </tr>\n",
       "    <tr>\n",
       "      <th>Skewness</th>\n",
       "      <td>0.292905</td>\n",
       "    </tr>\n",
       "    <tr>\n",
       "      <th>Kurtosis</th>\n",
       "      <td>32.535807</td>\n",
       "    </tr>\n",
       "    <tr>\n",
       "      <th>Worst return</th>\n",
       "      <td>-0.130152</td>\n",
       "    </tr>\n",
       "    <tr>\n",
       "      <th>Worst 1d return</th>\n",
       "      <td>-0.130152</td>\n",
       "    </tr>\n",
       "    <tr>\n",
       "      <th>Worst 1w return</th>\n",
       "      <td>-0.112097</td>\n",
       "    </tr>\n",
       "    <tr>\n",
       "      <th>Worst 1m return</th>\n",
       "      <td>-0.186272</td>\n",
       "    </tr>\n",
       "  </tbody>\n",
       "</table>\n",
       "</div>"
      ],
      "text/plain": [
       "                 Trend-following portfolio (YZ estimator + TREND signal)\n",
       "CAGR                                                      0.139709      \n",
       "Annualised vol                                            0.110668      \n",
       "Sharpe ratio                                              1.262418      \n",
       "Max drawdown                                              0.313945      \n",
       "Calmar ratio                                              0.445011      \n",
       "Skewness                                                  0.292905      \n",
       "Kurtosis                                                 32.535807      \n",
       "Worst return                                             -0.130152      \n",
       "Worst 1d return                                          -0.130152      \n",
       "Worst 1w return                                          -0.112097      \n",
       "Worst 1m return                                          -0.186272      "
      ]
     },
     "execution_count": 19,
     "metadata": {},
     "output_type": "execute_result"
    }
   ],
   "source": [
    "engine_combined_eq.pipe(Performance).summary()"
   ]
  },
  {
   "cell_type": "markdown",
   "id": "122057a5",
   "metadata": {
    "papermill": {
     "duration": 0.012597,
     "end_time": "2022-08-16T07:50:04.440003",
     "exception": false,
     "start_time": "2022-08-16T07:50:04.427406",
     "status": "completed"
    },
    "tags": []
   },
   "source": [
    "# Comparison\n",
    "\n",
    "In this section we compare the above 4 backtests."
   ]
  },
  {
   "cell_type": "markdown",
   "id": "7c9aea8c",
   "metadata": {
    "papermill": {
     "duration": 0.012556,
     "end_time": "2022-08-16T07:50:04.464825",
     "exception": false,
     "start_time": "2022-08-16T07:50:04.452269",
     "status": "completed"
    },
    "tags": []
   },
   "source": [
    "## Performance\n",
    "\n",
    "As reported in BK2020, using the YZ estimator and TREND signal does not alter the performance characteristics. Rather, the TREND signal somewhat improves the Sharpe ratio. Also the TREND signal lowers the annualised volatility from 12.5% to 10.8% with the close-to-close realised volatility."
   ]
  },
  {
   "cell_type": "code",
   "execution_count": 20,
   "id": "6e1942e1",
   "metadata": {
    "execution": {
     "iopub.execute_input": "2022-08-16T07:50:04.491592Z",
     "iopub.status.busy": "2022-08-16T07:50:04.491207Z",
     "iopub.status.idle": "2022-08-16T07:50:04.509270Z",
     "shell.execute_reply": "2022-08-16T07:50:04.508423Z"
    },
    "papermill": {
     "duration": 0.033944,
     "end_time": "2022-08-16T07:50:04.511191",
     "exception": false,
     "start_time": "2022-08-16T07:50:04.477247",
     "status": "completed"
    },
    "tags": []
   },
   "outputs": [],
   "source": [
    "performance_comp = pd.concat((engine_original_eq, engine_vol_eq, \n",
    "                              engine_trend_eq, engine_combined_eq), axis=1)"
   ]
  },
  {
   "cell_type": "code",
   "execution_count": 21,
   "id": "56a67fa0",
   "metadata": {
    "execution": {
     "iopub.execute_input": "2022-08-16T07:50:04.537100Z",
     "iopub.status.busy": "2022-08-16T07:50:04.536712Z",
     "iopub.status.idle": "2022-08-16T07:50:05.381198Z",
     "shell.execute_reply": "2022-08-16T07:50:05.380208Z"
    },
    "papermill": {
     "duration": 0.859934,
     "end_time": "2022-08-16T07:50:05.383225",
     "exception": false,
     "start_time": "2022-08-16T07:50:04.523291",
     "status": "completed"
    },
    "tags": []
   },
   "outputs": [
    {
     "data": {
      "image/png": "[encoded data removed]",
      "text/plain": [
       "<Figure size 576x324 with 1 Axes>"
      ]
     },
     "metadata": {
      "needs_background": "light"
     },
     "output_type": "display_data"
    }
   ],
   "source": [
    "fig, ax = plt.subplots(figsize=(8, 4.5))\n",
    "performance_comp.plot(ax=ax, logy=True);\n",
    "ax.set_title('Trend-following portfolio')\n",
    "ax.set_ylabel('Cumulative returns');"
   ]
  },
  {
   "cell_type": "code",
   "execution_count": 22,
   "id": "edde0e8a",
   "metadata": {
    "execution": {
     "iopub.execute_input": "2022-08-16T07:50:05.412141Z",
     "iopub.status.busy": "2022-08-16T07:50:05.411521Z",
     "iopub.status.idle": "2022-08-16T07:50:05.524407Z",
     "shell.execute_reply": "2022-08-16T07:50:05.523570Z"
    },
    "papermill": {
     "duration": 0.128915,
     "end_time": "2022-08-16T07:50:05.526214",
     "exception": false,
     "start_time": "2022-08-16T07:50:05.397299",
     "status": "completed"
    },
    "tags": []
   },
   "outputs": [
    {
     "data": {
      "text/html": [
       "<div>\n",
       "<style scoped>\n",
       "    .dataframe tbody tr th:only-of-type {\n",
       "        vertical-align: middle;\n",
       "    }\n",
       "\n",
       "    .dataframe tbody tr th {\n",
       "        vertical-align: top;\n",
       "    }\n",
       "\n",
       "    .dataframe thead th {\n",
       "        text-align: right;\n",
       "    }\n",
       "</style>\n",
       "<table border=\"1\" class=\"dataframe\">\n",
       "  <thead>\n",
       "    <tr style=\"text-align: right;\">\n",
       "      <th></th>\n",
       "      <th>Trend-following portfolio (Moskowitz 2012)</th>\n",
       "      <th>Trend-following portfolio (YZ estimator)</th>\n",
       "      <th>Trend-following portfolio (TREND signal)</th>\n",
       "      <th>Trend-following portfolio (YZ estimator + TREND signal)</th>\n",
       "    </tr>\n",
       "  </thead>\n",
       "  <tbody>\n",
       "    <tr>\n",
       "      <th>CAGR</th>\n",
       "      <td>0.147163</td>\n",
       "      <td>0.148452</td>\n",
       "      <td>0.139261</td>\n",
       "      <td>0.139366</td>\n",
       "    </tr>\n",
       "    <tr>\n",
       "      <th>Annualised vol</th>\n",
       "      <td>0.124966</td>\n",
       "      <td>0.127100</td>\n",
       "      <td>0.107932</td>\n",
       "      <td>0.110533</td>\n",
       "    </tr>\n",
       "    <tr>\n",
       "      <th>Sharpe ratio</th>\n",
       "      <td>1.177631</td>\n",
       "      <td>1.167994</td>\n",
       "      <td>1.290260</td>\n",
       "      <td>1.260854</td>\n",
       "    </tr>\n",
       "    <tr>\n",
       "      <th>Max drawdown</th>\n",
       "      <td>0.259239</td>\n",
       "      <td>0.305877</td>\n",
       "      <td>0.294584</td>\n",
       "      <td>0.313945</td>\n",
       "    </tr>\n",
       "    <tr>\n",
       "      <th>Calmar ratio</th>\n",
       "      <td>0.567674</td>\n",
       "      <td>0.485333</td>\n",
       "      <td>0.472738</td>\n",
       "      <td>0.443917</td>\n",
       "    </tr>\n",
       "    <tr>\n",
       "      <th>Skewness</th>\n",
       "      <td>0.073317</td>\n",
       "      <td>0.281484</td>\n",
       "      <td>0.159349</td>\n",
       "      <td>0.293870</td>\n",
       "    </tr>\n",
       "    <tr>\n",
       "      <th>Kurtosis</th>\n",
       "      <td>19.351748</td>\n",
       "      <td>22.195736</td>\n",
       "      <td>28.014446</td>\n",
       "      <td>32.622364</td>\n",
       "    </tr>\n",
       "    <tr>\n",
       "      <th>Worst return</th>\n",
       "      <td>-0.126276</td>\n",
       "      <td>-0.137043</td>\n",
       "      <td>-0.121269</td>\n",
       "      <td>-0.130152</td>\n",
       "    </tr>\n",
       "    <tr>\n",
       "      <th>Worst 1d return</th>\n",
       "      <td>-0.126276</td>\n",
       "      <td>-0.137043</td>\n",
       "      <td>-0.121269</td>\n",
       "      <td>-0.130152</td>\n",
       "    </tr>\n",
       "    <tr>\n",
       "      <th>Worst 1w return</th>\n",
       "      <td>-0.107725</td>\n",
       "      <td>-0.098542</td>\n",
       "      <td>-0.110077</td>\n",
       "      <td>-0.112097</td>\n",
       "    </tr>\n",
       "    <tr>\n",
       "      <th>Worst 1m return</th>\n",
       "      <td>-0.152667</td>\n",
       "      <td>-0.169177</td>\n",
       "      <td>-0.171789</td>\n",
       "      <td>-0.186272</td>\n",
       "    </tr>\n",
       "  </tbody>\n",
       "</table>\n",
       "</div>"
      ],
      "text/plain": [
       "                 Trend-following portfolio (Moskowitz 2012)  \\\n",
       "CAGR                                               0.147163   \n",
       "Annualised vol                                     0.124966   \n",
       "Sharpe ratio                                       1.177631   \n",
       "Max drawdown                                       0.259239   \n",
       "Calmar ratio                                       0.567674   \n",
       "Skewness                                           0.073317   \n",
       "Kurtosis                                          19.351748   \n",
       "Worst return                                      -0.126276   \n",
       "Worst 1d return                                   -0.126276   \n",
       "Worst 1w return                                   -0.107725   \n",
       "Worst 1m return                                   -0.152667   \n",
       "\n",
       "                 Trend-following portfolio (YZ estimator)  \\\n",
       "CAGR                                             0.148452   \n",
       "Annualised vol                                   0.127100   \n",
       "Sharpe ratio                                     1.167994   \n",
       "Max drawdown                                     0.305877   \n",
       "Calmar ratio                                     0.485333   \n",
       "Skewness                                         0.281484   \n",
       "Kurtosis                                        22.195736   \n",
       "Worst return                                    -0.137043   \n",
       "Worst 1d return                                 -0.137043   \n",
       "Worst 1w return                                 -0.098542   \n",
       "Worst 1m return                                 -0.169177   \n",
       "\n",
       "                 Trend-following portfolio (TREND signal)  \\\n",
       "CAGR                                             0.139261   \n",
       "Annualised vol                                   0.107932   \n",
       "Sharpe ratio                                     1.290260   \n",
       "Max drawdown                                     0.294584   \n",
       "Calmar ratio                                     0.472738   \n",
       "Skewness                                         0.159349   \n",
       "Kurtosis                                        28.014446   \n",
       "Worst return                                    -0.121269   \n",
       "Worst 1d return                                 -0.121269   \n",
       "Worst 1w return                                 -0.110077   \n",
       "Worst 1m return                                 -0.171789   \n",
       "\n",
       "                 Trend-following portfolio (YZ estimator + TREND signal)  \n",
       "CAGR                                                      0.139366        \n",
       "Annualised vol                                            0.110533        \n",
       "Sharpe ratio                                              1.260854        \n",
       "Max drawdown                                              0.313945        \n",
       "Calmar ratio                                              0.443917        \n",
       "Skewness                                                  0.293870        \n",
       "Kurtosis                                                 32.622364        \n",
       "Worst return                                             -0.130152        \n",
       "Worst 1d return                                          -0.130152        \n",
       "Worst 1w return                                          -0.112097        \n",
       "Worst 1m return                                          -0.186272        "
      ]
     },
     "execution_count": 22,
     "metadata": {},
     "output_type": "execute_result"
    }
   ],
   "source": [
    "performance_comp.pipe(Performance).summary()"
   ]
  },
  {
   "cell_type": "markdown",
   "id": "3b052ec2",
   "metadata": {
    "papermill": {
     "duration": 0.012717,
     "end_time": "2022-08-16T07:50:05.552887",
     "exception": false,
     "start_time": "2022-08-16T07:50:05.540170",
     "status": "completed"
    },
    "tags": []
   },
   "source": [
    "## Turnover reduction\n",
    "\n",
    "Again, as reported in BK2020, both enhancements reduce the turnover significantly while not affecting the performance. The chart below shows the reduction in turnover for each futures contract. By utilising the YZ realised volatility and the TREND signal, overall the turnover is reduced by more than 30%."
   ]
  },
  {
   "cell_type": "code",
   "execution_count": 23,
   "id": "66c8c8f9",
   "metadata": {
    "execution": {
     "iopub.execute_input": "2022-08-16T07:50:05.580116Z",
     "iopub.status.busy": "2022-08-16T07:50:05.579660Z",
     "iopub.status.idle": "2022-08-16T07:55:06.627447Z",
     "shell.execute_reply": "2022-08-16T07:55:06.626485Z"
    },
    "papermill": {
     "duration": 301.064028,
     "end_time": "2022-08-16T07:55:06.629716",
     "exception": false,
     "start_time": "2022-08-16T07:50:05.565688",
     "status": "completed"
    },
    "tags": []
   },
   "outputs": [],
   "source": [
    "engine_original_pos = engine_original.get_position_by_instrument()\n",
    "engine_vol_pos = engine_vol.get_position_by_instrument()\n",
    "engine_trend_pos = engine_trend.get_position_by_instrument()\n",
    "engine_combined_pos = engine_combined.get_position_by_instrument()"
   ]
  },
  {
   "cell_type": "code",
   "execution_count": 24,
   "id": "2142aa06",
   "metadata": {
    "execution": {
     "iopub.execute_input": "2022-08-16T07:55:06.656257Z",
     "iopub.status.busy": "2022-08-16T07:55:06.655988Z",
     "iopub.status.idle": "2022-08-16T07:55:06.688286Z",
     "shell.execute_reply": "2022-08-16T07:55:06.687589Z"
    },
    "papermill": {
     "duration": 0.047711,
     "end_time": "2022-08-16T07:55:06.690205",
     "exception": false,
     "start_time": "2022-08-16T07:55:06.642494",
     "status": "completed"
    },
    "tags": []
   },
   "outputs": [],
   "source": [
    "engine_original_turnover = (engine_original_pos.diff().abs().mean().mul(261)\n",
    "                            .rename('Trend-following portfolio (Moskowitz 2012)'))\n",
    "engine_vol_turnover = (engine_vol_pos.diff().abs().mean().mul(261)\n",
    "                       .rename('Trend-following portfolio (YZ estimator)'))\n",
    "engine_trend_turnover = (engine_trend_pos.diff().abs().mean().mul(261)\n",
    "                         .rename('Trend-following portfolio (TREND signal)'))\n",
    "engine_combined_turnover = (engine_combined_pos.diff().abs().mean().mul(261)\n",
    "                            .rename('Trend-following portfolio (YZ estimator + TREND signal)'))"
   ]
  },
  {
   "cell_type": "code",
   "execution_count": 25,
   "id": "2f1960c2",
   "metadata": {
    "execution": {
     "iopub.execute_input": "2022-08-16T07:55:06.717074Z",
     "iopub.status.busy": "2022-08-16T07:55:06.716809Z",
     "iopub.status.idle": "2022-08-16T07:55:06.723754Z",
     "shell.execute_reply": "2022-08-16T07:55:06.723108Z"
    },
    "papermill": {
     "duration": 0.022014,
     "end_time": "2022-08-16T07:55:06.725418",
     "exception": false,
     "start_time": "2022-08-16T07:55:06.703404",
     "status": "completed"
    },
    "tags": []
   },
   "outputs": [],
   "source": [
    "turnover_reduction = (\n",
    "    pd.concat((engine_vol_turnover, engine_trend_turnover, engine_combined_turnover), axis=1)\n",
    "    .div(engine_original_turnover, axis=0)\n",
    "    .sub(1)\n",
    "    .reindex(index=all_futures_baltas2020.index)\n",
    "    .rename(index=all_futures_baltas2020['name'])\n",
    ")"
   ]
  },
  {
   "cell_type": "code",
   "execution_count": 26,
   "id": "46360266",
   "metadata": {
    "execution": {
     "iopub.execute_input": "2022-08-16T07:55:06.752257Z",
     "iopub.status.busy": "2022-08-16T07:55:06.751967Z",
     "iopub.status.idle": "2022-08-16T07:55:06.758066Z",
     "shell.execute_reply": "2022-08-16T07:55:06.757435Z"
    },
    "papermill": {
     "duration": 0.021491,
     "end_time": "2022-08-16T07:55:06.759730",
     "exception": false,
     "start_time": "2022-08-16T07:55:06.738239",
     "status": "completed"
    },
    "tags": []
   },
   "outputs": [
    {
     "data": {
      "text/plain": [
       "Trend-following portfolio (YZ estimator)                  -0.181281\n",
       "Trend-following portfolio (TREND signal)                  -0.207285\n",
       "Trend-following portfolio (YZ estimator + TREND signal)   -0.330756\n",
       "dtype: float64"
      ]
     },
     "execution_count": 26,
     "metadata": {},
     "output_type": "execute_result"
    }
   ],
   "source": [
    "turnover_reduction.mean()"
   ]
  },
  {
   "cell_type": "code",
   "execution_count": 27,
   "id": "7d7f3bfc",
   "metadata": {
    "execution": {
     "iopub.execute_input": "2022-08-16T07:55:06.786581Z",
     "iopub.status.busy": "2022-08-16T07:55:06.786310Z",
     "iopub.status.idle": "2022-08-16T07:55:08.454121Z",
     "shell.execute_reply": "2022-08-16T07:55:08.453463Z"
    },
    "papermill": {
     "duration": 1.68332,
     "end_time": "2022-08-16T07:55:08.455888",
     "exception": false,
     "start_time": "2022-08-16T07:55:06.772568",
     "status": "completed"
    },
    "tags": []
   },
   "outputs": [
    {
     "data": {
      "image/png": "[encoded data removed]",
      "text/plain": [
       "<Figure size 1008x288 with 1 Axes>"
      ]
     },
     "metadata": {
      "needs_background": "light"
     },
     "output_type": "display_data"
    }
   ],
   "source": [
    "ax = turnover_reduction.plot(kind='bar', figsize=(14, 4))\n",
    "ax.yaxis.set_major_formatter(mticker.PercentFormatter(1))\n",
    "ax.axhline(0, color='black', lw=1)\n",
    "ax.axvline(24.5, color='black', lw=1)\n",
    "ax.axvline(30.5, color='black', lw=1)\n",
    "ax.axvline(42.5, color='black', lw=1)\n",
    "ax.set_xlabel('Contract')\n",
    "ax.set_ylabel('Turnover reduction');"
   ]
  },
  {
   "cell_type": "markdown",
   "id": "7d0d7e96",
   "metadata": {
    "papermill": {
     "duration": 0.015099,
     "end_time": "2022-08-16T07:55:08.485751",
     "exception": false,
     "start_time": "2022-08-16T07:55:08.470652",
     "status": "completed"
    },
    "tags": []
   },
   "source": [
    "# Recent performance"
   ]
  },
  {
   "cell_type": "code",
   "execution_count": 28,
   "id": "b9848e44",
   "metadata": {
    "execution": {
     "iopub.execute_input": "2022-08-16T07:55:08.513755Z",
     "iopub.status.busy": "2022-08-16T07:55:08.513485Z",
     "iopub.status.idle": "2022-08-16T07:55:08.915254Z",
     "shell.execute_reply": "2022-08-16T07:55:08.914539Z"
    },
    "papermill": {
     "duration": 0.41772,
     "end_time": "2022-08-16T07:55:08.916898",
     "exception": false,
     "start_time": "2022-08-16T07:55:08.499178",
     "status": "completed"
    },
    "tags": []
   },
   "outputs": [
    {
     "data": {
      "image/png": "[encoded data removed]",
      "text/plain": [
       "<Figure size 576x324 with 1 Axes>"
      ]
     },
     "metadata": {
      "needs_background": "light"
     },
     "output_type": "display_data"
    }
   ],
   "source": [
    "fig, ax = plt.subplots(figsize=(8, 4.5))\n",
    "performance_comp.tail(252 * 2).pct_change().fillna(0).add(1).cumprod().plot(ax=ax, logy=True);\n",
    "ax.set_title('Trend-following portfolio')\n",
    "ax.set_ylabel('Cumulative returns');"
   ]
  },
  {
   "cell_type": "markdown",
   "id": "641611a0",
   "metadata": {
    "papermill": {
     "duration": 0.013839,
     "end_time": "2022-08-16T07:55:08.945055",
     "exception": false,
     "start_time": "2022-08-16T07:55:08.931216",
     "status": "completed"
    },
    "tags": []
   },
   "source": [
    "# Reference\n",
    "\n",
    "- Baltas, N. and Kosowski, R., 2020. Demystifying time-series momentum strategies: Volatility estimators, trading rules and pairwise correlations. Market Momentum: Theory and Practice\", Wiley.\n",
    "- Moskowitz, T.J., Ooi, Y.H. and Pedersen, L.H., 2012. Time series momentum. Journal of financial economics, 104(2), pp.228-250."
   ]
  },
  {
   "cell_type": "code",
   "execution_count": 29,
   "id": "2659e9b3",
   "metadata": {
    "ExecuteTime": {
     "end_time": "2020-08-30T21:20:32.431574Z",
     "start_time": "2020-08-30T21:20:32.429370Z"
    },
    "execution": {
     "iopub.execute_input": "2022-08-16T07:55:08.974479Z",
     "iopub.status.busy": "2022-08-16T07:55:08.973712Z",
     "iopub.status.idle": "2022-08-16T07:55:08.978613Z",
     "shell.execute_reply": "2022-08-16T07:55:08.978001Z"
    },
    "papermill": {
     "duration": 0.021248,
     "end_time": "2022-08-16T07:55:08.980265",
     "exception": false,
     "start_time": "2022-08-16T07:55:08.959017",
     "status": "completed"
    },
    "tags": []
   },
   "outputs": [
    {
     "name": "stdout",
     "output_type": "stream",
     "text": [
      "Updated: 16-Aug-2022 07:55\n"
     ]
    }
   ],
   "source": [
    "print(f'Updated: {datetime.utcnow():%d-%b-%Y %H:%M}')"
   ]
  }
 ],
 "metadata": {
  "hide_input": false,
  "kernelspec": {
   "display_name": "Python 3",
   "language": "python",
   "name": "python3"
  },
  "language_info": {
   "codemirror_mode": {
    "name": "ipython",
    "version": 3
   },
   "file_extension": ".py",
   "mimetype": "text/x-python",
   "name": "python",
   "nbconvert_exporter": "python",
   "pygments_lexer": "ipython3",
   "version": "3.9.6"
  },
  "nav_menu": {},
  "papermill": {
   "duration": 5313.329666,
   "end_time": "2022-08-16T07:55:12.022774",
   "environment_variables": {},
   "exception": null,
   "input_path": "notebooks/papermill/trend_following_baltas2020.ipynb",
   "output_path": "notebooks/trend_following_baltas2020.ipynb",
   "parameters": {},
   "start_time": "2022-08-16T06:26:38.693108",
   "version": "2.1.3"
  },
  "toc": {
   "base_numbering": 1,
   "nav_menu": {},
   "number_sections": true,
   "sideBar": true,
   "skip_h1_title": false,
   "title_cell": "Table of Contents",
   "title_sidebar": "Contents",
   "toc_cell": true,
   "toc_position": {
    "height": "calc(100% - 180px)",
    "left": "10px",
    "top": "150px",
    "width": "165px"
   },
   "toc_section_display": "block",
   "toc_window_display": true
  }
 },
 "nbformat": 4,
 "nbformat_minor": 5
}