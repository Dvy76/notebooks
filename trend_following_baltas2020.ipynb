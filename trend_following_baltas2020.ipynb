{
 "cells": [
  {
   "cell_type": "markdown",
   "id": "efe53380",
   "metadata": {
    "papermill": {
     "duration": 0.013002,
     "end_time": "2022-08-09T06:26:34.347218",
     "exception": false,
     "start_time": "2022-08-09T06:26:34.334216",
     "status": "completed"
    },
    "tags": []
   },
   "source": [
    "# Trend-following\n",
    "\n",
    "This notebook implements a few improvements that Baltas and Kosowski (2020) (BK2020, hereafter) propose to the time-series momentum strategy which originally appeared in Moskowitz et al (2012).\n",
    "\n",
    "Note that like other notebooks, all backtests are performed by using a private library called `vivace`."
   ]
  },
  {
   "cell_type": "code",
   "execution_count": 1,
   "id": "a59fef5c",
   "metadata": {
    "ExecuteTime": {
     "end_time": "2020-08-30T21:08:49.524262Z",
     "start_time": "2020-08-30T21:08:48.720115Z"
    },
    "execution": {
     "iopub.execute_input": "2022-08-09T06:26:34.376171Z",
     "iopub.status.busy": "2022-08-09T06:26:34.375564Z",
     "iopub.status.idle": "2022-08-09T06:26:38.562786Z",
     "shell.execute_reply": "2022-08-09T06:26:38.561882Z"
    },
    "papermill": {
     "duration": 4.204441,
     "end_time": "2022-08-09T06:26:38.564912",
     "exception": false,
     "start_time": "2022-08-09T06:26:34.360471",
     "status": "completed"
    },
    "tags": []
   },
   "outputs": [],
   "source": [
    "%matplotlib inline\n",
    "from datetime import datetime\n",
    "import logging\n",
    "import warnings\n",
    "warnings.simplefilter(action='ignore', category=FutureWarning)\n",
    "\n",
    "import pandas as pd\n",
    "import matplotlib.pyplot as plt\n",
    "import matplotlib.ticker as mticker\n",
    "plt.style.use('bmh')\n",
    "\n",
    "from vivace.backtest import signal\n",
    "from vivace.backtest import processing\n",
    "from vivace.backtest.contract import all_futures_baltas2020\n",
    "from vivace.backtest.engine import BacktestEngine\n",
    "from vivace.backtest.enums import Strategy, Weighting, RealisedVolatility\n",
    "from vivace.backtest.stats import Performance"
   ]
  },
  {
   "cell_type": "markdown",
   "id": "27f55c2a",
   "metadata": {
    "papermill": {
     "duration": 0.010806,
     "end_time": "2022-08-09T06:26:38.585930",
     "exception": false,
     "start_time": "2022-08-09T06:26:38.575124",
     "status": "completed"
    },
    "tags": []
   },
   "source": [
    "# Data"
   ]
  },
  {
   "cell_type": "code",
   "execution_count": 2,
   "id": "eb69b5c1",
   "metadata": {
    "ExecuteTime": {
     "end_time": "2020-08-30T21:08:49.529214Z",
     "start_time": "2020-08-30T21:08:49.525465Z"
    },
    "execution": {
     "iopub.execute_input": "2022-08-09T06:26:38.617451Z",
     "iopub.status.busy": "2022-08-09T06:26:38.616692Z",
     "iopub.status.idle": "2022-08-09T06:26:38.628305Z",
     "shell.execute_reply": "2022-08-09T06:26:38.627315Z"
    },
    "papermill": {
     "duration": 0.032848,
     "end_time": "2022-08-09T06:26:38.631771",
     "exception": false,
     "start_time": "2022-08-09T06:26:38.598923",
     "status": "completed"
    },
    "tags": []
   },
   "outputs": [
    {
     "data": {
      "text/plain": [
       "array(['WTI Crude Oil', 'Brent Crude Oil', 'Heating Oil', 'Natural Gas',\n",
       "       'Gasoline', 'Copper', 'Gold', 'Palladium', 'Platinum', 'Silver',\n",
       "       'Feeder Cattle', 'Live Cattle', 'Lean Hog', 'Corn', 'Oats',\n",
       "       'Soybean Oil', 'Soybean Meal', 'Soybean', 'Wheat', 'Cocoa',\n",
       "       'Coffee', 'Cotton', 'Lumber', 'Orange Juice', 'Sugar',\n",
       "       'Australian Dollar', 'Canadian Dollar', 'Swiss Franc', 'Euro',\n",
       "       'British Pound', 'Japanese Yen', 'E-Mini Nasdaq 100',\n",
       "       'E-mini S&P 500', 'E-mini Russell 2000', 'FTSE 100', 'DAX',\n",
       "       'CAC 40', 'IBEX 35', 'AEX', 'Swiss Market Index', 'SPI 200',\n",
       "       'Topix', 'Hang Seng', 'US 2-year Treasury', 'US 5-year Treasury',\n",
       "       'US 10-year Treasury', 'US treasury Bond', 'Germany Schatz',\n",
       "       'Germany Bobl', 'Germany Bund', 'Germany Buxl', 'Gilt',\n",
       "       'Canada 10-year Treasury', 'JGB'], dtype=object)"
      ]
     },
     "execution_count": 2,
     "metadata": {},
     "output_type": "execute_result"
    }
   ],
   "source": [
    "all_futures_baltas2020['name'].values"
   ]
  },
  {
   "cell_type": "code",
   "execution_count": 3,
   "id": "87e2ff6d",
   "metadata": {
    "ExecuteTime": {
     "end_time": "2020-08-30T21:08:49.542477Z",
     "start_time": "2020-08-30T21:08:49.530487Z"
    },
    "execution": {
     "iopub.execute_input": "2022-08-09T06:26:38.705590Z",
     "iopub.status.busy": "2022-08-09T06:26:38.705051Z",
     "iopub.status.idle": "2022-08-09T06:26:38.710477Z",
     "shell.execute_reply": "2022-08-09T06:26:38.709551Z"
    },
    "papermill": {
     "duration": 0.066062,
     "end_time": "2022-08-09T06:26:38.714734",
     "exception": false,
     "start_time": "2022-08-09T06:26:38.648672",
     "status": "completed"
    },
    "tags": []
   },
   "outputs": [
    {
     "name": "stdout",
     "output_type": "stream",
     "text": [
      "54\n"
     ]
    }
   ],
   "source": [
    "print(len(all_futures_baltas2020))"
   ]
  },
  {
   "cell_type": "markdown",
   "id": "cc9db302",
   "metadata": {
    "papermill": {
     "duration": 0.015209,
     "end_time": "2022-08-09T06:26:38.751799",
     "exception": false,
     "start_time": "2022-08-09T06:26:38.736590",
     "status": "completed"
    },
    "tags": []
   },
   "source": [
    "We try to use the same contract as the original paper where possible, resulting 54 futures contracts to analyse. The trading universe covers a wide range of asset classes and regions, and is made up of following instruments:\n",
    "- Equity index futures\n",
    "- Government bond futures\n",
    "- FX futures\n",
    "- Commodity futures\n",
    "\n",
    "where the same trend detection method is applied."
   ]
  },
  {
   "cell_type": "markdown",
   "id": "998d7fd9",
   "metadata": {
    "papermill": {
     "duration": 0.016899,
     "end_time": "2022-08-09T06:26:38.785079",
     "exception": false,
     "start_time": "2022-08-09T06:26:38.768180",
     "status": "completed"
    },
    "tags": []
   },
   "source": [
    "# Performance\n"
   ]
  },
  {
   "cell_type": "markdown",
   "id": "295312d1",
   "metadata": {
    "papermill": {
     "duration": 0.016094,
     "end_time": "2022-08-09T06:26:38.817061",
     "exception": false,
     "start_time": "2022-08-09T06:26:38.800967",
     "status": "completed"
    },
    "tags": []
   },
   "source": [
    "## Moskowitz et al\n",
    "\n",
    "First we calculate the original trend-following portfolio with a more traditional close-to-close realised volatility estimator. Although Moskowitz et al uses the exponentially weighted standard deviation, BK2020 appears to compare against the rolling standard deviation."
   ]
  },
  {
   "cell_type": "code",
   "execution_count": 4,
   "id": "05799710",
   "metadata": {
    "execution": {
     "iopub.execute_input": "2022-08-09T06:26:38.851227Z",
     "iopub.status.busy": "2022-08-09T06:26:38.850765Z",
     "iopub.status.idle": "2022-08-09T06:38:33.899860Z",
     "shell.execute_reply": "2022-08-09T06:38:33.898908Z"
    },
    "papermill": {
     "duration": 715.068788,
     "end_time": "2022-08-09T06:38:33.902010",
     "exception": false,
     "start_time": "2022-08-09T06:26:38.833222",
     "status": "completed"
    },
    "tags": []
   },
   "outputs": [],
   "source": [
    "engine_original = BacktestEngine(\n",
    "    strategy=Strategy.DELTA_ONE.value,\n",
    "    instrument=all_futures_baltas2020.index,\n",
    "    signal=signal.ParallelSignal([\n",
    "        signal.VolatilityScale(agg_method='rolling', window=21, ann_factor=261, \n",
    "                               target_volatility=0.4, signal_cap=0.95),\n",
    "        signal.TSMOMMoskowitz2012(post_process=processing.AsFreq(freq='m', method='pad'))\n",
    "    ], weighting='product'),\n",
    "    weighting=Weighting.EQUAL_WEIGHT.value,\n",
    "    log_level=logging.WARN,\n",
    ")\n",
    "engine_original.run()"
   ]
  },
  {
   "cell_type": "code",
   "execution_count": 5,
   "id": "3bf71ee4",
   "metadata": {
    "execution": {
     "iopub.execute_input": "2022-08-09T06:38:33.926456Z",
     "iopub.status.busy": "2022-08-09T06:38:33.925965Z",
     "iopub.status.idle": "2022-08-09T06:40:06.759736Z",
     "shell.execute_reply": "2022-08-09T06:40:06.758892Z"
    },
    "papermill": {
     "duration": 92.848952,
     "end_time": "2022-08-09T06:40:06.762262",
     "exception": false,
     "start_time": "2022-08-09T06:38:33.913310",
     "status": "completed"
    },
    "tags": []
   },
   "outputs": [],
   "source": [
    "engine_original_eq = (engine_original.calculate_equity_curve(calculate_net=False, rebalance_freq='m')\n",
    "                      .rename('Trend-following portfolio (Moskowitz 2012)'))"
   ]
  },
  {
   "cell_type": "code",
   "execution_count": 6,
   "id": "b6706e85",
   "metadata": {
    "execution": {
     "iopub.execute_input": "2022-08-09T06:40:06.792945Z",
     "iopub.status.busy": "2022-08-09T06:40:06.792542Z",
     "iopub.status.idle": "2022-08-09T06:40:08.202451Z",
     "shell.execute_reply": "2022-08-09T06:40:08.201712Z"
    },
    "papermill": {
     "duration": 1.427943,
     "end_time": "2022-08-09T06:40:08.204920",
     "exception": false,
     "start_time": "2022-08-09T06:40:06.776977",
     "status": "completed"
    },
    "tags": []
   },
   "outputs": [
    {
     "data": {
      "image/png": "[encoded data removed]",
      "text/plain": [
       "<Figure size 576x324 with 1 Axes>"
      ]
     },
     "metadata": {
      "needs_background": "light"
     },
     "output_type": "display_data"
    }
   ],
   "source": [
    "fig, ax = plt.subplots(figsize=(8, 4.5))\n",
    "engine_original_eq.plot(ax=ax, logy=True)\n",
    "ax.set_title('Trend-following portfolio (Moskowitz 2012)')\n",
    "ax.set_ylabel('Cumulative returns');"
   ]
  },
  {
   "cell_type": "code",
   "execution_count": 7,
   "id": "879998f0",
   "metadata": {
    "execution": {
     "iopub.execute_input": "2022-08-09T06:40:08.236964Z",
     "iopub.status.busy": "2022-08-09T06:40:08.236575Z",
     "iopub.status.idle": "2022-08-09T06:40:08.481220Z",
     "shell.execute_reply": "2022-08-09T06:40:08.480239Z"
    },
    "papermill": {
     "duration": 0.263554,
     "end_time": "2022-08-09T06:40:08.483721",
     "exception": false,
     "start_time": "2022-08-09T06:40:08.220167",
     "status": "completed"
    },
    "tags": []
   },
   "outputs": [
    {
     "data": {
      "text/html": [
       "<div>\n",
       "<style scoped>\n",
       "    .dataframe tbody tr th:only-of-type {\n",
       "        vertical-align: middle;\n",
       "    }\n",
       "\n",
       "    .dataframe tbody tr th {\n",
       "        vertical-align: top;\n",
       "    }\n",
       "\n",
       "    .dataframe thead th {\n",
       "        text-align: right;\n",
       "    }\n",
       "</style>\n",
       "<table border=\"1\" class=\"dataframe\">\n",
       "  <thead>\n",
       "    <tr style=\"text-align: right;\">\n",
       "      <th></th>\n",
       "      <th>Trend-following portfolio (Moskowitz 2012)</th>\n",
       "    </tr>\n",
       "  </thead>\n",
       "  <tbody>\n",
       "    <tr>\n",
       "      <th>CAGR</th>\n",
       "      <td>0.147076</td>\n",
       "    </tr>\n",
       "    <tr>\n",
       "      <th>Annualised vol</th>\n",
       "      <td>0.124973</td>\n",
       "    </tr>\n",
       "    <tr>\n",
       "      <th>Sharpe ratio</th>\n",
       "      <td>1.176862</td>\n",
       "    </tr>\n",
       "    <tr>\n",
       "      <th>Max drawdown</th>\n",
       "      <td>0.259239</td>\n",
       "    </tr>\n",
       "    <tr>\n",
       "      <th>Calmar ratio</th>\n",
       "      <td>0.567338</td>\n",
       "    </tr>\n",
       "    <tr>\n",
       "      <th>Skewness</th>\n",
       "      <td>0.073407</td>\n",
       "    </tr>\n",
       "    <tr>\n",
       "      <th>Kurtosis</th>\n",
       "      <td>19.352918</td>\n",
       "    </tr>\n",
       "    <tr>\n",
       "      <th>Worst return</th>\n",
       "      <td>-0.126276</td>\n",
       "    </tr>\n",
       "    <tr>\n",
       "      <th>Worst 1d return</th>\n",
       "      <td>-0.126276</td>\n",
       "    </tr>\n",
       "    <tr>\n",
       "      <th>Worst 1w return</th>\n",
       "      <td>-0.107725</td>\n",
       "    </tr>\n",
       "    <tr>\n",
       "      <th>Worst 1m return</th>\n",
       "      <td>-0.152667</td>\n",
       "    </tr>\n",
       "  </tbody>\n",
       "</table>\n",
       "</div>"
      ],
      "text/plain": [
       "                 Trend-following portfolio (Moskowitz 2012)\n",
       "CAGR                                               0.147076\n",
       "Annualised vol                                     0.124973\n",
       "Sharpe ratio                                       1.176862\n",
       "Max drawdown                                       0.259239\n",
       "Calmar ratio                                       0.567338\n",
       "Skewness                                           0.073407\n",
       "Kurtosis                                          19.352918\n",
       "Worst return                                      -0.126276\n",
       "Worst 1d return                                   -0.126276\n",
       "Worst 1w return                                   -0.107725\n",
       "Worst 1m return                                   -0.152667"
      ]
     },
     "execution_count": 7,
     "metadata": {},
     "output_type": "execute_result"
    }
   ],
   "source": [
    "engine_original_eq.pipe(Performance).summary()"
   ]
  },
  {
   "cell_type": "markdown",
   "id": "b7cb65e1",
   "metadata": {
    "papermill": {
     "duration": 0.015762,
     "end_time": "2022-08-09T06:40:08.515384",
     "exception": false,
     "start_time": "2022-08-09T06:40:08.499622",
     "status": "completed"
    },
    "tags": []
   },
   "source": [
    "\n",
    "## Volatility estimator\n",
    "BK2020 proposes a few changes in order to enhance the original trend-following strategy Moskowitz et al reported. The first thing is to use a more sophisticated realised volatility estimators for volatility scaling. Moskowitz used the exponentially weighted standard deviation with close-to-close. On the other hand, BK2020 suggests to use Yang-Zhang estimator as it is much more efficient."
   ]
  },
  {
   "cell_type": "code",
   "execution_count": 8,
   "id": "165c04a4",
   "metadata": {
    "ExecuteTime": {
     "end_time": "2020-08-30T21:18:24.661167Z",
     "start_time": "2020-08-30T21:08:49.544232Z"
    },
    "execution": {
     "iopub.execute_input": "2022-08-09T06:40:08.547619Z",
     "iopub.status.busy": "2022-08-09T06:40:08.547162Z",
     "iopub.status.idle": "2022-08-09T07:01:52.937892Z",
     "shell.execute_reply": "2022-08-09T07:01:52.937105Z"
    },
    "papermill": {
     "duration": 1304.409525,
     "end_time": "2022-08-09T07:01:52.939959",
     "exception": false,
     "start_time": "2022-08-09T06:40:08.530434",
     "status": "completed"
    },
    "tags": []
   },
   "outputs": [],
   "source": [
    "engine_vol = BacktestEngine(\n",
    "    strategy=Strategy.DELTA_ONE.value,\n",
    "    instrument=all_futures_baltas2020.index,\n",
    "    signal=signal.ParallelSignal([\n",
    "        signal.VolatilityScale(volatility_type=RealisedVolatility.YZ.value,\n",
    "                               agg_method='rolling', window=21, min_periods=10,\n",
    "                               target_volatility=0.4, signal_cap=0.95, ann_factor=261),\n",
    "        signal.TSMOMMoskowitz2012(post_process=processing.AsFreq(freq='m', method='pad'))\n",
    "    ], weighting='product'),\n",
    "    weighting=Weighting.EQUAL_WEIGHT.value,\n",
    "    log_level=logging.WARN,\n",
    ")\n",
    "engine_vol.run()"
   ]
  },
  {
   "cell_type": "code",
   "execution_count": 9,
   "id": "b008e1d8",
   "metadata": {
    "execution": {
     "iopub.execute_input": "2022-08-09T07:01:52.963399Z",
     "iopub.status.busy": "2022-08-09T07:01:52.963123Z",
     "iopub.status.idle": "2022-08-09T07:03:16.424332Z",
     "shell.execute_reply": "2022-08-09T07:03:16.423594Z"
    },
    "papermill": {
     "duration": 83.476158,
     "end_time": "2022-08-09T07:03:16.427198",
     "exception": false,
     "start_time": "2022-08-09T07:01:52.951040",
     "status": "completed"
    },
    "tags": []
   },
   "outputs": [],
   "source": [
    "engine_vol_eq = (engine_vol.calculate_equity_curve(calculate_net=False, rebalance_freq='m')\n",
    "                 .rename('Trend-following portfolio (YZ estimator)'))"
   ]
  },
  {
   "cell_type": "code",
   "execution_count": 10,
   "id": "3e10f3a6",
   "metadata": {
    "execution": {
     "iopub.execute_input": "2022-08-09T07:03:16.450253Z",
     "iopub.status.busy": "2022-08-09T07:03:16.449966Z",
     "iopub.status.idle": "2022-08-09T07:03:17.100496Z",
     "shell.execute_reply": "2022-08-09T07:03:17.099650Z"
    },
    "papermill": {
     "duration": 0.664209,
     "end_time": "2022-08-09T07:03:17.102546",
     "exception": false,
     "start_time": "2022-08-09T07:03:16.438337",
     "status": "completed"
    },
    "tags": []
   },
   "outputs": [
    {
     "data": {
      "image/png": "[encoded data removed]",
      "text/plain": [
       "<Figure size 576x324 with 1 Axes>"
      ]
     },
     "metadata": {
      "needs_background": "light"
     },
     "output_type": "display_data"
    }
   ],
   "source": [
    "fig, ax = plt.subplots(figsize=(8, 4.5))\n",
    "engine_vol_eq.plot(ax=ax, logy=True);\n",
    "ax.set_title('Trend-following portfolio (YZ estimator)')\n",
    "ax.set_ylabel('Cumulative returns');"
   ]
  },
  {
   "cell_type": "code",
   "execution_count": 11,
   "id": "05ccc1b4",
   "metadata": {
    "execution": {
     "iopub.execute_input": "2022-08-09T07:03:17.128260Z",
     "iopub.status.busy": "2022-08-09T07:03:17.127927Z",
     "iopub.status.idle": "2022-08-09T07:03:17.210973Z",
     "shell.execute_reply": "2022-08-09T07:03:17.210217Z"
    },
    "papermill": {
     "duration": 0.098293,
     "end_time": "2022-08-09T07:03:17.212888",
     "exception": false,
     "start_time": "2022-08-09T07:03:17.114595",
     "status": "completed"
    },
    "tags": []
   },
   "outputs": [
    {
     "data": {
      "text/html": [
       "<div>\n",
       "<style scoped>\n",
       "    .dataframe tbody tr th:only-of-type {\n",
       "        vertical-align: middle;\n",
       "    }\n",
       "\n",
       "    .dataframe tbody tr th {\n",
       "        vertical-align: top;\n",
       "    }\n",
       "\n",
       "    .dataframe thead th {\n",
       "        text-align: right;\n",
       "    }\n",
       "</style>\n",
       "<table border=\"1\" class=\"dataframe\">\n",
       "  <thead>\n",
       "    <tr style=\"text-align: right;\">\n",
       "      <th></th>\n",
       "      <th>Trend-following portfolio (YZ estimator)</th>\n",
       "    </tr>\n",
       "  </thead>\n",
       "  <tbody>\n",
       "    <tr>\n",
       "      <th>CAGR</th>\n",
       "      <td>0.148734</td>\n",
       "    </tr>\n",
       "    <tr>\n",
       "      <th>Annualised vol</th>\n",
       "      <td>0.127264</td>\n",
       "    </tr>\n",
       "    <tr>\n",
       "      <th>Sharpe ratio</th>\n",
       "      <td>1.168709</td>\n",
       "    </tr>\n",
       "    <tr>\n",
       "      <th>Max drawdown</th>\n",
       "      <td>0.305877</td>\n",
       "    </tr>\n",
       "    <tr>\n",
       "      <th>Calmar ratio</th>\n",
       "      <td>0.486255</td>\n",
       "    </tr>\n",
       "    <tr>\n",
       "      <th>Skewness</th>\n",
       "      <td>0.280684</td>\n",
       "    </tr>\n",
       "    <tr>\n",
       "      <th>Kurtosis</th>\n",
       "      <td>22.135684</td>\n",
       "    </tr>\n",
       "    <tr>\n",
       "      <th>Worst return</th>\n",
       "      <td>-0.137043</td>\n",
       "    </tr>\n",
       "    <tr>\n",
       "      <th>Worst 1d return</th>\n",
       "      <td>-0.137043</td>\n",
       "    </tr>\n",
       "    <tr>\n",
       "      <th>Worst 1w return</th>\n",
       "      <td>-0.098542</td>\n",
       "    </tr>\n",
       "    <tr>\n",
       "      <th>Worst 1m return</th>\n",
       "      <td>-0.169177</td>\n",
       "    </tr>\n",
       "  </tbody>\n",
       "</table>\n",
       "</div>"
      ],
      "text/plain": [
       "                 Trend-following portfolio (YZ estimator)\n",
       "CAGR                                             0.148734\n",
       "Annualised vol                                   0.127264\n",
       "Sharpe ratio                                     1.168709\n",
       "Max drawdown                                     0.305877\n",
       "Calmar ratio                                     0.486255\n",
       "Skewness                                         0.280684\n",
       "Kurtosis                                        22.135684\n",
       "Worst return                                    -0.137043\n",
       "Worst 1d return                                 -0.137043\n",
       "Worst 1w return                                 -0.098542\n",
       "Worst 1m return                                 -0.169177"
      ]
     },
     "execution_count": 11,
     "metadata": {},
     "output_type": "execute_result"
    }
   ],
   "source": [
    "engine_vol_eq.pipe(Performance).summary()"
   ]
  },
  {
   "cell_type": "markdown",
   "id": "55d09ca1",
   "metadata": {
    "papermill": {
     "duration": 0.012411,
     "end_time": "2022-08-09T07:03:17.237659",
     "exception": false,
     "start_time": "2022-08-09T07:03:17.225248",
     "status": "completed"
    },
    "tags": []
   },
   "source": [
    "## TREND signal\n",
    "\n",
    "Another improvement BK2020 proposes is to use a continuous signal rather than a binary one in order to reduce the turnover when signals are weak. Specifically they used the t-values with the Newey-West standard error as the signal. They further capped and floored the signal between -1 and +1 to avoid extreme positions.\n",
    "\n",
    "`statsmodels`'s `OLS` class provides a method to compute the Newey-West standard error. https://www.statsmodels.org/stable/generated/statsmodels.regression.linear_model.OLS.html"
   ]
  },
  {
   "cell_type": "code",
   "execution_count": 12,
   "id": "66d9f6e5",
   "metadata": {
    "execution": {
     "iopub.execute_input": "2022-08-09T07:03:17.264149Z",
     "iopub.status.busy": "2022-08-09T07:03:17.263754Z",
     "iopub.status.idle": "2022-08-09T07:21:13.727961Z",
     "shell.execute_reply": "2022-08-09T07:21:13.726962Z"
    },
    "papermill": {
     "duration": 1076.479981,
     "end_time": "2022-08-09T07:21:13.729986",
     "exception": false,
     "start_time": "2022-08-09T07:03:17.250005",
     "status": "completed"
    },
    "tags": []
   },
   "outputs": [],
   "source": [
    "engine_trend = BacktestEngine(\n",
    "    strategy=Strategy.DELTA_ONE.value,\n",
    "    instrument=all_futures_baltas2020.index,\n",
    "    signal=signal.ParallelSignal([\n",
    "        signal.VolatilityScale(agg_method='rolling', window=21, ann_factor=261, \n",
    "                               target_volatility=0.4, signal_cap=0.95),\n",
    "        signal.TSMOMBaltas2020()\n",
    "    ], weighting='product'),\n",
    "    weighting=Weighting.EQUAL_WEIGHT.value,\n",
    "    log_level=logging.WARN,\n",
    ")\n",
    "engine_trend.run()"
   ]
  },
  {
   "cell_type": "code",
   "execution_count": 13,
   "id": "075bce9d",
   "metadata": {
    "execution": {
     "iopub.execute_input": "2022-08-09T07:21:13.752624Z",
     "iopub.status.busy": "2022-08-09T07:21:13.752372Z",
     "iopub.status.idle": "2022-08-09T07:22:34.264861Z",
     "shell.execute_reply": "2022-08-09T07:22:34.263811Z"
    },
    "papermill": {
     "duration": 80.526313,
     "end_time": "2022-08-09T07:22:34.267181",
     "exception": false,
     "start_time": "2022-08-09T07:21:13.740868",
     "status": "completed"
    },
    "tags": []
   },
   "outputs": [],
   "source": [
    "engine_trend_eq = (engine_trend.calculate_equity_curve(calculate_net=False, rebalance_freq='m')\n",
    "                   .rename('Trend-following portfolio (TREND signal)'))"
   ]
  },
  {
   "cell_type": "code",
   "execution_count": 14,
   "id": "78ec48ef",
   "metadata": {
    "execution": {
     "iopub.execute_input": "2022-08-09T07:22:34.291374Z",
     "iopub.status.busy": "2022-08-09T07:22:34.291089Z",
     "iopub.status.idle": "2022-08-09T07:22:34.885690Z",
     "shell.execute_reply": "2022-08-09T07:22:34.884961Z"
    },
    "papermill": {
     "duration": 0.608367,
     "end_time": "2022-08-09T07:22:34.887261",
     "exception": false,
     "start_time": "2022-08-09T07:22:34.278894",
     "status": "completed"
    },
    "tags": []
   },
   "outputs": [
    {
     "data": {
      "image/png": "[encoded data removed]",
      "text/plain": [
       "<Figure size 576x324 with 1 Axes>"
      ]
     },
     "metadata": {
      "needs_background": "light"
     },
     "output_type": "display_data"
    }
   ],
   "source": [
    "fig, ax = plt.subplots(figsize=(8, 4.5))\n",
    "engine_trend_eq.plot(ax=ax, logy=True);\n",
    "ax.set_title('Trend-following portfolio (TREND signal)')\n",
    "ax.set_ylabel('Cumulative returns');"
   ]
  },
  {
   "cell_type": "code",
   "execution_count": 15,
   "id": "e1a2f9b9",
   "metadata": {
    "execution": {
     "iopub.execute_input": "2022-08-09T07:22:34.910959Z",
     "iopub.status.busy": "2022-08-09T07:22:34.910686Z",
     "iopub.status.idle": "2022-08-09T07:22:34.993076Z",
     "shell.execute_reply": "2022-08-09T07:22:34.992440Z"
    },
    "papermill": {
     "duration": 0.096119,
     "end_time": "2022-08-09T07:22:34.994677",
     "exception": false,
     "start_time": "2022-08-09T07:22:34.898558",
     "status": "completed"
    },
    "tags": []
   },
   "outputs": [
    {
     "data": {
      "text/html": [
       "<div>\n",
       "<style scoped>\n",
       "    .dataframe tbody tr th:only-of-type {\n",
       "        vertical-align: middle;\n",
       "    }\n",
       "\n",
       "    .dataframe tbody tr th {\n",
       "        vertical-align: top;\n",
       "    }\n",
       "\n",
       "    .dataframe thead th {\n",
       "        text-align: right;\n",
       "    }\n",
       "</style>\n",
       "<table border=\"1\" class=\"dataframe\">\n",
       "  <thead>\n",
       "    <tr style=\"text-align: right;\">\n",
       "      <th></th>\n",
       "      <th>Trend-following portfolio (TREND signal)</th>\n",
       "    </tr>\n",
       "  </thead>\n",
       "  <tbody>\n",
       "    <tr>\n",
       "      <th>CAGR</th>\n",
       "      <td>0.139178</td>\n",
       "    </tr>\n",
       "    <tr>\n",
       "      <th>Annualised vol</th>\n",
       "      <td>0.107937</td>\n",
       "    </tr>\n",
       "    <tr>\n",
       "      <th>Sharpe ratio</th>\n",
       "      <td>1.289435</td>\n",
       "    </tr>\n",
       "    <tr>\n",
       "      <th>Max drawdown</th>\n",
       "      <td>0.294584</td>\n",
       "    </tr>\n",
       "    <tr>\n",
       "      <th>Calmar ratio</th>\n",
       "      <td>0.472455</td>\n",
       "    </tr>\n",
       "    <tr>\n",
       "      <th>Skewness</th>\n",
       "      <td>0.159413</td>\n",
       "    </tr>\n",
       "    <tr>\n",
       "      <th>Kurtosis</th>\n",
       "      <td>28.018597</td>\n",
       "    </tr>\n",
       "    <tr>\n",
       "      <th>Worst return</th>\n",
       "      <td>-0.121269</td>\n",
       "    </tr>\n",
       "    <tr>\n",
       "      <th>Worst 1d return</th>\n",
       "      <td>-0.121269</td>\n",
       "    </tr>\n",
       "    <tr>\n",
       "      <th>Worst 1w return</th>\n",
       "      <td>-0.110077</td>\n",
       "    </tr>\n",
       "    <tr>\n",
       "      <th>Worst 1m return</th>\n",
       "      <td>-0.171789</td>\n",
       "    </tr>\n",
       "  </tbody>\n",
       "</table>\n",
       "</div>"
      ],
      "text/plain": [
       "                 Trend-following portfolio (TREND signal)\n",
       "CAGR                                             0.139178\n",
       "Annualised vol                                   0.107937\n",
       "Sharpe ratio                                     1.289435\n",
       "Max drawdown                                     0.294584\n",
       "Calmar ratio                                     0.472455\n",
       "Skewness                                         0.159413\n",
       "Kurtosis                                        28.018597\n",
       "Worst return                                    -0.121269\n",
       "Worst 1d return                                 -0.121269\n",
       "Worst 1w return                                 -0.110077\n",
       "Worst 1m return                                 -0.171789"
      ]
     },
     "execution_count": 15,
     "metadata": {},
     "output_type": "execute_result"
    }
   ],
   "source": [
    "engine_trend_eq.pipe(Performance).summary()"
   ]
  },
  {
   "cell_type": "markdown",
   "id": "cad3aaf2",
   "metadata": {
    "papermill": {
     "duration": 0.011248,
     "end_time": "2022-08-09T07:22:35.017395",
     "exception": false,
     "start_time": "2022-08-09T07:22:35.006147",
     "status": "completed"
    },
    "tags": []
   },
   "source": [
    "## Combined\n",
    "\n",
    "Finally we run a backtest by using both the Yang-Zhang volatility estimator and the TREND signal."
   ]
  },
  {
   "cell_type": "code",
   "execution_count": 16,
   "id": "10be7010",
   "metadata": {
    "execution": {
     "iopub.execute_input": "2022-08-09T07:22:35.041442Z",
     "iopub.status.busy": "2022-08-09T07:22:35.041170Z",
     "iopub.status.idle": "2022-08-09T07:48:14.482876Z",
     "shell.execute_reply": "2022-08-09T07:48:14.482234Z"
    },
    "papermill": {
     "duration": 1539.455923,
     "end_time": "2022-08-09T07:48:14.484804",
     "exception": false,
     "start_time": "2022-08-09T07:22:35.028881",
     "status": "completed"
    },
    "tags": []
   },
   "outputs": [],
   "source": [
    "engine_combined = BacktestEngine(\n",
    "    strategy=Strategy.DELTA_ONE.value,\n",
    "    instrument=all_futures_baltas2020.index,\n",
    "    signal=signal.ParallelSignal([\n",
    "        signal.VolatilityScale(volatility_type=RealisedVolatility.YZ.value,\n",
    "                               agg_method='rolling', window=21, min_periods=10,\n",
    "                               target_volatility=0.4, signal_cap=0.95, ann_factor=261),\n",
    "        signal.TSMOMBaltas2020()\n",
    "    ], weighting='product'),\n",
    "    weighting=Weighting.EQUAL_WEIGHT.value,\n",
    "    log_level=logging.WARN,\n",
    ")\n",
    "engine_combined.run()"
   ]
  },
  {
   "cell_type": "code",
   "execution_count": 17,
   "id": "7f8c04cc",
   "metadata": {
    "execution": {
     "iopub.execute_input": "2022-08-09T07:48:14.509888Z",
     "iopub.status.busy": "2022-08-09T07:48:14.509523Z",
     "iopub.status.idle": "2022-08-09T07:49:30.085802Z",
     "shell.execute_reply": "2022-08-09T07:49:30.085063Z"
    },
    "papermill": {
     "duration": 75.590767,
     "end_time": "2022-08-09T07:49:30.087804",
     "exception": false,
     "start_time": "2022-08-09T07:48:14.497037",
     "status": "completed"
    },
    "tags": []
   },
   "outputs": [],
   "source": [
    "engine_combined_eq = (engine_combined.calculate_equity_curve(calculate_net=False, rebalance_freq='m')\n",
    "                      .rename('Trend-following portfolio (YZ estimator + TREND signal)'))"
   ]
  },
  {
   "cell_type": "code",
   "execution_count": 18,
   "id": "17399203",
   "metadata": {
    "execution": {
     "iopub.execute_input": "2022-08-09T07:49:30.111635Z",
     "iopub.status.busy": "2022-08-09T07:49:30.111364Z",
     "iopub.status.idle": "2022-08-09T07:49:30.686237Z",
     "shell.execute_reply": "2022-08-09T07:49:30.685543Z"
    },
    "papermill": {
     "duration": 0.589404,
     "end_time": "2022-08-09T07:49:30.688555",
     "exception": false,
     "start_time": "2022-08-09T07:49:30.099151",
     "status": "completed"
    },
    "tags": []
   },
   "outputs": [
    {
     "data": {
      "image/png": "[encoded data removed]",
      "text/plain": [
       "<Figure size 576x324 with 1 Axes>"
      ]
     },
     "metadata": {
      "needs_background": "light"
     },
     "output_type": "display_data"
    }
   ],
   "source": [
    "fig, ax = plt.subplots(figsize=(8, 4.5))\n",
    "engine_combined_eq.plot(ax=ax, logy=True)\n",
    "ax.set_title('Trend-following portfolio (YZ estimator + TREND signal)')\n",
    "ax.set_ylabel('Cumulative returns');"
   ]
  },
  {
   "cell_type": "code",
   "execution_count": 19,
   "id": "ff2bb78d",
   "metadata": {
    "execution": {
     "iopub.execute_input": "2022-08-09T07:49:30.757789Z",
     "iopub.status.busy": "2022-08-09T07:49:30.757508Z",
     "iopub.status.idle": "2022-08-09T07:49:30.838118Z",
     "shell.execute_reply": "2022-08-09T07:49:30.837297Z"
    },
    "papermill": {
     "duration": 0.133119,
     "end_time": "2022-08-09T07:49:30.839944",
     "exception": false,
     "start_time": "2022-08-09T07:49:30.706825",
     "status": "completed"
    },
    "tags": []
   },
   "outputs": [
    {
     "data": {
      "text/html": [
       "<div>\n",
       "<style scoped>\n",
       "    .dataframe tbody tr th:only-of-type {\n",
       "        vertical-align: middle;\n",
       "    }\n",
       "\n",
       "    .dataframe tbody tr th {\n",
       "        vertical-align: top;\n",
       "    }\n",
       "\n",
       "    .dataframe thead th {\n",
       "        text-align: right;\n",
       "    }\n",
       "</style>\n",
       "<table border=\"1\" class=\"dataframe\">\n",
       "  <thead>\n",
       "    <tr style=\"text-align: right;\">\n",
       "      <th></th>\n",
       "      <th>Trend-following portfolio (YZ estimator + TREND signal)</th>\n",
       "    </tr>\n",
       "  </thead>\n",
       "  <tbody>\n",
       "    <tr>\n",
       "      <th>CAGR</th>\n",
       "      <td>0.139632</td>\n",
       "    </tr>\n",
       "    <tr>\n",
       "      <th>Annualised vol</th>\n",
       "      <td>0.110673</td>\n",
       "    </tr>\n",
       "    <tr>\n",
       "      <th>Sharpe ratio</th>\n",
       "      <td>1.261664</td>\n",
       "    </tr>\n",
       "    <tr>\n",
       "      <th>Max drawdown</th>\n",
       "      <td>0.313945</td>\n",
       "    </tr>\n",
       "    <tr>\n",
       "      <th>Calmar ratio</th>\n",
       "      <td>0.444764</td>\n",
       "    </tr>\n",
       "    <tr>\n",
       "      <th>Skewness</th>\n",
       "      <td>0.292988</td>\n",
       "    </tr>\n",
       "    <tr>\n",
       "      <th>Kurtosis</th>\n",
       "      <td>32.540535</td>\n",
       "    </tr>\n",
       "    <tr>\n",
       "      <th>Worst return</th>\n",
       "      <td>-0.130152</td>\n",
       "    </tr>\n",
       "    <tr>\n",
       "      <th>Worst 1d return</th>\n",
       "      <td>-0.130152</td>\n",
       "    </tr>\n",
       "    <tr>\n",
       "      <th>Worst 1w return</th>\n",
       "      <td>-0.112097</td>\n",
       "    </tr>\n",
       "    <tr>\n",
       "      <th>Worst 1m return</th>\n",
       "      <td>-0.186272</td>\n",
       "    </tr>\n",
       "  </tbody>\n",
       "</table>\n",
       "</div>"
      ],
      "text/plain": [
       "                 Trend-following portfolio (YZ estimator + TREND signal)\n",
       "CAGR                                                      0.139632      \n",
       "Annualised vol                                            0.110673      \n",
       "Sharpe ratio                                              1.261664      \n",
       "Max drawdown                                              0.313945      \n",
       "Calmar ratio                                              0.444764      \n",
       "Skewness                                                  0.292988      \n",
       "Kurtosis                                                 32.540535      \n",
       "Worst return                                             -0.130152      \n",
       "Worst 1d return                                          -0.130152      \n",
       "Worst 1w return                                          -0.112097      \n",
       "Worst 1m return                                          -0.186272      "
      ]
     },
     "execution_count": 19,
     "metadata": {},
     "output_type": "execute_result"
    }
   ],
   "source": [
    "engine_combined_eq.pipe(Performance).summary()"
   ]
  },
  {
   "cell_type": "markdown",
   "id": "ee42d211",
   "metadata": {
    "papermill": {
     "duration": 0.012753,
     "end_time": "2022-08-09T07:49:30.865898",
     "exception": false,
     "start_time": "2022-08-09T07:49:30.853145",
     "status": "completed"
    },
    "tags": []
   },
   "source": [
    "# Comparison\n",
    "\n",
    "In this section we compare the above 4 backtests."
   ]
  },
  {
   "cell_type": "markdown",
   "id": "e46d48a6",
   "metadata": {
    "papermill": {
     "duration": 0.01311,
     "end_time": "2022-08-09T07:49:30.891420",
     "exception": false,
     "start_time": "2022-08-09T07:49:30.878310",
     "status": "completed"
    },
    "tags": []
   },
   "source": [
    "## Performance\n",
    "\n",
    "As reported in BK2020, using the YZ estimator and TREND signal does not alter the performance characteristics. Rather, the TREND signal somewhat improves the Sharpe ratio. Also the TREND signal lowers the annualised volatility from 12.5% to 10.8% with the close-to-close realised volatility."
   ]
  },
  {
   "cell_type": "code",
   "execution_count": 20,
   "id": "a36e6821",
   "metadata": {
    "execution": {
     "iopub.execute_input": "2022-08-09T07:49:30.921380Z",
     "iopub.status.busy": "2022-08-09T07:49:30.921107Z",
     "iopub.status.idle": "2022-08-09T07:49:30.934675Z",
     "shell.execute_reply": "2022-08-09T07:49:30.933951Z"
    },
    "papermill": {
     "duration": 0.032221,
     "end_time": "2022-08-09T07:49:30.936893",
     "exception": false,
     "start_time": "2022-08-09T07:49:30.904672",
     "status": "completed"
    },
    "tags": []
   },
   "outputs": [],
   "source": [
    "performance_comp = pd.concat((engine_original_eq, engine_vol_eq, \n",
    "                              engine_trend_eq, engine_combined_eq), axis=1)"
   ]
  },
  {
   "cell_type": "code",
   "execution_count": 21,
   "id": "c8b6dd9b",
   "metadata": {
    "execution": {
     "iopub.execute_input": "2022-08-09T07:49:30.962339Z",
     "iopub.status.busy": "2022-08-09T07:49:30.962040Z",
     "iopub.status.idle": "2022-08-09T07:49:31.760294Z",
     "shell.execute_reply": "2022-08-09T07:49:31.759475Z"
    },
    "papermill": {
     "duration": 0.813309,
     "end_time": "2022-08-09T07:49:31.762218",
     "exception": false,
     "start_time": "2022-08-09T07:49:30.948909",
     "status": "completed"
    },
    "tags": []
   },
   "outputs": [
    {
     "data": {
      "image/png": "[encoded data removed]",
      "text/plain": [
       "<Figure size 576x324 with 1 Axes>"
      ]
     },
     "metadata": {
      "needs_background": "light"
     },
     "output_type": "display_data"
    }
   ],
   "source": [
    "fig, ax = plt.subplots(figsize=(8, 4.5))\n",
    "performance_comp.plot(ax=ax, logy=True);\n",
    "ax.set_title('Trend-following portfolio')\n",
    "ax.set_ylabel('Cumulative returns');"
   ]
  },
  {
   "cell_type": "code",
   "execution_count": 22,
   "id": "0f130f47",
   "metadata": {
    "execution": {
     "iopub.execute_input": "2022-08-09T07:49:31.789086Z",
     "iopub.status.busy": "2022-08-09T07:49:31.788715Z",
     "iopub.status.idle": "2022-08-09T07:49:31.899842Z",
     "shell.execute_reply": "2022-08-09T07:49:31.899146Z"
    },
    "papermill": {
     "duration": 0.126473,
     "end_time": "2022-08-09T07:49:31.901496",
     "exception": false,
     "start_time": "2022-08-09T07:49:31.775023",
     "status": "completed"
    },
    "tags": []
   },
   "outputs": [
    {
     "data": {
      "text/html": [
       "<div>\n",
       "<style scoped>\n",
       "    .dataframe tbody tr th:only-of-type {\n",
       "        vertical-align: middle;\n",
       "    }\n",
       "\n",
       "    .dataframe tbody tr th {\n",
       "        vertical-align: top;\n",
       "    }\n",
       "\n",
       "    .dataframe thead th {\n",
       "        text-align: right;\n",
       "    }\n",
       "</style>\n",
       "<table border=\"1\" class=\"dataframe\">\n",
       "  <thead>\n",
       "    <tr style=\"text-align: right;\">\n",
       "      <th></th>\n",
       "      <th>Trend-following portfolio (Moskowitz 2012)</th>\n",
       "      <th>Trend-following portfolio (YZ estimator)</th>\n",
       "      <th>Trend-following portfolio (TREND signal)</th>\n",
       "      <th>Trend-following portfolio (YZ estimator + TREND signal)</th>\n",
       "    </tr>\n",
       "  </thead>\n",
       "  <tbody>\n",
       "    <tr>\n",
       "      <th>CAGR</th>\n",
       "      <td>0.147076</td>\n",
       "      <td>0.148368</td>\n",
       "      <td>0.139178</td>\n",
       "      <td>0.139288</td>\n",
       "    </tr>\n",
       "    <tr>\n",
       "      <th>Annualised vol</th>\n",
       "      <td>0.124973</td>\n",
       "      <td>0.127108</td>\n",
       "      <td>0.107937</td>\n",
       "      <td>0.110537</td>\n",
       "    </tr>\n",
       "    <tr>\n",
       "      <th>Sharpe ratio</th>\n",
       "      <td>1.176862</td>\n",
       "      <td>1.167262</td>\n",
       "      <td>1.289435</td>\n",
       "      <td>1.260101</td>\n",
       "    </tr>\n",
       "    <tr>\n",
       "      <th>Max drawdown</th>\n",
       "      <td>0.259239</td>\n",
       "      <td>0.305877</td>\n",
       "      <td>0.294584</td>\n",
       "      <td>0.313945</td>\n",
       "    </tr>\n",
       "    <tr>\n",
       "      <th>Calmar ratio</th>\n",
       "      <td>0.567338</td>\n",
       "      <td>0.485059</td>\n",
       "      <td>0.472455</td>\n",
       "      <td>0.443670</td>\n",
       "    </tr>\n",
       "    <tr>\n",
       "      <th>Skewness</th>\n",
       "      <td>0.073407</td>\n",
       "      <td>0.281596</td>\n",
       "      <td>0.159413</td>\n",
       "      <td>0.293953</td>\n",
       "    </tr>\n",
       "    <tr>\n",
       "      <th>Kurtosis</th>\n",
       "      <td>19.352918</td>\n",
       "      <td>22.197081</td>\n",
       "      <td>28.018597</td>\n",
       "      <td>32.627132</td>\n",
       "    </tr>\n",
       "    <tr>\n",
       "      <th>Worst return</th>\n",
       "      <td>-0.126276</td>\n",
       "      <td>-0.137043</td>\n",
       "      <td>-0.121269</td>\n",
       "      <td>-0.130152</td>\n",
       "    </tr>\n",
       "    <tr>\n",
       "      <th>Worst 1d return</th>\n",
       "      <td>-0.126276</td>\n",
       "      <td>-0.137043</td>\n",
       "      <td>-0.121269</td>\n",
       "      <td>-0.130152</td>\n",
       "    </tr>\n",
       "    <tr>\n",
       "      <th>Worst 1w return</th>\n",
       "      <td>-0.107725</td>\n",
       "      <td>-0.098542</td>\n",
       "      <td>-0.110077</td>\n",
       "      <td>-0.112097</td>\n",
       "    </tr>\n",
       "    <tr>\n",
       "      <th>Worst 1m return</th>\n",
       "      <td>-0.152667</td>\n",
       "      <td>-0.169177</td>\n",
       "      <td>-0.171789</td>\n",
       "      <td>-0.186272</td>\n",
       "    </tr>\n",
       "  </tbody>\n",
       "</table>\n",
       "</div>"
      ],
      "text/plain": [
       "                 Trend-following portfolio (Moskowitz 2012)  \\\n",
       "CAGR                                               0.147076   \n",
       "Annualised vol                                     0.124973   \n",
       "Sharpe ratio                                       1.176862   \n",
       "Max drawdown                                       0.259239   \n",
       "Calmar ratio                                       0.567338   \n",
       "Skewness                                           0.073407   \n",
       "Kurtosis                                          19.352918   \n",
       "Worst return                                      -0.126276   \n",
       "Worst 1d return                                   -0.126276   \n",
       "Worst 1w return                                   -0.107725   \n",
       "Worst 1m return                                   -0.152667   \n",
       "\n",
       "                 Trend-following portfolio (YZ estimator)  \\\n",
       "CAGR                                             0.148368   \n",
       "Annualised vol                                   0.127108   \n",
       "Sharpe ratio                                     1.167262   \n",
       "Max drawdown                                     0.305877   \n",
       "Calmar ratio                                     0.485059   \n",
       "Skewness                                         0.281596   \n",
       "Kurtosis                                        22.197081   \n",
       "Worst return                                    -0.137043   \n",
       "Worst 1d return                                 -0.137043   \n",
       "Worst 1w return                                 -0.098542   \n",
       "Worst 1m return                                 -0.169177   \n",
       "\n",
       "                 Trend-following portfolio (TREND signal)  \\\n",
       "CAGR                                             0.139178   \n",
       "Annualised vol                                   0.107937   \n",
       "Sharpe ratio                                     1.289435   \n",
       "Max drawdown                                     0.294584   \n",
       "Calmar ratio                                     0.472455   \n",
       "Skewness                                         0.159413   \n",
       "Kurtosis                                        28.018597   \n",
       "Worst return                                    -0.121269   \n",
       "Worst 1d return                                 -0.121269   \n",
       "Worst 1w return                                 -0.110077   \n",
       "Worst 1m return                                 -0.171789   \n",
       "\n",
       "                 Trend-following portfolio (YZ estimator + TREND signal)  \n",
       "CAGR                                                      0.139288        \n",
       "Annualised vol                                            0.110537        \n",
       "Sharpe ratio                                              1.260101        \n",
       "Max drawdown                                              0.313945        \n",
       "Calmar ratio                                              0.443670        \n",
       "Skewness                                                  0.293953        \n",
       "Kurtosis                                                 32.627132        \n",
       "Worst return                                             -0.130152        \n",
       "Worst 1d return                                          -0.130152        \n",
       "Worst 1w return                                          -0.112097        \n",
       "Worst 1m return                                          -0.186272        "
      ]
     },
     "execution_count": 22,
     "metadata": {},
     "output_type": "execute_result"
    }
   ],
   "source": [
    "performance_comp.pipe(Performance).summary()"
   ]
  },
  {
   "cell_type": "markdown",
   "id": "9255626e",
   "metadata": {
    "papermill": {
     "duration": 0.013582,
     "end_time": "2022-08-09T07:49:31.928394",
     "exception": false,
     "start_time": "2022-08-09T07:49:31.914812",
     "status": "completed"
    },
    "tags": []
   },
   "source": [
    "## Turnover reduction\n",
    "\n",
    "Again, as reported in BK2020, both enhancements reduce the turnover significantly while not affecting the performance. The chart below shows the reduction in turnover for each futures contract. By utilising the YZ realised volatility and the TREND signal, overall the turnover is reduced by more than 30%."
   ]
  },
  {
   "cell_type": "code",
   "execution_count": 23,
   "id": "4f17f3e0",
   "metadata": {
    "execution": {
     "iopub.execute_input": "2022-08-09T07:49:31.956229Z",
     "iopub.status.busy": "2022-08-09T07:49:31.955852Z",
     "iopub.status.idle": "2022-08-09T07:54:31.593226Z",
     "shell.execute_reply": "2022-08-09T07:54:31.592469Z"
    },
    "papermill": {
     "duration": 299.653612,
     "end_time": "2022-08-09T07:54:31.594997",
     "exception": false,
     "start_time": "2022-08-09T07:49:31.941385",
     "status": "completed"
    },
    "tags": []
   },
   "outputs": [],
   "source": [
    "engine_original_pos = engine_original.get_position_by_instrument()\n",
    "engine_vol_pos = engine_vol.get_position_by_instrument()\n",
    "engine_trend_pos = engine_trend.get_position_by_instrument()\n",
    "engine_combined_pos = engine_combined.get_position_by_instrument()"
   ]
  },
  {
   "cell_type": "code",
   "execution_count": 24,
   "id": "d1d9c2fc",
   "metadata": {
    "execution": {
     "iopub.execute_input": "2022-08-09T07:54:31.627340Z",
     "iopub.status.busy": "2022-08-09T07:54:31.627025Z",
     "iopub.status.idle": "2022-08-09T07:54:31.659036Z",
     "shell.execute_reply": "2022-08-09T07:54:31.658287Z"
    },
    "papermill": {
     "duration": 0.051226,
     "end_time": "2022-08-09T07:54:31.660903",
     "exception": false,
     "start_time": "2022-08-09T07:54:31.609677",
     "status": "completed"
    },
    "tags": []
   },
   "outputs": [],
   "source": [
    "engine_original_turnover = (engine_original_pos.diff().abs().mean().mul(261)\n",
    "                            .rename('Trend-following portfolio (Moskowitz 2012)'))\n",
    "engine_vol_turnover = (engine_vol_pos.diff().abs().mean().mul(261)\n",
    "                       .rename('Trend-following portfolio (YZ estimator)'))\n",
    "engine_trend_turnover = (engine_trend_pos.diff().abs().mean().mul(261)\n",
    "                         .rename('Trend-following portfolio (TREND signal)'))\n",
    "engine_combined_turnover = (engine_combined_pos.diff().abs().mean().mul(261)\n",
    "                            .rename('Trend-following portfolio (YZ estimator + TREND signal)'))"
   ]
  },
  {
   "cell_type": "code",
   "execution_count": 25,
   "id": "40b33e9f",
   "metadata": {
    "execution": {
     "iopub.execute_input": "2022-08-09T07:54:31.687632Z",
     "iopub.status.busy": "2022-08-09T07:54:31.687318Z",
     "iopub.status.idle": "2022-08-09T07:54:31.694424Z",
     "shell.execute_reply": "2022-08-09T07:54:31.693747Z"
    },
    "papermill": {
     "duration": 0.02214,
     "end_time": "2022-08-09T07:54:31.695973",
     "exception": false,
     "start_time": "2022-08-09T07:54:31.673833",
     "status": "completed"
    },
    "tags": []
   },
   "outputs": [],
   "source": [
    "turnover_reduction = (\n",
    "    pd.concat((engine_vol_turnover, engine_trend_turnover, engine_combined_turnover), axis=1)\n",
    "    .div(engine_original_turnover, axis=0)\n",
    "    .sub(1)\n",
    "    .reindex(index=all_futures_baltas2020.index)\n",
    "    .rename(index=all_futures_baltas2020['name'])\n",
    ")"
   ]
  },
  {
   "cell_type": "code",
   "execution_count": 26,
   "id": "56fc3493",
   "metadata": {
    "execution": {
     "iopub.execute_input": "2022-08-09T07:54:31.722390Z",
     "iopub.status.busy": "2022-08-09T07:54:31.722076Z",
     "iopub.status.idle": "2022-08-09T07:54:31.727893Z",
     "shell.execute_reply": "2022-08-09T07:54:31.727288Z"
    },
    "papermill": {
     "duration": 0.020981,
     "end_time": "2022-08-09T07:54:31.729440",
     "exception": false,
     "start_time": "2022-08-09T07:54:31.708459",
     "status": "completed"
    },
    "tags": []
   },
   "outputs": [
    {
     "data": {
      "text/plain": [
       "Trend-following portfolio (YZ estimator)                  -0.181240\n",
       "Trend-following portfolio (TREND signal)                  -0.207231\n",
       "Trend-following portfolio (YZ estimator + TREND signal)   -0.330655\n",
       "dtype: float64"
      ]
     },
     "execution_count": 26,
     "metadata": {},
     "output_type": "execute_result"
    }
   ],
   "source": [
    "turnover_reduction.mean()"
   ]
  },
  {
   "cell_type": "code",
   "execution_count": 27,
   "id": "2e92fef0",
   "metadata": {
    "execution": {
     "iopub.execute_input": "2022-08-09T07:54:31.756209Z",
     "iopub.status.busy": "2022-08-09T07:54:31.755894Z",
     "iopub.status.idle": "2022-08-09T07:54:33.318216Z",
     "shell.execute_reply": "2022-08-09T07:54:33.317443Z"
    },
    "papermill": {
     "duration": 1.577775,
     "end_time": "2022-08-09T07:54:33.319933",
     "exception": false,
     "start_time": "2022-08-09T07:54:31.742158",
     "status": "completed"
    },
    "tags": []
   },
   "outputs": [
    {
     "data": {
      "image/png": "[encoded data removed]",
      "text/plain": [
       "<Figure size 1008x288 with 1 Axes>"
      ]
     },
     "metadata": {
      "needs_background": "light"
     },
     "output_type": "display_data"
    }
   ],
   "source": [
    "ax = turnover_reduction.plot(kind='bar', figsize=(14, 4))\n",
    "ax.yaxis.set_major_formatter(mticker.PercentFormatter(1))\n",
    "ax.axhline(0, color='black', lw=1)\n",
    "ax.axvline(24.5, color='black', lw=1)\n",
    "ax.axvline(30.5, color='black', lw=1)\n",
    "ax.axvline(42.5, color='black', lw=1)\n",
    "ax.set_xlabel('Contract')\n",
    "ax.set_ylabel('Turnover reduction');"
   ]
  },
  {
   "cell_type": "markdown",
   "id": "cfe5fbce",
   "metadata": {
    "papermill": {
     "duration": 0.013505,
     "end_time": "2022-08-09T07:54:33.347141",
     "exception": false,
     "start_time": "2022-08-09T07:54:33.333636",
     "status": "completed"
    },
    "tags": []
   },
   "source": [
    "# Recent performance"
   ]
  },
  {
   "cell_type": "code",
   "execution_count": 28,
   "id": "24b26367",
   "metadata": {
    "execution": {
     "iopub.execute_input": "2022-08-09T07:54:33.375661Z",
     "iopub.status.busy": "2022-08-09T07:54:33.375374Z",
     "iopub.status.idle": "2022-08-09T07:54:33.819901Z",
     "shell.execute_reply": "2022-08-09T07:54:33.819215Z"
    },
    "papermill": {
     "duration": 0.460725,
     "end_time": "2022-08-09T07:54:33.821639",
     "exception": false,
     "start_time": "2022-08-09T07:54:33.360914",
     "status": "completed"
    },
    "tags": []
   },
   "outputs": [
    {
     "data": {
      "image/png": "[encoded data removed]",
      "text/plain": [
       "<Figure size 576x324 with 1 Axes>"
      ]
     },
     "metadata": {
      "needs_background": "light"
     },
     "output_type": "display_data"
    }
   ],
   "source": [
    "fig, ax = plt.subplots(figsize=(8, 4.5))\n",
    "performance_comp.tail(252 * 2).pct_change().fillna(0).add(1).cumprod().plot(ax=ax, logy=True);\n",
    "ax.set_title('Trend-following portfolio')\n",
    "ax.set_ylabel('Cumulative returns');"
   ]
  },
  {
   "cell_type": "markdown",
   "id": "7d624bca",
   "metadata": {
    "papermill": {
     "duration": 0.014174,
     "end_time": "2022-08-09T07:54:33.851547",
     "exception": false,
     "start_time": "2022-08-09T07:54:33.837373",
     "status": "completed"
    },
    "tags": []
   },
   "source": [
    "# Reference\n",
    "\n",
    "- Baltas, N. and Kosowski, R., 2020. Demystifying time-series momentum strategies: Volatility estimators, trading rules and pairwise correlations. Market Momentum: Theory and Practice\", Wiley.\n",
    "- Moskowitz, T.J., Ooi, Y.H. and Pedersen, L.H., 2012. Time series momentum. Journal of financial economics, 104(2), pp.228-250."
   ]
  },
  {
   "cell_type": "code",
   "execution_count": 29,
   "id": "ff15d087",
   "metadata": {
    "ExecuteTime": {
     "end_time": "2020-08-30T21:20:32.431574Z",
     "start_time": "2020-08-30T21:20:32.429370Z"
    },
    "execution": {
     "iopub.execute_input": "2022-08-09T07:54:33.882573Z",
     "iopub.status.busy": "2022-08-09T07:54:33.882314Z",
     "iopub.status.idle": "2022-08-09T07:54:33.886510Z",
     "shell.execute_reply": "2022-08-09T07:54:33.885845Z"
    },
    "papermill": {
     "duration": 0.020924,
     "end_time": "2022-08-09T07:54:33.888146",
     "exception": false,
     "start_time": "2022-08-09T07:54:33.867222",
     "status": "completed"
    },
    "tags": []
   },
   "outputs": [
    {
     "name": "stdout",
     "output_type": "stream",
     "text": [
      "Updated: 09-Aug-2022 07:54\n"
     ]
    }
   ],
   "source": [
    "print(f'Updated: {datetime.utcnow():%d-%b-%Y %H:%M}')"
   ]
  }
 ],
 "metadata": {
  "hide_input": false,
  "kernelspec": {
   "display_name": "Python 3",
   "language": "python",
   "name": "python3"
  },
  "language_info": {
   "codemirror_mode": {
    "name": "ipython",
    "version": 3
   },
   "file_extension": ".py",
   "mimetype": "text/x-python",
   "name": "python",
   "nbconvert_exporter": "python",
   "pygments_lexer": "ipython3",
   "version": "3.9.6"
  },
  "nav_menu": {},
  "papermill": {
   "duration": 5284.501519,
   "end_time": "2022-08-09T07:54:36.932316",
   "environment_variables": {},
   "exception": null,
   "input_path": "notebooks/papermill/trend_following_baltas2020.ipynb",
   "output_path": "notebooks/trend_following_baltas2020.ipynb",
   "parameters": {},
   "start_time": "2022-08-09T06:26:32.430797",
   "version": "2.1.3"
  },
  "toc": {
   "base_numbering": 1,
   "nav_menu": {},
   "number_sections": true,
   "sideBar": true,
   "skip_h1_title": false,
   "title_cell": "Table of Contents",
   "title_sidebar": "Contents",
   "toc_cell": true,
   "toc_position": {
    "height": "calc(100% - 180px)",
    "left": "10px",
    "top": "150px",
    "width": "165px"
   },
   "toc_section_display": "block",
   "toc_window_display": true
  }
 },
 "nbformat": 4,
 "nbformat_minor": 5
}