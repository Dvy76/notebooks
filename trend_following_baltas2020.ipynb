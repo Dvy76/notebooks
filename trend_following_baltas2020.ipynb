{
 "cells": [
  {
   "cell_type": "markdown",
   "id": "eb3784a9",
   "metadata": {
    "papermill": {
     "duration": 0.013358,
     "end_time": "2022-08-10T06:26:39.300690",
     "exception": false,
     "start_time": "2022-08-10T06:26:39.287332",
     "status": "completed"
    },
    "tags": []
   },
   "source": [
    "# Trend-following\n",
    "\n",
    "This notebook implements a few improvements that Baltas and Kosowski (2020) (BK2020, hereafter) propose to the time-series momentum strategy which originally appeared in Moskowitz et al (2012).\n",
    "\n",
    "Note that like other notebooks, all backtests are performed by using a private library called `vivace`."
   ]
  },
  {
   "cell_type": "code",
   "execution_count": 1,
   "id": "972c6c47",
   "metadata": {
    "ExecuteTime": {
     "end_time": "2020-08-30T21:08:49.524262Z",
     "start_time": "2020-08-30T21:08:48.720115Z"
    },
    "execution": {
     "iopub.execute_input": "2022-08-10T06:26:39.325511Z",
     "iopub.status.busy": "2022-08-10T06:26:39.325106Z",
     "iopub.status.idle": "2022-08-10T06:26:43.367267Z",
     "shell.execute_reply": "2022-08-10T06:26:43.366098Z"
    },
    "papermill": {
     "duration": 4.057771,
     "end_time": "2022-08-10T06:26:43.370478",
     "exception": false,
     "start_time": "2022-08-10T06:26:39.312707",
     "status": "completed"
    },
    "tags": []
   },
   "outputs": [],
   "source": [
    "%matplotlib inline\n",
    "from datetime import datetime\n",
    "import logging\n",
    "import warnings\n",
    "warnings.simplefilter(action='ignore', category=FutureWarning)\n",
    "\n",
    "import pandas as pd\n",
    "import matplotlib.pyplot as plt\n",
    "import matplotlib.ticker as mticker\n",
    "plt.style.use('bmh')\n",
    "\n",
    "from vivace.backtest import signal\n",
    "from vivace.backtest import processing\n",
    "from vivace.backtest.contract import all_futures_baltas2020\n",
    "from vivace.backtest.engine import BacktestEngine\n",
    "from vivace.backtest.enums import Strategy, Weighting, RealisedVolatility\n",
    "from vivace.backtest.stats import Performance"
   ]
  },
  {
   "cell_type": "markdown",
   "id": "92593410",
   "metadata": {
    "papermill": {
     "duration": 0.015876,
     "end_time": "2022-08-10T06:26:43.401761",
     "exception": false,
     "start_time": "2022-08-10T06:26:43.385885",
     "status": "completed"
    },
    "tags": []
   },
   "source": [
    "# Data"
   ]
  },
  {
   "cell_type": "code",
   "execution_count": 2,
   "id": "18d124f4",
   "metadata": {
    "ExecuteTime": {
     "end_time": "2020-08-30T21:08:49.529214Z",
     "start_time": "2020-08-30T21:08:49.525465Z"
    },
    "execution": {
     "iopub.execute_input": "2022-08-10T06:26:43.435207Z",
     "iopub.status.busy": "2022-08-10T06:26:43.434650Z",
     "iopub.status.idle": "2022-08-10T06:26:43.443796Z",
     "shell.execute_reply": "2022-08-10T06:26:43.442781Z"
    },
    "papermill": {
     "duration": 0.029651,
     "end_time": "2022-08-10T06:26:43.447097",
     "exception": false,
     "start_time": "2022-08-10T06:26:43.417446",
     "status": "completed"
    },
    "tags": []
   },
   "outputs": [
    {
     "data": {
      "text/plain": [
       "array(['WTI Crude Oil', 'Brent Crude Oil', 'Heating Oil', 'Natural Gas',\n",
       "       'Gasoline', 'Copper', 'Gold', 'Palladium', 'Platinum', 'Silver',\n",
       "       'Feeder Cattle', 'Live Cattle', 'Lean Hog', 'Corn', 'Oats',\n",
       "       'Soybean Oil', 'Soybean Meal', 'Soybean', 'Wheat', 'Cocoa',\n",
       "       'Coffee', 'Cotton', 'Lumber', 'Orange Juice', 'Sugar',\n",
       "       'Australian Dollar', 'Canadian Dollar', 'Swiss Franc', 'Euro',\n",
       "       'British Pound', 'Japanese Yen', 'E-Mini Nasdaq 100',\n",
       "       'E-mini S&P 500', 'E-mini Russell 2000', 'FTSE 100', 'DAX',\n",
       "       'CAC 40', 'IBEX 35', 'AEX', 'Swiss Market Index', 'SPI 200',\n",
       "       'Topix', 'Hang Seng', 'US 2-year Treasury', 'US 5-year Treasury',\n",
       "       'US 10-year Treasury', 'US treasury Bond', 'Germany Schatz',\n",
       "       'Germany Bobl', 'Germany Bund', 'Germany Buxl', 'Gilt',\n",
       "       'Canada 10-year Treasury', 'JGB'], dtype=object)"
      ]
     },
     "execution_count": 2,
     "metadata": {},
     "output_type": "execute_result"
    }
   ],
   "source": [
    "all_futures_baltas2020['name'].values"
   ]
  },
  {
   "cell_type": "code",
   "execution_count": 3,
   "id": "07f1d4f2",
   "metadata": {
    "ExecuteTime": {
     "end_time": "2020-08-30T21:08:49.542477Z",
     "start_time": "2020-08-30T21:08:49.530487Z"
    },
    "execution": {
     "iopub.execute_input": "2022-08-10T06:26:43.527044Z",
     "iopub.status.busy": "2022-08-10T06:26:43.526541Z",
     "iopub.status.idle": "2022-08-10T06:26:43.532595Z",
     "shell.execute_reply": "2022-08-10T06:26:43.531398Z"
    },
    "papermill": {
     "duration": 0.072082,
     "end_time": "2022-08-10T06:26:43.535337",
     "exception": false,
     "start_time": "2022-08-10T06:26:43.463255",
     "status": "completed"
    },
    "tags": []
   },
   "outputs": [
    {
     "name": "stdout",
     "output_type": "stream",
     "text": [
      "54\n"
     ]
    }
   ],
   "source": [
    "print(len(all_futures_baltas2020))"
   ]
  },
  {
   "cell_type": "markdown",
   "id": "05482deb",
   "metadata": {
    "papermill": {
     "duration": 0.016346,
     "end_time": "2022-08-10T06:26:43.567758",
     "exception": false,
     "start_time": "2022-08-10T06:26:43.551412",
     "status": "completed"
    },
    "tags": []
   },
   "source": [
    "We try to use the same contract as the original paper where possible, resulting 54 futures contracts to analyse. The trading universe covers a wide range of asset classes and regions, and is made up of following instruments:\n",
    "- Equity index futures\n",
    "- Government bond futures\n",
    "- FX futures\n",
    "- Commodity futures\n",
    "\n",
    "where the same trend detection method is applied."
   ]
  },
  {
   "cell_type": "markdown",
   "id": "fd662a57",
   "metadata": {
    "papermill": {
     "duration": 0.015807,
     "end_time": "2022-08-10T06:26:43.599506",
     "exception": false,
     "start_time": "2022-08-10T06:26:43.583699",
     "status": "completed"
    },
    "tags": []
   },
   "source": [
    "# Performance\n"
   ]
  },
  {
   "cell_type": "markdown",
   "id": "ea09c237",
   "metadata": {
    "papermill": {
     "duration": 0.016803,
     "end_time": "2022-08-10T06:26:43.632543",
     "exception": false,
     "start_time": "2022-08-10T06:26:43.615740",
     "status": "completed"
    },
    "tags": []
   },
   "source": [
    "## Moskowitz et al\n",
    "\n",
    "First we calculate the original trend-following portfolio with a more traditional close-to-close realised volatility estimator. Although Moskowitz et al uses the exponentially weighted standard deviation, BK2020 appears to compare against the rolling standard deviation."
   ]
  },
  {
   "cell_type": "code",
   "execution_count": 4,
   "id": "0d672113",
   "metadata": {
    "execution": {
     "iopub.execute_input": "2022-08-10T06:26:43.667238Z",
     "iopub.status.busy": "2022-08-10T06:26:43.666802Z",
     "iopub.status.idle": "2022-08-10T06:39:42.040403Z",
     "shell.execute_reply": "2022-08-10T06:39:42.039540Z"
    },
    "papermill": {
     "duration": 778.393441,
     "end_time": "2022-08-10T06:39:42.042675",
     "exception": false,
     "start_time": "2022-08-10T06:26:43.649234",
     "status": "completed"
    },
    "tags": []
   },
   "outputs": [],
   "source": [
    "engine_original = BacktestEngine(\n",
    "    strategy=Strategy.DELTA_ONE.value,\n",
    "    instrument=all_futures_baltas2020.index,\n",
    "    signal=signal.ParallelSignal([\n",
    "        signal.VolatilityScale(agg_method='rolling', window=21, ann_factor=261, \n",
    "                               target_volatility=0.4, signal_cap=0.95),\n",
    "        signal.TSMOMMoskowitz2012(post_process=processing.AsFreq(freq='m', method='pad'))\n",
    "    ], weighting='product'),\n",
    "    weighting=Weighting.EQUAL_WEIGHT.value,\n",
    "    log_level=logging.WARN,\n",
    ")\n",
    "engine_original.run()"
   ]
  },
  {
   "cell_type": "code",
   "execution_count": 5,
   "id": "7b6c0651",
   "metadata": {
    "execution": {
     "iopub.execute_input": "2022-08-10T06:39:42.067952Z",
     "iopub.status.busy": "2022-08-10T06:39:42.067529Z",
     "iopub.status.idle": "2022-08-10T06:41:22.794269Z",
     "shell.execute_reply": "2022-08-10T06:41:22.793568Z"
    },
    "papermill": {
     "duration": 100.741428,
     "end_time": "2022-08-10T06:41:22.796170",
     "exception": false,
     "start_time": "2022-08-10T06:39:42.054742",
     "status": "completed"
    },
    "tags": []
   },
   "outputs": [],
   "source": [
    "engine_original_eq = (engine_original.calculate_equity_curve(calculate_net=False, rebalance_freq='m')\n",
    "                      .rename('Trend-following portfolio (Moskowitz 2012)'))"
   ]
  },
  {
   "cell_type": "code",
   "execution_count": 6,
   "id": "82e47ecd",
   "metadata": {
    "execution": {
     "iopub.execute_input": "2022-08-10T06:41:22.820112Z",
     "iopub.status.busy": "2022-08-10T06:41:22.819805Z",
     "iopub.status.idle": "2022-08-10T06:41:24.311668Z",
     "shell.execute_reply": "2022-08-10T06:41:24.310864Z"
    },
    "papermill": {
     "duration": 1.505715,
     "end_time": "2022-08-10T06:41:24.313506",
     "exception": false,
     "start_time": "2022-08-10T06:41:22.807791",
     "status": "completed"
    },
    "tags": []
   },
   "outputs": [
    {
     "data": {
      "image/png": "[encoded data removed]",
      "text/plain": [
       "<Figure size 576x324 with 1 Axes>"
      ]
     },
     "metadata": {
      "needs_background": "light"
     },
     "output_type": "display_data"
    }
   ],
   "source": [
    "fig, ax = plt.subplots(figsize=(8, 4.5))\n",
    "engine_original_eq.plot(ax=ax, logy=True)\n",
    "ax.set_title('Trend-following portfolio (Moskowitz 2012)')\n",
    "ax.set_ylabel('Cumulative returns');"
   ]
  },
  {
   "cell_type": "code",
   "execution_count": 7,
   "id": "245e75f8",
   "metadata": {
    "execution": {
     "iopub.execute_input": "2022-08-10T06:41:24.341453Z",
     "iopub.status.busy": "2022-08-10T06:41:24.340884Z",
     "iopub.status.idle": "2022-08-10T06:41:24.429292Z",
     "shell.execute_reply": "2022-08-10T06:41:24.428562Z"
    },
    "papermill": {
     "duration": 0.104612,
     "end_time": "2022-08-10T06:41:24.431808",
     "exception": false,
     "start_time": "2022-08-10T06:41:24.327196",
     "status": "completed"
    },
    "tags": []
   },
   "outputs": [
    {
     "data": {
      "text/html": [
       "<div>\n",
       "<style scoped>\n",
       "    .dataframe tbody tr th:only-of-type {\n",
       "        vertical-align: middle;\n",
       "    }\n",
       "\n",
       "    .dataframe tbody tr th {\n",
       "        vertical-align: top;\n",
       "    }\n",
       "\n",
       "    .dataframe thead th {\n",
       "        text-align: right;\n",
       "    }\n",
       "</style>\n",
       "<table border=\"1\" class=\"dataframe\">\n",
       "  <thead>\n",
       "    <tr style=\"text-align: right;\">\n",
       "      <th></th>\n",
       "      <th>Trend-following portfolio (Moskowitz 2012)</th>\n",
       "    </tr>\n",
       "  </thead>\n",
       "  <tbody>\n",
       "    <tr>\n",
       "      <th>CAGR</th>\n",
       "      <td>0.147181</td>\n",
       "    </tr>\n",
       "    <tr>\n",
       "      <th>Annualised vol</th>\n",
       "      <td>0.124972</td>\n",
       "    </tr>\n",
       "    <tr>\n",
       "      <th>Sharpe ratio</th>\n",
       "      <td>1.177707</td>\n",
       "    </tr>\n",
       "    <tr>\n",
       "      <th>Max drawdown</th>\n",
       "      <td>0.259239</td>\n",
       "    </tr>\n",
       "    <tr>\n",
       "      <th>Calmar ratio</th>\n",
       "      <td>0.567741</td>\n",
       "    </tr>\n",
       "    <tr>\n",
       "      <th>Skewness</th>\n",
       "      <td>0.073285</td>\n",
       "    </tr>\n",
       "    <tr>\n",
       "      <th>Kurtosis</th>\n",
       "      <td>19.352297</td>\n",
       "    </tr>\n",
       "    <tr>\n",
       "      <th>Worst return</th>\n",
       "      <td>-0.126276</td>\n",
       "    </tr>\n",
       "    <tr>\n",
       "      <th>Worst 1d return</th>\n",
       "      <td>-0.126276</td>\n",
       "    </tr>\n",
       "    <tr>\n",
       "      <th>Worst 1w return</th>\n",
       "      <td>-0.107725</td>\n",
       "    </tr>\n",
       "    <tr>\n",
       "      <th>Worst 1m return</th>\n",
       "      <td>-0.152667</td>\n",
       "    </tr>\n",
       "  </tbody>\n",
       "</table>\n",
       "</div>"
      ],
      "text/plain": [
       "                 Trend-following portfolio (Moskowitz 2012)\n",
       "CAGR                                               0.147181\n",
       "Annualised vol                                     0.124972\n",
       "Sharpe ratio                                       1.177707\n",
       "Max drawdown                                       0.259239\n",
       "Calmar ratio                                       0.567741\n",
       "Skewness                                           0.073285\n",
       "Kurtosis                                          19.352297\n",
       "Worst return                                      -0.126276\n",
       "Worst 1d return                                   -0.126276\n",
       "Worst 1w return                                   -0.107725\n",
       "Worst 1m return                                   -0.152667"
      ]
     },
     "execution_count": 7,
     "metadata": {},
     "output_type": "execute_result"
    }
   ],
   "source": [
    "engine_original_eq.pipe(Performance).summary()"
   ]
  },
  {
   "cell_type": "markdown",
   "id": "4f94c24e",
   "metadata": {
    "papermill": {
     "duration": 0.011789,
     "end_time": "2022-08-10T06:41:24.456209",
     "exception": false,
     "start_time": "2022-08-10T06:41:24.444420",
     "status": "completed"
    },
    "tags": []
   },
   "source": [
    "\n",
    "## Volatility estimator\n",
    "BK2020 proposes a few changes in order to enhance the original trend-following strategy Moskowitz et al reported. The first thing is to use a more sophisticated realised volatility estimators for volatility scaling. Moskowitz used the exponentially weighted standard deviation with close-to-close. On the other hand, BK2020 suggests to use Yang-Zhang estimator as it is much more efficient."
   ]
  },
  {
   "cell_type": "code",
   "execution_count": 8,
   "id": "edcde24b",
   "metadata": {
    "ExecuteTime": {
     "end_time": "2020-08-30T21:18:24.661167Z",
     "start_time": "2020-08-30T21:08:49.544232Z"
    },
    "execution": {
     "iopub.execute_input": "2022-08-10T06:41:24.481106Z",
     "iopub.status.busy": "2022-08-10T06:41:24.480456Z",
     "iopub.status.idle": "2022-08-10T07:02:38.828129Z",
     "shell.execute_reply": "2022-08-10T07:02:38.827347Z"
    },
    "papermill": {
     "duration": 1274.363723,
     "end_time": "2022-08-10T07:02:38.831042",
     "exception": false,
     "start_time": "2022-08-10T06:41:24.467319",
     "status": "completed"
    },
    "tags": []
   },
   "outputs": [],
   "source": [
    "engine_vol = BacktestEngine(\n",
    "    strategy=Strategy.DELTA_ONE.value,\n",
    "    instrument=all_futures_baltas2020.index,\n",
    "    signal=signal.ParallelSignal([\n",
    "        signal.VolatilityScale(volatility_type=RealisedVolatility.YZ.value,\n",
    "                               agg_method='rolling', window=21, min_periods=10,\n",
    "                               target_volatility=0.4, signal_cap=0.95, ann_factor=261),\n",
    "        signal.TSMOMMoskowitz2012(post_process=processing.AsFreq(freq='m', method='pad'))\n",
    "    ], weighting='product'),\n",
    "    weighting=Weighting.EQUAL_WEIGHT.value,\n",
    "    log_level=logging.WARN,\n",
    ")\n",
    "engine_vol.run()"
   ]
  },
  {
   "cell_type": "code",
   "execution_count": 9,
   "id": "2d466ad0",
   "metadata": {
    "execution": {
     "iopub.execute_input": "2022-08-10T07:02:38.858199Z",
     "iopub.status.busy": "2022-08-10T07:02:38.857622Z",
     "iopub.status.idle": "2022-08-10T07:04:03.263050Z",
     "shell.execute_reply": "2022-08-10T07:04:03.262272Z"
    },
    "papermill": {
     "duration": 84.419402,
     "end_time": "2022-08-10T07:04:03.265036",
     "exception": false,
     "start_time": "2022-08-10T07:02:38.845634",
     "status": "completed"
    },
    "tags": []
   },
   "outputs": [],
   "source": [
    "engine_vol_eq = (engine_vol.calculate_equity_curve(calculate_net=False, rebalance_freq='m')\n",
    "                 .rename('Trend-following portfolio (YZ estimator)'))"
   ]
  },
  {
   "cell_type": "code",
   "execution_count": 10,
   "id": "bcf93243",
   "metadata": {
    "execution": {
     "iopub.execute_input": "2022-08-10T07:04:03.288450Z",
     "iopub.status.busy": "2022-08-10T07:04:03.288183Z",
     "iopub.status.idle": "2022-08-10T07:04:03.866184Z",
     "shell.execute_reply": "2022-08-10T07:04:03.865374Z"
    },
    "papermill": {
     "duration": 0.591676,
     "end_time": "2022-08-10T07:04:03.867940",
     "exception": false,
     "start_time": "2022-08-10T07:04:03.276264",
     "status": "completed"
    },
    "tags": []
   },
   "outputs": [
    {
     "data": {
      "image/png": "[encoded data removed]",
      "text/plain": [
       "<Figure size 576x324 with 1 Axes>"
      ]
     },
     "metadata": {
      "needs_background": "light"
     },
     "output_type": "display_data"
    }
   ],
   "source": [
    "fig, ax = plt.subplots(figsize=(8, 4.5))\n",
    "engine_vol_eq.plot(ax=ax, logy=True);\n",
    "ax.set_title('Trend-following portfolio (YZ estimator)')\n",
    "ax.set_ylabel('Cumulative returns');"
   ]
  },
  {
   "cell_type": "code",
   "execution_count": 11,
   "id": "4569ba4d",
   "metadata": {
    "execution": {
     "iopub.execute_input": "2022-08-10T07:04:03.891548Z",
     "iopub.status.busy": "2022-08-10T07:04:03.891124Z",
     "iopub.status.idle": "2022-08-10T07:04:03.983355Z",
     "shell.execute_reply": "2022-08-10T07:04:03.982642Z"
    },
    "papermill": {
     "duration": 0.105905,
     "end_time": "2022-08-10T07:04:03.985034",
     "exception": false,
     "start_time": "2022-08-10T07:04:03.879129",
     "status": "completed"
    },
    "tags": []
   },
   "outputs": [
    {
     "data": {
      "text/html": [
       "<div>\n",
       "<style scoped>\n",
       "    .dataframe tbody tr th:only-of-type {\n",
       "        vertical-align: middle;\n",
       "    }\n",
       "\n",
       "    .dataframe tbody tr th {\n",
       "        vertical-align: top;\n",
       "    }\n",
       "\n",
       "    .dataframe thead th {\n",
       "        text-align: right;\n",
       "    }\n",
       "</style>\n",
       "<table border=\"1\" class=\"dataframe\">\n",
       "  <thead>\n",
       "    <tr style=\"text-align: right;\">\n",
       "      <th></th>\n",
       "      <th>Trend-following portfolio (YZ estimator)</th>\n",
       "    </tr>\n",
       "  </thead>\n",
       "  <tbody>\n",
       "    <tr>\n",
       "      <th>CAGR</th>\n",
       "      <td>0.148825</td>\n",
       "    </tr>\n",
       "    <tr>\n",
       "      <th>Annualised vol</th>\n",
       "      <td>0.127262</td>\n",
       "    </tr>\n",
       "    <tr>\n",
       "      <th>Sharpe ratio</th>\n",
       "      <td>1.169441</td>\n",
       "    </tr>\n",
       "    <tr>\n",
       "      <th>Max drawdown</th>\n",
       "      <td>0.305877</td>\n",
       "    </tr>\n",
       "    <tr>\n",
       "      <th>Calmar ratio</th>\n",
       "      <td>0.486552</td>\n",
       "    </tr>\n",
       "    <tr>\n",
       "      <th>Skewness</th>\n",
       "      <td>0.280568</td>\n",
       "    </tr>\n",
       "    <tr>\n",
       "      <th>Kurtosis</th>\n",
       "      <td>22.135549</td>\n",
       "    </tr>\n",
       "    <tr>\n",
       "      <th>Worst return</th>\n",
       "      <td>-0.137043</td>\n",
       "    </tr>\n",
       "    <tr>\n",
       "      <th>Worst 1d return</th>\n",
       "      <td>-0.137043</td>\n",
       "    </tr>\n",
       "    <tr>\n",
       "      <th>Worst 1w return</th>\n",
       "      <td>-0.098542</td>\n",
       "    </tr>\n",
       "    <tr>\n",
       "      <th>Worst 1m return</th>\n",
       "      <td>-0.169177</td>\n",
       "    </tr>\n",
       "  </tbody>\n",
       "</table>\n",
       "</div>"
      ],
      "text/plain": [
       "                 Trend-following portfolio (YZ estimator)\n",
       "CAGR                                             0.148825\n",
       "Annualised vol                                   0.127262\n",
       "Sharpe ratio                                     1.169441\n",
       "Max drawdown                                     0.305877\n",
       "Calmar ratio                                     0.486552\n",
       "Skewness                                         0.280568\n",
       "Kurtosis                                        22.135549\n",
       "Worst return                                    -0.137043\n",
       "Worst 1d return                                 -0.137043\n",
       "Worst 1w return                                 -0.098542\n",
       "Worst 1m return                                 -0.169177"
      ]
     },
     "execution_count": 11,
     "metadata": {},
     "output_type": "execute_result"
    }
   ],
   "source": [
    "engine_vol_eq.pipe(Performance).summary()"
   ]
  },
  {
   "cell_type": "markdown",
   "id": "e1f71b7b",
   "metadata": {
    "papermill": {
     "duration": 0.012291,
     "end_time": "2022-08-10T07:04:04.009543",
     "exception": false,
     "start_time": "2022-08-10T07:04:03.997252",
     "status": "completed"
    },
    "tags": []
   },
   "source": [
    "## TREND signal\n",
    "\n",
    "Another improvement BK2020 proposes is to use a continuous signal rather than a binary one in order to reduce the turnover when signals are weak. Specifically they used the t-values with the Newey-West standard error as the signal. They further capped and floored the signal between -1 and +1 to avoid extreme positions.\n",
    "\n",
    "`statsmodels`'s `OLS` class provides a method to compute the Newey-West standard error. https://www.statsmodels.org/stable/generated/statsmodels.regression.linear_model.OLS.html"
   ]
  },
  {
   "cell_type": "code",
   "execution_count": 12,
   "id": "179e1081",
   "metadata": {
    "execution": {
     "iopub.execute_input": "2022-08-10T07:04:04.033248Z",
     "iopub.status.busy": "2022-08-10T07:04:04.032960Z",
     "iopub.status.idle": "2022-08-10T07:21:54.608568Z",
     "shell.execute_reply": "2022-08-10T07:21:54.607717Z"
    },
    "papermill": {
     "duration": 1070.590265,
     "end_time": "2022-08-10T07:21:54.610947",
     "exception": false,
     "start_time": "2022-08-10T07:04:04.020682",
     "status": "completed"
    },
    "tags": []
   },
   "outputs": [],
   "source": [
    "engine_trend = BacktestEngine(\n",
    "    strategy=Strategy.DELTA_ONE.value,\n",
    "    instrument=all_futures_baltas2020.index,\n",
    "    signal=signal.ParallelSignal([\n",
    "        signal.VolatilityScale(agg_method='rolling', window=21, ann_factor=261, \n",
    "                               target_volatility=0.4, signal_cap=0.95),\n",
    "        signal.TSMOMBaltas2020()\n",
    "    ], weighting='product'),\n",
    "    weighting=Weighting.EQUAL_WEIGHT.value,\n",
    "    log_level=logging.WARN,\n",
    ")\n",
    "engine_trend.run()"
   ]
  },
  {
   "cell_type": "code",
   "execution_count": 13,
   "id": "03454baa",
   "metadata": {
    "execution": {
     "iopub.execute_input": "2022-08-10T07:21:54.644236Z",
     "iopub.status.busy": "2022-08-10T07:21:54.643892Z",
     "iopub.status.idle": "2022-08-10T07:23:25.140969Z",
     "shell.execute_reply": "2022-08-10T07:23:25.140147Z"
    },
    "papermill": {
     "duration": 90.516014,
     "end_time": "2022-08-10T07:23:25.142979",
     "exception": false,
     "start_time": "2022-08-10T07:21:54.626965",
     "status": "completed"
    },
    "tags": []
   },
   "outputs": [],
   "source": [
    "engine_trend_eq = (engine_trend.calculate_equity_curve(calculate_net=False, rebalance_freq='m')\n",
    "                   .rename('Trend-following portfolio (TREND signal)'))"
   ]
  },
  {
   "cell_type": "code",
   "execution_count": 14,
   "id": "560e7700",
   "metadata": {
    "execution": {
     "iopub.execute_input": "2022-08-10T07:23:25.167432Z",
     "iopub.status.busy": "2022-08-10T07:23:25.167157Z",
     "iopub.status.idle": "2022-08-10T07:23:25.832845Z",
     "shell.execute_reply": "2022-08-10T07:23:25.832049Z"
    },
    "papermill": {
     "duration": 0.680132,
     "end_time": "2022-08-10T07:23:25.834613",
     "exception": false,
     "start_time": "2022-08-10T07:23:25.154481",
     "status": "completed"
    },
    "tags": []
   },
   "outputs": [
    {
     "data": {
      "image/png": "[encoded data removed]",
      "text/plain": [
       "<Figure size 576x324 with 1 Axes>"
      ]
     },
     "metadata": {
      "needs_background": "light"
     },
     "output_type": "display_data"
    }
   ],
   "source": [
    "fig, ax = plt.subplots(figsize=(8, 4.5))\n",
    "engine_trend_eq.plot(ax=ax, logy=True);\n",
    "ax.set_title('Trend-following portfolio (TREND signal)')\n",
    "ax.set_ylabel('Cumulative returns');"
   ]
  },
  {
   "cell_type": "code",
   "execution_count": 15,
   "id": "815dafe7",
   "metadata": {
    "execution": {
     "iopub.execute_input": "2022-08-10T07:23:25.861203Z",
     "iopub.status.busy": "2022-08-10T07:23:25.860732Z",
     "iopub.status.idle": "2022-08-10T07:23:25.995381Z",
     "shell.execute_reply": "2022-08-10T07:23:25.994119Z"
    },
    "papermill": {
     "duration": 0.150476,
     "end_time": "2022-08-10T07:23:25.997409",
     "exception": false,
     "start_time": "2022-08-10T07:23:25.846933",
     "status": "completed"
    },
    "tags": []
   },
   "outputs": [
    {
     "data": {
      "text/html": [
       "<div>\n",
       "<style scoped>\n",
       "    .dataframe tbody tr th:only-of-type {\n",
       "        vertical-align: middle;\n",
       "    }\n",
       "\n",
       "    .dataframe tbody tr th {\n",
       "        vertical-align: top;\n",
       "    }\n",
       "\n",
       "    .dataframe thead th {\n",
       "        text-align: right;\n",
       "    }\n",
       "</style>\n",
       "<table border=\"1\" class=\"dataframe\">\n",
       "  <thead>\n",
       "    <tr style=\"text-align: right;\">\n",
       "      <th></th>\n",
       "      <th>Trend-following portfolio (TREND signal)</th>\n",
       "    </tr>\n",
       "  </thead>\n",
       "  <tbody>\n",
       "    <tr>\n",
       "      <th>CAGR</th>\n",
       "      <td>0.139265</td>\n",
       "    </tr>\n",
       "    <tr>\n",
       "      <th>Annualised vol</th>\n",
       "      <td>0.107936</td>\n",
       "    </tr>\n",
       "    <tr>\n",
       "      <th>Sharpe ratio</th>\n",
       "      <td>1.290257</td>\n",
       "    </tr>\n",
       "    <tr>\n",
       "      <th>Max drawdown</th>\n",
       "      <td>0.294584</td>\n",
       "    </tr>\n",
       "    <tr>\n",
       "      <th>Calmar ratio</th>\n",
       "      <td>0.472752</td>\n",
       "    </tr>\n",
       "    <tr>\n",
       "      <th>Skewness</th>\n",
       "      <td>0.159290</td>\n",
       "    </tr>\n",
       "    <tr>\n",
       "      <th>Kurtosis</th>\n",
       "      <td>28.017885</td>\n",
       "    </tr>\n",
       "    <tr>\n",
       "      <th>Worst return</th>\n",
       "      <td>-0.121269</td>\n",
       "    </tr>\n",
       "    <tr>\n",
       "      <th>Worst 1d return</th>\n",
       "      <td>-0.121269</td>\n",
       "    </tr>\n",
       "    <tr>\n",
       "      <th>Worst 1w return</th>\n",
       "      <td>-0.110077</td>\n",
       "    </tr>\n",
       "    <tr>\n",
       "      <th>Worst 1m return</th>\n",
       "      <td>-0.171789</td>\n",
       "    </tr>\n",
       "  </tbody>\n",
       "</table>\n",
       "</div>"
      ],
      "text/plain": [
       "                 Trend-following portfolio (TREND signal)\n",
       "CAGR                                             0.139265\n",
       "Annualised vol                                   0.107936\n",
       "Sharpe ratio                                     1.290257\n",
       "Max drawdown                                     0.294584\n",
       "Calmar ratio                                     0.472752\n",
       "Skewness                                         0.159290\n",
       "Kurtosis                                        28.017885\n",
       "Worst return                                    -0.121269\n",
       "Worst 1d return                                 -0.121269\n",
       "Worst 1w return                                 -0.110077\n",
       "Worst 1m return                                 -0.171789"
      ]
     },
     "execution_count": 15,
     "metadata": {},
     "output_type": "execute_result"
    }
   ],
   "source": [
    "engine_trend_eq.pipe(Performance).summary()"
   ]
  },
  {
   "cell_type": "markdown",
   "id": "8db65bff",
   "metadata": {
    "papermill": {
     "duration": 0.012326,
     "end_time": "2022-08-10T07:23:26.021815",
     "exception": false,
     "start_time": "2022-08-10T07:23:26.009489",
     "status": "completed"
    },
    "tags": []
   },
   "source": [
    "## Combined\n",
    "\n",
    "Finally we run a backtest by using both the Yang-Zhang volatility estimator and the TREND signal."
   ]
  },
  {
   "cell_type": "code",
   "execution_count": 16,
   "id": "89359d08",
   "metadata": {
    "execution": {
     "iopub.execute_input": "2022-08-10T07:23:26.048243Z",
     "iopub.status.busy": "2022-08-10T07:23:26.047894Z",
     "iopub.status.idle": "2022-08-10T07:50:42.088063Z",
     "shell.execute_reply": "2022-08-10T07:50:42.087302Z"
    },
    "papermill": {
     "duration": 1636.055577,
     "end_time": "2022-08-10T07:50:42.089924",
     "exception": false,
     "start_time": "2022-08-10T07:23:26.034347",
     "status": "completed"
    },
    "tags": []
   },
   "outputs": [],
   "source": [
    "engine_combined = BacktestEngine(\n",
    "    strategy=Strategy.DELTA_ONE.value,\n",
    "    instrument=all_futures_baltas2020.index,\n",
    "    signal=signal.ParallelSignal([\n",
    "        signal.VolatilityScale(volatility_type=RealisedVolatility.YZ.value,\n",
    "                               agg_method='rolling', window=21, min_periods=10,\n",
    "                               target_volatility=0.4, signal_cap=0.95, ann_factor=261),\n",
    "        signal.TSMOMBaltas2020()\n",
    "    ], weighting='product'),\n",
    "    weighting=Weighting.EQUAL_WEIGHT.value,\n",
    "    log_level=logging.WARN,\n",
    ")\n",
    "engine_combined.run()"
   ]
  },
  {
   "cell_type": "code",
   "execution_count": 17,
   "id": "47033244",
   "metadata": {
    "execution": {
     "iopub.execute_input": "2022-08-10T07:50:42.114173Z",
     "iopub.status.busy": "2022-08-10T07:50:42.113915Z",
     "iopub.status.idle": "2022-08-10T07:52:02.364646Z",
     "shell.execute_reply": "2022-08-10T07:52:02.363871Z"
    },
    "papermill": {
     "duration": 80.264933,
     "end_time": "2022-08-10T07:52:02.366492",
     "exception": false,
     "start_time": "2022-08-10T07:50:42.101559",
     "status": "completed"
    },
    "tags": []
   },
   "outputs": [],
   "source": [
    "engine_combined_eq = (engine_combined.calculate_equity_curve(calculate_net=False, rebalance_freq='m')\n",
    "                      .rename('Trend-following portfolio (YZ estimator + TREND signal)'))"
   ]
  },
  {
   "cell_type": "code",
   "execution_count": 18,
   "id": "b396e627",
   "metadata": {
    "execution": {
     "iopub.execute_input": "2022-08-10T07:52:02.390974Z",
     "iopub.status.busy": "2022-08-10T07:52:02.390705Z",
     "iopub.status.idle": "2022-08-10T07:52:02.974780Z",
     "shell.execute_reply": "2022-08-10T07:52:02.973951Z"
    },
    "papermill": {
     "duration": 0.598298,
     "end_time": "2022-08-10T07:52:02.976557",
     "exception": false,
     "start_time": "2022-08-10T07:52:02.378259",
     "status": "completed"
    },
    "tags": []
   },
   "outputs": [
    {
     "data": {
      "image/png": "[encoded data removed]",
      "text/plain": [
       "<Figure size 576x324 with 1 Axes>"
      ]
     },
     "metadata": {
      "needs_background": "light"
     },
     "output_type": "display_data"
    }
   ],
   "source": [
    "fig, ax = plt.subplots(figsize=(8, 4.5))\n",
    "engine_combined_eq.plot(ax=ax, logy=True)\n",
    "ax.set_title('Trend-following portfolio (YZ estimator + TREND signal)')\n",
    "ax.set_ylabel('Cumulative returns');"
   ]
  },
  {
   "cell_type": "code",
   "execution_count": 19,
   "id": "42d9b676",
   "metadata": {
    "execution": {
     "iopub.execute_input": "2022-08-10T07:52:03.045692Z",
     "iopub.status.busy": "2022-08-10T07:52:03.045410Z",
     "iopub.status.idle": "2022-08-10T07:52:03.125186Z",
     "shell.execute_reply": "2022-08-10T07:52:03.124506Z"
    },
    "papermill": {
     "duration": 0.138346,
     "end_time": "2022-08-10T07:52:03.126909",
     "exception": false,
     "start_time": "2022-08-10T07:52:02.988563",
     "status": "completed"
    },
    "tags": []
   },
   "outputs": [
    {
     "data": {
      "text/html": [
       "<div>\n",
       "<style scoped>\n",
       "    .dataframe tbody tr th:only-of-type {\n",
       "        vertical-align: middle;\n",
       "    }\n",
       "\n",
       "    .dataframe tbody tr th {\n",
       "        vertical-align: top;\n",
       "    }\n",
       "\n",
       "    .dataframe thead th {\n",
       "        text-align: right;\n",
       "    }\n",
       "</style>\n",
       "<table border=\"1\" class=\"dataframe\">\n",
       "  <thead>\n",
       "    <tr style=\"text-align: right;\">\n",
       "      <th></th>\n",
       "      <th>Trend-following portfolio (YZ estimator + TREND signal)</th>\n",
       "    </tr>\n",
       "  </thead>\n",
       "  <tbody>\n",
       "    <tr>\n",
       "      <th>CAGR</th>\n",
       "      <td>0.139710</td>\n",
       "    </tr>\n",
       "    <tr>\n",
       "      <th>Annualised vol</th>\n",
       "      <td>0.110671</td>\n",
       "    </tr>\n",
       "    <tr>\n",
       "      <th>Sharpe ratio</th>\n",
       "      <td>1.262389</td>\n",
       "    </tr>\n",
       "    <tr>\n",
       "      <th>Max drawdown</th>\n",
       "      <td>0.313945</td>\n",
       "    </tr>\n",
       "    <tr>\n",
       "      <th>Calmar ratio</th>\n",
       "      <td>0.445013</td>\n",
       "    </tr>\n",
       "    <tr>\n",
       "      <th>Skewness</th>\n",
       "      <td>0.292873</td>\n",
       "    </tr>\n",
       "    <tr>\n",
       "      <th>Kurtosis</th>\n",
       "      <td>32.540415</td>\n",
       "    </tr>\n",
       "    <tr>\n",
       "      <th>Worst return</th>\n",
       "      <td>-0.130152</td>\n",
       "    </tr>\n",
       "    <tr>\n",
       "      <th>Worst 1d return</th>\n",
       "      <td>-0.130152</td>\n",
       "    </tr>\n",
       "    <tr>\n",
       "      <th>Worst 1w return</th>\n",
       "      <td>-0.112097</td>\n",
       "    </tr>\n",
       "    <tr>\n",
       "      <th>Worst 1m return</th>\n",
       "      <td>-0.186272</td>\n",
       "    </tr>\n",
       "  </tbody>\n",
       "</table>\n",
       "</div>"
      ],
      "text/plain": [
       "                 Trend-following portfolio (YZ estimator + TREND signal)\n",
       "CAGR                                                      0.139710      \n",
       "Annualised vol                                            0.110671      \n",
       "Sharpe ratio                                              1.262389      \n",
       "Max drawdown                                              0.313945      \n",
       "Calmar ratio                                              0.445013      \n",
       "Skewness                                                  0.292873      \n",
       "Kurtosis                                                 32.540415      \n",
       "Worst return                                             -0.130152      \n",
       "Worst 1d return                                          -0.130152      \n",
       "Worst 1w return                                          -0.112097      \n",
       "Worst 1m return                                          -0.186272      "
      ]
     },
     "execution_count": 19,
     "metadata": {},
     "output_type": "execute_result"
    }
   ],
   "source": [
    "engine_combined_eq.pipe(Performance).summary()"
   ]
  },
  {
   "cell_type": "markdown",
   "id": "e7c5a922",
   "metadata": {
    "papermill": {
     "duration": 0.011806,
     "end_time": "2022-08-10T07:52:03.150940",
     "exception": false,
     "start_time": "2022-08-10T07:52:03.139134",
     "status": "completed"
    },
    "tags": []
   },
   "source": [
    "# Comparison\n",
    "\n",
    "In this section we compare the above 4 backtests."
   ]
  },
  {
   "cell_type": "markdown",
   "id": "c30b3b9b",
   "metadata": {
    "papermill": {
     "duration": 0.012073,
     "end_time": "2022-08-10T07:52:03.175318",
     "exception": false,
     "start_time": "2022-08-10T07:52:03.163245",
     "status": "completed"
    },
    "tags": []
   },
   "source": [
    "## Performance\n",
    "\n",
    "As reported in BK2020, using the YZ estimator and TREND signal does not alter the performance characteristics. Rather, the TREND signal somewhat improves the Sharpe ratio. Also the TREND signal lowers the annualised volatility from 12.5% to 10.8% with the close-to-close realised volatility."
   ]
  },
  {
   "cell_type": "code",
   "execution_count": 20,
   "id": "613d4d70",
   "metadata": {
    "execution": {
     "iopub.execute_input": "2022-08-10T07:52:03.200477Z",
     "iopub.status.busy": "2022-08-10T07:52:03.200207Z",
     "iopub.status.idle": "2022-08-10T07:52:03.212785Z",
     "shell.execute_reply": "2022-08-10T07:52:03.212105Z"
    },
    "papermill": {
     "duration": 0.0274,
     "end_time": "2022-08-10T07:52:03.214578",
     "exception": false,
     "start_time": "2022-08-10T07:52:03.187178",
     "status": "completed"
    },
    "tags": []
   },
   "outputs": [],
   "source": [
    "performance_comp = pd.concat((engine_original_eq, engine_vol_eq, \n",
    "                              engine_trend_eq, engine_combined_eq), axis=1)"
   ]
  },
  {
   "cell_type": "code",
   "execution_count": 21,
   "id": "52ea1509",
   "metadata": {
    "execution": {
     "iopub.execute_input": "2022-08-10T07:52:03.242366Z",
     "iopub.status.busy": "2022-08-10T07:52:03.242047Z",
     "iopub.status.idle": "2022-08-10T07:52:04.030282Z",
     "shell.execute_reply": "2022-08-10T07:52:04.029536Z"
    },
    "papermill": {
     "duration": 0.804846,
     "end_time": "2022-08-10T07:52:04.032141",
     "exception": false,
     "start_time": "2022-08-10T07:52:03.227295",
     "status": "completed"
    },
    "tags": []
   },
   "outputs": [
    {
     "data": {
      "image/png": "[encoded data removed]",
      "text/plain": [
       "<Figure size 576x324 with 1 Axes>"
      ]
     },
     "metadata": {
      "needs_background": "light"
     },
     "output_type": "display_data"
    }
   ],
   "source": [
    "fig, ax = plt.subplots(figsize=(8, 4.5))\n",
    "performance_comp.plot(ax=ax, logy=True);\n",
    "ax.set_title('Trend-following portfolio')\n",
    "ax.set_ylabel('Cumulative returns');"
   ]
  },
  {
   "cell_type": "code",
   "execution_count": 22,
   "id": "9329ea68",
   "metadata": {
    "execution": {
     "iopub.execute_input": "2022-08-10T07:52:04.059181Z",
     "iopub.status.busy": "2022-08-10T07:52:04.058636Z",
     "iopub.status.idle": "2022-08-10T07:52:04.163048Z",
     "shell.execute_reply": "2022-08-10T07:52:04.162341Z"
    },
    "papermill": {
     "duration": 0.120115,
     "end_time": "2022-08-10T07:52:04.165034",
     "exception": false,
     "start_time": "2022-08-10T07:52:04.044919",
     "status": "completed"
    },
    "tags": []
   },
   "outputs": [
    {
     "data": {
      "text/html": [
       "<div>\n",
       "<style scoped>\n",
       "    .dataframe tbody tr th:only-of-type {\n",
       "        vertical-align: middle;\n",
       "    }\n",
       "\n",
       "    .dataframe tbody tr th {\n",
       "        vertical-align: top;\n",
       "    }\n",
       "\n",
       "    .dataframe thead th {\n",
       "        text-align: right;\n",
       "    }\n",
       "</style>\n",
       "<table border=\"1\" class=\"dataframe\">\n",
       "  <thead>\n",
       "    <tr style=\"text-align: right;\">\n",
       "      <th></th>\n",
       "      <th>Trend-following portfolio (Moskowitz 2012)</th>\n",
       "      <th>Trend-following portfolio (YZ estimator)</th>\n",
       "      <th>Trend-following portfolio (TREND signal)</th>\n",
       "      <th>Trend-following portfolio (YZ estimator + TREND signal)</th>\n",
       "    </tr>\n",
       "  </thead>\n",
       "  <tbody>\n",
       "    <tr>\n",
       "      <th>CAGR</th>\n",
       "      <td>0.147181</td>\n",
       "      <td>0.148459</td>\n",
       "      <td>0.139265</td>\n",
       "      <td>0.139366</td>\n",
       "    </tr>\n",
       "    <tr>\n",
       "      <th>Annualised vol</th>\n",
       "      <td>0.124972</td>\n",
       "      <td>0.127106</td>\n",
       "      <td>0.107936</td>\n",
       "      <td>0.110536</td>\n",
       "    </tr>\n",
       "    <tr>\n",
       "      <th>Sharpe ratio</th>\n",
       "      <td>1.177707</td>\n",
       "      <td>1.167993</td>\n",
       "      <td>1.290257</td>\n",
       "      <td>1.260825</td>\n",
       "    </tr>\n",
       "    <tr>\n",
       "      <th>Max drawdown</th>\n",
       "      <td>0.259239</td>\n",
       "      <td>0.305877</td>\n",
       "      <td>0.294584</td>\n",
       "      <td>0.313945</td>\n",
       "    </tr>\n",
       "    <tr>\n",
       "      <th>Calmar ratio</th>\n",
       "      <td>0.567741</td>\n",
       "      <td>0.485356</td>\n",
       "      <td>0.472752</td>\n",
       "      <td>0.443919</td>\n",
       "    </tr>\n",
       "    <tr>\n",
       "      <th>Skewness</th>\n",
       "      <td>0.073285</td>\n",
       "      <td>0.281480</td>\n",
       "      <td>0.159290</td>\n",
       "      <td>0.293838</td>\n",
       "    </tr>\n",
       "    <tr>\n",
       "      <th>Kurtosis</th>\n",
       "      <td>19.352297</td>\n",
       "      <td>22.196941</td>\n",
       "      <td>28.017885</td>\n",
       "      <td>32.627005</td>\n",
       "    </tr>\n",
       "    <tr>\n",
       "      <th>Worst return</th>\n",
       "      <td>-0.126276</td>\n",
       "      <td>-0.137043</td>\n",
       "      <td>-0.121269</td>\n",
       "      <td>-0.130152</td>\n",
       "    </tr>\n",
       "    <tr>\n",
       "      <th>Worst 1d return</th>\n",
       "      <td>-0.126276</td>\n",
       "      <td>-0.137043</td>\n",
       "      <td>-0.121269</td>\n",
       "      <td>-0.130152</td>\n",
       "    </tr>\n",
       "    <tr>\n",
       "      <th>Worst 1w return</th>\n",
       "      <td>-0.107725</td>\n",
       "      <td>-0.098542</td>\n",
       "      <td>-0.110077</td>\n",
       "      <td>-0.112097</td>\n",
       "    </tr>\n",
       "    <tr>\n",
       "      <th>Worst 1m return</th>\n",
       "      <td>-0.152667</td>\n",
       "      <td>-0.169177</td>\n",
       "      <td>-0.171789</td>\n",
       "      <td>-0.186272</td>\n",
       "    </tr>\n",
       "  </tbody>\n",
       "</table>\n",
       "</div>"
      ],
      "text/plain": [
       "                 Trend-following portfolio (Moskowitz 2012)  \\\n",
       "CAGR                                               0.147181   \n",
       "Annualised vol                                     0.124972   \n",
       "Sharpe ratio                                       1.177707   \n",
       "Max drawdown                                       0.259239   \n",
       "Calmar ratio                                       0.567741   \n",
       "Skewness                                           0.073285   \n",
       "Kurtosis                                          19.352297   \n",
       "Worst return                                      -0.126276   \n",
       "Worst 1d return                                   -0.126276   \n",
       "Worst 1w return                                   -0.107725   \n",
       "Worst 1m return                                   -0.152667   \n",
       "\n",
       "                 Trend-following portfolio (YZ estimator)  \\\n",
       "CAGR                                             0.148459   \n",
       "Annualised vol                                   0.127106   \n",
       "Sharpe ratio                                     1.167993   \n",
       "Max drawdown                                     0.305877   \n",
       "Calmar ratio                                     0.485356   \n",
       "Skewness                                         0.281480   \n",
       "Kurtosis                                        22.196941   \n",
       "Worst return                                    -0.137043   \n",
       "Worst 1d return                                 -0.137043   \n",
       "Worst 1w return                                 -0.098542   \n",
       "Worst 1m return                                 -0.169177   \n",
       "\n",
       "                 Trend-following portfolio (TREND signal)  \\\n",
       "CAGR                                             0.139265   \n",
       "Annualised vol                                   0.107936   \n",
       "Sharpe ratio                                     1.290257   \n",
       "Max drawdown                                     0.294584   \n",
       "Calmar ratio                                     0.472752   \n",
       "Skewness                                         0.159290   \n",
       "Kurtosis                                        28.017885   \n",
       "Worst return                                    -0.121269   \n",
       "Worst 1d return                                 -0.121269   \n",
       "Worst 1w return                                 -0.110077   \n",
       "Worst 1m return                                 -0.171789   \n",
       "\n",
       "                 Trend-following portfolio (YZ estimator + TREND signal)  \n",
       "CAGR                                                      0.139366        \n",
       "Annualised vol                                            0.110536        \n",
       "Sharpe ratio                                              1.260825        \n",
       "Max drawdown                                              0.313945        \n",
       "Calmar ratio                                              0.443919        \n",
       "Skewness                                                  0.293838        \n",
       "Kurtosis                                                 32.627005        \n",
       "Worst return                                             -0.130152        \n",
       "Worst 1d return                                          -0.130152        \n",
       "Worst 1w return                                          -0.112097        \n",
       "Worst 1m return                                          -0.186272        "
      ]
     },
     "execution_count": 22,
     "metadata": {},
     "output_type": "execute_result"
    }
   ],
   "source": [
    "performance_comp.pipe(Performance).summary()"
   ]
  },
  {
   "cell_type": "markdown",
   "id": "afe4e456",
   "metadata": {
    "papermill": {
     "duration": 0.017998,
     "end_time": "2022-08-10T07:52:04.201060",
     "exception": false,
     "start_time": "2022-08-10T07:52:04.183062",
     "status": "completed"
    },
    "tags": []
   },
   "source": [
    "## Turnover reduction\n",
    "\n",
    "Again, as reported in BK2020, both enhancements reduce the turnover significantly while not affecting the performance. The chart below shows the reduction in turnover for each futures contract. By utilising the YZ realised volatility and the TREND signal, overall the turnover is reduced by more than 30%."
   ]
  },
  {
   "cell_type": "code",
   "execution_count": 23,
   "id": "9da8c36e",
   "metadata": {
    "execution": {
     "iopub.execute_input": "2022-08-10T07:52:04.232716Z",
     "iopub.status.busy": "2022-08-10T07:52:04.232142Z",
     "iopub.status.idle": "2022-08-10T07:57:10.774063Z",
     "shell.execute_reply": "2022-08-10T07:57:10.773246Z"
    },
    "papermill": {
     "duration": 306.557784,
     "end_time": "2022-08-10T07:57:10.775881",
     "exception": false,
     "start_time": "2022-08-10T07:52:04.218097",
     "status": "completed"
    },
    "tags": []
   },
   "outputs": [],
   "source": [
    "engine_original_pos = engine_original.get_position_by_instrument()\n",
    "engine_vol_pos = engine_vol.get_position_by_instrument()\n",
    "engine_trend_pos = engine_trend.get_position_by_instrument()\n",
    "engine_combined_pos = engine_combined.get_position_by_instrument()"
   ]
  },
  {
   "cell_type": "code",
   "execution_count": 24,
   "id": "1d981499",
   "metadata": {
    "execution": {
     "iopub.execute_input": "2022-08-10T07:57:10.804891Z",
     "iopub.status.busy": "2022-08-10T07:57:10.804325Z",
     "iopub.status.idle": "2022-08-10T07:57:10.842944Z",
     "shell.execute_reply": "2022-08-10T07:57:10.842249Z"
    },
    "papermill": {
     "duration": 0.055431,
     "end_time": "2022-08-10T07:57:10.844828",
     "exception": false,
     "start_time": "2022-08-10T07:57:10.789397",
     "status": "completed"
    },
    "tags": []
   },
   "outputs": [],
   "source": [
    "engine_original_turnover = (engine_original_pos.diff().abs().mean().mul(261)\n",
    "                            .rename('Trend-following portfolio (Moskowitz 2012)'))\n",
    "engine_vol_turnover = (engine_vol_pos.diff().abs().mean().mul(261)\n",
    "                       .rename('Trend-following portfolio (YZ estimator)'))\n",
    "engine_trend_turnover = (engine_trend_pos.diff().abs().mean().mul(261)\n",
    "                         .rename('Trend-following portfolio (TREND signal)'))\n",
    "engine_combined_turnover = (engine_combined_pos.diff().abs().mean().mul(261)\n",
    "                            .rename('Trend-following portfolio (YZ estimator + TREND signal)'))"
   ]
  },
  {
   "cell_type": "code",
   "execution_count": 25,
   "id": "e50d6553",
   "metadata": {
    "execution": {
     "iopub.execute_input": "2022-08-10T07:57:10.872848Z",
     "iopub.status.busy": "2022-08-10T07:57:10.872279Z",
     "iopub.status.idle": "2022-08-10T07:57:10.879581Z",
     "shell.execute_reply": "2022-08-10T07:57:10.878841Z"
    },
    "papermill": {
     "duration": 0.023284,
     "end_time": "2022-08-10T07:57:10.881514",
     "exception": false,
     "start_time": "2022-08-10T07:57:10.858230",
     "status": "completed"
    },
    "tags": []
   },
   "outputs": [],
   "source": [
    "turnover_reduction = (\n",
    "    pd.concat((engine_vol_turnover, engine_trend_turnover, engine_combined_turnover), axis=1)\n",
    "    .div(engine_original_turnover, axis=0)\n",
    "    .sub(1)\n",
    "    .reindex(index=all_futures_baltas2020.index)\n",
    "    .rename(index=all_futures_baltas2020['name'])\n",
    ")"
   ]
  },
  {
   "cell_type": "code",
   "execution_count": 26,
   "id": "fad3aa9d",
   "metadata": {
    "execution": {
     "iopub.execute_input": "2022-08-10T07:57:10.908328Z",
     "iopub.status.busy": "2022-08-10T07:57:10.908039Z",
     "iopub.status.idle": "2022-08-10T07:57:10.915309Z",
     "shell.execute_reply": "2022-08-10T07:57:10.914648Z"
    },
    "papermill": {
     "duration": 0.022659,
     "end_time": "2022-08-10T07:57:10.916945",
     "exception": false,
     "start_time": "2022-08-10T07:57:10.894286",
     "status": "completed"
    },
    "tags": []
   },
   "outputs": [
    {
     "data": {
      "text/plain": [
       "Trend-following portfolio (YZ estimator)                  -0.181246\n",
       "Trend-following portfolio (TREND signal)                  -0.207235\n",
       "Trend-following portfolio (YZ estimator + TREND signal)   -0.330663\n",
       "dtype: float64"
      ]
     },
     "execution_count": 26,
     "metadata": {},
     "output_type": "execute_result"
    }
   ],
   "source": [
    "turnover_reduction.mean()"
   ]
  },
  {
   "cell_type": "code",
   "execution_count": 27,
   "id": "8a35e6af",
   "metadata": {
    "execution": {
     "iopub.execute_input": "2022-08-10T07:57:10.943985Z",
     "iopub.status.busy": "2022-08-10T07:57:10.943717Z",
     "iopub.status.idle": "2022-08-10T07:57:12.642422Z",
     "shell.execute_reply": "2022-08-10T07:57:12.641598Z"
    },
    "papermill": {
     "duration": 1.714323,
     "end_time": "2022-08-10T07:57:12.644138",
     "exception": false,
     "start_time": "2022-08-10T07:57:10.929815",
     "status": "completed"
    },
    "tags": []
   },
   "outputs": [
    {
     "data": {
      "image/png": "[encoded data removed]",
      "text/plain": [
       "<Figure size 1008x288 with 1 Axes>"
      ]
     },
     "metadata": {
      "needs_background": "light"
     },
     "output_type": "display_data"
    }
   ],
   "source": [
    "ax = turnover_reduction.plot(kind='bar', figsize=(14, 4))\n",
    "ax.yaxis.set_major_formatter(mticker.PercentFormatter(1))\n",
    "ax.axhline(0, color='black', lw=1)\n",
    "ax.axvline(24.5, color='black', lw=1)\n",
    "ax.axvline(30.5, color='black', lw=1)\n",
    "ax.axvline(42.5, color='black', lw=1)\n",
    "ax.set_xlabel('Contract')\n",
    "ax.set_ylabel('Turnover reduction');"
   ]
  },
  {
   "cell_type": "markdown",
   "id": "e36f49de",
   "metadata": {
    "papermill": {
     "duration": 0.015611,
     "end_time": "2022-08-10T07:57:12.675287",
     "exception": false,
     "start_time": "2022-08-10T07:57:12.659676",
     "status": "completed"
    },
    "tags": []
   },
   "source": [
    "# Recent performance"
   ]
  },
  {
   "cell_type": "code",
   "execution_count": 28,
   "id": "b98ee07d",
   "metadata": {
    "execution": {
     "iopub.execute_input": "2022-08-10T07:57:12.708311Z",
     "iopub.status.busy": "2022-08-10T07:57:12.708023Z",
     "iopub.status.idle": "2022-08-10T07:57:13.206368Z",
     "shell.execute_reply": "2022-08-10T07:57:13.205400Z"
    },
    "papermill": {
     "duration": 0.516925,
     "end_time": "2022-08-10T07:57:13.208232",
     "exception": false,
     "start_time": "2022-08-10T07:57:12.691307",
     "status": "completed"
    },
    "tags": []
   },
   "outputs": [
    {
     "data": {
      "image/png": "[encoded data removed]",
      "text/plain": [
       "<Figure size 576x324 with 1 Axes>"
      ]
     },
     "metadata": {
      "needs_background": "light"
     },
     "output_type": "display_data"
    }
   ],
   "source": [
    "fig, ax = plt.subplots(figsize=(8, 4.5))\n",
    "performance_comp.tail(252 * 2).pct_change().fillna(0).add(1).cumprod().plot(ax=ax, logy=True);\n",
    "ax.set_title('Trend-following portfolio')\n",
    "ax.set_ylabel('Cumulative returns');"
   ]
  },
  {
   "cell_type": "markdown",
   "id": "4f17465a",
   "metadata": {
    "papermill": {
     "duration": 0.014899,
     "end_time": "2022-08-10T07:57:13.237822",
     "exception": false,
     "start_time": "2022-08-10T07:57:13.222923",
     "status": "completed"
    },
    "tags": []
   },
   "source": [
    "# Reference\n",
    "\n",
    "- Baltas, N. and Kosowski, R., 2020. Demystifying time-series momentum strategies: Volatility estimators, trading rules and pairwise correlations. Market Momentum: Theory and Practice\", Wiley.\n",
    "- Moskowitz, T.J., Ooi, Y.H. and Pedersen, L.H., 2012. Time series momentum. Journal of financial economics, 104(2), pp.228-250."
   ]
  },
  {
   "cell_type": "code",
   "execution_count": 29,
   "id": "f43a296f",
   "metadata": {
    "ExecuteTime": {
     "end_time": "2020-08-30T21:20:32.431574Z",
     "start_time": "2020-08-30T21:20:32.429370Z"
    },
    "execution": {
     "iopub.execute_input": "2022-08-10T07:57:13.268136Z",
     "iopub.status.busy": "2022-08-10T07:57:13.267850Z",
     "iopub.status.idle": "2022-08-10T07:57:13.271577Z",
     "shell.execute_reply": "2022-08-10T07:57:13.271008Z"
    },
    "papermill": {
     "duration": 0.021036,
     "end_time": "2022-08-10T07:57:13.273160",
     "exception": false,
     "start_time": "2022-08-10T07:57:13.252124",
     "status": "completed"
    },
    "tags": []
   },
   "outputs": [
    {
     "name": "stdout",
     "output_type": "stream",
     "text": [
      "Updated: 10-Aug-2022 07:57\n"
     ]
    }
   ],
   "source": [
    "print(f'Updated: {datetime.utcnow():%d-%b-%Y %H:%M}')"
   ]
  }
 ],
 "metadata": {
  "hide_input": false,
  "kernelspec": {
   "display_name": "Python 3",
   "language": "python",
   "name": "python3"
  },
  "language_info": {
   "codemirror_mode": {
    "name": "ipython",
    "version": 3
   },
   "file_extension": ".py",
   "mimetype": "text/x-python",
   "name": "python",
   "nbconvert_exporter": "python",
   "pygments_lexer": "ipython3",
   "version": "3.9.6"
  },
  "nav_menu": {},
  "papermill": {
   "duration": 5439.250767,
   "end_time": "2022-08-10T07:57:16.318935",
   "environment_variables": {},
   "exception": null,
   "input_path": "notebooks/papermill/trend_following_baltas2020.ipynb",
   "output_path": "notebooks/trend_following_baltas2020.ipynb",
   "parameters": {},
   "start_time": "2022-08-10T06:26:37.068168",
   "version": "2.1.3"
  },
  "toc": {
   "base_numbering": 1,
   "nav_menu": {},
   "number_sections": true,
   "sideBar": true,
   "skip_h1_title": false,
   "title_cell": "Table of Contents",
   "title_sidebar": "Contents",
   "toc_cell": true,
   "toc_position": {
    "height": "calc(100% - 180px)",
    "left": "10px",
    "top": "150px",
    "width": "165px"
   },
   "toc_section_display": "block",
   "toc_window_display": true
  }
 },
 "nbformat": 4,
 "nbformat_minor": 5
}