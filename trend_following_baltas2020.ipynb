{
 "cells": [
  {
   "cell_type": "markdown",
   "id": "8cb7fffb",
   "metadata": {
    "papermill": {
     "duration": 0.013544,
     "end_time": "2022-08-26T06:26:48.533694",
     "exception": false,
     "start_time": "2022-08-26T06:26:48.520150",
     "status": "completed"
    },
    "tags": []
   },
   "source": [
    "# Trend-following\n",
    "\n",
    "This notebook implements a few improvements that Baltas and Kosowski (2020) (BK2020, hereafter) propose to the time-series momentum strategy which originally appeared in Moskowitz et al (2012).\n",
    "\n",
    "Note that like other notebooks, all backtests are performed by using a private library called `vivace`."
   ]
  },
  {
   "cell_type": "code",
   "execution_count": 1,
   "id": "dbd85fba",
   "metadata": {
    "ExecuteTime": {
     "end_time": "2020-08-30T21:08:49.524262Z",
     "start_time": "2020-08-30T21:08:48.720115Z"
    },
    "execution": {
     "iopub.execute_input": "2022-08-26T06:26:48.559354Z",
     "iopub.status.busy": "2022-08-26T06:26:48.558982Z",
     "iopub.status.idle": "2022-08-26T06:26:53.169595Z",
     "shell.execute_reply": "2022-08-26T06:26:53.168767Z"
    },
    "papermill": {
     "duration": 4.628098,
     "end_time": "2022-08-26T06:26:53.173098",
     "exception": false,
     "start_time": "2022-08-26T06:26:48.545000",
     "status": "completed"
    },
    "tags": []
   },
   "outputs": [],
   "source": [
    "%matplotlib inline\n",
    "from datetime import datetime\n",
    "import logging\n",
    "import warnings\n",
    "warnings.simplefilter(action='ignore', category=FutureWarning)\n",
    "\n",
    "import pandas as pd\n",
    "import matplotlib.pyplot as plt\n",
    "import matplotlib.ticker as mticker\n",
    "plt.style.use('bmh')\n",
    "\n",
    "from vivace.backtest import signal\n",
    "from vivace.backtest import processing\n",
    "from vivace.backtest.contract import all_futures_baltas2020\n",
    "from vivace.backtest.engine import BacktestEngine\n",
    "from vivace.backtest.enums import Strategy, Weighting, RealisedVolatility\n",
    "from vivace.backtest.stats import Performance"
   ]
  },
  {
   "cell_type": "markdown",
   "id": "69c8d5a7",
   "metadata": {
    "papermill": {
     "duration": 0.014832,
     "end_time": "2022-08-26T06:26:53.206434",
     "exception": false,
     "start_time": "2022-08-26T06:26:53.191602",
     "status": "completed"
    },
    "tags": []
   },
   "source": [
    "# Data"
   ]
  },
  {
   "cell_type": "code",
   "execution_count": 2,
   "id": "1325eaf6",
   "metadata": {
    "ExecuteTime": {
     "end_time": "2020-08-30T21:08:49.529214Z",
     "start_time": "2020-08-30T21:08:49.525465Z"
    },
    "execution": {
     "iopub.execute_input": "2022-08-26T06:26:53.238468Z",
     "iopub.status.busy": "2022-08-26T06:26:53.237027Z",
     "iopub.status.idle": "2022-08-26T06:26:53.249207Z",
     "shell.execute_reply": "2022-08-26T06:26:53.248215Z"
    },
    "papermill": {
     "duration": 0.030742,
     "end_time": "2022-08-26T06:26:53.251719",
     "exception": false,
     "start_time": "2022-08-26T06:26:53.220977",
     "status": "completed"
    },
    "tags": []
   },
   "outputs": [
    {
     "data": {
      "text/plain": [
       "array(['WTI Crude Oil', 'Brent Crude Oil', 'Heating Oil', 'Natural Gas',\n",
       "       'Gasoline', 'Copper', 'Gold', 'Palladium', 'Platinum', 'Silver',\n",
       "       'Feeder Cattle', 'Live Cattle', 'Lean Hog', 'Corn', 'Oats',\n",
       "       'Soybean Oil', 'Soybean Meal', 'Soybean', 'Wheat', 'Cocoa',\n",
       "       'Coffee', 'Cotton', 'Lumber', 'Orange Juice', 'Sugar',\n",
       "       'Australian Dollar', 'Canadian Dollar', 'Swiss Franc', 'Euro',\n",
       "       'British Pound', 'Japanese Yen', 'E-Mini Nasdaq 100',\n",
       "       'E-mini S&P 500', 'E-mini Russell 2000', 'FTSE 100', 'DAX',\n",
       "       'CAC 40', 'IBEX 35', 'AEX', 'Swiss Market Index', 'SPI 200',\n",
       "       'Topix', 'Hang Seng', 'US 2-year Treasury', 'US 5-year Treasury',\n",
       "       'US 10-year Treasury', 'US treasury Bond', 'Germany Schatz',\n",
       "       'Germany Bobl', 'Germany Bund', 'Germany Buxl', 'Gilt',\n",
       "       'Canada 10-year Treasury', 'JGB'], dtype=object)"
      ]
     },
     "execution_count": 2,
     "metadata": {},
     "output_type": "execute_result"
    }
   ],
   "source": [
    "all_futures_baltas2020['name'].values"
   ]
  },
  {
   "cell_type": "code",
   "execution_count": 3,
   "id": "f09316e0",
   "metadata": {
    "ExecuteTime": {
     "end_time": "2020-08-30T21:08:49.542477Z",
     "start_time": "2020-08-30T21:08:49.530487Z"
    },
    "execution": {
     "iopub.execute_input": "2022-08-26T06:26:53.338125Z",
     "iopub.status.busy": "2022-08-26T06:26:53.337638Z",
     "iopub.status.idle": "2022-08-26T06:26:53.343343Z",
     "shell.execute_reply": "2022-08-26T06:26:53.342392Z"
    },
    "papermill": {
     "duration": 0.077644,
     "end_time": "2022-08-26T06:26:53.345980",
     "exception": false,
     "start_time": "2022-08-26T06:26:53.268336",
     "status": "completed"
    },
    "tags": []
   },
   "outputs": [
    {
     "name": "stdout",
     "output_type": "stream",
     "text": [
      "54\n"
     ]
    }
   ],
   "source": [
    "print(len(all_futures_baltas2020))"
   ]
  },
  {
   "cell_type": "markdown",
   "id": "0af6adcc",
   "metadata": {
    "papermill": {
     "duration": 0.015723,
     "end_time": "2022-08-26T06:26:53.378187",
     "exception": false,
     "start_time": "2022-08-26T06:26:53.362464",
     "status": "completed"
    },
    "tags": []
   },
   "source": [
    "We try to use the same contract as the original paper where possible, resulting 54 futures contracts to analyse. The trading universe covers a wide range of asset classes and regions, and is made up of following instruments:\n",
    "- Equity index futures\n",
    "- Government bond futures\n",
    "- FX futures\n",
    "- Commodity futures\n",
    "\n",
    "where the same trend detection method is applied."
   ]
  },
  {
   "cell_type": "markdown",
   "id": "9fbb567f",
   "metadata": {
    "papermill": {
     "duration": 0.017867,
     "end_time": "2022-08-26T06:26:53.411967",
     "exception": false,
     "start_time": "2022-08-26T06:26:53.394100",
     "status": "completed"
    },
    "tags": []
   },
   "source": [
    "# Performance\n"
   ]
  },
  {
   "cell_type": "markdown",
   "id": "3a816ba9",
   "metadata": {
    "papermill": {
     "duration": 0.016781,
     "end_time": "2022-08-26T06:26:53.444642",
     "exception": false,
     "start_time": "2022-08-26T06:26:53.427861",
     "status": "completed"
    },
    "tags": []
   },
   "source": [
    "## Moskowitz et al\n",
    "\n",
    "First we calculate the original trend-following portfolio with a more traditional close-to-close realised volatility estimator. Although Moskowitz et al uses the exponentially weighted standard deviation, BK2020 appears to compare against the rolling standard deviation."
   ]
  },
  {
   "cell_type": "code",
   "execution_count": 4,
   "id": "4a60bb91",
   "metadata": {
    "execution": {
     "iopub.execute_input": "2022-08-26T06:26:53.478936Z",
     "iopub.status.busy": "2022-08-26T06:26:53.478537Z",
     "iopub.status.idle": "2022-08-26T06:39:06.209248Z",
     "shell.execute_reply": "2022-08-26T06:39:06.208542Z"
    },
    "papermill": {
     "duration": 732.751655,
     "end_time": "2022-08-26T06:39:06.211921",
     "exception": false,
     "start_time": "2022-08-26T06:26:53.460266",
     "status": "completed"
    },
    "tags": []
   },
   "outputs": [],
   "source": [
    "engine_original = BacktestEngine(\n",
    "    strategy=Strategy.DELTA_ONE.value,\n",
    "    instrument=all_futures_baltas2020.index,\n",
    "    signal=signal.ParallelSignal([\n",
    "        signal.VolatilityScale(agg_method='rolling', window=21, ann_factor=261, \n",
    "                               target_volatility=0.4, signal_cap=0.95),\n",
    "        signal.TSMOMMoskowitz2012(post_process=processing.AsFreq(freq='m', method='pad'))\n",
    "    ], weighting='product'),\n",
    "    weighting=Weighting.EQUAL_WEIGHT.value,\n",
    "    log_level=logging.WARN,\n",
    ")\n",
    "engine_original.run()"
   ]
  },
  {
   "cell_type": "code",
   "execution_count": 5,
   "id": "140c618b",
   "metadata": {
    "execution": {
     "iopub.execute_input": "2022-08-26T06:39:06.244951Z",
     "iopub.status.busy": "2022-08-26T06:39:06.244681Z",
     "iopub.status.idle": "2022-08-26T06:40:43.738393Z",
     "shell.execute_reply": "2022-08-26T06:40:43.734790Z"
    },
    "papermill": {
     "duration": 97.518201,
     "end_time": "2022-08-26T06:40:43.745755",
     "exception": false,
     "start_time": "2022-08-26T06:39:06.227554",
     "status": "completed"
    },
    "tags": []
   },
   "outputs": [],
   "source": [
    "engine_original_eq = (engine_original.calculate_equity_curve(calculate_net=False, rebalance_freq='m')\n",
    "                      .rename('Trend-following portfolio (Moskowitz 2012)'))"
   ]
  },
  {
   "cell_type": "code",
   "execution_count": 6,
   "id": "184dcf79",
   "metadata": {
    "execution": {
     "iopub.execute_input": "2022-08-26T06:40:43.772978Z",
     "iopub.status.busy": "2022-08-26T06:40:43.772206Z",
     "iopub.status.idle": "2022-08-26T06:40:44.684924Z",
     "shell.execute_reply": "2022-08-26T06:40:44.684051Z"
    },
    "papermill": {
     "duration": 0.929719,
     "end_time": "2022-08-26T06:40:44.686889",
     "exception": false,
     "start_time": "2022-08-26T06:40:43.757170",
     "status": "completed"
    },
    "tags": []
   },
   "outputs": [
    {
     "data": {
      "image/png": "[encoded data removed]",
      "text/plain": [
       "<Figure size 576x324 with 1 Axes>"
      ]
     },
     "metadata": {
      "needs_background": "light"
     },
     "output_type": "display_data"
    }
   ],
   "source": [
    "fig, ax = plt.subplots(figsize=(8, 4.5))\n",
    "engine_original_eq.plot(ax=ax, logy=True)\n",
    "ax.set_title('Trend-following portfolio (Moskowitz 2012)')\n",
    "ax.set_ylabel('Cumulative returns');"
   ]
  },
  {
   "cell_type": "code",
   "execution_count": 7,
   "id": "6833ce99",
   "metadata": {
    "execution": {
     "iopub.execute_input": "2022-08-26T06:40:44.711874Z",
     "iopub.status.busy": "2022-08-26T06:40:44.711524Z",
     "iopub.status.idle": "2022-08-26T06:40:44.805555Z",
     "shell.execute_reply": "2022-08-26T06:40:44.804586Z"
    },
    "papermill": {
     "duration": 0.109823,
     "end_time": "2022-08-26T06:40:44.808179",
     "exception": false,
     "start_time": "2022-08-26T06:40:44.698356",
     "status": "completed"
    },
    "tags": []
   },
   "outputs": [
    {
     "data": {
      "text/html": [
       "<div>\n",
       "<style scoped>\n",
       "    .dataframe tbody tr th:only-of-type {\n",
       "        vertical-align: middle;\n",
       "    }\n",
       "\n",
       "    .dataframe tbody tr th {\n",
       "        vertical-align: top;\n",
       "    }\n",
       "\n",
       "    .dataframe thead th {\n",
       "        text-align: right;\n",
       "    }\n",
       "</style>\n",
       "<table border=\"1\" class=\"dataframe\">\n",
       "  <thead>\n",
       "    <tr style=\"text-align: right;\">\n",
       "      <th></th>\n",
       "      <th>Trend-following portfolio (Moskowitz 2012)</th>\n",
       "    </tr>\n",
       "  </thead>\n",
       "  <tbody>\n",
       "    <tr>\n",
       "      <th>CAGR</th>\n",
       "      <td>0.147779</td>\n",
       "    </tr>\n",
       "    <tr>\n",
       "      <th>Annualised vol</th>\n",
       "      <td>0.124980</td>\n",
       "    </tr>\n",
       "    <tr>\n",
       "      <th>Sharpe ratio</th>\n",
       "      <td>1.182423</td>\n",
       "    </tr>\n",
       "    <tr>\n",
       "      <th>Max drawdown</th>\n",
       "      <td>0.259239</td>\n",
       "    </tr>\n",
       "    <tr>\n",
       "      <th>Calmar ratio</th>\n",
       "      <td>0.570050</td>\n",
       "    </tr>\n",
       "    <tr>\n",
       "      <th>Skewness</th>\n",
       "      <td>0.073472</td>\n",
       "    </tr>\n",
       "    <tr>\n",
       "      <th>Kurtosis</th>\n",
       "      <td>19.332742</td>\n",
       "    </tr>\n",
       "    <tr>\n",
       "      <th>Worst return</th>\n",
       "      <td>-0.126276</td>\n",
       "    </tr>\n",
       "    <tr>\n",
       "      <th>Worst 1d return</th>\n",
       "      <td>-0.126276</td>\n",
       "    </tr>\n",
       "    <tr>\n",
       "      <th>Worst 1w return</th>\n",
       "      <td>-0.107725</td>\n",
       "    </tr>\n",
       "    <tr>\n",
       "      <th>Worst 1m return</th>\n",
       "      <td>-0.152667</td>\n",
       "    </tr>\n",
       "  </tbody>\n",
       "</table>\n",
       "</div>"
      ],
      "text/plain": [
       "                 Trend-following portfolio (Moskowitz 2012)\n",
       "CAGR                                               0.147779\n",
       "Annualised vol                                     0.124980\n",
       "Sharpe ratio                                       1.182423\n",
       "Max drawdown                                       0.259239\n",
       "Calmar ratio                                       0.570050\n",
       "Skewness                                           0.073472\n",
       "Kurtosis                                          19.332742\n",
       "Worst return                                      -0.126276\n",
       "Worst 1d return                                   -0.126276\n",
       "Worst 1w return                                   -0.107725\n",
       "Worst 1m return                                   -0.152667"
      ]
     },
     "execution_count": 7,
     "metadata": {},
     "output_type": "execute_result"
    }
   ],
   "source": [
    "engine_original_eq.pipe(Performance).summary()"
   ]
  },
  {
   "cell_type": "markdown",
   "id": "16ee6389",
   "metadata": {
    "papermill": {
     "duration": 0.016403,
     "end_time": "2022-08-26T06:40:44.841432",
     "exception": false,
     "start_time": "2022-08-26T06:40:44.825029",
     "status": "completed"
    },
    "tags": []
   },
   "source": [
    "\n",
    "## Volatility estimator\n",
    "BK2020 proposes a few changes in order to enhance the original trend-following strategy Moskowitz et al reported. The first thing is to use a more sophisticated realised volatility estimators for volatility scaling. Moskowitz used the exponentially weighted standard deviation with close-to-close. On the other hand, BK2020 suggests to use Yang-Zhang estimator as it is much more efficient."
   ]
  },
  {
   "cell_type": "code",
   "execution_count": 8,
   "id": "484723b3",
   "metadata": {
    "ExecuteTime": {
     "end_time": "2020-08-30T21:18:24.661167Z",
     "start_time": "2020-08-30T21:08:49.544232Z"
    },
    "execution": {
     "iopub.execute_input": "2022-08-26T06:40:44.876416Z",
     "iopub.status.busy": "2022-08-26T06:40:44.875921Z",
     "iopub.status.idle": "2022-08-26T07:02:15.586260Z",
     "shell.execute_reply": "2022-08-26T07:02:15.585489Z"
    },
    "papermill": {
     "duration": 1290.730102,
     "end_time": "2022-08-26T07:02:15.588252",
     "exception": false,
     "start_time": "2022-08-26T06:40:44.858150",
     "status": "completed"
    },
    "tags": []
   },
   "outputs": [],
   "source": [
    "engine_vol = BacktestEngine(\n",
    "    strategy=Strategy.DELTA_ONE.value,\n",
    "    instrument=all_futures_baltas2020.index,\n",
    "    signal=signal.ParallelSignal([\n",
    "        signal.VolatilityScale(volatility_type=RealisedVolatility.YZ.value,\n",
    "                               agg_method='rolling', window=21, min_periods=10,\n",
    "                               target_volatility=0.4, signal_cap=0.95, ann_factor=261),\n",
    "        signal.TSMOMMoskowitz2012(post_process=processing.AsFreq(freq='m', method='pad'))\n",
    "    ], weighting='product'),\n",
    "    weighting=Weighting.EQUAL_WEIGHT.value,\n",
    "    log_level=logging.WARN,\n",
    ")\n",
    "engine_vol.run()"
   ]
  },
  {
   "cell_type": "code",
   "execution_count": 9,
   "id": "76556377",
   "metadata": {
    "execution": {
     "iopub.execute_input": "2022-08-26T07:02:15.611174Z",
     "iopub.status.busy": "2022-08-26T07:02:15.610897Z",
     "iopub.status.idle": "2022-08-26T07:03:41.322114Z",
     "shell.execute_reply": "2022-08-26T07:03:41.321296Z"
    },
    "papermill": {
     "duration": 85.724859,
     "end_time": "2022-08-26T07:03:41.324017",
     "exception": false,
     "start_time": "2022-08-26T07:02:15.599158",
     "status": "completed"
    },
    "tags": []
   },
   "outputs": [],
   "source": [
    "engine_vol_eq = (engine_vol.calculate_equity_curve(calculate_net=False, rebalance_freq='m')\n",
    "                 .rename('Trend-following portfolio (YZ estimator)'))"
   ]
  },
  {
   "cell_type": "code",
   "execution_count": 10,
   "id": "37bd5636",
   "metadata": {
    "execution": {
     "iopub.execute_input": "2022-08-26T07:03:41.347280Z",
     "iopub.status.busy": "2022-08-26T07:03:41.347006Z",
     "iopub.status.idle": "2022-08-26T07:03:41.963772Z",
     "shell.execute_reply": "2022-08-26T07:03:41.962849Z"
    },
    "papermill": {
     "duration": 0.630379,
     "end_time": "2022-08-26T07:03:41.965716",
     "exception": false,
     "start_time": "2022-08-26T07:03:41.335337",
     "status": "completed"
    },
    "tags": []
   },
   "outputs": [
    {
     "data": {
      "image/png": "[encoded data removed]",
      "text/plain": [
       "<Figure size 576x324 with 1 Axes>"
      ]
     },
     "metadata": {
      "needs_background": "light"
     },
     "output_type": "display_data"
    }
   ],
   "source": [
    "fig, ax = plt.subplots(figsize=(8, 4.5))\n",
    "engine_vol_eq.plot(ax=ax, logy=True);\n",
    "ax.set_title('Trend-following portfolio (YZ estimator)')\n",
    "ax.set_ylabel('Cumulative returns');"
   ]
  },
  {
   "cell_type": "code",
   "execution_count": 11,
   "id": "3108279f",
   "metadata": {
    "execution": {
     "iopub.execute_input": "2022-08-26T07:03:41.989244Z",
     "iopub.status.busy": "2022-08-26T07:03:41.988868Z",
     "iopub.status.idle": "2022-08-26T07:03:42.087656Z",
     "shell.execute_reply": "2022-08-26T07:03:42.086866Z"
    },
    "papermill": {
     "duration": 0.112727,
     "end_time": "2022-08-26T07:03:42.089507",
     "exception": false,
     "start_time": "2022-08-26T07:03:41.976780",
     "status": "completed"
    },
    "tags": []
   },
   "outputs": [
    {
     "data": {
      "text/html": [
       "<div>\n",
       "<style scoped>\n",
       "    .dataframe tbody tr th:only-of-type {\n",
       "        vertical-align: middle;\n",
       "    }\n",
       "\n",
       "    .dataframe tbody tr th {\n",
       "        vertical-align: top;\n",
       "    }\n",
       "\n",
       "    .dataframe thead th {\n",
       "        text-align: right;\n",
       "    }\n",
       "</style>\n",
       "<table border=\"1\" class=\"dataframe\">\n",
       "  <thead>\n",
       "    <tr style=\"text-align: right;\">\n",
       "      <th></th>\n",
       "      <th>Trend-following portfolio (YZ estimator)</th>\n",
       "    </tr>\n",
       "  </thead>\n",
       "  <tbody>\n",
       "    <tr>\n",
       "      <th>CAGR</th>\n",
       "      <td>0.149428</td>\n",
       "    </tr>\n",
       "    <tr>\n",
       "      <th>Annualised vol</th>\n",
       "      <td>0.127267</td>\n",
       "    </tr>\n",
       "    <tr>\n",
       "      <th>Sharpe ratio</th>\n",
       "      <td>1.174128</td>\n",
       "    </tr>\n",
       "    <tr>\n",
       "      <th>Max drawdown</th>\n",
       "      <td>0.305877</td>\n",
       "    </tr>\n",
       "    <tr>\n",
       "      <th>Calmar ratio</th>\n",
       "      <td>0.488523</td>\n",
       "    </tr>\n",
       "    <tr>\n",
       "      <th>Skewness</th>\n",
       "      <td>0.280538</td>\n",
       "    </tr>\n",
       "    <tr>\n",
       "      <th>Kurtosis</th>\n",
       "      <td>22.114724</td>\n",
       "    </tr>\n",
       "    <tr>\n",
       "      <th>Worst return</th>\n",
       "      <td>-0.137043</td>\n",
       "    </tr>\n",
       "    <tr>\n",
       "      <th>Worst 1d return</th>\n",
       "      <td>-0.137043</td>\n",
       "    </tr>\n",
       "    <tr>\n",
       "      <th>Worst 1w return</th>\n",
       "      <td>-0.098542</td>\n",
       "    </tr>\n",
       "    <tr>\n",
       "      <th>Worst 1m return</th>\n",
       "      <td>-0.169177</td>\n",
       "    </tr>\n",
       "  </tbody>\n",
       "</table>\n",
       "</div>"
      ],
      "text/plain": [
       "                 Trend-following portfolio (YZ estimator)\n",
       "CAGR                                             0.149428\n",
       "Annualised vol                                   0.127267\n",
       "Sharpe ratio                                     1.174128\n",
       "Max drawdown                                     0.305877\n",
       "Calmar ratio                                     0.488523\n",
       "Skewness                                         0.280538\n",
       "Kurtosis                                        22.114724\n",
       "Worst return                                    -0.137043\n",
       "Worst 1d return                                 -0.137043\n",
       "Worst 1w return                                 -0.098542\n",
       "Worst 1m return                                 -0.169177"
      ]
     },
     "execution_count": 11,
     "metadata": {},
     "output_type": "execute_result"
    }
   ],
   "source": [
    "engine_vol_eq.pipe(Performance).summary()"
   ]
  },
  {
   "cell_type": "markdown",
   "id": "923d3f58",
   "metadata": {
    "papermill": {
     "duration": 0.011256,
     "end_time": "2022-08-26T07:03:42.112760",
     "exception": false,
     "start_time": "2022-08-26T07:03:42.101504",
     "status": "completed"
    },
    "tags": []
   },
   "source": [
    "## TREND signal\n",
    "\n",
    "Another improvement BK2020 proposes is to use a continuous signal rather than a binary one in order to reduce the turnover when signals are weak. Specifically they used the t-values with the Newey-West standard error as the signal. They further capped and floored the signal between -1 and +1 to avoid extreme positions.\n",
    "\n",
    "`statsmodels`'s `OLS` class provides a method to compute the Newey-West standard error. https://www.statsmodels.org/stable/generated/statsmodels.regression.linear_model.OLS.html"
   ]
  },
  {
   "cell_type": "code",
   "execution_count": 12,
   "id": "1f0a4579",
   "metadata": {
    "execution": {
     "iopub.execute_input": "2022-08-26T07:03:42.136805Z",
     "iopub.status.busy": "2022-08-26T07:03:42.136430Z",
     "iopub.status.idle": "2022-08-26T07:21:26.978399Z",
     "shell.execute_reply": "2022-08-26T07:21:26.977516Z"
    },
    "papermill": {
     "duration": 1064.856467,
     "end_time": "2022-08-26T07:21:26.980483",
     "exception": false,
     "start_time": "2022-08-26T07:03:42.124016",
     "status": "completed"
    },
    "tags": []
   },
   "outputs": [],
   "source": [
    "engine_trend = BacktestEngine(\n",
    "    strategy=Strategy.DELTA_ONE.value,\n",
    "    instrument=all_futures_baltas2020.index,\n",
    "    signal=signal.ParallelSignal([\n",
    "        signal.VolatilityScale(agg_method='rolling', window=21, ann_factor=261, \n",
    "                               target_volatility=0.4, signal_cap=0.95),\n",
    "        signal.TSMOMBaltas2020()\n",
    "    ], weighting='product'),\n",
    "    weighting=Weighting.EQUAL_WEIGHT.value,\n",
    "    log_level=logging.WARN,\n",
    ")\n",
    "engine_trend.run()"
   ]
  },
  {
   "cell_type": "code",
   "execution_count": 13,
   "id": "065b9e60",
   "metadata": {
    "execution": {
     "iopub.execute_input": "2022-08-26T07:21:27.008126Z",
     "iopub.status.busy": "2022-08-26T07:21:27.007726Z",
     "iopub.status.idle": "2022-08-26T07:22:55.026291Z",
     "shell.execute_reply": "2022-08-26T07:22:55.025564Z"
    },
    "papermill": {
     "duration": 88.035384,
     "end_time": "2022-08-26T07:22:55.028631",
     "exception": false,
     "start_time": "2022-08-26T07:21:26.993247",
     "status": "completed"
    },
    "tags": []
   },
   "outputs": [],
   "source": [
    "engine_trend_eq = (engine_trend.calculate_equity_curve(calculate_net=False, rebalance_freq='m')\n",
    "                   .rename('Trend-following portfolio (TREND signal)'))"
   ]
  },
  {
   "cell_type": "code",
   "execution_count": 14,
   "id": "6e2af5e5",
   "metadata": {
    "execution": {
     "iopub.execute_input": "2022-08-26T07:22:55.063581Z",
     "iopub.status.busy": "2022-08-26T07:22:55.063061Z",
     "iopub.status.idle": "2022-08-26T07:22:55.639998Z",
     "shell.execute_reply": "2022-08-26T07:22:55.639308Z"
    },
    "papermill": {
     "duration": 0.594575,
     "end_time": "2022-08-26T07:22:55.641698",
     "exception": false,
     "start_time": "2022-08-26T07:22:55.047123",
     "status": "completed"
    },
    "tags": []
   },
   "outputs": [
    {
     "data": {
      "image/png": "[encoded data removed]",
      "text/plain": [
       "<Figure size 576x324 with 1 Axes>"
      ]
     },
     "metadata": {
      "needs_background": "light"
     },
     "output_type": "display_data"
    }
   ],
   "source": [
    "fig, ax = plt.subplots(figsize=(8, 4.5))\n",
    "engine_trend_eq.plot(ax=ax, logy=True);\n",
    "ax.set_title('Trend-following portfolio (TREND signal)')\n",
    "ax.set_ylabel('Cumulative returns');"
   ]
  },
  {
   "cell_type": "code",
   "execution_count": 15,
   "id": "613fe5da",
   "metadata": {
    "execution": {
     "iopub.execute_input": "2022-08-26T07:22:55.665848Z",
     "iopub.status.busy": "2022-08-26T07:22:55.665505Z",
     "iopub.status.idle": "2022-08-26T07:22:55.745011Z",
     "shell.execute_reply": "2022-08-26T07:22:55.744321Z"
    },
    "papermill": {
     "duration": 0.093592,
     "end_time": "2022-08-26T07:22:55.746739",
     "exception": false,
     "start_time": "2022-08-26T07:22:55.653147",
     "status": "completed"
    },
    "tags": []
   },
   "outputs": [
    {
     "data": {
      "text/html": [
       "<div>\n",
       "<style scoped>\n",
       "    .dataframe tbody tr th:only-of-type {\n",
       "        vertical-align: middle;\n",
       "    }\n",
       "\n",
       "    .dataframe tbody tr th {\n",
       "        vertical-align: top;\n",
       "    }\n",
       "\n",
       "    .dataframe thead th {\n",
       "        text-align: right;\n",
       "    }\n",
       "</style>\n",
       "<table border=\"1\" class=\"dataframe\">\n",
       "  <thead>\n",
       "    <tr style=\"text-align: right;\">\n",
       "      <th></th>\n",
       "      <th>Trend-following portfolio (TREND signal)</th>\n",
       "    </tr>\n",
       "  </thead>\n",
       "  <tbody>\n",
       "    <tr>\n",
       "      <th>CAGR</th>\n",
       "      <td>0.139749</td>\n",
       "    </tr>\n",
       "    <tr>\n",
       "      <th>Annualised vol</th>\n",
       "      <td>0.107931</td>\n",
       "    </tr>\n",
       "    <tr>\n",
       "      <th>Sharpe ratio</th>\n",
       "      <td>1.294802</td>\n",
       "    </tr>\n",
       "    <tr>\n",
       "      <th>Max drawdown</th>\n",
       "      <td>0.294584</td>\n",
       "    </tr>\n",
       "    <tr>\n",
       "      <th>Calmar ratio</th>\n",
       "      <td>0.474395</td>\n",
       "    </tr>\n",
       "    <tr>\n",
       "      <th>Skewness</th>\n",
       "      <td>0.158949</td>\n",
       "    </tr>\n",
       "    <tr>\n",
       "      <th>Kurtosis</th>\n",
       "      <td>28.001824</td>\n",
       "    </tr>\n",
       "    <tr>\n",
       "      <th>Worst return</th>\n",
       "      <td>-0.121269</td>\n",
       "    </tr>\n",
       "    <tr>\n",
       "      <th>Worst 1d return</th>\n",
       "      <td>-0.121269</td>\n",
       "    </tr>\n",
       "    <tr>\n",
       "      <th>Worst 1w return</th>\n",
       "      <td>-0.110077</td>\n",
       "    </tr>\n",
       "    <tr>\n",
       "      <th>Worst 1m return</th>\n",
       "      <td>-0.171789</td>\n",
       "    </tr>\n",
       "  </tbody>\n",
       "</table>\n",
       "</div>"
      ],
      "text/plain": [
       "                 Trend-following portfolio (TREND signal)\n",
       "CAGR                                             0.139749\n",
       "Annualised vol                                   0.107931\n",
       "Sharpe ratio                                     1.294802\n",
       "Max drawdown                                     0.294584\n",
       "Calmar ratio                                     0.474395\n",
       "Skewness                                         0.158949\n",
       "Kurtosis                                        28.001824\n",
       "Worst return                                    -0.121269\n",
       "Worst 1d return                                 -0.121269\n",
       "Worst 1w return                                 -0.110077\n",
       "Worst 1m return                                 -0.171789"
      ]
     },
     "execution_count": 15,
     "metadata": {},
     "output_type": "execute_result"
    }
   ],
   "source": [
    "engine_trend_eq.pipe(Performance).summary()"
   ]
  },
  {
   "cell_type": "markdown",
   "id": "d8b1e1ec",
   "metadata": {
    "papermill": {
     "duration": 0.011514,
     "end_time": "2022-08-26T07:22:55.769838",
     "exception": false,
     "start_time": "2022-08-26T07:22:55.758324",
     "status": "completed"
    },
    "tags": []
   },
   "source": [
    "## Combined\n",
    "\n",
    "Finally we run a backtest by using both the Yang-Zhang volatility estimator and the TREND signal."
   ]
  },
  {
   "cell_type": "code",
   "execution_count": 16,
   "id": "709cc281",
   "metadata": {
    "execution": {
     "iopub.execute_input": "2022-08-26T07:22:55.795007Z",
     "iopub.status.busy": "2022-08-26T07:22:55.794546Z",
     "iopub.status.idle": "2022-08-26T07:49:41.151154Z",
     "shell.execute_reply": "2022-08-26T07:49:41.150353Z"
    },
    "papermill": {
     "duration": 1605.371877,
     "end_time": "2022-08-26T07:49:41.153487",
     "exception": false,
     "start_time": "2022-08-26T07:22:55.781610",
     "status": "completed"
    },
    "tags": []
   },
   "outputs": [],
   "source": [
    "engine_combined = BacktestEngine(\n",
    "    strategy=Strategy.DELTA_ONE.value,\n",
    "    instrument=all_futures_baltas2020.index,\n",
    "    signal=signal.ParallelSignal([\n",
    "        signal.VolatilityScale(volatility_type=RealisedVolatility.YZ.value,\n",
    "                               agg_method='rolling', window=21, min_periods=10,\n",
    "                               target_volatility=0.4, signal_cap=0.95, ann_factor=261),\n",
    "        signal.TSMOMBaltas2020()\n",
    "    ], weighting='product'),\n",
    "    weighting=Weighting.EQUAL_WEIGHT.value,\n",
    "    log_level=logging.WARN,\n",
    ")\n",
    "engine_combined.run()"
   ]
  },
  {
   "cell_type": "code",
   "execution_count": 17,
   "id": "52b0b0d1",
   "metadata": {
    "execution": {
     "iopub.execute_input": "2022-08-26T07:49:41.188390Z",
     "iopub.status.busy": "2022-08-26T07:49:41.188106Z",
     "iopub.status.idle": "2022-08-26T07:51:04.379457Z",
     "shell.execute_reply": "2022-08-26T07:51:04.378721Z"
    },
    "papermill": {
     "duration": 83.211621,
     "end_time": "2022-08-26T07:51:04.382303",
     "exception": false,
     "start_time": "2022-08-26T07:49:41.170682",
     "status": "completed"
    },
    "tags": []
   },
   "outputs": [],
   "source": [
    "engine_combined_eq = (engine_combined.calculate_equity_curve(calculate_net=False, rebalance_freq='m')\n",
    "                      .rename('Trend-following portfolio (YZ estimator + TREND signal)'))"
   ]
  },
  {
   "cell_type": "code",
   "execution_count": 18,
   "id": "5e5a3515",
   "metadata": {
    "execution": {
     "iopub.execute_input": "2022-08-26T07:51:04.406639Z",
     "iopub.status.busy": "2022-08-26T07:51:04.406380Z",
     "iopub.status.idle": "2022-08-26T07:51:04.981536Z",
     "shell.execute_reply": "2022-08-26T07:51:04.980778Z"
    },
    "papermill": {
     "duration": 0.589244,
     "end_time": "2022-08-26T07:51:04.983263",
     "exception": false,
     "start_time": "2022-08-26T07:51:04.394019",
     "status": "completed"
    },
    "tags": []
   },
   "outputs": [
    {
     "data": {
      "image/png": "[encoded data removed]",
      "text/plain": [
       "<Figure size 576x324 with 1 Axes>"
      ]
     },
     "metadata": {
      "needs_background": "light"
     },
     "output_type": "display_data"
    }
   ],
   "source": [
    "fig, ax = plt.subplots(figsize=(8, 4.5))\n",
    "engine_combined_eq.plot(ax=ax, logy=True)\n",
    "ax.set_title('Trend-following portfolio (YZ estimator + TREND signal)')\n",
    "ax.set_ylabel('Cumulative returns');"
   ]
  },
  {
   "cell_type": "code",
   "execution_count": 19,
   "id": "39c0700a",
   "metadata": {
    "execution": {
     "iopub.execute_input": "2022-08-26T07:51:05.037655Z",
     "iopub.status.busy": "2022-08-26T07:51:05.037396Z",
     "iopub.status.idle": "2022-08-26T07:51:05.115552Z",
     "shell.execute_reply": "2022-08-26T07:51:05.114704Z"
    },
    "papermill": {
     "duration": 0.122249,
     "end_time": "2022-08-26T07:51:05.117314",
     "exception": false,
     "start_time": "2022-08-26T07:51:04.995065",
     "status": "completed"
    },
    "tags": []
   },
   "outputs": [
    {
     "data": {
      "text/html": [
       "<div>\n",
       "<style scoped>\n",
       "    .dataframe tbody tr th:only-of-type {\n",
       "        vertical-align: middle;\n",
       "    }\n",
       "\n",
       "    .dataframe tbody tr th {\n",
       "        vertical-align: top;\n",
       "    }\n",
       "\n",
       "    .dataframe thead th {\n",
       "        text-align: right;\n",
       "    }\n",
       "</style>\n",
       "<table border=\"1\" class=\"dataframe\">\n",
       "  <thead>\n",
       "    <tr style=\"text-align: right;\">\n",
       "      <th></th>\n",
       "      <th>Trend-following portfolio (YZ estimator + TREND signal)</th>\n",
       "    </tr>\n",
       "  </thead>\n",
       "  <tbody>\n",
       "    <tr>\n",
       "      <th>CAGR</th>\n",
       "      <td>0.140202</td>\n",
       "    </tr>\n",
       "    <tr>\n",
       "      <th>Annualised vol</th>\n",
       "      <td>0.110665</td>\n",
       "    </tr>\n",
       "    <tr>\n",
       "      <th>Sharpe ratio</th>\n",
       "      <td>1.266904</td>\n",
       "    </tr>\n",
       "    <tr>\n",
       "      <th>Max drawdown</th>\n",
       "      <td>0.313945</td>\n",
       "    </tr>\n",
       "    <tr>\n",
       "      <th>Calmar ratio</th>\n",
       "      <td>0.446580</td>\n",
       "    </tr>\n",
       "    <tr>\n",
       "      <th>Skewness</th>\n",
       "      <td>0.292445</td>\n",
       "    </tr>\n",
       "    <tr>\n",
       "      <th>Kurtosis</th>\n",
       "      <td>32.522781</td>\n",
       "    </tr>\n",
       "    <tr>\n",
       "      <th>Worst return</th>\n",
       "      <td>-0.130152</td>\n",
       "    </tr>\n",
       "    <tr>\n",
       "      <th>Worst 1d return</th>\n",
       "      <td>-0.130152</td>\n",
       "    </tr>\n",
       "    <tr>\n",
       "      <th>Worst 1w return</th>\n",
       "      <td>-0.112097</td>\n",
       "    </tr>\n",
       "    <tr>\n",
       "      <th>Worst 1m return</th>\n",
       "      <td>-0.186272</td>\n",
       "    </tr>\n",
       "  </tbody>\n",
       "</table>\n",
       "</div>"
      ],
      "text/plain": [
       "                 Trend-following portfolio (YZ estimator + TREND signal)\n",
       "CAGR                                                      0.140202      \n",
       "Annualised vol                                            0.110665      \n",
       "Sharpe ratio                                              1.266904      \n",
       "Max drawdown                                              0.313945      \n",
       "Calmar ratio                                              0.446580      \n",
       "Skewness                                                  0.292445      \n",
       "Kurtosis                                                 32.522781      \n",
       "Worst return                                             -0.130152      \n",
       "Worst 1d return                                          -0.130152      \n",
       "Worst 1w return                                          -0.112097      \n",
       "Worst 1m return                                          -0.186272      "
      ]
     },
     "execution_count": 19,
     "metadata": {},
     "output_type": "execute_result"
    }
   ],
   "source": [
    "engine_combined_eq.pipe(Performance).summary()"
   ]
  },
  {
   "cell_type": "markdown",
   "id": "d79aef25",
   "metadata": {
    "papermill": {
     "duration": 0.011942,
     "end_time": "2022-08-26T07:51:05.141188",
     "exception": false,
     "start_time": "2022-08-26T07:51:05.129246",
     "status": "completed"
    },
    "tags": []
   },
   "source": [
    "# Comparison\n",
    "\n",
    "In this section we compare the above 4 backtests."
   ]
  },
  {
   "cell_type": "markdown",
   "id": "32c5dcaa",
   "metadata": {
    "papermill": {
     "duration": 0.013191,
     "end_time": "2022-08-26T07:51:05.166256",
     "exception": false,
     "start_time": "2022-08-26T07:51:05.153065",
     "status": "completed"
    },
    "tags": []
   },
   "source": [
    "## Performance\n",
    "\n",
    "As reported in BK2020, using the YZ estimator and TREND signal does not alter the performance characteristics. Rather, the TREND signal somewhat improves the Sharpe ratio. Also the TREND signal lowers the annualised volatility from 12.5% to 10.8% with the close-to-close realised volatility."
   ]
  },
  {
   "cell_type": "code",
   "execution_count": 20,
   "id": "112cab80",
   "metadata": {
    "execution": {
     "iopub.execute_input": "2022-08-26T07:51:05.192097Z",
     "iopub.status.busy": "2022-08-26T07:51:05.191827Z",
     "iopub.status.idle": "2022-08-26T07:51:05.205108Z",
     "shell.execute_reply": "2022-08-26T07:51:05.204283Z"
    },
    "papermill": {
     "duration": 0.028168,
     "end_time": "2022-08-26T07:51:05.206966",
     "exception": false,
     "start_time": "2022-08-26T07:51:05.178798",
     "status": "completed"
    },
    "tags": []
   },
   "outputs": [],
   "source": [
    "performance_comp = pd.concat((engine_original_eq, engine_vol_eq, \n",
    "                              engine_trend_eq, engine_combined_eq), axis=1)"
   ]
  },
  {
   "cell_type": "code",
   "execution_count": 21,
   "id": "2150d521",
   "metadata": {
    "execution": {
     "iopub.execute_input": "2022-08-26T07:51:05.231808Z",
     "iopub.status.busy": "2022-08-26T07:51:05.231547Z",
     "iopub.status.idle": "2022-08-26T07:51:06.001446Z",
     "shell.execute_reply": "2022-08-26T07:51:06.000629Z"
    },
    "papermill": {
     "duration": 0.784385,
     "end_time": "2022-08-26T07:51:06.003255",
     "exception": false,
     "start_time": "2022-08-26T07:51:05.218870",
     "status": "completed"
    },
    "tags": []
   },
   "outputs": [
    {
     "data": {
      "image/png": "[encoded data removed]",
      "text/plain": [
       "<Figure size 576x324 with 1 Axes>"
      ]
     },
     "metadata": {
      "needs_background": "light"
     },
     "output_type": "display_data"
    }
   ],
   "source": [
    "fig, ax = plt.subplots(figsize=(8, 4.5))\n",
    "performance_comp.plot(ax=ax, logy=True);\n",
    "ax.set_title('Trend-following portfolio')\n",
    "ax.set_ylabel('Cumulative returns');"
   ]
  },
  {
   "cell_type": "code",
   "execution_count": 22,
   "id": "8d75e1bf",
   "metadata": {
    "execution": {
     "iopub.execute_input": "2022-08-26T07:51:06.029424Z",
     "iopub.status.busy": "2022-08-26T07:51:06.029151Z",
     "iopub.status.idle": "2022-08-26T07:51:06.127349Z",
     "shell.execute_reply": "2022-08-26T07:51:06.126662Z"
    },
    "papermill": {
     "duration": 0.113069,
     "end_time": "2022-08-26T07:51:06.128995",
     "exception": false,
     "start_time": "2022-08-26T07:51:06.015926",
     "status": "completed"
    },
    "tags": []
   },
   "outputs": [
    {
     "data": {
      "text/html": [
       "<div>\n",
       "<style scoped>\n",
       "    .dataframe tbody tr th:only-of-type {\n",
       "        vertical-align: middle;\n",
       "    }\n",
       "\n",
       "    .dataframe tbody tr th {\n",
       "        vertical-align: top;\n",
       "    }\n",
       "\n",
       "    .dataframe thead th {\n",
       "        text-align: right;\n",
       "    }\n",
       "</style>\n",
       "<table border=\"1\" class=\"dataframe\">\n",
       "  <thead>\n",
       "    <tr style=\"text-align: right;\">\n",
       "      <th></th>\n",
       "      <th>Trend-following portfolio (Moskowitz 2012)</th>\n",
       "      <th>Trend-following portfolio (YZ estimator)</th>\n",
       "      <th>Trend-following portfolio (TREND signal)</th>\n",
       "      <th>Trend-following portfolio (YZ estimator + TREND signal)</th>\n",
       "    </tr>\n",
       "  </thead>\n",
       "  <tbody>\n",
       "    <tr>\n",
       "      <th>CAGR</th>\n",
       "      <td>0.147779</td>\n",
       "      <td>0.149061</td>\n",
       "      <td>0.139749</td>\n",
       "      <td>0.139857</td>\n",
       "    </tr>\n",
       "    <tr>\n",
       "      <th>Annualised vol</th>\n",
       "      <td>0.124980</td>\n",
       "      <td>0.127112</td>\n",
       "      <td>0.107931</td>\n",
       "      <td>0.110530</td>\n",
       "    </tr>\n",
       "    <tr>\n",
       "      <th>Sharpe ratio</th>\n",
       "      <td>1.182423</td>\n",
       "      <td>1.172675</td>\n",
       "      <td>1.294802</td>\n",
       "      <td>1.265336</td>\n",
       "    </tr>\n",
       "    <tr>\n",
       "      <th>Max drawdown</th>\n",
       "      <td>0.259239</td>\n",
       "      <td>0.305877</td>\n",
       "      <td>0.294584</td>\n",
       "      <td>0.313945</td>\n",
       "    </tr>\n",
       "    <tr>\n",
       "      <th>Calmar ratio</th>\n",
       "      <td>0.570050</td>\n",
       "      <td>0.487323</td>\n",
       "      <td>0.474395</td>\n",
       "      <td>0.445482</td>\n",
       "    </tr>\n",
       "    <tr>\n",
       "      <th>Skewness</th>\n",
       "      <td>0.073472</td>\n",
       "      <td>0.281451</td>\n",
       "      <td>0.158949</td>\n",
       "      <td>0.293410</td>\n",
       "    </tr>\n",
       "    <tr>\n",
       "      <th>Kurtosis</th>\n",
       "      <td>19.332742</td>\n",
       "      <td>22.176015</td>\n",
       "      <td>28.001824</td>\n",
       "      <td>32.609257</td>\n",
       "    </tr>\n",
       "    <tr>\n",
       "      <th>Worst return</th>\n",
       "      <td>-0.126276</td>\n",
       "      <td>-0.137043</td>\n",
       "      <td>-0.121269</td>\n",
       "      <td>-0.130152</td>\n",
       "    </tr>\n",
       "    <tr>\n",
       "      <th>Worst 1d return</th>\n",
       "      <td>-0.126276</td>\n",
       "      <td>-0.137043</td>\n",
       "      <td>-0.121269</td>\n",
       "      <td>-0.130152</td>\n",
       "    </tr>\n",
       "    <tr>\n",
       "      <th>Worst 1w return</th>\n",
       "      <td>-0.107725</td>\n",
       "      <td>-0.098542</td>\n",
       "      <td>-0.110077</td>\n",
       "      <td>-0.112097</td>\n",
       "    </tr>\n",
       "    <tr>\n",
       "      <th>Worst 1m return</th>\n",
       "      <td>-0.152667</td>\n",
       "      <td>-0.169177</td>\n",
       "      <td>-0.171789</td>\n",
       "      <td>-0.186272</td>\n",
       "    </tr>\n",
       "  </tbody>\n",
       "</table>\n",
       "</div>"
      ],
      "text/plain": [
       "                 Trend-following portfolio (Moskowitz 2012)  \\\n",
       "CAGR                                               0.147779   \n",
       "Annualised vol                                     0.124980   \n",
       "Sharpe ratio                                       1.182423   \n",
       "Max drawdown                                       0.259239   \n",
       "Calmar ratio                                       0.570050   \n",
       "Skewness                                           0.073472   \n",
       "Kurtosis                                          19.332742   \n",
       "Worst return                                      -0.126276   \n",
       "Worst 1d return                                   -0.126276   \n",
       "Worst 1w return                                   -0.107725   \n",
       "Worst 1m return                                   -0.152667   \n",
       "\n",
       "                 Trend-following portfolio (YZ estimator)  \\\n",
       "CAGR                                             0.149061   \n",
       "Annualised vol                                   0.127112   \n",
       "Sharpe ratio                                     1.172675   \n",
       "Max drawdown                                     0.305877   \n",
       "Calmar ratio                                     0.487323   \n",
       "Skewness                                         0.281451   \n",
       "Kurtosis                                        22.176015   \n",
       "Worst return                                    -0.137043   \n",
       "Worst 1d return                                 -0.137043   \n",
       "Worst 1w return                                 -0.098542   \n",
       "Worst 1m return                                 -0.169177   \n",
       "\n",
       "                 Trend-following portfolio (TREND signal)  \\\n",
       "CAGR                                             0.139749   \n",
       "Annualised vol                                   0.107931   \n",
       "Sharpe ratio                                     1.294802   \n",
       "Max drawdown                                     0.294584   \n",
       "Calmar ratio                                     0.474395   \n",
       "Skewness                                         0.158949   \n",
       "Kurtosis                                        28.001824   \n",
       "Worst return                                    -0.121269   \n",
       "Worst 1d return                                 -0.121269   \n",
       "Worst 1w return                                 -0.110077   \n",
       "Worst 1m return                                 -0.171789   \n",
       "\n",
       "                 Trend-following portfolio (YZ estimator + TREND signal)  \n",
       "CAGR                                                      0.139857        \n",
       "Annualised vol                                            0.110530        \n",
       "Sharpe ratio                                              1.265336        \n",
       "Max drawdown                                              0.313945        \n",
       "Calmar ratio                                              0.445482        \n",
       "Skewness                                                  0.293410        \n",
       "Kurtosis                                                 32.609257        \n",
       "Worst return                                             -0.130152        \n",
       "Worst 1d return                                          -0.130152        \n",
       "Worst 1w return                                          -0.112097        \n",
       "Worst 1m return                                          -0.186272        "
      ]
     },
     "execution_count": 22,
     "metadata": {},
     "output_type": "execute_result"
    }
   ],
   "source": [
    "performance_comp.pipe(Performance).summary()"
   ]
  },
  {
   "cell_type": "markdown",
   "id": "5d69b138",
   "metadata": {
    "papermill": {
     "duration": 0.012739,
     "end_time": "2022-08-26T07:51:06.154544",
     "exception": false,
     "start_time": "2022-08-26T07:51:06.141805",
     "status": "completed"
    },
    "tags": []
   },
   "source": [
    "## Turnover reduction\n",
    "\n",
    "Again, as reported in BK2020, both enhancements reduce the turnover significantly while not affecting the performance. The chart below shows the reduction in turnover for each futures contract. By utilising the YZ realised volatility and the TREND signal, overall the turnover is reduced by more than 30%."
   ]
  },
  {
   "cell_type": "code",
   "execution_count": 23,
   "id": "1fbeccc1",
   "metadata": {
    "execution": {
     "iopub.execute_input": "2022-08-26T07:51:06.181082Z",
     "iopub.status.busy": "2022-08-26T07:51:06.180818Z",
     "iopub.status.idle": "2022-08-26T07:56:13.553610Z",
     "shell.execute_reply": "2022-08-26T07:56:13.552715Z"
    },
    "papermill": {
     "duration": 307.388931,
     "end_time": "2022-08-26T07:56:13.556053",
     "exception": false,
     "start_time": "2022-08-26T07:51:06.167122",
     "status": "completed"
    },
    "tags": []
   },
   "outputs": [],
   "source": [
    "engine_original_pos = engine_original.get_position_by_instrument()\n",
    "engine_vol_pos = engine_vol.get_position_by_instrument()\n",
    "engine_trend_pos = engine_trend.get_position_by_instrument()\n",
    "engine_combined_pos = engine_combined.get_position_by_instrument()"
   ]
  },
  {
   "cell_type": "code",
   "execution_count": 24,
   "id": "fbe145a2",
   "metadata": {
    "execution": {
     "iopub.execute_input": "2022-08-26T07:56:13.584387Z",
     "iopub.status.busy": "2022-08-26T07:56:13.584102Z",
     "iopub.status.idle": "2022-08-26T07:56:13.627962Z",
     "shell.execute_reply": "2022-08-26T07:56:13.626851Z"
    },
    "papermill": {
     "duration": 0.060215,
     "end_time": "2022-08-26T07:56:13.629935",
     "exception": false,
     "start_time": "2022-08-26T07:56:13.569720",
     "status": "completed"
    },
    "tags": []
   },
   "outputs": [],
   "source": [
    "engine_original_turnover = (engine_original_pos.diff().abs().mean().mul(261)\n",
    "                            .rename('Trend-following portfolio (Moskowitz 2012)'))\n",
    "engine_vol_turnover = (engine_vol_pos.diff().abs().mean().mul(261)\n",
    "                       .rename('Trend-following portfolio (YZ estimator)'))\n",
    "engine_trend_turnover = (engine_trend_pos.diff().abs().mean().mul(261)\n",
    "                         .rename('Trend-following portfolio (TREND signal)'))\n",
    "engine_combined_turnover = (engine_combined_pos.diff().abs().mean().mul(261)\n",
    "                            .rename('Trend-following portfolio (YZ estimator + TREND signal)'))"
   ]
  },
  {
   "cell_type": "code",
   "execution_count": 25,
   "id": "c250d563",
   "metadata": {
    "execution": {
     "iopub.execute_input": "2022-08-26T07:56:13.657840Z",
     "iopub.status.busy": "2022-08-26T07:56:13.657567Z",
     "iopub.status.idle": "2022-08-26T07:56:13.665136Z",
     "shell.execute_reply": "2022-08-26T07:56:13.664363Z"
    },
    "papermill": {
     "duration": 0.023637,
     "end_time": "2022-08-26T07:56:13.666901",
     "exception": false,
     "start_time": "2022-08-26T07:56:13.643264",
     "status": "completed"
    },
    "tags": []
   },
   "outputs": [],
   "source": [
    "turnover_reduction = (\n",
    "    pd.concat((engine_vol_turnover, engine_trend_turnover, engine_combined_turnover), axis=1)\n",
    "    .div(engine_original_turnover, axis=0)\n",
    "    .sub(1)\n",
    "    .reindex(index=all_futures_baltas2020.index)\n",
    "    .rename(index=all_futures_baltas2020['name'])\n",
    ")"
   ]
  },
  {
   "cell_type": "code",
   "execution_count": 26,
   "id": "73f420a7",
   "metadata": {
    "execution": {
     "iopub.execute_input": "2022-08-26T07:56:13.694525Z",
     "iopub.status.busy": "2022-08-26T07:56:13.693849Z",
     "iopub.status.idle": "2022-08-26T07:56:13.701783Z",
     "shell.execute_reply": "2022-08-26T07:56:13.701056Z"
    },
    "papermill": {
     "duration": 0.023669,
     "end_time": "2022-08-26T07:56:13.703522",
     "exception": false,
     "start_time": "2022-08-26T07:56:13.679853",
     "status": "completed"
    },
    "tags": []
   },
   "outputs": [
    {
     "data": {
      "text/plain": [
       "Trend-following portfolio (YZ estimator)                  -0.181315\n",
       "Trend-following portfolio (TREND signal)                  -0.207455\n",
       "Trend-following portfolio (YZ estimator + TREND signal)   -0.330925\n",
       "dtype: float64"
      ]
     },
     "execution_count": 26,
     "metadata": {},
     "output_type": "execute_result"
    }
   ],
   "source": [
    "turnover_reduction.mean()"
   ]
  },
  {
   "cell_type": "code",
   "execution_count": 27,
   "id": "bab0cdb9",
   "metadata": {
    "execution": {
     "iopub.execute_input": "2022-08-26T07:56:13.730853Z",
     "iopub.status.busy": "2022-08-26T07:56:13.730573Z",
     "iopub.status.idle": "2022-08-26T07:56:15.402280Z",
     "shell.execute_reply": "2022-08-26T07:56:15.401456Z"
    },
    "papermill": {
     "duration": 1.687683,
     "end_time": "2022-08-26T07:56:15.404150",
     "exception": false,
     "start_time": "2022-08-26T07:56:13.716467",
     "status": "completed"
    },
    "tags": []
   },
   "outputs": [
    {
     "data": {
      "image/png": "[encoded data removed]",
      "text/plain": [
       "<Figure size 1008x288 with 1 Axes>"
      ]
     },
     "metadata": {
      "needs_background": "light"
     },
     "output_type": "display_data"
    }
   ],
   "source": [
    "ax = turnover_reduction.plot(kind='bar', figsize=(14, 4))\n",
    "ax.yaxis.set_major_formatter(mticker.PercentFormatter(1))\n",
    "ax.axhline(0, color='black', lw=1)\n",
    "ax.axvline(24.5, color='black', lw=1)\n",
    "ax.axvline(30.5, color='black', lw=1)\n",
    "ax.axvline(42.5, color='black', lw=1)\n",
    "ax.set_xlabel('Contract')\n",
    "ax.set_ylabel('Turnover reduction');"
   ]
  },
  {
   "cell_type": "markdown",
   "id": "62088188",
   "metadata": {
    "papermill": {
     "duration": 0.013895,
     "end_time": "2022-08-26T07:56:15.432015",
     "exception": false,
     "start_time": "2022-08-26T07:56:15.418120",
     "status": "completed"
    },
    "tags": []
   },
   "source": [
    "# Recent performance"
   ]
  },
  {
   "cell_type": "code",
   "execution_count": 28,
   "id": "794da2bb",
   "metadata": {
    "execution": {
     "iopub.execute_input": "2022-08-26T07:56:15.461947Z",
     "iopub.status.busy": "2022-08-26T07:56:15.461144Z",
     "iopub.status.idle": "2022-08-26T07:56:15.934616Z",
     "shell.execute_reply": "2022-08-26T07:56:15.933804Z"
    },
    "papermill": {
     "duration": 0.490429,
     "end_time": "2022-08-26T07:56:15.936434",
     "exception": false,
     "start_time": "2022-08-26T07:56:15.446005",
     "status": "completed"
    },
    "tags": []
   },
   "outputs": [
    {
     "data": {
      "image/png": "[encoded data removed]",
      "text/plain": [
       "<Figure size 576x324 with 1 Axes>"
      ]
     },
     "metadata": {
      "needs_background": "light"
     },
     "output_type": "display_data"
    }
   ],
   "source": [
    "fig, ax = plt.subplots(figsize=(8, 4.5))\n",
    "performance_comp.tail(252 * 2).pct_change().fillna(0).add(1).cumprod().plot(ax=ax, logy=True);\n",
    "ax.set_title('Trend-following portfolio')\n",
    "ax.set_ylabel('Cumulative returns');"
   ]
  },
  {
   "cell_type": "markdown",
   "id": "f01b1346",
   "metadata": {
    "papermill": {
     "duration": 0.014238,
     "end_time": "2022-08-26T07:56:15.965170",
     "exception": false,
     "start_time": "2022-08-26T07:56:15.950932",
     "status": "completed"
    },
    "tags": []
   },
   "source": [
    "# Reference\n",
    "\n",
    "- Baltas, N. and Kosowski, R., 2020. Demystifying time-series momentum strategies: Volatility estimators, trading rules and pairwise correlations. Market Momentum: Theory and Practice\", Wiley.\n",
    "- Moskowitz, T.J., Ooi, Y.H. and Pedersen, L.H., 2012. Time series momentum. Journal of financial economics, 104(2), pp.228-250."
   ]
  },
  {
   "cell_type": "code",
   "execution_count": 29,
   "id": "b37f2eb9",
   "metadata": {
    "ExecuteTime": {
     "end_time": "2020-08-30T21:20:32.431574Z",
     "start_time": "2020-08-30T21:20:32.429370Z"
    },
    "execution": {
     "iopub.execute_input": "2022-08-26T07:56:15.995814Z",
     "iopub.status.busy": "2022-08-26T07:56:15.995128Z",
     "iopub.status.idle": "2022-08-26T07:56:15.999296Z",
     "shell.execute_reply": "2022-08-26T07:56:15.998514Z"
    },
    "papermill": {
     "duration": 0.021516,
     "end_time": "2022-08-26T07:56:16.001088",
     "exception": false,
     "start_time": "2022-08-26T07:56:15.979572",
     "status": "completed"
    },
    "tags": []
   },
   "outputs": [
    {
     "name": "stdout",
     "output_type": "stream",
     "text": [
      "Updated: 26-Aug-2022 07:56\n"
     ]
    }
   ],
   "source": [
    "print(f'Updated: {datetime.utcnow():%d-%b-%Y %H:%M}')"
   ]
  }
 ],
 "metadata": {
  "hide_input": false,
  "kernelspec": {
   "display_name": "Python 3",
   "language": "python",
   "name": "python3"
  },
  "language_info": {
   "codemirror_mode": {
    "name": "ipython",
    "version": 3
   },
   "file_extension": ".py",
   "mimetype": "text/x-python",
   "name": "python",
   "nbconvert_exporter": "python",
   "pygments_lexer": "ipython3",
   "version": "3.9.6"
  },
  "nav_menu": {},
  "papermill": {
   "duration": 5372.577037,
   "end_time": "2022-08-26T07:56:19.044459",
   "environment_variables": {},
   "exception": null,
   "input_path": "notebooks/papermill/trend_following_baltas2020.ipynb",
   "output_path": "notebooks/trend_following_baltas2020.ipynb",
   "parameters": {},
   "start_time": "2022-08-26T06:26:46.467422",
   "version": "2.1.3"
  },
  "toc": {
   "base_numbering": 1,
   "nav_menu": {},
   "number_sections": true,
   "sideBar": true,
   "skip_h1_title": false,
   "title_cell": "Table of Contents",
   "title_sidebar": "Contents",
   "toc_cell": true,
   "toc_position": {
    "height": "calc(100% - 180px)",
    "left": "10px",
    "top": "150px",
    "width": "165px"
   },
   "toc_section_display": "block",
   "toc_window_display": true
  }
 },
 "nbformat": 4,
 "nbformat_minor": 5
}