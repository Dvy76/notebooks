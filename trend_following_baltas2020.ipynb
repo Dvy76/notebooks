{
 "cells": [
  {
   "cell_type": "markdown",
   "id": "bf9b00b5",
   "metadata": {
    "papermill": {
     "duration": 0.012847,
     "end_time": "2022-08-12T06:26:21.769237",
     "exception": false,
     "start_time": "2022-08-12T06:26:21.756390",
     "status": "completed"
    },
    "tags": []
   },
   "source": [
    "# Trend-following\n",
    "\n",
    "This notebook implements a few improvements that Baltas and Kosowski (2020) (BK2020, hereafter) propose to the time-series momentum strategy which originally appeared in Moskowitz et al (2012).\n",
    "\n",
    "Note that like other notebooks, all backtests are performed by using a private library called `vivace`."
   ]
  },
  {
   "cell_type": "code",
   "execution_count": 1,
   "id": "ab32e2d9",
   "metadata": {
    "ExecuteTime": {
     "end_time": "2020-08-30T21:08:49.524262Z",
     "start_time": "2020-08-30T21:08:48.720115Z"
    },
    "execution": {
     "iopub.execute_input": "2022-08-12T06:26:21.793363Z",
     "iopub.status.busy": "2022-08-12T06:26:21.792887Z",
     "iopub.status.idle": "2022-08-12T06:26:25.921031Z",
     "shell.execute_reply": "2022-08-12T06:26:25.920194Z"
    },
    "papermill": {
     "duration": 4.142151,
     "end_time": "2022-08-12T06:26:25.923180",
     "exception": false,
     "start_time": "2022-08-12T06:26:21.781029",
     "status": "completed"
    },
    "tags": []
   },
   "outputs": [],
   "source": [
    "%matplotlib inline\n",
    "from datetime import datetime\n",
    "import logging\n",
    "import warnings\n",
    "warnings.simplefilter(action='ignore', category=FutureWarning)\n",
    "\n",
    "import pandas as pd\n",
    "import matplotlib.pyplot as plt\n",
    "import matplotlib.ticker as mticker\n",
    "plt.style.use('bmh')\n",
    "\n",
    "from vivace.backtest import signal\n",
    "from vivace.backtest import processing\n",
    "from vivace.backtest.contract import all_futures_baltas2020\n",
    "from vivace.backtest.engine import BacktestEngine\n",
    "from vivace.backtest.enums import Strategy, Weighting, RealisedVolatility\n",
    "from vivace.backtest.stats import Performance"
   ]
  },
  {
   "cell_type": "markdown",
   "id": "7aa45cdc",
   "metadata": {
    "papermill": {
     "duration": 0.009946,
     "end_time": "2022-08-12T06:26:25.943676",
     "exception": false,
     "start_time": "2022-08-12T06:26:25.933730",
     "status": "completed"
    },
    "tags": []
   },
   "source": [
    "# Data"
   ]
  },
  {
   "cell_type": "code",
   "execution_count": 2,
   "id": "d2bca42c",
   "metadata": {
    "ExecuteTime": {
     "end_time": "2020-08-30T21:08:49.529214Z",
     "start_time": "2020-08-30T21:08:49.525465Z"
    },
    "execution": {
     "iopub.execute_input": "2022-08-12T06:26:25.965849Z",
     "iopub.status.busy": "2022-08-12T06:26:25.965299Z",
     "iopub.status.idle": "2022-08-12T06:26:25.975735Z",
     "shell.execute_reply": "2022-08-12T06:26:25.974944Z"
    },
    "papermill": {
     "duration": 0.025005,
     "end_time": "2022-08-12T06:26:25.978988",
     "exception": false,
     "start_time": "2022-08-12T06:26:25.953983",
     "status": "completed"
    },
    "tags": []
   },
   "outputs": [
    {
     "data": {
      "text/plain": [
       "array(['WTI Crude Oil', 'Brent Crude Oil', 'Heating Oil', 'Natural Gas',\n",
       "       'Gasoline', 'Copper', 'Gold', 'Palladium', 'Platinum', 'Silver',\n",
       "       'Feeder Cattle', 'Live Cattle', 'Lean Hog', 'Corn', 'Oats',\n",
       "       'Soybean Oil', 'Soybean Meal', 'Soybean', 'Wheat', 'Cocoa',\n",
       "       'Coffee', 'Cotton', 'Lumber', 'Orange Juice', 'Sugar',\n",
       "       'Australian Dollar', 'Canadian Dollar', 'Swiss Franc', 'Euro',\n",
       "       'British Pound', 'Japanese Yen', 'E-Mini Nasdaq 100',\n",
       "       'E-mini S&P 500', 'E-mini Russell 2000', 'FTSE 100', 'DAX',\n",
       "       'CAC 40', 'IBEX 35', 'AEX', 'Swiss Market Index', 'SPI 200',\n",
       "       'Topix', 'Hang Seng', 'US 2-year Treasury', 'US 5-year Treasury',\n",
       "       'US 10-year Treasury', 'US treasury Bond', 'Germany Schatz',\n",
       "       'Germany Bobl', 'Germany Bund', 'Germany Buxl', 'Gilt',\n",
       "       'Canada 10-year Treasury', 'JGB'], dtype=object)"
      ]
     },
     "execution_count": 2,
     "metadata": {},
     "output_type": "execute_result"
    }
   ],
   "source": [
    "all_futures_baltas2020['name'].values"
   ]
  },
  {
   "cell_type": "code",
   "execution_count": 3,
   "id": "276c04e8",
   "metadata": {
    "ExecuteTime": {
     "end_time": "2020-08-30T21:08:49.542477Z",
     "start_time": "2020-08-30T21:08:49.530487Z"
    },
    "execution": {
     "iopub.execute_input": "2022-08-12T06:26:26.068434Z",
     "iopub.status.busy": "2022-08-12T06:26:26.067592Z",
     "iopub.status.idle": "2022-08-12T06:26:26.073632Z",
     "shell.execute_reply": "2022-08-12T06:26:26.072696Z"
    },
    "papermill": {
     "duration": 0.080904,
     "end_time": "2022-08-12T06:26:26.075893",
     "exception": false,
     "start_time": "2022-08-12T06:26:25.994989",
     "status": "completed"
    },
    "tags": []
   },
   "outputs": [
    {
     "name": "stdout",
     "output_type": "stream",
     "text": [
      "54\n"
     ]
    }
   ],
   "source": [
    "print(len(all_futures_baltas2020))"
   ]
  },
  {
   "cell_type": "markdown",
   "id": "ac2980d7",
   "metadata": {
    "papermill": {
     "duration": 0.069792,
     "end_time": "2022-08-12T06:26:26.189158",
     "exception": false,
     "start_time": "2022-08-12T06:26:26.119366",
     "status": "completed"
    },
    "tags": []
   },
   "source": [
    "We try to use the same contract as the original paper where possible, resulting 54 futures contracts to analyse. The trading universe covers a wide range of asset classes and regions, and is made up of following instruments:\n",
    "- Equity index futures\n",
    "- Government bond futures\n",
    "- FX futures\n",
    "- Commodity futures\n",
    "\n",
    "where the same trend detection method is applied."
   ]
  },
  {
   "cell_type": "markdown",
   "id": "9ecff009",
   "metadata": {
    "papermill": {
     "duration": 0.039764,
     "end_time": "2022-08-12T06:26:26.282973",
     "exception": false,
     "start_time": "2022-08-12T06:26:26.243209",
     "status": "completed"
    },
    "tags": []
   },
   "source": [
    "# Performance\n"
   ]
  },
  {
   "cell_type": "markdown",
   "id": "6c6aa167",
   "metadata": {
    "papermill": {
     "duration": 0.026595,
     "end_time": "2022-08-12T06:26:26.328838",
     "exception": false,
     "start_time": "2022-08-12T06:26:26.302243",
     "status": "completed"
    },
    "tags": []
   },
   "source": [
    "## Moskowitz et al\n",
    "\n",
    "First we calculate the original trend-following portfolio with a more traditional close-to-close realised volatility estimator. Although Moskowitz et al uses the exponentially weighted standard deviation, BK2020 appears to compare against the rolling standard deviation."
   ]
  },
  {
   "cell_type": "code",
   "execution_count": 4,
   "id": "6bcb6b0a",
   "metadata": {
    "execution": {
     "iopub.execute_input": "2022-08-12T06:26:26.360113Z",
     "iopub.status.busy": "2022-08-12T06:26:26.359713Z",
     "iopub.status.idle": "2022-08-12T06:37:49.271252Z",
     "shell.execute_reply": "2022-08-12T06:37:49.270428Z"
    },
    "papermill": {
     "duration": 682.929779,
     "end_time": "2022-08-12T06:37:49.273386",
     "exception": false,
     "start_time": "2022-08-12T06:26:26.343607",
     "status": "completed"
    },
    "tags": []
   },
   "outputs": [],
   "source": [
    "engine_original = BacktestEngine(\n",
    "    strategy=Strategy.DELTA_ONE.value,\n",
    "    instrument=all_futures_baltas2020.index,\n",
    "    signal=signal.ParallelSignal([\n",
    "        signal.VolatilityScale(agg_method='rolling', window=21, ann_factor=261, \n",
    "                               target_volatility=0.4, signal_cap=0.95),\n",
    "        signal.TSMOMMoskowitz2012(post_process=processing.AsFreq(freq='m', method='pad'))\n",
    "    ], weighting='product'),\n",
    "    weighting=Weighting.EQUAL_WEIGHT.value,\n",
    "    log_level=logging.WARN,\n",
    ")\n",
    "engine_original.run()"
   ]
  },
  {
   "cell_type": "code",
   "execution_count": 5,
   "id": "215f9ec3",
   "metadata": {
    "execution": {
     "iopub.execute_input": "2022-08-12T06:37:49.297958Z",
     "iopub.status.busy": "2022-08-12T06:37:49.297643Z",
     "iopub.status.idle": "2022-08-12T06:39:19.332203Z",
     "shell.execute_reply": "2022-08-12T06:39:19.331337Z"
    },
    "papermill": {
     "duration": 90.049594,
     "end_time": "2022-08-12T06:39:19.334671",
     "exception": false,
     "start_time": "2022-08-12T06:37:49.285077",
     "status": "completed"
    },
    "tags": []
   },
   "outputs": [],
   "source": [
    "engine_original_eq = (engine_original.calculate_equity_curve(calculate_net=False, rebalance_freq='m')\n",
    "                      .rename('Trend-following portfolio (Moskowitz 2012)'))"
   ]
  },
  {
   "cell_type": "code",
   "execution_count": 6,
   "id": "0fedcfb0",
   "metadata": {
    "execution": {
     "iopub.execute_input": "2022-08-12T06:39:19.365215Z",
     "iopub.status.busy": "2022-08-12T06:39:19.364942Z",
     "iopub.status.idle": "2022-08-12T06:39:20.603541Z",
     "shell.execute_reply": "2022-08-12T06:39:20.602808Z"
    },
    "papermill": {
     "duration": 1.256096,
     "end_time": "2022-08-12T06:39:20.605810",
     "exception": false,
     "start_time": "2022-08-12T06:39:19.349714",
     "status": "completed"
    },
    "tags": []
   },
   "outputs": [
    {
     "data": {
      "image/png": "[encoded data removed]",
      "text/plain": [
       "<Figure size 576x324 with 1 Axes>"
      ]
     },
     "metadata": {
      "needs_background": "light"
     },
     "output_type": "display_data"
    }
   ],
   "source": [
    "fig, ax = plt.subplots(figsize=(8, 4.5))\n",
    "engine_original_eq.plot(ax=ax, logy=True)\n",
    "ax.set_title('Trend-following portfolio (Moskowitz 2012)')\n",
    "ax.set_ylabel('Cumulative returns');"
   ]
  },
  {
   "cell_type": "code",
   "execution_count": 7,
   "id": "81ead760",
   "metadata": {
    "execution": {
     "iopub.execute_input": "2022-08-12T06:39:20.640874Z",
     "iopub.status.busy": "2022-08-12T06:39:20.640376Z",
     "iopub.status.idle": "2022-08-12T06:39:20.745591Z",
     "shell.execute_reply": "2022-08-12T06:39:20.744786Z"
    },
    "papermill": {
     "duration": 0.126243,
     "end_time": "2022-08-12T06:39:20.747783",
     "exception": false,
     "start_time": "2022-08-12T06:39:20.621540",
     "status": "completed"
    },
    "tags": []
   },
   "outputs": [
    {
     "data": {
      "text/html": [
       "<div>\n",
       "<style scoped>\n",
       "    .dataframe tbody tr th:only-of-type {\n",
       "        vertical-align: middle;\n",
       "    }\n",
       "\n",
       "    .dataframe tbody tr th {\n",
       "        vertical-align: top;\n",
       "    }\n",
       "\n",
       "    .dataframe thead th {\n",
       "        text-align: right;\n",
       "    }\n",
       "</style>\n",
       "<table border=\"1\" class=\"dataframe\">\n",
       "  <thead>\n",
       "    <tr style=\"text-align: right;\">\n",
       "      <th></th>\n",
       "      <th>Trend-following portfolio (Moskowitz 2012)</th>\n",
       "    </tr>\n",
       "  </thead>\n",
       "  <tbody>\n",
       "    <tr>\n",
       "      <th>CAGR</th>\n",
       "      <td>0.147140</td>\n",
       "    </tr>\n",
       "    <tr>\n",
       "      <th>Annualised vol</th>\n",
       "      <td>0.124971</td>\n",
       "    </tr>\n",
       "    <tr>\n",
       "      <th>Sharpe ratio</th>\n",
       "      <td>1.177392</td>\n",
       "    </tr>\n",
       "    <tr>\n",
       "      <th>Max drawdown</th>\n",
       "      <td>0.259239</td>\n",
       "    </tr>\n",
       "    <tr>\n",
       "      <th>Calmar ratio</th>\n",
       "      <td>0.567583</td>\n",
       "    </tr>\n",
       "    <tr>\n",
       "      <th>Skewness</th>\n",
       "      <td>0.073326</td>\n",
       "    </tr>\n",
       "    <tr>\n",
       "      <th>Kurtosis</th>\n",
       "      <td>19.350704</td>\n",
       "    </tr>\n",
       "    <tr>\n",
       "      <th>Worst return</th>\n",
       "      <td>-0.126276</td>\n",
       "    </tr>\n",
       "    <tr>\n",
       "      <th>Worst 1d return</th>\n",
       "      <td>-0.126276</td>\n",
       "    </tr>\n",
       "    <tr>\n",
       "      <th>Worst 1w return</th>\n",
       "      <td>-0.107725</td>\n",
       "    </tr>\n",
       "    <tr>\n",
       "      <th>Worst 1m return</th>\n",
       "      <td>-0.152667</td>\n",
       "    </tr>\n",
       "  </tbody>\n",
       "</table>\n",
       "</div>"
      ],
      "text/plain": [
       "                 Trend-following portfolio (Moskowitz 2012)\n",
       "CAGR                                               0.147140\n",
       "Annualised vol                                     0.124971\n",
       "Sharpe ratio                                       1.177392\n",
       "Max drawdown                                       0.259239\n",
       "Calmar ratio                                       0.567583\n",
       "Skewness                                           0.073326\n",
       "Kurtosis                                          19.350704\n",
       "Worst return                                      -0.126276\n",
       "Worst 1d return                                   -0.126276\n",
       "Worst 1w return                                   -0.107725\n",
       "Worst 1m return                                   -0.152667"
      ]
     },
     "execution_count": 7,
     "metadata": {},
     "output_type": "execute_result"
    }
   ],
   "source": [
    "engine_original_eq.pipe(Performance).summary()"
   ]
  },
  {
   "cell_type": "markdown",
   "id": "1ddb14c2",
   "metadata": {
    "papermill": {
     "duration": 0.011176,
     "end_time": "2022-08-12T06:39:20.773660",
     "exception": false,
     "start_time": "2022-08-12T06:39:20.762484",
     "status": "completed"
    },
    "tags": []
   },
   "source": [
    "\n",
    "## Volatility estimator\n",
    "BK2020 proposes a few changes in order to enhance the original trend-following strategy Moskowitz et al reported. The first thing is to use a more sophisticated realised volatility estimators for volatility scaling. Moskowitz used the exponentially weighted standard deviation with close-to-close. On the other hand, BK2020 suggests to use Yang-Zhang estimator as it is much more efficient."
   ]
  },
  {
   "cell_type": "code",
   "execution_count": 8,
   "id": "7d233248",
   "metadata": {
    "ExecuteTime": {
     "end_time": "2020-08-30T21:18:24.661167Z",
     "start_time": "2020-08-30T21:08:49.544232Z"
    },
    "execution": {
     "iopub.execute_input": "2022-08-12T06:39:20.799415Z",
     "iopub.status.busy": "2022-08-12T06:39:20.798983Z",
     "iopub.status.idle": "2022-08-12T07:01:18.713227Z",
     "shell.execute_reply": "2022-08-12T07:01:18.712389Z"
    },
    "papermill": {
     "duration": 1317.927862,
     "end_time": "2022-08-12T07:01:18.715231",
     "exception": false,
     "start_time": "2022-08-12T06:39:20.787369",
     "status": "completed"
    },
    "tags": []
   },
   "outputs": [],
   "source": [
    "engine_vol = BacktestEngine(\n",
    "    strategy=Strategy.DELTA_ONE.value,\n",
    "    instrument=all_futures_baltas2020.index,\n",
    "    signal=signal.ParallelSignal([\n",
    "        signal.VolatilityScale(volatility_type=RealisedVolatility.YZ.value,\n",
    "                               agg_method='rolling', window=21, min_periods=10,\n",
    "                               target_volatility=0.4, signal_cap=0.95, ann_factor=261),\n",
    "        signal.TSMOMMoskowitz2012(post_process=processing.AsFreq(freq='m', method='pad'))\n",
    "    ], weighting='product'),\n",
    "    weighting=Weighting.EQUAL_WEIGHT.value,\n",
    "    log_level=logging.WARN,\n",
    ")\n",
    "engine_vol.run()"
   ]
  },
  {
   "cell_type": "code",
   "execution_count": 9,
   "id": "69aa8e62",
   "metadata": {
    "execution": {
     "iopub.execute_input": "2022-08-12T07:01:18.739089Z",
     "iopub.status.busy": "2022-08-12T07:01:18.738725Z",
     "iopub.status.idle": "2022-08-12T07:02:40.621967Z",
     "shell.execute_reply": "2022-08-12T07:02:40.621140Z"
    },
    "papermill": {
     "duration": 81.897534,
     "end_time": "2022-08-12T07:02:40.623896",
     "exception": false,
     "start_time": "2022-08-12T07:01:18.726362",
     "status": "completed"
    },
    "tags": []
   },
   "outputs": [],
   "source": [
    "engine_vol_eq = (engine_vol.calculate_equity_curve(calculate_net=False, rebalance_freq='m')\n",
    "                 .rename('Trend-following portfolio (YZ estimator)'))"
   ]
  },
  {
   "cell_type": "code",
   "execution_count": 10,
   "id": "c93dfbbf",
   "metadata": {
    "execution": {
     "iopub.execute_input": "2022-08-12T07:02:40.647703Z",
     "iopub.status.busy": "2022-08-12T07:02:40.647360Z",
     "iopub.status.idle": "2022-08-12T07:02:42.146894Z",
     "shell.execute_reply": "2022-08-12T07:02:42.146159Z"
    },
    "papermill": {
     "duration": 1.514238,
     "end_time": "2022-08-12T07:02:42.148644",
     "exception": false,
     "start_time": "2022-08-12T07:02:40.634406",
     "status": "completed"
    },
    "tags": []
   },
   "outputs": [
    {
     "data": {
      "image/png": "[encoded data removed]",
      "text/plain": [
       "<Figure size 576x324 with 1 Axes>"
      ]
     },
     "metadata": {
      "needs_background": "light"
     },
     "output_type": "display_data"
    }
   ],
   "source": [
    "fig, ax = plt.subplots(figsize=(8, 4.5))\n",
    "engine_vol_eq.plot(ax=ax, logy=True);\n",
    "ax.set_title('Trend-following portfolio (YZ estimator)')\n",
    "ax.set_ylabel('Cumulative returns');"
   ]
  },
  {
   "cell_type": "code",
   "execution_count": 11,
   "id": "7c9e121a",
   "metadata": {
    "execution": {
     "iopub.execute_input": "2022-08-12T07:02:42.305472Z",
     "iopub.status.busy": "2022-08-12T07:02:42.305200Z",
     "iopub.status.idle": "2022-08-12T07:02:42.386117Z",
     "shell.execute_reply": "2022-08-12T07:02:42.385451Z"
    },
    "papermill": {
     "duration": 0.176586,
     "end_time": "2022-08-12T07:02:42.387866",
     "exception": false,
     "start_time": "2022-08-12T07:02:42.211280",
     "status": "completed"
    },
    "tags": []
   },
   "outputs": [
    {
     "data": {
      "text/html": [
       "<div>\n",
       "<style scoped>\n",
       "    .dataframe tbody tr th:only-of-type {\n",
       "        vertical-align: middle;\n",
       "    }\n",
       "\n",
       "    .dataframe tbody tr th {\n",
       "        vertical-align: top;\n",
       "    }\n",
       "\n",
       "    .dataframe thead th {\n",
       "        text-align: right;\n",
       "    }\n",
       "</style>\n",
       "<table border=\"1\" class=\"dataframe\">\n",
       "  <thead>\n",
       "    <tr style=\"text-align: right;\">\n",
       "      <th></th>\n",
       "      <th>Trend-following portfolio (YZ estimator)</th>\n",
       "    </tr>\n",
       "  </thead>\n",
       "  <tbody>\n",
       "    <tr>\n",
       "      <th>CAGR</th>\n",
       "      <td>0.148795</td>\n",
       "    </tr>\n",
       "    <tr>\n",
       "      <th>Annualised vol</th>\n",
       "      <td>0.127260</td>\n",
       "    </tr>\n",
       "    <tr>\n",
       "      <th>Sharpe ratio</th>\n",
       "      <td>1.169219</td>\n",
       "    </tr>\n",
       "    <tr>\n",
       "      <th>Max drawdown</th>\n",
       "      <td>0.305877</td>\n",
       "    </tr>\n",
       "    <tr>\n",
       "      <th>Calmar ratio</th>\n",
       "      <td>0.486454</td>\n",
       "    </tr>\n",
       "    <tr>\n",
       "      <th>Skewness</th>\n",
       "      <td>0.280576</td>\n",
       "    </tr>\n",
       "    <tr>\n",
       "      <th>Kurtosis</th>\n",
       "      <td>22.133774</td>\n",
       "    </tr>\n",
       "    <tr>\n",
       "      <th>Worst return</th>\n",
       "      <td>-0.137043</td>\n",
       "    </tr>\n",
       "    <tr>\n",
       "      <th>Worst 1d return</th>\n",
       "      <td>-0.137043</td>\n",
       "    </tr>\n",
       "    <tr>\n",
       "      <th>Worst 1w return</th>\n",
       "      <td>-0.098542</td>\n",
       "    </tr>\n",
       "    <tr>\n",
       "      <th>Worst 1m return</th>\n",
       "      <td>-0.169177</td>\n",
       "    </tr>\n",
       "  </tbody>\n",
       "</table>\n",
       "</div>"
      ],
      "text/plain": [
       "                 Trend-following portfolio (YZ estimator)\n",
       "CAGR                                             0.148795\n",
       "Annualised vol                                   0.127260\n",
       "Sharpe ratio                                     1.169219\n",
       "Max drawdown                                     0.305877\n",
       "Calmar ratio                                     0.486454\n",
       "Skewness                                         0.280576\n",
       "Kurtosis                                        22.133774\n",
       "Worst return                                    -0.137043\n",
       "Worst 1d return                                 -0.137043\n",
       "Worst 1w return                                 -0.098542\n",
       "Worst 1m return                                 -0.169177"
      ]
     },
     "execution_count": 11,
     "metadata": {},
     "output_type": "execute_result"
    }
   ],
   "source": [
    "engine_vol_eq.pipe(Performance).summary()"
   ]
  },
  {
   "cell_type": "markdown",
   "id": "feb39f5e",
   "metadata": {
    "papermill": {
     "duration": 0.026373,
     "end_time": "2022-08-12T07:02:42.502742",
     "exception": false,
     "start_time": "2022-08-12T07:02:42.476369",
     "status": "completed"
    },
    "tags": []
   },
   "source": [
    "## TREND signal\n",
    "\n",
    "Another improvement BK2020 proposes is to use a continuous signal rather than a binary one in order to reduce the turnover when signals are weak. Specifically they used the t-values with the Newey-West standard error as the signal. They further capped and floored the signal between -1 and +1 to avoid extreme positions.\n",
    "\n",
    "`statsmodels`'s `OLS` class provides a method to compute the Newey-West standard error. https://www.statsmodels.org/stable/generated/statsmodels.regression.linear_model.OLS.html"
   ]
  },
  {
   "cell_type": "code",
   "execution_count": 12,
   "id": "70ccf1aa",
   "metadata": {
    "execution": {
     "iopub.execute_input": "2022-08-12T07:02:42.529382Z",
     "iopub.status.busy": "2022-08-12T07:02:42.528911Z",
     "iopub.status.idle": "2022-08-12T07:20:25.084438Z",
     "shell.execute_reply": "2022-08-12T07:20:25.083678Z"
    },
    "papermill": {
     "duration": 1062.572103,
     "end_time": "2022-08-12T07:20:25.086556",
     "exception": false,
     "start_time": "2022-08-12T07:02:42.514453",
     "status": "completed"
    },
    "tags": []
   },
   "outputs": [],
   "source": [
    "engine_trend = BacktestEngine(\n",
    "    strategy=Strategy.DELTA_ONE.value,\n",
    "    instrument=all_futures_baltas2020.index,\n",
    "    signal=signal.ParallelSignal([\n",
    "        signal.VolatilityScale(agg_method='rolling', window=21, ann_factor=261, \n",
    "                               target_volatility=0.4, signal_cap=0.95),\n",
    "        signal.TSMOMBaltas2020()\n",
    "    ], weighting='product'),\n",
    "    weighting=Weighting.EQUAL_WEIGHT.value,\n",
    "    log_level=logging.WARN,\n",
    ")\n",
    "engine_trend.run()"
   ]
  },
  {
   "cell_type": "code",
   "execution_count": 13,
   "id": "35f2bd3d",
   "metadata": {
    "execution": {
     "iopub.execute_input": "2022-08-12T07:20:25.111137Z",
     "iopub.status.busy": "2022-08-12T07:20:25.110866Z",
     "iopub.status.idle": "2022-08-12T07:21:51.778482Z",
     "shell.execute_reply": "2022-08-12T07:21:51.777765Z"
    },
    "papermill": {
     "duration": 86.682064,
     "end_time": "2022-08-12T07:21:51.780602",
     "exception": false,
     "start_time": "2022-08-12T07:20:25.098538",
     "status": "completed"
    },
    "tags": []
   },
   "outputs": [],
   "source": [
    "engine_trend_eq = (engine_trend.calculate_equity_curve(calculate_net=False, rebalance_freq='m')\n",
    "                   .rename('Trend-following portfolio (TREND signal)'))"
   ]
  },
  {
   "cell_type": "code",
   "execution_count": 14,
   "id": "4ed66bf6",
   "metadata": {
    "execution": {
     "iopub.execute_input": "2022-08-12T07:21:51.807759Z",
     "iopub.status.busy": "2022-08-12T07:21:51.807411Z",
     "iopub.status.idle": "2022-08-12T07:21:52.383152Z",
     "shell.execute_reply": "2022-08-12T07:21:52.382437Z"
    },
    "papermill": {
     "duration": 0.591107,
     "end_time": "2022-08-12T07:21:52.384786",
     "exception": false,
     "start_time": "2022-08-12T07:21:51.793679",
     "status": "completed"
    },
    "tags": []
   },
   "outputs": [
    {
     "data": {
      "image/png": "[encoded data removed]",
      "text/plain": [
       "<Figure size 576x324 with 1 Axes>"
      ]
     },
     "metadata": {
      "needs_background": "light"
     },
     "output_type": "display_data"
    }
   ],
   "source": [
    "fig, ax = plt.subplots(figsize=(8, 4.5))\n",
    "engine_trend_eq.plot(ax=ax, logy=True);\n",
    "ax.set_title('Trend-following portfolio (TREND signal)')\n",
    "ax.set_ylabel('Cumulative returns');"
   ]
  },
  {
   "cell_type": "code",
   "execution_count": 15,
   "id": "7e75b523",
   "metadata": {
    "execution": {
     "iopub.execute_input": "2022-08-12T07:21:52.408725Z",
     "iopub.status.busy": "2022-08-12T07:21:52.408462Z",
     "iopub.status.idle": "2022-08-12T07:21:52.495440Z",
     "shell.execute_reply": "2022-08-12T07:21:52.494722Z"
    },
    "papermill": {
     "duration": 0.101174,
     "end_time": "2022-08-12T07:21:52.497264",
     "exception": false,
     "start_time": "2022-08-12T07:21:52.396090",
     "status": "completed"
    },
    "tags": []
   },
   "outputs": [
    {
     "data": {
      "text/html": [
       "<div>\n",
       "<style scoped>\n",
       "    .dataframe tbody tr th:only-of-type {\n",
       "        vertical-align: middle;\n",
       "    }\n",
       "\n",
       "    .dataframe tbody tr th {\n",
       "        vertical-align: top;\n",
       "    }\n",
       "\n",
       "    .dataframe thead th {\n",
       "        text-align: right;\n",
       "    }\n",
       "</style>\n",
       "<table border=\"1\" class=\"dataframe\">\n",
       "  <thead>\n",
       "    <tr style=\"text-align: right;\">\n",
       "      <th></th>\n",
       "      <th>Trend-following portfolio (TREND signal)</th>\n",
       "    </tr>\n",
       "  </thead>\n",
       "  <tbody>\n",
       "    <tr>\n",
       "      <th>CAGR</th>\n",
       "      <td>0.139273</td>\n",
       "    </tr>\n",
       "    <tr>\n",
       "      <th>Annualised vol</th>\n",
       "      <td>0.107935</td>\n",
       "    </tr>\n",
       "    <tr>\n",
       "      <th>Sharpe ratio</th>\n",
       "      <td>1.290345</td>\n",
       "    </tr>\n",
       "    <tr>\n",
       "      <th>Max drawdown</th>\n",
       "      <td>0.294584</td>\n",
       "    </tr>\n",
       "    <tr>\n",
       "      <th>Calmar ratio</th>\n",
       "      <td>0.472780</td>\n",
       "    </tr>\n",
       "    <tr>\n",
       "      <th>Skewness</th>\n",
       "      <td>0.159289</td>\n",
       "    </tr>\n",
       "    <tr>\n",
       "      <th>Kurtosis</th>\n",
       "      <td>28.015193</td>\n",
       "    </tr>\n",
       "    <tr>\n",
       "      <th>Worst return</th>\n",
       "      <td>-0.121269</td>\n",
       "    </tr>\n",
       "    <tr>\n",
       "      <th>Worst 1d return</th>\n",
       "      <td>-0.121269</td>\n",
       "    </tr>\n",
       "    <tr>\n",
       "      <th>Worst 1w return</th>\n",
       "      <td>-0.110077</td>\n",
       "    </tr>\n",
       "    <tr>\n",
       "      <th>Worst 1m return</th>\n",
       "      <td>-0.171789</td>\n",
       "    </tr>\n",
       "  </tbody>\n",
       "</table>\n",
       "</div>"
      ],
      "text/plain": [
       "                 Trend-following portfolio (TREND signal)\n",
       "CAGR                                             0.139273\n",
       "Annualised vol                                   0.107935\n",
       "Sharpe ratio                                     1.290345\n",
       "Max drawdown                                     0.294584\n",
       "Calmar ratio                                     0.472780\n",
       "Skewness                                         0.159289\n",
       "Kurtosis                                        28.015193\n",
       "Worst return                                    -0.121269\n",
       "Worst 1d return                                 -0.121269\n",
       "Worst 1w return                                 -0.110077\n",
       "Worst 1m return                                 -0.171789"
      ]
     },
     "execution_count": 15,
     "metadata": {},
     "output_type": "execute_result"
    }
   ],
   "source": [
    "engine_trend_eq.pipe(Performance).summary()"
   ]
  },
  {
   "cell_type": "markdown",
   "id": "e3aceb78",
   "metadata": {
    "papermill": {
     "duration": 0.015883,
     "end_time": "2022-08-12T07:21:52.529212",
     "exception": false,
     "start_time": "2022-08-12T07:21:52.513329",
     "status": "completed"
    },
    "tags": []
   },
   "source": [
    "## Combined\n",
    "\n",
    "Finally we run a backtest by using both the Yang-Zhang volatility estimator and the TREND signal."
   ]
  },
  {
   "cell_type": "code",
   "execution_count": 16,
   "id": "03fa1911",
   "metadata": {
    "execution": {
     "iopub.execute_input": "2022-08-12T07:21:52.562775Z",
     "iopub.status.busy": "2022-08-12T07:21:52.562506Z",
     "iopub.status.idle": "2022-08-12T07:48:20.063361Z",
     "shell.execute_reply": "2022-08-12T07:48:20.062473Z"
    },
    "papermill": {
     "duration": 1587.520491,
     "end_time": "2022-08-12T07:48:20.066021",
     "exception": false,
     "start_time": "2022-08-12T07:21:52.545530",
     "status": "completed"
    },
    "tags": []
   },
   "outputs": [],
   "source": [
    "engine_combined = BacktestEngine(\n",
    "    strategy=Strategy.DELTA_ONE.value,\n",
    "    instrument=all_futures_baltas2020.index,\n",
    "    signal=signal.ParallelSignal([\n",
    "        signal.VolatilityScale(volatility_type=RealisedVolatility.YZ.value,\n",
    "                               agg_method='rolling', window=21, min_periods=10,\n",
    "                               target_volatility=0.4, signal_cap=0.95, ann_factor=261),\n",
    "        signal.TSMOMBaltas2020()\n",
    "    ], weighting='product'),\n",
    "    weighting=Weighting.EQUAL_WEIGHT.value,\n",
    "    log_level=logging.WARN,\n",
    ")\n",
    "engine_combined.run()"
   ]
  },
  {
   "cell_type": "code",
   "execution_count": 17,
   "id": "18240ebd",
   "metadata": {
    "execution": {
     "iopub.execute_input": "2022-08-12T07:48:20.103976Z",
     "iopub.status.busy": "2022-08-12T07:48:20.103713Z",
     "iopub.status.idle": "2022-08-12T07:49:40.265672Z",
     "shell.execute_reply": "2022-08-12T07:49:40.264904Z"
    },
    "papermill": {
     "duration": 80.18352,
     "end_time": "2022-08-12T07:49:40.268561",
     "exception": false,
     "start_time": "2022-08-12T07:48:20.085041",
     "status": "completed"
    },
    "tags": []
   },
   "outputs": [],
   "source": [
    "engine_combined_eq = (engine_combined.calculate_equity_curve(calculate_net=False, rebalance_freq='m')\n",
    "                      .rename('Trend-following portfolio (YZ estimator + TREND signal)'))"
   ]
  },
  {
   "cell_type": "code",
   "execution_count": 18,
   "id": "90a030ef",
   "metadata": {
    "execution": {
     "iopub.execute_input": "2022-08-12T07:49:40.305689Z",
     "iopub.status.busy": "2022-08-12T07:49:40.305361Z",
     "iopub.status.idle": "2022-08-12T07:49:40.874585Z",
     "shell.execute_reply": "2022-08-12T07:49:40.873954Z"
    },
    "papermill": {
     "duration": 0.590273,
     "end_time": "2022-08-12T07:49:40.876902",
     "exception": false,
     "start_time": "2022-08-12T07:49:40.286629",
     "status": "completed"
    },
    "tags": []
   },
   "outputs": [
    {
     "data": {
      "image/png": "[encoded data removed]",
      "text/plain": [
       "<Figure size 576x324 with 1 Axes>"
      ]
     },
     "metadata": {
      "needs_background": "light"
     },
     "output_type": "display_data"
    }
   ],
   "source": [
    "fig, ax = plt.subplots(figsize=(8, 4.5))\n",
    "engine_combined_eq.plot(ax=ax, logy=True)\n",
    "ax.set_title('Trend-following portfolio (YZ estimator + TREND signal)')\n",
    "ax.set_ylabel('Cumulative returns');"
   ]
  },
  {
   "cell_type": "code",
   "execution_count": 19,
   "id": "ef97cb24",
   "metadata": {
    "execution": {
     "iopub.execute_input": "2022-08-12T07:49:40.915009Z",
     "iopub.status.busy": "2022-08-12T07:49:40.914737Z",
     "iopub.status.idle": "2022-08-12T07:49:40.992938Z",
     "shell.execute_reply": "2022-08-12T07:49:40.992220Z"
    },
    "papermill": {
     "duration": 0.099288,
     "end_time": "2022-08-12T07:49:40.994521",
     "exception": false,
     "start_time": "2022-08-12T07:49:40.895233",
     "status": "completed"
    },
    "tags": []
   },
   "outputs": [
    {
     "data": {
      "text/html": [
       "<div>\n",
       "<style scoped>\n",
       "    .dataframe tbody tr th:only-of-type {\n",
       "        vertical-align: middle;\n",
       "    }\n",
       "\n",
       "    .dataframe tbody tr th {\n",
       "        vertical-align: top;\n",
       "    }\n",
       "\n",
       "    .dataframe thead th {\n",
       "        text-align: right;\n",
       "    }\n",
       "</style>\n",
       "<table border=\"1\" class=\"dataframe\">\n",
       "  <thead>\n",
       "    <tr style=\"text-align: right;\">\n",
       "      <th></th>\n",
       "      <th>Trend-following portfolio (YZ estimator + TREND signal)</th>\n",
       "    </tr>\n",
       "  </thead>\n",
       "  <tbody>\n",
       "    <tr>\n",
       "      <th>CAGR</th>\n",
       "      <td>0.139724</td>\n",
       "    </tr>\n",
       "    <tr>\n",
       "      <th>Annualised vol</th>\n",
       "      <td>0.110670</td>\n",
       "    </tr>\n",
       "    <tr>\n",
       "      <th>Sharpe ratio</th>\n",
       "      <td>1.262534</td>\n",
       "    </tr>\n",
       "    <tr>\n",
       "      <th>Max drawdown</th>\n",
       "      <td>0.313945</td>\n",
       "    </tr>\n",
       "    <tr>\n",
       "      <th>Calmar ratio</th>\n",
       "      <td>0.445060</td>\n",
       "    </tr>\n",
       "    <tr>\n",
       "      <th>Skewness</th>\n",
       "      <td>0.292848</td>\n",
       "    </tr>\n",
       "    <tr>\n",
       "      <th>Kurtosis</th>\n",
       "      <td>32.537405</td>\n",
       "    </tr>\n",
       "    <tr>\n",
       "      <th>Worst return</th>\n",
       "      <td>-0.130152</td>\n",
       "    </tr>\n",
       "    <tr>\n",
       "      <th>Worst 1d return</th>\n",
       "      <td>-0.130152</td>\n",
       "    </tr>\n",
       "    <tr>\n",
       "      <th>Worst 1w return</th>\n",
       "      <td>-0.112097</td>\n",
       "    </tr>\n",
       "    <tr>\n",
       "      <th>Worst 1m return</th>\n",
       "      <td>-0.186272</td>\n",
       "    </tr>\n",
       "  </tbody>\n",
       "</table>\n",
       "</div>"
      ],
      "text/plain": [
       "                 Trend-following portfolio (YZ estimator + TREND signal)\n",
       "CAGR                                                      0.139724      \n",
       "Annualised vol                                            0.110670      \n",
       "Sharpe ratio                                              1.262534      \n",
       "Max drawdown                                              0.313945      \n",
       "Calmar ratio                                              0.445060      \n",
       "Skewness                                                  0.292848      \n",
       "Kurtosis                                                 32.537405      \n",
       "Worst return                                             -0.130152      \n",
       "Worst 1d return                                          -0.130152      \n",
       "Worst 1w return                                          -0.112097      \n",
       "Worst 1m return                                          -0.186272      "
      ]
     },
     "execution_count": 19,
     "metadata": {},
     "output_type": "execute_result"
    }
   ],
   "source": [
    "engine_combined_eq.pipe(Performance).summary()"
   ]
  },
  {
   "cell_type": "markdown",
   "id": "cd8e1f25",
   "metadata": {
    "papermill": {
     "duration": 0.012173,
     "end_time": "2022-08-12T07:49:41.018625",
     "exception": false,
     "start_time": "2022-08-12T07:49:41.006452",
     "status": "completed"
    },
    "tags": []
   },
   "source": [
    "# Comparison\n",
    "\n",
    "In this section we compare the above 4 backtests."
   ]
  },
  {
   "cell_type": "markdown",
   "id": "d80d7f84",
   "metadata": {
    "papermill": {
     "duration": 0.012861,
     "end_time": "2022-08-12T07:49:41.044392",
     "exception": false,
     "start_time": "2022-08-12T07:49:41.031531",
     "status": "completed"
    },
    "tags": []
   },
   "source": [
    "## Performance\n",
    "\n",
    "As reported in BK2020, using the YZ estimator and TREND signal does not alter the performance characteristics. Rather, the TREND signal somewhat improves the Sharpe ratio. Also the TREND signal lowers the annualised volatility from 12.5% to 10.8% with the close-to-close realised volatility."
   ]
  },
  {
   "cell_type": "code",
   "execution_count": 20,
   "id": "265874cd",
   "metadata": {
    "execution": {
     "iopub.execute_input": "2022-08-12T07:49:41.069797Z",
     "iopub.status.busy": "2022-08-12T07:49:41.069529Z",
     "iopub.status.idle": "2022-08-12T07:49:41.082667Z",
     "shell.execute_reply": "2022-08-12T07:49:41.081900Z"
    },
    "papermill": {
     "duration": 0.027945,
     "end_time": "2022-08-12T07:49:41.084433",
     "exception": false,
     "start_time": "2022-08-12T07:49:41.056488",
     "status": "completed"
    },
    "tags": []
   },
   "outputs": [],
   "source": [
    "performance_comp = pd.concat((engine_original_eq, engine_vol_eq, \n",
    "                              engine_trend_eq, engine_combined_eq), axis=1)"
   ]
  },
  {
   "cell_type": "code",
   "execution_count": 21,
   "id": "18f89d10",
   "metadata": {
    "execution": {
     "iopub.execute_input": "2022-08-12T07:49:41.133656Z",
     "iopub.status.busy": "2022-08-12T07:49:41.133399Z",
     "iopub.status.idle": "2022-08-12T07:49:41.893407Z",
     "shell.execute_reply": "2022-08-12T07:49:41.892697Z"
    },
    "papermill": {
     "duration": 0.798518,
     "end_time": "2022-08-12T07:49:41.894984",
     "exception": false,
     "start_time": "2022-08-12T07:49:41.096466",
     "status": "completed"
    },
    "tags": []
   },
   "outputs": [
    {
     "data": {
      "image/png": "[encoded data removed]",
      "text/plain": [
       "<Figure size 576x324 with 1 Axes>"
      ]
     },
     "metadata": {
      "needs_background": "light"
     },
     "output_type": "display_data"
    }
   ],
   "source": [
    "fig, ax = plt.subplots(figsize=(8, 4.5))\n",
    "performance_comp.plot(ax=ax, logy=True);\n",
    "ax.set_title('Trend-following portfolio')\n",
    "ax.set_ylabel('Cumulative returns');"
   ]
  },
  {
   "cell_type": "code",
   "execution_count": 22,
   "id": "01710cdd",
   "metadata": {
    "execution": {
     "iopub.execute_input": "2022-08-12T07:49:41.921229Z",
     "iopub.status.busy": "2022-08-12T07:49:41.920952Z",
     "iopub.status.idle": "2022-08-12T07:49:42.022650Z",
     "shell.execute_reply": "2022-08-12T07:49:42.021988Z"
    },
    "papermill": {
     "duration": 0.116618,
     "end_time": "2022-08-12T07:49:42.024217",
     "exception": false,
     "start_time": "2022-08-12T07:49:41.907599",
     "status": "completed"
    },
    "tags": []
   },
   "outputs": [
    {
     "data": {
      "text/html": [
       "<div>\n",
       "<style scoped>\n",
       "    .dataframe tbody tr th:only-of-type {\n",
       "        vertical-align: middle;\n",
       "    }\n",
       "\n",
       "    .dataframe tbody tr th {\n",
       "        vertical-align: top;\n",
       "    }\n",
       "\n",
       "    .dataframe thead th {\n",
       "        text-align: right;\n",
       "    }\n",
       "</style>\n",
       "<table border=\"1\" class=\"dataframe\">\n",
       "  <thead>\n",
       "    <tr style=\"text-align: right;\">\n",
       "      <th></th>\n",
       "      <th>Trend-following portfolio (Moskowitz 2012)</th>\n",
       "      <th>Trend-following portfolio (YZ estimator)</th>\n",
       "      <th>Trend-following portfolio (TREND signal)</th>\n",
       "      <th>Trend-following portfolio (YZ estimator + TREND signal)</th>\n",
       "    </tr>\n",
       "  </thead>\n",
       "  <tbody>\n",
       "    <tr>\n",
       "      <th>CAGR</th>\n",
       "      <td>0.147140</td>\n",
       "      <td>0.148429</td>\n",
       "      <td>0.139273</td>\n",
       "      <td>0.139381</td>\n",
       "    </tr>\n",
       "    <tr>\n",
       "      <th>Annualised vol</th>\n",
       "      <td>0.124971</td>\n",
       "      <td>0.127105</td>\n",
       "      <td>0.107935</td>\n",
       "      <td>0.110535</td>\n",
       "    </tr>\n",
       "    <tr>\n",
       "      <th>Sharpe ratio</th>\n",
       "      <td>1.177392</td>\n",
       "      <td>1.167772</td>\n",
       "      <td>1.290345</td>\n",
       "      <td>1.260970</td>\n",
       "    </tr>\n",
       "    <tr>\n",
       "      <th>Max drawdown</th>\n",
       "      <td>0.259239</td>\n",
       "      <td>0.305877</td>\n",
       "      <td>0.294584</td>\n",
       "      <td>0.313945</td>\n",
       "    </tr>\n",
       "    <tr>\n",
       "      <th>Calmar ratio</th>\n",
       "      <td>0.567583</td>\n",
       "      <td>0.485258</td>\n",
       "      <td>0.472780</td>\n",
       "      <td>0.443966</td>\n",
       "    </tr>\n",
       "    <tr>\n",
       "      <th>Skewness</th>\n",
       "      <td>0.073326</td>\n",
       "      <td>0.281488</td>\n",
       "      <td>0.159289</td>\n",
       "      <td>0.293812</td>\n",
       "    </tr>\n",
       "    <tr>\n",
       "      <th>Kurtosis</th>\n",
       "      <td>19.350704</td>\n",
       "      <td>22.195155</td>\n",
       "      <td>28.015193</td>\n",
       "      <td>32.623976</td>\n",
       "    </tr>\n",
       "    <tr>\n",
       "      <th>Worst return</th>\n",
       "      <td>-0.126276</td>\n",
       "      <td>-0.137043</td>\n",
       "      <td>-0.121269</td>\n",
       "      <td>-0.130152</td>\n",
       "    </tr>\n",
       "    <tr>\n",
       "      <th>Worst 1d return</th>\n",
       "      <td>-0.126276</td>\n",
       "      <td>-0.137043</td>\n",
       "      <td>-0.121269</td>\n",
       "      <td>-0.130152</td>\n",
       "    </tr>\n",
       "    <tr>\n",
       "      <th>Worst 1w return</th>\n",
       "      <td>-0.107725</td>\n",
       "      <td>-0.098542</td>\n",
       "      <td>-0.110077</td>\n",
       "      <td>-0.112097</td>\n",
       "    </tr>\n",
       "    <tr>\n",
       "      <th>Worst 1m return</th>\n",
       "      <td>-0.152667</td>\n",
       "      <td>-0.169177</td>\n",
       "      <td>-0.171789</td>\n",
       "      <td>-0.186272</td>\n",
       "    </tr>\n",
       "  </tbody>\n",
       "</table>\n",
       "</div>"
      ],
      "text/plain": [
       "                 Trend-following portfolio (Moskowitz 2012)  \\\n",
       "CAGR                                               0.147140   \n",
       "Annualised vol                                     0.124971   \n",
       "Sharpe ratio                                       1.177392   \n",
       "Max drawdown                                       0.259239   \n",
       "Calmar ratio                                       0.567583   \n",
       "Skewness                                           0.073326   \n",
       "Kurtosis                                          19.350704   \n",
       "Worst return                                      -0.126276   \n",
       "Worst 1d return                                   -0.126276   \n",
       "Worst 1w return                                   -0.107725   \n",
       "Worst 1m return                                   -0.152667   \n",
       "\n",
       "                 Trend-following portfolio (YZ estimator)  \\\n",
       "CAGR                                             0.148429   \n",
       "Annualised vol                                   0.127105   \n",
       "Sharpe ratio                                     1.167772   \n",
       "Max drawdown                                     0.305877   \n",
       "Calmar ratio                                     0.485258   \n",
       "Skewness                                         0.281488   \n",
       "Kurtosis                                        22.195155   \n",
       "Worst return                                    -0.137043   \n",
       "Worst 1d return                                 -0.137043   \n",
       "Worst 1w return                                 -0.098542   \n",
       "Worst 1m return                                 -0.169177   \n",
       "\n",
       "                 Trend-following portfolio (TREND signal)  \\\n",
       "CAGR                                             0.139273   \n",
       "Annualised vol                                   0.107935   \n",
       "Sharpe ratio                                     1.290345   \n",
       "Max drawdown                                     0.294584   \n",
       "Calmar ratio                                     0.472780   \n",
       "Skewness                                         0.159289   \n",
       "Kurtosis                                        28.015193   \n",
       "Worst return                                    -0.121269   \n",
       "Worst 1d return                                 -0.121269   \n",
       "Worst 1w return                                 -0.110077   \n",
       "Worst 1m return                                 -0.171789   \n",
       "\n",
       "                 Trend-following portfolio (YZ estimator + TREND signal)  \n",
       "CAGR                                                      0.139381        \n",
       "Annualised vol                                            0.110535        \n",
       "Sharpe ratio                                              1.260970        \n",
       "Max drawdown                                              0.313945        \n",
       "Calmar ratio                                              0.443966        \n",
       "Skewness                                                  0.293812        \n",
       "Kurtosis                                                 32.623976        \n",
       "Worst return                                             -0.130152        \n",
       "Worst 1d return                                          -0.130152        \n",
       "Worst 1w return                                          -0.112097        \n",
       "Worst 1m return                                          -0.186272        "
      ]
     },
     "execution_count": 22,
     "metadata": {},
     "output_type": "execute_result"
    }
   ],
   "source": [
    "performance_comp.pipe(Performance).summary()"
   ]
  },
  {
   "cell_type": "markdown",
   "id": "1ddc5013",
   "metadata": {
    "papermill": {
     "duration": 0.012619,
     "end_time": "2022-08-12T07:49:42.049579",
     "exception": false,
     "start_time": "2022-08-12T07:49:42.036960",
     "status": "completed"
    },
    "tags": []
   },
   "source": [
    "## Turnover reduction\n",
    "\n",
    "Again, as reported in BK2020, both enhancements reduce the turnover significantly while not affecting the performance. The chart below shows the reduction in turnover for each futures contract. By utilising the YZ realised volatility and the TREND signal, overall the turnover is reduced by more than 30%."
   ]
  },
  {
   "cell_type": "code",
   "execution_count": 23,
   "id": "edcc3a5a",
   "metadata": {
    "execution": {
     "iopub.execute_input": "2022-08-12T07:49:42.076197Z",
     "iopub.status.busy": "2022-08-12T07:49:42.075911Z",
     "iopub.status.idle": "2022-08-12T07:54:48.214361Z",
     "shell.execute_reply": "2022-08-12T07:54:48.213635Z"
    },
    "papermill": {
     "duration": 306.15397,
     "end_time": "2022-08-12T07:54:48.216199",
     "exception": false,
     "start_time": "2022-08-12T07:49:42.062229",
     "status": "completed"
    },
    "tags": []
   },
   "outputs": [],
   "source": [
    "engine_original_pos = engine_original.get_position_by_instrument()\n",
    "engine_vol_pos = engine_vol.get_position_by_instrument()\n",
    "engine_trend_pos = engine_trend.get_position_by_instrument()\n",
    "engine_combined_pos = engine_combined.get_position_by_instrument()"
   ]
  },
  {
   "cell_type": "code",
   "execution_count": 24,
   "id": "39a18017",
   "metadata": {
    "execution": {
     "iopub.execute_input": "2022-08-12T07:54:48.243815Z",
     "iopub.status.busy": "2022-08-12T07:54:48.243501Z",
     "iopub.status.idle": "2022-08-12T07:54:48.275935Z",
     "shell.execute_reply": "2022-08-12T07:54:48.275099Z"
    },
    "papermill": {
     "duration": 0.04857,
     "end_time": "2022-08-12T07:54:48.277830",
     "exception": false,
     "start_time": "2022-08-12T07:54:48.229260",
     "status": "completed"
    },
    "tags": []
   },
   "outputs": [],
   "source": [
    "engine_original_turnover = (engine_original_pos.diff().abs().mean().mul(261)\n",
    "                            .rename('Trend-following portfolio (Moskowitz 2012)'))\n",
    "engine_vol_turnover = (engine_vol_pos.diff().abs().mean().mul(261)\n",
    "                       .rename('Trend-following portfolio (YZ estimator)'))\n",
    "engine_trend_turnover = (engine_trend_pos.diff().abs().mean().mul(261)\n",
    "                         .rename('Trend-following portfolio (TREND signal)'))\n",
    "engine_combined_turnover = (engine_combined_pos.diff().abs().mean().mul(261)\n",
    "                            .rename('Trend-following portfolio (YZ estimator + TREND signal)'))"
   ]
  },
  {
   "cell_type": "code",
   "execution_count": 25,
   "id": "e2cc0c95",
   "metadata": {
    "execution": {
     "iopub.execute_input": "2022-08-12T07:54:48.305036Z",
     "iopub.status.busy": "2022-08-12T07:54:48.304676Z",
     "iopub.status.idle": "2022-08-12T07:54:48.313738Z",
     "shell.execute_reply": "2022-08-12T07:54:48.313017Z"
    },
    "papermill": {
     "duration": 0.024788,
     "end_time": "2022-08-12T07:54:48.315385",
     "exception": false,
     "start_time": "2022-08-12T07:54:48.290597",
     "status": "completed"
    },
    "tags": []
   },
   "outputs": [],
   "source": [
    "turnover_reduction = (\n",
    "    pd.concat((engine_vol_turnover, engine_trend_turnover, engine_combined_turnover), axis=1)\n",
    "    .div(engine_original_turnover, axis=0)\n",
    "    .sub(1)\n",
    "    .reindex(index=all_futures_baltas2020.index)\n",
    "    .rename(index=all_futures_baltas2020['name'])\n",
    ")"
   ]
  },
  {
   "cell_type": "code",
   "execution_count": 26,
   "id": "0c2228e5",
   "metadata": {
    "execution": {
     "iopub.execute_input": "2022-08-12T07:54:48.342590Z",
     "iopub.status.busy": "2022-08-12T07:54:48.342230Z",
     "iopub.status.idle": "2022-08-12T07:54:48.349533Z",
     "shell.execute_reply": "2022-08-12T07:54:48.348758Z"
    },
    "papermill": {
     "duration": 0.022805,
     "end_time": "2022-08-12T07:54:48.351203",
     "exception": false,
     "start_time": "2022-08-12T07:54:48.328398",
     "status": "completed"
    },
    "tags": []
   },
   "outputs": [
    {
     "data": {
      "text/plain": [
       "Trend-following portfolio (YZ estimator)                  -0.181254\n",
       "Trend-following portfolio (TREND signal)                  -0.207242\n",
       "Trend-following portfolio (YZ estimator + TREND signal)   -0.330677\n",
       "dtype: float64"
      ]
     },
     "execution_count": 26,
     "metadata": {},
     "output_type": "execute_result"
    }
   ],
   "source": [
    "turnover_reduction.mean()"
   ]
  },
  {
   "cell_type": "code",
   "execution_count": 27,
   "id": "eae570df",
   "metadata": {
    "execution": {
     "iopub.execute_input": "2022-08-12T07:54:48.378471Z",
     "iopub.status.busy": "2022-08-12T07:54:48.378118Z",
     "iopub.status.idle": "2022-08-12T07:54:49.990443Z",
     "shell.execute_reply": "2022-08-12T07:54:49.989509Z"
    },
    "papermill": {
     "duration": 1.628321,
     "end_time": "2022-08-12T07:54:49.992298",
     "exception": false,
     "start_time": "2022-08-12T07:54:48.363977",
     "status": "completed"
    },
    "tags": []
   },
   "outputs": [
    {
     "data": {
      "image/png": "[encoded data removed]",
      "text/plain": [
       "<Figure size 1008x288 with 1 Axes>"
      ]
     },
     "metadata": {
      "needs_background": "light"
     },
     "output_type": "display_data"
    }
   ],
   "source": [
    "ax = turnover_reduction.plot(kind='bar', figsize=(14, 4))\n",
    "ax.yaxis.set_major_formatter(mticker.PercentFormatter(1))\n",
    "ax.axhline(0, color='black', lw=1)\n",
    "ax.axvline(24.5, color='black', lw=1)\n",
    "ax.axvline(30.5, color='black', lw=1)\n",
    "ax.axvline(42.5, color='black', lw=1)\n",
    "ax.set_xlabel('Contract')\n",
    "ax.set_ylabel('Turnover reduction');"
   ]
  },
  {
   "cell_type": "markdown",
   "id": "e3605725",
   "metadata": {
    "papermill": {
     "duration": 0.013737,
     "end_time": "2022-08-12T07:54:50.019766",
     "exception": false,
     "start_time": "2022-08-12T07:54:50.006029",
     "status": "completed"
    },
    "tags": []
   },
   "source": [
    "# Recent performance"
   ]
  },
  {
   "cell_type": "code",
   "execution_count": 28,
   "id": "1b8f15ba",
   "metadata": {
    "execution": {
     "iopub.execute_input": "2022-08-12T07:54:50.049765Z",
     "iopub.status.busy": "2022-08-12T07:54:50.049434Z",
     "iopub.status.idle": "2022-08-12T07:54:50.564801Z",
     "shell.execute_reply": "2022-08-12T07:54:50.564092Z"
    },
    "papermill": {
     "duration": 0.531794,
     "end_time": "2022-08-12T07:54:50.566427",
     "exception": false,
     "start_time": "2022-08-12T07:54:50.034633",
     "status": "completed"
    },
    "tags": []
   },
   "outputs": [
    {
     "data": {
      "image/png": "[encoded data removed]",
      "text/plain": [
       "<Figure size 576x324 with 1 Axes>"
      ]
     },
     "metadata": {
      "needs_background": "light"
     },
     "output_type": "display_data"
    }
   ],
   "source": [
    "fig, ax = plt.subplots(figsize=(8, 4.5))\n",
    "performance_comp.tail(252 * 2).pct_change().fillna(0).add(1).cumprod().plot(ax=ax, logy=True);\n",
    "ax.set_title('Trend-following portfolio')\n",
    "ax.set_ylabel('Cumulative returns');"
   ]
  },
  {
   "cell_type": "markdown",
   "id": "c2a2f2f0",
   "metadata": {
    "papermill": {
     "duration": 0.014701,
     "end_time": "2022-08-12T07:54:50.595525",
     "exception": false,
     "start_time": "2022-08-12T07:54:50.580824",
     "status": "completed"
    },
    "tags": []
   },
   "source": [
    "# Reference\n",
    "\n",
    "- Baltas, N. and Kosowski, R., 2020. Demystifying time-series momentum strategies: Volatility estimators, trading rules and pairwise correlations. Market Momentum: Theory and Practice\", Wiley.\n",
    "- Moskowitz, T.J., Ooi, Y.H. and Pedersen, L.H., 2012. Time series momentum. Journal of financial economics, 104(2), pp.228-250."
   ]
  },
  {
   "cell_type": "code",
   "execution_count": 29,
   "id": "71a8da03",
   "metadata": {
    "ExecuteTime": {
     "end_time": "2020-08-30T21:20:32.431574Z",
     "start_time": "2020-08-30T21:20:32.429370Z"
    },
    "execution": {
     "iopub.execute_input": "2022-08-12T07:54:50.625632Z",
     "iopub.status.busy": "2022-08-12T07:54:50.625132Z",
     "iopub.status.idle": "2022-08-12T07:54:50.629080Z",
     "shell.execute_reply": "2022-08-12T07:54:50.628409Z"
    },
    "papermill": {
     "duration": 0.020956,
     "end_time": "2022-08-12T07:54:50.630679",
     "exception": false,
     "start_time": "2022-08-12T07:54:50.609723",
     "status": "completed"
    },
    "tags": []
   },
   "outputs": [
    {
     "name": "stdout",
     "output_type": "stream",
     "text": [
      "Updated: 12-Aug-2022 07:54\n"
     ]
    }
   ],
   "source": [
    "print(f'Updated: {datetime.utcnow():%d-%b-%Y %H:%M}')"
   ]
  }
 ],
 "metadata": {
  "hide_input": false,
  "kernelspec": {
   "display_name": "Python 3",
   "language": "python",
   "name": "python3"
  },
  "language_info": {
   "codemirror_mode": {
    "name": "ipython",
    "version": 3
   },
   "file_extension": ".py",
   "mimetype": "text/x-python",
   "name": "python",
   "nbconvert_exporter": "python",
   "pygments_lexer": "ipython3",
   "version": "3.9.6"
  },
  "nav_menu": {},
  "papermill": {
   "duration": 5313.831311,
   "end_time": "2022-08-12T07:54:53.676659",
   "environment_variables": {},
   "exception": null,
   "input_path": "notebooks/papermill/trend_following_baltas2020.ipynb",
   "output_path": "notebooks/trend_following_baltas2020.ipynb",
   "parameters": {},
   "start_time": "2022-08-12T06:26:19.845348",
   "version": "2.1.3"
  },
  "toc": {
   "base_numbering": 1,
   "nav_menu": {},
   "number_sections": true,
   "sideBar": true,
   "skip_h1_title": false,
   "title_cell": "Table of Contents",
   "title_sidebar": "Contents",
   "toc_cell": true,
   "toc_position": {
    "height": "calc(100% - 180px)",
    "left": "10px",
    "top": "150px",
    "width": "165px"
   },
   "toc_section_display": "block",
   "toc_window_display": true
  }
 },
 "nbformat": 4,
 "nbformat_minor": 5
}