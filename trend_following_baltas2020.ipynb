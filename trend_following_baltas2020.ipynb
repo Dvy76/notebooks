{
 "cells": [
  {
   "cell_type": "markdown",
   "id": "5d2cc391",
   "metadata": {
    "papermill": {
     "duration": 0.011074,
     "end_time": "2022-07-20T07:46:05.947574",
     "exception": false,
     "start_time": "2022-07-20T07:46:05.936500",
     "status": "completed"
    },
    "tags": []
   },
   "source": [
    "# Trend-following\n",
    "\n",
    "This notebook implements a few improvements that Baltas and Kosowski (2020) (BK2020, hereafter) propose to the time-series momentum strategy which originally appeared in Moskowitz et al (2012).\n",
    "\n",
    "Note that like other notebooks, all backtests are performed by using a private library called `vivace`."
   ]
  },
  {
   "cell_type": "code",
   "execution_count": 1,
   "id": "f18d03d3",
   "metadata": {
    "ExecuteTime": {
     "end_time": "2020-08-30T21:08:49.524262Z",
     "start_time": "2020-08-30T21:08:48.720115Z"
    },
    "execution": {
     "iopub.execute_input": "2022-07-20T07:46:05.969786Z",
     "iopub.status.busy": "2022-07-20T07:46:05.969394Z",
     "iopub.status.idle": "2022-07-20T07:46:10.036013Z",
     "shell.execute_reply": "2022-07-20T07:46:10.035165Z"
    },
    "papermill": {
     "duration": 4.079864,
     "end_time": "2022-07-20T07:46:10.038138",
     "exception": false,
     "start_time": "2022-07-20T07:46:05.958274",
     "status": "completed"
    },
    "tags": []
   },
   "outputs": [],
   "source": [
    "%matplotlib inline\n",
    "from datetime import datetime\n",
    "import logging\n",
    "import warnings\n",
    "warnings.simplefilter(action='ignore', category=FutureWarning)\n",
    "\n",
    "import pandas as pd\n",
    "import matplotlib.pyplot as plt\n",
    "import matplotlib.ticker as mticker\n",
    "plt.style.use('bmh')\n",
    "\n",
    "from vivace.backtest import signal\n",
    "from vivace.backtest import processing\n",
    "from vivace.backtest.contract import all_futures_baltas2020\n",
    "from vivace.backtest.engine import BacktestEngine\n",
    "from vivace.backtest.enums import Strategy, Weighting, RealisedVolatility\n",
    "from vivace.backtest.stats import Performance"
   ]
  },
  {
   "cell_type": "markdown",
   "id": "20f47ef6",
   "metadata": {
    "papermill": {
     "duration": 0.010322,
     "end_time": "2022-07-20T07:46:10.058907",
     "exception": false,
     "start_time": "2022-07-20T07:46:10.048585",
     "status": "completed"
    },
    "tags": []
   },
   "source": [
    "# Data"
   ]
  },
  {
   "cell_type": "code",
   "execution_count": 2,
   "id": "281e3000",
   "metadata": {
    "ExecuteTime": {
     "end_time": "2020-08-30T21:08:49.529214Z",
     "start_time": "2020-08-30T21:08:49.525465Z"
    },
    "execution": {
     "iopub.execute_input": "2022-07-20T07:46:10.082209Z",
     "iopub.status.busy": "2022-07-20T07:46:10.081454Z",
     "iopub.status.idle": "2022-07-20T07:46:10.090267Z",
     "shell.execute_reply": "2022-07-20T07:46:10.089165Z"
    },
    "papermill": {
     "duration": 0.023931,
     "end_time": "2022-07-20T07:46:10.093103",
     "exception": false,
     "start_time": "2022-07-20T07:46:10.069172",
     "status": "completed"
    },
    "tags": []
   },
   "outputs": [
    {
     "data": {
      "text/plain": [
       "array(['WTI Crude Oil', 'Brent Crude Oil', 'Heating Oil', 'Natural Gas',\n",
       "       'Gasoline', 'Copper', 'Gold', 'Palladium', 'Platinum', 'Silver',\n",
       "       'Feeder Cattle', 'Live Cattle', 'Lean Hog', 'Corn', 'Oats',\n",
       "       'Soybean Oil', 'Soybean Meal', 'Soybean', 'Wheat', 'Cocoa',\n",
       "       'Coffee', 'Cotton', 'Lumber', 'Orange Juice', 'Sugar',\n",
       "       'Australian Dollar', 'Canadian Dollar', 'Swiss Franc', 'Euro',\n",
       "       'British Pound', 'Japanese Yen', 'E-Mini Nasdaq 100',\n",
       "       'E-mini S&P 500', 'E-mini Russell 2000', 'FTSE 100', 'DAX',\n",
       "       'CAC 40', 'IBEX 35', 'AEX', 'Swiss Market Index', 'SPI 200',\n",
       "       'Topix', 'Hang Seng', 'US 2-year Treasury', 'US 5-year Treasury',\n",
       "       'US 10-year Treasury', 'US treasury Bond', 'Germany Schatz',\n",
       "       'Germany Bobl', 'Germany Bund', 'Germany Buxl', 'Gilt',\n",
       "       'Canada 10-year Treasury', 'JGB'], dtype=object)"
      ]
     },
     "execution_count": 2,
     "metadata": {},
     "output_type": "execute_result"
    }
   ],
   "source": [
    "all_futures_baltas2020['name'].values"
   ]
  },
  {
   "cell_type": "code",
   "execution_count": 3,
   "id": "91898454",
   "metadata": {
    "ExecuteTime": {
     "end_time": "2020-08-30T21:08:49.542477Z",
     "start_time": "2020-08-30T21:08:49.530487Z"
    },
    "execution": {
     "iopub.execute_input": "2022-07-20T07:46:10.156204Z",
     "iopub.status.busy": "2022-07-20T07:46:10.155933Z",
     "iopub.status.idle": "2022-07-20T07:46:10.161283Z",
     "shell.execute_reply": "2022-07-20T07:46:10.160375Z"
    },
    "papermill": {
     "duration": 0.054341,
     "end_time": "2022-07-20T07:46:10.163041",
     "exception": false,
     "start_time": "2022-07-20T07:46:10.108700",
     "status": "completed"
    },
    "tags": []
   },
   "outputs": [
    {
     "name": "stdout",
     "output_type": "stream",
     "text": [
      "54\n"
     ]
    }
   ],
   "source": [
    "print(len(all_futures_baltas2020))"
   ]
  },
  {
   "cell_type": "markdown",
   "id": "37686f14",
   "metadata": {
    "papermill": {
     "duration": 0.01102,
     "end_time": "2022-07-20T07:46:10.184774",
     "exception": false,
     "start_time": "2022-07-20T07:46:10.173754",
     "status": "completed"
    },
    "tags": []
   },
   "source": [
    "We try to use the same contract as the original paper where possible, resulting 54 futures contracts to analyse. The trading universe covers a wide range of asset classes and regions, and is made up of following instruments:\n",
    "- Equity index futures\n",
    "- Government bond futures\n",
    "- FX futures\n",
    "- Commodity futures\n",
    "\n",
    "where the same trend detection method is applied."
   ]
  },
  {
   "cell_type": "markdown",
   "id": "8e4ce17a",
   "metadata": {
    "papermill": {
     "duration": 0.010551,
     "end_time": "2022-07-20T07:46:10.206263",
     "exception": false,
     "start_time": "2022-07-20T07:46:10.195712",
     "status": "completed"
    },
    "tags": []
   },
   "source": [
    "# Performance\n"
   ]
  },
  {
   "cell_type": "markdown",
   "id": "997b9c0d",
   "metadata": {
    "papermill": {
     "duration": 0.010776,
     "end_time": "2022-07-20T07:46:10.228205",
     "exception": false,
     "start_time": "2022-07-20T07:46:10.217429",
     "status": "completed"
    },
    "tags": []
   },
   "source": [
    "## Moskowitz et al\n",
    "\n",
    "First we calculate the original trend-following portfolio with a more traditional close-to-close realised volatility estimator. Although Moskowitz et al uses the exponentially weighted standard deviation, BK2020 appears to compare against the rolling standard deviation."
   ]
  },
  {
   "cell_type": "code",
   "execution_count": 4,
   "id": "6cf3422a",
   "metadata": {
    "execution": {
     "iopub.execute_input": "2022-07-20T07:46:10.251159Z",
     "iopub.status.busy": "2022-07-20T07:46:10.250765Z",
     "iopub.status.idle": "2022-07-20T07:57:27.424992Z",
     "shell.execute_reply": "2022-07-20T07:57:27.424159Z"
    },
    "papermill": {
     "duration": 677.188337,
     "end_time": "2022-07-20T07:57:27.427032",
     "exception": false,
     "start_time": "2022-07-20T07:46:10.238695",
     "status": "completed"
    },
    "tags": []
   },
   "outputs": [],
   "source": [
    "engine_original = BacktestEngine(\n",
    "    strategy=Strategy.DELTA_ONE.value,\n",
    "    instrument=all_futures_baltas2020.index,\n",
    "    signal=signal.ParallelSignal([\n",
    "        signal.VolatilityScale(agg_method='rolling', window=21, ann_factor=261, \n",
    "                               target_volatility=0.4, signal_cap=0.95),\n",
    "        signal.TSMOMMoskowitz2012(post_process=processing.AsFreq(freq='m', method='pad'))\n",
    "    ], weighting='product'),\n",
    "    weighting=Weighting.EQUAL_WEIGHT.value,\n",
    "    log_level=logging.WARN,\n",
    ")\n",
    "engine_original.run()"
   ]
  },
  {
   "cell_type": "code",
   "execution_count": 5,
   "id": "d67682a6",
   "metadata": {
    "execution": {
     "iopub.execute_input": "2022-07-20T07:57:27.451048Z",
     "iopub.status.busy": "2022-07-20T07:57:27.450777Z",
     "iopub.status.idle": "2022-07-20T07:58:55.947648Z",
     "shell.execute_reply": "2022-07-20T07:58:55.946830Z"
    },
    "papermill": {
     "duration": 88.510995,
     "end_time": "2022-07-20T07:58:55.949638",
     "exception": false,
     "start_time": "2022-07-20T07:57:27.438643",
     "status": "completed"
    },
    "tags": []
   },
   "outputs": [],
   "source": [
    "engine_original_eq = (engine_original.calculate_equity_curve(calculate_net=False, rebalance_freq='m')\n",
    "                      .rename('Trend-following portfolio (Moskowitz 2012)'))"
   ]
  },
  {
   "cell_type": "code",
   "execution_count": 6,
   "id": "fdd5812a",
   "metadata": {
    "execution": {
     "iopub.execute_input": "2022-07-20T07:58:55.971931Z",
     "iopub.status.busy": "2022-07-20T07:58:55.971306Z",
     "iopub.status.idle": "2022-07-20T07:58:56.761337Z",
     "shell.execute_reply": "2022-07-20T07:58:56.760386Z"
    },
    "papermill": {
     "duration": 0.803853,
     "end_time": "2022-07-20T07:58:56.763917",
     "exception": false,
     "start_time": "2022-07-20T07:58:55.960064",
     "status": "completed"
    },
    "tags": []
   },
   "outputs": [
    {
     "data": {
      "image/png": "[encoded data removed]",
      "text/plain": [
       "<Figure size 576x324 with 1 Axes>"
      ]
     },
     "metadata": {
      "needs_background": "light"
     },
     "output_type": "display_data"
    }
   ],
   "source": [
    "fig, ax = plt.subplots(figsize=(8, 4.5))\n",
    "engine_original_eq.plot(ax=ax, logy=True)\n",
    "ax.set_title('Trend-following portfolio (Moskowitz 2012)')\n",
    "ax.set_ylabel('Cumulative returns');"
   ]
  },
  {
   "cell_type": "code",
   "execution_count": 7,
   "id": "41e4b577",
   "metadata": {
    "execution": {
     "iopub.execute_input": "2022-07-20T07:58:56.799185Z",
     "iopub.status.busy": "2022-07-20T07:58:56.798364Z",
     "iopub.status.idle": "2022-07-20T07:58:56.891809Z",
     "shell.execute_reply": "2022-07-20T07:58:56.890882Z"
    },
    "papermill": {
     "duration": 0.113488,
     "end_time": "2022-07-20T07:58:56.894038",
     "exception": false,
     "start_time": "2022-07-20T07:58:56.780550",
     "status": "completed"
    },
    "tags": []
   },
   "outputs": [
    {
     "data": {
      "text/html": [
       "<div>\n",
       "<style scoped>\n",
       "    .dataframe tbody tr th:only-of-type {\n",
       "        vertical-align: middle;\n",
       "    }\n",
       "\n",
       "    .dataframe tbody tr th {\n",
       "        vertical-align: top;\n",
       "    }\n",
       "\n",
       "    .dataframe thead th {\n",
       "        text-align: right;\n",
       "    }\n",
       "</style>\n",
       "<table border=\"1\" class=\"dataframe\">\n",
       "  <thead>\n",
       "    <tr style=\"text-align: right;\">\n",
       "      <th></th>\n",
       "      <th>Trend-following portfolio (Moskowitz 2012)</th>\n",
       "    </tr>\n",
       "  </thead>\n",
       "  <tbody>\n",
       "    <tr>\n",
       "      <th>CAGR</th>\n",
       "      <td>0.147769</td>\n",
       "    </tr>\n",
       "    <tr>\n",
       "      <th>Annualised vol</th>\n",
       "      <td>0.124974</td>\n",
       "    </tr>\n",
       "    <tr>\n",
       "      <th>Sharpe ratio</th>\n",
       "      <td>1.182395</td>\n",
       "    </tr>\n",
       "    <tr>\n",
       "      <th>Max drawdown</th>\n",
       "      <td>0.259239</td>\n",
       "    </tr>\n",
       "    <tr>\n",
       "      <th>Calmar ratio</th>\n",
       "      <td>0.570010</td>\n",
       "    </tr>\n",
       "    <tr>\n",
       "      <th>Skewness</th>\n",
       "      <td>0.072970</td>\n",
       "    </tr>\n",
       "    <tr>\n",
       "      <th>Kurtosis</th>\n",
       "      <td>19.369863</td>\n",
       "    </tr>\n",
       "    <tr>\n",
       "      <th>Worst return</th>\n",
       "      <td>-0.126276</td>\n",
       "    </tr>\n",
       "    <tr>\n",
       "      <th>Worst 1d return</th>\n",
       "      <td>-0.126276</td>\n",
       "    </tr>\n",
       "    <tr>\n",
       "      <th>Worst 1w return</th>\n",
       "      <td>-0.107725</td>\n",
       "    </tr>\n",
       "    <tr>\n",
       "      <th>Worst 1m return</th>\n",
       "      <td>-0.152667</td>\n",
       "    </tr>\n",
       "  </tbody>\n",
       "</table>\n",
       "</div>"
      ],
      "text/plain": [
       "                 Trend-following portfolio (Moskowitz 2012)\n",
       "CAGR                                               0.147769\n",
       "Annualised vol                                     0.124974\n",
       "Sharpe ratio                                       1.182395\n",
       "Max drawdown                                       0.259239\n",
       "Calmar ratio                                       0.570010\n",
       "Skewness                                           0.072970\n",
       "Kurtosis                                          19.369863\n",
       "Worst return                                      -0.126276\n",
       "Worst 1d return                                   -0.126276\n",
       "Worst 1w return                                   -0.107725\n",
       "Worst 1m return                                   -0.152667"
      ]
     },
     "execution_count": 7,
     "metadata": {},
     "output_type": "execute_result"
    }
   ],
   "source": [
    "engine_original_eq.pipe(Performance).summary()"
   ]
  },
  {
   "cell_type": "markdown",
   "id": "ce0c3d95",
   "metadata": {
    "papermill": {
     "duration": 0.013702,
     "end_time": "2022-07-20T07:58:56.918962",
     "exception": false,
     "start_time": "2022-07-20T07:58:56.905260",
     "status": "completed"
    },
    "tags": []
   },
   "source": [
    "\n",
    "## Volatility estimator\n",
    "BK2020 proposes a few changes in order to enhance the original trend-following strategy Moskowitz et al reported. The first thing is to use a more sophisticated realised volatility estimators for volatility scaling. Moskowitz used the exponentially weighted standard deviation with close-to-close. On the other hand, BK2020 suggests to use Yang-Zhang estimator as it is much more efficient."
   ]
  },
  {
   "cell_type": "code",
   "execution_count": 8,
   "id": "1fa9fd0b",
   "metadata": {
    "ExecuteTime": {
     "end_time": "2020-08-30T21:18:24.661167Z",
     "start_time": "2020-08-30T21:08:49.544232Z"
    },
    "execution": {
     "iopub.execute_input": "2022-07-20T07:58:56.946080Z",
     "iopub.status.busy": "2022-07-20T07:58:56.945706Z",
     "iopub.status.idle": "2022-07-20T08:19:10.601048Z",
     "shell.execute_reply": "2022-07-20T08:19:10.600246Z"
    },
    "papermill": {
     "duration": 1213.672521,
     "end_time": "2022-07-20T08:19:10.603663",
     "exception": false,
     "start_time": "2022-07-20T07:58:56.931142",
     "status": "completed"
    },
    "tags": []
   },
   "outputs": [],
   "source": [
    "engine_vol = BacktestEngine(\n",
    "    strategy=Strategy.DELTA_ONE.value,\n",
    "    instrument=all_futures_baltas2020.index,\n",
    "    signal=signal.ParallelSignal([\n",
    "        signal.VolatilityScale(volatility_type=RealisedVolatility.YZ.value,\n",
    "                               agg_method='rolling', window=21, min_periods=10,\n",
    "                               target_volatility=0.4, signal_cap=0.95, ann_factor=261),\n",
    "        signal.TSMOMMoskowitz2012(post_process=processing.AsFreq(freq='m', method='pad'))\n",
    "    ], weighting='product'),\n",
    "    weighting=Weighting.EQUAL_WEIGHT.value,\n",
    "    log_level=logging.WARN,\n",
    ")\n",
    "engine_vol.run()"
   ]
  },
  {
   "cell_type": "code",
   "execution_count": 9,
   "id": "5f97481f",
   "metadata": {
    "execution": {
     "iopub.execute_input": "2022-07-20T08:19:10.629393Z",
     "iopub.status.busy": "2022-07-20T08:19:10.629108Z",
     "iopub.status.idle": "2022-07-20T08:20:34.043271Z",
     "shell.execute_reply": "2022-07-20T08:20:34.042645Z"
    },
    "papermill": {
     "duration": 83.428591,
     "end_time": "2022-07-20T08:20:34.045170",
     "exception": false,
     "start_time": "2022-07-20T08:19:10.616579",
     "status": "completed"
    },
    "tags": []
   },
   "outputs": [],
   "source": [
    "engine_vol_eq = (engine_vol.calculate_equity_curve(calculate_net=False, rebalance_freq='m')\n",
    "                 .rename('Trend-following portfolio (YZ estimator)'))"
   ]
  },
  {
   "cell_type": "code",
   "execution_count": 10,
   "id": "8cec6527",
   "metadata": {
    "execution": {
     "iopub.execute_input": "2022-07-20T08:20:34.067759Z",
     "iopub.status.busy": "2022-07-20T08:20:34.067485Z",
     "iopub.status.idle": "2022-07-20T08:20:34.652806Z",
     "shell.execute_reply": "2022-07-20T08:20:34.651753Z"
    },
    "papermill": {
     "duration": 0.599651,
     "end_time": "2022-07-20T08:20:34.655274",
     "exception": false,
     "start_time": "2022-07-20T08:20:34.055623",
     "status": "completed"
    },
    "tags": []
   },
   "outputs": [
    {
     "data": {
      "image/png": "[encoded data removed]",
      "text/plain": [
       "<Figure size 576x324 with 1 Axes>"
      ]
     },
     "metadata": {
      "needs_background": "light"
     },
     "output_type": "display_data"
    }
   ],
   "source": [
    "fig, ax = plt.subplots(figsize=(8, 4.5))\n",
    "engine_vol_eq.plot(ax=ax, logy=True);\n",
    "ax.set_title('Trend-following portfolio (YZ estimator)')\n",
    "ax.set_ylabel('Cumulative returns');"
   ]
  },
  {
   "cell_type": "code",
   "execution_count": 11,
   "id": "8e679609",
   "metadata": {
    "execution": {
     "iopub.execute_input": "2022-07-20T08:20:34.681694Z",
     "iopub.status.busy": "2022-07-20T08:20:34.681360Z",
     "iopub.status.idle": "2022-07-20T08:20:34.763023Z",
     "shell.execute_reply": "2022-07-20T08:20:34.762214Z"
    },
    "papermill": {
     "duration": 0.097038,
     "end_time": "2022-07-20T08:20:34.764745",
     "exception": false,
     "start_time": "2022-07-20T08:20:34.667707",
     "status": "completed"
    },
    "tags": []
   },
   "outputs": [
    {
     "data": {
      "text/html": [
       "<div>\n",
       "<style scoped>\n",
       "    .dataframe tbody tr th:only-of-type {\n",
       "        vertical-align: middle;\n",
       "    }\n",
       "\n",
       "    .dataframe tbody tr th {\n",
       "        vertical-align: top;\n",
       "    }\n",
       "\n",
       "    .dataframe thead th {\n",
       "        text-align: right;\n",
       "    }\n",
       "</style>\n",
       "<table border=\"1\" class=\"dataframe\">\n",
       "  <thead>\n",
       "    <tr style=\"text-align: right;\">\n",
       "      <th></th>\n",
       "      <th>Trend-following portfolio (YZ estimator)</th>\n",
       "    </tr>\n",
       "  </thead>\n",
       "  <tbody>\n",
       "    <tr>\n",
       "      <th>CAGR</th>\n",
       "      <td>0.149437</td>\n",
       "    </tr>\n",
       "    <tr>\n",
       "      <th>Annualised vol</th>\n",
       "      <td>0.127268</td>\n",
       "    </tr>\n",
       "    <tr>\n",
       "      <th>Sharpe ratio</th>\n",
       "      <td>1.174198</td>\n",
       "    </tr>\n",
       "    <tr>\n",
       "      <th>Max drawdown</th>\n",
       "      <td>0.305877</td>\n",
       "    </tr>\n",
       "    <tr>\n",
       "      <th>Calmar ratio</th>\n",
       "      <td>0.488554</td>\n",
       "    </tr>\n",
       "    <tr>\n",
       "      <th>Skewness</th>\n",
       "      <td>0.280487</td>\n",
       "    </tr>\n",
       "    <tr>\n",
       "      <th>Kurtosis</th>\n",
       "      <td>22.152205</td>\n",
       "    </tr>\n",
       "    <tr>\n",
       "      <th>Worst return</th>\n",
       "      <td>-0.137043</td>\n",
       "    </tr>\n",
       "    <tr>\n",
       "      <th>Worst 1d return</th>\n",
       "      <td>-0.137043</td>\n",
       "    </tr>\n",
       "    <tr>\n",
       "      <th>Worst 1w return</th>\n",
       "      <td>-0.098542</td>\n",
       "    </tr>\n",
       "    <tr>\n",
       "      <th>Worst 1m return</th>\n",
       "      <td>-0.169177</td>\n",
       "    </tr>\n",
       "  </tbody>\n",
       "</table>\n",
       "</div>"
      ],
      "text/plain": [
       "                 Trend-following portfolio (YZ estimator)\n",
       "CAGR                                             0.149437\n",
       "Annualised vol                                   0.127268\n",
       "Sharpe ratio                                     1.174198\n",
       "Max drawdown                                     0.305877\n",
       "Calmar ratio                                     0.488554\n",
       "Skewness                                         0.280487\n",
       "Kurtosis                                        22.152205\n",
       "Worst return                                    -0.137043\n",
       "Worst 1d return                                 -0.137043\n",
       "Worst 1w return                                 -0.098542\n",
       "Worst 1m return                                 -0.169177"
      ]
     },
     "execution_count": 11,
     "metadata": {},
     "output_type": "execute_result"
    }
   ],
   "source": [
    "engine_vol_eq.pipe(Performance).summary()"
   ]
  },
  {
   "cell_type": "markdown",
   "id": "f26a937a",
   "metadata": {
    "papermill": {
     "duration": 0.010963,
     "end_time": "2022-07-20T08:20:34.787081",
     "exception": false,
     "start_time": "2022-07-20T08:20:34.776118",
     "status": "completed"
    },
    "tags": []
   },
   "source": [
    "## TREND signal\n",
    "\n",
    "Another improvement BK2020 proposes is to use a continuous signal rather than a binary one in order to reduce the turnover when signals are weak. Specifically they used the t-values with the Newey-West standard error as the signal. They further capped and floored the signal between -1 and +1 to avoid extreme positions.\n",
    "\n",
    "`statsmodels`'s `OLS` class provides a method to compute the Newey-West standard error. https://www.statsmodels.org/stable/generated/statsmodels.regression.linear_model.OLS.html"
   ]
  },
  {
   "cell_type": "code",
   "execution_count": 12,
   "id": "6f6d74ab",
   "metadata": {
    "execution": {
     "iopub.execute_input": "2022-07-20T08:20:34.810191Z",
     "iopub.status.busy": "2022-07-20T08:20:34.809901Z",
     "iopub.status.idle": "2022-07-20T08:37:42.366411Z",
     "shell.execute_reply": "2022-07-20T08:37:42.365683Z"
    },
    "papermill": {
     "duration": 1027.570421,
     "end_time": "2022-07-20T08:37:42.368376",
     "exception": false,
     "start_time": "2022-07-20T08:20:34.797955",
     "status": "completed"
    },
    "tags": []
   },
   "outputs": [],
   "source": [
    "engine_trend = BacktestEngine(\n",
    "    strategy=Strategy.DELTA_ONE.value,\n",
    "    instrument=all_futures_baltas2020.index,\n",
    "    signal=signal.ParallelSignal([\n",
    "        signal.VolatilityScale(agg_method='rolling', window=21, ann_factor=261, \n",
    "                               target_volatility=0.4, signal_cap=0.95),\n",
    "        signal.TSMOMBaltas2020()\n",
    "    ], weighting='product'),\n",
    "    weighting=Weighting.EQUAL_WEIGHT.value,\n",
    "    log_level=logging.WARN,\n",
    ")\n",
    "engine_trend.run()"
   ]
  },
  {
   "cell_type": "code",
   "execution_count": 13,
   "id": "8030f80d",
   "metadata": {
    "execution": {
     "iopub.execute_input": "2022-07-20T08:37:42.393509Z",
     "iopub.status.busy": "2022-07-20T08:37:42.393151Z",
     "iopub.status.idle": "2022-07-20T08:39:06.597997Z",
     "shell.execute_reply": "2022-07-20T08:39:06.597263Z"
    },
    "papermill": {
     "duration": 84.219399,
     "end_time": "2022-07-20T08:39:06.599882",
     "exception": false,
     "start_time": "2022-07-20T08:37:42.380483",
     "status": "completed"
    },
    "tags": []
   },
   "outputs": [],
   "source": [
    "engine_trend_eq = (engine_trend.calculate_equity_curve(calculate_net=False, rebalance_freq='m')\n",
    "                   .rename('Trend-following portfolio (TREND signal)'))"
   ]
  },
  {
   "cell_type": "code",
   "execution_count": 14,
   "id": "805397c0",
   "metadata": {
    "execution": {
     "iopub.execute_input": "2022-07-20T08:39:06.623189Z",
     "iopub.status.busy": "2022-07-20T08:39:06.622924Z",
     "iopub.status.idle": "2022-07-20T08:39:07.213295Z",
     "shell.execute_reply": "2022-07-20T08:39:07.212373Z"
    },
    "papermill": {
     "duration": 0.604147,
     "end_time": "2022-07-20T08:39:07.215135",
     "exception": false,
     "start_time": "2022-07-20T08:39:06.610988",
     "status": "completed"
    },
    "tags": []
   },
   "outputs": [
    {
     "data": {
      "image/png": "[encoded data removed]",
      "text/plain": [
       "<Figure size 576x324 with 1 Axes>"
      ]
     },
     "metadata": {
      "needs_background": "light"
     },
     "output_type": "display_data"
    }
   ],
   "source": [
    "fig, ax = plt.subplots(figsize=(8, 4.5))\n",
    "engine_trend_eq.plot(ax=ax, logy=True);\n",
    "ax.set_title('Trend-following portfolio (TREND signal)')\n",
    "ax.set_ylabel('Cumulative returns');"
   ]
  },
  {
   "cell_type": "code",
   "execution_count": 15,
   "id": "ce510aff",
   "metadata": {
    "execution": {
     "iopub.execute_input": "2022-07-20T08:39:07.239911Z",
     "iopub.status.busy": "2022-07-20T08:39:07.239640Z",
     "iopub.status.idle": "2022-07-20T08:39:07.324045Z",
     "shell.execute_reply": "2022-07-20T08:39:07.323231Z"
    },
    "papermill": {
     "duration": 0.098821,
     "end_time": "2022-07-20T08:39:07.325804",
     "exception": false,
     "start_time": "2022-07-20T08:39:07.226983",
     "status": "completed"
    },
    "tags": []
   },
   "outputs": [
    {
     "data": {
      "text/html": [
       "<div>\n",
       "<style scoped>\n",
       "    .dataframe tbody tr th:only-of-type {\n",
       "        vertical-align: middle;\n",
       "    }\n",
       "\n",
       "    .dataframe tbody tr th {\n",
       "        vertical-align: top;\n",
       "    }\n",
       "\n",
       "    .dataframe thead th {\n",
       "        text-align: right;\n",
       "    }\n",
       "</style>\n",
       "<table border=\"1\" class=\"dataframe\">\n",
       "  <thead>\n",
       "    <tr style=\"text-align: right;\">\n",
       "      <th></th>\n",
       "      <th>Trend-following portfolio (TREND signal)</th>\n",
       "    </tr>\n",
       "  </thead>\n",
       "  <tbody>\n",
       "    <tr>\n",
       "      <th>CAGR</th>\n",
       "      <td>0.139702</td>\n",
       "    </tr>\n",
       "    <tr>\n",
       "      <th>Annualised vol</th>\n",
       "      <td>0.107934</td>\n",
       "    </tr>\n",
       "    <tr>\n",
       "      <th>Sharpe ratio</th>\n",
       "      <td>1.294333</td>\n",
       "    </tr>\n",
       "    <tr>\n",
       "      <th>Max drawdown</th>\n",
       "      <td>0.294584</td>\n",
       "    </tr>\n",
       "    <tr>\n",
       "      <th>Calmar ratio</th>\n",
       "      <td>0.474235</td>\n",
       "    </tr>\n",
       "    <tr>\n",
       "      <th>Skewness</th>\n",
       "      <td>0.159184</td>\n",
       "    </tr>\n",
       "    <tr>\n",
       "      <th>Kurtosis</th>\n",
       "      <td>28.047162</td>\n",
       "    </tr>\n",
       "    <tr>\n",
       "      <th>Worst return</th>\n",
       "      <td>-0.121269</td>\n",
       "    </tr>\n",
       "    <tr>\n",
       "      <th>Worst 1d return</th>\n",
       "      <td>-0.121269</td>\n",
       "    </tr>\n",
       "    <tr>\n",
       "      <th>Worst 1w return</th>\n",
       "      <td>-0.110077</td>\n",
       "    </tr>\n",
       "    <tr>\n",
       "      <th>Worst 1m return</th>\n",
       "      <td>-0.171789</td>\n",
       "    </tr>\n",
       "  </tbody>\n",
       "</table>\n",
       "</div>"
      ],
      "text/plain": [
       "                 Trend-following portfolio (TREND signal)\n",
       "CAGR                                             0.139702\n",
       "Annualised vol                                   0.107934\n",
       "Sharpe ratio                                     1.294333\n",
       "Max drawdown                                     0.294584\n",
       "Calmar ratio                                     0.474235\n",
       "Skewness                                         0.159184\n",
       "Kurtosis                                        28.047162\n",
       "Worst return                                    -0.121269\n",
       "Worst 1d return                                 -0.121269\n",
       "Worst 1w return                                 -0.110077\n",
       "Worst 1m return                                 -0.171789"
      ]
     },
     "execution_count": 15,
     "metadata": {},
     "output_type": "execute_result"
    }
   ],
   "source": [
    "engine_trend_eq.pipe(Performance).summary()"
   ]
  },
  {
   "cell_type": "markdown",
   "id": "6b3926d5",
   "metadata": {
    "papermill": {
     "duration": 0.011746,
     "end_time": "2022-07-20T08:39:07.349292",
     "exception": false,
     "start_time": "2022-07-20T08:39:07.337546",
     "status": "completed"
    },
    "tags": []
   },
   "source": [
    "## Combined\n",
    "\n",
    "Finally we run a backtest by using both the Yang-Zhang volatility estimator and the TREND signal."
   ]
  },
  {
   "cell_type": "code",
   "execution_count": 16,
   "id": "9a7f2aad",
   "metadata": {
    "execution": {
     "iopub.execute_input": "2022-07-20T08:39:07.374481Z",
     "iopub.status.busy": "2022-07-20T08:39:07.374214Z",
     "iopub.status.idle": "2022-07-20T09:05:24.614440Z",
     "shell.execute_reply": "2022-07-20T09:05:24.613543Z"
    },
    "papermill": {
     "duration": 1577.25542,
     "end_time": "2022-07-20T09:05:24.616529",
     "exception": false,
     "start_time": "2022-07-20T08:39:07.361109",
     "status": "completed"
    },
    "tags": []
   },
   "outputs": [],
   "source": [
    "engine_combined = BacktestEngine(\n",
    "    strategy=Strategy.DELTA_ONE.value,\n",
    "    instrument=all_futures_baltas2020.index,\n",
    "    signal=signal.ParallelSignal([\n",
    "        signal.VolatilityScale(volatility_type=RealisedVolatility.YZ.value,\n",
    "                               agg_method='rolling', window=21, min_periods=10,\n",
    "                               target_volatility=0.4, signal_cap=0.95, ann_factor=261),\n",
    "        signal.TSMOMBaltas2020()\n",
    "    ], weighting='product'),\n",
    "    weighting=Weighting.EQUAL_WEIGHT.value,\n",
    "    log_level=logging.WARN,\n",
    ")\n",
    "engine_combined.run()"
   ]
  },
  {
   "cell_type": "code",
   "execution_count": 17,
   "id": "adbc59ab",
   "metadata": {
    "execution": {
     "iopub.execute_input": "2022-07-20T09:05:24.643465Z",
     "iopub.status.busy": "2022-07-20T09:05:24.643110Z",
     "iopub.status.idle": "2022-07-20T09:06:43.524460Z",
     "shell.execute_reply": "2022-07-20T09:06:43.523731Z"
    },
    "papermill": {
     "duration": 78.895915,
     "end_time": "2022-07-20T09:06:43.526352",
     "exception": false,
     "start_time": "2022-07-20T09:05:24.630437",
     "status": "completed"
    },
    "tags": []
   },
   "outputs": [],
   "source": [
    "engine_combined_eq = (engine_combined.calculate_equity_curve(calculate_net=False, rebalance_freq='m')\n",
    "                      .rename('Trend-following portfolio (YZ estimator + TREND signal)'))"
   ]
  },
  {
   "cell_type": "code",
   "execution_count": 18,
   "id": "7097512e",
   "metadata": {
    "execution": {
     "iopub.execute_input": "2022-07-20T09:06:43.551363Z",
     "iopub.status.busy": "2022-07-20T09:06:43.551020Z",
     "iopub.status.idle": "2022-07-20T09:06:44.116734Z",
     "shell.execute_reply": "2022-07-20T09:06:44.116003Z"
    },
    "papermill": {
     "duration": 0.580101,
     "end_time": "2022-07-20T09:06:44.118387",
     "exception": false,
     "start_time": "2022-07-20T09:06:43.538286",
     "status": "completed"
    },
    "tags": []
   },
   "outputs": [
    {
     "data": {
      "image/png": "[encoded data removed]",
      "text/plain": [
       "<Figure size 576x324 with 1 Axes>"
      ]
     },
     "metadata": {
      "needs_background": "light"
     },
     "output_type": "display_data"
    }
   ],
   "source": [
    "fig, ax = plt.subplots(figsize=(8, 4.5))\n",
    "engine_combined_eq.plot(ax=ax, logy=True)\n",
    "ax.set_title('Trend-following portfolio (YZ estimator + TREND signal)')\n",
    "ax.set_ylabel('Cumulative returns');"
   ]
  },
  {
   "cell_type": "code",
   "execution_count": 19,
   "id": "aa90325d",
   "metadata": {
    "execution": {
     "iopub.execute_input": "2022-07-20T09:06:44.166657Z",
     "iopub.status.busy": "2022-07-20T09:06:44.166383Z",
     "iopub.status.idle": "2022-07-20T09:06:44.245346Z",
     "shell.execute_reply": "2022-07-20T09:06:44.244651Z"
    },
    "papermill": {
     "duration": 0.116706,
     "end_time": "2022-07-20T09:06:44.247030",
     "exception": false,
     "start_time": "2022-07-20T09:06:44.130324",
     "status": "completed"
    },
    "tags": []
   },
   "outputs": [
    {
     "data": {
      "text/html": [
       "<div>\n",
       "<style scoped>\n",
       "    .dataframe tbody tr th:only-of-type {\n",
       "        vertical-align: middle;\n",
       "    }\n",
       "\n",
       "    .dataframe tbody tr th {\n",
       "        vertical-align: top;\n",
       "    }\n",
       "\n",
       "    .dataframe thead th {\n",
       "        text-align: right;\n",
       "    }\n",
       "</style>\n",
       "<table border=\"1\" class=\"dataframe\">\n",
       "  <thead>\n",
       "    <tr style=\"text-align: right;\">\n",
       "      <th></th>\n",
       "      <th>Trend-following portfolio (YZ estimator + TREND signal)</th>\n",
       "    </tr>\n",
       "  </thead>\n",
       "  <tbody>\n",
       "    <tr>\n",
       "      <th>CAGR</th>\n",
       "      <td>0.140171</td>\n",
       "    </tr>\n",
       "    <tr>\n",
       "      <th>Annualised vol</th>\n",
       "      <td>0.110671</td>\n",
       "    </tr>\n",
       "    <tr>\n",
       "      <th>Sharpe ratio</th>\n",
       "      <td>1.266561</td>\n",
       "    </tr>\n",
       "    <tr>\n",
       "      <th>Max drawdown</th>\n",
       "      <td>0.313945</td>\n",
       "    </tr>\n",
       "    <tr>\n",
       "      <th>Calmar ratio</th>\n",
       "      <td>0.446484</td>\n",
       "    </tr>\n",
       "    <tr>\n",
       "      <th>Skewness</th>\n",
       "      <td>0.292982</td>\n",
       "    </tr>\n",
       "    <tr>\n",
       "      <th>Kurtosis</th>\n",
       "      <td>32.571165</td>\n",
       "    </tr>\n",
       "    <tr>\n",
       "      <th>Worst return</th>\n",
       "      <td>-0.130152</td>\n",
       "    </tr>\n",
       "    <tr>\n",
       "      <th>Worst 1d return</th>\n",
       "      <td>-0.130152</td>\n",
       "    </tr>\n",
       "    <tr>\n",
       "      <th>Worst 1w return</th>\n",
       "      <td>-0.112097</td>\n",
       "    </tr>\n",
       "    <tr>\n",
       "      <th>Worst 1m return</th>\n",
       "      <td>-0.186272</td>\n",
       "    </tr>\n",
       "  </tbody>\n",
       "</table>\n",
       "</div>"
      ],
      "text/plain": [
       "                 Trend-following portfolio (YZ estimator + TREND signal)\n",
       "CAGR                                                      0.140171      \n",
       "Annualised vol                                            0.110671      \n",
       "Sharpe ratio                                              1.266561      \n",
       "Max drawdown                                              0.313945      \n",
       "Calmar ratio                                              0.446484      \n",
       "Skewness                                                  0.292982      \n",
       "Kurtosis                                                 32.571165      \n",
       "Worst return                                             -0.130152      \n",
       "Worst 1d return                                          -0.130152      \n",
       "Worst 1w return                                          -0.112097      \n",
       "Worst 1m return                                          -0.186272      "
      ]
     },
     "execution_count": 19,
     "metadata": {},
     "output_type": "execute_result"
    }
   ],
   "source": [
    "engine_combined_eq.pipe(Performance).summary()"
   ]
  },
  {
   "cell_type": "markdown",
   "id": "a68c9c0c",
   "metadata": {
    "papermill": {
     "duration": 0.012277,
     "end_time": "2022-07-20T09:06:44.271829",
     "exception": false,
     "start_time": "2022-07-20T09:06:44.259552",
     "status": "completed"
    },
    "tags": []
   },
   "source": [
    "# Comparison\n",
    "\n",
    "In this section we compare the above 4 backtests."
   ]
  },
  {
   "cell_type": "markdown",
   "id": "5409a40a",
   "metadata": {
    "papermill": {
     "duration": 0.011982,
     "end_time": "2022-07-20T09:06:44.295843",
     "exception": false,
     "start_time": "2022-07-20T09:06:44.283861",
     "status": "completed"
    },
    "tags": []
   },
   "source": [
    "## Performance\n",
    "\n",
    "As reported in BK2020, using the YZ estimator and TREND signal does not alter the performance characteristics. Rather, the TREND signal somewhat improves the Sharpe ratio. Also the TREND signal lowers the annualised volatility from 12.5% to 10.8% with the close-to-close realised volatility."
   ]
  },
  {
   "cell_type": "code",
   "execution_count": 20,
   "id": "cb99dc34",
   "metadata": {
    "execution": {
     "iopub.execute_input": "2022-07-20T09:06:44.321367Z",
     "iopub.status.busy": "2022-07-20T09:06:44.321079Z",
     "iopub.status.idle": "2022-07-20T09:06:44.334107Z",
     "shell.execute_reply": "2022-07-20T09:06:44.333376Z"
    },
    "papermill": {
     "duration": 0.027736,
     "end_time": "2022-07-20T09:06:44.335891",
     "exception": false,
     "start_time": "2022-07-20T09:06:44.308155",
     "status": "completed"
    },
    "tags": []
   },
   "outputs": [],
   "source": [
    "performance_comp = pd.concat((engine_original_eq, engine_vol_eq, \n",
    "                              engine_trend_eq, engine_combined_eq), axis=1)"
   ]
  },
  {
   "cell_type": "code",
   "execution_count": 21,
   "id": "f01a44b4",
   "metadata": {
    "execution": {
     "iopub.execute_input": "2022-07-20T09:06:44.361529Z",
     "iopub.status.busy": "2022-07-20T09:06:44.361266Z",
     "iopub.status.idle": "2022-07-20T09:06:45.147532Z",
     "shell.execute_reply": "2022-07-20T09:06:45.146813Z"
    },
    "papermill": {
     "duration": 0.80088,
     "end_time": "2022-07-20T09:06:45.149156",
     "exception": false,
     "start_time": "2022-07-20T09:06:44.348276",
     "status": "completed"
    },
    "tags": []
   },
   "outputs": [
    {
     "data": {
      "image/png": "[encoded data removed]",
      "text/plain": [
       "<Figure size 576x324 with 1 Axes>"
      ]
     },
     "metadata": {
      "needs_background": "light"
     },
     "output_type": "display_data"
    }
   ],
   "source": [
    "fig, ax = plt.subplots(figsize=(8, 4.5))\n",
    "performance_comp.plot(ax=ax, logy=True);\n",
    "ax.set_title('Trend-following portfolio')\n",
    "ax.set_ylabel('Cumulative returns');"
   ]
  },
  {
   "cell_type": "code",
   "execution_count": 22,
   "id": "a202e8cb",
   "metadata": {
    "execution": {
     "iopub.execute_input": "2022-07-20T09:06:45.175262Z",
     "iopub.status.busy": "2022-07-20T09:06:45.174996Z",
     "iopub.status.idle": "2022-07-20T09:06:45.266838Z",
     "shell.execute_reply": "2022-07-20T09:06:45.266151Z"
    },
    "papermill": {
     "duration": 0.106851,
     "end_time": "2022-07-20T09:06:45.268568",
     "exception": false,
     "start_time": "2022-07-20T09:06:45.161717",
     "status": "completed"
    },
    "tags": []
   },
   "outputs": [
    {
     "data": {
      "text/html": [
       "<div>\n",
       "<style scoped>\n",
       "    .dataframe tbody tr th:only-of-type {\n",
       "        vertical-align: middle;\n",
       "    }\n",
       "\n",
       "    .dataframe tbody tr th {\n",
       "        vertical-align: top;\n",
       "    }\n",
       "\n",
       "    .dataframe thead th {\n",
       "        text-align: right;\n",
       "    }\n",
       "</style>\n",
       "<table border=\"1\" class=\"dataframe\">\n",
       "  <thead>\n",
       "    <tr style=\"text-align: right;\">\n",
       "      <th></th>\n",
       "      <th>Trend-following portfolio (Moskowitz 2012)</th>\n",
       "      <th>Trend-following portfolio (YZ estimator)</th>\n",
       "      <th>Trend-following portfolio (TREND signal)</th>\n",
       "      <th>Trend-following portfolio (YZ estimator + TREND signal)</th>\n",
       "    </tr>\n",
       "  </thead>\n",
       "  <tbody>\n",
       "    <tr>\n",
       "      <th>CAGR</th>\n",
       "      <td>0.147769</td>\n",
       "      <td>0.149070</td>\n",
       "      <td>0.139702</td>\n",
       "      <td>0.139827</td>\n",
       "    </tr>\n",
       "    <tr>\n",
       "      <th>Annualised vol</th>\n",
       "      <td>0.124974</td>\n",
       "      <td>0.127112</td>\n",
       "      <td>0.107934</td>\n",
       "      <td>0.110536</td>\n",
       "    </tr>\n",
       "    <tr>\n",
       "      <th>Sharpe ratio</th>\n",
       "      <td>1.182395</td>\n",
       "      <td>1.172743</td>\n",
       "      <td>1.294333</td>\n",
       "      <td>1.264991</td>\n",
       "    </tr>\n",
       "    <tr>\n",
       "      <th>Max drawdown</th>\n",
       "      <td>0.259239</td>\n",
       "      <td>0.305877</td>\n",
       "      <td>0.294584</td>\n",
       "      <td>0.313945</td>\n",
       "    </tr>\n",
       "    <tr>\n",
       "      <th>Calmar ratio</th>\n",
       "      <td>0.570010</td>\n",
       "      <td>0.487352</td>\n",
       "      <td>0.474235</td>\n",
       "      <td>0.445385</td>\n",
       "    </tr>\n",
       "    <tr>\n",
       "      <th>Skewness</th>\n",
       "      <td>0.072970</td>\n",
       "      <td>0.281401</td>\n",
       "      <td>0.159184</td>\n",
       "      <td>0.293949</td>\n",
       "    </tr>\n",
       "    <tr>\n",
       "      <th>Kurtosis</th>\n",
       "      <td>19.369863</td>\n",
       "      <td>22.213689</td>\n",
       "      <td>28.047162</td>\n",
       "      <td>32.657903</td>\n",
       "    </tr>\n",
       "    <tr>\n",
       "      <th>Worst return</th>\n",
       "      <td>-0.126276</td>\n",
       "      <td>-0.137043</td>\n",
       "      <td>-0.121269</td>\n",
       "      <td>-0.130152</td>\n",
       "    </tr>\n",
       "    <tr>\n",
       "      <th>Worst 1d return</th>\n",
       "      <td>-0.126276</td>\n",
       "      <td>-0.137043</td>\n",
       "      <td>-0.121269</td>\n",
       "      <td>-0.130152</td>\n",
       "    </tr>\n",
       "    <tr>\n",
       "      <th>Worst 1w return</th>\n",
       "      <td>-0.107725</td>\n",
       "      <td>-0.098542</td>\n",
       "      <td>-0.110077</td>\n",
       "      <td>-0.112097</td>\n",
       "    </tr>\n",
       "    <tr>\n",
       "      <th>Worst 1m return</th>\n",
       "      <td>-0.152667</td>\n",
       "      <td>-0.169177</td>\n",
       "      <td>-0.171789</td>\n",
       "      <td>-0.186272</td>\n",
       "    </tr>\n",
       "  </tbody>\n",
       "</table>\n",
       "</div>"
      ],
      "text/plain": [
       "                 Trend-following portfolio (Moskowitz 2012)  \\\n",
       "CAGR                                               0.147769   \n",
       "Annualised vol                                     0.124974   \n",
       "Sharpe ratio                                       1.182395   \n",
       "Max drawdown                                       0.259239   \n",
       "Calmar ratio                                       0.570010   \n",
       "Skewness                                           0.072970   \n",
       "Kurtosis                                          19.369863   \n",
       "Worst return                                      -0.126276   \n",
       "Worst 1d return                                   -0.126276   \n",
       "Worst 1w return                                   -0.107725   \n",
       "Worst 1m return                                   -0.152667   \n",
       "\n",
       "                 Trend-following portfolio (YZ estimator)  \\\n",
       "CAGR                                             0.149070   \n",
       "Annualised vol                                   0.127112   \n",
       "Sharpe ratio                                     1.172743   \n",
       "Max drawdown                                     0.305877   \n",
       "Calmar ratio                                     0.487352   \n",
       "Skewness                                         0.281401   \n",
       "Kurtosis                                        22.213689   \n",
       "Worst return                                    -0.137043   \n",
       "Worst 1d return                                 -0.137043   \n",
       "Worst 1w return                                 -0.098542   \n",
       "Worst 1m return                                 -0.169177   \n",
       "\n",
       "                 Trend-following portfolio (TREND signal)  \\\n",
       "CAGR                                             0.139702   \n",
       "Annualised vol                                   0.107934   \n",
       "Sharpe ratio                                     1.294333   \n",
       "Max drawdown                                     0.294584   \n",
       "Calmar ratio                                     0.474235   \n",
       "Skewness                                         0.159184   \n",
       "Kurtosis                                        28.047162   \n",
       "Worst return                                    -0.121269   \n",
       "Worst 1d return                                 -0.121269   \n",
       "Worst 1w return                                 -0.110077   \n",
       "Worst 1m return                                 -0.171789   \n",
       "\n",
       "                 Trend-following portfolio (YZ estimator + TREND signal)  \n",
       "CAGR                                                      0.139827        \n",
       "Annualised vol                                            0.110536        \n",
       "Sharpe ratio                                              1.264991        \n",
       "Max drawdown                                              0.313945        \n",
       "Calmar ratio                                              0.445385        \n",
       "Skewness                                                  0.293949        \n",
       "Kurtosis                                                 32.657903        \n",
       "Worst return                                             -0.130152        \n",
       "Worst 1d return                                          -0.130152        \n",
       "Worst 1w return                                          -0.112097        \n",
       "Worst 1m return                                          -0.186272        "
      ]
     },
     "execution_count": 22,
     "metadata": {},
     "output_type": "execute_result"
    }
   ],
   "source": [
    "performance_comp.pipe(Performance).summary()"
   ]
  },
  {
   "cell_type": "markdown",
   "id": "29729a85",
   "metadata": {
    "papermill": {
     "duration": 0.012669,
     "end_time": "2022-07-20T09:06:45.294329",
     "exception": false,
     "start_time": "2022-07-20T09:06:45.281660",
     "status": "completed"
    },
    "tags": []
   },
   "source": [
    "## Turnover reduction\n",
    "\n",
    "Again, as reported in BK2020, both enhancements reduce the turnover significantly while not affecting the performance. The chart below shows the reduction in turnover for each futures contract. By utilising the YZ realised volatility and the TREND signal, overall the turnover is reduced by more than 30%."
   ]
  },
  {
   "cell_type": "code",
   "execution_count": 23,
   "id": "5eedf374",
   "metadata": {
    "execution": {
     "iopub.execute_input": "2022-07-20T09:06:45.321168Z",
     "iopub.status.busy": "2022-07-20T09:06:45.320884Z",
     "iopub.status.idle": "2022-07-20T09:11:51.784716Z",
     "shell.execute_reply": "2022-07-20T09:11:51.784071Z"
    },
    "papermill": {
     "duration": 306.479987,
     "end_time": "2022-07-20T09:11:51.786996",
     "exception": false,
     "start_time": "2022-07-20T09:06:45.307009",
     "status": "completed"
    },
    "tags": []
   },
   "outputs": [],
   "source": [
    "engine_original_pos = engine_original.get_position_by_instrument()\n",
    "engine_vol_pos = engine_vol.get_position_by_instrument()\n",
    "engine_trend_pos = engine_trend.get_position_by_instrument()\n",
    "engine_combined_pos = engine_combined.get_position_by_instrument()"
   ]
  },
  {
   "cell_type": "code",
   "execution_count": 24,
   "id": "7cc1806d",
   "metadata": {
    "execution": {
     "iopub.execute_input": "2022-07-20T09:11:51.820608Z",
     "iopub.status.busy": "2022-07-20T09:11:51.820291Z",
     "iopub.status.idle": "2022-07-20T09:11:51.853179Z",
     "shell.execute_reply": "2022-07-20T09:11:51.852439Z"
    },
    "papermill": {
     "duration": 0.049665,
     "end_time": "2022-07-20T09:11:51.855128",
     "exception": false,
     "start_time": "2022-07-20T09:11:51.805463",
     "status": "completed"
    },
    "tags": []
   },
   "outputs": [],
   "source": [
    "engine_original_turnover = (engine_original_pos.diff().abs().mean().mul(261)\n",
    "                            .rename('Trend-following portfolio (Moskowitz 2012)'))\n",
    "engine_vol_turnover = (engine_vol_pos.diff().abs().mean().mul(261)\n",
    "                       .rename('Trend-following portfolio (YZ estimator)'))\n",
    "engine_trend_turnover = (engine_trend_pos.diff().abs().mean().mul(261)\n",
    "                         .rename('Trend-following portfolio (TREND signal)'))\n",
    "engine_combined_turnover = (engine_combined_pos.diff().abs().mean().mul(261)\n",
    "                            .rename('Trend-following portfolio (YZ estimator + TREND signal)'))"
   ]
  },
  {
   "cell_type": "code",
   "execution_count": 25,
   "id": "636752d4",
   "metadata": {
    "execution": {
     "iopub.execute_input": "2022-07-20T09:11:51.882393Z",
     "iopub.status.busy": "2022-07-20T09:11:51.882132Z",
     "iopub.status.idle": "2022-07-20T09:11:51.889304Z",
     "shell.execute_reply": "2022-07-20T09:11:51.888537Z"
    },
    "papermill": {
     "duration": 0.023135,
     "end_time": "2022-07-20T09:11:51.891061",
     "exception": false,
     "start_time": "2022-07-20T09:11:51.867926",
     "status": "completed"
    },
    "tags": []
   },
   "outputs": [],
   "source": [
    "turnover_reduction = (\n",
    "    pd.concat((engine_vol_turnover, engine_trend_turnover, engine_combined_turnover), axis=1)\n",
    "    .div(engine_original_turnover, axis=0)\n",
    "    .sub(1)\n",
    "    .reindex(index=all_futures_baltas2020.index)\n",
    "    .rename(index=all_futures_baltas2020['name'])\n",
    ")"
   ]
  },
  {
   "cell_type": "code",
   "execution_count": 26,
   "id": "a8c7b7b2",
   "metadata": {
    "execution": {
     "iopub.execute_input": "2022-07-20T09:11:51.917841Z",
     "iopub.status.busy": "2022-07-20T09:11:51.917581Z",
     "iopub.status.idle": "2022-07-20T09:11:51.924139Z",
     "shell.execute_reply": "2022-07-20T09:11:51.923368Z"
    },
    "papermill": {
     "duration": 0.022059,
     "end_time": "2022-07-20T09:11:51.925902",
     "exception": false,
     "start_time": "2022-07-20T09:11:51.903843",
     "status": "completed"
    },
    "tags": []
   },
   "outputs": [
    {
     "data": {
      "text/plain": [
       "Trend-following portfolio (YZ estimator)                  -0.181289\n",
       "Trend-following portfolio (TREND signal)                  -0.207306\n",
       "Trend-following portfolio (YZ estimator + TREND signal)   -0.330837\n",
       "dtype: float64"
      ]
     },
     "execution_count": 26,
     "metadata": {},
     "output_type": "execute_result"
    }
   ],
   "source": [
    "turnover_reduction.mean()"
   ]
  },
  {
   "cell_type": "code",
   "execution_count": 27,
   "id": "b18f1529",
   "metadata": {
    "execution": {
     "iopub.execute_input": "2022-07-20T09:11:51.953166Z",
     "iopub.status.busy": "2022-07-20T09:11:51.952872Z",
     "iopub.status.idle": "2022-07-20T09:11:53.495452Z",
     "shell.execute_reply": "2022-07-20T09:11:53.494549Z"
    },
    "papermill": {
     "duration": 1.558412,
     "end_time": "2022-07-20T09:11:53.497222",
     "exception": false,
     "start_time": "2022-07-20T09:11:51.938810",
     "status": "completed"
    },
    "tags": []
   },
   "outputs": [
    {
     "data": {
      "image/png": "[encoded data removed]",
      "text/plain": [
       "<Figure size 1008x288 with 1 Axes>"
      ]
     },
     "metadata": {
      "needs_background": "light"
     },
     "output_type": "display_data"
    }
   ],
   "source": [
    "ax = turnover_reduction.plot(kind='bar', figsize=(14, 4))\n",
    "ax.yaxis.set_major_formatter(mticker.PercentFormatter(1))\n",
    "ax.axhline(0, color='black', lw=1)\n",
    "ax.axvline(24.5, color='black', lw=1)\n",
    "ax.axvline(30.5, color='black', lw=1)\n",
    "ax.axvline(42.5, color='black', lw=1)\n",
    "ax.set_xlabel('Contract')\n",
    "ax.set_ylabel('Turnover reduction');"
   ]
  },
  {
   "cell_type": "markdown",
   "id": "a7cff4fa",
   "metadata": {
    "papermill": {
     "duration": 0.013469,
     "end_time": "2022-07-20T09:11:53.524243",
     "exception": false,
     "start_time": "2022-07-20T09:11:53.510774",
     "status": "completed"
    },
    "tags": []
   },
   "source": [
    "# Recent performance"
   ]
  },
  {
   "cell_type": "code",
   "execution_count": 28,
   "id": "336c36b0",
   "metadata": {
    "execution": {
     "iopub.execute_input": "2022-07-20T09:11:53.552707Z",
     "iopub.status.busy": "2022-07-20T09:11:53.552442Z",
     "iopub.status.idle": "2022-07-20T09:11:53.990900Z",
     "shell.execute_reply": "2022-07-20T09:11:53.990017Z"
    },
    "papermill": {
     "duration": 0.454824,
     "end_time": "2022-07-20T09:11:53.992695",
     "exception": false,
     "start_time": "2022-07-20T09:11:53.537871",
     "status": "completed"
    },
    "tags": []
   },
   "outputs": [
    {
     "data": {
      "image/png": "[encoded data removed]",
      "text/plain": [
       "<Figure size 576x324 with 1 Axes>"
      ]
     },
     "metadata": {
      "needs_background": "light"
     },
     "output_type": "display_data"
    }
   ],
   "source": [
    "fig, ax = plt.subplots(figsize=(8, 4.5))\n",
    "performance_comp.tail(252 * 2).pct_change().fillna(0).add(1).cumprod().plot(ax=ax, logy=True);\n",
    "ax.set_title('Trend-following portfolio')\n",
    "ax.set_ylabel('Cumulative returns');"
   ]
  },
  {
   "cell_type": "markdown",
   "id": "16c54a09",
   "metadata": {
    "papermill": {
     "duration": 0.014172,
     "end_time": "2022-07-20T09:11:54.021255",
     "exception": false,
     "start_time": "2022-07-20T09:11:54.007083",
     "status": "completed"
    },
    "tags": []
   },
   "source": [
    "# Reference\n",
    "\n",
    "- Baltas, N. and Kosowski, R., 2020. Demystifying time-series momentum strategies: Volatility estimators, trading rules and pairwise correlations. Market Momentum: Theory and Practice\", Wiley.\n",
    "- Moskowitz, T.J., Ooi, Y.H. and Pedersen, L.H., 2012. Time series momentum. Journal of financial economics, 104(2), pp.228-250."
   ]
  },
  {
   "cell_type": "code",
   "execution_count": 29,
   "id": "ecde5440",
   "metadata": {
    "ExecuteTime": {
     "end_time": "2020-08-30T21:20:32.431574Z",
     "start_time": "2020-08-30T21:20:32.429370Z"
    },
    "execution": {
     "iopub.execute_input": "2022-07-20T09:11:54.051433Z",
     "iopub.status.busy": "2022-07-20T09:11:54.051164Z",
     "iopub.status.idle": "2022-07-20T09:11:54.055092Z",
     "shell.execute_reply": "2022-07-20T09:11:54.054482Z"
    },
    "papermill": {
     "duration": 0.021239,
     "end_time": "2022-07-20T09:11:54.056710",
     "exception": false,
     "start_time": "2022-07-20T09:11:54.035471",
     "status": "completed"
    },
    "tags": []
   },
   "outputs": [
    {
     "name": "stdout",
     "output_type": "stream",
     "text": [
      "Updated: 20-Jul-2022 09:11\n"
     ]
    }
   ],
   "source": [
    "print(f'Updated: {datetime.utcnow():%d-%b-%Y %H:%M}')"
   ]
  }
 ],
 "metadata": {
  "hide_input": false,
  "kernelspec": {
   "display_name": "Python 3",
   "language": "python",
   "name": "python3"
  },
  "language_info": {
   "codemirror_mode": {
    "name": "ipython",
    "version": 3
   },
   "file_extension": ".py",
   "mimetype": "text/x-python",
   "name": "python",
   "nbconvert_exporter": "python",
   "pygments_lexer": "ipython3",
   "version": "3.9.6"
  },
  "nav_menu": {},
  "papermill": {
   "duration": 5152.976985,
   "end_time": "2022-07-20T09:11:57.105116",
   "environment_variables": {},
   "exception": null,
   "input_path": "notebooks/papermill/trend_following_baltas2020.ipynb",
   "output_path": "notebooks/trend_following_baltas2020.ipynb",
   "parameters": {},
   "start_time": "2022-07-20T07:46:04.128131",
   "version": "2.1.3"
  },
  "toc": {
   "base_numbering": 1,
   "nav_menu": {},
   "number_sections": true,
   "sideBar": true,
   "skip_h1_title": false,
   "title_cell": "Table of Contents",
   "title_sidebar": "Contents",
   "toc_cell": true,
   "toc_position": {
    "height": "calc(100% - 180px)",
    "left": "10px",
    "top": "150px",
    "width": "165px"
   },
   "toc_section_display": "block",
   "toc_window_display": true
  }
 },
 "nbformat": 4,
 "nbformat_minor": 5
}