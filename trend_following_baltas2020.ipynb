{
 "cells": [
  {
   "cell_type": "markdown",
   "id": "756bed09",
   "metadata": {
    "papermill": {
     "duration": 0.015856,
     "end_time": "2022-08-02T06:28:30.360951",
     "exception": false,
     "start_time": "2022-08-02T06:28:30.345095",
     "status": "completed"
    },
    "tags": []
   },
   "source": [
    "# Trend-following\n",
    "\n",
    "This notebook implements a few improvements that Baltas and Kosowski (2020) (BK2020, hereafter) propose to the time-series momentum strategy which originally appeared in Moskowitz et al (2012).\n",
    "\n",
    "Note that like other notebooks, all backtests are performed by using a private library called `vivace`."
   ]
  },
  {
   "cell_type": "code",
   "execution_count": 1,
   "id": "5bfe0dce",
   "metadata": {
    "ExecuteTime": {
     "end_time": "2020-08-30T21:08:49.524262Z",
     "start_time": "2020-08-30T21:08:48.720115Z"
    },
    "execution": {
     "iopub.execute_input": "2022-08-02T06:28:30.392099Z",
     "iopub.status.busy": "2022-08-02T06:28:30.391690Z",
     "iopub.status.idle": "2022-08-02T06:28:34.716059Z",
     "shell.execute_reply": "2022-08-02T06:28:34.714982Z"
    },
    "papermill": {
     "duration": 4.342998,
     "end_time": "2022-08-02T06:28:34.718776",
     "exception": false,
     "start_time": "2022-08-02T06:28:30.375778",
     "status": "completed"
    },
    "tags": []
   },
   "outputs": [],
   "source": [
    "%matplotlib inline\n",
    "from datetime import datetime\n",
    "import logging\n",
    "import warnings\n",
    "warnings.simplefilter(action='ignore', category=FutureWarning)\n",
    "\n",
    "import pandas as pd\n",
    "import matplotlib.pyplot as plt\n",
    "import matplotlib.ticker as mticker\n",
    "plt.style.use('bmh')\n",
    "\n",
    "from vivace.backtest import signal\n",
    "from vivace.backtest import processing\n",
    "from vivace.backtest.contract import all_futures_baltas2020\n",
    "from vivace.backtest.engine import BacktestEngine\n",
    "from vivace.backtest.enums import Strategy, Weighting, RealisedVolatility\n",
    "from vivace.backtest.stats import Performance"
   ]
  },
  {
   "cell_type": "markdown",
   "id": "dd2cf28d",
   "metadata": {
    "papermill": {
     "duration": 0.010799,
     "end_time": "2022-08-02T06:28:34.740038",
     "exception": false,
     "start_time": "2022-08-02T06:28:34.729239",
     "status": "completed"
    },
    "tags": []
   },
   "source": [
    "# Data"
   ]
  },
  {
   "cell_type": "code",
   "execution_count": 2,
   "id": "ea0dd0f0",
   "metadata": {
    "ExecuteTime": {
     "end_time": "2020-08-30T21:08:49.529214Z",
     "start_time": "2020-08-30T21:08:49.525465Z"
    },
    "execution": {
     "iopub.execute_input": "2022-08-02T06:28:34.774073Z",
     "iopub.status.busy": "2022-08-02T06:28:34.773282Z",
     "iopub.status.idle": "2022-08-02T06:28:34.790629Z",
     "shell.execute_reply": "2022-08-02T06:28:34.789395Z"
    },
    "papermill": {
     "duration": 0.040279,
     "end_time": "2022-08-02T06:28:34.793498",
     "exception": false,
     "start_time": "2022-08-02T06:28:34.753219",
     "status": "completed"
    },
    "tags": []
   },
   "outputs": [
    {
     "data": {
      "text/plain": [
       "array(['WTI Crude Oil', 'Brent Crude Oil', 'Heating Oil', 'Natural Gas',\n",
       "       'Gasoline', 'Copper', 'Gold', 'Palladium', 'Platinum', 'Silver',\n",
       "       'Feeder Cattle', 'Live Cattle', 'Lean Hog', 'Corn', 'Oats',\n",
       "       'Soybean Oil', 'Soybean Meal', 'Soybean', 'Wheat', 'Cocoa',\n",
       "       'Coffee', 'Cotton', 'Lumber', 'Orange Juice', 'Sugar',\n",
       "       'Australian Dollar', 'Canadian Dollar', 'Swiss Franc', 'Euro',\n",
       "       'British Pound', 'Japanese Yen', 'E-Mini Nasdaq 100',\n",
       "       'E-mini S&P 500', 'E-mini Russell 2000', 'FTSE 100', 'DAX',\n",
       "       'CAC 40', 'IBEX 35', 'AEX', 'Swiss Market Index', 'SPI 200',\n",
       "       'Topix', 'Hang Seng', 'US 2-year Treasury', 'US 5-year Treasury',\n",
       "       'US 10-year Treasury', 'US treasury Bond', 'Germany Schatz',\n",
       "       'Germany Bobl', 'Germany Bund', 'Germany Buxl', 'Gilt',\n",
       "       'Canada 10-year Treasury', 'JGB'], dtype=object)"
      ]
     },
     "execution_count": 2,
     "metadata": {},
     "output_type": "execute_result"
    }
   ],
   "source": [
    "all_futures_baltas2020['name'].values"
   ]
  },
  {
   "cell_type": "code",
   "execution_count": 3,
   "id": "b38ceef0",
   "metadata": {
    "ExecuteTime": {
     "end_time": "2020-08-30T21:08:49.542477Z",
     "start_time": "2020-08-30T21:08:49.530487Z"
    },
    "execution": {
     "iopub.execute_input": "2022-08-02T06:28:34.862560Z",
     "iopub.status.busy": "2022-08-02T06:28:34.862090Z",
     "iopub.status.idle": "2022-08-02T06:28:34.867536Z",
     "shell.execute_reply": "2022-08-02T06:28:34.866681Z"
    },
    "papermill": {
     "duration": 0.061144,
     "end_time": "2022-08-02T06:28:34.870040",
     "exception": false,
     "start_time": "2022-08-02T06:28:34.808896",
     "status": "completed"
    },
    "tags": []
   },
   "outputs": [
    {
     "name": "stdout",
     "output_type": "stream",
     "text": [
      "54\n"
     ]
    }
   ],
   "source": [
    "print(len(all_futures_baltas2020))"
   ]
  },
  {
   "cell_type": "markdown",
   "id": "687e2146",
   "metadata": {
    "papermill": {
     "duration": 0.015107,
     "end_time": "2022-08-02T06:28:34.900303",
     "exception": false,
     "start_time": "2022-08-02T06:28:34.885196",
     "status": "completed"
    },
    "tags": []
   },
   "source": [
    "We try to use the same contract as the original paper where possible, resulting 54 futures contracts to analyse. The trading universe covers a wide range of asset classes and regions, and is made up of following instruments:\n",
    "- Equity index futures\n",
    "- Government bond futures\n",
    "- FX futures\n",
    "- Commodity futures\n",
    "\n",
    "where the same trend detection method is applied."
   ]
  },
  {
   "cell_type": "markdown",
   "id": "04322391",
   "metadata": {
    "papermill": {
     "duration": 0.015439,
     "end_time": "2022-08-02T06:28:34.930829",
     "exception": false,
     "start_time": "2022-08-02T06:28:34.915390",
     "status": "completed"
    },
    "tags": []
   },
   "source": [
    "# Performance\n"
   ]
  },
  {
   "cell_type": "markdown",
   "id": "cae513f7",
   "metadata": {
    "papermill": {
     "duration": 0.015402,
     "end_time": "2022-08-02T06:28:34.961251",
     "exception": false,
     "start_time": "2022-08-02T06:28:34.945849",
     "status": "completed"
    },
    "tags": []
   },
   "source": [
    "## Moskowitz et al\n",
    "\n",
    "First we calculate the original trend-following portfolio with a more traditional close-to-close realised volatility estimator. Although Moskowitz et al uses the exponentially weighted standard deviation, BK2020 appears to compare against the rolling standard deviation."
   ]
  },
  {
   "cell_type": "code",
   "execution_count": 4,
   "id": "23e9d42a",
   "metadata": {
    "execution": {
     "iopub.execute_input": "2022-08-02T06:28:34.989100Z",
     "iopub.status.busy": "2022-08-02T06:28:34.988436Z",
     "iopub.status.idle": "2022-08-02T06:40:50.198683Z",
     "shell.execute_reply": "2022-08-02T06:40:50.197583Z"
    },
    "papermill": {
     "duration": 735.224964,
     "end_time": "2022-08-02T06:40:50.201186",
     "exception": false,
     "start_time": "2022-08-02T06:28:34.976222",
     "status": "completed"
    },
    "tags": []
   },
   "outputs": [],
   "source": [
    "engine_original = BacktestEngine(\n",
    "    strategy=Strategy.DELTA_ONE.value,\n",
    "    instrument=all_futures_baltas2020.index,\n",
    "    signal=signal.ParallelSignal([\n",
    "        signal.VolatilityScale(agg_method='rolling', window=21, ann_factor=261, \n",
    "                               target_volatility=0.4, signal_cap=0.95),\n",
    "        signal.TSMOMMoskowitz2012(post_process=processing.AsFreq(freq='m', method='pad'))\n",
    "    ], weighting='product'),\n",
    "    weighting=Weighting.EQUAL_WEIGHT.value,\n",
    "    log_level=logging.WARN,\n",
    ")\n",
    "engine_original.run()"
   ]
  },
  {
   "cell_type": "code",
   "execution_count": 5,
   "id": "fd227318",
   "metadata": {
    "execution": {
     "iopub.execute_input": "2022-08-02T06:40:50.231184Z",
     "iopub.status.busy": "2022-08-02T06:40:50.230896Z",
     "iopub.status.idle": "2022-08-02T06:42:24.450294Z",
     "shell.execute_reply": "2022-08-02T06:42:24.449548Z"
    },
    "papermill": {
     "duration": 94.236814,
     "end_time": "2022-08-02T06:42:24.452192",
     "exception": false,
     "start_time": "2022-08-02T06:40:50.215378",
     "status": "completed"
    },
    "tags": []
   },
   "outputs": [],
   "source": [
    "engine_original_eq = (engine_original.calculate_equity_curve(calculate_net=False, rebalance_freq='m')\n",
    "                      .rename('Trend-following portfolio (Moskowitz 2012)'))"
   ]
  },
  {
   "cell_type": "code",
   "execution_count": 6,
   "id": "f95c926e",
   "metadata": {
    "execution": {
     "iopub.execute_input": "2022-08-02T06:42:24.475257Z",
     "iopub.status.busy": "2022-08-02T06:42:24.474875Z",
     "iopub.status.idle": "2022-08-02T06:42:25.389334Z",
     "shell.execute_reply": "2022-08-02T06:42:25.388418Z"
    },
    "papermill": {
     "duration": 0.928335,
     "end_time": "2022-08-02T06:42:25.391616",
     "exception": false,
     "start_time": "2022-08-02T06:42:24.463281",
     "status": "completed"
    },
    "tags": []
   },
   "outputs": [
    {
     "data": {
      "image/png": "[encoded data removed]",
      "text/plain": [
       "<Figure size 576x324 with 1 Axes>"
      ]
     },
     "metadata": {
      "needs_background": "light"
     },
     "output_type": "display_data"
    }
   ],
   "source": [
    "fig, ax = plt.subplots(figsize=(8, 4.5))\n",
    "engine_original_eq.plot(ax=ax, logy=True)\n",
    "ax.set_title('Trend-following portfolio (Moskowitz 2012)')\n",
    "ax.set_ylabel('Cumulative returns');"
   ]
  },
  {
   "cell_type": "code",
   "execution_count": 7,
   "id": "9cd61ae3",
   "metadata": {
    "execution": {
     "iopub.execute_input": "2022-08-02T06:42:25.423652Z",
     "iopub.status.busy": "2022-08-02T06:42:25.423371Z",
     "iopub.status.idle": "2022-08-02T06:42:25.512198Z",
     "shell.execute_reply": "2022-08-02T06:42:25.511545Z"
    },
    "papermill": {
     "duration": 0.107606,
     "end_time": "2022-08-02T06:42:25.514543",
     "exception": false,
     "start_time": "2022-08-02T06:42:25.406937",
     "status": "completed"
    },
    "tags": []
   },
   "outputs": [
    {
     "data": {
      "text/html": [
       "<div>\n",
       "<style scoped>\n",
       "    .dataframe tbody tr th:only-of-type {\n",
       "        vertical-align: middle;\n",
       "    }\n",
       "\n",
       "    .dataframe tbody tr th {\n",
       "        vertical-align: top;\n",
       "    }\n",
       "\n",
       "    .dataframe thead th {\n",
       "        text-align: right;\n",
       "    }\n",
       "</style>\n",
       "<table border=\"1\" class=\"dataframe\">\n",
       "  <thead>\n",
       "    <tr style=\"text-align: right;\">\n",
       "      <th></th>\n",
       "      <th>Trend-following portfolio (Moskowitz 2012)</th>\n",
       "    </tr>\n",
       "  </thead>\n",
       "  <tbody>\n",
       "    <tr>\n",
       "      <th>CAGR</th>\n",
       "      <td>0.147039</td>\n",
       "    </tr>\n",
       "    <tr>\n",
       "      <th>Annualised vol</th>\n",
       "      <td>0.124970</td>\n",
       "    </tr>\n",
       "    <tr>\n",
       "      <th>Sharpe ratio</th>\n",
       "      <td>1.176594</td>\n",
       "    </tr>\n",
       "    <tr>\n",
       "      <th>Max drawdown</th>\n",
       "      <td>0.259239</td>\n",
       "    </tr>\n",
       "    <tr>\n",
       "      <th>Calmar ratio</th>\n",
       "      <td>0.567193</td>\n",
       "    </tr>\n",
       "    <tr>\n",
       "      <th>Skewness</th>\n",
       "      <td>0.073414</td>\n",
       "    </tr>\n",
       "    <tr>\n",
       "      <th>Kurtosis</th>\n",
       "      <td>19.361706</td>\n",
       "    </tr>\n",
       "    <tr>\n",
       "      <th>Worst return</th>\n",
       "      <td>-0.126276</td>\n",
       "    </tr>\n",
       "    <tr>\n",
       "      <th>Worst 1d return</th>\n",
       "      <td>-0.126276</td>\n",
       "    </tr>\n",
       "    <tr>\n",
       "      <th>Worst 1w return</th>\n",
       "      <td>-0.107725</td>\n",
       "    </tr>\n",
       "    <tr>\n",
       "      <th>Worst 1m return</th>\n",
       "      <td>-0.152667</td>\n",
       "    </tr>\n",
       "  </tbody>\n",
       "</table>\n",
       "</div>"
      ],
      "text/plain": [
       "                 Trend-following portfolio (Moskowitz 2012)\n",
       "CAGR                                               0.147039\n",
       "Annualised vol                                     0.124970\n",
       "Sharpe ratio                                       1.176594\n",
       "Max drawdown                                       0.259239\n",
       "Calmar ratio                                       0.567193\n",
       "Skewness                                           0.073414\n",
       "Kurtosis                                          19.361706\n",
       "Worst return                                      -0.126276\n",
       "Worst 1d return                                   -0.126276\n",
       "Worst 1w return                                   -0.107725\n",
       "Worst 1m return                                   -0.152667"
      ]
     },
     "execution_count": 7,
     "metadata": {},
     "output_type": "execute_result"
    }
   ],
   "source": [
    "engine_original_eq.pipe(Performance).summary()"
   ]
  },
  {
   "cell_type": "markdown",
   "id": "87de5406",
   "metadata": {
    "papermill": {
     "duration": 0.016254,
     "end_time": "2022-08-02T06:42:25.547295",
     "exception": false,
     "start_time": "2022-08-02T06:42:25.531041",
     "status": "completed"
    },
    "tags": []
   },
   "source": [
    "\n",
    "## Volatility estimator\n",
    "BK2020 proposes a few changes in order to enhance the original trend-following strategy Moskowitz et al reported. The first thing is to use a more sophisticated realised volatility estimators for volatility scaling. Moskowitz used the exponentially weighted standard deviation with close-to-close. On the other hand, BK2020 suggests to use Yang-Zhang estimator as it is much more efficient."
   ]
  },
  {
   "cell_type": "code",
   "execution_count": 8,
   "id": "8979a25e",
   "metadata": {
    "ExecuteTime": {
     "end_time": "2020-08-30T21:18:24.661167Z",
     "start_time": "2020-08-30T21:08:49.544232Z"
    },
    "execution": {
     "iopub.execute_input": "2022-08-02T06:42:25.581512Z",
     "iopub.status.busy": "2022-08-02T06:42:25.581183Z",
     "iopub.status.idle": "2022-08-02T07:04:16.451030Z",
     "shell.execute_reply": "2022-08-02T07:04:16.450020Z"
    },
    "papermill": {
     "duration": 1310.889632,
     "end_time": "2022-08-02T07:04:16.453220",
     "exception": false,
     "start_time": "2022-08-02T06:42:25.563588",
     "status": "completed"
    },
    "tags": []
   },
   "outputs": [],
   "source": [
    "engine_vol = BacktestEngine(\n",
    "    strategy=Strategy.DELTA_ONE.value,\n",
    "    instrument=all_futures_baltas2020.index,\n",
    "    signal=signal.ParallelSignal([\n",
    "        signal.VolatilityScale(volatility_type=RealisedVolatility.YZ.value,\n",
    "                               agg_method='rolling', window=21, min_periods=10,\n",
    "                               target_volatility=0.4, signal_cap=0.95, ann_factor=261),\n",
    "        signal.TSMOMMoskowitz2012(post_process=processing.AsFreq(freq='m', method='pad'))\n",
    "    ], weighting='product'),\n",
    "    weighting=Weighting.EQUAL_WEIGHT.value,\n",
    "    log_level=logging.WARN,\n",
    ")\n",
    "engine_vol.run()"
   ]
  },
  {
   "cell_type": "code",
   "execution_count": 9,
   "id": "23b754ce",
   "metadata": {
    "execution": {
     "iopub.execute_input": "2022-08-02T07:04:16.477175Z",
     "iopub.status.busy": "2022-08-02T07:04:16.476445Z",
     "iopub.status.idle": "2022-08-02T07:05:43.656814Z",
     "shell.execute_reply": "2022-08-02T07:05:43.656121Z"
    },
    "papermill": {
     "duration": 87.195287,
     "end_time": "2022-08-02T07:05:43.659397",
     "exception": false,
     "start_time": "2022-08-02T07:04:16.464110",
     "status": "completed"
    },
    "tags": []
   },
   "outputs": [],
   "source": [
    "engine_vol_eq = (engine_vol.calculate_equity_curve(calculate_net=False, rebalance_freq='m')\n",
    "                 .rename('Trend-following portfolio (YZ estimator)'))"
   ]
  },
  {
   "cell_type": "code",
   "execution_count": 10,
   "id": "592f0075",
   "metadata": {
    "execution": {
     "iopub.execute_input": "2022-08-02T07:05:43.688960Z",
     "iopub.status.busy": "2022-08-02T07:05:43.688458Z",
     "iopub.status.idle": "2022-08-02T07:05:44.361993Z",
     "shell.execute_reply": "2022-08-02T07:05:44.349892Z"
    },
    "papermill": {
     "duration": 0.693568,
     "end_time": "2022-08-02T07:05:44.365180",
     "exception": false,
     "start_time": "2022-08-02T07:05:43.671612",
     "status": "completed"
    },
    "tags": []
   },
   "outputs": [
    {
     "data": {
      "image/png": "[encoded data removed]",
      "text/plain": [
       "<Figure size 576x324 with 1 Axes>"
      ]
     },
     "metadata": {
      "needs_background": "light"
     },
     "output_type": "display_data"
    }
   ],
   "source": [
    "fig, ax = plt.subplots(figsize=(8, 4.5))\n",
    "engine_vol_eq.plot(ax=ax, logy=True);\n",
    "ax.set_title('Trend-following portfolio (YZ estimator)')\n",
    "ax.set_ylabel('Cumulative returns');"
   ]
  },
  {
   "cell_type": "code",
   "execution_count": 11,
   "id": "259d387d",
   "metadata": {
    "execution": {
     "iopub.execute_input": "2022-08-02T07:05:44.402960Z",
     "iopub.status.busy": "2022-08-02T07:05:44.402065Z",
     "iopub.status.idle": "2022-08-02T07:05:44.529068Z",
     "shell.execute_reply": "2022-08-02T07:05:44.528316Z"
    },
    "papermill": {
     "duration": 0.14825,
     "end_time": "2022-08-02T07:05:44.531471",
     "exception": false,
     "start_time": "2022-08-02T07:05:44.383221",
     "status": "completed"
    },
    "tags": []
   },
   "outputs": [
    {
     "data": {
      "text/html": [
       "<div>\n",
       "<style scoped>\n",
       "    .dataframe tbody tr th:only-of-type {\n",
       "        vertical-align: middle;\n",
       "    }\n",
       "\n",
       "    .dataframe tbody tr th {\n",
       "        vertical-align: top;\n",
       "    }\n",
       "\n",
       "    .dataframe thead th {\n",
       "        text-align: right;\n",
       "    }\n",
       "</style>\n",
       "<table border=\"1\" class=\"dataframe\">\n",
       "  <thead>\n",
       "    <tr style=\"text-align: right;\">\n",
       "      <th></th>\n",
       "      <th>Trend-following portfolio (YZ estimator)</th>\n",
       "    </tr>\n",
       "  </thead>\n",
       "  <tbody>\n",
       "    <tr>\n",
       "      <th>CAGR</th>\n",
       "      <td>0.148696</td>\n",
       "    </tr>\n",
       "    <tr>\n",
       "      <th>Annualised vol</th>\n",
       "      <td>0.127264</td>\n",
       "    </tr>\n",
       "    <tr>\n",
       "      <th>Sharpe ratio</th>\n",
       "      <td>1.168404</td>\n",
       "    </tr>\n",
       "    <tr>\n",
       "      <th>Max drawdown</th>\n",
       "      <td>0.305877</td>\n",
       "    </tr>\n",
       "    <tr>\n",
       "      <th>Calmar ratio</th>\n",
       "      <td>0.486130</td>\n",
       "    </tr>\n",
       "    <tr>\n",
       "      <th>Skewness</th>\n",
       "      <td>0.280748</td>\n",
       "    </tr>\n",
       "    <tr>\n",
       "      <th>Kurtosis</th>\n",
       "      <td>22.142516</td>\n",
       "    </tr>\n",
       "    <tr>\n",
       "      <th>Worst return</th>\n",
       "      <td>-0.137043</td>\n",
       "    </tr>\n",
       "    <tr>\n",
       "      <th>Worst 1d return</th>\n",
       "      <td>-0.137043</td>\n",
       "    </tr>\n",
       "    <tr>\n",
       "      <th>Worst 1w return</th>\n",
       "      <td>-0.098542</td>\n",
       "    </tr>\n",
       "    <tr>\n",
       "      <th>Worst 1m return</th>\n",
       "      <td>-0.169177</td>\n",
       "    </tr>\n",
       "  </tbody>\n",
       "</table>\n",
       "</div>"
      ],
      "text/plain": [
       "                 Trend-following portfolio (YZ estimator)\n",
       "CAGR                                             0.148696\n",
       "Annualised vol                                   0.127264\n",
       "Sharpe ratio                                     1.168404\n",
       "Max drawdown                                     0.305877\n",
       "Calmar ratio                                     0.486130\n",
       "Skewness                                         0.280748\n",
       "Kurtosis                                        22.142516\n",
       "Worst return                                    -0.137043\n",
       "Worst 1d return                                 -0.137043\n",
       "Worst 1w return                                 -0.098542\n",
       "Worst 1m return                                 -0.169177"
      ]
     },
     "execution_count": 11,
     "metadata": {},
     "output_type": "execute_result"
    }
   ],
   "source": [
    "engine_vol_eq.pipe(Performance).summary()"
   ]
  },
  {
   "cell_type": "markdown",
   "id": "ab59e8cb",
   "metadata": {
    "papermill": {
     "duration": 0.017313,
     "end_time": "2022-08-02T07:05:44.566265",
     "exception": false,
     "start_time": "2022-08-02T07:05:44.548952",
     "status": "completed"
    },
    "tags": []
   },
   "source": [
    "## TREND signal\n",
    "\n",
    "Another improvement BK2020 proposes is to use a continuous signal rather than a binary one in order to reduce the turnover when signals are weak. Specifically they used the t-values with the Newey-West standard error as the signal. They further capped and floored the signal between -1 and +1 to avoid extreme positions.\n",
    "\n",
    "`statsmodels`'s `OLS` class provides a method to compute the Newey-West standard error. https://www.statsmodels.org/stable/generated/statsmodels.regression.linear_model.OLS.html"
   ]
  },
  {
   "cell_type": "code",
   "execution_count": 12,
   "id": "a6fef613",
   "metadata": {
    "execution": {
     "iopub.execute_input": "2022-08-02T07:05:44.602148Z",
     "iopub.status.busy": "2022-08-02T07:05:44.601787Z",
     "iopub.status.idle": "2022-08-02T07:24:21.645012Z",
     "shell.execute_reply": "2022-08-02T07:24:21.643908Z"
    },
    "papermill": {
     "duration": 1117.064227,
     "end_time": "2022-08-02T07:24:21.647687",
     "exception": false,
     "start_time": "2022-08-02T07:05:44.583460",
     "status": "completed"
    },
    "tags": []
   },
   "outputs": [],
   "source": [
    "engine_trend = BacktestEngine(\n",
    "    strategy=Strategy.DELTA_ONE.value,\n",
    "    instrument=all_futures_baltas2020.index,\n",
    "    signal=signal.ParallelSignal([\n",
    "        signal.VolatilityScale(agg_method='rolling', window=21, ann_factor=261, \n",
    "                               target_volatility=0.4, signal_cap=0.95),\n",
    "        signal.TSMOMBaltas2020()\n",
    "    ], weighting='product'),\n",
    "    weighting=Weighting.EQUAL_WEIGHT.value,\n",
    "    log_level=logging.WARN,\n",
    ")\n",
    "engine_trend.run()"
   ]
  },
  {
   "cell_type": "code",
   "execution_count": 13,
   "id": "9a9c3f30",
   "metadata": {
    "execution": {
     "iopub.execute_input": "2022-08-02T07:24:21.683747Z",
     "iopub.status.busy": "2022-08-02T07:24:21.683468Z",
     "iopub.status.idle": "2022-08-02T07:25:50.098203Z",
     "shell.execute_reply": "2022-08-02T07:25:50.097162Z"
    },
    "papermill": {
     "duration": 88.435188,
     "end_time": "2022-08-02T07:25:50.100300",
     "exception": false,
     "start_time": "2022-08-02T07:24:21.665112",
     "status": "completed"
    },
    "tags": []
   },
   "outputs": [],
   "source": [
    "engine_trend_eq = (engine_trend.calculate_equity_curve(calculate_net=False, rebalance_freq='m')\n",
    "                   .rename('Trend-following portfolio (TREND signal)'))"
   ]
  },
  {
   "cell_type": "code",
   "execution_count": 14,
   "id": "10ef5c20",
   "metadata": {
    "execution": {
     "iopub.execute_input": "2022-08-02T07:25:50.130293Z",
     "iopub.status.busy": "2022-08-02T07:25:50.130016Z",
     "iopub.status.idle": "2022-08-02T07:25:50.844962Z",
     "shell.execute_reply": "2022-08-02T07:25:50.844279Z"
    },
    "papermill": {
     "duration": 0.733637,
     "end_time": "2022-08-02T07:25:50.847380",
     "exception": false,
     "start_time": "2022-08-02T07:25:50.113743",
     "status": "completed"
    },
    "tags": []
   },
   "outputs": [
    {
     "data": {
      "image/png": "[encoded data removed]",
      "text/plain": [
       "<Figure size 576x324 with 1 Axes>"
      ]
     },
     "metadata": {
      "needs_background": "light"
     },
     "output_type": "display_data"
    }
   ],
   "source": [
    "fig, ax = plt.subplots(figsize=(8, 4.5))\n",
    "engine_trend_eq.plot(ax=ax, logy=True);\n",
    "ax.set_title('Trend-following portfolio (TREND signal)')\n",
    "ax.set_ylabel('Cumulative returns');"
   ]
  },
  {
   "cell_type": "code",
   "execution_count": 15,
   "id": "f97232f2",
   "metadata": {
    "execution": {
     "iopub.execute_input": "2022-08-02T07:25:50.884946Z",
     "iopub.status.busy": "2022-08-02T07:25:50.884613Z",
     "iopub.status.idle": "2022-08-02T07:25:50.965256Z",
     "shell.execute_reply": "2022-08-02T07:25:50.964573Z"
    },
    "papermill": {
     "duration": 0.101785,
     "end_time": "2022-08-02T07:25:50.967498",
     "exception": false,
     "start_time": "2022-08-02T07:25:50.865713",
     "status": "completed"
    },
    "tags": []
   },
   "outputs": [
    {
     "data": {
      "text/html": [
       "<div>\n",
       "<style scoped>\n",
       "    .dataframe tbody tr th:only-of-type {\n",
       "        vertical-align: middle;\n",
       "    }\n",
       "\n",
       "    .dataframe tbody tr th {\n",
       "        vertical-align: top;\n",
       "    }\n",
       "\n",
       "    .dataframe thead th {\n",
       "        text-align: right;\n",
       "    }\n",
       "</style>\n",
       "<table border=\"1\" class=\"dataframe\">\n",
       "  <thead>\n",
       "    <tr style=\"text-align: right;\">\n",
       "      <th></th>\n",
       "      <th>Trend-following portfolio (TREND signal)</th>\n",
       "    </tr>\n",
       "  </thead>\n",
       "  <tbody>\n",
       "    <tr>\n",
       "      <th>CAGR</th>\n",
       "      <td>0.139089</td>\n",
       "    </tr>\n",
       "    <tr>\n",
       "      <th>Annualised vol</th>\n",
       "      <td>0.107933</td>\n",
       "    </tr>\n",
       "    <tr>\n",
       "      <th>Sharpe ratio</th>\n",
       "      <td>1.288661</td>\n",
       "    </tr>\n",
       "    <tr>\n",
       "      <th>Max drawdown</th>\n",
       "      <td>0.294584</td>\n",
       "    </tr>\n",
       "    <tr>\n",
       "      <th>Calmar ratio</th>\n",
       "      <td>0.472155</td>\n",
       "    </tr>\n",
       "    <tr>\n",
       "      <th>Skewness</th>\n",
       "      <td>0.159437</td>\n",
       "    </tr>\n",
       "    <tr>\n",
       "      <th>Kurtosis</th>\n",
       "      <td>28.031831</td>\n",
       "    </tr>\n",
       "    <tr>\n",
       "      <th>Worst return</th>\n",
       "      <td>-0.121269</td>\n",
       "    </tr>\n",
       "    <tr>\n",
       "      <th>Worst 1d return</th>\n",
       "      <td>-0.121269</td>\n",
       "    </tr>\n",
       "    <tr>\n",
       "      <th>Worst 1w return</th>\n",
       "      <td>-0.110077</td>\n",
       "    </tr>\n",
       "    <tr>\n",
       "      <th>Worst 1m return</th>\n",
       "      <td>-0.171789</td>\n",
       "    </tr>\n",
       "  </tbody>\n",
       "</table>\n",
       "</div>"
      ],
      "text/plain": [
       "                 Trend-following portfolio (TREND signal)\n",
       "CAGR                                             0.139089\n",
       "Annualised vol                                   0.107933\n",
       "Sharpe ratio                                     1.288661\n",
       "Max drawdown                                     0.294584\n",
       "Calmar ratio                                     0.472155\n",
       "Skewness                                         0.159437\n",
       "Kurtosis                                        28.031831\n",
       "Worst return                                    -0.121269\n",
       "Worst 1d return                                 -0.121269\n",
       "Worst 1w return                                 -0.110077\n",
       "Worst 1m return                                 -0.171789"
      ]
     },
     "execution_count": 15,
     "metadata": {},
     "output_type": "execute_result"
    }
   ],
   "source": [
    "engine_trend_eq.pipe(Performance).summary()"
   ]
  },
  {
   "cell_type": "markdown",
   "id": "cf0973f4",
   "metadata": {
    "papermill": {
     "duration": 0.018074,
     "end_time": "2022-08-02T07:25:51.004332",
     "exception": false,
     "start_time": "2022-08-02T07:25:50.986258",
     "status": "completed"
    },
    "tags": []
   },
   "source": [
    "## Combined\n",
    "\n",
    "Finally we run a backtest by using both the Yang-Zhang volatility estimator and the TREND signal."
   ]
  },
  {
   "cell_type": "code",
   "execution_count": 16,
   "id": "345598ca",
   "metadata": {
    "execution": {
     "iopub.execute_input": "2022-08-02T07:25:51.045812Z",
     "iopub.status.busy": "2022-08-02T07:25:51.045409Z",
     "iopub.status.idle": "2022-08-02T07:52:55.246762Z",
     "shell.execute_reply": "2022-08-02T07:52:55.246028Z"
    },
    "papermill": {
     "duration": 1624.227095,
     "end_time": "2022-08-02T07:52:55.249417",
     "exception": false,
     "start_time": "2022-08-02T07:25:51.022322",
     "status": "completed"
    },
    "tags": []
   },
   "outputs": [],
   "source": [
    "engine_combined = BacktestEngine(\n",
    "    strategy=Strategy.DELTA_ONE.value,\n",
    "    instrument=all_futures_baltas2020.index,\n",
    "    signal=signal.ParallelSignal([\n",
    "        signal.VolatilityScale(volatility_type=RealisedVolatility.YZ.value,\n",
    "                               agg_method='rolling', window=21, min_periods=10,\n",
    "                               target_volatility=0.4, signal_cap=0.95, ann_factor=261),\n",
    "        signal.TSMOMBaltas2020()\n",
    "    ], weighting='product'),\n",
    "    weighting=Weighting.EQUAL_WEIGHT.value,\n",
    "    log_level=logging.WARN,\n",
    ")\n",
    "engine_combined.run()"
   ]
  },
  {
   "cell_type": "code",
   "execution_count": 17,
   "id": "dab3bbff",
   "metadata": {
    "execution": {
     "iopub.execute_input": "2022-08-02T07:52:55.287630Z",
     "iopub.status.busy": "2022-08-02T07:52:55.287354Z",
     "iopub.status.idle": "2022-08-02T07:54:17.474444Z",
     "shell.execute_reply": "2022-08-02T07:54:17.473675Z"
    },
    "papermill": {
     "duration": 82.208569,
     "end_time": "2022-08-02T07:54:17.476798",
     "exception": false,
     "start_time": "2022-08-02T07:52:55.268229",
     "status": "completed"
    },
    "tags": []
   },
   "outputs": [],
   "source": [
    "engine_combined_eq = (engine_combined.calculate_equity_curve(calculate_net=False, rebalance_freq='m')\n",
    "                      .rename('Trend-following portfolio (YZ estimator + TREND signal)'))"
   ]
  },
  {
   "cell_type": "code",
   "execution_count": 18,
   "id": "6c5fc609",
   "metadata": {
    "execution": {
     "iopub.execute_input": "2022-08-02T07:54:17.501580Z",
     "iopub.status.busy": "2022-08-02T07:54:17.501203Z",
     "iopub.status.idle": "2022-08-02T07:54:18.078949Z",
     "shell.execute_reply": "2022-08-02T07:54:18.078212Z"
    },
    "papermill": {
     "duration": 0.59201,
     "end_time": "2022-08-02T07:54:18.080588",
     "exception": false,
     "start_time": "2022-08-02T07:54:17.488578",
     "status": "completed"
    },
    "tags": []
   },
   "outputs": [
    {
     "data": {
      "image/png": "[encoded data removed]",
      "text/plain": [
       "<Figure size 576x324 with 1 Axes>"
      ]
     },
     "metadata": {
      "needs_background": "light"
     },
     "output_type": "display_data"
    }
   ],
   "source": [
    "fig, ax = plt.subplots(figsize=(8, 4.5))\n",
    "engine_combined_eq.plot(ax=ax, logy=True)\n",
    "ax.set_title('Trend-following portfolio (YZ estimator + TREND signal)')\n",
    "ax.set_ylabel('Cumulative returns');"
   ]
  },
  {
   "cell_type": "code",
   "execution_count": 19,
   "id": "c4f215fa",
   "metadata": {
    "execution": {
     "iopub.execute_input": "2022-08-02T07:54:18.105806Z",
     "iopub.status.busy": "2022-08-02T07:54:18.105542Z",
     "iopub.status.idle": "2022-08-02T07:54:18.193279Z",
     "shell.execute_reply": "2022-08-02T07:54:18.192593Z"
    },
    "papermill": {
     "duration": 0.102424,
     "end_time": "2022-08-02T07:54:18.195376",
     "exception": false,
     "start_time": "2022-08-02T07:54:18.092952",
     "status": "completed"
    },
    "tags": []
   },
   "outputs": [
    {
     "data": {
      "text/html": [
       "<div>\n",
       "<style scoped>\n",
       "    .dataframe tbody tr th:only-of-type {\n",
       "        vertical-align: middle;\n",
       "    }\n",
       "\n",
       "    .dataframe tbody tr th {\n",
       "        vertical-align: top;\n",
       "    }\n",
       "\n",
       "    .dataframe thead th {\n",
       "        text-align: right;\n",
       "    }\n",
       "</style>\n",
       "<table border=\"1\" class=\"dataframe\">\n",
       "  <thead>\n",
       "    <tr style=\"text-align: right;\">\n",
       "      <th></th>\n",
       "      <th>Trend-following portfolio (YZ estimator + TREND signal)</th>\n",
       "    </tr>\n",
       "  </thead>\n",
       "  <tbody>\n",
       "    <tr>\n",
       "      <th>CAGR</th>\n",
       "      <td>0.139542</td>\n",
       "    </tr>\n",
       "    <tr>\n",
       "      <th>Annualised vol</th>\n",
       "      <td>0.110672</td>\n",
       "    </tr>\n",
       "    <tr>\n",
       "      <th>Sharpe ratio</th>\n",
       "      <td>1.260861</td>\n",
       "    </tr>\n",
       "    <tr>\n",
       "      <th>Max drawdown</th>\n",
       "      <td>0.313945</td>\n",
       "    </tr>\n",
       "    <tr>\n",
       "      <th>Calmar ratio</th>\n",
       "      <td>0.444477</td>\n",
       "    </tr>\n",
       "    <tr>\n",
       "      <th>Skewness</th>\n",
       "      <td>0.293058</td>\n",
       "    </tr>\n",
       "    <tr>\n",
       "      <th>Kurtosis</th>\n",
       "      <td>32.552193</td>\n",
       "    </tr>\n",
       "    <tr>\n",
       "      <th>Worst return</th>\n",
       "      <td>-0.130152</td>\n",
       "    </tr>\n",
       "    <tr>\n",
       "      <th>Worst 1d return</th>\n",
       "      <td>-0.130152</td>\n",
       "    </tr>\n",
       "    <tr>\n",
       "      <th>Worst 1w return</th>\n",
       "      <td>-0.112097</td>\n",
       "    </tr>\n",
       "    <tr>\n",
       "      <th>Worst 1m return</th>\n",
       "      <td>-0.186272</td>\n",
       "    </tr>\n",
       "  </tbody>\n",
       "</table>\n",
       "</div>"
      ],
      "text/plain": [
       "                 Trend-following portfolio (YZ estimator + TREND signal)\n",
       "CAGR                                                      0.139542      \n",
       "Annualised vol                                            0.110672      \n",
       "Sharpe ratio                                              1.260861      \n",
       "Max drawdown                                              0.313945      \n",
       "Calmar ratio                                              0.444477      \n",
       "Skewness                                                  0.293058      \n",
       "Kurtosis                                                 32.552193      \n",
       "Worst return                                             -0.130152      \n",
       "Worst 1d return                                          -0.130152      \n",
       "Worst 1w return                                          -0.112097      \n",
       "Worst 1m return                                          -0.186272      "
      ]
     },
     "execution_count": 19,
     "metadata": {},
     "output_type": "execute_result"
    }
   ],
   "source": [
    "engine_combined_eq.pipe(Performance).summary()"
   ]
  },
  {
   "cell_type": "markdown",
   "id": "a712bbb6",
   "metadata": {
    "papermill": {
     "duration": 0.017588,
     "end_time": "2022-08-02T07:54:18.230845",
     "exception": false,
     "start_time": "2022-08-02T07:54:18.213257",
     "status": "completed"
    },
    "tags": []
   },
   "source": [
    "# Comparison\n",
    "\n",
    "In this section we compare the above 4 backtests."
   ]
  },
  {
   "cell_type": "markdown",
   "id": "7e280c2f",
   "metadata": {
    "papermill": {
     "duration": 0.0123,
     "end_time": "2022-08-02T07:54:18.257021",
     "exception": false,
     "start_time": "2022-08-02T07:54:18.244721",
     "status": "completed"
    },
    "tags": []
   },
   "source": [
    "## Performance\n",
    "\n",
    "As reported in BK2020, using the YZ estimator and TREND signal does not alter the performance characteristics. Rather, the TREND signal somewhat improves the Sharpe ratio. Also the TREND signal lowers the annualised volatility from 12.5% to 10.8% with the close-to-close realised volatility."
   ]
  },
  {
   "cell_type": "code",
   "execution_count": 20,
   "id": "652689ce",
   "metadata": {
    "execution": {
     "iopub.execute_input": "2022-08-02T07:54:18.282172Z",
     "iopub.status.busy": "2022-08-02T07:54:18.281897Z",
     "iopub.status.idle": "2022-08-02T07:54:18.295303Z",
     "shell.execute_reply": "2022-08-02T07:54:18.294632Z"
    },
    "papermill": {
     "duration": 0.028149,
     "end_time": "2022-08-02T07:54:18.297137",
     "exception": false,
     "start_time": "2022-08-02T07:54:18.268988",
     "status": "completed"
    },
    "tags": []
   },
   "outputs": [],
   "source": [
    "performance_comp = pd.concat((engine_original_eq, engine_vol_eq, \n",
    "                              engine_trend_eq, engine_combined_eq), axis=1)"
   ]
  },
  {
   "cell_type": "code",
   "execution_count": 21,
   "id": "a3b03653",
   "metadata": {
    "execution": {
     "iopub.execute_input": "2022-08-02T07:54:18.345674Z",
     "iopub.status.busy": "2022-08-02T07:54:18.345404Z",
     "iopub.status.idle": "2022-08-02T07:54:19.087558Z",
     "shell.execute_reply": "2022-08-02T07:54:19.086858Z"
    },
    "papermill": {
     "duration": 0.780051,
     "end_time": "2022-08-02T07:54:19.089182",
     "exception": false,
     "start_time": "2022-08-02T07:54:18.309131",
     "status": "completed"
    },
    "tags": []
   },
   "outputs": [
    {
     "data": {
      "image/png": "[encoded data removed]",
      "text/plain": [
       "<Figure size 576x324 with 1 Axes>"
      ]
     },
     "metadata": {
      "needs_background": "light"
     },
     "output_type": "display_data"
    }
   ],
   "source": [
    "fig, ax = plt.subplots(figsize=(8, 4.5))\n",
    "performance_comp.plot(ax=ax, logy=True);\n",
    "ax.set_title('Trend-following portfolio')\n",
    "ax.set_ylabel('Cumulative returns');"
   ]
  },
  {
   "cell_type": "code",
   "execution_count": 22,
   "id": "499387d6",
   "metadata": {
    "execution": {
     "iopub.execute_input": "2022-08-02T07:54:19.115386Z",
     "iopub.status.busy": "2022-08-02T07:54:19.115121Z",
     "iopub.status.idle": "2022-08-02T07:54:19.233828Z",
     "shell.execute_reply": "2022-08-02T07:54:19.233060Z"
    },
    "papermill": {
     "duration": 0.133577,
     "end_time": "2022-08-02T07:54:19.235455",
     "exception": false,
     "start_time": "2022-08-02T07:54:19.101878",
     "status": "completed"
    },
    "tags": []
   },
   "outputs": [
    {
     "data": {
      "text/html": [
       "<div>\n",
       "<style scoped>\n",
       "    .dataframe tbody tr th:only-of-type {\n",
       "        vertical-align: middle;\n",
       "    }\n",
       "\n",
       "    .dataframe tbody tr th {\n",
       "        vertical-align: top;\n",
       "    }\n",
       "\n",
       "    .dataframe thead th {\n",
       "        text-align: right;\n",
       "    }\n",
       "</style>\n",
       "<table border=\"1\" class=\"dataframe\">\n",
       "  <thead>\n",
       "    <tr style=\"text-align: right;\">\n",
       "      <th></th>\n",
       "      <th>Trend-following portfolio (Moskowitz 2012)</th>\n",
       "      <th>Trend-following portfolio (YZ estimator)</th>\n",
       "      <th>Trend-following portfolio (TREND signal)</th>\n",
       "      <th>Trend-following portfolio (YZ estimator + TREND signal)</th>\n",
       "    </tr>\n",
       "  </thead>\n",
       "  <tbody>\n",
       "    <tr>\n",
       "      <th>CAGR</th>\n",
       "      <td>0.147039</td>\n",
       "      <td>0.148330</td>\n",
       "      <td>0.139089</td>\n",
       "      <td>0.139198</td>\n",
       "    </tr>\n",
       "    <tr>\n",
       "      <th>Annualised vol</th>\n",
       "      <td>0.124970</td>\n",
       "      <td>0.127108</td>\n",
       "      <td>0.107933</td>\n",
       "      <td>0.110536</td>\n",
       "    </tr>\n",
       "    <tr>\n",
       "      <th>Sharpe ratio</th>\n",
       "      <td>1.176594</td>\n",
       "      <td>1.166957</td>\n",
       "      <td>1.288661</td>\n",
       "      <td>1.259298</td>\n",
       "    </tr>\n",
       "    <tr>\n",
       "      <th>Max drawdown</th>\n",
       "      <td>0.259239</td>\n",
       "      <td>0.305877</td>\n",
       "      <td>0.294584</td>\n",
       "      <td>0.313945</td>\n",
       "    </tr>\n",
       "    <tr>\n",
       "      <th>Calmar ratio</th>\n",
       "      <td>0.567193</td>\n",
       "      <td>0.484934</td>\n",
       "      <td>0.472155</td>\n",
       "      <td>0.443384</td>\n",
       "    </tr>\n",
       "    <tr>\n",
       "      <th>Skewness</th>\n",
       "      <td>0.073414</td>\n",
       "      <td>0.281659</td>\n",
       "      <td>0.159437</td>\n",
       "      <td>0.294022</td>\n",
       "    </tr>\n",
       "    <tr>\n",
       "      <th>Kurtosis</th>\n",
       "      <td>19.361706</td>\n",
       "      <td>22.203949</td>\n",
       "      <td>28.031831</td>\n",
       "      <td>32.638847</td>\n",
       "    </tr>\n",
       "    <tr>\n",
       "      <th>Worst return</th>\n",
       "      <td>-0.126276</td>\n",
       "      <td>-0.137043</td>\n",
       "      <td>-0.121269</td>\n",
       "      <td>-0.130152</td>\n",
       "    </tr>\n",
       "    <tr>\n",
       "      <th>Worst 1d return</th>\n",
       "      <td>-0.126276</td>\n",
       "      <td>-0.137043</td>\n",
       "      <td>-0.121269</td>\n",
       "      <td>-0.130152</td>\n",
       "    </tr>\n",
       "    <tr>\n",
       "      <th>Worst 1w return</th>\n",
       "      <td>-0.107725</td>\n",
       "      <td>-0.098542</td>\n",
       "      <td>-0.110077</td>\n",
       "      <td>-0.112097</td>\n",
       "    </tr>\n",
       "    <tr>\n",
       "      <th>Worst 1m return</th>\n",
       "      <td>-0.152667</td>\n",
       "      <td>-0.169177</td>\n",
       "      <td>-0.171789</td>\n",
       "      <td>-0.186272</td>\n",
       "    </tr>\n",
       "  </tbody>\n",
       "</table>\n",
       "</div>"
      ],
      "text/plain": [
       "                 Trend-following portfolio (Moskowitz 2012)  \\\n",
       "CAGR                                               0.147039   \n",
       "Annualised vol                                     0.124970   \n",
       "Sharpe ratio                                       1.176594   \n",
       "Max drawdown                                       0.259239   \n",
       "Calmar ratio                                       0.567193   \n",
       "Skewness                                           0.073414   \n",
       "Kurtosis                                          19.361706   \n",
       "Worst return                                      -0.126276   \n",
       "Worst 1d return                                   -0.126276   \n",
       "Worst 1w return                                   -0.107725   \n",
       "Worst 1m return                                   -0.152667   \n",
       "\n",
       "                 Trend-following portfolio (YZ estimator)  \\\n",
       "CAGR                                             0.148330   \n",
       "Annualised vol                                   0.127108   \n",
       "Sharpe ratio                                     1.166957   \n",
       "Max drawdown                                     0.305877   \n",
       "Calmar ratio                                     0.484934   \n",
       "Skewness                                         0.281659   \n",
       "Kurtosis                                        22.203949   \n",
       "Worst return                                    -0.137043   \n",
       "Worst 1d return                                 -0.137043   \n",
       "Worst 1w return                                 -0.098542   \n",
       "Worst 1m return                                 -0.169177   \n",
       "\n",
       "                 Trend-following portfolio (TREND signal)  \\\n",
       "CAGR                                             0.139089   \n",
       "Annualised vol                                   0.107933   \n",
       "Sharpe ratio                                     1.288661   \n",
       "Max drawdown                                     0.294584   \n",
       "Calmar ratio                                     0.472155   \n",
       "Skewness                                         0.159437   \n",
       "Kurtosis                                        28.031831   \n",
       "Worst return                                    -0.121269   \n",
       "Worst 1d return                                 -0.121269   \n",
       "Worst 1w return                                 -0.110077   \n",
       "Worst 1m return                                 -0.171789   \n",
       "\n",
       "                 Trend-following portfolio (YZ estimator + TREND signal)  \n",
       "CAGR                                                      0.139198        \n",
       "Annualised vol                                            0.110536        \n",
       "Sharpe ratio                                              1.259298        \n",
       "Max drawdown                                              0.313945        \n",
       "Calmar ratio                                              0.443384        \n",
       "Skewness                                                  0.294022        \n",
       "Kurtosis                                                 32.638847        \n",
       "Worst return                                             -0.130152        \n",
       "Worst 1d return                                          -0.130152        \n",
       "Worst 1w return                                          -0.112097        \n",
       "Worst 1m return                                          -0.186272        "
      ]
     },
     "execution_count": 22,
     "metadata": {},
     "output_type": "execute_result"
    }
   ],
   "source": [
    "performance_comp.pipe(Performance).summary()"
   ]
  },
  {
   "cell_type": "markdown",
   "id": "fd724532",
   "metadata": {
    "papermill": {
     "duration": 0.01279,
     "end_time": "2022-08-02T07:54:19.261488",
     "exception": false,
     "start_time": "2022-08-02T07:54:19.248698",
     "status": "completed"
    },
    "tags": []
   },
   "source": [
    "## Turnover reduction\n",
    "\n",
    "Again, as reported in BK2020, both enhancements reduce the turnover significantly while not affecting the performance. The chart below shows the reduction in turnover for each futures contract. By utilising the YZ realised volatility and the TREND signal, overall the turnover is reduced by more than 30%."
   ]
  },
  {
   "cell_type": "code",
   "execution_count": 23,
   "id": "389cc72c",
   "metadata": {
    "execution": {
     "iopub.execute_input": "2022-08-02T07:54:19.288433Z",
     "iopub.status.busy": "2022-08-02T07:54:19.288157Z",
     "iopub.status.idle": "2022-08-02T07:59:31.190963Z",
     "shell.execute_reply": "2022-08-02T07:59:31.190279Z"
    },
    "papermill": {
     "duration": 311.918657,
     "end_time": "2022-08-02T07:59:31.192931",
     "exception": false,
     "start_time": "2022-08-02T07:54:19.274274",
     "status": "completed"
    },
    "tags": []
   },
   "outputs": [],
   "source": [
    "engine_original_pos = engine_original.get_position_by_instrument()\n",
    "engine_vol_pos = engine_vol.get_position_by_instrument()\n",
    "engine_trend_pos = engine_trend.get_position_by_instrument()\n",
    "engine_combined_pos = engine_combined.get_position_by_instrument()"
   ]
  },
  {
   "cell_type": "code",
   "execution_count": 24,
   "id": "bb566d7e",
   "metadata": {
    "execution": {
     "iopub.execute_input": "2022-08-02T07:59:31.221447Z",
     "iopub.status.busy": "2022-08-02T07:59:31.221190Z",
     "iopub.status.idle": "2022-08-02T07:59:31.256089Z",
     "shell.execute_reply": "2022-08-02T07:59:31.255359Z"
    },
    "papermill": {
     "duration": 0.051025,
     "end_time": "2022-08-02T07:59:31.257932",
     "exception": false,
     "start_time": "2022-08-02T07:59:31.206907",
     "status": "completed"
    },
    "tags": []
   },
   "outputs": [],
   "source": [
    "engine_original_turnover = (engine_original_pos.diff().abs().mean().mul(261)\n",
    "                            .rename('Trend-following portfolio (Moskowitz 2012)'))\n",
    "engine_vol_turnover = (engine_vol_pos.diff().abs().mean().mul(261)\n",
    "                       .rename('Trend-following portfolio (YZ estimator)'))\n",
    "engine_trend_turnover = (engine_trend_pos.diff().abs().mean().mul(261)\n",
    "                         .rename('Trend-following portfolio (TREND signal)'))\n",
    "engine_combined_turnover = (engine_combined_pos.diff().abs().mean().mul(261)\n",
    "                            .rename('Trend-following portfolio (YZ estimator + TREND signal)'))"
   ]
  },
  {
   "cell_type": "code",
   "execution_count": 25,
   "id": "a7f1bfde",
   "metadata": {
    "execution": {
     "iopub.execute_input": "2022-08-02T07:59:31.286169Z",
     "iopub.status.busy": "2022-08-02T07:59:31.285883Z",
     "iopub.status.idle": "2022-08-02T07:59:31.293202Z",
     "shell.execute_reply": "2022-08-02T07:59:31.292542Z"
    },
    "papermill": {
     "duration": 0.02353,
     "end_time": "2022-08-02T07:59:31.294856",
     "exception": false,
     "start_time": "2022-08-02T07:59:31.271326",
     "status": "completed"
    },
    "tags": []
   },
   "outputs": [],
   "source": [
    "turnover_reduction = (\n",
    "    pd.concat((engine_vol_turnover, engine_trend_turnover, engine_combined_turnover), axis=1)\n",
    "    .div(engine_original_turnover, axis=0)\n",
    "    .sub(1)\n",
    "    .reindex(index=all_futures_baltas2020.index)\n",
    "    .rename(index=all_futures_baltas2020['name'])\n",
    ")"
   ]
  },
  {
   "cell_type": "code",
   "execution_count": 26,
   "id": "bc34f86a",
   "metadata": {
    "execution": {
     "iopub.execute_input": "2022-08-02T07:59:31.327661Z",
     "iopub.status.busy": "2022-08-02T07:59:31.327388Z",
     "iopub.status.idle": "2022-08-02T07:59:31.333650Z",
     "shell.execute_reply": "2022-08-02T07:59:31.333036Z"
    },
    "papermill": {
     "duration": 0.025969,
     "end_time": "2022-08-02T07:59:31.335313",
     "exception": false,
     "start_time": "2022-08-02T07:59:31.309344",
     "status": "completed"
    },
    "tags": []
   },
   "outputs": [
    {
     "data": {
      "text/plain": [
       "Trend-following portfolio (YZ estimator)                  -0.181118\n",
       "Trend-following portfolio (TREND signal)                  -0.207152\n",
       "Trend-following portfolio (YZ estimator + TREND signal)   -0.330496\n",
       "dtype: float64"
      ]
     },
     "execution_count": 26,
     "metadata": {},
     "output_type": "execute_result"
    }
   ],
   "source": [
    "turnover_reduction.mean()"
   ]
  },
  {
   "cell_type": "code",
   "execution_count": 27,
   "id": "328b5551",
   "metadata": {
    "execution": {
     "iopub.execute_input": "2022-08-02T07:59:31.369767Z",
     "iopub.status.busy": "2022-08-02T07:59:31.369295Z",
     "iopub.status.idle": "2022-08-02T07:59:33.002023Z",
     "shell.execute_reply": "2022-08-02T07:59:33.001463Z"
    },
    "papermill": {
     "duration": 1.651741,
     "end_time": "2022-08-02T07:59:33.003722",
     "exception": false,
     "start_time": "2022-08-02T07:59:31.351981",
     "status": "completed"
    },
    "tags": []
   },
   "outputs": [
    {
     "data": {
      "image/png": "[encoded data removed]",
      "text/plain": [
       "<Figure size 1008x288 with 1 Axes>"
      ]
     },
     "metadata": {
      "needs_background": "light"
     },
     "output_type": "display_data"
    }
   ],
   "source": [
    "ax = turnover_reduction.plot(kind='bar', figsize=(14, 4))\n",
    "ax.yaxis.set_major_formatter(mticker.PercentFormatter(1))\n",
    "ax.axhline(0, color='black', lw=1)\n",
    "ax.axvline(24.5, color='black', lw=1)\n",
    "ax.axvline(30.5, color='black', lw=1)\n",
    "ax.axvline(42.5, color='black', lw=1)\n",
    "ax.set_xlabel('Contract')\n",
    "ax.set_ylabel('Turnover reduction');"
   ]
  },
  {
   "cell_type": "markdown",
   "id": "5c446ea2",
   "metadata": {
    "papermill": {
     "duration": 0.01396,
     "end_time": "2022-08-02T07:59:33.031668",
     "exception": false,
     "start_time": "2022-08-02T07:59:33.017708",
     "status": "completed"
    },
    "tags": []
   },
   "source": [
    "# Recent performance"
   ]
  },
  {
   "cell_type": "code",
   "execution_count": 28,
   "id": "1dfd51a1",
   "metadata": {
    "execution": {
     "iopub.execute_input": "2022-08-02T07:59:33.060483Z",
     "iopub.status.busy": "2022-08-02T07:59:33.060217Z",
     "iopub.status.idle": "2022-08-02T07:59:33.511965Z",
     "shell.execute_reply": "2022-08-02T07:59:33.511253Z"
    },
    "papermill": {
     "duration": 0.468175,
     "end_time": "2022-08-02T07:59:33.513634",
     "exception": false,
     "start_time": "2022-08-02T07:59:33.045459",
     "status": "completed"
    },
    "tags": []
   },
   "outputs": [
    {
     "data": {
      "image/png": "[encoded data removed]",
      "text/plain": [
       "<Figure size 576x324 with 1 Axes>"
      ]
     },
     "metadata": {
      "needs_background": "light"
     },
     "output_type": "display_data"
    }
   ],
   "source": [
    "fig, ax = plt.subplots(figsize=(8, 4.5))\n",
    "performance_comp.tail(252 * 2).pct_change().fillna(0).add(1).cumprod().plot(ax=ax, logy=True);\n",
    "ax.set_title('Trend-following portfolio')\n",
    "ax.set_ylabel('Cumulative returns');"
   ]
  },
  {
   "cell_type": "markdown",
   "id": "d055c936",
   "metadata": {
    "papermill": {
     "duration": 0.014424,
     "end_time": "2022-08-02T07:59:33.542808",
     "exception": false,
     "start_time": "2022-08-02T07:59:33.528384",
     "status": "completed"
    },
    "tags": []
   },
   "source": [
    "# Reference\n",
    "\n",
    "- Baltas, N. and Kosowski, R., 2020. Demystifying time-series momentum strategies: Volatility estimators, trading rules and pairwise correlations. Market Momentum: Theory and Practice\", Wiley.\n",
    "- Moskowitz, T.J., Ooi, Y.H. and Pedersen, L.H., 2012. Time series momentum. Journal of financial economics, 104(2), pp.228-250."
   ]
  },
  {
   "cell_type": "code",
   "execution_count": 29,
   "id": "aed17a0b",
   "metadata": {
    "ExecuteTime": {
     "end_time": "2020-08-30T21:20:32.431574Z",
     "start_time": "2020-08-30T21:20:32.429370Z"
    },
    "execution": {
     "iopub.execute_input": "2022-08-02T07:59:33.576850Z",
     "iopub.status.busy": "2022-08-02T07:59:33.576529Z",
     "iopub.status.idle": "2022-08-02T07:59:33.580597Z",
     "shell.execute_reply": "2022-08-02T07:59:33.579907Z"
    },
    "papermill": {
     "duration": 0.024896,
     "end_time": "2022-08-02T07:59:33.582266",
     "exception": false,
     "start_time": "2022-08-02T07:59:33.557370",
     "status": "completed"
    },
    "tags": []
   },
   "outputs": [
    {
     "name": "stdout",
     "output_type": "stream",
     "text": [
      "Updated: 02-Aug-2022 07:59\n"
     ]
    }
   ],
   "source": [
    "print(f'Updated: {datetime.utcnow():%d-%b-%Y %H:%M}')"
   ]
  }
 ],
 "metadata": {
  "hide_input": false,
  "kernelspec": {
   "display_name": "Python 3",
   "language": "python",
   "name": "python3"
  },
  "language_info": {
   "codemirror_mode": {
    "name": "ipython",
    "version": 3
   },
   "file_extension": ".py",
   "mimetype": "text/x-python",
   "name": "python",
   "nbconvert_exporter": "python",
   "pygments_lexer": "ipython3",
   "version": "3.9.6"
  },
  "nav_menu": {},
  "papermill": {
   "duration": 5468.392226,
   "end_time": "2022-08-02T07:59:36.648124",
   "environment_variables": {},
   "exception": null,
   "input_path": "notebooks/papermill/trend_following_baltas2020.ipynb",
   "output_path": "notebooks/trend_following_baltas2020.ipynb",
   "parameters": {},
   "start_time": "2022-08-02T06:28:28.255898",
   "version": "2.1.3"
  },
  "toc": {
   "base_numbering": 1,
   "nav_menu": {},
   "number_sections": true,
   "sideBar": true,
   "skip_h1_title": false,
   "title_cell": "Table of Contents",
   "title_sidebar": "Contents",
   "toc_cell": true,
   "toc_position": {
    "height": "calc(100% - 180px)",
    "left": "10px",
    "top": "150px",
    "width": "165px"
   },
   "toc_section_display": "block",
   "toc_window_display": true
  }
 },
 "nbformat": 4,
 "nbformat_minor": 5
}