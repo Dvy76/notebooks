{
 "cells": [
  {
   "cell_type": "markdown",
   "id": "af8cf558",
   "metadata": {
    "papermill": {
     "duration": 0.013033,
     "end_time": "2022-08-03T06:27:07.535406",
     "exception": false,
     "start_time": "2022-08-03T06:27:07.522373",
     "status": "completed"
    },
    "tags": []
   },
   "source": [
    "# Trend-following\n",
    "\n",
    "This notebook implements a few improvements that Baltas and Kosowski (2020) (BK2020, hereafter) propose to the time-series momentum strategy which originally appeared in Moskowitz et al (2012).\n",
    "\n",
    "Note that like other notebooks, all backtests are performed by using a private library called `vivace`."
   ]
  },
  {
   "cell_type": "code",
   "execution_count": 1,
   "id": "5efb13cf",
   "metadata": {
    "ExecuteTime": {
     "end_time": "2020-08-30T21:08:49.524262Z",
     "start_time": "2020-08-30T21:08:48.720115Z"
    },
    "execution": {
     "iopub.execute_input": "2022-08-03T06:27:07.566362Z",
     "iopub.status.busy": "2022-08-03T06:27:07.565951Z",
     "iopub.status.idle": "2022-08-03T06:27:12.003379Z",
     "shell.execute_reply": "2022-08-03T06:27:12.002542Z"
    },
    "papermill": {
     "duration": 4.454133,
     "end_time": "2022-08-03T06:27:12.005501",
     "exception": false,
     "start_time": "2022-08-03T06:27:07.551368",
     "status": "completed"
    },
    "tags": []
   },
   "outputs": [],
   "source": [
    "%matplotlib inline\n",
    "from datetime import datetime\n",
    "import logging\n",
    "import warnings\n",
    "warnings.simplefilter(action='ignore', category=FutureWarning)\n",
    "\n",
    "import pandas as pd\n",
    "import matplotlib.pyplot as plt\n",
    "import matplotlib.ticker as mticker\n",
    "plt.style.use('bmh')\n",
    "\n",
    "from vivace.backtest import signal\n",
    "from vivace.backtest import processing\n",
    "from vivace.backtest.contract import all_futures_baltas2020\n",
    "from vivace.backtest.engine import BacktestEngine\n",
    "from vivace.backtest.enums import Strategy, Weighting, RealisedVolatility\n",
    "from vivace.backtest.stats import Performance"
   ]
  },
  {
   "cell_type": "markdown",
   "id": "dfa63b37",
   "metadata": {
    "papermill": {
     "duration": 0.009915,
     "end_time": "2022-08-03T06:27:12.025431",
     "exception": false,
     "start_time": "2022-08-03T06:27:12.015516",
     "status": "completed"
    },
    "tags": []
   },
   "source": [
    "# Data"
   ]
  },
  {
   "cell_type": "code",
   "execution_count": 2,
   "id": "76649579",
   "metadata": {
    "ExecuteTime": {
     "end_time": "2020-08-30T21:08:49.529214Z",
     "start_time": "2020-08-30T21:08:49.525465Z"
    },
    "execution": {
     "iopub.execute_input": "2022-08-03T06:27:12.046807Z",
     "iopub.status.busy": "2022-08-03T06:27:12.046363Z",
     "iopub.status.idle": "2022-08-03T06:27:12.054287Z",
     "shell.execute_reply": "2022-08-03T06:27:12.053557Z"
    },
    "papermill": {
     "duration": 0.020776,
     "end_time": "2022-08-03T06:27:12.055995",
     "exception": false,
     "start_time": "2022-08-03T06:27:12.035219",
     "status": "completed"
    },
    "tags": []
   },
   "outputs": [
    {
     "data": {
      "text/plain": [
       "array(['WTI Crude Oil', 'Brent Crude Oil', 'Heating Oil', 'Natural Gas',\n",
       "       'Gasoline', 'Copper', 'Gold', 'Palladium', 'Platinum', 'Silver',\n",
       "       'Feeder Cattle', 'Live Cattle', 'Lean Hog', 'Corn', 'Oats',\n",
       "       'Soybean Oil', 'Soybean Meal', 'Soybean', 'Wheat', 'Cocoa',\n",
       "       'Coffee', 'Cotton', 'Lumber', 'Orange Juice', 'Sugar',\n",
       "       'Australian Dollar', 'Canadian Dollar', 'Swiss Franc', 'Euro',\n",
       "       'British Pound', 'Japanese Yen', 'E-Mini Nasdaq 100',\n",
       "       'E-mini S&P 500', 'E-mini Russell 2000', 'FTSE 100', 'DAX',\n",
       "       'CAC 40', 'IBEX 35', 'AEX', 'Swiss Market Index', 'SPI 200',\n",
       "       'Topix', 'Hang Seng', 'US 2-year Treasury', 'US 5-year Treasury',\n",
       "       'US 10-year Treasury', 'US treasury Bond', 'Germany Schatz',\n",
       "       'Germany Bobl', 'Germany Bund', 'Germany Buxl', 'Gilt',\n",
       "       'Canada 10-year Treasury', 'JGB'], dtype=object)"
      ]
     },
     "execution_count": 2,
     "metadata": {},
     "output_type": "execute_result"
    }
   ],
   "source": [
    "all_futures_baltas2020['name'].values"
   ]
  },
  {
   "cell_type": "code",
   "execution_count": 3,
   "id": "1b52ad9a",
   "metadata": {
    "ExecuteTime": {
     "end_time": "2020-08-30T21:08:49.542477Z",
     "start_time": "2020-08-30T21:08:49.530487Z"
    },
    "execution": {
     "iopub.execute_input": "2022-08-03T06:27:12.109687Z",
     "iopub.status.busy": "2022-08-03T06:27:12.109331Z",
     "iopub.status.idle": "2022-08-03T06:27:12.113629Z",
     "shell.execute_reply": "2022-08-03T06:27:12.112793Z"
    },
    "papermill": {
     "duration": 0.048849,
     "end_time": "2022-08-03T06:27:12.115370",
     "exception": false,
     "start_time": "2022-08-03T06:27:12.066521",
     "status": "completed"
    },
    "tags": []
   },
   "outputs": [
    {
     "name": "stdout",
     "output_type": "stream",
     "text": [
      "54\n"
     ]
    }
   ],
   "source": [
    "print(len(all_futures_baltas2020))"
   ]
  },
  {
   "cell_type": "markdown",
   "id": "5ae3d78c",
   "metadata": {
    "papermill": {
     "duration": 0.010518,
     "end_time": "2022-08-03T06:27:12.136545",
     "exception": false,
     "start_time": "2022-08-03T06:27:12.126027",
     "status": "completed"
    },
    "tags": []
   },
   "source": [
    "We try to use the same contract as the original paper where possible, resulting 54 futures contracts to analyse. The trading universe covers a wide range of asset classes and regions, and is made up of following instruments:\n",
    "- Equity index futures\n",
    "- Government bond futures\n",
    "- FX futures\n",
    "- Commodity futures\n",
    "\n",
    "where the same trend detection method is applied."
   ]
  },
  {
   "cell_type": "markdown",
   "id": "1dae06e2",
   "metadata": {
    "papermill": {
     "duration": 0.010038,
     "end_time": "2022-08-03T06:27:12.156686",
     "exception": false,
     "start_time": "2022-08-03T06:27:12.146648",
     "status": "completed"
    },
    "tags": []
   },
   "source": [
    "# Performance\n"
   ]
  },
  {
   "cell_type": "markdown",
   "id": "1f5db77c",
   "metadata": {
    "papermill": {
     "duration": 0.010044,
     "end_time": "2022-08-03T06:27:12.176710",
     "exception": false,
     "start_time": "2022-08-03T06:27:12.166666",
     "status": "completed"
    },
    "tags": []
   },
   "source": [
    "## Moskowitz et al\n",
    "\n",
    "First we calculate the original trend-following portfolio with a more traditional close-to-close realised volatility estimator. Although Moskowitz et al uses the exponentially weighted standard deviation, BK2020 appears to compare against the rolling standard deviation."
   ]
  },
  {
   "cell_type": "code",
   "execution_count": 4,
   "id": "8f9c7370",
   "metadata": {
    "execution": {
     "iopub.execute_input": "2022-08-03T06:27:12.199468Z",
     "iopub.status.busy": "2022-08-03T06:27:12.199083Z",
     "iopub.status.idle": "2022-08-03T06:39:41.822990Z",
     "shell.execute_reply": "2022-08-03T06:39:41.822213Z"
    },
    "papermill": {
     "duration": 749.637749,
     "end_time": "2022-08-03T06:39:41.825092",
     "exception": false,
     "start_time": "2022-08-03T06:27:12.187343",
     "status": "completed"
    },
    "tags": []
   },
   "outputs": [],
   "source": [
    "engine_original = BacktestEngine(\n",
    "    strategy=Strategy.DELTA_ONE.value,\n",
    "    instrument=all_futures_baltas2020.index,\n",
    "    signal=signal.ParallelSignal([\n",
    "        signal.VolatilityScale(agg_method='rolling', window=21, ann_factor=261, \n",
    "                               target_volatility=0.4, signal_cap=0.95),\n",
    "        signal.TSMOMMoskowitz2012(post_process=processing.AsFreq(freq='m', method='pad'))\n",
    "    ], weighting='product'),\n",
    "    weighting=Weighting.EQUAL_WEIGHT.value,\n",
    "    log_level=logging.WARN,\n",
    ")\n",
    "engine_original.run()"
   ]
  },
  {
   "cell_type": "code",
   "execution_count": 5,
   "id": "ec76168d",
   "metadata": {
    "execution": {
     "iopub.execute_input": "2022-08-03T06:39:41.846818Z",
     "iopub.status.busy": "2022-08-03T06:39:41.846495Z",
     "iopub.status.idle": "2022-08-03T06:41:23.594763Z",
     "shell.execute_reply": "2022-08-03T06:41:23.593941Z"
    },
    "papermill": {
     "duration": 101.761339,
     "end_time": "2022-08-03T06:41:23.596740",
     "exception": false,
     "start_time": "2022-08-03T06:39:41.835401",
     "status": "completed"
    },
    "tags": []
   },
   "outputs": [],
   "source": [
    "engine_original_eq = (engine_original.calculate_equity_curve(calculate_net=False, rebalance_freq='m')\n",
    "                      .rename('Trend-following portfolio (Moskowitz 2012)'))"
   ]
  },
  {
   "cell_type": "code",
   "execution_count": 6,
   "id": "f7db45b4",
   "metadata": {
    "execution": {
     "iopub.execute_input": "2022-08-03T06:41:23.619592Z",
     "iopub.status.busy": "2022-08-03T06:41:23.619219Z",
     "iopub.status.idle": "2022-08-03T06:41:24.492116Z",
     "shell.execute_reply": "2022-08-03T06:41:24.491290Z"
    },
    "papermill": {
     "duration": 0.886852,
     "end_time": "2022-08-03T06:41:24.494531",
     "exception": false,
     "start_time": "2022-08-03T06:41:23.607679",
     "status": "completed"
    },
    "tags": []
   },
   "outputs": [
    {
     "data": {
      "image/png": "[encoded data removed]",
      "text/plain": [
       "<Figure size 576x324 with 1 Axes>"
      ]
     },
     "metadata": {
      "needs_background": "light"
     },
     "output_type": "display_data"
    }
   ],
   "source": [
    "fig, ax = plt.subplots(figsize=(8, 4.5))\n",
    "engine_original_eq.plot(ax=ax, logy=True)\n",
    "ax.set_title('Trend-following portfolio (Moskowitz 2012)')\n",
    "ax.set_ylabel('Cumulative returns');"
   ]
  },
  {
   "cell_type": "code",
   "execution_count": 7,
   "id": "f74a6461",
   "metadata": {
    "execution": {
     "iopub.execute_input": "2022-08-03T06:41:24.526197Z",
     "iopub.status.busy": "2022-08-03T06:41:24.525741Z",
     "iopub.status.idle": "2022-08-03T06:41:24.648948Z",
     "shell.execute_reply": "2022-08-03T06:41:24.647922Z"
    },
    "papermill": {
     "duration": 0.142079,
     "end_time": "2022-08-03T06:41:24.651460",
     "exception": false,
     "start_time": "2022-08-03T06:41:24.509381",
     "status": "completed"
    },
    "tags": []
   },
   "outputs": [
    {
     "data": {
      "text/html": [
       "<div>\n",
       "<style scoped>\n",
       "    .dataframe tbody tr th:only-of-type {\n",
       "        vertical-align: middle;\n",
       "    }\n",
       "\n",
       "    .dataframe tbody tr th {\n",
       "        vertical-align: top;\n",
       "    }\n",
       "\n",
       "    .dataframe thead th {\n",
       "        text-align: right;\n",
       "    }\n",
       "</style>\n",
       "<table border=\"1\" class=\"dataframe\">\n",
       "  <thead>\n",
       "    <tr style=\"text-align: right;\">\n",
       "      <th></th>\n",
       "      <th>Trend-following portfolio (Moskowitz 2012)</th>\n",
       "    </tr>\n",
       "  </thead>\n",
       "  <tbody>\n",
       "    <tr>\n",
       "      <th>CAGR</th>\n",
       "      <td>0.147114</td>\n",
       "    </tr>\n",
       "    <tr>\n",
       "      <th>Annualised vol</th>\n",
       "      <td>0.124967</td>\n",
       "    </tr>\n",
       "    <tr>\n",
       "      <th>Sharpe ratio</th>\n",
       "      <td>1.177218</td>\n",
       "    </tr>\n",
       "    <tr>\n",
       "      <th>Max drawdown</th>\n",
       "      <td>0.259239</td>\n",
       "    </tr>\n",
       "    <tr>\n",
       "      <th>Calmar ratio</th>\n",
       "      <td>0.567483</td>\n",
       "    </tr>\n",
       "    <tr>\n",
       "      <th>Skewness</th>\n",
       "      <td>0.073314</td>\n",
       "    </tr>\n",
       "    <tr>\n",
       "      <th>Kurtosis</th>\n",
       "      <td>19.362040</td>\n",
       "    </tr>\n",
       "    <tr>\n",
       "      <th>Worst return</th>\n",
       "      <td>-0.126276</td>\n",
       "    </tr>\n",
       "    <tr>\n",
       "      <th>Worst 1d return</th>\n",
       "      <td>-0.126276</td>\n",
       "    </tr>\n",
       "    <tr>\n",
       "      <th>Worst 1w return</th>\n",
       "      <td>-0.107725</td>\n",
       "    </tr>\n",
       "    <tr>\n",
       "      <th>Worst 1m return</th>\n",
       "      <td>-0.152667</td>\n",
       "    </tr>\n",
       "  </tbody>\n",
       "</table>\n",
       "</div>"
      ],
      "text/plain": [
       "                 Trend-following portfolio (Moskowitz 2012)\n",
       "CAGR                                               0.147114\n",
       "Annualised vol                                     0.124967\n",
       "Sharpe ratio                                       1.177218\n",
       "Max drawdown                                       0.259239\n",
       "Calmar ratio                                       0.567483\n",
       "Skewness                                           0.073314\n",
       "Kurtosis                                          19.362040\n",
       "Worst return                                      -0.126276\n",
       "Worst 1d return                                   -0.126276\n",
       "Worst 1w return                                   -0.107725\n",
       "Worst 1m return                                   -0.152667"
      ]
     },
     "execution_count": 7,
     "metadata": {},
     "output_type": "execute_result"
    }
   ],
   "source": [
    "engine_original_eq.pipe(Performance).summary()"
   ]
  },
  {
   "cell_type": "markdown",
   "id": "c2f40158",
   "metadata": {
    "papermill": {
     "duration": 0.014928,
     "end_time": "2022-08-03T06:41:24.681748",
     "exception": false,
     "start_time": "2022-08-03T06:41:24.666820",
     "status": "completed"
    },
    "tags": []
   },
   "source": [
    "\n",
    "## Volatility estimator\n",
    "BK2020 proposes a few changes in order to enhance the original trend-following strategy Moskowitz et al reported. The first thing is to use a more sophisticated realised volatility estimators for volatility scaling. Moskowitz used the exponentially weighted standard deviation with close-to-close. On the other hand, BK2020 suggests to use Yang-Zhang estimator as it is much more efficient."
   ]
  },
  {
   "cell_type": "code",
   "execution_count": 8,
   "id": "6d99cce2",
   "metadata": {
    "ExecuteTime": {
     "end_time": "2020-08-30T21:18:24.661167Z",
     "start_time": "2020-08-30T21:08:49.544232Z"
    },
    "execution": {
     "iopub.execute_input": "2022-08-03T06:41:24.713877Z",
     "iopub.status.busy": "2022-08-03T06:41:24.713145Z",
     "iopub.status.idle": "2022-08-03T07:03:28.757677Z",
     "shell.execute_reply": "2022-08-03T07:03:28.756907Z"
    },
    "papermill": {
     "duration": 1324.062893,
     "end_time": "2022-08-03T07:03:28.759620",
     "exception": false,
     "start_time": "2022-08-03T06:41:24.696727",
     "status": "completed"
    },
    "tags": []
   },
   "outputs": [],
   "source": [
    "engine_vol = BacktestEngine(\n",
    "    strategy=Strategy.DELTA_ONE.value,\n",
    "    instrument=all_futures_baltas2020.index,\n",
    "    signal=signal.ParallelSignal([\n",
    "        signal.VolatilityScale(volatility_type=RealisedVolatility.YZ.value,\n",
    "                               agg_method='rolling', window=21, min_periods=10,\n",
    "                               target_volatility=0.4, signal_cap=0.95, ann_factor=261),\n",
    "        signal.TSMOMMoskowitz2012(post_process=processing.AsFreq(freq='m', method='pad'))\n",
    "    ], weighting='product'),\n",
    "    weighting=Weighting.EQUAL_WEIGHT.value,\n",
    "    log_level=logging.WARN,\n",
    ")\n",
    "engine_vol.run()"
   ]
  },
  {
   "cell_type": "code",
   "execution_count": 9,
   "id": "c2601b19",
   "metadata": {
    "execution": {
     "iopub.execute_input": "2022-08-03T07:03:28.783006Z",
     "iopub.status.busy": "2022-08-03T07:03:28.782688Z",
     "iopub.status.idle": "2022-08-03T07:04:56.460722Z",
     "shell.execute_reply": "2022-08-03T07:04:56.459929Z"
    },
    "papermill": {
     "duration": 87.692227,
     "end_time": "2022-08-03T07:04:56.462760",
     "exception": false,
     "start_time": "2022-08-03T07:03:28.770533",
     "status": "completed"
    },
    "tags": []
   },
   "outputs": [],
   "source": [
    "engine_vol_eq = (engine_vol.calculate_equity_curve(calculate_net=False, rebalance_freq='m')\n",
    "                 .rename('Trend-following portfolio (YZ estimator)'))"
   ]
  },
  {
   "cell_type": "code",
   "execution_count": 10,
   "id": "3e4010b7",
   "metadata": {
    "execution": {
     "iopub.execute_input": "2022-08-03T07:04:56.487834Z",
     "iopub.status.busy": "2022-08-03T07:04:56.487080Z",
     "iopub.status.idle": "2022-08-03T07:04:57.103186Z",
     "shell.execute_reply": "2022-08-03T07:04:57.102182Z"
    },
    "papermill": {
     "duration": 0.630114,
     "end_time": "2022-08-03T07:04:57.105114",
     "exception": false,
     "start_time": "2022-08-03T07:04:56.475000",
     "status": "completed"
    },
    "tags": []
   },
   "outputs": [
    {
     "data": {
      "image/png": "[encoded data removed]",
      "text/plain": [
       "<Figure size 576x324 with 1 Axes>"
      ]
     },
     "metadata": {
      "needs_background": "light"
     },
     "output_type": "display_data"
    }
   ],
   "source": [
    "fig, ax = plt.subplots(figsize=(8, 4.5))\n",
    "engine_vol_eq.plot(ax=ax, logy=True);\n",
    "ax.set_title('Trend-following portfolio (YZ estimator)')\n",
    "ax.set_ylabel('Cumulative returns');"
   ]
  },
  {
   "cell_type": "code",
   "execution_count": 11,
   "id": "9f0043b2",
   "metadata": {
    "execution": {
     "iopub.execute_input": "2022-08-03T07:04:57.131541Z",
     "iopub.status.busy": "2022-08-03T07:04:57.131105Z",
     "iopub.status.idle": "2022-08-03T07:04:57.232098Z",
     "shell.execute_reply": "2022-08-03T07:04:57.231289Z"
    },
    "papermill": {
     "duration": 0.11749,
     "end_time": "2022-08-03T07:04:57.234516",
     "exception": false,
     "start_time": "2022-08-03T07:04:57.117026",
     "status": "completed"
    },
    "tags": []
   },
   "outputs": [
    {
     "data": {
      "text/html": [
       "<div>\n",
       "<style scoped>\n",
       "    .dataframe tbody tr th:only-of-type {\n",
       "        vertical-align: middle;\n",
       "    }\n",
       "\n",
       "    .dataframe tbody tr th {\n",
       "        vertical-align: top;\n",
       "    }\n",
       "\n",
       "    .dataframe thead th {\n",
       "        text-align: right;\n",
       "    }\n",
       "</style>\n",
       "<table border=\"1\" class=\"dataframe\">\n",
       "  <thead>\n",
       "    <tr style=\"text-align: right;\">\n",
       "      <th></th>\n",
       "      <th>Trend-following portfolio (YZ estimator)</th>\n",
       "    </tr>\n",
       "  </thead>\n",
       "  <tbody>\n",
       "    <tr>\n",
       "      <th>CAGR</th>\n",
       "      <td>0.148747</td>\n",
       "    </tr>\n",
       "    <tr>\n",
       "      <th>Annualised vol</th>\n",
       "      <td>0.127261</td>\n",
       "    </tr>\n",
       "    <tr>\n",
       "      <th>Sharpe ratio</th>\n",
       "      <td>1.168837</td>\n",
       "    </tr>\n",
       "    <tr>\n",
       "      <th>Max drawdown</th>\n",
       "      <td>0.305877</td>\n",
       "    </tr>\n",
       "    <tr>\n",
       "      <th>Calmar ratio</th>\n",
       "      <td>0.486298</td>\n",
       "    </tr>\n",
       "    <tr>\n",
       "      <th>Skewness</th>\n",
       "      <td>0.280681</td>\n",
       "    </tr>\n",
       "    <tr>\n",
       "      <th>Kurtosis</th>\n",
       "      <td>22.143519</td>\n",
       "    </tr>\n",
       "    <tr>\n",
       "      <th>Worst return</th>\n",
       "      <td>-0.137043</td>\n",
       "    </tr>\n",
       "    <tr>\n",
       "      <th>Worst 1d return</th>\n",
       "      <td>-0.137043</td>\n",
       "    </tr>\n",
       "    <tr>\n",
       "      <th>Worst 1w return</th>\n",
       "      <td>-0.098542</td>\n",
       "    </tr>\n",
       "    <tr>\n",
       "      <th>Worst 1m return</th>\n",
       "      <td>-0.169177</td>\n",
       "    </tr>\n",
       "  </tbody>\n",
       "</table>\n",
       "</div>"
      ],
      "text/plain": [
       "                 Trend-following portfolio (YZ estimator)\n",
       "CAGR                                             0.148747\n",
       "Annualised vol                                   0.127261\n",
       "Sharpe ratio                                     1.168837\n",
       "Max drawdown                                     0.305877\n",
       "Calmar ratio                                     0.486298\n",
       "Skewness                                         0.280681\n",
       "Kurtosis                                        22.143519\n",
       "Worst return                                    -0.137043\n",
       "Worst 1d return                                 -0.137043\n",
       "Worst 1w return                                 -0.098542\n",
       "Worst 1m return                                 -0.169177"
      ]
     },
     "execution_count": 11,
     "metadata": {},
     "output_type": "execute_result"
    }
   ],
   "source": [
    "engine_vol_eq.pipe(Performance).summary()"
   ]
  },
  {
   "cell_type": "markdown",
   "id": "68cbde34",
   "metadata": {
    "papermill": {
     "duration": 0.016418,
     "end_time": "2022-08-03T07:04:57.267596",
     "exception": false,
     "start_time": "2022-08-03T07:04:57.251178",
     "status": "completed"
    },
    "tags": []
   },
   "source": [
    "## TREND signal\n",
    "\n",
    "Another improvement BK2020 proposes is to use a continuous signal rather than a binary one in order to reduce the turnover when signals are weak. Specifically they used the t-values with the Newey-West standard error as the signal. They further capped and floored the signal between -1 and +1 to avoid extreme positions.\n",
    "\n",
    "`statsmodels`'s `OLS` class provides a method to compute the Newey-West standard error. https://www.statsmodels.org/stable/generated/statsmodels.regression.linear_model.OLS.html"
   ]
  },
  {
   "cell_type": "code",
   "execution_count": 12,
   "id": "641925f8",
   "metadata": {
    "execution": {
     "iopub.execute_input": "2022-08-03T07:04:57.302830Z",
     "iopub.status.busy": "2022-08-03T07:04:57.302296Z",
     "iopub.status.idle": "2022-08-03T07:23:30.514933Z",
     "shell.execute_reply": "2022-08-03T07:23:30.514188Z"
    },
    "papermill": {
     "duration": 1113.232675,
     "end_time": "2022-08-03T07:23:30.516869",
     "exception": false,
     "start_time": "2022-08-03T07:04:57.284194",
     "status": "completed"
    },
    "tags": []
   },
   "outputs": [],
   "source": [
    "engine_trend = BacktestEngine(\n",
    "    strategy=Strategy.DELTA_ONE.value,\n",
    "    instrument=all_futures_baltas2020.index,\n",
    "    signal=signal.ParallelSignal([\n",
    "        signal.VolatilityScale(agg_method='rolling', window=21, ann_factor=261, \n",
    "                               target_volatility=0.4, signal_cap=0.95),\n",
    "        signal.TSMOMBaltas2020()\n",
    "    ], weighting='product'),\n",
    "    weighting=Weighting.EQUAL_WEIGHT.value,\n",
    "    log_level=logging.WARN,\n",
    ")\n",
    "engine_trend.run()"
   ]
  },
  {
   "cell_type": "code",
   "execution_count": 13,
   "id": "a9a4e5d8",
   "metadata": {
    "execution": {
     "iopub.execute_input": "2022-08-03T07:23:30.541471Z",
     "iopub.status.busy": "2022-08-03T07:23:30.541120Z",
     "iopub.status.idle": "2022-08-03T07:25:00.350107Z",
     "shell.execute_reply": "2022-08-03T07:25:00.349363Z"
    },
    "papermill": {
     "duration": 89.824176,
     "end_time": "2022-08-03T07:25:00.353126",
     "exception": false,
     "start_time": "2022-08-03T07:23:30.528950",
     "status": "completed"
    },
    "tags": []
   },
   "outputs": [],
   "source": [
    "engine_trend_eq = (engine_trend.calculate_equity_curve(calculate_net=False, rebalance_freq='m')\n",
    "                   .rename('Trend-following portfolio (TREND signal)'))"
   ]
  },
  {
   "cell_type": "code",
   "execution_count": 14,
   "id": "550d5d33",
   "metadata": {
    "execution": {
     "iopub.execute_input": "2022-08-03T07:25:00.396960Z",
     "iopub.status.busy": "2022-08-03T07:25:00.396385Z",
     "iopub.status.idle": "2022-08-03T07:25:01.054761Z",
     "shell.execute_reply": "2022-08-03T07:25:01.053927Z"
    },
    "papermill": {
     "duration": 0.678192,
     "end_time": "2022-08-03T07:25:01.056651",
     "exception": false,
     "start_time": "2022-08-03T07:25:00.378459",
     "status": "completed"
    },
    "tags": []
   },
   "outputs": [
    {
     "data": {
      "image/png": "[encoded data removed]",
      "text/plain": [
       "<Figure size 576x324 with 1 Axes>"
      ]
     },
     "metadata": {
      "needs_background": "light"
     },
     "output_type": "display_data"
    }
   ],
   "source": [
    "fig, ax = plt.subplots(figsize=(8, 4.5))\n",
    "engine_trend_eq.plot(ax=ax, logy=True);\n",
    "ax.set_title('Trend-following portfolio (TREND signal)')\n",
    "ax.set_ylabel('Cumulative returns');"
   ]
  },
  {
   "cell_type": "code",
   "execution_count": 15,
   "id": "36d425de",
   "metadata": {
    "execution": {
     "iopub.execute_input": "2022-08-03T07:25:01.082174Z",
     "iopub.status.busy": "2022-08-03T07:25:01.081786Z",
     "iopub.status.idle": "2022-08-03T07:25:01.179623Z",
     "shell.execute_reply": "2022-08-03T07:25:01.178892Z"
    },
    "papermill": {
     "duration": 0.113051,
     "end_time": "2022-08-03T07:25:01.181894",
     "exception": false,
     "start_time": "2022-08-03T07:25:01.068843",
     "status": "completed"
    },
    "tags": []
   },
   "outputs": [
    {
     "data": {
      "text/html": [
       "<div>\n",
       "<style scoped>\n",
       "    .dataframe tbody tr th:only-of-type {\n",
       "        vertical-align: middle;\n",
       "    }\n",
       "\n",
       "    .dataframe tbody tr th {\n",
       "        vertical-align: top;\n",
       "    }\n",
       "\n",
       "    .dataframe thead th {\n",
       "        text-align: right;\n",
       "    }\n",
       "</style>\n",
       "<table border=\"1\" class=\"dataframe\">\n",
       "  <thead>\n",
       "    <tr style=\"text-align: right;\">\n",
       "      <th></th>\n",
       "      <th>Trend-following portfolio (TREND signal)</th>\n",
       "    </tr>\n",
       "  </thead>\n",
       "  <tbody>\n",
       "    <tr>\n",
       "      <th>CAGR</th>\n",
       "      <td>0.139163</td>\n",
       "    </tr>\n",
       "    <tr>\n",
       "      <th>Annualised vol</th>\n",
       "      <td>0.107931</td>\n",
       "    </tr>\n",
       "    <tr>\n",
       "      <th>Sharpe ratio</th>\n",
       "      <td>1.289363</td>\n",
       "    </tr>\n",
       "    <tr>\n",
       "      <th>Max drawdown</th>\n",
       "      <td>0.294584</td>\n",
       "    </tr>\n",
       "    <tr>\n",
       "      <th>Calmar ratio</th>\n",
       "      <td>0.472405</td>\n",
       "    </tr>\n",
       "    <tr>\n",
       "      <th>Skewness</th>\n",
       "      <td>0.159327</td>\n",
       "    </tr>\n",
       "    <tr>\n",
       "      <th>Kurtosis</th>\n",
       "      <td>28.031875</td>\n",
       "    </tr>\n",
       "    <tr>\n",
       "      <th>Worst return</th>\n",
       "      <td>-0.121269</td>\n",
       "    </tr>\n",
       "    <tr>\n",
       "      <th>Worst 1d return</th>\n",
       "      <td>-0.121269</td>\n",
       "    </tr>\n",
       "    <tr>\n",
       "      <th>Worst 1w return</th>\n",
       "      <td>-0.110077</td>\n",
       "    </tr>\n",
       "    <tr>\n",
       "      <th>Worst 1m return</th>\n",
       "      <td>-0.171789</td>\n",
       "    </tr>\n",
       "  </tbody>\n",
       "</table>\n",
       "</div>"
      ],
      "text/plain": [
       "                 Trend-following portfolio (TREND signal)\n",
       "CAGR                                             0.139163\n",
       "Annualised vol                                   0.107931\n",
       "Sharpe ratio                                     1.289363\n",
       "Max drawdown                                     0.294584\n",
       "Calmar ratio                                     0.472405\n",
       "Skewness                                         0.159327\n",
       "Kurtosis                                        28.031875\n",
       "Worst return                                    -0.121269\n",
       "Worst 1d return                                 -0.121269\n",
       "Worst 1w return                                 -0.110077\n",
       "Worst 1m return                                 -0.171789"
      ]
     },
     "execution_count": 15,
     "metadata": {},
     "output_type": "execute_result"
    }
   ],
   "source": [
    "engine_trend_eq.pipe(Performance).summary()"
   ]
  },
  {
   "cell_type": "markdown",
   "id": "3ca8e56a",
   "metadata": {
    "papermill": {
     "duration": 0.013048,
     "end_time": "2022-08-03T07:25:01.207211",
     "exception": false,
     "start_time": "2022-08-03T07:25:01.194163",
     "status": "completed"
    },
    "tags": []
   },
   "source": [
    "## Combined\n",
    "\n",
    "Finally we run a backtest by using both the Yang-Zhang volatility estimator and the TREND signal."
   ]
  },
  {
   "cell_type": "code",
   "execution_count": 16,
   "id": "3c6765cb",
   "metadata": {
    "execution": {
     "iopub.execute_input": "2022-08-03T07:25:01.233700Z",
     "iopub.status.busy": "2022-08-03T07:25:01.233330Z",
     "iopub.status.idle": "2022-08-03T07:51:59.934000Z",
     "shell.execute_reply": "2022-08-03T07:51:59.933234Z"
    },
    "papermill": {
     "duration": 1618.716482,
     "end_time": "2022-08-03T07:51:59.935987",
     "exception": false,
     "start_time": "2022-08-03T07:25:01.219505",
     "status": "completed"
    },
    "tags": []
   },
   "outputs": [],
   "source": [
    "engine_combined = BacktestEngine(\n",
    "    strategy=Strategy.DELTA_ONE.value,\n",
    "    instrument=all_futures_baltas2020.index,\n",
    "    signal=signal.ParallelSignal([\n",
    "        signal.VolatilityScale(volatility_type=RealisedVolatility.YZ.value,\n",
    "                               agg_method='rolling', window=21, min_periods=10,\n",
    "                               target_volatility=0.4, signal_cap=0.95, ann_factor=261),\n",
    "        signal.TSMOMBaltas2020()\n",
    "    ], weighting='product'),\n",
    "    weighting=Weighting.EQUAL_WEIGHT.value,\n",
    "    log_level=logging.WARN,\n",
    ")\n",
    "engine_combined.run()"
   ]
  },
  {
   "cell_type": "code",
   "execution_count": 17,
   "id": "7168fe52",
   "metadata": {
    "execution": {
     "iopub.execute_input": "2022-08-03T07:51:59.960646Z",
     "iopub.status.busy": "2022-08-03T07:51:59.960386Z",
     "iopub.status.idle": "2022-08-03T07:53:22.565246Z",
     "shell.execute_reply": "2022-08-03T07:53:22.564309Z"
    },
    "papermill": {
     "duration": 82.620216,
     "end_time": "2022-08-03T07:53:22.568249",
     "exception": false,
     "start_time": "2022-08-03T07:51:59.948033",
     "status": "completed"
    },
    "tags": []
   },
   "outputs": [],
   "source": [
    "engine_combined_eq = (engine_combined.calculate_equity_curve(calculate_net=False, rebalance_freq='m')\n",
    "                      .rename('Trend-following portfolio (YZ estimator + TREND signal)'))"
   ]
  },
  {
   "cell_type": "code",
   "execution_count": 18,
   "id": "bc0dd546",
   "metadata": {
    "execution": {
     "iopub.execute_input": "2022-08-03T07:53:22.592969Z",
     "iopub.status.busy": "2022-08-03T07:53:22.592700Z",
     "iopub.status.idle": "2022-08-03T07:53:23.150720Z",
     "shell.execute_reply": "2022-08-03T07:53:23.150023Z"
    },
    "papermill": {
     "duration": 0.57226,
     "end_time": "2022-08-03T07:53:23.152401",
     "exception": false,
     "start_time": "2022-08-03T07:53:22.580141",
     "status": "completed"
    },
    "tags": []
   },
   "outputs": [
    {
     "data": {
      "image/png": "[encoded data removed]",
      "text/plain": [
       "<Figure size 576x324 with 1 Axes>"
      ]
     },
     "metadata": {
      "needs_background": "light"
     },
     "output_type": "display_data"
    }
   ],
   "source": [
    "fig, ax = plt.subplots(figsize=(8, 4.5))\n",
    "engine_combined_eq.plot(ax=ax, logy=True)\n",
    "ax.set_title('Trend-following portfolio (YZ estimator + TREND signal)')\n",
    "ax.set_ylabel('Cumulative returns');"
   ]
  },
  {
   "cell_type": "code",
   "execution_count": 19,
   "id": "5d2ae827",
   "metadata": {
    "execution": {
     "iopub.execute_input": "2022-08-03T07:53:23.180308Z",
     "iopub.status.busy": "2022-08-03T07:53:23.180027Z",
     "iopub.status.idle": "2022-08-03T07:53:23.274486Z",
     "shell.execute_reply": "2022-08-03T07:53:23.273775Z"
    },
    "papermill": {
     "duration": 0.111428,
     "end_time": "2022-08-03T07:53:23.276147",
     "exception": false,
     "start_time": "2022-08-03T07:53:23.164719",
     "status": "completed"
    },
    "tags": []
   },
   "outputs": [
    {
     "data": {
      "text/html": [
       "<div>\n",
       "<style scoped>\n",
       "    .dataframe tbody tr th:only-of-type {\n",
       "        vertical-align: middle;\n",
       "    }\n",
       "\n",
       "    .dataframe tbody tr th {\n",
       "        vertical-align: top;\n",
       "    }\n",
       "\n",
       "    .dataframe thead th {\n",
       "        text-align: right;\n",
       "    }\n",
       "</style>\n",
       "<table border=\"1\" class=\"dataframe\">\n",
       "  <thead>\n",
       "    <tr style=\"text-align: right;\">\n",
       "      <th></th>\n",
       "      <th>Trend-following portfolio (YZ estimator + TREND signal)</th>\n",
       "    </tr>\n",
       "  </thead>\n",
       "  <tbody>\n",
       "    <tr>\n",
       "      <th>CAGR</th>\n",
       "      <td>0.139597</td>\n",
       "    </tr>\n",
       "    <tr>\n",
       "      <th>Annualised vol</th>\n",
       "      <td>0.110669</td>\n",
       "    </tr>\n",
       "    <tr>\n",
       "      <th>Sharpe ratio</th>\n",
       "      <td>1.261387</td>\n",
       "    </tr>\n",
       "    <tr>\n",
       "      <th>Max drawdown</th>\n",
       "      <td>0.313945</td>\n",
       "    </tr>\n",
       "    <tr>\n",
       "      <th>Calmar ratio</th>\n",
       "      <td>0.444652</td>\n",
       "    </tr>\n",
       "    <tr>\n",
       "      <th>Skewness</th>\n",
       "      <td>0.292974</td>\n",
       "    </tr>\n",
       "    <tr>\n",
       "      <th>Kurtosis</th>\n",
       "      <td>32.553232</td>\n",
       "    </tr>\n",
       "    <tr>\n",
       "      <th>Worst return</th>\n",
       "      <td>-0.130152</td>\n",
       "    </tr>\n",
       "    <tr>\n",
       "      <th>Worst 1d return</th>\n",
       "      <td>-0.130152</td>\n",
       "    </tr>\n",
       "    <tr>\n",
       "      <th>Worst 1w return</th>\n",
       "      <td>-0.112097</td>\n",
       "    </tr>\n",
       "    <tr>\n",
       "      <th>Worst 1m return</th>\n",
       "      <td>-0.186272</td>\n",
       "    </tr>\n",
       "  </tbody>\n",
       "</table>\n",
       "</div>"
      ],
      "text/plain": [
       "                 Trend-following portfolio (YZ estimator + TREND signal)\n",
       "CAGR                                                      0.139597      \n",
       "Annualised vol                                            0.110669      \n",
       "Sharpe ratio                                              1.261387      \n",
       "Max drawdown                                              0.313945      \n",
       "Calmar ratio                                              0.444652      \n",
       "Skewness                                                  0.292974      \n",
       "Kurtosis                                                 32.553232      \n",
       "Worst return                                             -0.130152      \n",
       "Worst 1d return                                          -0.130152      \n",
       "Worst 1w return                                          -0.112097      \n",
       "Worst 1m return                                          -0.186272      "
      ]
     },
     "execution_count": 19,
     "metadata": {},
     "output_type": "execute_result"
    }
   ],
   "source": [
    "engine_combined_eq.pipe(Performance).summary()"
   ]
  },
  {
   "cell_type": "markdown",
   "id": "1efd2767",
   "metadata": {
    "papermill": {
     "duration": 0.012217,
     "end_time": "2022-08-03T07:53:23.300463",
     "exception": false,
     "start_time": "2022-08-03T07:53:23.288246",
     "status": "completed"
    },
    "tags": []
   },
   "source": [
    "# Comparison\n",
    "\n",
    "In this section we compare the above 4 backtests."
   ]
  },
  {
   "cell_type": "markdown",
   "id": "d85713e8",
   "metadata": {
    "papermill": {
     "duration": 0.011852,
     "end_time": "2022-08-03T07:53:23.324157",
     "exception": false,
     "start_time": "2022-08-03T07:53:23.312305",
     "status": "completed"
    },
    "tags": []
   },
   "source": [
    "## Performance\n",
    "\n",
    "As reported in BK2020, using the YZ estimator and TREND signal does not alter the performance characteristics. Rather, the TREND signal somewhat improves the Sharpe ratio. Also the TREND signal lowers the annualised volatility from 12.5% to 10.8% with the close-to-close realised volatility."
   ]
  },
  {
   "cell_type": "code",
   "execution_count": 20,
   "id": "9c1d005b",
   "metadata": {
    "execution": {
     "iopub.execute_input": "2022-08-03T07:53:23.349007Z",
     "iopub.status.busy": "2022-08-03T07:53:23.348724Z",
     "iopub.status.idle": "2022-08-03T07:53:23.361552Z",
     "shell.execute_reply": "2022-08-03T07:53:23.360903Z"
    },
    "papermill": {
     "duration": 0.027245,
     "end_time": "2022-08-03T07:53:23.363220",
     "exception": false,
     "start_time": "2022-08-03T07:53:23.335975",
     "status": "completed"
    },
    "tags": []
   },
   "outputs": [],
   "source": [
    "performance_comp = pd.concat((engine_original_eq, engine_vol_eq, \n",
    "                              engine_trend_eq, engine_combined_eq), axis=1)"
   ]
  },
  {
   "cell_type": "code",
   "execution_count": 21,
   "id": "ebfec36e",
   "metadata": {
    "execution": {
     "iopub.execute_input": "2022-08-03T07:53:23.433605Z",
     "iopub.status.busy": "2022-08-03T07:53:23.433337Z",
     "iopub.status.idle": "2022-08-03T07:53:24.189039Z",
     "shell.execute_reply": "2022-08-03T07:53:24.188369Z"
    },
    "papermill": {
     "duration": 0.815553,
     "end_time": "2022-08-03T07:53:24.190640",
     "exception": false,
     "start_time": "2022-08-03T07:53:23.375087",
     "status": "completed"
    },
    "tags": []
   },
   "outputs": [
    {
     "data": {
      "image/png": "[encoded data removed]",
      "text/plain": [
       "<Figure size 576x324 with 1 Axes>"
      ]
     },
     "metadata": {
      "needs_background": "light"
     },
     "output_type": "display_data"
    }
   ],
   "source": [
    "fig, ax = plt.subplots(figsize=(8, 4.5))\n",
    "performance_comp.plot(ax=ax, logy=True);\n",
    "ax.set_title('Trend-following portfolio')\n",
    "ax.set_ylabel('Cumulative returns');"
   ]
  },
  {
   "cell_type": "code",
   "execution_count": 22,
   "id": "73b662a5",
   "metadata": {
    "execution": {
     "iopub.execute_input": "2022-08-03T07:53:24.216948Z",
     "iopub.status.busy": "2022-08-03T07:53:24.216687Z",
     "iopub.status.idle": "2022-08-03T07:53:24.314672Z",
     "shell.execute_reply": "2022-08-03T07:53:24.313970Z"
    },
    "papermill": {
     "duration": 0.113364,
     "end_time": "2022-08-03T07:53:24.316572",
     "exception": false,
     "start_time": "2022-08-03T07:53:24.203208",
     "status": "completed"
    },
    "tags": []
   },
   "outputs": [
    {
     "data": {
      "text/html": [
       "<div>\n",
       "<style scoped>\n",
       "    .dataframe tbody tr th:only-of-type {\n",
       "        vertical-align: middle;\n",
       "    }\n",
       "\n",
       "    .dataframe tbody tr th {\n",
       "        vertical-align: top;\n",
       "    }\n",
       "\n",
       "    .dataframe thead th {\n",
       "        text-align: right;\n",
       "    }\n",
       "</style>\n",
       "<table border=\"1\" class=\"dataframe\">\n",
       "  <thead>\n",
       "    <tr style=\"text-align: right;\">\n",
       "      <th></th>\n",
       "      <th>Trend-following portfolio (Moskowitz 2012)</th>\n",
       "      <th>Trend-following portfolio (YZ estimator)</th>\n",
       "      <th>Trend-following portfolio (TREND signal)</th>\n",
       "      <th>Trend-following portfolio (YZ estimator + TREND signal)</th>\n",
       "    </tr>\n",
       "  </thead>\n",
       "  <tbody>\n",
       "    <tr>\n",
       "      <th>CAGR</th>\n",
       "      <td>0.147114</td>\n",
       "      <td>0.148381</td>\n",
       "      <td>0.139163</td>\n",
       "      <td>0.139253</td>\n",
       "    </tr>\n",
       "    <tr>\n",
       "      <th>Annualised vol</th>\n",
       "      <td>0.124967</td>\n",
       "      <td>0.127105</td>\n",
       "      <td>0.107931</td>\n",
       "      <td>0.110534</td>\n",
       "    </tr>\n",
       "    <tr>\n",
       "      <th>Sharpe ratio</th>\n",
       "      <td>1.177218</td>\n",
       "      <td>1.167390</td>\n",
       "      <td>1.289363</td>\n",
       "      <td>1.259824</td>\n",
       "    </tr>\n",
       "    <tr>\n",
       "      <th>Max drawdown</th>\n",
       "      <td>0.259239</td>\n",
       "      <td>0.305877</td>\n",
       "      <td>0.294584</td>\n",
       "      <td>0.313945</td>\n",
       "    </tr>\n",
       "    <tr>\n",
       "      <th>Calmar ratio</th>\n",
       "      <td>0.567483</td>\n",
       "      <td>0.485102</td>\n",
       "      <td>0.472405</td>\n",
       "      <td>0.443559</td>\n",
       "    </tr>\n",
       "    <tr>\n",
       "      <th>Skewness</th>\n",
       "      <td>0.073314</td>\n",
       "      <td>0.281592</td>\n",
       "      <td>0.159327</td>\n",
       "      <td>0.293939</td>\n",
       "    </tr>\n",
       "    <tr>\n",
       "      <th>Kurtosis</th>\n",
       "      <td>19.362040</td>\n",
       "      <td>22.204950</td>\n",
       "      <td>28.031875</td>\n",
       "      <td>32.639881</td>\n",
       "    </tr>\n",
       "    <tr>\n",
       "      <th>Worst return</th>\n",
       "      <td>-0.126276</td>\n",
       "      <td>-0.137043</td>\n",
       "      <td>-0.121269</td>\n",
       "      <td>-0.130152</td>\n",
       "    </tr>\n",
       "    <tr>\n",
       "      <th>Worst 1d return</th>\n",
       "      <td>-0.126276</td>\n",
       "      <td>-0.137043</td>\n",
       "      <td>-0.121269</td>\n",
       "      <td>-0.130152</td>\n",
       "    </tr>\n",
       "    <tr>\n",
       "      <th>Worst 1w return</th>\n",
       "      <td>-0.107725</td>\n",
       "      <td>-0.098542</td>\n",
       "      <td>-0.110077</td>\n",
       "      <td>-0.112097</td>\n",
       "    </tr>\n",
       "    <tr>\n",
       "      <th>Worst 1m return</th>\n",
       "      <td>-0.152667</td>\n",
       "      <td>-0.169177</td>\n",
       "      <td>-0.171789</td>\n",
       "      <td>-0.186272</td>\n",
       "    </tr>\n",
       "  </tbody>\n",
       "</table>\n",
       "</div>"
      ],
      "text/plain": [
       "                 Trend-following portfolio (Moskowitz 2012)  \\\n",
       "CAGR                                               0.147114   \n",
       "Annualised vol                                     0.124967   \n",
       "Sharpe ratio                                       1.177218   \n",
       "Max drawdown                                       0.259239   \n",
       "Calmar ratio                                       0.567483   \n",
       "Skewness                                           0.073314   \n",
       "Kurtosis                                          19.362040   \n",
       "Worst return                                      -0.126276   \n",
       "Worst 1d return                                   -0.126276   \n",
       "Worst 1w return                                   -0.107725   \n",
       "Worst 1m return                                   -0.152667   \n",
       "\n",
       "                 Trend-following portfolio (YZ estimator)  \\\n",
       "CAGR                                             0.148381   \n",
       "Annualised vol                                   0.127105   \n",
       "Sharpe ratio                                     1.167390   \n",
       "Max drawdown                                     0.305877   \n",
       "Calmar ratio                                     0.485102   \n",
       "Skewness                                         0.281592   \n",
       "Kurtosis                                        22.204950   \n",
       "Worst return                                    -0.137043   \n",
       "Worst 1d return                                 -0.137043   \n",
       "Worst 1w return                                 -0.098542   \n",
       "Worst 1m return                                 -0.169177   \n",
       "\n",
       "                 Trend-following portfolio (TREND signal)  \\\n",
       "CAGR                                             0.139163   \n",
       "Annualised vol                                   0.107931   \n",
       "Sharpe ratio                                     1.289363   \n",
       "Max drawdown                                     0.294584   \n",
       "Calmar ratio                                     0.472405   \n",
       "Skewness                                         0.159327   \n",
       "Kurtosis                                        28.031875   \n",
       "Worst return                                    -0.121269   \n",
       "Worst 1d return                                 -0.121269   \n",
       "Worst 1w return                                 -0.110077   \n",
       "Worst 1m return                                 -0.171789   \n",
       "\n",
       "                 Trend-following portfolio (YZ estimator + TREND signal)  \n",
       "CAGR                                                      0.139253        \n",
       "Annualised vol                                            0.110534        \n",
       "Sharpe ratio                                              1.259824        \n",
       "Max drawdown                                              0.313945        \n",
       "Calmar ratio                                              0.443559        \n",
       "Skewness                                                  0.293939        \n",
       "Kurtosis                                                 32.639881        \n",
       "Worst return                                             -0.130152        \n",
       "Worst 1d return                                          -0.130152        \n",
       "Worst 1w return                                          -0.112097        \n",
       "Worst 1m return                                          -0.186272        "
      ]
     },
     "execution_count": 22,
     "metadata": {},
     "output_type": "execute_result"
    }
   ],
   "source": [
    "performance_comp.pipe(Performance).summary()"
   ]
  },
  {
   "cell_type": "markdown",
   "id": "46d934ae",
   "metadata": {
    "papermill": {
     "duration": 0.013234,
     "end_time": "2022-08-03T07:53:24.343270",
     "exception": false,
     "start_time": "2022-08-03T07:53:24.330036",
     "status": "completed"
    },
    "tags": []
   },
   "source": [
    "## Turnover reduction\n",
    "\n",
    "Again, as reported in BK2020, both enhancements reduce the turnover significantly while not affecting the performance. The chart below shows the reduction in turnover for each futures contract. By utilising the YZ realised volatility and the TREND signal, overall the turnover is reduced by more than 30%."
   ]
  },
  {
   "cell_type": "code",
   "execution_count": 23,
   "id": "2ce096dd",
   "metadata": {
    "execution": {
     "iopub.execute_input": "2022-08-03T07:53:24.371024Z",
     "iopub.status.busy": "2022-08-03T07:53:24.370752Z",
     "iopub.status.idle": "2022-08-03T07:58:35.094231Z",
     "shell.execute_reply": "2022-08-03T07:58:35.093507Z"
    },
    "papermill": {
     "duration": 310.739627,
     "end_time": "2022-08-03T07:58:35.096132",
     "exception": false,
     "start_time": "2022-08-03T07:53:24.356505",
     "status": "completed"
    },
    "tags": []
   },
   "outputs": [],
   "source": [
    "engine_original_pos = engine_original.get_position_by_instrument()\n",
    "engine_vol_pos = engine_vol.get_position_by_instrument()\n",
    "engine_trend_pos = engine_trend.get_position_by_instrument()\n",
    "engine_combined_pos = engine_combined.get_position_by_instrument()"
   ]
  },
  {
   "cell_type": "code",
   "execution_count": 24,
   "id": "9fb380e1",
   "metadata": {
    "execution": {
     "iopub.execute_input": "2022-08-03T07:58:35.124610Z",
     "iopub.status.busy": "2022-08-03T07:58:35.124276Z",
     "iopub.status.idle": "2022-08-03T07:58:35.159395Z",
     "shell.execute_reply": "2022-08-03T07:58:35.158672Z"
    },
    "papermill": {
     "duration": 0.051759,
     "end_time": "2022-08-03T07:58:35.161206",
     "exception": false,
     "start_time": "2022-08-03T07:58:35.109447",
     "status": "completed"
    },
    "tags": []
   },
   "outputs": [],
   "source": [
    "engine_original_turnover = (engine_original_pos.diff().abs().mean().mul(261)\n",
    "                            .rename('Trend-following portfolio (Moskowitz 2012)'))\n",
    "engine_vol_turnover = (engine_vol_pos.diff().abs().mean().mul(261)\n",
    "                       .rename('Trend-following portfolio (YZ estimator)'))\n",
    "engine_trend_turnover = (engine_trend_pos.diff().abs().mean().mul(261)\n",
    "                         .rename('Trend-following portfolio (TREND signal)'))\n",
    "engine_combined_turnover = (engine_combined_pos.diff().abs().mean().mul(261)\n",
    "                            .rename('Trend-following portfolio (YZ estimator + TREND signal)'))"
   ]
  },
  {
   "cell_type": "code",
   "execution_count": 25,
   "id": "5dead404",
   "metadata": {
    "execution": {
     "iopub.execute_input": "2022-08-03T07:58:35.187723Z",
     "iopub.status.busy": "2022-08-03T07:58:35.187406Z",
     "iopub.status.idle": "2022-08-03T07:58:35.194465Z",
     "shell.execute_reply": "2022-08-03T07:58:35.193782Z"
    },
    "papermill": {
     "duration": 0.022386,
     "end_time": "2022-08-03T07:58:35.196158",
     "exception": false,
     "start_time": "2022-08-03T07:58:35.173772",
     "status": "completed"
    },
    "tags": []
   },
   "outputs": [],
   "source": [
    "turnover_reduction = (\n",
    "    pd.concat((engine_vol_turnover, engine_trend_turnover, engine_combined_turnover), axis=1)\n",
    "    .div(engine_original_turnover, axis=0)\n",
    "    .sub(1)\n",
    "    .reindex(index=all_futures_baltas2020.index)\n",
    "    .rename(index=all_futures_baltas2020['name'])\n",
    ")"
   ]
  },
  {
   "cell_type": "code",
   "execution_count": 26,
   "id": "e6c808bd",
   "metadata": {
    "execution": {
     "iopub.execute_input": "2022-08-03T07:58:35.223184Z",
     "iopub.status.busy": "2022-08-03T07:58:35.222863Z",
     "iopub.status.idle": "2022-08-03T07:58:35.229011Z",
     "shell.execute_reply": "2022-08-03T07:58:35.228326Z"
    },
    "papermill": {
     "duration": 0.021373,
     "end_time": "2022-08-03T07:58:35.230586",
     "exception": false,
     "start_time": "2022-08-03T07:58:35.209213",
     "status": "completed"
    },
    "tags": []
   },
   "outputs": [
    {
     "data": {
      "text/plain": [
       "Trend-following portfolio (YZ estimator)                  -0.181123\n",
       "Trend-following portfolio (TREND signal)                  -0.207156\n",
       "Trend-following portfolio (YZ estimator + TREND signal)   -0.330504\n",
       "dtype: float64"
      ]
     },
     "execution_count": 26,
     "metadata": {},
     "output_type": "execute_result"
    }
   ],
   "source": [
    "turnover_reduction.mean()"
   ]
  },
  {
   "cell_type": "code",
   "execution_count": 27,
   "id": "bc8102ec",
   "metadata": {
    "execution": {
     "iopub.execute_input": "2022-08-03T07:58:35.257767Z",
     "iopub.status.busy": "2022-08-03T07:58:35.257287Z",
     "iopub.status.idle": "2022-08-03T07:58:36.902050Z",
     "shell.execute_reply": "2022-08-03T07:58:36.901351Z"
    },
    "papermill": {
     "duration": 1.660166,
     "end_time": "2022-08-03T07:58:36.903623",
     "exception": false,
     "start_time": "2022-08-03T07:58:35.243457",
     "status": "completed"
    },
    "tags": []
   },
   "outputs": [
    {
     "data": {
      "image/png": "[encoded data removed]",
      "text/plain": [
       "<Figure size 1008x288 with 1 Axes>"
      ]
     },
     "metadata": {
      "needs_background": "light"
     },
     "output_type": "display_data"
    }
   ],
   "source": [
    "ax = turnover_reduction.plot(kind='bar', figsize=(14, 4))\n",
    "ax.yaxis.set_major_formatter(mticker.PercentFormatter(1))\n",
    "ax.axhline(0, color='black', lw=1)\n",
    "ax.axvline(24.5, color='black', lw=1)\n",
    "ax.axvline(30.5, color='black', lw=1)\n",
    "ax.axvline(42.5, color='black', lw=1)\n",
    "ax.set_xlabel('Contract')\n",
    "ax.set_ylabel('Turnover reduction');"
   ]
  },
  {
   "cell_type": "markdown",
   "id": "22bc92fa",
   "metadata": {
    "papermill": {
     "duration": 0.013348,
     "end_time": "2022-08-03T07:58:36.930383",
     "exception": false,
     "start_time": "2022-08-03T07:58:36.917035",
     "status": "completed"
    },
    "tags": []
   },
   "source": [
    "# Recent performance"
   ]
  },
  {
   "cell_type": "code",
   "execution_count": 28,
   "id": "abc1618e",
   "metadata": {
    "execution": {
     "iopub.execute_input": "2022-08-03T07:58:36.958658Z",
     "iopub.status.busy": "2022-08-03T07:58:36.958391Z",
     "iopub.status.idle": "2022-08-03T07:58:37.417868Z",
     "shell.execute_reply": "2022-08-03T07:58:37.417104Z"
    },
    "papermill": {
     "duration": 0.475766,
     "end_time": "2022-08-03T07:58:37.419511",
     "exception": false,
     "start_time": "2022-08-03T07:58:36.943745",
     "status": "completed"
    },
    "tags": []
   },
   "outputs": [
    {
     "data": {
      "image/png": "[encoded data removed]",
      "text/plain": [
       "<Figure size 576x324 with 1 Axes>"
      ]
     },
     "metadata": {
      "needs_background": "light"
     },
     "output_type": "display_data"
    }
   ],
   "source": [
    "fig, ax = plt.subplots(figsize=(8, 4.5))\n",
    "performance_comp.tail(252 * 2).pct_change().fillna(0).add(1).cumprod().plot(ax=ax, logy=True);\n",
    "ax.set_title('Trend-following portfolio')\n",
    "ax.set_ylabel('Cumulative returns');"
   ]
  },
  {
   "cell_type": "markdown",
   "id": "beedab81",
   "metadata": {
    "papermill": {
     "duration": 0.01421,
     "end_time": "2022-08-03T07:58:37.448340",
     "exception": false,
     "start_time": "2022-08-03T07:58:37.434130",
     "status": "completed"
    },
    "tags": []
   },
   "source": [
    "# Reference\n",
    "\n",
    "- Baltas, N. and Kosowski, R., 2020. Demystifying time-series momentum strategies: Volatility estimators, trading rules and pairwise correlations. Market Momentum: Theory and Practice\", Wiley.\n",
    "- Moskowitz, T.J., Ooi, Y.H. and Pedersen, L.H., 2012. Time series momentum. Journal of financial economics, 104(2), pp.228-250."
   ]
  },
  {
   "cell_type": "code",
   "execution_count": 29,
   "id": "bfb361e6",
   "metadata": {
    "ExecuteTime": {
     "end_time": "2020-08-30T21:20:32.431574Z",
     "start_time": "2020-08-30T21:20:32.429370Z"
    },
    "execution": {
     "iopub.execute_input": "2022-08-03T07:58:37.478100Z",
     "iopub.status.busy": "2022-08-03T07:58:37.477742Z",
     "iopub.status.idle": "2022-08-03T07:58:37.482194Z",
     "shell.execute_reply": "2022-08-03T07:58:37.481508Z"
    },
    "papermill": {
     "duration": 0.021551,
     "end_time": "2022-08-03T07:58:37.483898",
     "exception": false,
     "start_time": "2022-08-03T07:58:37.462347",
     "status": "completed"
    },
    "tags": []
   },
   "outputs": [
    {
     "name": "stdout",
     "output_type": "stream",
     "text": [
      "Updated: 03-Aug-2022 07:58\n"
     ]
    }
   ],
   "source": [
    "print(f'Updated: {datetime.utcnow():%d-%b-%Y %H:%M}')"
   ]
  }
 ],
 "metadata": {
  "hide_input": false,
  "kernelspec": {
   "display_name": "Python 3",
   "language": "python",
   "name": "python3"
  },
  "language_info": {
   "codemirror_mode": {
    "name": "ipython",
    "version": 3
   },
   "file_extension": ".py",
   "mimetype": "text/x-python",
   "name": "python",
   "nbconvert_exporter": "python",
   "pygments_lexer": "ipython3",
   "version": "3.9.6"
  },
  "nav_menu": {},
  "papermill": {
   "duration": 5495.0797,
   "end_time": "2022-08-03T07:58:40.533040",
   "environment_variables": {},
   "exception": null,
   "input_path": "notebooks/papermill/trend_following_baltas2020.ipynb",
   "output_path": "notebooks/trend_following_baltas2020.ipynb",
   "parameters": {},
   "start_time": "2022-08-03T06:27:05.453340",
   "version": "2.1.3"
  },
  "toc": {
   "base_numbering": 1,
   "nav_menu": {},
   "number_sections": true,
   "sideBar": true,
   "skip_h1_title": false,
   "title_cell": "Table of Contents",
   "title_sidebar": "Contents",
   "toc_cell": true,
   "toc_position": {
    "height": "calc(100% - 180px)",
    "left": "10px",
    "top": "150px",
    "width": "165px"
   },
   "toc_section_display": "block",
   "toc_window_display": true
  }
 },
 "nbformat": 4,
 "nbformat_minor": 5
}