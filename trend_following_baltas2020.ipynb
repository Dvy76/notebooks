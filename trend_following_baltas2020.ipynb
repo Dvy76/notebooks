{
 "cells": [
  {
   "cell_type": "markdown",
   "id": "ba2b6136",
   "metadata": {
    "papermill": {
     "duration": 0.017365,
     "end_time": "2022-08-11T06:27:00.949073",
     "exception": false,
     "start_time": "2022-08-11T06:27:00.931708",
     "status": "completed"
    },
    "tags": []
   },
   "source": [
    "# Trend-following\n",
    "\n",
    "This notebook implements a few improvements that Baltas and Kosowski (2020) (BK2020, hereafter) propose to the time-series momentum strategy which originally appeared in Moskowitz et al (2012).\n",
    "\n",
    "Note that like other notebooks, all backtests are performed by using a private library called `vivace`."
   ]
  },
  {
   "cell_type": "code",
   "execution_count": 1,
   "id": "c3f5665a",
   "metadata": {
    "ExecuteTime": {
     "end_time": "2020-08-30T21:08:49.524262Z",
     "start_time": "2020-08-30T21:08:48.720115Z"
    },
    "execution": {
     "iopub.execute_input": "2022-08-11T06:27:00.984226Z",
     "iopub.status.busy": "2022-08-11T06:27:00.983824Z",
     "iopub.status.idle": "2022-08-11T06:27:05.698703Z",
     "shell.execute_reply": "2022-08-11T06:27:05.697377Z"
    },
    "papermill": {
     "duration": 4.736146,
     "end_time": "2022-08-11T06:27:05.701851",
     "exception": false,
     "start_time": "2022-08-11T06:27:00.965705",
     "status": "completed"
    },
    "tags": []
   },
   "outputs": [],
   "source": [
    "%matplotlib inline\n",
    "from datetime import datetime\n",
    "import logging\n",
    "import warnings\n",
    "warnings.simplefilter(action='ignore', category=FutureWarning)\n",
    "\n",
    "import pandas as pd\n",
    "import matplotlib.pyplot as plt\n",
    "import matplotlib.ticker as mticker\n",
    "plt.style.use('bmh')\n",
    "\n",
    "from vivace.backtest import signal\n",
    "from vivace.backtest import processing\n",
    "from vivace.backtest.contract import all_futures_baltas2020\n",
    "from vivace.backtest.engine import BacktestEngine\n",
    "from vivace.backtest.enums import Strategy, Weighting, RealisedVolatility\n",
    "from vivace.backtest.stats import Performance"
   ]
  },
  {
   "cell_type": "markdown",
   "id": "4670c545",
   "metadata": {
    "papermill": {
     "duration": 0.018299,
     "end_time": "2022-08-11T06:27:05.737721",
     "exception": false,
     "start_time": "2022-08-11T06:27:05.719422",
     "status": "completed"
    },
    "tags": []
   },
   "source": [
    "# Data"
   ]
  },
  {
   "cell_type": "code",
   "execution_count": 2,
   "id": "be2b752d",
   "metadata": {
    "ExecuteTime": {
     "end_time": "2020-08-30T21:08:49.529214Z",
     "start_time": "2020-08-30T21:08:49.525465Z"
    },
    "execution": {
     "iopub.execute_input": "2022-08-11T06:27:05.774740Z",
     "iopub.status.busy": "2022-08-11T06:27:05.774049Z",
     "iopub.status.idle": "2022-08-11T06:27:05.784985Z",
     "shell.execute_reply": "2022-08-11T06:27:05.784015Z"
    },
    "papermill": {
     "duration": 0.033495,
     "end_time": "2022-08-11T06:27:05.788650",
     "exception": false,
     "start_time": "2022-08-11T06:27:05.755155",
     "status": "completed"
    },
    "tags": []
   },
   "outputs": [
    {
     "data": {
      "text/plain": [
       "array(['WTI Crude Oil', 'Brent Crude Oil', 'Heating Oil', 'Natural Gas',\n",
       "       'Gasoline', 'Copper', 'Gold', 'Palladium', 'Platinum', 'Silver',\n",
       "       'Feeder Cattle', 'Live Cattle', 'Lean Hog', 'Corn', 'Oats',\n",
       "       'Soybean Oil', 'Soybean Meal', 'Soybean', 'Wheat', 'Cocoa',\n",
       "       'Coffee', 'Cotton', 'Lumber', 'Orange Juice', 'Sugar',\n",
       "       'Australian Dollar', 'Canadian Dollar', 'Swiss Franc', 'Euro',\n",
       "       'British Pound', 'Japanese Yen', 'E-Mini Nasdaq 100',\n",
       "       'E-mini S&P 500', 'E-mini Russell 2000', 'FTSE 100', 'DAX',\n",
       "       'CAC 40', 'IBEX 35', 'AEX', 'Swiss Market Index', 'SPI 200',\n",
       "       'Topix', 'Hang Seng', 'US 2-year Treasury', 'US 5-year Treasury',\n",
       "       'US 10-year Treasury', 'US treasury Bond', 'Germany Schatz',\n",
       "       'Germany Bobl', 'Germany Bund', 'Germany Buxl', 'Gilt',\n",
       "       'Canada 10-year Treasury', 'JGB'], dtype=object)"
      ]
     },
     "execution_count": 2,
     "metadata": {},
     "output_type": "execute_result"
    }
   ],
   "source": [
    "all_futures_baltas2020['name'].values"
   ]
  },
  {
   "cell_type": "code",
   "execution_count": 3,
   "id": "844478d1",
   "metadata": {
    "ExecuteTime": {
     "end_time": "2020-08-30T21:08:49.542477Z",
     "start_time": "2020-08-30T21:08:49.530487Z"
    },
    "execution": {
     "iopub.execute_input": "2022-08-11T06:27:05.883568Z",
     "iopub.status.busy": "2022-08-11T06:27:05.882836Z",
     "iopub.status.idle": "2022-08-11T06:27:05.888448Z",
     "shell.execute_reply": "2022-08-11T06:27:05.887366Z"
    },
    "papermill": {
     "duration": 0.082464,
     "end_time": "2022-08-11T06:27:05.891678",
     "exception": false,
     "start_time": "2022-08-11T06:27:05.809214",
     "status": "completed"
    },
    "tags": []
   },
   "outputs": [
    {
     "name": "stdout",
     "output_type": "stream",
     "text": [
      "54\n"
     ]
    }
   ],
   "source": [
    "print(len(all_futures_baltas2020))"
   ]
  },
  {
   "cell_type": "markdown",
   "id": "46e57091",
   "metadata": {
    "papermill": {
     "duration": 0.02112,
     "end_time": "2022-08-11T06:27:05.931677",
     "exception": false,
     "start_time": "2022-08-11T06:27:05.910557",
     "status": "completed"
    },
    "tags": []
   },
   "source": [
    "We try to use the same contract as the original paper where possible, resulting 54 futures contracts to analyse. The trading universe covers a wide range of asset classes and regions, and is made up of following instruments:\n",
    "- Equity index futures\n",
    "- Government bond futures\n",
    "- FX futures\n",
    "- Commodity futures\n",
    "\n",
    "where the same trend detection method is applied."
   ]
  },
  {
   "cell_type": "markdown",
   "id": "c22db348",
   "metadata": {
    "papermill": {
     "duration": 0.021034,
     "end_time": "2022-08-11T06:27:05.973478",
     "exception": false,
     "start_time": "2022-08-11T06:27:05.952444",
     "status": "completed"
    },
    "tags": []
   },
   "source": [
    "# Performance\n"
   ]
  },
  {
   "cell_type": "markdown",
   "id": "87581b8c",
   "metadata": {
    "papermill": {
     "duration": 0.020872,
     "end_time": "2022-08-11T06:27:06.014184",
     "exception": false,
     "start_time": "2022-08-11T06:27:05.993312",
     "status": "completed"
    },
    "tags": []
   },
   "source": [
    "## Moskowitz et al\n",
    "\n",
    "First we calculate the original trend-following portfolio with a more traditional close-to-close realised volatility estimator. Although Moskowitz et al uses the exponentially weighted standard deviation, BK2020 appears to compare against the rolling standard deviation."
   ]
  },
  {
   "cell_type": "code",
   "execution_count": 4,
   "id": "75302c4a",
   "metadata": {
    "execution": {
     "iopub.execute_input": "2022-08-11T06:27:06.050674Z",
     "iopub.status.busy": "2022-08-11T06:27:06.049991Z",
     "iopub.status.idle": "2022-08-11T06:38:57.934855Z",
     "shell.execute_reply": "2022-08-11T06:38:57.934103Z"
    },
    "papermill": {
     "duration": 711.903067,
     "end_time": "2022-08-11T06:38:57.936924",
     "exception": false,
     "start_time": "2022-08-11T06:27:06.033857",
     "status": "completed"
    },
    "tags": []
   },
   "outputs": [],
   "source": [
    "engine_original = BacktestEngine(\n",
    "    strategy=Strategy.DELTA_ONE.value,\n",
    "    instrument=all_futures_baltas2020.index,\n",
    "    signal=signal.ParallelSignal([\n",
    "        signal.VolatilityScale(agg_method='rolling', window=21, ann_factor=261, \n",
    "                               target_volatility=0.4, signal_cap=0.95),\n",
    "        signal.TSMOMMoskowitz2012(post_process=processing.AsFreq(freq='m', method='pad'))\n",
    "    ], weighting='product'),\n",
    "    weighting=Weighting.EQUAL_WEIGHT.value,\n",
    "    log_level=logging.WARN,\n",
    ")\n",
    "engine_original.run()"
   ]
  },
  {
   "cell_type": "code",
   "execution_count": 5,
   "id": "e4178006",
   "metadata": {
    "execution": {
     "iopub.execute_input": "2022-08-11T06:38:57.959208Z",
     "iopub.status.busy": "2022-08-11T06:38:57.958903Z",
     "iopub.status.idle": "2022-08-11T06:40:28.327897Z",
     "shell.execute_reply": "2022-08-11T06:40:28.326812Z"
    },
    "papermill": {
     "duration": 90.382401,
     "end_time": "2022-08-11T06:40:28.330085",
     "exception": false,
     "start_time": "2022-08-11T06:38:57.947684",
     "status": "completed"
    },
    "tags": []
   },
   "outputs": [],
   "source": [
    "engine_original_eq = (engine_original.calculate_equity_curve(calculate_net=False, rebalance_freq='m')\n",
    "                      .rename('Trend-following portfolio (Moskowitz 2012)'))"
   ]
  },
  {
   "cell_type": "code",
   "execution_count": 6,
   "id": "afee750f",
   "metadata": {
    "execution": {
     "iopub.execute_input": "2022-08-11T06:40:28.356369Z",
     "iopub.status.busy": "2022-08-11T06:40:28.355917Z",
     "iopub.status.idle": "2022-08-11T06:40:29.785007Z",
     "shell.execute_reply": "2022-08-11T06:40:29.783864Z"
    },
    "papermill": {
     "duration": 1.445246,
     "end_time": "2022-08-11T06:40:29.787512",
     "exception": false,
     "start_time": "2022-08-11T06:40:28.342266",
     "status": "completed"
    },
    "tags": []
   },
   "outputs": [
    {
     "data": {
      "image/png": "[encoded data removed]",
      "text/plain": [
       "<Figure size 576x324 with 1 Axes>"
      ]
     },
     "metadata": {
      "needs_background": "light"
     },
     "output_type": "display_data"
    }
   ],
   "source": [
    "fig, ax = plt.subplots(figsize=(8, 4.5))\n",
    "engine_original_eq.plot(ax=ax, logy=True)\n",
    "ax.set_title('Trend-following portfolio (Moskowitz 2012)')\n",
    "ax.set_ylabel('Cumulative returns');"
   ]
  },
  {
   "cell_type": "code",
   "execution_count": 7,
   "id": "117e7cd2",
   "metadata": {
    "execution": {
     "iopub.execute_input": "2022-08-11T06:40:29.818951Z",
     "iopub.status.busy": "2022-08-11T06:40:29.818484Z",
     "iopub.status.idle": "2022-08-11T06:40:29.927130Z",
     "shell.execute_reply": "2022-08-11T06:40:29.926002Z"
    },
    "papermill": {
     "duration": 0.127872,
     "end_time": "2022-08-11T06:40:29.930099",
     "exception": false,
     "start_time": "2022-08-11T06:40:29.802227",
     "status": "completed"
    },
    "tags": []
   },
   "outputs": [
    {
     "data": {
      "text/html": [
       "<div>\n",
       "<style scoped>\n",
       "    .dataframe tbody tr th:only-of-type {\n",
       "        vertical-align: middle;\n",
       "    }\n",
       "\n",
       "    .dataframe tbody tr th {\n",
       "        vertical-align: top;\n",
       "    }\n",
       "\n",
       "    .dataframe thead th {\n",
       "        text-align: right;\n",
       "    }\n",
       "</style>\n",
       "<table border=\"1\" class=\"dataframe\">\n",
       "  <thead>\n",
       "    <tr style=\"text-align: right;\">\n",
       "      <th></th>\n",
       "      <th>Trend-following portfolio (Moskowitz 2012)</th>\n",
       "    </tr>\n",
       "  </thead>\n",
       "  <tbody>\n",
       "    <tr>\n",
       "      <th>CAGR</th>\n",
       "      <td>0.147088</td>\n",
       "    </tr>\n",
       "    <tr>\n",
       "      <th>Annualised vol</th>\n",
       "      <td>0.124974</td>\n",
       "    </tr>\n",
       "    <tr>\n",
       "      <th>Sharpe ratio</th>\n",
       "      <td>1.176946</td>\n",
       "    </tr>\n",
       "    <tr>\n",
       "      <th>Max drawdown</th>\n",
       "      <td>0.259239</td>\n",
       "    </tr>\n",
       "    <tr>\n",
       "      <th>Calmar ratio</th>\n",
       "      <td>0.567382</td>\n",
       "    </tr>\n",
       "    <tr>\n",
       "      <th>Skewness</th>\n",
       "      <td>0.073398</td>\n",
       "    </tr>\n",
       "    <tr>\n",
       "      <th>Kurtosis</th>\n",
       "      <td>19.349829</td>\n",
       "    </tr>\n",
       "    <tr>\n",
       "      <th>Worst return</th>\n",
       "      <td>-0.126276</td>\n",
       "    </tr>\n",
       "    <tr>\n",
       "      <th>Worst 1d return</th>\n",
       "      <td>-0.126276</td>\n",
       "    </tr>\n",
       "    <tr>\n",
       "      <th>Worst 1w return</th>\n",
       "      <td>-0.107725</td>\n",
       "    </tr>\n",
       "    <tr>\n",
       "      <th>Worst 1m return</th>\n",
       "      <td>-0.152667</td>\n",
       "    </tr>\n",
       "  </tbody>\n",
       "</table>\n",
       "</div>"
      ],
      "text/plain": [
       "                 Trend-following portfolio (Moskowitz 2012)\n",
       "CAGR                                               0.147088\n",
       "Annualised vol                                     0.124974\n",
       "Sharpe ratio                                       1.176946\n",
       "Max drawdown                                       0.259239\n",
       "Calmar ratio                                       0.567382\n",
       "Skewness                                           0.073398\n",
       "Kurtosis                                          19.349829\n",
       "Worst return                                      -0.126276\n",
       "Worst 1d return                                   -0.126276\n",
       "Worst 1w return                                   -0.107725\n",
       "Worst 1m return                                   -0.152667"
      ]
     },
     "execution_count": 7,
     "metadata": {},
     "output_type": "execute_result"
    }
   ],
   "source": [
    "engine_original_eq.pipe(Performance).summary()"
   ]
  },
  {
   "cell_type": "markdown",
   "id": "d0dd29f1",
   "metadata": {
    "papermill": {
     "duration": 0.011166,
     "end_time": "2022-08-11T06:40:29.953224",
     "exception": false,
     "start_time": "2022-08-11T06:40:29.942058",
     "status": "completed"
    },
    "tags": []
   },
   "source": [
    "\n",
    "## Volatility estimator\n",
    "BK2020 proposes a few changes in order to enhance the original trend-following strategy Moskowitz et al reported. The first thing is to use a more sophisticated realised volatility estimators for volatility scaling. Moskowitz used the exponentially weighted standard deviation with close-to-close. On the other hand, BK2020 suggests to use Yang-Zhang estimator as it is much more efficient."
   ]
  },
  {
   "cell_type": "code",
   "execution_count": 8,
   "id": "5b5c7857",
   "metadata": {
    "ExecuteTime": {
     "end_time": "2020-08-30T21:18:24.661167Z",
     "start_time": "2020-08-30T21:08:49.544232Z"
    },
    "execution": {
     "iopub.execute_input": "2022-08-11T06:40:29.978360Z",
     "iopub.status.busy": "2022-08-11T06:40:29.977797Z",
     "iopub.status.idle": "2022-08-11T07:01:48.364881Z",
     "shell.execute_reply": "2022-08-11T07:01:48.364126Z"
    },
    "papermill": {
     "duration": 1278.402716,
     "end_time": "2022-08-11T07:01:48.367479",
     "exception": false,
     "start_time": "2022-08-11T06:40:29.964763",
     "status": "completed"
    },
    "tags": []
   },
   "outputs": [],
   "source": [
    "engine_vol = BacktestEngine(\n",
    "    strategy=Strategy.DELTA_ONE.value,\n",
    "    instrument=all_futures_baltas2020.index,\n",
    "    signal=signal.ParallelSignal([\n",
    "        signal.VolatilityScale(volatility_type=RealisedVolatility.YZ.value,\n",
    "                               agg_method='rolling', window=21, min_periods=10,\n",
    "                               target_volatility=0.4, signal_cap=0.95, ann_factor=261),\n",
    "        signal.TSMOMMoskowitz2012(post_process=processing.AsFreq(freq='m', method='pad'))\n",
    "    ], weighting='product'),\n",
    "    weighting=Weighting.EQUAL_WEIGHT.value,\n",
    "    log_level=logging.WARN,\n",
    ")\n",
    "engine_vol.run()"
   ]
  },
  {
   "cell_type": "code",
   "execution_count": 9,
   "id": "50f941c0",
   "metadata": {
    "execution": {
     "iopub.execute_input": "2022-08-11T07:01:48.401773Z",
     "iopub.status.busy": "2022-08-11T07:01:48.401439Z",
     "iopub.status.idle": "2022-08-11T07:03:11.089995Z",
     "shell.execute_reply": "2022-08-11T07:03:11.089217Z"
    },
    "papermill": {
     "duration": 82.70875,
     "end_time": "2022-08-11T07:03:11.092944",
     "exception": false,
     "start_time": "2022-08-11T07:01:48.384194",
     "status": "completed"
    },
    "tags": []
   },
   "outputs": [],
   "source": [
    "engine_vol_eq = (engine_vol.calculate_equity_curve(calculate_net=False, rebalance_freq='m')\n",
    "                 .rename('Trend-following portfolio (YZ estimator)'))"
   ]
  },
  {
   "cell_type": "code",
   "execution_count": 10,
   "id": "42c12ff0",
   "metadata": {
    "execution": {
     "iopub.execute_input": "2022-08-11T07:03:11.127076Z",
     "iopub.status.busy": "2022-08-11T07:03:11.126285Z",
     "iopub.status.idle": "2022-08-11T07:03:11.784100Z",
     "shell.execute_reply": "2022-08-11T07:03:11.783352Z"
    },
    "papermill": {
     "duration": 0.67601,
     "end_time": "2022-08-11T07:03:11.785841",
     "exception": false,
     "start_time": "2022-08-11T07:03:11.109831",
     "status": "completed"
    },
    "tags": []
   },
   "outputs": [
    {
     "data": {
      "image/png": "[encoded data removed]",
      "text/plain": [
       "<Figure size 576x324 with 1 Axes>"
      ]
     },
     "metadata": {
      "needs_background": "light"
     },
     "output_type": "display_data"
    }
   ],
   "source": [
    "fig, ax = plt.subplots(figsize=(8, 4.5))\n",
    "engine_vol_eq.plot(ax=ax, logy=True);\n",
    "ax.set_title('Trend-following portfolio (YZ estimator)')\n",
    "ax.set_ylabel('Cumulative returns');"
   ]
  },
  {
   "cell_type": "code",
   "execution_count": 11,
   "id": "52ed776a",
   "metadata": {
    "execution": {
     "iopub.execute_input": "2022-08-11T07:03:11.809140Z",
     "iopub.status.busy": "2022-08-11T07:03:11.808792Z",
     "iopub.status.idle": "2022-08-11T07:03:11.891103Z",
     "shell.execute_reply": "2022-08-11T07:03:11.890353Z"
    },
    "papermill": {
     "duration": 0.095944,
     "end_time": "2022-08-11T07:03:11.892813",
     "exception": false,
     "start_time": "2022-08-11T07:03:11.796869",
     "status": "completed"
    },
    "tags": []
   },
   "outputs": [
    {
     "data": {
      "text/html": [
       "<div>\n",
       "<style scoped>\n",
       "    .dataframe tbody tr th:only-of-type {\n",
       "        vertical-align: middle;\n",
       "    }\n",
       "\n",
       "    .dataframe tbody tr th {\n",
       "        vertical-align: top;\n",
       "    }\n",
       "\n",
       "    .dataframe thead th {\n",
       "        text-align: right;\n",
       "    }\n",
       "</style>\n",
       "<table border=\"1\" class=\"dataframe\">\n",
       "  <thead>\n",
       "    <tr style=\"text-align: right;\">\n",
       "      <th></th>\n",
       "      <th>Trend-following portfolio (YZ estimator)</th>\n",
       "    </tr>\n",
       "  </thead>\n",
       "  <tbody>\n",
       "    <tr>\n",
       "      <th>CAGR</th>\n",
       "      <td>0.148738</td>\n",
       "    </tr>\n",
       "    <tr>\n",
       "      <th>Annualised vol</th>\n",
       "      <td>0.127263</td>\n",
       "    </tr>\n",
       "    <tr>\n",
       "      <th>Sharpe ratio</th>\n",
       "      <td>1.168743</td>\n",
       "    </tr>\n",
       "    <tr>\n",
       "      <th>Max drawdown</th>\n",
       "      <td>0.305877</td>\n",
       "    </tr>\n",
       "    <tr>\n",
       "      <th>Calmar ratio</th>\n",
       "      <td>0.486268</td>\n",
       "    </tr>\n",
       "    <tr>\n",
       "      <th>Skewness</th>\n",
       "      <td>0.280651</td>\n",
       "    </tr>\n",
       "    <tr>\n",
       "      <th>Kurtosis</th>\n",
       "      <td>22.132896</td>\n",
       "    </tr>\n",
       "    <tr>\n",
       "      <th>Worst return</th>\n",
       "      <td>-0.137043</td>\n",
       "    </tr>\n",
       "    <tr>\n",
       "      <th>Worst 1d return</th>\n",
       "      <td>-0.137043</td>\n",
       "    </tr>\n",
       "    <tr>\n",
       "      <th>Worst 1w return</th>\n",
       "      <td>-0.098542</td>\n",
       "    </tr>\n",
       "    <tr>\n",
       "      <th>Worst 1m return</th>\n",
       "      <td>-0.169177</td>\n",
       "    </tr>\n",
       "  </tbody>\n",
       "</table>\n",
       "</div>"
      ],
      "text/plain": [
       "                 Trend-following portfolio (YZ estimator)\n",
       "CAGR                                             0.148738\n",
       "Annualised vol                                   0.127263\n",
       "Sharpe ratio                                     1.168743\n",
       "Max drawdown                                     0.305877\n",
       "Calmar ratio                                     0.486268\n",
       "Skewness                                         0.280651\n",
       "Kurtosis                                        22.132896\n",
       "Worst return                                    -0.137043\n",
       "Worst 1d return                                 -0.137043\n",
       "Worst 1w return                                 -0.098542\n",
       "Worst 1m return                                 -0.169177"
      ]
     },
     "execution_count": 11,
     "metadata": {},
     "output_type": "execute_result"
    }
   ],
   "source": [
    "engine_vol_eq.pipe(Performance).summary()"
   ]
  },
  {
   "cell_type": "markdown",
   "id": "9c71e96f",
   "metadata": {
    "papermill": {
     "duration": 0.011197,
     "end_time": "2022-08-11T07:03:11.915252",
     "exception": false,
     "start_time": "2022-08-11T07:03:11.904055",
     "status": "completed"
    },
    "tags": []
   },
   "source": [
    "## TREND signal\n",
    "\n",
    "Another improvement BK2020 proposes is to use a continuous signal rather than a binary one in order to reduce the turnover when signals are weak. Specifically they used the t-values with the Newey-West standard error as the signal. They further capped and floored the signal between -1 and +1 to avoid extreme positions.\n",
    "\n",
    "`statsmodels`'s `OLS` class provides a method to compute the Newey-West standard error. https://www.statsmodels.org/stable/generated/statsmodels.regression.linear_model.OLS.html"
   ]
  },
  {
   "cell_type": "code",
   "execution_count": 12,
   "id": "4914b32e",
   "metadata": {
    "execution": {
     "iopub.execute_input": "2022-08-11T07:03:11.940624Z",
     "iopub.status.busy": "2022-08-11T07:03:11.940260Z",
     "iopub.status.idle": "2022-08-11T07:21:09.695930Z",
     "shell.execute_reply": "2022-08-11T07:21:09.695141Z"
    },
    "papermill": {
     "duration": 1077.772,
     "end_time": "2022-08-11T07:21:09.698556",
     "exception": false,
     "start_time": "2022-08-11T07:03:11.926556",
     "status": "completed"
    },
    "tags": []
   },
   "outputs": [],
   "source": [
    "engine_trend = BacktestEngine(\n",
    "    strategy=Strategy.DELTA_ONE.value,\n",
    "    instrument=all_futures_baltas2020.index,\n",
    "    signal=signal.ParallelSignal([\n",
    "        signal.VolatilityScale(agg_method='rolling', window=21, ann_factor=261, \n",
    "                               target_volatility=0.4, signal_cap=0.95),\n",
    "        signal.TSMOMBaltas2020()\n",
    "    ], weighting='product'),\n",
    "    weighting=Weighting.EQUAL_WEIGHT.value,\n",
    "    log_level=logging.WARN,\n",
    ")\n",
    "engine_trend.run()"
   ]
  },
  {
   "cell_type": "code",
   "execution_count": 13,
   "id": "c6eb01c8",
   "metadata": {
    "execution": {
     "iopub.execute_input": "2022-08-11T07:21:09.734107Z",
     "iopub.status.busy": "2022-08-11T07:21:09.733795Z",
     "iopub.status.idle": "2022-08-11T07:22:32.521223Z",
     "shell.execute_reply": "2022-08-11T07:22:32.520310Z"
    },
    "papermill": {
     "duration": 82.807262,
     "end_time": "2022-08-11T07:22:32.523072",
     "exception": false,
     "start_time": "2022-08-11T07:21:09.715810",
     "status": "completed"
    },
    "tags": []
   },
   "outputs": [],
   "source": [
    "engine_trend_eq = (engine_trend.calculate_equity_curve(calculate_net=False, rebalance_freq='m')\n",
    "                   .rename('Trend-following portfolio (TREND signal)'))"
   ]
  },
  {
   "cell_type": "code",
   "execution_count": 14,
   "id": "bbaf2baf",
   "metadata": {
    "execution": {
     "iopub.execute_input": "2022-08-11T07:22:32.546567Z",
     "iopub.status.busy": "2022-08-11T07:22:32.546230Z",
     "iopub.status.idle": "2022-08-11T07:22:33.118455Z",
     "shell.execute_reply": "2022-08-11T07:22:33.117770Z"
    },
    "papermill": {
     "duration": 0.585897,
     "end_time": "2022-08-11T07:22:33.120071",
     "exception": false,
     "start_time": "2022-08-11T07:22:32.534174",
     "status": "completed"
    },
    "tags": []
   },
   "outputs": [
    {
     "data": {
      "image/png": "[encoded data removed]",
      "text/plain": [
       "<Figure size 576x324 with 1 Axes>"
      ]
     },
     "metadata": {
      "needs_background": "light"
     },
     "output_type": "display_data"
    }
   ],
   "source": [
    "fig, ax = plt.subplots(figsize=(8, 4.5))\n",
    "engine_trend_eq.plot(ax=ax, logy=True);\n",
    "ax.set_title('Trend-following portfolio (TREND signal)')\n",
    "ax.set_ylabel('Cumulative returns');"
   ]
  },
  {
   "cell_type": "code",
   "execution_count": 15,
   "id": "9409f5a3",
   "metadata": {
    "execution": {
     "iopub.execute_input": "2022-08-11T07:22:33.143890Z",
     "iopub.status.busy": "2022-08-11T07:22:33.143619Z",
     "iopub.status.idle": "2022-08-11T07:22:33.224863Z",
     "shell.execute_reply": "2022-08-11T07:22:33.224181Z"
    },
    "papermill": {
     "duration": 0.095083,
     "end_time": "2022-08-11T07:22:33.226507",
     "exception": false,
     "start_time": "2022-08-11T07:22:33.131424",
     "status": "completed"
    },
    "tags": []
   },
   "outputs": [
    {
     "data": {
      "text/html": [
       "<div>\n",
       "<style scoped>\n",
       "    .dataframe tbody tr th:only-of-type {\n",
       "        vertical-align: middle;\n",
       "    }\n",
       "\n",
       "    .dataframe tbody tr th {\n",
       "        vertical-align: top;\n",
       "    }\n",
       "\n",
       "    .dataframe thead th {\n",
       "        text-align: right;\n",
       "    }\n",
       "</style>\n",
       "<table border=\"1\" class=\"dataframe\">\n",
       "  <thead>\n",
       "    <tr style=\"text-align: right;\">\n",
       "      <th></th>\n",
       "      <th>Trend-following portfolio (TREND signal)</th>\n",
       "    </tr>\n",
       "  </thead>\n",
       "  <tbody>\n",
       "    <tr>\n",
       "      <th>CAGR</th>\n",
       "      <td>0.139205</td>\n",
       "    </tr>\n",
       "    <tr>\n",
       "      <th>Annualised vol</th>\n",
       "      <td>0.107937</td>\n",
       "    </tr>\n",
       "    <tr>\n",
       "      <th>Sharpe ratio</th>\n",
       "      <td>1.289690</td>\n",
       "    </tr>\n",
       "    <tr>\n",
       "      <th>Max drawdown</th>\n",
       "      <td>0.294584</td>\n",
       "    </tr>\n",
       "    <tr>\n",
       "      <th>Calmar ratio</th>\n",
       "      <td>0.472549</td>\n",
       "    </tr>\n",
       "    <tr>\n",
       "      <th>Skewness</th>\n",
       "      <td>0.159393</td>\n",
       "    </tr>\n",
       "    <tr>\n",
       "      <th>Kurtosis</th>\n",
       "      <td>28.014896</td>\n",
       "    </tr>\n",
       "    <tr>\n",
       "      <th>Worst return</th>\n",
       "      <td>-0.121269</td>\n",
       "    </tr>\n",
       "    <tr>\n",
       "      <th>Worst 1d return</th>\n",
       "      <td>-0.121269</td>\n",
       "    </tr>\n",
       "    <tr>\n",
       "      <th>Worst 1w return</th>\n",
       "      <td>-0.110077</td>\n",
       "    </tr>\n",
       "    <tr>\n",
       "      <th>Worst 1m return</th>\n",
       "      <td>-0.171789</td>\n",
       "    </tr>\n",
       "  </tbody>\n",
       "</table>\n",
       "</div>"
      ],
      "text/plain": [
       "                 Trend-following portfolio (TREND signal)\n",
       "CAGR                                             0.139205\n",
       "Annualised vol                                   0.107937\n",
       "Sharpe ratio                                     1.289690\n",
       "Max drawdown                                     0.294584\n",
       "Calmar ratio                                     0.472549\n",
       "Skewness                                         0.159393\n",
       "Kurtosis                                        28.014896\n",
       "Worst return                                    -0.121269\n",
       "Worst 1d return                                 -0.121269\n",
       "Worst 1w return                                 -0.110077\n",
       "Worst 1m return                                 -0.171789"
      ]
     },
     "execution_count": 15,
     "metadata": {},
     "output_type": "execute_result"
    }
   ],
   "source": [
    "engine_trend_eq.pipe(Performance).summary()"
   ]
  },
  {
   "cell_type": "markdown",
   "id": "fc3c636c",
   "metadata": {
    "papermill": {
     "duration": 0.011611,
     "end_time": "2022-08-11T07:22:33.249694",
     "exception": false,
     "start_time": "2022-08-11T07:22:33.238083",
     "status": "completed"
    },
    "tags": []
   },
   "source": [
    "## Combined\n",
    "\n",
    "Finally we run a backtest by using both the Yang-Zhang volatility estimator and the TREND signal."
   ]
  },
  {
   "cell_type": "code",
   "execution_count": 16,
   "id": "d09c1602",
   "metadata": {
    "execution": {
     "iopub.execute_input": "2022-08-11T07:22:33.274161Z",
     "iopub.status.busy": "2022-08-11T07:22:33.273892Z",
     "iopub.status.idle": "2022-08-11T07:48:11.468483Z",
     "shell.execute_reply": "2022-08-11T07:48:11.467714Z"
    },
    "papermill": {
     "duration": 1538.209527,
     "end_time": "2022-08-11T07:48:11.471018",
     "exception": false,
     "start_time": "2022-08-11T07:22:33.261491",
     "status": "completed"
    },
    "tags": []
   },
   "outputs": [],
   "source": [
    "engine_combined = BacktestEngine(\n",
    "    strategy=Strategy.DELTA_ONE.value,\n",
    "    instrument=all_futures_baltas2020.index,\n",
    "    signal=signal.ParallelSignal([\n",
    "        signal.VolatilityScale(volatility_type=RealisedVolatility.YZ.value,\n",
    "                               agg_method='rolling', window=21, min_periods=10,\n",
    "                               target_volatility=0.4, signal_cap=0.95, ann_factor=261),\n",
    "        signal.TSMOMBaltas2020()\n",
    "    ], weighting='product'),\n",
    "    weighting=Weighting.EQUAL_WEIGHT.value,\n",
    "    log_level=logging.WARN,\n",
    ")\n",
    "engine_combined.run()"
   ]
  },
  {
   "cell_type": "code",
   "execution_count": 17,
   "id": "14d40625",
   "metadata": {
    "execution": {
     "iopub.execute_input": "2022-08-11T07:48:11.509767Z",
     "iopub.status.busy": "2022-08-11T07:48:11.509502Z",
     "iopub.status.idle": "2022-08-11T07:49:28.542035Z",
     "shell.execute_reply": "2022-08-11T07:49:28.541327Z"
    },
    "papermill": {
     "duration": 77.052682,
     "end_time": "2022-08-11T07:49:28.543834",
     "exception": false,
     "start_time": "2022-08-11T07:48:11.491152",
     "status": "completed"
    },
    "tags": []
   },
   "outputs": [],
   "source": [
    "engine_combined_eq = (engine_combined.calculate_equity_curve(calculate_net=False, rebalance_freq='m')\n",
    "                      .rename('Trend-following portfolio (YZ estimator + TREND signal)'))"
   ]
  },
  {
   "cell_type": "code",
   "execution_count": 18,
   "id": "0dec6002",
   "metadata": {
    "execution": {
     "iopub.execute_input": "2022-08-11T07:49:28.567596Z",
     "iopub.status.busy": "2022-08-11T07:49:28.567353Z",
     "iopub.status.idle": "2022-08-11T07:49:29.117425Z",
     "shell.execute_reply": "2022-08-11T07:49:29.116735Z"
    },
    "papermill": {
     "duration": 0.563666,
     "end_time": "2022-08-11T07:49:29.118988",
     "exception": false,
     "start_time": "2022-08-11T07:49:28.555322",
     "status": "completed"
    },
    "tags": []
   },
   "outputs": [
    {
     "data": {
      "image/png": "[encoded data removed]",
      "text/plain": [
       "<Figure size 576x324 with 1 Axes>"
      ]
     },
     "metadata": {
      "needs_background": "light"
     },
     "output_type": "display_data"
    }
   ],
   "source": [
    "fig, ax = plt.subplots(figsize=(8, 4.5))\n",
    "engine_combined_eq.plot(ax=ax, logy=True)\n",
    "ax.set_title('Trend-following portfolio (YZ estimator + TREND signal)')\n",
    "ax.set_ylabel('Cumulative returns');"
   ]
  },
  {
   "cell_type": "code",
   "execution_count": 19,
   "id": "66c90aab",
   "metadata": {
    "execution": {
     "iopub.execute_input": "2022-08-11T07:49:29.169604Z",
     "iopub.status.busy": "2022-08-11T07:49:29.169333Z",
     "iopub.status.idle": "2022-08-11T07:49:29.247781Z",
     "shell.execute_reply": "2022-08-11T07:49:29.247094Z"
    },
    "papermill": {
     "duration": 0.118443,
     "end_time": "2022-08-11T07:49:29.249367",
     "exception": false,
     "start_time": "2022-08-11T07:49:29.130924",
     "status": "completed"
    },
    "tags": []
   },
   "outputs": [
    {
     "data": {
      "text/html": [
       "<div>\n",
       "<style scoped>\n",
       "    .dataframe tbody tr th:only-of-type {\n",
       "        vertical-align: middle;\n",
       "    }\n",
       "\n",
       "    .dataframe tbody tr th {\n",
       "        vertical-align: top;\n",
       "    }\n",
       "\n",
       "    .dataframe thead th {\n",
       "        text-align: right;\n",
       "    }\n",
       "</style>\n",
       "<table border=\"1\" class=\"dataframe\">\n",
       "  <thead>\n",
       "    <tr style=\"text-align: right;\">\n",
       "      <th></th>\n",
       "      <th>Trend-following portfolio (YZ estimator + TREND signal)</th>\n",
       "    </tr>\n",
       "  </thead>\n",
       "  <tbody>\n",
       "    <tr>\n",
       "      <th>CAGR</th>\n",
       "      <td>0.139654</td>\n",
       "    </tr>\n",
       "    <tr>\n",
       "      <th>Annualised vol</th>\n",
       "      <td>0.110672</td>\n",
       "    </tr>\n",
       "    <tr>\n",
       "      <th>Sharpe ratio</th>\n",
       "      <td>1.261874</td>\n",
       "    </tr>\n",
       "    <tr>\n",
       "      <th>Max drawdown</th>\n",
       "      <td>0.313945</td>\n",
       "    </tr>\n",
       "    <tr>\n",
       "      <th>Calmar ratio</th>\n",
       "      <td>0.444835</td>\n",
       "    </tr>\n",
       "    <tr>\n",
       "      <th>Skewness</th>\n",
       "      <td>0.292953</td>\n",
       "    </tr>\n",
       "    <tr>\n",
       "      <th>Kurtosis</th>\n",
       "      <td>32.537098</td>\n",
       "    </tr>\n",
       "    <tr>\n",
       "      <th>Worst return</th>\n",
       "      <td>-0.130152</td>\n",
       "    </tr>\n",
       "    <tr>\n",
       "      <th>Worst 1d return</th>\n",
       "      <td>-0.130152</td>\n",
       "    </tr>\n",
       "    <tr>\n",
       "      <th>Worst 1w return</th>\n",
       "      <td>-0.112097</td>\n",
       "    </tr>\n",
       "    <tr>\n",
       "      <th>Worst 1m return</th>\n",
       "      <td>-0.186272</td>\n",
       "    </tr>\n",
       "  </tbody>\n",
       "</table>\n",
       "</div>"
      ],
      "text/plain": [
       "                 Trend-following portfolio (YZ estimator + TREND signal)\n",
       "CAGR                                                      0.139654      \n",
       "Annualised vol                                            0.110672      \n",
       "Sharpe ratio                                              1.261874      \n",
       "Max drawdown                                              0.313945      \n",
       "Calmar ratio                                              0.444835      \n",
       "Skewness                                                  0.292953      \n",
       "Kurtosis                                                 32.537098      \n",
       "Worst return                                             -0.130152      \n",
       "Worst 1d return                                          -0.130152      \n",
       "Worst 1w return                                          -0.112097      \n",
       "Worst 1m return                                          -0.186272      "
      ]
     },
     "execution_count": 19,
     "metadata": {},
     "output_type": "execute_result"
    }
   ],
   "source": [
    "engine_combined_eq.pipe(Performance).summary()"
   ]
  },
  {
   "cell_type": "markdown",
   "id": "237787bc",
   "metadata": {
    "papermill": {
     "duration": 0.01175,
     "end_time": "2022-08-11T07:49:29.273041",
     "exception": false,
     "start_time": "2022-08-11T07:49:29.261291",
     "status": "completed"
    },
    "tags": []
   },
   "source": [
    "# Comparison\n",
    "\n",
    "In this section we compare the above 4 backtests."
   ]
  },
  {
   "cell_type": "markdown",
   "id": "b46b6701",
   "metadata": {
    "papermill": {
     "duration": 0.01187,
     "end_time": "2022-08-11T07:49:29.296617",
     "exception": false,
     "start_time": "2022-08-11T07:49:29.284747",
     "status": "completed"
    },
    "tags": []
   },
   "source": [
    "## Performance\n",
    "\n",
    "As reported in BK2020, using the YZ estimator and TREND signal does not alter the performance characteristics. Rather, the TREND signal somewhat improves the Sharpe ratio. Also the TREND signal lowers the annualised volatility from 12.5% to 10.8% with the close-to-close realised volatility."
   ]
  },
  {
   "cell_type": "code",
   "execution_count": 20,
   "id": "e37de903",
   "metadata": {
    "execution": {
     "iopub.execute_input": "2022-08-11T07:49:29.321407Z",
     "iopub.status.busy": "2022-08-11T07:49:29.321137Z",
     "iopub.status.idle": "2022-08-11T07:49:29.333969Z",
     "shell.execute_reply": "2022-08-11T07:49:29.333236Z"
    },
    "papermill": {
     "duration": 0.027566,
     "end_time": "2022-08-11T07:49:29.335862",
     "exception": false,
     "start_time": "2022-08-11T07:49:29.308296",
     "status": "completed"
    },
    "tags": []
   },
   "outputs": [],
   "source": [
    "performance_comp = pd.concat((engine_original_eq, engine_vol_eq, \n",
    "                              engine_trend_eq, engine_combined_eq), axis=1)"
   ]
  },
  {
   "cell_type": "code",
   "execution_count": 21,
   "id": "f9fe3390",
   "metadata": {
    "execution": {
     "iopub.execute_input": "2022-08-11T07:49:29.361170Z",
     "iopub.status.busy": "2022-08-11T07:49:29.360614Z",
     "iopub.status.idle": "2022-08-11T07:49:30.113496Z",
     "shell.execute_reply": "2022-08-11T07:49:30.112605Z"
    },
    "papermill": {
     "duration": 0.767394,
     "end_time": "2022-08-11T07:49:30.115179",
     "exception": false,
     "start_time": "2022-08-11T07:49:29.347785",
     "status": "completed"
    },
    "tags": []
   },
   "outputs": [
    {
     "data": {
      "image/png": "[encoded data removed]",
      "text/plain": [
       "<Figure size 576x324 with 1 Axes>"
      ]
     },
     "metadata": {
      "needs_background": "light"
     },
     "output_type": "display_data"
    }
   ],
   "source": [
    "fig, ax = plt.subplots(figsize=(8, 4.5))\n",
    "performance_comp.plot(ax=ax, logy=True);\n",
    "ax.set_title('Trend-following portfolio')\n",
    "ax.set_ylabel('Cumulative returns');"
   ]
  },
  {
   "cell_type": "code",
   "execution_count": 22,
   "id": "ac210497",
   "metadata": {
    "execution": {
     "iopub.execute_input": "2022-08-11T07:49:30.141760Z",
     "iopub.status.busy": "2022-08-11T07:49:30.141495Z",
     "iopub.status.idle": "2022-08-11T07:49:30.243874Z",
     "shell.execute_reply": "2022-08-11T07:49:30.243095Z"
    },
    "papermill": {
     "duration": 0.117629,
     "end_time": "2022-08-11T07:49:30.245564",
     "exception": false,
     "start_time": "2022-08-11T07:49:30.127935",
     "status": "completed"
    },
    "tags": []
   },
   "outputs": [
    {
     "data": {
      "text/html": [
       "<div>\n",
       "<style scoped>\n",
       "    .dataframe tbody tr th:only-of-type {\n",
       "        vertical-align: middle;\n",
       "    }\n",
       "\n",
       "    .dataframe tbody tr th {\n",
       "        vertical-align: top;\n",
       "    }\n",
       "\n",
       "    .dataframe thead th {\n",
       "        text-align: right;\n",
       "    }\n",
       "</style>\n",
       "<table border=\"1\" class=\"dataframe\">\n",
       "  <thead>\n",
       "    <tr style=\"text-align: right;\">\n",
       "      <th></th>\n",
       "      <th>Trend-following portfolio (Moskowitz 2012)</th>\n",
       "      <th>Trend-following portfolio (YZ estimator)</th>\n",
       "      <th>Trend-following portfolio (TREND signal)</th>\n",
       "      <th>Trend-following portfolio (YZ estimator + TREND signal)</th>\n",
       "    </tr>\n",
       "  </thead>\n",
       "  <tbody>\n",
       "    <tr>\n",
       "      <th>CAGR</th>\n",
       "      <td>0.147088</td>\n",
       "      <td>0.148372</td>\n",
       "      <td>0.139205</td>\n",
       "      <td>0.139311</td>\n",
       "    </tr>\n",
       "    <tr>\n",
       "      <th>Annualised vol</th>\n",
       "      <td>0.124974</td>\n",
       "      <td>0.127108</td>\n",
       "      <td>0.107937</td>\n",
       "      <td>0.110537</td>\n",
       "    </tr>\n",
       "    <tr>\n",
       "      <th>Sharpe ratio</th>\n",
       "      <td>1.176946</td>\n",
       "      <td>1.167296</td>\n",
       "      <td>1.289690</td>\n",
       "      <td>1.260311</td>\n",
       "    </tr>\n",
       "    <tr>\n",
       "      <th>Max drawdown</th>\n",
       "      <td>0.259239</td>\n",
       "      <td>0.305877</td>\n",
       "      <td>0.294584</td>\n",
       "      <td>0.313945</td>\n",
       "    </tr>\n",
       "    <tr>\n",
       "      <th>Calmar ratio</th>\n",
       "      <td>0.567382</td>\n",
       "      <td>0.485072</td>\n",
       "      <td>0.472549</td>\n",
       "      <td>0.443742</td>\n",
       "    </tr>\n",
       "    <tr>\n",
       "      <th>Skewness</th>\n",
       "      <td>0.073398</td>\n",
       "      <td>0.281562</td>\n",
       "      <td>0.159393</td>\n",
       "      <td>0.293918</td>\n",
       "    </tr>\n",
       "    <tr>\n",
       "      <th>Kurtosis</th>\n",
       "      <td>19.349829</td>\n",
       "      <td>22.194279</td>\n",
       "      <td>28.014896</td>\n",
       "      <td>32.623675</td>\n",
       "    </tr>\n",
       "    <tr>\n",
       "      <th>Worst return</th>\n",
       "      <td>-0.126276</td>\n",
       "      <td>-0.137043</td>\n",
       "      <td>-0.121269</td>\n",
       "      <td>-0.130152</td>\n",
       "    </tr>\n",
       "    <tr>\n",
       "      <th>Worst 1d return</th>\n",
       "      <td>-0.126276</td>\n",
       "      <td>-0.137043</td>\n",
       "      <td>-0.121269</td>\n",
       "      <td>-0.130152</td>\n",
       "    </tr>\n",
       "    <tr>\n",
       "      <th>Worst 1w return</th>\n",
       "      <td>-0.107725</td>\n",
       "      <td>-0.098542</td>\n",
       "      <td>-0.110077</td>\n",
       "      <td>-0.112097</td>\n",
       "    </tr>\n",
       "    <tr>\n",
       "      <th>Worst 1m return</th>\n",
       "      <td>-0.152667</td>\n",
       "      <td>-0.169177</td>\n",
       "      <td>-0.171789</td>\n",
       "      <td>-0.186272</td>\n",
       "    </tr>\n",
       "  </tbody>\n",
       "</table>\n",
       "</div>"
      ],
      "text/plain": [
       "                 Trend-following portfolio (Moskowitz 2012)  \\\n",
       "CAGR                                               0.147088   \n",
       "Annualised vol                                     0.124974   \n",
       "Sharpe ratio                                       1.176946   \n",
       "Max drawdown                                       0.259239   \n",
       "Calmar ratio                                       0.567382   \n",
       "Skewness                                           0.073398   \n",
       "Kurtosis                                          19.349829   \n",
       "Worst return                                      -0.126276   \n",
       "Worst 1d return                                   -0.126276   \n",
       "Worst 1w return                                   -0.107725   \n",
       "Worst 1m return                                   -0.152667   \n",
       "\n",
       "                 Trend-following portfolio (YZ estimator)  \\\n",
       "CAGR                                             0.148372   \n",
       "Annualised vol                                   0.127108   \n",
       "Sharpe ratio                                     1.167296   \n",
       "Max drawdown                                     0.305877   \n",
       "Calmar ratio                                     0.485072   \n",
       "Skewness                                         0.281562   \n",
       "Kurtosis                                        22.194279   \n",
       "Worst return                                    -0.137043   \n",
       "Worst 1d return                                 -0.137043   \n",
       "Worst 1w return                                 -0.098542   \n",
       "Worst 1m return                                 -0.169177   \n",
       "\n",
       "                 Trend-following portfolio (TREND signal)  \\\n",
       "CAGR                                             0.139205   \n",
       "Annualised vol                                   0.107937   \n",
       "Sharpe ratio                                     1.289690   \n",
       "Max drawdown                                     0.294584   \n",
       "Calmar ratio                                     0.472549   \n",
       "Skewness                                         0.159393   \n",
       "Kurtosis                                        28.014896   \n",
       "Worst return                                    -0.121269   \n",
       "Worst 1d return                                 -0.121269   \n",
       "Worst 1w return                                 -0.110077   \n",
       "Worst 1m return                                 -0.171789   \n",
       "\n",
       "                 Trend-following portfolio (YZ estimator + TREND signal)  \n",
       "CAGR                                                      0.139311        \n",
       "Annualised vol                                            0.110537        \n",
       "Sharpe ratio                                              1.260311        \n",
       "Max drawdown                                              0.313945        \n",
       "Calmar ratio                                              0.443742        \n",
       "Skewness                                                  0.293918        \n",
       "Kurtosis                                                 32.623675        \n",
       "Worst return                                             -0.130152        \n",
       "Worst 1d return                                          -0.130152        \n",
       "Worst 1w return                                          -0.112097        \n",
       "Worst 1m return                                          -0.186272        "
      ]
     },
     "execution_count": 22,
     "metadata": {},
     "output_type": "execute_result"
    }
   ],
   "source": [
    "performance_comp.pipe(Performance).summary()"
   ]
  },
  {
   "cell_type": "markdown",
   "id": "21807ba1",
   "metadata": {
    "papermill": {
     "duration": 0.01262,
     "end_time": "2022-08-11T07:49:30.271020",
     "exception": false,
     "start_time": "2022-08-11T07:49:30.258400",
     "status": "completed"
    },
    "tags": []
   },
   "source": [
    "## Turnover reduction\n",
    "\n",
    "Again, as reported in BK2020, both enhancements reduce the turnover significantly while not affecting the performance. The chart below shows the reduction in turnover for each futures contract. By utilising the YZ realised volatility and the TREND signal, overall the turnover is reduced by more than 30%."
   ]
  },
  {
   "cell_type": "code",
   "execution_count": 23,
   "id": "df7ebddb",
   "metadata": {
    "execution": {
     "iopub.execute_input": "2022-08-11T07:49:30.297576Z",
     "iopub.status.busy": "2022-08-11T07:49:30.297309Z",
     "iopub.status.idle": "2022-08-11T07:54:30.531315Z",
     "shell.execute_reply": "2022-08-11T07:54:30.530595Z"
    },
    "papermill": {
     "duration": 300.249557,
     "end_time": "2022-08-11T07:54:30.533185",
     "exception": false,
     "start_time": "2022-08-11T07:49:30.283628",
     "status": "completed"
    },
    "tags": []
   },
   "outputs": [],
   "source": [
    "engine_original_pos = engine_original.get_position_by_instrument()\n",
    "engine_vol_pos = engine_vol.get_position_by_instrument()\n",
    "engine_trend_pos = engine_trend.get_position_by_instrument()\n",
    "engine_combined_pos = engine_combined.get_position_by_instrument()"
   ]
  },
  {
   "cell_type": "code",
   "execution_count": 24,
   "id": "bf8aef7d",
   "metadata": {
    "execution": {
     "iopub.execute_input": "2022-08-11T07:54:30.560202Z",
     "iopub.status.busy": "2022-08-11T07:54:30.559914Z",
     "iopub.status.idle": "2022-08-11T07:54:30.593716Z",
     "shell.execute_reply": "2022-08-11T07:54:30.592999Z"
    },
    "papermill": {
     "duration": 0.049342,
     "end_time": "2022-08-11T07:54:30.595601",
     "exception": false,
     "start_time": "2022-08-11T07:54:30.546259",
     "status": "completed"
    },
    "tags": []
   },
   "outputs": [],
   "source": [
    "engine_original_turnover = (engine_original_pos.diff().abs().mean().mul(261)\n",
    "                            .rename('Trend-following portfolio (Moskowitz 2012)'))\n",
    "engine_vol_turnover = (engine_vol_pos.diff().abs().mean().mul(261)\n",
    "                       .rename('Trend-following portfolio (YZ estimator)'))\n",
    "engine_trend_turnover = (engine_trend_pos.diff().abs().mean().mul(261)\n",
    "                         .rename('Trend-following portfolio (TREND signal)'))\n",
    "engine_combined_turnover = (engine_combined_pos.diff().abs().mean().mul(261)\n",
    "                            .rename('Trend-following portfolio (YZ estimator + TREND signal)'))"
   ]
  },
  {
   "cell_type": "code",
   "execution_count": 25,
   "id": "0a1ef727",
   "metadata": {
    "execution": {
     "iopub.execute_input": "2022-08-11T07:54:30.622853Z",
     "iopub.status.busy": "2022-08-11T07:54:30.622581Z",
     "iopub.status.idle": "2022-08-11T07:54:30.629467Z",
     "shell.execute_reply": "2022-08-11T07:54:30.628881Z"
    },
    "papermill": {
     "duration": 0.022235,
     "end_time": "2022-08-11T07:54:30.631044",
     "exception": false,
     "start_time": "2022-08-11T07:54:30.608809",
     "status": "completed"
    },
    "tags": []
   },
   "outputs": [],
   "source": [
    "turnover_reduction = (\n",
    "    pd.concat((engine_vol_turnover, engine_trend_turnover, engine_combined_turnover), axis=1)\n",
    "    .div(engine_original_turnover, axis=0)\n",
    "    .sub(1)\n",
    "    .reindex(index=all_futures_baltas2020.index)\n",
    "    .rename(index=all_futures_baltas2020['name'])\n",
    ")"
   ]
  },
  {
   "cell_type": "code",
   "execution_count": 26,
   "id": "50a996c4",
   "metadata": {
    "execution": {
     "iopub.execute_input": "2022-08-11T07:54:30.657890Z",
     "iopub.status.busy": "2022-08-11T07:54:30.657619Z",
     "iopub.status.idle": "2022-08-11T07:54:30.663500Z",
     "shell.execute_reply": "2022-08-11T07:54:30.662932Z"
    },
    "papermill": {
     "duration": 0.021395,
     "end_time": "2022-08-11T07:54:30.665084",
     "exception": false,
     "start_time": "2022-08-11T07:54:30.643689",
     "status": "completed"
    },
    "tags": []
   },
   "outputs": [
    {
     "data": {
      "text/plain": [
       "Trend-following portfolio (YZ estimator)                  -0.181251\n",
       "Trend-following portfolio (TREND signal)                  -0.207239\n",
       "Trend-following portfolio (YZ estimator + TREND signal)   -0.330671\n",
       "dtype: float64"
      ]
     },
     "execution_count": 26,
     "metadata": {},
     "output_type": "execute_result"
    }
   ],
   "source": [
    "turnover_reduction.mean()"
   ]
  },
  {
   "cell_type": "code",
   "execution_count": 27,
   "id": "4c184863",
   "metadata": {
    "execution": {
     "iopub.execute_input": "2022-08-11T07:54:30.692332Z",
     "iopub.status.busy": "2022-08-11T07:54:30.692040Z",
     "iopub.status.idle": "2022-08-11T07:54:32.302102Z",
     "shell.execute_reply": "2022-08-11T07:54:32.301398Z"
    },
    "papermill": {
     "duration": 1.625774,
     "end_time": "2022-08-11T07:54:32.303767",
     "exception": false,
     "start_time": "2022-08-11T07:54:30.677993",
     "status": "completed"
    },
    "tags": []
   },
   "outputs": [
    {
     "data": {
      "image/png": "[encoded data removed]",
      "text/plain": [
       "<Figure size 1008x288 with 1 Axes>"
      ]
     },
     "metadata": {
      "needs_background": "light"
     },
     "output_type": "display_data"
    }
   ],
   "source": [
    "ax = turnover_reduction.plot(kind='bar', figsize=(14, 4))\n",
    "ax.yaxis.set_major_formatter(mticker.PercentFormatter(1))\n",
    "ax.axhline(0, color='black', lw=1)\n",
    "ax.axvline(24.5, color='black', lw=1)\n",
    "ax.axvline(30.5, color='black', lw=1)\n",
    "ax.axvline(42.5, color='black', lw=1)\n",
    "ax.set_xlabel('Contract')\n",
    "ax.set_ylabel('Turnover reduction');"
   ]
  },
  {
   "cell_type": "markdown",
   "id": "7484a2a6",
   "metadata": {
    "papermill": {
     "duration": 0.014416,
     "end_time": "2022-08-11T07:54:32.331803",
     "exception": false,
     "start_time": "2022-08-11T07:54:32.317387",
     "status": "completed"
    },
    "tags": []
   },
   "source": [
    "# Recent performance"
   ]
  },
  {
   "cell_type": "code",
   "execution_count": 28,
   "id": "5d88294f",
   "metadata": {
    "execution": {
     "iopub.execute_input": "2022-08-11T07:54:32.359873Z",
     "iopub.status.busy": "2022-08-11T07:54:32.359592Z",
     "iopub.status.idle": "2022-08-11T07:54:32.798833Z",
     "shell.execute_reply": "2022-08-11T07:54:32.798152Z"
    },
    "papermill": {
     "duration": 0.455299,
     "end_time": "2022-08-11T07:54:32.800478",
     "exception": false,
     "start_time": "2022-08-11T07:54:32.345179",
     "status": "completed"
    },
    "tags": []
   },
   "outputs": [
    {
     "data": {
      "image/png": "[encoded data removed]",
      "text/plain": [
       "<Figure size 576x324 with 1 Axes>"
      ]
     },
     "metadata": {
      "needs_background": "light"
     },
     "output_type": "display_data"
    }
   ],
   "source": [
    "fig, ax = plt.subplots(figsize=(8, 4.5))\n",
    "performance_comp.tail(252 * 2).pct_change().fillna(0).add(1).cumprod().plot(ax=ax, logy=True);\n",
    "ax.set_title('Trend-following portfolio')\n",
    "ax.set_ylabel('Cumulative returns');"
   ]
  },
  {
   "cell_type": "markdown",
   "id": "d446faab",
   "metadata": {
    "papermill": {
     "duration": 0.014147,
     "end_time": "2022-08-11T07:54:32.828742",
     "exception": false,
     "start_time": "2022-08-11T07:54:32.814595",
     "status": "completed"
    },
    "tags": []
   },
   "source": [
    "# Reference\n",
    "\n",
    "- Baltas, N. and Kosowski, R., 2020. Demystifying time-series momentum strategies: Volatility estimators, trading rules and pairwise correlations. Market Momentum: Theory and Practice\", Wiley.\n",
    "- Moskowitz, T.J., Ooi, Y.H. and Pedersen, L.H., 2012. Time series momentum. Journal of financial economics, 104(2), pp.228-250."
   ]
  },
  {
   "cell_type": "code",
   "execution_count": 29,
   "id": "742b50e7",
   "metadata": {
    "ExecuteTime": {
     "end_time": "2020-08-30T21:20:32.431574Z",
     "start_time": "2020-08-30T21:20:32.429370Z"
    },
    "execution": {
     "iopub.execute_input": "2022-08-11T07:54:32.858215Z",
     "iopub.status.busy": "2022-08-11T07:54:32.857935Z",
     "iopub.status.idle": "2022-08-11T07:54:32.861932Z",
     "shell.execute_reply": "2022-08-11T07:54:32.861288Z"
    },
    "papermill": {
     "duration": 0.020775,
     "end_time": "2022-08-11T07:54:32.863551",
     "exception": false,
     "start_time": "2022-08-11T07:54:32.842776",
     "status": "completed"
    },
    "tags": []
   },
   "outputs": [
    {
     "name": "stdout",
     "output_type": "stream",
     "text": [
      "Updated: 11-Aug-2022 07:54\n"
     ]
    }
   ],
   "source": [
    "print(f'Updated: {datetime.utcnow():%d-%b-%Y %H:%M}')"
   ]
  }
 ],
 "metadata": {
  "hide_input": false,
  "kernelspec": {
   "display_name": "Python 3",
   "language": "python",
   "name": "python3"
  },
  "language_info": {
   "codemirror_mode": {
    "name": "ipython",
    "version": 3
   },
   "file_extension": ".py",
   "mimetype": "text/x-python",
   "name": "python",
   "nbconvert_exporter": "python",
   "pygments_lexer": "ipython3",
   "version": "3.9.6"
  },
  "nav_menu": {},
  "papermill": {
   "duration": 5256.994457,
   "end_time": "2022-08-11T07:54:35.907303",
   "environment_variables": {},
   "exception": null,
   "input_path": "notebooks/papermill/trend_following_baltas2020.ipynb",
   "output_path": "notebooks/trend_following_baltas2020.ipynb",
   "parameters": {},
   "start_time": "2022-08-11T06:26:58.912846",
   "version": "2.1.3"
  },
  "toc": {
   "base_numbering": 1,
   "nav_menu": {},
   "number_sections": true,
   "sideBar": true,
   "skip_h1_title": false,
   "title_cell": "Table of Contents",
   "title_sidebar": "Contents",
   "toc_cell": true,
   "toc_position": {
    "height": "calc(100% - 180px)",
    "left": "10px",
    "top": "150px",
    "width": "165px"
   },
   "toc_section_display": "block",
   "toc_window_display": true
  }
 },
 "nbformat": 4,
 "nbformat_minor": 5
}