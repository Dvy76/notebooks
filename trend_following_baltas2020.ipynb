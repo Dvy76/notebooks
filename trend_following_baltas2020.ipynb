{
 "cells": [
  {
   "cell_type": "markdown",
   "id": "e2149925",
   "metadata": {
    "papermill": {
     "duration": 0.017796,
     "end_time": "2022-09-07T06:27:06.612171",
     "exception": false,
     "start_time": "2022-09-07T06:27:06.594375",
     "status": "completed"
    },
    "tags": []
   },
   "source": [
    "# Trend-following\n",
    "\n",
    "This notebook implements a few improvements that Baltas and Kosowski (2020) (BK2020, hereafter) propose to the time-series momentum strategy which originally appeared in Moskowitz et al (2012).\n",
    "\n",
    "Note that like other notebooks, all backtests are performed by using a private library called `vivace`."
   ]
  },
  {
   "cell_type": "code",
   "execution_count": 1,
   "id": "17445d3d",
   "metadata": {
    "ExecuteTime": {
     "end_time": "2020-08-30T21:08:49.524262Z",
     "start_time": "2020-08-30T21:08:48.720115Z"
    },
    "execution": {
     "iopub.execute_input": "2022-09-07T06:27:06.645717Z",
     "iopub.status.busy": "2022-09-07T06:27:06.645296Z",
     "iopub.status.idle": "2022-09-07T06:27:10.469181Z",
     "shell.execute_reply": "2022-09-07T06:27:10.468137Z"
    },
    "papermill": {
     "duration": 3.843527,
     "end_time": "2022-09-07T06:27:10.471545",
     "exception": false,
     "start_time": "2022-09-07T06:27:06.628018",
     "status": "completed"
    },
    "tags": []
   },
   "outputs": [],
   "source": [
    "%matplotlib inline\n",
    "from datetime import datetime\n",
    "import logging\n",
    "import warnings\n",
    "warnings.simplefilter(action='ignore', category=FutureWarning)\n",
    "\n",
    "import pandas as pd\n",
    "import matplotlib.pyplot as plt\n",
    "import matplotlib.ticker as mticker\n",
    "plt.style.use('bmh')\n",
    "\n",
    "from vivace.backtest import signal\n",
    "from vivace.backtest import processing\n",
    "from vivace.backtest.contract import all_futures_baltas2020\n",
    "from vivace.backtest.engine import BacktestEngine\n",
    "from vivace.backtest.enums import Strategy, Weighting, RealisedVolatility\n",
    "from vivace.backtest.stats import Performance"
   ]
  },
  {
   "cell_type": "markdown",
   "id": "439eb695",
   "metadata": {
    "papermill": {
     "duration": 0.011219,
     "end_time": "2022-09-07T06:27:10.493758",
     "exception": false,
     "start_time": "2022-09-07T06:27:10.482539",
     "status": "completed"
    },
    "tags": []
   },
   "source": [
    "# Data"
   ]
  },
  {
   "cell_type": "code",
   "execution_count": 2,
   "id": "f866ab97",
   "metadata": {
    "ExecuteTime": {
     "end_time": "2020-08-30T21:08:49.529214Z",
     "start_time": "2020-08-30T21:08:49.525465Z"
    },
    "execution": {
     "iopub.execute_input": "2022-09-07T06:27:10.517650Z",
     "iopub.status.busy": "2022-09-07T06:27:10.517014Z",
     "iopub.status.idle": "2022-09-07T06:27:10.528541Z",
     "shell.execute_reply": "2022-09-07T06:27:10.527590Z"
    },
    "papermill": {
     "duration": 0.026711,
     "end_time": "2022-09-07T06:27:10.530994",
     "exception": false,
     "start_time": "2022-09-07T06:27:10.504283",
     "status": "completed"
    },
    "tags": []
   },
   "outputs": [
    {
     "data": {
      "text/plain": [
       "array(['WTI Crude Oil', 'Brent Crude Oil', 'Heating Oil', 'Natural Gas',\n",
       "       'Gasoline', 'Copper', 'Gold', 'Palladium', 'Platinum', 'Silver',\n",
       "       'Feeder Cattle', 'Live Cattle', 'Lean Hog', 'Corn', 'Oats',\n",
       "       'Soybean Oil', 'Soybean Meal', 'Soybean', 'Wheat', 'Cocoa',\n",
       "       'Coffee', 'Cotton', 'Lumber', 'Orange Juice', 'Sugar',\n",
       "       'Australian Dollar', 'Canadian Dollar', 'Swiss Franc', 'Euro',\n",
       "       'British Pound', 'Japanese Yen', 'E-Mini Nasdaq 100',\n",
       "       'E-mini S&P 500', 'E-mini Russell 2000', 'FTSE 100', 'DAX',\n",
       "       'CAC 40', 'IBEX 35', 'AEX', 'Swiss Market Index', 'SPI 200',\n",
       "       'Topix', 'Hang Seng', 'US 2-year Treasury', 'US 5-year Treasury',\n",
       "       'US 10-year Treasury', 'US treasury Bond', 'Germany Schatz',\n",
       "       'Germany Bobl', 'Germany Bund', 'Germany Buxl', 'Gilt',\n",
       "       'Canada 10-year Treasury', 'JGB'], dtype=object)"
      ]
     },
     "execution_count": 2,
     "metadata": {},
     "output_type": "execute_result"
    }
   ],
   "source": [
    "all_futures_baltas2020['name'].values"
   ]
  },
  {
   "cell_type": "code",
   "execution_count": 3,
   "id": "59250b0c",
   "metadata": {
    "ExecuteTime": {
     "end_time": "2020-08-30T21:08:49.542477Z",
     "start_time": "2020-08-30T21:08:49.530487Z"
    },
    "execution": {
     "iopub.execute_input": "2022-09-07T06:27:10.593661Z",
     "iopub.status.busy": "2022-09-07T06:27:10.593365Z",
     "iopub.status.idle": "2022-09-07T06:27:10.598393Z",
     "shell.execute_reply": "2022-09-07T06:27:10.597384Z"
    },
    "papermill": {
     "duration": 0.054038,
     "end_time": "2022-09-07T06:27:10.600726",
     "exception": false,
     "start_time": "2022-09-07T06:27:10.546688",
     "status": "completed"
    },
    "tags": []
   },
   "outputs": [
    {
     "name": "stdout",
     "output_type": "stream",
     "text": [
      "54\n"
     ]
    }
   ],
   "source": [
    "print(len(all_futures_baltas2020))"
   ]
  },
  {
   "cell_type": "markdown",
   "id": "e21d9650",
   "metadata": {
    "papermill": {
     "duration": 0.016523,
     "end_time": "2022-09-07T06:27:10.630379",
     "exception": false,
     "start_time": "2022-09-07T06:27:10.613856",
     "status": "completed"
    },
    "tags": []
   },
   "source": [
    "We try to use the same contract as the original paper where possible, resulting 54 futures contracts to analyse. The trading universe covers a wide range of asset classes and regions, and is made up of following instruments:\n",
    "- Equity index futures\n",
    "- Government bond futures\n",
    "- FX futures\n",
    "- Commodity futures\n",
    "\n",
    "where the same trend detection method is applied."
   ]
  },
  {
   "cell_type": "markdown",
   "id": "d33e81ce",
   "metadata": {
    "papermill": {
     "duration": 0.013398,
     "end_time": "2022-09-07T06:27:10.657933",
     "exception": false,
     "start_time": "2022-09-07T06:27:10.644535",
     "status": "completed"
    },
    "tags": []
   },
   "source": [
    "# Performance\n"
   ]
  },
  {
   "cell_type": "markdown",
   "id": "3b9494b4",
   "metadata": {
    "papermill": {
     "duration": 0.011175,
     "end_time": "2022-09-07T06:27:10.681242",
     "exception": false,
     "start_time": "2022-09-07T06:27:10.670067",
     "status": "completed"
    },
    "tags": []
   },
   "source": [
    "## Moskowitz et al\n",
    "\n",
    "First we calculate the original trend-following portfolio with a more traditional close-to-close realised volatility estimator. Although Moskowitz et al uses the exponentially weighted standard deviation, BK2020 appears to compare against the rolling standard deviation."
   ]
  },
  {
   "cell_type": "code",
   "execution_count": 4,
   "id": "c135eabe",
   "metadata": {
    "execution": {
     "iopub.execute_input": "2022-09-07T06:27:10.713851Z",
     "iopub.status.busy": "2022-09-07T06:27:10.713043Z",
     "iopub.status.idle": "2022-09-07T06:39:05.978769Z",
     "shell.execute_reply": "2022-09-07T06:39:05.977844Z"
    },
    "papermill": {
     "duration": 715.287768,
     "end_time": "2022-09-07T06:39:05.980917",
     "exception": false,
     "start_time": "2022-09-07T06:27:10.693149",
     "status": "completed"
    },
    "tags": []
   },
   "outputs": [],
   "source": [
    "engine_original = BacktestEngine(\n",
    "    strategy=Strategy.DELTA_ONE.value,\n",
    "    instrument=all_futures_baltas2020.index,\n",
    "    signal=signal.ParallelSignal([\n",
    "        signal.VolatilityScale(agg_method='rolling', window=21, ann_factor=261, \n",
    "                               target_volatility=0.4, signal_cap=0.95),\n",
    "        signal.TSMOMMoskowitz2012(post_process=processing.AsFreq(freq='m', method='pad'))\n",
    "    ], weighting='product'),\n",
    "    weighting=Weighting.EQUAL_WEIGHT.value,\n",
    "    log_level=logging.WARN,\n",
    ")\n",
    "engine_original.run()"
   ]
  },
  {
   "cell_type": "code",
   "execution_count": 5,
   "id": "c31bfeab",
   "metadata": {
    "execution": {
     "iopub.execute_input": "2022-09-07T06:39:06.005338Z",
     "iopub.status.busy": "2022-09-07T06:39:06.004729Z",
     "iopub.status.idle": "2022-09-07T06:40:41.039950Z",
     "shell.execute_reply": "2022-09-07T06:40:41.038859Z"
    },
    "papermill": {
     "duration": 95.050443,
     "end_time": "2022-09-07T06:40:41.042910",
     "exception": false,
     "start_time": "2022-09-07T06:39:05.992467",
     "status": "completed"
    },
    "tags": []
   },
   "outputs": [],
   "source": [
    "engine_original_eq = (engine_original.calculate_equity_curve(calculate_net=False, rebalance_freq='m')\n",
    "                      .rename('Trend-following portfolio (Moskowitz 2012)'))"
   ]
  },
  {
   "cell_type": "code",
   "execution_count": 6,
   "id": "995053ea",
   "metadata": {
    "execution": {
     "iopub.execute_input": "2022-09-07T06:40:41.075555Z",
     "iopub.status.busy": "2022-09-07T06:40:41.075060Z",
     "iopub.status.idle": "2022-09-07T06:40:41.985199Z",
     "shell.execute_reply": "2022-09-07T06:40:41.984377Z"
    },
    "papermill": {
     "duration": 0.928761,
     "end_time": "2022-09-07T06:40:41.987662",
     "exception": false,
     "start_time": "2022-09-07T06:40:41.058901",
     "status": "completed"
    },
    "tags": []
   },
   "outputs": [
    {
     "data": {
      "image/png": "[encoded data removed]",
      "text/plain": [
       "<Figure size 576x324 with 1 Axes>"
      ]
     },
     "metadata": {
      "needs_background": "light"
     },
     "output_type": "display_data"
    }
   ],
   "source": [
    "fig, ax = plt.subplots(figsize=(8, 4.5))\n",
    "engine_original_eq.plot(ax=ax, logy=True)\n",
    "ax.set_title('Trend-following portfolio (Moskowitz 2012)')\n",
    "ax.set_ylabel('Cumulative returns');"
   ]
  },
  {
   "cell_type": "code",
   "execution_count": 7,
   "id": "45c072c4",
   "metadata": {
    "execution": {
     "iopub.execute_input": "2022-09-07T06:40:42.022677Z",
     "iopub.status.busy": "2022-09-07T06:40:42.021450Z",
     "iopub.status.idle": "2022-09-07T06:40:42.107265Z",
     "shell.execute_reply": "2022-09-07T06:40:42.106525Z"
    },
    "papermill": {
     "duration": 0.105091,
     "end_time": "2022-09-07T06:40:42.109592",
     "exception": false,
     "start_time": "2022-09-07T06:40:42.004501",
     "status": "completed"
    },
    "tags": []
   },
   "outputs": [
    {
     "data": {
      "text/html": [
       "<div>\n",
       "<style scoped>\n",
       "    .dataframe tbody tr th:only-of-type {\n",
       "        vertical-align: middle;\n",
       "    }\n",
       "\n",
       "    .dataframe tbody tr th {\n",
       "        vertical-align: top;\n",
       "    }\n",
       "\n",
       "    .dataframe thead th {\n",
       "        text-align: right;\n",
       "    }\n",
       "</style>\n",
       "<table border=\"1\" class=\"dataframe\">\n",
       "  <thead>\n",
       "    <tr style=\"text-align: right;\">\n",
       "      <th></th>\n",
       "      <th>Trend-following portfolio (Moskowitz 2012)</th>\n",
       "    </tr>\n",
       "  </thead>\n",
       "  <tbody>\n",
       "    <tr>\n",
       "      <th>CAGR</th>\n",
       "      <td>0.148202</td>\n",
       "    </tr>\n",
       "    <tr>\n",
       "      <th>Annualised vol</th>\n",
       "      <td>0.124994</td>\n",
       "    </tr>\n",
       "    <tr>\n",
       "      <th>Sharpe ratio</th>\n",
       "      <td>1.185675</td>\n",
       "    </tr>\n",
       "    <tr>\n",
       "      <th>Max drawdown</th>\n",
       "      <td>0.259239</td>\n",
       "    </tr>\n",
       "    <tr>\n",
       "      <th>Calmar ratio</th>\n",
       "      <td>0.571680</td>\n",
       "    </tr>\n",
       "    <tr>\n",
       "      <th>Skewness</th>\n",
       "      <td>0.073215</td>\n",
       "    </tr>\n",
       "    <tr>\n",
       "      <th>Kurtosis</th>\n",
       "      <td>19.314154</td>\n",
       "    </tr>\n",
       "    <tr>\n",
       "      <th>Worst return</th>\n",
       "      <td>-0.126276</td>\n",
       "    </tr>\n",
       "    <tr>\n",
       "      <th>Worst 1d return</th>\n",
       "      <td>-0.126276</td>\n",
       "    </tr>\n",
       "    <tr>\n",
       "      <th>Worst 1w return</th>\n",
       "      <td>-0.107725</td>\n",
       "    </tr>\n",
       "    <tr>\n",
       "      <th>Worst 1m return</th>\n",
       "      <td>-0.152667</td>\n",
       "    </tr>\n",
       "  </tbody>\n",
       "</table>\n",
       "</div>"
      ],
      "text/plain": [
       "                 Trend-following portfolio (Moskowitz 2012)\n",
       "CAGR                                               0.148202\n",
       "Annualised vol                                     0.124994\n",
       "Sharpe ratio                                       1.185675\n",
       "Max drawdown                                       0.259239\n",
       "Calmar ratio                                       0.571680\n",
       "Skewness                                           0.073215\n",
       "Kurtosis                                          19.314154\n",
       "Worst return                                      -0.126276\n",
       "Worst 1d return                                   -0.126276\n",
       "Worst 1w return                                   -0.107725\n",
       "Worst 1m return                                   -0.152667"
      ]
     },
     "execution_count": 7,
     "metadata": {},
     "output_type": "execute_result"
    }
   ],
   "source": [
    "engine_original_eq.pipe(Performance).summary()"
   ]
  },
  {
   "cell_type": "markdown",
   "id": "7df3e2fa",
   "metadata": {
    "papermill": {
     "duration": 0.016148,
     "end_time": "2022-09-07T06:40:42.142059",
     "exception": false,
     "start_time": "2022-09-07T06:40:42.125911",
     "status": "completed"
    },
    "tags": []
   },
   "source": [
    "\n",
    "## Volatility estimator\n",
    "BK2020 proposes a few changes in order to enhance the original trend-following strategy Moskowitz et al reported. The first thing is to use a more sophisticated realised volatility estimators for volatility scaling. Moskowitz used the exponentially weighted standard deviation with close-to-close. On the other hand, BK2020 suggests to use Yang-Zhang estimator as it is much more efficient."
   ]
  },
  {
   "cell_type": "code",
   "execution_count": 8,
   "id": "8c9e3931",
   "metadata": {
    "ExecuteTime": {
     "end_time": "2020-08-30T21:18:24.661167Z",
     "start_time": "2020-08-30T21:08:49.544232Z"
    },
    "execution": {
     "iopub.execute_input": "2022-09-07T06:40:42.176131Z",
     "iopub.status.busy": "2022-09-07T06:40:42.175773Z",
     "iopub.status.idle": "2022-09-07T07:03:15.699552Z",
     "shell.execute_reply": "2022-09-07T07:03:15.698448Z"
    },
    "papermill": {
     "duration": 1353.544539,
     "end_time": "2022-09-07T07:03:15.702694",
     "exception": false,
     "start_time": "2022-09-07T06:40:42.158155",
     "status": "completed"
    },
    "tags": []
   },
   "outputs": [],
   "source": [
    "engine_vol = BacktestEngine(\n",
    "    strategy=Strategy.DELTA_ONE.value,\n",
    "    instrument=all_futures_baltas2020.index,\n",
    "    signal=signal.ParallelSignal([\n",
    "        signal.VolatilityScale(volatility_type=RealisedVolatility.YZ.value,\n",
    "                               agg_method='rolling', window=21, min_periods=10,\n",
    "                               target_volatility=0.4, signal_cap=0.95, ann_factor=261),\n",
    "        signal.TSMOMMoskowitz2012(post_process=processing.AsFreq(freq='m', method='pad'))\n",
    "    ], weighting='product'),\n",
    "    weighting=Weighting.EQUAL_WEIGHT.value,\n",
    "    log_level=logging.WARN,\n",
    ")\n",
    "engine_vol.run()"
   ]
  },
  {
   "cell_type": "code",
   "execution_count": 9,
   "id": "47c377ee",
   "metadata": {
    "execution": {
     "iopub.execute_input": "2022-09-07T07:03:15.749169Z",
     "iopub.status.busy": "2022-09-07T07:03:15.748679Z",
     "iopub.status.idle": "2022-09-07T07:04:47.111559Z",
     "shell.execute_reply": "2022-09-07T07:04:47.110715Z"
    },
    "papermill": {
     "duration": 91.387983,
     "end_time": "2022-09-07T07:04:47.113905",
     "exception": false,
     "start_time": "2022-09-07T07:03:15.725922",
     "status": "completed"
    },
    "tags": []
   },
   "outputs": [],
   "source": [
    "engine_vol_eq = (engine_vol.calculate_equity_curve(calculate_net=False, rebalance_freq='m')\n",
    "                 .rename('Trend-following portfolio (YZ estimator)'))"
   ]
  },
  {
   "cell_type": "code",
   "execution_count": 10,
   "id": "68f20025",
   "metadata": {
    "execution": {
     "iopub.execute_input": "2022-09-07T07:04:47.140370Z",
     "iopub.status.busy": "2022-09-07T07:04:47.139970Z",
     "iopub.status.idle": "2022-09-07T07:04:47.868872Z",
     "shell.execute_reply": "2022-09-07T07:04:47.868171Z"
    },
    "papermill": {
     "duration": 0.745101,
     "end_time": "2022-09-07T07:04:47.871195",
     "exception": false,
     "start_time": "2022-09-07T07:04:47.126094",
     "status": "completed"
    },
    "tags": []
   },
   "outputs": [
    {
     "data": {
      "image/png": "[encoded data removed]",
      "text/plain": [
       "<Figure size 576x324 with 1 Axes>"
      ]
     },
     "metadata": {
      "needs_background": "light"
     },
     "output_type": "display_data"
    }
   ],
   "source": [
    "fig, ax = plt.subplots(figsize=(8, 4.5))\n",
    "engine_vol_eq.plot(ax=ax, logy=True);\n",
    "ax.set_title('Trend-following portfolio (YZ estimator)')\n",
    "ax.set_ylabel('Cumulative returns');"
   ]
  },
  {
   "cell_type": "code",
   "execution_count": 11,
   "id": "046e18b6",
   "metadata": {
    "execution": {
     "iopub.execute_input": "2022-09-07T07:04:47.898001Z",
     "iopub.status.busy": "2022-09-07T07:04:47.897290Z",
     "iopub.status.idle": "2022-09-07T07:04:48.004295Z",
     "shell.execute_reply": "2022-09-07T07:04:48.003540Z"
    },
    "papermill": {
     "duration": 0.12238,
     "end_time": "2022-09-07T07:04:48.006186",
     "exception": false,
     "start_time": "2022-09-07T07:04:47.883806",
     "status": "completed"
    },
    "tags": []
   },
   "outputs": [
    {
     "data": {
      "text/html": [
       "<div>\n",
       "<style scoped>\n",
       "    .dataframe tbody tr th:only-of-type {\n",
       "        vertical-align: middle;\n",
       "    }\n",
       "\n",
       "    .dataframe tbody tr th {\n",
       "        vertical-align: top;\n",
       "    }\n",
       "\n",
       "    .dataframe thead th {\n",
       "        text-align: right;\n",
       "    }\n",
       "</style>\n",
       "<table border=\"1\" class=\"dataframe\">\n",
       "  <thead>\n",
       "    <tr style=\"text-align: right;\">\n",
       "      <th></th>\n",
       "      <th>Trend-following portfolio (YZ estimator)</th>\n",
       "    </tr>\n",
       "  </thead>\n",
       "  <tbody>\n",
       "    <tr>\n",
       "      <th>CAGR</th>\n",
       "      <td>0.149886</td>\n",
       "    </tr>\n",
       "    <tr>\n",
       "      <th>Annualised vol</th>\n",
       "      <td>0.127281</td>\n",
       "    </tr>\n",
       "    <tr>\n",
       "      <th>Sharpe ratio</th>\n",
       "      <td>1.177602</td>\n",
       "    </tr>\n",
       "    <tr>\n",
       "      <th>Max drawdown</th>\n",
       "      <td>0.305877</td>\n",
       "    </tr>\n",
       "    <tr>\n",
       "      <th>Calmar ratio</th>\n",
       "      <td>0.490021</td>\n",
       "    </tr>\n",
       "    <tr>\n",
       "      <th>Skewness</th>\n",
       "      <td>0.280026</td>\n",
       "    </tr>\n",
       "    <tr>\n",
       "      <th>Kurtosis</th>\n",
       "      <td>22.093326</td>\n",
       "    </tr>\n",
       "    <tr>\n",
       "      <th>Worst return</th>\n",
       "      <td>-0.137043</td>\n",
       "    </tr>\n",
       "    <tr>\n",
       "      <th>Worst 1d return</th>\n",
       "      <td>-0.137043</td>\n",
       "    </tr>\n",
       "    <tr>\n",
       "      <th>Worst 1w return</th>\n",
       "      <td>-0.098542</td>\n",
       "    </tr>\n",
       "    <tr>\n",
       "      <th>Worst 1m return</th>\n",
       "      <td>-0.169177</td>\n",
       "    </tr>\n",
       "  </tbody>\n",
       "</table>\n",
       "</div>"
      ],
      "text/plain": [
       "                 Trend-following portfolio (YZ estimator)\n",
       "CAGR                                             0.149886\n",
       "Annualised vol                                   0.127281\n",
       "Sharpe ratio                                     1.177602\n",
       "Max drawdown                                     0.305877\n",
       "Calmar ratio                                     0.490021\n",
       "Skewness                                         0.280026\n",
       "Kurtosis                                        22.093326\n",
       "Worst return                                    -0.137043\n",
       "Worst 1d return                                 -0.137043\n",
       "Worst 1w return                                 -0.098542\n",
       "Worst 1m return                                 -0.169177"
      ]
     },
     "execution_count": 11,
     "metadata": {},
     "output_type": "execute_result"
    }
   ],
   "source": [
    "engine_vol_eq.pipe(Performance).summary()"
   ]
  },
  {
   "cell_type": "markdown",
   "id": "4b6a59b4",
   "metadata": {
    "papermill": {
     "duration": 0.011383,
     "end_time": "2022-09-07T07:04:48.032899",
     "exception": false,
     "start_time": "2022-09-07T07:04:48.021516",
     "status": "completed"
    },
    "tags": []
   },
   "source": [
    "## TREND signal\n",
    "\n",
    "Another improvement BK2020 proposes is to use a continuous signal rather than a binary one in order to reduce the turnover when signals are weak. Specifically they used the t-values with the Newey-West standard error as the signal. They further capped and floored the signal between -1 and +1 to avoid extreme positions.\n",
    "\n",
    "`statsmodels`'s `OLS` class provides a method to compute the Newey-West standard error. https://www.statsmodels.org/stable/generated/statsmodels.regression.linear_model.OLS.html"
   ]
  },
  {
   "cell_type": "code",
   "execution_count": 12,
   "id": "81951bb1",
   "metadata": {
    "execution": {
     "iopub.execute_input": "2022-09-07T07:04:48.057281Z",
     "iopub.status.busy": "2022-09-07T07:04:48.056576Z",
     "iopub.status.idle": "2022-09-07T07:26:43.049641Z",
     "shell.execute_reply": "2022-09-07T07:26:43.048850Z"
    },
    "papermill": {
     "duration": 1315.008055,
     "end_time": "2022-09-07T07:26:43.052304",
     "exception": false,
     "start_time": "2022-09-07T07:04:48.044249",
     "status": "completed"
    },
    "tags": []
   },
   "outputs": [],
   "source": [
    "engine_trend = BacktestEngine(\n",
    "    strategy=Strategy.DELTA_ONE.value,\n",
    "    instrument=all_futures_baltas2020.index,\n",
    "    signal=signal.ParallelSignal([\n",
    "        signal.VolatilityScale(agg_method='rolling', window=21, ann_factor=261, \n",
    "                               target_volatility=0.4, signal_cap=0.95),\n",
    "        signal.TSMOMBaltas2020()\n",
    "    ], weighting='product'),\n",
    "    weighting=Weighting.EQUAL_WEIGHT.value,\n",
    "    log_level=logging.WARN,\n",
    ")\n",
    "engine_trend.run()"
   ]
  },
  {
   "cell_type": "code",
   "execution_count": 13,
   "id": "ce48357f",
   "metadata": {
    "execution": {
     "iopub.execute_input": "2022-09-07T07:26:43.430225Z",
     "iopub.status.busy": "2022-09-07T07:26:43.429821Z",
     "iopub.status.idle": "2022-09-07T07:28:20.521629Z",
     "shell.execute_reply": "2022-09-07T07:28:20.520693Z"
    },
    "papermill": {
     "duration": 97.120451,
     "end_time": "2022-09-07T07:28:20.524128",
     "exception": false,
     "start_time": "2022-09-07T07:26:43.403677",
     "status": "completed"
    },
    "tags": []
   },
   "outputs": [],
   "source": [
    "engine_trend_eq = (engine_trend.calculate_equity_curve(calculate_net=False, rebalance_freq='m')\n",
    "                   .rename('Trend-following portfolio (TREND signal)'))"
   ]
  },
  {
   "cell_type": "code",
   "execution_count": 14,
   "id": "db67325a",
   "metadata": {
    "execution": {
     "iopub.execute_input": "2022-09-07T07:28:20.555369Z",
     "iopub.status.busy": "2022-09-07T07:28:20.554902Z",
     "iopub.status.idle": "2022-09-07T07:28:21.233027Z",
     "shell.execute_reply": "2022-09-07T07:28:21.229813Z"
    },
    "papermill": {
     "duration": 0.695555,
     "end_time": "2022-09-07T07:28:21.235777",
     "exception": false,
     "start_time": "2022-09-07T07:28:20.540222",
     "status": "completed"
    },
    "tags": []
   },
   "outputs": [
    {
     "data": {
      "image/png": "[encoded data removed]",
      "text/plain": [
       "<Figure size 576x324 with 1 Axes>"
      ]
     },
     "metadata": {
      "needs_background": "light"
     },
     "output_type": "display_data"
    }
   ],
   "source": [
    "fig, ax = plt.subplots(figsize=(8, 4.5))\n",
    "engine_trend_eq.plot(ax=ax, logy=True);\n",
    "ax.set_title('Trend-following portfolio (TREND signal)')\n",
    "ax.set_ylabel('Cumulative returns');"
   ]
  },
  {
   "cell_type": "code",
   "execution_count": 15,
   "id": "e0b4876b",
   "metadata": {
    "execution": {
     "iopub.execute_input": "2022-09-07T07:28:21.269328Z",
     "iopub.status.busy": "2022-09-07T07:28:21.268934Z",
     "iopub.status.idle": "2022-09-07T07:28:21.361130Z",
     "shell.execute_reply": "2022-09-07T07:28:21.360323Z"
    },
    "papermill": {
     "duration": 0.112369,
     "end_time": "2022-09-07T07:28:21.363001",
     "exception": false,
     "start_time": "2022-09-07T07:28:21.250632",
     "status": "completed"
    },
    "tags": []
   },
   "outputs": [
    {
     "data": {
      "text/html": [
       "<div>\n",
       "<style scoped>\n",
       "    .dataframe tbody tr th:only-of-type {\n",
       "        vertical-align: middle;\n",
       "    }\n",
       "\n",
       "    .dataframe tbody tr th {\n",
       "        vertical-align: top;\n",
       "    }\n",
       "\n",
       "    .dataframe thead th {\n",
       "        text-align: right;\n",
       "    }\n",
       "</style>\n",
       "<table border=\"1\" class=\"dataframe\">\n",
       "  <thead>\n",
       "    <tr style=\"text-align: right;\">\n",
       "      <th></th>\n",
       "      <th>Trend-following portfolio (TREND signal)</th>\n",
       "    </tr>\n",
       "  </thead>\n",
       "  <tbody>\n",
       "    <tr>\n",
       "      <th>CAGR</th>\n",
       "      <td>0.140020</td>\n",
       "    </tr>\n",
       "    <tr>\n",
       "      <th>Annualised vol</th>\n",
       "      <td>0.107931</td>\n",
       "    </tr>\n",
       "    <tr>\n",
       "      <th>Sharpe ratio</th>\n",
       "      <td>1.297314</td>\n",
       "    </tr>\n",
       "    <tr>\n",
       "      <th>Max drawdown</th>\n",
       "      <td>0.294584</td>\n",
       "    </tr>\n",
       "    <tr>\n",
       "      <th>Calmar ratio</th>\n",
       "      <td>0.475315</td>\n",
       "    </tr>\n",
       "    <tr>\n",
       "      <th>Skewness</th>\n",
       "      <td>0.158593</td>\n",
       "    </tr>\n",
       "    <tr>\n",
       "      <th>Kurtosis</th>\n",
       "      <td>27.987449</td>\n",
       "    </tr>\n",
       "    <tr>\n",
       "      <th>Worst return</th>\n",
       "      <td>-0.121269</td>\n",
       "    </tr>\n",
       "    <tr>\n",
       "      <th>Worst 1d return</th>\n",
       "      <td>-0.121269</td>\n",
       "    </tr>\n",
       "    <tr>\n",
       "      <th>Worst 1w return</th>\n",
       "      <td>-0.110077</td>\n",
       "    </tr>\n",
       "    <tr>\n",
       "      <th>Worst 1m return</th>\n",
       "      <td>-0.171789</td>\n",
       "    </tr>\n",
       "  </tbody>\n",
       "</table>\n",
       "</div>"
      ],
      "text/plain": [
       "                 Trend-following portfolio (TREND signal)\n",
       "CAGR                                             0.140020\n",
       "Annualised vol                                   0.107931\n",
       "Sharpe ratio                                     1.297314\n",
       "Max drawdown                                     0.294584\n",
       "Calmar ratio                                     0.475315\n",
       "Skewness                                         0.158593\n",
       "Kurtosis                                        27.987449\n",
       "Worst return                                    -0.121269\n",
       "Worst 1d return                                 -0.121269\n",
       "Worst 1w return                                 -0.110077\n",
       "Worst 1m return                                 -0.171789"
      ]
     },
     "execution_count": 15,
     "metadata": {},
     "output_type": "execute_result"
    }
   ],
   "source": [
    "engine_trend_eq.pipe(Performance).summary()"
   ]
  },
  {
   "cell_type": "markdown",
   "id": "407682e4",
   "metadata": {
    "papermill": {
     "duration": 0.012262,
     "end_time": "2022-09-07T07:28:21.387858",
     "exception": false,
     "start_time": "2022-09-07T07:28:21.375596",
     "status": "completed"
    },
    "tags": []
   },
   "source": [
    "## Combined\n",
    "\n",
    "Finally we run a backtest by using both the Yang-Zhang volatility estimator and the TREND signal."
   ]
  },
  {
   "cell_type": "code",
   "execution_count": 16,
   "id": "dacee378",
   "metadata": {
    "execution": {
     "iopub.execute_input": "2022-09-07T07:28:21.413499Z",
     "iopub.status.busy": "2022-09-07T07:28:21.413212Z",
     "iopub.status.idle": "2022-09-07T07:57:55.935673Z",
     "shell.execute_reply": "2022-09-07T07:57:55.934953Z"
    },
    "papermill": {
     "duration": 1774.537704,
     "end_time": "2022-09-07T07:57:55.937648",
     "exception": false,
     "start_time": "2022-09-07T07:28:21.399944",
     "status": "completed"
    },
    "tags": []
   },
   "outputs": [],
   "source": [
    "engine_combined = BacktestEngine(\n",
    "    strategy=Strategy.DELTA_ONE.value,\n",
    "    instrument=all_futures_baltas2020.index,\n",
    "    signal=signal.ParallelSignal([\n",
    "        signal.VolatilityScale(volatility_type=RealisedVolatility.YZ.value,\n",
    "                               agg_method='rolling', window=21, min_periods=10,\n",
    "                               target_volatility=0.4, signal_cap=0.95, ann_factor=261),\n",
    "        signal.TSMOMBaltas2020()\n",
    "    ], weighting='product'),\n",
    "    weighting=Weighting.EQUAL_WEIGHT.value,\n",
    "    log_level=logging.WARN,\n",
    ")\n",
    "engine_combined.run()"
   ]
  },
  {
   "cell_type": "code",
   "execution_count": 17,
   "id": "e5305349",
   "metadata": {
    "execution": {
     "iopub.execute_input": "2022-09-07T07:57:55.963975Z",
     "iopub.status.busy": "2022-09-07T07:57:55.963604Z",
     "iopub.status.idle": "2022-09-07T07:59:15.412048Z",
     "shell.execute_reply": "2022-09-07T07:59:15.411305Z"
    },
    "papermill": {
     "duration": 79.463597,
     "end_time": "2022-09-07T07:59:15.413843",
     "exception": false,
     "start_time": "2022-09-07T07:57:55.950246",
     "status": "completed"
    },
    "tags": []
   },
   "outputs": [],
   "source": [
    "engine_combined_eq = (engine_combined.calculate_equity_curve(calculate_net=False, rebalance_freq='m')\n",
    "                      .rename('Trend-following portfolio (YZ estimator + TREND signal)'))"
   ]
  },
  {
   "cell_type": "code",
   "execution_count": 18,
   "id": "8f146e94",
   "metadata": {
    "execution": {
     "iopub.execute_input": "2022-09-07T07:59:15.439893Z",
     "iopub.status.busy": "2022-09-07T07:59:15.439197Z",
     "iopub.status.idle": "2022-09-07T07:59:16.081187Z",
     "shell.execute_reply": "2022-09-07T07:59:16.080498Z"
    },
    "papermill": {
     "duration": 0.656935,
     "end_time": "2022-09-07T07:59:16.082855",
     "exception": false,
     "start_time": "2022-09-07T07:59:15.425920",
     "status": "completed"
    },
    "tags": []
   },
   "outputs": [
    {
     "data": {
      "image/png": "[encoded data removed]",
      "text/plain": [
       "<Figure size 576x324 with 1 Axes>"
      ]
     },
     "metadata": {
      "needs_background": "light"
     },
     "output_type": "display_data"
    }
   ],
   "source": [
    "fig, ax = plt.subplots(figsize=(8, 4.5))\n",
    "engine_combined_eq.plot(ax=ax, logy=True)\n",
    "ax.set_title('Trend-following portfolio (YZ estimator + TREND signal)')\n",
    "ax.set_ylabel('Cumulative returns');"
   ]
  },
  {
   "cell_type": "code",
   "execution_count": 19,
   "id": "76d5269e",
   "metadata": {
    "execution": {
     "iopub.execute_input": "2022-09-07T07:59:16.108486Z",
     "iopub.status.busy": "2022-09-07T07:59:16.108213Z",
     "iopub.status.idle": "2022-09-07T07:59:16.194772Z",
     "shell.execute_reply": "2022-09-07T07:59:16.193993Z"
    },
    "papermill": {
     "duration": 0.101417,
     "end_time": "2022-09-07T07:59:16.196609",
     "exception": false,
     "start_time": "2022-09-07T07:59:16.095192",
     "status": "completed"
    },
    "tags": []
   },
   "outputs": [
    {
     "data": {
      "text/html": [
       "<div>\n",
       "<style scoped>\n",
       "    .dataframe tbody tr th:only-of-type {\n",
       "        vertical-align: middle;\n",
       "    }\n",
       "\n",
       "    .dataframe tbody tr th {\n",
       "        vertical-align: top;\n",
       "    }\n",
       "\n",
       "    .dataframe thead th {\n",
       "        text-align: right;\n",
       "    }\n",
       "</style>\n",
       "<table border=\"1\" class=\"dataframe\">\n",
       "  <thead>\n",
       "    <tr style=\"text-align: right;\">\n",
       "      <th></th>\n",
       "      <th>Trend-following portfolio (YZ estimator + TREND signal)</th>\n",
       "    </tr>\n",
       "  </thead>\n",
       "  <tbody>\n",
       "    <tr>\n",
       "      <th>CAGR</th>\n",
       "      <td>0.140517</td>\n",
       "    </tr>\n",
       "    <tr>\n",
       "      <th>Annualised vol</th>\n",
       "      <td>0.110665</td>\n",
       "    </tr>\n",
       "    <tr>\n",
       "      <th>Sharpe ratio</th>\n",
       "      <td>1.269750</td>\n",
       "    </tr>\n",
       "    <tr>\n",
       "      <th>Max drawdown</th>\n",
       "      <td>0.313945</td>\n",
       "    </tr>\n",
       "    <tr>\n",
       "      <th>Calmar ratio</th>\n",
       "      <td>0.447583</td>\n",
       "    </tr>\n",
       "    <tr>\n",
       "      <th>Skewness</th>\n",
       "      <td>0.291956</td>\n",
       "    </tr>\n",
       "    <tr>\n",
       "      <th>Kurtosis</th>\n",
       "      <td>32.505820</td>\n",
       "    </tr>\n",
       "    <tr>\n",
       "      <th>Worst return</th>\n",
       "      <td>-0.130152</td>\n",
       "    </tr>\n",
       "    <tr>\n",
       "      <th>Worst 1d return</th>\n",
       "      <td>-0.130152</td>\n",
       "    </tr>\n",
       "    <tr>\n",
       "      <th>Worst 1w return</th>\n",
       "      <td>-0.112097</td>\n",
       "    </tr>\n",
       "    <tr>\n",
       "      <th>Worst 1m return</th>\n",
       "      <td>-0.186272</td>\n",
       "    </tr>\n",
       "  </tbody>\n",
       "</table>\n",
       "</div>"
      ],
      "text/plain": [
       "                 Trend-following portfolio (YZ estimator + TREND signal)\n",
       "CAGR                                                      0.140517      \n",
       "Annualised vol                                            0.110665      \n",
       "Sharpe ratio                                              1.269750      \n",
       "Max drawdown                                              0.313945      \n",
       "Calmar ratio                                              0.447583      \n",
       "Skewness                                                  0.291956      \n",
       "Kurtosis                                                 32.505820      \n",
       "Worst return                                             -0.130152      \n",
       "Worst 1d return                                          -0.130152      \n",
       "Worst 1w return                                          -0.112097      \n",
       "Worst 1m return                                          -0.186272      "
      ]
     },
     "execution_count": 19,
     "metadata": {},
     "output_type": "execute_result"
    }
   ],
   "source": [
    "engine_combined_eq.pipe(Performance).summary()"
   ]
  },
  {
   "cell_type": "markdown",
   "id": "602d5f74",
   "metadata": {
    "papermill": {
     "duration": 0.012424,
     "end_time": "2022-09-07T07:59:16.221461",
     "exception": false,
     "start_time": "2022-09-07T07:59:16.209037",
     "status": "completed"
    },
    "tags": []
   },
   "source": [
    "# Comparison\n",
    "\n",
    "In this section we compare the above 4 backtests."
   ]
  },
  {
   "cell_type": "markdown",
   "id": "09dc6a78",
   "metadata": {
    "papermill": {
     "duration": 0.04047,
     "end_time": "2022-09-07T07:59:16.274230",
     "exception": false,
     "start_time": "2022-09-07T07:59:16.233760",
     "status": "completed"
    },
    "tags": []
   },
   "source": [
    "## Performance\n",
    "\n",
    "As reported in BK2020, using the YZ estimator and TREND signal does not alter the performance characteristics. Rather, the TREND signal somewhat improves the Sharpe ratio. Also the TREND signal lowers the annualised volatility from 12.5% to 10.8% with the close-to-close realised volatility."
   ]
  },
  {
   "cell_type": "code",
   "execution_count": 20,
   "id": "17ae40f6",
   "metadata": {
    "execution": {
     "iopub.execute_input": "2022-09-07T07:59:16.300146Z",
     "iopub.status.busy": "2022-09-07T07:59:16.299875Z",
     "iopub.status.idle": "2022-09-07T07:59:16.313664Z",
     "shell.execute_reply": "2022-09-07T07:59:16.312871Z"
    },
    "papermill": {
     "duration": 0.028859,
     "end_time": "2022-09-07T07:59:16.315575",
     "exception": false,
     "start_time": "2022-09-07T07:59:16.286716",
     "status": "completed"
    },
    "tags": []
   },
   "outputs": [],
   "source": [
    "performance_comp = pd.concat((engine_original_eq, engine_vol_eq, \n",
    "                              engine_trend_eq, engine_combined_eq), axis=1)"
   ]
  },
  {
   "cell_type": "code",
   "execution_count": 21,
   "id": "9cfc4733",
   "metadata": {
    "execution": {
     "iopub.execute_input": "2022-09-07T07:59:16.345462Z",
     "iopub.status.busy": "2022-09-07T07:59:16.345186Z",
     "iopub.status.idle": "2022-09-07T07:59:17.208483Z",
     "shell.execute_reply": "2022-09-07T07:59:17.207777Z"
    },
    "papermill": {
     "duration": 0.882718,
     "end_time": "2022-09-07T07:59:17.210706",
     "exception": false,
     "start_time": "2022-09-07T07:59:16.327988",
     "status": "completed"
    },
    "tags": []
   },
   "outputs": [
    {
     "data": {
      "image/png": "[encoded data removed]",
      "text/plain": [
       "<Figure size 576x324 with 1 Axes>"
      ]
     },
     "metadata": {
      "needs_background": "light"
     },
     "output_type": "display_data"
    }
   ],
   "source": [
    "fig, ax = plt.subplots(figsize=(8, 4.5))\n",
    "performance_comp.plot(ax=ax, logy=True);\n",
    "ax.set_title('Trend-following portfolio')\n",
    "ax.set_ylabel('Cumulative returns');"
   ]
  },
  {
   "cell_type": "code",
   "execution_count": 22,
   "id": "8da4fc3f",
   "metadata": {
    "execution": {
     "iopub.execute_input": "2022-09-07T07:59:17.239405Z",
     "iopub.status.busy": "2022-09-07T07:59:17.238708Z",
     "iopub.status.idle": "2022-09-07T07:59:17.348336Z",
     "shell.execute_reply": "2022-09-07T07:59:17.347628Z"
    },
    "papermill": {
     "duration": 0.125894,
     "end_time": "2022-09-07T07:59:17.350077",
     "exception": false,
     "start_time": "2022-09-07T07:59:17.224183",
     "status": "completed"
    },
    "tags": []
   },
   "outputs": [
    {
     "data": {
      "text/html": [
       "<div>\n",
       "<style scoped>\n",
       "    .dataframe tbody tr th:only-of-type {\n",
       "        vertical-align: middle;\n",
       "    }\n",
       "\n",
       "    .dataframe tbody tr th {\n",
       "        vertical-align: top;\n",
       "    }\n",
       "\n",
       "    .dataframe thead th {\n",
       "        text-align: right;\n",
       "    }\n",
       "</style>\n",
       "<table border=\"1\" class=\"dataframe\">\n",
       "  <thead>\n",
       "    <tr style=\"text-align: right;\">\n",
       "      <th></th>\n",
       "      <th>Trend-following portfolio (Moskowitz 2012)</th>\n",
       "      <th>Trend-following portfolio (YZ estimator)</th>\n",
       "      <th>Trend-following portfolio (TREND signal)</th>\n",
       "      <th>Trend-following portfolio (YZ estimator + TREND signal)</th>\n",
       "    </tr>\n",
       "  </thead>\n",
       "  <tbody>\n",
       "    <tr>\n",
       "      <th>CAGR</th>\n",
       "      <td>0.148202</td>\n",
       "      <td>0.149518</td>\n",
       "      <td>0.140020</td>\n",
       "      <td>0.140172</td>\n",
       "    </tr>\n",
       "    <tr>\n",
       "      <th>Annualised vol</th>\n",
       "      <td>0.124994</td>\n",
       "      <td>0.127125</td>\n",
       "      <td>0.107931</td>\n",
       "      <td>0.110530</td>\n",
       "    </tr>\n",
       "    <tr>\n",
       "      <th>Sharpe ratio</th>\n",
       "      <td>1.185675</td>\n",
       "      <td>1.176146</td>\n",
       "      <td>1.297314</td>\n",
       "      <td>1.268178</td>\n",
       "    </tr>\n",
       "    <tr>\n",
       "      <th>Max drawdown</th>\n",
       "      <td>0.259239</td>\n",
       "      <td>0.305877</td>\n",
       "      <td>0.294584</td>\n",
       "      <td>0.313945</td>\n",
       "    </tr>\n",
       "    <tr>\n",
       "      <th>Calmar ratio</th>\n",
       "      <td>0.571680</td>\n",
       "      <td>0.488818</td>\n",
       "      <td>0.475315</td>\n",
       "      <td>0.446484</td>\n",
       "    </tr>\n",
       "    <tr>\n",
       "      <th>Skewness</th>\n",
       "      <td>0.073215</td>\n",
       "      <td>0.280940</td>\n",
       "      <td>0.158593</td>\n",
       "      <td>0.292921</td>\n",
       "    </tr>\n",
       "    <tr>\n",
       "      <th>Kurtosis</th>\n",
       "      <td>19.314154</td>\n",
       "      <td>22.154531</td>\n",
       "      <td>27.987449</td>\n",
       "      <td>32.592207</td>\n",
       "    </tr>\n",
       "    <tr>\n",
       "      <th>Worst return</th>\n",
       "      <td>-0.126276</td>\n",
       "      <td>-0.137043</td>\n",
       "      <td>-0.121269</td>\n",
       "      <td>-0.130152</td>\n",
       "    </tr>\n",
       "    <tr>\n",
       "      <th>Worst 1d return</th>\n",
       "      <td>-0.126276</td>\n",
       "      <td>-0.137043</td>\n",
       "      <td>-0.121269</td>\n",
       "      <td>-0.130152</td>\n",
       "    </tr>\n",
       "    <tr>\n",
       "      <th>Worst 1w return</th>\n",
       "      <td>-0.107725</td>\n",
       "      <td>-0.098542</td>\n",
       "      <td>-0.110077</td>\n",
       "      <td>-0.112097</td>\n",
       "    </tr>\n",
       "    <tr>\n",
       "      <th>Worst 1m return</th>\n",
       "      <td>-0.152667</td>\n",
       "      <td>-0.169177</td>\n",
       "      <td>-0.171789</td>\n",
       "      <td>-0.186272</td>\n",
       "    </tr>\n",
       "  </tbody>\n",
       "</table>\n",
       "</div>"
      ],
      "text/plain": [
       "                 Trend-following portfolio (Moskowitz 2012)  \\\n",
       "CAGR                                               0.148202   \n",
       "Annualised vol                                     0.124994   \n",
       "Sharpe ratio                                       1.185675   \n",
       "Max drawdown                                       0.259239   \n",
       "Calmar ratio                                       0.571680   \n",
       "Skewness                                           0.073215   \n",
       "Kurtosis                                          19.314154   \n",
       "Worst return                                      -0.126276   \n",
       "Worst 1d return                                   -0.126276   \n",
       "Worst 1w return                                   -0.107725   \n",
       "Worst 1m return                                   -0.152667   \n",
       "\n",
       "                 Trend-following portfolio (YZ estimator)  \\\n",
       "CAGR                                             0.149518   \n",
       "Annualised vol                                   0.127125   \n",
       "Sharpe ratio                                     1.176146   \n",
       "Max drawdown                                     0.305877   \n",
       "Calmar ratio                                     0.488818   \n",
       "Skewness                                         0.280940   \n",
       "Kurtosis                                        22.154531   \n",
       "Worst return                                    -0.137043   \n",
       "Worst 1d return                                 -0.137043   \n",
       "Worst 1w return                                 -0.098542   \n",
       "Worst 1m return                                 -0.169177   \n",
       "\n",
       "                 Trend-following portfolio (TREND signal)  \\\n",
       "CAGR                                             0.140020   \n",
       "Annualised vol                                   0.107931   \n",
       "Sharpe ratio                                     1.297314   \n",
       "Max drawdown                                     0.294584   \n",
       "Calmar ratio                                     0.475315   \n",
       "Skewness                                         0.158593   \n",
       "Kurtosis                                        27.987449   \n",
       "Worst return                                    -0.121269   \n",
       "Worst 1d return                                 -0.121269   \n",
       "Worst 1w return                                 -0.110077   \n",
       "Worst 1m return                                 -0.171789   \n",
       "\n",
       "                 Trend-following portfolio (YZ estimator + TREND signal)  \n",
       "CAGR                                                      0.140172        \n",
       "Annualised vol                                            0.110530        \n",
       "Sharpe ratio                                              1.268178        \n",
       "Max drawdown                                              0.313945        \n",
       "Calmar ratio                                              0.446484        \n",
       "Skewness                                                  0.292921        \n",
       "Kurtosis                                                 32.592207        \n",
       "Worst return                                             -0.130152        \n",
       "Worst 1d return                                          -0.130152        \n",
       "Worst 1w return                                          -0.112097        \n",
       "Worst 1m return                                          -0.186272        "
      ]
     },
     "execution_count": 22,
     "metadata": {},
     "output_type": "execute_result"
    }
   ],
   "source": [
    "performance_comp.pipe(Performance).summary()"
   ]
  },
  {
   "cell_type": "markdown",
   "id": "ad3f9474",
   "metadata": {
    "papermill": {
     "duration": 0.013154,
     "end_time": "2022-09-07T07:59:17.376980",
     "exception": false,
     "start_time": "2022-09-07T07:59:17.363826",
     "status": "completed"
    },
    "tags": []
   },
   "source": [
    "## Turnover reduction\n",
    "\n",
    "Again, as reported in BK2020, both enhancements reduce the turnover significantly while not affecting the performance. The chart below shows the reduction in turnover for each futures contract. By utilising the YZ realised volatility and the TREND signal, overall the turnover is reduced by more than 30%."
   ]
  },
  {
   "cell_type": "code",
   "execution_count": 23,
   "id": "9da05d47",
   "metadata": {
    "execution": {
     "iopub.execute_input": "2022-09-07T07:59:17.406071Z",
     "iopub.status.busy": "2022-09-07T07:59:17.405523Z",
     "iopub.status.idle": "2022-09-07T08:04:17.357522Z",
     "shell.execute_reply": "2022-09-07T08:04:17.356751Z"
    },
    "papermill": {
     "duration": 299.968681,
     "end_time": "2022-09-07T08:04:17.359360",
     "exception": false,
     "start_time": "2022-09-07T07:59:17.390679",
     "status": "completed"
    },
    "tags": []
   },
   "outputs": [],
   "source": [
    "engine_original_pos = engine_original.get_position_by_instrument()\n",
    "engine_vol_pos = engine_vol.get_position_by_instrument()\n",
    "engine_trend_pos = engine_trend.get_position_by_instrument()\n",
    "engine_combined_pos = engine_combined.get_position_by_instrument()"
   ]
  },
  {
   "cell_type": "code",
   "execution_count": 24,
   "id": "1075189e",
   "metadata": {
    "execution": {
     "iopub.execute_input": "2022-09-07T08:04:17.387156Z",
     "iopub.status.busy": "2022-09-07T08:04:17.386894Z",
     "iopub.status.idle": "2022-09-07T08:04:17.422132Z",
     "shell.execute_reply": "2022-09-07T08:04:17.421442Z"
    },
    "papermill": {
     "duration": 0.051669,
     "end_time": "2022-09-07T08:04:17.424123",
     "exception": false,
     "start_time": "2022-09-07T08:04:17.372454",
     "status": "completed"
    },
    "tags": []
   },
   "outputs": [],
   "source": [
    "engine_original_turnover = (engine_original_pos.diff().abs().mean().mul(261)\n",
    "                            .rename('Trend-following portfolio (Moskowitz 2012)'))\n",
    "engine_vol_turnover = (engine_vol_pos.diff().abs().mean().mul(261)\n",
    "                       .rename('Trend-following portfolio (YZ estimator)'))\n",
    "engine_trend_turnover = (engine_trend_pos.diff().abs().mean().mul(261)\n",
    "                         .rename('Trend-following portfolio (TREND signal)'))\n",
    "engine_combined_turnover = (engine_combined_pos.diff().abs().mean().mul(261)\n",
    "                            .rename('Trend-following portfolio (YZ estimator + TREND signal)'))"
   ]
  },
  {
   "cell_type": "code",
   "execution_count": 25,
   "id": "7400ecb1",
   "metadata": {
    "execution": {
     "iopub.execute_input": "2022-09-07T08:04:17.450637Z",
     "iopub.status.busy": "2022-09-07T08:04:17.450322Z",
     "iopub.status.idle": "2022-09-07T08:04:17.457323Z",
     "shell.execute_reply": "2022-09-07T08:04:17.456756Z"
    },
    "papermill": {
     "duration": 0.022182,
     "end_time": "2022-09-07T08:04:17.458910",
     "exception": false,
     "start_time": "2022-09-07T08:04:17.436728",
     "status": "completed"
    },
    "tags": []
   },
   "outputs": [],
   "source": [
    "turnover_reduction = (\n",
    "    pd.concat((engine_vol_turnover, engine_trend_turnover, engine_combined_turnover), axis=1)\n",
    "    .div(engine_original_turnover, axis=0)\n",
    "    .sub(1)\n",
    "    .reindex(index=all_futures_baltas2020.index)\n",
    "    .rename(index=all_futures_baltas2020['name'])\n",
    ")"
   ]
  },
  {
   "cell_type": "code",
   "execution_count": 26,
   "id": "d1342d6b",
   "metadata": {
    "execution": {
     "iopub.execute_input": "2022-09-07T08:04:17.485395Z",
     "iopub.status.busy": "2022-09-07T08:04:17.485082Z",
     "iopub.status.idle": "2022-09-07T08:04:17.490948Z",
     "shell.execute_reply": "2022-09-07T08:04:17.490362Z"
    },
    "papermill": {
     "duration": 0.02095,
     "end_time": "2022-09-07T08:04:17.492511",
     "exception": false,
     "start_time": "2022-09-07T08:04:17.471561",
     "status": "completed"
    },
    "tags": []
   },
   "outputs": [
    {
     "data": {
      "text/plain": [
       "Trend-following portfolio (YZ estimator)                  -0.181314\n",
       "Trend-following portfolio (TREND signal)                  -0.207314\n",
       "Trend-following portfolio (YZ estimator + TREND signal)   -0.330760\n",
       "dtype: float64"
      ]
     },
     "execution_count": 26,
     "metadata": {},
     "output_type": "execute_result"
    }
   ],
   "source": [
    "turnover_reduction.mean()"
   ]
  },
  {
   "cell_type": "code",
   "execution_count": 27,
   "id": "f0f599ea",
   "metadata": {
    "execution": {
     "iopub.execute_input": "2022-09-07T08:04:17.519409Z",
     "iopub.status.busy": "2022-09-07T08:04:17.519094Z",
     "iopub.status.idle": "2022-09-07T08:04:19.171845Z",
     "shell.execute_reply": "2022-09-07T08:04:19.171156Z"
    },
    "papermill": {
     "duration": 1.668232,
     "end_time": "2022-09-07T08:04:19.173516",
     "exception": false,
     "start_time": "2022-09-07T08:04:17.505284",
     "status": "completed"
    },
    "tags": []
   },
   "outputs": [
    {
     "data": {
      "image/png": "[encoded data removed]",
      "text/plain": [
       "<Figure size 1008x288 with 1 Axes>"
      ]
     },
     "metadata": {
      "needs_background": "light"
     },
     "output_type": "display_data"
    }
   ],
   "source": [
    "ax = turnover_reduction.plot(kind='bar', figsize=(14, 4))\n",
    "ax.yaxis.set_major_formatter(mticker.PercentFormatter(1))\n",
    "ax.axhline(0, color='black', lw=1)\n",
    "ax.axvline(24.5, color='black', lw=1)\n",
    "ax.axvline(30.5, color='black', lw=1)\n",
    "ax.axvline(42.5, color='black', lw=1)\n",
    "ax.set_xlabel('Contract')\n",
    "ax.set_ylabel('Turnover reduction');"
   ]
  },
  {
   "cell_type": "markdown",
   "id": "7716c251",
   "metadata": {
    "papermill": {
     "duration": 0.013649,
     "end_time": "2022-09-07T08:04:19.201598",
     "exception": false,
     "start_time": "2022-09-07T08:04:19.187949",
     "status": "completed"
    },
    "tags": []
   },
   "source": [
    "# Recent performance"
   ]
  },
  {
   "cell_type": "code",
   "execution_count": 28,
   "id": "bafe3c4b",
   "metadata": {
    "execution": {
     "iopub.execute_input": "2022-09-07T08:04:19.231435Z",
     "iopub.status.busy": "2022-09-07T08:04:19.231117Z",
     "iopub.status.idle": "2022-09-07T08:04:19.690152Z",
     "shell.execute_reply": "2022-09-07T08:04:19.689456Z"
    },
    "papermill": {
     "duration": 0.47513,
     "end_time": "2022-09-07T08:04:19.691698",
     "exception": false,
     "start_time": "2022-09-07T08:04:19.216568",
     "status": "completed"
    },
    "tags": []
   },
   "outputs": [
    {
     "data": {
      "image/png": "[encoded data removed]",
      "text/plain": [
       "<Figure size 576x324 with 1 Axes>"
      ]
     },
     "metadata": {
      "needs_background": "light"
     },
     "output_type": "display_data"
    }
   ],
   "source": [
    "fig, ax = plt.subplots(figsize=(8, 4.5))\n",
    "performance_comp.tail(252 * 2).pct_change().fillna(0).add(1).cumprod().plot(ax=ax, logy=True);\n",
    "ax.set_title('Trend-following portfolio')\n",
    "ax.set_ylabel('Cumulative returns');"
   ]
  },
  {
   "cell_type": "markdown",
   "id": "418d887c",
   "metadata": {
    "papermill": {
     "duration": 0.019915,
     "end_time": "2022-09-07T08:04:19.729346",
     "exception": false,
     "start_time": "2022-09-07T08:04:19.709431",
     "status": "completed"
    },
    "tags": []
   },
   "source": [
    "# Reference\n",
    "\n",
    "- Baltas, N. and Kosowski, R., 2020. Demystifying time-series momentum strategies: Volatility estimators, trading rules and pairwise correlations. Market Momentum: Theory and Practice\", Wiley.\n",
    "- Moskowitz, T.J., Ooi, Y.H. and Pedersen, L.H., 2012. Time series momentum. Journal of financial economics, 104(2), pp.228-250."
   ]
  },
  {
   "cell_type": "code",
   "execution_count": 29,
   "id": "f3fa73d2",
   "metadata": {
    "ExecuteTime": {
     "end_time": "2020-08-30T21:20:32.431574Z",
     "start_time": "2020-08-30T21:20:32.429370Z"
    },
    "execution": {
     "iopub.execute_input": "2022-09-07T08:04:19.762436Z",
     "iopub.status.busy": "2022-09-07T08:04:19.762171Z",
     "iopub.status.idle": "2022-09-07T08:04:19.766054Z",
     "shell.execute_reply": "2022-09-07T08:04:19.765403Z"
    },
    "papermill": {
     "duration": 0.023341,
     "end_time": "2022-09-07T08:04:19.767632",
     "exception": false,
     "start_time": "2022-09-07T08:04:19.744291",
     "status": "completed"
    },
    "tags": []
   },
   "outputs": [
    {
     "name": "stdout",
     "output_type": "stream",
     "text": [
      "Updated: 07-Sep-2022 08:04\n"
     ]
    }
   ],
   "source": [
    "print(f'Updated: {datetime.utcnow():%d-%b-%Y %H:%M}')"
   ]
  }
 ],
 "metadata": {
  "hide_input": false,
  "kernelspec": {
   "display_name": "Python 3",
   "language": "python",
   "name": "python3"
  },
  "language_info": {
   "codemirror_mode": {
    "name": "ipython",
    "version": 3
   },
   "file_extension": ".py",
   "mimetype": "text/x-python",
   "name": "python",
   "nbconvert_exporter": "python",
   "pygments_lexer": "ipython3",
   "version": "3.9.6"
  },
  "nav_menu": {},
  "papermill": {
   "duration": 5838.170032,
   "end_time": "2022-09-07T08:04:22.826554",
   "environment_variables": {},
   "exception": null,
   "input_path": "notebooks/papermill/trend_following_baltas2020.ipynb",
   "output_path": "notebooks/trend_following_baltas2020.ipynb",
   "parameters": {},
   "start_time": "2022-09-07T06:27:04.656522",
   "version": "2.1.3"
  },
  "toc": {
   "base_numbering": 1,
   "nav_menu": {},
   "number_sections": true,
   "sideBar": true,
   "skip_h1_title": false,
   "title_cell": "Table of Contents",
   "title_sidebar": "Contents",
   "toc_cell": true,
   "toc_position": {
    "height": "calc(100% - 180px)",
    "left": "10px",
    "top": "150px",
    "width": "165px"
   },
   "toc_section_display": "block",
   "toc_window_display": true
  }
 },
 "nbformat": 4,
 "nbformat_minor": 5
}