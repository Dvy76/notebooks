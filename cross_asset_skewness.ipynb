{
 "cells": [
  {
   "cell_type": "markdown",
   "id": "7dbcc271",
   "metadata": {
    "tags": [
     "papermill-error-cell-tag"
    ]
   },
   "source": [
    "<span style=\"color:red; font-family:Helvetica Neue, Helvetica, Arial, sans-serif; font-size:2em;\">An Exception was encountered at '<a href=\"#papermill-error-cell\">In [6]</a>'.</span>"
   ]
  },
  {
   "cell_type": "markdown",
   "id": "58a4a041",
   "metadata": {
    "papermill": {
     "duration": 0.006394,
     "end_time": "2023-01-04T06:57:24.561524",
     "exception": false,
     "start_time": "2023-01-04T06:57:24.555130",
     "status": "completed"
    },
    "tags": []
   },
   "source": [
    "# Cross-asset skewness\n",
    "\n",
    "This notebook analyses cross-asset cross-sectional skewness strategy. The strategy takes long positions on contracts with most negative historical skewness and short positions on ones with most positive skewness."
   ]
  },
  {
   "cell_type": "code",
   "execution_count": 1,
   "id": "57c64da6",
   "metadata": {
    "ExecuteTime": {
     "end_time": "2020-08-31T19:29:24.852122Z",
     "start_time": "2020-08-31T19:29:24.038266Z"
    },
    "execution": {
     "iopub.execute_input": "2023-01-04T06:57:24.574113Z",
     "iopub.status.busy": "2023-01-04T06:57:24.573564Z",
     "iopub.status.idle": "2023-01-04T06:57:29.101151Z",
     "shell.execute_reply": "2023-01-04T06:57:29.100080Z"
    },
    "papermill": {
     "duration": 4.536229,
     "end_time": "2023-01-04T06:57:29.103234",
     "exception": false,
     "start_time": "2023-01-04T06:57:24.567005",
     "status": "completed"
    },
    "tags": []
   },
   "outputs": [],
   "source": [
    "%matplotlib inline\n",
    "from datetime import datetime\n",
    "import logging\n",
    "import warnings\n",
    "warnings.simplefilter(action='ignore', category=FutureWarning)\n",
    "\n",
    "import pandas as pd\n",
    "import matplotlib.pyplot as plt\n",
    "import matplotlib.ticker as mticker\n",
    "plt.style.use('bmh')\n",
    "\n",
    "from vivace.backtest import signal\n",
    "from vivace.backtest import processing\n",
    "from vivace.backtest.contract import all_futures_baltas2019\n",
    "from vivace.backtest.engine import BacktestEngine\n",
    "from vivace.backtest.enums import Strategy\n",
    "from vivace.backtest.stats import Performance"
   ]
  },
  {
   "cell_type": "markdown",
   "id": "f2a9afc1",
   "metadata": {
    "papermill": {
     "duration": 0.007325,
     "end_time": "2023-01-04T06:57:29.117149",
     "exception": false,
     "start_time": "2023-01-04T06:57:29.109824",
     "status": "completed"
    },
    "tags": []
   },
   "source": [
    "# Data\n",
    "\n",
    "Various futures contracts in commodity, currency, government bond futures and equity index futures are tested. Some contracts are missing in this data set due to data availability."
   ]
  },
  {
   "cell_type": "code",
   "execution_count": 2,
   "id": "447223a7",
   "metadata": {
    "ExecuteTime": {
     "end_time": "2020-08-31T19:29:25.399795Z",
     "start_time": "2020-08-31T19:29:25.371862Z"
    },
    "execution": {
     "iopub.execute_input": "2023-01-04T06:57:29.131623Z",
     "iopub.status.busy": "2023-01-04T06:57:29.131151Z",
     "iopub.status.idle": "2023-01-04T06:57:29.153149Z",
     "shell.execute_reply": "2023-01-04T06:57:29.152204Z"
    },
    "papermill": {
     "duration": 0.032111,
     "end_time": "2023-01-04T06:57:29.155885",
     "exception": false,
     "start_time": "2023-01-04T06:57:29.123774",
     "status": "completed"
    },
    "tags": []
   },
   "outputs": [
    {
     "data": {
      "text/html": [
       "<div>\n",
       "<style scoped>\n",
       "    .dataframe tbody tr th:only-of-type {\n",
       "        vertical-align: middle;\n",
       "    }\n",
       "\n",
       "    .dataframe tbody tr th {\n",
       "        vertical-align: top;\n",
       "    }\n",
       "\n",
       "    .dataframe thead th {\n",
       "        text-align: right;\n",
       "    }\n",
       "</style>\n",
       "<table border=\"1\" class=\"dataframe\">\n",
       "  <thead>\n",
       "    <tr style=\"text-align: right;\">\n",
       "      <th></th>\n",
       "      <th>name</th>\n",
       "      <th>asset_class</th>\n",
       "    </tr>\n",
       "    <tr>\n",
       "      <th>ticker</th>\n",
       "      <th></th>\n",
       "      <th></th>\n",
       "    </tr>\n",
       "  </thead>\n",
       "  <tbody>\n",
       "    <tr>\n",
       "      <th>LA</th>\n",
       "      <td>Aluminium</td>\n",
       "      <td>commodity</td>\n",
       "    </tr>\n",
       "    <tr>\n",
       "      <th>CO</th>\n",
       "      <td>Brent Crude Oil</td>\n",
       "      <td>commodity</td>\n",
       "    </tr>\n",
       "    <tr>\n",
       "      <th>CC</th>\n",
       "      <td>Cocoa</td>\n",
       "      <td>commodity</td>\n",
       "    </tr>\n",
       "    <tr>\n",
       "      <th>KC</th>\n",
       "      <td>Coffee</td>\n",
       "      <td>commodity</td>\n",
       "    </tr>\n",
       "    <tr>\n",
       "      <th>HG</th>\n",
       "      <td>Copper</td>\n",
       "      <td>commodity</td>\n",
       "    </tr>\n",
       "    <tr>\n",
       "      <th>C</th>\n",
       "      <td>Corn</td>\n",
       "      <td>commodity</td>\n",
       "    </tr>\n",
       "    <tr>\n",
       "      <th>CT</th>\n",
       "      <td>Cotton</td>\n",
       "      <td>commodity</td>\n",
       "    </tr>\n",
       "    <tr>\n",
       "      <th>CL</th>\n",
       "      <td>WTI Crude Oil</td>\n",
       "      <td>commodity</td>\n",
       "    </tr>\n",
       "    <tr>\n",
       "      <th>FC</th>\n",
       "      <td>Feeder Cattle</td>\n",
       "      <td>commodity</td>\n",
       "    </tr>\n",
       "    <tr>\n",
       "      <th>QS</th>\n",
       "      <td>Gas Oil</td>\n",
       "      <td>commodity</td>\n",
       "    </tr>\n",
       "    <tr>\n",
       "      <th>GC</th>\n",
       "      <td>Gold</td>\n",
       "      <td>commodity</td>\n",
       "    </tr>\n",
       "    <tr>\n",
       "      <th>HO</th>\n",
       "      <td>Heating Oil</td>\n",
       "      <td>commodity</td>\n",
       "    </tr>\n",
       "    <tr>\n",
       "      <th>LH</th>\n",
       "      <td>Lean Hog</td>\n",
       "      <td>commodity</td>\n",
       "    </tr>\n",
       "    <tr>\n",
       "      <th>LC</th>\n",
       "      <td>Live Cattle</td>\n",
       "      <td>commodity</td>\n",
       "    </tr>\n",
       "    <tr>\n",
       "      <th>NG</th>\n",
       "      <td>Natural Gas</td>\n",
       "      <td>commodity</td>\n",
       "    </tr>\n",
       "    <tr>\n",
       "      <th>LN</th>\n",
       "      <td>Nickel</td>\n",
       "      <td>commodity</td>\n",
       "    </tr>\n",
       "    <tr>\n",
       "      <th>SI</th>\n",
       "      <td>Silver</td>\n",
       "      <td>commodity</td>\n",
       "    </tr>\n",
       "    <tr>\n",
       "      <th>S</th>\n",
       "      <td>Soybean</td>\n",
       "      <td>commodity</td>\n",
       "    </tr>\n",
       "    <tr>\n",
       "      <th>SB</th>\n",
       "      <td>Sugar</td>\n",
       "      <td>commodity</td>\n",
       "    </tr>\n",
       "    <tr>\n",
       "      <th>XB</th>\n",
       "      <td>Gasoline</td>\n",
       "      <td>commodity</td>\n",
       "    </tr>\n",
       "    <tr>\n",
       "      <th>W</th>\n",
       "      <td>Wheat</td>\n",
       "      <td>commodity</td>\n",
       "    </tr>\n",
       "    <tr>\n",
       "      <th>KW</th>\n",
       "      <td>Wheat Kansas</td>\n",
       "      <td>commodity</td>\n",
       "    </tr>\n",
       "    <tr>\n",
       "      <th>LX</th>\n",
       "      <td>Zinc</td>\n",
       "      <td>commodity</td>\n",
       "    </tr>\n",
       "    <tr>\n",
       "      <th>AD</th>\n",
       "      <td>Australian Dollar</td>\n",
       "      <td>currency</td>\n",
       "    </tr>\n",
       "    <tr>\n",
       "      <th>CD</th>\n",
       "      <td>Canadian Dollar</td>\n",
       "      <td>currency</td>\n",
       "    </tr>\n",
       "    <tr>\n",
       "      <th>SF</th>\n",
       "      <td>Swiss Franc</td>\n",
       "      <td>currency</td>\n",
       "    </tr>\n",
       "    <tr>\n",
       "      <th>EC</th>\n",
       "      <td>Euro</td>\n",
       "      <td>currency</td>\n",
       "    </tr>\n",
       "    <tr>\n",
       "      <th>BP</th>\n",
       "      <td>British Pound</td>\n",
       "      <td>currency</td>\n",
       "    </tr>\n",
       "    <tr>\n",
       "      <th>JY</th>\n",
       "      <td>Japanese Yen</td>\n",
       "      <td>currency</td>\n",
       "    </tr>\n",
       "    <tr>\n",
       "      <th>ZB</th>\n",
       "      <td>New Zealand Dollar</td>\n",
       "      <td>currency</td>\n",
       "    </tr>\n",
       "    <tr>\n",
       "      <th>SE</th>\n",
       "      <td>Swedish Krona</td>\n",
       "      <td>currency</td>\n",
       "    </tr>\n",
       "    <tr>\n",
       "      <th>XM</th>\n",
       "      <td>Australia 10-year Treasury</td>\n",
       "      <td>fixed_income</td>\n",
       "    </tr>\n",
       "    <tr>\n",
       "      <th>CG</th>\n",
       "      <td>Canada 10-year Treasury</td>\n",
       "      <td>fixed_income</td>\n",
       "    </tr>\n",
       "    <tr>\n",
       "      <th>FGBL</th>\n",
       "      <td>Germany Bund</td>\n",
       "      <td>fixed_income</td>\n",
       "    </tr>\n",
       "    <tr>\n",
       "      <th>FOAT</th>\n",
       "      <td>France OAT</td>\n",
       "      <td>fixed_income</td>\n",
       "    </tr>\n",
       "    <tr>\n",
       "      <th>G</th>\n",
       "      <td>Gilt</td>\n",
       "      <td>fixed_income</td>\n",
       "    </tr>\n",
       "    <tr>\n",
       "      <th>FBTP</th>\n",
       "      <td>Italy BTP Long Term</td>\n",
       "      <td>fixed_income</td>\n",
       "    </tr>\n",
       "    <tr>\n",
       "      <th>JB</th>\n",
       "      <td>JGB</td>\n",
       "      <td>fixed_income</td>\n",
       "    </tr>\n",
       "    <tr>\n",
       "      <th>TY</th>\n",
       "      <td>US 10-year Treasury</td>\n",
       "      <td>fixed_income</td>\n",
       "    </tr>\n",
       "    <tr>\n",
       "      <th>AP</th>\n",
       "      <td>SPI 200</td>\n",
       "      <td>equity</td>\n",
       "    </tr>\n",
       "    <tr>\n",
       "      <th>BZ</th>\n",
       "      <td>Ibovespa</td>\n",
       "      <td>equity</td>\n",
       "    </tr>\n",
       "    <tr>\n",
       "      <th>FSMI</th>\n",
       "      <td>Swiss Market Index</td>\n",
       "      <td>equity</td>\n",
       "    </tr>\n",
       "    <tr>\n",
       "      <th>HC</th>\n",
       "      <td>HSCEI</td>\n",
       "      <td>equity</td>\n",
       "    </tr>\n",
       "    <tr>\n",
       "      <th>FDAX</th>\n",
       "      <td>DAX</td>\n",
       "      <td>equity</td>\n",
       "    </tr>\n",
       "    <tr>\n",
       "      <th>IB</th>\n",
       "      <td>IBEX 35</td>\n",
       "      <td>equity</td>\n",
       "    </tr>\n",
       "    <tr>\n",
       "      <th>CF</th>\n",
       "      <td>CAC 40</td>\n",
       "      <td>equity</td>\n",
       "    </tr>\n",
       "    <tr>\n",
       "      <th>Z</th>\n",
       "      <td>FTSE 100</td>\n",
       "      <td>equity</td>\n",
       "    </tr>\n",
       "    <tr>\n",
       "      <th>HI</th>\n",
       "      <td>Hang Seng</td>\n",
       "      <td>equity</td>\n",
       "    </tr>\n",
       "    <tr>\n",
       "      <th>TP</th>\n",
       "      <td>Topix</td>\n",
       "      <td>equity</td>\n",
       "    </tr>\n",
       "    <tr>\n",
       "      <th>AE</th>\n",
       "      <td>AEX</td>\n",
       "      <td>equity</td>\n",
       "    </tr>\n",
       "    <tr>\n",
       "      <th>QC</th>\n",
       "      <td>OMXS30</td>\n",
       "      <td>equity</td>\n",
       "    </tr>\n",
       "    <tr>\n",
       "      <th>SP</th>\n",
       "      <td>S&amp;P 500</td>\n",
       "      <td>equity</td>\n",
       "    </tr>\n",
       "  </tbody>\n",
       "</table>\n",
       "</div>"
      ],
      "text/plain": [
       "                              name   asset_class\n",
       "ticker                                          \n",
       "LA                       Aluminium     commodity\n",
       "CO                 Brent Crude Oil     commodity\n",
       "CC                           Cocoa     commodity\n",
       "KC                          Coffee     commodity\n",
       "HG                          Copper     commodity\n",
       "C                             Corn     commodity\n",
       "CT                          Cotton     commodity\n",
       "CL                   WTI Crude Oil     commodity\n",
       "FC                   Feeder Cattle     commodity\n",
       "QS                         Gas Oil     commodity\n",
       "GC                            Gold     commodity\n",
       "HO                     Heating Oil     commodity\n",
       "LH                        Lean Hog     commodity\n",
       "LC                     Live Cattle     commodity\n",
       "NG                     Natural Gas     commodity\n",
       "LN                          Nickel     commodity\n",
       "SI                          Silver     commodity\n",
       "S                          Soybean     commodity\n",
       "SB                           Sugar     commodity\n",
       "XB                        Gasoline     commodity\n",
       "W                            Wheat     commodity\n",
       "KW                    Wheat Kansas     commodity\n",
       "LX                            Zinc     commodity\n",
       "AD               Australian Dollar      currency\n",
       "CD                 Canadian Dollar      currency\n",
       "SF                     Swiss Franc      currency\n",
       "EC                            Euro      currency\n",
       "BP                   British Pound      currency\n",
       "JY                    Japanese Yen      currency\n",
       "ZB              New Zealand Dollar      currency\n",
       "SE                   Swedish Krona      currency\n",
       "XM      Australia 10-year Treasury  fixed_income\n",
       "CG         Canada 10-year Treasury  fixed_income\n",
       "FGBL                  Germany Bund  fixed_income\n",
       "FOAT                    France OAT  fixed_income\n",
       "G                             Gilt  fixed_income\n",
       "FBTP           Italy BTP Long Term  fixed_income\n",
       "JB                             JGB  fixed_income\n",
       "TY             US 10-year Treasury  fixed_income\n",
       "AP                         SPI 200        equity\n",
       "BZ                        Ibovespa        equity\n",
       "FSMI            Swiss Market Index        equity\n",
       "HC                           HSCEI        equity\n",
       "FDAX                           DAX        equity\n",
       "IB                         IBEX 35        equity\n",
       "CF                          CAC 40        equity\n",
       "Z                         FTSE 100        equity\n",
       "HI                       Hang Seng        equity\n",
       "TP                           Topix        equity\n",
       "AE                             AEX        equity\n",
       "QC                          OMXS30        equity\n",
       "SP                         S&P 500        equity"
      ]
     },
     "execution_count": 2,
     "metadata": {},
     "output_type": "execute_result"
    }
   ],
   "source": [
    "all_futures_baltas2019"
   ]
  },
  {
   "cell_type": "code",
   "execution_count": 3,
   "id": "b4773736",
   "metadata": {
    "ExecuteTime": {
     "end_time": "2020-08-31T19:29:26.170389Z",
     "start_time": "2020-08-31T19:29:26.166205Z"
    },
    "execution": {
     "iopub.execute_input": "2023-01-04T06:57:29.169461Z",
     "iopub.status.busy": "2023-01-04T06:57:29.169196Z",
     "iopub.status.idle": "2023-01-04T06:57:29.175765Z",
     "shell.execute_reply": "2023-01-04T06:57:29.174784Z"
    },
    "papermill": {
     "duration": 0.016765,
     "end_time": "2023-01-04T06:57:29.178952",
     "exception": false,
     "start_time": "2023-01-04T06:57:29.162187",
     "status": "completed"
    },
    "tags": []
   },
   "outputs": [
    {
     "data": {
      "text/plain": [
       "(52, 2)"
      ]
     },
     "execution_count": 3,
     "metadata": {},
     "output_type": "execute_result"
    }
   ],
   "source": [
    "all_futures_baltas2019.shape"
   ]
  },
  {
   "cell_type": "markdown",
   "id": "8c8d977d",
   "metadata": {
    "papermill": {
     "duration": 0.010654,
     "end_time": "2023-01-04T06:57:29.199509",
     "exception": false,
     "start_time": "2023-01-04T06:57:29.188855",
     "status": "completed"
    },
    "tags": []
   },
   "source": [
    "# Performance"
   ]
  },
  {
   "cell_type": "markdown",
   "id": "6d1c8278",
   "metadata": {
    "papermill": {
     "duration": 0.049328,
     "end_time": "2023-01-04T06:57:29.256646",
     "exception": false,
     "start_time": "2023-01-04T06:57:29.207318",
     "status": "completed"
    },
    "tags": []
   },
   "source": [
    "## Run backtest\n",
    "\n",
    "For each asset class, a simple portfolio is constructed by using trailing 1-year returns of each futures. Unlike studies in equities, the recent 1-month is included in the formation period. Positions are rebalanced on a monthly basis."
   ]
  },
  {
   "cell_type": "code",
   "execution_count": 4,
   "id": "d5d91638",
   "metadata": {
    "execution": {
     "iopub.execute_input": "2023-01-04T06:57:29.277718Z",
     "iopub.status.busy": "2023-01-04T06:57:29.277398Z",
     "iopub.status.idle": "2023-01-04T07:01:52.709050Z",
     "shell.execute_reply": "2023-01-04T07:01:52.708294Z"
    },
    "papermill": {
     "duration": 263.444578,
     "end_time": "2023-01-04T07:01:52.711022",
     "exception": false,
     "start_time": "2023-01-04T06:57:29.266444",
     "status": "completed"
    },
    "tags": []
   },
   "outputs": [],
   "source": [
    "engine_commodity = BacktestEngine(\n",
    "    strategy=Strategy.DELTA_ONE.value,\n",
    "    instrument=all_futures_baltas2019.query('asset_class == \"commodity\"').index,\n",
    "    signal=signal.XSSkewness(lookback=252, \n",
    "                             post_process=processing.Pipeline([\n",
    "                                 processing.Negate(),\n",
    "                                 processing.AsFreq(freq='m', method='pad')\n",
    "                             ])),\n",
    "    log_level=logging.WARN,\n",
    ")\n",
    "engine_commodity.run()"
   ]
  },
  {
   "cell_type": "code",
   "execution_count": 5,
   "id": "d3f89d35",
   "metadata": {
    "ExecuteTime": {
     "end_time": "2020-09-02T20:42:14.779932Z",
     "start_time": "2020-09-02T20:40:39.222688Z"
    },
    "execution": {
     "iopub.execute_input": "2023-01-04T07:01:52.726071Z",
     "iopub.status.busy": "2023-01-04T07:01:52.725657Z",
     "iopub.status.idle": "2023-01-04T07:03:36.205481Z",
     "shell.execute_reply": "2023-01-04T07:03:36.204707Z"
    },
    "papermill": {
     "duration": 103.489644,
     "end_time": "2023-01-04T07:03:36.207334",
     "exception": false,
     "start_time": "2023-01-04T07:01:52.717690",
     "status": "completed"
    },
    "tags": []
   },
   "outputs": [],
   "source": [
    "commodity_portfolio_return = (engine_commodity.calculate_equity_curve(calculate_net=False)\n",
    "                              .rename('Commodity skewness portfolio'))"
   ]
  },
  {
   "cell_type": "markdown",
   "id": "1a2408bc",
   "metadata": {
    "tags": [
     "papermill-error-cell-tag"
    ]
   },
   "source": [
    "<span id=\"papermill-error-cell\" style=\"color:red; font-family:Helvetica Neue, Helvetica, Arial, sans-serif; font-size:2em;\">Execution using papermill encountered an exception here and stopped:</span>"
   ]
  },
  {
   "cell_type": "code",
   "execution_count": 6,
   "id": "7b03c5cb",
   "metadata": {
    "execution": {
     "iopub.execute_input": "2023-01-04T07:03:36.220943Z",
     "iopub.status.busy": "2023-01-04T07:03:36.220252Z",
     "iopub.status.idle": "2023-01-04T07:04:33.857523Z",
     "shell.execute_reply": "2023-01-04T07:04:33.856521Z"
    },
    "papermill": {
     "duration": 57.6556,
     "end_time": "2023-01-04T07:04:33.869019",
     "exception": true,
     "start_time": "2023-01-04T07:03:36.213419",
     "status": "failed"
    },
    "tags": []
   },
   "outputs": [
    {
     "ename": "ValueError",
     "evalue": "Shape of passed values is (10569, 2744), indices imply (10564, 2744)",
     "output_type": "error",
     "traceback": [
      "\u001b[0;31m---------------------------------------------------------------------------\u001b[0m",
      "\u001b[0;31mValueError\u001b[0m                                Traceback (most recent call last)",
      "Cell \u001b[0;32mIn [6], line 11\u001b[0m\n\u001b[1;32m      1\u001b[0m engine_equity \u001b[38;5;241m=\u001b[39m BacktestEngine(\n\u001b[1;32m      2\u001b[0m     strategy\u001b[38;5;241m=\u001b[39mStrategy\u001b[38;5;241m.\u001b[39mDELTA_ONE\u001b[38;5;241m.\u001b[39mvalue,\n\u001b[1;32m      3\u001b[0m     instrument\u001b[38;5;241m=\u001b[39mall_futures_baltas2019\u001b[38;5;241m.\u001b[39mquery(\u001b[38;5;124m'\u001b[39m\u001b[38;5;124masset_class == \u001b[39m\u001b[38;5;124m\"\u001b[39m\u001b[38;5;124mequity\u001b[39m\u001b[38;5;124m\"\u001b[39m\u001b[38;5;124m'\u001b[39m)\u001b[38;5;241m.\u001b[39mindex,\n\u001b[0;32m   (...)\u001b[0m\n\u001b[1;32m      9\u001b[0m     log_level\u001b[38;5;241m=\u001b[39mlogging\u001b[38;5;241m.\u001b[39mWARN,\n\u001b[1;32m     10\u001b[0m )\n\u001b[0;32m---> 11\u001b[0m \u001b[43mengine_equity\u001b[49m\u001b[38;5;241;43m.\u001b[39;49m\u001b[43mrun\u001b[49m\u001b[43m(\u001b[49m\u001b[43m)\u001b[49m\n",
      "File \u001b[0;32m/usr/local/lib/python3.9/site-packages/vivace/backtest/engine.py:90\u001b[0m, in \u001b[0;36mBacktestEngine.run\u001b[0;34m(self)\u001b[0m\n\u001b[1;32m     87\u001b[0m     c\u001b[38;5;241m.\u001b[39mset_raw_pnl()\n\u001b[1;32m     89\u001b[0m \u001b[38;5;28mself\u001b[39m\u001b[38;5;241m.\u001b[39mcalculate_long_only()\n\u001b[0;32m---> 90\u001b[0m \u001b[38;5;28;43mself\u001b[39;49m\u001b[38;5;241;43m.\u001b[39;49m\u001b[43mcalculate_strategy\u001b[49m\u001b[43m(\u001b[49m\u001b[43m)\u001b[49m\n",
      "File \u001b[0;32m/usr/local/lib/python3.9/site-packages/vivace/backtest/engine.py:109\u001b[0m, in \u001b[0;36mBacktestEngine.calculate_strategy\u001b[0;34m(self)\u001b[0m\n\u001b[1;32m    107\u001b[0m \u001b[38;5;28;01mif\u001b[39;00m \u001b[38;5;28mlen\u001b[39m(\u001b[38;5;28mself\u001b[39m\u001b[38;5;241m.\u001b[39mpipeline\u001b[38;5;241m.\u001b[39mpipeline) \u001b[38;5;241m>\u001b[39m \u001b[38;5;241m0\u001b[39m:\n\u001b[1;32m    108\u001b[0m     logger\u001b[38;5;241m.\u001b[39minfo(\u001b[38;5;124m'\u001b[39m\u001b[38;5;124mCalculating strategy signals\u001b[39m\u001b[38;5;124m'\u001b[39m)\n\u001b[0;32m--> 109\u001b[0m     \u001b[38;5;28;43mself\u001b[39;49m\u001b[38;5;241;43m.\u001b[39;49m\u001b[43mcalculate_signals\u001b[49m\u001b[43m(\u001b[49m\u001b[43m)\u001b[49m\n\u001b[1;32m    110\u001b[0m     logger\u001b[38;5;241m.\u001b[39minfo(\u001b[38;5;124m'\u001b[39m\u001b[38;5;124mCalculating strategy positions\u001b[39m\u001b[38;5;124m'\u001b[39m)\n\u001b[1;32m    111\u001b[0m     \u001b[38;5;28mself\u001b[39m\u001b[38;5;241m.\u001b[39mcalculate_portfolio_weight()\n",
      "File \u001b[0;32m/usr/local/lib/python3.9/site-packages/vivace/backtest/engine.py:128\u001b[0m, in \u001b[0;36mBacktestEngine.calculate_signals\u001b[0;34m(self)\u001b[0m\n\u001b[1;32m    124\u001b[0m     \u001b[38;5;28mself\u001b[39m\u001b[38;5;241m.\u001b[39mcalculate_strategy_return(position_col_suffix\u001b[38;5;241m=\u001b[39mprev_signal_name,\n\u001b[1;32m    125\u001b[0m                                    col_name_suffix\u001b[38;5;241m=\u001b[39mprev_signal_name)\n\u001b[1;32m    127\u001b[0m \u001b[38;5;66;03m# signals are based on gross returns\u001b[39;00m\n\u001b[0;32m--> 128\u001b[0m instrument_returns \u001b[38;5;241m=\u001b[39m \u001b[38;5;28;43mself\u001b[39;49m\u001b[38;5;241;43m.\u001b[39;49m\u001b[43mget_return_by_instrument\u001b[49m\u001b[43m(\u001b[49m\u001b[43mcol_name_suffix\u001b[49m\u001b[38;5;241;43m=\u001b[39;49m\u001b[43mprev_signal_name\u001b[49m\u001b[43m,\u001b[49m\n\u001b[1;32m    129\u001b[0m \u001b[43m                                                   \u001b[49m\u001b[43mcalculate_net\u001b[49m\u001b[38;5;241;43m=\u001b[39;49m\u001b[38;5;28;43;01mFalse\u001b[39;49;00m\u001b[43m)\u001b[49m\n\u001b[1;32m    130\u001b[0m signal_method\u001b[38;5;241m.\u001b[39mcalculate_all(contract_tree\u001b[38;5;241m=\u001b[39m\u001b[38;5;28mself\u001b[39m\u001b[38;5;241m.\u001b[39m_contract_tree,\n\u001b[1;32m    131\u001b[0m                             instrument_returns\u001b[38;5;241m=\u001b[39minstrument_returns)\n",
      "File \u001b[0;32m/usr/local/lib/python3.9/site-packages/vivace/backtest/engine.py:258\u001b[0m, in \u001b[0;36mBacktestEngine.get_return_by_instrument\u001b[0;34m(self, col_name_suffix, calculate_net)\u001b[0m\n\u001b[1;32m    255\u001b[0m     col_name \u001b[38;5;241m=\u001b[39m \u001b[38;5;124mf\u001b[39m\u001b[38;5;124m'\u001b[39m\u001b[38;5;132;01m{\u001b[39;00mContractColName\u001b[38;5;241m.\u001b[39mRETURN\u001b[38;5;241m.\u001b[39mvalue\u001b[38;5;132;01m}\u001b[39;00m\u001b[38;5;124m__\u001b[39m\u001b[38;5;132;01m{\u001b[39;00mcol_name_suffix\u001b[38;5;132;01m}\u001b[39;00m\u001b[38;5;124m_gross\u001b[39m\u001b[38;5;124m'\u001b[39m\n\u001b[1;32m    256\u001b[0m \u001b[38;5;66;03m# `min_count=1` is set to avoid converting NaN to zero\u001b[39;00m\n\u001b[1;32m    257\u001b[0m \u001b[38;5;66;03m# cf. https://github.com/pandas-dev/pandas/issues/20824\u001b[39;00m\n\u001b[0;32m--> 258\u001b[0m ret \u001b[38;5;241m=\u001b[39m \u001b[38;5;28;43mself\u001b[39;49m\u001b[38;5;241;43m.\u001b[39;49m\u001b[43mconcat_contract_column\u001b[49m\u001b[43m(\u001b[49m\u001b[43mcol_name\u001b[49m\u001b[43m)\u001b[49m\u001b[38;5;241m.\u001b[39mgroupby(level\u001b[38;5;241m=\u001b[39m\u001b[38;5;241m0\u001b[39m, axis\u001b[38;5;241m=\u001b[39m\u001b[38;5;241m1\u001b[39m)\u001b[38;5;241m.\u001b[39msum(min_count\u001b[38;5;241m=\u001b[39m\u001b[38;5;241m1\u001b[39m)\n\u001b[1;32m    259\u001b[0m \u001b[38;5;28;01mreturn\u001b[39;00m ret\n",
      "File \u001b[0;32m/usr/local/lib/python3.9/site-packages/vivace/backtest/engine.py:225\u001b[0m, in \u001b[0;36mBacktestEngine.concat_contract_column\u001b[0;34m(self, col_name)\u001b[0m\n\u001b[1;32m    223\u001b[0m \u001b[38;5;28;01mdef\u001b[39;00m \u001b[38;5;21mconcat_contract_column\u001b[39m(\u001b[38;5;28mself\u001b[39m, col_name: \u001b[38;5;28mstr\u001b[39m) \u001b[38;5;241m-\u001b[39m\u001b[38;5;241m>\u001b[39m pd\u001b[38;5;241m.\u001b[39mDataFrame:\n\u001b[1;32m    224\u001b[0m     \u001b[38;5;124;03m\"\"\" Concatenate the column of each contract into one dataframe \"\"\"\u001b[39;00m\n\u001b[0;32m--> 225\u001b[0m     \u001b[38;5;28;01mreturn\u001b[39;00m \u001b[43mconcat_contract_column\u001b[49m\u001b[43m(\u001b[49m\u001b[38;5;28;43mself\u001b[39;49m\u001b[38;5;241;43m.\u001b[39;49m\u001b[43m_contract_tree\u001b[49m\u001b[43m,\u001b[49m\u001b[43m \u001b[49m\u001b[43mcol_name\u001b[49m\u001b[43m)\u001b[49m\n",
      "File \u001b[0;32m/usr/local/lib/python3.9/site-packages/vivace/backtest/contract.py:1311\u001b[0m, in \u001b[0;36mconcat_contract_column\u001b[0;34m(contract_tree, col_name)\u001b[0m\n\u001b[1;32m   1308\u001b[0m             \u001b[38;5;28;01mraise\u001b[39;00m \u001b[38;5;167;01mNotImplementedError\u001b[39;00m()\n\u001b[1;32m   1310\u001b[0m         data\u001b[38;5;241m.\u001b[39mappend(c_data)\n\u001b[0;32m-> 1311\u001b[0m data \u001b[38;5;241m=\u001b[39m \u001b[43mpd\u001b[49m\u001b[38;5;241;43m.\u001b[39;49m\u001b[43mconcat\u001b[49m\u001b[43m(\u001b[49m\u001b[43mdata\u001b[49m\u001b[43m,\u001b[49m\u001b[43m \u001b[49m\u001b[43maxis\u001b[49m\u001b[38;5;241;43m=\u001b[39;49m\u001b[38;5;241;43m1\u001b[39;49m\u001b[43m)\u001b[49m\n\u001b[1;32m   1312\u001b[0m \u001b[38;5;28;01mreturn\u001b[39;00m data\n",
      "File \u001b[0;32m/usr/local/lib/python3.9/site-packages/pandas/core/reshape/concat.py:287\u001b[0m, in \u001b[0;36mconcat\u001b[0;34m(objs, axis, join, ignore_index, keys, levels, names, verify_integrity, sort, copy)\u001b[0m\n\u001b[1;32m     82\u001b[0m \u001b[38;5;124;03m\"\"\"\u001b[39;00m\n\u001b[1;32m     83\u001b[0m \u001b[38;5;124;03mConcatenate pandas objects along a particular axis with optional set logic\u001b[39;00m\n\u001b[1;32m     84\u001b[0m \u001b[38;5;124;03malong the other axes.\u001b[39;00m\n\u001b[0;32m   (...)\u001b[0m\n\u001b[1;32m    272\u001b[0m \u001b[38;5;124;03mValueError: Indexes have overlapping values: ['a']\u001b[39;00m\n\u001b[1;32m    273\u001b[0m \u001b[38;5;124;03m\"\"\"\u001b[39;00m\n\u001b[1;32m    274\u001b[0m op \u001b[38;5;241m=\u001b[39m _Concatenator(\n\u001b[1;32m    275\u001b[0m     objs,\n\u001b[1;32m    276\u001b[0m     axis\u001b[38;5;241m=\u001b[39maxis,\n\u001b[0;32m   (...)\u001b[0m\n\u001b[1;32m    284\u001b[0m     sort\u001b[38;5;241m=\u001b[39msort,\n\u001b[1;32m    285\u001b[0m )\n\u001b[0;32m--> 287\u001b[0m \u001b[38;5;28;01mreturn\u001b[39;00m \u001b[43mop\u001b[49m\u001b[38;5;241;43m.\u001b[39;49m\u001b[43mget_result\u001b[49m\u001b[43m(\u001b[49m\u001b[43m)\u001b[49m\n",
      "File \u001b[0;32m/usr/local/lib/python3.9/site-packages/pandas/core/reshape/concat.py:502\u001b[0m, in \u001b[0;36m_Concatenator.get_result\u001b[0;34m(self)\u001b[0m\n\u001b[1;32m    498\u001b[0m             indexers[ax] \u001b[38;5;241m=\u001b[39m obj_labels\u001b[38;5;241m.\u001b[39mreindex(new_labels)[\u001b[38;5;241m1\u001b[39m]\n\u001b[1;32m    500\u001b[0m     mgrs_indexers\u001b[38;5;241m.\u001b[39mappend((obj\u001b[38;5;241m.\u001b[39m_mgr, indexers))\n\u001b[0;32m--> 502\u001b[0m new_data \u001b[38;5;241m=\u001b[39m \u001b[43mconcatenate_block_managers\u001b[49m\u001b[43m(\u001b[49m\n\u001b[1;32m    503\u001b[0m \u001b[43m    \u001b[49m\u001b[43mmgrs_indexers\u001b[49m\u001b[43m,\u001b[49m\u001b[43m \u001b[49m\u001b[38;5;28;43mself\u001b[39;49m\u001b[38;5;241;43m.\u001b[39;49m\u001b[43mnew_axes\u001b[49m\u001b[43m,\u001b[49m\u001b[43m \u001b[49m\u001b[43mconcat_axis\u001b[49m\u001b[38;5;241;43m=\u001b[39;49m\u001b[38;5;28;43mself\u001b[39;49m\u001b[38;5;241;43m.\u001b[39;49m\u001b[43mbm_axis\u001b[49m\u001b[43m,\u001b[49m\u001b[43m \u001b[49m\u001b[43mcopy\u001b[49m\u001b[38;5;241;43m=\u001b[39;49m\u001b[38;5;28;43mself\u001b[39;49m\u001b[38;5;241;43m.\u001b[39;49m\u001b[43mcopy\u001b[49m\u001b[43m,\u001b[49m\n\u001b[1;32m    504\u001b[0m \u001b[43m\u001b[49m\u001b[43m)\u001b[49m\n\u001b[1;32m    505\u001b[0m \u001b[38;5;28;01mif\u001b[39;00m \u001b[38;5;129;01mnot\u001b[39;00m \u001b[38;5;28mself\u001b[39m\u001b[38;5;241m.\u001b[39mcopy:\n\u001b[1;32m    506\u001b[0m     new_data\u001b[38;5;241m.\u001b[39m_consolidate_inplace()\n",
      "File \u001b[0;32m/usr/local/lib/python3.9/site-packages/pandas/core/internals/concat.py:84\u001b[0m, in \u001b[0;36mconcatenate_block_managers\u001b[0;34m(mgrs_indexers, axes, concat_axis, copy)\u001b[0m\n\u001b[1;32m     78\u001b[0m         b \u001b[38;5;241m=\u001b[39m make_block(\n\u001b[1;32m     79\u001b[0m             _concatenate_join_units(join_units, concat_axis, copy\u001b[38;5;241m=\u001b[39mcopy,),\n\u001b[1;32m     80\u001b[0m             placement\u001b[38;5;241m=\u001b[39mplacement,\n\u001b[1;32m     81\u001b[0m         )\n\u001b[1;32m     82\u001b[0m     blocks\u001b[38;5;241m.\u001b[39mappend(b)\n\u001b[0;32m---> 84\u001b[0m \u001b[38;5;28;01mreturn\u001b[39;00m \u001b[43mBlockManager\u001b[49m\u001b[43m(\u001b[49m\u001b[43mblocks\u001b[49m\u001b[43m,\u001b[49m\u001b[43m \u001b[49m\u001b[43maxes\u001b[49m\u001b[43m)\u001b[49m\n",
      "File \u001b[0;32m/usr/local/lib/python3.9/site-packages/pandas/core/internals/managers.py:149\u001b[0m, in \u001b[0;36mBlockManager.__init__\u001b[0;34m(self, blocks, axes, do_integrity_check)\u001b[0m\n\u001b[1;32m    143\u001b[0m         \u001b[38;5;28;01mraise\u001b[39;00m \u001b[38;5;167;01mAssertionError\u001b[39;00m(\n\u001b[1;32m    144\u001b[0m             \u001b[38;5;124mf\u001b[39m\u001b[38;5;124m\"\u001b[39m\u001b[38;5;124mNumber of Block dimensions (\u001b[39m\u001b[38;5;132;01m{\u001b[39;00mblock\u001b[38;5;241m.\u001b[39mndim\u001b[38;5;132;01m}\u001b[39;00m\u001b[38;5;124m) must equal \u001b[39m\u001b[38;5;124m\"\u001b[39m\n\u001b[1;32m    145\u001b[0m             \u001b[38;5;124mf\u001b[39m\u001b[38;5;124m\"\u001b[39m\u001b[38;5;124mnumber of axes (\u001b[39m\u001b[38;5;132;01m{\u001b[39;00m\u001b[38;5;28mself\u001b[39m\u001b[38;5;241m.\u001b[39mndim\u001b[38;5;132;01m}\u001b[39;00m\u001b[38;5;124m)\u001b[39m\u001b[38;5;124m\"\u001b[39m\n\u001b[1;32m    146\u001b[0m         )\n\u001b[1;32m    148\u001b[0m \u001b[38;5;28;01mif\u001b[39;00m do_integrity_check:\n\u001b[0;32m--> 149\u001b[0m     \u001b[38;5;28;43mself\u001b[39;49m\u001b[38;5;241;43m.\u001b[39;49m\u001b[43m_verify_integrity\u001b[49m\u001b[43m(\u001b[49m\u001b[43m)\u001b[49m\n\u001b[1;32m    151\u001b[0m \u001b[38;5;66;03m# Populate known_consolidate, blknos, and blklocs lazily\u001b[39;00m\n\u001b[1;32m    152\u001b[0m \u001b[38;5;28mself\u001b[39m\u001b[38;5;241m.\u001b[39m_known_consolidated \u001b[38;5;241m=\u001b[39m \u001b[38;5;28;01mFalse\u001b[39;00m\n",
      "File \u001b[0;32m/usr/local/lib/python3.9/site-packages/pandas/core/internals/managers.py:326\u001b[0m, in \u001b[0;36mBlockManager._verify_integrity\u001b[0;34m(self)\u001b[0m\n\u001b[1;32m    324\u001b[0m \u001b[38;5;28;01mfor\u001b[39;00m block \u001b[38;5;129;01min\u001b[39;00m \u001b[38;5;28mself\u001b[39m\u001b[38;5;241m.\u001b[39mblocks:\n\u001b[1;32m    325\u001b[0m     \u001b[38;5;28;01mif\u001b[39;00m block\u001b[38;5;241m.\u001b[39mshape[\u001b[38;5;241m1\u001b[39m:] \u001b[38;5;241m!=\u001b[39m mgr_shape[\u001b[38;5;241m1\u001b[39m:]:\n\u001b[0;32m--> 326\u001b[0m         \u001b[38;5;28;01mraise\u001b[39;00m construction_error(tot_items, block\u001b[38;5;241m.\u001b[39mshape[\u001b[38;5;241m1\u001b[39m:], \u001b[38;5;28mself\u001b[39m\u001b[38;5;241m.\u001b[39maxes)\n\u001b[1;32m    327\u001b[0m \u001b[38;5;28;01mif\u001b[39;00m \u001b[38;5;28mlen\u001b[39m(\u001b[38;5;28mself\u001b[39m\u001b[38;5;241m.\u001b[39mitems) \u001b[38;5;241m!=\u001b[39m tot_items:\n\u001b[1;32m    328\u001b[0m     \u001b[38;5;28;01mraise\u001b[39;00m \u001b[38;5;167;01mAssertionError\u001b[39;00m(\n\u001b[1;32m    329\u001b[0m         \u001b[38;5;124m\"\u001b[39m\u001b[38;5;124mNumber of manager items must equal union of \u001b[39m\u001b[38;5;124m\"\u001b[39m\n\u001b[1;32m    330\u001b[0m         \u001b[38;5;124mf\u001b[39m\u001b[38;5;124m\"\u001b[39m\u001b[38;5;124mblock items\u001b[39m\u001b[38;5;130;01m\\n\u001b[39;00m\u001b[38;5;124m# manager items: \u001b[39m\u001b[38;5;132;01m{\u001b[39;00m\u001b[38;5;28mlen\u001b[39m(\u001b[38;5;28mself\u001b[39m\u001b[38;5;241m.\u001b[39mitems)\u001b[38;5;132;01m}\u001b[39;00m\u001b[38;5;124m, # \u001b[39m\u001b[38;5;124m\"\u001b[39m\n\u001b[1;32m    331\u001b[0m         \u001b[38;5;124mf\u001b[39m\u001b[38;5;124m\"\u001b[39m\u001b[38;5;124mtot_items: \u001b[39m\u001b[38;5;132;01m{\u001b[39;00mtot_items\u001b[38;5;132;01m}\u001b[39;00m\u001b[38;5;124m\"\u001b[39m\n\u001b[1;32m    332\u001b[0m     )\n",
      "\u001b[0;31mValueError\u001b[0m: Shape of passed values is (10569, 2744), indices imply (10564, 2744)"
     ]
    }
   ],
   "source": [
    "engine_equity = BacktestEngine(\n",
    "    strategy=Strategy.DELTA_ONE.value,\n",
    "    instrument=all_futures_baltas2019.query('asset_class == \"equity\"').index,\n",
    "    signal=signal.XSSkewness(lookback=252, \n",
    "                             post_process=processing.Pipeline([\n",
    "                                 processing.Negate(),\n",
    "                                 processing.AsFreq(freq='m', method='pad')\n",
    "                             ])),\n",
    "    log_level=logging.WARN,\n",
    ")\n",
    "engine_equity.run()"
   ]
  },
  {
   "cell_type": "code",
   "execution_count": null,
   "id": "92bc553a",
   "metadata": {
    "execution": {
     "iopub.execute_input": "2020-11-07T07:09:14.839800Z",
     "iopub.status.busy": "2020-11-07T07:09:14.839671Z",
     "iopub.status.idle": "2020-11-07T07:09:33.263497Z",
     "shell.execute_reply": "2020-11-07T07:09:33.262996Z",
     "shell.execute_reply.started": "2020-11-07T07:09:14.839783Z"
    },
    "papermill": {
     "duration": null,
     "end_time": null,
     "exception": null,
     "start_time": null,
     "status": "pending"
    },
    "tags": []
   },
   "outputs": [],
   "source": [
    "equity_portfolio_return = (engine_equity.calculate_equity_curve(calculate_net=False)\n",
    "                           .rename('Equity skewness portfolio'))"
   ]
  },
  {
   "cell_type": "code",
   "execution_count": null,
   "id": "fe7ef878",
   "metadata": {
    "execution": {
     "iopub.execute_input": "2020-11-07T07:09:33.264204Z",
     "iopub.status.busy": "2020-11-07T07:09:33.264076Z",
     "iopub.status.idle": "2020-11-07T07:09:53.595522Z",
     "shell.execute_reply": "2020-11-07T07:09:53.595030Z",
     "shell.execute_reply.started": "2020-11-07T07:09:33.264187Z"
    },
    "papermill": {
     "duration": null,
     "end_time": null,
     "exception": null,
     "start_time": null,
     "status": "pending"
    },
    "tags": []
   },
   "outputs": [],
   "source": [
    "engine_fixed_income = BacktestEngine(\n",
    "    strategy=Strategy.DELTA_ONE.value,\n",
    "    instrument=all_futures_baltas2019.query('asset_class == \"fixed_income\"').index,\n",
    "    signal=signal.XSSkewness(lookback=252, \n",
    "                             post_process=processing.Pipeline([\n",
    "                                 processing.Negate(),\n",
    "                                 processing.AsFreq(freq='m', method='pad')\n",
    "                             ])),\n",
    "    log_level=logging.WARN,\n",
    ")\n",
    "engine_fixed_income.run()"
   ]
  },
  {
   "cell_type": "code",
   "execution_count": null,
   "id": "7fa65997",
   "metadata": {
    "execution": {
     "iopub.execute_input": "2020-11-07T07:09:53.596827Z",
     "iopub.status.busy": "2020-11-07T07:09:53.596693Z",
     "iopub.status.idle": "2020-11-07T07:10:00.215533Z",
     "shell.execute_reply": "2020-11-07T07:10:00.215036Z",
     "shell.execute_reply.started": "2020-11-07T07:09:53.596810Z"
    },
    "papermill": {
     "duration": null,
     "end_time": null,
     "exception": null,
     "start_time": null,
     "status": "pending"
    },
    "tags": []
   },
   "outputs": [],
   "source": [
    "fixed_income_portfolio_return = (engine_fixed_income.calculate_equity_curve(calculate_net=False)\n",
    "                                 .rename('Fixed income skewness portfolio'))"
   ]
  },
  {
   "cell_type": "code",
   "execution_count": null,
   "id": "737c7eaa",
   "metadata": {
    "execution": {
     "iopub.execute_input": "2020-11-07T07:10:00.216412Z",
     "iopub.status.busy": "2020-11-07T07:10:00.216248Z",
     "iopub.status.idle": "2020-11-07T07:10:36.197227Z",
     "shell.execute_reply": "2020-11-07T07:10:36.196697Z",
     "shell.execute_reply.started": "2020-11-07T07:10:00.216394Z"
    },
    "papermill": {
     "duration": null,
     "end_time": null,
     "exception": null,
     "start_time": null,
     "status": "pending"
    },
    "tags": []
   },
   "outputs": [],
   "source": [
    "engine_currency = BacktestEngine(\n",
    "    strategy=Strategy.DELTA_ONE.value,\n",
    "    instrument=all_futures_baltas2019.query('asset_class == \"currency\"').index,\n",
    "    signal=signal.XSSkewness(lookback=252, \n",
    "                             post_process=processing.Pipeline([\n",
    "                                 processing.Negate(),\n",
    "                                 processing.AsFreq(freq='m', method='pad')\n",
    "                             ])),\n",
    "    log_level=logging.WARN,\n",
    ")\n",
    "engine_currency.run()"
   ]
  },
  {
   "cell_type": "code",
   "execution_count": null,
   "id": "8fc633d8",
   "metadata": {
    "execution": {
     "iopub.execute_input": "2020-11-07T07:10:36.197970Z",
     "iopub.status.busy": "2020-11-07T07:10:36.197835Z",
     "iopub.status.idle": "2020-11-07T07:10:48.377345Z",
     "shell.execute_reply": "2020-11-07T07:10:48.376635Z",
     "shell.execute_reply.started": "2020-11-07T07:10:36.197953Z"
    },
    "papermill": {
     "duration": null,
     "end_time": null,
     "exception": null,
     "start_time": null,
     "status": "pending"
    },
    "tags": []
   },
   "outputs": [],
   "source": [
    "currency_portfolio_return = (engine_currency.calculate_equity_curve(calculate_net=False)\n",
    "                             .rename('Currency skewness portfolio'))"
   ]
  },
  {
   "cell_type": "code",
   "execution_count": null,
   "id": "80764604",
   "metadata": {
    "ExecuteTime": {
     "end_time": "2020-09-02T20:45:59.608937Z",
     "start_time": "2020-09-02T20:45:59.405601Z"
    },
    "execution": {
     "iopub.execute_input": "2020-11-07T07:10:48.378605Z",
     "iopub.status.busy": "2020-11-07T07:10:48.378374Z",
     "iopub.status.idle": "2020-11-07T07:10:49.629916Z",
     "shell.execute_reply": "2020-11-07T07:10:49.629391Z",
     "shell.execute_reply.started": "2020-11-07T07:10:48.378574Z"
    },
    "papermill": {
     "duration": null,
     "end_time": null,
     "exception": null,
     "start_time": null,
     "status": "pending"
    },
    "tags": []
   },
   "outputs": [],
   "source": [
    "fig, ax = plt.subplots(2, 2, figsize=(14, 8), sharex=True)\n",
    "commodity_portfolio_return.plot(ax=ax[0][0], logy=True)\n",
    "equity_portfolio_return.plot(ax=ax[0][1], logy=True)\n",
    "fixed_income_portfolio_return.plot(ax=ax[1][0], logy=True)\n",
    "currency_portfolio_return.plot(ax=ax[1][1], logy=True)\n",
    "\n",
    "ax[0][0].set_title('Commodity skewness portfolio')\n",
    "ax[0][1].set_title('Equity skewness portfolio')\n",
    "ax[1][0].set_title('Fixed income skewness portfolio')\n",
    "ax[1][1].set_title('Currency skewness portfolio')\n",
    "ax[0][0].set_ylabel('Cumulative returns');\n",
    "ax[1][0].set_ylabel('Cumulative returns');"
   ]
  },
  {
   "cell_type": "code",
   "execution_count": null,
   "id": "40596702",
   "metadata": {
    "ExecuteTime": {
     "end_time": "2020-08-31T20:06:51.873126Z",
     "start_time": "2020-08-31T20:06:51.866509Z"
    },
    "execution": {
     "iopub.execute_input": "2020-11-07T07:10:49.630707Z",
     "iopub.status.busy": "2020-11-07T07:10:49.630572Z",
     "iopub.status.idle": "2020-11-07T07:10:50.194001Z",
     "shell.execute_reply": "2020-11-07T07:10:50.193493Z",
     "shell.execute_reply.started": "2020-11-07T07:10:49.630689Z"
    },
    "papermill": {
     "duration": null,
     "end_time": null,
     "exception": null,
     "start_time": null,
     "status": "pending"
    },
    "tags": []
   },
   "outputs": [],
   "source": [
    "pd.concat((\n",
    "    commodity_portfolio_return.pipe(Performance).summary(),\n",
    "    equity_portfolio_return.pipe(Performance).summary(),\n",
    "    fixed_income_portfolio_return.pipe(Performance).summary(),\n",
    "    currency_portfolio_return.pipe(Performance).summary(),\n",
    "), axis=1)"
   ]
  },
  {
   "cell_type": "markdown",
   "id": "e0eec80a",
   "metadata": {
    "papermill": {
     "duration": null,
     "end_time": null,
     "exception": null,
     "start_time": null,
     "status": "pending"
    },
    "tags": []
   },
   "source": [
    "## Performance since 1990\n",
    "In the original paper, performance since 1990 is reported. The result below confirms that all skewness based portfolios exhibited positive performance over time.\n",
    "Interestingly the equity portfolio somewhat performed weakly in the backtest. This could be due to the slightly different data set."
   ]
  },
  {
   "cell_type": "code",
   "execution_count": null,
   "id": "82d343dd",
   "metadata": {
    "execution": {
     "iopub.execute_input": "2020-11-07T07:10:50.194776Z",
     "iopub.status.busy": "2020-11-07T07:10:50.194635Z",
     "iopub.status.idle": "2020-11-07T07:10:51.308413Z",
     "shell.execute_reply": "2020-11-07T07:10:51.307966Z",
     "shell.execute_reply.started": "2020-11-07T07:10:50.194758Z"
    },
    "papermill": {
     "duration": null,
     "end_time": null,
     "exception": null,
     "start_time": null,
     "status": "pending"
    },
    "tags": []
   },
   "outputs": [],
   "source": [
    "fig, ax = plt.subplots(2, 2, figsize=(14, 8), sharex=True)\n",
    "commodity_portfolio_return['1990':].plot(ax=ax[0][0], logy=True)\n",
    "equity_portfolio_return['1990':].plot(ax=ax[0][1], logy=True)\n",
    "fixed_income_portfolio_return['1990':].plot(ax=ax[1][0], logy=True)\n",
    "currency_portfolio_return['1990':].plot(ax=ax[1][1], logy=True)\n",
    "\n",
    "ax[0][0].set_title('Commodity skewness portfolio')\n",
    "ax[0][1].set_title('Equity skewness portfolio')\n",
    "ax[1][0].set_title('Fixed income skewness portfolio')\n",
    "ax[1][1].set_title('Currency skewness portfolio')\n",
    "ax[0][0].set_ylabel('Cumulative returns');\n",
    "ax[1][0].set_ylabel('Cumulative returns');"
   ]
  },
  {
   "cell_type": "markdown",
   "id": "c9fa2c22",
   "metadata": {
    "papermill": {
     "duration": null,
     "end_time": null,
     "exception": null,
     "start_time": null,
     "status": "pending"
    },
    "tags": []
   },
   "source": [
    "## GSF\n",
    "The authors defines the global skewness factor (GSF) by combining the 4 asset classes with equal vol weighting. Here, the 4 backtests are simply combined with each ex-post realised volatility."
   ]
  },
  {
   "cell_type": "code",
   "execution_count": null,
   "id": "b4982080",
   "metadata": {
    "execution": {
     "iopub.execute_input": "2020-11-07T07:10:51.309183Z",
     "iopub.status.busy": "2020-11-07T07:10:51.309049Z",
     "iopub.status.idle": "2020-11-07T07:10:51.311866Z",
     "shell.execute_reply": "2020-11-07T07:10:51.311447Z",
     "shell.execute_reply.started": "2020-11-07T07:10:51.309164Z"
    },
    "papermill": {
     "duration": null,
     "end_time": null,
     "exception": null,
     "start_time": null,
     "status": "pending"
    },
    "tags": []
   },
   "outputs": [],
   "source": [
    "def get_leverage(equity_curve: pd.Series) -> float:\n",
    "    return 0.1 / (equity_curve.pct_change().std() * (252 ** 0.5))"
   ]
  },
  {
   "cell_type": "code",
   "execution_count": null,
   "id": "7a874874",
   "metadata": {
    "execution": {
     "iopub.execute_input": "2020-11-07T07:10:51.312568Z",
     "iopub.status.busy": "2020-11-07T07:10:51.312422Z",
     "iopub.status.idle": "2020-11-07T07:10:51.346292Z",
     "shell.execute_reply": "2020-11-07T07:10:51.345673Z",
     "shell.execute_reply.started": "2020-11-07T07:10:51.312551Z"
    },
    "papermill": {
     "duration": null,
     "end_time": null,
     "exception": null,
     "start_time": null,
     "status": "pending"
    },
    "tags": []
   },
   "outputs": [],
   "source": [
    "gsf = pd.concat((\n",
    "    commodity_portfolio_return.pct_change() * get_leverage(commodity_portfolio_return),\n",
    "    equity_portfolio_return.pct_change() * get_leverage(equity_portfolio_return),\n",
    "    fixed_income_portfolio_return.pct_change() * get_leverage(fixed_income_portfolio_return),\n",
    "    currency_portfolio_return.pct_change() * get_leverage(currency_portfolio_return),\n",
    "), axis=1).mean(axis=1)\n",
    "gsf = gsf.fillna(0).add(1).cumprod().rename('GSF')"
   ]
  },
  {
   "cell_type": "code",
   "execution_count": null,
   "id": "0bf2b9fe",
   "metadata": {
    "execution": {
     "iopub.execute_input": "2020-11-07T07:10:51.347533Z",
     "iopub.status.busy": "2020-11-07T07:10:51.347313Z",
     "iopub.status.idle": "2020-11-07T07:10:51.804041Z",
     "shell.execute_reply": "2020-11-07T07:10:51.803572Z",
     "shell.execute_reply.started": "2020-11-07T07:10:51.347505Z"
    },
    "papermill": {
     "duration": null,
     "end_time": null,
     "exception": null,
     "start_time": null,
     "status": "pending"
    },
    "tags": []
   },
   "outputs": [],
   "source": [
    "fig, ax = plt.subplots(1, 2, figsize=(14, 4))\n",
    "gsf.plot(ax=ax[0], logy=True);\n",
    "gsf['1990':].plot(ax=ax[1], logy=True);\n",
    "ax[0].set_title('GSF portfolio')\n",
    "ax[1].set_title('Since 1990')\n",
    "ax[0].set_ylabel('Cumulative returns');"
   ]
  },
  {
   "cell_type": "code",
   "execution_count": null,
   "id": "6d21eade",
   "metadata": {
    "execution": {
     "iopub.execute_input": "2020-11-07T07:10:51.804740Z",
     "iopub.status.busy": "2020-11-07T07:10:51.804611Z",
     "iopub.status.idle": "2020-11-07T07:10:52.084632Z",
     "shell.execute_reply": "2020-11-07T07:10:52.084162Z",
     "shell.execute_reply.started": "2020-11-07T07:10:51.804722Z"
    },
    "papermill": {
     "duration": null,
     "end_time": null,
     "exception": null,
     "start_time": null,
     "status": "pending"
    },
    "tags": []
   },
   "outputs": [],
   "source": [
    "pd.concat((\n",
    "    gsf.pipe(Performance).summary(),\n",
    "    gsf['1990':].pipe(Performance).summary().add_suffix(' (since 1990)')\n",
    "), axis=1)"
   ]
  },
  {
   "cell_type": "markdown",
   "id": "04faf7d1",
   "metadata": {
    "papermill": {
     "duration": null,
     "end_time": null,
     "exception": null,
     "start_time": null,
     "status": "pending"
    },
    "tags": []
   },
   "source": [
    "## Post publication"
   ]
  },
  {
   "cell_type": "code",
   "execution_count": null,
   "id": "1c244948",
   "metadata": {
    "execution": {
     "iopub.execute_input": "2020-11-07T07:10:52.085318Z",
     "iopub.status.busy": "2020-11-07T07:10:52.085173Z",
     "iopub.status.idle": "2020-11-07T07:10:52.650144Z",
     "shell.execute_reply": "2020-11-07T07:10:52.649648Z",
     "shell.execute_reply.started": "2020-11-07T07:10:52.085300Z"
    },
    "papermill": {
     "duration": null,
     "end_time": null,
     "exception": null,
     "start_time": null,
     "status": "pending"
    },
    "tags": []
   },
   "outputs": [],
   "source": [
    "publication_date = datetime(2019, 12, 16)\n",
    "\n",
    "fig, ax = plt.subplots(1, 2, figsize=(14, 4))\n",
    "gsf.plot(ax=ax[0], logy=True);\n",
    "ax[0].set_title('GSF portfolio')\n",
    "ax[0].set_ylabel('Cumulative returns');\n",
    "ax[0].axvline(publication_date, lw=1, ls='--', color='black')\n",
    "ax[0].text(publication_date, 0.6, 'Publication date ', ha='right')\n",
    "\n",
    "gsf.loc[publication_date:].plot(ax=ax[1], logy=True);\n",
    "ax[1].set_title('GSF portfolio (post publication)');"
   ]
  },
  {
   "cell_type": "markdown",
   "id": "e2d338b2",
   "metadata": {
    "papermill": {
     "duration": null,
     "end_time": null,
     "exception": null,
     "start_time": null,
     "status": "pending"
    },
    "tags": []
   },
   "source": [
    "## Recent performance"
   ]
  },
  {
   "cell_type": "code",
   "execution_count": null,
   "id": "c328b57d",
   "metadata": {
    "execution": {
     "iopub.execute_input": "2020-11-07T07:10:52.650965Z",
     "iopub.status.busy": "2020-11-07T07:10:52.650823Z",
     "iopub.status.idle": "2020-11-07T07:10:52.938649Z",
     "shell.execute_reply": "2020-11-07T07:10:52.938108Z",
     "shell.execute_reply.started": "2020-11-07T07:10:52.650943Z"
    },
    "papermill": {
     "duration": null,
     "end_time": null,
     "exception": null,
     "start_time": null,
     "status": "pending"
    },
    "tags": []
   },
   "outputs": [],
   "source": [
    "fig, ax = plt.subplots(figsize=(8, 4.5))\n",
    "gsf.tail(252 * 2).plot(ax=ax, logy=True);\n",
    "ax.set_title('GSF portfolio')\n",
    "ax.set_ylabel('Cumulative returns');"
   ]
  },
  {
   "cell_type": "markdown",
   "id": "d3548e4c",
   "metadata": {
    "papermill": {
     "duration": null,
     "end_time": null,
     "exception": null,
     "start_time": null,
     "status": "pending"
    },
    "tags": []
   },
   "source": [
    "# Reference\n",
    "- Baltas, N. and Salinas, G., 2019. Cross-Asset Skew. Available at SSRN."
   ]
  },
  {
   "cell_type": "code",
   "execution_count": null,
   "id": "55ca0556",
   "metadata": {
    "ExecuteTime": {
     "end_time": "2020-08-31T05:52:23.734170Z",
     "start_time": "2020-08-31T05:52:23.731627Z"
    },
    "execution": {
     "iopub.execute_input": "2020-11-07T07:10:52.939437Z",
     "iopub.status.busy": "2020-11-07T07:10:52.939294Z",
     "iopub.status.idle": "2020-11-07T07:10:52.942409Z",
     "shell.execute_reply": "2020-11-07T07:10:52.941955Z",
     "shell.execute_reply.started": "2020-11-07T07:10:52.939418Z"
    },
    "papermill": {
     "duration": null,
     "end_time": null,
     "exception": null,
     "start_time": null,
     "status": "pending"
    },
    "tags": []
   },
   "outputs": [],
   "source": [
    "print(f'Updated: {datetime.utcnow().strftime(\"%d-%b-%Y %H:%M\")}')"
   ]
  }
 ],
 "metadata": {
  "kernelspec": {
   "display_name": "Python 3",
   "language": "python",
   "name": "python3"
  },
  "language_info": {
   "codemirror_mode": {
    "name": "ipython",
    "version": 3
   },
   "file_extension": ".py",
   "mimetype": "text/x-python",
   "name": "python",
   "nbconvert_exporter": "python",
   "pygments_lexer": "ipython3",
   "version": "3.9.6"
  },
  "papermill": {
   "default_parameters": {},
   "duration": 433.72384,
   "end_time": "2023-01-04T07:04:36.396490",
   "environment_variables": {},
   "exception": true,
   "input_path": "notebooks/papermill/cross_asset_skewness.ipynb",
   "output_path": "notebooks/cross_asset_skewness.ipynb",
   "parameters": {},
   "start_time": "2023-01-04T06:57:22.672650",
   "version": "2.4.0"
  },
  "toc": {
   "base_numbering": 1,
   "nav_menu": {},
   "number_sections": true,
   "sideBar": true,
   "skip_h1_title": false,
   "title_cell": "Table of Contents",
   "title_sidebar": "Contents",
   "toc_cell": true,
   "toc_position": {
    "height": "calc(100% - 180px)",
    "left": "10px",
    "top": "150px",
    "width": "165px"
   },
   "toc_section_display": true,
   "toc_window_display": true
  },
  "toc-autonumbering": true,
  "toc-showmarkdowntxt": true,
  "toc-showtags": false
 },
 "nbformat": 4,
 "nbformat_minor": 5
}