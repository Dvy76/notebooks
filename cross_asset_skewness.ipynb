{
 "cells": [
  {
   "cell_type": "markdown",
   "id": "4a0a7ae1",
   "metadata": {
    "papermill": {
     "duration": 0.009068,
     "end_time": "2022-06-16T09:49:53.442839",
     "exception": false,
     "start_time": "2022-06-16T09:49:53.433771",
     "status": "completed"
    },
    "tags": []
   },
   "source": [
    "# Cross-asset skewness\n",
    "\n",
    "This notebook analyses cross-asset cross-sectional skewness strategy. The strategy takes long positions on contracts with most negative historical skewness and short positions on ones with most positive skewness."
   ]
  },
  {
   "cell_type": "code",
   "execution_count": 1,
   "id": "178df88a",
   "metadata": {
    "ExecuteTime": {
     "end_time": "2020-08-31T19:29:24.852122Z",
     "start_time": "2020-08-31T19:29:24.038266Z"
    },
    "execution": {
     "iopub.execute_input": "2022-06-16T09:49:53.460386Z",
     "iopub.status.busy": "2022-06-16T09:49:53.459827Z",
     "iopub.status.idle": "2022-06-16T09:49:57.119661Z",
     "shell.execute_reply": "2022-06-16T09:49:57.119069Z"
    },
    "papermill": {
     "duration": 3.671246,
     "end_time": "2022-06-16T09:49:57.121837",
     "exception": false,
     "start_time": "2022-06-16T09:49:53.450591",
     "status": "completed"
    },
    "tags": []
   },
   "outputs": [],
   "source": [
    "%matplotlib inline\n",
    "from datetime import datetime\n",
    "import logging\n",
    "import warnings\n",
    "warnings.simplefilter(action='ignore', category=FutureWarning)\n",
    "\n",
    "import pandas as pd\n",
    "import matplotlib.pyplot as plt\n",
    "import matplotlib.ticker as mticker\n",
    "plt.style.use('bmh')\n",
    "\n",
    "from vivace.backtest import signal\n",
    "from vivace.backtest import processing\n",
    "from vivace.backtest.contract import all_futures_baltas2019\n",
    "from vivace.backtest.engine import BacktestEngine\n",
    "from vivace.backtest.enums import Strategy\n",
    "from vivace.backtest.stats import Performance"
   ]
  },
  {
   "cell_type": "markdown",
   "id": "36082004",
   "metadata": {
    "papermill": {
     "duration": 0.010698,
     "end_time": "2022-06-16T09:49:57.142566",
     "exception": false,
     "start_time": "2022-06-16T09:49:57.131868",
     "status": "completed"
    },
    "tags": []
   },
   "source": [
    "# Data\n",
    "\n",
    "Various futures contracts in commodity, currency, government bond futures and equity index futures are tested. Some contracts are missing in this data set due to data availability."
   ]
  },
  {
   "cell_type": "code",
   "execution_count": 2,
   "id": "f118e6c1",
   "metadata": {
    "ExecuteTime": {
     "end_time": "2020-08-31T19:29:25.399795Z",
     "start_time": "2020-08-31T19:29:25.371862Z"
    },
    "execution": {
     "iopub.execute_input": "2022-06-16T09:49:57.161435Z",
     "iopub.status.busy": "2022-06-16T09:49:57.160666Z",
     "iopub.status.idle": "2022-06-16T09:49:57.179252Z",
     "shell.execute_reply": "2022-06-16T09:49:57.178577Z"
    },
    "papermill": {
     "duration": 0.029823,
     "end_time": "2022-06-16T09:49:57.181277",
     "exception": false,
     "start_time": "2022-06-16T09:49:57.151454",
     "status": "completed"
    },
    "tags": []
   },
   "outputs": [
    {
     "data": {
      "text/html": [
       "<div>\n",
       "<style scoped>\n",
       "    .dataframe tbody tr th:only-of-type {\n",
       "        vertical-align: middle;\n",
       "    }\n",
       "\n",
       "    .dataframe tbody tr th {\n",
       "        vertical-align: top;\n",
       "    }\n",
       "\n",
       "    .dataframe thead th {\n",
       "        text-align: right;\n",
       "    }\n",
       "</style>\n",
       "<table border=\"1\" class=\"dataframe\">\n",
       "  <thead>\n",
       "    <tr style=\"text-align: right;\">\n",
       "      <th></th>\n",
       "      <th>name</th>\n",
       "      <th>asset_class</th>\n",
       "    </tr>\n",
       "    <tr>\n",
       "      <th>ticker</th>\n",
       "      <th></th>\n",
       "      <th></th>\n",
       "    </tr>\n",
       "  </thead>\n",
       "  <tbody>\n",
       "    <tr>\n",
       "      <th>LA</th>\n",
       "      <td>Aluminium</td>\n",
       "      <td>commodity</td>\n",
       "    </tr>\n",
       "    <tr>\n",
       "      <th>CO</th>\n",
       "      <td>Brent Crude Oil</td>\n",
       "      <td>commodity</td>\n",
       "    </tr>\n",
       "    <tr>\n",
       "      <th>CC</th>\n",
       "      <td>Cocoa</td>\n",
       "      <td>commodity</td>\n",
       "    </tr>\n",
       "    <tr>\n",
       "      <th>KC</th>\n",
       "      <td>Coffee</td>\n",
       "      <td>commodity</td>\n",
       "    </tr>\n",
       "    <tr>\n",
       "      <th>HG</th>\n",
       "      <td>Copper</td>\n",
       "      <td>commodity</td>\n",
       "    </tr>\n",
       "    <tr>\n",
       "      <th>C</th>\n",
       "      <td>Corn</td>\n",
       "      <td>commodity</td>\n",
       "    </tr>\n",
       "    <tr>\n",
       "      <th>CT</th>\n",
       "      <td>Cotton</td>\n",
       "      <td>commodity</td>\n",
       "    </tr>\n",
       "    <tr>\n",
       "      <th>CL</th>\n",
       "      <td>WTI Crude Oil</td>\n",
       "      <td>commodity</td>\n",
       "    </tr>\n",
       "    <tr>\n",
       "      <th>FC</th>\n",
       "      <td>Feeder Cattle</td>\n",
       "      <td>commodity</td>\n",
       "    </tr>\n",
       "    <tr>\n",
       "      <th>QS</th>\n",
       "      <td>Gas Oil</td>\n",
       "      <td>commodity</td>\n",
       "    </tr>\n",
       "    <tr>\n",
       "      <th>GC</th>\n",
       "      <td>Gold</td>\n",
       "      <td>commodity</td>\n",
       "    </tr>\n",
       "    <tr>\n",
       "      <th>HO</th>\n",
       "      <td>Heating Oil</td>\n",
       "      <td>commodity</td>\n",
       "    </tr>\n",
       "    <tr>\n",
       "      <th>LH</th>\n",
       "      <td>Lean Hog</td>\n",
       "      <td>commodity</td>\n",
       "    </tr>\n",
       "    <tr>\n",
       "      <th>LC</th>\n",
       "      <td>Live Cattle</td>\n",
       "      <td>commodity</td>\n",
       "    </tr>\n",
       "    <tr>\n",
       "      <th>NG</th>\n",
       "      <td>Natural Gas</td>\n",
       "      <td>commodity</td>\n",
       "    </tr>\n",
       "    <tr>\n",
       "      <th>LN</th>\n",
       "      <td>Nickel</td>\n",
       "      <td>commodity</td>\n",
       "    </tr>\n",
       "    <tr>\n",
       "      <th>SI</th>\n",
       "      <td>Silver</td>\n",
       "      <td>commodity</td>\n",
       "    </tr>\n",
       "    <tr>\n",
       "      <th>S</th>\n",
       "      <td>Soybean</td>\n",
       "      <td>commodity</td>\n",
       "    </tr>\n",
       "    <tr>\n",
       "      <th>SB</th>\n",
       "      <td>Sugar</td>\n",
       "      <td>commodity</td>\n",
       "    </tr>\n",
       "    <tr>\n",
       "      <th>XB</th>\n",
       "      <td>Gasoline</td>\n",
       "      <td>commodity</td>\n",
       "    </tr>\n",
       "    <tr>\n",
       "      <th>W</th>\n",
       "      <td>Wheat</td>\n",
       "      <td>commodity</td>\n",
       "    </tr>\n",
       "    <tr>\n",
       "      <th>KW</th>\n",
       "      <td>Wheat Kansas</td>\n",
       "      <td>commodity</td>\n",
       "    </tr>\n",
       "    <tr>\n",
       "      <th>LX</th>\n",
       "      <td>Zinc</td>\n",
       "      <td>commodity</td>\n",
       "    </tr>\n",
       "    <tr>\n",
       "      <th>AD</th>\n",
       "      <td>Australian Dollar</td>\n",
       "      <td>currency</td>\n",
       "    </tr>\n",
       "    <tr>\n",
       "      <th>CD</th>\n",
       "      <td>Canadian Dollar</td>\n",
       "      <td>currency</td>\n",
       "    </tr>\n",
       "    <tr>\n",
       "      <th>SF</th>\n",
       "      <td>Swiss Franc</td>\n",
       "      <td>currency</td>\n",
       "    </tr>\n",
       "    <tr>\n",
       "      <th>EC</th>\n",
       "      <td>Euro</td>\n",
       "      <td>currency</td>\n",
       "    </tr>\n",
       "    <tr>\n",
       "      <th>BP</th>\n",
       "      <td>British Pound</td>\n",
       "      <td>currency</td>\n",
       "    </tr>\n",
       "    <tr>\n",
       "      <th>JY</th>\n",
       "      <td>Japanese Yen</td>\n",
       "      <td>currency</td>\n",
       "    </tr>\n",
       "    <tr>\n",
       "      <th>ZB</th>\n",
       "      <td>New Zealand Dollar</td>\n",
       "      <td>currency</td>\n",
       "    </tr>\n",
       "    <tr>\n",
       "      <th>SE</th>\n",
       "      <td>Swedish Krona</td>\n",
       "      <td>currency</td>\n",
       "    </tr>\n",
       "    <tr>\n",
       "      <th>XM</th>\n",
       "      <td>Australia 10-year Treasury</td>\n",
       "      <td>fixed_income</td>\n",
       "    </tr>\n",
       "    <tr>\n",
       "      <th>CG</th>\n",
       "      <td>Canada 10-year Treasury</td>\n",
       "      <td>fixed_income</td>\n",
       "    </tr>\n",
       "    <tr>\n",
       "      <th>FGBL</th>\n",
       "      <td>Germany Bund</td>\n",
       "      <td>fixed_income</td>\n",
       "    </tr>\n",
       "    <tr>\n",
       "      <th>FOAT</th>\n",
       "      <td>France OAT</td>\n",
       "      <td>fixed_income</td>\n",
       "    </tr>\n",
       "    <tr>\n",
       "      <th>G</th>\n",
       "      <td>Gilt</td>\n",
       "      <td>fixed_income</td>\n",
       "    </tr>\n",
       "    <tr>\n",
       "      <th>FBTP</th>\n",
       "      <td>Italy BTP Long Term</td>\n",
       "      <td>fixed_income</td>\n",
       "    </tr>\n",
       "    <tr>\n",
       "      <th>JB</th>\n",
       "      <td>JGB</td>\n",
       "      <td>fixed_income</td>\n",
       "    </tr>\n",
       "    <tr>\n",
       "      <th>TY</th>\n",
       "      <td>US 10-year Treasury</td>\n",
       "      <td>fixed_income</td>\n",
       "    </tr>\n",
       "    <tr>\n",
       "      <th>AP</th>\n",
       "      <td>SPI 200</td>\n",
       "      <td>equity</td>\n",
       "    </tr>\n",
       "    <tr>\n",
       "      <th>BZ</th>\n",
       "      <td>Ibovespa</td>\n",
       "      <td>equity</td>\n",
       "    </tr>\n",
       "    <tr>\n",
       "      <th>FSMI</th>\n",
       "      <td>Swiss Market Index</td>\n",
       "      <td>equity</td>\n",
       "    </tr>\n",
       "    <tr>\n",
       "      <th>HC</th>\n",
       "      <td>HSCEI</td>\n",
       "      <td>equity</td>\n",
       "    </tr>\n",
       "    <tr>\n",
       "      <th>FDAX</th>\n",
       "      <td>DAX</td>\n",
       "      <td>equity</td>\n",
       "    </tr>\n",
       "    <tr>\n",
       "      <th>IB</th>\n",
       "      <td>IBEX 35</td>\n",
       "      <td>equity</td>\n",
       "    </tr>\n",
       "    <tr>\n",
       "      <th>CF</th>\n",
       "      <td>CAC 40</td>\n",
       "      <td>equity</td>\n",
       "    </tr>\n",
       "    <tr>\n",
       "      <th>Z</th>\n",
       "      <td>FTSE 100</td>\n",
       "      <td>equity</td>\n",
       "    </tr>\n",
       "    <tr>\n",
       "      <th>HI</th>\n",
       "      <td>Hang Seng</td>\n",
       "      <td>equity</td>\n",
       "    </tr>\n",
       "    <tr>\n",
       "      <th>TP</th>\n",
       "      <td>Topix</td>\n",
       "      <td>equity</td>\n",
       "    </tr>\n",
       "    <tr>\n",
       "      <th>AE</th>\n",
       "      <td>AEX</td>\n",
       "      <td>equity</td>\n",
       "    </tr>\n",
       "    <tr>\n",
       "      <th>QC</th>\n",
       "      <td>OMXS30</td>\n",
       "      <td>equity</td>\n",
       "    </tr>\n",
       "    <tr>\n",
       "      <th>SP</th>\n",
       "      <td>S&amp;P 500</td>\n",
       "      <td>equity</td>\n",
       "    </tr>\n",
       "  </tbody>\n",
       "</table>\n",
       "</div>"
      ],
      "text/plain": [
       "                              name   asset_class\n",
       "ticker                                          \n",
       "LA                       Aluminium     commodity\n",
       "CO                 Brent Crude Oil     commodity\n",
       "CC                           Cocoa     commodity\n",
       "KC                          Coffee     commodity\n",
       "HG                          Copper     commodity\n",
       "C                             Corn     commodity\n",
       "CT                          Cotton     commodity\n",
       "CL                   WTI Crude Oil     commodity\n",
       "FC                   Feeder Cattle     commodity\n",
       "QS                         Gas Oil     commodity\n",
       "GC                            Gold     commodity\n",
       "HO                     Heating Oil     commodity\n",
       "LH                        Lean Hog     commodity\n",
       "LC                     Live Cattle     commodity\n",
       "NG                     Natural Gas     commodity\n",
       "LN                          Nickel     commodity\n",
       "SI                          Silver     commodity\n",
       "S                          Soybean     commodity\n",
       "SB                           Sugar     commodity\n",
       "XB                        Gasoline     commodity\n",
       "W                            Wheat     commodity\n",
       "KW                    Wheat Kansas     commodity\n",
       "LX                            Zinc     commodity\n",
       "AD               Australian Dollar      currency\n",
       "CD                 Canadian Dollar      currency\n",
       "SF                     Swiss Franc      currency\n",
       "EC                            Euro      currency\n",
       "BP                   British Pound      currency\n",
       "JY                    Japanese Yen      currency\n",
       "ZB              New Zealand Dollar      currency\n",
       "SE                   Swedish Krona      currency\n",
       "XM      Australia 10-year Treasury  fixed_income\n",
       "CG         Canada 10-year Treasury  fixed_income\n",
       "FGBL                  Germany Bund  fixed_income\n",
       "FOAT                    France OAT  fixed_income\n",
       "G                             Gilt  fixed_income\n",
       "FBTP           Italy BTP Long Term  fixed_income\n",
       "JB                             JGB  fixed_income\n",
       "TY             US 10-year Treasury  fixed_income\n",
       "AP                         SPI 200        equity\n",
       "BZ                        Ibovespa        equity\n",
       "FSMI            Swiss Market Index        equity\n",
       "HC                           HSCEI        equity\n",
       "FDAX                           DAX        equity\n",
       "IB                         IBEX 35        equity\n",
       "CF                          CAC 40        equity\n",
       "Z                         FTSE 100        equity\n",
       "HI                       Hang Seng        equity\n",
       "TP                           Topix        equity\n",
       "AE                             AEX        equity\n",
       "QC                          OMXS30        equity\n",
       "SP                         S&P 500        equity"
      ]
     },
     "execution_count": 2,
     "metadata": {},
     "output_type": "execute_result"
    }
   ],
   "source": [
    "all_futures_baltas2019"
   ]
  },
  {
   "cell_type": "code",
   "execution_count": 3,
   "id": "141ca766",
   "metadata": {
    "ExecuteTime": {
     "end_time": "2020-08-31T19:29:26.170389Z",
     "start_time": "2020-08-31T19:29:26.166205Z"
    },
    "execution": {
     "iopub.execute_input": "2022-06-16T09:49:57.198719Z",
     "iopub.status.busy": "2022-06-16T09:49:57.198537Z",
     "iopub.status.idle": "2022-06-16T09:49:57.203246Z",
     "shell.execute_reply": "2022-06-16T09:49:57.202628Z"
    },
    "papermill": {
     "duration": 0.015526,
     "end_time": "2022-06-16T09:49:57.204797",
     "exception": false,
     "start_time": "2022-06-16T09:49:57.189271",
     "status": "completed"
    },
    "tags": []
   },
   "outputs": [
    {
     "data": {
      "text/plain": [
       "(52, 2)"
      ]
     },
     "execution_count": 3,
     "metadata": {},
     "output_type": "execute_result"
    }
   ],
   "source": [
    "all_futures_baltas2019.shape"
   ]
  },
  {
   "cell_type": "markdown",
   "id": "b40181d0",
   "metadata": {
    "papermill": {
     "duration": 0.008337,
     "end_time": "2022-06-16T09:49:57.221606",
     "exception": false,
     "start_time": "2022-06-16T09:49:57.213269",
     "status": "completed"
    },
    "tags": []
   },
   "source": [
    "# Performance"
   ]
  },
  {
   "cell_type": "markdown",
   "id": "142e9c5d",
   "metadata": {
    "papermill": {
     "duration": 0.010866,
     "end_time": "2022-06-16T09:49:57.242205",
     "exception": false,
     "start_time": "2022-06-16T09:49:57.231339",
     "status": "completed"
    },
    "tags": []
   },
   "source": [
    "## Run backtest\n",
    "\n",
    "For each asset class, a simple portfolio is constructed by using trailing 1-year returns of each futures. Unlike studies in equities, the recent 1-month is included in the formation period. Positions are rebalanced on a monthly basis."
   ]
  },
  {
   "cell_type": "code",
   "execution_count": 4,
   "id": "5bf2f057",
   "metadata": {
    "execution": {
     "iopub.execute_input": "2022-06-16T09:49:57.266020Z",
     "iopub.status.busy": "2022-06-16T09:49:57.265811Z",
     "iopub.status.idle": "2022-06-16T09:54:30.101111Z",
     "shell.execute_reply": "2022-06-16T09:54:30.100519Z"
    },
    "papermill": {
     "duration": 272.849331,
     "end_time": "2022-06-16T09:54:30.102781",
     "exception": false,
     "start_time": "2022-06-16T09:49:57.253450",
     "status": "completed"
    },
    "tags": []
   },
   "outputs": [],
   "source": [
    "engine_commodity = BacktestEngine(\n",
    "    strategy=Strategy.DELTA_ONE.value,\n",
    "    instrument=all_futures_baltas2019.query('asset_class == \"commodity\"').index,\n",
    "    signal=signal.XSSkewness(lookback=252, \n",
    "                             post_process=processing.Pipeline([\n",
    "                                 processing.Negate(),\n",
    "                                 processing.AsFreq(freq='m', method='pad')\n",
    "                             ])),\n",
    "    log_level=logging.WARN,\n",
    ")\n",
    "engine_commodity.run()"
   ]
  },
  {
   "cell_type": "code",
   "execution_count": 5,
   "id": "1570b12e",
   "metadata": {
    "ExecuteTime": {
     "end_time": "2020-09-02T20:42:14.779932Z",
     "start_time": "2020-09-02T20:40:39.222688Z"
    },
    "execution": {
     "iopub.execute_input": "2022-06-16T09:54:30.123241Z",
     "iopub.status.busy": "2022-06-16T09:54:30.122768Z",
     "iopub.status.idle": "2022-06-16T09:56:16.441971Z",
     "shell.execute_reply": "2022-06-16T09:56:16.441391Z"
    },
    "papermill": {
     "duration": 106.330717,
     "end_time": "2022-06-16T09:56:16.444087",
     "exception": false,
     "start_time": "2022-06-16T09:54:30.113370",
     "status": "completed"
    },
    "tags": []
   },
   "outputs": [],
   "source": [
    "commodity_portfolio_return = (engine_commodity.calculate_equity_curve(calculate_net=False)\n",
    "                              .rename('Commodity skewness portfolio'))"
   ]
  },
  {
   "cell_type": "code",
   "execution_count": 6,
   "id": "2ee8e054",
   "metadata": {
    "execution": {
     "iopub.execute_input": "2022-06-16T09:56:16.471149Z",
     "iopub.status.busy": "2022-06-16T09:56:16.470869Z",
     "iopub.status.idle": "2022-06-16T09:57:47.672468Z",
     "shell.execute_reply": "2022-06-16T09:57:47.671894Z"
    },
    "papermill": {
     "duration": 91.217261,
     "end_time": "2022-06-16T09:57:47.674167",
     "exception": false,
     "start_time": "2022-06-16T09:56:16.456906",
     "status": "completed"
    },
    "tags": []
   },
   "outputs": [],
   "source": [
    "engine_equity = BacktestEngine(\n",
    "    strategy=Strategy.DELTA_ONE.value,\n",
    "    instrument=all_futures_baltas2019.query('asset_class == \"equity\"').index,\n",
    "    signal=signal.XSSkewness(lookback=252, \n",
    "                             post_process=processing.Pipeline([\n",
    "                                 processing.Negate(),\n",
    "                                 processing.AsFreq(freq='m', method='pad')\n",
    "                             ])),\n",
    "    log_level=logging.WARN,\n",
    ")\n",
    "engine_equity.run()"
   ]
  },
  {
   "cell_type": "code",
   "execution_count": 7,
   "id": "4eea74dc",
   "metadata": {
    "execution": {
     "iopub.execute_input": "2022-06-16T09:57:47.692512Z",
     "iopub.status.busy": "2022-06-16T09:57:47.692273Z",
     "iopub.status.idle": "2022-06-16T09:58:12.554036Z",
     "shell.execute_reply": "2022-06-16T09:58:12.553429Z"
    },
    "papermill": {
     "duration": 24.873536,
     "end_time": "2022-06-16T09:58:12.555691",
     "exception": false,
     "start_time": "2022-06-16T09:57:47.682155",
     "status": "completed"
    },
    "tags": []
   },
   "outputs": [],
   "source": [
    "equity_portfolio_return = (engine_equity.calculate_equity_curve(calculate_net=False)\n",
    "                           .rename('Equity skewness portfolio'))"
   ]
  },
  {
   "cell_type": "code",
   "execution_count": 8,
   "id": "65d365fa",
   "metadata": {
    "execution": {
     "iopub.execute_input": "2022-06-16T09:58:12.573869Z",
     "iopub.status.busy": "2022-06-16T09:58:12.573677Z",
     "iopub.status.idle": "2022-06-16T09:58:44.814550Z",
     "shell.execute_reply": "2022-06-16T09:58:44.813942Z"
    },
    "papermill": {
     "duration": 32.252116,
     "end_time": "2022-06-16T09:58:44.816636",
     "exception": false,
     "start_time": "2022-06-16T09:58:12.564520",
     "status": "completed"
    },
    "tags": []
   },
   "outputs": [],
   "source": [
    "engine_fixed_income = BacktestEngine(\n",
    "    strategy=Strategy.DELTA_ONE.value,\n",
    "    instrument=all_futures_baltas2019.query('asset_class == \"fixed_income\"').index,\n",
    "    signal=signal.XSSkewness(lookback=252, \n",
    "                             post_process=processing.Pipeline([\n",
    "                                 processing.Negate(),\n",
    "                                 processing.AsFreq(freq='m', method='pad')\n",
    "                             ])),\n",
    "    log_level=logging.WARN,\n",
    ")\n",
    "engine_fixed_income.run()"
   ]
  },
  {
   "cell_type": "code",
   "execution_count": 9,
   "id": "1cddeddc",
   "metadata": {
    "execution": {
     "iopub.execute_input": "2022-06-16T09:58:44.839273Z",
     "iopub.status.busy": "2022-06-16T09:58:44.839080Z",
     "iopub.status.idle": "2022-06-16T09:58:53.396610Z",
     "shell.execute_reply": "2022-06-16T09:58:53.396054Z"
    },
    "papermill": {
     "duration": 8.569887,
     "end_time": "2022-06-16T09:58:53.398366",
     "exception": false,
     "start_time": "2022-06-16T09:58:44.828479",
     "status": "completed"
    },
    "tags": []
   },
   "outputs": [],
   "source": [
    "fixed_income_portfolio_return = (engine_fixed_income.calculate_equity_curve(calculate_net=False)\n",
    "                                 .rename('Fixed income skewness portfolio'))"
   ]
  },
  {
   "cell_type": "code",
   "execution_count": 10,
   "id": "fc9f7f4f",
   "metadata": {
    "execution": {
     "iopub.execute_input": "2022-06-16T09:58:53.419819Z",
     "iopub.status.busy": "2022-06-16T09:58:53.419494Z",
     "iopub.status.idle": "2022-06-16T09:59:41.481697Z",
     "shell.execute_reply": "2022-06-16T09:59:41.481144Z"
    },
    "papermill": {
     "duration": 48.076525,
     "end_time": "2022-06-16T09:59:41.483842",
     "exception": false,
     "start_time": "2022-06-16T09:58:53.407317",
     "status": "completed"
    },
    "tags": []
   },
   "outputs": [],
   "source": [
    "engine_currency = BacktestEngine(\n",
    "    strategy=Strategy.DELTA_ONE.value,\n",
    "    instrument=all_futures_baltas2019.query('asset_class == \"currency\"').index,\n",
    "    signal=signal.XSSkewness(lookback=252, \n",
    "                             post_process=processing.Pipeline([\n",
    "                                 processing.Negate(),\n",
    "                                 processing.AsFreq(freq='m', method='pad')\n",
    "                             ])),\n",
    "    log_level=logging.WARN,\n",
    ")\n",
    "engine_currency.run()"
   ]
  },
  {
   "cell_type": "code",
   "execution_count": 11,
   "id": "7a98a3ad",
   "metadata": {
    "execution": {
     "iopub.execute_input": "2022-06-16T09:59:41.508520Z",
     "iopub.status.busy": "2022-06-16T09:59:41.508258Z",
     "iopub.status.idle": "2022-06-16T09:59:55.793446Z",
     "shell.execute_reply": "2022-06-16T09:59:55.792770Z"
    },
    "papermill": {
     "duration": 14.300566,
     "end_time": "2022-06-16T09:59:55.795661",
     "exception": false,
     "start_time": "2022-06-16T09:59:41.495095",
     "status": "completed"
    },
    "tags": []
   },
   "outputs": [],
   "source": [
    "currency_portfolio_return = (engine_currency.calculate_equity_curve(calculate_net=False)\n",
    "                             .rename('Currency skewness portfolio'))"
   ]
  },
  {
   "cell_type": "code",
   "execution_count": 12,
   "id": "20cdee64",
   "metadata": {
    "ExecuteTime": {
     "end_time": "2020-09-02T20:45:59.608937Z",
     "start_time": "2020-09-02T20:45:59.405601Z"
    },
    "execution": {
     "iopub.execute_input": "2022-06-16T09:59:55.819310Z",
     "iopub.status.busy": "2022-06-16T09:59:55.819119Z",
     "iopub.status.idle": "2022-06-16T09:59:57.664102Z",
     "shell.execute_reply": "2022-06-16T09:59:57.663384Z"
    },
    "papermill": {
     "duration": 1.858955,
     "end_time": "2022-06-16T09:59:57.665982",
     "exception": false,
     "start_time": "2022-06-16T09:59:55.807027",
     "status": "completed"
    },
    "tags": []
   },
   "outputs": [
    {
     "data": {
      "image/png": "[encoded data removed]",
      "text/plain": [
       "<Figure size 1008x576 with 4 Axes>"
      ]
     },
     "metadata": {
      "needs_background": "light"
     },
     "output_type": "display_data"
    }
   ],
   "source": [
    "fig, ax = plt.subplots(2, 2, figsize=(14, 8), sharex=True)\n",
    "commodity_portfolio_return.plot(ax=ax[0][0], logy=True)\n",
    "equity_portfolio_return.plot(ax=ax[0][1], logy=True)\n",
    "fixed_income_portfolio_return.plot(ax=ax[1][0], logy=True)\n",
    "currency_portfolio_return.plot(ax=ax[1][1], logy=True)\n",
    "\n",
    "ax[0][0].set_title('Commodity skewness portfolio')\n",
    "ax[0][1].set_title('Equity skewness portfolio')\n",
    "ax[1][0].set_title('Fixed income skewness portfolio')\n",
    "ax[1][1].set_title('Currency skewness portfolio')\n",
    "ax[0][0].set_ylabel('Cumulative returns');\n",
    "ax[1][0].set_ylabel('Cumulative returns');"
   ]
  },
  {
   "cell_type": "code",
   "execution_count": 13,
   "id": "a4fd1b4a",
   "metadata": {
    "ExecuteTime": {
     "end_time": "2020-08-31T20:06:51.873126Z",
     "start_time": "2020-08-31T20:06:51.866509Z"
    },
    "execution": {
     "iopub.execute_input": "2022-06-16T09:59:57.685010Z",
     "iopub.status.busy": "2022-06-16T09:59:57.684821Z",
     "iopub.status.idle": "2022-06-16T09:59:57.957689Z",
     "shell.execute_reply": "2022-06-16T09:59:57.957041Z"
    },
    "papermill": {
     "duration": 0.28436,
     "end_time": "2022-06-16T09:59:57.959255",
     "exception": false,
     "start_time": "2022-06-16T09:59:57.674895",
     "status": "completed"
    },
    "tags": []
   },
   "outputs": [
    {
     "data": {
      "text/html": [
       "<div>\n",
       "<style scoped>\n",
       "    .dataframe tbody tr th:only-of-type {\n",
       "        vertical-align: middle;\n",
       "    }\n",
       "\n",
       "    .dataframe tbody tr th {\n",
       "        vertical-align: top;\n",
       "    }\n",
       "\n",
       "    .dataframe thead th {\n",
       "        text-align: right;\n",
       "    }\n",
       "</style>\n",
       "<table border=\"1\" class=\"dataframe\">\n",
       "  <thead>\n",
       "    <tr style=\"text-align: right;\">\n",
       "      <th></th>\n",
       "      <th>Commodity skewness portfolio</th>\n",
       "      <th>Equity skewness portfolio</th>\n",
       "      <th>Fixed income skewness portfolio</th>\n",
       "      <th>Currency skewness portfolio</th>\n",
       "    </tr>\n",
       "  </thead>\n",
       "  <tbody>\n",
       "    <tr>\n",
       "      <th>CAGR</th>\n",
       "      <td>-0.001326</td>\n",
       "      <td>0.013590</td>\n",
       "      <td>0.015492</td>\n",
       "      <td>0.005507</td>\n",
       "    </tr>\n",
       "    <tr>\n",
       "      <th>Annualised vol</th>\n",
       "      <td>0.190502</td>\n",
       "      <td>0.185040</td>\n",
       "      <td>0.049290</td>\n",
       "      <td>0.093440</td>\n",
       "    </tr>\n",
       "    <tr>\n",
       "      <th>Sharpe ratio</th>\n",
       "      <td>-0.006958</td>\n",
       "      <td>0.073445</td>\n",
       "      <td>0.314298</td>\n",
       "      <td>0.058933</td>\n",
       "    </tr>\n",
       "    <tr>\n",
       "      <th>Max drawdown</th>\n",
       "      <td>0.966777</td>\n",
       "      <td>0.500381</td>\n",
       "      <td>0.209091</td>\n",
       "      <td>0.693606</td>\n",
       "    </tr>\n",
       "    <tr>\n",
       "      <th>Calmar ratio</th>\n",
       "      <td>-0.001371</td>\n",
       "      <td>0.027160</td>\n",
       "      <td>0.074091</td>\n",
       "      <td>0.007939</td>\n",
       "    </tr>\n",
       "    <tr>\n",
       "      <th>Skewness</th>\n",
       "      <td>-0.046075</td>\n",
       "      <td>4.163919</td>\n",
       "      <td>0.244257</td>\n",
       "      <td>-0.282835</td>\n",
       "    </tr>\n",
       "    <tr>\n",
       "      <th>Kurtosis</th>\n",
       "      <td>4.870564</td>\n",
       "      <td>209.062960</td>\n",
       "      <td>6.168993</td>\n",
       "      <td>4.663880</td>\n",
       "    </tr>\n",
       "    <tr>\n",
       "      <th>Worst return</th>\n",
       "      <td>-0.140301</td>\n",
       "      <td>-0.252194</td>\n",
       "      <td>-0.018644</td>\n",
       "      <td>-0.049846</td>\n",
       "    </tr>\n",
       "    <tr>\n",
       "      <th>Worst 1d return</th>\n",
       "      <td>-0.140301</td>\n",
       "      <td>-0.252194</td>\n",
       "      <td>-0.018644</td>\n",
       "      <td>-0.049846</td>\n",
       "    </tr>\n",
       "    <tr>\n",
       "      <th>Worst 1w return</th>\n",
       "      <td>-0.143670</td>\n",
       "      <td>-0.199777</td>\n",
       "      <td>-0.031681</td>\n",
       "      <td>-0.099163</td>\n",
       "    </tr>\n",
       "    <tr>\n",
       "      <th>Worst 1m return</th>\n",
       "      <td>-0.222087</td>\n",
       "      <td>-0.160835</td>\n",
       "      <td>-0.061681</td>\n",
       "      <td>-0.142375</td>\n",
       "    </tr>\n",
       "  </tbody>\n",
       "</table>\n",
       "</div>"
      ],
      "text/plain": [
       "                 Commodity skewness portfolio  Equity skewness portfolio  \\\n",
       "CAGR                                -0.001326                   0.013590   \n",
       "Annualised vol                       0.190502                   0.185040   \n",
       "Sharpe ratio                        -0.006958                   0.073445   \n",
       "Max drawdown                         0.966777                   0.500381   \n",
       "Calmar ratio                        -0.001371                   0.027160   \n",
       "Skewness                            -0.046075                   4.163919   \n",
       "Kurtosis                             4.870564                 209.062960   \n",
       "Worst return                        -0.140301                  -0.252194   \n",
       "Worst 1d return                     -0.140301                  -0.252194   \n",
       "Worst 1w return                     -0.143670                  -0.199777   \n",
       "Worst 1m return                     -0.222087                  -0.160835   \n",
       "\n",
       "                 Fixed income skewness portfolio  Currency skewness portfolio  \n",
       "CAGR                                    0.015492                     0.005507  \n",
       "Annualised vol                          0.049290                     0.093440  \n",
       "Sharpe ratio                            0.314298                     0.058933  \n",
       "Max drawdown                            0.209091                     0.693606  \n",
       "Calmar ratio                            0.074091                     0.007939  \n",
       "Skewness                                0.244257                    -0.282835  \n",
       "Kurtosis                                6.168993                     4.663880  \n",
       "Worst return                           -0.018644                    -0.049846  \n",
       "Worst 1d return                        -0.018644                    -0.049846  \n",
       "Worst 1w return                        -0.031681                    -0.099163  \n",
       "Worst 1m return                        -0.061681                    -0.142375  "
      ]
     },
     "execution_count": 13,
     "metadata": {},
     "output_type": "execute_result"
    }
   ],
   "source": [
    "pd.concat((\n",
    "    commodity_portfolio_return.pipe(Performance).summary(),\n",
    "    equity_portfolio_return.pipe(Performance).summary(),\n",
    "    fixed_income_portfolio_return.pipe(Performance).summary(),\n",
    "    currency_portfolio_return.pipe(Performance).summary(),\n",
    "), axis=1)"
   ]
  },
  {
   "cell_type": "markdown",
   "id": "70325554",
   "metadata": {
    "papermill": {
     "duration": 0.009231,
     "end_time": "2022-06-16T09:59:57.977662",
     "exception": false,
     "start_time": "2022-06-16T09:59:57.968431",
     "status": "completed"
    },
    "tags": []
   },
   "source": [
    "## Performance since 1990\n",
    "In the original paper, performance since 1990 is reported. The result below confirms that all skewness based portfolios exhibited positive performance over time.\n",
    "Interestingly the equity portfolio somewhat performed weakly in the backtest. This could be due to the slightly different data set."
   ]
  },
  {
   "cell_type": "code",
   "execution_count": 14,
   "id": "be262e77",
   "metadata": {
    "execution": {
     "iopub.execute_input": "2022-06-16T09:59:57.997454Z",
     "iopub.status.busy": "2022-06-16T09:59:57.997165Z",
     "iopub.status.idle": "2022-06-16T09:59:59.764696Z",
     "shell.execute_reply": "2022-06-16T09:59:59.764053Z"
    },
    "papermill": {
     "duration": 1.77957,
     "end_time": "2022-06-16T09:59:59.766384",
     "exception": false,
     "start_time": "2022-06-16T09:59:57.986814",
     "status": "completed"
    },
    "tags": []
   },
   "outputs": [
    {
     "data": {
      "image/png": "[encoded data removed]",
      "text/plain": [
       "<Figure size 1008x576 with 4 Axes>"
      ]
     },
     "metadata": {
      "needs_background": "light"
     },
     "output_type": "display_data"
    }
   ],
   "source": [
    "fig, ax = plt.subplots(2, 2, figsize=(14, 8), sharex=True)\n",
    "commodity_portfolio_return['1990':].plot(ax=ax[0][0], logy=True)\n",
    "equity_portfolio_return['1990':].plot(ax=ax[0][1], logy=True)\n",
    "fixed_income_portfolio_return['1990':].plot(ax=ax[1][0], logy=True)\n",
    "currency_portfolio_return['1990':].plot(ax=ax[1][1], logy=True)\n",
    "\n",
    "ax[0][0].set_title('Commodity skewness portfolio')\n",
    "ax[0][1].set_title('Equity skewness portfolio')\n",
    "ax[1][0].set_title('Fixed income skewness portfolio')\n",
    "ax[1][1].set_title('Currency skewness portfolio')\n",
    "ax[0][0].set_ylabel('Cumulative returns');\n",
    "ax[1][0].set_ylabel('Cumulative returns');"
   ]
  },
  {
   "cell_type": "markdown",
   "id": "07a12ae5",
   "metadata": {
    "papermill": {
     "duration": 0.014459,
     "end_time": "2022-06-16T09:59:59.794678",
     "exception": false,
     "start_time": "2022-06-16T09:59:59.780219",
     "status": "completed"
    },
    "tags": []
   },
   "source": [
    "## GSF\n",
    "The authors defines the global skewness factor (GSF) by combining the 4 asset classes with equal vol weighting. Here, the 4 backtests are simply combined with each ex-post realised volatility."
   ]
  },
  {
   "cell_type": "code",
   "execution_count": 15,
   "id": "9e995a80",
   "metadata": {
    "execution": {
     "iopub.execute_input": "2022-06-16T09:59:59.822189Z",
     "iopub.status.busy": "2022-06-16T09:59:59.821675Z",
     "iopub.status.idle": "2022-06-16T09:59:59.825742Z",
     "shell.execute_reply": "2022-06-16T09:59:59.825165Z"
    },
    "papermill": {
     "duration": 0.017868,
     "end_time": "2022-06-16T09:59:59.827128",
     "exception": false,
     "start_time": "2022-06-16T09:59:59.809260",
     "status": "completed"
    },
    "tags": []
   },
   "outputs": [],
   "source": [
    "def get_leverage(equity_curve: pd.Series) -> float:\n",
    "    return 0.1 / (equity_curve.pct_change().std() * (252 ** 0.5))"
   ]
  },
  {
   "cell_type": "code",
   "execution_count": 16,
   "id": "f05965f8",
   "metadata": {
    "execution": {
     "iopub.execute_input": "2022-06-16T09:59:59.885632Z",
     "iopub.status.busy": "2022-06-16T09:59:59.885447Z",
     "iopub.status.idle": "2022-06-16T09:59:59.919766Z",
     "shell.execute_reply": "2022-06-16T09:59:59.919182Z"
    },
    "papermill": {
     "duration": 0.083543,
     "end_time": "2022-06-16T09:59:59.921591",
     "exception": false,
     "start_time": "2022-06-16T09:59:59.838048",
     "status": "completed"
    },
    "tags": []
   },
   "outputs": [],
   "source": [
    "gsf = pd.concat((\n",
    "    commodity_portfolio_return.pct_change() * get_leverage(commodity_portfolio_return),\n",
    "    equity_portfolio_return.pct_change() * get_leverage(equity_portfolio_return),\n",
    "    fixed_income_portfolio_return.pct_change() * get_leverage(fixed_income_portfolio_return),\n",
    "    currency_portfolio_return.pct_change() * get_leverage(currency_portfolio_return),\n",
    "), axis=1).mean(axis=1)\n",
    "gsf = gsf.fillna(0).add(1).cumprod().rename('GSF')"
   ]
  },
  {
   "cell_type": "code",
   "execution_count": 17,
   "id": "1097180a",
   "metadata": {
    "execution": {
     "iopub.execute_input": "2022-06-16T09:59:59.943085Z",
     "iopub.status.busy": "2022-06-16T09:59:59.942736Z",
     "iopub.status.idle": "2022-06-16T10:00:00.648796Z",
     "shell.execute_reply": "2022-06-16T10:00:00.648183Z"
    },
    "papermill": {
     "duration": 0.718799,
     "end_time": "2022-06-16T10:00:00.650424",
     "exception": false,
     "start_time": "2022-06-16T09:59:59.931625",
     "status": "completed"
    },
    "tags": []
   },
   "outputs": [
    {
     "data": {
      "image/png": "[encoded data removed]",
      "text/plain": [
       "<Figure size 1008x288 with 2 Axes>"
      ]
     },
     "metadata": {
      "needs_background": "light"
     },
     "output_type": "display_data"
    }
   ],
   "source": [
    "fig, ax = plt.subplots(1, 2, figsize=(14, 4))\n",
    "gsf.plot(ax=ax[0], logy=True);\n",
    "gsf['1990':].plot(ax=ax[1], logy=True);\n",
    "ax[0].set_title('GSF portfolio')\n",
    "ax[1].set_title('Since 1990')\n",
    "ax[0].set_ylabel('Cumulative returns');"
   ]
  },
  {
   "cell_type": "code",
   "execution_count": 18,
   "id": "1859495e",
   "metadata": {
    "execution": {
     "iopub.execute_input": "2022-06-16T10:00:00.673664Z",
     "iopub.status.busy": "2022-06-16T10:00:00.673091Z",
     "iopub.status.idle": "2022-06-16T10:00:00.806071Z",
     "shell.execute_reply": "2022-06-16T10:00:00.805426Z"
    },
    "papermill": {
     "duration": 0.146761,
     "end_time": "2022-06-16T10:00:00.807641",
     "exception": false,
     "start_time": "2022-06-16T10:00:00.660880",
     "status": "completed"
    },
    "tags": []
   },
   "outputs": [
    {
     "data": {
      "text/html": [
       "<div>\n",
       "<style scoped>\n",
       "    .dataframe tbody tr th:only-of-type {\n",
       "        vertical-align: middle;\n",
       "    }\n",
       "\n",
       "    .dataframe tbody tr th {\n",
       "        vertical-align: top;\n",
       "    }\n",
       "\n",
       "    .dataframe thead th {\n",
       "        text-align: right;\n",
       "    }\n",
       "</style>\n",
       "<table border=\"1\" class=\"dataframe\">\n",
       "  <thead>\n",
       "    <tr style=\"text-align: right;\">\n",
       "      <th></th>\n",
       "      <th>GSF</th>\n",
       "      <th>GSF (since 1990)</th>\n",
       "    </tr>\n",
       "  </thead>\n",
       "  <tbody>\n",
       "    <tr>\n",
       "      <th>CAGR</th>\n",
       "      <td>0.006460</td>\n",
       "      <td>0.026011</td>\n",
       "    </tr>\n",
       "    <tr>\n",
       "      <th>Annualised vol</th>\n",
       "      <td>0.064412</td>\n",
       "      <td>0.043779</td>\n",
       "    </tr>\n",
       "    <tr>\n",
       "      <th>Sharpe ratio</th>\n",
       "      <td>0.100299</td>\n",
       "      <td>0.594145</td>\n",
       "    </tr>\n",
       "    <tr>\n",
       "      <th>Max drawdown</th>\n",
       "      <td>0.549874</td>\n",
       "      <td>0.113934</td>\n",
       "    </tr>\n",
       "    <tr>\n",
       "      <th>Calmar ratio</th>\n",
       "      <td>0.011749</td>\n",
       "      <td>0.228297</td>\n",
       "    </tr>\n",
       "    <tr>\n",
       "      <th>Skewness</th>\n",
       "      <td>0.040207</td>\n",
       "      <td>-0.226113</td>\n",
       "    </tr>\n",
       "    <tr>\n",
       "      <th>Kurtosis</th>\n",
       "      <td>8.432694</td>\n",
       "      <td>3.151392</td>\n",
       "    </tr>\n",
       "    <tr>\n",
       "      <th>Worst return</th>\n",
       "      <td>-0.039028</td>\n",
       "      <td>-0.025834</td>\n",
       "    </tr>\n",
       "    <tr>\n",
       "      <th>Worst 1d return</th>\n",
       "      <td>-0.039028</td>\n",
       "      <td>-0.025834</td>\n",
       "    </tr>\n",
       "    <tr>\n",
       "      <th>Worst 1w return</th>\n",
       "      <td>-0.076907</td>\n",
       "      <td>-0.028820</td>\n",
       "    </tr>\n",
       "    <tr>\n",
       "      <th>Worst 1m return</th>\n",
       "      <td>-0.113894</td>\n",
       "      <td>-0.043839</td>\n",
       "    </tr>\n",
       "  </tbody>\n",
       "</table>\n",
       "</div>"
      ],
      "text/plain": [
       "                      GSF  GSF (since 1990)\n",
       "CAGR             0.006460          0.026011\n",
       "Annualised vol   0.064412          0.043779\n",
       "Sharpe ratio     0.100299          0.594145\n",
       "Max drawdown     0.549874          0.113934\n",
       "Calmar ratio     0.011749          0.228297\n",
       "Skewness         0.040207         -0.226113\n",
       "Kurtosis         8.432694          3.151392\n",
       "Worst return    -0.039028         -0.025834\n",
       "Worst 1d return -0.039028         -0.025834\n",
       "Worst 1w return -0.076907         -0.028820\n",
       "Worst 1m return -0.113894         -0.043839"
      ]
     },
     "execution_count": 18,
     "metadata": {},
     "output_type": "execute_result"
    }
   ],
   "source": [
    "pd.concat((\n",
    "    gsf.pipe(Performance).summary(),\n",
    "    gsf['1990':].pipe(Performance).summary().add_suffix(' (since 1990)')\n",
    "), axis=1)"
   ]
  },
  {
   "cell_type": "markdown",
   "id": "04001588",
   "metadata": {
    "papermill": {
     "duration": 0.010971,
     "end_time": "2022-06-16T10:00:00.829530",
     "exception": false,
     "start_time": "2022-06-16T10:00:00.818559",
     "status": "completed"
    },
    "tags": []
   },
   "source": [
    "## Post publication"
   ]
  },
  {
   "cell_type": "code",
   "execution_count": null,
   "id": "4fe2046d",
   "metadata": {
    "execution": {
     "iopub.execute_input": "2020-11-07T07:10:52.085318Z",
     "iopub.status.busy": "2020-11-07T07:10:52.085173Z",
     "iopub.status.idle": "2020-11-07T07:10:52.650144Z",
     "shell.execute_reply": "2020-11-07T07:10:52.649648Z",
     "shell.execute_reply.started": "2020-11-07T07:10:52.085300Z"
    },
    "papermill": {
     "duration": null,
     "end_time": null,
     "exception": false,
     "start_time": "2022-06-16T10:00:00.840289",
     "status": "running"
    },
    "tags": []
   },
   "outputs": [],
   "source": [
    "publication_date = datetime(2019, 12, 16)\n",
    "\n",
    "fig, ax = plt.subplots(1, 2, figsize=(14, 4))\n",
    "gsf.plot(ax=ax[0], logy=True);\n",
    "ax[0].set_title('GSF portfolio')\n",
    "ax[0].set_ylabel('Cumulative returns');\n",
    "ax[0].axvline(publication_date, lw=1, ls='--', color='black')\n",
    "ax[0].text(publication_date, 0.6, 'Publication date ', ha='right')\n",
    "\n",
    "gsf.loc[publication_date:].plot(ax=ax[1], logy=True);\n",
    "ax[1].set_title('GSF portfolio (post publication)');"
   ]
  },
  {
   "cell_type": "markdown",
   "id": "470350d8",
   "metadata": {
    "papermill": {
     "duration": null,
     "end_time": null,
     "exception": null,
     "start_time": null,
     "status": "pending"
    },
    "tags": []
   },
   "source": [
    "## Recent performance"
   ]
  },
  {
   "cell_type": "code",
   "execution_count": null,
   "id": "36ab9281",
   "metadata": {
    "execution": {
     "iopub.execute_input": "2020-11-07T07:10:52.650965Z",
     "iopub.status.busy": "2020-11-07T07:10:52.650823Z",
     "iopub.status.idle": "2020-11-07T07:10:52.938649Z",
     "shell.execute_reply": "2020-11-07T07:10:52.938108Z",
     "shell.execute_reply.started": "2020-11-07T07:10:52.650943Z"
    },
    "papermill": {
     "duration": null,
     "end_time": null,
     "exception": null,
     "start_time": null,
     "status": "pending"
    },
    "tags": []
   },
   "outputs": [],
   "source": [
    "fig, ax = plt.subplots(figsize=(8, 4.5))\n",
    "gsf.tail(252 * 2).plot(ax=ax, logy=True);\n",
    "ax.set_title('GSF portfolio')\n",
    "ax.set_ylabel('Cumulative returns');"
   ]
  },
  {
   "cell_type": "markdown",
   "id": "e42b204d",
   "metadata": {
    "papermill": {
     "duration": null,
     "end_time": null,
     "exception": null,
     "start_time": null,
     "status": "pending"
    },
    "tags": []
   },
   "source": [
    "# Reference\n",
    "- Baltas, N. and Salinas, G., 2019. Cross-Asset Skew. Available at SSRN."
   ]
  },
  {
   "cell_type": "code",
   "execution_count": null,
   "id": "195cc4fb",
   "metadata": {
    "ExecuteTime": {
     "end_time": "2020-08-31T05:52:23.734170Z",
     "start_time": "2020-08-31T05:52:23.731627Z"
    },
    "execution": {
     "iopub.execute_input": "2020-11-07T07:10:52.939437Z",
     "iopub.status.busy": "2020-11-07T07:10:52.939294Z",
     "iopub.status.idle": "2020-11-07T07:10:52.942409Z",
     "shell.execute_reply": "2020-11-07T07:10:52.941955Z",
     "shell.execute_reply.started": "2020-11-07T07:10:52.939418Z"
    },
    "papermill": {
     "duration": null,
     "end_time": null,
     "exception": null,
     "start_time": null,
     "status": "pending"
    },
    "tags": []
   },
   "outputs": [],
   "source": [
    "print(f'Updated: {datetime.utcnow().strftime(\"%d-%b-%Y %H:%M\")}')"
   ]
  }
 ],
 "metadata": {
  "kernelspec": {
   "display_name": "Python 3",
   "language": "python",
   "name": "python3"
  },
  "language_info": {
   "codemirror_mode": {
    "name": "ipython",
    "version": 3
   },
   "file_extension": ".py",
   "mimetype": "text/x-python",
   "name": "python",
   "nbconvert_exporter": "python",
   "pygments_lexer": "ipython3",
   "version": "3.8.1"
  },
  "papermill": {
   "default_parameters": {},
   "duration": null,
   "end_time": null,
   "environment_variables": {},
   "exception": null,
   "input_path": "notebooks/papermill/cross_asset_skewness.ipynb",
   "output_path": "notebooks/cross_asset_skewness.ipynb",
   "parameters": {},
   "start_time": "2022-06-16T09:49:51.669542",
   "version": "2.3.4"
  },
  "toc": {
   "base_numbering": 1,
   "nav_menu": {},
   "number_sections": true,
   "sideBar": true,
   "skip_h1_title": false,
   "title_cell": "Table of Contents",
   "title_sidebar": "Contents",
   "toc_cell": true,
   "toc_position": {
    "height": "calc(100% - 180px)",
    "left": "10px",
    "top": "150px",
    "width": "165px"
   },
   "toc_section_display": true,
   "toc_window_display": true
  },
  "toc-autonumbering": true,
  "toc-showmarkdowntxt": true,
  "toc-showtags": false
 },
 "nbformat": 4,
 "nbformat_minor": 5
}