{
 "cells": [
  {
   "cell_type": "markdown",
   "id": "69d1252f",
   "metadata": {
    "papermill": {
     "duration": 0.009125,
     "end_time": "2022-06-03T09:59:36.101337",
     "exception": false,
     "start_time": "2022-06-03T09:59:36.092212",
     "status": "completed"
    },
    "tags": []
   },
   "source": [
    "# Cross-asset skewness\n",
    "\n",
    "This notebook analyses cross-asset cross-sectional skewness strategy. The strategy takes long positions on contracts with most negative historical skewness and short positions on ones with most positive skewness."
   ]
  },
  {
   "cell_type": "code",
   "execution_count": 1,
   "id": "c21b9d3d",
   "metadata": {
    "ExecuteTime": {
     "end_time": "2020-08-31T19:29:24.852122Z",
     "start_time": "2020-08-31T19:29:24.038266Z"
    },
    "execution": {
     "iopub.execute_input": "2022-06-03T09:59:36.126018Z",
     "iopub.status.busy": "2022-06-03T09:59:36.125662Z",
     "iopub.status.idle": "2022-06-03T09:59:39.761907Z",
     "shell.execute_reply": "2022-06-03T09:59:39.761323Z"
    },
    "papermill": {
     "duration": 3.651491,
     "end_time": "2022-06-03T09:59:39.763688",
     "exception": false,
     "start_time": "2022-06-03T09:59:36.112197",
     "status": "completed"
    },
    "tags": []
   },
   "outputs": [],
   "source": [
    "%matplotlib inline\n",
    "from datetime import datetime\n",
    "import logging\n",
    "import warnings\n",
    "warnings.simplefilter(action='ignore', category=FutureWarning)\n",
    "\n",
    "import pandas as pd\n",
    "import matplotlib.pyplot as plt\n",
    "import matplotlib.ticker as mticker\n",
    "plt.style.use('bmh')\n",
    "\n",
    "from vivace.backtest import signal\n",
    "from vivace.backtest import processing\n",
    "from vivace.backtest.contract import all_futures_baltas2019\n",
    "from vivace.backtest.engine import BacktestEngine\n",
    "from vivace.backtest.enums import Strategy\n",
    "from vivace.backtest.stats import Performance"
   ]
  },
  {
   "cell_type": "markdown",
   "id": "b0372c37",
   "metadata": {
    "papermill": {
     "duration": 0.007742,
     "end_time": "2022-06-03T09:59:39.779671",
     "exception": false,
     "start_time": "2022-06-03T09:59:39.771929",
     "status": "completed"
    },
    "tags": []
   },
   "source": [
    "# Data\n",
    "\n",
    "Various futures contracts in commodity, currency, government bond futures and equity index futures are tested. Some contracts are missing in this data set due to data availability."
   ]
  },
  {
   "cell_type": "code",
   "execution_count": 2,
   "id": "3aad7bc5",
   "metadata": {
    "ExecuteTime": {
     "end_time": "2020-08-31T19:29:25.399795Z",
     "start_time": "2020-08-31T19:29:25.371862Z"
    },
    "execution": {
     "iopub.execute_input": "2022-06-03T09:59:39.797315Z",
     "iopub.status.busy": "2022-06-03T09:59:39.797079Z",
     "iopub.status.idle": "2022-06-03T09:59:39.814494Z",
     "shell.execute_reply": "2022-06-03T09:59:39.813926Z"
    },
    "papermill": {
     "duration": 0.028527,
     "end_time": "2022-06-03T09:59:39.816338",
     "exception": false,
     "start_time": "2022-06-03T09:59:39.787811",
     "status": "completed"
    },
    "tags": []
   },
   "outputs": [
    {
     "data": {
      "text/html": [
       "<div>\n",
       "<style scoped>\n",
       "    .dataframe tbody tr th:only-of-type {\n",
       "        vertical-align: middle;\n",
       "    }\n",
       "\n",
       "    .dataframe tbody tr th {\n",
       "        vertical-align: top;\n",
       "    }\n",
       "\n",
       "    .dataframe thead th {\n",
       "        text-align: right;\n",
       "    }\n",
       "</style>\n",
       "<table border=\"1\" class=\"dataframe\">\n",
       "  <thead>\n",
       "    <tr style=\"text-align: right;\">\n",
       "      <th></th>\n",
       "      <th>name</th>\n",
       "      <th>asset_class</th>\n",
       "    </tr>\n",
       "    <tr>\n",
       "      <th>ticker</th>\n",
       "      <th></th>\n",
       "      <th></th>\n",
       "    </tr>\n",
       "  </thead>\n",
       "  <tbody>\n",
       "    <tr>\n",
       "      <th>LA</th>\n",
       "      <td>Aluminium</td>\n",
       "      <td>commodity</td>\n",
       "    </tr>\n",
       "    <tr>\n",
       "      <th>CO</th>\n",
       "      <td>Brent Crude Oil</td>\n",
       "      <td>commodity</td>\n",
       "    </tr>\n",
       "    <tr>\n",
       "      <th>CC</th>\n",
       "      <td>Cocoa</td>\n",
       "      <td>commodity</td>\n",
       "    </tr>\n",
       "    <tr>\n",
       "      <th>KC</th>\n",
       "      <td>Coffee</td>\n",
       "      <td>commodity</td>\n",
       "    </tr>\n",
       "    <tr>\n",
       "      <th>HG</th>\n",
       "      <td>Copper</td>\n",
       "      <td>commodity</td>\n",
       "    </tr>\n",
       "    <tr>\n",
       "      <th>C</th>\n",
       "      <td>Corn</td>\n",
       "      <td>commodity</td>\n",
       "    </tr>\n",
       "    <tr>\n",
       "      <th>CT</th>\n",
       "      <td>Cotton</td>\n",
       "      <td>commodity</td>\n",
       "    </tr>\n",
       "    <tr>\n",
       "      <th>CL</th>\n",
       "      <td>WTI Crude Oil</td>\n",
       "      <td>commodity</td>\n",
       "    </tr>\n",
       "    <tr>\n",
       "      <th>FC</th>\n",
       "      <td>Feeder Cattle</td>\n",
       "      <td>commodity</td>\n",
       "    </tr>\n",
       "    <tr>\n",
       "      <th>QS</th>\n",
       "      <td>Gas Oil</td>\n",
       "      <td>commodity</td>\n",
       "    </tr>\n",
       "    <tr>\n",
       "      <th>GC</th>\n",
       "      <td>Gold</td>\n",
       "      <td>commodity</td>\n",
       "    </tr>\n",
       "    <tr>\n",
       "      <th>HO</th>\n",
       "      <td>Heating Oil</td>\n",
       "      <td>commodity</td>\n",
       "    </tr>\n",
       "    <tr>\n",
       "      <th>LH</th>\n",
       "      <td>Lean Hog</td>\n",
       "      <td>commodity</td>\n",
       "    </tr>\n",
       "    <tr>\n",
       "      <th>LC</th>\n",
       "      <td>Live Cattle</td>\n",
       "      <td>commodity</td>\n",
       "    </tr>\n",
       "    <tr>\n",
       "      <th>NG</th>\n",
       "      <td>Natural Gas</td>\n",
       "      <td>commodity</td>\n",
       "    </tr>\n",
       "    <tr>\n",
       "      <th>LN</th>\n",
       "      <td>Nickel</td>\n",
       "      <td>commodity</td>\n",
       "    </tr>\n",
       "    <tr>\n",
       "      <th>SI</th>\n",
       "      <td>Silver</td>\n",
       "      <td>commodity</td>\n",
       "    </tr>\n",
       "    <tr>\n",
       "      <th>S</th>\n",
       "      <td>Soybean</td>\n",
       "      <td>commodity</td>\n",
       "    </tr>\n",
       "    <tr>\n",
       "      <th>SB</th>\n",
       "      <td>Sugar</td>\n",
       "      <td>commodity</td>\n",
       "    </tr>\n",
       "    <tr>\n",
       "      <th>XB</th>\n",
       "      <td>Gasoline</td>\n",
       "      <td>commodity</td>\n",
       "    </tr>\n",
       "    <tr>\n",
       "      <th>W</th>\n",
       "      <td>Wheat</td>\n",
       "      <td>commodity</td>\n",
       "    </tr>\n",
       "    <tr>\n",
       "      <th>KW</th>\n",
       "      <td>Wheat Kansas</td>\n",
       "      <td>commodity</td>\n",
       "    </tr>\n",
       "    <tr>\n",
       "      <th>LX</th>\n",
       "      <td>Zinc</td>\n",
       "      <td>commodity</td>\n",
       "    </tr>\n",
       "    <tr>\n",
       "      <th>AD</th>\n",
       "      <td>Australian Dollar</td>\n",
       "      <td>currency</td>\n",
       "    </tr>\n",
       "    <tr>\n",
       "      <th>CD</th>\n",
       "      <td>Canadian Dollar</td>\n",
       "      <td>currency</td>\n",
       "    </tr>\n",
       "    <tr>\n",
       "      <th>SF</th>\n",
       "      <td>Swiss Franc</td>\n",
       "      <td>currency</td>\n",
       "    </tr>\n",
       "    <tr>\n",
       "      <th>EC</th>\n",
       "      <td>Euro</td>\n",
       "      <td>currency</td>\n",
       "    </tr>\n",
       "    <tr>\n",
       "      <th>BP</th>\n",
       "      <td>British Pound</td>\n",
       "      <td>currency</td>\n",
       "    </tr>\n",
       "    <tr>\n",
       "      <th>JY</th>\n",
       "      <td>Japanese Yen</td>\n",
       "      <td>currency</td>\n",
       "    </tr>\n",
       "    <tr>\n",
       "      <th>ZB</th>\n",
       "      <td>New Zealand Dollar</td>\n",
       "      <td>currency</td>\n",
       "    </tr>\n",
       "    <tr>\n",
       "      <th>SE</th>\n",
       "      <td>Swedish Krona</td>\n",
       "      <td>currency</td>\n",
       "    </tr>\n",
       "    <tr>\n",
       "      <th>XM</th>\n",
       "      <td>Australia 10-year Treasury</td>\n",
       "      <td>fixed_income</td>\n",
       "    </tr>\n",
       "    <tr>\n",
       "      <th>CG</th>\n",
       "      <td>Canada 10-year Treasury</td>\n",
       "      <td>fixed_income</td>\n",
       "    </tr>\n",
       "    <tr>\n",
       "      <th>FGBL</th>\n",
       "      <td>Germany Bund</td>\n",
       "      <td>fixed_income</td>\n",
       "    </tr>\n",
       "    <tr>\n",
       "      <th>FOAT</th>\n",
       "      <td>France OAT</td>\n",
       "      <td>fixed_income</td>\n",
       "    </tr>\n",
       "    <tr>\n",
       "      <th>G</th>\n",
       "      <td>Gilt</td>\n",
       "      <td>fixed_income</td>\n",
       "    </tr>\n",
       "    <tr>\n",
       "      <th>FBTP</th>\n",
       "      <td>Italy BTP Long Term</td>\n",
       "      <td>fixed_income</td>\n",
       "    </tr>\n",
       "    <tr>\n",
       "      <th>JB</th>\n",
       "      <td>JGB</td>\n",
       "      <td>fixed_income</td>\n",
       "    </tr>\n",
       "    <tr>\n",
       "      <th>TY</th>\n",
       "      <td>US 10-year Treasury</td>\n",
       "      <td>fixed_income</td>\n",
       "    </tr>\n",
       "    <tr>\n",
       "      <th>AP</th>\n",
       "      <td>SPI 200</td>\n",
       "      <td>equity</td>\n",
       "    </tr>\n",
       "    <tr>\n",
       "      <th>BZ</th>\n",
       "      <td>Ibovespa</td>\n",
       "      <td>equity</td>\n",
       "    </tr>\n",
       "    <tr>\n",
       "      <th>FSMI</th>\n",
       "      <td>Swiss Market Index</td>\n",
       "      <td>equity</td>\n",
       "    </tr>\n",
       "    <tr>\n",
       "      <th>HC</th>\n",
       "      <td>HSCEI</td>\n",
       "      <td>equity</td>\n",
       "    </tr>\n",
       "    <tr>\n",
       "      <th>FDAX</th>\n",
       "      <td>DAX</td>\n",
       "      <td>equity</td>\n",
       "    </tr>\n",
       "    <tr>\n",
       "      <th>IB</th>\n",
       "      <td>IBEX 35</td>\n",
       "      <td>equity</td>\n",
       "    </tr>\n",
       "    <tr>\n",
       "      <th>CF</th>\n",
       "      <td>CAC 40</td>\n",
       "      <td>equity</td>\n",
       "    </tr>\n",
       "    <tr>\n",
       "      <th>Z</th>\n",
       "      <td>FTSE 100</td>\n",
       "      <td>equity</td>\n",
       "    </tr>\n",
       "    <tr>\n",
       "      <th>HI</th>\n",
       "      <td>Hang Seng</td>\n",
       "      <td>equity</td>\n",
       "    </tr>\n",
       "    <tr>\n",
       "      <th>TP</th>\n",
       "      <td>Topix</td>\n",
       "      <td>equity</td>\n",
       "    </tr>\n",
       "    <tr>\n",
       "      <th>AE</th>\n",
       "      <td>AEX</td>\n",
       "      <td>equity</td>\n",
       "    </tr>\n",
       "    <tr>\n",
       "      <th>QC</th>\n",
       "      <td>OMXS30</td>\n",
       "      <td>equity</td>\n",
       "    </tr>\n",
       "    <tr>\n",
       "      <th>SP</th>\n",
       "      <td>S&amp;P 500</td>\n",
       "      <td>equity</td>\n",
       "    </tr>\n",
       "  </tbody>\n",
       "</table>\n",
       "</div>"
      ],
      "text/plain": [
       "                              name   asset_class\n",
       "ticker                                          \n",
       "LA                       Aluminium     commodity\n",
       "CO                 Brent Crude Oil     commodity\n",
       "CC                           Cocoa     commodity\n",
       "KC                          Coffee     commodity\n",
       "HG                          Copper     commodity\n",
       "C                             Corn     commodity\n",
       "CT                          Cotton     commodity\n",
       "CL                   WTI Crude Oil     commodity\n",
       "FC                   Feeder Cattle     commodity\n",
       "QS                         Gas Oil     commodity\n",
       "GC                            Gold     commodity\n",
       "HO                     Heating Oil     commodity\n",
       "LH                        Lean Hog     commodity\n",
       "LC                     Live Cattle     commodity\n",
       "NG                     Natural Gas     commodity\n",
       "LN                          Nickel     commodity\n",
       "SI                          Silver     commodity\n",
       "S                          Soybean     commodity\n",
       "SB                           Sugar     commodity\n",
       "XB                        Gasoline     commodity\n",
       "W                            Wheat     commodity\n",
       "KW                    Wheat Kansas     commodity\n",
       "LX                            Zinc     commodity\n",
       "AD               Australian Dollar      currency\n",
       "CD                 Canadian Dollar      currency\n",
       "SF                     Swiss Franc      currency\n",
       "EC                            Euro      currency\n",
       "BP                   British Pound      currency\n",
       "JY                    Japanese Yen      currency\n",
       "ZB              New Zealand Dollar      currency\n",
       "SE                   Swedish Krona      currency\n",
       "XM      Australia 10-year Treasury  fixed_income\n",
       "CG         Canada 10-year Treasury  fixed_income\n",
       "FGBL                  Germany Bund  fixed_income\n",
       "FOAT                    France OAT  fixed_income\n",
       "G                             Gilt  fixed_income\n",
       "FBTP           Italy BTP Long Term  fixed_income\n",
       "JB                             JGB  fixed_income\n",
       "TY             US 10-year Treasury  fixed_income\n",
       "AP                         SPI 200        equity\n",
       "BZ                        Ibovespa        equity\n",
       "FSMI            Swiss Market Index        equity\n",
       "HC                           HSCEI        equity\n",
       "FDAX                           DAX        equity\n",
       "IB                         IBEX 35        equity\n",
       "CF                          CAC 40        equity\n",
       "Z                         FTSE 100        equity\n",
       "HI                       Hang Seng        equity\n",
       "TP                           Topix        equity\n",
       "AE                             AEX        equity\n",
       "QC                          OMXS30        equity\n",
       "SP                         S&P 500        equity"
      ]
     },
     "execution_count": 2,
     "metadata": {},
     "output_type": "execute_result"
    }
   ],
   "source": [
    "all_futures_baltas2019"
   ]
  },
  {
   "cell_type": "code",
   "execution_count": 3,
   "id": "84c04b7e",
   "metadata": {
    "ExecuteTime": {
     "end_time": "2020-08-31T19:29:26.170389Z",
     "start_time": "2020-08-31T19:29:26.166205Z"
    },
    "execution": {
     "iopub.execute_input": "2022-06-03T09:59:39.833827Z",
     "iopub.status.busy": "2022-06-03T09:59:39.833618Z",
     "iopub.status.idle": "2022-06-03T09:59:39.837880Z",
     "shell.execute_reply": "2022-06-03T09:59:39.837332Z"
    },
    "papermill": {
     "duration": 0.014922,
     "end_time": "2022-06-03T09:59:39.839437",
     "exception": false,
     "start_time": "2022-06-03T09:59:39.824515",
     "status": "completed"
    },
    "tags": []
   },
   "outputs": [
    {
     "data": {
      "text/plain": [
       "(52, 2)"
      ]
     },
     "execution_count": 3,
     "metadata": {},
     "output_type": "execute_result"
    }
   ],
   "source": [
    "all_futures_baltas2019.shape"
   ]
  },
  {
   "cell_type": "markdown",
   "id": "d82243fc",
   "metadata": {
    "papermill": {
     "duration": 0.008054,
     "end_time": "2022-06-03T09:59:39.855521",
     "exception": false,
     "start_time": "2022-06-03T09:59:39.847467",
     "status": "completed"
    },
    "tags": []
   },
   "source": [
    "# Performance"
   ]
  },
  {
   "cell_type": "markdown",
   "id": "41ef0caf",
   "metadata": {
    "papermill": {
     "duration": 0.007996,
     "end_time": "2022-06-03T09:59:39.871512",
     "exception": false,
     "start_time": "2022-06-03T09:59:39.863516",
     "status": "completed"
    },
    "tags": []
   },
   "source": [
    "## Run backtest\n",
    "\n",
    "For each asset class, a simple portfolio is constructed by using trailing 1-year returns of each futures. Unlike studies in equities, the recent 1-month is included in the formation period. Positions are rebalanced on a monthly basis."
   ]
  },
  {
   "cell_type": "code",
   "execution_count": null,
   "id": "6e7e5532",
   "metadata": {
    "execution": {
     "iopub.execute_input": "2020-11-07T07:03:53.370609Z",
     "iopub.status.busy": "2020-11-07T07:03:53.370413Z",
     "iopub.status.idle": "2020-11-07T07:06:59.751895Z",
     "shell.execute_reply": "2020-11-07T07:06:59.751410Z",
     "shell.execute_reply.started": "2020-11-07T07:03:53.370581Z"
    },
    "papermill": {
     "duration": null,
     "end_time": null,
     "exception": false,
     "start_time": "2022-06-03T09:59:39.879640",
     "status": "running"
    },
    "tags": []
   },
   "outputs": [],
   "source": [
    "engine_commodity = BacktestEngine(\n",
    "    strategy=Strategy.DELTA_ONE.value,\n",
    "    instrument=all_futures_baltas2019.query('asset_class == \"commodity\"').index,\n",
    "    signal=signal.XSSkewness(lookback=252, \n",
    "                             post_process=processing.Pipeline([\n",
    "                                 processing.Negate(),\n",
    "                                 processing.AsFreq(freq='m', method='pad')\n",
    "                             ])),\n",
    "    log_level=logging.WARN,\n",
    ")\n",
    "engine_commodity.run()"
   ]
  },
  {
   "cell_type": "code",
   "execution_count": null,
   "id": "26cabf5e",
   "metadata": {
    "ExecuteTime": {
     "end_time": "2020-09-02T20:42:14.779932Z",
     "start_time": "2020-09-02T20:40:39.222688Z"
    },
    "execution": {
     "iopub.execute_input": "2020-11-07T07:06:59.752603Z",
     "iopub.status.busy": "2020-11-07T07:06:59.752474Z",
     "iopub.status.idle": "2020-11-07T07:08:16.421738Z",
     "shell.execute_reply": "2020-11-07T07:08:16.421286Z",
     "shell.execute_reply.started": "2020-11-07T07:06:59.752585Z"
    },
    "papermill": {
     "duration": null,
     "end_time": null,
     "exception": null,
     "start_time": null,
     "status": "pending"
    },
    "tags": []
   },
   "outputs": [],
   "source": [
    "commodity_portfolio_return = (engine_commodity.calculate_equity_curve(calculate_net=False)\n",
    "                              .rename('Commodity skewness portfolio'))"
   ]
  },
  {
   "cell_type": "code",
   "execution_count": null,
   "id": "07a1d4c5",
   "metadata": {
    "execution": {
     "iopub.execute_input": "2020-11-07T07:08:16.422496Z",
     "iopub.status.busy": "2020-11-07T07:08:16.422365Z",
     "iopub.status.idle": "2020-11-07T07:09:14.839118Z",
     "shell.execute_reply": "2020-11-07T07:09:14.838624Z",
     "shell.execute_reply.started": "2020-11-07T07:08:16.422478Z"
    },
    "papermill": {
     "duration": null,
     "end_time": null,
     "exception": null,
     "start_time": null,
     "status": "pending"
    },
    "tags": []
   },
   "outputs": [],
   "source": [
    "engine_equity = BacktestEngine(\n",
    "    strategy=Strategy.DELTA_ONE.value,\n",
    "    instrument=all_futures_baltas2019.query('asset_class == \"equity\"').index,\n",
    "    signal=signal.XSSkewness(lookback=252, \n",
    "                             post_process=processing.Pipeline([\n",
    "                                 processing.Negate(),\n",
    "                                 processing.AsFreq(freq='m', method='pad')\n",
    "                             ])),\n",
    "    log_level=logging.WARN,\n",
    ")\n",
    "engine_equity.run()"
   ]
  },
  {
   "cell_type": "code",
   "execution_count": null,
   "id": "800db6df",
   "metadata": {
    "execution": {
     "iopub.execute_input": "2020-11-07T07:09:14.839800Z",
     "iopub.status.busy": "2020-11-07T07:09:14.839671Z",
     "iopub.status.idle": "2020-11-07T07:09:33.263497Z",
     "shell.execute_reply": "2020-11-07T07:09:33.262996Z",
     "shell.execute_reply.started": "2020-11-07T07:09:14.839783Z"
    },
    "papermill": {
     "duration": null,
     "end_time": null,
     "exception": null,
     "start_time": null,
     "status": "pending"
    },
    "tags": []
   },
   "outputs": [],
   "source": [
    "equity_portfolio_return = (engine_equity.calculate_equity_curve(calculate_net=False)\n",
    "                           .rename('Equity skewness portfolio'))"
   ]
  },
  {
   "cell_type": "code",
   "execution_count": null,
   "id": "f48b36de",
   "metadata": {
    "execution": {
     "iopub.execute_input": "2020-11-07T07:09:33.264204Z",
     "iopub.status.busy": "2020-11-07T07:09:33.264076Z",
     "iopub.status.idle": "2020-11-07T07:09:53.595522Z",
     "shell.execute_reply": "2020-11-07T07:09:53.595030Z",
     "shell.execute_reply.started": "2020-11-07T07:09:33.264187Z"
    },
    "papermill": {
     "duration": null,
     "end_time": null,
     "exception": null,
     "start_time": null,
     "status": "pending"
    },
    "tags": []
   },
   "outputs": [],
   "source": [
    "engine_fixed_income = BacktestEngine(\n",
    "    strategy=Strategy.DELTA_ONE.value,\n",
    "    instrument=all_futures_baltas2019.query('asset_class == \"fixed_income\"').index,\n",
    "    signal=signal.XSSkewness(lookback=252, \n",
    "                             post_process=processing.Pipeline([\n",
    "                                 processing.Negate(),\n",
    "                                 processing.AsFreq(freq='m', method='pad')\n",
    "                             ])),\n",
    "    log_level=logging.WARN,\n",
    ")\n",
    "engine_fixed_income.run()"
   ]
  },
  {
   "cell_type": "code",
   "execution_count": null,
   "id": "6d725d7e",
   "metadata": {
    "execution": {
     "iopub.execute_input": "2020-11-07T07:09:53.596827Z",
     "iopub.status.busy": "2020-11-07T07:09:53.596693Z",
     "iopub.status.idle": "2020-11-07T07:10:00.215533Z",
     "shell.execute_reply": "2020-11-07T07:10:00.215036Z",
     "shell.execute_reply.started": "2020-11-07T07:09:53.596810Z"
    },
    "papermill": {
     "duration": null,
     "end_time": null,
     "exception": null,
     "start_time": null,
     "status": "pending"
    },
    "tags": []
   },
   "outputs": [],
   "source": [
    "fixed_income_portfolio_return = (engine_fixed_income.calculate_equity_curve(calculate_net=False)\n",
    "                                 .rename('Fixed income skewness portfolio'))"
   ]
  },
  {
   "cell_type": "code",
   "execution_count": null,
   "id": "aa45c726",
   "metadata": {
    "execution": {
     "iopub.execute_input": "2020-11-07T07:10:00.216412Z",
     "iopub.status.busy": "2020-11-07T07:10:00.216248Z",
     "iopub.status.idle": "2020-11-07T07:10:36.197227Z",
     "shell.execute_reply": "2020-11-07T07:10:36.196697Z",
     "shell.execute_reply.started": "2020-11-07T07:10:00.216394Z"
    },
    "papermill": {
     "duration": null,
     "end_time": null,
     "exception": null,
     "start_time": null,
     "status": "pending"
    },
    "tags": []
   },
   "outputs": [],
   "source": [
    "engine_currency = BacktestEngine(\n",
    "    strategy=Strategy.DELTA_ONE.value,\n",
    "    instrument=all_futures_baltas2019.query('asset_class == \"currency\"').index,\n",
    "    signal=signal.XSSkewness(lookback=252, \n",
    "                             post_process=processing.Pipeline([\n",
    "                                 processing.Negate(),\n",
    "                                 processing.AsFreq(freq='m', method='pad')\n",
    "                             ])),\n",
    "    log_level=logging.WARN,\n",
    ")\n",
    "engine_currency.run()"
   ]
  },
  {
   "cell_type": "code",
   "execution_count": null,
   "id": "c4ba6534",
   "metadata": {
    "execution": {
     "iopub.execute_input": "2020-11-07T07:10:36.197970Z",
     "iopub.status.busy": "2020-11-07T07:10:36.197835Z",
     "iopub.status.idle": "2020-11-07T07:10:48.377345Z",
     "shell.execute_reply": "2020-11-07T07:10:48.376635Z",
     "shell.execute_reply.started": "2020-11-07T07:10:36.197953Z"
    },
    "papermill": {
     "duration": null,
     "end_time": null,
     "exception": null,
     "start_time": null,
     "status": "pending"
    },
    "tags": []
   },
   "outputs": [],
   "source": [
    "currency_portfolio_return = (engine_currency.calculate_equity_curve(calculate_net=False)\n",
    "                             .rename('Currency skewness portfolio'))"
   ]
  },
  {
   "cell_type": "code",
   "execution_count": null,
   "id": "9a726673",
   "metadata": {
    "ExecuteTime": {
     "end_time": "2020-09-02T20:45:59.608937Z",
     "start_time": "2020-09-02T20:45:59.405601Z"
    },
    "execution": {
     "iopub.execute_input": "2020-11-07T07:10:48.378605Z",
     "iopub.status.busy": "2020-11-07T07:10:48.378374Z",
     "iopub.status.idle": "2020-11-07T07:10:49.629916Z",
     "shell.execute_reply": "2020-11-07T07:10:49.629391Z",
     "shell.execute_reply.started": "2020-11-07T07:10:48.378574Z"
    },
    "papermill": {
     "duration": null,
     "end_time": null,
     "exception": null,
     "start_time": null,
     "status": "pending"
    },
    "tags": []
   },
   "outputs": [],
   "source": [
    "fig, ax = plt.subplots(2, 2, figsize=(14, 8), sharex=True)\n",
    "commodity_portfolio_return.plot(ax=ax[0][0], logy=True)\n",
    "equity_portfolio_return.plot(ax=ax[0][1], logy=True)\n",
    "fixed_income_portfolio_return.plot(ax=ax[1][0], logy=True)\n",
    "currency_portfolio_return.plot(ax=ax[1][1], logy=True)\n",
    "\n",
    "ax[0][0].set_title('Commodity skewness portfolio')\n",
    "ax[0][1].set_title('Equity skewness portfolio')\n",
    "ax[1][0].set_title('Fixed income skewness portfolio')\n",
    "ax[1][1].set_title('Currency skewness portfolio')\n",
    "ax[0][0].set_ylabel('Cumulative returns');\n",
    "ax[1][0].set_ylabel('Cumulative returns');"
   ]
  },
  {
   "cell_type": "code",
   "execution_count": null,
   "id": "84959ece",
   "metadata": {
    "ExecuteTime": {
     "end_time": "2020-08-31T20:06:51.873126Z",
     "start_time": "2020-08-31T20:06:51.866509Z"
    },
    "execution": {
     "iopub.execute_input": "2020-11-07T07:10:49.630707Z",
     "iopub.status.busy": "2020-11-07T07:10:49.630572Z",
     "iopub.status.idle": "2020-11-07T07:10:50.194001Z",
     "shell.execute_reply": "2020-11-07T07:10:50.193493Z",
     "shell.execute_reply.started": "2020-11-07T07:10:49.630689Z"
    },
    "papermill": {
     "duration": null,
     "end_time": null,
     "exception": null,
     "start_time": null,
     "status": "pending"
    },
    "tags": []
   },
   "outputs": [],
   "source": [
    "pd.concat((\n",
    "    commodity_portfolio_return.pipe(Performance).summary(),\n",
    "    equity_portfolio_return.pipe(Performance).summary(),\n",
    "    fixed_income_portfolio_return.pipe(Performance).summary(),\n",
    "    currency_portfolio_return.pipe(Performance).summary(),\n",
    "), axis=1)"
   ]
  },
  {
   "cell_type": "markdown",
   "id": "20cf6838",
   "metadata": {
    "papermill": {
     "duration": null,
     "end_time": null,
     "exception": null,
     "start_time": null,
     "status": "pending"
    },
    "tags": []
   },
   "source": [
    "## Performance since 1990\n",
    "In the original paper, performance since 1990 is reported. The result below confirms that all skewness based portfolios exhibited positive performance over time.\n",
    "Interestingly the equity portfolio somewhat performed weakly in the backtest. This could be due to the slightly different data set."
   ]
  },
  {
   "cell_type": "code",
   "execution_count": null,
   "id": "cf1c993b",
   "metadata": {
    "execution": {
     "iopub.execute_input": "2020-11-07T07:10:50.194776Z",
     "iopub.status.busy": "2020-11-07T07:10:50.194635Z",
     "iopub.status.idle": "2020-11-07T07:10:51.308413Z",
     "shell.execute_reply": "2020-11-07T07:10:51.307966Z",
     "shell.execute_reply.started": "2020-11-07T07:10:50.194758Z"
    },
    "papermill": {
     "duration": null,
     "end_time": null,
     "exception": null,
     "start_time": null,
     "status": "pending"
    },
    "tags": []
   },
   "outputs": [],
   "source": [
    "fig, ax = plt.subplots(2, 2, figsize=(14, 8), sharex=True)\n",
    "commodity_portfolio_return['1990':].plot(ax=ax[0][0], logy=True)\n",
    "equity_portfolio_return['1990':].plot(ax=ax[0][1], logy=True)\n",
    "fixed_income_portfolio_return['1990':].plot(ax=ax[1][0], logy=True)\n",
    "currency_portfolio_return['1990':].plot(ax=ax[1][1], logy=True)\n",
    "\n",
    "ax[0][0].set_title('Commodity skewness portfolio')\n",
    "ax[0][1].set_title('Equity skewness portfolio')\n",
    "ax[1][0].set_title('Fixed income skewness portfolio')\n",
    "ax[1][1].set_title('Currency skewness portfolio')\n",
    "ax[0][0].set_ylabel('Cumulative returns');\n",
    "ax[1][0].set_ylabel('Cumulative returns');"
   ]
  },
  {
   "cell_type": "markdown",
   "id": "f42d5654",
   "metadata": {
    "papermill": {
     "duration": null,
     "end_time": null,
     "exception": null,
     "start_time": null,
     "status": "pending"
    },
    "tags": []
   },
   "source": [
    "## GSF\n",
    "The authors defines the global skewness factor (GSF) by combining the 4 asset classes with equal vol weighting. Here, the 4 backtests are simply combined with each ex-post realised volatility."
   ]
  },
  {
   "cell_type": "code",
   "execution_count": null,
   "id": "8122d982",
   "metadata": {
    "execution": {
     "iopub.execute_input": "2020-11-07T07:10:51.309183Z",
     "iopub.status.busy": "2020-11-07T07:10:51.309049Z",
     "iopub.status.idle": "2020-11-07T07:10:51.311866Z",
     "shell.execute_reply": "2020-11-07T07:10:51.311447Z",
     "shell.execute_reply.started": "2020-11-07T07:10:51.309164Z"
    },
    "papermill": {
     "duration": null,
     "end_time": null,
     "exception": null,
     "start_time": null,
     "status": "pending"
    },
    "tags": []
   },
   "outputs": [],
   "source": [
    "def get_leverage(equity_curve: pd.Series) -> float:\n",
    "    return 0.1 / (equity_curve.pct_change().std() * (252 ** 0.5))"
   ]
  },
  {
   "cell_type": "code",
   "execution_count": null,
   "id": "ff1ecd96",
   "metadata": {
    "execution": {
     "iopub.execute_input": "2020-11-07T07:10:51.312568Z",
     "iopub.status.busy": "2020-11-07T07:10:51.312422Z",
     "iopub.status.idle": "2020-11-07T07:10:51.346292Z",
     "shell.execute_reply": "2020-11-07T07:10:51.345673Z",
     "shell.execute_reply.started": "2020-11-07T07:10:51.312551Z"
    },
    "papermill": {
     "duration": null,
     "end_time": null,
     "exception": null,
     "start_time": null,
     "status": "pending"
    },
    "tags": []
   },
   "outputs": [],
   "source": [
    "gsf = pd.concat((\n",
    "    commodity_portfolio_return.pct_change() * get_leverage(commodity_portfolio_return),\n",
    "    equity_portfolio_return.pct_change() * get_leverage(equity_portfolio_return),\n",
    "    fixed_income_portfolio_return.pct_change() * get_leverage(fixed_income_portfolio_return),\n",
    "    currency_portfolio_return.pct_change() * get_leverage(currency_portfolio_return),\n",
    "), axis=1).mean(axis=1)\n",
    "gsf = gsf.fillna(0).add(1).cumprod().rename('GSF')"
   ]
  },
  {
   "cell_type": "code",
   "execution_count": null,
   "id": "ef5c6083",
   "metadata": {
    "execution": {
     "iopub.execute_input": "2020-11-07T07:10:51.347533Z",
     "iopub.status.busy": "2020-11-07T07:10:51.347313Z",
     "iopub.status.idle": "2020-11-07T07:10:51.804041Z",
     "shell.execute_reply": "2020-11-07T07:10:51.803572Z",
     "shell.execute_reply.started": "2020-11-07T07:10:51.347505Z"
    },
    "papermill": {
     "duration": null,
     "end_time": null,
     "exception": null,
     "start_time": null,
     "status": "pending"
    },
    "tags": []
   },
   "outputs": [],
   "source": [
    "fig, ax = plt.subplots(1, 2, figsize=(14, 4))\n",
    "gsf.plot(ax=ax[0], logy=True);\n",
    "gsf['1990':].plot(ax=ax[1], logy=True);\n",
    "ax[0].set_title('GSF portfolio')\n",
    "ax[1].set_title('Since 1990')\n",
    "ax[0].set_ylabel('Cumulative returns');"
   ]
  },
  {
   "cell_type": "code",
   "execution_count": null,
   "id": "d1d12c58",
   "metadata": {
    "execution": {
     "iopub.execute_input": "2020-11-07T07:10:51.804740Z",
     "iopub.status.busy": "2020-11-07T07:10:51.804611Z",
     "iopub.status.idle": "2020-11-07T07:10:52.084632Z",
     "shell.execute_reply": "2020-11-07T07:10:52.084162Z",
     "shell.execute_reply.started": "2020-11-07T07:10:51.804722Z"
    },
    "papermill": {
     "duration": null,
     "end_time": null,
     "exception": null,
     "start_time": null,
     "status": "pending"
    },
    "tags": []
   },
   "outputs": [],
   "source": [
    "pd.concat((\n",
    "    gsf.pipe(Performance).summary(),\n",
    "    gsf['1990':].pipe(Performance).summary().add_suffix(' (since 1990)')\n",
    "), axis=1)"
   ]
  },
  {
   "cell_type": "markdown",
   "id": "15a05f2e",
   "metadata": {
    "papermill": {
     "duration": null,
     "end_time": null,
     "exception": null,
     "start_time": null,
     "status": "pending"
    },
    "tags": []
   },
   "source": [
    "## Post publication"
   ]
  },
  {
   "cell_type": "code",
   "execution_count": null,
   "id": "7db3e667",
   "metadata": {
    "execution": {
     "iopub.execute_input": "2020-11-07T07:10:52.085318Z",
     "iopub.status.busy": "2020-11-07T07:10:52.085173Z",
     "iopub.status.idle": "2020-11-07T07:10:52.650144Z",
     "shell.execute_reply": "2020-11-07T07:10:52.649648Z",
     "shell.execute_reply.started": "2020-11-07T07:10:52.085300Z"
    },
    "papermill": {
     "duration": null,
     "end_time": null,
     "exception": null,
     "start_time": null,
     "status": "pending"
    },
    "tags": []
   },
   "outputs": [],
   "source": [
    "publication_date = datetime(2019, 12, 16)\n",
    "\n",
    "fig, ax = plt.subplots(1, 2, figsize=(14, 4))\n",
    "gsf.plot(ax=ax[0], logy=True);\n",
    "ax[0].set_title('GSF portfolio')\n",
    "ax[0].set_ylabel('Cumulative returns');\n",
    "ax[0].axvline(publication_date, lw=1, ls='--', color='black')\n",
    "ax[0].text(publication_date, 0.6, 'Publication date ', ha='right')\n",
    "\n",
    "gsf.loc[publication_date:].plot(ax=ax[1], logy=True);\n",
    "ax[1].set_title('GSF portfolio (post publication)');"
   ]
  },
  {
   "cell_type": "markdown",
   "id": "6880a82d",
   "metadata": {
    "papermill": {
     "duration": null,
     "end_time": null,
     "exception": null,
     "start_time": null,
     "status": "pending"
    },
    "tags": []
   },
   "source": [
    "## Recent performance"
   ]
  },
  {
   "cell_type": "code",
   "execution_count": null,
   "id": "27f0eaff",
   "metadata": {
    "execution": {
     "iopub.execute_input": "2020-11-07T07:10:52.650965Z",
     "iopub.status.busy": "2020-11-07T07:10:52.650823Z",
     "iopub.status.idle": "2020-11-07T07:10:52.938649Z",
     "shell.execute_reply": "2020-11-07T07:10:52.938108Z",
     "shell.execute_reply.started": "2020-11-07T07:10:52.650943Z"
    },
    "papermill": {
     "duration": null,
     "end_time": null,
     "exception": null,
     "start_time": null,
     "status": "pending"
    },
    "tags": []
   },
   "outputs": [],
   "source": [
    "fig, ax = plt.subplots(figsize=(8, 4.5))\n",
    "gsf.tail(252 * 2).plot(ax=ax, logy=True);\n",
    "ax.set_title('GSF portfolio')\n",
    "ax.set_ylabel('Cumulative returns');"
   ]
  },
  {
   "cell_type": "markdown",
   "id": "dfbd06d7",
   "metadata": {
    "papermill": {
     "duration": null,
     "end_time": null,
     "exception": null,
     "start_time": null,
     "status": "pending"
    },
    "tags": []
   },
   "source": [
    "# Reference\n",
    "- Baltas, N. and Salinas, G., 2019. Cross-Asset Skew. Available at SSRN."
   ]
  },
  {
   "cell_type": "code",
   "execution_count": null,
   "id": "8468f8d2",
   "metadata": {
    "ExecuteTime": {
     "end_time": "2020-08-31T05:52:23.734170Z",
     "start_time": "2020-08-31T05:52:23.731627Z"
    },
    "execution": {
     "iopub.execute_input": "2020-11-07T07:10:52.939437Z",
     "iopub.status.busy": "2020-11-07T07:10:52.939294Z",
     "iopub.status.idle": "2020-11-07T07:10:52.942409Z",
     "shell.execute_reply": "2020-11-07T07:10:52.941955Z",
     "shell.execute_reply.started": "2020-11-07T07:10:52.939418Z"
    },
    "papermill": {
     "duration": null,
     "end_time": null,
     "exception": null,
     "start_time": null,
     "status": "pending"
    },
    "tags": []
   },
   "outputs": [],
   "source": [
    "print(f'Updated: {datetime.utcnow().strftime(\"%d-%b-%Y %H:%M\")}')"
   ]
  }
 ],
 "metadata": {
  "kernelspec": {
   "display_name": "Python 3",
   "language": "python",
   "name": "python3"
  },
  "language_info": {
   "codemirror_mode": {
    "name": "ipython",
    "version": 3
   },
   "file_extension": ".py",
   "mimetype": "text/x-python",
   "name": "python",
   "nbconvert_exporter": "python",
   "pygments_lexer": "ipython3",
   "version": "3.8.1"
  },
  "papermill": {
   "default_parameters": {},
   "duration": null,
   "end_time": null,
   "environment_variables": {},
   "exception": null,
   "input_path": "notebooks/papermill/cross_asset_skewness.ipynb",
   "output_path": "notebooks/cross_asset_skewness.ipynb",
   "parameters": {},
   "start_time": "2022-06-03T09:59:34.590599",
   "version": "2.3.4"
  },
  "toc": {
   "base_numbering": 1,
   "nav_menu": {},
   "number_sections": true,
   "sideBar": true,
   "skip_h1_title": false,
   "title_cell": "Table of Contents",
   "title_sidebar": "Contents",
   "toc_cell": true,
   "toc_position": {
    "height": "calc(100% - 180px)",
    "left": "10px",
    "top": "150px",
    "width": "165px"
   },
   "toc_section_display": true,
   "toc_window_display": true
  },
  "toc-autonumbering": true,
  "toc-showmarkdowntxt": true,
  "toc-showtags": false
 },
 "nbformat": 4,
 "nbformat_minor": 5
}