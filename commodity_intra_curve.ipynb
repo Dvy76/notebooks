{
 "cells": [
  {
   "cell_type": "markdown",
   "id": "3f3c5b73",
   "metadata": {
    "papermill": {
     "duration": 0.020413,
     "end_time": "2023-01-07T09:51:59.852338",
     "exception": false,
     "start_time": "2023-01-07T09:51:59.831925",
     "status": "completed"
    },
    "tags": []
   },
   "source": [
    "# Commodity intra-curve\n",
    "\n",
    "This notebook analyses commodity intra-curve carry strategy. The strategy takes long positions on F3 and short positions on F0. The rationale behind this idea is that commodity producers hedge price risk by selling long-dated futures while commoidty consumers buy short-dated futures to secure near-term consumption. By trading F0 vs F3 one can provide an 'insurance risk premia' to those market participants."
   ]
  },
  {
   "cell_type": "code",
   "execution_count": 1,
   "id": "811afc93",
   "metadata": {
    "ExecuteTime": {
     "end_time": "2020-08-31T19:29:24.852122Z",
     "start_time": "2020-08-31T19:29:24.038266Z"
    },
    "execution": {
     "iopub.execute_input": "2023-01-07T09:51:59.881721Z",
     "iopub.status.busy": "2023-01-07T09:51:59.881438Z",
     "iopub.status.idle": "2023-01-07T09:52:02.273778Z",
     "shell.execute_reply": "2023-01-07T09:52:02.273017Z"
    },
    "papermill": {
     "duration": 2.404542,
     "end_time": "2023-01-07T09:52:02.275556",
     "exception": false,
     "start_time": "2023-01-07T09:51:59.871014",
     "status": "completed"
    },
    "tags": []
   },
   "outputs": [],
   "source": [
    "%matplotlib inline\n",
    "from datetime import datetime\n",
    "import logging\n",
    "import warnings\n",
    "warnings.simplefilter(action='ignore', category=FutureWarning)\n",
    "\n",
    "import pandas as pd\n",
    "import matplotlib.pyplot as plt\n",
    "import matplotlib.ticker as mticker\n",
    "plt.style.use('bmh')\n",
    "\n",
    "from vivace.backtest import signal\n",
    "from vivace.backtest.contract import all_futures_lfis_commodity2015, InstrumentDef\n",
    "from vivace.backtest.engine import BacktestEngine\n",
    "from vivace.backtest.enums import Strategy, Weighting\n",
    "from vivace.backtest.stats import Performance"
   ]
  },
  {
   "cell_type": "markdown",
   "id": "c3aedbd7",
   "metadata": {
    "papermill": {
     "duration": 0.00558,
     "end_time": "2023-01-07T09:52:02.286535",
     "exception": false,
     "start_time": "2023-01-07T09:52:02.280955",
     "status": "completed"
    },
    "tags": []
   },
   "source": [
    "# Data\n",
    "\n",
    "22 commodity futures are used as per La Française Group 2015."
   ]
  },
  {
   "cell_type": "code",
   "execution_count": 2,
   "id": "06eac0d7",
   "metadata": {
    "execution": {
     "iopub.execute_input": "2023-01-07T09:52:02.298239Z",
     "iopub.status.busy": "2023-01-07T09:52:02.297879Z",
     "iopub.status.idle": "2023-01-07T09:52:02.309377Z",
     "shell.execute_reply": "2023-01-07T09:52:02.308624Z"
    },
    "papermill": {
     "duration": 0.020932,
     "end_time": "2023-01-07T09:52:02.312498",
     "exception": false,
     "start_time": "2023-01-07T09:52:02.291566",
     "status": "completed"
    },
    "tags": []
   },
   "outputs": [
    {
     "data": {
      "text/html": [
       "<div>\n",
       "<style scoped>\n",
       "    .dataframe tbody tr th:only-of-type {\n",
       "        vertical-align: middle;\n",
       "    }\n",
       "\n",
       "    .dataframe tbody tr th {\n",
       "        vertical-align: top;\n",
       "    }\n",
       "\n",
       "    .dataframe thead th {\n",
       "        text-align: right;\n",
       "    }\n",
       "</style>\n",
       "<table border=\"1\" class=\"dataframe\">\n",
       "  <thead>\n",
       "    <tr style=\"text-align: right;\">\n",
       "      <th></th>\n",
       "      <th>name</th>\n",
       "    </tr>\n",
       "    <tr>\n",
       "      <th>ticker</th>\n",
       "      <th></th>\n",
       "    </tr>\n",
       "  </thead>\n",
       "  <tbody>\n",
       "    <tr>\n",
       "      <th>LX</th>\n",
       "      <td>Zinc</td>\n",
       "    </tr>\n",
       "    <tr>\n",
       "      <th>KW</th>\n",
       "      <td>Wheat Kansas</td>\n",
       "    </tr>\n",
       "    <tr>\n",
       "      <th>W</th>\n",
       "      <td>Wheat</td>\n",
       "    </tr>\n",
       "    <tr>\n",
       "      <th>SB</th>\n",
       "      <td>Sugar</td>\n",
       "    </tr>\n",
       "    <tr>\n",
       "      <th>SM</th>\n",
       "      <td>Soybean Meal</td>\n",
       "    </tr>\n",
       "    <tr>\n",
       "      <th>BO</th>\n",
       "      <td>Soybean Oil</td>\n",
       "    </tr>\n",
       "    <tr>\n",
       "      <th>S</th>\n",
       "      <td>Soybean</td>\n",
       "    </tr>\n",
       "    <tr>\n",
       "      <th>SI</th>\n",
       "      <td>Silver</td>\n",
       "    </tr>\n",
       "    <tr>\n",
       "      <th>LN</th>\n",
       "      <td>Nickel</td>\n",
       "    </tr>\n",
       "    <tr>\n",
       "      <th>NG</th>\n",
       "      <td>Natural Gas</td>\n",
       "    </tr>\n",
       "    <tr>\n",
       "      <th>LC</th>\n",
       "      <td>Live Cattle</td>\n",
       "    </tr>\n",
       "    <tr>\n",
       "      <th>LH</th>\n",
       "      <td>Lean Hog</td>\n",
       "    </tr>\n",
       "    <tr>\n",
       "      <th>HO</th>\n",
       "      <td>Heating Oil</td>\n",
       "    </tr>\n",
       "    <tr>\n",
       "      <th>GC</th>\n",
       "      <td>Gold</td>\n",
       "    </tr>\n",
       "    <tr>\n",
       "      <th>XB</th>\n",
       "      <td>Gasoline</td>\n",
       "    </tr>\n",
       "    <tr>\n",
       "      <th>CL</th>\n",
       "      <td>WTI Crude Oil</td>\n",
       "    </tr>\n",
       "    <tr>\n",
       "      <th>CT</th>\n",
       "      <td>Cotton</td>\n",
       "    </tr>\n",
       "    <tr>\n",
       "      <th>C</th>\n",
       "      <td>Corn</td>\n",
       "    </tr>\n",
       "    <tr>\n",
       "      <th>HG</th>\n",
       "      <td>Copper</td>\n",
       "    </tr>\n",
       "    <tr>\n",
       "      <th>KC</th>\n",
       "      <td>Coffee</td>\n",
       "    </tr>\n",
       "    <tr>\n",
       "      <th>CO</th>\n",
       "      <td>Brent Crude Oil</td>\n",
       "    </tr>\n",
       "    <tr>\n",
       "      <th>LA</th>\n",
       "      <td>Aluminium</td>\n",
       "    </tr>\n",
       "  </tbody>\n",
       "</table>\n",
       "</div>"
      ],
      "text/plain": [
       "                   name\n",
       "ticker                 \n",
       "LX                 Zinc\n",
       "KW         Wheat Kansas\n",
       "W                 Wheat\n",
       "SB                Sugar\n",
       "SM         Soybean Meal\n",
       "BO          Soybean Oil\n",
       "S               Soybean\n",
       "SI               Silver\n",
       "LN               Nickel\n",
       "NG          Natural Gas\n",
       "LC          Live Cattle\n",
       "LH             Lean Hog\n",
       "HO          Heating Oil\n",
       "GC                 Gold\n",
       "XB             Gasoline\n",
       "CL        WTI Crude Oil\n",
       "CT               Cotton\n",
       "C                  Corn\n",
       "HG               Copper\n",
       "KC               Coffee\n",
       "CO      Brent Crude Oil\n",
       "LA            Aluminium"
      ]
     },
     "execution_count": 2,
     "metadata": {},
     "output_type": "execute_result"
    }
   ],
   "source": [
    "all_futures_lfis_commodity2015"
   ]
  },
  {
   "cell_type": "code",
   "execution_count": 3,
   "id": "cd47f57d",
   "metadata": {
    "ExecuteTime": {
     "end_time": "2020-08-31T19:29:26.170389Z",
     "start_time": "2020-08-31T19:29:26.166205Z"
    },
    "execution": {
     "iopub.execute_input": "2023-01-07T09:52:02.326240Z",
     "iopub.status.busy": "2023-01-07T09:52:02.326010Z",
     "iopub.status.idle": "2023-01-07T09:52:02.330382Z",
     "shell.execute_reply": "2023-01-07T09:52:02.329646Z"
    },
    "papermill": {
     "duration": 0.01332,
     "end_time": "2023-01-07T09:52:02.333237",
     "exception": false,
     "start_time": "2023-01-07T09:52:02.319917",
     "status": "completed"
    },
    "tags": []
   },
   "outputs": [
    {
     "data": {
      "text/plain": [
       "(22, 1)"
      ]
     },
     "execution_count": 3,
     "metadata": {},
     "output_type": "execute_result"
    }
   ],
   "source": [
    "all_futures_lfis_commodity2015.shape"
   ]
  },
  {
   "cell_type": "markdown",
   "id": "bef42719",
   "metadata": {
    "papermill": {
     "duration": 0.006176,
     "end_time": "2023-01-07T09:52:02.346410",
     "exception": false,
     "start_time": "2023-01-07T09:52:02.340234",
     "status": "completed"
    },
    "tags": []
   },
   "source": [
    "# Performance"
   ]
  },
  {
   "cell_type": "markdown",
   "id": "4661736d",
   "metadata": {
    "papermill": {
     "duration": 0.03057,
     "end_time": "2023-01-07T09:52:02.384694",
     "exception": false,
     "start_time": "2023-01-07T09:52:02.354124",
     "status": "completed"
    },
    "tags": []
   },
   "source": [
    "## Run backtest\n",
    "\n",
    "In La Française Group 2015, they report a strategy which buys F3 (the third nearby contract) and sells F0 (the first nearby contract) for each commodity futures. Each futures are equally weighted. Note they define F3 as the third contract, but given F0 is the front, F3 should be technically the forth nearby contract."
   ]
  },
  {
   "cell_type": "code",
   "execution_count": 4,
   "id": "18943ea6",
   "metadata": {
    "execution": {
     "iopub.execute_input": "2023-01-07T09:52:02.397331Z",
     "iopub.status.busy": "2023-01-07T09:52:02.397084Z",
     "iopub.status.idle": "2023-01-07T09:52:02.401379Z",
     "shell.execute_reply": "2023-01-07T09:52:02.400752Z"
    },
    "papermill": {
     "duration": 0.013403,
     "end_time": "2023-01-07T09:52:02.403758",
     "exception": false,
     "start_time": "2023-01-07T09:52:02.390355",
     "status": "completed"
    },
    "tags": []
   },
   "outputs": [],
   "source": [
    "instrument = []\n",
    "for i in all_futures_lfis_commodity2015.index:\n",
    "    instrument.append(InstrumentDef(i, id=f'{i}_F3', long_or_short=1, nth_expiry=4))\n",
    "    instrument.append(InstrumentDef(i, id=f'{i}_F0', long_or_short=-1, nth_expiry=1))"
   ]
  },
  {
   "cell_type": "code",
   "execution_count": 5,
   "id": "4cfa55b1",
   "metadata": {
    "ExecuteTime": {
     "end_time": "2020-09-02T22:09:35.368377Z",
     "start_time": "2020-09-02T21:34:59.850395Z"
    },
    "execution": {
     "iopub.execute_input": "2023-01-07T09:52:02.420830Z",
     "iopub.status.busy": "2023-01-07T09:52:02.420549Z",
     "iopub.status.idle": "2023-01-07T09:59:52.167302Z",
     "shell.execute_reply": "2023-01-07T09:59:52.165746Z"
    },
    "papermill": {
     "duration": 469.755913,
     "end_time": "2023-01-07T09:59:52.170289",
     "exception": false,
     "start_time": "2023-01-07T09:52:02.414376",
     "status": "completed"
    },
    "tags": []
   },
   "outputs": [],
   "source": [
    "engine = BacktestEngine(\n",
    "    strategy=Strategy.DELTA_ONE.value,\n",
    "    instrument=instrument,\n",
    "    weighting=Weighting.EQUAL_WEIGHT.value,\n",
    "    log_level=logging.WARN,\n",
    ")\n",
    "engine.run()"
   ]
  },
  {
   "cell_type": "code",
   "execution_count": null,
   "id": "5459250a",
   "metadata": {
    "ExecuteTime": {
     "end_time": "2020-09-02T20:42:14.779932Z",
     "start_time": "2020-09-02T20:40:39.222688Z"
    },
    "execution": {
     "iopub.execute_input": "2021-01-10T06:52:31.815672Z",
     "iopub.status.busy": "2021-01-10T06:52:31.815541Z",
     "iopub.status.idle": "2021-01-10T06:54:55.984175Z",
     "shell.execute_reply": "2021-01-10T06:54:55.983663Z",
     "shell.execute_reply.started": "2021-01-10T06:52:31.815655Z"
    },
    "papermill": {
     "duration": null,
     "end_time": null,
     "exception": false,
     "start_time": "2023-01-07T09:59:52.180143",
     "status": "running"
    },
    "tags": []
   },
   "outputs": [],
   "source": [
    "portfolio_return = (engine.calculate_equity_curve(calculate_net=False)\n",
    "                    .rename('Commodity intra-curve portfolio'))"
   ]
  },
  {
   "cell_type": "markdown",
   "id": "5fdd2fa5",
   "metadata": {
    "papermill": {
     "duration": null,
     "end_time": null,
     "exception": null,
     "start_time": null,
     "status": "pending"
    },
    "tags": []
   },
   "source": [
    "With this very naive configuration, the strategy doesn't seem to be working."
   ]
  },
  {
   "cell_type": "code",
   "execution_count": null,
   "id": "2429c091",
   "metadata": {
    "ExecuteTime": {
     "end_time": "2020-09-02T20:45:59.608937Z",
     "start_time": "2020-09-02T20:45:59.405601Z"
    },
    "execution": {
     "iopub.execute_input": "2021-01-10T06:54:55.984903Z",
     "iopub.status.busy": "2021-01-10T06:54:55.984772Z",
     "iopub.status.idle": "2021-01-10T06:54:56.423272Z",
     "shell.execute_reply": "2021-01-10T06:54:56.422769Z",
     "shell.execute_reply.started": "2021-01-10T06:54:55.984886Z"
    },
    "papermill": {
     "duration": null,
     "end_time": null,
     "exception": null,
     "start_time": null,
     "status": "pending"
    },
    "tags": []
   },
   "outputs": [],
   "source": [
    "fig, ax = plt.subplots(figsize=(8, 4.5))\n",
    "portfolio_return.plot(ax=ax, logy=True);\n",
    "ax.set_title('Commodity intra-curve portfolio')\n",
    "ax.set_ylabel('Cumulative returns');"
   ]
  },
  {
   "cell_type": "code",
   "execution_count": null,
   "id": "b3c1b2c9",
   "metadata": {
    "ExecuteTime": {
     "end_time": "2020-08-31T20:06:51.873126Z",
     "start_time": "2020-08-31T20:06:51.866509Z"
    },
    "execution": {
     "iopub.execute_input": "2021-01-10T06:54:56.424034Z",
     "iopub.status.busy": "2021-01-10T06:54:56.423884Z",
     "iopub.status.idle": "2021-01-10T06:54:56.624774Z",
     "shell.execute_reply": "2021-01-10T06:54:56.624324Z",
     "shell.execute_reply.started": "2021-01-10T06:54:56.424017Z"
    },
    "papermill": {
     "duration": null,
     "end_time": null,
     "exception": null,
     "start_time": null,
     "status": "pending"
    },
    "tags": []
   },
   "outputs": [],
   "source": [
    "portfolio_return.pipe(Performance).summary()"
   ]
  },
  {
   "cell_type": "markdown",
   "id": "9ee2300e",
   "metadata": {
    "papermill": {
     "duration": null,
     "end_time": null,
     "exception": null,
     "start_time": null,
     "status": "pending"
    },
    "tags": []
   },
   "source": [
    "## Performance decomposition"
   ]
  },
  {
   "cell_type": "code",
   "execution_count": null,
   "id": "d63a28c5",
   "metadata": {
    "execution": {
     "iopub.execute_input": "2021-01-10T06:54:56.626029Z",
     "iopub.status.busy": "2021-01-10T06:54:56.625899Z",
     "iopub.status.idle": "2021-01-10T06:56:05.352253Z",
     "shell.execute_reply": "2021-01-10T06:56:05.351745Z",
     "shell.execute_reply.started": "2021-01-10T06:54:56.626012Z"
    },
    "papermill": {
     "duration": null,
     "end_time": null,
     "exception": null,
     "start_time": null,
     "status": "pending"
    },
    "tags": []
   },
   "outputs": [],
   "source": [
    "return_by_commodity = engine.get_return_by_instrument(calculate_net=False)"
   ]
  },
  {
   "cell_type": "markdown",
   "id": "0970daeb",
   "metadata": {
    "papermill": {
     "duration": null,
     "end_time": null,
     "exception": null,
     "start_time": null,
     "status": "pending"
    },
    "tags": []
   },
   "source": [
    "From the decompositon below, F3 - F0 does not seem to be observed across commodities but only for a few contracts. Furthermore it appears unstable over time even if it had positive returns in the long run. Given the nature of spread trading, certain commodities such as precious metal have much muted realised volatility. Hence they point out that a naive portfolio construction will make the strategy primarily exposed to natural gas."
   ]
  },
  {
   "cell_type": "code",
   "execution_count": null,
   "id": "02a141ee",
   "metadata": {
    "execution": {
     "iopub.execute_input": "2021-01-10T06:56:05.353195Z",
     "iopub.status.busy": "2021-01-10T06:56:05.352992Z",
     "iopub.status.idle": "2021-01-10T06:56:12.744181Z",
     "shell.execute_reply": "2021-01-10T06:56:12.743706Z",
     "shell.execute_reply.started": "2021-01-10T06:56:05.353178Z"
    },
    "papermill": {
     "duration": null,
     "end_time": null,
     "exception": null,
     "start_time": null,
     "status": "pending"
    },
    "tags": []
   },
   "outputs": [],
   "source": [
    "fig, ax = plt.subplots(6, 4, figsize=(12, 15), sharex=True, sharey=True)\n",
    "ax = ax.flatten()\n",
    "\n",
    "for idx, i in enumerate(all_futures_lfis_commodity2015.index):\n",
    "    (return_by_commodity.filter(regex=f'^{i}_').dropna().sum(axis=1).add(1).cumprod()\n",
    "     .to_frame('F3 - F0')\n",
    "     .plot(ax=ax[idx], logy=True))\n",
    "    ax[idx].set_title(all_futures_lfis_commodity2015.at[i, 'name'])\n",
    "    \n",
    "    \n",
    "fig.tight_layout()"
   ]
  },
  {
   "cell_type": "markdown",
   "id": "0289ed00",
   "metadata": {
    "papermill": {
     "duration": null,
     "end_time": null,
     "exception": null,
     "start_time": null,
     "status": "pending"
    },
    "tags": []
   },
   "source": [
    "## Strategy's risk\n",
    "\n",
    "In the report, they mention that the spread position (F3 - F0) for certain commodities is exposed to weather and seasonal risk factors. "
   ]
  },
  {
   "cell_type": "code",
   "execution_count": null,
   "id": "81b369f6",
   "metadata": {
    "execution": {
     "iopub.execute_input": "2021-01-10T06:56:12.744991Z",
     "iopub.status.busy": "2021-01-10T06:56:12.744852Z",
     "iopub.status.idle": "2021-01-10T06:56:12.749663Z",
     "shell.execute_reply": "2021-01-10T06:56:12.749178Z",
     "shell.execute_reply.started": "2021-01-10T06:56:12.744973Z"
    },
    "papermill": {
     "duration": null,
     "end_time": null,
     "exception": null,
     "start_time": null,
     "status": "pending"
    },
    "tags": []
   },
   "outputs": [],
   "source": [
    "def drawdown(ret: pd.Series) -> pd.Series:\n",
    "    level = ret.add(1).cumprod()\n",
    "    return level / level.cummax() - 1\n",
    "\n",
    "def monthly_mdd(instrument: str, start_date: datetime) -> pd.DataFrame:\n",
    "    result = (return_by_commodity.filter(regex=f'^{instrument}_').sum(axis=1).to_frame('monthly_return')\n",
    "              [start_date:]\n",
    "              .assign(\n",
    "                  year=lambda df: df.index.year,\n",
    "                  month=lambda df: df.index.month)\n",
    "              .groupby(['year', 'month'])['monthly_return']\n",
    "              .apply(lambda x: drawdown(x).min())\n",
    "              .reset_index()\n",
    "              .pivot_table('monthly_return', index='year', columns='month'))\n",
    "    return result"
   ]
  },
  {
   "cell_type": "markdown",
   "id": "00e26550",
   "metadata": {
    "papermill": {
     "duration": null,
     "end_time": null,
     "exception": null,
     "start_time": null,
     "status": "pending"
    },
    "tags": []
   },
   "source": [
    "As can be seen below, natural gas tends to have larger drawdowns in winter time which is weather related. "
   ]
  },
  {
   "cell_type": "code",
   "execution_count": null,
   "id": "8f471ed5",
   "metadata": {
    "execution": {
     "iopub.execute_input": "2021-01-10T06:56:12.750362Z",
     "iopub.status.busy": "2021-01-10T06:56:12.750226Z",
     "iopub.status.idle": "2021-01-10T06:56:13.205362Z",
     "shell.execute_reply": "2021-01-10T06:56:13.204912Z",
     "shell.execute_reply.started": "2021-01-10T06:56:12.750345Z"
    },
    "papermill": {
     "duration": null,
     "end_time": null,
     "exception": null,
     "start_time": null,
     "status": "pending"
    },
    "tags": []
   },
   "outputs": [],
   "source": [
    "fig, ax = plt.subplots()\n",
    "monthly_mdd('NG', datetime(1991, 1, 1)).plot(kind='box', showfliers=True, ax=ax)\n",
    "ax.set_xlabel('Month')\n",
    "ax.set_ylabel('Monthly drawdown')\n",
    "ax.set_title(all_futures_lfis_commodity2015.at['NG', 'name'])\n",
    "ax.yaxis.set_major_formatter(mticker.PercentFormatter(1, decimals=1))"
   ]
  },
  {
   "cell_type": "markdown",
   "id": "c2fa1dd3",
   "metadata": {
    "papermill": {
     "duration": null,
     "end_time": null,
     "exception": null,
     "start_time": null,
     "status": "pending"
    },
    "tags": []
   },
   "source": [
    "F3 - F0 is essentially a steepener position on the futures curve. In winter time, the front contract can move more drastically than the back end depending on the wheather outcome. In this analysis, the two contracts are weighted dollar neutral and it will hurt the F3-F0 strategy."
   ]
  },
  {
   "cell_type": "code",
   "execution_count": null,
   "id": "e15cbc89",
   "metadata": {
    "execution": {
     "iopub.execute_input": "2021-01-10T06:56:13.206139Z",
     "iopub.status.busy": "2021-01-10T06:56:13.205997Z",
     "iopub.status.idle": "2021-01-10T06:56:19.211466Z",
     "shell.execute_reply": "2021-01-10T06:56:19.210939Z",
     "shell.execute_reply.started": "2021-01-10T06:56:13.206120Z"
    },
    "papermill": {
     "duration": null,
     "end_time": null,
     "exception": null,
     "start_time": null,
     "status": "pending"
    },
    "tags": []
   },
   "outputs": [],
   "source": [
    "ng_f3_settle = engine.get_instrument_leg('NG_F3').get_continuous_settle()\n",
    "ng_f0_settle = engine.get_instrument_leg('NG_F0').get_continuous_settle()"
   ]
  },
  {
   "cell_type": "code",
   "execution_count": null,
   "id": "abd32fc3",
   "metadata": {
    "execution": {
     "iopub.execute_input": "2021-01-10T06:56:19.212435Z",
     "iopub.status.busy": "2021-01-10T06:56:19.212292Z",
     "iopub.status.idle": "2021-01-10T06:56:19.649735Z",
     "shell.execute_reply": "2021-01-10T06:56:19.649244Z",
     "shell.execute_reply.started": "2021-01-10T06:56:19.212417Z"
    },
    "papermill": {
     "duration": null,
     "end_time": null,
     "exception": null,
     "start_time": null,
     "status": "pending"
    },
    "tags": []
   },
   "outputs": [],
   "source": [
    "fig, ax = plt.subplots(2, 1, figsize=(12, 5), sharex=True)\n",
    "ng_f3_settle['2000':'2005'].plot(ax=ax[0], label='NG (F3)')\n",
    "ng_f0_settle['2000':'2005'].plot(ax=ax[0], label='NG (F0)')\n",
    "(ng_f3_settle - ng_f0_settle)['2000':'2005'].plot(ax=ax[1], label='NG (F3 - F0)')\n",
    "ax[0].legend()\n",
    "ax[1].legend()\n",
    "ax[1].axhline(0, color='black', lw=1)\n",
    "ax[0].set_ylabel('NG price (USD)')\n",
    "ax[1].set_ylabel('F3 - F0 (USD)')\n",
    "fig.tight_layout()"
   ]
  },
  {
   "cell_type": "markdown",
   "id": "3c2f31e5",
   "metadata": {
    "papermill": {
     "duration": null,
     "end_time": null,
     "exception": null,
     "start_time": null,
     "status": "pending"
    },
    "tags": []
   },
   "source": [
    "As a result these price moves, the strategy becomes very volatile in winter time and tends to have drawdowns, making it look like a short volatility strategy (it is)."
   ]
  },
  {
   "cell_type": "code",
   "execution_count": null,
   "id": "104de172",
   "metadata": {
    "execution": {
     "iopub.execute_input": "2021-01-10T06:56:19.650500Z",
     "iopub.status.busy": "2021-01-10T06:56:19.650368Z",
     "iopub.status.idle": "2021-01-10T06:56:19.784043Z",
     "shell.execute_reply": "2021-01-10T06:56:19.783565Z",
     "shell.execute_reply.started": "2021-01-10T06:56:19.650483Z"
    },
    "papermill": {
     "duration": null,
     "end_time": null,
     "exception": null,
     "start_time": null,
     "status": "pending"
    },
    "tags": []
   },
   "outputs": [],
   "source": [
    "((return_by_commodity.filter(regex=f'^NG_').dropna().sum(axis=1)['2000':'2005'].add(1).cumprod()\n",
    "  .plot(figsize=(14, 4), title='F3 - F0 strategy (NG)')));"
   ]
  },
  {
   "cell_type": "markdown",
   "id": "1eaba20c",
   "metadata": {
    "papermill": {
     "duration": null,
     "end_time": null,
     "exception": null,
     "start_time": null,
     "status": "pending"
    },
    "tags": []
   },
   "source": [
    "Corn on the other hand has larger risk in spring and the beginning of summer due to the US planting season."
   ]
  },
  {
   "cell_type": "code",
   "execution_count": null,
   "id": "bf3ce975",
   "metadata": {
    "execution": {
     "iopub.execute_input": "2021-01-10T06:56:19.784750Z",
     "iopub.status.busy": "2021-01-10T06:56:19.784604Z",
     "iopub.status.idle": "2021-01-10T06:56:20.211083Z",
     "shell.execute_reply": "2021-01-10T06:56:20.210349Z",
     "shell.execute_reply.started": "2021-01-10T06:56:19.784733Z"
    },
    "papermill": {
     "duration": null,
     "end_time": null,
     "exception": null,
     "start_time": null,
     "status": "pending"
    },
    "tags": []
   },
   "outputs": [],
   "source": [
    "fig, ax = plt.subplots()\n",
    "monthly_mdd('C', datetime(1991, 1, 1)).plot(kind='box', showfliers=True, ax=ax)\n",
    "ax.set_xlabel('Month')\n",
    "ax.set_ylabel('Monthly drawdown')\n",
    "ax.set_title(all_futures_lfis_commodity2015.at['C', 'name'])\n",
    "ax.yaxis.set_major_formatter(mticker.PercentFormatter(1, decimals=1))"
   ]
  },
  {
   "cell_type": "markdown",
   "id": "6c50d33e",
   "metadata": {
    "papermill": {
     "duration": null,
     "end_time": null,
     "exception": null,
     "start_time": null,
     "status": "pending"
    },
    "tags": []
   },
   "source": [
    "## Recent performance"
   ]
  },
  {
   "cell_type": "code",
   "execution_count": null,
   "id": "6f09c588",
   "metadata": {
    "execution": {
     "iopub.execute_input": "2021-01-10T06:56:20.211929Z",
     "iopub.status.busy": "2021-01-10T06:56:20.211787Z",
     "iopub.status.idle": "2021-01-10T06:56:20.533236Z",
     "shell.execute_reply": "2021-01-10T06:56:20.532707Z",
     "shell.execute_reply.started": "2021-01-10T06:56:20.211911Z"
    },
    "papermill": {
     "duration": null,
     "end_time": null,
     "exception": null,
     "start_time": null,
     "status": "pending"
    },
    "tags": []
   },
   "outputs": [],
   "source": [
    "fig, ax = plt.subplots(figsize=(8, 4.5))\n",
    "portfolio_return.tail(252 * 2).plot(ax=ax, logy=True);\n",
    "ax.set_title('Commodity intra-curve portfolio')\n",
    "ax.set_ylabel('Cumulative returns');"
   ]
  },
  {
   "cell_type": "markdown",
   "id": "53ca6a88",
   "metadata": {
    "papermill": {
     "duration": null,
     "end_time": null,
     "exception": null,
     "start_time": null,
     "status": "pending"
    },
    "tags": []
   },
   "source": [
    "# Reference\n",
    "- La Française Group, 2015, Commodity premia: It’s all about risk control"
   ]
  },
  {
   "cell_type": "code",
   "execution_count": null,
   "id": "6e024881",
   "metadata": {
    "ExecuteTime": {
     "end_time": "2020-08-31T05:52:23.734170Z",
     "start_time": "2020-08-31T05:52:23.731627Z"
    },
    "execution": {
     "iopub.execute_input": "2021-01-10T06:56:20.534032Z",
     "iopub.status.busy": "2021-01-10T06:56:20.533895Z",
     "iopub.status.idle": "2021-01-10T06:56:20.536694Z",
     "shell.execute_reply": "2021-01-10T06:56:20.536318Z",
     "shell.execute_reply.started": "2021-01-10T06:56:20.534014Z"
    },
    "papermill": {
     "duration": null,
     "end_time": null,
     "exception": null,
     "start_time": null,
     "status": "pending"
    },
    "tags": []
   },
   "outputs": [],
   "source": [
    "print(f'Updated: {datetime.utcnow():%d-%b-%Y %H:%M}')"
   ]
  }
 ],
 "metadata": {
  "kernelspec": {
   "display_name": "Python 3",
   "language": "python",
   "name": "python3"
  },
  "language_info": {
   "codemirror_mode": {
    "name": "ipython",
    "version": 3
   },
   "file_extension": ".py",
   "mimetype": "text/x-python",
   "name": "python",
   "nbconvert_exporter": "python",
   "pygments_lexer": "ipython3",
   "version": "3.8.1"
  },
  "papermill": {
   "default_parameters": {},
   "duration": null,
   "end_time": null,
   "environment_variables": {},
   "exception": null,
   "input_path": "notebooks/papermill/commodity_intra_curve.ipynb",
   "output_path": "notebooks/commodity_intra_curve.ipynb",
   "parameters": {},
   "start_time": "2023-01-07T09:51:58.356912",
   "version": "2.4.0"
  },
  "toc": {
   "base_numbering": 1,
   "nav_menu": {},
   "number_sections": true,
   "sideBar": true,
   "skip_h1_title": false,
   "title_cell": "Table of Contents",
   "title_sidebar": "Contents",
   "toc_cell": true,
   "toc_position": {
    "height": "calc(100% - 180px)",
    "left": "10px",
    "top": "150px",
    "width": "165px"
   },
   "toc_section_display": true,
   "toc_window_display": true
  },
  "toc-autonumbering": true,
  "toc-showmarkdowntxt": true,
  "toc-showtags": false
 },
 "nbformat": 4,
 "nbformat_minor": 5
}