{
 "cells": [
  {
   "cell_type": "markdown",
   "id": "0eeb8b7f",
   "metadata": {
    "papermill": {
     "duration": 0.010653,
     "end_time": "2023-04-08T09:58:53.742274",
     "exception": false,
     "start_time": "2023-04-08T09:58:53.731621",
     "status": "completed"
    },
    "tags": []
   },
   "source": [
    "# Commodity intra-curve\n",
    "\n",
    "This notebook analyses commodity intra-curve carry strategy. The strategy takes long positions on F3 and short positions on F0. The rationale behind this idea is that commodity producers hedge price risk by selling long-dated futures while commoidty consumers buy short-dated futures to secure near-term consumption. By trading F0 vs F3 one can provide an 'insurance risk premia' to those market participants."
   ]
  },
  {
   "cell_type": "code",
   "execution_count": 1,
   "id": "c5d92afa",
   "metadata": {
    "ExecuteTime": {
     "end_time": "2020-08-31T19:29:24.852122Z",
     "start_time": "2020-08-31T19:29:24.038266Z"
    },
    "execution": {
     "iopub.execute_input": "2023-04-08T09:58:53.764704Z",
     "iopub.status.busy": "2023-04-08T09:58:53.764312Z",
     "iopub.status.idle": "2023-04-08T09:58:56.173036Z",
     "shell.execute_reply": "2023-04-08T09:58:56.172285Z"
    },
    "papermill": {
     "duration": 2.422675,
     "end_time": "2023-04-08T09:58:56.174814",
     "exception": false,
     "start_time": "2023-04-08T09:58:53.752139",
     "status": "completed"
    },
    "tags": []
   },
   "outputs": [],
   "source": [
    "%matplotlib inline\n",
    "from datetime import datetime\n",
    "import logging\n",
    "import warnings\n",
    "warnings.simplefilter(action='ignore', category=FutureWarning)\n",
    "\n",
    "import pandas as pd\n",
    "import matplotlib.pyplot as plt\n",
    "import matplotlib.ticker as mticker\n",
    "plt.style.use('bmh')\n",
    "\n",
    "from vivace.backtest import signal\n",
    "from vivace.backtest.contract import all_futures_lfis_commodity2015, InstrumentDef\n",
    "from vivace.backtest.engine import BacktestEngine\n",
    "from vivace.backtest.enums import Strategy, Weighting\n",
    "from vivace.backtest.stats import Performance"
   ]
  },
  {
   "cell_type": "markdown",
   "id": "ff774793",
   "metadata": {
    "papermill": {
     "duration": 0.005506,
     "end_time": "2023-04-08T09:58:56.185652",
     "exception": false,
     "start_time": "2023-04-08T09:58:56.180146",
     "status": "completed"
    },
    "tags": []
   },
   "source": [
    "# Data\n",
    "\n",
    "22 commodity futures are used as per La Française Group 2015."
   ]
  },
  {
   "cell_type": "code",
   "execution_count": 2,
   "id": "77064e9d",
   "metadata": {
    "execution": {
     "iopub.execute_input": "2023-04-08T09:58:56.197463Z",
     "iopub.status.busy": "2023-04-08T09:58:56.196977Z",
     "iopub.status.idle": "2023-04-08T09:58:56.206707Z",
     "shell.execute_reply": "2023-04-08T09:58:56.206058Z"
    },
    "papermill": {
     "duration": 0.017417,
     "end_time": "2023-04-08T09:58:56.208252",
     "exception": false,
     "start_time": "2023-04-08T09:58:56.190835",
     "status": "completed"
    },
    "tags": []
   },
   "outputs": [
    {
     "data": {
      "text/html": [
       "<div>\n",
       "<style scoped>\n",
       "    .dataframe tbody tr th:only-of-type {\n",
       "        vertical-align: middle;\n",
       "    }\n",
       "\n",
       "    .dataframe tbody tr th {\n",
       "        vertical-align: top;\n",
       "    }\n",
       "\n",
       "    .dataframe thead th {\n",
       "        text-align: right;\n",
       "    }\n",
       "</style>\n",
       "<table border=\"1\" class=\"dataframe\">\n",
       "  <thead>\n",
       "    <tr style=\"text-align: right;\">\n",
       "      <th></th>\n",
       "      <th>name</th>\n",
       "    </tr>\n",
       "    <tr>\n",
       "      <th>ticker</th>\n",
       "      <th></th>\n",
       "    </tr>\n",
       "  </thead>\n",
       "  <tbody>\n",
       "    <tr>\n",
       "      <th>LX</th>\n",
       "      <td>Zinc</td>\n",
       "    </tr>\n",
       "    <tr>\n",
       "      <th>KW</th>\n",
       "      <td>Wheat Kansas</td>\n",
       "    </tr>\n",
       "    <tr>\n",
       "      <th>W</th>\n",
       "      <td>Wheat</td>\n",
       "    </tr>\n",
       "    <tr>\n",
       "      <th>SB</th>\n",
       "      <td>Sugar</td>\n",
       "    </tr>\n",
       "    <tr>\n",
       "      <th>SM</th>\n",
       "      <td>Soybean Meal</td>\n",
       "    </tr>\n",
       "    <tr>\n",
       "      <th>BO</th>\n",
       "      <td>Soybean Oil</td>\n",
       "    </tr>\n",
       "    <tr>\n",
       "      <th>S</th>\n",
       "      <td>Soybean</td>\n",
       "    </tr>\n",
       "    <tr>\n",
       "      <th>SI</th>\n",
       "      <td>Silver</td>\n",
       "    </tr>\n",
       "    <tr>\n",
       "      <th>LN</th>\n",
       "      <td>Nickel</td>\n",
       "    </tr>\n",
       "    <tr>\n",
       "      <th>NG</th>\n",
       "      <td>Natural Gas</td>\n",
       "    </tr>\n",
       "    <tr>\n",
       "      <th>LC</th>\n",
       "      <td>Live Cattle</td>\n",
       "    </tr>\n",
       "    <tr>\n",
       "      <th>LH</th>\n",
       "      <td>Lean Hog</td>\n",
       "    </tr>\n",
       "    <tr>\n",
       "      <th>HO</th>\n",
       "      <td>Heating Oil</td>\n",
       "    </tr>\n",
       "    <tr>\n",
       "      <th>GC</th>\n",
       "      <td>Gold</td>\n",
       "    </tr>\n",
       "    <tr>\n",
       "      <th>XB</th>\n",
       "      <td>Gasoline</td>\n",
       "    </tr>\n",
       "    <tr>\n",
       "      <th>CL</th>\n",
       "      <td>WTI Crude Oil</td>\n",
       "    </tr>\n",
       "    <tr>\n",
       "      <th>CT</th>\n",
       "      <td>Cotton</td>\n",
       "    </tr>\n",
       "    <tr>\n",
       "      <th>C</th>\n",
       "      <td>Corn</td>\n",
       "    </tr>\n",
       "    <tr>\n",
       "      <th>HG</th>\n",
       "      <td>Copper</td>\n",
       "    </tr>\n",
       "    <tr>\n",
       "      <th>KC</th>\n",
       "      <td>Coffee</td>\n",
       "    </tr>\n",
       "    <tr>\n",
       "      <th>CO</th>\n",
       "      <td>Brent Crude Oil</td>\n",
       "    </tr>\n",
       "    <tr>\n",
       "      <th>LA</th>\n",
       "      <td>Aluminium</td>\n",
       "    </tr>\n",
       "  </tbody>\n",
       "</table>\n",
       "</div>"
      ],
      "text/plain": [
       "                   name\n",
       "ticker                 \n",
       "LX                 Zinc\n",
       "KW         Wheat Kansas\n",
       "W                 Wheat\n",
       "SB                Sugar\n",
       "SM         Soybean Meal\n",
       "BO          Soybean Oil\n",
       "S               Soybean\n",
       "SI               Silver\n",
       "LN               Nickel\n",
       "NG          Natural Gas\n",
       "LC          Live Cattle\n",
       "LH             Lean Hog\n",
       "HO          Heating Oil\n",
       "GC                 Gold\n",
       "XB             Gasoline\n",
       "CL        WTI Crude Oil\n",
       "CT               Cotton\n",
       "C                  Corn\n",
       "HG               Copper\n",
       "KC               Coffee\n",
       "CO      Brent Crude Oil\n",
       "LA            Aluminium"
      ]
     },
     "execution_count": 2,
     "metadata": {},
     "output_type": "execute_result"
    }
   ],
   "source": [
    "all_futures_lfis_commodity2015"
   ]
  },
  {
   "cell_type": "code",
   "execution_count": 3,
   "id": "bc13b7cb",
   "metadata": {
    "ExecuteTime": {
     "end_time": "2020-08-31T19:29:26.170389Z",
     "start_time": "2020-08-31T19:29:26.166205Z"
    },
    "execution": {
     "iopub.execute_input": "2023-04-08T09:58:56.220468Z",
     "iopub.status.busy": "2023-04-08T09:58:56.220228Z",
     "iopub.status.idle": "2023-04-08T09:58:56.224527Z",
     "shell.execute_reply": "2023-04-08T09:58:56.223863Z"
    },
    "papermill": {
     "duration": 0.012256,
     "end_time": "2023-04-08T09:58:56.225928",
     "exception": false,
     "start_time": "2023-04-08T09:58:56.213672",
     "status": "completed"
    },
    "tags": []
   },
   "outputs": [
    {
     "data": {
      "text/plain": [
       "(22, 1)"
      ]
     },
     "execution_count": 3,
     "metadata": {},
     "output_type": "execute_result"
    }
   ],
   "source": [
    "all_futures_lfis_commodity2015.shape"
   ]
  },
  {
   "cell_type": "markdown",
   "id": "7adf2c19",
   "metadata": {
    "papermill": {
     "duration": 0.005662,
     "end_time": "2023-04-08T09:58:56.237096",
     "exception": false,
     "start_time": "2023-04-08T09:58:56.231434",
     "status": "completed"
    },
    "tags": []
   },
   "source": [
    "# Performance"
   ]
  },
  {
   "cell_type": "markdown",
   "id": "a62a1697",
   "metadata": {
    "papermill": {
     "duration": 0.005399,
     "end_time": "2023-04-08T09:58:56.247888",
     "exception": false,
     "start_time": "2023-04-08T09:58:56.242489",
     "status": "completed"
    },
    "tags": []
   },
   "source": [
    "## Run backtest\n",
    "\n",
    "In La Française Group 2015, they report a strategy which buys F3 (the third nearby contract) and sells F0 (the first nearby contract) for each commodity futures. Each futures are equally weighted. Note they define F3 as the third contract, but given F0 is the front, F3 should be technically the forth nearby contract."
   ]
  },
  {
   "cell_type": "code",
   "execution_count": 4,
   "id": "970c4ab9",
   "metadata": {
    "execution": {
     "iopub.execute_input": "2023-04-08T09:58:56.260215Z",
     "iopub.status.busy": "2023-04-08T09:58:56.259955Z",
     "iopub.status.idle": "2023-04-08T09:58:56.264141Z",
     "shell.execute_reply": "2023-04-08T09:58:56.263597Z"
    },
    "papermill": {
     "duration": 0.011977,
     "end_time": "2023-04-08T09:58:56.265533",
     "exception": false,
     "start_time": "2023-04-08T09:58:56.253556",
     "status": "completed"
    },
    "tags": []
   },
   "outputs": [],
   "source": [
    "instrument = []\n",
    "for i in all_futures_lfis_commodity2015.index:\n",
    "    instrument.append(InstrumentDef(i, id=f'{i}_F3', long_or_short=1, nth_expiry=4))\n",
    "    instrument.append(InstrumentDef(i, id=f'{i}_F0', long_or_short=-1, nth_expiry=1))"
   ]
  },
  {
   "cell_type": "code",
   "execution_count": null,
   "id": "24d3b7a0",
   "metadata": {
    "ExecuteTime": {
     "end_time": "2020-09-02T22:09:35.368377Z",
     "start_time": "2020-09-02T21:34:59.850395Z"
    },
    "execution": {
     "iopub.execute_input": "2021-01-10T06:45:56.942230Z",
     "iopub.status.busy": "2021-01-10T06:45:56.942045Z",
     "iopub.status.idle": "2021-01-10T06:52:31.814977Z",
     "shell.execute_reply": "2021-01-10T06:52:31.814428Z",
     "shell.execute_reply.started": "2021-01-10T06:45:56.942209Z"
    },
    "papermill": {
     "duration": null,
     "end_time": null,
     "exception": false,
     "start_time": "2023-04-08T09:58:56.273595",
     "status": "running"
    },
    "tags": []
   },
   "outputs": [],
   "source": [
    "engine = BacktestEngine(\n",
    "    strategy=Strategy.DELTA_ONE.value,\n",
    "    instrument=instrument,\n",
    "    weighting=Weighting.EQUAL_WEIGHT.value,\n",
    "    log_level=logging.WARN,\n",
    ")\n",
    "engine.run()"
   ]
  },
  {
   "cell_type": "code",
   "execution_count": null,
   "id": "2b5c5f15",
   "metadata": {
    "ExecuteTime": {
     "end_time": "2020-09-02T20:42:14.779932Z",
     "start_time": "2020-09-02T20:40:39.222688Z"
    },
    "execution": {
     "iopub.execute_input": "2021-01-10T06:52:31.815672Z",
     "iopub.status.busy": "2021-01-10T06:52:31.815541Z",
     "iopub.status.idle": "2021-01-10T06:54:55.984175Z",
     "shell.execute_reply": "2021-01-10T06:54:55.983663Z",
     "shell.execute_reply.started": "2021-01-10T06:52:31.815655Z"
    },
    "papermill": {
     "duration": null,
     "end_time": null,
     "exception": null,
     "start_time": null,
     "status": "pending"
    },
    "tags": []
   },
   "outputs": [],
   "source": [
    "portfolio_return = (engine.calculate_equity_curve(calculate_net=False)\n",
    "                    .rename('Commodity intra-curve portfolio'))"
   ]
  },
  {
   "cell_type": "markdown",
   "id": "21e6622f",
   "metadata": {
    "papermill": {
     "duration": null,
     "end_time": null,
     "exception": null,
     "start_time": null,
     "status": "pending"
    },
    "tags": []
   },
   "source": [
    "With this very naive configuration, the strategy doesn't seem to be working."
   ]
  },
  {
   "cell_type": "code",
   "execution_count": null,
   "id": "610c976f",
   "metadata": {
    "ExecuteTime": {
     "end_time": "2020-09-02T20:45:59.608937Z",
     "start_time": "2020-09-02T20:45:59.405601Z"
    },
    "execution": {
     "iopub.execute_input": "2021-01-10T06:54:55.984903Z",
     "iopub.status.busy": "2021-01-10T06:54:55.984772Z",
     "iopub.status.idle": "2021-01-10T06:54:56.423272Z",
     "shell.execute_reply": "2021-01-10T06:54:56.422769Z",
     "shell.execute_reply.started": "2021-01-10T06:54:55.984886Z"
    },
    "papermill": {
     "duration": null,
     "end_time": null,
     "exception": null,
     "start_time": null,
     "status": "pending"
    },
    "tags": []
   },
   "outputs": [],
   "source": [
    "fig, ax = plt.subplots(figsize=(8, 4.5))\n",
    "portfolio_return.plot(ax=ax, logy=True);\n",
    "ax.set_title('Commodity intra-curve portfolio')\n",
    "ax.set_ylabel('Cumulative returns');"
   ]
  },
  {
   "cell_type": "code",
   "execution_count": null,
   "id": "08cd731c",
   "metadata": {
    "ExecuteTime": {
     "end_time": "2020-08-31T20:06:51.873126Z",
     "start_time": "2020-08-31T20:06:51.866509Z"
    },
    "execution": {
     "iopub.execute_input": "2021-01-10T06:54:56.424034Z",
     "iopub.status.busy": "2021-01-10T06:54:56.423884Z",
     "iopub.status.idle": "2021-01-10T06:54:56.624774Z",
     "shell.execute_reply": "2021-01-10T06:54:56.624324Z",
     "shell.execute_reply.started": "2021-01-10T06:54:56.424017Z"
    },
    "papermill": {
     "duration": null,
     "end_time": null,
     "exception": null,
     "start_time": null,
     "status": "pending"
    },
    "tags": []
   },
   "outputs": [],
   "source": [
    "portfolio_return.pipe(Performance).summary()"
   ]
  },
  {
   "cell_type": "markdown",
   "id": "5ee63949",
   "metadata": {
    "papermill": {
     "duration": null,
     "end_time": null,
     "exception": null,
     "start_time": null,
     "status": "pending"
    },
    "tags": []
   },
   "source": [
    "## Performance decomposition"
   ]
  },
  {
   "cell_type": "code",
   "execution_count": null,
   "id": "ce0134e6",
   "metadata": {
    "execution": {
     "iopub.execute_input": "2021-01-10T06:54:56.626029Z",
     "iopub.status.busy": "2021-01-10T06:54:56.625899Z",
     "iopub.status.idle": "2021-01-10T06:56:05.352253Z",
     "shell.execute_reply": "2021-01-10T06:56:05.351745Z",
     "shell.execute_reply.started": "2021-01-10T06:54:56.626012Z"
    },
    "papermill": {
     "duration": null,
     "end_time": null,
     "exception": null,
     "start_time": null,
     "status": "pending"
    },
    "tags": []
   },
   "outputs": [],
   "source": [
    "return_by_commodity = engine.get_return_by_instrument(calculate_net=False)"
   ]
  },
  {
   "cell_type": "markdown",
   "id": "33cc4a08",
   "metadata": {
    "papermill": {
     "duration": null,
     "end_time": null,
     "exception": null,
     "start_time": null,
     "status": "pending"
    },
    "tags": []
   },
   "source": [
    "From the decompositon below, F3 - F0 does not seem to be observed across commodities but only for a few contracts. Furthermore it appears unstable over time even if it had positive returns in the long run. Given the nature of spread trading, certain commodities such as precious metal have much muted realised volatility. Hence they point out that a naive portfolio construction will make the strategy primarily exposed to natural gas."
   ]
  },
  {
   "cell_type": "code",
   "execution_count": null,
   "id": "d9036ffc",
   "metadata": {
    "execution": {
     "iopub.execute_input": "2021-01-10T06:56:05.353195Z",
     "iopub.status.busy": "2021-01-10T06:56:05.352992Z",
     "iopub.status.idle": "2021-01-10T06:56:12.744181Z",
     "shell.execute_reply": "2021-01-10T06:56:12.743706Z",
     "shell.execute_reply.started": "2021-01-10T06:56:05.353178Z"
    },
    "papermill": {
     "duration": null,
     "end_time": null,
     "exception": null,
     "start_time": null,
     "status": "pending"
    },
    "tags": []
   },
   "outputs": [],
   "source": [
    "fig, ax = plt.subplots(6, 4, figsize=(12, 15), sharex=True, sharey=True)\n",
    "ax = ax.flatten()\n",
    "\n",
    "for idx, i in enumerate(all_futures_lfis_commodity2015.index):\n",
    "    (return_by_commodity.filter(regex=f'^{i}_').dropna().sum(axis=1).add(1).cumprod()\n",
    "     .to_frame('F3 - F0')\n",
    "     .plot(ax=ax[idx], logy=True))\n",
    "    ax[idx].set_title(all_futures_lfis_commodity2015.at[i, 'name'])\n",
    "    \n",
    "    \n",
    "fig.tight_layout()"
   ]
  },
  {
   "cell_type": "markdown",
   "id": "c3a5bbe9",
   "metadata": {
    "papermill": {
     "duration": null,
     "end_time": null,
     "exception": null,
     "start_time": null,
     "status": "pending"
    },
    "tags": []
   },
   "source": [
    "## Strategy's risk\n",
    "\n",
    "In the report, they mention that the spread position (F3 - F0) for certain commodities is exposed to weather and seasonal risk factors. "
   ]
  },
  {
   "cell_type": "code",
   "execution_count": null,
   "id": "26239a19",
   "metadata": {
    "execution": {
     "iopub.execute_input": "2021-01-10T06:56:12.744991Z",
     "iopub.status.busy": "2021-01-10T06:56:12.744852Z",
     "iopub.status.idle": "2021-01-10T06:56:12.749663Z",
     "shell.execute_reply": "2021-01-10T06:56:12.749178Z",
     "shell.execute_reply.started": "2021-01-10T06:56:12.744973Z"
    },
    "papermill": {
     "duration": null,
     "end_time": null,
     "exception": null,
     "start_time": null,
     "status": "pending"
    },
    "tags": []
   },
   "outputs": [],
   "source": [
    "def drawdown(ret: pd.Series) -> pd.Series:\n",
    "    level = ret.add(1).cumprod()\n",
    "    return level / level.cummax() - 1\n",
    "\n",
    "def monthly_mdd(instrument: str, start_date: datetime) -> pd.DataFrame:\n",
    "    result = (return_by_commodity.filter(regex=f'^{instrument}_').sum(axis=1).to_frame('monthly_return')\n",
    "              [start_date:]\n",
    "              .assign(\n",
    "                  year=lambda df: df.index.year,\n",
    "                  month=lambda df: df.index.month)\n",
    "              .groupby(['year', 'month'])['monthly_return']\n",
    "              .apply(lambda x: drawdown(x).min())\n",
    "              .reset_index()\n",
    "              .pivot_table('monthly_return', index='year', columns='month'))\n",
    "    return result"
   ]
  },
  {
   "cell_type": "markdown",
   "id": "1a41f822",
   "metadata": {
    "papermill": {
     "duration": null,
     "end_time": null,
     "exception": null,
     "start_time": null,
     "status": "pending"
    },
    "tags": []
   },
   "source": [
    "As can be seen below, natural gas tends to have larger drawdowns in winter time which is weather related. "
   ]
  },
  {
   "cell_type": "code",
   "execution_count": null,
   "id": "4f3f74c3",
   "metadata": {
    "execution": {
     "iopub.execute_input": "2021-01-10T06:56:12.750362Z",
     "iopub.status.busy": "2021-01-10T06:56:12.750226Z",
     "iopub.status.idle": "2021-01-10T06:56:13.205362Z",
     "shell.execute_reply": "2021-01-10T06:56:13.204912Z",
     "shell.execute_reply.started": "2021-01-10T06:56:12.750345Z"
    },
    "papermill": {
     "duration": null,
     "end_time": null,
     "exception": null,
     "start_time": null,
     "status": "pending"
    },
    "tags": []
   },
   "outputs": [],
   "source": [
    "fig, ax = plt.subplots()\n",
    "monthly_mdd('NG', datetime(1991, 1, 1)).plot(kind='box', showfliers=True, ax=ax)\n",
    "ax.set_xlabel('Month')\n",
    "ax.set_ylabel('Monthly drawdown')\n",
    "ax.set_title(all_futures_lfis_commodity2015.at['NG', 'name'])\n",
    "ax.yaxis.set_major_formatter(mticker.PercentFormatter(1, decimals=1))"
   ]
  },
  {
   "cell_type": "markdown",
   "id": "32899d4b",
   "metadata": {
    "papermill": {
     "duration": null,
     "end_time": null,
     "exception": null,
     "start_time": null,
     "status": "pending"
    },
    "tags": []
   },
   "source": [
    "F3 - F0 is essentially a steepener position on the futures curve. In winter time, the front contract can move more drastically than the back end depending on the wheather outcome. In this analysis, the two contracts are weighted dollar neutral and it will hurt the F3-F0 strategy."
   ]
  },
  {
   "cell_type": "code",
   "execution_count": null,
   "id": "56b2663b",
   "metadata": {
    "execution": {
     "iopub.execute_input": "2021-01-10T06:56:13.206139Z",
     "iopub.status.busy": "2021-01-10T06:56:13.205997Z",
     "iopub.status.idle": "2021-01-10T06:56:19.211466Z",
     "shell.execute_reply": "2021-01-10T06:56:19.210939Z",
     "shell.execute_reply.started": "2021-01-10T06:56:13.206120Z"
    },
    "papermill": {
     "duration": null,
     "end_time": null,
     "exception": null,
     "start_time": null,
     "status": "pending"
    },
    "tags": []
   },
   "outputs": [],
   "source": [
    "ng_f3_settle = engine.get_instrument_leg('NG_F3').get_continuous_settle()\n",
    "ng_f0_settle = engine.get_instrument_leg('NG_F0').get_continuous_settle()"
   ]
  },
  {
   "cell_type": "code",
   "execution_count": null,
   "id": "d694f722",
   "metadata": {
    "execution": {
     "iopub.execute_input": "2021-01-10T06:56:19.212435Z",
     "iopub.status.busy": "2021-01-10T06:56:19.212292Z",
     "iopub.status.idle": "2021-01-10T06:56:19.649735Z",
     "shell.execute_reply": "2021-01-10T06:56:19.649244Z",
     "shell.execute_reply.started": "2021-01-10T06:56:19.212417Z"
    },
    "papermill": {
     "duration": null,
     "end_time": null,
     "exception": null,
     "start_time": null,
     "status": "pending"
    },
    "tags": []
   },
   "outputs": [],
   "source": [
    "fig, ax = plt.subplots(2, 1, figsize=(12, 5), sharex=True)\n",
    "ng_f3_settle['2000':'2005'].plot(ax=ax[0], label='NG (F3)')\n",
    "ng_f0_settle['2000':'2005'].plot(ax=ax[0], label='NG (F0)')\n",
    "(ng_f3_settle - ng_f0_settle)['2000':'2005'].plot(ax=ax[1], label='NG (F3 - F0)')\n",
    "ax[0].legend()\n",
    "ax[1].legend()\n",
    "ax[1].axhline(0, color='black', lw=1)\n",
    "ax[0].set_ylabel('NG price (USD)')\n",
    "ax[1].set_ylabel('F3 - F0 (USD)')\n",
    "fig.tight_layout()"
   ]
  },
  {
   "cell_type": "markdown",
   "id": "0df7b938",
   "metadata": {
    "papermill": {
     "duration": null,
     "end_time": null,
     "exception": null,
     "start_time": null,
     "status": "pending"
    },
    "tags": []
   },
   "source": [
    "As a result these price moves, the strategy becomes very volatile in winter time and tends to have drawdowns, making it look like a short volatility strategy (it is)."
   ]
  },
  {
   "cell_type": "code",
   "execution_count": null,
   "id": "abdec6ac",
   "metadata": {
    "execution": {
     "iopub.execute_input": "2021-01-10T06:56:19.650500Z",
     "iopub.status.busy": "2021-01-10T06:56:19.650368Z",
     "iopub.status.idle": "2021-01-10T06:56:19.784043Z",
     "shell.execute_reply": "2021-01-10T06:56:19.783565Z",
     "shell.execute_reply.started": "2021-01-10T06:56:19.650483Z"
    },
    "papermill": {
     "duration": null,
     "end_time": null,
     "exception": null,
     "start_time": null,
     "status": "pending"
    },
    "tags": []
   },
   "outputs": [],
   "source": [
    "((return_by_commodity.filter(regex=f'^NG_').dropna().sum(axis=1)['2000':'2005'].add(1).cumprod()\n",
    "  .plot(figsize=(14, 4), title='F3 - F0 strategy (NG)')));"
   ]
  },
  {
   "cell_type": "markdown",
   "id": "0359189e",
   "metadata": {
    "papermill": {
     "duration": null,
     "end_time": null,
     "exception": null,
     "start_time": null,
     "status": "pending"
    },
    "tags": []
   },
   "source": [
    "Corn on the other hand has larger risk in spring and the beginning of summer due to the US planting season."
   ]
  },
  {
   "cell_type": "code",
   "execution_count": null,
   "id": "538fa631",
   "metadata": {
    "execution": {
     "iopub.execute_input": "2021-01-10T06:56:19.784750Z",
     "iopub.status.busy": "2021-01-10T06:56:19.784604Z",
     "iopub.status.idle": "2021-01-10T06:56:20.211083Z",
     "shell.execute_reply": "2021-01-10T06:56:20.210349Z",
     "shell.execute_reply.started": "2021-01-10T06:56:19.784733Z"
    },
    "papermill": {
     "duration": null,
     "end_time": null,
     "exception": null,
     "start_time": null,
     "status": "pending"
    },
    "tags": []
   },
   "outputs": [],
   "source": [
    "fig, ax = plt.subplots()\n",
    "monthly_mdd('C', datetime(1991, 1, 1)).plot(kind='box', showfliers=True, ax=ax)\n",
    "ax.set_xlabel('Month')\n",
    "ax.set_ylabel('Monthly drawdown')\n",
    "ax.set_title(all_futures_lfis_commodity2015.at['C', 'name'])\n",
    "ax.yaxis.set_major_formatter(mticker.PercentFormatter(1, decimals=1))"
   ]
  },
  {
   "cell_type": "markdown",
   "id": "66548a40",
   "metadata": {
    "papermill": {
     "duration": null,
     "end_time": null,
     "exception": null,
     "start_time": null,
     "status": "pending"
    },
    "tags": []
   },
   "source": [
    "## Recent performance"
   ]
  },
  {
   "cell_type": "code",
   "execution_count": null,
   "id": "6f57cab1",
   "metadata": {
    "execution": {
     "iopub.execute_input": "2021-01-10T06:56:20.211929Z",
     "iopub.status.busy": "2021-01-10T06:56:20.211787Z",
     "iopub.status.idle": "2021-01-10T06:56:20.533236Z",
     "shell.execute_reply": "2021-01-10T06:56:20.532707Z",
     "shell.execute_reply.started": "2021-01-10T06:56:20.211911Z"
    },
    "papermill": {
     "duration": null,
     "end_time": null,
     "exception": null,
     "start_time": null,
     "status": "pending"
    },
    "tags": []
   },
   "outputs": [],
   "source": [
    "fig, ax = plt.subplots(figsize=(8, 4.5))\n",
    "portfolio_return.tail(252 * 2).plot(ax=ax, logy=True);\n",
    "ax.set_title('Commodity intra-curve portfolio')\n",
    "ax.set_ylabel('Cumulative returns');"
   ]
  },
  {
   "cell_type": "markdown",
   "id": "4d87fa19",
   "metadata": {
    "papermill": {
     "duration": null,
     "end_time": null,
     "exception": null,
     "start_time": null,
     "status": "pending"
    },
    "tags": []
   },
   "source": [
    "# Reference\n",
    "- La Française Group, 2015, Commodity premia: It’s all about risk control"
   ]
  },
  {
   "cell_type": "code",
   "execution_count": null,
   "id": "a0fd0d35",
   "metadata": {
    "ExecuteTime": {
     "end_time": "2020-08-31T05:52:23.734170Z",
     "start_time": "2020-08-31T05:52:23.731627Z"
    },
    "execution": {
     "iopub.execute_input": "2021-01-10T06:56:20.534032Z",
     "iopub.status.busy": "2021-01-10T06:56:20.533895Z",
     "iopub.status.idle": "2021-01-10T06:56:20.536694Z",
     "shell.execute_reply": "2021-01-10T06:56:20.536318Z",
     "shell.execute_reply.started": "2021-01-10T06:56:20.534014Z"
    },
    "papermill": {
     "duration": null,
     "end_time": null,
     "exception": null,
     "start_time": null,
     "status": "pending"
    },
    "tags": []
   },
   "outputs": [],
   "source": [
    "print(f'Updated: {datetime.utcnow():%d-%b-%Y %H:%M}')"
   ]
  }
 ],
 "metadata": {
  "kernelspec": {
   "display_name": "Python 3",
   "language": "python",
   "name": "python3"
  },
  "language_info": {
   "codemirror_mode": {
    "name": "ipython",
    "version": 3
   },
   "file_extension": ".py",
   "mimetype": "text/x-python",
   "name": "python",
   "nbconvert_exporter": "python",
   "pygments_lexer": "ipython3",
   "version": "3.8.1"
  },
  "papermill": {
   "default_parameters": {},
   "duration": null,
   "end_time": null,
   "environment_variables": {},
   "exception": null,
   "input_path": "notebooks/papermill/commodity_intra_curve.ipynb",
   "output_path": "notebooks/commodity_intra_curve.ipynb",
   "parameters": {},
   "start_time": "2023-04-08T09:58:52.377032",
   "version": "2.4.0"
  },
  "toc": {
   "base_numbering": 1,
   "nav_menu": {},
   "number_sections": true,
   "sideBar": true,
   "skip_h1_title": false,
   "title_cell": "Table of Contents",
   "title_sidebar": "Contents",
   "toc_cell": true,
   "toc_position": {
    "height": "calc(100% - 180px)",
    "left": "10px",
    "top": "150px",
    "width": "165px"
   },
   "toc_section_display": true,
   "toc_window_display": true
  },
  "toc-autonumbering": true,
  "toc-showmarkdowntxt": true,
  "toc-showtags": false
 },
 "nbformat": 4,
 "nbformat_minor": 5
}