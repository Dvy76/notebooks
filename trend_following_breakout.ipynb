{
 "cells": [
  {
   "cell_type": "markdown",
   "id": "d25a09ab",
   "metadata": {
    "papermill": {
     "duration": 0.007656,
     "end_time": "2022-06-04T09:56:58.212526",
     "exception": false,
     "start_time": "2022-06-04T09:56:58.204870",
     "status": "completed"
    },
    "tags": []
   },
   "source": [
    "# Trend-following breakout strategy\n",
    "\n",
    "This notebook displays the performance of trend-following strategies across major asset classes. The difference here compared to Moskowitz et al (2012) is that the trend signal is computed by the so-called \"breakout\" methodology. In this analysis, a simple breakout rule is tested where a long position is entered when the current price is above the local max (lookback = 1 year). The long position is maintained until the price goes below trailing minimum after which the position is flipped to short. Similar to Moskowitz et al (2012) the resulting signal is binary where there is no neutral position."
   ]
  },
  {
   "cell_type": "code",
   "execution_count": 1,
   "id": "a7ff6ef1",
   "metadata": {
    "ExecuteTime": {
     "end_time": "2020-08-30T21:08:49.524262Z",
     "start_time": "2020-08-30T21:08:48.720115Z"
    },
    "execution": {
     "iopub.execute_input": "2022-06-04T09:56:58.227826Z",
     "iopub.status.busy": "2022-06-04T09:56:58.227539Z",
     "iopub.status.idle": "2022-06-04T09:57:01.152921Z",
     "shell.execute_reply": "2022-06-04T09:57:01.152116Z"
    },
    "papermill": {
     "duration": 2.935927,
     "end_time": "2022-06-04T09:57:01.155286",
     "exception": false,
     "start_time": "2022-06-04T09:56:58.219359",
     "status": "completed"
    },
    "tags": []
   },
   "outputs": [],
   "source": [
    "%matplotlib inline\n",
    "from datetime import datetime\n",
    "import logging\n",
    "import warnings\n",
    "warnings.simplefilter(action='ignore', category=FutureWarning)\n",
    "\n",
    "import pandas as pd\n",
    "import matplotlib.pyplot as plt\n",
    "plt.style.use('bmh')\n",
    "\n",
    "from vivace.backtest import BacktestEngine, signal, processing\n",
    "from vivace.backtest.analytics import rebase\n",
    "from vivace.backtest.contract import all_futures_moskowitz2012\n",
    "from vivace.backtest.enums import Strategy, Weighting\n",
    "from vivace.backtest.stats import Performance, PerfStats"
   ]
  },
  {
   "cell_type": "markdown",
   "id": "41c9ccd7",
   "metadata": {
    "papermill": {
     "duration": 0.010792,
     "end_time": "2022-06-04T09:57:01.177463",
     "exception": false,
     "start_time": "2022-06-04T09:57:01.166671",
     "status": "completed"
    },
    "tags": []
   },
   "source": [
    "# Data\n",
    "\n",
    "The same trading universe as `trend_following_moskowitz2012.ipynb` is used covering 50 futures contracts."
   ]
  },
  {
   "cell_type": "code",
   "execution_count": 2,
   "id": "9b7fa1b0",
   "metadata": {
    "ExecuteTime": {
     "end_time": "2020-08-30T21:08:49.529214Z",
     "start_time": "2020-08-30T21:08:49.525465Z"
    },
    "execution": {
     "iopub.execute_input": "2022-06-04T09:57:01.200343Z",
     "iopub.status.busy": "2022-06-04T09:57:01.200131Z",
     "iopub.status.idle": "2022-06-04T09:57:01.207225Z",
     "shell.execute_reply": "2022-06-04T09:57:01.206682Z"
    },
    "papermill": {
     "duration": 0.022281,
     "end_time": "2022-06-04T09:57:01.210371",
     "exception": false,
     "start_time": "2022-06-04T09:57:01.188090",
     "status": "completed"
    },
    "tags": []
   },
   "outputs": [
    {
     "data": {
      "text/plain": [
       "array(['Aluminium', 'Brent Crude Oil', 'Live Cattle', 'Cocoa', 'Coffee',\n",
       "       'Copper', 'Corn', 'Cotton', 'WTI Crude Oil', 'Gas Oil', 'Gold',\n",
       "       'Heating Oil', 'Lean Hog', 'Natural Gas', 'Nickel', 'Platinum',\n",
       "       'Silver', 'Soybean', 'Soybean Meal', 'Soybean Oil', 'Sugar',\n",
       "       'Gasoline', 'Wheat', 'Zinc', 'Australian Dollar', 'British Pound',\n",
       "       'Euro', 'Canadian Dollar', 'Japanese Yen', 'SPI 200', 'DAX',\n",
       "       'IBEX 35', 'CAC 40', 'Topix', 'AEX', 'FTSE 100', 'S&P 500',\n",
       "       'Australia 3-year Treasury', 'Australia 10-year Treasury',\n",
       "       'Germany Schatz', 'Germany Bobl', 'Germany Bund', 'Germany Buxl',\n",
       "       'Canada 10-year Treasury', 'JGB', 'Gilt', 'US 2-year Treasury',\n",
       "       'US 5-year Treasury', 'US 10-year Treasury', 'US Treasury Bond'],\n",
       "      dtype=object)"
      ]
     },
     "execution_count": 2,
     "metadata": {},
     "output_type": "execute_result"
    }
   ],
   "source": [
    "all_futures_moskowitz2012['name'].values"
   ]
  },
  {
   "cell_type": "code",
   "execution_count": 3,
   "id": "8344fc3a",
   "metadata": {
    "ExecuteTime": {
     "end_time": "2020-08-30T21:08:49.542477Z",
     "start_time": "2020-08-30T21:08:49.530487Z"
    },
    "execution": {
     "iopub.execute_input": "2022-06-04T09:57:01.233693Z",
     "iopub.status.busy": "2022-06-04T09:57:01.233088Z",
     "iopub.status.idle": "2022-06-04T09:57:01.238134Z",
     "shell.execute_reply": "2022-06-04T09:57:01.237497Z"
    },
    "papermill": {
     "duration": 0.019078,
     "end_time": "2022-06-04T09:57:01.240377",
     "exception": false,
     "start_time": "2022-06-04T09:57:01.221299",
     "status": "completed"
    },
    "tags": []
   },
   "outputs": [
    {
     "data": {
      "text/plain": [
       "50"
      ]
     },
     "execution_count": 3,
     "metadata": {},
     "output_type": "execute_result"
    }
   ],
   "source": [
    "len(all_futures_moskowitz2012)"
   ]
  },
  {
   "cell_type": "markdown",
   "id": "a10e25e9",
   "metadata": {
    "papermill": {
     "duration": 0.011061,
     "end_time": "2022-06-04T09:57:01.262930",
     "exception": false,
     "start_time": "2022-06-04T09:57:01.251869",
     "status": "completed"
    },
    "tags": []
   },
   "source": [
    "# Performance"
   ]
  },
  {
   "cell_type": "markdown",
   "id": "5f61e95e",
   "metadata": {
    "papermill": {
     "duration": 0.011303,
     "end_time": "2022-06-04T09:57:01.285543",
     "exception": false,
     "start_time": "2022-06-04T09:57:01.274240",
     "status": "completed"
    },
    "tags": []
   },
   "source": [
    "## Breakout strategy\n",
    "\n",
    "The above instruments are combined with a equal-risk (realised volatility) weighting methodology. "
   ]
  },
  {
   "cell_type": "code",
   "execution_count": null,
   "id": "01eb2906",
   "metadata": {
    "execution": {
     "iopub.execute_input": "2021-07-31T14:11:18.925327Z",
     "iopub.status.busy": "2021-07-31T14:11:18.925144Z",
     "iopub.status.idle": "2021-07-31T14:17:00.237298Z",
     "shell.execute_reply": "2021-07-31T14:17:00.236881Z",
     "shell.execute_reply.started": "2021-07-31T14:11:18.925307Z"
    },
    "papermill": {
     "duration": null,
     "end_time": null,
     "exception": false,
     "start_time": "2022-06-04T09:57:01.296634",
     "status": "running"
    },
    "tags": []
   },
   "outputs": [],
   "source": [
    "engine_breakout = BacktestEngine(\n",
    "    strategy=Strategy.DELTA_ONE.value,\n",
    "    instrument=all_futures_moskowitz2012.index,\n",
    "    signal=signal.ParallelSignal([\n",
    "        signal.VolatilityScale(agg_method='ewm', com=60, ann_factor=261, \n",
    "                               target_volatility=0.4, signal_cap=0.95,\n",
    "                               post_process=processing.AsFreq(freq='m', method='pad')),\n",
    "        signal.BreakoutLocalExtreme()\n",
    "    ], weighting='product'),\n",
    "    weighting=Weighting.EQUAL_WEIGHT.value,\n",
    "    log_level=logging.WARN,\n",
    ")\n",
    "engine_breakout.run()"
   ]
  },
  {
   "cell_type": "code",
   "execution_count": null,
   "id": "57a358c1",
   "metadata": {
    "execution": {
     "iopub.execute_input": "2021-07-31T14:17:00.237842Z",
     "iopub.status.busy": "2021-07-31T14:17:00.237747Z",
     "iopub.status.idle": "2021-07-31T14:17:44.997427Z",
     "shell.execute_reply": "2021-07-31T14:17:44.997060Z",
     "shell.execute_reply.started": "2021-07-31T14:17:00.237830Z"
    },
    "papermill": {
     "duration": null,
     "end_time": null,
     "exception": null,
     "start_time": null,
     "status": "pending"
    },
    "tags": []
   },
   "outputs": [],
   "source": [
    "portfolio_breakout = (engine_breakout.calculate_equity_curve(calculate_net=False, rebalance_freq='m')\n",
    "                      .rename('Trend-following breakout portfolio'))"
   ]
  },
  {
   "cell_type": "markdown",
   "id": "18f6ea5b",
   "metadata": {
    "papermill": {
     "duration": null,
     "end_time": null,
     "exception": null,
     "start_time": null,
     "status": "pending"
    },
    "tags": []
   },
   "source": [
    "## TSMOM\n",
    "\n",
    "The same backtest configuration as `trend_following_moskowitz2012.ipynb` is analyses as a benchmark."
   ]
  },
  {
   "cell_type": "code",
   "execution_count": null,
   "id": "b338f854",
   "metadata": {
    "execution": {
     "iopub.execute_input": "2021-07-31T14:17:44.997999Z",
     "iopub.status.busy": "2021-07-31T14:17:44.997899Z",
     "iopub.status.idle": "2021-07-31T14:23:23.056535Z",
     "shell.execute_reply": "2021-07-31T14:23:23.055985Z",
     "shell.execute_reply.started": "2021-07-31T14:17:44.997986Z"
    },
    "papermill": {
     "duration": null,
     "end_time": null,
     "exception": null,
     "start_time": null,
     "status": "pending"
    },
    "tags": []
   },
   "outputs": [],
   "source": [
    "engine_tsmom = BacktestEngine(\n",
    "    strategy=Strategy.DELTA_ONE.value,\n",
    "    instrument=all_futures_moskowitz2012.index,\n",
    "    signal=signal.ParallelSignal([\n",
    "        signal.VolatilityScale(agg_method='ewm', com=60, ann_factor=261, \n",
    "                               target_volatility=0.4, signal_cap=0.95,\n",
    "                               post_process=processing.AsFreq(freq='m', method='pad')),\n",
    "        signal.TSMOMMoskowitz2012(post_process=processing.AsFreq(freq='m', method='pad'))\n",
    "    ], weighting='product'),\n",
    "    weighting=Weighting.EQUAL_WEIGHT.value,\n",
    "    log_level=logging.WARN,\n",
    ")\n",
    "engine_tsmom.run()"
   ]
  },
  {
   "cell_type": "code",
   "execution_count": null,
   "id": "c361f641",
   "metadata": {
    "ExecuteTime": {
     "end_time": "2020-08-30T21:19:28.992288Z",
     "start_time": "2020-08-30T21:18:24.662276Z"
    },
    "execution": {
     "iopub.execute_input": "2021-07-31T14:23:23.057267Z",
     "iopub.status.busy": "2021-07-31T14:23:23.057131Z",
     "iopub.status.idle": "2021-07-31T14:24:10.137507Z",
     "shell.execute_reply": "2021-07-31T14:24:10.136982Z",
     "shell.execute_reply.started": "2021-07-31T14:23:23.057249Z"
    },
    "papermill": {
     "duration": null,
     "end_time": null,
     "exception": null,
     "start_time": null,
     "status": "pending"
    },
    "tags": []
   },
   "outputs": [],
   "source": [
    "portfolio_tsmom = (engine_tsmom.calculate_equity_curve(calculate_net=False, rebalance_freq='m')\n",
    "                   .rename('Trend-following portfolio (Moskowitz 2012)'))"
   ]
  },
  {
   "cell_type": "markdown",
   "id": "aa2559f3",
   "metadata": {
    "papermill": {
     "duration": null,
     "end_time": null,
     "exception": null,
     "start_time": null,
     "status": "pending"
    },
    "tags": []
   },
   "source": [
    "## Portfolio\n",
    "\n",
    "As mentioned in Chevallier and Ielpo (2014), the breakout strategy seem to capture the same premium as the TSMOM implementation. Performance look broadly similar to each other."
   ]
  },
  {
   "cell_type": "code",
   "execution_count": null,
   "id": "51615164",
   "metadata": {
    "ExecuteTime": {
     "end_time": "2020-08-30T21:19:29.413070Z",
     "start_time": "2020-08-30T21:19:28.993404Z"
    },
    "execution": {
     "iopub.execute_input": "2021-07-31T14:24:10.138797Z",
     "iopub.status.busy": "2021-07-31T14:24:10.138653Z",
     "iopub.status.idle": "2021-07-31T14:24:10.630256Z",
     "shell.execute_reply": "2021-07-31T14:24:10.629826Z",
     "shell.execute_reply.started": "2021-07-31T14:24:10.138779Z"
    },
    "papermill": {
     "duration": null,
     "end_time": null,
     "exception": null,
     "start_time": null,
     "status": "pending"
    },
    "tags": []
   },
   "outputs": [],
   "source": [
    "fig, ax = plt.subplots(figsize=(8, 4.5))\n",
    "portfolio_comparison = pd.concat((\n",
    "    portfolio_breakout,\n",
    "    portfolio_tsmom\n",
    "), axis=1)\n",
    "\n",
    "portfolio_comparison.plot(ax=ax, logy=True);\n",
    "ax.set_title('Trend-following portfolio comparison')\n",
    "ax.set_ylabel('Cumulative returns');"
   ]
  },
  {
   "cell_type": "code",
   "execution_count": null,
   "id": "5a593c7b",
   "metadata": {
    "ExecuteTime": {
     "end_time": "2020-08-30T21:19:29.721845Z",
     "start_time": "2020-08-30T21:19:29.414098Z"
    },
    "execution": {
     "iopub.execute_input": "2021-07-31T14:24:10.631178Z",
     "iopub.status.busy": "2021-07-31T14:24:10.631051Z",
     "iopub.status.idle": "2021-07-31T14:24:10.806495Z",
     "shell.execute_reply": "2021-07-31T14:24:10.806067Z",
     "shell.execute_reply.started": "2021-07-31T14:24:10.631161Z"
    },
    "papermill": {
     "duration": null,
     "end_time": null,
     "exception": null,
     "start_time": null,
     "status": "pending"
    },
    "tags": []
   },
   "outputs": [],
   "source": [
    "portfolio_comparison.pipe(Performance).summary()"
   ]
  },
  {
   "cell_type": "markdown",
   "id": "dffd62bd",
   "metadata": {
    "papermill": {
     "duration": null,
     "end_time": null,
     "exception": null,
     "start_time": null,
     "status": "pending"
    },
    "tags": []
   },
   "source": [
    "## Breakdown by futures contract\n",
    "\n",
    "Most of the contracts contributed positively when the trend-following signal is applied."
   ]
  },
  {
   "cell_type": "code",
   "execution_count": null,
   "id": "c2f1cd09",
   "metadata": {
    "ExecuteTime": {
     "end_time": "2020-08-30T21:20:30.856989Z",
     "start_time": "2020-08-30T21:19:29.723274Z"
    },
    "execution": {
     "iopub.execute_input": "2021-07-31T14:24:10.807198Z",
     "iopub.status.busy": "2021-07-31T14:24:10.807057Z",
     "iopub.status.idle": "2021-07-31T14:25:37.263637Z",
     "shell.execute_reply": "2021-07-31T14:25:37.263195Z",
     "shell.execute_reply.started": "2021-07-31T14:24:10.807180Z"
    },
    "papermill": {
     "duration": null,
     "end_time": null,
     "exception": null,
     "start_time": null,
     "status": "pending"
    },
    "tags": []
   },
   "outputs": [],
   "source": [
    "instrument_breakout = engine_breakout.get_return_by_instrument(calculate_net=False).cumsum()\n",
    "instrument_tsmom = engine_tsmom.get_return_by_instrument(calculate_net=False).cumsum()"
   ]
  },
  {
   "cell_type": "code",
   "execution_count": null,
   "id": "30d6ed5b",
   "metadata": {
    "ExecuteTime": {
     "end_time": "2020-08-30T21:20:31.258799Z",
     "start_time": "2020-08-30T21:20:30.858285Z"
    },
    "execution": {
     "iopub.execute_input": "2021-07-31T14:25:37.264355Z",
     "iopub.status.busy": "2021-07-31T14:25:37.264252Z",
     "iopub.status.idle": "2021-07-31T14:25:37.279558Z",
     "shell.execute_reply": "2021-07-31T14:25:37.279150Z",
     "shell.execute_reply.started": "2021-07-31T14:25:37.264342Z"
    },
    "papermill": {
     "duration": null,
     "end_time": null,
     "exception": null,
     "start_time": null,
     "status": "pending"
    },
    "scrolled": true,
    "tags": []
   },
   "outputs": [],
   "source": [
    "sharpe_breakout = (instrument_breakout.pipe(Performance, return_type='diff').sharpe().T\n",
    "                   .join(all_futures_moskowitz2012)\n",
    "                   .sort_values(['asset_class', 'name'])\n",
    "                   .set_index('name')\n",
    "                   [PerfStats.SHARPE.value]\n",
    "                   .rename('Breakout'))\n",
    "sharpe_tsmom = (instrument_tsmom.pipe(Performance, return_type='diff').sharpe().T\n",
    "                .join(all_futures_moskowitz2012)\n",
    "                .sort_values(['asset_class', 'name'])\n",
    "                .set_index('name')\n",
    "                [PerfStats.SHARPE.value]\n",
    "                .rename('TSMOM'))"
   ]
  },
  {
   "cell_type": "markdown",
   "id": "1f5715a6",
   "metadata": {
    "papermill": {
     "duration": null,
     "end_time": null,
     "exception": null,
     "start_time": null,
     "status": "pending"
    },
    "tags": []
   },
   "source": [
    "From the performance breakdown below, it's hard to judge which is sperior or not. "
   ]
  },
  {
   "cell_type": "code",
   "execution_count": null,
   "id": "8d132e70",
   "metadata": {
    "ExecuteTime": {
     "end_time": "2020-08-30T21:20:31.707948Z",
     "start_time": "2020-08-30T21:20:31.259887Z"
    },
    "execution": {
     "iopub.execute_input": "2021-07-31T14:25:37.280206Z",
     "iopub.status.busy": "2021-07-31T14:25:37.280106Z",
     "iopub.status.idle": "2021-07-31T14:25:38.369817Z",
     "shell.execute_reply": "2021-07-31T14:25:38.369371Z",
     "shell.execute_reply.started": "2021-07-31T14:25:37.280193Z"
    },
    "papermill": {
     "duration": null,
     "end_time": null,
     "exception": null,
     "start_time": null,
     "status": "pending"
    },
    "tags": []
   },
   "outputs": [],
   "source": [
    "fig, ax = plt.subplots(figsize=(14, 4))\n",
    "pd.concat((sharpe_breakout, sharpe_tsmom), axis=1).plot(kind='bar', ax=ax)\n",
    "\n",
    "ax.set_title('Trend-following portfolio comparison')\n",
    "ax.set_ylabel(PerfStats.SHARPE.value);\n",
    "ax.set_xlabel('Instrument name')\n",
    "ax.axhline(0, lw=1, color='black');\n",
    "ax.axvline(23.5, lw=1, color='black');\n",
    "ax.axvline(28.5, lw=1, color='black');\n",
    "ax.axvline(36.5, lw=1, color='black');"
   ]
  },
  {
   "cell_type": "markdown",
   "id": "c1d4888c",
   "metadata": {
    "papermill": {
     "duration": null,
     "end_time": null,
     "exception": null,
     "start_time": null,
     "status": "pending"
    },
    "tags": []
   },
   "source": [
    "## Post puiblication"
   ]
  },
  {
   "cell_type": "code",
   "execution_count": null,
   "id": "2c3d18df",
   "metadata": {
    "ExecuteTime": {
     "end_time": "2020-08-30T21:20:32.222886Z",
     "start_time": "2020-08-30T21:20:31.709152Z"
    },
    "execution": {
     "iopub.execute_input": "2021-07-31T14:25:38.370612Z",
     "iopub.status.busy": "2021-07-31T14:25:38.370474Z",
     "iopub.status.idle": "2021-07-31T14:25:39.075703Z",
     "shell.execute_reply": "2021-07-31T14:25:39.075294Z",
     "shell.execute_reply.started": "2021-07-31T14:25:38.370594Z"
    },
    "papermill": {
     "duration": null,
     "end_time": null,
     "exception": null,
     "start_time": null,
     "status": "pending"
    },
    "tags": []
   },
   "outputs": [],
   "source": [
    "publication_date = datetime(2013, 11, 18)\n",
    "\n",
    "fig, ax = plt.subplots(1, 2, figsize=(14, 4))\n",
    "portfolio_comparison.plot(ax=ax[0], logy=True);\n",
    "ax[0].set_title('Trend-following portfolio comparison')\n",
    "ax[0].set_ylabel('Cumulative returns');\n",
    "ax[0].axvline(publication_date, lw=1, ls='--', color='black')\n",
    "ax[0].text(publication_date, 100, 'Publication date ', ha='right')\n",
    "\n",
    "portfolio_comparison.loc[publication_date:].pipe(rebase).plot(ax=ax[1], logy=True);\n",
    "ax[1].set_title('Trend-following portfolio comparison\\n(post publication)');"
   ]
  },
  {
   "cell_type": "markdown",
   "id": "d1c93f21",
   "metadata": {
    "papermill": {
     "duration": null,
     "end_time": null,
     "exception": null,
     "start_time": null,
     "status": "pending"
    },
    "tags": []
   },
   "source": [
    "## Recent performance"
   ]
  },
  {
   "cell_type": "code",
   "execution_count": null,
   "id": "57d8b78f",
   "metadata": {
    "ExecuteTime": {
     "end_time": "2020-08-30T21:20:32.428386Z",
     "start_time": "2020-08-30T21:20:32.223928Z"
    },
    "execution": {
     "iopub.execute_input": "2021-07-31T14:25:39.076464Z",
     "iopub.status.busy": "2021-07-31T14:25:39.076308Z",
     "iopub.status.idle": "2021-07-31T14:25:39.311721Z",
     "shell.execute_reply": "2021-07-31T14:25:39.311263Z",
     "shell.execute_reply.started": "2021-07-31T14:25:39.076431Z"
    },
    "papermill": {
     "duration": null,
     "end_time": null,
     "exception": null,
     "start_time": null,
     "status": "pending"
    },
    "tags": []
   },
   "outputs": [],
   "source": [
    "fig, ax = plt.subplots(figsize=(8, 4.5))\n",
    "portfolio_comparison.tail(252 * 2).pipe(rebase).plot(ax=ax, logy=True);\n",
    "ax.set_title('Trend-following portfolio comparison')\n",
    "ax.set_ylabel('Cumulative returns');"
   ]
  },
  {
   "cell_type": "markdown",
   "id": "5899a851",
   "metadata": {
    "papermill": {
     "duration": null,
     "end_time": null,
     "exception": null,
     "start_time": null,
     "status": "pending"
    },
    "tags": []
   },
   "source": [
    "# Reference\n",
    "\n",
    "- Moskowitz, T.J., Ooi, Y.H. and Pedersen, L.H., 2012. Time series momentum. Journal of financial economics, 104(2), pp.228-250.\n",
    "- Chevallier, J. and Ielpo, F., 2014. “Time series momentum” in commodity markets. Managerial Finance."
   ]
  },
  {
   "cell_type": "code",
   "execution_count": null,
   "id": "2b42f250",
   "metadata": {
    "ExecuteTime": {
     "end_time": "2020-08-30T21:20:32.431574Z",
     "start_time": "2020-08-30T21:20:32.429370Z"
    },
    "execution": {
     "iopub.execute_input": "2021-07-31T14:25:39.312439Z",
     "iopub.status.busy": "2021-07-31T14:25:39.312306Z",
     "iopub.status.idle": "2021-07-31T14:25:39.315613Z",
     "shell.execute_reply": "2021-07-31T14:25:39.315039Z",
     "shell.execute_reply.started": "2021-07-31T14:25:39.312421Z"
    },
    "papermill": {
     "duration": null,
     "end_time": null,
     "exception": null,
     "start_time": null,
     "status": "pending"
    },
    "tags": []
   },
   "outputs": [],
   "source": [
    "print(f'Updated: {datetime.utcnow():%d-%b-%Y %H:%M}')"
   ]
  }
 ],
 "metadata": {
  "hide_input": false,
  "kernelspec": {
   "display_name": "Python 3",
   "language": "python",
   "name": "python3"
  },
  "language_info": {
   "codemirror_mode": {
    "name": "ipython",
    "version": 3
   },
   "file_extension": ".py",
   "mimetype": "text/x-python",
   "name": "python",
   "nbconvert_exporter": "python",
   "pygments_lexer": "ipython3",
   "version": "3.8.1"
  },
  "nav_menu": {},
  "papermill": {
   "default_parameters": {},
   "duration": null,
   "end_time": null,
   "environment_variables": {},
   "exception": null,
   "input_path": "notebooks/papermill/trend_following_breakout.ipynb",
   "output_path": "notebooks/trend_following_breakout.ipynb",
   "parameters": {},
   "start_time": "2022-06-04T09:56:56.590441",
   "version": "2.3.4"
  },
  "toc": {
   "base_numbering": 1,
   "nav_menu": {},
   "number_sections": true,
   "sideBar": true,
   "skip_h1_title": false,
   "title_cell": "Table of Contents",
   "title_sidebar": "Contents",
   "toc_cell": true,
   "toc_position": {
    "height": "calc(100% - 180px)",
    "left": "10px",
    "top": "150px",
    "width": "165px"
   },
   "toc_section_display": "block",
   "toc_window_display": true
  },
  "toc-showmarkdowntxt": false
 },
 "nbformat": 4,
 "nbformat_minor": 5
}