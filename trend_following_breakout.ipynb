{
 "cells": [
  {
   "cell_type": "markdown",
   "id": "cad2a0c4",
   "metadata": {
    "papermill": {
     "duration": 0.007945,
     "end_time": "2022-06-01T09:37:05.530640",
     "exception": false,
     "start_time": "2022-06-01T09:37:05.522695",
     "status": "completed"
    },
    "tags": []
   },
   "source": [
    "# Trend-following breakout strategy\n",
    "\n",
    "This notebook displays the performance of trend-following strategies across major asset classes. The difference here compared to Moskowitz et al (2012) is that the trend signal is computed by the so-called \"breakout\" methodology. In this analysis, a simple breakout rule is tested where a long position is entered when the current price is above the local max (lookback = 1 year). The long position is maintained until the price goes below trailing minimum after which the position is flipped to short. Similar to Moskowitz et al (2012) the resulting signal is binary where there is no neutral position."
   ]
  },
  {
   "cell_type": "code",
   "execution_count": 1,
   "id": "5017e2cd",
   "metadata": {
    "ExecuteTime": {
     "end_time": "2020-08-30T21:08:49.524262Z",
     "start_time": "2020-08-30T21:08:48.720115Z"
    },
    "execution": {
     "iopub.execute_input": "2022-06-01T09:37:05.546387Z",
     "iopub.status.busy": "2022-06-01T09:37:05.546164Z",
     "iopub.status.idle": "2022-06-01T09:37:08.342498Z",
     "shell.execute_reply": "2022-06-01T09:37:08.341839Z"
    },
    "papermill": {
     "duration": 2.80627,
     "end_time": "2022-06-01T09:37:08.344299",
     "exception": false,
     "start_time": "2022-06-01T09:37:05.538029",
     "status": "completed"
    },
    "tags": []
   },
   "outputs": [],
   "source": [
    "%matplotlib inline\n",
    "from datetime import datetime\n",
    "import logging\n",
    "import warnings\n",
    "warnings.simplefilter(action='ignore', category=FutureWarning)\n",
    "\n",
    "import pandas as pd\n",
    "import matplotlib.pyplot as plt\n",
    "plt.style.use('bmh')\n",
    "\n",
    "from vivace.backtest import BacktestEngine, signal, processing\n",
    "from vivace.backtest.analytics import rebase\n",
    "from vivace.backtest.contract import all_futures_moskowitz2012\n",
    "from vivace.backtest.enums import Strategy, Weighting\n",
    "from vivace.backtest.stats import Performance, PerfStats"
   ]
  },
  {
   "cell_type": "markdown",
   "id": "0294e3cc",
   "metadata": {
    "papermill": {
     "duration": 0.007152,
     "end_time": "2022-06-01T09:37:08.359219",
     "exception": false,
     "start_time": "2022-06-01T09:37:08.352067",
     "status": "completed"
    },
    "tags": []
   },
   "source": [
    "# Data\n",
    "\n",
    "The same trading universe as `trend_following_moskowitz2012.ipynb` is used covering 50 futures contracts."
   ]
  },
  {
   "cell_type": "code",
   "execution_count": 2,
   "id": "9655e52f",
   "metadata": {
    "ExecuteTime": {
     "end_time": "2020-08-30T21:08:49.529214Z",
     "start_time": "2020-08-30T21:08:49.525465Z"
    },
    "execution": {
     "iopub.execute_input": "2022-06-01T09:37:08.375886Z",
     "iopub.status.busy": "2022-06-01T09:37:08.375695Z",
     "iopub.status.idle": "2022-06-01T09:37:08.382881Z",
     "shell.execute_reply": "2022-06-01T09:37:08.382198Z"
    },
    "papermill": {
     "duration": 0.018572,
     "end_time": "2022-06-01T09:37:08.384765",
     "exception": false,
     "start_time": "2022-06-01T09:37:08.366193",
     "status": "completed"
    },
    "tags": []
   },
   "outputs": [
    {
     "data": {
      "text/plain": [
       "array(['Aluminium', 'Brent Crude Oil', 'Live Cattle', 'Cocoa', 'Coffee',\n",
       "       'Copper', 'Corn', 'Cotton', 'WTI Crude Oil', 'Gas Oil', 'Gold',\n",
       "       'Heating Oil', 'Lean Hog', 'Natural Gas', 'Nickel', 'Platinum',\n",
       "       'Silver', 'Soybean', 'Soybean Meal', 'Soybean Oil', 'Sugar',\n",
       "       'Gasoline', 'Wheat', 'Zinc', 'Australian Dollar', 'British Pound',\n",
       "       'Euro', 'Canadian Dollar', 'Japanese Yen', 'SPI 200', 'DAX',\n",
       "       'IBEX 35', 'CAC 40', 'Topix', 'AEX', 'FTSE 100', 'S&P 500',\n",
       "       'Australia 3-year Treasury', 'Australia 10-year Treasury',\n",
       "       'Germany Schatz', 'Germany Bobl', 'Germany Bund', 'Germany Buxl',\n",
       "       'Canada 10-year Treasury', 'JGB', 'Gilt', 'US 2-year Treasury',\n",
       "       'US 5-year Treasury', 'US 10-year Treasury', 'US Treasury Bond'],\n",
       "      dtype=object)"
      ]
     },
     "execution_count": 2,
     "metadata": {},
     "output_type": "execute_result"
    }
   ],
   "source": [
    "all_futures_moskowitz2012['name'].values"
   ]
  },
  {
   "cell_type": "code",
   "execution_count": 3,
   "id": "b0a5b4d3",
   "metadata": {
    "ExecuteTime": {
     "end_time": "2020-08-30T21:08:49.542477Z",
     "start_time": "2020-08-30T21:08:49.530487Z"
    },
    "execution": {
     "iopub.execute_input": "2022-06-01T09:37:08.401368Z",
     "iopub.status.busy": "2022-06-01T09:37:08.401062Z",
     "iopub.status.idle": "2022-06-01T09:37:08.405858Z",
     "shell.execute_reply": "2022-06-01T09:37:08.405246Z"
    },
    "papermill": {
     "duration": 0.014554,
     "end_time": "2022-06-01T09:37:08.407477",
     "exception": false,
     "start_time": "2022-06-01T09:37:08.392923",
     "status": "completed"
    },
    "tags": []
   },
   "outputs": [
    {
     "data": {
      "text/plain": [
       "50"
      ]
     },
     "execution_count": 3,
     "metadata": {},
     "output_type": "execute_result"
    }
   ],
   "source": [
    "len(all_futures_moskowitz2012)"
   ]
  },
  {
   "cell_type": "markdown",
   "id": "bb72b68d",
   "metadata": {
    "papermill": {
     "duration": 0.008386,
     "end_time": "2022-06-01T09:37:08.423467",
     "exception": false,
     "start_time": "2022-06-01T09:37:08.415081",
     "status": "completed"
    },
    "tags": []
   },
   "source": [
    "# Performance"
   ]
  },
  {
   "cell_type": "markdown",
   "id": "dd08ab23",
   "metadata": {
    "papermill": {
     "duration": 0.008292,
     "end_time": "2022-06-01T09:37:08.439121",
     "exception": false,
     "start_time": "2022-06-01T09:37:08.430829",
     "status": "completed"
    },
    "tags": []
   },
   "source": [
    "## Breakout strategy\n",
    "\n",
    "The above instruments are combined with a equal-risk (realised volatility) weighting methodology. "
   ]
  },
  {
   "cell_type": "code",
   "execution_count": 4,
   "id": "51459478",
   "metadata": {
    "execution": {
     "iopub.execute_input": "2022-06-01T09:37:08.455950Z",
     "iopub.status.busy": "2022-06-01T09:37:08.455731Z",
     "iopub.status.idle": "2022-06-01T09:46:47.547556Z",
     "shell.execute_reply": "2022-06-01T09:46:47.546939Z"
    },
    "papermill": {
     "duration": 579.103224,
     "end_time": "2022-06-01T09:46:47.549763",
     "exception": false,
     "start_time": "2022-06-01T09:37:08.446539",
     "status": "completed"
    },
    "tags": []
   },
   "outputs": [],
   "source": [
    "engine_breakout = BacktestEngine(\n",
    "    strategy=Strategy.DELTA_ONE.value,\n",
    "    instrument=all_futures_moskowitz2012.index,\n",
    "    signal=signal.ParallelSignal([\n",
    "        signal.VolatilityScale(agg_method='ewm', com=60, ann_factor=261, \n",
    "                               target_volatility=0.4, signal_cap=0.95,\n",
    "                               post_process=processing.AsFreq(freq='m', method='pad')),\n",
    "        signal.BreakoutLocalExtreme()\n",
    "    ], weighting='product'),\n",
    "    weighting=Weighting.EQUAL_WEIGHT.value,\n",
    "    log_level=logging.WARN,\n",
    ")\n",
    "engine_breakout.run()"
   ]
  },
  {
   "cell_type": "code",
   "execution_count": 5,
   "id": "79722c78",
   "metadata": {
    "execution": {
     "iopub.execute_input": "2022-06-01T09:46:47.572538Z",
     "iopub.status.busy": "2022-06-01T09:46:47.572348Z",
     "iopub.status.idle": "2022-06-01T09:48:04.375681Z",
     "shell.execute_reply": "2022-06-01T09:48:04.375086Z"
    },
    "papermill": {
     "duration": 76.817171,
     "end_time": "2022-06-01T09:48:04.378054",
     "exception": false,
     "start_time": "2022-06-01T09:46:47.560883",
     "status": "completed"
    },
    "tags": []
   },
   "outputs": [],
   "source": [
    "portfolio_breakout = (engine_breakout.calculate_equity_curve(calculate_net=False, rebalance_freq='m')\n",
    "                      .rename('Trend-following breakout portfolio'))"
   ]
  },
  {
   "cell_type": "markdown",
   "id": "ca60b1fe",
   "metadata": {
    "papermill": {
     "duration": 0.009933,
     "end_time": "2022-06-01T09:48:04.398392",
     "exception": false,
     "start_time": "2022-06-01T09:48:04.388459",
     "status": "completed"
    },
    "tags": []
   },
   "source": [
    "## TSMOM\n",
    "\n",
    "The same backtest configuration as `trend_following_moskowitz2012.ipynb` is analyses as a benchmark."
   ]
  },
  {
   "cell_type": "code",
   "execution_count": 6,
   "id": "5f4a6198",
   "metadata": {
    "execution": {
     "iopub.execute_input": "2022-06-01T09:48:04.420227Z",
     "iopub.status.busy": "2022-06-01T09:48:04.419585Z",
     "iopub.status.idle": "2022-06-01T09:57:27.202226Z",
     "shell.execute_reply": "2022-06-01T09:57:27.201640Z"
    },
    "papermill": {
     "duration": 562.795519,
     "end_time": "2022-06-01T09:57:27.204017",
     "exception": false,
     "start_time": "2022-06-01T09:48:04.408498",
     "status": "completed"
    },
    "tags": []
   },
   "outputs": [],
   "source": [
    "engine_tsmom = BacktestEngine(\n",
    "    strategy=Strategy.DELTA_ONE.value,\n",
    "    instrument=all_futures_moskowitz2012.index,\n",
    "    signal=signal.ParallelSignal([\n",
    "        signal.VolatilityScale(agg_method='ewm', com=60, ann_factor=261, \n",
    "                               target_volatility=0.4, signal_cap=0.95,\n",
    "                               post_process=processing.AsFreq(freq='m', method='pad')),\n",
    "        signal.TSMOMMoskowitz2012(post_process=processing.AsFreq(freq='m', method='pad'))\n",
    "    ], weighting='product'),\n",
    "    weighting=Weighting.EQUAL_WEIGHT.value,\n",
    "    log_level=logging.WARN,\n",
    ")\n",
    "engine_tsmom.run()"
   ]
  },
  {
   "cell_type": "code",
   "execution_count": 7,
   "id": "45edd28f",
   "metadata": {
    "ExecuteTime": {
     "end_time": "2020-08-30T21:19:28.992288Z",
     "start_time": "2020-08-30T21:18:24.662276Z"
    },
    "execution": {
     "iopub.execute_input": "2022-06-01T09:57:27.219100Z",
     "iopub.status.busy": "2022-06-01T09:57:27.218908Z",
     "iopub.status.idle": "2022-06-01T09:58:41.966285Z",
     "shell.execute_reply": "2022-06-01T09:58:41.965564Z"
    },
    "papermill": {
     "duration": 74.757459,
     "end_time": "2022-06-01T09:58:41.968599",
     "exception": false,
     "start_time": "2022-06-01T09:57:27.211140",
     "status": "completed"
    },
    "tags": []
   },
   "outputs": [],
   "source": [
    "portfolio_tsmom = (engine_tsmom.calculate_equity_curve(calculate_net=False, rebalance_freq='m')\n",
    "                   .rename('Trend-following portfolio (Moskowitz 2012)'))"
   ]
  },
  {
   "cell_type": "markdown",
   "id": "d652d8ef",
   "metadata": {
    "papermill": {
     "duration": 0.010789,
     "end_time": "2022-06-01T09:58:41.991017",
     "exception": false,
     "start_time": "2022-06-01T09:58:41.980228",
     "status": "completed"
    },
    "tags": []
   },
   "source": [
    "## Portfolio\n",
    "\n",
    "As mentioned in Chevallier and Ielpo (2014), the breakout strategy seem to capture the same premium as the TSMOM implementation. Performance look broadly similar to each other."
   ]
  },
  {
   "cell_type": "code",
   "execution_count": 8,
   "id": "3fd01970",
   "metadata": {
    "ExecuteTime": {
     "end_time": "2020-08-30T21:19:29.413070Z",
     "start_time": "2020-08-30T21:19:28.993404Z"
    },
    "execution": {
     "iopub.execute_input": "2022-06-01T09:58:42.011477Z",
     "iopub.status.busy": "2022-06-01T09:58:42.010958Z",
     "iopub.status.idle": "2022-06-01T09:58:43.636339Z",
     "shell.execute_reply": "2022-06-01T09:58:43.635880Z"
    },
    "papermill": {
     "duration": 1.635582,
     "end_time": "2022-06-01T09:58:43.638021",
     "exception": false,
     "start_time": "2022-06-01T09:58:42.002439",
     "status": "completed"
    },
    "tags": []
   },
   "outputs": [
    {
     "data": {
      "image/png": "[encoded data removed]",
      "text/plain": [
       "<Figure size 576x324 with 1 Axes>"
      ]
     },
     "metadata": {
      "needs_background": "light"
     },
     "output_type": "display_data"
    }
   ],
   "source": [
    "fig, ax = plt.subplots(figsize=(8, 4.5))\n",
    "portfolio_comparison = pd.concat((\n",
    "    portfolio_breakout,\n",
    "    portfolio_tsmom\n",
    "), axis=1)\n",
    "\n",
    "portfolio_comparison.plot(ax=ax, logy=True);\n",
    "ax.set_title('Trend-following portfolio comparison')\n",
    "ax.set_ylabel('Cumulative returns');"
   ]
  },
  {
   "cell_type": "code",
   "execution_count": 9,
   "id": "6b1e3340",
   "metadata": {
    "ExecuteTime": {
     "end_time": "2020-08-30T21:19:29.721845Z",
     "start_time": "2020-08-30T21:19:29.414098Z"
    },
    "execution": {
     "iopub.execute_input": "2022-06-01T09:58:43.685912Z",
     "iopub.status.busy": "2022-06-01T09:58:43.685657Z",
     "iopub.status.idle": "2022-06-01T09:58:43.814154Z",
     "shell.execute_reply": "2022-06-01T09:58:43.813573Z"
    },
    "papermill": {
     "duration": 0.140331,
     "end_time": "2022-06-01T09:58:43.816253",
     "exception": false,
     "start_time": "2022-06-01T09:58:43.675922",
     "status": "completed"
    },
    "tags": []
   },
   "outputs": [
    {
     "data": {
      "text/html": [
       "<div>\n",
       "<style scoped>\n",
       "    .dataframe tbody tr th:only-of-type {\n",
       "        vertical-align: middle;\n",
       "    }\n",
       "\n",
       "    .dataframe tbody tr th {\n",
       "        vertical-align: top;\n",
       "    }\n",
       "\n",
       "    .dataframe thead th {\n",
       "        text-align: right;\n",
       "    }\n",
       "</style>\n",
       "<table border=\"1\" class=\"dataframe\">\n",
       "  <thead>\n",
       "    <tr style=\"text-align: right;\">\n",
       "      <th></th>\n",
       "      <th>Trend-following breakout portfolio</th>\n",
       "      <th>Trend-following portfolio (Moskowitz 2012)</th>\n",
       "    </tr>\n",
       "  </thead>\n",
       "  <tbody>\n",
       "    <tr>\n",
       "      <th>CAGR</th>\n",
       "      <td>0.122625</td>\n",
       "      <td>0.137146</td>\n",
       "    </tr>\n",
       "    <tr>\n",
       "      <th>Annualised vol</th>\n",
       "      <td>0.121724</td>\n",
       "      <td>0.123432</td>\n",
       "    </tr>\n",
       "    <tr>\n",
       "      <th>Sharpe ratio</th>\n",
       "      <td>1.007400</td>\n",
       "      <td>1.111106</td>\n",
       "    </tr>\n",
       "    <tr>\n",
       "      <th>Max drawdown</th>\n",
       "      <td>0.355000</td>\n",
       "      <td>0.397622</td>\n",
       "    </tr>\n",
       "    <tr>\n",
       "      <th>Calmar ratio</th>\n",
       "      <td>0.345423</td>\n",
       "      <td>0.344915</td>\n",
       "    </tr>\n",
       "    <tr>\n",
       "      <th>Skewness</th>\n",
       "      <td>-0.188944</td>\n",
       "      <td>-0.332684</td>\n",
       "    </tr>\n",
       "    <tr>\n",
       "      <th>Kurtosis</th>\n",
       "      <td>7.566383</td>\n",
       "      <td>7.494499</td>\n",
       "    </tr>\n",
       "    <tr>\n",
       "      <th>Worst return</th>\n",
       "      <td>-0.081832</td>\n",
       "      <td>-0.085340</td>\n",
       "    </tr>\n",
       "    <tr>\n",
       "      <th>Worst 1d return</th>\n",
       "      <td>-0.081832</td>\n",
       "      <td>-0.085340</td>\n",
       "    </tr>\n",
       "    <tr>\n",
       "      <th>Worst 1w return</th>\n",
       "      <td>-0.155506</td>\n",
       "      <td>-0.150663</td>\n",
       "    </tr>\n",
       "    <tr>\n",
       "      <th>Worst 1m return</th>\n",
       "      <td>-0.102711</td>\n",
       "      <td>-0.319905</td>\n",
       "    </tr>\n",
       "  </tbody>\n",
       "</table>\n",
       "</div>"
      ],
      "text/plain": [
       "                 Trend-following breakout portfolio  \\\n",
       "CAGR                                       0.122625   \n",
       "Annualised vol                             0.121724   \n",
       "Sharpe ratio                               1.007400   \n",
       "Max drawdown                               0.355000   \n",
       "Calmar ratio                               0.345423   \n",
       "Skewness                                  -0.188944   \n",
       "Kurtosis                                   7.566383   \n",
       "Worst return                              -0.081832   \n",
       "Worst 1d return                           -0.081832   \n",
       "Worst 1w return                           -0.155506   \n",
       "Worst 1m return                           -0.102711   \n",
       "\n",
       "                 Trend-following portfolio (Moskowitz 2012)  \n",
       "CAGR                                               0.137146  \n",
       "Annualised vol                                     0.123432  \n",
       "Sharpe ratio                                       1.111106  \n",
       "Max drawdown                                       0.397622  \n",
       "Calmar ratio                                       0.344915  \n",
       "Skewness                                          -0.332684  \n",
       "Kurtosis                                           7.494499  \n",
       "Worst return                                      -0.085340  \n",
       "Worst 1d return                                   -0.085340  \n",
       "Worst 1w return                                   -0.150663  \n",
       "Worst 1m return                                   -0.319905  "
      ]
     },
     "execution_count": 9,
     "metadata": {},
     "output_type": "execute_result"
    }
   ],
   "source": [
    "portfolio_comparison.pipe(Performance).summary()"
   ]
  },
  {
   "cell_type": "markdown",
   "id": "99c3c4bd",
   "metadata": {
    "papermill": {
     "duration": 0.008058,
     "end_time": "2022-06-01T09:58:43.836130",
     "exception": false,
     "start_time": "2022-06-01T09:58:43.828072",
     "status": "completed"
    },
    "tags": []
   },
   "source": [
    "## Breakdown by futures contract\n",
    "\n",
    "Most of the contracts contributed positively when the trend-following signal is applied."
   ]
  },
  {
   "cell_type": "code",
   "execution_count": null,
   "id": "2980be98",
   "metadata": {
    "ExecuteTime": {
     "end_time": "2020-08-30T21:20:30.856989Z",
     "start_time": "2020-08-30T21:19:29.723274Z"
    },
    "execution": {
     "iopub.execute_input": "2021-07-31T14:24:10.807198Z",
     "iopub.status.busy": "2021-07-31T14:24:10.807057Z",
     "iopub.status.idle": "2021-07-31T14:25:37.263637Z",
     "shell.execute_reply": "2021-07-31T14:25:37.263195Z",
     "shell.execute_reply.started": "2021-07-31T14:24:10.807180Z"
    },
    "papermill": {
     "duration": null,
     "end_time": null,
     "exception": false,
     "start_time": "2022-06-01T09:58:43.843654",
     "status": "running"
    },
    "tags": []
   },
   "outputs": [],
   "source": [
    "instrument_breakout = engine_breakout.get_return_by_instrument(calculate_net=False).cumsum()\n",
    "instrument_tsmom = engine_tsmom.get_return_by_instrument(calculate_net=False).cumsum()"
   ]
  },
  {
   "cell_type": "code",
   "execution_count": null,
   "id": "9e82ead0",
   "metadata": {
    "ExecuteTime": {
     "end_time": "2020-08-30T21:20:31.258799Z",
     "start_time": "2020-08-30T21:20:30.858285Z"
    },
    "execution": {
     "iopub.execute_input": "2021-07-31T14:25:37.264355Z",
     "iopub.status.busy": "2021-07-31T14:25:37.264252Z",
     "iopub.status.idle": "2021-07-31T14:25:37.279558Z",
     "shell.execute_reply": "2021-07-31T14:25:37.279150Z",
     "shell.execute_reply.started": "2021-07-31T14:25:37.264342Z"
    },
    "papermill": {
     "duration": null,
     "end_time": null,
     "exception": null,
     "start_time": null,
     "status": "pending"
    },
    "scrolled": true,
    "tags": []
   },
   "outputs": [],
   "source": [
    "sharpe_breakout = (instrument_breakout.pipe(Performance, return_type='diff').sharpe().T\n",
    "                   .join(all_futures_moskowitz2012)\n",
    "                   .sort_values(['asset_class', 'name'])\n",
    "                   .set_index('name')\n",
    "                   [PerfStats.SHARPE.value]\n",
    "                   .rename('Breakout'))\n",
    "sharpe_tsmom = (instrument_tsmom.pipe(Performance, return_type='diff').sharpe().T\n",
    "                .join(all_futures_moskowitz2012)\n",
    "                .sort_values(['asset_class', 'name'])\n",
    "                .set_index('name')\n",
    "                [PerfStats.SHARPE.value]\n",
    "                .rename('TSMOM'))"
   ]
  },
  {
   "cell_type": "markdown",
   "id": "497263b1",
   "metadata": {
    "papermill": {
     "duration": null,
     "end_time": null,
     "exception": null,
     "start_time": null,
     "status": "pending"
    },
    "tags": []
   },
   "source": [
    "From the performance breakdown below, it's hard to judge which is sperior or not. "
   ]
  },
  {
   "cell_type": "code",
   "execution_count": null,
   "id": "3f3ba23d",
   "metadata": {
    "ExecuteTime": {
     "end_time": "2020-08-30T21:20:31.707948Z",
     "start_time": "2020-08-30T21:20:31.259887Z"
    },
    "execution": {
     "iopub.execute_input": "2021-07-31T14:25:37.280206Z",
     "iopub.status.busy": "2021-07-31T14:25:37.280106Z",
     "iopub.status.idle": "2021-07-31T14:25:38.369817Z",
     "shell.execute_reply": "2021-07-31T14:25:38.369371Z",
     "shell.execute_reply.started": "2021-07-31T14:25:37.280193Z"
    },
    "papermill": {
     "duration": null,
     "end_time": null,
     "exception": null,
     "start_time": null,
     "status": "pending"
    },
    "tags": []
   },
   "outputs": [],
   "source": [
    "fig, ax = plt.subplots(figsize=(14, 4))\n",
    "pd.concat((sharpe_breakout, sharpe_tsmom), axis=1).plot(kind='bar', ax=ax)\n",
    "\n",
    "ax.set_title('Trend-following portfolio comparison')\n",
    "ax.set_ylabel(PerfStats.SHARPE.value);\n",
    "ax.set_xlabel('Instrument name')\n",
    "ax.axhline(0, lw=1, color='black');\n",
    "ax.axvline(23.5, lw=1, color='black');\n",
    "ax.axvline(28.5, lw=1, color='black');\n",
    "ax.axvline(36.5, lw=1, color='black');"
   ]
  },
  {
   "cell_type": "markdown",
   "id": "65909b15",
   "metadata": {
    "papermill": {
     "duration": null,
     "end_time": null,
     "exception": null,
     "start_time": null,
     "status": "pending"
    },
    "tags": []
   },
   "source": [
    "## Post puiblication"
   ]
  },
  {
   "cell_type": "code",
   "execution_count": null,
   "id": "4983865e",
   "metadata": {
    "ExecuteTime": {
     "end_time": "2020-08-30T21:20:32.222886Z",
     "start_time": "2020-08-30T21:20:31.709152Z"
    },
    "execution": {
     "iopub.execute_input": "2021-07-31T14:25:38.370612Z",
     "iopub.status.busy": "2021-07-31T14:25:38.370474Z",
     "iopub.status.idle": "2021-07-31T14:25:39.075703Z",
     "shell.execute_reply": "2021-07-31T14:25:39.075294Z",
     "shell.execute_reply.started": "2021-07-31T14:25:38.370594Z"
    },
    "papermill": {
     "duration": null,
     "end_time": null,
     "exception": null,
     "start_time": null,
     "status": "pending"
    },
    "tags": []
   },
   "outputs": [],
   "source": [
    "publication_date = datetime(2013, 11, 18)\n",
    "\n",
    "fig, ax = plt.subplots(1, 2, figsize=(14, 4))\n",
    "portfolio_comparison.plot(ax=ax[0], logy=True);\n",
    "ax[0].set_title('Trend-following portfolio comparison')\n",
    "ax[0].set_ylabel('Cumulative returns');\n",
    "ax[0].axvline(publication_date, lw=1, ls='--', color='black')\n",
    "ax[0].text(publication_date, 100, 'Publication date ', ha='right')\n",
    "\n",
    "portfolio_comparison.loc[publication_date:].pipe(rebase).plot(ax=ax[1], logy=True);\n",
    "ax[1].set_title('Trend-following portfolio comparison\\n(post publication)');"
   ]
  },
  {
   "cell_type": "markdown",
   "id": "8be38fff",
   "metadata": {
    "papermill": {
     "duration": null,
     "end_time": null,
     "exception": null,
     "start_time": null,
     "status": "pending"
    },
    "tags": []
   },
   "source": [
    "## Recent performance"
   ]
  },
  {
   "cell_type": "code",
   "execution_count": null,
   "id": "14519ed3",
   "metadata": {
    "ExecuteTime": {
     "end_time": "2020-08-30T21:20:32.428386Z",
     "start_time": "2020-08-30T21:20:32.223928Z"
    },
    "execution": {
     "iopub.execute_input": "2021-07-31T14:25:39.076464Z",
     "iopub.status.busy": "2021-07-31T14:25:39.076308Z",
     "iopub.status.idle": "2021-07-31T14:25:39.311721Z",
     "shell.execute_reply": "2021-07-31T14:25:39.311263Z",
     "shell.execute_reply.started": "2021-07-31T14:25:39.076431Z"
    },
    "papermill": {
     "duration": null,
     "end_time": null,
     "exception": null,
     "start_time": null,
     "status": "pending"
    },
    "tags": []
   },
   "outputs": [],
   "source": [
    "fig, ax = plt.subplots(figsize=(8, 4.5))\n",
    "portfolio_comparison.tail(252 * 2).pipe(rebase).plot(ax=ax, logy=True);\n",
    "ax.set_title('Trend-following portfolio comparison')\n",
    "ax.set_ylabel('Cumulative returns');"
   ]
  },
  {
   "cell_type": "markdown",
   "id": "6e524f62",
   "metadata": {
    "papermill": {
     "duration": null,
     "end_time": null,
     "exception": null,
     "start_time": null,
     "status": "pending"
    },
    "tags": []
   },
   "source": [
    "# Reference\n",
    "\n",
    "- Moskowitz, T.J., Ooi, Y.H. and Pedersen, L.H., 2012. Time series momentum. Journal of financial economics, 104(2), pp.228-250.\n",
    "- Chevallier, J. and Ielpo, F., 2014. “Time series momentum” in commodity markets. Managerial Finance."
   ]
  },
  {
   "cell_type": "code",
   "execution_count": null,
   "id": "9093d047",
   "metadata": {
    "ExecuteTime": {
     "end_time": "2020-08-30T21:20:32.431574Z",
     "start_time": "2020-08-30T21:20:32.429370Z"
    },
    "execution": {
     "iopub.execute_input": "2021-07-31T14:25:39.312439Z",
     "iopub.status.busy": "2021-07-31T14:25:39.312306Z",
     "iopub.status.idle": "2021-07-31T14:25:39.315613Z",
     "shell.execute_reply": "2021-07-31T14:25:39.315039Z",
     "shell.execute_reply.started": "2021-07-31T14:25:39.312421Z"
    },
    "papermill": {
     "duration": null,
     "end_time": null,
     "exception": null,
     "start_time": null,
     "status": "pending"
    },
    "tags": []
   },
   "outputs": [],
   "source": [
    "print(f'Updated: {datetime.utcnow():%d-%b-%Y %H:%M}')"
   ]
  }
 ],
 "metadata": {
  "hide_input": false,
  "kernelspec": {
   "display_name": "Python 3",
   "language": "python",
   "name": "python3"
  },
  "language_info": {
   "codemirror_mode": {
    "name": "ipython",
    "version": 3
   },
   "file_extension": ".py",
   "mimetype": "text/x-python",
   "name": "python",
   "nbconvert_exporter": "python",
   "pygments_lexer": "ipython3",
   "version": "3.8.1"
  },
  "nav_menu": {},
  "papermill": {
   "default_parameters": {},
   "duration": null,
   "end_time": null,
   "environment_variables": {},
   "exception": null,
   "input_path": "notebooks/papermill/trend_following_breakout.ipynb",
   "output_path": "notebooks/trend_following_breakout.ipynb",
   "parameters": {},
   "start_time": "2022-06-01T09:37:04.129504",
   "version": "2.3.4"
  },
  "toc": {
   "base_numbering": 1,
   "nav_menu": {},
   "number_sections": true,
   "sideBar": true,
   "skip_h1_title": false,
   "title_cell": "Table of Contents",
   "title_sidebar": "Contents",
   "toc_cell": true,
   "toc_position": {
    "height": "calc(100% - 180px)",
    "left": "10px",
    "top": "150px",
    "width": "165px"
   },
   "toc_section_display": "block",
   "toc_window_display": true
  },
  "toc-showmarkdowntxt": false
 },
 "nbformat": 4,
 "nbformat_minor": 5
}