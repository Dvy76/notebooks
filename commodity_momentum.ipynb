{
 "cells": [
  {
   "cell_type": "markdown",
   "id": "15bb1c20",
   "metadata": {
    "papermill": {
     "duration": 0.005159,
     "end_time": "2022-08-09T06:27:53.679486",
     "exception": false,
     "start_time": "2022-08-09T06:27:53.674327",
     "status": "completed"
    },
    "tags": []
   },
   "source": [
    "# Commodity momentum\n",
    "\n",
    "This notebook analyses commodity cross-sectional momentum strategy. The strategy takes long positions on contracts with best 1-year perfomance and short positions on ones with worst 1-year performance."
   ]
  },
  {
   "cell_type": "code",
   "execution_count": 1,
   "id": "3d01e696",
   "metadata": {
    "ExecuteTime": {
     "end_time": "2020-08-31T19:29:24.852122Z",
     "start_time": "2020-08-31T19:29:24.038266Z"
    },
    "execution": {
     "iopub.execute_input": "2022-08-09T06:27:53.690630Z",
     "iopub.status.busy": "2022-08-09T06:27:53.690209Z",
     "iopub.status.idle": "2022-08-09T06:27:57.011846Z",
     "shell.execute_reply": "2022-08-09T06:27:57.010970Z"
    },
    "papermill": {
     "duration": 3.330445,
     "end_time": "2022-08-09T06:27:57.014053",
     "exception": false,
     "start_time": "2022-08-09T06:27:53.683608",
     "status": "completed"
    },
    "tags": []
   },
   "outputs": [],
   "source": [
    "%matplotlib inline\n",
    "from datetime import datetime\n",
    "import logging\n",
    "import warnings\n",
    "warnings.simplefilter(action='ignore', category=FutureWarning)\n",
    "\n",
    "import pandas as pd\n",
    "import matplotlib.pyplot as plt\n",
    "import matplotlib.ticker as mticker\n",
    "plt.style.use('bmh')\n",
    "\n",
    "from vivace.backtest import signal\n",
    "from vivace.backtest import processing\n",
    "from vivace.backtest.contract import all_futures_hollstein2020\n",
    "from vivace.backtest.engine import BacktestEngine\n",
    "from vivace.backtest.enums import Strategy\n",
    "from vivace.backtest.stats import Performance"
   ]
  },
  {
   "cell_type": "markdown",
   "id": "e37d4816",
   "metadata": {
    "papermill": {
     "duration": 0.004782,
     "end_time": "2022-08-09T06:27:57.023018",
     "exception": false,
     "start_time": "2022-08-09T06:27:57.018236",
     "status": "completed"
    },
    "tags": []
   },
   "source": [
    "# Data\n",
    "\n",
    "26 commodity futures are used as per Hollstein 2020."
   ]
  },
  {
   "cell_type": "code",
   "execution_count": 2,
   "id": "88042992",
   "metadata": {
    "ExecuteTime": {
     "end_time": "2020-08-31T19:29:25.399795Z",
     "start_time": "2020-08-31T19:29:25.371862Z"
    },
    "execution": {
     "iopub.execute_input": "2022-08-09T06:27:57.032630Z",
     "iopub.status.busy": "2022-08-09T06:27:57.032031Z",
     "iopub.status.idle": "2022-08-09T06:27:57.047621Z",
     "shell.execute_reply": "2022-08-09T06:27:57.046814Z"
    },
    "papermill": {
     "duration": 0.022816,
     "end_time": "2022-08-09T06:27:57.049554",
     "exception": false,
     "start_time": "2022-08-09T06:27:57.026738",
     "status": "completed"
    },
    "tags": []
   },
   "outputs": [
    {
     "data": {
      "text/html": [
       "<div>\n",
       "<style scoped>\n",
       "    .dataframe tbody tr th:only-of-type {\n",
       "        vertical-align: middle;\n",
       "    }\n",
       "\n",
       "    .dataframe tbody tr th {\n",
       "        vertical-align: top;\n",
       "    }\n",
       "\n",
       "    .dataframe thead th {\n",
       "        text-align: right;\n",
       "    }\n",
       "</style>\n",
       "<table border=\"1\" class=\"dataframe\">\n",
       "  <thead>\n",
       "    <tr style=\"text-align: right;\">\n",
       "      <th></th>\n",
       "      <th>name</th>\n",
       "    </tr>\n",
       "    <tr>\n",
       "      <th>ticker</th>\n",
       "      <th></th>\n",
       "    </tr>\n",
       "  </thead>\n",
       "  <tbody>\n",
       "    <tr>\n",
       "      <th>CO</th>\n",
       "      <td>Brent Crude Oil</td>\n",
       "    </tr>\n",
       "    <tr>\n",
       "      <th>CC</th>\n",
       "      <td>Cocoa</td>\n",
       "    </tr>\n",
       "    <tr>\n",
       "      <th>KC</th>\n",
       "      <td>Coffee</td>\n",
       "    </tr>\n",
       "    <tr>\n",
       "      <th>C</th>\n",
       "      <td>Corn</td>\n",
       "    </tr>\n",
       "    <tr>\n",
       "      <th>CT</th>\n",
       "      <td>Cotton</td>\n",
       "    </tr>\n",
       "    <tr>\n",
       "      <th>FC</th>\n",
       "      <td>Feeder Cattle</td>\n",
       "    </tr>\n",
       "    <tr>\n",
       "      <th>GC</th>\n",
       "      <td>Gold</td>\n",
       "    </tr>\n",
       "    <tr>\n",
       "      <th>HO</th>\n",
       "      <td>Heating Oil</td>\n",
       "    </tr>\n",
       "    <tr>\n",
       "      <th>HG</th>\n",
       "      <td>Copper</td>\n",
       "    </tr>\n",
       "    <tr>\n",
       "      <th>LH</th>\n",
       "      <td>Lean Hog</td>\n",
       "    </tr>\n",
       "    <tr>\n",
       "      <th>LC</th>\n",
       "      <td>Live Cattle</td>\n",
       "    </tr>\n",
       "    <tr>\n",
       "      <th>LB</th>\n",
       "      <td>Lumber</td>\n",
       "    </tr>\n",
       "    <tr>\n",
       "      <th>DA</th>\n",
       "      <td>Milk</td>\n",
       "    </tr>\n",
       "    <tr>\n",
       "      <th>NG</th>\n",
       "      <td>Natural Gas</td>\n",
       "    </tr>\n",
       "    <tr>\n",
       "      <th>ZO</th>\n",
       "      <td>Oats</td>\n",
       "    </tr>\n",
       "    <tr>\n",
       "      <th>OJ</th>\n",
       "      <td>Orange Juice</td>\n",
       "    </tr>\n",
       "    <tr>\n",
       "      <th>PA</th>\n",
       "      <td>Palladium</td>\n",
       "    </tr>\n",
       "    <tr>\n",
       "      <th>PL</th>\n",
       "      <td>Platinum</td>\n",
       "    </tr>\n",
       "    <tr>\n",
       "      <th>RR</th>\n",
       "      <td>Rough Rice</td>\n",
       "    </tr>\n",
       "    <tr>\n",
       "      <th>SI</th>\n",
       "      <td>Silver</td>\n",
       "    </tr>\n",
       "    <tr>\n",
       "      <th>S</th>\n",
       "      <td>Soybean</td>\n",
       "    </tr>\n",
       "    <tr>\n",
       "      <th>SM</th>\n",
       "      <td>Soybean Meal</td>\n",
       "    </tr>\n",
       "    <tr>\n",
       "      <th>BO</th>\n",
       "      <td>Soybean Oil</td>\n",
       "    </tr>\n",
       "    <tr>\n",
       "      <th>SB</th>\n",
       "      <td>Sugar</td>\n",
       "    </tr>\n",
       "    <tr>\n",
       "      <th>W</th>\n",
       "      <td>Wheat</td>\n",
       "    </tr>\n",
       "    <tr>\n",
       "      <th>CL</th>\n",
       "      <td>WTI Crude Oil</td>\n",
       "    </tr>\n",
       "  </tbody>\n",
       "</table>\n",
       "</div>"
      ],
      "text/plain": [
       "                   name\n",
       "ticker                 \n",
       "CO      Brent Crude Oil\n",
       "CC                Cocoa\n",
       "KC               Coffee\n",
       "C                  Corn\n",
       "CT               Cotton\n",
       "FC        Feeder Cattle\n",
       "GC                 Gold\n",
       "HO          Heating Oil\n",
       "HG               Copper\n",
       "LH             Lean Hog\n",
       "LC          Live Cattle\n",
       "LB               Lumber\n",
       "DA                 Milk\n",
       "NG          Natural Gas\n",
       "ZO                 Oats\n",
       "OJ         Orange Juice\n",
       "PA            Palladium\n",
       "PL             Platinum\n",
       "RR           Rough Rice\n",
       "SI               Silver\n",
       "S               Soybean\n",
       "SM         Soybean Meal\n",
       "BO          Soybean Oil\n",
       "SB                Sugar\n",
       "W                 Wheat\n",
       "CL        WTI Crude Oil"
      ]
     },
     "execution_count": 2,
     "metadata": {},
     "output_type": "execute_result"
    }
   ],
   "source": [
    "all_futures_hollstein2020"
   ]
  },
  {
   "cell_type": "code",
   "execution_count": 3,
   "id": "ddb2c61c",
   "metadata": {
    "ExecuteTime": {
     "end_time": "2020-08-31T19:29:26.170389Z",
     "start_time": "2020-08-31T19:29:26.166205Z"
    },
    "execution": {
     "iopub.execute_input": "2022-08-09T06:27:57.059940Z",
     "iopub.status.busy": "2022-08-09T06:27:57.059552Z",
     "iopub.status.idle": "2022-08-09T06:27:57.064695Z",
     "shell.execute_reply": "2022-08-09T06:27:57.063919Z"
    },
    "papermill": {
     "duration": 0.01207,
     "end_time": "2022-08-09T06:27:57.066381",
     "exception": false,
     "start_time": "2022-08-09T06:27:57.054311",
     "status": "completed"
    },
    "tags": []
   },
   "outputs": [
    {
     "data": {
      "text/plain": [
       "(26, 1)"
      ]
     },
     "execution_count": 3,
     "metadata": {},
     "output_type": "execute_result"
    }
   ],
   "source": [
    "all_futures_hollstein2020.shape"
   ]
  },
  {
   "cell_type": "markdown",
   "id": "ff2c8243",
   "metadata": {
    "papermill": {
     "duration": 0.004912,
     "end_time": "2022-08-09T06:27:57.075859",
     "exception": false,
     "start_time": "2022-08-09T06:27:57.070947",
     "status": "completed"
    },
    "tags": []
   },
   "source": [
    "# Performance"
   ]
  },
  {
   "cell_type": "markdown",
   "id": "444d97f5",
   "metadata": {
    "papermill": {
     "duration": 0.005302,
     "end_time": "2022-08-09T06:27:57.085970",
     "exception": false,
     "start_time": "2022-08-09T06:27:57.080668",
     "status": "completed"
    },
    "tags": []
   },
   "source": [
    "## Run backtest\n",
    "\n",
    "A simple portfolio is constructed by using trailing 1-year returns of each commodity futures. Unlike studies in equities, the recent 1-month is included in the formation period. Positions are rebalanced on a monthly basis.\n",
    "\n",
    "Similar to other popular academic strategies, this commodity momentum signal has been stalling since around 2015."
   ]
  },
  {
   "cell_type": "code",
   "execution_count": 4,
   "id": "0c0d4a76",
   "metadata": {
    "ExecuteTime": {
     "end_time": "2020-09-02T22:09:35.368377Z",
     "start_time": "2020-09-02T21:34:59.850395Z"
    },
    "execution": {
     "iopub.execute_input": "2022-08-09T06:27:57.096381Z",
     "iopub.status.busy": "2022-08-09T06:27:57.096112Z",
     "iopub.status.idle": "2022-08-09T06:33:29.590333Z",
     "shell.execute_reply": "2022-08-09T06:33:29.589435Z"
    },
    "papermill": {
     "duration": 332.502487,
     "end_time": "2022-08-09T06:33:29.592820",
     "exception": false,
     "start_time": "2022-08-09T06:27:57.090333",
     "status": "completed"
    },
    "tags": []
   },
   "outputs": [],
   "source": [
    "engine = BacktestEngine(\n",
    "    strategy=Strategy.DELTA_ONE.value,\n",
    "    instrument=all_futures_hollstein2020.index,\n",
    "    signal=signal.XSMomentum(lookback=252),\n",
    "    log_level=logging.WARN,\n",
    ")\n",
    "engine.run()"
   ]
  },
  {
   "cell_type": "code",
   "execution_count": 5,
   "id": "e515f061",
   "metadata": {
    "ExecuteTime": {
     "end_time": "2020-09-02T20:42:14.779932Z",
     "start_time": "2020-09-02T20:40:39.222688Z"
    },
    "execution": {
     "iopub.execute_input": "2022-08-09T06:33:29.605515Z",
     "iopub.status.busy": "2022-08-09T06:33:29.605139Z",
     "iopub.status.idle": "2022-08-09T06:35:24.652466Z",
     "shell.execute_reply": "2022-08-09T06:35:24.651579Z"
    },
    "papermill": {
     "duration": 115.056002,
     "end_time": "2022-08-09T06:35:24.654723",
     "exception": false,
     "start_time": "2022-08-09T06:33:29.598721",
     "status": "completed"
    },
    "tags": []
   },
   "outputs": [],
   "source": [
    "portfolio_return = (engine.calculate_equity_curve(calculate_net=False)\n",
    "                    .rename('Commodity momentum portfolio'))"
   ]
  },
  {
   "cell_type": "code",
   "execution_count": 6,
   "id": "30564401",
   "metadata": {
    "ExecuteTime": {
     "end_time": "2020-09-02T20:45:59.608937Z",
     "start_time": "2020-09-02T20:45:59.405601Z"
    },
    "execution": {
     "iopub.execute_input": "2022-08-09T06:35:24.667141Z",
     "iopub.status.busy": "2022-08-09T06:35:24.666762Z",
     "iopub.status.idle": "2022-08-09T06:35:25.531100Z",
     "shell.execute_reply": "2022-08-09T06:35:25.530216Z"
    },
    "papermill": {
     "duration": 0.872644,
     "end_time": "2022-08-09T06:35:25.532940",
     "exception": false,
     "start_time": "2022-08-09T06:35:24.660296",
     "status": "completed"
    },
    "tags": []
   },
   "outputs": [
    {
     "data": {
      "image/png": "[encoded data removed]",
      "text/plain": [
       "<Figure size 576x324 with 1 Axes>"
      ]
     },
     "metadata": {
      "needs_background": "light"
     },
     "output_type": "display_data"
    }
   ],
   "source": [
    "fig, ax = plt.subplots(figsize=(8, 4.5))\n",
    "portfolio_return.plot(ax=ax, logy=True);\n",
    "ax.set_title('Commodity momentum portfolio')\n",
    "ax.set_ylabel('Cumulative returns');"
   ]
  },
  {
   "cell_type": "code",
   "execution_count": 7,
   "id": "eeebc213",
   "metadata": {
    "ExecuteTime": {
     "end_time": "2020-08-31T20:06:51.873126Z",
     "start_time": "2020-08-31T20:06:51.866509Z"
    },
    "execution": {
     "iopub.execute_input": "2022-08-09T06:35:25.548529Z",
     "iopub.status.busy": "2022-08-09T06:35:25.547735Z",
     "iopub.status.idle": "2022-08-09T06:35:25.636667Z",
     "shell.execute_reply": "2022-08-09T06:35:25.635751Z"
    },
    "papermill": {
     "duration": 0.098848,
     "end_time": "2022-08-09T06:35:25.639051",
     "exception": false,
     "start_time": "2022-08-09T06:35:25.540203",
     "status": "completed"
    },
    "tags": []
   },
   "outputs": [
    {
     "data": {
      "text/html": [
       "<div>\n",
       "<style scoped>\n",
       "    .dataframe tbody tr th:only-of-type {\n",
       "        vertical-align: middle;\n",
       "    }\n",
       "\n",
       "    .dataframe tbody tr th {\n",
       "        vertical-align: top;\n",
       "    }\n",
       "\n",
       "    .dataframe thead th {\n",
       "        text-align: right;\n",
       "    }\n",
       "</style>\n",
       "<table border=\"1\" class=\"dataframe\">\n",
       "  <thead>\n",
       "    <tr style=\"text-align: right;\">\n",
       "      <th></th>\n",
       "      <th>Commodity momentum portfolio</th>\n",
       "    </tr>\n",
       "  </thead>\n",
       "  <tbody>\n",
       "    <tr>\n",
       "      <th>CAGR</th>\n",
       "      <td>0.114713</td>\n",
       "    </tr>\n",
       "    <tr>\n",
       "      <th>Annualised vol</th>\n",
       "      <td>0.183943</td>\n",
       "    </tr>\n",
       "    <tr>\n",
       "      <th>Sharpe ratio</th>\n",
       "      <td>0.623633</td>\n",
       "    </tr>\n",
       "    <tr>\n",
       "      <th>Max drawdown</th>\n",
       "      <td>0.551329</td>\n",
       "    </tr>\n",
       "    <tr>\n",
       "      <th>Calmar ratio</th>\n",
       "      <td>0.208066</td>\n",
       "    </tr>\n",
       "    <tr>\n",
       "      <th>Skewness</th>\n",
       "      <td>-0.150560</td>\n",
       "    </tr>\n",
       "    <tr>\n",
       "      <th>Kurtosis</th>\n",
       "      <td>2.605386</td>\n",
       "    </tr>\n",
       "    <tr>\n",
       "      <th>Worst return</th>\n",
       "      <td>-0.112480</td>\n",
       "    </tr>\n",
       "    <tr>\n",
       "      <th>Worst 1d return</th>\n",
       "      <td>-0.112480</td>\n",
       "    </tr>\n",
       "    <tr>\n",
       "      <th>Worst 1w return</th>\n",
       "      <td>-0.137201</td>\n",
       "    </tr>\n",
       "    <tr>\n",
       "      <th>Worst 1m return</th>\n",
       "      <td>-0.224319</td>\n",
       "    </tr>\n",
       "  </tbody>\n",
       "</table>\n",
       "</div>"
      ],
      "text/plain": [
       "                 Commodity momentum portfolio\n",
       "CAGR                                 0.114713\n",
       "Annualised vol                       0.183943\n",
       "Sharpe ratio                         0.623633\n",
       "Max drawdown                         0.551329\n",
       "Calmar ratio                         0.208066\n",
       "Skewness                            -0.150560\n",
       "Kurtosis                             2.605386\n",
       "Worst return                        -0.112480\n",
       "Worst 1d return                     -0.112480\n",
       "Worst 1w return                     -0.137201\n",
       "Worst 1m return                     -0.224319"
      ]
     },
     "execution_count": 7,
     "metadata": {},
     "output_type": "execute_result"
    }
   ],
   "source": [
    "portfolio_return.pipe(Performance).summary()"
   ]
  },
  {
   "cell_type": "markdown",
   "id": "f3af3b9e",
   "metadata": {
    "papermill": {
     "duration": 0.030904,
     "end_time": "2022-08-09T06:35:25.676353",
     "exception": false,
     "start_time": "2022-08-09T06:35:25.645449",
     "status": "completed"
    },
    "tags": []
   },
   "source": [
    "## Recent performance"
   ]
  },
  {
   "cell_type": "code",
   "execution_count": 8,
   "id": "87b4d185",
   "metadata": {
    "execution": {
     "iopub.execute_input": "2022-08-09T06:35:25.692058Z",
     "iopub.status.busy": "2022-08-09T06:35:25.691571Z",
     "iopub.status.idle": "2022-08-09T06:35:26.175506Z",
     "shell.execute_reply": "2022-08-09T06:35:26.174532Z"
    },
    "papermill": {
     "duration": 0.49369,
     "end_time": "2022-08-09T06:35:26.177453",
     "exception": false,
     "start_time": "2022-08-09T06:35:25.683763",
     "status": "completed"
    },
    "tags": []
   },
   "outputs": [
    {
     "data": {
      "image/png": "[encoded data removed]",
      "text/plain": [
       "<Figure size 576x324 with 1 Axes>"
      ]
     },
     "metadata": {
      "needs_background": "light"
     },
     "output_type": "display_data"
    }
   ],
   "source": [
    "fig, ax = plt.subplots(figsize=(8, 4.5))\n",
    "portfolio_return.tail(252 * 2).plot(ax=ax, logy=True);\n",
    "ax.set_title('Commodity momentum portfolio')\n",
    "ax.set_ylabel('Cumulative returns');"
   ]
  },
  {
   "cell_type": "markdown",
   "id": "c724e951",
   "metadata": {
    "papermill": {
     "duration": 0.005826,
     "end_time": "2022-08-09T06:35:26.189008",
     "exception": false,
     "start_time": "2022-08-09T06:35:26.183182",
     "status": "completed"
    },
    "tags": []
   },
   "source": [
    "# Reference\n",
    "- Asness, C.S., Moskowitz, T.J. and Pedersen, L.H., 2013. Value and momentum everywhere. The Journal of Finance, 68(3), pp.929-985.\n",
    "- Hollstein, F., Prokopczuk, M. and Tharann, B., 2020. Anomalies in commodity futures markets: Risk or mispricing?. Available at SSRN."
   ]
  },
  {
   "cell_type": "code",
   "execution_count": 9,
   "id": "7b074180",
   "metadata": {
    "ExecuteTime": {
     "end_time": "2020-08-31T05:52:23.734170Z",
     "start_time": "2020-08-31T05:52:23.731627Z"
    },
    "execution": {
     "iopub.execute_input": "2022-08-09T06:35:26.238195Z",
     "iopub.status.busy": "2022-08-09T06:35:26.237748Z",
     "iopub.status.idle": "2022-08-09T06:35:26.243913Z",
     "shell.execute_reply": "2022-08-09T06:35:26.243038Z"
    },
    "papermill": {
     "duration": 0.01545,
     "end_time": "2022-08-09T06:35:26.245863",
     "exception": false,
     "start_time": "2022-08-09T06:35:26.230413",
     "status": "completed"
    },
    "tags": []
   },
   "outputs": [
    {
     "name": "stdout",
     "output_type": "stream",
     "text": [
      "Updated: 09-Aug-2022 06:35\n"
     ]
    }
   ],
   "source": [
    "print(f'Updated: {datetime.utcnow().strftime(\"%d-%b-%Y %H:%M\")}')"
   ]
  }
 ],
 "metadata": {
  "kernelspec": {
   "display_name": "Python 3",
   "language": "python",
   "name": "python3"
  },
  "language_info": {
   "codemirror_mode": {
    "name": "ipython",
    "version": 3
   },
   "file_extension": ".py",
   "mimetype": "text/x-python",
   "name": "python",
   "nbconvert_exporter": "python",
   "pygments_lexer": "ipython3",
   "version": "3.9.6"
  },
  "papermill": {
   "default_parameters": {},
   "duration": 456.319947,
   "end_time": "2022-08-09T06:35:28.274747",
   "environment_variables": {},
   "exception": null,
   "input_path": "notebooks/papermill/commodity_momentum.ipynb",
   "output_path": "notebooks/commodity_momentum.ipynb",
   "parameters": {},
   "start_time": "2022-08-09T06:27:51.954800",
   "version": "2.3.4"
  },
  "toc": {
   "base_numbering": 1,
   "nav_menu": {},
   "number_sections": true,
   "sideBar": true,
   "skip_h1_title": false,
   "title_cell": "Table of Contents",
   "title_sidebar": "Contents",
   "toc_cell": true,
   "toc_position": {
    "height": "calc(100% - 180px)",
    "left": "10px",
    "top": "150px",
    "width": "165px"
   },
   "toc_section_display": true,
   "toc_window_display": true
  },
  "toc-autonumbering": true,
  "toc-showmarkdowntxt": true,
  "toc-showtags": false
 },
 "nbformat": 4,
 "nbformat_minor": 5
}