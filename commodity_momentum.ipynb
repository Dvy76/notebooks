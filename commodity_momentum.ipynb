{
 "cells": [
  {
   "cell_type": "markdown",
   "id": "e40ed204",
   "metadata": {
    "papermill": {
     "duration": 0.005684,
     "end_time": "2022-09-23T06:29:51.836522",
     "exception": false,
     "start_time": "2022-09-23T06:29:51.830838",
     "status": "completed"
    },
    "tags": []
   },
   "source": [
    "# Commodity momentum\n",
    "\n",
    "This notebook analyses commodity cross-sectional momentum strategy. The strategy takes long positions on contracts with best 1-year perfomance and short positions on ones with worst 1-year performance."
   ]
  },
  {
   "cell_type": "code",
   "execution_count": 1,
   "id": "a55c151f",
   "metadata": {
    "ExecuteTime": {
     "end_time": "2020-08-31T19:29:24.852122Z",
     "start_time": "2020-08-31T19:29:24.038266Z"
    },
    "execution": {
     "iopub.execute_input": "2022-09-23T06:29:51.847724Z",
     "iopub.status.busy": "2022-09-23T06:29:51.847315Z",
     "iopub.status.idle": "2022-09-23T06:29:55.040512Z",
     "shell.execute_reply": "2022-09-23T06:29:55.039692Z"
    },
    "papermill": {
     "duration": 3.201423,
     "end_time": "2022-09-23T06:29:55.042542",
     "exception": false,
     "start_time": "2022-09-23T06:29:51.841119",
     "status": "completed"
    },
    "tags": []
   },
   "outputs": [],
   "source": [
    "%matplotlib inline\n",
    "from datetime import datetime\n",
    "import logging\n",
    "import warnings\n",
    "warnings.simplefilter(action='ignore', category=FutureWarning)\n",
    "\n",
    "import pandas as pd\n",
    "import matplotlib.pyplot as plt\n",
    "import matplotlib.ticker as mticker\n",
    "plt.style.use('bmh')\n",
    "\n",
    "from vivace.backtest import signal\n",
    "from vivace.backtest import processing\n",
    "from vivace.backtest.contract import all_futures_hollstein2020\n",
    "from vivace.backtest.engine import BacktestEngine\n",
    "from vivace.backtest.enums import Strategy\n",
    "from vivace.backtest.stats import Performance"
   ]
  },
  {
   "cell_type": "markdown",
   "id": "984b0e70",
   "metadata": {
    "papermill": {
     "duration": 0.044455,
     "end_time": "2022-09-23T06:29:55.124580",
     "exception": false,
     "start_time": "2022-09-23T06:29:55.080125",
     "status": "completed"
    },
    "tags": []
   },
   "source": [
    "# Data\n",
    "\n",
    "26 commodity futures are used as per Hollstein 2020."
   ]
  },
  {
   "cell_type": "code",
   "execution_count": 2,
   "id": "9bdd9da9",
   "metadata": {
    "ExecuteTime": {
     "end_time": "2020-08-31T19:29:25.399795Z",
     "start_time": "2020-08-31T19:29:25.371862Z"
    },
    "execution": {
     "iopub.execute_input": "2022-09-23T06:29:55.138396Z",
     "iopub.status.busy": "2022-09-23T06:29:55.137671Z",
     "iopub.status.idle": "2022-09-23T06:29:55.155501Z",
     "shell.execute_reply": "2022-09-23T06:29:55.154434Z"
    },
    "papermill": {
     "duration": 0.026797,
     "end_time": "2022-09-23T06:29:55.157911",
     "exception": false,
     "start_time": "2022-09-23T06:29:55.131114",
     "status": "completed"
    },
    "tags": []
   },
   "outputs": [
    {
     "data": {
      "text/html": [
       "<div>\n",
       "<style scoped>\n",
       "    .dataframe tbody tr th:only-of-type {\n",
       "        vertical-align: middle;\n",
       "    }\n",
       "\n",
       "    .dataframe tbody tr th {\n",
       "        vertical-align: top;\n",
       "    }\n",
       "\n",
       "    .dataframe thead th {\n",
       "        text-align: right;\n",
       "    }\n",
       "</style>\n",
       "<table border=\"1\" class=\"dataframe\">\n",
       "  <thead>\n",
       "    <tr style=\"text-align: right;\">\n",
       "      <th></th>\n",
       "      <th>name</th>\n",
       "    </tr>\n",
       "    <tr>\n",
       "      <th>ticker</th>\n",
       "      <th></th>\n",
       "    </tr>\n",
       "  </thead>\n",
       "  <tbody>\n",
       "    <tr>\n",
       "      <th>CO</th>\n",
       "      <td>Brent Crude Oil</td>\n",
       "    </tr>\n",
       "    <tr>\n",
       "      <th>CC</th>\n",
       "      <td>Cocoa</td>\n",
       "    </tr>\n",
       "    <tr>\n",
       "      <th>KC</th>\n",
       "      <td>Coffee</td>\n",
       "    </tr>\n",
       "    <tr>\n",
       "      <th>C</th>\n",
       "      <td>Corn</td>\n",
       "    </tr>\n",
       "    <tr>\n",
       "      <th>CT</th>\n",
       "      <td>Cotton</td>\n",
       "    </tr>\n",
       "    <tr>\n",
       "      <th>FC</th>\n",
       "      <td>Feeder Cattle</td>\n",
       "    </tr>\n",
       "    <tr>\n",
       "      <th>GC</th>\n",
       "      <td>Gold</td>\n",
       "    </tr>\n",
       "    <tr>\n",
       "      <th>HO</th>\n",
       "      <td>Heating Oil</td>\n",
       "    </tr>\n",
       "    <tr>\n",
       "      <th>HG</th>\n",
       "      <td>Copper</td>\n",
       "    </tr>\n",
       "    <tr>\n",
       "      <th>LH</th>\n",
       "      <td>Lean Hog</td>\n",
       "    </tr>\n",
       "    <tr>\n",
       "      <th>LC</th>\n",
       "      <td>Live Cattle</td>\n",
       "    </tr>\n",
       "    <tr>\n",
       "      <th>LB</th>\n",
       "      <td>Lumber</td>\n",
       "    </tr>\n",
       "    <tr>\n",
       "      <th>DA</th>\n",
       "      <td>Milk</td>\n",
       "    </tr>\n",
       "    <tr>\n",
       "      <th>NG</th>\n",
       "      <td>Natural Gas</td>\n",
       "    </tr>\n",
       "    <tr>\n",
       "      <th>ZO</th>\n",
       "      <td>Oats</td>\n",
       "    </tr>\n",
       "    <tr>\n",
       "      <th>OJ</th>\n",
       "      <td>Orange Juice</td>\n",
       "    </tr>\n",
       "    <tr>\n",
       "      <th>PA</th>\n",
       "      <td>Palladium</td>\n",
       "    </tr>\n",
       "    <tr>\n",
       "      <th>PL</th>\n",
       "      <td>Platinum</td>\n",
       "    </tr>\n",
       "    <tr>\n",
       "      <th>RR</th>\n",
       "      <td>Rough Rice</td>\n",
       "    </tr>\n",
       "    <tr>\n",
       "      <th>SI</th>\n",
       "      <td>Silver</td>\n",
       "    </tr>\n",
       "    <tr>\n",
       "      <th>S</th>\n",
       "      <td>Soybean</td>\n",
       "    </tr>\n",
       "    <tr>\n",
       "      <th>SM</th>\n",
       "      <td>Soybean Meal</td>\n",
       "    </tr>\n",
       "    <tr>\n",
       "      <th>BO</th>\n",
       "      <td>Soybean Oil</td>\n",
       "    </tr>\n",
       "    <tr>\n",
       "      <th>SB</th>\n",
       "      <td>Sugar</td>\n",
       "    </tr>\n",
       "    <tr>\n",
       "      <th>W</th>\n",
       "      <td>Wheat</td>\n",
       "    </tr>\n",
       "    <tr>\n",
       "      <th>CL</th>\n",
       "      <td>WTI Crude Oil</td>\n",
       "    </tr>\n",
       "  </tbody>\n",
       "</table>\n",
       "</div>"
      ],
      "text/plain": [
       "                   name\n",
       "ticker                 \n",
       "CO      Brent Crude Oil\n",
       "CC                Cocoa\n",
       "KC               Coffee\n",
       "C                  Corn\n",
       "CT               Cotton\n",
       "FC        Feeder Cattle\n",
       "GC                 Gold\n",
       "HO          Heating Oil\n",
       "HG               Copper\n",
       "LH             Lean Hog\n",
       "LC          Live Cattle\n",
       "LB               Lumber\n",
       "DA                 Milk\n",
       "NG          Natural Gas\n",
       "ZO                 Oats\n",
       "OJ         Orange Juice\n",
       "PA            Palladium\n",
       "PL             Platinum\n",
       "RR           Rough Rice\n",
       "SI               Silver\n",
       "S               Soybean\n",
       "SM         Soybean Meal\n",
       "BO          Soybean Oil\n",
       "SB                Sugar\n",
       "W                 Wheat\n",
       "CL        WTI Crude Oil"
      ]
     },
     "execution_count": 2,
     "metadata": {},
     "output_type": "execute_result"
    }
   ],
   "source": [
    "all_futures_hollstein2020"
   ]
  },
  {
   "cell_type": "code",
   "execution_count": 3,
   "id": "6dfec467",
   "metadata": {
    "ExecuteTime": {
     "end_time": "2020-08-31T19:29:26.170389Z",
     "start_time": "2020-08-31T19:29:26.166205Z"
    },
    "execution": {
     "iopub.execute_input": "2022-09-23T06:29:55.171005Z",
     "iopub.status.busy": "2022-09-23T06:29:55.170493Z",
     "iopub.status.idle": "2022-09-23T06:29:55.176861Z",
     "shell.execute_reply": "2022-09-23T06:29:55.175838Z"
    },
    "papermill": {
     "duration": 0.01765,
     "end_time": "2022-09-23T06:29:55.180314",
     "exception": false,
     "start_time": "2022-09-23T06:29:55.162664",
     "status": "completed"
    },
    "tags": []
   },
   "outputs": [
    {
     "data": {
      "text/plain": [
       "(26, 1)"
      ]
     },
     "execution_count": 3,
     "metadata": {},
     "output_type": "execute_result"
    }
   ],
   "source": [
    "all_futures_hollstein2020.shape"
   ]
  },
  {
   "cell_type": "markdown",
   "id": "6837e8c8",
   "metadata": {
    "papermill": {
     "duration": 0.005584,
     "end_time": "2022-09-23T06:29:55.191364",
     "exception": false,
     "start_time": "2022-09-23T06:29:55.185780",
     "status": "completed"
    },
    "tags": []
   },
   "source": [
    "# Performance"
   ]
  },
  {
   "cell_type": "markdown",
   "id": "73a7e345",
   "metadata": {
    "papermill": {
     "duration": 0.005384,
     "end_time": "2022-09-23T06:29:55.202848",
     "exception": false,
     "start_time": "2022-09-23T06:29:55.197464",
     "status": "completed"
    },
    "tags": []
   },
   "source": [
    "## Run backtest\n",
    "\n",
    "A simple portfolio is constructed by using trailing 1-year returns of each commodity futures. Unlike studies in equities, the recent 1-month is included in the formation period. Positions are rebalanced on a monthly basis.\n",
    "\n",
    "Similar to other popular academic strategies, this commodity momentum signal has been stalling since around 2015."
   ]
  },
  {
   "cell_type": "code",
   "execution_count": 4,
   "id": "4c010833",
   "metadata": {
    "ExecuteTime": {
     "end_time": "2020-09-02T22:09:35.368377Z",
     "start_time": "2020-09-02T21:34:59.850395Z"
    },
    "execution": {
     "iopub.execute_input": "2022-09-23T06:29:55.214086Z",
     "iopub.status.busy": "2022-09-23T06:29:55.213352Z",
     "iopub.status.idle": "2022-09-23T06:35:33.344888Z",
     "shell.execute_reply": "2022-09-23T06:35:33.344044Z"
    },
    "papermill": {
     "duration": 338.140804,
     "end_time": "2022-09-23T06:35:33.348396",
     "exception": false,
     "start_time": "2022-09-23T06:29:55.207592",
     "status": "completed"
    },
    "tags": []
   },
   "outputs": [],
   "source": [
    "engine = BacktestEngine(\n",
    "    strategy=Strategy.DELTA_ONE.value,\n",
    "    instrument=all_futures_hollstein2020.index,\n",
    "    signal=signal.XSMomentum(lookback=252),\n",
    "    log_level=logging.WARN,\n",
    ")\n",
    "engine.run()"
   ]
  },
  {
   "cell_type": "code",
   "execution_count": 5,
   "id": "28203221",
   "metadata": {
    "ExecuteTime": {
     "end_time": "2020-09-02T20:42:14.779932Z",
     "start_time": "2020-09-02T20:40:39.222688Z"
    },
    "execution": {
     "iopub.execute_input": "2022-09-23T06:35:33.366198Z",
     "iopub.status.busy": "2022-09-23T06:35:33.365922Z",
     "iopub.status.idle": "2022-09-23T06:37:37.342083Z",
     "shell.execute_reply": "2022-09-23T06:37:37.341116Z"
    },
    "papermill": {
     "duration": 123.986305,
     "end_time": "2022-09-23T06:37:37.344324",
     "exception": false,
     "start_time": "2022-09-23T06:35:33.358019",
     "status": "completed"
    },
    "tags": []
   },
   "outputs": [],
   "source": [
    "portfolio_return = (engine.calculate_equity_curve(calculate_net=False)\n",
    "                    .rename('Commodity momentum portfolio'))"
   ]
  },
  {
   "cell_type": "code",
   "execution_count": 6,
   "id": "4cf1638f",
   "metadata": {
    "ExecuteTime": {
     "end_time": "2020-09-02T20:45:59.608937Z",
     "start_time": "2020-09-02T20:45:59.405601Z"
    },
    "execution": {
     "iopub.execute_input": "2022-09-23T06:37:37.357755Z",
     "iopub.status.busy": "2022-09-23T06:37:37.357416Z",
     "iopub.status.idle": "2022-09-23T06:37:38.256706Z",
     "shell.execute_reply": "2022-09-23T06:37:38.255515Z"
    },
    "papermill": {
     "duration": 0.912861,
     "end_time": "2022-09-23T06:37:38.262979",
     "exception": false,
     "start_time": "2022-09-23T06:37:37.350118",
     "status": "completed"
    },
    "tags": []
   },
   "outputs": [
    {
     "data": {
      "image/png": "[encoded data removed]",
      "text/plain": [
       "<Figure size 800x450 with 1 Axes>"
      ]
     },
     "metadata": {},
     "output_type": "display_data"
    }
   ],
   "source": [
    "fig, ax = plt.subplots(figsize=(8, 4.5))\n",
    "portfolio_return.plot(ax=ax, logy=True);\n",
    "ax.set_title('Commodity momentum portfolio')\n",
    "ax.set_ylabel('Cumulative returns');"
   ]
  },
  {
   "cell_type": "code",
   "execution_count": 7,
   "id": "88f70904",
   "metadata": {
    "ExecuteTime": {
     "end_time": "2020-08-31T20:06:51.873126Z",
     "start_time": "2020-08-31T20:06:51.866509Z"
    },
    "execution": {
     "iopub.execute_input": "2022-09-23T06:37:38.324833Z",
     "iopub.status.busy": "2022-09-23T06:37:38.324322Z",
     "iopub.status.idle": "2022-09-23T06:37:38.429117Z",
     "shell.execute_reply": "2022-09-23T06:37:38.428091Z"
    },
    "papermill": {
     "duration": 0.11548,
     "end_time": "2022-09-23T06:37:38.431135",
     "exception": false,
     "start_time": "2022-09-23T06:37:38.315655",
     "status": "completed"
    },
    "tags": []
   },
   "outputs": [
    {
     "data": {
      "text/html": [
       "<div>\n",
       "<style scoped>\n",
       "    .dataframe tbody tr th:only-of-type {\n",
       "        vertical-align: middle;\n",
       "    }\n",
       "\n",
       "    .dataframe tbody tr th {\n",
       "        vertical-align: top;\n",
       "    }\n",
       "\n",
       "    .dataframe thead th {\n",
       "        text-align: right;\n",
       "    }\n",
       "</style>\n",
       "<table border=\"1\" class=\"dataframe\">\n",
       "  <thead>\n",
       "    <tr style=\"text-align: right;\">\n",
       "      <th></th>\n",
       "      <th>Commodity momentum portfolio</th>\n",
       "    </tr>\n",
       "  </thead>\n",
       "  <tbody>\n",
       "    <tr>\n",
       "      <th>CAGR</th>\n",
       "      <td>0.114913</td>\n",
       "    </tr>\n",
       "    <tr>\n",
       "      <th>Annualised vol</th>\n",
       "      <td>0.183998</td>\n",
       "    </tr>\n",
       "    <tr>\n",
       "      <th>Sharpe ratio</th>\n",
       "      <td>0.624537</td>\n",
       "    </tr>\n",
       "    <tr>\n",
       "      <th>Max drawdown</th>\n",
       "      <td>0.551329</td>\n",
       "    </tr>\n",
       "    <tr>\n",
       "      <th>Calmar ratio</th>\n",
       "      <td>0.208430</td>\n",
       "    </tr>\n",
       "    <tr>\n",
       "      <th>Skewness</th>\n",
       "      <td>-0.150420</td>\n",
       "    </tr>\n",
       "    <tr>\n",
       "      <th>Kurtosis</th>\n",
       "      <td>2.595311</td>\n",
       "    </tr>\n",
       "    <tr>\n",
       "      <th>Worst return</th>\n",
       "      <td>-0.112480</td>\n",
       "    </tr>\n",
       "    <tr>\n",
       "      <th>Worst 1d return</th>\n",
       "      <td>-0.112480</td>\n",
       "    </tr>\n",
       "    <tr>\n",
       "      <th>Worst 1w return</th>\n",
       "      <td>-0.137201</td>\n",
       "    </tr>\n",
       "    <tr>\n",
       "      <th>Worst 1m return</th>\n",
       "      <td>-0.224319</td>\n",
       "    </tr>\n",
       "  </tbody>\n",
       "</table>\n",
       "</div>"
      ],
      "text/plain": [
       "                 Commodity momentum portfolio\n",
       "CAGR                                 0.114913\n",
       "Annualised vol                       0.183998\n",
       "Sharpe ratio                         0.624537\n",
       "Max drawdown                         0.551329\n",
       "Calmar ratio                         0.208430\n",
       "Skewness                            -0.150420\n",
       "Kurtosis                             2.595311\n",
       "Worst return                        -0.112480\n",
       "Worst 1d return                     -0.112480\n",
       "Worst 1w return                     -0.137201\n",
       "Worst 1m return                     -0.224319"
      ]
     },
     "execution_count": 7,
     "metadata": {},
     "output_type": "execute_result"
    }
   ],
   "source": [
    "portfolio_return.pipe(Performance).summary()"
   ]
  },
  {
   "cell_type": "markdown",
   "id": "cdacc0e2",
   "metadata": {
    "papermill": {
     "duration": 0.005392,
     "end_time": "2022-09-23T06:37:38.442060",
     "exception": false,
     "start_time": "2022-09-23T06:37:38.436668",
     "status": "completed"
    },
    "tags": []
   },
   "source": [
    "## Recent performance"
   ]
  },
  {
   "cell_type": "code",
   "execution_count": 8,
   "id": "08a937e1",
   "metadata": {
    "execution": {
     "iopub.execute_input": "2022-09-23T06:37:38.454382Z",
     "iopub.status.busy": "2022-09-23T06:37:38.453991Z",
     "iopub.status.idle": "2022-09-23T06:37:38.908519Z",
     "shell.execute_reply": "2022-09-23T06:37:38.907707Z"
    },
    "papermill": {
     "duration": 0.462965,
     "end_time": "2022-09-23T06:37:38.910316",
     "exception": false,
     "start_time": "2022-09-23T06:37:38.447351",
     "status": "completed"
    },
    "tags": []
   },
   "outputs": [
    {
     "data": {
      "image/png": "[encoded data removed]",
      "text/plain": [
       "<Figure size 800x450 with 1 Axes>"
      ]
     },
     "metadata": {},
     "output_type": "display_data"
    }
   ],
   "source": [
    "fig, ax = plt.subplots(figsize=(8, 4.5))\n",
    "portfolio_return.tail(252 * 2).plot(ax=ax, logy=True);\n",
    "ax.set_title('Commodity momentum portfolio')\n",
    "ax.set_ylabel('Cumulative returns');"
   ]
  },
  {
   "cell_type": "markdown",
   "id": "96000e8b",
   "metadata": {
    "papermill": {
     "duration": 0.008346,
     "end_time": "2022-09-23T06:37:38.926495",
     "exception": false,
     "start_time": "2022-09-23T06:37:38.918149",
     "status": "completed"
    },
    "tags": []
   },
   "source": [
    "# Reference\n",
    "- Asness, C.S., Moskowitz, T.J. and Pedersen, L.H., 2013. Value and momentum everywhere. The Journal of Finance, 68(3), pp.929-985.\n",
    "- Hollstein, F., Prokopczuk, M. and Tharann, B., 2020. Anomalies in commodity futures markets: Risk or mispricing?. Available at SSRN."
   ]
  },
  {
   "cell_type": "code",
   "execution_count": 9,
   "id": "98a96d5a",
   "metadata": {
    "ExecuteTime": {
     "end_time": "2020-08-31T05:52:23.734170Z",
     "start_time": "2020-08-31T05:52:23.731627Z"
    },
    "execution": {
     "iopub.execute_input": "2022-09-23T06:37:38.945544Z",
     "iopub.status.busy": "2022-09-23T06:37:38.944826Z",
     "iopub.status.idle": "2022-09-23T06:37:38.949996Z",
     "shell.execute_reply": "2022-09-23T06:37:38.949015Z"
    },
    "papermill": {
     "duration": 0.016893,
     "end_time": "2022-09-23T06:37:38.951837",
     "exception": false,
     "start_time": "2022-09-23T06:37:38.934944",
     "status": "completed"
    },
    "tags": []
   },
   "outputs": [
    {
     "name": "stdout",
     "output_type": "stream",
     "text": [
      "Updated: 23-Sep-2022 06:37\n"
     ]
    }
   ],
   "source": [
    "print(f'Updated: {datetime.utcnow().strftime(\"%d-%b-%Y %H:%M\")}')"
   ]
  }
 ],
 "metadata": {
  "kernelspec": {
   "display_name": "Python 3",
   "language": "python",
   "name": "python3"
  },
  "language_info": {
   "codemirror_mode": {
    "name": "ipython",
    "version": 3
   },
   "file_extension": ".py",
   "mimetype": "text/x-python",
   "name": "python",
   "nbconvert_exporter": "python",
   "pygments_lexer": "ipython3",
   "version": "3.9.6"
  },
  "papermill": {
   "default_parameters": {},
   "duration": 471.083209,
   "end_time": "2022-09-23T06:37:41.085692",
   "environment_variables": {},
   "exception": null,
   "input_path": "notebooks/papermill/commodity_momentum.ipynb",
   "output_path": "notebooks/commodity_momentum.ipynb",
   "parameters": {},
   "start_time": "2022-09-23T06:29:50.002483",
   "version": "2.4.0"
  },
  "toc": {
   "base_numbering": 1,
   "nav_menu": {},
   "number_sections": true,
   "sideBar": true,
   "skip_h1_title": false,
   "title_cell": "Table of Contents",
   "title_sidebar": "Contents",
   "toc_cell": true,
   "toc_position": {
    "height": "calc(100% - 180px)",
    "left": "10px",
    "top": "150px",
    "width": "165px"
   },
   "toc_section_display": true,
   "toc_window_display": true
  },
  "toc-autonumbering": true,
  "toc-showmarkdowntxt": true,
  "toc-showtags": false
 },
 "nbformat": 4,
 "nbformat_minor": 5
}