{
 "cells": [
  {
   "cell_type": "markdown",
   "id": "bb6881b6",
   "metadata": {
    "papermill": {
     "duration": 0.02912,
     "end_time": "2022-06-25T09:58:20.993563",
     "exception": false,
     "start_time": "2022-06-25T09:58:20.964443",
     "status": "completed"
    },
    "tags": []
   },
   "source": [
    "# Commodity crush spread statistical arbitrage\n",
    "\n",
    "This notebook investigates the analysis done in Simon 1999 which is about the crush spread in soybean complex. The crush spread in soybean (soybean, soybean mean and soybeam oil) appears to be mean-reverting both in the short-term and long-term. The author suggests to employ a mean-reversion strategy to capture this price pattern."
   ]
  },
  {
   "cell_type": "code",
   "execution_count": 1,
   "id": "17f767b3",
   "metadata": {
    "execution": {
     "iopub.execute_input": "2022-06-25T09:58:21.091964Z",
     "iopub.status.busy": "2022-06-25T09:58:21.091283Z",
     "iopub.status.idle": "2022-06-25T09:58:24.718738Z",
     "shell.execute_reply": "2022-06-25T09:58:24.718029Z"
    },
    "papermill": {
     "duration": 3.69803,
     "end_time": "2022-06-25T09:58:24.721090",
     "exception": false,
     "start_time": "2022-06-25T09:58:21.023060",
     "status": "completed"
    },
    "tags": []
   },
   "outputs": [],
   "source": [
    "%matplotlib inline\n",
    "from datetime import datetime\n",
    "import logging\n",
    "import warnings\n",
    "warnings.simplefilter(action='ignore', category=FutureWarning)\n",
    "\n",
    "import pandas as pd\n",
    "import statsmodels.api as sm\n",
    "import matplotlib.pyplot as plt\n",
    "plt.style.use('bmh')\n",
    "\n",
    "from vivace.backtest import signal\n",
    "from vivace.backtest.analytics import rebase\n",
    "from vivace.backtest.contract import InstrumentDef\n",
    "from vivace.backtest.engine import BacktestEngine\n",
    "from vivace.backtest.enums import Strategy, Weighting\n",
    "from vivace.backtest.stats import Performance"
   ]
  },
  {
   "cell_type": "markdown",
   "id": "a37e6343",
   "metadata": {
    "papermill": {
     "duration": 0.030529,
     "end_time": "2022-06-25T09:58:24.779880",
     "exception": false,
     "start_time": "2022-06-25T09:58:24.749351",
     "status": "completed"
    },
    "tags": []
   },
   "source": [
    "# The soybean crush spread"
   ]
  },
  {
   "cell_type": "markdown",
   "id": "d585355d",
   "metadata": {
    "papermill": {
     "duration": 0.027912,
     "end_time": "2022-06-25T09:58:24.836109",
     "exception": false,
     "start_time": "2022-06-25T09:58:24.808197",
     "status": "completed"
    },
    "tags": []
   },
   "source": [
    "## USDA estimates 1988\n",
    "\n",
    "First we get the generic price time-series of the front contracts for soybean, meal and oil."
   ]
  },
  {
   "cell_type": "code",
   "execution_count": 2,
   "id": "11784c9b",
   "metadata": {
    "execution": {
     "iopub.execute_input": "2022-06-25T09:58:24.892139Z",
     "iopub.status.busy": "2022-06-25T09:58:24.891953Z",
     "iopub.status.idle": "2022-06-25T09:58:33.140810Z",
     "shell.execute_reply": "2022-06-25T09:58:33.140294Z"
    },
    "papermill": {
     "duration": 8.278785,
     "end_time": "2022-06-25T09:58:33.142457",
     "exception": false,
     "start_time": "2022-06-25T09:58:24.863672",
     "status": "completed"
    },
    "tags": []
   },
   "outputs": [],
   "source": [
    "soybean_1st = BacktestEngine(instrument='S', log_level=logging.WARN)\n",
    "soybean_1st.run()"
   ]
  },
  {
   "cell_type": "code",
   "execution_count": 3,
   "id": "8874bd3f",
   "metadata": {
    "execution": {
     "iopub.execute_input": "2022-06-25T09:58:33.206514Z",
     "iopub.status.busy": "2022-06-25T09:58:33.206319Z",
     "iopub.status.idle": "2022-06-25T09:58:42.263646Z",
     "shell.execute_reply": "2022-06-25T09:58:42.263104Z"
    },
    "papermill": {
     "duration": 9.093988,
     "end_time": "2022-06-25T09:58:42.265234",
     "exception": false,
     "start_time": "2022-06-25T09:58:33.171246",
     "status": "completed"
    },
    "tags": []
   },
   "outputs": [],
   "source": [
    "soybean_meal_1st = BacktestEngine(instrument='SM', log_level=logging.WARN)\n",
    "soybean_meal_1st.run()"
   ]
  },
  {
   "cell_type": "code",
   "execution_count": 4,
   "id": "a64c7fe0",
   "metadata": {
    "execution": {
     "iopub.execute_input": "2022-06-25T09:58:42.323994Z",
     "iopub.status.busy": "2022-06-25T09:58:42.323729Z",
     "iopub.status.idle": "2022-06-25T09:58:51.035212Z",
     "shell.execute_reply": "2022-06-25T09:58:51.034631Z"
    },
    "papermill": {
     "duration": 8.743271,
     "end_time": "2022-06-25T09:58:51.036880",
     "exception": false,
     "start_time": "2022-06-25T09:58:42.293609",
     "status": "completed"
    },
    "tags": []
   },
   "outputs": [],
   "source": [
    "soybean_oil_1st = BacktestEngine(instrument='BO', log_level=logging.WARN)\n",
    "soybean_oil_1st.run()"
   ]
  },
  {
   "cell_type": "code",
   "execution_count": 5,
   "id": "09eafbc3",
   "metadata": {
    "execution": {
     "iopub.execute_input": "2022-06-25T09:58:51.093537Z",
     "iopub.status.busy": "2022-06-25T09:58:51.093345Z",
     "iopub.status.idle": "2022-06-25T09:59:11.730386Z",
     "shell.execute_reply": "2022-06-25T09:59:11.729784Z"
    },
    "papermill": {
     "duration": 20.667668,
     "end_time": "2022-06-25T09:59:11.732578",
     "exception": false,
     "start_time": "2022-06-25T09:58:51.064910",
     "status": "completed"
    },
    "tags": []
   },
   "outputs": [],
   "source": [
    "soybean_price = soybean_1st.get_generic_price()\n",
    "soybean_meal_price = soybean_meal_1st.get_generic_price()\n",
    "soybean_oil_price = soybean_oil_1st.get_generic_price()"
   ]
  },
  {
   "cell_type": "markdown",
   "id": "1f5ec6e9",
   "metadata": {
    "papermill": {
     "duration": 0.041694,
     "end_time": "2022-06-25T09:59:11.817307",
     "exception": false,
     "start_time": "2022-06-25T09:59:11.775613",
     "status": "completed"
    },
    "tags": []
   },
   "source": [
    "Note that each futures prices use different units. *Ignoreing the inherent leverage* in the futures contracts, they each are priced in the following units:\n",
    "- Soybean meal price is per 1 ton\n",
    "- Soybean oil price is per 100 pounds\n",
    "- Soybean price is per 100 bushels"
   ]
  },
  {
   "cell_type": "code",
   "execution_count": 6,
   "id": "c3a3d2a5",
   "metadata": {
    "execution": {
     "iopub.execute_input": "2022-06-25T09:59:11.893548Z",
     "iopub.status.busy": "2022-06-25T09:59:11.893342Z",
     "iopub.status.idle": "2022-06-25T09:59:11.902325Z",
     "shell.execute_reply": "2022-06-25T09:59:11.901795Z"
    },
    "papermill": {
     "duration": 0.045109,
     "end_time": "2022-06-25T09:59:11.904111",
     "exception": false,
     "start_time": "2022-06-25T09:59:11.859002",
     "status": "completed"
    },
    "tags": []
   },
   "outputs": [],
   "source": [
    "gcm = (soybean_meal_price.squeeze().div(2000).mul(48) + \n",
    "       soybean_oil_price.squeeze().div(100).mul(11) - \n",
    "       soybean_price.squeeze().div(100))"
   ]
  },
  {
   "cell_type": "markdown",
   "id": "42ae10b6",
   "metadata": {
    "papermill": {
     "duration": 0.028918,
     "end_time": "2022-06-25T09:59:11.963165",
     "exception": false,
     "start_time": "2022-06-25T09:59:11.934247",
     "status": "completed"
    },
    "tags": []
   },
   "source": [
    "The chart below reproduces the gross crush margin estimated by USDA 1988."
   ]
  },
  {
   "cell_type": "code",
   "execution_count": 7,
   "id": "034a5bb8",
   "metadata": {
    "execution": {
     "iopub.execute_input": "2022-06-25T09:59:12.024380Z",
     "iopub.status.busy": "2022-06-25T09:59:12.024189Z",
     "iopub.status.idle": "2022-06-25T09:59:12.283579Z",
     "shell.execute_reply": "2022-06-25T09:59:12.283037Z"
    },
    "papermill": {
     "duration": 0.294024,
     "end_time": "2022-06-25T09:59:12.285405",
     "exception": false,
     "start_time": "2022-06-25T09:59:11.991381",
     "status": "completed"
    },
    "tags": []
   },
   "outputs": [
    {
     "data": {
      "image/png": "[encoded data removed]",
      "text/plain": [
       "<Figure size 576x360 with 1 Axes>"
      ]
     },
     "metadata": {
      "needs_background": "light"
     },
     "output_type": "display_data"
    }
   ],
   "source": [
    "fig, ax = plt.subplots(figsize=(8, 5))\n",
    "gcm['1985':'1995'].plot(ax=ax);\n",
    "ax.set_ylabel('Gross crush margin ($)')\n",
    "ax.set_title('The soybean crush spread (USDA estimates 1988)');"
   ]
  },
  {
   "cell_type": "markdown",
   "id": "44c9e6df",
   "metadata": {
    "papermill": {
     "duration": 0.029523,
     "end_time": "2022-06-25T09:59:12.345522",
     "exception": false,
     "start_time": "2022-06-25T09:59:12.315999",
     "status": "completed"
    },
    "tags": []
   },
   "source": [
    "The next chart shows a long-term perspective. As mentioned in Simon 1999, this spread does not necessarily represent a long-run equilibrium because the amount of mean and oil can vary depending on the growing condition."
   ]
  },
  {
   "cell_type": "code",
   "execution_count": 8,
   "id": "81c7ac2e",
   "metadata": {
    "execution": {
     "iopub.execute_input": "2022-06-25T09:59:12.412915Z",
     "iopub.status.busy": "2022-06-25T09:59:12.412730Z",
     "iopub.status.idle": "2022-06-25T09:59:12.632398Z",
     "shell.execute_reply": "2022-06-25T09:59:12.631937Z"
    },
    "papermill": {
     "duration": 0.257943,
     "end_time": "2022-06-25T09:59:12.633884",
     "exception": false,
     "start_time": "2022-06-25T09:59:12.375941",
     "status": "completed"
    },
    "tags": []
   },
   "outputs": [
    {
     "data": {
      "image/png": "[encoded data removed]",
      "text/plain": [
       "<Figure size 576x360 with 1 Axes>"
      ]
     },
     "metadata": {
      "needs_background": "light"
     },
     "output_type": "display_data"
    }
   ],
   "source": [
    "fig, ax = plt.subplots(figsize=(8, 5))\n",
    "gcm.plot(ax=ax);\n",
    "ax.set_ylabel('Gross crush margin ($)')\n",
    "ax.set_title('The soybean crush spread (USDA estimates 1988)');"
   ]
  },
  {
   "cell_type": "markdown",
   "id": "9133862a",
   "metadata": {
    "papermill": {
     "duration": 0.028533,
     "end_time": "2022-06-25T09:59:12.691240",
     "exception": false,
     "start_time": "2022-06-25T09:59:12.662707",
     "status": "completed"
    },
    "tags": []
   },
   "source": [
    "## Long-run equilibrium"
   ]
  },
  {
   "cell_type": "code",
   "execution_count": 9,
   "id": "ce4b1c17",
   "metadata": {
    "execution": {
     "iopub.execute_input": "2022-06-25T09:59:12.750973Z",
     "iopub.status.busy": "2022-06-25T09:59:12.750538Z",
     "iopub.status.idle": "2022-06-25T09:59:12.765648Z",
     "shell.execute_reply": "2022-06-25T09:59:12.765125Z"
    },
    "papermill": {
     "duration": 0.046959,
     "end_time": "2022-06-25T09:59:12.767302",
     "exception": false,
     "start_time": "2022-06-25T09:59:12.720343",
     "status": "completed"
    },
    "tags": []
   },
   "outputs": [],
   "source": [
    "price_concat = pd.concat((\n",
    "    soybean_meal_price,\n",
    "    soybean_oil_price,\n",
    "    soybean_price.div(100),\n",
    "), axis=1).fillna(method='pad').dropna()"
   ]
  },
  {
   "cell_type": "code",
   "execution_count": 10,
   "id": "c10e0981",
   "metadata": {
    "execution": {
     "iopub.execute_input": "2022-06-25T09:59:12.831919Z",
     "iopub.status.busy": "2022-06-25T09:59:12.831685Z",
     "iopub.status.idle": "2022-06-25T09:59:12.839512Z",
     "shell.execute_reply": "2022-06-25T09:59:12.839000Z"
    },
    "papermill": {
     "duration": 0.039344,
     "end_time": "2022-06-25T09:59:12.841148",
     "exception": false,
     "start_time": "2022-06-25T09:59:12.801804",
     "status": "completed"
    },
    "tags": []
   },
   "outputs": [],
   "source": [
    "month_dummies = pd.get_dummies(pd.Series(price_concat.index.month, index=price_concat.index))\n",
    "month_dummies = month_dummies.drop(12, axis=1).add_prefix('month_')\n",
    "trend = pd.Series(range(len(price_concat)), index=price_concat.index, name='trend')"
   ]
  },
  {
   "cell_type": "code",
   "execution_count": 11,
   "id": "67b33a3e",
   "metadata": {
    "execution": {
     "iopub.execute_input": "2022-06-25T09:59:12.900287Z",
     "iopub.status.busy": "2022-06-25T09:59:12.899828Z",
     "iopub.status.idle": "2022-06-25T09:59:12.904546Z",
     "shell.execute_reply": "2022-06-25T09:59:12.903964Z"
    },
    "papermill": {
     "duration": 0.036306,
     "end_time": "2022-06-25T09:59:12.906212",
     "exception": false,
     "start_time": "2022-06-25T09:59:12.869906",
     "status": "completed"
    },
    "tags": []
   },
   "outputs": [],
   "source": [
    "ols_data = pd.concat((price_concat, trend, month_dummies), axis=1)"
   ]
  },
  {
   "cell_type": "code",
   "execution_count": 12,
   "id": "ada1c057",
   "metadata": {
    "execution": {
     "iopub.execute_input": "2022-06-25T09:59:12.966897Z",
     "iopub.status.busy": "2022-06-25T09:59:12.966637Z",
     "iopub.status.idle": "2022-06-25T09:59:12.979364Z",
     "shell.execute_reply": "2022-06-25T09:59:12.978684Z"
    },
    "papermill": {
     "duration": 0.045766,
     "end_time": "2022-06-25T09:59:12.981214",
     "exception": false,
     "start_time": "2022-06-25T09:59:12.935448",
     "status": "completed"
    },
    "tags": []
   },
   "outputs": [],
   "source": [
    "ols_y = ols_data['S']\n",
    "ols_x = sm.add_constant(ols_data.drop('S', axis=1))"
   ]
  },
  {
   "cell_type": "code",
   "execution_count": 13,
   "id": "ece71592",
   "metadata": {
    "execution": {
     "iopub.execute_input": "2022-06-25T09:59:13.042616Z",
     "iopub.status.busy": "2022-06-25T09:59:13.042279Z",
     "iopub.status.idle": "2022-06-25T09:59:13.075325Z",
     "shell.execute_reply": "2022-06-25T09:59:13.074410Z"
    },
    "papermill": {
     "duration": 0.067074,
     "end_time": "2022-06-25T09:59:13.078092",
     "exception": false,
     "start_time": "2022-06-25T09:59:13.011018",
     "status": "completed"
    },
    "tags": []
   },
   "outputs": [],
   "source": [
    "ols_model = sm.OLS(ols_y.loc['1985':'1995-02'], \n",
    "                   ols_x.loc['1985':'1995-02'])\n",
    "ols_results = ols_model.fit()"
   ]
  },
  {
   "cell_type": "markdown",
   "id": "320530a0",
   "metadata": {
    "papermill": {
     "duration": 0.031774,
     "end_time": "2022-06-25T09:59:13.188772",
     "exception": false,
     "start_time": "2022-06-25T09:59:13.156998",
     "status": "completed"
    },
    "tags": []
   },
   "source": [
    "The result below is broadly in line with the table 2 in Simon 1999. There is a strong seasonality in this result where the crush spread tends to be lower in the growing season from February to June, while it tends to be higher in September to November. This can be attributed to the relative scarcity in soybeans during the growing season."
   ]
  },
  {
   "cell_type": "code",
   "execution_count": 14,
   "id": "e97b5238",
   "metadata": {
    "execution": {
     "iopub.execute_input": "2022-06-25T09:59:13.246972Z",
     "iopub.status.busy": "2022-06-25T09:59:13.246711Z",
     "iopub.status.idle": "2022-06-25T09:59:13.311251Z",
     "shell.execute_reply": "2022-06-25T09:59:13.310348Z"
    },
    "papermill": {
     "duration": 0.096591,
     "end_time": "2022-06-25T09:59:13.313643",
     "exception": false,
     "start_time": "2022-06-25T09:59:13.217052",
     "status": "completed"
    },
    "tags": []
   },
   "outputs": [
    {
     "data": {
      "text/html": [
       "<table class=\"simpletable\">\n",
       "<caption>OLS Regression Results</caption>\n",
       "<tr>\n",
       "  <th>Dep. Variable:</th>            <td>S</td>        <th>  R-squared:         </th> <td>   0.979</td>\n",
       "</tr>\n",
       "<tr>\n",
       "  <th>Model:</th>                   <td>OLS</td>       <th>  Adj. R-squared:    </th> <td>   0.979</td>\n",
       "</tr>\n",
       "<tr>\n",
       "  <th>Method:</th>             <td>Least Squares</td>  <th>  F-statistic:       </th> <td>   8532.</td>\n",
       "</tr>\n",
       "<tr>\n",
       "  <th>Date:</th>             <td>Sat, 25 Jun 2022</td> <th>  Prob (F-statistic):</th>  <td>  0.00</td> \n",
       "</tr>\n",
       "<tr>\n",
       "  <th>Time:</th>                 <td>09:59:13</td>     <th>  Log-Likelihood:    </th> <td>  1652.0</td>\n",
       "</tr>\n",
       "<tr>\n",
       "  <th>No. Observations:</th>      <td>  2565</td>      <th>  AIC:               </th> <td>  -3274.</td>\n",
       "</tr>\n",
       "<tr>\n",
       "  <th>Df Residuals:</th>          <td>  2550</td>      <th>  BIC:               </th> <td>  -3186.</td>\n",
       "</tr>\n",
       "<tr>\n",
       "  <th>Df Model:</th>              <td>    14</td>      <th>                     </th>     <td> </td>   \n",
       "</tr>\n",
       "<tr>\n",
       "  <th>Covariance Type:</th>      <td>nonrobust</td>    <th>                     </th>     <td> </td>   \n",
       "</tr>\n",
       "</table>\n",
       "<table class=\"simpletable\">\n",
       "<tr>\n",
       "      <td></td>        <th>coef</th>     <th>std err</th>      <th>t</th>      <th>P>|t|</th>  <th>[0.025</th>    <th>0.975]</th>  \n",
       "</tr>\n",
       "<tr>\n",
       "  <th>const</th>    <td>    1.6775</td> <td>    0.029</td> <td>   57.663</td> <td> 0.000</td> <td>    1.620</td> <td>    1.735</td>\n",
       "</tr>\n",
       "<tr>\n",
       "  <th>SM</th>       <td>    0.0234</td> <td> 8.33e-05</td> <td>  280.623</td> <td> 0.000</td> <td>    0.023</td> <td>    0.024</td>\n",
       "</tr>\n",
       "<tr>\n",
       "  <th>BO</th>       <td>    0.0846</td> <td>    0.001</td> <td>  124.095</td> <td> 0.000</td> <td>    0.083</td> <td>    0.086</td>\n",
       "</tr>\n",
       "<tr>\n",
       "  <th>trend</th>    <td>   -0.0002</td> <td> 3.68e-06</td> <td>  -63.417</td> <td> 0.000</td> <td>   -0.000</td> <td>   -0.000</td>\n",
       "</tr>\n",
       "<tr>\n",
       "  <th>month_1</th>  <td>    0.0688</td> <td>    0.012</td> <td>    5.669</td> <td> 0.000</td> <td>    0.045</td> <td>    0.093</td>\n",
       "</tr>\n",
       "<tr>\n",
       "  <th>month_2</th>  <td>    0.1370</td> <td>    0.012</td> <td>   11.009</td> <td> 0.000</td> <td>    0.113</td> <td>    0.161</td>\n",
       "</tr>\n",
       "<tr>\n",
       "  <th>month_3</th>  <td>    0.1575</td> <td>    0.012</td> <td>   12.759</td> <td> 0.000</td> <td>    0.133</td> <td>    0.182</td>\n",
       "</tr>\n",
       "<tr>\n",
       "  <th>month_4</th>  <td>    0.1787</td> <td>    0.013</td> <td>   14.246</td> <td> 0.000</td> <td>    0.154</td> <td>    0.203</td>\n",
       "</tr>\n",
       "<tr>\n",
       "  <th>month_5</th>  <td>    0.1826</td> <td>    0.012</td> <td>   14.647</td> <td> 0.000</td> <td>    0.158</td> <td>    0.207</td>\n",
       "</tr>\n",
       "<tr>\n",
       "  <th>month_6</th>  <td>    0.2198</td> <td>    0.012</td> <td>   17.709</td> <td> 0.000</td> <td>    0.195</td> <td>    0.244</td>\n",
       "</tr>\n",
       "<tr>\n",
       "  <th>month_7</th>  <td>    0.1815</td> <td>    0.012</td> <td>   14.629</td> <td> 0.000</td> <td>    0.157</td> <td>    0.206</td>\n",
       "</tr>\n",
       "<tr>\n",
       "  <th>month_8</th>  <td>    0.0923</td> <td>    0.012</td> <td>    7.520</td> <td> 0.000</td> <td>    0.068</td> <td>    0.116</td>\n",
       "</tr>\n",
       "<tr>\n",
       "  <th>month_9</th>  <td>   -0.0001</td> <td>    0.013</td> <td>   -0.011</td> <td> 0.991</td> <td>   -0.025</td> <td>    0.024</td>\n",
       "</tr>\n",
       "<tr>\n",
       "  <th>month_10</th> <td>   -0.0789</td> <td>    0.012</td> <td>   -6.408</td> <td> 0.000</td> <td>   -0.103</td> <td>   -0.055</td>\n",
       "</tr>\n",
       "<tr>\n",
       "  <th>month_11</th> <td>   -0.0618</td> <td>    0.013</td> <td>   -4.935</td> <td> 0.000</td> <td>   -0.086</td> <td>   -0.037</td>\n",
       "</tr>\n",
       "</table>\n",
       "<table class=\"simpletable\">\n",
       "<tr>\n",
       "  <th>Omnibus:</th>       <td>141.497</td> <th>  Durbin-Watson:     </th> <td>   0.122</td> \n",
       "</tr>\n",
       "<tr>\n",
       "  <th>Prob(Omnibus):</th> <td> 0.000</td>  <th>  Jarque-Bera (JB):  </th> <td> 551.206</td> \n",
       "</tr>\n",
       "<tr>\n",
       "  <th>Skew:</th>          <td> 0.060</td>  <th>  Prob(JB):          </th> <td>2.03e-120</td>\n",
       "</tr>\n",
       "<tr>\n",
       "  <th>Kurtosis:</th>      <td> 5.268</td>  <th>  Cond. No.          </th> <td>1.05e+05</td> \n",
       "</tr>\n",
       "</table><br/><br/>Notes:<br/>[1] Standard Errors assume that the covariance matrix of the errors is correctly specified.<br/>[2] The condition number is large, 1.05e+05. This might indicate that there are<br/>strong multicollinearity or other numerical problems."
      ],
      "text/plain": [
       "<class 'statsmodels.iolib.summary.Summary'>\n",
       "\"\"\"\n",
       "                            OLS Regression Results                            \n",
       "==============================================================================\n",
       "Dep. Variable:                      S   R-squared:                       0.979\n",
       "Model:                            OLS   Adj. R-squared:                  0.979\n",
       "Method:                 Least Squares   F-statistic:                     8532.\n",
       "Date:                Sat, 25 Jun 2022   Prob (F-statistic):               0.00\n",
       "Time:                        09:59:13   Log-Likelihood:                 1652.0\n",
       "No. Observations:                2565   AIC:                            -3274.\n",
       "Df Residuals:                    2550   BIC:                            -3186.\n",
       "Df Model:                          14                                         \n",
       "Covariance Type:            nonrobust                                         \n",
       "==============================================================================\n",
       "                 coef    std err          t      P>|t|      [0.025      0.975]\n",
       "------------------------------------------------------------------------------\n",
       "const          1.6775      0.029     57.663      0.000       1.620       1.735\n",
       "SM             0.0234   8.33e-05    280.623      0.000       0.023       0.024\n",
       "BO             0.0846      0.001    124.095      0.000       0.083       0.086\n",
       "trend         -0.0002   3.68e-06    -63.417      0.000      -0.000      -0.000\n",
       "month_1        0.0688      0.012      5.669      0.000       0.045       0.093\n",
       "month_2        0.1370      0.012     11.009      0.000       0.113       0.161\n",
       "month_3        0.1575      0.012     12.759      0.000       0.133       0.182\n",
       "month_4        0.1787      0.013     14.246      0.000       0.154       0.203\n",
       "month_5        0.1826      0.012     14.647      0.000       0.158       0.207\n",
       "month_6        0.2198      0.012     17.709      0.000       0.195       0.244\n",
       "month_7        0.1815      0.012     14.629      0.000       0.157       0.206\n",
       "month_8        0.0923      0.012      7.520      0.000       0.068       0.116\n",
       "month_9       -0.0001      0.013     -0.011      0.991      -0.025       0.024\n",
       "month_10      -0.0789      0.012     -6.408      0.000      -0.103      -0.055\n",
       "month_11      -0.0618      0.013     -4.935      0.000      -0.086      -0.037\n",
       "==============================================================================\n",
       "Omnibus:                      141.497   Durbin-Watson:                   0.122\n",
       "Prob(Omnibus):                  0.000   Jarque-Bera (JB):              551.206\n",
       "Skew:                           0.060   Prob(JB):                    2.03e-120\n",
       "Kurtosis:                       5.268   Cond. No.                     1.05e+05\n",
       "==============================================================================\n",
       "\n",
       "Notes:\n",
       "[1] Standard Errors assume that the covariance matrix of the errors is correctly specified.\n",
       "[2] The condition number is large, 1.05e+05. This might indicate that there are\n",
       "strong multicollinearity or other numerical problems.\n",
       "\"\"\""
      ]
     },
     "execution_count": 14,
     "metadata": {},
     "output_type": "execute_result"
    }
   ],
   "source": [
    "ols_results.summary()"
   ]
  },
  {
   "cell_type": "markdown",
   "id": "89d043d2",
   "metadata": {
    "papermill": {
     "duration": 0.040014,
     "end_time": "2022-06-25T09:59:13.398846",
     "exception": false,
     "start_time": "2022-06-25T09:59:13.358832",
     "status": "completed"
    },
    "tags": []
   },
   "source": [
    "For fun, let's run the same model but with more recent data of about the past 10 years."
   ]
  },
  {
   "cell_type": "code",
   "execution_count": 15,
   "id": "63de147a",
   "metadata": {
    "execution": {
     "iopub.execute_input": "2022-06-25T09:59:13.459515Z",
     "iopub.status.busy": "2022-06-25T09:59:13.459224Z",
     "iopub.status.idle": "2022-06-25T09:59:13.467645Z",
     "shell.execute_reply": "2022-06-25T09:59:13.466699Z"
    },
    "papermill": {
     "duration": 0.046261,
     "end_time": "2022-06-25T09:59:13.474931",
     "exception": false,
     "start_time": "2022-06-25T09:59:13.428670",
     "status": "completed"
    },
    "tags": []
   },
   "outputs": [],
   "source": [
    "ols_model = sm.OLS(ols_y.loc['2010':], \n",
    "                   ols_x.loc['2010':])\n",
    "ols_results = ols_model.fit()"
   ]
  },
  {
   "cell_type": "markdown",
   "id": "5918032a",
   "metadata": {
    "papermill": {
     "duration": 0.030205,
     "end_time": "2022-06-25T09:59:13.581079",
     "exception": false,
     "start_time": "2022-06-25T09:59:13.550874",
     "status": "completed"
    },
    "tags": []
   },
   "source": [
    "This suggests that there is still some seasonality but it became much weaker compared to the result above."
   ]
  },
  {
   "cell_type": "code",
   "execution_count": 16,
   "id": "e1418a5d",
   "metadata": {
    "execution": {
     "iopub.execute_input": "2022-06-25T09:59:13.642147Z",
     "iopub.status.busy": "2022-06-25T09:59:13.641881Z",
     "iopub.status.idle": "2022-06-25T09:59:13.712302Z",
     "shell.execute_reply": "2022-06-25T09:59:13.711606Z"
    },
    "papermill": {
     "duration": 0.103937,
     "end_time": "2022-06-25T09:59:13.714896",
     "exception": false,
     "start_time": "2022-06-25T09:59:13.610959",
     "status": "completed"
    },
    "tags": []
   },
   "outputs": [
    {
     "data": {
      "text/html": [
       "<table class=\"simpletable\">\n",
       "<caption>OLS Regression Results</caption>\n",
       "<tr>\n",
       "  <th>Dep. Variable:</th>            <td>S</td>        <th>  R-squared:         </th> <td>   0.986</td> \n",
       "</tr>\n",
       "<tr>\n",
       "  <th>Model:</th>                   <td>OLS</td>       <th>  Adj. R-squared:    </th> <td>   0.985</td> \n",
       "</tr>\n",
       "<tr>\n",
       "  <th>Method:</th>             <td>Least Squares</td>  <th>  F-statistic:       </th> <td>1.522e+04</td>\n",
       "</tr>\n",
       "<tr>\n",
       "  <th>Date:</th>             <td>Sat, 25 Jun 2022</td> <th>  Prob (F-statistic):</th>  <td>  0.00</td>  \n",
       "</tr>\n",
       "<tr>\n",
       "  <th>Time:</th>                 <td>09:59:13</td>     <th>  Log-Likelihood:    </th> <td> -604.48</td> \n",
       "</tr>\n",
       "<tr>\n",
       "  <th>No. Observations:</th>      <td>  3144</td>      <th>  AIC:               </th> <td>   1239.</td> \n",
       "</tr>\n",
       "<tr>\n",
       "  <th>Df Residuals:</th>          <td>  3129</td>      <th>  BIC:               </th> <td>   1330.</td> \n",
       "</tr>\n",
       "<tr>\n",
       "  <th>Df Model:</th>              <td>    14</td>      <th>                     </th>     <td> </td>    \n",
       "</tr>\n",
       "<tr>\n",
       "  <th>Covariance Type:</th>      <td>nonrobust</td>    <th>                     </th>     <td> </td>    \n",
       "</tr>\n",
       "</table>\n",
       "<table class=\"simpletable\">\n",
       "<tr>\n",
       "      <td></td>        <th>coef</th>     <th>std err</th>      <th>t</th>      <th>P>|t|</th>  <th>[0.025</th>    <th>0.975]</th>  \n",
       "</tr>\n",
       "<tr>\n",
       "  <th>const</th>    <td>    2.3396</td> <td>    0.093</td> <td>   25.186</td> <td> 0.000</td> <td>    2.157</td> <td>    2.522</td>\n",
       "</tr>\n",
       "<tr>\n",
       "  <th>SM</th>       <td>    0.0222</td> <td>    0.000</td> <td>  212.881</td> <td> 0.000</td> <td>    0.022</td> <td>    0.022</td>\n",
       "</tr>\n",
       "<tr>\n",
       "  <th>BO</th>       <td>    0.1115</td> <td>    0.001</td> <td>  221.352</td> <td> 0.000</td> <td>    0.111</td> <td>    0.113</td>\n",
       "</tr>\n",
       "<tr>\n",
       "  <th>trend</th>    <td>   -0.0002</td> <td> 5.81e-06</td> <td>  -40.214</td> <td> 0.000</td> <td>   -0.000</td> <td>   -0.000</td>\n",
       "</tr>\n",
       "<tr>\n",
       "  <th>month_1</th>  <td>    0.0284</td> <td>    0.026</td> <td>    1.098</td> <td> 0.272</td> <td>   -0.022</td> <td>    0.079</td>\n",
       "</tr>\n",
       "<tr>\n",
       "  <th>month_2</th>  <td>    0.0297</td> <td>    0.026</td> <td>    1.131</td> <td> 0.258</td> <td>   -0.022</td> <td>    0.081</td>\n",
       "</tr>\n",
       "<tr>\n",
       "  <th>month_3</th>  <td>    0.0325</td> <td>    0.025</td> <td>    1.282</td> <td> 0.200</td> <td>   -0.017</td> <td>    0.082</td>\n",
       "</tr>\n",
       "<tr>\n",
       "  <th>month_4</th>  <td>    0.0490</td> <td>    0.026</td> <td>    1.904</td> <td> 0.057</td> <td>   -0.001</td> <td>    0.100</td>\n",
       "</tr>\n",
       "<tr>\n",
       "  <th>month_5</th>  <td>    0.0019</td> <td>    0.026</td> <td>    0.074</td> <td> 0.941</td> <td>   -0.048</td> <td>    0.052</td>\n",
       "</tr>\n",
       "<tr>\n",
       "  <th>month_6</th>  <td>    0.0839</td> <td>    0.026</td> <td>    3.271</td> <td> 0.001</td> <td>    0.034</td> <td>    0.134</td>\n",
       "</tr>\n",
       "<tr>\n",
       "  <th>month_7</th>  <td>    0.0297</td> <td>    0.026</td> <td>    1.137</td> <td> 0.256</td> <td>   -0.022</td> <td>    0.081</td>\n",
       "</tr>\n",
       "<tr>\n",
       "  <th>month_8</th>  <td>   -0.0625</td> <td>    0.026</td> <td>   -2.421</td> <td> 0.016</td> <td>   -0.113</td> <td>   -0.012</td>\n",
       "</tr>\n",
       "<tr>\n",
       "  <th>month_9</th>  <td>    0.0514</td> <td>    0.026</td> <td>    1.950</td> <td> 0.051</td> <td>   -0.000</td> <td>    0.103</td>\n",
       "</tr>\n",
       "<tr>\n",
       "  <th>month_10</th> <td>   -0.0707</td> <td>    0.026</td> <td>   -2.739</td> <td> 0.006</td> <td>   -0.121</td> <td>   -0.020</td>\n",
       "</tr>\n",
       "<tr>\n",
       "  <th>month_11</th> <td>   -0.0582</td> <td>    0.026</td> <td>   -2.214</td> <td> 0.027</td> <td>   -0.110</td> <td>   -0.007</td>\n",
       "</tr>\n",
       "</table>\n",
       "<table class=\"simpletable\">\n",
       "<tr>\n",
       "  <th>Omnibus:</th>       <td>417.349</td> <th>  Durbin-Watson:     </th> <td>   0.042</td> \n",
       "</tr>\n",
       "<tr>\n",
       "  <th>Prob(Omnibus):</th> <td> 0.000</td>  <th>  Jarque-Bera (JB):  </th> <td> 613.871</td> \n",
       "</tr>\n",
       "<tr>\n",
       "  <th>Skew:</th>          <td>-0.974</td>  <th>  Prob(JB):          </th> <td>5.01e-134</td>\n",
       "</tr>\n",
       "<tr>\n",
       "  <th>Kurtosis:</th>      <td> 3.943</td>  <th>  Cond. No.          </th> <td>2.58e+05</td> \n",
       "</tr>\n",
       "</table><br/><br/>Notes:<br/>[1] Standard Errors assume that the covariance matrix of the errors is correctly specified.<br/>[2] The condition number is large, 2.58e+05. This might indicate that there are<br/>strong multicollinearity or other numerical problems."
      ],
      "text/plain": [
       "<class 'statsmodels.iolib.summary.Summary'>\n",
       "\"\"\"\n",
       "                            OLS Regression Results                            \n",
       "==============================================================================\n",
       "Dep. Variable:                      S   R-squared:                       0.986\n",
       "Model:                            OLS   Adj. R-squared:                  0.985\n",
       "Method:                 Least Squares   F-statistic:                 1.522e+04\n",
       "Date:                Sat, 25 Jun 2022   Prob (F-statistic):               0.00\n",
       "Time:                        09:59:13   Log-Likelihood:                -604.48\n",
       "No. Observations:                3144   AIC:                             1239.\n",
       "Df Residuals:                    3129   BIC:                             1330.\n",
       "Df Model:                          14                                         \n",
       "Covariance Type:            nonrobust                                         \n",
       "==============================================================================\n",
       "                 coef    std err          t      P>|t|      [0.025      0.975]\n",
       "------------------------------------------------------------------------------\n",
       "const          2.3396      0.093     25.186      0.000       2.157       2.522\n",
       "SM             0.0222      0.000    212.881      0.000       0.022       0.022\n",
       "BO             0.1115      0.001    221.352      0.000       0.111       0.113\n",
       "trend         -0.0002   5.81e-06    -40.214      0.000      -0.000      -0.000\n",
       "month_1        0.0284      0.026      1.098      0.272      -0.022       0.079\n",
       "month_2        0.0297      0.026      1.131      0.258      -0.022       0.081\n",
       "month_3        0.0325      0.025      1.282      0.200      -0.017       0.082\n",
       "month_4        0.0490      0.026      1.904      0.057      -0.001       0.100\n",
       "month_5        0.0019      0.026      0.074      0.941      -0.048       0.052\n",
       "month_6        0.0839      0.026      3.271      0.001       0.034       0.134\n",
       "month_7        0.0297      0.026      1.137      0.256      -0.022       0.081\n",
       "month_8       -0.0625      0.026     -2.421      0.016      -0.113      -0.012\n",
       "month_9        0.0514      0.026      1.950      0.051      -0.000       0.103\n",
       "month_10      -0.0707      0.026     -2.739      0.006      -0.121      -0.020\n",
       "month_11      -0.0582      0.026     -2.214      0.027      -0.110      -0.007\n",
       "==============================================================================\n",
       "Omnibus:                      417.349   Durbin-Watson:                   0.042\n",
       "Prob(Omnibus):                  0.000   Jarque-Bera (JB):              613.871\n",
       "Skew:                          -0.974   Prob(JB):                    5.01e-134\n",
       "Kurtosis:                       3.943   Cond. No.                     2.58e+05\n",
       "==============================================================================\n",
       "\n",
       "Notes:\n",
       "[1] Standard Errors assume that the covariance matrix of the errors is correctly specified.\n",
       "[2] The condition number is large, 2.58e+05. This might indicate that there are\n",
       "strong multicollinearity or other numerical problems.\n",
       "\"\"\""
      ]
     },
     "execution_count": 16,
     "metadata": {},
     "output_type": "execute_result"
    }
   ],
   "source": [
    "ols_results.summary()"
   ]
  },
  {
   "cell_type": "markdown",
   "id": "80e1848c",
   "metadata": {
    "papermill": {
     "duration": 0.028826,
     "end_time": "2022-06-25T09:59:13.779416",
     "exception": false,
     "start_time": "2022-06-25T09:59:13.750590",
     "status": "completed"
    },
    "tags": []
   },
   "source": [
    "# Trading strategy"
   ]
  },
  {
   "cell_type": "markdown",
   "id": "19fb7a4f",
   "metadata": {
    "papermill": {
     "duration": 0.028945,
     "end_time": "2022-06-25T09:59:13.837370",
     "exception": false,
     "start_time": "2022-06-25T09:59:13.808425",
     "status": "completed"
    },
    "tags": []
   },
   "source": [
    "## 1-1-1 crush spread\n",
    "\n",
    "As opposed to the one estimated by USDA, or the cointegratioin model estimated by the author, often in practice the crush spread is quoted and traded with 1-1-1 contract sizes. Simon 1999 uses the spread with 100 tons of meal, 60,000 pounds of oil and 5000 bushel of soybeans. \n",
    "\n",
    "Incidentally this weighting is roughly equal to the one listed on CME (https://www.cmegroup.com/education/courses/introduction-to-agriculture/grains-oilseeds/understanding-soybean-crush.html), which is the spread with 4,400 pounds (2.2 ton) of meal, 1,100 pounds of oil and 100 bushel of soybeans. "
   ]
  },
  {
   "cell_type": "code",
   "execution_count": 17,
   "id": "163dc4f1",
   "metadata": {
    "execution": {
     "iopub.execute_input": "2022-06-25T09:59:13.896950Z",
     "iopub.status.busy": "2022-06-25T09:59:13.896433Z",
     "iopub.status.idle": "2022-06-25T09:59:13.904753Z",
     "shell.execute_reply": "2022-06-25T09:59:13.904004Z"
    },
    "papermill": {
     "duration": 0.040085,
     "end_time": "2022-06-25T09:59:13.906504",
     "exception": false,
     "start_time": "2022-06-25T09:59:13.866419",
     "status": "completed"
    },
    "tags": []
   },
   "outputs": [],
   "source": [
    "crush_spread = (soybean_meal_price.squeeze().mul(100) + \n",
    "                soybean_oil_price.squeeze().mul(600) - \n",
    "                soybean_price.squeeze().mul(50))"
   ]
  },
  {
   "cell_type": "code",
   "execution_count": 18,
   "id": "36e718a8",
   "metadata": {
    "execution": {
     "iopub.execute_input": "2022-06-25T09:59:13.968576Z",
     "iopub.status.busy": "2022-06-25T09:59:13.968232Z",
     "iopub.status.idle": "2022-06-25T09:59:14.188820Z",
     "shell.execute_reply": "2022-06-25T09:59:14.188218Z"
    },
    "papermill": {
     "duration": 0.25359,
     "end_time": "2022-06-25T09:59:14.190518",
     "exception": false,
     "start_time": "2022-06-25T09:59:13.936928",
     "status": "completed"
    },
    "tags": []
   },
   "outputs": [
    {
     "data": {
      "image/png": "[encoded data removed]",
      "text/plain": [
       "<Figure size 576x360 with 1 Axes>"
      ]
     },
     "metadata": {
      "needs_background": "light"
     },
     "output_type": "display_data"
    }
   ],
   "source": [
    "fig, ax = plt.subplots(figsize=(8, 5))\n",
    "crush_spread.plot();\n",
    "ax.set_ylabel('Crush spread ($)')\n",
    "ax.set_title('1-1-1 soybean crush spread');"
   ]
  },
  {
   "cell_type": "markdown",
   "id": "a59106d1",
   "metadata": {
    "papermill": {
     "duration": 0.031577,
     "end_time": "2022-06-25T09:59:14.255391",
     "exception": false,
     "start_time": "2022-06-25T09:59:14.223814",
     "status": "completed"
    },
    "tags": []
   },
   "source": [
    "The spread appears mean-reverting around its 5-day moving average."
   ]
  },
  {
   "cell_type": "code",
   "execution_count": 19,
   "id": "e2740976",
   "metadata": {
    "execution": {
     "iopub.execute_input": "2022-06-25T09:59:14.321948Z",
     "iopub.status.busy": "2022-06-25T09:59:14.321714Z",
     "iopub.status.idle": "2022-06-25T09:59:14.529299Z",
     "shell.execute_reply": "2022-06-25T09:59:14.528761Z"
    },
    "papermill": {
     "duration": 0.245474,
     "end_time": "2022-06-25T09:59:14.530795",
     "exception": false,
     "start_time": "2022-06-25T09:59:14.285321",
     "status": "completed"
    },
    "tags": []
   },
   "outputs": [
    {
     "data": {
      "image/png": "[encoded data removed]",
      "text/plain": [
       "<Figure size 576x360 with 1 Axes>"
      ]
     },
     "metadata": {
      "needs_background": "light"
     },
     "output_type": "display_data"
    }
   ],
   "source": [
    "fig, ax = plt.subplots(figsize=(8, 5))\n",
    "(crush_spread - crush_spread.rolling(5).mean())['1985-01':'1995-02'].plot(ax=ax);\n",
    "ax.set_ylabel('Deviation from 5 day average')\n",
    "ax.set_title('Deviation from 5 day average (1-1-1 crush spread)');"
   ]
  },
  {
   "cell_type": "markdown",
   "id": "a97b79ea",
   "metadata": {
    "papermill": {
     "duration": 0.030925,
     "end_time": "2022-06-25T09:59:14.592608",
     "exception": false,
     "start_time": "2022-06-25T09:59:14.561683",
     "status": "completed"
    },
    "tags": []
   },
   "source": [
    "## Ref CME crush spread\n",
    "\n",
    "For reference, the crush spread defined by CME follows about the same trajectory."
   ]
  },
  {
   "cell_type": "code",
   "execution_count": 20,
   "id": "26501bf9",
   "metadata": {
    "execution": {
     "iopub.execute_input": "2022-06-25T09:59:14.656027Z",
     "iopub.status.busy": "2022-06-25T09:59:14.655599Z",
     "iopub.status.idle": "2022-06-25T09:59:14.661920Z",
     "shell.execute_reply": "2022-06-25T09:59:14.661424Z"
    },
    "papermill": {
     "duration": 0.040367,
     "end_time": "2022-06-25T09:59:14.663979",
     "exception": false,
     "start_time": "2022-06-25T09:59:14.623612",
     "status": "completed"
    },
    "tags": []
   },
   "outputs": [],
   "source": [
    "crush_spread_cme = (soybean_meal_price.squeeze().mul(2.2) + \n",
    "                    soybean_oil_price.squeeze().mul(11) - \n",
    "                    soybean_price.squeeze())"
   ]
  },
  {
   "cell_type": "code",
   "execution_count": 21,
   "id": "396db7c9",
   "metadata": {
    "execution": {
     "iopub.execute_input": "2022-06-25T09:59:14.725193Z",
     "iopub.status.busy": "2022-06-25T09:59:14.725002Z",
     "iopub.status.idle": "2022-06-25T09:59:14.936555Z",
     "shell.execute_reply": "2022-06-25T09:59:14.935987Z"
    },
    "papermill": {
     "duration": 0.243863,
     "end_time": "2022-06-25T09:59:14.938094",
     "exception": false,
     "start_time": "2022-06-25T09:59:14.694231",
     "status": "completed"
    },
    "tags": []
   },
   "outputs": [
    {
     "data": {
      "image/png": "[encoded data removed]",
      "text/plain": [
       "<Figure size 576x360 with 1 Axes>"
      ]
     },
     "metadata": {
      "needs_background": "light"
     },
     "output_type": "display_data"
    }
   ],
   "source": [
    "fig, ax = plt.subplots(figsize=(8, 5))\n",
    "crush_spread_cme.plot();\n",
    "ax.set_ylabel('Crush spread ($)')\n",
    "ax.set_title('Soybean crush spread (CME)');"
   ]
  },
  {
   "cell_type": "markdown",
   "id": "321f5ab3",
   "metadata": {
    "papermill": {
     "duration": 0.031258,
     "end_time": "2022-06-25T09:59:15.001032",
     "exception": false,
     "start_time": "2022-06-25T09:59:14.969774",
     "status": "completed"
    },
    "tags": []
   },
   "source": [
    "## Backtest\n",
    "\n",
    "In Simon 1999, the author mentions that the trading strategy is performed in-sample, which suggests that the long-run fair value model was fit with the entire data sample. Because of this, the strategy contains a look-ahead bias and **not a valid trading strategy**. A more appropriate simulation would be to use a walk-forward method such as rolling regression."
   ]
  },
  {
   "cell_type": "markdown",
   "id": "03a26d1a",
   "metadata": {
    "papermill": {
     "duration": 0.030812,
     "end_time": "2022-06-25T09:59:15.063192",
     "exception": false,
     "start_time": "2022-06-25T09:59:15.032380",
     "status": "completed"
    },
    "tags": []
   },
   "source": [
    "### Long-only without the fair value model"
   ]
  },
  {
   "cell_type": "markdown",
   "id": "599e3088",
   "metadata": {
    "papermill": {
     "duration": 0.03085,
     "end_time": "2022-06-25T09:59:15.124752",
     "exception": false,
     "start_time": "2022-06-25T09:59:15.093902",
     "status": "completed"
    },
    "tags": []
   },
   "source": [
    "One minor but important thing is that in `vivace`, usually futures returns are computed as if they are fully-collateralised. This means effectively, return $r_t$ is computed in the form of \n",
    "\n",
    "$$\n",
    "r_t = \\frac{F_t - F_{t-1}}{F_{t-1}}\n",
    "$$\n",
    "\n",
    "where $F_t$ is the futures price at time $t$.\n",
    "This is useful when we want to allocate say an equal amount of dollars across different instruments. However in this notebook, we want to decide the allocation based on the nunmber of  lots for each instrument. This is achieved by calculating returns as follows:\n",
    "\n",
    "$$\n",
    "r_t = \\frac{F_t - F_{t-1}}{c}\n",
    "$$\n",
    "\n",
    "where $c$ is the collateral amount. In the following, some arbitrary collateral of 10,000 is used. By doing this $r_t$ means the return relative to the collateral amount (10k).\n",
    "\n",
    "With this, let's run the backtest with only long-positions on crush spread are taken, without the fair value model."
   ]
  },
  {
   "cell_type": "code",
   "execution_count": 22,
   "id": "30f91a09",
   "metadata": {
    "execution": {
     "iopub.execute_input": "2022-06-25T09:59:15.190637Z",
     "iopub.status.busy": "2022-06-25T09:59:15.190032Z",
     "iopub.status.idle": "2022-06-25T09:59:15.195371Z",
     "shell.execute_reply": "2022-06-25T09:59:15.194762Z"
    },
    "papermill": {
     "duration": 0.039842,
     "end_time": "2022-06-25T09:59:15.197050",
     "exception": false,
     "start_time": "2022-06-25T09:59:15.157208",
     "status": "completed"
    },
    "tags": []
   },
   "outputs": [],
   "source": [
    "common_kwargs = dict(\n",
    "    start_date=datetime(1985, 1, 1),\n",
    "    end_date=datetime(1995, 2, 28),\n",
    "    strategy=Strategy.DELTA_ONE.value,\n",
    "    instrument=[\n",
    "        InstrumentDef('S', collateral=10000),\n",
    "        InstrumentDef('SM', collateral=10000),\n",
    "        InstrumentDef('BO', collateral=10000),\n",
    "    ],\n",
    "    weighting=Weighting.SUM.value,\n",
    "    log_level=logging.WARN,\n",
    ")"
   ]
  },
  {
   "cell_type": "code",
   "execution_count": 23,
   "id": "e260163e",
   "metadata": {
    "execution": {
     "iopub.execute_input": "2022-06-25T09:59:15.259451Z",
     "iopub.status.busy": "2022-06-25T09:59:15.259260Z",
     "iopub.status.idle": "2022-06-25T09:59:24.826845Z",
     "shell.execute_reply": "2022-06-25T09:59:24.826160Z"
    },
    "papermill": {
     "duration": 9.601603,
     "end_time": "2022-06-25T09:59:24.829136",
     "exception": false,
     "start_time": "2022-06-25T09:59:15.227533",
     "status": "completed"
    },
    "tags": []
   },
   "outputs": [],
   "source": [
    "engine = BacktestEngine(\n",
    "    signal=signal.CrushSpreadSimon1999InSample(\n",
    "        ma_lookback=5,\n",
    "        ma_entry=100,\n",
    "        ma_exit=100,\n",
    "        fair_value=False,\n",
    "        long_position=True,\n",
    "        short_position=False,\n",
    "    ),\n",
    "    **common_kwargs,\n",
    ")\n",
    "engine.run()"
   ]
  },
  {
   "cell_type": "code",
   "execution_count": 24,
   "id": "4d1d1b80",
   "metadata": {
    "execution": {
     "iopub.execute_input": "2022-06-25T09:59:24.906670Z",
     "iopub.status.busy": "2022-06-25T09:59:24.906166Z",
     "iopub.status.idle": "2022-06-25T09:59:26.809270Z",
     "shell.execute_reply": "2022-06-25T09:59:26.808722Z"
    },
    "papermill": {
     "duration": 1.936798,
     "end_time": "2022-06-25T09:59:26.811524",
     "exception": false,
     "start_time": "2022-06-25T09:59:24.874726",
     "status": "completed"
    },
    "tags": []
   },
   "outputs": [],
   "source": [
    "long_only_wo_fair_value = engine.calculate_equity_curve(calculate_net=False)"
   ]
  },
  {
   "cell_type": "markdown",
   "id": "323f2731",
   "metadata": {
    "papermill": {
     "duration": 0.030959,
     "end_time": "2022-06-25T09:59:26.884366",
     "exception": false,
     "start_time": "2022-06-25T09:59:26.853407",
     "status": "completed"
    },
    "tags": []
   },
   "source": [
    "With more strict entry rule."
   ]
  },
  {
   "cell_type": "code",
   "execution_count": 25,
   "id": "980dbab9",
   "metadata": {
    "execution": {
     "iopub.execute_input": "2022-06-25T09:59:26.948746Z",
     "iopub.status.busy": "2022-06-25T09:59:26.948325Z",
     "iopub.status.idle": "2022-06-25T09:59:36.018682Z",
     "shell.execute_reply": "2022-06-25T09:59:36.018076Z"
    },
    "papermill": {
     "duration": 9.104868,
     "end_time": "2022-06-25T09:59:36.020319",
     "exception": false,
     "start_time": "2022-06-25T09:59:26.915451",
     "status": "completed"
    },
    "tags": []
   },
   "outputs": [],
   "source": [
    "engine = BacktestEngine(\n",
    "    signal=signal.CrushSpreadSimon1999InSample(\n",
    "        ma_lookback=5,\n",
    "        ma_entry=300,\n",
    "        ma_exit=300,\n",
    "        fair_value=False,\n",
    "        long_position=True,\n",
    "        short_position=False,\n",
    "    ),\n",
    "    **common_kwargs,\n",
    ")\n",
    "engine.run()"
   ]
  },
  {
   "cell_type": "code",
   "execution_count": 26,
   "id": "06989ecf",
   "metadata": {
    "execution": {
     "iopub.execute_input": "2022-06-25T09:59:36.083321Z",
     "iopub.status.busy": "2022-06-25T09:59:36.082693Z",
     "iopub.status.idle": "2022-06-25T09:59:37.539142Z",
     "shell.execute_reply": "2022-06-25T09:59:37.538527Z"
    },
    "papermill": {
     "duration": 1.490328,
     "end_time": "2022-06-25T09:59:37.541515",
     "exception": false,
     "start_time": "2022-06-25T09:59:36.051187",
     "status": "completed"
    },
    "tags": []
   },
   "outputs": [],
   "source": [
    "long_only_wo_fair_value2 = engine.calculate_equity_curve(calculate_net=False)"
   ]
  },
  {
   "cell_type": "code",
   "execution_count": 27,
   "id": "f1c51431",
   "metadata": {
    "execution": {
     "iopub.execute_input": "2022-06-25T09:59:37.636933Z",
     "iopub.status.busy": "2022-06-25T09:59:37.636684Z",
     "iopub.status.idle": "2022-06-25T09:59:37.641853Z",
     "shell.execute_reply": "2022-06-25T09:59:37.641322Z"
    },
    "papermill": {
     "duration": 0.054747,
     "end_time": "2022-06-25T09:59:37.643887",
     "exception": false,
     "start_time": "2022-06-25T09:59:37.589140",
     "status": "completed"
    },
    "tags": []
   },
   "outputs": [],
   "source": [
    "levels1 = pd.concat((long_only_wo_fair_value.rename('LO: Entry threshold = $100'), \n",
    "                     long_only_wo_fair_value2.rename('LO: Entry threshold = $300')), axis=1)"
   ]
  },
  {
   "cell_type": "markdown",
   "id": "11a41c5a",
   "metadata": {
    "papermill": {
     "duration": 0.032577,
     "end_time": "2022-06-25T09:59:37.719829",
     "exception": false,
     "start_time": "2022-06-25T09:59:37.687252",
     "status": "completed"
    },
    "tags": []
   },
   "source": [
    "As reported, having more strict entry rule seems to improve the risk-adjusted returns."
   ]
  },
  {
   "cell_type": "code",
   "execution_count": 28,
   "id": "aa82b072",
   "metadata": {
    "execution": {
     "iopub.execute_input": "2022-06-25T09:59:37.784343Z",
     "iopub.status.busy": "2022-06-25T09:59:37.784119Z",
     "iopub.status.idle": "2022-06-25T09:59:38.364380Z",
     "shell.execute_reply": "2022-06-25T09:59:38.363738Z"
    },
    "papermill": {
     "duration": 0.614547,
     "end_time": "2022-06-25T09:59:38.365932",
     "exception": false,
     "start_time": "2022-06-25T09:59:37.751385",
     "status": "completed"
    },
    "tags": []
   },
   "outputs": [
    {
     "data": {
      "image/png": "[encoded data removed]",
      "text/plain": [
       "<Figure size 576x360 with 1 Axes>"
      ]
     },
     "metadata": {
      "needs_background": "light"
     },
     "output_type": "display_data"
    }
   ],
   "source": [
    "fig, ax = plt.subplots(figsize=(8, 5))\n",
    "levels1.plot(ax=ax, logy=True);\n",
    "ax.set_title('Crush spread mean-reversion\\n(Long-only, without fair value mode, Simon 1999)')\n",
    "ax.set_ylabel('Cumulative returns');"
   ]
  },
  {
   "cell_type": "code",
   "execution_count": 29,
   "id": "1dc15bb1",
   "metadata": {
    "execution": {
     "iopub.execute_input": "2022-06-25T09:59:38.435066Z",
     "iopub.status.busy": "2022-06-25T09:59:38.434523Z",
     "iopub.status.idle": "2022-06-25T09:59:38.478712Z",
     "shell.execute_reply": "2022-06-25T09:59:38.477920Z"
    },
    "papermill": {
     "duration": 0.078916,
     "end_time": "2022-06-25T09:59:38.480976",
     "exception": false,
     "start_time": "2022-06-25T09:59:38.402060",
     "status": "completed"
    },
    "tags": []
   },
   "outputs": [
    {
     "data": {
      "text/html": [
       "<div>\n",
       "<style scoped>\n",
       "    .dataframe tbody tr th:only-of-type {\n",
       "        vertical-align: middle;\n",
       "    }\n",
       "\n",
       "    .dataframe tbody tr th {\n",
       "        vertical-align: top;\n",
       "    }\n",
       "\n",
       "    .dataframe thead th {\n",
       "        text-align: right;\n",
       "    }\n",
       "</style>\n",
       "<table border=\"1\" class=\"dataframe\">\n",
       "  <thead>\n",
       "    <tr style=\"text-align: right;\">\n",
       "      <th></th>\n",
       "      <th>LO: Entry threshold = $100</th>\n",
       "      <th>LO: Entry threshold = $300</th>\n",
       "    </tr>\n",
       "  </thead>\n",
       "  <tbody>\n",
       "    <tr>\n",
       "      <th>CAGR</th>\n",
       "      <td>0.069739</td>\n",
       "      <td>0.072783</td>\n",
       "    </tr>\n",
       "    <tr>\n",
       "      <th>Annualised vol</th>\n",
       "      <td>0.199714</td>\n",
       "      <td>0.185037</td>\n",
       "    </tr>\n",
       "    <tr>\n",
       "      <th>Sharpe ratio</th>\n",
       "      <td>0.349191</td>\n",
       "      <td>0.393345</td>\n",
       "    </tr>\n",
       "    <tr>\n",
       "      <th>Max drawdown</th>\n",
       "      <td>0.450240</td>\n",
       "      <td>0.412393</td>\n",
       "    </tr>\n",
       "    <tr>\n",
       "      <th>Calmar ratio</th>\n",
       "      <td>0.154892</td>\n",
       "      <td>0.176491</td>\n",
       "    </tr>\n",
       "    <tr>\n",
       "      <th>Skewness</th>\n",
       "      <td>10.840016</td>\n",
       "      <td>10.190246</td>\n",
       "    </tr>\n",
       "    <tr>\n",
       "      <th>Kurtosis</th>\n",
       "      <td>319.000246</td>\n",
       "      <td>239.627881</td>\n",
       "    </tr>\n",
       "    <tr>\n",
       "      <th>Worst return</th>\n",
       "      <td>-0.084068</td>\n",
       "      <td>-0.080780</td>\n",
       "    </tr>\n",
       "    <tr>\n",
       "      <th>Worst 1d return</th>\n",
       "      <td>-0.084068</td>\n",
       "      <td>-0.080780</td>\n",
       "    </tr>\n",
       "    <tr>\n",
       "      <th>Worst 1w return</th>\n",
       "      <td>-0.115850</td>\n",
       "      <td>-0.111875</td>\n",
       "    </tr>\n",
       "    <tr>\n",
       "      <th>Worst 1m return</th>\n",
       "      <td>-0.120820</td>\n",
       "      <td>-0.119465</td>\n",
       "    </tr>\n",
       "  </tbody>\n",
       "</table>\n",
       "</div>"
      ],
      "text/plain": [
       "                 LO: Entry threshold = $100  LO: Entry threshold = $300\n",
       "CAGR                               0.069739                    0.072783\n",
       "Annualised vol                     0.199714                    0.185037\n",
       "Sharpe ratio                       0.349191                    0.393345\n",
       "Max drawdown                       0.450240                    0.412393\n",
       "Calmar ratio                       0.154892                    0.176491\n",
       "Skewness                          10.840016                   10.190246\n",
       "Kurtosis                         319.000246                  239.627881\n",
       "Worst return                      -0.084068                   -0.080780\n",
       "Worst 1d return                   -0.084068                   -0.080780\n",
       "Worst 1w return                   -0.115850                   -0.111875\n",
       "Worst 1m return                   -0.120820                   -0.119465"
      ]
     },
     "execution_count": 29,
     "metadata": {},
     "output_type": "execute_result"
    }
   ],
   "source": [
    "levels1.pipe(Performance).summary()"
   ]
  },
  {
   "cell_type": "markdown",
   "id": "3ba9196b",
   "metadata": {
    "papermill": {
     "duration": 0.048109,
     "end_time": "2022-06-25T09:59:38.577993",
     "exception": false,
     "start_time": "2022-06-25T09:59:38.529884",
     "status": "completed"
    },
    "tags": []
   },
   "source": [
    "### Long-only with the fair value model"
   ]
  },
  {
   "cell_type": "code",
   "execution_count": 30,
   "id": "da546299",
   "metadata": {
    "execution": {
     "iopub.execute_input": "2022-06-25T09:59:38.674365Z",
     "iopub.status.busy": "2022-06-25T09:59:38.674178Z",
     "iopub.status.idle": "2022-06-25T09:59:47.419782Z",
     "shell.execute_reply": "2022-06-25T09:59:47.419207Z"
    },
    "papermill": {
     "duration": 8.795842,
     "end_time": "2022-06-25T09:59:47.421458",
     "exception": false,
     "start_time": "2022-06-25T09:59:38.625616",
     "status": "completed"
    },
    "tags": []
   },
   "outputs": [],
   "source": [
    "engine = BacktestEngine(\n",
    "    signal=signal.CrushSpreadSimon1999InSample(\n",
    "        ma_lookback=5,\n",
    "        ma_entry=100,\n",
    "        ma_exit=100,\n",
    "        fair_value=True,\n",
    "        fair_value_entry=0,\n",
    "        long_position=True,\n",
    "        short_position=False,\n",
    "    ),\n",
    "    **common_kwargs,\n",
    ")\n",
    "engine.run()"
   ]
  },
  {
   "cell_type": "code",
   "execution_count": 31,
   "id": "94204706",
   "metadata": {
    "execution": {
     "iopub.execute_input": "2022-06-25T09:59:47.486932Z",
     "iopub.status.busy": "2022-06-25T09:59:47.486506Z",
     "iopub.status.idle": "2022-06-25T09:59:49.011537Z",
     "shell.execute_reply": "2022-06-25T09:59:49.010895Z"
    },
    "papermill": {
     "duration": 1.559898,
     "end_time": "2022-06-25T09:59:49.013769",
     "exception": false,
     "start_time": "2022-06-25T09:59:47.453871",
     "status": "completed"
    },
    "tags": []
   },
   "outputs": [],
   "source": [
    "long_only_with_fair_value = engine.calculate_equity_curve(calculate_net=False)"
   ]
  },
  {
   "cell_type": "code",
   "execution_count": 32,
   "id": "f8814547",
   "metadata": {
    "execution": {
     "iopub.execute_input": "2022-06-25T09:59:49.108689Z",
     "iopub.status.busy": "2022-06-25T09:59:49.108076Z",
     "iopub.status.idle": "2022-06-25T09:59:58.255928Z",
     "shell.execute_reply": "2022-06-25T09:59:58.255345Z"
    },
    "papermill": {
     "duration": 9.198587,
     "end_time": "2022-06-25T09:59:58.258241",
     "exception": false,
     "start_time": "2022-06-25T09:59:49.059654",
     "status": "completed"
    },
    "tags": []
   },
   "outputs": [],
   "source": [
    "engine = BacktestEngine(\n",
    "    signal=signal.CrushSpreadSimon1999InSample(\n",
    "        ma_lookback=5,\n",
    "        ma_entry=100,\n",
    "        ma_exit=100,\n",
    "        fair_value=True,\n",
    "        fair_value_entry=0.1,\n",
    "        long_position=True,\n",
    "        short_position=False,\n",
    "    ),\n",
    "    **common_kwargs,\n",
    ")\n",
    "engine.run()"
   ]
  },
  {
   "cell_type": "code",
   "execution_count": 33,
   "id": "e029ef0c",
   "metadata": {
    "execution": {
     "iopub.execute_input": "2022-06-25T09:59:58.355386Z",
     "iopub.status.busy": "2022-06-25T09:59:58.355082Z",
     "iopub.status.idle": "2022-06-25T09:59:59.858815Z",
     "shell.execute_reply": "2022-06-25T09:59:59.858224Z"
    },
    "papermill": {
     "duration": 1.554139,
     "end_time": "2022-06-25T09:59:59.860821",
     "exception": false,
     "start_time": "2022-06-25T09:59:58.306682",
     "status": "completed"
    },
    "tags": []
   },
   "outputs": [],
   "source": [
    "long_only_with_fair_value2 = engine.calculate_equity_curve(calculate_net=False)"
   ]
  },
  {
   "cell_type": "code",
   "execution_count": null,
   "id": "5269fdc6",
   "metadata": {
    "execution": {
     "iopub.execute_input": "2021-11-28T09:41:36.915434Z",
     "iopub.status.busy": "2021-11-28T09:41:36.915309Z",
     "iopub.status.idle": "2021-11-28T09:41:41.964035Z",
     "shell.execute_reply": "2021-11-28T09:41:41.963522Z",
     "shell.execute_reply.started": "2021-11-28T09:41:36.915417Z"
    },
    "papermill": {
     "duration": null,
     "end_time": null,
     "exception": false,
     "start_time": "2022-06-25T09:59:59.894298",
     "status": "running"
    },
    "tags": []
   },
   "outputs": [],
   "source": [
    "engine = BacktestEngine(\n",
    "    signal=signal.CrushSpreadSimon1999InSample(\n",
    "        ma_lookback=5,\n",
    "        ma_entry=100,\n",
    "        ma_exit=100,\n",
    "        fair_value=True,\n",
    "        fair_value_entry=0.2,\n",
    "        long_position=True,\n",
    "        short_position=False,\n",
    "    ),\n",
    "    **common_kwargs,\n",
    ")\n",
    "engine.run()"
   ]
  },
  {
   "cell_type": "code",
   "execution_count": null,
   "id": "70040923",
   "metadata": {
    "execution": {
     "iopub.execute_input": "2021-11-28T09:41:41.964708Z",
     "iopub.status.busy": "2021-11-28T09:41:41.964579Z",
     "iopub.status.idle": "2021-11-28T09:41:43.036372Z",
     "shell.execute_reply": "2021-11-28T09:41:43.035855Z",
     "shell.execute_reply.started": "2021-11-28T09:41:41.964692Z"
    },
    "papermill": {
     "duration": null,
     "end_time": null,
     "exception": null,
     "start_time": null,
     "status": "pending"
    },
    "tags": []
   },
   "outputs": [],
   "source": [
    "long_only_with_fair_value3 = engine.calculate_equity_curve(calculate_net=False)"
   ]
  },
  {
   "cell_type": "code",
   "execution_count": null,
   "id": "a3be2c20",
   "metadata": {
    "execution": {
     "iopub.execute_input": "2021-11-28T09:41:43.037110Z",
     "iopub.status.busy": "2021-11-28T09:41:43.036980Z",
     "iopub.status.idle": "2021-11-28T09:41:43.040536Z",
     "shell.execute_reply": "2021-11-28T09:41:43.040181Z",
     "shell.execute_reply.started": "2021-11-28T09:41:43.037093Z"
    },
    "papermill": {
     "duration": null,
     "end_time": null,
     "exception": null,
     "start_time": null,
     "status": "pending"
    },
    "tags": []
   },
   "outputs": [],
   "source": [
    "levels2 = pd.concat((long_only_with_fair_value.rename('LO: MA entry = $100, FV entry = 0.0'), \n",
    "                     long_only_with_fair_value2.rename('LO: MA entry = $100, FV entry = 0.1'),\n",
    "                     long_only_with_fair_value3.rename('LO: MA entry = $100, FV entry = 0.2'),), axis=1)"
   ]
  },
  {
   "cell_type": "markdown",
   "id": "6bb913ed",
   "metadata": {
    "papermill": {
     "duration": null,
     "end_time": null,
     "exception": null,
     "start_time": null,
     "status": "pending"
    },
    "tags": []
   },
   "source": [
    "The author tests the fair value threshold of 0.2, however in our analysis this appears to be too strict and the performance is mainly coming from the one-off event in 1988. This suggests that the strategy is sensitive to this parameter and needs to be chosen carefully."
   ]
  },
  {
   "cell_type": "code",
   "execution_count": null,
   "id": "8f229d16",
   "metadata": {
    "execution": {
     "iopub.execute_input": "2021-11-28T09:41:43.041183Z",
     "iopub.status.busy": "2021-11-28T09:41:43.041056Z",
     "iopub.status.idle": "2021-11-28T09:41:43.373785Z",
     "shell.execute_reply": "2021-11-28T09:41:43.373275Z",
     "shell.execute_reply.started": "2021-11-28T09:41:43.041168Z"
    },
    "papermill": {
     "duration": null,
     "end_time": null,
     "exception": null,
     "start_time": null,
     "status": "pending"
    },
    "tags": []
   },
   "outputs": [],
   "source": [
    "fig, ax = plt.subplots(figsize=(8, 5))\n",
    "levels2.plot(ax=ax, logy=True);\n",
    "ax.set_title('Crush spread mean-reversion\\n(Long-only, with fair value mode, Simon 1999)')\n",
    "ax.set_ylabel('Cumulative returns');"
   ]
  },
  {
   "cell_type": "code",
   "execution_count": null,
   "id": "98bc8b33",
   "metadata": {
    "execution": {
     "iopub.execute_input": "2021-11-28T09:41:43.374505Z",
     "iopub.status.busy": "2021-11-28T09:41:43.374372Z",
     "iopub.status.idle": "2021-11-28T09:41:43.404034Z",
     "shell.execute_reply": "2021-11-28T09:41:43.403603Z",
     "shell.execute_reply.started": "2021-11-28T09:41:43.374488Z"
    },
    "papermill": {
     "duration": null,
     "end_time": null,
     "exception": null,
     "start_time": null,
     "status": "pending"
    },
    "tags": []
   },
   "outputs": [],
   "source": [
    "levels2.pipe(Performance).summary()"
   ]
  },
  {
   "cell_type": "markdown",
   "id": "51ceac5e",
   "metadata": {
    "papermill": {
     "duration": null,
     "end_time": null,
     "exception": null,
     "start_time": null,
     "status": "pending"
    },
    "tags": []
   },
   "source": [
    "### Short-only without the fair value model\n",
    "\n",
    "Interestingly, the short-only strategy (short SM, BO and long S) shows better risk-adjusted performance during the same period."
   ]
  },
  {
   "cell_type": "code",
   "execution_count": null,
   "id": "3780cca2",
   "metadata": {
    "execution": {
     "iopub.execute_input": "2021-11-28T09:41:43.404791Z",
     "iopub.status.busy": "2021-11-28T09:41:43.404631Z",
     "iopub.status.idle": "2021-11-28T09:41:48.281969Z",
     "shell.execute_reply": "2021-11-28T09:41:48.281549Z",
     "shell.execute_reply.started": "2021-11-28T09:41:43.404768Z"
    },
    "papermill": {
     "duration": null,
     "end_time": null,
     "exception": null,
     "start_time": null,
     "status": "pending"
    },
    "tags": []
   },
   "outputs": [],
   "source": [
    "engine = BacktestEngine(\n",
    "    signal=signal.CrushSpreadSimon1999InSample(\n",
    "        ma_lookback=5,\n",
    "        ma_entry=100,\n",
    "        ma_exit=100,\n",
    "        fair_value=False,\n",
    "        long_position=False,\n",
    "        short_position=True,\n",
    "    ),\n",
    "    **common_kwargs,\n",
    ")\n",
    "engine.run()"
   ]
  },
  {
   "cell_type": "code",
   "execution_count": null,
   "id": "16a78383",
   "metadata": {
    "execution": {
     "iopub.execute_input": "2021-11-28T09:41:48.282570Z",
     "iopub.status.busy": "2021-11-28T09:41:48.282442Z",
     "iopub.status.idle": "2021-11-28T09:41:49.329733Z",
     "shell.execute_reply": "2021-11-28T09:41:49.329268Z",
     "shell.execute_reply.started": "2021-11-28T09:41:48.282553Z"
    },
    "papermill": {
     "duration": null,
     "end_time": null,
     "exception": null,
     "start_time": null,
     "status": "pending"
    },
    "tags": []
   },
   "outputs": [],
   "source": [
    "short_only_wo_fair_value = engine.calculate_equity_curve(calculate_net=False)"
   ]
  },
  {
   "cell_type": "code",
   "execution_count": null,
   "id": "8f591d81",
   "metadata": {
    "execution": {
     "iopub.execute_input": "2021-11-28T09:41:49.330451Z",
     "iopub.status.busy": "2021-11-28T09:41:49.330263Z",
     "iopub.status.idle": "2021-11-28T09:41:54.554042Z",
     "shell.execute_reply": "2021-11-28T09:41:54.553511Z",
     "shell.execute_reply.started": "2021-11-28T09:41:49.330434Z"
    },
    "papermill": {
     "duration": null,
     "end_time": null,
     "exception": null,
     "start_time": null,
     "status": "pending"
    },
    "tags": []
   },
   "outputs": [],
   "source": [
    "engine = BacktestEngine(\n",
    "    signal=signal.CrushSpreadSimon1999InSample(\n",
    "        ma_lookback=5,\n",
    "        ma_entry=300,\n",
    "        ma_exit=300,\n",
    "        fair_value=False,\n",
    "        long_position=False,\n",
    "        short_position=True,\n",
    "    ),\n",
    "    **common_kwargs,\n",
    ")\n",
    "engine.run()"
   ]
  },
  {
   "cell_type": "code",
   "execution_count": null,
   "id": "582d05d2",
   "metadata": {
    "execution": {
     "iopub.execute_input": "2021-11-28T09:41:54.554794Z",
     "iopub.status.busy": "2021-11-28T09:41:54.554662Z",
     "iopub.status.idle": "2021-11-28T09:41:55.547718Z",
     "shell.execute_reply": "2021-11-28T09:41:55.547208Z",
     "shell.execute_reply.started": "2021-11-28T09:41:54.554778Z"
    },
    "papermill": {
     "duration": null,
     "end_time": null,
     "exception": null,
     "start_time": null,
     "status": "pending"
    },
    "tags": []
   },
   "outputs": [],
   "source": [
    "short_only_wo_fair_value2 = engine.calculate_equity_curve(calculate_net=False)"
   ]
  },
  {
   "cell_type": "code",
   "execution_count": null,
   "id": "9ad5768a",
   "metadata": {
    "execution": {
     "iopub.execute_input": "2021-11-28T09:41:55.548449Z",
     "iopub.status.busy": "2021-11-28T09:41:55.548317Z",
     "iopub.status.idle": "2021-11-28T09:41:55.552028Z",
     "shell.execute_reply": "2021-11-28T09:41:55.551549Z",
     "shell.execute_reply.started": "2021-11-28T09:41:55.548432Z"
    },
    "papermill": {
     "duration": null,
     "end_time": null,
     "exception": null,
     "start_time": null,
     "status": "pending"
    },
    "tags": []
   },
   "outputs": [],
   "source": [
    "levels3 = pd.concat((short_only_wo_fair_value.rename('SO: Entry threshold = $100'), \n",
    "                     short_only_wo_fair_value2.rename('SO: Entry threshold = $300')), axis=1)"
   ]
  },
  {
   "cell_type": "code",
   "execution_count": null,
   "id": "5dff60cb",
   "metadata": {
    "execution": {
     "iopub.execute_input": "2021-11-28T09:41:55.552787Z",
     "iopub.status.busy": "2021-11-28T09:41:55.552650Z",
     "iopub.status.idle": "2021-11-28T09:41:55.854059Z",
     "shell.execute_reply": "2021-11-28T09:41:55.853563Z",
     "shell.execute_reply.started": "2021-11-28T09:41:55.552770Z"
    },
    "papermill": {
     "duration": null,
     "end_time": null,
     "exception": null,
     "start_time": null,
     "status": "pending"
    },
    "tags": []
   },
   "outputs": [],
   "source": [
    "fig, ax = plt.subplots(figsize=(8, 5))\n",
    "levels3.plot(ax=ax, logy=True);\n",
    "ax.set_title('Crush spread mean-reversion\\n(Short-only, without fair value mode, Simon 1999)')\n",
    "ax.set_ylabel('Cumulative returns');"
   ]
  },
  {
   "cell_type": "code",
   "execution_count": null,
   "id": "73545db4",
   "metadata": {
    "execution": {
     "iopub.execute_input": "2021-11-28T09:41:55.854805Z",
     "iopub.status.busy": "2021-11-28T09:41:55.854656Z",
     "iopub.status.idle": "2021-11-28T09:41:55.883446Z",
     "shell.execute_reply": "2021-11-28T09:41:55.882964Z",
     "shell.execute_reply.started": "2021-11-28T09:41:55.854788Z"
    },
    "papermill": {
     "duration": null,
     "end_time": null,
     "exception": null,
     "start_time": null,
     "status": "pending"
    },
    "tags": []
   },
   "outputs": [],
   "source": [
    "levels3.pipe(Performance).summary()"
   ]
  },
  {
   "cell_type": "markdown",
   "id": "64136d01",
   "metadata": {
    "papermill": {
     "duration": null,
     "end_time": null,
     "exception": null,
     "start_time": null,
     "status": "pending"
    },
    "tags": []
   },
   "source": [
    "### Short-only with the fair value model"
   ]
  },
  {
   "cell_type": "code",
   "execution_count": null,
   "id": "8e18dda3",
   "metadata": {
    "execution": {
     "iopub.execute_input": "2021-11-28T09:41:55.884219Z",
     "iopub.status.busy": "2021-11-28T09:41:55.884062Z",
     "iopub.status.idle": "2021-11-28T09:42:00.975818Z",
     "shell.execute_reply": "2021-11-28T09:42:00.975410Z",
     "shell.execute_reply.started": "2021-11-28T09:41:55.884202Z"
    },
    "papermill": {
     "duration": null,
     "end_time": null,
     "exception": null,
     "start_time": null,
     "status": "pending"
    },
    "tags": []
   },
   "outputs": [],
   "source": [
    "engine = BacktestEngine(\n",
    "    signal=signal.CrushSpreadSimon1999InSample(\n",
    "        ma_lookback=5,\n",
    "        ma_entry=100,\n",
    "        ma_exit=100,\n",
    "        fair_value=True,\n",
    "        fair_value_entry=0,\n",
    "        long_position=False,\n",
    "        short_position=True,\n",
    "    ),\n",
    "    **common_kwargs,\n",
    ")\n",
    "engine.run()"
   ]
  },
  {
   "cell_type": "code",
   "execution_count": null,
   "id": "021d7621",
   "metadata": {
    "execution": {
     "iopub.execute_input": "2021-11-28T09:42:00.976531Z",
     "iopub.status.busy": "2021-11-28T09:42:00.976362Z",
     "iopub.status.idle": "2021-11-28T09:42:01.872003Z",
     "shell.execute_reply": "2021-11-28T09:42:01.871547Z",
     "shell.execute_reply.started": "2021-11-28T09:42:00.976514Z"
    },
    "papermill": {
     "duration": null,
     "end_time": null,
     "exception": null,
     "start_time": null,
     "status": "pending"
    },
    "tags": []
   },
   "outputs": [],
   "source": [
    "short_only_with_fair_value = engine.calculate_equity_curve(calculate_net=False)"
   ]
  },
  {
   "cell_type": "code",
   "execution_count": null,
   "id": "098b9803",
   "metadata": {
    "execution": {
     "iopub.execute_input": "2021-11-28T09:42:01.872775Z",
     "iopub.status.busy": "2021-11-28T09:42:01.872642Z",
     "iopub.status.idle": "2021-11-28T09:42:07.281438Z",
     "shell.execute_reply": "2021-11-28T09:42:07.280930Z",
     "shell.execute_reply.started": "2021-11-28T09:42:01.872758Z"
    },
    "papermill": {
     "duration": null,
     "end_time": null,
     "exception": null,
     "start_time": null,
     "status": "pending"
    },
    "tags": []
   },
   "outputs": [],
   "source": [
    "engine = BacktestEngine(\n",
    "    signal=signal.CrushSpreadSimon1999InSample(\n",
    "        ma_lookback=5,\n",
    "        ma_entry=100,\n",
    "        ma_exit=100,\n",
    "        fair_value=True,\n",
    "        fair_value_entry=0.1,\n",
    "        long_position=False,\n",
    "        short_position=True,\n",
    "    ),\n",
    "    **common_kwargs,\n",
    ")\n",
    "engine.run()"
   ]
  },
  {
   "cell_type": "code",
   "execution_count": null,
   "id": "76b1bead",
   "metadata": {
    "execution": {
     "iopub.execute_input": "2021-11-28T09:42:07.282134Z",
     "iopub.status.busy": "2021-11-28T09:42:07.282005Z",
     "iopub.status.idle": "2021-11-28T09:42:08.271207Z",
     "shell.execute_reply": "2021-11-28T09:42:08.270674Z",
     "shell.execute_reply.started": "2021-11-28T09:42:07.282117Z"
    },
    "papermill": {
     "duration": null,
     "end_time": null,
     "exception": null,
     "start_time": null,
     "status": "pending"
    },
    "tags": []
   },
   "outputs": [],
   "source": [
    "short_only_with_fair_value2 = engine.calculate_equity_curve(calculate_net=False)"
   ]
  },
  {
   "cell_type": "code",
   "execution_count": null,
   "id": "7963ec98",
   "metadata": {
    "execution": {
     "iopub.execute_input": "2021-11-28T09:42:08.272000Z",
     "iopub.status.busy": "2021-11-28T09:42:08.271867Z",
     "iopub.status.idle": "2021-11-28T09:42:08.275216Z",
     "shell.execute_reply": "2021-11-28T09:42:08.274835Z",
     "shell.execute_reply.started": "2021-11-28T09:42:08.271983Z"
    },
    "papermill": {
     "duration": null,
     "end_time": null,
     "exception": null,
     "start_time": null,
     "status": "pending"
    },
    "tags": []
   },
   "outputs": [],
   "source": [
    "levels4 = pd.concat((short_only_with_fair_value.rename('SO: MA entry = $100, FV entry = 0.0'), \n",
    "                     short_only_with_fair_value2.rename('SO: MA entry = $100, FV entry = 0.1')), axis=1)"
   ]
  },
  {
   "cell_type": "code",
   "execution_count": null,
   "id": "b63c8e31",
   "metadata": {
    "execution": {
     "iopub.execute_input": "2021-11-28T09:42:08.275965Z",
     "iopub.status.busy": "2021-11-28T09:42:08.275831Z",
     "iopub.status.idle": "2021-11-28T09:42:08.562446Z",
     "shell.execute_reply": "2021-11-28T09:42:08.561933Z",
     "shell.execute_reply.started": "2021-11-28T09:42:08.275948Z"
    },
    "papermill": {
     "duration": null,
     "end_time": null,
     "exception": null,
     "start_time": null,
     "status": "pending"
    },
    "tags": []
   },
   "outputs": [],
   "source": [
    "fig, ax = plt.subplots(figsize=(8, 5))\n",
    "levels4.plot(ax=ax, logy=True);\n",
    "ax.set_title('Crush spread mean-reversion\\n(Short-only, with fair value mode, Simon 1999)')\n",
    "ax.set_ylabel('Cumulative returns');"
   ]
  },
  {
   "cell_type": "code",
   "execution_count": null,
   "id": "bcde7293",
   "metadata": {
    "execution": {
     "iopub.execute_input": "2021-11-28T09:42:08.563170Z",
     "iopub.status.busy": "2021-11-28T09:42:08.563038Z",
     "iopub.status.idle": "2021-11-28T09:42:08.591255Z",
     "shell.execute_reply": "2021-11-28T09:42:08.590788Z",
     "shell.execute_reply.started": "2021-11-28T09:42:08.563153Z"
    },
    "papermill": {
     "duration": null,
     "end_time": null,
     "exception": null,
     "start_time": null,
     "status": "pending"
    },
    "tags": []
   },
   "outputs": [],
   "source": [
    "levels4.pipe(Performance).summary()"
   ]
  },
  {
   "cell_type": "markdown",
   "id": "f0e11476",
   "metadata": {
    "papermill": {
     "duration": null,
     "end_time": null,
     "exception": null,
     "start_time": null,
     "status": "pending"
    },
    "tags": []
   },
   "source": [
    "## Long-term performance\n",
    "\n",
    "In this section, out-of-sample performance is calculated. To be consistent with the previous section, the fair value model is fit using data up to Feb-1995."
   ]
  },
  {
   "cell_type": "code",
   "execution_count": null,
   "id": "5a13bc80",
   "metadata": {
    "execution": {
     "iopub.execute_input": "2021-11-28T09:42:08.591926Z",
     "iopub.status.busy": "2021-11-28T09:42:08.591797Z",
     "iopub.status.idle": "2021-11-28T09:42:08.594793Z",
     "shell.execute_reply": "2021-11-28T09:42:08.594341Z",
     "shell.execute_reply.started": "2021-11-28T09:42:08.591909Z"
    },
    "papermill": {
     "duration": null,
     "end_time": null,
     "exception": null,
     "start_time": null,
     "status": "pending"
    },
    "tags": []
   },
   "outputs": [],
   "source": [
    "common_kwargs = dict(\n",
    "    start_date=datetime(1985, 1, 1),\n",
    "    strategy=Strategy.DELTA_ONE.value,\n",
    "    instrument=[\n",
    "        InstrumentDef('S', collateral=10000),\n",
    "        InstrumentDef('SM', collateral=10000),\n",
    "        InstrumentDef('BO', collateral=10000),\n",
    "    ],\n",
    "    weighting=Weighting.SUM.value,\n",
    "    log_level=logging.WARN,\n",
    ")"
   ]
  },
  {
   "cell_type": "markdown",
   "id": "8a11aab9",
   "metadata": {
    "papermill": {
     "duration": null,
     "end_time": null,
     "exception": null,
     "start_time": null,
     "status": "pending"
    },
    "tags": []
   },
   "source": [
    "### Long-only without the fair value model"
   ]
  },
  {
   "cell_type": "code",
   "execution_count": null,
   "id": "28a3b4d4",
   "metadata": {
    "execution": {
     "iopub.execute_input": "2021-11-28T09:42:08.595499Z",
     "iopub.status.busy": "2021-11-28T09:42:08.595364Z",
     "iopub.status.idle": "2021-11-28T09:42:29.491609Z",
     "shell.execute_reply": "2021-11-28T09:42:29.491204Z",
     "shell.execute_reply.started": "2021-11-28T09:42:08.595483Z"
    },
    "papermill": {
     "duration": null,
     "end_time": null,
     "exception": null,
     "start_time": null,
     "status": "pending"
    },
    "tags": []
   },
   "outputs": [],
   "source": [
    "engine = BacktestEngine(\n",
    "    signal=signal.CrushSpreadSimon1999InSample(\n",
    "        ma_lookback=5,\n",
    "        ma_entry=100,\n",
    "        ma_exit=100,\n",
    "        fair_value=False,\n",
    "        long_position=True,\n",
    "        short_position=False,\n",
    "    ),\n",
    "    **common_kwargs,\n",
    ")\n",
    "engine.run()"
   ]
  },
  {
   "cell_type": "code",
   "execution_count": null,
   "id": "6142a921",
   "metadata": {
    "execution": {
     "iopub.execute_input": "2021-11-28T09:42:29.492333Z",
     "iopub.status.busy": "2021-11-28T09:42:29.492169Z",
     "iopub.status.idle": "2021-11-28T09:42:34.557241Z",
     "shell.execute_reply": "2021-11-28T09:42:34.556677Z",
     "shell.execute_reply.started": "2021-11-28T09:42:29.492320Z"
    },
    "papermill": {
     "duration": null,
     "end_time": null,
     "exception": null,
     "start_time": null,
     "status": "pending"
    },
    "tags": []
   },
   "outputs": [],
   "source": [
    "long_only_wo_fair_value = engine.calculate_equity_curve(calculate_net=False)"
   ]
  },
  {
   "cell_type": "code",
   "execution_count": null,
   "id": "f56df3d8",
   "metadata": {
    "execution": {
     "iopub.execute_input": "2021-11-28T09:42:34.558001Z",
     "iopub.status.busy": "2021-11-28T09:42:34.557859Z",
     "iopub.status.idle": "2021-11-28T09:42:56.563793Z",
     "shell.execute_reply": "2021-11-28T09:42:56.563374Z",
     "shell.execute_reply.started": "2021-11-28T09:42:34.557985Z"
    },
    "papermill": {
     "duration": null,
     "end_time": null,
     "exception": null,
     "start_time": null,
     "status": "pending"
    },
    "tags": []
   },
   "outputs": [],
   "source": [
    "engine = BacktestEngine(\n",
    "    signal=signal.CrushSpreadSimon1999InSample(\n",
    "        ma_lookback=5,\n",
    "        ma_entry=300,\n",
    "        ma_exit=300,\n",
    "        fair_value=False,\n",
    "        long_position=True,\n",
    "        short_position=False,\n",
    "    ),\n",
    "    **common_kwargs,\n",
    ")\n",
    "engine.run()"
   ]
  },
  {
   "cell_type": "code",
   "execution_count": null,
   "id": "6a746d15",
   "metadata": {
    "execution": {
     "iopub.execute_input": "2021-11-28T09:42:56.564561Z",
     "iopub.status.busy": "2021-11-28T09:42:56.564420Z",
     "iopub.status.idle": "2021-11-28T09:43:01.696229Z",
     "shell.execute_reply": "2021-11-28T09:43:01.695753Z",
     "shell.execute_reply.started": "2021-11-28T09:42:56.564543Z"
    },
    "papermill": {
     "duration": null,
     "end_time": null,
     "exception": null,
     "start_time": null,
     "status": "pending"
    },
    "tags": []
   },
   "outputs": [],
   "source": [
    "long_only_wo_fair_value2 = engine.calculate_equity_curve(calculate_net=False)"
   ]
  },
  {
   "cell_type": "code",
   "execution_count": null,
   "id": "d808bcdf",
   "metadata": {
    "execution": {
     "iopub.execute_input": "2021-11-28T09:43:01.696949Z",
     "iopub.status.busy": "2021-11-28T09:43:01.696818Z",
     "iopub.status.idle": "2021-11-28T09:43:01.700455Z",
     "shell.execute_reply": "2021-11-28T09:43:01.700009Z",
     "shell.execute_reply.started": "2021-11-28T09:43:01.696932Z"
    },
    "papermill": {
     "duration": null,
     "end_time": null,
     "exception": null,
     "start_time": null,
     "status": "pending"
    },
    "tags": []
   },
   "outputs": [],
   "source": [
    "levels1 = pd.concat((long_only_wo_fair_value.rename('LO: Entry threshold = $100'), \n",
    "                     long_only_wo_fair_value2.rename('LO: Entry threshold = $300')), axis=1)"
   ]
  },
  {
   "cell_type": "code",
   "execution_count": null,
   "id": "9a30ca0f",
   "metadata": {
    "execution": {
     "iopub.execute_input": "2021-11-28T09:43:01.701218Z",
     "iopub.status.busy": "2021-11-28T09:43:01.701085Z",
     "iopub.status.idle": "2021-11-28T09:43:02.067207Z",
     "shell.execute_reply": "2021-11-28T09:43:02.066705Z",
     "shell.execute_reply.started": "2021-11-28T09:43:01.701201Z"
    },
    "papermill": {
     "duration": null,
     "end_time": null,
     "exception": null,
     "start_time": null,
     "status": "pending"
    },
    "tags": []
   },
   "outputs": [],
   "source": [
    "fig, ax = plt.subplots(figsize=(8, 5))\n",
    "levels1.plot(ax=ax, logy=True);\n",
    "ax.set_title('Crush spread mean-reversion\\n(Long-only, without fair value mode, Simon 1999)')\n",
    "ax.set_ylabel('Cumulative returns');"
   ]
  },
  {
   "cell_type": "code",
   "execution_count": null,
   "id": "4c2af8a6",
   "metadata": {
    "execution": {
     "iopub.execute_input": "2021-11-28T09:43:02.067979Z",
     "iopub.status.busy": "2021-11-28T09:43:02.067845Z",
     "iopub.status.idle": "2021-11-28T09:43:02.114424Z",
     "shell.execute_reply": "2021-11-28T09:43:02.113907Z",
     "shell.execute_reply.started": "2021-11-28T09:43:02.067962Z"
    },
    "papermill": {
     "duration": null,
     "end_time": null,
     "exception": null,
     "start_time": null,
     "status": "pending"
    },
    "tags": []
   },
   "outputs": [],
   "source": [
    "levels1.pipe(Performance).summary()"
   ]
  },
  {
   "cell_type": "markdown",
   "id": "adcaaf50",
   "metadata": {
    "papermill": {
     "duration": null,
     "end_time": null,
     "exception": null,
     "start_time": null,
     "status": "pending"
    },
    "tags": []
   },
   "source": [
    "### Long-only with the fair value model"
   ]
  },
  {
   "cell_type": "code",
   "execution_count": null,
   "id": "47edb3e9",
   "metadata": {
    "execution": {
     "iopub.execute_input": "2021-11-28T09:43:02.115149Z",
     "iopub.status.busy": "2021-11-28T09:43:02.115016Z",
     "iopub.status.idle": "2021-11-28T09:43:23.539380Z",
     "shell.execute_reply": "2021-11-28T09:43:23.538866Z",
     "shell.execute_reply.started": "2021-11-28T09:43:02.115132Z"
    },
    "papermill": {
     "duration": null,
     "end_time": null,
     "exception": null,
     "start_time": null,
     "status": "pending"
    },
    "tags": []
   },
   "outputs": [],
   "source": [
    "engine = BacktestEngine(\n",
    "    signal=signal.CrushSpreadSimon1999InSample(\n",
    "        ma_lookback=5,\n",
    "        ma_entry=100,\n",
    "        ma_exit=100,\n",
    "        fair_value=True,\n",
    "        fair_value_entry=0,\n",
    "        fair_value_end_date=datetime(1995, 2, 28),\n",
    "        long_position=True,\n",
    "        short_position=False,\n",
    "    ),\n",
    "    **common_kwargs,\n",
    ")\n",
    "engine.run()"
   ]
  },
  {
   "cell_type": "code",
   "execution_count": null,
   "id": "cead0056",
   "metadata": {
    "execution": {
     "iopub.execute_input": "2021-11-28T09:43:23.540138Z",
     "iopub.status.busy": "2021-11-28T09:43:23.539990Z",
     "iopub.status.idle": "2021-11-28T09:43:28.228648Z",
     "shell.execute_reply": "2021-11-28T09:43:28.228236Z",
     "shell.execute_reply.started": "2021-11-28T09:43:23.540120Z"
    },
    "papermill": {
     "duration": null,
     "end_time": null,
     "exception": null,
     "start_time": null,
     "status": "pending"
    },
    "tags": []
   },
   "outputs": [],
   "source": [
    "long_only_with_fair_value = engine.calculate_equity_curve(calculate_net=False)"
   ]
  },
  {
   "cell_type": "code",
   "execution_count": null,
   "id": "abe3f72c",
   "metadata": {
    "execution": {
     "iopub.execute_input": "2021-11-28T09:43:28.229182Z",
     "iopub.status.busy": "2021-11-28T09:43:28.229087Z",
     "iopub.status.idle": "2021-11-28T09:43:49.905763Z",
     "shell.execute_reply": "2021-11-28T09:43:49.905358Z",
     "shell.execute_reply.started": "2021-11-28T09:43:28.229170Z"
    },
    "papermill": {
     "duration": null,
     "end_time": null,
     "exception": null,
     "start_time": null,
     "status": "pending"
    },
    "tags": []
   },
   "outputs": [],
   "source": [
    "engine = BacktestEngine(\n",
    "    signal=signal.CrushSpreadSimon1999InSample(\n",
    "        ma_lookback=5,\n",
    "        ma_entry=100,\n",
    "        ma_exit=100,\n",
    "        fair_value=True,\n",
    "        fair_value_entry=0.1,\n",
    "        fair_value_end_date=datetime(1995, 2, 28),\n",
    "        long_position=True,\n",
    "        short_position=False,\n",
    "    ),\n",
    "    **common_kwargs,\n",
    ")\n",
    "engine.run()"
   ]
  },
  {
   "cell_type": "code",
   "execution_count": null,
   "id": "38d7df4c",
   "metadata": {
    "execution": {
     "iopub.execute_input": "2021-11-28T09:43:49.906325Z",
     "iopub.status.busy": "2021-11-28T09:43:49.906205Z",
     "iopub.status.idle": "2021-11-28T09:43:55.080569Z",
     "shell.execute_reply": "2021-11-28T09:43:55.080007Z",
     "shell.execute_reply.started": "2021-11-28T09:43:49.906287Z"
    },
    "papermill": {
     "duration": null,
     "end_time": null,
     "exception": null,
     "start_time": null,
     "status": "pending"
    },
    "tags": []
   },
   "outputs": [],
   "source": [
    "long_only_with_fair_value2 = engine.calculate_equity_curve(calculate_net=False)"
   ]
  },
  {
   "cell_type": "code",
   "execution_count": null,
   "id": "7b26370e",
   "metadata": {
    "execution": {
     "iopub.execute_input": "2021-11-28T09:43:55.081342Z",
     "iopub.status.busy": "2021-11-28T09:43:55.081213Z",
     "iopub.status.idle": "2021-11-28T09:43:55.084837Z",
     "shell.execute_reply": "2021-11-28T09:43:55.084344Z",
     "shell.execute_reply.started": "2021-11-28T09:43:55.081325Z"
    },
    "papermill": {
     "duration": null,
     "end_time": null,
     "exception": null,
     "start_time": null,
     "status": "pending"
    },
    "tags": []
   },
   "outputs": [],
   "source": [
    "levels2 = pd.concat((long_only_with_fair_value.rename('LO: MA entry = $100, FV entry = 0.0'), \n",
    "                     long_only_with_fair_value2.rename('LO: MA entry = $100, FV entry = 0.1')), axis=1)"
   ]
  },
  {
   "cell_type": "code",
   "execution_count": null,
   "id": "27b66b95",
   "metadata": {
    "execution": {
     "iopub.execute_input": "2021-11-28T09:43:55.085564Z",
     "iopub.status.busy": "2021-11-28T09:43:55.085433Z",
     "iopub.status.idle": "2021-11-28T09:43:55.477425Z",
     "shell.execute_reply": "2021-11-28T09:43:55.476909Z",
     "shell.execute_reply.started": "2021-11-28T09:43:55.085547Z"
    },
    "papermill": {
     "duration": null,
     "end_time": null,
     "exception": null,
     "start_time": null,
     "status": "pending"
    },
    "tags": []
   },
   "outputs": [],
   "source": [
    "fig, ax = plt.subplots(figsize=(8, 5))\n",
    "levels2.plot(ax=ax, logy=True);\n",
    "ax.set_title('Crush spread mean-reversion\\n(Long-only, with fair value mode, Simon 1999)')\n",
    "ax.set_ylabel('Cumulative returns');"
   ]
  },
  {
   "cell_type": "code",
   "execution_count": null,
   "id": "e9275301",
   "metadata": {
    "execution": {
     "iopub.execute_input": "2021-11-28T09:43:55.478167Z",
     "iopub.status.busy": "2021-11-28T09:43:55.478017Z",
     "iopub.status.idle": "2021-11-28T09:43:55.525314Z",
     "shell.execute_reply": "2021-11-28T09:43:55.524946Z",
     "shell.execute_reply.started": "2021-11-28T09:43:55.478150Z"
    },
    "papermill": {
     "duration": null,
     "end_time": null,
     "exception": null,
     "start_time": null,
     "status": "pending"
    },
    "tags": []
   },
   "outputs": [],
   "source": [
    "levels2.pipe(Performance).summary()"
   ]
  },
  {
   "cell_type": "markdown",
   "id": "0561649e",
   "metadata": {
    "papermill": {
     "duration": null,
     "end_time": null,
     "exception": null,
     "start_time": null,
     "status": "pending"
    },
    "tags": []
   },
   "source": [
    "### Short-only without the fair value model"
   ]
  },
  {
   "cell_type": "code",
   "execution_count": null,
   "id": "14404a07",
   "metadata": {
    "execution": {
     "iopub.execute_input": "2021-11-28T09:43:55.528613Z",
     "iopub.status.busy": "2021-11-28T09:43:55.528464Z",
     "iopub.status.idle": "2021-11-28T09:44:16.928754Z",
     "shell.execute_reply": "2021-11-28T09:44:16.928340Z",
     "shell.execute_reply.started": "2021-11-28T09:43:55.528595Z"
    },
    "papermill": {
     "duration": null,
     "end_time": null,
     "exception": null,
     "start_time": null,
     "status": "pending"
    },
    "tags": []
   },
   "outputs": [],
   "source": [
    "engine = BacktestEngine(\n",
    "    signal=signal.CrushSpreadSimon1999InSample(\n",
    "        ma_lookback=5,\n",
    "        ma_entry=100,\n",
    "        ma_exit=100,\n",
    "        fair_value=False,\n",
    "        long_position=False,\n",
    "        short_position=True,\n",
    "    ),\n",
    "    **common_kwargs,\n",
    ")\n",
    "engine.run()"
   ]
  },
  {
   "cell_type": "code",
   "execution_count": null,
   "id": "750d8158",
   "metadata": {
    "execution": {
     "iopub.execute_input": "2021-11-28T09:44:16.929484Z",
     "iopub.status.busy": "2021-11-28T09:44:16.929367Z",
     "iopub.status.idle": "2021-11-28T09:44:22.482476Z",
     "shell.execute_reply": "2021-11-28T09:44:22.482012Z",
     "shell.execute_reply.started": "2021-11-28T09:44:16.929467Z"
    },
    "papermill": {
     "duration": null,
     "end_time": null,
     "exception": null,
     "start_time": null,
     "status": "pending"
    },
    "tags": []
   },
   "outputs": [],
   "source": [
    "short_only_wo_fair_value = engine.calculate_equity_curve(calculate_net=False)"
   ]
  },
  {
   "cell_type": "code",
   "execution_count": null,
   "id": "c3025761",
   "metadata": {
    "execution": {
     "iopub.execute_input": "2021-11-28T09:44:22.483143Z",
     "iopub.status.busy": "2021-11-28T09:44:22.483022Z",
     "iopub.status.idle": "2021-11-28T09:44:43.422818Z",
     "shell.execute_reply": "2021-11-28T09:44:43.422286Z",
     "shell.execute_reply.started": "2021-11-28T09:44:22.483127Z"
    },
    "papermill": {
     "duration": null,
     "end_time": null,
     "exception": null,
     "start_time": null,
     "status": "pending"
    },
    "tags": []
   },
   "outputs": [],
   "source": [
    "engine = BacktestEngine(\n",
    "    signal=signal.CrushSpreadSimon1999InSample(\n",
    "        ma_lookback=5,\n",
    "        ma_entry=300,\n",
    "        ma_exit=300,\n",
    "        fair_value=False,\n",
    "        long_position=False,\n",
    "        short_position=True,\n",
    "    ),\n",
    "    **common_kwargs,\n",
    ")\n",
    "engine.run()"
   ]
  },
  {
   "cell_type": "code",
   "execution_count": null,
   "id": "ec801c1b",
   "metadata": {
    "execution": {
     "iopub.execute_input": "2021-11-28T09:44:43.423522Z",
     "iopub.status.busy": "2021-11-28T09:44:43.423391Z",
     "iopub.status.idle": "2021-11-28T09:44:48.414670Z",
     "shell.execute_reply": "2021-11-28T09:44:48.414317Z",
     "shell.execute_reply.started": "2021-11-28T09:44:43.423506Z"
    },
    "papermill": {
     "duration": null,
     "end_time": null,
     "exception": null,
     "start_time": null,
     "status": "pending"
    },
    "tags": []
   },
   "outputs": [],
   "source": [
    "short_only_wo_fair_value2 = engine.calculate_equity_curve(calculate_net=False)"
   ]
  },
  {
   "cell_type": "code",
   "execution_count": null,
   "id": "6b1e72ed",
   "metadata": {
    "execution": {
     "iopub.execute_input": "2021-11-28T09:44:48.415296Z",
     "iopub.status.busy": "2021-11-28T09:44:48.415149Z",
     "iopub.status.idle": "2021-11-28T09:44:48.418960Z",
     "shell.execute_reply": "2021-11-28T09:44:48.418593Z",
     "shell.execute_reply.started": "2021-11-28T09:44:48.415268Z"
    },
    "papermill": {
     "duration": null,
     "end_time": null,
     "exception": null,
     "start_time": null,
     "status": "pending"
    },
    "tags": []
   },
   "outputs": [],
   "source": [
    "levels3 = pd.concat((short_only_wo_fair_value.rename('SO: Entry threshold = $100'), \n",
    "                     short_only_wo_fair_value2.rename('SO: Entry threshold = $300')), axis=1)"
   ]
  },
  {
   "cell_type": "markdown",
   "id": "3979f033",
   "metadata": {
    "papermill": {
     "duration": null,
     "end_time": null,
     "exception": null,
     "start_time": null,
     "status": "pending"
    },
    "tags": []
   },
   "source": [
    "Again, interestingly, short-only strategy performed well in the out-of-sample period. However it started to underperform since around 2013."
   ]
  },
  {
   "cell_type": "code",
   "execution_count": null,
   "id": "6f4ca6f7",
   "metadata": {
    "execution": {
     "iopub.execute_input": "2021-11-28T09:44:48.419671Z",
     "iopub.status.busy": "2021-11-28T09:44:48.419536Z",
     "iopub.status.idle": "2021-11-28T09:44:48.760854Z",
     "shell.execute_reply": "2021-11-28T09:44:48.760411Z",
     "shell.execute_reply.started": "2021-11-28T09:44:48.419654Z"
    },
    "papermill": {
     "duration": null,
     "end_time": null,
     "exception": null,
     "start_time": null,
     "status": "pending"
    },
    "tags": []
   },
   "outputs": [],
   "source": [
    "fig, ax = plt.subplots(figsize=(8, 5))\n",
    "levels3.plot(ax=ax, logy=True);\n",
    "ax.set_title('Crush spread mean-reversion\\n(Short-only, without fair value mode, Simon 1999)')\n",
    "ax.set_ylabel('Cumulative returns');"
   ]
  },
  {
   "cell_type": "code",
   "execution_count": null,
   "id": "08669996",
   "metadata": {
    "execution": {
     "iopub.execute_input": "2021-11-28T09:44:48.761622Z",
     "iopub.status.busy": "2021-11-28T09:44:48.761488Z",
     "iopub.status.idle": "2021-11-28T09:44:48.810946Z",
     "shell.execute_reply": "2021-11-28T09:44:48.810499Z",
     "shell.execute_reply.started": "2021-11-28T09:44:48.761606Z"
    },
    "papermill": {
     "duration": null,
     "end_time": null,
     "exception": null,
     "start_time": null,
     "status": "pending"
    },
    "tags": []
   },
   "outputs": [],
   "source": [
    "levels3.pipe(Performance).summary()"
   ]
  },
  {
   "cell_type": "markdown",
   "id": "5eba22a4",
   "metadata": {
    "papermill": {
     "duration": null,
     "end_time": null,
     "exception": null,
     "start_time": null,
     "status": "pending"
    },
    "tags": []
   },
   "source": [
    "### Short-only with the fair value model"
   ]
  },
  {
   "cell_type": "code",
   "execution_count": null,
   "id": "b4bc6ce0",
   "metadata": {
    "execution": {
     "iopub.execute_input": "2021-11-28T09:44:48.811796Z",
     "iopub.status.busy": "2021-11-28T09:44:48.811648Z",
     "iopub.status.idle": "2021-11-28T09:45:10.053320Z",
     "shell.execute_reply": "2021-11-28T09:45:10.052896Z",
     "shell.execute_reply.started": "2021-11-28T09:44:48.811778Z"
    },
    "papermill": {
     "duration": null,
     "end_time": null,
     "exception": null,
     "start_time": null,
     "status": "pending"
    },
    "tags": []
   },
   "outputs": [],
   "source": [
    "engine = BacktestEngine(\n",
    "    signal=signal.CrushSpreadSimon1999InSample(\n",
    "        ma_lookback=5,\n",
    "        ma_entry=100,\n",
    "        ma_exit=100,\n",
    "        fair_value=True,\n",
    "        fair_value_entry=0,\n",
    "        fair_value_end_date=datetime(1995, 2, 28),\n",
    "        long_position=False,\n",
    "        short_position=True,\n",
    "    ),\n",
    "    **common_kwargs,\n",
    ")\n",
    "engine.run()"
   ]
  },
  {
   "cell_type": "code",
   "execution_count": null,
   "id": "44c21811",
   "metadata": {
    "execution": {
     "iopub.execute_input": "2021-11-28T09:45:10.053874Z",
     "iopub.status.busy": "2021-11-28T09:45:10.053781Z",
     "iopub.status.idle": "2021-11-28T09:45:14.771623Z",
     "shell.execute_reply": "2021-11-28T09:45:14.771206Z",
     "shell.execute_reply.started": "2021-11-28T09:45:10.053862Z"
    },
    "papermill": {
     "duration": null,
     "end_time": null,
     "exception": null,
     "start_time": null,
     "status": "pending"
    },
    "tags": []
   },
   "outputs": [],
   "source": [
    "short_only_with_fair_value = engine.calculate_equity_curve(calculate_net=False)"
   ]
  },
  {
   "cell_type": "code",
   "execution_count": null,
   "id": "c1135c7b",
   "metadata": {
    "execution": {
     "iopub.execute_input": "2021-11-28T09:45:14.772166Z",
     "iopub.status.busy": "2021-11-28T09:45:14.772066Z",
     "iopub.status.idle": "2021-11-28T09:45:35.953877Z",
     "shell.execute_reply": "2021-11-28T09:45:35.953399Z",
     "shell.execute_reply.started": "2021-11-28T09:45:14.772153Z"
    },
    "papermill": {
     "duration": null,
     "end_time": null,
     "exception": null,
     "start_time": null,
     "status": "pending"
    },
    "tags": []
   },
   "outputs": [],
   "source": [
    "engine = BacktestEngine(\n",
    "    signal=signal.CrushSpreadSimon1999InSample(\n",
    "        ma_lookback=5,\n",
    "        ma_entry=100,\n",
    "        ma_exit=100,\n",
    "        fair_value=True,\n",
    "        fair_value_entry=0.1,\n",
    "        fair_value_end_date=datetime(1995, 2, 28),\n",
    "        long_position=False,\n",
    "        short_position=True,\n",
    "    ),\n",
    "    **common_kwargs,\n",
    ")\n",
    "engine.run()"
   ]
  },
  {
   "cell_type": "code",
   "execution_count": null,
   "id": "366e7faf",
   "metadata": {
    "execution": {
     "iopub.execute_input": "2021-11-28T09:45:35.954488Z",
     "iopub.status.busy": "2021-11-28T09:45:35.954389Z",
     "iopub.status.idle": "2021-11-28T09:45:40.931637Z",
     "shell.execute_reply": "2021-11-28T09:45:40.931111Z",
     "shell.execute_reply.started": "2021-11-28T09:45:35.954476Z"
    },
    "papermill": {
     "duration": null,
     "end_time": null,
     "exception": null,
     "start_time": null,
     "status": "pending"
    },
    "tags": []
   },
   "outputs": [],
   "source": [
    "short_only_with_fair_value2 = engine.calculate_equity_curve(calculate_net=False)"
   ]
  },
  {
   "cell_type": "code",
   "execution_count": null,
   "id": "a904ca27",
   "metadata": {
    "execution": {
     "iopub.execute_input": "2021-11-28T09:45:40.932388Z",
     "iopub.status.busy": "2021-11-28T09:45:40.932255Z",
     "iopub.status.idle": "2021-11-28T09:45:40.935597Z",
     "shell.execute_reply": "2021-11-28T09:45:40.935158Z",
     "shell.execute_reply.started": "2021-11-28T09:45:40.932371Z"
    },
    "papermill": {
     "duration": null,
     "end_time": null,
     "exception": null,
     "start_time": null,
     "status": "pending"
    },
    "tags": []
   },
   "outputs": [],
   "source": [
    "levels4 = pd.concat((short_only_with_fair_value.rename('SO: MA entry = $100, FV entry = 0.0'), \n",
    "                     short_only_with_fair_value2.rename('SO: MA entry = $100, FV entry = 0.1')), axis=1)"
   ]
  },
  {
   "cell_type": "markdown",
   "id": "bcf3b9c6",
   "metadata": {
    "papermill": {
     "duration": null,
     "end_time": null,
     "exception": null,
     "start_time": null,
     "status": "pending"
    },
    "tags": []
   },
   "source": [
    "The fair value model almost stopped taking positions in the out-of-sample period because the regression redisual started to drift away from zero. This suggests that the model needs to be refit on a rolling basis."
   ]
  },
  {
   "cell_type": "code",
   "execution_count": null,
   "id": "931249e9",
   "metadata": {
    "execution": {
     "iopub.execute_input": "2021-11-28T09:45:40.936276Z",
     "iopub.status.busy": "2021-11-28T09:45:40.936145Z",
     "iopub.status.idle": "2021-11-28T09:45:41.293892Z",
     "shell.execute_reply": "2021-11-28T09:45:41.293373Z",
     "shell.execute_reply.started": "2021-11-28T09:45:40.936259Z"
    },
    "papermill": {
     "duration": null,
     "end_time": null,
     "exception": null,
     "start_time": null,
     "status": "pending"
    },
    "tags": []
   },
   "outputs": [],
   "source": [
    "fig, ax = plt.subplots(figsize=(8, 5))\n",
    "levels4.plot(ax=ax, logy=True);\n",
    "ax.set_title('Crush spread mean-reversion\\n(Short-only, with fair value mode, Simon 1999)')\n",
    "ax.set_ylabel('Cumulative returns');"
   ]
  },
  {
   "cell_type": "code",
   "execution_count": null,
   "id": "aa4e3222",
   "metadata": {
    "execution": {
     "iopub.execute_input": "2021-11-28T09:45:41.294629Z",
     "iopub.status.busy": "2021-11-28T09:45:41.294494Z",
     "iopub.status.idle": "2021-11-28T09:45:41.341716Z",
     "shell.execute_reply": "2021-11-28T09:45:41.341301Z",
     "shell.execute_reply.started": "2021-11-28T09:45:41.294611Z"
    },
    "papermill": {
     "duration": null,
     "end_time": null,
     "exception": null,
     "start_time": null,
     "status": "pending"
    },
    "tags": []
   },
   "outputs": [],
   "source": [
    "levels4.pipe(Performance).summary()"
   ]
  },
  {
   "cell_type": "markdown",
   "id": "d6521f16",
   "metadata": {
    "papermill": {
     "duration": null,
     "end_time": null,
     "exception": null,
     "start_time": null,
     "status": "pending"
    },
    "tags": []
   },
   "source": [
    "# Post publication"
   ]
  },
  {
   "cell_type": "code",
   "execution_count": null,
   "id": "8745e652",
   "metadata": {
    "execution": {
     "iopub.execute_input": "2021-11-28T09:45:41.342448Z",
     "iopub.status.busy": "2021-11-28T09:45:41.342314Z",
     "iopub.status.idle": "2021-11-28T09:45:41.344742Z",
     "shell.execute_reply": "2021-11-28T09:45:41.344245Z",
     "shell.execute_reply.started": "2021-11-28T09:45:41.342431Z"
    },
    "papermill": {
     "duration": null,
     "end_time": null,
     "exception": null,
     "start_time": null,
     "status": "pending"
    },
    "tags": []
   },
   "outputs": [],
   "source": [
    "publication_date = datetime(1999, 4, 27)"
   ]
  },
  {
   "cell_type": "code",
   "execution_count": null,
   "id": "4f136cfa",
   "metadata": {
    "execution": {
     "iopub.execute_input": "2021-11-28T09:45:41.345446Z",
     "iopub.status.busy": "2021-11-28T09:45:41.345312Z",
     "iopub.status.idle": "2021-11-28T09:45:42.068807Z",
     "shell.execute_reply": "2021-11-28T09:45:42.068249Z",
     "shell.execute_reply.started": "2021-11-28T09:45:41.345429Z"
    },
    "papermill": {
     "duration": null,
     "end_time": null,
     "exception": null,
     "start_time": null,
     "status": "pending"
    },
    "tags": []
   },
   "outputs": [],
   "source": [
    "fig, ax = plt.subplots(1, 2, figsize=(14, 4))\n",
    "levels1.plot(ax=ax[0], logy=True);\n",
    "ax[0].set_title('Crush spread mean-reversion\\n(Long-only, without fair value mode, Simon 1999)')\n",
    "ax[0].set_ylabel('Cumulative returns');\n",
    "ax[0].axvline(publication_date, lw=1, ls='--', color='black')\n",
    "ax[0].text(publication_date, 100, 'Publication date ', ha='right')\n",
    "\n",
    "levels1.loc[publication_date:].pipe(rebase).plot(ax=ax[1], logy=True);\n",
    "ax[1].set_title('Post publication');"
   ]
  },
  {
   "cell_type": "code",
   "execution_count": null,
   "id": "49c1ee79",
   "metadata": {
    "execution": {
     "iopub.execute_input": "2021-11-28T09:45:42.069546Z",
     "iopub.status.busy": "2021-11-28T09:45:42.069416Z",
     "iopub.status.idle": "2021-11-28T09:45:42.795760Z",
     "shell.execute_reply": "2021-11-28T09:45:42.795268Z",
     "shell.execute_reply.started": "2021-11-28T09:45:42.069529Z"
    },
    "papermill": {
     "duration": null,
     "end_time": null,
     "exception": null,
     "start_time": null,
     "status": "pending"
    },
    "tags": []
   },
   "outputs": [],
   "source": [
    "fig, ax = plt.subplots(1, 2, figsize=(14, 4))\n",
    "levels2.plot(ax=ax[0], logy=True);\n",
    "ax[0].set_title('Crush spread mean-reversion\\n(Long-only, with fair value mode, Simon 1999)')\n",
    "ax[0].set_ylabel('Cumulative returns');\n",
    "ax[0].axvline(publication_date, lw=1, ls='--', color='black')\n",
    "ax[0].text(publication_date, 100, 'Publication date ', ha='right')\n",
    "\n",
    "levels2.loc[publication_date:].pipe(rebase).plot(ax=ax[1], logy=True);\n",
    "ax[1].set_title('Post publication');"
   ]
  },
  {
   "cell_type": "code",
   "execution_count": null,
   "id": "c055d72e",
   "metadata": {
    "execution": {
     "iopub.execute_input": "2021-11-28T09:45:42.796622Z",
     "iopub.status.busy": "2021-11-28T09:45:42.796418Z",
     "iopub.status.idle": "2021-11-28T09:45:43.403438Z",
     "shell.execute_reply": "2021-11-28T09:45:43.402924Z",
     "shell.execute_reply.started": "2021-11-28T09:45:42.796603Z"
    },
    "papermill": {
     "duration": null,
     "end_time": null,
     "exception": null,
     "start_time": null,
     "status": "pending"
    },
    "tags": []
   },
   "outputs": [],
   "source": [
    "fig, ax = plt.subplots(1, 2, figsize=(14, 4))\n",
    "levels3.plot(ax=ax[0], logy=True);\n",
    "ax[0].set_title('Crush spread mean-reversion\\n(Short-only, without fair value mode, Simon 1999)')\n",
    "ax[0].set_ylabel('Cumulative returns');\n",
    "ax[0].axvline(publication_date, lw=1, ls='--', color='black')\n",
    "ax[0].text(publication_date, 100, 'Publication date ', ha='right')\n",
    "\n",
    "levels3.loc[publication_date:].pipe(rebase).plot(ax=ax[1], logy=True);\n",
    "ax[1].set_title('Post publication');"
   ]
  },
  {
   "cell_type": "code",
   "execution_count": null,
   "id": "18d734fc",
   "metadata": {
    "execution": {
     "iopub.execute_input": "2021-11-28T09:45:43.404185Z",
     "iopub.status.busy": "2021-11-28T09:45:43.404028Z",
     "iopub.status.idle": "2021-11-28T09:45:44.112644Z",
     "shell.execute_reply": "2021-11-28T09:45:44.112112Z",
     "shell.execute_reply.started": "2021-11-28T09:45:43.404168Z"
    },
    "papermill": {
     "duration": null,
     "end_time": null,
     "exception": null,
     "start_time": null,
     "status": "pending"
    },
    "tags": []
   },
   "outputs": [],
   "source": [
    "fig, ax = plt.subplots(1, 2, figsize=(14, 4))\n",
    "levels4.plot(ax=ax[0], logy=True);\n",
    "ax[0].set_title('Crush spread mean-reversion\\n(Short-only, with fair value mode, Simon 1999)')\n",
    "ax[0].set_ylabel('Cumulative returns');\n",
    "ax[0].axvline(publication_date, lw=1, ls='--', color='black')\n",
    "ax[0].text(publication_date, 100, 'Publication date ', ha='right')\n",
    "\n",
    "levels4.loc[publication_date:].pipe(rebase).plot(ax=ax[1], logy=True);\n",
    "ax[1].set_title('Post publication');"
   ]
  },
  {
   "cell_type": "markdown",
   "id": "9363135f",
   "metadata": {
    "papermill": {
     "duration": null,
     "end_time": null,
     "exception": null,
     "start_time": null,
     "status": "pending"
    },
    "tags": []
   },
   "source": [
    "# Seasonality\n",
    "\n",
    "In the regression analysis, we saw that the crush spread tended to be higher in the growing season, and lower in winter. Let's see if this pattern can be captured in a simple long/short strategy."
   ]
  },
  {
   "cell_type": "code",
   "execution_count": null,
   "id": "748b6846",
   "metadata": {
    "execution": {
     "iopub.execute_input": "2021-11-28T14:11:07.066930Z",
     "iopub.status.busy": "2021-11-28T14:11:07.066763Z",
     "iopub.status.idle": "2021-11-28T14:11:12.228490Z",
     "shell.execute_reply": "2021-11-28T14:11:12.227962Z",
     "shell.execute_reply.started": "2021-11-28T14:11:07.066911Z"
    },
    "papermill": {
     "duration": null,
     "end_time": null,
     "exception": null,
     "start_time": null,
     "status": "pending"
    },
    "tags": []
   },
   "outputs": [],
   "source": [
    "soybean_1st = BacktestEngine(instrument=InstrumentDef('S', collateral=10000), log_level=logging.WARN)\n",
    "soybean_1st.run()"
   ]
  },
  {
   "cell_type": "code",
   "execution_count": null,
   "id": "680e65e7",
   "metadata": {
    "execution": {
     "iopub.execute_input": "2021-11-28T14:11:25.167015Z",
     "iopub.status.busy": "2021-11-28T14:11:25.166849Z",
     "iopub.status.idle": "2021-11-28T14:11:30.760932Z",
     "shell.execute_reply": "2021-11-28T14:11:30.760339Z",
     "shell.execute_reply.started": "2021-11-28T14:11:25.166996Z"
    },
    "papermill": {
     "duration": null,
     "end_time": null,
     "exception": null,
     "start_time": null,
     "status": "pending"
    },
    "tags": []
   },
   "outputs": [],
   "source": [
    "soybean_meal_1st = BacktestEngine(instrument=InstrumentDef('SM', collateral=10000), log_level=logging.WARN)\n",
    "soybean_meal_1st.run()"
   ]
  },
  {
   "cell_type": "code",
   "execution_count": null,
   "id": "53d7245f",
   "metadata": {
    "execution": {
     "iopub.execute_input": "2021-11-28T14:11:46.561692Z",
     "iopub.status.busy": "2021-11-28T14:11:46.561478Z",
     "iopub.status.idle": "2021-11-28T14:11:51.123329Z",
     "shell.execute_reply": "2021-11-28T14:11:51.122961Z",
     "shell.execute_reply.started": "2021-11-28T14:11:46.561667Z"
    },
    "papermill": {
     "duration": null,
     "end_time": null,
     "exception": null,
     "start_time": null,
     "status": "pending"
    },
    "tags": []
   },
   "outputs": [],
   "source": [
    "soybean_oil_1st = BacktestEngine(instrument=InstrumentDef('BO', collateral=10000), log_level=logging.WARN)\n",
    "soybean_oil_1st.run()"
   ]
  },
  {
   "cell_type": "markdown",
   "id": "80039d8d",
   "metadata": {
    "papermill": {
     "duration": null,
     "end_time": null,
     "exception": null,
     "start_time": null,
     "status": "pending"
    },
    "tags": []
   },
   "source": [
    "`crush_spread_return` contains returns of a long position in the crush spread (1 lot each)."
   ]
  },
  {
   "cell_type": "code",
   "execution_count": null,
   "id": "f38c179b",
   "metadata": {
    "execution": {
     "iopub.execute_input": "2021-11-28T14:13:30.716924Z",
     "iopub.status.busy": "2021-11-28T14:13:30.716616Z",
     "iopub.status.idle": "2021-11-28T14:13:35.568524Z",
     "shell.execute_reply": "2021-11-28T14:13:35.568016Z",
     "shell.execute_reply.started": "2021-11-28T14:13:30.716891Z"
    },
    "papermill": {
     "duration": null,
     "end_time": null,
     "exception": null,
     "start_time": null,
     "status": "pending"
    },
    "tags": []
   },
   "outputs": [],
   "source": [
    "crush_spread_return = pd.concat((\n",
    "    soybean_meal_1st.get_return(calculate_net=False).mul(100),\n",
    "    soybean_oil_1st.get_return(calculate_net=False).mul(600),\n",
    "    soybean_1st.get_return(calculate_net=False).mul(-50),\n",
    "), axis=1).fillna(0).sum(axis=1)"
   ]
  },
  {
   "cell_type": "code",
   "execution_count": null,
   "id": "d18ae258",
   "metadata": {
    "execution": {
     "iopub.execute_input": "2021-11-28T14:37:18.740986Z",
     "iopub.status.busy": "2021-11-28T14:37:18.740746Z",
     "iopub.status.idle": "2021-11-28T14:37:18.758743Z",
     "shell.execute_reply": "2021-11-28T14:37:18.758312Z",
     "shell.execute_reply.started": "2021-11-28T14:37:18.740954Z"
    },
    "papermill": {
     "duration": null,
     "end_time": null,
     "exception": null,
     "start_time": null,
     "status": "pending"
    },
    "tags": []
   },
   "outputs": [],
   "source": [
    "seasonality = crush_spread_return.to_frame('return').assign(\n",
    "    growing=lambda df: -1 * df['return'].where((df.index.month >= 2) & (df.index.month <= 6)),\n",
    "    winter=lambda df: df['return'].where((df.index.month >= 9) & (df.index.month <= 11)),\n",
    ").fillna(0).assign(\n",
    "    long_short=lambda df: df['growing'] + df['winter']\n",
    ").add(1).cumprod().rename(columns={\n",
    "    'return': 'Unconditional long',\n",
    "    'growing': 'Short growing season',\n",
    "    'winter': 'Long winter',\n",
    "    'long_short': 'Short growing season + long winter',\n",
    "})"
   ]
  },
  {
   "cell_type": "markdown",
   "id": "7dcb2de8",
   "metadata": {
    "papermill": {
     "duration": null,
     "end_time": null,
     "exception": null,
     "start_time": null,
     "status": "pending"
    },
    "tags": []
   },
   "source": [
    "The result is consistent with the regression, however it doesn't look a very attractive strategy."
   ]
  },
  {
   "cell_type": "code",
   "execution_count": null,
   "id": "4619efab",
   "metadata": {
    "execution": {
     "iopub.execute_input": "2021-11-28T14:37:20.162422Z",
     "iopub.status.busy": "2021-11-28T14:37:20.162265Z",
     "iopub.status.idle": "2021-11-28T14:37:20.638812Z",
     "shell.execute_reply": "2021-11-28T14:37:20.638374Z",
     "shell.execute_reply.started": "2021-11-28T14:37:20.162404Z"
    },
    "papermill": {
     "duration": null,
     "end_time": null,
     "exception": null,
     "start_time": null,
     "status": "pending"
    },
    "tags": []
   },
   "outputs": [],
   "source": [
    "fig, ax = plt.subplots(figsize=(8, 5))\n",
    "\n",
    "seasonality.plot(ax=ax, logy=True);\n",
    "ax.set_title('Crush spread seasonality strategy')\n",
    "ax.set_ylabel('Cumulative returns');"
   ]
  },
  {
   "cell_type": "code",
   "execution_count": null,
   "id": "a6add8a3",
   "metadata": {
    "execution": {
     "iopub.execute_input": "2021-11-28T14:37:22.057392Z",
     "iopub.status.busy": "2021-11-28T14:37:22.057255Z",
     "iopub.status.idle": "2021-11-28T14:37:22.121281Z",
     "shell.execute_reply": "2021-11-28T14:37:22.120905Z",
     "shell.execute_reply.started": "2021-11-28T14:37:22.057377Z"
    },
    "papermill": {
     "duration": null,
     "end_time": null,
     "exception": null,
     "start_time": null,
     "status": "pending"
    },
    "tags": []
   },
   "outputs": [],
   "source": [
    "seasonality.pipe(Performance).summary()"
   ]
  },
  {
   "cell_type": "markdown",
   "id": "e7fc622d",
   "metadata": {
    "papermill": {
     "duration": null,
     "end_time": null,
     "exception": null,
     "start_time": null,
     "status": "pending"
    },
    "tags": []
   },
   "source": [
    "# Note\n",
    "- As mentioned above, the fair value model is fit using data until Feb-1995. This means the performance before this period is in-sample and hence not a valid trading strategy\n",
    "- The trading strategy appears to be highly sensitive to the threshold for the fair value model\n",
    "- The regression and backtest suggest that the fair value model is time-varying which means the model needs to be refit on a regular basis"
   ]
  },
  {
   "cell_type": "markdown",
   "id": "49b1e985",
   "metadata": {
    "papermill": {
     "duration": null,
     "end_time": null,
     "exception": null,
     "start_time": null,
     "status": "pending"
    },
    "tags": []
   },
   "source": [
    "# Reference\n",
    "- Mitchell, J.B., 2010. Soybean futures crush spread arbitrage: Trading strategies and market efficiency. Journal of Risk and Financial Management, 3(1), pp.63-96.\n",
    "- Simon, D.P., 1999. The soybean crush spread: Empirical evidence and trading strategies. Journal of Futures Markets: Futures, Options, and Other Derivative Products, 19(3), pp.271-289."
   ]
  },
  {
   "cell_type": "code",
   "execution_count": null,
   "id": "5ad1f096",
   "metadata": {
    "execution": {
     "iopub.execute_input": "2021-11-28T13:26:07.545672Z",
     "iopub.status.busy": "2021-11-28T13:26:07.545499Z",
     "iopub.status.idle": "2021-11-28T13:26:07.548710Z",
     "shell.execute_reply": "2021-11-28T13:26:07.548275Z",
     "shell.execute_reply.started": "2021-11-28T13:26:07.545653Z"
    },
    "papermill": {
     "duration": null,
     "end_time": null,
     "exception": null,
     "start_time": null,
     "status": "pending"
    },
    "tags": []
   },
   "outputs": [],
   "source": [
    "print(f'Updated: {datetime.utcnow():%d-%b-%Y %H:%M}')"
   ]
  }
 ],
 "metadata": {
  "kernelspec": {
   "display_name": "Python 3",
   "language": "python",
   "name": "python3"
  },
  "language_info": {
   "codemirror_mode": {
    "name": "ipython",
    "version": 3
   },
   "file_extension": ".py",
   "mimetype": "text/x-python",
   "name": "python",
   "nbconvert_exporter": "python",
   "pygments_lexer": "ipython3",
   "version": "3.8.1"
  },
  "papermill": {
   "default_parameters": {},
   "duration": null,
   "end_time": null,
   "environment_variables": {},
   "exception": null,
   "input_path": "notebooks/papermill/commodity_crush_spread_stat_arb.ipynb",
   "output_path": "notebooks/commodity_crush_spread_stat_arb.ipynb",
   "parameters": {},
   "start_time": "2022-06-25T09:58:19.316049",
   "version": "2.3.4"
  }
 },
 "nbformat": 4,
 "nbformat_minor": 5
}