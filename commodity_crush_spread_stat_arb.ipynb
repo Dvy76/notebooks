{
 "cells": [
  {
   "cell_type": "markdown",
   "id": "802ef5ac",
   "metadata": {
    "tags": [
     "papermill-error-cell-tag"
    ]
   },
   "source": [
    "<span style=\"color:red; font-family:Helvetica Neue, Helvetica, Arial, sans-serif; font-size:2em;\">An Exception was encountered at '<a href=\"#papermill-error-cell\">In [54]</a>'.</span>"
   ]
  },
  {
   "cell_type": "markdown",
   "id": "bb6881b6",
   "metadata": {
    "papermill": {
     "duration": 0.032266,
     "end_time": "2022-05-13T06:00:08.143522",
     "exception": false,
     "start_time": "2022-05-13T06:00:08.111256",
     "status": "completed"
    },
    "tags": []
   },
   "source": [
    "# Commodity crush spread statistical arbitrage\n",
    "\n",
    "This notebook investigates the analysis done in Simon 1999 which is about the crush spread in soybean complex. The crush spread in soybean (soybean, soybean mean and soybeam oil) appears to be mean-reverting both in the short-term and long-term. The author suggests to employ a mean-reversion strategy to capture this price pattern."
   ]
  },
  {
   "cell_type": "code",
   "execution_count": 1,
   "id": "17f767b3",
   "metadata": {
    "execution": {
     "iopub.execute_input": "2022-05-13T06:00:08.248432Z",
     "iopub.status.busy": "2022-05-13T06:00:08.248131Z",
     "iopub.status.idle": "2022-05-13T06:00:14.185056Z",
     "shell.execute_reply": "2022-05-13T06:00:14.183539Z"
    },
    "papermill": {
     "duration": 6.012885,
     "end_time": "2022-05-13T06:00:14.189331",
     "exception": false,
     "start_time": "2022-05-13T06:00:08.176446",
     "status": "completed"
    },
    "tags": []
   },
   "outputs": [],
   "source": [
    "%matplotlib inline\n",
    "from datetime import datetime\n",
    "import logging\n",
    "import warnings\n",
    "warnings.simplefilter(action='ignore', category=FutureWarning)\n",
    "\n",
    "import pandas as pd\n",
    "import statsmodels.api as sm\n",
    "import matplotlib.pyplot as plt\n",
    "plt.style.use('bmh')\n",
    "\n",
    "from vivace.backtest import signal\n",
    "from vivace.backtest.analytics import rebase\n",
    "from vivace.backtest.contract import InstrumentDef\n",
    "from vivace.backtest.engine import BacktestEngine\n",
    "from vivace.backtest.enums import Strategy, Weighting\n",
    "from vivace.backtest.stats import Performance"
   ]
  },
  {
   "cell_type": "markdown",
   "id": "a37e6343",
   "metadata": {
    "papermill": {
     "duration": 0.042852,
     "end_time": "2022-05-13T06:00:14.273675",
     "exception": false,
     "start_time": "2022-05-13T06:00:14.230823",
     "status": "completed"
    },
    "tags": []
   },
   "source": [
    "# The soybean crush spread"
   ]
  },
  {
   "cell_type": "markdown",
   "id": "d585355d",
   "metadata": {
    "papermill": {
     "duration": 0.037437,
     "end_time": "2022-05-13T06:00:14.350702",
     "exception": false,
     "start_time": "2022-05-13T06:00:14.313265",
     "status": "completed"
    },
    "tags": []
   },
   "source": [
    "## USDA estimates 1988\n",
    "\n",
    "First we get the generic price time-series of the front contracts for soybean, meal and oil."
   ]
  },
  {
   "cell_type": "code",
   "execution_count": 2,
   "id": "11784c9b",
   "metadata": {
    "execution": {
     "iopub.execute_input": "2022-05-13T06:00:14.431445Z",
     "iopub.status.busy": "2022-05-13T06:00:14.430817Z",
     "iopub.status.idle": "2022-05-13T06:00:25.929899Z",
     "shell.execute_reply": "2022-05-13T06:00:25.923363Z"
    },
    "papermill": {
     "duration": 11.543032,
     "end_time": "2022-05-13T06:00:25.932513",
     "exception": false,
     "start_time": "2022-05-13T06:00:14.389481",
     "status": "completed"
    },
    "tags": []
   },
   "outputs": [],
   "source": [
    "soybean_1st = BacktestEngine(instrument='S', log_level=logging.WARN)\n",
    "soybean_1st.run()"
   ]
  },
  {
   "cell_type": "code",
   "execution_count": 3,
   "id": "8874bd3f",
   "metadata": {
    "execution": {
     "iopub.execute_input": "2022-05-13T06:00:26.013809Z",
     "iopub.status.busy": "2022-05-13T06:00:26.013490Z",
     "iopub.status.idle": "2022-05-13T06:00:37.972437Z",
     "shell.execute_reply": "2022-05-13T06:00:37.971554Z"
    },
    "papermill": {
     "duration": 12.001786,
     "end_time": "2022-05-13T06:00:37.974821",
     "exception": false,
     "start_time": "2022-05-13T06:00:25.973035",
     "status": "completed"
    },
    "tags": []
   },
   "outputs": [],
   "source": [
    "soybean_meal_1st = BacktestEngine(instrument='SM', log_level=logging.WARN)\n",
    "soybean_meal_1st.run()"
   ]
  },
  {
   "cell_type": "code",
   "execution_count": 4,
   "id": "a64c7fe0",
   "metadata": {
    "execution": {
     "iopub.execute_input": "2022-05-13T06:00:38.048204Z",
     "iopub.status.busy": "2022-05-13T06:00:38.047857Z",
     "iopub.status.idle": "2022-05-13T06:00:48.794478Z",
     "shell.execute_reply": "2022-05-13T06:00:48.793909Z"
    },
    "papermill": {
     "duration": 10.783895,
     "end_time": "2022-05-13T06:00:48.796491",
     "exception": false,
     "start_time": "2022-05-13T06:00:38.012596",
     "status": "completed"
    },
    "tags": []
   },
   "outputs": [],
   "source": [
    "soybean_oil_1st = BacktestEngine(instrument='BO', log_level=logging.WARN)\n",
    "soybean_oil_1st.run()"
   ]
  },
  {
   "cell_type": "code",
   "execution_count": 5,
   "id": "09eafbc3",
   "metadata": {
    "execution": {
     "iopub.execute_input": "2022-05-13T06:00:48.881830Z",
     "iopub.status.busy": "2022-05-13T06:00:48.881381Z",
     "iopub.status.idle": "2022-05-13T06:01:15.421712Z",
     "shell.execute_reply": "2022-05-13T06:01:15.420809Z"
    },
    "papermill": {
     "duration": 26.585486,
     "end_time": "2022-05-13T06:01:15.424237",
     "exception": false,
     "start_time": "2022-05-13T06:00:48.838751",
     "status": "completed"
    },
    "tags": []
   },
   "outputs": [],
   "source": [
    "soybean_price = soybean_1st.get_generic_price()\n",
    "soybean_meal_price = soybean_meal_1st.get_generic_price()\n",
    "soybean_oil_price = soybean_oil_1st.get_generic_price()"
   ]
  },
  {
   "cell_type": "markdown",
   "id": "1f5ec6e9",
   "metadata": {
    "papermill": {
     "duration": 0.046659,
     "end_time": "2022-05-13T06:01:15.524683",
     "exception": false,
     "start_time": "2022-05-13T06:01:15.478024",
     "status": "completed"
    },
    "tags": []
   },
   "source": [
    "Note that each futures prices use different units. *Ignoreing the inherent leverage* in the futures contracts, they each are priced in the following units:\n",
    "- Soybean meal price is per 1 ton\n",
    "- Soybean oil price is per 100 pounds\n",
    "- Soybean price is per 100 bushels"
   ]
  },
  {
   "cell_type": "code",
   "execution_count": 6,
   "id": "c3a3d2a5",
   "metadata": {
    "execution": {
     "iopub.execute_input": "2022-05-13T06:01:15.614661Z",
     "iopub.status.busy": "2022-05-13T06:01:15.614189Z",
     "iopub.status.idle": "2022-05-13T06:01:15.636723Z",
     "shell.execute_reply": "2022-05-13T06:01:15.636045Z"
    },
    "papermill": {
     "duration": 0.071624,
     "end_time": "2022-05-13T06:01:15.639155",
     "exception": false,
     "start_time": "2022-05-13T06:01:15.567531",
     "status": "completed"
    },
    "tags": []
   },
   "outputs": [],
   "source": [
    "gcm = (soybean_meal_price.squeeze().div(2000).mul(48) + \n",
    "       soybean_oil_price.squeeze().div(100).mul(11) - \n",
    "       soybean_price.squeeze().div(100))"
   ]
  },
  {
   "cell_type": "markdown",
   "id": "42ae10b6",
   "metadata": {
    "papermill": {
     "duration": 0.036922,
     "end_time": "2022-05-13T06:01:15.713283",
     "exception": false,
     "start_time": "2022-05-13T06:01:15.676361",
     "status": "completed"
    },
    "tags": []
   },
   "source": [
    "The chart below reproduces the gross crush margin estimated by USDA 1988."
   ]
  },
  {
   "cell_type": "code",
   "execution_count": 7,
   "id": "034a5bb8",
   "metadata": {
    "execution": {
     "iopub.execute_input": "2022-05-13T06:01:15.793391Z",
     "iopub.status.busy": "2022-05-13T06:01:15.792775Z",
     "iopub.status.idle": "2022-05-13T06:01:16.179908Z",
     "shell.execute_reply": "2022-05-13T06:01:16.177938Z"
    },
    "papermill": {
     "duration": 0.428918,
     "end_time": "2022-05-13T06:01:16.182718",
     "exception": false,
     "start_time": "2022-05-13T06:01:15.753800",
     "status": "completed"
    },
    "tags": []
   },
   "outputs": [
    {
     "data": {
      "image/png": "[encoded data removed]",
      "text/plain": [
       "<Figure size 576x360 with 1 Axes>"
      ]
     },
     "metadata": {
      "needs_background": "light"
     },
     "output_type": "display_data"
    }
   ],
   "source": [
    "fig, ax = plt.subplots(figsize=(8, 5))\n",
    "gcm['1985':'1995'].plot(ax=ax);\n",
    "ax.set_ylabel('Gross crush margin ($)')\n",
    "ax.set_title('The soybean crush spread (USDA estimates 1988)');"
   ]
  },
  {
   "cell_type": "markdown",
   "id": "44c9e6df",
   "metadata": {
    "papermill": {
     "duration": 0.038042,
     "end_time": "2022-05-13T06:01:16.257619",
     "exception": false,
     "start_time": "2022-05-13T06:01:16.219577",
     "status": "completed"
    },
    "tags": []
   },
   "source": [
    "The next chart shows a long-term perspective. As mentioned in Simon 1999, this spread does not necessarily represent a long-run equilibrium because the amount of mean and oil can vary depending on the growing condition."
   ]
  },
  {
   "cell_type": "code",
   "execution_count": 8,
   "id": "81c7ac2e",
   "metadata": {
    "execution": {
     "iopub.execute_input": "2022-05-13T06:01:16.328156Z",
     "iopub.status.busy": "2022-05-13T06:01:16.327721Z",
     "iopub.status.idle": "2022-05-13T06:01:16.659225Z",
     "shell.execute_reply": "2022-05-13T06:01:16.658396Z"
    },
    "papermill": {
     "duration": 0.366707,
     "end_time": "2022-05-13T06:01:16.662151",
     "exception": false,
     "start_time": "2022-05-13T06:01:16.295444",
     "status": "completed"
    },
    "tags": []
   },
   "outputs": [
    {
     "data": {
      "image/png": "[encoded data removed]",
      "text/plain": [
       "<Figure size 576x360 with 1 Axes>"
      ]
     },
     "metadata": {
      "needs_background": "light"
     },
     "output_type": "display_data"
    }
   ],
   "source": [
    "fig, ax = plt.subplots(figsize=(8, 5))\n",
    "gcm.plot(ax=ax);\n",
    "ax.set_ylabel('Gross crush margin ($)')\n",
    "ax.set_title('The soybean crush spread (USDA estimates 1988)');"
   ]
  },
  {
   "cell_type": "markdown",
   "id": "9133862a",
   "metadata": {
    "papermill": {
     "duration": 0.058082,
     "end_time": "2022-05-13T06:01:16.762446",
     "exception": false,
     "start_time": "2022-05-13T06:01:16.704364",
     "status": "completed"
    },
    "tags": []
   },
   "source": [
    "## Long-run equilibrium"
   ]
  },
  {
   "cell_type": "code",
   "execution_count": 9,
   "id": "ce4b1c17",
   "metadata": {
    "execution": {
     "iopub.execute_input": "2022-05-13T06:01:16.852636Z",
     "iopub.status.busy": "2022-05-13T06:01:16.852300Z",
     "iopub.status.idle": "2022-05-13T06:01:16.874118Z",
     "shell.execute_reply": "2022-05-13T06:01:16.873287Z"
    },
    "papermill": {
     "duration": 0.070685,
     "end_time": "2022-05-13T06:01:16.876669",
     "exception": false,
     "start_time": "2022-05-13T06:01:16.805984",
     "status": "completed"
    },
    "tags": []
   },
   "outputs": [],
   "source": [
    "price_concat = pd.concat((\n",
    "    soybean_meal_price,\n",
    "    soybean_oil_price,\n",
    "    soybean_price.div(100),\n",
    "), axis=1).fillna(method='pad').dropna()"
   ]
  },
  {
   "cell_type": "code",
   "execution_count": 10,
   "id": "c10e0981",
   "metadata": {
    "execution": {
     "iopub.execute_input": "2022-05-13T06:01:16.967096Z",
     "iopub.status.busy": "2022-05-13T06:01:16.966496Z",
     "iopub.status.idle": "2022-05-13T06:01:16.979016Z",
     "shell.execute_reply": "2022-05-13T06:01:16.978478Z"
    },
    "papermill": {
     "duration": 0.060348,
     "end_time": "2022-05-13T06:01:16.980906",
     "exception": false,
     "start_time": "2022-05-13T06:01:16.920558",
     "status": "completed"
    },
    "tags": []
   },
   "outputs": [],
   "source": [
    "month_dummies = pd.get_dummies(pd.Series(price_concat.index.month, index=price_concat.index))\n",
    "month_dummies = month_dummies.drop(12, axis=1).add_prefix('month_')\n",
    "trend = pd.Series(range(len(price_concat)), index=price_concat.index, name='trend')"
   ]
  },
  {
   "cell_type": "code",
   "execution_count": 11,
   "id": "67b33a3e",
   "metadata": {
    "execution": {
     "iopub.execute_input": "2022-05-13T06:01:17.052155Z",
     "iopub.status.busy": "2022-05-13T06:01:17.051859Z",
     "iopub.status.idle": "2022-05-13T06:01:17.063484Z",
     "shell.execute_reply": "2022-05-13T06:01:17.061213Z"
    },
    "papermill": {
     "duration": 0.052513,
     "end_time": "2022-05-13T06:01:17.065890",
     "exception": false,
     "start_time": "2022-05-13T06:01:17.013377",
     "status": "completed"
    },
    "tags": []
   },
   "outputs": [],
   "source": [
    "ols_data = pd.concat((price_concat, trend, month_dummies), axis=1)"
   ]
  },
  {
   "cell_type": "code",
   "execution_count": 12,
   "id": "ada1c057",
   "metadata": {
    "execution": {
     "iopub.execute_input": "2022-05-13T06:01:17.155890Z",
     "iopub.status.busy": "2022-05-13T06:01:17.154760Z",
     "iopub.status.idle": "2022-05-13T06:01:17.168515Z",
     "shell.execute_reply": "2022-05-13T06:01:17.167661Z"
    },
    "papermill": {
     "duration": 0.064271,
     "end_time": "2022-05-13T06:01:17.174039",
     "exception": false,
     "start_time": "2022-05-13T06:01:17.109768",
     "status": "completed"
    },
    "tags": []
   },
   "outputs": [],
   "source": [
    "ols_y = ols_data['S']\n",
    "ols_x = sm.add_constant(ols_data.drop('S', axis=1))"
   ]
  },
  {
   "cell_type": "code",
   "execution_count": 13,
   "id": "ece71592",
   "metadata": {
    "execution": {
     "iopub.execute_input": "2022-05-13T06:01:17.284969Z",
     "iopub.status.busy": "2022-05-13T06:01:17.284648Z",
     "iopub.status.idle": "2022-05-13T06:01:17.451747Z",
     "shell.execute_reply": "2022-05-13T06:01:17.450930Z"
    },
    "papermill": {
     "duration": 0.224718,
     "end_time": "2022-05-13T06:01:17.455171",
     "exception": false,
     "start_time": "2022-05-13T06:01:17.230453",
     "status": "completed"
    },
    "tags": []
   },
   "outputs": [],
   "source": [
    "ols_model = sm.OLS(ols_y.loc['1985':'1995-02'], \n",
    "                   ols_x.loc['1985':'1995-02'])\n",
    "ols_results = ols_model.fit()"
   ]
  },
  {
   "cell_type": "markdown",
   "id": "320530a0",
   "metadata": {
    "papermill": {
     "duration": 0.043928,
     "end_time": "2022-05-13T06:01:17.588331",
     "exception": false,
     "start_time": "2022-05-13T06:01:17.544403",
     "status": "completed"
    },
    "tags": []
   },
   "source": [
    "The result below is broadly in line with the table 2 in Simon 1999. There is a strong seasonality in this result where the crush spread tends to be lower in the growing season from February to June, while it tends to be higher in September to November. This can be attributed to the relative scarcity in soybeans during the growing season."
   ]
  },
  {
   "cell_type": "code",
   "execution_count": 14,
   "id": "e97b5238",
   "metadata": {
    "execution": {
     "iopub.execute_input": "2022-05-13T06:01:17.678737Z",
     "iopub.status.busy": "2022-05-13T06:01:17.678144Z",
     "iopub.status.idle": "2022-05-13T06:01:17.773434Z",
     "shell.execute_reply": "2022-05-13T06:01:17.772675Z"
    },
    "papermill": {
     "duration": 0.143383,
     "end_time": "2022-05-13T06:01:17.775553",
     "exception": false,
     "start_time": "2022-05-13T06:01:17.632170",
     "status": "completed"
    },
    "tags": []
   },
   "outputs": [
    {
     "data": {
      "text/html": [
       "<table class=\"simpletable\">\n",
       "<caption>OLS Regression Results</caption>\n",
       "<tr>\n",
       "  <th>Dep. Variable:</th>            <td>S</td>        <th>  R-squared:         </th> <td>   0.979</td>\n",
       "</tr>\n",
       "<tr>\n",
       "  <th>Model:</th>                   <td>OLS</td>       <th>  Adj. R-squared:    </th> <td>   0.979</td>\n",
       "</tr>\n",
       "<tr>\n",
       "  <th>Method:</th>             <td>Least Squares</td>  <th>  F-statistic:       </th> <td>   8532.</td>\n",
       "</tr>\n",
       "<tr>\n",
       "  <th>Date:</th>             <td>Fri, 13 May 2022</td> <th>  Prob (F-statistic):</th>  <td>  0.00</td> \n",
       "</tr>\n",
       "<tr>\n",
       "  <th>Time:</th>                 <td>06:01:17</td>     <th>  Log-Likelihood:    </th> <td>  1652.0</td>\n",
       "</tr>\n",
       "<tr>\n",
       "  <th>No. Observations:</th>      <td>  2565</td>      <th>  AIC:               </th> <td>  -3274.</td>\n",
       "</tr>\n",
       "<tr>\n",
       "  <th>Df Residuals:</th>          <td>  2550</td>      <th>  BIC:               </th> <td>  -3186.</td>\n",
       "</tr>\n",
       "<tr>\n",
       "  <th>Df Model:</th>              <td>    14</td>      <th>                     </th>     <td> </td>   \n",
       "</tr>\n",
       "<tr>\n",
       "  <th>Covariance Type:</th>      <td>nonrobust</td>    <th>                     </th>     <td> </td>   \n",
       "</tr>\n",
       "</table>\n",
       "<table class=\"simpletable\">\n",
       "<tr>\n",
       "      <td></td>        <th>coef</th>     <th>std err</th>      <th>t</th>      <th>P>|t|</th>  <th>[0.025</th>    <th>0.975]</th>  \n",
       "</tr>\n",
       "<tr>\n",
       "  <th>const</th>    <td>    1.6775</td> <td>    0.029</td> <td>   57.663</td> <td> 0.000</td> <td>    1.620</td> <td>    1.735</td>\n",
       "</tr>\n",
       "<tr>\n",
       "  <th>SM</th>       <td>    0.0234</td> <td> 8.33e-05</td> <td>  280.623</td> <td> 0.000</td> <td>    0.023</td> <td>    0.024</td>\n",
       "</tr>\n",
       "<tr>\n",
       "  <th>BO</th>       <td>    0.0846</td> <td>    0.001</td> <td>  124.095</td> <td> 0.000</td> <td>    0.083</td> <td>    0.086</td>\n",
       "</tr>\n",
       "<tr>\n",
       "  <th>trend</th>    <td>   -0.0002</td> <td> 3.68e-06</td> <td>  -63.417</td> <td> 0.000</td> <td>   -0.000</td> <td>   -0.000</td>\n",
       "</tr>\n",
       "<tr>\n",
       "  <th>month_1</th>  <td>    0.0688</td> <td>    0.012</td> <td>    5.669</td> <td> 0.000</td> <td>    0.045</td> <td>    0.093</td>\n",
       "</tr>\n",
       "<tr>\n",
       "  <th>month_2</th>  <td>    0.1370</td> <td>    0.012</td> <td>   11.009</td> <td> 0.000</td> <td>    0.113</td> <td>    0.161</td>\n",
       "</tr>\n",
       "<tr>\n",
       "  <th>month_3</th>  <td>    0.1575</td> <td>    0.012</td> <td>   12.759</td> <td> 0.000</td> <td>    0.133</td> <td>    0.182</td>\n",
       "</tr>\n",
       "<tr>\n",
       "  <th>month_4</th>  <td>    0.1787</td> <td>    0.013</td> <td>   14.246</td> <td> 0.000</td> <td>    0.154</td> <td>    0.203</td>\n",
       "</tr>\n",
       "<tr>\n",
       "  <th>month_5</th>  <td>    0.1826</td> <td>    0.012</td> <td>   14.647</td> <td> 0.000</td> <td>    0.158</td> <td>    0.207</td>\n",
       "</tr>\n",
       "<tr>\n",
       "  <th>month_6</th>  <td>    0.2198</td> <td>    0.012</td> <td>   17.709</td> <td> 0.000</td> <td>    0.195</td> <td>    0.244</td>\n",
       "</tr>\n",
       "<tr>\n",
       "  <th>month_7</th>  <td>    0.1815</td> <td>    0.012</td> <td>   14.629</td> <td> 0.000</td> <td>    0.157</td> <td>    0.206</td>\n",
       "</tr>\n",
       "<tr>\n",
       "  <th>month_8</th>  <td>    0.0923</td> <td>    0.012</td> <td>    7.520</td> <td> 0.000</td> <td>    0.068</td> <td>    0.116</td>\n",
       "</tr>\n",
       "<tr>\n",
       "  <th>month_9</th>  <td>   -0.0001</td> <td>    0.013</td> <td>   -0.011</td> <td> 0.991</td> <td>   -0.025</td> <td>    0.024</td>\n",
       "</tr>\n",
       "<tr>\n",
       "  <th>month_10</th> <td>   -0.0789</td> <td>    0.012</td> <td>   -6.408</td> <td> 0.000</td> <td>   -0.103</td> <td>   -0.055</td>\n",
       "</tr>\n",
       "<tr>\n",
       "  <th>month_11</th> <td>   -0.0618</td> <td>    0.013</td> <td>   -4.935</td> <td> 0.000</td> <td>   -0.086</td> <td>   -0.037</td>\n",
       "</tr>\n",
       "</table>\n",
       "<table class=\"simpletable\">\n",
       "<tr>\n",
       "  <th>Omnibus:</th>       <td>141.497</td> <th>  Durbin-Watson:     </th> <td>   0.122</td> \n",
       "</tr>\n",
       "<tr>\n",
       "  <th>Prob(Omnibus):</th> <td> 0.000</td>  <th>  Jarque-Bera (JB):  </th> <td> 551.206</td> \n",
       "</tr>\n",
       "<tr>\n",
       "  <th>Skew:</th>          <td> 0.060</td>  <th>  Prob(JB):          </th> <td>2.03e-120</td>\n",
       "</tr>\n",
       "<tr>\n",
       "  <th>Kurtosis:</th>      <td> 5.268</td>  <th>  Cond. No.          </th> <td>1.05e+05</td> \n",
       "</tr>\n",
       "</table><br/><br/>Notes:<br/>[1] Standard Errors assume that the covariance matrix of the errors is correctly specified.<br/>[2] The condition number is large, 1.05e+05. This might indicate that there are<br/>strong multicollinearity or other numerical problems."
      ],
      "text/plain": [
       "<class 'statsmodels.iolib.summary.Summary'>\n",
       "\"\"\"\n",
       "                            OLS Regression Results                            \n",
       "==============================================================================\n",
       "Dep. Variable:                      S   R-squared:                       0.979\n",
       "Model:                            OLS   Adj. R-squared:                  0.979\n",
       "Method:                 Least Squares   F-statistic:                     8532.\n",
       "Date:                Fri, 13 May 2022   Prob (F-statistic):               0.00\n",
       "Time:                        06:01:17   Log-Likelihood:                 1652.0\n",
       "No. Observations:                2565   AIC:                            -3274.\n",
       "Df Residuals:                    2550   BIC:                            -3186.\n",
       "Df Model:                          14                                         \n",
       "Covariance Type:            nonrobust                                         \n",
       "==============================================================================\n",
       "                 coef    std err          t      P>|t|      [0.025      0.975]\n",
       "------------------------------------------------------------------------------\n",
       "const          1.6775      0.029     57.663      0.000       1.620       1.735\n",
       "SM             0.0234   8.33e-05    280.623      0.000       0.023       0.024\n",
       "BO             0.0846      0.001    124.095      0.000       0.083       0.086\n",
       "trend         -0.0002   3.68e-06    -63.417      0.000      -0.000      -0.000\n",
       "month_1        0.0688      0.012      5.669      0.000       0.045       0.093\n",
       "month_2        0.1370      0.012     11.009      0.000       0.113       0.161\n",
       "month_3        0.1575      0.012     12.759      0.000       0.133       0.182\n",
       "month_4        0.1787      0.013     14.246      0.000       0.154       0.203\n",
       "month_5        0.1826      0.012     14.647      0.000       0.158       0.207\n",
       "month_6        0.2198      0.012     17.709      0.000       0.195       0.244\n",
       "month_7        0.1815      0.012     14.629      0.000       0.157       0.206\n",
       "month_8        0.0923      0.012      7.520      0.000       0.068       0.116\n",
       "month_9       -0.0001      0.013     -0.011      0.991      -0.025       0.024\n",
       "month_10      -0.0789      0.012     -6.408      0.000      -0.103      -0.055\n",
       "month_11      -0.0618      0.013     -4.935      0.000      -0.086      -0.037\n",
       "==============================================================================\n",
       "Omnibus:                      141.497   Durbin-Watson:                   0.122\n",
       "Prob(Omnibus):                  0.000   Jarque-Bera (JB):              551.206\n",
       "Skew:                           0.060   Prob(JB):                    2.03e-120\n",
       "Kurtosis:                       5.268   Cond. No.                     1.05e+05\n",
       "==============================================================================\n",
       "\n",
       "Notes:\n",
       "[1] Standard Errors assume that the covariance matrix of the errors is correctly specified.\n",
       "[2] The condition number is large, 1.05e+05. This might indicate that there are\n",
       "strong multicollinearity or other numerical problems.\n",
       "\"\"\""
      ]
     },
     "execution_count": 14,
     "metadata": {},
     "output_type": "execute_result"
    }
   ],
   "source": [
    "ols_results.summary()"
   ]
  },
  {
   "cell_type": "markdown",
   "id": "89d043d2",
   "metadata": {
    "papermill": {
     "duration": 0.040492,
     "end_time": "2022-05-13T06:01:17.856585",
     "exception": false,
     "start_time": "2022-05-13T06:01:17.816093",
     "status": "completed"
    },
    "tags": []
   },
   "source": [
    "For fun, let's run the same model but with more recent data of about the past 10 years."
   ]
  },
  {
   "cell_type": "code",
   "execution_count": 15,
   "id": "63de147a",
   "metadata": {
    "execution": {
     "iopub.execute_input": "2022-05-13T06:01:17.932105Z",
     "iopub.status.busy": "2022-05-13T06:01:17.931848Z",
     "iopub.status.idle": "2022-05-13T06:01:17.975521Z",
     "shell.execute_reply": "2022-05-13T06:01:17.974354Z"
    },
    "papermill": {
     "duration": 0.087951,
     "end_time": "2022-05-13T06:01:17.981721",
     "exception": false,
     "start_time": "2022-05-13T06:01:17.893770",
     "status": "completed"
    },
    "tags": []
   },
   "outputs": [],
   "source": [
    "ols_model = sm.OLS(ols_y.loc['2010':], \n",
    "                   ols_x.loc['2010':])\n",
    "ols_results = ols_model.fit()"
   ]
  },
  {
   "cell_type": "markdown",
   "id": "5918032a",
   "metadata": {
    "papermill": {
     "duration": 0.045354,
     "end_time": "2022-05-13T06:01:18.083790",
     "exception": false,
     "start_time": "2022-05-13T06:01:18.038436",
     "status": "completed"
    },
    "tags": []
   },
   "source": [
    "This suggests that there is still some seasonality but it became much weaker compared to the result above."
   ]
  },
  {
   "cell_type": "code",
   "execution_count": 16,
   "id": "e1418a5d",
   "metadata": {
    "execution": {
     "iopub.execute_input": "2022-05-13T06:01:18.176841Z",
     "iopub.status.busy": "2022-05-13T06:01:18.176451Z",
     "iopub.status.idle": "2022-05-13T06:01:18.290422Z",
     "shell.execute_reply": "2022-05-13T06:01:18.289687Z"
    },
    "papermill": {
     "duration": 0.163932,
     "end_time": "2022-05-13T06:01:18.292738",
     "exception": false,
     "start_time": "2022-05-13T06:01:18.128806",
     "status": "completed"
    },
    "tags": []
   },
   "outputs": [
    {
     "data": {
      "text/html": [
       "<table class=\"simpletable\">\n",
       "<caption>OLS Regression Results</caption>\n",
       "<tr>\n",
       "  <th>Dep. Variable:</th>            <td>S</td>        <th>  R-squared:         </th> <td>   0.985</td> \n",
       "</tr>\n",
       "<tr>\n",
       "  <th>Model:</th>                   <td>OLS</td>       <th>  Adj. R-squared:    </th> <td>   0.985</td> \n",
       "</tr>\n",
       "<tr>\n",
       "  <th>Method:</th>             <td>Least Squares</td>  <th>  F-statistic:       </th> <td>1.448e+04</td>\n",
       "</tr>\n",
       "<tr>\n",
       "  <th>Date:</th>             <td>Fri, 13 May 2022</td> <th>  Prob (F-statistic):</th>  <td>  0.00</td>  \n",
       "</tr>\n",
       "<tr>\n",
       "  <th>Time:</th>                 <td>06:01:18</td>     <th>  Log-Likelihood:    </th> <td> -599.62</td> \n",
       "</tr>\n",
       "<tr>\n",
       "  <th>No. Observations:</th>      <td>  3115</td>      <th>  AIC:               </th> <td>   1229.</td> \n",
       "</tr>\n",
       "<tr>\n",
       "  <th>Df Residuals:</th>          <td>  3100</td>      <th>  BIC:               </th> <td>   1320.</td> \n",
       "</tr>\n",
       "<tr>\n",
       "  <th>Df Model:</th>              <td>    14</td>      <th>                     </th>     <td> </td>    \n",
       "</tr>\n",
       "<tr>\n",
       "  <th>Covariance Type:</th>      <td>nonrobust</td>    <th>                     </th>     <td> </td>    \n",
       "</tr>\n",
       "</table>\n",
       "<table class=\"simpletable\">\n",
       "<tr>\n",
       "      <td></td>        <th>coef</th>     <th>std err</th>      <th>t</th>      <th>P>|t|</th>  <th>[0.025</th>    <th>0.975]</th>  \n",
       "</tr>\n",
       "<tr>\n",
       "  <th>const</th>    <td>    2.3843</td> <td>    0.095</td> <td>   25.033</td> <td> 0.000</td> <td>    2.198</td> <td>    2.571</td>\n",
       "</tr>\n",
       "<tr>\n",
       "  <th>SM</th>       <td>    0.0222</td> <td>    0.000</td> <td>  212.288</td> <td> 0.000</td> <td>    0.022</td> <td>    0.022</td>\n",
       "</tr>\n",
       "<tr>\n",
       "  <th>BO</th>       <td>    0.1112</td> <td>    0.001</td> <td>  210.407</td> <td> 0.000</td> <td>    0.110</td> <td>    0.112</td>\n",
       "</tr>\n",
       "<tr>\n",
       "  <th>trend</th>    <td>   -0.0002</td> <td> 5.93e-06</td> <td>  -39.807</td> <td> 0.000</td> <td>   -0.000</td> <td>   -0.000</td>\n",
       "</tr>\n",
       "<tr>\n",
       "  <th>month_1</th>  <td>    0.0283</td> <td>    0.026</td> <td>    1.094</td> <td> 0.274</td> <td>   -0.022</td> <td>    0.079</td>\n",
       "</tr>\n",
       "<tr>\n",
       "  <th>month_2</th>  <td>    0.0298</td> <td>    0.026</td> <td>    1.136</td> <td> 0.256</td> <td>   -0.022</td> <td>    0.081</td>\n",
       "</tr>\n",
       "<tr>\n",
       "  <th>month_3</th>  <td>    0.0330</td> <td>    0.025</td> <td>    1.302</td> <td> 0.193</td> <td>   -0.017</td> <td>    0.083</td>\n",
       "</tr>\n",
       "<tr>\n",
       "  <th>month_4</th>  <td>    0.0497</td> <td>    0.026</td> <td>    1.929</td> <td> 0.054</td> <td>   -0.001</td> <td>    0.100</td>\n",
       "</tr>\n",
       "<tr>\n",
       "  <th>month_5</th>  <td>    0.0072</td> <td>    0.026</td> <td>    0.278</td> <td> 0.781</td> <td>   -0.044</td> <td>    0.058</td>\n",
       "</tr>\n",
       "<tr>\n",
       "  <th>month_6</th>  <td>    0.0663</td> <td>    0.026</td> <td>    2.545</td> <td> 0.011</td> <td>    0.015</td> <td>    0.117</td>\n",
       "</tr>\n",
       "<tr>\n",
       "  <th>month_7</th>  <td>    0.0291</td> <td>    0.026</td> <td>    1.115</td> <td> 0.265</td> <td>   -0.022</td> <td>    0.080</td>\n",
       "</tr>\n",
       "<tr>\n",
       "  <th>month_8</th>  <td>   -0.0630</td> <td>    0.026</td> <td>   -2.439</td> <td> 0.015</td> <td>   -0.114</td> <td>   -0.012</td>\n",
       "</tr>\n",
       "<tr>\n",
       "  <th>month_9</th>  <td>    0.0509</td> <td>    0.026</td> <td>    1.933</td> <td> 0.053</td> <td>   -0.001</td> <td>    0.103</td>\n",
       "</tr>\n",
       "<tr>\n",
       "  <th>month_10</th> <td>   -0.0711</td> <td>    0.026</td> <td>   -2.752</td> <td> 0.006</td> <td>   -0.122</td> <td>   -0.020</td>\n",
       "</tr>\n",
       "<tr>\n",
       "  <th>month_11</th> <td>   -0.0584</td> <td>    0.026</td> <td>   -2.221</td> <td> 0.026</td> <td>   -0.110</td> <td>   -0.007</td>\n",
       "</tr>\n",
       "</table>\n",
       "<table class=\"simpletable\">\n",
       "<tr>\n",
       "  <th>Omnibus:</th>       <td>401.183</td> <th>  Durbin-Watson:     </th> <td>   0.040</td> \n",
       "</tr>\n",
       "<tr>\n",
       "  <th>Prob(Omnibus):</th> <td> 0.000</td>  <th>  Jarque-Bera (JB):  </th> <td> 583.658</td> \n",
       "</tr>\n",
       "<tr>\n",
       "  <th>Skew:</th>          <td>-0.956</td>  <th>  Prob(JB):          </th> <td>1.82e-127</td>\n",
       "</tr>\n",
       "<tr>\n",
       "  <th>Kurtosis:</th>      <td> 3.918</td>  <th>  Cond. No.          </th> <td>2.62e+05</td> \n",
       "</tr>\n",
       "</table><br/><br/>Notes:<br/>[1] Standard Errors assume that the covariance matrix of the errors is correctly specified.<br/>[2] The condition number is large, 2.62e+05. This might indicate that there are<br/>strong multicollinearity or other numerical problems."
      ],
      "text/plain": [
       "<class 'statsmodels.iolib.summary.Summary'>\n",
       "\"\"\"\n",
       "                            OLS Regression Results                            \n",
       "==============================================================================\n",
       "Dep. Variable:                      S   R-squared:                       0.985\n",
       "Model:                            OLS   Adj. R-squared:                  0.985\n",
       "Method:                 Least Squares   F-statistic:                 1.448e+04\n",
       "Date:                Fri, 13 May 2022   Prob (F-statistic):               0.00\n",
       "Time:                        06:01:18   Log-Likelihood:                -599.62\n",
       "No. Observations:                3115   AIC:                             1229.\n",
       "Df Residuals:                    3100   BIC:                             1320.\n",
       "Df Model:                          14                                         \n",
       "Covariance Type:            nonrobust                                         \n",
       "==============================================================================\n",
       "                 coef    std err          t      P>|t|      [0.025      0.975]\n",
       "------------------------------------------------------------------------------\n",
       "const          2.3843      0.095     25.033      0.000       2.198       2.571\n",
       "SM             0.0222      0.000    212.288      0.000       0.022       0.022\n",
       "BO             0.1112      0.001    210.407      0.000       0.110       0.112\n",
       "trend         -0.0002   5.93e-06    -39.807      0.000      -0.000      -0.000\n",
       "month_1        0.0283      0.026      1.094      0.274      -0.022       0.079\n",
       "month_2        0.0298      0.026      1.136      0.256      -0.022       0.081\n",
       "month_3        0.0330      0.025      1.302      0.193      -0.017       0.083\n",
       "month_4        0.0497      0.026      1.929      0.054      -0.001       0.100\n",
       "month_5        0.0072      0.026      0.278      0.781      -0.044       0.058\n",
       "month_6        0.0663      0.026      2.545      0.011       0.015       0.117\n",
       "month_7        0.0291      0.026      1.115      0.265      -0.022       0.080\n",
       "month_8       -0.0630      0.026     -2.439      0.015      -0.114      -0.012\n",
       "month_9        0.0509      0.026      1.933      0.053      -0.001       0.103\n",
       "month_10      -0.0711      0.026     -2.752      0.006      -0.122      -0.020\n",
       "month_11      -0.0584      0.026     -2.221      0.026      -0.110      -0.007\n",
       "==============================================================================\n",
       "Omnibus:                      401.183   Durbin-Watson:                   0.040\n",
       "Prob(Omnibus):                  0.000   Jarque-Bera (JB):              583.658\n",
       "Skew:                          -0.956   Prob(JB):                    1.82e-127\n",
       "Kurtosis:                       3.918   Cond. No.                     2.62e+05\n",
       "==============================================================================\n",
       "\n",
       "Notes:\n",
       "[1] Standard Errors assume that the covariance matrix of the errors is correctly specified.\n",
       "[2] The condition number is large, 2.62e+05. This might indicate that there are\n",
       "strong multicollinearity or other numerical problems.\n",
       "\"\"\""
      ]
     },
     "execution_count": 16,
     "metadata": {},
     "output_type": "execute_result"
    }
   ],
   "source": [
    "ols_results.summary()"
   ]
  },
  {
   "cell_type": "markdown",
   "id": "80e1848c",
   "metadata": {
    "papermill": {
     "duration": 0.038281,
     "end_time": "2022-05-13T06:01:18.376431",
     "exception": false,
     "start_time": "2022-05-13T06:01:18.338150",
     "status": "completed"
    },
    "tags": []
   },
   "source": [
    "# Trading strategy"
   ]
  },
  {
   "cell_type": "markdown",
   "id": "19fb7a4f",
   "metadata": {
    "papermill": {
     "duration": 0.038485,
     "end_time": "2022-05-13T06:01:18.457765",
     "exception": false,
     "start_time": "2022-05-13T06:01:18.419280",
     "status": "completed"
    },
    "tags": []
   },
   "source": [
    "## 1-1-1 crush spread\n",
    "\n",
    "As opposed to the one estimated by USDA, or the cointegratioin model estimated by the author, often in practice the crush spread is quoted and traded with 1-1-1 contract sizes. Simon 1999 uses the spread with 100 tons of meal, 60,000 pounds of oil and 5000 bushel of soybeans. \n",
    "\n",
    "Incidentally this weighting is roughly equal to the one listed on CME (https://www.cmegroup.com/education/courses/introduction-to-agriculture/grains-oilseeds/understanding-soybean-crush.html), which is the spread with 4,400 pounds (2.2 ton) of meal, 1,100 pounds of oil and 100 bushel of soybeans. "
   ]
  },
  {
   "cell_type": "code",
   "execution_count": 17,
   "id": "163dc4f1",
   "metadata": {
    "execution": {
     "iopub.execute_input": "2022-05-13T06:01:18.523639Z",
     "iopub.status.busy": "2022-05-13T06:01:18.523433Z",
     "iopub.status.idle": "2022-05-13T06:01:18.530800Z",
     "shell.execute_reply": "2022-05-13T06:01:18.530258Z"
    },
    "papermill": {
     "duration": 0.042386,
     "end_time": "2022-05-13T06:01:18.532581",
     "exception": false,
     "start_time": "2022-05-13T06:01:18.490195",
     "status": "completed"
    },
    "tags": []
   },
   "outputs": [],
   "source": [
    "crush_spread = (soybean_meal_price.squeeze().mul(100) + \n",
    "                soybean_oil_price.squeeze().mul(600) - \n",
    "                soybean_price.squeeze().mul(50))"
   ]
  },
  {
   "cell_type": "code",
   "execution_count": 18,
   "id": "36e718a8",
   "metadata": {
    "execution": {
     "iopub.execute_input": "2022-05-13T06:01:18.594311Z",
     "iopub.status.busy": "2022-05-13T06:01:18.594047Z",
     "iopub.status.idle": "2022-05-13T06:01:18.913743Z",
     "shell.execute_reply": "2022-05-13T06:01:18.913154Z"
    },
    "papermill": {
     "duration": 0.353339,
     "end_time": "2022-05-13T06:01:18.915442",
     "exception": false,
     "start_time": "2022-05-13T06:01:18.562103",
     "status": "completed"
    },
    "tags": []
   },
   "outputs": [
    {
     "data": {
      "image/png": "[encoded data removed]",
      "text/plain": [
       "<Figure size 576x360 with 1 Axes>"
      ]
     },
     "metadata": {
      "needs_background": "light"
     },
     "output_type": "display_data"
    }
   ],
   "source": [
    "fig, ax = plt.subplots(figsize=(8, 5))\n",
    "crush_spread.plot();\n",
    "ax.set_ylabel('Crush spread ($)')\n",
    "ax.set_title('1-1-1 soybean crush spread');"
   ]
  },
  {
   "cell_type": "markdown",
   "id": "a59106d1",
   "metadata": {
    "papermill": {
     "duration": 0.040105,
     "end_time": "2022-05-13T06:01:18.986975",
     "exception": false,
     "start_time": "2022-05-13T06:01:18.946870",
     "status": "completed"
    },
    "tags": []
   },
   "source": [
    "The spread appears mean-reverting around its 5-day moving average."
   ]
  },
  {
   "cell_type": "code",
   "execution_count": 19,
   "id": "e2740976",
   "metadata": {
    "execution": {
     "iopub.execute_input": "2022-05-13T06:01:19.080252Z",
     "iopub.status.busy": "2022-05-13T06:01:19.079768Z",
     "iopub.status.idle": "2022-05-13T06:01:19.365292Z",
     "shell.execute_reply": "2022-05-13T06:01:19.364759Z"
    },
    "papermill": {
     "duration": 0.334675,
     "end_time": "2022-05-13T06:01:19.367819",
     "exception": false,
     "start_time": "2022-05-13T06:01:19.033144",
     "status": "completed"
    },
    "tags": []
   },
   "outputs": [
    {
     "data": {
      "image/png": "[encoded data removed]",
      "text/plain": [
       "<Figure size 576x360 with 1 Axes>"
      ]
     },
     "metadata": {
      "needs_background": "light"
     },
     "output_type": "display_data"
    }
   ],
   "source": [
    "fig, ax = plt.subplots(figsize=(8, 5))\n",
    "(crush_spread - crush_spread.rolling(5).mean())['1985-01':'1995-02'].plot(ax=ax);\n",
    "ax.set_ylabel('Deviation from 5 day average')\n",
    "ax.set_title('Deviation from 5 day average (1-1-1 crush spread)');"
   ]
  },
  {
   "cell_type": "markdown",
   "id": "a97b79ea",
   "metadata": {
    "papermill": {
     "duration": 0.045963,
     "end_time": "2022-05-13T06:01:19.461111",
     "exception": false,
     "start_time": "2022-05-13T06:01:19.415148",
     "status": "completed"
    },
    "tags": []
   },
   "source": [
    "## Ref CME crush spread\n",
    "\n",
    "For reference, the crush spread defined by CME follows about the same trajectory."
   ]
  },
  {
   "cell_type": "code",
   "execution_count": 20,
   "id": "26501bf9",
   "metadata": {
    "execution": {
     "iopub.execute_input": "2022-05-13T06:01:19.556113Z",
     "iopub.status.busy": "2022-05-13T06:01:19.555845Z",
     "iopub.status.idle": "2022-05-13T06:01:19.563194Z",
     "shell.execute_reply": "2022-05-13T06:01:19.562547Z"
    },
    "papermill": {
     "duration": 0.057411,
     "end_time": "2022-05-13T06:01:19.565438",
     "exception": false,
     "start_time": "2022-05-13T06:01:19.508027",
     "status": "completed"
    },
    "tags": []
   },
   "outputs": [],
   "source": [
    "crush_spread_cme = (soybean_meal_price.squeeze().mul(2.2) + \n",
    "                    soybean_oil_price.squeeze().mul(11) - \n",
    "                    soybean_price.squeeze())"
   ]
  },
  {
   "cell_type": "code",
   "execution_count": 21,
   "id": "396db7c9",
   "metadata": {
    "execution": {
     "iopub.execute_input": "2022-05-13T06:01:19.634058Z",
     "iopub.status.busy": "2022-05-13T06:01:19.633852Z",
     "iopub.status.idle": "2022-05-13T06:01:19.873534Z",
     "shell.execute_reply": "2022-05-13T06:01:19.872997Z"
    },
    "papermill": {
     "duration": 0.274471,
     "end_time": "2022-05-13T06:01:19.875026",
     "exception": false,
     "start_time": "2022-05-13T06:01:19.600555",
     "status": "completed"
    },
    "tags": []
   },
   "outputs": [
    {
     "data": {
      "image/png": "[encoded data removed]",
      "text/plain": [
       "<Figure size 576x360 with 1 Axes>"
      ]
     },
     "metadata": {
      "needs_background": "light"
     },
     "output_type": "display_data"
    }
   ],
   "source": [
    "fig, ax = plt.subplots(figsize=(8, 5))\n",
    "crush_spread_cme.plot();\n",
    "ax.set_ylabel('Crush spread ($)')\n",
    "ax.set_title('Soybean crush spread (CME)');"
   ]
  },
  {
   "cell_type": "markdown",
   "id": "321f5ab3",
   "metadata": {
    "papermill": {
     "duration": 0.037651,
     "end_time": "2022-05-13T06:01:19.951241",
     "exception": false,
     "start_time": "2022-05-13T06:01:19.913590",
     "status": "completed"
    },
    "tags": []
   },
   "source": [
    "## Backtest\n",
    "\n",
    "In Simon 1999, the author mentions that the trading strategy is performed in-sample, which suggests that the long-run fair value model was fit with the entire data sample. Because of this, the strategy contains a look-ahead bias and **not a valid trading strategy**. A more appropriate simulation would be to use a walk-forward method such as rolling regression."
   ]
  },
  {
   "cell_type": "markdown",
   "id": "03a26d1a",
   "metadata": {
    "papermill": {
     "duration": 0.036316,
     "end_time": "2022-05-13T06:01:20.023264",
     "exception": false,
     "start_time": "2022-05-13T06:01:19.986948",
     "status": "completed"
    },
    "tags": []
   },
   "source": [
    "### Long-only without the fair value model"
   ]
  },
  {
   "cell_type": "markdown",
   "id": "599e3088",
   "metadata": {
    "papermill": {
     "duration": 0.037472,
     "end_time": "2022-05-13T06:01:20.098107",
     "exception": false,
     "start_time": "2022-05-13T06:01:20.060635",
     "status": "completed"
    },
    "tags": []
   },
   "source": [
    "One minor but important thing is that in `vivace`, usually futures returns are computed as if they are fully-collateralised. This means effectively, return $r_t$ is computed in the form of \n",
    "\n",
    "$$\n",
    "r_t = \\frac{F_t - F_{t-1}}{F_{t-1}}\n",
    "$$\n",
    "\n",
    "where $F_t$ is the futures price at time $t$.\n",
    "This is useful when we want to allocate say an equal amount of dollars across different instruments. However in this notebook, we want to decide the allocation based on the nunmber of  lots for each instrument. This is achieved by calculating returns as follows:\n",
    "\n",
    "$$\n",
    "r_t = \\frac{F_t - F_{t-1}}{c}\n",
    "$$\n",
    "\n",
    "where $c$ is the collateral amount. In the following, some arbitrary collateral of 10,000 is used. By doing this $r_t$ means the return relative to the collateral amount (10k).\n",
    "\n",
    "With this, let's run the backtest with only long-positions on crush spread are taken, without the fair value model."
   ]
  },
  {
   "cell_type": "code",
   "execution_count": 22,
   "id": "30f91a09",
   "metadata": {
    "execution": {
     "iopub.execute_input": "2022-05-13T06:01:20.169824Z",
     "iopub.status.busy": "2022-05-13T06:01:20.169480Z",
     "iopub.status.idle": "2022-05-13T06:01:20.175446Z",
     "shell.execute_reply": "2022-05-13T06:01:20.174851Z"
    },
    "papermill": {
     "duration": 0.041756,
     "end_time": "2022-05-13T06:01:20.177119",
     "exception": false,
     "start_time": "2022-05-13T06:01:20.135363",
     "status": "completed"
    },
    "tags": []
   },
   "outputs": [],
   "source": [
    "common_kwargs = dict(\n",
    "    start_date=datetime(1985, 1, 1),\n",
    "    end_date=datetime(1995, 2, 28),\n",
    "    strategy=Strategy.DELTA_ONE.value,\n",
    "    instrument=[\n",
    "        InstrumentDef('S', collateral=10000),\n",
    "        InstrumentDef('SM', collateral=10000),\n",
    "        InstrumentDef('BO', collateral=10000),\n",
    "    ],\n",
    "    weighting=Weighting.SUM.value,\n",
    "    log_level=logging.WARN,\n",
    ")"
   ]
  },
  {
   "cell_type": "code",
   "execution_count": 23,
   "id": "e260163e",
   "metadata": {
    "execution": {
     "iopub.execute_input": "2022-05-13T06:01:20.243540Z",
     "iopub.status.busy": "2022-05-13T06:01:20.243143Z",
     "iopub.status.idle": "2022-05-13T06:01:31.722063Z",
     "shell.execute_reply": "2022-05-13T06:01:31.721322Z"
    },
    "papermill": {
     "duration": 11.514107,
     "end_time": "2022-05-13T06:01:31.724056",
     "exception": false,
     "start_time": "2022-05-13T06:01:20.209949",
     "status": "completed"
    },
    "tags": []
   },
   "outputs": [],
   "source": [
    "engine = BacktestEngine(\n",
    "    signal=signal.CrushSpreadSimon1999InSample(\n",
    "        ma_lookback=5,\n",
    "        ma_entry=100,\n",
    "        ma_exit=100,\n",
    "        fair_value=False,\n",
    "        long_position=True,\n",
    "        short_position=False,\n",
    "    ),\n",
    "    **common_kwargs,\n",
    ")\n",
    "engine.run()"
   ]
  },
  {
   "cell_type": "code",
   "execution_count": 24,
   "id": "4d1d1b80",
   "metadata": {
    "execution": {
     "iopub.execute_input": "2022-05-13T06:01:31.788718Z",
     "iopub.status.busy": "2022-05-13T06:01:31.788410Z",
     "iopub.status.idle": "2022-05-13T06:01:34.059635Z",
     "shell.execute_reply": "2022-05-13T06:01:34.059026Z"
    },
    "papermill": {
     "duration": 2.305319,
     "end_time": "2022-05-13T06:01:34.061346",
     "exception": false,
     "start_time": "2022-05-13T06:01:31.756027",
     "status": "completed"
    },
    "tags": []
   },
   "outputs": [],
   "source": [
    "long_only_wo_fair_value = engine.calculate_equity_curve(calculate_net=False)"
   ]
  },
  {
   "cell_type": "markdown",
   "id": "323f2731",
   "metadata": {
    "papermill": {
     "duration": 0.034188,
     "end_time": "2022-05-13T06:01:34.126723",
     "exception": false,
     "start_time": "2022-05-13T06:01:34.092535",
     "status": "completed"
    },
    "tags": []
   },
   "source": [
    "With more strict entry rule."
   ]
  },
  {
   "cell_type": "code",
   "execution_count": 25,
   "id": "980dbab9",
   "metadata": {
    "execution": {
     "iopub.execute_input": "2022-05-13T06:01:34.193314Z",
     "iopub.status.busy": "2022-05-13T06:01:34.192779Z",
     "iopub.status.idle": "2022-05-13T06:01:44.060878Z",
     "shell.execute_reply": "2022-05-13T06:01:44.060292Z"
    },
    "papermill": {
     "duration": 9.903662,
     "end_time": "2022-05-13T06:01:44.063147",
     "exception": false,
     "start_time": "2022-05-13T06:01:34.159485",
     "status": "completed"
    },
    "tags": []
   },
   "outputs": [],
   "source": [
    "engine = BacktestEngine(\n",
    "    signal=signal.CrushSpreadSimon1999InSample(\n",
    "        ma_lookback=5,\n",
    "        ma_entry=300,\n",
    "        ma_exit=300,\n",
    "        fair_value=False,\n",
    "        long_position=True,\n",
    "        short_position=False,\n",
    "    ),\n",
    "    **common_kwargs,\n",
    ")\n",
    "engine.run()"
   ]
  },
  {
   "cell_type": "code",
   "execution_count": 26,
   "id": "06989ecf",
   "metadata": {
    "execution": {
     "iopub.execute_input": "2022-05-13T06:01:44.137022Z",
     "iopub.status.busy": "2022-05-13T06:01:44.136738Z",
     "iopub.status.idle": "2022-05-13T06:01:45.800609Z",
     "shell.execute_reply": "2022-05-13T06:01:45.799915Z"
    },
    "papermill": {
     "duration": 1.698256,
     "end_time": "2022-05-13T06:01:45.802874",
     "exception": false,
     "start_time": "2022-05-13T06:01:44.104618",
     "status": "completed"
    },
    "tags": []
   },
   "outputs": [],
   "source": [
    "long_only_wo_fair_value2 = engine.calculate_equity_curve(calculate_net=False)"
   ]
  },
  {
   "cell_type": "code",
   "execution_count": 27,
   "id": "f1c51431",
   "metadata": {
    "execution": {
     "iopub.execute_input": "2022-05-13T06:01:45.888904Z",
     "iopub.status.busy": "2022-05-13T06:01:45.888578Z",
     "iopub.status.idle": "2022-05-13T06:01:45.894715Z",
     "shell.execute_reply": "2022-05-13T06:01:45.894011Z"
    },
    "papermill": {
     "duration": 0.052836,
     "end_time": "2022-05-13T06:01:45.896866",
     "exception": false,
     "start_time": "2022-05-13T06:01:45.844030",
     "status": "completed"
    },
    "tags": []
   },
   "outputs": [],
   "source": [
    "levels1 = pd.concat((long_only_wo_fair_value.rename('LO: Entry threshold = $100'), \n",
    "                     long_only_wo_fair_value2.rename('LO: Entry threshold = $300')), axis=1)"
   ]
  },
  {
   "cell_type": "markdown",
   "id": "11a41c5a",
   "metadata": {
    "papermill": {
     "duration": 0.046286,
     "end_time": "2022-05-13T06:01:45.989336",
     "exception": false,
     "start_time": "2022-05-13T06:01:45.943050",
     "status": "completed"
    },
    "tags": []
   },
   "source": [
    "As reported, having more strict entry rule seems to improve the risk-adjusted returns."
   ]
  },
  {
   "cell_type": "code",
   "execution_count": 28,
   "id": "aa82b072",
   "metadata": {
    "execution": {
     "iopub.execute_input": "2022-05-13T06:01:46.063662Z",
     "iopub.status.busy": "2022-05-13T06:01:46.063313Z",
     "iopub.status.idle": "2022-05-13T06:01:46.780082Z",
     "shell.execute_reply": "2022-05-13T06:01:46.779310Z"
    },
    "papermill": {
     "duration": 0.751915,
     "end_time": "2022-05-13T06:01:46.782476",
     "exception": false,
     "start_time": "2022-05-13T06:01:46.030561",
     "status": "completed"
    },
    "tags": []
   },
   "outputs": [
    {
     "data": {
      "image/png": "[encoded data removed]",
      "text/plain": [
       "<Figure size 576x360 with 1 Axes>"
      ]
     },
     "metadata": {
      "needs_background": "light"
     },
     "output_type": "display_data"
    }
   ],
   "source": [
    "fig, ax = plt.subplots(figsize=(8, 5))\n",
    "levels1.plot(ax=ax, logy=True);\n",
    "ax.set_title('Crush spread mean-reversion\\n(Long-only, without fair value mode, Simon 1999)')\n",
    "ax.set_ylabel('Cumulative returns');"
   ]
  },
  {
   "cell_type": "code",
   "execution_count": 29,
   "id": "1dc15bb1",
   "metadata": {
    "execution": {
     "iopub.execute_input": "2022-05-13T06:01:46.858634Z",
     "iopub.status.busy": "2022-05-13T06:01:46.858291Z",
     "iopub.status.idle": "2022-05-13T06:01:46.922395Z",
     "shell.execute_reply": "2022-05-13T06:01:46.921574Z"
    },
    "papermill": {
     "duration": 0.099103,
     "end_time": "2022-05-13T06:01:46.924180",
     "exception": false,
     "start_time": "2022-05-13T06:01:46.825077",
     "status": "completed"
    },
    "tags": []
   },
   "outputs": [
    {
     "data": {
      "text/html": [
       "<div>\n",
       "<style scoped>\n",
       "    .dataframe tbody tr th:only-of-type {\n",
       "        vertical-align: middle;\n",
       "    }\n",
       "\n",
       "    .dataframe tbody tr th {\n",
       "        vertical-align: top;\n",
       "    }\n",
       "\n",
       "    .dataframe thead th {\n",
       "        text-align: right;\n",
       "    }\n",
       "</style>\n",
       "<table border=\"1\" class=\"dataframe\">\n",
       "  <thead>\n",
       "    <tr style=\"text-align: right;\">\n",
       "      <th></th>\n",
       "      <th>LO: Entry threshold = $100</th>\n",
       "      <th>LO: Entry threshold = $300</th>\n",
       "    </tr>\n",
       "  </thead>\n",
       "  <tbody>\n",
       "    <tr>\n",
       "      <th>CAGR</th>\n",
       "      <td>0.069739</td>\n",
       "      <td>0.072783</td>\n",
       "    </tr>\n",
       "    <tr>\n",
       "      <th>Annualised vol</th>\n",
       "      <td>0.199714</td>\n",
       "      <td>0.185037</td>\n",
       "    </tr>\n",
       "    <tr>\n",
       "      <th>Sharpe ratio</th>\n",
       "      <td>0.349191</td>\n",
       "      <td>0.393345</td>\n",
       "    </tr>\n",
       "    <tr>\n",
       "      <th>Max drawdown</th>\n",
       "      <td>0.450240</td>\n",
       "      <td>0.412393</td>\n",
       "    </tr>\n",
       "    <tr>\n",
       "      <th>Calmar ratio</th>\n",
       "      <td>0.154892</td>\n",
       "      <td>0.176491</td>\n",
       "    </tr>\n",
       "    <tr>\n",
       "      <th>Skewness</th>\n",
       "      <td>10.840016</td>\n",
       "      <td>10.190246</td>\n",
       "    </tr>\n",
       "    <tr>\n",
       "      <th>Kurtosis</th>\n",
       "      <td>319.000246</td>\n",
       "      <td>239.627881</td>\n",
       "    </tr>\n",
       "    <tr>\n",
       "      <th>Worst return</th>\n",
       "      <td>-0.084068</td>\n",
       "      <td>-0.080780</td>\n",
       "    </tr>\n",
       "    <tr>\n",
       "      <th>Worst 1d return</th>\n",
       "      <td>-0.084068</td>\n",
       "      <td>-0.080780</td>\n",
       "    </tr>\n",
       "    <tr>\n",
       "      <th>Worst 1w return</th>\n",
       "      <td>-0.115850</td>\n",
       "      <td>-0.111875</td>\n",
       "    </tr>\n",
       "    <tr>\n",
       "      <th>Worst 1m return</th>\n",
       "      <td>-0.120820</td>\n",
       "      <td>-0.119465</td>\n",
       "    </tr>\n",
       "  </tbody>\n",
       "</table>\n",
       "</div>"
      ],
      "text/plain": [
       "                 LO: Entry threshold = $100  LO: Entry threshold = $300\n",
       "CAGR                               0.069739                    0.072783\n",
       "Annualised vol                     0.199714                    0.185037\n",
       "Sharpe ratio                       0.349191                    0.393345\n",
       "Max drawdown                       0.450240                    0.412393\n",
       "Calmar ratio                       0.154892                    0.176491\n",
       "Skewness                          10.840016                   10.190246\n",
       "Kurtosis                         319.000246                  239.627881\n",
       "Worst return                      -0.084068                   -0.080780\n",
       "Worst 1d return                   -0.084068                   -0.080780\n",
       "Worst 1w return                   -0.115850                   -0.111875\n",
       "Worst 1m return                   -0.120820                   -0.119465"
      ]
     },
     "execution_count": 29,
     "metadata": {},
     "output_type": "execute_result"
    }
   ],
   "source": [
    "levels1.pipe(Performance).summary()"
   ]
  },
  {
   "cell_type": "markdown",
   "id": "3ba9196b",
   "metadata": {
    "papermill": {
     "duration": 0.032385,
     "end_time": "2022-05-13T06:01:46.994575",
     "exception": false,
     "start_time": "2022-05-13T06:01:46.962190",
     "status": "completed"
    },
    "tags": []
   },
   "source": [
    "### Long-only with the fair value model"
   ]
  },
  {
   "cell_type": "code",
   "execution_count": 30,
   "id": "da546299",
   "metadata": {
    "execution": {
     "iopub.execute_input": "2022-05-13T06:01:47.059185Z",
     "iopub.status.busy": "2022-05-13T06:01:47.058834Z",
     "iopub.status.idle": "2022-05-13T06:01:57.702355Z",
     "shell.execute_reply": "2022-05-13T06:01:57.701581Z"
    },
    "papermill": {
     "duration": 10.678096,
     "end_time": "2022-05-13T06:01:57.704253",
     "exception": false,
     "start_time": "2022-05-13T06:01:47.026157",
     "status": "completed"
    },
    "tags": []
   },
   "outputs": [],
   "source": [
    "engine = BacktestEngine(\n",
    "    signal=signal.CrushSpreadSimon1999InSample(\n",
    "        ma_lookback=5,\n",
    "        ma_entry=100,\n",
    "        ma_exit=100,\n",
    "        fair_value=True,\n",
    "        fair_value_entry=0,\n",
    "        long_position=True,\n",
    "        short_position=False,\n",
    "    ),\n",
    "    **common_kwargs,\n",
    ")\n",
    "engine.run()"
   ]
  },
  {
   "cell_type": "code",
   "execution_count": 31,
   "id": "94204706",
   "metadata": {
    "execution": {
     "iopub.execute_input": "2022-05-13T06:01:57.778916Z",
     "iopub.status.busy": "2022-05-13T06:01:57.778644Z",
     "iopub.status.idle": "2022-05-13T06:01:59.393796Z",
     "shell.execute_reply": "2022-05-13T06:01:59.393162Z"
    },
    "papermill": {
     "duration": 1.654725,
     "end_time": "2022-05-13T06:01:59.395789",
     "exception": false,
     "start_time": "2022-05-13T06:01:57.741064",
     "status": "completed"
    },
    "tags": []
   },
   "outputs": [],
   "source": [
    "long_only_with_fair_value = engine.calculate_equity_curve(calculate_net=False)"
   ]
  },
  {
   "cell_type": "code",
   "execution_count": 32,
   "id": "f8814547",
   "metadata": {
    "execution": {
     "iopub.execute_input": "2022-05-13T06:01:59.474545Z",
     "iopub.status.busy": "2022-05-13T06:01:59.474085Z",
     "iopub.status.idle": "2022-05-13T06:02:09.828630Z",
     "shell.execute_reply": "2022-05-13T06:02:09.827980Z"
    },
    "papermill": {
     "duration": 10.397336,
     "end_time": "2022-05-13T06:02:09.831114",
     "exception": false,
     "start_time": "2022-05-13T06:01:59.433778",
     "status": "completed"
    },
    "tags": []
   },
   "outputs": [],
   "source": [
    "engine = BacktestEngine(\n",
    "    signal=signal.CrushSpreadSimon1999InSample(\n",
    "        ma_lookback=5,\n",
    "        ma_entry=100,\n",
    "        ma_exit=100,\n",
    "        fair_value=True,\n",
    "        fair_value_entry=0.1,\n",
    "        long_position=True,\n",
    "        short_position=False,\n",
    "    ),\n",
    "    **common_kwargs,\n",
    ")\n",
    "engine.run()"
   ]
  },
  {
   "cell_type": "code",
   "execution_count": 33,
   "id": "e029ef0c",
   "metadata": {
    "execution": {
     "iopub.execute_input": "2022-05-13T06:02:09.929396Z",
     "iopub.status.busy": "2022-05-13T06:02:09.928630Z",
     "iopub.status.idle": "2022-05-13T06:02:11.782970Z",
     "shell.execute_reply": "2022-05-13T06:02:11.782205Z"
    },
    "papermill": {
     "duration": 1.906011,
     "end_time": "2022-05-13T06:02:11.785578",
     "exception": false,
     "start_time": "2022-05-13T06:02:09.879567",
     "status": "completed"
    },
    "tags": []
   },
   "outputs": [],
   "source": [
    "long_only_with_fair_value2 = engine.calculate_equity_curve(calculate_net=False)"
   ]
  },
  {
   "cell_type": "code",
   "execution_count": 34,
   "id": "5269fdc6",
   "metadata": {
    "execution": {
     "iopub.execute_input": "2022-05-13T06:02:11.876135Z",
     "iopub.status.busy": "2022-05-13T06:02:11.875541Z",
     "iopub.status.idle": "2022-05-13T06:02:21.629520Z",
     "shell.execute_reply": "2022-05-13T06:02:21.628657Z"
    },
    "papermill": {
     "duration": 9.799921,
     "end_time": "2022-05-13T06:02:21.631843",
     "exception": false,
     "start_time": "2022-05-13T06:02:11.831922",
     "status": "completed"
    },
    "tags": []
   },
   "outputs": [],
   "source": [
    "engine = BacktestEngine(\n",
    "    signal=signal.CrushSpreadSimon1999InSample(\n",
    "        ma_lookback=5,\n",
    "        ma_entry=100,\n",
    "        ma_exit=100,\n",
    "        fair_value=True,\n",
    "        fair_value_entry=0.2,\n",
    "        long_position=True,\n",
    "        short_position=False,\n",
    "    ),\n",
    "    **common_kwargs,\n",
    ")\n",
    "engine.run()"
   ]
  },
  {
   "cell_type": "code",
   "execution_count": 35,
   "id": "70040923",
   "metadata": {
    "execution": {
     "iopub.execute_input": "2022-05-13T06:02:21.698389Z",
     "iopub.status.busy": "2022-05-13T06:02:21.698045Z",
     "iopub.status.idle": "2022-05-13T06:02:23.251682Z",
     "shell.execute_reply": "2022-05-13T06:02:23.250904Z"
    },
    "papermill": {
     "duration": 1.590086,
     "end_time": "2022-05-13T06:02:23.253537",
     "exception": false,
     "start_time": "2022-05-13T06:02:21.663451",
     "status": "completed"
    },
    "tags": []
   },
   "outputs": [],
   "source": [
    "long_only_with_fair_value3 = engine.calculate_equity_curve(calculate_net=False)"
   ]
  },
  {
   "cell_type": "code",
   "execution_count": 36,
   "id": "a3be2c20",
   "metadata": {
    "execution": {
     "iopub.execute_input": "2022-05-13T06:02:23.318697Z",
     "iopub.status.busy": "2022-05-13T06:02:23.318354Z",
     "iopub.status.idle": "2022-05-13T06:02:23.325214Z",
     "shell.execute_reply": "2022-05-13T06:02:23.324531Z"
    },
    "papermill": {
     "duration": 0.040986,
     "end_time": "2022-05-13T06:02:23.326874",
     "exception": false,
     "start_time": "2022-05-13T06:02:23.285888",
     "status": "completed"
    },
    "tags": []
   },
   "outputs": [],
   "source": [
    "levels2 = pd.concat((long_only_with_fair_value.rename('LO: MA entry = $100, FV entry = 0.0'), \n",
    "                     long_only_with_fair_value2.rename('LO: MA entry = $100, FV entry = 0.1'),\n",
    "                     long_only_with_fair_value3.rename('LO: MA entry = $100, FV entry = 0.2'),), axis=1)"
   ]
  },
  {
   "cell_type": "markdown",
   "id": "6bb913ed",
   "metadata": {
    "papermill": {
     "duration": 0.042289,
     "end_time": "2022-05-13T06:02:23.413811",
     "exception": false,
     "start_time": "2022-05-13T06:02:23.371522",
     "status": "completed"
    },
    "tags": []
   },
   "source": [
    "The author tests the fair value threshold of 0.2, however in our analysis this appears to be too strict and the performance is mainly coming from the one-off event in 1988. This suggests that the strategy is sensitive to this parameter and needs to be chosen carefully."
   ]
  },
  {
   "cell_type": "code",
   "execution_count": 37,
   "id": "8f229d16",
   "metadata": {
    "execution": {
     "iopub.execute_input": "2022-05-13T06:02:23.503717Z",
     "iopub.status.busy": "2022-05-13T06:02:23.503278Z",
     "iopub.status.idle": "2022-05-13T06:02:23.983527Z",
     "shell.execute_reply": "2022-05-13T06:02:23.982634Z"
    },
    "papermill": {
     "duration": 0.527377,
     "end_time": "2022-05-13T06:02:23.985292",
     "exception": false,
     "start_time": "2022-05-13T06:02:23.457915",
     "status": "completed"
    },
    "tags": []
   },
   "outputs": [
    {
     "data": {
      "image/png": "[encoded data removed]",
      "text/plain": [
       "<Figure size 576x360 with 1 Axes>"
      ]
     },
     "metadata": {
      "needs_background": "light"
     },
     "output_type": "display_data"
    }
   ],
   "source": [
    "fig, ax = plt.subplots(figsize=(8, 5))\n",
    "levels2.plot(ax=ax, logy=True);\n",
    "ax.set_title('Crush spread mean-reversion\\n(Long-only, with fair value mode, Simon 1999)')\n",
    "ax.set_ylabel('Cumulative returns');"
   ]
  },
  {
   "cell_type": "code",
   "execution_count": 38,
   "id": "98bc8b33",
   "metadata": {
    "execution": {
     "iopub.execute_input": "2022-05-13T06:02:24.071320Z",
     "iopub.status.busy": "2022-05-13T06:02:24.071032Z",
     "iopub.status.idle": "2022-05-13T06:02:24.112389Z",
     "shell.execute_reply": "2022-05-13T06:02:24.111754Z"
    },
    "papermill": {
     "duration": 0.086586,
     "end_time": "2022-05-13T06:02:24.114418",
     "exception": false,
     "start_time": "2022-05-13T06:02:24.027832",
     "status": "completed"
    },
    "tags": []
   },
   "outputs": [
    {
     "data": {
      "text/html": [
       "<div>\n",
       "<style scoped>\n",
       "    .dataframe tbody tr th:only-of-type {\n",
       "        vertical-align: middle;\n",
       "    }\n",
       "\n",
       "    .dataframe tbody tr th {\n",
       "        vertical-align: top;\n",
       "    }\n",
       "\n",
       "    .dataframe thead th {\n",
       "        text-align: right;\n",
       "    }\n",
       "</style>\n",
       "<table border=\"1\" class=\"dataframe\">\n",
       "  <thead>\n",
       "    <tr style=\"text-align: right;\">\n",
       "      <th></th>\n",
       "      <th>LO: MA entry = $100, FV entry = 0.0</th>\n",
       "      <th>LO: MA entry = $100, FV entry = 0.1</th>\n",
       "      <th>LO: MA entry = $100, FV entry = 0.2</th>\n",
       "    </tr>\n",
       "  </thead>\n",
       "  <tbody>\n",
       "    <tr>\n",
       "      <th>CAGR</th>\n",
       "      <td>0.069365</td>\n",
       "      <td>0.044459</td>\n",
       "      <td>0.035756</td>\n",
       "    </tr>\n",
       "    <tr>\n",
       "      <th>Annualised vol</th>\n",
       "      <td>0.146761</td>\n",
       "      <td>0.152547</td>\n",
       "      <td>0.127055</td>\n",
       "    </tr>\n",
       "    <tr>\n",
       "      <th>Sharpe ratio</th>\n",
       "      <td>0.472643</td>\n",
       "      <td>0.291448</td>\n",
       "      <td>0.281420</td>\n",
       "    </tr>\n",
       "    <tr>\n",
       "      <th>Max drawdown</th>\n",
       "      <td>0.303265</td>\n",
       "      <td>0.291401</td>\n",
       "      <td>0.155524</td>\n",
       "    </tr>\n",
       "    <tr>\n",
       "      <th>Calmar ratio</th>\n",
       "      <td>0.228729</td>\n",
       "      <td>0.152571</td>\n",
       "      <td>0.229905</td>\n",
       "    </tr>\n",
       "    <tr>\n",
       "      <th>Skewness</th>\n",
       "      <td>13.922854</td>\n",
       "      <td>19.993458</td>\n",
       "      <td>27.311606</td>\n",
       "    </tr>\n",
       "    <tr>\n",
       "      <th>Kurtosis</th>\n",
       "      <td>432.463887</td>\n",
       "      <td>690.302367</td>\n",
       "      <td>1072.661646</td>\n",
       "    </tr>\n",
       "    <tr>\n",
       "      <th>Worst return</th>\n",
       "      <td>-0.067862</td>\n",
       "      <td>-0.078377</td>\n",
       "      <td>-0.073372</td>\n",
       "    </tr>\n",
       "    <tr>\n",
       "      <th>Worst 1d return</th>\n",
       "      <td>-0.067862</td>\n",
       "      <td>-0.078377</td>\n",
       "      <td>-0.073372</td>\n",
       "    </tr>\n",
       "    <tr>\n",
       "      <th>Worst 1w return</th>\n",
       "      <td>-0.054660</td>\n",
       "      <td>-0.061231</td>\n",
       "      <td>-0.049791</td>\n",
       "    </tr>\n",
       "    <tr>\n",
       "      <th>Worst 1m return</th>\n",
       "      <td>-0.111347</td>\n",
       "      <td>-0.123603</td>\n",
       "      <td>-0.085998</td>\n",
       "    </tr>\n",
       "  </tbody>\n",
       "</table>\n",
       "</div>"
      ],
      "text/plain": [
       "                 LO: MA entry = $100, FV entry = 0.0  \\\n",
       "CAGR                                        0.069365   \n",
       "Annualised vol                              0.146761   \n",
       "Sharpe ratio                                0.472643   \n",
       "Max drawdown                                0.303265   \n",
       "Calmar ratio                                0.228729   \n",
       "Skewness                                   13.922854   \n",
       "Kurtosis                                  432.463887   \n",
       "Worst return                               -0.067862   \n",
       "Worst 1d return                            -0.067862   \n",
       "Worst 1w return                            -0.054660   \n",
       "Worst 1m return                            -0.111347   \n",
       "\n",
       "                 LO: MA entry = $100, FV entry = 0.1  \\\n",
       "CAGR                                        0.044459   \n",
       "Annualised vol                              0.152547   \n",
       "Sharpe ratio                                0.291448   \n",
       "Max drawdown                                0.291401   \n",
       "Calmar ratio                                0.152571   \n",
       "Skewness                                   19.993458   \n",
       "Kurtosis                                  690.302367   \n",
       "Worst return                               -0.078377   \n",
       "Worst 1d return                            -0.078377   \n",
       "Worst 1w return                            -0.061231   \n",
       "Worst 1m return                            -0.123603   \n",
       "\n",
       "                 LO: MA entry = $100, FV entry = 0.2  \n",
       "CAGR                                        0.035756  \n",
       "Annualised vol                              0.127055  \n",
       "Sharpe ratio                                0.281420  \n",
       "Max drawdown                                0.155524  \n",
       "Calmar ratio                                0.229905  \n",
       "Skewness                                   27.311606  \n",
       "Kurtosis                                 1072.661646  \n",
       "Worst return                               -0.073372  \n",
       "Worst 1d return                            -0.073372  \n",
       "Worst 1w return                            -0.049791  \n",
       "Worst 1m return                            -0.085998  "
      ]
     },
     "execution_count": 38,
     "metadata": {},
     "output_type": "execute_result"
    }
   ],
   "source": [
    "levels2.pipe(Performance).summary()"
   ]
  },
  {
   "cell_type": "markdown",
   "id": "51ceac5e",
   "metadata": {
    "papermill": {
     "duration": 0.035319,
     "end_time": "2022-05-13T06:02:24.190134",
     "exception": false,
     "start_time": "2022-05-13T06:02:24.154815",
     "status": "completed"
    },
    "tags": []
   },
   "source": [
    "### Short-only without the fair value model\n",
    "\n",
    "Interestingly, the short-only strategy (short SM, BO and long S) shows better risk-adjusted performance during the same period."
   ]
  },
  {
   "cell_type": "code",
   "execution_count": 39,
   "id": "3780cca2",
   "metadata": {
    "execution": {
     "iopub.execute_input": "2022-05-13T06:02:24.275360Z",
     "iopub.status.busy": "2022-05-13T06:02:24.275022Z",
     "iopub.status.idle": "2022-05-13T06:02:33.994408Z",
     "shell.execute_reply": "2022-05-13T06:02:33.993654Z"
    },
    "papermill": {
     "duration": 9.764575,
     "end_time": "2022-05-13T06:02:33.996354",
     "exception": false,
     "start_time": "2022-05-13T06:02:24.231779",
     "status": "completed"
    },
    "tags": []
   },
   "outputs": [],
   "source": [
    "engine = BacktestEngine(\n",
    "    signal=signal.CrushSpreadSimon1999InSample(\n",
    "        ma_lookback=5,\n",
    "        ma_entry=100,\n",
    "        ma_exit=100,\n",
    "        fair_value=False,\n",
    "        long_position=False,\n",
    "        short_position=True,\n",
    "    ),\n",
    "    **common_kwargs,\n",
    ")\n",
    "engine.run()"
   ]
  },
  {
   "cell_type": "code",
   "execution_count": 40,
   "id": "16a78383",
   "metadata": {
    "execution": {
     "iopub.execute_input": "2022-05-13T06:02:34.085837Z",
     "iopub.status.busy": "2022-05-13T06:02:34.085575Z",
     "iopub.status.idle": "2022-05-13T06:02:35.708798Z",
     "shell.execute_reply": "2022-05-13T06:02:35.708109Z"
    },
    "papermill": {
     "duration": 1.671758,
     "end_time": "2022-05-13T06:02:35.710794",
     "exception": false,
     "start_time": "2022-05-13T06:02:34.039036",
     "status": "completed"
    },
    "tags": []
   },
   "outputs": [],
   "source": [
    "short_only_wo_fair_value = engine.calculate_equity_curve(calculate_net=False)"
   ]
  },
  {
   "cell_type": "code",
   "execution_count": 41,
   "id": "8f591d81",
   "metadata": {
    "execution": {
     "iopub.execute_input": "2022-05-13T06:02:35.779994Z",
     "iopub.status.busy": "2022-05-13T06:02:35.779796Z",
     "iopub.status.idle": "2022-05-13T06:02:45.545977Z",
     "shell.execute_reply": "2022-05-13T06:02:45.545188Z"
    },
    "papermill": {
     "duration": 9.802897,
     "end_time": "2022-05-13T06:02:45.548001",
     "exception": false,
     "start_time": "2022-05-13T06:02:35.745104",
     "status": "completed"
    },
    "tags": []
   },
   "outputs": [],
   "source": [
    "engine = BacktestEngine(\n",
    "    signal=signal.CrushSpreadSimon1999InSample(\n",
    "        ma_lookback=5,\n",
    "        ma_entry=300,\n",
    "        ma_exit=300,\n",
    "        fair_value=False,\n",
    "        long_position=False,\n",
    "        short_position=True,\n",
    "    ),\n",
    "    **common_kwargs,\n",
    ")\n",
    "engine.run()"
   ]
  },
  {
   "cell_type": "code",
   "execution_count": 42,
   "id": "582d05d2",
   "metadata": {
    "execution": {
     "iopub.execute_input": "2022-05-13T06:02:45.625133Z",
     "iopub.status.busy": "2022-05-13T06:02:45.624779Z",
     "iopub.status.idle": "2022-05-13T06:02:47.131688Z",
     "shell.execute_reply": "2022-05-13T06:02:47.131159Z"
    },
    "papermill": {
     "duration": 1.548593,
     "end_time": "2022-05-13T06:02:47.133752",
     "exception": false,
     "start_time": "2022-05-13T06:02:45.585159",
     "status": "completed"
    },
    "tags": []
   },
   "outputs": [],
   "source": [
    "short_only_wo_fair_value2 = engine.calculate_equity_curve(calculate_net=False)"
   ]
  },
  {
   "cell_type": "code",
   "execution_count": 43,
   "id": "9ad5768a",
   "metadata": {
    "execution": {
     "iopub.execute_input": "2022-05-13T06:02:47.218938Z",
     "iopub.status.busy": "2022-05-13T06:02:47.218585Z",
     "iopub.status.idle": "2022-05-13T06:02:47.223876Z",
     "shell.execute_reply": "2022-05-13T06:02:47.223307Z"
    },
    "papermill": {
     "duration": 0.049863,
     "end_time": "2022-05-13T06:02:47.225392",
     "exception": false,
     "start_time": "2022-05-13T06:02:47.175529",
     "status": "completed"
    },
    "tags": []
   },
   "outputs": [],
   "source": [
    "levels3 = pd.concat((short_only_wo_fair_value.rename('SO: Entry threshold = $100'), \n",
    "                     short_only_wo_fair_value2.rename('SO: Entry threshold = $300')), axis=1)"
   ]
  },
  {
   "cell_type": "code",
   "execution_count": 44,
   "id": "5dff60cb",
   "metadata": {
    "execution": {
     "iopub.execute_input": "2022-05-13T06:02:47.293478Z",
     "iopub.status.busy": "2022-05-13T06:02:47.292942Z",
     "iopub.status.idle": "2022-05-13T06:02:47.753799Z",
     "shell.execute_reply": "2022-05-13T06:02:47.753040Z"
    },
    "papermill": {
     "duration": 0.497,
     "end_time": "2022-05-13T06:02:47.755603",
     "exception": false,
     "start_time": "2022-05-13T06:02:47.258603",
     "status": "completed"
    },
    "tags": []
   },
   "outputs": [
    {
     "data": {
      "image/png": "[encoded data removed]",
      "text/plain": [
       "<Figure size 576x360 with 1 Axes>"
      ]
     },
     "metadata": {
      "needs_background": "light"
     },
     "output_type": "display_data"
    }
   ],
   "source": [
    "fig, ax = plt.subplots(figsize=(8, 5))\n",
    "levels3.plot(ax=ax, logy=True);\n",
    "ax.set_title('Crush spread mean-reversion\\n(Short-only, without fair value mode, Simon 1999)')\n",
    "ax.set_ylabel('Cumulative returns');"
   ]
  },
  {
   "cell_type": "code",
   "execution_count": 45,
   "id": "73545db4",
   "metadata": {
    "execution": {
     "iopub.execute_input": "2022-05-13T06:02:47.823092Z",
     "iopub.status.busy": "2022-05-13T06:02:47.822895Z",
     "iopub.status.idle": "2022-05-13T06:02:47.864282Z",
     "shell.execute_reply": "2022-05-13T06:02:47.863799Z"
    },
    "papermill": {
     "duration": 0.076983,
     "end_time": "2022-05-13T06:02:47.865988",
     "exception": false,
     "start_time": "2022-05-13T06:02:47.789005",
     "status": "completed"
    },
    "tags": []
   },
   "outputs": [
    {
     "data": {
      "text/html": [
       "<div>\n",
       "<style scoped>\n",
       "    .dataframe tbody tr th:only-of-type {\n",
       "        vertical-align: middle;\n",
       "    }\n",
       "\n",
       "    .dataframe tbody tr th {\n",
       "        vertical-align: top;\n",
       "    }\n",
       "\n",
       "    .dataframe thead th {\n",
       "        text-align: right;\n",
       "    }\n",
       "</style>\n",
       "<table border=\"1\" class=\"dataframe\">\n",
       "  <thead>\n",
       "    <tr style=\"text-align: right;\">\n",
       "      <th></th>\n",
       "      <th>SO: Entry threshold = $100</th>\n",
       "      <th>SO: Entry threshold = $300</th>\n",
       "    </tr>\n",
       "  </thead>\n",
       "  <tbody>\n",
       "    <tr>\n",
       "      <th>CAGR</th>\n",
       "      <td>0.033803</td>\n",
       "      <td>0.042297</td>\n",
       "    </tr>\n",
       "    <tr>\n",
       "      <th>Annualised vol</th>\n",
       "      <td>0.140158</td>\n",
       "      <td>0.069037</td>\n",
       "    </tr>\n",
       "    <tr>\n",
       "      <th>Sharpe ratio</th>\n",
       "      <td>0.241177</td>\n",
       "      <td>0.612677</td>\n",
       "    </tr>\n",
       "    <tr>\n",
       "      <th>Max drawdown</th>\n",
       "      <td>0.301009</td>\n",
       "      <td>0.103257</td>\n",
       "    </tr>\n",
       "    <tr>\n",
       "      <th>Calmar ratio</th>\n",
       "      <td>0.112299</td>\n",
       "      <td>0.409630</td>\n",
       "    </tr>\n",
       "    <tr>\n",
       "      <th>Skewness</th>\n",
       "      <td>0.296796</td>\n",
       "      <td>14.004007</td>\n",
       "    </tr>\n",
       "    <tr>\n",
       "      <th>Kurtosis</th>\n",
       "      <td>186.928429</td>\n",
       "      <td>355.269614</td>\n",
       "    </tr>\n",
       "    <tr>\n",
       "      <th>Worst return</th>\n",
       "      <td>-0.196615</td>\n",
       "      <td>-0.041517</td>\n",
       "    </tr>\n",
       "    <tr>\n",
       "      <th>Worst 1d return</th>\n",
       "      <td>-0.196615</td>\n",
       "      <td>-0.041517</td>\n",
       "    </tr>\n",
       "    <tr>\n",
       "      <th>Worst 1w return</th>\n",
       "      <td>-0.100672</td>\n",
       "      <td>-0.041423</td>\n",
       "    </tr>\n",
       "    <tr>\n",
       "      <th>Worst 1m return</th>\n",
       "      <td>-0.105223</td>\n",
       "      <td>-0.041423</td>\n",
       "    </tr>\n",
       "  </tbody>\n",
       "</table>\n",
       "</div>"
      ],
      "text/plain": [
       "                 SO: Entry threshold = $100  SO: Entry threshold = $300\n",
       "CAGR                               0.033803                    0.042297\n",
       "Annualised vol                     0.140158                    0.069037\n",
       "Sharpe ratio                       0.241177                    0.612677\n",
       "Max drawdown                       0.301009                    0.103257\n",
       "Calmar ratio                       0.112299                    0.409630\n",
       "Skewness                           0.296796                   14.004007\n",
       "Kurtosis                         186.928429                  355.269614\n",
       "Worst return                      -0.196615                   -0.041517\n",
       "Worst 1d return                   -0.196615                   -0.041517\n",
       "Worst 1w return                   -0.100672                   -0.041423\n",
       "Worst 1m return                   -0.105223                   -0.041423"
      ]
     },
     "execution_count": 45,
     "metadata": {},
     "output_type": "execute_result"
    }
   ],
   "source": [
    "levels3.pipe(Performance).summary()"
   ]
  },
  {
   "cell_type": "markdown",
   "id": "64136d01",
   "metadata": {
    "papermill": {
     "duration": 0.034694,
     "end_time": "2022-05-13T06:02:47.937449",
     "exception": false,
     "start_time": "2022-05-13T06:02:47.902755",
     "status": "completed"
    },
    "tags": []
   },
   "source": [
    "### Short-only with the fair value model"
   ]
  },
  {
   "cell_type": "code",
   "execution_count": 46,
   "id": "8e18dda3",
   "metadata": {
    "execution": {
     "iopub.execute_input": "2022-05-13T06:02:48.009994Z",
     "iopub.status.busy": "2022-05-13T06:02:48.009729Z",
     "iopub.status.idle": "2022-05-13T06:02:57.509358Z",
     "shell.execute_reply": "2022-05-13T06:02:57.508690Z"
    },
    "papermill": {
     "duration": 9.540166,
     "end_time": "2022-05-13T06:02:57.511233",
     "exception": false,
     "start_time": "2022-05-13T06:02:47.971067",
     "status": "completed"
    },
    "tags": []
   },
   "outputs": [],
   "source": [
    "engine = BacktestEngine(\n",
    "    signal=signal.CrushSpreadSimon1999InSample(\n",
    "        ma_lookback=5,\n",
    "        ma_entry=100,\n",
    "        ma_exit=100,\n",
    "        fair_value=True,\n",
    "        fair_value_entry=0,\n",
    "        long_position=False,\n",
    "        short_position=True,\n",
    "    ),\n",
    "    **common_kwargs,\n",
    ")\n",
    "engine.run()"
   ]
  },
  {
   "cell_type": "code",
   "execution_count": 47,
   "id": "021d7621",
   "metadata": {
    "execution": {
     "iopub.execute_input": "2022-05-13T06:02:57.583709Z",
     "iopub.status.busy": "2022-05-13T06:02:57.583485Z",
     "iopub.status.idle": "2022-05-13T06:02:59.346797Z",
     "shell.execute_reply": "2022-05-13T06:02:59.346152Z"
    },
    "papermill": {
     "duration": 1.80198,
     "end_time": "2022-05-13T06:02:59.349009",
     "exception": false,
     "start_time": "2022-05-13T06:02:57.547029",
     "status": "completed"
    },
    "tags": []
   },
   "outputs": [],
   "source": [
    "short_only_with_fair_value = engine.calculate_equity_curve(calculate_net=False)"
   ]
  },
  {
   "cell_type": "code",
   "execution_count": 48,
   "id": "098b9803",
   "metadata": {
    "execution": {
     "iopub.execute_input": "2022-05-13T06:02:59.444171Z",
     "iopub.status.busy": "2022-05-13T06:02:59.443823Z",
     "iopub.status.idle": "2022-05-13T06:03:20.293361Z",
     "shell.execute_reply": "2022-05-13T06:03:20.292833Z"
    },
    "papermill": {
     "duration": 20.89911,
     "end_time": "2022-05-13T06:03:20.295234",
     "exception": false,
     "start_time": "2022-05-13T06:02:59.396124",
     "status": "completed"
    },
    "tags": []
   },
   "outputs": [],
   "source": [
    "engine = BacktestEngine(\n",
    "    signal=signal.CrushSpreadSimon1999InSample(\n",
    "        ma_lookback=5,\n",
    "        ma_entry=100,\n",
    "        ma_exit=100,\n",
    "        fair_value=True,\n",
    "        fair_value_entry=0.1,\n",
    "        long_position=False,\n",
    "        short_position=True,\n",
    "    ),\n",
    "    **common_kwargs,\n",
    ")\n",
    "engine.run()"
   ]
  },
  {
   "cell_type": "code",
   "execution_count": 49,
   "id": "76b1bead",
   "metadata": {
    "execution": {
     "iopub.execute_input": "2022-05-13T06:03:20.371466Z",
     "iopub.status.busy": "2022-05-13T06:03:20.371037Z",
     "iopub.status.idle": "2022-05-13T06:03:21.982953Z",
     "shell.execute_reply": "2022-05-13T06:03:21.982202Z"
    },
    "papermill": {
     "duration": 1.651878,
     "end_time": "2022-05-13T06:03:21.984695",
     "exception": false,
     "start_time": "2022-05-13T06:03:20.332817",
     "status": "completed"
    },
    "tags": []
   },
   "outputs": [],
   "source": [
    "short_only_with_fair_value2 = engine.calculate_equity_curve(calculate_net=False)"
   ]
  },
  {
   "cell_type": "code",
   "execution_count": 50,
   "id": "7963ec98",
   "metadata": {
    "execution": {
     "iopub.execute_input": "2022-05-13T06:03:22.055538Z",
     "iopub.status.busy": "2022-05-13T06:03:22.055179Z",
     "iopub.status.idle": "2022-05-13T06:03:22.060966Z",
     "shell.execute_reply": "2022-05-13T06:03:22.060378Z"
    },
    "papermill": {
     "duration": 0.042446,
     "end_time": "2022-05-13T06:03:22.062649",
     "exception": false,
     "start_time": "2022-05-13T06:03:22.020203",
     "status": "completed"
    },
    "tags": []
   },
   "outputs": [],
   "source": [
    "levels4 = pd.concat((short_only_with_fair_value.rename('SO: MA entry = $100, FV entry = 0.0'), \n",
    "                     short_only_with_fair_value2.rename('SO: MA entry = $100, FV entry = 0.1')), axis=1)"
   ]
  },
  {
   "cell_type": "code",
   "execution_count": 51,
   "id": "b63c8e31",
   "metadata": {
    "execution": {
     "iopub.execute_input": "2022-05-13T06:03:22.135617Z",
     "iopub.status.busy": "2022-05-13T06:03:22.134833Z",
     "iopub.status.idle": "2022-05-13T06:03:22.754931Z",
     "shell.execute_reply": "2022-05-13T06:03:22.754318Z"
    },
    "papermill": {
     "duration": 0.661473,
     "end_time": "2022-05-13T06:03:22.757426",
     "exception": false,
     "start_time": "2022-05-13T06:03:22.095953",
     "status": "completed"
    },
    "tags": []
   },
   "outputs": [
    {
     "data": {
      "image/png": "[encoded data removed]",
      "text/plain": [
       "<Figure size 576x360 with 1 Axes>"
      ]
     },
     "metadata": {
      "needs_background": "light"
     },
     "output_type": "display_data"
    }
   ],
   "source": [
    "fig, ax = plt.subplots(figsize=(8, 5))\n",
    "levels4.plot(ax=ax, logy=True);\n",
    "ax.set_title('Crush spread mean-reversion\\n(Short-only, with fair value mode, Simon 1999)')\n",
    "ax.set_ylabel('Cumulative returns');"
   ]
  },
  {
   "cell_type": "code",
   "execution_count": 52,
   "id": "bcde7293",
   "metadata": {
    "execution": {
     "iopub.execute_input": "2022-05-13T06:03:22.858470Z",
     "iopub.status.busy": "2022-05-13T06:03:22.858021Z",
     "iopub.status.idle": "2022-05-13T06:03:22.896753Z",
     "shell.execute_reply": "2022-05-13T06:03:22.896219Z"
    },
    "papermill": {
     "duration": 0.090808,
     "end_time": "2022-05-13T06:03:22.898799",
     "exception": false,
     "start_time": "2022-05-13T06:03:22.807991",
     "status": "completed"
    },
    "tags": []
   },
   "outputs": [
    {
     "data": {
      "text/html": [
       "<div>\n",
       "<style scoped>\n",
       "    .dataframe tbody tr th:only-of-type {\n",
       "        vertical-align: middle;\n",
       "    }\n",
       "\n",
       "    .dataframe tbody tr th {\n",
       "        vertical-align: top;\n",
       "    }\n",
       "\n",
       "    .dataframe thead th {\n",
       "        text-align: right;\n",
       "    }\n",
       "</style>\n",
       "<table border=\"1\" class=\"dataframe\">\n",
       "  <thead>\n",
       "    <tr style=\"text-align: right;\">\n",
       "      <th></th>\n",
       "      <th>SO: MA entry = $100, FV entry = 0.0</th>\n",
       "      <th>SO: MA entry = $100, FV entry = 0.1</th>\n",
       "    </tr>\n",
       "  </thead>\n",
       "  <tbody>\n",
       "    <tr>\n",
       "      <th>CAGR</th>\n",
       "      <td>0.044572</td>\n",
       "      <td>0.028682</td>\n",
       "    </tr>\n",
       "    <tr>\n",
       "      <th>Annualised vol</th>\n",
       "      <td>0.103482</td>\n",
       "      <td>0.072472</td>\n",
       "    </tr>\n",
       "    <tr>\n",
       "      <th>Sharpe ratio</th>\n",
       "      <td>0.430723</td>\n",
       "      <td>0.395764</td>\n",
       "    </tr>\n",
       "    <tr>\n",
       "      <th>Max drawdown</th>\n",
       "      <td>0.289594</td>\n",
       "      <td>0.191797</td>\n",
       "    </tr>\n",
       "    <tr>\n",
       "      <th>Calmar ratio</th>\n",
       "      <td>0.153912</td>\n",
       "      <td>0.149543</td>\n",
       "    </tr>\n",
       "    <tr>\n",
       "      <th>Skewness</th>\n",
       "      <td>8.561402</td>\n",
       "      <td>10.614582</td>\n",
       "    </tr>\n",
       "    <tr>\n",
       "      <th>Kurtosis</th>\n",
       "      <td>187.381076</td>\n",
       "      <td>311.367666</td>\n",
       "    </tr>\n",
       "    <tr>\n",
       "      <th>Worst return</th>\n",
       "      <td>-0.060250</td>\n",
       "      <td>-0.035643</td>\n",
       "    </tr>\n",
       "    <tr>\n",
       "      <th>Worst 1d return</th>\n",
       "      <td>-0.060250</td>\n",
       "      <td>-0.035643</td>\n",
       "    </tr>\n",
       "    <tr>\n",
       "      <th>Worst 1w return</th>\n",
       "      <td>-0.072290</td>\n",
       "      <td>-0.059550</td>\n",
       "    </tr>\n",
       "    <tr>\n",
       "      <th>Worst 1m return</th>\n",
       "      <td>-0.104160</td>\n",
       "      <td>-0.063797</td>\n",
       "    </tr>\n",
       "  </tbody>\n",
       "</table>\n",
       "</div>"
      ],
      "text/plain": [
       "                 SO: MA entry = $100, FV entry = 0.0  \\\n",
       "CAGR                                        0.044572   \n",
       "Annualised vol                              0.103482   \n",
       "Sharpe ratio                                0.430723   \n",
       "Max drawdown                                0.289594   \n",
       "Calmar ratio                                0.153912   \n",
       "Skewness                                    8.561402   \n",
       "Kurtosis                                  187.381076   \n",
       "Worst return                               -0.060250   \n",
       "Worst 1d return                            -0.060250   \n",
       "Worst 1w return                            -0.072290   \n",
       "Worst 1m return                            -0.104160   \n",
       "\n",
       "                 SO: MA entry = $100, FV entry = 0.1  \n",
       "CAGR                                        0.028682  \n",
       "Annualised vol                              0.072472  \n",
       "Sharpe ratio                                0.395764  \n",
       "Max drawdown                                0.191797  \n",
       "Calmar ratio                                0.149543  \n",
       "Skewness                                   10.614582  \n",
       "Kurtosis                                  311.367666  \n",
       "Worst return                               -0.035643  \n",
       "Worst 1d return                            -0.035643  \n",
       "Worst 1w return                            -0.059550  \n",
       "Worst 1m return                            -0.063797  "
      ]
     },
     "execution_count": 52,
     "metadata": {},
     "output_type": "execute_result"
    }
   ],
   "source": [
    "levels4.pipe(Performance).summary()"
   ]
  },
  {
   "cell_type": "markdown",
   "id": "f0e11476",
   "metadata": {
    "papermill": {
     "duration": 0.051354,
     "end_time": "2022-05-13T06:03:23.001032",
     "exception": false,
     "start_time": "2022-05-13T06:03:22.949678",
     "status": "completed"
    },
    "tags": []
   },
   "source": [
    "## Long-term performance\n",
    "\n",
    "In this section, out-of-sample performance is calculated. To be consistent with the previous section, the fair value model is fit using data up to Feb-1995."
   ]
  },
  {
   "cell_type": "code",
   "execution_count": 53,
   "id": "5a13bc80",
   "metadata": {
    "execution": {
     "iopub.execute_input": "2022-05-13T06:03:23.101720Z",
     "iopub.status.busy": "2022-05-13T06:03:23.101224Z",
     "iopub.status.idle": "2022-05-13T06:03:23.105880Z",
     "shell.execute_reply": "2022-05-13T06:03:23.105323Z"
    },
    "papermill": {
     "duration": 0.056994,
     "end_time": "2022-05-13T06:03:23.107691",
     "exception": false,
     "start_time": "2022-05-13T06:03:23.050697",
     "status": "completed"
    },
    "tags": []
   },
   "outputs": [],
   "source": [
    "common_kwargs = dict(\n",
    "    start_date=datetime(1985, 1, 1),\n",
    "    strategy=Strategy.DELTA_ONE.value,\n",
    "    instrument=[\n",
    "        InstrumentDef('S', collateral=10000),\n",
    "        InstrumentDef('SM', collateral=10000),\n",
    "        InstrumentDef('BO', collateral=10000),\n",
    "    ],\n",
    "    weighting=Weighting.SUM.value,\n",
    "    log_level=logging.WARN,\n",
    ")"
   ]
  },
  {
   "cell_type": "markdown",
   "id": "8a11aab9",
   "metadata": {
    "papermill": {
     "duration": 0.050546,
     "end_time": "2022-05-13T06:03:23.208138",
     "exception": false,
     "start_time": "2022-05-13T06:03:23.157592",
     "status": "completed"
    },
    "tags": []
   },
   "source": [
    "### Long-only without the fair value model"
   ]
  },
  {
   "cell_type": "markdown",
   "id": "1b41fb13",
   "metadata": {
    "tags": [
     "papermill-error-cell-tag"
    ]
   },
   "source": [
    "<span id=\"papermill-error-cell\" style=\"color:red; font-family:Helvetica Neue, Helvetica, Arial, sans-serif; font-size:2em;\">Execution using papermill encountered an exception here and stopped:</span>"
   ]
  },
  {
   "cell_type": "code",
   "execution_count": 54,
   "id": "28a3b4d4",
   "metadata": {
    "execution": {
     "iopub.execute_input": "2022-05-13T06:03:23.290670Z",
     "iopub.status.busy": "2022-05-13T06:03:23.290243Z",
     "iopub.status.idle": "2022-05-13T06:14:27.417026Z",
     "shell.execute_reply": "2022-05-13T06:14:27.416099Z"
    },
    "papermill": {
     "duration": 664.197514,
     "end_time": "2022-05-13T06:14:27.453947",
     "exception": true,
     "start_time": "2022-05-13T06:03:23.256433",
     "status": "failed"
    },
    "tags": []
   },
   "outputs": [
    {
     "ename": "ServerSelectionTimeoutError",
     "evalue": "192.168.1.163:27017: timed out",
     "output_type": "error",
     "traceback": [
      "\u001b[0;31m---------------------------------------------------------------------------\u001b[0m",
      "\u001b[0;31mServerSelectionTimeoutError\u001b[0m               Traceback (most recent call last)",
      "Input \u001b[0;32mIn [54]\u001b[0m, in \u001b[0;36m<cell line: 12>\u001b[0;34m()\u001b[0m\n\u001b[1;32m      1\u001b[0m engine \u001b[38;5;241m=\u001b[39m BacktestEngine(\n\u001b[1;32m      2\u001b[0m     signal\u001b[38;5;241m=\u001b[39msignal\u001b[38;5;241m.\u001b[39mCrushSpreadSimon1999InSample(\n\u001b[1;32m      3\u001b[0m         ma_lookback\u001b[38;5;241m=\u001b[39m\u001b[38;5;241m5\u001b[39m,\n\u001b[0;32m   (...)\u001b[0m\n\u001b[1;32m     10\u001b[0m     \u001b[38;5;241m*\u001b[39m\u001b[38;5;241m*\u001b[39mcommon_kwargs,\n\u001b[1;32m     11\u001b[0m )\n\u001b[0;32m---> 12\u001b[0m \u001b[43mengine\u001b[49m\u001b[38;5;241;43m.\u001b[39;49m\u001b[43mrun\u001b[49m\u001b[43m(\u001b[49m\u001b[43m)\u001b[49m\n",
      "File \u001b[0;32m/usr/local/lib/python3.9/site-packages/vivace/backtest/engine.py:81\u001b[0m, in \u001b[0;36mBacktestEngine.run\u001b[0;34m(self)\u001b[0m\n\u001b[1;32m     79\u001b[0m \u001b[38;5;28;01mdef\u001b[39;00m \u001b[38;5;21mrun\u001b[39m(\u001b[38;5;28mself\u001b[39m):\n\u001b[1;32m     80\u001b[0m     logger\u001b[38;5;241m.\u001b[39minfo(\u001b[38;5;124m'\u001b[39m\u001b[38;5;124mLoading contract data\u001b[39m\u001b[38;5;124m'\u001b[39m)\n\u001b[0;32m---> 81\u001b[0m     \u001b[38;5;28mself\u001b[39m\u001b[38;5;241m.\u001b[39mcontracts \u001b[38;5;241m=\u001b[39m \u001b[43mload_contracts\u001b[49m\u001b[43m(\u001b[49m\u001b[38;5;28;43mself\u001b[39;49m\u001b[43m)\u001b[49m\n\u001b[1;32m     82\u001b[0m     \u001b[38;5;28mself\u001b[39m\u001b[38;5;241m.\u001b[39m_contract_tree \u001b[38;5;241m=\u001b[39m to_contract_tree(\u001b[38;5;28mself\u001b[39m\u001b[38;5;241m.\u001b[39mcontracts)\n\u001b[1;32m     84\u001b[0m     \u001b[38;5;28;01mfor\u001b[39;00m c \u001b[38;5;129;01min\u001b[39;00m \u001b[38;5;28mself\u001b[39m\u001b[38;5;241m.\u001b[39mcontracts:\n",
      "File \u001b[0;32m/usr/local/lib/python3.9/site-packages/vivace/backtest/contract.py:998\u001b[0m, in \u001b[0;36mload_contracts\u001b[0;34m(engine)\u001b[0m\n\u001b[1;32m    995\u001b[0m \u001b[38;5;28;01mif\u001b[39;00m instrument_def\u001b[38;5;241m.\u001b[39mis_futures \u001b[38;5;129;01mis\u001b[39;00m \u001b[38;5;28;01mNone\u001b[39;00m \u001b[38;5;129;01mor\u001b[39;00m instrument_def\u001b[38;5;241m.\u001b[39mis_futures:\n\u001b[1;32m    996\u001b[0m     \u001b[38;5;66;03m# Loading futures is prioritised.\u001b[39;00m\n\u001b[1;32m    997\u001b[0m     \u001b[38;5;28;01mif\u001b[39;00m instrument_def\u001b[38;5;241m.\u001b[39mname \u001b[38;5;129;01min\u001b[39;00m all_futures:\n\u001b[0;32m--> 998\u001b[0m         contracts\u001b[38;5;241m.\u001b[39mappend(\u001b[43mload_futures_contract\u001b[49m\u001b[43m(\u001b[49m\u001b[43mstart_date\u001b[49m\u001b[43m,\u001b[49m\u001b[43m \u001b[49m\u001b[43mend_date\u001b[49m\u001b[43m,\u001b[49m\u001b[43m \u001b[49m\u001b[43minstrument_def\u001b[49m\u001b[43m)\u001b[49m)\n\u001b[1;32m    999\u001b[0m     \u001b[38;5;28;01melse\u001b[39;00m:\n\u001b[1;32m   1001\u001b[0m         \u001b[38;5;28;01mif\u001b[39;00m instrument_def\u001b[38;5;241m.\u001b[39mis_futures:\n",
      "File \u001b[0;32m/usr/local/lib/python3.9/site-packages/vivace/backtest/contract.py:1136\u001b[0m, in \u001b[0;36mload_futures_contract\u001b[0;34m(start_date, end_date, instrument_def)\u001b[0m\n\u001b[1;32m   1133\u001b[0m     contracts \u001b[38;5;241m+\u001b[39m\u001b[38;5;241m=\u001b[39m create_contracts(PRICE_DATA_FUTURES_TS, start_date, end_date, instrument_def)\n\u001b[1;32m   1135\u001b[0m \u001b[38;5;28;01mif\u001b[39;00m instrument_def\u001b[38;5;241m.\u001b[39mname \u001b[38;5;129;01min\u001b[39;00m barchart_tickers:\n\u001b[0;32m-> 1136\u001b[0m     contracts \u001b[38;5;241m+\u001b[39m\u001b[38;5;241m=\u001b[39m \u001b[43mcreate_contracts\u001b[49m\u001b[43m(\u001b[49m\u001b[43mBARCHART_FUTURES_TS\u001b[49m\u001b[43m,\u001b[49m\u001b[43m \u001b[49m\u001b[43mstart_date\u001b[49m\u001b[43m,\u001b[49m\u001b[43m \u001b[49m\u001b[43mend_date\u001b[49m\u001b[43m,\u001b[49m\u001b[43m \u001b[49m\u001b[43minstrument_def\u001b[49m\u001b[43m)\u001b[49m\n\u001b[1;32m   1137\u001b[0m \u001b[38;5;28;01melif\u001b[39;00m instrument_def\u001b[38;5;241m.\u001b[39mname \u001b[38;5;129;01min\u001b[39;00m quandl_tickers:\n\u001b[1;32m   1138\u001b[0m     contracts \u001b[38;5;241m+\u001b[39m\u001b[38;5;241m=\u001b[39m create_contracts(QUANDL_FUTURES_TS, start_date, end_date, instrument_def)\n",
      "File \u001b[0;32m/usr/local/lib/python3.9/site-packages/vivace/backtest/contract.py:1101\u001b[0m, in \u001b[0;36mload_futures_contract.<locals>.create_contracts\u001b[0;34m(library_name, start_date, end_date, instrument_def)\u001b[0m\n\u001b[1;32m   1097\u001b[0m     symbols \u001b[38;5;241m=\u001b[39m list_symbols_sorted(library_name, \u001b[38;5;124m'\u001b[39m\u001b[38;5;124mdummy_last_trade\u001b[39m\u001b[38;5;124m'\u001b[39m, ticker_prefix\u001b[38;5;241m=\u001b[39minstrument_def\u001b[38;5;241m.\u001b[39mname,\n\u001b[1;32m   1098\u001b[0m                                   first_trade\u001b[38;5;241m=\u001b[39m{\u001b[38;5;124m'\u001b[39m\u001b[38;5;124m$lt\u001b[39m\u001b[38;5;124m'\u001b[39m: end_date},\n\u001b[1;32m   1099\u001b[0m                                   contract_month\u001b[38;5;241m=\u001b[39m{\u001b[38;5;124m'\u001b[39m\u001b[38;5;124m$in\u001b[39m\u001b[38;5;124m'\u001b[39m: instrument_def\u001b[38;5;241m.\u001b[39mcontract_months})\n\u001b[1;32m   1100\u001b[0m \u001b[38;5;28;01melse\u001b[39;00m:\n\u001b[0;32m-> 1101\u001b[0m     symbols \u001b[38;5;241m=\u001b[39m \u001b[43mlist_symbols_sorted\u001b[49m\u001b[43m(\u001b[49m\u001b[43mlibrary_name\u001b[49m\u001b[43m,\u001b[49m\u001b[43m \u001b[49m\u001b[38;5;124;43m'\u001b[39;49m\u001b[38;5;124;43mlast_trade\u001b[39;49m\u001b[38;5;124;43m'\u001b[39;49m\u001b[43m,\u001b[49m\u001b[43m \u001b[49m\u001b[43mticker_prefix\u001b[49m\u001b[38;5;241;43m=\u001b[39;49m\u001b[43minstrument_def\u001b[49m\u001b[38;5;241;43m.\u001b[39;49m\u001b[43mname\u001b[49m\u001b[43m,\u001b[49m\n\u001b[1;32m   1102\u001b[0m \u001b[43m                                  \u001b[49m\u001b[43mlast_trade\u001b[49m\u001b[38;5;241;43m=\u001b[39;49m\u001b[43m{\u001b[49m\u001b[38;5;124;43m'\u001b[39;49m\u001b[38;5;124;43m$gt\u001b[39;49m\u001b[38;5;124;43m'\u001b[39;49m\u001b[43m:\u001b[49m\u001b[43m \u001b[49m\u001b[43mstart_date\u001b[49m\u001b[43m}\u001b[49m\u001b[43m,\u001b[49m\u001b[43m \u001b[49m\u001b[43mfirst_trade\u001b[49m\u001b[38;5;241;43m=\u001b[39;49m\u001b[43m{\u001b[49m\u001b[38;5;124;43m'\u001b[39;49m\u001b[38;5;124;43m$lt\u001b[39;49m\u001b[38;5;124;43m'\u001b[39;49m\u001b[43m:\u001b[49m\u001b[43m \u001b[49m\u001b[43mend_date\u001b[49m\u001b[43m}\u001b[49m\u001b[43m,\u001b[49m\n\u001b[1;32m   1103\u001b[0m \u001b[43m                                  \u001b[49m\u001b[43mcontract_month\u001b[49m\u001b[38;5;241;43m=\u001b[39;49m\u001b[43m{\u001b[49m\u001b[38;5;124;43m'\u001b[39;49m\u001b[38;5;124;43m$in\u001b[39;49m\u001b[38;5;124;43m'\u001b[39;49m\u001b[43m:\u001b[49m\u001b[43m \u001b[49m\u001b[43minstrument_def\u001b[49m\u001b[38;5;241;43m.\u001b[39;49m\u001b[43mcontract_months\u001b[49m\u001b[43m}\u001b[49m\u001b[43m)\u001b[49m\n\u001b[1;32m   1104\u001b[0m symbols \u001b[38;5;241m=\u001b[39m remove_bad_symbols(instrument_def\u001b[38;5;241m.\u001b[39mname, symbols, library_name)\n\u001b[1;32m   1105\u001b[0m expiry_count \u001b[38;5;241m=\u001b[39m \u001b[38;5;241m0\u001b[39m\n",
      "File \u001b[0;32m/usr/local/lib/python3.9/site-packages/vivace/io.py:263\u001b[0m, in \u001b[0;36mlist_symbols_sorted\u001b[0;34m(library_name, sort_key, **kwargs)\u001b[0m\n\u001b[1;32m    261\u001b[0m \u001b[38;5;124;03m\"\"\" Get a list of symbols sorted by the `sort_key` \"\"\"\u001b[39;00m\n\u001b[1;32m    262\u001b[0m library \u001b[38;5;241m=\u001b[39m store[library_name]\n\u001b[0;32m--> 263\u001b[0m symbols \u001b[38;5;241m=\u001b[39m \u001b[43mlibrary\u001b[49m\u001b[38;5;241;43m.\u001b[39;49m\u001b[43mlist_symbols\u001b[49m\u001b[43m(\u001b[49m\u001b[38;5;241;43m*\u001b[39;49m\u001b[38;5;241;43m*\u001b[39;49m\u001b[43mkwargs\u001b[49m\u001b[43m)\u001b[49m\n\u001b[1;32m    264\u001b[0m symbols \u001b[38;5;241m=\u001b[39m \u001b[38;5;28msorted\u001b[39m(symbols, key\u001b[38;5;241m=\u001b[39m\u001b[38;5;28;01mlambda\u001b[39;00m x: library\u001b[38;5;241m.\u001b[39mread_metadata(x)\u001b[38;5;241m.\u001b[39mmetadata[sort_key])\n\u001b[1;32m    265\u001b[0m \u001b[38;5;28;01mreturn\u001b[39;00m symbols\n",
      "File \u001b[0;32m/usr/local/lib/python3.9/site-packages/arctic/decorators.py:50\u001b[0m, in \u001b[0;36mmongo_retry.<locals>.f_retry\u001b[0;34m(*args, **kwargs)\u001b[0m\n\u001b[1;32m     48\u001b[0m \u001b[38;5;28;01mwhile\u001b[39;00m \u001b[38;5;28;01mTrue\u001b[39;00m:\n\u001b[1;32m     49\u001b[0m     \u001b[38;5;28;01mtry\u001b[39;00m:\n\u001b[0;32m---> 50\u001b[0m         \u001b[38;5;28;01mreturn\u001b[39;00m \u001b[43mf\u001b[49m\u001b[43m(\u001b[49m\u001b[38;5;241;43m*\u001b[39;49m\u001b[43margs\u001b[49m\u001b[43m,\u001b[49m\u001b[43m \u001b[49m\u001b[38;5;241;43m*\u001b[39;49m\u001b[38;5;241;43m*\u001b[39;49m\u001b[43mkwargs\u001b[49m\u001b[43m)\u001b[49m\n\u001b[1;32m     51\u001b[0m     \u001b[38;5;28;01mexcept\u001b[39;00m (DuplicateKeyError, ServerSelectionTimeoutError, BulkWriteError) \u001b[38;5;28;01mas\u001b[39;00m e:\n\u001b[1;32m     52\u001b[0m         \u001b[38;5;66;03m# Re-raise errors that won't go away.\u001b[39;00m\n\u001b[1;32m     53\u001b[0m         _handle_error(f, e, _retry_count, \u001b[38;5;241m*\u001b[39m\u001b[38;5;241m*\u001b[39m_get_host(args))\n",
      "File \u001b[0;32m/usr/local/lib/python3.9/site-packages/arctic/store/version_store.py:186\u001b[0m, in \u001b[0;36mVersionStore.list_symbols\u001b[0;34m(self, all_symbols, snapshot, regex, **kwargs)\u001b[0m\n\u001b[1;32m    176\u001b[0m pipeline\u001b[38;5;241m.\u001b[39mextend([\n\u001b[1;32m    177\u001b[0m     {\u001b[38;5;124m'\u001b[39m\u001b[38;5;124m$sort\u001b[39m\u001b[38;5;124m'\u001b[39m: bson\u001b[38;5;241m.\u001b[39mSON([(\u001b[38;5;124m'\u001b[39m\u001b[38;5;124msymbol\u001b[39m\u001b[38;5;124m'\u001b[39m, pymongo\u001b[38;5;241m.\u001b[39mASCENDING), (\u001b[38;5;124m'\u001b[39m\u001b[38;5;124mversion\u001b[39m\u001b[38;5;124m'\u001b[39m, pymongo\u001b[38;5;241m.\u001b[39mDESCENDING)])},\n\u001b[1;32m    178\u001b[0m     {\u001b[38;5;124m'\u001b[39m\u001b[38;5;124m$group\u001b[39m\u001b[38;5;124m'\u001b[39m: {\n\u001b[0;32m   (...)\u001b[0m\n\u001b[1;32m    182\u001b[0m     {\u001b[38;5;124m'\u001b[39m\u001b[38;5;124m$match\u001b[39m\u001b[38;5;124m'\u001b[39m: {\u001b[38;5;124m'\u001b[39m\u001b[38;5;124mdeleted\u001b[39m\u001b[38;5;124m'\u001b[39m: {\u001b[38;5;124m'\u001b[39m\u001b[38;5;124m$ne\u001b[39m\u001b[38;5;124m'\u001b[39m: \u001b[38;5;28;01mTrue\u001b[39;00m}}}\n\u001b[1;32m    183\u001b[0m ])\n\u001b[1;32m    184\u001b[0m \u001b[38;5;66;03m# We may hit the group memory limit (100MB), so use allowDiskUse to circumvent this\u001b[39;00m\n\u001b[1;32m    185\u001b[0m \u001b[38;5;66;03m#  - https://docs.mongodb.com/manual/reference/operator/aggregation/group/#group-memory-limit\u001b[39;00m\n\u001b[0;32m--> 186\u001b[0m \u001b[38;5;28;01mreturn\u001b[39;00m \u001b[38;5;28msorted\u001b[39m([x[\u001b[38;5;124m'\u001b[39m\u001b[38;5;124m_id\u001b[39m\u001b[38;5;124m'\u001b[39m] \u001b[38;5;28;01mfor\u001b[39;00m x \u001b[38;5;129;01min\u001b[39;00m \u001b[38;5;28;43mself\u001b[39;49m\u001b[38;5;241;43m.\u001b[39;49m\u001b[43m_versions\u001b[49m\u001b[38;5;241;43m.\u001b[39;49m\u001b[43maggregate\u001b[49m\u001b[43m(\u001b[49m\u001b[43mpipeline\u001b[49m\u001b[43m,\u001b[49m\u001b[43m \u001b[49m\u001b[43mallowDiskUse\u001b[49m\u001b[38;5;241;43m=\u001b[39;49m\u001b[38;5;28;43;01mTrue\u001b[39;49;00m\u001b[43m)\u001b[49m])\n",
      "File \u001b[0;32m/usr/local/lib/python3.9/site-packages/pymongo/collection.py:2374\u001b[0m, in \u001b[0;36mCollection.aggregate\u001b[0;34m(self, pipeline, session, **kwargs)\u001b[0m\n\u001b[1;32m   2301\u001b[0m \u001b[38;5;28;01mdef\u001b[39;00m \u001b[38;5;21maggregate\u001b[39m(\u001b[38;5;28mself\u001b[39m, pipeline, session\u001b[38;5;241m=\u001b[39m\u001b[38;5;28;01mNone\u001b[39;00m, \u001b[38;5;241m*\u001b[39m\u001b[38;5;241m*\u001b[39mkwargs):\n\u001b[1;32m   2302\u001b[0m     \u001b[38;5;124;03m\"\"\"Perform an aggregation using the aggregation framework on this\u001b[39;00m\n\u001b[1;32m   2303\u001b[0m \u001b[38;5;124;03m    collection.\u001b[39;00m\n\u001b[1;32m   2304\u001b[0m \n\u001b[0;32m   (...)\u001b[0m\n\u001b[1;32m   2372\u001b[0m \u001b[38;5;124;03m        https://docs.mongodb.com/manual/reference/command/aggregate\u001b[39;00m\n\u001b[1;32m   2373\u001b[0m \u001b[38;5;124;03m    \"\"\"\u001b[39;00m\n\u001b[0;32m-> 2374\u001b[0m     \u001b[38;5;28;01mwith\u001b[39;00m \u001b[38;5;28mself\u001b[39m\u001b[38;5;241m.\u001b[39m__database\u001b[38;5;241m.\u001b[39mclient\u001b[38;5;241m.\u001b[39m_tmp_session(session, close\u001b[38;5;241m=\u001b[39m\u001b[38;5;28;01mFalse\u001b[39;00m) \u001b[38;5;28;01mas\u001b[39;00m s:\n\u001b[1;32m   2375\u001b[0m         \u001b[38;5;28;01mreturn\u001b[39;00m \u001b[38;5;28mself\u001b[39m\u001b[38;5;241m.\u001b[39m_aggregate(_CollectionAggregationCommand,\n\u001b[1;32m   2376\u001b[0m                                pipeline,\n\u001b[1;32m   2377\u001b[0m                                CommandCursor,\n\u001b[1;32m   2378\u001b[0m                                session\u001b[38;5;241m=\u001b[39ms,\n\u001b[1;32m   2379\u001b[0m                                explicit_session\u001b[38;5;241m=\u001b[39msession \u001b[38;5;129;01mis\u001b[39;00m \u001b[38;5;129;01mnot\u001b[39;00m \u001b[38;5;28;01mNone\u001b[39;00m,\n\u001b[1;32m   2380\u001b[0m                                \u001b[38;5;241m*\u001b[39m\u001b[38;5;241m*\u001b[39mkwargs)\n",
      "File \u001b[0;32m/usr/local/lib/python3.9/contextlib.py:117\u001b[0m, in \u001b[0;36m_GeneratorContextManager.__enter__\u001b[0;34m(self)\u001b[0m\n\u001b[1;32m    115\u001b[0m \u001b[38;5;28;01mdel\u001b[39;00m \u001b[38;5;28mself\u001b[39m\u001b[38;5;241m.\u001b[39margs, \u001b[38;5;28mself\u001b[39m\u001b[38;5;241m.\u001b[39mkwds, \u001b[38;5;28mself\u001b[39m\u001b[38;5;241m.\u001b[39mfunc\n\u001b[1;32m    116\u001b[0m \u001b[38;5;28;01mtry\u001b[39;00m:\n\u001b[0;32m--> 117\u001b[0m     \u001b[38;5;28;01mreturn\u001b[39;00m \u001b[38;5;28;43mnext\u001b[39;49m\u001b[43m(\u001b[49m\u001b[38;5;28;43mself\u001b[39;49m\u001b[38;5;241;43m.\u001b[39;49m\u001b[43mgen\u001b[49m\u001b[43m)\u001b[49m\n\u001b[1;32m    118\u001b[0m \u001b[38;5;28;01mexcept\u001b[39;00m \u001b[38;5;167;01mStopIteration\u001b[39;00m:\n\u001b[1;32m    119\u001b[0m     \u001b[38;5;28;01mraise\u001b[39;00m \u001b[38;5;167;01mRuntimeError\u001b[39;00m(\u001b[38;5;124m\"\u001b[39m\u001b[38;5;124mgenerator didn\u001b[39m\u001b[38;5;124m'\u001b[39m\u001b[38;5;124mt yield\u001b[39m\u001b[38;5;124m\"\u001b[39m) \u001b[38;5;28;01mfrom\u001b[39;00m \u001b[38;5;28mNone\u001b[39m\n",
      "File \u001b[0;32m/usr/local/lib/python3.9/site-packages/pymongo/mongo_client.py:1820\u001b[0m, in \u001b[0;36mMongoClient._tmp_session\u001b[0;34m(self, session, close)\u001b[0m\n\u001b[1;32m   1817\u001b[0m     \u001b[38;5;28;01myield\u001b[39;00m session\n\u001b[1;32m   1818\u001b[0m     \u001b[38;5;28;01mreturn\u001b[39;00m\n\u001b[0;32m-> 1820\u001b[0m s \u001b[38;5;241m=\u001b[39m \u001b[38;5;28;43mself\u001b[39;49m\u001b[38;5;241;43m.\u001b[39;49m\u001b[43m_ensure_session\u001b[49m\u001b[43m(\u001b[49m\u001b[43msession\u001b[49m\u001b[43m)\u001b[49m\n\u001b[1;32m   1821\u001b[0m \u001b[38;5;28;01mif\u001b[39;00m s \u001b[38;5;129;01mand\u001b[39;00m close:\n\u001b[1;32m   1822\u001b[0m     \u001b[38;5;28;01mwith\u001b[39;00m s:\n\u001b[1;32m   1823\u001b[0m         \u001b[38;5;66;03m# Call end_session when we exit this scope.\u001b[39;00m\n",
      "File \u001b[0;32m/usr/local/lib/python3.9/site-packages/pymongo/mongo_client.py:1807\u001b[0m, in \u001b[0;36mMongoClient._ensure_session\u001b[0;34m(self, session)\u001b[0m\n\u001b[1;32m   1802\u001b[0m     \u001b[38;5;28;01mreturn\u001b[39;00m session\n\u001b[1;32m   1804\u001b[0m \u001b[38;5;28;01mtry\u001b[39;00m:\n\u001b[1;32m   1805\u001b[0m     \u001b[38;5;66;03m# Don't make implicit sessions causally consistent. Applications\u001b[39;00m\n\u001b[1;32m   1806\u001b[0m     \u001b[38;5;66;03m# should always opt-in.\u001b[39;00m\n\u001b[0;32m-> 1807\u001b[0m     \u001b[38;5;28;01mreturn\u001b[39;00m \u001b[38;5;28;43mself\u001b[39;49m\u001b[38;5;241;43m.\u001b[39;49m\u001b[43m__start_session\u001b[49m\u001b[43m(\u001b[49m\u001b[38;5;28;43;01mTrue\u001b[39;49;00m\u001b[43m,\u001b[49m\u001b[43m \u001b[49m\u001b[43mcausal_consistency\u001b[49m\u001b[38;5;241;43m=\u001b[39;49m\u001b[38;5;28;43;01mFalse\u001b[39;49;00m\u001b[43m)\u001b[49m\n\u001b[1;32m   1808\u001b[0m \u001b[38;5;28;01mexcept\u001b[39;00m (ConfigurationError, InvalidOperation):\n\u001b[1;32m   1809\u001b[0m     \u001b[38;5;66;03m# Sessions not supported, or multiple users authenticated.\u001b[39;00m\n\u001b[1;32m   1810\u001b[0m     \u001b[38;5;28;01mreturn\u001b[39;00m \u001b[38;5;28;01mNone\u001b[39;00m\n",
      "File \u001b[0;32m/usr/local/lib/python3.9/site-packages/pymongo/mongo_client.py:1760\u001b[0m, in \u001b[0;36mMongoClient.__start_session\u001b[0;34m(self, implicit, **kwargs)\u001b[0m\n\u001b[1;32m   1756\u001b[0m     \u001b[38;5;28;01mraise\u001b[39;00m InvalidOperation(\u001b[38;5;124m\"\u001b[39m\u001b[38;5;124mCannot call start_session when\u001b[39m\u001b[38;5;124m\"\u001b[39m\n\u001b[1;32m   1757\u001b[0m                            \u001b[38;5;124m\"\u001b[39m\u001b[38;5;124m multiple users are authenticated\u001b[39m\u001b[38;5;124m\"\u001b[39m)\n\u001b[1;32m   1759\u001b[0m \u001b[38;5;66;03m# Raises ConfigurationError if sessions are not supported.\u001b[39;00m\n\u001b[0;32m-> 1760\u001b[0m server_session \u001b[38;5;241m=\u001b[39m \u001b[38;5;28;43mself\u001b[39;49m\u001b[38;5;241;43m.\u001b[39;49m\u001b[43m_get_server_session\u001b[49m\u001b[43m(\u001b[49m\u001b[43m)\u001b[49m\n\u001b[1;32m   1761\u001b[0m opts \u001b[38;5;241m=\u001b[39m client_session\u001b[38;5;241m.\u001b[39mSessionOptions(\u001b[38;5;241m*\u001b[39m\u001b[38;5;241m*\u001b[39mkwargs)\n\u001b[1;32m   1762\u001b[0m \u001b[38;5;28;01mreturn\u001b[39;00m client_session\u001b[38;5;241m.\u001b[39mClientSession(\n\u001b[1;32m   1763\u001b[0m     \u001b[38;5;28mself\u001b[39m, server_session, opts, authset, implicit)\n",
      "File \u001b[0;32m/usr/local/lib/python3.9/site-packages/pymongo/mongo_client.py:1793\u001b[0m, in \u001b[0;36mMongoClient._get_server_session\u001b[0;34m(self)\u001b[0m\n\u001b[1;32m   1791\u001b[0m \u001b[38;5;28;01mdef\u001b[39;00m \u001b[38;5;21m_get_server_session\u001b[39m(\u001b[38;5;28mself\u001b[39m):\n\u001b[1;32m   1792\u001b[0m     \u001b[38;5;124;03m\"\"\"Internal: start or resume a _ServerSession.\"\"\"\u001b[39;00m\n\u001b[0;32m-> 1793\u001b[0m     \u001b[38;5;28;01mreturn\u001b[39;00m \u001b[38;5;28;43mself\u001b[39;49m\u001b[38;5;241;43m.\u001b[39;49m\u001b[43m_topology\u001b[49m\u001b[38;5;241;43m.\u001b[39;49m\u001b[43mget_server_session\u001b[49m\u001b[43m(\u001b[49m\u001b[43m)\u001b[49m\n",
      "File \u001b[0;32m/usr/local/lib/python3.9/site-packages/pymongo/topology.py:474\u001b[0m, in \u001b[0;36mTopology.get_server_session\u001b[0;34m(self)\u001b[0m\n\u001b[1;32m    472\u001b[0m \u001b[38;5;28;01mif\u001b[39;00m \u001b[38;5;28mself\u001b[39m\u001b[38;5;241m.\u001b[39m_description\u001b[38;5;241m.\u001b[39mtopology_type \u001b[38;5;241m==\u001b[39m TOPOLOGY_TYPE\u001b[38;5;241m.\u001b[39mSingle:\n\u001b[1;32m    473\u001b[0m     \u001b[38;5;28;01mif\u001b[39;00m \u001b[38;5;129;01mnot\u001b[39;00m \u001b[38;5;28mself\u001b[39m\u001b[38;5;241m.\u001b[39m_description\u001b[38;5;241m.\u001b[39mhas_known_servers:\n\u001b[0;32m--> 474\u001b[0m         \u001b[38;5;28;43mself\u001b[39;49m\u001b[38;5;241;43m.\u001b[39;49m\u001b[43m_select_servers_loop\u001b[49m\u001b[43m(\u001b[49m\n\u001b[1;32m    475\u001b[0m \u001b[43m            \u001b[49m\u001b[43many_server_selector\u001b[49m\u001b[43m,\u001b[49m\n\u001b[1;32m    476\u001b[0m \u001b[43m            \u001b[49m\u001b[38;5;28;43mself\u001b[39;49m\u001b[38;5;241;43m.\u001b[39;49m\u001b[43m_settings\u001b[49m\u001b[38;5;241;43m.\u001b[39;49m\u001b[43mserver_selection_timeout\u001b[49m\u001b[43m,\u001b[49m\n\u001b[1;32m    477\u001b[0m \u001b[43m            \u001b[49m\u001b[38;5;28;43;01mNone\u001b[39;49;00m\u001b[43m)\u001b[49m\n\u001b[1;32m    478\u001b[0m \u001b[38;5;28;01melif\u001b[39;00m \u001b[38;5;129;01mnot\u001b[39;00m \u001b[38;5;28mself\u001b[39m\u001b[38;5;241m.\u001b[39m_description\u001b[38;5;241m.\u001b[39mreadable_servers:\n\u001b[1;32m    479\u001b[0m     \u001b[38;5;28mself\u001b[39m\u001b[38;5;241m.\u001b[39m_select_servers_loop(\n\u001b[1;32m    480\u001b[0m         readable_server_selector,\n\u001b[1;32m    481\u001b[0m         \u001b[38;5;28mself\u001b[39m\u001b[38;5;241m.\u001b[39m_settings\u001b[38;5;241m.\u001b[39mserver_selection_timeout,\n\u001b[1;32m    482\u001b[0m         \u001b[38;5;28;01mNone\u001b[39;00m)\n",
      "File \u001b[0;32m/usr/local/lib/python3.9/site-packages/pymongo/topology.py:204\u001b[0m, in \u001b[0;36mTopology._select_servers_loop\u001b[0;34m(self, selector, timeout, address)\u001b[0m\n\u001b[1;32m    201\u001b[0m \u001b[38;5;28;01mwhile\u001b[39;00m \u001b[38;5;129;01mnot\u001b[39;00m server_descriptions:\n\u001b[1;32m    202\u001b[0m     \u001b[38;5;66;03m# No suitable servers.\u001b[39;00m\n\u001b[1;32m    203\u001b[0m     \u001b[38;5;28;01mif\u001b[39;00m timeout \u001b[38;5;241m==\u001b[39m \u001b[38;5;241m0\u001b[39m \u001b[38;5;129;01mor\u001b[39;00m now \u001b[38;5;241m>\u001b[39m end_time:\n\u001b[0;32m--> 204\u001b[0m         \u001b[38;5;28;01mraise\u001b[39;00m ServerSelectionTimeoutError(\n\u001b[1;32m    205\u001b[0m             \u001b[38;5;28mself\u001b[39m\u001b[38;5;241m.\u001b[39m_error_message(selector))\n\u001b[1;32m    207\u001b[0m     \u001b[38;5;28mself\u001b[39m\u001b[38;5;241m.\u001b[39m_ensure_opened()\n\u001b[1;32m    208\u001b[0m     \u001b[38;5;28mself\u001b[39m\u001b[38;5;241m.\u001b[39m_request_check_all()\n",
      "\u001b[0;31mServerSelectionTimeoutError\u001b[0m: 192.168.1.163:27017: timed out"
     ]
    }
   ],
   "source": [
    "engine = BacktestEngine(\n",
    "    signal=signal.CrushSpreadSimon1999InSample(\n",
    "        ma_lookback=5,\n",
    "        ma_entry=100,\n",
    "        ma_exit=100,\n",
    "        fair_value=False,\n",
    "        long_position=True,\n",
    "        short_position=False,\n",
    "    ),\n",
    "    **common_kwargs,\n",
    ")\n",
    "engine.run()"
   ]
  },
  {
   "cell_type": "code",
   "execution_count": null,
   "id": "6142a921",
   "metadata": {
    "execution": {
     "iopub.execute_input": "2021-11-28T09:42:29.492333Z",
     "iopub.status.busy": "2021-11-28T09:42:29.492169Z",
     "iopub.status.idle": "2021-11-28T09:42:34.557241Z",
     "shell.execute_reply": "2021-11-28T09:42:34.556677Z",
     "shell.execute_reply.started": "2021-11-28T09:42:29.492320Z"
    },
    "papermill": {
     "duration": null,
     "end_time": null,
     "exception": null,
     "start_time": null,
     "status": "pending"
    },
    "tags": []
   },
   "outputs": [],
   "source": [
    "long_only_wo_fair_value = engine.calculate_equity_curve(calculate_net=False)"
   ]
  },
  {
   "cell_type": "code",
   "execution_count": null,
   "id": "f56df3d8",
   "metadata": {
    "execution": {
     "iopub.execute_input": "2021-11-28T09:42:34.558001Z",
     "iopub.status.busy": "2021-11-28T09:42:34.557859Z",
     "iopub.status.idle": "2021-11-28T09:42:56.563793Z",
     "shell.execute_reply": "2021-11-28T09:42:56.563374Z",
     "shell.execute_reply.started": "2021-11-28T09:42:34.557985Z"
    },
    "papermill": {
     "duration": null,
     "end_time": null,
     "exception": null,
     "start_time": null,
     "status": "pending"
    },
    "tags": []
   },
   "outputs": [],
   "source": [
    "engine = BacktestEngine(\n",
    "    signal=signal.CrushSpreadSimon1999InSample(\n",
    "        ma_lookback=5,\n",
    "        ma_entry=300,\n",
    "        ma_exit=300,\n",
    "        fair_value=False,\n",
    "        long_position=True,\n",
    "        short_position=False,\n",
    "    ),\n",
    "    **common_kwargs,\n",
    ")\n",
    "engine.run()"
   ]
  },
  {
   "cell_type": "code",
   "execution_count": null,
   "id": "6a746d15",
   "metadata": {
    "execution": {
     "iopub.execute_input": "2021-11-28T09:42:56.564561Z",
     "iopub.status.busy": "2021-11-28T09:42:56.564420Z",
     "iopub.status.idle": "2021-11-28T09:43:01.696229Z",
     "shell.execute_reply": "2021-11-28T09:43:01.695753Z",
     "shell.execute_reply.started": "2021-11-28T09:42:56.564543Z"
    },
    "papermill": {
     "duration": null,
     "end_time": null,
     "exception": null,
     "start_time": null,
     "status": "pending"
    },
    "tags": []
   },
   "outputs": [],
   "source": [
    "long_only_wo_fair_value2 = engine.calculate_equity_curve(calculate_net=False)"
   ]
  },
  {
   "cell_type": "code",
   "execution_count": null,
   "id": "d808bcdf",
   "metadata": {
    "execution": {
     "iopub.execute_input": "2021-11-28T09:43:01.696949Z",
     "iopub.status.busy": "2021-11-28T09:43:01.696818Z",
     "iopub.status.idle": "2021-11-28T09:43:01.700455Z",
     "shell.execute_reply": "2021-11-28T09:43:01.700009Z",
     "shell.execute_reply.started": "2021-11-28T09:43:01.696932Z"
    },
    "papermill": {
     "duration": null,
     "end_time": null,
     "exception": null,
     "start_time": null,
     "status": "pending"
    },
    "tags": []
   },
   "outputs": [],
   "source": [
    "levels1 = pd.concat((long_only_wo_fair_value.rename('LO: Entry threshold = $100'), \n",
    "                     long_only_wo_fair_value2.rename('LO: Entry threshold = $300')), axis=1)"
   ]
  },
  {
   "cell_type": "code",
   "execution_count": null,
   "id": "9a30ca0f",
   "metadata": {
    "execution": {
     "iopub.execute_input": "2021-11-28T09:43:01.701218Z",
     "iopub.status.busy": "2021-11-28T09:43:01.701085Z",
     "iopub.status.idle": "2021-11-28T09:43:02.067207Z",
     "shell.execute_reply": "2021-11-28T09:43:02.066705Z",
     "shell.execute_reply.started": "2021-11-28T09:43:01.701201Z"
    },
    "papermill": {
     "duration": null,
     "end_time": null,
     "exception": null,
     "start_time": null,
     "status": "pending"
    },
    "tags": []
   },
   "outputs": [],
   "source": [
    "fig, ax = plt.subplots(figsize=(8, 5))\n",
    "levels1.plot(ax=ax, logy=True);\n",
    "ax.set_title('Crush spread mean-reversion\\n(Long-only, without fair value mode, Simon 1999)')\n",
    "ax.set_ylabel('Cumulative returns');"
   ]
  },
  {
   "cell_type": "code",
   "execution_count": null,
   "id": "4c2af8a6",
   "metadata": {
    "execution": {
     "iopub.execute_input": "2021-11-28T09:43:02.067979Z",
     "iopub.status.busy": "2021-11-28T09:43:02.067845Z",
     "iopub.status.idle": "2021-11-28T09:43:02.114424Z",
     "shell.execute_reply": "2021-11-28T09:43:02.113907Z",
     "shell.execute_reply.started": "2021-11-28T09:43:02.067962Z"
    },
    "papermill": {
     "duration": null,
     "end_time": null,
     "exception": null,
     "start_time": null,
     "status": "pending"
    },
    "tags": []
   },
   "outputs": [],
   "source": [
    "levels1.pipe(Performance).summary()"
   ]
  },
  {
   "cell_type": "markdown",
   "id": "adcaaf50",
   "metadata": {
    "papermill": {
     "duration": null,
     "end_time": null,
     "exception": null,
     "start_time": null,
     "status": "pending"
    },
    "tags": []
   },
   "source": [
    "### Long-only with the fair value model"
   ]
  },
  {
   "cell_type": "code",
   "execution_count": null,
   "id": "47edb3e9",
   "metadata": {
    "execution": {
     "iopub.execute_input": "2021-11-28T09:43:02.115149Z",
     "iopub.status.busy": "2021-11-28T09:43:02.115016Z",
     "iopub.status.idle": "2021-11-28T09:43:23.539380Z",
     "shell.execute_reply": "2021-11-28T09:43:23.538866Z",
     "shell.execute_reply.started": "2021-11-28T09:43:02.115132Z"
    },
    "papermill": {
     "duration": null,
     "end_time": null,
     "exception": null,
     "start_time": null,
     "status": "pending"
    },
    "tags": []
   },
   "outputs": [],
   "source": [
    "engine = BacktestEngine(\n",
    "    signal=signal.CrushSpreadSimon1999InSample(\n",
    "        ma_lookback=5,\n",
    "        ma_entry=100,\n",
    "        ma_exit=100,\n",
    "        fair_value=True,\n",
    "        fair_value_entry=0,\n",
    "        fair_value_end_date=datetime(1995, 2, 28),\n",
    "        long_position=True,\n",
    "        short_position=False,\n",
    "    ),\n",
    "    **common_kwargs,\n",
    ")\n",
    "engine.run()"
   ]
  },
  {
   "cell_type": "code",
   "execution_count": null,
   "id": "cead0056",
   "metadata": {
    "execution": {
     "iopub.execute_input": "2021-11-28T09:43:23.540138Z",
     "iopub.status.busy": "2021-11-28T09:43:23.539990Z",
     "iopub.status.idle": "2021-11-28T09:43:28.228648Z",
     "shell.execute_reply": "2021-11-28T09:43:28.228236Z",
     "shell.execute_reply.started": "2021-11-28T09:43:23.540120Z"
    },
    "papermill": {
     "duration": null,
     "end_time": null,
     "exception": null,
     "start_time": null,
     "status": "pending"
    },
    "tags": []
   },
   "outputs": [],
   "source": [
    "long_only_with_fair_value = engine.calculate_equity_curve(calculate_net=False)"
   ]
  },
  {
   "cell_type": "code",
   "execution_count": null,
   "id": "abe3f72c",
   "metadata": {
    "execution": {
     "iopub.execute_input": "2021-11-28T09:43:28.229182Z",
     "iopub.status.busy": "2021-11-28T09:43:28.229087Z",
     "iopub.status.idle": "2021-11-28T09:43:49.905763Z",
     "shell.execute_reply": "2021-11-28T09:43:49.905358Z",
     "shell.execute_reply.started": "2021-11-28T09:43:28.229170Z"
    },
    "papermill": {
     "duration": null,
     "end_time": null,
     "exception": null,
     "start_time": null,
     "status": "pending"
    },
    "tags": []
   },
   "outputs": [],
   "source": [
    "engine = BacktestEngine(\n",
    "    signal=signal.CrushSpreadSimon1999InSample(\n",
    "        ma_lookback=5,\n",
    "        ma_entry=100,\n",
    "        ma_exit=100,\n",
    "        fair_value=True,\n",
    "        fair_value_entry=0.1,\n",
    "        fair_value_end_date=datetime(1995, 2, 28),\n",
    "        long_position=True,\n",
    "        short_position=False,\n",
    "    ),\n",
    "    **common_kwargs,\n",
    ")\n",
    "engine.run()"
   ]
  },
  {
   "cell_type": "code",
   "execution_count": null,
   "id": "38d7df4c",
   "metadata": {
    "execution": {
     "iopub.execute_input": "2021-11-28T09:43:49.906325Z",
     "iopub.status.busy": "2021-11-28T09:43:49.906205Z",
     "iopub.status.idle": "2021-11-28T09:43:55.080569Z",
     "shell.execute_reply": "2021-11-28T09:43:55.080007Z",
     "shell.execute_reply.started": "2021-11-28T09:43:49.906287Z"
    },
    "papermill": {
     "duration": null,
     "end_time": null,
     "exception": null,
     "start_time": null,
     "status": "pending"
    },
    "tags": []
   },
   "outputs": [],
   "source": [
    "long_only_with_fair_value2 = engine.calculate_equity_curve(calculate_net=False)"
   ]
  },
  {
   "cell_type": "code",
   "execution_count": null,
   "id": "7b26370e",
   "metadata": {
    "execution": {
     "iopub.execute_input": "2021-11-28T09:43:55.081342Z",
     "iopub.status.busy": "2021-11-28T09:43:55.081213Z",
     "iopub.status.idle": "2021-11-28T09:43:55.084837Z",
     "shell.execute_reply": "2021-11-28T09:43:55.084344Z",
     "shell.execute_reply.started": "2021-11-28T09:43:55.081325Z"
    },
    "papermill": {
     "duration": null,
     "end_time": null,
     "exception": null,
     "start_time": null,
     "status": "pending"
    },
    "tags": []
   },
   "outputs": [],
   "source": [
    "levels2 = pd.concat((long_only_with_fair_value.rename('LO: MA entry = $100, FV entry = 0.0'), \n",
    "                     long_only_with_fair_value2.rename('LO: MA entry = $100, FV entry = 0.1')), axis=1)"
   ]
  },
  {
   "cell_type": "code",
   "execution_count": null,
   "id": "27b66b95",
   "metadata": {
    "execution": {
     "iopub.execute_input": "2021-11-28T09:43:55.085564Z",
     "iopub.status.busy": "2021-11-28T09:43:55.085433Z",
     "iopub.status.idle": "2021-11-28T09:43:55.477425Z",
     "shell.execute_reply": "2021-11-28T09:43:55.476909Z",
     "shell.execute_reply.started": "2021-11-28T09:43:55.085547Z"
    },
    "papermill": {
     "duration": null,
     "end_time": null,
     "exception": null,
     "start_time": null,
     "status": "pending"
    },
    "tags": []
   },
   "outputs": [],
   "source": [
    "fig, ax = plt.subplots(figsize=(8, 5))\n",
    "levels2.plot(ax=ax, logy=True);\n",
    "ax.set_title('Crush spread mean-reversion\\n(Long-only, with fair value mode, Simon 1999)')\n",
    "ax.set_ylabel('Cumulative returns');"
   ]
  },
  {
   "cell_type": "code",
   "execution_count": null,
   "id": "e9275301",
   "metadata": {
    "execution": {
     "iopub.execute_input": "2021-11-28T09:43:55.478167Z",
     "iopub.status.busy": "2021-11-28T09:43:55.478017Z",
     "iopub.status.idle": "2021-11-28T09:43:55.525314Z",
     "shell.execute_reply": "2021-11-28T09:43:55.524946Z",
     "shell.execute_reply.started": "2021-11-28T09:43:55.478150Z"
    },
    "papermill": {
     "duration": null,
     "end_time": null,
     "exception": null,
     "start_time": null,
     "status": "pending"
    },
    "tags": []
   },
   "outputs": [],
   "source": [
    "levels2.pipe(Performance).summary()"
   ]
  },
  {
   "cell_type": "markdown",
   "id": "0561649e",
   "metadata": {
    "papermill": {
     "duration": null,
     "end_time": null,
     "exception": null,
     "start_time": null,
     "status": "pending"
    },
    "tags": []
   },
   "source": [
    "### Short-only without the fair value model"
   ]
  },
  {
   "cell_type": "code",
   "execution_count": null,
   "id": "14404a07",
   "metadata": {
    "execution": {
     "iopub.execute_input": "2021-11-28T09:43:55.528613Z",
     "iopub.status.busy": "2021-11-28T09:43:55.528464Z",
     "iopub.status.idle": "2021-11-28T09:44:16.928754Z",
     "shell.execute_reply": "2021-11-28T09:44:16.928340Z",
     "shell.execute_reply.started": "2021-11-28T09:43:55.528595Z"
    },
    "papermill": {
     "duration": null,
     "end_time": null,
     "exception": null,
     "start_time": null,
     "status": "pending"
    },
    "tags": []
   },
   "outputs": [],
   "source": [
    "engine = BacktestEngine(\n",
    "    signal=signal.CrushSpreadSimon1999InSample(\n",
    "        ma_lookback=5,\n",
    "        ma_entry=100,\n",
    "        ma_exit=100,\n",
    "        fair_value=False,\n",
    "        long_position=False,\n",
    "        short_position=True,\n",
    "    ),\n",
    "    **common_kwargs,\n",
    ")\n",
    "engine.run()"
   ]
  },
  {
   "cell_type": "code",
   "execution_count": null,
   "id": "750d8158",
   "metadata": {
    "execution": {
     "iopub.execute_input": "2021-11-28T09:44:16.929484Z",
     "iopub.status.busy": "2021-11-28T09:44:16.929367Z",
     "iopub.status.idle": "2021-11-28T09:44:22.482476Z",
     "shell.execute_reply": "2021-11-28T09:44:22.482012Z",
     "shell.execute_reply.started": "2021-11-28T09:44:16.929467Z"
    },
    "papermill": {
     "duration": null,
     "end_time": null,
     "exception": null,
     "start_time": null,
     "status": "pending"
    },
    "tags": []
   },
   "outputs": [],
   "source": [
    "short_only_wo_fair_value = engine.calculate_equity_curve(calculate_net=False)"
   ]
  },
  {
   "cell_type": "code",
   "execution_count": null,
   "id": "c3025761",
   "metadata": {
    "execution": {
     "iopub.execute_input": "2021-11-28T09:44:22.483143Z",
     "iopub.status.busy": "2021-11-28T09:44:22.483022Z",
     "iopub.status.idle": "2021-11-28T09:44:43.422818Z",
     "shell.execute_reply": "2021-11-28T09:44:43.422286Z",
     "shell.execute_reply.started": "2021-11-28T09:44:22.483127Z"
    },
    "papermill": {
     "duration": null,
     "end_time": null,
     "exception": null,
     "start_time": null,
     "status": "pending"
    },
    "tags": []
   },
   "outputs": [],
   "source": [
    "engine = BacktestEngine(\n",
    "    signal=signal.CrushSpreadSimon1999InSample(\n",
    "        ma_lookback=5,\n",
    "        ma_entry=300,\n",
    "        ma_exit=300,\n",
    "        fair_value=False,\n",
    "        long_position=False,\n",
    "        short_position=True,\n",
    "    ),\n",
    "    **common_kwargs,\n",
    ")\n",
    "engine.run()"
   ]
  },
  {
   "cell_type": "code",
   "execution_count": null,
   "id": "ec801c1b",
   "metadata": {
    "execution": {
     "iopub.execute_input": "2021-11-28T09:44:43.423522Z",
     "iopub.status.busy": "2021-11-28T09:44:43.423391Z",
     "iopub.status.idle": "2021-11-28T09:44:48.414670Z",
     "shell.execute_reply": "2021-11-28T09:44:48.414317Z",
     "shell.execute_reply.started": "2021-11-28T09:44:43.423506Z"
    },
    "papermill": {
     "duration": null,
     "end_time": null,
     "exception": null,
     "start_time": null,
     "status": "pending"
    },
    "tags": []
   },
   "outputs": [],
   "source": [
    "short_only_wo_fair_value2 = engine.calculate_equity_curve(calculate_net=False)"
   ]
  },
  {
   "cell_type": "code",
   "execution_count": null,
   "id": "6b1e72ed",
   "metadata": {
    "execution": {
     "iopub.execute_input": "2021-11-28T09:44:48.415296Z",
     "iopub.status.busy": "2021-11-28T09:44:48.415149Z",
     "iopub.status.idle": "2021-11-28T09:44:48.418960Z",
     "shell.execute_reply": "2021-11-28T09:44:48.418593Z",
     "shell.execute_reply.started": "2021-11-28T09:44:48.415268Z"
    },
    "papermill": {
     "duration": null,
     "end_time": null,
     "exception": null,
     "start_time": null,
     "status": "pending"
    },
    "tags": []
   },
   "outputs": [],
   "source": [
    "levels3 = pd.concat((short_only_wo_fair_value.rename('SO: Entry threshold = $100'), \n",
    "                     short_only_wo_fair_value2.rename('SO: Entry threshold = $300')), axis=1)"
   ]
  },
  {
   "cell_type": "markdown",
   "id": "3979f033",
   "metadata": {
    "papermill": {
     "duration": null,
     "end_time": null,
     "exception": null,
     "start_time": null,
     "status": "pending"
    },
    "tags": []
   },
   "source": [
    "Again, interestingly, short-only strategy performed well in the out-of-sample period. However it started to underperform since around 2013."
   ]
  },
  {
   "cell_type": "code",
   "execution_count": null,
   "id": "6f4ca6f7",
   "metadata": {
    "execution": {
     "iopub.execute_input": "2021-11-28T09:44:48.419671Z",
     "iopub.status.busy": "2021-11-28T09:44:48.419536Z",
     "iopub.status.idle": "2021-11-28T09:44:48.760854Z",
     "shell.execute_reply": "2021-11-28T09:44:48.760411Z",
     "shell.execute_reply.started": "2021-11-28T09:44:48.419654Z"
    },
    "papermill": {
     "duration": null,
     "end_time": null,
     "exception": null,
     "start_time": null,
     "status": "pending"
    },
    "tags": []
   },
   "outputs": [],
   "source": [
    "fig, ax = plt.subplots(figsize=(8, 5))\n",
    "levels3.plot(ax=ax, logy=True);\n",
    "ax.set_title('Crush spread mean-reversion\\n(Short-only, without fair value mode, Simon 1999)')\n",
    "ax.set_ylabel('Cumulative returns');"
   ]
  },
  {
   "cell_type": "code",
   "execution_count": null,
   "id": "08669996",
   "metadata": {
    "execution": {
     "iopub.execute_input": "2021-11-28T09:44:48.761622Z",
     "iopub.status.busy": "2021-11-28T09:44:48.761488Z",
     "iopub.status.idle": "2021-11-28T09:44:48.810946Z",
     "shell.execute_reply": "2021-11-28T09:44:48.810499Z",
     "shell.execute_reply.started": "2021-11-28T09:44:48.761606Z"
    },
    "papermill": {
     "duration": null,
     "end_time": null,
     "exception": null,
     "start_time": null,
     "status": "pending"
    },
    "tags": []
   },
   "outputs": [],
   "source": [
    "levels3.pipe(Performance).summary()"
   ]
  },
  {
   "cell_type": "markdown",
   "id": "5eba22a4",
   "metadata": {
    "papermill": {
     "duration": null,
     "end_time": null,
     "exception": null,
     "start_time": null,
     "status": "pending"
    },
    "tags": []
   },
   "source": [
    "### Short-only with the fair value model"
   ]
  },
  {
   "cell_type": "code",
   "execution_count": null,
   "id": "b4bc6ce0",
   "metadata": {
    "execution": {
     "iopub.execute_input": "2021-11-28T09:44:48.811796Z",
     "iopub.status.busy": "2021-11-28T09:44:48.811648Z",
     "iopub.status.idle": "2021-11-28T09:45:10.053320Z",
     "shell.execute_reply": "2021-11-28T09:45:10.052896Z",
     "shell.execute_reply.started": "2021-11-28T09:44:48.811778Z"
    },
    "papermill": {
     "duration": null,
     "end_time": null,
     "exception": null,
     "start_time": null,
     "status": "pending"
    },
    "tags": []
   },
   "outputs": [],
   "source": [
    "engine = BacktestEngine(\n",
    "    signal=signal.CrushSpreadSimon1999InSample(\n",
    "        ma_lookback=5,\n",
    "        ma_entry=100,\n",
    "        ma_exit=100,\n",
    "        fair_value=True,\n",
    "        fair_value_entry=0,\n",
    "        fair_value_end_date=datetime(1995, 2, 28),\n",
    "        long_position=False,\n",
    "        short_position=True,\n",
    "    ),\n",
    "    **common_kwargs,\n",
    ")\n",
    "engine.run()"
   ]
  },
  {
   "cell_type": "code",
   "execution_count": null,
   "id": "44c21811",
   "metadata": {
    "execution": {
     "iopub.execute_input": "2021-11-28T09:45:10.053874Z",
     "iopub.status.busy": "2021-11-28T09:45:10.053781Z",
     "iopub.status.idle": "2021-11-28T09:45:14.771623Z",
     "shell.execute_reply": "2021-11-28T09:45:14.771206Z",
     "shell.execute_reply.started": "2021-11-28T09:45:10.053862Z"
    },
    "papermill": {
     "duration": null,
     "end_time": null,
     "exception": null,
     "start_time": null,
     "status": "pending"
    },
    "tags": []
   },
   "outputs": [],
   "source": [
    "short_only_with_fair_value = engine.calculate_equity_curve(calculate_net=False)"
   ]
  },
  {
   "cell_type": "code",
   "execution_count": null,
   "id": "c1135c7b",
   "metadata": {
    "execution": {
     "iopub.execute_input": "2021-11-28T09:45:14.772166Z",
     "iopub.status.busy": "2021-11-28T09:45:14.772066Z",
     "iopub.status.idle": "2021-11-28T09:45:35.953877Z",
     "shell.execute_reply": "2021-11-28T09:45:35.953399Z",
     "shell.execute_reply.started": "2021-11-28T09:45:14.772153Z"
    },
    "papermill": {
     "duration": null,
     "end_time": null,
     "exception": null,
     "start_time": null,
     "status": "pending"
    },
    "tags": []
   },
   "outputs": [],
   "source": [
    "engine = BacktestEngine(\n",
    "    signal=signal.CrushSpreadSimon1999InSample(\n",
    "        ma_lookback=5,\n",
    "        ma_entry=100,\n",
    "        ma_exit=100,\n",
    "        fair_value=True,\n",
    "        fair_value_entry=0.1,\n",
    "        fair_value_end_date=datetime(1995, 2, 28),\n",
    "        long_position=False,\n",
    "        short_position=True,\n",
    "    ),\n",
    "    **common_kwargs,\n",
    ")\n",
    "engine.run()"
   ]
  },
  {
   "cell_type": "code",
   "execution_count": null,
   "id": "366e7faf",
   "metadata": {
    "execution": {
     "iopub.execute_input": "2021-11-28T09:45:35.954488Z",
     "iopub.status.busy": "2021-11-28T09:45:35.954389Z",
     "iopub.status.idle": "2021-11-28T09:45:40.931637Z",
     "shell.execute_reply": "2021-11-28T09:45:40.931111Z",
     "shell.execute_reply.started": "2021-11-28T09:45:35.954476Z"
    },
    "papermill": {
     "duration": null,
     "end_time": null,
     "exception": null,
     "start_time": null,
     "status": "pending"
    },
    "tags": []
   },
   "outputs": [],
   "source": [
    "short_only_with_fair_value2 = engine.calculate_equity_curve(calculate_net=False)"
   ]
  },
  {
   "cell_type": "code",
   "execution_count": null,
   "id": "a904ca27",
   "metadata": {
    "execution": {
     "iopub.execute_input": "2021-11-28T09:45:40.932388Z",
     "iopub.status.busy": "2021-11-28T09:45:40.932255Z",
     "iopub.status.idle": "2021-11-28T09:45:40.935597Z",
     "shell.execute_reply": "2021-11-28T09:45:40.935158Z",
     "shell.execute_reply.started": "2021-11-28T09:45:40.932371Z"
    },
    "papermill": {
     "duration": null,
     "end_time": null,
     "exception": null,
     "start_time": null,
     "status": "pending"
    },
    "tags": []
   },
   "outputs": [],
   "source": [
    "levels4 = pd.concat((short_only_with_fair_value.rename('SO: MA entry = $100, FV entry = 0.0'), \n",
    "                     short_only_with_fair_value2.rename('SO: MA entry = $100, FV entry = 0.1')), axis=1)"
   ]
  },
  {
   "cell_type": "markdown",
   "id": "bcf3b9c6",
   "metadata": {
    "papermill": {
     "duration": null,
     "end_time": null,
     "exception": null,
     "start_time": null,
     "status": "pending"
    },
    "tags": []
   },
   "source": [
    "The fair value model almost stopped taking positions in the out-of-sample period because the regression redisual started to drift away from zero. This suggests that the model needs to be refit on a rolling basis."
   ]
  },
  {
   "cell_type": "code",
   "execution_count": null,
   "id": "931249e9",
   "metadata": {
    "execution": {
     "iopub.execute_input": "2021-11-28T09:45:40.936276Z",
     "iopub.status.busy": "2021-11-28T09:45:40.936145Z",
     "iopub.status.idle": "2021-11-28T09:45:41.293892Z",
     "shell.execute_reply": "2021-11-28T09:45:41.293373Z",
     "shell.execute_reply.started": "2021-11-28T09:45:40.936259Z"
    },
    "papermill": {
     "duration": null,
     "end_time": null,
     "exception": null,
     "start_time": null,
     "status": "pending"
    },
    "tags": []
   },
   "outputs": [],
   "source": [
    "fig, ax = plt.subplots(figsize=(8, 5))\n",
    "levels4.plot(ax=ax, logy=True);\n",
    "ax.set_title('Crush spread mean-reversion\\n(Short-only, with fair value mode, Simon 1999)')\n",
    "ax.set_ylabel('Cumulative returns');"
   ]
  },
  {
   "cell_type": "code",
   "execution_count": null,
   "id": "aa4e3222",
   "metadata": {
    "execution": {
     "iopub.execute_input": "2021-11-28T09:45:41.294629Z",
     "iopub.status.busy": "2021-11-28T09:45:41.294494Z",
     "iopub.status.idle": "2021-11-28T09:45:41.341716Z",
     "shell.execute_reply": "2021-11-28T09:45:41.341301Z",
     "shell.execute_reply.started": "2021-11-28T09:45:41.294611Z"
    },
    "papermill": {
     "duration": null,
     "end_time": null,
     "exception": null,
     "start_time": null,
     "status": "pending"
    },
    "tags": []
   },
   "outputs": [],
   "source": [
    "levels4.pipe(Performance).summary()"
   ]
  },
  {
   "cell_type": "markdown",
   "id": "d6521f16",
   "metadata": {
    "papermill": {
     "duration": null,
     "end_time": null,
     "exception": null,
     "start_time": null,
     "status": "pending"
    },
    "tags": []
   },
   "source": [
    "# Post publication"
   ]
  },
  {
   "cell_type": "code",
   "execution_count": null,
   "id": "8745e652",
   "metadata": {
    "execution": {
     "iopub.execute_input": "2021-11-28T09:45:41.342448Z",
     "iopub.status.busy": "2021-11-28T09:45:41.342314Z",
     "iopub.status.idle": "2021-11-28T09:45:41.344742Z",
     "shell.execute_reply": "2021-11-28T09:45:41.344245Z",
     "shell.execute_reply.started": "2021-11-28T09:45:41.342431Z"
    },
    "papermill": {
     "duration": null,
     "end_time": null,
     "exception": null,
     "start_time": null,
     "status": "pending"
    },
    "tags": []
   },
   "outputs": [],
   "source": [
    "publication_date = datetime(1999, 4, 27)"
   ]
  },
  {
   "cell_type": "code",
   "execution_count": null,
   "id": "4f136cfa",
   "metadata": {
    "execution": {
     "iopub.execute_input": "2021-11-28T09:45:41.345446Z",
     "iopub.status.busy": "2021-11-28T09:45:41.345312Z",
     "iopub.status.idle": "2021-11-28T09:45:42.068807Z",
     "shell.execute_reply": "2021-11-28T09:45:42.068249Z",
     "shell.execute_reply.started": "2021-11-28T09:45:41.345429Z"
    },
    "papermill": {
     "duration": null,
     "end_time": null,
     "exception": null,
     "start_time": null,
     "status": "pending"
    },
    "tags": []
   },
   "outputs": [],
   "source": [
    "fig, ax = plt.subplots(1, 2, figsize=(14, 4))\n",
    "levels1.plot(ax=ax[0], logy=True);\n",
    "ax[0].set_title('Crush spread mean-reversion\\n(Long-only, without fair value mode, Simon 1999)')\n",
    "ax[0].set_ylabel('Cumulative returns');\n",
    "ax[0].axvline(publication_date, lw=1, ls='--', color='black')\n",
    "ax[0].text(publication_date, 100, 'Publication date ', ha='right')\n",
    "\n",
    "levels1.loc[publication_date:].pipe(rebase).plot(ax=ax[1], logy=True);\n",
    "ax[1].set_title('Post publication');"
   ]
  },
  {
   "cell_type": "code",
   "execution_count": null,
   "id": "49c1ee79",
   "metadata": {
    "execution": {
     "iopub.execute_input": "2021-11-28T09:45:42.069546Z",
     "iopub.status.busy": "2021-11-28T09:45:42.069416Z",
     "iopub.status.idle": "2021-11-28T09:45:42.795760Z",
     "shell.execute_reply": "2021-11-28T09:45:42.795268Z",
     "shell.execute_reply.started": "2021-11-28T09:45:42.069529Z"
    },
    "papermill": {
     "duration": null,
     "end_time": null,
     "exception": null,
     "start_time": null,
     "status": "pending"
    },
    "tags": []
   },
   "outputs": [],
   "source": [
    "fig, ax = plt.subplots(1, 2, figsize=(14, 4))\n",
    "levels2.plot(ax=ax[0], logy=True);\n",
    "ax[0].set_title('Crush spread mean-reversion\\n(Long-only, with fair value mode, Simon 1999)')\n",
    "ax[0].set_ylabel('Cumulative returns');\n",
    "ax[0].axvline(publication_date, lw=1, ls='--', color='black')\n",
    "ax[0].text(publication_date, 100, 'Publication date ', ha='right')\n",
    "\n",
    "levels2.loc[publication_date:].pipe(rebase).plot(ax=ax[1], logy=True);\n",
    "ax[1].set_title('Post publication');"
   ]
  },
  {
   "cell_type": "code",
   "execution_count": null,
   "id": "c055d72e",
   "metadata": {
    "execution": {
     "iopub.execute_input": "2021-11-28T09:45:42.796622Z",
     "iopub.status.busy": "2021-11-28T09:45:42.796418Z",
     "iopub.status.idle": "2021-11-28T09:45:43.403438Z",
     "shell.execute_reply": "2021-11-28T09:45:43.402924Z",
     "shell.execute_reply.started": "2021-11-28T09:45:42.796603Z"
    },
    "papermill": {
     "duration": null,
     "end_time": null,
     "exception": null,
     "start_time": null,
     "status": "pending"
    },
    "tags": []
   },
   "outputs": [],
   "source": [
    "fig, ax = plt.subplots(1, 2, figsize=(14, 4))\n",
    "levels3.plot(ax=ax[0], logy=True);\n",
    "ax[0].set_title('Crush spread mean-reversion\\n(Short-only, without fair value mode, Simon 1999)')\n",
    "ax[0].set_ylabel('Cumulative returns');\n",
    "ax[0].axvline(publication_date, lw=1, ls='--', color='black')\n",
    "ax[0].text(publication_date, 100, 'Publication date ', ha='right')\n",
    "\n",
    "levels3.loc[publication_date:].pipe(rebase).plot(ax=ax[1], logy=True);\n",
    "ax[1].set_title('Post publication');"
   ]
  },
  {
   "cell_type": "code",
   "execution_count": null,
   "id": "18d734fc",
   "metadata": {
    "execution": {
     "iopub.execute_input": "2021-11-28T09:45:43.404185Z",
     "iopub.status.busy": "2021-11-28T09:45:43.404028Z",
     "iopub.status.idle": "2021-11-28T09:45:44.112644Z",
     "shell.execute_reply": "2021-11-28T09:45:44.112112Z",
     "shell.execute_reply.started": "2021-11-28T09:45:43.404168Z"
    },
    "papermill": {
     "duration": null,
     "end_time": null,
     "exception": null,
     "start_time": null,
     "status": "pending"
    },
    "tags": []
   },
   "outputs": [],
   "source": [
    "fig, ax = plt.subplots(1, 2, figsize=(14, 4))\n",
    "levels4.plot(ax=ax[0], logy=True);\n",
    "ax[0].set_title('Crush spread mean-reversion\\n(Short-only, with fair value mode, Simon 1999)')\n",
    "ax[0].set_ylabel('Cumulative returns');\n",
    "ax[0].axvline(publication_date, lw=1, ls='--', color='black')\n",
    "ax[0].text(publication_date, 100, 'Publication date ', ha='right')\n",
    "\n",
    "levels4.loc[publication_date:].pipe(rebase).plot(ax=ax[1], logy=True);\n",
    "ax[1].set_title('Post publication');"
   ]
  },
  {
   "cell_type": "markdown",
   "id": "9363135f",
   "metadata": {
    "papermill": {
     "duration": null,
     "end_time": null,
     "exception": null,
     "start_time": null,
     "status": "pending"
    },
    "tags": []
   },
   "source": [
    "# Seasonality\n",
    "\n",
    "In the regression analysis, we saw that the crush spread tended to be higher in the growing season, and lower in winter. Let's see if this pattern can be captured in a simple long/short strategy."
   ]
  },
  {
   "cell_type": "code",
   "execution_count": null,
   "id": "748b6846",
   "metadata": {
    "execution": {
     "iopub.execute_input": "2021-11-28T14:11:07.066930Z",
     "iopub.status.busy": "2021-11-28T14:11:07.066763Z",
     "iopub.status.idle": "2021-11-28T14:11:12.228490Z",
     "shell.execute_reply": "2021-11-28T14:11:12.227962Z",
     "shell.execute_reply.started": "2021-11-28T14:11:07.066911Z"
    },
    "papermill": {
     "duration": null,
     "end_time": null,
     "exception": null,
     "start_time": null,
     "status": "pending"
    },
    "tags": []
   },
   "outputs": [],
   "source": [
    "soybean_1st = BacktestEngine(instrument=InstrumentDef('S', collateral=10000), log_level=logging.WARN)\n",
    "soybean_1st.run()"
   ]
  },
  {
   "cell_type": "code",
   "execution_count": null,
   "id": "680e65e7",
   "metadata": {
    "execution": {
     "iopub.execute_input": "2021-11-28T14:11:25.167015Z",
     "iopub.status.busy": "2021-11-28T14:11:25.166849Z",
     "iopub.status.idle": "2021-11-28T14:11:30.760932Z",
     "shell.execute_reply": "2021-11-28T14:11:30.760339Z",
     "shell.execute_reply.started": "2021-11-28T14:11:25.166996Z"
    },
    "papermill": {
     "duration": null,
     "end_time": null,
     "exception": null,
     "start_time": null,
     "status": "pending"
    },
    "tags": []
   },
   "outputs": [],
   "source": [
    "soybean_meal_1st = BacktestEngine(instrument=InstrumentDef('SM', collateral=10000), log_level=logging.WARN)\n",
    "soybean_meal_1st.run()"
   ]
  },
  {
   "cell_type": "code",
   "execution_count": null,
   "id": "53d7245f",
   "metadata": {
    "execution": {
     "iopub.execute_input": "2021-11-28T14:11:46.561692Z",
     "iopub.status.busy": "2021-11-28T14:11:46.561478Z",
     "iopub.status.idle": "2021-11-28T14:11:51.123329Z",
     "shell.execute_reply": "2021-11-28T14:11:51.122961Z",
     "shell.execute_reply.started": "2021-11-28T14:11:46.561667Z"
    },
    "papermill": {
     "duration": null,
     "end_time": null,
     "exception": null,
     "start_time": null,
     "status": "pending"
    },
    "tags": []
   },
   "outputs": [],
   "source": [
    "soybean_oil_1st = BacktestEngine(instrument=InstrumentDef('BO', collateral=10000), log_level=logging.WARN)\n",
    "soybean_oil_1st.run()"
   ]
  },
  {
   "cell_type": "markdown",
   "id": "80039d8d",
   "metadata": {
    "papermill": {
     "duration": null,
     "end_time": null,
     "exception": null,
     "start_time": null,
     "status": "pending"
    },
    "tags": []
   },
   "source": [
    "`crush_spread_return` contains returns of a long position in the crush spread (1 lot each)."
   ]
  },
  {
   "cell_type": "code",
   "execution_count": null,
   "id": "f38c179b",
   "metadata": {
    "execution": {
     "iopub.execute_input": "2021-11-28T14:13:30.716924Z",
     "iopub.status.busy": "2021-11-28T14:13:30.716616Z",
     "iopub.status.idle": "2021-11-28T14:13:35.568524Z",
     "shell.execute_reply": "2021-11-28T14:13:35.568016Z",
     "shell.execute_reply.started": "2021-11-28T14:13:30.716891Z"
    },
    "papermill": {
     "duration": null,
     "end_time": null,
     "exception": null,
     "start_time": null,
     "status": "pending"
    },
    "tags": []
   },
   "outputs": [],
   "source": [
    "crush_spread_return = pd.concat((\n",
    "    soybean_meal_1st.get_return(calculate_net=False).mul(100),\n",
    "    soybean_oil_1st.get_return(calculate_net=False).mul(600),\n",
    "    soybean_1st.get_return(calculate_net=False).mul(-50),\n",
    "), axis=1).fillna(0).sum(axis=1)"
   ]
  },
  {
   "cell_type": "code",
   "execution_count": null,
   "id": "d18ae258",
   "metadata": {
    "execution": {
     "iopub.execute_input": "2021-11-28T14:37:18.740986Z",
     "iopub.status.busy": "2021-11-28T14:37:18.740746Z",
     "iopub.status.idle": "2021-11-28T14:37:18.758743Z",
     "shell.execute_reply": "2021-11-28T14:37:18.758312Z",
     "shell.execute_reply.started": "2021-11-28T14:37:18.740954Z"
    },
    "papermill": {
     "duration": null,
     "end_time": null,
     "exception": null,
     "start_time": null,
     "status": "pending"
    },
    "tags": []
   },
   "outputs": [],
   "source": [
    "seasonality = crush_spread_return.to_frame('return').assign(\n",
    "    growing=lambda df: -1 * df['return'].where((df.index.month >= 2) & (df.index.month <= 6)),\n",
    "    winter=lambda df: df['return'].where((df.index.month >= 9) & (df.index.month <= 11)),\n",
    ").fillna(0).assign(\n",
    "    long_short=lambda df: df['growing'] + df['winter']\n",
    ").add(1).cumprod().rename(columns={\n",
    "    'return': 'Unconditional long',\n",
    "    'growing': 'Short growing season',\n",
    "    'winter': 'Long winter',\n",
    "    'long_short': 'Short growing season + long winter',\n",
    "})"
   ]
  },
  {
   "cell_type": "markdown",
   "id": "7dcb2de8",
   "metadata": {
    "papermill": {
     "duration": null,
     "end_time": null,
     "exception": null,
     "start_time": null,
     "status": "pending"
    },
    "tags": []
   },
   "source": [
    "The result is consistent with the regression, however it doesn't look a very attractive strategy."
   ]
  },
  {
   "cell_type": "code",
   "execution_count": null,
   "id": "4619efab",
   "metadata": {
    "execution": {
     "iopub.execute_input": "2021-11-28T14:37:20.162422Z",
     "iopub.status.busy": "2021-11-28T14:37:20.162265Z",
     "iopub.status.idle": "2021-11-28T14:37:20.638812Z",
     "shell.execute_reply": "2021-11-28T14:37:20.638374Z",
     "shell.execute_reply.started": "2021-11-28T14:37:20.162404Z"
    },
    "papermill": {
     "duration": null,
     "end_time": null,
     "exception": null,
     "start_time": null,
     "status": "pending"
    },
    "tags": []
   },
   "outputs": [],
   "source": [
    "fig, ax = plt.subplots(figsize=(8, 5))\n",
    "\n",
    "seasonality.plot(ax=ax, logy=True);\n",
    "ax.set_title('Crush spread seasonality strategy')\n",
    "ax.set_ylabel('Cumulative returns');"
   ]
  },
  {
   "cell_type": "code",
   "execution_count": null,
   "id": "a6add8a3",
   "metadata": {
    "execution": {
     "iopub.execute_input": "2021-11-28T14:37:22.057392Z",
     "iopub.status.busy": "2021-11-28T14:37:22.057255Z",
     "iopub.status.idle": "2021-11-28T14:37:22.121281Z",
     "shell.execute_reply": "2021-11-28T14:37:22.120905Z",
     "shell.execute_reply.started": "2021-11-28T14:37:22.057377Z"
    },
    "papermill": {
     "duration": null,
     "end_time": null,
     "exception": null,
     "start_time": null,
     "status": "pending"
    },
    "tags": []
   },
   "outputs": [],
   "source": [
    "seasonality.pipe(Performance).summary()"
   ]
  },
  {
   "cell_type": "markdown",
   "id": "e7fc622d",
   "metadata": {
    "papermill": {
     "duration": null,
     "end_time": null,
     "exception": null,
     "start_time": null,
     "status": "pending"
    },
    "tags": []
   },
   "source": [
    "# Note\n",
    "- As mentioned above, the fair value model is fit using data until Feb-1995. This means the performance before this period is in-sample and hence not a valid trading strategy\n",
    "- The trading strategy appears to be highly sensitive to the threshold for the fair value model\n",
    "- The regression and backtest suggest that the fair value model is time-varying which means the model needs to be refit on a regular basis"
   ]
  },
  {
   "cell_type": "markdown",
   "id": "49b1e985",
   "metadata": {
    "papermill": {
     "duration": null,
     "end_time": null,
     "exception": null,
     "start_time": null,
     "status": "pending"
    },
    "tags": []
   },
   "source": [
    "# Reference\n",
    "- Mitchell, J.B., 2010. Soybean futures crush spread arbitrage: Trading strategies and market efficiency. Journal of Risk and Financial Management, 3(1), pp.63-96.\n",
    "- Simon, D.P., 1999. The soybean crush spread: Empirical evidence and trading strategies. Journal of Futures Markets: Futures, Options, and Other Derivative Products, 19(3), pp.271-289."
   ]
  },
  {
   "cell_type": "code",
   "execution_count": null,
   "id": "5ad1f096",
   "metadata": {
    "execution": {
     "iopub.execute_input": "2021-11-28T13:26:07.545672Z",
     "iopub.status.busy": "2021-11-28T13:26:07.545499Z",
     "iopub.status.idle": "2021-11-28T13:26:07.548710Z",
     "shell.execute_reply": "2021-11-28T13:26:07.548275Z",
     "shell.execute_reply.started": "2021-11-28T13:26:07.545653Z"
    },
    "papermill": {
     "duration": null,
     "end_time": null,
     "exception": null,
     "start_time": null,
     "status": "pending"
    },
    "tags": []
   },
   "outputs": [],
   "source": [
    "print(f'Updated: {datetime.utcnow():%d-%b-%Y %H:%M}')"
   ]
  }
 ],
 "metadata": {
  "kernelspec": {
   "display_name": "Python 3",
   "language": "python",
   "name": "python3"
  },
  "language_info": {
   "codemirror_mode": {
    "name": "ipython",
    "version": 3
   },
   "file_extension": ".py",
   "mimetype": "text/x-python",
   "name": "python",
   "nbconvert_exporter": "python",
   "pygments_lexer": "ipython3",
   "version": "3.9.6"
  },
  "papermill": {
   "default_parameters": {},
   "duration": 862.689598,
   "end_time": "2022-05-13T06:14:28.635796",
   "environment_variables": {},
   "exception": true,
   "input_path": "notebooks/papermill/commodity_crush_spread_stat_arb.ipynb",
   "output_path": "notebooks/commodity_crush_spread_stat_arb.ipynb",
   "parameters": {},
   "start_time": "2022-05-13T06:00:05.946198",
   "version": "2.3.4"
  }
 },
 "nbformat": 4,
 "nbformat_minor": 5
}