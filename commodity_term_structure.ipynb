{
 "cells": [
  {
   "cell_type": "markdown",
   "id": "8d2363b0",
   "metadata": {
    "papermill": {
     "duration": 0.026596,
     "end_time": "2022-07-08T06:00:08.580437",
     "exception": false,
     "start_time": "2022-07-08T06:00:08.553841",
     "status": "completed"
    },
    "tags": []
   },
   "source": [
    "# Commodity term structure\n",
    "\n",
    "This notebook analyses commodity term structure strategy which utilises commodity futures' roll yield. The strategy takes long positions on contracts with most backwardation and short positions on ones with most contango. This idea is analogous to FX carry trade and hence this strategy can be classified as commodity carry trade."
   ]
  },
  {
   "cell_type": "code",
   "execution_count": 1,
   "id": "cf13d551",
   "metadata": {
    "ExecuteTime": {
     "end_time": "2020-08-31T19:29:24.852122Z",
     "start_time": "2020-08-31T19:29:24.038266Z"
    },
    "execution": {
     "iopub.execute_input": "2022-07-08T06:00:08.611357Z",
     "iopub.status.busy": "2022-07-08T06:00:08.611085Z",
     "iopub.status.idle": "2022-07-08T06:00:13.200885Z",
     "shell.execute_reply": "2022-07-08T06:00:13.200232Z"
    },
    "papermill": {
     "duration": 4.600533,
     "end_time": "2022-07-08T06:00:13.202783",
     "exception": false,
     "start_time": "2022-07-08T06:00:08.602250",
     "status": "completed"
    },
    "tags": []
   },
   "outputs": [],
   "source": [
    "%matplotlib inline\n",
    "from datetime import datetime\n",
    "import logging\n",
    "import warnings\n",
    "warnings.simplefilter(action='ignore', category=FutureWarning)\n",
    "\n",
    "import pandas as pd\n",
    "import matplotlib.pyplot as plt\n",
    "import matplotlib.ticker as mticker\n",
    "plt.style.use('bmh')\n",
    "\n",
    "from vivace.backtest import signal\n",
    "from vivace.backtest import processing\n",
    "from vivace.backtest.contract import all_futures_hollstein2020\n",
    "from vivace.backtest.engine import BacktestEngine\n",
    "from vivace.backtest.enums import Strategy\n",
    "from vivace.backtest.stats import Performance"
   ]
  },
  {
   "cell_type": "markdown",
   "id": "dbc49462",
   "metadata": {
    "papermill": {
     "duration": 0.00609,
     "end_time": "2022-07-08T06:00:13.215318",
     "exception": false,
     "start_time": "2022-07-08T06:00:13.209228",
     "status": "completed"
    },
    "tags": []
   },
   "source": [
    "# Data\n",
    "\n",
    "26 commodity futures are used as per Hollstein 2020."
   ]
  },
  {
   "cell_type": "code",
   "execution_count": 2,
   "id": "5113fcd6",
   "metadata": {
    "ExecuteTime": {
     "end_time": "2020-08-31T19:29:25.399795Z",
     "start_time": "2020-08-31T19:29:25.371862Z"
    },
    "execution": {
     "iopub.execute_input": "2022-07-08T06:00:13.229314Z",
     "iopub.status.busy": "2022-07-08T06:00:13.229108Z",
     "iopub.status.idle": "2022-07-08T06:00:13.243461Z",
     "shell.execute_reply": "2022-07-08T06:00:13.242868Z"
    },
    "papermill": {
     "duration": 0.024002,
     "end_time": "2022-07-08T06:00:13.245375",
     "exception": false,
     "start_time": "2022-07-08T06:00:13.221373",
     "status": "completed"
    },
    "tags": []
   },
   "outputs": [
    {
     "data": {
      "text/html": [
       "<div>\n",
       "<style scoped>\n",
       "    .dataframe tbody tr th:only-of-type {\n",
       "        vertical-align: middle;\n",
       "    }\n",
       "\n",
       "    .dataframe tbody tr th {\n",
       "        vertical-align: top;\n",
       "    }\n",
       "\n",
       "    .dataframe thead th {\n",
       "        text-align: right;\n",
       "    }\n",
       "</style>\n",
       "<table border=\"1\" class=\"dataframe\">\n",
       "  <thead>\n",
       "    <tr style=\"text-align: right;\">\n",
       "      <th></th>\n",
       "      <th>name</th>\n",
       "    </tr>\n",
       "    <tr>\n",
       "      <th>ticker</th>\n",
       "      <th></th>\n",
       "    </tr>\n",
       "  </thead>\n",
       "  <tbody>\n",
       "    <tr>\n",
       "      <th>CO</th>\n",
       "      <td>Brent Crude Oil</td>\n",
       "    </tr>\n",
       "    <tr>\n",
       "      <th>CC</th>\n",
       "      <td>Cocoa</td>\n",
       "    </tr>\n",
       "    <tr>\n",
       "      <th>KC</th>\n",
       "      <td>Coffee</td>\n",
       "    </tr>\n",
       "    <tr>\n",
       "      <th>C</th>\n",
       "      <td>Corn</td>\n",
       "    </tr>\n",
       "    <tr>\n",
       "      <th>CT</th>\n",
       "      <td>Cotton</td>\n",
       "    </tr>\n",
       "    <tr>\n",
       "      <th>FC</th>\n",
       "      <td>Feeder Cattle</td>\n",
       "    </tr>\n",
       "    <tr>\n",
       "      <th>GC</th>\n",
       "      <td>Gold</td>\n",
       "    </tr>\n",
       "    <tr>\n",
       "      <th>HO</th>\n",
       "      <td>Heating Oil</td>\n",
       "    </tr>\n",
       "    <tr>\n",
       "      <th>HG</th>\n",
       "      <td>Copper</td>\n",
       "    </tr>\n",
       "    <tr>\n",
       "      <th>LH</th>\n",
       "      <td>Lean Hog</td>\n",
       "    </tr>\n",
       "    <tr>\n",
       "      <th>LC</th>\n",
       "      <td>Live Cattle</td>\n",
       "    </tr>\n",
       "    <tr>\n",
       "      <th>LB</th>\n",
       "      <td>Lumber</td>\n",
       "    </tr>\n",
       "    <tr>\n",
       "      <th>DA</th>\n",
       "      <td>Milk</td>\n",
       "    </tr>\n",
       "    <tr>\n",
       "      <th>NG</th>\n",
       "      <td>Natural Gas</td>\n",
       "    </tr>\n",
       "    <tr>\n",
       "      <th>ZO</th>\n",
       "      <td>Oats</td>\n",
       "    </tr>\n",
       "    <tr>\n",
       "      <th>OJ</th>\n",
       "      <td>Orange Juice</td>\n",
       "    </tr>\n",
       "    <tr>\n",
       "      <th>PA</th>\n",
       "      <td>Palladium</td>\n",
       "    </tr>\n",
       "    <tr>\n",
       "      <th>PL</th>\n",
       "      <td>Platinum</td>\n",
       "    </tr>\n",
       "    <tr>\n",
       "      <th>RR</th>\n",
       "      <td>Rough Rice</td>\n",
       "    </tr>\n",
       "    <tr>\n",
       "      <th>SI</th>\n",
       "      <td>Silver</td>\n",
       "    </tr>\n",
       "    <tr>\n",
       "      <th>S</th>\n",
       "      <td>Soybean</td>\n",
       "    </tr>\n",
       "    <tr>\n",
       "      <th>SM</th>\n",
       "      <td>Soybean Meal</td>\n",
       "    </tr>\n",
       "    <tr>\n",
       "      <th>BO</th>\n",
       "      <td>Soybean Oil</td>\n",
       "    </tr>\n",
       "    <tr>\n",
       "      <th>SB</th>\n",
       "      <td>Sugar</td>\n",
       "    </tr>\n",
       "    <tr>\n",
       "      <th>W</th>\n",
       "      <td>Wheat</td>\n",
       "    </tr>\n",
       "    <tr>\n",
       "      <th>CL</th>\n",
       "      <td>WTI Crude Oil</td>\n",
       "    </tr>\n",
       "  </tbody>\n",
       "</table>\n",
       "</div>"
      ],
      "text/plain": [
       "                   name\n",
       "ticker                 \n",
       "CO      Brent Crude Oil\n",
       "CC                Cocoa\n",
       "KC               Coffee\n",
       "C                  Corn\n",
       "CT               Cotton\n",
       "FC        Feeder Cattle\n",
       "GC                 Gold\n",
       "HO          Heating Oil\n",
       "HG               Copper\n",
       "LH             Lean Hog\n",
       "LC          Live Cattle\n",
       "LB               Lumber\n",
       "DA                 Milk\n",
       "NG          Natural Gas\n",
       "ZO                 Oats\n",
       "OJ         Orange Juice\n",
       "PA            Palladium\n",
       "PL             Platinum\n",
       "RR           Rough Rice\n",
       "SI               Silver\n",
       "S               Soybean\n",
       "SM         Soybean Meal\n",
       "BO          Soybean Oil\n",
       "SB                Sugar\n",
       "W                 Wheat\n",
       "CL        WTI Crude Oil"
      ]
     },
     "execution_count": 2,
     "metadata": {},
     "output_type": "execute_result"
    }
   ],
   "source": [
    "all_futures_hollstein2020"
   ]
  },
  {
   "cell_type": "code",
   "execution_count": 3,
   "id": "bdf4ef91",
   "metadata": {
    "ExecuteTime": {
     "end_time": "2020-08-31T19:29:26.170389Z",
     "start_time": "2020-08-31T19:29:26.166205Z"
    },
    "execution": {
     "iopub.execute_input": "2022-07-08T06:00:13.260721Z",
     "iopub.status.busy": "2022-07-08T06:00:13.260146Z",
     "iopub.status.idle": "2022-07-08T06:00:13.265219Z",
     "shell.execute_reply": "2022-07-08T06:00:13.264584Z"
    },
    "papermill": {
     "duration": 0.015157,
     "end_time": "2022-07-08T06:00:13.267144",
     "exception": false,
     "start_time": "2022-07-08T06:00:13.251987",
     "status": "completed"
    },
    "tags": []
   },
   "outputs": [
    {
     "data": {
      "text/plain": [
       "(26, 1)"
      ]
     },
     "execution_count": 3,
     "metadata": {},
     "output_type": "execute_result"
    }
   ],
   "source": [
    "all_futures_hollstein2020.shape"
   ]
  },
  {
   "cell_type": "markdown",
   "id": "052e0947",
   "metadata": {
    "papermill": {
     "duration": 0.006875,
     "end_time": "2022-07-08T06:00:13.281760",
     "exception": false,
     "start_time": "2022-07-08T06:00:13.274885",
     "status": "completed"
    },
    "tags": []
   },
   "source": [
    "# Performance"
   ]
  },
  {
   "cell_type": "markdown",
   "id": "5308ccc2",
   "metadata": {
    "papermill": {
     "duration": 0.006806,
     "end_time": "2022-07-08T06:00:13.296111",
     "exception": false,
     "start_time": "2022-07-08T06:00:13.289305",
     "status": "completed"
    },
    "tags": []
   },
   "source": [
    "## Run backtest\n",
    "\n",
    "Bakshi et al., 2017 used second front contracts and treated first front contracts as 'spot'. This is implemented by specifiying `nth_expiry=2` in this backtest. Term structure (i.e., carry) is then calculated by\n",
    "\n",
    "$$\n",
    "Carry_t = {\\rm log} \\left( \\frac{F_{1, t}}{F_{2, t}} \\right) \\cdot annualisationFactor\n",
    "$$\n",
    "\n",
    "where $F_{1, t}$ is the 1st contract price, $F_{2, t}$ is the 2nd contract price and $annualisationFactor$ is the constant to make the log return annual while considering contract listing schedules for each commodity.\n",
    "\n",
    "Hollstein 2020 uses trailing 1 year average of $Carry$ to avoid an influence of seasonality. The `SMA` post processing takes care of it. Signals are observed on a monthly basis and reflected to the portfolio by taking long  (short) positions for top (bottom) 33% contracts.\n",
    "\n",
    "As typically the case in many studies about cross-sectional strategies, these commodity futures are equally weighted. However in practice some are much less liquid compared to major ones like crude oil. Some liquidity constraints need to be added to run more realistic analysis."
   ]
  },
  {
   "cell_type": "code",
   "execution_count": 4,
   "id": "00e568be",
   "metadata": {
    "ExecuteTime": {
     "end_time": "2020-09-02T22:09:35.368377Z",
     "start_time": "2020-09-02T21:34:59.850395Z"
    },
    "execution": {
     "iopub.execute_input": "2022-07-08T06:00:13.312029Z",
     "iopub.status.busy": "2022-07-08T06:00:13.311802Z",
     "iopub.status.idle": "2022-07-08T06:12:22.631560Z",
     "shell.execute_reply": "2022-07-08T06:12:22.630867Z"
    },
    "papermill": {
     "duration": 729.330059,
     "end_time": "2022-07-08T06:12:22.633484",
     "exception": false,
     "start_time": "2022-07-08T06:00:13.303425",
     "status": "completed"
    },
    "tags": []
   },
   "outputs": [],
   "source": [
    "engine = BacktestEngine(\n",
    "    strategy=Strategy.DELTA_ONE.value,\n",
    "    instrument=all_futures_hollstein2020.index,\n",
    "    signal=signal.XSCarryFutureFuture(nth_expiry_shift=1, \n",
    "                                      post_process=processing.Pipeline([\n",
    "                                          processing.SMA(252),\n",
    "                                          processing.AsFreq(freq='m', method='pad')\n",
    "                                      ])),\n",
    "    log_level=logging.WARN,\n",
    ")\n",
    "engine.run()"
   ]
  },
  {
   "cell_type": "code",
   "execution_count": 5,
   "id": "44a13b0a",
   "metadata": {
    "ExecuteTime": {
     "end_time": "2020-09-02T20:42:14.779932Z",
     "start_time": "2020-09-02T20:40:39.222688Z"
    },
    "execution": {
     "iopub.execute_input": "2022-07-08T06:12:22.649350Z",
     "iopub.status.busy": "2022-07-08T06:12:22.648846Z",
     "iopub.status.idle": "2022-07-08T06:14:38.519374Z",
     "shell.execute_reply": "2022-07-08T06:14:38.517870Z"
    },
    "papermill": {
     "duration": 135.881689,
     "end_time": "2022-07-08T06:14:38.522317",
     "exception": false,
     "start_time": "2022-07-08T06:12:22.640628",
     "status": "completed"
    },
    "tags": []
   },
   "outputs": [],
   "source": [
    "portfolio_return = (engine.calculate_equity_curve(calculate_net=False)\n",
    "                    .rename('Commodity term structure portfolio'))"
   ]
  },
  {
   "cell_type": "code",
   "execution_count": 6,
   "id": "ec7933a5",
   "metadata": {
    "ExecuteTime": {
     "end_time": "2020-09-02T20:45:59.608937Z",
     "start_time": "2020-09-02T20:45:59.405601Z"
    },
    "execution": {
     "iopub.execute_input": "2022-07-08T06:14:38.538837Z",
     "iopub.status.busy": "2022-07-08T06:14:38.538473Z",
     "iopub.status.idle": "2022-07-08T06:14:39.169012Z",
     "shell.execute_reply": "2022-07-08T06:14:39.168509Z"
    },
    "papermill": {
     "duration": 0.640205,
     "end_time": "2022-07-08T06:14:39.170526",
     "exception": false,
     "start_time": "2022-07-08T06:14:38.530321",
     "status": "completed"
    },
    "tags": []
   },
   "outputs": [
    {
     "data": {
      "image/png": "[encoded data removed]",
      "text/plain": [
       "<Figure size 576x324 with 1 Axes>"
      ]
     },
     "metadata": {
      "needs_background": "light"
     },
     "output_type": "display_data"
    }
   ],
   "source": [
    "fig, ax = plt.subplots(figsize=(8, 4.5))\n",
    "portfolio_return.plot(ax=ax, logy=True);\n",
    "ax.set_title('Commodity term structure portfolio')\n",
    "ax.set_ylabel('Cumulative returns');"
   ]
  },
  {
   "cell_type": "code",
   "execution_count": 7,
   "id": "c4ffc9c3",
   "metadata": {
    "ExecuteTime": {
     "end_time": "2020-08-31T20:06:51.873126Z",
     "start_time": "2020-08-31T20:06:51.866509Z"
    },
    "execution": {
     "iopub.execute_input": "2022-07-08T06:14:39.186660Z",
     "iopub.status.busy": "2022-07-08T06:14:39.186418Z",
     "iopub.status.idle": "2022-07-08T06:14:39.280417Z",
     "shell.execute_reply": "2022-07-08T06:14:39.279768Z"
    },
    "papermill": {
     "duration": 0.103968,
     "end_time": "2022-07-08T06:14:39.282239",
     "exception": false,
     "start_time": "2022-07-08T06:14:39.178271",
     "status": "completed"
    },
    "tags": []
   },
   "outputs": [
    {
     "data": {
      "text/html": [
       "<div>\n",
       "<style scoped>\n",
       "    .dataframe tbody tr th:only-of-type {\n",
       "        vertical-align: middle;\n",
       "    }\n",
       "\n",
       "    .dataframe tbody tr th {\n",
       "        vertical-align: top;\n",
       "    }\n",
       "\n",
       "    .dataframe thead th {\n",
       "        text-align: right;\n",
       "    }\n",
       "</style>\n",
       "<table border=\"1\" class=\"dataframe\">\n",
       "  <thead>\n",
       "    <tr style=\"text-align: right;\">\n",
       "      <th></th>\n",
       "      <th>Commodity term structure portfolio</th>\n",
       "    </tr>\n",
       "  </thead>\n",
       "  <tbody>\n",
       "    <tr>\n",
       "      <th>CAGR</th>\n",
       "      <td>0.060370</td>\n",
       "    </tr>\n",
       "    <tr>\n",
       "      <th>Annualised vol</th>\n",
       "      <td>0.113780</td>\n",
       "    </tr>\n",
       "    <tr>\n",
       "      <th>Sharpe ratio</th>\n",
       "      <td>0.530581</td>\n",
       "    </tr>\n",
       "    <tr>\n",
       "      <th>Max drawdown</th>\n",
       "      <td>0.335821</td>\n",
       "    </tr>\n",
       "    <tr>\n",
       "      <th>Calmar ratio</th>\n",
       "      <td>0.179767</td>\n",
       "    </tr>\n",
       "    <tr>\n",
       "      <th>Skewness</th>\n",
       "      <td>-0.147572</td>\n",
       "    </tr>\n",
       "    <tr>\n",
       "      <th>Kurtosis</th>\n",
       "      <td>2.634970</td>\n",
       "    </tr>\n",
       "    <tr>\n",
       "      <th>Worst return</th>\n",
       "      <td>-0.073517</td>\n",
       "    </tr>\n",
       "    <tr>\n",
       "      <th>Worst 1d return</th>\n",
       "      <td>-0.073517</td>\n",
       "    </tr>\n",
       "    <tr>\n",
       "      <th>Worst 1w return</th>\n",
       "      <td>-0.094895</td>\n",
       "    </tr>\n",
       "    <tr>\n",
       "      <th>Worst 1m return</th>\n",
       "      <td>-0.169116</td>\n",
       "    </tr>\n",
       "  </tbody>\n",
       "</table>\n",
       "</div>"
      ],
      "text/plain": [
       "                 Commodity term structure portfolio\n",
       "CAGR                                       0.060370\n",
       "Annualised vol                             0.113780\n",
       "Sharpe ratio                               0.530581\n",
       "Max drawdown                               0.335821\n",
       "Calmar ratio                               0.179767\n",
       "Skewness                                  -0.147572\n",
       "Kurtosis                                   2.634970\n",
       "Worst return                              -0.073517\n",
       "Worst 1d return                           -0.073517\n",
       "Worst 1w return                           -0.094895\n",
       "Worst 1m return                           -0.169116"
      ]
     },
     "execution_count": 7,
     "metadata": {},
     "output_type": "execute_result"
    }
   ],
   "source": [
    "portfolio_return.pipe(Performance).summary()"
   ]
  },
  {
   "cell_type": "markdown",
   "id": "ee8dbc0b",
   "metadata": {
    "papermill": {
     "duration": 0.007299,
     "end_time": "2022-07-08T06:14:39.296812",
     "exception": false,
     "start_time": "2022-07-08T06:14:39.289513",
     "status": "completed"
    },
    "tags": []
   },
   "source": [
    "## Recent performance"
   ]
  },
  {
   "cell_type": "code",
   "execution_count": 8,
   "id": "ba3d22fd",
   "metadata": {
    "execution": {
     "iopub.execute_input": "2022-07-08T06:14:39.312723Z",
     "iopub.status.busy": "2022-07-08T06:14:39.312460Z",
     "iopub.status.idle": "2022-07-08T06:14:39.729555Z",
     "shell.execute_reply": "2022-07-08T06:14:39.728990Z"
    },
    "papermill": {
     "duration": 0.428216,
     "end_time": "2022-07-08T06:14:39.731978",
     "exception": false,
     "start_time": "2022-07-08T06:14:39.303762",
     "status": "completed"
    },
    "tags": []
   },
   "outputs": [
    {
     "data": {
      "image/png": "[encoded data removed]",
      "text/plain": [
       "<Figure size 576x324 with 1 Axes>"
      ]
     },
     "metadata": {
      "needs_background": "light"
     },
     "output_type": "display_data"
    }
   ],
   "source": [
    "fig, ax = plt.subplots(figsize=(8, 4.5))\n",
    "portfolio_return.tail(252 * 2).plot(ax=ax, logy=True);\n",
    "ax.set_title('Commodity term structure portfolio')\n",
    "ax.set_ylabel('Cumulative returns');"
   ]
  },
  {
   "cell_type": "markdown",
   "id": "ad7a4bca",
   "metadata": {
    "papermill": {
     "duration": 0.010943,
     "end_time": "2022-07-08T06:14:39.754500",
     "exception": false,
     "start_time": "2022-07-08T06:14:39.743557",
     "status": "completed"
    },
    "tags": []
   },
   "source": [
    "## Carry\n",
    "\n",
    "The chart below shows the current annualised carry (1y average) across contracts."
   ]
  },
  {
   "cell_type": "code",
   "execution_count": 9,
   "id": "97f28401",
   "metadata": {
    "ExecuteTime": {
     "end_time": "2020-09-02T20:44:34.552570Z",
     "start_time": "2020-09-02T20:44:34.362169Z"
    },
    "execution": {
     "iopub.execute_input": "2022-07-08T06:14:39.778097Z",
     "iopub.status.busy": "2022-07-08T06:14:39.777647Z",
     "iopub.status.idle": "2022-07-08T06:14:40.225025Z",
     "shell.execute_reply": "2022-07-08T06:14:40.224238Z"
    },
    "papermill": {
     "duration": 0.462003,
     "end_time": "2022-07-08T06:14:40.227564",
     "exception": false,
     "start_time": "2022-07-08T06:14:39.765561",
     "status": "completed"
    },
    "tags": []
   },
   "outputs": [
    {
     "data": {
      "image/png": "[encoded data removed]",
      "text/plain": [
       "<Figure size 1008x288 with 1 Axes>"
      ]
     },
     "metadata": {
      "needs_background": "light"
     },
     "output_type": "display_data"
    }
   ],
   "source": [
    "fig, ax = plt.subplots(figsize=(14, 4))\n",
    "(engine.pipeline.pipeline[0].carry.rolling(252).mean().asfreq('m', method='pad').tail(1).squeeze().sort_values()\n",
    " .rename(index=all_futures_hollstein2020.squeeze())\n",
    " .plot(kind='bar', ax=ax));\n",
    "ax.yaxis.set_major_formatter(mticker.PercentFormatter(1, decimals=0))\n",
    "ax.axhline(0, color='black', lw=1, ls='--')\n",
    "ax.set_ylabel('Annualised carry');"
   ]
  },
  {
   "cell_type": "markdown",
   "id": "597737de",
   "metadata": {
    "papermill": {
     "duration": 0.012618,
     "end_time": "2022-07-08T06:14:40.249757",
     "exception": false,
     "start_time": "2022-07-08T06:14:40.237139",
     "status": "completed"
    },
    "tags": []
   },
   "source": [
    "Carry for natural gas tends to have extreme values in winter."
   ]
  },
  {
   "cell_type": "code",
   "execution_count": 10,
   "id": "d9f7d97d",
   "metadata": {
    "execution": {
     "iopub.execute_input": "2022-07-08T06:14:40.270089Z",
     "iopub.status.busy": "2022-07-08T06:14:40.269894Z",
     "iopub.status.idle": "2022-07-08T06:14:40.669733Z",
     "shell.execute_reply": "2022-07-08T06:14:40.669052Z"
    },
    "papermill": {
     "duration": 0.41176,
     "end_time": "2022-07-08T06:14:40.671686",
     "exception": false,
     "start_time": "2022-07-08T06:14:40.259926",
     "status": "completed"
    },
    "tags": []
   },
   "outputs": [
    {
     "data": {
      "image/png": "[encoded data removed]",
      "text/plain": [
       "<Figure size 1008x288 with 1 Axes>"
      ]
     },
     "metadata": {
      "needs_background": "light"
     },
     "output_type": "display_data"
    }
   ],
   "source": [
    "fig, ax = plt.subplots(figsize=(14, 4))\n",
    "engine.pipeline.pipeline[0].carry.loc['2010':, 'NG'].plot(ax=ax, label='Natural gas');\n",
    "engine.pipeline.pipeline[0].carry.rolling(252).mean().loc['2010':, 'NG'].plot(ax=ax, label='Natural gas (1y average)');\n",
    "ax.yaxis.set_major_formatter(mticker.PercentFormatter(1, decimals=0))\n",
    "ax.axhline(0, color='black', lw=1, ls='--')\n",
    "ax.legend();\n",
    "ax.set_ylabel('Annualised carry');"
   ]
  },
  {
   "cell_type": "markdown",
   "id": "0d6ac0e7",
   "metadata": {
    "papermill": {
     "duration": 0.019876,
     "end_time": "2022-07-08T06:14:40.701628",
     "exception": false,
     "start_time": "2022-07-08T06:14:40.681752",
     "status": "completed"
    },
    "tags": []
   },
   "source": [
    "## Without carry smoothening\n",
    "\n",
    "The carry smoothening does not seem critical when constructing a portfolio. In fact, the portfolio without carry smoothening had higher volatility and Sharpe ratio, although recently it suffered a larger drawdown."
   ]
  },
  {
   "cell_type": "code",
   "execution_count": 11,
   "id": "e07ec224",
   "metadata": {
    "execution": {
     "iopub.execute_input": "2022-07-08T06:14:40.727041Z",
     "iopub.status.busy": "2022-07-08T06:14:40.726713Z",
     "iopub.status.idle": "2022-07-08T06:27:00.201290Z",
     "shell.execute_reply": "2022-07-08T06:27:00.200422Z"
    },
    "papermill": {
     "duration": 739.490999,
     "end_time": "2022-07-08T06:27:00.204084",
     "exception": false,
     "start_time": "2022-07-08T06:14:40.713085",
     "status": "completed"
    },
    "tags": []
   },
   "outputs": [],
   "source": [
    "engine_wo_sma = BacktestEngine(\n",
    "    strategy=Strategy.DELTA_ONE.value,\n",
    "    instrument=all_futures_hollstein2020.index,\n",
    "    signal=signal.XSCarryFutureFuture(nth_expiry_shift=1, \n",
    "                                      post_process=processing.Pipeline([\n",
    "                                          processing.AsFreq(freq='m', method='pad')\n",
    "                                      ])),\n",
    "    log_level=logging.WARN,\n",
    ")\n",
    "engine_wo_sma.run()"
   ]
  },
  {
   "cell_type": "code",
   "execution_count": 12,
   "id": "a3470ba6",
   "metadata": {
    "execution": {
     "iopub.execute_input": "2022-07-08T06:27:00.228419Z",
     "iopub.status.busy": "2022-07-08T06:27:00.227477Z",
     "iopub.status.idle": "2022-07-08T06:29:11.461245Z",
     "shell.execute_reply": "2022-07-08T06:29:11.460370Z"
    },
    "papermill": {
     "duration": 131.247829,
     "end_time": "2022-07-08T06:29:11.463830",
     "exception": false,
     "start_time": "2022-07-08T06:27:00.216001",
     "status": "completed"
    },
    "tags": []
   },
   "outputs": [],
   "source": [
    "portfolio_return_wo_sma = (engine_wo_sma.calculate_equity_curve(calculate_net=False)\n",
    "                           .rename('Commodity term structure portfolio (w/o carry smoothening)'))"
   ]
  },
  {
   "cell_type": "code",
   "execution_count": 13,
   "id": "2a03462f",
   "metadata": {
    "execution": {
     "iopub.execute_input": "2022-07-08T06:29:11.491479Z",
     "iopub.status.busy": "2022-07-08T06:29:11.491154Z",
     "iopub.status.idle": "2022-07-08T06:29:12.320741Z",
     "shell.execute_reply": "2022-07-08T06:29:12.319879Z"
    },
    "papermill": {
     "duration": 0.846918,
     "end_time": "2022-07-08T06:29:12.323886",
     "exception": false,
     "start_time": "2022-07-08T06:29:11.476968",
     "status": "completed"
    },
    "tags": []
   },
   "outputs": [
    {
     "data": {
      "image/png": "[encoded data removed]",
      "text/plain": [
       "<Figure size 576x324 with 1 Axes>"
      ]
     },
     "metadata": {
      "needs_background": "light"
     },
     "output_type": "display_data"
    }
   ],
   "source": [
    "fig, ax = plt.subplots(figsize=(8, 4.5))\n",
    "portfolio_return.plot(ax=ax, logy=True, label='with carry smoothening');\n",
    "portfolio_return_wo_sma.plot(ax=ax, logy=True, label='without carry smoothening');\n",
    "ax.set_title('Commodity term structure portfolio')\n",
    "ax.set_ylabel('Cumulative returns')\n",
    "ax.legend();"
   ]
  },
  {
   "cell_type": "code",
   "execution_count": 14,
   "id": "36fb731d",
   "metadata": {
    "execution": {
     "iopub.execute_input": "2022-07-08T06:29:12.352779Z",
     "iopub.status.busy": "2022-07-08T06:29:12.352450Z",
     "iopub.status.idle": "2022-07-08T06:29:12.606602Z",
     "shell.execute_reply": "2022-07-08T06:29:12.605749Z"
    },
    "papermill": {
     "duration": 0.27132,
     "end_time": "2022-07-08T06:29:12.609011",
     "exception": false,
     "start_time": "2022-07-08T06:29:12.337691",
     "status": "completed"
    },
    "tags": []
   },
   "outputs": [
    {
     "data": {
      "text/html": [
       "<div>\n",
       "<style scoped>\n",
       "    .dataframe tbody tr th:only-of-type {\n",
       "        vertical-align: middle;\n",
       "    }\n",
       "\n",
       "    .dataframe tbody tr th {\n",
       "        vertical-align: top;\n",
       "    }\n",
       "\n",
       "    .dataframe thead th {\n",
       "        text-align: right;\n",
       "    }\n",
       "</style>\n",
       "<table border=\"1\" class=\"dataframe\">\n",
       "  <thead>\n",
       "    <tr style=\"text-align: right;\">\n",
       "      <th></th>\n",
       "      <th>Commodity term structure portfolio</th>\n",
       "      <th>Commodity term structure portfolio (w/o carry smoothening)</th>\n",
       "    </tr>\n",
       "  </thead>\n",
       "  <tbody>\n",
       "    <tr>\n",
       "      <th>CAGR</th>\n",
       "      <td>0.060370</td>\n",
       "      <td>0.108877</td>\n",
       "    </tr>\n",
       "    <tr>\n",
       "      <th>Annualised vol</th>\n",
       "      <td>0.113780</td>\n",
       "      <td>0.162160</td>\n",
       "    </tr>\n",
       "    <tr>\n",
       "      <th>Sharpe ratio</th>\n",
       "      <td>0.530581</td>\n",
       "      <td>0.671415</td>\n",
       "    </tr>\n",
       "    <tr>\n",
       "      <th>Max drawdown</th>\n",
       "      <td>0.335821</td>\n",
       "      <td>0.473483</td>\n",
       "    </tr>\n",
       "    <tr>\n",
       "      <th>Calmar ratio</th>\n",
       "      <td>0.179767</td>\n",
       "      <td>0.229948</td>\n",
       "    </tr>\n",
       "    <tr>\n",
       "      <th>Skewness</th>\n",
       "      <td>-0.147572</td>\n",
       "      <td>-0.064418</td>\n",
       "    </tr>\n",
       "    <tr>\n",
       "      <th>Kurtosis</th>\n",
       "      <td>2.634970</td>\n",
       "      <td>5.228155</td>\n",
       "    </tr>\n",
       "    <tr>\n",
       "      <th>Worst return</th>\n",
       "      <td>-0.073517</td>\n",
       "      <td>-0.140873</td>\n",
       "    </tr>\n",
       "    <tr>\n",
       "      <th>Worst 1d return</th>\n",
       "      <td>-0.073517</td>\n",
       "      <td>-0.140873</td>\n",
       "    </tr>\n",
       "    <tr>\n",
       "      <th>Worst 1w return</th>\n",
       "      <td>-0.094895</td>\n",
       "      <td>-0.125046</td>\n",
       "    </tr>\n",
       "    <tr>\n",
       "      <th>Worst 1m return</th>\n",
       "      <td>-0.169116</td>\n",
       "      <td>-0.207643</td>\n",
       "    </tr>\n",
       "  </tbody>\n",
       "</table>\n",
       "</div>"
      ],
      "text/plain": [
       "                 Commodity term structure portfolio  \\\n",
       "CAGR                                       0.060370   \n",
       "Annualised vol                             0.113780   \n",
       "Sharpe ratio                               0.530581   \n",
       "Max drawdown                               0.335821   \n",
       "Calmar ratio                               0.179767   \n",
       "Skewness                                  -0.147572   \n",
       "Kurtosis                                   2.634970   \n",
       "Worst return                              -0.073517   \n",
       "Worst 1d return                           -0.073517   \n",
       "Worst 1w return                           -0.094895   \n",
       "Worst 1m return                           -0.169116   \n",
       "\n",
       "                 Commodity term structure portfolio (w/o carry smoothening)  \n",
       "CAGR                                                      0.108877           \n",
       "Annualised vol                                            0.162160           \n",
       "Sharpe ratio                                              0.671415           \n",
       "Max drawdown                                              0.473483           \n",
       "Calmar ratio                                              0.229948           \n",
       "Skewness                                                 -0.064418           \n",
       "Kurtosis                                                  5.228155           \n",
       "Worst return                                             -0.140873           \n",
       "Worst 1d return                                          -0.140873           \n",
       "Worst 1w return                                          -0.125046           \n",
       "Worst 1m return                                          -0.207643           "
      ]
     },
     "execution_count": 14,
     "metadata": {},
     "output_type": "execute_result"
    }
   ],
   "source": [
    "pd.concat((\n",
    "    portfolio_return.pipe(Performance).summary(),\n",
    "    portfolio_return_wo_sma.pipe(Performance).summary(),\n",
    "), axis=1)"
   ]
  },
  {
   "cell_type": "markdown",
   "id": "dd26ecb2",
   "metadata": {
    "papermill": {
     "duration": 0.013286,
     "end_time": "2022-07-08T06:29:12.640551",
     "exception": false,
     "start_time": "2022-07-08T06:29:12.627265",
     "status": "completed"
    },
    "tags": []
   },
   "source": [
    "# Reference\n",
    "- Bakshi, G., Gao, X. and Rossi, A.G., 2019. Understanding the sources of risk underlying the cross section of commodity returns. Management Science, 65(2), pp.619-641.\n",
    "- Hollstein, F., Prokopczuk, M. and Tharann, B., 2020. Anomalies in commodity futures markets: Risk or mispricing?. Available at SSRN.\n",
    "- Koijen, R.S., Moskowitz, T.J., Pedersen, L.H. and Vrugt, E.B., 2018. Carry. Journal of Financial Economics, 127(2), pp.197-225."
   ]
  },
  {
   "cell_type": "code",
   "execution_count": 15,
   "id": "86c1b23a",
   "metadata": {
    "ExecuteTime": {
     "end_time": "2020-08-31T05:52:23.734170Z",
     "start_time": "2020-08-31T05:52:23.731627Z"
    },
    "execution": {
     "iopub.execute_input": "2022-07-08T06:29:12.668105Z",
     "iopub.status.busy": "2022-07-08T06:29:12.667828Z",
     "iopub.status.idle": "2022-07-08T06:29:12.672706Z",
     "shell.execute_reply": "2022-07-08T06:29:12.671938Z"
    },
    "papermill": {
     "duration": 0.021417,
     "end_time": "2022-07-08T06:29:12.675353",
     "exception": false,
     "start_time": "2022-07-08T06:29:12.653936",
     "status": "completed"
    },
    "tags": []
   },
   "outputs": [
    {
     "name": "stdout",
     "output_type": "stream",
     "text": [
      "Updated: 08-Jul-2022 06:29\n"
     ]
    }
   ],
   "source": [
    "print(f'Updated: {datetime.utcnow().strftime(\"%d-%b-%Y %H:%M\")}')"
   ]
  }
 ],
 "metadata": {
  "kernelspec": {
   "display_name": "Python 3",
   "language": "python",
   "name": "python3"
  },
  "language_info": {
   "codemirror_mode": {
    "name": "ipython",
    "version": 3
   },
   "file_extension": ".py",
   "mimetype": "text/x-python",
   "name": "python",
   "nbconvert_exporter": "python",
   "pygments_lexer": "ipython3",
   "version": "3.9.6"
  },
  "papermill": {
   "default_parameters": {},
   "duration": 1749.373345,
   "end_time": "2022-07-08T06:29:15.512263",
   "environment_variables": {},
   "exception": null,
   "input_path": "notebooks/papermill/commodity_term_structure.ipynb",
   "output_path": "notebooks/commodity_term_structure.ipynb",
   "parameters": {},
   "start_time": "2022-07-08T06:00:06.138918",
   "version": "2.3.4"
  },
  "toc": {
   "base_numbering": 1,
   "nav_menu": {},
   "number_sections": true,
   "sideBar": true,
   "skip_h1_title": false,
   "title_cell": "Table of Contents",
   "title_sidebar": "Contents",
   "toc_cell": true,
   "toc_position": {
    "height": "calc(100% - 180px)",
    "left": "10px",
    "top": "150px",
    "width": "165px"
   },
   "toc_section_display": true,
   "toc_window_display": true
  },
  "toc-autonumbering": true,
  "toc-showmarkdowntxt": true,
  "toc-showtags": false
 },
 "nbformat": 4,
 "nbformat_minor": 5
}