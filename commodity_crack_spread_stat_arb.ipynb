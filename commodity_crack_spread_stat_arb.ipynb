{
 "cells": [
  {
   "cell_type": "markdown",
   "id": "172ca5c5",
   "metadata": {
    "papermill": {
     "duration": 0.01707,
     "end_time": "2022-06-16T09:01:02.493942",
     "exception": false,
     "start_time": "2022-06-16T09:01:02.476872",
     "status": "completed"
    },
    "tags": []
   },
   "source": [
    "# Commodity crack spread statistical arbitrage\n",
    "\n",
    "In this notebook, the mean-rereversion strategy proposed in Girma and Paulson 1999 (henthforth GP1999) is investigated. It focuses on a various combination of the crude oil (WTI) crack spread. "
   ]
  },
  {
   "cell_type": "code",
   "execution_count": 1,
   "id": "7daa9dab",
   "metadata": {
    "execution": {
     "iopub.execute_input": "2022-06-16T09:01:02.527404Z",
     "iopub.status.busy": "2022-06-16T09:01:02.527126Z",
     "iopub.status.idle": "2022-06-16T09:01:06.152091Z",
     "shell.execute_reply": "2022-06-16T09:01:06.151304Z"
    },
    "papermill": {
     "duration": 3.644186,
     "end_time": "2022-06-16T09:01:06.154267",
     "exception": false,
     "start_time": "2022-06-16T09:01:02.510081",
     "status": "completed"
    },
    "tags": []
   },
   "outputs": [],
   "source": [
    "%matplotlib inline\n",
    "from datetime import datetime\n",
    "import logging\n",
    "import warnings\n",
    "warnings.simplefilter(action='ignore', category=FutureWarning)\n",
    "\n",
    "import pandas as pd\n",
    "import statsmodels.api as sm\n",
    "import matplotlib.pyplot as plt\n",
    "plt.style.use('bmh')\n",
    "\n",
    "from vivace.backtest import BacktestEngine, signal, InstrumentDef\n",
    "from vivace.backtest.analytics import rebase\n",
    "from vivace.backtest.contract import get_futures_curve_snapshot\n",
    "from vivace.backtest.enums import Strategy, Weighting, RollRule\n",
    "from vivace.backtest.stats import Performance"
   ]
  },
  {
   "cell_type": "markdown",
   "id": "68aa8ccf",
   "metadata": {
    "papermill": {
     "duration": 0.02548,
     "end_time": "2022-06-16T09:01:06.198997",
     "exception": false,
     "start_time": "2022-06-16T09:01:06.173517",
     "status": "completed"
    },
    "tags": []
   },
   "source": [
    "# Cointegration test\n",
    "\n",
    "GP1999 first checks if the crack spread is cointegrated. To do that, first let's see futures prices are non-stationary or not. As per usual, the generic price is populated by running a simple long-only backtest by rolling the front contract."
   ]
  },
  {
   "cell_type": "markdown",
   "id": "824e7302",
   "metadata": {
    "papermill": {
     "duration": 0.016243,
     "end_time": "2022-06-16T09:01:06.238160",
     "exception": false,
     "start_time": "2022-06-16T09:01:06.221917",
     "status": "completed"
    },
    "tags": []
   },
   "source": [
    "## ADF test\n",
    "\n",
    "The ADF test is done by the `adfuller` function in `statsmodels`. (cf. https://www.statsmodels.org/dev/generated/statsmodels.tsa.stattools.adfuller.html)"
   ]
  },
  {
   "cell_type": "code",
   "execution_count": 2,
   "id": "4eb3103c",
   "metadata": {
    "execution": {
     "iopub.execute_input": "2022-06-16T09:01:06.281160Z",
     "iopub.status.busy": "2022-06-16T09:01:06.280775Z",
     "iopub.status.idle": "2022-06-16T09:01:16.479057Z",
     "shell.execute_reply": "2022-06-16T09:01:16.478445Z"
    },
    "papermill": {
     "duration": 10.223692,
     "end_time": "2022-06-16T09:01:16.480764",
     "exception": false,
     "start_time": "2022-06-16T09:01:06.257072",
     "status": "completed"
    },
    "tags": []
   },
   "outputs": [],
   "source": [
    "cl_1st = BacktestEngine(instrument='CL', log_level=logging.WARN)\n",
    "cl_1st.run()"
   ]
  },
  {
   "cell_type": "code",
   "execution_count": 3,
   "id": "9910ecff",
   "metadata": {
    "execution": {
     "iopub.execute_input": "2022-06-16T09:01:16.513226Z",
     "iopub.status.busy": "2022-06-16T09:01:16.513032Z",
     "iopub.status.idle": "2022-06-16T09:01:27.027587Z",
     "shell.execute_reply": "2022-06-16T09:01:27.027001Z"
    },
    "papermill": {
     "duration": 10.532964,
     "end_time": "2022-06-16T09:01:27.029509",
     "exception": false,
     "start_time": "2022-06-16T09:01:16.496545",
     "status": "completed"
    },
    "tags": []
   },
   "outputs": [],
   "source": [
    "ho_1st = BacktestEngine(instrument='HO', log_level=logging.WARN)\n",
    "ho_1st.run()"
   ]
  },
  {
   "cell_type": "code",
   "execution_count": 4,
   "id": "32cec4c3",
   "metadata": {
    "execution": {
     "iopub.execute_input": "2022-06-16T09:01:27.064556Z",
     "iopub.status.busy": "2022-06-16T09:01:27.064277Z",
     "iopub.status.idle": "2022-06-16T09:01:37.337682Z",
     "shell.execute_reply": "2022-06-16T09:01:37.336932Z"
    },
    "papermill": {
     "duration": 10.294215,
     "end_time": "2022-06-16T09:01:37.340135",
     "exception": false,
     "start_time": "2022-06-16T09:01:27.045920",
     "status": "completed"
    },
    "tags": []
   },
   "outputs": [],
   "source": [
    "xb_1st = BacktestEngine(instrument='XB', log_level=logging.WARN)\n",
    "xb_1st.run()"
   ]
  },
  {
   "cell_type": "code",
   "execution_count": 5,
   "id": "a602ffe8",
   "metadata": {
    "execution": {
     "iopub.execute_input": "2022-06-16T09:01:37.375883Z",
     "iopub.status.busy": "2022-06-16T09:01:37.375618Z",
     "iopub.status.idle": "2022-06-16T09:01:57.335753Z",
     "shell.execute_reply": "2022-06-16T09:01:57.335061Z"
    },
    "papermill": {
     "duration": 19.98045,
     "end_time": "2022-06-16T09:01:57.337999",
     "exception": false,
     "start_time": "2022-06-16T09:01:37.357549",
     "status": "completed"
    },
    "tags": []
   },
   "outputs": [],
   "source": [
    "cl_price = cl_1st.get_generic_price().squeeze().fillna(method='pad').rename('Crude oil')\n",
    "ho_price = ho_1st.get_generic_price().squeeze().fillna(method='pad').rename('Heating oil')\n",
    "xb_price = xb_1st.get_generic_price().squeeze().fillna(method='pad').rename('Gasoline')"
   ]
  },
  {
   "cell_type": "code",
   "execution_count": 6,
   "id": "81a1c9be",
   "metadata": {
    "execution": {
     "iopub.execute_input": "2022-06-16T09:01:57.384754Z",
     "iopub.status.busy": "2022-06-16T09:01:57.384484Z",
     "iopub.status.idle": "2022-06-16T09:01:57.391159Z",
     "shell.execute_reply": "2022-06-16T09:01:57.390664Z"
    },
    "papermill": {
     "duration": 0.032458,
     "end_time": "2022-06-16T09:01:57.393194",
     "exception": false,
     "start_time": "2022-06-16T09:01:57.360736",
     "status": "completed"
    },
    "tags": []
   },
   "outputs": [],
   "source": [
    "def adf(ts: pd.Series, **kwargs) -> pd.Series:\n",
    "    \"\"\" Run the ADF test and return a cleaned result \"\"\"\n",
    "    adf_result = sm.tsa.stattools.adfuller(ts, **kwargs)\n",
    "    cleaned = {\n",
    "        'adf': adf_result[0],\n",
    "        'p_value': adf_result[1],\n",
    "        'used_lag': adf_result[2],\n",
    "        'n_obs': adf_result[3],\n",
    "        'ci_0.01': adf_result[4]['1%'],\n",
    "        'ci_0.05': adf_result[4]['5%'],\n",
    "        'ci_0.1': adf_result[4]['10%'],\n",
    "        'ic_best': adf_result[5],\n",
    "    }\n",
    "    return pd.Series(cleaned, name=ts.name)"
   ]
  },
  {
   "cell_type": "markdown",
   "id": "73a9df64",
   "metadata": {
    "papermill": {
     "duration": 0.022333,
     "end_time": "2022-06-16T09:01:57.475941",
     "exception": false,
     "start_time": "2022-06-16T09:01:57.453608",
     "status": "completed"
    },
    "tags": []
   },
   "source": [
    "GP1999 uses Schwarz's information criterion (i.e., BIC) to select the optimal number of lags included in the ADF test."
   ]
  },
  {
   "cell_type": "code",
   "execution_count": 7,
   "id": "b69649d6",
   "metadata": {
    "execution": {
     "iopub.execute_input": "2022-06-16T09:01:57.523347Z",
     "iopub.status.busy": "2022-06-16T09:01:57.523078Z",
     "iopub.status.idle": "2022-06-16T09:01:58.298634Z",
     "shell.execute_reply": "2022-06-16T09:01:58.297897Z"
    },
    "papermill": {
     "duration": 0.802197,
     "end_time": "2022-06-16T09:01:58.300939",
     "exception": false,
     "start_time": "2022-06-16T09:01:57.498742",
     "status": "completed"
    },
    "tags": []
   },
   "outputs": [],
   "source": [
    "adf_result = pd.concat((\n",
    "    adf(cl_price['1983-04':'1994-11'], autolag='BIC').to_frame().T,\n",
    "    adf(ho_price['1983-04':'1994-11'], autolag='BIC').to_frame().T,\n",
    "    adf(xb_price['1984-12':'1994-11'], autolag='BIC').to_frame().T,\n",
    "))"
   ]
  },
  {
   "cell_type": "markdown",
   "id": "1396f87e",
   "metadata": {
    "papermill": {
     "duration": 0.035842,
     "end_time": "2022-06-16T09:01:58.377974",
     "exception": false,
     "start_time": "2022-06-16T09:01:58.342132",
     "status": "completed"
    },
    "tags": []
   },
   "source": [
    "In the ADF test, $H_0$ is that the time-series is non-stationary. Based on this result below, $H_0$ cannot be rejected for crude oil, however is rejected for heating oil and gasoline at the 10% and 5% level respectively.\n",
    "\n",
    "This is interesting because usually almost always asset prices are non-stationary."
   ]
  },
  {
   "cell_type": "code",
   "execution_count": 8,
   "id": "3655e953",
   "metadata": {
    "execution": {
     "iopub.execute_input": "2022-06-16T09:01:58.424250Z",
     "iopub.status.busy": "2022-06-16T09:01:58.423712Z",
     "iopub.status.idle": "2022-06-16T09:01:58.437867Z",
     "shell.execute_reply": "2022-06-16T09:01:58.437283Z"
    },
    "papermill": {
     "duration": 0.039854,
     "end_time": "2022-06-16T09:01:58.440385",
     "exception": false,
     "start_time": "2022-06-16T09:01:58.400531",
     "status": "completed"
    },
    "tags": []
   },
   "outputs": [
    {
     "data": {
      "text/html": [
       "<div>\n",
       "<style scoped>\n",
       "    .dataframe tbody tr th:only-of-type {\n",
       "        vertical-align: middle;\n",
       "    }\n",
       "\n",
       "    .dataframe tbody tr th {\n",
       "        vertical-align: top;\n",
       "    }\n",
       "\n",
       "    .dataframe thead th {\n",
       "        text-align: right;\n",
       "    }\n",
       "</style>\n",
       "<table border=\"1\" class=\"dataframe\">\n",
       "  <thead>\n",
       "    <tr style=\"text-align: right;\">\n",
       "      <th></th>\n",
       "      <th>adf</th>\n",
       "      <th>p_value</th>\n",
       "      <th>used_lag</th>\n",
       "      <th>n_obs</th>\n",
       "      <th>ci_0.01</th>\n",
       "      <th>ci_0.05</th>\n",
       "      <th>ci_0.1</th>\n",
       "      <th>ic_best</th>\n",
       "    </tr>\n",
       "  </thead>\n",
       "  <tbody>\n",
       "    <tr>\n",
       "      <th>Crude oil</th>\n",
       "      <td>-2.185213</td>\n",
       "      <td>0.211656</td>\n",
       "      <td>8.0</td>\n",
       "      <td>2924.0</td>\n",
       "      <td>-3.432588</td>\n",
       "      <td>-2.862529</td>\n",
       "      <td>-2.567296</td>\n",
       "      <td>4195.186424</td>\n",
       "    </tr>\n",
       "    <tr>\n",
       "      <th>Heating oil</th>\n",
       "      <td>-2.743636</td>\n",
       "      <td>0.066787</td>\n",
       "      <td>3.0</td>\n",
       "      <td>2929.0</td>\n",
       "      <td>-3.432585</td>\n",
       "      <td>-2.862527</td>\n",
       "      <td>-2.567296</td>\n",
       "      <td>-15763.929006</td>\n",
       "    </tr>\n",
       "    <tr>\n",
       "      <th>Gasoline</th>\n",
       "      <td>-3.003758</td>\n",
       "      <td>0.034545</td>\n",
       "      <td>3.0</td>\n",
       "      <td>2510.0</td>\n",
       "      <td>-3.432958</td>\n",
       "      <td>-2.862692</td>\n",
       "      <td>-2.567383</td>\n",
       "      <td>-14006.551367</td>\n",
       "    </tr>\n",
       "  </tbody>\n",
       "</table>\n",
       "</div>"
      ],
      "text/plain": [
       "                  adf   p_value  used_lag   n_obs   ci_0.01   ci_0.05  \\\n",
       "Crude oil   -2.185213  0.211656       8.0  2924.0 -3.432588 -2.862529   \n",
       "Heating oil -2.743636  0.066787       3.0  2929.0 -3.432585 -2.862527   \n",
       "Gasoline    -3.003758  0.034545       3.0  2510.0 -3.432958 -2.862692   \n",
       "\n",
       "               ci_0.1       ic_best  \n",
       "Crude oil   -2.567296   4195.186424  \n",
       "Heating oil -2.567296 -15763.929006  \n",
       "Gasoline    -2.567383 -14006.551367  "
      ]
     },
     "execution_count": 8,
     "metadata": {},
     "output_type": "execute_result"
    }
   ],
   "source": [
    "adf_result"
   ]
  },
  {
   "cell_type": "markdown",
   "id": "cb465c0a",
   "metadata": {
    "papermill": {
     "duration": 0.016076,
     "end_time": "2022-06-16T09:01:58.476276",
     "exception": false,
     "start_time": "2022-06-16T09:01:58.460200",
     "status": "completed"
    },
    "tags": []
   },
   "source": [
    "Probably it is to do with the sampling period. It may look a stationary process especially after 1986, however clearly it is heteroskedastic and the price move in 1986 seems like a shift in the level."
   ]
  },
  {
   "cell_type": "code",
   "execution_count": 9,
   "id": "11339aae",
   "metadata": {
    "execution": {
     "iopub.execute_input": "2022-06-16T09:01:58.508830Z",
     "iopub.status.busy": "2022-06-16T09:01:58.508560Z",
     "iopub.status.idle": "2022-06-16T09:01:58.893271Z",
     "shell.execute_reply": "2022-06-16T09:01:58.892600Z"
    },
    "papermill": {
     "duration": 0.403163,
     "end_time": "2022-06-16T09:01:58.895153",
     "exception": false,
     "start_time": "2022-06-16T09:01:58.491990",
     "status": "completed"
    },
    "tags": []
   },
   "outputs": [
    {
     "data": {
      "image/png": "[encoded data removed]",
      "text/plain": [
       "<Figure size 576x360 with 2 Axes>"
      ]
     },
     "metadata": {
      "needs_background": "light"
     },
     "output_type": "display_data"
    }
   ],
   "source": [
    "fig, ax = plt.subplots(figsize=(8, 5))\n",
    "pd.concat((\n",
    "    cl_price['1983-04':'1994-11'],\n",
    "    ho_price['1983-04':'1994-11'],\n",
    "    xb_price['1984-12':'1994-11'],\n",
    "), axis=1).plot(secondary_y=['Heating oil', 'Gasoline'], ax=ax);\n",
    "ax.set_title('Futures prices (generic 1st)');"
   ]
  },
  {
   "cell_type": "markdown",
   "id": "47068957",
   "metadata": {
    "papermill": {
     "duration": 0.01553,
     "end_time": "2022-06-16T09:01:58.926983",
     "exception": false,
     "start_time": "2022-06-16T09:01:58.911453",
     "status": "completed"
    },
    "tags": []
   },
   "source": [
    "In fact, in the long-run $H_0$ cannot be rejected for all contracts based on both BIC and AIC."
   ]
  },
  {
   "cell_type": "code",
   "execution_count": 10,
   "id": "47dcef74",
   "metadata": {
    "execution": {
     "iopub.execute_input": "2022-06-16T09:01:58.959460Z",
     "iopub.status.busy": "2022-06-16T09:01:58.959253Z",
     "iopub.status.idle": "2022-06-16T09:02:02.232158Z",
     "shell.execute_reply": "2022-06-16T09:02:02.231473Z"
    },
    "papermill": {
     "duration": 3.292129,
     "end_time": "2022-06-16T09:02:02.234728",
     "exception": false,
     "start_time": "2022-06-16T09:01:58.942599",
     "status": "completed"
    },
    "tags": []
   },
   "outputs": [
    {
     "data": {
      "text/html": [
       "<div>\n",
       "<style scoped>\n",
       "    .dataframe tbody tr th:only-of-type {\n",
       "        vertical-align: middle;\n",
       "    }\n",
       "\n",
       "    .dataframe tbody tr th {\n",
       "        vertical-align: top;\n",
       "    }\n",
       "\n",
       "    .dataframe thead th {\n",
       "        text-align: right;\n",
       "    }\n",
       "</style>\n",
       "<table border=\"1\" class=\"dataframe\">\n",
       "  <thead>\n",
       "    <tr style=\"text-align: right;\">\n",
       "      <th></th>\n",
       "      <th>adf</th>\n",
       "      <th>p_value</th>\n",
       "      <th>used_lag</th>\n",
       "      <th>n_obs</th>\n",
       "      <th>ci_0.01</th>\n",
       "      <th>ci_0.05</th>\n",
       "      <th>ci_0.1</th>\n",
       "      <th>ic_best</th>\n",
       "    </tr>\n",
       "  </thead>\n",
       "  <tbody>\n",
       "    <tr>\n",
       "      <th>Crude oil</th>\n",
       "      <td>-1.143936</td>\n",
       "      <td>0.697237</td>\n",
       "      <td>1.0</td>\n",
       "      <td>9847.0</td>\n",
       "      <td>-3.431014</td>\n",
       "      <td>-2.861834</td>\n",
       "      <td>-2.566926</td>\n",
       "      <td>30580.598367</td>\n",
       "    </tr>\n",
       "    <tr>\n",
       "      <th>Heating oil</th>\n",
       "      <td>0.067184</td>\n",
       "      <td>0.963748</td>\n",
       "      <td>6.0</td>\n",
       "      <td>9843.0</td>\n",
       "      <td>-3.431015</td>\n",
       "      <td>-2.861834</td>\n",
       "      <td>-2.566926</td>\n",
       "      <td>-37956.422756</td>\n",
       "    </tr>\n",
       "    <tr>\n",
       "      <th>Gasoline</th>\n",
       "      <td>-0.944370</td>\n",
       "      <td>0.773010</td>\n",
       "      <td>0.0</td>\n",
       "      <td>9429.0</td>\n",
       "      <td>-3.431044</td>\n",
       "      <td>-2.861847</td>\n",
       "      <td>-2.566933</td>\n",
       "      <td>-36131.932446</td>\n",
       "    </tr>\n",
       "  </tbody>\n",
       "</table>\n",
       "</div>"
      ],
      "text/plain": [
       "                  adf   p_value  used_lag   n_obs   ci_0.01   ci_0.05  \\\n",
       "Crude oil   -1.143936  0.697237       1.0  9847.0 -3.431014 -2.861834   \n",
       "Heating oil  0.067184  0.963748       6.0  9843.0 -3.431015 -2.861834   \n",
       "Gasoline    -0.944370  0.773010       0.0  9429.0 -3.431044 -2.861847   \n",
       "\n",
       "               ci_0.1       ic_best  \n",
       "Crude oil   -2.566926  30580.598367  \n",
       "Heating oil -2.566926 -37956.422756  \n",
       "Gasoline    -2.566933 -36131.932446  "
      ]
     },
     "execution_count": 10,
     "metadata": {},
     "output_type": "execute_result"
    }
   ],
   "source": [
    "pd.concat((\n",
    "    adf(cl_price['1983-04':], autolag='BIC').to_frame().T,\n",
    "    adf(ho_price['1983-04':], autolag='BIC').to_frame().T,\n",
    "    adf(xb_price['1984-12':], autolag='BIC').to_frame().T,\n",
    "))"
   ]
  },
  {
   "cell_type": "code",
   "execution_count": 11,
   "id": "6cda4738",
   "metadata": {
    "execution": {
     "iopub.execute_input": "2022-06-16T09:02:02.287458Z",
     "iopub.status.busy": "2022-06-16T09:02:02.287111Z",
     "iopub.status.idle": "2022-06-16T09:02:07.607069Z",
     "shell.execute_reply": "2022-06-16T09:02:07.606249Z"
    },
    "papermill": {
     "duration": 5.351727,
     "end_time": "2022-06-16T09:02:07.611268",
     "exception": false,
     "start_time": "2022-06-16T09:02:02.259541",
     "status": "completed"
    },
    "tags": []
   },
   "outputs": [
    {
     "data": {
      "text/html": [
       "<div>\n",
       "<style scoped>\n",
       "    .dataframe tbody tr th:only-of-type {\n",
       "        vertical-align: middle;\n",
       "    }\n",
       "\n",
       "    .dataframe tbody tr th {\n",
       "        vertical-align: top;\n",
       "    }\n",
       "\n",
       "    .dataframe thead th {\n",
       "        text-align: right;\n",
       "    }\n",
       "</style>\n",
       "<table border=\"1\" class=\"dataframe\">\n",
       "  <thead>\n",
       "    <tr style=\"text-align: right;\">\n",
       "      <th></th>\n",
       "      <th>adf</th>\n",
       "      <th>p_value</th>\n",
       "      <th>used_lag</th>\n",
       "      <th>n_obs</th>\n",
       "      <th>ci_0.01</th>\n",
       "      <th>ci_0.05</th>\n",
       "      <th>ci_0.1</th>\n",
       "      <th>ic_best</th>\n",
       "    </tr>\n",
       "  </thead>\n",
       "  <tbody>\n",
       "    <tr>\n",
       "      <th>Crude oil</th>\n",
       "      <td>-1.733121</td>\n",
       "      <td>0.414133</td>\n",
       "      <td>37.0</td>\n",
       "      <td>9811.0</td>\n",
       "      <td>-3.431017</td>\n",
       "      <td>-2.861835</td>\n",
       "      <td>-2.566927</td>\n",
       "      <td>30495.420556</td>\n",
       "    </tr>\n",
       "    <tr>\n",
       "      <th>Heating oil</th>\n",
       "      <td>-0.625748</td>\n",
       "      <td>0.865057</td>\n",
       "      <td>35.0</td>\n",
       "      <td>9814.0</td>\n",
       "      <td>-3.431016</td>\n",
       "      <td>-2.861835</td>\n",
       "      <td>-2.566927</td>\n",
       "      <td>-38181.308980</td>\n",
       "    </tr>\n",
       "    <tr>\n",
       "      <th>Gasoline</th>\n",
       "      <td>-1.411199</td>\n",
       "      <td>0.576895</td>\n",
       "      <td>20.0</td>\n",
       "      <td>9409.0</td>\n",
       "      <td>-3.431045</td>\n",
       "      <td>-2.861847</td>\n",
       "      <td>-2.566934</td>\n",
       "      <td>-36168.512737</td>\n",
       "    </tr>\n",
       "  </tbody>\n",
       "</table>\n",
       "</div>"
      ],
      "text/plain": [
       "                  adf   p_value  used_lag   n_obs   ci_0.01   ci_0.05  \\\n",
       "Crude oil   -1.733121  0.414133      37.0  9811.0 -3.431017 -2.861835   \n",
       "Heating oil -0.625748  0.865057      35.0  9814.0 -3.431016 -2.861835   \n",
       "Gasoline    -1.411199  0.576895      20.0  9409.0 -3.431045 -2.861847   \n",
       "\n",
       "               ci_0.1       ic_best  \n",
       "Crude oil   -2.566927  30495.420556  \n",
       "Heating oil -2.566927 -38181.308980  \n",
       "Gasoline    -2.566934 -36168.512737  "
      ]
     },
     "execution_count": 11,
     "metadata": {},
     "output_type": "execute_result"
    }
   ],
   "source": [
    "pd.concat((\n",
    "    adf(cl_price['1983-04':], autolag='AIC').to_frame().T,\n",
    "    adf(ho_price['1983-04':], autolag='AIC').to_frame().T,\n",
    "    adf(xb_price['1984-12':], autolag='AIC').to_frame().T,\n",
    "))"
   ]
  },
  {
   "cell_type": "markdown",
   "id": "eda29bdf",
   "metadata": {
    "papermill": {
     "duration": 0.032048,
     "end_time": "2022-06-16T09:02:07.677498",
     "exception": false,
     "start_time": "2022-06-16T09:02:07.645450",
     "status": "completed"
    },
    "tags": []
   },
   "source": [
    "Test for two unit roots shows the $H_0$ is rejected for all assets so it would be safe to assume prices are all $I(1)$ processes."
   ]
  },
  {
   "cell_type": "code",
   "execution_count": 12,
   "id": "5cc64e78",
   "metadata": {
    "execution": {
     "iopub.execute_input": "2022-06-16T09:02:07.728145Z",
     "iopub.status.busy": "2022-06-16T09:02:07.727808Z",
     "iopub.status.idle": "2022-06-16T09:02:08.450961Z",
     "shell.execute_reply": "2022-06-16T09:02:08.449780Z"
    },
    "papermill": {
     "duration": 0.751211,
     "end_time": "2022-06-16T09:02:08.453401",
     "exception": false,
     "start_time": "2022-06-16T09:02:07.702190",
     "status": "completed"
    },
    "tags": []
   },
   "outputs": [
    {
     "data": {
      "text/html": [
       "<div>\n",
       "<style scoped>\n",
       "    .dataframe tbody tr th:only-of-type {\n",
       "        vertical-align: middle;\n",
       "    }\n",
       "\n",
       "    .dataframe tbody tr th {\n",
       "        vertical-align: top;\n",
       "    }\n",
       "\n",
       "    .dataframe thead th {\n",
       "        text-align: right;\n",
       "    }\n",
       "</style>\n",
       "<table border=\"1\" class=\"dataframe\">\n",
       "  <thead>\n",
       "    <tr style=\"text-align: right;\">\n",
       "      <th></th>\n",
       "      <th>adf</th>\n",
       "      <th>p_value</th>\n",
       "      <th>used_lag</th>\n",
       "      <th>n_obs</th>\n",
       "      <th>ci_0.01</th>\n",
       "      <th>ci_0.05</th>\n",
       "      <th>ci_0.1</th>\n",
       "      <th>ic_best</th>\n",
       "    </tr>\n",
       "  </thead>\n",
       "  <tbody>\n",
       "    <tr>\n",
       "      <th>Crude oil</th>\n",
       "      <td>-22.609167</td>\n",
       "      <td>0.0</td>\n",
       "      <td>7.0</td>\n",
       "      <td>2924.0</td>\n",
       "      <td>-3.432588</td>\n",
       "      <td>-2.862529</td>\n",
       "      <td>-2.567296</td>\n",
       "      <td>4191.382386</td>\n",
       "    </tr>\n",
       "    <tr>\n",
       "      <th>Heating oil</th>\n",
       "      <td>-23.732562</td>\n",
       "      <td>0.0</td>\n",
       "      <td>7.0</td>\n",
       "      <td>2924.0</td>\n",
       "      <td>-3.432588</td>\n",
       "      <td>-2.862529</td>\n",
       "      <td>-2.567296</td>\n",
       "      <td>-15759.438574</td>\n",
       "    </tr>\n",
       "    <tr>\n",
       "      <th>Gasoline</th>\n",
       "      <td>-31.046797</td>\n",
       "      <td>0.0</td>\n",
       "      <td>2.0</td>\n",
       "      <td>2510.0</td>\n",
       "      <td>-3.432958</td>\n",
       "      <td>-2.862692</td>\n",
       "      <td>-2.567383</td>\n",
       "      <td>-13998.959272</td>\n",
       "    </tr>\n",
       "  </tbody>\n",
       "</table>\n",
       "</div>"
      ],
      "text/plain": [
       "                   adf  p_value  used_lag   n_obs   ci_0.01   ci_0.05  \\\n",
       "Crude oil   -22.609167      0.0       7.0  2924.0 -3.432588 -2.862529   \n",
       "Heating oil -23.732562      0.0       7.0  2924.0 -3.432588 -2.862529   \n",
       "Gasoline    -31.046797      0.0       2.0  2510.0 -3.432958 -2.862692   \n",
       "\n",
       "               ci_0.1       ic_best  \n",
       "Crude oil   -2.567296   4191.382386  \n",
       "Heating oil -2.567296 -15759.438574  \n",
       "Gasoline    -2.567383 -13998.959272  "
      ]
     },
     "execution_count": 12,
     "metadata": {},
     "output_type": "execute_result"
    }
   ],
   "source": [
    "pd.concat((\n",
    "    adf(cl_price['1983-04':'1994-11'].diff().dropna(), autolag='BIC').to_frame().T,\n",
    "    adf(ho_price['1983-04':'1994-11'].diff().dropna(), autolag='BIC').to_frame().T,\n",
    "    adf(xb_price['1984-12':'1994-11'].diff().dropna(), autolag='BIC').to_frame().T,\n",
    "))"
   ]
  },
  {
   "cell_type": "markdown",
   "id": "5443698a",
   "metadata": {
    "papermill": {
     "duration": 0.031597,
     "end_time": "2022-06-16T09:02:08.526772",
     "exception": false,
     "start_time": "2022-06-16T09:02:08.495175",
     "status": "completed"
    },
    "tags": []
   },
   "source": [
    "## Engle-Granger test\n",
    "\n",
    "Next, let's check if the crack spread is cointegrated. The cointegration vector is estimated by OLS and the stationarity of the residual is tested with the ADF test.\n",
    "The test is done by the `coint` function in `statsmodels`. (cf. https://www.statsmodels.org/dev/generated/statsmodels.tsa.stattools.coint.html)"
   ]
  },
  {
   "cell_type": "code",
   "execution_count": 13,
   "id": "15663029",
   "metadata": {
    "execution": {
     "iopub.execute_input": "2022-06-16T09:02:08.562301Z",
     "iopub.status.busy": "2022-06-16T09:02:08.561946Z",
     "iopub.status.idle": "2022-06-16T09:02:08.576460Z",
     "shell.execute_reply": "2022-06-16T09:02:08.575786Z"
    },
    "papermill": {
     "duration": 0.035142,
     "end_time": "2022-06-16T09:02:08.578520",
     "exception": false,
     "start_time": "2022-06-16T09:02:08.543378",
     "status": "completed"
    },
    "tags": []
   },
   "outputs": [],
   "source": [
    "price_concat = pd.concat((\n",
    "    cl_price,\n",
    "    ho_price,\n",
    "    xb_price,\n",
    "), axis=1).fillna(method='pad').dropna()"
   ]
  },
  {
   "cell_type": "code",
   "execution_count": 14,
   "id": "cf731a5e",
   "metadata": {
    "execution": {
     "iopub.execute_input": "2022-06-16T09:02:08.616504Z",
     "iopub.status.busy": "2022-06-16T09:02:08.616185Z",
     "iopub.status.idle": "2022-06-16T09:02:08.622892Z",
     "shell.execute_reply": "2022-06-16T09:02:08.622135Z"
    },
    "papermill": {
     "duration": 0.029235,
     "end_time": "2022-06-16T09:02:08.625154",
     "exception": false,
     "start_time": "2022-06-16T09:02:08.595919",
     "status": "completed"
    },
    "tags": []
   },
   "outputs": [],
   "source": [
    "def coint(y: pd.Series, x: pd.DataFrame) -> pd.Series:\n",
    "    \"\"\" Run the cointegration test and return a cleaned result \"\"\"\n",
    "    result = sm.tsa.stattools.coint(y, x)\n",
    "    cleaned = {\n",
    "        't_value': result[0],\n",
    "        'p_value': result[1],\n",
    "        'ci_0.01': result[2][0],\n",
    "        'ci_0.05': result[2][1],\n",
    "        'ci_0.1': result[2][2],\n",
    "    }\n",
    "    return pd.Series(cleaned)"
   ]
  },
  {
   "cell_type": "code",
   "execution_count": 15,
   "id": "4299196b",
   "metadata": {
    "execution": {
     "iopub.execute_input": "2022-06-16T09:02:08.674252Z",
     "iopub.status.busy": "2022-06-16T09:02:08.673884Z",
     "iopub.status.idle": "2022-06-16T09:02:09.728405Z",
     "shell.execute_reply": "2022-06-16T09:02:09.727576Z"
    },
    "papermill": {
     "duration": 1.082614,
     "end_time": "2022-06-16T09:02:09.731428",
     "exception": false,
     "start_time": "2022-06-16T09:02:08.648814",
     "status": "completed"
    },
    "tags": []
   },
   "outputs": [],
   "source": [
    "coint_result = pd.concat((\n",
    "    coint(\n",
    "        price_concat.loc[:'1994-11', 'Crude oil'],\n",
    "        price_concat.loc[:'1994-11', ['Heating oil', 'Gasoline']]\n",
    "    ).to_frame('CL vs HO + XB').T,\n",
    "    coint(\n",
    "        price_concat.loc[:'1994-11', 'Crude oil'],\n",
    "        price_concat.loc[:'1994-11', ['Gasoline']]\n",
    "    ).to_frame('CL vs XB').T,\n",
    "    coint(\n",
    "        price_concat.loc[:'1994-11', 'Crude oil'],\n",
    "        price_concat.loc[:'1994-11', ['Heating oil']]\n",
    "    ).to_frame('CL vs HO').T,\n",
    "))"
   ]
  },
  {
   "cell_type": "markdown",
   "id": "ea294ded",
   "metadata": {
    "papermill": {
     "duration": 0.036828,
     "end_time": "2022-06-16T09:02:09.804622",
     "exception": false,
     "start_time": "2022-06-16T09:02:09.767794",
     "status": "completed"
    },
    "tags": []
   },
   "source": [
    "The $H_0$ is that there is no cointegration. As per GP1999, all three crack spreads are cointegrated. "
   ]
  },
  {
   "cell_type": "code",
   "execution_count": 16,
   "id": "1824345d",
   "metadata": {
    "execution": {
     "iopub.execute_input": "2022-06-16T09:02:09.842990Z",
     "iopub.status.busy": "2022-06-16T09:02:09.842806Z",
     "iopub.status.idle": "2022-06-16T09:02:09.852183Z",
     "shell.execute_reply": "2022-06-16T09:02:09.851547Z"
    },
    "papermill": {
     "duration": 0.03052,
     "end_time": "2022-06-16T09:02:09.853985",
     "exception": false,
     "start_time": "2022-06-16T09:02:09.823465",
     "status": "completed"
    },
    "tags": []
   },
   "outputs": [
    {
     "data": {
      "text/html": [
       "<div>\n",
       "<style scoped>\n",
       "    .dataframe tbody tr th:only-of-type {\n",
       "        vertical-align: middle;\n",
       "    }\n",
       "\n",
       "    .dataframe tbody tr th {\n",
       "        vertical-align: top;\n",
       "    }\n",
       "\n",
       "    .dataframe thead th {\n",
       "        text-align: right;\n",
       "    }\n",
       "</style>\n",
       "<table border=\"1\" class=\"dataframe\">\n",
       "  <thead>\n",
       "    <tr style=\"text-align: right;\">\n",
       "      <th></th>\n",
       "      <th>t_value</th>\n",
       "      <th>p_value</th>\n",
       "      <th>ci_0.01</th>\n",
       "      <th>ci_0.05</th>\n",
       "      <th>ci_0.1</th>\n",
       "    </tr>\n",
       "  </thead>\n",
       "  <tbody>\n",
       "    <tr>\n",
       "      <th>CL vs HO + XB</th>\n",
       "      <td>-6.110715</td>\n",
       "      <td>0.000005</td>\n",
       "      <td>-4.299485</td>\n",
       "      <td>-3.744067</td>\n",
       "      <td>-3.454651</td>\n",
       "    </tr>\n",
       "    <tr>\n",
       "      <th>CL vs XB</th>\n",
       "      <td>-5.762029</td>\n",
       "      <td>0.000005</td>\n",
       "      <td>-3.900800</td>\n",
       "      <td>-3.338561</td>\n",
       "      <td>-3.046137</td>\n",
       "    </tr>\n",
       "    <tr>\n",
       "      <th>CL vs HO</th>\n",
       "      <td>-5.708354</td>\n",
       "      <td>0.000007</td>\n",
       "      <td>-3.900800</td>\n",
       "      <td>-3.338561</td>\n",
       "      <td>-3.046137</td>\n",
       "    </tr>\n",
       "  </tbody>\n",
       "</table>\n",
       "</div>"
      ],
      "text/plain": [
       "                t_value   p_value   ci_0.01   ci_0.05    ci_0.1\n",
       "CL vs HO + XB -6.110715  0.000005 -4.299485 -3.744067 -3.454651\n",
       "CL vs XB      -5.762029  0.000005 -3.900800 -3.338561 -3.046137\n",
       "CL vs HO      -5.708354  0.000007 -3.900800 -3.338561 -3.046137"
      ]
     },
     "execution_count": 16,
     "metadata": {},
     "output_type": "execute_result"
    }
   ],
   "source": [
    "coint_result"
   ]
  },
  {
   "cell_type": "markdown",
   "id": "2f816c06",
   "metadata": {
    "papermill": {
     "duration": 0.020656,
     "end_time": "2022-06-16T09:02:09.892861",
     "exception": false,
     "start_time": "2022-06-16T09:02:09.872205",
     "status": "completed"
    },
    "tags": []
   },
   "source": [
    "This seems to hold with the full sample."
   ]
  },
  {
   "cell_type": "code",
   "execution_count": 17,
   "id": "467771dc",
   "metadata": {
    "execution": {
     "iopub.execute_input": "2022-06-16T09:02:09.928906Z",
     "iopub.status.busy": "2022-06-16T09:02:09.928556Z",
     "iopub.status.idle": "2022-06-16T09:02:16.121690Z",
     "shell.execute_reply": "2022-06-16T09:02:16.120901Z"
    },
    "papermill": {
     "duration": 6.214637,
     "end_time": "2022-06-16T09:02:16.124381",
     "exception": false,
     "start_time": "2022-06-16T09:02:09.909744",
     "status": "completed"
    },
    "tags": []
   },
   "outputs": [
    {
     "data": {
      "text/html": [
       "<div>\n",
       "<style scoped>\n",
       "    .dataframe tbody tr th:only-of-type {\n",
       "        vertical-align: middle;\n",
       "    }\n",
       "\n",
       "    .dataframe tbody tr th {\n",
       "        vertical-align: top;\n",
       "    }\n",
       "\n",
       "    .dataframe thead th {\n",
       "        text-align: right;\n",
       "    }\n",
       "</style>\n",
       "<table border=\"1\" class=\"dataframe\">\n",
       "  <thead>\n",
       "    <tr style=\"text-align: right;\">\n",
       "      <th></th>\n",
       "      <th>t_value</th>\n",
       "      <th>p_value</th>\n",
       "      <th>ci_0.01</th>\n",
       "      <th>ci_0.05</th>\n",
       "      <th>ci_0.1</th>\n",
       "    </tr>\n",
       "  </thead>\n",
       "  <tbody>\n",
       "    <tr>\n",
       "      <th>CL vs HO + XB</th>\n",
       "      <td>-3.582084</td>\n",
       "      <td>7.413625e-02</td>\n",
       "      <td>-4.295271</td>\n",
       "      <td>-3.741568</td>\n",
       "      <td>-3.452839</td>\n",
       "    </tr>\n",
       "    <tr>\n",
       "      <th>CL vs XB</th>\n",
       "      <td>-6.316551</td>\n",
       "      <td>3.269248e-07</td>\n",
       "      <td>-3.897602</td>\n",
       "      <td>-3.336778</td>\n",
       "      <td>-3.044900</td>\n",
       "    </tr>\n",
       "    <tr>\n",
       "      <th>CL vs HO</th>\n",
       "      <td>-3.673976</td>\n",
       "      <td>1.978535e-02</td>\n",
       "      <td>-3.897602</td>\n",
       "      <td>-3.336778</td>\n",
       "      <td>-3.044900</td>\n",
       "    </tr>\n",
       "  </tbody>\n",
       "</table>\n",
       "</div>"
      ],
      "text/plain": [
       "                t_value       p_value   ci_0.01   ci_0.05    ci_0.1\n",
       "CL vs HO + XB -3.582084  7.413625e-02 -4.295271 -3.741568 -3.452839\n",
       "CL vs XB      -6.316551  3.269248e-07 -3.897602 -3.336778 -3.044900\n",
       "CL vs HO      -3.673976  1.978535e-02 -3.897602 -3.336778 -3.044900"
      ]
     },
     "execution_count": 17,
     "metadata": {},
     "output_type": "execute_result"
    }
   ],
   "source": [
    "pd.concat((\n",
    "    coint(\n",
    "        price_concat.loc[:, 'Crude oil'],\n",
    "        price_concat.loc[:, ['Heating oil', 'Gasoline']]\n",
    "    ).to_frame('CL vs HO + XB').T,\n",
    "    coint(\n",
    "        price_concat.loc[:, 'Crude oil'],\n",
    "        price_concat.loc[:, ['Gasoline']]\n",
    "    ).to_frame('CL vs XB').T,\n",
    "    coint(\n",
    "        price_concat.loc[:, 'Crude oil'],\n",
    "        price_concat.loc[:, ['Heating oil']]\n",
    "    ).to_frame('CL vs HO').T,\n",
    "))"
   ]
  },
  {
   "cell_type": "markdown",
   "id": "9107b072",
   "metadata": {
    "papermill": {
     "duration": 0.02622,
     "end_time": "2022-06-16T09:02:16.177375",
     "exception": false,
     "start_time": "2022-06-16T09:02:16.151155",
     "status": "completed"
    },
    "tags": []
   },
   "source": [
    "However the confidence level is somewhat weakend with recent data although they are at least still cointegrated at the 5% level."
   ]
  },
  {
   "cell_type": "code",
   "execution_count": 18,
   "id": "3898183b",
   "metadata": {
    "execution": {
     "iopub.execute_input": "2022-06-16T09:02:16.231114Z",
     "iopub.status.busy": "2022-06-16T09:02:16.230794Z",
     "iopub.status.idle": "2022-06-16T09:02:17.528959Z",
     "shell.execute_reply": "2022-06-16T09:02:17.527521Z"
    },
    "papermill": {
     "duration": 1.329032,
     "end_time": "2022-06-16T09:02:17.532414",
     "exception": false,
     "start_time": "2022-06-16T09:02:16.203382",
     "status": "completed"
    },
    "tags": []
   },
   "outputs": [
    {
     "data": {
      "text/html": [
       "<div>\n",
       "<style scoped>\n",
       "    .dataframe tbody tr th:only-of-type {\n",
       "        vertical-align: middle;\n",
       "    }\n",
       "\n",
       "    .dataframe tbody tr th {\n",
       "        vertical-align: top;\n",
       "    }\n",
       "\n",
       "    .dataframe thead th {\n",
       "        text-align: right;\n",
       "    }\n",
       "</style>\n",
       "<table border=\"1\" class=\"dataframe\">\n",
       "  <thead>\n",
       "    <tr style=\"text-align: right;\">\n",
       "      <th></th>\n",
       "      <th>t_value</th>\n",
       "      <th>p_value</th>\n",
       "      <th>ci_0.01</th>\n",
       "      <th>ci_0.05</th>\n",
       "      <th>ci_0.1</th>\n",
       "    </tr>\n",
       "  </thead>\n",
       "  <tbody>\n",
       "    <tr>\n",
       "      <th>CL vs HO + XB</th>\n",
       "      <td>-2.495282</td>\n",
       "      <td>0.486344</td>\n",
       "      <td>-4.298345</td>\n",
       "      <td>-3.743391</td>\n",
       "      <td>-3.454161</td>\n",
       "    </tr>\n",
       "    <tr>\n",
       "      <th>CL vs XB</th>\n",
       "      <td>-4.243319</td>\n",
       "      <td>0.003133</td>\n",
       "      <td>-3.899935</td>\n",
       "      <td>-3.338078</td>\n",
       "      <td>-3.045802</td>\n",
       "    </tr>\n",
       "    <tr>\n",
       "      <th>CL vs HO</th>\n",
       "      <td>-2.652482</td>\n",
       "      <td>0.217132</td>\n",
       "      <td>-3.899935</td>\n",
       "      <td>-3.338078</td>\n",
       "      <td>-3.045802</td>\n",
       "    </tr>\n",
       "  </tbody>\n",
       "</table>\n",
       "</div>"
      ],
      "text/plain": [
       "                t_value   p_value   ci_0.01   ci_0.05    ci_0.1\n",
       "CL vs HO + XB -2.495282  0.486344 -4.298345 -3.743391 -3.454161\n",
       "CL vs XB      -4.243319  0.003133 -3.899935 -3.338078 -3.045802\n",
       "CL vs HO      -2.652482  0.217132 -3.899935 -3.338078 -3.045802"
      ]
     },
     "execution_count": 18,
     "metadata": {},
     "output_type": "execute_result"
    }
   ],
   "source": [
    "pd.concat((\n",
    "    coint(\n",
    "        price_concat.loc['2010':, 'Crude oil'],\n",
    "        price_concat.loc['2010':, ['Heating oil', 'Gasoline']]\n",
    "    ).to_frame('CL vs HO + XB').T,\n",
    "    coint(\n",
    "        price_concat.loc['2010':, 'Crude oil'],\n",
    "        price_concat.loc['2010':, ['Gasoline']]\n",
    "    ).to_frame('CL vs XB').T,\n",
    "    coint(\n",
    "        price_concat.loc['2010':, 'Crude oil'],\n",
    "        price_concat.loc['2010':, ['Heating oil']]\n",
    "    ).to_frame('CL vs HO').T,\n",
    "))"
   ]
  },
  {
   "cell_type": "markdown",
   "id": "f22325d0",
   "metadata": {
    "papermill": {
     "duration": 0.025019,
     "end_time": "2022-06-16T09:02:17.587921",
     "exception": false,
     "start_time": "2022-06-16T09:02:17.562902",
     "status": "completed"
    },
    "tags": []
   },
   "source": [
    "## Crack spreads\n",
    "\n",
    "Additionally, GP1999 tests the stationarity of the popularly traded crack spread -- 3:2:1 crack spread (CS), 1:1:0 gasoline crack spread (GCS) and 1:0:1 heating oil crack spread (HOCS).\n",
    "\n",
    "Note that the crude oil contract is priced in barrels while the other two are priced in gallon, and there are 42 gallons per 1 barrel. Some unit conversions are required to calculate such spreads."
   ]
  },
  {
   "cell_type": "code",
   "execution_count": 19,
   "id": "015bb3e9",
   "metadata": {
    "execution": {
     "iopub.execute_input": "2022-06-16T09:02:17.639188Z",
     "iopub.status.busy": "2022-06-16T09:02:17.638892Z",
     "iopub.status.idle": "2022-06-16T09:02:17.647982Z",
     "shell.execute_reply": "2022-06-16T09:02:17.647207Z"
    },
    "papermill": {
     "duration": 0.036733,
     "end_time": "2022-06-16T09:02:17.649697",
     "exception": false,
     "start_time": "2022-06-16T09:02:17.612964",
     "status": "completed"
    },
    "tags": []
   },
   "outputs": [],
   "source": [
    "cs = (price_concat['Heating oil'].mul(42).mul(2 / 3) + \n",
    "      price_concat['Gasoline'].mul(42).mul(1 / 3) - \n",
    "      price_concat['Crude oil'])\n",
    "gcs = (price_concat['Gasoline'].mul(42) - \n",
    "       price_concat['Crude oil'])\n",
    "hocs = (price_concat['Heating oil'].mul(42) - \n",
    "        price_concat['Crude oil'])"
   ]
  },
  {
   "cell_type": "markdown",
   "id": "6608463f",
   "metadata": {
    "papermill": {
     "duration": 0.018359,
     "end_time": "2022-06-16T09:02:17.685495",
     "exception": false,
     "start_time": "2022-06-16T09:02:17.667136",
     "status": "completed"
    },
    "tags": []
   },
   "source": [
    "As can be seen visually below, these spreads appear stationary until around 2000 after which they started to drift away from a certain level. This could be related to the financialisation of commodities. There are some evidence suggesting that index investments and speculative trades influence the commodity markets. (cf https://www.ecb.europa.eu/pub/financial-stability/fsr/focus/2011/pdf/ecb~6fdfdfce1c.fsrbox201112_04.pdf)"
   ]
  },
  {
   "cell_type": "code",
   "execution_count": 20,
   "id": "0b27db24",
   "metadata": {
    "execution": {
     "iopub.execute_input": "2022-06-16T09:02:17.722418Z",
     "iopub.status.busy": "2022-06-16T09:02:17.722149Z",
     "iopub.status.idle": "2022-06-16T09:02:18.440476Z",
     "shell.execute_reply": "2022-06-16T09:02:18.439818Z"
    },
    "papermill": {
     "duration": 0.740005,
     "end_time": "2022-06-16T09:02:18.443142",
     "exception": false,
     "start_time": "2022-06-16T09:02:17.703137",
     "status": "completed"
    },
    "tags": []
   },
   "outputs": [
    {
     "data": {
      "image/png": "[encoded data removed]",
      "text/plain": [
       "<Figure size 864x288 with 3 Axes>"
      ]
     },
     "metadata": {
      "needs_background": "light"
     },
     "output_type": "display_data"
    }
   ],
   "source": [
    "fig, ax = plt.subplots(1, 3, figsize=(12, 4), sharey=True)\n",
    "cs.plot(ax=ax[0])\n",
    "gcs.plot(ax=ax[1])\n",
    "hocs.plot(ax=ax[2])\n",
    "\n",
    "ax[0].set_title('3:2:1 crack spread')\n",
    "ax[1].set_title('1:1:0 gasoline crack spread')\n",
    "ax[2].set_title('1:0:1 heating oil crack spread')\n",
    "ax[0].set_ylabel('Crack spread ($)')\n",
    "\n",
    "fig.tight_layout();"
   ]
  },
  {
   "cell_type": "markdown",
   "id": "ddba6b40",
   "metadata": {
    "papermill": {
     "duration": 0.026684,
     "end_time": "2022-06-16T09:02:18.496695",
     "exception": false,
     "start_time": "2022-06-16T09:02:18.470011",
     "status": "completed"
    },
    "tags": []
   },
   "source": [
    "More formally, the ADF tests below show that they were stationary until Nov-1994."
   ]
  },
  {
   "cell_type": "code",
   "execution_count": 21,
   "id": "bd58dd0b",
   "metadata": {
    "execution": {
     "iopub.execute_input": "2022-06-16T09:02:18.550205Z",
     "iopub.status.busy": "2022-06-16T09:02:18.549914Z",
     "iopub.status.idle": "2022-06-16T09:02:19.495974Z",
     "shell.execute_reply": "2022-06-16T09:02:19.495321Z"
    },
    "papermill": {
     "duration": 0.975333,
     "end_time": "2022-06-16T09:02:19.498647",
     "exception": false,
     "start_time": "2022-06-16T09:02:18.523314",
     "status": "completed"
    },
    "tags": []
   },
   "outputs": [
    {
     "data": {
      "text/html": [
       "<div>\n",
       "<style scoped>\n",
       "    .dataframe tbody tr th:only-of-type {\n",
       "        vertical-align: middle;\n",
       "    }\n",
       "\n",
       "    .dataframe tbody tr th {\n",
       "        vertical-align: top;\n",
       "    }\n",
       "\n",
       "    .dataframe thead th {\n",
       "        text-align: right;\n",
       "    }\n",
       "</style>\n",
       "<table border=\"1\" class=\"dataframe\">\n",
       "  <thead>\n",
       "    <tr style=\"text-align: right;\">\n",
       "      <th></th>\n",
       "      <th>adf</th>\n",
       "      <th>p_value</th>\n",
       "      <th>used_lag</th>\n",
       "      <th>n_obs</th>\n",
       "      <th>ci_0.01</th>\n",
       "      <th>ci_0.05</th>\n",
       "      <th>ci_0.1</th>\n",
       "      <th>ic_best</th>\n",
       "    </tr>\n",
       "  </thead>\n",
       "  <tbody>\n",
       "    <tr>\n",
       "      <th>0</th>\n",
       "      <td>-7.926287</td>\n",
       "      <td>3.611421e-12</td>\n",
       "      <td>0.0</td>\n",
       "      <td>2515.0</td>\n",
       "      <td>-3.432953</td>\n",
       "      <td>-2.86269</td>\n",
       "      <td>-2.567382</td>\n",
       "      <td>1757.165999</td>\n",
       "    </tr>\n",
       "    <tr>\n",
       "      <th>0</th>\n",
       "      <td>-5.640046</td>\n",
       "      <td>1.041538e-06</td>\n",
       "      <td>1.0</td>\n",
       "      <td>2514.0</td>\n",
       "      <td>-3.432954</td>\n",
       "      <td>-2.86269</td>\n",
       "      <td>-2.567382</td>\n",
       "      <td>2505.871051</td>\n",
       "    </tr>\n",
       "    <tr>\n",
       "      <th>0</th>\n",
       "      <td>-6.999952</td>\n",
       "      <td>7.365777e-10</td>\n",
       "      <td>0.0</td>\n",
       "      <td>2515.0</td>\n",
       "      <td>-3.432953</td>\n",
       "      <td>-2.86269</td>\n",
       "      <td>-2.567382</td>\n",
       "      <td>2815.457971</td>\n",
       "    </tr>\n",
       "  </tbody>\n",
       "</table>\n",
       "</div>"
      ],
      "text/plain": [
       "        adf       p_value  used_lag   n_obs   ci_0.01  ci_0.05    ci_0.1  \\\n",
       "0 -7.926287  3.611421e-12       0.0  2515.0 -3.432953 -2.86269 -2.567382   \n",
       "0 -5.640046  1.041538e-06       1.0  2514.0 -3.432954 -2.86269 -2.567382   \n",
       "0 -6.999952  7.365777e-10       0.0  2515.0 -3.432953 -2.86269 -2.567382   \n",
       "\n",
       "       ic_best  \n",
       "0  1757.165999  \n",
       "0  2505.871051  \n",
       "0  2815.457971  "
      ]
     },
     "execution_count": 21,
     "metadata": {},
     "output_type": "execute_result"
    }
   ],
   "source": [
    "pd.concat((\n",
    "    adf(cs[:'1994-11'], autolag='BIC').to_frame().T,\n",
    "    adf(gcs[:'1994-11'], autolag='BIC').to_frame().T,\n",
    "    adf(hocs[:'1994-11'], autolag='BIC').to_frame().T,\n",
    "))"
   ]
  },
  {
   "cell_type": "markdown",
   "id": "6e2c8692",
   "metadata": {
    "papermill": {
     "duration": 0.019476,
     "end_time": "2022-06-16T09:02:19.572111",
     "exception": false,
     "start_time": "2022-06-16T09:02:19.552635",
     "status": "completed"
    },
    "tags": []
   },
   "source": [
    "Statistically though these spreads are still stationary at the 1% confidence level even after 2000."
   ]
  },
  {
   "cell_type": "code",
   "execution_count": 22,
   "id": "d3f9d7a9",
   "metadata": {
    "execution": {
     "iopub.execute_input": "2022-06-16T09:02:19.613685Z",
     "iopub.status.busy": "2022-06-16T09:02:19.613234Z",
     "iopub.status.idle": "2022-06-16T09:02:22.348434Z",
     "shell.execute_reply": "2022-06-16T09:02:22.347677Z"
    },
    "papermill": {
     "duration": 2.758864,
     "end_time": "2022-06-16T09:02:22.351531",
     "exception": false,
     "start_time": "2022-06-16T09:02:19.592667",
     "status": "completed"
    },
    "tags": []
   },
   "outputs": [
    {
     "data": {
      "text/html": [
       "<div>\n",
       "<style scoped>\n",
       "    .dataframe tbody tr th:only-of-type {\n",
       "        vertical-align: middle;\n",
       "    }\n",
       "\n",
       "    .dataframe tbody tr th {\n",
       "        vertical-align: top;\n",
       "    }\n",
       "\n",
       "    .dataframe thead th {\n",
       "        text-align: right;\n",
       "    }\n",
       "</style>\n",
       "<table border=\"1\" class=\"dataframe\">\n",
       "  <thead>\n",
       "    <tr style=\"text-align: right;\">\n",
       "      <th></th>\n",
       "      <th>adf</th>\n",
       "      <th>p_value</th>\n",
       "      <th>used_lag</th>\n",
       "      <th>n_obs</th>\n",
       "      <th>ci_0.01</th>\n",
       "      <th>ci_0.05</th>\n",
       "      <th>ci_0.1</th>\n",
       "      <th>ic_best</th>\n",
       "    </tr>\n",
       "  </thead>\n",
       "  <tbody>\n",
       "    <tr>\n",
       "      <th>0</th>\n",
       "      <td>-1.622610</td>\n",
       "      <td>0.471361</td>\n",
       "      <td>2.0</td>\n",
       "      <td>5637.0</td>\n",
       "      <td>-3.431511</td>\n",
       "      <td>-2.862053</td>\n",
       "      <td>-2.567043</td>\n",
       "      <td>15645.431786</td>\n",
       "    </tr>\n",
       "    <tr>\n",
       "      <th>0</th>\n",
       "      <td>-4.441732</td>\n",
       "      <td>0.000250</td>\n",
       "      <td>0.0</td>\n",
       "      <td>5639.0</td>\n",
       "      <td>-3.431510</td>\n",
       "      <td>-2.862053</td>\n",
       "      <td>-2.567043</td>\n",
       "      <td>17860.399403</td>\n",
       "    </tr>\n",
       "    <tr>\n",
       "      <th>0</th>\n",
       "      <td>-1.760414</td>\n",
       "      <td>0.400284</td>\n",
       "      <td>2.0</td>\n",
       "      <td>5637.0</td>\n",
       "      <td>-3.431511</td>\n",
       "      <td>-2.862053</td>\n",
       "      <td>-2.567043</td>\n",
       "      <td>17593.929621</td>\n",
       "    </tr>\n",
       "  </tbody>\n",
       "</table>\n",
       "</div>"
      ],
      "text/plain": [
       "        adf   p_value  used_lag   n_obs   ci_0.01   ci_0.05    ci_0.1  \\\n",
       "0 -1.622610  0.471361       2.0  5637.0 -3.431511 -2.862053 -2.567043   \n",
       "0 -4.441732  0.000250       0.0  5639.0 -3.431510 -2.862053 -2.567043   \n",
       "0 -1.760414  0.400284       2.0  5637.0 -3.431511 -2.862053 -2.567043   \n",
       "\n",
       "        ic_best  \n",
       "0  15645.431786  \n",
       "0  17860.399403  \n",
       "0  17593.929621  "
      ]
     },
     "execution_count": 22,
     "metadata": {},
     "output_type": "execute_result"
    }
   ],
   "source": [
    "pd.concat((\n",
    "    adf(cs['2000':], autolag='BIC').to_frame().T,\n",
    "    adf(gcs['2000':], autolag='BIC').to_frame().T,\n",
    "    adf(hocs['2000':], autolag='BIC').to_frame().T,\n",
    "))"
   ]
  },
  {
   "cell_type": "markdown",
   "id": "eb6c197c",
   "metadata": {
    "papermill": {
     "duration": 0.026446,
     "end_time": "2022-06-16T09:02:22.405098",
     "exception": false,
     "start_time": "2022-06-16T09:02:22.378652",
     "status": "completed"
    },
    "tags": []
   },
   "source": [
    "# Backtest"
   ]
  },
  {
   "cell_type": "markdown",
   "id": "4bbb1506",
   "metadata": {
    "papermill": {
     "duration": 0.019645,
     "end_time": "2022-06-16T09:02:22.450355",
     "exception": false,
     "start_time": "2022-06-16T09:02:22.430710",
     "status": "completed"
    },
    "tags": []
   },
   "source": [
    "It's not entirely clear how many back contracts are used in the original analysis as they only mentioned they used *all spreads*. In this notebook, the first 6 contracts are used for the sake of simplicity. Beyond 6, there tends to be more missing prices because of inactivity.\n",
    "\n",
    "In practice, one might want to consider liquidity of each contract to decide which one to trade as not all contract months have the same liquidity. In the case of crude oil, after certain points only June and December contracts are actually traded even though other months are listed."
   ]
  },
  {
   "cell_type": "code",
   "execution_count": 23,
   "id": "4aebb8bd",
   "metadata": {
    "execution": {
     "iopub.execute_input": "2022-06-16T09:02:22.492701Z",
     "iopub.status.busy": "2022-06-16T09:02:22.492422Z",
     "iopub.status.idle": "2022-06-16T09:02:23.406726Z",
     "shell.execute_reply": "2022-06-16T09:02:23.406099Z"
    },
    "papermill": {
     "duration": 0.939498,
     "end_time": "2022-06-16T09:02:23.408425",
     "exception": false,
     "start_time": "2022-06-16T09:02:22.468927",
     "status": "completed"
    },
    "tags": []
   },
   "outputs": [],
   "source": [
    "cl_curve = get_futures_curve_snapshot('CL', datetime(2021, 12, 1), 'volume')"
   ]
  },
  {
   "cell_type": "code",
   "execution_count": 24,
   "id": "c2bd035a",
   "metadata": {
    "execution": {
     "iopub.execute_input": "2022-06-16T09:02:23.450211Z",
     "iopub.status.busy": "2022-06-16T09:02:23.449839Z",
     "iopub.status.idle": "2022-06-16T09:02:23.998940Z",
     "shell.execute_reply": "2022-06-16T09:02:23.998172Z"
    },
    "papermill": {
     "duration": 0.571424,
     "end_time": "2022-06-16T09:02:24.001067",
     "exception": false,
     "start_time": "2022-06-16T09:02:23.429643",
     "status": "completed"
    },
    "tags": []
   },
   "outputs": [
    {
     "data": {
      "image/png": "[encoded data removed]",
      "text/plain": [
       "<Figure size 1008x216 with 1 Axes>"
      ]
     },
     "metadata": {
      "needs_background": "light"
     },
     "output_type": "display_data"
    }
   ],
   "source": [
    "ax = cl_curve.loc[:'2024'].set_index('symbol')['volume'].plot(kind='bar', figsize=(14, 3));\n",
    "ax.set_ylabel('Volume')\n",
    "ax.set_title('Crude oil traded volume per contract');"
   ]
  },
  {
   "cell_type": "markdown",
   "id": "9de6acec",
   "metadata": {
    "papermill": {
     "duration": 0.025247,
     "end_time": "2022-06-16T09:02:24.052432",
     "exception": false,
     "start_time": "2022-06-16T09:02:24.027185",
     "status": "completed"
    },
    "tags": []
   },
   "source": [
    "## Crack spread\n",
    "\n",
    "First define the instruments. `roll_rule` is defined to make sure futures are rolled on month-ends. As per the analysis done for crush spreads, some arbitrary collateral of 100k USD is used to meature futures returns."
   ]
  },
  {
   "cell_type": "code",
   "execution_count": 25,
   "id": "5d159539",
   "metadata": {
    "execution": {
     "iopub.execute_input": "2022-06-16T09:02:24.103836Z",
     "iopub.status.busy": "2022-06-16T09:02:24.103570Z",
     "iopub.status.idle": "2022-06-16T09:02:24.111403Z",
     "shell.execute_reply": "2022-06-16T09:02:24.110792Z"
    },
    "papermill": {
     "duration": 0.035934,
     "end_time": "2022-06-16T09:02:24.113456",
     "exception": false,
     "start_time": "2022-06-16T09:02:24.077522",
     "status": "completed"
    },
    "tags": []
   },
   "outputs": [],
   "source": [
    "max_expiry = 6\n",
    "instrument = []\n",
    "for i in range(1, max_expiry + 1):\n",
    "    ho = InstrumentDef('HO', id=f'HO_{i}', collateral=100_000, roll_rule=RollRule.MONTH_END.value, nth_expiry=i)\n",
    "    xb = InstrumentDef('XB', id=f'XB_{i}', collateral=100_000, roll_rule=RollRule.MONTH_END.value, nth_expiry=i)\n",
    "    cl = InstrumentDef('CL', id=f'CL_{i}', collateral=100_000, roll_rule=RollRule.MONTH_END.value, nth_expiry=i)\n",
    "    instrument.append(ho)\n",
    "    instrument.append(xb)\n",
    "    instrument.append(cl)"
   ]
  },
  {
   "cell_type": "code",
   "execution_count": 26,
   "id": "19851a3b",
   "metadata": {
    "execution": {
     "iopub.execute_input": "2022-06-16T09:02:24.164875Z",
     "iopub.status.busy": "2022-06-16T09:02:24.164536Z",
     "iopub.status.idle": "2022-06-16T09:02:24.184150Z",
     "shell.execute_reply": "2022-06-16T09:02:24.183417Z"
    },
    "papermill": {
     "duration": 0.048412,
     "end_time": "2022-06-16T09:02:24.186799",
     "exception": false,
     "start_time": "2022-06-16T09:02:24.138387",
     "status": "completed"
    },
    "tags": []
   },
   "outputs": [
    {
     "data": {
      "text/plain": [
       "18"
      ]
     },
     "execution_count": 26,
     "metadata": {},
     "output_type": "execute_result"
    }
   ],
   "source": [
    "len(instrument)"
   ]
  },
  {
   "cell_type": "code",
   "execution_count": 27,
   "id": "729399c3",
   "metadata": {
    "execution": {
     "iopub.execute_input": "2022-06-16T09:02:24.244194Z",
     "iopub.status.busy": "2022-06-16T09:02:24.243844Z",
     "iopub.status.idle": "2022-06-16T09:08:38.777354Z",
     "shell.execute_reply": "2022-06-16T09:08:38.776694Z"
    },
    "papermill": {
     "duration": 374.566285,
     "end_time": "2022-06-16T09:08:38.780947",
     "exception": false,
     "start_time": "2022-06-16T09:02:24.214662",
     "status": "completed"
    },
    "tags": []
   },
   "outputs": [],
   "source": [
    "engine_cs = BacktestEngine(\n",
    "    start_date=datetime(1985, 1, 1),\n",
    "    strategy=Strategy.DELTA_ONE.value,\n",
    "    instrument=instrument,\n",
    "    signal=signal.CrackSpreadGP1999(\n",
    "        ma_lookback=5,\n",
    "        entry_sigma=2,\n",
    "    ),\n",
    "    weighting=Weighting.SUM.value,\n",
    "    log_level=logging.WARN,\n",
    ")\n",
    "engine_cs.run()"
   ]
  },
  {
   "cell_type": "code",
   "execution_count": 28,
   "id": "f08e3ad6",
   "metadata": {
    "execution": {
     "iopub.execute_input": "2022-06-16T09:08:38.834157Z",
     "iopub.status.busy": "2022-06-16T09:08:38.833854Z",
     "iopub.status.idle": "2022-06-16T09:10:17.414920Z",
     "shell.execute_reply": "2022-06-16T09:10:17.414354Z"
    },
    "papermill": {
     "duration": 98.606866,
     "end_time": "2022-06-16T09:10:17.416672",
     "exception": false,
     "start_time": "2022-06-16T09:08:38.809806",
     "status": "completed"
    },
    "tags": []
   },
   "outputs": [],
   "source": [
    "levels_cs = engine_cs.calculate_equity_curve(calculate_net=False).rename('Crack spread')"
   ]
  },
  {
   "cell_type": "markdown",
   "id": "46f2eaf9",
   "metadata": {
    "papermill": {
     "duration": 0.018188,
     "end_time": "2022-06-16T09:10:17.456926",
     "exception": false,
     "start_time": "2022-06-16T09:10:17.438738",
     "status": "completed"
    },
    "tags": []
   },
   "source": [
    "## Gasoline crack spread"
   ]
  },
  {
   "cell_type": "code",
   "execution_count": 29,
   "id": "ea2825c3",
   "metadata": {
    "execution": {
     "iopub.execute_input": "2022-06-16T09:10:17.495836Z",
     "iopub.status.busy": "2022-06-16T09:10:17.495632Z",
     "iopub.status.idle": "2022-06-16T09:10:17.501072Z",
     "shell.execute_reply": "2022-06-16T09:10:17.500390Z"
    },
    "papermill": {
     "duration": 0.027004,
     "end_time": "2022-06-16T09:10:17.502717",
     "exception": false,
     "start_time": "2022-06-16T09:10:17.475713",
     "status": "completed"
    },
    "tags": []
   },
   "outputs": [],
   "source": [
    "max_expiry = 6\n",
    "instrument = []\n",
    "for i in range(1, max_expiry + 1):\n",
    "    xb = InstrumentDef('XB', id=f'XB_{i}', collateral=100_000, roll_rule=RollRule.MONTH_END.value, nth_expiry=i)\n",
    "    cl = InstrumentDef('CL', id=f'CL_{i}', collateral=100_000, roll_rule=RollRule.MONTH_END.value, nth_expiry=i)\n",
    "    instrument.append(xb)\n",
    "    instrument.append(cl)"
   ]
  },
  {
   "cell_type": "code",
   "execution_count": 30,
   "id": "553fbe4b",
   "metadata": {
    "execution": {
     "iopub.execute_input": "2022-06-16T09:10:17.540545Z",
     "iopub.status.busy": "2022-06-16T09:10:17.540359Z",
     "iopub.status.idle": "2022-06-16T09:14:34.720674Z",
     "shell.execute_reply": "2022-06-16T09:14:34.720087Z"
    },
    "papermill": {
     "duration": 257.201375,
     "end_time": "2022-06-16T09:14:34.722474",
     "exception": false,
     "start_time": "2022-06-16T09:10:17.521099",
     "status": "completed"
    },
    "tags": []
   },
   "outputs": [],
   "source": [
    "engine_gcs = BacktestEngine(\n",
    "    start_date=datetime(1985, 1, 1),\n",
    "    strategy=Strategy.DELTA_ONE.value,\n",
    "    instrument=instrument,\n",
    "    signal=signal.CrackSpreadGP1999(\n",
    "        weights={'XB': 42 * 1000, 'CL': -1 * 1000},\n",
    "        ma_lookback=5,\n",
    "        entry_sigma=2,\n",
    "    ),\n",
    "    weighting=Weighting.SUM.value,\n",
    "    log_level=logging.WARN,\n",
    ")\n",
    "engine_gcs.run()"
   ]
  },
  {
   "cell_type": "code",
   "execution_count": 31,
   "id": "4d87519a",
   "metadata": {
    "execution": {
     "iopub.execute_input": "2022-06-16T09:14:34.759977Z",
     "iopub.status.busy": "2022-06-16T09:14:34.759782Z",
     "iopub.status.idle": "2022-06-16T09:15:34.981443Z",
     "shell.execute_reply": "2022-06-16T09:15:34.980600Z"
    },
    "papermill": {
     "duration": 60.243086,
     "end_time": "2022-06-16T09:15:34.983583",
     "exception": false,
     "start_time": "2022-06-16T09:14:34.740497",
     "status": "completed"
    },
    "tags": []
   },
   "outputs": [],
   "source": [
    "levels_gcs = engine_gcs.calculate_equity_curve(calculate_net=False).rename('Gasoline crack spread')"
   ]
  },
  {
   "cell_type": "markdown",
   "id": "8d456942",
   "metadata": {
    "papermill": {
     "duration": 0.018825,
     "end_time": "2022-06-16T09:15:35.023593",
     "exception": false,
     "start_time": "2022-06-16T09:15:35.004768",
     "status": "completed"
    },
    "tags": []
   },
   "source": [
    "## Heating oil crack spread"
   ]
  },
  {
   "cell_type": "code",
   "execution_count": 32,
   "id": "9cb7c150",
   "metadata": {
    "execution": {
     "iopub.execute_input": "2022-06-16T09:15:35.062512Z",
     "iopub.status.busy": "2022-06-16T09:15:35.062067Z",
     "iopub.status.idle": "2022-06-16T09:15:35.067766Z",
     "shell.execute_reply": "2022-06-16T09:15:35.067270Z"
    },
    "papermill": {
     "duration": 0.027801,
     "end_time": "2022-06-16T09:15:35.069923",
     "exception": false,
     "start_time": "2022-06-16T09:15:35.042122",
     "status": "completed"
    },
    "tags": []
   },
   "outputs": [],
   "source": [
    "max_expiry = 6\n",
    "instrument = []\n",
    "for i in range(1, max_expiry + 1):\n",
    "    ho = InstrumentDef('HO', id=f'HO_{i}', collateral=100_000, roll_rule=RollRule.MONTH_END.value, nth_expiry=i)\n",
    "    cl = InstrumentDef('CL', id=f'CL_{i}', collateral=100_000, roll_rule=RollRule.MONTH_END.value, nth_expiry=i)\n",
    "    instrument.append(ho)\n",
    "    instrument.append(cl)"
   ]
  },
  {
   "cell_type": "code",
   "execution_count": 33,
   "id": "9338a131",
   "metadata": {
    "execution": {
     "iopub.execute_input": "2022-06-16T09:15:35.119876Z",
     "iopub.status.busy": "2022-06-16T09:15:35.119659Z",
     "iopub.status.idle": "2022-06-16T09:19:49.441712Z",
     "shell.execute_reply": "2022-06-16T09:19:49.441082Z"
    },
    "papermill": {
     "duration": 254.346035,
     "end_time": "2022-06-16T09:19:49.443888",
     "exception": false,
     "start_time": "2022-06-16T09:15:35.097853",
     "status": "completed"
    },
    "tags": []
   },
   "outputs": [],
   "source": [
    "engine_hocs = BacktestEngine(\n",
    "    start_date=datetime(1985, 1, 1),\n",
    "    strategy=Strategy.DELTA_ONE.value,\n",
    "    instrument=instrument,\n",
    "    signal=signal.CrackSpreadGP1999(\n",
    "        weights={'HO': 42 * 1000, 'CL': -1 * 1000},\n",
    "        ma_lookback=5,\n",
    "        entry_sigma=2,\n",
    "    ),\n",
    "    weighting=Weighting.SUM.value,\n",
    "    log_level=logging.WARN,\n",
    ")\n",
    "engine_hocs.run()"
   ]
  },
  {
   "cell_type": "code",
   "execution_count": 34,
   "id": "64757694",
   "metadata": {
    "execution": {
     "iopub.execute_input": "2022-06-16T09:19:49.483311Z",
     "iopub.status.busy": "2022-06-16T09:19:49.482878Z",
     "iopub.status.idle": "2022-06-16T09:20:50.847247Z",
     "shell.execute_reply": "2022-06-16T09:20:50.846471Z"
    },
    "papermill": {
     "duration": 61.385036,
     "end_time": "2022-06-16T09:20:50.849082",
     "exception": false,
     "start_time": "2022-06-16T09:19:49.464046",
     "status": "completed"
    },
    "tags": []
   },
   "outputs": [],
   "source": [
    "levels_hocs = engine_hocs.calculate_equity_curve(calculate_net=False).rename('Heating oil crack spread')"
   ]
  },
  {
   "cell_type": "markdown",
   "id": "7d427481",
   "metadata": {
    "papermill": {
     "duration": 0.020565,
     "end_time": "2022-06-16T09:20:50.892428",
     "exception": false,
     "start_time": "2022-06-16T09:20:50.871863",
     "status": "completed"
    },
    "tags": []
   },
   "source": [
    "## Performance\n",
    "During the sample period tested, a mean-reversion on the crack spread worked well."
   ]
  },
  {
   "cell_type": "code",
   "execution_count": 35,
   "id": "348f0796",
   "metadata": {
    "execution": {
     "iopub.execute_input": "2022-06-16T09:20:50.937424Z",
     "iopub.status.busy": "2022-06-16T09:20:50.937088Z",
     "iopub.status.idle": "2022-06-16T09:20:50.950094Z",
     "shell.execute_reply": "2022-06-16T09:20:50.949358Z"
    },
    "papermill": {
     "duration": 0.039434,
     "end_time": "2022-06-16T09:20:50.951863",
     "exception": false,
     "start_time": "2022-06-16T09:20:50.912429",
     "status": "completed"
    },
    "tags": []
   },
   "outputs": [],
   "source": [
    "levels = pd.concat((\n",
    "    levels_cs, levels_gcs, levels_hocs\n",
    "), axis=1)"
   ]
  },
  {
   "cell_type": "code",
   "execution_count": 36,
   "id": "c3b6f7cd",
   "metadata": {
    "execution": {
     "iopub.execute_input": "2022-06-16T09:20:50.988975Z",
     "iopub.status.busy": "2022-06-16T09:20:50.988764Z",
     "iopub.status.idle": "2022-06-16T09:20:51.776941Z",
     "shell.execute_reply": "2022-06-16T09:20:51.776278Z"
    },
    "papermill": {
     "duration": 0.809074,
     "end_time": "2022-06-16T09:20:51.778909",
     "exception": false,
     "start_time": "2022-06-16T09:20:50.969835",
     "status": "completed"
    },
    "tags": []
   },
   "outputs": [
    {
     "data": {
      "image/png": "[encoded data removed]",
      "text/plain": [
       "<Figure size 576x324 with 1 Axes>"
      ]
     },
     "metadata": {
      "needs_background": "light"
     },
     "output_type": "display_data"
    }
   ],
   "source": [
    "fig, ax = plt.subplots(figsize=(8, 4.5))\n",
    "levels[:'1994-11'].plot(ax=ax, logy=True);\n",
    "ax.set_title('Crack spreads mean-reversion (GP1999)')\n",
    "ax.set_ylabel('Cumulative returns');"
   ]
  },
  {
   "cell_type": "code",
   "execution_count": 37,
   "id": "8b9035a4",
   "metadata": {
    "execution": {
     "iopub.execute_input": "2022-06-16T09:20:51.821678Z",
     "iopub.status.busy": "2022-06-16T09:20:51.821179Z",
     "iopub.status.idle": "2022-06-16T09:20:51.868551Z",
     "shell.execute_reply": "2022-06-16T09:20:51.867978Z"
    },
    "papermill": {
     "duration": 0.070719,
     "end_time": "2022-06-16T09:20:51.870139",
     "exception": false,
     "start_time": "2022-06-16T09:20:51.799420",
     "status": "completed"
    },
    "tags": []
   },
   "outputs": [
    {
     "data": {
      "text/html": [
       "<div>\n",
       "<style scoped>\n",
       "    .dataframe tbody tr th:only-of-type {\n",
       "        vertical-align: middle;\n",
       "    }\n",
       "\n",
       "    .dataframe tbody tr th {\n",
       "        vertical-align: top;\n",
       "    }\n",
       "\n",
       "    .dataframe thead th {\n",
       "        text-align: right;\n",
       "    }\n",
       "</style>\n",
       "<table border=\"1\" class=\"dataframe\">\n",
       "  <thead>\n",
       "    <tr style=\"text-align: right;\">\n",
       "      <th></th>\n",
       "      <th>Crack spread</th>\n",
       "      <th>Gasoline crack spread</th>\n",
       "      <th>Heating oil crack spread</th>\n",
       "    </tr>\n",
       "  </thead>\n",
       "  <tbody>\n",
       "    <tr>\n",
       "      <th>CAGR</th>\n",
       "      <td>0.014100</td>\n",
       "      <td>0.007241</td>\n",
       "      <td>0.011715</td>\n",
       "    </tr>\n",
       "    <tr>\n",
       "      <th>Annualised vol</th>\n",
       "      <td>0.018131</td>\n",
       "      <td>0.022948</td>\n",
       "      <td>0.017725</td>\n",
       "    </tr>\n",
       "    <tr>\n",
       "      <th>Sharpe ratio</th>\n",
       "      <td>0.777675</td>\n",
       "      <td>0.315525</td>\n",
       "      <td>0.660914</td>\n",
       "    </tr>\n",
       "    <tr>\n",
       "      <th>Max drawdown</th>\n",
       "      <td>0.071648</td>\n",
       "      <td>0.129760</td>\n",
       "      <td>0.044562</td>\n",
       "    </tr>\n",
       "    <tr>\n",
       "      <th>Calmar ratio</th>\n",
       "      <td>0.196791</td>\n",
       "      <td>0.055800</td>\n",
       "      <td>0.262889</td>\n",
       "    </tr>\n",
       "    <tr>\n",
       "      <th>Skewness</th>\n",
       "      <td>0.791950</td>\n",
       "      <td>4.373877</td>\n",
       "      <td>2.076780</td>\n",
       "    </tr>\n",
       "    <tr>\n",
       "      <th>Kurtosis</th>\n",
       "      <td>45.874931</td>\n",
       "      <td>200.909353</td>\n",
       "      <td>75.098364</td>\n",
       "    </tr>\n",
       "    <tr>\n",
       "      <th>Worst return</th>\n",
       "      <td>-0.012272</td>\n",
       "      <td>-0.022322</td>\n",
       "      <td>-0.013000</td>\n",
       "    </tr>\n",
       "    <tr>\n",
       "      <th>Worst 1d return</th>\n",
       "      <td>-0.012272</td>\n",
       "      <td>-0.022322</td>\n",
       "      <td>-0.013000</td>\n",
       "    </tr>\n",
       "    <tr>\n",
       "      <th>Worst 1w return</th>\n",
       "      <td>-0.018763</td>\n",
       "      <td>-0.034413</td>\n",
       "      <td>-0.019985</td>\n",
       "    </tr>\n",
       "    <tr>\n",
       "      <th>Worst 1m return</th>\n",
       "      <td>-0.030638</td>\n",
       "      <td>-0.029017</td>\n",
       "      <td>-0.026193</td>\n",
       "    </tr>\n",
       "  </tbody>\n",
       "</table>\n",
       "</div>"
      ],
      "text/plain": [
       "                 Crack spread  Gasoline crack spread  Heating oil crack spread\n",
       "CAGR                 0.014100               0.007241                  0.011715\n",
       "Annualised vol       0.018131               0.022948                  0.017725\n",
       "Sharpe ratio         0.777675               0.315525                  0.660914\n",
       "Max drawdown         0.071648               0.129760                  0.044562\n",
       "Calmar ratio         0.196791               0.055800                  0.262889\n",
       "Skewness             0.791950               4.373877                  2.076780\n",
       "Kurtosis            45.874931             200.909353                 75.098364\n",
       "Worst return        -0.012272              -0.022322                 -0.013000\n",
       "Worst 1d return     -0.012272              -0.022322                 -0.013000\n",
       "Worst 1w return     -0.018763              -0.034413                 -0.019985\n",
       "Worst 1m return     -0.030638              -0.029017                 -0.026193"
      ]
     },
     "execution_count": 37,
     "metadata": {},
     "output_type": "execute_result"
    }
   ],
   "source": [
    "levels[:'1994-11'].pipe(Performance).summary()"
   ]
  },
  {
   "cell_type": "markdown",
   "id": "25d81c19",
   "metadata": {
    "papermill": {
     "duration": 0.022035,
     "end_time": "2022-06-16T09:20:51.915146",
     "exception": false,
     "start_time": "2022-06-16T09:20:51.893111",
     "status": "completed"
    },
    "tags": []
   },
   "source": [
    "The underperformance in 1990 coincides with a wider divergence on the crack spread which is intuitive."
   ]
  },
  {
   "cell_type": "code",
   "execution_count": 38,
   "id": "76538675",
   "metadata": {
    "execution": {
     "iopub.execute_input": "2022-06-16T09:20:51.958218Z",
     "iopub.status.busy": "2022-06-16T09:20:51.958018Z",
     "iopub.status.idle": "2022-06-16T09:20:52.381435Z",
     "shell.execute_reply": "2022-06-16T09:20:52.380835Z"
    },
    "papermill": {
     "duration": 0.44689,
     "end_time": "2022-06-16T09:20:52.383275",
     "exception": false,
     "start_time": "2022-06-16T09:20:51.936385",
     "status": "completed"
    },
    "tags": []
   },
   "outputs": [
    {
     "data": {
      "image/png": "[encoded data removed]",
      "text/plain": [
       "<Figure size 576x360 with 2 Axes>"
      ]
     },
     "metadata": {
      "needs_background": "light"
     },
     "output_type": "display_data"
    }
   ],
   "source": [
    "pd.concat((\n",
    "    levels_gcs.rename('Gasoline crack spread strategy'),\n",
    "    gcs.rename('GCS')\n",
    "), axis=1)[:'1994-11'].plot(figsize=(8, 5), secondary_y='GCS');"
   ]
  },
  {
   "cell_type": "markdown",
   "id": "e2d431e2",
   "metadata": {
    "papermill": {
     "duration": 0.025392,
     "end_time": "2022-06-16T09:20:52.436368",
     "exception": false,
     "start_time": "2022-06-16T09:20:52.410976",
     "status": "completed"
    },
    "tags": []
   },
   "source": [
    "## Long-term performance\n",
    "\n",
    "...however as we saw earlier in the time-series of crack spreads, something must have changed in 2000s and the trading strategies stopped working."
   ]
  },
  {
   "cell_type": "code",
   "execution_count": 39,
   "id": "d8a263d6",
   "metadata": {
    "execution": {
     "iopub.execute_input": "2022-06-16T09:20:52.476849Z",
     "iopub.status.busy": "2022-06-16T09:20:52.476480Z",
     "iopub.status.idle": "2022-06-16T09:20:52.996214Z",
     "shell.execute_reply": "2022-06-16T09:20:52.995640Z"
    },
    "papermill": {
     "duration": 0.54197,
     "end_time": "2022-06-16T09:20:52.997881",
     "exception": false,
     "start_time": "2022-06-16T09:20:52.455911",
     "status": "completed"
    },
    "tags": []
   },
   "outputs": [
    {
     "data": {
      "image/png": "[encoded data removed]",
      "text/plain": [
       "<Figure size 576x324 with 1 Axes>"
      ]
     },
     "metadata": {
      "needs_background": "light"
     },
     "output_type": "display_data"
    }
   ],
   "source": [
    "fig, ax = plt.subplots(figsize=(8, 4.5))\n",
    "levels.plot(ax=ax, logy=True);\n",
    "ax.set_title('Crack spreads mean-reversion (GP1999)')\n",
    "ax.set_ylabel('Cumulative returns');"
   ]
  },
  {
   "cell_type": "code",
   "execution_count": 40,
   "id": "b9b01da1",
   "metadata": {
    "execution": {
     "iopub.execute_input": "2022-06-16T09:20:53.048851Z",
     "iopub.status.busy": "2022-06-16T09:20:53.048323Z",
     "iopub.status.idle": "2022-06-16T09:20:53.114771Z",
     "shell.execute_reply": "2022-06-16T09:20:53.114211Z"
    },
    "papermill": {
     "duration": 0.095265,
     "end_time": "2022-06-16T09:20:53.116647",
     "exception": false,
     "start_time": "2022-06-16T09:20:53.021382",
     "status": "completed"
    },
    "tags": []
   },
   "outputs": [
    {
     "data": {
      "text/html": [
       "<div>\n",
       "<style scoped>\n",
       "    .dataframe tbody tr th:only-of-type {\n",
       "        vertical-align: middle;\n",
       "    }\n",
       "\n",
       "    .dataframe tbody tr th {\n",
       "        vertical-align: top;\n",
       "    }\n",
       "\n",
       "    .dataframe thead th {\n",
       "        text-align: right;\n",
       "    }\n",
       "</style>\n",
       "<table border=\"1\" class=\"dataframe\">\n",
       "  <thead>\n",
       "    <tr style=\"text-align: right;\">\n",
       "      <th></th>\n",
       "      <th>Crack spread</th>\n",
       "      <th>Gasoline crack spread</th>\n",
       "      <th>Heating oil crack spread</th>\n",
       "    </tr>\n",
       "  </thead>\n",
       "  <tbody>\n",
       "    <tr>\n",
       "      <th>CAGR</th>\n",
       "      <td>-0.057770</td>\n",
       "      <td>-0.006766</td>\n",
       "      <td>-0.008907</td>\n",
       "    </tr>\n",
       "    <tr>\n",
       "      <th>Annualised vol</th>\n",
       "      <td>0.165132</td>\n",
       "      <td>0.044871</td>\n",
       "      <td>0.076071</td>\n",
       "    </tr>\n",
       "    <tr>\n",
       "      <th>Sharpe ratio</th>\n",
       "      <td>-0.349839</td>\n",
       "      <td>-0.150781</td>\n",
       "      <td>-0.117094</td>\n",
       "    </tr>\n",
       "    <tr>\n",
       "      <th>Max drawdown</th>\n",
       "      <td>0.939134</td>\n",
       "      <td>0.455942</td>\n",
       "      <td>0.463897</td>\n",
       "    </tr>\n",
       "    <tr>\n",
       "      <th>Calmar ratio</th>\n",
       "      <td>-0.061514</td>\n",
       "      <td>-0.014839</td>\n",
       "      <td>-0.019201</td>\n",
       "    </tr>\n",
       "    <tr>\n",
       "      <th>Skewness</th>\n",
       "      <td>11.888611</td>\n",
       "      <td>-1.827431</td>\n",
       "      <td>3.949584</td>\n",
       "    </tr>\n",
       "    <tr>\n",
       "      <th>Kurtosis</th>\n",
       "      <td>1409.953066</td>\n",
       "      <td>67.675474</td>\n",
       "      <td>690.895708</td>\n",
       "    </tr>\n",
       "    <tr>\n",
       "      <th>Worst return</th>\n",
       "      <td>-0.339082</td>\n",
       "      <td>-0.049356</td>\n",
       "      <td>-0.162293</td>\n",
       "    </tr>\n",
       "    <tr>\n",
       "      <th>Worst 1d return</th>\n",
       "      <td>-0.339082</td>\n",
       "      <td>-0.049356</td>\n",
       "      <td>-0.162293</td>\n",
       "    </tr>\n",
       "    <tr>\n",
       "      <th>Worst 1w return</th>\n",
       "      <td>-0.487829</td>\n",
       "      <td>-0.101832</td>\n",
       "      <td>-0.125455</td>\n",
       "    </tr>\n",
       "    <tr>\n",
       "      <th>Worst 1m return</th>\n",
       "      <td>-0.436654</td>\n",
       "      <td>-0.119793</td>\n",
       "      <td>-0.228092</td>\n",
       "    </tr>\n",
       "  </tbody>\n",
       "</table>\n",
       "</div>"
      ],
      "text/plain": [
       "                 Crack spread  Gasoline crack spread  Heating oil crack spread\n",
       "CAGR                -0.057770              -0.006766                 -0.008907\n",
       "Annualised vol       0.165132               0.044871                  0.076071\n",
       "Sharpe ratio        -0.349839              -0.150781                 -0.117094\n",
       "Max drawdown         0.939134               0.455942                  0.463897\n",
       "Calmar ratio        -0.061514              -0.014839                 -0.019201\n",
       "Skewness            11.888611              -1.827431                  3.949584\n",
       "Kurtosis          1409.953066              67.675474                690.895708\n",
       "Worst return        -0.339082              -0.049356                 -0.162293\n",
       "Worst 1d return     -0.339082              -0.049356                 -0.162293\n",
       "Worst 1w return     -0.487829              -0.101832                 -0.125455\n",
       "Worst 1m return     -0.436654              -0.119793                 -0.228092"
      ]
     },
     "execution_count": 40,
     "metadata": {},
     "output_type": "execute_result"
    }
   ],
   "source": [
    "levels.pipe(Performance).summary()"
   ]
  },
  {
   "cell_type": "markdown",
   "id": "e67cc5fa",
   "metadata": {
    "papermill": {
     "duration": 0.020136,
     "end_time": "2022-06-16T09:20:53.157494",
     "exception": false,
     "start_time": "2022-06-16T09:20:53.137358",
     "status": "completed"
    },
    "tags": []
   },
   "source": [
    "## Post publication"
   ]
  },
  {
   "cell_type": "code",
   "execution_count": 41,
   "id": "94b4f13d",
   "metadata": {
    "execution": {
     "iopub.execute_input": "2022-06-16T09:20:53.203987Z",
     "iopub.status.busy": "2022-06-16T09:20:53.203630Z",
     "iopub.status.idle": "2022-06-16T09:20:53.207172Z",
     "shell.execute_reply": "2022-06-16T09:20:53.206463Z"
    },
    "papermill": {
     "duration": 0.030892,
     "end_time": "2022-06-16T09:20:53.209162",
     "exception": false,
     "start_time": "2022-06-16T09:20:53.178270",
     "status": "completed"
    },
    "tags": []
   },
   "outputs": [],
   "source": [
    "publication_date = datetime(1999, 11, 29)"
   ]
  },
  {
   "cell_type": "code",
   "execution_count": 42,
   "id": "1a2e7f9c",
   "metadata": {
    "execution": {
     "iopub.execute_input": "2022-06-16T09:20:53.256295Z",
     "iopub.status.busy": "2022-06-16T09:20:53.256025Z",
     "iopub.status.idle": "2022-06-16T09:20:54.398303Z",
     "shell.execute_reply": "2022-06-16T09:20:54.397662Z"
    },
    "papermill": {
     "duration": 1.166639,
     "end_time": "2022-06-16T09:20:54.400947",
     "exception": false,
     "start_time": "2022-06-16T09:20:53.234308",
     "status": "completed"
    },
    "tags": []
   },
   "outputs": [
    {
     "data": {
      "image/png": "[encoded data removed]",
      "text/plain": [
       "<Figure size 1008x288 with 2 Axes>"
      ]
     },
     "metadata": {
      "needs_background": "light"
     },
     "output_type": "display_data"
    }
   ],
   "source": [
    "fig, ax = plt.subplots(1, 2, figsize=(14, 4))\n",
    "levels.plot(ax=ax[0], logy=True);\n",
    "ax[0].set_title('Crack spreads mean-reversion (GP1999)')\n",
    "ax[0].set_ylabel('Cumulative returns');\n",
    "ax[0].axvline(publication_date, lw=1, ls='--', color='black')\n",
    "ax[0].text(publication_date, 100, 'Publication date ', ha='right')\n",
    "\n",
    "levels.loc[publication_date:].pipe(rebase).plot(ax=ax[1], logy=True);\n",
    "ax[1].set_title('Post publication');"
   ]
  },
  {
   "cell_type": "markdown",
   "id": "d187127a",
   "metadata": {
    "papermill": {
     "duration": 0.030945,
     "end_time": "2022-06-16T09:20:54.462172",
     "exception": false,
     "start_time": "2022-06-16T09:20:54.431227",
     "status": "completed"
    },
    "tags": []
   },
   "source": [
    "# Reference\n",
    "- Girma, P.B. and Paulson, A.S., 1999. Risk arbitrage opportunities in petroleum futures spreads. Journal of Futures Markets, 19(8), pp.931-955."
   ]
  },
  {
   "cell_type": "code",
   "execution_count": 43,
   "id": "69fe3c8e",
   "metadata": {
    "execution": {
     "iopub.execute_input": "2022-06-16T09:20:54.517916Z",
     "iopub.status.busy": "2022-06-16T09:20:54.517648Z",
     "iopub.status.idle": "2022-06-16T09:20:54.522473Z",
     "shell.execute_reply": "2022-06-16T09:20:54.521784Z"
    },
    "papermill": {
     "duration": 0.031807,
     "end_time": "2022-06-16T09:20:54.524066",
     "exception": false,
     "start_time": "2022-06-16T09:20:54.492259",
     "status": "completed"
    },
    "tags": []
   },
   "outputs": [
    {
     "name": "stdout",
     "output_type": "stream",
     "text": [
      "Updated: 16-Jun-2022 09:20\n"
     ]
    }
   ],
   "source": [
    "print(f'Updated: {datetime.utcnow():%d-%b-%Y %H:%M}')"
   ]
  }
 ],
 "metadata": {
  "kernelspec": {
   "display_name": "Python 3",
   "language": "python",
   "name": "python3"
  },
  "language_info": {
   "codemirror_mode": {
    "name": "ipython",
    "version": 3
   },
   "file_extension": ".py",
   "mimetype": "text/x-python",
   "name": "python",
   "nbconvert_exporter": "python",
   "pygments_lexer": "ipython3",
   "version": "3.9.6"
  },
  "papermill": {
   "default_parameters": {},
   "duration": 1196.480978,
   "end_time": "2022-06-16T09:20:57.278329",
   "environment_variables": {},
   "exception": null,
   "input_path": "notebooks/papermill/commodity_crack_spread_stat_arb.ipynb",
   "output_path": "notebooks/commodity_crack_spread_stat_arb.ipynb",
   "parameters": {},
   "start_time": "2022-06-16T09:01:00.797351",
   "version": "2.3.4"
  },
  "toc-autonumbering": true
 },
 "nbformat": 4,
 "nbformat_minor": 5
}