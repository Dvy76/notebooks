{
 "cells": [
  {
   "cell_type": "markdown",
   "id": "172ca5c5",
   "metadata": {
    "papermill": {
     "duration": 0.017799,
     "end_time": "2022-06-30T06:10:24.550331",
     "exception": false,
     "start_time": "2022-06-30T06:10:24.532532",
     "status": "completed"
    },
    "tags": []
   },
   "source": [
    "# Commodity crack spread statistical arbitrage\n",
    "\n",
    "In this notebook, the mean-rereversion strategy proposed in Girma and Paulson 1999 (henthforth GP1999) is investigated. It focuses on a various combination of the crude oil (WTI) crack spread. "
   ]
  },
  {
   "cell_type": "code",
   "execution_count": 1,
   "id": "7daa9dab",
   "metadata": {
    "execution": {
     "iopub.execute_input": "2022-06-30T06:10:24.582578Z",
     "iopub.status.busy": "2022-06-30T06:10:24.582357Z",
     "iopub.status.idle": "2022-06-30T06:10:27.831735Z",
     "shell.execute_reply": "2022-06-30T06:10:27.830929Z"
    },
    "papermill": {
     "duration": 3.26821,
     "end_time": "2022-06-30T06:10:27.834363",
     "exception": false,
     "start_time": "2022-06-30T06:10:24.566153",
     "status": "completed"
    },
    "tags": []
   },
   "outputs": [],
   "source": [
    "%matplotlib inline\n",
    "from datetime import datetime\n",
    "import logging\n",
    "import warnings\n",
    "warnings.simplefilter(action='ignore', category=FutureWarning)\n",
    "\n",
    "import pandas as pd\n",
    "import statsmodels.api as sm\n",
    "import matplotlib.pyplot as plt\n",
    "plt.style.use('bmh')\n",
    "\n",
    "from vivace.backtest import BacktestEngine, signal, InstrumentDef\n",
    "from vivace.backtest.analytics import rebase\n",
    "from vivace.backtest.contract import get_futures_curve_snapshot\n",
    "from vivace.backtest.enums import Strategy, Weighting, RollRule\n",
    "from vivace.backtest.stats import Performance"
   ]
  },
  {
   "cell_type": "markdown",
   "id": "68aa8ccf",
   "metadata": {
    "papermill": {
     "duration": 0.021666,
     "end_time": "2022-06-30T06:10:27.877841",
     "exception": false,
     "start_time": "2022-06-30T06:10:27.856175",
     "status": "completed"
    },
    "tags": []
   },
   "source": [
    "# Cointegration test\n",
    "\n",
    "GP1999 first checks if the crack spread is cointegrated. To do that, first let's see futures prices are non-stationary or not. As per usual, the generic price is populated by running a simple long-only backtest by rolling the front contract."
   ]
  },
  {
   "cell_type": "markdown",
   "id": "824e7302",
   "metadata": {
    "papermill": {
     "duration": 0.016596,
     "end_time": "2022-06-30T06:10:27.912868",
     "exception": false,
     "start_time": "2022-06-30T06:10:27.896272",
     "status": "completed"
    },
    "tags": []
   },
   "source": [
    "## ADF test\n",
    "\n",
    "The ADF test is done by the `adfuller` function in `statsmodels`. (cf. https://www.statsmodels.org/dev/generated/statsmodels.tsa.stattools.adfuller.html)"
   ]
  },
  {
   "cell_type": "code",
   "execution_count": 2,
   "id": "4eb3103c",
   "metadata": {
    "execution": {
     "iopub.execute_input": "2022-06-30T06:10:27.946406Z",
     "iopub.status.busy": "2022-06-30T06:10:27.946200Z",
     "iopub.status.idle": "2022-06-30T06:10:38.895518Z",
     "shell.execute_reply": "2022-06-30T06:10:38.894932Z"
    },
    "papermill": {
     "duration": 10.969177,
     "end_time": "2022-06-30T06:10:38.897710",
     "exception": false,
     "start_time": "2022-06-30T06:10:27.928533",
     "status": "completed"
    },
    "tags": []
   },
   "outputs": [],
   "source": [
    "cl_1st = BacktestEngine(instrument='CL', log_level=logging.WARN)\n",
    "cl_1st.run()"
   ]
  },
  {
   "cell_type": "code",
   "execution_count": 3,
   "id": "9910ecff",
   "metadata": {
    "execution": {
     "iopub.execute_input": "2022-06-30T06:10:38.942322Z",
     "iopub.status.busy": "2022-06-30T06:10:38.941707Z",
     "iopub.status.idle": "2022-06-30T06:10:50.485195Z",
     "shell.execute_reply": "2022-06-30T06:10:50.484550Z"
    },
    "papermill": {
     "duration": 11.567843,
     "end_time": "2022-06-30T06:10:50.487095",
     "exception": false,
     "start_time": "2022-06-30T06:10:38.919252",
     "status": "completed"
    },
    "tags": []
   },
   "outputs": [],
   "source": [
    "ho_1st = BacktestEngine(instrument='HO', log_level=logging.WARN)\n",
    "ho_1st.run()"
   ]
  },
  {
   "cell_type": "code",
   "execution_count": 4,
   "id": "32cec4c3",
   "metadata": {
    "execution": {
     "iopub.execute_input": "2022-06-30T06:10:50.521672Z",
     "iopub.status.busy": "2022-06-30T06:10:50.521224Z",
     "iopub.status.idle": "2022-06-30T06:10:59.019360Z",
     "shell.execute_reply": "2022-06-30T06:10:59.018670Z"
    },
    "papermill": {
     "duration": 8.517033,
     "end_time": "2022-06-30T06:10:59.021689",
     "exception": false,
     "start_time": "2022-06-30T06:10:50.504656",
     "status": "completed"
    },
    "tags": []
   },
   "outputs": [],
   "source": [
    "xb_1st = BacktestEngine(instrument='XB', log_level=logging.WARN)\n",
    "xb_1st.run()"
   ]
  },
  {
   "cell_type": "code",
   "execution_count": 5,
   "id": "a602ffe8",
   "metadata": {
    "execution": {
     "iopub.execute_input": "2022-06-30T06:10:59.054167Z",
     "iopub.status.busy": "2022-06-30T06:10:59.053840Z",
     "iopub.status.idle": "2022-06-30T06:11:17.718123Z",
     "shell.execute_reply": "2022-06-30T06:11:17.717448Z"
    },
    "papermill": {
     "duration": 18.682837,
     "end_time": "2022-06-30T06:11:17.720278",
     "exception": false,
     "start_time": "2022-06-30T06:10:59.037441",
     "status": "completed"
    },
    "tags": []
   },
   "outputs": [],
   "source": [
    "cl_price = cl_1st.get_generic_price().squeeze().fillna(method='pad').rename('Crude oil')\n",
    "ho_price = ho_1st.get_generic_price().squeeze().fillna(method='pad').rename('Heating oil')\n",
    "xb_price = xb_1st.get_generic_price().squeeze().fillna(method='pad').rename('Gasoline')"
   ]
  },
  {
   "cell_type": "code",
   "execution_count": 6,
   "id": "81a1c9be",
   "metadata": {
    "execution": {
     "iopub.execute_input": "2022-06-30T06:11:17.762826Z",
     "iopub.status.busy": "2022-06-30T06:11:17.762634Z",
     "iopub.status.idle": "2022-06-30T06:11:17.768755Z",
     "shell.execute_reply": "2022-06-30T06:11:17.768108Z"
    },
    "papermill": {
     "duration": 0.029445,
     "end_time": "2022-06-30T06:11:17.770395",
     "exception": false,
     "start_time": "2022-06-30T06:11:17.740950",
     "status": "completed"
    },
    "tags": []
   },
   "outputs": [],
   "source": [
    "def adf(ts: pd.Series, **kwargs) -> pd.Series:\n",
    "    \"\"\" Run the ADF test and return a cleaned result \"\"\"\n",
    "    adf_result = sm.tsa.stattools.adfuller(ts, **kwargs)\n",
    "    cleaned = {\n",
    "        'adf': adf_result[0],\n",
    "        'p_value': adf_result[1],\n",
    "        'used_lag': adf_result[2],\n",
    "        'n_obs': adf_result[3],\n",
    "        'ci_0.01': adf_result[4]['1%'],\n",
    "        'ci_0.05': adf_result[4]['5%'],\n",
    "        'ci_0.1': adf_result[4]['10%'],\n",
    "        'ic_best': adf_result[5],\n",
    "    }\n",
    "    return pd.Series(cleaned, name=ts.name)"
   ]
  },
  {
   "cell_type": "markdown",
   "id": "73a9df64",
   "metadata": {
    "papermill": {
     "duration": 0.015002,
     "end_time": "2022-06-30T06:11:17.832715",
     "exception": false,
     "start_time": "2022-06-30T06:11:17.817713",
     "status": "completed"
    },
    "tags": []
   },
   "source": [
    "GP1999 uses Schwarz's information criterion (i.e., BIC) to select the optimal number of lags included in the ADF test."
   ]
  },
  {
   "cell_type": "code",
   "execution_count": 7,
   "id": "b69649d6",
   "metadata": {
    "execution": {
     "iopub.execute_input": "2022-06-30T06:11:17.864304Z",
     "iopub.status.busy": "2022-06-30T06:11:17.863797Z",
     "iopub.status.idle": "2022-06-30T06:11:19.199469Z",
     "shell.execute_reply": "2022-06-30T06:11:19.198365Z"
    },
    "papermill": {
     "duration": 1.35764,
     "end_time": "2022-06-30T06:11:19.205407",
     "exception": false,
     "start_time": "2022-06-30T06:11:17.847767",
     "status": "completed"
    },
    "tags": []
   },
   "outputs": [],
   "source": [
    "adf_result = pd.concat((\n",
    "    adf(cl_price['1983-04':'1994-11'], autolag='BIC').to_frame().T,\n",
    "    adf(ho_price['1983-04':'1994-11'], autolag='BIC').to_frame().T,\n",
    "    adf(xb_price['1984-12':'1994-11'], autolag='BIC').to_frame().T,\n",
    "))"
   ]
  },
  {
   "cell_type": "markdown",
   "id": "1396f87e",
   "metadata": {
    "papermill": {
     "duration": 0.024332,
     "end_time": "2022-06-30T06:11:19.267393",
     "exception": false,
     "start_time": "2022-06-30T06:11:19.243061",
     "status": "completed"
    },
    "tags": []
   },
   "source": [
    "In the ADF test, $H_0$ is that the time-series is non-stationary. Based on this result below, $H_0$ cannot be rejected for crude oil, however is rejected for heating oil and gasoline at the 10% and 5% level respectively.\n",
    "\n",
    "This is interesting because usually almost always asset prices are non-stationary."
   ]
  },
  {
   "cell_type": "code",
   "execution_count": 8,
   "id": "3655e953",
   "metadata": {
    "execution": {
     "iopub.execute_input": "2022-06-30T06:11:19.298928Z",
     "iopub.status.busy": "2022-06-30T06:11:19.298432Z",
     "iopub.status.idle": "2022-06-30T06:11:19.313605Z",
     "shell.execute_reply": "2022-06-30T06:11:19.312878Z"
    },
    "papermill": {
     "duration": 0.032892,
     "end_time": "2022-06-30T06:11:19.315245",
     "exception": false,
     "start_time": "2022-06-30T06:11:19.282353",
     "status": "completed"
    },
    "tags": []
   },
   "outputs": [
    {
     "data": {
      "text/html": [
       "<div>\n",
       "<style scoped>\n",
       "    .dataframe tbody tr th:only-of-type {\n",
       "        vertical-align: middle;\n",
       "    }\n",
       "\n",
       "    .dataframe tbody tr th {\n",
       "        vertical-align: top;\n",
       "    }\n",
       "\n",
       "    .dataframe thead th {\n",
       "        text-align: right;\n",
       "    }\n",
       "</style>\n",
       "<table border=\"1\" class=\"dataframe\">\n",
       "  <thead>\n",
       "    <tr style=\"text-align: right;\">\n",
       "      <th></th>\n",
       "      <th>adf</th>\n",
       "      <th>p_value</th>\n",
       "      <th>used_lag</th>\n",
       "      <th>n_obs</th>\n",
       "      <th>ci_0.01</th>\n",
       "      <th>ci_0.05</th>\n",
       "      <th>ci_0.1</th>\n",
       "      <th>ic_best</th>\n",
       "    </tr>\n",
       "  </thead>\n",
       "  <tbody>\n",
       "    <tr>\n",
       "      <th>Crude oil</th>\n",
       "      <td>-2.185213</td>\n",
       "      <td>0.211656</td>\n",
       "      <td>8.0</td>\n",
       "      <td>2924.0</td>\n",
       "      <td>-3.432588</td>\n",
       "      <td>-2.862529</td>\n",
       "      <td>-2.567296</td>\n",
       "      <td>4195.186424</td>\n",
       "    </tr>\n",
       "    <tr>\n",
       "      <th>Heating oil</th>\n",
       "      <td>-2.743636</td>\n",
       "      <td>0.066787</td>\n",
       "      <td>3.0</td>\n",
       "      <td>2929.0</td>\n",
       "      <td>-3.432585</td>\n",
       "      <td>-2.862527</td>\n",
       "      <td>-2.567296</td>\n",
       "      <td>-15763.929006</td>\n",
       "    </tr>\n",
       "    <tr>\n",
       "      <th>Gasoline</th>\n",
       "      <td>-3.003758</td>\n",
       "      <td>0.034545</td>\n",
       "      <td>3.0</td>\n",
       "      <td>2510.0</td>\n",
       "      <td>-3.432958</td>\n",
       "      <td>-2.862692</td>\n",
       "      <td>-2.567383</td>\n",
       "      <td>-14006.551367</td>\n",
       "    </tr>\n",
       "  </tbody>\n",
       "</table>\n",
       "</div>"
      ],
      "text/plain": [
       "                  adf   p_value  used_lag   n_obs   ci_0.01   ci_0.05  \\\n",
       "Crude oil   -2.185213  0.211656       8.0  2924.0 -3.432588 -2.862529   \n",
       "Heating oil -2.743636  0.066787       3.0  2929.0 -3.432585 -2.862527   \n",
       "Gasoline    -3.003758  0.034545       3.0  2510.0 -3.432958 -2.862692   \n",
       "\n",
       "               ci_0.1       ic_best  \n",
       "Crude oil   -2.567296   4195.186424  \n",
       "Heating oil -2.567296 -15763.929006  \n",
       "Gasoline    -2.567383 -14006.551367  "
      ]
     },
     "execution_count": 8,
     "metadata": {},
     "output_type": "execute_result"
    }
   ],
   "source": [
    "adf_result"
   ]
  },
  {
   "cell_type": "markdown",
   "id": "cb465c0a",
   "metadata": {
    "papermill": {
     "duration": 0.016354,
     "end_time": "2022-06-30T06:11:19.346767",
     "exception": false,
     "start_time": "2022-06-30T06:11:19.330413",
     "status": "completed"
    },
    "tags": []
   },
   "source": [
    "Probably it is to do with the sampling period. It may look a stationary process especially after 1986, however clearly it is heteroskedastic and the price move in 1986 seems like a shift in the level."
   ]
  },
  {
   "cell_type": "code",
   "execution_count": 9,
   "id": "11339aae",
   "metadata": {
    "execution": {
     "iopub.execute_input": "2022-06-30T06:11:19.382694Z",
     "iopub.status.busy": "2022-06-30T06:11:19.382394Z",
     "iopub.status.idle": "2022-06-30T06:11:19.981598Z",
     "shell.execute_reply": "2022-06-30T06:11:19.981066Z"
    },
    "papermill": {
     "duration": 0.618566,
     "end_time": "2022-06-30T06:11:19.983435",
     "exception": false,
     "start_time": "2022-06-30T06:11:19.364869",
     "status": "completed"
    },
    "tags": []
   },
   "outputs": [
    {
     "data": {
      "image/png": "[encoded data removed]",
      "text/plain": [
       "<Figure size 576x360 with 2 Axes>"
      ]
     },
     "metadata": {
      "needs_background": "light"
     },
     "output_type": "display_data"
    }
   ],
   "source": [
    "fig, ax = plt.subplots(figsize=(8, 5))\n",
    "pd.concat((\n",
    "    cl_price['1983-04':'1994-11'],\n",
    "    ho_price['1983-04':'1994-11'],\n",
    "    xb_price['1984-12':'1994-11'],\n",
    "), axis=1).plot(secondary_y=['Heating oil', 'Gasoline'], ax=ax);\n",
    "ax.set_title('Futures prices (generic 1st)');"
   ]
  },
  {
   "cell_type": "markdown",
   "id": "47068957",
   "metadata": {
    "papermill": {
     "duration": 0.016339,
     "end_time": "2022-06-30T06:11:20.015976",
     "exception": false,
     "start_time": "2022-06-30T06:11:19.999637",
     "status": "completed"
    },
    "tags": []
   },
   "source": [
    "In fact, in the long-run $H_0$ cannot be rejected for all contracts based on both BIC and AIC."
   ]
  },
  {
   "cell_type": "code",
   "execution_count": 10,
   "id": "47dcef74",
   "metadata": {
    "execution": {
     "iopub.execute_input": "2022-06-30T06:11:20.050682Z",
     "iopub.status.busy": "2022-06-30T06:11:20.050344Z",
     "iopub.status.idle": "2022-06-30T06:11:25.016709Z",
     "shell.execute_reply": "2022-06-30T06:11:25.015762Z"
    },
    "papermill": {
     "duration": 4.998076,
     "end_time": "2022-06-30T06:11:25.030308",
     "exception": false,
     "start_time": "2022-06-30T06:11:20.032232",
     "status": "completed"
    },
    "tags": []
   },
   "outputs": [
    {
     "data": {
      "text/html": [
       "<div>\n",
       "<style scoped>\n",
       "    .dataframe tbody tr th:only-of-type {\n",
       "        vertical-align: middle;\n",
       "    }\n",
       "\n",
       "    .dataframe tbody tr th {\n",
       "        vertical-align: top;\n",
       "    }\n",
       "\n",
       "    .dataframe thead th {\n",
       "        text-align: right;\n",
       "    }\n",
       "</style>\n",
       "<table border=\"1\" class=\"dataframe\">\n",
       "  <thead>\n",
       "    <tr style=\"text-align: right;\">\n",
       "      <th></th>\n",
       "      <th>adf</th>\n",
       "      <th>p_value</th>\n",
       "      <th>used_lag</th>\n",
       "      <th>n_obs</th>\n",
       "      <th>ci_0.01</th>\n",
       "      <th>ci_0.05</th>\n",
       "      <th>ci_0.1</th>\n",
       "      <th>ic_best</th>\n",
       "    </tr>\n",
       "  </thead>\n",
       "  <tbody>\n",
       "    <tr>\n",
       "      <th>Crude oil</th>\n",
       "      <td>-1.271142</td>\n",
       "      <td>0.642269</td>\n",
       "      <td>1.0</td>\n",
       "      <td>9856.0</td>\n",
       "      <td>-3.431014</td>\n",
       "      <td>-2.861833</td>\n",
       "      <td>-2.566926</td>\n",
       "      <td>30701.299364</td>\n",
       "    </tr>\n",
       "    <tr>\n",
       "      <th>Heating oil</th>\n",
       "      <td>-0.518743</td>\n",
       "      <td>0.888307</td>\n",
       "      <td>6.0</td>\n",
       "      <td>9852.0</td>\n",
       "      <td>-3.431014</td>\n",
       "      <td>-2.861833</td>\n",
       "      <td>-2.566926</td>\n",
       "      <td>-37888.942564</td>\n",
       "    </tr>\n",
       "    <tr>\n",
       "      <th>Gasoline</th>\n",
       "      <td>-1.105130</td>\n",
       "      <td>0.713022</td>\n",
       "      <td>0.0</td>\n",
       "      <td>9438.0</td>\n",
       "      <td>-3.431043</td>\n",
       "      <td>-2.861846</td>\n",
       "      <td>-2.566933</td>\n",
       "      <td>-36089.920403</td>\n",
       "    </tr>\n",
       "  </tbody>\n",
       "</table>\n",
       "</div>"
      ],
      "text/plain": [
       "                  adf   p_value  used_lag   n_obs   ci_0.01   ci_0.05  \\\n",
       "Crude oil   -1.271142  0.642269       1.0  9856.0 -3.431014 -2.861833   \n",
       "Heating oil -0.518743  0.888307       6.0  9852.0 -3.431014 -2.861833   \n",
       "Gasoline    -1.105130  0.713022       0.0  9438.0 -3.431043 -2.861846   \n",
       "\n",
       "               ci_0.1       ic_best  \n",
       "Crude oil   -2.566926  30701.299364  \n",
       "Heating oil -2.566926 -37888.942564  \n",
       "Gasoline    -2.566933 -36089.920403  "
      ]
     },
     "execution_count": 10,
     "metadata": {},
     "output_type": "execute_result"
    }
   ],
   "source": [
    "pd.concat((\n",
    "    adf(cl_price['1983-04':], autolag='BIC').to_frame().T,\n",
    "    adf(ho_price['1983-04':], autolag='BIC').to_frame().T,\n",
    "    adf(xb_price['1984-12':], autolag='BIC').to_frame().T,\n",
    "))"
   ]
  },
  {
   "cell_type": "code",
   "execution_count": 11,
   "id": "6cda4738",
   "metadata": {
    "execution": {
     "iopub.execute_input": "2022-06-30T06:11:25.092687Z",
     "iopub.status.busy": "2022-06-30T06:11:25.092097Z",
     "iopub.status.idle": "2022-06-30T06:11:29.211650Z",
     "shell.execute_reply": "2022-06-30T06:11:29.210519Z"
    },
    "papermill": {
     "duration": 4.140969,
     "end_time": "2022-06-30T06:11:29.214497",
     "exception": false,
     "start_time": "2022-06-30T06:11:25.073528",
     "status": "completed"
    },
    "tags": []
   },
   "outputs": [
    {
     "data": {
      "text/html": [
       "<div>\n",
       "<style scoped>\n",
       "    .dataframe tbody tr th:only-of-type {\n",
       "        vertical-align: middle;\n",
       "    }\n",
       "\n",
       "    .dataframe tbody tr th {\n",
       "        vertical-align: top;\n",
       "    }\n",
       "\n",
       "    .dataframe thead th {\n",
       "        text-align: right;\n",
       "    }\n",
       "</style>\n",
       "<table border=\"1\" class=\"dataframe\">\n",
       "  <thead>\n",
       "    <tr style=\"text-align: right;\">\n",
       "      <th></th>\n",
       "      <th>adf</th>\n",
       "      <th>p_value</th>\n",
       "      <th>used_lag</th>\n",
       "      <th>n_obs</th>\n",
       "      <th>ci_0.01</th>\n",
       "      <th>ci_0.05</th>\n",
       "      <th>ci_0.1</th>\n",
       "      <th>ic_best</th>\n",
       "    </tr>\n",
       "  </thead>\n",
       "  <tbody>\n",
       "    <tr>\n",
       "      <th>Crude oil</th>\n",
       "      <td>-1.837810</td>\n",
       "      <td>0.361858</td>\n",
       "      <td>36.0</td>\n",
       "      <td>9821.0</td>\n",
       "      <td>-3.431016</td>\n",
       "      <td>-2.861834</td>\n",
       "      <td>-2.566927</td>\n",
       "      <td>30612.747195</td>\n",
       "    </tr>\n",
       "    <tr>\n",
       "      <th>Heating oil</th>\n",
       "      <td>-1.082631</td>\n",
       "      <td>0.721948</td>\n",
       "      <td>35.0</td>\n",
       "      <td>9823.0</td>\n",
       "      <td>-3.431016</td>\n",
       "      <td>-2.861834</td>\n",
       "      <td>-2.566927</td>\n",
       "      <td>-38141.880032</td>\n",
       "    </tr>\n",
       "    <tr>\n",
       "      <th>Gasoline</th>\n",
       "      <td>-1.590833</td>\n",
       "      <td>0.488197</td>\n",
       "      <td>20.0</td>\n",
       "      <td>9418.0</td>\n",
       "      <td>-3.431045</td>\n",
       "      <td>-2.861847</td>\n",
       "      <td>-2.566933</td>\n",
       "      <td>-36126.525150</td>\n",
       "    </tr>\n",
       "  </tbody>\n",
       "</table>\n",
       "</div>"
      ],
      "text/plain": [
       "                  adf   p_value  used_lag   n_obs   ci_0.01   ci_0.05  \\\n",
       "Crude oil   -1.837810  0.361858      36.0  9821.0 -3.431016 -2.861834   \n",
       "Heating oil -1.082631  0.721948      35.0  9823.0 -3.431016 -2.861834   \n",
       "Gasoline    -1.590833  0.488197      20.0  9418.0 -3.431045 -2.861847   \n",
       "\n",
       "               ci_0.1       ic_best  \n",
       "Crude oil   -2.566927  30612.747195  \n",
       "Heating oil -2.566927 -38141.880032  \n",
       "Gasoline    -2.566933 -36126.525150  "
      ]
     },
     "execution_count": 11,
     "metadata": {},
     "output_type": "execute_result"
    }
   ],
   "source": [
    "pd.concat((\n",
    "    adf(cl_price['1983-04':], autolag='AIC').to_frame().T,\n",
    "    adf(ho_price['1983-04':], autolag='AIC').to_frame().T,\n",
    "    adf(xb_price['1984-12':], autolag='AIC').to_frame().T,\n",
    "))"
   ]
  },
  {
   "cell_type": "markdown",
   "id": "eda29bdf",
   "metadata": {
    "papermill": {
     "duration": 0.021252,
     "end_time": "2022-06-30T06:11:29.262911",
     "exception": false,
     "start_time": "2022-06-30T06:11:29.241659",
     "status": "completed"
    },
    "tags": []
   },
   "source": [
    "Test for two unit roots shows the $H_0$ is rejected for all assets so it would be safe to assume prices are all $I(1)$ processes."
   ]
  },
  {
   "cell_type": "code",
   "execution_count": 12,
   "id": "5cc64e78",
   "metadata": {
    "execution": {
     "iopub.execute_input": "2022-06-30T06:11:29.307920Z",
     "iopub.status.busy": "2022-06-30T06:11:29.307649Z",
     "iopub.status.idle": "2022-06-30T06:11:30.062702Z",
     "shell.execute_reply": "2022-06-30T06:11:30.061842Z"
    },
    "papermill": {
     "duration": 0.781161,
     "end_time": "2022-06-30T06:11:30.065558",
     "exception": false,
     "start_time": "2022-06-30T06:11:29.284397",
     "status": "completed"
    },
    "tags": []
   },
   "outputs": [
    {
     "data": {
      "text/html": [
       "<div>\n",
       "<style scoped>\n",
       "    .dataframe tbody tr th:only-of-type {\n",
       "        vertical-align: middle;\n",
       "    }\n",
       "\n",
       "    .dataframe tbody tr th {\n",
       "        vertical-align: top;\n",
       "    }\n",
       "\n",
       "    .dataframe thead th {\n",
       "        text-align: right;\n",
       "    }\n",
       "</style>\n",
       "<table border=\"1\" class=\"dataframe\">\n",
       "  <thead>\n",
       "    <tr style=\"text-align: right;\">\n",
       "      <th></th>\n",
       "      <th>adf</th>\n",
       "      <th>p_value</th>\n",
       "      <th>used_lag</th>\n",
       "      <th>n_obs</th>\n",
       "      <th>ci_0.01</th>\n",
       "      <th>ci_0.05</th>\n",
       "      <th>ci_0.1</th>\n",
       "      <th>ic_best</th>\n",
       "    </tr>\n",
       "  </thead>\n",
       "  <tbody>\n",
       "    <tr>\n",
       "      <th>Crude oil</th>\n",
       "      <td>-22.609167</td>\n",
       "      <td>0.0</td>\n",
       "      <td>7.0</td>\n",
       "      <td>2924.0</td>\n",
       "      <td>-3.432588</td>\n",
       "      <td>-2.862529</td>\n",
       "      <td>-2.567296</td>\n",
       "      <td>4191.382386</td>\n",
       "    </tr>\n",
       "    <tr>\n",
       "      <th>Heating oil</th>\n",
       "      <td>-23.732562</td>\n",
       "      <td>0.0</td>\n",
       "      <td>7.0</td>\n",
       "      <td>2924.0</td>\n",
       "      <td>-3.432588</td>\n",
       "      <td>-2.862529</td>\n",
       "      <td>-2.567296</td>\n",
       "      <td>-15759.438574</td>\n",
       "    </tr>\n",
       "    <tr>\n",
       "      <th>Gasoline</th>\n",
       "      <td>-31.046797</td>\n",
       "      <td>0.0</td>\n",
       "      <td>2.0</td>\n",
       "      <td>2510.0</td>\n",
       "      <td>-3.432958</td>\n",
       "      <td>-2.862692</td>\n",
       "      <td>-2.567383</td>\n",
       "      <td>-13998.959272</td>\n",
       "    </tr>\n",
       "  </tbody>\n",
       "</table>\n",
       "</div>"
      ],
      "text/plain": [
       "                   adf  p_value  used_lag   n_obs   ci_0.01   ci_0.05  \\\n",
       "Crude oil   -22.609167      0.0       7.0  2924.0 -3.432588 -2.862529   \n",
       "Heating oil -23.732562      0.0       7.0  2924.0 -3.432588 -2.862529   \n",
       "Gasoline    -31.046797      0.0       2.0  2510.0 -3.432958 -2.862692   \n",
       "\n",
       "               ci_0.1       ic_best  \n",
       "Crude oil   -2.567296   4191.382386  \n",
       "Heating oil -2.567296 -15759.438574  \n",
       "Gasoline    -2.567383 -13998.959272  "
      ]
     },
     "execution_count": 12,
     "metadata": {},
     "output_type": "execute_result"
    }
   ],
   "source": [
    "pd.concat((\n",
    "    adf(cl_price['1983-04':'1994-11'].diff().dropna(), autolag='BIC').to_frame().T,\n",
    "    adf(ho_price['1983-04':'1994-11'].diff().dropna(), autolag='BIC').to_frame().T,\n",
    "    adf(xb_price['1984-12':'1994-11'].diff().dropna(), autolag='BIC').to_frame().T,\n",
    "))"
   ]
  },
  {
   "cell_type": "markdown",
   "id": "5443698a",
   "metadata": {
    "papermill": {
     "duration": 0.026468,
     "end_time": "2022-06-30T06:11:30.120639",
     "exception": false,
     "start_time": "2022-06-30T06:11:30.094171",
     "status": "completed"
    },
    "tags": []
   },
   "source": [
    "## Engle-Granger test\n",
    "\n",
    "Next, let's check if the crack spread is cointegrated. The cointegration vector is estimated by OLS and the stationarity of the residual is tested with the ADF test.\n",
    "The test is done by the `coint` function in `statsmodels`. (cf. https://www.statsmodels.org/dev/generated/statsmodels.tsa.stattools.coint.html)"
   ]
  },
  {
   "cell_type": "code",
   "execution_count": 13,
   "id": "15663029",
   "metadata": {
    "execution": {
     "iopub.execute_input": "2022-06-30T06:11:30.157344Z",
     "iopub.status.busy": "2022-06-30T06:11:30.156921Z",
     "iopub.status.idle": "2022-06-30T06:11:30.173059Z",
     "shell.execute_reply": "2022-06-30T06:11:30.172396Z"
    },
    "papermill": {
     "duration": 0.037857,
     "end_time": "2022-06-30T06:11:30.175007",
     "exception": false,
     "start_time": "2022-06-30T06:11:30.137150",
     "status": "completed"
    },
    "tags": []
   },
   "outputs": [],
   "source": [
    "price_concat = pd.concat((\n",
    "    cl_price,\n",
    "    ho_price,\n",
    "    xb_price,\n",
    "), axis=1).fillna(method='pad').dropna()"
   ]
  },
  {
   "cell_type": "code",
   "execution_count": 14,
   "id": "cf731a5e",
   "metadata": {
    "execution": {
     "iopub.execute_input": "2022-06-30T06:11:30.214389Z",
     "iopub.status.busy": "2022-06-30T06:11:30.214126Z",
     "iopub.status.idle": "2022-06-30T06:11:30.220877Z",
     "shell.execute_reply": "2022-06-30T06:11:30.220174Z"
    },
    "papermill": {
     "duration": 0.028915,
     "end_time": "2022-06-30T06:11:30.223023",
     "exception": false,
     "start_time": "2022-06-30T06:11:30.194108",
     "status": "completed"
    },
    "tags": []
   },
   "outputs": [],
   "source": [
    "def coint(y: pd.Series, x: pd.DataFrame) -> pd.Series:\n",
    "    \"\"\" Run the cointegration test and return a cleaned result \"\"\"\n",
    "    result = sm.tsa.stattools.coint(y, x)\n",
    "    cleaned = {\n",
    "        't_value': result[0],\n",
    "        'p_value': result[1],\n",
    "        'ci_0.01': result[2][0],\n",
    "        'ci_0.05': result[2][1],\n",
    "        'ci_0.1': result[2][2],\n",
    "    }\n",
    "    return pd.Series(cleaned)"
   ]
  },
  {
   "cell_type": "code",
   "execution_count": 15,
   "id": "4299196b",
   "metadata": {
    "execution": {
     "iopub.execute_input": "2022-06-30T06:11:30.263024Z",
     "iopub.status.busy": "2022-06-30T06:11:30.262681Z",
     "iopub.status.idle": "2022-06-30T06:11:31.494543Z",
     "shell.execute_reply": "2022-06-30T06:11:31.493667Z"
    },
    "papermill": {
     "duration": 1.255491,
     "end_time": "2022-06-30T06:11:31.496953",
     "exception": false,
     "start_time": "2022-06-30T06:11:30.241462",
     "status": "completed"
    },
    "tags": []
   },
   "outputs": [],
   "source": [
    "coint_result = pd.concat((\n",
    "    coint(\n",
    "        price_concat.loc[:'1994-11', 'Crude oil'],\n",
    "        price_concat.loc[:'1994-11', ['Heating oil', 'Gasoline']]\n",
    "    ).to_frame('CL vs HO + XB').T,\n",
    "    coint(\n",
    "        price_concat.loc[:'1994-11', 'Crude oil'],\n",
    "        price_concat.loc[:'1994-11', ['Gasoline']]\n",
    "    ).to_frame('CL vs XB').T,\n",
    "    coint(\n",
    "        price_concat.loc[:'1994-11', 'Crude oil'],\n",
    "        price_concat.loc[:'1994-11', ['Heating oil']]\n",
    "    ).to_frame('CL vs HO').T,\n",
    "))"
   ]
  },
  {
   "cell_type": "markdown",
   "id": "ea294ded",
   "metadata": {
    "papermill": {
     "duration": 0.044307,
     "end_time": "2022-06-30T06:11:31.568553",
     "exception": false,
     "start_time": "2022-06-30T06:11:31.524246",
     "status": "completed"
    },
    "tags": []
   },
   "source": [
    "The $H_0$ is that there is no cointegration. As per GP1999, all three crack spreads are cointegrated. "
   ]
  },
  {
   "cell_type": "code",
   "execution_count": 16,
   "id": "1824345d",
   "metadata": {
    "execution": {
     "iopub.execute_input": "2022-06-30T06:11:31.619999Z",
     "iopub.status.busy": "2022-06-30T06:11:31.619549Z",
     "iopub.status.idle": "2022-06-30T06:11:31.630373Z",
     "shell.execute_reply": "2022-06-30T06:11:31.629754Z"
    },
    "papermill": {
     "duration": 0.039435,
     "end_time": "2022-06-30T06:11:31.633001",
     "exception": false,
     "start_time": "2022-06-30T06:11:31.593566",
     "status": "completed"
    },
    "tags": []
   },
   "outputs": [
    {
     "data": {
      "text/html": [
       "<div>\n",
       "<style scoped>\n",
       "    .dataframe tbody tr th:only-of-type {\n",
       "        vertical-align: middle;\n",
       "    }\n",
       "\n",
       "    .dataframe tbody tr th {\n",
       "        vertical-align: top;\n",
       "    }\n",
       "\n",
       "    .dataframe thead th {\n",
       "        text-align: right;\n",
       "    }\n",
       "</style>\n",
       "<table border=\"1\" class=\"dataframe\">\n",
       "  <thead>\n",
       "    <tr style=\"text-align: right;\">\n",
       "      <th></th>\n",
       "      <th>t_value</th>\n",
       "      <th>p_value</th>\n",
       "      <th>ci_0.01</th>\n",
       "      <th>ci_0.05</th>\n",
       "      <th>ci_0.1</th>\n",
       "    </tr>\n",
       "  </thead>\n",
       "  <tbody>\n",
       "    <tr>\n",
       "      <th>CL vs HO + XB</th>\n",
       "      <td>-6.110715</td>\n",
       "      <td>0.000005</td>\n",
       "      <td>-4.299485</td>\n",
       "      <td>-3.744067</td>\n",
       "      <td>-3.454651</td>\n",
       "    </tr>\n",
       "    <tr>\n",
       "      <th>CL vs XB</th>\n",
       "      <td>-5.762029</td>\n",
       "      <td>0.000005</td>\n",
       "      <td>-3.900800</td>\n",
       "      <td>-3.338561</td>\n",
       "      <td>-3.046137</td>\n",
       "    </tr>\n",
       "    <tr>\n",
       "      <th>CL vs HO</th>\n",
       "      <td>-5.708354</td>\n",
       "      <td>0.000007</td>\n",
       "      <td>-3.900800</td>\n",
       "      <td>-3.338561</td>\n",
       "      <td>-3.046137</td>\n",
       "    </tr>\n",
       "  </tbody>\n",
       "</table>\n",
       "</div>"
      ],
      "text/plain": [
       "                t_value   p_value   ci_0.01   ci_0.05    ci_0.1\n",
       "CL vs HO + XB -6.110715  0.000005 -4.299485 -3.744067 -3.454651\n",
       "CL vs XB      -5.762029  0.000005 -3.900800 -3.338561 -3.046137\n",
       "CL vs HO      -5.708354  0.000007 -3.900800 -3.338561 -3.046137"
      ]
     },
     "execution_count": 16,
     "metadata": {},
     "output_type": "execute_result"
    }
   ],
   "source": [
    "coint_result"
   ]
  },
  {
   "cell_type": "markdown",
   "id": "2f816c06",
   "metadata": {
    "papermill": {
     "duration": 0.024982,
     "end_time": "2022-06-30T06:11:31.683945",
     "exception": false,
     "start_time": "2022-06-30T06:11:31.658963",
     "status": "completed"
    },
    "tags": []
   },
   "source": [
    "This seems to hold with the full sample."
   ]
  },
  {
   "cell_type": "code",
   "execution_count": 17,
   "id": "467771dc",
   "metadata": {
    "execution": {
     "iopub.execute_input": "2022-06-30T06:11:31.735843Z",
     "iopub.status.busy": "2022-06-30T06:11:31.735637Z",
     "iopub.status.idle": "2022-06-30T06:11:39.445401Z",
     "shell.execute_reply": "2022-06-30T06:11:39.444609Z"
    },
    "papermill": {
     "duration": 7.743709,
     "end_time": "2022-06-30T06:11:39.453057",
     "exception": false,
     "start_time": "2022-06-30T06:11:31.709348",
     "status": "completed"
    },
    "tags": []
   },
   "outputs": [
    {
     "data": {
      "text/html": [
       "<div>\n",
       "<style scoped>\n",
       "    .dataframe tbody tr th:only-of-type {\n",
       "        vertical-align: middle;\n",
       "    }\n",
       "\n",
       "    .dataframe tbody tr th {\n",
       "        vertical-align: top;\n",
       "    }\n",
       "\n",
       "    .dataframe thead th {\n",
       "        text-align: right;\n",
       "    }\n",
       "</style>\n",
       "<table border=\"1\" class=\"dataframe\">\n",
       "  <thead>\n",
       "    <tr style=\"text-align: right;\">\n",
       "      <th></th>\n",
       "      <th>t_value</th>\n",
       "      <th>p_value</th>\n",
       "      <th>ci_0.01</th>\n",
       "      <th>ci_0.05</th>\n",
       "      <th>ci_0.1</th>\n",
       "    </tr>\n",
       "  </thead>\n",
       "  <tbody>\n",
       "    <tr>\n",
       "      <th>CL vs HO + XB</th>\n",
       "      <td>-4.039371</td>\n",
       "      <td>2.196622e-02</td>\n",
       "      <td>-4.295269</td>\n",
       "      <td>-3.741567</td>\n",
       "      <td>-3.452838</td>\n",
       "    </tr>\n",
       "    <tr>\n",
       "      <th>CL vs XB</th>\n",
       "      <td>-6.298257</td>\n",
       "      <td>3.592159e-07</td>\n",
       "      <td>-3.897600</td>\n",
       "      <td>-3.336777</td>\n",
       "      <td>-3.044899</td>\n",
       "    </tr>\n",
       "    <tr>\n",
       "      <th>CL vs HO</th>\n",
       "      <td>-4.241558</td>\n",
       "      <td>3.152681e-03</td>\n",
       "      <td>-3.897600</td>\n",
       "      <td>-3.336777</td>\n",
       "      <td>-3.044899</td>\n",
       "    </tr>\n",
       "  </tbody>\n",
       "</table>\n",
       "</div>"
      ],
      "text/plain": [
       "                t_value       p_value   ci_0.01   ci_0.05    ci_0.1\n",
       "CL vs HO + XB -4.039371  2.196622e-02 -4.295269 -3.741567 -3.452838\n",
       "CL vs XB      -6.298257  3.592159e-07 -3.897600 -3.336777 -3.044899\n",
       "CL vs HO      -4.241558  3.152681e-03 -3.897600 -3.336777 -3.044899"
      ]
     },
     "execution_count": 17,
     "metadata": {},
     "output_type": "execute_result"
    }
   ],
   "source": [
    "pd.concat((\n",
    "    coint(\n",
    "        price_concat.loc[:, 'Crude oil'],\n",
    "        price_concat.loc[:, ['Heating oil', 'Gasoline']]\n",
    "    ).to_frame('CL vs HO + XB').T,\n",
    "    coint(\n",
    "        price_concat.loc[:, 'Crude oil'],\n",
    "        price_concat.loc[:, ['Gasoline']]\n",
    "    ).to_frame('CL vs XB').T,\n",
    "    coint(\n",
    "        price_concat.loc[:, 'Crude oil'],\n",
    "        price_concat.loc[:, ['Heating oil']]\n",
    "    ).to_frame('CL vs HO').T,\n",
    "))"
   ]
  },
  {
   "cell_type": "markdown",
   "id": "9107b072",
   "metadata": {
    "papermill": {
     "duration": 0.025187,
     "end_time": "2022-06-30T06:11:39.504238",
     "exception": false,
     "start_time": "2022-06-30T06:11:39.479051",
     "status": "completed"
    },
    "tags": []
   },
   "source": [
    "However the confidence level is somewhat weakend with recent data although they are at least still cointegrated at the 5% level."
   ]
  },
  {
   "cell_type": "code",
   "execution_count": 18,
   "id": "3898183b",
   "metadata": {
    "execution": {
     "iopub.execute_input": "2022-06-30T06:11:39.556365Z",
     "iopub.status.busy": "2022-06-30T06:11:39.555940Z",
     "iopub.status.idle": "2022-06-30T06:11:41.858984Z",
     "shell.execute_reply": "2022-06-30T06:11:41.858323Z"
    },
    "papermill": {
     "duration": 2.33175,
     "end_time": "2022-06-30T06:11:41.861206",
     "exception": false,
     "start_time": "2022-06-30T06:11:39.529456",
     "status": "completed"
    },
    "tags": []
   },
   "outputs": [
    {
     "data": {
      "text/html": [
       "<div>\n",
       "<style scoped>\n",
       "    .dataframe tbody tr th:only-of-type {\n",
       "        vertical-align: middle;\n",
       "    }\n",
       "\n",
       "    .dataframe tbody tr th {\n",
       "        vertical-align: top;\n",
       "    }\n",
       "\n",
       "    .dataframe thead th {\n",
       "        text-align: right;\n",
       "    }\n",
       "</style>\n",
       "<table border=\"1\" class=\"dataframe\">\n",
       "  <thead>\n",
       "    <tr style=\"text-align: right;\">\n",
       "      <th></th>\n",
       "      <th>t_value</th>\n",
       "      <th>p_value</th>\n",
       "      <th>ci_0.01</th>\n",
       "      <th>ci_0.05</th>\n",
       "      <th>ci_0.1</th>\n",
       "    </tr>\n",
       "  </thead>\n",
       "  <tbody>\n",
       "    <tr>\n",
       "      <th>CL vs HO + XB</th>\n",
       "      <td>-3.009948</td>\n",
       "      <td>0.237555</td>\n",
       "      <td>-4.298332</td>\n",
       "      <td>-3.743383</td>\n",
       "      <td>-3.454156</td>\n",
       "    </tr>\n",
       "    <tr>\n",
       "      <th>CL vs XB</th>\n",
       "      <td>-4.120601</td>\n",
       "      <td>0.004797</td>\n",
       "      <td>-3.899925</td>\n",
       "      <td>-3.338073</td>\n",
       "      <td>-3.045798</td>\n",
       "    </tr>\n",
       "    <tr>\n",
       "      <th>CL vs HO</th>\n",
       "      <td>-2.987526</td>\n",
       "      <td>0.113200</td>\n",
       "      <td>-3.899925</td>\n",
       "      <td>-3.338073</td>\n",
       "      <td>-3.045798</td>\n",
       "    </tr>\n",
       "  </tbody>\n",
       "</table>\n",
       "</div>"
      ],
      "text/plain": [
       "                t_value   p_value   ci_0.01   ci_0.05    ci_0.1\n",
       "CL vs HO + XB -3.009948  0.237555 -4.298332 -3.743383 -3.454156\n",
       "CL vs XB      -4.120601  0.004797 -3.899925 -3.338073 -3.045798\n",
       "CL vs HO      -2.987526  0.113200 -3.899925 -3.338073 -3.045798"
      ]
     },
     "execution_count": 18,
     "metadata": {},
     "output_type": "execute_result"
    }
   ],
   "source": [
    "pd.concat((\n",
    "    coint(\n",
    "        price_concat.loc['2010':, 'Crude oil'],\n",
    "        price_concat.loc['2010':, ['Heating oil', 'Gasoline']]\n",
    "    ).to_frame('CL vs HO + XB').T,\n",
    "    coint(\n",
    "        price_concat.loc['2010':, 'Crude oil'],\n",
    "        price_concat.loc['2010':, ['Gasoline']]\n",
    "    ).to_frame('CL vs XB').T,\n",
    "    coint(\n",
    "        price_concat.loc['2010':, 'Crude oil'],\n",
    "        price_concat.loc['2010':, ['Heating oil']]\n",
    "    ).to_frame('CL vs HO').T,\n",
    "))"
   ]
  },
  {
   "cell_type": "markdown",
   "id": "f22325d0",
   "metadata": {
    "papermill": {
     "duration": 0.020039,
     "end_time": "2022-06-30T06:11:41.924636",
     "exception": false,
     "start_time": "2022-06-30T06:11:41.904597",
     "status": "completed"
    },
    "tags": []
   },
   "source": [
    "## Crack spreads\n",
    "\n",
    "Additionally, GP1999 tests the stationarity of the popularly traded crack spread -- 3:2:1 crack spread (CS), 1:1:0 gasoline crack spread (GCS) and 1:0:1 heating oil crack spread (HOCS).\n",
    "\n",
    "Note that the crude oil contract is priced in barrels while the other two are priced in gallon, and there are 42 gallons per 1 barrel. Some unit conversions are required to calculate such spreads."
   ]
  },
  {
   "cell_type": "code",
   "execution_count": 19,
   "id": "015bb3e9",
   "metadata": {
    "execution": {
     "iopub.execute_input": "2022-06-30T06:11:41.960341Z",
     "iopub.status.busy": "2022-06-30T06:11:41.960062Z",
     "iopub.status.idle": "2022-06-30T06:11:41.967893Z",
     "shell.execute_reply": "2022-06-30T06:11:41.967100Z"
    },
    "papermill": {
     "duration": 0.028332,
     "end_time": "2022-06-30T06:11:41.969932",
     "exception": false,
     "start_time": "2022-06-30T06:11:41.941600",
     "status": "completed"
    },
    "tags": []
   },
   "outputs": [],
   "source": [
    "cs = (price_concat['Heating oil'].mul(42).mul(2 / 3) + \n",
    "      price_concat['Gasoline'].mul(42).mul(1 / 3) - \n",
    "      price_concat['Crude oil'])\n",
    "gcs = (price_concat['Gasoline'].mul(42) - \n",
    "       price_concat['Crude oil'])\n",
    "hocs = (price_concat['Heating oil'].mul(42) - \n",
    "        price_concat['Crude oil'])"
   ]
  },
  {
   "cell_type": "markdown",
   "id": "6608463f",
   "metadata": {
    "papermill": {
     "duration": 0.024705,
     "end_time": "2022-06-30T06:11:42.015227",
     "exception": false,
     "start_time": "2022-06-30T06:11:41.990522",
     "status": "completed"
    },
    "tags": []
   },
   "source": [
    "As can be seen visually below, these spreads appear stationary until around 2000 after which they started to drift away from a certain level. This could be related to the financialisation of commodities. There are some evidence suggesting that index investments and speculative trades influence the commodity markets. (cf https://www.ecb.europa.eu/pub/financial-stability/fsr/focus/2011/pdf/ecb~6fdfdfce1c.fsrbox201112_04.pdf)"
   ]
  },
  {
   "cell_type": "code",
   "execution_count": 20,
   "id": "0b27db24",
   "metadata": {
    "execution": {
     "iopub.execute_input": "2022-06-30T06:11:42.055538Z",
     "iopub.status.busy": "2022-06-30T06:11:42.055203Z",
     "iopub.status.idle": "2022-06-30T06:11:42.759684Z",
     "shell.execute_reply": "2022-06-30T06:11:42.759083Z"
    },
    "papermill": {
     "duration": 0.724806,
     "end_time": "2022-06-30T06:11:42.761265",
     "exception": false,
     "start_time": "2022-06-30T06:11:42.036459",
     "status": "completed"
    },
    "tags": []
   },
   "outputs": [
    {
     "data": {
      "image/png": "[encoded data removed]",
      "text/plain": [
       "<Figure size 864x288 with 3 Axes>"
      ]
     },
     "metadata": {
      "needs_background": "light"
     },
     "output_type": "display_data"
    }
   ],
   "source": [
    "fig, ax = plt.subplots(1, 3, figsize=(12, 4), sharey=True)\n",
    "cs.plot(ax=ax[0])\n",
    "gcs.plot(ax=ax[1])\n",
    "hocs.plot(ax=ax[2])\n",
    "\n",
    "ax[0].set_title('3:2:1 crack spread')\n",
    "ax[1].set_title('1:1:0 gasoline crack spread')\n",
    "ax[2].set_title('1:0:1 heating oil crack spread')\n",
    "ax[0].set_ylabel('Crack spread ($)')\n",
    "\n",
    "fig.tight_layout();"
   ]
  },
  {
   "cell_type": "markdown",
   "id": "ddba6b40",
   "metadata": {
    "papermill": {
     "duration": 0.017893,
     "end_time": "2022-06-30T06:11:42.797279",
     "exception": false,
     "start_time": "2022-06-30T06:11:42.779386",
     "status": "completed"
    },
    "tags": []
   },
   "source": [
    "More formally, the ADF tests below show that they were stationary until Nov-1994."
   ]
  },
  {
   "cell_type": "code",
   "execution_count": 21,
   "id": "bd58dd0b",
   "metadata": {
    "execution": {
     "iopub.execute_input": "2022-06-30T06:11:42.834692Z",
     "iopub.status.busy": "2022-06-30T06:11:42.834495Z",
     "iopub.status.idle": "2022-06-30T06:11:43.560459Z",
     "shell.execute_reply": "2022-06-30T06:11:43.559643Z"
    },
    "papermill": {
     "duration": 0.747562,
     "end_time": "2022-06-30T06:11:43.563119",
     "exception": false,
     "start_time": "2022-06-30T06:11:42.815557",
     "status": "completed"
    },
    "tags": []
   },
   "outputs": [
    {
     "data": {
      "text/html": [
       "<div>\n",
       "<style scoped>\n",
       "    .dataframe tbody tr th:only-of-type {\n",
       "        vertical-align: middle;\n",
       "    }\n",
       "\n",
       "    .dataframe tbody tr th {\n",
       "        vertical-align: top;\n",
       "    }\n",
       "\n",
       "    .dataframe thead th {\n",
       "        text-align: right;\n",
       "    }\n",
       "</style>\n",
       "<table border=\"1\" class=\"dataframe\">\n",
       "  <thead>\n",
       "    <tr style=\"text-align: right;\">\n",
       "      <th></th>\n",
       "      <th>adf</th>\n",
       "      <th>p_value</th>\n",
       "      <th>used_lag</th>\n",
       "      <th>n_obs</th>\n",
       "      <th>ci_0.01</th>\n",
       "      <th>ci_0.05</th>\n",
       "      <th>ci_0.1</th>\n",
       "      <th>ic_best</th>\n",
       "    </tr>\n",
       "  </thead>\n",
       "  <tbody>\n",
       "    <tr>\n",
       "      <th>0</th>\n",
       "      <td>-7.926287</td>\n",
       "      <td>3.611421e-12</td>\n",
       "      <td>0.0</td>\n",
       "      <td>2515.0</td>\n",
       "      <td>-3.432953</td>\n",
       "      <td>-2.86269</td>\n",
       "      <td>-2.567382</td>\n",
       "      <td>1757.165999</td>\n",
       "    </tr>\n",
       "    <tr>\n",
       "      <th>0</th>\n",
       "      <td>-5.640046</td>\n",
       "      <td>1.041538e-06</td>\n",
       "      <td>1.0</td>\n",
       "      <td>2514.0</td>\n",
       "      <td>-3.432954</td>\n",
       "      <td>-2.86269</td>\n",
       "      <td>-2.567382</td>\n",
       "      <td>2505.871051</td>\n",
       "    </tr>\n",
       "    <tr>\n",
       "      <th>0</th>\n",
       "      <td>-6.999952</td>\n",
       "      <td>7.365777e-10</td>\n",
       "      <td>0.0</td>\n",
       "      <td>2515.0</td>\n",
       "      <td>-3.432953</td>\n",
       "      <td>-2.86269</td>\n",
       "      <td>-2.567382</td>\n",
       "      <td>2815.457971</td>\n",
       "    </tr>\n",
       "  </tbody>\n",
       "</table>\n",
       "</div>"
      ],
      "text/plain": [
       "        adf       p_value  used_lag   n_obs   ci_0.01  ci_0.05    ci_0.1  \\\n",
       "0 -7.926287  3.611421e-12       0.0  2515.0 -3.432953 -2.86269 -2.567382   \n",
       "0 -5.640046  1.041538e-06       1.0  2514.0 -3.432954 -2.86269 -2.567382   \n",
       "0 -6.999952  7.365777e-10       0.0  2515.0 -3.432953 -2.86269 -2.567382   \n",
       "\n",
       "       ic_best  \n",
       "0  1757.165999  \n",
       "0  2505.871051  \n",
       "0  2815.457971  "
      ]
     },
     "execution_count": 21,
     "metadata": {},
     "output_type": "execute_result"
    }
   ],
   "source": [
    "pd.concat((\n",
    "    adf(cs[:'1994-11'], autolag='BIC').to_frame().T,\n",
    "    adf(gcs[:'1994-11'], autolag='BIC').to_frame().T,\n",
    "    adf(hocs[:'1994-11'], autolag='BIC').to_frame().T,\n",
    "))"
   ]
  },
  {
   "cell_type": "markdown",
   "id": "6e2c8692",
   "metadata": {
    "papermill": {
     "duration": 0.025352,
     "end_time": "2022-06-30T06:11:43.624741",
     "exception": false,
     "start_time": "2022-06-30T06:11:43.599389",
     "status": "completed"
    },
    "tags": []
   },
   "source": [
    "Statistically though these spreads are still stationary at the 1% confidence level even after 2000."
   ]
  },
  {
   "cell_type": "code",
   "execution_count": 22,
   "id": "d3f9d7a9",
   "metadata": {
    "execution": {
     "iopub.execute_input": "2022-06-30T06:11:43.671419Z",
     "iopub.status.busy": "2022-06-30T06:11:43.671215Z",
     "iopub.status.idle": "2022-06-30T06:11:45.133253Z",
     "shell.execute_reply": "2022-06-30T06:11:45.132478Z"
    },
    "papermill": {
     "duration": 1.484896,
     "end_time": "2022-06-30T06:11:45.135445",
     "exception": false,
     "start_time": "2022-06-30T06:11:43.650549",
     "status": "completed"
    },
    "tags": []
   },
   "outputs": [
    {
     "data": {
      "text/html": [
       "<div>\n",
       "<style scoped>\n",
       "    .dataframe tbody tr th:only-of-type {\n",
       "        vertical-align: middle;\n",
       "    }\n",
       "\n",
       "    .dataframe tbody tr th {\n",
       "        vertical-align: top;\n",
       "    }\n",
       "\n",
       "    .dataframe thead th {\n",
       "        text-align: right;\n",
       "    }\n",
       "</style>\n",
       "<table border=\"1\" class=\"dataframe\">\n",
       "  <thead>\n",
       "    <tr style=\"text-align: right;\">\n",
       "      <th></th>\n",
       "      <th>adf</th>\n",
       "      <th>p_value</th>\n",
       "      <th>used_lag</th>\n",
       "      <th>n_obs</th>\n",
       "      <th>ci_0.01</th>\n",
       "      <th>ci_0.05</th>\n",
       "      <th>ci_0.1</th>\n",
       "      <th>ic_best</th>\n",
       "    </tr>\n",
       "  </thead>\n",
       "  <tbody>\n",
       "    <tr>\n",
       "      <th>0</th>\n",
       "      <td>-1.448987</td>\n",
       "      <td>0.558579</td>\n",
       "      <td>8.0</td>\n",
       "      <td>5640.0</td>\n",
       "      <td>-3.431510</td>\n",
       "      <td>-2.862053</td>\n",
       "      <td>-2.567043</td>\n",
       "      <td>15809.887548</td>\n",
       "    </tr>\n",
       "    <tr>\n",
       "      <th>0</th>\n",
       "      <td>-4.490446</td>\n",
       "      <td>0.000205</td>\n",
       "      <td>0.0</td>\n",
       "      <td>5648.0</td>\n",
       "      <td>-3.431508</td>\n",
       "      <td>-2.862052</td>\n",
       "      <td>-2.567042</td>\n",
       "      <td>17953.804270</td>\n",
       "    </tr>\n",
       "    <tr>\n",
       "      <th>0</th>\n",
       "      <td>-2.856417</td>\n",
       "      <td>0.050656</td>\n",
       "      <td>2.0</td>\n",
       "      <td>5646.0</td>\n",
       "      <td>-3.431509</td>\n",
       "      <td>-2.862052</td>\n",
       "      <td>-2.567043</td>\n",
       "      <td>17747.471701</td>\n",
       "    </tr>\n",
       "  </tbody>\n",
       "</table>\n",
       "</div>"
      ],
      "text/plain": [
       "        adf   p_value  used_lag   n_obs   ci_0.01   ci_0.05    ci_0.1  \\\n",
       "0 -1.448987  0.558579       8.0  5640.0 -3.431510 -2.862053 -2.567043   \n",
       "0 -4.490446  0.000205       0.0  5648.0 -3.431508 -2.862052 -2.567042   \n",
       "0 -2.856417  0.050656       2.0  5646.0 -3.431509 -2.862052 -2.567043   \n",
       "\n",
       "        ic_best  \n",
       "0  15809.887548  \n",
       "0  17953.804270  \n",
       "0  17747.471701  "
      ]
     },
     "execution_count": 22,
     "metadata": {},
     "output_type": "execute_result"
    }
   ],
   "source": [
    "pd.concat((\n",
    "    adf(cs['2000':], autolag='BIC').to_frame().T,\n",
    "    adf(gcs['2000':], autolag='BIC').to_frame().T,\n",
    "    adf(hocs['2000':], autolag='BIC').to_frame().T,\n",
    "))"
   ]
  },
  {
   "cell_type": "markdown",
   "id": "eb6c197c",
   "metadata": {
    "papermill": {
     "duration": 0.02739,
     "end_time": "2022-06-30T06:11:45.193584",
     "exception": false,
     "start_time": "2022-06-30T06:11:45.166194",
     "status": "completed"
    },
    "tags": []
   },
   "source": [
    "# Backtest"
   ]
  },
  {
   "cell_type": "markdown",
   "id": "4bbb1506",
   "metadata": {
    "papermill": {
     "duration": 0.027231,
     "end_time": "2022-06-30T06:11:45.247929",
     "exception": false,
     "start_time": "2022-06-30T06:11:45.220698",
     "status": "completed"
    },
    "tags": []
   },
   "source": [
    "It's not entirely clear how many back contracts are used in the original analysis as they only mentioned they used *all spreads*. In this notebook, the first 6 contracts are used for the sake of simplicity. Beyond 6, there tends to be more missing prices because of inactivity.\n",
    "\n",
    "In practice, one might want to consider liquidity of each contract to decide which one to trade as not all contract months have the same liquidity. In the case of crude oil, after certain points only June and December contracts are actually traded even though other months are listed."
   ]
  },
  {
   "cell_type": "code",
   "execution_count": 23,
   "id": "4aebb8bd",
   "metadata": {
    "execution": {
     "iopub.execute_input": "2022-06-30T06:11:45.302724Z",
     "iopub.status.busy": "2022-06-30T06:11:45.302193Z",
     "iopub.status.idle": "2022-06-30T06:11:46.112932Z",
     "shell.execute_reply": "2022-06-30T06:11:46.112334Z"
    },
    "papermill": {
     "duration": 0.840536,
     "end_time": "2022-06-30T06:11:46.115206",
     "exception": false,
     "start_time": "2022-06-30T06:11:45.274670",
     "status": "completed"
    },
    "tags": []
   },
   "outputs": [],
   "source": [
    "cl_curve = get_futures_curve_snapshot('CL', datetime(2021, 12, 1), 'volume')"
   ]
  },
  {
   "cell_type": "code",
   "execution_count": 24,
   "id": "c2bd035a",
   "metadata": {
    "execution": {
     "iopub.execute_input": "2022-06-30T06:11:46.164812Z",
     "iopub.status.busy": "2022-06-30T06:11:46.164594Z",
     "iopub.status.idle": "2022-06-30T06:11:46.644206Z",
     "shell.execute_reply": "2022-06-30T06:11:46.643573Z"
    },
    "papermill": {
     "duration": 0.507747,
     "end_time": "2022-06-30T06:11:46.645826",
     "exception": false,
     "start_time": "2022-06-30T06:11:46.138079",
     "status": "completed"
    },
    "tags": []
   },
   "outputs": [
    {
     "data": {
      "image/png": "[encoded data removed]",
      "text/plain": [
       "<Figure size 1008x216 with 1 Axes>"
      ]
     },
     "metadata": {
      "needs_background": "light"
     },
     "output_type": "display_data"
    }
   ],
   "source": [
    "ax = cl_curve.loc[:'2024'].set_index('symbol')['volume'].plot(kind='bar', figsize=(14, 3));\n",
    "ax.set_ylabel('Volume')\n",
    "ax.set_title('Crude oil traded volume per contract');"
   ]
  },
  {
   "cell_type": "markdown",
   "id": "9de6acec",
   "metadata": {
    "papermill": {
     "duration": 0.019823,
     "end_time": "2022-06-30T06:11:46.685499",
     "exception": false,
     "start_time": "2022-06-30T06:11:46.665676",
     "status": "completed"
    },
    "tags": []
   },
   "source": [
    "## Crack spread\n",
    "\n",
    "First define the instruments. `roll_rule` is defined to make sure futures are rolled on month-ends. As per the analysis done for crush spreads, some arbitrary collateral of 100k USD is used to meature futures returns."
   ]
  },
  {
   "cell_type": "code",
   "execution_count": 25,
   "id": "5d159539",
   "metadata": {
    "execution": {
     "iopub.execute_input": "2022-06-30T06:11:46.728945Z",
     "iopub.status.busy": "2022-06-30T06:11:46.728592Z",
     "iopub.status.idle": "2022-06-30T06:11:46.736919Z",
     "shell.execute_reply": "2022-06-30T06:11:46.736049Z"
    },
    "papermill": {
     "duration": 0.032441,
     "end_time": "2022-06-30T06:11:46.738908",
     "exception": false,
     "start_time": "2022-06-30T06:11:46.706467",
     "status": "completed"
    },
    "tags": []
   },
   "outputs": [],
   "source": [
    "max_expiry = 6\n",
    "instrument = []\n",
    "for i in range(1, max_expiry + 1):\n",
    "    ho = InstrumentDef('HO', id=f'HO_{i}', collateral=100_000, roll_rule=RollRule.MONTH_END.value, nth_expiry=i)\n",
    "    xb = InstrumentDef('XB', id=f'XB_{i}', collateral=100_000, roll_rule=RollRule.MONTH_END.value, nth_expiry=i)\n",
    "    cl = InstrumentDef('CL', id=f'CL_{i}', collateral=100_000, roll_rule=RollRule.MONTH_END.value, nth_expiry=i)\n",
    "    instrument.append(ho)\n",
    "    instrument.append(xb)\n",
    "    instrument.append(cl)"
   ]
  },
  {
   "cell_type": "code",
   "execution_count": 26,
   "id": "19851a3b",
   "metadata": {
    "execution": {
     "iopub.execute_input": "2022-06-30T06:11:46.781241Z",
     "iopub.status.busy": "2022-06-30T06:11:46.780935Z",
     "iopub.status.idle": "2022-06-30T06:11:46.785753Z",
     "shell.execute_reply": "2022-06-30T06:11:46.785079Z"
    },
    "papermill": {
     "duration": 0.027899,
     "end_time": "2022-06-30T06:11:46.787420",
     "exception": false,
     "start_time": "2022-06-30T06:11:46.759521",
     "status": "completed"
    },
    "tags": []
   },
   "outputs": [
    {
     "data": {
      "text/plain": [
       "18"
      ]
     },
     "execution_count": 26,
     "metadata": {},
     "output_type": "execute_result"
    }
   ],
   "source": [
    "len(instrument)"
   ]
  },
  {
   "cell_type": "code",
   "execution_count": 27,
   "id": "729399c3",
   "metadata": {
    "execution": {
     "iopub.execute_input": "2022-06-30T06:11:46.827243Z",
     "iopub.status.busy": "2022-06-30T06:11:46.826686Z",
     "iopub.status.idle": "2022-06-30T06:18:00.275182Z",
     "shell.execute_reply": "2022-06-30T06:18:00.274527Z"
    },
    "papermill": {
     "duration": 373.471177,
     "end_time": "2022-06-30T06:18:00.277378",
     "exception": false,
     "start_time": "2022-06-30T06:11:46.806201",
     "status": "completed"
    },
    "tags": []
   },
   "outputs": [],
   "source": [
    "engine_cs = BacktestEngine(\n",
    "    start_date=datetime(1985, 1, 1),\n",
    "    strategy=Strategy.DELTA_ONE.value,\n",
    "    instrument=instrument,\n",
    "    signal=signal.CrackSpreadGP1999(\n",
    "        ma_lookback=5,\n",
    "        entry_sigma=2,\n",
    "    ),\n",
    "    weighting=Weighting.SUM.value,\n",
    "    log_level=logging.WARN,\n",
    ")\n",
    "engine_cs.run()"
   ]
  },
  {
   "cell_type": "code",
   "execution_count": 28,
   "id": "f08e3ad6",
   "metadata": {
    "execution": {
     "iopub.execute_input": "2022-06-30T06:18:00.328526Z",
     "iopub.status.busy": "2022-06-30T06:18:00.328194Z",
     "iopub.status.idle": "2022-06-30T06:19:28.524052Z",
     "shell.execute_reply": "2022-06-30T06:19:28.523368Z"
    },
    "papermill": {
     "duration": 88.226118,
     "end_time": "2022-06-30T06:19:28.526321",
     "exception": false,
     "start_time": "2022-06-30T06:18:00.300203",
     "status": "completed"
    },
    "tags": []
   },
   "outputs": [],
   "source": [
    "levels_cs = engine_cs.calculate_equity_curve(calculate_net=False).rename('Crack spread')"
   ]
  },
  {
   "cell_type": "markdown",
   "id": "46f2eaf9",
   "metadata": {
    "papermill": {
     "duration": 0.025696,
     "end_time": "2022-06-30T06:19:28.578085",
     "exception": false,
     "start_time": "2022-06-30T06:19:28.552389",
     "status": "completed"
    },
    "tags": []
   },
   "source": [
    "## Gasoline crack spread"
   ]
  },
  {
   "cell_type": "code",
   "execution_count": 29,
   "id": "ea2825c3",
   "metadata": {
    "execution": {
     "iopub.execute_input": "2022-06-30T06:19:28.631083Z",
     "iopub.status.busy": "2022-06-30T06:19:28.630608Z",
     "iopub.status.idle": "2022-06-30T06:19:28.636391Z",
     "shell.execute_reply": "2022-06-30T06:19:28.635681Z"
    },
    "papermill": {
     "duration": 0.035341,
     "end_time": "2022-06-30T06:19:28.639058",
     "exception": false,
     "start_time": "2022-06-30T06:19:28.603717",
     "status": "completed"
    },
    "tags": []
   },
   "outputs": [],
   "source": [
    "max_expiry = 6\n",
    "instrument = []\n",
    "for i in range(1, max_expiry + 1):\n",
    "    xb = InstrumentDef('XB', id=f'XB_{i}', collateral=100_000, roll_rule=RollRule.MONTH_END.value, nth_expiry=i)\n",
    "    cl = InstrumentDef('CL', id=f'CL_{i}', collateral=100_000, roll_rule=RollRule.MONTH_END.value, nth_expiry=i)\n",
    "    instrument.append(xb)\n",
    "    instrument.append(cl)"
   ]
  },
  {
   "cell_type": "code",
   "execution_count": 30,
   "id": "553fbe4b",
   "metadata": {
    "execution": {
     "iopub.execute_input": "2022-06-30T06:19:28.691594Z",
     "iopub.status.busy": "2022-06-30T06:19:28.691326Z",
     "iopub.status.idle": "2022-06-30T06:23:44.534590Z",
     "shell.execute_reply": "2022-06-30T06:23:44.533686Z"
    },
    "papermill": {
     "duration": 255.87191,
     "end_time": "2022-06-30T06:23:44.536611",
     "exception": false,
     "start_time": "2022-06-30T06:19:28.664701",
     "status": "completed"
    },
    "tags": []
   },
   "outputs": [],
   "source": [
    "engine_gcs = BacktestEngine(\n",
    "    start_date=datetime(1985, 1, 1),\n",
    "    strategy=Strategy.DELTA_ONE.value,\n",
    "    instrument=instrument,\n",
    "    signal=signal.CrackSpreadGP1999(\n",
    "        weights={'XB': 42 * 1000, 'CL': -1 * 1000},\n",
    "        ma_lookback=5,\n",
    "        entry_sigma=2,\n",
    "    ),\n",
    "    weighting=Weighting.SUM.value,\n",
    "    log_level=logging.WARN,\n",
    ")\n",
    "engine_gcs.run()"
   ]
  },
  {
   "cell_type": "code",
   "execution_count": 31,
   "id": "4d87519a",
   "metadata": {
    "execution": {
     "iopub.execute_input": "2022-06-30T06:23:44.578200Z",
     "iopub.status.busy": "2022-06-30T06:23:44.577805Z",
     "iopub.status.idle": "2022-06-30T06:24:42.205187Z",
     "shell.execute_reply": "2022-06-30T06:24:42.204435Z"
    },
    "papermill": {
     "duration": 57.652587,
     "end_time": "2022-06-30T06:24:42.208242",
     "exception": false,
     "start_time": "2022-06-30T06:23:44.555655",
     "status": "completed"
    },
    "tags": []
   },
   "outputs": [],
   "source": [
    "levels_gcs = engine_gcs.calculate_equity_curve(calculate_net=False).rename('Gasoline crack spread')"
   ]
  },
  {
   "cell_type": "markdown",
   "id": "8d456942",
   "metadata": {
    "papermill": {
     "duration": 0.020219,
     "end_time": "2022-06-30T06:24:42.253773",
     "exception": false,
     "start_time": "2022-06-30T06:24:42.233554",
     "status": "completed"
    },
    "tags": []
   },
   "source": [
    "## Heating oil crack spread"
   ]
  },
  {
   "cell_type": "code",
   "execution_count": 32,
   "id": "9cb7c150",
   "metadata": {
    "execution": {
     "iopub.execute_input": "2022-06-30T06:24:42.295080Z",
     "iopub.status.busy": "2022-06-30T06:24:42.294738Z",
     "iopub.status.idle": "2022-06-30T06:24:42.302176Z",
     "shell.execute_reply": "2022-06-30T06:24:42.301383Z"
    },
    "papermill": {
     "duration": 0.031817,
     "end_time": "2022-06-30T06:24:42.304126",
     "exception": false,
     "start_time": "2022-06-30T06:24:42.272309",
     "status": "completed"
    },
    "tags": []
   },
   "outputs": [],
   "source": [
    "max_expiry = 6\n",
    "instrument = []\n",
    "for i in range(1, max_expiry + 1):\n",
    "    ho = InstrumentDef('HO', id=f'HO_{i}', collateral=100_000, roll_rule=RollRule.MONTH_END.value, nth_expiry=i)\n",
    "    cl = InstrumentDef('CL', id=f'CL_{i}', collateral=100_000, roll_rule=RollRule.MONTH_END.value, nth_expiry=i)\n",
    "    instrument.append(ho)\n",
    "    instrument.append(cl)"
   ]
  },
  {
   "cell_type": "code",
   "execution_count": 33,
   "id": "9338a131",
   "metadata": {
    "execution": {
     "iopub.execute_input": "2022-06-30T06:24:42.346049Z",
     "iopub.status.busy": "2022-06-30T06:24:42.345825Z",
     "iopub.status.idle": "2022-06-30T06:28:52.948297Z",
     "shell.execute_reply": "2022-06-30T06:28:52.947669Z"
    },
    "papermill": {
     "duration": 250.626454,
     "end_time": "2022-06-30T06:28:52.950740",
     "exception": false,
     "start_time": "2022-06-30T06:24:42.324286",
     "status": "completed"
    },
    "tags": []
   },
   "outputs": [],
   "source": [
    "engine_hocs = BacktestEngine(\n",
    "    start_date=datetime(1985, 1, 1),\n",
    "    strategy=Strategy.DELTA_ONE.value,\n",
    "    instrument=instrument,\n",
    "    signal=signal.CrackSpreadGP1999(\n",
    "        weights={'HO': 42 * 1000, 'CL': -1 * 1000},\n",
    "        ma_lookback=5,\n",
    "        entry_sigma=2,\n",
    "    ),\n",
    "    weighting=Weighting.SUM.value,\n",
    "    log_level=logging.WARN,\n",
    ")\n",
    "engine_hocs.run()"
   ]
  },
  {
   "cell_type": "code",
   "execution_count": 34,
   "id": "64757694",
   "metadata": {
    "execution": {
     "iopub.execute_input": "2022-06-30T06:28:52.990266Z",
     "iopub.status.busy": "2022-06-30T06:28:52.990018Z",
     "iopub.status.idle": "2022-06-30T06:29:49.995252Z",
     "shell.execute_reply": "2022-06-30T06:29:49.994687Z"
    },
    "papermill": {
     "duration": 57.027348,
     "end_time": "2022-06-30T06:29:49.996984",
     "exception": false,
     "start_time": "2022-06-30T06:28:52.969636",
     "status": "completed"
    },
    "tags": []
   },
   "outputs": [],
   "source": [
    "levels_hocs = engine_hocs.calculate_equity_curve(calculate_net=False).rename('Heating oil crack spread')"
   ]
  },
  {
   "cell_type": "markdown",
   "id": "7d427481",
   "metadata": {
    "papermill": {
     "duration": 0.017959,
     "end_time": "2022-06-30T06:29:50.033333",
     "exception": false,
     "start_time": "2022-06-30T06:29:50.015374",
     "status": "completed"
    },
    "tags": []
   },
   "source": [
    "## Performance\n",
    "During the sample period tested, a mean-reversion on the crack spread worked well."
   ]
  },
  {
   "cell_type": "code",
   "execution_count": 35,
   "id": "348f0796",
   "metadata": {
    "execution": {
     "iopub.execute_input": "2022-06-30T06:29:50.097343Z",
     "iopub.status.busy": "2022-06-30T06:29:50.097091Z",
     "iopub.status.idle": "2022-06-30T06:29:50.109369Z",
     "shell.execute_reply": "2022-06-30T06:29:50.108685Z"
    },
    "papermill": {
     "duration": 0.033885,
     "end_time": "2022-06-30T06:29:50.111259",
     "exception": false,
     "start_time": "2022-06-30T06:29:50.077374",
     "status": "completed"
    },
    "tags": []
   },
   "outputs": [],
   "source": [
    "levels = pd.concat((\n",
    "    levels_cs, levels_gcs, levels_hocs\n",
    "), axis=1)"
   ]
  },
  {
   "cell_type": "code",
   "execution_count": 36,
   "id": "c3b6f7cd",
   "metadata": {
    "execution": {
     "iopub.execute_input": "2022-06-30T06:29:50.155692Z",
     "iopub.status.busy": "2022-06-30T06:29:50.155497Z",
     "iopub.status.idle": "2022-06-30T06:29:50.902496Z",
     "shell.execute_reply": "2022-06-30T06:29:50.901646Z"
    },
    "papermill": {
     "duration": 0.771984,
     "end_time": "2022-06-30T06:29:50.904938",
     "exception": false,
     "start_time": "2022-06-30T06:29:50.132954",
     "status": "completed"
    },
    "tags": []
   },
   "outputs": [
    {
     "data": {
      "image/png": "[encoded data removed]",
      "text/plain": [
       "<Figure size 576x324 with 1 Axes>"
      ]
     },
     "metadata": {
      "needs_background": "light"
     },
     "output_type": "display_data"
    }
   ],
   "source": [
    "fig, ax = plt.subplots(figsize=(8, 4.5))\n",
    "levels[:'1994-11'].plot(ax=ax, logy=True);\n",
    "ax.set_title('Crack spreads mean-reversion (GP1999)')\n",
    "ax.set_ylabel('Cumulative returns');"
   ]
  },
  {
   "cell_type": "code",
   "execution_count": 37,
   "id": "8b9035a4",
   "metadata": {
    "execution": {
     "iopub.execute_input": "2022-06-30T06:29:50.963194Z",
     "iopub.status.busy": "2022-06-30T06:29:50.962899Z",
     "iopub.status.idle": "2022-06-30T06:29:51.025589Z",
     "shell.execute_reply": "2022-06-30T06:29:51.024817Z"
    },
    "papermill": {
     "duration": 0.094476,
     "end_time": "2022-06-30T06:29:51.027956",
     "exception": false,
     "start_time": "2022-06-30T06:29:50.933480",
     "status": "completed"
    },
    "tags": []
   },
   "outputs": [
    {
     "data": {
      "text/html": [
       "<div>\n",
       "<style scoped>\n",
       "    .dataframe tbody tr th:only-of-type {\n",
       "        vertical-align: middle;\n",
       "    }\n",
       "\n",
       "    .dataframe tbody tr th {\n",
       "        vertical-align: top;\n",
       "    }\n",
       "\n",
       "    .dataframe thead th {\n",
       "        text-align: right;\n",
       "    }\n",
       "</style>\n",
       "<table border=\"1\" class=\"dataframe\">\n",
       "  <thead>\n",
       "    <tr style=\"text-align: right;\">\n",
       "      <th></th>\n",
       "      <th>Crack spread</th>\n",
       "      <th>Gasoline crack spread</th>\n",
       "      <th>Heating oil crack spread</th>\n",
       "    </tr>\n",
       "  </thead>\n",
       "  <tbody>\n",
       "    <tr>\n",
       "      <th>CAGR</th>\n",
       "      <td>0.014100</td>\n",
       "      <td>0.007241</td>\n",
       "      <td>0.011715</td>\n",
       "    </tr>\n",
       "    <tr>\n",
       "      <th>Annualised vol</th>\n",
       "      <td>0.018131</td>\n",
       "      <td>0.022948</td>\n",
       "      <td>0.017725</td>\n",
       "    </tr>\n",
       "    <tr>\n",
       "      <th>Sharpe ratio</th>\n",
       "      <td>0.777675</td>\n",
       "      <td>0.315525</td>\n",
       "      <td>0.660914</td>\n",
       "    </tr>\n",
       "    <tr>\n",
       "      <th>Max drawdown</th>\n",
       "      <td>0.071648</td>\n",
       "      <td>0.129760</td>\n",
       "      <td>0.044562</td>\n",
       "    </tr>\n",
       "    <tr>\n",
       "      <th>Calmar ratio</th>\n",
       "      <td>0.196791</td>\n",
       "      <td>0.055800</td>\n",
       "      <td>0.262889</td>\n",
       "    </tr>\n",
       "    <tr>\n",
       "      <th>Skewness</th>\n",
       "      <td>0.791950</td>\n",
       "      <td>4.373877</td>\n",
       "      <td>2.076780</td>\n",
       "    </tr>\n",
       "    <tr>\n",
       "      <th>Kurtosis</th>\n",
       "      <td>45.874931</td>\n",
       "      <td>200.909353</td>\n",
       "      <td>75.098364</td>\n",
       "    </tr>\n",
       "    <tr>\n",
       "      <th>Worst return</th>\n",
       "      <td>-0.012272</td>\n",
       "      <td>-0.022322</td>\n",
       "      <td>-0.013000</td>\n",
       "    </tr>\n",
       "    <tr>\n",
       "      <th>Worst 1d return</th>\n",
       "      <td>-0.012272</td>\n",
       "      <td>-0.022322</td>\n",
       "      <td>-0.013000</td>\n",
       "    </tr>\n",
       "    <tr>\n",
       "      <th>Worst 1w return</th>\n",
       "      <td>-0.018763</td>\n",
       "      <td>-0.034413</td>\n",
       "      <td>-0.019985</td>\n",
       "    </tr>\n",
       "    <tr>\n",
       "      <th>Worst 1m return</th>\n",
       "      <td>-0.030638</td>\n",
       "      <td>-0.029017</td>\n",
       "      <td>-0.026193</td>\n",
       "    </tr>\n",
       "  </tbody>\n",
       "</table>\n",
       "</div>"
      ],
      "text/plain": [
       "                 Crack spread  Gasoline crack spread  Heating oil crack spread\n",
       "CAGR                 0.014100               0.007241                  0.011715\n",
       "Annualised vol       0.018131               0.022948                  0.017725\n",
       "Sharpe ratio         0.777675               0.315525                  0.660914\n",
       "Max drawdown         0.071648               0.129760                  0.044562\n",
       "Calmar ratio         0.196791               0.055800                  0.262889\n",
       "Skewness             0.791950               4.373877                  2.076780\n",
       "Kurtosis            45.874931             200.909353                 75.098364\n",
       "Worst return        -0.012272              -0.022322                 -0.013000\n",
       "Worst 1d return     -0.012272              -0.022322                 -0.013000\n",
       "Worst 1w return     -0.018763              -0.034413                 -0.019985\n",
       "Worst 1m return     -0.030638              -0.029017                 -0.026193"
      ]
     },
     "execution_count": 37,
     "metadata": {},
     "output_type": "execute_result"
    }
   ],
   "source": [
    "levels[:'1994-11'].pipe(Performance).summary()"
   ]
  },
  {
   "cell_type": "markdown",
   "id": "25d81c19",
   "metadata": {
    "papermill": {
     "duration": 0.032772,
     "end_time": "2022-06-30T06:29:51.147977",
     "exception": false,
     "start_time": "2022-06-30T06:29:51.115205",
     "status": "completed"
    },
    "tags": []
   },
   "source": [
    "The underperformance in 1990 coincides with a wider divergence on the crack spread which is intuitive."
   ]
  },
  {
   "cell_type": "code",
   "execution_count": 38,
   "id": "76538675",
   "metadata": {
    "execution": {
     "iopub.execute_input": "2022-06-30T06:29:51.371277Z",
     "iopub.status.busy": "2022-06-30T06:29:51.370826Z",
     "iopub.status.idle": "2022-06-30T06:29:51.780864Z",
     "shell.execute_reply": "2022-06-30T06:29:51.780242Z"
    },
    "papermill": {
     "duration": 0.559486,
     "end_time": "2022-06-30T06:29:51.782444",
     "exception": false,
     "start_time": "2022-06-30T06:29:51.222958",
     "status": "completed"
    },
    "tags": []
   },
   "outputs": [
    {
     "data": {
      "image/png": "[encoded data removed]",
      "text/plain": [
       "<Figure size 576x360 with 2 Axes>"
      ]
     },
     "metadata": {
      "needs_background": "light"
     },
     "output_type": "display_data"
    }
   ],
   "source": [
    "pd.concat((\n",
    "    levels_gcs.rename('Gasoline crack spread strategy'),\n",
    "    gcs.rename('GCS')\n",
    "), axis=1)[:'1994-11'].plot(figsize=(8, 5), secondary_y='GCS');"
   ]
  },
  {
   "cell_type": "markdown",
   "id": "e2d431e2",
   "metadata": {
    "papermill": {
     "duration": 0.019634,
     "end_time": "2022-06-30T06:29:51.822259",
     "exception": false,
     "start_time": "2022-06-30T06:29:51.802625",
     "status": "completed"
    },
    "tags": []
   },
   "source": [
    "## Long-term performance\n",
    "\n",
    "...however as we saw earlier in the time-series of crack spreads, something must have changed in 2000s and the trading strategies stopped working."
   ]
  },
  {
   "cell_type": "code",
   "execution_count": 39,
   "id": "d8a263d6",
   "metadata": {
    "execution": {
     "iopub.execute_input": "2022-06-30T06:29:51.868117Z",
     "iopub.status.busy": "2022-06-30T06:29:51.867599Z",
     "iopub.status.idle": "2022-06-30T06:29:52.378088Z",
     "shell.execute_reply": "2022-06-30T06:29:52.377262Z"
    },
    "papermill": {
     "duration": 0.534609,
     "end_time": "2022-06-30T06:29:52.380264",
     "exception": false,
     "start_time": "2022-06-30T06:29:51.845655",
     "status": "completed"
    },
    "tags": []
   },
   "outputs": [
    {
     "data": {
      "image/png": "[encoded data removed]",
      "text/plain": [
       "<Figure size 576x324 with 1 Axes>"
      ]
     },
     "metadata": {
      "needs_background": "light"
     },
     "output_type": "display_data"
    }
   ],
   "source": [
    "fig, ax = plt.subplots(figsize=(8, 4.5))\n",
    "levels.plot(ax=ax, logy=True);\n",
    "ax.set_title('Crack spreads mean-reversion (GP1999)')\n",
    "ax.set_ylabel('Cumulative returns');"
   ]
  },
  {
   "cell_type": "code",
   "execution_count": 40,
   "id": "b9b01da1",
   "metadata": {
    "execution": {
     "iopub.execute_input": "2022-06-30T06:29:52.732859Z",
     "iopub.status.busy": "2022-06-30T06:29:52.732583Z",
     "iopub.status.idle": "2022-06-30T06:29:52.840178Z",
     "shell.execute_reply": "2022-06-30T06:29:52.839553Z"
    },
    "papermill": {
     "duration": 0.434176,
     "end_time": "2022-06-30T06:29:52.842370",
     "exception": false,
     "start_time": "2022-06-30T06:29:52.408194",
     "status": "completed"
    },
    "tags": []
   },
   "outputs": [
    {
     "data": {
      "text/html": [
       "<div>\n",
       "<style scoped>\n",
       "    .dataframe tbody tr th:only-of-type {\n",
       "        vertical-align: middle;\n",
       "    }\n",
       "\n",
       "    .dataframe tbody tr th {\n",
       "        vertical-align: top;\n",
       "    }\n",
       "\n",
       "    .dataframe thead th {\n",
       "        text-align: right;\n",
       "    }\n",
       "</style>\n",
       "<table border=\"1\" class=\"dataframe\">\n",
       "  <thead>\n",
       "    <tr style=\"text-align: right;\">\n",
       "      <th></th>\n",
       "      <th>Crack spread</th>\n",
       "      <th>Gasoline crack spread</th>\n",
       "      <th>Heating oil crack spread</th>\n",
       "    </tr>\n",
       "  </thead>\n",
       "  <tbody>\n",
       "    <tr>\n",
       "      <th>CAGR</th>\n",
       "      <td>-0.052997</td>\n",
       "      <td>-0.006759</td>\n",
       "      <td>-0.008557</td>\n",
       "    </tr>\n",
       "    <tr>\n",
       "      <th>Annualised vol</th>\n",
       "      <td>0.165962</td>\n",
       "      <td>0.044850</td>\n",
       "      <td>0.076326</td>\n",
       "    </tr>\n",
       "    <tr>\n",
       "      <th>Sharpe ratio</th>\n",
       "      <td>-0.319334</td>\n",
       "      <td>-0.150709</td>\n",
       "      <td>-0.112115</td>\n",
       "    </tr>\n",
       "    <tr>\n",
       "      <th>Max drawdown</th>\n",
       "      <td>0.939134</td>\n",
       "      <td>0.455942</td>\n",
       "      <td>0.463897</td>\n",
       "    </tr>\n",
       "    <tr>\n",
       "      <th>Calmar ratio</th>\n",
       "      <td>-0.056432</td>\n",
       "      <td>-0.014825</td>\n",
       "      <td>-0.018446</td>\n",
       "    </tr>\n",
       "    <tr>\n",
       "      <th>Skewness</th>\n",
       "      <td>11.759901</td>\n",
       "      <td>-1.828327</td>\n",
       "      <td>3.904617</td>\n",
       "    </tr>\n",
       "    <tr>\n",
       "      <th>Kurtosis</th>\n",
       "      <td>1380.891540</td>\n",
       "      <td>67.743055</td>\n",
       "      <td>681.181358</td>\n",
       "    </tr>\n",
       "    <tr>\n",
       "      <th>Worst return</th>\n",
       "      <td>-0.339082</td>\n",
       "      <td>-0.049356</td>\n",
       "      <td>-0.162293</td>\n",
       "    </tr>\n",
       "    <tr>\n",
       "      <th>Worst 1d return</th>\n",
       "      <td>-0.339082</td>\n",
       "      <td>-0.049356</td>\n",
       "      <td>-0.162293</td>\n",
       "    </tr>\n",
       "    <tr>\n",
       "      <th>Worst 1w return</th>\n",
       "      <td>-0.487829</td>\n",
       "      <td>-0.101832</td>\n",
       "      <td>-0.125455</td>\n",
       "    </tr>\n",
       "    <tr>\n",
       "      <th>Worst 1m return</th>\n",
       "      <td>-0.436654</td>\n",
       "      <td>-0.119793</td>\n",
       "      <td>-0.228092</td>\n",
       "    </tr>\n",
       "  </tbody>\n",
       "</table>\n",
       "</div>"
      ],
      "text/plain": [
       "                 Crack spread  Gasoline crack spread  Heating oil crack spread\n",
       "CAGR                -0.052997              -0.006759                 -0.008557\n",
       "Annualised vol       0.165962               0.044850                  0.076326\n",
       "Sharpe ratio        -0.319334              -0.150709                 -0.112115\n",
       "Max drawdown         0.939134               0.455942                  0.463897\n",
       "Calmar ratio        -0.056432              -0.014825                 -0.018446\n",
       "Skewness            11.759901              -1.828327                  3.904617\n",
       "Kurtosis          1380.891540              67.743055                681.181358\n",
       "Worst return        -0.339082              -0.049356                 -0.162293\n",
       "Worst 1d return     -0.339082              -0.049356                 -0.162293\n",
       "Worst 1w return     -0.487829              -0.101832                 -0.125455\n",
       "Worst 1m return     -0.436654              -0.119793                 -0.228092"
      ]
     },
     "execution_count": 40,
     "metadata": {},
     "output_type": "execute_result"
    }
   ],
   "source": [
    "levels.pipe(Performance).summary()"
   ]
  },
  {
   "cell_type": "markdown",
   "id": "e67cc5fa",
   "metadata": {
    "papermill": {
     "duration": 0.053661,
     "end_time": "2022-06-30T06:29:53.085394",
     "exception": false,
     "start_time": "2022-06-30T06:29:53.031733",
     "status": "completed"
    },
    "tags": []
   },
   "source": [
    "## Post publication"
   ]
  },
  {
   "cell_type": "code",
   "execution_count": 41,
   "id": "94b4f13d",
   "metadata": {
    "execution": {
     "iopub.execute_input": "2022-06-30T06:29:53.159365Z",
     "iopub.status.busy": "2022-06-30T06:29:53.159037Z",
     "iopub.status.idle": "2022-06-30T06:29:53.162937Z",
     "shell.execute_reply": "2022-06-30T06:29:53.162293Z"
    },
    "papermill": {
     "duration": 0.048683,
     "end_time": "2022-06-30T06:29:53.165015",
     "exception": false,
     "start_time": "2022-06-30T06:29:53.116332",
     "status": "completed"
    },
    "tags": []
   },
   "outputs": [],
   "source": [
    "publication_date = datetime(1999, 11, 29)"
   ]
  },
  {
   "cell_type": "code",
   "execution_count": 42,
   "id": "1a2e7f9c",
   "metadata": {
    "execution": {
     "iopub.execute_input": "2022-06-30T06:29:53.227413Z",
     "iopub.status.busy": "2022-06-30T06:29:53.227204Z",
     "iopub.status.idle": "2022-06-30T06:29:54.315418Z",
     "shell.execute_reply": "2022-06-30T06:29:54.314846Z"
    },
    "papermill": {
     "duration": 1.121423,
     "end_time": "2022-06-30T06:29:54.317096",
     "exception": false,
     "start_time": "2022-06-30T06:29:53.195673",
     "status": "completed"
    },
    "tags": []
   },
   "outputs": [
    {
     "data": {
      "image/png": "[encoded data removed]",
      "text/plain": [
       "<Figure size 1008x288 with 2 Axes>"
      ]
     },
     "metadata": {
      "needs_background": "light"
     },
     "output_type": "display_data"
    }
   ],
   "source": [
    "fig, ax = plt.subplots(1, 2, figsize=(14, 4))\n",
    "levels.plot(ax=ax[0], logy=True);\n",
    "ax[0].set_title('Crack spreads mean-reversion (GP1999)')\n",
    "ax[0].set_ylabel('Cumulative returns');\n",
    "ax[0].axvline(publication_date, lw=1, ls='--', color='black')\n",
    "ax[0].text(publication_date, 100, 'Publication date ', ha='right')\n",
    "\n",
    "levels.loc[publication_date:].pipe(rebase).plot(ax=ax[1], logy=True);\n",
    "ax[1].set_title('Post publication');"
   ]
  },
  {
   "cell_type": "markdown",
   "id": "d187127a",
   "metadata": {
    "papermill": {
     "duration": 0.023324,
     "end_time": "2022-06-30T06:29:54.361534",
     "exception": false,
     "start_time": "2022-06-30T06:29:54.338210",
     "status": "completed"
    },
    "tags": []
   },
   "source": [
    "# Reference\n",
    "- Girma, P.B. and Paulson, A.S., 1999. Risk arbitrage opportunities in petroleum futures spreads. Journal of Futures Markets, 19(8), pp.931-955."
   ]
  },
  {
   "cell_type": "code",
   "execution_count": 43,
   "id": "69fe3c8e",
   "metadata": {
    "execution": {
     "iopub.execute_input": "2022-06-30T06:29:54.409410Z",
     "iopub.status.busy": "2022-06-30T06:29:54.409159Z",
     "iopub.status.idle": "2022-06-30T06:29:54.443945Z",
     "shell.execute_reply": "2022-06-30T06:29:54.443155Z"
    },
    "papermill": {
     "duration": 0.061763,
     "end_time": "2022-06-30T06:29:54.446057",
     "exception": false,
     "start_time": "2022-06-30T06:29:54.384294",
     "status": "completed"
    },
    "tags": []
   },
   "outputs": [
    {
     "name": "stdout",
     "output_type": "stream",
     "text": [
      "Updated: 30-Jun-2022 06:29\n"
     ]
    }
   ],
   "source": [
    "print(f'Updated: {datetime.utcnow():%d-%b-%Y %H:%M}')"
   ]
  }
 ],
 "metadata": {
  "kernelspec": {
   "display_name": "Python 3",
   "language": "python",
   "name": "python3"
  },
  "language_info": {
   "codemirror_mode": {
    "name": "ipython",
    "version": 3
   },
   "file_extension": ".py",
   "mimetype": "text/x-python",
   "name": "python",
   "nbconvert_exporter": "python",
   "pygments_lexer": "ipython3",
   "version": "3.9.6"
  },
  "papermill": {
   "default_parameters": {},
   "duration": 1174.677782,
   "end_time": "2022-06-30T06:29:57.195714",
   "environment_variables": {},
   "exception": null,
   "input_path": "notebooks/papermill/commodity_crack_spread_stat_arb.ipynb",
   "output_path": "notebooks/commodity_crack_spread_stat_arb.ipynb",
   "parameters": {},
   "start_time": "2022-06-30T06:10:22.517932",
   "version": "2.3.4"
  },
  "toc-autonumbering": true
 },
 "nbformat": 4,
 "nbformat_minor": 5
}