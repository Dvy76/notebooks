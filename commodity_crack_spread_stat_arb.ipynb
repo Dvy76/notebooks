{
 "cells": [
  {
   "cell_type": "markdown",
   "id": "172ca5c5",
   "metadata": {
    "papermill": {
     "duration": 0.093122,
     "end_time": "2022-03-23T06:12:01.656113",
     "exception": false,
     "start_time": "2022-03-23T06:12:01.562991",
     "status": "completed"
    },
    "tags": []
   },
   "source": [
    "# Commodity crack spread statistical arbitrage\n",
    "\n",
    "In this notebook, the mean-rereversion strategy proposed in Girma and Paulson 1999 (henthforth GP1999) is investigated. It focuses on a various combination of the crude oil (WTI) crack spread. "
   ]
  },
  {
   "cell_type": "code",
   "execution_count": 1,
   "id": "7daa9dab",
   "metadata": {
    "execution": {
     "iopub.execute_input": "2022-03-23T06:12:01.850759Z",
     "iopub.status.busy": "2022-03-23T06:12:01.849916Z",
     "iopub.status.idle": "2022-03-23T06:12:05.059857Z",
     "shell.execute_reply": "2022-03-23T06:12:05.060547Z",
     "shell.execute_reply.started": "2021-12-03T07:10:36.569519Z"
    },
    "papermill": {
     "duration": 3.315259,
     "end_time": "2022-03-23T06:12:05.060845",
     "exception": false,
     "start_time": "2022-03-23T06:12:01.745586",
     "status": "completed"
    },
    "tags": []
   },
   "outputs": [],
   "source": [
    "%matplotlib inline\n",
    "from datetime import datetime\n",
    "import logging\n",
    "import warnings\n",
    "warnings.simplefilter(action='ignore', category=FutureWarning)\n",
    "\n",
    "import pandas as pd\n",
    "import statsmodels.api as sm\n",
    "import matplotlib.pyplot as plt\n",
    "plt.style.use('bmh')\n",
    "\n",
    "from vivace.backtest import BacktestEngine, signal, InstrumentDef\n",
    "from vivace.backtest.analytics import rebase\n",
    "from vivace.backtest.contract import get_futures_curve_snapshot\n",
    "from vivace.backtest.enums import Strategy, Weighting, RollRule\n",
    "from vivace.backtest.stats import Performance"
   ]
  },
  {
   "cell_type": "markdown",
   "id": "68aa8ccf",
   "metadata": {
    "papermill": {
     "duration": 0.094371,
     "end_time": "2022-03-23T06:12:05.248830",
     "exception": false,
     "start_time": "2022-03-23T06:12:05.154459",
     "status": "completed"
    },
    "tags": []
   },
   "source": [
    "# Cointegration test\n",
    "\n",
    "GP1999 first checks if the crack spread is cointegrated. To do that, first let's see futures prices are non-stationary or not. As per usual, the generic price is populated by running a simple long-only backtest by rolling the front contract."
   ]
  },
  {
   "cell_type": "markdown",
   "id": "824e7302",
   "metadata": {
    "papermill": {
     "duration": 0.092141,
     "end_time": "2022-03-23T06:12:05.433181",
     "exception": false,
     "start_time": "2022-03-23T06:12:05.341040",
     "status": "completed"
    },
    "tags": []
   },
   "source": [
    "## ADF test\n",
    "\n",
    "The ADF test is done by the `adfuller` function in `statsmodels`. (cf. https://www.statsmodels.org/dev/generated/statsmodels.tsa.stattools.adfuller.html)"
   ]
  },
  {
   "cell_type": "code",
   "execution_count": 2,
   "id": "4eb3103c",
   "metadata": {
    "execution": {
     "iopub.execute_input": "2022-03-23T06:12:05.622591Z",
     "iopub.status.busy": "2022-03-23T06:12:05.621835Z",
     "iopub.status.idle": "2022-03-23T06:12:17.114781Z",
     "shell.execute_reply": "2022-03-23T06:12:17.115261Z",
     "shell.execute_reply.started": "2021-12-03T06:36:10.163450Z"
    },
    "papermill": {
     "duration": 11.589988,
     "end_time": "2022-03-23T06:12:17.115424",
     "exception": false,
     "start_time": "2022-03-23T06:12:05.525436",
     "status": "completed"
    },
    "tags": []
   },
   "outputs": [],
   "source": [
    "cl_1st = BacktestEngine(instrument='CL', log_level=logging.WARN)\n",
    "cl_1st.run()"
   ]
  },
  {
   "cell_type": "code",
   "execution_count": 3,
   "id": "9910ecff",
   "metadata": {
    "execution": {
     "iopub.execute_input": "2022-03-23T06:12:17.280567Z",
     "iopub.status.busy": "2022-03-23T06:12:17.279740Z",
     "iopub.status.idle": "2022-03-23T06:12:29.291317Z",
     "shell.execute_reply": "2022-03-23T06:12:29.291981Z",
     "shell.execute_reply.started": "2021-12-03T06:36:18.338428Z"
    },
    "papermill": {
     "duration": 12.096465,
     "end_time": "2022-03-23T06:12:29.292181",
     "exception": false,
     "start_time": "2022-03-23T06:12:17.195716",
     "status": "completed"
    },
    "tags": []
   },
   "outputs": [],
   "source": [
    "ho_1st = BacktestEngine(instrument='HO', log_level=logging.WARN)\n",
    "ho_1st.run()"
   ]
  },
  {
   "cell_type": "code",
   "execution_count": 4,
   "id": "32cec4c3",
   "metadata": {
    "execution": {
     "iopub.execute_input": "2022-03-23T06:12:29.483362Z",
     "iopub.status.busy": "2022-03-23T06:12:29.482555Z",
     "iopub.status.idle": "2022-03-23T06:12:40.274372Z",
     "shell.execute_reply": "2022-03-23T06:12:40.273616Z",
     "shell.execute_reply.started": "2021-12-03T06:36:25.919037Z"
    },
    "papermill": {
     "duration": 10.889823,
     "end_time": "2022-03-23T06:12:40.274542",
     "exception": false,
     "start_time": "2022-03-23T06:12:29.384719",
     "status": "completed"
    },
    "tags": []
   },
   "outputs": [],
   "source": [
    "xb_1st = BacktestEngine(instrument='XB', log_level=logging.WARN)\n",
    "xb_1st.run()"
   ]
  },
  {
   "cell_type": "code",
   "execution_count": 5,
   "id": "a602ffe8",
   "metadata": {
    "execution": {
     "iopub.execute_input": "2022-03-23T06:12:40.474063Z",
     "iopub.status.busy": "2022-03-23T06:12:40.473248Z",
     "iopub.status.idle": "2022-03-23T06:13:01.825675Z",
     "shell.execute_reply": "2022-03-23T06:13:01.826352Z",
     "shell.execute_reply.started": "2021-12-03T06:36:32.982734Z"
    },
    "papermill": {
     "duration": 21.454178,
     "end_time": "2022-03-23T06:13:01.826573",
     "exception": false,
     "start_time": "2022-03-23T06:12:40.372395",
     "status": "completed"
    },
    "tags": []
   },
   "outputs": [],
   "source": [
    "cl_price = cl_1st.get_generic_price().squeeze().fillna(method='pad').rename('Crude oil')\n",
    "ho_price = ho_1st.get_generic_price().squeeze().fillna(method='pad').rename('Heating oil')\n",
    "xb_price = xb_1st.get_generic_price().squeeze().fillna(method='pad').rename('Gasoline')"
   ]
  },
  {
   "cell_type": "code",
   "execution_count": 6,
   "id": "81a1c9be",
   "metadata": {
    "execution": {
     "iopub.execute_input": "2022-03-23T06:13:02.024065Z",
     "iopub.status.busy": "2022-03-23T06:13:02.023245Z",
     "iopub.status.idle": "2022-03-23T06:13:02.025302Z",
     "shell.execute_reply": "2022-03-23T06:13:02.025924Z",
     "shell.execute_reply.started": "2021-12-03T06:36:47.351540Z"
    },
    "papermill": {
     "duration": 0.106185,
     "end_time": "2022-03-23T06:13:02.026138",
     "exception": false,
     "start_time": "2022-03-23T06:13:01.919953",
     "status": "completed"
    },
    "tags": []
   },
   "outputs": [],
   "source": [
    "def adf(ts: pd.Series, **kwargs) -> pd.Series:\n",
    "    \"\"\" Run the ADF test and return a cleaned result \"\"\"\n",
    "    adf_result = sm.tsa.stattools.adfuller(ts, **kwargs)\n",
    "    cleaned = {\n",
    "        'adf': adf_result[0],\n",
    "        'p_value': adf_result[1],\n",
    "        'used_lag': adf_result[2],\n",
    "        'n_obs': adf_result[3],\n",
    "        'ci_0.01': adf_result[4]['1%'],\n",
    "        'ci_0.05': adf_result[4]['5%'],\n",
    "        'ci_0.1': adf_result[4]['10%'],\n",
    "        'ic_best': adf_result[5],\n",
    "    }\n",
    "    return pd.Series(cleaned, name=ts.name)"
   ]
  },
  {
   "cell_type": "markdown",
   "id": "73a9df64",
   "metadata": {
    "papermill": {
     "duration": 0.091463,
     "end_time": "2022-03-23T06:13:02.216396",
     "exception": false,
     "start_time": "2022-03-23T06:13:02.124933",
     "status": "completed"
    },
    "tags": []
   },
   "source": [
    "GP1999 uses Schwarz's information criterion (i.e., BIC) to select the optimal number of lags included in the ADF test."
   ]
  },
  {
   "cell_type": "code",
   "execution_count": 7,
   "id": "b69649d6",
   "metadata": {
    "execution": {
     "iopub.execute_input": "2022-03-23T06:13:02.411520Z",
     "iopub.status.busy": "2022-03-23T06:13:02.410705Z",
     "iopub.status.idle": "2022-03-23T06:13:02.778419Z",
     "shell.execute_reply": "2022-03-23T06:13:02.779424Z",
     "shell.execute_reply.started": "2021-12-03T06:36:47.357535Z"
    },
    "papermill": {
     "duration": 0.465794,
     "end_time": "2022-03-23T06:13:02.779680",
     "exception": false,
     "start_time": "2022-03-23T06:13:02.313886",
     "status": "completed"
    },
    "tags": []
   },
   "outputs": [],
   "source": [
    "adf_result = pd.concat((\n",
    "    adf(cl_price['1983-04':'1994-11'], autolag='BIC').to_frame().T,\n",
    "    adf(ho_price['1983-04':'1994-11'], autolag='BIC').to_frame().T,\n",
    "    adf(xb_price['1984-12':'1994-11'], autolag='BIC').to_frame().T,\n",
    "))"
   ]
  },
  {
   "cell_type": "markdown",
   "id": "1396f87e",
   "metadata": {
    "papermill": {
     "duration": 0.073599,
     "end_time": "2022-03-23T06:13:02.958609",
     "exception": false,
     "start_time": "2022-03-23T06:13:02.885010",
     "status": "completed"
    },
    "tags": []
   },
   "source": [
    "In the ADF test, $H_0$ is that the time-series is non-stationary. Based on this result below, $H_0$ cannot be rejected for crude oil, however is rejected for heating oil and gasoline at the 10% and 5% level respectively.\n",
    "\n",
    "This is interesting because usually almost always asset prices are non-stationary."
   ]
  },
  {
   "cell_type": "code",
   "execution_count": 8,
   "id": "3655e953",
   "metadata": {
    "execution": {
     "iopub.execute_input": "2022-03-23T06:13:03.153608Z",
     "iopub.status.busy": "2022-03-23T06:13:03.152750Z",
     "iopub.status.idle": "2022-03-23T06:13:03.163274Z",
     "shell.execute_reply": "2022-03-23T06:13:03.163928Z",
     "shell.execute_reply.started": "2021-12-03T06:36:48.064712Z"
    },
    "papermill": {
     "duration": 0.130472,
     "end_time": "2022-03-23T06:13:03.164134",
     "exception": false,
     "start_time": "2022-03-23T06:13:03.033662",
     "status": "completed"
    },
    "tags": []
   },
   "outputs": [
    {
     "data": {
      "text/html": [
       "<div>\n",
       "<style scoped>\n",
       "    .dataframe tbody tr th:only-of-type {\n",
       "        vertical-align: middle;\n",
       "    }\n",
       "\n",
       "    .dataframe tbody tr th {\n",
       "        vertical-align: top;\n",
       "    }\n",
       "\n",
       "    .dataframe thead th {\n",
       "        text-align: right;\n",
       "    }\n",
       "</style>\n",
       "<table border=\"1\" class=\"dataframe\">\n",
       "  <thead>\n",
       "    <tr style=\"text-align: right;\">\n",
       "      <th></th>\n",
       "      <th>adf</th>\n",
       "      <th>p_value</th>\n",
       "      <th>used_lag</th>\n",
       "      <th>n_obs</th>\n",
       "      <th>ci_0.01</th>\n",
       "      <th>ci_0.05</th>\n",
       "      <th>ci_0.1</th>\n",
       "      <th>ic_best</th>\n",
       "    </tr>\n",
       "  </thead>\n",
       "  <tbody>\n",
       "    <tr>\n",
       "      <th>Crude oil</th>\n",
       "      <td>-2.185213</td>\n",
       "      <td>0.211656</td>\n",
       "      <td>8.0</td>\n",
       "      <td>2924.0</td>\n",
       "      <td>-3.432588</td>\n",
       "      <td>-2.862529</td>\n",
       "      <td>-2.567296</td>\n",
       "      <td>4195.186424</td>\n",
       "    </tr>\n",
       "    <tr>\n",
       "      <th>Heating oil</th>\n",
       "      <td>-2.743636</td>\n",
       "      <td>0.066787</td>\n",
       "      <td>3.0</td>\n",
       "      <td>2929.0</td>\n",
       "      <td>-3.432585</td>\n",
       "      <td>-2.862527</td>\n",
       "      <td>-2.567296</td>\n",
       "      <td>-15763.929006</td>\n",
       "    </tr>\n",
       "    <tr>\n",
       "      <th>Gasoline</th>\n",
       "      <td>-3.003758</td>\n",
       "      <td>0.034545</td>\n",
       "      <td>3.0</td>\n",
       "      <td>2510.0</td>\n",
       "      <td>-3.432958</td>\n",
       "      <td>-2.862692</td>\n",
       "      <td>-2.567383</td>\n",
       "      <td>-14006.551367</td>\n",
       "    </tr>\n",
       "  </tbody>\n",
       "</table>\n",
       "</div>"
      ],
      "text/plain": [
       "                  adf   p_value  used_lag   n_obs   ci_0.01   ci_0.05  \\\n",
       "Crude oil   -2.185213  0.211656       8.0  2924.0 -3.432588 -2.862529   \n",
       "Heating oil -2.743636  0.066787       3.0  2929.0 -3.432585 -2.862527   \n",
       "Gasoline    -3.003758  0.034545       3.0  2510.0 -3.432958 -2.862692   \n",
       "\n",
       "               ci_0.1       ic_best  \n",
       "Crude oil   -2.567296   4195.186424  \n",
       "Heating oil -2.567296 -15763.929006  \n",
       "Gasoline    -2.567383 -14006.551367  "
      ]
     },
     "execution_count": 8,
     "metadata": {},
     "output_type": "execute_result"
    }
   ],
   "source": [
    "adf_result"
   ]
  },
  {
   "cell_type": "markdown",
   "id": "cb465c0a",
   "metadata": {
    "papermill": {
     "duration": 0.09364,
     "end_time": "2022-03-23T06:13:03.351473",
     "exception": false,
     "start_time": "2022-03-23T06:13:03.257833",
     "status": "completed"
    },
    "tags": []
   },
   "source": [
    "Probably it is to do with the sampling period. It may look a stationary process especially after 1986, however clearly it is heteroskedastic and the price move in 1986 seems like a shift in the level."
   ]
  },
  {
   "cell_type": "code",
   "execution_count": 9,
   "id": "11339aae",
   "metadata": {
    "execution": {
     "iopub.execute_input": "2022-03-23T06:13:03.561519Z",
     "iopub.status.busy": "2022-03-23T06:13:03.542601Z",
     "iopub.status.idle": "2022-03-23T06:13:04.167161Z",
     "shell.execute_reply": "2022-03-23T06:13:04.167773Z",
     "shell.execute_reply.started": "2021-12-03T06:36:48.107910Z"
    },
    "papermill": {
     "duration": 0.722142,
     "end_time": "2022-03-23T06:13:04.167997",
     "exception": false,
     "start_time": "2022-03-23T06:13:03.445855",
     "status": "completed"
    },
    "tags": []
   },
   "outputs": [
    {
     "data": {
      "image/png": "[encoded data removed]",
      "text/plain": [
       "<Figure size 576x360 with 2 Axes>"
      ]
     },
     "metadata": {
      "needs_background": "light"
     },
     "output_type": "display_data"
    }
   ],
   "source": [
    "fig, ax = plt.subplots(figsize=(8, 5))\n",
    "pd.concat((\n",
    "    cl_price['1983-04':'1994-11'],\n",
    "    ho_price['1983-04':'1994-11'],\n",
    "    xb_price['1984-12':'1994-11'],\n",
    "), axis=1).plot(secondary_y=['Heating oil', 'Gasoline'], ax=ax);\n",
    "ax.set_title('Futures prices (generic 1st)');"
   ]
  },
  {
   "cell_type": "markdown",
   "id": "47068957",
   "metadata": {
    "papermill": {
     "duration": 0.097303,
     "end_time": "2022-03-23T06:13:04.351281",
     "exception": false,
     "start_time": "2022-03-23T06:13:04.253978",
     "status": "completed"
    },
    "tags": []
   },
   "source": [
    "In fact, in the long-run $H_0$ cannot be rejected for all contracts based on both BIC and AIC."
   ]
  },
  {
   "cell_type": "code",
   "execution_count": 10,
   "id": "47dcef74",
   "metadata": {
    "execution": {
     "iopub.execute_input": "2022-03-23T06:13:04.514442Z",
     "iopub.status.busy": "2022-03-23T06:13:04.513614Z",
     "iopub.status.idle": "2022-03-23T06:13:10.477945Z",
     "shell.execute_reply": "2022-03-23T06:13:10.478983Z",
     "shell.execute_reply.started": "2021-12-03T06:36:48.435839Z"
    },
    "papermill": {
     "duration": 6.044071,
     "end_time": "2022-03-23T06:13:10.479199",
     "exception": false,
     "start_time": "2022-03-23T06:13:04.435128",
     "status": "completed"
    },
    "tags": []
   },
   "outputs": [
    {
     "data": {
      "text/html": [
       "<div>\n",
       "<style scoped>\n",
       "    .dataframe tbody tr th:only-of-type {\n",
       "        vertical-align: middle;\n",
       "    }\n",
       "\n",
       "    .dataframe tbody tr th {\n",
       "        vertical-align: top;\n",
       "    }\n",
       "\n",
       "    .dataframe thead th {\n",
       "        text-align: right;\n",
       "    }\n",
       "</style>\n",
       "<table border=\"1\" class=\"dataframe\">\n",
       "  <thead>\n",
       "    <tr style=\"text-align: right;\">\n",
       "      <th></th>\n",
       "      <th>adf</th>\n",
       "      <th>p_value</th>\n",
       "      <th>used_lag</th>\n",
       "      <th>n_obs</th>\n",
       "      <th>ci_0.01</th>\n",
       "      <th>ci_0.05</th>\n",
       "      <th>ci_0.1</th>\n",
       "      <th>ic_best</th>\n",
       "    </tr>\n",
       "  </thead>\n",
       "  <tbody>\n",
       "    <tr>\n",
       "      <th>Crude oil</th>\n",
       "      <td>-1.226533</td>\n",
       "      <td>0.662079</td>\n",
       "      <td>1.0</td>\n",
       "      <td>9788.0</td>\n",
       "      <td>-3.431018</td>\n",
       "      <td>-2.861835</td>\n",
       "      <td>-2.566927</td>\n",
       "      <td>29984.339415</td>\n",
       "    </tr>\n",
       "    <tr>\n",
       "      <th>Heating oil</th>\n",
       "      <td>-0.472361</td>\n",
       "      <td>0.897298</td>\n",
       "      <td>6.0</td>\n",
       "      <td>9784.0</td>\n",
       "      <td>-3.431019</td>\n",
       "      <td>-2.861835</td>\n",
       "      <td>-2.566927</td>\n",
       "      <td>-38886.002839</td>\n",
       "    </tr>\n",
       "    <tr>\n",
       "      <th>Gasoline</th>\n",
       "      <td>-1.347838</td>\n",
       "      <td>0.607012</td>\n",
       "      <td>0.0</td>\n",
       "      <td>9370.0</td>\n",
       "      <td>-3.431048</td>\n",
       "      <td>-2.861849</td>\n",
       "      <td>-2.566934</td>\n",
       "      <td>-36292.772853</td>\n",
       "    </tr>\n",
       "  </tbody>\n",
       "</table>\n",
       "</div>"
      ],
      "text/plain": [
       "                  adf   p_value  used_lag   n_obs   ci_0.01   ci_0.05  \\\n",
       "Crude oil   -1.226533  0.662079       1.0  9788.0 -3.431018 -2.861835   \n",
       "Heating oil -0.472361  0.897298       6.0  9784.0 -3.431019 -2.861835   \n",
       "Gasoline    -1.347838  0.607012       0.0  9370.0 -3.431048 -2.861849   \n",
       "\n",
       "               ci_0.1       ic_best  \n",
       "Crude oil   -2.566927  29984.339415  \n",
       "Heating oil -2.566927 -38886.002839  \n",
       "Gasoline    -2.566934 -36292.772853  "
      ]
     },
     "execution_count": 10,
     "metadata": {},
     "output_type": "execute_result"
    }
   ],
   "source": [
    "pd.concat((\n",
    "    adf(cl_price['1983-04':], autolag='BIC').to_frame().T,\n",
    "    adf(ho_price['1983-04':], autolag='BIC').to_frame().T,\n",
    "    adf(xb_price['1984-12':], autolag='BIC').to_frame().T,\n",
    "))"
   ]
  },
  {
   "cell_type": "code",
   "execution_count": 11,
   "id": "6cda4738",
   "metadata": {
    "execution": {
     "iopub.execute_input": "2022-03-23T06:13:10.669402Z",
     "iopub.status.busy": "2022-03-23T06:13:10.668255Z",
     "iopub.status.idle": "2022-03-23T06:13:18.806215Z",
     "shell.execute_reply": "2022-03-23T06:13:18.809202Z",
     "shell.execute_reply.started": "2021-12-03T06:36:50.823809Z"
    },
    "papermill": {
     "duration": 8.237715,
     "end_time": "2022-03-23T06:13:18.809445",
     "exception": false,
     "start_time": "2022-03-23T06:13:10.571730",
     "status": "completed"
    },
    "tags": []
   },
   "outputs": [
    {
     "data": {
      "text/html": [
       "<div>\n",
       "<style scoped>\n",
       "    .dataframe tbody tr th:only-of-type {\n",
       "        vertical-align: middle;\n",
       "    }\n",
       "\n",
       "    .dataframe tbody tr th {\n",
       "        vertical-align: top;\n",
       "    }\n",
       "\n",
       "    .dataframe thead th {\n",
       "        text-align: right;\n",
       "    }\n",
       "</style>\n",
       "<table border=\"1\" class=\"dataframe\">\n",
       "  <thead>\n",
       "    <tr style=\"text-align: right;\">\n",
       "      <th></th>\n",
       "      <th>adf</th>\n",
       "      <th>p_value</th>\n",
       "      <th>used_lag</th>\n",
       "      <th>n_obs</th>\n",
       "      <th>ci_0.01</th>\n",
       "      <th>ci_0.05</th>\n",
       "      <th>ci_0.1</th>\n",
       "      <th>ic_best</th>\n",
       "    </tr>\n",
       "  </thead>\n",
       "  <tbody>\n",
       "    <tr>\n",
       "      <th>Crude oil</th>\n",
       "      <td>-1.700044</td>\n",
       "      <td>0.431090</td>\n",
       "      <td>28.0</td>\n",
       "      <td>9761.0</td>\n",
       "      <td>-3.431020</td>\n",
       "      <td>-2.861836</td>\n",
       "      <td>-2.566928</td>\n",
       "      <td>29917.134094</td>\n",
       "    </tr>\n",
       "    <tr>\n",
       "      <th>Heating oil</th>\n",
       "      <td>-1.009122</td>\n",
       "      <td>0.749923</td>\n",
       "      <td>36.0</td>\n",
       "      <td>9754.0</td>\n",
       "      <td>-3.431021</td>\n",
       "      <td>-2.861836</td>\n",
       "      <td>-2.566928</td>\n",
       "      <td>-38951.216437</td>\n",
       "    </tr>\n",
       "    <tr>\n",
       "      <th>Gasoline</th>\n",
       "      <td>-1.596326</td>\n",
       "      <td>0.485439</td>\n",
       "      <td>14.0</td>\n",
       "      <td>9356.0</td>\n",
       "      <td>-3.431049</td>\n",
       "      <td>-2.861849</td>\n",
       "      <td>-2.566934</td>\n",
       "      <td>-36324.952343</td>\n",
       "    </tr>\n",
       "  </tbody>\n",
       "</table>\n",
       "</div>"
      ],
      "text/plain": [
       "                  adf   p_value  used_lag   n_obs   ci_0.01   ci_0.05  \\\n",
       "Crude oil   -1.700044  0.431090      28.0  9761.0 -3.431020 -2.861836   \n",
       "Heating oil -1.009122  0.749923      36.0  9754.0 -3.431021 -2.861836   \n",
       "Gasoline    -1.596326  0.485439      14.0  9356.0 -3.431049 -2.861849   \n",
       "\n",
       "               ci_0.1       ic_best  \n",
       "Crude oil   -2.566928  29917.134094  \n",
       "Heating oil -2.566928 -38951.216437  \n",
       "Gasoline    -2.566934 -36324.952343  "
      ]
     },
     "execution_count": 11,
     "metadata": {},
     "output_type": "execute_result"
    }
   ],
   "source": [
    "pd.concat((\n",
    "    adf(cl_price['1983-04':], autolag='AIC').to_frame().T,\n",
    "    adf(ho_price['1983-04':], autolag='AIC').to_frame().T,\n",
    "    adf(xb_price['1984-12':], autolag='AIC').to_frame().T,\n",
    "))"
   ]
  },
  {
   "cell_type": "markdown",
   "id": "eda29bdf",
   "metadata": {
    "papermill": {
     "duration": 0.084559,
     "end_time": "2022-03-23T06:13:18.982070",
     "exception": false,
     "start_time": "2022-03-23T06:13:18.897511",
     "status": "completed"
    },
    "tags": []
   },
   "source": [
    "Test for two unit roots shows the $H_0$ is rejected for all assets so it would be safe to assume prices are all $I(1)$ processes."
   ]
  },
  {
   "cell_type": "code",
   "execution_count": 12,
   "id": "5cc64e78",
   "metadata": {
    "execution": {
     "iopub.execute_input": "2022-03-23T06:13:19.138410Z",
     "iopub.status.busy": "2022-03-23T06:13:19.133273Z",
     "iopub.status.idle": "2022-03-23T06:13:21.140080Z",
     "shell.execute_reply": "2022-03-23T06:13:21.140782Z",
     "shell.execute_reply.started": "2021-12-03T06:36:52.384428Z"
    },
    "papermill": {
     "duration": 2.08548,
     "end_time": "2022-03-23T06:13:21.140990",
     "exception": false,
     "start_time": "2022-03-23T06:13:19.055510",
     "status": "completed"
    },
    "tags": []
   },
   "outputs": [
    {
     "data": {
      "text/html": [
       "<div>\n",
       "<style scoped>\n",
       "    .dataframe tbody tr th:only-of-type {\n",
       "        vertical-align: middle;\n",
       "    }\n",
       "\n",
       "    .dataframe tbody tr th {\n",
       "        vertical-align: top;\n",
       "    }\n",
       "\n",
       "    .dataframe thead th {\n",
       "        text-align: right;\n",
       "    }\n",
       "</style>\n",
       "<table border=\"1\" class=\"dataframe\">\n",
       "  <thead>\n",
       "    <tr style=\"text-align: right;\">\n",
       "      <th></th>\n",
       "      <th>adf</th>\n",
       "      <th>p_value</th>\n",
       "      <th>used_lag</th>\n",
       "      <th>n_obs</th>\n",
       "      <th>ci_0.01</th>\n",
       "      <th>ci_0.05</th>\n",
       "      <th>ci_0.1</th>\n",
       "      <th>ic_best</th>\n",
       "    </tr>\n",
       "  </thead>\n",
       "  <tbody>\n",
       "    <tr>\n",
       "      <th>Crude oil</th>\n",
       "      <td>-22.609167</td>\n",
       "      <td>0.0</td>\n",
       "      <td>7.0</td>\n",
       "      <td>2924.0</td>\n",
       "      <td>-3.432588</td>\n",
       "      <td>-2.862529</td>\n",
       "      <td>-2.567296</td>\n",
       "      <td>4191.382386</td>\n",
       "    </tr>\n",
       "    <tr>\n",
       "      <th>Heating oil</th>\n",
       "      <td>-23.732562</td>\n",
       "      <td>0.0</td>\n",
       "      <td>7.0</td>\n",
       "      <td>2924.0</td>\n",
       "      <td>-3.432588</td>\n",
       "      <td>-2.862529</td>\n",
       "      <td>-2.567296</td>\n",
       "      <td>-15759.438574</td>\n",
       "    </tr>\n",
       "    <tr>\n",
       "      <th>Gasoline</th>\n",
       "      <td>-31.046797</td>\n",
       "      <td>0.0</td>\n",
       "      <td>2.0</td>\n",
       "      <td>2510.0</td>\n",
       "      <td>-3.432958</td>\n",
       "      <td>-2.862692</td>\n",
       "      <td>-2.567383</td>\n",
       "      <td>-13998.959272</td>\n",
       "    </tr>\n",
       "  </tbody>\n",
       "</table>\n",
       "</div>"
      ],
      "text/plain": [
       "                   adf  p_value  used_lag   n_obs   ci_0.01   ci_0.05  \\\n",
       "Crude oil   -22.609167      0.0       7.0  2924.0 -3.432588 -2.862529   \n",
       "Heating oil -23.732562      0.0       7.0  2924.0 -3.432588 -2.862529   \n",
       "Gasoline    -31.046797      0.0       2.0  2510.0 -3.432958 -2.862692   \n",
       "\n",
       "               ci_0.1       ic_best  \n",
       "Crude oil   -2.567296   4191.382386  \n",
       "Heating oil -2.567296 -15759.438574  \n",
       "Gasoline    -2.567383 -13998.959272  "
      ]
     },
     "execution_count": 12,
     "metadata": {},
     "output_type": "execute_result"
    }
   ],
   "source": [
    "pd.concat((\n",
    "    adf(cl_price['1983-04':'1994-11'].diff().dropna(), autolag='BIC').to_frame().T,\n",
    "    adf(ho_price['1983-04':'1994-11'].diff().dropna(), autolag='BIC').to_frame().T,\n",
    "    adf(xb_price['1984-12':'1994-11'].diff().dropna(), autolag='BIC').to_frame().T,\n",
    "))"
   ]
  },
  {
   "cell_type": "markdown",
   "id": "5443698a",
   "metadata": {
    "papermill": {
     "duration": 0.10965,
     "end_time": "2022-03-23T06:13:21.358672",
     "exception": false,
     "start_time": "2022-03-23T06:13:21.249022",
     "status": "completed"
    },
    "tags": []
   },
   "source": [
    "## Engle-Granger test\n",
    "\n",
    "Next, let's check if the crack spread is cointegrated. The cointegration vector is estimated by OLS and the stationarity of the residual is tested with the ADF test.\n",
    "The test is done by the `coint` function in `statsmodels`. (cf. https://www.statsmodels.org/dev/generated/statsmodels.tsa.stattools.coint.html)"
   ]
  },
  {
   "cell_type": "code",
   "execution_count": 13,
   "id": "15663029",
   "metadata": {
    "execution": {
     "iopub.execute_input": "2022-03-23T06:13:21.563877Z",
     "iopub.status.busy": "2022-03-23T06:13:21.562096Z",
     "iopub.status.idle": "2022-03-23T06:13:21.575129Z",
     "shell.execute_reply": "2022-03-23T06:13:21.575614Z",
     "shell.execute_reply.started": "2021-12-03T06:36:53.059490Z"
    },
    "papermill": {
     "duration": 0.117413,
     "end_time": "2022-03-23T06:13:21.575801",
     "exception": false,
     "start_time": "2022-03-23T06:13:21.458388",
     "status": "completed"
    },
    "tags": []
   },
   "outputs": [],
   "source": [
    "price_concat = pd.concat((\n",
    "    cl_price,\n",
    "    ho_price,\n",
    "    xb_price,\n",
    "), axis=1).fillna(method='pad').dropna()"
   ]
  },
  {
   "cell_type": "code",
   "execution_count": 14,
   "id": "cf731a5e",
   "metadata": {
    "execution": {
     "iopub.execute_input": "2022-03-23T06:13:21.743209Z",
     "iopub.status.busy": "2022-03-23T06:13:21.742359Z",
     "iopub.status.idle": "2022-03-23T06:13:21.744315Z",
     "shell.execute_reply": "2022-03-23T06:13:21.744925Z",
     "shell.execute_reply.started": "2021-12-03T06:36:53.085796Z"
    },
    "papermill": {
     "duration": 0.088366,
     "end_time": "2022-03-23T06:13:21.745073",
     "exception": false,
     "start_time": "2022-03-23T06:13:21.656707",
     "status": "completed"
    },
    "tags": []
   },
   "outputs": [],
   "source": [
    "def coint(y: pd.Series, x: pd.DataFrame) -> pd.Series:\n",
    "    \"\"\" Run the cointegration test and return a cleaned result \"\"\"\n",
    "    result = sm.tsa.stattools.coint(y, x)\n",
    "    cleaned = {\n",
    "        't_value': result[0],\n",
    "        'p_value': result[1],\n",
    "        'ci_0.01': result[2][0],\n",
    "        'ci_0.05': result[2][1],\n",
    "        'ci_0.1': result[2][2],\n",
    "    }\n",
    "    return pd.Series(cleaned)"
   ]
  },
  {
   "cell_type": "code",
   "execution_count": 15,
   "id": "4299196b",
   "metadata": {
    "execution": {
     "iopub.execute_input": "2022-03-23T06:13:21.907834Z",
     "iopub.status.busy": "2022-03-23T06:13:21.907273Z",
     "iopub.status.idle": "2022-03-23T06:13:23.986928Z",
     "shell.execute_reply": "2022-03-23T06:13:23.987956Z",
     "shell.execute_reply.started": "2021-12-03T06:36:53.097640Z"
    },
    "papermill": {
     "duration": 2.16775,
     "end_time": "2022-03-23T06:13:23.988173",
     "exception": false,
     "start_time": "2022-03-23T06:13:21.820423",
     "status": "completed"
    },
    "tags": []
   },
   "outputs": [],
   "source": [
    "coint_result = pd.concat((\n",
    "    coint(\n",
    "        price_concat.loc[:'1994-11', 'Crude oil'],\n",
    "        price_concat.loc[:'1994-11', ['Heating oil', 'Gasoline']]\n",
    "    ).to_frame('CL vs HO + XB').T,\n",
    "    coint(\n",
    "        price_concat.loc[:'1994-11', 'Crude oil'],\n",
    "        price_concat.loc[:'1994-11', ['Gasoline']]\n",
    "    ).to_frame('CL vs XB').T,\n",
    "    coint(\n",
    "        price_concat.loc[:'1994-11', 'Crude oil'],\n",
    "        price_concat.loc[:'1994-11', ['Heating oil']]\n",
    "    ).to_frame('CL vs HO').T,\n",
    "))"
   ]
  },
  {
   "cell_type": "markdown",
   "id": "ea294ded",
   "metadata": {
    "papermill": {
     "duration": 0.096346,
     "end_time": "2022-03-23T06:13:24.214260",
     "exception": false,
     "start_time": "2022-03-23T06:13:24.117914",
     "status": "completed"
    },
    "tags": []
   },
   "source": [
    "The $H_0$ is that there is no cointegration. As per GP1999, all three crack spreads are cointegrated. "
   ]
  },
  {
   "cell_type": "code",
   "execution_count": 16,
   "id": "1824345d",
   "metadata": {
    "execution": {
     "iopub.execute_input": "2022-03-23T06:13:24.422835Z",
     "iopub.status.busy": "2022-03-23T06:13:24.422025Z",
     "iopub.status.idle": "2022-03-23T06:13:24.433474Z",
     "shell.execute_reply": "2022-03-23T06:13:24.434116Z",
     "shell.execute_reply.started": "2021-12-03T06:36:54.118494Z"
    },
    "papermill": {
     "duration": 0.118778,
     "end_time": "2022-03-23T06:13:24.434321",
     "exception": false,
     "start_time": "2022-03-23T06:13:24.315543",
     "status": "completed"
    },
    "tags": []
   },
   "outputs": [
    {
     "data": {
      "text/html": [
       "<div>\n",
       "<style scoped>\n",
       "    .dataframe tbody tr th:only-of-type {\n",
       "        vertical-align: middle;\n",
       "    }\n",
       "\n",
       "    .dataframe tbody tr th {\n",
       "        vertical-align: top;\n",
       "    }\n",
       "\n",
       "    .dataframe thead th {\n",
       "        text-align: right;\n",
       "    }\n",
       "</style>\n",
       "<table border=\"1\" class=\"dataframe\">\n",
       "  <thead>\n",
       "    <tr style=\"text-align: right;\">\n",
       "      <th></th>\n",
       "      <th>t_value</th>\n",
       "      <th>p_value</th>\n",
       "      <th>ci_0.01</th>\n",
       "      <th>ci_0.05</th>\n",
       "      <th>ci_0.1</th>\n",
       "    </tr>\n",
       "  </thead>\n",
       "  <tbody>\n",
       "    <tr>\n",
       "      <th>CL vs HO + XB</th>\n",
       "      <td>-6.110715</td>\n",
       "      <td>0.000005</td>\n",
       "      <td>-4.299485</td>\n",
       "      <td>-3.744067</td>\n",
       "      <td>-3.454651</td>\n",
       "    </tr>\n",
       "    <tr>\n",
       "      <th>CL vs XB</th>\n",
       "      <td>-5.762029</td>\n",
       "      <td>0.000005</td>\n",
       "      <td>-3.900800</td>\n",
       "      <td>-3.338561</td>\n",
       "      <td>-3.046137</td>\n",
       "    </tr>\n",
       "    <tr>\n",
       "      <th>CL vs HO</th>\n",
       "      <td>-5.708354</td>\n",
       "      <td>0.000007</td>\n",
       "      <td>-3.900800</td>\n",
       "      <td>-3.338561</td>\n",
       "      <td>-3.046137</td>\n",
       "    </tr>\n",
       "  </tbody>\n",
       "</table>\n",
       "</div>"
      ],
      "text/plain": [
       "                t_value   p_value   ci_0.01   ci_0.05    ci_0.1\n",
       "CL vs HO + XB -6.110715  0.000005 -4.299485 -3.744067 -3.454651\n",
       "CL vs XB      -5.762029  0.000005 -3.900800 -3.338561 -3.046137\n",
       "CL vs HO      -5.708354  0.000007 -3.900800 -3.338561 -3.046137"
      ]
     },
     "execution_count": 16,
     "metadata": {},
     "output_type": "execute_result"
    }
   ],
   "source": [
    "coint_result"
   ]
  },
  {
   "cell_type": "markdown",
   "id": "2f816c06",
   "metadata": {
    "papermill": {
     "duration": 0.095784,
     "end_time": "2022-03-23T06:13:24.626131",
     "exception": false,
     "start_time": "2022-03-23T06:13:24.530347",
     "status": "completed"
    },
    "tags": []
   },
   "source": [
    "This seems to hold with the full sample."
   ]
  },
  {
   "cell_type": "code",
   "execution_count": 17,
   "id": "467771dc",
   "metadata": {
    "execution": {
     "iopub.execute_input": "2022-03-23T06:13:24.808091Z",
     "iopub.status.busy": "2022-03-23T06:13:24.807222Z",
     "iopub.status.idle": "2022-03-23T06:13:34.920633Z",
     "shell.execute_reply": "2022-03-23T06:13:34.921226Z",
     "shell.execute_reply.started": "2021-12-03T06:36:54.136011Z"
    },
    "papermill": {
     "duration": 10.207524,
     "end_time": "2022-03-23T06:13:34.921379",
     "exception": false,
     "start_time": "2022-03-23T06:13:24.713855",
     "status": "completed"
    },
    "tags": []
   },
   "outputs": [
    {
     "data": {
      "text/html": [
       "<div>\n",
       "<style scoped>\n",
       "    .dataframe tbody tr th:only-of-type {\n",
       "        vertical-align: middle;\n",
       "    }\n",
       "\n",
       "    .dataframe tbody tr th {\n",
       "        vertical-align: top;\n",
       "    }\n",
       "\n",
       "    .dataframe thead th {\n",
       "        text-align: right;\n",
       "    }\n",
       "</style>\n",
       "<table border=\"1\" class=\"dataframe\">\n",
       "  <thead>\n",
       "    <tr style=\"text-align: right;\">\n",
       "      <th></th>\n",
       "      <th>t_value</th>\n",
       "      <th>p_value</th>\n",
       "      <th>ci_0.01</th>\n",
       "      <th>ci_0.05</th>\n",
       "      <th>ci_0.1</th>\n",
       "    </tr>\n",
       "  </thead>\n",
       "  <tbody>\n",
       "    <tr>\n",
       "      <th>CL vs HO + XB</th>\n",
       "      <td>-4.745784</td>\n",
       "      <td>2.066518e-03</td>\n",
       "      <td>-4.295280</td>\n",
       "      <td>-3.741574</td>\n",
       "      <td>-3.452843</td>\n",
       "    </tr>\n",
       "    <tr>\n",
       "      <th>CL vs XB</th>\n",
       "      <td>-6.777480</td>\n",
       "      <td>2.875831e-08</td>\n",
       "      <td>-3.897609</td>\n",
       "      <td>-3.336782</td>\n",
       "      <td>-3.044903</td>\n",
       "    </tr>\n",
       "    <tr>\n",
       "      <th>CL vs HO</th>\n",
       "      <td>-4.527103</td>\n",
       "      <td>1.104906e-03</td>\n",
       "      <td>-3.897609</td>\n",
       "      <td>-3.336782</td>\n",
       "      <td>-3.044903</td>\n",
       "    </tr>\n",
       "  </tbody>\n",
       "</table>\n",
       "</div>"
      ],
      "text/plain": [
       "                t_value       p_value   ci_0.01   ci_0.05    ci_0.1\n",
       "CL vs HO + XB -4.745784  2.066518e-03 -4.295280 -3.741574 -3.452843\n",
       "CL vs XB      -6.777480  2.875831e-08 -3.897609 -3.336782 -3.044903\n",
       "CL vs HO      -4.527103  1.104906e-03 -3.897609 -3.336782 -3.044903"
      ]
     },
     "execution_count": 17,
     "metadata": {},
     "output_type": "execute_result"
    }
   ],
   "source": [
    "pd.concat((\n",
    "    coint(\n",
    "        price_concat.loc[:, 'Crude oil'],\n",
    "        price_concat.loc[:, ['Heating oil', 'Gasoline']]\n",
    "    ).to_frame('CL vs HO + XB').T,\n",
    "    coint(\n",
    "        price_concat.loc[:, 'Crude oil'],\n",
    "        price_concat.loc[:, ['Gasoline']]\n",
    "    ).to_frame('CL vs XB').T,\n",
    "    coint(\n",
    "        price_concat.loc[:, 'Crude oil'],\n",
    "        price_concat.loc[:, ['Heating oil']]\n",
    "    ).to_frame('CL vs HO').T,\n",
    "))"
   ]
  },
  {
   "cell_type": "markdown",
   "id": "9107b072",
   "metadata": {
    "papermill": {
     "duration": 0.082765,
     "end_time": "2022-03-23T06:13:35.080415",
     "exception": false,
     "start_time": "2022-03-23T06:13:34.997650",
     "status": "completed"
    },
    "tags": []
   },
   "source": [
    "However the confidence level is somewhat weakend with recent data although they are at least still cointegrated at the 5% level."
   ]
  },
  {
   "cell_type": "code",
   "execution_count": 18,
   "id": "3898183b",
   "metadata": {
    "execution": {
     "iopub.execute_input": "2022-03-23T06:13:35.259872Z",
     "iopub.status.busy": "2022-03-23T06:13:35.252930Z",
     "iopub.status.idle": "2022-03-23T06:13:37.244809Z",
     "shell.execute_reply": "2022-03-23T06:13:37.245644Z",
     "shell.execute_reply.started": "2021-12-03T06:36:58.651001Z"
    },
    "papermill": {
     "duration": 2.080056,
     "end_time": "2022-03-23T06:13:37.245862",
     "exception": false,
     "start_time": "2022-03-23T06:13:35.165806",
     "status": "completed"
    },
    "tags": []
   },
   "outputs": [
    {
     "data": {
      "text/html": [
       "<div>\n",
       "<style scoped>\n",
       "    .dataframe tbody tr th:only-of-type {\n",
       "        vertical-align: middle;\n",
       "    }\n",
       "\n",
       "    .dataframe tbody tr th {\n",
       "        vertical-align: top;\n",
       "    }\n",
       "\n",
       "    .dataframe thead th {\n",
       "        text-align: right;\n",
       "    }\n",
       "</style>\n",
       "<table border=\"1\" class=\"dataframe\">\n",
       "  <thead>\n",
       "    <tr style=\"text-align: right;\">\n",
       "      <th></th>\n",
       "      <th>t_value</th>\n",
       "      <th>p_value</th>\n",
       "      <th>ci_0.01</th>\n",
       "      <th>ci_0.05</th>\n",
       "      <th>ci_0.1</th>\n",
       "    </tr>\n",
       "  </thead>\n",
       "  <tbody>\n",
       "    <tr>\n",
       "      <th>CL vs HO + XB</th>\n",
       "      <td>-3.721651</td>\n",
       "      <td>0.052536</td>\n",
       "      <td>-4.298433</td>\n",
       "      <td>-3.743443</td>\n",
       "      <td>-3.454199</td>\n",
       "    </tr>\n",
       "    <tr>\n",
       "      <th>CL vs XB</th>\n",
       "      <td>-4.811600</td>\n",
       "      <td>0.000360</td>\n",
       "      <td>-3.900002</td>\n",
       "      <td>-3.338116</td>\n",
       "      <td>-3.045828</td>\n",
       "    </tr>\n",
       "    <tr>\n",
       "      <th>CL vs HO</th>\n",
       "      <td>-3.333350</td>\n",
       "      <td>0.050311</td>\n",
       "      <td>-3.900002</td>\n",
       "      <td>-3.338116</td>\n",
       "      <td>-3.045828</td>\n",
       "    </tr>\n",
       "  </tbody>\n",
       "</table>\n",
       "</div>"
      ],
      "text/plain": [
       "                t_value   p_value   ci_0.01   ci_0.05    ci_0.1\n",
       "CL vs HO + XB -3.721651  0.052536 -4.298433 -3.743443 -3.454199\n",
       "CL vs XB      -4.811600  0.000360 -3.900002 -3.338116 -3.045828\n",
       "CL vs HO      -3.333350  0.050311 -3.900002 -3.338116 -3.045828"
      ]
     },
     "execution_count": 18,
     "metadata": {},
     "output_type": "execute_result"
    }
   ],
   "source": [
    "pd.concat((\n",
    "    coint(\n",
    "        price_concat.loc['2010':, 'Crude oil'],\n",
    "        price_concat.loc['2010':, ['Heating oil', 'Gasoline']]\n",
    "    ).to_frame('CL vs HO + XB').T,\n",
    "    coint(\n",
    "        price_concat.loc['2010':, 'Crude oil'],\n",
    "        price_concat.loc['2010':, ['Gasoline']]\n",
    "    ).to_frame('CL vs XB').T,\n",
    "    coint(\n",
    "        price_concat.loc['2010':, 'Crude oil'],\n",
    "        price_concat.loc['2010':, ['Heating oil']]\n",
    "    ).to_frame('CL vs HO').T,\n",
    "))"
   ]
  },
  {
   "cell_type": "markdown",
   "id": "f22325d0",
   "metadata": {
    "papermill": {
     "duration": 0.095048,
     "end_time": "2022-03-23T06:13:37.451480",
     "exception": false,
     "start_time": "2022-03-23T06:13:37.356432",
     "status": "completed"
    },
    "tags": []
   },
   "source": [
    "## Crack spreads\n",
    "\n",
    "Additionally, GP1999 tests the stationarity of the popularly traded crack spread -- 3:2:1 crack spread (CS), 1:1:0 gasoline crack spread (GCS) and 1:0:1 heating oil crack spread (HOCS).\n",
    "\n",
    "Note that the crude oil contract is priced in barrels while the other two are priced in gallon, and there are 42 gallons per 1 barrel. Some unit conversions are required to calculate such spreads."
   ]
  },
  {
   "cell_type": "code",
   "execution_count": 19,
   "id": "015bb3e9",
   "metadata": {
    "execution": {
     "iopub.execute_input": "2022-03-23T06:13:37.652855Z",
     "iopub.status.busy": "2022-03-23T06:13:37.652055Z",
     "iopub.status.idle": "2022-03-23T06:13:37.655701Z",
     "shell.execute_reply": "2022-03-23T06:13:37.656167Z",
     "shell.execute_reply.started": "2021-12-03T06:37:00.212361Z"
    },
    "papermill": {
     "duration": 0.108974,
     "end_time": "2022-03-23T06:13:37.656320",
     "exception": false,
     "start_time": "2022-03-23T06:13:37.547346",
     "status": "completed"
    },
    "tags": []
   },
   "outputs": [],
   "source": [
    "cs = (price_concat['Heating oil'].mul(42).mul(2 / 3) + \n",
    "      price_concat['Gasoline'].mul(42).mul(1 / 3) - \n",
    "      price_concat['Crude oil'])\n",
    "gcs = (price_concat['Gasoline'].mul(42) - \n",
    "       price_concat['Crude oil'])\n",
    "hocs = (price_concat['Heating oil'].mul(42) - \n",
    "        price_concat['Crude oil'])"
   ]
  },
  {
   "cell_type": "markdown",
   "id": "6608463f",
   "metadata": {
    "papermill": {
     "duration": 0.082606,
     "end_time": "2022-03-23T06:13:37.820202",
     "exception": false,
     "start_time": "2022-03-23T06:13:37.737596",
     "status": "completed"
    },
    "tags": []
   },
   "source": [
    "As can be seen visually below, these spreads appear stationary until around 2000 after which they started to drift away from a certain level. This could be related to the financialisation of commodities. There are some evidence suggesting that index investments and speculative trades influence the commodity markets. (cf https://www.ecb.europa.eu/pub/financial-stability/fsr/focus/2011/pdf/ecb~6fdfdfce1c.fsrbox201112_04.pdf)"
   ]
  },
  {
   "cell_type": "code",
   "execution_count": 20,
   "id": "0b27db24",
   "metadata": {
    "execution": {
     "iopub.execute_input": "2022-03-23T06:13:38.010941Z",
     "iopub.status.busy": "2022-03-23T06:13:38.008724Z",
     "iopub.status.idle": "2022-03-23T06:13:38.881192Z",
     "shell.execute_reply": "2022-03-23T06:13:38.881859Z",
     "shell.execute_reply.started": "2021-12-03T06:37:00.228669Z"
    },
    "papermill": {
     "duration": 0.972692,
     "end_time": "2022-03-23T06:13:38.882059",
     "exception": false,
     "start_time": "2022-03-23T06:13:37.909367",
     "status": "completed"
    },
    "tags": []
   },
   "outputs": [
    {
     "data": {
      "image/png": "[encoded data removed]",
      "text/plain": [
       "<Figure size 864x288 with 3 Axes>"
      ]
     },
     "metadata": {
      "needs_background": "light"
     },
     "output_type": "display_data"
    }
   ],
   "source": [
    "fig, ax = plt.subplots(1, 3, figsize=(12, 4), sharey=True)\n",
    "cs.plot(ax=ax[0])\n",
    "gcs.plot(ax=ax[1])\n",
    "hocs.plot(ax=ax[2])\n",
    "\n",
    "ax[0].set_title('3:2:1 crack spread')\n",
    "ax[1].set_title('1:1:0 gasoline crack spread')\n",
    "ax[2].set_title('1:0:1 heating oil crack spread')\n",
    "ax[0].set_ylabel('Crack spread ($)')\n",
    "\n",
    "fig.tight_layout();"
   ]
  },
  {
   "cell_type": "markdown",
   "id": "ddba6b40",
   "metadata": {
    "papermill": {
     "duration": 0.084246,
     "end_time": "2022-03-23T06:13:39.064933",
     "exception": false,
     "start_time": "2022-03-23T06:13:38.980687",
     "status": "completed"
    },
    "tags": []
   },
   "source": [
    "More formally, the ADF tests below show that they were stationary until Nov-1994."
   ]
  },
  {
   "cell_type": "code",
   "execution_count": 21,
   "id": "bd58dd0b",
   "metadata": {
    "execution": {
     "iopub.execute_input": "2022-03-23T06:13:39.248924Z",
     "iopub.status.busy": "2022-03-23T06:13:39.248054Z",
     "iopub.status.idle": "2022-03-23T06:13:40.573683Z",
     "shell.execute_reply": "2022-03-23T06:13:40.574292Z",
     "shell.execute_reply.started": "2021-12-03T06:37:00.926032Z"
    },
    "papermill": {
     "duration": 1.421544,
     "end_time": "2022-03-23T06:13:40.574489",
     "exception": false,
     "start_time": "2022-03-23T06:13:39.152945",
     "status": "completed"
    },
    "tags": []
   },
   "outputs": [
    {
     "data": {
      "text/html": [
       "<div>\n",
       "<style scoped>\n",
       "    .dataframe tbody tr th:only-of-type {\n",
       "        vertical-align: middle;\n",
       "    }\n",
       "\n",
       "    .dataframe tbody tr th {\n",
       "        vertical-align: top;\n",
       "    }\n",
       "\n",
       "    .dataframe thead th {\n",
       "        text-align: right;\n",
       "    }\n",
       "</style>\n",
       "<table border=\"1\" class=\"dataframe\">\n",
       "  <thead>\n",
       "    <tr style=\"text-align: right;\">\n",
       "      <th></th>\n",
       "      <th>adf</th>\n",
       "      <th>p_value</th>\n",
       "      <th>used_lag</th>\n",
       "      <th>n_obs</th>\n",
       "      <th>ci_0.01</th>\n",
       "      <th>ci_0.05</th>\n",
       "      <th>ci_0.1</th>\n",
       "      <th>ic_best</th>\n",
       "    </tr>\n",
       "  </thead>\n",
       "  <tbody>\n",
       "    <tr>\n",
       "      <th>0</th>\n",
       "      <td>-7.926287</td>\n",
       "      <td>3.611421e-12</td>\n",
       "      <td>0.0</td>\n",
       "      <td>2515.0</td>\n",
       "      <td>-3.432953</td>\n",
       "      <td>-2.86269</td>\n",
       "      <td>-2.567382</td>\n",
       "      <td>1757.165999</td>\n",
       "    </tr>\n",
       "    <tr>\n",
       "      <th>0</th>\n",
       "      <td>-5.640046</td>\n",
       "      <td>1.041538e-06</td>\n",
       "      <td>1.0</td>\n",
       "      <td>2514.0</td>\n",
       "      <td>-3.432954</td>\n",
       "      <td>-2.86269</td>\n",
       "      <td>-2.567382</td>\n",
       "      <td>2505.871051</td>\n",
       "    </tr>\n",
       "    <tr>\n",
       "      <th>0</th>\n",
       "      <td>-6.999952</td>\n",
       "      <td>7.365777e-10</td>\n",
       "      <td>0.0</td>\n",
       "      <td>2515.0</td>\n",
       "      <td>-3.432953</td>\n",
       "      <td>-2.86269</td>\n",
       "      <td>-2.567382</td>\n",
       "      <td>2815.457971</td>\n",
       "    </tr>\n",
       "  </tbody>\n",
       "</table>\n",
       "</div>"
      ],
      "text/plain": [
       "        adf       p_value  used_lag   n_obs   ci_0.01  ci_0.05    ci_0.1  \\\n",
       "0 -7.926287  3.611421e-12       0.0  2515.0 -3.432953 -2.86269 -2.567382   \n",
       "0 -5.640046  1.041538e-06       1.0  2514.0 -3.432954 -2.86269 -2.567382   \n",
       "0 -6.999952  7.365777e-10       0.0  2515.0 -3.432953 -2.86269 -2.567382   \n",
       "\n",
       "       ic_best  \n",
       "0  1757.165999  \n",
       "0  2505.871051  \n",
       "0  2815.457971  "
      ]
     },
     "execution_count": 21,
     "metadata": {},
     "output_type": "execute_result"
    }
   ],
   "source": [
    "pd.concat((\n",
    "    adf(cs[:'1994-11'], autolag='BIC').to_frame().T,\n",
    "    adf(gcs[:'1994-11'], autolag='BIC').to_frame().T,\n",
    "    adf(hocs[:'1994-11'], autolag='BIC').to_frame().T,\n",
    "))"
   ]
  },
  {
   "cell_type": "markdown",
   "id": "6e2c8692",
   "metadata": {
    "papermill": {
     "duration": 0.108471,
     "end_time": "2022-03-23T06:13:40.803909",
     "exception": false,
     "start_time": "2022-03-23T06:13:40.695438",
     "status": "completed"
    },
    "tags": []
   },
   "source": [
    "Statistically though these spreads are still stationary at the 1% confidence level even after 2000."
   ]
  },
  {
   "cell_type": "code",
   "execution_count": 22,
   "id": "d3f9d7a9",
   "metadata": {
    "execution": {
     "iopub.execute_input": "2022-03-23T06:13:40.989967Z",
     "iopub.status.busy": "2022-03-23T06:13:40.989236Z",
     "iopub.status.idle": "2022-03-23T06:13:43.894511Z",
     "shell.execute_reply": "2022-03-23T06:13:43.897031Z",
     "shell.execute_reply.started": "2021-12-03T06:37:01.658276Z"
    },
    "papermill": {
     "duration": 3.003463,
     "end_time": "2022-03-23T06:13:43.897331",
     "exception": false,
     "start_time": "2022-03-23T06:13:40.893868",
     "status": "completed"
    },
    "tags": []
   },
   "outputs": [
    {
     "data": {
      "text/html": [
       "<div>\n",
       "<style scoped>\n",
       "    .dataframe tbody tr th:only-of-type {\n",
       "        vertical-align: middle;\n",
       "    }\n",
       "\n",
       "    .dataframe tbody tr th {\n",
       "        vertical-align: top;\n",
       "    }\n",
       "\n",
       "    .dataframe thead th {\n",
       "        text-align: right;\n",
       "    }\n",
       "</style>\n",
       "<table border=\"1\" class=\"dataframe\">\n",
       "  <thead>\n",
       "    <tr style=\"text-align: right;\">\n",
       "      <th></th>\n",
       "      <th>adf</th>\n",
       "      <th>p_value</th>\n",
       "      <th>used_lag</th>\n",
       "      <th>n_obs</th>\n",
       "      <th>ci_0.01</th>\n",
       "      <th>ci_0.05</th>\n",
       "      <th>ci_0.1</th>\n",
       "      <th>ic_best</th>\n",
       "    </tr>\n",
       "  </thead>\n",
       "  <tbody>\n",
       "    <tr>\n",
       "      <th>0</th>\n",
       "      <td>-2.312964</td>\n",
       "      <td>0.167821</td>\n",
       "      <td>6.0</td>\n",
       "      <td>5574.0</td>\n",
       "      <td>-3.431524</td>\n",
       "      <td>-2.862059</td>\n",
       "      <td>-2.567046</td>\n",
       "      <td>14110.585131</td>\n",
       "    </tr>\n",
       "    <tr>\n",
       "      <th>0</th>\n",
       "      <td>-5.227401</td>\n",
       "      <td>0.000008</td>\n",
       "      <td>0.0</td>\n",
       "      <td>5580.0</td>\n",
       "      <td>-3.431522</td>\n",
       "      <td>-2.862058</td>\n",
       "      <td>-2.567046</td>\n",
       "      <td>17509.224463</td>\n",
       "    </tr>\n",
       "    <tr>\n",
       "      <th>0</th>\n",
       "      <td>-2.069041</td>\n",
       "      <td>0.257144</td>\n",
       "      <td>6.0</td>\n",
       "      <td>5574.0</td>\n",
       "      <td>-3.431524</td>\n",
       "      <td>-2.862059</td>\n",
       "      <td>-2.567046</td>\n",
       "      <td>15353.693151</td>\n",
       "    </tr>\n",
       "  </tbody>\n",
       "</table>\n",
       "</div>"
      ],
      "text/plain": [
       "        adf   p_value  used_lag   n_obs   ci_0.01   ci_0.05    ci_0.1  \\\n",
       "0 -2.312964  0.167821       6.0  5574.0 -3.431524 -2.862059 -2.567046   \n",
       "0 -5.227401  0.000008       0.0  5580.0 -3.431522 -2.862058 -2.567046   \n",
       "0 -2.069041  0.257144       6.0  5574.0 -3.431524 -2.862059 -2.567046   \n",
       "\n",
       "        ic_best  \n",
       "0  14110.585131  \n",
       "0  17509.224463  \n",
       "0  15353.693151  "
      ]
     },
     "execution_count": 22,
     "metadata": {},
     "output_type": "execute_result"
    }
   ],
   "source": [
    "pd.concat((\n",
    "    adf(cs['2000':], autolag='BIC').to_frame().T,\n",
    "    adf(gcs['2000':], autolag='BIC').to_frame().T,\n",
    "    adf(hocs['2000':], autolag='BIC').to_frame().T,\n",
    "))"
   ]
  },
  {
   "cell_type": "markdown",
   "id": "eb6c197c",
   "metadata": {
    "papermill": {
     "duration": 0.081003,
     "end_time": "2022-03-23T06:13:44.074978",
     "exception": false,
     "start_time": "2022-03-23T06:13:43.993975",
     "status": "completed"
    },
    "tags": []
   },
   "source": [
    "# Backtest"
   ]
  },
  {
   "cell_type": "markdown",
   "id": "4bbb1506",
   "metadata": {
    "papermill": {
     "duration": 0.08102,
     "end_time": "2022-03-23T06:13:44.238525",
     "exception": false,
     "start_time": "2022-03-23T06:13:44.157505",
     "status": "completed"
    },
    "tags": []
   },
   "source": [
    "It's not entirely clear how many back contracts are used in the original analysis as they only mentioned they used *all spreads*. In this notebook, the first 6 contracts are used for the sake of simplicity. Beyond 6, there tends to be more missing prices because of inactivity.\n",
    "\n",
    "In practice, one might want to consider liquidity of each contract to decide which one to trade as not all contract months have the same liquidity. In the case of crude oil, after certain points only June and December contracts are actually traded even though other months are listed."
   ]
  },
  {
   "cell_type": "code",
   "execution_count": 23,
   "id": "4aebb8bd",
   "metadata": {
    "execution": {
     "iopub.execute_input": "2022-03-23T06:13:44.421024Z",
     "iopub.status.busy": "2022-03-23T06:13:44.420461Z",
     "iopub.status.idle": "2022-03-23T06:13:45.260732Z",
     "shell.execute_reply": "2022-03-23T06:13:45.261223Z",
     "shell.execute_reply.started": "2021-12-03T06:37:02.717053Z"
    },
    "papermill": {
     "duration": 0.934073,
     "end_time": "2022-03-23T06:13:45.261385",
     "exception": false,
     "start_time": "2022-03-23T06:13:44.327312",
     "status": "completed"
    },
    "tags": []
   },
   "outputs": [],
   "source": [
    "cl_curve = get_futures_curve_snapshot('CL', datetime(2021, 12, 1), 'volume')"
   ]
  },
  {
   "cell_type": "code",
   "execution_count": 24,
   "id": "c2bd035a",
   "metadata": {
    "execution": {
     "iopub.execute_input": "2022-03-23T06:13:45.449107Z",
     "iopub.status.busy": "2022-03-23T06:13:45.439640Z",
     "iopub.status.idle": "2022-03-23T06:13:46.064669Z",
     "shell.execute_reply": "2022-03-23T06:13:46.065279Z",
     "shell.execute_reply.started": "2021-12-03T06:37:03.317876Z"
    },
    "papermill": {
     "duration": 0.716621,
     "end_time": "2022-03-23T06:13:46.065457",
     "exception": false,
     "start_time": "2022-03-23T06:13:45.348836",
     "status": "completed"
    },
    "tags": []
   },
   "outputs": [
    {
     "data": {
      "image/png": "[encoded data removed]",
      "text/plain": [
       "<Figure size 1008x216 with 1 Axes>"
      ]
     },
     "metadata": {
      "needs_background": "light"
     },
     "output_type": "display_data"
    }
   ],
   "source": [
    "ax = cl_curve.loc[:'2024'].set_index('symbol')['volume'].plot(kind='bar', figsize=(14, 3));\n",
    "ax.set_ylabel('Volume')\n",
    "ax.set_title('Crude oil traded volume per contract');"
   ]
  },
  {
   "cell_type": "markdown",
   "id": "9de6acec",
   "metadata": {
    "papermill": {
     "duration": 0.086552,
     "end_time": "2022-03-23T06:13:46.240854",
     "exception": false,
     "start_time": "2022-03-23T06:13:46.154302",
     "status": "completed"
    },
    "tags": []
   },
   "source": [
    "## Crack spread\n",
    "\n",
    "First define the instruments. `roll_rule` is defined to make sure futures are rolled on month-ends. As per the analysis done for crush spreads, some arbitrary collateral of 100k USD is used to meature futures returns."
   ]
  },
  {
   "cell_type": "code",
   "execution_count": 25,
   "id": "5d159539",
   "metadata": {
    "execution": {
     "iopub.execute_input": "2022-03-23T06:13:46.425275Z",
     "iopub.status.busy": "2022-03-23T06:13:46.424545Z",
     "iopub.status.idle": "2022-03-23T06:13:46.426016Z",
     "shell.execute_reply": "2022-03-23T06:13:46.426509Z",
     "shell.execute_reply.started": "2021-12-03T06:37:03.702667Z"
    },
    "papermill": {
     "duration": 0.097322,
     "end_time": "2022-03-23T06:13:46.426685",
     "exception": false,
     "start_time": "2022-03-23T06:13:46.329363",
     "status": "completed"
    },
    "tags": []
   },
   "outputs": [],
   "source": [
    "max_expiry = 6\n",
    "instrument = []\n",
    "for i in range(1, max_expiry + 1):\n",
    "    ho = InstrumentDef('HO', id=f'HO_{i}', collateral=100_000, roll_rule=RollRule.MONTH_END.value, nth_expiry=i)\n",
    "    xb = InstrumentDef('XB', id=f'XB_{i}', collateral=100_000, roll_rule=RollRule.MONTH_END.value, nth_expiry=i)\n",
    "    cl = InstrumentDef('CL', id=f'CL_{i}', collateral=100_000, roll_rule=RollRule.MONTH_END.value, nth_expiry=i)\n",
    "    instrument.append(ho)\n",
    "    instrument.append(xb)\n",
    "    instrument.append(cl)"
   ]
  },
  {
   "cell_type": "code",
   "execution_count": 26,
   "id": "19851a3b",
   "metadata": {
    "execution": {
     "iopub.execute_input": "2022-03-23T06:13:46.605916Z",
     "iopub.status.busy": "2022-03-23T06:13:46.604973Z",
     "iopub.status.idle": "2022-03-23T06:13:46.608203Z",
     "shell.execute_reply": "2022-03-23T06:13:46.608855Z",
     "shell.execute_reply.started": "2021-12-03T06:37:03.708075Z"
    },
    "papermill": {
     "duration": 0.097339,
     "end_time": "2022-03-23T06:13:46.609051",
     "exception": false,
     "start_time": "2022-03-23T06:13:46.511712",
     "status": "completed"
    },
    "tags": []
   },
   "outputs": [
    {
     "data": {
      "text/plain": [
       "18"
      ]
     },
     "execution_count": 26,
     "metadata": {},
     "output_type": "execute_result"
    }
   ],
   "source": [
    "len(instrument)"
   ]
  },
  {
   "cell_type": "code",
   "execution_count": 27,
   "id": "729399c3",
   "metadata": {
    "execution": {
     "iopub.execute_input": "2022-03-23T06:13:46.802159Z",
     "iopub.status.busy": "2022-03-23T06:13:46.801299Z",
     "iopub.status.idle": "2022-03-23T06:20:46.460915Z",
     "shell.execute_reply": "2022-03-23T06:20:46.461727Z",
     "shell.execute_reply.started": "2021-12-03T06:37:03.728155Z"
    },
    "papermill": {
     "duration": 419.766844,
     "end_time": "2022-03-23T06:20:46.461961",
     "exception": false,
     "start_time": "2022-03-23T06:13:46.695117",
     "status": "completed"
    },
    "tags": []
   },
   "outputs": [],
   "source": [
    "engine_cs = BacktestEngine(\n",
    "    start_date=datetime(1985, 1, 1),\n",
    "    strategy=Strategy.DELTA_ONE.value,\n",
    "    instrument=instrument,\n",
    "    signal=signal.CrackSpreadGP1999(\n",
    "        ma_lookback=5,\n",
    "        entry_sigma=2,\n",
    "    ),\n",
    "    weighting=Weighting.SUM.value,\n",
    "    log_level=logging.WARN,\n",
    ")\n",
    "engine_cs.run()"
   ]
  },
  {
   "cell_type": "code",
   "execution_count": 28,
   "id": "f08e3ad6",
   "metadata": {
    "execution": {
     "iopub.execute_input": "2022-03-23T06:20:46.719925Z",
     "iopub.status.busy": "2022-03-23T06:20:46.719375Z",
     "iopub.status.idle": "2022-03-23T06:22:28.584595Z",
     "shell.execute_reply": "2022-03-23T06:22:28.583709Z",
     "shell.execute_reply.started": "2021-12-03T06:42:16.903750Z"
    },
    "papermill": {
     "duration": 102.012354,
     "end_time": "2022-03-23T06:22:28.584798",
     "exception": false,
     "start_time": "2022-03-23T06:20:46.572444",
     "status": "completed"
    },
    "tags": []
   },
   "outputs": [],
   "source": [
    "levels_cs = engine_cs.calculate_equity_curve(calculate_net=False).rename('Crack spread')"
   ]
  },
  {
   "cell_type": "markdown",
   "id": "46f2eaf9",
   "metadata": {
    "papermill": {
     "duration": 0.088371,
     "end_time": "2022-03-23T06:22:28.763505",
     "exception": false,
     "start_time": "2022-03-23T06:22:28.675134",
     "status": "completed"
    },
    "tags": []
   },
   "source": [
    "## Gasoline crack spread"
   ]
  },
  {
   "cell_type": "code",
   "execution_count": 29,
   "id": "ea2825c3",
   "metadata": {
    "execution": {
     "iopub.execute_input": "2022-03-23T06:22:28.946505Z",
     "iopub.status.busy": "2022-03-23T06:22:28.945447Z",
     "iopub.status.idle": "2022-03-23T06:22:28.947498Z",
     "shell.execute_reply": "2022-03-23T06:22:28.948224Z",
     "shell.execute_reply.started": "2021-12-03T06:43:30.816159Z"
    },
    "papermill": {
     "duration": 0.099725,
     "end_time": "2022-03-23T06:22:28.948484",
     "exception": false,
     "start_time": "2022-03-23T06:22:28.848759",
     "status": "completed"
    },
    "tags": []
   },
   "outputs": [],
   "source": [
    "max_expiry = 6\n",
    "instrument = []\n",
    "for i in range(1, max_expiry + 1):\n",
    "    xb = InstrumentDef('XB', id=f'XB_{i}', collateral=100_000, roll_rule=RollRule.MONTH_END.value, nth_expiry=i)\n",
    "    cl = InstrumentDef('CL', id=f'CL_{i}', collateral=100_000, roll_rule=RollRule.MONTH_END.value, nth_expiry=i)\n",
    "    instrument.append(xb)\n",
    "    instrument.append(cl)"
   ]
  },
  {
   "cell_type": "code",
   "execution_count": 30,
   "id": "553fbe4b",
   "metadata": {
    "execution": {
     "iopub.execute_input": "2022-03-23T06:22:29.175594Z",
     "iopub.status.busy": "2022-03-23T06:22:29.174524Z",
     "iopub.status.idle": "2022-03-23T06:27:14.957978Z",
     "shell.execute_reply": "2022-03-23T06:27:14.958456Z",
     "shell.execute_reply.started": "2021-12-03T06:43:30.820603Z"
    },
    "papermill": {
     "duration": 285.903057,
     "end_time": "2022-03-23T06:27:14.958617",
     "exception": false,
     "start_time": "2022-03-23T06:22:29.055560",
     "status": "completed"
    },
    "tags": []
   },
   "outputs": [],
   "source": [
    "engine_gcs = BacktestEngine(\n",
    "    start_date=datetime(1985, 1, 1),\n",
    "    strategy=Strategy.DELTA_ONE.value,\n",
    "    instrument=instrument,\n",
    "    signal=signal.CrackSpreadGP1999(\n",
    "        weights={'XB': 42 * 1000, 'CL': -1 * 1000},\n",
    "        ma_lookback=5,\n",
    "        entry_sigma=2,\n",
    "    ),\n",
    "    weighting=Weighting.SUM.value,\n",
    "    log_level=logging.WARN,\n",
    ")\n",
    "engine_gcs.run()"
   ]
  },
  {
   "cell_type": "code",
   "execution_count": 31,
   "id": "4d87519a",
   "metadata": {
    "execution": {
     "iopub.execute_input": "2022-03-23T06:27:15.215317Z",
     "iopub.status.busy": "2022-03-23T06:27:15.214604Z",
     "iopub.status.idle": "2022-03-23T06:28:19.818614Z",
     "shell.execute_reply": "2022-03-23T06:28:19.819071Z",
     "shell.execute_reply.started": "2021-12-03T06:46:36.439575Z"
    },
    "papermill": {
     "duration": 64.770897,
     "end_time": "2022-03-23T06:28:19.819217",
     "exception": false,
     "start_time": "2022-03-23T06:27:15.048320",
     "status": "completed"
    },
    "tags": []
   },
   "outputs": [],
   "source": [
    "levels_gcs = engine_gcs.calculate_equity_curve(calculate_net=False).rename('Gasoline crack spread')"
   ]
  },
  {
   "cell_type": "markdown",
   "id": "8d456942",
   "metadata": {
    "papermill": {
     "duration": 0.088217,
     "end_time": "2022-03-23T06:28:19.991370",
     "exception": false,
     "start_time": "2022-03-23T06:28:19.903153",
     "status": "completed"
    },
    "tags": []
   },
   "source": [
    "## Heating oil crack spread"
   ]
  },
  {
   "cell_type": "code",
   "execution_count": 32,
   "id": "9cb7c150",
   "metadata": {
    "execution": {
     "iopub.execute_input": "2022-03-23T06:28:20.184245Z",
     "iopub.status.busy": "2022-03-23T06:28:20.183377Z",
     "iopub.status.idle": "2022-03-23T06:28:20.185619Z",
     "shell.execute_reply": "2022-03-23T06:28:20.186294Z",
     "shell.execute_reply.started": "2021-12-03T06:47:22.681997Z"
    },
    "papermill": {
     "duration": 0.098759,
     "end_time": "2022-03-23T06:28:20.186496",
     "exception": false,
     "start_time": "2022-03-23T06:28:20.087737",
     "status": "completed"
    },
    "tags": []
   },
   "outputs": [],
   "source": [
    "max_expiry = 6\n",
    "instrument = []\n",
    "for i in range(1, max_expiry + 1):\n",
    "    ho = InstrumentDef('HO', id=f'HO_{i}', collateral=100_000, roll_rule=RollRule.MONTH_END.value, nth_expiry=i)\n",
    "    cl = InstrumentDef('CL', id=f'CL_{i}', collateral=100_000, roll_rule=RollRule.MONTH_END.value, nth_expiry=i)\n",
    "    instrument.append(ho)\n",
    "    instrument.append(cl)"
   ]
  },
  {
   "cell_type": "code",
   "execution_count": 33,
   "id": "9338a131",
   "metadata": {
    "execution": {
     "iopub.execute_input": "2022-03-23T06:28:20.376917Z",
     "iopub.status.busy": "2022-03-23T06:28:20.376250Z",
     "iopub.status.idle": "2022-03-23T06:33:08.154977Z",
     "shell.execute_reply": "2022-03-23T06:33:08.154311Z",
     "shell.execute_reply.started": "2021-12-03T06:47:22.686616Z"
    },
    "papermill": {
     "duration": 287.874053,
     "end_time": "2022-03-23T06:33:08.155153",
     "exception": false,
     "start_time": "2022-03-23T06:28:20.281100",
     "status": "completed"
    },
    "tags": []
   },
   "outputs": [],
   "source": [
    "engine_hocs = BacktestEngine(\n",
    "    start_date=datetime(1985, 1, 1),\n",
    "    strategy=Strategy.DELTA_ONE.value,\n",
    "    instrument=instrument,\n",
    "    signal=signal.CrackSpreadGP1999(\n",
    "        weights={'HO': 42 * 1000, 'CL': -1 * 1000},\n",
    "        ma_lookback=5,\n",
    "        entry_sigma=2,\n",
    "    ),\n",
    "    weighting=Weighting.SUM.value,\n",
    "    log_level=logging.WARN,\n",
    ")\n",
    "engine_hocs.run()"
   ]
  },
  {
   "cell_type": "code",
   "execution_count": 34,
   "id": "64757694",
   "metadata": {
    "execution": {
     "iopub.execute_input": "2022-03-23T06:33:08.347104Z",
     "iopub.status.busy": "2022-03-23T06:33:08.346374Z",
     "iopub.status.idle": "2022-03-23T06:34:15.178105Z",
     "shell.execute_reply": "2022-03-23T06:34:15.178665Z",
     "shell.execute_reply.started": "2021-12-03T06:50:35.660726Z"
    },
    "papermill": {
     "duration": 66.931959,
     "end_time": "2022-03-23T06:34:15.178832",
     "exception": false,
     "start_time": "2022-03-23T06:33:08.246873",
     "status": "completed"
    },
    "tags": []
   },
   "outputs": [],
   "source": [
    "levels_hocs = engine_hocs.calculate_equity_curve(calculate_net=False).rename('Heating oil crack spread')"
   ]
  },
  {
   "cell_type": "markdown",
   "id": "7d427481",
   "metadata": {
    "papermill": {
     "duration": 0.079697,
     "end_time": "2022-03-23T06:34:15.342012",
     "exception": false,
     "start_time": "2022-03-23T06:34:15.262315",
     "status": "completed"
    },
    "tags": []
   },
   "source": [
    "## Performance\n",
    "During the sample period tested, a mean-reversion on the crack spread worked well."
   ]
  },
  {
   "cell_type": "code",
   "execution_count": 35,
   "id": "348f0796",
   "metadata": {
    "execution": {
     "iopub.execute_input": "2022-03-23T06:34:15.515071Z",
     "iopub.status.busy": "2022-03-23T06:34:15.513994Z",
     "iopub.status.idle": "2022-03-23T06:34:15.524233Z",
     "shell.execute_reply": "2022-03-23T06:34:15.524687Z",
     "shell.execute_reply.started": "2021-12-03T06:51:19.449738Z"
    },
    "papermill": {
     "duration": 0.10072,
     "end_time": "2022-03-23T06:34:15.524855",
     "exception": false,
     "start_time": "2022-03-23T06:34:15.424135",
     "status": "completed"
    },
    "tags": []
   },
   "outputs": [],
   "source": [
    "levels = pd.concat((\n",
    "    levels_cs, levels_gcs, levels_hocs\n",
    "), axis=1)"
   ]
  },
  {
   "cell_type": "code",
   "execution_count": 36,
   "id": "c3b6f7cd",
   "metadata": {
    "execution": {
     "iopub.execute_input": "2022-03-23T06:34:15.719492Z",
     "iopub.status.busy": "2022-03-23T06:34:15.718944Z",
     "iopub.status.idle": "2022-03-23T06:34:16.625315Z",
     "shell.execute_reply": "2022-03-23T06:34:16.625876Z",
     "shell.execute_reply.started": "2021-12-03T06:51:19.460778Z"
    },
    "papermill": {
     "duration": 1.009879,
     "end_time": "2022-03-23T06:34:16.626059",
     "exception": false,
     "start_time": "2022-03-23T06:34:15.616180",
     "status": "completed"
    },
    "tags": []
   },
   "outputs": [
    {
     "data": {
      "image/png": "[encoded data removed]",
      "text/plain": [
       "<Figure size 576x324 with 1 Axes>"
      ]
     },
     "metadata": {
      "needs_background": "light"
     },
     "output_type": "display_data"
    }
   ],
   "source": [
    "fig, ax = plt.subplots(figsize=(8, 4.5))\n",
    "levels[:'1994-11'].plot(ax=ax, logy=True);\n",
    "ax.set_title('Crack spreads mean-reversion (GP1999)')\n",
    "ax.set_ylabel('Cumulative returns');"
   ]
  },
  {
   "cell_type": "code",
   "execution_count": 37,
   "id": "8b9035a4",
   "metadata": {
    "execution": {
     "iopub.execute_input": "2022-03-23T06:34:16.815237Z",
     "iopub.status.busy": "2022-03-23T06:34:16.814587Z",
     "iopub.status.idle": "2022-03-23T06:34:16.868945Z",
     "shell.execute_reply": "2022-03-23T06:34:16.868405Z",
     "shell.execute_reply.started": "2021-12-03T06:51:20.052589Z"
    },
    "papermill": {
     "duration": 0.150379,
     "end_time": "2022-03-23T06:34:16.869062",
     "exception": false,
     "start_time": "2022-03-23T06:34:16.718683",
     "status": "completed"
    },
    "tags": []
   },
   "outputs": [
    {
     "data": {
      "text/html": [
       "<div>\n",
       "<style scoped>\n",
       "    .dataframe tbody tr th:only-of-type {\n",
       "        vertical-align: middle;\n",
       "    }\n",
       "\n",
       "    .dataframe tbody tr th {\n",
       "        vertical-align: top;\n",
       "    }\n",
       "\n",
       "    .dataframe thead th {\n",
       "        text-align: right;\n",
       "    }\n",
       "</style>\n",
       "<table border=\"1\" class=\"dataframe\">\n",
       "  <thead>\n",
       "    <tr style=\"text-align: right;\">\n",
       "      <th></th>\n",
       "      <th>Crack spread</th>\n",
       "      <th>Gasoline crack spread</th>\n",
       "      <th>Heating oil crack spread</th>\n",
       "    </tr>\n",
       "  </thead>\n",
       "  <tbody>\n",
       "    <tr>\n",
       "      <th>CAGR</th>\n",
       "      <td>0.014100</td>\n",
       "      <td>0.007241</td>\n",
       "      <td>0.011715</td>\n",
       "    </tr>\n",
       "    <tr>\n",
       "      <th>Annualised vol</th>\n",
       "      <td>0.018131</td>\n",
       "      <td>0.022948</td>\n",
       "      <td>0.017725</td>\n",
       "    </tr>\n",
       "    <tr>\n",
       "      <th>Sharpe ratio</th>\n",
       "      <td>0.777675</td>\n",
       "      <td>0.315525</td>\n",
       "      <td>0.660914</td>\n",
       "    </tr>\n",
       "    <tr>\n",
       "      <th>Max drawdown</th>\n",
       "      <td>0.071648</td>\n",
       "      <td>0.129760</td>\n",
       "      <td>0.044562</td>\n",
       "    </tr>\n",
       "    <tr>\n",
       "      <th>Calmar ratio</th>\n",
       "      <td>0.196791</td>\n",
       "      <td>0.055800</td>\n",
       "      <td>0.262889</td>\n",
       "    </tr>\n",
       "    <tr>\n",
       "      <th>Skewness</th>\n",
       "      <td>0.791950</td>\n",
       "      <td>4.373877</td>\n",
       "      <td>2.076780</td>\n",
       "    </tr>\n",
       "    <tr>\n",
       "      <th>Kurtosis</th>\n",
       "      <td>45.874931</td>\n",
       "      <td>200.909353</td>\n",
       "      <td>75.098364</td>\n",
       "    </tr>\n",
       "    <tr>\n",
       "      <th>Worst return</th>\n",
       "      <td>-0.012272</td>\n",
       "      <td>-0.022322</td>\n",
       "      <td>-0.013000</td>\n",
       "    </tr>\n",
       "    <tr>\n",
       "      <th>Worst 1d return</th>\n",
       "      <td>-0.012272</td>\n",
       "      <td>-0.022322</td>\n",
       "      <td>-0.013000</td>\n",
       "    </tr>\n",
       "    <tr>\n",
       "      <th>Worst 1w return</th>\n",
       "      <td>-0.018763</td>\n",
       "      <td>-0.034413</td>\n",
       "      <td>-0.019985</td>\n",
       "    </tr>\n",
       "    <tr>\n",
       "      <th>Worst 1m return</th>\n",
       "      <td>-0.030638</td>\n",
       "      <td>-0.029017</td>\n",
       "      <td>-0.026193</td>\n",
       "    </tr>\n",
       "  </tbody>\n",
       "</table>\n",
       "</div>"
      ],
      "text/plain": [
       "                 Crack spread  Gasoline crack spread  Heating oil crack spread\n",
       "CAGR                 0.014100               0.007241                  0.011715\n",
       "Annualised vol       0.018131               0.022948                  0.017725\n",
       "Sharpe ratio         0.777675               0.315525                  0.660914\n",
       "Max drawdown         0.071648               0.129760                  0.044562\n",
       "Calmar ratio         0.196791               0.055800                  0.262889\n",
       "Skewness             0.791950               4.373877                  2.076780\n",
       "Kurtosis            45.874931             200.909353                 75.098364\n",
       "Worst return        -0.012272              -0.022322                 -0.013000\n",
       "Worst 1d return     -0.012272              -0.022322                 -0.013000\n",
       "Worst 1w return     -0.018763              -0.034413                 -0.019985\n",
       "Worst 1m return     -0.030638              -0.029017                 -0.026193"
      ]
     },
     "execution_count": 37,
     "metadata": {},
     "output_type": "execute_result"
    }
   ],
   "source": [
    "levels[:'1994-11'].pipe(Performance).summary()"
   ]
  },
  {
   "cell_type": "markdown",
   "id": "25d81c19",
   "metadata": {
    "papermill": {
     "duration": 0.089627,
     "end_time": "2022-03-23T06:34:17.048326",
     "exception": false,
     "start_time": "2022-03-23T06:34:16.958699",
     "status": "completed"
    },
    "tags": []
   },
   "source": [
    "The underperformance in 1990 coincides with a wider divergence on the crack spread which is intuitive."
   ]
  },
  {
   "cell_type": "code",
   "execution_count": 38,
   "id": "76538675",
   "metadata": {
    "execution": {
     "iopub.execute_input": "2022-03-23T06:34:17.217491Z",
     "iopub.status.busy": "2022-03-23T06:34:17.216153Z",
     "iopub.status.idle": "2022-03-23T06:34:17.665602Z",
     "shell.execute_reply": "2022-03-23T06:34:17.666105Z",
     "shell.execute_reply.started": "2021-12-03T06:51:20.098154Z"
    },
    "papermill": {
     "duration": 0.536075,
     "end_time": "2022-03-23T06:34:17.666320",
     "exception": false,
     "start_time": "2022-03-23T06:34:17.130245",
     "status": "completed"
    },
    "tags": []
   },
   "outputs": [
    {
     "data": {
      "image/png": "[encoded data removed]",
      "text/plain": [
       "<Figure size 576x360 with 2 Axes>"
      ]
     },
     "metadata": {
      "needs_background": "light"
     },
     "output_type": "display_data"
    }
   ],
   "source": [
    "pd.concat((\n",
    "    levels_gcs.rename('Gasoline crack spread strategy'),\n",
    "    gcs.rename('GCS')\n",
    "), axis=1)[:'1994-11'].plot(figsize=(8, 5), secondary_y='GCS');"
   ]
  },
  {
   "cell_type": "markdown",
   "id": "e2d431e2",
   "metadata": {
    "papermill": {
     "duration": 0.090068,
     "end_time": "2022-03-23T06:34:17.844763",
     "exception": false,
     "start_time": "2022-03-23T06:34:17.754695",
     "status": "completed"
    },
    "tags": []
   },
   "source": [
    "## Long-term performance\n",
    "\n",
    "...however as we saw earlier in the time-series of crack spreads, something must have changed in 2000s and the trading strategies stopped working."
   ]
  },
  {
   "cell_type": "code",
   "execution_count": 39,
   "id": "d8a263d6",
   "metadata": {
    "execution": {
     "iopub.execute_input": "2022-03-23T06:34:18.048820Z",
     "iopub.status.busy": "2022-03-23T06:34:18.044256Z",
     "iopub.status.idle": "2022-03-23T06:34:18.687779Z",
     "shell.execute_reply": "2022-03-23T06:34:18.688332Z",
     "shell.execute_reply.started": "2021-12-03T06:51:20.399415Z"
    },
    "papermill": {
     "duration": 0.756428,
     "end_time": "2022-03-23T06:34:18.688522",
     "exception": false,
     "start_time": "2022-03-23T06:34:17.932094",
     "status": "completed"
    },
    "tags": []
   },
   "outputs": [
    {
     "data": {
      "image/png": "[encoded data removed]",
      "text/plain": [
       "<Figure size 576x324 with 1 Axes>"
      ]
     },
     "metadata": {
      "needs_background": "light"
     },
     "output_type": "display_data"
    }
   ],
   "source": [
    "fig, ax = plt.subplots(figsize=(8, 4.5))\n",
    "levels.plot(ax=ax, logy=True);\n",
    "ax.set_title('Crack spreads mean-reversion (GP1999)')\n",
    "ax.set_ylabel('Cumulative returns');"
   ]
  },
  {
   "cell_type": "code",
   "execution_count": 40,
   "id": "b9b01da1",
   "metadata": {
    "execution": {
     "iopub.execute_input": "2022-03-23T06:34:18.870553Z",
     "iopub.status.busy": "2022-03-23T06:34:18.869888Z",
     "iopub.status.idle": "2022-03-23T06:34:18.962860Z",
     "shell.execute_reply": "2022-03-23T06:34:18.963388Z",
     "shell.execute_reply.started": "2021-12-03T06:51:20.790419Z"
    },
    "papermill": {
     "duration": 0.188137,
     "end_time": "2022-03-23T06:34:18.963556",
     "exception": false,
     "start_time": "2022-03-23T06:34:18.775419",
     "status": "completed"
    },
    "tags": []
   },
   "outputs": [
    {
     "data": {
      "text/html": [
       "<div>\n",
       "<style scoped>\n",
       "    .dataframe tbody tr th:only-of-type {\n",
       "        vertical-align: middle;\n",
       "    }\n",
       "\n",
       "    .dataframe tbody tr th {\n",
       "        vertical-align: top;\n",
       "    }\n",
       "\n",
       "    .dataframe thead th {\n",
       "        text-align: right;\n",
       "    }\n",
       "</style>\n",
       "<table border=\"1\" class=\"dataframe\">\n",
       "  <thead>\n",
       "    <tr style=\"text-align: right;\">\n",
       "      <th></th>\n",
       "      <th>Crack spread</th>\n",
       "      <th>Gasoline crack spread</th>\n",
       "      <th>Heating oil crack spread</th>\n",
       "    </tr>\n",
       "  </thead>\n",
       "  <tbody>\n",
       "    <tr>\n",
       "      <th>CAGR</th>\n",
       "      <td>-0.022303</td>\n",
       "      <td>-0.006947</td>\n",
       "      <td>0.004532</td>\n",
       "    </tr>\n",
       "    <tr>\n",
       "      <th>Annualised vol</th>\n",
       "      <td>0.134490</td>\n",
       "      <td>0.044892</td>\n",
       "      <td>0.068665</td>\n",
       "    </tr>\n",
       "    <tr>\n",
       "      <th>Sharpe ratio</th>\n",
       "      <td>-0.165836</td>\n",
       "      <td>-0.154747</td>\n",
       "      <td>0.066004</td>\n",
       "    </tr>\n",
       "    <tr>\n",
       "      <th>Max drawdown</th>\n",
       "      <td>0.796898</td>\n",
       "      <td>0.455942</td>\n",
       "      <td>0.262482</td>\n",
       "    </tr>\n",
       "    <tr>\n",
       "      <th>Calmar ratio</th>\n",
       "      <td>-0.027988</td>\n",
       "      <td>-0.015236</td>\n",
       "      <td>0.017267</td>\n",
       "    </tr>\n",
       "    <tr>\n",
       "      <th>Skewness</th>\n",
       "      <td>29.609942</td>\n",
       "      <td>-1.831167</td>\n",
       "      <td>8.379828</td>\n",
       "    </tr>\n",
       "    <tr>\n",
       "      <th>Kurtosis</th>\n",
       "      <td>2850.124244</td>\n",
       "      <td>67.895691</td>\n",
       "      <td>981.642463</td>\n",
       "    </tr>\n",
       "    <tr>\n",
       "      <th>Worst return</th>\n",
       "      <td>-0.339082</td>\n",
       "      <td>-0.049356</td>\n",
       "      <td>-0.162293</td>\n",
       "    </tr>\n",
       "    <tr>\n",
       "      <th>Worst 1d return</th>\n",
       "      <td>-0.339082</td>\n",
       "      <td>-0.049356</td>\n",
       "      <td>-0.162293</td>\n",
       "    </tr>\n",
       "    <tr>\n",
       "      <th>Worst 1w return</th>\n",
       "      <td>-0.214178</td>\n",
       "      <td>-0.101832</td>\n",
       "      <td>-0.085109</td>\n",
       "    </tr>\n",
       "    <tr>\n",
       "      <th>Worst 1m return</th>\n",
       "      <td>-0.114531</td>\n",
       "      <td>-0.119793</td>\n",
       "      <td>-0.093972</td>\n",
       "    </tr>\n",
       "  </tbody>\n",
       "</table>\n",
       "</div>"
      ],
      "text/plain": [
       "                 Crack spread  Gasoline crack spread  Heating oil crack spread\n",
       "CAGR                -0.022303              -0.006947                  0.004532\n",
       "Annualised vol       0.134490               0.044892                  0.068665\n",
       "Sharpe ratio        -0.165836              -0.154747                  0.066004\n",
       "Max drawdown         0.796898               0.455942                  0.262482\n",
       "Calmar ratio        -0.027988              -0.015236                  0.017267\n",
       "Skewness            29.609942              -1.831167                  8.379828\n",
       "Kurtosis          2850.124244              67.895691                981.642463\n",
       "Worst return        -0.339082              -0.049356                 -0.162293\n",
       "Worst 1d return     -0.339082              -0.049356                 -0.162293\n",
       "Worst 1w return     -0.214178              -0.101832                 -0.085109\n",
       "Worst 1m return     -0.114531              -0.119793                 -0.093972"
      ]
     },
     "execution_count": 40,
     "metadata": {},
     "output_type": "execute_result"
    }
   ],
   "source": [
    "levels.pipe(Performance).summary()"
   ]
  },
  {
   "cell_type": "markdown",
   "id": "e67cc5fa",
   "metadata": {
    "papermill": {
     "duration": 0.099848,
     "end_time": "2022-03-23T06:34:19.154178",
     "exception": false,
     "start_time": "2022-03-23T06:34:19.054330",
     "status": "completed"
    },
    "tags": []
   },
   "source": [
    "## Post publication"
   ]
  },
  {
   "cell_type": "code",
   "execution_count": 41,
   "id": "94b4f13d",
   "metadata": {
    "execution": {
     "iopub.execute_input": "2022-03-23T06:34:19.348650Z",
     "iopub.status.busy": "2022-03-23T06:34:19.347927Z",
     "iopub.status.idle": "2022-03-23T06:34:19.350500Z",
     "shell.execute_reply": "2022-03-23T06:34:19.350002Z",
     "shell.execute_reply.started": "2021-12-03T06:51:20.849663Z"
    },
    "papermill": {
     "duration": 0.102017,
     "end_time": "2022-03-23T06:34:19.350634",
     "exception": false,
     "start_time": "2022-03-23T06:34:19.248617",
     "status": "completed"
    },
    "tags": []
   },
   "outputs": [],
   "source": [
    "publication_date = datetime(1999, 11, 29)"
   ]
  },
  {
   "cell_type": "code",
   "execution_count": 42,
   "id": "1a2e7f9c",
   "metadata": {
    "execution": {
     "iopub.execute_input": "2022-03-23T06:34:19.603632Z",
     "iopub.status.busy": "2022-03-23T06:34:19.602775Z",
     "iopub.status.idle": "2022-03-23T06:34:21.262147Z",
     "shell.execute_reply": "2022-03-23T06:34:21.262812Z",
     "shell.execute_reply.started": "2021-12-03T06:51:20.853881Z"
    },
    "papermill": {
     "duration": 1.803551,
     "end_time": "2022-03-23T06:34:21.262999",
     "exception": false,
     "start_time": "2022-03-23T06:34:19.459448",
     "status": "completed"
    },
    "tags": []
   },
   "outputs": [
    {
     "data": {
      "image/png": "[encoded data removed]",
      "text/plain": [
       "<Figure size 1008x288 with 2 Axes>"
      ]
     },
     "metadata": {
      "needs_background": "light"
     },
     "output_type": "display_data"
    }
   ],
   "source": [
    "fig, ax = plt.subplots(1, 2, figsize=(14, 4))\n",
    "levels.plot(ax=ax[0], logy=True);\n",
    "ax[0].set_title('Crack spreads mean-reversion (GP1999)')\n",
    "ax[0].set_ylabel('Cumulative returns');\n",
    "ax[0].axvline(publication_date, lw=1, ls='--', color='black')\n",
    "ax[0].text(publication_date, 100, 'Publication date ', ha='right')\n",
    "\n",
    "levels.loc[publication_date:].pipe(rebase).plot(ax=ax[1], logy=True);\n",
    "ax[1].set_title('Post publication');"
   ]
  },
  {
   "cell_type": "markdown",
   "id": "d187127a",
   "metadata": {
    "papermill": {
     "duration": 0.131249,
     "end_time": "2022-03-23T06:34:21.515997",
     "exception": false,
     "start_time": "2022-03-23T06:34:21.384748",
     "status": "completed"
    },
    "tags": []
   },
   "source": [
    "# Reference\n",
    "- Girma, P.B. and Paulson, A.S., 1999. Risk arbitrage opportunities in petroleum futures spreads. Journal of Futures Markets, 19(8), pp.931-955."
   ]
  },
  {
   "cell_type": "code",
   "execution_count": 43,
   "id": "69fe3c8e",
   "metadata": {
    "execution": {
     "iopub.execute_input": "2022-03-23T06:34:21.785346Z",
     "iopub.status.busy": "2022-03-23T06:34:21.783790Z",
     "iopub.status.idle": "2022-03-23T06:34:21.824822Z",
     "shell.execute_reply": "2022-03-23T06:34:21.825677Z",
     "shell.execute_reply.started": "2021-12-03T06:51:21.723848Z"
    },
    "papermill": {
     "duration": 0.176916,
     "end_time": "2022-03-23T06:34:21.826007",
     "exception": false,
     "start_time": "2022-03-23T06:34:21.649091",
     "status": "completed"
    },
    "tags": []
   },
   "outputs": [
    {
     "name": "stdout",
     "output_type": "stream",
     "text": [
      "Updated: 23-Mar-2022 06:34\n"
     ]
    }
   ],
   "source": [
    "print(f'Updated: {datetime.utcnow():%d-%b-%Y %H:%M}')"
   ]
  }
 ],
 "metadata": {
  "kernelspec": {
   "display_name": "Python 3",
   "language": "python",
   "name": "python3"
  },
  "language_info": {
   "codemirror_mode": {
    "name": "ipython",
    "version": 3
   },
   "file_extension": ".py",
   "mimetype": "text/x-python",
   "name": "python",
   "nbconvert_exporter": "python",
   "pygments_lexer": "ipython3",
   "version": "3.9.6"
  },
  "papermill": {
   "default_parameters": {},
   "duration": 1345.04458,
   "end_time": "2022-03-23T06:34:24.773955",
   "environment_variables": {},
   "exception": null,
   "input_path": "notebooks/papermill/commodity_crack_spread_stat_arb.ipynb",
   "output_path": "notebooks/commodity_crack_spread_stat_arb.ipynb",
   "parameters": {},
   "start_time": "2022-03-23T06:11:59.729375",
   "version": "2.3.3"
  },
  "toc-autonumbering": true
 },
 "nbformat": 4,
 "nbformat_minor": 5
}