{
 "cells": [
  {
   "cell_type": "markdown",
   "id": "172ca5c5",
   "metadata": {
    "papermill": {
     "duration": 0.017743,
     "end_time": "2022-08-22T06:09:54.926199",
     "exception": false,
     "start_time": "2022-08-22T06:09:54.908456",
     "status": "completed"
    },
    "tags": []
   },
   "source": [
    "# Commodity crack spread statistical arbitrage\n",
    "\n",
    "In this notebook, the mean-rereversion strategy proposed in Girma and Paulson 1999 (henthforth GP1999) is investigated. It focuses on a various combination of the crude oil (WTI) crack spread. "
   ]
  },
  {
   "cell_type": "code",
   "execution_count": 1,
   "id": "7daa9dab",
   "metadata": {
    "execution": {
     "iopub.execute_input": "2022-08-22T06:09:54.961680Z",
     "iopub.status.busy": "2022-08-22T06:09:54.961288Z",
     "iopub.status.idle": "2022-08-22T06:09:58.354208Z",
     "shell.execute_reply": "2022-08-22T06:09:58.353438Z"
    },
    "papermill": {
     "duration": 3.413651,
     "end_time": "2022-08-22T06:09:58.356782",
     "exception": false,
     "start_time": "2022-08-22T06:09:54.943131",
     "status": "completed"
    },
    "tags": []
   },
   "outputs": [],
   "source": [
    "%matplotlib inline\n",
    "from datetime import datetime\n",
    "import logging\n",
    "import warnings\n",
    "warnings.simplefilter(action='ignore', category=FutureWarning)\n",
    "\n",
    "import pandas as pd\n",
    "import statsmodels.api as sm\n",
    "import matplotlib.pyplot as plt\n",
    "plt.style.use('bmh')\n",
    "\n",
    "from vivace.backtest import BacktestEngine, signal, InstrumentDef\n",
    "from vivace.backtest.analytics import rebase\n",
    "from vivace.backtest.contract import get_futures_curve_snapshot\n",
    "from vivace.backtest.enums import Strategy, Weighting, RollRule\n",
    "from vivace.backtest.stats import Performance"
   ]
  },
  {
   "cell_type": "markdown",
   "id": "68aa8ccf",
   "metadata": {
    "papermill": {
     "duration": 0.015831,
     "end_time": "2022-08-22T06:09:58.389880",
     "exception": false,
     "start_time": "2022-08-22T06:09:58.374049",
     "status": "completed"
    },
    "tags": []
   },
   "source": [
    "# Cointegration test\n",
    "\n",
    "GP1999 first checks if the crack spread is cointegrated. To do that, first let's see futures prices are non-stationary or not. As per usual, the generic price is populated by running a simple long-only backtest by rolling the front contract."
   ]
  },
  {
   "cell_type": "markdown",
   "id": "824e7302",
   "metadata": {
    "papermill": {
     "duration": 0.04713,
     "end_time": "2022-08-22T06:09:58.453643",
     "exception": false,
     "start_time": "2022-08-22T06:09:58.406513",
     "status": "completed"
    },
    "tags": []
   },
   "source": [
    "## ADF test\n",
    "\n",
    "The ADF test is done by the `adfuller` function in `statsmodels`. (cf. https://www.statsmodels.org/dev/generated/statsmodels.tsa.stattools.adfuller.html)"
   ]
  },
  {
   "cell_type": "code",
   "execution_count": 2,
   "id": "4eb3103c",
   "metadata": {
    "execution": {
     "iopub.execute_input": "2022-08-22T06:09:58.486427Z",
     "iopub.status.busy": "2022-08-22T06:09:58.486026Z",
     "iopub.status.idle": "2022-08-22T06:10:09.193172Z",
     "shell.execute_reply": "2022-08-22T06:10:09.192145Z"
    },
    "papermill": {
     "duration": 10.726763,
     "end_time": "2022-08-22T06:10:09.196038",
     "exception": false,
     "start_time": "2022-08-22T06:09:58.469275",
     "status": "completed"
    },
    "tags": []
   },
   "outputs": [],
   "source": [
    "cl_1st = BacktestEngine(instrument='CL', log_level=logging.WARN)\n",
    "cl_1st.run()"
   ]
  },
  {
   "cell_type": "code",
   "execution_count": 3,
   "id": "9910ecff",
   "metadata": {
    "execution": {
     "iopub.execute_input": "2022-08-22T06:10:09.252241Z",
     "iopub.status.busy": "2022-08-22T06:10:09.251782Z",
     "iopub.status.idle": "2022-08-22T06:10:20.403395Z",
     "shell.execute_reply": "2022-08-22T06:10:20.402190Z"
    },
    "papermill": {
     "duration": 11.180166,
     "end_time": "2022-08-22T06:10:20.405535",
     "exception": false,
     "start_time": "2022-08-22T06:10:09.225369",
     "status": "completed"
    },
    "tags": []
   },
   "outputs": [],
   "source": [
    "ho_1st = BacktestEngine(instrument='HO', log_level=logging.WARN)\n",
    "ho_1st.run()"
   ]
  },
  {
   "cell_type": "code",
   "execution_count": 4,
   "id": "32cec4c3",
   "metadata": {
    "execution": {
     "iopub.execute_input": "2022-08-22T06:10:20.438450Z",
     "iopub.status.busy": "2022-08-22T06:10:20.438077Z",
     "iopub.status.idle": "2022-08-22T06:10:30.263023Z",
     "shell.execute_reply": "2022-08-22T06:10:30.262227Z"
    },
    "papermill": {
     "duration": 9.843793,
     "end_time": "2022-08-22T06:10:30.265222",
     "exception": false,
     "start_time": "2022-08-22T06:10:20.421429",
     "status": "completed"
    },
    "tags": []
   },
   "outputs": [],
   "source": [
    "xb_1st = BacktestEngine(instrument='XB', log_level=logging.WARN)\n",
    "xb_1st.run()"
   ]
  },
  {
   "cell_type": "code",
   "execution_count": 5,
   "id": "a602ffe8",
   "metadata": {
    "execution": {
     "iopub.execute_input": "2022-08-22T06:10:30.299899Z",
     "iopub.status.busy": "2022-08-22T06:10:30.299501Z",
     "iopub.status.idle": "2022-08-22T06:10:47.932472Z",
     "shell.execute_reply": "2022-08-22T06:10:47.931505Z"
    },
    "papermill": {
     "duration": 17.65234,
     "end_time": "2022-08-22T06:10:47.935174",
     "exception": false,
     "start_time": "2022-08-22T06:10:30.282834",
     "status": "completed"
    },
    "tags": []
   },
   "outputs": [],
   "source": [
    "cl_price = cl_1st.get_generic_price().squeeze().fillna(method='pad').rename('Crude oil')\n",
    "ho_price = ho_1st.get_generic_price().squeeze().fillna(method='pad').rename('Heating oil')\n",
    "xb_price = xb_1st.get_generic_price().squeeze().fillna(method='pad').rename('Gasoline')"
   ]
  },
  {
   "cell_type": "code",
   "execution_count": 6,
   "id": "81a1c9be",
   "metadata": {
    "execution": {
     "iopub.execute_input": "2022-08-22T06:10:47.985450Z",
     "iopub.status.busy": "2022-08-22T06:10:47.985099Z",
     "iopub.status.idle": "2022-08-22T06:10:47.993573Z",
     "shell.execute_reply": "2022-08-22T06:10:47.992543Z"
    },
    "papermill": {
     "duration": 0.036114,
     "end_time": "2022-08-22T06:10:47.995636",
     "exception": false,
     "start_time": "2022-08-22T06:10:47.959522",
     "status": "completed"
    },
    "tags": []
   },
   "outputs": [],
   "source": [
    "def adf(ts: pd.Series, **kwargs) -> pd.Series:\n",
    "    \"\"\" Run the ADF test and return a cleaned result \"\"\"\n",
    "    adf_result = sm.tsa.stattools.adfuller(ts, **kwargs)\n",
    "    cleaned = {\n",
    "        'adf': adf_result[0],\n",
    "        'p_value': adf_result[1],\n",
    "        'used_lag': adf_result[2],\n",
    "        'n_obs': adf_result[3],\n",
    "        'ci_0.01': adf_result[4]['1%'],\n",
    "        'ci_0.05': adf_result[4]['5%'],\n",
    "        'ci_0.1': adf_result[4]['10%'],\n",
    "        'ic_best': adf_result[5],\n",
    "    }\n",
    "    return pd.Series(cleaned, name=ts.name)"
   ]
  },
  {
   "cell_type": "markdown",
   "id": "73a9df64",
   "metadata": {
    "papermill": {
     "duration": 0.015728,
     "end_time": "2022-08-22T06:10:48.028378",
     "exception": false,
     "start_time": "2022-08-22T06:10:48.012650",
     "status": "completed"
    },
    "tags": []
   },
   "source": [
    "GP1999 uses Schwarz's information criterion (i.e., BIC) to select the optimal number of lags included in the ADF test."
   ]
  },
  {
   "cell_type": "code",
   "execution_count": 7,
   "id": "b69649d6",
   "metadata": {
    "execution": {
     "iopub.execute_input": "2022-08-22T06:10:48.060801Z",
     "iopub.status.busy": "2022-08-22T06:10:48.060526Z",
     "iopub.status.idle": "2022-08-22T06:10:48.482690Z",
     "shell.execute_reply": "2022-08-22T06:10:48.481427Z"
    },
    "papermill": {
     "duration": 0.441545,
     "end_time": "2022-08-22T06:10:48.485363",
     "exception": false,
     "start_time": "2022-08-22T06:10:48.043818",
     "status": "completed"
    },
    "tags": []
   },
   "outputs": [],
   "source": [
    "adf_result = pd.concat((\n",
    "    adf(cl_price['1983-04':'1994-11'], autolag='BIC').to_frame().T,\n",
    "    adf(ho_price['1983-04':'1994-11'], autolag='BIC').to_frame().T,\n",
    "    adf(xb_price['1984-12':'1994-11'], autolag='BIC').to_frame().T,\n",
    "))"
   ]
  },
  {
   "cell_type": "markdown",
   "id": "1396f87e",
   "metadata": {
    "papermill": {
     "duration": 0.031949,
     "end_time": "2022-08-22T06:10:48.547243",
     "exception": false,
     "start_time": "2022-08-22T06:10:48.515294",
     "status": "completed"
    },
    "tags": []
   },
   "source": [
    "In the ADF test, $H_0$ is that the time-series is non-stationary. Based on this result below, $H_0$ cannot be rejected for crude oil, however is rejected for heating oil and gasoline at the 10% and 5% level respectively.\n",
    "\n",
    "This is interesting because usually almost always asset prices are non-stationary."
   ]
  },
  {
   "cell_type": "code",
   "execution_count": 8,
   "id": "3655e953",
   "metadata": {
    "execution": {
     "iopub.execute_input": "2022-08-22T06:10:48.589529Z",
     "iopub.status.busy": "2022-08-22T06:10:48.589031Z",
     "iopub.status.idle": "2022-08-22T06:10:48.611363Z",
     "shell.execute_reply": "2022-08-22T06:10:48.610337Z"
    },
    "papermill": {
     "duration": 0.046841,
     "end_time": "2022-08-22T06:10:48.614037",
     "exception": false,
     "start_time": "2022-08-22T06:10:48.567196",
     "status": "completed"
    },
    "tags": []
   },
   "outputs": [
    {
     "data": {
      "text/html": [
       "<div>\n",
       "<style scoped>\n",
       "    .dataframe tbody tr th:only-of-type {\n",
       "        vertical-align: middle;\n",
       "    }\n",
       "\n",
       "    .dataframe tbody tr th {\n",
       "        vertical-align: top;\n",
       "    }\n",
       "\n",
       "    .dataframe thead th {\n",
       "        text-align: right;\n",
       "    }\n",
       "</style>\n",
       "<table border=\"1\" class=\"dataframe\">\n",
       "  <thead>\n",
       "    <tr style=\"text-align: right;\">\n",
       "      <th></th>\n",
       "      <th>adf</th>\n",
       "      <th>p_value</th>\n",
       "      <th>used_lag</th>\n",
       "      <th>n_obs</th>\n",
       "      <th>ci_0.01</th>\n",
       "      <th>ci_0.05</th>\n",
       "      <th>ci_0.1</th>\n",
       "      <th>ic_best</th>\n",
       "    </tr>\n",
       "  </thead>\n",
       "  <tbody>\n",
       "    <tr>\n",
       "      <th>Crude oil</th>\n",
       "      <td>-2.185213</td>\n",
       "      <td>0.211656</td>\n",
       "      <td>8.0</td>\n",
       "      <td>2924.0</td>\n",
       "      <td>-3.432588</td>\n",
       "      <td>-2.862529</td>\n",
       "      <td>-2.567296</td>\n",
       "      <td>4195.186424</td>\n",
       "    </tr>\n",
       "    <tr>\n",
       "      <th>Heating oil</th>\n",
       "      <td>-2.743636</td>\n",
       "      <td>0.066787</td>\n",
       "      <td>3.0</td>\n",
       "      <td>2929.0</td>\n",
       "      <td>-3.432585</td>\n",
       "      <td>-2.862527</td>\n",
       "      <td>-2.567296</td>\n",
       "      <td>-15763.929006</td>\n",
       "    </tr>\n",
       "    <tr>\n",
       "      <th>Gasoline</th>\n",
       "      <td>-3.003758</td>\n",
       "      <td>0.034545</td>\n",
       "      <td>3.0</td>\n",
       "      <td>2510.0</td>\n",
       "      <td>-3.432958</td>\n",
       "      <td>-2.862692</td>\n",
       "      <td>-2.567383</td>\n",
       "      <td>-14006.551367</td>\n",
       "    </tr>\n",
       "  </tbody>\n",
       "</table>\n",
       "</div>"
      ],
      "text/plain": [
       "                  adf   p_value  used_lag   n_obs   ci_0.01   ci_0.05  \\\n",
       "Crude oil   -2.185213  0.211656       8.0  2924.0 -3.432588 -2.862529   \n",
       "Heating oil -2.743636  0.066787       3.0  2929.0 -3.432585 -2.862527   \n",
       "Gasoline    -3.003758  0.034545       3.0  2510.0 -3.432958 -2.862692   \n",
       "\n",
       "               ci_0.1       ic_best  \n",
       "Crude oil   -2.567296   4195.186424  \n",
       "Heating oil -2.567296 -15763.929006  \n",
       "Gasoline    -2.567383 -14006.551367  "
      ]
     },
     "execution_count": 8,
     "metadata": {},
     "output_type": "execute_result"
    }
   ],
   "source": [
    "adf_result"
   ]
  },
  {
   "cell_type": "markdown",
   "id": "cb465c0a",
   "metadata": {
    "papermill": {
     "duration": 0.024429,
     "end_time": "2022-08-22T06:10:48.663719",
     "exception": false,
     "start_time": "2022-08-22T06:10:48.639290",
     "status": "completed"
    },
    "tags": []
   },
   "source": [
    "Probably it is to do with the sampling period. It may look a stationary process especially after 1986, however clearly it is heteroskedastic and the price move in 1986 seems like a shift in the level."
   ]
  },
  {
   "cell_type": "code",
   "execution_count": 9,
   "id": "11339aae",
   "metadata": {
    "execution": {
     "iopub.execute_input": "2022-08-22T06:10:48.713770Z",
     "iopub.status.busy": "2022-08-22T06:10:48.713300Z",
     "iopub.status.idle": "2022-08-22T06:10:49.169971Z",
     "shell.execute_reply": "2022-08-22T06:10:49.169031Z"
    },
    "papermill": {
     "duration": 0.484238,
     "end_time": "2022-08-22T06:10:49.171980",
     "exception": false,
     "start_time": "2022-08-22T06:10:48.687742",
     "status": "completed"
    },
    "tags": []
   },
   "outputs": [
    {
     "data": {
      "image/png": "[encoded data removed]",
      "text/plain": [
       "<Figure size 576x360 with 2 Axes>"
      ]
     },
     "metadata": {
      "needs_background": "light"
     },
     "output_type": "display_data"
    }
   ],
   "source": [
    "fig, ax = plt.subplots(figsize=(8, 5))\n",
    "pd.concat((\n",
    "    cl_price['1983-04':'1994-11'],\n",
    "    ho_price['1983-04':'1994-11'],\n",
    "    xb_price['1984-12':'1994-11'],\n",
    "), axis=1).plot(secondary_y=['Heating oil', 'Gasoline'], ax=ax);\n",
    "ax.set_title('Futures prices (generic 1st)');"
   ]
  },
  {
   "cell_type": "markdown",
   "id": "47068957",
   "metadata": {
    "papermill": {
     "duration": 0.024845,
     "end_time": "2022-08-22T06:10:49.220214",
     "exception": false,
     "start_time": "2022-08-22T06:10:49.195369",
     "status": "completed"
    },
    "tags": []
   },
   "source": [
    "In fact, in the long-run $H_0$ cannot be rejected for all contracts based on both BIC and AIC."
   ]
  },
  {
   "cell_type": "code",
   "execution_count": 10,
   "id": "47dcef74",
   "metadata": {
    "execution": {
     "iopub.execute_input": "2022-08-22T06:10:49.270003Z",
     "iopub.status.busy": "2022-08-22T06:10:49.269719Z",
     "iopub.status.idle": "2022-08-22T06:10:51.809902Z",
     "shell.execute_reply": "2022-08-22T06:10:51.808819Z"
    },
    "papermill": {
     "duration": 2.56926,
     "end_time": "2022-08-22T06:10:51.813314",
     "exception": false,
     "start_time": "2022-08-22T06:10:49.244054",
     "status": "completed"
    },
    "tags": []
   },
   "outputs": [
    {
     "data": {
      "text/html": [
       "<div>\n",
       "<style scoped>\n",
       "    .dataframe tbody tr th:only-of-type {\n",
       "        vertical-align: middle;\n",
       "    }\n",
       "\n",
       "    .dataframe tbody tr th {\n",
       "        vertical-align: top;\n",
       "    }\n",
       "\n",
       "    .dataframe thead th {\n",
       "        text-align: right;\n",
       "    }\n",
       "</style>\n",
       "<table border=\"1\" class=\"dataframe\">\n",
       "  <thead>\n",
       "    <tr style=\"text-align: right;\">\n",
       "      <th></th>\n",
       "      <th>adf</th>\n",
       "      <th>p_value</th>\n",
       "      <th>used_lag</th>\n",
       "      <th>n_obs</th>\n",
       "      <th>ci_0.01</th>\n",
       "      <th>ci_0.05</th>\n",
       "      <th>ci_0.1</th>\n",
       "      <th>ic_best</th>\n",
       "    </tr>\n",
       "  </thead>\n",
       "  <tbody>\n",
       "    <tr>\n",
       "      <th>Crude oil</th>\n",
       "      <td>-1.640864</td>\n",
       "      <td>0.461809</td>\n",
       "      <td>1.0</td>\n",
       "      <td>9892.0</td>\n",
       "      <td>-3.431011</td>\n",
       "      <td>-2.861832</td>\n",
       "      <td>-2.566926</td>\n",
       "      <td>31030.573962</td>\n",
       "    </tr>\n",
       "    <tr>\n",
       "      <th>Heating oil</th>\n",
       "      <td>-0.873413</td>\n",
       "      <td>0.796602</td>\n",
       "      <td>6.0</td>\n",
       "      <td>9888.0</td>\n",
       "      <td>-3.431012</td>\n",
       "      <td>-2.861832</td>\n",
       "      <td>-2.566926</td>\n",
       "      <td>-37705.715856</td>\n",
       "    </tr>\n",
       "    <tr>\n",
       "      <th>Gasoline</th>\n",
       "      <td>-1.655265</td>\n",
       "      <td>0.454296</td>\n",
       "      <td>0.0</td>\n",
       "      <td>9474.0</td>\n",
       "      <td>-3.431040</td>\n",
       "      <td>-2.861845</td>\n",
       "      <td>-2.566932</td>\n",
       "      <td>-35848.434785</td>\n",
       "    </tr>\n",
       "  </tbody>\n",
       "</table>\n",
       "</div>"
      ],
      "text/plain": [
       "                  adf   p_value  used_lag   n_obs   ci_0.01   ci_0.05  \\\n",
       "Crude oil   -1.640864  0.461809       1.0  9892.0 -3.431011 -2.861832   \n",
       "Heating oil -0.873413  0.796602       6.0  9888.0 -3.431012 -2.861832   \n",
       "Gasoline    -1.655265  0.454296       0.0  9474.0 -3.431040 -2.861845   \n",
       "\n",
       "               ci_0.1       ic_best  \n",
       "Crude oil   -2.566926  31030.573962  \n",
       "Heating oil -2.566926 -37705.715856  \n",
       "Gasoline    -2.566932 -35848.434785  "
      ]
     },
     "execution_count": 10,
     "metadata": {},
     "output_type": "execute_result"
    }
   ],
   "source": [
    "pd.concat((\n",
    "    adf(cl_price['1983-04':], autolag='BIC').to_frame().T,\n",
    "    adf(ho_price['1983-04':], autolag='BIC').to_frame().T,\n",
    "    adf(xb_price['1984-12':], autolag='BIC').to_frame().T,\n",
    "))"
   ]
  },
  {
   "cell_type": "code",
   "execution_count": 11,
   "id": "6cda4738",
   "metadata": {
    "execution": {
     "iopub.execute_input": "2022-08-22T06:10:51.869214Z",
     "iopub.status.busy": "2022-08-22T06:10:51.868892Z",
     "iopub.status.idle": "2022-08-22T06:10:53.998749Z",
     "shell.execute_reply": "2022-08-22T06:10:53.997892Z"
    },
    "papermill": {
     "duration": 2.158205,
     "end_time": "2022-08-22T06:10:54.001263",
     "exception": false,
     "start_time": "2022-08-22T06:10:51.843058",
     "status": "completed"
    },
    "tags": []
   },
   "outputs": [
    {
     "data": {
      "text/html": [
       "<div>\n",
       "<style scoped>\n",
       "    .dataframe tbody tr th:only-of-type {\n",
       "        vertical-align: middle;\n",
       "    }\n",
       "\n",
       "    .dataframe tbody tr th {\n",
       "        vertical-align: top;\n",
       "    }\n",
       "\n",
       "    .dataframe thead th {\n",
       "        text-align: right;\n",
       "    }\n",
       "</style>\n",
       "<table border=\"1\" class=\"dataframe\">\n",
       "  <thead>\n",
       "    <tr style=\"text-align: right;\">\n",
       "      <th></th>\n",
       "      <th>adf</th>\n",
       "      <th>p_value</th>\n",
       "      <th>used_lag</th>\n",
       "      <th>n_obs</th>\n",
       "      <th>ci_0.01</th>\n",
       "      <th>ci_0.05</th>\n",
       "      <th>ci_0.1</th>\n",
       "      <th>ic_best</th>\n",
       "    </tr>\n",
       "  </thead>\n",
       "  <tbody>\n",
       "    <tr>\n",
       "      <th>Crude oil</th>\n",
       "      <td>-2.227606</td>\n",
       "      <td>0.196379</td>\n",
       "      <td>38.0</td>\n",
       "      <td>9855.0</td>\n",
       "      <td>-3.431014</td>\n",
       "      <td>-2.861833</td>\n",
       "      <td>-2.566926</td>\n",
       "      <td>30941.543825</td>\n",
       "    </tr>\n",
       "    <tr>\n",
       "      <th>Heating oil</th>\n",
       "      <td>-1.345031</td>\n",
       "      <td>0.608327</td>\n",
       "      <td>35.0</td>\n",
       "      <td>9859.0</td>\n",
       "      <td>-3.431013</td>\n",
       "      <td>-2.861833</td>\n",
       "      <td>-2.566926</td>\n",
       "      <td>-37908.307136</td>\n",
       "    </tr>\n",
       "    <tr>\n",
       "      <th>Gasoline</th>\n",
       "      <td>-2.063123</td>\n",
       "      <td>0.259599</td>\n",
       "      <td>20.0</td>\n",
       "      <td>9454.0</td>\n",
       "      <td>-3.431042</td>\n",
       "      <td>-2.861846</td>\n",
       "      <td>-2.566933</td>\n",
       "      <td>-35887.423129</td>\n",
       "    </tr>\n",
       "  </tbody>\n",
       "</table>\n",
       "</div>"
      ],
      "text/plain": [
       "                  adf   p_value  used_lag   n_obs   ci_0.01   ci_0.05  \\\n",
       "Crude oil   -2.227606  0.196379      38.0  9855.0 -3.431014 -2.861833   \n",
       "Heating oil -1.345031  0.608327      35.0  9859.0 -3.431013 -2.861833   \n",
       "Gasoline    -2.063123  0.259599      20.0  9454.0 -3.431042 -2.861846   \n",
       "\n",
       "               ci_0.1       ic_best  \n",
       "Crude oil   -2.566926  30941.543825  \n",
       "Heating oil -2.566926 -37908.307136  \n",
       "Gasoline    -2.566933 -35887.423129  "
      ]
     },
     "execution_count": 11,
     "metadata": {},
     "output_type": "execute_result"
    }
   ],
   "source": [
    "pd.concat((\n",
    "    adf(cl_price['1983-04':], autolag='AIC').to_frame().T,\n",
    "    adf(ho_price['1983-04':], autolag='AIC').to_frame().T,\n",
    "    adf(xb_price['1984-12':], autolag='AIC').to_frame().T,\n",
    "))"
   ]
  },
  {
   "cell_type": "markdown",
   "id": "eda29bdf",
   "metadata": {
    "papermill": {
     "duration": 0.024988,
     "end_time": "2022-08-22T06:10:54.051085",
     "exception": false,
     "start_time": "2022-08-22T06:10:54.026097",
     "status": "completed"
    },
    "tags": []
   },
   "source": [
    "Test for two unit roots shows the $H_0$ is rejected for all assets so it would be safe to assume prices are all $I(1)$ processes."
   ]
  },
  {
   "cell_type": "code",
   "execution_count": 12,
   "id": "5cc64e78",
   "metadata": {
    "execution": {
     "iopub.execute_input": "2022-08-22T06:10:54.094550Z",
     "iopub.status.busy": "2022-08-22T06:10:54.093933Z",
     "iopub.status.idle": "2022-08-22T06:10:54.615598Z",
     "shell.execute_reply": "2022-08-22T06:10:54.614839Z"
    },
    "papermill": {
     "duration": 0.541117,
     "end_time": "2022-08-22T06:10:54.618035",
     "exception": false,
     "start_time": "2022-08-22T06:10:54.076918",
     "status": "completed"
    },
    "tags": []
   },
   "outputs": [
    {
     "data": {
      "text/html": [
       "<div>\n",
       "<style scoped>\n",
       "    .dataframe tbody tr th:only-of-type {\n",
       "        vertical-align: middle;\n",
       "    }\n",
       "\n",
       "    .dataframe tbody tr th {\n",
       "        vertical-align: top;\n",
       "    }\n",
       "\n",
       "    .dataframe thead th {\n",
       "        text-align: right;\n",
       "    }\n",
       "</style>\n",
       "<table border=\"1\" class=\"dataframe\">\n",
       "  <thead>\n",
       "    <tr style=\"text-align: right;\">\n",
       "      <th></th>\n",
       "      <th>adf</th>\n",
       "      <th>p_value</th>\n",
       "      <th>used_lag</th>\n",
       "      <th>n_obs</th>\n",
       "      <th>ci_0.01</th>\n",
       "      <th>ci_0.05</th>\n",
       "      <th>ci_0.1</th>\n",
       "      <th>ic_best</th>\n",
       "    </tr>\n",
       "  </thead>\n",
       "  <tbody>\n",
       "    <tr>\n",
       "      <th>Crude oil</th>\n",
       "      <td>-22.609167</td>\n",
       "      <td>0.0</td>\n",
       "      <td>7.0</td>\n",
       "      <td>2924.0</td>\n",
       "      <td>-3.432588</td>\n",
       "      <td>-2.862529</td>\n",
       "      <td>-2.567296</td>\n",
       "      <td>4191.382386</td>\n",
       "    </tr>\n",
       "    <tr>\n",
       "      <th>Heating oil</th>\n",
       "      <td>-23.732562</td>\n",
       "      <td>0.0</td>\n",
       "      <td>7.0</td>\n",
       "      <td>2924.0</td>\n",
       "      <td>-3.432588</td>\n",
       "      <td>-2.862529</td>\n",
       "      <td>-2.567296</td>\n",
       "      <td>-15759.438574</td>\n",
       "    </tr>\n",
       "    <tr>\n",
       "      <th>Gasoline</th>\n",
       "      <td>-31.046797</td>\n",
       "      <td>0.0</td>\n",
       "      <td>2.0</td>\n",
       "      <td>2510.0</td>\n",
       "      <td>-3.432958</td>\n",
       "      <td>-2.862692</td>\n",
       "      <td>-2.567383</td>\n",
       "      <td>-13998.959272</td>\n",
       "    </tr>\n",
       "  </tbody>\n",
       "</table>\n",
       "</div>"
      ],
      "text/plain": [
       "                   adf  p_value  used_lag   n_obs   ci_0.01   ci_0.05  \\\n",
       "Crude oil   -22.609167      0.0       7.0  2924.0 -3.432588 -2.862529   \n",
       "Heating oil -23.732562      0.0       7.0  2924.0 -3.432588 -2.862529   \n",
       "Gasoline    -31.046797      0.0       2.0  2510.0 -3.432958 -2.862692   \n",
       "\n",
       "               ci_0.1       ic_best  \n",
       "Crude oil   -2.567296   4191.382386  \n",
       "Heating oil -2.567296 -15759.438574  \n",
       "Gasoline    -2.567383 -13998.959272  "
      ]
     },
     "execution_count": 12,
     "metadata": {},
     "output_type": "execute_result"
    }
   ],
   "source": [
    "pd.concat((\n",
    "    adf(cl_price['1983-04':'1994-11'].diff().dropna(), autolag='BIC').to_frame().T,\n",
    "    adf(ho_price['1983-04':'1994-11'].diff().dropna(), autolag='BIC').to_frame().T,\n",
    "    adf(xb_price['1984-12':'1994-11'].diff().dropna(), autolag='BIC').to_frame().T,\n",
    "))"
   ]
  },
  {
   "cell_type": "markdown",
   "id": "5443698a",
   "metadata": {
    "papermill": {
     "duration": 0.026854,
     "end_time": "2022-08-22T06:10:54.673071",
     "exception": false,
     "start_time": "2022-08-22T06:10:54.646217",
     "status": "completed"
    },
    "tags": []
   },
   "source": [
    "## Engle-Granger test\n",
    "\n",
    "Next, let's check if the crack spread is cointegrated. The cointegration vector is estimated by OLS and the stationarity of the residual is tested with the ADF test.\n",
    "The test is done by the `coint` function in `statsmodels`. (cf. https://www.statsmodels.org/dev/generated/statsmodels.tsa.stattools.coint.html)"
   ]
  },
  {
   "cell_type": "code",
   "execution_count": 13,
   "id": "15663029",
   "metadata": {
    "execution": {
     "iopub.execute_input": "2022-08-22T06:10:54.708235Z",
     "iopub.status.busy": "2022-08-22T06:10:54.707681Z",
     "iopub.status.idle": "2022-08-22T06:10:54.721061Z",
     "shell.execute_reply": "2022-08-22T06:10:54.720326Z"
    },
    "papermill": {
     "duration": 0.034472,
     "end_time": "2022-08-22T06:10:54.723846",
     "exception": false,
     "start_time": "2022-08-22T06:10:54.689374",
     "status": "completed"
    },
    "tags": []
   },
   "outputs": [],
   "source": [
    "price_concat = pd.concat((\n",
    "    cl_price,\n",
    "    ho_price,\n",
    "    xb_price,\n",
    "), axis=1).fillna(method='pad').dropna()"
   ]
  },
  {
   "cell_type": "code",
   "execution_count": 14,
   "id": "cf731a5e",
   "metadata": {
    "execution": {
     "iopub.execute_input": "2022-08-22T06:10:54.762814Z",
     "iopub.status.busy": "2022-08-22T06:10:54.762440Z",
     "iopub.status.idle": "2022-08-22T06:10:54.769086Z",
     "shell.execute_reply": "2022-08-22T06:10:54.768301Z"
    },
    "papermill": {
     "duration": 0.029179,
     "end_time": "2022-08-22T06:10:54.771417",
     "exception": false,
     "start_time": "2022-08-22T06:10:54.742238",
     "status": "completed"
    },
    "tags": []
   },
   "outputs": [],
   "source": [
    "def coint(y: pd.Series, x: pd.DataFrame) -> pd.Series:\n",
    "    \"\"\" Run the cointegration test and return a cleaned result \"\"\"\n",
    "    result = sm.tsa.stattools.coint(y, x)\n",
    "    cleaned = {\n",
    "        't_value': result[0],\n",
    "        'p_value': result[1],\n",
    "        'ci_0.01': result[2][0],\n",
    "        'ci_0.05': result[2][1],\n",
    "        'ci_0.1': result[2][2],\n",
    "    }\n",
    "    return pd.Series(cleaned)"
   ]
  },
  {
   "cell_type": "code",
   "execution_count": 15,
   "id": "4299196b",
   "metadata": {
    "execution": {
     "iopub.execute_input": "2022-08-22T06:10:54.811938Z",
     "iopub.status.busy": "2022-08-22T06:10:54.811564Z",
     "iopub.status.idle": "2022-08-22T06:10:55.497752Z",
     "shell.execute_reply": "2022-08-22T06:10:55.496786Z"
    },
    "papermill": {
     "duration": 0.709831,
     "end_time": "2022-08-22T06:10:55.501018",
     "exception": false,
     "start_time": "2022-08-22T06:10:54.791187",
     "status": "completed"
    },
    "tags": []
   },
   "outputs": [],
   "source": [
    "coint_result = pd.concat((\n",
    "    coint(\n",
    "        price_concat.loc[:'1994-11', 'Crude oil'],\n",
    "        price_concat.loc[:'1994-11', ['Heating oil', 'Gasoline']]\n",
    "    ).to_frame('CL vs HO + XB').T,\n",
    "    coint(\n",
    "        price_concat.loc[:'1994-11', 'Crude oil'],\n",
    "        price_concat.loc[:'1994-11', ['Gasoline']]\n",
    "    ).to_frame('CL vs XB').T,\n",
    "    coint(\n",
    "        price_concat.loc[:'1994-11', 'Crude oil'],\n",
    "        price_concat.loc[:'1994-11', ['Heating oil']]\n",
    "    ).to_frame('CL vs HO').T,\n",
    "))"
   ]
  },
  {
   "cell_type": "markdown",
   "id": "ea294ded",
   "metadata": {
    "papermill": {
     "duration": 0.01869,
     "end_time": "2022-08-22T06:10:55.574734",
     "exception": false,
     "start_time": "2022-08-22T06:10:55.556044",
     "status": "completed"
    },
    "tags": []
   },
   "source": [
    "The $H_0$ is that there is no cointegration. As per GP1999, all three crack spreads are cointegrated. "
   ]
  },
  {
   "cell_type": "code",
   "execution_count": 16,
   "id": "1824345d",
   "metadata": {
    "execution": {
     "iopub.execute_input": "2022-08-22T06:10:55.645610Z",
     "iopub.status.busy": "2022-08-22T06:10:55.645339Z",
     "iopub.status.idle": "2022-08-22T06:10:55.655523Z",
     "shell.execute_reply": "2022-08-22T06:10:55.654616Z"
    },
    "papermill": {
     "duration": 0.065791,
     "end_time": "2022-08-22T06:10:55.657510",
     "exception": false,
     "start_time": "2022-08-22T06:10:55.591719",
     "status": "completed"
    },
    "tags": []
   },
   "outputs": [
    {
     "data": {
      "text/html": [
       "<div>\n",
       "<style scoped>\n",
       "    .dataframe tbody tr th:only-of-type {\n",
       "        vertical-align: middle;\n",
       "    }\n",
       "\n",
       "    .dataframe tbody tr th {\n",
       "        vertical-align: top;\n",
       "    }\n",
       "\n",
       "    .dataframe thead th {\n",
       "        text-align: right;\n",
       "    }\n",
       "</style>\n",
       "<table border=\"1\" class=\"dataframe\">\n",
       "  <thead>\n",
       "    <tr style=\"text-align: right;\">\n",
       "      <th></th>\n",
       "      <th>t_value</th>\n",
       "      <th>p_value</th>\n",
       "      <th>ci_0.01</th>\n",
       "      <th>ci_0.05</th>\n",
       "      <th>ci_0.1</th>\n",
       "    </tr>\n",
       "  </thead>\n",
       "  <tbody>\n",
       "    <tr>\n",
       "      <th>CL vs HO + XB</th>\n",
       "      <td>-6.110715</td>\n",
       "      <td>0.000005</td>\n",
       "      <td>-4.299485</td>\n",
       "      <td>-3.744067</td>\n",
       "      <td>-3.454651</td>\n",
       "    </tr>\n",
       "    <tr>\n",
       "      <th>CL vs XB</th>\n",
       "      <td>-5.762029</td>\n",
       "      <td>0.000005</td>\n",
       "      <td>-3.900800</td>\n",
       "      <td>-3.338561</td>\n",
       "      <td>-3.046137</td>\n",
       "    </tr>\n",
       "    <tr>\n",
       "      <th>CL vs HO</th>\n",
       "      <td>-5.708354</td>\n",
       "      <td>0.000007</td>\n",
       "      <td>-3.900800</td>\n",
       "      <td>-3.338561</td>\n",
       "      <td>-3.046137</td>\n",
       "    </tr>\n",
       "  </tbody>\n",
       "</table>\n",
       "</div>"
      ],
      "text/plain": [
       "                t_value   p_value   ci_0.01   ci_0.05    ci_0.1\n",
       "CL vs HO + XB -6.110715  0.000005 -4.299485 -3.744067 -3.454651\n",
       "CL vs XB      -5.762029  0.000005 -3.900800 -3.338561 -3.046137\n",
       "CL vs HO      -5.708354  0.000007 -3.900800 -3.338561 -3.046137"
      ]
     },
     "execution_count": 16,
     "metadata": {},
     "output_type": "execute_result"
    }
   ],
   "source": [
    "coint_result"
   ]
  },
  {
   "cell_type": "markdown",
   "id": "2f816c06",
   "metadata": {
    "papermill": {
     "duration": 0.017095,
     "end_time": "2022-08-22T06:10:55.691866",
     "exception": false,
     "start_time": "2022-08-22T06:10:55.674771",
     "status": "completed"
    },
    "tags": []
   },
   "source": [
    "This seems to hold with the full sample."
   ]
  },
  {
   "cell_type": "code",
   "execution_count": 17,
   "id": "467771dc",
   "metadata": {
    "execution": {
     "iopub.execute_input": "2022-08-22T06:10:55.728211Z",
     "iopub.status.busy": "2022-08-22T06:10:55.727823Z",
     "iopub.status.idle": "2022-08-22T06:10:59.219687Z",
     "shell.execute_reply": "2022-08-22T06:10:59.216901Z"
    },
    "papermill": {
     "duration": 3.517813,
     "end_time": "2022-08-22T06:10:59.226903",
     "exception": false,
     "start_time": "2022-08-22T06:10:55.709090",
     "status": "completed"
    },
    "tags": []
   },
   "outputs": [
    {
     "data": {
      "text/html": [
       "<div>\n",
       "<style scoped>\n",
       "    .dataframe tbody tr th:only-of-type {\n",
       "        vertical-align: middle;\n",
       "    }\n",
       "\n",
       "    .dataframe tbody tr th {\n",
       "        vertical-align: top;\n",
       "    }\n",
       "\n",
       "    .dataframe thead th {\n",
       "        text-align: right;\n",
       "    }\n",
       "</style>\n",
       "<table border=\"1\" class=\"dataframe\">\n",
       "  <thead>\n",
       "    <tr style=\"text-align: right;\">\n",
       "      <th></th>\n",
       "      <th>t_value</th>\n",
       "      <th>p_value</th>\n",
       "      <th>ci_0.01</th>\n",
       "      <th>ci_0.05</th>\n",
       "      <th>ci_0.1</th>\n",
       "    </tr>\n",
       "  </thead>\n",
       "  <tbody>\n",
       "    <tr>\n",
       "      <th>CL vs HO + XB</th>\n",
       "      <td>-3.909584</td>\n",
       "      <td>3.182916e-02</td>\n",
       "      <td>-4.295264</td>\n",
       "      <td>-3.741564</td>\n",
       "      <td>-3.452836</td>\n",
       "    </tr>\n",
       "    <tr>\n",
       "      <th>CL vs XB</th>\n",
       "      <td>-6.432872</td>\n",
       "      <td>1.788470e-07</td>\n",
       "      <td>-3.897596</td>\n",
       "      <td>-3.336775</td>\n",
       "      <td>-3.044898</td>\n",
       "    </tr>\n",
       "    <tr>\n",
       "      <th>CL vs HO</th>\n",
       "      <td>-3.450501</td>\n",
       "      <td>3.704296e-02</td>\n",
       "      <td>-3.897596</td>\n",
       "      <td>-3.336775</td>\n",
       "      <td>-3.044898</td>\n",
       "    </tr>\n",
       "  </tbody>\n",
       "</table>\n",
       "</div>"
      ],
      "text/plain": [
       "                t_value       p_value   ci_0.01   ci_0.05    ci_0.1\n",
       "CL vs HO + XB -3.909584  3.182916e-02 -4.295264 -3.741564 -3.452836\n",
       "CL vs XB      -6.432872  1.788470e-07 -3.897596 -3.336775 -3.044898\n",
       "CL vs HO      -3.450501  3.704296e-02 -3.897596 -3.336775 -3.044898"
      ]
     },
     "execution_count": 17,
     "metadata": {},
     "output_type": "execute_result"
    }
   ],
   "source": [
    "pd.concat((\n",
    "    coint(\n",
    "        price_concat.loc[:, 'Crude oil'],\n",
    "        price_concat.loc[:, ['Heating oil', 'Gasoline']]\n",
    "    ).to_frame('CL vs HO + XB').T,\n",
    "    coint(\n",
    "        price_concat.loc[:, 'Crude oil'],\n",
    "        price_concat.loc[:, ['Gasoline']]\n",
    "    ).to_frame('CL vs XB').T,\n",
    "    coint(\n",
    "        price_concat.loc[:, 'Crude oil'],\n",
    "        price_concat.loc[:, ['Heating oil']]\n",
    "    ).to_frame('CL vs HO').T,\n",
    "))"
   ]
  },
  {
   "cell_type": "markdown",
   "id": "9107b072",
   "metadata": {
    "papermill": {
     "duration": 0.020429,
     "end_time": "2022-08-22T06:10:59.273175",
     "exception": false,
     "start_time": "2022-08-22T06:10:59.252746",
     "status": "completed"
    },
    "tags": []
   },
   "source": [
    "However the confidence level is somewhat weakend with recent data although they are at least still cointegrated at the 5% level."
   ]
  },
  {
   "cell_type": "code",
   "execution_count": 18,
   "id": "3898183b",
   "metadata": {
    "execution": {
     "iopub.execute_input": "2022-08-22T06:10:59.313050Z",
     "iopub.status.busy": "2022-08-22T06:10:59.312677Z",
     "iopub.status.idle": "2022-08-22T06:11:00.720893Z",
     "shell.execute_reply": "2022-08-22T06:11:00.719978Z"
    },
    "papermill": {
     "duration": 1.430004,
     "end_time": "2022-08-22T06:11:00.724364",
     "exception": false,
     "start_time": "2022-08-22T06:10:59.294360",
     "status": "completed"
    },
    "tags": []
   },
   "outputs": [
    {
     "data": {
      "text/html": [
       "<div>\n",
       "<style scoped>\n",
       "    .dataframe tbody tr th:only-of-type {\n",
       "        vertical-align: middle;\n",
       "    }\n",
       "\n",
       "    .dataframe tbody tr th {\n",
       "        vertical-align: top;\n",
       "    }\n",
       "\n",
       "    .dataframe thead th {\n",
       "        text-align: right;\n",
       "    }\n",
       "</style>\n",
       "<table border=\"1\" class=\"dataframe\">\n",
       "  <thead>\n",
       "    <tr style=\"text-align: right;\">\n",
       "      <th></th>\n",
       "      <th>t_value</th>\n",
       "      <th>p_value</th>\n",
       "      <th>ci_0.01</th>\n",
       "      <th>ci_0.05</th>\n",
       "      <th>ci_0.1</th>\n",
       "    </tr>\n",
       "  </thead>\n",
       "  <tbody>\n",
       "    <tr>\n",
       "      <th>CL vs HO + XB</th>\n",
       "      <td>-3.126695</td>\n",
       "      <td>0.193932</td>\n",
       "      <td>-4.298280</td>\n",
       "      <td>-3.743352</td>\n",
       "      <td>-3.454133</td>\n",
       "    </tr>\n",
       "    <tr>\n",
       "      <th>CL vs XB</th>\n",
       "      <td>-4.392919</td>\n",
       "      <td>0.001826</td>\n",
       "      <td>-3.899885</td>\n",
       "      <td>-3.338051</td>\n",
       "      <td>-3.045783</td>\n",
       "    </tr>\n",
       "    <tr>\n",
       "      <th>CL vs HO</th>\n",
       "      <td>-2.618653</td>\n",
       "      <td>0.229383</td>\n",
       "      <td>-3.899885</td>\n",
       "      <td>-3.338051</td>\n",
       "      <td>-3.045783</td>\n",
       "    </tr>\n",
       "  </tbody>\n",
       "</table>\n",
       "</div>"
      ],
      "text/plain": [
       "                t_value   p_value   ci_0.01   ci_0.05    ci_0.1\n",
       "CL vs HO + XB -3.126695  0.193932 -4.298280 -3.743352 -3.454133\n",
       "CL vs XB      -4.392919  0.001826 -3.899885 -3.338051 -3.045783\n",
       "CL vs HO      -2.618653  0.229383 -3.899885 -3.338051 -3.045783"
      ]
     },
     "execution_count": 18,
     "metadata": {},
     "output_type": "execute_result"
    }
   ],
   "source": [
    "pd.concat((\n",
    "    coint(\n",
    "        price_concat.loc['2010':, 'Crude oil'],\n",
    "        price_concat.loc['2010':, ['Heating oil', 'Gasoline']]\n",
    "    ).to_frame('CL vs HO + XB').T,\n",
    "    coint(\n",
    "        price_concat.loc['2010':, 'Crude oil'],\n",
    "        price_concat.loc['2010':, ['Gasoline']]\n",
    "    ).to_frame('CL vs XB').T,\n",
    "    coint(\n",
    "        price_concat.loc['2010':, 'Crude oil'],\n",
    "        price_concat.loc['2010':, ['Heating oil']]\n",
    "    ).to_frame('CL vs HO').T,\n",
    "))"
   ]
  },
  {
   "cell_type": "markdown",
   "id": "f22325d0",
   "metadata": {
    "papermill": {
     "duration": 0.027854,
     "end_time": "2022-08-22T06:11:00.791459",
     "exception": false,
     "start_time": "2022-08-22T06:11:00.763605",
     "status": "completed"
    },
    "tags": []
   },
   "source": [
    "## Crack spreads\n",
    "\n",
    "Additionally, GP1999 tests the stationarity of the popularly traded crack spread -- 3:2:1 crack spread (CS), 1:1:0 gasoline crack spread (GCS) and 1:0:1 heating oil crack spread (HOCS).\n",
    "\n",
    "Note that the crude oil contract is priced in barrels while the other two are priced in gallon, and there are 42 gallons per 1 barrel. Some unit conversions are required to calculate such spreads."
   ]
  },
  {
   "cell_type": "code",
   "execution_count": 19,
   "id": "015bb3e9",
   "metadata": {
    "execution": {
     "iopub.execute_input": "2022-08-22T06:11:00.827261Z",
     "iopub.status.busy": "2022-08-22T06:11:00.826878Z",
     "iopub.status.idle": "2022-08-22T06:11:00.836449Z",
     "shell.execute_reply": "2022-08-22T06:11:00.835537Z"
    },
    "papermill": {
     "duration": 0.030218,
     "end_time": "2022-08-22T06:11:00.838362",
     "exception": false,
     "start_time": "2022-08-22T06:11:00.808144",
     "status": "completed"
    },
    "tags": []
   },
   "outputs": [],
   "source": [
    "cs = (price_concat['Heating oil'].mul(42).mul(2 / 3) + \n",
    "      price_concat['Gasoline'].mul(42).mul(1 / 3) - \n",
    "      price_concat['Crude oil'])\n",
    "gcs = (price_concat['Gasoline'].mul(42) - \n",
    "       price_concat['Crude oil'])\n",
    "hocs = (price_concat['Heating oil'].mul(42) - \n",
    "        price_concat['Crude oil'])"
   ]
  },
  {
   "cell_type": "markdown",
   "id": "6608463f",
   "metadata": {
    "papermill": {
     "duration": 0.020262,
     "end_time": "2022-08-22T06:11:00.878637",
     "exception": false,
     "start_time": "2022-08-22T06:11:00.858375",
     "status": "completed"
    },
    "tags": []
   },
   "source": [
    "As can be seen visually below, these spreads appear stationary until around 2000 after which they started to drift away from a certain level. This could be related to the financialisation of commodities. There are some evidence suggesting that index investments and speculative trades influence the commodity markets. (cf https://www.ecb.europa.eu/pub/financial-stability/fsr/focus/2011/pdf/ecb~6fdfdfce1c.fsrbox201112_04.pdf)"
   ]
  },
  {
   "cell_type": "code",
   "execution_count": 20,
   "id": "0b27db24",
   "metadata": {
    "execution": {
     "iopub.execute_input": "2022-08-22T06:11:00.920790Z",
     "iopub.status.busy": "2022-08-22T06:11:00.920506Z",
     "iopub.status.idle": "2022-08-22T06:11:01.602012Z",
     "shell.execute_reply": "2022-08-22T06:11:01.601241Z"
    },
    "papermill": {
     "duration": 0.705128,
     "end_time": "2022-08-22T06:11:01.603911",
     "exception": false,
     "start_time": "2022-08-22T06:11:00.898783",
     "status": "completed"
    },
    "tags": []
   },
   "outputs": [
    {
     "data": {
      "image/png": "[encoded data removed]",
      "text/plain": [
       "<Figure size 864x288 with 3 Axes>"
      ]
     },
     "metadata": {
      "needs_background": "light"
     },
     "output_type": "display_data"
    }
   ],
   "source": [
    "fig, ax = plt.subplots(1, 3, figsize=(12, 4), sharey=True)\n",
    "cs.plot(ax=ax[0])\n",
    "gcs.plot(ax=ax[1])\n",
    "hocs.plot(ax=ax[2])\n",
    "\n",
    "ax[0].set_title('3:2:1 crack spread')\n",
    "ax[1].set_title('1:1:0 gasoline crack spread')\n",
    "ax[2].set_title('1:0:1 heating oil crack spread')\n",
    "ax[0].set_ylabel('Crack spread ($)')\n",
    "\n",
    "fig.tight_layout();"
   ]
  },
  {
   "cell_type": "markdown",
   "id": "ddba6b40",
   "metadata": {
    "papermill": {
     "duration": 0.01927,
     "end_time": "2022-08-22T06:11:01.642009",
     "exception": false,
     "start_time": "2022-08-22T06:11:01.622739",
     "status": "completed"
    },
    "tags": []
   },
   "source": [
    "More formally, the ADF tests below show that they were stationary until Nov-1994."
   ]
  },
  {
   "cell_type": "code",
   "execution_count": 21,
   "id": "bd58dd0b",
   "metadata": {
    "execution": {
     "iopub.execute_input": "2022-08-22T06:11:01.682498Z",
     "iopub.status.busy": "2022-08-22T06:11:01.681957Z",
     "iopub.status.idle": "2022-08-22T06:11:02.558114Z",
     "shell.execute_reply": "2022-08-22T06:11:02.557132Z"
    },
    "papermill": {
     "duration": 0.899489,
     "end_time": "2022-08-22T06:11:02.560847",
     "exception": false,
     "start_time": "2022-08-22T06:11:01.661358",
     "status": "completed"
    },
    "tags": []
   },
   "outputs": [
    {
     "data": {
      "text/html": [
       "<div>\n",
       "<style scoped>\n",
       "    .dataframe tbody tr th:only-of-type {\n",
       "        vertical-align: middle;\n",
       "    }\n",
       "\n",
       "    .dataframe tbody tr th {\n",
       "        vertical-align: top;\n",
       "    }\n",
       "\n",
       "    .dataframe thead th {\n",
       "        text-align: right;\n",
       "    }\n",
       "</style>\n",
       "<table border=\"1\" class=\"dataframe\">\n",
       "  <thead>\n",
       "    <tr style=\"text-align: right;\">\n",
       "      <th></th>\n",
       "      <th>adf</th>\n",
       "      <th>p_value</th>\n",
       "      <th>used_lag</th>\n",
       "      <th>n_obs</th>\n",
       "      <th>ci_0.01</th>\n",
       "      <th>ci_0.05</th>\n",
       "      <th>ci_0.1</th>\n",
       "      <th>ic_best</th>\n",
       "    </tr>\n",
       "  </thead>\n",
       "  <tbody>\n",
       "    <tr>\n",
       "      <th>0</th>\n",
       "      <td>-7.926287</td>\n",
       "      <td>3.611421e-12</td>\n",
       "      <td>0.0</td>\n",
       "      <td>2515.0</td>\n",
       "      <td>-3.432953</td>\n",
       "      <td>-2.86269</td>\n",
       "      <td>-2.567382</td>\n",
       "      <td>1757.165999</td>\n",
       "    </tr>\n",
       "    <tr>\n",
       "      <th>0</th>\n",
       "      <td>-5.640046</td>\n",
       "      <td>1.041538e-06</td>\n",
       "      <td>1.0</td>\n",
       "      <td>2514.0</td>\n",
       "      <td>-3.432954</td>\n",
       "      <td>-2.86269</td>\n",
       "      <td>-2.567382</td>\n",
       "      <td>2505.871051</td>\n",
       "    </tr>\n",
       "    <tr>\n",
       "      <th>0</th>\n",
       "      <td>-6.999952</td>\n",
       "      <td>7.365777e-10</td>\n",
       "      <td>0.0</td>\n",
       "      <td>2515.0</td>\n",
       "      <td>-3.432953</td>\n",
       "      <td>-2.86269</td>\n",
       "      <td>-2.567382</td>\n",
       "      <td>2815.457971</td>\n",
       "    </tr>\n",
       "  </tbody>\n",
       "</table>\n",
       "</div>"
      ],
      "text/plain": [
       "        adf       p_value  used_lag   n_obs   ci_0.01  ci_0.05    ci_0.1  \\\n",
       "0 -7.926287  3.611421e-12       0.0  2515.0 -3.432953 -2.86269 -2.567382   \n",
       "0 -5.640046  1.041538e-06       1.0  2514.0 -3.432954 -2.86269 -2.567382   \n",
       "0 -6.999952  7.365777e-10       0.0  2515.0 -3.432953 -2.86269 -2.567382   \n",
       "\n",
       "       ic_best  \n",
       "0  1757.165999  \n",
       "0  2505.871051  \n",
       "0  2815.457971  "
      ]
     },
     "execution_count": 21,
     "metadata": {},
     "output_type": "execute_result"
    }
   ],
   "source": [
    "pd.concat((\n",
    "    adf(cs[:'1994-11'], autolag='BIC').to_frame().T,\n",
    "    adf(gcs[:'1994-11'], autolag='BIC').to_frame().T,\n",
    "    adf(hocs[:'1994-11'], autolag='BIC').to_frame().T,\n",
    "))"
   ]
  },
  {
   "cell_type": "markdown",
   "id": "6e2c8692",
   "metadata": {
    "papermill": {
     "duration": 0.027791,
     "end_time": "2022-08-22T06:11:02.621370",
     "exception": false,
     "start_time": "2022-08-22T06:11:02.593579",
     "status": "completed"
    },
    "tags": []
   },
   "source": [
    "Statistically though these spreads are still stationary at the 1% confidence level even after 2000."
   ]
  },
  {
   "cell_type": "code",
   "execution_count": 22,
   "id": "d3f9d7a9",
   "metadata": {
    "execution": {
     "iopub.execute_input": "2022-08-22T06:11:02.676811Z",
     "iopub.status.busy": "2022-08-22T06:11:02.676438Z",
     "iopub.status.idle": "2022-08-22T06:11:04.011626Z",
     "shell.execute_reply": "2022-08-22T06:11:04.010704Z"
    },
    "papermill": {
     "duration": 1.366359,
     "end_time": "2022-08-22T06:11:04.014779",
     "exception": false,
     "start_time": "2022-08-22T06:11:02.648420",
     "status": "completed"
    },
    "tags": []
   },
   "outputs": [
    {
     "data": {
      "text/html": [
       "<div>\n",
       "<style scoped>\n",
       "    .dataframe tbody tr th:only-of-type {\n",
       "        vertical-align: middle;\n",
       "    }\n",
       "\n",
       "    .dataframe tbody tr th {\n",
       "        vertical-align: top;\n",
       "    }\n",
       "\n",
       "    .dataframe thead th {\n",
       "        text-align: right;\n",
       "    }\n",
       "</style>\n",
       "<table border=\"1\" class=\"dataframe\">\n",
       "  <thead>\n",
       "    <tr style=\"text-align: right;\">\n",
       "      <th></th>\n",
       "      <th>adf</th>\n",
       "      <th>p_value</th>\n",
       "      <th>used_lag</th>\n",
       "      <th>n_obs</th>\n",
       "      <th>ci_0.01</th>\n",
       "      <th>ci_0.05</th>\n",
       "      <th>ci_0.1</th>\n",
       "      <th>ic_best</th>\n",
       "    </tr>\n",
       "  </thead>\n",
       "  <tbody>\n",
       "    <tr>\n",
       "      <th>0</th>\n",
       "      <td>-1.772518</td>\n",
       "      <td>0.394189</td>\n",
       "      <td>8.0</td>\n",
       "      <td>5676.0</td>\n",
       "      <td>-3.431503</td>\n",
       "      <td>-2.862049</td>\n",
       "      <td>-2.567041</td>\n",
       "      <td>16204.566720</td>\n",
       "    </tr>\n",
       "    <tr>\n",
       "      <th>0</th>\n",
       "      <td>-4.883176</td>\n",
       "      <td>0.000038</td>\n",
       "      <td>0.0</td>\n",
       "      <td>5684.0</td>\n",
       "      <td>-3.431501</td>\n",
       "      <td>-2.862049</td>\n",
       "      <td>-2.567041</td>\n",
       "      <td>18296.546358</td>\n",
       "    </tr>\n",
       "    <tr>\n",
       "      <th>0</th>\n",
       "      <td>-1.816743</td>\n",
       "      <td>0.372181</td>\n",
       "      <td>8.0</td>\n",
       "      <td>5676.0</td>\n",
       "      <td>-3.431503</td>\n",
       "      <td>-2.862049</td>\n",
       "      <td>-2.567041</td>\n",
       "      <td>18162.037173</td>\n",
       "    </tr>\n",
       "  </tbody>\n",
       "</table>\n",
       "</div>"
      ],
      "text/plain": [
       "        adf   p_value  used_lag   n_obs   ci_0.01   ci_0.05    ci_0.1  \\\n",
       "0 -1.772518  0.394189       8.0  5676.0 -3.431503 -2.862049 -2.567041   \n",
       "0 -4.883176  0.000038       0.0  5684.0 -3.431501 -2.862049 -2.567041   \n",
       "0 -1.816743  0.372181       8.0  5676.0 -3.431503 -2.862049 -2.567041   \n",
       "\n",
       "        ic_best  \n",
       "0  16204.566720  \n",
       "0  18296.546358  \n",
       "0  18162.037173  "
      ]
     },
     "execution_count": 22,
     "metadata": {},
     "output_type": "execute_result"
    }
   ],
   "source": [
    "pd.concat((\n",
    "    adf(cs['2000':], autolag='BIC').to_frame().T,\n",
    "    adf(gcs['2000':], autolag='BIC').to_frame().T,\n",
    "    adf(hocs['2000':], autolag='BIC').to_frame().T,\n",
    "))"
   ]
  },
  {
   "cell_type": "markdown",
   "id": "eb6c197c",
   "metadata": {
    "papermill": {
     "duration": 0.028049,
     "end_time": "2022-08-22T06:11:04.073882",
     "exception": false,
     "start_time": "2022-08-22T06:11:04.045833",
     "status": "completed"
    },
    "tags": []
   },
   "source": [
    "# Backtest"
   ]
  },
  {
   "cell_type": "markdown",
   "id": "4bbb1506",
   "metadata": {
    "papermill": {
     "duration": 0.018475,
     "end_time": "2022-08-22T06:11:04.110308",
     "exception": false,
     "start_time": "2022-08-22T06:11:04.091833",
     "status": "completed"
    },
    "tags": []
   },
   "source": [
    "It's not entirely clear how many back contracts are used in the original analysis as they only mentioned they used *all spreads*. In this notebook, the first 6 contracts are used for the sake of simplicity. Beyond 6, there tends to be more missing prices because of inactivity.\n",
    "\n",
    "In practice, one might want to consider liquidity of each contract to decide which one to trade as not all contract months have the same liquidity. In the case of crude oil, after certain points only June and December contracts are actually traded even though other months are listed."
   ]
  },
  {
   "cell_type": "code",
   "execution_count": 23,
   "id": "4aebb8bd",
   "metadata": {
    "execution": {
     "iopub.execute_input": "2022-08-22T06:11:04.148387Z",
     "iopub.status.busy": "2022-08-22T06:11:04.147870Z",
     "iopub.status.idle": "2022-08-22T06:11:05.023124Z",
     "shell.execute_reply": "2022-08-22T06:11:05.022340Z"
    },
    "papermill": {
     "duration": 0.896933,
     "end_time": "2022-08-22T06:11:05.025071",
     "exception": false,
     "start_time": "2022-08-22T06:11:04.128138",
     "status": "completed"
    },
    "tags": []
   },
   "outputs": [],
   "source": [
    "cl_curve = get_futures_curve_snapshot('CL', datetime(2021, 12, 1), 'volume')"
   ]
  },
  {
   "cell_type": "code",
   "execution_count": 24,
   "id": "c2bd035a",
   "metadata": {
    "execution": {
     "iopub.execute_input": "2022-08-22T06:11:05.062557Z",
     "iopub.status.busy": "2022-08-22T06:11:05.062046Z",
     "iopub.status.idle": "2022-08-22T06:11:05.561525Z",
     "shell.execute_reply": "2022-08-22T06:11:05.560789Z"
    },
    "papermill": {
     "duration": 0.520069,
     "end_time": "2022-08-22T06:11:05.563241",
     "exception": false,
     "start_time": "2022-08-22T06:11:05.043172",
     "status": "completed"
    },
    "tags": []
   },
   "outputs": [
    {
     "data": {
      "image/png": "[encoded data removed]",
      "text/plain": [
       "<Figure size 1008x216 with 1 Axes>"
      ]
     },
     "metadata": {
      "needs_background": "light"
     },
     "output_type": "display_data"
    }
   ],
   "source": [
    "ax = cl_curve.loc[:'2024'].set_index('symbol')['volume'].plot(kind='bar', figsize=(14, 3));\n",
    "ax.set_ylabel('Volume')\n",
    "ax.set_title('Crude oil traded volume per contract');"
   ]
  },
  {
   "cell_type": "markdown",
   "id": "9de6acec",
   "metadata": {
    "papermill": {
     "duration": 0.019542,
     "end_time": "2022-08-22T06:11:05.601242",
     "exception": false,
     "start_time": "2022-08-22T06:11:05.581700",
     "status": "completed"
    },
    "tags": []
   },
   "source": [
    "## Crack spread\n",
    "\n",
    "First define the instruments. `roll_rule` is defined to make sure futures are rolled on month-ends. As per the analysis done for crush spreads, some arbitrary collateral of 100k USD is used to meature futures returns."
   ]
  },
  {
   "cell_type": "code",
   "execution_count": 25,
   "id": "5d159539",
   "metadata": {
    "execution": {
     "iopub.execute_input": "2022-08-22T06:11:05.640748Z",
     "iopub.status.busy": "2022-08-22T06:11:05.640470Z",
     "iopub.status.idle": "2022-08-22T06:11:05.647026Z",
     "shell.execute_reply": "2022-08-22T06:11:05.646221Z"
    },
    "papermill": {
     "duration": 0.029309,
     "end_time": "2022-08-22T06:11:05.649233",
     "exception": false,
     "start_time": "2022-08-22T06:11:05.619924",
     "status": "completed"
    },
    "tags": []
   },
   "outputs": [],
   "source": [
    "max_expiry = 6\n",
    "instrument = []\n",
    "for i in range(1, max_expiry + 1):\n",
    "    ho = InstrumentDef('HO', id=f'HO_{i}', collateral=100_000, roll_rule=RollRule.MONTH_END.value, nth_expiry=i)\n",
    "    xb = InstrumentDef('XB', id=f'XB_{i}', collateral=100_000, roll_rule=RollRule.MONTH_END.value, nth_expiry=i)\n",
    "    cl = InstrumentDef('CL', id=f'CL_{i}', collateral=100_000, roll_rule=RollRule.MONTH_END.value, nth_expiry=i)\n",
    "    instrument.append(ho)\n",
    "    instrument.append(xb)\n",
    "    instrument.append(cl)"
   ]
  },
  {
   "cell_type": "code",
   "execution_count": 26,
   "id": "19851a3b",
   "metadata": {
    "execution": {
     "iopub.execute_input": "2022-08-22T06:11:05.689169Z",
     "iopub.status.busy": "2022-08-22T06:11:05.688753Z",
     "iopub.status.idle": "2022-08-22T06:11:05.695339Z",
     "shell.execute_reply": "2022-08-22T06:11:05.694391Z"
    },
    "papermill": {
     "duration": 0.029056,
     "end_time": "2022-08-22T06:11:05.697247",
     "exception": false,
     "start_time": "2022-08-22T06:11:05.668191",
     "status": "completed"
    },
    "tags": []
   },
   "outputs": [
    {
     "data": {
      "text/plain": [
       "18"
      ]
     },
     "execution_count": 26,
     "metadata": {},
     "output_type": "execute_result"
    }
   ],
   "source": [
    "len(instrument)"
   ]
  },
  {
   "cell_type": "code",
   "execution_count": 27,
   "id": "729399c3",
   "metadata": {
    "execution": {
     "iopub.execute_input": "2022-08-22T06:11:05.735979Z",
     "iopub.status.busy": "2022-08-22T06:11:05.735509Z",
     "iopub.status.idle": "2022-08-22T06:16:55.364459Z",
     "shell.execute_reply": "2022-08-22T06:16:55.363191Z"
    },
    "papermill": {
     "duration": 349.650833,
     "end_time": "2022-08-22T06:16:55.366601",
     "exception": false,
     "start_time": "2022-08-22T06:11:05.715768",
     "status": "completed"
    },
    "tags": []
   },
   "outputs": [],
   "source": [
    "engine_cs = BacktestEngine(\n",
    "    start_date=datetime(1985, 1, 1),\n",
    "    strategy=Strategy.DELTA_ONE.value,\n",
    "    instrument=instrument,\n",
    "    signal=signal.CrackSpreadGP1999(\n",
    "        ma_lookback=5,\n",
    "        entry_sigma=2,\n",
    "    ),\n",
    "    weighting=Weighting.SUM.value,\n",
    "    log_level=logging.WARN,\n",
    ")\n",
    "engine_cs.run()"
   ]
  },
  {
   "cell_type": "code",
   "execution_count": 28,
   "id": "f08e3ad6",
   "metadata": {
    "execution": {
     "iopub.execute_input": "2022-08-22T06:16:55.405383Z",
     "iopub.status.busy": "2022-08-22T06:16:55.404552Z",
     "iopub.status.idle": "2022-08-22T06:18:21.671828Z",
     "shell.execute_reply": "2022-08-22T06:18:21.670982Z"
    },
    "papermill": {
     "duration": 86.28861,
     "end_time": "2022-08-22T06:18:21.673759",
     "exception": false,
     "start_time": "2022-08-22T06:16:55.385149",
     "status": "completed"
    },
    "tags": []
   },
   "outputs": [],
   "source": [
    "levels_cs = engine_cs.calculate_equity_curve(calculate_net=False).rename('Crack spread')"
   ]
  },
  {
   "cell_type": "markdown",
   "id": "46f2eaf9",
   "metadata": {
    "papermill": {
     "duration": 0.020248,
     "end_time": "2022-08-22T06:18:21.712751",
     "exception": false,
     "start_time": "2022-08-22T06:18:21.692503",
     "status": "completed"
    },
    "tags": []
   },
   "source": [
    "## Gasoline crack spread"
   ]
  },
  {
   "cell_type": "code",
   "execution_count": 29,
   "id": "ea2825c3",
   "metadata": {
    "execution": {
     "iopub.execute_input": "2022-08-22T06:18:21.751433Z",
     "iopub.status.busy": "2022-08-22T06:18:21.750886Z",
     "iopub.status.idle": "2022-08-22T06:18:21.756671Z",
     "shell.execute_reply": "2022-08-22T06:18:21.755959Z"
    },
    "papermill": {
     "duration": 0.027301,
     "end_time": "2022-08-22T06:18:21.758438",
     "exception": false,
     "start_time": "2022-08-22T06:18:21.731137",
     "status": "completed"
    },
    "tags": []
   },
   "outputs": [],
   "source": [
    "max_expiry = 6\n",
    "instrument = []\n",
    "for i in range(1, max_expiry + 1):\n",
    "    xb = InstrumentDef('XB', id=f'XB_{i}', collateral=100_000, roll_rule=RollRule.MONTH_END.value, nth_expiry=i)\n",
    "    cl = InstrumentDef('CL', id=f'CL_{i}', collateral=100_000, roll_rule=RollRule.MONTH_END.value, nth_expiry=i)\n",
    "    instrument.append(xb)\n",
    "    instrument.append(cl)"
   ]
  },
  {
   "cell_type": "code",
   "execution_count": 30,
   "id": "553fbe4b",
   "metadata": {
    "execution": {
     "iopub.execute_input": "2022-08-22T06:18:21.799536Z",
     "iopub.status.busy": "2022-08-22T06:18:21.798826Z",
     "iopub.status.idle": "2022-08-22T06:22:21.403832Z",
     "shell.execute_reply": "2022-08-22T06:22:21.402920Z"
    },
    "papermill": {
     "duration": 239.629392,
     "end_time": "2022-08-22T06:22:21.406199",
     "exception": false,
     "start_time": "2022-08-22T06:18:21.776807",
     "status": "completed"
    },
    "tags": []
   },
   "outputs": [],
   "source": [
    "engine_gcs = BacktestEngine(\n",
    "    start_date=datetime(1985, 1, 1),\n",
    "    strategy=Strategy.DELTA_ONE.value,\n",
    "    instrument=instrument,\n",
    "    signal=signal.CrackSpreadGP1999(\n",
    "        weights={'XB': 42 * 1000, 'CL': -1 * 1000},\n",
    "        ma_lookback=5,\n",
    "        entry_sigma=2,\n",
    "    ),\n",
    "    weighting=Weighting.SUM.value,\n",
    "    log_level=logging.WARN,\n",
    ")\n",
    "engine_gcs.run()"
   ]
  },
  {
   "cell_type": "code",
   "execution_count": 31,
   "id": "4d87519a",
   "metadata": {
    "execution": {
     "iopub.execute_input": "2022-08-22T06:22:21.456002Z",
     "iopub.status.busy": "2022-08-22T06:22:21.455725Z",
     "iopub.status.idle": "2022-08-22T06:23:18.770542Z",
     "shell.execute_reply": "2022-08-22T06:23:18.769644Z"
    },
    "papermill": {
     "duration": 57.342538,
     "end_time": "2022-08-22T06:23:18.773124",
     "exception": false,
     "start_time": "2022-08-22T06:22:21.430586",
     "status": "completed"
    },
    "tags": []
   },
   "outputs": [],
   "source": [
    "levels_gcs = engine_gcs.calculate_equity_curve(calculate_net=False).rename('Gasoline crack spread')"
   ]
  },
  {
   "cell_type": "markdown",
   "id": "8d456942",
   "metadata": {
    "papermill": {
     "duration": 0.018825,
     "end_time": "2022-08-22T06:23:18.812177",
     "exception": false,
     "start_time": "2022-08-22T06:23:18.793352",
     "status": "completed"
    },
    "tags": []
   },
   "source": [
    "## Heating oil crack spread"
   ]
  },
  {
   "cell_type": "code",
   "execution_count": 32,
   "id": "9cb7c150",
   "metadata": {
    "execution": {
     "iopub.execute_input": "2022-08-22T06:23:18.851638Z",
     "iopub.status.busy": "2022-08-22T06:23:18.851116Z",
     "iopub.status.idle": "2022-08-22T06:23:18.859071Z",
     "shell.execute_reply": "2022-08-22T06:23:18.858079Z"
    },
    "papermill": {
     "duration": 0.030337,
     "end_time": "2022-08-22T06:23:18.860946",
     "exception": false,
     "start_time": "2022-08-22T06:23:18.830609",
     "status": "completed"
    },
    "tags": []
   },
   "outputs": [],
   "source": [
    "max_expiry = 6\n",
    "instrument = []\n",
    "for i in range(1, max_expiry + 1):\n",
    "    ho = InstrumentDef('HO', id=f'HO_{i}', collateral=100_000, roll_rule=RollRule.MONTH_END.value, nth_expiry=i)\n",
    "    cl = InstrumentDef('CL', id=f'CL_{i}', collateral=100_000, roll_rule=RollRule.MONTH_END.value, nth_expiry=i)\n",
    "    instrument.append(ho)\n",
    "    instrument.append(cl)"
   ]
  },
  {
   "cell_type": "code",
   "execution_count": 33,
   "id": "9338a131",
   "metadata": {
    "execution": {
     "iopub.execute_input": "2022-08-22T06:23:18.899748Z",
     "iopub.status.busy": "2022-08-22T06:23:18.899260Z",
     "iopub.status.idle": "2022-08-22T06:27:09.875227Z",
     "shell.execute_reply": "2022-08-22T06:27:09.874443Z"
    },
    "papermill": {
     "duration": 230.998529,
     "end_time": "2022-08-22T06:27:09.877886",
     "exception": false,
     "start_time": "2022-08-22T06:23:18.879357",
     "status": "completed"
    },
    "tags": []
   },
   "outputs": [],
   "source": [
    "engine_hocs = BacktestEngine(\n",
    "    start_date=datetime(1985, 1, 1),\n",
    "    strategy=Strategy.DELTA_ONE.value,\n",
    "    instrument=instrument,\n",
    "    signal=signal.CrackSpreadGP1999(\n",
    "        weights={'HO': 42 * 1000, 'CL': -1 * 1000},\n",
    "        ma_lookback=5,\n",
    "        entry_sigma=2,\n",
    "    ),\n",
    "    weighting=Weighting.SUM.value,\n",
    "    log_level=logging.WARN,\n",
    ")\n",
    "engine_hocs.run()"
   ]
  },
  {
   "cell_type": "code",
   "execution_count": 34,
   "id": "64757694",
   "metadata": {
    "execution": {
     "iopub.execute_input": "2022-08-22T06:27:09.923749Z",
     "iopub.status.busy": "2022-08-22T06:27:09.923368Z",
     "iopub.status.idle": "2022-08-22T06:28:03.733781Z",
     "shell.execute_reply": "2022-08-22T06:28:03.732995Z"
    },
    "papermill": {
     "duration": 53.83221,
     "end_time": "2022-08-22T06:28:03.736355",
     "exception": false,
     "start_time": "2022-08-22T06:27:09.904145",
     "status": "completed"
    },
    "tags": []
   },
   "outputs": [],
   "source": [
    "levels_hocs = engine_hocs.calculate_equity_curve(calculate_net=False).rename('Heating oil crack spread')"
   ]
  },
  {
   "cell_type": "markdown",
   "id": "7d427481",
   "metadata": {
    "papermill": {
     "duration": 0.025762,
     "end_time": "2022-08-22T06:28:03.787389",
     "exception": false,
     "start_time": "2022-08-22T06:28:03.761627",
     "status": "completed"
    },
    "tags": []
   },
   "source": [
    "## Performance\n",
    "During the sample period tested, a mean-reversion on the crack spread worked well."
   ]
  },
  {
   "cell_type": "code",
   "execution_count": 35,
   "id": "348f0796",
   "metadata": {
    "execution": {
     "iopub.execute_input": "2022-08-22T06:28:03.828677Z",
     "iopub.status.busy": "2022-08-22T06:28:03.828384Z",
     "iopub.status.idle": "2022-08-22T06:28:03.839303Z",
     "shell.execute_reply": "2022-08-22T06:28:03.838552Z"
    },
    "papermill": {
     "duration": 0.031806,
     "end_time": "2022-08-22T06:28:03.841176",
     "exception": false,
     "start_time": "2022-08-22T06:28:03.809370",
     "status": "completed"
    },
    "tags": []
   },
   "outputs": [],
   "source": [
    "levels = pd.concat((\n",
    "    levels_cs, levels_gcs, levels_hocs\n",
    "), axis=1)"
   ]
  },
  {
   "cell_type": "code",
   "execution_count": 36,
   "id": "c3b6f7cd",
   "metadata": {
    "execution": {
     "iopub.execute_input": "2022-08-22T06:28:03.879196Z",
     "iopub.status.busy": "2022-08-22T06:28:03.878540Z",
     "iopub.status.idle": "2022-08-22T06:28:05.451402Z",
     "shell.execute_reply": "2022-08-22T06:28:05.450620Z"
    },
    "papermill": {
     "duration": 1.593935,
     "end_time": "2022-08-22T06:28:05.453070",
     "exception": false,
     "start_time": "2022-08-22T06:28:03.859135",
     "status": "completed"
    },
    "tags": []
   },
   "outputs": [
    {
     "data": {
      "image/png": "[encoded data removed]",
      "text/plain": [
       "<Figure size 576x324 with 1 Axes>"
      ]
     },
     "metadata": {
      "needs_background": "light"
     },
     "output_type": "display_data"
    }
   ],
   "source": [
    "fig, ax = plt.subplots(figsize=(8, 4.5))\n",
    "levels[:'1994-11'].plot(ax=ax, logy=True);\n",
    "ax.set_title('Crack spreads mean-reversion (GP1999)')\n",
    "ax.set_ylabel('Cumulative returns');"
   ]
  },
  {
   "cell_type": "code",
   "execution_count": 37,
   "id": "8b9035a4",
   "metadata": {
    "execution": {
     "iopub.execute_input": "2022-08-22T06:28:05.492305Z",
     "iopub.status.busy": "2022-08-22T06:28:05.491636Z",
     "iopub.status.idle": "2022-08-22T06:28:05.538237Z",
     "shell.execute_reply": "2022-08-22T06:28:05.537492Z"
    },
    "papermill": {
     "duration": 0.068536,
     "end_time": "2022-08-22T06:28:05.540157",
     "exception": false,
     "start_time": "2022-08-22T06:28:05.471621",
     "status": "completed"
    },
    "tags": []
   },
   "outputs": [
    {
     "data": {
      "text/html": [
       "<div>\n",
       "<style scoped>\n",
       "    .dataframe tbody tr th:only-of-type {\n",
       "        vertical-align: middle;\n",
       "    }\n",
       "\n",
       "    .dataframe tbody tr th {\n",
       "        vertical-align: top;\n",
       "    }\n",
       "\n",
       "    .dataframe thead th {\n",
       "        text-align: right;\n",
       "    }\n",
       "</style>\n",
       "<table border=\"1\" class=\"dataframe\">\n",
       "  <thead>\n",
       "    <tr style=\"text-align: right;\">\n",
       "      <th></th>\n",
       "      <th>Crack spread</th>\n",
       "      <th>Gasoline crack spread</th>\n",
       "      <th>Heating oil crack spread</th>\n",
       "    </tr>\n",
       "  </thead>\n",
       "  <tbody>\n",
       "    <tr>\n",
       "      <th>CAGR</th>\n",
       "      <td>0.014100</td>\n",
       "      <td>0.007241</td>\n",
       "      <td>0.011715</td>\n",
       "    </tr>\n",
       "    <tr>\n",
       "      <th>Annualised vol</th>\n",
       "      <td>0.018131</td>\n",
       "      <td>0.022948</td>\n",
       "      <td>0.017725</td>\n",
       "    </tr>\n",
       "    <tr>\n",
       "      <th>Sharpe ratio</th>\n",
       "      <td>0.777675</td>\n",
       "      <td>0.315525</td>\n",
       "      <td>0.660914</td>\n",
       "    </tr>\n",
       "    <tr>\n",
       "      <th>Max drawdown</th>\n",
       "      <td>0.071648</td>\n",
       "      <td>0.129760</td>\n",
       "      <td>0.044562</td>\n",
       "    </tr>\n",
       "    <tr>\n",
       "      <th>Calmar ratio</th>\n",
       "      <td>0.196791</td>\n",
       "      <td>0.055800</td>\n",
       "      <td>0.262889</td>\n",
       "    </tr>\n",
       "    <tr>\n",
       "      <th>Skewness</th>\n",
       "      <td>0.791950</td>\n",
       "      <td>4.373877</td>\n",
       "      <td>2.076780</td>\n",
       "    </tr>\n",
       "    <tr>\n",
       "      <th>Kurtosis</th>\n",
       "      <td>45.874931</td>\n",
       "      <td>200.909353</td>\n",
       "      <td>75.098364</td>\n",
       "    </tr>\n",
       "    <tr>\n",
       "      <th>Worst return</th>\n",
       "      <td>-0.012272</td>\n",
       "      <td>-0.022322</td>\n",
       "      <td>-0.013000</td>\n",
       "    </tr>\n",
       "    <tr>\n",
       "      <th>Worst 1d return</th>\n",
       "      <td>-0.012272</td>\n",
       "      <td>-0.022322</td>\n",
       "      <td>-0.013000</td>\n",
       "    </tr>\n",
       "    <tr>\n",
       "      <th>Worst 1w return</th>\n",
       "      <td>-0.018763</td>\n",
       "      <td>-0.034413</td>\n",
       "      <td>-0.019985</td>\n",
       "    </tr>\n",
       "    <tr>\n",
       "      <th>Worst 1m return</th>\n",
       "      <td>-0.030638</td>\n",
       "      <td>-0.029017</td>\n",
       "      <td>-0.026193</td>\n",
       "    </tr>\n",
       "  </tbody>\n",
       "</table>\n",
       "</div>"
      ],
      "text/plain": [
       "                 Crack spread  Gasoline crack spread  Heating oil crack spread\n",
       "CAGR                 0.014100               0.007241                  0.011715\n",
       "Annualised vol       0.018131               0.022948                  0.017725\n",
       "Sharpe ratio         0.777675               0.315525                  0.660914\n",
       "Max drawdown         0.071648               0.129760                  0.044562\n",
       "Calmar ratio         0.196791               0.055800                  0.262889\n",
       "Skewness             0.791950               4.373877                  2.076780\n",
       "Kurtosis            45.874931             200.909353                 75.098364\n",
       "Worst return        -0.012272              -0.022322                 -0.013000\n",
       "Worst 1d return     -0.012272              -0.022322                 -0.013000\n",
       "Worst 1w return     -0.018763              -0.034413                 -0.019985\n",
       "Worst 1m return     -0.030638              -0.029017                 -0.026193"
      ]
     },
     "execution_count": 37,
     "metadata": {},
     "output_type": "execute_result"
    }
   ],
   "source": [
    "levels[:'1994-11'].pipe(Performance).summary()"
   ]
  },
  {
   "cell_type": "markdown",
   "id": "25d81c19",
   "metadata": {
    "papermill": {
     "duration": 0.019134,
     "end_time": "2022-08-22T06:28:05.585395",
     "exception": false,
     "start_time": "2022-08-22T06:28:05.566261",
     "status": "completed"
    },
    "tags": []
   },
   "source": [
    "The underperformance in 1990 coincides with a wider divergence on the crack spread which is intuitive."
   ]
  },
  {
   "cell_type": "code",
   "execution_count": 38,
   "id": "76538675",
   "metadata": {
    "execution": {
     "iopub.execute_input": "2022-08-22T06:28:05.625589Z",
     "iopub.status.busy": "2022-08-22T06:28:05.625196Z",
     "iopub.status.idle": "2022-08-22T06:28:06.082384Z",
     "shell.execute_reply": "2022-08-22T06:28:06.081516Z"
    },
    "papermill": {
     "duration": 0.480223,
     "end_time": "2022-08-22T06:28:06.084889",
     "exception": false,
     "start_time": "2022-08-22T06:28:05.604666",
     "status": "completed"
    },
    "tags": []
   },
   "outputs": [
    {
     "data": {
      "image/png": "[encoded data removed]",
      "text/plain": [
       "<Figure size 576x360 with 2 Axes>"
      ]
     },
     "metadata": {
      "needs_background": "light"
     },
     "output_type": "display_data"
    }
   ],
   "source": [
    "pd.concat((\n",
    "    levels_gcs.rename('Gasoline crack spread strategy'),\n",
    "    gcs.rename('GCS')\n",
    "), axis=1)[:'1994-11'].plot(figsize=(8, 5), secondary_y='GCS');"
   ]
  },
  {
   "cell_type": "markdown",
   "id": "e2d431e2",
   "metadata": {
    "papermill": {
     "duration": 0.030191,
     "end_time": "2022-08-22T06:28:06.145047",
     "exception": false,
     "start_time": "2022-08-22T06:28:06.114856",
     "status": "completed"
    },
    "tags": []
   },
   "source": [
    "## Long-term performance\n",
    "\n",
    "...however as we saw earlier in the time-series of crack spreads, something must have changed in 2000s and the trading strategies stopped working."
   ]
  },
  {
   "cell_type": "code",
   "execution_count": 39,
   "id": "d8a263d6",
   "metadata": {
    "execution": {
     "iopub.execute_input": "2022-08-22T06:28:06.193721Z",
     "iopub.status.busy": "2022-08-22T06:28:06.193332Z",
     "iopub.status.idle": "2022-08-22T06:28:06.731696Z",
     "shell.execute_reply": "2022-08-22T06:28:06.730793Z"
    },
    "papermill": {
     "duration": 0.562401,
     "end_time": "2022-08-22T06:28:06.733670",
     "exception": false,
     "start_time": "2022-08-22T06:28:06.171269",
     "status": "completed"
    },
    "tags": []
   },
   "outputs": [
    {
     "data": {
      "image/png": "[encoded data removed]",
      "text/plain": [
       "<Figure size 576x324 with 1 Axes>"
      ]
     },
     "metadata": {
      "needs_background": "light"
     },
     "output_type": "display_data"
    }
   ],
   "source": [
    "fig, ax = plt.subplots(figsize=(8, 4.5))\n",
    "levels.plot(ax=ax, logy=True);\n",
    "ax.set_title('Crack spreads mean-reversion (GP1999)')\n",
    "ax.set_ylabel('Cumulative returns');"
   ]
  },
  {
   "cell_type": "code",
   "execution_count": 40,
   "id": "b9b01da1",
   "metadata": {
    "execution": {
     "iopub.execute_input": "2022-08-22T06:28:06.779086Z",
     "iopub.status.busy": "2022-08-22T06:28:06.778666Z",
     "iopub.status.idle": "2022-08-22T06:28:06.859710Z",
     "shell.execute_reply": "2022-08-22T06:28:06.858879Z"
    },
    "papermill": {
     "duration": 0.106591,
     "end_time": "2022-08-22T06:28:06.861757",
     "exception": false,
     "start_time": "2022-08-22T06:28:06.755166",
     "status": "completed"
    },
    "tags": []
   },
   "outputs": [
    {
     "data": {
      "text/html": [
       "<div>\n",
       "<style scoped>\n",
       "    .dataframe tbody tr th:only-of-type {\n",
       "        vertical-align: middle;\n",
       "    }\n",
       "\n",
       "    .dataframe tbody tr th {\n",
       "        vertical-align: top;\n",
       "    }\n",
       "\n",
       "    .dataframe thead th {\n",
       "        text-align: right;\n",
       "    }\n",
       "</style>\n",
       "<table border=\"1\" class=\"dataframe\">\n",
       "  <thead>\n",
       "    <tr style=\"text-align: right;\">\n",
       "      <th></th>\n",
       "      <th>Crack spread</th>\n",
       "      <th>Gasoline crack spread</th>\n",
       "      <th>Heating oil crack spread</th>\n",
       "    </tr>\n",
       "  </thead>\n",
       "  <tbody>\n",
       "    <tr>\n",
       "      <th>CAGR</th>\n",
       "      <td>-0.054041</td>\n",
       "      <td>-0.006988</td>\n",
       "      <td>-0.009895</td>\n",
       "    </tr>\n",
       "    <tr>\n",
       "      <th>Annualised vol</th>\n",
       "      <td>0.183762</td>\n",
       "      <td>0.045722</td>\n",
       "      <td>0.080214</td>\n",
       "    </tr>\n",
       "    <tr>\n",
       "      <th>Sharpe ratio</th>\n",
       "      <td>-0.294081</td>\n",
       "      <td>-0.152848</td>\n",
       "      <td>-0.123351</td>\n",
       "    </tr>\n",
       "    <tr>\n",
       "      <th>Max drawdown</th>\n",
       "      <td>0.939134</td>\n",
       "      <td>0.455942</td>\n",
       "      <td>0.499754</td>\n",
       "    </tr>\n",
       "    <tr>\n",
       "      <th>Calmar ratio</th>\n",
       "      <td>-0.057543</td>\n",
       "      <td>-0.015328</td>\n",
       "      <td>-0.019799</td>\n",
       "    </tr>\n",
       "    <tr>\n",
       "      <th>Skewness</th>\n",
       "      <td>10.939125</td>\n",
       "      <td>-1.698728</td>\n",
       "      <td>3.193033</td>\n",
       "    </tr>\n",
       "    <tr>\n",
       "      <th>Kurtosis</th>\n",
       "      <td>1001.214312</td>\n",
       "      <td>64.994238</td>\n",
       "      <td>571.475037</td>\n",
       "    </tr>\n",
       "    <tr>\n",
       "      <th>Worst return</th>\n",
       "      <td>-0.339082</td>\n",
       "      <td>-0.049356</td>\n",
       "      <td>-0.162293</td>\n",
       "    </tr>\n",
       "    <tr>\n",
       "      <th>Worst 1d return</th>\n",
       "      <td>-0.339082</td>\n",
       "      <td>-0.049356</td>\n",
       "      <td>-0.162293</td>\n",
       "    </tr>\n",
       "    <tr>\n",
       "      <th>Worst 1w return</th>\n",
       "      <td>-0.487829</td>\n",
       "      <td>-0.101832</td>\n",
       "      <td>-0.125455</td>\n",
       "    </tr>\n",
       "    <tr>\n",
       "      <th>Worst 1m return</th>\n",
       "      <td>-0.436654</td>\n",
       "      <td>-0.119793</td>\n",
       "      <td>-0.228092</td>\n",
       "    </tr>\n",
       "  </tbody>\n",
       "</table>\n",
       "</div>"
      ],
      "text/plain": [
       "                 Crack spread  Gasoline crack spread  Heating oil crack spread\n",
       "CAGR                -0.054041              -0.006988                 -0.009895\n",
       "Annualised vol       0.183762               0.045722                  0.080214\n",
       "Sharpe ratio        -0.294081              -0.152848                 -0.123351\n",
       "Max drawdown         0.939134               0.455942                  0.499754\n",
       "Calmar ratio        -0.057543              -0.015328                 -0.019799\n",
       "Skewness            10.939125              -1.698728                  3.193033\n",
       "Kurtosis          1001.214312              64.994238                571.475037\n",
       "Worst return        -0.339082              -0.049356                 -0.162293\n",
       "Worst 1d return     -0.339082              -0.049356                 -0.162293\n",
       "Worst 1w return     -0.487829              -0.101832                 -0.125455\n",
       "Worst 1m return     -0.436654              -0.119793                 -0.228092"
      ]
     },
     "execution_count": 40,
     "metadata": {},
     "output_type": "execute_result"
    }
   ],
   "source": [
    "levels.pipe(Performance).summary()"
   ]
  },
  {
   "cell_type": "markdown",
   "id": "e67cc5fa",
   "metadata": {
    "papermill": {
     "duration": 0.020807,
     "end_time": "2022-08-22T06:28:06.903018",
     "exception": false,
     "start_time": "2022-08-22T06:28:06.882211",
     "status": "completed"
    },
    "tags": []
   },
   "source": [
    "## Post publication"
   ]
  },
  {
   "cell_type": "code",
   "execution_count": 41,
   "id": "94b4f13d",
   "metadata": {
    "execution": {
     "iopub.execute_input": "2022-08-22T06:28:06.946053Z",
     "iopub.status.busy": "2022-08-22T06:28:06.945534Z",
     "iopub.status.idle": "2022-08-22T06:28:06.949692Z",
     "shell.execute_reply": "2022-08-22T06:28:06.948654Z"
    },
    "papermill": {
     "duration": 0.028284,
     "end_time": "2022-08-22T06:28:06.951965",
     "exception": false,
     "start_time": "2022-08-22T06:28:06.923681",
     "status": "completed"
    },
    "tags": []
   },
   "outputs": [],
   "source": [
    "publication_date = datetime(1999, 11, 29)"
   ]
  },
  {
   "cell_type": "code",
   "execution_count": 42,
   "id": "1a2e7f9c",
   "metadata": {
    "execution": {
     "iopub.execute_input": "2022-08-22T06:28:07.016254Z",
     "iopub.status.busy": "2022-08-22T06:28:07.015580Z",
     "iopub.status.idle": "2022-08-22T06:28:08.087123Z",
     "shell.execute_reply": "2022-08-22T06:28:08.086238Z"
    },
    "papermill": {
     "duration": 1.106571,
     "end_time": "2022-08-22T06:28:08.089815",
     "exception": false,
     "start_time": "2022-08-22T06:28:06.983244",
     "status": "completed"
    },
    "tags": []
   },
   "outputs": [
    {
     "data": {
      "image/png": "[encoded data removed]",
      "text/plain": [
       "<Figure size 1008x288 with 2 Axes>"
      ]
     },
     "metadata": {
      "needs_background": "light"
     },
     "output_type": "display_data"
    }
   ],
   "source": [
    "fig, ax = plt.subplots(1, 2, figsize=(14, 4))\n",
    "levels.plot(ax=ax[0], logy=True);\n",
    "ax[0].set_title('Crack spreads mean-reversion (GP1999)')\n",
    "ax[0].set_ylabel('Cumulative returns');\n",
    "ax[0].axvline(publication_date, lw=1, ls='--', color='black')\n",
    "ax[0].text(publication_date, 100, 'Publication date ', ha='right')\n",
    "\n",
    "levels.loc[publication_date:].pipe(rebase).plot(ax=ax[1], logy=True);\n",
    "ax[1].set_title('Post publication');"
   ]
  },
  {
   "cell_type": "markdown",
   "id": "d187127a",
   "metadata": {
    "papermill": {
     "duration": 0.031905,
     "end_time": "2022-08-22T06:28:08.153652",
     "exception": false,
     "start_time": "2022-08-22T06:28:08.121747",
     "status": "completed"
    },
    "tags": []
   },
   "source": [
    "# Reference\n",
    "- Girma, P.B. and Paulson, A.S., 1999. Risk arbitrage opportunities in petroleum futures spreads. Journal of Futures Markets, 19(8), pp.931-955."
   ]
  },
  {
   "cell_type": "code",
   "execution_count": 43,
   "id": "69fe3c8e",
   "metadata": {
    "execution": {
     "iopub.execute_input": "2022-08-22T06:28:08.210419Z",
     "iopub.status.busy": "2022-08-22T06:28:08.210140Z",
     "iopub.status.idle": "2022-08-22T06:28:08.214679Z",
     "shell.execute_reply": "2022-08-22T06:28:08.213912Z"
    },
    "papermill": {
     "duration": 0.030744,
     "end_time": "2022-08-22T06:28:08.216463",
     "exception": false,
     "start_time": "2022-08-22T06:28:08.185719",
     "status": "completed"
    },
    "tags": []
   },
   "outputs": [
    {
     "name": "stdout",
     "output_type": "stream",
     "text": [
      "Updated: 22-Aug-2022 06:28\n"
     ]
    }
   ],
   "source": [
    "print(f'Updated: {datetime.utcnow():%d-%b-%Y %H:%M}')"
   ]
  }
 ],
 "metadata": {
  "kernelspec": {
   "display_name": "Python 3",
   "language": "python",
   "name": "python3"
  },
  "language_info": {
   "codemirror_mode": {
    "name": "ipython",
    "version": 3
   },
   "file_extension": ".py",
   "mimetype": "text/x-python",
   "name": "python",
   "nbconvert_exporter": "python",
   "pygments_lexer": "ipython3",
   "version": "3.9.6"
  },
  "papermill": {
   "default_parameters": {},
   "duration": 1097.590463,
   "end_time": "2022-08-22T06:28:10.957349",
   "environment_variables": {},
   "exception": null,
   "input_path": "notebooks/papermill/commodity_crack_spread_stat_arb.ipynb",
   "output_path": "notebooks/commodity_crack_spread_stat_arb.ipynb",
   "parameters": {},
   "start_time": "2022-08-22T06:09:53.366886",
   "version": "2.3.4"
  },
  "toc-autonumbering": true
 },
 "nbformat": 4,
 "nbformat_minor": 5
}