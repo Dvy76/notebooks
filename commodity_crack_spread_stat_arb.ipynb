{
 "cells": [
  {
   "cell_type": "markdown",
   "id": "172ca5c5",
   "metadata": {
    "papermill": {
     "duration": 0.023588,
     "end_time": "2022-08-27T06:10:43.546404",
     "exception": false,
     "start_time": "2022-08-27T06:10:43.522816",
     "status": "completed"
    },
    "tags": []
   },
   "source": [
    "# Commodity crack spread statistical arbitrage\n",
    "\n",
    "In this notebook, the mean-rereversion strategy proposed in Girma and Paulson 1999 (henthforth GP1999) is investigated. It focuses on a various combination of the crude oil (WTI) crack spread. "
   ]
  },
  {
   "cell_type": "code",
   "execution_count": 1,
   "id": "7daa9dab",
   "metadata": {
    "execution": {
     "iopub.execute_input": "2022-08-27T06:10:43.592581Z",
     "iopub.status.busy": "2022-08-27T06:10:43.592140Z",
     "iopub.status.idle": "2022-08-27T06:10:47.014309Z",
     "shell.execute_reply": "2022-08-27T06:10:47.013461Z"
    },
    "papermill": {
     "duration": 3.447795,
     "end_time": "2022-08-27T06:10:47.016423",
     "exception": false,
     "start_time": "2022-08-27T06:10:43.568628",
     "status": "completed"
    },
    "tags": []
   },
   "outputs": [],
   "source": [
    "%matplotlib inline\n",
    "from datetime import datetime\n",
    "import logging\n",
    "import warnings\n",
    "warnings.simplefilter(action='ignore', category=FutureWarning)\n",
    "\n",
    "import pandas as pd\n",
    "import statsmodels.api as sm\n",
    "import matplotlib.pyplot as plt\n",
    "plt.style.use('bmh')\n",
    "\n",
    "from vivace.backtest import BacktestEngine, signal, InstrumentDef\n",
    "from vivace.backtest.analytics import rebase\n",
    "from vivace.backtest.contract import get_futures_curve_snapshot\n",
    "from vivace.backtest.enums import Strategy, Weighting, RollRule\n",
    "from vivace.backtest.stats import Performance"
   ]
  },
  {
   "cell_type": "markdown",
   "id": "68aa8ccf",
   "metadata": {
    "papermill": {
     "duration": 0.015892,
     "end_time": "2022-08-27T06:10:47.047866",
     "exception": false,
     "start_time": "2022-08-27T06:10:47.031974",
     "status": "completed"
    },
    "tags": []
   },
   "source": [
    "# Cointegration test\n",
    "\n",
    "GP1999 first checks if the crack spread is cointegrated. To do that, first let's see futures prices are non-stationary or not. As per usual, the generic price is populated by running a simple long-only backtest by rolling the front contract."
   ]
  },
  {
   "cell_type": "markdown",
   "id": "824e7302",
   "metadata": {
    "papermill": {
     "duration": 0.046077,
     "end_time": "2022-08-27T06:10:47.110408",
     "exception": false,
     "start_time": "2022-08-27T06:10:47.064331",
     "status": "completed"
    },
    "tags": []
   },
   "source": [
    "## ADF test\n",
    "\n",
    "The ADF test is done by the `adfuller` function in `statsmodels`. (cf. https://www.statsmodels.org/dev/generated/statsmodels.tsa.stattools.adfuller.html)"
   ]
  },
  {
   "cell_type": "code",
   "execution_count": 2,
   "id": "4eb3103c",
   "metadata": {
    "execution": {
     "iopub.execute_input": "2022-08-27T06:10:47.146071Z",
     "iopub.status.busy": "2022-08-27T06:10:47.145492Z",
     "iopub.status.idle": "2022-08-27T06:10:57.113263Z",
     "shell.execute_reply": "2022-08-27T06:10:57.112274Z"
    },
    "papermill": {
     "duration": 9.988332,
     "end_time": "2022-08-27T06:10:57.115264",
     "exception": false,
     "start_time": "2022-08-27T06:10:47.126932",
     "status": "completed"
    },
    "tags": []
   },
   "outputs": [],
   "source": [
    "cl_1st = BacktestEngine(instrument='CL', log_level=logging.WARN)\n",
    "cl_1st.run()"
   ]
  },
  {
   "cell_type": "code",
   "execution_count": 3,
   "id": "9910ecff",
   "metadata": {
    "execution": {
     "iopub.execute_input": "2022-08-27T06:10:57.148812Z",
     "iopub.status.busy": "2022-08-27T06:10:57.148383Z",
     "iopub.status.idle": "2022-08-27T06:11:07.829532Z",
     "shell.execute_reply": "2022-08-27T06:11:07.828595Z"
    },
    "papermill": {
     "duration": 10.701086,
     "end_time": "2022-08-27T06:11:07.832152",
     "exception": false,
     "start_time": "2022-08-27T06:10:57.131066",
     "status": "completed"
    },
    "tags": []
   },
   "outputs": [],
   "source": [
    "ho_1st = BacktestEngine(instrument='HO', log_level=logging.WARN)\n",
    "ho_1st.run()"
   ]
  },
  {
   "cell_type": "code",
   "execution_count": 4,
   "id": "32cec4c3",
   "metadata": {
    "execution": {
     "iopub.execute_input": "2022-08-27T06:11:07.876033Z",
     "iopub.status.busy": "2022-08-27T06:11:07.875535Z",
     "iopub.status.idle": "2022-08-27T06:11:17.633089Z",
     "shell.execute_reply": "2022-08-27T06:11:17.632239Z"
    },
    "papermill": {
     "duration": 9.77912,
     "end_time": "2022-08-27T06:11:17.635021",
     "exception": false,
     "start_time": "2022-08-27T06:11:07.855901",
     "status": "completed"
    },
    "tags": []
   },
   "outputs": [],
   "source": [
    "xb_1st = BacktestEngine(instrument='XB', log_level=logging.WARN)\n",
    "xb_1st.run()"
   ]
  },
  {
   "cell_type": "code",
   "execution_count": 5,
   "id": "a602ffe8",
   "metadata": {
    "execution": {
     "iopub.execute_input": "2022-08-27T06:11:17.669278Z",
     "iopub.status.busy": "2022-08-27T06:11:17.668876Z",
     "iopub.status.idle": "2022-08-27T06:11:39.861079Z",
     "shell.execute_reply": "2022-08-27T06:11:39.860318Z"
    },
    "papermill": {
     "duration": 22.212892,
     "end_time": "2022-08-27T06:11:39.863554",
     "exception": false,
     "start_time": "2022-08-27T06:11:17.650662",
     "status": "completed"
    },
    "tags": []
   },
   "outputs": [],
   "source": [
    "cl_price = cl_1st.get_generic_price().squeeze().fillna(method='pad').rename('Crude oil')\n",
    "ho_price = ho_1st.get_generic_price().squeeze().fillna(method='pad').rename('Heating oil')\n",
    "xb_price = xb_1st.get_generic_price().squeeze().fillna(method='pad').rename('Gasoline')"
   ]
  },
  {
   "cell_type": "code",
   "execution_count": 6,
   "id": "81a1c9be",
   "metadata": {
    "execution": {
     "iopub.execute_input": "2022-08-27T06:11:39.910766Z",
     "iopub.status.busy": "2022-08-27T06:11:39.910422Z",
     "iopub.status.idle": "2022-08-27T06:11:39.917198Z",
     "shell.execute_reply": "2022-08-27T06:11:39.916317Z"
    },
    "papermill": {
     "duration": 0.03358,
     "end_time": "2022-08-27T06:11:39.919593",
     "exception": false,
     "start_time": "2022-08-27T06:11:39.886013",
     "status": "completed"
    },
    "tags": []
   },
   "outputs": [],
   "source": [
    "def adf(ts: pd.Series, **kwargs) -> pd.Series:\n",
    "    \"\"\" Run the ADF test and return a cleaned result \"\"\"\n",
    "    adf_result = sm.tsa.stattools.adfuller(ts, **kwargs)\n",
    "    cleaned = {\n",
    "        'adf': adf_result[0],\n",
    "        'p_value': adf_result[1],\n",
    "        'used_lag': adf_result[2],\n",
    "        'n_obs': adf_result[3],\n",
    "        'ci_0.01': adf_result[4]['1%'],\n",
    "        'ci_0.05': adf_result[4]['5%'],\n",
    "        'ci_0.1': adf_result[4]['10%'],\n",
    "        'ic_best': adf_result[5],\n",
    "    }\n",
    "    return pd.Series(cleaned, name=ts.name)"
   ]
  },
  {
   "cell_type": "markdown",
   "id": "73a9df64",
   "metadata": {
    "papermill": {
     "duration": 0.021055,
     "end_time": "2022-08-27T06:11:39.961908",
     "exception": false,
     "start_time": "2022-08-27T06:11:39.940853",
     "status": "completed"
    },
    "tags": []
   },
   "source": [
    "GP1999 uses Schwarz's information criterion (i.e., BIC) to select the optimal number of lags included in the ADF test."
   ]
  },
  {
   "cell_type": "code",
   "execution_count": 7,
   "id": "b69649d6",
   "metadata": {
    "execution": {
     "iopub.execute_input": "2022-08-27T06:11:40.005947Z",
     "iopub.status.busy": "2022-08-27T06:11:40.005561Z",
     "iopub.status.idle": "2022-08-27T06:11:40.696604Z",
     "shell.execute_reply": "2022-08-27T06:11:40.695628Z"
    },
    "papermill": {
     "duration": 0.717038,
     "end_time": "2022-08-27T06:11:40.699289",
     "exception": false,
     "start_time": "2022-08-27T06:11:39.982251",
     "status": "completed"
    },
    "tags": []
   },
   "outputs": [],
   "source": [
    "adf_result = pd.concat((\n",
    "    adf(cl_price['1983-04':'1994-11'], autolag='BIC').to_frame().T,\n",
    "    adf(ho_price['1983-04':'1994-11'], autolag='BIC').to_frame().T,\n",
    "    adf(xb_price['1984-12':'1994-11'], autolag='BIC').to_frame().T,\n",
    "))"
   ]
  },
  {
   "cell_type": "markdown",
   "id": "1396f87e",
   "metadata": {
    "papermill": {
     "duration": 0.02361,
     "end_time": "2022-08-27T06:11:40.766051",
     "exception": false,
     "start_time": "2022-08-27T06:11:40.742441",
     "status": "completed"
    },
    "tags": []
   },
   "source": [
    "In the ADF test, $H_0$ is that the time-series is non-stationary. Based on this result below, $H_0$ cannot be rejected for crude oil, however is rejected for heating oil and gasoline at the 10% and 5% level respectively.\n",
    "\n",
    "This is interesting because usually almost always asset prices are non-stationary."
   ]
  },
  {
   "cell_type": "code",
   "execution_count": 8,
   "id": "3655e953",
   "metadata": {
    "execution": {
     "iopub.execute_input": "2022-08-27T06:11:40.806948Z",
     "iopub.status.busy": "2022-08-27T06:11:40.806487Z",
     "iopub.status.idle": "2022-08-27T06:11:40.827992Z",
     "shell.execute_reply": "2022-08-27T06:11:40.827183Z"
    },
    "papermill": {
     "duration": 0.045289,
     "end_time": "2022-08-27T06:11:40.830307",
     "exception": false,
     "start_time": "2022-08-27T06:11:40.785018",
     "status": "completed"
    },
    "tags": []
   },
   "outputs": [
    {
     "data": {
      "text/html": [
       "<div>\n",
       "<style scoped>\n",
       "    .dataframe tbody tr th:only-of-type {\n",
       "        vertical-align: middle;\n",
       "    }\n",
       "\n",
       "    .dataframe tbody tr th {\n",
       "        vertical-align: top;\n",
       "    }\n",
       "\n",
       "    .dataframe thead th {\n",
       "        text-align: right;\n",
       "    }\n",
       "</style>\n",
       "<table border=\"1\" class=\"dataframe\">\n",
       "  <thead>\n",
       "    <tr style=\"text-align: right;\">\n",
       "      <th></th>\n",
       "      <th>adf</th>\n",
       "      <th>p_value</th>\n",
       "      <th>used_lag</th>\n",
       "      <th>n_obs</th>\n",
       "      <th>ci_0.01</th>\n",
       "      <th>ci_0.05</th>\n",
       "      <th>ci_0.1</th>\n",
       "      <th>ic_best</th>\n",
       "    </tr>\n",
       "  </thead>\n",
       "  <tbody>\n",
       "    <tr>\n",
       "      <th>Crude oil</th>\n",
       "      <td>-2.185213</td>\n",
       "      <td>0.211656</td>\n",
       "      <td>8.0</td>\n",
       "      <td>2924.0</td>\n",
       "      <td>-3.432588</td>\n",
       "      <td>-2.862529</td>\n",
       "      <td>-2.567296</td>\n",
       "      <td>4195.186424</td>\n",
       "    </tr>\n",
       "    <tr>\n",
       "      <th>Heating oil</th>\n",
       "      <td>-2.743636</td>\n",
       "      <td>0.066787</td>\n",
       "      <td>3.0</td>\n",
       "      <td>2929.0</td>\n",
       "      <td>-3.432585</td>\n",
       "      <td>-2.862527</td>\n",
       "      <td>-2.567296</td>\n",
       "      <td>-15763.929006</td>\n",
       "    </tr>\n",
       "    <tr>\n",
       "      <th>Gasoline</th>\n",
       "      <td>-3.003758</td>\n",
       "      <td>0.034545</td>\n",
       "      <td>3.0</td>\n",
       "      <td>2510.0</td>\n",
       "      <td>-3.432958</td>\n",
       "      <td>-2.862692</td>\n",
       "      <td>-2.567383</td>\n",
       "      <td>-14006.551367</td>\n",
       "    </tr>\n",
       "  </tbody>\n",
       "</table>\n",
       "</div>"
      ],
      "text/plain": [
       "                  adf   p_value  used_lag   n_obs   ci_0.01   ci_0.05  \\\n",
       "Crude oil   -2.185213  0.211656       8.0  2924.0 -3.432588 -2.862529   \n",
       "Heating oil -2.743636  0.066787       3.0  2929.0 -3.432585 -2.862527   \n",
       "Gasoline    -3.003758  0.034545       3.0  2510.0 -3.432958 -2.862692   \n",
       "\n",
       "               ci_0.1       ic_best  \n",
       "Crude oil   -2.567296   4195.186424  \n",
       "Heating oil -2.567296 -15763.929006  \n",
       "Gasoline    -2.567383 -14006.551367  "
      ]
     },
     "execution_count": 8,
     "metadata": {},
     "output_type": "execute_result"
    }
   ],
   "source": [
    "adf_result"
   ]
  },
  {
   "cell_type": "markdown",
   "id": "cb465c0a",
   "metadata": {
    "papermill": {
     "duration": 0.016621,
     "end_time": "2022-08-27T06:11:40.865294",
     "exception": false,
     "start_time": "2022-08-27T06:11:40.848673",
     "status": "completed"
    },
    "tags": []
   },
   "source": [
    "Probably it is to do with the sampling period. It may look a stationary process especially after 1986, however clearly it is heteroskedastic and the price move in 1986 seems like a shift in the level."
   ]
  },
  {
   "cell_type": "code",
   "execution_count": 9,
   "id": "11339aae",
   "metadata": {
    "execution": {
     "iopub.execute_input": "2022-08-27T06:11:40.906083Z",
     "iopub.status.busy": "2022-08-27T06:11:40.905612Z",
     "iopub.status.idle": "2022-08-27T06:11:41.326304Z",
     "shell.execute_reply": "2022-08-27T06:11:41.325450Z"
    },
    "papermill": {
     "duration": 0.444476,
     "end_time": "2022-08-27T06:11:41.328014",
     "exception": false,
     "start_time": "2022-08-27T06:11:40.883538",
     "status": "completed"
    },
    "tags": []
   },
   "outputs": [
    {
     "data": {
      "image/png": "[encoded data removed]",
      "text/plain": [
       "<Figure size 576x360 with 2 Axes>"
      ]
     },
     "metadata": {
      "needs_background": "light"
     },
     "output_type": "display_data"
    }
   ],
   "source": [
    "fig, ax = plt.subplots(figsize=(8, 5))\n",
    "pd.concat((\n",
    "    cl_price['1983-04':'1994-11'],\n",
    "    ho_price['1983-04':'1994-11'],\n",
    "    xb_price['1984-12':'1994-11'],\n",
    "), axis=1).plot(secondary_y=['Heating oil', 'Gasoline'], ax=ax);\n",
    "ax.set_title('Futures prices (generic 1st)');"
   ]
  },
  {
   "cell_type": "markdown",
   "id": "47068957",
   "metadata": {
    "papermill": {
     "duration": 0.016098,
     "end_time": "2022-08-27T06:11:41.359929",
     "exception": false,
     "start_time": "2022-08-27T06:11:41.343831",
     "status": "completed"
    },
    "tags": []
   },
   "source": [
    "In fact, in the long-run $H_0$ cannot be rejected for all contracts based on both BIC and AIC."
   ]
  },
  {
   "cell_type": "code",
   "execution_count": 10,
   "id": "47dcef74",
   "metadata": {
    "execution": {
     "iopub.execute_input": "2022-08-27T06:11:41.393407Z",
     "iopub.status.busy": "2022-08-27T06:11:41.392682Z",
     "iopub.status.idle": "2022-08-27T06:11:43.855711Z",
     "shell.execute_reply": "2022-08-27T06:11:43.854766Z"
    },
    "papermill": {
     "duration": 2.482546,
     "end_time": "2022-08-27T06:11:43.858192",
     "exception": false,
     "start_time": "2022-08-27T06:11:41.375646",
     "status": "completed"
    },
    "tags": []
   },
   "outputs": [
    {
     "data": {
      "text/html": [
       "<div>\n",
       "<style scoped>\n",
       "    .dataframe tbody tr th:only-of-type {\n",
       "        vertical-align: middle;\n",
       "    }\n",
       "\n",
       "    .dataframe tbody tr th {\n",
       "        vertical-align: top;\n",
       "    }\n",
       "\n",
       "    .dataframe thead th {\n",
       "        text-align: right;\n",
       "    }\n",
       "</style>\n",
       "<table border=\"1\" class=\"dataframe\">\n",
       "  <thead>\n",
       "    <tr style=\"text-align: right;\">\n",
       "      <th></th>\n",
       "      <th>adf</th>\n",
       "      <th>p_value</th>\n",
       "      <th>used_lag</th>\n",
       "      <th>n_obs</th>\n",
       "      <th>ci_0.01</th>\n",
       "      <th>ci_0.05</th>\n",
       "      <th>ci_0.1</th>\n",
       "      <th>ic_best</th>\n",
       "    </tr>\n",
       "  </thead>\n",
       "  <tbody>\n",
       "    <tr>\n",
       "      <th>Crude oil</th>\n",
       "      <td>-1.603970</td>\n",
       "      <td>0.481599</td>\n",
       "      <td>1.0</td>\n",
       "      <td>9897.0</td>\n",
       "      <td>-3.431011</td>\n",
       "      <td>-2.861832</td>\n",
       "      <td>-2.566925</td>\n",
       "      <td>31055.106554</td>\n",
       "    </tr>\n",
       "    <tr>\n",
       "      <th>Heating oil</th>\n",
       "      <td>-0.643301</td>\n",
       "      <td>0.860895</td>\n",
       "      <td>6.0</td>\n",
       "      <td>9893.0</td>\n",
       "      <td>-3.431011</td>\n",
       "      <td>-2.861832</td>\n",
       "      <td>-2.566926</td>\n",
       "      <td>-37691.540952</td>\n",
       "    </tr>\n",
       "    <tr>\n",
       "      <th>Gasoline</th>\n",
       "      <td>-1.748298</td>\n",
       "      <td>0.406415</td>\n",
       "      <td>0.0</td>\n",
       "      <td>9479.0</td>\n",
       "      <td>-3.431040</td>\n",
       "      <td>-2.861845</td>\n",
       "      <td>-2.566932</td>\n",
       "      <td>-35844.552570</td>\n",
       "    </tr>\n",
       "  </tbody>\n",
       "</table>\n",
       "</div>"
      ],
      "text/plain": [
       "                  adf   p_value  used_lag   n_obs   ci_0.01   ci_0.05  \\\n",
       "Crude oil   -1.603970  0.481599       1.0  9897.0 -3.431011 -2.861832   \n",
       "Heating oil -0.643301  0.860895       6.0  9893.0 -3.431011 -2.861832   \n",
       "Gasoline    -1.748298  0.406415       0.0  9479.0 -3.431040 -2.861845   \n",
       "\n",
       "               ci_0.1       ic_best  \n",
       "Crude oil   -2.566925  31055.106554  \n",
       "Heating oil -2.566926 -37691.540952  \n",
       "Gasoline    -2.566932 -35844.552570  "
      ]
     },
     "execution_count": 10,
     "metadata": {},
     "output_type": "execute_result"
    }
   ],
   "source": [
    "pd.concat((\n",
    "    adf(cl_price['1983-04':], autolag='BIC').to_frame().T,\n",
    "    adf(ho_price['1983-04':], autolag='BIC').to_frame().T,\n",
    "    adf(xb_price['1984-12':], autolag='BIC').to_frame().T,\n",
    "))"
   ]
  },
  {
   "cell_type": "code",
   "execution_count": 11,
   "id": "6cda4738",
   "metadata": {
    "execution": {
     "iopub.execute_input": "2022-08-27T06:11:43.908056Z",
     "iopub.status.busy": "2022-08-27T06:11:43.907596Z",
     "iopub.status.idle": "2022-08-27T06:11:48.108388Z",
     "shell.execute_reply": "2022-08-27T06:11:48.106823Z"
    },
    "papermill": {
     "duration": 4.228694,
     "end_time": "2022-08-27T06:11:48.110910",
     "exception": false,
     "start_time": "2022-08-27T06:11:43.882216",
     "status": "completed"
    },
    "tags": []
   },
   "outputs": [
    {
     "data": {
      "text/html": [
       "<div>\n",
       "<style scoped>\n",
       "    .dataframe tbody tr th:only-of-type {\n",
       "        vertical-align: middle;\n",
       "    }\n",
       "\n",
       "    .dataframe tbody tr th {\n",
       "        vertical-align: top;\n",
       "    }\n",
       "\n",
       "    .dataframe thead th {\n",
       "        text-align: right;\n",
       "    }\n",
       "</style>\n",
       "<table border=\"1\" class=\"dataframe\">\n",
       "  <thead>\n",
       "    <tr style=\"text-align: right;\">\n",
       "      <th></th>\n",
       "      <th>adf</th>\n",
       "      <th>p_value</th>\n",
       "      <th>used_lag</th>\n",
       "      <th>n_obs</th>\n",
       "      <th>ci_0.01</th>\n",
       "      <th>ci_0.05</th>\n",
       "      <th>ci_0.1</th>\n",
       "      <th>ic_best</th>\n",
       "    </tr>\n",
       "  </thead>\n",
       "  <tbody>\n",
       "    <tr>\n",
       "      <th>Crude oil</th>\n",
       "      <td>-2.157139</td>\n",
       "      <td>0.222167</td>\n",
       "      <td>38.0</td>\n",
       "      <td>9860.0</td>\n",
       "      <td>-3.431013</td>\n",
       "      <td>-2.861833</td>\n",
       "      <td>-2.566926</td>\n",
       "      <td>30967.511469</td>\n",
       "    </tr>\n",
       "    <tr>\n",
       "      <th>Heating oil</th>\n",
       "      <td>-1.053208</td>\n",
       "      <td>0.733367</td>\n",
       "      <td>35.0</td>\n",
       "      <td>9864.0</td>\n",
       "      <td>-3.431013</td>\n",
       "      <td>-2.861833</td>\n",
       "      <td>-2.566926</td>\n",
       "      <td>-37881.265212</td>\n",
       "    </tr>\n",
       "    <tr>\n",
       "      <th>Gasoline</th>\n",
       "      <td>-2.162204</td>\n",
       "      <td>0.220248</td>\n",
       "      <td>20.0</td>\n",
       "      <td>9459.0</td>\n",
       "      <td>-3.431042</td>\n",
       "      <td>-2.861846</td>\n",
       "      <td>-2.566933</td>\n",
       "      <td>-35885.632030</td>\n",
       "    </tr>\n",
       "  </tbody>\n",
       "</table>\n",
       "</div>"
      ],
      "text/plain": [
       "                  adf   p_value  used_lag   n_obs   ci_0.01   ci_0.05  \\\n",
       "Crude oil   -2.157139  0.222167      38.0  9860.0 -3.431013 -2.861833   \n",
       "Heating oil -1.053208  0.733367      35.0  9864.0 -3.431013 -2.861833   \n",
       "Gasoline    -2.162204  0.220248      20.0  9459.0 -3.431042 -2.861846   \n",
       "\n",
       "               ci_0.1       ic_best  \n",
       "Crude oil   -2.566926  30967.511469  \n",
       "Heating oil -2.566926 -37881.265212  \n",
       "Gasoline    -2.566933 -35885.632030  "
      ]
     },
     "execution_count": 11,
     "metadata": {},
     "output_type": "execute_result"
    }
   ],
   "source": [
    "pd.concat((\n",
    "    adf(cl_price['1983-04':], autolag='AIC').to_frame().T,\n",
    "    adf(ho_price['1983-04':], autolag='AIC').to_frame().T,\n",
    "    adf(xb_price['1984-12':], autolag='AIC').to_frame().T,\n",
    "))"
   ]
  },
  {
   "cell_type": "markdown",
   "id": "eda29bdf",
   "metadata": {
    "papermill": {
     "duration": 0.024255,
     "end_time": "2022-08-27T06:11:48.160128",
     "exception": false,
     "start_time": "2022-08-27T06:11:48.135873",
     "status": "completed"
    },
    "tags": []
   },
   "source": [
    "Test for two unit roots shows the $H_0$ is rejected for all assets so it would be safe to assume prices are all $I(1)$ processes."
   ]
  },
  {
   "cell_type": "code",
   "execution_count": 12,
   "id": "5cc64e78",
   "metadata": {
    "execution": {
     "iopub.execute_input": "2022-08-27T06:11:48.210986Z",
     "iopub.status.busy": "2022-08-27T06:11:48.210549Z",
     "iopub.status.idle": "2022-08-27T06:11:48.945956Z",
     "shell.execute_reply": "2022-08-27T06:11:48.944991Z"
    },
    "papermill": {
     "duration": 0.769819,
     "end_time": "2022-08-27T06:11:48.954470",
     "exception": false,
     "start_time": "2022-08-27T06:11:48.184651",
     "status": "completed"
    },
    "tags": []
   },
   "outputs": [
    {
     "data": {
      "text/html": [
       "<div>\n",
       "<style scoped>\n",
       "    .dataframe tbody tr th:only-of-type {\n",
       "        vertical-align: middle;\n",
       "    }\n",
       "\n",
       "    .dataframe tbody tr th {\n",
       "        vertical-align: top;\n",
       "    }\n",
       "\n",
       "    .dataframe thead th {\n",
       "        text-align: right;\n",
       "    }\n",
       "</style>\n",
       "<table border=\"1\" class=\"dataframe\">\n",
       "  <thead>\n",
       "    <tr style=\"text-align: right;\">\n",
       "      <th></th>\n",
       "      <th>adf</th>\n",
       "      <th>p_value</th>\n",
       "      <th>used_lag</th>\n",
       "      <th>n_obs</th>\n",
       "      <th>ci_0.01</th>\n",
       "      <th>ci_0.05</th>\n",
       "      <th>ci_0.1</th>\n",
       "      <th>ic_best</th>\n",
       "    </tr>\n",
       "  </thead>\n",
       "  <tbody>\n",
       "    <tr>\n",
       "      <th>Crude oil</th>\n",
       "      <td>-22.609167</td>\n",
       "      <td>0.0</td>\n",
       "      <td>7.0</td>\n",
       "      <td>2924.0</td>\n",
       "      <td>-3.432588</td>\n",
       "      <td>-2.862529</td>\n",
       "      <td>-2.567296</td>\n",
       "      <td>4191.382386</td>\n",
       "    </tr>\n",
       "    <tr>\n",
       "      <th>Heating oil</th>\n",
       "      <td>-23.732562</td>\n",
       "      <td>0.0</td>\n",
       "      <td>7.0</td>\n",
       "      <td>2924.0</td>\n",
       "      <td>-3.432588</td>\n",
       "      <td>-2.862529</td>\n",
       "      <td>-2.567296</td>\n",
       "      <td>-15759.438574</td>\n",
       "    </tr>\n",
       "    <tr>\n",
       "      <th>Gasoline</th>\n",
       "      <td>-31.046797</td>\n",
       "      <td>0.0</td>\n",
       "      <td>2.0</td>\n",
       "      <td>2510.0</td>\n",
       "      <td>-3.432958</td>\n",
       "      <td>-2.862692</td>\n",
       "      <td>-2.567383</td>\n",
       "      <td>-13998.959272</td>\n",
       "    </tr>\n",
       "  </tbody>\n",
       "</table>\n",
       "</div>"
      ],
      "text/plain": [
       "                   adf  p_value  used_lag   n_obs   ci_0.01   ci_0.05  \\\n",
       "Crude oil   -22.609167      0.0       7.0  2924.0 -3.432588 -2.862529   \n",
       "Heating oil -23.732562      0.0       7.0  2924.0 -3.432588 -2.862529   \n",
       "Gasoline    -31.046797      0.0       2.0  2510.0 -3.432958 -2.862692   \n",
       "\n",
       "               ci_0.1       ic_best  \n",
       "Crude oil   -2.567296   4191.382386  \n",
       "Heating oil -2.567296 -15759.438574  \n",
       "Gasoline    -2.567383 -13998.959272  "
      ]
     },
     "execution_count": 12,
     "metadata": {},
     "output_type": "execute_result"
    }
   ],
   "source": [
    "pd.concat((\n",
    "    adf(cl_price['1983-04':'1994-11'].diff().dropna(), autolag='BIC').to_frame().T,\n",
    "    adf(ho_price['1983-04':'1994-11'].diff().dropna(), autolag='BIC').to_frame().T,\n",
    "    adf(xb_price['1984-12':'1994-11'].diff().dropna(), autolag='BIC').to_frame().T,\n",
    "))"
   ]
  },
  {
   "cell_type": "markdown",
   "id": "5443698a",
   "metadata": {
    "papermill": {
     "duration": 0.021092,
     "end_time": "2022-08-27T06:11:49.014687",
     "exception": false,
     "start_time": "2022-08-27T06:11:48.993595",
     "status": "completed"
    },
    "tags": []
   },
   "source": [
    "## Engle-Granger test\n",
    "\n",
    "Next, let's check if the crack spread is cointegrated. The cointegration vector is estimated by OLS and the stationarity of the residual is tested with the ADF test.\n",
    "The test is done by the `coint` function in `statsmodels`. (cf. https://www.statsmodels.org/dev/generated/statsmodels.tsa.stattools.coint.html)"
   ]
  },
  {
   "cell_type": "code",
   "execution_count": 13,
   "id": "15663029",
   "metadata": {
    "execution": {
     "iopub.execute_input": "2022-08-27T06:11:49.050854Z",
     "iopub.status.busy": "2022-08-27T06:11:49.050475Z",
     "iopub.status.idle": "2022-08-27T06:11:49.068683Z",
     "shell.execute_reply": "2022-08-27T06:11:49.067792Z"
    },
    "papermill": {
     "duration": 0.038962,
     "end_time": "2022-08-27T06:11:49.070804",
     "exception": false,
     "start_time": "2022-08-27T06:11:49.031842",
     "status": "completed"
    },
    "tags": []
   },
   "outputs": [],
   "source": [
    "price_concat = pd.concat((\n",
    "    cl_price,\n",
    "    ho_price,\n",
    "    xb_price,\n",
    "), axis=1).fillna(method='pad').dropna()"
   ]
  },
  {
   "cell_type": "code",
   "execution_count": 14,
   "id": "cf731a5e",
   "metadata": {
    "execution": {
     "iopub.execute_input": "2022-08-27T06:11:49.105289Z",
     "iopub.status.busy": "2022-08-27T06:11:49.104896Z",
     "iopub.status.idle": "2022-08-27T06:11:49.112347Z",
     "shell.execute_reply": "2022-08-27T06:11:49.111474Z"
    },
    "papermill": {
     "duration": 0.027116,
     "end_time": "2022-08-27T06:11:49.114195",
     "exception": false,
     "start_time": "2022-08-27T06:11:49.087079",
     "status": "completed"
    },
    "tags": []
   },
   "outputs": [],
   "source": [
    "def coint(y: pd.Series, x: pd.DataFrame) -> pd.Series:\n",
    "    \"\"\" Run the cointegration test and return a cleaned result \"\"\"\n",
    "    result = sm.tsa.stattools.coint(y, x)\n",
    "    cleaned = {\n",
    "        't_value': result[0],\n",
    "        'p_value': result[1],\n",
    "        'ci_0.01': result[2][0],\n",
    "        'ci_0.05': result[2][1],\n",
    "        'ci_0.1': result[2][2],\n",
    "    }\n",
    "    return pd.Series(cleaned)"
   ]
  },
  {
   "cell_type": "code",
   "execution_count": 15,
   "id": "4299196b",
   "metadata": {
    "execution": {
     "iopub.execute_input": "2022-08-27T06:11:49.148724Z",
     "iopub.status.busy": "2022-08-27T06:11:49.148355Z",
     "iopub.status.idle": "2022-08-27T06:11:50.921494Z",
     "shell.execute_reply": "2022-08-27T06:11:50.920297Z"
    },
    "papermill": {
     "duration": 1.793434,
     "end_time": "2022-08-27T06:11:50.924069",
     "exception": false,
     "start_time": "2022-08-27T06:11:49.130635",
     "status": "completed"
    },
    "tags": []
   },
   "outputs": [],
   "source": [
    "coint_result = pd.concat((\n",
    "    coint(\n",
    "        price_concat.loc[:'1994-11', 'Crude oil'],\n",
    "        price_concat.loc[:'1994-11', ['Heating oil', 'Gasoline']]\n",
    "    ).to_frame('CL vs HO + XB').T,\n",
    "    coint(\n",
    "        price_concat.loc[:'1994-11', 'Crude oil'],\n",
    "        price_concat.loc[:'1994-11', ['Gasoline']]\n",
    "    ).to_frame('CL vs XB').T,\n",
    "    coint(\n",
    "        price_concat.loc[:'1994-11', 'Crude oil'],\n",
    "        price_concat.loc[:'1994-11', ['Heating oil']]\n",
    "    ).to_frame('CL vs HO').T,\n",
    "))"
   ]
  },
  {
   "cell_type": "markdown",
   "id": "ea294ded",
   "metadata": {
    "papermill": {
     "duration": 0.025663,
     "end_time": "2022-08-27T06:11:50.975148",
     "exception": false,
     "start_time": "2022-08-27T06:11:50.949485",
     "status": "completed"
    },
    "tags": []
   },
   "source": [
    "The $H_0$ is that there is no cointegration. As per GP1999, all three crack spreads are cointegrated. "
   ]
  },
  {
   "cell_type": "code",
   "execution_count": 16,
   "id": "1824345d",
   "metadata": {
    "execution": {
     "iopub.execute_input": "2022-08-27T06:11:51.058142Z",
     "iopub.status.busy": "2022-08-27T06:11:51.057768Z",
     "iopub.status.idle": "2022-08-27T06:11:51.071257Z",
     "shell.execute_reply": "2022-08-27T06:11:51.070337Z"
    },
    "papermill": {
     "duration": 0.073287,
     "end_time": "2022-08-27T06:11:51.073228",
     "exception": false,
     "start_time": "2022-08-27T06:11:50.999941",
     "status": "completed"
    },
    "tags": []
   },
   "outputs": [
    {
     "data": {
      "text/html": [
       "<div>\n",
       "<style scoped>\n",
       "    .dataframe tbody tr th:only-of-type {\n",
       "        vertical-align: middle;\n",
       "    }\n",
       "\n",
       "    .dataframe tbody tr th {\n",
       "        vertical-align: top;\n",
       "    }\n",
       "\n",
       "    .dataframe thead th {\n",
       "        text-align: right;\n",
       "    }\n",
       "</style>\n",
       "<table border=\"1\" class=\"dataframe\">\n",
       "  <thead>\n",
       "    <tr style=\"text-align: right;\">\n",
       "      <th></th>\n",
       "      <th>t_value</th>\n",
       "      <th>p_value</th>\n",
       "      <th>ci_0.01</th>\n",
       "      <th>ci_0.05</th>\n",
       "      <th>ci_0.1</th>\n",
       "    </tr>\n",
       "  </thead>\n",
       "  <tbody>\n",
       "    <tr>\n",
       "      <th>CL vs HO + XB</th>\n",
       "      <td>-6.110715</td>\n",
       "      <td>0.000005</td>\n",
       "      <td>-4.299485</td>\n",
       "      <td>-3.744067</td>\n",
       "      <td>-3.454651</td>\n",
       "    </tr>\n",
       "    <tr>\n",
       "      <th>CL vs XB</th>\n",
       "      <td>-5.762029</td>\n",
       "      <td>0.000005</td>\n",
       "      <td>-3.900800</td>\n",
       "      <td>-3.338561</td>\n",
       "      <td>-3.046137</td>\n",
       "    </tr>\n",
       "    <tr>\n",
       "      <th>CL vs HO</th>\n",
       "      <td>-5.708354</td>\n",
       "      <td>0.000007</td>\n",
       "      <td>-3.900800</td>\n",
       "      <td>-3.338561</td>\n",
       "      <td>-3.046137</td>\n",
       "    </tr>\n",
       "  </tbody>\n",
       "</table>\n",
       "</div>"
      ],
      "text/plain": [
       "                t_value   p_value   ci_0.01   ci_0.05    ci_0.1\n",
       "CL vs HO + XB -6.110715  0.000005 -4.299485 -3.744067 -3.454651\n",
       "CL vs XB      -5.762029  0.000005 -3.900800 -3.338561 -3.046137\n",
       "CL vs HO      -5.708354  0.000007 -3.900800 -3.338561 -3.046137"
      ]
     },
     "execution_count": 16,
     "metadata": {},
     "output_type": "execute_result"
    }
   ],
   "source": [
    "coint_result"
   ]
  },
  {
   "cell_type": "markdown",
   "id": "2f816c06",
   "metadata": {
    "papermill": {
     "duration": 0.0172,
     "end_time": "2022-08-27T06:11:51.107728",
     "exception": false,
     "start_time": "2022-08-27T06:11:51.090528",
     "status": "completed"
    },
    "tags": []
   },
   "source": [
    "This seems to hold with the full sample."
   ]
  },
  {
   "cell_type": "code",
   "execution_count": 17,
   "id": "467771dc",
   "metadata": {
    "execution": {
     "iopub.execute_input": "2022-08-27T06:11:51.142532Z",
     "iopub.status.busy": "2022-08-27T06:11:51.142252Z",
     "iopub.status.idle": "2022-08-27T06:11:57.732595Z",
     "shell.execute_reply": "2022-08-27T06:11:57.730254Z"
    },
    "papermill": {
     "duration": 6.612003,
     "end_time": "2022-08-27T06:11:57.736279",
     "exception": false,
     "start_time": "2022-08-27T06:11:51.124276",
     "status": "completed"
    },
    "tags": []
   },
   "outputs": [
    {
     "data": {
      "text/html": [
       "<div>\n",
       "<style scoped>\n",
       "    .dataframe tbody tr th:only-of-type {\n",
       "        vertical-align: middle;\n",
       "    }\n",
       "\n",
       "    .dataframe tbody tr th {\n",
       "        vertical-align: top;\n",
       "    }\n",
       "\n",
       "    .dataframe thead th {\n",
       "        text-align: right;\n",
       "    }\n",
       "</style>\n",
       "<table border=\"1\" class=\"dataframe\">\n",
       "  <thead>\n",
       "    <tr style=\"text-align: right;\">\n",
       "      <th></th>\n",
       "      <th>t_value</th>\n",
       "      <th>p_value</th>\n",
       "      <th>ci_0.01</th>\n",
       "      <th>ci_0.05</th>\n",
       "      <th>ci_0.1</th>\n",
       "    </tr>\n",
       "  </thead>\n",
       "  <tbody>\n",
       "    <tr>\n",
       "      <th>CL vs HO + XB</th>\n",
       "      <td>-3.829416</td>\n",
       "      <td>3.962123e-02</td>\n",
       "      <td>-4.295263</td>\n",
       "      <td>-3.741563</td>\n",
       "      <td>-3.452835</td>\n",
       "    </tr>\n",
       "    <tr>\n",
       "      <th>CL vs XB</th>\n",
       "      <td>-6.767878</td>\n",
       "      <td>3.028416e-08</td>\n",
       "      <td>-3.897595</td>\n",
       "      <td>-3.336774</td>\n",
       "      <td>-3.044897</td>\n",
       "    </tr>\n",
       "    <tr>\n",
       "      <th>CL vs HO</th>\n",
       "      <td>-2.763697</td>\n",
       "      <td>1.775092e-01</td>\n",
       "      <td>-3.897595</td>\n",
       "      <td>-3.336774</td>\n",
       "      <td>-3.044897</td>\n",
       "    </tr>\n",
       "  </tbody>\n",
       "</table>\n",
       "</div>"
      ],
      "text/plain": [
       "                t_value       p_value   ci_0.01   ci_0.05    ci_0.1\n",
       "CL vs HO + XB -3.829416  3.962123e-02 -4.295263 -3.741563 -3.452835\n",
       "CL vs XB      -6.767878  3.028416e-08 -3.897595 -3.336774 -3.044897\n",
       "CL vs HO      -2.763697  1.775092e-01 -3.897595 -3.336774 -3.044897"
      ]
     },
     "execution_count": 17,
     "metadata": {},
     "output_type": "execute_result"
    }
   ],
   "source": [
    "pd.concat((\n",
    "    coint(\n",
    "        price_concat.loc[:, 'Crude oil'],\n",
    "        price_concat.loc[:, ['Heating oil', 'Gasoline']]\n",
    "    ).to_frame('CL vs HO + XB').T,\n",
    "    coint(\n",
    "        price_concat.loc[:, 'Crude oil'],\n",
    "        price_concat.loc[:, ['Gasoline']]\n",
    "    ).to_frame('CL vs XB').T,\n",
    "    coint(\n",
    "        price_concat.loc[:, 'Crude oil'],\n",
    "        price_concat.loc[:, ['Heating oil']]\n",
    "    ).to_frame('CL vs HO').T,\n",
    "))"
   ]
  },
  {
   "cell_type": "markdown",
   "id": "9107b072",
   "metadata": {
    "papermill": {
     "duration": 0.016741,
     "end_time": "2022-08-27T06:11:57.781741",
     "exception": false,
     "start_time": "2022-08-27T06:11:57.765000",
     "status": "completed"
    },
    "tags": []
   },
   "source": [
    "However the confidence level is somewhat weakend with recent data although they are at least still cointegrated at the 5% level."
   ]
  },
  {
   "cell_type": "code",
   "execution_count": 18,
   "id": "3898183b",
   "metadata": {
    "execution": {
     "iopub.execute_input": "2022-08-27T06:11:57.816901Z",
     "iopub.status.busy": "2022-08-27T06:11:57.816288Z",
     "iopub.status.idle": "2022-08-27T06:11:58.782626Z",
     "shell.execute_reply": "2022-08-27T06:11:58.781487Z"
    },
    "papermill": {
     "duration": 0.987601,
     "end_time": "2022-08-27T06:11:58.786026",
     "exception": false,
     "start_time": "2022-08-27T06:11:57.798425",
     "status": "completed"
    },
    "tags": []
   },
   "outputs": [
    {
     "data": {
      "text/html": [
       "<div>\n",
       "<style scoped>\n",
       "    .dataframe tbody tr th:only-of-type {\n",
       "        vertical-align: middle;\n",
       "    }\n",
       "\n",
       "    .dataframe tbody tr th {\n",
       "        vertical-align: top;\n",
       "    }\n",
       "\n",
       "    .dataframe thead th {\n",
       "        text-align: right;\n",
       "    }\n",
       "</style>\n",
       "<table border=\"1\" class=\"dataframe\">\n",
       "  <thead>\n",
       "    <tr style=\"text-align: right;\">\n",
       "      <th></th>\n",
       "      <th>t_value</th>\n",
       "      <th>p_value</th>\n",
       "      <th>ci_0.01</th>\n",
       "      <th>ci_0.05</th>\n",
       "      <th>ci_0.1</th>\n",
       "    </tr>\n",
       "  </thead>\n",
       "  <tbody>\n",
       "    <tr>\n",
       "      <th>CL vs HO + XB</th>\n",
       "      <td>-3.265413</td>\n",
       "      <td>0.148284</td>\n",
       "      <td>-4.298273</td>\n",
       "      <td>-3.743348</td>\n",
       "      <td>-3.454130</td>\n",
       "    </tr>\n",
       "    <tr>\n",
       "      <th>CL vs XB</th>\n",
       "      <td>-4.550776</td>\n",
       "      <td>0.001009</td>\n",
       "      <td>-3.899880</td>\n",
       "      <td>-3.338048</td>\n",
       "      <td>-3.045781</td>\n",
       "    </tr>\n",
       "    <tr>\n",
       "      <th>CL vs HO</th>\n",
       "      <td>-1.943264</td>\n",
       "      <td>0.557914</td>\n",
       "      <td>-3.899880</td>\n",
       "      <td>-3.338048</td>\n",
       "      <td>-3.045781</td>\n",
       "    </tr>\n",
       "  </tbody>\n",
       "</table>\n",
       "</div>"
      ],
      "text/plain": [
       "                t_value   p_value   ci_0.01   ci_0.05    ci_0.1\n",
       "CL vs HO + XB -3.265413  0.148284 -4.298273 -3.743348 -3.454130\n",
       "CL vs XB      -4.550776  0.001009 -3.899880 -3.338048 -3.045781\n",
       "CL vs HO      -1.943264  0.557914 -3.899880 -3.338048 -3.045781"
      ]
     },
     "execution_count": 18,
     "metadata": {},
     "output_type": "execute_result"
    }
   ],
   "source": [
    "pd.concat((\n",
    "    coint(\n",
    "        price_concat.loc['2010':, 'Crude oil'],\n",
    "        price_concat.loc['2010':, ['Heating oil', 'Gasoline']]\n",
    "    ).to_frame('CL vs HO + XB').T,\n",
    "    coint(\n",
    "        price_concat.loc['2010':, 'Crude oil'],\n",
    "        price_concat.loc['2010':, ['Gasoline']]\n",
    "    ).to_frame('CL vs XB').T,\n",
    "    coint(\n",
    "        price_concat.loc['2010':, 'Crude oil'],\n",
    "        price_concat.loc['2010':, ['Heating oil']]\n",
    "    ).to_frame('CL vs HO').T,\n",
    "))"
   ]
  },
  {
   "cell_type": "markdown",
   "id": "f22325d0",
   "metadata": {
    "papermill": {
     "duration": 0.027733,
     "end_time": "2022-08-27T06:11:58.847156",
     "exception": false,
     "start_time": "2022-08-27T06:11:58.819423",
     "status": "completed"
    },
    "tags": []
   },
   "source": [
    "## Crack spreads\n",
    "\n",
    "Additionally, GP1999 tests the stationarity of the popularly traded crack spread -- 3:2:1 crack spread (CS), 1:1:0 gasoline crack spread (GCS) and 1:0:1 heating oil crack spread (HOCS).\n",
    "\n",
    "Note that the crude oil contract is priced in barrels while the other two are priced in gallon, and there are 42 gallons per 1 barrel. Some unit conversions are required to calculate such spreads."
   ]
  },
  {
   "cell_type": "code",
   "execution_count": 19,
   "id": "015bb3e9",
   "metadata": {
    "execution": {
     "iopub.execute_input": "2022-08-27T06:11:58.886515Z",
     "iopub.status.busy": "2022-08-27T06:11:58.886235Z",
     "iopub.status.idle": "2022-08-27T06:11:58.895122Z",
     "shell.execute_reply": "2022-08-27T06:11:58.894262Z"
    },
    "papermill": {
     "duration": 0.029104,
     "end_time": "2022-08-27T06:11:58.897238",
     "exception": false,
     "start_time": "2022-08-27T06:11:58.868134",
     "status": "completed"
    },
    "tags": []
   },
   "outputs": [],
   "source": [
    "cs = (price_concat['Heating oil'].mul(42).mul(2 / 3) + \n",
    "      price_concat['Gasoline'].mul(42).mul(1 / 3) - \n",
    "      price_concat['Crude oil'])\n",
    "gcs = (price_concat['Gasoline'].mul(42) - \n",
    "       price_concat['Crude oil'])\n",
    "hocs = (price_concat['Heating oil'].mul(42) - \n",
    "        price_concat['Crude oil'])"
   ]
  },
  {
   "cell_type": "markdown",
   "id": "6608463f",
   "metadata": {
    "papermill": {
     "duration": 0.025337,
     "end_time": "2022-08-27T06:11:58.940553",
     "exception": false,
     "start_time": "2022-08-27T06:11:58.915216",
     "status": "completed"
    },
    "tags": []
   },
   "source": [
    "As can be seen visually below, these spreads appear stationary until around 2000 after which they started to drift away from a certain level. This could be related to the financialisation of commodities. There are some evidence suggesting that index investments and speculative trades influence the commodity markets. (cf https://www.ecb.europa.eu/pub/financial-stability/fsr/focus/2011/pdf/ecb~6fdfdfce1c.fsrbox201112_04.pdf)"
   ]
  },
  {
   "cell_type": "code",
   "execution_count": 20,
   "id": "0b27db24",
   "metadata": {
    "execution": {
     "iopub.execute_input": "2022-08-27T06:11:58.993504Z",
     "iopub.status.busy": "2022-08-27T06:11:58.993109Z",
     "iopub.status.idle": "2022-08-27T06:11:59.781489Z",
     "shell.execute_reply": "2022-08-27T06:11:59.780338Z"
    },
    "papermill": {
     "duration": 0.818249,
     "end_time": "2022-08-27T06:11:59.784029",
     "exception": false,
     "start_time": "2022-08-27T06:11:58.965780",
     "status": "completed"
    },
    "tags": []
   },
   "outputs": [
    {
     "data": {
      "image/png": "[encoded data removed]",
      "text/plain": [
       "<Figure size 864x288 with 3 Axes>"
      ]
     },
     "metadata": {
      "needs_background": "light"
     },
     "output_type": "display_data"
    }
   ],
   "source": [
    "fig, ax = plt.subplots(1, 3, figsize=(12, 4), sharey=True)\n",
    "cs.plot(ax=ax[0])\n",
    "gcs.plot(ax=ax[1])\n",
    "hocs.plot(ax=ax[2])\n",
    "\n",
    "ax[0].set_title('3:2:1 crack spread')\n",
    "ax[1].set_title('1:1:0 gasoline crack spread')\n",
    "ax[2].set_title('1:0:1 heating oil crack spread')\n",
    "ax[0].set_ylabel('Crack spread ($)')\n",
    "\n",
    "fig.tight_layout();"
   ]
  },
  {
   "cell_type": "markdown",
   "id": "ddba6b40",
   "metadata": {
    "papermill": {
     "duration": 0.026272,
     "end_time": "2022-08-27T06:11:59.836968",
     "exception": false,
     "start_time": "2022-08-27T06:11:59.810696",
     "status": "completed"
    },
    "tags": []
   },
   "source": [
    "More formally, the ADF tests below show that they were stationary until Nov-1994."
   ]
  },
  {
   "cell_type": "code",
   "execution_count": 21,
   "id": "bd58dd0b",
   "metadata": {
    "execution": {
     "iopub.execute_input": "2022-08-27T06:11:59.891506Z",
     "iopub.status.busy": "2022-08-27T06:11:59.890620Z",
     "iopub.status.idle": "2022-08-27T06:12:00.997421Z",
     "shell.execute_reply": "2022-08-27T06:12:00.996432Z"
    },
    "papermill": {
     "duration": 1.143321,
     "end_time": "2022-08-27T06:12:01.006463",
     "exception": false,
     "start_time": "2022-08-27T06:11:59.863142",
     "status": "completed"
    },
    "tags": []
   },
   "outputs": [
    {
     "data": {
      "text/html": [
       "<div>\n",
       "<style scoped>\n",
       "    .dataframe tbody tr th:only-of-type {\n",
       "        vertical-align: middle;\n",
       "    }\n",
       "\n",
       "    .dataframe tbody tr th {\n",
       "        vertical-align: top;\n",
       "    }\n",
       "\n",
       "    .dataframe thead th {\n",
       "        text-align: right;\n",
       "    }\n",
       "</style>\n",
       "<table border=\"1\" class=\"dataframe\">\n",
       "  <thead>\n",
       "    <tr style=\"text-align: right;\">\n",
       "      <th></th>\n",
       "      <th>adf</th>\n",
       "      <th>p_value</th>\n",
       "      <th>used_lag</th>\n",
       "      <th>n_obs</th>\n",
       "      <th>ci_0.01</th>\n",
       "      <th>ci_0.05</th>\n",
       "      <th>ci_0.1</th>\n",
       "      <th>ic_best</th>\n",
       "    </tr>\n",
       "  </thead>\n",
       "  <tbody>\n",
       "    <tr>\n",
       "      <th>0</th>\n",
       "      <td>-7.926287</td>\n",
       "      <td>3.611421e-12</td>\n",
       "      <td>0.0</td>\n",
       "      <td>2515.0</td>\n",
       "      <td>-3.432953</td>\n",
       "      <td>-2.86269</td>\n",
       "      <td>-2.567382</td>\n",
       "      <td>1757.165999</td>\n",
       "    </tr>\n",
       "    <tr>\n",
       "      <th>0</th>\n",
       "      <td>-5.640046</td>\n",
       "      <td>1.041538e-06</td>\n",
       "      <td>1.0</td>\n",
       "      <td>2514.0</td>\n",
       "      <td>-3.432954</td>\n",
       "      <td>-2.86269</td>\n",
       "      <td>-2.567382</td>\n",
       "      <td>2505.871051</td>\n",
       "    </tr>\n",
       "    <tr>\n",
       "      <th>0</th>\n",
       "      <td>-6.999952</td>\n",
       "      <td>7.365777e-10</td>\n",
       "      <td>0.0</td>\n",
       "      <td>2515.0</td>\n",
       "      <td>-3.432953</td>\n",
       "      <td>-2.86269</td>\n",
       "      <td>-2.567382</td>\n",
       "      <td>2815.457971</td>\n",
       "    </tr>\n",
       "  </tbody>\n",
       "</table>\n",
       "</div>"
      ],
      "text/plain": [
       "        adf       p_value  used_lag   n_obs   ci_0.01  ci_0.05    ci_0.1  \\\n",
       "0 -7.926287  3.611421e-12       0.0  2515.0 -3.432953 -2.86269 -2.567382   \n",
       "0 -5.640046  1.041538e-06       1.0  2514.0 -3.432954 -2.86269 -2.567382   \n",
       "0 -6.999952  7.365777e-10       0.0  2515.0 -3.432953 -2.86269 -2.567382   \n",
       "\n",
       "       ic_best  \n",
       "0  1757.165999  \n",
       "0  2505.871051  \n",
       "0  2815.457971  "
      ]
     },
     "execution_count": 21,
     "metadata": {},
     "output_type": "execute_result"
    }
   ],
   "source": [
    "pd.concat((\n",
    "    adf(cs[:'1994-11'], autolag='BIC').to_frame().T,\n",
    "    adf(gcs[:'1994-11'], autolag='BIC').to_frame().T,\n",
    "    adf(hocs[:'1994-11'], autolag='BIC').to_frame().T,\n",
    "))"
   ]
  },
  {
   "cell_type": "markdown",
   "id": "6e2c8692",
   "metadata": {
    "papermill": {
     "duration": 0.019719,
     "end_time": "2022-08-27T06:12:01.054750",
     "exception": false,
     "start_time": "2022-08-27T06:12:01.035031",
     "status": "completed"
    },
    "tags": []
   },
   "source": [
    "Statistically though these spreads are still stationary at the 1% confidence level even after 2000."
   ]
  },
  {
   "cell_type": "code",
   "execution_count": 22,
   "id": "d3f9d7a9",
   "metadata": {
    "execution": {
     "iopub.execute_input": "2022-08-27T06:12:01.096989Z",
     "iopub.status.busy": "2022-08-27T06:12:01.096359Z",
     "iopub.status.idle": "2022-08-27T06:12:03.802046Z",
     "shell.execute_reply": "2022-08-27T06:12:03.779502Z"
    },
    "papermill": {
     "duration": 2.730216,
     "end_time": "2022-08-27T06:12:03.805049",
     "exception": false,
     "start_time": "2022-08-27T06:12:01.074833",
     "status": "completed"
    },
    "tags": []
   },
   "outputs": [
    {
     "data": {
      "text/html": [
       "<div>\n",
       "<style scoped>\n",
       "    .dataframe tbody tr th:only-of-type {\n",
       "        vertical-align: middle;\n",
       "    }\n",
       "\n",
       "    .dataframe tbody tr th {\n",
       "        vertical-align: top;\n",
       "    }\n",
       "\n",
       "    .dataframe thead th {\n",
       "        text-align: right;\n",
       "    }\n",
       "</style>\n",
       "<table border=\"1\" class=\"dataframe\">\n",
       "  <thead>\n",
       "    <tr style=\"text-align: right;\">\n",
       "      <th></th>\n",
       "      <th>adf</th>\n",
       "      <th>p_value</th>\n",
       "      <th>used_lag</th>\n",
       "      <th>n_obs</th>\n",
       "      <th>ci_0.01</th>\n",
       "      <th>ci_0.05</th>\n",
       "      <th>ci_0.1</th>\n",
       "      <th>ic_best</th>\n",
       "    </tr>\n",
       "  </thead>\n",
       "  <tbody>\n",
       "    <tr>\n",
       "      <th>0</th>\n",
       "      <td>-1.498194</td>\n",
       "      <td>0.534404</td>\n",
       "      <td>8.0</td>\n",
       "      <td>5681.0</td>\n",
       "      <td>-3.431502</td>\n",
       "      <td>-2.862049</td>\n",
       "      <td>-2.567041</td>\n",
       "      <td>16225.601081</td>\n",
       "    </tr>\n",
       "    <tr>\n",
       "      <th>0</th>\n",
       "      <td>-5.104349</td>\n",
       "      <td>0.000014</td>\n",
       "      <td>0.0</td>\n",
       "      <td>5689.0</td>\n",
       "      <td>-3.431500</td>\n",
       "      <td>-2.862048</td>\n",
       "      <td>-2.567041</td>\n",
       "      <td>18361.805657</td>\n",
       "    </tr>\n",
       "    <tr>\n",
       "      <th>0</th>\n",
       "      <td>-1.235297</td>\n",
       "      <td>0.658231</td>\n",
       "      <td>8.0</td>\n",
       "      <td>5681.0</td>\n",
       "      <td>-3.431502</td>\n",
       "      <td>-2.862049</td>\n",
       "      <td>-2.567041</td>\n",
       "      <td>18221.522800</td>\n",
       "    </tr>\n",
       "  </tbody>\n",
       "</table>\n",
       "</div>"
      ],
      "text/plain": [
       "        adf   p_value  used_lag   n_obs   ci_0.01   ci_0.05    ci_0.1  \\\n",
       "0 -1.498194  0.534404       8.0  5681.0 -3.431502 -2.862049 -2.567041   \n",
       "0 -5.104349  0.000014       0.0  5689.0 -3.431500 -2.862048 -2.567041   \n",
       "0 -1.235297  0.658231       8.0  5681.0 -3.431502 -2.862049 -2.567041   \n",
       "\n",
       "        ic_best  \n",
       "0  16225.601081  \n",
       "0  18361.805657  \n",
       "0  18221.522800  "
      ]
     },
     "execution_count": 22,
     "metadata": {},
     "output_type": "execute_result"
    }
   ],
   "source": [
    "pd.concat((\n",
    "    adf(cs['2000':], autolag='BIC').to_frame().T,\n",
    "    adf(gcs['2000':], autolag='BIC').to_frame().T,\n",
    "    adf(hocs['2000':], autolag='BIC').to_frame().T,\n",
    "))"
   ]
  },
  {
   "cell_type": "markdown",
   "id": "eb6c197c",
   "metadata": {
    "papermill": {
     "duration": 0.01799,
     "end_time": "2022-08-27T06:12:03.846462",
     "exception": false,
     "start_time": "2022-08-27T06:12:03.828472",
     "status": "completed"
    },
    "tags": []
   },
   "source": [
    "# Backtest"
   ]
  },
  {
   "cell_type": "markdown",
   "id": "4bbb1506",
   "metadata": {
    "papermill": {
     "duration": 0.018441,
     "end_time": "2022-08-27T06:12:03.882762",
     "exception": false,
     "start_time": "2022-08-27T06:12:03.864321",
     "status": "completed"
    },
    "tags": []
   },
   "source": [
    "It's not entirely clear how many back contracts are used in the original analysis as they only mentioned they used *all spreads*. In this notebook, the first 6 contracts are used for the sake of simplicity. Beyond 6, there tends to be more missing prices because of inactivity.\n",
    "\n",
    "In practice, one might want to consider liquidity of each contract to decide which one to trade as not all contract months have the same liquidity. In the case of crude oil, after certain points only June and December contracts are actually traded even though other months are listed."
   ]
  },
  {
   "cell_type": "code",
   "execution_count": 23,
   "id": "4aebb8bd",
   "metadata": {
    "execution": {
     "iopub.execute_input": "2022-08-27T06:12:03.921636Z",
     "iopub.status.busy": "2022-08-27T06:12:03.921252Z",
     "iopub.status.idle": "2022-08-27T06:12:04.829456Z",
     "shell.execute_reply": "2022-08-27T06:12:04.828615Z"
    },
    "papermill": {
     "duration": 0.930789,
     "end_time": "2022-08-27T06:12:04.831449",
     "exception": false,
     "start_time": "2022-08-27T06:12:03.900660",
     "status": "completed"
    },
    "tags": []
   },
   "outputs": [],
   "source": [
    "cl_curve = get_futures_curve_snapshot('CL', datetime(2021, 12, 1), 'volume')"
   ]
  },
  {
   "cell_type": "code",
   "execution_count": 24,
   "id": "c2bd035a",
   "metadata": {
    "execution": {
     "iopub.execute_input": "2022-08-27T06:12:04.872739Z",
     "iopub.status.busy": "2022-08-27T06:12:04.871981Z",
     "iopub.status.idle": "2022-08-27T06:12:05.354697Z",
     "shell.execute_reply": "2022-08-27T06:12:05.353994Z"
    },
    "papermill": {
     "duration": 0.506093,
     "end_time": "2022-08-27T06:12:05.357048",
     "exception": false,
     "start_time": "2022-08-27T06:12:04.850955",
     "status": "completed"
    },
    "tags": []
   },
   "outputs": [
    {
     "data": {
      "image/png": "[encoded data removed]",
      "text/plain": [
       "<Figure size 1008x216 with 1 Axes>"
      ]
     },
     "metadata": {
      "needs_background": "light"
     },
     "output_type": "display_data"
    }
   ],
   "source": [
    "ax = cl_curve.loc[:'2024'].set_index('symbol')['volume'].plot(kind='bar', figsize=(14, 3));\n",
    "ax.set_ylabel('Volume')\n",
    "ax.set_title('Crude oil traded volume per contract');"
   ]
  },
  {
   "cell_type": "markdown",
   "id": "9de6acec",
   "metadata": {
    "papermill": {
     "duration": 0.026072,
     "end_time": "2022-08-27T06:12:05.409808",
     "exception": false,
     "start_time": "2022-08-27T06:12:05.383736",
     "status": "completed"
    },
    "tags": []
   },
   "source": [
    "## Crack spread\n",
    "\n",
    "First define the instruments. `roll_rule` is defined to make sure futures are rolled on month-ends. As per the analysis done for crush spreads, some arbitrary collateral of 100k USD is used to meature futures returns."
   ]
  },
  {
   "cell_type": "code",
   "execution_count": 25,
   "id": "5d159539",
   "metadata": {
    "execution": {
     "iopub.execute_input": "2022-08-27T06:12:05.462823Z",
     "iopub.status.busy": "2022-08-27T06:12:05.462558Z",
     "iopub.status.idle": "2022-08-27T06:12:05.468918Z",
     "shell.execute_reply": "2022-08-27T06:12:05.468205Z"
    },
    "papermill": {
     "duration": 0.034959,
     "end_time": "2022-08-27T06:12:05.470715",
     "exception": false,
     "start_time": "2022-08-27T06:12:05.435756",
     "status": "completed"
    },
    "tags": []
   },
   "outputs": [],
   "source": [
    "max_expiry = 6\n",
    "instrument = []\n",
    "for i in range(1, max_expiry + 1):\n",
    "    ho = InstrumentDef('HO', id=f'HO_{i}', collateral=100_000, roll_rule=RollRule.MONTH_END.value, nth_expiry=i)\n",
    "    xb = InstrumentDef('XB', id=f'XB_{i}', collateral=100_000, roll_rule=RollRule.MONTH_END.value, nth_expiry=i)\n",
    "    cl = InstrumentDef('CL', id=f'CL_{i}', collateral=100_000, roll_rule=RollRule.MONTH_END.value, nth_expiry=i)\n",
    "    instrument.append(ho)\n",
    "    instrument.append(xb)\n",
    "    instrument.append(cl)"
   ]
  },
  {
   "cell_type": "code",
   "execution_count": 26,
   "id": "19851a3b",
   "metadata": {
    "execution": {
     "iopub.execute_input": "2022-08-27T06:12:05.509072Z",
     "iopub.status.busy": "2022-08-27T06:12:05.508743Z",
     "iopub.status.idle": "2022-08-27T06:12:05.513185Z",
     "shell.execute_reply": "2022-08-27T06:12:05.512550Z"
    },
    "papermill": {
     "duration": 0.025718,
     "end_time": "2022-08-27T06:12:05.514889",
     "exception": false,
     "start_time": "2022-08-27T06:12:05.489171",
     "status": "completed"
    },
    "tags": []
   },
   "outputs": [
    {
     "data": {
      "text/plain": [
       "18"
      ]
     },
     "execution_count": 26,
     "metadata": {},
     "output_type": "execute_result"
    }
   ],
   "source": [
    "len(instrument)"
   ]
  },
  {
   "cell_type": "code",
   "execution_count": 27,
   "id": "729399c3",
   "metadata": {
    "execution": {
     "iopub.execute_input": "2022-08-27T06:12:05.553841Z",
     "iopub.status.busy": "2022-08-27T06:12:05.553386Z",
     "iopub.status.idle": "2022-08-27T06:18:24.035668Z",
     "shell.execute_reply": "2022-08-27T06:18:24.034894Z"
    },
    "papermill": {
     "duration": 378.505048,
     "end_time": "2022-08-27T06:18:24.038293",
     "exception": false,
     "start_time": "2022-08-27T06:12:05.533245",
     "status": "completed"
    },
    "tags": []
   },
   "outputs": [],
   "source": [
    "engine_cs = BacktestEngine(\n",
    "    start_date=datetime(1985, 1, 1),\n",
    "    strategy=Strategy.DELTA_ONE.value,\n",
    "    instrument=instrument,\n",
    "    signal=signal.CrackSpreadGP1999(\n",
    "        ma_lookback=5,\n",
    "        entry_sigma=2,\n",
    "    ),\n",
    "    weighting=Weighting.SUM.value,\n",
    "    log_level=logging.WARN,\n",
    ")\n",
    "engine_cs.run()"
   ]
  },
  {
   "cell_type": "code",
   "execution_count": 28,
   "id": "f08e3ad6",
   "metadata": {
    "execution": {
     "iopub.execute_input": "2022-08-27T06:18:24.080132Z",
     "iopub.status.busy": "2022-08-27T06:18:24.079835Z",
     "iopub.status.idle": "2022-08-27T06:19:59.303594Z",
     "shell.execute_reply": "2022-08-27T06:19:59.302860Z"
    },
    "papermill": {
     "duration": 95.247498,
     "end_time": "2022-08-27T06:19:59.305804",
     "exception": false,
     "start_time": "2022-08-27T06:18:24.058306",
     "status": "completed"
    },
    "tags": []
   },
   "outputs": [],
   "source": [
    "levels_cs = engine_cs.calculate_equity_curve(calculate_net=False).rename('Crack spread')"
   ]
  },
  {
   "cell_type": "markdown",
   "id": "46f2eaf9",
   "metadata": {
    "papermill": {
     "duration": 0.025725,
     "end_time": "2022-08-27T06:19:59.357322",
     "exception": false,
     "start_time": "2022-08-27T06:19:59.331597",
     "status": "completed"
    },
    "tags": []
   },
   "source": [
    "## Gasoline crack spread"
   ]
  },
  {
   "cell_type": "code",
   "execution_count": 29,
   "id": "ea2825c3",
   "metadata": {
    "execution": {
     "iopub.execute_input": "2022-08-27T06:19:59.400948Z",
     "iopub.status.busy": "2022-08-27T06:19:59.400244Z",
     "iopub.status.idle": "2022-08-27T06:19:59.406094Z",
     "shell.execute_reply": "2022-08-27T06:19:59.405297Z"
    },
    "papermill": {
     "duration": 0.02768,
     "end_time": "2022-08-27T06:19:59.407884",
     "exception": false,
     "start_time": "2022-08-27T06:19:59.380204",
     "status": "completed"
    },
    "tags": []
   },
   "outputs": [],
   "source": [
    "max_expiry = 6\n",
    "instrument = []\n",
    "for i in range(1, max_expiry + 1):\n",
    "    xb = InstrumentDef('XB', id=f'XB_{i}', collateral=100_000, roll_rule=RollRule.MONTH_END.value, nth_expiry=i)\n",
    "    cl = InstrumentDef('CL', id=f'CL_{i}', collateral=100_000, roll_rule=RollRule.MONTH_END.value, nth_expiry=i)\n",
    "    instrument.append(xb)\n",
    "    instrument.append(cl)"
   ]
  },
  {
   "cell_type": "code",
   "execution_count": 30,
   "id": "553fbe4b",
   "metadata": {
    "execution": {
     "iopub.execute_input": "2022-08-27T06:19:59.446102Z",
     "iopub.status.busy": "2022-08-27T06:19:59.445552Z",
     "iopub.status.idle": "2022-08-27T06:24:23.842781Z",
     "shell.execute_reply": "2022-08-27T06:24:23.842036Z"
    },
    "papermill": {
     "duration": 264.419447,
     "end_time": "2022-08-27T06:24:23.845338",
     "exception": false,
     "start_time": "2022-08-27T06:19:59.425891",
     "status": "completed"
    },
    "tags": []
   },
   "outputs": [],
   "source": [
    "engine_gcs = BacktestEngine(\n",
    "    start_date=datetime(1985, 1, 1),\n",
    "    strategy=Strategy.DELTA_ONE.value,\n",
    "    instrument=instrument,\n",
    "    signal=signal.CrackSpreadGP1999(\n",
    "        weights={'XB': 42 * 1000, 'CL': -1 * 1000},\n",
    "        ma_lookback=5,\n",
    "        entry_sigma=2,\n",
    "    ),\n",
    "    weighting=Weighting.SUM.value,\n",
    "    log_level=logging.WARN,\n",
    ")\n",
    "engine_gcs.run()"
   ]
  },
  {
   "cell_type": "code",
   "execution_count": 31,
   "id": "4d87519a",
   "metadata": {
    "execution": {
     "iopub.execute_input": "2022-08-27T06:24:23.899224Z",
     "iopub.status.busy": "2022-08-27T06:24:23.898380Z",
     "iopub.status.idle": "2022-08-27T06:25:24.320222Z",
     "shell.execute_reply": "2022-08-27T06:25:24.319490Z"
    },
    "papermill": {
     "duration": 60.453994,
     "end_time": "2022-08-27T06:25:24.325125",
     "exception": false,
     "start_time": "2022-08-27T06:24:23.871131",
     "status": "completed"
    },
    "tags": []
   },
   "outputs": [],
   "source": [
    "levels_gcs = engine_gcs.calculate_equity_curve(calculate_net=False).rename('Gasoline crack spread')"
   ]
  },
  {
   "cell_type": "markdown",
   "id": "8d456942",
   "metadata": {
    "papermill": {
     "duration": 0.018429,
     "end_time": "2022-08-27T06:25:24.364243",
     "exception": false,
     "start_time": "2022-08-27T06:25:24.345814",
     "status": "completed"
    },
    "tags": []
   },
   "source": [
    "## Heating oil crack spread"
   ]
  },
  {
   "cell_type": "code",
   "execution_count": 32,
   "id": "9cb7c150",
   "metadata": {
    "execution": {
     "iopub.execute_input": "2022-08-27T06:25:24.403347Z",
     "iopub.status.busy": "2022-08-27T06:25:24.402630Z",
     "iopub.status.idle": "2022-08-27T06:25:24.408608Z",
     "shell.execute_reply": "2022-08-27T06:25:24.407768Z"
    },
    "papermill": {
     "duration": 0.02832,
     "end_time": "2022-08-27T06:25:24.410553",
     "exception": false,
     "start_time": "2022-08-27T06:25:24.382233",
     "status": "completed"
    },
    "tags": []
   },
   "outputs": [],
   "source": [
    "max_expiry = 6\n",
    "instrument = []\n",
    "for i in range(1, max_expiry + 1):\n",
    "    ho = InstrumentDef('HO', id=f'HO_{i}', collateral=100_000, roll_rule=RollRule.MONTH_END.value, nth_expiry=i)\n",
    "    cl = InstrumentDef('CL', id=f'CL_{i}', collateral=100_000, roll_rule=RollRule.MONTH_END.value, nth_expiry=i)\n",
    "    instrument.append(ho)\n",
    "    instrument.append(cl)"
   ]
  },
  {
   "cell_type": "code",
   "execution_count": 33,
   "id": "9338a131",
   "metadata": {
    "execution": {
     "iopub.execute_input": "2022-08-27T06:25:24.450511Z",
     "iopub.status.busy": "2022-08-27T06:25:24.450192Z",
     "iopub.status.idle": "2022-08-27T06:29:38.518386Z",
     "shell.execute_reply": "2022-08-27T06:29:38.517504Z"
    },
    "papermill": {
     "duration": 254.089951,
     "end_time": "2022-08-27T06:29:38.520413",
     "exception": false,
     "start_time": "2022-08-27T06:25:24.430462",
     "status": "completed"
    },
    "tags": []
   },
   "outputs": [],
   "source": [
    "engine_hocs = BacktestEngine(\n",
    "    start_date=datetime(1985, 1, 1),\n",
    "    strategy=Strategy.DELTA_ONE.value,\n",
    "    instrument=instrument,\n",
    "    signal=signal.CrackSpreadGP1999(\n",
    "        weights={'HO': 42 * 1000, 'CL': -1 * 1000},\n",
    "        ma_lookback=5,\n",
    "        entry_sigma=2,\n",
    "    ),\n",
    "    weighting=Weighting.SUM.value,\n",
    "    log_level=logging.WARN,\n",
    ")\n",
    "engine_hocs.run()"
   ]
  },
  {
   "cell_type": "code",
   "execution_count": 34,
   "id": "64757694",
   "metadata": {
    "execution": {
     "iopub.execute_input": "2022-08-27T06:29:38.561932Z",
     "iopub.status.busy": "2022-08-27T06:29:38.561640Z",
     "iopub.status.idle": "2022-08-27T06:30:41.378238Z",
     "shell.execute_reply": "2022-08-27T06:30:41.377307Z"
    },
    "papermill": {
     "duration": 62.841231,
     "end_time": "2022-08-27T06:30:41.380711",
     "exception": false,
     "start_time": "2022-08-27T06:29:38.539480",
     "status": "completed"
    },
    "tags": []
   },
   "outputs": [],
   "source": [
    "levels_hocs = engine_hocs.calculate_equity_curve(calculate_net=False).rename('Heating oil crack spread')"
   ]
  },
  {
   "cell_type": "markdown",
   "id": "7d427481",
   "metadata": {
    "papermill": {
     "duration": 0.022008,
     "end_time": "2022-08-27T06:30:41.428820",
     "exception": false,
     "start_time": "2022-08-27T06:30:41.406812",
     "status": "completed"
    },
    "tags": []
   },
   "source": [
    "## Performance\n",
    "During the sample period tested, a mean-reversion on the crack spread worked well."
   ]
  },
  {
   "cell_type": "code",
   "execution_count": 35,
   "id": "348f0796",
   "metadata": {
    "execution": {
     "iopub.execute_input": "2022-08-27T06:30:41.472867Z",
     "iopub.status.busy": "2022-08-27T06:30:41.472332Z",
     "iopub.status.idle": "2022-08-27T06:30:41.487246Z",
     "shell.execute_reply": "2022-08-27T06:30:41.486456Z"
    },
    "papermill": {
     "duration": 0.038492,
     "end_time": "2022-08-27T06:30:41.489237",
     "exception": false,
     "start_time": "2022-08-27T06:30:41.450745",
     "status": "completed"
    },
    "tags": []
   },
   "outputs": [],
   "source": [
    "levels = pd.concat((\n",
    "    levels_cs, levels_gcs, levels_hocs\n",
    "), axis=1)"
   ]
  },
  {
   "cell_type": "code",
   "execution_count": 36,
   "id": "c3b6f7cd",
   "metadata": {
    "execution": {
     "iopub.execute_input": "2022-08-27T06:30:41.529199Z",
     "iopub.status.busy": "2022-08-27T06:30:41.528453Z",
     "iopub.status.idle": "2022-08-27T06:30:42.399135Z",
     "shell.execute_reply": "2022-08-27T06:30:42.398266Z"
    },
    "papermill": {
     "duration": 0.893008,
     "end_time": "2022-08-27T06:30:42.401011",
     "exception": false,
     "start_time": "2022-08-27T06:30:41.508003",
     "status": "completed"
    },
    "tags": []
   },
   "outputs": [
    {
     "data": {
      "image/png": "[encoded data removed]",
      "text/plain": [
       "<Figure size 576x324 with 1 Axes>"
      ]
     },
     "metadata": {
      "needs_background": "light"
     },
     "output_type": "display_data"
    }
   ],
   "source": [
    "fig, ax = plt.subplots(figsize=(8, 4.5))\n",
    "levels[:'1994-11'].plot(ax=ax, logy=True);\n",
    "ax.set_title('Crack spreads mean-reversion (GP1999)')\n",
    "ax.set_ylabel('Cumulative returns');"
   ]
  },
  {
   "cell_type": "code",
   "execution_count": 37,
   "id": "8b9035a4",
   "metadata": {
    "execution": {
     "iopub.execute_input": "2022-08-27T06:30:42.444419Z",
     "iopub.status.busy": "2022-08-27T06:30:42.444015Z",
     "iopub.status.idle": "2022-08-27T06:30:42.501030Z",
     "shell.execute_reply": "2022-08-27T06:30:42.499943Z"
    },
    "papermill": {
     "duration": 0.079827,
     "end_time": "2022-08-27T06:30:42.503130",
     "exception": false,
     "start_time": "2022-08-27T06:30:42.423303",
     "status": "completed"
    },
    "tags": []
   },
   "outputs": [
    {
     "data": {
      "text/html": [
       "<div>\n",
       "<style scoped>\n",
       "    .dataframe tbody tr th:only-of-type {\n",
       "        vertical-align: middle;\n",
       "    }\n",
       "\n",
       "    .dataframe tbody tr th {\n",
       "        vertical-align: top;\n",
       "    }\n",
       "\n",
       "    .dataframe thead th {\n",
       "        text-align: right;\n",
       "    }\n",
       "</style>\n",
       "<table border=\"1\" class=\"dataframe\">\n",
       "  <thead>\n",
       "    <tr style=\"text-align: right;\">\n",
       "      <th></th>\n",
       "      <th>Crack spread</th>\n",
       "      <th>Gasoline crack spread</th>\n",
       "      <th>Heating oil crack spread</th>\n",
       "    </tr>\n",
       "  </thead>\n",
       "  <tbody>\n",
       "    <tr>\n",
       "      <th>CAGR</th>\n",
       "      <td>0.014100</td>\n",
       "      <td>0.007241</td>\n",
       "      <td>0.011715</td>\n",
       "    </tr>\n",
       "    <tr>\n",
       "      <th>Annualised vol</th>\n",
       "      <td>0.018131</td>\n",
       "      <td>0.022948</td>\n",
       "      <td>0.017725</td>\n",
       "    </tr>\n",
       "    <tr>\n",
       "      <th>Sharpe ratio</th>\n",
       "      <td>0.777675</td>\n",
       "      <td>0.315525</td>\n",
       "      <td>0.660914</td>\n",
       "    </tr>\n",
       "    <tr>\n",
       "      <th>Max drawdown</th>\n",
       "      <td>0.071648</td>\n",
       "      <td>0.129760</td>\n",
       "      <td>0.044562</td>\n",
       "    </tr>\n",
       "    <tr>\n",
       "      <th>Calmar ratio</th>\n",
       "      <td>0.196791</td>\n",
       "      <td>0.055800</td>\n",
       "      <td>0.262889</td>\n",
       "    </tr>\n",
       "    <tr>\n",
       "      <th>Skewness</th>\n",
       "      <td>0.791950</td>\n",
       "      <td>4.373877</td>\n",
       "      <td>2.076780</td>\n",
       "    </tr>\n",
       "    <tr>\n",
       "      <th>Kurtosis</th>\n",
       "      <td>45.874931</td>\n",
       "      <td>200.909353</td>\n",
       "      <td>75.098364</td>\n",
       "    </tr>\n",
       "    <tr>\n",
       "      <th>Worst return</th>\n",
       "      <td>-0.012272</td>\n",
       "      <td>-0.022322</td>\n",
       "      <td>-0.013000</td>\n",
       "    </tr>\n",
       "    <tr>\n",
       "      <th>Worst 1d return</th>\n",
       "      <td>-0.012272</td>\n",
       "      <td>-0.022322</td>\n",
       "      <td>-0.013000</td>\n",
       "    </tr>\n",
       "    <tr>\n",
       "      <th>Worst 1w return</th>\n",
       "      <td>-0.018763</td>\n",
       "      <td>-0.034413</td>\n",
       "      <td>-0.019985</td>\n",
       "    </tr>\n",
       "    <tr>\n",
       "      <th>Worst 1m return</th>\n",
       "      <td>-0.030638</td>\n",
       "      <td>-0.029017</td>\n",
       "      <td>-0.026193</td>\n",
       "    </tr>\n",
       "  </tbody>\n",
       "</table>\n",
       "</div>"
      ],
      "text/plain": [
       "                 Crack spread  Gasoline crack spread  Heating oil crack spread\n",
       "CAGR                 0.014100               0.007241                  0.011715\n",
       "Annualised vol       0.018131               0.022948                  0.017725\n",
       "Sharpe ratio         0.777675               0.315525                  0.660914\n",
       "Max drawdown         0.071648               0.129760                  0.044562\n",
       "Calmar ratio         0.196791               0.055800                  0.262889\n",
       "Skewness             0.791950               4.373877                  2.076780\n",
       "Kurtosis            45.874931             200.909353                 75.098364\n",
       "Worst return        -0.012272              -0.022322                 -0.013000\n",
       "Worst 1d return     -0.012272              -0.022322                 -0.013000\n",
       "Worst 1w return     -0.018763              -0.034413                 -0.019985\n",
       "Worst 1m return     -0.030638              -0.029017                 -0.026193"
      ]
     },
     "execution_count": 37,
     "metadata": {},
     "output_type": "execute_result"
    }
   ],
   "source": [
    "levels[:'1994-11'].pipe(Performance).summary()"
   ]
  },
  {
   "cell_type": "markdown",
   "id": "25d81c19",
   "metadata": {
    "papermill": {
     "duration": 0.027112,
     "end_time": "2022-08-27T06:30:42.550146",
     "exception": false,
     "start_time": "2022-08-27T06:30:42.523034",
     "status": "completed"
    },
    "tags": []
   },
   "source": [
    "The underperformance in 1990 coincides with a wider divergence on the crack spread which is intuitive."
   ]
  },
  {
   "cell_type": "code",
   "execution_count": 38,
   "id": "76538675",
   "metadata": {
    "execution": {
     "iopub.execute_input": "2022-08-27T06:30:42.600642Z",
     "iopub.status.busy": "2022-08-27T06:30:42.600124Z",
     "iopub.status.idle": "2022-08-27T06:30:43.038917Z",
     "shell.execute_reply": "2022-08-27T06:30:43.038075Z"
    },
    "papermill": {
     "duration": 0.466788,
     "end_time": "2022-08-27T06:30:43.041492",
     "exception": false,
     "start_time": "2022-08-27T06:30:42.574704",
     "status": "completed"
    },
    "tags": []
   },
   "outputs": [
    {
     "data": {
      "image/png": "[encoded data removed]",
      "text/plain": [
       "<Figure size 576x360 with 2 Axes>"
      ]
     },
     "metadata": {
      "needs_background": "light"
     },
     "output_type": "display_data"
    }
   ],
   "source": [
    "pd.concat((\n",
    "    levels_gcs.rename('Gasoline crack spread strategy'),\n",
    "    gcs.rename('GCS')\n",
    "), axis=1)[:'1994-11'].plot(figsize=(8, 5), secondary_y='GCS');"
   ]
  },
  {
   "cell_type": "markdown",
   "id": "e2d431e2",
   "metadata": {
    "papermill": {
     "duration": 0.024451,
     "end_time": "2022-08-27T06:30:43.093271",
     "exception": false,
     "start_time": "2022-08-27T06:30:43.068820",
     "status": "completed"
    },
    "tags": []
   },
   "source": [
    "## Long-term performance\n",
    "\n",
    "...however as we saw earlier in the time-series of crack spreads, something must have changed in 2000s and the trading strategies stopped working."
   ]
  },
  {
   "cell_type": "code",
   "execution_count": 39,
   "id": "d8a263d6",
   "metadata": {
    "execution": {
     "iopub.execute_input": "2022-08-27T06:30:43.150685Z",
     "iopub.status.busy": "2022-08-27T06:30:43.150231Z",
     "iopub.status.idle": "2022-08-27T06:30:43.901053Z",
     "shell.execute_reply": "2022-08-27T06:30:43.900133Z"
    },
    "papermill": {
     "duration": 0.782595,
     "end_time": "2022-08-27T06:30:43.903542",
     "exception": false,
     "start_time": "2022-08-27T06:30:43.120947",
     "status": "completed"
    },
    "tags": []
   },
   "outputs": [
    {
     "data": {
      "image/png": "[encoded data removed]",
      "text/plain": [
       "<Figure size 576x324 with 1 Axes>"
      ]
     },
     "metadata": {
      "needs_background": "light"
     },
     "output_type": "display_data"
    }
   ],
   "source": [
    "fig, ax = plt.subplots(figsize=(8, 4.5))\n",
    "levels.plot(ax=ax, logy=True);\n",
    "ax.set_title('Crack spreads mean-reversion (GP1999)')\n",
    "ax.set_ylabel('Cumulative returns');"
   ]
  },
  {
   "cell_type": "code",
   "execution_count": 40,
   "id": "b9b01da1",
   "metadata": {
    "execution": {
     "iopub.execute_input": "2022-08-27T06:30:43.966832Z",
     "iopub.status.busy": "2022-08-27T06:30:43.966441Z",
     "iopub.status.idle": "2022-08-27T06:30:44.050832Z",
     "shell.execute_reply": "2022-08-27T06:30:44.050121Z"
    },
    "papermill": {
     "duration": 0.118728,
     "end_time": "2022-08-27T06:30:44.053347",
     "exception": false,
     "start_time": "2022-08-27T06:30:43.934619",
     "status": "completed"
    },
    "tags": []
   },
   "outputs": [
    {
     "data": {
      "text/html": [
       "<div>\n",
       "<style scoped>\n",
       "    .dataframe tbody tr th:only-of-type {\n",
       "        vertical-align: middle;\n",
       "    }\n",
       "\n",
       "    .dataframe tbody tr th {\n",
       "        vertical-align: top;\n",
       "    }\n",
       "\n",
       "    .dataframe thead th {\n",
       "        text-align: right;\n",
       "    }\n",
       "</style>\n",
       "<table border=\"1\" class=\"dataframe\">\n",
       "  <thead>\n",
       "    <tr style=\"text-align: right;\">\n",
       "      <th></th>\n",
       "      <th>Crack spread</th>\n",
       "      <th>Gasoline crack spread</th>\n",
       "      <th>Heating oil crack spread</th>\n",
       "    </tr>\n",
       "  </thead>\n",
       "  <tbody>\n",
       "    <tr>\n",
       "      <th>CAGR</th>\n",
       "      <td>-0.062248</td>\n",
       "      <td>-0.005503</td>\n",
       "      <td>-0.013568</td>\n",
       "    </tr>\n",
       "    <tr>\n",
       "      <th>Annualised vol</th>\n",
       "      <td>0.186755</td>\n",
       "      <td>0.046654</td>\n",
       "      <td>0.081933</td>\n",
       "    </tr>\n",
       "    <tr>\n",
       "      <th>Sharpe ratio</th>\n",
       "      <td>-0.333316</td>\n",
       "      <td>-0.117960</td>\n",
       "      <td>-0.165597</td>\n",
       "    </tr>\n",
       "    <tr>\n",
       "      <th>Max drawdown</th>\n",
       "      <td>0.939134</td>\n",
       "      <td>0.455942</td>\n",
       "      <td>0.550774</td>\n",
       "    </tr>\n",
       "    <tr>\n",
       "      <th>Calmar ratio</th>\n",
       "      <td>-0.066283</td>\n",
       "      <td>-0.012070</td>\n",
       "      <td>-0.024634</td>\n",
       "    </tr>\n",
       "    <tr>\n",
       "      <th>Skewness</th>\n",
       "      <td>10.096436</td>\n",
       "      <td>-0.823370</td>\n",
       "      <td>2.445070</td>\n",
       "    </tr>\n",
       "    <tr>\n",
       "      <th>Kurtosis</th>\n",
       "      <td>941.910168</td>\n",
       "      <td>74.907510</td>\n",
       "      <td>532.941336</td>\n",
       "    </tr>\n",
       "    <tr>\n",
       "      <th>Worst return</th>\n",
       "      <td>-0.339082</td>\n",
       "      <td>-0.049356</td>\n",
       "      <td>-0.162293</td>\n",
       "    </tr>\n",
       "    <tr>\n",
       "      <th>Worst 1d return</th>\n",
       "      <td>-0.339082</td>\n",
       "      <td>-0.049356</td>\n",
       "      <td>-0.162293</td>\n",
       "    </tr>\n",
       "    <tr>\n",
       "      <th>Worst 1w return</th>\n",
       "      <td>-0.487829</td>\n",
       "      <td>-0.101832</td>\n",
       "      <td>-0.125455</td>\n",
       "    </tr>\n",
       "    <tr>\n",
       "      <th>Worst 1m return</th>\n",
       "      <td>-0.436654</td>\n",
       "      <td>-0.119793</td>\n",
       "      <td>-0.228092</td>\n",
       "    </tr>\n",
       "  </tbody>\n",
       "</table>\n",
       "</div>"
      ],
      "text/plain": [
       "                 Crack spread  Gasoline crack spread  Heating oil crack spread\n",
       "CAGR                -0.062248              -0.005503                 -0.013568\n",
       "Annualised vol       0.186755               0.046654                  0.081933\n",
       "Sharpe ratio        -0.333316              -0.117960                 -0.165597\n",
       "Max drawdown         0.939134               0.455942                  0.550774\n",
       "Calmar ratio        -0.066283              -0.012070                 -0.024634\n",
       "Skewness            10.096436              -0.823370                  2.445070\n",
       "Kurtosis           941.910168              74.907510                532.941336\n",
       "Worst return        -0.339082              -0.049356                 -0.162293\n",
       "Worst 1d return     -0.339082              -0.049356                 -0.162293\n",
       "Worst 1w return     -0.487829              -0.101832                 -0.125455\n",
       "Worst 1m return     -0.436654              -0.119793                 -0.228092"
      ]
     },
     "execution_count": 40,
     "metadata": {},
     "output_type": "execute_result"
    }
   ],
   "source": [
    "levels.pipe(Performance).summary()"
   ]
  },
  {
   "cell_type": "markdown",
   "id": "e67cc5fa",
   "metadata": {
    "papermill": {
     "duration": 0.032883,
     "end_time": "2022-08-27T06:30:44.118262",
     "exception": false,
     "start_time": "2022-08-27T06:30:44.085379",
     "status": "completed"
    },
    "tags": []
   },
   "source": [
    "## Post publication"
   ]
  },
  {
   "cell_type": "code",
   "execution_count": 41,
   "id": "94b4f13d",
   "metadata": {
    "execution": {
     "iopub.execute_input": "2022-08-27T06:30:44.183409Z",
     "iopub.status.busy": "2022-08-27T06:30:44.183054Z",
     "iopub.status.idle": "2022-08-27T06:30:44.187231Z",
     "shell.execute_reply": "2022-08-27T06:30:44.186273Z"
    },
    "papermill": {
     "duration": 0.039529,
     "end_time": "2022-08-27T06:30:44.189749",
     "exception": false,
     "start_time": "2022-08-27T06:30:44.150220",
     "status": "completed"
    },
    "tags": []
   },
   "outputs": [],
   "source": [
    "publication_date = datetime(1999, 11, 29)"
   ]
  },
  {
   "cell_type": "code",
   "execution_count": 42,
   "id": "1a2e7f9c",
   "metadata": {
    "execution": {
     "iopub.execute_input": "2022-08-27T06:30:44.255442Z",
     "iopub.status.busy": "2022-08-27T06:30:44.255061Z",
     "iopub.status.idle": "2022-08-27T06:30:45.621146Z",
     "shell.execute_reply": "2022-08-27T06:30:45.620205Z"
    },
    "papermill": {
     "duration": 1.401696,
     "end_time": "2022-08-27T06:30:45.623604",
     "exception": false,
     "start_time": "2022-08-27T06:30:44.221908",
     "status": "completed"
    },
    "tags": []
   },
   "outputs": [
    {
     "data": {
      "image/png": "[encoded data removed]",
      "text/plain": [
       "<Figure size 1008x288 with 2 Axes>"
      ]
     },
     "metadata": {
      "needs_background": "light"
     },
     "output_type": "display_data"
    }
   ],
   "source": [
    "fig, ax = plt.subplots(1, 2, figsize=(14, 4))\n",
    "levels.plot(ax=ax[0], logy=True);\n",
    "ax[0].set_title('Crack spreads mean-reversion (GP1999)')\n",
    "ax[0].set_ylabel('Cumulative returns');\n",
    "ax[0].axvline(publication_date, lw=1, ls='--', color='black')\n",
    "ax[0].text(publication_date, 100, 'Publication date ', ha='right')\n",
    "\n",
    "levels.loc[publication_date:].pipe(rebase).plot(ax=ax[1], logy=True);\n",
    "ax[1].set_title('Post publication');"
   ]
  },
  {
   "cell_type": "markdown",
   "id": "d187127a",
   "metadata": {
    "papermill": {
     "duration": 0.032207,
     "end_time": "2022-08-27T06:30:45.688162",
     "exception": false,
     "start_time": "2022-08-27T06:30:45.655955",
     "status": "completed"
    },
    "tags": []
   },
   "source": [
    "# Reference\n",
    "- Girma, P.B. and Paulson, A.S., 1999. Risk arbitrage opportunities in petroleum futures spreads. Journal of Futures Markets, 19(8), pp.931-955."
   ]
  },
  {
   "cell_type": "code",
   "execution_count": 43,
   "id": "69fe3c8e",
   "metadata": {
    "execution": {
     "iopub.execute_input": "2022-08-27T06:30:45.740876Z",
     "iopub.status.busy": "2022-08-27T06:30:45.740490Z",
     "iopub.status.idle": "2022-08-27T06:30:45.786553Z",
     "shell.execute_reply": "2022-08-27T06:30:45.785770Z"
    },
    "papermill": {
     "duration": 0.074601,
     "end_time": "2022-08-27T06:30:45.788496",
     "exception": false,
     "start_time": "2022-08-27T06:30:45.713895",
     "status": "completed"
    },
    "tags": []
   },
   "outputs": [
    {
     "name": "stdout",
     "output_type": "stream",
     "text": [
      "Updated: 27-Aug-2022 06:30\n"
     ]
    }
   ],
   "source": [
    "print(f'Updated: {datetime.utcnow():%d-%b-%Y %H:%M}')"
   ]
  }
 ],
 "metadata": {
  "kernelspec": {
   "display_name": "Python 3",
   "language": "python",
   "name": "python3"
  },
  "language_info": {
   "codemirror_mode": {
    "name": "ipython",
    "version": 3
   },
   "file_extension": ".py",
   "mimetype": "text/x-python",
   "name": "python",
   "nbconvert_exporter": "python",
   "pygments_lexer": "ipython3",
   "version": "3.9.6"
  },
  "papermill": {
   "default_parameters": {},
   "duration": 1206.676859,
   "end_time": "2022-08-27T06:30:48.534855",
   "environment_variables": {},
   "exception": null,
   "input_path": "notebooks/papermill/commodity_crack_spread_stat_arb.ipynb",
   "output_path": "notebooks/commodity_crack_spread_stat_arb.ipynb",
   "parameters": {},
   "start_time": "2022-08-27T06:10:41.857996",
   "version": "2.3.4"
  },
  "toc-autonumbering": true
 },
 "nbformat": 4,
 "nbformat_minor": 5
}