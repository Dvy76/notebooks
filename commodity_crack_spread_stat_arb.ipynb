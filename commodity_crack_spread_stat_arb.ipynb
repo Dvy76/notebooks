{
 "cells": [
  {
   "cell_type": "markdown",
   "id": "172ca5c5",
   "metadata": {
    "papermill": {
     "duration": 0.067119,
     "end_time": "2022-03-12T08:32:23.596005",
     "exception": false,
     "start_time": "2022-03-12T08:32:23.528886",
     "status": "completed"
    },
    "tags": []
   },
   "source": [
    "# Commodity crack spread statistical arbitrage\n",
    "\n",
    "In this notebook, the mean-rereversion strategy proposed in Girma and Paulson 1999 (henthforth GP1999) is investigated. It focuses on a various combination of the crude oil (WTI) crack spread. "
   ]
  },
  {
   "cell_type": "code",
   "execution_count": 1,
   "id": "7daa9dab",
   "metadata": {
    "execution": {
     "iopub.execute_input": "2022-03-12T08:32:23.741986Z",
     "iopub.status.busy": "2022-03-12T08:32:23.741430Z",
     "iopub.status.idle": "2022-03-12T08:32:26.281611Z",
     "shell.execute_reply": "2022-03-12T08:32:26.282059Z",
     "shell.execute_reply.started": "2021-12-03T07:10:36.569519Z"
    },
    "papermill": {
     "duration": 2.622792,
     "end_time": "2022-03-12T08:32:26.282259",
     "exception": false,
     "start_time": "2022-03-12T08:32:23.659467",
     "status": "completed"
    },
    "tags": []
   },
   "outputs": [],
   "source": [
    "%matplotlib inline\n",
    "from datetime import datetime\n",
    "import logging\n",
    "import warnings\n",
    "warnings.simplefilter(action='ignore', category=FutureWarning)\n",
    "\n",
    "import pandas as pd\n",
    "import statsmodels.api as sm\n",
    "import matplotlib.pyplot as plt\n",
    "plt.style.use('bmh')\n",
    "\n",
    "from vivace.backtest import BacktestEngine, signal, InstrumentDef\n",
    "from vivace.backtest.analytics import rebase\n",
    "from vivace.backtest.contract import get_futures_curve_snapshot\n",
    "from vivace.backtest.enums import Strategy, Weighting, RollRule\n",
    "from vivace.backtest.stats import Performance"
   ]
  },
  {
   "cell_type": "markdown",
   "id": "68aa8ccf",
   "metadata": {
    "papermill": {
     "duration": 0.075145,
     "end_time": "2022-03-12T08:32:26.426679",
     "exception": false,
     "start_time": "2022-03-12T08:32:26.351534",
     "status": "completed"
    },
    "tags": []
   },
   "source": [
    "# Cointegration test\n",
    "\n",
    "GP1999 first checks if the crack spread is cointegrated. To do that, first let's see futures prices are non-stationary or not. As per usual, the generic price is populated by running a simple long-only backtest by rolling the front contract."
   ]
  },
  {
   "cell_type": "markdown",
   "id": "824e7302",
   "metadata": {
    "papermill": {
     "duration": 0.065331,
     "end_time": "2022-03-12T08:32:26.565656",
     "exception": false,
     "start_time": "2022-03-12T08:32:26.500325",
     "status": "completed"
    },
    "tags": []
   },
   "source": [
    "## ADF test\n",
    "\n",
    "The ADF test is done by the `adfuller` function in `statsmodels`. (cf. https://www.statsmodels.org/dev/generated/statsmodels.tsa.stattools.adfuller.html)"
   ]
  },
  {
   "cell_type": "code",
   "execution_count": 2,
   "id": "4eb3103c",
   "metadata": {
    "execution": {
     "iopub.execute_input": "2022-03-12T08:32:26.719633Z",
     "iopub.status.busy": "2022-03-12T08:32:26.718787Z",
     "iopub.status.idle": "2022-03-12T08:32:35.897384Z",
     "shell.execute_reply": "2022-03-12T08:32:35.896816Z",
     "shell.execute_reply.started": "2021-12-03T06:36:10.163450Z"
    },
    "papermill": {
     "duration": 9.261815,
     "end_time": "2022-03-12T08:32:35.897495",
     "exception": false,
     "start_time": "2022-03-12T08:32:26.635680",
     "status": "completed"
    },
    "tags": []
   },
   "outputs": [],
   "source": [
    "cl_1st = BacktestEngine(instrument='CL', log_level=logging.WARN)\n",
    "cl_1st.run()"
   ]
  },
  {
   "cell_type": "code",
   "execution_count": 3,
   "id": "9910ecff",
   "metadata": {
    "execution": {
     "iopub.execute_input": "2022-03-12T08:32:36.026065Z",
     "iopub.status.busy": "2022-03-12T08:32:36.025530Z",
     "iopub.status.idle": "2022-03-12T08:32:45.805646Z",
     "shell.execute_reply": "2022-03-12T08:32:45.806248Z",
     "shell.execute_reply.started": "2021-12-03T06:36:18.338428Z"
    },
    "papermill": {
     "duration": 9.846683,
     "end_time": "2022-03-12T08:32:45.806424",
     "exception": false,
     "start_time": "2022-03-12T08:32:35.959741",
     "status": "completed"
    },
    "tags": []
   },
   "outputs": [],
   "source": [
    "ho_1st = BacktestEngine(instrument='HO', log_level=logging.WARN)\n",
    "ho_1st.run()"
   ]
  },
  {
   "cell_type": "code",
   "execution_count": 4,
   "id": "32cec4c3",
   "metadata": {
    "execution": {
     "iopub.execute_input": "2022-03-12T08:32:45.946207Z",
     "iopub.status.busy": "2022-03-12T08:32:45.945665Z",
     "iopub.status.idle": "2022-03-12T08:32:54.073718Z",
     "shell.execute_reply": "2022-03-12T08:32:54.074230Z",
     "shell.execute_reply.started": "2021-12-03T06:36:25.919037Z"
    },
    "papermill": {
     "duration": 8.195923,
     "end_time": "2022-03-12T08:32:54.074370",
     "exception": false,
     "start_time": "2022-03-12T08:32:45.878447",
     "status": "completed"
    },
    "tags": []
   },
   "outputs": [],
   "source": [
    "xb_1st = BacktestEngine(instrument='XB', log_level=logging.WARN)\n",
    "xb_1st.run()"
   ]
  },
  {
   "cell_type": "code",
   "execution_count": 5,
   "id": "a602ffe8",
   "metadata": {
    "execution": {
     "iopub.execute_input": "2022-03-12T08:32:54.254498Z",
     "iopub.status.busy": "2022-03-12T08:32:54.221775Z",
     "iopub.status.idle": "2022-03-12T08:33:11.675863Z",
     "shell.execute_reply": "2022-03-12T08:33:11.675146Z",
     "shell.execute_reply.started": "2021-12-03T06:36:32.982734Z"
    },
    "papermill": {
     "duration": 17.537447,
     "end_time": "2022-03-12T08:33:11.676024",
     "exception": false,
     "start_time": "2022-03-12T08:32:54.138577",
     "status": "completed"
    },
    "tags": []
   },
   "outputs": [],
   "source": [
    "cl_price = cl_1st.get_generic_price().squeeze().fillna(method='pad').rename('Crude oil')\n",
    "ho_price = ho_1st.get_generic_price().squeeze().fillna(method='pad').rename('Heating oil')\n",
    "xb_price = xb_1st.get_generic_price().squeeze().fillna(method='pad').rename('Gasoline')"
   ]
  },
  {
   "cell_type": "code",
   "execution_count": 6,
   "id": "81a1c9be",
   "metadata": {
    "execution": {
     "iopub.execute_input": "2022-03-12T08:33:11.858238Z",
     "iopub.status.busy": "2022-03-12T08:33:11.857597Z",
     "iopub.status.idle": "2022-03-12T08:33:11.859926Z",
     "shell.execute_reply": "2022-03-12T08:33:11.859289Z",
     "shell.execute_reply.started": "2021-12-03T06:36:47.351540Z"
    },
    "papermill": {
     "duration": 0.094619,
     "end_time": "2022-03-12T08:33:11.860049",
     "exception": false,
     "start_time": "2022-03-12T08:33:11.765430",
     "status": "completed"
    },
    "tags": []
   },
   "outputs": [],
   "source": [
    "def adf(ts: pd.Series, **kwargs) -> pd.Series:\n",
    "    \"\"\" Run the ADF test and return a cleaned result \"\"\"\n",
    "    adf_result = sm.tsa.stattools.adfuller(ts, **kwargs)\n",
    "    cleaned = {\n",
    "        'adf': adf_result[0],\n",
    "        'p_value': adf_result[1],\n",
    "        'used_lag': adf_result[2],\n",
    "        'n_obs': adf_result[3],\n",
    "        'ci_0.01': adf_result[4]['1%'],\n",
    "        'ci_0.05': adf_result[4]['5%'],\n",
    "        'ci_0.1': adf_result[4]['10%'],\n",
    "        'ic_best': adf_result[5],\n",
    "    }\n",
    "    return pd.Series(cleaned, name=ts.name)"
   ]
  },
  {
   "cell_type": "markdown",
   "id": "73a9df64",
   "metadata": {
    "papermill": {
     "duration": 0.067682,
     "end_time": "2022-03-12T08:33:11.995998",
     "exception": false,
     "start_time": "2022-03-12T08:33:11.928316",
     "status": "completed"
    },
    "tags": []
   },
   "source": [
    "GP1999 uses Schwarz's information criterion (i.e., BIC) to select the optimal number of lags included in the ADF test."
   ]
  },
  {
   "cell_type": "code",
   "execution_count": 7,
   "id": "b69649d6",
   "metadata": {
    "execution": {
     "iopub.execute_input": "2022-03-12T08:33:12.128709Z",
     "iopub.status.busy": "2022-03-12T08:33:12.128158Z",
     "iopub.status.idle": "2022-03-12T08:33:12.520314Z",
     "shell.execute_reply": "2022-03-12T08:33:12.520978Z",
     "shell.execute_reply.started": "2021-12-03T06:36:47.357535Z"
    },
    "papermill": {
     "duration": 0.461888,
     "end_time": "2022-03-12T08:33:12.521174",
     "exception": false,
     "start_time": "2022-03-12T08:33:12.059286",
     "status": "completed"
    },
    "tags": []
   },
   "outputs": [],
   "source": [
    "adf_result = pd.concat((\n",
    "    adf(cl_price['1983-04':'1994-11'], autolag='BIC').to_frame().T,\n",
    "    adf(ho_price['1983-04':'1994-11'], autolag='BIC').to_frame().T,\n",
    "    adf(xb_price['1984-12':'1994-11'], autolag='BIC').to_frame().T,\n",
    "))"
   ]
  },
  {
   "cell_type": "markdown",
   "id": "1396f87e",
   "metadata": {
    "papermill": {
     "duration": 0.063643,
     "end_time": "2022-03-12T08:33:12.694263",
     "exception": false,
     "start_time": "2022-03-12T08:33:12.630620",
     "status": "completed"
    },
    "tags": []
   },
   "source": [
    "In the ADF test, $H_0$ is that the time-series is non-stationary. Based on this result below, $H_0$ cannot be rejected for crude oil, however is rejected for heating oil and gasoline at the 10% and 5% level respectively.\n",
    "\n",
    "This is interesting because usually almost always asset prices are non-stationary."
   ]
  },
  {
   "cell_type": "code",
   "execution_count": 8,
   "id": "3655e953",
   "metadata": {
    "execution": {
     "iopub.execute_input": "2022-03-12T08:33:12.859930Z",
     "iopub.status.busy": "2022-03-12T08:33:12.859392Z",
     "iopub.status.idle": "2022-03-12T08:33:12.867125Z",
     "shell.execute_reply": "2022-03-12T08:33:12.867533Z",
     "shell.execute_reply.started": "2021-12-03T06:36:48.064712Z"
    },
    "papermill": {
     "duration": 0.109876,
     "end_time": "2022-03-12T08:33:12.867670",
     "exception": false,
     "start_time": "2022-03-12T08:33:12.757794",
     "status": "completed"
    },
    "tags": []
   },
   "outputs": [
    {
     "data": {
      "text/html": [
       "<div>\n",
       "<style scoped>\n",
       "    .dataframe tbody tr th:only-of-type {\n",
       "        vertical-align: middle;\n",
       "    }\n",
       "\n",
       "    .dataframe tbody tr th {\n",
       "        vertical-align: top;\n",
       "    }\n",
       "\n",
       "    .dataframe thead th {\n",
       "        text-align: right;\n",
       "    }\n",
       "</style>\n",
       "<table border=\"1\" class=\"dataframe\">\n",
       "  <thead>\n",
       "    <tr style=\"text-align: right;\">\n",
       "      <th></th>\n",
       "      <th>adf</th>\n",
       "      <th>p_value</th>\n",
       "      <th>used_lag</th>\n",
       "      <th>n_obs</th>\n",
       "      <th>ci_0.01</th>\n",
       "      <th>ci_0.05</th>\n",
       "      <th>ci_0.1</th>\n",
       "      <th>ic_best</th>\n",
       "    </tr>\n",
       "  </thead>\n",
       "  <tbody>\n",
       "    <tr>\n",
       "      <th>Crude oil</th>\n",
       "      <td>-2.185213</td>\n",
       "      <td>0.211656</td>\n",
       "      <td>8.0</td>\n",
       "      <td>2924.0</td>\n",
       "      <td>-3.432588</td>\n",
       "      <td>-2.862529</td>\n",
       "      <td>-2.567296</td>\n",
       "      <td>4195.186424</td>\n",
       "    </tr>\n",
       "    <tr>\n",
       "      <th>Heating oil</th>\n",
       "      <td>-2.743636</td>\n",
       "      <td>0.066787</td>\n",
       "      <td>3.0</td>\n",
       "      <td>2929.0</td>\n",
       "      <td>-3.432585</td>\n",
       "      <td>-2.862527</td>\n",
       "      <td>-2.567296</td>\n",
       "      <td>-15763.929006</td>\n",
       "    </tr>\n",
       "    <tr>\n",
       "      <th>Gasoline</th>\n",
       "      <td>-3.003758</td>\n",
       "      <td>0.034545</td>\n",
       "      <td>3.0</td>\n",
       "      <td>2510.0</td>\n",
       "      <td>-3.432958</td>\n",
       "      <td>-2.862692</td>\n",
       "      <td>-2.567383</td>\n",
       "      <td>-14006.551367</td>\n",
       "    </tr>\n",
       "  </tbody>\n",
       "</table>\n",
       "</div>"
      ],
      "text/plain": [
       "                  adf   p_value  used_lag   n_obs   ci_0.01   ci_0.05  \\\n",
       "Crude oil   -2.185213  0.211656       8.0  2924.0 -3.432588 -2.862529   \n",
       "Heating oil -2.743636  0.066787       3.0  2929.0 -3.432585 -2.862527   \n",
       "Gasoline    -3.003758  0.034545       3.0  2510.0 -3.432958 -2.862692   \n",
       "\n",
       "               ci_0.1       ic_best  \n",
       "Crude oil   -2.567296   4195.186424  \n",
       "Heating oil -2.567296 -15763.929006  \n",
       "Gasoline    -2.567383 -14006.551367  "
      ]
     },
     "execution_count": 8,
     "metadata": {},
     "output_type": "execute_result"
    }
   ],
   "source": [
    "adf_result"
   ]
  },
  {
   "cell_type": "markdown",
   "id": "cb465c0a",
   "metadata": {
    "papermill": {
     "duration": 0.063516,
     "end_time": "2022-03-12T08:33:12.996166",
     "exception": false,
     "start_time": "2022-03-12T08:33:12.932650",
     "status": "completed"
    },
    "tags": []
   },
   "source": [
    "Probably it is to do with the sampling period. It may look a stationary process especially after 1986, however clearly it is heteroskedastic and the price move in 1986 seems like a shift in the level."
   ]
  },
  {
   "cell_type": "code",
   "execution_count": 9,
   "id": "11339aae",
   "metadata": {
    "execution": {
     "iopub.execute_input": "2022-03-12T08:33:13.144750Z",
     "iopub.status.busy": "2022-03-12T08:33:13.143188Z",
     "iopub.status.idle": "2022-03-12T08:33:13.653250Z",
     "shell.execute_reply": "2022-03-12T08:33:13.652659Z",
     "shell.execute_reply.started": "2021-12-03T06:36:48.107910Z"
    },
    "papermill": {
     "duration": 0.593768,
     "end_time": "2022-03-12T08:33:13.653360",
     "exception": false,
     "start_time": "2022-03-12T08:33:13.059592",
     "status": "completed"
    },
    "tags": []
   },
   "outputs": [
    {
     "data": {
      "image/png": "[encoded data removed]",
      "text/plain": [
       "<Figure size 576x360 with 2 Axes>"
      ]
     },
     "metadata": {
      "needs_background": "light"
     },
     "output_type": "display_data"
    }
   ],
   "source": [
    "fig, ax = plt.subplots(figsize=(8, 5))\n",
    "pd.concat((\n",
    "    cl_price['1983-04':'1994-11'],\n",
    "    ho_price['1983-04':'1994-11'],\n",
    "    xb_price['1984-12':'1994-11'],\n",
    "), axis=1).plot(secondary_y=['Heating oil', 'Gasoline'], ax=ax);\n",
    "ax.set_title('Futures prices (generic 1st)');"
   ]
  },
  {
   "cell_type": "markdown",
   "id": "47068957",
   "metadata": {
    "papermill": {
     "duration": 0.063097,
     "end_time": "2022-03-12T08:33:13.782871",
     "exception": false,
     "start_time": "2022-03-12T08:33:13.719774",
     "status": "completed"
    },
    "tags": []
   },
   "source": [
    "In fact, in the long-run $H_0$ cannot be rejected for all contracts based on both BIC and AIC."
   ]
  },
  {
   "cell_type": "code",
   "execution_count": 10,
   "id": "47dcef74",
   "metadata": {
    "execution": {
     "iopub.execute_input": "2022-03-12T08:33:13.962799Z",
     "iopub.status.busy": "2022-03-12T08:33:13.961939Z",
     "iopub.status.idle": "2022-03-12T08:33:18.995272Z",
     "shell.execute_reply": "2022-03-12T08:33:18.994734Z",
     "shell.execute_reply.started": "2021-12-03T06:36:48.435839Z"
    },
    "papermill": {
     "duration": 5.132983,
     "end_time": "2022-03-12T08:33:18.995386",
     "exception": false,
     "start_time": "2022-03-12T08:33:13.862403",
     "status": "completed"
    },
    "tags": []
   },
   "outputs": [
    {
     "data": {
      "text/html": [
       "<div>\n",
       "<style scoped>\n",
       "    .dataframe tbody tr th:only-of-type {\n",
       "        vertical-align: middle;\n",
       "    }\n",
       "\n",
       "    .dataframe tbody tr th {\n",
       "        vertical-align: top;\n",
       "    }\n",
       "\n",
       "    .dataframe thead th {\n",
       "        text-align: right;\n",
       "    }\n",
       "</style>\n",
       "<table border=\"1\" class=\"dataframe\">\n",
       "  <thead>\n",
       "    <tr style=\"text-align: right;\">\n",
       "      <th></th>\n",
       "      <th>adf</th>\n",
       "      <th>p_value</th>\n",
       "      <th>used_lag</th>\n",
       "      <th>n_obs</th>\n",
       "      <th>ci_0.01</th>\n",
       "      <th>ci_0.05</th>\n",
       "      <th>ci_0.1</th>\n",
       "      <th>ic_best</th>\n",
       "    </tr>\n",
       "  </thead>\n",
       "  <tbody>\n",
       "    <tr>\n",
       "      <th>Crude oil</th>\n",
       "      <td>-1.200690</td>\n",
       "      <td>0.673299</td>\n",
       "      <td>1.0</td>\n",
       "      <td>9781.0</td>\n",
       "      <td>-3.431019</td>\n",
       "      <td>-2.861836</td>\n",
       "      <td>-2.566927</td>\n",
       "      <td>29824.551712</td>\n",
       "    </tr>\n",
       "    <tr>\n",
       "      <th>Heating oil</th>\n",
       "      <td>-1.019879</td>\n",
       "      <td>0.745945</td>\n",
       "      <td>4.0</td>\n",
       "      <td>9779.0</td>\n",
       "      <td>-3.431019</td>\n",
       "      <td>-2.861836</td>\n",
       "      <td>-2.566927</td>\n",
       "      <td>-39078.548352</td>\n",
       "    </tr>\n",
       "    <tr>\n",
       "      <th>Gasoline</th>\n",
       "      <td>-1.347489</td>\n",
       "      <td>0.607176</td>\n",
       "      <td>0.0</td>\n",
       "      <td>9363.0</td>\n",
       "      <td>-3.431049</td>\n",
       "      <td>-2.861849</td>\n",
       "      <td>-2.566934</td>\n",
       "      <td>-36361.083718</td>\n",
       "    </tr>\n",
       "  </tbody>\n",
       "</table>\n",
       "</div>"
      ],
      "text/plain": [
       "                  adf   p_value  used_lag   n_obs   ci_0.01   ci_0.05  \\\n",
       "Crude oil   -1.200690  0.673299       1.0  9781.0 -3.431019 -2.861836   \n",
       "Heating oil -1.019879  0.745945       4.0  9779.0 -3.431019 -2.861836   \n",
       "Gasoline    -1.347489  0.607176       0.0  9363.0 -3.431049 -2.861849   \n",
       "\n",
       "               ci_0.1       ic_best  \n",
       "Crude oil   -2.566927  29824.551712  \n",
       "Heating oil -2.566927 -39078.548352  \n",
       "Gasoline    -2.566934 -36361.083718  "
      ]
     },
     "execution_count": 10,
     "metadata": {},
     "output_type": "execute_result"
    }
   ],
   "source": [
    "pd.concat((\n",
    "    adf(cl_price['1983-04':], autolag='BIC').to_frame().T,\n",
    "    adf(ho_price['1983-04':], autolag='BIC').to_frame().T,\n",
    "    adf(xb_price['1984-12':], autolag='BIC').to_frame().T,\n",
    "))"
   ]
  },
  {
   "cell_type": "code",
   "execution_count": 11,
   "id": "6cda4738",
   "metadata": {
    "execution": {
     "iopub.execute_input": "2022-03-12T08:33:19.183842Z",
     "iopub.status.busy": "2022-03-12T08:33:19.182827Z",
     "iopub.status.idle": "2022-03-12T08:33:22.576937Z",
     "shell.execute_reply": "2022-03-12T08:33:22.578024Z",
     "shell.execute_reply.started": "2021-12-03T06:36:50.823809Z"
    },
    "papermill": {
     "duration": 3.493589,
     "end_time": "2022-03-12T08:33:22.578229",
     "exception": false,
     "start_time": "2022-03-12T08:33:19.084640",
     "status": "completed"
    },
    "tags": []
   },
   "outputs": [
    {
     "data": {
      "text/html": [
       "<div>\n",
       "<style scoped>\n",
       "    .dataframe tbody tr th:only-of-type {\n",
       "        vertical-align: middle;\n",
       "    }\n",
       "\n",
       "    .dataframe tbody tr th {\n",
       "        vertical-align: top;\n",
       "    }\n",
       "\n",
       "    .dataframe thead th {\n",
       "        text-align: right;\n",
       "    }\n",
       "</style>\n",
       "<table border=\"1\" class=\"dataframe\">\n",
       "  <thead>\n",
       "    <tr style=\"text-align: right;\">\n",
       "      <th></th>\n",
       "      <th>adf</th>\n",
       "      <th>p_value</th>\n",
       "      <th>used_lag</th>\n",
       "      <th>n_obs</th>\n",
       "      <th>ci_0.01</th>\n",
       "      <th>ci_0.05</th>\n",
       "      <th>ci_0.1</th>\n",
       "      <th>ic_best</th>\n",
       "    </tr>\n",
       "  </thead>\n",
       "  <tbody>\n",
       "    <tr>\n",
       "      <th>Crude oil</th>\n",
       "      <td>-1.670529</td>\n",
       "      <td>0.446357</td>\n",
       "      <td>28.0</td>\n",
       "      <td>9754.0</td>\n",
       "      <td>-3.431021</td>\n",
       "      <td>-2.861836</td>\n",
       "      <td>-2.566928</td>\n",
       "      <td>29771.065262</td>\n",
       "    </tr>\n",
       "    <tr>\n",
       "      <th>Heating oil</th>\n",
       "      <td>-0.882954</td>\n",
       "      <td>0.793534</td>\n",
       "      <td>6.0</td>\n",
       "      <td>9777.0</td>\n",
       "      <td>-3.431019</td>\n",
       "      <td>-2.861836</td>\n",
       "      <td>-2.566927</td>\n",
       "      <td>-39129.138055</td>\n",
       "    </tr>\n",
       "    <tr>\n",
       "      <th>Gasoline</th>\n",
       "      <td>-1.586682</td>\n",
       "      <td>0.490280</td>\n",
       "      <td>14.0</td>\n",
       "      <td>9349.0</td>\n",
       "      <td>-3.431050</td>\n",
       "      <td>-2.861849</td>\n",
       "      <td>-2.566935</td>\n",
       "      <td>-36385.897367</td>\n",
       "    </tr>\n",
       "  </tbody>\n",
       "</table>\n",
       "</div>"
      ],
      "text/plain": [
       "                  adf   p_value  used_lag   n_obs   ci_0.01   ci_0.05  \\\n",
       "Crude oil   -1.670529  0.446357      28.0  9754.0 -3.431021 -2.861836   \n",
       "Heating oil -0.882954  0.793534       6.0  9777.0 -3.431019 -2.861836   \n",
       "Gasoline    -1.586682  0.490280      14.0  9349.0 -3.431050 -2.861849   \n",
       "\n",
       "               ci_0.1       ic_best  \n",
       "Crude oil   -2.566928  29771.065262  \n",
       "Heating oil -2.566927 -39129.138055  \n",
       "Gasoline    -2.566935 -36385.897367  "
      ]
     },
     "execution_count": 11,
     "metadata": {},
     "output_type": "execute_result"
    }
   ],
   "source": [
    "pd.concat((\n",
    "    adf(cl_price['1983-04':], autolag='AIC').to_frame().T,\n",
    "    adf(ho_price['1983-04':], autolag='AIC').to_frame().T,\n",
    "    adf(xb_price['1984-12':], autolag='AIC').to_frame().T,\n",
    "))"
   ]
  },
  {
   "cell_type": "markdown",
   "id": "eda29bdf",
   "metadata": {
    "papermill": {
     "duration": 0.084743,
     "end_time": "2022-03-12T08:33:22.754229",
     "exception": false,
     "start_time": "2022-03-12T08:33:22.669486",
     "status": "completed"
    },
    "tags": []
   },
   "source": [
    "Test for two unit roots shows the $H_0$ is rejected for all assets so it would be safe to assume prices are all $I(1)$ processes."
   ]
  },
  {
   "cell_type": "code",
   "execution_count": 12,
   "id": "5cc64e78",
   "metadata": {
    "execution": {
     "iopub.execute_input": "2022-03-12T08:33:22.898968Z",
     "iopub.status.busy": "2022-03-12T08:33:22.898155Z",
     "iopub.status.idle": "2022-03-12T08:33:23.632008Z",
     "shell.execute_reply": "2022-03-12T08:33:23.632886Z",
     "shell.execute_reply.started": "2021-12-03T06:36:52.384428Z"
    },
    "papermill": {
     "duration": 0.809459,
     "end_time": "2022-03-12T08:33:23.633120",
     "exception": false,
     "start_time": "2022-03-12T08:33:22.823661",
     "status": "completed"
    },
    "tags": []
   },
   "outputs": [
    {
     "data": {
      "text/html": [
       "<div>\n",
       "<style scoped>\n",
       "    .dataframe tbody tr th:only-of-type {\n",
       "        vertical-align: middle;\n",
       "    }\n",
       "\n",
       "    .dataframe tbody tr th {\n",
       "        vertical-align: top;\n",
       "    }\n",
       "\n",
       "    .dataframe thead th {\n",
       "        text-align: right;\n",
       "    }\n",
       "</style>\n",
       "<table border=\"1\" class=\"dataframe\">\n",
       "  <thead>\n",
       "    <tr style=\"text-align: right;\">\n",
       "      <th></th>\n",
       "      <th>adf</th>\n",
       "      <th>p_value</th>\n",
       "      <th>used_lag</th>\n",
       "      <th>n_obs</th>\n",
       "      <th>ci_0.01</th>\n",
       "      <th>ci_0.05</th>\n",
       "      <th>ci_0.1</th>\n",
       "      <th>ic_best</th>\n",
       "    </tr>\n",
       "  </thead>\n",
       "  <tbody>\n",
       "    <tr>\n",
       "      <th>Crude oil</th>\n",
       "      <td>-22.609167</td>\n",
       "      <td>0.0</td>\n",
       "      <td>7.0</td>\n",
       "      <td>2924.0</td>\n",
       "      <td>-3.432588</td>\n",
       "      <td>-2.862529</td>\n",
       "      <td>-2.567296</td>\n",
       "      <td>4191.382386</td>\n",
       "    </tr>\n",
       "    <tr>\n",
       "      <th>Heating oil</th>\n",
       "      <td>-23.732562</td>\n",
       "      <td>0.0</td>\n",
       "      <td>7.0</td>\n",
       "      <td>2924.0</td>\n",
       "      <td>-3.432588</td>\n",
       "      <td>-2.862529</td>\n",
       "      <td>-2.567296</td>\n",
       "      <td>-15759.438574</td>\n",
       "    </tr>\n",
       "    <tr>\n",
       "      <th>Gasoline</th>\n",
       "      <td>-31.046797</td>\n",
       "      <td>0.0</td>\n",
       "      <td>2.0</td>\n",
       "      <td>2510.0</td>\n",
       "      <td>-3.432958</td>\n",
       "      <td>-2.862692</td>\n",
       "      <td>-2.567383</td>\n",
       "      <td>-13998.959272</td>\n",
       "    </tr>\n",
       "  </tbody>\n",
       "</table>\n",
       "</div>"
      ],
      "text/plain": [
       "                   adf  p_value  used_lag   n_obs   ci_0.01   ci_0.05  \\\n",
       "Crude oil   -22.609167      0.0       7.0  2924.0 -3.432588 -2.862529   \n",
       "Heating oil -23.732562      0.0       7.0  2924.0 -3.432588 -2.862529   \n",
       "Gasoline    -31.046797      0.0       2.0  2510.0 -3.432958 -2.862692   \n",
       "\n",
       "               ci_0.1       ic_best  \n",
       "Crude oil   -2.567296   4191.382386  \n",
       "Heating oil -2.567296 -15759.438574  \n",
       "Gasoline    -2.567383 -13998.959272  "
      ]
     },
     "execution_count": 12,
     "metadata": {},
     "output_type": "execute_result"
    }
   ],
   "source": [
    "pd.concat((\n",
    "    adf(cl_price['1983-04':'1994-11'].diff().dropna(), autolag='BIC').to_frame().T,\n",
    "    adf(ho_price['1983-04':'1994-11'].diff().dropna(), autolag='BIC').to_frame().T,\n",
    "    adf(xb_price['1984-12':'1994-11'].diff().dropna(), autolag='BIC').to_frame().T,\n",
    "))"
   ]
  },
  {
   "cell_type": "markdown",
   "id": "5443698a",
   "metadata": {
    "papermill": {
     "duration": 0.063744,
     "end_time": "2022-03-12T08:33:23.794100",
     "exception": false,
     "start_time": "2022-03-12T08:33:23.730356",
     "status": "completed"
    },
    "tags": []
   },
   "source": [
    "## Engle-Granger test\n",
    "\n",
    "Next, let's check if the crack spread is cointegrated. The cointegration vector is estimated by OLS and the stationarity of the residual is tested with the ADF test.\n",
    "The test is done by the `coint` function in `statsmodels`. (cf. https://www.statsmodels.org/dev/generated/statsmodels.tsa.stattools.coint.html)"
   ]
  },
  {
   "cell_type": "code",
   "execution_count": 13,
   "id": "15663029",
   "metadata": {
    "execution": {
     "iopub.execute_input": "2022-03-12T08:33:23.928229Z",
     "iopub.status.busy": "2022-03-12T08:33:23.927515Z",
     "iopub.status.idle": "2022-03-12T08:33:23.937069Z",
     "shell.execute_reply": "2022-03-12T08:33:23.937648Z",
     "shell.execute_reply.started": "2021-12-03T06:36:53.059490Z"
    },
    "papermill": {
     "duration": 0.079502,
     "end_time": "2022-03-12T08:33:23.937829",
     "exception": false,
     "start_time": "2022-03-12T08:33:23.858327",
     "status": "completed"
    },
    "tags": []
   },
   "outputs": [],
   "source": [
    "price_concat = pd.concat((\n",
    "    cl_price,\n",
    "    ho_price,\n",
    "    xb_price,\n",
    "), axis=1).fillna(method='pad').dropna()"
   ]
  },
  {
   "cell_type": "code",
   "execution_count": 14,
   "id": "cf731a5e",
   "metadata": {
    "execution": {
     "iopub.execute_input": "2022-03-12T08:33:24.104227Z",
     "iopub.status.busy": "2022-03-12T08:33:24.103683Z",
     "iopub.status.idle": "2022-03-12T08:33:24.105781Z",
     "shell.execute_reply": "2022-03-12T08:33:24.106203Z",
     "shell.execute_reply.started": "2021-12-03T06:36:53.085796Z"
    },
    "papermill": {
     "duration": 0.083407,
     "end_time": "2022-03-12T08:33:24.106346",
     "exception": false,
     "start_time": "2022-03-12T08:33:24.022939",
     "status": "completed"
    },
    "tags": []
   },
   "outputs": [],
   "source": [
    "def coint(y: pd.Series, x: pd.DataFrame) -> pd.Series:\n",
    "    \"\"\" Run the cointegration test and return a cleaned result \"\"\"\n",
    "    result = sm.tsa.stattools.coint(y, x)\n",
    "    cleaned = {\n",
    "        't_value': result[0],\n",
    "        'p_value': result[1],\n",
    "        'ci_0.01': result[2][0],\n",
    "        'ci_0.05': result[2][1],\n",
    "        'ci_0.1': result[2][2],\n",
    "    }\n",
    "    return pd.Series(cleaned)"
   ]
  },
  {
   "cell_type": "code",
   "execution_count": 15,
   "id": "4299196b",
   "metadata": {
    "execution": {
     "iopub.execute_input": "2022-03-12T08:33:24.251619Z",
     "iopub.status.busy": "2022-03-12T08:33:24.250817Z",
     "iopub.status.idle": "2022-03-12T08:33:25.110175Z",
     "shell.execute_reply": "2022-03-12T08:33:25.111032Z",
     "shell.execute_reply.started": "2021-12-03T06:36:53.097640Z"
    },
    "papermill": {
     "duration": 0.931561,
     "end_time": "2022-03-12T08:33:25.111262",
     "exception": false,
     "start_time": "2022-03-12T08:33:24.179701",
     "status": "completed"
    },
    "tags": []
   },
   "outputs": [],
   "source": [
    "coint_result = pd.concat((\n",
    "    coint(\n",
    "        price_concat.loc[:'1994-11', 'Crude oil'],\n",
    "        price_concat.loc[:'1994-11', ['Heating oil', 'Gasoline']]\n",
    "    ).to_frame('CL vs HO + XB').T,\n",
    "    coint(\n",
    "        price_concat.loc[:'1994-11', 'Crude oil'],\n",
    "        price_concat.loc[:'1994-11', ['Gasoline']]\n",
    "    ).to_frame('CL vs XB').T,\n",
    "    coint(\n",
    "        price_concat.loc[:'1994-11', 'Crude oil'],\n",
    "        price_concat.loc[:'1994-11', ['Heating oil']]\n",
    "    ).to_frame('CL vs HO').T,\n",
    "))"
   ]
  },
  {
   "cell_type": "markdown",
   "id": "ea294ded",
   "metadata": {
    "papermill": {
     "duration": 0.06458,
     "end_time": "2022-03-12T08:33:25.286177",
     "exception": false,
     "start_time": "2022-03-12T08:33:25.221597",
     "status": "completed"
    },
    "tags": []
   },
   "source": [
    "The $H_0$ is that there is no cointegration. As per GP1999, all three crack spreads are cointegrated. "
   ]
  },
  {
   "cell_type": "code",
   "execution_count": 16,
   "id": "1824345d",
   "metadata": {
    "execution": {
     "iopub.execute_input": "2022-03-12T08:33:25.442454Z",
     "iopub.status.busy": "2022-03-12T08:33:25.441680Z",
     "iopub.status.idle": "2022-03-12T08:33:25.444552Z",
     "shell.execute_reply": "2022-03-12T08:33:25.445187Z",
     "shell.execute_reply.started": "2021-12-03T06:36:54.118494Z"
    },
    "papermill": {
     "duration": 0.090732,
     "end_time": "2022-03-12T08:33:25.445368",
     "exception": false,
     "start_time": "2022-03-12T08:33:25.354636",
     "status": "completed"
    },
    "tags": []
   },
   "outputs": [
    {
     "data": {
      "text/html": [
       "<div>\n",
       "<style scoped>\n",
       "    .dataframe tbody tr th:only-of-type {\n",
       "        vertical-align: middle;\n",
       "    }\n",
       "\n",
       "    .dataframe tbody tr th {\n",
       "        vertical-align: top;\n",
       "    }\n",
       "\n",
       "    .dataframe thead th {\n",
       "        text-align: right;\n",
       "    }\n",
       "</style>\n",
       "<table border=\"1\" class=\"dataframe\">\n",
       "  <thead>\n",
       "    <tr style=\"text-align: right;\">\n",
       "      <th></th>\n",
       "      <th>t_value</th>\n",
       "      <th>p_value</th>\n",
       "      <th>ci_0.01</th>\n",
       "      <th>ci_0.05</th>\n",
       "      <th>ci_0.1</th>\n",
       "    </tr>\n",
       "  </thead>\n",
       "  <tbody>\n",
       "    <tr>\n",
       "      <th>CL vs HO + XB</th>\n",
       "      <td>-6.110715</td>\n",
       "      <td>0.000005</td>\n",
       "      <td>-4.299485</td>\n",
       "      <td>-3.744067</td>\n",
       "      <td>-3.454651</td>\n",
       "    </tr>\n",
       "    <tr>\n",
       "      <th>CL vs XB</th>\n",
       "      <td>-5.762029</td>\n",
       "      <td>0.000005</td>\n",
       "      <td>-3.900800</td>\n",
       "      <td>-3.338561</td>\n",
       "      <td>-3.046137</td>\n",
       "    </tr>\n",
       "    <tr>\n",
       "      <th>CL vs HO</th>\n",
       "      <td>-5.708354</td>\n",
       "      <td>0.000007</td>\n",
       "      <td>-3.900800</td>\n",
       "      <td>-3.338561</td>\n",
       "      <td>-3.046137</td>\n",
       "    </tr>\n",
       "  </tbody>\n",
       "</table>\n",
       "</div>"
      ],
      "text/plain": [
       "                t_value   p_value   ci_0.01   ci_0.05    ci_0.1\n",
       "CL vs HO + XB -6.110715  0.000005 -4.299485 -3.744067 -3.454651\n",
       "CL vs XB      -5.762029  0.000005 -3.900800 -3.338561 -3.046137\n",
       "CL vs HO      -5.708354  0.000007 -3.900800 -3.338561 -3.046137"
      ]
     },
     "execution_count": 16,
     "metadata": {},
     "output_type": "execute_result"
    }
   ],
   "source": [
    "coint_result"
   ]
  },
  {
   "cell_type": "markdown",
   "id": "2f816c06",
   "metadata": {
    "papermill": {
     "duration": 0.085445,
     "end_time": "2022-03-12T08:33:25.623689",
     "exception": false,
     "start_time": "2022-03-12T08:33:25.538244",
     "status": "completed"
    },
    "tags": []
   },
   "source": [
    "This seems to hold with the full sample."
   ]
  },
  {
   "cell_type": "code",
   "execution_count": 17,
   "id": "467771dc",
   "metadata": {
    "execution": {
     "iopub.execute_input": "2022-03-12T08:33:25.770763Z",
     "iopub.status.busy": "2022-03-12T08:33:25.761909Z",
     "iopub.status.idle": "2022-03-12T08:33:30.598010Z",
     "shell.execute_reply": "2022-03-12T08:33:30.597301Z",
     "shell.execute_reply.started": "2021-12-03T06:36:54.136011Z"
    },
    "papermill": {
     "duration": 4.909147,
     "end_time": "2022-03-12T08:33:30.598172",
     "exception": false,
     "start_time": "2022-03-12T08:33:25.689025",
     "status": "completed"
    },
    "tags": []
   },
   "outputs": [
    {
     "data": {
      "text/html": [
       "<div>\n",
       "<style scoped>\n",
       "    .dataframe tbody tr th:only-of-type {\n",
       "        vertical-align: middle;\n",
       "    }\n",
       "\n",
       "    .dataframe tbody tr th {\n",
       "        vertical-align: top;\n",
       "    }\n",
       "\n",
       "    .dataframe thead th {\n",
       "        text-align: right;\n",
       "    }\n",
       "</style>\n",
       "<table border=\"1\" class=\"dataframe\">\n",
       "  <thead>\n",
       "    <tr style=\"text-align: right;\">\n",
       "      <th></th>\n",
       "      <th>t_value</th>\n",
       "      <th>p_value</th>\n",
       "      <th>ci_0.01</th>\n",
       "      <th>ci_0.05</th>\n",
       "      <th>ci_0.1</th>\n",
       "    </tr>\n",
       "  </thead>\n",
       "  <tbody>\n",
       "    <tr>\n",
       "      <th>CL vs HO + XB</th>\n",
       "      <td>-4.979419</td>\n",
       "      <td>8.360639e-04</td>\n",
       "      <td>-4.295282</td>\n",
       "      <td>-3.741574</td>\n",
       "      <td>-3.452844</td>\n",
       "    </tr>\n",
       "    <tr>\n",
       "      <th>CL vs XB</th>\n",
       "      <td>-6.788412</td>\n",
       "      <td>2.711329e-08</td>\n",
       "      <td>-3.897610</td>\n",
       "      <td>-3.336782</td>\n",
       "      <td>-3.044903</td>\n",
       "    </tr>\n",
       "    <tr>\n",
       "      <th>CL vs HO</th>\n",
       "      <td>-4.899009</td>\n",
       "      <td>2.513840e-04</td>\n",
       "      <td>-3.897610</td>\n",
       "      <td>-3.336782</td>\n",
       "      <td>-3.044903</td>\n",
       "    </tr>\n",
       "  </tbody>\n",
       "</table>\n",
       "</div>"
      ],
      "text/plain": [
       "                t_value       p_value   ci_0.01   ci_0.05    ci_0.1\n",
       "CL vs HO + XB -4.979419  8.360639e-04 -4.295282 -3.741574 -3.452844\n",
       "CL vs XB      -6.788412  2.711329e-08 -3.897610 -3.336782 -3.044903\n",
       "CL vs HO      -4.899009  2.513840e-04 -3.897610 -3.336782 -3.044903"
      ]
     },
     "execution_count": 17,
     "metadata": {},
     "output_type": "execute_result"
    }
   ],
   "source": [
    "pd.concat((\n",
    "    coint(\n",
    "        price_concat.loc[:, 'Crude oil'],\n",
    "        price_concat.loc[:, ['Heating oil', 'Gasoline']]\n",
    "    ).to_frame('CL vs HO + XB').T,\n",
    "    coint(\n",
    "        price_concat.loc[:, 'Crude oil'],\n",
    "        price_concat.loc[:, ['Gasoline']]\n",
    "    ).to_frame('CL vs XB').T,\n",
    "    coint(\n",
    "        price_concat.loc[:, 'Crude oil'],\n",
    "        price_concat.loc[:, ['Heating oil']]\n",
    "    ).to_frame('CL vs HO').T,\n",
    "))"
   ]
  },
  {
   "cell_type": "markdown",
   "id": "9107b072",
   "metadata": {
    "papermill": {
     "duration": 0.066836,
     "end_time": "2022-03-12T08:33:30.732401",
     "exception": false,
     "start_time": "2022-03-12T08:33:30.665565",
     "status": "completed"
    },
    "tags": []
   },
   "source": [
    "However the confidence level is somewhat weakend with recent data although they are at least still cointegrated at the 5% level."
   ]
  },
  {
   "cell_type": "code",
   "execution_count": 18,
   "id": "3898183b",
   "metadata": {
    "execution": {
     "iopub.execute_input": "2022-03-12T08:33:30.909661Z",
     "iopub.status.busy": "2022-03-12T08:33:30.868063Z",
     "iopub.status.idle": "2022-03-12T08:33:32.258397Z",
     "shell.execute_reply": "2022-03-12T08:33:32.259443Z",
     "shell.execute_reply.started": "2021-12-03T06:36:58.651001Z"
    },
    "papermill": {
     "duration": 1.46047,
     "end_time": "2022-03-12T08:33:32.259641",
     "exception": false,
     "start_time": "2022-03-12T08:33:30.799171",
     "status": "completed"
    },
    "tags": []
   },
   "outputs": [
    {
     "data": {
      "text/html": [
       "<div>\n",
       "<style scoped>\n",
       "    .dataframe tbody tr th:only-of-type {\n",
       "        vertical-align: middle;\n",
       "    }\n",
       "\n",
       "    .dataframe tbody tr th {\n",
       "        vertical-align: top;\n",
       "    }\n",
       "\n",
       "    .dataframe thead th {\n",
       "        text-align: right;\n",
       "    }\n",
       "</style>\n",
       "<table border=\"1\" class=\"dataframe\">\n",
       "  <thead>\n",
       "    <tr style=\"text-align: right;\">\n",
       "      <th></th>\n",
       "      <th>t_value</th>\n",
       "      <th>p_value</th>\n",
       "      <th>ci_0.01</th>\n",
       "      <th>ci_0.05</th>\n",
       "      <th>ci_0.1</th>\n",
       "    </tr>\n",
       "  </thead>\n",
       "  <tbody>\n",
       "    <tr>\n",
       "      <th>CL vs HO + XB</th>\n",
       "      <td>-4.025921</td>\n",
       "      <td>0.022848</td>\n",
       "      <td>-4.298444</td>\n",
       "      <td>-3.74345</td>\n",
       "      <td>-3.454204</td>\n",
       "    </tr>\n",
       "    <tr>\n",
       "      <th>CL vs XB</th>\n",
       "      <td>-4.822171</td>\n",
       "      <td>0.000345</td>\n",
       "      <td>-3.900010</td>\n",
       "      <td>-3.33812</td>\n",
       "      <td>-3.045831</td>\n",
       "    </tr>\n",
       "    <tr>\n",
       "      <th>CL vs HO</th>\n",
       "      <td>-3.935138</td>\n",
       "      <td>0.008866</td>\n",
       "      <td>-3.900010</td>\n",
       "      <td>-3.33812</td>\n",
       "      <td>-3.045831</td>\n",
       "    </tr>\n",
       "  </tbody>\n",
       "</table>\n",
       "</div>"
      ],
      "text/plain": [
       "                t_value   p_value   ci_0.01  ci_0.05    ci_0.1\n",
       "CL vs HO + XB -4.025921  0.022848 -4.298444 -3.74345 -3.454204\n",
       "CL vs XB      -4.822171  0.000345 -3.900010 -3.33812 -3.045831\n",
       "CL vs HO      -3.935138  0.008866 -3.900010 -3.33812 -3.045831"
      ]
     },
     "execution_count": 18,
     "metadata": {},
     "output_type": "execute_result"
    }
   ],
   "source": [
    "pd.concat((\n",
    "    coint(\n",
    "        price_concat.loc['2010':, 'Crude oil'],\n",
    "        price_concat.loc['2010':, ['Heating oil', 'Gasoline']]\n",
    "    ).to_frame('CL vs HO + XB').T,\n",
    "    coint(\n",
    "        price_concat.loc['2010':, 'Crude oil'],\n",
    "        price_concat.loc['2010':, ['Gasoline']]\n",
    "    ).to_frame('CL vs XB').T,\n",
    "    coint(\n",
    "        price_concat.loc['2010':, 'Crude oil'],\n",
    "        price_concat.loc['2010':, ['Heating oil']]\n",
    "    ).to_frame('CL vs HO').T,\n",
    "))"
   ]
  },
  {
   "cell_type": "markdown",
   "id": "f22325d0",
   "metadata": {
    "papermill": {
     "duration": 0.07484,
     "end_time": "2022-03-12T08:33:32.424238",
     "exception": false,
     "start_time": "2022-03-12T08:33:32.349398",
     "status": "completed"
    },
    "tags": []
   },
   "source": [
    "## Crack spreads\n",
    "\n",
    "Additionally, GP1999 tests the stationarity of the popularly traded crack spread -- 3:2:1 crack spread (CS), 1:1:0 gasoline crack spread (GCS) and 1:0:1 heating oil crack spread (HOCS).\n",
    "\n",
    "Note that the crude oil contract is priced in barrels while the other two are priced in gallon, and there are 42 gallons per 1 barrel. Some unit conversions are required to calculate such spreads."
   ]
  },
  {
   "cell_type": "code",
   "execution_count": 19,
   "id": "015bb3e9",
   "metadata": {
    "execution": {
     "iopub.execute_input": "2022-03-12T08:33:32.594657Z",
     "iopub.status.busy": "2022-03-12T08:33:32.593836Z",
     "iopub.status.idle": "2022-03-12T08:33:32.598602Z",
     "shell.execute_reply": "2022-03-12T08:33:32.599272Z",
     "shell.execute_reply.started": "2021-12-03T06:37:00.212361Z"
    },
    "papermill": {
     "duration": 0.083397,
     "end_time": "2022-03-12T08:33:32.599459",
     "exception": false,
     "start_time": "2022-03-12T08:33:32.516062",
     "status": "completed"
    },
    "tags": []
   },
   "outputs": [],
   "source": [
    "cs = (price_concat['Heating oil'].mul(42).mul(2 / 3) + \n",
    "      price_concat['Gasoline'].mul(42).mul(1 / 3) - \n",
    "      price_concat['Crude oil'])\n",
    "gcs = (price_concat['Gasoline'].mul(42) - \n",
    "       price_concat['Crude oil'])\n",
    "hocs = (price_concat['Heating oil'].mul(42) - \n",
    "        price_concat['Crude oil'])"
   ]
  },
  {
   "cell_type": "markdown",
   "id": "6608463f",
   "metadata": {
    "papermill": {
     "duration": 0.096714,
     "end_time": "2022-03-12T08:33:32.794890",
     "exception": false,
     "start_time": "2022-03-12T08:33:32.698176",
     "status": "completed"
    },
    "tags": []
   },
   "source": [
    "As can be seen visually below, these spreads appear stationary until around 2000 after which they started to drift away from a certain level. This could be related to the financialisation of commodities. There are some evidence suggesting that index investments and speculative trades influence the commodity markets. (cf https://www.ecb.europa.eu/pub/financial-stability/fsr/focus/2011/pdf/ecb~6fdfdfce1c.fsrbox201112_04.pdf)"
   ]
  },
  {
   "cell_type": "code",
   "execution_count": 20,
   "id": "0b27db24",
   "metadata": {
    "execution": {
     "iopub.execute_input": "2022-03-12T08:33:33.001907Z",
     "iopub.status.busy": "2022-03-12T08:33:33.001002Z",
     "iopub.status.idle": "2022-03-12T08:33:33.824586Z",
     "shell.execute_reply": "2022-03-12T08:33:33.825043Z",
     "shell.execute_reply.started": "2021-12-03T06:37:00.228669Z"
    },
    "papermill": {
     "duration": 0.934021,
     "end_time": "2022-03-12T08:33:33.825188",
     "exception": false,
     "start_time": "2022-03-12T08:33:32.891167",
     "status": "completed"
    },
    "tags": []
   },
   "outputs": [
    {
     "data": {
      "image/png": "[encoded data removed]",
      "text/plain": [
       "<Figure size 864x288 with 3 Axes>"
      ]
     },
     "metadata": {
      "needs_background": "light"
     },
     "output_type": "display_data"
    }
   ],
   "source": [
    "fig, ax = plt.subplots(1, 3, figsize=(12, 4), sharey=True)\n",
    "cs.plot(ax=ax[0])\n",
    "gcs.plot(ax=ax[1])\n",
    "hocs.plot(ax=ax[2])\n",
    "\n",
    "ax[0].set_title('3:2:1 crack spread')\n",
    "ax[1].set_title('1:1:0 gasoline crack spread')\n",
    "ax[2].set_title('1:0:1 heating oil crack spread')\n",
    "ax[0].set_ylabel('Crack spread ($)')\n",
    "\n",
    "fig.tight_layout();"
   ]
  },
  {
   "cell_type": "markdown",
   "id": "ddba6b40",
   "metadata": {
    "papermill": {
     "duration": 0.078564,
     "end_time": "2022-03-12T08:33:33.990931",
     "exception": false,
     "start_time": "2022-03-12T08:33:33.912367",
     "status": "completed"
    },
    "tags": []
   },
   "source": [
    "More formally, the ADF tests below show that they were stationary until Nov-1994."
   ]
  },
  {
   "cell_type": "code",
   "execution_count": 21,
   "id": "bd58dd0b",
   "metadata": {
    "execution": {
     "iopub.execute_input": "2022-03-12T08:33:34.150375Z",
     "iopub.status.busy": "2022-03-12T08:33:34.149828Z",
     "iopub.status.idle": "2022-03-12T08:33:35.001044Z",
     "shell.execute_reply": "2022-03-12T08:33:35.002060Z",
     "shell.execute_reply.started": "2021-12-03T06:37:00.926032Z"
    },
    "papermill": {
     "duration": 0.935392,
     "end_time": "2022-03-12T08:33:35.002311",
     "exception": false,
     "start_time": "2022-03-12T08:33:34.066919",
     "status": "completed"
    },
    "tags": []
   },
   "outputs": [
    {
     "data": {
      "text/html": [
       "<div>\n",
       "<style scoped>\n",
       "    .dataframe tbody tr th:only-of-type {\n",
       "        vertical-align: middle;\n",
       "    }\n",
       "\n",
       "    .dataframe tbody tr th {\n",
       "        vertical-align: top;\n",
       "    }\n",
       "\n",
       "    .dataframe thead th {\n",
       "        text-align: right;\n",
       "    }\n",
       "</style>\n",
       "<table border=\"1\" class=\"dataframe\">\n",
       "  <thead>\n",
       "    <tr style=\"text-align: right;\">\n",
       "      <th></th>\n",
       "      <th>adf</th>\n",
       "      <th>p_value</th>\n",
       "      <th>used_lag</th>\n",
       "      <th>n_obs</th>\n",
       "      <th>ci_0.01</th>\n",
       "      <th>ci_0.05</th>\n",
       "      <th>ci_0.1</th>\n",
       "      <th>ic_best</th>\n",
       "    </tr>\n",
       "  </thead>\n",
       "  <tbody>\n",
       "    <tr>\n",
       "      <th>0</th>\n",
       "      <td>-7.926287</td>\n",
       "      <td>3.611421e-12</td>\n",
       "      <td>0.0</td>\n",
       "      <td>2515.0</td>\n",
       "      <td>-3.432953</td>\n",
       "      <td>-2.86269</td>\n",
       "      <td>-2.567382</td>\n",
       "      <td>1757.165999</td>\n",
       "    </tr>\n",
       "    <tr>\n",
       "      <th>0</th>\n",
       "      <td>-5.640046</td>\n",
       "      <td>1.041538e-06</td>\n",
       "      <td>1.0</td>\n",
       "      <td>2514.0</td>\n",
       "      <td>-3.432954</td>\n",
       "      <td>-2.86269</td>\n",
       "      <td>-2.567382</td>\n",
       "      <td>2505.871051</td>\n",
       "    </tr>\n",
       "    <tr>\n",
       "      <th>0</th>\n",
       "      <td>-6.999952</td>\n",
       "      <td>7.365777e-10</td>\n",
       "      <td>0.0</td>\n",
       "      <td>2515.0</td>\n",
       "      <td>-3.432953</td>\n",
       "      <td>-2.86269</td>\n",
       "      <td>-2.567382</td>\n",
       "      <td>2815.457971</td>\n",
       "    </tr>\n",
       "  </tbody>\n",
       "</table>\n",
       "</div>"
      ],
      "text/plain": [
       "        adf       p_value  used_lag   n_obs   ci_0.01  ci_0.05    ci_0.1  \\\n",
       "0 -7.926287  3.611421e-12       0.0  2515.0 -3.432953 -2.86269 -2.567382   \n",
       "0 -5.640046  1.041538e-06       1.0  2514.0 -3.432954 -2.86269 -2.567382   \n",
       "0 -6.999952  7.365777e-10       0.0  2515.0 -3.432953 -2.86269 -2.567382   \n",
       "\n",
       "       ic_best  \n",
       "0  1757.165999  \n",
       "0  2505.871051  \n",
       "0  2815.457971  "
      ]
     },
     "execution_count": 21,
     "metadata": {},
     "output_type": "execute_result"
    }
   ],
   "source": [
    "pd.concat((\n",
    "    adf(cs[:'1994-11'], autolag='BIC').to_frame().T,\n",
    "    adf(gcs[:'1994-11'], autolag='BIC').to_frame().T,\n",
    "    adf(hocs[:'1994-11'], autolag='BIC').to_frame().T,\n",
    "))"
   ]
  },
  {
   "cell_type": "markdown",
   "id": "6e2c8692",
   "metadata": {
    "papermill": {
     "duration": 0.072974,
     "end_time": "2022-03-12T08:33:35.183163",
     "exception": false,
     "start_time": "2022-03-12T08:33:35.110189",
     "status": "completed"
    },
    "tags": []
   },
   "source": [
    "Statistically though these spreads are still stationary at the 1% confidence level even after 2000."
   ]
  },
  {
   "cell_type": "code",
   "execution_count": 22,
   "id": "d3f9d7a9",
   "metadata": {
    "execution": {
     "iopub.execute_input": "2022-03-12T08:33:35.330066Z",
     "iopub.status.busy": "2022-03-12T08:33:35.329264Z",
     "iopub.status.idle": "2022-03-12T08:33:37.198452Z",
     "shell.execute_reply": "2022-03-12T08:33:37.197920Z",
     "shell.execute_reply.started": "2021-12-03T06:37:01.658276Z"
    },
    "papermill": {
     "duration": 1.94475,
     "end_time": "2022-03-12T08:33:37.198561",
     "exception": false,
     "start_time": "2022-03-12T08:33:35.253811",
     "status": "completed"
    },
    "tags": []
   },
   "outputs": [
    {
     "data": {
      "text/html": [
       "<div>\n",
       "<style scoped>\n",
       "    .dataframe tbody tr th:only-of-type {\n",
       "        vertical-align: middle;\n",
       "    }\n",
       "\n",
       "    .dataframe tbody tr th {\n",
       "        vertical-align: top;\n",
       "    }\n",
       "\n",
       "    .dataframe thead th {\n",
       "        text-align: right;\n",
       "    }\n",
       "</style>\n",
       "<table border=\"1\" class=\"dataframe\">\n",
       "  <thead>\n",
       "    <tr style=\"text-align: right;\">\n",
       "      <th></th>\n",
       "      <th>adf</th>\n",
       "      <th>p_value</th>\n",
       "      <th>used_lag</th>\n",
       "      <th>n_obs</th>\n",
       "      <th>ci_0.01</th>\n",
       "      <th>ci_0.05</th>\n",
       "      <th>ci_0.1</th>\n",
       "      <th>ic_best</th>\n",
       "    </tr>\n",
       "  </thead>\n",
       "  <tbody>\n",
       "    <tr>\n",
       "      <th>0</th>\n",
       "      <td>-3.387348</td>\n",
       "      <td>0.011398</td>\n",
       "      <td>2.0</td>\n",
       "      <td>5571.0</td>\n",
       "      <td>-3.431524</td>\n",
       "      <td>-2.862059</td>\n",
       "      <td>-2.567046</td>\n",
       "      <td>14021.991489</td>\n",
       "    </tr>\n",
       "    <tr>\n",
       "      <th>0</th>\n",
       "      <td>-5.254572</td>\n",
       "      <td>0.000007</td>\n",
       "      <td>0.0</td>\n",
       "      <td>5573.0</td>\n",
       "      <td>-3.431524</td>\n",
       "      <td>-2.862059</td>\n",
       "      <td>-2.567046</td>\n",
       "      <td>17489.518488</td>\n",
       "    </tr>\n",
       "    <tr>\n",
       "      <th>0</th>\n",
       "      <td>-2.817815</td>\n",
       "      <td>0.055774</td>\n",
       "      <td>6.0</td>\n",
       "      <td>5567.0</td>\n",
       "      <td>-3.431525</td>\n",
       "      <td>-2.862059</td>\n",
       "      <td>-2.567046</td>\n",
       "      <td>15235.906305</td>\n",
       "    </tr>\n",
       "  </tbody>\n",
       "</table>\n",
       "</div>"
      ],
      "text/plain": [
       "        adf   p_value  used_lag   n_obs   ci_0.01   ci_0.05    ci_0.1  \\\n",
       "0 -3.387348  0.011398       2.0  5571.0 -3.431524 -2.862059 -2.567046   \n",
       "0 -5.254572  0.000007       0.0  5573.0 -3.431524 -2.862059 -2.567046   \n",
       "0 -2.817815  0.055774       6.0  5567.0 -3.431525 -2.862059 -2.567046   \n",
       "\n",
       "        ic_best  \n",
       "0  14021.991489  \n",
       "0  17489.518488  \n",
       "0  15235.906305  "
      ]
     },
     "execution_count": 22,
     "metadata": {},
     "output_type": "execute_result"
    }
   ],
   "source": [
    "pd.concat((\n",
    "    adf(cs['2000':], autolag='BIC').to_frame().T,\n",
    "    adf(gcs['2000':], autolag='BIC').to_frame().T,\n",
    "    adf(hocs['2000':], autolag='BIC').to_frame().T,\n",
    "))"
   ]
  },
  {
   "cell_type": "markdown",
   "id": "eb6c197c",
   "metadata": {
    "papermill": {
     "duration": 0.069949,
     "end_time": "2022-03-12T08:33:37.337465",
     "exception": false,
     "start_time": "2022-03-12T08:33:37.267516",
     "status": "completed"
    },
    "tags": []
   },
   "source": [
    "# Backtest"
   ]
  },
  {
   "cell_type": "markdown",
   "id": "4bbb1506",
   "metadata": {
    "papermill": {
     "duration": 0.069389,
     "end_time": "2022-03-12T08:33:37.481216",
     "exception": false,
     "start_time": "2022-03-12T08:33:37.411827",
     "status": "completed"
    },
    "tags": []
   },
   "source": [
    "It's not entirely clear how many back contracts are used in the original analysis as they only mentioned they used *all spreads*. In this notebook, the first 6 contracts are used for the sake of simplicity. Beyond 6, there tends to be more missing prices because of inactivity.\n",
    "\n",
    "In practice, one might want to consider liquidity of each contract to decide which one to trade as not all contract months have the same liquidity. In the case of crude oil, after certain points only June and December contracts are actually traded even though other months are listed."
   ]
  },
  {
   "cell_type": "code",
   "execution_count": 23,
   "id": "4aebb8bd",
   "metadata": {
    "execution": {
     "iopub.execute_input": "2022-03-12T08:33:37.634270Z",
     "iopub.status.busy": "2022-03-12T08:33:37.633683Z",
     "iopub.status.idle": "2022-03-12T08:33:38.316006Z",
     "shell.execute_reply": "2022-03-12T08:33:38.315457Z",
     "shell.execute_reply.started": "2021-12-03T06:37:02.717053Z"
    },
    "papermill": {
     "duration": 0.759544,
     "end_time": "2022-03-12T08:33:38.316118",
     "exception": false,
     "start_time": "2022-03-12T08:33:37.556574",
     "status": "completed"
    },
    "tags": []
   },
   "outputs": [],
   "source": [
    "cl_curve = get_futures_curve_snapshot('CL', datetime(2021, 12, 1), 'volume')"
   ]
  },
  {
   "cell_type": "code",
   "execution_count": 24,
   "id": "c2bd035a",
   "metadata": {
    "execution": {
     "iopub.execute_input": "2022-03-12T08:33:38.486270Z",
     "iopub.status.busy": "2022-03-12T08:33:38.485483Z",
     "iopub.status.idle": "2022-03-12T08:33:38.957720Z",
     "shell.execute_reply": "2022-03-12T08:33:38.958156Z",
     "shell.execute_reply.started": "2021-12-03T06:37:03.317876Z"
    },
    "papermill": {
     "duration": 0.555327,
     "end_time": "2022-03-12T08:33:38.958288",
     "exception": false,
     "start_time": "2022-03-12T08:33:38.402961",
     "status": "completed"
    },
    "tags": []
   },
   "outputs": [
    {
     "data": {
      "image/png": "[encoded data removed]",
      "text/plain": [
       "<Figure size 1008x216 with 1 Axes>"
      ]
     },
     "metadata": {
      "needs_background": "light"
     },
     "output_type": "display_data"
    }
   ],
   "source": [
    "ax = cl_curve.loc[:'2024'].set_index('symbol')['volume'].plot(kind='bar', figsize=(14, 3));\n",
    "ax.set_ylabel('Volume')\n",
    "ax.set_title('Crude oil traded volume per contract');"
   ]
  },
  {
   "cell_type": "markdown",
   "id": "9de6acec",
   "metadata": {
    "papermill": {
     "duration": 0.07121,
     "end_time": "2022-03-12T08:33:39.100989",
     "exception": false,
     "start_time": "2022-03-12T08:33:39.029779",
     "status": "completed"
    },
    "tags": []
   },
   "source": [
    "## Crack spread\n",
    "\n",
    "First define the instruments. `roll_rule` is defined to make sure futures are rolled on month-ends. As per the analysis done for crush spreads, some arbitrary collateral of 100k USD is used to meature futures returns."
   ]
  },
  {
   "cell_type": "code",
   "execution_count": 25,
   "id": "5d159539",
   "metadata": {
    "execution": {
     "iopub.execute_input": "2022-03-12T08:33:39.250672Z",
     "iopub.status.busy": "2022-03-12T08:33:39.249934Z",
     "iopub.status.idle": "2022-03-12T08:33:39.251664Z",
     "shell.execute_reply": "2022-03-12T08:33:39.252145Z",
     "shell.execute_reply.started": "2021-12-03T06:37:03.702667Z"
    },
    "papermill": {
     "duration": 0.080149,
     "end_time": "2022-03-12T08:33:39.252280",
     "exception": false,
     "start_time": "2022-03-12T08:33:39.172131",
     "status": "completed"
    },
    "tags": []
   },
   "outputs": [],
   "source": [
    "max_expiry = 6\n",
    "instrument = []\n",
    "for i in range(1, max_expiry + 1):\n",
    "    ho = InstrumentDef('HO', id=f'HO_{i}', collateral=100_000, roll_rule=RollRule.MONTH_END.value, nth_expiry=i)\n",
    "    xb = InstrumentDef('XB', id=f'XB_{i}', collateral=100_000, roll_rule=RollRule.MONTH_END.value, nth_expiry=i)\n",
    "    cl = InstrumentDef('CL', id=f'CL_{i}', collateral=100_000, roll_rule=RollRule.MONTH_END.value, nth_expiry=i)\n",
    "    instrument.append(ho)\n",
    "    instrument.append(xb)\n",
    "    instrument.append(cl)"
   ]
  },
  {
   "cell_type": "code",
   "execution_count": 26,
   "id": "19851a3b",
   "metadata": {
    "execution": {
     "iopub.execute_input": "2022-03-12T08:33:39.399800Z",
     "iopub.status.busy": "2022-03-12T08:33:39.399238Z",
     "iopub.status.idle": "2022-03-12T08:33:39.402196Z",
     "shell.execute_reply": "2022-03-12T08:33:39.401651Z",
     "shell.execute_reply.started": "2021-12-03T06:37:03.708075Z"
    },
    "papermill": {
     "duration": 0.07828,
     "end_time": "2022-03-12T08:33:39.402305",
     "exception": false,
     "start_time": "2022-03-12T08:33:39.324025",
     "status": "completed"
    },
    "tags": []
   },
   "outputs": [
    {
     "data": {
      "text/plain": [
       "18"
      ]
     },
     "execution_count": 26,
     "metadata": {},
     "output_type": "execute_result"
    }
   ],
   "source": [
    "len(instrument)"
   ]
  },
  {
   "cell_type": "code",
   "execution_count": 27,
   "id": "729399c3",
   "metadata": {
    "execution": {
     "iopub.execute_input": "2022-03-12T08:33:39.555400Z",
     "iopub.status.busy": "2022-03-12T08:33:39.554846Z",
     "iopub.status.idle": "2022-03-12T08:39:27.477874Z",
     "shell.execute_reply": "2022-03-12T08:39:27.478571Z",
     "shell.execute_reply.started": "2021-12-03T06:37:03.728155Z"
    },
    "papermill": {
     "duration": 348.004336,
     "end_time": "2022-03-12T08:39:27.478792",
     "exception": false,
     "start_time": "2022-03-12T08:33:39.474456",
     "status": "completed"
    },
    "tags": []
   },
   "outputs": [],
   "source": [
    "engine_cs = BacktestEngine(\n",
    "    start_date=datetime(1985, 1, 1),\n",
    "    strategy=Strategy.DELTA_ONE.value,\n",
    "    instrument=instrument,\n",
    "    signal=signal.CrackSpreadGP1999(\n",
    "        ma_lookback=5,\n",
    "        entry_sigma=2,\n",
    "    ),\n",
    "    weighting=Weighting.SUM.value,\n",
    "    log_level=logging.WARN,\n",
    ")\n",
    "engine_cs.run()"
   ]
  },
  {
   "cell_type": "code",
   "execution_count": 28,
   "id": "f08e3ad6",
   "metadata": {
    "execution": {
     "iopub.execute_input": "2022-03-12T08:39:27.824764Z",
     "iopub.status.busy": "2022-03-12T08:39:27.824194Z",
     "iopub.status.idle": "2022-03-12T08:40:57.769730Z",
     "shell.execute_reply": "2022-03-12T08:40:57.770265Z",
     "shell.execute_reply.started": "2021-12-03T06:42:16.903750Z"
    },
    "papermill": {
     "duration": 90.200934,
     "end_time": "2022-03-12T08:40:57.770417",
     "exception": false,
     "start_time": "2022-03-12T08:39:27.569483",
     "status": "completed"
    },
    "tags": []
   },
   "outputs": [],
   "source": [
    "levels_cs = engine_cs.calculate_equity_curve(calculate_net=False).rename('Crack spread')"
   ]
  },
  {
   "cell_type": "markdown",
   "id": "46f2eaf9",
   "metadata": {
    "papermill": {
     "duration": 0.102529,
     "end_time": "2022-03-12T08:40:57.964147",
     "exception": false,
     "start_time": "2022-03-12T08:40:57.861618",
     "status": "completed"
    },
    "tags": []
   },
   "source": [
    "## Gasoline crack spread"
   ]
  },
  {
   "cell_type": "code",
   "execution_count": 29,
   "id": "ea2825c3",
   "metadata": {
    "execution": {
     "iopub.execute_input": "2022-03-12T08:40:58.132800Z",
     "iopub.status.busy": "2022-03-12T08:40:58.131971Z",
     "iopub.status.idle": "2022-03-12T08:40:58.133924Z",
     "shell.execute_reply": "2022-03-12T08:40:58.134553Z",
     "shell.execute_reply.started": "2021-12-03T06:43:30.816159Z"
    },
    "papermill": {
     "duration": 0.080726,
     "end_time": "2022-03-12T08:40:58.134740",
     "exception": false,
     "start_time": "2022-03-12T08:40:58.054014",
     "status": "completed"
    },
    "tags": []
   },
   "outputs": [],
   "source": [
    "max_expiry = 6\n",
    "instrument = []\n",
    "for i in range(1, max_expiry + 1):\n",
    "    xb = InstrumentDef('XB', id=f'XB_{i}', collateral=100_000, roll_rule=RollRule.MONTH_END.value, nth_expiry=i)\n",
    "    cl = InstrumentDef('CL', id=f'CL_{i}', collateral=100_000, roll_rule=RollRule.MONTH_END.value, nth_expiry=i)\n",
    "    instrument.append(xb)\n",
    "    instrument.append(cl)"
   ]
  },
  {
   "cell_type": "code",
   "execution_count": 30,
   "id": "553fbe4b",
   "metadata": {
    "execution": {
     "iopub.execute_input": "2022-03-12T08:40:58.306409Z",
     "iopub.status.busy": "2022-03-12T08:40:58.305563Z",
     "iopub.status.idle": "2022-03-12T08:45:00.492491Z",
     "shell.execute_reply": "2022-03-12T08:45:00.492979Z",
     "shell.execute_reply.started": "2021-12-03T06:43:30.820603Z"
    },
    "papermill": {
     "duration": 242.267776,
     "end_time": "2022-03-12T08:45:00.493118",
     "exception": false,
     "start_time": "2022-03-12T08:40:58.225342",
     "status": "completed"
    },
    "tags": []
   },
   "outputs": [],
   "source": [
    "engine_gcs = BacktestEngine(\n",
    "    start_date=datetime(1985, 1, 1),\n",
    "    strategy=Strategy.DELTA_ONE.value,\n",
    "    instrument=instrument,\n",
    "    signal=signal.CrackSpreadGP1999(\n",
    "        weights={'XB': 42 * 1000, 'CL': -1 * 1000},\n",
    "        ma_lookback=5,\n",
    "        entry_sigma=2,\n",
    "    ),\n",
    "    weighting=Weighting.SUM.value,\n",
    "    log_level=logging.WARN,\n",
    ")\n",
    "engine_gcs.run()"
   ]
  },
  {
   "cell_type": "code",
   "execution_count": 31,
   "id": "4d87519a",
   "metadata": {
    "execution": {
     "iopub.execute_input": "2022-03-12T08:45:00.691207Z",
     "iopub.status.busy": "2022-03-12T08:45:00.690366Z",
     "iopub.status.idle": "2022-03-12T08:45:53.444779Z",
     "shell.execute_reply": "2022-03-12T08:45:53.444039Z",
     "shell.execute_reply.started": "2021-12-03T06:46:36.439575Z"
    },
    "papermill": {
     "duration": 52.860143,
     "end_time": "2022-03-12T08:45:53.444951",
     "exception": false,
     "start_time": "2022-03-12T08:45:00.584808",
     "status": "completed"
    },
    "tags": []
   },
   "outputs": [],
   "source": [
    "levels_gcs = engine_gcs.calculate_equity_curve(calculate_net=False).rename('Gasoline crack spread')"
   ]
  },
  {
   "cell_type": "markdown",
   "id": "8d456942",
   "metadata": {
    "papermill": {
     "duration": 0.076176,
     "end_time": "2022-03-12T08:45:53.602672",
     "exception": false,
     "start_time": "2022-03-12T08:45:53.526496",
     "status": "completed"
    },
    "tags": []
   },
   "source": [
    "## Heating oil crack spread"
   ]
  },
  {
   "cell_type": "code",
   "execution_count": 32,
   "id": "9cb7c150",
   "metadata": {
    "execution": {
     "iopub.execute_input": "2022-03-12T08:45:53.758042Z",
     "iopub.status.busy": "2022-03-12T08:45:53.757504Z",
     "iopub.status.idle": "2022-03-12T08:45:53.759860Z",
     "shell.execute_reply": "2022-03-12T08:45:53.759406Z",
     "shell.execute_reply.started": "2021-12-03T06:47:22.681997Z"
    },
    "papermill": {
     "duration": 0.085216,
     "end_time": "2022-03-12T08:45:53.759970",
     "exception": false,
     "start_time": "2022-03-12T08:45:53.674754",
     "status": "completed"
    },
    "tags": []
   },
   "outputs": [],
   "source": [
    "max_expiry = 6\n",
    "instrument = []\n",
    "for i in range(1, max_expiry + 1):\n",
    "    ho = InstrumentDef('HO', id=f'HO_{i}', collateral=100_000, roll_rule=RollRule.MONTH_END.value, nth_expiry=i)\n",
    "    cl = InstrumentDef('CL', id=f'CL_{i}', collateral=100_000, roll_rule=RollRule.MONTH_END.value, nth_expiry=i)\n",
    "    instrument.append(ho)\n",
    "    instrument.append(cl)"
   ]
  },
  {
   "cell_type": "code",
   "execution_count": 33,
   "id": "9338a131",
   "metadata": {
    "execution": {
     "iopub.execute_input": "2022-03-12T08:45:53.911621Z",
     "iopub.status.busy": "2022-03-12T08:45:53.911025Z",
     "iopub.status.idle": "2022-03-12T08:49:56.075958Z",
     "shell.execute_reply": "2022-03-12T08:49:56.075220Z",
     "shell.execute_reply.started": "2021-12-03T06:47:22.686616Z"
    },
    "papermill": {
     "duration": 242.24252,
     "end_time": "2022-03-12T08:49:56.076121",
     "exception": false,
     "start_time": "2022-03-12T08:45:53.833601",
     "status": "completed"
    },
    "tags": []
   },
   "outputs": [],
   "source": [
    "engine_hocs = BacktestEngine(\n",
    "    start_date=datetime(1985, 1, 1),\n",
    "    strategy=Strategy.DELTA_ONE.value,\n",
    "    instrument=instrument,\n",
    "    signal=signal.CrackSpreadGP1999(\n",
    "        weights={'HO': 42 * 1000, 'CL': -1 * 1000},\n",
    "        ma_lookback=5,\n",
    "        entry_sigma=2,\n",
    "    ),\n",
    "    weighting=Weighting.SUM.value,\n",
    "    log_level=logging.WARN,\n",
    ")\n",
    "engine_hocs.run()"
   ]
  },
  {
   "cell_type": "code",
   "execution_count": 34,
   "id": "64757694",
   "metadata": {
    "execution": {
     "iopub.execute_input": "2022-03-12T08:49:56.293866Z",
     "iopub.status.busy": "2022-03-12T08:49:56.252933Z",
     "iopub.status.idle": "2022-03-12T08:50:54.341881Z",
     "shell.execute_reply": "2022-03-12T08:50:54.342550Z",
     "shell.execute_reply.started": "2021-12-03T06:50:35.660726Z"
    },
    "papermill": {
     "duration": 58.17033,
     "end_time": "2022-03-12T08:50:54.342740",
     "exception": false,
     "start_time": "2022-03-12T08:49:56.172410",
     "status": "completed"
    },
    "tags": []
   },
   "outputs": [],
   "source": [
    "levels_hocs = engine_hocs.calculate_equity_curve(calculate_net=False).rename('Heating oil crack spread')"
   ]
  },
  {
   "cell_type": "markdown",
   "id": "7d427481",
   "metadata": {
    "papermill": {
     "duration": 0.110335,
     "end_time": "2022-03-12T08:50:54.563456",
     "exception": false,
     "start_time": "2022-03-12T08:50:54.453121",
     "status": "completed"
    },
    "tags": []
   },
   "source": [
    "## Performance\n",
    "During the sample period tested, a mean-reversion on the crack spread worked well."
   ]
  },
  {
   "cell_type": "code",
   "execution_count": 35,
   "id": "348f0796",
   "metadata": {
    "execution": {
     "iopub.execute_input": "2022-03-12T08:50:54.752216Z",
     "iopub.status.busy": "2022-03-12T08:50:54.751450Z",
     "iopub.status.idle": "2022-03-12T08:50:54.760656Z",
     "shell.execute_reply": "2022-03-12T08:50:54.761335Z",
     "shell.execute_reply.started": "2021-12-03T06:51:19.449738Z"
    },
    "papermill": {
     "duration": 0.117924,
     "end_time": "2022-03-12T08:50:54.761525",
     "exception": false,
     "start_time": "2022-03-12T08:50:54.643601",
     "status": "completed"
    },
    "tags": []
   },
   "outputs": [],
   "source": [
    "levels = pd.concat((\n",
    "    levels_cs, levels_gcs, levels_hocs\n",
    "), axis=1)"
   ]
  },
  {
   "cell_type": "code",
   "execution_count": 36,
   "id": "c3b6f7cd",
   "metadata": {
    "execution": {
     "iopub.execute_input": "2022-03-12T08:50:54.995367Z",
     "iopub.status.busy": "2022-03-12T08:50:54.991998Z",
     "iopub.status.idle": "2022-03-12T08:50:55.810674Z",
     "shell.execute_reply": "2022-03-12T08:50:55.810014Z",
     "shell.execute_reply.started": "2021-12-03T06:51:19.460778Z"
    },
    "papermill": {
     "duration": 0.946414,
     "end_time": "2022-03-12T08:50:55.810851",
     "exception": false,
     "start_time": "2022-03-12T08:50:54.864437",
     "status": "completed"
    },
    "tags": []
   },
   "outputs": [
    {
     "data": {
      "image/png": "[encoded data removed]",
      "text/plain": [
       "<Figure size 576x324 with 1 Axes>"
      ]
     },
     "metadata": {
      "needs_background": "light"
     },
     "output_type": "display_data"
    }
   ],
   "source": [
    "fig, ax = plt.subplots(figsize=(8, 4.5))\n",
    "levels[:'1994-11'].plot(ax=ax, logy=True);\n",
    "ax.set_title('Crack spreads mean-reversion (GP1999)')\n",
    "ax.set_ylabel('Cumulative returns');"
   ]
  },
  {
   "cell_type": "code",
   "execution_count": 37,
   "id": "8b9035a4",
   "metadata": {
    "execution": {
     "iopub.execute_input": "2022-03-12T08:50:56.023269Z",
     "iopub.status.busy": "2022-03-12T08:50:56.022713Z",
     "iopub.status.idle": "2022-03-12T08:50:56.082229Z",
     "shell.execute_reply": "2022-03-12T08:50:56.081644Z",
     "shell.execute_reply.started": "2021-12-03T06:51:20.052589Z"
    },
    "papermill": {
     "duration": 0.139892,
     "end_time": "2022-03-12T08:50:56.082363",
     "exception": false,
     "start_time": "2022-03-12T08:50:55.942471",
     "status": "completed"
    },
    "tags": []
   },
   "outputs": [
    {
     "data": {
      "text/html": [
       "<div>\n",
       "<style scoped>\n",
       "    .dataframe tbody tr th:only-of-type {\n",
       "        vertical-align: middle;\n",
       "    }\n",
       "\n",
       "    .dataframe tbody tr th {\n",
       "        vertical-align: top;\n",
       "    }\n",
       "\n",
       "    .dataframe thead th {\n",
       "        text-align: right;\n",
       "    }\n",
       "</style>\n",
       "<table border=\"1\" class=\"dataframe\">\n",
       "  <thead>\n",
       "    <tr style=\"text-align: right;\">\n",
       "      <th></th>\n",
       "      <th>Crack spread</th>\n",
       "      <th>Gasoline crack spread</th>\n",
       "      <th>Heating oil crack spread</th>\n",
       "    </tr>\n",
       "  </thead>\n",
       "  <tbody>\n",
       "    <tr>\n",
       "      <th>CAGR</th>\n",
       "      <td>0.014100</td>\n",
       "      <td>0.007241</td>\n",
       "      <td>0.011715</td>\n",
       "    </tr>\n",
       "    <tr>\n",
       "      <th>Annualised vol</th>\n",
       "      <td>0.018131</td>\n",
       "      <td>0.022948</td>\n",
       "      <td>0.017725</td>\n",
       "    </tr>\n",
       "    <tr>\n",
       "      <th>Sharpe ratio</th>\n",
       "      <td>0.777675</td>\n",
       "      <td>0.315525</td>\n",
       "      <td>0.660914</td>\n",
       "    </tr>\n",
       "    <tr>\n",
       "      <th>Max drawdown</th>\n",
       "      <td>0.071648</td>\n",
       "      <td>0.129760</td>\n",
       "      <td>0.044562</td>\n",
       "    </tr>\n",
       "    <tr>\n",
       "      <th>Calmar ratio</th>\n",
       "      <td>0.196791</td>\n",
       "      <td>0.055800</td>\n",
       "      <td>0.262889</td>\n",
       "    </tr>\n",
       "    <tr>\n",
       "      <th>Skewness</th>\n",
       "      <td>0.791950</td>\n",
       "      <td>4.373877</td>\n",
       "      <td>2.076780</td>\n",
       "    </tr>\n",
       "    <tr>\n",
       "      <th>Kurtosis</th>\n",
       "      <td>45.874931</td>\n",
       "      <td>200.909353</td>\n",
       "      <td>75.098364</td>\n",
       "    </tr>\n",
       "    <tr>\n",
       "      <th>Worst return</th>\n",
       "      <td>-0.012272</td>\n",
       "      <td>-0.022322</td>\n",
       "      <td>-0.013000</td>\n",
       "    </tr>\n",
       "    <tr>\n",
       "      <th>Worst 1d return</th>\n",
       "      <td>-0.012272</td>\n",
       "      <td>-0.022322</td>\n",
       "      <td>-0.013000</td>\n",
       "    </tr>\n",
       "    <tr>\n",
       "      <th>Worst 1w return</th>\n",
       "      <td>-0.018763</td>\n",
       "      <td>-0.034413</td>\n",
       "      <td>-0.019985</td>\n",
       "    </tr>\n",
       "    <tr>\n",
       "      <th>Worst 1m return</th>\n",
       "      <td>-0.030638</td>\n",
       "      <td>-0.029017</td>\n",
       "      <td>-0.026193</td>\n",
       "    </tr>\n",
       "  </tbody>\n",
       "</table>\n",
       "</div>"
      ],
      "text/plain": [
       "                 Crack spread  Gasoline crack spread  Heating oil crack spread\n",
       "CAGR                 0.014100               0.007241                  0.011715\n",
       "Annualised vol       0.018131               0.022948                  0.017725\n",
       "Sharpe ratio         0.777675               0.315525                  0.660914\n",
       "Max drawdown         0.071648               0.129760                  0.044562\n",
       "Calmar ratio         0.196791               0.055800                  0.262889\n",
       "Skewness             0.791950               4.373877                  2.076780\n",
       "Kurtosis            45.874931             200.909353                 75.098364\n",
       "Worst return        -0.012272              -0.022322                 -0.013000\n",
       "Worst 1d return     -0.012272              -0.022322                 -0.013000\n",
       "Worst 1w return     -0.018763              -0.034413                 -0.019985\n",
       "Worst 1m return     -0.030638              -0.029017                 -0.026193"
      ]
     },
     "execution_count": 37,
     "metadata": {},
     "output_type": "execute_result"
    }
   ],
   "source": [
    "levels[:'1994-11'].pipe(Performance).summary()"
   ]
  },
  {
   "cell_type": "markdown",
   "id": "25d81c19",
   "metadata": {
    "papermill": {
     "duration": 0.078448,
     "end_time": "2022-03-12T08:50:56.237698",
     "exception": false,
     "start_time": "2022-03-12T08:50:56.159250",
     "status": "completed"
    },
    "tags": []
   },
   "source": [
    "The underperformance in 1990 coincides with a wider divergence on the crack spread which is intuitive."
   ]
  },
  {
   "cell_type": "code",
   "execution_count": 38,
   "id": "76538675",
   "metadata": {
    "execution": {
     "iopub.execute_input": "2022-03-12T08:50:56.403682Z",
     "iopub.status.busy": "2022-03-12T08:50:56.403099Z",
     "iopub.status.idle": "2022-03-12T08:50:56.809354Z",
     "shell.execute_reply": "2022-03-12T08:50:56.810003Z",
     "shell.execute_reply.started": "2021-12-03T06:51:20.098154Z"
    },
    "papermill": {
     "duration": 0.493157,
     "end_time": "2022-03-12T08:50:56.810191",
     "exception": false,
     "start_time": "2022-03-12T08:50:56.317034",
     "status": "completed"
    },
    "tags": []
   },
   "outputs": [
    {
     "data": {
      "image/png": "[encoded data removed]",
      "text/plain": [
       "<Figure size 576x360 with 2 Axes>"
      ]
     },
     "metadata": {
      "needs_background": "light"
     },
     "output_type": "display_data"
    }
   ],
   "source": [
    "pd.concat((\n",
    "    levels_gcs.rename('Gasoline crack spread strategy'),\n",
    "    gcs.rename('GCS')\n",
    "), axis=1)[:'1994-11'].plot(figsize=(8, 5), secondary_y='GCS');"
   ]
  },
  {
   "cell_type": "markdown",
   "id": "e2d431e2",
   "metadata": {
    "papermill": {
     "duration": 0.078,
     "end_time": "2022-03-12T08:50:56.978205",
     "exception": false,
     "start_time": "2022-03-12T08:50:56.900205",
     "status": "completed"
    },
    "tags": []
   },
   "source": [
    "## Long-term performance\n",
    "\n",
    "...however as we saw earlier in the time-series of crack spreads, something must have changed in 2000s and the trading strategies stopped working."
   ]
  },
  {
   "cell_type": "code",
   "execution_count": 39,
   "id": "d8a263d6",
   "metadata": {
    "execution": {
     "iopub.execute_input": "2022-03-12T08:50:57.158272Z",
     "iopub.status.busy": "2022-03-12T08:50:57.156570Z",
     "iopub.status.idle": "2022-03-12T08:50:57.806231Z",
     "shell.execute_reply": "2022-03-12T08:50:57.806688Z",
     "shell.execute_reply.started": "2021-12-03T06:51:20.399415Z"
    },
    "papermill": {
     "duration": 0.752153,
     "end_time": "2022-03-12T08:50:57.806843",
     "exception": false,
     "start_time": "2022-03-12T08:50:57.054690",
     "status": "completed"
    },
    "tags": []
   },
   "outputs": [
    {
     "data": {
      "image/png": "[encoded data removed]",
      "text/plain": [
       "<Figure size 576x324 with 1 Axes>"
      ]
     },
     "metadata": {
      "needs_background": "light"
     },
     "output_type": "display_data"
    }
   ],
   "source": [
    "fig, ax = plt.subplots(figsize=(8, 4.5))\n",
    "levels.plot(ax=ax, logy=True);\n",
    "ax.set_title('Crack spreads mean-reversion (GP1999)')\n",
    "ax.set_ylabel('Cumulative returns');"
   ]
  },
  {
   "cell_type": "code",
   "execution_count": 40,
   "id": "b9b01da1",
   "metadata": {
    "execution": {
     "iopub.execute_input": "2022-03-12T08:50:57.993500Z",
     "iopub.status.busy": "2022-03-12T08:50:57.992670Z",
     "iopub.status.idle": "2022-03-12T08:50:58.096135Z",
     "shell.execute_reply": "2022-03-12T08:50:58.095437Z",
     "shell.execute_reply.started": "2021-12-03T06:51:20.790419Z"
    },
    "papermill": {
     "duration": 0.208742,
     "end_time": "2022-03-12T08:50:58.096311",
     "exception": false,
     "start_time": "2022-03-12T08:50:57.887569",
     "status": "completed"
    },
    "tags": []
   },
   "outputs": [
    {
     "data": {
      "text/html": [
       "<div>\n",
       "<style scoped>\n",
       "    .dataframe tbody tr th:only-of-type {\n",
       "        vertical-align: middle;\n",
       "    }\n",
       "\n",
       "    .dataframe tbody tr th {\n",
       "        vertical-align: top;\n",
       "    }\n",
       "\n",
       "    .dataframe thead th {\n",
       "        text-align: right;\n",
       "    }\n",
       "</style>\n",
       "<table border=\"1\" class=\"dataframe\">\n",
       "  <thead>\n",
       "    <tr style=\"text-align: right;\">\n",
       "      <th></th>\n",
       "      <th>Crack spread</th>\n",
       "      <th>Gasoline crack spread</th>\n",
       "      <th>Heating oil crack spread</th>\n",
       "    </tr>\n",
       "  </thead>\n",
       "  <tbody>\n",
       "    <tr>\n",
       "      <th>CAGR</th>\n",
       "      <td>-0.020790</td>\n",
       "      <td>-0.006718</td>\n",
       "      <td>0.005666</td>\n",
       "    </tr>\n",
       "    <tr>\n",
       "      <th>Annualised vol</th>\n",
       "      <td>0.134244</td>\n",
       "      <td>0.044814</td>\n",
       "      <td>0.068480</td>\n",
       "    </tr>\n",
       "    <tr>\n",
       "      <th>Sharpe ratio</th>\n",
       "      <td>-0.154864</td>\n",
       "      <td>-0.149905</td>\n",
       "      <td>0.082743</td>\n",
       "    </tr>\n",
       "    <tr>\n",
       "      <th>Max drawdown</th>\n",
       "      <td>0.796898</td>\n",
       "      <td>0.455942</td>\n",
       "      <td>0.262482</td>\n",
       "    </tr>\n",
       "    <tr>\n",
       "      <th>Calmar ratio</th>\n",
       "      <td>-0.026088</td>\n",
       "      <td>-0.014734</td>\n",
       "      <td>0.021587</td>\n",
       "    </tr>\n",
       "    <tr>\n",
       "      <th>Skewness</th>\n",
       "      <td>29.810016</td>\n",
       "      <td>-1.833509</td>\n",
       "      <td>8.485098</td>\n",
       "    </tr>\n",
       "    <tr>\n",
       "      <th>Kurtosis</th>\n",
       "      <td>2873.029907</td>\n",
       "      <td>68.386646</td>\n",
       "      <td>992.843710</td>\n",
       "    </tr>\n",
       "    <tr>\n",
       "      <th>Worst return</th>\n",
       "      <td>-0.339082</td>\n",
       "      <td>-0.049356</td>\n",
       "      <td>-0.162293</td>\n",
       "    </tr>\n",
       "    <tr>\n",
       "      <th>Worst 1d return</th>\n",
       "      <td>-0.339082</td>\n",
       "      <td>-0.049356</td>\n",
       "      <td>-0.162293</td>\n",
       "    </tr>\n",
       "    <tr>\n",
       "      <th>Worst 1w return</th>\n",
       "      <td>-0.214178</td>\n",
       "      <td>-0.101832</td>\n",
       "      <td>-0.085109</td>\n",
       "    </tr>\n",
       "    <tr>\n",
       "      <th>Worst 1m return</th>\n",
       "      <td>-0.114531</td>\n",
       "      <td>-0.119793</td>\n",
       "      <td>-0.093972</td>\n",
       "    </tr>\n",
       "  </tbody>\n",
       "</table>\n",
       "</div>"
      ],
      "text/plain": [
       "                 Crack spread  Gasoline crack spread  Heating oil crack spread\n",
       "CAGR                -0.020790              -0.006718                  0.005666\n",
       "Annualised vol       0.134244               0.044814                  0.068480\n",
       "Sharpe ratio        -0.154864              -0.149905                  0.082743\n",
       "Max drawdown         0.796898               0.455942                  0.262482\n",
       "Calmar ratio        -0.026088              -0.014734                  0.021587\n",
       "Skewness            29.810016              -1.833509                  8.485098\n",
       "Kurtosis          2873.029907              68.386646                992.843710\n",
       "Worst return        -0.339082              -0.049356                 -0.162293\n",
       "Worst 1d return     -0.339082              -0.049356                 -0.162293\n",
       "Worst 1w return     -0.214178              -0.101832                 -0.085109\n",
       "Worst 1m return     -0.114531              -0.119793                 -0.093972"
      ]
     },
     "execution_count": 40,
     "metadata": {},
     "output_type": "execute_result"
    }
   ],
   "source": [
    "levels.pipe(Performance).summary()"
   ]
  },
  {
   "cell_type": "markdown",
   "id": "e67cc5fa",
   "metadata": {
    "papermill": {
     "duration": 0.09107,
     "end_time": "2022-03-12T08:50:58.302034",
     "exception": false,
     "start_time": "2022-03-12T08:50:58.210964",
     "status": "completed"
    },
    "tags": []
   },
   "source": [
    "## Post publication"
   ]
  },
  {
   "cell_type": "code",
   "execution_count": 41,
   "id": "94b4f13d",
   "metadata": {
    "execution": {
     "iopub.execute_input": "2022-03-12T08:50:58.474412Z",
     "iopub.status.busy": "2022-03-12T08:50:58.473864Z",
     "iopub.status.idle": "2022-03-12T08:50:58.476400Z",
     "shell.execute_reply": "2022-03-12T08:50:58.475892Z",
     "shell.execute_reply.started": "2021-12-03T06:51:20.849663Z"
    },
    "papermill": {
     "duration": 0.092888,
     "end_time": "2022-03-12T08:50:58.476515",
     "exception": false,
     "start_time": "2022-03-12T08:50:58.383627",
     "status": "completed"
    },
    "tags": []
   },
   "outputs": [],
   "source": [
    "publication_date = datetime(1999, 11, 29)"
   ]
  },
  {
   "cell_type": "code",
   "execution_count": 42,
   "id": "1a2e7f9c",
   "metadata": {
    "execution": {
     "iopub.execute_input": "2022-03-12T08:50:58.675104Z",
     "iopub.status.busy": "2022-03-12T08:50:58.657886Z",
     "iopub.status.idle": "2022-03-12T08:50:59.869927Z",
     "shell.execute_reply": "2022-03-12T08:50:59.870582Z",
     "shell.execute_reply.started": "2021-12-03T06:51:20.853881Z"
    },
    "papermill": {
     "duration": 1.308351,
     "end_time": "2022-03-12T08:50:59.870773",
     "exception": false,
     "start_time": "2022-03-12T08:50:58.562422",
     "status": "completed"
    },
    "tags": []
   },
   "outputs": [
    {
     "data": {
      "image/png": "[encoded data removed]",
      "text/plain": [
       "<Figure size 1008x288 with 2 Axes>"
      ]
     },
     "metadata": {
      "needs_background": "light"
     },
     "output_type": "display_data"
    }
   ],
   "source": [
    "fig, ax = plt.subplots(1, 2, figsize=(14, 4))\n",
    "levels.plot(ax=ax[0], logy=True);\n",
    "ax[0].set_title('Crack spreads mean-reversion (GP1999)')\n",
    "ax[0].set_ylabel('Cumulative returns');\n",
    "ax[0].axvline(publication_date, lw=1, ls='--', color='black')\n",
    "ax[0].text(publication_date, 100, 'Publication date ', ha='right')\n",
    "\n",
    "levels.loc[publication_date:].pipe(rebase).plot(ax=ax[1], logy=True);\n",
    "ax[1].set_title('Post publication');"
   ]
  },
  {
   "cell_type": "markdown",
   "id": "d187127a",
   "metadata": {
    "papermill": {
     "duration": 0.102031,
     "end_time": "2022-03-12T08:51:00.094966",
     "exception": false,
     "start_time": "2022-03-12T08:50:59.992935",
     "status": "completed"
    },
    "tags": []
   },
   "source": [
    "# Reference\n",
    "- Girma, P.B. and Paulson, A.S., 1999. Risk arbitrage opportunities in petroleum futures spreads. Journal of Futures Markets, 19(8), pp.931-955."
   ]
  },
  {
   "cell_type": "code",
   "execution_count": 43,
   "id": "69fe3c8e",
   "metadata": {
    "execution": {
     "iopub.execute_input": "2022-03-12T08:51:00.262914Z",
     "iopub.status.busy": "2022-03-12T08:51:00.262102Z",
     "iopub.status.idle": "2022-03-12T08:51:00.292403Z",
     "shell.execute_reply": "2022-03-12T08:51:00.291866Z",
     "shell.execute_reply.started": "2021-12-03T06:51:21.723848Z"
    },
    "papermill": {
     "duration": 0.117298,
     "end_time": "2022-03-12T08:51:00.292514",
     "exception": false,
     "start_time": "2022-03-12T08:51:00.175216",
     "status": "completed"
    },
    "tags": []
   },
   "outputs": [
    {
     "name": "stdout",
     "output_type": "stream",
     "text": [
      "Updated: 12-Mar-2022 08:51\n"
     ]
    }
   ],
   "source": [
    "print(f'Updated: {datetime.utcnow():%d-%b-%Y %H:%M}')"
   ]
  }
 ],
 "metadata": {
  "kernelspec": {
   "display_name": "Python 3",
   "language": "python",
   "name": "python3"
  },
  "language_info": {
   "codemirror_mode": {
    "name": "ipython",
    "version": 3
   },
   "file_extension": ".py",
   "mimetype": "text/x-python",
   "name": "python",
   "nbconvert_exporter": "python",
   "pygments_lexer": "ipython3",
   "version": "3.9.6"
  },
  "papermill": {
   "default_parameters": {},
   "duration": 1121.30372,
   "end_time": "2022-03-12T08:51:03.094638",
   "environment_variables": {},
   "exception": null,
   "input_path": "notebooks/papermill/commodity_crack_spread_stat_arb.ipynb",
   "output_path": "notebooks/commodity_crack_spread_stat_arb.ipynb",
   "parameters": {},
   "start_time": "2022-03-12T08:32:21.790918",
   "version": "2.3.3"
  },
  "toc-autonumbering": true
 },
 "nbformat": 4,
 "nbformat_minor": 5
}