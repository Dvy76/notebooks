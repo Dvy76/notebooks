{
 "cells": [
  {
   "cell_type": "markdown",
   "id": "172ca5c5",
   "metadata": {
    "papermill": {
     "duration": 0.018744,
     "end_time": "2022-04-26T06:09:47.821509",
     "exception": false,
     "start_time": "2022-04-26T06:09:47.802765",
     "status": "completed"
    },
    "tags": []
   },
   "source": [
    "# Commodity crack spread statistical arbitrage\n",
    "\n",
    "In this notebook, the mean-rereversion strategy proposed in Girma and Paulson 1999 (henthforth GP1999) is investigated. It focuses on a various combination of the crude oil (WTI) crack spread. "
   ]
  },
  {
   "cell_type": "code",
   "execution_count": 1,
   "id": "7daa9dab",
   "metadata": {
    "execution": {
     "iopub.execute_input": "2022-04-26T06:09:47.856594Z",
     "iopub.status.busy": "2022-04-26T06:09:47.856372Z",
     "iopub.status.idle": "2022-04-26T06:09:50.806052Z",
     "shell.execute_reply": "2022-04-26T06:09:50.805432Z"
    },
    "papermill": {
     "duration": 2.968971,
     "end_time": "2022-04-26T06:09:50.807935",
     "exception": false,
     "start_time": "2022-04-26T06:09:47.838964",
     "status": "completed"
    },
    "tags": []
   },
   "outputs": [],
   "source": [
    "%matplotlib inline\n",
    "from datetime import datetime\n",
    "import logging\n",
    "import warnings\n",
    "warnings.simplefilter(action='ignore', category=FutureWarning)\n",
    "\n",
    "import pandas as pd\n",
    "import statsmodels.api as sm\n",
    "import matplotlib.pyplot as plt\n",
    "plt.style.use('bmh')\n",
    "\n",
    "from vivace.backtest import BacktestEngine, signal, InstrumentDef\n",
    "from vivace.backtest.analytics import rebase\n",
    "from vivace.backtest.contract import get_futures_curve_snapshot\n",
    "from vivace.backtest.enums import Strategy, Weighting, RollRule\n",
    "from vivace.backtest.stats import Performance"
   ]
  },
  {
   "cell_type": "markdown",
   "id": "68aa8ccf",
   "metadata": {
    "papermill": {
     "duration": 0.019435,
     "end_time": "2022-04-26T06:09:50.846546",
     "exception": false,
     "start_time": "2022-04-26T06:09:50.827111",
     "status": "completed"
    },
    "tags": []
   },
   "source": [
    "# Cointegration test\n",
    "\n",
    "GP1999 first checks if the crack spread is cointegrated. To do that, first let's see futures prices are non-stationary or not. As per usual, the generic price is populated by running a simple long-only backtest by rolling the front contract."
   ]
  },
  {
   "cell_type": "markdown",
   "id": "824e7302",
   "metadata": {
    "papermill": {
     "duration": 0.019087,
     "end_time": "2022-04-26T06:09:50.884941",
     "exception": false,
     "start_time": "2022-04-26T06:09:50.865854",
     "status": "completed"
    },
    "tags": []
   },
   "source": [
    "## ADF test\n",
    "\n",
    "The ADF test is done by the `adfuller` function in `statsmodels`. (cf. https://www.statsmodels.org/dev/generated/statsmodels.tsa.stattools.adfuller.html)"
   ]
  },
  {
   "cell_type": "code",
   "execution_count": 2,
   "id": "4eb3103c",
   "metadata": {
    "execution": {
     "iopub.execute_input": "2022-04-26T06:09:50.922209Z",
     "iopub.status.busy": "2022-04-26T06:09:50.922021Z",
     "iopub.status.idle": "2022-04-26T06:10:00.141679Z",
     "shell.execute_reply": "2022-04-26T06:10:00.141117Z"
    },
    "papermill": {
     "duration": 9.241139,
     "end_time": "2022-04-26T06:10:00.143408",
     "exception": false,
     "start_time": "2022-04-26T06:09:50.902269",
     "status": "completed"
    },
    "tags": []
   },
   "outputs": [],
   "source": [
    "cl_1st = BacktestEngine(instrument='CL', log_level=logging.WARN)\n",
    "cl_1st.run()"
   ]
  },
  {
   "cell_type": "code",
   "execution_count": 3,
   "id": "9910ecff",
   "metadata": {
    "execution": {
     "iopub.execute_input": "2022-04-26T06:10:00.174841Z",
     "iopub.status.busy": "2022-04-26T06:10:00.174648Z",
     "iopub.status.idle": "2022-04-26T06:10:10.785217Z",
     "shell.execute_reply": "2022-04-26T06:10:10.784529Z"
    },
    "papermill": {
     "duration": 10.629009,
     "end_time": "2022-04-26T06:10:10.787556",
     "exception": false,
     "start_time": "2022-04-26T06:10:00.158547",
     "status": "completed"
    },
    "tags": []
   },
   "outputs": [],
   "source": [
    "ho_1st = BacktestEngine(instrument='HO', log_level=logging.WARN)\n",
    "ho_1st.run()"
   ]
  },
  {
   "cell_type": "code",
   "execution_count": 4,
   "id": "32cec4c3",
   "metadata": {
    "execution": {
     "iopub.execute_input": "2022-04-26T06:10:10.833686Z",
     "iopub.status.busy": "2022-04-26T06:10:10.833489Z",
     "iopub.status.idle": "2022-04-26T06:10:19.394510Z",
     "shell.execute_reply": "2022-04-26T06:10:19.393836Z"
    },
    "papermill": {
     "duration": 8.586593,
     "end_time": "2022-04-26T06:10:19.396911",
     "exception": false,
     "start_time": "2022-04-26T06:10:10.810318",
     "status": "completed"
    },
    "tags": []
   },
   "outputs": [],
   "source": [
    "xb_1st = BacktestEngine(instrument='XB', log_level=logging.WARN)\n",
    "xb_1st.run()"
   ]
  },
  {
   "cell_type": "code",
   "execution_count": 5,
   "id": "a602ffe8",
   "metadata": {
    "execution": {
     "iopub.execute_input": "2022-04-26T06:10:19.438376Z",
     "iopub.status.busy": "2022-04-26T06:10:19.438182Z",
     "iopub.status.idle": "2022-04-26T06:10:37.673747Z",
     "shell.execute_reply": "2022-04-26T06:10:37.673078Z"
    },
    "papermill": {
     "duration": 18.257617,
     "end_time": "2022-04-26T06:10:37.676063",
     "exception": false,
     "start_time": "2022-04-26T06:10:19.418446",
     "status": "completed"
    },
    "tags": []
   },
   "outputs": [],
   "source": [
    "cl_price = cl_1st.get_generic_price().squeeze().fillna(method='pad').rename('Crude oil')\n",
    "ho_price = ho_1st.get_generic_price().squeeze().fillna(method='pad').rename('Heating oil')\n",
    "xb_price = xb_1st.get_generic_price().squeeze().fillna(method='pad').rename('Gasoline')"
   ]
  },
  {
   "cell_type": "code",
   "execution_count": 6,
   "id": "81a1c9be",
   "metadata": {
    "execution": {
     "iopub.execute_input": "2022-04-26T06:10:37.721269Z",
     "iopub.status.busy": "2022-04-26T06:10:37.720998Z",
     "iopub.status.idle": "2022-04-26T06:10:37.727625Z",
     "shell.execute_reply": "2022-04-26T06:10:37.726970Z"
    },
    "papermill": {
     "duration": 0.031988,
     "end_time": "2022-04-26T06:10:37.729479",
     "exception": false,
     "start_time": "2022-04-26T06:10:37.697491",
     "status": "completed"
    },
    "tags": []
   },
   "outputs": [],
   "source": [
    "def adf(ts: pd.Series, **kwargs) -> pd.Series:\n",
    "    \"\"\" Run the ADF test and return a cleaned result \"\"\"\n",
    "    adf_result = sm.tsa.stattools.adfuller(ts, **kwargs)\n",
    "    cleaned = {\n",
    "        'adf': adf_result[0],\n",
    "        'p_value': adf_result[1],\n",
    "        'used_lag': adf_result[2],\n",
    "        'n_obs': adf_result[3],\n",
    "        'ci_0.01': adf_result[4]['1%'],\n",
    "        'ci_0.05': adf_result[4]['5%'],\n",
    "        'ci_0.1': adf_result[4]['10%'],\n",
    "        'ic_best': adf_result[5],\n",
    "    }\n",
    "    return pd.Series(cleaned, name=ts.name)"
   ]
  },
  {
   "cell_type": "markdown",
   "id": "73a9df64",
   "metadata": {
    "papermill": {
     "duration": 0.016475,
     "end_time": "2022-04-26T06:10:37.795835",
     "exception": false,
     "start_time": "2022-04-26T06:10:37.779360",
     "status": "completed"
    },
    "tags": []
   },
   "source": [
    "GP1999 uses Schwarz's information criterion (i.e., BIC) to select the optimal number of lags included in the ADF test."
   ]
  },
  {
   "cell_type": "code",
   "execution_count": 7,
   "id": "b69649d6",
   "metadata": {
    "execution": {
     "iopub.execute_input": "2022-04-26T06:10:37.834510Z",
     "iopub.status.busy": "2022-04-26T06:10:37.834172Z",
     "iopub.status.idle": "2022-04-26T06:10:38.181539Z",
     "shell.execute_reply": "2022-04-26T06:10:38.180811Z"
    },
    "papermill": {
     "duration": 0.371819,
     "end_time": "2022-04-26T06:10:38.184407",
     "exception": false,
     "start_time": "2022-04-26T06:10:37.812588",
     "status": "completed"
    },
    "tags": []
   },
   "outputs": [],
   "source": [
    "adf_result = pd.concat((\n",
    "    adf(cl_price['1983-04':'1994-11'], autolag='BIC').to_frame().T,\n",
    "    adf(ho_price['1983-04':'1994-11'], autolag='BIC').to_frame().T,\n",
    "    adf(xb_price['1984-12':'1994-11'], autolag='BIC').to_frame().T,\n",
    "))"
   ]
  },
  {
   "cell_type": "markdown",
   "id": "1396f87e",
   "metadata": {
    "papermill": {
     "duration": 0.025833,
     "end_time": "2022-04-26T06:10:38.268804",
     "exception": false,
     "start_time": "2022-04-26T06:10:38.242971",
     "status": "completed"
    },
    "tags": []
   },
   "source": [
    "In the ADF test, $H_0$ is that the time-series is non-stationary. Based on this result below, $H_0$ cannot be rejected for crude oil, however is rejected for heating oil and gasoline at the 10% and 5% level respectively.\n",
    "\n",
    "This is interesting because usually almost always asset prices are non-stationary."
   ]
  },
  {
   "cell_type": "code",
   "execution_count": 8,
   "id": "3655e953",
   "metadata": {
    "execution": {
     "iopub.execute_input": "2022-04-26T06:10:38.306399Z",
     "iopub.status.busy": "2022-04-26T06:10:38.306118Z",
     "iopub.status.idle": "2022-04-26T06:10:38.326519Z",
     "shell.execute_reply": "2022-04-26T06:10:38.325862Z"
    },
    "papermill": {
     "duration": 0.039925,
     "end_time": "2022-04-26T06:10:38.328182",
     "exception": false,
     "start_time": "2022-04-26T06:10:38.288257",
     "status": "completed"
    },
    "tags": []
   },
   "outputs": [
    {
     "data": {
      "text/html": [
       "<div>\n",
       "<style scoped>\n",
       "    .dataframe tbody tr th:only-of-type {\n",
       "        vertical-align: middle;\n",
       "    }\n",
       "\n",
       "    .dataframe tbody tr th {\n",
       "        vertical-align: top;\n",
       "    }\n",
       "\n",
       "    .dataframe thead th {\n",
       "        text-align: right;\n",
       "    }\n",
       "</style>\n",
       "<table border=\"1\" class=\"dataframe\">\n",
       "  <thead>\n",
       "    <tr style=\"text-align: right;\">\n",
       "      <th></th>\n",
       "      <th>adf</th>\n",
       "      <th>p_value</th>\n",
       "      <th>used_lag</th>\n",
       "      <th>n_obs</th>\n",
       "      <th>ci_0.01</th>\n",
       "      <th>ci_0.05</th>\n",
       "      <th>ci_0.1</th>\n",
       "      <th>ic_best</th>\n",
       "    </tr>\n",
       "  </thead>\n",
       "  <tbody>\n",
       "    <tr>\n",
       "      <th>Crude oil</th>\n",
       "      <td>-2.185213</td>\n",
       "      <td>0.211656</td>\n",
       "      <td>8.0</td>\n",
       "      <td>2924.0</td>\n",
       "      <td>-3.432588</td>\n",
       "      <td>-2.862529</td>\n",
       "      <td>-2.567296</td>\n",
       "      <td>4195.186424</td>\n",
       "    </tr>\n",
       "    <tr>\n",
       "      <th>Heating oil</th>\n",
       "      <td>-2.743636</td>\n",
       "      <td>0.066787</td>\n",
       "      <td>3.0</td>\n",
       "      <td>2929.0</td>\n",
       "      <td>-3.432585</td>\n",
       "      <td>-2.862527</td>\n",
       "      <td>-2.567296</td>\n",
       "      <td>-15763.929006</td>\n",
       "    </tr>\n",
       "    <tr>\n",
       "      <th>Gasoline</th>\n",
       "      <td>-3.003758</td>\n",
       "      <td>0.034545</td>\n",
       "      <td>3.0</td>\n",
       "      <td>2510.0</td>\n",
       "      <td>-3.432958</td>\n",
       "      <td>-2.862692</td>\n",
       "      <td>-2.567383</td>\n",
       "      <td>-14006.551367</td>\n",
       "    </tr>\n",
       "  </tbody>\n",
       "</table>\n",
       "</div>"
      ],
      "text/plain": [
       "                  adf   p_value  used_lag   n_obs   ci_0.01   ci_0.05  \\\n",
       "Crude oil   -2.185213  0.211656       8.0  2924.0 -3.432588 -2.862529   \n",
       "Heating oil -2.743636  0.066787       3.0  2929.0 -3.432585 -2.862527   \n",
       "Gasoline    -3.003758  0.034545       3.0  2510.0 -3.432958 -2.862692   \n",
       "\n",
       "               ci_0.1       ic_best  \n",
       "Crude oil   -2.567296   4195.186424  \n",
       "Heating oil -2.567296 -15763.929006  \n",
       "Gasoline    -2.567383 -14006.551367  "
      ]
     },
     "execution_count": 8,
     "metadata": {},
     "output_type": "execute_result"
    }
   ],
   "source": [
    "adf_result"
   ]
  },
  {
   "cell_type": "markdown",
   "id": "cb465c0a",
   "metadata": {
    "papermill": {
     "duration": 0.016311,
     "end_time": "2022-04-26T06:10:38.361456",
     "exception": false,
     "start_time": "2022-04-26T06:10:38.345145",
     "status": "completed"
    },
    "tags": []
   },
   "source": [
    "Probably it is to do with the sampling period. It may look a stationary process especially after 1986, however clearly it is heteroskedastic and the price move in 1986 seems like a shift in the level."
   ]
  },
  {
   "cell_type": "code",
   "execution_count": 9,
   "id": "11339aae",
   "metadata": {
    "execution": {
     "iopub.execute_input": "2022-04-26T06:10:38.399246Z",
     "iopub.status.busy": "2022-04-26T06:10:38.398974Z",
     "iopub.status.idle": "2022-04-26T06:10:38.791255Z",
     "shell.execute_reply": "2022-04-26T06:10:38.790531Z"
    },
    "papermill": {
     "duration": 0.411868,
     "end_time": "2022-04-26T06:10:38.793041",
     "exception": false,
     "start_time": "2022-04-26T06:10:38.381173",
     "status": "completed"
    },
    "tags": []
   },
   "outputs": [
    {
     "data": {
      "image/png": "[encoded data removed]",
      "text/plain": [
       "<Figure size 576x360 with 2 Axes>"
      ]
     },
     "metadata": {
      "needs_background": "light"
     },
     "output_type": "display_data"
    }
   ],
   "source": [
    "fig, ax = plt.subplots(figsize=(8, 5))\n",
    "pd.concat((\n",
    "    cl_price['1983-04':'1994-11'],\n",
    "    ho_price['1983-04':'1994-11'],\n",
    "    xb_price['1984-12':'1994-11'],\n",
    "), axis=1).plot(secondary_y=['Heating oil', 'Gasoline'], ax=ax);\n",
    "ax.set_title('Futures prices (generic 1st)');"
   ]
  },
  {
   "cell_type": "markdown",
   "id": "47068957",
   "metadata": {
    "papermill": {
     "duration": 0.015883,
     "end_time": "2022-04-26T06:10:38.825042",
     "exception": false,
     "start_time": "2022-04-26T06:10:38.809159",
     "status": "completed"
    },
    "tags": []
   },
   "source": [
    "In fact, in the long-run $H_0$ cannot be rejected for all contracts based on both BIC and AIC."
   ]
  },
  {
   "cell_type": "code",
   "execution_count": 10,
   "id": "47dcef74",
   "metadata": {
    "execution": {
     "iopub.execute_input": "2022-04-26T06:10:38.858223Z",
     "iopub.status.busy": "2022-04-26T06:10:38.858017Z",
     "iopub.status.idle": "2022-04-26T06:10:43.140879Z",
     "shell.execute_reply": "2022-04-26T06:10:43.138768Z"
    },
    "papermill": {
     "duration": 4.302635,
     "end_time": "2022-04-26T06:10:43.143501",
     "exception": false,
     "start_time": "2022-04-26T06:10:38.840866",
     "status": "completed"
    },
    "tags": []
   },
   "outputs": [
    {
     "data": {
      "text/html": [
       "<div>\n",
       "<style scoped>\n",
       "    .dataframe tbody tr th:only-of-type {\n",
       "        vertical-align: middle;\n",
       "    }\n",
       "\n",
       "    .dataframe tbody tr th {\n",
       "        vertical-align: top;\n",
       "    }\n",
       "\n",
       "    .dataframe thead th {\n",
       "        text-align: right;\n",
       "    }\n",
       "</style>\n",
       "<table border=\"1\" class=\"dataframe\">\n",
       "  <thead>\n",
       "    <tr style=\"text-align: right;\">\n",
       "      <th></th>\n",
       "      <th>adf</th>\n",
       "      <th>p_value</th>\n",
       "      <th>used_lag</th>\n",
       "      <th>n_obs</th>\n",
       "      <th>ci_0.01</th>\n",
       "      <th>ci_0.05</th>\n",
       "      <th>ci_0.1</th>\n",
       "      <th>ic_best</th>\n",
       "    </tr>\n",
       "  </thead>\n",
       "  <tbody>\n",
       "    <tr>\n",
       "      <th>Crude oil</th>\n",
       "      <td>-1.462302</td>\n",
       "      <td>0.552071</td>\n",
       "      <td>1.0</td>\n",
       "      <td>9811.0</td>\n",
       "      <td>-3.431017</td>\n",
       "      <td>-2.861835</td>\n",
       "      <td>-2.566927</td>\n",
       "      <td>30315.844623</td>\n",
       "    </tr>\n",
       "    <tr>\n",
       "      <th>Heating oil</th>\n",
       "      <td>-0.303894</td>\n",
       "      <td>0.924951</td>\n",
       "      <td>6.0</td>\n",
       "      <td>9807.0</td>\n",
       "      <td>-3.431017</td>\n",
       "      <td>-2.861835</td>\n",
       "      <td>-2.566927</td>\n",
       "      <td>-38590.995905</td>\n",
       "    </tr>\n",
       "    <tr>\n",
       "      <th>Gasoline</th>\n",
       "      <td>-1.436978</td>\n",
       "      <td>0.564426</td>\n",
       "      <td>0.0</td>\n",
       "      <td>9393.0</td>\n",
       "      <td>-3.431046</td>\n",
       "      <td>-2.861848</td>\n",
       "      <td>-2.566934</td>\n",
       "      <td>-36216.495849</td>\n",
       "    </tr>\n",
       "  </tbody>\n",
       "</table>\n",
       "</div>"
      ],
      "text/plain": [
       "                  adf   p_value  used_lag   n_obs   ci_0.01   ci_0.05  \\\n",
       "Crude oil   -1.462302  0.552071       1.0  9811.0 -3.431017 -2.861835   \n",
       "Heating oil -0.303894  0.924951       6.0  9807.0 -3.431017 -2.861835   \n",
       "Gasoline    -1.436978  0.564426       0.0  9393.0 -3.431046 -2.861848   \n",
       "\n",
       "               ci_0.1       ic_best  \n",
       "Crude oil   -2.566927  30315.844623  \n",
       "Heating oil -2.566927 -38590.995905  \n",
       "Gasoline    -2.566934 -36216.495849  "
      ]
     },
     "execution_count": 10,
     "metadata": {},
     "output_type": "execute_result"
    }
   ],
   "source": [
    "pd.concat((\n",
    "    adf(cl_price['1983-04':], autolag='BIC').to_frame().T,\n",
    "    adf(ho_price['1983-04':], autolag='BIC').to_frame().T,\n",
    "    adf(xb_price['1984-12':], autolag='BIC').to_frame().T,\n",
    "))"
   ]
  },
  {
   "cell_type": "code",
   "execution_count": 11,
   "id": "6cda4738",
   "metadata": {
    "execution": {
     "iopub.execute_input": "2022-04-26T06:10:43.185557Z",
     "iopub.status.busy": "2022-04-26T06:10:43.185204Z",
     "iopub.status.idle": "2022-04-26T06:10:46.511767Z",
     "shell.execute_reply": "2022-04-26T06:10:46.510481Z"
    },
    "papermill": {
     "duration": 3.346333,
     "end_time": "2022-04-26T06:10:46.514261",
     "exception": false,
     "start_time": "2022-04-26T06:10:43.167928",
     "status": "completed"
    },
    "tags": []
   },
   "outputs": [
    {
     "data": {
      "text/html": [
       "<div>\n",
       "<style scoped>\n",
       "    .dataframe tbody tr th:only-of-type {\n",
       "        vertical-align: middle;\n",
       "    }\n",
       "\n",
       "    .dataframe tbody tr th {\n",
       "        vertical-align: top;\n",
       "    }\n",
       "\n",
       "    .dataframe thead th {\n",
       "        text-align: right;\n",
       "    }\n",
       "</style>\n",
       "<table border=\"1\" class=\"dataframe\">\n",
       "  <thead>\n",
       "    <tr style=\"text-align: right;\">\n",
       "      <th></th>\n",
       "      <th>adf</th>\n",
       "      <th>p_value</th>\n",
       "      <th>used_lag</th>\n",
       "      <th>n_obs</th>\n",
       "      <th>ci_0.01</th>\n",
       "      <th>ci_0.05</th>\n",
       "      <th>ci_0.1</th>\n",
       "      <th>ic_best</th>\n",
       "    </tr>\n",
       "  </thead>\n",
       "  <tbody>\n",
       "    <tr>\n",
       "      <th>Crude oil</th>\n",
       "      <td>-1.975587</td>\n",
       "      <td>0.297379</td>\n",
       "      <td>32.0</td>\n",
       "      <td>9780.0</td>\n",
       "      <td>-3.431019</td>\n",
       "      <td>-2.861836</td>\n",
       "      <td>-2.566927</td>\n",
       "      <td>30222.404029</td>\n",
       "    </tr>\n",
       "    <tr>\n",
       "      <th>Heating oil</th>\n",
       "      <td>-0.899003</td>\n",
       "      <td>0.788301</td>\n",
       "      <td>36.0</td>\n",
       "      <td>9777.0</td>\n",
       "      <td>-3.431019</td>\n",
       "      <td>-2.861836</td>\n",
       "      <td>-2.566927</td>\n",
       "      <td>-38718.630140</td>\n",
       "    </tr>\n",
       "    <tr>\n",
       "      <th>Gasoline</th>\n",
       "      <td>-1.799987</td>\n",
       "      <td>0.380468</td>\n",
       "      <td>20.0</td>\n",
       "      <td>9373.0</td>\n",
       "      <td>-3.431048</td>\n",
       "      <td>-2.861848</td>\n",
       "      <td>-2.566934</td>\n",
       "      <td>-36251.893178</td>\n",
       "    </tr>\n",
       "  </tbody>\n",
       "</table>\n",
       "</div>"
      ],
      "text/plain": [
       "                  adf   p_value  used_lag   n_obs   ci_0.01   ci_0.05  \\\n",
       "Crude oil   -1.975587  0.297379      32.0  9780.0 -3.431019 -2.861836   \n",
       "Heating oil -0.899003  0.788301      36.0  9777.0 -3.431019 -2.861836   \n",
       "Gasoline    -1.799987  0.380468      20.0  9373.0 -3.431048 -2.861848   \n",
       "\n",
       "               ci_0.1       ic_best  \n",
       "Crude oil   -2.566927  30222.404029  \n",
       "Heating oil -2.566927 -38718.630140  \n",
       "Gasoline    -2.566934 -36251.893178  "
      ]
     },
     "execution_count": 11,
     "metadata": {},
     "output_type": "execute_result"
    }
   ],
   "source": [
    "pd.concat((\n",
    "    adf(cl_price['1983-04':], autolag='AIC').to_frame().T,\n",
    "    adf(ho_price['1983-04':], autolag='AIC').to_frame().T,\n",
    "    adf(xb_price['1984-12':], autolag='AIC').to_frame().T,\n",
    "))"
   ]
  },
  {
   "cell_type": "markdown",
   "id": "eda29bdf",
   "metadata": {
    "papermill": {
     "duration": 0.02481,
     "end_time": "2022-04-26T06:10:46.564938",
     "exception": false,
     "start_time": "2022-04-26T06:10:46.540128",
     "status": "completed"
    },
    "tags": []
   },
   "source": [
    "Test for two unit roots shows the $H_0$ is rejected for all assets so it would be safe to assume prices are all $I(1)$ processes."
   ]
  },
  {
   "cell_type": "code",
   "execution_count": 12,
   "id": "5cc64e78",
   "metadata": {
    "execution": {
     "iopub.execute_input": "2022-04-26T06:10:46.613895Z",
     "iopub.status.busy": "2022-04-26T06:10:46.613618Z",
     "iopub.status.idle": "2022-04-26T06:10:48.003719Z",
     "shell.execute_reply": "2022-04-26T06:10:48.002926Z"
    },
    "papermill": {
     "duration": 1.417612,
     "end_time": "2022-04-26T06:10:48.006301",
     "exception": false,
     "start_time": "2022-04-26T06:10:46.588689",
     "status": "completed"
    },
    "tags": []
   },
   "outputs": [
    {
     "data": {
      "text/html": [
       "<div>\n",
       "<style scoped>\n",
       "    .dataframe tbody tr th:only-of-type {\n",
       "        vertical-align: middle;\n",
       "    }\n",
       "\n",
       "    .dataframe tbody tr th {\n",
       "        vertical-align: top;\n",
       "    }\n",
       "\n",
       "    .dataframe thead th {\n",
       "        text-align: right;\n",
       "    }\n",
       "</style>\n",
       "<table border=\"1\" class=\"dataframe\">\n",
       "  <thead>\n",
       "    <tr style=\"text-align: right;\">\n",
       "      <th></th>\n",
       "      <th>adf</th>\n",
       "      <th>p_value</th>\n",
       "      <th>used_lag</th>\n",
       "      <th>n_obs</th>\n",
       "      <th>ci_0.01</th>\n",
       "      <th>ci_0.05</th>\n",
       "      <th>ci_0.1</th>\n",
       "      <th>ic_best</th>\n",
       "    </tr>\n",
       "  </thead>\n",
       "  <tbody>\n",
       "    <tr>\n",
       "      <th>Crude oil</th>\n",
       "      <td>-22.609167</td>\n",
       "      <td>0.0</td>\n",
       "      <td>7.0</td>\n",
       "      <td>2924.0</td>\n",
       "      <td>-3.432588</td>\n",
       "      <td>-2.862529</td>\n",
       "      <td>-2.567296</td>\n",
       "      <td>4191.382386</td>\n",
       "    </tr>\n",
       "    <tr>\n",
       "      <th>Heating oil</th>\n",
       "      <td>-23.732562</td>\n",
       "      <td>0.0</td>\n",
       "      <td>7.0</td>\n",
       "      <td>2924.0</td>\n",
       "      <td>-3.432588</td>\n",
       "      <td>-2.862529</td>\n",
       "      <td>-2.567296</td>\n",
       "      <td>-15759.438574</td>\n",
       "    </tr>\n",
       "    <tr>\n",
       "      <th>Gasoline</th>\n",
       "      <td>-31.046797</td>\n",
       "      <td>0.0</td>\n",
       "      <td>2.0</td>\n",
       "      <td>2510.0</td>\n",
       "      <td>-3.432958</td>\n",
       "      <td>-2.862692</td>\n",
       "      <td>-2.567383</td>\n",
       "      <td>-13998.959272</td>\n",
       "    </tr>\n",
       "  </tbody>\n",
       "</table>\n",
       "</div>"
      ],
      "text/plain": [
       "                   adf  p_value  used_lag   n_obs   ci_0.01   ci_0.05  \\\n",
       "Crude oil   -22.609167      0.0       7.0  2924.0 -3.432588 -2.862529   \n",
       "Heating oil -23.732562      0.0       7.0  2924.0 -3.432588 -2.862529   \n",
       "Gasoline    -31.046797      0.0       2.0  2510.0 -3.432958 -2.862692   \n",
       "\n",
       "               ci_0.1       ic_best  \n",
       "Crude oil   -2.567296   4191.382386  \n",
       "Heating oil -2.567296 -15759.438574  \n",
       "Gasoline    -2.567383 -13998.959272  "
      ]
     },
     "execution_count": 12,
     "metadata": {},
     "output_type": "execute_result"
    }
   ],
   "source": [
    "pd.concat((\n",
    "    adf(cl_price['1983-04':'1994-11'].diff().dropna(), autolag='BIC').to_frame().T,\n",
    "    adf(ho_price['1983-04':'1994-11'].diff().dropna(), autolag='BIC').to_frame().T,\n",
    "    adf(xb_price['1984-12':'1994-11'].diff().dropna(), autolag='BIC').to_frame().T,\n",
    "))"
   ]
  },
  {
   "cell_type": "markdown",
   "id": "5443698a",
   "metadata": {
    "papermill": {
     "duration": 0.025832,
     "end_time": "2022-04-26T06:10:48.057745",
     "exception": false,
     "start_time": "2022-04-26T06:10:48.031913",
     "status": "completed"
    },
    "tags": []
   },
   "source": [
    "## Engle-Granger test\n",
    "\n",
    "Next, let's check if the crack spread is cointegrated. The cointegration vector is estimated by OLS and the stationarity of the residual is tested with the ADF test.\n",
    "The test is done by the `coint` function in `statsmodels`. (cf. https://www.statsmodels.org/dev/generated/statsmodels.tsa.stattools.coint.html)"
   ]
  },
  {
   "cell_type": "code",
   "execution_count": 13,
   "id": "15663029",
   "metadata": {
    "execution": {
     "iopub.execute_input": "2022-04-26T06:10:48.108494Z",
     "iopub.status.busy": "2022-04-26T06:10:48.108211Z",
     "iopub.status.idle": "2022-04-26T06:10:48.123059Z",
     "shell.execute_reply": "2022-04-26T06:10:48.122391Z"
    },
    "papermill": {
     "duration": 0.042976,
     "end_time": "2022-04-26T06:10:48.125362",
     "exception": false,
     "start_time": "2022-04-26T06:10:48.082386",
     "status": "completed"
    },
    "tags": []
   },
   "outputs": [],
   "source": [
    "price_concat = pd.concat((\n",
    "    cl_price,\n",
    "    ho_price,\n",
    "    xb_price,\n",
    "), axis=1).fillna(method='pad').dropna()"
   ]
  },
  {
   "cell_type": "code",
   "execution_count": 14,
   "id": "cf731a5e",
   "metadata": {
    "execution": {
     "iopub.execute_input": "2022-04-26T06:10:48.175453Z",
     "iopub.status.busy": "2022-04-26T06:10:48.175132Z",
     "iopub.status.idle": "2022-04-26T06:10:48.181969Z",
     "shell.execute_reply": "2022-04-26T06:10:48.181162Z"
    },
    "papermill": {
     "duration": 0.03413,
     "end_time": "2022-04-26T06:10:48.184203",
     "exception": false,
     "start_time": "2022-04-26T06:10:48.150073",
     "status": "completed"
    },
    "tags": []
   },
   "outputs": [],
   "source": [
    "def coint(y: pd.Series, x: pd.DataFrame) -> pd.Series:\n",
    "    \"\"\" Run the cointegration test and return a cleaned result \"\"\"\n",
    "    result = sm.tsa.stattools.coint(y, x)\n",
    "    cleaned = {\n",
    "        't_value': result[0],\n",
    "        'p_value': result[1],\n",
    "        'ci_0.01': result[2][0],\n",
    "        'ci_0.05': result[2][1],\n",
    "        'ci_0.1': result[2][2],\n",
    "    }\n",
    "    return pd.Series(cleaned)"
   ]
  },
  {
   "cell_type": "code",
   "execution_count": 15,
   "id": "4299196b",
   "metadata": {
    "execution": {
     "iopub.execute_input": "2022-04-26T06:10:48.234340Z",
     "iopub.status.busy": "2022-04-26T06:10:48.234069Z",
     "iopub.status.idle": "2022-04-26T06:10:49.194220Z",
     "shell.execute_reply": "2022-04-26T06:10:49.193486Z"
    },
    "papermill": {
     "duration": 0.988084,
     "end_time": "2022-04-26T06:10:49.196825",
     "exception": false,
     "start_time": "2022-04-26T06:10:48.208741",
     "status": "completed"
    },
    "tags": []
   },
   "outputs": [],
   "source": [
    "coint_result = pd.concat((\n",
    "    coint(\n",
    "        price_concat.loc[:'1994-11', 'Crude oil'],\n",
    "        price_concat.loc[:'1994-11', ['Heating oil', 'Gasoline']]\n",
    "    ).to_frame('CL vs HO + XB').T,\n",
    "    coint(\n",
    "        price_concat.loc[:'1994-11', 'Crude oil'],\n",
    "        price_concat.loc[:'1994-11', ['Gasoline']]\n",
    "    ).to_frame('CL vs XB').T,\n",
    "    coint(\n",
    "        price_concat.loc[:'1994-11', 'Crude oil'],\n",
    "        price_concat.loc[:'1994-11', ['Heating oil']]\n",
    "    ).to_frame('CL vs HO').T,\n",
    "))"
   ]
  },
  {
   "cell_type": "markdown",
   "id": "ea294ded",
   "metadata": {
    "papermill": {
     "duration": 0.025049,
     "end_time": "2022-04-26T06:10:49.247808",
     "exception": false,
     "start_time": "2022-04-26T06:10:49.222759",
     "status": "completed"
    },
    "tags": []
   },
   "source": [
    "The $H_0$ is that there is no cointegration. As per GP1999, all three crack spreads are cointegrated. "
   ]
  },
  {
   "cell_type": "code",
   "execution_count": 16,
   "id": "1824345d",
   "metadata": {
    "execution": {
     "iopub.execute_input": "2022-04-26T06:10:49.297338Z",
     "iopub.status.busy": "2022-04-26T06:10:49.296753Z",
     "iopub.status.idle": "2022-04-26T06:10:49.306665Z",
     "shell.execute_reply": "2022-04-26T06:10:49.305870Z"
    },
    "papermill": {
     "duration": 0.036842,
     "end_time": "2022-04-26T06:10:49.308869",
     "exception": false,
     "start_time": "2022-04-26T06:10:49.272027",
     "status": "completed"
    },
    "tags": []
   },
   "outputs": [
    {
     "data": {
      "text/html": [
       "<div>\n",
       "<style scoped>\n",
       "    .dataframe tbody tr th:only-of-type {\n",
       "        vertical-align: middle;\n",
       "    }\n",
       "\n",
       "    .dataframe tbody tr th {\n",
       "        vertical-align: top;\n",
       "    }\n",
       "\n",
       "    .dataframe thead th {\n",
       "        text-align: right;\n",
       "    }\n",
       "</style>\n",
       "<table border=\"1\" class=\"dataframe\">\n",
       "  <thead>\n",
       "    <tr style=\"text-align: right;\">\n",
       "      <th></th>\n",
       "      <th>t_value</th>\n",
       "      <th>p_value</th>\n",
       "      <th>ci_0.01</th>\n",
       "      <th>ci_0.05</th>\n",
       "      <th>ci_0.1</th>\n",
       "    </tr>\n",
       "  </thead>\n",
       "  <tbody>\n",
       "    <tr>\n",
       "      <th>CL vs HO + XB</th>\n",
       "      <td>-6.110715</td>\n",
       "      <td>0.000005</td>\n",
       "      <td>-4.299485</td>\n",
       "      <td>-3.744067</td>\n",
       "      <td>-3.454651</td>\n",
       "    </tr>\n",
       "    <tr>\n",
       "      <th>CL vs XB</th>\n",
       "      <td>-5.762029</td>\n",
       "      <td>0.000005</td>\n",
       "      <td>-3.900800</td>\n",
       "      <td>-3.338561</td>\n",
       "      <td>-3.046137</td>\n",
       "    </tr>\n",
       "    <tr>\n",
       "      <th>CL vs HO</th>\n",
       "      <td>-5.708354</td>\n",
       "      <td>0.000007</td>\n",
       "      <td>-3.900800</td>\n",
       "      <td>-3.338561</td>\n",
       "      <td>-3.046137</td>\n",
       "    </tr>\n",
       "  </tbody>\n",
       "</table>\n",
       "</div>"
      ],
      "text/plain": [
       "                t_value   p_value   ci_0.01   ci_0.05    ci_0.1\n",
       "CL vs HO + XB -6.110715  0.000005 -4.299485 -3.744067 -3.454651\n",
       "CL vs XB      -5.762029  0.000005 -3.900800 -3.338561 -3.046137\n",
       "CL vs HO      -5.708354  0.000007 -3.900800 -3.338561 -3.046137"
      ]
     },
     "execution_count": 16,
     "metadata": {},
     "output_type": "execute_result"
    }
   ],
   "source": [
    "coint_result"
   ]
  },
  {
   "cell_type": "markdown",
   "id": "2f816c06",
   "metadata": {
    "papermill": {
     "duration": 0.016865,
     "end_time": "2022-04-26T06:10:49.346975",
     "exception": false,
     "start_time": "2022-04-26T06:10:49.330110",
     "status": "completed"
    },
    "tags": []
   },
   "source": [
    "This seems to hold with the full sample."
   ]
  },
  {
   "cell_type": "code",
   "execution_count": 17,
   "id": "467771dc",
   "metadata": {
    "execution": {
     "iopub.execute_input": "2022-04-26T06:10:49.387373Z",
     "iopub.status.busy": "2022-04-26T06:10:49.387182Z",
     "iopub.status.idle": "2022-04-26T06:10:56.611643Z",
     "shell.execute_reply": "2022-04-26T06:10:56.610869Z"
    },
    "papermill": {
     "duration": 7.247419,
     "end_time": "2022-04-26T06:10:56.614161",
     "exception": false,
     "start_time": "2022-04-26T06:10:49.366742",
     "status": "completed"
    },
    "tags": []
   },
   "outputs": [
    {
     "data": {
      "text/html": [
       "<div>\n",
       "<style scoped>\n",
       "    .dataframe tbody tr th:only-of-type {\n",
       "        vertical-align: middle;\n",
       "    }\n",
       "\n",
       "    .dataframe tbody tr th {\n",
       "        vertical-align: top;\n",
       "    }\n",
       "\n",
       "    .dataframe thead th {\n",
       "        text-align: right;\n",
       "    }\n",
       "</style>\n",
       "<table border=\"1\" class=\"dataframe\">\n",
       "  <thead>\n",
       "    <tr style=\"text-align: right;\">\n",
       "      <th></th>\n",
       "      <th>t_value</th>\n",
       "      <th>p_value</th>\n",
       "      <th>ci_0.01</th>\n",
       "      <th>ci_0.05</th>\n",
       "      <th>ci_0.1</th>\n",
       "    </tr>\n",
       "  </thead>\n",
       "  <tbody>\n",
       "    <tr>\n",
       "      <th>CL vs HO + XB</th>\n",
       "      <td>-3.898878</td>\n",
       "      <td>3.278835e-02</td>\n",
       "      <td>-4.295277</td>\n",
       "      <td>-3.741571</td>\n",
       "      <td>-3.452841</td>\n",
       "    </tr>\n",
       "    <tr>\n",
       "      <th>CL vs XB</th>\n",
       "      <td>-6.613445</td>\n",
       "      <td>6.913956e-08</td>\n",
       "      <td>-3.897606</td>\n",
       "      <td>-3.336780</td>\n",
       "      <td>-3.044901</td>\n",
       "    </tr>\n",
       "    <tr>\n",
       "      <th>CL vs HO</th>\n",
       "      <td>-3.739574</td>\n",
       "      <td>1.628580e-02</td>\n",
       "      <td>-3.897606</td>\n",
       "      <td>-3.336780</td>\n",
       "      <td>-3.044901</td>\n",
       "    </tr>\n",
       "  </tbody>\n",
       "</table>\n",
       "</div>"
      ],
      "text/plain": [
       "                t_value       p_value   ci_0.01   ci_0.05    ci_0.1\n",
       "CL vs HO + XB -3.898878  3.278835e-02 -4.295277 -3.741571 -3.452841\n",
       "CL vs XB      -6.613445  6.913956e-08 -3.897606 -3.336780 -3.044901\n",
       "CL vs HO      -3.739574  1.628580e-02 -3.897606 -3.336780 -3.044901"
      ]
     },
     "execution_count": 17,
     "metadata": {},
     "output_type": "execute_result"
    }
   ],
   "source": [
    "pd.concat((\n",
    "    coint(\n",
    "        price_concat.loc[:, 'Crude oil'],\n",
    "        price_concat.loc[:, ['Heating oil', 'Gasoline']]\n",
    "    ).to_frame('CL vs HO + XB').T,\n",
    "    coint(\n",
    "        price_concat.loc[:, 'Crude oil'],\n",
    "        price_concat.loc[:, ['Gasoline']]\n",
    "    ).to_frame('CL vs XB').T,\n",
    "    coint(\n",
    "        price_concat.loc[:, 'Crude oil'],\n",
    "        price_concat.loc[:, ['Heating oil']]\n",
    "    ).to_frame('CL vs HO').T,\n",
    "))"
   ]
  },
  {
   "cell_type": "markdown",
   "id": "9107b072",
   "metadata": {
    "papermill": {
     "duration": 0.024721,
     "end_time": "2022-04-26T06:10:56.665246",
     "exception": false,
     "start_time": "2022-04-26T06:10:56.640525",
     "status": "completed"
    },
    "tags": []
   },
   "source": [
    "However the confidence level is somewhat weakend with recent data although they are at least still cointegrated at the 5% level."
   ]
  },
  {
   "cell_type": "code",
   "execution_count": 18,
   "id": "3898183b",
   "metadata": {
    "execution": {
     "iopub.execute_input": "2022-04-26T06:10:56.717635Z",
     "iopub.status.busy": "2022-04-26T06:10:56.717451Z",
     "iopub.status.idle": "2022-04-26T06:10:58.994777Z",
     "shell.execute_reply": "2022-04-26T06:10:58.994074Z"
    },
    "papermill": {
     "duration": 2.306426,
     "end_time": "2022-04-26T06:10:58.997190",
     "exception": false,
     "start_time": "2022-04-26T06:10:56.690764",
     "status": "completed"
    },
    "tags": []
   },
   "outputs": [
    {
     "data": {
      "text/html": [
       "<div>\n",
       "<style scoped>\n",
       "    .dataframe tbody tr th:only-of-type {\n",
       "        vertical-align: middle;\n",
       "    }\n",
       "\n",
       "    .dataframe tbody tr th {\n",
       "        vertical-align: top;\n",
       "    }\n",
       "\n",
       "    .dataframe thead th {\n",
       "        text-align: right;\n",
       "    }\n",
       "</style>\n",
       "<table border=\"1\" class=\"dataframe\">\n",
       "  <thead>\n",
       "    <tr style=\"text-align: right;\">\n",
       "      <th></th>\n",
       "      <th>t_value</th>\n",
       "      <th>p_value</th>\n",
       "      <th>ci_0.01</th>\n",
       "      <th>ci_0.05</th>\n",
       "      <th>ci_0.1</th>\n",
       "    </tr>\n",
       "  </thead>\n",
       "  <tbody>\n",
       "    <tr>\n",
       "      <th>CL vs HO + XB</th>\n",
       "      <td>-2.857146</td>\n",
       "      <td>0.303182</td>\n",
       "      <td>-4.298399</td>\n",
       "      <td>-3.743423</td>\n",
       "      <td>-3.454184</td>\n",
       "    </tr>\n",
       "    <tr>\n",
       "      <th>CL vs XB</th>\n",
       "      <td>-4.647472</td>\n",
       "      <td>0.000694</td>\n",
       "      <td>-3.899975</td>\n",
       "      <td>-3.338101</td>\n",
       "      <td>-3.045818</td>\n",
       "    </tr>\n",
       "    <tr>\n",
       "      <th>CL vs HO</th>\n",
       "      <td>-2.667517</td>\n",
       "      <td>0.211478</td>\n",
       "      <td>-3.899975</td>\n",
       "      <td>-3.338101</td>\n",
       "      <td>-3.045818</td>\n",
       "    </tr>\n",
       "  </tbody>\n",
       "</table>\n",
       "</div>"
      ],
      "text/plain": [
       "                t_value   p_value   ci_0.01   ci_0.05    ci_0.1\n",
       "CL vs HO + XB -2.857146  0.303182 -4.298399 -3.743423 -3.454184\n",
       "CL vs XB      -4.647472  0.000694 -3.899975 -3.338101 -3.045818\n",
       "CL vs HO      -2.667517  0.211478 -3.899975 -3.338101 -3.045818"
      ]
     },
     "execution_count": 18,
     "metadata": {},
     "output_type": "execute_result"
    }
   ],
   "source": [
    "pd.concat((\n",
    "    coint(\n",
    "        price_concat.loc['2010':, 'Crude oil'],\n",
    "        price_concat.loc['2010':, ['Heating oil', 'Gasoline']]\n",
    "    ).to_frame('CL vs HO + XB').T,\n",
    "    coint(\n",
    "        price_concat.loc['2010':, 'Crude oil'],\n",
    "        price_concat.loc['2010':, ['Gasoline']]\n",
    "    ).to_frame('CL vs XB').T,\n",
    "    coint(\n",
    "        price_concat.loc['2010':, 'Crude oil'],\n",
    "        price_concat.loc['2010':, ['Heating oil']]\n",
    "    ).to_frame('CL vs HO').T,\n",
    "))"
   ]
  },
  {
   "cell_type": "markdown",
   "id": "f22325d0",
   "metadata": {
    "papermill": {
     "duration": 0.028667,
     "end_time": "2022-04-26T06:10:59.053934",
     "exception": false,
     "start_time": "2022-04-26T06:10:59.025267",
     "status": "completed"
    },
    "tags": []
   },
   "source": [
    "## Crack spreads\n",
    "\n",
    "Additionally, GP1999 tests the stationarity of the popularly traded crack spread -- 3:2:1 crack spread (CS), 1:1:0 gasoline crack spread (GCS) and 1:0:1 heating oil crack spread (HOCS).\n",
    "\n",
    "Note that the crude oil contract is priced in barrels while the other two are priced in gallon, and there are 42 gallons per 1 barrel. Some unit conversions are required to calculate such spreads."
   ]
  },
  {
   "cell_type": "code",
   "execution_count": 19,
   "id": "015bb3e9",
   "metadata": {
    "execution": {
     "iopub.execute_input": "2022-04-26T06:10:59.097447Z",
     "iopub.status.busy": "2022-04-26T06:10:59.096912Z",
     "iopub.status.idle": "2022-04-26T06:10:59.104319Z",
     "shell.execute_reply": "2022-04-26T06:10:59.103718Z"
    },
    "papermill": {
     "duration": 0.030286,
     "end_time": "2022-04-26T06:10:59.106538",
     "exception": false,
     "start_time": "2022-04-26T06:10:59.076252",
     "status": "completed"
    },
    "tags": []
   },
   "outputs": [],
   "source": [
    "cs = (price_concat['Heating oil'].mul(42).mul(2 / 3) + \n",
    "      price_concat['Gasoline'].mul(42).mul(1 / 3) - \n",
    "      price_concat['Crude oil'])\n",
    "gcs = (price_concat['Gasoline'].mul(42) - \n",
    "       price_concat['Crude oil'])\n",
    "hocs = (price_concat['Heating oil'].mul(42) - \n",
    "        price_concat['Crude oil'])"
   ]
  },
  {
   "cell_type": "markdown",
   "id": "6608463f",
   "metadata": {
    "papermill": {
     "duration": 0.020767,
     "end_time": "2022-04-26T06:10:59.148500",
     "exception": false,
     "start_time": "2022-04-26T06:10:59.127733",
     "status": "completed"
    },
    "tags": []
   },
   "source": [
    "As can be seen visually below, these spreads appear stationary until around 2000 after which they started to drift away from a certain level. This could be related to the financialisation of commodities. There are some evidence suggesting that index investments and speculative trades influence the commodity markets. (cf https://www.ecb.europa.eu/pub/financial-stability/fsr/focus/2011/pdf/ecb~6fdfdfce1c.fsrbox201112_04.pdf)"
   ]
  },
  {
   "cell_type": "code",
   "execution_count": 20,
   "id": "0b27db24",
   "metadata": {
    "execution": {
     "iopub.execute_input": "2022-04-26T06:10:59.188894Z",
     "iopub.status.busy": "2022-04-26T06:10:59.188566Z",
     "iopub.status.idle": "2022-04-26T06:11:00.280699Z",
     "shell.execute_reply": "2022-04-26T06:11:00.279804Z"
    },
    "papermill": {
     "duration": 1.114776,
     "end_time": "2022-04-26T06:11:00.283102",
     "exception": false,
     "start_time": "2022-04-26T06:10:59.168326",
     "status": "completed"
    },
    "tags": []
   },
   "outputs": [
    {
     "data": {
      "image/png": "[encoded data removed]",
      "text/plain": [
       "<Figure size 864x288 with 3 Axes>"
      ]
     },
     "metadata": {
      "needs_background": "light"
     },
     "output_type": "display_data"
    }
   ],
   "source": [
    "fig, ax = plt.subplots(1, 3, figsize=(12, 4), sharey=True)\n",
    "cs.plot(ax=ax[0])\n",
    "gcs.plot(ax=ax[1])\n",
    "hocs.plot(ax=ax[2])\n",
    "\n",
    "ax[0].set_title('3:2:1 crack spread')\n",
    "ax[1].set_title('1:1:0 gasoline crack spread')\n",
    "ax[2].set_title('1:0:1 heating oil crack spread')\n",
    "ax[0].set_ylabel('Crack spread ($)')\n",
    "\n",
    "fig.tight_layout();"
   ]
  },
  {
   "cell_type": "markdown",
   "id": "ddba6b40",
   "metadata": {
    "papermill": {
     "duration": 0.026098,
     "end_time": "2022-04-26T06:11:00.336550",
     "exception": false,
     "start_time": "2022-04-26T06:11:00.310452",
     "status": "completed"
    },
    "tags": []
   },
   "source": [
    "More formally, the ADF tests below show that they were stationary until Nov-1994."
   ]
  },
  {
   "cell_type": "code",
   "execution_count": 21,
   "id": "bd58dd0b",
   "metadata": {
    "execution": {
     "iopub.execute_input": "2022-04-26T06:11:00.388646Z",
     "iopub.status.busy": "2022-04-26T06:11:00.388316Z",
     "iopub.status.idle": "2022-04-26T06:11:02.127113Z",
     "shell.execute_reply": "2022-04-26T06:11:02.126031Z"
    },
    "papermill": {
     "duration": 1.768622,
     "end_time": "2022-04-26T06:11:02.130922",
     "exception": false,
     "start_time": "2022-04-26T06:11:00.362300",
     "status": "completed"
    },
    "tags": []
   },
   "outputs": [
    {
     "data": {
      "text/html": [
       "<div>\n",
       "<style scoped>\n",
       "    .dataframe tbody tr th:only-of-type {\n",
       "        vertical-align: middle;\n",
       "    }\n",
       "\n",
       "    .dataframe tbody tr th {\n",
       "        vertical-align: top;\n",
       "    }\n",
       "\n",
       "    .dataframe thead th {\n",
       "        text-align: right;\n",
       "    }\n",
       "</style>\n",
       "<table border=\"1\" class=\"dataframe\">\n",
       "  <thead>\n",
       "    <tr style=\"text-align: right;\">\n",
       "      <th></th>\n",
       "      <th>adf</th>\n",
       "      <th>p_value</th>\n",
       "      <th>used_lag</th>\n",
       "      <th>n_obs</th>\n",
       "      <th>ci_0.01</th>\n",
       "      <th>ci_0.05</th>\n",
       "      <th>ci_0.1</th>\n",
       "      <th>ic_best</th>\n",
       "    </tr>\n",
       "  </thead>\n",
       "  <tbody>\n",
       "    <tr>\n",
       "      <th>0</th>\n",
       "      <td>-7.926287</td>\n",
       "      <td>3.611421e-12</td>\n",
       "      <td>0.0</td>\n",
       "      <td>2515.0</td>\n",
       "      <td>-3.432953</td>\n",
       "      <td>-2.86269</td>\n",
       "      <td>-2.567382</td>\n",
       "      <td>1757.165999</td>\n",
       "    </tr>\n",
       "    <tr>\n",
       "      <th>0</th>\n",
       "      <td>-5.640046</td>\n",
       "      <td>1.041538e-06</td>\n",
       "      <td>1.0</td>\n",
       "      <td>2514.0</td>\n",
       "      <td>-3.432954</td>\n",
       "      <td>-2.86269</td>\n",
       "      <td>-2.567382</td>\n",
       "      <td>2505.871051</td>\n",
       "    </tr>\n",
       "    <tr>\n",
       "      <th>0</th>\n",
       "      <td>-6.999952</td>\n",
       "      <td>7.365777e-10</td>\n",
       "      <td>0.0</td>\n",
       "      <td>2515.0</td>\n",
       "      <td>-3.432953</td>\n",
       "      <td>-2.86269</td>\n",
       "      <td>-2.567382</td>\n",
       "      <td>2815.457971</td>\n",
       "    </tr>\n",
       "  </tbody>\n",
       "</table>\n",
       "</div>"
      ],
      "text/plain": [
       "        adf       p_value  used_lag   n_obs   ci_0.01  ci_0.05    ci_0.1  \\\n",
       "0 -7.926287  3.611421e-12       0.0  2515.0 -3.432953 -2.86269 -2.567382   \n",
       "0 -5.640046  1.041538e-06       1.0  2514.0 -3.432954 -2.86269 -2.567382   \n",
       "0 -6.999952  7.365777e-10       0.0  2515.0 -3.432953 -2.86269 -2.567382   \n",
       "\n",
       "       ic_best  \n",
       "0  1757.165999  \n",
       "0  2505.871051  \n",
       "0  2815.457971  "
      ]
     },
     "execution_count": 21,
     "metadata": {},
     "output_type": "execute_result"
    }
   ],
   "source": [
    "pd.concat((\n",
    "    adf(cs[:'1994-11'], autolag='BIC').to_frame().T,\n",
    "    adf(gcs[:'1994-11'], autolag='BIC').to_frame().T,\n",
    "    adf(hocs[:'1994-11'], autolag='BIC').to_frame().T,\n",
    "))"
   ]
  },
  {
   "cell_type": "markdown",
   "id": "6e2c8692",
   "metadata": {
    "papermill": {
     "duration": 0.024908,
     "end_time": "2022-04-26T06:11:02.181662",
     "exception": false,
     "start_time": "2022-04-26T06:11:02.156754",
     "status": "completed"
    },
    "tags": []
   },
   "source": [
    "Statistically though these spreads are still stationary at the 1% confidence level even after 2000."
   ]
  },
  {
   "cell_type": "code",
   "execution_count": 22,
   "id": "d3f9d7a9",
   "metadata": {
    "execution": {
     "iopub.execute_input": "2022-04-26T06:11:02.233257Z",
     "iopub.status.busy": "2022-04-26T06:11:02.232705Z",
     "iopub.status.idle": "2022-04-26T06:11:04.575211Z",
     "shell.execute_reply": "2022-04-26T06:11:04.574466Z"
    },
    "papermill": {
     "duration": 2.371583,
     "end_time": "2022-04-26T06:11:04.578118",
     "exception": false,
     "start_time": "2022-04-26T06:11:02.206535",
     "status": "completed"
    },
    "tags": []
   },
   "outputs": [
    {
     "data": {
      "text/html": [
       "<div>\n",
       "<style scoped>\n",
       "    .dataframe tbody tr th:only-of-type {\n",
       "        vertical-align: middle;\n",
       "    }\n",
       "\n",
       "    .dataframe tbody tr th {\n",
       "        vertical-align: top;\n",
       "    }\n",
       "\n",
       "    .dataframe thead th {\n",
       "        text-align: right;\n",
       "    }\n",
       "</style>\n",
       "<table border=\"1\" class=\"dataframe\">\n",
       "  <thead>\n",
       "    <tr style=\"text-align: right;\">\n",
       "      <th></th>\n",
       "      <th>adf</th>\n",
       "      <th>p_value</th>\n",
       "      <th>used_lag</th>\n",
       "      <th>n_obs</th>\n",
       "      <th>ci_0.01</th>\n",
       "      <th>ci_0.05</th>\n",
       "      <th>ci_0.1</th>\n",
       "      <th>ic_best</th>\n",
       "    </tr>\n",
       "  </thead>\n",
       "  <tbody>\n",
       "    <tr>\n",
       "      <th>0</th>\n",
       "      <td>-1.322015</td>\n",
       "      <td>0.619041</td>\n",
       "      <td>6.0</td>\n",
       "      <td>5597.0</td>\n",
       "      <td>-3.431519</td>\n",
       "      <td>-2.862057</td>\n",
       "      <td>-2.567045</td>\n",
       "      <td>14531.236930</td>\n",
       "    </tr>\n",
       "    <tr>\n",
       "      <th>0</th>\n",
       "      <td>-5.006144</td>\n",
       "      <td>0.000022</td>\n",
       "      <td>0.0</td>\n",
       "      <td>5603.0</td>\n",
       "      <td>-3.431518</td>\n",
       "      <td>-2.862056</td>\n",
       "      <td>-2.567045</td>\n",
       "      <td>17589.060570</td>\n",
       "    </tr>\n",
       "    <tr>\n",
       "      <th>0</th>\n",
       "      <td>-0.367724</td>\n",
       "      <td>0.915350</td>\n",
       "      <td>16.0</td>\n",
       "      <td>5587.0</td>\n",
       "      <td>-3.431521</td>\n",
       "      <td>-2.862057</td>\n",
       "      <td>-2.567045</td>\n",
       "      <td>15999.454386</td>\n",
       "    </tr>\n",
       "  </tbody>\n",
       "</table>\n",
       "</div>"
      ],
      "text/plain": [
       "        adf   p_value  used_lag   n_obs   ci_0.01   ci_0.05    ci_0.1  \\\n",
       "0 -1.322015  0.619041       6.0  5597.0 -3.431519 -2.862057 -2.567045   \n",
       "0 -5.006144  0.000022       0.0  5603.0 -3.431518 -2.862056 -2.567045   \n",
       "0 -0.367724  0.915350      16.0  5587.0 -3.431521 -2.862057 -2.567045   \n",
       "\n",
       "        ic_best  \n",
       "0  14531.236930  \n",
       "0  17589.060570  \n",
       "0  15999.454386  "
      ]
     },
     "execution_count": 22,
     "metadata": {},
     "output_type": "execute_result"
    }
   ],
   "source": [
    "pd.concat((\n",
    "    adf(cs['2000':], autolag='BIC').to_frame().T,\n",
    "    adf(gcs['2000':], autolag='BIC').to_frame().T,\n",
    "    adf(hocs['2000':], autolag='BIC').to_frame().T,\n",
    "))"
   ]
  },
  {
   "cell_type": "markdown",
   "id": "eb6c197c",
   "metadata": {
    "papermill": {
     "duration": 0.021592,
     "end_time": "2022-04-26T06:11:04.635891",
     "exception": false,
     "start_time": "2022-04-26T06:11:04.614299",
     "status": "completed"
    },
    "tags": []
   },
   "source": [
    "# Backtest"
   ]
  },
  {
   "cell_type": "markdown",
   "id": "4bbb1506",
   "metadata": {
    "papermill": {
     "duration": 0.017759,
     "end_time": "2022-04-26T06:11:04.671589",
     "exception": false,
     "start_time": "2022-04-26T06:11:04.653830",
     "status": "completed"
    },
    "tags": []
   },
   "source": [
    "It's not entirely clear how many back contracts are used in the original analysis as they only mentioned they used *all spreads*. In this notebook, the first 6 contracts are used for the sake of simplicity. Beyond 6, there tends to be more missing prices because of inactivity.\n",
    "\n",
    "In practice, one might want to consider liquidity of each contract to decide which one to trade as not all contract months have the same liquidity. In the case of crude oil, after certain points only June and December contracts are actually traded even though other months are listed."
   ]
  },
  {
   "cell_type": "code",
   "execution_count": 23,
   "id": "4aebb8bd",
   "metadata": {
    "execution": {
     "iopub.execute_input": "2022-04-26T06:11:04.709402Z",
     "iopub.status.busy": "2022-04-26T06:11:04.708911Z",
     "iopub.status.idle": "2022-04-26T06:11:05.656194Z",
     "shell.execute_reply": "2022-04-26T06:11:05.655593Z"
    },
    "papermill": {
     "duration": 0.967793,
     "end_time": "2022-04-26T06:11:05.657830",
     "exception": false,
     "start_time": "2022-04-26T06:11:04.690037",
     "status": "completed"
    },
    "tags": []
   },
   "outputs": [],
   "source": [
    "cl_curve = get_futures_curve_snapshot('CL', datetime(2021, 12, 1), 'volume')"
   ]
  },
  {
   "cell_type": "code",
   "execution_count": 24,
   "id": "c2bd035a",
   "metadata": {
    "execution": {
     "iopub.execute_input": "2022-04-26T06:11:05.696023Z",
     "iopub.status.busy": "2022-04-26T06:11:05.695492Z",
     "iopub.status.idle": "2022-04-26T06:11:06.194617Z",
     "shell.execute_reply": "2022-04-26T06:11:06.193909Z"
    },
    "papermill": {
     "duration": 0.519413,
     "end_time": "2022-04-26T06:11:06.196223",
     "exception": false,
     "start_time": "2022-04-26T06:11:05.676810",
     "status": "completed"
    },
    "tags": []
   },
   "outputs": [
    {
     "data": {
      "image/png": "[encoded data removed]",
      "text/plain": [
       "<Figure size 1008x216 with 1 Axes>"
      ]
     },
     "metadata": {
      "needs_background": "light"
     },
     "output_type": "display_data"
    }
   ],
   "source": [
    "ax = cl_curve.loc[:'2024'].set_index('symbol')['volume'].plot(kind='bar', figsize=(14, 3));\n",
    "ax.set_ylabel('Volume')\n",
    "ax.set_title('Crude oil traded volume per contract');"
   ]
  },
  {
   "cell_type": "markdown",
   "id": "9de6acec",
   "metadata": {
    "papermill": {
     "duration": 0.018008,
     "end_time": "2022-04-26T06:11:06.232427",
     "exception": false,
     "start_time": "2022-04-26T06:11:06.214419",
     "status": "completed"
    },
    "tags": []
   },
   "source": [
    "## Crack spread\n",
    "\n",
    "First define the instruments. `roll_rule` is defined to make sure futures are rolled on month-ends. As per the analysis done for crush spreads, some arbitrary collateral of 100k USD is used to meature futures returns."
   ]
  },
  {
   "cell_type": "code",
   "execution_count": 25,
   "id": "5d159539",
   "metadata": {
    "execution": {
     "iopub.execute_input": "2022-04-26T06:11:06.274961Z",
     "iopub.status.busy": "2022-04-26T06:11:06.274619Z",
     "iopub.status.idle": "2022-04-26T06:11:06.282590Z",
     "shell.execute_reply": "2022-04-26T06:11:06.281870Z"
    },
    "papermill": {
     "duration": 0.03346,
     "end_time": "2022-04-26T06:11:06.284532",
     "exception": false,
     "start_time": "2022-04-26T06:11:06.251072",
     "status": "completed"
    },
    "tags": []
   },
   "outputs": [],
   "source": [
    "max_expiry = 6\n",
    "instrument = []\n",
    "for i in range(1, max_expiry + 1):\n",
    "    ho = InstrumentDef('HO', id=f'HO_{i}', collateral=100_000, roll_rule=RollRule.MONTH_END.value, nth_expiry=i)\n",
    "    xb = InstrumentDef('XB', id=f'XB_{i}', collateral=100_000, roll_rule=RollRule.MONTH_END.value, nth_expiry=i)\n",
    "    cl = InstrumentDef('CL', id=f'CL_{i}', collateral=100_000, roll_rule=RollRule.MONTH_END.value, nth_expiry=i)\n",
    "    instrument.append(ho)\n",
    "    instrument.append(xb)\n",
    "    instrument.append(cl)"
   ]
  },
  {
   "cell_type": "code",
   "execution_count": 26,
   "id": "19851a3b",
   "metadata": {
    "execution": {
     "iopub.execute_input": "2022-04-26T06:11:06.331136Z",
     "iopub.status.busy": "2022-04-26T06:11:06.330874Z",
     "iopub.status.idle": "2022-04-26T06:11:06.335478Z",
     "shell.execute_reply": "2022-04-26T06:11:06.334785Z"
    },
    "papermill": {
     "duration": 0.029576,
     "end_time": "2022-04-26T06:11:06.337646",
     "exception": false,
     "start_time": "2022-04-26T06:11:06.308070",
     "status": "completed"
    },
    "tags": []
   },
   "outputs": [
    {
     "data": {
      "text/plain": [
       "18"
      ]
     },
     "execution_count": 26,
     "metadata": {},
     "output_type": "execute_result"
    }
   ],
   "source": [
    "len(instrument)"
   ]
  },
  {
   "cell_type": "code",
   "execution_count": 27,
   "id": "729399c3",
   "metadata": {
    "execution": {
     "iopub.execute_input": "2022-04-26T06:11:06.392961Z",
     "iopub.status.busy": "2022-04-26T06:11:06.392621Z",
     "iopub.status.idle": "2022-04-26T06:17:00.936819Z",
     "shell.execute_reply": "2022-04-26T06:17:00.936180Z"
    },
    "papermill": {
     "duration": 354.573992,
     "end_time": "2022-04-26T06:17:00.938855",
     "exception": false,
     "start_time": "2022-04-26T06:11:06.364863",
     "status": "completed"
    },
    "tags": []
   },
   "outputs": [],
   "source": [
    "engine_cs = BacktestEngine(\n",
    "    start_date=datetime(1985, 1, 1),\n",
    "    strategy=Strategy.DELTA_ONE.value,\n",
    "    instrument=instrument,\n",
    "    signal=signal.CrackSpreadGP1999(\n",
    "        ma_lookback=5,\n",
    "        entry_sigma=2,\n",
    "    ),\n",
    "    weighting=Weighting.SUM.value,\n",
    "    log_level=logging.WARN,\n",
    ")\n",
    "engine_cs.run()"
   ]
  },
  {
   "cell_type": "code",
   "execution_count": 28,
   "id": "f08e3ad6",
   "metadata": {
    "execution": {
     "iopub.execute_input": "2022-04-26T06:17:00.981646Z",
     "iopub.status.busy": "2022-04-26T06:17:00.981388Z",
     "iopub.status.idle": "2022-04-26T06:18:24.184874Z",
     "shell.execute_reply": "2022-04-26T06:18:24.184183Z"
    },
    "papermill": {
     "duration": 83.227174,
     "end_time": "2022-04-26T06:18:24.187248",
     "exception": false,
     "start_time": "2022-04-26T06:17:00.960074",
     "status": "completed"
    },
    "tags": []
   },
   "outputs": [],
   "source": [
    "levels_cs = engine_cs.calculate_equity_curve(calculate_net=False).rename('Crack spread')"
   ]
  },
  {
   "cell_type": "markdown",
   "id": "46f2eaf9",
   "metadata": {
    "papermill": {
     "duration": 0.024547,
     "end_time": "2022-04-26T06:18:24.237741",
     "exception": false,
     "start_time": "2022-04-26T06:18:24.213194",
     "status": "completed"
    },
    "tags": []
   },
   "source": [
    "## Gasoline crack spread"
   ]
  },
  {
   "cell_type": "code",
   "execution_count": 29,
   "id": "ea2825c3",
   "metadata": {
    "execution": {
     "iopub.execute_input": "2022-04-26T06:18:24.275173Z",
     "iopub.status.busy": "2022-04-26T06:18:24.274823Z",
     "iopub.status.idle": "2022-04-26T06:18:24.281281Z",
     "shell.execute_reply": "2022-04-26T06:18:24.280719Z"
    },
    "papermill": {
     "duration": 0.027475,
     "end_time": "2022-04-26T06:18:24.283208",
     "exception": false,
     "start_time": "2022-04-26T06:18:24.255733",
     "status": "completed"
    },
    "tags": []
   },
   "outputs": [],
   "source": [
    "max_expiry = 6\n",
    "instrument = []\n",
    "for i in range(1, max_expiry + 1):\n",
    "    xb = InstrumentDef('XB', id=f'XB_{i}', collateral=100_000, roll_rule=RollRule.MONTH_END.value, nth_expiry=i)\n",
    "    cl = InstrumentDef('CL', id=f'CL_{i}', collateral=100_000, roll_rule=RollRule.MONTH_END.value, nth_expiry=i)\n",
    "    instrument.append(xb)\n",
    "    instrument.append(cl)"
   ]
  },
  {
   "cell_type": "code",
   "execution_count": 30,
   "id": "553fbe4b",
   "metadata": {
    "execution": {
     "iopub.execute_input": "2022-04-26T06:18:24.332515Z",
     "iopub.status.busy": "2022-04-26T06:18:24.332271Z",
     "iopub.status.idle": "2022-04-26T06:22:30.427090Z",
     "shell.execute_reply": "2022-04-26T06:22:30.426411Z"
    },
    "papermill": {
     "duration": 246.120186,
     "end_time": "2022-04-26T06:22:30.429476",
     "exception": false,
     "start_time": "2022-04-26T06:18:24.309290",
     "status": "completed"
    },
    "tags": []
   },
   "outputs": [],
   "source": [
    "engine_gcs = BacktestEngine(\n",
    "    start_date=datetime(1985, 1, 1),\n",
    "    strategy=Strategy.DELTA_ONE.value,\n",
    "    instrument=instrument,\n",
    "    signal=signal.CrackSpreadGP1999(\n",
    "        weights={'XB': 42 * 1000, 'CL': -1 * 1000},\n",
    "        ma_lookback=5,\n",
    "        entry_sigma=2,\n",
    "    ),\n",
    "    weighting=Weighting.SUM.value,\n",
    "    log_level=logging.WARN,\n",
    ")\n",
    "engine_gcs.run()"
   ]
  },
  {
   "cell_type": "code",
   "execution_count": 31,
   "id": "4d87519a",
   "metadata": {
    "execution": {
     "iopub.execute_input": "2022-04-26T06:22:30.486315Z",
     "iopub.status.busy": "2022-04-26T06:22:30.486113Z",
     "iopub.status.idle": "2022-04-26T06:23:25.976079Z",
     "shell.execute_reply": "2022-04-26T06:23:25.975232Z"
    },
    "papermill": {
     "duration": 55.520602,
     "end_time": "2022-04-26T06:23:25.978494",
     "exception": false,
     "start_time": "2022-04-26T06:22:30.457892",
     "status": "completed"
    },
    "tags": []
   },
   "outputs": [],
   "source": [
    "levels_gcs = engine_gcs.calculate_equity_curve(calculate_net=False).rename('Gasoline crack spread')"
   ]
  },
  {
   "cell_type": "markdown",
   "id": "8d456942",
   "metadata": {
    "papermill": {
     "duration": 0.028965,
     "end_time": "2022-04-26T06:23:26.035555",
     "exception": false,
     "start_time": "2022-04-26T06:23:26.006590",
     "status": "completed"
    },
    "tags": []
   },
   "source": [
    "## Heating oil crack spread"
   ]
  },
  {
   "cell_type": "code",
   "execution_count": 32,
   "id": "9cb7c150",
   "metadata": {
    "execution": {
     "iopub.execute_input": "2022-04-26T06:23:26.093160Z",
     "iopub.status.busy": "2022-04-26T06:23:26.092883Z",
     "iopub.status.idle": "2022-04-26T06:23:26.098679Z",
     "shell.execute_reply": "2022-04-26T06:23:26.097870Z"
    },
    "papermill": {
     "duration": 0.036867,
     "end_time": "2022-04-26T06:23:26.100358",
     "exception": false,
     "start_time": "2022-04-26T06:23:26.063491",
     "status": "completed"
    },
    "tags": []
   },
   "outputs": [],
   "source": [
    "max_expiry = 6\n",
    "instrument = []\n",
    "for i in range(1, max_expiry + 1):\n",
    "    ho = InstrumentDef('HO', id=f'HO_{i}', collateral=100_000, roll_rule=RollRule.MONTH_END.value, nth_expiry=i)\n",
    "    cl = InstrumentDef('CL', id=f'CL_{i}', collateral=100_000, roll_rule=RollRule.MONTH_END.value, nth_expiry=i)\n",
    "    instrument.append(ho)\n",
    "    instrument.append(cl)"
   ]
  },
  {
   "cell_type": "code",
   "execution_count": 33,
   "id": "9338a131",
   "metadata": {
    "execution": {
     "iopub.execute_input": "2022-04-26T06:23:26.140238Z",
     "iopub.status.busy": "2022-04-26T06:23:26.139962Z",
     "iopub.status.idle": "2022-04-26T06:27:26.505908Z",
     "shell.execute_reply": "2022-04-26T06:27:26.505341Z"
    },
    "papermill": {
     "duration": 240.388762,
     "end_time": "2022-04-26T06:27:26.507933",
     "exception": false,
     "start_time": "2022-04-26T06:23:26.119171",
     "status": "completed"
    },
    "tags": []
   },
   "outputs": [],
   "source": [
    "engine_hocs = BacktestEngine(\n",
    "    start_date=datetime(1985, 1, 1),\n",
    "    strategy=Strategy.DELTA_ONE.value,\n",
    "    instrument=instrument,\n",
    "    signal=signal.CrackSpreadGP1999(\n",
    "        weights={'HO': 42 * 1000, 'CL': -1 * 1000},\n",
    "        ma_lookback=5,\n",
    "        entry_sigma=2,\n",
    "    ),\n",
    "    weighting=Weighting.SUM.value,\n",
    "    log_level=logging.WARN,\n",
    ")\n",
    "engine_hocs.run()"
   ]
  },
  {
   "cell_type": "code",
   "execution_count": 34,
   "id": "64757694",
   "metadata": {
    "execution": {
     "iopub.execute_input": "2022-04-26T06:27:26.551154Z",
     "iopub.status.busy": "2022-04-26T06:27:26.550781Z",
     "iopub.status.idle": "2022-04-26T06:28:19.770788Z",
     "shell.execute_reply": "2022-04-26T06:28:19.770130Z"
    },
    "papermill": {
     "duration": 53.241589,
     "end_time": "2022-04-26T06:28:19.772577",
     "exception": false,
     "start_time": "2022-04-26T06:27:26.530988",
     "status": "completed"
    },
    "tags": []
   },
   "outputs": [],
   "source": [
    "levels_hocs = engine_hocs.calculate_equity_curve(calculate_net=False).rename('Heating oil crack spread')"
   ]
  },
  {
   "cell_type": "markdown",
   "id": "7d427481",
   "metadata": {
    "papermill": {
     "duration": 0.018833,
     "end_time": "2022-04-26T06:28:19.810007",
     "exception": false,
     "start_time": "2022-04-26T06:28:19.791174",
     "status": "completed"
    },
    "tags": []
   },
   "source": [
    "## Performance\n",
    "During the sample period tested, a mean-reversion on the crack spread worked well."
   ]
  },
  {
   "cell_type": "code",
   "execution_count": 35,
   "id": "348f0796",
   "metadata": {
    "execution": {
     "iopub.execute_input": "2022-04-26T06:28:19.849862Z",
     "iopub.status.busy": "2022-04-26T06:28:19.849659Z",
     "iopub.status.idle": "2022-04-26T06:28:19.862729Z",
     "shell.execute_reply": "2022-04-26T06:28:19.862028Z"
    },
    "papermill": {
     "duration": 0.035657,
     "end_time": "2022-04-26T06:28:19.865121",
     "exception": false,
     "start_time": "2022-04-26T06:28:19.829464",
     "status": "completed"
    },
    "tags": []
   },
   "outputs": [],
   "source": [
    "levels = pd.concat((\n",
    "    levels_cs, levels_gcs, levels_hocs\n",
    "), axis=1)"
   ]
  },
  {
   "cell_type": "code",
   "execution_count": 36,
   "id": "c3b6f7cd",
   "metadata": {
    "execution": {
     "iopub.execute_input": "2022-04-26T06:28:19.906538Z",
     "iopub.status.busy": "2022-04-26T06:28:19.906341Z",
     "iopub.status.idle": "2022-04-26T06:28:20.695757Z",
     "shell.execute_reply": "2022-04-26T06:28:20.695212Z"
    },
    "papermill": {
     "duration": 0.811285,
     "end_time": "2022-04-26T06:28:20.698522",
     "exception": false,
     "start_time": "2022-04-26T06:28:19.887237",
     "status": "completed"
    },
    "tags": []
   },
   "outputs": [
    {
     "data": {
      "image/png": "[encoded data removed]",
      "text/plain": [
       "<Figure size 576x324 with 1 Axes>"
      ]
     },
     "metadata": {
      "needs_background": "light"
     },
     "output_type": "display_data"
    }
   ],
   "source": [
    "fig, ax = plt.subplots(figsize=(8, 4.5))\n",
    "levels[:'1994-11'].plot(ax=ax, logy=True);\n",
    "ax.set_title('Crack spreads mean-reversion (GP1999)')\n",
    "ax.set_ylabel('Cumulative returns');"
   ]
  },
  {
   "cell_type": "code",
   "execution_count": 37,
   "id": "8b9035a4",
   "metadata": {
    "execution": {
     "iopub.execute_input": "2022-04-26T06:28:20.742016Z",
     "iopub.status.busy": "2022-04-26T06:28:20.741662Z",
     "iopub.status.idle": "2022-04-26T06:28:20.791761Z",
     "shell.execute_reply": "2022-04-26T06:28:20.791086Z"
    },
    "papermill": {
     "duration": 0.075945,
     "end_time": "2022-04-26T06:28:20.793928",
     "exception": false,
     "start_time": "2022-04-26T06:28:20.717983",
     "status": "completed"
    },
    "tags": []
   },
   "outputs": [
    {
     "data": {
      "text/html": [
       "<div>\n",
       "<style scoped>\n",
       "    .dataframe tbody tr th:only-of-type {\n",
       "        vertical-align: middle;\n",
       "    }\n",
       "\n",
       "    .dataframe tbody tr th {\n",
       "        vertical-align: top;\n",
       "    }\n",
       "\n",
       "    .dataframe thead th {\n",
       "        text-align: right;\n",
       "    }\n",
       "</style>\n",
       "<table border=\"1\" class=\"dataframe\">\n",
       "  <thead>\n",
       "    <tr style=\"text-align: right;\">\n",
       "      <th></th>\n",
       "      <th>Crack spread</th>\n",
       "      <th>Gasoline crack spread</th>\n",
       "      <th>Heating oil crack spread</th>\n",
       "    </tr>\n",
       "  </thead>\n",
       "  <tbody>\n",
       "    <tr>\n",
       "      <th>CAGR</th>\n",
       "      <td>0.014100</td>\n",
       "      <td>0.007241</td>\n",
       "      <td>0.011715</td>\n",
       "    </tr>\n",
       "    <tr>\n",
       "      <th>Annualised vol</th>\n",
       "      <td>0.018131</td>\n",
       "      <td>0.022948</td>\n",
       "      <td>0.017725</td>\n",
       "    </tr>\n",
       "    <tr>\n",
       "      <th>Sharpe ratio</th>\n",
       "      <td>0.777675</td>\n",
       "      <td>0.315525</td>\n",
       "      <td>0.660914</td>\n",
       "    </tr>\n",
       "    <tr>\n",
       "      <th>Max drawdown</th>\n",
       "      <td>0.071648</td>\n",
       "      <td>0.129760</td>\n",
       "      <td>0.044562</td>\n",
       "    </tr>\n",
       "    <tr>\n",
       "      <th>Calmar ratio</th>\n",
       "      <td>0.196791</td>\n",
       "      <td>0.055800</td>\n",
       "      <td>0.262889</td>\n",
       "    </tr>\n",
       "    <tr>\n",
       "      <th>Skewness</th>\n",
       "      <td>0.791950</td>\n",
       "      <td>4.373877</td>\n",
       "      <td>2.076780</td>\n",
       "    </tr>\n",
       "    <tr>\n",
       "      <th>Kurtosis</th>\n",
       "      <td>45.874931</td>\n",
       "      <td>200.909353</td>\n",
       "      <td>75.098364</td>\n",
       "    </tr>\n",
       "    <tr>\n",
       "      <th>Worst return</th>\n",
       "      <td>-0.012272</td>\n",
       "      <td>-0.022322</td>\n",
       "      <td>-0.013000</td>\n",
       "    </tr>\n",
       "    <tr>\n",
       "      <th>Worst 1d return</th>\n",
       "      <td>-0.012272</td>\n",
       "      <td>-0.022322</td>\n",
       "      <td>-0.013000</td>\n",
       "    </tr>\n",
       "    <tr>\n",
       "      <th>Worst 1w return</th>\n",
       "      <td>-0.018763</td>\n",
       "      <td>-0.034413</td>\n",
       "      <td>-0.019985</td>\n",
       "    </tr>\n",
       "    <tr>\n",
       "      <th>Worst 1m return</th>\n",
       "      <td>-0.030638</td>\n",
       "      <td>-0.029017</td>\n",
       "      <td>-0.026193</td>\n",
       "    </tr>\n",
       "  </tbody>\n",
       "</table>\n",
       "</div>"
      ],
      "text/plain": [
       "                 Crack spread  Gasoline crack spread  Heating oil crack spread\n",
       "CAGR                 0.014100               0.007241                  0.011715\n",
       "Annualised vol       0.018131               0.022948                  0.017725\n",
       "Sharpe ratio         0.777675               0.315525                  0.660914\n",
       "Max drawdown         0.071648               0.129760                  0.044562\n",
       "Calmar ratio         0.196791               0.055800                  0.262889\n",
       "Skewness             0.791950               4.373877                  2.076780\n",
       "Kurtosis            45.874931             200.909353                 75.098364\n",
       "Worst return        -0.012272              -0.022322                 -0.013000\n",
       "Worst 1d return     -0.012272              -0.022322                 -0.013000\n",
       "Worst 1w return     -0.018763              -0.034413                 -0.019985\n",
       "Worst 1m return     -0.030638              -0.029017                 -0.026193"
      ]
     },
     "execution_count": 37,
     "metadata": {},
     "output_type": "execute_result"
    }
   ],
   "source": [
    "levels[:'1994-11'].pipe(Performance).summary()"
   ]
  },
  {
   "cell_type": "markdown",
   "id": "25d81c19",
   "metadata": {
    "papermill": {
     "duration": 0.028544,
     "end_time": "2022-04-26T06:28:20.851937",
     "exception": false,
     "start_time": "2022-04-26T06:28:20.823393",
     "status": "completed"
    },
    "tags": []
   },
   "source": [
    "The underperformance in 1990 coincides with a wider divergence on the crack spread which is intuitive."
   ]
  },
  {
   "cell_type": "code",
   "execution_count": 38,
   "id": "76538675",
   "metadata": {
    "execution": {
     "iopub.execute_input": "2022-04-26T06:28:20.892946Z",
     "iopub.status.busy": "2022-04-26T06:28:20.892608Z",
     "iopub.status.idle": "2022-04-26T06:28:21.288246Z",
     "shell.execute_reply": "2022-04-26T06:28:21.287669Z"
    },
    "papermill": {
     "duration": 0.418602,
     "end_time": "2022-04-26T06:28:21.290575",
     "exception": false,
     "start_time": "2022-04-26T06:28:20.871973",
     "status": "completed"
    },
    "tags": []
   },
   "outputs": [
    {
     "data": {
      "image/png": "[encoded data removed]",
      "text/plain": [
       "<Figure size 576x360 with 2 Axes>"
      ]
     },
     "metadata": {
      "needs_background": "light"
     },
     "output_type": "display_data"
    }
   ],
   "source": [
    "pd.concat((\n",
    "    levels_gcs.rename('Gasoline crack spread strategy'),\n",
    "    gcs.rename('GCS')\n",
    "), axis=1)[:'1994-11'].plot(figsize=(8, 5), secondary_y='GCS');"
   ]
  },
  {
   "cell_type": "markdown",
   "id": "e2d431e2",
   "metadata": {
    "papermill": {
     "duration": 0.027437,
     "end_time": "2022-04-26T06:28:21.346214",
     "exception": false,
     "start_time": "2022-04-26T06:28:21.318777",
     "status": "completed"
    },
    "tags": []
   },
   "source": [
    "## Long-term performance\n",
    "\n",
    "...however as we saw earlier in the time-series of crack spreads, something must have changed in 2000s and the trading strategies stopped working."
   ]
  },
  {
   "cell_type": "code",
   "execution_count": 39,
   "id": "d8a263d6",
   "metadata": {
    "execution": {
     "iopub.execute_input": "2022-04-26T06:28:21.402317Z",
     "iopub.status.busy": "2022-04-26T06:28:21.402112Z",
     "iopub.status.idle": "2022-04-26T06:28:21.912909Z",
     "shell.execute_reply": "2022-04-26T06:28:21.912310Z"
    },
    "papermill": {
     "duration": 0.540912,
     "end_time": "2022-04-26T06:28:21.914467",
     "exception": false,
     "start_time": "2022-04-26T06:28:21.373555",
     "status": "completed"
    },
    "tags": []
   },
   "outputs": [
    {
     "data": {
      "image/png": "[encoded data removed]",
      "text/plain": [
       "<Figure size 576x324 with 1 Axes>"
      ]
     },
     "metadata": {
      "needs_background": "light"
     },
     "output_type": "display_data"
    }
   ],
   "source": [
    "fig, ax = plt.subplots(figsize=(8, 4.5))\n",
    "levels.plot(ax=ax, logy=True);\n",
    "ax.set_title('Crack spreads mean-reversion (GP1999)')\n",
    "ax.set_ylabel('Cumulative returns');"
   ]
  },
  {
   "cell_type": "code",
   "execution_count": 40,
   "id": "b9b01da1",
   "metadata": {
    "execution": {
     "iopub.execute_input": "2022-04-26T06:28:21.955985Z",
     "iopub.status.busy": "2022-04-26T06:28:21.955737Z",
     "iopub.status.idle": "2022-04-26T06:28:22.028550Z",
     "shell.execute_reply": "2022-04-26T06:28:22.027936Z"
    },
    "papermill": {
     "duration": 0.095592,
     "end_time": "2022-04-26T06:28:22.030178",
     "exception": false,
     "start_time": "2022-04-26T06:28:21.934586",
     "status": "completed"
    },
    "tags": []
   },
   "outputs": [
    {
     "data": {
      "text/html": [
       "<div>\n",
       "<style scoped>\n",
       "    .dataframe tbody tr th:only-of-type {\n",
       "        vertical-align: middle;\n",
       "    }\n",
       "\n",
       "    .dataframe tbody tr th {\n",
       "        vertical-align: top;\n",
       "    }\n",
       "\n",
       "    .dataframe thead th {\n",
       "        text-align: right;\n",
       "    }\n",
       "</style>\n",
       "<table border=\"1\" class=\"dataframe\">\n",
       "  <thead>\n",
       "    <tr style=\"text-align: right;\">\n",
       "      <th></th>\n",
       "      <th>Crack spread</th>\n",
       "      <th>Gasoline crack spread</th>\n",
       "      <th>Heating oil crack spread</th>\n",
       "    </tr>\n",
       "  </thead>\n",
       "  <tbody>\n",
       "    <tr>\n",
       "      <th>CAGR</th>\n",
       "      <td>-0.029810</td>\n",
       "      <td>-0.006792</td>\n",
       "      <td>0.000664</td>\n",
       "    </tr>\n",
       "    <tr>\n",
       "      <th>Annualised vol</th>\n",
       "      <td>0.138825</td>\n",
       "      <td>0.044957</td>\n",
       "      <td>0.070726</td>\n",
       "    </tr>\n",
       "    <tr>\n",
       "      <th>Sharpe ratio</th>\n",
       "      <td>-0.214728</td>\n",
       "      <td>-0.151070</td>\n",
       "      <td>0.009391</td>\n",
       "    </tr>\n",
       "    <tr>\n",
       "      <th>Max drawdown</th>\n",
       "      <td>0.796898</td>\n",
       "      <td>0.455942</td>\n",
       "      <td>0.262482</td>\n",
       "    </tr>\n",
       "    <tr>\n",
       "      <th>Calmar ratio</th>\n",
       "      <td>-0.037407</td>\n",
       "      <td>-0.014896</td>\n",
       "      <td>0.002531</td>\n",
       "    </tr>\n",
       "    <tr>\n",
       "      <th>Skewness</th>\n",
       "      <td>26.693521</td>\n",
       "      <td>-1.823842</td>\n",
       "      <td>7.527471</td>\n",
       "    </tr>\n",
       "    <tr>\n",
       "      <th>Kurtosis</th>\n",
       "      <td>2508.651211</td>\n",
       "      <td>67.405150</td>\n",
       "      <td>873.191803</td>\n",
       "    </tr>\n",
       "    <tr>\n",
       "      <th>Worst return</th>\n",
       "      <td>-0.339082</td>\n",
       "      <td>-0.049356</td>\n",
       "      <td>-0.162293</td>\n",
       "    </tr>\n",
       "    <tr>\n",
       "      <th>Worst 1d return</th>\n",
       "      <td>-0.339082</td>\n",
       "      <td>-0.049356</td>\n",
       "      <td>-0.162293</td>\n",
       "    </tr>\n",
       "    <tr>\n",
       "      <th>Worst 1w return</th>\n",
       "      <td>-0.214178</td>\n",
       "      <td>-0.101832</td>\n",
       "      <td>-0.085109</td>\n",
       "    </tr>\n",
       "    <tr>\n",
       "      <th>Worst 1m return</th>\n",
       "      <td>-0.150461</td>\n",
       "      <td>-0.119793</td>\n",
       "      <td>-0.093972</td>\n",
       "    </tr>\n",
       "  </tbody>\n",
       "</table>\n",
       "</div>"
      ],
      "text/plain": [
       "                 Crack spread  Gasoline crack spread  Heating oil crack spread\n",
       "CAGR                -0.029810              -0.006792                  0.000664\n",
       "Annualised vol       0.138825               0.044957                  0.070726\n",
       "Sharpe ratio        -0.214728              -0.151070                  0.009391\n",
       "Max drawdown         0.796898               0.455942                  0.262482\n",
       "Calmar ratio        -0.037407              -0.014896                  0.002531\n",
       "Skewness            26.693521              -1.823842                  7.527471\n",
       "Kurtosis          2508.651211              67.405150                873.191803\n",
       "Worst return        -0.339082              -0.049356                 -0.162293\n",
       "Worst 1d return     -0.339082              -0.049356                 -0.162293\n",
       "Worst 1w return     -0.214178              -0.101832                 -0.085109\n",
       "Worst 1m return     -0.150461              -0.119793                 -0.093972"
      ]
     },
     "execution_count": 40,
     "metadata": {},
     "output_type": "execute_result"
    }
   ],
   "source": [
    "levels.pipe(Performance).summary()"
   ]
  },
  {
   "cell_type": "markdown",
   "id": "e67cc5fa",
   "metadata": {
    "papermill": {
     "duration": 0.020242,
     "end_time": "2022-04-26T06:28:22.070709",
     "exception": false,
     "start_time": "2022-04-26T06:28:22.050467",
     "status": "completed"
    },
    "tags": []
   },
   "source": [
    "## Post publication"
   ]
  },
  {
   "cell_type": "code",
   "execution_count": 41,
   "id": "94b4f13d",
   "metadata": {
    "execution": {
     "iopub.execute_input": "2022-04-26T06:28:22.112570Z",
     "iopub.status.busy": "2022-04-26T06:28:22.112180Z",
     "iopub.status.idle": "2022-04-26T06:28:22.115787Z",
     "shell.execute_reply": "2022-04-26T06:28:22.115115Z"
    },
    "papermill": {
     "duration": 0.026432,
     "end_time": "2022-04-26T06:28:22.117398",
     "exception": false,
     "start_time": "2022-04-26T06:28:22.090966",
     "status": "completed"
    },
    "tags": []
   },
   "outputs": [],
   "source": [
    "publication_date = datetime(1999, 11, 29)"
   ]
  },
  {
   "cell_type": "code",
   "execution_count": 42,
   "id": "1a2e7f9c",
   "metadata": {
    "execution": {
     "iopub.execute_input": "2022-04-26T06:28:22.158744Z",
     "iopub.status.busy": "2022-04-26T06:28:22.158491Z",
     "iopub.status.idle": "2022-04-26T06:28:23.374385Z",
     "shell.execute_reply": "2022-04-26T06:28:23.373742Z"
    },
    "papermill": {
     "duration": 1.238964,
     "end_time": "2022-04-26T06:28:23.376391",
     "exception": false,
     "start_time": "2022-04-26T06:28:22.137427",
     "status": "completed"
    },
    "tags": []
   },
   "outputs": [
    {
     "data": {
      "image/png": "[encoded data removed]",
      "text/plain": [
       "<Figure size 1008x288 with 2 Axes>"
      ]
     },
     "metadata": {
      "needs_background": "light"
     },
     "output_type": "display_data"
    }
   ],
   "source": [
    "fig, ax = plt.subplots(1, 2, figsize=(14, 4))\n",
    "levels.plot(ax=ax[0], logy=True);\n",
    "ax[0].set_title('Crack spreads mean-reversion (GP1999)')\n",
    "ax[0].set_ylabel('Cumulative returns');\n",
    "ax[0].axvline(publication_date, lw=1, ls='--', color='black')\n",
    "ax[0].text(publication_date, 100, 'Publication date ', ha='right')\n",
    "\n",
    "levels.loc[publication_date:].pipe(rebase).plot(ax=ax[1], logy=True);\n",
    "ax[1].set_title('Post publication');"
   ]
  },
  {
   "cell_type": "markdown",
   "id": "d187127a",
   "metadata": {
    "papermill": {
     "duration": 0.023325,
     "end_time": "2022-04-26T06:28:23.421221",
     "exception": false,
     "start_time": "2022-04-26T06:28:23.397896",
     "status": "completed"
    },
    "tags": []
   },
   "source": [
    "# Reference\n",
    "- Girma, P.B. and Paulson, A.S., 1999. Risk arbitrage opportunities in petroleum futures spreads. Journal of Futures Markets, 19(8), pp.931-955."
   ]
  },
  {
   "cell_type": "code",
   "execution_count": 43,
   "id": "69fe3c8e",
   "metadata": {
    "execution": {
     "iopub.execute_input": "2022-04-26T06:28:23.465200Z",
     "iopub.status.busy": "2022-04-26T06:28:23.464996Z",
     "iopub.status.idle": "2022-04-26T06:28:23.504863Z",
     "shell.execute_reply": "2022-04-26T06:28:23.504337Z"
    },
    "papermill": {
     "duration": 0.063546,
     "end_time": "2022-04-26T06:28:23.506292",
     "exception": false,
     "start_time": "2022-04-26T06:28:23.442746",
     "status": "completed"
    },
    "tags": []
   },
   "outputs": [
    {
     "name": "stdout",
     "output_type": "stream",
     "text": [
      "Updated: 26-Apr-2022 06:28\n"
     ]
    }
   ],
   "source": [
    "print(f'Updated: {datetime.utcnow():%d-%b-%Y %H:%M}')"
   ]
  }
 ],
 "metadata": {
  "kernelspec": {
   "display_name": "Python 3",
   "language": "python",
   "name": "python3"
  },
  "language_info": {
   "codemirror_mode": {
    "name": "ipython",
    "version": 3
   },
   "file_extension": ".py",
   "mimetype": "text/x-python",
   "name": "python",
   "nbconvert_exporter": "python",
   "pygments_lexer": "ipython3",
   "version": "3.9.6"
  },
  "papermill": {
   "default_parameters": {},
   "duration": 1119.86757,
   "end_time": "2022-04-26T06:28:26.253869",
   "environment_variables": {},
   "exception": null,
   "input_path": "notebooks/papermill/commodity_crack_spread_stat_arb.ipynb",
   "output_path": "notebooks/commodity_crack_spread_stat_arb.ipynb",
   "parameters": {},
   "start_time": "2022-04-26T06:09:46.386299",
   "version": "2.3.4"
  },
  "toc-autonumbering": true
 },
 "nbformat": 4,
 "nbformat_minor": 5
}