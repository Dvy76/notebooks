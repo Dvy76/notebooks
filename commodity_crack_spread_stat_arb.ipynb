{
 "cells": [
  {
   "cell_type": "markdown",
   "id": "172ca5c5",
   "metadata": {
    "papermill": {
     "duration": 0.069933,
     "end_time": "2022-04-01T08:48:07.010747",
     "exception": false,
     "start_time": "2022-04-01T08:48:06.940814",
     "status": "completed"
    },
    "tags": []
   },
   "source": [
    "# Commodity crack spread statistical arbitrage\n",
    "\n",
    "In this notebook, the mean-rereversion strategy proposed in Girma and Paulson 1999 (henthforth GP1999) is investigated. It focuses on a various combination of the crude oil (WTI) crack spread. "
   ]
  },
  {
   "cell_type": "code",
   "execution_count": 1,
   "id": "7daa9dab",
   "metadata": {
    "execution": {
     "iopub.execute_input": "2022-04-01T08:48:07.159087Z",
     "iopub.status.busy": "2022-04-01T08:48:07.158528Z",
     "iopub.status.idle": "2022-04-01T08:48:10.155867Z",
     "shell.execute_reply": "2022-04-01T08:48:10.155316Z",
     "shell.execute_reply.started": "2021-12-03T07:10:36.569519Z"
    },
    "papermill": {
     "duration": 3.078979,
     "end_time": "2022-04-01T08:48:10.155995",
     "exception": false,
     "start_time": "2022-04-01T08:48:07.077016",
     "status": "completed"
    },
    "tags": []
   },
   "outputs": [],
   "source": [
    "%matplotlib inline\n",
    "from datetime import datetime\n",
    "import logging\n",
    "import warnings\n",
    "warnings.simplefilter(action='ignore', category=FutureWarning)\n",
    "\n",
    "import pandas as pd\n",
    "import statsmodels.api as sm\n",
    "import matplotlib.pyplot as plt\n",
    "plt.style.use('bmh')\n",
    "\n",
    "from vivace.backtest import BacktestEngine, signal, InstrumentDef\n",
    "from vivace.backtest.analytics import rebase\n",
    "from vivace.backtest.contract import get_futures_curve_snapshot\n",
    "from vivace.backtest.enums import Strategy, Weighting, RollRule\n",
    "from vivace.backtest.stats import Performance"
   ]
  },
  {
   "cell_type": "markdown",
   "id": "68aa8ccf",
   "metadata": {
    "papermill": {
     "duration": 0.066704,
     "end_time": "2022-04-01T08:48:10.291635",
     "exception": false,
     "start_time": "2022-04-01T08:48:10.224931",
     "status": "completed"
    },
    "tags": []
   },
   "source": [
    "# Cointegration test\n",
    "\n",
    "GP1999 first checks if the crack spread is cointegrated. To do that, first let's see futures prices are non-stationary or not. As per usual, the generic price is populated by running a simple long-only backtest by rolling the front contract."
   ]
  },
  {
   "cell_type": "markdown",
   "id": "824e7302",
   "metadata": {
    "papermill": {
     "duration": 0.067844,
     "end_time": "2022-04-01T08:48:10.424169",
     "exception": false,
     "start_time": "2022-04-01T08:48:10.356325",
     "status": "completed"
    },
    "tags": []
   },
   "source": [
    "## ADF test\n",
    "\n",
    "The ADF test is done by the `adfuller` function in `statsmodels`. (cf. https://www.statsmodels.org/dev/generated/statsmodels.tsa.stattools.adfuller.html)"
   ]
  },
  {
   "cell_type": "code",
   "execution_count": 2,
   "id": "4eb3103c",
   "metadata": {
    "execution": {
     "iopub.execute_input": "2022-04-01T08:48:10.591674Z",
     "iopub.status.busy": "2022-04-01T08:48:10.591119Z",
     "iopub.status.idle": "2022-04-01T08:48:20.866399Z",
     "shell.execute_reply": "2022-04-01T08:48:20.865559Z",
     "shell.execute_reply.started": "2021-12-03T06:36:10.163450Z"
    },
    "papermill": {
     "duration": 10.36918,
     "end_time": "2022-04-01T08:48:20.866558",
     "exception": false,
     "start_time": "2022-04-01T08:48:10.497378",
     "status": "completed"
    },
    "tags": []
   },
   "outputs": [],
   "source": [
    "cl_1st = BacktestEngine(instrument='CL', log_level=logging.WARN)\n",
    "cl_1st.run()"
   ]
  },
  {
   "cell_type": "code",
   "execution_count": 3,
   "id": "9910ecff",
   "metadata": {
    "execution": {
     "iopub.execute_input": "2022-04-01T08:48:21.053227Z",
     "iopub.status.busy": "2022-04-01T08:48:21.052158Z",
     "iopub.status.idle": "2022-04-01T08:48:32.097991Z",
     "shell.execute_reply": "2022-04-01T08:48:32.098656Z",
     "shell.execute_reply.started": "2021-12-03T06:36:18.338428Z"
    },
    "papermill": {
     "duration": 11.140443,
     "end_time": "2022-04-01T08:48:32.098852",
     "exception": false,
     "start_time": "2022-04-01T08:48:20.958409",
     "status": "completed"
    },
    "tags": []
   },
   "outputs": [],
   "source": [
    "ho_1st = BacktestEngine(instrument='HO', log_level=logging.WARN)\n",
    "ho_1st.run()"
   ]
  },
  {
   "cell_type": "code",
   "execution_count": 4,
   "id": "32cec4c3",
   "metadata": {
    "execution": {
     "iopub.execute_input": "2022-04-01T08:48:32.255216Z",
     "iopub.status.busy": "2022-04-01T08:48:32.254395Z",
     "iopub.status.idle": "2022-04-01T08:48:41.996067Z",
     "shell.execute_reply": "2022-04-01T08:48:41.996680Z",
     "shell.execute_reply.started": "2021-12-03T06:36:25.919037Z"
    },
    "papermill": {
     "duration": 9.823783,
     "end_time": "2022-04-01T08:48:41.996858",
     "exception": false,
     "start_time": "2022-04-01T08:48:32.173075",
     "status": "completed"
    },
    "tags": []
   },
   "outputs": [],
   "source": [
    "xb_1st = BacktestEngine(instrument='XB', log_level=logging.WARN)\n",
    "xb_1st.run()"
   ]
  },
  {
   "cell_type": "code",
   "execution_count": 5,
   "id": "a602ffe8",
   "metadata": {
    "execution": {
     "iopub.execute_input": "2022-04-01T08:48:42.195871Z",
     "iopub.status.busy": "2022-04-01T08:48:42.192093Z",
     "iopub.status.idle": "2022-04-01T08:49:02.152114Z",
     "shell.execute_reply": "2022-04-01T08:49:02.152676Z",
     "shell.execute_reply.started": "2021-12-03T06:36:32.982734Z"
    },
    "papermill": {
     "duration": 20.068478,
     "end_time": "2022-04-01T08:49:02.152842",
     "exception": false,
     "start_time": "2022-04-01T08:48:42.084364",
     "status": "completed"
    },
    "tags": []
   },
   "outputs": [],
   "source": [
    "cl_price = cl_1st.get_generic_price().squeeze().fillna(method='pad').rename('Crude oil')\n",
    "ho_price = ho_1st.get_generic_price().squeeze().fillna(method='pad').rename('Heating oil')\n",
    "xb_price = xb_1st.get_generic_price().squeeze().fillna(method='pad').rename('Gasoline')"
   ]
  },
  {
   "cell_type": "code",
   "execution_count": 6,
   "id": "81a1c9be",
   "metadata": {
    "execution": {
     "iopub.execute_input": "2022-04-01T08:49:02.332522Z",
     "iopub.status.busy": "2022-04-01T08:49:02.331706Z",
     "iopub.status.idle": "2022-04-01T08:49:02.333377Z",
     "shell.execute_reply": "2022-04-01T08:49:02.334204Z",
     "shell.execute_reply.started": "2021-12-03T06:36:47.351540Z"
    },
    "papermill": {
     "duration": 0.093644,
     "end_time": "2022-04-01T08:49:02.334498",
     "exception": false,
     "start_time": "2022-04-01T08:49:02.240854",
     "status": "completed"
    },
    "tags": []
   },
   "outputs": [],
   "source": [
    "def adf(ts: pd.Series, **kwargs) -> pd.Series:\n",
    "    \"\"\" Run the ADF test and return a cleaned result \"\"\"\n",
    "    adf_result = sm.tsa.stattools.adfuller(ts, **kwargs)\n",
    "    cleaned = {\n",
    "        'adf': adf_result[0],\n",
    "        'p_value': adf_result[1],\n",
    "        'used_lag': adf_result[2],\n",
    "        'n_obs': adf_result[3],\n",
    "        'ci_0.01': adf_result[4]['1%'],\n",
    "        'ci_0.05': adf_result[4]['5%'],\n",
    "        'ci_0.1': adf_result[4]['10%'],\n",
    "        'ic_best': adf_result[5],\n",
    "    }\n",
    "    return pd.Series(cleaned, name=ts.name)"
   ]
  },
  {
   "cell_type": "markdown",
   "id": "73a9df64",
   "metadata": {
    "papermill": {
     "duration": 0.101903,
     "end_time": "2022-04-01T08:49:02.538282",
     "exception": false,
     "start_time": "2022-04-01T08:49:02.436379",
     "status": "completed"
    },
    "tags": []
   },
   "source": [
    "GP1999 uses Schwarz's information criterion (i.e., BIC) to select the optimal number of lags included in the ADF test."
   ]
  },
  {
   "cell_type": "code",
   "execution_count": 7,
   "id": "b69649d6",
   "metadata": {
    "execution": {
     "iopub.execute_input": "2022-04-01T08:49:02.744568Z",
     "iopub.status.busy": "2022-04-01T08:49:02.743731Z",
     "iopub.status.idle": "2022-04-01T08:49:04.946763Z",
     "shell.execute_reply": "2022-04-01T08:49:04.947728Z",
     "shell.execute_reply.started": "2021-12-03T06:36:47.357535Z"
    },
    "papermill": {
     "duration": 2.309129,
     "end_time": "2022-04-01T08:49:04.947897",
     "exception": false,
     "start_time": "2022-04-01T08:49:02.638768",
     "status": "completed"
    },
    "tags": []
   },
   "outputs": [],
   "source": [
    "adf_result = pd.concat((\n",
    "    adf(cl_price['1983-04':'1994-11'], autolag='BIC').to_frame().T,\n",
    "    adf(ho_price['1983-04':'1994-11'], autolag='BIC').to_frame().T,\n",
    "    adf(xb_price['1984-12':'1994-11'], autolag='BIC').to_frame().T,\n",
    "))"
   ]
  },
  {
   "cell_type": "markdown",
   "id": "1396f87e",
   "metadata": {
    "papermill": {
     "duration": 0.095111,
     "end_time": "2022-04-01T08:49:05.158773",
     "exception": false,
     "start_time": "2022-04-01T08:49:05.063662",
     "status": "completed"
    },
    "tags": []
   },
   "source": [
    "In the ADF test, $H_0$ is that the time-series is non-stationary. Based on this result below, $H_0$ cannot be rejected for crude oil, however is rejected for heating oil and gasoline at the 10% and 5% level respectively.\n",
    "\n",
    "This is interesting because usually almost always asset prices are non-stationary."
   ]
  },
  {
   "cell_type": "code",
   "execution_count": 8,
   "id": "3655e953",
   "metadata": {
    "execution": {
     "iopub.execute_input": "2022-04-01T08:49:05.344615Z",
     "iopub.status.busy": "2022-04-01T08:49:05.336996Z",
     "iopub.status.idle": "2022-04-01T08:49:05.375033Z",
     "shell.execute_reply": "2022-04-01T08:49:05.375715Z",
     "shell.execute_reply.started": "2021-12-03T06:36:48.064712Z"
    },
    "papermill": {
     "duration": 0.130888,
     "end_time": "2022-04-01T08:49:05.375934",
     "exception": false,
     "start_time": "2022-04-01T08:49:05.245046",
     "status": "completed"
    },
    "tags": []
   },
   "outputs": [
    {
     "data": {
      "text/html": [
       "<div>\n",
       "<style scoped>\n",
       "    .dataframe tbody tr th:only-of-type {\n",
       "        vertical-align: middle;\n",
       "    }\n",
       "\n",
       "    .dataframe tbody tr th {\n",
       "        vertical-align: top;\n",
       "    }\n",
       "\n",
       "    .dataframe thead th {\n",
       "        text-align: right;\n",
       "    }\n",
       "</style>\n",
       "<table border=\"1\" class=\"dataframe\">\n",
       "  <thead>\n",
       "    <tr style=\"text-align: right;\">\n",
       "      <th></th>\n",
       "      <th>adf</th>\n",
       "      <th>p_value</th>\n",
       "      <th>used_lag</th>\n",
       "      <th>n_obs</th>\n",
       "      <th>ci_0.01</th>\n",
       "      <th>ci_0.05</th>\n",
       "      <th>ci_0.1</th>\n",
       "      <th>ic_best</th>\n",
       "    </tr>\n",
       "  </thead>\n",
       "  <tbody>\n",
       "    <tr>\n",
       "      <th>Crude oil</th>\n",
       "      <td>-2.185213</td>\n",
       "      <td>0.211656</td>\n",
       "      <td>8.0</td>\n",
       "      <td>2924.0</td>\n",
       "      <td>-3.432588</td>\n",
       "      <td>-2.862529</td>\n",
       "      <td>-2.567296</td>\n",
       "      <td>4195.186424</td>\n",
       "    </tr>\n",
       "    <tr>\n",
       "      <th>Heating oil</th>\n",
       "      <td>-2.743636</td>\n",
       "      <td>0.066787</td>\n",
       "      <td>3.0</td>\n",
       "      <td>2929.0</td>\n",
       "      <td>-3.432585</td>\n",
       "      <td>-2.862527</td>\n",
       "      <td>-2.567296</td>\n",
       "      <td>-15763.929006</td>\n",
       "    </tr>\n",
       "    <tr>\n",
       "      <th>Gasoline</th>\n",
       "      <td>-3.003758</td>\n",
       "      <td>0.034545</td>\n",
       "      <td>3.0</td>\n",
       "      <td>2510.0</td>\n",
       "      <td>-3.432958</td>\n",
       "      <td>-2.862692</td>\n",
       "      <td>-2.567383</td>\n",
       "      <td>-14006.551367</td>\n",
       "    </tr>\n",
       "  </tbody>\n",
       "</table>\n",
       "</div>"
      ],
      "text/plain": [
       "                  adf   p_value  used_lag   n_obs   ci_0.01   ci_0.05  \\\n",
       "Crude oil   -2.185213  0.211656       8.0  2924.0 -3.432588 -2.862529   \n",
       "Heating oil -2.743636  0.066787       3.0  2929.0 -3.432585 -2.862527   \n",
       "Gasoline    -3.003758  0.034545       3.0  2510.0 -3.432958 -2.862692   \n",
       "\n",
       "               ci_0.1       ic_best  \n",
       "Crude oil   -2.567296   4195.186424  \n",
       "Heating oil -2.567296 -15763.929006  \n",
       "Gasoline    -2.567383 -14006.551367  "
      ]
     },
     "execution_count": 8,
     "metadata": {},
     "output_type": "execute_result"
    }
   ],
   "source": [
    "adf_result"
   ]
  },
  {
   "cell_type": "markdown",
   "id": "cb465c0a",
   "metadata": {
    "papermill": {
     "duration": 0.081052,
     "end_time": "2022-04-01T08:49:05.553176",
     "exception": false,
     "start_time": "2022-04-01T08:49:05.472124",
     "status": "completed"
    },
    "tags": []
   },
   "source": [
    "Probably it is to do with the sampling period. It may look a stationary process especially after 1986, however clearly it is heteroskedastic and the price move in 1986 seems like a shift in the level."
   ]
  },
  {
   "cell_type": "code",
   "execution_count": 9,
   "id": "11339aae",
   "metadata": {
    "execution": {
     "iopub.execute_input": "2022-04-01T08:49:05.699851Z",
     "iopub.status.busy": "2022-04-01T08:49:05.695381Z",
     "iopub.status.idle": "2022-04-01T08:49:06.115591Z",
     "shell.execute_reply": "2022-04-01T08:49:06.116025Z",
     "shell.execute_reply.started": "2021-12-03T06:36:48.107910Z"
    },
    "papermill": {
     "duration": 0.499737,
     "end_time": "2022-04-01T08:49:06.116160",
     "exception": false,
     "start_time": "2022-04-01T08:49:05.616423",
     "status": "completed"
    },
    "tags": []
   },
   "outputs": [
    {
     "data": {
      "image/png": "[encoded data removed]",
      "text/plain": [
       "<Figure size 576x360 with 2 Axes>"
      ]
     },
     "metadata": {
      "needs_background": "light"
     },
     "output_type": "display_data"
    }
   ],
   "source": [
    "fig, ax = plt.subplots(figsize=(8, 5))\n",
    "pd.concat((\n",
    "    cl_price['1983-04':'1994-11'],\n",
    "    ho_price['1983-04':'1994-11'],\n",
    "    xb_price['1984-12':'1994-11'],\n",
    "), axis=1).plot(secondary_y=['Heating oil', 'Gasoline'], ax=ax);\n",
    "ax.set_title('Futures prices (generic 1st)');"
   ]
  },
  {
   "cell_type": "markdown",
   "id": "47068957",
   "metadata": {
    "papermill": {
     "duration": 0.067187,
     "end_time": "2022-04-01T08:49:06.251576",
     "exception": false,
     "start_time": "2022-04-01T08:49:06.184389",
     "status": "completed"
    },
    "tags": []
   },
   "source": [
    "In fact, in the long-run $H_0$ cannot be rejected for all contracts based on both BIC and AIC."
   ]
  },
  {
   "cell_type": "code",
   "execution_count": 10,
   "id": "47dcef74",
   "metadata": {
    "execution": {
     "iopub.execute_input": "2022-04-01T08:49:06.408773Z",
     "iopub.status.busy": "2022-04-01T08:49:06.408178Z",
     "iopub.status.idle": "2022-04-01T08:49:11.375150Z",
     "shell.execute_reply": "2022-04-01T08:49:11.376008Z",
     "shell.execute_reply.started": "2021-12-03T06:36:48.435839Z"
    },
    "papermill": {
     "duration": 5.049431,
     "end_time": "2022-04-01T08:49:11.376204",
     "exception": false,
     "start_time": "2022-04-01T08:49:06.326773",
     "status": "completed"
    },
    "tags": []
   },
   "outputs": [
    {
     "data": {
      "text/html": [
       "<div>\n",
       "<style scoped>\n",
       "    .dataframe tbody tr th:only-of-type {\n",
       "        vertical-align: middle;\n",
       "    }\n",
       "\n",
       "    .dataframe tbody tr th {\n",
       "        vertical-align: top;\n",
       "    }\n",
       "\n",
       "    .dataframe thead th {\n",
       "        text-align: right;\n",
       "    }\n",
       "</style>\n",
       "<table border=\"1\" class=\"dataframe\">\n",
       "  <thead>\n",
       "    <tr style=\"text-align: right;\">\n",
       "      <th></th>\n",
       "      <th>adf</th>\n",
       "      <th>p_value</th>\n",
       "      <th>used_lag</th>\n",
       "      <th>n_obs</th>\n",
       "      <th>ci_0.01</th>\n",
       "      <th>ci_0.05</th>\n",
       "      <th>ci_0.1</th>\n",
       "      <th>ic_best</th>\n",
       "    </tr>\n",
       "  </thead>\n",
       "  <tbody>\n",
       "    <tr>\n",
       "      <th>Crude oil</th>\n",
       "      <td>-1.408779</td>\n",
       "      <td>0.578060</td>\n",
       "      <td>1.0</td>\n",
       "      <td>9795.0</td>\n",
       "      <td>-3.431018</td>\n",
       "      <td>-2.861835</td>\n",
       "      <td>-2.566927</td>\n",
       "      <td>30134.328161</td>\n",
       "    </tr>\n",
       "    <tr>\n",
       "      <th>Heating oil</th>\n",
       "      <td>-0.770261</td>\n",
       "      <td>0.827702</td>\n",
       "      <td>7.0</td>\n",
       "      <td>9790.0</td>\n",
       "      <td>-3.431018</td>\n",
       "      <td>-2.861835</td>\n",
       "      <td>-2.566927</td>\n",
       "      <td>-38718.589431</td>\n",
       "    </tr>\n",
       "    <tr>\n",
       "      <th>Gasoline</th>\n",
       "      <td>-1.486512</td>\n",
       "      <td>0.540173</td>\n",
       "      <td>0.0</td>\n",
       "      <td>9377.0</td>\n",
       "      <td>-3.431048</td>\n",
       "      <td>-2.861848</td>\n",
       "      <td>-2.566934</td>\n",
       "      <td>-36236.464489</td>\n",
       "    </tr>\n",
       "  </tbody>\n",
       "</table>\n",
       "</div>"
      ],
      "text/plain": [
       "                  adf   p_value  used_lag   n_obs   ci_0.01   ci_0.05  \\\n",
       "Crude oil   -1.408779  0.578060       1.0  9795.0 -3.431018 -2.861835   \n",
       "Heating oil -0.770261  0.827702       7.0  9790.0 -3.431018 -2.861835   \n",
       "Gasoline    -1.486512  0.540173       0.0  9377.0 -3.431048 -2.861848   \n",
       "\n",
       "               ci_0.1       ic_best  \n",
       "Crude oil   -2.566927  30134.328161  \n",
       "Heating oil -2.566927 -38718.589431  \n",
       "Gasoline    -2.566934 -36236.464489  "
      ]
     },
     "execution_count": 10,
     "metadata": {},
     "output_type": "execute_result"
    }
   ],
   "source": [
    "pd.concat((\n",
    "    adf(cl_price['1983-04':], autolag='BIC').to_frame().T,\n",
    "    adf(ho_price['1983-04':], autolag='BIC').to_frame().T,\n",
    "    adf(xb_price['1984-12':], autolag='BIC').to_frame().T,\n",
    "))"
   ]
  },
  {
   "cell_type": "code",
   "execution_count": 11,
   "id": "6cda4738",
   "metadata": {
    "execution": {
     "iopub.execute_input": "2022-04-01T08:49:11.580787Z",
     "iopub.status.busy": "2022-04-01T08:49:11.580213Z",
     "iopub.status.idle": "2022-04-01T08:49:14.679739Z",
     "shell.execute_reply": "2022-04-01T08:49:14.680719Z",
     "shell.execute_reply.started": "2021-12-03T06:36:50.823809Z"
    },
    "papermill": {
     "duration": 3.197482,
     "end_time": "2022-04-01T08:49:14.680919",
     "exception": false,
     "start_time": "2022-04-01T08:49:11.483437",
     "status": "completed"
    },
    "tags": []
   },
   "outputs": [
    {
     "data": {
      "text/html": [
       "<div>\n",
       "<style scoped>\n",
       "    .dataframe tbody tr th:only-of-type {\n",
       "        vertical-align: middle;\n",
       "    }\n",
       "\n",
       "    .dataframe tbody tr th {\n",
       "        vertical-align: top;\n",
       "    }\n",
       "\n",
       "    .dataframe thead th {\n",
       "        text-align: right;\n",
       "    }\n",
       "</style>\n",
       "<table border=\"1\" class=\"dataframe\">\n",
       "  <thead>\n",
       "    <tr style=\"text-align: right;\">\n",
       "      <th></th>\n",
       "      <th>adf</th>\n",
       "      <th>p_value</th>\n",
       "      <th>used_lag</th>\n",
       "      <th>n_obs</th>\n",
       "      <th>ci_0.01</th>\n",
       "      <th>ci_0.05</th>\n",
       "      <th>ci_0.1</th>\n",
       "      <th>ic_best</th>\n",
       "    </tr>\n",
       "  </thead>\n",
       "  <tbody>\n",
       "    <tr>\n",
       "      <th>Crude oil</th>\n",
       "      <td>-1.826790</td>\n",
       "      <td>0.367245</td>\n",
       "      <td>28.0</td>\n",
       "      <td>9768.0</td>\n",
       "      <td>-3.431020</td>\n",
       "      <td>-2.861836</td>\n",
       "      <td>-2.566928</td>\n",
       "      <td>30055.174556</td>\n",
       "    </tr>\n",
       "    <tr>\n",
       "      <th>Heating oil</th>\n",
       "      <td>-0.927572</td>\n",
       "      <td>0.778757</td>\n",
       "      <td>18.0</td>\n",
       "      <td>9779.0</td>\n",
       "      <td>-3.431019</td>\n",
       "      <td>-2.861836</td>\n",
       "      <td>-2.566927</td>\n",
       "      <td>-38832.704287</td>\n",
       "    </tr>\n",
       "    <tr>\n",
       "      <th>Gasoline</th>\n",
       "      <td>-1.801466</td>\n",
       "      <td>0.379734</td>\n",
       "      <td>16.0</td>\n",
       "      <td>9361.0</td>\n",
       "      <td>-3.431049</td>\n",
       "      <td>-2.861849</td>\n",
       "      <td>-2.566934</td>\n",
       "      <td>-36271.755084</td>\n",
       "    </tr>\n",
       "  </tbody>\n",
       "</table>\n",
       "</div>"
      ],
      "text/plain": [
       "                  adf   p_value  used_lag   n_obs   ci_0.01   ci_0.05  \\\n",
       "Crude oil   -1.826790  0.367245      28.0  9768.0 -3.431020 -2.861836   \n",
       "Heating oil -0.927572  0.778757      18.0  9779.0 -3.431019 -2.861836   \n",
       "Gasoline    -1.801466  0.379734      16.0  9361.0 -3.431049 -2.861849   \n",
       "\n",
       "               ci_0.1       ic_best  \n",
       "Crude oil   -2.566928  30055.174556  \n",
       "Heating oil -2.566927 -38832.704287  \n",
       "Gasoline    -2.566934 -36271.755084  "
      ]
     },
     "execution_count": 11,
     "metadata": {},
     "output_type": "execute_result"
    }
   ],
   "source": [
    "pd.concat((\n",
    "    adf(cl_price['1983-04':], autolag='AIC').to_frame().T,\n",
    "    adf(ho_price['1983-04':], autolag='AIC').to_frame().T,\n",
    "    adf(xb_price['1984-12':], autolag='AIC').to_frame().T,\n",
    "))"
   ]
  },
  {
   "cell_type": "markdown",
   "id": "eda29bdf",
   "metadata": {
    "papermill": {
     "duration": 0.091074,
     "end_time": "2022-04-01T08:49:14.882493",
     "exception": false,
     "start_time": "2022-04-01T08:49:14.791419",
     "status": "completed"
    },
    "tags": []
   },
   "source": [
    "Test for two unit roots shows the $H_0$ is rejected for all assets so it would be safe to assume prices are all $I(1)$ processes."
   ]
  },
  {
   "cell_type": "code",
   "execution_count": 12,
   "id": "5cc64e78",
   "metadata": {
    "execution": {
     "iopub.execute_input": "2022-04-01T08:49:15.031521Z",
     "iopub.status.busy": "2022-04-01T08:49:15.030662Z",
     "iopub.status.idle": "2022-04-01T08:49:15.827198Z",
     "shell.execute_reply": "2022-04-01T08:49:15.827876Z",
     "shell.execute_reply.started": "2021-12-03T06:36:52.384428Z"
    },
    "papermill": {
     "duration": 0.878007,
     "end_time": "2022-04-01T08:49:15.828054",
     "exception": false,
     "start_time": "2022-04-01T08:49:14.950047",
     "status": "completed"
    },
    "tags": []
   },
   "outputs": [
    {
     "data": {
      "text/html": [
       "<div>\n",
       "<style scoped>\n",
       "    .dataframe tbody tr th:only-of-type {\n",
       "        vertical-align: middle;\n",
       "    }\n",
       "\n",
       "    .dataframe tbody tr th {\n",
       "        vertical-align: top;\n",
       "    }\n",
       "\n",
       "    .dataframe thead th {\n",
       "        text-align: right;\n",
       "    }\n",
       "</style>\n",
       "<table border=\"1\" class=\"dataframe\">\n",
       "  <thead>\n",
       "    <tr style=\"text-align: right;\">\n",
       "      <th></th>\n",
       "      <th>adf</th>\n",
       "      <th>p_value</th>\n",
       "      <th>used_lag</th>\n",
       "      <th>n_obs</th>\n",
       "      <th>ci_0.01</th>\n",
       "      <th>ci_0.05</th>\n",
       "      <th>ci_0.1</th>\n",
       "      <th>ic_best</th>\n",
       "    </tr>\n",
       "  </thead>\n",
       "  <tbody>\n",
       "    <tr>\n",
       "      <th>Crude oil</th>\n",
       "      <td>-22.609167</td>\n",
       "      <td>0.0</td>\n",
       "      <td>7.0</td>\n",
       "      <td>2924.0</td>\n",
       "      <td>-3.432588</td>\n",
       "      <td>-2.862529</td>\n",
       "      <td>-2.567296</td>\n",
       "      <td>4191.382386</td>\n",
       "    </tr>\n",
       "    <tr>\n",
       "      <th>Heating oil</th>\n",
       "      <td>-23.732562</td>\n",
       "      <td>0.0</td>\n",
       "      <td>7.0</td>\n",
       "      <td>2924.0</td>\n",
       "      <td>-3.432588</td>\n",
       "      <td>-2.862529</td>\n",
       "      <td>-2.567296</td>\n",
       "      <td>-15759.438574</td>\n",
       "    </tr>\n",
       "    <tr>\n",
       "      <th>Gasoline</th>\n",
       "      <td>-31.046797</td>\n",
       "      <td>0.0</td>\n",
       "      <td>2.0</td>\n",
       "      <td>2510.0</td>\n",
       "      <td>-3.432958</td>\n",
       "      <td>-2.862692</td>\n",
       "      <td>-2.567383</td>\n",
       "      <td>-13998.959272</td>\n",
       "    </tr>\n",
       "  </tbody>\n",
       "</table>\n",
       "</div>"
      ],
      "text/plain": [
       "                   adf  p_value  used_lag   n_obs   ci_0.01   ci_0.05  \\\n",
       "Crude oil   -22.609167      0.0       7.0  2924.0 -3.432588 -2.862529   \n",
       "Heating oil -23.732562      0.0       7.0  2924.0 -3.432588 -2.862529   \n",
       "Gasoline    -31.046797      0.0       2.0  2510.0 -3.432958 -2.862692   \n",
       "\n",
       "               ci_0.1       ic_best  \n",
       "Crude oil   -2.567296   4191.382386  \n",
       "Heating oil -2.567296 -15759.438574  \n",
       "Gasoline    -2.567383 -13998.959272  "
      ]
     },
     "execution_count": 12,
     "metadata": {},
     "output_type": "execute_result"
    }
   ],
   "source": [
    "pd.concat((\n",
    "    adf(cl_price['1983-04':'1994-11'].diff().dropna(), autolag='BIC').to_frame().T,\n",
    "    adf(ho_price['1983-04':'1994-11'].diff().dropna(), autolag='BIC').to_frame().T,\n",
    "    adf(xb_price['1984-12':'1994-11'].diff().dropna(), autolag='BIC').to_frame().T,\n",
    "))"
   ]
  },
  {
   "cell_type": "markdown",
   "id": "5443698a",
   "metadata": {
    "papermill": {
     "duration": 0.073836,
     "end_time": "2022-04-01T08:49:15.993337",
     "exception": false,
     "start_time": "2022-04-01T08:49:15.919501",
     "status": "completed"
    },
    "tags": []
   },
   "source": [
    "## Engle-Granger test\n",
    "\n",
    "Next, let's check if the crack spread is cointegrated. The cointegration vector is estimated by OLS and the stationarity of the residual is tested with the ADF test.\n",
    "The test is done by the `coint` function in `statsmodels`. (cf. https://www.statsmodels.org/dev/generated/statsmodels.tsa.stattools.coint.html)"
   ]
  },
  {
   "cell_type": "code",
   "execution_count": 13,
   "id": "15663029",
   "metadata": {
    "execution": {
     "iopub.execute_input": "2022-04-01T08:49:16.152290Z",
     "iopub.status.busy": "2022-04-01T08:49:16.151107Z",
     "iopub.status.idle": "2022-04-01T08:49:16.165604Z",
     "shell.execute_reply": "2022-04-01T08:49:16.164925Z",
     "shell.execute_reply.started": "2021-12-03T06:36:53.059490Z"
    },
    "papermill": {
     "duration": 0.096509,
     "end_time": "2022-04-01T08:49:16.165762",
     "exception": false,
     "start_time": "2022-04-01T08:49:16.069253",
     "status": "completed"
    },
    "tags": []
   },
   "outputs": [],
   "source": [
    "price_concat = pd.concat((\n",
    "    cl_price,\n",
    "    ho_price,\n",
    "    xb_price,\n",
    "), axis=1).fillna(method='pad').dropna()"
   ]
  },
  {
   "cell_type": "code",
   "execution_count": 14,
   "id": "cf731a5e",
   "metadata": {
    "execution": {
     "iopub.execute_input": "2022-04-01T08:49:16.347417Z",
     "iopub.status.busy": "2022-04-01T08:49:16.346868Z",
     "iopub.status.idle": "2022-04-01T08:49:16.349203Z",
     "shell.execute_reply": "2022-04-01T08:49:16.349877Z",
     "shell.execute_reply.started": "2021-12-03T06:36:53.085796Z"
    },
    "papermill": {
     "duration": 0.092752,
     "end_time": "2022-04-01T08:49:16.350093",
     "exception": false,
     "start_time": "2022-04-01T08:49:16.257341",
     "status": "completed"
    },
    "tags": []
   },
   "outputs": [],
   "source": [
    "def coint(y: pd.Series, x: pd.DataFrame) -> pd.Series:\n",
    "    \"\"\" Run the cointegration test and return a cleaned result \"\"\"\n",
    "    result = sm.tsa.stattools.coint(y, x)\n",
    "    cleaned = {\n",
    "        't_value': result[0],\n",
    "        'p_value': result[1],\n",
    "        'ci_0.01': result[2][0],\n",
    "        'ci_0.05': result[2][1],\n",
    "        'ci_0.1': result[2][2],\n",
    "    }\n",
    "    return pd.Series(cleaned)"
   ]
  },
  {
   "cell_type": "code",
   "execution_count": 15,
   "id": "4299196b",
   "metadata": {
    "execution": {
     "iopub.execute_input": "2022-04-01T08:49:16.525884Z",
     "iopub.status.busy": "2022-04-01T08:49:16.525057Z",
     "iopub.status.idle": "2022-04-01T08:49:18.283806Z",
     "shell.execute_reply": "2022-04-01T08:49:18.284888Z",
     "shell.execute_reply.started": "2021-12-03T06:36:53.097640Z"
    },
    "papermill": {
     "duration": 1.854378,
     "end_time": "2022-04-01T08:49:18.285175",
     "exception": false,
     "start_time": "2022-04-01T08:49:16.430797",
     "status": "completed"
    },
    "tags": []
   },
   "outputs": [],
   "source": [
    "coint_result = pd.concat((\n",
    "    coint(\n",
    "        price_concat.loc[:'1994-11', 'Crude oil'],\n",
    "        price_concat.loc[:'1994-11', ['Heating oil', 'Gasoline']]\n",
    "    ).to_frame('CL vs HO + XB').T,\n",
    "    coint(\n",
    "        price_concat.loc[:'1994-11', 'Crude oil'],\n",
    "        price_concat.loc[:'1994-11', ['Gasoline']]\n",
    "    ).to_frame('CL vs XB').T,\n",
    "    coint(\n",
    "        price_concat.loc[:'1994-11', 'Crude oil'],\n",
    "        price_concat.loc[:'1994-11', ['Heating oil']]\n",
    "    ).to_frame('CL vs HO').T,\n",
    "))"
   ]
  },
  {
   "cell_type": "markdown",
   "id": "ea294ded",
   "metadata": {
    "papermill": {
     "duration": 0.069227,
     "end_time": "2022-04-01T08:49:18.453491",
     "exception": false,
     "start_time": "2022-04-01T08:49:18.384264",
     "status": "completed"
    },
    "tags": []
   },
   "source": [
    "The $H_0$ is that there is no cointegration. As per GP1999, all three crack spreads are cointegrated. "
   ]
  },
  {
   "cell_type": "code",
   "execution_count": 16,
   "id": "1824345d",
   "metadata": {
    "execution": {
     "iopub.execute_input": "2022-04-01T08:49:18.601132Z",
     "iopub.status.busy": "2022-04-01T08:49:18.600200Z",
     "iopub.status.idle": "2022-04-01T08:49:18.604243Z",
     "shell.execute_reply": "2022-04-01T08:49:18.603563Z",
     "shell.execute_reply.started": "2021-12-03T06:36:54.118494Z"
    },
    "papermill": {
     "duration": 0.082904,
     "end_time": "2022-04-01T08:49:18.604399",
     "exception": false,
     "start_time": "2022-04-01T08:49:18.521495",
     "status": "completed"
    },
    "tags": []
   },
   "outputs": [
    {
     "data": {
      "text/html": [
       "<div>\n",
       "<style scoped>\n",
       "    .dataframe tbody tr th:only-of-type {\n",
       "        vertical-align: middle;\n",
       "    }\n",
       "\n",
       "    .dataframe tbody tr th {\n",
       "        vertical-align: top;\n",
       "    }\n",
       "\n",
       "    .dataframe thead th {\n",
       "        text-align: right;\n",
       "    }\n",
       "</style>\n",
       "<table border=\"1\" class=\"dataframe\">\n",
       "  <thead>\n",
       "    <tr style=\"text-align: right;\">\n",
       "      <th></th>\n",
       "      <th>t_value</th>\n",
       "      <th>p_value</th>\n",
       "      <th>ci_0.01</th>\n",
       "      <th>ci_0.05</th>\n",
       "      <th>ci_0.1</th>\n",
       "    </tr>\n",
       "  </thead>\n",
       "  <tbody>\n",
       "    <tr>\n",
       "      <th>CL vs HO + XB</th>\n",
       "      <td>-6.110715</td>\n",
       "      <td>0.000005</td>\n",
       "      <td>-4.299485</td>\n",
       "      <td>-3.744067</td>\n",
       "      <td>-3.454651</td>\n",
       "    </tr>\n",
       "    <tr>\n",
       "      <th>CL vs XB</th>\n",
       "      <td>-5.762029</td>\n",
       "      <td>0.000005</td>\n",
       "      <td>-3.900800</td>\n",
       "      <td>-3.338561</td>\n",
       "      <td>-3.046137</td>\n",
       "    </tr>\n",
       "    <tr>\n",
       "      <th>CL vs HO</th>\n",
       "      <td>-5.708354</td>\n",
       "      <td>0.000007</td>\n",
       "      <td>-3.900800</td>\n",
       "      <td>-3.338561</td>\n",
       "      <td>-3.046137</td>\n",
       "    </tr>\n",
       "  </tbody>\n",
       "</table>\n",
       "</div>"
      ],
      "text/plain": [
       "                t_value   p_value   ci_0.01   ci_0.05    ci_0.1\n",
       "CL vs HO + XB -6.110715  0.000005 -4.299485 -3.744067 -3.454651\n",
       "CL vs XB      -5.762029  0.000005 -3.900800 -3.338561 -3.046137\n",
       "CL vs HO      -5.708354  0.000007 -3.900800 -3.338561 -3.046137"
      ]
     },
     "execution_count": 16,
     "metadata": {},
     "output_type": "execute_result"
    }
   ],
   "source": [
    "coint_result"
   ]
  },
  {
   "cell_type": "markdown",
   "id": "2f816c06",
   "metadata": {
    "papermill": {
     "duration": 0.069831,
     "end_time": "2022-04-01T08:49:18.777246",
     "exception": false,
     "start_time": "2022-04-01T08:49:18.707415",
     "status": "completed"
    },
    "tags": []
   },
   "source": [
    "This seems to hold with the full sample."
   ]
  },
  {
   "cell_type": "code",
   "execution_count": 17,
   "id": "467771dc",
   "metadata": {
    "execution": {
     "iopub.execute_input": "2022-04-01T08:49:18.922665Z",
     "iopub.status.busy": "2022-04-01T08:49:18.921973Z",
     "iopub.status.idle": "2022-04-01T08:49:26.267420Z",
     "shell.execute_reply": "2022-04-01T08:49:26.268147Z",
     "shell.execute_reply.started": "2021-12-03T06:36:54.136011Z"
    },
    "papermill": {
     "duration": 7.422658,
     "end_time": "2022-04-01T08:49:26.268335",
     "exception": false,
     "start_time": "2022-04-01T08:49:18.845677",
     "status": "completed"
    },
    "tags": []
   },
   "outputs": [
    {
     "data": {
      "text/html": [
       "<div>\n",
       "<style scoped>\n",
       "    .dataframe tbody tr th:only-of-type {\n",
       "        vertical-align: middle;\n",
       "    }\n",
       "\n",
       "    .dataframe tbody tr th {\n",
       "        vertical-align: top;\n",
       "    }\n",
       "\n",
       "    .dataframe thead th {\n",
       "        text-align: right;\n",
       "    }\n",
       "</style>\n",
       "<table border=\"1\" class=\"dataframe\">\n",
       "  <thead>\n",
       "    <tr style=\"text-align: right;\">\n",
       "      <th></th>\n",
       "      <th>t_value</th>\n",
       "      <th>p_value</th>\n",
       "      <th>ci_0.01</th>\n",
       "      <th>ci_0.05</th>\n",
       "      <th>ci_0.1</th>\n",
       "    </tr>\n",
       "  </thead>\n",
       "  <tbody>\n",
       "    <tr>\n",
       "      <th>CL vs HO + XB</th>\n",
       "      <td>-4.823295</td>\n",
       "      <td>1.540654e-03</td>\n",
       "      <td>-4.295279</td>\n",
       "      <td>-3.741573</td>\n",
       "      <td>-3.452843</td>\n",
       "    </tr>\n",
       "    <tr>\n",
       "      <th>CL vs XB</th>\n",
       "      <td>-6.747665</td>\n",
       "      <td>3.376095e-08</td>\n",
       "      <td>-3.897608</td>\n",
       "      <td>-3.336781</td>\n",
       "      <td>-3.044902</td>\n",
       "    </tr>\n",
       "    <tr>\n",
       "      <th>CL vs HO</th>\n",
       "      <td>-4.668591</td>\n",
       "      <td>6.384862e-04</td>\n",
       "      <td>-3.897608</td>\n",
       "      <td>-3.336781</td>\n",
       "      <td>-3.044902</td>\n",
       "    </tr>\n",
       "  </tbody>\n",
       "</table>\n",
       "</div>"
      ],
      "text/plain": [
       "                t_value       p_value   ci_0.01   ci_0.05    ci_0.1\n",
       "CL vs HO + XB -4.823295  1.540654e-03 -4.295279 -3.741573 -3.452843\n",
       "CL vs XB      -6.747665  3.376095e-08 -3.897608 -3.336781 -3.044902\n",
       "CL vs HO      -4.668591  6.384862e-04 -3.897608 -3.336781 -3.044902"
      ]
     },
     "execution_count": 17,
     "metadata": {},
     "output_type": "execute_result"
    }
   ],
   "source": [
    "pd.concat((\n",
    "    coint(\n",
    "        price_concat.loc[:, 'Crude oil'],\n",
    "        price_concat.loc[:, ['Heating oil', 'Gasoline']]\n",
    "    ).to_frame('CL vs HO + XB').T,\n",
    "    coint(\n",
    "        price_concat.loc[:, 'Crude oil'],\n",
    "        price_concat.loc[:, ['Gasoline']]\n",
    "    ).to_frame('CL vs XB').T,\n",
    "    coint(\n",
    "        price_concat.loc[:, 'Crude oil'],\n",
    "        price_concat.loc[:, ['Heating oil']]\n",
    "    ).to_frame('CL vs HO').T,\n",
    "))"
   ]
  },
  {
   "cell_type": "markdown",
   "id": "9107b072",
   "metadata": {
    "papermill": {
     "duration": 0.093891,
     "end_time": "2022-04-01T08:49:26.455343",
     "exception": false,
     "start_time": "2022-04-01T08:49:26.361452",
     "status": "completed"
    },
    "tags": []
   },
   "source": [
    "However the confidence level is somewhat weakend with recent data although they are at least still cointegrated at the 5% level."
   ]
  },
  {
   "cell_type": "code",
   "execution_count": 18,
   "id": "3898183b",
   "metadata": {
    "execution": {
     "iopub.execute_input": "2022-04-01T08:49:26.634234Z",
     "iopub.status.busy": "2022-04-01T08:49:26.613961Z",
     "iopub.status.idle": "2022-04-01T08:49:28.446692Z",
     "shell.execute_reply": "2022-04-01T08:49:28.447316Z",
     "shell.execute_reply.started": "2021-12-03T06:36:58.651001Z"
    },
    "papermill": {
     "duration": 1.921787,
     "end_time": "2022-04-01T08:49:28.447513",
     "exception": false,
     "start_time": "2022-04-01T08:49:26.525726",
     "status": "completed"
    },
    "tags": []
   },
   "outputs": [
    {
     "data": {
      "text/html": [
       "<div>\n",
       "<style scoped>\n",
       "    .dataframe tbody tr th:only-of-type {\n",
       "        vertical-align: middle;\n",
       "    }\n",
       "\n",
       "    .dataframe tbody tr th {\n",
       "        vertical-align: top;\n",
       "    }\n",
       "\n",
       "    .dataframe thead th {\n",
       "        text-align: right;\n",
       "    }\n",
       "</style>\n",
       "<table border=\"1\" class=\"dataframe\">\n",
       "  <thead>\n",
       "    <tr style=\"text-align: right;\">\n",
       "      <th></th>\n",
       "      <th>t_value</th>\n",
       "      <th>p_value</th>\n",
       "      <th>ci_0.01</th>\n",
       "      <th>ci_0.05</th>\n",
       "      <th>ci_0.1</th>\n",
       "    </tr>\n",
       "  </thead>\n",
       "  <tbody>\n",
       "    <tr>\n",
       "      <th>CL vs HO + XB</th>\n",
       "      <td>-3.873304</td>\n",
       "      <td>0.035179</td>\n",
       "      <td>-4.298423</td>\n",
       "      <td>-3.743437</td>\n",
       "      <td>-3.454195</td>\n",
       "    </tr>\n",
       "    <tr>\n",
       "      <th>CL vs XB</th>\n",
       "      <td>-4.778381</td>\n",
       "      <td>0.000412</td>\n",
       "      <td>-3.899994</td>\n",
       "      <td>-3.338111</td>\n",
       "      <td>-3.045825</td>\n",
       "    </tr>\n",
       "    <tr>\n",
       "      <th>CL vs HO</th>\n",
       "      <td>-3.842193</td>\n",
       "      <td>0.011898</td>\n",
       "      <td>-3.899994</td>\n",
       "      <td>-3.338111</td>\n",
       "      <td>-3.045825</td>\n",
       "    </tr>\n",
       "  </tbody>\n",
       "</table>\n",
       "</div>"
      ],
      "text/plain": [
       "                t_value   p_value   ci_0.01   ci_0.05    ci_0.1\n",
       "CL vs HO + XB -3.873304  0.035179 -4.298423 -3.743437 -3.454195\n",
       "CL vs XB      -4.778381  0.000412 -3.899994 -3.338111 -3.045825\n",
       "CL vs HO      -3.842193  0.011898 -3.899994 -3.338111 -3.045825"
      ]
     },
     "execution_count": 18,
     "metadata": {},
     "output_type": "execute_result"
    }
   ],
   "source": [
    "pd.concat((\n",
    "    coint(\n",
    "        price_concat.loc['2010':, 'Crude oil'],\n",
    "        price_concat.loc['2010':, ['Heating oil', 'Gasoline']]\n",
    "    ).to_frame('CL vs HO + XB').T,\n",
    "    coint(\n",
    "        price_concat.loc['2010':, 'Crude oil'],\n",
    "        price_concat.loc['2010':, ['Gasoline']]\n",
    "    ).to_frame('CL vs XB').T,\n",
    "    coint(\n",
    "        price_concat.loc['2010':, 'Crude oil'],\n",
    "        price_concat.loc['2010':, ['Heating oil']]\n",
    "    ).to_frame('CL vs HO').T,\n",
    "))"
   ]
  },
  {
   "cell_type": "markdown",
   "id": "f22325d0",
   "metadata": {
    "papermill": {
     "duration": 0.070869,
     "end_time": "2022-04-01T08:49:28.592725",
     "exception": false,
     "start_time": "2022-04-01T08:49:28.521856",
     "status": "completed"
    },
    "tags": []
   },
   "source": [
    "## Crack spreads\n",
    "\n",
    "Additionally, GP1999 tests the stationarity of the popularly traded crack spread -- 3:2:1 crack spread (CS), 1:1:0 gasoline crack spread (GCS) and 1:0:1 heating oil crack spread (HOCS).\n",
    "\n",
    "Note that the crude oil contract is priced in barrels while the other two are priced in gallon, and there are 42 gallons per 1 barrel. Some unit conversions are required to calculate such spreads."
   ]
  },
  {
   "cell_type": "code",
   "execution_count": 19,
   "id": "015bb3e9",
   "metadata": {
    "execution": {
     "iopub.execute_input": "2022-04-01T08:49:28.770095Z",
     "iopub.status.busy": "2022-04-01T08:49:28.769250Z",
     "iopub.status.idle": "2022-04-01T08:49:28.772659Z",
     "shell.execute_reply": "2022-04-01T08:49:28.773288Z",
     "shell.execute_reply.started": "2021-12-03T06:37:00.212361Z"
    },
    "papermill": {
     "duration": 0.08673,
     "end_time": "2022-04-01T08:49:28.773470",
     "exception": false,
     "start_time": "2022-04-01T08:49:28.686740",
     "status": "completed"
    },
    "tags": []
   },
   "outputs": [],
   "source": [
    "cs = (price_concat['Heating oil'].mul(42).mul(2 / 3) + \n",
    "      price_concat['Gasoline'].mul(42).mul(1 / 3) - \n",
    "      price_concat['Crude oil'])\n",
    "gcs = (price_concat['Gasoline'].mul(42) - \n",
    "       price_concat['Crude oil'])\n",
    "hocs = (price_concat['Heating oil'].mul(42) - \n",
    "        price_concat['Crude oil'])"
   ]
  },
  {
   "cell_type": "markdown",
   "id": "6608463f",
   "metadata": {
    "papermill": {
     "duration": 0.090413,
     "end_time": "2022-04-01T08:49:28.947385",
     "exception": false,
     "start_time": "2022-04-01T08:49:28.856972",
     "status": "completed"
    },
    "tags": []
   },
   "source": [
    "As can be seen visually below, these spreads appear stationary until around 2000 after which they started to drift away from a certain level. This could be related to the financialisation of commodities. There are some evidence suggesting that index investments and speculative trades influence the commodity markets. (cf https://www.ecb.europa.eu/pub/financial-stability/fsr/focus/2011/pdf/ecb~6fdfdfce1c.fsrbox201112_04.pdf)"
   ]
  },
  {
   "cell_type": "code",
   "execution_count": 20,
   "id": "0b27db24",
   "metadata": {
    "execution": {
     "iopub.execute_input": "2022-04-01T08:49:29.180464Z",
     "iopub.status.busy": "2022-04-01T08:49:29.163759Z",
     "iopub.status.idle": "2022-04-01T08:49:30.029756Z",
     "shell.execute_reply": "2022-04-01T08:49:30.030331Z",
     "shell.execute_reply.started": "2021-12-03T06:37:00.228669Z"
    },
    "papermill": {
     "duration": 0.98608,
     "end_time": "2022-04-01T08:49:30.030497",
     "exception": false,
     "start_time": "2022-04-01T08:49:29.044417",
     "status": "completed"
    },
    "tags": []
   },
   "outputs": [
    {
     "data": {
      "image/png": "[encoded data removed]",
      "text/plain": [
       "<Figure size 864x288 with 3 Axes>"
      ]
     },
     "metadata": {
      "needs_background": "light"
     },
     "output_type": "display_data"
    }
   ],
   "source": [
    "fig, ax = plt.subplots(1, 3, figsize=(12, 4), sharey=True)\n",
    "cs.plot(ax=ax[0])\n",
    "gcs.plot(ax=ax[1])\n",
    "hocs.plot(ax=ax[2])\n",
    "\n",
    "ax[0].set_title('3:2:1 crack spread')\n",
    "ax[1].set_title('1:1:0 gasoline crack spread')\n",
    "ax[2].set_title('1:0:1 heating oil crack spread')\n",
    "ax[0].set_ylabel('Crack spread ($)')\n",
    "\n",
    "fig.tight_layout();"
   ]
  },
  {
   "cell_type": "markdown",
   "id": "ddba6b40",
   "metadata": {
    "papermill": {
     "duration": 0.091435,
     "end_time": "2022-04-01T08:49:30.213660",
     "exception": false,
     "start_time": "2022-04-01T08:49:30.122225",
     "status": "completed"
    },
    "tags": []
   },
   "source": [
    "More formally, the ADF tests below show that they were stationary until Nov-1994."
   ]
  },
  {
   "cell_type": "code",
   "execution_count": 21,
   "id": "bd58dd0b",
   "metadata": {
    "execution": {
     "iopub.execute_input": "2022-04-01T08:49:30.396810Z",
     "iopub.status.busy": "2022-04-01T08:49:30.393490Z",
     "iopub.status.idle": "2022-04-01T08:49:31.628105Z",
     "shell.execute_reply": "2022-04-01T08:49:31.629660Z",
     "shell.execute_reply.started": "2021-12-03T06:37:00.926032Z"
    },
    "papermill": {
     "duration": 1.324534,
     "end_time": "2022-04-01T08:49:31.629933",
     "exception": false,
     "start_time": "2022-04-01T08:49:30.305399",
     "status": "completed"
    },
    "tags": []
   },
   "outputs": [
    {
     "data": {
      "text/html": [
       "<div>\n",
       "<style scoped>\n",
       "    .dataframe tbody tr th:only-of-type {\n",
       "        vertical-align: middle;\n",
       "    }\n",
       "\n",
       "    .dataframe tbody tr th {\n",
       "        vertical-align: top;\n",
       "    }\n",
       "\n",
       "    .dataframe thead th {\n",
       "        text-align: right;\n",
       "    }\n",
       "</style>\n",
       "<table border=\"1\" class=\"dataframe\">\n",
       "  <thead>\n",
       "    <tr style=\"text-align: right;\">\n",
       "      <th></th>\n",
       "      <th>adf</th>\n",
       "      <th>p_value</th>\n",
       "      <th>used_lag</th>\n",
       "      <th>n_obs</th>\n",
       "      <th>ci_0.01</th>\n",
       "      <th>ci_0.05</th>\n",
       "      <th>ci_0.1</th>\n",
       "      <th>ic_best</th>\n",
       "    </tr>\n",
       "  </thead>\n",
       "  <tbody>\n",
       "    <tr>\n",
       "      <th>0</th>\n",
       "      <td>-7.926287</td>\n",
       "      <td>3.611421e-12</td>\n",
       "      <td>0.0</td>\n",
       "      <td>2515.0</td>\n",
       "      <td>-3.432953</td>\n",
       "      <td>-2.86269</td>\n",
       "      <td>-2.567382</td>\n",
       "      <td>1757.165999</td>\n",
       "    </tr>\n",
       "    <tr>\n",
       "      <th>0</th>\n",
       "      <td>-5.640046</td>\n",
       "      <td>1.041538e-06</td>\n",
       "      <td>1.0</td>\n",
       "      <td>2514.0</td>\n",
       "      <td>-3.432954</td>\n",
       "      <td>-2.86269</td>\n",
       "      <td>-2.567382</td>\n",
       "      <td>2505.871051</td>\n",
       "    </tr>\n",
       "    <tr>\n",
       "      <th>0</th>\n",
       "      <td>-6.999952</td>\n",
       "      <td>7.365777e-10</td>\n",
       "      <td>0.0</td>\n",
       "      <td>2515.0</td>\n",
       "      <td>-3.432953</td>\n",
       "      <td>-2.86269</td>\n",
       "      <td>-2.567382</td>\n",
       "      <td>2815.457971</td>\n",
       "    </tr>\n",
       "  </tbody>\n",
       "</table>\n",
       "</div>"
      ],
      "text/plain": [
       "        adf       p_value  used_lag   n_obs   ci_0.01  ci_0.05    ci_0.1  \\\n",
       "0 -7.926287  3.611421e-12       0.0  2515.0 -3.432953 -2.86269 -2.567382   \n",
       "0 -5.640046  1.041538e-06       1.0  2514.0 -3.432954 -2.86269 -2.567382   \n",
       "0 -6.999952  7.365777e-10       0.0  2515.0 -3.432953 -2.86269 -2.567382   \n",
       "\n",
       "       ic_best  \n",
       "0  1757.165999  \n",
       "0  2505.871051  \n",
       "0  2815.457971  "
      ]
     },
     "execution_count": 21,
     "metadata": {},
     "output_type": "execute_result"
    }
   ],
   "source": [
    "pd.concat((\n",
    "    adf(cs[:'1994-11'], autolag='BIC').to_frame().T,\n",
    "    adf(gcs[:'1994-11'], autolag='BIC').to_frame().T,\n",
    "    adf(hocs[:'1994-11'], autolag='BIC').to_frame().T,\n",
    "))"
   ]
  },
  {
   "cell_type": "markdown",
   "id": "6e2c8692",
   "metadata": {
    "papermill": {
     "duration": 0.087932,
     "end_time": "2022-04-01T08:49:31.813171",
     "exception": false,
     "start_time": "2022-04-01T08:49:31.725239",
     "status": "completed"
    },
    "tags": []
   },
   "source": [
    "Statistically though these spreads are still stationary at the 1% confidence level even after 2000."
   ]
  },
  {
   "cell_type": "code",
   "execution_count": 22,
   "id": "d3f9d7a9",
   "metadata": {
    "execution": {
     "iopub.execute_input": "2022-04-01T08:49:32.019924Z",
     "iopub.status.busy": "2022-04-01T08:49:32.019354Z",
     "iopub.status.idle": "2022-04-01T08:49:34.431971Z",
     "shell.execute_reply": "2022-04-01T08:49:34.433918Z",
     "shell.execute_reply.started": "2021-12-03T06:37:01.658276Z"
    },
    "papermill": {
     "duration": 2.515996,
     "end_time": "2022-04-01T08:49:34.434112",
     "exception": false,
     "start_time": "2022-04-01T08:49:31.918116",
     "status": "completed"
    },
    "tags": []
   },
   "outputs": [
    {
     "data": {
      "text/html": [
       "<div>\n",
       "<style scoped>\n",
       "    .dataframe tbody tr th:only-of-type {\n",
       "        vertical-align: middle;\n",
       "    }\n",
       "\n",
       "    .dataframe tbody tr th {\n",
       "        vertical-align: top;\n",
       "    }\n",
       "\n",
       "    .dataframe thead th {\n",
       "        text-align: right;\n",
       "    }\n",
       "</style>\n",
       "<table border=\"1\" class=\"dataframe\">\n",
       "  <thead>\n",
       "    <tr style=\"text-align: right;\">\n",
       "      <th></th>\n",
       "      <th>adf</th>\n",
       "      <th>p_value</th>\n",
       "      <th>used_lag</th>\n",
       "      <th>n_obs</th>\n",
       "      <th>ci_0.01</th>\n",
       "      <th>ci_0.05</th>\n",
       "      <th>ci_0.1</th>\n",
       "      <th>ic_best</th>\n",
       "    </tr>\n",
       "  </thead>\n",
       "  <tbody>\n",
       "    <tr>\n",
       "      <th>0</th>\n",
       "      <td>-2.252282</td>\n",
       "      <td>0.187820</td>\n",
       "      <td>8.0</td>\n",
       "      <td>5579.0</td>\n",
       "      <td>-3.431523</td>\n",
       "      <td>-2.862058</td>\n",
       "      <td>-2.567046</td>\n",
       "      <td>14307.364172</td>\n",
       "    </tr>\n",
       "    <tr>\n",
       "      <th>0</th>\n",
       "      <td>-5.188935</td>\n",
       "      <td>0.000009</td>\n",
       "      <td>0.0</td>\n",
       "      <td>5587.0</td>\n",
       "      <td>-3.431521</td>\n",
       "      <td>-2.862057</td>\n",
       "      <td>-2.567045</td>\n",
       "      <td>17536.489187</td>\n",
       "    </tr>\n",
       "    <tr>\n",
       "      <th>0</th>\n",
       "      <td>-2.148447</td>\n",
       "      <td>0.225485</td>\n",
       "      <td>8.0</td>\n",
       "      <td>5579.0</td>\n",
       "      <td>-3.431523</td>\n",
       "      <td>-2.862058</td>\n",
       "      <td>-2.567046</td>\n",
       "      <td>15679.571973</td>\n",
       "    </tr>\n",
       "  </tbody>\n",
       "</table>\n",
       "</div>"
      ],
      "text/plain": [
       "        adf   p_value  used_lag   n_obs   ci_0.01   ci_0.05    ci_0.1  \\\n",
       "0 -2.252282  0.187820       8.0  5579.0 -3.431523 -2.862058 -2.567046   \n",
       "0 -5.188935  0.000009       0.0  5587.0 -3.431521 -2.862057 -2.567045   \n",
       "0 -2.148447  0.225485       8.0  5579.0 -3.431523 -2.862058 -2.567046   \n",
       "\n",
       "        ic_best  \n",
       "0  14307.364172  \n",
       "0  17536.489187  \n",
       "0  15679.571973  "
      ]
     },
     "execution_count": 22,
     "metadata": {},
     "output_type": "execute_result"
    }
   ],
   "source": [
    "pd.concat((\n",
    "    adf(cs['2000':], autolag='BIC').to_frame().T,\n",
    "    adf(gcs['2000':], autolag='BIC').to_frame().T,\n",
    "    adf(hocs['2000':], autolag='BIC').to_frame().T,\n",
    "))"
   ]
  },
  {
   "cell_type": "markdown",
   "id": "eb6c197c",
   "metadata": {
    "papermill": {
     "duration": 0.105458,
     "end_time": "2022-04-01T08:49:34.641232",
     "exception": false,
     "start_time": "2022-04-01T08:49:34.535774",
     "status": "completed"
    },
    "tags": []
   },
   "source": [
    "# Backtest"
   ]
  },
  {
   "cell_type": "markdown",
   "id": "4bbb1506",
   "metadata": {
    "papermill": {
     "duration": 0.095733,
     "end_time": "2022-04-01T08:49:34.844701",
     "exception": false,
     "start_time": "2022-04-01T08:49:34.748968",
     "status": "completed"
    },
    "tags": []
   },
   "source": [
    "It's not entirely clear how many back contracts are used in the original analysis as they only mentioned they used *all spreads*. In this notebook, the first 6 contracts are used for the sake of simplicity. Beyond 6, there tends to be more missing prices because of inactivity.\n",
    "\n",
    "In practice, one might want to consider liquidity of each contract to decide which one to trade as not all contract months have the same liquidity. In the case of crude oil, after certain points only June and December contracts are actually traded even though other months are listed."
   ]
  },
  {
   "cell_type": "code",
   "execution_count": 23,
   "id": "4aebb8bd",
   "metadata": {
    "execution": {
     "iopub.execute_input": "2022-04-01T08:49:35.010328Z",
     "iopub.status.busy": "2022-04-01T08:49:35.009597Z",
     "iopub.status.idle": "2022-04-01T08:49:35.893641Z",
     "shell.execute_reply": "2022-04-01T08:49:35.894137Z",
     "shell.execute_reply.started": "2021-12-03T06:37:02.717053Z"
    },
    "papermill": {
     "duration": 0.969808,
     "end_time": "2022-04-01T08:49:35.894310",
     "exception": false,
     "start_time": "2022-04-01T08:49:34.924502",
     "status": "completed"
    },
    "tags": []
   },
   "outputs": [],
   "source": [
    "cl_curve = get_futures_curve_snapshot('CL', datetime(2021, 12, 1), 'volume')"
   ]
  },
  {
   "cell_type": "code",
   "execution_count": 24,
   "id": "c2bd035a",
   "metadata": {
    "execution": {
     "iopub.execute_input": "2022-04-01T08:49:36.072670Z",
     "iopub.status.busy": "2022-04-01T08:49:36.063020Z",
     "iopub.status.idle": "2022-04-01T08:49:36.637922Z",
     "shell.execute_reply": "2022-04-01T08:49:36.637272Z",
     "shell.execute_reply.started": "2021-12-03T06:37:03.317876Z"
    },
    "papermill": {
     "duration": 0.658281,
     "end_time": "2022-04-01T08:49:36.638037",
     "exception": false,
     "start_time": "2022-04-01T08:49:35.979756",
     "status": "completed"
    },
    "tags": []
   },
   "outputs": [
    {
     "data": {
      "image/png": "[encoded data removed]",
      "text/plain": [
       "<Figure size 1008x216 with 1 Axes>"
      ]
     },
     "metadata": {
      "needs_background": "light"
     },
     "output_type": "display_data"
    }
   ],
   "source": [
    "ax = cl_curve.loc[:'2024'].set_index('symbol')['volume'].plot(kind='bar', figsize=(14, 3));\n",
    "ax.set_ylabel('Volume')\n",
    "ax.set_title('Crude oil traded volume per contract');"
   ]
  },
  {
   "cell_type": "markdown",
   "id": "9de6acec",
   "metadata": {
    "papermill": {
     "duration": 0.096913,
     "end_time": "2022-04-01T08:49:36.812294",
     "exception": false,
     "start_time": "2022-04-01T08:49:36.715381",
     "status": "completed"
    },
    "tags": []
   },
   "source": [
    "## Crack spread\n",
    "\n",
    "First define the instruments. `roll_rule` is defined to make sure futures are rolled on month-ends. As per the analysis done for crush spreads, some arbitrary collateral of 100k USD is used to meature futures returns."
   ]
  },
  {
   "cell_type": "code",
   "execution_count": 25,
   "id": "5d159539",
   "metadata": {
    "execution": {
     "iopub.execute_input": "2022-04-01T08:49:36.968066Z",
     "iopub.status.busy": "2022-04-01T08:49:36.967429Z",
     "iopub.status.idle": "2022-04-01T08:49:36.969101Z",
     "shell.execute_reply": "2022-04-01T08:49:36.969554Z",
     "shell.execute_reply.started": "2021-12-03T06:37:03.702667Z"
    },
    "papermill": {
     "duration": 0.082815,
     "end_time": "2022-04-01T08:49:36.969697",
     "exception": false,
     "start_time": "2022-04-01T08:49:36.886882",
     "status": "completed"
    },
    "tags": []
   },
   "outputs": [],
   "source": [
    "max_expiry = 6\n",
    "instrument = []\n",
    "for i in range(1, max_expiry + 1):\n",
    "    ho = InstrumentDef('HO', id=f'HO_{i}', collateral=100_000, roll_rule=RollRule.MONTH_END.value, nth_expiry=i)\n",
    "    xb = InstrumentDef('XB', id=f'XB_{i}', collateral=100_000, roll_rule=RollRule.MONTH_END.value, nth_expiry=i)\n",
    "    cl = InstrumentDef('CL', id=f'CL_{i}', collateral=100_000, roll_rule=RollRule.MONTH_END.value, nth_expiry=i)\n",
    "    instrument.append(ho)\n",
    "    instrument.append(xb)\n",
    "    instrument.append(cl)"
   ]
  },
  {
   "cell_type": "code",
   "execution_count": 26,
   "id": "19851a3b",
   "metadata": {
    "execution": {
     "iopub.execute_input": "2022-04-01T08:49:37.132113Z",
     "iopub.status.busy": "2022-04-01T08:49:37.131335Z",
     "iopub.status.idle": "2022-04-01T08:49:37.134192Z",
     "shell.execute_reply": "2022-04-01T08:49:37.134852Z",
     "shell.execute_reply.started": "2021-12-03T06:37:03.708075Z"
    },
    "papermill": {
     "duration": 0.090317,
     "end_time": "2022-04-01T08:49:37.135041",
     "exception": false,
     "start_time": "2022-04-01T08:49:37.044724",
     "status": "completed"
    },
    "tags": []
   },
   "outputs": [
    {
     "data": {
      "text/plain": [
       "18"
      ]
     },
     "execution_count": 26,
     "metadata": {},
     "output_type": "execute_result"
    }
   ],
   "source": [
    "len(instrument)"
   ]
  },
  {
   "cell_type": "code",
   "execution_count": 27,
   "id": "729399c3",
   "metadata": {
    "execution": {
     "iopub.execute_input": "2022-04-01T08:49:37.310026Z",
     "iopub.status.busy": "2022-04-01T08:49:37.309450Z",
     "iopub.status.idle": "2022-04-01T08:56:02.864039Z",
     "shell.execute_reply": "2022-04-01T08:56:02.864670Z",
     "shell.execute_reply.started": "2021-12-03T06:37:03.728155Z"
    },
    "papermill": {
     "duration": 385.644561,
     "end_time": "2022-04-01T08:56:02.865133",
     "exception": false,
     "start_time": "2022-04-01T08:49:37.220572",
     "status": "completed"
    },
    "tags": []
   },
   "outputs": [],
   "source": [
    "engine_cs = BacktestEngine(\n",
    "    start_date=datetime(1985, 1, 1),\n",
    "    strategy=Strategy.DELTA_ONE.value,\n",
    "    instrument=instrument,\n",
    "    signal=signal.CrackSpreadGP1999(\n",
    "        ma_lookback=5,\n",
    "        entry_sigma=2,\n",
    "    ),\n",
    "    weighting=Weighting.SUM.value,\n",
    "    log_level=logging.WARN,\n",
    ")\n",
    "engine_cs.run()"
   ]
  },
  {
   "cell_type": "code",
   "execution_count": 28,
   "id": "f08e3ad6",
   "metadata": {
    "execution": {
     "iopub.execute_input": "2022-04-01T08:56:03.161680Z",
     "iopub.status.busy": "2022-04-01T08:56:03.065591Z",
     "iopub.status.idle": "2022-04-01T08:57:31.501299Z",
     "shell.execute_reply": "2022-04-01T08:57:31.501968Z",
     "shell.execute_reply.started": "2021-12-03T06:42:16.903750Z"
    },
    "papermill": {
     "duration": 88.534724,
     "end_time": "2022-04-01T08:57:31.502212",
     "exception": false,
     "start_time": "2022-04-01T08:56:02.967488",
     "status": "completed"
    },
    "tags": []
   },
   "outputs": [],
   "source": [
    "levels_cs = engine_cs.calculate_equity_curve(calculate_net=False).rename('Crack spread')"
   ]
  },
  {
   "cell_type": "markdown",
   "id": "46f2eaf9",
   "metadata": {
    "papermill": {
     "duration": 0.087981,
     "end_time": "2022-04-01T08:57:31.700263",
     "exception": false,
     "start_time": "2022-04-01T08:57:31.612282",
     "status": "completed"
    },
    "tags": []
   },
   "source": [
    "## Gasoline crack spread"
   ]
  },
  {
   "cell_type": "code",
   "execution_count": 29,
   "id": "ea2825c3",
   "metadata": {
    "execution": {
     "iopub.execute_input": "2022-04-01T08:57:31.858177Z",
     "iopub.status.busy": "2022-04-01T08:57:31.855783Z",
     "iopub.status.idle": "2022-04-01T08:57:31.860234Z",
     "shell.execute_reply": "2022-04-01T08:57:31.860683Z",
     "shell.execute_reply.started": "2021-12-03T06:43:30.816159Z"
    },
    "papermill": {
     "duration": 0.085862,
     "end_time": "2022-04-01T08:57:31.860818",
     "exception": false,
     "start_time": "2022-04-01T08:57:31.774956",
     "status": "completed"
    },
    "tags": []
   },
   "outputs": [],
   "source": [
    "max_expiry = 6\n",
    "instrument = []\n",
    "for i in range(1, max_expiry + 1):\n",
    "    xb = InstrumentDef('XB', id=f'XB_{i}', collateral=100_000, roll_rule=RollRule.MONTH_END.value, nth_expiry=i)\n",
    "    cl = InstrumentDef('CL', id=f'CL_{i}', collateral=100_000, roll_rule=RollRule.MONTH_END.value, nth_expiry=i)\n",
    "    instrument.append(xb)\n",
    "    instrument.append(cl)"
   ]
  },
  {
   "cell_type": "code",
   "execution_count": 30,
   "id": "553fbe4b",
   "metadata": {
    "execution": {
     "iopub.execute_input": "2022-04-01T08:57:32.018774Z",
     "iopub.status.busy": "2022-04-01T08:57:32.018220Z",
     "iopub.status.idle": "2022-04-01T09:01:43.300377Z",
     "shell.execute_reply": "2022-04-01T09:01:43.299840Z",
     "shell.execute_reply.started": "2021-12-03T06:43:30.820603Z"
    },
    "papermill": {
     "duration": 251.364232,
     "end_time": "2022-04-01T09:01:43.300491",
     "exception": false,
     "start_time": "2022-04-01T08:57:31.936259",
     "status": "completed"
    },
    "tags": []
   },
   "outputs": [],
   "source": [
    "engine_gcs = BacktestEngine(\n",
    "    start_date=datetime(1985, 1, 1),\n",
    "    strategy=Strategy.DELTA_ONE.value,\n",
    "    instrument=instrument,\n",
    "    signal=signal.CrackSpreadGP1999(\n",
    "        weights={'XB': 42 * 1000, 'CL': -1 * 1000},\n",
    "        ma_lookback=5,\n",
    "        entry_sigma=2,\n",
    "    ),\n",
    "    weighting=Weighting.SUM.value,\n",
    "    log_level=logging.WARN,\n",
    ")\n",
    "engine_gcs.run()"
   ]
  },
  {
   "cell_type": "code",
   "execution_count": 31,
   "id": "4d87519a",
   "metadata": {
    "execution": {
     "iopub.execute_input": "2022-04-01T09:01:44.368948Z",
     "iopub.status.busy": "2022-04-01T09:01:43.741326Z",
     "iopub.status.idle": "2022-04-01T09:02:41.608376Z",
     "shell.execute_reply": "2022-04-01T09:02:41.608796Z",
     "shell.execute_reply.started": "2021-12-03T06:46:36.439575Z"
    },
    "papermill": {
     "duration": 58.232997,
     "end_time": "2022-04-01T09:02:41.608937",
     "exception": false,
     "start_time": "2022-04-01T09:01:43.375940",
     "status": "completed"
    },
    "tags": []
   },
   "outputs": [],
   "source": [
    "levels_gcs = engine_gcs.calculate_equity_curve(calculate_net=False).rename('Gasoline crack spread')"
   ]
  },
  {
   "cell_type": "markdown",
   "id": "8d456942",
   "metadata": {
    "papermill": {
     "duration": 0.085463,
     "end_time": "2022-04-01T09:02:41.777236",
     "exception": false,
     "start_time": "2022-04-01T09:02:41.691773",
     "status": "completed"
    },
    "tags": []
   },
   "source": [
    "## Heating oil crack spread"
   ]
  },
  {
   "cell_type": "code",
   "execution_count": 32,
   "id": "9cb7c150",
   "metadata": {
    "execution": {
     "iopub.execute_input": "2022-04-01T09:02:41.928489Z",
     "iopub.status.busy": "2022-04-01T09:02:41.927930Z",
     "iopub.status.idle": "2022-04-01T09:02:41.930183Z",
     "shell.execute_reply": "2022-04-01T09:02:41.929628Z",
     "shell.execute_reply.started": "2021-12-03T06:47:22.681997Z"
    },
    "papermill": {
     "duration": 0.079737,
     "end_time": "2022-04-01T09:02:41.930294",
     "exception": false,
     "start_time": "2022-04-01T09:02:41.850557",
     "status": "completed"
    },
    "tags": []
   },
   "outputs": [],
   "source": [
    "max_expiry = 6\n",
    "instrument = []\n",
    "for i in range(1, max_expiry + 1):\n",
    "    ho = InstrumentDef('HO', id=f'HO_{i}', collateral=100_000, roll_rule=RollRule.MONTH_END.value, nth_expiry=i)\n",
    "    cl = InstrumentDef('CL', id=f'CL_{i}', collateral=100_000, roll_rule=RollRule.MONTH_END.value, nth_expiry=i)\n",
    "    instrument.append(ho)\n",
    "    instrument.append(cl)"
   ]
  },
  {
   "cell_type": "code",
   "execution_count": 33,
   "id": "9338a131",
   "metadata": {
    "execution": {
     "iopub.execute_input": "2022-04-01T09:02:42.085984Z",
     "iopub.status.busy": "2022-04-01T09:02:42.085166Z",
     "iopub.status.idle": "2022-04-01T09:06:56.813377Z",
     "shell.execute_reply": "2022-04-01T09:06:56.812655Z",
     "shell.execute_reply.started": "2021-12-03T06:47:22.686616Z"
    },
    "papermill": {
     "duration": 254.806211,
     "end_time": "2022-04-01T09:06:56.813543",
     "exception": false,
     "start_time": "2022-04-01T09:02:42.007332",
     "status": "completed"
    },
    "tags": []
   },
   "outputs": [],
   "source": [
    "engine_hocs = BacktestEngine(\n",
    "    start_date=datetime(1985, 1, 1),\n",
    "    strategy=Strategy.DELTA_ONE.value,\n",
    "    instrument=instrument,\n",
    "    signal=signal.CrackSpreadGP1999(\n",
    "        weights={'HO': 42 * 1000, 'CL': -1 * 1000},\n",
    "        ma_lookback=5,\n",
    "        entry_sigma=2,\n",
    "    ),\n",
    "    weighting=Weighting.SUM.value,\n",
    "    log_level=logging.WARN,\n",
    ")\n",
    "engine_hocs.run()"
   ]
  },
  {
   "cell_type": "code",
   "execution_count": 34,
   "id": "64757694",
   "metadata": {
    "execution": {
     "iopub.execute_input": "2022-04-01T09:06:57.260538Z",
     "iopub.status.busy": "2022-04-01T09:06:57.112353Z",
     "iopub.status.idle": "2022-04-01T09:07:52.524321Z",
     "shell.execute_reply": "2022-04-01T09:07:52.524816Z",
     "shell.execute_reply.started": "2021-12-03T06:50:35.660726Z"
    },
    "papermill": {
     "duration": 55.611039,
     "end_time": "2022-04-01T09:07:52.524963",
     "exception": false,
     "start_time": "2022-04-01T09:06:56.913924",
     "status": "completed"
    },
    "tags": []
   },
   "outputs": [],
   "source": [
    "levels_hocs = engine_hocs.calculate_equity_curve(calculate_net=False).rename('Heating oil crack spread')"
   ]
  },
  {
   "cell_type": "markdown",
   "id": "7d427481",
   "metadata": {
    "papermill": {
     "duration": 0.098276,
     "end_time": "2022-04-01T09:07:52.724498",
     "exception": false,
     "start_time": "2022-04-01T09:07:52.626222",
     "status": "completed"
    },
    "tags": []
   },
   "source": [
    "## Performance\n",
    "During the sample period tested, a mean-reversion on the crack spread worked well."
   ]
  },
  {
   "cell_type": "code",
   "execution_count": 35,
   "id": "348f0796",
   "metadata": {
    "execution": {
     "iopub.execute_input": "2022-04-01T09:07:52.894315Z",
     "iopub.status.busy": "2022-04-01T09:07:52.891905Z",
     "iopub.status.idle": "2022-04-01T09:07:52.903553Z",
     "shell.execute_reply": "2022-04-01T09:07:52.904005Z",
     "shell.execute_reply.started": "2021-12-03T06:51:19.449738Z"
    },
    "papermill": {
     "duration": 0.101123,
     "end_time": "2022-04-01T09:07:52.904154",
     "exception": false,
     "start_time": "2022-04-01T09:07:52.803031",
     "status": "completed"
    },
    "tags": []
   },
   "outputs": [],
   "source": [
    "levels = pd.concat((\n",
    "    levels_cs, levels_gcs, levels_hocs\n",
    "), axis=1)"
   ]
  },
  {
   "cell_type": "code",
   "execution_count": 36,
   "id": "c3b6f7cd",
   "metadata": {
    "execution": {
     "iopub.execute_input": "2022-04-01T09:07:53.120415Z",
     "iopub.status.busy": "2022-04-01T09:07:53.119609Z",
     "iopub.status.idle": "2022-04-01T09:07:54.021969Z",
     "shell.execute_reply": "2022-04-01T09:07:54.022403Z",
     "shell.execute_reply.started": "2021-12-03T06:51:19.460778Z"
    },
    "papermill": {
     "duration": 1.018473,
     "end_time": "2022-04-01T09:07:54.022537",
     "exception": false,
     "start_time": "2022-04-01T09:07:53.004064",
     "status": "completed"
    },
    "tags": []
   },
   "outputs": [
    {
     "data": {
      "image/png": "[encoded data removed]",
      "text/plain": [
       "<Figure size 576x324 with 1 Axes>"
      ]
     },
     "metadata": {
      "needs_background": "light"
     },
     "output_type": "display_data"
    }
   ],
   "source": [
    "fig, ax = plt.subplots(figsize=(8, 4.5))\n",
    "levels[:'1994-11'].plot(ax=ax, logy=True);\n",
    "ax.set_title('Crack spreads mean-reversion (GP1999)')\n",
    "ax.set_ylabel('Cumulative returns');"
   ]
  },
  {
   "cell_type": "code",
   "execution_count": 37,
   "id": "8b9035a4",
   "metadata": {
    "execution": {
     "iopub.execute_input": "2022-04-01T09:07:54.174385Z",
     "iopub.status.busy": "2022-04-01T09:07:54.173520Z",
     "iopub.status.idle": "2022-04-01T09:07:54.235667Z",
     "shell.execute_reply": "2022-04-01T09:07:54.236276Z",
     "shell.execute_reply.started": "2021-12-03T06:51:20.052589Z"
    },
    "papermill": {
     "duration": 0.140979,
     "end_time": "2022-04-01T09:07:54.236453",
     "exception": false,
     "start_time": "2022-04-01T09:07:54.095474",
     "status": "completed"
    },
    "tags": []
   },
   "outputs": [
    {
     "data": {
      "text/html": [
       "<div>\n",
       "<style scoped>\n",
       "    .dataframe tbody tr th:only-of-type {\n",
       "        vertical-align: middle;\n",
       "    }\n",
       "\n",
       "    .dataframe tbody tr th {\n",
       "        vertical-align: top;\n",
       "    }\n",
       "\n",
       "    .dataframe thead th {\n",
       "        text-align: right;\n",
       "    }\n",
       "</style>\n",
       "<table border=\"1\" class=\"dataframe\">\n",
       "  <thead>\n",
       "    <tr style=\"text-align: right;\">\n",
       "      <th></th>\n",
       "      <th>Crack spread</th>\n",
       "      <th>Gasoline crack spread</th>\n",
       "      <th>Heating oil crack spread</th>\n",
       "    </tr>\n",
       "  </thead>\n",
       "  <tbody>\n",
       "    <tr>\n",
       "      <th>CAGR</th>\n",
       "      <td>0.014100</td>\n",
       "      <td>0.007241</td>\n",
       "      <td>0.011715</td>\n",
       "    </tr>\n",
       "    <tr>\n",
       "      <th>Annualised vol</th>\n",
       "      <td>0.018131</td>\n",
       "      <td>0.022948</td>\n",
       "      <td>0.017725</td>\n",
       "    </tr>\n",
       "    <tr>\n",
       "      <th>Sharpe ratio</th>\n",
       "      <td>0.777675</td>\n",
       "      <td>0.315525</td>\n",
       "      <td>0.660914</td>\n",
       "    </tr>\n",
       "    <tr>\n",
       "      <th>Max drawdown</th>\n",
       "      <td>0.071648</td>\n",
       "      <td>0.129760</td>\n",
       "      <td>0.044562</td>\n",
       "    </tr>\n",
       "    <tr>\n",
       "      <th>Calmar ratio</th>\n",
       "      <td>0.196791</td>\n",
       "      <td>0.055800</td>\n",
       "      <td>0.262889</td>\n",
       "    </tr>\n",
       "    <tr>\n",
       "      <th>Skewness</th>\n",
       "      <td>0.791950</td>\n",
       "      <td>4.373877</td>\n",
       "      <td>2.076780</td>\n",
       "    </tr>\n",
       "    <tr>\n",
       "      <th>Kurtosis</th>\n",
       "      <td>45.874931</td>\n",
       "      <td>200.909353</td>\n",
       "      <td>75.098364</td>\n",
       "    </tr>\n",
       "    <tr>\n",
       "      <th>Worst return</th>\n",
       "      <td>-0.012272</td>\n",
       "      <td>-0.022322</td>\n",
       "      <td>-0.013000</td>\n",
       "    </tr>\n",
       "    <tr>\n",
       "      <th>Worst 1d return</th>\n",
       "      <td>-0.012272</td>\n",
       "      <td>-0.022322</td>\n",
       "      <td>-0.013000</td>\n",
       "    </tr>\n",
       "    <tr>\n",
       "      <th>Worst 1w return</th>\n",
       "      <td>-0.018763</td>\n",
       "      <td>-0.034413</td>\n",
       "      <td>-0.019985</td>\n",
       "    </tr>\n",
       "    <tr>\n",
       "      <th>Worst 1m return</th>\n",
       "      <td>-0.030638</td>\n",
       "      <td>-0.029017</td>\n",
       "      <td>-0.026193</td>\n",
       "    </tr>\n",
       "  </tbody>\n",
       "</table>\n",
       "</div>"
      ],
      "text/plain": [
       "                 Crack spread  Gasoline crack spread  Heating oil crack spread\n",
       "CAGR                 0.014100               0.007241                  0.011715\n",
       "Annualised vol       0.018131               0.022948                  0.017725\n",
       "Sharpe ratio         0.777675               0.315525                  0.660914\n",
       "Max drawdown         0.071648               0.129760                  0.044562\n",
       "Calmar ratio         0.196791               0.055800                  0.262889\n",
       "Skewness             0.791950               4.373877                  2.076780\n",
       "Kurtosis            45.874931             200.909353                 75.098364\n",
       "Worst return        -0.012272              -0.022322                 -0.013000\n",
       "Worst 1d return     -0.012272              -0.022322                 -0.013000\n",
       "Worst 1w return     -0.018763              -0.034413                 -0.019985\n",
       "Worst 1m return     -0.030638              -0.029017                 -0.026193"
      ]
     },
     "execution_count": 37,
     "metadata": {},
     "output_type": "execute_result"
    }
   ],
   "source": [
    "levels[:'1994-11'].pipe(Performance).summary()"
   ]
  },
  {
   "cell_type": "markdown",
   "id": "25d81c19",
   "metadata": {
    "papermill": {
     "duration": 0.090113,
     "end_time": "2022-04-01T09:07:54.412050",
     "exception": false,
     "start_time": "2022-04-01T09:07:54.321937",
     "status": "completed"
    },
    "tags": []
   },
   "source": [
    "The underperformance in 1990 coincides with a wider divergence on the crack spread which is intuitive."
   ]
  },
  {
   "cell_type": "code",
   "execution_count": 38,
   "id": "76538675",
   "metadata": {
    "execution": {
     "iopub.execute_input": "2022-04-01T09:07:54.588815Z",
     "iopub.status.busy": "2022-04-01T09:07:54.588075Z",
     "iopub.status.idle": "2022-04-01T09:07:55.067040Z",
     "shell.execute_reply": "2022-04-01T09:07:55.067615Z",
     "shell.execute_reply.started": "2021-12-03T06:51:20.098154Z"
    },
    "papermill": {
     "duration": 0.575915,
     "end_time": "2022-04-01T09:07:55.067780",
     "exception": false,
     "start_time": "2022-04-01T09:07:54.491865",
     "status": "completed"
    },
    "tags": []
   },
   "outputs": [
    {
     "data": {
      "image/png": "[encoded data removed]",
      "text/plain": [
       "<Figure size 576x360 with 2 Axes>"
      ]
     },
     "metadata": {
      "needs_background": "light"
     },
     "output_type": "display_data"
    }
   ],
   "source": [
    "pd.concat((\n",
    "    levels_gcs.rename('Gasoline crack spread strategy'),\n",
    "    gcs.rename('GCS')\n",
    "), axis=1)[:'1994-11'].plot(figsize=(8, 5), secondary_y='GCS');"
   ]
  },
  {
   "cell_type": "markdown",
   "id": "e2d431e2",
   "metadata": {
    "papermill": {
     "duration": 0.081738,
     "end_time": "2022-04-01T09:07:55.239621",
     "exception": false,
     "start_time": "2022-04-01T09:07:55.157883",
     "status": "completed"
    },
    "tags": []
   },
   "source": [
    "## Long-term performance\n",
    "\n",
    "...however as we saw earlier in the time-series of crack spreads, something must have changed in 2000s and the trading strategies stopped working."
   ]
  },
  {
   "cell_type": "code",
   "execution_count": 39,
   "id": "d8a263d6",
   "metadata": {
    "execution": {
     "iopub.execute_input": "2022-04-01T09:07:55.415298Z",
     "iopub.status.busy": "2022-04-01T09:07:55.411547Z",
     "iopub.status.idle": "2022-04-01T09:07:56.046629Z",
     "shell.execute_reply": "2022-04-01T09:07:56.047223Z",
     "shell.execute_reply.started": "2021-12-03T06:51:20.399415Z"
    },
    "papermill": {
     "duration": 0.729081,
     "end_time": "2022-04-01T09:07:56.047396",
     "exception": false,
     "start_time": "2022-04-01T09:07:55.318315",
     "status": "completed"
    },
    "tags": []
   },
   "outputs": [
    {
     "data": {
      "image/png": "[encoded data removed]",
      "text/plain": [
       "<Figure size 576x324 with 1 Axes>"
      ]
     },
     "metadata": {
      "needs_background": "light"
     },
     "output_type": "display_data"
    }
   ],
   "source": [
    "fig, ax = plt.subplots(figsize=(8, 4.5))\n",
    "levels.plot(ax=ax, logy=True);\n",
    "ax.set_title('Crack spreads mean-reversion (GP1999)')\n",
    "ax.set_ylabel('Cumulative returns');"
   ]
  },
  {
   "cell_type": "code",
   "execution_count": 40,
   "id": "b9b01da1",
   "metadata": {
    "execution": {
     "iopub.execute_input": "2022-04-01T09:07:56.229242Z",
     "iopub.status.busy": "2022-04-01T09:07:56.228483Z",
     "iopub.status.idle": "2022-04-01T09:07:56.332075Z",
     "shell.execute_reply": "2022-04-01T09:07:56.332663Z",
     "shell.execute_reply.started": "2021-12-03T06:51:20.790419Z"
    },
    "papermill": {
     "duration": 0.189903,
     "end_time": "2022-04-01T09:07:56.332863",
     "exception": false,
     "start_time": "2022-04-01T09:07:56.142960",
     "status": "completed"
    },
    "tags": []
   },
   "outputs": [
    {
     "data": {
      "text/html": [
       "<div>\n",
       "<style scoped>\n",
       "    .dataframe tbody tr th:only-of-type {\n",
       "        vertical-align: middle;\n",
       "    }\n",
       "\n",
       "    .dataframe tbody tr th {\n",
       "        vertical-align: top;\n",
       "    }\n",
       "\n",
       "    .dataframe thead th {\n",
       "        text-align: right;\n",
       "    }\n",
       "</style>\n",
       "<table border=\"1\" class=\"dataframe\">\n",
       "  <thead>\n",
       "    <tr style=\"text-align: right;\">\n",
       "      <th></th>\n",
       "      <th>Crack spread</th>\n",
       "      <th>Gasoline crack spread</th>\n",
       "      <th>Heating oil crack spread</th>\n",
       "    </tr>\n",
       "  </thead>\n",
       "  <tbody>\n",
       "    <tr>\n",
       "      <th>CAGR</th>\n",
       "      <td>-0.020964</td>\n",
       "      <td>-0.006790</td>\n",
       "      <td>0.005131</td>\n",
       "    </tr>\n",
       "    <tr>\n",
       "      <th>Annualised vol</th>\n",
       "      <td>0.135869</td>\n",
       "      <td>0.044893</td>\n",
       "      <td>0.069398</td>\n",
       "    </tr>\n",
       "    <tr>\n",
       "      <th>Sharpe ratio</th>\n",
       "      <td>-0.154297</td>\n",
       "      <td>-0.151254</td>\n",
       "      <td>0.073943</td>\n",
       "    </tr>\n",
       "    <tr>\n",
       "      <th>Max drawdown</th>\n",
       "      <td>0.796898</td>\n",
       "      <td>0.455942</td>\n",
       "      <td>0.262482</td>\n",
       "    </tr>\n",
       "    <tr>\n",
       "      <th>Calmar ratio</th>\n",
       "      <td>-0.026307</td>\n",
       "      <td>-0.014893</td>\n",
       "      <td>0.019550</td>\n",
       "    </tr>\n",
       "    <tr>\n",
       "      <th>Skewness</th>\n",
       "      <td>28.811394</td>\n",
       "      <td>-1.828439</td>\n",
       "      <td>8.189016</td>\n",
       "    </tr>\n",
       "    <tr>\n",
       "      <th>Kurtosis</th>\n",
       "      <td>2735.484762</td>\n",
       "      <td>67.844632</td>\n",
       "      <td>941.300604</td>\n",
       "    </tr>\n",
       "    <tr>\n",
       "      <th>Worst return</th>\n",
       "      <td>-0.339082</td>\n",
       "      <td>-0.049356</td>\n",
       "      <td>-0.162293</td>\n",
       "    </tr>\n",
       "    <tr>\n",
       "      <th>Worst 1d return</th>\n",
       "      <td>-0.339082</td>\n",
       "      <td>-0.049356</td>\n",
       "      <td>-0.162293</td>\n",
       "    </tr>\n",
       "    <tr>\n",
       "      <th>Worst 1w return</th>\n",
       "      <td>-0.214178</td>\n",
       "      <td>-0.101832</td>\n",
       "      <td>-0.085109</td>\n",
       "    </tr>\n",
       "    <tr>\n",
       "      <th>Worst 1m return</th>\n",
       "      <td>-0.150461</td>\n",
       "      <td>-0.119793</td>\n",
       "      <td>-0.093972</td>\n",
       "    </tr>\n",
       "  </tbody>\n",
       "</table>\n",
       "</div>"
      ],
      "text/plain": [
       "                 Crack spread  Gasoline crack spread  Heating oil crack spread\n",
       "CAGR                -0.020964              -0.006790                  0.005131\n",
       "Annualised vol       0.135869               0.044893                  0.069398\n",
       "Sharpe ratio        -0.154297              -0.151254                  0.073943\n",
       "Max drawdown         0.796898               0.455942                  0.262482\n",
       "Calmar ratio        -0.026307              -0.014893                  0.019550\n",
       "Skewness            28.811394              -1.828439                  8.189016\n",
       "Kurtosis          2735.484762              67.844632                941.300604\n",
       "Worst return        -0.339082              -0.049356                 -0.162293\n",
       "Worst 1d return     -0.339082              -0.049356                 -0.162293\n",
       "Worst 1w return     -0.214178              -0.101832                 -0.085109\n",
       "Worst 1m return     -0.150461              -0.119793                 -0.093972"
      ]
     },
     "execution_count": 40,
     "metadata": {},
     "output_type": "execute_result"
    }
   ],
   "source": [
    "levels.pipe(Performance).summary()"
   ]
  },
  {
   "cell_type": "markdown",
   "id": "e67cc5fa",
   "metadata": {
    "papermill": {
     "duration": 0.10481,
     "end_time": "2022-04-01T09:07:56.542335",
     "exception": false,
     "start_time": "2022-04-01T09:07:56.437525",
     "status": "completed"
    },
    "tags": []
   },
   "source": [
    "## Post publication"
   ]
  },
  {
   "cell_type": "code",
   "execution_count": 41,
   "id": "94b4f13d",
   "metadata": {
    "execution": {
     "iopub.execute_input": "2022-04-01T09:07:56.755431Z",
     "iopub.status.busy": "2022-04-01T09:07:56.754819Z",
     "iopub.status.idle": "2022-04-01T09:07:56.756820Z",
     "shell.execute_reply": "2022-04-01T09:07:56.757402Z",
     "shell.execute_reply.started": "2021-12-03T06:51:20.849663Z"
    },
    "papermill": {
     "duration": 0.111017,
     "end_time": "2022-04-01T09:07:56.757571",
     "exception": false,
     "start_time": "2022-04-01T09:07:56.646554",
     "status": "completed"
    },
    "tags": []
   },
   "outputs": [],
   "source": [
    "publication_date = datetime(1999, 11, 29)"
   ]
  },
  {
   "cell_type": "code",
   "execution_count": 42,
   "id": "1a2e7f9c",
   "metadata": {
    "execution": {
     "iopub.execute_input": "2022-04-01T09:07:56.975608Z",
     "iopub.status.busy": "2022-04-01T09:07:56.974758Z",
     "iopub.status.idle": "2022-04-01T09:07:58.319893Z",
     "shell.execute_reply": "2022-04-01T09:07:58.320458Z",
     "shell.execute_reply.started": "2021-12-03T06:51:20.853881Z"
    },
    "papermill": {
     "duration": 1.457328,
     "end_time": "2022-04-01T09:07:58.320623",
     "exception": false,
     "start_time": "2022-04-01T09:07:56.863295",
     "status": "completed"
    },
    "tags": []
   },
   "outputs": [
    {
     "data": {
      "image/png": "[encoded data removed]",
      "text/plain": [
       "<Figure size 1008x288 with 2 Axes>"
      ]
     },
     "metadata": {
      "needs_background": "light"
     },
     "output_type": "display_data"
    }
   ],
   "source": [
    "fig, ax = plt.subplots(1, 2, figsize=(14, 4))\n",
    "levels.plot(ax=ax[0], logy=True);\n",
    "ax[0].set_title('Crack spreads mean-reversion (GP1999)')\n",
    "ax[0].set_ylabel('Cumulative returns');\n",
    "ax[0].axvline(publication_date, lw=1, ls='--', color='black')\n",
    "ax[0].text(publication_date, 100, 'Publication date ', ha='right')\n",
    "\n",
    "levels.loc[publication_date:].pipe(rebase).plot(ax=ax[1], logy=True);\n",
    "ax[1].set_title('Post publication');"
   ]
  },
  {
   "cell_type": "markdown",
   "id": "d187127a",
   "metadata": {
    "papermill": {
     "duration": 0.106086,
     "end_time": "2022-04-01T09:07:58.532675",
     "exception": false,
     "start_time": "2022-04-01T09:07:58.426589",
     "status": "completed"
    },
    "tags": []
   },
   "source": [
    "# Reference\n",
    "- Girma, P.B. and Paulson, A.S., 1999. Risk arbitrage opportunities in petroleum futures spreads. Journal of Futures Markets, 19(8), pp.931-955."
   ]
  },
  {
   "cell_type": "code",
   "execution_count": 43,
   "id": "69fe3c8e",
   "metadata": {
    "execution": {
     "iopub.execute_input": "2022-04-01T09:07:58.754557Z",
     "iopub.status.busy": "2022-04-01T09:07:58.753219Z",
     "iopub.status.idle": "2022-04-01T09:07:58.785206Z",
     "shell.execute_reply": "2022-04-01T09:07:58.785920Z",
     "shell.execute_reply.started": "2021-12-03T06:51:21.723848Z"
    },
    "papermill": {
     "duration": 0.143667,
     "end_time": "2022-04-01T09:07:58.786075",
     "exception": false,
     "start_time": "2022-04-01T09:07:58.642408",
     "status": "completed"
    },
    "tags": []
   },
   "outputs": [
    {
     "name": "stdout",
     "output_type": "stream",
     "text": [
      "Updated: 01-Apr-2022 09:07\n"
     ]
    }
   ],
   "source": [
    "print(f'Updated: {datetime.utcnow():%d-%b-%Y %H:%M}')"
   ]
  }
 ],
 "metadata": {
  "kernelspec": {
   "display_name": "Python 3",
   "language": "python",
   "name": "python3"
  },
  "language_info": {
   "codemirror_mode": {
    "name": "ipython",
    "version": 3
   },
   "file_extension": ".py",
   "mimetype": "text/x-python",
   "name": "python",
   "nbconvert_exporter": "python",
   "pygments_lexer": "ipython3",
   "version": "3.9.6"
  },
  "papermill": {
   "default_parameters": {},
   "duration": 1196.193261,
   "end_time": "2022-04-01T09:08:01.602432",
   "environment_variables": {},
   "exception": null,
   "input_path": "notebooks/papermill/commodity_crack_spread_stat_arb.ipynb",
   "output_path": "notebooks/commodity_crack_spread_stat_arb.ipynb",
   "parameters": {},
   "start_time": "2022-04-01T08:48:05.409171",
   "version": "2.3.3"
  },
  "toc-autonumbering": true
 },
 "nbformat": 4,
 "nbformat_minor": 5
}