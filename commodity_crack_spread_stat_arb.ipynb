{
 "cells": [
  {
   "cell_type": "markdown",
   "id": "172ca5c5",
   "metadata": {
    "papermill": {
     "duration": 0.015975,
     "end_time": "2022-07-06T06:11:02.397978",
     "exception": false,
     "start_time": "2022-07-06T06:11:02.382003",
     "status": "completed"
    },
    "tags": []
   },
   "source": [
    "# Commodity crack spread statistical arbitrage\n",
    "\n",
    "In this notebook, the mean-rereversion strategy proposed in Girma and Paulson 1999 (henthforth GP1999) is investigated. It focuses on a various combination of the crude oil (WTI) crack spread. "
   ]
  },
  {
   "cell_type": "code",
   "execution_count": 1,
   "id": "7daa9dab",
   "metadata": {
    "execution": {
     "iopub.execute_input": "2022-07-06T06:11:02.430233Z",
     "iopub.status.busy": "2022-07-06T06:11:02.429745Z",
     "iopub.status.idle": "2022-07-06T06:11:05.754233Z",
     "shell.execute_reply": "2022-07-06T06:11:05.753473Z"
    },
    "papermill": {
     "duration": 3.342811,
     "end_time": "2022-07-06T06:11:05.756117",
     "exception": false,
     "start_time": "2022-07-06T06:11:02.413306",
     "status": "completed"
    },
    "tags": []
   },
   "outputs": [],
   "source": [
    "%matplotlib inline\n",
    "from datetime import datetime\n",
    "import logging\n",
    "import warnings\n",
    "warnings.simplefilter(action='ignore', category=FutureWarning)\n",
    "\n",
    "import pandas as pd\n",
    "import statsmodels.api as sm\n",
    "import matplotlib.pyplot as plt\n",
    "plt.style.use('bmh')\n",
    "\n",
    "from vivace.backtest import BacktestEngine, signal, InstrumentDef\n",
    "from vivace.backtest.analytics import rebase\n",
    "from vivace.backtest.contract import get_futures_curve_snapshot\n",
    "from vivace.backtest.enums import Strategy, Weighting, RollRule\n",
    "from vivace.backtest.stats import Performance"
   ]
  },
  {
   "cell_type": "markdown",
   "id": "68aa8ccf",
   "metadata": {
    "papermill": {
     "duration": 0.016187,
     "end_time": "2022-07-06T06:11:05.788160",
     "exception": false,
     "start_time": "2022-07-06T06:11:05.771973",
     "status": "completed"
    },
    "tags": []
   },
   "source": [
    "# Cointegration test\n",
    "\n",
    "GP1999 first checks if the crack spread is cointegrated. To do that, first let's see futures prices are non-stationary or not. As per usual, the generic price is populated by running a simple long-only backtest by rolling the front contract."
   ]
  },
  {
   "cell_type": "markdown",
   "id": "824e7302",
   "metadata": {
    "papermill": {
     "duration": 0.021152,
     "end_time": "2022-07-06T06:11:05.828766",
     "exception": false,
     "start_time": "2022-07-06T06:11:05.807614",
     "status": "completed"
    },
    "tags": []
   },
   "source": [
    "## ADF test\n",
    "\n",
    "The ADF test is done by the `adfuller` function in `statsmodels`. (cf. https://www.statsmodels.org/dev/generated/statsmodels.tsa.stattools.adfuller.html)"
   ]
  },
  {
   "cell_type": "code",
   "execution_count": 2,
   "id": "4eb3103c",
   "metadata": {
    "execution": {
     "iopub.execute_input": "2022-07-06T06:11:05.865361Z",
     "iopub.status.busy": "2022-07-06T06:11:05.864870Z",
     "iopub.status.idle": "2022-07-06T06:11:16.757764Z",
     "shell.execute_reply": "2022-07-06T06:11:16.757197Z"
    },
    "papermill": {
     "duration": 10.911455,
     "end_time": "2022-07-06T06:11:16.759806",
     "exception": false,
     "start_time": "2022-07-06T06:11:05.848351",
     "status": "completed"
    },
    "tags": []
   },
   "outputs": [],
   "source": [
    "cl_1st = BacktestEngine(instrument='CL', log_level=logging.WARN)\n",
    "cl_1st.run()"
   ]
  },
  {
   "cell_type": "code",
   "execution_count": 3,
   "id": "9910ecff",
   "metadata": {
    "execution": {
     "iopub.execute_input": "2022-07-06T06:11:16.792649Z",
     "iopub.status.busy": "2022-07-06T06:11:16.792427Z",
     "iopub.status.idle": "2022-07-06T06:11:27.700596Z",
     "shell.execute_reply": "2022-07-06T06:11:27.700019Z"
    },
    "papermill": {
     "duration": 10.926901,
     "end_time": "2022-07-06T06:11:27.702913",
     "exception": false,
     "start_time": "2022-07-06T06:11:16.776012",
     "status": "completed"
    },
    "tags": []
   },
   "outputs": [],
   "source": [
    "ho_1st = BacktestEngine(instrument='HO', log_level=logging.WARN)\n",
    "ho_1st.run()"
   ]
  },
  {
   "cell_type": "code",
   "execution_count": 4,
   "id": "32cec4c3",
   "metadata": {
    "execution": {
     "iopub.execute_input": "2022-07-06T06:11:27.748404Z",
     "iopub.status.busy": "2022-07-06T06:11:27.748194Z",
     "iopub.status.idle": "2022-07-06T06:11:37.537179Z",
     "shell.execute_reply": "2022-07-06T06:11:37.536606Z"
    },
    "papermill": {
     "duration": 9.813454,
     "end_time": "2022-07-06T06:11:37.539012",
     "exception": false,
     "start_time": "2022-07-06T06:11:27.725558",
     "status": "completed"
    },
    "tags": []
   },
   "outputs": [],
   "source": [
    "xb_1st = BacktestEngine(instrument='XB', log_level=logging.WARN)\n",
    "xb_1st.run()"
   ]
  },
  {
   "cell_type": "code",
   "execution_count": 5,
   "id": "a602ffe8",
   "metadata": {
    "execution": {
     "iopub.execute_input": "2022-07-06T06:11:37.570405Z",
     "iopub.status.busy": "2022-07-06T06:11:37.570145Z",
     "iopub.status.idle": "2022-07-06T06:11:56.834631Z",
     "shell.execute_reply": "2022-07-06T06:11:56.833992Z"
    },
    "papermill": {
     "duration": 19.282547,
     "end_time": "2022-07-06T06:11:56.836691",
     "exception": false,
     "start_time": "2022-07-06T06:11:37.554144",
     "status": "completed"
    },
    "tags": []
   },
   "outputs": [],
   "source": [
    "cl_price = cl_1st.get_generic_price().squeeze().fillna(method='pad').rename('Crude oil')\n",
    "ho_price = ho_1st.get_generic_price().squeeze().fillna(method='pad').rename('Heating oil')\n",
    "xb_price = xb_1st.get_generic_price().squeeze().fillna(method='pad').rename('Gasoline')"
   ]
  },
  {
   "cell_type": "code",
   "execution_count": 6,
   "id": "81a1c9be",
   "metadata": {
    "execution": {
     "iopub.execute_input": "2022-07-06T06:11:56.877405Z",
     "iopub.status.busy": "2022-07-06T06:11:56.876873Z",
     "iopub.status.idle": "2022-07-06T06:11:56.883010Z",
     "shell.execute_reply": "2022-07-06T06:11:56.882328Z"
    },
    "papermill": {
     "duration": 0.027953,
     "end_time": "2022-07-06T06:11:56.884540",
     "exception": false,
     "start_time": "2022-07-06T06:11:56.856587",
     "status": "completed"
    },
    "tags": []
   },
   "outputs": [],
   "source": [
    "def adf(ts: pd.Series, **kwargs) -> pd.Series:\n",
    "    \"\"\" Run the ADF test and return a cleaned result \"\"\"\n",
    "    adf_result = sm.tsa.stattools.adfuller(ts, **kwargs)\n",
    "    cleaned = {\n",
    "        'adf': adf_result[0],\n",
    "        'p_value': adf_result[1],\n",
    "        'used_lag': adf_result[2],\n",
    "        'n_obs': adf_result[3],\n",
    "        'ci_0.01': adf_result[4]['1%'],\n",
    "        'ci_0.05': adf_result[4]['5%'],\n",
    "        'ci_0.1': adf_result[4]['10%'],\n",
    "        'ic_best': adf_result[5],\n",
    "    }\n",
    "    return pd.Series(cleaned, name=ts.name)"
   ]
  },
  {
   "cell_type": "markdown",
   "id": "73a9df64",
   "metadata": {
    "papermill": {
     "duration": 0.015303,
     "end_time": "2022-07-06T06:11:56.948308",
     "exception": false,
     "start_time": "2022-07-06T06:11:56.933005",
     "status": "completed"
    },
    "tags": []
   },
   "source": [
    "GP1999 uses Schwarz's information criterion (i.e., BIC) to select the optimal number of lags included in the ADF test."
   ]
  },
  {
   "cell_type": "code",
   "execution_count": 7,
   "id": "b69649d6",
   "metadata": {
    "execution": {
     "iopub.execute_input": "2022-07-06T06:11:56.980823Z",
     "iopub.status.busy": "2022-07-06T06:11:56.980619Z",
     "iopub.status.idle": "2022-07-06T06:11:57.722697Z",
     "shell.execute_reply": "2022-07-06T06:11:57.717753Z"
    },
    "papermill": {
     "duration": 0.761006,
     "end_time": "2022-07-06T06:11:57.725354",
     "exception": false,
     "start_time": "2022-07-06T06:11:56.964348",
     "status": "completed"
    },
    "tags": []
   },
   "outputs": [],
   "source": [
    "adf_result = pd.concat((\n",
    "    adf(cl_price['1983-04':'1994-11'], autolag='BIC').to_frame().T,\n",
    "    adf(ho_price['1983-04':'1994-11'], autolag='BIC').to_frame().T,\n",
    "    adf(xb_price['1984-12':'1994-11'], autolag='BIC').to_frame().T,\n",
    "))"
   ]
  },
  {
   "cell_type": "markdown",
   "id": "1396f87e",
   "metadata": {
    "papermill": {
     "duration": 0.040473,
     "end_time": "2022-07-06T06:11:57.793691",
     "exception": false,
     "start_time": "2022-07-06T06:11:57.753218",
     "status": "completed"
    },
    "tags": []
   },
   "source": [
    "In the ADF test, $H_0$ is that the time-series is non-stationary. Based on this result below, $H_0$ cannot be rejected for crude oil, however is rejected for heating oil and gasoline at the 10% and 5% level respectively.\n",
    "\n",
    "This is interesting because usually almost always asset prices are non-stationary."
   ]
  },
  {
   "cell_type": "code",
   "execution_count": 8,
   "id": "3655e953",
   "metadata": {
    "execution": {
     "iopub.execute_input": "2022-07-06T06:11:57.824687Z",
     "iopub.status.busy": "2022-07-06T06:11:57.824342Z",
     "iopub.status.idle": "2022-07-06T06:11:57.839065Z",
     "shell.execute_reply": "2022-07-06T06:11:57.838435Z"
    },
    "papermill": {
     "duration": 0.032437,
     "end_time": "2022-07-06T06:11:57.840986",
     "exception": false,
     "start_time": "2022-07-06T06:11:57.808549",
     "status": "completed"
    },
    "tags": []
   },
   "outputs": [
    {
     "data": {
      "text/html": [
       "<div>\n",
       "<style scoped>\n",
       "    .dataframe tbody tr th:only-of-type {\n",
       "        vertical-align: middle;\n",
       "    }\n",
       "\n",
       "    .dataframe tbody tr th {\n",
       "        vertical-align: top;\n",
       "    }\n",
       "\n",
       "    .dataframe thead th {\n",
       "        text-align: right;\n",
       "    }\n",
       "</style>\n",
       "<table border=\"1\" class=\"dataframe\">\n",
       "  <thead>\n",
       "    <tr style=\"text-align: right;\">\n",
       "      <th></th>\n",
       "      <th>adf</th>\n",
       "      <th>p_value</th>\n",
       "      <th>used_lag</th>\n",
       "      <th>n_obs</th>\n",
       "      <th>ci_0.01</th>\n",
       "      <th>ci_0.05</th>\n",
       "      <th>ci_0.1</th>\n",
       "      <th>ic_best</th>\n",
       "    </tr>\n",
       "  </thead>\n",
       "  <tbody>\n",
       "    <tr>\n",
       "      <th>Crude oil</th>\n",
       "      <td>-2.185213</td>\n",
       "      <td>0.211656</td>\n",
       "      <td>8.0</td>\n",
       "      <td>2924.0</td>\n",
       "      <td>-3.432588</td>\n",
       "      <td>-2.862529</td>\n",
       "      <td>-2.567296</td>\n",
       "      <td>4195.186424</td>\n",
       "    </tr>\n",
       "    <tr>\n",
       "      <th>Heating oil</th>\n",
       "      <td>-2.743636</td>\n",
       "      <td>0.066787</td>\n",
       "      <td>3.0</td>\n",
       "      <td>2929.0</td>\n",
       "      <td>-3.432585</td>\n",
       "      <td>-2.862527</td>\n",
       "      <td>-2.567296</td>\n",
       "      <td>-15763.929006</td>\n",
       "    </tr>\n",
       "    <tr>\n",
       "      <th>Gasoline</th>\n",
       "      <td>-3.003758</td>\n",
       "      <td>0.034545</td>\n",
       "      <td>3.0</td>\n",
       "      <td>2510.0</td>\n",
       "      <td>-3.432958</td>\n",
       "      <td>-2.862692</td>\n",
       "      <td>-2.567383</td>\n",
       "      <td>-14006.551367</td>\n",
       "    </tr>\n",
       "  </tbody>\n",
       "</table>\n",
       "</div>"
      ],
      "text/plain": [
       "                  adf   p_value  used_lag   n_obs   ci_0.01   ci_0.05  \\\n",
       "Crude oil   -2.185213  0.211656       8.0  2924.0 -3.432588 -2.862529   \n",
       "Heating oil -2.743636  0.066787       3.0  2929.0 -3.432585 -2.862527   \n",
       "Gasoline    -3.003758  0.034545       3.0  2510.0 -3.432958 -2.862692   \n",
       "\n",
       "               ci_0.1       ic_best  \n",
       "Crude oil   -2.567296   4195.186424  \n",
       "Heating oil -2.567296 -15763.929006  \n",
       "Gasoline    -2.567383 -14006.551367  "
      ]
     },
     "execution_count": 8,
     "metadata": {},
     "output_type": "execute_result"
    }
   ],
   "source": [
    "adf_result"
   ]
  },
  {
   "cell_type": "markdown",
   "id": "cb465c0a",
   "metadata": {
    "papermill": {
     "duration": 0.015167,
     "end_time": "2022-07-06T06:11:57.871509",
     "exception": false,
     "start_time": "2022-07-06T06:11:57.856342",
     "status": "completed"
    },
    "tags": []
   },
   "source": [
    "Probably it is to do with the sampling period. It may look a stationary process especially after 1986, however clearly it is heteroskedastic and the price move in 1986 seems like a shift in the level."
   ]
  },
  {
   "cell_type": "code",
   "execution_count": 9,
   "id": "11339aae",
   "metadata": {
    "execution": {
     "iopub.execute_input": "2022-07-06T06:11:57.903131Z",
     "iopub.status.busy": "2022-07-06T06:11:57.902673Z",
     "iopub.status.idle": "2022-07-06T06:11:58.332832Z",
     "shell.execute_reply": "2022-07-06T06:11:58.332211Z"
    },
    "papermill": {
     "duration": 0.447811,
     "end_time": "2022-07-06T06:11:58.334474",
     "exception": false,
     "start_time": "2022-07-06T06:11:57.886663",
     "status": "completed"
    },
    "tags": []
   },
   "outputs": [
    {
     "data": {
      "image/png": "[encoded data removed]",
      "text/plain": [
       "<Figure size 576x360 with 2 Axes>"
      ]
     },
     "metadata": {
      "needs_background": "light"
     },
     "output_type": "display_data"
    }
   ],
   "source": [
    "fig, ax = plt.subplots(figsize=(8, 5))\n",
    "pd.concat((\n",
    "    cl_price['1983-04':'1994-11'],\n",
    "    ho_price['1983-04':'1994-11'],\n",
    "    xb_price['1984-12':'1994-11'],\n",
    "), axis=1).plot(secondary_y=['Heating oil', 'Gasoline'], ax=ax);\n",
    "ax.set_title('Futures prices (generic 1st)');"
   ]
  },
  {
   "cell_type": "markdown",
   "id": "47068957",
   "metadata": {
    "papermill": {
     "duration": 0.016062,
     "end_time": "2022-07-06T06:11:58.366895",
     "exception": false,
     "start_time": "2022-07-06T06:11:58.350833",
     "status": "completed"
    },
    "tags": []
   },
   "source": [
    "In fact, in the long-run $H_0$ cannot be rejected for all contracts based on both BIC and AIC."
   ]
  },
  {
   "cell_type": "code",
   "execution_count": 10,
   "id": "47dcef74",
   "metadata": {
    "execution": {
     "iopub.execute_input": "2022-07-06T06:11:58.403410Z",
     "iopub.status.busy": "2022-07-06T06:11:58.402909Z",
     "iopub.status.idle": "2022-07-06T06:12:03.238129Z",
     "shell.execute_reply": "2022-07-06T06:12:03.236996Z"
    },
    "papermill": {
     "duration": 4.856609,
     "end_time": "2022-07-06T06:12:03.240744",
     "exception": false,
     "start_time": "2022-07-06T06:11:58.384135",
     "status": "completed"
    },
    "tags": []
   },
   "outputs": [
    {
     "data": {
      "text/html": [
       "<div>\n",
       "<style scoped>\n",
       "    .dataframe tbody tr th:only-of-type {\n",
       "        vertical-align: middle;\n",
       "    }\n",
       "\n",
       "    .dataframe tbody tr th {\n",
       "        vertical-align: top;\n",
       "    }\n",
       "\n",
       "    .dataframe thead th {\n",
       "        text-align: right;\n",
       "    }\n",
       "</style>\n",
       "<table border=\"1\" class=\"dataframe\">\n",
       "  <thead>\n",
       "    <tr style=\"text-align: right;\">\n",
       "      <th></th>\n",
       "      <th>adf</th>\n",
       "      <th>p_value</th>\n",
       "      <th>used_lag</th>\n",
       "      <th>n_obs</th>\n",
       "      <th>ci_0.01</th>\n",
       "      <th>ci_0.05</th>\n",
       "      <th>ci_0.1</th>\n",
       "      <th>ic_best</th>\n",
       "    </tr>\n",
       "  </thead>\n",
       "  <tbody>\n",
       "    <tr>\n",
       "      <th>Crude oil</th>\n",
       "      <td>-1.467589</td>\n",
       "      <td>0.549479</td>\n",
       "      <td>1.0</td>\n",
       "      <td>9859.0</td>\n",
       "      <td>-3.431013</td>\n",
       "      <td>-2.861833</td>\n",
       "      <td>-2.566926</td>\n",
       "      <td>30782.718922</td>\n",
       "    </tr>\n",
       "    <tr>\n",
       "      <th>Heating oil</th>\n",
       "      <td>-0.869436</td>\n",
       "      <td>0.797871</td>\n",
       "      <td>6.0</td>\n",
       "      <td>9855.0</td>\n",
       "      <td>-3.431014</td>\n",
       "      <td>-2.861833</td>\n",
       "      <td>-2.566926</td>\n",
       "      <td>-37785.482986</td>\n",
       "    </tr>\n",
       "    <tr>\n",
       "      <th>Gasoline</th>\n",
       "      <td>-1.426999</td>\n",
       "      <td>0.569266</td>\n",
       "      <td>0.0</td>\n",
       "      <td>9441.0</td>\n",
       "      <td>-3.431043</td>\n",
       "      <td>-2.861846</td>\n",
       "      <td>-2.566933</td>\n",
       "      <td>-35957.689558</td>\n",
       "    </tr>\n",
       "  </tbody>\n",
       "</table>\n",
       "</div>"
      ],
      "text/plain": [
       "                  adf   p_value  used_lag   n_obs   ci_0.01   ci_0.05  \\\n",
       "Crude oil   -1.467589  0.549479       1.0  9859.0 -3.431013 -2.861833   \n",
       "Heating oil -0.869436  0.797871       6.0  9855.0 -3.431014 -2.861833   \n",
       "Gasoline    -1.426999  0.569266       0.0  9441.0 -3.431043 -2.861846   \n",
       "\n",
       "               ci_0.1       ic_best  \n",
       "Crude oil   -2.566926  30782.718922  \n",
       "Heating oil -2.566926 -37785.482986  \n",
       "Gasoline    -2.566933 -35957.689558  "
      ]
     },
     "execution_count": 10,
     "metadata": {},
     "output_type": "execute_result"
    }
   ],
   "source": [
    "pd.concat((\n",
    "    adf(cl_price['1983-04':], autolag='BIC').to_frame().T,\n",
    "    adf(ho_price['1983-04':], autolag='BIC').to_frame().T,\n",
    "    adf(xb_price['1984-12':], autolag='BIC').to_frame().T,\n",
    "))"
   ]
  },
  {
   "cell_type": "code",
   "execution_count": 11,
   "id": "6cda4738",
   "metadata": {
    "execution": {
     "iopub.execute_input": "2022-07-06T06:12:03.282168Z",
     "iopub.status.busy": "2022-07-06T06:12:03.281754Z",
     "iopub.status.idle": "2022-07-06T06:12:08.046144Z",
     "shell.execute_reply": "2022-07-06T06:12:08.045304Z"
    },
    "papermill": {
     "duration": 4.785613,
     "end_time": "2022-07-06T06:12:08.048850",
     "exception": false,
     "start_time": "2022-07-06T06:12:03.263237",
     "status": "completed"
    },
    "tags": []
   },
   "outputs": [
    {
     "data": {
      "text/html": [
       "<div>\n",
       "<style scoped>\n",
       "    .dataframe tbody tr th:only-of-type {\n",
       "        vertical-align: middle;\n",
       "    }\n",
       "\n",
       "    .dataframe tbody tr th {\n",
       "        vertical-align: top;\n",
       "    }\n",
       "\n",
       "    .dataframe thead th {\n",
       "        text-align: right;\n",
       "    }\n",
       "</style>\n",
       "<table border=\"1\" class=\"dataframe\">\n",
       "  <thead>\n",
       "    <tr style=\"text-align: right;\">\n",
       "      <th></th>\n",
       "      <th>adf</th>\n",
       "      <th>p_value</th>\n",
       "      <th>used_lag</th>\n",
       "      <th>n_obs</th>\n",
       "      <th>ci_0.01</th>\n",
       "      <th>ci_0.05</th>\n",
       "      <th>ci_0.1</th>\n",
       "      <th>ic_best</th>\n",
       "    </tr>\n",
       "  </thead>\n",
       "  <tbody>\n",
       "    <tr>\n",
       "      <th>Crude oil</th>\n",
       "      <td>-1.955972</td>\n",
       "      <td>0.306205</td>\n",
       "      <td>33.0</td>\n",
       "      <td>9827.0</td>\n",
       "      <td>-3.431016</td>\n",
       "      <td>-2.861834</td>\n",
       "      <td>-2.566927</td>\n",
       "      <td>30695.712799</td>\n",
       "    </tr>\n",
       "    <tr>\n",
       "      <th>Heating oil</th>\n",
       "      <td>-1.406158</td>\n",
       "      <td>0.579320</td>\n",
       "      <td>35.0</td>\n",
       "      <td>9826.0</td>\n",
       "      <td>-3.431016</td>\n",
       "      <td>-2.861834</td>\n",
       "      <td>-2.566927</td>\n",
       "      <td>-38027.437322</td>\n",
       "    </tr>\n",
       "    <tr>\n",
       "      <th>Gasoline</th>\n",
       "      <td>-1.953509</td>\n",
       "      <td>0.307322</td>\n",
       "      <td>20.0</td>\n",
       "      <td>9421.0</td>\n",
       "      <td>-3.431044</td>\n",
       "      <td>-2.861847</td>\n",
       "      <td>-2.566933</td>\n",
       "      <td>-35996.777756</td>\n",
       "    </tr>\n",
       "  </tbody>\n",
       "</table>\n",
       "</div>"
      ],
      "text/plain": [
       "                  adf   p_value  used_lag   n_obs   ci_0.01   ci_0.05  \\\n",
       "Crude oil   -1.955972  0.306205      33.0  9827.0 -3.431016 -2.861834   \n",
       "Heating oil -1.406158  0.579320      35.0  9826.0 -3.431016 -2.861834   \n",
       "Gasoline    -1.953509  0.307322      20.0  9421.0 -3.431044 -2.861847   \n",
       "\n",
       "               ci_0.1       ic_best  \n",
       "Crude oil   -2.566927  30695.712799  \n",
       "Heating oil -2.566927 -38027.437322  \n",
       "Gasoline    -2.566933 -35996.777756  "
      ]
     },
     "execution_count": 11,
     "metadata": {},
     "output_type": "execute_result"
    }
   ],
   "source": [
    "pd.concat((\n",
    "    adf(cl_price['1983-04':], autolag='AIC').to_frame().T,\n",
    "    adf(ho_price['1983-04':], autolag='AIC').to_frame().T,\n",
    "    adf(xb_price['1984-12':], autolag='AIC').to_frame().T,\n",
    "))"
   ]
  },
  {
   "cell_type": "markdown",
   "id": "eda29bdf",
   "metadata": {
    "papermill": {
     "duration": 0.017589,
     "end_time": "2022-07-06T06:12:08.096759",
     "exception": false,
     "start_time": "2022-07-06T06:12:08.079170",
     "status": "completed"
    },
    "tags": []
   },
   "source": [
    "Test for two unit roots shows the $H_0$ is rejected for all assets so it would be safe to assume prices are all $I(1)$ processes."
   ]
  },
  {
   "cell_type": "code",
   "execution_count": 12,
   "id": "5cc64e78",
   "metadata": {
    "execution": {
     "iopub.execute_input": "2022-07-06T06:12:08.134190Z",
     "iopub.status.busy": "2022-07-06T06:12:08.133952Z",
     "iopub.status.idle": "2022-07-06T06:12:09.217306Z",
     "shell.execute_reply": "2022-07-06T06:12:09.216592Z"
    },
    "papermill": {
     "duration": 1.105328,
     "end_time": "2022-07-06T06:12:09.220427",
     "exception": false,
     "start_time": "2022-07-06T06:12:08.115099",
     "status": "completed"
    },
    "tags": []
   },
   "outputs": [
    {
     "data": {
      "text/html": [
       "<div>\n",
       "<style scoped>\n",
       "    .dataframe tbody tr th:only-of-type {\n",
       "        vertical-align: middle;\n",
       "    }\n",
       "\n",
       "    .dataframe tbody tr th {\n",
       "        vertical-align: top;\n",
       "    }\n",
       "\n",
       "    .dataframe thead th {\n",
       "        text-align: right;\n",
       "    }\n",
       "</style>\n",
       "<table border=\"1\" class=\"dataframe\">\n",
       "  <thead>\n",
       "    <tr style=\"text-align: right;\">\n",
       "      <th></th>\n",
       "      <th>adf</th>\n",
       "      <th>p_value</th>\n",
       "      <th>used_lag</th>\n",
       "      <th>n_obs</th>\n",
       "      <th>ci_0.01</th>\n",
       "      <th>ci_0.05</th>\n",
       "      <th>ci_0.1</th>\n",
       "      <th>ic_best</th>\n",
       "    </tr>\n",
       "  </thead>\n",
       "  <tbody>\n",
       "    <tr>\n",
       "      <th>Crude oil</th>\n",
       "      <td>-22.609167</td>\n",
       "      <td>0.0</td>\n",
       "      <td>7.0</td>\n",
       "      <td>2924.0</td>\n",
       "      <td>-3.432588</td>\n",
       "      <td>-2.862529</td>\n",
       "      <td>-2.567296</td>\n",
       "      <td>4191.382386</td>\n",
       "    </tr>\n",
       "    <tr>\n",
       "      <th>Heating oil</th>\n",
       "      <td>-23.732562</td>\n",
       "      <td>0.0</td>\n",
       "      <td>7.0</td>\n",
       "      <td>2924.0</td>\n",
       "      <td>-3.432588</td>\n",
       "      <td>-2.862529</td>\n",
       "      <td>-2.567296</td>\n",
       "      <td>-15759.438574</td>\n",
       "    </tr>\n",
       "    <tr>\n",
       "      <th>Gasoline</th>\n",
       "      <td>-31.046797</td>\n",
       "      <td>0.0</td>\n",
       "      <td>2.0</td>\n",
       "      <td>2510.0</td>\n",
       "      <td>-3.432958</td>\n",
       "      <td>-2.862692</td>\n",
       "      <td>-2.567383</td>\n",
       "      <td>-13998.959272</td>\n",
       "    </tr>\n",
       "  </tbody>\n",
       "</table>\n",
       "</div>"
      ],
      "text/plain": [
       "                   adf  p_value  used_lag   n_obs   ci_0.01   ci_0.05  \\\n",
       "Crude oil   -22.609167      0.0       7.0  2924.0 -3.432588 -2.862529   \n",
       "Heating oil -23.732562      0.0       7.0  2924.0 -3.432588 -2.862529   \n",
       "Gasoline    -31.046797      0.0       2.0  2510.0 -3.432958 -2.862692   \n",
       "\n",
       "               ci_0.1       ic_best  \n",
       "Crude oil   -2.567296   4191.382386  \n",
       "Heating oil -2.567296 -15759.438574  \n",
       "Gasoline    -2.567383 -13998.959272  "
      ]
     },
     "execution_count": 12,
     "metadata": {},
     "output_type": "execute_result"
    }
   ],
   "source": [
    "pd.concat((\n",
    "    adf(cl_price['1983-04':'1994-11'].diff().dropna(), autolag='BIC').to_frame().T,\n",
    "    adf(ho_price['1983-04':'1994-11'].diff().dropna(), autolag='BIC').to_frame().T,\n",
    "    adf(xb_price['1984-12':'1994-11'].diff().dropna(), autolag='BIC').to_frame().T,\n",
    "))"
   ]
  },
  {
   "cell_type": "markdown",
   "id": "5443698a",
   "metadata": {
    "papermill": {
     "duration": 0.020843,
     "end_time": "2022-07-06T06:12:09.278936",
     "exception": false,
     "start_time": "2022-07-06T06:12:09.258093",
     "status": "completed"
    },
    "tags": []
   },
   "source": [
    "## Engle-Granger test\n",
    "\n",
    "Next, let's check if the crack spread is cointegrated. The cointegration vector is estimated by OLS and the stationarity of the residual is tested with the ADF test.\n",
    "The test is done by the `coint` function in `statsmodels`. (cf. https://www.statsmodels.org/dev/generated/statsmodels.tsa.stattools.coint.html)"
   ]
  },
  {
   "cell_type": "code",
   "execution_count": 13,
   "id": "15663029",
   "metadata": {
    "execution": {
     "iopub.execute_input": "2022-07-06T06:12:09.315263Z",
     "iopub.status.busy": "2022-07-06T06:12:09.314938Z",
     "iopub.status.idle": "2022-07-06T06:12:09.332174Z",
     "shell.execute_reply": "2022-07-06T06:12:09.331512Z"
    },
    "papermill": {
     "duration": 0.038153,
     "end_time": "2022-07-06T06:12:09.334488",
     "exception": false,
     "start_time": "2022-07-06T06:12:09.296335",
     "status": "completed"
    },
    "tags": []
   },
   "outputs": [],
   "source": [
    "price_concat = pd.concat((\n",
    "    cl_price,\n",
    "    ho_price,\n",
    "    xb_price,\n",
    "), axis=1).fillna(method='pad').dropna()"
   ]
  },
  {
   "cell_type": "code",
   "execution_count": 14,
   "id": "cf731a5e",
   "metadata": {
    "execution": {
     "iopub.execute_input": "2022-07-06T06:12:09.370400Z",
     "iopub.status.busy": "2022-07-06T06:12:09.370192Z",
     "iopub.status.idle": "2022-07-06T06:12:09.376133Z",
     "shell.execute_reply": "2022-07-06T06:12:09.375310Z"
    },
    "papermill": {
     "duration": 0.026015,
     "end_time": "2022-07-06T06:12:09.378045",
     "exception": false,
     "start_time": "2022-07-06T06:12:09.352030",
     "status": "completed"
    },
    "tags": []
   },
   "outputs": [],
   "source": [
    "def coint(y: pd.Series, x: pd.DataFrame) -> pd.Series:\n",
    "    \"\"\" Run the cointegration test and return a cleaned result \"\"\"\n",
    "    result = sm.tsa.stattools.coint(y, x)\n",
    "    cleaned = {\n",
    "        't_value': result[0],\n",
    "        'p_value': result[1],\n",
    "        'ci_0.01': result[2][0],\n",
    "        'ci_0.05': result[2][1],\n",
    "        'ci_0.1': result[2][2],\n",
    "    }\n",
    "    return pd.Series(cleaned)"
   ]
  },
  {
   "cell_type": "code",
   "execution_count": 15,
   "id": "4299196b",
   "metadata": {
    "execution": {
     "iopub.execute_input": "2022-07-06T06:12:09.421182Z",
     "iopub.status.busy": "2022-07-06T06:12:09.420860Z",
     "iopub.status.idle": "2022-07-06T06:12:11.380553Z",
     "shell.execute_reply": "2022-07-06T06:12:11.378851Z"
    },
    "papermill": {
     "duration": 1.987236,
     "end_time": "2022-07-06T06:12:11.383125",
     "exception": false,
     "start_time": "2022-07-06T06:12:09.395889",
     "status": "completed"
    },
    "tags": []
   },
   "outputs": [],
   "source": [
    "coint_result = pd.concat((\n",
    "    coint(\n",
    "        price_concat.loc[:'1994-11', 'Crude oil'],\n",
    "        price_concat.loc[:'1994-11', ['Heating oil', 'Gasoline']]\n",
    "    ).to_frame('CL vs HO + XB').T,\n",
    "    coint(\n",
    "        price_concat.loc[:'1994-11', 'Crude oil'],\n",
    "        price_concat.loc[:'1994-11', ['Gasoline']]\n",
    "    ).to_frame('CL vs XB').T,\n",
    "    coint(\n",
    "        price_concat.loc[:'1994-11', 'Crude oil'],\n",
    "        price_concat.loc[:'1994-11', ['Heating oil']]\n",
    "    ).to_frame('CL vs HO').T,\n",
    "))"
   ]
  },
  {
   "cell_type": "markdown",
   "id": "ea294ded",
   "metadata": {
    "papermill": {
     "duration": 0.027394,
     "end_time": "2022-07-06T06:12:11.444656",
     "exception": false,
     "start_time": "2022-07-06T06:12:11.417262",
     "status": "completed"
    },
    "tags": []
   },
   "source": [
    "The $H_0$ is that there is no cointegration. As per GP1999, all three crack spreads are cointegrated. "
   ]
  },
  {
   "cell_type": "code",
   "execution_count": 16,
   "id": "1824345d",
   "metadata": {
    "execution": {
     "iopub.execute_input": "2022-07-06T06:12:11.492802Z",
     "iopub.status.busy": "2022-07-06T06:12:11.492097Z",
     "iopub.status.idle": "2022-07-06T06:12:11.504354Z",
     "shell.execute_reply": "2022-07-06T06:12:11.503573Z"
    },
    "papermill": {
     "duration": 0.0396,
     "end_time": "2022-07-06T06:12:11.506602",
     "exception": false,
     "start_time": "2022-07-06T06:12:11.467002",
     "status": "completed"
    },
    "tags": []
   },
   "outputs": [
    {
     "data": {
      "text/html": [
       "<div>\n",
       "<style scoped>\n",
       "    .dataframe tbody tr th:only-of-type {\n",
       "        vertical-align: middle;\n",
       "    }\n",
       "\n",
       "    .dataframe tbody tr th {\n",
       "        vertical-align: top;\n",
       "    }\n",
       "\n",
       "    .dataframe thead th {\n",
       "        text-align: right;\n",
       "    }\n",
       "</style>\n",
       "<table border=\"1\" class=\"dataframe\">\n",
       "  <thead>\n",
       "    <tr style=\"text-align: right;\">\n",
       "      <th></th>\n",
       "      <th>t_value</th>\n",
       "      <th>p_value</th>\n",
       "      <th>ci_0.01</th>\n",
       "      <th>ci_0.05</th>\n",
       "      <th>ci_0.1</th>\n",
       "    </tr>\n",
       "  </thead>\n",
       "  <tbody>\n",
       "    <tr>\n",
       "      <th>CL vs HO + XB</th>\n",
       "      <td>-6.110715</td>\n",
       "      <td>0.000005</td>\n",
       "      <td>-4.299485</td>\n",
       "      <td>-3.744067</td>\n",
       "      <td>-3.454651</td>\n",
       "    </tr>\n",
       "    <tr>\n",
       "      <th>CL vs XB</th>\n",
       "      <td>-5.762029</td>\n",
       "      <td>0.000005</td>\n",
       "      <td>-3.900800</td>\n",
       "      <td>-3.338561</td>\n",
       "      <td>-3.046137</td>\n",
       "    </tr>\n",
       "    <tr>\n",
       "      <th>CL vs HO</th>\n",
       "      <td>-5.708354</td>\n",
       "      <td>0.000007</td>\n",
       "      <td>-3.900800</td>\n",
       "      <td>-3.338561</td>\n",
       "      <td>-3.046137</td>\n",
       "    </tr>\n",
       "  </tbody>\n",
       "</table>\n",
       "</div>"
      ],
      "text/plain": [
       "                t_value   p_value   ci_0.01   ci_0.05    ci_0.1\n",
       "CL vs HO + XB -6.110715  0.000005 -4.299485 -3.744067 -3.454651\n",
       "CL vs XB      -5.762029  0.000005 -3.900800 -3.338561 -3.046137\n",
       "CL vs HO      -5.708354  0.000007 -3.900800 -3.338561 -3.046137"
      ]
     },
     "execution_count": 16,
     "metadata": {},
     "output_type": "execute_result"
    }
   ],
   "source": [
    "coint_result"
   ]
  },
  {
   "cell_type": "markdown",
   "id": "2f816c06",
   "metadata": {
    "papermill": {
     "duration": 0.018846,
     "end_time": "2022-07-06T06:12:11.547257",
     "exception": false,
     "start_time": "2022-07-06T06:12:11.528411",
     "status": "completed"
    },
    "tags": []
   },
   "source": [
    "This seems to hold with the full sample."
   ]
  },
  {
   "cell_type": "code",
   "execution_count": 17,
   "id": "467771dc",
   "metadata": {
    "execution": {
     "iopub.execute_input": "2022-07-06T06:12:11.590651Z",
     "iopub.status.busy": "2022-07-06T06:12:11.590362Z",
     "iopub.status.idle": "2022-07-06T06:12:19.782296Z",
     "shell.execute_reply": "2022-07-06T06:12:19.781593Z"
    },
    "papermill": {
     "duration": 8.215514,
     "end_time": "2022-07-06T06:12:19.785125",
     "exception": false,
     "start_time": "2022-07-06T06:12:11.569611",
     "status": "completed"
    },
    "tags": []
   },
   "outputs": [
    {
     "data": {
      "text/html": [
       "<div>\n",
       "<style scoped>\n",
       "    .dataframe tbody tr th:only-of-type {\n",
       "        vertical-align: middle;\n",
       "    }\n",
       "\n",
       "    .dataframe tbody tr th {\n",
       "        vertical-align: top;\n",
       "    }\n",
       "\n",
       "    .dataframe thead th {\n",
       "        text-align: right;\n",
       "    }\n",
       "</style>\n",
       "<table border=\"1\" class=\"dataframe\">\n",
       "  <thead>\n",
       "    <tr style=\"text-align: right;\">\n",
       "      <th></th>\n",
       "      <th>t_value</th>\n",
       "      <th>p_value</th>\n",
       "      <th>ci_0.01</th>\n",
       "      <th>ci_0.05</th>\n",
       "      <th>ci_0.1</th>\n",
       "    </tr>\n",
       "  </thead>\n",
       "  <tbody>\n",
       "    <tr>\n",
       "      <th>CL vs HO + XB</th>\n",
       "      <td>-4.337189</td>\n",
       "      <td>8.697724e-03</td>\n",
       "      <td>-4.295269</td>\n",
       "      <td>-3.741567</td>\n",
       "      <td>-3.452838</td>\n",
       "    </tr>\n",
       "    <tr>\n",
       "      <th>CL vs XB</th>\n",
       "      <td>-6.464231</td>\n",
       "      <td>1.518177e-07</td>\n",
       "      <td>-3.897600</td>\n",
       "      <td>-3.336777</td>\n",
       "      <td>-3.044899</td>\n",
       "    </tr>\n",
       "    <tr>\n",
       "      <th>CL vs HO</th>\n",
       "      <td>-4.417812</td>\n",
       "      <td>1.666027e-03</td>\n",
       "      <td>-3.897600</td>\n",
       "      <td>-3.336777</td>\n",
       "      <td>-3.044899</td>\n",
       "    </tr>\n",
       "  </tbody>\n",
       "</table>\n",
       "</div>"
      ],
      "text/plain": [
       "                t_value       p_value   ci_0.01   ci_0.05    ci_0.1\n",
       "CL vs HO + XB -4.337189  8.697724e-03 -4.295269 -3.741567 -3.452838\n",
       "CL vs XB      -6.464231  1.518177e-07 -3.897600 -3.336777 -3.044899\n",
       "CL vs HO      -4.417812  1.666027e-03 -3.897600 -3.336777 -3.044899"
      ]
     },
     "execution_count": 17,
     "metadata": {},
     "output_type": "execute_result"
    }
   ],
   "source": [
    "pd.concat((\n",
    "    coint(\n",
    "        price_concat.loc[:, 'Crude oil'],\n",
    "        price_concat.loc[:, ['Heating oil', 'Gasoline']]\n",
    "    ).to_frame('CL vs HO + XB').T,\n",
    "    coint(\n",
    "        price_concat.loc[:, 'Crude oil'],\n",
    "        price_concat.loc[:, ['Gasoline']]\n",
    "    ).to_frame('CL vs XB').T,\n",
    "    coint(\n",
    "        price_concat.loc[:, 'Crude oil'],\n",
    "        price_concat.loc[:, ['Heating oil']]\n",
    "    ).to_frame('CL vs HO').T,\n",
    "))"
   ]
  },
  {
   "cell_type": "markdown",
   "id": "9107b072",
   "metadata": {
    "papermill": {
     "duration": 0.025131,
     "end_time": "2022-07-06T06:12:19.837587",
     "exception": false,
     "start_time": "2022-07-06T06:12:19.812456",
     "status": "completed"
    },
    "tags": []
   },
   "source": [
    "However the confidence level is somewhat weakend with recent data although they are at least still cointegrated at the 5% level."
   ]
  },
  {
   "cell_type": "code",
   "execution_count": 18,
   "id": "3898183b",
   "metadata": {
    "execution": {
     "iopub.execute_input": "2022-07-06T06:12:19.888105Z",
     "iopub.status.busy": "2022-07-06T06:12:19.887627Z",
     "iopub.status.idle": "2022-07-06T06:12:20.753267Z",
     "shell.execute_reply": "2022-07-06T06:12:20.752585Z"
    },
    "papermill": {
     "duration": 0.893515,
     "end_time": "2022-07-06T06:12:20.755651",
     "exception": false,
     "start_time": "2022-07-06T06:12:19.862136",
     "status": "completed"
    },
    "tags": []
   },
   "outputs": [
    {
     "data": {
      "text/html": [
       "<div>\n",
       "<style scoped>\n",
       "    .dataframe tbody tr th:only-of-type {\n",
       "        vertical-align: middle;\n",
       "    }\n",
       "\n",
       "    .dataframe tbody tr th {\n",
       "        vertical-align: top;\n",
       "    }\n",
       "\n",
       "    .dataframe thead th {\n",
       "        text-align: right;\n",
       "    }\n",
       "</style>\n",
       "<table border=\"1\" class=\"dataframe\">\n",
       "  <thead>\n",
       "    <tr style=\"text-align: right;\">\n",
       "      <th></th>\n",
       "      <th>t_value</th>\n",
       "      <th>p_value</th>\n",
       "      <th>ci_0.01</th>\n",
       "      <th>ci_0.05</th>\n",
       "      <th>ci_0.1</th>\n",
       "    </tr>\n",
       "  </thead>\n",
       "  <tbody>\n",
       "    <tr>\n",
       "      <th>CL vs HO + XB</th>\n",
       "      <td>-3.249946</td>\n",
       "      <td>0.152910</td>\n",
       "      <td>-4.298327</td>\n",
       "      <td>-3.743380</td>\n",
       "      <td>-3.454154</td>\n",
       "    </tr>\n",
       "    <tr>\n",
       "      <th>CL vs XB</th>\n",
       "      <td>-4.398909</td>\n",
       "      <td>0.001787</td>\n",
       "      <td>-3.899921</td>\n",
       "      <td>-3.338071</td>\n",
       "      <td>-3.045797</td>\n",
       "    </tr>\n",
       "    <tr>\n",
       "      <th>CL vs HO</th>\n",
       "      <td>-3.076846</td>\n",
       "      <td>0.093049</td>\n",
       "      <td>-3.899921</td>\n",
       "      <td>-3.338071</td>\n",
       "      <td>-3.045797</td>\n",
       "    </tr>\n",
       "  </tbody>\n",
       "</table>\n",
       "</div>"
      ],
      "text/plain": [
       "                t_value   p_value   ci_0.01   ci_0.05    ci_0.1\n",
       "CL vs HO + XB -3.249946  0.152910 -4.298327 -3.743380 -3.454154\n",
       "CL vs XB      -4.398909  0.001787 -3.899921 -3.338071 -3.045797\n",
       "CL vs HO      -3.076846  0.093049 -3.899921 -3.338071 -3.045797"
      ]
     },
     "execution_count": 18,
     "metadata": {},
     "output_type": "execute_result"
    }
   ],
   "source": [
    "pd.concat((\n",
    "    coint(\n",
    "        price_concat.loc['2010':, 'Crude oil'],\n",
    "        price_concat.loc['2010':, ['Heating oil', 'Gasoline']]\n",
    "    ).to_frame('CL vs HO + XB').T,\n",
    "    coint(\n",
    "        price_concat.loc['2010':, 'Crude oil'],\n",
    "        price_concat.loc['2010':, ['Gasoline']]\n",
    "    ).to_frame('CL vs XB').T,\n",
    "    coint(\n",
    "        price_concat.loc['2010':, 'Crude oil'],\n",
    "        price_concat.loc['2010':, ['Heating oil']]\n",
    "    ).to_frame('CL vs HO').T,\n",
    "))"
   ]
  },
  {
   "cell_type": "markdown",
   "id": "f22325d0",
   "metadata": {
    "papermill": {
     "duration": 0.017619,
     "end_time": "2022-07-06T06:12:20.828888",
     "exception": false,
     "start_time": "2022-07-06T06:12:20.811269",
     "status": "completed"
    },
    "tags": []
   },
   "source": [
    "## Crack spreads\n",
    "\n",
    "Additionally, GP1999 tests the stationarity of the popularly traded crack spread -- 3:2:1 crack spread (CS), 1:1:0 gasoline crack spread (GCS) and 1:0:1 heating oil crack spread (HOCS).\n",
    "\n",
    "Note that the crude oil contract is priced in barrels while the other two are priced in gallon, and there are 42 gallons per 1 barrel. Some unit conversions are required to calculate such spreads."
   ]
  },
  {
   "cell_type": "code",
   "execution_count": 19,
   "id": "015bb3e9",
   "metadata": {
    "execution": {
     "iopub.execute_input": "2022-07-06T06:12:20.867549Z",
     "iopub.status.busy": "2022-07-06T06:12:20.867255Z",
     "iopub.status.idle": "2022-07-06T06:12:20.877215Z",
     "shell.execute_reply": "2022-07-06T06:12:20.876492Z"
    },
    "papermill": {
     "duration": 0.031689,
     "end_time": "2022-07-06T06:12:20.879067",
     "exception": false,
     "start_time": "2022-07-06T06:12:20.847378",
     "status": "completed"
    },
    "tags": []
   },
   "outputs": [],
   "source": [
    "cs = (price_concat['Heating oil'].mul(42).mul(2 / 3) + \n",
    "      price_concat['Gasoline'].mul(42).mul(1 / 3) - \n",
    "      price_concat['Crude oil'])\n",
    "gcs = (price_concat['Gasoline'].mul(42) - \n",
    "       price_concat['Crude oil'])\n",
    "hocs = (price_concat['Heating oil'].mul(42) - \n",
    "        price_concat['Crude oil'])"
   ]
  },
  {
   "cell_type": "markdown",
   "id": "6608463f",
   "metadata": {
    "papermill": {
     "duration": 0.018639,
     "end_time": "2022-07-06T06:12:20.916140",
     "exception": false,
     "start_time": "2022-07-06T06:12:20.897501",
     "status": "completed"
    },
    "tags": []
   },
   "source": [
    "As can be seen visually below, these spreads appear stationary until around 2000 after which they started to drift away from a certain level. This could be related to the financialisation of commodities. There are some evidence suggesting that index investments and speculative trades influence the commodity markets. (cf https://www.ecb.europa.eu/pub/financial-stability/fsr/focus/2011/pdf/ecb~6fdfdfce1c.fsrbox201112_04.pdf)"
   ]
  },
  {
   "cell_type": "code",
   "execution_count": 20,
   "id": "0b27db24",
   "metadata": {
    "execution": {
     "iopub.execute_input": "2022-07-06T06:12:20.960791Z",
     "iopub.status.busy": "2022-07-06T06:12:20.960539Z",
     "iopub.status.idle": "2022-07-06T06:12:21.707830Z",
     "shell.execute_reply": "2022-07-06T06:12:21.707103Z"
    },
    "papermill": {
     "duration": 0.769873,
     "end_time": "2022-07-06T06:12:21.710530",
     "exception": false,
     "start_time": "2022-07-06T06:12:20.940657",
     "status": "completed"
    },
    "tags": []
   },
   "outputs": [
    {
     "data": {
      "image/png": "[encoded data removed]",
      "text/plain": [
       "<Figure size 864x288 with 3 Axes>"
      ]
     },
     "metadata": {
      "needs_background": "light"
     },
     "output_type": "display_data"
    }
   ],
   "source": [
    "fig, ax = plt.subplots(1, 3, figsize=(12, 4), sharey=True)\n",
    "cs.plot(ax=ax[0])\n",
    "gcs.plot(ax=ax[1])\n",
    "hocs.plot(ax=ax[2])\n",
    "\n",
    "ax[0].set_title('3:2:1 crack spread')\n",
    "ax[1].set_title('1:1:0 gasoline crack spread')\n",
    "ax[2].set_title('1:0:1 heating oil crack spread')\n",
    "ax[0].set_ylabel('Crack spread ($)')\n",
    "\n",
    "fig.tight_layout();"
   ]
  },
  {
   "cell_type": "markdown",
   "id": "ddba6b40",
   "metadata": {
    "papermill": {
     "duration": 0.025653,
     "end_time": "2022-07-06T06:12:21.762063",
     "exception": false,
     "start_time": "2022-07-06T06:12:21.736410",
     "status": "completed"
    },
    "tags": []
   },
   "source": [
    "More formally, the ADF tests below show that they were stationary until Nov-1994."
   ]
  },
  {
   "cell_type": "code",
   "execution_count": 21,
   "id": "bd58dd0b",
   "metadata": {
    "execution": {
     "iopub.execute_input": "2022-07-06T06:12:21.814906Z",
     "iopub.status.busy": "2022-07-06T06:12:21.814487Z",
     "iopub.status.idle": "2022-07-06T06:12:23.084217Z",
     "shell.execute_reply": "2022-07-06T06:12:23.083495Z"
    },
    "papermill": {
     "duration": 1.310746,
     "end_time": "2022-07-06T06:12:23.098528",
     "exception": false,
     "start_time": "2022-07-06T06:12:21.787782",
     "status": "completed"
    },
    "tags": []
   },
   "outputs": [
    {
     "data": {
      "text/html": [
       "<div>\n",
       "<style scoped>\n",
       "    .dataframe tbody tr th:only-of-type {\n",
       "        vertical-align: middle;\n",
       "    }\n",
       "\n",
       "    .dataframe tbody tr th {\n",
       "        vertical-align: top;\n",
       "    }\n",
       "\n",
       "    .dataframe thead th {\n",
       "        text-align: right;\n",
       "    }\n",
       "</style>\n",
       "<table border=\"1\" class=\"dataframe\">\n",
       "  <thead>\n",
       "    <tr style=\"text-align: right;\">\n",
       "      <th></th>\n",
       "      <th>adf</th>\n",
       "      <th>p_value</th>\n",
       "      <th>used_lag</th>\n",
       "      <th>n_obs</th>\n",
       "      <th>ci_0.01</th>\n",
       "      <th>ci_0.05</th>\n",
       "      <th>ci_0.1</th>\n",
       "      <th>ic_best</th>\n",
       "    </tr>\n",
       "  </thead>\n",
       "  <tbody>\n",
       "    <tr>\n",
       "      <th>0</th>\n",
       "      <td>-7.926287</td>\n",
       "      <td>3.611421e-12</td>\n",
       "      <td>0.0</td>\n",
       "      <td>2515.0</td>\n",
       "      <td>-3.432953</td>\n",
       "      <td>-2.86269</td>\n",
       "      <td>-2.567382</td>\n",
       "      <td>1757.165999</td>\n",
       "    </tr>\n",
       "    <tr>\n",
       "      <th>0</th>\n",
       "      <td>-5.640046</td>\n",
       "      <td>1.041538e-06</td>\n",
       "      <td>1.0</td>\n",
       "      <td>2514.0</td>\n",
       "      <td>-3.432954</td>\n",
       "      <td>-2.86269</td>\n",
       "      <td>-2.567382</td>\n",
       "      <td>2505.871051</td>\n",
       "    </tr>\n",
       "    <tr>\n",
       "      <th>0</th>\n",
       "      <td>-6.999952</td>\n",
       "      <td>7.365777e-10</td>\n",
       "      <td>0.0</td>\n",
       "      <td>2515.0</td>\n",
       "      <td>-3.432953</td>\n",
       "      <td>-2.86269</td>\n",
       "      <td>-2.567382</td>\n",
       "      <td>2815.457971</td>\n",
       "    </tr>\n",
       "  </tbody>\n",
       "</table>\n",
       "</div>"
      ],
      "text/plain": [
       "        adf       p_value  used_lag   n_obs   ci_0.01  ci_0.05    ci_0.1  \\\n",
       "0 -7.926287  3.611421e-12       0.0  2515.0 -3.432953 -2.86269 -2.567382   \n",
       "0 -5.640046  1.041538e-06       1.0  2514.0 -3.432954 -2.86269 -2.567382   \n",
       "0 -6.999952  7.365777e-10       0.0  2515.0 -3.432953 -2.86269 -2.567382   \n",
       "\n",
       "       ic_best  \n",
       "0  1757.165999  \n",
       "0  2505.871051  \n",
       "0  2815.457971  "
      ]
     },
     "execution_count": 21,
     "metadata": {},
     "output_type": "execute_result"
    }
   ],
   "source": [
    "pd.concat((\n",
    "    adf(cs[:'1994-11'], autolag='BIC').to_frame().T,\n",
    "    adf(gcs[:'1994-11'], autolag='BIC').to_frame().T,\n",
    "    adf(hocs[:'1994-11'], autolag='BIC').to_frame().T,\n",
    "))"
   ]
  },
  {
   "cell_type": "markdown",
   "id": "6e2c8692",
   "metadata": {
    "papermill": {
     "duration": 0.02601,
     "end_time": "2022-07-06T06:12:23.153518",
     "exception": false,
     "start_time": "2022-07-06T06:12:23.127508",
     "status": "completed"
    },
    "tags": []
   },
   "source": [
    "Statistically though these spreads are still stationary at the 1% confidence level even after 2000."
   ]
  },
  {
   "cell_type": "code",
   "execution_count": 22,
   "id": "d3f9d7a9",
   "metadata": {
    "execution": {
     "iopub.execute_input": "2022-07-06T06:12:23.206748Z",
     "iopub.status.busy": "2022-07-06T06:12:23.206390Z",
     "iopub.status.idle": "2022-07-06T06:12:25.642803Z",
     "shell.execute_reply": "2022-07-06T06:12:25.642140Z"
    },
    "papermill": {
     "duration": 2.465637,
     "end_time": "2022-07-06T06:12:25.645123",
     "exception": false,
     "start_time": "2022-07-06T06:12:23.179486",
     "status": "completed"
    },
    "tags": []
   },
   "outputs": [
    {
     "data": {
      "text/html": [
       "<div>\n",
       "<style scoped>\n",
       "    .dataframe tbody tr th:only-of-type {\n",
       "        vertical-align: middle;\n",
       "    }\n",
       "\n",
       "    .dataframe tbody tr th {\n",
       "        vertical-align: top;\n",
       "    }\n",
       "\n",
       "    .dataframe thead th {\n",
       "        text-align: right;\n",
       "    }\n",
       "</style>\n",
       "<table border=\"1\" class=\"dataframe\">\n",
       "  <thead>\n",
       "    <tr style=\"text-align: right;\">\n",
       "      <th></th>\n",
       "      <th>adf</th>\n",
       "      <th>p_value</th>\n",
       "      <th>used_lag</th>\n",
       "      <th>n_obs</th>\n",
       "      <th>ci_0.01</th>\n",
       "      <th>ci_0.05</th>\n",
       "      <th>ci_0.1</th>\n",
       "      <th>ic_best</th>\n",
       "    </tr>\n",
       "  </thead>\n",
       "  <tbody>\n",
       "    <tr>\n",
       "      <th>0</th>\n",
       "      <td>-2.892469</td>\n",
       "      <td>0.046231</td>\n",
       "      <td>2.0</td>\n",
       "      <td>5649.0</td>\n",
       "      <td>-3.431508</td>\n",
       "      <td>-2.862052</td>\n",
       "      <td>-2.567042</td>\n",
       "      <td>15856.528889</td>\n",
       "    </tr>\n",
       "    <tr>\n",
       "      <th>0</th>\n",
       "      <td>-4.731626</td>\n",
       "      <td>0.000073</td>\n",
       "      <td>0.0</td>\n",
       "      <td>5651.0</td>\n",
       "      <td>-3.431508</td>\n",
       "      <td>-2.862052</td>\n",
       "      <td>-2.567042</td>\n",
       "      <td>18004.159345</td>\n",
       "    </tr>\n",
       "    <tr>\n",
       "      <th>0</th>\n",
       "      <td>-3.103631</td>\n",
       "      <td>0.026286</td>\n",
       "      <td>2.0</td>\n",
       "      <td>5649.0</td>\n",
       "      <td>-3.431508</td>\n",
       "      <td>-2.862052</td>\n",
       "      <td>-2.567042</td>\n",
       "      <td>17776.177907</td>\n",
       "    </tr>\n",
       "  </tbody>\n",
       "</table>\n",
       "</div>"
      ],
      "text/plain": [
       "        adf   p_value  used_lag   n_obs   ci_0.01   ci_0.05    ci_0.1  \\\n",
       "0 -2.892469  0.046231       2.0  5649.0 -3.431508 -2.862052 -2.567042   \n",
       "0 -4.731626  0.000073       0.0  5651.0 -3.431508 -2.862052 -2.567042   \n",
       "0 -3.103631  0.026286       2.0  5649.0 -3.431508 -2.862052 -2.567042   \n",
       "\n",
       "        ic_best  \n",
       "0  15856.528889  \n",
       "0  18004.159345  \n",
       "0  17776.177907  "
      ]
     },
     "execution_count": 22,
     "metadata": {},
     "output_type": "execute_result"
    }
   ],
   "source": [
    "pd.concat((\n",
    "    adf(cs['2000':], autolag='BIC').to_frame().T,\n",
    "    adf(gcs['2000':], autolag='BIC').to_frame().T,\n",
    "    adf(hocs['2000':], autolag='BIC').to_frame().T,\n",
    "))"
   ]
  },
  {
   "cell_type": "markdown",
   "id": "eb6c197c",
   "metadata": {
    "papermill": {
     "duration": 0.026495,
     "end_time": "2022-07-06T06:12:25.699571",
     "exception": false,
     "start_time": "2022-07-06T06:12:25.673076",
     "status": "completed"
    },
    "tags": []
   },
   "source": [
    "# Backtest"
   ]
  },
  {
   "cell_type": "markdown",
   "id": "4bbb1506",
   "metadata": {
    "papermill": {
     "duration": 0.026468,
     "end_time": "2022-07-06T06:12:25.752716",
     "exception": false,
     "start_time": "2022-07-06T06:12:25.726248",
     "status": "completed"
    },
    "tags": []
   },
   "source": [
    "It's not entirely clear how many back contracts are used in the original analysis as they only mentioned they used *all spreads*. In this notebook, the first 6 contracts are used for the sake of simplicity. Beyond 6, there tends to be more missing prices because of inactivity.\n",
    "\n",
    "In practice, one might want to consider liquidity of each contract to decide which one to trade as not all contract months have the same liquidity. In the case of crude oil, after certain points only June and December contracts are actually traded even though other months are listed."
   ]
  },
  {
   "cell_type": "code",
   "execution_count": 23,
   "id": "4aebb8bd",
   "metadata": {
    "execution": {
     "iopub.execute_input": "2022-07-06T06:12:25.807958Z",
     "iopub.status.busy": "2022-07-06T06:12:25.807555Z",
     "iopub.status.idle": "2022-07-06T06:12:26.841555Z",
     "shell.execute_reply": "2022-07-06T06:12:26.840780Z"
    },
    "papermill": {
     "duration": 1.063896,
     "end_time": "2022-07-06T06:12:26.843690",
     "exception": false,
     "start_time": "2022-07-06T06:12:25.779794",
     "status": "completed"
    },
    "tags": []
   },
   "outputs": [],
   "source": [
    "cl_curve = get_futures_curve_snapshot('CL', datetime(2021, 12, 1), 'volume')"
   ]
  },
  {
   "cell_type": "code",
   "execution_count": 24,
   "id": "c2bd035a",
   "metadata": {
    "execution": {
     "iopub.execute_input": "2022-07-06T06:12:26.892480Z",
     "iopub.status.busy": "2022-07-06T06:12:26.892182Z",
     "iopub.status.idle": "2022-07-06T06:12:27.687825Z",
     "shell.execute_reply": "2022-07-06T06:12:27.687253Z"
    },
    "papermill": {
     "duration": 0.821783,
     "end_time": "2022-07-06T06:12:27.689477",
     "exception": false,
     "start_time": "2022-07-06T06:12:26.867694",
     "status": "completed"
    },
    "tags": []
   },
   "outputs": [
    {
     "data": {
      "image/png": "[encoded data removed]",
      "text/plain": [
       "<Figure size 1008x216 with 1 Axes>"
      ]
     },
     "metadata": {
      "needs_background": "light"
     },
     "output_type": "display_data"
    }
   ],
   "source": [
    "ax = cl_curve.loc[:'2024'].set_index('symbol')['volume'].plot(kind='bar', figsize=(14, 3));\n",
    "ax.set_ylabel('Volume')\n",
    "ax.set_title('Crude oil traded volume per contract');"
   ]
  },
  {
   "cell_type": "markdown",
   "id": "9de6acec",
   "metadata": {
    "papermill": {
     "duration": 0.024934,
     "end_time": "2022-07-06T06:12:27.739521",
     "exception": false,
     "start_time": "2022-07-06T06:12:27.714587",
     "status": "completed"
    },
    "tags": []
   },
   "source": [
    "## Crack spread\n",
    "\n",
    "First define the instruments. `roll_rule` is defined to make sure futures are rolled on month-ends. As per the analysis done for crush spreads, some arbitrary collateral of 100k USD is used to meature futures returns."
   ]
  },
  {
   "cell_type": "code",
   "execution_count": 25,
   "id": "5d159539",
   "metadata": {
    "execution": {
     "iopub.execute_input": "2022-07-06T06:12:27.790265Z",
     "iopub.status.busy": "2022-07-06T06:12:27.790069Z",
     "iopub.status.idle": "2022-07-06T06:12:27.796126Z",
     "shell.execute_reply": "2022-07-06T06:12:27.795461Z"
    },
    "papermill": {
     "duration": 0.033461,
     "end_time": "2022-07-06T06:12:27.797641",
     "exception": false,
     "start_time": "2022-07-06T06:12:27.764180",
     "status": "completed"
    },
    "tags": []
   },
   "outputs": [],
   "source": [
    "max_expiry = 6\n",
    "instrument = []\n",
    "for i in range(1, max_expiry + 1):\n",
    "    ho = InstrumentDef('HO', id=f'HO_{i}', collateral=100_000, roll_rule=RollRule.MONTH_END.value, nth_expiry=i)\n",
    "    xb = InstrumentDef('XB', id=f'XB_{i}', collateral=100_000, roll_rule=RollRule.MONTH_END.value, nth_expiry=i)\n",
    "    cl = InstrumentDef('CL', id=f'CL_{i}', collateral=100_000, roll_rule=RollRule.MONTH_END.value, nth_expiry=i)\n",
    "    instrument.append(ho)\n",
    "    instrument.append(xb)\n",
    "    instrument.append(cl)"
   ]
  },
  {
   "cell_type": "code",
   "execution_count": 26,
   "id": "19851a3b",
   "metadata": {
    "execution": {
     "iopub.execute_input": "2022-07-06T06:12:27.835058Z",
     "iopub.status.busy": "2022-07-06T06:12:27.834795Z",
     "iopub.status.idle": "2022-07-06T06:12:27.840178Z",
     "shell.execute_reply": "2022-07-06T06:12:27.839570Z"
    },
    "papermill": {
     "duration": 0.025801,
     "end_time": "2022-07-06T06:12:27.841695",
     "exception": false,
     "start_time": "2022-07-06T06:12:27.815894",
     "status": "completed"
    },
    "tags": []
   },
   "outputs": [
    {
     "data": {
      "text/plain": [
       "18"
      ]
     },
     "execution_count": 26,
     "metadata": {},
     "output_type": "execute_result"
    }
   ],
   "source": [
    "len(instrument)"
   ]
  },
  {
   "cell_type": "code",
   "execution_count": 27,
   "id": "729399c3",
   "metadata": {
    "execution": {
     "iopub.execute_input": "2022-07-06T06:12:27.879227Z",
     "iopub.status.busy": "2022-07-06T06:12:27.879036Z",
     "iopub.status.idle": "2022-07-06T06:18:58.646889Z",
     "shell.execute_reply": "2022-07-06T06:18:58.646011Z"
    },
    "papermill": {
     "duration": 390.789848,
     "end_time": "2022-07-06T06:18:58.649695",
     "exception": false,
     "start_time": "2022-07-06T06:12:27.859847",
     "status": "completed"
    },
    "tags": []
   },
   "outputs": [],
   "source": [
    "engine_cs = BacktestEngine(\n",
    "    start_date=datetime(1985, 1, 1),\n",
    "    strategy=Strategy.DELTA_ONE.value,\n",
    "    instrument=instrument,\n",
    "    signal=signal.CrackSpreadGP1999(\n",
    "        ma_lookback=5,\n",
    "        entry_sigma=2,\n",
    "    ),\n",
    "    weighting=Weighting.SUM.value,\n",
    "    log_level=logging.WARN,\n",
    ")\n",
    "engine_cs.run()"
   ]
  },
  {
   "cell_type": "code",
   "execution_count": 28,
   "id": "f08e3ad6",
   "metadata": {
    "execution": {
     "iopub.execute_input": "2022-07-06T06:18:58.699158Z",
     "iopub.status.busy": "2022-07-06T06:18:58.698638Z",
     "iopub.status.idle": "2022-07-06T06:20:36.572553Z",
     "shell.execute_reply": "2022-07-06T06:20:36.571909Z"
    },
    "papermill": {
     "duration": 97.900775,
     "end_time": "2022-07-06T06:20:36.574739",
     "exception": false,
     "start_time": "2022-07-06T06:18:58.673964",
     "status": "completed"
    },
    "tags": []
   },
   "outputs": [],
   "source": [
    "levels_cs = engine_cs.calculate_equity_curve(calculate_net=False).rename('Crack spread')"
   ]
  },
  {
   "cell_type": "markdown",
   "id": "46f2eaf9",
   "metadata": {
    "papermill": {
     "duration": 0.019124,
     "end_time": "2022-07-06T06:20:36.618825",
     "exception": false,
     "start_time": "2022-07-06T06:20:36.599701",
     "status": "completed"
    },
    "tags": []
   },
   "source": [
    "## Gasoline crack spread"
   ]
  },
  {
   "cell_type": "code",
   "execution_count": 29,
   "id": "ea2825c3",
   "metadata": {
    "execution": {
     "iopub.execute_input": "2022-07-06T06:20:36.660445Z",
     "iopub.status.busy": "2022-07-06T06:20:36.660114Z",
     "iopub.status.idle": "2022-07-06T06:20:36.666490Z",
     "shell.execute_reply": "2022-07-06T06:20:36.665904Z"
    },
    "papermill": {
     "duration": 0.029837,
     "end_time": "2022-07-06T06:20:36.668082",
     "exception": false,
     "start_time": "2022-07-06T06:20:36.638245",
     "status": "completed"
    },
    "tags": []
   },
   "outputs": [],
   "source": [
    "max_expiry = 6\n",
    "instrument = []\n",
    "for i in range(1, max_expiry + 1):\n",
    "    xb = InstrumentDef('XB', id=f'XB_{i}', collateral=100_000, roll_rule=RollRule.MONTH_END.value, nth_expiry=i)\n",
    "    cl = InstrumentDef('CL', id=f'CL_{i}', collateral=100_000, roll_rule=RollRule.MONTH_END.value, nth_expiry=i)\n",
    "    instrument.append(xb)\n",
    "    instrument.append(cl)"
   ]
  },
  {
   "cell_type": "code",
   "execution_count": 30,
   "id": "553fbe4b",
   "metadata": {
    "execution": {
     "iopub.execute_input": "2022-07-06T06:20:36.705819Z",
     "iopub.status.busy": "2022-07-06T06:20:36.705590Z",
     "iopub.status.idle": "2022-07-06T06:25:09.834432Z",
     "shell.execute_reply": "2022-07-06T06:25:09.833770Z"
    },
    "papermill": {
     "duration": 273.149713,
     "end_time": "2022-07-06T06:25:09.836109",
     "exception": false,
     "start_time": "2022-07-06T06:20:36.686396",
     "status": "completed"
    },
    "tags": []
   },
   "outputs": [],
   "source": [
    "engine_gcs = BacktestEngine(\n",
    "    start_date=datetime(1985, 1, 1),\n",
    "    strategy=Strategy.DELTA_ONE.value,\n",
    "    instrument=instrument,\n",
    "    signal=signal.CrackSpreadGP1999(\n",
    "        weights={'XB': 42 * 1000, 'CL': -1 * 1000},\n",
    "        ma_lookback=5,\n",
    "        entry_sigma=2,\n",
    "    ),\n",
    "    weighting=Weighting.SUM.value,\n",
    "    log_level=logging.WARN,\n",
    ")\n",
    "engine_gcs.run()"
   ]
  },
  {
   "cell_type": "code",
   "execution_count": 31,
   "id": "4d87519a",
   "metadata": {
    "execution": {
     "iopub.execute_input": "2022-07-06T06:25:09.875527Z",
     "iopub.status.busy": "2022-07-06T06:25:09.875183Z",
     "iopub.status.idle": "2022-07-06T06:26:13.854714Z",
     "shell.execute_reply": "2022-07-06T06:26:13.854094Z"
    },
    "papermill": {
     "duration": 64.001193,
     "end_time": "2022-07-06T06:26:13.856701",
     "exception": false,
     "start_time": "2022-07-06T06:25:09.855508",
     "status": "completed"
    },
    "tags": []
   },
   "outputs": [],
   "source": [
    "levels_gcs = engine_gcs.calculate_equity_curve(calculate_net=False).rename('Gasoline crack spread')"
   ]
  },
  {
   "cell_type": "markdown",
   "id": "8d456942",
   "metadata": {
    "papermill": {
     "duration": 0.018838,
     "end_time": "2022-07-06T06:26:13.894046",
     "exception": false,
     "start_time": "2022-07-06T06:26:13.875208",
     "status": "completed"
    },
    "tags": []
   },
   "source": [
    "## Heating oil crack spread"
   ]
  },
  {
   "cell_type": "code",
   "execution_count": 32,
   "id": "9cb7c150",
   "metadata": {
    "execution": {
     "iopub.execute_input": "2022-07-06T06:26:13.933413Z",
     "iopub.status.busy": "2022-07-06T06:26:13.933161Z",
     "iopub.status.idle": "2022-07-06T06:26:13.938553Z",
     "shell.execute_reply": "2022-07-06T06:26:13.937826Z"
    },
    "papermill": {
     "duration": 0.027439,
     "end_time": "2022-07-06T06:26:13.940182",
     "exception": false,
     "start_time": "2022-07-06T06:26:13.912743",
     "status": "completed"
    },
    "tags": []
   },
   "outputs": [],
   "source": [
    "max_expiry = 6\n",
    "instrument = []\n",
    "for i in range(1, max_expiry + 1):\n",
    "    ho = InstrumentDef('HO', id=f'HO_{i}', collateral=100_000, roll_rule=RollRule.MONTH_END.value, nth_expiry=i)\n",
    "    cl = InstrumentDef('CL', id=f'CL_{i}', collateral=100_000, roll_rule=RollRule.MONTH_END.value, nth_expiry=i)\n",
    "    instrument.append(ho)\n",
    "    instrument.append(cl)"
   ]
  },
  {
   "cell_type": "code",
   "execution_count": 33,
   "id": "9338a131",
   "metadata": {
    "execution": {
     "iopub.execute_input": "2022-07-06T06:26:13.978756Z",
     "iopub.status.busy": "2022-07-06T06:26:13.978486Z",
     "iopub.status.idle": "2022-07-06T06:30:39.871593Z",
     "shell.execute_reply": "2022-07-06T06:30:39.870893Z"
    },
    "papermill": {
     "duration": 265.915548,
     "end_time": "2022-07-06T06:30:39.873967",
     "exception": false,
     "start_time": "2022-07-06T06:26:13.958419",
     "status": "completed"
    },
    "tags": []
   },
   "outputs": [],
   "source": [
    "engine_hocs = BacktestEngine(\n",
    "    start_date=datetime(1985, 1, 1),\n",
    "    strategy=Strategy.DELTA_ONE.value,\n",
    "    instrument=instrument,\n",
    "    signal=signal.CrackSpreadGP1999(\n",
    "        weights={'HO': 42 * 1000, 'CL': -1 * 1000},\n",
    "        ma_lookback=5,\n",
    "        entry_sigma=2,\n",
    "    ),\n",
    "    weighting=Weighting.SUM.value,\n",
    "    log_level=logging.WARN,\n",
    ")\n",
    "engine_hocs.run()"
   ]
  },
  {
   "cell_type": "code",
   "execution_count": 34,
   "id": "64757694",
   "metadata": {
    "execution": {
     "iopub.execute_input": "2022-07-06T06:30:39.924179Z",
     "iopub.status.busy": "2022-07-06T06:30:39.923901Z",
     "iopub.status.idle": "2022-07-06T06:31:39.637021Z",
     "shell.execute_reply": "2022-07-06T06:31:39.636335Z"
    },
    "papermill": {
     "duration": 59.741874,
     "end_time": "2022-07-06T06:31:39.638816",
     "exception": false,
     "start_time": "2022-07-06T06:30:39.896942",
     "status": "completed"
    },
    "tags": []
   },
   "outputs": [],
   "source": [
    "levels_hocs = engine_hocs.calculate_equity_curve(calculate_net=False).rename('Heating oil crack spread')"
   ]
  },
  {
   "cell_type": "markdown",
   "id": "7d427481",
   "metadata": {
    "papermill": {
     "duration": 0.020865,
     "end_time": "2022-07-06T06:31:39.680334",
     "exception": false,
     "start_time": "2022-07-06T06:31:39.659469",
     "status": "completed"
    },
    "tags": []
   },
   "source": [
    "## Performance\n",
    "During the sample period tested, a mean-reversion on the crack spread worked well."
   ]
  },
  {
   "cell_type": "code",
   "execution_count": 35,
   "id": "348f0796",
   "metadata": {
    "execution": {
     "iopub.execute_input": "2022-07-06T06:31:39.721085Z",
     "iopub.status.busy": "2022-07-06T06:31:39.720673Z",
     "iopub.status.idle": "2022-07-06T06:31:39.732230Z",
     "shell.execute_reply": "2022-07-06T06:31:39.731651Z"
    },
    "papermill": {
     "duration": 0.035111,
     "end_time": "2022-07-06T06:31:39.734537",
     "exception": false,
     "start_time": "2022-07-06T06:31:39.699426",
     "status": "completed"
    },
    "tags": []
   },
   "outputs": [],
   "source": [
    "levels = pd.concat((\n",
    "    levels_cs, levels_gcs, levels_hocs\n",
    "), axis=1)"
   ]
  },
  {
   "cell_type": "code",
   "execution_count": 36,
   "id": "c3b6f7cd",
   "metadata": {
    "execution": {
     "iopub.execute_input": "2022-07-06T06:31:39.788912Z",
     "iopub.status.busy": "2022-07-06T06:31:39.788475Z",
     "iopub.status.idle": "2022-07-06T06:31:40.630414Z",
     "shell.execute_reply": "2022-07-06T06:31:40.629520Z"
    },
    "papermill": {
     "duration": 0.865758,
     "end_time": "2022-07-06T06:31:40.632240",
     "exception": false,
     "start_time": "2022-07-06T06:31:39.766482",
     "status": "completed"
    },
    "tags": []
   },
   "outputs": [
    {
     "data": {
      "image/png": "[encoded data removed]",
      "text/plain": [
       "<Figure size 576x324 with 1 Axes>"
      ]
     },
     "metadata": {
      "needs_background": "light"
     },
     "output_type": "display_data"
    }
   ],
   "source": [
    "fig, ax = plt.subplots(figsize=(8, 4.5))\n",
    "levels[:'1994-11'].plot(ax=ax, logy=True);\n",
    "ax.set_title('Crack spreads mean-reversion (GP1999)')\n",
    "ax.set_ylabel('Cumulative returns');"
   ]
  },
  {
   "cell_type": "code",
   "execution_count": 37,
   "id": "8b9035a4",
   "metadata": {
    "execution": {
     "iopub.execute_input": "2022-07-06T06:31:40.677614Z",
     "iopub.status.busy": "2022-07-06T06:31:40.677215Z",
     "iopub.status.idle": "2022-07-06T06:31:40.726784Z",
     "shell.execute_reply": "2022-07-06T06:31:40.726109Z"
    },
    "papermill": {
     "duration": 0.07645,
     "end_time": "2022-07-06T06:31:40.729085",
     "exception": false,
     "start_time": "2022-07-06T06:31:40.652635",
     "status": "completed"
    },
    "tags": []
   },
   "outputs": [
    {
     "data": {
      "text/html": [
       "<div>\n",
       "<style scoped>\n",
       "    .dataframe tbody tr th:only-of-type {\n",
       "        vertical-align: middle;\n",
       "    }\n",
       "\n",
       "    .dataframe tbody tr th {\n",
       "        vertical-align: top;\n",
       "    }\n",
       "\n",
       "    .dataframe thead th {\n",
       "        text-align: right;\n",
       "    }\n",
       "</style>\n",
       "<table border=\"1\" class=\"dataframe\">\n",
       "  <thead>\n",
       "    <tr style=\"text-align: right;\">\n",
       "      <th></th>\n",
       "      <th>Crack spread</th>\n",
       "      <th>Gasoline crack spread</th>\n",
       "      <th>Heating oil crack spread</th>\n",
       "    </tr>\n",
       "  </thead>\n",
       "  <tbody>\n",
       "    <tr>\n",
       "      <th>CAGR</th>\n",
       "      <td>0.014100</td>\n",
       "      <td>0.007241</td>\n",
       "      <td>0.011715</td>\n",
       "    </tr>\n",
       "    <tr>\n",
       "      <th>Annualised vol</th>\n",
       "      <td>0.018131</td>\n",
       "      <td>0.022948</td>\n",
       "      <td>0.017725</td>\n",
       "    </tr>\n",
       "    <tr>\n",
       "      <th>Sharpe ratio</th>\n",
       "      <td>0.777675</td>\n",
       "      <td>0.315525</td>\n",
       "      <td>0.660914</td>\n",
       "    </tr>\n",
       "    <tr>\n",
       "      <th>Max drawdown</th>\n",
       "      <td>0.071648</td>\n",
       "      <td>0.129760</td>\n",
       "      <td>0.044562</td>\n",
       "    </tr>\n",
       "    <tr>\n",
       "      <th>Calmar ratio</th>\n",
       "      <td>0.196791</td>\n",
       "      <td>0.055800</td>\n",
       "      <td>0.262889</td>\n",
       "    </tr>\n",
       "    <tr>\n",
       "      <th>Skewness</th>\n",
       "      <td>0.791950</td>\n",
       "      <td>4.373877</td>\n",
       "      <td>2.076780</td>\n",
       "    </tr>\n",
       "    <tr>\n",
       "      <th>Kurtosis</th>\n",
       "      <td>45.874931</td>\n",
       "      <td>200.909353</td>\n",
       "      <td>75.098364</td>\n",
       "    </tr>\n",
       "    <tr>\n",
       "      <th>Worst return</th>\n",
       "      <td>-0.012272</td>\n",
       "      <td>-0.022322</td>\n",
       "      <td>-0.013000</td>\n",
       "    </tr>\n",
       "    <tr>\n",
       "      <th>Worst 1d return</th>\n",
       "      <td>-0.012272</td>\n",
       "      <td>-0.022322</td>\n",
       "      <td>-0.013000</td>\n",
       "    </tr>\n",
       "    <tr>\n",
       "      <th>Worst 1w return</th>\n",
       "      <td>-0.018763</td>\n",
       "      <td>-0.034413</td>\n",
       "      <td>-0.019985</td>\n",
       "    </tr>\n",
       "    <tr>\n",
       "      <th>Worst 1m return</th>\n",
       "      <td>-0.030638</td>\n",
       "      <td>-0.029017</td>\n",
       "      <td>-0.026193</td>\n",
       "    </tr>\n",
       "  </tbody>\n",
       "</table>\n",
       "</div>"
      ],
      "text/plain": [
       "                 Crack spread  Gasoline crack spread  Heating oil crack spread\n",
       "CAGR                 0.014100               0.007241                  0.011715\n",
       "Annualised vol       0.018131               0.022948                  0.017725\n",
       "Sharpe ratio         0.777675               0.315525                  0.660914\n",
       "Max drawdown         0.071648               0.129760                  0.044562\n",
       "Calmar ratio         0.196791               0.055800                  0.262889\n",
       "Skewness             0.791950               4.373877                  2.076780\n",
       "Kurtosis            45.874931             200.909353                 75.098364\n",
       "Worst return        -0.012272              -0.022322                 -0.013000\n",
       "Worst 1d return     -0.012272              -0.022322                 -0.013000\n",
       "Worst 1w return     -0.018763              -0.034413                 -0.019985\n",
       "Worst 1m return     -0.030638              -0.029017                 -0.026193"
      ]
     },
     "execution_count": 37,
     "metadata": {},
     "output_type": "execute_result"
    }
   ],
   "source": [
    "levels[:'1994-11'].pipe(Performance).summary()"
   ]
  },
  {
   "cell_type": "markdown",
   "id": "25d81c19",
   "metadata": {
    "papermill": {
     "duration": 0.027161,
     "end_time": "2022-07-06T06:31:40.783382",
     "exception": false,
     "start_time": "2022-07-06T06:31:40.756221",
     "status": "completed"
    },
    "tags": []
   },
   "source": [
    "The underperformance in 1990 coincides with a wider divergence on the crack spread which is intuitive."
   ]
  },
  {
   "cell_type": "code",
   "execution_count": 38,
   "id": "76538675",
   "metadata": {
    "execution": {
     "iopub.execute_input": "2022-07-06T06:31:40.825304Z",
     "iopub.status.busy": "2022-07-06T06:31:40.825111Z",
     "iopub.status.idle": "2022-07-06T06:31:41.232252Z",
     "shell.execute_reply": "2022-07-06T06:31:41.231655Z"
    },
    "papermill": {
     "duration": 0.429557,
     "end_time": "2022-07-06T06:31:41.234331",
     "exception": false,
     "start_time": "2022-07-06T06:31:40.804774",
     "status": "completed"
    },
    "tags": []
   },
   "outputs": [
    {
     "data": {
      "image/png": "[encoded data removed]",
      "text/plain": [
       "<Figure size 576x360 with 2 Axes>"
      ]
     },
     "metadata": {
      "needs_background": "light"
     },
     "output_type": "display_data"
    }
   ],
   "source": [
    "pd.concat((\n",
    "    levels_gcs.rename('Gasoline crack spread strategy'),\n",
    "    gcs.rename('GCS')\n",
    "), axis=1)[:'1994-11'].plot(figsize=(8, 5), secondary_y='GCS');"
   ]
  },
  {
   "cell_type": "markdown",
   "id": "e2d431e2",
   "metadata": {
    "papermill": {
     "duration": 0.019563,
     "end_time": "2022-07-06T06:31:41.273895",
     "exception": false,
     "start_time": "2022-07-06T06:31:41.254332",
     "status": "completed"
    },
    "tags": []
   },
   "source": [
    "## Long-term performance\n",
    "\n",
    "...however as we saw earlier in the time-series of crack spreads, something must have changed in 2000s and the trading strategies stopped working."
   ]
  },
  {
   "cell_type": "code",
   "execution_count": 39,
   "id": "d8a263d6",
   "metadata": {
    "execution": {
     "iopub.execute_input": "2022-07-06T06:31:41.315674Z",
     "iopub.status.busy": "2022-07-06T06:31:41.315112Z",
     "iopub.status.idle": "2022-07-06T06:31:41.854774Z",
     "shell.execute_reply": "2022-07-06T06:31:41.854028Z"
    },
    "papermill": {
     "duration": 0.562829,
     "end_time": "2022-07-06T06:31:41.856533",
     "exception": false,
     "start_time": "2022-07-06T06:31:41.293704",
     "status": "completed"
    },
    "tags": []
   },
   "outputs": [
    {
     "data": {
      "image/png": "[encoded data removed]",
      "text/plain": [
       "<Figure size 576x324 with 1 Axes>"
      ]
     },
     "metadata": {
      "needs_background": "light"
     },
     "output_type": "display_data"
    }
   ],
   "source": [
    "fig, ax = plt.subplots(figsize=(8, 4.5))\n",
    "levels.plot(ax=ax, logy=True);\n",
    "ax.set_title('Crack spreads mean-reversion (GP1999)')\n",
    "ax.set_ylabel('Cumulative returns');"
   ]
  },
  {
   "cell_type": "code",
   "execution_count": 40,
   "id": "b9b01da1",
   "metadata": {
    "execution": {
     "iopub.execute_input": "2022-07-06T06:31:41.899078Z",
     "iopub.status.busy": "2022-07-06T06:31:41.898591Z",
     "iopub.status.idle": "2022-07-06T06:31:41.975497Z",
     "shell.execute_reply": "2022-07-06T06:31:41.974951Z"
    },
    "papermill": {
     "duration": 0.100593,
     "end_time": "2022-07-06T06:31:41.977110",
     "exception": false,
     "start_time": "2022-07-06T06:31:41.876517",
     "status": "completed"
    },
    "tags": []
   },
   "outputs": [
    {
     "data": {
      "text/html": [
       "<div>\n",
       "<style scoped>\n",
       "    .dataframe tbody tr th:only-of-type {\n",
       "        vertical-align: middle;\n",
       "    }\n",
       "\n",
       "    .dataframe tbody tr th {\n",
       "        vertical-align: top;\n",
       "    }\n",
       "\n",
       "    .dataframe thead th {\n",
       "        text-align: right;\n",
       "    }\n",
       "</style>\n",
       "<table border=\"1\" class=\"dataframe\">\n",
       "  <thead>\n",
       "    <tr style=\"text-align: right;\">\n",
       "      <th></th>\n",
       "      <th>Crack spread</th>\n",
       "      <th>Gasoline crack spread</th>\n",
       "      <th>Heating oil crack spread</th>\n",
       "    </tr>\n",
       "  </thead>\n",
       "  <tbody>\n",
       "    <tr>\n",
       "      <th>CAGR</th>\n",
       "      <td>-0.052981</td>\n",
       "      <td>-0.006757</td>\n",
       "      <td>-0.008485</td>\n",
       "    </tr>\n",
       "    <tr>\n",
       "      <th>Annualised vol</th>\n",
       "      <td>0.165936</td>\n",
       "      <td>0.044842</td>\n",
       "      <td>0.076440</td>\n",
       "    </tr>\n",
       "    <tr>\n",
       "      <th>Sharpe ratio</th>\n",
       "      <td>-0.319283</td>\n",
       "      <td>-0.150685</td>\n",
       "      <td>-0.110999</td>\n",
       "    </tr>\n",
       "    <tr>\n",
       "      <th>Max drawdown</th>\n",
       "      <td>0.939134</td>\n",
       "      <td>0.455942</td>\n",
       "      <td>0.466886</td>\n",
       "    </tr>\n",
       "    <tr>\n",
       "      <th>Calmar ratio</th>\n",
       "      <td>-0.056414</td>\n",
       "      <td>-0.014820</td>\n",
       "      <td>-0.018173</td>\n",
       "    </tr>\n",
       "    <tr>\n",
       "      <th>Skewness</th>\n",
       "      <td>11.761756</td>\n",
       "      <td>-1.828626</td>\n",
       "      <td>3.887298</td>\n",
       "    </tr>\n",
       "    <tr>\n",
       "      <th>Kurtosis</th>\n",
       "      <td>1381.331473</td>\n",
       "      <td>67.765582</td>\n",
       "      <td>676.925551</td>\n",
       "    </tr>\n",
       "    <tr>\n",
       "      <th>Worst return</th>\n",
       "      <td>-0.339082</td>\n",
       "      <td>-0.049356</td>\n",
       "      <td>-0.162293</td>\n",
       "    </tr>\n",
       "    <tr>\n",
       "      <th>Worst 1d return</th>\n",
       "      <td>-0.339082</td>\n",
       "      <td>-0.049356</td>\n",
       "      <td>-0.162293</td>\n",
       "    </tr>\n",
       "    <tr>\n",
       "      <th>Worst 1w return</th>\n",
       "      <td>-0.487829</td>\n",
       "      <td>-0.101832</td>\n",
       "      <td>-0.125455</td>\n",
       "    </tr>\n",
       "    <tr>\n",
       "      <th>Worst 1m return</th>\n",
       "      <td>-0.436654</td>\n",
       "      <td>-0.119793</td>\n",
       "      <td>-0.228092</td>\n",
       "    </tr>\n",
       "  </tbody>\n",
       "</table>\n",
       "</div>"
      ],
      "text/plain": [
       "                 Crack spread  Gasoline crack spread  Heating oil crack spread\n",
       "CAGR                -0.052981              -0.006757                 -0.008485\n",
       "Annualised vol       0.165936               0.044842                  0.076440\n",
       "Sharpe ratio        -0.319283              -0.150685                 -0.110999\n",
       "Max drawdown         0.939134               0.455942                  0.466886\n",
       "Calmar ratio        -0.056414              -0.014820                 -0.018173\n",
       "Skewness            11.761756              -1.828626                  3.887298\n",
       "Kurtosis          1381.331473              67.765582                676.925551\n",
       "Worst return        -0.339082              -0.049356                 -0.162293\n",
       "Worst 1d return     -0.339082              -0.049356                 -0.162293\n",
       "Worst 1w return     -0.487829              -0.101832                 -0.125455\n",
       "Worst 1m return     -0.436654              -0.119793                 -0.228092"
      ]
     },
     "execution_count": 40,
     "metadata": {},
     "output_type": "execute_result"
    }
   ],
   "source": [
    "levels.pipe(Performance).summary()"
   ]
  },
  {
   "cell_type": "markdown",
   "id": "e67cc5fa",
   "metadata": {
    "papermill": {
     "duration": 0.020843,
     "end_time": "2022-07-06T06:31:42.020539",
     "exception": false,
     "start_time": "2022-07-06T06:31:41.999696",
     "status": "completed"
    },
    "tags": []
   },
   "source": [
    "## Post publication"
   ]
  },
  {
   "cell_type": "code",
   "execution_count": 41,
   "id": "94b4f13d",
   "metadata": {
    "execution": {
     "iopub.execute_input": "2022-07-06T06:31:42.063638Z",
     "iopub.status.busy": "2022-07-06T06:31:42.063247Z",
     "iopub.status.idle": "2022-07-06T06:31:42.066957Z",
     "shell.execute_reply": "2022-07-06T06:31:42.066285Z"
    },
    "papermill": {
     "duration": 0.02725,
     "end_time": "2022-07-06T06:31:42.068495",
     "exception": false,
     "start_time": "2022-07-06T06:31:42.041245",
     "status": "completed"
    },
    "tags": []
   },
   "outputs": [],
   "source": [
    "publication_date = datetime(1999, 11, 29)"
   ]
  },
  {
   "cell_type": "code",
   "execution_count": 42,
   "id": "1a2e7f9c",
   "metadata": {
    "execution": {
     "iopub.execute_input": "2022-07-06T06:31:42.111126Z",
     "iopub.status.busy": "2022-07-06T06:31:42.110885Z",
     "iopub.status.idle": "2022-07-06T06:31:43.161549Z",
     "shell.execute_reply": "2022-07-06T06:31:43.160972Z"
    },
    "papermill": {
     "duration": 1.074906,
     "end_time": "2022-07-06T06:31:43.163908",
     "exception": false,
     "start_time": "2022-07-06T06:31:42.089002",
     "status": "completed"
    },
    "tags": []
   },
   "outputs": [
    {
     "data": {
      "image/png": "[encoded data removed]",
      "text/plain": [
       "<Figure size 1008x288 with 2 Axes>"
      ]
     },
     "metadata": {
      "needs_background": "light"
     },
     "output_type": "display_data"
    }
   ],
   "source": [
    "fig, ax = plt.subplots(1, 2, figsize=(14, 4))\n",
    "levels.plot(ax=ax[0], logy=True);\n",
    "ax[0].set_title('Crack spreads mean-reversion (GP1999)')\n",
    "ax[0].set_ylabel('Cumulative returns');\n",
    "ax[0].axvline(publication_date, lw=1, ls='--', color='black')\n",
    "ax[0].text(publication_date, 100, 'Publication date ', ha='right')\n",
    "\n",
    "levels.loc[publication_date:].pipe(rebase).plot(ax=ax[1], logy=True);\n",
    "ax[1].set_title('Post publication');"
   ]
  },
  {
   "cell_type": "markdown",
   "id": "d187127a",
   "metadata": {
    "papermill": {
     "duration": 0.021868,
     "end_time": "2022-07-06T06:31:43.208016",
     "exception": false,
     "start_time": "2022-07-06T06:31:43.186148",
     "status": "completed"
    },
    "tags": []
   },
   "source": [
    "# Reference\n",
    "- Girma, P.B. and Paulson, A.S., 1999. Risk arbitrage opportunities in petroleum futures spreads. Journal of Futures Markets, 19(8), pp.931-955."
   ]
  },
  {
   "cell_type": "code",
   "execution_count": 43,
   "id": "69fe3c8e",
   "metadata": {
    "execution": {
     "iopub.execute_input": "2022-07-06T06:31:43.254036Z",
     "iopub.status.busy": "2022-07-06T06:31:43.253846Z",
     "iopub.status.idle": "2022-07-06T06:31:43.258103Z",
     "shell.execute_reply": "2022-07-06T06:31:43.257462Z"
    },
    "papermill": {
     "duration": 0.028136,
     "end_time": "2022-07-06T06:31:43.259638",
     "exception": false,
     "start_time": "2022-07-06T06:31:43.231502",
     "status": "completed"
    },
    "tags": []
   },
   "outputs": [
    {
     "name": "stdout",
     "output_type": "stream",
     "text": [
      "Updated: 06-Jul-2022 06:31\n"
     ]
    }
   ],
   "source": [
    "print(f'Updated: {datetime.utcnow():%d-%b-%Y %H:%M}')"
   ]
  }
 ],
 "metadata": {
  "kernelspec": {
   "display_name": "Python 3",
   "language": "python",
   "name": "python3"
  },
  "language_info": {
   "codemirror_mode": {
    "name": "ipython",
    "version": 3
   },
   "file_extension": ".py",
   "mimetype": "text/x-python",
   "name": "python",
   "nbconvert_exporter": "python",
   "pygments_lexer": "ipython3",
   "version": "3.9.6"
  },
  "papermill": {
   "default_parameters": {},
   "duration": 1245.314644,
   "end_time": "2022-07-06T06:31:46.001985",
   "environment_variables": {},
   "exception": null,
   "input_path": "notebooks/papermill/commodity_crack_spread_stat_arb.ipynb",
   "output_path": "notebooks/commodity_crack_spread_stat_arb.ipynb",
   "parameters": {},
   "start_time": "2022-07-06T06:11:00.687341",
   "version": "2.3.4"
  },
  "toc-autonumbering": true
 },
 "nbformat": 4,
 "nbformat_minor": 5
}