{
 "cells": [
  {
   "cell_type": "markdown",
   "id": "172ca5c5",
   "metadata": {
    "papermill": {
     "duration": 0.023186,
     "end_time": "2022-05-19T06:11:15.277114",
     "exception": false,
     "start_time": "2022-05-19T06:11:15.253928",
     "status": "completed"
    },
    "tags": []
   },
   "source": [
    "# Commodity crack spread statistical arbitrage\n",
    "\n",
    "In this notebook, the mean-rereversion strategy proposed in Girma and Paulson 1999 (henthforth GP1999) is investigated. It focuses on a various combination of the crude oil (WTI) crack spread. "
   ]
  },
  {
   "cell_type": "code",
   "execution_count": 1,
   "id": "7daa9dab",
   "metadata": {
    "execution": {
     "iopub.execute_input": "2022-05-19T06:11:15.322144Z",
     "iopub.status.busy": "2022-05-19T06:11:15.321739Z",
     "iopub.status.idle": "2022-05-19T06:11:19.095080Z",
     "shell.execute_reply": "2022-05-19T06:11:19.094300Z"
    },
    "papermill": {
     "duration": 3.798219,
     "end_time": "2022-05-19T06:11:19.097161",
     "exception": false,
     "start_time": "2022-05-19T06:11:15.298942",
     "status": "completed"
    },
    "tags": []
   },
   "outputs": [],
   "source": [
    "%matplotlib inline\n",
    "from datetime import datetime\n",
    "import logging\n",
    "import warnings\n",
    "warnings.simplefilter(action='ignore', category=FutureWarning)\n",
    "\n",
    "import pandas as pd\n",
    "import statsmodels.api as sm\n",
    "import matplotlib.pyplot as plt\n",
    "plt.style.use('bmh')\n",
    "\n",
    "from vivace.backtest import BacktestEngine, signal, InstrumentDef\n",
    "from vivace.backtest.analytics import rebase\n",
    "from vivace.backtest.contract import get_futures_curve_snapshot\n",
    "from vivace.backtest.enums import Strategy, Weighting, RollRule\n",
    "from vivace.backtest.stats import Performance"
   ]
  },
  {
   "cell_type": "markdown",
   "id": "68aa8ccf",
   "metadata": {
    "papermill": {
     "duration": 0.016743,
     "end_time": "2022-05-19T06:11:19.129133",
     "exception": false,
     "start_time": "2022-05-19T06:11:19.112390",
     "status": "completed"
    },
    "tags": []
   },
   "source": [
    "# Cointegration test\n",
    "\n",
    "GP1999 first checks if the crack spread is cointegrated. To do that, first let's see futures prices are non-stationary or not. As per usual, the generic price is populated by running a simple long-only backtest by rolling the front contract."
   ]
  },
  {
   "cell_type": "markdown",
   "id": "824e7302",
   "metadata": {
    "papermill": {
     "duration": 0.018762,
     "end_time": "2022-05-19T06:11:19.163878",
     "exception": false,
     "start_time": "2022-05-19T06:11:19.145116",
     "status": "completed"
    },
    "tags": []
   },
   "source": [
    "## ADF test\n",
    "\n",
    "The ADF test is done by the `adfuller` function in `statsmodels`. (cf. https://www.statsmodels.org/dev/generated/statsmodels.tsa.stattools.adfuller.html)"
   ]
  },
  {
   "cell_type": "code",
   "execution_count": 2,
   "id": "4eb3103c",
   "metadata": {
    "execution": {
     "iopub.execute_input": "2022-05-19T06:11:19.197274Z",
     "iopub.status.busy": "2022-05-19T06:11:19.197008Z",
     "iopub.status.idle": "2022-05-19T06:11:30.681577Z",
     "shell.execute_reply": "2022-05-19T06:11:30.680906Z"
    },
    "papermill": {
     "duration": 11.503191,
     "end_time": "2022-05-19T06:11:30.683763",
     "exception": false,
     "start_time": "2022-05-19T06:11:19.180572",
     "status": "completed"
    },
    "tags": []
   },
   "outputs": [],
   "source": [
    "cl_1st = BacktestEngine(instrument='CL', log_level=logging.WARN)\n",
    "cl_1st.run()"
   ]
  },
  {
   "cell_type": "code",
   "execution_count": 3,
   "id": "9910ecff",
   "metadata": {
    "execution": {
     "iopub.execute_input": "2022-05-19T06:11:30.735665Z",
     "iopub.status.busy": "2022-05-19T06:11:30.735381Z",
     "iopub.status.idle": "2022-05-19T06:11:42.196630Z",
     "shell.execute_reply": "2022-05-19T06:11:42.196103Z"
    },
    "papermill": {
     "duration": 11.489208,
     "end_time": "2022-05-19T06:11:42.198688",
     "exception": false,
     "start_time": "2022-05-19T06:11:30.709480",
     "status": "completed"
    },
    "tags": []
   },
   "outputs": [],
   "source": [
    "ho_1st = BacktestEngine(instrument='HO', log_level=logging.WARN)\n",
    "ho_1st.run()"
   ]
  },
  {
   "cell_type": "code",
   "execution_count": 4,
   "id": "32cec4c3",
   "metadata": {
    "execution": {
     "iopub.execute_input": "2022-05-19T06:11:42.247852Z",
     "iopub.status.busy": "2022-05-19T06:11:42.247666Z",
     "iopub.status.idle": "2022-05-19T06:11:52.397692Z",
     "shell.execute_reply": "2022-05-19T06:11:52.397035Z"
    },
    "papermill": {
     "duration": 10.176127,
     "end_time": "2022-05-19T06:11:52.400023",
     "exception": false,
     "start_time": "2022-05-19T06:11:42.223896",
     "status": "completed"
    },
    "tags": []
   },
   "outputs": [],
   "source": [
    "xb_1st = BacktestEngine(instrument='XB', log_level=logging.WARN)\n",
    "xb_1st.run()"
   ]
  },
  {
   "cell_type": "code",
   "execution_count": 5,
   "id": "a602ffe8",
   "metadata": {
    "execution": {
     "iopub.execute_input": "2022-05-19T06:11:52.445977Z",
     "iopub.status.busy": "2022-05-19T06:11:52.445383Z",
     "iopub.status.idle": "2022-05-19T06:12:12.436640Z",
     "shell.execute_reply": "2022-05-19T06:12:12.435925Z"
    },
    "papermill": {
     "duration": 20.013804,
     "end_time": "2022-05-19T06:12:12.438677",
     "exception": false,
     "start_time": "2022-05-19T06:11:52.424873",
     "status": "completed"
    },
    "tags": []
   },
   "outputs": [],
   "source": [
    "cl_price = cl_1st.get_generic_price().squeeze().fillna(method='pad').rename('Crude oil')\n",
    "ho_price = ho_1st.get_generic_price().squeeze().fillna(method='pad').rename('Heating oil')\n",
    "xb_price = xb_1st.get_generic_price().squeeze().fillna(method='pad').rename('Gasoline')"
   ]
  },
  {
   "cell_type": "code",
   "execution_count": 6,
   "id": "81a1c9be",
   "metadata": {
    "execution": {
     "iopub.execute_input": "2022-05-19T06:12:12.471170Z",
     "iopub.status.busy": "2022-05-19T06:12:12.470968Z",
     "iopub.status.idle": "2022-05-19T06:12:12.477255Z",
     "shell.execute_reply": "2022-05-19T06:12:12.476643Z"
    },
    "papermill": {
     "duration": 0.024591,
     "end_time": "2022-05-19T06:12:12.478687",
     "exception": false,
     "start_time": "2022-05-19T06:12:12.454096",
     "status": "completed"
    },
    "tags": []
   },
   "outputs": [],
   "source": [
    "def adf(ts: pd.Series, **kwargs) -> pd.Series:\n",
    "    \"\"\" Run the ADF test and return a cleaned result \"\"\"\n",
    "    adf_result = sm.tsa.stattools.adfuller(ts, **kwargs)\n",
    "    cleaned = {\n",
    "        'adf': adf_result[0],\n",
    "        'p_value': adf_result[1],\n",
    "        'used_lag': adf_result[2],\n",
    "        'n_obs': adf_result[3],\n",
    "        'ci_0.01': adf_result[4]['1%'],\n",
    "        'ci_0.05': adf_result[4]['5%'],\n",
    "        'ci_0.1': adf_result[4]['10%'],\n",
    "        'ic_best': adf_result[5],\n",
    "    }\n",
    "    return pd.Series(cleaned, name=ts.name)"
   ]
  },
  {
   "cell_type": "markdown",
   "id": "73a9df64",
   "metadata": {
    "papermill": {
     "duration": 0.015179,
     "end_time": "2022-05-19T06:12:12.540041",
     "exception": false,
     "start_time": "2022-05-19T06:12:12.524862",
     "status": "completed"
    },
    "tags": []
   },
   "source": [
    "GP1999 uses Schwarz's information criterion (i.e., BIC) to select the optimal number of lags included in the ADF test."
   ]
  },
  {
   "cell_type": "code",
   "execution_count": 7,
   "id": "b69649d6",
   "metadata": {
    "execution": {
     "iopub.execute_input": "2022-05-19T06:12:12.571343Z",
     "iopub.status.busy": "2022-05-19T06:12:12.570800Z",
     "iopub.status.idle": "2022-05-19T06:12:13.377336Z",
     "shell.execute_reply": "2022-05-19T06:12:13.376609Z"
    },
    "papermill": {
     "duration": 0.827648,
     "end_time": "2022-05-19T06:12:13.382656",
     "exception": false,
     "start_time": "2022-05-19T06:12:12.555008",
     "status": "completed"
    },
    "tags": []
   },
   "outputs": [],
   "source": [
    "adf_result = pd.concat((\n",
    "    adf(cl_price['1983-04':'1994-11'], autolag='BIC').to_frame().T,\n",
    "    adf(ho_price['1983-04':'1994-11'], autolag='BIC').to_frame().T,\n",
    "    adf(xb_price['1984-12':'1994-11'], autolag='BIC').to_frame().T,\n",
    "))"
   ]
  },
  {
   "cell_type": "markdown",
   "id": "1396f87e",
   "metadata": {
    "papermill": {
     "duration": 0.022669,
     "end_time": "2022-05-19T06:12:13.429996",
     "exception": false,
     "start_time": "2022-05-19T06:12:13.407327",
     "status": "completed"
    },
    "tags": []
   },
   "source": [
    "In the ADF test, $H_0$ is that the time-series is non-stationary. Based on this result below, $H_0$ cannot be rejected for crude oil, however is rejected for heating oil and gasoline at the 10% and 5% level respectively.\n",
    "\n",
    "This is interesting because usually almost always asset prices are non-stationary."
   ]
  },
  {
   "cell_type": "code",
   "execution_count": 8,
   "id": "3655e953",
   "metadata": {
    "execution": {
     "iopub.execute_input": "2022-05-19T06:12:13.475803Z",
     "iopub.status.busy": "2022-05-19T06:12:13.475547Z",
     "iopub.status.idle": "2022-05-19T06:12:13.493226Z",
     "shell.execute_reply": "2022-05-19T06:12:13.492506Z"
    },
    "papermill": {
     "duration": 0.043357,
     "end_time": "2022-05-19T06:12:13.495565",
     "exception": false,
     "start_time": "2022-05-19T06:12:13.452208",
     "status": "completed"
    },
    "tags": []
   },
   "outputs": [
    {
     "data": {
      "text/html": [
       "<div>\n",
       "<style scoped>\n",
       "    .dataframe tbody tr th:only-of-type {\n",
       "        vertical-align: middle;\n",
       "    }\n",
       "\n",
       "    .dataframe tbody tr th {\n",
       "        vertical-align: top;\n",
       "    }\n",
       "\n",
       "    .dataframe thead th {\n",
       "        text-align: right;\n",
       "    }\n",
       "</style>\n",
       "<table border=\"1\" class=\"dataframe\">\n",
       "  <thead>\n",
       "    <tr style=\"text-align: right;\">\n",
       "      <th></th>\n",
       "      <th>adf</th>\n",
       "      <th>p_value</th>\n",
       "      <th>used_lag</th>\n",
       "      <th>n_obs</th>\n",
       "      <th>ci_0.01</th>\n",
       "      <th>ci_0.05</th>\n",
       "      <th>ci_0.1</th>\n",
       "      <th>ic_best</th>\n",
       "    </tr>\n",
       "  </thead>\n",
       "  <tbody>\n",
       "    <tr>\n",
       "      <th>Crude oil</th>\n",
       "      <td>-2.185213</td>\n",
       "      <td>0.211656</td>\n",
       "      <td>8.0</td>\n",
       "      <td>2924.0</td>\n",
       "      <td>-3.432588</td>\n",
       "      <td>-2.862529</td>\n",
       "      <td>-2.567296</td>\n",
       "      <td>4195.186424</td>\n",
       "    </tr>\n",
       "    <tr>\n",
       "      <th>Heating oil</th>\n",
       "      <td>-2.743636</td>\n",
       "      <td>0.066787</td>\n",
       "      <td>3.0</td>\n",
       "      <td>2929.0</td>\n",
       "      <td>-3.432585</td>\n",
       "      <td>-2.862527</td>\n",
       "      <td>-2.567296</td>\n",
       "      <td>-15763.929006</td>\n",
       "    </tr>\n",
       "    <tr>\n",
       "      <th>Gasoline</th>\n",
       "      <td>-3.003758</td>\n",
       "      <td>0.034545</td>\n",
       "      <td>3.0</td>\n",
       "      <td>2510.0</td>\n",
       "      <td>-3.432958</td>\n",
       "      <td>-2.862692</td>\n",
       "      <td>-2.567383</td>\n",
       "      <td>-14006.551367</td>\n",
       "    </tr>\n",
       "  </tbody>\n",
       "</table>\n",
       "</div>"
      ],
      "text/plain": [
       "                  adf   p_value  used_lag   n_obs   ci_0.01   ci_0.05  \\\n",
       "Crude oil   -2.185213  0.211656       8.0  2924.0 -3.432588 -2.862529   \n",
       "Heating oil -2.743636  0.066787       3.0  2929.0 -3.432585 -2.862527   \n",
       "Gasoline    -3.003758  0.034545       3.0  2510.0 -3.432958 -2.862692   \n",
       "\n",
       "               ci_0.1       ic_best  \n",
       "Crude oil   -2.567296   4195.186424  \n",
       "Heating oil -2.567296 -15763.929006  \n",
       "Gasoline    -2.567383 -14006.551367  "
      ]
     },
     "execution_count": 8,
     "metadata": {},
     "output_type": "execute_result"
    }
   ],
   "source": [
    "adf_result"
   ]
  },
  {
   "cell_type": "markdown",
   "id": "cb465c0a",
   "metadata": {
    "papermill": {
     "duration": 0.022677,
     "end_time": "2022-05-19T06:12:13.539727",
     "exception": false,
     "start_time": "2022-05-19T06:12:13.517050",
     "status": "completed"
    },
    "tags": []
   },
   "source": [
    "Probably it is to do with the sampling period. It may look a stationary process especially after 1986, however clearly it is heteroskedastic and the price move in 1986 seems like a shift in the level."
   ]
  },
  {
   "cell_type": "code",
   "execution_count": 9,
   "id": "11339aae",
   "metadata": {
    "execution": {
     "iopub.execute_input": "2022-05-19T06:12:13.578824Z",
     "iopub.status.busy": "2022-05-19T06:12:13.578573Z",
     "iopub.status.idle": "2022-05-19T06:12:14.108309Z",
     "shell.execute_reply": "2022-05-19T06:12:14.107398Z"
    },
    "papermill": {
     "duration": 0.548931,
     "end_time": "2022-05-19T06:12:14.110569",
     "exception": false,
     "start_time": "2022-05-19T06:12:13.561638",
     "status": "completed"
    },
    "tags": []
   },
   "outputs": [
    {
     "data": {
      "image/png": "[encoded data removed]",
      "text/plain": [
       "<Figure size 576x360 with 2 Axes>"
      ]
     },
     "metadata": {
      "needs_background": "light"
     },
     "output_type": "display_data"
    }
   ],
   "source": [
    "fig, ax = plt.subplots(figsize=(8, 5))\n",
    "pd.concat((\n",
    "    cl_price['1983-04':'1994-11'],\n",
    "    ho_price['1983-04':'1994-11'],\n",
    "    xb_price['1984-12':'1994-11'],\n",
    "), axis=1).plot(secondary_y=['Heating oil', 'Gasoline'], ax=ax);\n",
    "ax.set_title('Futures prices (generic 1st)');"
   ]
  },
  {
   "cell_type": "markdown",
   "id": "47068957",
   "metadata": {
    "papermill": {
     "duration": 0.016215,
     "end_time": "2022-05-19T06:12:14.146046",
     "exception": false,
     "start_time": "2022-05-19T06:12:14.129831",
     "status": "completed"
    },
    "tags": []
   },
   "source": [
    "In fact, in the long-run $H_0$ cannot be rejected for all contracts based on both BIC and AIC."
   ]
  },
  {
   "cell_type": "code",
   "execution_count": 10,
   "id": "47dcef74",
   "metadata": {
    "execution": {
     "iopub.execute_input": "2022-05-19T06:12:14.181288Z",
     "iopub.status.busy": "2022-05-19T06:12:14.181094Z",
     "iopub.status.idle": "2022-05-19T06:12:20.388588Z",
     "shell.execute_reply": "2022-05-19T06:12:20.387335Z"
    },
    "papermill": {
     "duration": 6.229706,
     "end_time": "2022-05-19T06:12:20.391800",
     "exception": false,
     "start_time": "2022-05-19T06:12:14.162094",
     "status": "completed"
    },
    "tags": []
   },
   "outputs": [
    {
     "data": {
      "text/html": [
       "<div>\n",
       "<style scoped>\n",
       "    .dataframe tbody tr th:only-of-type {\n",
       "        vertical-align: middle;\n",
       "    }\n",
       "\n",
       "    .dataframe tbody tr th {\n",
       "        vertical-align: top;\n",
       "    }\n",
       "\n",
       "    .dataframe thead th {\n",
       "        text-align: right;\n",
       "    }\n",
       "</style>\n",
       "<table border=\"1\" class=\"dataframe\">\n",
       "  <thead>\n",
       "    <tr style=\"text-align: right;\">\n",
       "      <th></th>\n",
       "      <th>adf</th>\n",
       "      <th>p_value</th>\n",
       "      <th>used_lag</th>\n",
       "      <th>n_obs</th>\n",
       "      <th>ci_0.01</th>\n",
       "      <th>ci_0.05</th>\n",
       "      <th>ci_0.1</th>\n",
       "      <th>ic_best</th>\n",
       "    </tr>\n",
       "  </thead>\n",
       "  <tbody>\n",
       "    <tr>\n",
       "      <th>Crude oil</th>\n",
       "      <td>-1.263928</td>\n",
       "      <td>0.645509</td>\n",
       "      <td>1.0</td>\n",
       "      <td>9828.0</td>\n",
       "      <td>-3.431016</td>\n",
       "      <td>-2.861834</td>\n",
       "      <td>-2.566927</td>\n",
       "      <td>30501.688197</td>\n",
       "    </tr>\n",
       "    <tr>\n",
       "      <th>Heating oil</th>\n",
       "      <td>-0.730179</td>\n",
       "      <td>0.838777</td>\n",
       "      <td>6.0</td>\n",
       "      <td>9824.0</td>\n",
       "      <td>-3.431016</td>\n",
       "      <td>-2.861834</td>\n",
       "      <td>-2.566927</td>\n",
       "      <td>-37990.725160</td>\n",
       "    </tr>\n",
       "    <tr>\n",
       "      <th>Gasoline</th>\n",
       "      <td>-1.085633</td>\n",
       "      <td>0.720767</td>\n",
       "      <td>0.0</td>\n",
       "      <td>9410.0</td>\n",
       "      <td>-3.431045</td>\n",
       "      <td>-2.861847</td>\n",
       "      <td>-2.566934</td>\n",
       "      <td>-36130.890524</td>\n",
       "    </tr>\n",
       "  </tbody>\n",
       "</table>\n",
       "</div>"
      ],
      "text/plain": [
       "                  adf   p_value  used_lag   n_obs   ci_0.01   ci_0.05  \\\n",
       "Crude oil   -1.263928  0.645509       1.0  9828.0 -3.431016 -2.861834   \n",
       "Heating oil -0.730179  0.838777       6.0  9824.0 -3.431016 -2.861834   \n",
       "Gasoline    -1.085633  0.720767       0.0  9410.0 -3.431045 -2.861847   \n",
       "\n",
       "               ci_0.1       ic_best  \n",
       "Crude oil   -2.566927  30501.688197  \n",
       "Heating oil -2.566927 -37990.725160  \n",
       "Gasoline    -2.566934 -36130.890524  "
      ]
     },
     "execution_count": 10,
     "metadata": {},
     "output_type": "execute_result"
    }
   ],
   "source": [
    "pd.concat((\n",
    "    adf(cl_price['1983-04':], autolag='BIC').to_frame().T,\n",
    "    adf(ho_price['1983-04':], autolag='BIC').to_frame().T,\n",
    "    adf(xb_price['1984-12':], autolag='BIC').to_frame().T,\n",
    "))"
   ]
  },
  {
   "cell_type": "code",
   "execution_count": 11,
   "id": "6cda4738",
   "metadata": {
    "execution": {
     "iopub.execute_input": "2022-05-19T06:12:20.441098Z",
     "iopub.status.busy": "2022-05-19T06:12:20.440747Z",
     "iopub.status.idle": "2022-05-19T06:12:23.687922Z",
     "shell.execute_reply": "2022-05-19T06:12:23.687222Z"
    },
    "papermill": {
     "duration": 3.273244,
     "end_time": "2022-05-19T06:12:23.690304",
     "exception": false,
     "start_time": "2022-05-19T06:12:20.417060",
     "status": "completed"
    },
    "tags": []
   },
   "outputs": [
    {
     "data": {
      "text/html": [
       "<div>\n",
       "<style scoped>\n",
       "    .dataframe tbody tr th:only-of-type {\n",
       "        vertical-align: middle;\n",
       "    }\n",
       "\n",
       "    .dataframe tbody tr th {\n",
       "        vertical-align: top;\n",
       "    }\n",
       "\n",
       "    .dataframe thead th {\n",
       "        text-align: right;\n",
       "    }\n",
       "</style>\n",
       "<table border=\"1\" class=\"dataframe\">\n",
       "  <thead>\n",
       "    <tr style=\"text-align: right;\">\n",
       "      <th></th>\n",
       "      <th>adf</th>\n",
       "      <th>p_value</th>\n",
       "      <th>used_lag</th>\n",
       "      <th>n_obs</th>\n",
       "      <th>ci_0.01</th>\n",
       "      <th>ci_0.05</th>\n",
       "      <th>ci_0.1</th>\n",
       "      <th>ic_best</th>\n",
       "    </tr>\n",
       "  </thead>\n",
       "  <tbody>\n",
       "    <tr>\n",
       "      <th>Crude oil</th>\n",
       "      <td>-1.750739</td>\n",
       "      <td>0.405178</td>\n",
       "      <td>32.0</td>\n",
       "      <td>9797.0</td>\n",
       "      <td>-3.431018</td>\n",
       "      <td>-2.861835</td>\n",
       "      <td>-2.566927</td>\n",
       "      <td>30418.060914</td>\n",
       "    </tr>\n",
       "    <tr>\n",
       "      <th>Heating oil</th>\n",
       "      <td>-1.285647</td>\n",
       "      <td>0.635713</td>\n",
       "      <td>35.0</td>\n",
       "      <td>9795.0</td>\n",
       "      <td>-3.431018</td>\n",
       "      <td>-2.861835</td>\n",
       "      <td>-2.566927</td>\n",
       "      <td>-38211.909831</td>\n",
       "    </tr>\n",
       "    <tr>\n",
       "      <th>Gasoline</th>\n",
       "      <td>-1.462081</td>\n",
       "      <td>0.552179</td>\n",
       "      <td>20.0</td>\n",
       "      <td>9390.0</td>\n",
       "      <td>-3.431047</td>\n",
       "      <td>-2.861848</td>\n",
       "      <td>-2.566934</td>\n",
       "      <td>-36162.131748</td>\n",
       "    </tr>\n",
       "  </tbody>\n",
       "</table>\n",
       "</div>"
      ],
      "text/plain": [
       "                  adf   p_value  used_lag   n_obs   ci_0.01   ci_0.05  \\\n",
       "Crude oil   -1.750739  0.405178      32.0  9797.0 -3.431018 -2.861835   \n",
       "Heating oil -1.285647  0.635713      35.0  9795.0 -3.431018 -2.861835   \n",
       "Gasoline    -1.462081  0.552179      20.0  9390.0 -3.431047 -2.861848   \n",
       "\n",
       "               ci_0.1       ic_best  \n",
       "Crude oil   -2.566927  30418.060914  \n",
       "Heating oil -2.566927 -38211.909831  \n",
       "Gasoline    -2.566934 -36162.131748  "
      ]
     },
     "execution_count": 11,
     "metadata": {},
     "output_type": "execute_result"
    }
   ],
   "source": [
    "pd.concat((\n",
    "    adf(cl_price['1983-04':], autolag='AIC').to_frame().T,\n",
    "    adf(ho_price['1983-04':], autolag='AIC').to_frame().T,\n",
    "    adf(xb_price['1984-12':], autolag='AIC').to_frame().T,\n",
    "))"
   ]
  },
  {
   "cell_type": "markdown",
   "id": "eda29bdf",
   "metadata": {
    "papermill": {
     "duration": 0.034813,
     "end_time": "2022-05-19T06:12:23.750532",
     "exception": false,
     "start_time": "2022-05-19T06:12:23.715719",
     "status": "completed"
    },
    "tags": []
   },
   "source": [
    "Test for two unit roots shows the $H_0$ is rejected for all assets so it would be safe to assume prices are all $I(1)$ processes."
   ]
  },
  {
   "cell_type": "code",
   "execution_count": 12,
   "id": "5cc64e78",
   "metadata": {
    "execution": {
     "iopub.execute_input": "2022-05-19T06:12:23.785969Z",
     "iopub.status.busy": "2022-05-19T06:12:23.785744Z",
     "iopub.status.idle": "2022-05-19T06:12:24.590027Z",
     "shell.execute_reply": "2022-05-19T06:12:24.589155Z"
    },
    "papermill": {
     "duration": 0.825354,
     "end_time": "2022-05-19T06:12:24.592798",
     "exception": false,
     "start_time": "2022-05-19T06:12:23.767444",
     "status": "completed"
    },
    "tags": []
   },
   "outputs": [
    {
     "data": {
      "text/html": [
       "<div>\n",
       "<style scoped>\n",
       "    .dataframe tbody tr th:only-of-type {\n",
       "        vertical-align: middle;\n",
       "    }\n",
       "\n",
       "    .dataframe tbody tr th {\n",
       "        vertical-align: top;\n",
       "    }\n",
       "\n",
       "    .dataframe thead th {\n",
       "        text-align: right;\n",
       "    }\n",
       "</style>\n",
       "<table border=\"1\" class=\"dataframe\">\n",
       "  <thead>\n",
       "    <tr style=\"text-align: right;\">\n",
       "      <th></th>\n",
       "      <th>adf</th>\n",
       "      <th>p_value</th>\n",
       "      <th>used_lag</th>\n",
       "      <th>n_obs</th>\n",
       "      <th>ci_0.01</th>\n",
       "      <th>ci_0.05</th>\n",
       "      <th>ci_0.1</th>\n",
       "      <th>ic_best</th>\n",
       "    </tr>\n",
       "  </thead>\n",
       "  <tbody>\n",
       "    <tr>\n",
       "      <th>Crude oil</th>\n",
       "      <td>-22.609167</td>\n",
       "      <td>0.0</td>\n",
       "      <td>7.0</td>\n",
       "      <td>2924.0</td>\n",
       "      <td>-3.432588</td>\n",
       "      <td>-2.862529</td>\n",
       "      <td>-2.567296</td>\n",
       "      <td>4191.382386</td>\n",
       "    </tr>\n",
       "    <tr>\n",
       "      <th>Heating oil</th>\n",
       "      <td>-23.732562</td>\n",
       "      <td>0.0</td>\n",
       "      <td>7.0</td>\n",
       "      <td>2924.0</td>\n",
       "      <td>-3.432588</td>\n",
       "      <td>-2.862529</td>\n",
       "      <td>-2.567296</td>\n",
       "      <td>-15759.438574</td>\n",
       "    </tr>\n",
       "    <tr>\n",
       "      <th>Gasoline</th>\n",
       "      <td>-31.046797</td>\n",
       "      <td>0.0</td>\n",
       "      <td>2.0</td>\n",
       "      <td>2510.0</td>\n",
       "      <td>-3.432958</td>\n",
       "      <td>-2.862692</td>\n",
       "      <td>-2.567383</td>\n",
       "      <td>-13998.959272</td>\n",
       "    </tr>\n",
       "  </tbody>\n",
       "</table>\n",
       "</div>"
      ],
      "text/plain": [
       "                   adf  p_value  used_lag   n_obs   ci_0.01   ci_0.05  \\\n",
       "Crude oil   -22.609167      0.0       7.0  2924.0 -3.432588 -2.862529   \n",
       "Heating oil -23.732562      0.0       7.0  2924.0 -3.432588 -2.862529   \n",
       "Gasoline    -31.046797      0.0       2.0  2510.0 -3.432958 -2.862692   \n",
       "\n",
       "               ci_0.1       ic_best  \n",
       "Crude oil   -2.567296   4191.382386  \n",
       "Heating oil -2.567296 -15759.438574  \n",
       "Gasoline    -2.567383 -13998.959272  "
      ]
     },
     "execution_count": 12,
     "metadata": {},
     "output_type": "execute_result"
    }
   ],
   "source": [
    "pd.concat((\n",
    "    adf(cl_price['1983-04':'1994-11'].diff().dropna(), autolag='BIC').to_frame().T,\n",
    "    adf(ho_price['1983-04':'1994-11'].diff().dropna(), autolag='BIC').to_frame().T,\n",
    "    adf(xb_price['1984-12':'1994-11'].diff().dropna(), autolag='BIC').to_frame().T,\n",
    "))"
   ]
  },
  {
   "cell_type": "markdown",
   "id": "5443698a",
   "metadata": {
    "papermill": {
     "duration": 0.023786,
     "end_time": "2022-05-19T06:12:24.651091",
     "exception": false,
     "start_time": "2022-05-19T06:12:24.627305",
     "status": "completed"
    },
    "tags": []
   },
   "source": [
    "## Engle-Granger test\n",
    "\n",
    "Next, let's check if the crack spread is cointegrated. The cointegration vector is estimated by OLS and the stationarity of the residual is tested with the ADF test.\n",
    "The test is done by the `coint` function in `statsmodels`. (cf. https://www.statsmodels.org/dev/generated/statsmodels.tsa.stattools.coint.html)"
   ]
  },
  {
   "cell_type": "code",
   "execution_count": 13,
   "id": "15663029",
   "metadata": {
    "execution": {
     "iopub.execute_input": "2022-05-19T06:12:24.699443Z",
     "iopub.status.busy": "2022-05-19T06:12:24.699183Z",
     "iopub.status.idle": "2022-05-19T06:12:24.712191Z",
     "shell.execute_reply": "2022-05-19T06:12:24.711556Z"
    },
    "papermill": {
     "duration": 0.039668,
     "end_time": "2022-05-19T06:12:24.714449",
     "exception": false,
     "start_time": "2022-05-19T06:12:24.674781",
     "status": "completed"
    },
    "tags": []
   },
   "outputs": [],
   "source": [
    "price_concat = pd.concat((\n",
    "    cl_price,\n",
    "    ho_price,\n",
    "    xb_price,\n",
    "), axis=1).fillna(method='pad').dropna()"
   ]
  },
  {
   "cell_type": "code",
   "execution_count": 14,
   "id": "cf731a5e",
   "metadata": {
    "execution": {
     "iopub.execute_input": "2022-05-19T06:12:24.751706Z",
     "iopub.status.busy": "2022-05-19T06:12:24.751473Z",
     "iopub.status.idle": "2022-05-19T06:12:24.757660Z",
     "shell.execute_reply": "2022-05-19T06:12:24.757023Z"
    },
    "papermill": {
     "duration": 0.025039,
     "end_time": "2022-05-19T06:12:24.759330",
     "exception": false,
     "start_time": "2022-05-19T06:12:24.734291",
     "status": "completed"
    },
    "tags": []
   },
   "outputs": [],
   "source": [
    "def coint(y: pd.Series, x: pd.DataFrame) -> pd.Series:\n",
    "    \"\"\" Run the cointegration test and return a cleaned result \"\"\"\n",
    "    result = sm.tsa.stattools.coint(y, x)\n",
    "    cleaned = {\n",
    "        't_value': result[0],\n",
    "        'p_value': result[1],\n",
    "        'ci_0.01': result[2][0],\n",
    "        'ci_0.05': result[2][1],\n",
    "        'ci_0.1': result[2][2],\n",
    "    }\n",
    "    return pd.Series(cleaned)"
   ]
  },
  {
   "cell_type": "code",
   "execution_count": 15,
   "id": "4299196b",
   "metadata": {
    "execution": {
     "iopub.execute_input": "2022-05-19T06:12:24.794166Z",
     "iopub.status.busy": "2022-05-19T06:12:24.793846Z",
     "iopub.status.idle": "2022-05-19T06:12:26.442050Z",
     "shell.execute_reply": "2022-05-19T06:12:26.440710Z"
    },
    "papermill": {
     "duration": 1.669061,
     "end_time": "2022-05-19T06:12:26.445002",
     "exception": false,
     "start_time": "2022-05-19T06:12:24.775941",
     "status": "completed"
    },
    "tags": []
   },
   "outputs": [],
   "source": [
    "coint_result = pd.concat((\n",
    "    coint(\n",
    "        price_concat.loc[:'1994-11', 'Crude oil'],\n",
    "        price_concat.loc[:'1994-11', ['Heating oil', 'Gasoline']]\n",
    "    ).to_frame('CL vs HO + XB').T,\n",
    "    coint(\n",
    "        price_concat.loc[:'1994-11', 'Crude oil'],\n",
    "        price_concat.loc[:'1994-11', ['Gasoline']]\n",
    "    ).to_frame('CL vs XB').T,\n",
    "    coint(\n",
    "        price_concat.loc[:'1994-11', 'Crude oil'],\n",
    "        price_concat.loc[:'1994-11', ['Heating oil']]\n",
    "    ).to_frame('CL vs HO').T,\n",
    "))"
   ]
  },
  {
   "cell_type": "markdown",
   "id": "ea294ded",
   "metadata": {
    "papermill": {
     "duration": 0.028411,
     "end_time": "2022-05-19T06:12:26.509129",
     "exception": false,
     "start_time": "2022-05-19T06:12:26.480718",
     "status": "completed"
    },
    "tags": []
   },
   "source": [
    "The $H_0$ is that there is no cointegration. As per GP1999, all three crack spreads are cointegrated. "
   ]
  },
  {
   "cell_type": "code",
   "execution_count": 16,
   "id": "1824345d",
   "metadata": {
    "execution": {
     "iopub.execute_input": "2022-05-19T06:12:26.554993Z",
     "iopub.status.busy": "2022-05-19T06:12:26.554671Z",
     "iopub.status.idle": "2022-05-19T06:12:26.567067Z",
     "shell.execute_reply": "2022-05-19T06:12:26.566407Z"
    },
    "papermill": {
     "duration": 0.039716,
     "end_time": "2022-05-19T06:12:26.568974",
     "exception": false,
     "start_time": "2022-05-19T06:12:26.529258",
     "status": "completed"
    },
    "tags": []
   },
   "outputs": [
    {
     "data": {
      "text/html": [
       "<div>\n",
       "<style scoped>\n",
       "    .dataframe tbody tr th:only-of-type {\n",
       "        vertical-align: middle;\n",
       "    }\n",
       "\n",
       "    .dataframe tbody tr th {\n",
       "        vertical-align: top;\n",
       "    }\n",
       "\n",
       "    .dataframe thead th {\n",
       "        text-align: right;\n",
       "    }\n",
       "</style>\n",
       "<table border=\"1\" class=\"dataframe\">\n",
       "  <thead>\n",
       "    <tr style=\"text-align: right;\">\n",
       "      <th></th>\n",
       "      <th>t_value</th>\n",
       "      <th>p_value</th>\n",
       "      <th>ci_0.01</th>\n",
       "      <th>ci_0.05</th>\n",
       "      <th>ci_0.1</th>\n",
       "    </tr>\n",
       "  </thead>\n",
       "  <tbody>\n",
       "    <tr>\n",
       "      <th>CL vs HO + XB</th>\n",
       "      <td>-6.110715</td>\n",
       "      <td>0.000005</td>\n",
       "      <td>-4.299485</td>\n",
       "      <td>-3.744067</td>\n",
       "      <td>-3.454651</td>\n",
       "    </tr>\n",
       "    <tr>\n",
       "      <th>CL vs XB</th>\n",
       "      <td>-5.762029</td>\n",
       "      <td>0.000005</td>\n",
       "      <td>-3.900800</td>\n",
       "      <td>-3.338561</td>\n",
       "      <td>-3.046137</td>\n",
       "    </tr>\n",
       "    <tr>\n",
       "      <th>CL vs HO</th>\n",
       "      <td>-5.708354</td>\n",
       "      <td>0.000007</td>\n",
       "      <td>-3.900800</td>\n",
       "      <td>-3.338561</td>\n",
       "      <td>-3.046137</td>\n",
       "    </tr>\n",
       "  </tbody>\n",
       "</table>\n",
       "</div>"
      ],
      "text/plain": [
       "                t_value   p_value   ci_0.01   ci_0.05    ci_0.1\n",
       "CL vs HO + XB -6.110715  0.000005 -4.299485 -3.744067 -3.454651\n",
       "CL vs XB      -5.762029  0.000005 -3.900800 -3.338561 -3.046137\n",
       "CL vs HO      -5.708354  0.000007 -3.900800 -3.338561 -3.046137"
      ]
     },
     "execution_count": 16,
     "metadata": {},
     "output_type": "execute_result"
    }
   ],
   "source": [
    "coint_result"
   ]
  },
  {
   "cell_type": "markdown",
   "id": "2f816c06",
   "metadata": {
    "papermill": {
     "duration": 0.020149,
     "end_time": "2022-05-19T06:12:26.606651",
     "exception": false,
     "start_time": "2022-05-19T06:12:26.586502",
     "status": "completed"
    },
    "tags": []
   },
   "source": [
    "This seems to hold with the full sample."
   ]
  },
  {
   "cell_type": "code",
   "execution_count": 17,
   "id": "467771dc",
   "metadata": {
    "execution": {
     "iopub.execute_input": "2022-05-19T06:12:26.649974Z",
     "iopub.status.busy": "2022-05-19T06:12:26.649635Z",
     "iopub.status.idle": "2022-05-19T06:12:33.189581Z",
     "shell.execute_reply": "2022-05-19T06:12:33.188706Z"
    },
    "papermill": {
     "duration": 6.565495,
     "end_time": "2022-05-19T06:12:33.193080",
     "exception": false,
     "start_time": "2022-05-19T06:12:26.627585",
     "status": "completed"
    },
    "tags": []
   },
   "outputs": [
    {
     "data": {
      "text/html": [
       "<div>\n",
       "<style scoped>\n",
       "    .dataframe tbody tr th:only-of-type {\n",
       "        vertical-align: middle;\n",
       "    }\n",
       "\n",
       "    .dataframe tbody tr th {\n",
       "        vertical-align: top;\n",
       "    }\n",
       "\n",
       "    .dataframe thead th {\n",
       "        text-align: right;\n",
       "    }\n",
       "</style>\n",
       "<table border=\"1\" class=\"dataframe\">\n",
       "  <thead>\n",
       "    <tr style=\"text-align: right;\">\n",
       "      <th></th>\n",
       "      <th>t_value</th>\n",
       "      <th>p_value</th>\n",
       "      <th>ci_0.01</th>\n",
       "      <th>ci_0.05</th>\n",
       "      <th>ci_0.1</th>\n",
       "    </tr>\n",
       "  </thead>\n",
       "  <tbody>\n",
       "    <tr>\n",
       "      <th>CL vs HO + XB</th>\n",
       "      <td>-4.592776</td>\n",
       "      <td>3.618606e-03</td>\n",
       "      <td>-4.295274</td>\n",
       "      <td>-3.741570</td>\n",
       "      <td>-3.452840</td>\n",
       "    </tr>\n",
       "    <tr>\n",
       "      <th>CL vs XB</th>\n",
       "      <td>-6.352416</td>\n",
       "      <td>2.716533e-07</td>\n",
       "      <td>-3.897604</td>\n",
       "      <td>-3.336779</td>\n",
       "      <td>-3.044901</td>\n",
       "    </tr>\n",
       "    <tr>\n",
       "      <th>CL vs HO</th>\n",
       "      <td>-5.103958</td>\n",
       "      <td>1.055450e-04</td>\n",
       "      <td>-3.897604</td>\n",
       "      <td>-3.336779</td>\n",
       "      <td>-3.044901</td>\n",
       "    </tr>\n",
       "  </tbody>\n",
       "</table>\n",
       "</div>"
      ],
      "text/plain": [
       "                t_value       p_value   ci_0.01   ci_0.05    ci_0.1\n",
       "CL vs HO + XB -4.592776  3.618606e-03 -4.295274 -3.741570 -3.452840\n",
       "CL vs XB      -6.352416  2.716533e-07 -3.897604 -3.336779 -3.044901\n",
       "CL vs HO      -5.103958  1.055450e-04 -3.897604 -3.336779 -3.044901"
      ]
     },
     "execution_count": 17,
     "metadata": {},
     "output_type": "execute_result"
    }
   ],
   "source": [
    "pd.concat((\n",
    "    coint(\n",
    "        price_concat.loc[:, 'Crude oil'],\n",
    "        price_concat.loc[:, ['Heating oil', 'Gasoline']]\n",
    "    ).to_frame('CL vs HO + XB').T,\n",
    "    coint(\n",
    "        price_concat.loc[:, 'Crude oil'],\n",
    "        price_concat.loc[:, ['Gasoline']]\n",
    "    ).to_frame('CL vs XB').T,\n",
    "    coint(\n",
    "        price_concat.loc[:, 'Crude oil'],\n",
    "        price_concat.loc[:, ['Heating oil']]\n",
    "    ).to_frame('CL vs HO').T,\n",
    "))"
   ]
  },
  {
   "cell_type": "markdown",
   "id": "9107b072",
   "metadata": {
    "papermill": {
     "duration": 0.017892,
     "end_time": "2022-05-19T06:12:33.240962",
     "exception": false,
     "start_time": "2022-05-19T06:12:33.223070",
     "status": "completed"
    },
    "tags": []
   },
   "source": [
    "However the confidence level is somewhat weakend with recent data although they are at least still cointegrated at the 5% level."
   ]
  },
  {
   "cell_type": "code",
   "execution_count": 18,
   "id": "3898183b",
   "metadata": {
    "execution": {
     "iopub.execute_input": "2022-05-19T06:12:33.276229Z",
     "iopub.status.busy": "2022-05-19T06:12:33.275837Z",
     "iopub.status.idle": "2022-05-19T06:12:34.557826Z",
     "shell.execute_reply": "2022-05-19T06:12:34.556957Z"
    },
    "papermill": {
     "duration": 1.302266,
     "end_time": "2022-05-19T06:12:34.560114",
     "exception": false,
     "start_time": "2022-05-19T06:12:33.257848",
     "status": "completed"
    },
    "tags": []
   },
   "outputs": [
    {
     "data": {
      "text/html": [
       "<div>\n",
       "<style scoped>\n",
       "    .dataframe tbody tr th:only-of-type {\n",
       "        vertical-align: middle;\n",
       "    }\n",
       "\n",
       "    .dataframe tbody tr th {\n",
       "        vertical-align: top;\n",
       "    }\n",
       "\n",
       "    .dataframe thead th {\n",
       "        text-align: right;\n",
       "    }\n",
       "</style>\n",
       "<table border=\"1\" class=\"dataframe\">\n",
       "  <thead>\n",
       "    <tr style=\"text-align: right;\">\n",
       "      <th></th>\n",
       "      <th>t_value</th>\n",
       "      <th>p_value</th>\n",
       "      <th>ci_0.01</th>\n",
       "      <th>ci_0.05</th>\n",
       "      <th>ci_0.1</th>\n",
       "    </tr>\n",
       "  </thead>\n",
       "  <tbody>\n",
       "    <tr>\n",
       "      <th>CL vs HO + XB</th>\n",
       "      <td>-3.860340</td>\n",
       "      <td>0.036445</td>\n",
       "      <td>-4.298373</td>\n",
       "      <td>-3.743407</td>\n",
       "      <td>-3.454173</td>\n",
       "    </tr>\n",
       "    <tr>\n",
       "      <th>CL vs XB</th>\n",
       "      <td>-4.366061</td>\n",
       "      <td>0.002016</td>\n",
       "      <td>-3.899956</td>\n",
       "      <td>-3.338090</td>\n",
       "      <td>-3.045811</td>\n",
       "    </tr>\n",
       "    <tr>\n",
       "      <th>CL vs HO</th>\n",
       "      <td>-3.927722</td>\n",
       "      <td>0.009079</td>\n",
       "      <td>-3.899956</td>\n",
       "      <td>-3.338090</td>\n",
       "      <td>-3.045811</td>\n",
       "    </tr>\n",
       "  </tbody>\n",
       "</table>\n",
       "</div>"
      ],
      "text/plain": [
       "                t_value   p_value   ci_0.01   ci_0.05    ci_0.1\n",
       "CL vs HO + XB -3.860340  0.036445 -4.298373 -3.743407 -3.454173\n",
       "CL vs XB      -4.366061  0.002016 -3.899956 -3.338090 -3.045811\n",
       "CL vs HO      -3.927722  0.009079 -3.899956 -3.338090 -3.045811"
      ]
     },
     "execution_count": 18,
     "metadata": {},
     "output_type": "execute_result"
    }
   ],
   "source": [
    "pd.concat((\n",
    "    coint(\n",
    "        price_concat.loc['2010':, 'Crude oil'],\n",
    "        price_concat.loc['2010':, ['Heating oil', 'Gasoline']]\n",
    "    ).to_frame('CL vs HO + XB').T,\n",
    "    coint(\n",
    "        price_concat.loc['2010':, 'Crude oil'],\n",
    "        price_concat.loc['2010':, ['Gasoline']]\n",
    "    ).to_frame('CL vs XB').T,\n",
    "    coint(\n",
    "        price_concat.loc['2010':, 'Crude oil'],\n",
    "        price_concat.loc['2010':, ['Heating oil']]\n",
    "    ).to_frame('CL vs HO').T,\n",
    "))"
   ]
  },
  {
   "cell_type": "markdown",
   "id": "f22325d0",
   "metadata": {
    "papermill": {
     "duration": 0.036187,
     "end_time": "2022-05-19T06:12:34.629803",
     "exception": false,
     "start_time": "2022-05-19T06:12:34.593616",
     "status": "completed"
    },
    "tags": []
   },
   "source": [
    "## Crack spreads\n",
    "\n",
    "Additionally, GP1999 tests the stationarity of the popularly traded crack spread -- 3:2:1 crack spread (CS), 1:1:0 gasoline crack spread (GCS) and 1:0:1 heating oil crack spread (HOCS).\n",
    "\n",
    "Note that the crude oil contract is priced in barrels while the other two are priced in gallon, and there are 42 gallons per 1 barrel. Some unit conversions are required to calculate such spreads."
   ]
  },
  {
   "cell_type": "code",
   "execution_count": 19,
   "id": "015bb3e9",
   "metadata": {
    "execution": {
     "iopub.execute_input": "2022-05-19T06:12:34.683384Z",
     "iopub.status.busy": "2022-05-19T06:12:34.682264Z",
     "iopub.status.idle": "2022-05-19T06:12:34.690105Z",
     "shell.execute_reply": "2022-05-19T06:12:34.689481Z"
    },
    "papermill": {
     "duration": 0.03661,
     "end_time": "2022-05-19T06:12:34.692377",
     "exception": false,
     "start_time": "2022-05-19T06:12:34.655767",
     "status": "completed"
    },
    "tags": []
   },
   "outputs": [],
   "source": [
    "cs = (price_concat['Heating oil'].mul(42).mul(2 / 3) + \n",
    "      price_concat['Gasoline'].mul(42).mul(1 / 3) - \n",
    "      price_concat['Crude oil'])\n",
    "gcs = (price_concat['Gasoline'].mul(42) - \n",
    "       price_concat['Crude oil'])\n",
    "hocs = (price_concat['Heating oil'].mul(42) - \n",
    "        price_concat['Crude oil'])"
   ]
  },
  {
   "cell_type": "markdown",
   "id": "6608463f",
   "metadata": {
    "papermill": {
     "duration": 0.025095,
     "end_time": "2022-05-19T06:12:34.742975",
     "exception": false,
     "start_time": "2022-05-19T06:12:34.717880",
     "status": "completed"
    },
    "tags": []
   },
   "source": [
    "As can be seen visually below, these spreads appear stationary until around 2000 after which they started to drift away from a certain level. This could be related to the financialisation of commodities. There are some evidence suggesting that index investments and speculative trades influence the commodity markets. (cf https://www.ecb.europa.eu/pub/financial-stability/fsr/focus/2011/pdf/ecb~6fdfdfce1c.fsrbox201112_04.pdf)"
   ]
  },
  {
   "cell_type": "code",
   "execution_count": 20,
   "id": "0b27db24",
   "metadata": {
    "execution": {
     "iopub.execute_input": "2022-05-19T06:12:34.796582Z",
     "iopub.status.busy": "2022-05-19T06:12:34.796289Z",
     "iopub.status.idle": "2022-05-19T06:12:35.586809Z",
     "shell.execute_reply": "2022-05-19T06:12:35.586139Z"
    },
    "papermill": {
     "duration": 0.820886,
     "end_time": "2022-05-19T06:12:35.589382",
     "exception": false,
     "start_time": "2022-05-19T06:12:34.768496",
     "status": "completed"
    },
    "tags": []
   },
   "outputs": [
    {
     "data": {
      "image/png": "[encoded data removed]",
      "text/plain": [
       "<Figure size 864x288 with 3 Axes>"
      ]
     },
     "metadata": {
      "needs_background": "light"
     },
     "output_type": "display_data"
    }
   ],
   "source": [
    "fig, ax = plt.subplots(1, 3, figsize=(12, 4), sharey=True)\n",
    "cs.plot(ax=ax[0])\n",
    "gcs.plot(ax=ax[1])\n",
    "hocs.plot(ax=ax[2])\n",
    "\n",
    "ax[0].set_title('3:2:1 crack spread')\n",
    "ax[1].set_title('1:1:0 gasoline crack spread')\n",
    "ax[2].set_title('1:0:1 heating oil crack spread')\n",
    "ax[0].set_ylabel('Crack spread ($)')\n",
    "\n",
    "fig.tight_layout();"
   ]
  },
  {
   "cell_type": "markdown",
   "id": "ddba6b40",
   "metadata": {
    "papermill": {
     "duration": 0.025688,
     "end_time": "2022-05-19T06:12:35.641253",
     "exception": false,
     "start_time": "2022-05-19T06:12:35.615565",
     "status": "completed"
    },
    "tags": []
   },
   "source": [
    "More formally, the ADF tests below show that they were stationary until Nov-1994."
   ]
  },
  {
   "cell_type": "code",
   "execution_count": 21,
   "id": "bd58dd0b",
   "metadata": {
    "execution": {
     "iopub.execute_input": "2022-05-19T06:12:35.694116Z",
     "iopub.status.busy": "2022-05-19T06:12:35.693845Z",
     "iopub.status.idle": "2022-05-19T06:12:37.219001Z",
     "shell.execute_reply": "2022-05-19T06:12:37.218123Z"
    },
    "papermill": {
     "duration": 1.55432,
     "end_time": "2022-05-19T06:12:37.221384",
     "exception": false,
     "start_time": "2022-05-19T06:12:35.667064",
     "status": "completed"
    },
    "tags": []
   },
   "outputs": [
    {
     "data": {
      "text/html": [
       "<div>\n",
       "<style scoped>\n",
       "    .dataframe tbody tr th:only-of-type {\n",
       "        vertical-align: middle;\n",
       "    }\n",
       "\n",
       "    .dataframe tbody tr th {\n",
       "        vertical-align: top;\n",
       "    }\n",
       "\n",
       "    .dataframe thead th {\n",
       "        text-align: right;\n",
       "    }\n",
       "</style>\n",
       "<table border=\"1\" class=\"dataframe\">\n",
       "  <thead>\n",
       "    <tr style=\"text-align: right;\">\n",
       "      <th></th>\n",
       "      <th>adf</th>\n",
       "      <th>p_value</th>\n",
       "      <th>used_lag</th>\n",
       "      <th>n_obs</th>\n",
       "      <th>ci_0.01</th>\n",
       "      <th>ci_0.05</th>\n",
       "      <th>ci_0.1</th>\n",
       "      <th>ic_best</th>\n",
       "    </tr>\n",
       "  </thead>\n",
       "  <tbody>\n",
       "    <tr>\n",
       "      <th>0</th>\n",
       "      <td>-7.926287</td>\n",
       "      <td>3.611421e-12</td>\n",
       "      <td>0.0</td>\n",
       "      <td>2515.0</td>\n",
       "      <td>-3.432953</td>\n",
       "      <td>-2.86269</td>\n",
       "      <td>-2.567382</td>\n",
       "      <td>1757.165999</td>\n",
       "    </tr>\n",
       "    <tr>\n",
       "      <th>0</th>\n",
       "      <td>-5.640046</td>\n",
       "      <td>1.041538e-06</td>\n",
       "      <td>1.0</td>\n",
       "      <td>2514.0</td>\n",
       "      <td>-3.432954</td>\n",
       "      <td>-2.86269</td>\n",
       "      <td>-2.567382</td>\n",
       "      <td>2505.871051</td>\n",
       "    </tr>\n",
       "    <tr>\n",
       "      <th>0</th>\n",
       "      <td>-6.999952</td>\n",
       "      <td>7.365777e-10</td>\n",
       "      <td>0.0</td>\n",
       "      <td>2515.0</td>\n",
       "      <td>-3.432953</td>\n",
       "      <td>-2.86269</td>\n",
       "      <td>-2.567382</td>\n",
       "      <td>2815.457971</td>\n",
       "    </tr>\n",
       "  </tbody>\n",
       "</table>\n",
       "</div>"
      ],
      "text/plain": [
       "        adf       p_value  used_lag   n_obs   ci_0.01  ci_0.05    ci_0.1  \\\n",
       "0 -7.926287  3.611421e-12       0.0  2515.0 -3.432953 -2.86269 -2.567382   \n",
       "0 -5.640046  1.041538e-06       1.0  2514.0 -3.432954 -2.86269 -2.567382   \n",
       "0 -6.999952  7.365777e-10       0.0  2515.0 -3.432953 -2.86269 -2.567382   \n",
       "\n",
       "       ic_best  \n",
       "0  1757.165999  \n",
       "0  2505.871051  \n",
       "0  2815.457971  "
      ]
     },
     "execution_count": 21,
     "metadata": {},
     "output_type": "execute_result"
    }
   ],
   "source": [
    "pd.concat((\n",
    "    adf(cs[:'1994-11'], autolag='BIC').to_frame().T,\n",
    "    adf(gcs[:'1994-11'], autolag='BIC').to_frame().T,\n",
    "    adf(hocs[:'1994-11'], autolag='BIC').to_frame().T,\n",
    "))"
   ]
  },
  {
   "cell_type": "markdown",
   "id": "6e2c8692",
   "metadata": {
    "papermill": {
     "duration": 0.021752,
     "end_time": "2022-05-19T06:12:37.284424",
     "exception": false,
     "start_time": "2022-05-19T06:12:37.262672",
     "status": "completed"
    },
    "tags": []
   },
   "source": [
    "Statistically though these spreads are still stationary at the 1% confidence level even after 2000."
   ]
  },
  {
   "cell_type": "code",
   "execution_count": 22,
   "id": "d3f9d7a9",
   "metadata": {
    "execution": {
     "iopub.execute_input": "2022-05-19T06:12:37.321817Z",
     "iopub.status.busy": "2022-05-19T06:12:37.321622Z",
     "iopub.status.idle": "2022-05-19T06:12:39.317962Z",
     "shell.execute_reply": "2022-05-19T06:12:39.316737Z"
    },
    "papermill": {
     "duration": 2.018194,
     "end_time": "2022-05-19T06:12:39.320753",
     "exception": false,
     "start_time": "2022-05-19T06:12:37.302559",
     "status": "completed"
    },
    "tags": []
   },
   "outputs": [
    {
     "data": {
      "text/html": [
       "<div>\n",
       "<style scoped>\n",
       "    .dataframe tbody tr th:only-of-type {\n",
       "        vertical-align: middle;\n",
       "    }\n",
       "\n",
       "    .dataframe tbody tr th {\n",
       "        vertical-align: top;\n",
       "    }\n",
       "\n",
       "    .dataframe thead th {\n",
       "        text-align: right;\n",
       "    }\n",
       "</style>\n",
       "<table border=\"1\" class=\"dataframe\">\n",
       "  <thead>\n",
       "    <tr style=\"text-align: right;\">\n",
       "      <th></th>\n",
       "      <th>adf</th>\n",
       "      <th>p_value</th>\n",
       "      <th>used_lag</th>\n",
       "      <th>n_obs</th>\n",
       "      <th>ci_0.01</th>\n",
       "      <th>ci_0.05</th>\n",
       "      <th>ci_0.1</th>\n",
       "      <th>ic_best</th>\n",
       "    </tr>\n",
       "  </thead>\n",
       "  <tbody>\n",
       "    <tr>\n",
       "      <th>0</th>\n",
       "      <td>-2.998833</td>\n",
       "      <td>0.035004</td>\n",
       "      <td>2.0</td>\n",
       "      <td>5618.0</td>\n",
       "      <td>-3.431515</td>\n",
       "      <td>-2.862055</td>\n",
       "      <td>-2.567044</td>\n",
       "      <td>15392.512295</td>\n",
       "    </tr>\n",
       "    <tr>\n",
       "      <th>0</th>\n",
       "      <td>-4.598379</td>\n",
       "      <td>0.000130</td>\n",
       "      <td>0.0</td>\n",
       "      <td>5620.0</td>\n",
       "      <td>-3.431514</td>\n",
       "      <td>-2.862054</td>\n",
       "      <td>-2.567044</td>\n",
       "      <td>17716.909094</td>\n",
       "    </tr>\n",
       "    <tr>\n",
       "      <th>0</th>\n",
       "      <td>-3.337214</td>\n",
       "      <td>0.013295</td>\n",
       "      <td>2.0</td>\n",
       "      <td>5618.0</td>\n",
       "      <td>-3.431515</td>\n",
       "      <td>-2.862055</td>\n",
       "      <td>-2.567044</td>\n",
       "      <td>17305.510402</td>\n",
       "    </tr>\n",
       "  </tbody>\n",
       "</table>\n",
       "</div>"
      ],
      "text/plain": [
       "        adf   p_value  used_lag   n_obs   ci_0.01   ci_0.05    ci_0.1  \\\n",
       "0 -2.998833  0.035004       2.0  5618.0 -3.431515 -2.862055 -2.567044   \n",
       "0 -4.598379  0.000130       0.0  5620.0 -3.431514 -2.862054 -2.567044   \n",
       "0 -3.337214  0.013295       2.0  5618.0 -3.431515 -2.862055 -2.567044   \n",
       "\n",
       "        ic_best  \n",
       "0  15392.512295  \n",
       "0  17716.909094  \n",
       "0  17305.510402  "
      ]
     },
     "execution_count": 22,
     "metadata": {},
     "output_type": "execute_result"
    }
   ],
   "source": [
    "pd.concat((\n",
    "    adf(cs['2000':], autolag='BIC').to_frame().T,\n",
    "    adf(gcs['2000':], autolag='BIC').to_frame().T,\n",
    "    adf(hocs['2000':], autolag='BIC').to_frame().T,\n",
    "))"
   ]
  },
  {
   "cell_type": "markdown",
   "id": "eb6c197c",
   "metadata": {
    "papermill": {
     "duration": 0.024447,
     "end_time": "2022-05-19T06:12:39.393067",
     "exception": false,
     "start_time": "2022-05-19T06:12:39.368620",
     "status": "completed"
    },
    "tags": []
   },
   "source": [
    "# Backtest"
   ]
  },
  {
   "cell_type": "markdown",
   "id": "4bbb1506",
   "metadata": {
    "papermill": {
     "duration": 0.023526,
     "end_time": "2022-05-19T06:12:39.435616",
     "exception": false,
     "start_time": "2022-05-19T06:12:39.412090",
     "status": "completed"
    },
    "tags": []
   },
   "source": [
    "It's not entirely clear how many back contracts are used in the original analysis as they only mentioned they used *all spreads*. In this notebook, the first 6 contracts are used for the sake of simplicity. Beyond 6, there tends to be more missing prices because of inactivity.\n",
    "\n",
    "In practice, one might want to consider liquidity of each contract to decide which one to trade as not all contract months have the same liquidity. In the case of crude oil, after certain points only June and December contracts are actually traded even though other months are listed."
   ]
  },
  {
   "cell_type": "code",
   "execution_count": 23,
   "id": "4aebb8bd",
   "metadata": {
    "execution": {
     "iopub.execute_input": "2022-05-19T06:12:39.487041Z",
     "iopub.status.busy": "2022-05-19T06:12:39.486846Z",
     "iopub.status.idle": "2022-05-19T06:12:40.578922Z",
     "shell.execute_reply": "2022-05-19T06:12:40.578266Z"
    },
    "papermill": {
     "duration": 1.119816,
     "end_time": "2022-05-19T06:12:40.580786",
     "exception": false,
     "start_time": "2022-05-19T06:12:39.460970",
     "status": "completed"
    },
    "tags": []
   },
   "outputs": [],
   "source": [
    "cl_curve = get_futures_curve_snapshot('CL', datetime(2021, 12, 1), 'volume')"
   ]
  },
  {
   "cell_type": "code",
   "execution_count": 24,
   "id": "c2bd035a",
   "metadata": {
    "execution": {
     "iopub.execute_input": "2022-05-19T06:12:40.621169Z",
     "iopub.status.busy": "2022-05-19T06:12:40.620685Z",
     "iopub.status.idle": "2022-05-19T06:12:41.197884Z",
     "shell.execute_reply": "2022-05-19T06:12:41.197085Z"
    },
    "papermill": {
     "duration": 0.59916,
     "end_time": "2022-05-19T06:12:41.199813",
     "exception": false,
     "start_time": "2022-05-19T06:12:40.600653",
     "status": "completed"
    },
    "tags": []
   },
   "outputs": [
    {
     "data": {
      "image/png": "[encoded data removed]",
      "text/plain": [
       "<Figure size 1008x216 with 1 Axes>"
      ]
     },
     "metadata": {
      "needs_background": "light"
     },
     "output_type": "display_data"
    }
   ],
   "source": [
    "ax = cl_curve.loc[:'2024'].set_index('symbol')['volume'].plot(kind='bar', figsize=(14, 3));\n",
    "ax.set_ylabel('Volume')\n",
    "ax.set_title('Crude oil traded volume per contract');"
   ]
  },
  {
   "cell_type": "markdown",
   "id": "9de6acec",
   "metadata": {
    "papermill": {
     "duration": 0.021879,
     "end_time": "2022-05-19T06:12:41.242097",
     "exception": false,
     "start_time": "2022-05-19T06:12:41.220218",
     "status": "completed"
    },
    "tags": []
   },
   "source": [
    "## Crack spread\n",
    "\n",
    "First define the instruments. `roll_rule` is defined to make sure futures are rolled on month-ends. As per the analysis done for crush spreads, some arbitrary collateral of 100k USD is used to meature futures returns."
   ]
  },
  {
   "cell_type": "code",
   "execution_count": 25,
   "id": "5d159539",
   "metadata": {
    "execution": {
     "iopub.execute_input": "2022-05-19T06:12:41.293255Z",
     "iopub.status.busy": "2022-05-19T06:12:41.292905Z",
     "iopub.status.idle": "2022-05-19T06:12:41.301315Z",
     "shell.execute_reply": "2022-05-19T06:12:41.300529Z"
    },
    "papermill": {
     "duration": 0.035154,
     "end_time": "2022-05-19T06:12:41.303576",
     "exception": false,
     "start_time": "2022-05-19T06:12:41.268422",
     "status": "completed"
    },
    "tags": []
   },
   "outputs": [],
   "source": [
    "max_expiry = 6\n",
    "instrument = []\n",
    "for i in range(1, max_expiry + 1):\n",
    "    ho = InstrumentDef('HO', id=f'HO_{i}', collateral=100_000, roll_rule=RollRule.MONTH_END.value, nth_expiry=i)\n",
    "    xb = InstrumentDef('XB', id=f'XB_{i}', collateral=100_000, roll_rule=RollRule.MONTH_END.value, nth_expiry=i)\n",
    "    cl = InstrumentDef('CL', id=f'CL_{i}', collateral=100_000, roll_rule=RollRule.MONTH_END.value, nth_expiry=i)\n",
    "    instrument.append(ho)\n",
    "    instrument.append(xb)\n",
    "    instrument.append(cl)"
   ]
  },
  {
   "cell_type": "code",
   "execution_count": 26,
   "id": "19851a3b",
   "metadata": {
    "execution": {
     "iopub.execute_input": "2022-05-19T06:12:41.355967Z",
     "iopub.status.busy": "2022-05-19T06:12:41.355638Z",
     "iopub.status.idle": "2022-05-19T06:12:41.361292Z",
     "shell.execute_reply": "2022-05-19T06:12:41.360656Z"
    },
    "papermill": {
     "duration": 0.034035,
     "end_time": "2022-05-19T06:12:41.363089",
     "exception": false,
     "start_time": "2022-05-19T06:12:41.329054",
     "status": "completed"
    },
    "tags": []
   },
   "outputs": [
    {
     "data": {
      "text/plain": [
       "18"
      ]
     },
     "execution_count": 26,
     "metadata": {},
     "output_type": "execute_result"
    }
   ],
   "source": [
    "len(instrument)"
   ]
  },
  {
   "cell_type": "code",
   "execution_count": 27,
   "id": "729399c3",
   "metadata": {
    "execution": {
     "iopub.execute_input": "2022-05-19T06:12:41.407876Z",
     "iopub.status.busy": "2022-05-19T06:12:41.407520Z",
     "iopub.status.idle": "2022-05-19T06:19:13.723121Z",
     "shell.execute_reply": "2022-05-19T06:19:13.721905Z"
    },
    "papermill": {
     "duration": 392.342236,
     "end_time": "2022-05-19T06:19:13.726663",
     "exception": false,
     "start_time": "2022-05-19T06:12:41.384427",
     "status": "completed"
    },
    "tags": []
   },
   "outputs": [],
   "source": [
    "engine_cs = BacktestEngine(\n",
    "    start_date=datetime(1985, 1, 1),\n",
    "    strategy=Strategy.DELTA_ONE.value,\n",
    "    instrument=instrument,\n",
    "    signal=signal.CrackSpreadGP1999(\n",
    "        ma_lookback=5,\n",
    "        entry_sigma=2,\n",
    "    ),\n",
    "    weighting=Weighting.SUM.value,\n",
    "    log_level=logging.WARN,\n",
    ")\n",
    "engine_cs.run()"
   ]
  },
  {
   "cell_type": "code",
   "execution_count": 28,
   "id": "f08e3ad6",
   "metadata": {
    "execution": {
     "iopub.execute_input": "2022-05-19T06:19:13.794298Z",
     "iopub.status.busy": "2022-05-19T06:19:13.793995Z",
     "iopub.status.idle": "2022-05-19T06:20:58.273367Z",
     "shell.execute_reply": "2022-05-19T06:20:58.272666Z"
    },
    "papermill": {
     "duration": 104.509814,
     "end_time": "2022-05-19T06:20:58.275718",
     "exception": false,
     "start_time": "2022-05-19T06:19:13.765904",
     "status": "completed"
    },
    "tags": []
   },
   "outputs": [],
   "source": [
    "levels_cs = engine_cs.calculate_equity_curve(calculate_net=False).rename('Crack spread')"
   ]
  },
  {
   "cell_type": "markdown",
   "id": "46f2eaf9",
   "metadata": {
    "papermill": {
     "duration": 0.018508,
     "end_time": "2022-05-19T06:20:58.316020",
     "exception": false,
     "start_time": "2022-05-19T06:20:58.297512",
     "status": "completed"
    },
    "tags": []
   },
   "source": [
    "## Gasoline crack spread"
   ]
  },
  {
   "cell_type": "code",
   "execution_count": 29,
   "id": "ea2825c3",
   "metadata": {
    "execution": {
     "iopub.execute_input": "2022-05-19T06:20:58.354577Z",
     "iopub.status.busy": "2022-05-19T06:20:58.353894Z",
     "iopub.status.idle": "2022-05-19T06:20:58.360248Z",
     "shell.execute_reply": "2022-05-19T06:20:58.359550Z"
    },
    "papermill": {
     "duration": 0.027977,
     "end_time": "2022-05-19T06:20:58.362305",
     "exception": false,
     "start_time": "2022-05-19T06:20:58.334328",
     "status": "completed"
    },
    "tags": []
   },
   "outputs": [],
   "source": [
    "max_expiry = 6\n",
    "instrument = []\n",
    "for i in range(1, max_expiry + 1):\n",
    "    xb = InstrumentDef('XB', id=f'XB_{i}', collateral=100_000, roll_rule=RollRule.MONTH_END.value, nth_expiry=i)\n",
    "    cl = InstrumentDef('CL', id=f'CL_{i}', collateral=100_000, roll_rule=RollRule.MONTH_END.value, nth_expiry=i)\n",
    "    instrument.append(xb)\n",
    "    instrument.append(cl)"
   ]
  },
  {
   "cell_type": "code",
   "execution_count": 30,
   "id": "553fbe4b",
   "metadata": {
    "execution": {
     "iopub.execute_input": "2022-05-19T06:20:58.412916Z",
     "iopub.status.busy": "2022-05-19T06:20:58.412686Z",
     "iopub.status.idle": "2022-05-19T06:25:35.587377Z",
     "shell.execute_reply": "2022-05-19T06:25:35.586732Z"
    },
    "papermill": {
     "duration": 277.202243,
     "end_time": "2022-05-19T06:25:35.589506",
     "exception": false,
     "start_time": "2022-05-19T06:20:58.387263",
     "status": "completed"
    },
    "tags": []
   },
   "outputs": [],
   "source": [
    "engine_gcs = BacktestEngine(\n",
    "    start_date=datetime(1985, 1, 1),\n",
    "    strategy=Strategy.DELTA_ONE.value,\n",
    "    instrument=instrument,\n",
    "    signal=signal.CrackSpreadGP1999(\n",
    "        weights={'XB': 42 * 1000, 'CL': -1 * 1000},\n",
    "        ma_lookback=5,\n",
    "        entry_sigma=2,\n",
    "    ),\n",
    "    weighting=Weighting.SUM.value,\n",
    "    log_level=logging.WARN,\n",
    ")\n",
    "engine_gcs.run()"
   ]
  },
  {
   "cell_type": "code",
   "execution_count": 31,
   "id": "4d87519a",
   "metadata": {
    "execution": {
     "iopub.execute_input": "2022-05-19T06:25:35.629517Z",
     "iopub.status.busy": "2022-05-19T06:25:35.629064Z",
     "iopub.status.idle": "2022-05-19T06:26:41.344177Z",
     "shell.execute_reply": "2022-05-19T06:26:41.343556Z"
    },
    "papermill": {
     "duration": 65.737716,
     "end_time": "2022-05-19T06:26:41.346105",
     "exception": false,
     "start_time": "2022-05-19T06:25:35.608389",
     "status": "completed"
    },
    "tags": []
   },
   "outputs": [],
   "source": [
    "levels_gcs = engine_gcs.calculate_equity_curve(calculate_net=False).rename('Gasoline crack spread')"
   ]
  },
  {
   "cell_type": "markdown",
   "id": "8d456942",
   "metadata": {
    "papermill": {
     "duration": 0.021653,
     "end_time": "2022-05-19T06:26:41.387348",
     "exception": false,
     "start_time": "2022-05-19T06:26:41.365695",
     "status": "completed"
    },
    "tags": []
   },
   "source": [
    "## Heating oil crack spread"
   ]
  },
  {
   "cell_type": "code",
   "execution_count": 32,
   "id": "9cb7c150",
   "metadata": {
    "execution": {
     "iopub.execute_input": "2022-05-19T06:26:41.427022Z",
     "iopub.status.busy": "2022-05-19T06:26:41.426732Z",
     "iopub.status.idle": "2022-05-19T06:26:41.433102Z",
     "shell.execute_reply": "2022-05-19T06:26:41.432550Z"
    },
    "papermill": {
     "duration": 0.028821,
     "end_time": "2022-05-19T06:26:41.434768",
     "exception": false,
     "start_time": "2022-05-19T06:26:41.405947",
     "status": "completed"
    },
    "tags": []
   },
   "outputs": [],
   "source": [
    "max_expiry = 6\n",
    "instrument = []\n",
    "for i in range(1, max_expiry + 1):\n",
    "    ho = InstrumentDef('HO', id=f'HO_{i}', collateral=100_000, roll_rule=RollRule.MONTH_END.value, nth_expiry=i)\n",
    "    cl = InstrumentDef('CL', id=f'CL_{i}', collateral=100_000, roll_rule=RollRule.MONTH_END.value, nth_expiry=i)\n",
    "    instrument.append(ho)\n",
    "    instrument.append(cl)"
   ]
  },
  {
   "cell_type": "code",
   "execution_count": 33,
   "id": "9338a131",
   "metadata": {
    "execution": {
     "iopub.execute_input": "2022-05-19T06:26:41.475572Z",
     "iopub.status.busy": "2022-05-19T06:26:41.475241Z",
     "iopub.status.idle": "2022-05-19T06:31:14.170685Z",
     "shell.execute_reply": "2022-05-19T06:31:14.169839Z"
    },
    "papermill": {
     "duration": 272.717999,
     "end_time": "2022-05-19T06:31:14.173118",
     "exception": false,
     "start_time": "2022-05-19T06:26:41.455119",
     "status": "completed"
    },
    "tags": []
   },
   "outputs": [],
   "source": [
    "engine_hocs = BacktestEngine(\n",
    "    start_date=datetime(1985, 1, 1),\n",
    "    strategy=Strategy.DELTA_ONE.value,\n",
    "    instrument=instrument,\n",
    "    signal=signal.CrackSpreadGP1999(\n",
    "        weights={'HO': 42 * 1000, 'CL': -1 * 1000},\n",
    "        ma_lookback=5,\n",
    "        entry_sigma=2,\n",
    "    ),\n",
    "    weighting=Weighting.SUM.value,\n",
    "    log_level=logging.WARN,\n",
    ")\n",
    "engine_hocs.run()"
   ]
  },
  {
   "cell_type": "code",
   "execution_count": 34,
   "id": "64757694",
   "metadata": {
    "execution": {
     "iopub.execute_input": "2022-05-19T06:31:14.229173Z",
     "iopub.status.busy": "2022-05-19T06:31:14.228790Z",
     "iopub.status.idle": "2022-05-19T06:32:13.951784Z",
     "shell.execute_reply": "2022-05-19T06:32:13.951074Z"
    },
    "papermill": {
     "duration": 59.753302,
     "end_time": "2022-05-19T06:32:13.953657",
     "exception": false,
     "start_time": "2022-05-19T06:31:14.200355",
     "status": "completed"
    },
    "tags": []
   },
   "outputs": [],
   "source": [
    "levels_hocs = engine_hocs.calculate_equity_curve(calculate_net=False).rename('Heating oil crack spread')"
   ]
  },
  {
   "cell_type": "markdown",
   "id": "7d427481",
   "metadata": {
    "papermill": {
     "duration": 0.018481,
     "end_time": "2022-05-19T06:32:13.992103",
     "exception": false,
     "start_time": "2022-05-19T06:32:13.973622",
     "status": "completed"
    },
    "tags": []
   },
   "source": [
    "## Performance\n",
    "During the sample period tested, a mean-reversion on the crack spread worked well."
   ]
  },
  {
   "cell_type": "code",
   "execution_count": 35,
   "id": "348f0796",
   "metadata": {
    "execution": {
     "iopub.execute_input": "2022-05-19T06:32:14.032083Z",
     "iopub.status.busy": "2022-05-19T06:32:14.031807Z",
     "iopub.status.idle": "2022-05-19T06:32:14.046028Z",
     "shell.execute_reply": "2022-05-19T06:32:14.045373Z"
    },
    "papermill": {
     "duration": 0.036929,
     "end_time": "2022-05-19T06:32:14.047854",
     "exception": false,
     "start_time": "2022-05-19T06:32:14.010925",
     "status": "completed"
    },
    "tags": []
   },
   "outputs": [],
   "source": [
    "levels = pd.concat((\n",
    "    levels_cs, levels_gcs, levels_hocs\n",
    "), axis=1)"
   ]
  },
  {
   "cell_type": "code",
   "execution_count": 36,
   "id": "c3b6f7cd",
   "metadata": {
    "execution": {
     "iopub.execute_input": "2022-05-19T06:32:14.087194Z",
     "iopub.status.busy": "2022-05-19T06:32:14.086675Z",
     "iopub.status.idle": "2022-05-19T06:32:14.959553Z",
     "shell.execute_reply": "2022-05-19T06:32:14.958703Z"
    },
    "papermill": {
     "duration": 0.8951,
     "end_time": "2022-05-19T06:32:14.961932",
     "exception": false,
     "start_time": "2022-05-19T06:32:14.066832",
     "status": "completed"
    },
    "tags": []
   },
   "outputs": [
    {
     "data": {
      "image/png": "[encoded data removed]",
      "text/plain": [
       "<Figure size 576x324 with 1 Axes>"
      ]
     },
     "metadata": {
      "needs_background": "light"
     },
     "output_type": "display_data"
    }
   ],
   "source": [
    "fig, ax = plt.subplots(figsize=(8, 4.5))\n",
    "levels[:'1994-11'].plot(ax=ax, logy=True);\n",
    "ax.set_title('Crack spreads mean-reversion (GP1999)')\n",
    "ax.set_ylabel('Cumulative returns');"
   ]
  },
  {
   "cell_type": "code",
   "execution_count": 37,
   "id": "8b9035a4",
   "metadata": {
    "execution": {
     "iopub.execute_input": "2022-05-19T06:32:15.020026Z",
     "iopub.status.busy": "2022-05-19T06:32:15.019694Z",
     "iopub.status.idle": "2022-05-19T06:32:15.086008Z",
     "shell.execute_reply": "2022-05-19T06:32:15.085239Z"
    },
    "papermill": {
     "duration": 0.097824,
     "end_time": "2022-05-19T06:32:15.088402",
     "exception": false,
     "start_time": "2022-05-19T06:32:14.990578",
     "status": "completed"
    },
    "tags": []
   },
   "outputs": [
    {
     "data": {
      "text/html": [
       "<div>\n",
       "<style scoped>\n",
       "    .dataframe tbody tr th:only-of-type {\n",
       "        vertical-align: middle;\n",
       "    }\n",
       "\n",
       "    .dataframe tbody tr th {\n",
       "        vertical-align: top;\n",
       "    }\n",
       "\n",
       "    .dataframe thead th {\n",
       "        text-align: right;\n",
       "    }\n",
       "</style>\n",
       "<table border=\"1\" class=\"dataframe\">\n",
       "  <thead>\n",
       "    <tr style=\"text-align: right;\">\n",
       "      <th></th>\n",
       "      <th>Crack spread</th>\n",
       "      <th>Gasoline crack spread</th>\n",
       "      <th>Heating oil crack spread</th>\n",
       "    </tr>\n",
       "  </thead>\n",
       "  <tbody>\n",
       "    <tr>\n",
       "      <th>CAGR</th>\n",
       "      <td>0.014100</td>\n",
       "      <td>0.007241</td>\n",
       "      <td>0.011715</td>\n",
       "    </tr>\n",
       "    <tr>\n",
       "      <th>Annualised vol</th>\n",
       "      <td>0.018131</td>\n",
       "      <td>0.022948</td>\n",
       "      <td>0.017725</td>\n",
       "    </tr>\n",
       "    <tr>\n",
       "      <th>Sharpe ratio</th>\n",
       "      <td>0.777675</td>\n",
       "      <td>0.315525</td>\n",
       "      <td>0.660914</td>\n",
       "    </tr>\n",
       "    <tr>\n",
       "      <th>Max drawdown</th>\n",
       "      <td>0.071648</td>\n",
       "      <td>0.129760</td>\n",
       "      <td>0.044562</td>\n",
       "    </tr>\n",
       "    <tr>\n",
       "      <th>Calmar ratio</th>\n",
       "      <td>0.196791</td>\n",
       "      <td>0.055800</td>\n",
       "      <td>0.262889</td>\n",
       "    </tr>\n",
       "    <tr>\n",
       "      <th>Skewness</th>\n",
       "      <td>0.791950</td>\n",
       "      <td>4.373877</td>\n",
       "      <td>2.076780</td>\n",
       "    </tr>\n",
       "    <tr>\n",
       "      <th>Kurtosis</th>\n",
       "      <td>45.874931</td>\n",
       "      <td>200.909353</td>\n",
       "      <td>75.098364</td>\n",
       "    </tr>\n",
       "    <tr>\n",
       "      <th>Worst return</th>\n",
       "      <td>-0.012272</td>\n",
       "      <td>-0.022322</td>\n",
       "      <td>-0.013000</td>\n",
       "    </tr>\n",
       "    <tr>\n",
       "      <th>Worst 1d return</th>\n",
       "      <td>-0.012272</td>\n",
       "      <td>-0.022322</td>\n",
       "      <td>-0.013000</td>\n",
       "    </tr>\n",
       "    <tr>\n",
       "      <th>Worst 1w return</th>\n",
       "      <td>-0.018763</td>\n",
       "      <td>-0.034413</td>\n",
       "      <td>-0.019985</td>\n",
       "    </tr>\n",
       "    <tr>\n",
       "      <th>Worst 1m return</th>\n",
       "      <td>-0.030638</td>\n",
       "      <td>-0.029017</td>\n",
       "      <td>-0.026193</td>\n",
       "    </tr>\n",
       "  </tbody>\n",
       "</table>\n",
       "</div>"
      ],
      "text/plain": [
       "                 Crack spread  Gasoline crack spread  Heating oil crack spread\n",
       "CAGR                 0.014100               0.007241                  0.011715\n",
       "Annualised vol       0.018131               0.022948                  0.017725\n",
       "Sharpe ratio         0.777675               0.315525                  0.660914\n",
       "Max drawdown         0.071648               0.129760                  0.044562\n",
       "Calmar ratio         0.196791               0.055800                  0.262889\n",
       "Skewness             0.791950               4.373877                  2.076780\n",
       "Kurtosis            45.874931             200.909353                 75.098364\n",
       "Worst return        -0.012272              -0.022322                 -0.013000\n",
       "Worst 1d return     -0.012272              -0.022322                 -0.013000\n",
       "Worst 1w return     -0.018763              -0.034413                 -0.019985\n",
       "Worst 1m return     -0.030638              -0.029017                 -0.026193"
      ]
     },
     "execution_count": 37,
     "metadata": {},
     "output_type": "execute_result"
    }
   ],
   "source": [
    "levels[:'1994-11'].pipe(Performance).summary()"
   ]
  },
  {
   "cell_type": "markdown",
   "id": "25d81c19",
   "metadata": {
    "papermill": {
     "duration": 0.028431,
     "end_time": "2022-05-19T06:32:15.146059",
     "exception": false,
     "start_time": "2022-05-19T06:32:15.117628",
     "status": "completed"
    },
    "tags": []
   },
   "source": [
    "The underperformance in 1990 coincides with a wider divergence on the crack spread which is intuitive."
   ]
  },
  {
   "cell_type": "code",
   "execution_count": 38,
   "id": "76538675",
   "metadata": {
    "execution": {
     "iopub.execute_input": "2022-05-19T06:32:15.204767Z",
     "iopub.status.busy": "2022-05-19T06:32:15.204407Z",
     "iopub.status.idle": "2022-05-19T06:32:15.638749Z",
     "shell.execute_reply": "2022-05-19T06:32:15.638113Z"
    },
    "papermill": {
     "duration": 0.465755,
     "end_time": "2022-05-19T06:32:15.640448",
     "exception": false,
     "start_time": "2022-05-19T06:32:15.174693",
     "status": "completed"
    },
    "tags": []
   },
   "outputs": [
    {
     "data": {
      "image/png": "[encoded data removed]",
      "text/plain": [
       "<Figure size 576x360 with 2 Axes>"
      ]
     },
     "metadata": {
      "needs_background": "light"
     },
     "output_type": "display_data"
    }
   ],
   "source": [
    "pd.concat((\n",
    "    levels_gcs.rename('Gasoline crack spread strategy'),\n",
    "    gcs.rename('GCS')\n",
    "), axis=1)[:'1994-11'].plot(figsize=(8, 5), secondary_y='GCS');"
   ]
  },
  {
   "cell_type": "markdown",
   "id": "e2d431e2",
   "metadata": {
    "papermill": {
     "duration": 0.021018,
     "end_time": "2022-05-19T06:32:15.682964",
     "exception": false,
     "start_time": "2022-05-19T06:32:15.661946",
     "status": "completed"
    },
    "tags": []
   },
   "source": [
    "## Long-term performance\n",
    "\n",
    "...however as we saw earlier in the time-series of crack spreads, something must have changed in 2000s and the trading strategies stopped working."
   ]
  },
  {
   "cell_type": "code",
   "execution_count": 39,
   "id": "d8a263d6",
   "metadata": {
    "execution": {
     "iopub.execute_input": "2022-05-19T06:32:15.736203Z",
     "iopub.status.busy": "2022-05-19T06:32:15.735941Z",
     "iopub.status.idle": "2022-05-19T06:32:16.410558Z",
     "shell.execute_reply": "2022-05-19T06:32:16.409948Z"
    },
    "papermill": {
     "duration": 0.705901,
     "end_time": "2022-05-19T06:32:16.413127",
     "exception": false,
     "start_time": "2022-05-19T06:32:15.707226",
     "status": "completed"
    },
    "tags": []
   },
   "outputs": [
    {
     "data": {
      "image/png": "[encoded data removed]",
      "text/plain": [
       "<Figure size 576x324 with 1 Axes>"
      ]
     },
     "metadata": {
      "needs_background": "light"
     },
     "output_type": "display_data"
    }
   ],
   "source": [
    "fig, ax = plt.subplots(figsize=(8, 4.5))\n",
    "levels.plot(ax=ax, logy=True);\n",
    "ax.set_title('Crack spreads mean-reversion (GP1999)')\n",
    "ax.set_ylabel('Cumulative returns');"
   ]
  },
  {
   "cell_type": "code",
   "execution_count": 40,
   "id": "b9b01da1",
   "metadata": {
    "execution": {
     "iopub.execute_input": "2022-05-19T06:32:16.475132Z",
     "iopub.status.busy": "2022-05-19T06:32:16.474728Z",
     "iopub.status.idle": "2022-05-19T06:32:16.545411Z",
     "shell.execute_reply": "2022-05-19T06:32:16.544849Z"
    },
    "papermill": {
     "duration": 0.10388,
     "end_time": "2022-05-19T06:32:16.547542",
     "exception": false,
     "start_time": "2022-05-19T06:32:16.443662",
     "status": "completed"
    },
    "tags": []
   },
   "outputs": [
    {
     "data": {
      "text/html": [
       "<div>\n",
       "<style scoped>\n",
       "    .dataframe tbody tr th:only-of-type {\n",
       "        vertical-align: middle;\n",
       "    }\n",
       "\n",
       "    .dataframe tbody tr th {\n",
       "        vertical-align: top;\n",
       "    }\n",
       "\n",
       "    .dataframe thead th {\n",
       "        text-align: right;\n",
       "    }\n",
       "</style>\n",
       "<table border=\"1\" class=\"dataframe\">\n",
       "  <thead>\n",
       "    <tr style=\"text-align: right;\">\n",
       "      <th></th>\n",
       "      <th>Crack spread</th>\n",
       "      <th>Gasoline crack spread</th>\n",
       "      <th>Heating oil crack spread</th>\n",
       "    </tr>\n",
       "  </thead>\n",
       "  <tbody>\n",
       "    <tr>\n",
       "      <th>CAGR</th>\n",
       "      <td>-0.040832</td>\n",
       "      <td>-0.006779</td>\n",
       "      <td>-0.002291</td>\n",
       "    </tr>\n",
       "    <tr>\n",
       "      <th>Annualised vol</th>\n",
       "      <td>0.143814</td>\n",
       "      <td>0.044916</td>\n",
       "      <td>0.072116</td>\n",
       "    </tr>\n",
       "    <tr>\n",
       "      <th>Sharpe ratio</th>\n",
       "      <td>-0.283922</td>\n",
       "      <td>-0.150933</td>\n",
       "      <td>-0.031763</td>\n",
       "    </tr>\n",
       "    <tr>\n",
       "      <th>Max drawdown</th>\n",
       "      <td>0.839955</td>\n",
       "      <td>0.455942</td>\n",
       "      <td>0.340033</td>\n",
       "    </tr>\n",
       "    <tr>\n",
       "      <th>Calmar ratio</th>\n",
       "      <td>-0.048612</td>\n",
       "      <td>-0.014869</td>\n",
       "      <td>-0.006736</td>\n",
       "    </tr>\n",
       "    <tr>\n",
       "      <th>Skewness</th>\n",
       "      <td>22.884881</td>\n",
       "      <td>-1.825538</td>\n",
       "      <td>6.746345</td>\n",
       "    </tr>\n",
       "    <tr>\n",
       "      <th>Kurtosis</th>\n",
       "      <td>2192.162538</td>\n",
       "      <td>67.532803</td>\n",
       "      <td>810.433133</td>\n",
       "    </tr>\n",
       "    <tr>\n",
       "      <th>Worst return</th>\n",
       "      <td>-0.339082</td>\n",
       "      <td>-0.049356</td>\n",
       "      <td>-0.162293</td>\n",
       "    </tr>\n",
       "    <tr>\n",
       "      <th>Worst 1d return</th>\n",
       "      <td>-0.339082</td>\n",
       "      <td>-0.049356</td>\n",
       "      <td>-0.162293</td>\n",
       "    </tr>\n",
       "    <tr>\n",
       "      <th>Worst 1w return</th>\n",
       "      <td>-0.283883</td>\n",
       "      <td>-0.101832</td>\n",
       "      <td>-0.125455</td>\n",
       "    </tr>\n",
       "    <tr>\n",
       "      <th>Worst 1m return</th>\n",
       "      <td>-0.436654</td>\n",
       "      <td>-0.119793</td>\n",
       "      <td>-0.228092</td>\n",
       "    </tr>\n",
       "  </tbody>\n",
       "</table>\n",
       "</div>"
      ],
      "text/plain": [
       "                 Crack spread  Gasoline crack spread  Heating oil crack spread\n",
       "CAGR                -0.040832              -0.006779                 -0.002291\n",
       "Annualised vol       0.143814               0.044916                  0.072116\n",
       "Sharpe ratio        -0.283922              -0.150933                 -0.031763\n",
       "Max drawdown         0.839955               0.455942                  0.340033\n",
       "Calmar ratio        -0.048612              -0.014869                 -0.006736\n",
       "Skewness            22.884881              -1.825538                  6.746345\n",
       "Kurtosis          2192.162538              67.532803                810.433133\n",
       "Worst return        -0.339082              -0.049356                 -0.162293\n",
       "Worst 1d return     -0.339082              -0.049356                 -0.162293\n",
       "Worst 1w return     -0.283883              -0.101832                 -0.125455\n",
       "Worst 1m return     -0.436654              -0.119793                 -0.228092"
      ]
     },
     "execution_count": 40,
     "metadata": {},
     "output_type": "execute_result"
    }
   ],
   "source": [
    "levels.pipe(Performance).summary()"
   ]
  },
  {
   "cell_type": "markdown",
   "id": "e67cc5fa",
   "metadata": {
    "papermill": {
     "duration": 0.031318,
     "end_time": "2022-05-19T06:32:16.610846",
     "exception": false,
     "start_time": "2022-05-19T06:32:16.579528",
     "status": "completed"
    },
    "tags": []
   },
   "source": [
    "## Post publication"
   ]
  },
  {
   "cell_type": "code",
   "execution_count": 41,
   "id": "94b4f13d",
   "metadata": {
    "execution": {
     "iopub.execute_input": "2022-05-19T06:32:16.673725Z",
     "iopub.status.busy": "2022-05-19T06:32:16.673459Z",
     "iopub.status.idle": "2022-05-19T06:32:16.677652Z",
     "shell.execute_reply": "2022-05-19T06:32:16.676891Z"
    },
    "papermill": {
     "duration": 0.037841,
     "end_time": "2022-05-19T06:32:16.679246",
     "exception": false,
     "start_time": "2022-05-19T06:32:16.641405",
     "status": "completed"
    },
    "tags": []
   },
   "outputs": [],
   "source": [
    "publication_date = datetime(1999, 11, 29)"
   ]
  },
  {
   "cell_type": "code",
   "execution_count": 42,
   "id": "1a2e7f9c",
   "metadata": {
    "execution": {
     "iopub.execute_input": "2022-05-19T06:32:16.723155Z",
     "iopub.status.busy": "2022-05-19T06:32:16.722883Z",
     "iopub.status.idle": "2022-05-19T06:32:18.153589Z",
     "shell.execute_reply": "2022-05-19T06:32:18.152923Z"
    },
    "papermill": {
     "duration": 1.455905,
     "end_time": "2022-05-19T06:32:18.156262",
     "exception": false,
     "start_time": "2022-05-19T06:32:16.700357",
     "status": "completed"
    },
    "tags": []
   },
   "outputs": [
    {
     "data": {
      "image/png": "[encoded data removed]",
      "text/plain": [
       "<Figure size 1008x288 with 2 Axes>"
      ]
     },
     "metadata": {
      "needs_background": "light"
     },
     "output_type": "display_data"
    }
   ],
   "source": [
    "fig, ax = plt.subplots(1, 2, figsize=(14, 4))\n",
    "levels.plot(ax=ax[0], logy=True);\n",
    "ax[0].set_title('Crack spreads mean-reversion (GP1999)')\n",
    "ax[0].set_ylabel('Cumulative returns');\n",
    "ax[0].axvline(publication_date, lw=1, ls='--', color='black')\n",
    "ax[0].text(publication_date, 100, 'Publication date ', ha='right')\n",
    "\n",
    "levels.loc[publication_date:].pipe(rebase).plot(ax=ax[1], logy=True);\n",
    "ax[1].set_title('Post publication');"
   ]
  },
  {
   "cell_type": "markdown",
   "id": "d187127a",
   "metadata": {
    "papermill": {
     "duration": 0.031513,
     "end_time": "2022-05-19T06:32:18.219564",
     "exception": false,
     "start_time": "2022-05-19T06:32:18.188051",
     "status": "completed"
    },
    "tags": []
   },
   "source": [
    "# Reference\n",
    "- Girma, P.B. and Paulson, A.S., 1999. Risk arbitrage opportunities in petroleum futures spreads. Journal of Futures Markets, 19(8), pp.931-955."
   ]
  },
  {
   "cell_type": "code",
   "execution_count": 43,
   "id": "69fe3c8e",
   "metadata": {
    "execution": {
     "iopub.execute_input": "2022-05-19T06:32:18.283832Z",
     "iopub.status.busy": "2022-05-19T06:32:18.283623Z",
     "iopub.status.idle": "2022-05-19T06:32:18.325792Z",
     "shell.execute_reply": "2022-05-19T06:32:18.325008Z"
    },
    "papermill": {
     "duration": 0.0769,
     "end_time": "2022-05-19T06:32:18.327989",
     "exception": false,
     "start_time": "2022-05-19T06:32:18.251089",
     "status": "completed"
    },
    "tags": []
   },
   "outputs": [
    {
     "name": "stdout",
     "output_type": "stream",
     "text": [
      "Updated: 19-May-2022 06:32\n"
     ]
    }
   ],
   "source": [
    "print(f'Updated: {datetime.utcnow():%d-%b-%Y %H:%M}')"
   ]
  }
 ],
 "metadata": {
  "kernelspec": {
   "display_name": "Python 3",
   "language": "python",
   "name": "python3"
  },
  "language_info": {
   "codemirror_mode": {
    "name": "ipython",
    "version": 3
   },
   "file_extension": ".py",
   "mimetype": "text/x-python",
   "name": "python",
   "nbconvert_exporter": "python",
   "pygments_lexer": "ipython3",
   "version": "3.9.6"
  },
  "papermill": {
   "default_parameters": {},
   "duration": 1267.561117,
   "end_time": "2022-05-19T06:32:21.082495",
   "environment_variables": {},
   "exception": null,
   "input_path": "notebooks/papermill/commodity_crack_spread_stat_arb.ipynb",
   "output_path": "notebooks/commodity_crack_spread_stat_arb.ipynb",
   "parameters": {},
   "start_time": "2022-05-19T06:11:13.521378",
   "version": "2.3.4"
  },
  "toc-autonumbering": true
 },
 "nbformat": 4,
 "nbformat_minor": 5
}