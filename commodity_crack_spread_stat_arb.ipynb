{
 "cells": [
  {
   "cell_type": "markdown",
   "id": "172ca5c5",
   "metadata": {
    "papermill": {
     "duration": 0.023982,
     "end_time": "2022-08-26T06:10:44.770002",
     "exception": false,
     "start_time": "2022-08-26T06:10:44.746020",
     "status": "completed"
    },
    "tags": []
   },
   "source": [
    "# Commodity crack spread statistical arbitrage\n",
    "\n",
    "In this notebook, the mean-rereversion strategy proposed in Girma and Paulson 1999 (henthforth GP1999) is investigated. It focuses on a various combination of the crude oil (WTI) crack spread. "
   ]
  },
  {
   "cell_type": "code",
   "execution_count": 1,
   "id": "7daa9dab",
   "metadata": {
    "execution": {
     "iopub.execute_input": "2022-08-26T06:10:44.808402Z",
     "iopub.status.busy": "2022-08-26T06:10:44.807970Z",
     "iopub.status.idle": "2022-08-26T06:10:47.899524Z",
     "shell.execute_reply": "2022-08-26T06:10:47.898731Z"
    },
    "papermill": {
     "duration": 3.111823,
     "end_time": "2022-08-26T06:10:47.902249",
     "exception": false,
     "start_time": "2022-08-26T06:10:44.790426",
     "status": "completed"
    },
    "tags": []
   },
   "outputs": [],
   "source": [
    "%matplotlib inline\n",
    "from datetime import datetime\n",
    "import logging\n",
    "import warnings\n",
    "warnings.simplefilter(action='ignore', category=FutureWarning)\n",
    "\n",
    "import pandas as pd\n",
    "import statsmodels.api as sm\n",
    "import matplotlib.pyplot as plt\n",
    "plt.style.use('bmh')\n",
    "\n",
    "from vivace.backtest import BacktestEngine, signal, InstrumentDef\n",
    "from vivace.backtest.analytics import rebase\n",
    "from vivace.backtest.contract import get_futures_curve_snapshot\n",
    "from vivace.backtest.enums import Strategy, Weighting, RollRule\n",
    "from vivace.backtest.stats import Performance"
   ]
  },
  {
   "cell_type": "markdown",
   "id": "68aa8ccf",
   "metadata": {
    "papermill": {
     "duration": 0.023426,
     "end_time": "2022-08-26T06:10:47.949028",
     "exception": false,
     "start_time": "2022-08-26T06:10:47.925602",
     "status": "completed"
    },
    "tags": []
   },
   "source": [
    "# Cointegration test\n",
    "\n",
    "GP1999 first checks if the crack spread is cointegrated. To do that, first let's see futures prices are non-stationary or not. As per usual, the generic price is populated by running a simple long-only backtest by rolling the front contract."
   ]
  },
  {
   "cell_type": "markdown",
   "id": "824e7302",
   "metadata": {
    "papermill": {
     "duration": 0.065755,
     "end_time": "2022-08-26T06:10:48.040248",
     "exception": false,
     "start_time": "2022-08-26T06:10:47.974493",
     "status": "completed"
    },
    "tags": []
   },
   "source": [
    "## ADF test\n",
    "\n",
    "The ADF test is done by the `adfuller` function in `statsmodels`. (cf. https://www.statsmodels.org/dev/generated/statsmodels.tsa.stattools.adfuller.html)"
   ]
  },
  {
   "cell_type": "code",
   "execution_count": 2,
   "id": "4eb3103c",
   "metadata": {
    "execution": {
     "iopub.execute_input": "2022-08-26T06:10:48.090018Z",
     "iopub.status.busy": "2022-08-26T06:10:48.089053Z",
     "iopub.status.idle": "2022-08-26T06:10:57.836819Z",
     "shell.execute_reply": "2022-08-26T06:10:57.836123Z"
    },
    "papermill": {
     "duration": 9.77505,
     "end_time": "2022-08-26T06:10:57.839264",
     "exception": false,
     "start_time": "2022-08-26T06:10:48.064214",
     "status": "completed"
    },
    "tags": []
   },
   "outputs": [],
   "source": [
    "cl_1st = BacktestEngine(instrument='CL', log_level=logging.WARN)\n",
    "cl_1st.run()"
   ]
  },
  {
   "cell_type": "code",
   "execution_count": 3,
   "id": "9910ecff",
   "metadata": {
    "execution": {
     "iopub.execute_input": "2022-08-26T06:10:57.883814Z",
     "iopub.status.busy": "2022-08-26T06:10:57.883366Z",
     "iopub.status.idle": "2022-08-26T06:11:08.253156Z",
     "shell.execute_reply": "2022-08-26T06:11:08.252192Z"
    },
    "papermill": {
     "duration": 10.392799,
     "end_time": "2022-08-26T06:11:08.255152",
     "exception": false,
     "start_time": "2022-08-26T06:10:57.862353",
     "status": "completed"
    },
    "tags": []
   },
   "outputs": [],
   "source": [
    "ho_1st = BacktestEngine(instrument='HO', log_level=logging.WARN)\n",
    "ho_1st.run()"
   ]
  },
  {
   "cell_type": "code",
   "execution_count": 4,
   "id": "32cec4c3",
   "metadata": {
    "execution": {
     "iopub.execute_input": "2022-08-26T06:11:08.292044Z",
     "iopub.status.busy": "2022-08-26T06:11:08.291436Z",
     "iopub.status.idle": "2022-08-26T06:11:17.107871Z",
     "shell.execute_reply": "2022-08-26T06:11:17.106900Z"
    },
    "papermill": {
     "duration": 8.838701,
     "end_time": "2022-08-26T06:11:17.110808",
     "exception": false,
     "start_time": "2022-08-26T06:11:08.272107",
     "status": "completed"
    },
    "tags": []
   },
   "outputs": [],
   "source": [
    "xb_1st = BacktestEngine(instrument='XB', log_level=logging.WARN)\n",
    "xb_1st.run()"
   ]
  },
  {
   "cell_type": "code",
   "execution_count": 5,
   "id": "a602ffe8",
   "metadata": {
    "execution": {
     "iopub.execute_input": "2022-08-26T06:11:17.159103Z",
     "iopub.status.busy": "2022-08-26T06:11:17.158664Z",
     "iopub.status.idle": "2022-08-26T06:11:36.901228Z",
     "shell.execute_reply": "2022-08-26T06:11:36.900381Z"
    },
    "papermill": {
     "duration": 19.76968,
     "end_time": "2022-08-26T06:11:36.903979",
     "exception": false,
     "start_time": "2022-08-26T06:11:17.134299",
     "status": "completed"
    },
    "tags": []
   },
   "outputs": [],
   "source": [
    "cl_price = cl_1st.get_generic_price().squeeze().fillna(method='pad').rename('Crude oil')\n",
    "ho_price = ho_1st.get_generic_price().squeeze().fillna(method='pad').rename('Heating oil')\n",
    "xb_price = xb_1st.get_generic_price().squeeze().fillna(method='pad').rename('Gasoline')"
   ]
  },
  {
   "cell_type": "code",
   "execution_count": 6,
   "id": "81a1c9be",
   "metadata": {
    "execution": {
     "iopub.execute_input": "2022-08-26T06:11:36.951402Z",
     "iopub.status.busy": "2022-08-26T06:11:36.950936Z",
     "iopub.status.idle": "2022-08-26T06:11:36.959691Z",
     "shell.execute_reply": "2022-08-26T06:11:36.958724Z"
    },
    "papermill": {
     "duration": 0.034772,
     "end_time": "2022-08-26T06:11:36.962067",
     "exception": false,
     "start_time": "2022-08-26T06:11:36.927295",
     "status": "completed"
    },
    "tags": []
   },
   "outputs": [],
   "source": [
    "def adf(ts: pd.Series, **kwargs) -> pd.Series:\n",
    "    \"\"\" Run the ADF test and return a cleaned result \"\"\"\n",
    "    adf_result = sm.tsa.stattools.adfuller(ts, **kwargs)\n",
    "    cleaned = {\n",
    "        'adf': adf_result[0],\n",
    "        'p_value': adf_result[1],\n",
    "        'used_lag': adf_result[2],\n",
    "        'n_obs': adf_result[3],\n",
    "        'ci_0.01': adf_result[4]['1%'],\n",
    "        'ci_0.05': adf_result[4]['5%'],\n",
    "        'ci_0.1': adf_result[4]['10%'],\n",
    "        'ic_best': adf_result[5],\n",
    "    }\n",
    "    return pd.Series(cleaned, name=ts.name)"
   ]
  },
  {
   "cell_type": "markdown",
   "id": "73a9df64",
   "metadata": {
    "papermill": {
     "duration": 0.022955,
     "end_time": "2022-08-26T06:11:37.007350",
     "exception": false,
     "start_time": "2022-08-26T06:11:36.984395",
     "status": "completed"
    },
    "tags": []
   },
   "source": [
    "GP1999 uses Schwarz's information criterion (i.e., BIC) to select the optimal number of lags included in the ADF test."
   ]
  },
  {
   "cell_type": "code",
   "execution_count": 7,
   "id": "b69649d6",
   "metadata": {
    "execution": {
     "iopub.execute_input": "2022-08-26T06:11:37.042902Z",
     "iopub.status.busy": "2022-08-26T06:11:37.042225Z",
     "iopub.status.idle": "2022-08-26T06:11:38.125928Z",
     "shell.execute_reply": "2022-08-26T06:11:38.124750Z"
    },
    "papermill": {
     "duration": 1.103341,
     "end_time": "2022-08-26T06:11:38.129679",
     "exception": false,
     "start_time": "2022-08-26T06:11:37.026338",
     "status": "completed"
    },
    "tags": []
   },
   "outputs": [],
   "source": [
    "adf_result = pd.concat((\n",
    "    adf(cl_price['1983-04':'1994-11'], autolag='BIC').to_frame().T,\n",
    "    adf(ho_price['1983-04':'1994-11'], autolag='BIC').to_frame().T,\n",
    "    adf(xb_price['1984-12':'1994-11'], autolag='BIC').to_frame().T,\n",
    "))"
   ]
  },
  {
   "cell_type": "markdown",
   "id": "1396f87e",
   "metadata": {
    "papermill": {
     "duration": 0.026657,
     "end_time": "2022-08-26T06:11:38.204718",
     "exception": false,
     "start_time": "2022-08-26T06:11:38.178061",
     "status": "completed"
    },
    "tags": []
   },
   "source": [
    "In the ADF test, $H_0$ is that the time-series is non-stationary. Based on this result below, $H_0$ cannot be rejected for crude oil, however is rejected for heating oil and gasoline at the 10% and 5% level respectively.\n",
    "\n",
    "This is interesting because usually almost always asset prices are non-stationary."
   ]
  },
  {
   "cell_type": "code",
   "execution_count": 8,
   "id": "3655e953",
   "metadata": {
    "execution": {
     "iopub.execute_input": "2022-08-26T06:11:38.238883Z",
     "iopub.status.busy": "2022-08-26T06:11:38.238212Z",
     "iopub.status.idle": "2022-08-26T06:11:38.253552Z",
     "shell.execute_reply": "2022-08-26T06:11:38.252776Z"
    },
    "papermill": {
     "duration": 0.03334,
     "end_time": "2022-08-26T06:11:38.255241",
     "exception": false,
     "start_time": "2022-08-26T06:11:38.221901",
     "status": "completed"
    },
    "tags": []
   },
   "outputs": [
    {
     "data": {
      "text/html": [
       "<div>\n",
       "<style scoped>\n",
       "    .dataframe tbody tr th:only-of-type {\n",
       "        vertical-align: middle;\n",
       "    }\n",
       "\n",
       "    .dataframe tbody tr th {\n",
       "        vertical-align: top;\n",
       "    }\n",
       "\n",
       "    .dataframe thead th {\n",
       "        text-align: right;\n",
       "    }\n",
       "</style>\n",
       "<table border=\"1\" class=\"dataframe\">\n",
       "  <thead>\n",
       "    <tr style=\"text-align: right;\">\n",
       "      <th></th>\n",
       "      <th>adf</th>\n",
       "      <th>p_value</th>\n",
       "      <th>used_lag</th>\n",
       "      <th>n_obs</th>\n",
       "      <th>ci_0.01</th>\n",
       "      <th>ci_0.05</th>\n",
       "      <th>ci_0.1</th>\n",
       "      <th>ic_best</th>\n",
       "    </tr>\n",
       "  </thead>\n",
       "  <tbody>\n",
       "    <tr>\n",
       "      <th>Crude oil</th>\n",
       "      <td>-2.185213</td>\n",
       "      <td>0.211656</td>\n",
       "      <td>8.0</td>\n",
       "      <td>2924.0</td>\n",
       "      <td>-3.432588</td>\n",
       "      <td>-2.862529</td>\n",
       "      <td>-2.567296</td>\n",
       "      <td>4195.186424</td>\n",
       "    </tr>\n",
       "    <tr>\n",
       "      <th>Heating oil</th>\n",
       "      <td>-2.743636</td>\n",
       "      <td>0.066787</td>\n",
       "      <td>3.0</td>\n",
       "      <td>2929.0</td>\n",
       "      <td>-3.432585</td>\n",
       "      <td>-2.862527</td>\n",
       "      <td>-2.567296</td>\n",
       "      <td>-15763.929006</td>\n",
       "    </tr>\n",
       "    <tr>\n",
       "      <th>Gasoline</th>\n",
       "      <td>-3.003758</td>\n",
       "      <td>0.034545</td>\n",
       "      <td>3.0</td>\n",
       "      <td>2510.0</td>\n",
       "      <td>-3.432958</td>\n",
       "      <td>-2.862692</td>\n",
       "      <td>-2.567383</td>\n",
       "      <td>-14006.551367</td>\n",
       "    </tr>\n",
       "  </tbody>\n",
       "</table>\n",
       "</div>"
      ],
      "text/plain": [
       "                  adf   p_value  used_lag   n_obs   ci_0.01   ci_0.05  \\\n",
       "Crude oil   -2.185213  0.211656       8.0  2924.0 -3.432588 -2.862529   \n",
       "Heating oil -2.743636  0.066787       3.0  2929.0 -3.432585 -2.862527   \n",
       "Gasoline    -3.003758  0.034545       3.0  2510.0 -3.432958 -2.862692   \n",
       "\n",
       "               ci_0.1       ic_best  \n",
       "Crude oil   -2.567296   4195.186424  \n",
       "Heating oil -2.567296 -15763.929006  \n",
       "Gasoline    -2.567383 -14006.551367  "
      ]
     },
     "execution_count": 8,
     "metadata": {},
     "output_type": "execute_result"
    }
   ],
   "source": [
    "adf_result"
   ]
  },
  {
   "cell_type": "markdown",
   "id": "cb465c0a",
   "metadata": {
    "papermill": {
     "duration": 0.015224,
     "end_time": "2022-08-26T06:11:38.286126",
     "exception": false,
     "start_time": "2022-08-26T06:11:38.270902",
     "status": "completed"
    },
    "tags": []
   },
   "source": [
    "Probably it is to do with the sampling period. It may look a stationary process especially after 1986, however clearly it is heteroskedastic and the price move in 1986 seems like a shift in the level."
   ]
  },
  {
   "cell_type": "code",
   "execution_count": 9,
   "id": "11339aae",
   "metadata": {
    "execution": {
     "iopub.execute_input": "2022-08-26T06:11:38.317718Z",
     "iopub.status.busy": "2022-08-26T06:11:38.317279Z",
     "iopub.status.idle": "2022-08-26T06:11:38.735272Z",
     "shell.execute_reply": "2022-08-26T06:11:38.734291Z"
    },
    "papermill": {
     "duration": 0.436212,
     "end_time": "2022-08-26T06:11:38.737245",
     "exception": false,
     "start_time": "2022-08-26T06:11:38.301033",
     "status": "completed"
    },
    "tags": []
   },
   "outputs": [
    {
     "data": {
      "image/png": "[encoded data removed]",
      "text/plain": [
       "<Figure size 576x360 with 2 Axes>"
      ]
     },
     "metadata": {
      "needs_background": "light"
     },
     "output_type": "display_data"
    }
   ],
   "source": [
    "fig, ax = plt.subplots(figsize=(8, 5))\n",
    "pd.concat((\n",
    "    cl_price['1983-04':'1994-11'],\n",
    "    ho_price['1983-04':'1994-11'],\n",
    "    xb_price['1984-12':'1994-11'],\n",
    "), axis=1).plot(secondary_y=['Heating oil', 'Gasoline'], ax=ax);\n",
    "ax.set_title('Futures prices (generic 1st)');"
   ]
  },
  {
   "cell_type": "markdown",
   "id": "47068957",
   "metadata": {
    "papermill": {
     "duration": 0.016338,
     "end_time": "2022-08-26T06:11:38.769469",
     "exception": false,
     "start_time": "2022-08-26T06:11:38.753131",
     "status": "completed"
    },
    "tags": []
   },
   "source": [
    "In fact, in the long-run $H_0$ cannot be rejected for all contracts based on both BIC and AIC."
   ]
  },
  {
   "cell_type": "code",
   "execution_count": 10,
   "id": "47dcef74",
   "metadata": {
    "execution": {
     "iopub.execute_input": "2022-08-26T06:11:38.803227Z",
     "iopub.status.busy": "2022-08-26T06:11:38.802596Z",
     "iopub.status.idle": "2022-08-26T06:11:42.480676Z",
     "shell.execute_reply": "2022-08-26T06:11:42.479848Z"
    },
    "papermill": {
     "duration": 3.697391,
     "end_time": "2022-08-26T06:11:42.482614",
     "exception": false,
     "start_time": "2022-08-26T06:11:38.785223",
     "status": "completed"
    },
    "tags": []
   },
   "outputs": [
    {
     "data": {
      "text/html": [
       "<div>\n",
       "<style scoped>\n",
       "    .dataframe tbody tr th:only-of-type {\n",
       "        vertical-align: middle;\n",
       "    }\n",
       "\n",
       "    .dataframe tbody tr th {\n",
       "        vertical-align: top;\n",
       "    }\n",
       "\n",
       "    .dataframe thead th {\n",
       "        text-align: right;\n",
       "    }\n",
       "</style>\n",
       "<table border=\"1\" class=\"dataframe\">\n",
       "  <thead>\n",
       "    <tr style=\"text-align: right;\">\n",
       "      <th></th>\n",
       "      <th>adf</th>\n",
       "      <th>p_value</th>\n",
       "      <th>used_lag</th>\n",
       "      <th>n_obs</th>\n",
       "      <th>ci_0.01</th>\n",
       "      <th>ci_0.05</th>\n",
       "      <th>ci_0.1</th>\n",
       "      <th>ic_best</th>\n",
       "    </tr>\n",
       "  </thead>\n",
       "  <tbody>\n",
       "    <tr>\n",
       "      <th>Crude oil</th>\n",
       "      <td>-1.610571</td>\n",
       "      <td>0.477676</td>\n",
       "      <td>1.0</td>\n",
       "      <td>9896.0</td>\n",
       "      <td>-3.431011</td>\n",
       "      <td>-2.861832</td>\n",
       "      <td>-2.566925</td>\n",
       "      <td>31052.799168</td>\n",
       "    </tr>\n",
       "    <tr>\n",
       "      <th>Heating oil</th>\n",
       "      <td>-0.690907</td>\n",
       "      <td>0.849091</td>\n",
       "      <td>6.0</td>\n",
       "      <td>9892.0</td>\n",
       "      <td>-3.431011</td>\n",
       "      <td>-2.861832</td>\n",
       "      <td>-2.566926</td>\n",
       "      <td>-37689.926920</td>\n",
       "    </tr>\n",
       "    <tr>\n",
       "      <th>Gasoline</th>\n",
       "      <td>-1.768049</td>\n",
       "      <td>0.396436</td>\n",
       "      <td>0.0</td>\n",
       "      <td>9478.0</td>\n",
       "      <td>-3.431040</td>\n",
       "      <td>-2.861845</td>\n",
       "      <td>-2.566932</td>\n",
       "      <td>-35840.981658</td>\n",
       "    </tr>\n",
       "  </tbody>\n",
       "</table>\n",
       "</div>"
      ],
      "text/plain": [
       "                  adf   p_value  used_lag   n_obs   ci_0.01   ci_0.05  \\\n",
       "Crude oil   -1.610571  0.477676       1.0  9896.0 -3.431011 -2.861832   \n",
       "Heating oil -0.690907  0.849091       6.0  9892.0 -3.431011 -2.861832   \n",
       "Gasoline    -1.768049  0.396436       0.0  9478.0 -3.431040 -2.861845   \n",
       "\n",
       "               ci_0.1       ic_best  \n",
       "Crude oil   -2.566925  31052.799168  \n",
       "Heating oil -2.566926 -37689.926920  \n",
       "Gasoline    -2.566932 -35840.981658  "
      ]
     },
     "execution_count": 10,
     "metadata": {},
     "output_type": "execute_result"
    }
   ],
   "source": [
    "pd.concat((\n",
    "    adf(cl_price['1983-04':], autolag='BIC').to_frame().T,\n",
    "    adf(ho_price['1983-04':], autolag='BIC').to_frame().T,\n",
    "    adf(xb_price['1984-12':], autolag='BIC').to_frame().T,\n",
    "))"
   ]
  },
  {
   "cell_type": "code",
   "execution_count": 11,
   "id": "6cda4738",
   "metadata": {
    "execution": {
     "iopub.execute_input": "2022-08-26T06:11:42.517572Z",
     "iopub.status.busy": "2022-08-26T06:11:42.517177Z",
     "iopub.status.idle": "2022-08-26T06:11:46.818567Z",
     "shell.execute_reply": "2022-08-26T06:11:46.817552Z"
    },
    "papermill": {
     "duration": 4.32338,
     "end_time": "2022-08-26T06:11:46.822085",
     "exception": false,
     "start_time": "2022-08-26T06:11:42.498705",
     "status": "completed"
    },
    "tags": []
   },
   "outputs": [
    {
     "data": {
      "text/html": [
       "<div>\n",
       "<style scoped>\n",
       "    .dataframe tbody tr th:only-of-type {\n",
       "        vertical-align: middle;\n",
       "    }\n",
       "\n",
       "    .dataframe tbody tr th {\n",
       "        vertical-align: top;\n",
       "    }\n",
       "\n",
       "    .dataframe thead th {\n",
       "        text-align: right;\n",
       "    }\n",
       "</style>\n",
       "<table border=\"1\" class=\"dataframe\">\n",
       "  <thead>\n",
       "    <tr style=\"text-align: right;\">\n",
       "      <th></th>\n",
       "      <th>adf</th>\n",
       "      <th>p_value</th>\n",
       "      <th>used_lag</th>\n",
       "      <th>n_obs</th>\n",
       "      <th>ci_0.01</th>\n",
       "      <th>ci_0.05</th>\n",
       "      <th>ci_0.1</th>\n",
       "      <th>ic_best</th>\n",
       "    </tr>\n",
       "  </thead>\n",
       "  <tbody>\n",
       "    <tr>\n",
       "      <th>Crude oil</th>\n",
       "      <td>-2.162564</td>\n",
       "      <td>0.220112</td>\n",
       "      <td>38.0</td>\n",
       "      <td>9859.0</td>\n",
       "      <td>-3.431013</td>\n",
       "      <td>-2.861833</td>\n",
       "      <td>-2.566926</td>\n",
       "      <td>30965.295657</td>\n",
       "    </tr>\n",
       "    <tr>\n",
       "      <th>Heating oil</th>\n",
       "      <td>-1.098008</td>\n",
       "      <td>0.715866</td>\n",
       "      <td>35.0</td>\n",
       "      <td>9863.0</td>\n",
       "      <td>-3.431013</td>\n",
       "      <td>-2.861833</td>\n",
       "      <td>-2.566926</td>\n",
       "      <td>-37879.114067</td>\n",
       "    </tr>\n",
       "    <tr>\n",
       "      <th>Gasoline</th>\n",
       "      <td>-2.184924</td>\n",
       "      <td>0.211763</td>\n",
       "      <td>20.0</td>\n",
       "      <td>9458.0</td>\n",
       "      <td>-3.431042</td>\n",
       "      <td>-2.861846</td>\n",
       "      <td>-2.566933</td>\n",
       "      <td>-35882.127935</td>\n",
       "    </tr>\n",
       "  </tbody>\n",
       "</table>\n",
       "</div>"
      ],
      "text/plain": [
       "                  adf   p_value  used_lag   n_obs   ci_0.01   ci_0.05  \\\n",
       "Crude oil   -2.162564  0.220112      38.0  9859.0 -3.431013 -2.861833   \n",
       "Heating oil -1.098008  0.715866      35.0  9863.0 -3.431013 -2.861833   \n",
       "Gasoline    -2.184924  0.211763      20.0  9458.0 -3.431042 -2.861846   \n",
       "\n",
       "               ci_0.1       ic_best  \n",
       "Crude oil   -2.566926  30965.295657  \n",
       "Heating oil -2.566926 -37879.114067  \n",
       "Gasoline    -2.566933 -35882.127935  "
      ]
     },
     "execution_count": 11,
     "metadata": {},
     "output_type": "execute_result"
    }
   ],
   "source": [
    "pd.concat((\n",
    "    adf(cl_price['1983-04':], autolag='AIC').to_frame().T,\n",
    "    adf(ho_price['1983-04':], autolag='AIC').to_frame().T,\n",
    "    adf(xb_price['1984-12':], autolag='AIC').to_frame().T,\n",
    "))"
   ]
  },
  {
   "cell_type": "markdown",
   "id": "eda29bdf",
   "metadata": {
    "papermill": {
     "duration": 0.016385,
     "end_time": "2022-08-26T06:11:46.872107",
     "exception": false,
     "start_time": "2022-08-26T06:11:46.855722",
     "status": "completed"
    },
    "tags": []
   },
   "source": [
    "Test for two unit roots shows the $H_0$ is rejected for all assets so it would be safe to assume prices are all $I(1)$ processes."
   ]
  },
  {
   "cell_type": "code",
   "execution_count": 12,
   "id": "5cc64e78",
   "metadata": {
    "execution": {
     "iopub.execute_input": "2022-08-26T06:11:46.907106Z",
     "iopub.status.busy": "2022-08-26T06:11:46.906371Z",
     "iopub.status.idle": "2022-08-26T06:11:47.734682Z",
     "shell.execute_reply": "2022-08-26T06:11:47.733489Z"
    },
    "papermill": {
     "duration": 0.848534,
     "end_time": "2022-08-26T06:11:47.737380",
     "exception": false,
     "start_time": "2022-08-26T06:11:46.888846",
     "status": "completed"
    },
    "tags": []
   },
   "outputs": [
    {
     "data": {
      "text/html": [
       "<div>\n",
       "<style scoped>\n",
       "    .dataframe tbody tr th:only-of-type {\n",
       "        vertical-align: middle;\n",
       "    }\n",
       "\n",
       "    .dataframe tbody tr th {\n",
       "        vertical-align: top;\n",
       "    }\n",
       "\n",
       "    .dataframe thead th {\n",
       "        text-align: right;\n",
       "    }\n",
       "</style>\n",
       "<table border=\"1\" class=\"dataframe\">\n",
       "  <thead>\n",
       "    <tr style=\"text-align: right;\">\n",
       "      <th></th>\n",
       "      <th>adf</th>\n",
       "      <th>p_value</th>\n",
       "      <th>used_lag</th>\n",
       "      <th>n_obs</th>\n",
       "      <th>ci_0.01</th>\n",
       "      <th>ci_0.05</th>\n",
       "      <th>ci_0.1</th>\n",
       "      <th>ic_best</th>\n",
       "    </tr>\n",
       "  </thead>\n",
       "  <tbody>\n",
       "    <tr>\n",
       "      <th>Crude oil</th>\n",
       "      <td>-22.609167</td>\n",
       "      <td>0.0</td>\n",
       "      <td>7.0</td>\n",
       "      <td>2924.0</td>\n",
       "      <td>-3.432588</td>\n",
       "      <td>-2.862529</td>\n",
       "      <td>-2.567296</td>\n",
       "      <td>4191.382386</td>\n",
       "    </tr>\n",
       "    <tr>\n",
       "      <th>Heating oil</th>\n",
       "      <td>-23.732562</td>\n",
       "      <td>0.0</td>\n",
       "      <td>7.0</td>\n",
       "      <td>2924.0</td>\n",
       "      <td>-3.432588</td>\n",
       "      <td>-2.862529</td>\n",
       "      <td>-2.567296</td>\n",
       "      <td>-15759.438574</td>\n",
       "    </tr>\n",
       "    <tr>\n",
       "      <th>Gasoline</th>\n",
       "      <td>-31.046797</td>\n",
       "      <td>0.0</td>\n",
       "      <td>2.0</td>\n",
       "      <td>2510.0</td>\n",
       "      <td>-3.432958</td>\n",
       "      <td>-2.862692</td>\n",
       "      <td>-2.567383</td>\n",
       "      <td>-13998.959272</td>\n",
       "    </tr>\n",
       "  </tbody>\n",
       "</table>\n",
       "</div>"
      ],
      "text/plain": [
       "                   adf  p_value  used_lag   n_obs   ci_0.01   ci_0.05  \\\n",
       "Crude oil   -22.609167      0.0       7.0  2924.0 -3.432588 -2.862529   \n",
       "Heating oil -23.732562      0.0       7.0  2924.0 -3.432588 -2.862529   \n",
       "Gasoline    -31.046797      0.0       2.0  2510.0 -3.432958 -2.862692   \n",
       "\n",
       "               ci_0.1       ic_best  \n",
       "Crude oil   -2.567296   4191.382386  \n",
       "Heating oil -2.567296 -15759.438574  \n",
       "Gasoline    -2.567383 -13998.959272  "
      ]
     },
     "execution_count": 12,
     "metadata": {},
     "output_type": "execute_result"
    }
   ],
   "source": [
    "pd.concat((\n",
    "    adf(cl_price['1983-04':'1994-11'].diff().dropna(), autolag='BIC').to_frame().T,\n",
    "    adf(ho_price['1983-04':'1994-11'].diff().dropna(), autolag='BIC').to_frame().T,\n",
    "    adf(xb_price['1984-12':'1994-11'].diff().dropna(), autolag='BIC').to_frame().T,\n",
    "))"
   ]
  },
  {
   "cell_type": "markdown",
   "id": "5443698a",
   "metadata": {
    "papermill": {
     "duration": 0.018513,
     "end_time": "2022-08-26T06:11:47.779094",
     "exception": false,
     "start_time": "2022-08-26T06:11:47.760581",
     "status": "completed"
    },
    "tags": []
   },
   "source": [
    "## Engle-Granger test\n",
    "\n",
    "Next, let's check if the crack spread is cointegrated. The cointegration vector is estimated by OLS and the stationarity of the residual is tested with the ADF test.\n",
    "The test is done by the `coint` function in `statsmodels`. (cf. https://www.statsmodels.org/dev/generated/statsmodels.tsa.stattools.coint.html)"
   ]
  },
  {
   "cell_type": "code",
   "execution_count": 13,
   "id": "15663029",
   "metadata": {
    "execution": {
     "iopub.execute_input": "2022-08-26T06:11:47.826181Z",
     "iopub.status.busy": "2022-08-26T06:11:47.825780Z",
     "iopub.status.idle": "2022-08-26T06:11:47.840162Z",
     "shell.execute_reply": "2022-08-26T06:11:47.839260Z"
    },
    "papermill": {
     "duration": 0.040844,
     "end_time": "2022-08-26T06:11:47.842683",
     "exception": false,
     "start_time": "2022-08-26T06:11:47.801839",
     "status": "completed"
    },
    "tags": []
   },
   "outputs": [],
   "source": [
    "price_concat = pd.concat((\n",
    "    cl_price,\n",
    "    ho_price,\n",
    "    xb_price,\n",
    "), axis=1).fillna(method='pad').dropna()"
   ]
  },
  {
   "cell_type": "code",
   "execution_count": 14,
   "id": "cf731a5e",
   "metadata": {
    "execution": {
     "iopub.execute_input": "2022-08-26T06:11:47.883779Z",
     "iopub.status.busy": "2022-08-26T06:11:47.883330Z",
     "iopub.status.idle": "2022-08-26T06:11:47.890525Z",
     "shell.execute_reply": "2022-08-26T06:11:47.889745Z"
    },
    "papermill": {
     "duration": 0.03213,
     "end_time": "2022-08-26T06:11:47.892815",
     "exception": false,
     "start_time": "2022-08-26T06:11:47.860685",
     "status": "completed"
    },
    "tags": []
   },
   "outputs": [],
   "source": [
    "def coint(y: pd.Series, x: pd.DataFrame) -> pd.Series:\n",
    "    \"\"\" Run the cointegration test and return a cleaned result \"\"\"\n",
    "    result = sm.tsa.stattools.coint(y, x)\n",
    "    cleaned = {\n",
    "        't_value': result[0],\n",
    "        'p_value': result[1],\n",
    "        'ci_0.01': result[2][0],\n",
    "        'ci_0.05': result[2][1],\n",
    "        'ci_0.1': result[2][2],\n",
    "    }\n",
    "    return pd.Series(cleaned)"
   ]
  },
  {
   "cell_type": "code",
   "execution_count": 15,
   "id": "4299196b",
   "metadata": {
    "execution": {
     "iopub.execute_input": "2022-08-26T06:11:47.941552Z",
     "iopub.status.busy": "2022-08-26T06:11:47.940735Z",
     "iopub.status.idle": "2022-08-26T06:11:49.502959Z",
     "shell.execute_reply": "2022-08-26T06:11:49.501179Z"
    },
    "papermill": {
     "duration": 1.590478,
     "end_time": "2022-08-26T06:11:49.506369",
     "exception": false,
     "start_time": "2022-08-26T06:11:47.915891",
     "status": "completed"
    },
    "tags": []
   },
   "outputs": [],
   "source": [
    "coint_result = pd.concat((\n",
    "    coint(\n",
    "        price_concat.loc[:'1994-11', 'Crude oil'],\n",
    "        price_concat.loc[:'1994-11', ['Heating oil', 'Gasoline']]\n",
    "    ).to_frame('CL vs HO + XB').T,\n",
    "    coint(\n",
    "        price_concat.loc[:'1994-11', 'Crude oil'],\n",
    "        price_concat.loc[:'1994-11', ['Gasoline']]\n",
    "    ).to_frame('CL vs XB').T,\n",
    "    coint(\n",
    "        price_concat.loc[:'1994-11', 'Crude oil'],\n",
    "        price_concat.loc[:'1994-11', ['Heating oil']]\n",
    "    ).to_frame('CL vs HO').T,\n",
    "))"
   ]
  },
  {
   "cell_type": "markdown",
   "id": "ea294ded",
   "metadata": {
    "papermill": {
     "duration": 0.028167,
     "end_time": "2022-08-26T06:11:49.577769",
     "exception": false,
     "start_time": "2022-08-26T06:11:49.549602",
     "status": "completed"
    },
    "tags": []
   },
   "source": [
    "The $H_0$ is that there is no cointegration. As per GP1999, all three crack spreads are cointegrated. "
   ]
  },
  {
   "cell_type": "code",
   "execution_count": 16,
   "id": "1824345d",
   "metadata": {
    "execution": {
     "iopub.execute_input": "2022-08-26T06:11:49.638266Z",
     "iopub.status.busy": "2022-08-26T06:11:49.637512Z",
     "iopub.status.idle": "2022-08-26T06:11:49.648621Z",
     "shell.execute_reply": "2022-08-26T06:11:49.647764Z"
    },
    "papermill": {
     "duration": 0.056389,
     "end_time": "2022-08-26T06:11:49.650850",
     "exception": false,
     "start_time": "2022-08-26T06:11:49.594461",
     "status": "completed"
    },
    "tags": []
   },
   "outputs": [
    {
     "data": {
      "text/html": [
       "<div>\n",
       "<style scoped>\n",
       "    .dataframe tbody tr th:only-of-type {\n",
       "        vertical-align: middle;\n",
       "    }\n",
       "\n",
       "    .dataframe tbody tr th {\n",
       "        vertical-align: top;\n",
       "    }\n",
       "\n",
       "    .dataframe thead th {\n",
       "        text-align: right;\n",
       "    }\n",
       "</style>\n",
       "<table border=\"1\" class=\"dataframe\">\n",
       "  <thead>\n",
       "    <tr style=\"text-align: right;\">\n",
       "      <th></th>\n",
       "      <th>t_value</th>\n",
       "      <th>p_value</th>\n",
       "      <th>ci_0.01</th>\n",
       "      <th>ci_0.05</th>\n",
       "      <th>ci_0.1</th>\n",
       "    </tr>\n",
       "  </thead>\n",
       "  <tbody>\n",
       "    <tr>\n",
       "      <th>CL vs HO + XB</th>\n",
       "      <td>-6.110715</td>\n",
       "      <td>0.000005</td>\n",
       "      <td>-4.299485</td>\n",
       "      <td>-3.744067</td>\n",
       "      <td>-3.454651</td>\n",
       "    </tr>\n",
       "    <tr>\n",
       "      <th>CL vs XB</th>\n",
       "      <td>-5.762029</td>\n",
       "      <td>0.000005</td>\n",
       "      <td>-3.900800</td>\n",
       "      <td>-3.338561</td>\n",
       "      <td>-3.046137</td>\n",
       "    </tr>\n",
       "    <tr>\n",
       "      <th>CL vs HO</th>\n",
       "      <td>-5.708354</td>\n",
       "      <td>0.000007</td>\n",
       "      <td>-3.900800</td>\n",
       "      <td>-3.338561</td>\n",
       "      <td>-3.046137</td>\n",
       "    </tr>\n",
       "  </tbody>\n",
       "</table>\n",
       "</div>"
      ],
      "text/plain": [
       "                t_value   p_value   ci_0.01   ci_0.05    ci_0.1\n",
       "CL vs HO + XB -6.110715  0.000005 -4.299485 -3.744067 -3.454651\n",
       "CL vs XB      -5.762029  0.000005 -3.900800 -3.338561 -3.046137\n",
       "CL vs HO      -5.708354  0.000007 -3.900800 -3.338561 -3.046137"
      ]
     },
     "execution_count": 16,
     "metadata": {},
     "output_type": "execute_result"
    }
   ],
   "source": [
    "coint_result"
   ]
  },
  {
   "cell_type": "markdown",
   "id": "2f816c06",
   "metadata": {
    "papermill": {
     "duration": 0.023843,
     "end_time": "2022-08-26T06:11:49.698699",
     "exception": false,
     "start_time": "2022-08-26T06:11:49.674856",
     "status": "completed"
    },
    "tags": []
   },
   "source": [
    "This seems to hold with the full sample."
   ]
  },
  {
   "cell_type": "code",
   "execution_count": 17,
   "id": "467771dc",
   "metadata": {
    "execution": {
     "iopub.execute_input": "2022-08-26T06:11:49.746342Z",
     "iopub.status.busy": "2022-08-26T06:11:49.745946Z",
     "iopub.status.idle": "2022-08-26T06:11:54.392023Z",
     "shell.execute_reply": "2022-08-26T06:11:54.389865Z"
    },
    "papermill": {
     "duration": 4.672021,
     "end_time": "2022-08-26T06:11:54.394522",
     "exception": false,
     "start_time": "2022-08-26T06:11:49.722501",
     "status": "completed"
    },
    "tags": []
   },
   "outputs": [
    {
     "data": {
      "text/html": [
       "<div>\n",
       "<style scoped>\n",
       "    .dataframe tbody tr th:only-of-type {\n",
       "        vertical-align: middle;\n",
       "    }\n",
       "\n",
       "    .dataframe tbody tr th {\n",
       "        vertical-align: top;\n",
       "    }\n",
       "\n",
       "    .dataframe thead th {\n",
       "        text-align: right;\n",
       "    }\n",
       "</style>\n",
       "<table border=\"1\" class=\"dataframe\">\n",
       "  <thead>\n",
       "    <tr style=\"text-align: right;\">\n",
       "      <th></th>\n",
       "      <th>t_value</th>\n",
       "      <th>p_value</th>\n",
       "      <th>ci_0.01</th>\n",
       "      <th>ci_0.05</th>\n",
       "      <th>ci_0.1</th>\n",
       "    </tr>\n",
       "  </thead>\n",
       "  <tbody>\n",
       "    <tr>\n",
       "      <th>CL vs HO + XB</th>\n",
       "      <td>-3.944725</td>\n",
       "      <td>2.884557e-02</td>\n",
       "      <td>-4.295263</td>\n",
       "      <td>-3.741563</td>\n",
       "      <td>-3.452835</td>\n",
       "    </tr>\n",
       "    <tr>\n",
       "      <th>CL vs XB</th>\n",
       "      <td>-6.781569</td>\n",
       "      <td>2.813195e-08</td>\n",
       "      <td>-3.897596</td>\n",
       "      <td>-3.336775</td>\n",
       "      <td>-3.044897</td>\n",
       "    </tr>\n",
       "    <tr>\n",
       "      <th>CL vs HO</th>\n",
       "      <td>-2.953574</td>\n",
       "      <td>1.216575e-01</td>\n",
       "      <td>-3.897596</td>\n",
       "      <td>-3.336775</td>\n",
       "      <td>-3.044897</td>\n",
       "    </tr>\n",
       "  </tbody>\n",
       "</table>\n",
       "</div>"
      ],
      "text/plain": [
       "                t_value       p_value   ci_0.01   ci_0.05    ci_0.1\n",
       "CL vs HO + XB -3.944725  2.884557e-02 -4.295263 -3.741563 -3.452835\n",
       "CL vs XB      -6.781569  2.813195e-08 -3.897596 -3.336775 -3.044897\n",
       "CL vs HO      -2.953574  1.216575e-01 -3.897596 -3.336775 -3.044897"
      ]
     },
     "execution_count": 17,
     "metadata": {},
     "output_type": "execute_result"
    }
   ],
   "source": [
    "pd.concat((\n",
    "    coint(\n",
    "        price_concat.loc[:, 'Crude oil'],\n",
    "        price_concat.loc[:, ['Heating oil', 'Gasoline']]\n",
    "    ).to_frame('CL vs HO + XB').T,\n",
    "    coint(\n",
    "        price_concat.loc[:, 'Crude oil'],\n",
    "        price_concat.loc[:, ['Gasoline']]\n",
    "    ).to_frame('CL vs XB').T,\n",
    "    coint(\n",
    "        price_concat.loc[:, 'Crude oil'],\n",
    "        price_concat.loc[:, ['Heating oil']]\n",
    "    ).to_frame('CL vs HO').T,\n",
    "))"
   ]
  },
  {
   "cell_type": "markdown",
   "id": "9107b072",
   "metadata": {
    "papermill": {
     "duration": 0.019112,
     "end_time": "2022-08-26T06:11:54.433156",
     "exception": false,
     "start_time": "2022-08-26T06:11:54.414044",
     "status": "completed"
    },
    "tags": []
   },
   "source": [
    "However the confidence level is somewhat weakend with recent data although they are at least still cointegrated at the 5% level."
   ]
  },
  {
   "cell_type": "code",
   "execution_count": 18,
   "id": "3898183b",
   "metadata": {
    "execution": {
     "iopub.execute_input": "2022-08-26T06:11:54.470285Z",
     "iopub.status.busy": "2022-08-26T06:11:54.469908Z",
     "iopub.status.idle": "2022-08-26T06:11:56.055623Z",
     "shell.execute_reply": "2022-08-26T06:11:56.054689Z"
    },
    "papermill": {
     "duration": 1.607842,
     "end_time": "2022-08-26T06:11:56.058711",
     "exception": false,
     "start_time": "2022-08-26T06:11:54.450869",
     "status": "completed"
    },
    "tags": []
   },
   "outputs": [
    {
     "data": {
      "text/html": [
       "<div>\n",
       "<style scoped>\n",
       "    .dataframe tbody tr th:only-of-type {\n",
       "        vertical-align: middle;\n",
       "    }\n",
       "\n",
       "    .dataframe tbody tr th {\n",
       "        vertical-align: top;\n",
       "    }\n",
       "\n",
       "    .dataframe thead th {\n",
       "        text-align: right;\n",
       "    }\n",
       "</style>\n",
       "<table border=\"1\" class=\"dataframe\">\n",
       "  <thead>\n",
       "    <tr style=\"text-align: right;\">\n",
       "      <th></th>\n",
       "      <th>t_value</th>\n",
       "      <th>p_value</th>\n",
       "      <th>ci_0.01</th>\n",
       "      <th>ci_0.05</th>\n",
       "      <th>ci_0.1</th>\n",
       "    </tr>\n",
       "  </thead>\n",
       "  <tbody>\n",
       "    <tr>\n",
       "      <th>CL vs HO + XB</th>\n",
       "      <td>-3.331187</td>\n",
       "      <td>0.129701</td>\n",
       "      <td>-4.298274</td>\n",
       "      <td>-3.743349</td>\n",
       "      <td>-3.454131</td>\n",
       "    </tr>\n",
       "    <tr>\n",
       "      <th>CL vs XB</th>\n",
       "      <td>-4.554502</td>\n",
       "      <td>0.000995</td>\n",
       "      <td>-3.899881</td>\n",
       "      <td>-3.338048</td>\n",
       "      <td>-3.045781</td>\n",
       "    </tr>\n",
       "    <tr>\n",
       "      <th>CL vs HO</th>\n",
       "      <td>-2.093356</td>\n",
       "      <td>0.479841</td>\n",
       "      <td>-3.899881</td>\n",
       "      <td>-3.338048</td>\n",
       "      <td>-3.045781</td>\n",
       "    </tr>\n",
       "  </tbody>\n",
       "</table>\n",
       "</div>"
      ],
      "text/plain": [
       "                t_value   p_value   ci_0.01   ci_0.05    ci_0.1\n",
       "CL vs HO + XB -3.331187  0.129701 -4.298274 -3.743349 -3.454131\n",
       "CL vs XB      -4.554502  0.000995 -3.899881 -3.338048 -3.045781\n",
       "CL vs HO      -2.093356  0.479841 -3.899881 -3.338048 -3.045781"
      ]
     },
     "execution_count": 18,
     "metadata": {},
     "output_type": "execute_result"
    }
   ],
   "source": [
    "pd.concat((\n",
    "    coint(\n",
    "        price_concat.loc['2010':, 'Crude oil'],\n",
    "        price_concat.loc['2010':, ['Heating oil', 'Gasoline']]\n",
    "    ).to_frame('CL vs HO + XB').T,\n",
    "    coint(\n",
    "        price_concat.loc['2010':, 'Crude oil'],\n",
    "        price_concat.loc['2010':, ['Gasoline']]\n",
    "    ).to_frame('CL vs XB').T,\n",
    "    coint(\n",
    "        price_concat.loc['2010':, 'Crude oil'],\n",
    "        price_concat.loc['2010':, ['Heating oil']]\n",
    "    ).to_frame('CL vs HO').T,\n",
    "))"
   ]
  },
  {
   "cell_type": "markdown",
   "id": "f22325d0",
   "metadata": {
    "papermill": {
     "duration": 0.026519,
     "end_time": "2022-08-26T06:11:56.114076",
     "exception": false,
     "start_time": "2022-08-26T06:11:56.087557",
     "status": "completed"
    },
    "tags": []
   },
   "source": [
    "## Crack spreads\n",
    "\n",
    "Additionally, GP1999 tests the stationarity of the popularly traded crack spread -- 3:2:1 crack spread (CS), 1:1:0 gasoline crack spread (GCS) and 1:0:1 heating oil crack spread (HOCS).\n",
    "\n",
    "Note that the crude oil contract is priced in barrels while the other two are priced in gallon, and there are 42 gallons per 1 barrel. Some unit conversions are required to calculate such spreads."
   ]
  },
  {
   "cell_type": "code",
   "execution_count": 19,
   "id": "015bb3e9",
   "metadata": {
    "execution": {
     "iopub.execute_input": "2022-08-26T06:11:56.149051Z",
     "iopub.status.busy": "2022-08-26T06:11:56.148769Z",
     "iopub.status.idle": "2022-08-26T06:11:56.156545Z",
     "shell.execute_reply": "2022-08-26T06:11:56.155830Z"
    },
    "papermill": {
     "duration": 0.027997,
     "end_time": "2022-08-26T06:11:56.158861",
     "exception": false,
     "start_time": "2022-08-26T06:11:56.130864",
     "status": "completed"
    },
    "tags": []
   },
   "outputs": [],
   "source": [
    "cs = (price_concat['Heating oil'].mul(42).mul(2 / 3) + \n",
    "      price_concat['Gasoline'].mul(42).mul(1 / 3) - \n",
    "      price_concat['Crude oil'])\n",
    "gcs = (price_concat['Gasoline'].mul(42) - \n",
    "       price_concat['Crude oil'])\n",
    "hocs = (price_concat['Heating oil'].mul(42) - \n",
    "        price_concat['Crude oil'])"
   ]
  },
  {
   "cell_type": "markdown",
   "id": "6608463f",
   "metadata": {
    "papermill": {
     "duration": 0.025127,
     "end_time": "2022-08-26T06:11:56.209240",
     "exception": false,
     "start_time": "2022-08-26T06:11:56.184113",
     "status": "completed"
    },
    "tags": []
   },
   "source": [
    "As can be seen visually below, these spreads appear stationary until around 2000 after which they started to drift away from a certain level. This could be related to the financialisation of commodities. There are some evidence suggesting that index investments and speculative trades influence the commodity markets. (cf https://www.ecb.europa.eu/pub/financial-stability/fsr/focus/2011/pdf/ecb~6fdfdfce1c.fsrbox201112_04.pdf)"
   ]
  },
  {
   "cell_type": "code",
   "execution_count": 20,
   "id": "0b27db24",
   "metadata": {
    "execution": {
     "iopub.execute_input": "2022-08-26T06:11:56.261837Z",
     "iopub.status.busy": "2022-08-26T06:11:56.261262Z",
     "iopub.status.idle": "2022-08-26T06:11:56.980551Z",
     "shell.execute_reply": "2022-08-26T06:11:56.979554Z"
    },
    "papermill": {
     "duration": 0.748525,
     "end_time": "2022-08-26T06:11:56.983133",
     "exception": false,
     "start_time": "2022-08-26T06:11:56.234608",
     "status": "completed"
    },
    "tags": []
   },
   "outputs": [
    {
     "data": {
      "image/png": "[encoded data removed]",
      "text/plain": [
       "<Figure size 864x288 with 3 Axes>"
      ]
     },
     "metadata": {
      "needs_background": "light"
     },
     "output_type": "display_data"
    }
   ],
   "source": [
    "fig, ax = plt.subplots(1, 3, figsize=(12, 4), sharey=True)\n",
    "cs.plot(ax=ax[0])\n",
    "gcs.plot(ax=ax[1])\n",
    "hocs.plot(ax=ax[2])\n",
    "\n",
    "ax[0].set_title('3:2:1 crack spread')\n",
    "ax[1].set_title('1:1:0 gasoline crack spread')\n",
    "ax[2].set_title('1:0:1 heating oil crack spread')\n",
    "ax[0].set_ylabel('Crack spread ($)')\n",
    "\n",
    "fig.tight_layout();"
   ]
  },
  {
   "cell_type": "markdown",
   "id": "ddba6b40",
   "metadata": {
    "papermill": {
     "duration": 0.026345,
     "end_time": "2022-08-26T06:11:57.036613",
     "exception": false,
     "start_time": "2022-08-26T06:11:57.010268",
     "status": "completed"
    },
    "tags": []
   },
   "source": [
    "More formally, the ADF tests below show that they were stationary until Nov-1994."
   ]
  },
  {
   "cell_type": "code",
   "execution_count": 21,
   "id": "bd58dd0b",
   "metadata": {
    "execution": {
     "iopub.execute_input": "2022-08-26T06:11:57.090780Z",
     "iopub.status.busy": "2022-08-26T06:11:57.090311Z",
     "iopub.status.idle": "2022-08-26T06:11:57.660228Z",
     "shell.execute_reply": "2022-08-26T06:11:57.659203Z"
    },
    "papermill": {
     "duration": 0.600493,
     "end_time": "2022-08-26T06:11:57.663297",
     "exception": false,
     "start_time": "2022-08-26T06:11:57.062804",
     "status": "completed"
    },
    "tags": []
   },
   "outputs": [
    {
     "data": {
      "text/html": [
       "<div>\n",
       "<style scoped>\n",
       "    .dataframe tbody tr th:only-of-type {\n",
       "        vertical-align: middle;\n",
       "    }\n",
       "\n",
       "    .dataframe tbody tr th {\n",
       "        vertical-align: top;\n",
       "    }\n",
       "\n",
       "    .dataframe thead th {\n",
       "        text-align: right;\n",
       "    }\n",
       "</style>\n",
       "<table border=\"1\" class=\"dataframe\">\n",
       "  <thead>\n",
       "    <tr style=\"text-align: right;\">\n",
       "      <th></th>\n",
       "      <th>adf</th>\n",
       "      <th>p_value</th>\n",
       "      <th>used_lag</th>\n",
       "      <th>n_obs</th>\n",
       "      <th>ci_0.01</th>\n",
       "      <th>ci_0.05</th>\n",
       "      <th>ci_0.1</th>\n",
       "      <th>ic_best</th>\n",
       "    </tr>\n",
       "  </thead>\n",
       "  <tbody>\n",
       "    <tr>\n",
       "      <th>0</th>\n",
       "      <td>-7.926287</td>\n",
       "      <td>3.611421e-12</td>\n",
       "      <td>0.0</td>\n",
       "      <td>2515.0</td>\n",
       "      <td>-3.432953</td>\n",
       "      <td>-2.86269</td>\n",
       "      <td>-2.567382</td>\n",
       "      <td>1757.165999</td>\n",
       "    </tr>\n",
       "    <tr>\n",
       "      <th>0</th>\n",
       "      <td>-5.640046</td>\n",
       "      <td>1.041538e-06</td>\n",
       "      <td>1.0</td>\n",
       "      <td>2514.0</td>\n",
       "      <td>-3.432954</td>\n",
       "      <td>-2.86269</td>\n",
       "      <td>-2.567382</td>\n",
       "      <td>2505.871051</td>\n",
       "    </tr>\n",
       "    <tr>\n",
       "      <th>0</th>\n",
       "      <td>-6.999952</td>\n",
       "      <td>7.365777e-10</td>\n",
       "      <td>0.0</td>\n",
       "      <td>2515.0</td>\n",
       "      <td>-3.432953</td>\n",
       "      <td>-2.86269</td>\n",
       "      <td>-2.567382</td>\n",
       "      <td>2815.457971</td>\n",
       "    </tr>\n",
       "  </tbody>\n",
       "</table>\n",
       "</div>"
      ],
      "text/plain": [
       "        adf       p_value  used_lag   n_obs   ci_0.01  ci_0.05    ci_0.1  \\\n",
       "0 -7.926287  3.611421e-12       0.0  2515.0 -3.432953 -2.86269 -2.567382   \n",
       "0 -5.640046  1.041538e-06       1.0  2514.0 -3.432954 -2.86269 -2.567382   \n",
       "0 -6.999952  7.365777e-10       0.0  2515.0 -3.432953 -2.86269 -2.567382   \n",
       "\n",
       "       ic_best  \n",
       "0  1757.165999  \n",
       "0  2505.871051  \n",
       "0  2815.457971  "
      ]
     },
     "execution_count": 21,
     "metadata": {},
     "output_type": "execute_result"
    }
   ],
   "source": [
    "pd.concat((\n",
    "    adf(cs[:'1994-11'], autolag='BIC').to_frame().T,\n",
    "    adf(gcs[:'1994-11'], autolag='BIC').to_frame().T,\n",
    "    adf(hocs[:'1994-11'], autolag='BIC').to_frame().T,\n",
    "))"
   ]
  },
  {
   "cell_type": "markdown",
   "id": "6e2c8692",
   "metadata": {
    "papermill": {
     "duration": 0.017574,
     "end_time": "2022-08-26T06:11:57.721793",
     "exception": false,
     "start_time": "2022-08-26T06:11:57.704219",
     "status": "completed"
    },
    "tags": []
   },
   "source": [
    "Statistically though these spreads are still stationary at the 1% confidence level even after 2000."
   ]
  },
  {
   "cell_type": "code",
   "execution_count": 22,
   "id": "d3f9d7a9",
   "metadata": {
    "execution": {
     "iopub.execute_input": "2022-08-26T06:11:57.758488Z",
     "iopub.status.busy": "2022-08-26T06:11:57.758042Z",
     "iopub.status.idle": "2022-08-26T06:11:59.670654Z",
     "shell.execute_reply": "2022-08-26T06:11:59.669747Z"
    },
    "papermill": {
     "duration": 1.933964,
     "end_time": "2022-08-26T06:11:59.673123",
     "exception": false,
     "start_time": "2022-08-26T06:11:57.739159",
     "status": "completed"
    },
    "tags": []
   },
   "outputs": [
    {
     "data": {
      "text/html": [
       "<div>\n",
       "<style scoped>\n",
       "    .dataframe tbody tr th:only-of-type {\n",
       "        vertical-align: middle;\n",
       "    }\n",
       "\n",
       "    .dataframe tbody tr th {\n",
       "        vertical-align: top;\n",
       "    }\n",
       "\n",
       "    .dataframe thead th {\n",
       "        text-align: right;\n",
       "    }\n",
       "</style>\n",
       "<table border=\"1\" class=\"dataframe\">\n",
       "  <thead>\n",
       "    <tr style=\"text-align: right;\">\n",
       "      <th></th>\n",
       "      <th>adf</th>\n",
       "      <th>p_value</th>\n",
       "      <th>used_lag</th>\n",
       "      <th>n_obs</th>\n",
       "      <th>ci_0.01</th>\n",
       "      <th>ci_0.05</th>\n",
       "      <th>ci_0.1</th>\n",
       "      <th>ic_best</th>\n",
       "    </tr>\n",
       "  </thead>\n",
       "  <tbody>\n",
       "    <tr>\n",
       "      <th>0</th>\n",
       "      <td>-1.609762</td>\n",
       "      <td>0.478688</td>\n",
       "      <td>8.0</td>\n",
       "      <td>5680.0</td>\n",
       "      <td>-3.431502</td>\n",
       "      <td>-2.862049</td>\n",
       "      <td>-2.567041</td>\n",
       "      <td>16218.644744</td>\n",
       "    </tr>\n",
       "    <tr>\n",
       "      <th>0</th>\n",
       "      <td>-5.119876</td>\n",
       "      <td>0.000013</td>\n",
       "      <td>0.0</td>\n",
       "      <td>5688.0</td>\n",
       "      <td>-3.431500</td>\n",
       "      <td>-2.862048</td>\n",
       "      <td>-2.567041</td>\n",
       "      <td>18358.593724</td>\n",
       "    </tr>\n",
       "    <tr>\n",
       "      <th>0</th>\n",
       "      <td>-1.376165</td>\n",
       "      <td>0.593648</td>\n",
       "      <td>8.0</td>\n",
       "      <td>5680.0</td>\n",
       "      <td>-3.431502</td>\n",
       "      <td>-2.862049</td>\n",
       "      <td>-2.567041</td>\n",
       "      <td>18212.588034</td>\n",
       "    </tr>\n",
       "  </tbody>\n",
       "</table>\n",
       "</div>"
      ],
      "text/plain": [
       "        adf   p_value  used_lag   n_obs   ci_0.01   ci_0.05    ci_0.1  \\\n",
       "0 -1.609762  0.478688       8.0  5680.0 -3.431502 -2.862049 -2.567041   \n",
       "0 -5.119876  0.000013       0.0  5688.0 -3.431500 -2.862048 -2.567041   \n",
       "0 -1.376165  0.593648       8.0  5680.0 -3.431502 -2.862049 -2.567041   \n",
       "\n",
       "        ic_best  \n",
       "0  16218.644744  \n",
       "0  18358.593724  \n",
       "0  18212.588034  "
      ]
     },
     "execution_count": 22,
     "metadata": {},
     "output_type": "execute_result"
    }
   ],
   "source": [
    "pd.concat((\n",
    "    adf(cs['2000':], autolag='BIC').to_frame().T,\n",
    "    adf(gcs['2000':], autolag='BIC').to_frame().T,\n",
    "    adf(hocs['2000':], autolag='BIC').to_frame().T,\n",
    "))"
   ]
  },
  {
   "cell_type": "markdown",
   "id": "eb6c197c",
   "metadata": {
    "papermill": {
     "duration": 0.028401,
     "end_time": "2022-08-26T06:11:59.728363",
     "exception": false,
     "start_time": "2022-08-26T06:11:59.699962",
     "status": "completed"
    },
    "tags": []
   },
   "source": [
    "# Backtest"
   ]
  },
  {
   "cell_type": "markdown",
   "id": "4bbb1506",
   "metadata": {
    "papermill": {
     "duration": 0.018422,
     "end_time": "2022-08-26T06:11:59.765776",
     "exception": false,
     "start_time": "2022-08-26T06:11:59.747354",
     "status": "completed"
    },
    "tags": []
   },
   "source": [
    "It's not entirely clear how many back contracts are used in the original analysis as they only mentioned they used *all spreads*. In this notebook, the first 6 contracts are used for the sake of simplicity. Beyond 6, there tends to be more missing prices because of inactivity.\n",
    "\n",
    "In practice, one might want to consider liquidity of each contract to decide which one to trade as not all contract months have the same liquidity. In the case of crude oil, after certain points only June and December contracts are actually traded even though other months are listed."
   ]
  },
  {
   "cell_type": "code",
   "execution_count": 23,
   "id": "4aebb8bd",
   "metadata": {
    "execution": {
     "iopub.execute_input": "2022-08-26T06:11:59.806729Z",
     "iopub.status.busy": "2022-08-26T06:11:59.806193Z",
     "iopub.status.idle": "2022-08-26T06:12:00.715577Z",
     "shell.execute_reply": "2022-08-26T06:12:00.714768Z"
    },
    "papermill": {
     "duration": 0.931279,
     "end_time": "2022-08-26T06:12:00.717360",
     "exception": false,
     "start_time": "2022-08-26T06:11:59.786081",
     "status": "completed"
    },
    "tags": []
   },
   "outputs": [],
   "source": [
    "cl_curve = get_futures_curve_snapshot('CL', datetime(2021, 12, 1), 'volume')"
   ]
  },
  {
   "cell_type": "code",
   "execution_count": 24,
   "id": "c2bd035a",
   "metadata": {
    "execution": {
     "iopub.execute_input": "2022-08-26T06:12:00.761992Z",
     "iopub.status.busy": "2022-08-26T06:12:00.761542Z",
     "iopub.status.idle": "2022-08-26T06:12:01.222440Z",
     "shell.execute_reply": "2022-08-26T06:12:01.221498Z"
    },
    "papermill": {
     "duration": 0.486205,
     "end_time": "2022-08-26T06:12:01.224249",
     "exception": false,
     "start_time": "2022-08-26T06:12:00.738044",
     "status": "completed"
    },
    "tags": []
   },
   "outputs": [
    {
     "data": {
      "image/png": "[encoded data removed]",
      "text/plain": [
       "<Figure size 1008x216 with 1 Axes>"
      ]
     },
     "metadata": {
      "needs_background": "light"
     },
     "output_type": "display_data"
    }
   ],
   "source": [
    "ax = cl_curve.loc[:'2024'].set_index('symbol')['volume'].plot(kind='bar', figsize=(14, 3));\n",
    "ax.set_ylabel('Volume')\n",
    "ax.set_title('Crude oil traded volume per contract');"
   ]
  },
  {
   "cell_type": "markdown",
   "id": "9de6acec",
   "metadata": {
    "papermill": {
     "duration": 0.018096,
     "end_time": "2022-08-26T06:12:01.260486",
     "exception": false,
     "start_time": "2022-08-26T06:12:01.242390",
     "status": "completed"
    },
    "tags": []
   },
   "source": [
    "## Crack spread\n",
    "\n",
    "First define the instruments. `roll_rule` is defined to make sure futures are rolled on month-ends. As per the analysis done for crush spreads, some arbitrary collateral of 100k USD is used to meature futures returns."
   ]
  },
  {
   "cell_type": "code",
   "execution_count": 25,
   "id": "5d159539",
   "metadata": {
    "execution": {
     "iopub.execute_input": "2022-08-26T06:12:01.299766Z",
     "iopub.status.busy": "2022-08-26T06:12:01.299327Z",
     "iopub.status.idle": "2022-08-26T06:12:01.307638Z",
     "shell.execute_reply": "2022-08-26T06:12:01.306871Z"
    },
    "papermill": {
     "duration": 0.029943,
     "end_time": "2022-08-26T06:12:01.309341",
     "exception": false,
     "start_time": "2022-08-26T06:12:01.279398",
     "status": "completed"
    },
    "tags": []
   },
   "outputs": [],
   "source": [
    "max_expiry = 6\n",
    "instrument = []\n",
    "for i in range(1, max_expiry + 1):\n",
    "    ho = InstrumentDef('HO', id=f'HO_{i}', collateral=100_000, roll_rule=RollRule.MONTH_END.value, nth_expiry=i)\n",
    "    xb = InstrumentDef('XB', id=f'XB_{i}', collateral=100_000, roll_rule=RollRule.MONTH_END.value, nth_expiry=i)\n",
    "    cl = InstrumentDef('CL', id=f'CL_{i}', collateral=100_000, roll_rule=RollRule.MONTH_END.value, nth_expiry=i)\n",
    "    instrument.append(ho)\n",
    "    instrument.append(xb)\n",
    "    instrument.append(cl)"
   ]
  },
  {
   "cell_type": "code",
   "execution_count": 26,
   "id": "19851a3b",
   "metadata": {
    "execution": {
     "iopub.execute_input": "2022-08-26T06:12:01.349997Z",
     "iopub.status.busy": "2022-08-26T06:12:01.349508Z",
     "iopub.status.idle": "2022-08-26T06:12:01.355593Z",
     "shell.execute_reply": "2022-08-26T06:12:01.354779Z"
    },
    "papermill": {
     "duration": 0.02908,
     "end_time": "2022-08-26T06:12:01.358079",
     "exception": false,
     "start_time": "2022-08-26T06:12:01.328999",
     "status": "completed"
    },
    "tags": []
   },
   "outputs": [
    {
     "data": {
      "text/plain": [
       "18"
      ]
     },
     "execution_count": 26,
     "metadata": {},
     "output_type": "execute_result"
    }
   ],
   "source": [
    "len(instrument)"
   ]
  },
  {
   "cell_type": "code",
   "execution_count": 27,
   "id": "729399c3",
   "metadata": {
    "execution": {
     "iopub.execute_input": "2022-08-26T06:12:01.415760Z",
     "iopub.status.busy": "2022-08-26T06:12:01.415299Z",
     "iopub.status.idle": "2022-08-26T06:18:14.038903Z",
     "shell.execute_reply": "2022-08-26T06:18:14.036917Z"
    },
    "papermill": {
     "duration": 372.6574,
     "end_time": "2022-08-26T06:18:14.043417",
     "exception": false,
     "start_time": "2022-08-26T06:12:01.386017",
     "status": "completed"
    },
    "tags": []
   },
   "outputs": [],
   "source": [
    "engine_cs = BacktestEngine(\n",
    "    start_date=datetime(1985, 1, 1),\n",
    "    strategy=Strategy.DELTA_ONE.value,\n",
    "    instrument=instrument,\n",
    "    signal=signal.CrackSpreadGP1999(\n",
    "        ma_lookback=5,\n",
    "        entry_sigma=2,\n",
    "    ),\n",
    "    weighting=Weighting.SUM.value,\n",
    "    log_level=logging.WARN,\n",
    ")\n",
    "engine_cs.run()"
   ]
  },
  {
   "cell_type": "code",
   "execution_count": 28,
   "id": "f08e3ad6",
   "metadata": {
    "execution": {
     "iopub.execute_input": "2022-08-26T06:18:14.110763Z",
     "iopub.status.busy": "2022-08-26T06:18:14.110366Z",
     "iopub.status.idle": "2022-08-26T06:19:49.133537Z",
     "shell.execute_reply": "2022-08-26T06:19:49.132578Z"
    },
    "papermill": {
     "duration": 95.059993,
     "end_time": "2022-08-26T06:19:49.135860",
     "exception": false,
     "start_time": "2022-08-26T06:18:14.075867",
     "status": "completed"
    },
    "tags": []
   },
   "outputs": [],
   "source": [
    "levels_cs = engine_cs.calculate_equity_curve(calculate_net=False).rename('Crack spread')"
   ]
  },
  {
   "cell_type": "markdown",
   "id": "46f2eaf9",
   "metadata": {
    "papermill": {
     "duration": 0.018502,
     "end_time": "2022-08-26T06:19:49.174751",
     "exception": false,
     "start_time": "2022-08-26T06:19:49.156249",
     "status": "completed"
    },
    "tags": []
   },
   "source": [
    "## Gasoline crack spread"
   ]
  },
  {
   "cell_type": "code",
   "execution_count": 29,
   "id": "ea2825c3",
   "metadata": {
    "execution": {
     "iopub.execute_input": "2022-08-26T06:19:49.213966Z",
     "iopub.status.busy": "2022-08-26T06:19:49.213351Z",
     "iopub.status.idle": "2022-08-26T06:19:49.221591Z",
     "shell.execute_reply": "2022-08-26T06:19:49.220722Z"
    },
    "papermill": {
     "duration": 0.029977,
     "end_time": "2022-08-26T06:19:49.223453",
     "exception": false,
     "start_time": "2022-08-26T06:19:49.193476",
     "status": "completed"
    },
    "tags": []
   },
   "outputs": [],
   "source": [
    "max_expiry = 6\n",
    "instrument = []\n",
    "for i in range(1, max_expiry + 1):\n",
    "    xb = InstrumentDef('XB', id=f'XB_{i}', collateral=100_000, roll_rule=RollRule.MONTH_END.value, nth_expiry=i)\n",
    "    cl = InstrumentDef('CL', id=f'CL_{i}', collateral=100_000, roll_rule=RollRule.MONTH_END.value, nth_expiry=i)\n",
    "    instrument.append(xb)\n",
    "    instrument.append(cl)"
   ]
  },
  {
   "cell_type": "code",
   "execution_count": 30,
   "id": "553fbe4b",
   "metadata": {
    "execution": {
     "iopub.execute_input": "2022-08-26T06:19:49.261822Z",
     "iopub.status.busy": "2022-08-26T06:19:49.261543Z",
     "iopub.status.idle": "2022-08-26T06:24:07.156148Z",
     "shell.execute_reply": "2022-08-26T06:24:07.155038Z"
    },
    "papermill": {
     "duration": 257.917011,
     "end_time": "2022-08-26T06:24:07.158734",
     "exception": false,
     "start_time": "2022-08-26T06:19:49.241723",
     "status": "completed"
    },
    "tags": []
   },
   "outputs": [],
   "source": [
    "engine_gcs = BacktestEngine(\n",
    "    start_date=datetime(1985, 1, 1),\n",
    "    strategy=Strategy.DELTA_ONE.value,\n",
    "    instrument=instrument,\n",
    "    signal=signal.CrackSpreadGP1999(\n",
    "        weights={'XB': 42 * 1000, 'CL': -1 * 1000},\n",
    "        ma_lookback=5,\n",
    "        entry_sigma=2,\n",
    "    ),\n",
    "    weighting=Weighting.SUM.value,\n",
    "    log_level=logging.WARN,\n",
    ")\n",
    "engine_gcs.run()"
   ]
  },
  {
   "cell_type": "code",
   "execution_count": 31,
   "id": "4d87519a",
   "metadata": {
    "execution": {
     "iopub.execute_input": "2022-08-26T06:24:07.209881Z",
     "iopub.status.busy": "2022-08-26T06:24:07.209457Z",
     "iopub.status.idle": "2022-08-26T06:25:12.090381Z",
     "shell.execute_reply": "2022-08-26T06:25:12.089659Z"
    },
    "papermill": {
     "duration": 64.908568,
     "end_time": "2022-08-26T06:25:12.092349",
     "exception": false,
     "start_time": "2022-08-26T06:24:07.183781",
     "status": "completed"
    },
    "tags": []
   },
   "outputs": [],
   "source": [
    "levels_gcs = engine_gcs.calculate_equity_curve(calculate_net=False).rename('Gasoline crack spread')"
   ]
  },
  {
   "cell_type": "markdown",
   "id": "8d456942",
   "metadata": {
    "papermill": {
     "duration": 0.02077,
     "end_time": "2022-08-26T06:25:12.132353",
     "exception": false,
     "start_time": "2022-08-26T06:25:12.111583",
     "status": "completed"
    },
    "tags": []
   },
   "source": [
    "## Heating oil crack spread"
   ]
  },
  {
   "cell_type": "code",
   "execution_count": 32,
   "id": "9cb7c150",
   "metadata": {
    "execution": {
     "iopub.execute_input": "2022-08-26T06:25:12.173008Z",
     "iopub.status.busy": "2022-08-26T06:25:12.172643Z",
     "iopub.status.idle": "2022-08-26T06:25:12.178698Z",
     "shell.execute_reply": "2022-08-26T06:25:12.177721Z"
    },
    "papermill": {
     "duration": 0.029367,
     "end_time": "2022-08-26T06:25:12.181301",
     "exception": false,
     "start_time": "2022-08-26T06:25:12.151934",
     "status": "completed"
    },
    "tags": []
   },
   "outputs": [],
   "source": [
    "max_expiry = 6\n",
    "instrument = []\n",
    "for i in range(1, max_expiry + 1):\n",
    "    ho = InstrumentDef('HO', id=f'HO_{i}', collateral=100_000, roll_rule=RollRule.MONTH_END.value, nth_expiry=i)\n",
    "    cl = InstrumentDef('CL', id=f'CL_{i}', collateral=100_000, roll_rule=RollRule.MONTH_END.value, nth_expiry=i)\n",
    "    instrument.append(ho)\n",
    "    instrument.append(cl)"
   ]
  },
  {
   "cell_type": "code",
   "execution_count": 33,
   "id": "9338a131",
   "metadata": {
    "execution": {
     "iopub.execute_input": "2022-08-26T06:25:12.223466Z",
     "iopub.status.busy": "2022-08-26T06:25:12.222971Z",
     "iopub.status.idle": "2022-08-26T06:29:47.455310Z",
     "shell.execute_reply": "2022-08-26T06:29:47.454567Z"
    },
    "papermill": {
     "duration": 275.256043,
     "end_time": "2022-08-26T06:29:47.457332",
     "exception": false,
     "start_time": "2022-08-26T06:25:12.201289",
     "status": "completed"
    },
    "tags": []
   },
   "outputs": [],
   "source": [
    "engine_hocs = BacktestEngine(\n",
    "    start_date=datetime(1985, 1, 1),\n",
    "    strategy=Strategy.DELTA_ONE.value,\n",
    "    instrument=instrument,\n",
    "    signal=signal.CrackSpreadGP1999(\n",
    "        weights={'HO': 42 * 1000, 'CL': -1 * 1000},\n",
    "        ma_lookback=5,\n",
    "        entry_sigma=2,\n",
    "    ),\n",
    "    weighting=Weighting.SUM.value,\n",
    "    log_level=logging.WARN,\n",
    ")\n",
    "engine_hocs.run()"
   ]
  },
  {
   "cell_type": "code",
   "execution_count": 34,
   "id": "64757694",
   "metadata": {
    "execution": {
     "iopub.execute_input": "2022-08-26T06:29:47.498708Z",
     "iopub.status.busy": "2022-08-26T06:29:47.498437Z",
     "iopub.status.idle": "2022-08-26T06:30:53.315623Z",
     "shell.execute_reply": "2022-08-26T06:30:53.314666Z"
    },
    "papermill": {
     "duration": 65.840197,
     "end_time": "2022-08-26T06:30:53.318382",
     "exception": false,
     "start_time": "2022-08-26T06:29:47.478185",
     "status": "completed"
    },
    "tags": []
   },
   "outputs": [],
   "source": [
    "levels_hocs = engine_hocs.calculate_equity_curve(calculate_net=False).rename('Heating oil crack spread')"
   ]
  },
  {
   "cell_type": "markdown",
   "id": "7d427481",
   "metadata": {
    "papermill": {
     "duration": 0.022679,
     "end_time": "2022-08-26T06:30:53.364929",
     "exception": false,
     "start_time": "2022-08-26T06:30:53.342250",
     "status": "completed"
    },
    "tags": []
   },
   "source": [
    "## Performance\n",
    "During the sample period tested, a mean-reversion on the crack spread worked well."
   ]
  },
  {
   "cell_type": "code",
   "execution_count": 35,
   "id": "348f0796",
   "metadata": {
    "execution": {
     "iopub.execute_input": "2022-08-26T06:30:53.412299Z",
     "iopub.status.busy": "2022-08-26T06:30:53.411680Z",
     "iopub.status.idle": "2022-08-26T06:30:53.427681Z",
     "shell.execute_reply": "2022-08-26T06:30:53.426663Z"
    },
    "papermill": {
     "duration": 0.041392,
     "end_time": "2022-08-26T06:30:53.429811",
     "exception": false,
     "start_time": "2022-08-26T06:30:53.388419",
     "status": "completed"
    },
    "tags": []
   },
   "outputs": [],
   "source": [
    "levels = pd.concat((\n",
    "    levels_cs, levels_gcs, levels_hocs\n",
    "), axis=1)"
   ]
  },
  {
   "cell_type": "code",
   "execution_count": 36,
   "id": "c3b6f7cd",
   "metadata": {
    "execution": {
     "iopub.execute_input": "2022-08-26T06:30:53.472521Z",
     "iopub.status.busy": "2022-08-26T06:30:53.472153Z",
     "iopub.status.idle": "2022-08-26T06:30:54.384504Z",
     "shell.execute_reply": "2022-08-26T06:30:54.383240Z"
    },
    "papermill": {
     "duration": 0.936753,
     "end_time": "2022-08-26T06:30:54.386520",
     "exception": false,
     "start_time": "2022-08-26T06:30:53.449767",
     "status": "completed"
    },
    "tags": []
   },
   "outputs": [
    {
     "data": {
      "image/png": "[encoded data removed]",
      "text/plain": [
       "<Figure size 576x324 with 1 Axes>"
      ]
     },
     "metadata": {
      "needs_background": "light"
     },
     "output_type": "display_data"
    }
   ],
   "source": [
    "fig, ax = plt.subplots(figsize=(8, 4.5))\n",
    "levels[:'1994-11'].plot(ax=ax, logy=True);\n",
    "ax.set_title('Crack spreads mean-reversion (GP1999)')\n",
    "ax.set_ylabel('Cumulative returns');"
   ]
  },
  {
   "cell_type": "code",
   "execution_count": 37,
   "id": "8b9035a4",
   "metadata": {
    "execution": {
     "iopub.execute_input": "2022-08-26T06:30:54.430102Z",
     "iopub.status.busy": "2022-08-26T06:30:54.429652Z",
     "iopub.status.idle": "2022-08-26T06:30:54.495777Z",
     "shell.execute_reply": "2022-08-26T06:30:54.494903Z"
    },
    "papermill": {
     "duration": 0.089852,
     "end_time": "2022-08-26T06:30:54.497916",
     "exception": false,
     "start_time": "2022-08-26T06:30:54.408064",
     "status": "completed"
    },
    "tags": []
   },
   "outputs": [
    {
     "data": {
      "text/html": [
       "<div>\n",
       "<style scoped>\n",
       "    .dataframe tbody tr th:only-of-type {\n",
       "        vertical-align: middle;\n",
       "    }\n",
       "\n",
       "    .dataframe tbody tr th {\n",
       "        vertical-align: top;\n",
       "    }\n",
       "\n",
       "    .dataframe thead th {\n",
       "        text-align: right;\n",
       "    }\n",
       "</style>\n",
       "<table border=\"1\" class=\"dataframe\">\n",
       "  <thead>\n",
       "    <tr style=\"text-align: right;\">\n",
       "      <th></th>\n",
       "      <th>Crack spread</th>\n",
       "      <th>Gasoline crack spread</th>\n",
       "      <th>Heating oil crack spread</th>\n",
       "    </tr>\n",
       "  </thead>\n",
       "  <tbody>\n",
       "    <tr>\n",
       "      <th>CAGR</th>\n",
       "      <td>0.014100</td>\n",
       "      <td>0.007241</td>\n",
       "      <td>0.011715</td>\n",
       "    </tr>\n",
       "    <tr>\n",
       "      <th>Annualised vol</th>\n",
       "      <td>0.018131</td>\n",
       "      <td>0.022948</td>\n",
       "      <td>0.017725</td>\n",
       "    </tr>\n",
       "    <tr>\n",
       "      <th>Sharpe ratio</th>\n",
       "      <td>0.777675</td>\n",
       "      <td>0.315525</td>\n",
       "      <td>0.660914</td>\n",
       "    </tr>\n",
       "    <tr>\n",
       "      <th>Max drawdown</th>\n",
       "      <td>0.071648</td>\n",
       "      <td>0.129760</td>\n",
       "      <td>0.044562</td>\n",
       "    </tr>\n",
       "    <tr>\n",
       "      <th>Calmar ratio</th>\n",
       "      <td>0.196791</td>\n",
       "      <td>0.055800</td>\n",
       "      <td>0.262889</td>\n",
       "    </tr>\n",
       "    <tr>\n",
       "      <th>Skewness</th>\n",
       "      <td>0.791950</td>\n",
       "      <td>4.373877</td>\n",
       "      <td>2.076780</td>\n",
       "    </tr>\n",
       "    <tr>\n",
       "      <th>Kurtosis</th>\n",
       "      <td>45.874931</td>\n",
       "      <td>200.909353</td>\n",
       "      <td>75.098364</td>\n",
       "    </tr>\n",
       "    <tr>\n",
       "      <th>Worst return</th>\n",
       "      <td>-0.012272</td>\n",
       "      <td>-0.022322</td>\n",
       "      <td>-0.013000</td>\n",
       "    </tr>\n",
       "    <tr>\n",
       "      <th>Worst 1d return</th>\n",
       "      <td>-0.012272</td>\n",
       "      <td>-0.022322</td>\n",
       "      <td>-0.013000</td>\n",
       "    </tr>\n",
       "    <tr>\n",
       "      <th>Worst 1w return</th>\n",
       "      <td>-0.018763</td>\n",
       "      <td>-0.034413</td>\n",
       "      <td>-0.019985</td>\n",
       "    </tr>\n",
       "    <tr>\n",
       "      <th>Worst 1m return</th>\n",
       "      <td>-0.030638</td>\n",
       "      <td>-0.029017</td>\n",
       "      <td>-0.026193</td>\n",
       "    </tr>\n",
       "  </tbody>\n",
       "</table>\n",
       "</div>"
      ],
      "text/plain": [
       "                 Crack spread  Gasoline crack spread  Heating oil crack spread\n",
       "CAGR                 0.014100               0.007241                  0.011715\n",
       "Annualised vol       0.018131               0.022948                  0.017725\n",
       "Sharpe ratio         0.777675               0.315525                  0.660914\n",
       "Max drawdown         0.071648               0.129760                  0.044562\n",
       "Calmar ratio         0.196791               0.055800                  0.262889\n",
       "Skewness             0.791950               4.373877                  2.076780\n",
       "Kurtosis            45.874931             200.909353                 75.098364\n",
       "Worst return        -0.012272              -0.022322                 -0.013000\n",
       "Worst 1d return     -0.012272              -0.022322                 -0.013000\n",
       "Worst 1w return     -0.018763              -0.034413                 -0.019985\n",
       "Worst 1m return     -0.030638              -0.029017                 -0.026193"
      ]
     },
     "execution_count": 37,
     "metadata": {},
     "output_type": "execute_result"
    }
   ],
   "source": [
    "levels[:'1994-11'].pipe(Performance).summary()"
   ]
  },
  {
   "cell_type": "markdown",
   "id": "25d81c19",
   "metadata": {
    "papermill": {
     "duration": 0.023612,
     "end_time": "2022-08-26T06:30:54.548531",
     "exception": false,
     "start_time": "2022-08-26T06:30:54.524919",
     "status": "completed"
    },
    "tags": []
   },
   "source": [
    "The underperformance in 1990 coincides with a wider divergence on the crack spread which is intuitive."
   ]
  },
  {
   "cell_type": "code",
   "execution_count": 38,
   "id": "76538675",
   "metadata": {
    "execution": {
     "iopub.execute_input": "2022-08-26T06:30:54.591760Z",
     "iopub.status.busy": "2022-08-26T06:30:54.591263Z",
     "iopub.status.idle": "2022-08-26T06:30:55.040292Z",
     "shell.execute_reply": "2022-08-26T06:30:55.039447Z"
    },
    "papermill": {
     "duration": 0.473671,
     "end_time": "2022-08-26T06:30:55.042559",
     "exception": false,
     "start_time": "2022-08-26T06:30:54.568888",
     "status": "completed"
    },
    "tags": []
   },
   "outputs": [
    {
     "data": {
      "image/png": "[encoded data removed]",
      "text/plain": [
       "<Figure size 576x360 with 2 Axes>"
      ]
     },
     "metadata": {
      "needs_background": "light"
     },
     "output_type": "display_data"
    }
   ],
   "source": [
    "pd.concat((\n",
    "    levels_gcs.rename('Gasoline crack spread strategy'),\n",
    "    gcs.rename('GCS')\n",
    "), axis=1)[:'1994-11'].plot(figsize=(8, 5), secondary_y='GCS');"
   ]
  },
  {
   "cell_type": "markdown",
   "id": "e2d431e2",
   "metadata": {
    "papermill": {
     "duration": 0.028239,
     "end_time": "2022-08-26T06:30:55.099657",
     "exception": false,
     "start_time": "2022-08-26T06:30:55.071418",
     "status": "completed"
    },
    "tags": []
   },
   "source": [
    "## Long-term performance\n",
    "\n",
    "...however as we saw earlier in the time-series of crack spreads, something must have changed in 2000s and the trading strategies stopped working."
   ]
  },
  {
   "cell_type": "code",
   "execution_count": 39,
   "id": "d8a263d6",
   "metadata": {
    "execution": {
     "iopub.execute_input": "2022-08-26T06:30:55.158235Z",
     "iopub.status.busy": "2022-08-26T06:30:55.157883Z",
     "iopub.status.idle": "2022-08-26T06:30:55.751660Z",
     "shell.execute_reply": "2022-08-26T06:30:55.750787Z"
    },
    "papermill": {
     "duration": 0.62515,
     "end_time": "2022-08-26T06:30:55.753366",
     "exception": false,
     "start_time": "2022-08-26T06:30:55.128216",
     "status": "completed"
    },
    "tags": []
   },
   "outputs": [
    {
     "data": {
      "image/png": "[encoded data removed]",
      "text/plain": [
       "<Figure size 576x324 with 1 Axes>"
      ]
     },
     "metadata": {
      "needs_background": "light"
     },
     "output_type": "display_data"
    }
   ],
   "source": [
    "fig, ax = plt.subplots(figsize=(8, 4.5))\n",
    "levels.plot(ax=ax, logy=True);\n",
    "ax.set_title('Crack spreads mean-reversion (GP1999)')\n",
    "ax.set_ylabel('Cumulative returns');"
   ]
  },
  {
   "cell_type": "code",
   "execution_count": 40,
   "id": "b9b01da1",
   "metadata": {
    "execution": {
     "iopub.execute_input": "2022-08-26T06:30:55.799283Z",
     "iopub.status.busy": "2022-08-26T06:30:55.798655Z",
     "iopub.status.idle": "2022-08-26T06:30:55.880179Z",
     "shell.execute_reply": "2022-08-26T06:30:55.879433Z"
    },
    "papermill": {
     "duration": 0.106134,
     "end_time": "2022-08-26T06:30:55.882086",
     "exception": false,
     "start_time": "2022-08-26T06:30:55.775952",
     "status": "completed"
    },
    "tags": []
   },
   "outputs": [
    {
     "data": {
      "text/html": [
       "<div>\n",
       "<style scoped>\n",
       "    .dataframe tbody tr th:only-of-type {\n",
       "        vertical-align: middle;\n",
       "    }\n",
       "\n",
       "    .dataframe tbody tr th {\n",
       "        vertical-align: top;\n",
       "    }\n",
       "\n",
       "    .dataframe thead th {\n",
       "        text-align: right;\n",
       "    }\n",
       "</style>\n",
       "<table border=\"1\" class=\"dataframe\">\n",
       "  <thead>\n",
       "    <tr style=\"text-align: right;\">\n",
       "      <th></th>\n",
       "      <th>Crack spread</th>\n",
       "      <th>Gasoline crack spread</th>\n",
       "      <th>Heating oil crack spread</th>\n",
       "    </tr>\n",
       "  </thead>\n",
       "  <tbody>\n",
       "    <tr>\n",
       "      <th>CAGR</th>\n",
       "      <td>-0.058912</td>\n",
       "      <td>-0.005504</td>\n",
       "      <td>-0.012834</td>\n",
       "    </tr>\n",
       "    <tr>\n",
       "      <th>Annualised vol</th>\n",
       "      <td>0.185773</td>\n",
       "      <td>0.046657</td>\n",
       "      <td>0.081817</td>\n",
       "    </tr>\n",
       "    <tr>\n",
       "      <th>Sharpe ratio</th>\n",
       "      <td>-0.317120</td>\n",
       "      <td>-0.117966</td>\n",
       "      <td>-0.156863</td>\n",
       "    </tr>\n",
       "    <tr>\n",
       "      <th>Max drawdown</th>\n",
       "      <td>0.939134</td>\n",
       "      <td>0.455942</td>\n",
       "      <td>0.546417</td>\n",
       "    </tr>\n",
       "    <tr>\n",
       "      <th>Calmar ratio</th>\n",
       "      <td>-0.062730</td>\n",
       "      <td>-0.012071</td>\n",
       "      <td>-0.023488</td>\n",
       "    </tr>\n",
       "    <tr>\n",
       "      <th>Skewness</th>\n",
       "      <td>10.363252</td>\n",
       "      <td>-0.823325</td>\n",
       "      <td>2.469589</td>\n",
       "    </tr>\n",
       "    <tr>\n",
       "      <th>Kurtosis</th>\n",
       "      <td>961.032211</td>\n",
       "      <td>74.899280</td>\n",
       "      <td>535.955113</td>\n",
       "    </tr>\n",
       "    <tr>\n",
       "      <th>Worst return</th>\n",
       "      <td>-0.339082</td>\n",
       "      <td>-0.049356</td>\n",
       "      <td>-0.162293</td>\n",
       "    </tr>\n",
       "    <tr>\n",
       "      <th>Worst 1d return</th>\n",
       "      <td>-0.339082</td>\n",
       "      <td>-0.049356</td>\n",
       "      <td>-0.162293</td>\n",
       "    </tr>\n",
       "    <tr>\n",
       "      <th>Worst 1w return</th>\n",
       "      <td>-0.487829</td>\n",
       "      <td>-0.101832</td>\n",
       "      <td>-0.125455</td>\n",
       "    </tr>\n",
       "    <tr>\n",
       "      <th>Worst 1m return</th>\n",
       "      <td>-0.436654</td>\n",
       "      <td>-0.119793</td>\n",
       "      <td>-0.228092</td>\n",
       "    </tr>\n",
       "  </tbody>\n",
       "</table>\n",
       "</div>"
      ],
      "text/plain": [
       "                 Crack spread  Gasoline crack spread  Heating oil crack spread\n",
       "CAGR                -0.058912              -0.005504                 -0.012834\n",
       "Annualised vol       0.185773               0.046657                  0.081817\n",
       "Sharpe ratio        -0.317120              -0.117966                 -0.156863\n",
       "Max drawdown         0.939134               0.455942                  0.546417\n",
       "Calmar ratio        -0.062730              -0.012071                 -0.023488\n",
       "Skewness            10.363252              -0.823325                  2.469589\n",
       "Kurtosis           961.032211              74.899280                535.955113\n",
       "Worst return        -0.339082              -0.049356                 -0.162293\n",
       "Worst 1d return     -0.339082              -0.049356                 -0.162293\n",
       "Worst 1w return     -0.487829              -0.101832                 -0.125455\n",
       "Worst 1m return     -0.436654              -0.119793                 -0.228092"
      ]
     },
     "execution_count": 40,
     "metadata": {},
     "output_type": "execute_result"
    }
   ],
   "source": [
    "levels.pipe(Performance).summary()"
   ]
  },
  {
   "cell_type": "markdown",
   "id": "e67cc5fa",
   "metadata": {
    "papermill": {
     "duration": 0.022232,
     "end_time": "2022-08-26T06:30:55.926341",
     "exception": false,
     "start_time": "2022-08-26T06:30:55.904109",
     "status": "completed"
    },
    "tags": []
   },
   "source": [
    "## Post publication"
   ]
  },
  {
   "cell_type": "code",
   "execution_count": 41,
   "id": "94b4f13d",
   "metadata": {
    "execution": {
     "iopub.execute_input": "2022-08-26T06:30:55.972517Z",
     "iopub.status.busy": "2022-08-26T06:30:55.972059Z",
     "iopub.status.idle": "2022-08-26T06:30:55.976574Z",
     "shell.execute_reply": "2022-08-26T06:30:55.975789Z"
    },
    "papermill": {
     "duration": 0.030897,
     "end_time": "2022-08-26T06:30:55.978832",
     "exception": false,
     "start_time": "2022-08-26T06:30:55.947935",
     "status": "completed"
    },
    "tags": []
   },
   "outputs": [],
   "source": [
    "publication_date = datetime(1999, 11, 29)"
   ]
  },
  {
   "cell_type": "code",
   "execution_count": 42,
   "id": "1a2e7f9c",
   "metadata": {
    "execution": {
     "iopub.execute_input": "2022-08-26T06:30:56.043471Z",
     "iopub.status.busy": "2022-08-26T06:30:56.042956Z",
     "iopub.status.idle": "2022-08-26T06:30:57.316987Z",
     "shell.execute_reply": "2022-08-26T06:30:57.316117Z"
    },
    "papermill": {
     "duration": 1.309404,
     "end_time": "2022-08-26T06:30:57.319692",
     "exception": false,
     "start_time": "2022-08-26T06:30:56.010288",
     "status": "completed"
    },
    "tags": []
   },
   "outputs": [
    {
     "data": {
      "image/png": "[encoded data removed]",
      "text/plain": [
       "<Figure size 1008x288 with 2 Axes>"
      ]
     },
     "metadata": {
      "needs_background": "light"
     },
     "output_type": "display_data"
    }
   ],
   "source": [
    "fig, ax = plt.subplots(1, 2, figsize=(14, 4))\n",
    "levels.plot(ax=ax[0], logy=True);\n",
    "ax[0].set_title('Crack spreads mean-reversion (GP1999)')\n",
    "ax[0].set_ylabel('Cumulative returns');\n",
    "ax[0].axvline(publication_date, lw=1, ls='--', color='black')\n",
    "ax[0].text(publication_date, 100, 'Publication date ', ha='right')\n",
    "\n",
    "levels.loc[publication_date:].pipe(rebase).plot(ax=ax[1], logy=True);\n",
    "ax[1].set_title('Post publication');"
   ]
  },
  {
   "cell_type": "markdown",
   "id": "d187127a",
   "metadata": {
    "papermill": {
     "duration": 0.031934,
     "end_time": "2022-08-26T06:30:57.391754",
     "exception": false,
     "start_time": "2022-08-26T06:30:57.359820",
     "status": "completed"
    },
    "tags": []
   },
   "source": [
    "# Reference\n",
    "- Girma, P.B. and Paulson, A.S., 1999. Risk arbitrage opportunities in petroleum futures spreads. Journal of Futures Markets, 19(8), pp.931-955."
   ]
  },
  {
   "cell_type": "code",
   "execution_count": 43,
   "id": "69fe3c8e",
   "metadata": {
    "execution": {
     "iopub.execute_input": "2022-08-26T06:30:57.458150Z",
     "iopub.status.busy": "2022-08-26T06:30:57.457470Z",
     "iopub.status.idle": "2022-08-26T06:30:57.511049Z",
     "shell.execute_reply": "2022-08-26T06:30:57.510116Z"
    },
    "papermill": {
     "duration": 0.089098,
     "end_time": "2022-08-26T06:30:57.513478",
     "exception": false,
     "start_time": "2022-08-26T06:30:57.424380",
     "status": "completed"
    },
    "tags": []
   },
   "outputs": [
    {
     "name": "stdout",
     "output_type": "stream",
     "text": [
      "Updated: 26-Aug-2022 06:30\n"
     ]
    }
   ],
   "source": [
    "print(f'Updated: {datetime.utcnow():%d-%b-%Y %H:%M}')"
   ]
  }
 ],
 "metadata": {
  "kernelspec": {
   "display_name": "Python 3",
   "language": "python",
   "name": "python3"
  },
  "language_info": {
   "codemirror_mode": {
    "name": "ipython",
    "version": 3
   },
   "file_extension": ".py",
   "mimetype": "text/x-python",
   "name": "python",
   "nbconvert_exporter": "python",
   "pygments_lexer": "ipython3",
   "version": "3.9.6"
  },
  "papermill": {
   "default_parameters": {},
   "duration": 1217.242987,
   "end_time": "2022-08-26T06:31:00.366677",
   "environment_variables": {},
   "exception": null,
   "input_path": "notebooks/papermill/commodity_crack_spread_stat_arb.ipynb",
   "output_path": "notebooks/commodity_crack_spread_stat_arb.ipynb",
   "parameters": {},
   "start_time": "2022-08-26T06:10:43.123690",
   "version": "2.3.4"
  },
  "toc-autonumbering": true
 },
 "nbformat": 4,
 "nbformat_minor": 5
}