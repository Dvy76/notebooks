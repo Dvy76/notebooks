{
 "cells": [
  {
   "cell_type": "markdown",
   "id": "172ca5c5",
   "metadata": {
    "papermill": {
     "duration": 0.028795,
     "end_time": "2022-05-29T06:11:18.645426",
     "exception": false,
     "start_time": "2022-05-29T06:11:18.616631",
     "status": "completed"
    },
    "tags": []
   },
   "source": [
    "# Commodity crack spread statistical arbitrage\n",
    "\n",
    "In this notebook, the mean-rereversion strategy proposed in Girma and Paulson 1999 (henthforth GP1999) is investigated. It focuses on a various combination of the crude oil (WTI) crack spread. "
   ]
  },
  {
   "cell_type": "code",
   "execution_count": 1,
   "id": "7daa9dab",
   "metadata": {
    "execution": {
     "iopub.execute_input": "2022-05-29T06:11:18.704863Z",
     "iopub.status.busy": "2022-05-29T06:11:18.704557Z",
     "iopub.status.idle": "2022-05-29T06:11:23.045071Z",
     "shell.execute_reply": "2022-05-29T06:11:23.044160Z"
    },
    "papermill": {
     "duration": 4.373682,
     "end_time": "2022-05-29T06:11:23.048268",
     "exception": false,
     "start_time": "2022-05-29T06:11:18.674586",
     "status": "completed"
    },
    "tags": []
   },
   "outputs": [],
   "source": [
    "%matplotlib inline\n",
    "from datetime import datetime\n",
    "import logging\n",
    "import warnings\n",
    "warnings.simplefilter(action='ignore', category=FutureWarning)\n",
    "\n",
    "import pandas as pd\n",
    "import statsmodels.api as sm\n",
    "import matplotlib.pyplot as plt\n",
    "plt.style.use('bmh')\n",
    "\n",
    "from vivace.backtest import BacktestEngine, signal, InstrumentDef\n",
    "from vivace.backtest.analytics import rebase\n",
    "from vivace.backtest.contract import get_futures_curve_snapshot\n",
    "from vivace.backtest.enums import Strategy, Weighting, RollRule\n",
    "from vivace.backtest.stats import Performance"
   ]
  },
  {
   "cell_type": "markdown",
   "id": "68aa8ccf",
   "metadata": {
    "papermill": {
     "duration": 0.022567,
     "end_time": "2022-05-29T06:11:23.090205",
     "exception": false,
     "start_time": "2022-05-29T06:11:23.067638",
     "status": "completed"
    },
    "tags": []
   },
   "source": [
    "# Cointegration test\n",
    "\n",
    "GP1999 first checks if the crack spread is cointegrated. To do that, first let's see futures prices are non-stationary or not. As per usual, the generic price is populated by running a simple long-only backtest by rolling the front contract."
   ]
  },
  {
   "cell_type": "markdown",
   "id": "824e7302",
   "metadata": {
    "papermill": {
     "duration": 0.01915,
     "end_time": "2022-05-29T06:11:23.131323",
     "exception": false,
     "start_time": "2022-05-29T06:11:23.112173",
     "status": "completed"
    },
    "tags": []
   },
   "source": [
    "## ADF test\n",
    "\n",
    "The ADF test is done by the `adfuller` function in `statsmodels`. (cf. https://www.statsmodels.org/dev/generated/statsmodels.tsa.stattools.adfuller.html)"
   ]
  },
  {
   "cell_type": "code",
   "execution_count": 2,
   "id": "4eb3103c",
   "metadata": {
    "execution": {
     "iopub.execute_input": "2022-05-29T06:11:23.178834Z",
     "iopub.status.busy": "2022-05-29T06:11:23.178116Z",
     "iopub.status.idle": "2022-05-29T06:11:36.072078Z",
     "shell.execute_reply": "2022-05-29T06:11:36.071374Z"
    },
    "papermill": {
     "duration": 12.924116,
     "end_time": "2022-05-29T06:11:36.074604",
     "exception": false,
     "start_time": "2022-05-29T06:11:23.150488",
     "status": "completed"
    },
    "tags": []
   },
   "outputs": [],
   "source": [
    "cl_1st = BacktestEngine(instrument='CL', log_level=logging.WARN)\n",
    "cl_1st.run()"
   ]
  },
  {
   "cell_type": "code",
   "execution_count": 3,
   "id": "9910ecff",
   "metadata": {
    "execution": {
     "iopub.execute_input": "2022-05-29T06:11:36.122133Z",
     "iopub.status.busy": "2022-05-29T06:11:36.121766Z",
     "iopub.status.idle": "2022-05-29T06:11:48.949257Z",
     "shell.execute_reply": "2022-05-29T06:11:48.948625Z"
    },
    "papermill": {
     "duration": 12.853979,
     "end_time": "2022-05-29T06:11:48.951622",
     "exception": false,
     "start_time": "2022-05-29T06:11:36.097643",
     "status": "completed"
    },
    "tags": []
   },
   "outputs": [],
   "source": [
    "ho_1st = BacktestEngine(instrument='HO', log_level=logging.WARN)\n",
    "ho_1st.run()"
   ]
  },
  {
   "cell_type": "code",
   "execution_count": 4,
   "id": "32cec4c3",
   "metadata": {
    "execution": {
     "iopub.execute_input": "2022-05-29T06:11:48.996666Z",
     "iopub.status.busy": "2022-05-29T06:11:48.996422Z",
     "iopub.status.idle": "2022-05-29T06:11:59.198516Z",
     "shell.execute_reply": "2022-05-29T06:11:59.197792Z"
    },
    "papermill": {
     "duration": 10.22536,
     "end_time": "2022-05-29T06:11:59.201255",
     "exception": false,
     "start_time": "2022-05-29T06:11:48.975895",
     "status": "completed"
    },
    "tags": []
   },
   "outputs": [],
   "source": [
    "xb_1st = BacktestEngine(instrument='XB', log_level=logging.WARN)\n",
    "xb_1st.run()"
   ]
  },
  {
   "cell_type": "code",
   "execution_count": 5,
   "id": "a602ffe8",
   "metadata": {
    "execution": {
     "iopub.execute_input": "2022-05-29T06:11:59.253753Z",
     "iopub.status.busy": "2022-05-29T06:11:59.253558Z",
     "iopub.status.idle": "2022-05-29T06:12:19.660477Z",
     "shell.execute_reply": "2022-05-29T06:12:19.659870Z"
    },
    "papermill": {
     "duration": 20.435015,
     "end_time": "2022-05-29T06:12:19.662755",
     "exception": false,
     "start_time": "2022-05-29T06:11:59.227740",
     "status": "completed"
    },
    "tags": []
   },
   "outputs": [],
   "source": [
    "cl_price = cl_1st.get_generic_price().squeeze().fillna(method='pad').rename('Crude oil')\n",
    "ho_price = ho_1st.get_generic_price().squeeze().fillna(method='pad').rename('Heating oil')\n",
    "xb_price = xb_1st.get_generic_price().squeeze().fillna(method='pad').rename('Gasoline')"
   ]
  },
  {
   "cell_type": "code",
   "execution_count": 6,
   "id": "81a1c9be",
   "metadata": {
    "execution": {
     "iopub.execute_input": "2022-05-29T06:12:19.715005Z",
     "iopub.status.busy": "2022-05-29T06:12:19.714714Z",
     "iopub.status.idle": "2022-05-29T06:12:19.721908Z",
     "shell.execute_reply": "2022-05-29T06:12:19.721057Z"
    },
    "papermill": {
     "duration": 0.036192,
     "end_time": "2022-05-29T06:12:19.723918",
     "exception": false,
     "start_time": "2022-05-29T06:12:19.687726",
     "status": "completed"
    },
    "tags": []
   },
   "outputs": [],
   "source": [
    "def adf(ts: pd.Series, **kwargs) -> pd.Series:\n",
    "    \"\"\" Run the ADF test and return a cleaned result \"\"\"\n",
    "    adf_result = sm.tsa.stattools.adfuller(ts, **kwargs)\n",
    "    cleaned = {\n",
    "        'adf': adf_result[0],\n",
    "        'p_value': adf_result[1],\n",
    "        'used_lag': adf_result[2],\n",
    "        'n_obs': adf_result[3],\n",
    "        'ci_0.01': adf_result[4]['1%'],\n",
    "        'ci_0.05': adf_result[4]['5%'],\n",
    "        'ci_0.1': adf_result[4]['10%'],\n",
    "        'ic_best': adf_result[5],\n",
    "    }\n",
    "    return pd.Series(cleaned, name=ts.name)"
   ]
  },
  {
   "cell_type": "markdown",
   "id": "73a9df64",
   "metadata": {
    "papermill": {
     "duration": 0.01683,
     "end_time": "2022-05-29T06:12:19.806169",
     "exception": false,
     "start_time": "2022-05-29T06:12:19.789339",
     "status": "completed"
    },
    "tags": []
   },
   "source": [
    "GP1999 uses Schwarz's information criterion (i.e., BIC) to select the optimal number of lags included in the ADF test."
   ]
  },
  {
   "cell_type": "code",
   "execution_count": 7,
   "id": "b69649d6",
   "metadata": {
    "execution": {
     "iopub.execute_input": "2022-05-29T06:12:19.845648Z",
     "iopub.status.busy": "2022-05-29T06:12:19.845285Z",
     "iopub.status.idle": "2022-05-29T06:12:20.966196Z",
     "shell.execute_reply": "2022-05-29T06:12:20.965409Z"
    },
    "papermill": {
     "duration": 1.146364,
     "end_time": "2022-05-29T06:12:20.968746",
     "exception": false,
     "start_time": "2022-05-29T06:12:19.822382",
     "status": "completed"
    },
    "tags": []
   },
   "outputs": [],
   "source": [
    "adf_result = pd.concat((\n",
    "    adf(cl_price['1983-04':'1994-11'], autolag='BIC').to_frame().T,\n",
    "    adf(ho_price['1983-04':'1994-11'], autolag='BIC').to_frame().T,\n",
    "    adf(xb_price['1984-12':'1994-11'], autolag='BIC').to_frame().T,\n",
    "))"
   ]
  },
  {
   "cell_type": "markdown",
   "id": "1396f87e",
   "metadata": {
    "papermill": {
     "duration": 0.034297,
     "end_time": "2022-05-29T06:12:21.044156",
     "exception": false,
     "start_time": "2022-05-29T06:12:21.009859",
     "status": "completed"
    },
    "tags": []
   },
   "source": [
    "In the ADF test, $H_0$ is that the time-series is non-stationary. Based on this result below, $H_0$ cannot be rejected for crude oil, however is rejected for heating oil and gasoline at the 10% and 5% level respectively.\n",
    "\n",
    "This is interesting because usually almost always asset prices are non-stationary."
   ]
  },
  {
   "cell_type": "code",
   "execution_count": 8,
   "id": "3655e953",
   "metadata": {
    "execution": {
     "iopub.execute_input": "2022-05-29T06:12:21.082318Z",
     "iopub.status.busy": "2022-05-29T06:12:21.082042Z",
     "iopub.status.idle": "2022-05-29T06:12:21.099628Z",
     "shell.execute_reply": "2022-05-29T06:12:21.099014Z"
    },
    "papermill": {
     "duration": 0.041302,
     "end_time": "2022-05-29T06:12:21.103157",
     "exception": false,
     "start_time": "2022-05-29T06:12:21.061855",
     "status": "completed"
    },
    "tags": []
   },
   "outputs": [
    {
     "data": {
      "text/html": [
       "<div>\n",
       "<style scoped>\n",
       "    .dataframe tbody tr th:only-of-type {\n",
       "        vertical-align: middle;\n",
       "    }\n",
       "\n",
       "    .dataframe tbody tr th {\n",
       "        vertical-align: top;\n",
       "    }\n",
       "\n",
       "    .dataframe thead th {\n",
       "        text-align: right;\n",
       "    }\n",
       "</style>\n",
       "<table border=\"1\" class=\"dataframe\">\n",
       "  <thead>\n",
       "    <tr style=\"text-align: right;\">\n",
       "      <th></th>\n",
       "      <th>adf</th>\n",
       "      <th>p_value</th>\n",
       "      <th>used_lag</th>\n",
       "      <th>n_obs</th>\n",
       "      <th>ci_0.01</th>\n",
       "      <th>ci_0.05</th>\n",
       "      <th>ci_0.1</th>\n",
       "      <th>ic_best</th>\n",
       "    </tr>\n",
       "  </thead>\n",
       "  <tbody>\n",
       "    <tr>\n",
       "      <th>Crude oil</th>\n",
       "      <td>-2.185213</td>\n",
       "      <td>0.211656</td>\n",
       "      <td>8.0</td>\n",
       "      <td>2924.0</td>\n",
       "      <td>-3.432588</td>\n",
       "      <td>-2.862529</td>\n",
       "      <td>-2.567296</td>\n",
       "      <td>4195.186424</td>\n",
       "    </tr>\n",
       "    <tr>\n",
       "      <th>Heating oil</th>\n",
       "      <td>-2.743636</td>\n",
       "      <td>0.066787</td>\n",
       "      <td>3.0</td>\n",
       "      <td>2929.0</td>\n",
       "      <td>-3.432585</td>\n",
       "      <td>-2.862527</td>\n",
       "      <td>-2.567296</td>\n",
       "      <td>-15763.929006</td>\n",
       "    </tr>\n",
       "    <tr>\n",
       "      <th>Gasoline</th>\n",
       "      <td>-3.003758</td>\n",
       "      <td>0.034545</td>\n",
       "      <td>3.0</td>\n",
       "      <td>2510.0</td>\n",
       "      <td>-3.432958</td>\n",
       "      <td>-2.862692</td>\n",
       "      <td>-2.567383</td>\n",
       "      <td>-14006.551367</td>\n",
       "    </tr>\n",
       "  </tbody>\n",
       "</table>\n",
       "</div>"
      ],
      "text/plain": [
       "                  adf   p_value  used_lag   n_obs   ci_0.01   ci_0.05  \\\n",
       "Crude oil   -2.185213  0.211656       8.0  2924.0 -3.432588 -2.862529   \n",
       "Heating oil -2.743636  0.066787       3.0  2929.0 -3.432585 -2.862527   \n",
       "Gasoline    -3.003758  0.034545       3.0  2510.0 -3.432958 -2.862692   \n",
       "\n",
       "               ci_0.1       ic_best  \n",
       "Crude oil   -2.567296   4195.186424  \n",
       "Heating oil -2.567296 -15763.929006  \n",
       "Gasoline    -2.567383 -14006.551367  "
      ]
     },
     "execution_count": 8,
     "metadata": {},
     "output_type": "execute_result"
    }
   ],
   "source": [
    "adf_result"
   ]
  },
  {
   "cell_type": "markdown",
   "id": "cb465c0a",
   "metadata": {
    "papermill": {
     "duration": 0.024793,
     "end_time": "2022-05-29T06:12:21.152980",
     "exception": false,
     "start_time": "2022-05-29T06:12:21.128187",
     "status": "completed"
    },
    "tags": []
   },
   "source": [
    "Probably it is to do with the sampling period. It may look a stationary process especially after 1986, however clearly it is heteroskedastic and the price move in 1986 seems like a shift in the level."
   ]
  },
  {
   "cell_type": "code",
   "execution_count": 9,
   "id": "11339aae",
   "metadata": {
    "execution": {
     "iopub.execute_input": "2022-05-29T06:12:21.196718Z",
     "iopub.status.busy": "2022-05-29T06:12:21.195890Z",
     "iopub.status.idle": "2022-05-29T06:12:21.763864Z",
     "shell.execute_reply": "2022-05-29T06:12:21.763247Z"
    },
    "papermill": {
     "duration": 0.595239,
     "end_time": "2022-05-29T06:12:21.767414",
     "exception": false,
     "start_time": "2022-05-29T06:12:21.172175",
     "status": "completed"
    },
    "tags": []
   },
   "outputs": [
    {
     "data": {
      "image/png": "[encoded data removed]",
      "text/plain": [
       "<Figure size 576x360 with 2 Axes>"
      ]
     },
     "metadata": {
      "needs_background": "light"
     },
     "output_type": "display_data"
    }
   ],
   "source": [
    "fig, ax = plt.subplots(figsize=(8, 5))\n",
    "pd.concat((\n",
    "    cl_price['1983-04':'1994-11'],\n",
    "    ho_price['1983-04':'1994-11'],\n",
    "    xb_price['1984-12':'1994-11'],\n",
    "), axis=1).plot(secondary_y=['Heating oil', 'Gasoline'], ax=ax);\n",
    "ax.set_title('Futures prices (generic 1st)');"
   ]
  },
  {
   "cell_type": "markdown",
   "id": "47068957",
   "metadata": {
    "papermill": {
     "duration": 0.016782,
     "end_time": "2022-05-29T06:12:21.806473",
     "exception": false,
     "start_time": "2022-05-29T06:12:21.789691",
     "status": "completed"
    },
    "tags": []
   },
   "source": [
    "In fact, in the long-run $H_0$ cannot be rejected for all contracts based on both BIC and AIC."
   ]
  },
  {
   "cell_type": "code",
   "execution_count": 10,
   "id": "47dcef74",
   "metadata": {
    "execution": {
     "iopub.execute_input": "2022-05-29T06:12:21.841974Z",
     "iopub.status.busy": "2022-05-29T06:12:21.841694Z",
     "iopub.status.idle": "2022-05-29T06:12:25.330270Z",
     "shell.execute_reply": "2022-05-29T06:12:25.329492Z"
    },
    "papermill": {
     "duration": 3.509684,
     "end_time": "2022-05-29T06:12:25.332892",
     "exception": false,
     "start_time": "2022-05-29T06:12:21.823208",
     "status": "completed"
    },
    "tags": []
   },
   "outputs": [
    {
     "data": {
      "text/html": [
       "<div>\n",
       "<style scoped>\n",
       "    .dataframe tbody tr th:only-of-type {\n",
       "        vertical-align: middle;\n",
       "    }\n",
       "\n",
       "    .dataframe tbody tr th {\n",
       "        vertical-align: top;\n",
       "    }\n",
       "\n",
       "    .dataframe thead th {\n",
       "        text-align: right;\n",
       "    }\n",
       "</style>\n",
       "<table border=\"1\" class=\"dataframe\">\n",
       "  <thead>\n",
       "    <tr style=\"text-align: right;\">\n",
       "      <th></th>\n",
       "      <th>adf</th>\n",
       "      <th>p_value</th>\n",
       "      <th>used_lag</th>\n",
       "      <th>n_obs</th>\n",
       "      <th>ci_0.01</th>\n",
       "      <th>ci_0.05</th>\n",
       "      <th>ci_0.1</th>\n",
       "      <th>ic_best</th>\n",
       "    </tr>\n",
       "  </thead>\n",
       "  <tbody>\n",
       "    <tr>\n",
       "      <th>Crude oil</th>\n",
       "      <td>-1.149035</td>\n",
       "      <td>0.695127</td>\n",
       "      <td>1.0</td>\n",
       "      <td>9835.0</td>\n",
       "      <td>-3.431015</td>\n",
       "      <td>-2.861834</td>\n",
       "      <td>-2.566926</td>\n",
       "      <td>30529.094502</td>\n",
       "    </tr>\n",
       "    <tr>\n",
       "      <th>Heating oil</th>\n",
       "      <td>-0.460714</td>\n",
       "      <td>0.899458</td>\n",
       "      <td>6.0</td>\n",
       "      <td>9831.0</td>\n",
       "      <td>-3.431015</td>\n",
       "      <td>-2.861834</td>\n",
       "      <td>-2.566927</td>\n",
       "      <td>-37995.149820</td>\n",
       "    </tr>\n",
       "    <tr>\n",
       "      <th>Gasoline</th>\n",
       "      <td>-0.822750</td>\n",
       "      <td>0.812348</td>\n",
       "      <td>0.0</td>\n",
       "      <td>9417.0</td>\n",
       "      <td>-3.431045</td>\n",
       "      <td>-2.861847</td>\n",
       "      <td>-2.566933</td>\n",
       "      <td>-36135.663416</td>\n",
       "    </tr>\n",
       "  </tbody>\n",
       "</table>\n",
       "</div>"
      ],
      "text/plain": [
       "                  adf   p_value  used_lag   n_obs   ci_0.01   ci_0.05  \\\n",
       "Crude oil   -1.149035  0.695127       1.0  9835.0 -3.431015 -2.861834   \n",
       "Heating oil -0.460714  0.899458       6.0  9831.0 -3.431015 -2.861834   \n",
       "Gasoline    -0.822750  0.812348       0.0  9417.0 -3.431045 -2.861847   \n",
       "\n",
       "               ci_0.1       ic_best  \n",
       "Crude oil   -2.566926  30529.094502  \n",
       "Heating oil -2.566927 -37995.149820  \n",
       "Gasoline    -2.566933 -36135.663416  "
      ]
     },
     "execution_count": 10,
     "metadata": {},
     "output_type": "execute_result"
    }
   ],
   "source": [
    "pd.concat((\n",
    "    adf(cl_price['1983-04':], autolag='BIC').to_frame().T,\n",
    "    adf(ho_price['1983-04':], autolag='BIC').to_frame().T,\n",
    "    adf(xb_price['1984-12':], autolag='BIC').to_frame().T,\n",
    "))"
   ]
  },
  {
   "cell_type": "code",
   "execution_count": 11,
   "id": "6cda4738",
   "metadata": {
    "execution": {
     "iopub.execute_input": "2022-05-29T06:12:25.385118Z",
     "iopub.status.busy": "2022-05-29T06:12:25.384788Z",
     "iopub.status.idle": "2022-05-29T06:12:31.969708Z",
     "shell.execute_reply": "2022-05-29T06:12:31.950314Z"
    },
    "papermill": {
     "duration": 6.619546,
     "end_time": "2022-05-29T06:12:31.977703",
     "exception": false,
     "start_time": "2022-05-29T06:12:25.358157",
     "status": "completed"
    },
    "tags": []
   },
   "outputs": [
    {
     "data": {
      "text/html": [
       "<div>\n",
       "<style scoped>\n",
       "    .dataframe tbody tr th:only-of-type {\n",
       "        vertical-align: middle;\n",
       "    }\n",
       "\n",
       "    .dataframe tbody tr th {\n",
       "        vertical-align: top;\n",
       "    }\n",
       "\n",
       "    .dataframe thead th {\n",
       "        text-align: right;\n",
       "    }\n",
       "</style>\n",
       "<table border=\"1\" class=\"dataframe\">\n",
       "  <thead>\n",
       "    <tr style=\"text-align: right;\">\n",
       "      <th></th>\n",
       "      <th>adf</th>\n",
       "      <th>p_value</th>\n",
       "      <th>used_lag</th>\n",
       "      <th>n_obs</th>\n",
       "      <th>ci_0.01</th>\n",
       "      <th>ci_0.05</th>\n",
       "      <th>ci_0.1</th>\n",
       "      <th>ic_best</th>\n",
       "    </tr>\n",
       "  </thead>\n",
       "  <tbody>\n",
       "    <tr>\n",
       "      <th>Crude oil</th>\n",
       "      <td>-1.647514</td>\n",
       "      <td>0.458337</td>\n",
       "      <td>32.0</td>\n",
       "      <td>9804.0</td>\n",
       "      <td>-3.431017</td>\n",
       "      <td>-2.861835</td>\n",
       "      <td>-2.566927</td>\n",
       "      <td>30444.697705</td>\n",
       "    </tr>\n",
       "    <tr>\n",
       "      <th>Heating oil</th>\n",
       "      <td>-1.035411</td>\n",
       "      <td>0.740131</td>\n",
       "      <td>35.0</td>\n",
       "      <td>9802.0</td>\n",
       "      <td>-3.431017</td>\n",
       "      <td>-2.861835</td>\n",
       "      <td>-2.566927</td>\n",
       "      <td>-38194.810757</td>\n",
       "    </tr>\n",
       "    <tr>\n",
       "      <th>Gasoline</th>\n",
       "      <td>-1.255231</td>\n",
       "      <td>0.649397</td>\n",
       "      <td>20.0</td>\n",
       "      <td>9397.0</td>\n",
       "      <td>-3.431046</td>\n",
       "      <td>-2.861848</td>\n",
       "      <td>-2.566934</td>\n",
       "      <td>-36170.027905</td>\n",
       "    </tr>\n",
       "  </tbody>\n",
       "</table>\n",
       "</div>"
      ],
      "text/plain": [
       "                  adf   p_value  used_lag   n_obs   ci_0.01   ci_0.05  \\\n",
       "Crude oil   -1.647514  0.458337      32.0  9804.0 -3.431017 -2.861835   \n",
       "Heating oil -1.035411  0.740131      35.0  9802.0 -3.431017 -2.861835   \n",
       "Gasoline    -1.255231  0.649397      20.0  9397.0 -3.431046 -2.861848   \n",
       "\n",
       "               ci_0.1       ic_best  \n",
       "Crude oil   -2.566927  30444.697705  \n",
       "Heating oil -2.566927 -38194.810757  \n",
       "Gasoline    -2.566934 -36170.027905  "
      ]
     },
     "execution_count": 11,
     "metadata": {},
     "output_type": "execute_result"
    }
   ],
   "source": [
    "pd.concat((\n",
    "    adf(cl_price['1983-04':], autolag='AIC').to_frame().T,\n",
    "    adf(ho_price['1983-04':], autolag='AIC').to_frame().T,\n",
    "    adf(xb_price['1984-12':], autolag='AIC').to_frame().T,\n",
    "))"
   ]
  },
  {
   "cell_type": "markdown",
   "id": "eda29bdf",
   "metadata": {
    "papermill": {
     "duration": 0.02192,
     "end_time": "2022-05-29T06:12:32.023170",
     "exception": false,
     "start_time": "2022-05-29T06:12:32.001250",
     "status": "completed"
    },
    "tags": []
   },
   "source": [
    "Test for two unit roots shows the $H_0$ is rejected for all assets so it would be safe to assume prices are all $I(1)$ processes."
   ]
  },
  {
   "cell_type": "code",
   "execution_count": 12,
   "id": "5cc64e78",
   "metadata": {
    "execution": {
     "iopub.execute_input": "2022-05-29T06:12:32.062535Z",
     "iopub.status.busy": "2022-05-29T06:12:32.062161Z",
     "iopub.status.idle": "2022-05-29T06:12:32.978282Z",
     "shell.execute_reply": "2022-05-29T06:12:32.976832Z"
    },
    "papermill": {
     "duration": 0.937456,
     "end_time": "2022-05-29T06:12:32.980784",
     "exception": false,
     "start_time": "2022-05-29T06:12:32.043328",
     "status": "completed"
    },
    "tags": []
   },
   "outputs": [
    {
     "data": {
      "text/html": [
       "<div>\n",
       "<style scoped>\n",
       "    .dataframe tbody tr th:only-of-type {\n",
       "        vertical-align: middle;\n",
       "    }\n",
       "\n",
       "    .dataframe tbody tr th {\n",
       "        vertical-align: top;\n",
       "    }\n",
       "\n",
       "    .dataframe thead th {\n",
       "        text-align: right;\n",
       "    }\n",
       "</style>\n",
       "<table border=\"1\" class=\"dataframe\">\n",
       "  <thead>\n",
       "    <tr style=\"text-align: right;\">\n",
       "      <th></th>\n",
       "      <th>adf</th>\n",
       "      <th>p_value</th>\n",
       "      <th>used_lag</th>\n",
       "      <th>n_obs</th>\n",
       "      <th>ci_0.01</th>\n",
       "      <th>ci_0.05</th>\n",
       "      <th>ci_0.1</th>\n",
       "      <th>ic_best</th>\n",
       "    </tr>\n",
       "  </thead>\n",
       "  <tbody>\n",
       "    <tr>\n",
       "      <th>Crude oil</th>\n",
       "      <td>-22.609167</td>\n",
       "      <td>0.0</td>\n",
       "      <td>7.0</td>\n",
       "      <td>2924.0</td>\n",
       "      <td>-3.432588</td>\n",
       "      <td>-2.862529</td>\n",
       "      <td>-2.567296</td>\n",
       "      <td>4191.382386</td>\n",
       "    </tr>\n",
       "    <tr>\n",
       "      <th>Heating oil</th>\n",
       "      <td>-23.732562</td>\n",
       "      <td>0.0</td>\n",
       "      <td>7.0</td>\n",
       "      <td>2924.0</td>\n",
       "      <td>-3.432588</td>\n",
       "      <td>-2.862529</td>\n",
       "      <td>-2.567296</td>\n",
       "      <td>-15759.438574</td>\n",
       "    </tr>\n",
       "    <tr>\n",
       "      <th>Gasoline</th>\n",
       "      <td>-31.046797</td>\n",
       "      <td>0.0</td>\n",
       "      <td>2.0</td>\n",
       "      <td>2510.0</td>\n",
       "      <td>-3.432958</td>\n",
       "      <td>-2.862692</td>\n",
       "      <td>-2.567383</td>\n",
       "      <td>-13998.959272</td>\n",
       "    </tr>\n",
       "  </tbody>\n",
       "</table>\n",
       "</div>"
      ],
      "text/plain": [
       "                   adf  p_value  used_lag   n_obs   ci_0.01   ci_0.05  \\\n",
       "Crude oil   -22.609167      0.0       7.0  2924.0 -3.432588 -2.862529   \n",
       "Heating oil -23.732562      0.0       7.0  2924.0 -3.432588 -2.862529   \n",
       "Gasoline    -31.046797      0.0       2.0  2510.0 -3.432958 -2.862692   \n",
       "\n",
       "               ci_0.1       ic_best  \n",
       "Crude oil   -2.567296   4191.382386  \n",
       "Heating oil -2.567296 -15759.438574  \n",
       "Gasoline    -2.567383 -13998.959272  "
      ]
     },
     "execution_count": 12,
     "metadata": {},
     "output_type": "execute_result"
    }
   ],
   "source": [
    "pd.concat((\n",
    "    adf(cl_price['1983-04':'1994-11'].diff().dropna(), autolag='BIC').to_frame().T,\n",
    "    adf(ho_price['1983-04':'1994-11'].diff().dropna(), autolag='BIC').to_frame().T,\n",
    "    adf(xb_price['1984-12':'1994-11'].diff().dropna(), autolag='BIC').to_frame().T,\n",
    "))"
   ]
  },
  {
   "cell_type": "markdown",
   "id": "5443698a",
   "metadata": {
    "papermill": {
     "duration": 0.036793,
     "end_time": "2022-05-29T06:12:33.047062",
     "exception": false,
     "start_time": "2022-05-29T06:12:33.010269",
     "status": "completed"
    },
    "tags": []
   },
   "source": [
    "## Engle-Granger test\n",
    "\n",
    "Next, let's check if the crack spread is cointegrated. The cointegration vector is estimated by OLS and the stationarity of the residual is tested with the ADF test.\n",
    "The test is done by the `coint` function in `statsmodels`. (cf. https://www.statsmodels.org/dev/generated/statsmodels.tsa.stattools.coint.html)"
   ]
  },
  {
   "cell_type": "code",
   "execution_count": 13,
   "id": "15663029",
   "metadata": {
    "execution": {
     "iopub.execute_input": "2022-05-29T06:12:33.104945Z",
     "iopub.status.busy": "2022-05-29T06:12:33.104549Z",
     "iopub.status.idle": "2022-05-29T06:12:33.122715Z",
     "shell.execute_reply": "2022-05-29T06:12:33.121702Z"
    },
    "papermill": {
     "duration": 0.046832,
     "end_time": "2022-05-29T06:12:33.125462",
     "exception": false,
     "start_time": "2022-05-29T06:12:33.078630",
     "status": "completed"
    },
    "tags": []
   },
   "outputs": [],
   "source": [
    "price_concat = pd.concat((\n",
    "    cl_price,\n",
    "    ho_price,\n",
    "    xb_price,\n",
    "), axis=1).fillna(method='pad').dropna()"
   ]
  },
  {
   "cell_type": "code",
   "execution_count": 14,
   "id": "cf731a5e",
   "metadata": {
    "execution": {
     "iopub.execute_input": "2022-05-29T06:12:33.174938Z",
     "iopub.status.busy": "2022-05-29T06:12:33.174142Z",
     "iopub.status.idle": "2022-05-29T06:12:33.180363Z",
     "shell.execute_reply": "2022-05-29T06:12:33.179635Z"
    },
    "papermill": {
     "duration": 0.033655,
     "end_time": "2022-05-29T06:12:33.182661",
     "exception": false,
     "start_time": "2022-05-29T06:12:33.149006",
     "status": "completed"
    },
    "tags": []
   },
   "outputs": [],
   "source": [
    "def coint(y: pd.Series, x: pd.DataFrame) -> pd.Series:\n",
    "    \"\"\" Run the cointegration test and return a cleaned result \"\"\"\n",
    "    result = sm.tsa.stattools.coint(y, x)\n",
    "    cleaned = {\n",
    "        't_value': result[0],\n",
    "        'p_value': result[1],\n",
    "        'ci_0.01': result[2][0],\n",
    "        'ci_0.05': result[2][1],\n",
    "        'ci_0.1': result[2][2],\n",
    "    }\n",
    "    return pd.Series(cleaned)"
   ]
  },
  {
   "cell_type": "code",
   "execution_count": 15,
   "id": "4299196b",
   "metadata": {
    "execution": {
     "iopub.execute_input": "2022-05-29T06:12:33.226014Z",
     "iopub.status.busy": "2022-05-29T06:12:33.225681Z",
     "iopub.status.idle": "2022-05-29T06:12:37.160433Z",
     "shell.execute_reply": "2022-05-29T06:12:37.159751Z"
    },
    "papermill": {
     "duration": 3.956397,
     "end_time": "2022-05-29T06:12:37.163010",
     "exception": false,
     "start_time": "2022-05-29T06:12:33.206613",
     "status": "completed"
    },
    "tags": []
   },
   "outputs": [],
   "source": [
    "coint_result = pd.concat((\n",
    "    coint(\n",
    "        price_concat.loc[:'1994-11', 'Crude oil'],\n",
    "        price_concat.loc[:'1994-11', ['Heating oil', 'Gasoline']]\n",
    "    ).to_frame('CL vs HO + XB').T,\n",
    "    coint(\n",
    "        price_concat.loc[:'1994-11', 'Crude oil'],\n",
    "        price_concat.loc[:'1994-11', ['Gasoline']]\n",
    "    ).to_frame('CL vs XB').T,\n",
    "    coint(\n",
    "        price_concat.loc[:'1994-11', 'Crude oil'],\n",
    "        price_concat.loc[:'1994-11', ['Heating oil']]\n",
    "    ).to_frame('CL vs HO').T,\n",
    "))"
   ]
  },
  {
   "cell_type": "markdown",
   "id": "ea294ded",
   "metadata": {
    "papermill": {
     "duration": 0.063052,
     "end_time": "2022-05-29T06:12:37.252068",
     "exception": false,
     "start_time": "2022-05-29T06:12:37.189016",
     "status": "completed"
    },
    "tags": []
   },
   "source": [
    "The $H_0$ is that there is no cointegration. As per GP1999, all three crack spreads are cointegrated. "
   ]
  },
  {
   "cell_type": "code",
   "execution_count": 16,
   "id": "1824345d",
   "metadata": {
    "execution": {
     "iopub.execute_input": "2022-05-29T06:12:37.305643Z",
     "iopub.status.busy": "2022-05-29T06:12:37.305096Z",
     "iopub.status.idle": "2022-05-29T06:12:37.321447Z",
     "shell.execute_reply": "2022-05-29T06:12:37.320607Z"
    },
    "papermill": {
     "duration": 0.046368,
     "end_time": "2022-05-29T06:12:37.324438",
     "exception": false,
     "start_time": "2022-05-29T06:12:37.278070",
     "status": "completed"
    },
    "tags": []
   },
   "outputs": [
    {
     "data": {
      "text/html": [
       "<div>\n",
       "<style scoped>\n",
       "    .dataframe tbody tr th:only-of-type {\n",
       "        vertical-align: middle;\n",
       "    }\n",
       "\n",
       "    .dataframe tbody tr th {\n",
       "        vertical-align: top;\n",
       "    }\n",
       "\n",
       "    .dataframe thead th {\n",
       "        text-align: right;\n",
       "    }\n",
       "</style>\n",
       "<table border=\"1\" class=\"dataframe\">\n",
       "  <thead>\n",
       "    <tr style=\"text-align: right;\">\n",
       "      <th></th>\n",
       "      <th>t_value</th>\n",
       "      <th>p_value</th>\n",
       "      <th>ci_0.01</th>\n",
       "      <th>ci_0.05</th>\n",
       "      <th>ci_0.1</th>\n",
       "    </tr>\n",
       "  </thead>\n",
       "  <tbody>\n",
       "    <tr>\n",
       "      <th>CL vs HO + XB</th>\n",
       "      <td>-6.110715</td>\n",
       "      <td>0.000005</td>\n",
       "      <td>-4.299485</td>\n",
       "      <td>-3.744067</td>\n",
       "      <td>-3.454651</td>\n",
       "    </tr>\n",
       "    <tr>\n",
       "      <th>CL vs XB</th>\n",
       "      <td>-5.762029</td>\n",
       "      <td>0.000005</td>\n",
       "      <td>-3.900800</td>\n",
       "      <td>-3.338561</td>\n",
       "      <td>-3.046137</td>\n",
       "    </tr>\n",
       "    <tr>\n",
       "      <th>CL vs HO</th>\n",
       "      <td>-5.708354</td>\n",
       "      <td>0.000007</td>\n",
       "      <td>-3.900800</td>\n",
       "      <td>-3.338561</td>\n",
       "      <td>-3.046137</td>\n",
       "    </tr>\n",
       "  </tbody>\n",
       "</table>\n",
       "</div>"
      ],
      "text/plain": [
       "                t_value   p_value   ci_0.01   ci_0.05    ci_0.1\n",
       "CL vs HO + XB -6.110715  0.000005 -4.299485 -3.744067 -3.454651\n",
       "CL vs XB      -5.762029  0.000005 -3.900800 -3.338561 -3.046137\n",
       "CL vs HO      -5.708354  0.000007 -3.900800 -3.338561 -3.046137"
      ]
     },
     "execution_count": 16,
     "metadata": {},
     "output_type": "execute_result"
    }
   ],
   "source": [
    "coint_result"
   ]
  },
  {
   "cell_type": "markdown",
   "id": "2f816c06",
   "metadata": {
    "papermill": {
     "duration": 0.019441,
     "end_time": "2022-05-29T06:12:37.362934",
     "exception": false,
     "start_time": "2022-05-29T06:12:37.343493",
     "status": "completed"
    },
    "tags": []
   },
   "source": [
    "This seems to hold with the full sample."
   ]
  },
  {
   "cell_type": "code",
   "execution_count": 17,
   "id": "467771dc",
   "metadata": {
    "execution": {
     "iopub.execute_input": "2022-05-29T06:12:37.409021Z",
     "iopub.status.busy": "2022-05-29T06:12:37.408705Z",
     "iopub.status.idle": "2022-05-29T06:12:46.428939Z",
     "shell.execute_reply": "2022-05-29T06:12:46.428115Z"
    },
    "papermill": {
     "duration": 9.046668,
     "end_time": "2022-05-29T06:12:46.431387",
     "exception": false,
     "start_time": "2022-05-29T06:12:37.384719",
     "status": "completed"
    },
    "tags": []
   },
   "outputs": [
    {
     "data": {
      "text/html": [
       "<div>\n",
       "<style scoped>\n",
       "    .dataframe tbody tr th:only-of-type {\n",
       "        vertical-align: middle;\n",
       "    }\n",
       "\n",
       "    .dataframe tbody tr th {\n",
       "        vertical-align: top;\n",
       "    }\n",
       "\n",
       "    .dataframe thead th {\n",
       "        text-align: right;\n",
       "    }\n",
       "</style>\n",
       "<table border=\"1\" class=\"dataframe\">\n",
       "  <thead>\n",
       "    <tr style=\"text-align: right;\">\n",
       "      <th></th>\n",
       "      <th>t_value</th>\n",
       "      <th>p_value</th>\n",
       "      <th>ci_0.01</th>\n",
       "      <th>ci_0.05</th>\n",
       "      <th>ci_0.1</th>\n",
       "    </tr>\n",
       "  </thead>\n",
       "  <tbody>\n",
       "    <tr>\n",
       "      <th>CL vs HO + XB</th>\n",
       "      <td>-4.369879</td>\n",
       "      <td>7.807332e-03</td>\n",
       "      <td>-4.295273</td>\n",
       "      <td>-3.741569</td>\n",
       "      <td>-3.45284</td>\n",
       "    </tr>\n",
       "    <tr>\n",
       "      <th>CL vs XB</th>\n",
       "      <td>-6.183003</td>\n",
       "      <td>6.474291e-07</td>\n",
       "      <td>-3.897603</td>\n",
       "      <td>-3.336779</td>\n",
       "      <td>-3.04490</td>\n",
       "    </tr>\n",
       "    <tr>\n",
       "      <th>CL vs HO</th>\n",
       "      <td>-4.902039</td>\n",
       "      <td>2.482441e-04</td>\n",
       "      <td>-3.897603</td>\n",
       "      <td>-3.336779</td>\n",
       "      <td>-3.04490</td>\n",
       "    </tr>\n",
       "  </tbody>\n",
       "</table>\n",
       "</div>"
      ],
      "text/plain": [
       "                t_value       p_value   ci_0.01   ci_0.05   ci_0.1\n",
       "CL vs HO + XB -4.369879  7.807332e-03 -4.295273 -3.741569 -3.45284\n",
       "CL vs XB      -6.183003  6.474291e-07 -3.897603 -3.336779 -3.04490\n",
       "CL vs HO      -4.902039  2.482441e-04 -3.897603 -3.336779 -3.04490"
      ]
     },
     "execution_count": 17,
     "metadata": {},
     "output_type": "execute_result"
    }
   ],
   "source": [
    "pd.concat((\n",
    "    coint(\n",
    "        price_concat.loc[:, 'Crude oil'],\n",
    "        price_concat.loc[:, ['Heating oil', 'Gasoline']]\n",
    "    ).to_frame('CL vs HO + XB').T,\n",
    "    coint(\n",
    "        price_concat.loc[:, 'Crude oil'],\n",
    "        price_concat.loc[:, ['Gasoline']]\n",
    "    ).to_frame('CL vs XB').T,\n",
    "    coint(\n",
    "        price_concat.loc[:, 'Crude oil'],\n",
    "        price_concat.loc[:, ['Heating oil']]\n",
    "    ).to_frame('CL vs HO').T,\n",
    "))"
   ]
  },
  {
   "cell_type": "markdown",
   "id": "9107b072",
   "metadata": {
    "papermill": {
     "duration": 0.0174,
     "end_time": "2022-05-29T06:12:46.494354",
     "exception": false,
     "start_time": "2022-05-29T06:12:46.476954",
     "status": "completed"
    },
    "tags": []
   },
   "source": [
    "However the confidence level is somewhat weakend with recent data although they are at least still cointegrated at the 5% level."
   ]
  },
  {
   "cell_type": "code",
   "execution_count": 18,
   "id": "3898183b",
   "metadata": {
    "execution": {
     "iopub.execute_input": "2022-05-29T06:12:46.532052Z",
     "iopub.status.busy": "2022-05-29T06:12:46.531652Z",
     "iopub.status.idle": "2022-05-29T06:12:48.542265Z",
     "shell.execute_reply": "2022-05-29T06:12:48.540691Z"
    },
    "papermill": {
     "duration": 2.034396,
     "end_time": "2022-05-29T06:12:48.546086",
     "exception": false,
     "start_time": "2022-05-29T06:12:46.511690",
     "status": "completed"
    },
    "tags": []
   },
   "outputs": [
    {
     "data": {
      "text/html": [
       "<div>\n",
       "<style scoped>\n",
       "    .dataframe tbody tr th:only-of-type {\n",
       "        vertical-align: middle;\n",
       "    }\n",
       "\n",
       "    .dataframe tbody tr th {\n",
       "        vertical-align: top;\n",
       "    }\n",
       "\n",
       "    .dataframe thead th {\n",
       "        text-align: right;\n",
       "    }\n",
       "</style>\n",
       "<table border=\"1\" class=\"dataframe\">\n",
       "  <thead>\n",
       "    <tr style=\"text-align: right;\">\n",
       "      <th></th>\n",
       "      <th>t_value</th>\n",
       "      <th>p_value</th>\n",
       "      <th>ci_0.01</th>\n",
       "      <th>ci_0.05</th>\n",
       "      <th>ci_0.1</th>\n",
       "    </tr>\n",
       "  </thead>\n",
       "  <tbody>\n",
       "    <tr>\n",
       "      <th>CL vs HO + XB</th>\n",
       "      <td>-3.514384</td>\n",
       "      <td>0.086870</td>\n",
       "      <td>-4.298363</td>\n",
       "      <td>-3.743401</td>\n",
       "      <td>-3.454169</td>\n",
       "    </tr>\n",
       "    <tr>\n",
       "      <th>CL vs XB</th>\n",
       "      <td>-4.154223</td>\n",
       "      <td>0.004275</td>\n",
       "      <td>-3.899948</td>\n",
       "      <td>-3.338086</td>\n",
       "      <td>-3.045807</td>\n",
       "    </tr>\n",
       "    <tr>\n",
       "      <th>CL vs HO</th>\n",
       "      <td>-3.980036</td>\n",
       "      <td>0.007666</td>\n",
       "      <td>-3.899948</td>\n",
       "      <td>-3.338086</td>\n",
       "      <td>-3.045807</td>\n",
       "    </tr>\n",
       "  </tbody>\n",
       "</table>\n",
       "</div>"
      ],
      "text/plain": [
       "                t_value   p_value   ci_0.01   ci_0.05    ci_0.1\n",
       "CL vs HO + XB -3.514384  0.086870 -4.298363 -3.743401 -3.454169\n",
       "CL vs XB      -4.154223  0.004275 -3.899948 -3.338086 -3.045807\n",
       "CL vs HO      -3.980036  0.007666 -3.899948 -3.338086 -3.045807"
      ]
     },
     "execution_count": 18,
     "metadata": {},
     "output_type": "execute_result"
    }
   ],
   "source": [
    "pd.concat((\n",
    "    coint(\n",
    "        price_concat.loc['2010':, 'Crude oil'],\n",
    "        price_concat.loc['2010':, ['Heating oil', 'Gasoline']]\n",
    "    ).to_frame('CL vs HO + XB').T,\n",
    "    coint(\n",
    "        price_concat.loc['2010':, 'Crude oil'],\n",
    "        price_concat.loc['2010':, ['Gasoline']]\n",
    "    ).to_frame('CL vs XB').T,\n",
    "    coint(\n",
    "        price_concat.loc['2010':, 'Crude oil'],\n",
    "        price_concat.loc['2010':, ['Heating oil']]\n",
    "    ).to_frame('CL vs HO').T,\n",
    "))"
   ]
  },
  {
   "cell_type": "markdown",
   "id": "f22325d0",
   "metadata": {
    "papermill": {
     "duration": 0.020021,
     "end_time": "2022-05-29T06:12:48.588762",
     "exception": false,
     "start_time": "2022-05-29T06:12:48.568741",
     "status": "completed"
    },
    "tags": []
   },
   "source": [
    "## Crack spreads\n",
    "\n",
    "Additionally, GP1999 tests the stationarity of the popularly traded crack spread -- 3:2:1 crack spread (CS), 1:1:0 gasoline crack spread (GCS) and 1:0:1 heating oil crack spread (HOCS).\n",
    "\n",
    "Note that the crude oil contract is priced in barrels while the other two are priced in gallon, and there are 42 gallons per 1 barrel. Some unit conversions are required to calculate such spreads."
   ]
  },
  {
   "cell_type": "code",
   "execution_count": 19,
   "id": "015bb3e9",
   "metadata": {
    "execution": {
     "iopub.execute_input": "2022-05-29T06:12:48.640250Z",
     "iopub.status.busy": "2022-05-29T06:12:48.639898Z",
     "iopub.status.idle": "2022-05-29T06:12:48.648499Z",
     "shell.execute_reply": "2022-05-29T06:12:48.647879Z"
    },
    "papermill": {
     "duration": 0.035903,
     "end_time": "2022-05-29T06:12:48.650188",
     "exception": false,
     "start_time": "2022-05-29T06:12:48.614285",
     "status": "completed"
    },
    "tags": []
   },
   "outputs": [],
   "source": [
    "cs = (price_concat['Heating oil'].mul(42).mul(2 / 3) + \n",
    "      price_concat['Gasoline'].mul(42).mul(1 / 3) - \n",
    "      price_concat['Crude oil'])\n",
    "gcs = (price_concat['Gasoline'].mul(42) - \n",
    "       price_concat['Crude oil'])\n",
    "hocs = (price_concat['Heating oil'].mul(42) - \n",
    "        price_concat['Crude oil'])"
   ]
  },
  {
   "cell_type": "markdown",
   "id": "6608463f",
   "metadata": {
    "papermill": {
     "duration": 0.024226,
     "end_time": "2022-05-29T06:12:48.693918",
     "exception": false,
     "start_time": "2022-05-29T06:12:48.669692",
     "status": "completed"
    },
    "tags": []
   },
   "source": [
    "As can be seen visually below, these spreads appear stationary until around 2000 after which they started to drift away from a certain level. This could be related to the financialisation of commodities. There are some evidence suggesting that index investments and speculative trades influence the commodity markets. (cf https://www.ecb.europa.eu/pub/financial-stability/fsr/focus/2011/pdf/ecb~6fdfdfce1c.fsrbox201112_04.pdf)"
   ]
  },
  {
   "cell_type": "code",
   "execution_count": 20,
   "id": "0b27db24",
   "metadata": {
    "execution": {
     "iopub.execute_input": "2022-05-29T06:12:48.749010Z",
     "iopub.status.busy": "2022-05-29T06:12:48.748183Z",
     "iopub.status.idle": "2022-05-29T06:12:49.619485Z",
     "shell.execute_reply": "2022-05-29T06:12:49.618688Z"
    },
    "papermill": {
     "duration": 0.901934,
     "end_time": "2022-05-29T06:12:49.622218",
     "exception": false,
     "start_time": "2022-05-29T06:12:48.720284",
     "status": "completed"
    },
    "tags": []
   },
   "outputs": [
    {
     "data": {
      "image/png": "[encoded data removed]",
      "text/plain": [
       "<Figure size 864x288 with 3 Axes>"
      ]
     },
     "metadata": {
      "needs_background": "light"
     },
     "output_type": "display_data"
    }
   ],
   "source": [
    "fig, ax = plt.subplots(1, 3, figsize=(12, 4), sharey=True)\n",
    "cs.plot(ax=ax[0])\n",
    "gcs.plot(ax=ax[1])\n",
    "hocs.plot(ax=ax[2])\n",
    "\n",
    "ax[0].set_title('3:2:1 crack spread')\n",
    "ax[1].set_title('1:1:0 gasoline crack spread')\n",
    "ax[2].set_title('1:0:1 heating oil crack spread')\n",
    "ax[0].set_ylabel('Crack spread ($)')\n",
    "\n",
    "fig.tight_layout();"
   ]
  },
  {
   "cell_type": "markdown",
   "id": "ddba6b40",
   "metadata": {
    "papermill": {
     "duration": 0.026492,
     "end_time": "2022-05-29T06:12:49.675496",
     "exception": false,
     "start_time": "2022-05-29T06:12:49.649004",
     "status": "completed"
    },
    "tags": []
   },
   "source": [
    "More formally, the ADF tests below show that they were stationary until Nov-1994."
   ]
  },
  {
   "cell_type": "code",
   "execution_count": 21,
   "id": "bd58dd0b",
   "metadata": {
    "execution": {
     "iopub.execute_input": "2022-05-29T06:12:49.730368Z",
     "iopub.status.busy": "2022-05-29T06:12:49.730083Z",
     "iopub.status.idle": "2022-05-29T06:12:50.734079Z",
     "shell.execute_reply": "2022-05-29T06:12:50.733355Z"
    },
    "papermill": {
     "duration": 1.034597,
     "end_time": "2022-05-29T06:12:50.736623",
     "exception": false,
     "start_time": "2022-05-29T06:12:49.702026",
     "status": "completed"
    },
    "tags": []
   },
   "outputs": [
    {
     "data": {
      "text/html": [
       "<div>\n",
       "<style scoped>\n",
       "    .dataframe tbody tr th:only-of-type {\n",
       "        vertical-align: middle;\n",
       "    }\n",
       "\n",
       "    .dataframe tbody tr th {\n",
       "        vertical-align: top;\n",
       "    }\n",
       "\n",
       "    .dataframe thead th {\n",
       "        text-align: right;\n",
       "    }\n",
       "</style>\n",
       "<table border=\"1\" class=\"dataframe\">\n",
       "  <thead>\n",
       "    <tr style=\"text-align: right;\">\n",
       "      <th></th>\n",
       "      <th>adf</th>\n",
       "      <th>p_value</th>\n",
       "      <th>used_lag</th>\n",
       "      <th>n_obs</th>\n",
       "      <th>ci_0.01</th>\n",
       "      <th>ci_0.05</th>\n",
       "      <th>ci_0.1</th>\n",
       "      <th>ic_best</th>\n",
       "    </tr>\n",
       "  </thead>\n",
       "  <tbody>\n",
       "    <tr>\n",
       "      <th>0</th>\n",
       "      <td>-7.926287</td>\n",
       "      <td>3.611421e-12</td>\n",
       "      <td>0.0</td>\n",
       "      <td>2515.0</td>\n",
       "      <td>-3.432953</td>\n",
       "      <td>-2.86269</td>\n",
       "      <td>-2.567382</td>\n",
       "      <td>1757.165999</td>\n",
       "    </tr>\n",
       "    <tr>\n",
       "      <th>0</th>\n",
       "      <td>-5.640046</td>\n",
       "      <td>1.041538e-06</td>\n",
       "      <td>1.0</td>\n",
       "      <td>2514.0</td>\n",
       "      <td>-3.432954</td>\n",
       "      <td>-2.86269</td>\n",
       "      <td>-2.567382</td>\n",
       "      <td>2505.871051</td>\n",
       "    </tr>\n",
       "    <tr>\n",
       "      <th>0</th>\n",
       "      <td>-6.999952</td>\n",
       "      <td>7.365777e-10</td>\n",
       "      <td>0.0</td>\n",
       "      <td>2515.0</td>\n",
       "      <td>-3.432953</td>\n",
       "      <td>-2.86269</td>\n",
       "      <td>-2.567382</td>\n",
       "      <td>2815.457971</td>\n",
       "    </tr>\n",
       "  </tbody>\n",
       "</table>\n",
       "</div>"
      ],
      "text/plain": [
       "        adf       p_value  used_lag   n_obs   ci_0.01  ci_0.05    ci_0.1  \\\n",
       "0 -7.926287  3.611421e-12       0.0  2515.0 -3.432953 -2.86269 -2.567382   \n",
       "0 -5.640046  1.041538e-06       1.0  2514.0 -3.432954 -2.86269 -2.567382   \n",
       "0 -6.999952  7.365777e-10       0.0  2515.0 -3.432953 -2.86269 -2.567382   \n",
       "\n",
       "       ic_best  \n",
       "0  1757.165999  \n",
       "0  2505.871051  \n",
       "0  2815.457971  "
      ]
     },
     "execution_count": 21,
     "metadata": {},
     "output_type": "execute_result"
    }
   ],
   "source": [
    "pd.concat((\n",
    "    adf(cs[:'1994-11'], autolag='BIC').to_frame().T,\n",
    "    adf(gcs[:'1994-11'], autolag='BIC').to_frame().T,\n",
    "    adf(hocs[:'1994-11'], autolag='BIC').to_frame().T,\n",
    "))"
   ]
  },
  {
   "cell_type": "markdown",
   "id": "6e2c8692",
   "metadata": {
    "papermill": {
     "duration": 0.02939,
     "end_time": "2022-05-29T06:12:50.795367",
     "exception": false,
     "start_time": "2022-05-29T06:12:50.765977",
     "status": "completed"
    },
    "tags": []
   },
   "source": [
    "Statistically though these spreads are still stationary at the 1% confidence level even after 2000."
   ]
  },
  {
   "cell_type": "code",
   "execution_count": 22,
   "id": "d3f9d7a9",
   "metadata": {
    "execution": {
     "iopub.execute_input": "2022-05-29T06:12:50.852861Z",
     "iopub.status.busy": "2022-05-29T06:12:50.852463Z",
     "iopub.status.idle": "2022-05-29T06:12:52.158790Z",
     "shell.execute_reply": "2022-05-29T06:12:52.157790Z"
    },
    "papermill": {
     "duration": 1.339058,
     "end_time": "2022-05-29T06:12:52.161278",
     "exception": false,
     "start_time": "2022-05-29T06:12:50.822220",
     "status": "completed"
    },
    "tags": []
   },
   "outputs": [
    {
     "data": {
      "text/html": [
       "<div>\n",
       "<style scoped>\n",
       "    .dataframe tbody tr th:only-of-type {\n",
       "        vertical-align: middle;\n",
       "    }\n",
       "\n",
       "    .dataframe tbody tr th {\n",
       "        vertical-align: top;\n",
       "    }\n",
       "\n",
       "    .dataframe thead th {\n",
       "        text-align: right;\n",
       "    }\n",
       "</style>\n",
       "<table border=\"1\" class=\"dataframe\">\n",
       "  <thead>\n",
       "    <tr style=\"text-align: right;\">\n",
       "      <th></th>\n",
       "      <th>adf</th>\n",
       "      <th>p_value</th>\n",
       "      <th>used_lag</th>\n",
       "      <th>n_obs</th>\n",
       "      <th>ci_0.01</th>\n",
       "      <th>ci_0.05</th>\n",
       "      <th>ci_0.1</th>\n",
       "      <th>ic_best</th>\n",
       "    </tr>\n",
       "  </thead>\n",
       "  <tbody>\n",
       "    <tr>\n",
       "      <th>0</th>\n",
       "      <td>-2.542331</td>\n",
       "      <td>0.105512</td>\n",
       "      <td>2.0</td>\n",
       "      <td>5625.0</td>\n",
       "      <td>-3.431513</td>\n",
       "      <td>-2.862054</td>\n",
       "      <td>-2.567044</td>\n",
       "      <td>15443.661788</td>\n",
       "    </tr>\n",
       "    <tr>\n",
       "      <th>0</th>\n",
       "      <td>-4.240866</td>\n",
       "      <td>0.000561</td>\n",
       "      <td>0.0</td>\n",
       "      <td>5627.0</td>\n",
       "      <td>-3.431513</td>\n",
       "      <td>-2.862054</td>\n",
       "      <td>-2.567043</td>\n",
       "      <td>17770.789741</td>\n",
       "    </tr>\n",
       "    <tr>\n",
       "      <th>0</th>\n",
       "      <td>-1.933179</td>\n",
       "      <td>0.316617</td>\n",
       "      <td>10.0</td>\n",
       "      <td>5617.0</td>\n",
       "      <td>-3.431515</td>\n",
       "      <td>-2.862055</td>\n",
       "      <td>-2.567044</td>\n",
       "      <td>17353.979160</td>\n",
       "    </tr>\n",
       "  </tbody>\n",
       "</table>\n",
       "</div>"
      ],
      "text/plain": [
       "        adf   p_value  used_lag   n_obs   ci_0.01   ci_0.05    ci_0.1  \\\n",
       "0 -2.542331  0.105512       2.0  5625.0 -3.431513 -2.862054 -2.567044   \n",
       "0 -4.240866  0.000561       0.0  5627.0 -3.431513 -2.862054 -2.567043   \n",
       "0 -1.933179  0.316617      10.0  5617.0 -3.431515 -2.862055 -2.567044   \n",
       "\n",
       "        ic_best  \n",
       "0  15443.661788  \n",
       "0  17770.789741  \n",
       "0  17353.979160  "
      ]
     },
     "execution_count": 22,
     "metadata": {},
     "output_type": "execute_result"
    }
   ],
   "source": [
    "pd.concat((\n",
    "    adf(cs['2000':], autolag='BIC').to_frame().T,\n",
    "    adf(gcs['2000':], autolag='BIC').to_frame().T,\n",
    "    adf(hocs['2000':], autolag='BIC').to_frame().T,\n",
    "))"
   ]
  },
  {
   "cell_type": "markdown",
   "id": "eb6c197c",
   "metadata": {
    "papermill": {
     "duration": 0.033159,
     "end_time": "2022-05-29T06:12:52.229038",
     "exception": false,
     "start_time": "2022-05-29T06:12:52.195879",
     "status": "completed"
    },
    "tags": []
   },
   "source": [
    "# Backtest"
   ]
  },
  {
   "cell_type": "markdown",
   "id": "4bbb1506",
   "metadata": {
    "papermill": {
     "duration": 0.030801,
     "end_time": "2022-05-29T06:12:52.291669",
     "exception": false,
     "start_time": "2022-05-29T06:12:52.260868",
     "status": "completed"
    },
    "tags": []
   },
   "source": [
    "It's not entirely clear how many back contracts are used in the original analysis as they only mentioned they used *all spreads*. In this notebook, the first 6 contracts are used for the sake of simplicity. Beyond 6, there tends to be more missing prices because of inactivity.\n",
    "\n",
    "In practice, one might want to consider liquidity of each contract to decide which one to trade as not all contract months have the same liquidity. In the case of crude oil, after certain points only June and December contracts are actually traded even though other months are listed."
   ]
  },
  {
   "cell_type": "code",
   "execution_count": 23,
   "id": "4aebb8bd",
   "metadata": {
    "execution": {
     "iopub.execute_input": "2022-05-29T06:12:52.410683Z",
     "iopub.status.busy": "2022-05-29T06:12:52.410129Z",
     "iopub.status.idle": "2022-05-29T06:12:53.593400Z",
     "shell.execute_reply": "2022-05-29T06:12:53.592650Z"
    },
    "papermill": {
     "duration": 1.233326,
     "end_time": "2022-05-29T06:12:53.595698",
     "exception": false,
     "start_time": "2022-05-29T06:12:52.362372",
     "status": "completed"
    },
    "tags": []
   },
   "outputs": [],
   "source": [
    "cl_curve = get_futures_curve_snapshot('CL', datetime(2021, 12, 1), 'volume')"
   ]
  },
  {
   "cell_type": "code",
   "execution_count": 24,
   "id": "c2bd035a",
   "metadata": {
    "execution": {
     "iopub.execute_input": "2022-05-29T06:12:53.637842Z",
     "iopub.status.busy": "2022-05-29T06:12:53.637016Z",
     "iopub.status.idle": "2022-05-29T06:12:54.280226Z",
     "shell.execute_reply": "2022-05-29T06:12:54.279468Z"
    },
    "papermill": {
     "duration": 0.667722,
     "end_time": "2022-05-29T06:12:54.282810",
     "exception": false,
     "start_time": "2022-05-29T06:12:53.615088",
     "status": "completed"
    },
    "tags": []
   },
   "outputs": [
    {
     "data": {
      "image/png": "[encoded data removed]",
      "text/plain": [
       "<Figure size 1008x216 with 1 Axes>"
      ]
     },
     "metadata": {
      "needs_background": "light"
     },
     "output_type": "display_data"
    }
   ],
   "source": [
    "ax = cl_curve.loc[:'2024'].set_index('symbol')['volume'].plot(kind='bar', figsize=(14, 3));\n",
    "ax.set_ylabel('Volume')\n",
    "ax.set_title('Crude oil traded volume per contract');"
   ]
  },
  {
   "cell_type": "markdown",
   "id": "9de6acec",
   "metadata": {
    "papermill": {
     "duration": 0.028392,
     "end_time": "2022-05-29T06:12:54.339133",
     "exception": false,
     "start_time": "2022-05-29T06:12:54.310741",
     "status": "completed"
    },
    "tags": []
   },
   "source": [
    "## Crack spread\n",
    "\n",
    "First define the instruments. `roll_rule` is defined to make sure futures are rolled on month-ends. As per the analysis done for crush spreads, some arbitrary collateral of 100k USD is used to meature futures returns."
   ]
  },
  {
   "cell_type": "code",
   "execution_count": 25,
   "id": "5d159539",
   "metadata": {
    "execution": {
     "iopub.execute_input": "2022-05-29T06:12:54.387507Z",
     "iopub.status.busy": "2022-05-29T06:12:54.387267Z",
     "iopub.status.idle": "2022-05-29T06:12:54.394349Z",
     "shell.execute_reply": "2022-05-29T06:12:54.393631Z"
    },
    "papermill": {
     "duration": 0.030747,
     "end_time": "2022-05-29T06:12:54.396695",
     "exception": false,
     "start_time": "2022-05-29T06:12:54.365948",
     "status": "completed"
    },
    "tags": []
   },
   "outputs": [],
   "source": [
    "max_expiry = 6\n",
    "instrument = []\n",
    "for i in range(1, max_expiry + 1):\n",
    "    ho = InstrumentDef('HO', id=f'HO_{i}', collateral=100_000, roll_rule=RollRule.MONTH_END.value, nth_expiry=i)\n",
    "    xb = InstrumentDef('XB', id=f'XB_{i}', collateral=100_000, roll_rule=RollRule.MONTH_END.value, nth_expiry=i)\n",
    "    cl = InstrumentDef('CL', id=f'CL_{i}', collateral=100_000, roll_rule=RollRule.MONTH_END.value, nth_expiry=i)\n",
    "    instrument.append(ho)\n",
    "    instrument.append(xb)\n",
    "    instrument.append(cl)"
   ]
  },
  {
   "cell_type": "code",
   "execution_count": 26,
   "id": "19851a3b",
   "metadata": {
    "execution": {
     "iopub.execute_input": "2022-05-29T06:12:54.447319Z",
     "iopub.status.busy": "2022-05-29T06:12:54.447119Z",
     "iopub.status.idle": "2022-05-29T06:12:54.451827Z",
     "shell.execute_reply": "2022-05-29T06:12:54.451225Z"
    },
    "papermill": {
     "duration": 0.029057,
     "end_time": "2022-05-29T06:12:54.453397",
     "exception": false,
     "start_time": "2022-05-29T06:12:54.424340",
     "status": "completed"
    },
    "tags": []
   },
   "outputs": [
    {
     "data": {
      "text/plain": [
       "18"
      ]
     },
     "execution_count": 26,
     "metadata": {},
     "output_type": "execute_result"
    }
   ],
   "source": [
    "len(instrument)"
   ]
  },
  {
   "cell_type": "code",
   "execution_count": 27,
   "id": "729399c3",
   "metadata": {
    "execution": {
     "iopub.execute_input": "2022-05-29T06:12:54.493954Z",
     "iopub.status.busy": "2022-05-29T06:12:54.493676Z",
     "iopub.status.idle": "2022-05-29T06:19:19.585350Z",
     "shell.execute_reply": "2022-05-29T06:19:19.584683Z"
    },
    "papermill": {
     "duration": 385.114935,
     "end_time": "2022-05-29T06:19:19.587861",
     "exception": false,
     "start_time": "2022-05-29T06:12:54.472926",
     "status": "completed"
    },
    "tags": []
   },
   "outputs": [],
   "source": [
    "engine_cs = BacktestEngine(\n",
    "    start_date=datetime(1985, 1, 1),\n",
    "    strategy=Strategy.DELTA_ONE.value,\n",
    "    instrument=instrument,\n",
    "    signal=signal.CrackSpreadGP1999(\n",
    "        ma_lookback=5,\n",
    "        entry_sigma=2,\n",
    "    ),\n",
    "    weighting=Weighting.SUM.value,\n",
    "    log_level=logging.WARN,\n",
    ")\n",
    "engine_cs.run()"
   ]
  },
  {
   "cell_type": "code",
   "execution_count": 28,
   "id": "f08e3ad6",
   "metadata": {
    "execution": {
     "iopub.execute_input": "2022-05-29T06:19:19.638275Z",
     "iopub.status.busy": "2022-05-29T06:19:19.637919Z",
     "iopub.status.idle": "2022-05-29T06:21:06.165896Z",
     "shell.execute_reply": "2022-05-29T06:21:06.165198Z"
    },
    "papermill": {
     "duration": 106.554604,
     "end_time": "2022-05-29T06:21:06.167942",
     "exception": false,
     "start_time": "2022-05-29T06:19:19.613338",
     "status": "completed"
    },
    "tags": []
   },
   "outputs": [],
   "source": [
    "levels_cs = engine_cs.calculate_equity_curve(calculate_net=False).rename('Crack spread')"
   ]
  },
  {
   "cell_type": "markdown",
   "id": "46f2eaf9",
   "metadata": {
    "papermill": {
     "duration": 0.019621,
     "end_time": "2022-05-29T06:21:06.206522",
     "exception": false,
     "start_time": "2022-05-29T06:21:06.186901",
     "status": "completed"
    },
    "tags": []
   },
   "source": [
    "## Gasoline crack spread"
   ]
  },
  {
   "cell_type": "code",
   "execution_count": 29,
   "id": "ea2825c3",
   "metadata": {
    "execution": {
     "iopub.execute_input": "2022-05-29T06:21:06.246544Z",
     "iopub.status.busy": "2022-05-29T06:21:06.245949Z",
     "iopub.status.idle": "2022-05-29T06:21:06.251408Z",
     "shell.execute_reply": "2022-05-29T06:21:06.250821Z"
    },
    "papermill": {
     "duration": 0.027255,
     "end_time": "2022-05-29T06:21:06.253431",
     "exception": false,
     "start_time": "2022-05-29T06:21:06.226176",
     "status": "completed"
    },
    "tags": []
   },
   "outputs": [],
   "source": [
    "max_expiry = 6\n",
    "instrument = []\n",
    "for i in range(1, max_expiry + 1):\n",
    "    xb = InstrumentDef('XB', id=f'XB_{i}', collateral=100_000, roll_rule=RollRule.MONTH_END.value, nth_expiry=i)\n",
    "    cl = InstrumentDef('CL', id=f'CL_{i}', collateral=100_000, roll_rule=RollRule.MONTH_END.value, nth_expiry=i)\n",
    "    instrument.append(xb)\n",
    "    instrument.append(cl)"
   ]
  },
  {
   "cell_type": "code",
   "execution_count": 30,
   "id": "553fbe4b",
   "metadata": {
    "execution": {
     "iopub.execute_input": "2022-05-29T06:21:06.309247Z",
     "iopub.status.busy": "2022-05-29T06:21:06.308987Z",
     "iopub.status.idle": "2022-05-29T06:25:58.588069Z",
     "shell.execute_reply": "2022-05-29T06:25:58.587483Z"
    },
    "papermill": {
     "duration": 292.309974,
     "end_time": "2022-05-29T06:25:58.590421",
     "exception": false,
     "start_time": "2022-05-29T06:21:06.280447",
     "status": "completed"
    },
    "tags": []
   },
   "outputs": [],
   "source": [
    "engine_gcs = BacktestEngine(\n",
    "    start_date=datetime(1985, 1, 1),\n",
    "    strategy=Strategy.DELTA_ONE.value,\n",
    "    instrument=instrument,\n",
    "    signal=signal.CrackSpreadGP1999(\n",
    "        weights={'XB': 42 * 1000, 'CL': -1 * 1000},\n",
    "        ma_lookback=5,\n",
    "        entry_sigma=2,\n",
    "    ),\n",
    "    weighting=Weighting.SUM.value,\n",
    "    log_level=logging.WARN,\n",
    ")\n",
    "engine_gcs.run()"
   ]
  },
  {
   "cell_type": "code",
   "execution_count": 31,
   "id": "4d87519a",
   "metadata": {
    "execution": {
     "iopub.execute_input": "2022-05-29T06:25:58.634900Z",
     "iopub.status.busy": "2022-05-29T06:25:58.634630Z",
     "iopub.status.idle": "2022-05-29T06:27:04.330898Z",
     "shell.execute_reply": "2022-05-29T06:27:04.330180Z"
    },
    "papermill": {
     "duration": 65.719362,
     "end_time": "2022-05-29T06:27:04.332837",
     "exception": false,
     "start_time": "2022-05-29T06:25:58.613475",
     "status": "completed"
    },
    "tags": []
   },
   "outputs": [],
   "source": [
    "levels_gcs = engine_gcs.calculate_equity_curve(calculate_net=False).rename('Gasoline crack spread')"
   ]
  },
  {
   "cell_type": "markdown",
   "id": "8d456942",
   "metadata": {
    "papermill": {
     "duration": 0.018726,
     "end_time": "2022-05-29T06:27:04.372310",
     "exception": false,
     "start_time": "2022-05-29T06:27:04.353584",
     "status": "completed"
    },
    "tags": []
   },
   "source": [
    "## Heating oil crack spread"
   ]
  },
  {
   "cell_type": "code",
   "execution_count": 32,
   "id": "9cb7c150",
   "metadata": {
    "execution": {
     "iopub.execute_input": "2022-05-29T06:27:04.411316Z",
     "iopub.status.busy": "2022-05-29T06:27:04.411039Z",
     "iopub.status.idle": "2022-05-29T06:27:04.418037Z",
     "shell.execute_reply": "2022-05-29T06:27:04.417317Z"
    },
    "papermill": {
     "duration": 0.028769,
     "end_time": "2022-05-29T06:27:04.419731",
     "exception": false,
     "start_time": "2022-05-29T06:27:04.390962",
     "status": "completed"
    },
    "tags": []
   },
   "outputs": [],
   "source": [
    "max_expiry = 6\n",
    "instrument = []\n",
    "for i in range(1, max_expiry + 1):\n",
    "    ho = InstrumentDef('HO', id=f'HO_{i}', collateral=100_000, roll_rule=RollRule.MONTH_END.value, nth_expiry=i)\n",
    "    cl = InstrumentDef('CL', id=f'CL_{i}', collateral=100_000, roll_rule=RollRule.MONTH_END.value, nth_expiry=i)\n",
    "    instrument.append(ho)\n",
    "    instrument.append(cl)"
   ]
  },
  {
   "cell_type": "code",
   "execution_count": 33,
   "id": "9338a131",
   "metadata": {
    "execution": {
     "iopub.execute_input": "2022-05-29T06:27:04.463137Z",
     "iopub.status.busy": "2022-05-29T06:27:04.462804Z",
     "iopub.status.idle": "2022-05-29T06:31:39.739481Z",
     "shell.execute_reply": "2022-05-29T06:31:39.738774Z"
    },
    "papermill": {
     "duration": 275.301144,
     "end_time": "2022-05-29T06:31:39.741869",
     "exception": false,
     "start_time": "2022-05-29T06:27:04.440725",
     "status": "completed"
    },
    "tags": []
   },
   "outputs": [],
   "source": [
    "engine_hocs = BacktestEngine(\n",
    "    start_date=datetime(1985, 1, 1),\n",
    "    strategy=Strategy.DELTA_ONE.value,\n",
    "    instrument=instrument,\n",
    "    signal=signal.CrackSpreadGP1999(\n",
    "        weights={'HO': 42 * 1000, 'CL': -1 * 1000},\n",
    "        ma_lookback=5,\n",
    "        entry_sigma=2,\n",
    "    ),\n",
    "    weighting=Weighting.SUM.value,\n",
    "    log_level=logging.WARN,\n",
    ")\n",
    "engine_hocs.run()"
   ]
  },
  {
   "cell_type": "code",
   "execution_count": 34,
   "id": "64757694",
   "metadata": {
    "execution": {
     "iopub.execute_input": "2022-05-29T06:31:39.789676Z",
     "iopub.status.busy": "2022-05-29T06:31:39.789306Z",
     "iopub.status.idle": "2022-05-29T06:32:39.631588Z",
     "shell.execute_reply": "2022-05-29T06:32:39.630491Z"
    },
    "papermill": {
     "duration": 59.866146,
     "end_time": "2022-05-29T06:32:39.634048",
     "exception": false,
     "start_time": "2022-05-29T06:31:39.767902",
     "status": "completed"
    },
    "tags": []
   },
   "outputs": [],
   "source": [
    "levels_hocs = engine_hocs.calculate_equity_curve(calculate_net=False).rename('Heating oil crack spread')"
   ]
  },
  {
   "cell_type": "markdown",
   "id": "7d427481",
   "metadata": {
    "papermill": {
     "duration": 0.026774,
     "end_time": "2022-05-29T06:32:39.687653",
     "exception": false,
     "start_time": "2022-05-29T06:32:39.660879",
     "status": "completed"
    },
    "tags": []
   },
   "source": [
    "## Performance\n",
    "During the sample period tested, a mean-reversion on the crack spread worked well."
   ]
  },
  {
   "cell_type": "code",
   "execution_count": 35,
   "id": "348f0796",
   "metadata": {
    "execution": {
     "iopub.execute_input": "2022-05-29T06:32:39.732858Z",
     "iopub.status.busy": "2022-05-29T06:32:39.731739Z",
     "iopub.status.idle": "2022-05-29T06:32:39.745985Z",
     "shell.execute_reply": "2022-05-29T06:32:39.745265Z"
    },
    "papermill": {
     "duration": 0.03774,
     "end_time": "2022-05-29T06:32:39.748359",
     "exception": false,
     "start_time": "2022-05-29T06:32:39.710619",
     "status": "completed"
    },
    "tags": []
   },
   "outputs": [],
   "source": [
    "levels = pd.concat((\n",
    "    levels_cs, levels_gcs, levels_hocs\n",
    "), axis=1)"
   ]
  },
  {
   "cell_type": "code",
   "execution_count": 36,
   "id": "c3b6f7cd",
   "metadata": {
    "execution": {
     "iopub.execute_input": "2022-05-29T06:32:39.788550Z",
     "iopub.status.busy": "2022-05-29T06:32:39.788018Z",
     "iopub.status.idle": "2022-05-29T06:32:40.670847Z",
     "shell.execute_reply": "2022-05-29T06:32:40.670012Z"
    },
    "papermill": {
     "duration": 0.905684,
     "end_time": "2022-05-29T06:32:40.673486",
     "exception": false,
     "start_time": "2022-05-29T06:32:39.767802",
     "status": "completed"
    },
    "tags": []
   },
   "outputs": [
    {
     "data": {
      "image/png": "[encoded data removed]",
      "text/plain": [
       "<Figure size 576x324 with 1 Axes>"
      ]
     },
     "metadata": {
      "needs_background": "light"
     },
     "output_type": "display_data"
    }
   ],
   "source": [
    "fig, ax = plt.subplots(figsize=(8, 4.5))\n",
    "levels[:'1994-11'].plot(ax=ax, logy=True);\n",
    "ax.set_title('Crack spreads mean-reversion (GP1999)')\n",
    "ax.set_ylabel('Cumulative returns');"
   ]
  },
  {
   "cell_type": "code",
   "execution_count": 37,
   "id": "8b9035a4",
   "metadata": {
    "execution": {
     "iopub.execute_input": "2022-05-29T06:32:40.719541Z",
     "iopub.status.busy": "2022-05-29T06:32:40.719132Z",
     "iopub.status.idle": "2022-05-29T06:32:40.768302Z",
     "shell.execute_reply": "2022-05-29T06:32:40.767678Z"
    },
    "papermill": {
     "duration": 0.073657,
     "end_time": "2022-05-29T06:32:40.770245",
     "exception": false,
     "start_time": "2022-05-29T06:32:40.696588",
     "status": "completed"
    },
    "tags": []
   },
   "outputs": [
    {
     "data": {
      "text/html": [
       "<div>\n",
       "<style scoped>\n",
       "    .dataframe tbody tr th:only-of-type {\n",
       "        vertical-align: middle;\n",
       "    }\n",
       "\n",
       "    .dataframe tbody tr th {\n",
       "        vertical-align: top;\n",
       "    }\n",
       "\n",
       "    .dataframe thead th {\n",
       "        text-align: right;\n",
       "    }\n",
       "</style>\n",
       "<table border=\"1\" class=\"dataframe\">\n",
       "  <thead>\n",
       "    <tr style=\"text-align: right;\">\n",
       "      <th></th>\n",
       "      <th>Crack spread</th>\n",
       "      <th>Gasoline crack spread</th>\n",
       "      <th>Heating oil crack spread</th>\n",
       "    </tr>\n",
       "  </thead>\n",
       "  <tbody>\n",
       "    <tr>\n",
       "      <th>CAGR</th>\n",
       "      <td>0.014100</td>\n",
       "      <td>0.007241</td>\n",
       "      <td>0.011715</td>\n",
       "    </tr>\n",
       "    <tr>\n",
       "      <th>Annualised vol</th>\n",
       "      <td>0.018131</td>\n",
       "      <td>0.022948</td>\n",
       "      <td>0.017725</td>\n",
       "    </tr>\n",
       "    <tr>\n",
       "      <th>Sharpe ratio</th>\n",
       "      <td>0.777675</td>\n",
       "      <td>0.315525</td>\n",
       "      <td>0.660914</td>\n",
       "    </tr>\n",
       "    <tr>\n",
       "      <th>Max drawdown</th>\n",
       "      <td>0.071648</td>\n",
       "      <td>0.129760</td>\n",
       "      <td>0.044562</td>\n",
       "    </tr>\n",
       "    <tr>\n",
       "      <th>Calmar ratio</th>\n",
       "      <td>0.196791</td>\n",
       "      <td>0.055800</td>\n",
       "      <td>0.262889</td>\n",
       "    </tr>\n",
       "    <tr>\n",
       "      <th>Skewness</th>\n",
       "      <td>0.791950</td>\n",
       "      <td>4.373877</td>\n",
       "      <td>2.076780</td>\n",
       "    </tr>\n",
       "    <tr>\n",
       "      <th>Kurtosis</th>\n",
       "      <td>45.874931</td>\n",
       "      <td>200.909353</td>\n",
       "      <td>75.098364</td>\n",
       "    </tr>\n",
       "    <tr>\n",
       "      <th>Worst return</th>\n",
       "      <td>-0.012272</td>\n",
       "      <td>-0.022322</td>\n",
       "      <td>-0.013000</td>\n",
       "    </tr>\n",
       "    <tr>\n",
       "      <th>Worst 1d return</th>\n",
       "      <td>-0.012272</td>\n",
       "      <td>-0.022322</td>\n",
       "      <td>-0.013000</td>\n",
       "    </tr>\n",
       "    <tr>\n",
       "      <th>Worst 1w return</th>\n",
       "      <td>-0.018763</td>\n",
       "      <td>-0.034413</td>\n",
       "      <td>-0.019985</td>\n",
       "    </tr>\n",
       "    <tr>\n",
       "      <th>Worst 1m return</th>\n",
       "      <td>-0.030638</td>\n",
       "      <td>-0.029017</td>\n",
       "      <td>-0.026193</td>\n",
       "    </tr>\n",
       "  </tbody>\n",
       "</table>\n",
       "</div>"
      ],
      "text/plain": [
       "                 Crack spread  Gasoline crack spread  Heating oil crack spread\n",
       "CAGR                 0.014100               0.007241                  0.011715\n",
       "Annualised vol       0.018131               0.022948                  0.017725\n",
       "Sharpe ratio         0.777675               0.315525                  0.660914\n",
       "Max drawdown         0.071648               0.129760                  0.044562\n",
       "Calmar ratio         0.196791               0.055800                  0.262889\n",
       "Skewness             0.791950               4.373877                  2.076780\n",
       "Kurtosis            45.874931             200.909353                 75.098364\n",
       "Worst return        -0.012272              -0.022322                 -0.013000\n",
       "Worst 1d return     -0.012272              -0.022322                 -0.013000\n",
       "Worst 1w return     -0.018763              -0.034413                 -0.019985\n",
       "Worst 1m return     -0.030638              -0.029017                 -0.026193"
      ]
     },
     "execution_count": 37,
     "metadata": {},
     "output_type": "execute_result"
    }
   ],
   "source": [
    "levels[:'1994-11'].pipe(Performance).summary()"
   ]
  },
  {
   "cell_type": "markdown",
   "id": "25d81c19",
   "metadata": {
    "papermill": {
     "duration": 0.022354,
     "end_time": "2022-05-29T06:32:40.814670",
     "exception": false,
     "start_time": "2022-05-29T06:32:40.792316",
     "status": "completed"
    },
    "tags": []
   },
   "source": [
    "The underperformance in 1990 coincides with a wider divergence on the crack spread which is intuitive."
   ]
  },
  {
   "cell_type": "code",
   "execution_count": 38,
   "id": "76538675",
   "metadata": {
    "execution": {
     "iopub.execute_input": "2022-05-29T06:32:40.857757Z",
     "iopub.status.busy": "2022-05-29T06:32:40.857452Z",
     "iopub.status.idle": "2022-05-29T06:32:41.294852Z",
     "shell.execute_reply": "2022-05-29T06:32:41.294105Z"
    },
    "papermill": {
     "duration": 0.461454,
     "end_time": "2022-05-29T06:32:41.296526",
     "exception": false,
     "start_time": "2022-05-29T06:32:40.835072",
     "status": "completed"
    },
    "tags": []
   },
   "outputs": [
    {
     "data": {
      "image/png": "[encoded data removed]",
      "text/plain": [
       "<Figure size 576x360 with 2 Axes>"
      ]
     },
     "metadata": {
      "needs_background": "light"
     },
     "output_type": "display_data"
    }
   ],
   "source": [
    "pd.concat((\n",
    "    levels_gcs.rename('Gasoline crack spread strategy'),\n",
    "    gcs.rename('GCS')\n",
    "), axis=1)[:'1994-11'].plot(figsize=(8, 5), secondary_y='GCS');"
   ]
  },
  {
   "cell_type": "markdown",
   "id": "e2d431e2",
   "metadata": {
    "papermill": {
     "duration": 0.019865,
     "end_time": "2022-05-29T06:32:41.336593",
     "exception": false,
     "start_time": "2022-05-29T06:32:41.316728",
     "status": "completed"
    },
    "tags": []
   },
   "source": [
    "## Long-term performance\n",
    "\n",
    "...however as we saw earlier in the time-series of crack spreads, something must have changed in 2000s and the trading strategies stopped working."
   ]
  },
  {
   "cell_type": "code",
   "execution_count": 39,
   "id": "d8a263d6",
   "metadata": {
    "execution": {
     "iopub.execute_input": "2022-05-29T06:32:41.377791Z",
     "iopub.status.busy": "2022-05-29T06:32:41.377331Z",
     "iopub.status.idle": "2022-05-29T06:32:41.957081Z",
     "shell.execute_reply": "2022-05-29T06:32:41.956384Z"
    },
    "papermill": {
     "duration": 0.603376,
     "end_time": "2022-05-29T06:32:41.959826",
     "exception": false,
     "start_time": "2022-05-29T06:32:41.356450",
     "status": "completed"
    },
    "tags": []
   },
   "outputs": [
    {
     "data": {
      "image/png": "[encoded data removed]",
      "text/plain": [
       "<Figure size 576x324 with 1 Axes>"
      ]
     },
     "metadata": {
      "needs_background": "light"
     },
     "output_type": "display_data"
    }
   ],
   "source": [
    "fig, ax = plt.subplots(figsize=(8, 4.5))\n",
    "levels.plot(ax=ax, logy=True);\n",
    "ax.set_title('Crack spreads mean-reversion (GP1999)')\n",
    "ax.set_ylabel('Cumulative returns');"
   ]
  },
  {
   "cell_type": "code",
   "execution_count": 40,
   "id": "b9b01da1",
   "metadata": {
    "execution": {
     "iopub.execute_input": "2022-05-29T06:32:42.025058Z",
     "iopub.status.busy": "2022-05-29T06:32:42.024521Z",
     "iopub.status.idle": "2022-05-29T06:32:42.095535Z",
     "shell.execute_reply": "2022-05-29T06:32:42.094977Z"
    },
    "papermill": {
     "duration": 0.105986,
     "end_time": "2022-05-29T06:32:42.097722",
     "exception": false,
     "start_time": "2022-05-29T06:32:41.991736",
     "status": "completed"
    },
    "tags": []
   },
   "outputs": [
    {
     "data": {
      "text/html": [
       "<div>\n",
       "<style scoped>\n",
       "    .dataframe tbody tr th:only-of-type {\n",
       "        vertical-align: middle;\n",
       "    }\n",
       "\n",
       "    .dataframe tbody tr th {\n",
       "        vertical-align: top;\n",
       "    }\n",
       "\n",
       "    .dataframe thead th {\n",
       "        text-align: right;\n",
       "    }\n",
       "</style>\n",
       "<table border=\"1\" class=\"dataframe\">\n",
       "  <thead>\n",
       "    <tr style=\"text-align: right;\">\n",
       "      <th></th>\n",
       "      <th>Crack spread</th>\n",
       "      <th>Gasoline crack spread</th>\n",
       "      <th>Heating oil crack spread</th>\n",
       "    </tr>\n",
       "  </thead>\n",
       "  <tbody>\n",
       "    <tr>\n",
       "      <th>CAGR</th>\n",
       "      <td>-0.043713</td>\n",
       "      <td>-0.006774</td>\n",
       "      <td>-0.002826</td>\n",
       "    </tr>\n",
       "    <tr>\n",
       "      <th>Annualised vol</th>\n",
       "      <td>0.144728</td>\n",
       "      <td>0.044900</td>\n",
       "      <td>0.072134</td>\n",
       "    </tr>\n",
       "    <tr>\n",
       "      <th>Sharpe ratio</th>\n",
       "      <td>-0.302034</td>\n",
       "      <td>-0.150877</td>\n",
       "      <td>-0.039172</td>\n",
       "    </tr>\n",
       "    <tr>\n",
       "      <th>Max drawdown</th>\n",
       "      <td>0.856430</td>\n",
       "      <td>0.455942</td>\n",
       "      <td>0.340033</td>\n",
       "    </tr>\n",
       "    <tr>\n",
       "      <th>Calmar ratio</th>\n",
       "      <td>-0.051041</td>\n",
       "      <td>-0.014858</td>\n",
       "      <td>-0.008310</td>\n",
       "    </tr>\n",
       "    <tr>\n",
       "      <th>Skewness</th>\n",
       "      <td>22.291644</td>\n",
       "      <td>-1.826236</td>\n",
       "      <td>6.734176</td>\n",
       "    </tr>\n",
       "    <tr>\n",
       "      <th>Kurtosis</th>\n",
       "      <td>2137.411296</td>\n",
       "      <td>67.585366</td>\n",
       "      <td>809.059481</td>\n",
       "    </tr>\n",
       "    <tr>\n",
       "      <th>Worst return</th>\n",
       "      <td>-0.339082</td>\n",
       "      <td>-0.049356</td>\n",
       "      <td>-0.162293</td>\n",
       "    </tr>\n",
       "    <tr>\n",
       "      <th>Worst 1d return</th>\n",
       "      <td>-0.339082</td>\n",
       "      <td>-0.049356</td>\n",
       "      <td>-0.162293</td>\n",
       "    </tr>\n",
       "    <tr>\n",
       "      <th>Worst 1w return</th>\n",
       "      <td>-0.283883</td>\n",
       "      <td>-0.101832</td>\n",
       "      <td>-0.125455</td>\n",
       "    </tr>\n",
       "    <tr>\n",
       "      <th>Worst 1m return</th>\n",
       "      <td>-0.436654</td>\n",
       "      <td>-0.119793</td>\n",
       "      <td>-0.228092</td>\n",
       "    </tr>\n",
       "  </tbody>\n",
       "</table>\n",
       "</div>"
      ],
      "text/plain": [
       "                 Crack spread  Gasoline crack spread  Heating oil crack spread\n",
       "CAGR                -0.043713              -0.006774                 -0.002826\n",
       "Annualised vol       0.144728               0.044900                  0.072134\n",
       "Sharpe ratio        -0.302034              -0.150877                 -0.039172\n",
       "Max drawdown         0.856430               0.455942                  0.340033\n",
       "Calmar ratio        -0.051041              -0.014858                 -0.008310\n",
       "Skewness            22.291644              -1.826236                  6.734176\n",
       "Kurtosis          2137.411296              67.585366                809.059481\n",
       "Worst return        -0.339082              -0.049356                 -0.162293\n",
       "Worst 1d return     -0.339082              -0.049356                 -0.162293\n",
       "Worst 1w return     -0.283883              -0.101832                 -0.125455\n",
       "Worst 1m return     -0.436654              -0.119793                 -0.228092"
      ]
     },
     "execution_count": 40,
     "metadata": {},
     "output_type": "execute_result"
    }
   ],
   "source": [
    "levels.pipe(Performance).summary()"
   ]
  },
  {
   "cell_type": "markdown",
   "id": "e67cc5fa",
   "metadata": {
    "papermill": {
     "duration": 0.031691,
     "end_time": "2022-05-29T06:32:42.162033",
     "exception": false,
     "start_time": "2022-05-29T06:32:42.130342",
     "status": "completed"
    },
    "tags": []
   },
   "source": [
    "## Post publication"
   ]
  },
  {
   "cell_type": "code",
   "execution_count": 41,
   "id": "94b4f13d",
   "metadata": {
    "execution": {
     "iopub.execute_input": "2022-05-29T06:32:42.227739Z",
     "iopub.status.busy": "2022-05-29T06:32:42.227465Z",
     "iopub.status.idle": "2022-05-29T06:32:42.231730Z",
     "shell.execute_reply": "2022-05-29T06:32:42.230908Z"
    },
    "papermill": {
     "duration": 0.039875,
     "end_time": "2022-05-29T06:32:42.233721",
     "exception": false,
     "start_time": "2022-05-29T06:32:42.193846",
     "status": "completed"
    },
    "tags": []
   },
   "outputs": [],
   "source": [
    "publication_date = datetime(1999, 11, 29)"
   ]
  },
  {
   "cell_type": "code",
   "execution_count": 42,
   "id": "1a2e7f9c",
   "metadata": {
    "execution": {
     "iopub.execute_input": "2022-05-29T06:32:42.290882Z",
     "iopub.status.busy": "2022-05-29T06:32:42.290490Z",
     "iopub.status.idle": "2022-05-29T06:32:43.702202Z",
     "shell.execute_reply": "2022-05-29T06:32:43.701559Z"
    },
    "papermill": {
     "duration": 1.444113,
     "end_time": "2022-05-29T06:32:43.704012",
     "exception": false,
     "start_time": "2022-05-29T06:32:42.259899",
     "status": "completed"
    },
    "tags": []
   },
   "outputs": [
    {
     "data": {
      "image/png": "[encoded data removed]",
      "text/plain": [
       "<Figure size 1008x288 with 2 Axes>"
      ]
     },
     "metadata": {
      "needs_background": "light"
     },
     "output_type": "display_data"
    }
   ],
   "source": [
    "fig, ax = plt.subplots(1, 2, figsize=(14, 4))\n",
    "levels.plot(ax=ax[0], logy=True);\n",
    "ax[0].set_title('Crack spreads mean-reversion (GP1999)')\n",
    "ax[0].set_ylabel('Cumulative returns');\n",
    "ax[0].axvline(publication_date, lw=1, ls='--', color='black')\n",
    "ax[0].text(publication_date, 100, 'Publication date ', ha='right')\n",
    "\n",
    "levels.loc[publication_date:].pipe(rebase).plot(ax=ax[1], logy=True);\n",
    "ax[1].set_title('Post publication');"
   ]
  },
  {
   "cell_type": "markdown",
   "id": "d187127a",
   "metadata": {
    "papermill": {
     "duration": 0.022654,
     "end_time": "2022-05-29T06:32:43.748492",
     "exception": false,
     "start_time": "2022-05-29T06:32:43.725838",
     "status": "completed"
    },
    "tags": []
   },
   "source": [
    "# Reference\n",
    "- Girma, P.B. and Paulson, A.S., 1999. Risk arbitrage opportunities in petroleum futures spreads. Journal of Futures Markets, 19(8), pp.931-955."
   ]
  },
  {
   "cell_type": "code",
   "execution_count": 43,
   "id": "69fe3c8e",
   "metadata": {
    "execution": {
     "iopub.execute_input": "2022-05-29T06:32:43.797655Z",
     "iopub.status.busy": "2022-05-29T06:32:43.797314Z",
     "iopub.status.idle": "2022-05-29T06:32:43.824190Z",
     "shell.execute_reply": "2022-05-29T06:32:43.823491Z"
    },
    "papermill": {
     "duration": 0.052866,
     "end_time": "2022-05-29T06:32:43.825842",
     "exception": false,
     "start_time": "2022-05-29T06:32:43.772976",
     "status": "completed"
    },
    "tags": []
   },
   "outputs": [
    {
     "name": "stdout",
     "output_type": "stream",
     "text": [
      "Updated: 29-May-2022 06:32\n"
     ]
    }
   ],
   "source": [
    "print(f'Updated: {datetime.utcnow():%d-%b-%Y %H:%M}')"
   ]
  }
 ],
 "metadata": {
  "kernelspec": {
   "display_name": "Python 3",
   "language": "python",
   "name": "python3"
  },
  "language_info": {
   "codemirror_mode": {
    "name": "ipython",
    "version": 3
   },
   "file_extension": ".py",
   "mimetype": "text/x-python",
   "name": "python",
   "nbconvert_exporter": "python",
   "pygments_lexer": "ipython3",
   "version": "3.9.6"
  },
  "papermill": {
   "default_parameters": {},
   "duration": 1289.879863,
   "end_time": "2022-05-29T06:32:46.670349",
   "environment_variables": {},
   "exception": null,
   "input_path": "notebooks/papermill/commodity_crack_spread_stat_arb.ipynb",
   "output_path": "notebooks/commodity_crack_spread_stat_arb.ipynb",
   "parameters": {},
   "start_time": "2022-05-29T06:11:16.790486",
   "version": "2.3.4"
  },
  "toc-autonumbering": true
 },
 "nbformat": 4,
 "nbformat_minor": 5
}