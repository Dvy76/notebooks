{
 "cells": [
  {
   "cell_type": "markdown",
   "id": "172ca5c5",
   "metadata": {
    "papermill": {
     "duration": 0.010026,
     "end_time": "2024-06-08T09:54:46.019530",
     "exception": false,
     "start_time": "2024-06-08T09:54:46.009504",
     "status": "completed"
    },
    "tags": []
   },
   "source": [
    "# Commodity crack spread statistical arbitrage\n",
    "\n",
    "In this notebook, the mean-rereversion strategy proposed in Girma and Paulson 1999 (henthforth GP1999) is investigated. It focuses on a various combination of the crude oil (WTI) crack spread. "
   ]
  },
  {
   "cell_type": "code",
   "execution_count": 1,
   "id": "7daa9dab",
   "metadata": {
    "execution": {
     "iopub.execute_input": "2024-06-08T09:54:46.040528Z",
     "iopub.status.busy": "2024-06-08T09:54:46.039979Z",
     "iopub.status.idle": "2024-06-08T09:54:49.367229Z",
     "shell.execute_reply": "2024-06-08T09:54:49.366557Z"
    },
    "papermill": {
     "duration": 3.338963,
     "end_time": "2024-06-08T09:54:49.368829",
     "exception": false,
     "start_time": "2024-06-08T09:54:46.029866",
     "status": "completed"
    },
    "tags": []
   },
   "outputs": [],
   "source": [
    "from datetime import datetime\n",
    "import logging\n",
    "import warnings\n",
    "warnings.simplefilter(action='ignore', category=FutureWarning)\n",
    "\n",
    "import pandas as pd\n",
    "import pytz\n",
    "import statsmodels.api as sm\n",
    "import matplotlib.pyplot as plt\n",
    "plt.style.use('bmh')\n",
    "\n",
    "from vivace.backtest import BacktestEngine, signal, InstrumentDef\n",
    "from vivace.backtest.analytics import rebase\n",
    "from vivace.backtest.contract import get_futures_curve_snapshot\n",
    "from vivace.backtest.stats import Performance\n",
    "from vivace.enums import Strategy, Weighting, RollRule"
   ]
  },
  {
   "cell_type": "markdown",
   "id": "68aa8ccf",
   "metadata": {
    "papermill": {
     "duration": 0.008975,
     "end_time": "2024-06-08T09:54:49.387044",
     "exception": false,
     "start_time": "2024-06-08T09:54:49.378069",
     "status": "completed"
    },
    "tags": []
   },
   "source": [
    "# Cointegration test\n",
    "\n",
    "GP1999 first checks if the crack spread is cointegrated. To do that, first let's see futures prices are non-stationary or not. As per usual, the generic price is populated by running a simple long-only backtest by rolling the front contract."
   ]
  },
  {
   "cell_type": "markdown",
   "id": "824e7302",
   "metadata": {
    "papermill": {
     "duration": 0.009756,
     "end_time": "2024-06-08T09:54:49.405641",
     "exception": false,
     "start_time": "2024-06-08T09:54:49.395885",
     "status": "completed"
    },
    "tags": []
   },
   "source": [
    "## ADF test\n",
    "\n",
    "The ADF test is done by the `adfuller` function in `statsmodels`. (cf. https://www.statsmodels.org/dev/generated/statsmodels.tsa.stattools.adfuller.html)"
   ]
  },
  {
   "cell_type": "code",
   "execution_count": 2,
   "id": "4eb3103c",
   "metadata": {
    "execution": {
     "iopub.execute_input": "2024-06-08T09:54:49.424843Z",
     "iopub.status.busy": "2024-06-08T09:54:49.424590Z",
     "iopub.status.idle": "2024-06-08T09:54:56.926539Z",
     "shell.execute_reply": "2024-06-08T09:54:56.925876Z"
    },
    "papermill": {
     "duration": 7.513854,
     "end_time": "2024-06-08T09:54:56.928173",
     "exception": false,
     "start_time": "2024-06-08T09:54:49.414319",
     "status": "completed"
    },
    "tags": []
   },
   "outputs": [],
   "source": [
    "cl_1st = BacktestEngine(instrument='CL', log_level=logging.WARN)\n",
    "cl_1st.run()"
   ]
  },
  {
   "cell_type": "code",
   "execution_count": 3,
   "id": "9910ecff",
   "metadata": {
    "execution": {
     "iopub.execute_input": "2024-06-08T09:54:56.947011Z",
     "iopub.status.busy": "2024-06-08T09:54:56.946704Z",
     "iopub.status.idle": "2024-06-08T09:55:04.238983Z",
     "shell.execute_reply": "2024-06-08T09:55:04.238257Z"
    },
    "papermill": {
     "duration": 7.303491,
     "end_time": "2024-06-08T09:55:04.240526",
     "exception": false,
     "start_time": "2024-06-08T09:54:56.937035",
     "status": "completed"
    },
    "tags": []
   },
   "outputs": [],
   "source": [
    "ho_1st = BacktestEngine(instrument='HO', log_level=logging.WARN)\n",
    "ho_1st.run()"
   ]
  },
  {
   "cell_type": "code",
   "execution_count": 4,
   "id": "32cec4c3",
   "metadata": {
    "execution": {
     "iopub.execute_input": "2024-06-08T09:55:04.260047Z",
     "iopub.status.busy": "2024-06-08T09:55:04.259741Z",
     "iopub.status.idle": "2024-06-08T09:55:11.265577Z",
     "shell.execute_reply": "2024-06-08T09:55:11.264941Z"
    },
    "papermill": {
     "duration": 7.017071,
     "end_time": "2024-06-08T09:55:11.267229",
     "exception": false,
     "start_time": "2024-06-08T09:55:04.250158",
     "status": "completed"
    },
    "tags": []
   },
   "outputs": [],
   "source": [
    "xb_1st = BacktestEngine(instrument='XB', log_level=logging.WARN)\n",
    "xb_1st.run()"
   ]
  },
  {
   "cell_type": "code",
   "execution_count": 5,
   "id": "a602ffe8",
   "metadata": {
    "execution": {
     "iopub.execute_input": "2024-06-08T09:55:11.287231Z",
     "iopub.status.busy": "2024-06-08T09:55:11.286942Z",
     "iopub.status.idle": "2024-06-08T09:55:23.700212Z",
     "shell.execute_reply": "2024-06-08T09:55:23.699560Z"
    },
    "papermill": {
     "duration": 12.425683,
     "end_time": "2024-06-08T09:55:23.702221",
     "exception": false,
     "start_time": "2024-06-08T09:55:11.276538",
     "status": "completed"
    },
    "tags": []
   },
   "outputs": [],
   "source": [
    "cl_price = cl_1st.get_generic_price().squeeze().fillna(method='pad').rename('Crude oil')\n",
    "ho_price = ho_1st.get_generic_price().squeeze().fillna(method='pad').rename('Heating oil')\n",
    "xb_price = xb_1st.get_generic_price().squeeze().fillna(method='pad').rename('Gasoline')"
   ]
  },
  {
   "cell_type": "code",
   "execution_count": 6,
   "id": "81a1c9be",
   "metadata": {
    "execution": {
     "iopub.execute_input": "2024-06-08T09:55:23.732195Z",
     "iopub.status.busy": "2024-06-08T09:55:23.731841Z",
     "iopub.status.idle": "2024-06-08T09:55:23.736721Z",
     "shell.execute_reply": "2024-06-08T09:55:23.736038Z"
    },
    "papermill": {
     "duration": 0.021958,
     "end_time": "2024-06-08T09:55:23.738586",
     "exception": false,
     "start_time": "2024-06-08T09:55:23.716628",
     "status": "completed"
    },
    "tags": []
   },
   "outputs": [],
   "source": [
    "def adf(ts: pd.Series, **kwargs) -> pd.Series:\n",
    "    \"\"\" Run the ADF test and return a cleaned result \"\"\"\n",
    "    adf_result = sm.tsa.stattools.adfuller(ts, **kwargs)\n",
    "    cleaned = {\n",
    "        'adf': adf_result[0],\n",
    "        'p_value': adf_result[1],\n",
    "        'used_lag': adf_result[2],\n",
    "        'n_obs': adf_result[3],\n",
    "        'ci_0.01': adf_result[4]['1%'],\n",
    "        'ci_0.05': adf_result[4]['5%'],\n",
    "        'ci_0.1': adf_result[4]['10%'],\n",
    "        'ic_best': adf_result[5],\n",
    "    }\n",
    "    return pd.Series(cleaned, name=ts.name)"
   ]
  },
  {
   "cell_type": "markdown",
   "id": "73a9df64",
   "metadata": {
    "papermill": {
     "duration": 0.014155,
     "end_time": "2024-06-08T09:55:23.766997",
     "exception": false,
     "start_time": "2024-06-08T09:55:23.752842",
     "status": "completed"
    },
    "tags": []
   },
   "source": [
    "GP1999 uses Schwarz's information criterion (i.e., BIC) to select the optimal number of lags included in the ADF test."
   ]
  },
  {
   "cell_type": "code",
   "execution_count": 7,
   "id": "b69649d6",
   "metadata": {
    "execution": {
     "iopub.execute_input": "2024-06-08T09:55:23.796905Z",
     "iopub.status.busy": "2024-06-08T09:55:23.796402Z",
     "iopub.status.idle": "2024-06-08T09:55:24.453629Z",
     "shell.execute_reply": "2024-06-08T09:55:24.452312Z"
    },
    "papermill": {
     "duration": 0.674846,
     "end_time": "2024-06-08T09:55:24.456136",
     "exception": false,
     "start_time": "2024-06-08T09:55:23.781290",
     "status": "completed"
    },
    "tags": []
   },
   "outputs": [],
   "source": [
    "adf_result = pd.concat((\n",
    "    adf(cl_price['1983-04':'1994-11'], autolag='BIC').to_frame().T,\n",
    "    adf(ho_price['1983-04':'1994-11'], autolag='BIC').to_frame().T,\n",
    "    adf(xb_price['1984-12':'1994-11'], autolag='BIC').to_frame().T,\n",
    "))"
   ]
  },
  {
   "cell_type": "markdown",
   "id": "1396f87e",
   "metadata": {
    "papermill": {
     "duration": 0.018201,
     "end_time": "2024-06-08T09:55:24.496241",
     "exception": false,
     "start_time": "2024-06-08T09:55:24.478040",
     "status": "completed"
    },
    "tags": []
   },
   "source": [
    "In the ADF test, $H_0$ is that the time-series is non-stationary. Based on this result below, $H_0$ cannot be rejected for crude oil, however is rejected for heating oil and gasoline at the 10% and 5% level respectively.\n",
    "\n",
    "This is interesting because usually almost always asset prices are non-stationary."
   ]
  },
  {
   "cell_type": "code",
   "execution_count": 8,
   "id": "3655e953",
   "metadata": {
    "execution": {
     "iopub.execute_input": "2024-06-08T09:55:24.531888Z",
     "iopub.status.busy": "2024-06-08T09:55:24.531649Z",
     "iopub.status.idle": "2024-06-08T09:55:24.544673Z",
     "shell.execute_reply": "2024-06-08T09:55:24.544046Z"
    },
    "papermill": {
     "duration": 0.031373,
     "end_time": "2024-06-08T09:55:24.546135",
     "exception": false,
     "start_time": "2024-06-08T09:55:24.514762",
     "status": "completed"
    },
    "tags": []
   },
   "outputs": [
    {
     "data": {
      "text/html": [
       "<div>\n",
       "<style scoped>\n",
       "    .dataframe tbody tr th:only-of-type {\n",
       "        vertical-align: middle;\n",
       "    }\n",
       "\n",
       "    .dataframe tbody tr th {\n",
       "        vertical-align: top;\n",
       "    }\n",
       "\n",
       "    .dataframe thead th {\n",
       "        text-align: right;\n",
       "    }\n",
       "</style>\n",
       "<table border=\"1\" class=\"dataframe\">\n",
       "  <thead>\n",
       "    <tr style=\"text-align: right;\">\n",
       "      <th></th>\n",
       "      <th>adf</th>\n",
       "      <th>p_value</th>\n",
       "      <th>used_lag</th>\n",
       "      <th>n_obs</th>\n",
       "      <th>ci_0.01</th>\n",
       "      <th>ci_0.05</th>\n",
       "      <th>ci_0.1</th>\n",
       "      <th>ic_best</th>\n",
       "    </tr>\n",
       "  </thead>\n",
       "  <tbody>\n",
       "    <tr>\n",
       "      <th>Crude oil</th>\n",
       "      <td>-2.185213</td>\n",
       "      <td>0.211656</td>\n",
       "      <td>8.0</td>\n",
       "      <td>2924.0</td>\n",
       "      <td>-3.432588</td>\n",
       "      <td>-2.862529</td>\n",
       "      <td>-2.567296</td>\n",
       "      <td>4195.186424</td>\n",
       "    </tr>\n",
       "    <tr>\n",
       "      <th>Heating oil</th>\n",
       "      <td>-2.743636</td>\n",
       "      <td>0.066787</td>\n",
       "      <td>3.0</td>\n",
       "      <td>2929.0</td>\n",
       "      <td>-3.432585</td>\n",
       "      <td>-2.862527</td>\n",
       "      <td>-2.567296</td>\n",
       "      <td>-15763.929006</td>\n",
       "    </tr>\n",
       "    <tr>\n",
       "      <th>Gasoline</th>\n",
       "      <td>-3.003758</td>\n",
       "      <td>0.034545</td>\n",
       "      <td>3.0</td>\n",
       "      <td>2510.0</td>\n",
       "      <td>-3.432958</td>\n",
       "      <td>-2.862692</td>\n",
       "      <td>-2.567383</td>\n",
       "      <td>-14006.551367</td>\n",
       "    </tr>\n",
       "  </tbody>\n",
       "</table>\n",
       "</div>"
      ],
      "text/plain": [
       "                  adf   p_value  used_lag   n_obs   ci_0.01   ci_0.05  \\\n",
       "Crude oil   -2.185213  0.211656       8.0  2924.0 -3.432588 -2.862529   \n",
       "Heating oil -2.743636  0.066787       3.0  2929.0 -3.432585 -2.862527   \n",
       "Gasoline    -3.003758  0.034545       3.0  2510.0 -3.432958 -2.862692   \n",
       "\n",
       "               ci_0.1       ic_best  \n",
       "Crude oil   -2.567296   4195.186424  \n",
       "Heating oil -2.567296 -15763.929006  \n",
       "Gasoline    -2.567383 -14006.551367  "
      ]
     },
     "execution_count": 8,
     "metadata": {},
     "output_type": "execute_result"
    }
   ],
   "source": [
    "adf_result"
   ]
  },
  {
   "cell_type": "markdown",
   "id": "cb465c0a",
   "metadata": {
    "papermill": {
     "duration": 0.009251,
     "end_time": "2024-06-08T09:55:24.564666",
     "exception": false,
     "start_time": "2024-06-08T09:55:24.555415",
     "status": "completed"
    },
    "tags": []
   },
   "source": [
    "Probably it is to do with the sampling period. It may look a stationary process especially after 1986, however clearly it is heteroskedastic and the price move in 1986 seems like a shift in the level."
   ]
  },
  {
   "cell_type": "code",
   "execution_count": 9,
   "id": "11339aae",
   "metadata": {
    "execution": {
     "iopub.execute_input": "2024-06-08T09:55:24.586774Z",
     "iopub.status.busy": "2024-06-08T09:55:24.586550Z",
     "iopub.status.idle": "2024-06-08T09:55:25.018502Z",
     "shell.execute_reply": "2024-06-08T09:55:25.017972Z"
    },
    "papermill": {
     "duration": 0.447587,
     "end_time": "2024-06-08T09:55:25.021906",
     "exception": false,
     "start_time": "2024-06-08T09:55:24.574319",
     "status": "completed"
    },
    "tags": []
   },
   "outputs": [
    {
     "data": {
      "image/png": "[encoded data removed]",
      "text/plain": [
       "<Figure size 800x500 with 2 Axes>"
      ]
     },
     "metadata": {},
     "output_type": "display_data"
    }
   ],
   "source": [
    "fig, ax = plt.subplots(figsize=(8, 5))\n",
    "pd.concat((\n",
    "    cl_price['1983-04':'1994-11'],\n",
    "    ho_price['1983-04':'1994-11'],\n",
    "    xb_price['1984-12':'1994-11'],\n",
    "), axis=1).plot(secondary_y=['Heating oil', 'Gasoline'], ax=ax);\n",
    "ax.set_title('Futures prices (generic 1st)');"
   ]
  },
  {
   "cell_type": "markdown",
   "id": "47068957",
   "metadata": {
    "papermill": {
     "duration": 0.010162,
     "end_time": "2024-06-08T09:55:25.048845",
     "exception": false,
     "start_time": "2024-06-08T09:55:25.038683",
     "status": "completed"
    },
    "tags": []
   },
   "source": [
    "In fact, in the long-run $H_0$ cannot be rejected for all contracts based on both BIC and AIC."
   ]
  },
  {
   "cell_type": "code",
   "execution_count": 10,
   "id": "47dcef74",
   "metadata": {
    "execution": {
     "iopub.execute_input": "2024-06-08T09:55:25.069476Z",
     "iopub.status.busy": "2024-06-08T09:55:25.069243Z",
     "iopub.status.idle": "2024-06-08T09:55:27.259328Z",
     "shell.execute_reply": "2024-06-08T09:55:27.258518Z"
    },
    "papermill": {
     "duration": 2.204069,
     "end_time": "2024-06-08T09:55:27.262750",
     "exception": false,
     "start_time": "2024-06-08T09:55:25.058681",
     "status": "completed"
    },
    "tags": []
   },
   "outputs": [
    {
     "data": {
      "text/html": [
       "<div>\n",
       "<style scoped>\n",
       "    .dataframe tbody tr th:only-of-type {\n",
       "        vertical-align: middle;\n",
       "    }\n",
       "\n",
       "    .dataframe tbody tr th {\n",
       "        vertical-align: top;\n",
       "    }\n",
       "\n",
       "    .dataframe thead th {\n",
       "        text-align: right;\n",
       "    }\n",
       "</style>\n",
       "<table border=\"1\" class=\"dataframe\">\n",
       "  <thead>\n",
       "    <tr style=\"text-align: right;\">\n",
       "      <th></th>\n",
       "      <th>adf</th>\n",
       "      <th>p_value</th>\n",
       "      <th>used_lag</th>\n",
       "      <th>n_obs</th>\n",
       "      <th>ci_0.01</th>\n",
       "      <th>ci_0.05</th>\n",
       "      <th>ci_0.1</th>\n",
       "      <th>ic_best</th>\n",
       "    </tr>\n",
       "  </thead>\n",
       "  <tbody>\n",
       "    <tr>\n",
       "      <th>Crude oil</th>\n",
       "      <td>-1.933985</td>\n",
       "      <td>0.316246</td>\n",
       "      <td>1.0</td>\n",
       "      <td>10345.0</td>\n",
       "      <td>-3.430982</td>\n",
       "      <td>-2.861819</td>\n",
       "      <td>-2.566919</td>\n",
       "      <td>32912.453470</td>\n",
       "    </tr>\n",
       "    <tr>\n",
       "      <th>Heating oil</th>\n",
       "      <td>-1.778624</td>\n",
       "      <td>0.391125</td>\n",
       "      <td>6.0</td>\n",
       "      <td>10341.0</td>\n",
       "      <td>-3.430983</td>\n",
       "      <td>-2.861820</td>\n",
       "      <td>-2.566919</td>\n",
       "      <td>-37890.246008</td>\n",
       "    </tr>\n",
       "    <tr>\n",
       "      <th>Gasoline</th>\n",
       "      <td>-2.092494</td>\n",
       "      <td>0.247544</td>\n",
       "      <td>0.0</td>\n",
       "      <td>9927.0</td>\n",
       "      <td>-3.431009</td>\n",
       "      <td>-2.861831</td>\n",
       "      <td>-2.566925</td>\n",
       "      <td>-36655.196959</td>\n",
       "    </tr>\n",
       "  </tbody>\n",
       "</table>\n",
       "</div>"
      ],
      "text/plain": [
       "                  adf   p_value  used_lag    n_obs   ci_0.01   ci_0.05  \\\n",
       "Crude oil   -1.933985  0.316246       1.0  10345.0 -3.430982 -2.861819   \n",
       "Heating oil -1.778624  0.391125       6.0  10341.0 -3.430983 -2.861820   \n",
       "Gasoline    -2.092494  0.247544       0.0   9927.0 -3.431009 -2.861831   \n",
       "\n",
       "               ci_0.1       ic_best  \n",
       "Crude oil   -2.566919  32912.453470  \n",
       "Heating oil -2.566919 -37890.246008  \n",
       "Gasoline    -2.566925 -36655.196959  "
      ]
     },
     "execution_count": 10,
     "metadata": {},
     "output_type": "execute_result"
    }
   ],
   "source": [
    "pd.concat((\n",
    "    adf(cl_price['1983-04':], autolag='BIC').to_frame().T,\n",
    "    adf(ho_price['1983-04':], autolag='BIC').to_frame().T,\n",
    "    adf(xb_price['1984-12':], autolag='BIC').to_frame().T,\n",
    "))"
   ]
  },
  {
   "cell_type": "code",
   "execution_count": 11,
   "id": "6cda4738",
   "metadata": {
    "execution": {
     "iopub.execute_input": "2024-06-08T09:55:27.318634Z",
     "iopub.status.busy": "2024-06-08T09:55:27.318318Z",
     "iopub.status.idle": "2024-06-08T09:55:29.753857Z",
     "shell.execute_reply": "2024-06-08T09:55:29.752628Z"
    },
    "papermill": {
     "duration": 2.453531,
     "end_time": "2024-06-08T09:55:29.757488",
     "exception": false,
     "start_time": "2024-06-08T09:55:27.303957",
     "status": "completed"
    },
    "tags": []
   },
   "outputs": [
    {
     "data": {
      "text/html": [
       "<div>\n",
       "<style scoped>\n",
       "    .dataframe tbody tr th:only-of-type {\n",
       "        vertical-align: middle;\n",
       "    }\n",
       "\n",
       "    .dataframe tbody tr th {\n",
       "        vertical-align: top;\n",
       "    }\n",
       "\n",
       "    .dataframe thead th {\n",
       "        text-align: right;\n",
       "    }\n",
       "</style>\n",
       "<table border=\"1\" class=\"dataframe\">\n",
       "  <thead>\n",
       "    <tr style=\"text-align: right;\">\n",
       "      <th></th>\n",
       "      <th>adf</th>\n",
       "      <th>p_value</th>\n",
       "      <th>used_lag</th>\n",
       "      <th>n_obs</th>\n",
       "      <th>ci_0.01</th>\n",
       "      <th>ci_0.05</th>\n",
       "      <th>ci_0.1</th>\n",
       "      <th>ic_best</th>\n",
       "    </tr>\n",
       "  </thead>\n",
       "  <tbody>\n",
       "    <tr>\n",
       "      <th>Crude oil</th>\n",
       "      <td>-2.442725</td>\n",
       "      <td>0.130039</td>\n",
       "      <td>39.0</td>\n",
       "      <td>10307.0</td>\n",
       "      <td>-3.430985</td>\n",
       "      <td>-2.861820</td>\n",
       "      <td>-2.566919</td>\n",
       "      <td>32813.908084</td>\n",
       "    </tr>\n",
       "    <tr>\n",
       "      <th>Heating oil</th>\n",
       "      <td>-2.026062</td>\n",
       "      <td>0.275264</td>\n",
       "      <td>36.0</td>\n",
       "      <td>10311.0</td>\n",
       "      <td>-3.430984</td>\n",
       "      <td>-2.861820</td>\n",
       "      <td>-2.566919</td>\n",
       "      <td>-38038.775897</td>\n",
       "    </tr>\n",
       "    <tr>\n",
       "      <th>Gasoline</th>\n",
       "      <td>-2.389307</td>\n",
       "      <td>0.144777</td>\n",
       "      <td>26.0</td>\n",
       "      <td>9901.0</td>\n",
       "      <td>-3.431011</td>\n",
       "      <td>-2.861832</td>\n",
       "      <td>-2.566925</td>\n",
       "      <td>-36704.621754</td>\n",
       "    </tr>\n",
       "  </tbody>\n",
       "</table>\n",
       "</div>"
      ],
      "text/plain": [
       "                  adf   p_value  used_lag    n_obs   ci_0.01   ci_0.05  \\\n",
       "Crude oil   -2.442725  0.130039      39.0  10307.0 -3.430985 -2.861820   \n",
       "Heating oil -2.026062  0.275264      36.0  10311.0 -3.430984 -2.861820   \n",
       "Gasoline    -2.389307  0.144777      26.0   9901.0 -3.431011 -2.861832   \n",
       "\n",
       "               ci_0.1       ic_best  \n",
       "Crude oil   -2.566919  32813.908084  \n",
       "Heating oil -2.566919 -38038.775897  \n",
       "Gasoline    -2.566925 -36704.621754  "
      ]
     },
     "execution_count": 11,
     "metadata": {},
     "output_type": "execute_result"
    }
   ],
   "source": [
    "pd.concat((\n",
    "    adf(cl_price['1983-04':], autolag='AIC').to_frame().T,\n",
    "    adf(ho_price['1983-04':], autolag='AIC').to_frame().T,\n",
    "    adf(xb_price['1984-12':], autolag='AIC').to_frame().T,\n",
    "))"
   ]
  },
  {
   "cell_type": "markdown",
   "id": "eda29bdf",
   "metadata": {
    "papermill": {
     "duration": 0.017156,
     "end_time": "2024-06-08T09:55:29.811156",
     "exception": false,
     "start_time": "2024-06-08T09:55:29.794000",
     "status": "completed"
    },
    "tags": []
   },
   "source": [
    "Test for two unit roots shows the $H_0$ is rejected for all assets so it would be safe to assume prices are all $I(1)$ processes."
   ]
  },
  {
   "cell_type": "code",
   "execution_count": 12,
   "id": "5cc64e78",
   "metadata": {
    "execution": {
     "iopub.execute_input": "2024-06-08T09:55:29.832944Z",
     "iopub.status.busy": "2024-06-08T09:55:29.832704Z",
     "iopub.status.idle": "2024-06-08T09:55:30.685927Z",
     "shell.execute_reply": "2024-06-08T09:55:30.684673Z"
    },
    "papermill": {
     "duration": 0.868095,
     "end_time": "2024-06-08T09:55:30.689633",
     "exception": false,
     "start_time": "2024-06-08T09:55:29.821538",
     "status": "completed"
    },
    "tags": []
   },
   "outputs": [
    {
     "data": {
      "text/html": [
       "<div>\n",
       "<style scoped>\n",
       "    .dataframe tbody tr th:only-of-type {\n",
       "        vertical-align: middle;\n",
       "    }\n",
       "\n",
       "    .dataframe tbody tr th {\n",
       "        vertical-align: top;\n",
       "    }\n",
       "\n",
       "    .dataframe thead th {\n",
       "        text-align: right;\n",
       "    }\n",
       "</style>\n",
       "<table border=\"1\" class=\"dataframe\">\n",
       "  <thead>\n",
       "    <tr style=\"text-align: right;\">\n",
       "      <th></th>\n",
       "      <th>adf</th>\n",
       "      <th>p_value</th>\n",
       "      <th>used_lag</th>\n",
       "      <th>n_obs</th>\n",
       "      <th>ci_0.01</th>\n",
       "      <th>ci_0.05</th>\n",
       "      <th>ci_0.1</th>\n",
       "      <th>ic_best</th>\n",
       "    </tr>\n",
       "  </thead>\n",
       "  <tbody>\n",
       "    <tr>\n",
       "      <th>Crude oil</th>\n",
       "      <td>-22.609167</td>\n",
       "      <td>0.0</td>\n",
       "      <td>7.0</td>\n",
       "      <td>2924.0</td>\n",
       "      <td>-3.432588</td>\n",
       "      <td>-2.862529</td>\n",
       "      <td>-2.567296</td>\n",
       "      <td>4191.382386</td>\n",
       "    </tr>\n",
       "    <tr>\n",
       "      <th>Heating oil</th>\n",
       "      <td>-23.732562</td>\n",
       "      <td>0.0</td>\n",
       "      <td>7.0</td>\n",
       "      <td>2924.0</td>\n",
       "      <td>-3.432588</td>\n",
       "      <td>-2.862529</td>\n",
       "      <td>-2.567296</td>\n",
       "      <td>-15759.438574</td>\n",
       "    </tr>\n",
       "    <tr>\n",
       "      <th>Gasoline</th>\n",
       "      <td>-31.046797</td>\n",
       "      <td>0.0</td>\n",
       "      <td>2.0</td>\n",
       "      <td>2510.0</td>\n",
       "      <td>-3.432958</td>\n",
       "      <td>-2.862692</td>\n",
       "      <td>-2.567383</td>\n",
       "      <td>-13998.959272</td>\n",
       "    </tr>\n",
       "  </tbody>\n",
       "</table>\n",
       "</div>"
      ],
      "text/plain": [
       "                   adf  p_value  used_lag   n_obs   ci_0.01   ci_0.05  \\\n",
       "Crude oil   -22.609167      0.0       7.0  2924.0 -3.432588 -2.862529   \n",
       "Heating oil -23.732562      0.0       7.0  2924.0 -3.432588 -2.862529   \n",
       "Gasoline    -31.046797      0.0       2.0  2510.0 -3.432958 -2.862692   \n",
       "\n",
       "               ci_0.1       ic_best  \n",
       "Crude oil   -2.567296   4191.382386  \n",
       "Heating oil -2.567296 -15759.438574  \n",
       "Gasoline    -2.567383 -13998.959272  "
      ]
     },
     "execution_count": 12,
     "metadata": {},
     "output_type": "execute_result"
    }
   ],
   "source": [
    "pd.concat((\n",
    "    adf(cl_price['1983-04':'1994-11'].diff().dropna(), autolag='BIC').to_frame().T,\n",
    "    adf(ho_price['1983-04':'1994-11'].diff().dropna(), autolag='BIC').to_frame().T,\n",
    "    adf(xb_price['1984-12':'1994-11'].diff().dropna(), autolag='BIC').to_frame().T,\n",
    "))"
   ]
  },
  {
   "cell_type": "markdown",
   "id": "5443698a",
   "metadata": {
    "papermill": {
     "duration": 0.014681,
     "end_time": "2024-06-08T09:55:30.751521",
     "exception": false,
     "start_time": "2024-06-08T09:55:30.736840",
     "status": "completed"
    },
    "tags": []
   },
   "source": [
    "## Engle-Granger test\n",
    "\n",
    "Next, let's check if the crack spread is cointegrated. The cointegration vector is estimated by OLS and the stationarity of the residual is tested with the ADF test.\n",
    "The test is done by the `coint` function in `statsmodels`. (cf. https://www.statsmodels.org/dev/generated/statsmodels.tsa.stattools.coint.html)"
   ]
  },
  {
   "cell_type": "code",
   "execution_count": 13,
   "id": "15663029",
   "metadata": {
    "execution": {
     "iopub.execute_input": "2024-06-08T09:55:30.773277Z",
     "iopub.status.busy": "2024-06-08T09:55:30.773039Z",
     "iopub.status.idle": "2024-06-08T09:55:30.781648Z",
     "shell.execute_reply": "2024-06-08T09:55:30.780996Z"
    },
    "papermill": {
     "duration": 0.021167,
     "end_time": "2024-06-08T09:55:30.783036",
     "exception": false,
     "start_time": "2024-06-08T09:55:30.761869",
     "status": "completed"
    },
    "tags": []
   },
   "outputs": [],
   "source": [
    "price_concat = pd.concat((\n",
    "    cl_price,\n",
    "    ho_price,\n",
    "    xb_price,\n",
    "), axis=1).fillna(method='pad').dropna()"
   ]
  },
  {
   "cell_type": "code",
   "execution_count": 14,
   "id": "cf731a5e",
   "metadata": {
    "execution": {
     "iopub.execute_input": "2024-06-08T09:55:30.805144Z",
     "iopub.status.busy": "2024-06-08T09:55:30.804889Z",
     "iopub.status.idle": "2024-06-08T09:55:30.808881Z",
     "shell.execute_reply": "2024-06-08T09:55:30.808292Z"
    },
    "papermill": {
     "duration": 0.01666,
     "end_time": "2024-06-08T09:55:30.810194",
     "exception": false,
     "start_time": "2024-06-08T09:55:30.793534",
     "status": "completed"
    },
    "tags": []
   },
   "outputs": [],
   "source": [
    "def coint(y: pd.Series, x: pd.DataFrame) -> pd.Series:\n",
    "    \"\"\" Run the cointegration test and return a cleaned result \"\"\"\n",
    "    result = sm.tsa.stattools.coint(y, x)\n",
    "    cleaned = {\n",
    "        't_value': result[0],\n",
    "        'p_value': result[1],\n",
    "        'ci_0.01': result[2][0],\n",
    "        'ci_0.05': result[2][1],\n",
    "        'ci_0.1': result[2][2],\n",
    "    }\n",
    "    return pd.Series(cleaned)"
   ]
  },
  {
   "cell_type": "code",
   "execution_count": 15,
   "id": "4299196b",
   "metadata": {
    "execution": {
     "iopub.execute_input": "2024-06-08T09:55:30.832338Z",
     "iopub.status.busy": "2024-06-08T09:55:30.832120Z",
     "iopub.status.idle": "2024-06-08T09:55:31.583345Z",
     "shell.execute_reply": "2024-06-08T09:55:31.582051Z"
    },
    "papermill": {
     "duration": 0.765089,
     "end_time": "2024-06-08T09:55:31.585661",
     "exception": false,
     "start_time": "2024-06-08T09:55:30.820572",
     "status": "completed"
    },
    "tags": []
   },
   "outputs": [],
   "source": [
    "coint_result = pd.concat((\n",
    "    coint(\n",
    "        price_concat.loc[:'1994-11', 'Crude oil'],\n",
    "        price_concat.loc[:'1994-11', ['Heating oil', 'Gasoline']]\n",
    "    ).to_frame('CL vs HO + XB').T,\n",
    "    coint(\n",
    "        price_concat.loc[:'1994-11', 'Crude oil'],\n",
    "        price_concat.loc[:'1994-11', ['Gasoline']]\n",
    "    ).to_frame('CL vs XB').T,\n",
    "    coint(\n",
    "        price_concat.loc[:'1994-11', 'Crude oil'],\n",
    "        price_concat.loc[:'1994-11', ['Heating oil']]\n",
    "    ).to_frame('CL vs HO').T,\n",
    "))"
   ]
  },
  {
   "cell_type": "markdown",
   "id": "ea294ded",
   "metadata": {
    "papermill": {
     "duration": 0.019707,
     "end_time": "2024-06-08T09:55:31.624789",
     "exception": false,
     "start_time": "2024-06-08T09:55:31.605082",
     "status": "completed"
    },
    "tags": []
   },
   "source": [
    "The $H_0$ is that there is no cointegration. As per GP1999, all three crack spreads are cointegrated. "
   ]
  },
  {
   "cell_type": "code",
   "execution_count": 16,
   "id": "1824345d",
   "metadata": {
    "execution": {
     "iopub.execute_input": "2024-06-08T09:55:31.663392Z",
     "iopub.status.busy": "2024-06-08T09:55:31.663154Z",
     "iopub.status.idle": "2024-06-08T09:55:31.671320Z",
     "shell.execute_reply": "2024-06-08T09:55:31.670807Z"
    },
    "papermill": {
     "duration": 0.029506,
     "end_time": "2024-06-08T09:55:31.673261",
     "exception": false,
     "start_time": "2024-06-08T09:55:31.643755",
     "status": "completed"
    },
    "tags": []
   },
   "outputs": [
    {
     "data": {
      "text/html": [
       "<div>\n",
       "<style scoped>\n",
       "    .dataframe tbody tr th:only-of-type {\n",
       "        vertical-align: middle;\n",
       "    }\n",
       "\n",
       "    .dataframe tbody tr th {\n",
       "        vertical-align: top;\n",
       "    }\n",
       "\n",
       "    .dataframe thead th {\n",
       "        text-align: right;\n",
       "    }\n",
       "</style>\n",
       "<table border=\"1\" class=\"dataframe\">\n",
       "  <thead>\n",
       "    <tr style=\"text-align: right;\">\n",
       "      <th></th>\n",
       "      <th>t_value</th>\n",
       "      <th>p_value</th>\n",
       "      <th>ci_0.01</th>\n",
       "      <th>ci_0.05</th>\n",
       "      <th>ci_0.1</th>\n",
       "    </tr>\n",
       "  </thead>\n",
       "  <tbody>\n",
       "    <tr>\n",
       "      <th>CL vs HO + XB</th>\n",
       "      <td>-6.110715</td>\n",
       "      <td>0.000005</td>\n",
       "      <td>-4.299485</td>\n",
       "      <td>-3.744067</td>\n",
       "      <td>-3.454651</td>\n",
       "    </tr>\n",
       "    <tr>\n",
       "      <th>CL vs XB</th>\n",
       "      <td>-5.762029</td>\n",
       "      <td>0.000005</td>\n",
       "      <td>-3.900800</td>\n",
       "      <td>-3.338561</td>\n",
       "      <td>-3.046137</td>\n",
       "    </tr>\n",
       "    <tr>\n",
       "      <th>CL vs HO</th>\n",
       "      <td>-5.708354</td>\n",
       "      <td>0.000007</td>\n",
       "      <td>-3.900800</td>\n",
       "      <td>-3.338561</td>\n",
       "      <td>-3.046137</td>\n",
       "    </tr>\n",
       "  </tbody>\n",
       "</table>\n",
       "</div>"
      ],
      "text/plain": [
       "                t_value   p_value   ci_0.01   ci_0.05    ci_0.1\n",
       "CL vs HO + XB -6.110715  0.000005 -4.299485 -3.744067 -3.454651\n",
       "CL vs XB      -5.762029  0.000005 -3.900800 -3.338561 -3.046137\n",
       "CL vs HO      -5.708354  0.000007 -3.900800 -3.338561 -3.046137"
      ]
     },
     "execution_count": 16,
     "metadata": {},
     "output_type": "execute_result"
    }
   ],
   "source": [
    "coint_result"
   ]
  },
  {
   "cell_type": "markdown",
   "id": "2f816c06",
   "metadata": {
    "papermill": {
     "duration": 0.018672,
     "end_time": "2024-06-08T09:55:31.710365",
     "exception": false,
     "start_time": "2024-06-08T09:55:31.691693",
     "status": "completed"
    },
    "tags": []
   },
   "source": [
    "This seems to hold with the full sample."
   ]
  },
  {
   "cell_type": "code",
   "execution_count": 17,
   "id": "467771dc",
   "metadata": {
    "execution": {
     "iopub.execute_input": "2024-06-08T09:55:31.748939Z",
     "iopub.status.busy": "2024-06-08T09:55:31.748374Z",
     "iopub.status.idle": "2024-06-08T09:55:34.901775Z",
     "shell.execute_reply": "2024-06-08T09:55:34.900575Z"
    },
    "papermill": {
     "duration": 3.175681,
     "end_time": "2024-06-08T09:55:34.904974",
     "exception": false,
     "start_time": "2024-06-08T09:55:31.729293",
     "status": "completed"
    },
    "tags": []
   },
   "outputs": [
    {
     "data": {
      "text/html": [
       "<div>\n",
       "<style scoped>\n",
       "    .dataframe tbody tr th:only-of-type {\n",
       "        vertical-align: middle;\n",
       "    }\n",
       "\n",
       "    .dataframe tbody tr th {\n",
       "        vertical-align: top;\n",
       "    }\n",
       "\n",
       "    .dataframe thead th {\n",
       "        text-align: right;\n",
       "    }\n",
       "</style>\n",
       "<table border=\"1\" class=\"dataframe\">\n",
       "  <thead>\n",
       "    <tr style=\"text-align: right;\">\n",
       "      <th></th>\n",
       "      <th>t_value</th>\n",
       "      <th>p_value</th>\n",
       "      <th>ci_0.01</th>\n",
       "      <th>ci_0.05</th>\n",
       "      <th>ci_0.1</th>\n",
       "    </tr>\n",
       "  </thead>\n",
       "  <tbody>\n",
       "    <tr>\n",
       "      <th>CL vs HO + XB</th>\n",
       "      <td>-4.837920</td>\n",
       "      <td>1.456534e-03</td>\n",
       "      <td>-4.295194</td>\n",
       "      <td>-3.741522</td>\n",
       "      <td>-3.452806</td>\n",
       "    </tr>\n",
       "    <tr>\n",
       "      <th>CL vs XB</th>\n",
       "      <td>-7.020211</td>\n",
       "      <td>7.681499e-09</td>\n",
       "      <td>-3.897543</td>\n",
       "      <td>-3.336745</td>\n",
       "      <td>-3.044877</td>\n",
       "    </tr>\n",
       "    <tr>\n",
       "      <th>CL vs HO</th>\n",
       "      <td>-4.474438</td>\n",
       "      <td>1.348630e-03</td>\n",
       "      <td>-3.897543</td>\n",
       "      <td>-3.336745</td>\n",
       "      <td>-3.044877</td>\n",
       "    </tr>\n",
       "  </tbody>\n",
       "</table>\n",
       "</div>"
      ],
      "text/plain": [
       "                t_value       p_value   ci_0.01   ci_0.05    ci_0.1\n",
       "CL vs HO + XB -4.837920  1.456534e-03 -4.295194 -3.741522 -3.452806\n",
       "CL vs XB      -7.020211  7.681499e-09 -3.897543 -3.336745 -3.044877\n",
       "CL vs HO      -4.474438  1.348630e-03 -3.897543 -3.336745 -3.044877"
      ]
     },
     "execution_count": 17,
     "metadata": {},
     "output_type": "execute_result"
    }
   ],
   "source": [
    "pd.concat((\n",
    "    coint(\n",
    "        price_concat.loc[:, 'Crude oil'],\n",
    "        price_concat.loc[:, ['Heating oil', 'Gasoline']]\n",
    "    ).to_frame('CL vs HO + XB').T,\n",
    "    coint(\n",
    "        price_concat.loc[:, 'Crude oil'],\n",
    "        price_concat.loc[:, ['Gasoline']]\n",
    "    ).to_frame('CL vs XB').T,\n",
    "    coint(\n",
    "        price_concat.loc[:, 'Crude oil'],\n",
    "        price_concat.loc[:, ['Heating oil']]\n",
    "    ).to_frame('CL vs HO').T,\n",
    "))"
   ]
  },
  {
   "cell_type": "markdown",
   "id": "9107b072",
   "metadata": {
    "papermill": {
     "duration": 0.025353,
     "end_time": "2024-06-08T09:55:34.987991",
     "exception": false,
     "start_time": "2024-06-08T09:55:34.962638",
     "status": "completed"
    },
    "tags": []
   },
   "source": [
    "However the confidence level is somewhat weakend with recent data although they are at least still cointegrated at the 5% level."
   ]
  },
  {
   "cell_type": "code",
   "execution_count": 18,
   "id": "3898183b",
   "metadata": {
    "execution": {
     "iopub.execute_input": "2024-06-08T09:55:35.035575Z",
     "iopub.status.busy": "2024-06-08T09:55:35.035066Z",
     "iopub.status.idle": "2024-06-08T09:55:36.541192Z",
     "shell.execute_reply": "2024-06-08T09:55:36.539924Z"
    },
    "papermill": {
     "duration": 1.531735,
     "end_time": "2024-06-08T09:55:36.543471",
     "exception": false,
     "start_time": "2024-06-08T09:55:35.011736",
     "status": "completed"
    },
    "tags": []
   },
   "outputs": [
    {
     "data": {
      "text/html": [
       "<div>\n",
       "<style scoped>\n",
       "    .dataframe tbody tr th:only-of-type {\n",
       "        vertical-align: middle;\n",
       "    }\n",
       "\n",
       "    .dataframe tbody tr th {\n",
       "        vertical-align: top;\n",
       "    }\n",
       "\n",
       "    .dataframe thead th {\n",
       "        text-align: right;\n",
       "    }\n",
       "</style>\n",
       "<table border=\"1\" class=\"dataframe\">\n",
       "  <thead>\n",
       "    <tr style=\"text-align: right;\">\n",
       "      <th></th>\n",
       "      <th>t_value</th>\n",
       "      <th>p_value</th>\n",
       "      <th>ci_0.01</th>\n",
       "      <th>ci_0.05</th>\n",
       "      <th>ci_0.1</th>\n",
       "    </tr>\n",
       "  </thead>\n",
       "  <tbody>\n",
       "    <tr>\n",
       "      <th>CL vs HO + XB</th>\n",
       "      <td>-4.309257</td>\n",
       "      <td>0.009529</td>\n",
       "      <td>-4.297714</td>\n",
       "      <td>-3.743017</td>\n",
       "      <td>-3.453890</td>\n",
       "    </tr>\n",
       "    <tr>\n",
       "      <th>CL vs XB</th>\n",
       "      <td>-4.996337</td>\n",
       "      <td>0.000167</td>\n",
       "      <td>-3.899455</td>\n",
       "      <td>-3.337811</td>\n",
       "      <td>-3.045617</td>\n",
       "    </tr>\n",
       "    <tr>\n",
       "      <th>CL vs HO</th>\n",
       "      <td>-3.347045</td>\n",
       "      <td>0.048582</td>\n",
       "      <td>-3.899455</td>\n",
       "      <td>-3.337811</td>\n",
       "      <td>-3.045617</td>\n",
       "    </tr>\n",
       "  </tbody>\n",
       "</table>\n",
       "</div>"
      ],
      "text/plain": [
       "                t_value   p_value   ci_0.01   ci_0.05    ci_0.1\n",
       "CL vs HO + XB -4.309257  0.009529 -4.297714 -3.743017 -3.453890\n",
       "CL vs XB      -4.996337  0.000167 -3.899455 -3.337811 -3.045617\n",
       "CL vs HO      -3.347045  0.048582 -3.899455 -3.337811 -3.045617"
      ]
     },
     "execution_count": 18,
     "metadata": {},
     "output_type": "execute_result"
    }
   ],
   "source": [
    "pd.concat((\n",
    "    coint(\n",
    "        price_concat.loc['2010':, 'Crude oil'],\n",
    "        price_concat.loc['2010':, ['Heating oil', 'Gasoline']]\n",
    "    ).to_frame('CL vs HO + XB').T,\n",
    "    coint(\n",
    "        price_concat.loc['2010':, 'Crude oil'],\n",
    "        price_concat.loc['2010':, ['Gasoline']]\n",
    "    ).to_frame('CL vs XB').T,\n",
    "    coint(\n",
    "        price_concat.loc['2010':, 'Crude oil'],\n",
    "        price_concat.loc['2010':, ['Heating oil']]\n",
    "    ).to_frame('CL vs HO').T,\n",
    "))"
   ]
  },
  {
   "cell_type": "markdown",
   "id": "f22325d0",
   "metadata": {
    "papermill": {
     "duration": 0.022909,
     "end_time": "2024-06-08T09:55:36.592168",
     "exception": false,
     "start_time": "2024-06-08T09:55:36.569259",
     "status": "completed"
    },
    "tags": []
   },
   "source": [
    "## Crack spreads\n",
    "\n",
    "Additionally, GP1999 tests the stationarity of the popularly traded crack spread -- 3:2:1 crack spread (CS), 1:1:0 gasoline crack spread (GCS) and 1:0:1 heating oil crack spread (HOCS).\n",
    "\n",
    "Note that the crude oil contract is priced in barrels while the other two are priced in gallon, and there are 42 gallons per 1 barrel. Some unit conversions are required to calculate such spreads."
   ]
  },
  {
   "cell_type": "code",
   "execution_count": 19,
   "id": "015bb3e9",
   "metadata": {
    "execution": {
     "iopub.execute_input": "2024-06-08T09:55:36.630680Z",
     "iopub.status.busy": "2024-06-08T09:55:36.630455Z",
     "iopub.status.idle": "2024-06-08T09:55:36.636061Z",
     "shell.execute_reply": "2024-06-08T09:55:36.635403Z"
    },
    "papermill": {
     "duration": 0.02722,
     "end_time": "2024-06-08T09:55:36.638096",
     "exception": false,
     "start_time": "2024-06-08T09:55:36.610876",
     "status": "completed"
    },
    "tags": []
   },
   "outputs": [],
   "source": [
    "cs = (price_concat['Heating oil'].mul(42).mul(2 / 3) + \n",
    "      price_concat['Gasoline'].mul(42).mul(1 / 3) - \n",
    "      price_concat['Crude oil'])\n",
    "gcs = (price_concat['Gasoline'].mul(42) - \n",
    "       price_concat['Crude oil'])\n",
    "hocs = (price_concat['Heating oil'].mul(42) - \n",
    "        price_concat['Crude oil'])"
   ]
  },
  {
   "cell_type": "markdown",
   "id": "6608463f",
   "metadata": {
    "papermill": {
     "duration": 0.011813,
     "end_time": "2024-06-08T09:55:36.669085",
     "exception": false,
     "start_time": "2024-06-08T09:55:36.657272",
     "status": "completed"
    },
    "tags": []
   },
   "source": [
    "As can be seen visually below, these spreads appear stationary until around 2000 after which they started to drift away from a certain level. This could be related to the financialisation of commodities. There are some evidence suggesting that index investments and speculative trades influence the commodity markets. (cf https://www.ecb.europa.eu/pub/financial-stability/fsr/focus/2011/pdf/ecb~6fdfdfce1c.fsrbox201112_04.pdf)"
   ]
  },
  {
   "cell_type": "code",
   "execution_count": 20,
   "id": "0b27db24",
   "metadata": {
    "execution": {
     "iopub.execute_input": "2024-06-08T09:55:36.696162Z",
     "iopub.status.busy": "2024-06-08T09:55:36.695860Z",
     "iopub.status.idle": "2024-06-08T09:55:37.834902Z",
     "shell.execute_reply": "2024-06-08T09:55:37.834129Z"
    },
    "papermill": {
     "duration": 1.156795,
     "end_time": "2024-06-08T09:55:37.837965",
     "exception": false,
     "start_time": "2024-06-08T09:55:36.681170",
     "status": "completed"
    },
    "tags": []
   },
   "outputs": [
    {
     "data": {
      "image/png": "[encoded data removed]",
      "text/plain": [
       "<Figure size 1200x400 with 3 Axes>"
      ]
     },
     "metadata": {},
     "output_type": "display_data"
    }
   ],
   "source": [
    "fig, ax = plt.subplots(1, 3, figsize=(12, 4), sharey=True)\n",
    "cs.plot(ax=ax[0])\n",
    "gcs.plot(ax=ax[1])\n",
    "hocs.plot(ax=ax[2])\n",
    "\n",
    "ax[0].set_title('3:2:1 crack spread')\n",
    "ax[1].set_title('1:1:0 gasoline crack spread')\n",
    "ax[2].set_title('1:0:1 heating oil crack spread')\n",
    "ax[0].set_ylabel('Crack spread ($)')\n",
    "\n",
    "fig.tight_layout();"
   ]
  },
  {
   "cell_type": "markdown",
   "id": "ddba6b40",
   "metadata": {
    "papermill": {
     "duration": 0.017533,
     "end_time": "2024-06-08T09:55:37.876531",
     "exception": false,
     "start_time": "2024-06-08T09:55:37.858998",
     "status": "completed"
    },
    "tags": []
   },
   "source": [
    "More formally, the ADF tests below show that they were stationary until Nov-1994."
   ]
  },
  {
   "cell_type": "code",
   "execution_count": 21,
   "id": "bd58dd0b",
   "metadata": {
    "execution": {
     "iopub.execute_input": "2024-06-08T09:55:37.905120Z",
     "iopub.status.busy": "2024-06-08T09:55:37.904763Z",
     "iopub.status.idle": "2024-06-08T09:55:38.834478Z",
     "shell.execute_reply": "2024-06-08T09:55:38.833186Z"
    },
    "papermill": {
     "duration": 0.949728,
     "end_time": "2024-06-08T09:55:38.838167",
     "exception": false,
     "start_time": "2024-06-08T09:55:37.888439",
     "status": "completed"
    },
    "tags": []
   },
   "outputs": [
    {
     "data": {
      "text/html": [
       "<div>\n",
       "<style scoped>\n",
       "    .dataframe tbody tr th:only-of-type {\n",
       "        vertical-align: middle;\n",
       "    }\n",
       "\n",
       "    .dataframe tbody tr th {\n",
       "        vertical-align: top;\n",
       "    }\n",
       "\n",
       "    .dataframe thead th {\n",
       "        text-align: right;\n",
       "    }\n",
       "</style>\n",
       "<table border=\"1\" class=\"dataframe\">\n",
       "  <thead>\n",
       "    <tr style=\"text-align: right;\">\n",
       "      <th></th>\n",
       "      <th>adf</th>\n",
       "      <th>p_value</th>\n",
       "      <th>used_lag</th>\n",
       "      <th>n_obs</th>\n",
       "      <th>ci_0.01</th>\n",
       "      <th>ci_0.05</th>\n",
       "      <th>ci_0.1</th>\n",
       "      <th>ic_best</th>\n",
       "    </tr>\n",
       "  </thead>\n",
       "  <tbody>\n",
       "    <tr>\n",
       "      <th>0</th>\n",
       "      <td>-7.926287</td>\n",
       "      <td>3.611421e-12</td>\n",
       "      <td>0.0</td>\n",
       "      <td>2515.0</td>\n",
       "      <td>-3.432953</td>\n",
       "      <td>-2.86269</td>\n",
       "      <td>-2.567382</td>\n",
       "      <td>1757.165999</td>\n",
       "    </tr>\n",
       "    <tr>\n",
       "      <th>0</th>\n",
       "      <td>-5.640046</td>\n",
       "      <td>1.041538e-06</td>\n",
       "      <td>1.0</td>\n",
       "      <td>2514.0</td>\n",
       "      <td>-3.432954</td>\n",
       "      <td>-2.86269</td>\n",
       "      <td>-2.567382</td>\n",
       "      <td>2505.871051</td>\n",
       "    </tr>\n",
       "    <tr>\n",
       "      <th>0</th>\n",
       "      <td>-6.999952</td>\n",
       "      <td>7.365777e-10</td>\n",
       "      <td>0.0</td>\n",
       "      <td>2515.0</td>\n",
       "      <td>-3.432953</td>\n",
       "      <td>-2.86269</td>\n",
       "      <td>-2.567382</td>\n",
       "      <td>2815.457971</td>\n",
       "    </tr>\n",
       "  </tbody>\n",
       "</table>\n",
       "</div>"
      ],
      "text/plain": [
       "        adf       p_value  used_lag   n_obs   ci_0.01  ci_0.05    ci_0.1  \\\n",
       "0 -7.926287  3.611421e-12       0.0  2515.0 -3.432953 -2.86269 -2.567382   \n",
       "0 -5.640046  1.041538e-06       1.0  2514.0 -3.432954 -2.86269 -2.567382   \n",
       "0 -6.999952  7.365777e-10       0.0  2515.0 -3.432953 -2.86269 -2.567382   \n",
       "\n",
       "       ic_best  \n",
       "0  1757.165999  \n",
       "0  2505.871051  \n",
       "0  2815.457971  "
      ]
     },
     "execution_count": 21,
     "metadata": {},
     "output_type": "execute_result"
    }
   ],
   "source": [
    "pd.concat((\n",
    "    adf(cs[:'1994-11'], autolag='BIC').to_frame().T,\n",
    "    adf(gcs[:'1994-11'], autolag='BIC').to_frame().T,\n",
    "    adf(hocs[:'1994-11'], autolag='BIC').to_frame().T,\n",
    "))"
   ]
  },
  {
   "cell_type": "markdown",
   "id": "6e2c8692",
   "metadata": {
    "papermill": {
     "duration": 0.012304,
     "end_time": "2024-06-08T09:55:38.880411",
     "exception": false,
     "start_time": "2024-06-08T09:55:38.868107",
     "status": "completed"
    },
    "tags": []
   },
   "source": [
    "Statistically though these spreads are still stationary at the 1% confidence level even after 2000."
   ]
  },
  {
   "cell_type": "code",
   "execution_count": 22,
   "id": "d3f9d7a9",
   "metadata": {
    "execution": {
     "iopub.execute_input": "2024-06-08T09:55:38.906474Z",
     "iopub.status.busy": "2024-06-08T09:55:38.906113Z",
     "iopub.status.idle": "2024-06-08T09:55:40.019848Z",
     "shell.execute_reply": "2024-06-08T09:55:40.018640Z"
    },
    "papermill": {
     "duration": 1.129837,
     "end_time": "2024-06-08T09:55:40.022744",
     "exception": false,
     "start_time": "2024-06-08T09:55:38.892907",
     "status": "completed"
    },
    "tags": []
   },
   "outputs": [
    {
     "data": {
      "text/html": [
       "<div>\n",
       "<style scoped>\n",
       "    .dataframe tbody tr th:only-of-type {\n",
       "        vertical-align: middle;\n",
       "    }\n",
       "\n",
       "    .dataframe tbody tr th {\n",
       "        vertical-align: top;\n",
       "    }\n",
       "\n",
       "    .dataframe thead th {\n",
       "        text-align: right;\n",
       "    }\n",
       "</style>\n",
       "<table border=\"1\" class=\"dataframe\">\n",
       "  <thead>\n",
       "    <tr style=\"text-align: right;\">\n",
       "      <th></th>\n",
       "      <th>adf</th>\n",
       "      <th>p_value</th>\n",
       "      <th>used_lag</th>\n",
       "      <th>n_obs</th>\n",
       "      <th>ci_0.01</th>\n",
       "      <th>ci_0.05</th>\n",
       "      <th>ci_0.1</th>\n",
       "      <th>ic_best</th>\n",
       "    </tr>\n",
       "  </thead>\n",
       "  <tbody>\n",
       "    <tr>\n",
       "      <th>0</th>\n",
       "      <td>-3.649394</td>\n",
       "      <td>0.004884</td>\n",
       "      <td>3.0</td>\n",
       "      <td>6134.0</td>\n",
       "      <td>-3.431417</td>\n",
       "      <td>-2.862011</td>\n",
       "      <td>-2.567021</td>\n",
       "      <td>18777.213332</td>\n",
       "    </tr>\n",
       "    <tr>\n",
       "      <th>0</th>\n",
       "      <td>-5.352045</td>\n",
       "      <td>0.000004</td>\n",
       "      <td>0.0</td>\n",
       "      <td>6137.0</td>\n",
       "      <td>-3.431416</td>\n",
       "      <td>-2.862011</td>\n",
       "      <td>-2.567021</td>\n",
       "      <td>20428.216366</td>\n",
       "    </tr>\n",
       "    <tr>\n",
       "      <th>0</th>\n",
       "      <td>-3.813149</td>\n",
       "      <td>0.002776</td>\n",
       "      <td>2.0</td>\n",
       "      <td>6135.0</td>\n",
       "      <td>-3.431416</td>\n",
       "      <td>-2.862011</td>\n",
       "      <td>-2.567021</td>\n",
       "      <td>21056.261652</td>\n",
       "    </tr>\n",
       "  </tbody>\n",
       "</table>\n",
       "</div>"
      ],
      "text/plain": [
       "        adf   p_value  used_lag   n_obs   ci_0.01   ci_0.05    ci_0.1  \\\n",
       "0 -3.649394  0.004884       3.0  6134.0 -3.431417 -2.862011 -2.567021   \n",
       "0 -5.352045  0.000004       0.0  6137.0 -3.431416 -2.862011 -2.567021   \n",
       "0 -3.813149  0.002776       2.0  6135.0 -3.431416 -2.862011 -2.567021   \n",
       "\n",
       "        ic_best  \n",
       "0  18777.213332  \n",
       "0  20428.216366  \n",
       "0  21056.261652  "
      ]
     },
     "execution_count": 22,
     "metadata": {},
     "output_type": "execute_result"
    }
   ],
   "source": [
    "pd.concat((\n",
    "    adf(cs['2000':], autolag='BIC').to_frame().T,\n",
    "    adf(gcs['2000':], autolag='BIC').to_frame().T,\n",
    "    adf(hocs['2000':], autolag='BIC').to_frame().T,\n",
    "))"
   ]
  },
  {
   "cell_type": "markdown",
   "id": "eb6c197c",
   "metadata": {
    "papermill": {
     "duration": 0.012478,
     "end_time": "2024-06-08T09:55:40.086780",
     "exception": false,
     "start_time": "2024-06-08T09:55:40.074302",
     "status": "completed"
    },
    "tags": []
   },
   "source": [
    "# Backtest"
   ]
  },
  {
   "cell_type": "markdown",
   "id": "4bbb1506",
   "metadata": {
    "papermill": {
     "duration": 0.012714,
     "end_time": "2024-06-08T09:55:40.112260",
     "exception": false,
     "start_time": "2024-06-08T09:55:40.099546",
     "status": "completed"
    },
    "tags": []
   },
   "source": [
    "It's not entirely clear how many back contracts are used in the original analysis as they only mentioned they used *all spreads*. In this notebook, the first 6 contracts are used for the sake of simplicity. Beyond 6, there tends to be more missing prices because of inactivity.\n",
    "\n",
    "In practice, one might want to consider liquidity of each contract to decide which one to trade as not all contract months have the same liquidity. In the case of crude oil, after certain points only June and December contracts are actually traded even though other months are listed."
   ]
  },
  {
   "cell_type": "code",
   "execution_count": 23,
   "id": "4aebb8bd",
   "metadata": {
    "execution": {
     "iopub.execute_input": "2024-06-08T09:55:40.138402Z",
     "iopub.status.busy": "2024-06-08T09:55:40.138156Z",
     "iopub.status.idle": "2024-06-08T09:55:41.134326Z",
     "shell.execute_reply": "2024-06-08T09:55:41.133712Z"
    },
    "papermill": {
     "duration": 1.011195,
     "end_time": "2024-06-08T09:55:41.135864",
     "exception": false,
     "start_time": "2024-06-08T09:55:40.124669",
     "status": "completed"
    },
    "tags": []
   },
   "outputs": [],
   "source": [
    "cl_curve = get_futures_curve_snapshot('CL', datetime(2021, 12, 1), 'volume')"
   ]
  },
  {
   "cell_type": "code",
   "execution_count": 24,
   "id": "c2bd035a",
   "metadata": {
    "execution": {
     "iopub.execute_input": "2024-06-08T09:55:41.162906Z",
     "iopub.status.busy": "2024-06-08T09:55:41.162667Z",
     "iopub.status.idle": "2024-06-08T09:55:41.546614Z",
     "shell.execute_reply": "2024-06-08T09:55:41.545978Z"
    },
    "papermill": {
     "duration": 0.399497,
     "end_time": "2024-06-08T09:55:41.548655",
     "exception": false,
     "start_time": "2024-06-08T09:55:41.149158",
     "status": "completed"
    },
    "tags": []
   },
   "outputs": [
    {
     "data": {
      "image/png": "[encoded data removed]",
      "text/plain": [
       "<Figure size 1400x300 with 1 Axes>"
      ]
     },
     "metadata": {},
     "output_type": "display_data"
    }
   ],
   "source": [
    "ax = cl_curve.loc[:'2024'].set_index('symbol')['volume'].plot(kind='bar', figsize=(14, 3));\n",
    "ax.set_ylabel('Volume')\n",
    "ax.set_title('Crude oil traded volume per contract');"
   ]
  },
  {
   "cell_type": "markdown",
   "id": "9de6acec",
   "metadata": {
    "papermill": {
     "duration": 0.012799,
     "end_time": "2024-06-08T09:55:41.574914",
     "exception": false,
     "start_time": "2024-06-08T09:55:41.562115",
     "status": "completed"
    },
    "tags": []
   },
   "source": [
    "## Crack spread\n",
    "\n",
    "First define the instruments. `roll_rule` is defined to make sure futures are rolled on month-ends. As per the analysis done for crush spreads, some arbitrary collateral of 100k USD is used to meature futures returns."
   ]
  },
  {
   "cell_type": "code",
   "execution_count": 25,
   "id": "5d159539",
   "metadata": {
    "execution": {
     "iopub.execute_input": "2024-06-08T09:55:41.602079Z",
     "iopub.status.busy": "2024-06-08T09:55:41.601837Z",
     "iopub.status.idle": "2024-06-08T09:55:41.606277Z",
     "shell.execute_reply": "2024-06-08T09:55:41.605644Z"
    },
    "papermill": {
     "duration": 0.019834,
     "end_time": "2024-06-08T09:55:41.607655",
     "exception": false,
     "start_time": "2024-06-08T09:55:41.587821",
     "status": "completed"
    },
    "tags": []
   },
   "outputs": [],
   "source": [
    "max_expiry = 6\n",
    "instrument = []\n",
    "for i in range(1, max_expiry + 1):\n",
    "    ho = InstrumentDef('HO', id=f'HO_{i}', collateral=100_000, roll_rule=RollRule.MONTH_END.value, nth_expiry=i)\n",
    "    xb = InstrumentDef('XB', id=f'XB_{i}', collateral=100_000, roll_rule=RollRule.MONTH_END.value, nth_expiry=i)\n",
    "    cl = InstrumentDef('CL', id=f'CL_{i}', collateral=100_000, roll_rule=RollRule.MONTH_END.value, nth_expiry=i)\n",
    "    instrument.append(ho)\n",
    "    instrument.append(xb)\n",
    "    instrument.append(cl)"
   ]
  },
  {
   "cell_type": "code",
   "execution_count": 26,
   "id": "19851a3b",
   "metadata": {
    "execution": {
     "iopub.execute_input": "2024-06-08T09:55:41.634789Z",
     "iopub.status.busy": "2024-06-08T09:55:41.634375Z",
     "iopub.status.idle": "2024-06-08T09:55:41.638316Z",
     "shell.execute_reply": "2024-06-08T09:55:41.637820Z"
    },
    "papermill": {
     "duration": 0.01902,
     "end_time": "2024-06-08T09:55:41.639608",
     "exception": false,
     "start_time": "2024-06-08T09:55:41.620588",
     "status": "completed"
    },
    "tags": []
   },
   "outputs": [
    {
     "data": {
      "text/plain": [
       "18"
      ]
     },
     "execution_count": 26,
     "metadata": {},
     "output_type": "execute_result"
    }
   ],
   "source": [
    "len(instrument)"
   ]
  },
  {
   "cell_type": "code",
   "execution_count": 27,
   "id": "729399c3",
   "metadata": {
    "execution": {
     "iopub.execute_input": "2024-06-08T09:55:41.667823Z",
     "iopub.status.busy": "2024-06-08T09:55:41.667101Z",
     "iopub.status.idle": "2024-06-08T09:59:47.219842Z",
     "shell.execute_reply": "2024-06-08T09:59:47.219230Z"
    },
    "papermill": {
     "duration": 245.570408,
     "end_time": "2024-06-08T09:59:47.223292",
     "exception": false,
     "start_time": "2024-06-08T09:55:41.652884",
     "status": "completed"
    },
    "tags": []
   },
   "outputs": [],
   "source": [
    "engine_cs = BacktestEngine(\n",
    "    start_date=datetime(1985, 1, 1),\n",
    "    strategy=Strategy.DELTA_ONE.value,\n",
    "    instrument=instrument,\n",
    "    signal=signal.CrackSpreadGP1999(\n",
    "        ma_lookback=5,\n",
    "        entry_sigma=2,\n",
    "    ),\n",
    "    weighting=Weighting.SUM.value,\n",
    "    log_level=logging.WARN,\n",
    ")\n",
    "engine_cs.run()"
   ]
  },
  {
   "cell_type": "code",
   "execution_count": null,
   "id": "f08e3ad6",
   "metadata": {
    "papermill": {
     "duration": null,
     "end_time": null,
     "exception": false,
     "start_time": "2024-06-08T09:59:47.237229",
     "status": "running"
    },
    "tags": []
   },
   "outputs": [],
   "source": [
    "levels_cs = engine_cs.calculate_equity_curve(calculate_net=False).rename('Crack spread')"
   ]
  },
  {
   "cell_type": "markdown",
   "id": "46f2eaf9",
   "metadata": {
    "papermill": {
     "duration": null,
     "end_time": null,
     "exception": null,
     "start_time": null,
     "status": "pending"
    },
    "tags": []
   },
   "source": [
    "## Gasoline crack spread"
   ]
  },
  {
   "cell_type": "code",
   "execution_count": null,
   "id": "ea2825c3",
   "metadata": {
    "papermill": {
     "duration": null,
     "end_time": null,
     "exception": null,
     "start_time": null,
     "status": "pending"
    },
    "tags": []
   },
   "outputs": [],
   "source": [
    "max_expiry = 6\n",
    "instrument = []\n",
    "for i in range(1, max_expiry + 1):\n",
    "    xb = InstrumentDef('XB', id=f'XB_{i}', collateral=100_000, roll_rule=RollRule.MONTH_END.value, nth_expiry=i)\n",
    "    cl = InstrumentDef('CL', id=f'CL_{i}', collateral=100_000, roll_rule=RollRule.MONTH_END.value, nth_expiry=i)\n",
    "    instrument.append(xb)\n",
    "    instrument.append(cl)"
   ]
  },
  {
   "cell_type": "code",
   "execution_count": null,
   "id": "553fbe4b",
   "metadata": {
    "papermill": {
     "duration": null,
     "end_time": null,
     "exception": null,
     "start_time": null,
     "status": "pending"
    },
    "tags": []
   },
   "outputs": [],
   "source": [
    "engine_gcs = BacktestEngine(\n",
    "    start_date=datetime(1985, 1, 1),\n",
    "    strategy=Strategy.DELTA_ONE.value,\n",
    "    instrument=instrument,\n",
    "    signal=signal.CrackSpreadGP1999(\n",
    "        weights={'XB': 42 * 1000, 'CL': -1 * 1000},\n",
    "        ma_lookback=5,\n",
    "        entry_sigma=2,\n",
    "    ),\n",
    "    weighting=Weighting.SUM.value,\n",
    "    log_level=logging.WARN,\n",
    ")\n",
    "engine_gcs.run()"
   ]
  },
  {
   "cell_type": "code",
   "execution_count": null,
   "id": "4d87519a",
   "metadata": {
    "papermill": {
     "duration": null,
     "end_time": null,
     "exception": null,
     "start_time": null,
     "status": "pending"
    },
    "tags": []
   },
   "outputs": [],
   "source": [
    "levels_gcs = engine_gcs.calculate_equity_curve(calculate_net=False).rename('Gasoline crack spread')"
   ]
  },
  {
   "cell_type": "markdown",
   "id": "8d456942",
   "metadata": {
    "papermill": {
     "duration": null,
     "end_time": null,
     "exception": null,
     "start_time": null,
     "status": "pending"
    },
    "tags": []
   },
   "source": [
    "## Heating oil crack spread"
   ]
  },
  {
   "cell_type": "code",
   "execution_count": null,
   "id": "9cb7c150",
   "metadata": {
    "papermill": {
     "duration": null,
     "end_time": null,
     "exception": null,
     "start_time": null,
     "status": "pending"
    },
    "tags": []
   },
   "outputs": [],
   "source": [
    "max_expiry = 6\n",
    "instrument = []\n",
    "for i in range(1, max_expiry + 1):\n",
    "    ho = InstrumentDef('HO', id=f'HO_{i}', collateral=100_000, roll_rule=RollRule.MONTH_END.value, nth_expiry=i)\n",
    "    cl = InstrumentDef('CL', id=f'CL_{i}', collateral=100_000, roll_rule=RollRule.MONTH_END.value, nth_expiry=i)\n",
    "    instrument.append(ho)\n",
    "    instrument.append(cl)"
   ]
  },
  {
   "cell_type": "code",
   "execution_count": null,
   "id": "9338a131",
   "metadata": {
    "papermill": {
     "duration": null,
     "end_time": null,
     "exception": null,
     "start_time": null,
     "status": "pending"
    },
    "tags": []
   },
   "outputs": [],
   "source": [
    "engine_hocs = BacktestEngine(\n",
    "    start_date=datetime(1985, 1, 1),\n",
    "    strategy=Strategy.DELTA_ONE.value,\n",
    "    instrument=instrument,\n",
    "    signal=signal.CrackSpreadGP1999(\n",
    "        weights={'HO': 42 * 1000, 'CL': -1 * 1000},\n",
    "        ma_lookback=5,\n",
    "        entry_sigma=2,\n",
    "    ),\n",
    "    weighting=Weighting.SUM.value,\n",
    "    log_level=logging.WARN,\n",
    ")\n",
    "engine_hocs.run()"
   ]
  },
  {
   "cell_type": "code",
   "execution_count": null,
   "id": "64757694",
   "metadata": {
    "papermill": {
     "duration": null,
     "end_time": null,
     "exception": null,
     "start_time": null,
     "status": "pending"
    },
    "tags": []
   },
   "outputs": [],
   "source": [
    "levels_hocs = engine_hocs.calculate_equity_curve(calculate_net=False).rename('Heating oil crack spread')"
   ]
  },
  {
   "cell_type": "markdown",
   "id": "7d427481",
   "metadata": {
    "papermill": {
     "duration": null,
     "end_time": null,
     "exception": null,
     "start_time": null,
     "status": "pending"
    },
    "tags": []
   },
   "source": [
    "## Performance\n",
    "During the sample period tested, a mean-reversion on the crack spread worked well."
   ]
  },
  {
   "cell_type": "code",
   "execution_count": null,
   "id": "348f0796",
   "metadata": {
    "papermill": {
     "duration": null,
     "end_time": null,
     "exception": null,
     "start_time": null,
     "status": "pending"
    },
    "tags": []
   },
   "outputs": [],
   "source": [
    "levels = pd.concat((\n",
    "    levels_cs, levels_gcs, levels_hocs\n",
    "), axis=1)"
   ]
  },
  {
   "cell_type": "code",
   "execution_count": null,
   "id": "bb1a9532-397a-4a5c-ab9e-69866a124386",
   "metadata": {
    "papermill": {
     "duration": null,
     "end_time": null,
     "exception": null,
     "start_time": null,
     "status": "pending"
    },
    "tags": []
   },
   "outputs": [],
   "source": [
    "fig, ax = plt.subplots(figsize=(8, 4.5))\n",
    "levels[:'1994-11'].plot(ax=ax, logy=True);\n",
    "ax.set_title('Crack spreads mean-reversion (GP1999)')\n",
    "ax.set_ylabel('Cumulative returns');"
   ]
  },
  {
   "cell_type": "code",
   "execution_count": null,
   "id": "8b9035a4",
   "metadata": {
    "papermill": {
     "duration": null,
     "end_time": null,
     "exception": null,
     "start_time": null,
     "status": "pending"
    },
    "tags": []
   },
   "outputs": [],
   "source": [
    "levels[:'1994-11'].pipe(Performance).summary()"
   ]
  },
  {
   "cell_type": "markdown",
   "id": "25d81c19",
   "metadata": {
    "papermill": {
     "duration": null,
     "end_time": null,
     "exception": null,
     "start_time": null,
     "status": "pending"
    },
    "tags": []
   },
   "source": [
    "The underperformance in 1990 coincides with a wider divergence on the crack spread which is intuitive."
   ]
  },
  {
   "cell_type": "code",
   "execution_count": null,
   "id": "76538675",
   "metadata": {
    "papermill": {
     "duration": null,
     "end_time": null,
     "exception": null,
     "start_time": null,
     "status": "pending"
    },
    "tags": []
   },
   "outputs": [],
   "source": [
    "pd.concat((\n",
    "    levels_gcs.rename('Gasoline crack spread strategy'),\n",
    "    gcs.rename('GCS')\n",
    "), axis=1)[:'1994-11'].plot(figsize=(8, 5), secondary_y='GCS');"
   ]
  },
  {
   "cell_type": "markdown",
   "id": "e2d431e2",
   "metadata": {
    "papermill": {
     "duration": null,
     "end_time": null,
     "exception": null,
     "start_time": null,
     "status": "pending"
    },
    "tags": []
   },
   "source": [
    "## Long-term performance\n",
    "\n",
    "...however as we saw earlier in the time-series of crack spreads, something must have changed in 2000s and the trading strategies stopped working."
   ]
  },
  {
   "cell_type": "code",
   "execution_count": null,
   "id": "d8a263d6",
   "metadata": {
    "papermill": {
     "duration": null,
     "end_time": null,
     "exception": null,
     "start_time": null,
     "status": "pending"
    },
    "tags": []
   },
   "outputs": [],
   "source": [
    "fig, ax = plt.subplots(figsize=(8, 4.5))\n",
    "levels.plot(ax=ax, logy=True);\n",
    "ax.set_title('Crack spreads mean-reversion (GP1999)')\n",
    "ax.set_ylabel('Cumulative returns');"
   ]
  },
  {
   "cell_type": "code",
   "execution_count": null,
   "id": "b9b01da1",
   "metadata": {
    "papermill": {
     "duration": null,
     "end_time": null,
     "exception": null,
     "start_time": null,
     "status": "pending"
    },
    "tags": []
   },
   "outputs": [],
   "source": [
    "levels.pipe(Performance).summary()"
   ]
  },
  {
   "cell_type": "markdown",
   "id": "e67cc5fa",
   "metadata": {
    "papermill": {
     "duration": null,
     "end_time": null,
     "exception": null,
     "start_time": null,
     "status": "pending"
    },
    "tags": []
   },
   "source": [
    "## Post publication"
   ]
  },
  {
   "cell_type": "code",
   "execution_count": null,
   "id": "94b4f13d",
   "metadata": {
    "papermill": {
     "duration": null,
     "end_time": null,
     "exception": null,
     "start_time": null,
     "status": "pending"
    },
    "tags": []
   },
   "outputs": [],
   "source": [
    "publication_date = datetime(1999, 11, 29)"
   ]
  },
  {
   "cell_type": "code",
   "execution_count": null,
   "id": "1a2e7f9c",
   "metadata": {
    "papermill": {
     "duration": null,
     "end_time": null,
     "exception": null,
     "start_time": null,
     "status": "pending"
    },
    "tags": []
   },
   "outputs": [],
   "source": [
    "fig, ax = plt.subplots(1, 2, figsize=(14, 4))\n",
    "levels.plot(ax=ax[0], logy=True);\n",
    "ax[0].set_title('Crack spreads mean-reversion (GP1999)')\n",
    "ax[0].set_ylabel('Cumulative returns');\n",
    "ax[0].axvline(publication_date, lw=1, ls='--', color='black')\n",
    "ax[0].text(publication_date, 100, 'Publication date ', ha='right')\n",
    "\n",
    "levels.loc[publication_date:].pipe(rebase).plot(ax=ax[1], logy=True);\n",
    "ax[1].set_title('Post publication');"
   ]
  },
  {
   "cell_type": "markdown",
   "id": "d187127a",
   "metadata": {
    "papermill": {
     "duration": null,
     "end_time": null,
     "exception": null,
     "start_time": null,
     "status": "pending"
    },
    "tags": []
   },
   "source": [
    "# Reference\n",
    "- Girma, P.B. and Paulson, A.S., 1999. Risk arbitrage opportunities in petroleum futures spreads. Journal of Futures Markets, 19(8), pp.931-955."
   ]
  },
  {
   "cell_type": "code",
   "execution_count": null,
   "id": "69fe3c8e",
   "metadata": {
    "papermill": {
     "duration": null,
     "end_time": null,
     "exception": null,
     "start_time": null,
     "status": "pending"
    },
    "tags": []
   },
   "outputs": [],
   "source": [
    "print(f'Updated: {datetime.now(pytz.utc):%d-%b-%Y %H:%M}')"
   ]
  }
 ],
 "metadata": {
  "kernelspec": {
   "display_name": "Python 3 (ipykernel)",
   "language": "python",
   "name": "python3"
  },
  "language_info": {
   "codemirror_mode": {
    "name": "ipython",
    "version": 3
   },
   "file_extension": ".py",
   "mimetype": "text/x-python",
   "name": "python",
   "nbconvert_exporter": "python",
   "pygments_lexer": "ipython3",
   "version": "3.12.3"
  },
  "papermill": {
   "default_parameters": {},
   "duration": null,
   "end_time": null,
   "environment_variables": {},
   "exception": null,
   "input_path": "notebooks/papermill/commodity_crack_spread_stat_arb.ipynb",
   "output_path": "notebooks/commodity_crack_spread_stat_arb.ipynb",
   "parameters": {},
   "start_time": "2024-06-08T09:54:44.647285",
   "version": "2.4.0"
  },
  "toc-autonumbering": true
 },
 "nbformat": 4,
 "nbformat_minor": 5
}